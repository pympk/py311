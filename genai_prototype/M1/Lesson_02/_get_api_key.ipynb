{
 "cells": [
  {
   "cell_type": "code",
   "execution_count": 5,
   "id": "561654c7",
   "metadata": {},
   "outputs": [
    {
     "name": "stdout",
     "output_type": "stream",
     "text": [
      "Found .env file at: c:\\Users\\ping\\Files_win10\\python\\py311\\.env\\my_api_key.env\n",
      "API Key loaded successfully!\n"
     ]
    }
   ],
   "source": [
    "import os\n",
    "from dotenv import load_dotenv, find_dotenv\n",
    "\n",
    "# Tell find_dotenv to look for the file 'my_api_key.env' \n",
    "# which is inside a directory called '.env'\n",
    "# It will automatically search upwards from the current directory.\n",
    "env_file_path = find_dotenv(filename=os.path.join('.env', 'my_api_key.env'))\n",
    "\n",
    "if env_file_path:\n",
    "    print(f\"Found .env file at: {env_file_path}\")\n",
    "    load_dotenv(dotenv_path=env_file_path)\n",
    "else:\n",
    "    print(\"Could not find the specified .env file.\")\n",
    "\n",
    "# Access the API key\n",
    "api_key = os.getenv(\"OPENAI_API_KEY\")\n",
    "\n",
    "if api_key:\n",
    "    print(\"API Key loaded successfully!\")\n",
    "else:\n",
    "    print(\"API Key not found. Please check your file and its contents.\")"
   ]
  }
 ],
 "metadata": {
  "kernelspec": {
   "display_name": "py311-py3.11",
   "language": "python",
   "name": "python3"
  },
  "language_info": {
   "codemirror_mode": {
    "name": "ipython",
    "version": 3
   },
   "file_extension": ".py",
   "mimetype": "text/x-python",
   "name": "python",
   "nbconvert_exporter": "python",
   "pygments_lexer": "ipython3",
   "version": "3.11.9"
  }
 },
 "nbformat": 4,
 "nbformat_minor": 5
}
