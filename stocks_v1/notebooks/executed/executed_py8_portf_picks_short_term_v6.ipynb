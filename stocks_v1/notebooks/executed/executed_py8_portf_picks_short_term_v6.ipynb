{
 "cells": [
  {
   "cell_type": "markdown",
   "metadata": {},
   "source": [
    "### Short-Term Portfolio Selection Strategy\n",
    "\n",
    "This notebook executes a quantitative stock selection strategy for short-term mean-reversion opportunities.\n",
    "\n",
    "**Workflow:**\n",
    "1.  **Prerequisites:** The final merged data file for the target date must exist. The core selection logic (`select_short_term_stocks_debug`) and save/load helpers are assumed to be in `src/utils.py`.\n",
    "2.  **Load Data:** Loads the universe of stocks and their features.\n",
    "3.  **Execute Strategy:** Applies a set of predefined filters and a weighted scoring model to the data universe to select a small portfolio of stocks.\n",
    "4.  **Analyze & Save Results:** Enriches the selected portfolio with descriptive data (Company, Industry) and saves the results (portfolio DataFrame and parameters used) to disk.\n",
    "5.  **Verify Calculation:** Performs a manual, step-by-step recalculation of the scores for a single ticker to validate the core logic."
   ]
  },
  {
   "cell_type": "markdown",
   "metadata": {},
   "source": [
    "### Setup and Configuration\n",
    "\n",
    "This cell defines all parameters for the strategy run, including filters, scoring weights, and file paths. **This is the main cell to modify for tuning the strategy.**"
   ]
  },
  {
   "cell_type": "code",
   "execution_count": 1,
   "metadata": {
    "execution": {
     "iopub.execute_input": "2025-06-30T02:01:12.542463Z",
     "iopub.status.busy": "2025-06-30T02:01:12.542463Z",
     "iopub.status.idle": "2025-06-30T02:01:20.048465Z",
     "shell.execute_reply": "2025-06-30T02:01:20.048465Z"
    }
   },
   "outputs": [
    {
     "name": "stdout",
     "output_type": "stream",
     "text": [
      "Executing strategy for Date: 2025-06-26\n",
      "Source file: c:\\Users\\ping\\Files_win10\\python\\py311\\stocks_copy\\data\\2025-06-26_df_finviz_merged_stocks_etfs.parquet\n",
      "Output will be saved with base path: C:\\Users\\ping\\Files_win10\\python\\py311\\stocks_copy\\output\\selection_results\\2025-06-26_short_term_mean_reversion\n"
     ]
    }
   ],
   "source": [
    "# py8_portf_picks_short_term_v6.ipynb\n",
    "\n",
    "import sys\n",
    "from pathlib import Path\n",
    "import pandas as pd\n",
    "import json\n",
    "import numpy as np # Import numpy for the assertion\n",
    "\n",
    "# --- Project Path Setup ---\n",
    "NOTEBOOK_DIR = Path.cwd()\n",
    "ROOT_DIR = NOTEBOOK_DIR.parent if NOTEBOOK_DIR.name == 'notebooks' else NOTEBOOK_DIR\n",
    "if str(ROOT_DIR) not in sys.path:\n",
    "    sys.path.append(str(ROOT_DIR))\n",
    "SRC_DIR = ROOT_DIR / 'src'\n",
    "if str(SRC_DIR) not in sys.path:\n",
    "    sys.path.append(str(SRC_DIR))\n",
    "\n",
    "# --- Dynamic Configuration (from config.py) ---\n",
    "from config import DATE_STR, DEST_DIR\n",
    "import utils # Import your custom utility library\n",
    "\n",
    "# --- Strategy Parameters for THIS RUN ---\n",
    "# These parameters will be passed to the function, overriding its defaults.\n",
    "N_SELECT = 10\n",
    "\n",
    "STRATEGY_FILTERS = {\n",
    "    'min_price': 10.0,\n",
    "    'min_avg_volume_m': 2.0,\n",
    "    'min_roe_pct': 5.0,\n",
    "    'max_debt_eq': 1.5\n",
    "}\n",
    "\n",
    "STRATEGY_SCORING_WEIGHTS = {\n",
    "    'rsi': 0.35,\n",
    "    'change': 0.35,\n",
    "    'rel_volume': 0.20,\n",
    "    'volatility': 0.10\n",
    "}\n",
    "\n",
    "STRATEGY_INV_VOL_COL = 'ATR/Price %'\n",
    "\n",
    "# --- File Path Construction ---\n",
    "DATA_DIR = Path(DEST_DIR)\n",
    "SOURCE_PATH = DATA_DIR / f'{DATE_STR}_df_finviz_merged_stocks_etfs.parquet'\n",
    "OUTPUT_BASE_PATH = ROOT_DIR / 'output' / 'selection_results' / f'{DATE_STR}_short_term_mean_reversion'\n",
    "\n",
    "# --- Notebook Setup ---\n",
    "pd.set_option('display.max_columns', None)\n",
    "pd.set_option('display.width', 2000)\n",
    "pd.set_option('display.max_rows', 200)\n",
    "pd.set_option('display.float_format', '{:.4f}'.format)\n",
    "%load_ext autoreload\n",
    "%autoreload 2\n",
    "\n",
    "# --- Verification ---\n",
    "print(f\"Executing strategy for Date: {DATE_STR}\")\n",
    "print(f\"Source file: {SOURCE_PATH}\")\n",
    "print(f\"Output will be saved with base path: {OUTPUT_BASE_PATH}\")\n",
    "assert abs(sum(STRATEGY_SCORING_WEIGHTS.values()) - 1.0) < 1e-9, \"Scoring weights must sum to 1.0\""
   ]
  },
  {
   "cell_type": "markdown",
   "metadata": {},
   "source": [
    "### Step 1: Load Data Universe\n",
    "\n",
    "Load the complete dataset from which the selection will be made."
   ]
  },
  {
   "cell_type": "code",
   "execution_count": 2,
   "metadata": {
    "execution": {
     "iopub.execute_input": "2025-06-30T02:01:20.141080Z",
     "iopub.status.busy": "2025-06-30T02:01:20.141080Z",
     "iopub.status.idle": "2025-06-30T02:01:20.594828Z",
     "shell.execute_reply": "2025-06-30T02:01:20.594828Z"
    }
   },
   "outputs": [
    {
     "name": "stdout",
     "output_type": "stream",
     "text": [
      "--- Step 1: Loading data from 2025-06-26_df_finviz_merged_stocks_etfs.parquet ---\n",
      "Successfully loaded data for 1525 tickers.\n"
     ]
    }
   ],
   "source": [
    "print(f\"--- Step 1: Loading data from {SOURCE_PATH.name} ---\")\n",
    "\n",
    "try:\n",
    "    df_finviz = pd.read_parquet(SOURCE_PATH)\n",
    "    print(f\"Successfully loaded data for {len(df_finviz)} tickers.\")\n",
    "except FileNotFoundError:\n",
    "    print(f\"ERROR: Source file not found at {SOURCE_PATH}. Halting execution.\")\n",
    "    df_finviz = None"
   ]
  },
  {
   "cell_type": "markdown",
   "metadata": {},
   "source": [
    "### Step 2: Execute Selection Strategy\n",
    "\n",
    "Run the core selection logic using the parameters defined in the setup cell. This function is assumed to be in `utils.py`."
   ]
  },
  {
   "cell_type": "code",
   "execution_count": 3,
   "metadata": {
    "execution": {
     "iopub.execute_input": "2025-06-30T02:01:20.594828Z",
     "iopub.status.busy": "2025-06-30T02:01:20.594828Z",
     "iopub.status.idle": "2025-06-30T02:01:21.005092Z",
     "shell.execute_reply": "2025-06-30T02:01:21.004068Z"
    }
   },
   "outputs": [
    {
     "name": "stdout",
     "output_type": "stream",
     "text": [
      "\n",
      "--- Step 2: Executing stock selection strategy ---\n",
      "\n",
      "Strategy executed successfully. Selected 10 stocks.\n"
     ]
    }
   ],
   "source": [
    "if df_finviz is not None:\n",
    "    print(\"\\n--- Step 2: Executing stock selection strategy ---\")\n",
    "    \n",
    "    # Pass the strategy-specific parameters defined in the setup cell.\n",
    "    df_selected, df_filtered, params_used = utils.select_short_term_stocks_debug(\n",
    "        df_finviz=df_finviz,\n",
    "        n_select=N_SELECT,\n",
    "        filters=STRATEGY_FILTERS,\n",
    "        scoring_weights=STRATEGY_SCORING_WEIGHTS,\n",
    "        inv_vol_col_name=STRATEGY_INV_VOL_COL\n",
    "    )\n",
    "\n",
    "    if df_selected.empty:\n",
    "        print(\"\\nNo stocks were selected based on the current criteria.\")\n",
    "    else:\n",
    "        print(f\"\\nStrategy executed successfully. Selected {len(df_selected)} stocks.\")\n",
    "else:\n",
    "    print(\"\\nSkipping strategy execution because data failed to load.\")\n",
    "    df_selected, df_filtered, params_used = pd.DataFrame(), pd.DataFrame(), {}"
   ]
  },
  {
   "cell_type": "markdown",
   "metadata": {},
   "source": [
    "### Step 3: Analyze and Enrich Results\n",
    "\n",
    "Display the selected stocks and add key descriptive columns from the original Finviz data for better context."
   ]
  },
  {
   "cell_type": "code",
   "execution_count": 4,
   "metadata": {
    "execution": {
     "iopub.execute_input": "2025-06-30T02:01:21.014090Z",
     "iopub.status.busy": "2025-06-30T02:01:21.013091Z",
     "iopub.status.idle": "2025-06-30T02:01:21.361869Z",
     "shell.execute_reply": "2025-06-30T02:01:21.361869Z"
    }
   },
   "outputs": [
    {
     "name": "stdout",
     "output_type": "stream",
     "text": [
      "\n",
      "--- Step 3: Analyzing and enriching selected portfolio ---\n",
      "Top selected stocks with scores and weights:\n",
      "df_display:\n",
      "                            Company                                  Industry  Market Cap, M  Rank  Avg Volume, M  Change %     RSI  Debt/Eq   ROE %  ATR/Price %  Rel Volume    Price   z_RSI  z_Change%  z_RelVolume  z_ATR/Price%  final_score  Weight_EW  Weight_IV  Weight_SW\n",
      "TAP   Molson Coors Beverage Company                       Beverages - Brewers      9610.0000  1093         2.5900    0.0000 16.9400   0.4900  7.9000       2.2650      1.0200  47.2400 -3.4591    -0.6639       0.3201       -0.3910       1.5462     0.1000     0.1010     0.1238\n",
      "ROST               Ross Stores, Inc                            Apparel Retail     41410.0000   384         3.4200   -0.5200 28.0100   0.9000 39.5700       2.4957      1.2200 126.6200 -2.4644    -0.9947       0.8889       -0.1645       1.4049     0.1000     0.0917     0.1125\n",
      "FDX                      Fedex Corp            Integrated Freight & Logistics     52970.0000   304         2.0300   -0.4200 47.3300   1.3300 14.6900       2.4698      2.3200 221.0700 -0.7283    -0.9310       4.0173       -0.1898       1.4032     0.1000     0.0927     0.1123\n",
      "ABT             Abbott Laboratories                           Medical Devices    232560.0000    47         6.7600   -2.7100 49.6000   0.2700 30.6600       1.9900      1.4000 133.6700 -0.5243    -2.3878       1.4008       -0.6611       1.3655     0.1000     0.1150     0.1093\n",
      "CPRT                    Copart, Inc               Specialty Business Services     46650.0000   345         6.5200    0.2100 27.3500   0.0100 18.5400       2.2388      1.0900  48.2400 -2.5237    -0.5303       0.5192       -0.4167       1.2144     0.1000     0.1022     0.0972\n",
      "BF-B              Brown-Forman Corp       Beverages - Wineries & Distilleries     12490.0000   918         4.1500    0.5000 27.6100   0.7000 23.1400       3.4364      1.4000  26.1900 -2.5003    -0.3458       1.4008        0.7595       1.2004     0.1000     0.0666     0.0961\n",
      "KHC                  Kraft Heinz Co                            Packaged Foods     30520.0000   481        11.5000    0.2300 35.8800   0.4400  5.3600       1.8612      1.4000  25.7900 -1.7572    -0.5176       1.4008       -0.7876       1.1551     0.1000     0.1230     0.0925\n",
      "EBAY                       EBay Inc                           Internet Retail     33970.0000   447         5.7700   -1.1300 42.9500   1.4500 36.4800       2.1580      1.2100  73.6800 -1.1219    -1.3827       0.8605       -0.4961       1.0983     0.1000     0.1061     0.0879\n",
      "ZTS                      Zoetis Inc  Drug Manufacturers - Specialty & Generic     69360.0000   238         3.0000   -0.9200 38.9800   1.4500 51.8500       2.4328      1.0400 155.7900 -1.4786    -1.2491       0.3770       -0.2262       1.0527     0.1000     0.0941     0.0843\n",
      "ZBH      Zimmer Biomet Holdings Inc                           Medical Devices     18150.0000   716         2.3100   -1.1300 44.7500   0.5800  7.3100       2.1256      1.2200  91.7400 -0.9602    -1.3827       0.8889       -0.5279       1.0506     0.1000     0.1077     0.0841\n"
     ]
    }
   ],
   "source": [
    "if not df_selected.empty:\n",
    "    print(\"\\n--- Step 3: Analyzing and enriching selected portfolio ---\")\n",
    "\n",
    "    # Add key descriptive columns for context\n",
    "    cols_to_add = ['Company', 'Industry', 'Market Cap, M', 'Rank']    \n",
    "    df_display = utils.add_columns_from_source(\n",
    "        base_df=df_selected,\n",
    "        source_df=df_finviz,\n",
    "        cols_to_add=cols_to_add,\n",
    "        match_on_base_index=True\n",
    "    )\n",
    "    \n",
    "    # # --- FIX: Use the variable defined in the setup cell ---\n",
    "    # # The variable `STRATEGY_INV_VOL_COL` was defined in our setup cell.\n",
    "    # display_cols = cols_to_add + [\n",
    "    #     'final_score', 'Weight_EW', 'Weight_IV', 'Weight_SW', \n",
    "    #     'RSI', 'Change %', 'Rel Volume', STRATEGY_INV_VOL_COL\n",
    "    # ]\n",
    "    \n",
    "    print(\"Top selected stocks with scores and weights:\")\n",
    "    # display(df_display[display_cols])\n",
    "    # display(df_display)   \n",
    "    print(f'df_display:\\n{df_display}')  \n",
    "else:\n",
    "    print(\"\\nNo results to analyze.\")"
   ]
  },
  {
   "cell_type": "markdown",
   "metadata": {},
   "source": [
    "### Step 4: Save Selection Results\n",
    "\n",
    "Save the portfolio DataFrame (Parquet and CSV) and the parameters used (JSON) for record-keeping and backtesting."
   ]
  },
  {
   "cell_type": "code",
   "execution_count": 5,
   "metadata": {
    "execution": {
     "iopub.execute_input": "2025-06-30T02:01:21.361869Z",
     "iopub.status.busy": "2025-06-30T02:01:21.361869Z",
     "iopub.status.idle": "2025-06-30T02:01:21.709096Z",
     "shell.execute_reply": "2025-06-30T02:01:21.707078Z"
    }
   },
   "outputs": [
    {
     "name": "stdout",
     "output_type": "stream",
     "text": [
      "\n",
      "--- Step 4: Saving selection results and parameters ---\n",
      "Results saved successfully with base path: C:\\Users\\ping\\Files_win10\\python\\py311\\stocks_copy\\output\\selection_results\\2025-06-26_short_term_mean_reversion\n"
     ]
    }
   ],
   "source": [
    "# --- Explicitly name the index before saving or displaying. --\n",
    "df_selected.index.name = 'Ticker'\n",
    "\n",
    "if not df_selected.empty:\n",
    "    print(\"\\n--- Step 4: Saving selection results and parameters ---\")\n",
    "\n",
    "    save_successful = utils.save_selection_results(\n",
    "        df_selected=df_selected,       \n",
    "        parameters_used=params_used,\n",
    "        base_filepath=str(OUTPUT_BASE_PATH), # Convert Path to string for the function\n",
    "        save_csv=True\n",
    "    )\n",
    "\n",
    "    if save_successful:\n",
    "        print(f\"Results saved successfully with base path: {OUTPUT_BASE_PATH}\")\n",
    "else:\n",
    "    print(\"\\nNo results to save.\")"
   ]
  },
  {
   "cell_type": "markdown",
   "metadata": {},
   "source": [
    "### Step 5: Verify Calculation Logic\n",
    "\n",
    "This section performs a manual, step-by-step recalculation for a single ticker to validate the primary function's logic. This is excellent for debugging and ensuring correctness."
   ]
  },
  {
   "cell_type": "code",
   "execution_count": 6,
   "metadata": {
    "execution": {
     "iopub.execute_input": "2025-06-30T02:01:21.710287Z",
     "iopub.status.busy": "2025-06-30T02:01:21.710287Z",
     "iopub.status.idle": "2025-06-30T02:01:22.032034Z",
     "shell.execute_reply": "2025-06-30T02:01:22.032034Z"
    }
   },
   "outputs": [
    {
     "name": "stdout",
     "output_type": "stream",
     "text": [
      "\n",
      "--- Step 5: Verifying calculation for a sample ticker ---\n",
      "Verifying scores for ticker: TAP\n",
      "\n",
      "Factor: rsi (RSI)\n",
      "  - Value: 16.9400, Mean: 55.4351, Std: 11.1285\n",
      "  - Manual Z-Score: -3.4591\n",
      "  - Function Z-Score: -3.4591\n",
      "\n",
      "Factor: change (Change %)\n",
      "  - Value: 0.0000, Mean: 1.0436, Std: 1.5720\n",
      "  - Manual Z-Score: -0.6639\n",
      "  - Function Z-Score: -0.6639\n",
      "\n",
      "Factor: rel_volume (Rel Volume)\n",
      "  - Value: 1.0200, Mean: 0.9074, Std: 0.3516\n",
      "  - Manual Z-Score: 0.3201\n",
      "  - Function Z-Score: 0.3201\n",
      "\n",
      "Factor: volatility (ATR/Price %)\n",
      "  - Value: 2.2650, Mean: 2.6631, Std: 1.0182\n",
      "  - Manual Z-Score: -0.3910\n",
      "  - Function Z-Score: -0.3910\n",
      "\n",
      "--- Final Score Comparison ---\n",
      "Manual Final Score Calculation: 1.5462\n",
      "Function Final Score from DataFrame: 1.5462\n",
      "\n",
      "Verification successful!\n"
     ]
    }
   ],
   "source": [
    "if not df_selected.empty and not df_filtered.empty:\n",
    "    print(\"\\n--- Step 5: Verifying calculation for a sample ticker ---\")\n",
    "    \n",
    "    # Pick a sample ticker from the results\n",
    "    sample_ticker = df_selected.index[0]\n",
    "    print(f\"Verifying scores for ticker: {sample_ticker}\")\n",
    "\n",
    "    # Manually calculate the Z-score for each component\n",
    "    z_score_calcs = {}\n",
    "    for factor, col_name in {'rsi': 'RSI', 'change': 'Change %', 'rel_volume': 'Rel Volume', 'volatility': 'ATR/Price %'}.items():\n",
    "        value = df_filtered.loc[sample_ticker, col_name]\n",
    "        mean = df_filtered[col_name].mean()\n",
    "        std = df_filtered[col_name].std(ddof=0) # Use population std dev to match zscore\n",
    "        z_score = (value - mean) / std\n",
    "        z_score_calcs[factor] = z_score\n",
    "        \n",
    "        # --- FIX: Construct the z-score column name outside the f-string ---\n",
    "        z_col_name = f'z_{col_name.replace(\" \", \"\")}'\n",
    "        \n",
    "        print(f\"\\nFactor: {factor} ({col_name})\")\n",
    "        print(f\"  - Value: {value:.4f}, Mean: {mean:.4f}, Std: {std:.4f}\")\n",
    "        print(f\"  - Manual Z-Score: {z_score:.4f}\")\n",
    "        # Now use the clean variable in the f-string\n",
    "        print(f\"  - Function Z-Score: {df_selected.loc[sample_ticker, z_col_name]:.4f}\")\n",
    "\n",
    "    # Manually calculate the final weighted score\n",
    "    manual_final_score = (\n",
    "        z_score_calcs['rsi'] * STRATEGY_SCORING_WEIGHTS['rsi'] * (-1) +\n",
    "        z_score_calcs['change'] * STRATEGY_SCORING_WEIGHTS['change'] * (-1) +\n",
    "        z_score_calcs['rel_volume'] * STRATEGY_SCORING_WEIGHTS['rel_volume'] * (1) +\n",
    "        z_score_calcs['volatility'] * STRATEGY_SCORING_WEIGHTS['volatility'] * (-1)\n",
    "    )\n",
    "\n",
    "    print(\"\\n--- Final Score Comparison ---\")\n",
    "    print(f\"Manual Final Score Calculation: {manual_final_score:.4f}\")\n",
    "    print(f\"Function Final Score from DataFrame: {df_selected.loc[sample_ticker, 'final_score']:.4f}\")\n",
    "\n",
    "    # Assert that the manual calculation is close to the function's result\n",
    "    assert np.isclose(manual_final_score, df_selected.loc[sample_ticker, 'final_score']), \"Verification failed: Manual score does not match function score!\"\n",
    "    print(\"\\nVerification successful!\")\n",
    "\n",
    "else:\n",
    "    print(\"\\nSkipping verification step.\")"
   ]
  }
 ],
 "metadata": {
  "kernelspec": {
   "display_name": ".venv",
   "language": "python",
   "name": "python3"
  },
  "language_info": {
   "codemirror_mode": {
    "name": "ipython",
    "version": 3
   },
   "file_extension": ".py",
   "mimetype": "text/x-python",
   "name": "python",
   "nbconvert_exporter": "python",
   "pygments_lexer": "ipython3",
   "version": "3.11.9"
  }
 },
 "nbformat": 4,
 "nbformat_minor": 2
}
