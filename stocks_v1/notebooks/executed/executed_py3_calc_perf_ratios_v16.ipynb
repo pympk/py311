{
 "cells": [
  {
   "cell_type": "code",
   "execution_count": null,
   "metadata": {},
   "outputs": [],
   "source": []
  },
  {
   "cell_type": "markdown",
   "metadata": {},
   "source": [
    "### Performance Ratio Calculation Pipeline\n",
    "\n",
    "This notebook calculates various performance metrics (Sharpe, Sortino, Omega) over multiple time horizons for a given set of tickers.\n",
    "\n",
    "**Workflow:**\n",
    "\n",
    "1.  **Prerequisites:** A cleaned OHLCV data file (`df_OHLCV_clean_stocks_etfs.parquet`) must exist. The `config.py` file must be up-to-date with the desired `DATE_STR` and `ANNUAL_RISK_FREE_RATE`.\n",
    "2.  **Load Data:** Loads the cleaned OHLCV data.\n",
    "3.  **Prepare Data Windows:** Slices the data up to the `DATE_STR` and creates a list of DataFrames, each corresponding to a different time window (e.g., 3 days, 5 days, 250 days).\n",
    "4.  **Calculate Ratios:** Iterates through each data window and ticker to calculate the performance ratios.\n",
    "5.  **Clean Results:** Handles any `NaN` or infinite values that result from the calculations (e.g., due to zero volatility).\n",
    "6.  **Save & Verify:** Saves the final DataFrame of ratios to a Parquet file and displays a sample for verification.\n"
   ]
  },
  {
   "cell_type": "markdown",
   "metadata": {},
   "source": [
    "### Setup and Configuration\n",
    "\n",
    "This cell loads all necessary libraries and configuration parameters. It pulls dynamic settings from `config.py` and defines static settings for this specific notebook.\n"
   ]
  },
  {
   "cell_type": "code",
   "execution_count": 1,
   "metadata": {
    "execution": {
     "iopub.execute_input": "2025-06-30T01:58:13.228994Z",
     "iopub.status.busy": "2025-06-30T01:58:13.227995Z",
     "iopub.status.idle": "2025-06-30T01:58:17.299889Z",
     "shell.execute_reply": "2025-06-30T01:58:17.298879Z"
    }
   },
   "outputs": [
    {
     "name": "stdout",
     "output_type": "stream",
     "text": [
      "Processing for Date: 2025-06-26\n",
      "Annual Risk-Free Rate: 0.04\n",
      "Source file: c:\\Users\\ping\\Files_win10\\python\\py311\\stocks_copy\\data\\df_OHLCV_clean_stocks_etfs.parquet\n",
      "Destination file: c:\\Users\\ping\\Files_win10\\python\\py311\\stocks_copy\\data\\2025-06-26_df_perf_ratios_stocks_etfs.parquet\n"
     ]
    }
   ],
   "source": [
    "import sys\n",
    "from pathlib import Path\n",
    "import pandas as pd\n",
    "import numpy as np\n",
    "from tabulate import tabulate\n",
    "\n",
    "# --- Project Path Setup ---\n",
    "NOTEBOOK_DIR = Path.cwd()\n",
    "ROOT_DIR = NOTEBOOK_DIR.parent if NOTEBOOK_DIR.name == 'notebooks' else NOTEBOOK_DIR\n",
    "if str(ROOT_DIR) not in sys.path:\n",
    "    sys.path.append(str(ROOT_DIR))\n",
    "SRC_DIR = ROOT_DIR / 'src'\n",
    "if str(SRC_DIR) not in sys.path:\n",
    "    sys.path.append(str(SRC_DIR))\n",
    "\n",
    "# --- Dynamic Configuration (from config.py) ---\n",
    "from config import DATE_STR, DEST_DIR, ANNUAL_RISK_FREE_RATE\n",
    "import utils\n",
    "\n",
    "# --- Static Configuration for this Notebook ---\n",
    "# Define the time windows (in days) for which to calculate ratios.\n",
    "DAYS_RATIO = [3, 5, 10, 15, 30, 60, 120, 250]\n",
    "\n",
    "# Define a list of key symbols to display in the final verification step.\n",
    "# SAMPLE_SYMBOLS = ['AAPL', 'MSFT', 'GOOG', 'NVDA', 'AMZN', 'TSLA', 'META', 'GLD', 'MSTR', 'IBIT']\n",
    "SAMPLE_SYMBOLS = [\n",
    "    'AAPL', 'MSFT', 'GOOG', 'NVDA', 'AMZN', 'TSLA', \n",
    "     'META', 'GLD', 'MSTR', 'IBIT', 'SHOP', 'VGT',\n",
    "     'ORCl', 'SNOW', 'COIN', \n",
    "    ]\n",
    "\n",
    "# --- File Path Construction ---\n",
    "# The source file is the cleaned OHLCV data.\n",
    "SOURCE_PATH = Path(DEST_DIR) / 'df_OHLCV_clean_stocks_etfs.parquet'\n",
    "# The destination file will store the calculated performance ratios for the given DATE_STR.\n",
    "DEST_PATH = Path(DEST_DIR) / f'{DATE_STR}_df_perf_ratios_stocks_etfs.parquet'\n",
    "\n",
    "# --- Notebook Setup ---\n",
    "pd.set_option('display.max_columns', None)\n",
    "pd.set_option('display.width', 2500)\n",
    "%load_ext autoreload\n",
    "%autoreload 2\n",
    "\n",
    "# --- Verification ---\n",
    "print(f\"Processing for Date: {DATE_STR}\")\n",
    "print(f\"Annual Risk-Free Rate: {ANNUAL_RISK_FREE_RATE}\")\n",
    "print(f\"Source file: {SOURCE_PATH}\")\n",
    "print(f\"Destination file: {DEST_PATH}\")"
   ]
  },
  {
   "cell_type": "markdown",
   "metadata": {},
   "source": [
    "### Step 1: Load Source Data\n",
    "\n",
    "Load the cleaned OHLCV data, which serves as the single source of truth for prices and the list of valid tickers."
   ]
  },
  {
   "cell_type": "code",
   "execution_count": 2,
   "metadata": {
    "execution": {
     "iopub.execute_input": "2025-06-30T01:58:17.360047Z",
     "iopub.status.busy": "2025-06-30T01:58:17.360047Z",
     "iopub.status.idle": "2025-06-30T01:58:17.790197Z",
     "shell.execute_reply": "2025-06-30T01:58:17.789162Z"
    }
   },
   "outputs": [
    {
     "name": "stdout",
     "output_type": "stream",
     "text": [
      "--- Step 1: Loading data from df_OHLCV_clean_stocks_etfs.parquet ---\n"
     ]
    },
    {
     "name": "stdout",
     "output_type": "stream",
     "text": [
      "Successfully loaded data for 1559 tickers.\n",
      "<class 'pandas.core.frame.DataFrame'>\n",
      "MultiIndex: 547209 entries, ('A', Timestamp('2025-06-26 00:00:00')) to ('ZWS', Timestamp('2024-02-01 00:00:00'))\n",
      "Data columns (total 1 columns):\n",
      " #   Column     Non-Null Count   Dtype  \n",
      "---  ------     --------------   -----  \n",
      " 0   Adj Close  547209 non-null  float64\n",
      "dtypes: float64(1)\n",
      "memory usage: 6.3+ MB\n"
     ]
    }
   ],
   "source": [
    "print(f\"--- Step 1: Loading data from {SOURCE_PATH.name} ---\")\n",
    "\n",
    "try:\n",
    "    df_ohlcv = pd.read_parquet(SOURCE_PATH, engine='pyarrow')\n",
    "    # Extract only the 'Adj Close' column needed for ratio calculations.\n",
    "    df_adj_close = df_ohlcv[['Adj Close']].copy()\n",
    "    \n",
    "    # The list of tickers is derived directly from the cleaned data.\n",
    "    tickers = df_adj_close.index.get_level_values('Ticker').unique().tolist()\n",
    "    \n",
    "    print(f\"Successfully loaded data for {len(tickers)} tickers.\")\n",
    "    df_adj_close.info()\n",
    "    \n",
    "except FileNotFoundError:\n",
    "    print(f\"ERROR: Source file not found at {SOURCE_PATH}. Halting execution.\")\n",
    "    df_adj_close = None\n",
    "except Exception as e:\n",
    "    print(f\"An error occurred during file loading: {e}\")\n",
    "    df_adj_close = None"
   ]
  },
  {
   "cell_type": "markdown",
   "metadata": {},
   "source": [
    "### Step 2: Prepare Data Windows for Analysis\n",
    "\n",
    "This step filters the data up to the target `DATE_STR` and then splits it into multiple DataFrames, one for each period defined in `DAYS_RATIO`.\n"
   ]
  },
  {
   "cell_type": "code",
   "execution_count": 3,
   "metadata": {
    "execution": {
     "iopub.execute_input": "2025-06-30T01:58:17.794531Z",
     "iopub.status.busy": "2025-06-30T01:58:17.793531Z",
     "iopub.status.idle": "2025-06-30T01:58:30.929130Z",
     "shell.execute_reply": "2025-06-30T01:58:30.928250Z"
    }
   },
   "outputs": [
    {
     "name": "stdout",
     "output_type": "stream",
     "text": [
      "\n",
      "--- Step 2: Preparing data windows for date 2025-06-26 ---\n"
     ]
    },
    {
     "name": "stdout",
     "output_type": "stream",
     "text": [
      "Created 8 data windows for the following periods: [3, 5, 10, 15, 30, 60, 120, 250]\n",
      "Sample: Window 1 ('3d') for ticker 'A' has 3 rows.\n"
     ]
    }
   ],
   "source": [
    "def prepare_data_windows(df, end_date, days_ratio_list):\n",
    "    \"\"\"\n",
    "    Filters data up to an end_date and creates data windows. It also handles\n",
    "    the inconsistency between this notebook's 'Ticker' index name and the\n",
    "    utility function's expected 'Symbol' index name.\n",
    "    \"\"\"\n",
    "    # Filter data to include only dates up to and including the end_date.\n",
    "    end_date_ts = pd.to_datetime(end_date)\n",
    "    filtered_df = df[df.index.get_level_values('Date') <= end_date_ts]\n",
    "    \n",
    "    # --- FIX: Adapt to the utility function's expectation ---\n",
    "    # Temporarily rename the 'Ticker' level to 'Symbol' before passing to the util.\n",
    "    df_for_utils = filtered_df.rename_axis(index={'Ticker': 'Symbol'})\n",
    "    \n",
    "    # Generate the list of DataFrames for each time window.\n",
    "    windows_with_symbol_index = utils.get_latest_dfs(df_for_utils, days_ratio_list)\n",
    "    \n",
    "    # --- FIX: Adapt the result back to our standard ---\n",
    "    # Rename the 'Symbol' level back to 'Ticker' in the results for consistency.\n",
    "    windows_with_ticker_index = [\n",
    "        win.rename_axis(index={'Symbol': 'Ticker'}) for win in windows_with_symbol_index\n",
    "    ]\n",
    "    \n",
    "    return windows_with_ticker_index\n",
    "\n",
    "if df_adj_close is not None:\n",
    "    print(f\"\\n--- Step 2: Preparing data windows for date {DATE_STR} ---\")\n",
    "    list_of_data_windows = prepare_data_windows(df_adj_close, DATE_STR, DAYS_RATIO)\n",
    "    print(f\"Created {len(list_of_data_windows)} data windows for the following periods: {DAYS_RATIO}\")\n",
    "    # Example: Check the length of the first window for the first ticker\n",
    "    sample_ticker = list_of_data_windows[0].index.get_level_values('Ticker')[0]\n",
    "    print(f\"Sample: Window 1 ('{DAYS_RATIO[0]}d') for ticker '{sample_ticker}' has {len(list_of_data_windows[0].loc[sample_ticker])} rows.\")\n",
    "else:\n",
    "    print(\"Skipping step because source data failed to load.\")\n",
    "    list_of_data_windows = []"
   ]
  },
  {
   "cell_type": "markdown",
   "metadata": {},
   "source": [
    "### Step 3: Calculate Performance Ratios\n",
    "\n",
    "Iterate through each data window and ticker, calculating the full suite of performance metrics using the `analyze_stock` utility function."
   ]
  },
  {
   "cell_type": "code",
   "execution_count": 4,
   "metadata": {
    "execution": {
     "iopub.execute_input": "2025-06-30T01:58:30.932724Z",
     "iopub.status.busy": "2025-06-30T01:58:30.932199Z",
     "iopub.status.idle": "2025-06-30T01:59:26.487494Z",
     "shell.execute_reply": "2025-06-30T01:59:26.486453Z"
    }
   },
   "outputs": [
    {
     "name": "stdout",
     "output_type": "stream",
     "text": [
      "\n",
      "--- Step 3: Calculating performance ratios ---\n"
     ]
    },
    {
     "name": "stdout",
     "output_type": "stream",
     "text": [
      "Successfully calculated ratios for 1559 tickers.\n"
     ]
    },
    {
     "data": {
      "text/html": [
       "<div>\n",
       "<style scoped>\n",
       "    .dataframe tbody tr th:only-of-type {\n",
       "        vertical-align: middle;\n",
       "    }\n",
       "\n",
       "    .dataframe tbody tr th {\n",
       "        vertical-align: top;\n",
       "    }\n",
       "\n",
       "    .dataframe thead th {\n",
       "        text-align: right;\n",
       "    }\n",
       "</style>\n",
       "<table border=\"1\" class=\"dataframe\">\n",
       "  <thead>\n",
       "    <tr style=\"text-align: right;\">\n",
       "      <th></th>\n",
       "      <th>Sharpe 3d</th>\n",
       "      <th>Sortino 3d</th>\n",
       "      <th>Omega 3d</th>\n",
       "      <th>Sharpe 5d</th>\n",
       "      <th>Sortino 5d</th>\n",
       "      <th>Omega 5d</th>\n",
       "      <th>Sharpe 10d</th>\n",
       "      <th>Sortino 10d</th>\n",
       "      <th>Omega 10d</th>\n",
       "      <th>Sharpe 15d</th>\n",
       "      <th>Sortino 15d</th>\n",
       "      <th>Omega 15d</th>\n",
       "      <th>Sharpe 30d</th>\n",
       "      <th>Sortino 30d</th>\n",
       "      <th>Omega 30d</th>\n",
       "      <th>Sharpe 60d</th>\n",
       "      <th>Sortino 60d</th>\n",
       "      <th>Omega 60d</th>\n",
       "      <th>Sharpe 120d</th>\n",
       "      <th>Sortino 120d</th>\n",
       "      <th>Omega 120d</th>\n",
       "      <th>Sharpe 250d</th>\n",
       "      <th>Sortino 250d</th>\n",
       "      <th>Omega 250d</th>\n",
       "    </tr>\n",
       "  </thead>\n",
       "  <tbody>\n",
       "    <tr>\n",
       "      <th>A</th>\n",
       "      <td>104.426995</td>\n",
       "      <td>inf</td>\n",
       "      <td>NaN</td>\n",
       "      <td>37.158656</td>\n",
       "      <td>inf</td>\n",
       "      <td>NaN</td>\n",
       "      <td>0.469487</td>\n",
       "      <td>0.638104</td>\n",
       "      <td>1.078865</td>\n",
       "      <td>3.600093</td>\n",
       "      <td>6.276409</td>\n",
       "      <td>1.781599</td>\n",
       "      <td>2.373323</td>\n",
       "      <td>3.601446</td>\n",
       "      <td>1.461693</td>\n",
       "      <td>0.580747</td>\n",
       "      <td>0.842067</td>\n",
       "      <td>1.108896</td>\n",
       "      <td>-0.605137</td>\n",
       "      <td>-0.841972</td>\n",
       "      <td>0.898216</td>\n",
       "      <td>-0.271938</td>\n",
       "      <td>-0.387587</td>\n",
       "      <td>0.953178</td>\n",
       "    </tr>\n",
       "    <tr>\n",
       "      <th>AA</th>\n",
       "      <td>5.360840</td>\n",
       "      <td>20.523169</td>\n",
       "      <td>2.828349</td>\n",
       "      <td>8.056678</td>\n",
       "      <td>26.517532</td>\n",
       "      <td>4.340895</td>\n",
       "      <td>2.355741</td>\n",
       "      <td>5.448725</td>\n",
       "      <td>1.475309</td>\n",
       "      <td>3.594883</td>\n",
       "      <td>8.288127</td>\n",
       "      <td>1.892507</td>\n",
       "      <td>0.405937</td>\n",
       "      <td>0.696708</td>\n",
       "      <td>1.069158</td>\n",
       "      <td>0.236568</td>\n",
       "      <td>0.344787</td>\n",
       "      <td>1.044475</td>\n",
       "      <td>-0.660405</td>\n",
       "      <td>-0.908197</td>\n",
       "      <td>0.890239</td>\n",
       "      <td>-0.296190</td>\n",
       "      <td>-0.418382</td>\n",
       "      <td>0.950903</td>\n",
       "    </tr>\n",
       "    <tr>\n",
       "      <th>AAL</th>\n",
       "      <td>-7.101456</td>\n",
       "      <td>-8.699311</td>\n",
       "      <td>0.225004</td>\n",
       "      <td>6.282178</td>\n",
       "      <td>13.867913</td>\n",
       "      <td>2.747193</td>\n",
       "      <td>1.250632</td>\n",
       "      <td>1.987021</td>\n",
       "      <td>1.223950</td>\n",
       "      <td>-0.216671</td>\n",
       "      <td>-0.304571</td>\n",
       "      <td>0.964787</td>\n",
       "      <td>-1.143066</td>\n",
       "      <td>-1.565561</td>\n",
       "      <td>0.819012</td>\n",
       "      <td>0.747769</td>\n",
       "      <td>1.172916</td>\n",
       "      <td>1.166286</td>\n",
       "      <td>-1.210182</td>\n",
       "      <td>-1.699665</td>\n",
       "      <td>0.792537</td>\n",
       "      <td>0.159094</td>\n",
       "      <td>0.246515</td>\n",
       "      <td>1.030997</td>\n",
       "    </tr>\n",
       "    <tr>\n",
       "      <th>AAON</th>\n",
       "      <td>-43.994344</td>\n",
       "      <td>-15.381731</td>\n",
       "      <td>0.000000</td>\n",
       "      <td>2.207409</td>\n",
       "      <td>4.485213</td>\n",
       "      <td>1.412376</td>\n",
       "      <td>-4.076392</td>\n",
       "      <td>-4.898544</td>\n",
       "      <td>0.551893</td>\n",
       "      <td>-6.402824</td>\n",
       "      <td>-6.196458</td>\n",
       "      <td>0.164242</td>\n",
       "      <td>-5.811487</td>\n",
       "      <td>-5.681979</td>\n",
       "      <td>0.227614</td>\n",
       "      <td>-0.403108</td>\n",
       "      <td>-0.541233</td>\n",
       "      <td>0.926332</td>\n",
       "      <td>-1.294311</td>\n",
       "      <td>-1.550582</td>\n",
       "      <td>0.771598</td>\n",
       "      <td>-0.116792</td>\n",
       "      <td>-0.153339</td>\n",
       "      <td>0.976477</td>\n",
       "    </tr>\n",
       "    <tr>\n",
       "      <th>AAPL</th>\n",
       "      <td>3.954315</td>\n",
       "      <td>12.209920</td>\n",
       "      <td>2.087746</td>\n",
       "      <td>-0.430360</td>\n",
       "      <td>-0.690943</td>\n",
       "      <td>0.934764</td>\n",
       "      <td>1.223833</td>\n",
       "      <td>2.043556</td>\n",
       "      <td>1.218296</td>\n",
       "      <td>0.054402</td>\n",
       "      <td>0.079755</td>\n",
       "      <td>1.008495</td>\n",
       "      <td>-2.496575</td>\n",
       "      <td>-3.171365</td>\n",
       "      <td>0.660930</td>\n",
       "      <td>-0.692253</td>\n",
       "      <td>-1.047685</td>\n",
       "      <td>0.863789</td>\n",
       "      <td>-0.875571</td>\n",
       "      <td>-1.254318</td>\n",
       "      <td>0.839768</td>\n",
       "      <td>-0.148363</td>\n",
       "      <td>-0.210220</td>\n",
       "      <td>0.971288</td>\n",
       "    </tr>\n",
       "  </tbody>\n",
       "</table>\n",
       "</div>"
      ],
      "text/plain": [
       "       Sharpe 3d  Sortino 3d  Omega 3d  Sharpe 5d  Sortino 5d  Omega 5d  Sharpe 10d  Sortino 10d  Omega 10d  Sharpe 15d  Sortino 15d  Omega 15d  Sharpe 30d  Sortino 30d  Omega 30d  Sharpe 60d  Sortino 60d  Omega 60d  Sharpe 120d  Sortino 120d  Omega 120d  Sharpe 250d  Sortino 250d  Omega 250d\n",
       "A     104.426995         inf       NaN  37.158656         inf       NaN    0.469487     0.638104   1.078865    3.600093     6.276409   1.781599    2.373323     3.601446   1.461693    0.580747     0.842067   1.108896    -0.605137     -0.841972    0.898216    -0.271938     -0.387587    0.953178\n",
       "AA      5.360840   20.523169  2.828349   8.056678   26.517532  4.340895    2.355741     5.448725   1.475309    3.594883     8.288127   1.892507    0.405937     0.696708   1.069158    0.236568     0.344787   1.044475    -0.660405     -0.908197    0.890239    -0.296190     -0.418382    0.950903\n",
       "AAL    -7.101456   -8.699311  0.225004   6.282178   13.867913  2.747193    1.250632     1.987021   1.223950   -0.216671    -0.304571   0.964787   -1.143066    -1.565561   0.819012    0.747769     1.172916   1.166286    -1.210182     -1.699665    0.792537     0.159094      0.246515    1.030997\n",
       "AAON  -43.994344  -15.381731  0.000000   2.207409    4.485213  1.412376   -4.076392    -4.898544   0.551893   -6.402824    -6.196458   0.164242   -5.811487    -5.681979   0.227614   -0.403108    -0.541233   0.926332    -1.294311     -1.550582    0.771598    -0.116792     -0.153339    0.976477\n",
       "AAPL    3.954315   12.209920  2.087746  -0.430360   -0.690943  0.934764    1.223833     2.043556   1.218296    0.054402     0.079755   1.008495   -2.496575    -3.171365   0.660930   -0.692253    -1.047685   0.863789    -0.875571     -1.254318    0.839768    -0.148363     -0.210220    0.971288"
      ]
     },
     "metadata": {},
     "output_type": "display_data"
    }
   ],
   "source": [
    "def calculate_all_ratios(data_windows, risk_free_rate):\n",
    "    \"\"\"Calculates performance ratios for all tickers across all data windows.\"\"\"\n",
    "    all_results = {}\n",
    "    for df_window in data_windows:\n",
    "        tickers_in_window = df_window.index.get_level_values('Ticker').unique()\n",
    "        for ticker in tickers_in_window:\n",
    "            # Suppress division-by-zero warnings during calculation.\n",
    "            with np.errstate(divide='ignore', invalid='ignore'):\n",
    "                result_df = utils.analyze_stock(df_window, ticker, risk_free_rate=risk_free_rate)\n",
    "            \n",
    "            if result_df is not None:\n",
    "                ticker_name = result_df.index[0]\n",
    "                metrics = result_df.iloc[0].to_dict()\n",
    "                all_results.setdefault(ticker_name, {}).update(metrics)\n",
    "                \n",
    "    if not all_results:\n",
    "        return pd.DataFrame()\n",
    "        \n",
    "    return pd.DataFrame.from_dict(all_results, orient='index')\n",
    "\n",
    "if list_of_data_windows:\n",
    "    print(\"\\n--- Step 3: Calculating performance ratios ---\")\n",
    "    df_ratios_raw = calculate_all_ratios(list_of_data_windows, ANNUAL_RISK_FREE_RATE)\n",
    "    print(f\"Successfully calculated ratios for {len(df_ratios_raw)} tickers.\")\n",
    "    display(df_ratios_raw.head())\n",
    "else:\n",
    "    print(\"Skipping calculation because no data windows were prepared.\")\n",
    "    df_ratios_raw = pd.DataFrame()"
   ]
  },
  {
   "cell_type": "markdown",
   "metadata": {},
   "source": [
    "### Step 4: Clean Results by Handling Infinite and NaN Values\n",
    "\n",
    "The ratio calculations can produce `Inf` or `NaN` values (e.g., if volatility is zero). This step replaces them with reasonable boundary values (the min/max of the finite values in each column).\n"
   ]
  },
  {
   "cell_type": "code",
   "execution_count": 5,
   "metadata": {
    "execution": {
     "iopub.execute_input": "2025-06-30T01:59:26.491806Z",
     "iopub.status.busy": "2025-06-30T01:59:26.490848Z",
     "iopub.status.idle": "2025-06-30T01:59:26.687108Z",
     "shell.execute_reply": "2025-06-30T01:59:26.686324Z"
    }
   },
   "outputs": [
    {
     "name": "stdout",
     "output_type": "stream",
     "text": [
      "\n",
      "--- Step 4: Cleaning NaN and Infinite values from results ---"
     ]
    },
    {
     "name": "stdout",
     "output_type": "stream",
     "text": [
      "\n",
      "Does the raw data contain NaN/Inf values? True\n",
      "Does the final data contain NaN/Inf values? False\n",
      "Cleaning complete.\n"
     ]
    }
   ],
   "source": [
    "def clean_infinite_and_nan_values(df):\n",
    "    \"\"\"Replaces NaN, Inf, and -Inf values in a DataFrame.\"\"\"\n",
    "    if df.empty:\n",
    "        return df\n",
    "        \n",
    "    df_clean = df.copy()\n",
    "    numeric_cols = df_clean.select_dtypes(include=np.number).columns\n",
    "\n",
    "    for col in numeric_cols:\n",
    "        finite_vals = df_clean[col][np.isfinite(df_clean[col])]\n",
    "        if not finite_vals.empty:\n",
    "            max_val = finite_vals.max()\n",
    "            min_val = finite_vals.min()\n",
    "            # Replace NaN, Inf with max; -Inf with min\n",
    "            df_clean[col] = df_clean[col].fillna(max_val)\n",
    "            df_clean[col] = df_clean[col].replace([np.inf, -np.inf], [max_val, min_val])\n",
    "            \n",
    "    return df_clean\n",
    "\n",
    "if not df_ratios_raw.empty:\n",
    "    print(\"\\n--- Step 4: Cleaning NaN and Infinite values from results ---\")\n",
    "    has_nan_inf_before = df_ratios_raw.isnull().values.any() or np.isinf(df_ratios_raw.select_dtypes(include=np.number)).values.any()\n",
    "    print(f\"Does the raw data contain NaN/Inf values? {has_nan_inf_before}\")\n",
    "\n",
    "    df_final = clean_infinite_and_nan_values(df_ratios_raw)\n",
    "\n",
    "    has_nan_inf_after = df_final.isnull().values.any() or np.isinf(df_final.select_dtypes(include=np.number)).values.any()\n",
    "    print(f\"Does the final data contain NaN/Inf values? {has_nan_inf_after}\")\n",
    "    print(\"Cleaning complete.\")\n",
    "else:\n",
    "    print(\"Skipping cleaning step as no ratios were calculated.\")\n",
    "    df_final = pd.DataFrame()"
   ]
  },
  {
   "cell_type": "markdown",
   "metadata": {},
   "source": [
    "### Step 5: Save Final Results\n",
    "\n",
    "Save the cleaned DataFrame of performance ratios to a Parquet file."
   ]
  },
  {
   "cell_type": "code",
   "execution_count": 6,
   "metadata": {
    "execution": {
     "iopub.execute_input": "2025-06-30T01:59:26.690712Z",
     "iopub.status.busy": "2025-06-30T01:59:26.689679Z",
     "iopub.status.idle": "2025-06-30T01:59:26.859096Z",
     "shell.execute_reply": "2025-06-30T01:59:26.857926Z"
    }
   },
   "outputs": [
    {
     "name": "stdout",
     "output_type": "stream",
     "text": [
      "\n",
      "--- Step 5: Saving final results ---"
     ]
    },
    {
     "name": "stdout",
     "output_type": "stream",
     "text": [
      "\n"
     ]
    },
    {
     "name": "stdout",
     "output_type": "stream",
     "text": [
      "Successfully saved final ratios to: c:\\Users\\ping\\Files_win10\\python\\py311\\stocks_copy\\data\\2025-06-26_df_perf_ratios_stocks_etfs.parquet\n"
     ]
    }
   ],
   "source": [
    "if not df_final.empty:\n",
    "    print(\"\\n--- Step 5: Saving final results ---\")\n",
    "    try:\n",
    "        DEST_PATH.parent.mkdir(parents=True, exist_ok=True)\n",
    "        df_final.to_parquet(DEST_PATH, engine='pyarrow', compression='zstd')\n",
    "        print(f\"Successfully saved final ratios to: {DEST_PATH}\")\n",
    "    except Exception as e:\n",
    "        print(f\"An error occurred while saving the file: {e}\")\n",
    "else:\n",
    "    print(\"Skipping save step because the final DataFrame is empty.\")"
   ]
  },
  {
   "cell_type": "markdown",
   "metadata": {},
   "source": [
    "### Step 6: Verify and Display Sample Results\n",
    "\n",
    "Load the saved file and display a formatted table for a sample of key symbols to provide a final, human-readable check."
   ]
  },
  {
   "cell_type": "code",
   "execution_count": 7,
   "metadata": {
    "execution": {
     "iopub.execute_input": "2025-06-30T01:59:26.863098Z",
     "iopub.status.busy": "2025-06-30T01:59:26.862578Z",
     "iopub.status.idle": "2025-06-30T01:59:27.048984Z",
     "shell.execute_reply": "2025-06-30T01:59:27.048381Z"
    }
   },
   "outputs": [
    {
     "name": "stdout",
     "output_type": "stream",
     "text": [
      "\n",
      "--- Step 6: Verifying saved file and displaying sample ---"
     ]
    },
    {
     "name": "stdout",
     "output_type": "stream",
     "text": [
      "\n",
      "Performance Ratios for 2025-06-26\n",
      "+------+-------------+--------------+------------+-------------+--------------+------------+--------------+---------------+-------------+--------------+---------------+-------------+--------------+---------------+-------------+--------------+---------------+-------------+---------------+----------------+--------------+---------------+----------------+--------------+\n",
      "|      |   Sharpe 3d |   Sortino 3d |   Omega 3d |   Sharpe 5d |   Sortino 5d |   Omega 5d |   Sharpe 10d |   Sortino 10d |   Omega 10d |   Sharpe 15d |   Sortino 15d |   Omega 15d |   Sharpe 30d |   Sortino 30d |   Omega 30d |   Sharpe 60d |   Sortino 60d |   Omega 60d |   Sharpe 120d |   Sortino 120d |   Omega 120d |   Sharpe 250d |   Sortino 250d |   Omega 250d |\n",
      "+======+=============+==============+============+=============+==============+============+==============+===============+=============+==============+===============+=============+==============+===============+=============+==============+===============+=============+===============+================+==============+===============+================+==============+\n",
      "| AAPL |      3.9543 |      12.2099 |     2.0877 |     -0.4304 |      -0.6909 |     0.9348 |       1.2238 |        2.0436 |      1.2183 |       0.0544 |        0.0798 |      1.0085 |      -2.4966 |       -3.1714 |      0.6609 |      -0.6923 |       -1.0477 |      0.8638 |       -0.8756 |        -1.2543 |       0.8398 |       -0.1484 |        -0.2102 |       0.9713 |\n",
      "+------+-------------+--------------+------------+-------------+--------------+------------+--------------+---------------+-------------+--------------+---------------+-------------+--------------+---------------+-------------+--------------+---------------+-------------+---------------+----------------+--------------+---------------+----------------+--------------+\n",
      "| MSFT |     26.8210 |    5702.7855 |   509.0445 |     28.3540 |   26972.1612 |  3399.1729 |       7.7478 |       18.4851 |      3.1958 |       9.1584 |       22.4561 |      3.8726 |       6.3242 |       12.8102 |      2.7432 |       3.4596 |        7.8045 |      2.1272 |        1.2583 |         2.1448 |       1.2805 |        0.3718 |         0.5540 |       1.0720 |\n",
      "+------+-------------+--------------+------------+-------------+--------------+------------+--------------+---------------+-------------+--------------+---------------+-------------+--------------+---------------+-------------+--------------+---------------+-------------+---------------+----------------+--------------+---------------+----------------+--------------+\n",
      "| GOOG |     84.3836 |    5702.7855 |   509.0445 |     10.8267 |      29.7506 |     4.7482 |      -1.3618 |       -1.7987 |      0.8084 |       1.7506 |        2.6796 |      1.3019 |       1.5415 |        2.4336 |      1.2669 |       1.1284 |        1.7612 |      1.2153 |       -0.4428 |        -0.6053 |       0.9285 |       -0.1717 |        -0.2348 |       0.9714 |\n",
      "+------+-------------+--------------+------------+-------------+--------------+------------+--------------+---------------+-------------+--------------+---------------+-------------+--------------+---------------+-------------+--------------+---------------+-------------+---------------+----------------+--------------+---------------+----------------+--------------+\n",
      "| NVDA |     13.7994 |    5702.7855 |   509.0445 |     15.4297 |   26972.1612 |  3399.1729 |       6.0328 |       14.6411 |      2.8393 |       7.1378 |       16.9259 |      3.2919 |       4.2882 |        8.2755 |      1.9923 |       2.6621 |        4.8077 |      1.6863 |        0.6349 |         0.8977 |       1.1213 |        0.6114 |         0.8734 |       1.1117 |\n",
      "+------+-------------+--------------+------------+-------------+--------------+------------+--------------+---------------+-------------+--------------+---------------+-------------+--------------+---------------+-------------+--------------+---------------+-------------+---------------+----------------+--------------+---------------+----------------+--------------+\n",
      "| AMZN |      8.1436 |      59.3314 |     6.2857 |      8.7341 |      38.8223 |     4.5410 |       2.0967 |        4.5280 |      1.3823 |       3.1659 |        6.2717 |      1.6455 |       1.2206 |        2.0188 |      1.2141 |       1.2639 |        2.0989 |      1.2701 |        0.0070 |         0.0105 |       1.0013 |        0.3282 |         0.4761 |       1.0591 |\n",
      "+------+-------------+--------------+------------+-------------+--------------+------------+--------------+---------------+-------------+--------------+---------------+-------------+--------------+---------------+-------------+--------------+---------------+-------------+---------------+----------------+--------------+---------------+----------------+--------------+\n",
      "| TSLA |    -15.0622 |     -12.7286 |     0.0000 |      1.0872 |       2.5955 |     1.2195 |       1.1708 |        2.1886 |      1.2322 |       4.4603 |        9.4024 |      2.0971 |      -0.5872 |       -0.7763 |      0.8980 |       1.3434 |        2.2358 |      1.2807 |       -0.0851 |        -0.1274 |       0.9853 |        0.9912 |         1.5713 |       1.1874 |\n",
      "+------+-------------+--------------+------------+-------------+--------------+------------+--------------+---------------+-------------+--------------+---------------+-------------+--------------+---------------+-------------+--------------+---------------+-------------+---------------+----------------+--------------+---------------+----------------+--------------+\n",
      "| META |      7.3441 |      42.4843 |     4.7848 |     17.7142 |      96.8922 |    13.2073 |       4.4244 |        9.4388 |      1.9547 |       4.1069 |        8.5339 |      1.8733 |       3.2838 |        6.7211 |      1.7328 |       1.9344 |        3.3709 |      1.4619 |        1.0596 |         1.6737 |       1.2123 |        0.9930 |         1.5254 |       1.1958 |\n",
      "+------+-------------+--------------+------------+-------------+--------------+------------+--------------+---------------+-------------+--------------+---------------+-------------+--------------+---------------+-------------+--------------+---------------+-------------+---------------+----------------+--------------+---------------+----------------+--------------+\n",
      "| GLD  |      4.3683 |      14.3023 |     2.2742 |     -5.0602 |      -5.6612 |     0.3373 |      -3.6730 |       -4.4353 |      0.5063 |      -1.2561 |       -1.6257 |      0.8055 |       2.0255 |        3.4127 |      1.3778 |       1.0585 |        1.6920 |      1.1804 |        2.2674 |         3.6932 |       1.4473 |        1.8953 |         2.9363 |       1.3663 |\n",
      "+------+-------------+--------------+------------+-------------+--------------+------------+--------------+---------------+-------------+--------------+---------------+-------------+--------------+---------------+-------------+--------------+---------------+-------------+---------------+----------------+--------------+---------------+----------------+--------------+\n",
      "| MSTR |      7.6120 |      47.2991 |     5.2137 |      8.6786 |      38.6814 |     4.4581 |       1.7539 |        3.4222 |      1.3453 |       2.6754 |        5.7933 |      1.5744 |      -1.4627 |       -1.8885 |      0.7820 |       1.5731 |        2.7320 |      1.3838 |        0.9923 |         1.5684 |       1.2005 |        1.4025 |         2.3493 |       1.2764 |\n",
      "+------+-------------+--------------+------------+-------------+--------------+------------+--------------+---------------+-------------+--------------+---------------+-------------+--------------+---------------+-------------+--------------+---------------+-------------+---------------+----------------+--------------+---------------+----------------+--------------+\n",
      "| IBIT |      8.8613 |      84.1625 |     8.4978 |     12.1494 |     137.7512 |    17.2988 |       0.6191 |        0.9749 |      1.1104 |       2.8450 |        5.1109 |      1.5833 |       1.1361 |        1.7514 |      1.1911 |       2.5180 |        3.9914 |      1.5106 |        0.6024 |         0.8577 |       1.1018 |        1.2605 |         1.9622 |       1.2341 |\n",
      "+------+-------------+--------------+------------+-------------+--------------+------------+--------------+---------------+-------------+--------------+---------------+-------------+--------------+---------------+-------------+--------------+---------------+-------------+---------------+----------------+--------------+---------------+----------------+--------------+\n",
      "| SHOP |    -53.1090 |     -15.5314 |     0.0000 |      9.7880 |      55.6380 |     6.0661 |       2.5094 |        4.6534 |      1.5108 |       2.7915 |        4.8961 |      1.5356 |       0.4045 |        0.6541 |      1.0671 |       1.1430 |        1.7783 |      1.2524 |        0.4308 |         0.6442 |       1.0811 |        1.1129 |         1.8460 |       1.2386 |\n",
      "+------+-------------+--------------+------------+-------------+--------------+------------+--------------+---------------+-------------+--------------+---------------+-------------+--------------+---------------+-------------+--------------+---------------+-------------+---------------+----------------+--------------+---------------+----------------+--------------+\n",
      "| VGT  |    198.6364 |    5702.7855 |   509.0445 |     36.6785 |   26972.1612 |  3399.1729 |       5.3672 |        9.8251 |      2.2211 |       6.6497 |       12.1923 |      2.6917 |       3.3623 |        5.8011 |      1.7219 |       1.9545 |        3.2889 |      1.5232 |        0.4000 |         0.5952 |       1.0804 |        0.4665 |         0.6689 |       1.0910 |\n",
      "+------+-------------+--------------+------------+-------------+--------------+------------+--------------+---------------+-------------+--------------+---------------+-------------+--------------+---------------+-------------+--------------+---------------+-------------+---------------+----------------+--------------+---------------+----------------+--------------+\n",
      "| SNOW |     -7.1465 |      -8.7330 |     0.2220 |      8.1323 |      49.3750 |     7.2207 |       5.2220 |       15.5967 |      3.1420 |       4.3431 |       10.9919 |      2.5186 |       4.0534 |       16.5903 |      3.0259 |       3.2766 |        6.3718 |      2.0993 |        1.5987 |         2.4814 |       1.3660 |        1.0985 |         1.8968 |       1.2691 |\n",
      "+------+-------------+--------------+------------+-------------+--------------+------------+--------------+---------------+-------------+--------------+---------------+-------------+--------------+---------------+-------------+--------------+---------------+-------------+---------------+----------------+--------------+---------------+----------------+--------------+\n",
      "| COIN |     38.7339 |    5702.7855 |   509.0445 |     15.4662 |     594.8099 |    75.9390 |      13.4173 |       82.7063 |     15.3774 |       8.9944 |       36.9888 |      5.7950 |       4.0567 |        9.6067 |      2.0708 |       3.9912 |       10.2954 |      2.1547 |        1.3067 |         2.2077 |       1.2623 |        0.9710 |         1.6457 |       1.1888 |\n",
      "+------+-------------+--------------+------------+-------------+--------------+------------+--------------+---------------+-------------+--------------+---------------+-------------+--------------+---------------+-------------+--------------+---------------+-------------+---------------+----------------+--------------+---------------+----------------+--------------+\n"
     ]
    }
   ],
   "source": [
    "print(\"\\n--- Step 6: Verifying saved file and displaying sample ---\")\n",
    "if DEST_PATH.exists():\n",
    "    verified_df = pd.read_parquet(DEST_PATH)\n",
    "    \n",
    "    # Filter for symbols that exist in our results\n",
    "    symbols_to_show = [s for s in SAMPLE_SYMBOLS if s in verified_df.index]\n",
    "    \n",
    "    if symbols_to_show:\n",
    "        sample_df = verified_df.loc[symbols_to_show]\n",
    "        print(f\"Performance Ratios for {DATE_STR}\")\n",
    "        print(tabulate(sample_df, headers='keys', tablefmt='grid', floatfmt='.4f'))\n",
    "    else:\n",
    "        print(\"None of the sample symbols were found in the final results.\")\n",
    "else:\n",
    "    print(\"Could not verify file as it was not found at the destination path.\")"
   ]
  }
 ],
 "metadata": {
  "kernelspec": {
   "display_name": "py311-py3.11",
   "language": "python",
   "name": "python3"
  },
  "language_info": {
   "codemirror_mode": {
    "name": "ipython",
    "version": 3
   },
   "file_extension": ".py",
   "mimetype": "text/x-python",
   "name": "python",
   "nbconvert_exporter": "python",
   "pygments_lexer": "ipython3",
   "version": "3.11.9"
  }
 },
 "nbformat": 4,
 "nbformat_minor": 2
}
