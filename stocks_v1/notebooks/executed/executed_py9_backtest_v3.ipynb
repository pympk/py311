{
 "cells": [
  {
   "cell_type": "markdown",
   "metadata": {},
   "source": [
    "### Backtesting Engine\n",
    "\n",
    "This notebook runs a historical backtest for all previously generated portfolio selections.\n",
    "\n",
    "**Workflow:**\n",
    "1.  **Setup:** Configure all paths and backtesting parameters.\n",
    "2.  **Load Price Data:** Load the master historical daily prices for all tickers.\n",
    "3.  **Discover Selections:** Find all selection data/parameter file pairs from the output directory.\n",
    "4.  **Execute Backtests:** Iterate through each selection file, run a T+1 to T+2 simulation for each weighting scheme (EW, IV, SW), and collect performance metrics.\n",
    "5.  **Save Results:** Consolidate the results from this run with any previous backtest results, removing duplicates and keeping the latest run.\n",
    "6.  **Verify:** Load the master results file to confirm the process was successful."
   ]
  },
  {
   "cell_type": "markdown",
   "metadata": {},
   "source": [
    "### Setup and Configuration\n",
    "\n",
    "This cell defines all parameters for the backtesting run, including file paths and simulation constants."
   ]
  },
  {
   "cell_type": "code",
   "execution_count": 1,
   "metadata": {
    "execution": {
     "iopub.execute_input": "2025-06-30T02:01:36.459641Z",
     "iopub.status.busy": "2025-06-30T02:01:36.457643Z",
     "iopub.status.idle": "2025-06-30T02:01:45.019935Z",
     "shell.execute_reply": "2025-06-30T02:01:45.019935Z"
    }
   },
   "outputs": [
    {
     "name": "stdout",
     "output_type": "stream",
     "text": [
      "2025-06-29 19:01:44,994 - INFO - Logging initialized. Log file: C:\\Users\\ping\\Files_win10\\python\\py311\\stocks_copy\\logs\\backtest_run_20250629_190144.log\n"
     ]
    },
    {
     "name": "stdout",
     "output_type": "stream",
     "text": [
      "ROOT_DIR: C:\\Users\\ping\\Files_win10\\python\\py311\\stocks_copy\n",
      "Price Data Path: C:\\Users\\ping\\Files_win10\\python\\py311\\stocks_copy\\data\\df_adj_close.parquet\n",
      "Selection Results Path: C:\\Users\\ping\\Files_win10\\python\\py311\\stocks_copy\\output\\selection_results\n",
      "Master Backtest Output Path: C:\\Users\\ping\\Files_win10\\python\\py311\\stocks_copy\\output\\backtest_results\\backtest_master_results.parquet\n"
     ]
    }
   ],
   "source": [
    "import sys\n",
    "from pathlib import Path\n",
    "import pandas as pd\n",
    "import logging\n",
    "from tqdm.notebook import tqdm # For a nice progress bar\n",
    "\n",
    "# --- Project Path Setup ---\n",
    "NOTEBOOK_DIR = Path.cwd()\n",
    "ROOT_DIR = NOTEBOOK_DIR.parent if NOTEBOOK_DIR.name == 'notebooks' else NOTEBOOK_DIR\n",
    "if str(ROOT_DIR) not in sys.path:\n",
    "    sys.path.append(str(ROOT_DIR))\n",
    "DATA_DIR = ROOT_DIR / 'data'\n",
    "SRC_DIR = ROOT_DIR / 'src'\n",
    "if str(SRC_DIR) not in sys.path:\n",
    "    sys.path.append(str(SRC_DIR))\n",
    "\n",
    "# --- Local Imports ---\n",
    "from config import DATE_STR, DAILY_RISK_FREE_RATE\n",
    "import utils\n",
    "\n",
    "# # --- Backtesting Parameters ---\n",
    "# RISK_FREE_RATE_DAILY = 0.04 / 252\n",
    "\n",
    "# These columns define a unique backtest. If we run a backtest for the same\n",
    "# selection_date and scheme, the old result will be overwritten.\n",
    "# We add strategy params to distinguish runs with different tuning.\n",
    "UNIQUE_RUN_KEYS = [\n",
    "    'selection_date', 'scheme', 'n_select_requested', 'inv_vol_col_name',\n",
    "    'filter_min_price', 'filter_min_avg_volume_m', 'filter_min_roe_pct',\n",
    "    'filter_max_debt_eq', 'score_weight_rsi', 'score_weight_change',\n",
    "    'score_weight_rel_volume', 'score_weight_volatility'\n",
    "]\n",
    "\n",
    "# --- File Path Construction (using pathlib) ---\n",
    "SELECTION_RESULTS_DIR = ROOT_DIR / 'output' / 'selection_results'\n",
    "BACKTEST_OUTPUT_DIR = ROOT_DIR / 'output' / 'backtest_results'\n",
    "HISTORICAL_PRICES_PATH = DATA_DIR / 'df_adj_close.parquet'\n",
    "MASTER_RESULTS_PATH = BACKTEST_OUTPUT_DIR / 'backtest_master_results.parquet'\n",
    "LOG_DIR = ROOT_DIR / 'logs'\n",
    "\n",
    "# --- Notebook Setup ---\n",
    "pd.set_option('display.max_columns', None)\n",
    "pd.set_option('display.width', 1000)\n",
    "pd.set_option('display.max_rows', 100)\n",
    "pd.set_option('display.float_format', '{:.4f}'.format)\n",
    "%load_ext autoreload\n",
    "%autoreload 2\n",
    "\n",
    "# --- Initialize Logging ---\n",
    "log_filepath = utils.setup_backtest_logging(LOG_DIR)\n",
    "run_timestamp = pd.Timestamp.now().strftime(\"%Y-%m-%d %H:%M:%S\")\n",
    "\n",
    "print(f\"ROOT_DIR: {ROOT_DIR}\")\n",
    "print(f\"Price Data Path: {HISTORICAL_PRICES_PATH}\")\n",
    "print(f\"Selection Results Path: {SELECTION_RESULTS_DIR}\")\n",
    "print(f\"Master Backtest Output Path: {MASTER_RESULTS_PATH}\")"
   ]
  },
  {
   "cell_type": "markdown",
   "metadata": {},
   "source": [
    "### Step 1: Load Historical Price Data"
   ]
  },
  {
   "cell_type": "code",
   "execution_count": 2,
   "metadata": {
    "execution": {
     "iopub.execute_input": "2025-06-30T02:01:45.107253Z",
     "iopub.status.busy": "2025-06-30T02:01:45.107253Z",
     "iopub.status.idle": "2025-06-30T02:01:49.484864Z",
     "shell.execute_reply": "2025-06-30T02:01:49.482641Z"
    }
   },
   "outputs": [
    {
     "name": "stdout",
     "output_type": "stream",
     "text": [
      "--- Step 1: Loading historical price data ---\n",
      "2025-06-29 19:01:45,373 - INFO - Loading historical price data from: C:\\Users\\ping\\Files_win10\\python\\py311\\stocks_copy\\data\\df_adj_close.parquet\n"
     ]
    },
    {
     "name": "stdout",
     "output_type": "stream",
     "text": [
      "2025-06-29 19:01:45,834 - INFO - Successfully loaded and prepared price data. Shape: (351, 1559)\n"
     ]
    },
    {
     "name": "stdout",
     "output_type": "stream",
     "text": [
      "Price data loaded successfully.\n"
     ]
    },
    {
     "data": {
      "text/html": [
       "<div>\n",
       "<style scoped>\n",
       "    .dataframe tbody tr th:only-of-type {\n",
       "        vertical-align: middle;\n",
       "    }\n",
       "\n",
       "    .dataframe tbody tr th {\n",
       "        vertical-align: top;\n",
       "    }\n",
       "\n",
       "    .dataframe thead th {\n",
       "        text-align: right;\n",
       "    }\n",
       "</style>\n",
       "<table border=\"1\" class=\"dataframe\">\n",
       "  <thead>\n",
       "    <tr style=\"text-align: right;\">\n",
       "      <th>Ticker</th>\n",
       "      <th>A</th>\n",
       "      <th>AA</th>\n",
       "      <th>AAL</th>\n",
       "      <th>AAON</th>\n",
       "      <th>AAPL</th>\n",
       "      <th>ABBV</th>\n",
       "      <th>ABEV</th>\n",
       "      <th>ABNB</th>\n",
       "      <th>ABT</th>\n",
       "      <th>ACGL</th>\n",
       "      <th>ACHR</th>\n",
       "      <th>ACI</th>\n",
       "      <th>ACM</th>\n",
       "      <th>ACN</th>\n",
       "      <th>ACWI</th>\n",
       "      <th>ACWV</th>\n",
       "      <th>ACWX</th>\n",
       "      <th>ADBE</th>\n",
       "      <th>ADC</th>\n",
       "      <th>ADI</th>\n",
       "      <th>ADM</th>\n",
       "      <th>ADP</th>\n",
       "      <th>ADSK</th>\n",
       "      <th>ADT</th>\n",
       "      <th>AEE</th>\n",
       "      <th>AEG</th>\n",
       "      <th>AEM</th>\n",
       "      <th>AEP</th>\n",
       "      <th>AER</th>\n",
       "      <th>AES</th>\n",
       "      <th>AFG</th>\n",
       "      <th>AFL</th>\n",
       "      <th>AFRM</th>\n",
       "      <th>AGCO</th>\n",
       "      <th>AGG</th>\n",
       "      <th>AGI</th>\n",
       "      <th>AGNC</th>\n",
       "      <th>AIFU</th>\n",
       "      <th>AIG</th>\n",
       "      <th>AIQ</th>\n",
       "      <th>AIRR</th>\n",
       "      <th>AIT</th>\n",
       "      <th>AIZ</th>\n",
       "      <th>AJG</th>\n",
       "      <th>AKAM</th>\n",
       "      <th>AL</th>\n",
       "      <th>ALB</th>\n",
       "      <th>ALC</th>\n",
       "      <th>ALGM</th>\n",
       "      <th>ALGN</th>\n",
       "      <th>ALK</th>\n",
       "      <th>ALL</th>\n",
       "      <th>ALLE</th>\n",
       "      <th>ALLY</th>\n",
       "      <th>ALNY</th>\n",
       "      <th>ALSN</th>\n",
       "      <th>ALV</th>\n",
       "      <th>AM</th>\n",
       "      <th>AMAT</th>\n",
       "      <th>AMCR</th>\n",
       "      <th>AMD</th>\n",
       "      <th>AME</th>\n",
       "      <th>AMGN</th>\n",
       "      <th>AMH</th>\n",
       "      <th>AMLP</th>\n",
       "      <th>AMP</th>\n",
       "      <th>AMT</th>\n",
       "      <th>AMX</th>\n",
       "      <th>AMZN</th>\n",
       "      <th>AN</th>\n",
       "      <th>ANET</th>\n",
       "      <th>ANSS</th>\n",
       "      <th>AON</th>\n",
       "      <th>AOS</th>\n",
       "      <th>APA</th>\n",
       "      <th>APD</th>\n",
       "      <th>APG</th>\n",
       "      <th>APH</th>\n",
       "      <th>APO</th>\n",
       "      <th>APP</th>\n",
       "      <th>APPF</th>\n",
       "      <th>APTV</th>\n",
       "      <th>AR</th>\n",
       "      <th>ARCC</th>\n",
       "      <th>ARE</th>\n",
       "      <th>ARES</th>\n",
       "      <th>ARGX</th>\n",
       "      <th>ARKB</th>\n",
       "      <th>ARKK</th>\n",
       "      <th>ARM</th>\n",
       "      <th>ARMK</th>\n",
       "      <th>ARW</th>\n",
       "      <th>AS</th>\n",
       "      <th>ASML</th>\n",
       "      <th>ASND</th>\n",
       "      <th>ASR</th>\n",
       "      <th>ASTS</th>\n",
       "      <th>ASX</th>\n",
       "      <th>ATI</th>\n",
       "      <th>ATO</th>\n",
       "      <th>ATR</th>\n",
       "      <th>AU</th>\n",
       "      <th>AUR</th>\n",
       "      <th>AVAV</th>\n",
       "      <th>AVB</th>\n",
       "      <th>AVDE</th>\n",
       "      <th>AVDV</th>\n",
       "      <th>AVEM</th>\n",
       "      <th>AVGO</th>\n",
       "      <th>AVLV</th>\n",
       "      <th>AVTR</th>\n",
       "      <th>AVUS</th>\n",
       "      <th>AVUV</th>\n",
       "      <th>AVY</th>\n",
       "      <th>AWI</th>\n",
       "      <th>AWK</th>\n",
       "      <th>AXON</th>\n",
       "      <th>AXP</th>\n",
       "      <th>AXS</th>\n",
       "      <th>AXTA</th>\n",
       "      <th>AYI</th>\n",
       "      <th>AZEK</th>\n",
       "      <th>AZN</th>\n",
       "      <th>AZO</th>\n",
       "      <th>B</th>\n",
       "      <th>BA</th>\n",
       "      <th>BABA</th>\n",
       "      <th>BAC</th>\n",
       "      <th>BAH</th>\n",
       "      <th>BALL</th>\n",
       "      <th>BAM</th>\n",
       "      <th>BAP</th>\n",
       "      <th>BAX</th>\n",
       "      <th>BBAX</th>\n",
       "      <th>BBCA</th>\n",
       "      <th>BBD</th>\n",
       "      <th>BBEU</th>\n",
       "      <th>BBIN</th>\n",
       "      <th>BBIO</th>\n",
       "      <th>BBJP</th>\n",
       "      <th>BBUS</th>\n",
       "      <th>BBVA</th>\n",
       "      <th>BBWI</th>\n",
       "      <th>BBY</th>\n",
       "      <th>BCE</th>\n",
       "      <th>BCH</th>\n",
       "      <th>BCS</th>\n",
       "      <th>BDX</th>\n",
       "      <th>BEKE</th>\n",
       "      <th>BEN</th>\n",
       "      <th>BEP</th>\n",
       "      <th>BF-A</th>\n",
       "      <th>BF-B</th>\n",
       "      <th>BFAM</th>\n",
       "      <th>BG</th>\n",
       "      <th>BHP</th>\n",
       "      <th>BIDU</th>\n",
       "      <th>BIIB</th>\n",
       "      <th>BIL</th>\n",
       "      <th>BILI</th>\n",
       "      <th>BILS</th>\n",
       "      <th>BINC</th>\n",
       "      <th>BIO</th>\n",
       "      <th>BIP</th>\n",
       "      <th>BIRK</th>\n",
       "      <th>BITB</th>\n",
       "      <th>BIV</th>\n",
       "      <th>BJ</th>\n",
       "      <th>BK</th>\n",
       "      <th>BKLC</th>\n",
       "      <th>BKLN</th>\n",
       "      <th>BKNG</th>\n",
       "      <th>BKR</th>\n",
       "      <th>BLD</th>\n",
       "      <th>BLDR</th>\n",
       "      <th>BLK</th>\n",
       "      <th>BLV</th>\n",
       "      <th>BMI</th>\n",
       "      <th>BMO</th>\n",
       "      <th>BMRN</th>\n",
       "      <th>BMY</th>\n",
       "      <th>BN</th>\n",
       "      <th>BND</th>\n",
       "      <th>BNDX</th>\n",
       "      <th>BNS</th>\n",
       "      <th>BNT</th>\n",
       "      <th>BNTX</th>\n",
       "      <th>BOKF</th>\n",
       "      <th>BOND</th>\n",
       "      <th>BOXX</th>\n",
       "      <th>BP</th>\n",
       "      <th>BPMC</th>\n",
       "      <th>BPOP</th>\n",
       "      <th>BR</th>\n",
       "      <th>BRBR</th>\n",
       "      <th>BRFS</th>\n",
       "      <th>BRK-A</th>\n",
       "      <th>BRK-B</th>\n",
       "      <th>BRKR</th>\n",
       "      <th>BRO</th>\n",
       "      <th>BROS</th>\n",
       "      <th>BRX</th>\n",
       "      <th>BSAC</th>\n",
       "      <th>BSBR</th>\n",
       "      <th>BSCP</th>\n",
       "      <th>BSCQ</th>\n",
       "      <th>BSCR</th>\n",
       "      <th>BSV</th>\n",
       "      <th>BSX</th>\n",
       "      <th>BSY</th>\n",
       "      <th>BTI</th>\n",
       "      <th>BUD</th>\n",
       "      <th>BUFR</th>\n",
       "      <th>BURL</th>\n",
       "      <th>BWA</th>\n",
       "      <th>BWXT</th>\n",
       "      <th>BX</th>\n",
       "      <th>BXP</th>\n",
       "      <th>BXSL</th>\n",
       "      <th>BYD</th>\n",
       "      <th>BZ</th>\n",
       "      <th>C</th>\n",
       "      <th>CACI</th>\n",
       "      <th>CAE</th>\n",
       "      <th>CAG</th>\n",
       "      <th>CAH</th>\n",
       "      <th>CALF</th>\n",
       "      <th>CAR</th>\n",
       "      <th>CARR</th>\n",
       "      <th>CART</th>\n",
       "      <th>CASY</th>\n",
       "      <th>CAT</th>\n",
       "      <th>CAVA</th>\n",
       "      <th>CB</th>\n",
       "      <th>CBOE</th>\n",
       "      <th>CBRE</th>\n",
       "      <th>CBSH</th>\n",
       "      <th>CCCS</th>\n",
       "      <th>CCEP</th>\n",
       "      <th>CCI</th>\n",
       "      <th>CCJ</th>\n",
       "      <th>CCK</th>\n",
       "      <th>CCL</th>\n",
       "      <th>CDE</th>\n",
       "      <th>CDNS</th>\n",
       "      <th>CDP</th>\n",
       "      <th>CDW</th>\n",
       "      <th>CE</th>\n",
       "      <th>CEF</th>\n",
       "      <th>CEG</th>\n",
       "      <th>CELH</th>\n",
       "      <th>CF</th>\n",
       "      <th>CFG</th>\n",
       "      <th>CFLT</th>\n",
       "      <th>CFR</th>\n",
       "      <th>CG</th>\n",
       "      <th>CGCP</th>\n",
       "      <th>CGDV</th>\n",
       "      <th>CGGO</th>\n",
       "      <th>CGGR</th>\n",
       "      <th>CGMU</th>\n",
       "      <th>CGUS</th>\n",
       "      <th>CGXU</th>\n",
       "      <th>CHD</th>\n",
       "      <th>CHDN</th>\n",
       "      <th>CHE</th>\n",
       "      <th>CHKP</th>\n",
       "      <th>CHRD</th>\n",
       "      <th>CHRW</th>\n",
       "      <th>CHT</th>\n",
       "      <th>CHTR</th>\n",
       "      <th>CHWY</th>\n",
       "      <th>CI</th>\n",
       "      <th>CIBR</th>\n",
       "      <th>CIEN</th>\n",
       "      <th>CIGI</th>\n",
       "      <th>CINF</th>\n",
       "      <th>CL</th>\n",
       "      <th>CLH</th>\n",
       "      <th>CLS</th>\n",
       "      <th>CLX</th>\n",
       "      <th>CM</th>\n",
       "      <th>CMA</th>\n",
       "      <th>CMCSA</th>\n",
       "      <th>CME</th>\n",
       "      <th>CMF</th>\n",
       "      <th>CMG</th>\n",
       "      <th>CMI</th>\n",
       "      <th>CMS</th>\n",
       "      <th>CNA</th>\n",
       "      <th>CNC</th>\n",
       "      <th>CNH</th>\n",
       "      <th>CNI</th>\n",
       "      <th>CNM</th>\n",
       "      <th>CNP</th>\n",
       "      <th>CNQ</th>\n",
       "      <th>COF</th>\n",
       "      <th>COHR</th>\n",
       "      <th>COIN</th>\n",
       "      <th>COKE</th>\n",
       "      <th>COO</th>\n",
       "      <th>COOP</th>\n",
       "      <th>COP</th>\n",
       "      <th>COR</th>\n",
       "      <th>CORT</th>\n",
       "      <th>COST</th>\n",
       "      <th>COWZ</th>\n",
       "      <th>CP</th>\n",
       "      <th>CPAY</th>\n",
       "      <th>CPB</th>\n",
       "      <th>CPNG</th>\n",
       "      <th>CPRT</th>\n",
       "      <th>CPT</th>\n",
       "      <th>CQP</th>\n",
       "      <th>CR</th>\n",
       "      <th>CRBG</th>\n",
       "      <th>CRDO</th>\n",
       "      <th>CRH</th>\n",
       "      <th>CRK</th>\n",
       "      <th>CRL</th>\n",
       "      <th>CRM</th>\n",
       "      <th>CRS</th>\n",
       "      <th>CRWD</th>\n",
       "      <th>CSCO</th>\n",
       "      <th>CSGP</th>\n",
       "      <th>CSL</th>\n",
       "      <th>CSX</th>\n",
       "      <th>CTAS</th>\n",
       "      <th>CTRA</th>\n",
       "      <th>CTSH</th>\n",
       "      <th>CTVA</th>\n",
       "      <th>CUBE</th>\n",
       "      <th>CVE</th>\n",
       "      <th>CVLT</th>\n",
       "      <th>CVNA</th>\n",
       "      <th>CVS</th>\n",
       "      <th>CVX</th>\n",
       "      <th>CW</th>\n",
       "      <th>CWAN</th>\n",
       "      <th>CWB</th>\n",
       "      <th>CWEN</th>\n",
       "      <th>CWEN-A</th>\n",
       "      <th>CWST</th>\n",
       "      <th>CX</th>\n",
       "      <th>CYBR</th>\n",
       "      <th>CZR</th>\n",
       "      <th>D</th>\n",
       "      <th>DAL</th>\n",
       "      <th>DAR</th>\n",
       "      <th>DASH</th>\n",
       "      <th>DAY</th>\n",
       "      <th>DB</th>\n",
       "      <th>DBEF</th>\n",
       "      <th>DBX</th>\n",
       "      <th>DCI</th>\n",
       "      <th>DD</th>\n",
       "      <th>DDOG</th>\n",
       "      <th>DDS</th>\n",
       "      <th>DE</th>\n",
       "      <th>DECK</th>\n",
       "      <th>DELL</th>\n",
       "      <th>DEO</th>\n",
       "      <th>DFAC</th>\n",
       "      <th>DFAE</th>\n",
       "      <th>DFAI</th>\n",
       "      <th>DFAS</th>\n",
       "      <th>DFAT</th>\n",
       "      <th>DFAU</th>\n",
       "      <th>DFAX</th>\n",
       "      <th>DFCF</th>\n",
       "      <th>DFEM</th>\n",
       "      <th>DFIC</th>\n",
       "      <th>DFIV</th>\n",
       "      <th>DFLV</th>\n",
       "      <th>DFSD</th>\n",
       "      <th>DFSV</th>\n",
       "      <th>DFUS</th>\n",
       "      <th>DFUV</th>\n",
       "      <th>DG</th>\n",
       "      <th>DGRO</th>\n",
       "      <th>DGRW</th>\n",
       "      <th>DGX</th>\n",
       "      <th>DHI</th>\n",
       "      <th>DHR</th>\n",
       "      <th>DIA</th>\n",
       "      <th>DIHP</th>\n",
       "      <th>DINO</th>\n",
       "      <th>DIS</th>\n",
       "      <th>DIVO</th>\n",
       "      <th>DKNG</th>\n",
       "      <th>DKS</th>\n",
       "      <th>DLB</th>\n",
       "      <th>DLN</th>\n",
       "      <th>DLR</th>\n",
       "      <th>DLTR</th>\n",
       "      <th>DOC</th>\n",
       "      <th>DOCS</th>\n",
       "      <th>DOCU</th>\n",
       "      <th>DON</th>\n",
       "      <th>DOV</th>\n",
       "      <th>DOW</th>\n",
       "      <th>DOX</th>\n",
       "      <th>DPZ</th>\n",
       "      <th>DRI</th>\n",
       "      <th>DRS</th>\n",
       "      <th>DSGX</th>\n",
       "      <th>DSI</th>\n",
       "      <th>DT</th>\n",
       "      <th>DTE</th>\n",
       "      <th>DTM</th>\n",
       "      <th>DUHP</th>\n",
       "      <th>DUK</th>\n",
       "      <th>DUOL</th>\n",
       "      <th>DVA</th>\n",
       "      <th>DVN</th>\n",
       "      <th>DVY</th>\n",
       "      <th>DXCM</th>\n",
       "      <th>DXJ</th>\n",
       "      <th>DY</th>\n",
       "      <th>DYNF</th>\n",
       "      <th>E</th>\n",
       "      <th>EA</th>\n",
       "      <th>EAGG</th>\n",
       "      <th>EAT</th>\n",
       "      <th>EBAY</th>\n",
       "      <th>EBR</th>\n",
       "      <th>EC</th>\n",
       "      <th>ECL</th>\n",
       "      <th>ED</th>\n",
       "      <th>EDU</th>\n",
       "      <th>EDV</th>\n",
       "      <th>EEM</th>\n",
       "      <th>EEMV</th>\n",
       "      <th>EFA</th>\n",
       "      <th>EFAV</th>\n",
       "      <th>EFG</th>\n",
       "      <th>EFV</th>\n",
       "      <th>EFX</th>\n",
       "      <th>EG</th>\n",
       "      <th>EGP</th>\n",
       "      <th>EHC</th>\n",
       "      <th>EIX</th>\n",
       "      <th>EL</th>\n",
       "      <th>ELAN</th>\n",
       "      <th>ELF</th>\n",
       "      <th>ELS</th>\n",
       "      <th>ELV</th>\n",
       "      <th>EMA</th>\n",
       "      <th>EMB</th>\n",
       "      <th>EME</th>\n",
       "      <th>EMLC</th>\n",
       "      <th>EMN</th>\n",
       "      <th>EMR</th>\n",
       "      <th>EMXC</th>\n",
       "      <th>ENB</th>\n",
       "      <th>ENPH</th>\n",
       "      <th>ENSG</th>\n",
       "      <th>ENTG</th>\n",
       "      <th>EOG</th>\n",
       "      <th>EPAM</th>\n",
       "      <th>EPD</th>\n",
       "      <th>EPI</th>\n",
       "      <th>EPRT</th>\n",
       "      <th>EQH</th>\n",
       "      <th>EQIX</th>\n",
       "      <th>EQNR</th>\n",
       "      <th>EQR</th>\n",
       "      <th>EQT</th>\n",
       "      <th>ERIC</th>\n",
       "      <th>ERIE</th>\n",
       "      <th>ERJ</th>\n",
       "      <th>ES</th>\n",
       "      <th>ESAB</th>\n",
       "      <th>ESGD</th>\n",
       "      <th>ESGE</th>\n",
       "      <th>ESGU</th>\n",
       "      <th>ESGV</th>\n",
       "      <th>ESLT</th>\n",
       "      <th>ESNT</th>\n",
       "      <th>ESS</th>\n",
       "      <th>ESTC</th>\n",
       "      <th>ET</th>\n",
       "      <th>ETN</th>\n",
       "      <th>ETR</th>\n",
       "      <th>ETSY</th>\n",
       "      <th>EUFN</th>\n",
       "      <th>EVR</th>\n",
       "      <th>EVRG</th>\n",
       "      <th>EW</th>\n",
       "      <th>EWBC</th>\n",
       "      <th>EWJ</th>\n",
       "      <th>EWT</th>\n",
       "      <th>EWY</th>\n",
       "      <th>EWZ</th>\n",
       "      <th>EXAS</th>\n",
       "      <th>EXC</th>\n",
       "      <th>EXE</th>\n",
       "      <th>EXEL</th>\n",
       "      <th>EXLS</th>\n",
       "      <th>EXP</th>\n",
       "      <th>EXPD</th>\n",
       "      <th>EXPE</th>\n",
       "      <th>EXR</th>\n",
       "      <th>EZU</th>\n",
       "      <th>F</th>\n",
       "      <th>FAF</th>\n",
       "      <th>FANG</th>\n",
       "      <th>FAST</th>\n",
       "      <th>FBCG</th>\n",
       "      <th>FBIN</th>\n",
       "      <th>FBND</th>\n",
       "      <th>FBTC</th>\n",
       "      <th>FCFS</th>\n",
       "      <th>FCNCA</th>\n",
       "      <th>FCX</th>\n",
       "      <th>FDL</th>\n",
       "      <th>FDN</th>\n",
       "      <th>FDS</th>\n",
       "      <th>FDVV</th>\n",
       "      <th>FDX</th>\n",
       "      <th>FE</th>\n",
       "      <th>FELC</th>\n",
       "      <th>FELG</th>\n",
       "      <th>FER</th>\n",
       "      <th>FERG</th>\n",
       "      <th>FEZ</th>\n",
       "      <th>FFIV</th>\n",
       "      <th>FHN</th>\n",
       "      <th>FI</th>\n",
       "      <th>FICO</th>\n",
       "      <th>FIS</th>\n",
       "      <th>FITB</th>\n",
       "      <th>FIVE</th>\n",
       "      <th>FIX</th>\n",
       "      <th>FIXD</th>\n",
       "      <th>FLEX</th>\n",
       "      <th>FLOT</th>\n",
       "      <th>FLR</th>\n",
       "      <th>FLS</th>\n",
       "      <th>FLUT</th>\n",
       "      <th>FMS</th>\n",
       "      <th>FMX</th>\n",
       "      <th>FN</th>\n",
       "      <th>FND</th>\n",
       "      <th>FNDA</th>\n",
       "      <th>FNDE</th>\n",
       "      <th>FNDF</th>\n",
       "      <th>FNDX</th>\n",
       "      <th>FNF</th>\n",
       "      <th>FNV</th>\n",
       "      <th>FOUR</th>\n",
       "      <th>FOX</th>\n",
       "      <th>FOXA</th>\n",
       "      <th>FPE</th>\n",
       "      <th>FR</th>\n",
       "      <th>FRHC</th>\n",
       "      <th>FRT</th>\n",
       "      <th>FSEC</th>\n",
       "      <th>FSK</th>\n",
       "      <th>FSLR</th>\n",
       "      <th>FSS</th>\n",
       "      <th>FSV</th>\n",
       "      <th>FTAI</th>\n",
       "      <th>FTCS</th>\n",
       "      <th>FTEC</th>\n",
       "      <th>FTI</th>\n",
       "      <th>FTNT</th>\n",
       "      <th>FTS</th>\n",
       "      <th>FTSM</th>\n",
       "      <th>FTV</th>\n",
       "      <th>FUTU</th>\n",
       "      <th>FV</th>\n",
       "      <th>FVD</th>\n",
       "      <th>FWONA</th>\n",
       "      <th>FWONK</th>\n",
       "      <th>FXI</th>\n",
       "      <th>FYBR</th>\n",
       "      <th>G</th>\n",
       "      <th>GAP</th>\n",
       "      <th>GBIL</th>\n",
       "      <th>GBTC</th>\n",
       "      <th>GD</th>\n",
       "      <th>GDDY</th>\n",
       "      <th>GDX</th>\n",
       "      <th>GDXJ</th>\n",
       "      <th>GE</th>\n",
       "      <th>GEHC</th>\n",
       "      <th>GEN</th>\n",
       "      <th>GFI</th>\n",
       "      <th>GFL</th>\n",
       "      <th>GFS</th>\n",
       "      <th>GGAL</th>\n",
       "      <th>GGG</th>\n",
       "      <th>GH</th>\n",
       "      <th>GIB</th>\n",
       "      <th>GIL</th>\n",
       "      <th>GILD</th>\n",
       "      <th>GIS</th>\n",
       "      <th>GL</th>\n",
       "      <th>GLD</th>\n",
       "      <th>GLDM</th>\n",
       "      <th>GLPI</th>\n",
       "      <th>GLW</th>\n",
       "      <th>GM</th>\n",
       "      <th>GMAB</th>\n",
       "      <th>GME</th>\n",
       "      <th>GMED</th>\n",
       "      <th>GNRC</th>\n",
       "      <th>GOOG</th>\n",
       "      <th>GOOGL</th>\n",
       "      <th>GOVT</th>\n",
       "      <th>GPC</th>\n",
       "      <th>GPK</th>\n",
       "      <th>GPN</th>\n",
       "      <th>GRAB</th>\n",
       "      <th>GRMN</th>\n",
       "      <th>GS</th>\n",
       "      <th>GSIE</th>\n",
       "      <th>GSK</th>\n",
       "      <th>GSLC</th>\n",
       "      <th>GTLB</th>\n",
       "      <th>GTLS</th>\n",
       "      <th>GUNR</th>\n",
       "      <th>GVI</th>\n",
       "      <th>GWRE</th>\n",
       "      <th>GWW</th>\n",
       "      <th>H</th>\n",
       "      <th>HAL</th>\n",
       "      <th>HALO</th>\n",
       "      <th>HAS</th>\n",
       "      <th>HBAN</th>\n",
       "      <th>HCA</th>\n",
       "      <th>HD</th>\n",
       "      <th>HDB</th>\n",
       "      <th>HDV</th>\n",
       "      <th>HEFA</th>\n",
       "      <th>HEI</th>\n",
       "      <th>HEI-A</th>\n",
       "      <th>HES</th>\n",
       "      <th>HESM</th>\n",
       "      <th>HIG</th>\n",
       "      <th>HII</th>\n",
       "      <th>HIMS</th>\n",
       "      <th>HLI</th>\n",
       "      <th>HLN</th>\n",
       "      <th>HLNE</th>\n",
       "      <th>HLT</th>\n",
       "      <th>HMC</th>\n",
       "      <th>HMY</th>\n",
       "      <th>HOLX</th>\n",
       "      <th>HON</th>\n",
       "      <th>HOOD</th>\n",
       "      <th>HPE</th>\n",
       "      <th>HPQ</th>\n",
       "      <th>HQY</th>\n",
       "      <th>HRB</th>\n",
       "      <th>HRL</th>\n",
       "      <th>HSBC</th>\n",
       "      <th>HSIC</th>\n",
       "      <th>HST</th>\n",
       "      <th>HSY</th>\n",
       "      <th>HTHT</th>\n",
       "      <th>HUBB</th>\n",
       "      <th>HUBS</th>\n",
       "      <th>HUM</th>\n",
       "      <th>HWM</th>\n",
       "      <th>HYD</th>\n",
       "      <th>HYG</th>\n",
       "      <th>HYLB</th>\n",
       "      <th>IAGG</th>\n",
       "      <th>IAU</th>\n",
       "      <th>IBB</th>\n",
       "      <th>IBDR</th>\n",
       "      <th>IBIT</th>\n",
       "      <th>IBKR</th>\n",
       "      <th>IBM</th>\n",
       "      <th>IBN</th>\n",
       "      <th>ICE</th>\n",
       "      <th>ICL</th>\n",
       "      <th>ICLR</th>\n",
       "      <th>ICSH</th>\n",
       "      <th>IDA</th>\n",
       "      <th>IDCC</th>\n",
       "      <th>IDEV</th>\n",
       "      <th>IDV</th>\n",
       "      <th>IDXX</th>\n",
       "      <th>IEF</th>\n",
       "      <th>IEFA</th>\n",
       "      <th>IEI</th>\n",
       "      <th>IEMG</th>\n",
       "      <th>IEUR</th>\n",
       "      <th>IEX</th>\n",
       "      <th>IFF</th>\n",
       "      <th>IGF</th>\n",
       "      <th>IGIB</th>\n",
       "      <th>IGM</th>\n",
       "      <th>IGSB</th>\n",
       "      <th>IGV</th>\n",
       "      <th>IHG</th>\n",
       "      <th>IHI</th>\n",
       "      <th>IJH</th>\n",
       "      <th>IJJ</th>\n",
       "      <th>IJK</th>\n",
       "      <th>IJR</th>\n",
       "      <th>IJS</th>\n",
       "      <th>IJT</th>\n",
       "      <th>ILMN</th>\n",
       "      <th>IMO</th>\n",
       "      <th>INCY</th>\n",
       "      <th>INDA</th>\n",
       "      <th>INFA</th>\n",
       "      <th>INFY</th>\n",
       "      <th>ING</th>\n",
       "      <th>INGR</th>\n",
       "      <th>INSM</th>\n",
       "      <th>INTC</th>\n",
       "      <th>INTU</th>\n",
       "      <th>INVH</th>\n",
       "      <th>IONQ</th>\n",
       "      <th>IONS</th>\n",
       "      <th>IOO</th>\n",
       "      <th>IOT</th>\n",
       "      <th>IP</th>\n",
       "      <th>IPG</th>\n",
       "      <th>IQLT</th>\n",
       "      <th>IQV</th>\n",
       "      <th>IR</th>\n",
       "      <th>IRM</th>\n",
       "      <th>ISRG</th>\n",
       "      <th>ISTB</th>\n",
       "      <th>IT</th>\n",
       "      <th>ITA</th>\n",
       "      <th>ITOT</th>\n",
       "      <th>ITT</th>\n",
       "      <th>ITUB</th>\n",
       "      <th>ITW</th>\n",
       "      <th>IUSB</th>\n",
       "      <th>IUSG</th>\n",
       "      <th>IUSV</th>\n",
       "      <th>IVE</th>\n",
       "      <th>IVV</th>\n",
       "      <th>IVW</th>\n",
       "      <th>IVZ</th>\n",
       "      <th>IWB</th>\n",
       "      <th>IWD</th>\n",
       "      <th>IWF</th>\n",
       "      <th>IWM</th>\n",
       "      <th>IWN</th>\n",
       "      <th>IWO</th>\n",
       "      <th>IWP</th>\n",
       "      <th>IWR</th>\n",
       "      <th>IWS</th>\n",
       "      <th>IWV</th>\n",
       "      <th>IWY</th>\n",
       "      <th>IX</th>\n",
       "      <th>IXJ</th>\n",
       "      <th>IXN</th>\n",
       "      <th>IXUS</th>\n",
       "      <th>IYF</th>\n",
       "      <th>IYR</th>\n",
       "      <th>IYW</th>\n",
       "      <th>J</th>\n",
       "      <th>JAAA</th>\n",
       "      <th>JAVA</th>\n",
       "      <th>JAZZ</th>\n",
       "      <th>JBHT</th>\n",
       "      <th>JBL</th>\n",
       "      <th>JBTM</th>\n",
       "      <th>JCI</th>\n",
       "      <th>JCPB</th>\n",
       "      <th>JD</th>\n",
       "      <th>JEF</th>\n",
       "      <th>JEPI</th>\n",
       "      <th>JEPQ</th>\n",
       "      <th>JGRO</th>\n",
       "      <th>JHMM</th>\n",
       "      <th>JHX</th>\n",
       "      <th>JIRE</th>\n",
       "      <th>JKHY</th>\n",
       "      <th>JLL</th>\n",
       "      <th>JMBS</th>\n",
       "      <th>JMST</th>\n",
       "      <th>JNJ</th>\n",
       "      <th>JNK</th>\n",
       "      <th>JNPR</th>\n",
       "      <th>JOBY</th>\n",
       "      <th>JPIE</th>\n",
       "      <th>JPM</th>\n",
       "      <th>JPST</th>\n",
       "      <th>JQUA</th>\n",
       "      <th>JXN</th>\n",
       "      <th>K</th>\n",
       "      <th>KB</th>\n",
       "      <th>KBR</th>\n",
       "      <th>KBWB</th>\n",
       "      <th>KD</th>\n",
       "      <th>KDP</th>\n",
       "      <th>KEP</th>\n",
       "      <th>KEX</th>\n",
       "      <th>KEY</th>\n",
       "      <th>KEYS</th>\n",
       "      <th>KGC</th>\n",
       "      <th>KHC</th>\n",
       "      <th>KIM</th>\n",
       "      <th>KKR</th>\n",
       "      <th>KLAC</th>\n",
       "      <th>KMB</th>\n",
       "      <th>KMI</th>\n",
       "      <th>KMX</th>\n",
       "      <th>KNG</th>\n",
       "      <th>KNSL</th>\n",
       "      <th>KNTK</th>\n",
       "      <th>KNX</th>\n",
       "      <th>KO</th>\n",
       "      <th>KR</th>\n",
       "      <th>KRC</th>\n",
       "      <th>KSPI</th>\n",
       "      <th>KT</th>\n",
       "      <th>KTOS</th>\n",
       "      <th>KVUE</th>\n",
       "      <th>KVYO</th>\n",
       "      <th>KWEB</th>\n",
       "      <th>L</th>\n",
       "      <th>LAD</th>\n",
       "      <th>LAMR</th>\n",
       "      <th>LBRDA</th>\n",
       "      <th>LBRDK</th>\n",
       "      <th>LCID</th>\n",
       "      <th>LDOS</th>\n",
       "      <th>LECO</th>\n",
       "      <th>LEGN</th>\n",
       "      <th>LEN</th>\n",
       "      <th>LEVI</th>\n",
       "      <th>LH</th>\n",
       "      <th>LHX</th>\n",
       "      <th>LI</th>\n",
       "      <th>LII</th>\n",
       "      <th>LIN</th>\n",
       "      <th>LITE</th>\n",
       "      <th>LKQ</th>\n",
       "      <th>LLY</th>\n",
       "      <th>LLYVA</th>\n",
       "      <th>LLYVK</th>\n",
       "      <th>LMBS</th>\n",
       "      <th>LMT</th>\n",
       "      <th>LNG</th>\n",
       "      <th>LNT</th>\n",
       "      <th>LNW</th>\n",
       "      <th>LOGI</th>\n",
       "      <th>LOW</th>\n",
       "      <th>LPLA</th>\n",
       "      <th>LPX</th>\n",
       "      <th>LQD</th>\n",
       "      <th>LRCX</th>\n",
       "      <th>LRN</th>\n",
       "      <th>LSCC</th>\n",
       "      <th>LTH</th>\n",
       "      <th>LULU</th>\n",
       "      <th>LUV</th>\n",
       "      <th>LVS</th>\n",
       "      <th>LW</th>\n",
       "      <th>LYB</th>\n",
       "      <th>LYFT</th>\n",
       "      <th>LYG</th>\n",
       "      <th>LYV</th>\n",
       "      <th>MA</th>\n",
       "      <th>MAA</th>\n",
       "      <th>MANH</th>\n",
       "      <th>MAR</th>\n",
       "      <th>MAS</th>\n",
       "      <th>MASI</th>\n",
       "      <th>MAT</th>\n",
       "      <th>MBB</th>\n",
       "      <th>MBLY</th>\n",
       "      <th>MCD</th>\n",
       "      <th>MCHI</th>\n",
       "      <th>MCHP</th>\n",
       "      <th>MCK</th>\n",
       "      <th>MCO</th>\n",
       "      <th>MDB</th>\n",
       "      <th>MDGL</th>\n",
       "      <th>MDLZ</th>\n",
       "      <th>MDT</th>\n",
       "      <th>MDY</th>\n",
       "      <th>MEDP</th>\n",
       "      <th>MELI</th>\n",
       "      <th>MET</th>\n",
       "      <th>META</th>\n",
       "      <th>MFC</th>\n",
       "      <th>MFG</th>\n",
       "      <th>MGA</th>\n",
       "      <th>MGC</th>\n",
       "      <th>MGK</th>\n",
       "      <th>MGM</th>\n",
       "      <th>MGV</th>\n",
       "      <th>MHK</th>\n",
       "      <th>MIDD</th>\n",
       "      <th>MINT</th>\n",
       "      <th>MKC</th>\n",
       "      <th>MKL</th>\n",
       "      <th>MKSI</th>\n",
       "      <th>MKTX</th>\n",
       "      <th>MLI</th>\n",
       "      <th>MLM</th>\n",
       "      <th>MMC</th>\n",
       "      <th>MMM</th>\n",
       "      <th>MMYT</th>\n",
       "      <th>MNDY</th>\n",
       "      <th>MNST</th>\n",
       "      <th>MO</th>\n",
       "      <th>MOAT</th>\n",
       "      <th>MOH</th>\n",
       "      <th>MORN</th>\n",
       "      <th>MOS</th>\n",
       "      <th>MP</th>\n",
       "      <th>MPC</th>\n",
       "      <th>MPLX</th>\n",
       "      <th>MPWR</th>\n",
       "      <th>MRK</th>\n",
       "      <th>MRNA</th>\n",
       "      <th>MRVL</th>\n",
       "      <th>MS</th>\n",
       "      <th>MSA</th>\n",
       "      <th>MSCI</th>\n",
       "      <th>MSFT</th>\n",
       "      <th>MSI</th>\n",
       "      <th>MSTR</th>\n",
       "      <th>MT</th>\n",
       "      <th>MTB</th>\n",
       "      <th>MTCH</th>\n",
       "      <th>MTD</th>\n",
       "      <th>MTDR</th>\n",
       "      <th>MTG</th>\n",
       "      <th>MTSI</th>\n",
       "      <th>MTUM</th>\n",
       "      <th>MTZ</th>\n",
       "      <th>MU</th>\n",
       "      <th>MUB</th>\n",
       "      <th>MUFG</th>\n",
       "      <th>MUSA</th>\n",
       "      <th>NBIX</th>\n",
       "      <th>NCLH</th>\n",
       "      <th>NDAQ</th>\n",
       "      <th>NDSN</th>\n",
       "      <th>NEE</th>\n",
       "      <th>NEM</th>\n",
       "      <th>NET</th>\n",
       "      <th>NEU</th>\n",
       "      <th>NFG</th>\n",
       "      <th>NFLX</th>\n",
       "      <th>NGG</th>\n",
       "      <th>NI</th>\n",
       "      <th>NICE</th>\n",
       "      <th>NIO</th>\n",
       "      <th>NKE</th>\n",
       "      <th>NLY</th>\n",
       "      <th>NMR</th>\n",
       "      <th>NNN</th>\n",
       "      <th>NOBL</th>\n",
       "      <th>NOC</th>\n",
       "      <th>NOK</th>\n",
       "      <th>NOW</th>\n",
       "      <th>NRG</th>\n",
       "      <th>NSC</th>\n",
       "      <th>NTAP</th>\n",
       "      <th>NTES</th>\n",
       "      <th>NTNX</th>\n",
       "      <th>NTR</th>\n",
       "      <th>NTRA</th>\n",
       "      <th>NTRS</th>\n",
       "      <th>NU</th>\n",
       "      <th>NUE</th>\n",
       "      <th>NVDA</th>\n",
       "      <th>NVDL</th>\n",
       "      <th>NVMI</th>\n",
       "      <th>NVO</th>\n",
       "      <th>NVR</th>\n",
       "      <th>NVS</th>\n",
       "      <th>NVT</th>\n",
       "      <th>NWG</th>\n",
       "      <th>NWS</th>\n",
       "      <th>NWSA</th>\n",
       "      <th>NXPI</th>\n",
       "      <th>NXT</th>\n",
       "      <th>NYT</th>\n",
       "      <th>O</th>\n",
       "      <th>OBDC</th>\n",
       "      <th>OC</th>\n",
       "      <th>ODFL</th>\n",
       "      <th>OEF</th>\n",
       "      <th>OGE</th>\n",
       "      <th>OHI</th>\n",
       "      <th>OKE</th>\n",
       "      <th>OKLO</th>\n",
       "      <th>OKTA</th>\n",
       "      <th>OLED</th>\n",
       "      <th>OLLI</th>\n",
       "      <th>OMC</th>\n",
       "      <th>OMF</th>\n",
       "      <th>OMFL</th>\n",
       "      <th>ON</th>\n",
       "      <th>ONB</th>\n",
       "      <th>ONC</th>\n",
       "      <th>ONEQ</th>\n",
       "      <th>ONON</th>\n",
       "      <th>ORCL</th>\n",
       "      <th>ORI</th>\n",
       "      <th>ORLY</th>\n",
       "      <th>OSK</th>\n",
       "      <th>OTEX</th>\n",
       "      <th>OTIS</th>\n",
       "      <th>OVV</th>\n",
       "      <th>OWL</th>\n",
       "      <th>OXY</th>\n",
       "      <th>PAA</th>\n",
       "      <th>PAAA</th>\n",
       "      <th>PAAS</th>\n",
       "      <th>PAC</th>\n",
       "      <th>PAG</th>\n",
       "      <th>PAGP</th>\n",
       "      <th>PANW</th>\n",
       "      <th>PARA</th>\n",
       "      <th>PATH</th>\n",
       "      <th>PAVE</th>\n",
       "      <th>PAYC</th>\n",
       "      <th>PAYX</th>\n",
       "      <th>PB</th>\n",
       "      <th>PBA</th>\n",
       "      <th>PBR</th>\n",
       "      <th>PBR-A</th>\n",
       "      <th>PBUS</th>\n",
       "      <th>PCAR</th>\n",
       "      <th>PCG</th>\n",
       "      <th>PCOR</th>\n",
       "      <th>PCTY</th>\n",
       "      <th>PDBC</th>\n",
       "      <th>PDD</th>\n",
       "      <th>PDI</th>\n",
       "      <th>PEG</th>\n",
       "      <th>PEGA</th>\n",
       "      <th>PEN</th>\n",
       "      <th>PEP</th>\n",
       "      <th>PFE</th>\n",
       "      <th>PFF</th>\n",
       "      <th>PFG</th>\n",
       "      <th>PFGC</th>\n",
       "      <th>PG</th>\n",
       "      <th>PGR</th>\n",
       "      <th>PGX</th>\n",
       "      <th>PH</th>\n",
       "      <th>PHG</th>\n",
       "      <th>PHM</th>\n",
       "      <th>PHYS</th>\n",
       "      <th>PINS</th>\n",
       "      <th>PKG</th>\n",
       "      <th>PKX</th>\n",
       "      <th>PLD</th>\n",
       "      <th>PLNT</th>\n",
       "      <th>PLTR</th>\n",
       "      <th>PM</th>\n",
       "      <th>PNC</th>\n",
       "      <th>PNFP</th>\n",
       "      <th>PNR</th>\n",
       "      <th>PNW</th>\n",
       "      <th>PODD</th>\n",
       "      <th>POOL</th>\n",
       "      <th>POST</th>\n",
       "      <th>PPA</th>\n",
       "      <th>PPC</th>\n",
       "      <th>PPG</th>\n",
       "      <th>PPL</th>\n",
       "      <th>PR</th>\n",
       "      <th>PRF</th>\n",
       "      <th>PRI</th>\n",
       "      <th>PRMB</th>\n",
       "      <th>PRU</th>\n",
       "      <th>PSA</th>\n",
       "      <th>PSLV</th>\n",
       "      <th>PSN</th>\n",
       "      <th>PSO</th>\n",
       "      <th>PSTG</th>\n",
       "      <th>PSX</th>\n",
       "      <th>PTC</th>\n",
       "      <th>PUK</th>\n",
       "      <th>PULS</th>\n",
       "      <th>PWR</th>\n",
       "      <th>PYLD</th>\n",
       "      <th>PYPL</th>\n",
       "      <th>QCOM</th>\n",
       "      <th>QGEN</th>\n",
       "      <th>QLD</th>\n",
       "      <th>QQQ</th>\n",
       "      <th>QQQM</th>\n",
       "      <th>QRVO</th>\n",
       "      <th>QSR</th>\n",
       "      <th>QUAL</th>\n",
       "      <th>QXO</th>\n",
       "      <th>QYLD</th>\n",
       "      <th>R</th>\n",
       "      <th>RACE</th>\n",
       "      <th>RBA</th>\n",
       "      <th>RBC</th>\n",
       "      <th>RBLX</th>\n",
       "      <th>RCI</th>\n",
       "      <th>RCL</th>\n",
       "      <th>RDVY</th>\n",
       "      <th>RDY</th>\n",
       "      <th>REET</th>\n",
       "      <th>REG</th>\n",
       "      <th>REGN</th>\n",
       "      <th>RELX</th>\n",
       "      <th>REXR</th>\n",
       "      <th>RF</th>\n",
       "      <th>RGA</th>\n",
       "      <th>RGC</th>\n",
       "      <th>RGEN</th>\n",
       "      <th>RGLD</th>\n",
       "      <th>RHP</th>\n",
       "      <th>RIO</th>\n",
       "      <th>RITM</th>\n",
       "      <th>RIVN</th>\n",
       "      <th>RJF</th>\n",
       "      <th>RKLB</th>\n",
       "      <th>RKT</th>\n",
       "      <th>RL</th>\n",
       "      <th>RLI</th>\n",
       "      <th>RMBS</th>\n",
       "      <th>RMD</th>\n",
       "      <th>RNR</th>\n",
       "      <th>ROAD</th>\n",
       "      <th>ROIV</th>\n",
       "      <th>ROK</th>\n",
       "      <th>ROKU</th>\n",
       "      <th>ROL</th>\n",
       "      <th>ROP</th>\n",
       "      <th>ROST</th>\n",
       "      <th>RPM</th>\n",
       "      <th>RPRX</th>\n",
       "      <th>RRC</th>\n",
       "      <th>RRX</th>\n",
       "      <th>RS</th>\n",
       "      <th>RSG</th>\n",
       "      <th>RSP</th>\n",
       "      <th>RSPT</th>\n",
       "      <th>RTO</th>\n",
       "      <th>RTX</th>\n",
       "      <th>RVMD</th>\n",
       "      <th>RVTY</th>\n",
       "      <th>RWL</th>\n",
       "      <th>RY</th>\n",
       "      <th>RYAAY</th>\n",
       "      <th>RYAN</th>\n",
       "      <th>S</th>\n",
       "      <th>SAIA</th>\n",
       "      <th>SAN</th>\n",
       "      <th>SAP</th>\n",
       "      <th>SATS</th>\n",
       "      <th>SBAC</th>\n",
       "      <th>SBS</th>\n",
       "      <th>SBUX</th>\n",
       "      <th>SCCO</th>\n",
       "      <th>SCHA</th>\n",
       "      <th>SCHB</th>\n",
       "      <th>SCHC</th>\n",
       "      <th>SCHD</th>\n",
       "      <th>SCHE</th>\n",
       "      <th>SCHF</th>\n",
       "      <th>SCHG</th>\n",
       "      <th>SCHH</th>\n",
       "      <th>SCHI</th>\n",
       "      <th>SCHK</th>\n",
       "      <th>SCHM</th>\n",
       "      <th>SCHO</th>\n",
       "      <th>SCHP</th>\n",
       "      <th>SCHR</th>\n",
       "      <th>SCHV</th>\n",
       "      <th>SCHW</th>\n",
       "      <th>SCHX</th>\n",
       "      <th>SCHZ</th>\n",
       "      <th>SCI</th>\n",
       "      <th>SCZ</th>\n",
       "      <th>SDVY</th>\n",
       "      <th>SDY</th>\n",
       "      <th>SE</th>\n",
       "      <th>SEIC</th>\n",
       "      <th>SF</th>\n",
       "      <th>SFM</th>\n",
       "      <th>SGI</th>\n",
       "      <th>SGOL</th>\n",
       "      <th>SGOV</th>\n",
       "      <th>SHEL</th>\n",
       "      <th>SHG</th>\n",
       "      <th>SHM</th>\n",
       "      <th>SHOP</th>\n",
       "      <th>SHV</th>\n",
       "      <th>SHW</th>\n",
       "      <th>SHY</th>\n",
       "      <th>SHYG</th>\n",
       "      <th>SIRI</th>\n",
       "      <th>SJM</th>\n",
       "      <th>SJNK</th>\n",
       "      <th>SKM</th>\n",
       "      <th>SKX</th>\n",
       "      <th>SKYY</th>\n",
       "      <th>SLB</th>\n",
       "      <th>SLF</th>\n",
       "      <th>SLM</th>\n",
       "      <th>SLV</th>\n",
       "      <th>SLYG</th>\n",
       "      <th>SLYV</th>\n",
       "      <th>SMCI</th>\n",
       "      <th>SMFG</th>\n",
       "      <th>SMH</th>\n",
       "      <th>SMMT</th>\n",
       "      <th>SMR</th>\n",
       "      <th>SN</th>\n",
       "      <th>SNA</th>\n",
       "      <th>SNAP</th>\n",
       "      <th>SNN</th>\n",
       "      <th>SNOW</th>\n",
       "      <th>SNPS</th>\n",
       "      <th>SNV</th>\n",
       "      <th>SNX</th>\n",
       "      <th>SNY</th>\n",
       "      <th>SO</th>\n",
       "      <th>SOFI</th>\n",
       "      <th>SONY</th>\n",
       "      <th>SOXL</th>\n",
       "      <th>SOXX</th>\n",
       "      <th>SPAB</th>\n",
       "      <th>SPDW</th>\n",
       "      <th>SPEM</th>\n",
       "      <th>SPG</th>\n",
       "      <th>SPGI</th>\n",
       "      <th>SPHQ</th>\n",
       "      <th>SPHY</th>\n",
       "      <th>SPIB</th>\n",
       "      <th>SPLG</th>\n",
       "      <th>SPLV</th>\n",
       "      <th>SPMB</th>\n",
       "      <th>SPMD</th>\n",
       "      <th>SPMO</th>\n",
       "      <th>SPOT</th>\n",
       "      <th>SPSB</th>\n",
       "      <th>SPSM</th>\n",
       "      <th>SPTI</th>\n",
       "      <th>SPTL</th>\n",
       "      <th>SPTM</th>\n",
       "      <th>SPTS</th>\n",
       "      <th>SPXC</th>\n",
       "      <th>SPXL</th>\n",
       "      <th>SPY</th>\n",
       "      <th>SPYD</th>\n",
       "      <th>SPYG</th>\n",
       "      <th>SPYI</th>\n",
       "      <th>SPYV</th>\n",
       "      <th>SRAD</th>\n",
       "      <th>SRE</th>\n",
       "      <th>SRLN</th>\n",
       "      <th>SSB</th>\n",
       "      <th>SSD</th>\n",
       "      <th>SSNC</th>\n",
       "      <th>SSO</th>\n",
       "      <th>STAG</th>\n",
       "      <th>STE</th>\n",
       "      <th>STEP</th>\n",
       "      <th>STIP</th>\n",
       "      <th>STLA</th>\n",
       "      <th>STLD</th>\n",
       "      <th>STM</th>\n",
       "      <th>STN</th>\n",
       "      <th>STRL</th>\n",
       "      <th>STT</th>\n",
       "      <th>STVN</th>\n",
       "      <th>STWD</th>\n",
       "      <th>STX</th>\n",
       "      <th>STZ</th>\n",
       "      <th>SU</th>\n",
       "      <th>SUB</th>\n",
       "      <th>SUI</th>\n",
       "      <th>SUN</th>\n",
       "      <th>SUSA</th>\n",
       "      <th>SUZ</th>\n",
       "      <th>SWK</th>\n",
       "      <th>SWKS</th>\n",
       "      <th>SYF</th>\n",
       "      <th>SYK</th>\n",
       "      <th>SYM</th>\n",
       "      <th>SYY</th>\n",
       "      <th>T</th>\n",
       "      <th>TAK</th>\n",
       "      <th>TAP</th>\n",
       "      <th>TBIL</th>\n",
       "      <th>TCAF</th>\n",
       "      <th>TCOM</th>\n",
       "      <th>TD</th>\n",
       "      <th>TDG</th>\n",
       "      <th>TDY</th>\n",
       "      <th>TEAM</th>\n",
       "      <th>TECH</th>\n",
       "      <th>TECK</th>\n",
       "      <th>TECL</th>\n",
       "      <th>TEF</th>\n",
       "      <th>TEL</th>\n",
       "      <th>TER</th>\n",
       "      <th>TEVA</th>\n",
       "      <th>TFC</th>\n",
       "      <th>TFII</th>\n",
       "      <th>TFLO</th>\n",
       "      <th>TGT</th>\n",
       "      <th>THC</th>\n",
       "      <th>THG</th>\n",
       "      <th>THRO</th>\n",
       "      <th>TIGO</th>\n",
       "      <th>TIMB</th>\n",
       "      <th>TIP</th>\n",
       "      <th>TJX</th>\n",
       "      <th>TKO</th>\n",
       "      <th>TLH</th>\n",
       "      <th>TLK</th>\n",
       "      <th>TLN</th>\n",
       "      <th>TLT</th>\n",
       "      <th>TM</th>\n",
       "      <th>TME</th>\n",
       "      <th>TMF</th>\n",
       "      <th>TMHC</th>\n",
       "      <th>TMO</th>\n",
       "      <th>TMUS</th>\n",
       "      <th>TOL</th>\n",
       "      <th>TOST</th>\n",
       "      <th>TOTL</th>\n",
       "      <th>TPG</th>\n",
       "      <th>TPL</th>\n",
       "      <th>TPR</th>\n",
       "      <th>TQQQ</th>\n",
       "      <th>TREX</th>\n",
       "      <th>TRGP</th>\n",
       "      <th>TRI</th>\n",
       "      <th>TRMB</th>\n",
       "      <th>TRNO</th>\n",
       "      <th>TROW</th>\n",
       "      <th>TRP</th>\n",
       "      <th>TRU</th>\n",
       "      <th>TRV</th>\n",
       "      <th>TS</th>\n",
       "      <th>TSCO</th>\n",
       "      <th>TSLA</th>\n",
       "      <th>TSLL</th>\n",
       "      <th>TSM</th>\n",
       "      <th>TSN</th>\n",
       "      <th>TT</th>\n",
       "      <th>TTC</th>\n",
       "      <th>TTD</th>\n",
       "      <th>TTE</th>\n",
       "      <th>TTEK</th>\n",
       "      <th>TTWO</th>\n",
       "      <th>TU</th>\n",
       "      <th>TW</th>\n",
       "      <th>TWLO</th>\n",
       "      <th>TX</th>\n",
       "      <th>TXN</th>\n",
       "      <th>TXRH</th>\n",
       "      <th>TXT</th>\n",
       "      <th>TYL</th>\n",
       "      <th>U</th>\n",
       "      <th>UAL</th>\n",
       "      <th>UBER</th>\n",
       "      <th>UBS</th>\n",
       "      <th>UDR</th>\n",
       "      <th>UFPI</th>\n",
       "      <th>UGI</th>\n",
       "      <th>UHAL</th>\n",
       "      <th>UHAL-B</th>\n",
       "      <th>UHS</th>\n",
       "      <th>UI</th>\n",
       "      <th>UL</th>\n",
       "      <th>ULTA</th>\n",
       "      <th>UMBF</th>\n",
       "      <th>UMC</th>\n",
       "      <th>UNH</th>\n",
       "      <th>UNM</th>\n",
       "      <th>UNP</th>\n",
       "      <th>UPRO</th>\n",
       "      <th>UPS</th>\n",
       "      <th>UPST</th>\n",
       "      <th>URA</th>\n",
       "      <th>URBN</th>\n",
       "      <th>URI</th>\n",
       "      <th>URTH</th>\n",
       "      <th>USB</th>\n",
       "      <th>USFD</th>\n",
       "      <th>USFR</th>\n",
       "      <th>USHY</th>\n",
       "      <th>USIG</th>\n",
       "      <th>USMV</th>\n",
       "      <th>UTHR</th>\n",
       "      <th>UWMC</th>\n",
       "      <th>V</th>\n",
       "      <th>VALE</th>\n",
       "      <th>VB</th>\n",
       "      <th>VBK</th>\n",
       "      <th>VBR</th>\n",
       "      <th>VCIT</th>\n",
       "      <th>VCLT</th>\n",
       "      <th>VCR</th>\n",
       "      <th>VCSH</th>\n",
       "      <th>VDC</th>\n",
       "      <th>VDE</th>\n",
       "      <th>VEA</th>\n",
       "      <th>VEEV</th>\n",
       "      <th>VERX</th>\n",
       "      <th>VEU</th>\n",
       "      <th>VFH</th>\n",
       "      <th>VFLO</th>\n",
       "      <th>VFS</th>\n",
       "      <th>VGIT</th>\n",
       "      <th>VGK</th>\n",
       "      <th>VGLT</th>\n",
       "      <th>VGSH</th>\n",
       "      <th>VGT</th>\n",
       "      <th>VHT</th>\n",
       "      <th>VICI</th>\n",
       "      <th>VIG</th>\n",
       "      <th>VIGI</th>\n",
       "      <th>VIPS</th>\n",
       "      <th>VIRT</th>\n",
       "      <th>VIS</th>\n",
       "      <th>VIV</th>\n",
       "      <th>VLO</th>\n",
       "      <th>VLTO</th>\n",
       "      <th>VLUE</th>\n",
       "      <th>VMBS</th>\n",
       "      <th>VMC</th>\n",
       "      <th>VMI</th>\n",
       "      <th>VNO</th>\n",
       "      <th>VNOM</th>\n",
       "      <th>VNQ</th>\n",
       "      <th>VNQI</th>\n",
       "      <th>VO</th>\n",
       "      <th>VOD</th>\n",
       "      <th>VOE</th>\n",
       "      <th>VONE</th>\n",
       "      <th>VONG</th>\n",
       "      <th>VONV</th>\n",
       "      <th>VOO</th>\n",
       "      <th>VOOG</th>\n",
       "      <th>VOOV</th>\n",
       "      <th>VOT</th>\n",
       "      <th>VOX</th>\n",
       "      <th>VOYA</th>\n",
       "      <th>VPL</th>\n",
       "      <th>VPU</th>\n",
       "      <th>VRNA</th>\n",
       "      <th>VRSK</th>\n",
       "      <th>VRSN</th>\n",
       "      <th>VRT</th>\n",
       "      <th>VRTX</th>\n",
       "      <th>VSGX</th>\n",
       "      <th>VSS</th>\n",
       "      <th>VST</th>\n",
       "      <th>VT</th>\n",
       "      <th>VTEB</th>\n",
       "      <th>VTHR</th>\n",
       "      <th>VTI</th>\n",
       "      <th>VTIP</th>\n",
       "      <th>VTR</th>\n",
       "      <th>VTRS</th>\n",
       "      <th>VTV</th>\n",
       "      <th>VTWO</th>\n",
       "      <th>VUG</th>\n",
       "      <th>VUSB</th>\n",
       "      <th>VV</th>\n",
       "      <th>VWO</th>\n",
       "      <th>VWOB</th>\n",
       "      <th>VXF</th>\n",
       "      <th>VXUS</th>\n",
       "      <th>VYM</th>\n",
       "      <th>VYMI</th>\n",
       "      <th>VZ</th>\n",
       "      <th>W</th>\n",
       "      <th>WAB</th>\n",
       "      <th>WAL</th>\n",
       "      <th>WAT</th>\n",
       "      <th>WBA</th>\n",
       "      <th>WBD</th>\n",
       "      <th>WBS</th>\n",
       "      <th>WCC</th>\n",
       "      <th>WCN</th>\n",
       "      <th>WDAY</th>\n",
       "      <th>WDC</th>\n",
       "      <th>WDS</th>\n",
       "      <th>WEC</th>\n",
       "      <th>WELL</th>\n",
       "      <th>WES</th>\n",
       "      <th>WF</th>\n",
       "      <th>WFC</th>\n",
       "      <th>WFG</th>\n",
       "      <th>WH</th>\n",
       "      <th>WING</th>\n",
       "      <th>WIT</th>\n",
       "      <th>WIX</th>\n",
       "      <th>WLK</th>\n",
       "      <th>WM</th>\n",
       "      <th>WMB</th>\n",
       "      <th>WMG</th>\n",
       "      <th>WMS</th>\n",
       "      <th>WMT</th>\n",
       "      <th>WPC</th>\n",
       "      <th>WPM</th>\n",
       "      <th>WPP</th>\n",
       "      <th>WRB</th>\n",
       "      <th>WSM</th>\n",
       "      <th>WSO</th>\n",
       "      <th>WST</th>\n",
       "      <th>WTFC</th>\n",
       "      <th>WTRG</th>\n",
       "      <th>WTS</th>\n",
       "      <th>WTW</th>\n",
       "      <th>WWD</th>\n",
       "      <th>WY</th>\n",
       "      <th>WYNN</th>\n",
       "      <th>XAR</th>\n",
       "      <th>XBI</th>\n",
       "      <th>XEL</th>\n",
       "      <th>XLB</th>\n",
       "      <th>XLC</th>\n",
       "      <th>XLE</th>\n",
       "      <th>XLF</th>\n",
       "      <th>XLG</th>\n",
       "      <th>XLI</th>\n",
       "      <th>XLK</th>\n",
       "      <th>XLP</th>\n",
       "      <th>XLRE</th>\n",
       "      <th>XLU</th>\n",
       "      <th>XLV</th>\n",
       "      <th>XLY</th>\n",
       "      <th>XMHQ</th>\n",
       "      <th>XMMO</th>\n",
       "      <th>XOM</th>\n",
       "      <th>XP</th>\n",
       "      <th>XPEV</th>\n",
       "      <th>XPO</th>\n",
       "      <th>XT</th>\n",
       "      <th>XYL</th>\n",
       "      <th>XYZ</th>\n",
       "      <th>YMM</th>\n",
       "      <th>YPF</th>\n",
       "      <th>YUM</th>\n",
       "      <th>YUMC</th>\n",
       "      <th>Z</th>\n",
       "      <th>ZBH</th>\n",
       "      <th>ZBRA</th>\n",
       "      <th>ZG</th>\n",
       "      <th>ZION</th>\n",
       "      <th>ZM</th>\n",
       "      <th>ZS</th>\n",
       "      <th>ZTO</th>\n",
       "      <th>ZTS</th>\n",
       "      <th>ZWS</th>\n",
       "    </tr>\n",
       "    <tr>\n",
       "      <th>Date</th>\n",
       "      <th></th>\n",
       "      <th></th>\n",
       "      <th></th>\n",
       "      <th></th>\n",
       "      <th></th>\n",
       "      <th></th>\n",
       "      <th></th>\n",
       "      <th></th>\n",
       "      <th></th>\n",
       "      <th></th>\n",
       "      <th></th>\n",
       "      <th></th>\n",
       "      <th></th>\n",
       "      <th></th>\n",
       "      <th></th>\n",
       "      <th></th>\n",
       "      <th></th>\n",
       "      <th></th>\n",
       "      <th></th>\n",
       "      <th></th>\n",
       "      <th></th>\n",
       "      <th></th>\n",
       "      <th></th>\n",
       "      <th></th>\n",
       "      <th></th>\n",
       "      <th></th>\n",
       "      <th></th>\n",
       "      <th></th>\n",
       "      <th></th>\n",
       "      <th></th>\n",
       "      <th></th>\n",
       "      <th></th>\n",
       "      <th></th>\n",
       "      <th></th>\n",
       "      <th></th>\n",
       "      <th></th>\n",
       "      <th></th>\n",
       "      <th></th>\n",
       "      <th></th>\n",
       "      <th></th>\n",
       "      <th></th>\n",
       "      <th></th>\n",
       "      <th></th>\n",
       "      <th></th>\n",
       "      <th></th>\n",
       "      <th></th>\n",
       "      <th></th>\n",
       "      <th></th>\n",
       "      <th></th>\n",
       "      <th></th>\n",
       "      <th></th>\n",
       "      <th></th>\n",
       "      <th></th>\n",
       "      <th></th>\n",
       "      <th></th>\n",
       "      <th></th>\n",
       "      <th></th>\n",
       "      <th></th>\n",
       "      <th></th>\n",
       "      <th></th>\n",
       "      <th></th>\n",
       "      <th></th>\n",
       "      <th></th>\n",
       "      <th></th>\n",
       "      <th></th>\n",
       "      <th></th>\n",
       "      <th></th>\n",
       "      <th></th>\n",
       "      <th></th>\n",
       "      <th></th>\n",
       "      <th></th>\n",
       "      <th></th>\n",
       "      <th></th>\n",
       "      <th></th>\n",
       "      <th></th>\n",
       "      <th></th>\n",
       "      <th></th>\n",
       "      <th></th>\n",
       "      <th></th>\n",
       "      <th></th>\n",
       "      <th></th>\n",
       "      <th></th>\n",
       "      <th></th>\n",
       "      <th></th>\n",
       "      <th></th>\n",
       "      <th></th>\n",
       "      <th></th>\n",
       "      <th></th>\n",
       "      <th></th>\n",
       "      <th></th>\n",
       "      <th></th>\n",
       "      <th></th>\n",
       "      <th></th>\n",
       "      <th></th>\n",
       "      <th></th>\n",
       "      <th></th>\n",
       "      <th></th>\n",
       "      <th></th>\n",
       "      <th></th>\n",
       "      <th></th>\n",
       "      <th></th>\n",
       "      <th></th>\n",
       "      <th></th>\n",
       "      <th></th>\n",
       "      <th></th>\n",
       "      <th></th>\n",
       "      <th></th>\n",
       "      <th></th>\n",
       "      <th></th>\n",
       "      <th></th>\n",
       "      <th></th>\n",
       "      <th></th>\n",
       "      <th></th>\n",
       "      <th></th>\n",
       "      <th></th>\n",
       "      <th></th>\n",
       "      <th></th>\n",
       "      <th></th>\n",
       "      <th></th>\n",
       "      <th></th>\n",
       "      <th></th>\n",
       "      <th></th>\n",
       "      <th></th>\n",
       "      <th></th>\n",
       "      <th></th>\n",
       "      <th></th>\n",
       "      <th></th>\n",
       "      <th></th>\n",
       "      <th></th>\n",
       "      <th></th>\n",
       "      <th></th>\n",
       "      <th></th>\n",
       "      <th></th>\n",
       "      <th></th>\n",
       "      <th></th>\n",
       "      <th></th>\n",
       "      <th></th>\n",
       "      <th></th>\n",
       "      <th></th>\n",
       "      <th></th>\n",
       "      <th></th>\n",
       "      <th></th>\n",
       "      <th></th>\n",
       "      <th></th>\n",
       "      <th></th>\n",
       "      <th></th>\n",
       "      <th></th>\n",
       "      <th></th>\n",
       "      <th></th>\n",
       "      <th></th>\n",
       "      <th></th>\n",
       "      <th></th>\n",
       "      <th></th>\n",
       "      <th></th>\n",
       "      <th></th>\n",
       "      <th></th>\n",
       "      <th></th>\n",
       "      <th></th>\n",
       "      <th></th>\n",
       "      <th></th>\n",
       "      <th></th>\n",
       "      <th></th>\n",
       "      <th></th>\n",
       "      <th></th>\n",
       "      <th></th>\n",
       "      <th></th>\n",
       "      <th></th>\n",
       "      <th></th>\n",
       "      <th></th>\n",
       "      <th></th>\n",
       "      <th></th>\n",
       "      <th></th>\n",
       "      <th></th>\n",
       "      <th></th>\n",
       "      <th></th>\n",
       "      <th></th>\n",
       "      <th></th>\n",
       "      <th></th>\n",
       "      <th></th>\n",
       "      <th></th>\n",
       "      <th></th>\n",
       "      <th></th>\n",
       "      <th></th>\n",
       "      <th></th>\n",
       "      <th></th>\n",
       "      <th></th>\n",
       "      <th></th>\n",
       "      <th></th>\n",
       "      <th></th>\n",
       "      <th></th>\n",
       "      <th></th>\n",
       "      <th></th>\n",
       "      <th></th>\n",
       "      <th></th>\n",
       "      <th></th>\n",
       "      <th></th>\n",
       "      <th></th>\n",
       "      <th></th>\n",
       "      <th></th>\n",
       "      <th></th>\n",
       "      <th></th>\n",
       "      <th></th>\n",
       "      <th></th>\n",
       "      <th></th>\n",
       "      <th></th>\n",
       "      <th></th>\n",
       "      <th></th>\n",
       "      <th></th>\n",
       "      <th></th>\n",
       "      <th></th>\n",
       "      <th></th>\n",
       "      <th></th>\n",
       "      <th></th>\n",
       "      <th></th>\n",
       "      <th></th>\n",
       "      <th></th>\n",
       "      <th></th>\n",
       "      <th></th>\n",
       "      <th></th>\n",
       "      <th></th>\n",
       "      <th></th>\n",
       "      <th></th>\n",
       "      <th></th>\n",
       "      <th></th>\n",
       "      <th></th>\n",
       "      <th></th>\n",
       "      <th></th>\n",
       "      <th></th>\n",
       "      <th></th>\n",
       "      <th></th>\n",
       "      <th></th>\n",
       "      <th></th>\n",
       "      <th></th>\n",
       "      <th></th>\n",
       "      <th></th>\n",
       "      <th></th>\n",
       "      <th></th>\n",
       "      <th></th>\n",
       "      <th></th>\n",
       "      <th></th>\n",
       "      <th></th>\n",
       "      <th></th>\n",
       "      <th></th>\n",
       "      <th></th>\n",
       "      <th></th>\n",
       "      <th></th>\n",
       "      <th></th>\n",
       "      <th></th>\n",
       "      <th></th>\n",
       "      <th></th>\n",
       "      <th></th>\n",
       "      <th></th>\n",
       "      <th></th>\n",
       "      <th></th>\n",
       "      <th></th>\n",
       "      <th></th>\n",
       "      <th></th>\n",
       "      <th></th>\n",
       "      <th></th>\n",
       "      <th></th>\n",
       "      <th></th>\n",
       "      <th></th>\n",
       "      <th></th>\n",
       "      <th></th>\n",
       "      <th></th>\n",
       "      <th></th>\n",
       "      <th></th>\n",
       "      <th></th>\n",
       "      <th></th>\n",
       "      <th></th>\n",
       "      <th></th>\n",
       "      <th></th>\n",
       "      <th></th>\n",
       "      <th></th>\n",
       "      <th></th>\n",
       "      <th></th>\n",
       "      <th></th>\n",
       "      <th></th>\n",
       "      <th></th>\n",
       "      <th></th>\n",
       "      <th></th>\n",
       "      <th></th>\n",
       "      <th></th>\n",
       "      <th></th>\n",
       "      <th></th>\n",
       "      <th></th>\n",
       "      <th></th>\n",
       "      <th></th>\n",
       "      <th></th>\n",
       "      <th></th>\n",
       "      <th></th>\n",
       "      <th></th>\n",
       "      <th></th>\n",
       "      <th></th>\n",
       "      <th></th>\n",
       "      <th></th>\n",
       "      <th></th>\n",
       "      <th></th>\n",
       "      <th></th>\n",
       "      <th></th>\n",
       "      <th></th>\n",
       "      <th></th>\n",
       "      <th></th>\n",
       "      <th></th>\n",
       "      <th></th>\n",
       "      <th></th>\n",
       "      <th></th>\n",
       "      <th></th>\n",
       "      <th></th>\n",
       "      <th></th>\n",
       "      <th></th>\n",
       "      <th></th>\n",
       "      <th></th>\n",
       "      <th></th>\n",
       "      <th></th>\n",
       "      <th></th>\n",
       "      <th></th>\n",
       "      <th></th>\n",
       "      <th></th>\n",
       "      <th></th>\n",
       "      <th></th>\n",
       "      <th></th>\n",
       "      <th></th>\n",
       "      <th></th>\n",
       "      <th></th>\n",
       "      <th></th>\n",
       "      <th></th>\n",
       "      <th></th>\n",
       "      <th></th>\n",
       "      <th></th>\n",
       "      <th></th>\n",
       "      <th></th>\n",
       "      <th></th>\n",
       "      <th></th>\n",
       "      <th></th>\n",
       "      <th></th>\n",
       "      <th></th>\n",
       "      <th></th>\n",
       "      <th></th>\n",
       "      <th></th>\n",
       "      <th></th>\n",
       "      <th></th>\n",
       "      <th></th>\n",
       "      <th></th>\n",
       "      <th></th>\n",
       "      <th></th>\n",
       "      <th></th>\n",
       "      <th></th>\n",
       "      <th></th>\n",
       "      <th></th>\n",
       "      <th></th>\n",
       "      <th></th>\n",
       "      <th></th>\n",
       "      <th></th>\n",
       "      <th></th>\n",
       "      <th></th>\n",
       "      <th></th>\n",
       "      <th></th>\n",
       "      <th></th>\n",
       "      <th></th>\n",
       "      <th></th>\n",
       "      <th></th>\n",
       "      <th></th>\n",
       "      <th></th>\n",
       "      <th></th>\n",
       "      <th></th>\n",
       "      <th></th>\n",
       "      <th></th>\n",
       "      <th></th>\n",
       "      <th></th>\n",
       "      <th></th>\n",
       "      <th></th>\n",
       "      <th></th>\n",
       "      <th></th>\n",
       "      <th></th>\n",
       "      <th></th>\n",
       "      <th></th>\n",
       "      <th></th>\n",
       "      <th></th>\n",
       "      <th></th>\n",
       "      <th></th>\n",
       "      <th></th>\n",
       "      <th></th>\n",
       "      <th></th>\n",
       "      <th></th>\n",
       "      <th></th>\n",
       "      <th></th>\n",
       "      <th></th>\n",
       "      <th></th>\n",
       "      <th></th>\n",
       "      <th></th>\n",
       "      <th></th>\n",
       "      <th></th>\n",
       "      <th></th>\n",
       "      <th></th>\n",
       "      <th></th>\n",
       "      <th></th>\n",
       "      <th></th>\n",
       "      <th></th>\n",
       "      <th></th>\n",
       "      <th></th>\n",
       "      <th></th>\n",
       "      <th></th>\n",
       "      <th></th>\n",
       "      <th></th>\n",
       "      <th></th>\n",
       "      <th></th>\n",
       "      <th></th>\n",
       "      <th></th>\n",
       "      <th></th>\n",
       "      <th></th>\n",
       "      <th></th>\n",
       "      <th></th>\n",
       "      <th></th>\n",
       "      <th></th>\n",
       "      <th></th>\n",
       "      <th></th>\n",
       "      <th></th>\n",
       "      <th></th>\n",
       "      <th></th>\n",
       "      <th></th>\n",
       "      <th></th>\n",
       "      <th></th>\n",
       "      <th></th>\n",
       "      <th></th>\n",
       "      <th></th>\n",
       "      <th></th>\n",
       "      <th></th>\n",
       "      <th></th>\n",
       "      <th></th>\n",
       "      <th></th>\n",
       "      <th></th>\n",
       "      <th></th>\n",
       "      <th></th>\n",
       "      <th></th>\n",
       "      <th></th>\n",
       "      <th></th>\n",
       "      <th></th>\n",
       "      <th></th>\n",
       "      <th></th>\n",
       "      <th></th>\n",
       "      <th></th>\n",
       "      <th></th>\n",
       "      <th></th>\n",
       "      <th></th>\n",
       "      <th></th>\n",
       "      <th></th>\n",
       "      <th></th>\n",
       "      <th></th>\n",
       "      <th></th>\n",
       "      <th></th>\n",
       "      <th></th>\n",
       "      <th></th>\n",
       "      <th></th>\n",
       "      <th></th>\n",
       "      <th></th>\n",
       "      <th></th>\n",
       "      <th></th>\n",
       "      <th></th>\n",
       "      <th></th>\n",
       "      <th></th>\n",
       "      <th></th>\n",
       "      <th></th>\n",
       "      <th></th>\n",
       "      <th></th>\n",
       "      <th></th>\n",
       "      <th></th>\n",
       "      <th></th>\n",
       "      <th></th>\n",
       "      <th></th>\n",
       "      <th></th>\n",
       "      <th></th>\n",
       "      <th></th>\n",
       "      <th></th>\n",
       "      <th></th>\n",
       "      <th></th>\n",
       "      <th></th>\n",
       "      <th></th>\n",
       "      <th></th>\n",
       "      <th></th>\n",
       "      <th></th>\n",
       "      <th></th>\n",
       "      <th></th>\n",
       "      <th></th>\n",
       "      <th></th>\n",
       "      <th></th>\n",
       "      <th></th>\n",
       "      <th></th>\n",
       "      <th></th>\n",
       "      <th></th>\n",
       "      <th></th>\n",
       "      <th></th>\n",
       "      <th></th>\n",
       "      <th></th>\n",
       "      <th></th>\n",
       "      <th></th>\n",
       "      <th></th>\n",
       "      <th></th>\n",
       "      <th></th>\n",
       "      <th></th>\n",
       "      <th></th>\n",
       "      <th></th>\n",
       "      <th></th>\n",
       "      <th></th>\n",
       "      <th></th>\n",
       "      <th></th>\n",
       "      <th></th>\n",
       "      <th></th>\n",
       "      <th></th>\n",
       "      <th></th>\n",
       "      <th></th>\n",
       "      <th></th>\n",
       "      <th></th>\n",
       "      <th></th>\n",
       "      <th></th>\n",
       "      <th></th>\n",
       "      <th></th>\n",
       "      <th></th>\n",
       "      <th></th>\n",
       "      <th></th>\n",
       "      <th></th>\n",
       "      <th></th>\n",
       "      <th></th>\n",
       "      <th></th>\n",
       "      <th></th>\n",
       "      <th></th>\n",
       "      <th></th>\n",
       "      <th></th>\n",
       "      <th></th>\n",
       "      <th></th>\n",
       "      <th></th>\n",
       "      <th></th>\n",
       "      <th></th>\n",
       "      <th></th>\n",
       "      <th></th>\n",
       "      <th></th>\n",
       "      <th></th>\n",
       "      <th></th>\n",
       "      <th></th>\n",
       "      <th></th>\n",
       "      <th></th>\n",
       "      <th></th>\n",
       "      <th></th>\n",
       "      <th></th>\n",
       "      <th></th>\n",
       "      <th></th>\n",
       "      <th></th>\n",
       "      <th></th>\n",
       "      <th></th>\n",
       "      <th></th>\n",
       "      <th></th>\n",
       "      <th></th>\n",
       "      <th></th>\n",
       "      <th></th>\n",
       "      <th></th>\n",
       "      <th></th>\n",
       "      <th></th>\n",
       "      <th></th>\n",
       "      <th></th>\n",
       "      <th></th>\n",
       "      <th></th>\n",
       "      <th></th>\n",
       "      <th></th>\n",
       "      <th></th>\n",
       "      <th></th>\n",
       "      <th></th>\n",
       "      <th></th>\n",
       "      <th></th>\n",
       "      <th></th>\n",
       "      <th></th>\n",
       "      <th></th>\n",
       "      <th></th>\n",
       "      <th></th>\n",
       "      <th></th>\n",
       "      <th></th>\n",
       "      <th></th>\n",
       "      <th></th>\n",
       "      <th></th>\n",
       "      <th></th>\n",
       "      <th></th>\n",
       "      <th></th>\n",
       "      <th></th>\n",
       "      <th></th>\n",
       "      <th></th>\n",
       "      <th></th>\n",
       "      <th></th>\n",
       "      <th></th>\n",
       "      <th></th>\n",
       "      <th></th>\n",
       "      <th></th>\n",
       "      <th></th>\n",
       "      <th></th>\n",
       "      <th></th>\n",
       "      <th></th>\n",
       "      <th></th>\n",
       "      <th></th>\n",
       "      <th></th>\n",
       "      <th></th>\n",
       "      <th></th>\n",
       "      <th></th>\n",
       "      <th></th>\n",
       "      <th></th>\n",
       "      <th></th>\n",
       "      <th></th>\n",
       "      <th></th>\n",
       "      <th></th>\n",
       "      <th></th>\n",
       "      <th></th>\n",
       "      <th></th>\n",
       "      <th></th>\n",
       "      <th></th>\n",
       "      <th></th>\n",
       "      <th></th>\n",
       "      <th></th>\n",
       "      <th></th>\n",
       "      <th></th>\n",
       "      <th></th>\n",
       "      <th></th>\n",
       "      <th></th>\n",
       "      <th></th>\n",
       "      <th></th>\n",
       "      <th></th>\n",
       "      <th></th>\n",
       "      <th></th>\n",
       "      <th></th>\n",
       "      <th></th>\n",
       "      <th></th>\n",
       "      <th></th>\n",
       "      <th></th>\n",
       "      <th></th>\n",
       "      <th></th>\n",
       "      <th></th>\n",
       "      <th></th>\n",
       "      <th></th>\n",
       "      <th></th>\n",
       "      <th></th>\n",
       "      <th></th>\n",
       "      <th></th>\n",
       "      <th></th>\n",
       "      <th></th>\n",
       "      <th></th>\n",
       "      <th></th>\n",
       "      <th></th>\n",
       "      <th></th>\n",
       "      <th></th>\n",
       "      <th></th>\n",
       "      <th></th>\n",
       "      <th></th>\n",
       "      <th></th>\n",
       "      <th></th>\n",
       "      <th></th>\n",
       "      <th></th>\n",
       "      <th></th>\n",
       "      <th></th>\n",
       "      <th></th>\n",
       "      <th></th>\n",
       "      <th></th>\n",
       "      <th></th>\n",
       "      <th></th>\n",
       "      <th></th>\n",
       "      <th></th>\n",
       "      <th></th>\n",
       "      <th></th>\n",
       "      <th></th>\n",
       "      <th></th>\n",
       "      <th></th>\n",
       "      <th></th>\n",
       "      <th></th>\n",
       "      <th></th>\n",
       "      <th></th>\n",
       "      <th></th>\n",
       "      <th></th>\n",
       "      <th></th>\n",
       "      <th></th>\n",
       "      <th></th>\n",
       "      <th></th>\n",
       "      <th></th>\n",
       "      <th></th>\n",
       "      <th></th>\n",
       "      <th></th>\n",
       "      <th></th>\n",
       "      <th></th>\n",
       "      <th></th>\n",
       "      <th></th>\n",
       "      <th></th>\n",
       "      <th></th>\n",
       "      <th></th>\n",
       "      <th></th>\n",
       "      <th></th>\n",
       "      <th></th>\n",
       "      <th></th>\n",
       "      <th></th>\n",
       "      <th></th>\n",
       "      <th></th>\n",
       "      <th></th>\n",
       "      <th></th>\n",
       "      <th></th>\n",
       "      <th></th>\n",
       "      <th></th>\n",
       "      <th></th>\n",
       "      <th></th>\n",
       "      <th></th>\n",
       "      <th></th>\n",
       "      <th></th>\n",
       "      <th></th>\n",
       "      <th></th>\n",
       "      <th></th>\n",
       "      <th></th>\n",
       "      <th></th>\n",
       "      <th></th>\n",
       "      <th></th>\n",
       "      <th></th>\n",
       "      <th></th>\n",
       "      <th></th>\n",
       "      <th></th>\n",
       "      <th></th>\n",
       "      <th></th>\n",
       "      <th></th>\n",
       "      <th></th>\n",
       "      <th></th>\n",
       "      <th></th>\n",
       "      <th></th>\n",
       "      <th></th>\n",
       "      <th></th>\n",
       "      <th></th>\n",
       "      <th></th>\n",
       "      <th></th>\n",
       "      <th></th>\n",
       "      <th></th>\n",
       "      <th></th>\n",
       "      <th></th>\n",
       "      <th></th>\n",
       "      <th></th>\n",
       "      <th></th>\n",
       "      <th></th>\n",
       "      <th></th>\n",
       "      <th></th>\n",
       "      <th></th>\n",
       "      <th></th>\n",
       "      <th></th>\n",
       "      <th></th>\n",
       "      <th></th>\n",
       "      <th></th>\n",
       "      <th></th>\n",
       "      <th></th>\n",
       "      <th></th>\n",
       "      <th></th>\n",
       "      <th></th>\n",
       "      <th></th>\n",
       "      <th></th>\n",
       "      <th></th>\n",
       "      <th></th>\n",
       "      <th></th>\n",
       "      <th></th>\n",
       "      <th></th>\n",
       "      <th></th>\n",
       "      <th></th>\n",
       "      <th></th>\n",
       "      <th></th>\n",
       "      <th></th>\n",
       "      <th></th>\n",
       "      <th></th>\n",
       "      <th></th>\n",
       "      <th></th>\n",
       "      <th></th>\n",
       "      <th></th>\n",
       "      <th></th>\n",
       "      <th></th>\n",
       "      <th></th>\n",
       "      <th></th>\n",
       "      <th></th>\n",
       "      <th></th>\n",
       "      <th></th>\n",
       "      <th></th>\n",
       "      <th></th>\n",
       "      <th></th>\n",
       "      <th></th>\n",
       "      <th></th>\n",
       "      <th></th>\n",
       "      <th></th>\n",
       "      <th></th>\n",
       "      <th></th>\n",
       "      <th></th>\n",
       "      <th></th>\n",
       "      <th></th>\n",
       "      <th></th>\n",
       "      <th></th>\n",
       "      <th></th>\n",
       "      <th></th>\n",
       "      <th></th>\n",
       "      <th></th>\n",
       "      <th></th>\n",
       "      <th></th>\n",
       "      <th></th>\n",
       "      <th></th>\n",
       "      <th></th>\n",
       "      <th></th>\n",
       "      <th></th>\n",
       "      <th></th>\n",
       "      <th></th>\n",
       "      <th></th>\n",
       "      <th></th>\n",
       "      <th></th>\n",
       "      <th></th>\n",
       "      <th></th>\n",
       "      <th></th>\n",
       "      <th></th>\n",
       "      <th></th>\n",
       "      <th></th>\n",
       "      <th></th>\n",
       "      <th></th>\n",
       "      <th></th>\n",
       "      <th></th>\n",
       "      <th></th>\n",
       "      <th></th>\n",
       "      <th></th>\n",
       "      <th></th>\n",
       "      <th></th>\n",
       "      <th></th>\n",
       "      <th></th>\n",
       "      <th></th>\n",
       "      <th></th>\n",
       "      <th></th>\n",
       "      <th></th>\n",
       "      <th></th>\n",
       "      <th></th>\n",
       "      <th></th>\n",
       "      <th></th>\n",
       "      <th></th>\n",
       "      <th></th>\n",
       "      <th></th>\n",
       "      <th></th>\n",
       "      <th></th>\n",
       "      <th></th>\n",
       "      <th></th>\n",
       "      <th></th>\n",
       "      <th></th>\n",
       "      <th></th>\n",
       "      <th></th>\n",
       "      <th></th>\n",
       "      <th></th>\n",
       "      <th></th>\n",
       "      <th></th>\n",
       "      <th></th>\n",
       "      <th></th>\n",
       "      <th></th>\n",
       "      <th></th>\n",
       "      <th></th>\n",
       "      <th></th>\n",
       "      <th></th>\n",
       "      <th></th>\n",
       "      <th></th>\n",
       "      <th></th>\n",
       "      <th></th>\n",
       "      <th></th>\n",
       "      <th></th>\n",
       "      <th></th>\n",
       "      <th></th>\n",
       "      <th></th>\n",
       "      <th></th>\n",
       "      <th></th>\n",
       "      <th></th>\n",
       "      <th></th>\n",
       "      <th></th>\n",
       "      <th></th>\n",
       "      <th></th>\n",
       "      <th></th>\n",
       "      <th></th>\n",
       "      <th></th>\n",
       "      <th></th>\n",
       "      <th></th>\n",
       "      <th></th>\n",
       "      <th></th>\n",
       "      <th></th>\n",
       "      <th></th>\n",
       "      <th></th>\n",
       "      <th></th>\n",
       "      <th></th>\n",
       "      <th></th>\n",
       "      <th></th>\n",
       "      <th></th>\n",
       "      <th></th>\n",
       "      <th></th>\n",
       "      <th></th>\n",
       "      <th></th>\n",
       "      <th></th>\n",
       "      <th></th>\n",
       "      <th></th>\n",
       "      <th></th>\n",
       "      <th></th>\n",
       "      <th></th>\n",
       "      <th></th>\n",
       "      <th></th>\n",
       "      <th></th>\n",
       "      <th></th>\n",
       "      <th></th>\n",
       "      <th></th>\n",
       "      <th></th>\n",
       "      <th></th>\n",
       "      <th></th>\n",
       "      <th></th>\n",
       "      <th></th>\n",
       "      <th></th>\n",
       "      <th></th>\n",
       "      <th></th>\n",
       "      <th></th>\n",
       "      <th></th>\n",
       "      <th></th>\n",
       "      <th></th>\n",
       "      <th></th>\n",
       "      <th></th>\n",
       "      <th></th>\n",
       "      <th></th>\n",
       "      <th></th>\n",
       "      <th></th>\n",
       "      <th></th>\n",
       "      <th></th>\n",
       "      <th></th>\n",
       "      <th></th>\n",
       "      <th></th>\n",
       "      <th></th>\n",
       "      <th></th>\n",
       "      <th></th>\n",
       "      <th></th>\n",
       "      <th></th>\n",
       "      <th></th>\n",
       "      <th></th>\n",
       "      <th></th>\n",
       "      <th></th>\n",
       "      <th></th>\n",
       "      <th></th>\n",
       "      <th></th>\n",
       "      <th></th>\n",
       "      <th></th>\n",
       "      <th></th>\n",
       "      <th></th>\n",
       "      <th></th>\n",
       "      <th></th>\n",
       "      <th></th>\n",
       "      <th></th>\n",
       "      <th></th>\n",
       "      <th></th>\n",
       "      <th></th>\n",
       "      <th></th>\n",
       "      <th></th>\n",
       "      <th></th>\n",
       "      <th></th>\n",
       "      <th></th>\n",
       "      <th></th>\n",
       "      <th></th>\n",
       "      <th></th>\n",
       "      <th></th>\n",
       "      <th></th>\n",
       "      <th></th>\n",
       "      <th></th>\n",
       "      <th></th>\n",
       "      <th></th>\n",
       "      <th></th>\n",
       "      <th></th>\n",
       "      <th></th>\n",
       "      <th></th>\n",
       "      <th></th>\n",
       "      <th></th>\n",
       "      <th></th>\n",
       "      <th></th>\n",
       "      <th></th>\n",
       "      <th></th>\n",
       "      <th></th>\n",
       "      <th></th>\n",
       "      <th></th>\n",
       "      <th></th>\n",
       "      <th></th>\n",
       "      <th></th>\n",
       "      <th></th>\n",
       "      <th></th>\n",
       "      <th></th>\n",
       "      <th></th>\n",
       "      <th></th>\n",
       "      <th></th>\n",
       "      <th></th>\n",
       "      <th></th>\n",
       "      <th></th>\n",
       "      <th></th>\n",
       "      <th></th>\n",
       "      <th></th>\n",
       "      <th></th>\n",
       "      <th></th>\n",
       "      <th></th>\n",
       "      <th></th>\n",
       "      <th></th>\n",
       "      <th></th>\n",
       "      <th></th>\n",
       "      <th></th>\n",
       "      <th></th>\n",
       "      <th></th>\n",
       "      <th></th>\n",
       "      <th></th>\n",
       "      <th></th>\n",
       "      <th></th>\n",
       "      <th></th>\n",
       "      <th></th>\n",
       "      <th></th>\n",
       "      <th></th>\n",
       "      <th></th>\n",
       "      <th></th>\n",
       "      <th></th>\n",
       "      <th></th>\n",
       "      <th></th>\n",
       "      <th></th>\n",
       "      <th></th>\n",
       "      <th></th>\n",
       "      <th></th>\n",
       "      <th></th>\n",
       "      <th></th>\n",
       "      <th></th>\n",
       "      <th></th>\n",
       "      <th></th>\n",
       "      <th></th>\n",
       "      <th></th>\n",
       "      <th></th>\n",
       "      <th></th>\n",
       "      <th></th>\n",
       "      <th></th>\n",
       "      <th></th>\n",
       "      <th></th>\n",
       "      <th></th>\n",
       "      <th></th>\n",
       "      <th></th>\n",
       "      <th></th>\n",
       "      <th></th>\n",
       "      <th></th>\n",
       "      <th></th>\n",
       "      <th></th>\n",
       "      <th></th>\n",
       "      <th></th>\n",
       "      <th></th>\n",
       "      <th></th>\n",
       "      <th></th>\n",
       "      <th></th>\n",
       "      <th></th>\n",
       "      <th></th>\n",
       "      <th></th>\n",
       "      <th></th>\n",
       "      <th></th>\n",
       "      <th></th>\n",
       "      <th></th>\n",
       "      <th></th>\n",
       "      <th></th>\n",
       "      <th></th>\n",
       "      <th></th>\n",
       "      <th></th>\n",
       "      <th></th>\n",
       "      <th></th>\n",
       "      <th></th>\n",
       "      <th></th>\n",
       "      <th></th>\n",
       "      <th></th>\n",
       "      <th></th>\n",
       "      <th></th>\n",
       "      <th></th>\n",
       "      <th></th>\n",
       "      <th></th>\n",
       "      <th></th>\n",
       "      <th></th>\n",
       "      <th></th>\n",
       "      <th></th>\n",
       "      <th></th>\n",
       "      <th></th>\n",
       "      <th></th>\n",
       "      <th></th>\n",
       "      <th></th>\n",
       "      <th></th>\n",
       "      <th></th>\n",
       "      <th></th>\n",
       "      <th></th>\n",
       "      <th></th>\n",
       "      <th></th>\n",
       "      <th></th>\n",
       "      <th></th>\n",
       "      <th></th>\n",
       "      <th></th>\n",
       "      <th></th>\n",
       "      <th></th>\n",
       "      <th></th>\n",
       "      <th></th>\n",
       "      <th></th>\n",
       "      <th></th>\n",
       "      <th></th>\n",
       "      <th></th>\n",
       "      <th></th>\n",
       "      <th></th>\n",
       "      <th></th>\n",
       "      <th></th>\n",
       "      <th></th>\n",
       "      <th></th>\n",
       "      <th></th>\n",
       "      <th></th>\n",
       "      <th></th>\n",
       "      <th></th>\n",
       "      <th></th>\n",
       "      <th></th>\n",
       "      <th></th>\n",
       "      <th></th>\n",
       "      <th></th>\n",
       "      <th></th>\n",
       "      <th></th>\n",
       "      <th></th>\n",
       "      <th></th>\n",
       "      <th></th>\n",
       "      <th></th>\n",
       "      <th></th>\n",
       "      <th></th>\n",
       "      <th></th>\n",
       "      <th></th>\n",
       "      <th></th>\n",
       "      <th></th>\n",
       "      <th></th>\n",
       "      <th></th>\n",
       "      <th></th>\n",
       "      <th></th>\n",
       "      <th></th>\n",
       "      <th></th>\n",
       "      <th></th>\n",
       "      <th></th>\n",
       "      <th></th>\n",
       "      <th></th>\n",
       "      <th></th>\n",
       "      <th></th>\n",
       "      <th></th>\n",
       "      <th></th>\n",
       "      <th></th>\n",
       "      <th></th>\n",
       "      <th></th>\n",
       "      <th></th>\n",
       "      <th></th>\n",
       "      <th></th>\n",
       "      <th></th>\n",
       "      <th></th>\n",
       "      <th></th>\n",
       "      <th></th>\n",
       "      <th></th>\n",
       "      <th></th>\n",
       "      <th></th>\n",
       "      <th></th>\n",
       "      <th></th>\n",
       "      <th></th>\n",
       "      <th></th>\n",
       "      <th></th>\n",
       "      <th></th>\n",
       "      <th></th>\n",
       "      <th></th>\n",
       "      <th></th>\n",
       "      <th></th>\n",
       "      <th></th>\n",
       "      <th></th>\n",
       "      <th></th>\n",
       "      <th></th>\n",
       "      <th></th>\n",
       "      <th></th>\n",
       "      <th></th>\n",
       "      <th></th>\n",
       "      <th></th>\n",
       "      <th></th>\n",
       "      <th></th>\n",
       "      <th></th>\n",
       "      <th></th>\n",
       "      <th></th>\n",
       "      <th></th>\n",
       "      <th></th>\n",
       "      <th></th>\n",
       "      <th></th>\n",
       "      <th></th>\n",
       "      <th></th>\n",
       "      <th></th>\n",
       "      <th></th>\n",
       "      <th></th>\n",
       "      <th></th>\n",
       "      <th></th>\n",
       "      <th></th>\n",
       "      <th></th>\n",
       "      <th></th>\n",
       "      <th></th>\n",
       "      <th></th>\n",
       "      <th></th>\n",
       "      <th></th>\n",
       "      <th></th>\n",
       "      <th></th>\n",
       "      <th></th>\n",
       "      <th></th>\n",
       "      <th></th>\n",
       "      <th></th>\n",
       "      <th></th>\n",
       "      <th></th>\n",
       "      <th></th>\n",
       "      <th></th>\n",
       "      <th></th>\n",
       "      <th></th>\n",
       "      <th></th>\n",
       "      <th></th>\n",
       "      <th></th>\n",
       "      <th></th>\n",
       "      <th></th>\n",
       "      <th></th>\n",
       "      <th></th>\n",
       "      <th></th>\n",
       "      <th></th>\n",
       "      <th></th>\n",
       "      <th></th>\n",
       "      <th></th>\n",
       "      <th></th>\n",
       "      <th></th>\n",
       "      <th></th>\n",
       "      <th></th>\n",
       "      <th></th>\n",
       "      <th></th>\n",
       "      <th></th>\n",
       "      <th></th>\n",
       "      <th></th>\n",
       "      <th></th>\n",
       "      <th></th>\n",
       "      <th></th>\n",
       "      <th></th>\n",
       "      <th></th>\n",
       "      <th></th>\n",
       "      <th></th>\n",
       "      <th></th>\n",
       "      <th></th>\n",
       "      <th></th>\n",
       "      <th></th>\n",
       "      <th></th>\n",
       "      <th></th>\n",
       "      <th></th>\n",
       "      <th></th>\n",
       "      <th></th>\n",
       "      <th></th>\n",
       "      <th></th>\n",
       "      <th></th>\n",
       "      <th></th>\n",
       "      <th></th>\n",
       "      <th></th>\n",
       "      <th></th>\n",
       "      <th></th>\n",
       "      <th></th>\n",
       "      <th></th>\n",
       "      <th></th>\n",
       "      <th></th>\n",
       "      <th></th>\n",
       "      <th></th>\n",
       "      <th></th>\n",
       "      <th></th>\n",
       "      <th></th>\n",
       "      <th></th>\n",
       "      <th></th>\n",
       "      <th></th>\n",
       "      <th></th>\n",
       "      <th></th>\n",
       "      <th></th>\n",
       "      <th></th>\n",
       "      <th></th>\n",
       "      <th></th>\n",
       "      <th></th>\n",
       "      <th></th>\n",
       "      <th></th>\n",
       "      <th></th>\n",
       "      <th></th>\n",
       "      <th></th>\n",
       "      <th></th>\n",
       "      <th></th>\n",
       "      <th></th>\n",
       "      <th></th>\n",
       "      <th></th>\n",
       "      <th></th>\n",
       "      <th></th>\n",
       "      <th></th>\n",
       "      <th></th>\n",
       "      <th></th>\n",
       "      <th></th>\n",
       "      <th></th>\n",
       "      <th></th>\n",
       "      <th></th>\n",
       "      <th></th>\n",
       "      <th></th>\n",
       "      <th></th>\n",
       "      <th></th>\n",
       "      <th></th>\n",
       "      <th></th>\n",
       "      <th></th>\n",
       "      <th></th>\n",
       "      <th></th>\n",
       "      <th></th>\n",
       "      <th></th>\n",
       "      <th></th>\n",
       "      <th></th>\n",
       "      <th></th>\n",
       "      <th></th>\n",
       "      <th></th>\n",
       "      <th></th>\n",
       "      <th></th>\n",
       "      <th></th>\n",
       "      <th></th>\n",
       "      <th></th>\n",
       "      <th></th>\n",
       "      <th></th>\n",
       "      <th></th>\n",
       "      <th></th>\n",
       "      <th></th>\n",
       "      <th></th>\n",
       "      <th></th>\n",
       "      <th></th>\n",
       "      <th></th>\n",
       "      <th></th>\n",
       "      <th></th>\n",
       "      <th></th>\n",
       "      <th></th>\n",
       "      <th></th>\n",
       "      <th></th>\n",
       "      <th></th>\n",
       "      <th></th>\n",
       "      <th></th>\n",
       "      <th></th>\n",
       "      <th></th>\n",
       "      <th></th>\n",
       "      <th></th>\n",
       "      <th></th>\n",
       "      <th></th>\n",
       "      <th></th>\n",
       "      <th></th>\n",
       "      <th></th>\n",
       "      <th></th>\n",
       "      <th></th>\n",
       "      <th></th>\n",
       "      <th></th>\n",
       "      <th></th>\n",
       "      <th></th>\n",
       "      <th></th>\n",
       "      <th></th>\n",
       "      <th></th>\n",
       "      <th></th>\n",
       "      <th></th>\n",
       "      <th></th>\n",
       "      <th></th>\n",
       "      <th></th>\n",
       "      <th></th>\n",
       "      <th></th>\n",
       "      <th></th>\n",
       "      <th></th>\n",
       "      <th></th>\n",
       "      <th></th>\n",
       "      <th></th>\n",
       "      <th></th>\n",
       "      <th></th>\n",
       "      <th></th>\n",
       "      <th></th>\n",
       "      <th></th>\n",
       "      <th></th>\n",
       "      <th></th>\n",
       "      <th></th>\n",
       "      <th></th>\n",
       "      <th></th>\n",
       "      <th></th>\n",
       "      <th></th>\n",
       "      <th></th>\n",
       "      <th></th>\n",
       "      <th></th>\n",
       "      <th></th>\n",
       "      <th></th>\n",
       "      <th></th>\n",
       "      <th></th>\n",
       "      <th></th>\n",
       "      <th></th>\n",
       "      <th></th>\n",
       "      <th></th>\n",
       "      <th></th>\n",
       "      <th></th>\n",
       "      <th></th>\n",
       "      <th></th>\n",
       "      <th></th>\n",
       "      <th></th>\n",
       "      <th></th>\n",
       "      <th></th>\n",
       "      <th></th>\n",
       "      <th></th>\n",
       "      <th></th>\n",
       "      <th></th>\n",
       "      <th></th>\n",
       "      <th></th>\n",
       "      <th></th>\n",
       "      <th></th>\n",
       "      <th></th>\n",
       "      <th></th>\n",
       "      <th></th>\n",
       "      <th></th>\n",
       "      <th></th>\n",
       "      <th></th>\n",
       "      <th></th>\n",
       "      <th></th>\n",
       "      <th></th>\n",
       "      <th></th>\n",
       "      <th></th>\n",
       "      <th></th>\n",
       "      <th></th>\n",
       "      <th></th>\n",
       "      <th></th>\n",
       "      <th></th>\n",
       "      <th></th>\n",
       "      <th></th>\n",
       "      <th></th>\n",
       "      <th></th>\n",
       "      <th></th>\n",
       "      <th></th>\n",
       "      <th></th>\n",
       "      <th></th>\n",
       "      <th></th>\n",
       "      <th></th>\n",
       "      <th></th>\n",
       "      <th></th>\n",
       "      <th></th>\n",
       "      <th></th>\n",
       "      <th></th>\n",
       "      <th></th>\n",
       "      <th></th>\n",
       "      <th></th>\n",
       "      <th></th>\n",
       "      <th></th>\n",
       "      <th></th>\n",
       "      <th></th>\n",
       "      <th></th>\n",
       "      <th></th>\n",
       "      <th></th>\n",
       "      <th></th>\n",
       "      <th></th>\n",
       "      <th></th>\n",
       "      <th></th>\n",
       "      <th></th>\n",
       "      <th></th>\n",
       "      <th></th>\n",
       "      <th></th>\n",
       "      <th></th>\n",
       "      <th></th>\n",
       "      <th></th>\n",
       "      <th></th>\n",
       "      <th></th>\n",
       "      <th></th>\n",
       "      <th></th>\n",
       "      <th></th>\n",
       "      <th></th>\n",
       "      <th></th>\n",
       "      <th></th>\n",
       "      <th></th>\n",
       "      <th></th>\n",
       "      <th></th>\n",
       "      <th></th>\n",
       "      <th></th>\n",
       "      <th></th>\n",
       "      <th></th>\n",
       "      <th></th>\n",
       "      <th></th>\n",
       "      <th></th>\n",
       "      <th></th>\n",
       "      <th></th>\n",
       "      <th></th>\n",
       "      <th></th>\n",
       "      <th></th>\n",
       "      <th></th>\n",
       "      <th></th>\n",
       "      <th></th>\n",
       "      <th></th>\n",
       "      <th></th>\n",
       "      <th></th>\n",
       "      <th></th>\n",
       "      <th></th>\n",
       "      <th></th>\n",
       "      <th></th>\n",
       "      <th></th>\n",
       "      <th></th>\n",
       "      <th></th>\n",
       "      <th></th>\n",
       "      <th></th>\n",
       "      <th></th>\n",
       "      <th></th>\n",
       "      <th></th>\n",
       "      <th></th>\n",
       "      <th></th>\n",
       "      <th></th>\n",
       "      <th></th>\n",
       "      <th></th>\n",
       "      <th></th>\n",
       "      <th></th>\n",
       "      <th></th>\n",
       "      <th></th>\n",
       "      <th></th>\n",
       "      <th></th>\n",
       "      <th></th>\n",
       "      <th></th>\n",
       "      <th></th>\n",
       "      <th></th>\n",
       "      <th></th>\n",
       "      <th></th>\n",
       "      <th></th>\n",
       "      <th></th>\n",
       "      <th></th>\n",
       "      <th></th>\n",
       "      <th></th>\n",
       "      <th></th>\n",
       "      <th></th>\n",
       "      <th></th>\n",
       "      <th></th>\n",
       "      <th></th>\n",
       "      <th></th>\n",
       "      <th></th>\n",
       "      <th></th>\n",
       "      <th></th>\n",
       "      <th></th>\n",
       "      <th></th>\n",
       "      <th></th>\n",
       "      <th></th>\n",
       "      <th></th>\n",
       "      <th></th>\n",
       "      <th></th>\n",
       "      <th></th>\n",
       "      <th></th>\n",
       "      <th></th>\n",
       "      <th></th>\n",
       "      <th></th>\n",
       "      <th></th>\n",
       "      <th></th>\n",
       "      <th></th>\n",
       "      <th></th>\n",
       "      <th></th>\n",
       "      <th></th>\n",
       "      <th></th>\n",
       "      <th></th>\n",
       "      <th></th>\n",
       "      <th></th>\n",
       "      <th></th>\n",
       "      <th></th>\n",
       "      <th></th>\n",
       "      <th></th>\n",
       "      <th></th>\n",
       "      <th></th>\n",
       "      <th></th>\n",
       "      <th></th>\n",
       "      <th></th>\n",
       "      <th></th>\n",
       "      <th></th>\n",
       "      <th></th>\n",
       "      <th></th>\n",
       "      <th></th>\n",
       "      <th></th>\n",
       "      <th></th>\n",
       "      <th></th>\n",
       "      <th></th>\n",
       "      <th></th>\n",
       "      <th></th>\n",
       "      <th></th>\n",
       "      <th></th>\n",
       "      <th></th>\n",
       "      <th></th>\n",
       "      <th></th>\n",
       "    </tr>\n",
       "  </thead>\n",
       "  <tbody>\n",
       "    <tr>\n",
       "      <th>2024-02-01</th>\n",
       "      <td>131.8530</td>\n",
       "      <td>29.1503</td>\n",
       "      <td>14.3400</td>\n",
       "      <td>71.8380</td>\n",
       "      <td>185.5020</td>\n",
       "      <td>160.2190</td>\n",
       "      <td>2.4781</td>\n",
       "      <td>146.4900</td>\n",
       "      <td>111.6860</td>\n",
       "      <td>78.0593</td>\n",
       "      <td>4.9500</td>\n",
       "      <td>20.7291</td>\n",
       "      <td>88.6331</td>\n",
       "      <td>363.0240</td>\n",
       "      <td>100.7880</td>\n",
       "      <td>99.1290</td>\n",
       "      <td>48.5255</td>\n",
       "      <td>627.9100</td>\n",
       "      <td>57.7021</td>\n",
       "      <td>187.1370</td>\n",
       "      <td>53.6263</td>\n",
       "      <td>239.2950</td>\n",
       "      <td>255.0700</td>\n",
       "      <td>6.2793</td>\n",
       "      <td>67.3557</td>\n",
       "      <td>5.5006</td>\n",
       "      <td>49.2070</td>\n",
       "      <td>75.1907</td>\n",
       "      <td>76.4676</td>\n",
       "      <td>16.1034</td>\n",
       "      <td>106.9060</td>\n",
       "      <td>73.7697</td>\n",
       "      <td>39.6700</td>\n",
       "      <td>118.4310</td>\n",
       "      <td>94.7975</td>\n",
       "      <td>12.5912</td>\n",
       "      <td>7.9251</td>\n",
       "      <td>116.4000</td>\n",
       "      <td>66.7033</td>\n",
       "      <td>31.5729</td>\n",
       "      <td>57.2211</td>\n",
       "      <td>179.6970</td>\n",
       "      <td>165.3950</td>\n",
       "      <td>229.1810</td>\n",
       "      <td>124.0400</td>\n",
       "      <td>41.7207</td>\n",
       "      <td>113.6110</td>\n",
       "      <td>76.1408</td>\n",
       "      <td>29.1400</td>\n",
       "      <td>273.3800</td>\n",
       "      <td>36.2600</td>\n",
       "      <td>151.4960</td>\n",
       "      <td>124.8870</td>\n",
       "      <td>35.6442</td>\n",
       "      <td>174.9200</td>\n",
       "      <td>60.4189</td>\n",
       "      <td>107.4710</td>\n",
       "      <td>11.3845</td>\n",
       "      <td>164.8270</td>\n",
       "      <td>8.8877</td>\n",
       "      <td>170.4800</td>\n",
       "      <td>164.2520</td>\n",
       "      <td>309.7780</td>\n",
       "      <td>34.1692</td>\n",
       "      <td>39.6703</td>\n",
       "      <td>378.4970</td>\n",
       "      <td>188.8400</td>\n",
       "      <td>17.6085</td>\n",
       "      <td>159.2800</td>\n",
       "      <td>145.6300</td>\n",
       "      <td>65.7450</td>\n",
       "      <td>332.6600</td>\n",
       "      <td>298.1150</td>\n",
       "      <td>77.8196</td>\n",
       "      <td>29.2262</td>\n",
       "      <td>251.2950</td>\n",
       "      <td>33.1100</td>\n",
       "      <td>50.5604</td>\n",
       "      <td>98.4392</td>\n",
       "      <td>40.9600</td>\n",
       "      <td>226.6800</td>\n",
       "      <td>83.5000</td>\n",
       "      <td>22.1600</td>\n",
       "      <td>17.5253</td>\n",
       "      <td>115.3610</td>\n",
       "      <td>117.8300</td>\n",
       "      <td>385.5800</td>\n",
       "      <td>14.3533</td>\n",
       "      <td>46.0300</td>\n",
       "      <td>70.5200</td>\n",
       "      <td>29.2179</td>\n",
       "      <td>111.4600</td>\n",
       "      <td>13.4000</td>\n",
       "      <td>879.0860</td>\n",
       "      <td>141.6300</td>\n",
       "      <td>287.4620</td>\n",
       "      <td>2.9000</td>\n",
       "      <td>8.7928</td>\n",
       "      <td>38.5500</td>\n",
       "      <td>111.5240</td>\n",
       "      <td>128.6080</td>\n",
       "      <td>17.9638</td>\n",
       "      <td>3.1400</td>\n",
       "      <td>121.9200</td>\n",
       "      <td>170.9430</td>\n",
       "      <td>57.3627</td>\n",
       "      <td>58.1881</td>\n",
       "      <td>52.9319</td>\n",
       "      <td>117.7720</td>\n",
       "      <td>57.0022</td>\n",
       "      <td>23.5600</td>\n",
       "      <td>81.1711</td>\n",
       "      <td>85.3868</td>\n",
       "      <td>194.3310</td>\n",
       "      <td>100.9150</td>\n",
       "      <td>120.9670</td>\n",
       "      <td>252.7000</td>\n",
       "      <td>200.3270</td>\n",
       "      <td>55.5694</td>\n",
       "      <td>32.9400</td>\n",
       "      <td>239.2910</td>\n",
       "      <td>39.9900</td>\n",
       "      <td>64.5147</td>\n",
       "      <td>2798.1500</td>\n",
       "      <td>15.3537</td>\n",
       "      <td>209.8100</td>\n",
       "      <td>70.9187</td>\n",
       "      <td>32.3218</td>\n",
       "      <td>138.8190</td>\n",
       "      <td>58.2349</td>\n",
       "      <td>38.2999</td>\n",
       "      <td>147.1720</td>\n",
       "      <td>37.6960</td>\n",
       "      <td>44.9168</td>\n",
       "      <td>62.0161</td>\n",
       "      <td>2.7993</td>\n",
       "      <td>53.3672</td>\n",
       "      <td>54.4827</td>\n",
       "      <td>33.3100</td>\n",
       "      <td>53.3136</td>\n",
       "      <td>86.7754</td>\n",
       "      <td>8.8761</td>\n",
       "      <td>42.0732</td>\n",
       "      <td>70.2373</td>\n",
       "      <td>35.7091</td>\n",
       "      <td>19.6760</td>\n",
       "      <td>7.1924</td>\n",
       "      <td>235.8040</td>\n",
       "      <td>13.8814</td>\n",
       "      <td>25.1517</td>\n",
       "      <td>24.2899</td>\n",
       "      <td>56.7771</td>\n",
       "      <td>55.1713</td>\n",
       "      <td>100.4900</td>\n",
       "      <td>86.2583</td>\n",
       "      <td>57.6107</td>\n",
       "      <td>104.9800</td>\n",
       "      <td>247.8300</td>\n",
       "      <td>85.8524</td>\n",
       "      <td>9.3500</td>\n",
       "      <td>93.0935</td>\n",
       "      <td>48.4646</td>\n",
       "      <td>328.9600</td>\n",
       "      <td>29.8025</td>\n",
       "      <td>46.6700</td>\n",
       "      <td>23.4500</td>\n",
       "      <td>72.7926</td>\n",
       "      <td>65.3500</td>\n",
       "      <td>53.7189</td>\n",
       "      <td>91.5287</td>\n",
       "      <td>18.7726</td>\n",
       "      <td>3513.9000</td>\n",
       "      <td>27.5994</td>\n",
       "      <td>378.2100</td>\n",
       "      <td>179.0200</td>\n",
       "      <td>758.4450</td>\n",
       "      <td>69.7715</td>\n",
       "      <td>143.9980</td>\n",
       "      <td>90.6950</td>\n",
       "      <td>88.7400</td>\n",
       "      <td>45.8565</td>\n",
       "      <td>38.8115</td>\n",
       "      <td>70.1086</td>\n",
       "      <td>46.6953</td>\n",
       "      <td>45.2217</td>\n",
       "      <td>38.6269</td>\n",
       "      <td>94.5100</td>\n",
       "      <td>80.2870</td>\n",
       "      <td>86.6618</td>\n",
       "      <td>105.3270</td>\n",
       "      <td>32.2897</td>\n",
       "      <td>79.8800</td>\n",
       "      <td>81.7668</td>\n",
       "      <td>196.9430</td>\n",
       "      <td>56.4100</td>\n",
       "      <td>2.8503</td>\n",
       "      <td>581600.0000</td>\n",
       "      <td>386.4400</td>\n",
       "      <td>72.1935</td>\n",
       "      <td>77.2443</td>\n",
       "      <td>27.1500</td>\n",
       "      <td>21.5404</td>\n",
       "      <td>18.2803</td>\n",
       "      <td>5.4575</td>\n",
       "      <td>19.3509</td>\n",
       "      <td>18.2401</td>\n",
       "      <td>18.3276</td>\n",
       "      <td>73.6656</td>\n",
       "      <td>64.8200</td>\n",
       "      <td>50.9510</td>\n",
       "      <td>27.1556</td>\n",
       "      <td>61.7378</td>\n",
       "      <td>27.0500</td>\n",
       "      <td>197.3200</td>\n",
       "      <td>33.7923</td>\n",
       "      <td>82.3363</td>\n",
       "      <td>119.3310</td>\n",
       "      <td>60.7289</td>\n",
       "      <td>25.1649</td>\n",
       "      <td>63.4647</td>\n",
       "      <td>14.4700</td>\n",
       "      <td>53.2503</td>\n",
       "      <td>346.0400</td>\n",
       "      <td>20.0100</td>\n",
       "      <td>27.8400</td>\n",
       "      <td>102.7950</td>\n",
       "      <td>47.1468</td>\n",
       "      <td>162.7500</td>\n",
       "      <td>54.7463</td>\n",
       "      <td>25.2500</td>\n",
       "      <td>273.0530</td>\n",
       "      <td>301.6720</td>\n",
       "      <td>49.4100</td>\n",
       "      <td>240.9650</td>\n",
       "      <td>184.7300</td>\n",
       "      <td>86.1900</td>\n",
       "      <td>48.2440</td>\n",
       "      <td>11.0500</td>\n",
       "      <td>67.3818</td>\n",
       "      <td>101.8470</td>\n",
       "      <td>50.4617</td>\n",
       "      <td>88.1001</td>\n",
       "      <td>16.8000</td>\n",
       "      <td>2.8600</td>\n",
       "      <td>290.5200</td>\n",
       "      <td>22.1362</td>\n",
       "      <td>225.9520</td>\n",
       "      <td>144.8260</td>\n",
       "      <td>18.8300</td>\n",
       "      <td>126.3410</td>\n",
       "      <td>51.1000</td>\n",
       "      <td>74.0241</td>\n",
       "      <td>29.6056</td>\n",
       "      <td>22.7700</td>\n",
       "      <td>98.6988</td>\n",
       "      <td>38.7699</td>\n",
       "      <td>21.4032</td>\n",
       "      <td>29.6436</td>\n",
       "      <td>26.3330</td>\n",
       "      <td>29.0617</td>\n",
       "      <td>26.0587</td>\n",
       "      <td>28.7005</td>\n",
       "      <td>24.0249</td>\n",
       "      <td>100.0700</td>\n",
       "      <td>121.9450</td>\n",
       "      <td>595.2210</td>\n",
       "      <td>161.9900</td>\n",
       "      <td>140.0830</td>\n",
       "      <td>70.6182</td>\n",
       "      <td>38.1700</td>\n",
       "      <td>382.3400</td>\n",
       "      <td>17.9000</td>\n",
       "      <td>299.4310</td>\n",
       "      <td>56.3737</td>\n",
       "      <td>54.0900</td>\n",
       "      <td>118.6160</td>\n",
       "      <td>106.4990</td>\n",
       "      <td>83.8184</td>\n",
       "      <td>172.6200</td>\n",
       "      <td>36.1200</td>\n",
       "      <td>142.1170</td>\n",
       "      <td>43.9132</td>\n",
       "      <td>47.2779</td>\n",
       "      <td>44.8807</td>\n",
       "      <td>194.7650</td>\n",
       "      <td>55.8319</td>\n",
       "      <td>48.8404</td>\n",
       "      <td>234.9400</td>\n",
       "      <td>56.0762</td>\n",
       "      <td>37.7121</td>\n",
       "      <td>75.3000</td>\n",
       "      <td>11.5936</td>\n",
       "      <td>125.0240</td>\n",
       "      <td>42.0600</td>\n",
       "      <td>27.2386</td>\n",
       "      <td>30.1339</td>\n",
       "      <td>131.5630</td>\n",
       "      <td>48.7900</td>\n",
       "      <td>128.9500</td>\n",
       "      <td>85.8420</td>\n",
       "      <td>95.3800</td>\n",
       "      <td>66.9300</td>\n",
       "      <td>106.5670</td>\n",
       "      <td>233.8550</td>\n",
       "      <td>21.6300</td>\n",
       "      <td>699.7330</td>\n",
       "      <td>50.7112</td>\n",
       "      <td>82.7540</td>\n",
       "      <td>294.5500</td>\n",
       "      <td>43.2720</td>\n",
       "      <td>13.9100</td>\n",
       "      <td>49.2000</td>\n",
       "      <td>91.2643</td>\n",
       "      <td>48.0954</td>\n",
       "      <td>125.3400</td>\n",
       "      <td>22.2971</td>\n",
       "      <td>20.5600</td>\n",
       "      <td>72.0087</td>\n",
       "      <td>7.7600</td>\n",
       "      <td>219.5400</td>\n",
       "      <td>281.3350</td>\n",
       "      <td>60.3107</td>\n",
       "      <td>299.3700</td>\n",
       "      <td>48.3222</td>\n",
       "      <td>84.6000</td>\n",
       "      <td>314.4710</td>\n",
       "      <td>35.4970</td>\n",
       "      <td>152.8810</td>\n",
       "      <td>23.4324</td>\n",
       "      <td>76.0916</td>\n",
       "      <td>53.1682</td>\n",
       "      <td>41.5302</td>\n",
       "      <td>15.7170</td>\n",
       "      <td>94.6400</td>\n",
       "      <td>42.5300</td>\n",
       "      <td>69.9765</td>\n",
       "      <td>138.5390</td>\n",
       "      <td>223.4570</td>\n",
       "      <td>19.1900</td>\n",
       "      <td>69.6653</td>\n",
       "      <td>22.6298</td>\n",
       "      <td>20.8036</td>\n",
       "      <td>86.6700</td>\n",
       "      <td>8.3040</td>\n",
       "      <td>236.0700</td>\n",
       "      <td>44.0000</td>\n",
       "      <td>43.3665</td>\n",
       "      <td>39.1259</td>\n",
       "      <td>43.5200</td>\n",
       "      <td>107.3000</td>\n",
       "      <td>69.9400</td>\n",
       "      <td>13.2127</td>\n",
       "      <td>36.3470</td>\n",
       "      <td>32.2700</td>\n",
       "      <td>65.1167</td>\n",
       "      <td>60.1154</td>\n",
       "      <td>126.9000</td>\n",
       "      <td>370.4690</td>\n",
       "      <td>386.4880</td>\n",
       "      <td>128.8080</td>\n",
       "      <td>83.9738</td>\n",
       "      <td>142.4770</td>\n",
       "      <td>29.1450</td>\n",
       "      <td>22.6461</td>\n",
       "      <td>27.5057</td>\n",
       "      <td>57.4944</td>\n",
       "      <td>49.8497</td>\n",
       "      <td>33.4243</td>\n",
       "      <td>23.1197</td>\n",
       "      <td>39.9602</td>\n",
       "      <td>23.4464</td>\n",
       "      <td>24.3381</td>\n",
       "      <td>32.1615</td>\n",
       "      <td>26.7502</td>\n",
       "      <td>44.3433</td>\n",
       "      <td>27.7033</td>\n",
       "      <td>52.3161</td>\n",
       "      <td>36.6088</td>\n",
       "      <td>132.0640</td>\n",
       "      <td>53.2262</td>\n",
       "      <td>70.3283</td>\n",
       "      <td>123.9330</td>\n",
       "      <td>145.2320</td>\n",
       "      <td>243.7060</td>\n",
       "      <td>377.0180</td>\n",
       "      <td>24.9525</td>\n",
       "      <td>53.6886</td>\n",
       "      <td>95.7796</td>\n",
       "      <td>35.0752</td>\n",
       "      <td>40.6500</td>\n",
       "      <td>147.6860</td>\n",
       "      <td>82.8228</td>\n",
       "      <td>65.8547</td>\n",
       "      <td>137.3560</td>\n",
       "      <td>135.6300</td>\n",
       "      <td>17.1426</td>\n",
       "      <td>27.5000</td>\n",
       "      <td>58.9300</td>\n",
       "      <td>43.4970</td>\n",
       "      <td>153.9520</td>\n",
       "      <td>48.6064</td>\n",
       "      <td>90.0956</td>\n",
       "      <td>424.4710</td>\n",
       "      <td>160.3470</td>\n",
       "      <td>19.7788</td>\n",
       "      <td>88.8000</td>\n",
       "      <td>92.9335</td>\n",
       "      <td>58.3000</td>\n",
       "      <td>102.0400</td>\n",
       "      <td>50.9958</td>\n",
       "      <td>29.0508</td>\n",
       "      <td>92.2530</td>\n",
       "      <td>181.4400</td>\n",
       "      <td>112.2300</td>\n",
       "      <td>39.8143</td>\n",
       "      <td>109.7820</td>\n",
       "      <td>122.6000</td>\n",
       "      <td>91.9460</td>\n",
       "      <td>113.7800</td>\n",
       "      <td>40.3662</td>\n",
       "      <td>29.3882</td>\n",
       "      <td>136.8300</td>\n",
       "      <td>45.3253</td>\n",
       "      <td>46.0300</td>\n",
       "      <td>40.5588</td>\n",
       "      <td>8.3456</td>\n",
       "      <td>10.6324</td>\n",
       "      <td>197.0980</td>\n",
       "      <td>88.0739</td>\n",
       "      <td>77.4678</td>\n",
       "      <td>76.8031</td>\n",
       "      <td>37.4919</td>\n",
       "      <td>52.1905</td>\n",
       "      <td>72.1995</td>\n",
       "      <td>66.0860</td>\n",
       "      <td>96.0636</td>\n",
       "      <td>48.4612</td>\n",
       "      <td>247.9720</td>\n",
       "      <td>368.8340</td>\n",
       "      <td>175.9490</td>\n",
       "      <td>72.3485</td>\n",
       "      <td>64.4887</td>\n",
       "      <td>130.4730</td>\n",
       "      <td>14.7900</td>\n",
       "      <td>162.5000</td>\n",
       "      <td>66.8929</td>\n",
       "      <td>484.6820</td>\n",
       "      <td>33.4779</td>\n",
       "      <td>82.1795</td>\n",
       "      <td>233.0010</td>\n",
       "      <td>23.0655</td>\n",
       "      <td>80.4758</td>\n",
       "      <td>91.2342</td>\n",
       "      <td>52.6729</td>\n",
       "      <td>34.1075</td>\n",
       "      <td>105.4400</td>\n",
       "      <td>115.0780</td>\n",
       "      <td>117.4280</td>\n",
       "      <td>108.5030</td>\n",
       "      <td>285.5800</td>\n",
       "      <td>24.5602</td>\n",
       "      <td>42.9568</td>\n",
       "      <td>24.0511</td>\n",
       "      <td>31.3257</td>\n",
       "      <td>820.7690</td>\n",
       "      <td>24.9707</td>\n",
       "      <td>57.4947</td>\n",
       "      <td>34.2378</td>\n",
       "      <td>5.1902</td>\n",
       "      <td>341.5430</td>\n",
       "      <td>18.3500</td>\n",
       "      <td>52.0985</td>\n",
       "      <td>87.0032</td>\n",
       "      <td>72.3032</td>\n",
       "      <td>29.8290</td>\n",
       "      <td>105.7800</td>\n",
       "      <td>85.9229</td>\n",
       "      <td>206.5440</td>\n",
       "      <td>53.7669</td>\n",
       "      <td>227.1980</td>\n",
       "      <td>118.6600</td>\n",
       "      <td>12.7986</td>\n",
       "      <td>259.4830</td>\n",
       "      <td>50.2593</td>\n",
       "      <td>72.6200</td>\n",
       "      <td>19.0096</td>\n",
       "      <td>171.4040</td>\n",
       "      <td>48.4441</td>\n",
       "      <td>78.7100</td>\n",
       "      <td>67.0338</td>\n",
       "      <td>64.8819</td>\n",
       "      <td>44.9600</td>\n",
       "      <td>59.8684</td>\n",
       "      <td>30.2380</td>\n",
       "      <td>63.9300</td>\n",
       "      <td>33.0140</td>\n",
       "      <td>73.9306</td>\n",
       "      <td>21.7500</td>\n",
       "      <td>31.9400</td>\n",
       "      <td>232.3860</td>\n",
       "      <td>121.3710</td>\n",
       "      <td>150.8420</td>\n",
       "      <td>137.1660</td>\n",
       "      <td>45.4071</td>\n",
       "      <td>10.7932</td>\n",
       "      <td>57.8204</td>\n",
       "      <td>144.1820</td>\n",
       "      <td>33.5751</td>\n",
       "      <td>34.6679</td>\n",
       "      <td>77.1133</td>\n",
       "      <td>43.2589</td>\n",
       "      <td>37.6600</td>\n",
       "      <td>117.4410</td>\n",
       "      <td>1477.3700</td>\n",
       "      <td>39.4939</td>\n",
       "      <td>34.2674</td>\n",
       "      <td>193.7600</td>\n",
       "      <td>477.8510</td>\n",
       "      <td>41.0650</td>\n",
       "      <td>234.2820</td>\n",
       "      <td>35.0171</td>\n",
       "      <td>26.9877</td>\n",
       "      <td>27.1086</td>\n",
       "      <td>36.9263</td>\n",
       "      <td>186.8950</td>\n",
       "      <td>46.1087</td>\n",
       "      <td>185.8600</td>\n",
       "      <td>13.1778</td>\n",
       "      <td>143.9400</td>\n",
       "      <td>1243.1700</td>\n",
       "      <td>61.0749</td>\n",
       "      <td>32.2450</td>\n",
       "      <td>182.5400</td>\n",
       "      <td>223.7410</td>\n",
       "      <td>42.2003</td>\n",
       "      <td>25.0400</td>\n",
       "      <td>47.1462</td>\n",
       "      <td>38.2100</td>\n",
       "      <td>39.8919</td>\n",
       "      <td>209.5000</td>\n",
       "      <td>19.1130</td>\n",
       "      <td>133.0970</td>\n",
       "      <td>221.7900</td>\n",
       "      <td>104.4800</td>\n",
       "      <td>26.5038</td>\n",
       "      <td>25.2282</td>\n",
       "      <td>32.1938</td>\n",
       "      <td>20.6050</td>\n",
       "      <td>48.0538</td>\n",
       "      <td>109.1630</td>\n",
       "      <td>74.0300</td>\n",
       "      <td>29.4615</td>\n",
       "      <td>31.7552</td>\n",
       "      <td>15.8831</td>\n",
       "      <td>51.0117</td>\n",
       "      <td>81.7500</td>\n",
       "      <td>97.9782</td>\n",
       "      <td>41.1612</td>\n",
       "      <td>16.5389</td>\n",
       "      <td>147.8900</td>\n",
       "      <td>78.2865</td>\n",
       "      <td>169.6080</td>\n",
       "      <td>54.3448</td>\n",
       "      <td>80.3575</td>\n",
       "      <td>147.4350</td>\n",
       "      <td>19.1201</td>\n",
       "      <td>66.4500</td>\n",
       "      <td>38.8063</td>\n",
       "      <td>56.0827</td>\n",
       "      <td>81.7163</td>\n",
       "      <td>45.8196</td>\n",
       "      <td>52.5191</td>\n",
       "      <td>39.6094</td>\n",
       "      <td>61.1300</td>\n",
       "      <td>67.6000</td>\n",
       "      <td>21.1705</td>\n",
       "      <td>24.6900</td>\n",
       "      <td>35.6874</td>\n",
       "      <td>18.6583</td>\n",
       "      <td>93.7839</td>\n",
       "      <td>38.4100</td>\n",
       "      <td>260.1400</td>\n",
       "      <td>108.4400</td>\n",
       "      <td>28.6931</td>\n",
       "      <td>34.3260</td>\n",
       "      <td>107.1610</td>\n",
       "      <td>74.2026</td>\n",
       "      <td>23.2404</td>\n",
       "      <td>15.1199</td>\n",
       "      <td>34.9886</td>\n",
       "      <td>54.6600</td>\n",
       "      <td>20.1585</td>\n",
       "      <td>85.2808</td>\n",
       "      <td>21.9300</td>\n",
       "      <td>115.1000</td>\n",
       "      <td>33.0263</td>\n",
       "      <td>74.0423</td>\n",
       "      <td>61.8709</td>\n",
       "      <td>118.6700</td>\n",
       "      <td>190.4100</td>\n",
       "      <td>40.7500</td>\n",
       "      <td>42.2217</td>\n",
       "      <td>30.8223</td>\n",
       "      <td>38.2506</td>\n",
       "      <td>28.1700</td>\n",
       "      <td>14.4200</td>\n",
       "      <td>52.4800</td>\n",
       "      <td>115.3300</td>\n",
       "      <td>141.8670</td>\n",
       "      <td>140.3180</td>\n",
       "      <td>22.0892</td>\n",
       "      <td>136.3480</td>\n",
       "      <td>25.1583</td>\n",
       "      <td>133.3080</td>\n",
       "      <td>3.1300</td>\n",
       "      <td>118.5160</td>\n",
       "      <td>371.0730</td>\n",
       "      <td>31.2975</td>\n",
       "      <td>38.2208</td>\n",
       "      <td>95.1734</td>\n",
       "      <td>72.3300</td>\n",
       "      <td>121.7400</td>\n",
       "      <td>37.2783</td>\n",
       "      <td>100.3570</td>\n",
       "      <td>113.5800</td>\n",
       "      <td>911.5520</td>\n",
       "      <td>129.4030</td>\n",
       "      <td>34.1642</td>\n",
       "      <td>34.2600</td>\n",
       "      <td>47.3180</td>\n",
       "      <td>11.6786</td>\n",
       "      <td>310.9130</td>\n",
       "      <td>347.0880</td>\n",
       "      <td>56.6600</td>\n",
       "      <td>99.3084</td>\n",
       "      <td>31.3750</td>\n",
       "      <td>183.3250</td>\n",
       "      <td>144.7440</td>\n",
       "      <td>138.6520</td>\n",
       "      <td>30.5365</td>\n",
       "      <td>84.8208</td>\n",
       "      <td>258.6140</td>\n",
       "      <td>8.9100</td>\n",
       "      <td>119.2210</td>\n",
       "      <td>8.1595</td>\n",
       "      <td>115.9350</td>\n",
       "      <td>192.9560</td>\n",
       "      <td>33.7700</td>\n",
       "      <td>6.6066</td>\n",
       "      <td>74.4100</td>\n",
       "      <td>191.1790</td>\n",
       "      <td>10.9100</td>\n",
       "      <td>14.7281</td>\n",
       "      <td>27.3990</td>\n",
       "      <td>75.6200</td>\n",
       "      <td>44.6234</td>\n",
       "      <td>29.4807</td>\n",
       "      <td>34.4443</td>\n",
       "      <td>75.7300</td>\n",
       "      <td>18.2288</td>\n",
       "      <td>189.5410</td>\n",
       "      <td>30.1321</td>\n",
       "      <td>337.1280</td>\n",
       "      <td>612.9700</td>\n",
       "      <td>370.4010</td>\n",
       "      <td>57.1246</td>\n",
       "      <td>49.1874</td>\n",
       "      <td>71.6187</td>\n",
       "      <td>32.7038</td>\n",
       "      <td>47.7935</td>\n",
       "      <td>38.8900</td>\n",
       "      <td>135.7540</td>\n",
       "      <td>22.6379</td>\n",
       "      <td>24.5400</td>\n",
       "      <td>22.5158</td>\n",
       "      <td>178.0010</td>\n",
       "      <td>24.8768</td>\n",
       "      <td>127.4440</td>\n",
       "      <td>4.5084</td>\n",
       "      <td>260.5000</td>\n",
       "      <td>47.1497</td>\n",
       "      <td>89.9527</td>\n",
       "      <td>103.0760</td>\n",
       "      <td>60.7717</td>\n",
       "      <td>25.4283</td>\n",
       "      <td>527.2800</td>\n",
       "      <td>92.2143</td>\n",
       "      <td>67.0471</td>\n",
       "      <td>112.5560</td>\n",
       "      <td>46.8420</td>\n",
       "      <td>52.2192</td>\n",
       "      <td>216.5330</td>\n",
       "      <td>79.9207</td>\n",
       "      <td>43.6886</td>\n",
       "      <td>49.0623</td>\n",
       "      <td>78.6589</td>\n",
       "      <td>48.6285</td>\n",
       "      <td>85.2480</td>\n",
       "      <td>93.8977</td>\n",
       "      <td>56.2573</td>\n",
       "      <td>54.1357</td>\n",
       "      <td>108.5740</td>\n",
       "      <td>79.2815</td>\n",
       "      <td>102.3450</td>\n",
       "      <td>95.9986</td>\n",
       "      <td>121.4870</td>\n",
       "      <td>141.7700</td>\n",
       "      <td>56.0778</td>\n",
       "      <td>59.1600</td>\n",
       "      <td>49.8692</td>\n",
       "      <td>30.9000</td>\n",
       "      <td>19.5649</td>\n",
       "      <td>12.4171</td>\n",
       "      <td>107.6830</td>\n",
       "      <td>28.5300</td>\n",
       "      <td>42.7870</td>\n",
       "      <td>627.9040</td>\n",
       "      <td>32.0898</td>\n",
       "      <td>10.2400</td>\n",
       "      <td>50.9700</td>\n",
       "      <td>81.7707</td>\n",
       "      <td>31.6300</td>\n",
       "      <td>32.3497</td>\n",
       "      <td>31.0150</td>\n",
       "      <td>36.3216</td>\n",
       "      <td>211.3000</td>\n",
       "      <td>81.8803</td>\n",
       "      <td>66.2343</td>\n",
       "      <td>383.8300</td>\n",
       "      <td>45.2337</td>\n",
       "      <td>467.0100</td>\n",
       "      <td>122.3100</td>\n",
       "      <td>105.7110</td>\n",
       "      <td>122.3400</td>\n",
       "      <td>5.3360</td>\n",
       "      <td>248.2680</td>\n",
       "      <td>43.6828</td>\n",
       "      <td>107.5600</td>\n",
       "      <td>82.6471</td>\n",
       "      <td>170.9640</td>\n",
       "      <td>482.0070</td>\n",
       "      <td>77.9039</td>\n",
       "      <td>14.9199</td>\n",
       "      <td>264.6280</td>\n",
       "      <td>162.3880</td>\n",
       "      <td>312.9340</td>\n",
       "      <td>192.2040</td>\n",
       "      <td>145.6850</td>\n",
       "      <td>246.2400</td>\n",
       "      <td>104.6980</td>\n",
       "      <td>76.1412</td>\n",
       "      <td>113.0810</td>\n",
       "      <td>275.4300</td>\n",
       "      <td>181.8210</td>\n",
       "      <td>19.3520</td>\n",
       "      <td>87.6191</td>\n",
       "      <td>70.3524</td>\n",
       "      <td>61.4569</td>\n",
       "      <td>84.9538</td>\n",
       "      <td>85.3365</td>\n",
       "      <td>127.4610</td>\n",
       "      <td>111.7940</td>\n",
       "      <td>46.5221</td>\n",
       "      <td>54.8176</td>\n",
       "      <td>123.6800</td>\n",
       "      <td>198.7220</td>\n",
       "      <td>130.8680</td>\n",
       "      <td>100.2290</td>\n",
       "      <td>52.6875</td>\n",
       "      <td>44.1042</td>\n",
       "      <td>20.9822</td>\n",
       "      <td>39.0909</td>\n",
       "      <td>50.6734</td>\n",
       "      <td>44.5680</td>\n",
       "      <td>64.2656</td>\n",
       "      <td>52.0882</td>\n",
       "      <td>37.8900</td>\n",
       "      <td>57.2752</td>\n",
       "      <td>163.5000</td>\n",
       "      <td>180.3200</td>\n",
       "      <td>42.7284</td>\n",
       "      <td>48.5601</td>\n",
       "      <td>150.9870</td>\n",
       "      <td>86.7766</td>\n",
       "      <td>35.5790</td>\n",
       "      <td>5.6800</td>\n",
       "      <td>42.1530</td>\n",
       "      <td>168.8080</td>\n",
       "      <td>47.0872</td>\n",
       "      <td>48.7926</td>\n",
       "      <td>46.9318</td>\n",
       "      <td>53.0499</td>\n",
       "      <td>46.3800</td>\n",
       "      <td>52.2282</td>\n",
       "      <td>46.3442</td>\n",
       "      <td>20.8300</td>\n",
       "      <td>30.9266</td>\n",
       "      <td>7.6800</td>\n",
       "      <td>82.4000</td>\n",
       "      <td>13.1193</td>\n",
       "      <td>154.5200</td>\n",
       "      <td>5.6457</td>\n",
       "      <td>35.0391</td>\n",
       "      <td>19.1548</td>\n",
       "      <td>87.3541</td>\n",
       "      <td>591.0590</td>\n",
       "      <td>116.9230</td>\n",
       "      <td>16.0076</td>\n",
       "      <td>72.8400</td>\n",
       "      <td>45.9455</td>\n",
       "      <td>393.4600</td>\n",
       "      <td>29.5582</td>\n",
       "      <td>56.7157</td>\n",
       "      <td>58.3246</td>\n",
       "      <td>45.1984</td>\n",
       "      <td>32.6130</td>\n",
       "      <td>86.2935</td>\n",
       "      <td>13.9500</td>\n",
       "      <td>17.2400</td>\n",
       "      <td>19.7185</td>\n",
       "      <td>26.3600</td>\n",
       "      <td>22.8747</td>\n",
       "      <td>71.9628</td>\n",
       "      <td>301.2610</td>\n",
       "      <td>98.8515</td>\n",
       "      <td>80.5900</td>\n",
       "      <td>81.2200</td>\n",
       "      <td>3.4200</td>\n",
       "      <td>109.0470</td>\n",
       "      <td>221.7210</td>\n",
       "      <td>56.2200</td>\n",
       "      <td>146.3710</td>\n",
       "      <td>16.0244</td>\n",
       "      <td>220.1030</td>\n",
       "      <td>203.1570</td>\n",
       "      <td>29.1500</td>\n",
       "      <td>420.2480</td>\n",
       "      <td>401.1040</td>\n",
       "      <td>56.1500</td>\n",
       "      <td>45.7642</td>\n",
       "      <td>653.6790</td>\n",
       "      <td>36.8800</td>\n",
       "      <td>37.2200</td>\n",
       "      <td>45.7753</td>\n",
       "      <td>412.8930</td>\n",
       "      <td>160.6120</td>\n",
       "      <td>47.7285</td>\n",
       "      <td>81.5100</td>\n",
       "      <td>83.8602</td>\n",
       "      <td>215.1230</td>\n",
       "      <td>238.9100</td>\n",
       "      <td>66.8172</td>\n",
       "      <td>104.2820</td>\n",
       "      <td>82.1075</td>\n",
       "      <td>61.2400</td>\n",
       "      <td>61.1300</td>\n",
       "      <td>13.7200</td>\n",
       "      <td>461.9400</td>\n",
       "      <td>29.1542</td>\n",
       "      <td>49.3558</td>\n",
       "      <td>102.5010</td>\n",
       "      <td>85.7744</td>\n",
       "      <td>12.8900</td>\n",
       "      <td>1.9749</td>\n",
       "      <td>89.3900</td>\n",
       "      <td>457.5900</td>\n",
       "      <td>121.5600</td>\n",
       "      <td>249.0700</td>\n",
       "      <td>240.1100</td>\n",
       "      <td>67.4412</td>\n",
       "      <td>133.3200</td>\n",
       "      <td>18.2700</td>\n",
       "      <td>89.3755</td>\n",
       "      <td>25.8000</td>\n",
       "      <td>287.7250</td>\n",
       "      <td>35.4944</td>\n",
       "      <td>82.4851</td>\n",
       "      <td>498.4600</td>\n",
       "      <td>397.8380</td>\n",
       "      <td>409.0700</td>\n",
       "      <td>222.2300</td>\n",
       "      <td>74.0014</td>\n",
       "      <td>84.5110</td>\n",
       "      <td>496.5000</td>\n",
       "      <td>295.1600</td>\n",
       "      <td>1748.2800</td>\n",
       "      <td>62.5089</td>\n",
       "      <td>392.6260</td>\n",
       "      <td>21.3928</td>\n",
       "      <td>3.6600</td>\n",
       "      <td>54.5033</td>\n",
       "      <td>172.6900</td>\n",
       "      <td>268.5560</td>\n",
       "      <td>44.7100</td>\n",
       "      <td>108.9460</td>\n",
       "      <td>110.0200</td>\n",
       "      <td>145.5200</td>\n",
       "      <td>93.4385</td>\n",
       "      <td>66.7640</td>\n",
       "      <td>1395.1300</td>\n",
       "      <td>106.9600</td>\n",
       "      <td>214.6200</td>\n",
       "      <td>48.5385</td>\n",
       "      <td>511.1700</td>\n",
       "      <td>190.2820</td>\n",
       "      <td>76.7494</td>\n",
       "      <td>57.0100</td>\n",
       "      <td>211.1200</td>\n",
       "      <td>55.9400</td>\n",
       "      <td>37.0965</td>\n",
       "      <td>83.3606</td>\n",
       "      <td>355.2100</td>\n",
       "      <td>278.3150</td>\n",
       "      <td>29.5198</td>\n",
       "      <td>16.1600</td>\n",
       "      <td>162.3260</td>\n",
       "      <td>34.3981</td>\n",
       "      <td>608.3000</td>\n",
       "      <td>120.7590</td>\n",
       "      <td>99.0200</td>\n",
       "      <td>66.5936</td>\n",
       "      <td>83.3613</td>\n",
       "      <td>164.6140</td>\n",
       "      <td>593.6150</td>\n",
       "      <td>399.2480</td>\n",
       "      <td>320.2160</td>\n",
       "      <td>50.3480</td>\n",
       "      <td>27.3020</td>\n",
       "      <td>125.7060</td>\n",
       "      <td>37.7980</td>\n",
       "      <td>1224.0000</td>\n",
       "      <td>52.5948</td>\n",
       "      <td>19.3307</td>\n",
       "      <td>84.0400</td>\n",
       "      <td>166.8720</td>\n",
       "      <td>70.1100</td>\n",
       "      <td>85.1350</td>\n",
       "      <td>104.4280</td>\n",
       "      <td>9.4300</td>\n",
       "      <td>352.7770</td>\n",
       "      <td>142.4500</td>\n",
       "      <td>17.7900</td>\n",
       "      <td>55.9335</td>\n",
       "      <td>252.4560</td>\n",
       "      <td>57.1226</td>\n",
       "      <td>34.3775</td>\n",
       "      <td>79.5900</td>\n",
       "      <td>577.5880</td>\n",
       "      <td>45.5213</td>\n",
       "      <td>567.5100</td>\n",
       "      <td>62.7724</td>\n",
       "      <td>25.0577</td>\n",
       "      <td>211.7100</td>\n",
       "      <td>5.7100</td>\n",
       "      <td>98.8829</td>\n",
       "      <td>16.5290</td>\n",
       "      <td>5.5200</td>\n",
       "      <td>38.6072</td>\n",
       "      <td>92.8150</td>\n",
       "      <td>434.7990</td>\n",
       "      <td>3.4366</td>\n",
       "      <td>771.0000</td>\n",
       "      <td>52.9727</td>\n",
       "      <td>248.1190</td>\n",
       "      <td>85.3897</td>\n",
       "      <td>96.6369</td>\n",
       "      <td>57.0800</td>\n",
       "      <td>49.2043</td>\n",
       "      <td>68.1900</td>\n",
       "      <td>75.5439</td>\n",
       "      <td>9.0100</td>\n",
       "      <td>182.0980</td>\n",
       "      <td>62.9990</td>\n",
       "      <td>21.6917</td>\n",
       "      <td>144.9900</td>\n",
       "      <td>112.7160</td>\n",
       "      <td>7211.3100</td>\n",
       "      <td>97.8516</td>\n",
       "      <td>61.6244</td>\n",
       "      <td>5.2297</td>\n",
       "      <td>25.4301</td>\n",
       "      <td>24.4917</td>\n",
       "      <td>207.4610</td>\n",
       "      <td>56.5000</td>\n",
       "      <td>48.3274</td>\n",
       "      <td>51.2548</td>\n",
       "      <td>12.8344</td>\n",
       "      <td>152.6880</td>\n",
       "      <td>194.4310</td>\n",
       "      <td>227.9230</td>\n",
       "      <td>32.0765</td>\n",
       "      <td>26.3158</td>\n",
       "      <td>64.6448</td>\n",
       "      <td>11.1500</td>\n",
       "      <td>84.9000</td>\n",
       "      <td>168.5210</td>\n",
       "      <td>74.4000</td>\n",
       "      <td>85.5925</td>\n",
       "      <td>42.3462</td>\n",
       "      <td>49.4604</td>\n",
       "      <td>70.1900</td>\n",
       "      <td>15.5114</td>\n",
       "      <td>149.9300</td>\n",
       "      <td>59.9239</td>\n",
       "      <td>26.8000</td>\n",
       "      <td>113.8860</td>\n",
       "      <td>24.9192</td>\n",
       "      <td>69.4500</td>\n",
       "      <td>109.7690</td>\n",
       "      <td>41.8723</td>\n",
       "      <td>87.4411</td>\n",
       "      <td>40.3574</td>\n",
       "      <td>14.7455</td>\n",
       "      <td>55.8085</td>\n",
       "      <td>14.0936</td>\n",
       "      <td>46.9850</td>\n",
       "      <td>13.6985</td>\n",
       "      <td>153.7870</td>\n",
       "      <td>146.6670</td>\n",
       "      <td>14.8686</td>\n",
       "      <td>169.9850</td>\n",
       "      <td>14.2900</td>\n",
       "      <td>23.1100</td>\n",
       "      <td>35.0045</td>\n",
       "      <td>190.5440</td>\n",
       "      <td>115.9240</td>\n",
       "      <td>59.6535</td>\n",
       "      <td>33.1296</td>\n",
       "      <td>14.2481</td>\n",
       "      <td>13.7199</td>\n",
       "      <td>48.1055</td>\n",
       "      <td>97.4323</td>\n",
       "      <td>17.0447</td>\n",
       "      <td>72.0900</td>\n",
       "      <td>160.0000</td>\n",
       "      <td>12.7428</td>\n",
       "      <td>126.5900</td>\n",
       "      <td>15.8983</td>\n",
       "      <td>56.2832</td>\n",
       "      <td>24.7708</td>\n",
       "      <td>254.3600</td>\n",
       "      <td>163.1240</td>\n",
       "      <td>25.1997</td>\n",
       "      <td>29.5066</td>\n",
       "      <td>73.6745</td>\n",
       "      <td>73.7200</td>\n",
       "      <td>154.3850</td>\n",
       "      <td>175.0380</td>\n",
       "      <td>10.9953</td>\n",
       "      <td>492.1790</td>\n",
       "      <td>21.3400</td>\n",
       "      <td>105.5540</td>\n",
       "      <td>15.8800</td>\n",
       "      <td>37.5800</td>\n",
       "      <td>157.0460</td>\n",
       "      <td>80.5432</td>\n",
       "      <td>124.0280</td>\n",
       "      <td>69.3100</td>\n",
       "      <td>16.3300</td>\n",
       "      <td>88.0596</td>\n",
       "      <td>138.8230</td>\n",
       "      <td>81.6326</td>\n",
       "      <td>73.7983</td>\n",
       "      <td>66.5422</td>\n",
       "      <td>195.4000</td>\n",
       "      <td>369.4950</td>\n",
       "      <td>93.8200</td>\n",
       "      <td>91.5125</td>\n",
       "      <td>24.3671</td>\n",
       "      <td>136.9500</td>\n",
       "      <td>25.2564</td>\n",
       "      <td>12.4751</td>\n",
       "      <td>34.8356</td>\n",
       "      <td>224.8390</td>\n",
       "      <td>14.0665</td>\n",
       "      <td>95.8447</td>\n",
       "      <td>270.0240</td>\n",
       "      <td>7.8000</td>\n",
       "      <td>65.5000</td>\n",
       "      <td>11.9444</td>\n",
       "      <td>40.6500</td>\n",
       "      <td>138.3430</td>\n",
       "      <td>179.4000</td>\n",
       "      <td>20.1124</td>\n",
       "      <td>46.0720</td>\n",
       "      <td>199.9210</td>\n",
       "      <td>23.7627</td>\n",
       "      <td>62.0200</td>\n",
       "      <td>136.8170</td>\n",
       "      <td>44.1300</td>\n",
       "      <td>79.7307</td>\n",
       "      <td>418.2930</td>\n",
       "      <td>172.0630</td>\n",
       "      <td>105.7500</td>\n",
       "      <td>75.4261</td>\n",
       "      <td>150.0650</td>\n",
       "      <td>88.3748</td>\n",
       "      <td>14.8504</td>\n",
       "      <td>112.1260</td>\n",
       "      <td>386.9680</td>\n",
       "      <td>63.7619</td>\n",
       "      <td>274.2600</td>\n",
       "      <td>39.3300</td>\n",
       "      <td>46.0020</td>\n",
       "      <td>125.5770</td>\n",
       "      <td>50.2064</td>\n",
       "      <td>14.3915</td>\n",
       "      <td>22.3629</td>\n",
       "      <td>59.9558</td>\n",
       "      <td>955.1400</td>\n",
       "      <td>41.0614</td>\n",
       "      <td>51.7851</td>\n",
       "      <td>17.0263</td>\n",
       "      <td>167.4330</td>\n",
       "      <td>0.2079</td>\n",
       "      <td>192.7100</td>\n",
       "      <td>115.2170</td>\n",
       "      <td>107.2600</td>\n",
       "      <td>63.1287</td>\n",
       "      <td>9.5276</td>\n",
       "      <td>15.5300</td>\n",
       "      <td>108.5520</td>\n",
       "      <td>4.0200</td>\n",
       "      <td>11.9992</td>\n",
       "      <td>143.4310</td>\n",
       "      <td>67.4332</td>\n",
       "      <td>68.1500</td>\n",
       "      <td>191.0250</td>\n",
       "      <td>221.3800</td>\n",
       "      <td>47.2400</td>\n",
       "      <td>10.0500</td>\n",
       "      <td>255.9440</td>\n",
       "      <td>88.6500</td>\n",
       "      <td>43.3900</td>\n",
       "      <td>541.9280</td>\n",
       "      <td>140.8470</td>\n",
       "      <td>105.6170</td>\n",
       "      <td>27.4486</td>\n",
       "      <td>28.5880</td>\n",
       "      <td>135.2290</td>\n",
       "      <td>283.0880</td>\n",
       "      <td>171.4590</td>\n",
       "      <td>154.4550</td>\n",
       "      <td>32.7992</td>\n",
       "      <td>25.5945</td>\n",
       "      <td>89.1476</td>\n",
       "      <td>28.2600</td>\n",
       "      <td>108.9050</td>\n",
       "      <td>85.0170</td>\n",
       "      <td>95.5106</td>\n",
       "      <td>54.3969</td>\n",
       "      <td>42.1803</td>\n",
       "      <td>27.4900</td>\n",
       "      <td>467.4500</td>\n",
       "      <td>3.8869</td>\n",
       "      <td>175.0240</td>\n",
       "      <td>13.4500</td>\n",
       "      <td>224.4720</td>\n",
       "      <td>15.7656</td>\n",
       "      <td>89.8726</td>\n",
       "      <td>79.1314</td>\n",
       "      <td>22.6333</td>\n",
       "      <td>18.6989</td>\n",
       "      <td>32.9658</td>\n",
       "      <td>24.4888</td>\n",
       "      <td>23.2840</td>\n",
       "      <td>17.8135</td>\n",
       "      <td>21.4767</td>\n",
       "      <td>19.1888</td>\n",
       "      <td>21.4677</td>\n",
       "      <td>23.2669</td>\n",
       "      <td>24.7104</td>\n",
       "      <td>23.2412</td>\n",
       "      <td>25.4497</td>\n",
       "      <td>23.8609</td>\n",
       "      <td>22.8934</td>\n",
       "      <td>60.9623</td>\n",
       "      <td>18.9622</td>\n",
       "      <td>22.4232</td>\n",
       "      <td>66.5705</td>\n",
       "      <td>57.9345</td>\n",
       "      <td>31.4191</td>\n",
       "      <td>120.0880</td>\n",
       "      <td>40.4700</td>\n",
       "      <td>65.0962</td>\n",
       "      <td>70.8210</td>\n",
       "      <td>51.6000</td>\n",
       "      <td>49.7294</td>\n",
       "      <td>19.6500</td>\n",
       "      <td>94.1451</td>\n",
       "      <td>60.2480</td>\n",
       "      <td>32.0157</td>\n",
       "      <td>46.3811</td>\n",
       "      <td>76.7200</td>\n",
       "      <td>103.4200</td>\n",
       "      <td>305.1750</td>\n",
       "      <td>77.9865</td>\n",
       "      <td>38.5509</td>\n",
       "      <td>49.8690</td>\n",
       "      <td>126.3740</td>\n",
       "      <td>22.7806</td>\n",
       "      <td>21.4700</td>\n",
       "      <td>63.6000</td>\n",
       "      <td>91.0200</td>\n",
       "      <td>47.0689</td>\n",
       "      <td>50.7835</td>\n",
       "      <td>18.9305</td>\n",
       "      <td>21.2100</td>\n",
       "      <td>80.9889</td>\n",
       "      <td>76.9801</td>\n",
       "      <td>58.3500</td>\n",
       "      <td>10.4200</td>\n",
       "      <td>186.7420</td>\n",
       "      <td>4.0000</td>\n",
       "      <td>3.0800</td>\n",
       "      <td>47.8700</td>\n",
       "      <td>278.8890</td>\n",
       "      <td>15.8700</td>\n",
       "      <td>27.2243</td>\n",
       "      <td>199.9400</td>\n",
       "      <td>540.0000</td>\n",
       "      <td>34.1479</td>\n",
       "      <td>99.1998</td>\n",
       "      <td>44.4711</td>\n",
       "      <td>66.8632</td>\n",
       "      <td>7.7300</td>\n",
       "      <td>19.7780</td>\n",
       "      <td>31.9836</td>\n",
       "      <td>194.4080</td>\n",
       "      <td>24.3778</td>\n",
       "      <td>32.4121</td>\n",
       "      <td>32.9880</td>\n",
       "      <td>129.2770</td>\n",
       "      <td>452.0290</td>\n",
       "      <td>55.2770</td>\n",
       "      <td>21.1228</td>\n",
       "      <td>30.9806</td>\n",
       "      <td>56.6071</td>\n",
       "      <td>62.2011</td>\n",
       "      <td>20.9694</td>\n",
       "      <td>47.4597</td>\n",
       "      <td>69.8834</td>\n",
       "      <td>218.9600</td>\n",
       "      <td>27.9637</td>\n",
       "      <td>39.8683</td>\n",
       "      <td>27.2385</td>\n",
       "      <td>27.4270</td>\n",
       "      <td>58.7544</td>\n",
       "      <td>27.4979</td>\n",
       "      <td>103.6500</td>\n",
       "      <td>109.9150</td>\n",
       "      <td>480.1360</td>\n",
       "      <td>36.3556</td>\n",
       "      <td>67.3409</td>\n",
       "      <td>41.2511</td>\n",
       "      <td>45.7201</td>\n",
       "      <td>10.3200</td>\n",
       "      <td>69.4888</td>\n",
       "      <td>37.3436</td>\n",
       "      <td>78.2456</td>\n",
       "      <td>184.3210</td>\n",
       "      <td>60.1067</td>\n",
       "      <td>67.4889</td>\n",
       "      <td>35.7291</td>\n",
       "      <td>220.9150</td>\n",
       "      <td>32.4492</td>\n",
       "      <td>94.8342</td>\n",
       "      <td>19.6433</td>\n",
       "      <td>117.5810</td>\n",
       "      <td>43.6736</td>\n",
       "      <td>81.6231</td>\n",
       "      <td>78.3600</td>\n",
       "      <td>70.1453</td>\n",
       "      <td>33.1641</td>\n",
       "      <td>17.8796</td>\n",
       "      <td>83.2046</td>\n",
       "      <td>245.8410</td>\n",
       "      <td>31.7586</td>\n",
       "      <td>102.1710</td>\n",
       "      <td>120.6450</td>\n",
       "      <td>54.2042</td>\n",
       "      <td>100.8680</td>\n",
       "      <td>10.0225</td>\n",
       "      <td>86.6566</td>\n",
       "      <td>98.0559</td>\n",
       "      <td>37.4192</td>\n",
       "      <td>336.6700</td>\n",
       "      <td>46.8200</td>\n",
       "      <td>79.6190</td>\n",
       "      <td>16.8697</td>\n",
       "      <td>14.3800</td>\n",
       "      <td>60.1816</td>\n",
       "      <td>46.8188</td>\n",
       "      <td>28.1981</td>\n",
       "      <td>37.2191</td>\n",
       "      <td>57.5040</td>\n",
       "      <td>1054.8200</td>\n",
       "      <td>427.5800</td>\n",
       "      <td>254.9000</td>\n",
       "      <td>68.0529</td>\n",
       "      <td>39.5539</td>\n",
       "      <td>72.8726</td>\n",
       "      <td>3.7948</td>\n",
       "      <td>138.6500</td>\n",
       "      <td>94.5062</td>\n",
       "      <td>12.4600</td>\n",
       "      <td>33.8261</td>\n",
       "      <td>128.3230</td>\n",
       "      <td>47.3028</td>\n",
       "      <td>137.5010</td>\n",
       "      <td>89.1100</td>\n",
       "      <td>126.7720</td>\n",
       "      <td>26.8100</td>\n",
       "      <td>15.9973</td>\n",
       "      <td>16.0870</td>\n",
       "      <td>103.9150</td>\n",
       "      <td>95.1376</td>\n",
       "      <td>85.1314</td>\n",
       "      <td>102.4760</td>\n",
       "      <td>24.3670</td>\n",
       "      <td>67.0000</td>\n",
       "      <td>93.0086</td>\n",
       "      <td>197.0560</td>\n",
       "      <td>9.1764</td>\n",
       "      <td>59.4188</td>\n",
       "      <td>52.8600</td>\n",
       "      <td>549.6960</td>\n",
       "      <td>159.0170</td>\n",
       "      <td>100.0310</td>\n",
       "      <td>18.5500</td>\n",
       "      <td>37.6397</td>\n",
       "      <td>39.8910</td>\n",
       "      <td>472.3160</td>\n",
       "      <td>38.5159</td>\n",
       "      <td>53.4372</td>\n",
       "      <td>86.8000</td>\n",
       "      <td>83.8445</td>\n",
       "      <td>148.6520</td>\n",
       "      <td>52.3900</td>\n",
       "      <td>59.1461</td>\n",
       "      <td>102.3490</td>\n",
       "      <td>37.8591</td>\n",
       "      <td>69.9556</td>\n",
       "      <td>206.5320</td>\n",
       "      <td>30.8204</td>\n",
       "      <td>46.2148</td>\n",
       "      <td>188.8600</td>\n",
       "      <td>8.8461</td>\n",
       "      <td>111.3730</td>\n",
       "      <td>53.8501</td>\n",
       "      <td>267.2860</td>\n",
       "      <td>91.1861</td>\n",
       "      <td>67.2100</td>\n",
       "      <td>61.2504</td>\n",
       "      <td>32.6474</td>\n",
       "      <td>166.3300</td>\n",
       "      <td>17.2334</td>\n",
       "      <td>94.7693</td>\n",
       "      <td>70.4400</td>\n",
       "      <td>35.8973</td>\n",
       "      <td>154.0290</td>\n",
       "      <td>125.8660</td>\n",
       "      <td>85.6847</td>\n",
       "      <td>429.6800</td>\n",
       "      <td>31.9700</td>\n",
       "      <td>41.5000</td>\n",
       "      <td>66.7300</td>\n",
       "      <td>28.7558</td>\n",
       "      <td>34.6464</td>\n",
       "      <td>114.2280</td>\n",
       "      <td>23.1143</td>\n",
       "      <td>66.8800</td>\n",
       "      <td>64.8846</td>\n",
       "      <td>162.1120</td>\n",
       "      <td>126.6050</td>\n",
       "      <td>47.0977</td>\n",
       "      <td>503.5200</td>\n",
       "      <td>81.4404</td>\n",
       "      <td>7.2840</td>\n",
       "      <td>493.6930</td>\n",
       "      <td>45.5850</td>\n",
       "      <td>241.0780</td>\n",
       "      <td>57.8937</td>\n",
       "      <td>131.7720</td>\n",
       "      <td>32.3000</td>\n",
       "      <td>31.3337</td>\n",
       "      <td>39.4600</td>\n",
       "      <td>636.4550</td>\n",
       "      <td>132.7140</td>\n",
       "      <td>38.6198</td>\n",
       "      <td>47.2600</td>\n",
       "      <td>46.9736</td>\n",
       "      <td>33.2464</td>\n",
       "      <td>48.3172</td>\n",
       "      <td>78.7168</td>\n",
       "      <td>215.9700</td>\n",
       "      <td>6.3879</td>\n",
       "      <td>274.0310</td>\n",
       "      <td>12.0714</td>\n",
       "      <td>206.7350</td>\n",
       "      <td>237.0010</td>\n",
       "      <td>172.5830</td>\n",
       "      <td>76.5693</td>\n",
       "      <td>74.7627</td>\n",
       "      <td>295.1560</td>\n",
       "      <td>73.4191</td>\n",
       "      <td>191.0290</td>\n",
       "      <td>111.8090</td>\n",
       "      <td>45.7632</td>\n",
       "      <td>203.9900</td>\n",
       "      <td>25.2700</td>\n",
       "      <td>53.4680</td>\n",
       "      <td>91.8668</td>\n",
       "      <td>27.9128</td>\n",
       "      <td>5.9300</td>\n",
       "      <td>56.6503</td>\n",
       "      <td>60.9987</td>\n",
       "      <td>57.9275</td>\n",
       "      <td>55.2315</td>\n",
       "      <td>496.4260</td>\n",
       "      <td>255.3870</td>\n",
       "      <td>28.5703</td>\n",
       "      <td>170.3950</td>\n",
       "      <td>77.6359</td>\n",
       "      <td>16.0072</td>\n",
       "      <td>15.9035</td>\n",
       "      <td>219.8010</td>\n",
       "      <td>10.1484</td>\n",
       "      <td>133.1760</td>\n",
       "      <td>76.4097</td>\n",
       "      <td>97.2089</td>\n",
       "      <td>43.8430</td>\n",
       "      <td>227.8120</td>\n",
       "      <td>227.3580</td>\n",
       "      <td>26.2969</td>\n",
       "      <td>28.6527</td>\n",
       "      <td>81.3177</td>\n",
       "      <td>38.7670</td>\n",
       "      <td>227.5250</td>\n",
       "      <td>7.8765</td>\n",
       "      <td>140.4520</td>\n",
       "      <td>218.6240</td>\n",
       "      <td>80.4357</td>\n",
       "      <td>71.1510</td>\n",
       "      <td>442.2900</td>\n",
       "      <td>280.9990</td>\n",
       "      <td>165.7100</td>\n",
       "      <td>217.4760</td>\n",
       "      <td>121.8310</td>\n",
       "      <td>68.6745</td>\n",
       "      <td>69.4510</td>\n",
       "      <td>130.0810</td>\n",
       "      <td>18.5200</td>\n",
       "      <td>244.4230</td>\n",
       "      <td>199.7050</td>\n",
       "      <td>59.3432</td>\n",
       "      <td>433.8700</td>\n",
       "      <td>52.4772</td>\n",
       "      <td>108.0170</td>\n",
       "      <td>42.6999</td>\n",
       "      <td>101.2070</td>\n",
       "      <td>48.9405</td>\n",
       "      <td>213.4490</td>\n",
       "      <td>239.0380</td>\n",
       "      <td>46.3228</td>\n",
       "      <td>45.3349</td>\n",
       "      <td>11.1007</td>\n",
       "      <td>147.8850</td>\n",
       "      <td>77.5725</td>\n",
       "      <td>320.7220</td>\n",
       "      <td>46.4482</td>\n",
       "      <td>221.0900</td>\n",
       "      <td>38.5181</td>\n",
       "      <td>58.1378</td>\n",
       "      <td>160.0650</td>\n",
       "      <td>55.0726</td>\n",
       "      <td>108.6870</td>\n",
       "      <td>61.6673</td>\n",
       "      <td>39.1728</td>\n",
       "      <td>51.2400</td>\n",
       "      <td>132.4040</td>\n",
       "      <td>57.3695</td>\n",
       "      <td>324.4500</td>\n",
       "      <td>21.4920</td>\n",
       "      <td>10.4600</td>\n",
       "      <td>44.9567</td>\n",
       "      <td>173.5910</td>\n",
       "      <td>157.0700</td>\n",
       "      <td>294.0000</td>\n",
       "      <td>43.3056</td>\n",
       "      <td>18.8045</td>\n",
       "      <td>77.3412</td>\n",
       "      <td>85.4165</td>\n",
       "      <td>25.5685</td>\n",
       "      <td>29.8753</td>\n",
       "      <td>47.3142</td>\n",
       "      <td>79.2401</td>\n",
       "      <td>76.9961</td>\n",
       "      <td>286.2170</td>\n",
       "      <td>2.7963</td>\n",
       "      <td>127.1700</td>\n",
       "      <td>136.2670</td>\n",
       "      <td>184.4300</td>\n",
       "      <td>32.8015</td>\n",
       "      <td>35.8977</td>\n",
       "      <td>132.0100</td>\n",
       "      <td>55.1537</td>\n",
       "      <td>58.1193</td>\n",
       "      <td>47.4167</td>\n",
       "      <td>45.0921</td>\n",
       "      <td>51.7463</td>\n",
       "      <td>96.5845</td>\n",
       "      <td>383.6980</td>\n",
       "      <td>380.1820</td>\n",
       "      <td>91.3407</td>\n",
       "      <td>34.7958</td>\n",
       "      <td>199.8740</td>\n",
       "      <td>243.5720</td>\n",
       "      <td>137.1460</td>\n",
       "      <td>31.9891</td>\n",
       "      <td>95.7235</td>\n",
       "      <td>129.0790</td>\n",
       "      <td>88.8306</td>\n",
       "      <td>57.9074</td>\n",
       "      <td>81.2860</td>\n",
       "      <td>75.4168</td>\n",
       "      <td>79.4519</td>\n",
       "      <td>37.9513</td>\n",
       "      <td>38.8963</td>\n",
       "      <td>112.4370</td>\n",
       "      <td>198.1300</td>\n",
       "      <td>71.5041</td>\n",
       "      <td>36.9092</td>\n",
       "      <td>59.8493</td>\n",
       "      <td>138.7750</td>\n",
       "      <td>171.9340</td>\n",
       "      <td>88.0952</td>\n",
       "      <td>94.8567</td>\n",
       "      <td>97.2392</td>\n",
       "      <td>23.9803</td>\n",
       "      <td>8.4700</td>\n",
       "      <td>87.8800</td>\n",
       "      <td>57.1890</td>\n",
       "      <td>113.4060</td>\n",
       "      <td>66.6700</td>\n",
       "      <td>6.3162</td>\n",
       "      <td>17.4900</td>\n",
       "      <td>126.6820</td>\n",
       "      <td>34.7266</td>\n",
       "      <td>58.3600</td>\n",
       "      <td>125.8950</td>\n",
       "      <td>242.6000</td>\n",
       "      <td>56.6300</td>\n",
       "      <td>37.2437</td>\n",
       "      <td>64.8500</td>\n",
       "      <td>238.0600</td>\n",
       "      <td>15.7890</td>\n",
       "      <td>186.5150</td>\n",
       "      <td>29.8159</td>\n",
       "    </tr>\n",
       "    <tr>\n",
       "      <th>2024-02-02</th>\n",
       "      <td>131.7740</td>\n",
       "      <td>28.9539</td>\n",
       "      <td>14.5600</td>\n",
       "      <td>72.8918</td>\n",
       "      <td>184.4990</td>\n",
       "      <td>161.2510</td>\n",
       "      <td>2.4687</td>\n",
       "      <td>146.5500</td>\n",
       "      <td>109.3640</td>\n",
       "      <td>79.2098</td>\n",
       "      <td>4.9400</td>\n",
       "      <td>20.6613</td>\n",
       "      <td>89.1369</td>\n",
       "      <td>365.0210</td>\n",
       "      <td>101.1980</td>\n",
       "      <td>98.7131</td>\n",
       "      <td>48.1902</td>\n",
       "      <td>634.7600</td>\n",
       "      <td>55.9770</td>\n",
       "      <td>187.2250</td>\n",
       "      <td>52.6153</td>\n",
       "      <td>240.9700</td>\n",
       "      <td>256.4500</td>\n",
       "      <td>6.2889</td>\n",
       "      <td>66.1267</td>\n",
       "      <td>5.4817</td>\n",
       "      <td>47.2722</td>\n",
       "      <td>74.1905</td>\n",
       "      <td>77.3678</td>\n",
       "      <td>15.9720</td>\n",
       "      <td>107.7340</td>\n",
       "      <td>74.3699</td>\n",
       "      <td>41.0100</td>\n",
       "      <td>117.6240</td>\n",
       "      <td>93.9294</td>\n",
       "      <td>12.3430</td>\n",
       "      <td>7.8268</td>\n",
       "      <td>119.8000</td>\n",
       "      <td>67.4884</td>\n",
       "      <td>32.0622</td>\n",
       "      <td>57.5701</td>\n",
       "      <td>180.9430</td>\n",
       "      <td>163.7070</td>\n",
       "      <td>229.7930</td>\n",
       "      <td>124.4100</td>\n",
       "      <td>41.8668</td>\n",
       "      <td>111.1490</td>\n",
       "      <td>74.7354</td>\n",
       "      <td>28.6600</td>\n",
       "      <td>273.9000</td>\n",
       "      <td>36.1300</td>\n",
       "      <td>152.6410</td>\n",
       "      <td>125.2790</td>\n",
       "      <td>34.9811</td>\n",
       "      <td>173.0600</td>\n",
       "      <td>60.4878</td>\n",
       "      <td>107.3160</td>\n",
       "      <td>11.3659</td>\n",
       "      <td>166.0210</td>\n",
       "      <td>8.8220</td>\n",
       "      <td>177.6600</td>\n",
       "      <td>165.8070</td>\n",
       "      <td>308.4710</td>\n",
       "      <td>33.8727</td>\n",
       "      <td>39.3418</td>\n",
       "      <td>383.0760</td>\n",
       "      <td>184.1950</td>\n",
       "      <td>17.5309</td>\n",
       "      <td>171.8100</td>\n",
       "      <td>146.7000</td>\n",
       "      <td>68.2750</td>\n",
       "      <td>335.2500</td>\n",
       "      <td>290.5630</td>\n",
       "      <td>76.6068</td>\n",
       "      <td>28.6948</td>\n",
       "      <td>249.9490</td>\n",
       "      <td>33.6100</td>\n",
       "      <td>51.0738</td>\n",
       "      <td>100.9650</td>\n",
       "      <td>45.8600</td>\n",
       "      <td>227.7700</td>\n",
       "      <td>83.5000</td>\n",
       "      <td>21.8900</td>\n",
       "      <td>17.6038</td>\n",
       "      <td>114.4090</td>\n",
       "      <td>121.2130</td>\n",
       "      <td>378.8400</td>\n",
       "      <td>14.3167</td>\n",
       "      <td>46.6600</td>\n",
       "      <td>71.0000</td>\n",
       "      <td>29.1786</td>\n",
       "      <td>111.3100</td>\n",
       "      <td>14.9500</td>\n",
       "      <td>879.2050</td>\n",
       "      <td>139.7700</td>\n",
       "      <td>292.4080</td>\n",
       "      <td>2.8400</td>\n",
       "      <td>8.6082</td>\n",
       "      <td>39.1500</td>\n",
       "      <td>109.5780</td>\n",
       "      <td>128.2130</td>\n",
       "      <td>17.3394</td>\n",
       "      <td>3.1500</td>\n",
       "      <td>121.7100</td>\n",
       "      <td>167.9780</td>\n",
       "      <td>56.8583</td>\n",
       "      <td>57.5297</td>\n",
       "      <td>52.7784</td>\n",
       "      <td>120.1600</td>\n",
       "      <td>57.5292</td>\n",
       "      <td>23.4200</td>\n",
       "      <td>81.7988</td>\n",
       "      <td>84.9578</td>\n",
       "      <td>193.7470</td>\n",
       "      <td>100.9340</td>\n",
       "      <td>119.1520</td>\n",
       "      <td>256.9900</td>\n",
       "      <td>203.4710</td>\n",
       "      <td>55.5500</td>\n",
       "      <td>32.6200</td>\n",
       "      <td>238.5530</td>\n",
       "      <td>40.6500</td>\n",
       "      <td>63.3469</td>\n",
       "      <td>2821.8900</td>\n",
       "      <td>14.8899</td>\n",
       "      <td>209.3800</td>\n",
       "      <td>70.3217</td>\n",
       "      <td>32.2447</td>\n",
       "      <td>139.0930</td>\n",
       "      <td>58.3035</td>\n",
       "      <td>38.2809</td>\n",
       "      <td>146.5850</td>\n",
       "      <td>37.4940</td>\n",
       "      <td>44.5772</td>\n",
       "      <td>61.6483</td>\n",
       "      <td>2.7850</td>\n",
       "      <td>52.8584</td>\n",
       "      <td>54.0074</td>\n",
       "      <td>33.9100</td>\n",
       "      <td>52.9732</td>\n",
       "      <td>87.6591</td>\n",
       "      <td>9.0162</td>\n",
       "      <td>42.0152</td>\n",
       "      <td>70.6574</td>\n",
       "      <td>34.5473</td>\n",
       "      <td>19.3079</td>\n",
       "      <td>7.2394</td>\n",
       "      <td>230.7840</td>\n",
       "      <td>13.4912</td>\n",
       "      <td>25.0216</td>\n",
       "      <td>23.6206</td>\n",
       "      <td>56.4482</td>\n",
       "      <td>54.9488</td>\n",
       "      <td>100.3800</td>\n",
       "      <td>86.3251</td>\n",
       "      <td>56.8018</td>\n",
       "      <td>102.7900</td>\n",
       "      <td>243.7200</td>\n",
       "      <td>85.8712</td>\n",
       "      <td>8.9400</td>\n",
       "      <td>93.0559</td>\n",
       "      <td>48.2342</td>\n",
       "      <td>320.4300</td>\n",
       "      <td>29.3813</td>\n",
       "      <td>46.0900</td>\n",
       "      <td>23.4100</td>\n",
       "      <td>72.0800</td>\n",
       "      <td>64.5100</td>\n",
       "      <td>53.8447</td>\n",
       "      <td>92.5424</td>\n",
       "      <td>18.7637</td>\n",
       "      <td>3516.8000</td>\n",
       "      <td>27.9465</td>\n",
       "      <td>381.4800</td>\n",
       "      <td>180.7500</td>\n",
       "      <td>761.4110</td>\n",
       "      <td>68.6555</td>\n",
       "      <td>142.3330</td>\n",
       "      <td>90.0782</td>\n",
       "      <td>88.1100</td>\n",
       "      <td>45.8942</td>\n",
       "      <td>38.7719</td>\n",
       "      <td>69.4804</td>\n",
       "      <td>46.4670</td>\n",
       "      <td>44.7446</td>\n",
       "      <td>38.6866</td>\n",
       "      <td>92.6500</td>\n",
       "      <td>80.5576</td>\n",
       "      <td>86.0072</td>\n",
       "      <td>105.3560</td>\n",
       "      <td>31.8393</td>\n",
       "      <td>79.5800</td>\n",
       "      <td>82.6101</td>\n",
       "      <td>197.0510</td>\n",
       "      <td>56.8200</td>\n",
       "      <td>2.7919</td>\n",
       "      <td>589498.0000</td>\n",
       "      <td>390.7500</td>\n",
       "      <td>71.7757</td>\n",
       "      <td>77.1450</td>\n",
       "      <td>26.7700</td>\n",
       "      <td>21.2564</td>\n",
       "      <td>18.0501</td>\n",
       "      <td>5.3740</td>\n",
       "      <td>19.3225</td>\n",
       "      <td>18.1977</td>\n",
       "      <td>18.2476</td>\n",
       "      <td>73.3602</td>\n",
       "      <td>64.3700</td>\n",
       "      <td>51.0899</td>\n",
       "      <td>26.9848</td>\n",
       "      <td>61.2057</td>\n",
       "      <td>27.1800</td>\n",
       "      <td>196.7300</td>\n",
       "      <td>33.4101</td>\n",
       "      <td>82.0405</td>\n",
       "      <td>120.2980</td>\n",
       "      <td>59.2407</td>\n",
       "      <td>25.3153</td>\n",
       "      <td>63.1006</td>\n",
       "      <td>14.0000</td>\n",
       "      <td>53.2599</td>\n",
       "      <td>348.1600</td>\n",
       "      <td>19.6800</td>\n",
       "      <td>27.6616</td>\n",
       "      <td>101.1910</td>\n",
       "      <td>46.8806</td>\n",
       "      <td>161.6300</td>\n",
       "      <td>55.9182</td>\n",
       "      <td>25.0800</td>\n",
       "      <td>273.3710</td>\n",
       "      <td>308.9270</td>\n",
       "      <td>49.9300</td>\n",
       "      <td>242.6770</td>\n",
       "      <td>182.7800</td>\n",
       "      <td>85.0000</td>\n",
       "      <td>47.9832</td>\n",
       "      <td>11.0000</td>\n",
       "      <td>66.9294</td>\n",
       "      <td>99.3342</td>\n",
       "      <td>48.9147</td>\n",
       "      <td>87.5006</td>\n",
       "      <td>16.4400</td>\n",
       "      <td>2.7400</td>\n",
       "      <td>296.5500</td>\n",
       "      <td>21.8618</td>\n",
       "      <td>228.4860</td>\n",
       "      <td>143.9150</td>\n",
       "      <td>18.5500</td>\n",
       "      <td>128.4000</td>\n",
       "      <td>53.3500</td>\n",
       "      <td>73.7159</td>\n",
       "      <td>30.4412</td>\n",
       "      <td>24.1300</td>\n",
       "      <td>99.3568</td>\n",
       "      <td>39.1234</td>\n",
       "      <td>21.1417</td>\n",
       "      <td>29.7613</td>\n",
       "      <td>26.4715</td>\n",
       "      <td>29.7494</td>\n",
       "      <td>25.9244</td>\n",
       "      <td>28.9867</td>\n",
       "      <td>23.8862</td>\n",
       "      <td>97.7004</td>\n",
       "      <td>121.5060</td>\n",
       "      <td>598.1070</td>\n",
       "      <td>162.0000</td>\n",
       "      <td>138.3300</td>\n",
       "      <td>71.2235</td>\n",
       "      <td>38.1800</td>\n",
       "      <td>319.2100</td>\n",
       "      <td>17.8300</td>\n",
       "      <td>315.5270</td>\n",
       "      <td>56.3338</td>\n",
       "      <td>54.6200</td>\n",
       "      <td>116.2220</td>\n",
       "      <td>108.0880</td>\n",
       "      <td>82.3585</td>\n",
       "      <td>172.8700</td>\n",
       "      <td>36.0700</td>\n",
       "      <td>150.1040</td>\n",
       "      <td>43.7206</td>\n",
       "      <td>47.6668</td>\n",
       "      <td>43.3056</td>\n",
       "      <td>195.4840</td>\n",
       "      <td>55.5816</td>\n",
       "      <td>49.6456</td>\n",
       "      <td>236.5650</td>\n",
       "      <td>55.0565</td>\n",
       "      <td>37.5992</td>\n",
       "      <td>75.4100</td>\n",
       "      <td>11.5747</td>\n",
       "      <td>124.8070</td>\n",
       "      <td>42.1500</td>\n",
       "      <td>26.8259</td>\n",
       "      <td>28.9547</td>\n",
       "      <td>133.4410</td>\n",
       "      <td>49.1300</td>\n",
       "      <td>129.2200</td>\n",
       "      <td>86.8562</td>\n",
       "      <td>94.0725</td>\n",
       "      <td>67.5900</td>\n",
       "      <td>105.8490</td>\n",
       "      <td>231.9500</td>\n",
       "      <td>21.5800</td>\n",
       "      <td>704.7000</td>\n",
       "      <td>50.5259</td>\n",
       "      <td>82.8436</td>\n",
       "      <td>295.9500</td>\n",
       "      <td>42.9082</td>\n",
       "      <td>14.2000</td>\n",
       "      <td>50.0300</td>\n",
       "      <td>92.2385</td>\n",
       "      <td>47.0879</td>\n",
       "      <td>124.9340</td>\n",
       "      <td>22.5544</td>\n",
       "      <td>21.8500</td>\n",
       "      <td>72.0382</td>\n",
       "      <td>7.6400</td>\n",
       "      <td>218.1700</td>\n",
       "      <td>283.1790</td>\n",
       "      <td>60.5291</td>\n",
       "      <td>303.5700</td>\n",
       "      <td>48.3222</td>\n",
       "      <td>83.9400</td>\n",
       "      <td>316.3930</td>\n",
       "      <td>35.7416</td>\n",
       "      <td>153.3160</td>\n",
       "      <td>23.3657</td>\n",
       "      <td>76.1014</td>\n",
       "      <td>52.1650</td>\n",
       "      <td>41.0389</td>\n",
       "      <td>15.4247</td>\n",
       "      <td>95.2900</td>\n",
       "      <td>43.4500</td>\n",
       "      <td>69.1908</td>\n",
       "      <td>142.6140</td>\n",
       "      <td>224.9910</td>\n",
       "      <td>19.2600</td>\n",
       "      <td>69.5776</td>\n",
       "      <td>21.8727</td>\n",
       "      <td>20.2147</td>\n",
       "      <td>87.2400</td>\n",
       "      <td>8.4519</td>\n",
       "      <td>237.4100</td>\n",
       "      <td>43.4100</td>\n",
       "      <td>42.4004</td>\n",
       "      <td>39.3423</td>\n",
       "      <td>43.2600</td>\n",
       "      <td>109.5000</td>\n",
       "      <td>71.4200</td>\n",
       "      <td>13.4361</td>\n",
       "      <td>36.3757</td>\n",
       "      <td>32.4700</td>\n",
       "      <td>65.8592</td>\n",
       "      <td>60.5035</td>\n",
       "      <td>134.3100</td>\n",
       "      <td>368.8490</td>\n",
       "      <td>385.4280</td>\n",
       "      <td>147.0100</td>\n",
       "      <td>84.5024</td>\n",
       "      <td>142.5720</td>\n",
       "      <td>29.3123</td>\n",
       "      <td>22.5687</td>\n",
       "      <td>27.2757</td>\n",
       "      <td>57.2973</td>\n",
       "      <td>49.6637</td>\n",
       "      <td>33.7293</td>\n",
       "      <td>22.9474</td>\n",
       "      <td>39.6413</td>\n",
       "      <td>23.3402</td>\n",
       "      <td>24.1181</td>\n",
       "      <td>31.9165</td>\n",
       "      <td>26.7600</td>\n",
       "      <td>44.3151</td>\n",
       "      <td>27.5466</td>\n",
       "      <td>52.8575</td>\n",
       "      <td>36.7258</td>\n",
       "      <td>132.2000</td>\n",
       "      <td>53.2359</td>\n",
       "      <td>70.5140</td>\n",
       "      <td>121.8180</td>\n",
       "      <td>144.7980</td>\n",
       "      <td>244.8990</td>\n",
       "      <td>378.3110</td>\n",
       "      <td>24.7402</td>\n",
       "      <td>52.7185</td>\n",
       "      <td>95.8487</td>\n",
       "      <td>35.1783</td>\n",
       "      <td>41.5900</td>\n",
       "      <td>150.9580</td>\n",
       "      <td>78.3702</td>\n",
       "      <td>65.8838</td>\n",
       "      <td>137.9670</td>\n",
       "      <td>138.7100</td>\n",
       "      <td>16.6781</td>\n",
       "      <td>27.4900</td>\n",
       "      <td>58.1200</td>\n",
       "      <td>43.3325</td>\n",
       "      <td>156.1160</td>\n",
       "      <td>48.4974</td>\n",
       "      <td>89.8526</td>\n",
       "      <td>413.2410</td>\n",
       "      <td>159.6660</td>\n",
       "      <td>19.0625</td>\n",
       "      <td>88.8100</td>\n",
       "      <td>93.5261</td>\n",
       "      <td>60.7000</td>\n",
       "      <td>99.7704</td>\n",
       "      <td>50.5234</td>\n",
       "      <td>29.1098</td>\n",
       "      <td>90.7719</td>\n",
       "      <td>178.8900</td>\n",
       "      <td>111.2100</td>\n",
       "      <td>39.3380</td>\n",
       "      <td>109.0900</td>\n",
       "      <td>120.9600</td>\n",
       "      <td>92.6139</td>\n",
       "      <td>115.4100</td>\n",
       "      <td>41.0664</td>\n",
       "      <td>28.9102</td>\n",
       "      <td>135.5600</td>\n",
       "      <td>44.9551</td>\n",
       "      <td>45.2700</td>\n",
       "      <td>40.7922</td>\n",
       "      <td>8.1278</td>\n",
       "      <td>10.3600</td>\n",
       "      <td>196.4080</td>\n",
       "      <td>86.4791</td>\n",
       "      <td>80.5966</td>\n",
       "      <td>74.7025</td>\n",
       "      <td>37.3855</td>\n",
       "      <td>52.0377</td>\n",
       "      <td>71.6276</td>\n",
       "      <td>65.4587</td>\n",
       "      <td>95.3127</td>\n",
       "      <td>48.0589</td>\n",
       "      <td>247.5460</td>\n",
       "      <td>371.6900</td>\n",
       "      <td>176.1130</td>\n",
       "      <td>71.6349</td>\n",
       "      <td>63.1478</td>\n",
       "      <td>129.9120</td>\n",
       "      <td>14.7300</td>\n",
       "      <td>169.7600</td>\n",
       "      <td>66.1506</td>\n",
       "      <td>484.3790</td>\n",
       "      <td>33.5805</td>\n",
       "      <td>81.5191</td>\n",
       "      <td>234.4870</td>\n",
       "      <td>22.9090</td>\n",
       "      <td>78.3325</td>\n",
       "      <td>91.4483</td>\n",
       "      <td>52.7885</td>\n",
       "      <td>33.5749</td>\n",
       "      <td>101.7600</td>\n",
       "      <td>120.4950</td>\n",
       "      <td>118.8710</td>\n",
       "      <td>106.8170</td>\n",
       "      <td>290.3200</td>\n",
       "      <td>24.4319</td>\n",
       "      <td>43.2759</td>\n",
       "      <td>23.6130</td>\n",
       "      <td>31.7609</td>\n",
       "      <td>817.9960</td>\n",
       "      <td>24.4868</td>\n",
       "      <td>56.7496</td>\n",
       "      <td>34.2183</td>\n",
       "      <td>5.1242</td>\n",
       "      <td>341.9370</td>\n",
       "      <td>17.9900</td>\n",
       "      <td>51.3910</td>\n",
       "      <td>88.1093</td>\n",
       "      <td>71.6464</td>\n",
       "      <td>29.7033</td>\n",
       "      <td>106.8710</td>\n",
       "      <td>86.9265</td>\n",
       "      <td>203.7200</td>\n",
       "      <td>53.3573</td>\n",
       "      <td>225.6870</td>\n",
       "      <td>124.6000</td>\n",
       "      <td>12.7629</td>\n",
       "      <td>264.9070</td>\n",
       "      <td>49.5694</td>\n",
       "      <td>75.7000</td>\n",
       "      <td>18.9356</td>\n",
       "      <td>173.1560</td>\n",
       "      <td>47.4612</td>\n",
       "      <td>86.0900</td>\n",
       "      <td>67.8083</td>\n",
       "      <td>64.4844</td>\n",
       "      <td>44.7600</td>\n",
       "      <td>61.1478</td>\n",
       "      <td>29.6749</td>\n",
       "      <td>64.0500</td>\n",
       "      <td>32.3824</td>\n",
       "      <td>73.6039</td>\n",
       "      <td>21.4900</td>\n",
       "      <td>30.8300</td>\n",
       "      <td>234.7310</td>\n",
       "      <td>121.9990</td>\n",
       "      <td>150.3740</td>\n",
       "      <td>134.7810</td>\n",
       "      <td>45.0163</td>\n",
       "      <td>10.8288</td>\n",
       "      <td>57.4317</td>\n",
       "      <td>141.8220</td>\n",
       "      <td>33.9645</td>\n",
       "      <td>35.7067</td>\n",
       "      <td>75.7820</td>\n",
       "      <td>42.8923</td>\n",
       "      <td>37.5800</td>\n",
       "      <td>113.9190</td>\n",
       "      <td>1511.0600</td>\n",
       "      <td>39.4152</td>\n",
       "      <td>34.2392</td>\n",
       "      <td>200.0200</td>\n",
       "      <td>480.0210</td>\n",
       "      <td>41.0650</td>\n",
       "      <td>234.6790</td>\n",
       "      <td>34.5198</td>\n",
       "      <td>27.2532</td>\n",
       "      <td>27.6894</td>\n",
       "      <td>36.9263</td>\n",
       "      <td>187.1680</td>\n",
       "      <td>45.8136</td>\n",
       "      <td>185.2300</td>\n",
       "      <td>13.2062</td>\n",
       "      <td>144.9000</td>\n",
       "      <td>1255.3000</td>\n",
       "      <td>60.5115</td>\n",
       "      <td>32.3119</td>\n",
       "      <td>181.1100</td>\n",
       "      <td>229.9960</td>\n",
       "      <td>41.7419</td>\n",
       "      <td>25.0900</td>\n",
       "      <td>47.1648</td>\n",
       "      <td>38.3000</td>\n",
       "      <td>40.1368</td>\n",
       "      <td>216.5000</td>\n",
       "      <td>18.7729</td>\n",
       "      <td>133.3610</td>\n",
       "      <td>223.6500</td>\n",
       "      <td>104.6600</td>\n",
       "      <td>26.3857</td>\n",
       "      <td>25.0859</td>\n",
       "      <td>32.0023</td>\n",
       "      <td>20.6934</td>\n",
       "      <td>48.1107</td>\n",
       "      <td>105.6840</td>\n",
       "      <td>75.9600</td>\n",
       "      <td>28.9138</td>\n",
       "      <td>31.1575</td>\n",
       "      <td>15.8276</td>\n",
       "      <td>50.4819</td>\n",
       "      <td>83.4900</td>\n",
       "      <td>96.7729</td>\n",
       "      <td>40.6825</td>\n",
       "      <td>16.5308</td>\n",
       "      <td>141.8200</td>\n",
       "      <td>78.5938</td>\n",
       "      <td>169.4000</td>\n",
       "      <td>55.1394</td>\n",
       "      <td>80.3378</td>\n",
       "      <td>148.8930</td>\n",
       "      <td>18.6651</td>\n",
       "      <td>66.4400</td>\n",
       "      <td>38.3651</td>\n",
       "      <td>56.0545</td>\n",
       "      <td>82.5014</td>\n",
       "      <td>45.1357</td>\n",
       "      <td>53.0378</td>\n",
       "      <td>39.3469</td>\n",
       "      <td>59.8500</td>\n",
       "      <td>66.5400</td>\n",
       "      <td>20.7347</td>\n",
       "      <td>24.1100</td>\n",
       "      <td>34.3933</td>\n",
       "      <td>19.1117</td>\n",
       "      <td>93.7745</td>\n",
       "      <td>38.3400</td>\n",
       "      <td>258.5800</td>\n",
       "      <td>107.6700</td>\n",
       "      <td>27.6949</td>\n",
       "      <td>33.1464</td>\n",
       "      <td>108.0550</td>\n",
       "      <td>73.7634</td>\n",
       "      <td>20.6268</td>\n",
       "      <td>13.8958</td>\n",
       "      <td>35.5576</td>\n",
       "      <td>55.2700</td>\n",
       "      <td>20.2231</td>\n",
       "      <td>85.5958</td>\n",
       "      <td>22.1900</td>\n",
       "      <td>115.9200</td>\n",
       "      <td>32.8411</td>\n",
       "      <td>72.9055</td>\n",
       "      <td>61.8422</td>\n",
       "      <td>119.4710</td>\n",
       "      <td>188.6100</td>\n",
       "      <td>40.3700</td>\n",
       "      <td>41.3761</td>\n",
       "      <td>30.9760</td>\n",
       "      <td>38.2900</td>\n",
       "      <td>27.8000</td>\n",
       "      <td>14.7300</td>\n",
       "      <td>51.8300</td>\n",
       "      <td>116.1400</td>\n",
       "      <td>142.6920</td>\n",
       "      <td>141.5310</td>\n",
       "      <td>21.8786</td>\n",
       "      <td>136.0710</td>\n",
       "      <td>24.7871</td>\n",
       "      <td>134.4800</td>\n",
       "      <td>3.2200</td>\n",
       "      <td>117.9280</td>\n",
       "      <td>374.9490</td>\n",
       "      <td>31.0498</td>\n",
       "      <td>38.3055</td>\n",
       "      <td>96.1759</td>\n",
       "      <td>72.3500</td>\n",
       "      <td>120.9200</td>\n",
       "      <td>36.7917</td>\n",
       "      <td>99.7550</td>\n",
       "      <td>113.3100</td>\n",
       "      <td>960.8530</td>\n",
       "      <td>130.0790</td>\n",
       "      <td>33.5278</td>\n",
       "      <td>33.6800</td>\n",
       "      <td>47.4316</td>\n",
       "      <td>11.8005</td>\n",
       "      <td>305.7350</td>\n",
       "      <td>344.3510</td>\n",
       "      <td>54.8000</td>\n",
       "      <td>99.0613</td>\n",
       "      <td>31.4138</td>\n",
       "      <td>183.8240</td>\n",
       "      <td>144.7440</td>\n",
       "      <td>143.0220</td>\n",
       "      <td>30.5811</td>\n",
       "      <td>87.9869</td>\n",
       "      <td>259.2800</td>\n",
       "      <td>8.8700</td>\n",
       "      <td>124.1520</td>\n",
       "      <td>8.0721</td>\n",
       "      <td>117.1680</td>\n",
       "      <td>194.2410</td>\n",
       "      <td>33.5300</td>\n",
       "      <td>6.3009</td>\n",
       "      <td>72.4400</td>\n",
       "      <td>190.0170</td>\n",
       "      <td>10.9200</td>\n",
       "      <td>14.7760</td>\n",
       "      <td>27.1528</td>\n",
       "      <td>77.3300</td>\n",
       "      <td>44.8158</td>\n",
       "      <td>29.2323</td>\n",
       "      <td>34.3135</td>\n",
       "      <td>76.1400</td>\n",
       "      <td>18.2194</td>\n",
       "      <td>188.8060</td>\n",
       "      <td>29.5636</td>\n",
       "      <td>347.2510</td>\n",
       "      <td>612.3900</td>\n",
       "      <td>373.4070</td>\n",
       "      <td>57.4631</td>\n",
       "      <td>48.6962</td>\n",
       "      <td>71.2954</td>\n",
       "      <td>32.5476</td>\n",
       "      <td>47.5921</td>\n",
       "      <td>38.5100</td>\n",
       "      <td>134.1100</td>\n",
       "      <td>22.5528</td>\n",
       "      <td>24.5000</td>\n",
       "      <td>23.8191</td>\n",
       "      <td>176.9440</td>\n",
       "      <td>24.3909</td>\n",
       "      <td>126.4330</td>\n",
       "      <td>4.4503</td>\n",
       "      <td>260.5000</td>\n",
       "      <td>47.1309</td>\n",
       "      <td>88.5594</td>\n",
       "      <td>103.0170</td>\n",
       "      <td>60.2955</td>\n",
       "      <td>25.3095</td>\n",
       "      <td>527.1400</td>\n",
       "      <td>91.0143</td>\n",
       "      <td>66.5054</td>\n",
       "      <td>111.6370</td>\n",
       "      <td>46.6792</td>\n",
       "      <td>51.7352</td>\n",
       "      <td>217.0640</td>\n",
       "      <td>79.0357</td>\n",
       "      <td>43.2033</td>\n",
       "      <td>48.7042</td>\n",
       "      <td>80.8729</td>\n",
       "      <td>48.4582</td>\n",
       "      <td>85.8760</td>\n",
       "      <td>93.0990</td>\n",
       "      <td>56.0484</td>\n",
       "      <td>54.1455</td>\n",
       "      <td>108.0580</td>\n",
       "      <td>79.5683</td>\n",
       "      <td>101.8970</td>\n",
       "      <td>95.3266</td>\n",
       "      <td>121.1620</td>\n",
       "      <td>140.2820</td>\n",
       "      <td>55.3619</td>\n",
       "      <td>58.3500</td>\n",
       "      <td>50.0181</td>\n",
       "      <td>31.0000</td>\n",
       "      <td>19.7200</td>\n",
       "      <td>12.2498</td>\n",
       "      <td>107.8190</td>\n",
       "      <td>28.1800</td>\n",
       "      <td>42.0370</td>\n",
       "      <td>634.5710</td>\n",
       "      <td>31.6772</td>\n",
       "      <td>10.2700</td>\n",
       "      <td>49.7500</td>\n",
       "      <td>82.5761</td>\n",
       "      <td>32.5100</td>\n",
       "      <td>31.5023</td>\n",
       "      <td>30.9029</td>\n",
       "      <td>36.0241</td>\n",
       "      <td>210.7500</td>\n",
       "      <td>83.6280</td>\n",
       "      <td>66.0813</td>\n",
       "      <td>383.7700</td>\n",
       "      <td>45.0629</td>\n",
       "      <td>469.8900</td>\n",
       "      <td>122.2400</td>\n",
       "      <td>106.6920</td>\n",
       "      <td>124.6370</td>\n",
       "      <td>5.2797</td>\n",
       "      <td>248.7630</td>\n",
       "      <td>43.3229</td>\n",
       "      <td>109.7300</td>\n",
       "      <td>82.4627</td>\n",
       "      <td>170.5170</td>\n",
       "      <td>486.9780</td>\n",
       "      <td>79.5525</td>\n",
       "      <td>14.6879</td>\n",
       "      <td>267.2230</td>\n",
       "      <td>162.2330</td>\n",
       "      <td>319.1300</td>\n",
       "      <td>191.1910</td>\n",
       "      <td>144.4670</td>\n",
       "      <td>245.4090</td>\n",
       "      <td>105.5730</td>\n",
       "      <td>76.2393</td>\n",
       "      <td>112.8270</td>\n",
       "      <td>277.9580</td>\n",
       "      <td>185.5460</td>\n",
       "      <td>19.2300</td>\n",
       "      <td>87.1500</td>\n",
       "      <td>71.0679</td>\n",
       "      <td>61.0469</td>\n",
       "      <td>85.4535</td>\n",
       "      <td>84.1769</td>\n",
       "      <td>129.8430</td>\n",
       "      <td>112.8960</td>\n",
       "      <td>46.5129</td>\n",
       "      <td>54.9547</td>\n",
       "      <td>122.9000</td>\n",
       "      <td>205.3400</td>\n",
       "      <td>130.7480</td>\n",
       "      <td>99.3833</td>\n",
       "      <td>53.0971</td>\n",
       "      <td>43.6929</td>\n",
       "      <td>20.5667</td>\n",
       "      <td>39.1102</td>\n",
       "      <td>50.6193</td>\n",
       "      <td>44.9575</td>\n",
       "      <td>65.9639</td>\n",
       "      <td>52.1178</td>\n",
       "      <td>38.6500</td>\n",
       "      <td>56.8384</td>\n",
       "      <td>162.4900</td>\n",
       "      <td>175.8500</td>\n",
       "      <td>42.3094</td>\n",
       "      <td>48.5313</td>\n",
       "      <td>149.3180</td>\n",
       "      <td>86.4380</td>\n",
       "      <td>35.6273</td>\n",
       "      <td>5.7200</td>\n",
       "      <td>42.1438</td>\n",
       "      <td>169.7790</td>\n",
       "      <td>47.0872</td>\n",
       "      <td>49.1656</td>\n",
       "      <td>46.4970</td>\n",
       "      <td>52.5158</td>\n",
       "      <td>49.5200</td>\n",
       "      <td>52.1397</td>\n",
       "      <td>46.7089</td>\n",
       "      <td>20.9000</td>\n",
       "      <td>30.6075</td>\n",
       "      <td>7.6200</td>\n",
       "      <td>83.7600</td>\n",
       "      <td>13.3045</td>\n",
       "      <td>155.7000</td>\n",
       "      <td>5.4002</td>\n",
       "      <td>34.9371</td>\n",
       "      <td>18.8375</td>\n",
       "      <td>88.7117</td>\n",
       "      <td>596.2090</td>\n",
       "      <td>115.8150</td>\n",
       "      <td>15.9418</td>\n",
       "      <td>72.7900</td>\n",
       "      <td>45.8030</td>\n",
       "      <td>394.9070</td>\n",
       "      <td>29.1894</td>\n",
       "      <td>58.1958</td>\n",
       "      <td>57.9038</td>\n",
       "      <td>44.6469</td>\n",
       "      <td>32.3165</td>\n",
       "      <td>86.4907</td>\n",
       "      <td>14.2300</td>\n",
       "      <td>17.0400</td>\n",
       "      <td>19.6619</td>\n",
       "      <td>27.6800</td>\n",
       "      <td>22.3622</td>\n",
       "      <td>72.6994</td>\n",
       "      <td>294.5520</td>\n",
       "      <td>98.1825</td>\n",
       "      <td>66.6400</td>\n",
       "      <td>66.8800</td>\n",
       "      <td>3.3100</td>\n",
       "      <td>109.1260</td>\n",
       "      <td>222.4080</td>\n",
       "      <td>55.7600</td>\n",
       "      <td>146.4470</td>\n",
       "      <td>15.5359</td>\n",
       "      <td>217.4040</td>\n",
       "      <td>200.7520</td>\n",
       "      <td>28.3400</td>\n",
       "      <td>415.6660</td>\n",
       "      <td>399.5730</td>\n",
       "      <td>56.4800</td>\n",
       "      <td>45.3424</td>\n",
       "      <td>660.8250</td>\n",
       "      <td>35.7200</td>\n",
       "      <td>36.1000</td>\n",
       "      <td>45.6336</td>\n",
       "      <td>409.2420</td>\n",
       "      <td>159.4400</td>\n",
       "      <td>46.7326</td>\n",
       "      <td>81.1600</td>\n",
       "      <td>83.0038</td>\n",
       "      <td>214.4000</td>\n",
       "      <td>249.5910</td>\n",
       "      <td>64.8519</td>\n",
       "      <td>103.3300</td>\n",
       "      <td>82.7479</td>\n",
       "      <td>60.2500</td>\n",
       "      <td>61.6800</td>\n",
       "      <td>13.2500</td>\n",
       "      <td>462.4000</td>\n",
       "      <td>29.3378</td>\n",
       "      <td>48.9967</td>\n",
       "      <td>103.1430</td>\n",
       "      <td>84.1879</td>\n",
       "      <td>12.7500</td>\n",
       "      <td>1.9381</td>\n",
       "      <td>88.2000</td>\n",
       "      <td>457.2530</td>\n",
       "      <td>121.6360</td>\n",
       "      <td>250.5600</td>\n",
       "      <td>241.5390</td>\n",
       "      <td>67.0021</td>\n",
       "      <td>134.4800</td>\n",
       "      <td>19.0200</td>\n",
       "      <td>88.4907</td>\n",
       "      <td>26.5700</td>\n",
       "      <td>286.7310</td>\n",
       "      <td>34.8656</td>\n",
       "      <td>81.1754</td>\n",
       "      <td>501.0420</td>\n",
       "      <td>394.9320</td>\n",
       "      <td>436.0100</td>\n",
       "      <td>220.2800</td>\n",
       "      <td>74.3204</td>\n",
       "      <td>84.0697</td>\n",
       "      <td>496.0680</td>\n",
       "      <td>295.6300</td>\n",
       "      <td>1772.9000</td>\n",
       "      <td>63.0829</td>\n",
       "      <td>472.3980</td>\n",
       "      <td>21.3830</td>\n",
       "      <td>3.7300</td>\n",
       "      <td>54.0014</td>\n",
       "      <td>174.8470</td>\n",
       "      <td>274.4230</td>\n",
       "      <td>44.8800</td>\n",
       "      <td>108.9660</td>\n",
       "      <td>108.9300</td>\n",
       "      <td>143.1200</td>\n",
       "      <td>93.4479</td>\n",
       "      <td>65.7823</td>\n",
       "      <td>1412.4100</td>\n",
       "      <td>108.0470</td>\n",
       "      <td>220.2560</td>\n",
       "      <td>48.3620</td>\n",
       "      <td>515.5330</td>\n",
       "      <td>189.9090</td>\n",
       "      <td>75.9172</td>\n",
       "      <td>58.2300</td>\n",
       "      <td>214.0600</td>\n",
       "      <td>55.3500</td>\n",
       "      <td>36.7764</td>\n",
       "      <td>83.3804</td>\n",
       "      <td>354.8800</td>\n",
       "      <td>276.0500</td>\n",
       "      <td>29.5102</td>\n",
       "      <td>17.1900</td>\n",
       "      <td>161.1630</td>\n",
       "      <td>33.8821</td>\n",
       "      <td>629.8230</td>\n",
       "      <td>120.7880</td>\n",
       "      <td>97.5000</td>\n",
       "      <td>67.2508</td>\n",
       "      <td>83.7934</td>\n",
       "      <td>165.7050</td>\n",
       "      <td>582.5740</td>\n",
       "      <td>406.6040</td>\n",
       "      <td>322.6480</td>\n",
       "      <td>50.0100</td>\n",
       "      <td>27.1255</td>\n",
       "      <td>127.3860</td>\n",
       "      <td>36.9778</td>\n",
       "      <td>1210.1100</td>\n",
       "      <td>51.7777</td>\n",
       "      <td>19.1758</td>\n",
       "      <td>80.2600</td>\n",
       "      <td>171.2400</td>\n",
       "      <td>70.7100</td>\n",
       "      <td>86.0002</td>\n",
       "      <td>103.6500</td>\n",
       "      <td>9.4700</td>\n",
       "      <td>355.8280</td>\n",
       "      <td>141.7400</td>\n",
       "      <td>17.7400</td>\n",
       "      <td>55.5025</td>\n",
       "      <td>251.8090</td>\n",
       "      <td>55.5930</td>\n",
       "      <td>33.2190</td>\n",
       "      <td>82.6500</td>\n",
       "      <td>571.8280</td>\n",
       "      <td>44.8504</td>\n",
       "      <td>564.6400</td>\n",
       "      <td>61.2164</td>\n",
       "      <td>24.5918</td>\n",
       "      <td>213.8200</td>\n",
       "      <td>5.5400</td>\n",
       "      <td>97.8626</td>\n",
       "      <td>16.2672</td>\n",
       "      <td>5.4300</td>\n",
       "      <td>38.1121</td>\n",
       "      <td>92.5822</td>\n",
       "      <td>435.1500</td>\n",
       "      <td>3.3983</td>\n",
       "      <td>781.3000</td>\n",
       "      <td>53.4414</td>\n",
       "      <td>244.0840</td>\n",
       "      <td>85.7705</td>\n",
       "      <td>94.6543</td>\n",
       "      <td>57.8600</td>\n",
       "      <td>48.2579</td>\n",
       "      <td>67.7300</td>\n",
       "      <td>76.5727</td>\n",
       "      <td>9.3700</td>\n",
       "      <td>179.9110</td>\n",
       "      <td>66.1306</td>\n",
       "      <td>23.8967</td>\n",
       "      <td>146.7500</td>\n",
       "      <td>110.6810</td>\n",
       "      <td>7319.9800</td>\n",
       "      <td>96.3559</td>\n",
       "      <td>62.5413</td>\n",
       "      <td>5.1298</td>\n",
       "      <td>25.4301</td>\n",
       "      <td>24.4225</td>\n",
       "      <td>209.3900</td>\n",
       "      <td>57.9900</td>\n",
       "      <td>47.9527</td>\n",
       "      <td>50.2715</td>\n",
       "      <td>12.8171</td>\n",
       "      <td>152.4330</td>\n",
       "      <td>202.6110</td>\n",
       "      <td>231.3210</td>\n",
       "      <td>31.5367</td>\n",
       "      <td>25.7229</td>\n",
       "      <td>64.4655</td>\n",
       "      <td>10.6300</td>\n",
       "      <td>82.7800</td>\n",
       "      <td>168.8160</td>\n",
       "      <td>75.0700</td>\n",
       "      <td>85.7354</td>\n",
       "      <td>42.0455</td>\n",
       "      <td>49.4211</td>\n",
       "      <td>70.8300</td>\n",
       "      <td>15.3773</td>\n",
       "      <td>144.4800</td>\n",
       "      <td>60.9834</td>\n",
       "      <td>27.7000</td>\n",
       "      <td>114.1430</td>\n",
       "      <td>24.9733</td>\n",
       "      <td>69.8207</td>\n",
       "      <td>110.4600</td>\n",
       "      <td>40.9036</td>\n",
       "      <td>88.7979</td>\n",
       "      <td>39.7919</td>\n",
       "      <td>15.0581</td>\n",
       "      <td>55.5359</td>\n",
       "      <td>13.8934</td>\n",
       "      <td>47.0221</td>\n",
       "      <td>13.2896</td>\n",
       "      <td>159.5370</td>\n",
       "      <td>146.0340</td>\n",
       "      <td>14.6492</td>\n",
       "      <td>172.5300</td>\n",
       "      <td>14.0466</td>\n",
       "      <td>23.4400</td>\n",
       "      <td>35.1636</td>\n",
       "      <td>192.7880</td>\n",
       "      <td>116.5650</td>\n",
       "      <td>59.6440</td>\n",
       "      <td>32.8029</td>\n",
       "      <td>13.8570</td>\n",
       "      <td>13.4186</td>\n",
       "      <td>48.6158</td>\n",
       "      <td>98.4828</td>\n",
       "      <td>16.5768</td>\n",
       "      <td>73.1900</td>\n",
       "      <td>163.3100</td>\n",
       "      <td>12.6089</td>\n",
       "      <td>124.5900</td>\n",
       "      <td>15.9394</td>\n",
       "      <td>55.4918</td>\n",
       "      <td>24.7458</td>\n",
       "      <td>252.0100</td>\n",
       "      <td>162.4310</td>\n",
       "      <td>24.8672</td>\n",
       "      <td>29.3871</td>\n",
       "      <td>73.9494</td>\n",
       "      <td>74.4700</td>\n",
       "      <td>153.3280</td>\n",
       "      <td>176.9770</td>\n",
       "      <td>10.9308</td>\n",
       "      <td>502.1960</td>\n",
       "      <td>20.9300</td>\n",
       "      <td>104.8020</td>\n",
       "      <td>15.7700</td>\n",
       "      <td>39.7500</td>\n",
       "      <td>155.3420</td>\n",
       "      <td>82.4110</td>\n",
       "      <td>122.8960</td>\n",
       "      <td>68.9700</td>\n",
       "      <td>17.0200</td>\n",
       "      <td>87.7764</td>\n",
       "      <td>141.3910</td>\n",
       "      <td>82.0082</td>\n",
       "      <td>72.8316</td>\n",
       "      <td>65.1854</td>\n",
       "      <td>194.0200</td>\n",
       "      <td>366.3300</td>\n",
       "      <td>101.0100</td>\n",
       "      <td>91.6613</td>\n",
       "      <td>23.9595</td>\n",
       "      <td>135.5850</td>\n",
       "      <td>24.7621</td>\n",
       "      <td>12.0637</td>\n",
       "      <td>34.9816</td>\n",
       "      <td>229.2780</td>\n",
       "      <td>13.9908</td>\n",
       "      <td>96.3300</td>\n",
       "      <td>264.4630</td>\n",
       "      <td>7.6400</td>\n",
       "      <td>65.6100</td>\n",
       "      <td>11.6935</td>\n",
       "      <td>42.2500</td>\n",
       "      <td>138.2670</td>\n",
       "      <td>178.7300</td>\n",
       "      <td>19.9680</td>\n",
       "      <td>46.0627</td>\n",
       "      <td>204.1540</td>\n",
       "      <td>23.6518</td>\n",
       "      <td>62.4200</td>\n",
       "      <td>137.3790</td>\n",
       "      <td>43.5100</td>\n",
       "      <td>82.3996</td>\n",
       "      <td>425.3630</td>\n",
       "      <td>174.9850</td>\n",
       "      <td>103.5900</td>\n",
       "      <td>75.3406</td>\n",
       "      <td>152.0360</td>\n",
       "      <td>88.1748</td>\n",
       "      <td>14.9174</td>\n",
       "      <td>113.9640</td>\n",
       "      <td>376.8330</td>\n",
       "      <td>63.2113</td>\n",
       "      <td>275.8700</td>\n",
       "      <td>40.6700</td>\n",
       "      <td>46.0604</td>\n",
       "      <td>122.0960</td>\n",
       "      <td>50.2847</td>\n",
       "      <td>14.3537</td>\n",
       "      <td>22.1531</td>\n",
       "      <td>58.9668</td>\n",
       "      <td>942.5740</td>\n",
       "      <td>40.7017</td>\n",
       "      <td>51.5469</td>\n",
       "      <td>17.1010</td>\n",
       "      <td>162.7180</td>\n",
       "      <td>0.2079</td>\n",
       "      <td>196.1700</td>\n",
       "      <td>112.2620</td>\n",
       "      <td>107.6580</td>\n",
       "      <td>61.6522</td>\n",
       "      <td>9.4293</td>\n",
       "      <td>15.6000</td>\n",
       "      <td>110.4580</td>\n",
       "      <td>3.9750</td>\n",
       "      <td>11.8383</td>\n",
       "      <td>144.8120</td>\n",
       "      <td>68.3261</td>\n",
       "      <td>68.8500</td>\n",
       "      <td>189.2490</td>\n",
       "      <td>224.4250</td>\n",
       "      <td>48.7600</td>\n",
       "      <td>9.8900</td>\n",
       "      <td>260.8100</td>\n",
       "      <td>91.0300</td>\n",
       "      <td>43.1742</td>\n",
       "      <td>545.7110</td>\n",
       "      <td>141.4080</td>\n",
       "      <td>104.2270</td>\n",
       "      <td>26.8935</td>\n",
       "      <td>28.3909</td>\n",
       "      <td>137.6600</td>\n",
       "      <td>283.6160</td>\n",
       "      <td>171.2920</td>\n",
       "      <td>154.3190</td>\n",
       "      <td>32.9382</td>\n",
       "      <td>25.0351</td>\n",
       "      <td>88.9638</td>\n",
       "      <td>28.4600</td>\n",
       "      <td>105.2770</td>\n",
       "      <td>85.5451</td>\n",
       "      <td>94.7715</td>\n",
       "      <td>54.4800</td>\n",
       "      <td>42.2985</td>\n",
       "      <td>27.5500</td>\n",
       "      <td>534.5100</td>\n",
       "      <td>4.0017</td>\n",
       "      <td>174.8660</td>\n",
       "      <td>13.4100</td>\n",
       "      <td>218.4350</td>\n",
       "      <td>15.5790</td>\n",
       "      <td>89.5069</td>\n",
       "      <td>77.1860</td>\n",
       "      <td>22.5350</td>\n",
       "      <td>18.8761</td>\n",
       "      <td>32.6288</td>\n",
       "      <td>24.4761</td>\n",
       "      <td>23.1190</td>\n",
       "      <td>17.6932</td>\n",
       "      <td>21.9239</td>\n",
       "      <td>18.9113</td>\n",
       "      <td>21.3102</td>\n",
       "      <td>23.5033</td>\n",
       "      <td>24.7335</td>\n",
       "      <td>23.1645</td>\n",
       "      <td>25.2071</td>\n",
       "      <td>23.6408</td>\n",
       "      <td>22.8611</td>\n",
       "      <td>61.6183</td>\n",
       "      <td>19.1683</td>\n",
       "      <td>22.2166</td>\n",
       "      <td>66.1701</td>\n",
       "      <td>57.3916</td>\n",
       "      <td>31.4289</td>\n",
       "      <td>119.4330</td>\n",
       "      <td>42.0200</td>\n",
       "      <td>65.4201</td>\n",
       "      <td>72.6290</td>\n",
       "      <td>51.4600</td>\n",
       "      <td>49.5520</td>\n",
       "      <td>19.4600</td>\n",
       "      <td>94.1545</td>\n",
       "      <td>59.5147</td>\n",
       "      <td>33.4382</td>\n",
       "      <td>46.2549</td>\n",
       "      <td>82.9300</td>\n",
       "      <td>103.3920</td>\n",
       "      <td>306.0730</td>\n",
       "      <td>77.7398</td>\n",
       "      <td>38.4326</td>\n",
       "      <td>49.2969</td>\n",
       "      <td>125.3910</td>\n",
       "      <td>22.7082</td>\n",
       "      <td>21.1100</td>\n",
       "      <td>57.0400</td>\n",
       "      <td>92.6000</td>\n",
       "      <td>47.0689</td>\n",
       "      <td>50.4805</td>\n",
       "      <td>18.7556</td>\n",
       "      <td>20.7500</td>\n",
       "      <td>80.8121</td>\n",
       "      <td>76.4873</td>\n",
       "      <td>57.9630</td>\n",
       "      <td>10.4200</td>\n",
       "      <td>190.3760</td>\n",
       "      <td>3.8800</td>\n",
       "      <td>3.1500</td>\n",
       "      <td>48.6700</td>\n",
       "      <td>281.3510</td>\n",
       "      <td>17.0500</td>\n",
       "      <td>26.6312</td>\n",
       "      <td>218.7600</td>\n",
       "      <td>552.0500</td>\n",
       "      <td>34.4324</td>\n",
       "      <td>99.9169</td>\n",
       "      <td>43.3871</td>\n",
       "      <td>65.1086</td>\n",
       "      <td>7.8800</td>\n",
       "      <td>19.7120</td>\n",
       "      <td>33.1663</td>\n",
       "      <td>196.8910</td>\n",
       "      <td>24.1594</td>\n",
       "      <td>32.2025</td>\n",
       "      <td>32.7575</td>\n",
       "      <td>127.9230</td>\n",
       "      <td>448.8950</td>\n",
       "      <td>55.5915</td>\n",
       "      <td>21.0145</td>\n",
       "      <td>30.8393</td>\n",
       "      <td>57.1874</td>\n",
       "      <td>61.7825</td>\n",
       "      <td>20.7601</td>\n",
       "      <td>47.4499</td>\n",
       "      <td>71.8653</td>\n",
       "      <td>222.4700</td>\n",
       "      <td>27.9169</td>\n",
       "      <td>39.6543</td>\n",
       "      <td>26.9912</td>\n",
       "      <td>26.8764</td>\n",
       "      <td>59.2935</td>\n",
       "      <td>27.4223</td>\n",
       "      <td>105.5700</td>\n",
       "      <td>113.3620</td>\n",
       "      <td>485.1910</td>\n",
       "      <td>36.1029</td>\n",
       "      <td>68.7277</td>\n",
       "      <td>41.4616</td>\n",
       "      <td>45.6329</td>\n",
       "      <td>10.2700</td>\n",
       "      <td>68.5187</td>\n",
       "      <td>37.3346</td>\n",
       "      <td>78.0428</td>\n",
       "      <td>185.7000</td>\n",
       "      <td>59.8519</td>\n",
       "      <td>68.8803</td>\n",
       "      <td>35.6154</td>\n",
       "      <td>219.5120</td>\n",
       "      <td>32.7284</td>\n",
       "      <td>94.4128</td>\n",
       "      <td>19.8497</td>\n",
       "      <td>117.9440</td>\n",
       "      <td>43.0425</td>\n",
       "      <td>81.9413</td>\n",
       "      <td>78.5300</td>\n",
       "      <td>70.3177</td>\n",
       "      <td>32.9647</td>\n",
       "      <td>17.6142</td>\n",
       "      <td>83.8948</td>\n",
       "      <td>243.8070</td>\n",
       "      <td>31.0905</td>\n",
       "      <td>101.9280</td>\n",
       "      <td>118.5470</td>\n",
       "      <td>54.8230</td>\n",
       "      <td>101.2810</td>\n",
       "      <td>9.9935</td>\n",
       "      <td>85.4963</td>\n",
       "      <td>96.3417</td>\n",
       "      <td>37.9947</td>\n",
       "      <td>338.1430</td>\n",
       "      <td>50.4500</td>\n",
       "      <td>78.7683</td>\n",
       "      <td>16.6733</td>\n",
       "      <td>14.2800</td>\n",
       "      <td>59.1898</td>\n",
       "      <td>46.8282</td>\n",
       "      <td>28.4072</td>\n",
       "      <td>36.8211</td>\n",
       "      <td>57.2381</td>\n",
       "      <td>1064.3700</td>\n",
       "      <td>432.7400</td>\n",
       "      <td>217.3900</td>\n",
       "      <td>65.5111</td>\n",
       "      <td>38.9072</td>\n",
       "      <td>74.9451</td>\n",
       "      <td>3.7113</td>\n",
       "      <td>139.2050</td>\n",
       "      <td>95.7280</td>\n",
       "      <td>12.2800</td>\n",
       "      <td>34.0949</td>\n",
       "      <td>130.5640</td>\n",
       "      <td>47.3216</td>\n",
       "      <td>138.5200</td>\n",
       "      <td>89.3300</td>\n",
       "      <td>126.2990</td>\n",
       "      <td>27.2208</td>\n",
       "      <td>15.6142</td>\n",
       "      <td>15.8997</td>\n",
       "      <td>102.9150</td>\n",
       "      <td>95.5787</td>\n",
       "      <td>84.6637</td>\n",
       "      <td>100.7230</td>\n",
       "      <td>23.8668</td>\n",
       "      <td>67.2500</td>\n",
       "      <td>90.9541</td>\n",
       "      <td>197.4070</td>\n",
       "      <td>8.9782</td>\n",
       "      <td>55.5881</td>\n",
       "      <td>52.3900</td>\n",
       "      <td>549.2880</td>\n",
       "      <td>158.3130</td>\n",
       "      <td>99.1794</td>\n",
       "      <td>18.6700</td>\n",
       "      <td>37.3599</td>\n",
       "      <td>40.0240</td>\n",
       "      <td>468.5750</td>\n",
       "      <td>38.5063</td>\n",
       "      <td>56.1238</td>\n",
       "      <td>86.5700</td>\n",
       "      <td>83.7860</td>\n",
       "      <td>148.0350</td>\n",
       "      <td>52.5900</td>\n",
       "      <td>58.8282</td>\n",
       "      <td>102.2280</td>\n",
       "      <td>37.1274</td>\n",
       "      <td>68.4866</td>\n",
       "      <td>209.2590</td>\n",
       "      <td>30.9167</td>\n",
       "      <td>45.8292</td>\n",
       "      <td>187.9100</td>\n",
       "      <td>8.7893</td>\n",
       "      <td>113.6910</td>\n",
       "      <td>53.5933</td>\n",
       "      <td>273.2490</td>\n",
       "      <td>91.4099</td>\n",
       "      <td>70.0000</td>\n",
       "      <td>60.2397</td>\n",
       "      <td>33.0489</td>\n",
       "      <td>167.0000</td>\n",
       "      <td>16.8434</td>\n",
       "      <td>96.3312</td>\n",
       "      <td>70.8200</td>\n",
       "      <td>35.7773</td>\n",
       "      <td>153.5560</td>\n",
       "      <td>127.6560</td>\n",
       "      <td>85.8744</td>\n",
       "      <td>430.8600</td>\n",
       "      <td>32.8400</td>\n",
       "      <td>41.3700</td>\n",
       "      <td>68.0700</td>\n",
       "      <td>29.0774</td>\n",
       "      <td>34.4566</td>\n",
       "      <td>113.1570</td>\n",
       "      <td>22.5986</td>\n",
       "      <td>66.6600</td>\n",
       "      <td>63.9093</td>\n",
       "      <td>161.7050</td>\n",
       "      <td>126.5950</td>\n",
       "      <td>46.6982</td>\n",
       "      <td>505.3300</td>\n",
       "      <td>80.2496</td>\n",
       "      <td>7.2177</td>\n",
       "      <td>496.7010</td>\n",
       "      <td>45.8270</td>\n",
       "      <td>240.1690</td>\n",
       "      <td>59.6865</td>\n",
       "      <td>131.2540</td>\n",
       "      <td>32.7000</td>\n",
       "      <td>30.6625</td>\n",
       "      <td>40.6100</td>\n",
       "      <td>645.1630</td>\n",
       "      <td>133.3980</td>\n",
       "      <td>38.5726</td>\n",
       "      <td>47.2000</td>\n",
       "      <td>46.9736</td>\n",
       "      <td>33.1004</td>\n",
       "      <td>47.9689</td>\n",
       "      <td>78.4435</td>\n",
       "      <td>213.4100</td>\n",
       "      <td>6.3969</td>\n",
       "      <td>274.1600</td>\n",
       "      <td>11.6931</td>\n",
       "      <td>206.5190</td>\n",
       "      <td>237.4770</td>\n",
       "      <td>172.0770</td>\n",
       "      <td>76.0041</td>\n",
       "      <td>73.8293</td>\n",
       "      <td>300.1730</td>\n",
       "      <td>73.1918</td>\n",
       "      <td>190.6300</td>\n",
       "      <td>111.6070</td>\n",
       "      <td>45.4383</td>\n",
       "      <td>206.8000</td>\n",
       "      <td>25.9800</td>\n",
       "      <td>53.1036</td>\n",
       "      <td>92.2869</td>\n",
       "      <td>27.9717</td>\n",
       "      <td>5.7200</td>\n",
       "      <td>56.1363</td>\n",
       "      <td>60.4107</td>\n",
       "      <td>56.7739</td>\n",
       "      <td>55.0518</td>\n",
       "      <td>501.2680</td>\n",
       "      <td>254.8860</td>\n",
       "      <td>28.1102</td>\n",
       "      <td>170.4640</td>\n",
       "      <td>76.9379</td>\n",
       "      <td>15.6073</td>\n",
       "      <td>16.0080</td>\n",
       "      <td>221.0590</td>\n",
       "      <td>10.0527</td>\n",
       "      <td>132.7520</td>\n",
       "      <td>76.4594</td>\n",
       "      <td>96.7861</td>\n",
       "      <td>43.3884</td>\n",
       "      <td>231.8470</td>\n",
       "      <td>225.4600</td>\n",
       "      <td>25.8052</td>\n",
       "      <td>28.6895</td>\n",
       "      <td>80.3084</td>\n",
       "      <td>38.2825</td>\n",
       "      <td>227.5640</td>\n",
       "      <td>7.8855</td>\n",
       "      <td>140.0630</td>\n",
       "      <td>220.6260</td>\n",
       "      <td>81.9624</td>\n",
       "      <td>71.0248</td>\n",
       "      <td>446.8350</td>\n",
       "      <td>286.9290</td>\n",
       "      <td>165.3400</td>\n",
       "      <td>218.2790</td>\n",
       "      <td>126.9200</td>\n",
       "      <td>69.1180</td>\n",
       "      <td>69.2971</td>\n",
       "      <td>127.8580</td>\n",
       "      <td>18.3100</td>\n",
       "      <td>245.5730</td>\n",
       "      <td>199.0570</td>\n",
       "      <td>61.3493</td>\n",
       "      <td>424.6800</td>\n",
       "      <td>52.0190</td>\n",
       "      <td>106.9980</td>\n",
       "      <td>43.9732</td>\n",
       "      <td>101.5860</td>\n",
       "      <td>48.6050</td>\n",
       "      <td>215.6180</td>\n",
       "      <td>241.0830</td>\n",
       "      <td>46.1188</td>\n",
       "      <td>44.4998</td>\n",
       "      <td>11.0820</td>\n",
       "      <td>147.7980</td>\n",
       "      <td>77.1111</td>\n",
       "      <td>327.1710</td>\n",
       "      <td>46.3872</td>\n",
       "      <td>223.4020</td>\n",
       "      <td>38.2479</td>\n",
       "      <td>57.6498</td>\n",
       "      <td>160.1640</td>\n",
       "      <td>54.6894</td>\n",
       "      <td>108.5140</td>\n",
       "      <td>61.1260</td>\n",
       "      <td>38.8409</td>\n",
       "      <td>51.5500</td>\n",
       "      <td>133.2580</td>\n",
       "      <td>58.4273</td>\n",
       "      <td>320.7400</td>\n",
       "      <td>20.9281</td>\n",
       "      <td>10.2500</td>\n",
       "      <td>45.7737</td>\n",
       "      <td>181.3630</td>\n",
       "      <td>156.7330</td>\n",
       "      <td>294.7400</td>\n",
       "      <td>43.8789</td>\n",
       "      <td>18.6877</td>\n",
       "      <td>75.5254</td>\n",
       "      <td>85.1261</td>\n",
       "      <td>25.3013</td>\n",
       "      <td>30.2144</td>\n",
       "      <td>47.7317</td>\n",
       "      <td>77.3857</td>\n",
       "      <td>76.7725</td>\n",
       "      <td>286.3960</td>\n",
       "      <td>2.8306</td>\n",
       "      <td>127.7500</td>\n",
       "      <td>135.0100</td>\n",
       "      <td>184.2240</td>\n",
       "      <td>32.7356</td>\n",
       "      <td>35.4433</td>\n",
       "      <td>134.1050</td>\n",
       "      <td>55.5666</td>\n",
       "      <td>57.0998</td>\n",
       "      <td>46.5876</td>\n",
       "      <td>44.8909</td>\n",
       "      <td>52.1266</td>\n",
       "      <td>98.2320</td>\n",
       "      <td>384.2810</td>\n",
       "      <td>379.7030</td>\n",
       "      <td>91.1165</td>\n",
       "      <td>34.3776</td>\n",
       "      <td>199.5380</td>\n",
       "      <td>246.6950</td>\n",
       "      <td>135.0350</td>\n",
       "      <td>31.4631</td>\n",
       "      <td>95.4087</td>\n",
       "      <td>128.9100</td>\n",
       "      <td>87.8321</td>\n",
       "      <td>56.6572</td>\n",
       "      <td>80.8095</td>\n",
       "      <td>78.4469</td>\n",
       "      <td>79.5662</td>\n",
       "      <td>38.1077</td>\n",
       "      <td>39.6177</td>\n",
       "      <td>113.1910</td>\n",
       "      <td>200.1790</td>\n",
       "      <td>71.2735</td>\n",
       "      <td>36.4430</td>\n",
       "      <td>58.7693</td>\n",
       "      <td>138.5700</td>\n",
       "      <td>175.0030</td>\n",
       "      <td>88.4551</td>\n",
       "      <td>96.1455</td>\n",
       "      <td>96.8403</td>\n",
       "      <td>24.9890</td>\n",
       "      <td>8.1900</td>\n",
       "      <td>95.3400</td>\n",
       "      <td>56.9811</td>\n",
       "      <td>113.4450</td>\n",
       "      <td>67.8800</td>\n",
       "      <td>6.0122</td>\n",
       "      <td>17.1800</td>\n",
       "      <td>125.0310</td>\n",
       "      <td>34.5015</td>\n",
       "      <td>57.6500</td>\n",
       "      <td>124.9750</td>\n",
       "      <td>246.4800</td>\n",
       "      <td>55.9100</td>\n",
       "      <td>37.6232</td>\n",
       "      <td>64.2700</td>\n",
       "      <td>244.0000</td>\n",
       "      <td>15.3499</td>\n",
       "      <td>186.4160</td>\n",
       "      <td>30.4071</td>\n",
       "    </tr>\n",
       "    <tr>\n",
       "      <th>2024-02-05</th>\n",
       "      <td>131.6250</td>\n",
       "      <td>26.3521</td>\n",
       "      <td>14.2600</td>\n",
       "      <td>71.4105</td>\n",
       "      <td>186.3160</td>\n",
       "      <td>163.7280</td>\n",
       "      <td>2.4405</td>\n",
       "      <td>144.7800</td>\n",
       "      <td>108.9160</td>\n",
       "      <td>79.5522</td>\n",
       "      <td>4.6700</td>\n",
       "      <td>20.5452</td>\n",
       "      <td>87.6651</td>\n",
       "      <td>362.4660</td>\n",
       "      <td>100.8080</td>\n",
       "      <td>98.1908</td>\n",
       "      <td>47.9602</td>\n",
       "      <td>630.5000</td>\n",
       "      <td>54.4310</td>\n",
       "      <td>187.6730</td>\n",
       "      <td>50.0361</td>\n",
       "      <td>240.4570</td>\n",
       "      <td>252.8100</td>\n",
       "      <td>6.2602</td>\n",
       "      <td>64.7548</td>\n",
       "      <td>5.4534</td>\n",
       "      <td>46.1638</td>\n",
       "      <td>72.4639</td>\n",
       "      <td>77.1898</td>\n",
       "      <td>15.4934</td>\n",
       "      <td>107.9070</td>\n",
       "      <td>73.8955</td>\n",
       "      <td>41.5500</td>\n",
       "      <td>116.1830</td>\n",
       "      <td>93.1567</td>\n",
       "      <td>12.2238</td>\n",
       "      <td>7.6956</td>\n",
       "      <td>119.4000</td>\n",
       "      <td>66.8099</td>\n",
       "      <td>32.0622</td>\n",
       "      <td>56.7126</td>\n",
       "      <td>177.4620</td>\n",
       "      <td>165.2280</td>\n",
       "      <td>233.2690</td>\n",
       "      <td>124.6100</td>\n",
       "      <td>41.1755</td>\n",
       "      <td>105.7790</td>\n",
       "      <td>75.1540</td>\n",
       "      <td>29.5500</td>\n",
       "      <td>275.5800</td>\n",
       "      <td>35.2800</td>\n",
       "      <td>152.1170</td>\n",
       "      <td>123.4440</td>\n",
       "      <td>34.3661</td>\n",
       "      <td>170.7000</td>\n",
       "      <td>60.1731</td>\n",
       "      <td>105.6900</td>\n",
       "      <td>11.2266</td>\n",
       "      <td>168.8940</td>\n",
       "      <td>8.6622</td>\n",
       "      <td>174.2300</td>\n",
       "      <td>165.3610</td>\n",
       "      <td>307.3060</td>\n",
       "      <td>33.0312</td>\n",
       "      <td>39.2442</td>\n",
       "      <td>382.4680</td>\n",
       "      <td>180.3490</td>\n",
       "      <td>17.0844</td>\n",
       "      <td>170.3100</td>\n",
       "      <td>143.9600</td>\n",
       "      <td>68.2425</td>\n",
       "      <td>337.5000</td>\n",
       "      <td>294.7460</td>\n",
       "      <td>75.3941</td>\n",
       "      <td>28.2867</td>\n",
       "      <td>211.0770</td>\n",
       "      <td>33.3100</td>\n",
       "      <td>50.8418</td>\n",
       "      <td>100.8380</td>\n",
       "      <td>45.4800</td>\n",
       "      <td>223.3000</td>\n",
       "      <td>82.2300</td>\n",
       "      <td>21.1200</td>\n",
       "      <td>17.4293</td>\n",
       "      <td>111.1590</td>\n",
       "      <td>119.6370</td>\n",
       "      <td>403.3700</td>\n",
       "      <td>14.1267</td>\n",
       "      <td>45.2000</td>\n",
       "      <td>73.2700</td>\n",
       "      <td>28.9327</td>\n",
       "      <td>109.9400</td>\n",
       "      <td>14.6000</td>\n",
       "      <td>888.5360</td>\n",
       "      <td>143.0900</td>\n",
       "      <td>293.4110</td>\n",
       "      <td>2.7700</td>\n",
       "      <td>8.8414</td>\n",
       "      <td>38.6200</td>\n",
       "      <td>107.6620</td>\n",
       "      <td>128.7550</td>\n",
       "      <td>17.0320</td>\n",
       "      <td>3.0200</td>\n",
       "      <td>121.5000</td>\n",
       "      <td>163.1130</td>\n",
       "      <td>56.3538</td>\n",
       "      <td>56.8336</td>\n",
       "      <td>52.8071</td>\n",
       "      <td>122.0010</td>\n",
       "      <td>57.0998</td>\n",
       "      <td>23.7300</td>\n",
       "      <td>81.2496</td>\n",
       "      <td>83.6218</td>\n",
       "      <td>190.9020</td>\n",
       "      <td>99.3553</td>\n",
       "      <td>117.3740</td>\n",
       "      <td>257.4700</td>\n",
       "      <td>203.0080</td>\n",
       "      <td>56.8624</td>\n",
       "      <td>32.1200</td>\n",
       "      <td>236.2100</td>\n",
       "      <td>39.5500</td>\n",
       "      <td>62.8644</td>\n",
       "      <td>2803.9800</td>\n",
       "      <td>14.6580</td>\n",
       "      <td>206.6300</td>\n",
       "      <td>73.0425</td>\n",
       "      <td>31.7823</td>\n",
       "      <td>138.5260</td>\n",
       "      <td>57.3135</td>\n",
       "      <td>37.7390</td>\n",
       "      <td>147.0150</td>\n",
       "      <td>37.0611</td>\n",
       "      <td>44.2283</td>\n",
       "      <td>60.6706</td>\n",
       "      <td>2.8029</td>\n",
       "      <td>52.5663</td>\n",
       "      <td>53.7602</td>\n",
       "      <td>33.6300</td>\n",
       "      <td>52.7301</td>\n",
       "      <td>87.3547</td>\n",
       "      <td>9.0069</td>\n",
       "      <td>41.3770</td>\n",
       "      <td>69.2758</td>\n",
       "      <td>34.0756</td>\n",
       "      <td>19.2224</td>\n",
       "      <td>6.9761</td>\n",
       "      <td>228.7210</td>\n",
       "      <td>12.8279</td>\n",
       "      <td>24.4823</td>\n",
       "      <td>22.7375</td>\n",
       "      <td>55.7807</td>\n",
       "      <td>54.5909</td>\n",
       "      <td>98.0600</td>\n",
       "      <td>84.9224</td>\n",
       "      <td>55.3141</td>\n",
       "      <td>103.6100</td>\n",
       "      <td>241.8400</td>\n",
       "      <td>85.8712</td>\n",
       "      <td>9.0900</td>\n",
       "      <td>93.0653</td>\n",
       "      <td>48.0683</td>\n",
       "      <td>318.7200</td>\n",
       "      <td>29.1098</td>\n",
       "      <td>45.1500</td>\n",
       "      <td>23.1200</td>\n",
       "      <td>71.5099</td>\n",
       "      <td>65.3200</td>\n",
       "      <td>53.2446</td>\n",
       "      <td>92.1980</td>\n",
       "      <td>18.7548</td>\n",
       "      <td>3579.6200</td>\n",
       "      <td>27.7633</td>\n",
       "      <td>369.6700</td>\n",
       "      <td>178.1800</td>\n",
       "      <td>756.7440</td>\n",
       "      <td>67.5583</td>\n",
       "      <td>138.5980</td>\n",
       "      <td>88.8639</td>\n",
       "      <td>87.7200</td>\n",
       "      <td>45.2064</td>\n",
       "      <td>38.1582</td>\n",
       "      <td>68.9284</td>\n",
       "      <td>46.2578</td>\n",
       "      <td>44.1053</td>\n",
       "      <td>38.3783</td>\n",
       "      <td>93.3500</td>\n",
       "      <td>79.9003</td>\n",
       "      <td>85.3526</td>\n",
       "      <td>105.3560</td>\n",
       "      <td>31.4717</td>\n",
       "      <td>76.6600</td>\n",
       "      <td>81.7284</td>\n",
       "      <td>193.6220</td>\n",
       "      <td>57.5900</td>\n",
       "      <td>2.8114</td>\n",
       "      <td>589404.0000</td>\n",
       "      <td>390.7600</td>\n",
       "      <td>71.4276</td>\n",
       "      <td>77.0457</td>\n",
       "      <td>25.9500</td>\n",
       "      <td>20.8305</td>\n",
       "      <td>17.9254</td>\n",
       "      <td>5.4018</td>\n",
       "      <td>19.3084</td>\n",
       "      <td>18.1552</td>\n",
       "      <td>18.2005</td>\n",
       "      <td>73.1312</td>\n",
       "      <td>64.4600</td>\n",
       "      <td>50.2169</td>\n",
       "      <td>26.7062</td>\n",
       "      <td>61.0086</td>\n",
       "      <td>27.1400</td>\n",
       "      <td>193.6100</td>\n",
       "      <td>32.8123</td>\n",
       "      <td>81.6560</td>\n",
       "      <td>117.2900</td>\n",
       "      <td>58.2733</td>\n",
       "      <td>24.9083</td>\n",
       "      <td>62.4510</td>\n",
       "      <td>13.6900</td>\n",
       "      <td>52.2626</td>\n",
       "      <td>346.5600</td>\n",
       "      <td>19.5500</td>\n",
       "      <td>26.8166</td>\n",
       "      <td>101.3570</td>\n",
       "      <td>46.0425</td>\n",
       "      <td>155.8900</td>\n",
       "      <td>55.4061</td>\n",
       "      <td>23.9400</td>\n",
       "      <td>271.8410</td>\n",
       "      <td>315.1140</td>\n",
       "      <td>49.1000</td>\n",
       "      <td>245.1950</td>\n",
       "      <td>181.7500</td>\n",
       "      <td>83.3400</td>\n",
       "      <td>47.1917</td>\n",
       "      <td>10.8700</td>\n",
       "      <td>65.9092</td>\n",
       "      <td>96.8307</td>\n",
       "      <td>48.2161</td>\n",
       "      <td>86.8029</td>\n",
       "      <td>15.8300</td>\n",
       "      <td>2.6600</td>\n",
       "      <td>296.6500</td>\n",
       "      <td>21.3602</td>\n",
       "      <td>226.5910</td>\n",
       "      <td>141.4970</td>\n",
       "      <td>18.3900</td>\n",
       "      <td>125.7470</td>\n",
       "      <td>53.2100</td>\n",
       "      <td>73.3112</td>\n",
       "      <td>29.9569</td>\n",
       "      <td>23.7500</td>\n",
       "      <td>97.8500</td>\n",
       "      <td>38.5120</td>\n",
       "      <td>21.0015</td>\n",
       "      <td>29.5455</td>\n",
       "      <td>26.5408</td>\n",
       "      <td>29.5102</td>\n",
       "      <td>25.8285</td>\n",
       "      <td>28.8584</td>\n",
       "      <td>23.7476</td>\n",
       "      <td>98.4967</td>\n",
       "      <td>118.5250</td>\n",
       "      <td>585.5290</td>\n",
       "      <td>160.8000</td>\n",
       "      <td>138.0020</td>\n",
       "      <td>71.1370</td>\n",
       "      <td>38.6200</td>\n",
       "      <td>303.6500</td>\n",
       "      <td>16.9300</td>\n",
       "      <td>313.0220</td>\n",
       "      <td>55.7257</td>\n",
       "      <td>54.7700</td>\n",
       "      <td>113.0800</td>\n",
       "      <td>107.6550</td>\n",
       "      <td>81.8427</td>\n",
       "      <td>171.2200</td>\n",
       "      <td>36.9300</td>\n",
       "      <td>148.2420</td>\n",
       "      <td>43.2006</td>\n",
       "      <td>46.6297</td>\n",
       "      <td>43.0943</td>\n",
       "      <td>193.8470</td>\n",
       "      <td>55.3217</td>\n",
       "      <td>49.4170</td>\n",
       "      <td>233.1420</td>\n",
       "      <td>53.9224</td>\n",
       "      <td>40.2899</td>\n",
       "      <td>74.0700</td>\n",
       "      <td>11.4522</td>\n",
       "      <td>124.4620</td>\n",
       "      <td>41.3400</td>\n",
       "      <td>26.4228</td>\n",
       "      <td>28.6301</td>\n",
       "      <td>132.2280</td>\n",
       "      <td>49.4200</td>\n",
       "      <td>117.3000</td>\n",
       "      <td>85.8076</td>\n",
       "      <td>92.8400</td>\n",
       "      <td>66.4600</td>\n",
       "      <td>105.2180</td>\n",
       "      <td>231.1800</td>\n",
       "      <td>21.4700</td>\n",
       "      <td>706.3680</td>\n",
       "      <td>50.2042</td>\n",
       "      <td>82.5550</td>\n",
       "      <td>291.5800</td>\n",
       "      <td>41.8551</td>\n",
       "      <td>13.8400</td>\n",
       "      <td>49.9900</td>\n",
       "      <td>89.6692</td>\n",
       "      <td>46.6068</td>\n",
       "      <td>122.7420</td>\n",
       "      <td>22.3829</td>\n",
       "      <td>21.3100</td>\n",
       "      <td>71.4184</td>\n",
       "      <td>7.4500</td>\n",
       "      <td>217.5900</td>\n",
       "      <td>285.6070</td>\n",
       "      <td>58.6233</td>\n",
       "      <td>302.4900</td>\n",
       "      <td>47.6770</td>\n",
       "      <td>81.7600</td>\n",
       "      <td>310.0360</td>\n",
       "      <td>35.9372</td>\n",
       "      <td>152.4050</td>\n",
       "      <td>23.0231</td>\n",
       "      <td>75.8083</td>\n",
       "      <td>50.9455</td>\n",
       "      <td>40.6514</td>\n",
       "      <td>15.3370</td>\n",
       "      <td>93.4900</td>\n",
       "      <td>43.8000</td>\n",
       "      <td>68.5755</td>\n",
       "      <td>142.6980</td>\n",
       "      <td>225.0600</td>\n",
       "      <td>18.6400</td>\n",
       "      <td>69.1198</td>\n",
       "      <td>21.1157</td>\n",
       "      <td>19.5351</td>\n",
       "      <td>86.1600</td>\n",
       "      <td>8.3434</td>\n",
       "      <td>236.9500</td>\n",
       "      <td>42.7500</td>\n",
       "      <td>41.5178</td>\n",
       "      <td>38.6141</td>\n",
       "      <td>41.7700</td>\n",
       "      <td>108.1200</td>\n",
       "      <td>69.3600</td>\n",
       "      <td>13.0961</td>\n",
       "      <td>36.3661</td>\n",
       "      <td>32.4900</td>\n",
       "      <td>64.6771</td>\n",
       "      <td>59.3877</td>\n",
       "      <td>131.1400</td>\n",
       "      <td>359.9750</td>\n",
       "      <td>378.9780</td>\n",
       "      <td>141.9020</td>\n",
       "      <td>83.9052</td>\n",
       "      <td>142.9360</td>\n",
       "      <td>29.1352</td>\n",
       "      <td>22.5880</td>\n",
       "      <td>27.0936</td>\n",
       "      <td>56.5284</td>\n",
       "      <td>48.8510</td>\n",
       "      <td>33.5817</td>\n",
       "      <td>22.8134</td>\n",
       "      <td>39.3880</td>\n",
       "      <td>23.3402</td>\n",
       "      <td>23.9173</td>\n",
       "      <td>31.6431</td>\n",
       "      <td>26.5065</td>\n",
       "      <td>44.2587</td>\n",
       "      <td>27.1451</td>\n",
       "      <td>52.6016</td>\n",
       "      <td>36.3455</td>\n",
       "      <td>130.3070</td>\n",
       "      <td>52.9166</td>\n",
       "      <td>70.2501</td>\n",
       "      <td>120.6290</td>\n",
       "      <td>143.4540</td>\n",
       "      <td>244.3920</td>\n",
       "      <td>375.5300</td>\n",
       "      <td>24.5279</td>\n",
       "      <td>53.9311</td>\n",
       "      <td>95.3750</td>\n",
       "      <td>34.9439</td>\n",
       "      <td>41.9500</td>\n",
       "      <td>151.4320</td>\n",
       "      <td>77.1106</td>\n",
       "      <td>65.5345</td>\n",
       "      <td>137.7860</td>\n",
       "      <td>137.1600</td>\n",
       "      <td>16.2226</td>\n",
       "      <td>27.2500</td>\n",
       "      <td>53.2100</td>\n",
       "      <td>42.7809</td>\n",
       "      <td>157.3350</td>\n",
       "      <td>48.2614</td>\n",
       "      <td>89.6874</td>\n",
       "      <td>409.3150</td>\n",
       "      <td>157.7390</td>\n",
       "      <td>19.0028</td>\n",
       "      <td>87.8700</td>\n",
       "      <td>93.1705</td>\n",
       "      <td>60.0300</td>\n",
       "      <td>98.6691</td>\n",
       "      <td>49.5126</td>\n",
       "      <td>29.0704</td>\n",
       "      <td>89.8568</td>\n",
       "      <td>178.2500</td>\n",
       "      <td>110.7400</td>\n",
       "      <td>38.7570</td>\n",
       "      <td>107.5470</td>\n",
       "      <td>121.2300</td>\n",
       "      <td>92.4613</td>\n",
       "      <td>113.3100</td>\n",
       "      <td>40.9284</td>\n",
       "      <td>28.3771</td>\n",
       "      <td>133.8730</td>\n",
       "      <td>44.5658</td>\n",
       "      <td>44.1600</td>\n",
       "      <td>40.1989</td>\n",
       "      <td>8.1278</td>\n",
       "      <td>10.2985</td>\n",
       "      <td>192.6830</td>\n",
       "      <td>85.1217</td>\n",
       "      <td>78.5173</td>\n",
       "      <td>72.5539</td>\n",
       "      <td>37.4339</td>\n",
       "      <td>52.0282</td>\n",
       "      <td>71.2463</td>\n",
       "      <td>65.1356</td>\n",
       "      <td>95.0787</td>\n",
       "      <td>47.6660</td>\n",
       "      <td>242.5340</td>\n",
       "      <td>372.1480</td>\n",
       "      <td>171.5150</td>\n",
       "      <td>71.1790</td>\n",
       "      <td>61.9107</td>\n",
       "      <td>145.5640</td>\n",
       "      <td>15.9000</td>\n",
       "      <td>169.7400</td>\n",
       "      <td>64.5793</td>\n",
       "      <td>479.6930</td>\n",
       "      <td>32.8247</td>\n",
       "      <td>80.8308</td>\n",
       "      <td>232.7620</td>\n",
       "      <td>22.7157</td>\n",
       "      <td>78.2661</td>\n",
       "      <td>90.8839</td>\n",
       "      <td>52.6825</td>\n",
       "      <td>32.8900</td>\n",
       "      <td>97.8000</td>\n",
       "      <td>117.6910</td>\n",
       "      <td>119.0410</td>\n",
       "      <td>105.6600</td>\n",
       "      <td>288.9900</td>\n",
       "      <td>24.1294</td>\n",
       "      <td>43.2360</td>\n",
       "      <td>23.1367</td>\n",
       "      <td>31.5868</td>\n",
       "      <td>811.1490</td>\n",
       "      <td>24.6251</td>\n",
       "      <td>55.1840</td>\n",
       "      <td>33.3785</td>\n",
       "      <td>5.0109</td>\n",
       "      <td>338.2160</td>\n",
       "      <td>18.1600</td>\n",
       "      <td>49.9851</td>\n",
       "      <td>87.6808</td>\n",
       "      <td>71.2847</td>\n",
       "      <td>29.7226</td>\n",
       "      <td>106.5170</td>\n",
       "      <td>86.5920</td>\n",
       "      <td>205.9220</td>\n",
       "      <td>52.2259</td>\n",
       "      <td>220.2560</td>\n",
       "      <td>122.2600</td>\n",
       "      <td>12.7451</td>\n",
       "      <td>264.2400</td>\n",
       "      <td>49.0816</td>\n",
       "      <td>74.8200</td>\n",
       "      <td>18.8155</td>\n",
       "      <td>171.1980</td>\n",
       "      <td>46.4970</td>\n",
       "      <td>86.0600</td>\n",
       "      <td>67.5179</td>\n",
       "      <td>64.1741</td>\n",
       "      <td>44.8400</td>\n",
       "      <td>60.6790</td>\n",
       "      <td>29.6839</td>\n",
       "      <td>62.4400</td>\n",
       "      <td>31.6942</td>\n",
       "      <td>72.4122</td>\n",
       "      <td>21.4000</td>\n",
       "      <td>30.5900</td>\n",
       "      <td>232.0780</td>\n",
       "      <td>122.2340</td>\n",
       "      <td>151.0310</td>\n",
       "      <td>131.1660</td>\n",
       "      <td>44.7875</td>\n",
       "      <td>10.3382</td>\n",
       "      <td>55.6965</td>\n",
       "      <td>141.2550</td>\n",
       "      <td>33.3924</td>\n",
       "      <td>35.7566</td>\n",
       "      <td>74.6466</td>\n",
       "      <td>42.5633</td>\n",
       "      <td>37.0700</td>\n",
       "      <td>115.1260</td>\n",
       "      <td>1525.7600</td>\n",
       "      <td>38.0195</td>\n",
       "      <td>33.8619</td>\n",
       "      <td>197.7500</td>\n",
       "      <td>470.7800</td>\n",
       "      <td>40.8744</td>\n",
       "      <td>230.7580</td>\n",
       "      <td>33.9850</td>\n",
       "      <td>27.2434</td>\n",
       "      <td>27.7192</td>\n",
       "      <td>36.9263</td>\n",
       "      <td>184.9650</td>\n",
       "      <td>45.6422</td>\n",
       "      <td>184.5500</td>\n",
       "      <td>13.1020</td>\n",
       "      <td>144.1500</td>\n",
       "      <td>1256.1300</td>\n",
       "      <td>59.9481</td>\n",
       "      <td>31.7964</td>\n",
       "      <td>178.6900</td>\n",
       "      <td>222.8160</td>\n",
       "      <td>41.3828</td>\n",
       "      <td>24.5500</td>\n",
       "      <td>47.1834</td>\n",
       "      <td>37.7600</td>\n",
       "      <td>39.5002</td>\n",
       "      <td>212.0000</td>\n",
       "      <td>18.8507</td>\n",
       "      <td>130.0520</td>\n",
       "      <td>223.6000</td>\n",
       "      <td>103.2600</td>\n",
       "      <td>25.9824</td>\n",
       "      <td>25.2092</td>\n",
       "      <td>31.7343</td>\n",
       "      <td>20.5362</td>\n",
       "      <td>47.1618</td>\n",
       "      <td>103.7920</td>\n",
       "      <td>73.5400</td>\n",
       "      <td>28.5421</td>\n",
       "      <td>30.7754</td>\n",
       "      <td>15.7443</td>\n",
       "      <td>49.2105</td>\n",
       "      <td>78.7400</td>\n",
       "      <td>94.7135</td>\n",
       "      <td>40.3761</td>\n",
       "      <td>16.4014</td>\n",
       "      <td>139.8000</td>\n",
       "      <td>77.5629</td>\n",
       "      <td>166.8690</td>\n",
       "      <td>54.7323</td>\n",
       "      <td>79.8160</td>\n",
       "      <td>149.0320</td>\n",
       "      <td>18.5959</td>\n",
       "      <td>66.0900</td>\n",
       "      <td>37.8279</td>\n",
       "      <td>56.0545</td>\n",
       "      <td>81.7660</td>\n",
       "      <td>44.8915</td>\n",
       "      <td>52.8782</td>\n",
       "      <td>38.8512</td>\n",
       "      <td>58.9800</td>\n",
       "      <td>65.3000</td>\n",
       "      <td>21.1899</td>\n",
       "      <td>24.1400</td>\n",
       "      <td>33.9521</td>\n",
       "      <td>19.2661</td>\n",
       "      <td>93.7745</td>\n",
       "      <td>37.8400</td>\n",
       "      <td>258.8240</td>\n",
       "      <td>109.5000</td>\n",
       "      <td>27.0425</td>\n",
       "      <td>32.3080</td>\n",
       "      <td>108.9810</td>\n",
       "      <td>73.2644</td>\n",
       "      <td>20.4908</td>\n",
       "      <td>13.5610</td>\n",
       "      <td>35.7173</td>\n",
       "      <td>51.5650</td>\n",
       "      <td>19.1796</td>\n",
       "      <td>84.7491</td>\n",
       "      <td>21.2900</td>\n",
       "      <td>111.8000</td>\n",
       "      <td>32.3634</td>\n",
       "      <td>72.6687</td>\n",
       "      <td>60.6302</td>\n",
       "      <td>118.8880</td>\n",
       "      <td>187.5700</td>\n",
       "      <td>40.1600</td>\n",
       "      <td>40.6215</td>\n",
       "      <td>30.7455</td>\n",
       "      <td>37.1878</td>\n",
       "      <td>27.5700</td>\n",
       "      <td>13.4600</td>\n",
       "      <td>51.9600</td>\n",
       "      <td>113.9900</td>\n",
       "      <td>144.0740</td>\n",
       "      <td>142.8230</td>\n",
       "      <td>21.7159</td>\n",
       "      <td>133.9300</td>\n",
       "      <td>24.6698</td>\n",
       "      <td>134.0760</td>\n",
       "      <td>3.2100</td>\n",
       "      <td>117.4090</td>\n",
       "      <td>370.2700</td>\n",
       "      <td>30.8020</td>\n",
       "      <td>39.1051</td>\n",
       "      <td>95.8024</td>\n",
       "      <td>71.9700</td>\n",
       "      <td>116.8900</td>\n",
       "      <td>36.2765</td>\n",
       "      <td>99.3059</td>\n",
       "      <td>112.1800</td>\n",
       "      <td>934.2760</td>\n",
       "      <td>128.1020</td>\n",
       "      <td>33.2963</td>\n",
       "      <td>33.6800</td>\n",
       "      <td>46.5506</td>\n",
       "      <td>11.6224</td>\n",
       "      <td>306.9210</td>\n",
       "      <td>342.3360</td>\n",
       "      <td>55.4700</td>\n",
       "      <td>98.2344</td>\n",
       "      <td>31.4235</td>\n",
       "      <td>184.8130</td>\n",
       "      <td>145.4340</td>\n",
       "      <td>142.5320</td>\n",
       "      <td>30.9564</td>\n",
       "      <td>87.7239</td>\n",
       "      <td>256.7990</td>\n",
       "      <td>8.5600</td>\n",
       "      <td>121.5790</td>\n",
       "      <td>8.1109</td>\n",
       "      <td>116.4730</td>\n",
       "      <td>192.9060</td>\n",
       "      <td>33.8600</td>\n",
       "      <td>6.0839</td>\n",
       "      <td>72.0400</td>\n",
       "      <td>187.0130</td>\n",
       "      <td>10.5600</td>\n",
       "      <td>14.6514</td>\n",
       "      <td>26.8215</td>\n",
       "      <td>76.9400</td>\n",
       "      <td>45.2103</td>\n",
       "      <td>28.4681</td>\n",
       "      <td>34.3048</td>\n",
       "      <td>74.9100</td>\n",
       "      <td>18.0317</td>\n",
       "      <td>187.5920</td>\n",
       "      <td>29.9805</td>\n",
       "      <td>344.2690</td>\n",
       "      <td>602.8500</td>\n",
       "      <td>355.8150</td>\n",
       "      <td>57.5328</td>\n",
       "      <td>48.2617</td>\n",
       "      <td>70.9629</td>\n",
       "      <td>32.4005</td>\n",
       "      <td>47.4290</td>\n",
       "      <td>38.3000</td>\n",
       "      <td>134.3590</td>\n",
       "      <td>22.5245</td>\n",
       "      <td>24.1900</td>\n",
       "      <td>23.5540</td>\n",
       "      <td>174.6870</td>\n",
       "      <td>24.3314</td>\n",
       "      <td>124.5170</td>\n",
       "      <td>4.3533</td>\n",
       "      <td>265.7900</td>\n",
       "      <td>47.1403</td>\n",
       "      <td>86.2439</td>\n",
       "      <td>101.2650</td>\n",
       "      <td>59.8860</td>\n",
       "      <td>24.9715</td>\n",
       "      <td>572.1200</td>\n",
       "      <td>90.1285</td>\n",
       "      <td>66.1157</td>\n",
       "      <td>111.0140</td>\n",
       "      <td>46.7559</td>\n",
       "      <td>51.4505</td>\n",
       "      <td>214.6050</td>\n",
       "      <td>77.9756</td>\n",
       "      <td>42.8512</td>\n",
       "      <td>48.3368</td>\n",
       "      <td>80.9875</td>\n",
       "      <td>48.3447</td>\n",
       "      <td>85.3320</td>\n",
       "      <td>92.9334</td>\n",
       "      <td>55.9888</td>\n",
       "      <td>53.5354</td>\n",
       "      <td>106.5290</td>\n",
       "      <td>78.9155</td>\n",
       "      <td>100.2910</td>\n",
       "      <td>93.6320</td>\n",
       "      <td>119.4080</td>\n",
       "      <td>138.3560</td>\n",
       "      <td>55.3030</td>\n",
       "      <td>58.0600</td>\n",
       "      <td>49.7501</td>\n",
       "      <td>30.2500</td>\n",
       "      <td>19.6715</td>\n",
       "      <td>12.0547</td>\n",
       "      <td>107.2080</td>\n",
       "      <td>28.2800</td>\n",
       "      <td>42.2048</td>\n",
       "      <td>635.5830</td>\n",
       "      <td>30.9098</td>\n",
       "      <td>9.8700</td>\n",
       "      <td>49.4300</td>\n",
       "      <td>82.7235</td>\n",
       "      <td>31.7700</td>\n",
       "      <td>31.0410</td>\n",
       "      <td>30.7441</td>\n",
       "      <td>35.8130</td>\n",
       "      <td>210.7100</td>\n",
       "      <td>82.7991</td>\n",
       "      <td>65.4408</td>\n",
       "      <td>383.9400</td>\n",
       "      <td>44.9206</td>\n",
       "      <td>469.7900</td>\n",
       "      <td>121.7950</td>\n",
       "      <td>106.2110</td>\n",
       "      <td>123.4350</td>\n",
       "      <td>5.3280</td>\n",
       "      <td>246.9660</td>\n",
       "      <td>43.0010</td>\n",
       "      <td>109.7400</td>\n",
       "      <td>81.6962</td>\n",
       "      <td>169.1180</td>\n",
       "      <td>485.3500</td>\n",
       "      <td>79.6419</td>\n",
       "      <td>14.5487</td>\n",
       "      <td>265.9450</td>\n",
       "      <td>160.7150</td>\n",
       "      <td>318.8420</td>\n",
       "      <td>188.7620</td>\n",
       "      <td>142.2940</td>\n",
       "      <td>242.5400</td>\n",
       "      <td>104.8070</td>\n",
       "      <td>75.4739</td>\n",
       "      <td>111.5560</td>\n",
       "      <td>276.6300</td>\n",
       "      <td>185.6750</td>\n",
       "      <td>19.2800</td>\n",
       "      <td>87.5311</td>\n",
       "      <td>71.2369</td>\n",
       "      <td>60.7513</td>\n",
       "      <td>84.9245</td>\n",
       "      <td>82.4665</td>\n",
       "      <td>129.9620</td>\n",
       "      <td>111.8350</td>\n",
       "      <td>46.5683</td>\n",
       "      <td>54.4163</td>\n",
       "      <td>121.9800</td>\n",
       "      <td>203.6070</td>\n",
       "      <td>129.6120</td>\n",
       "      <td>97.5933</td>\n",
       "      <td>52.0147</td>\n",
       "      <td>43.3610</td>\n",
       "      <td>21.1427</td>\n",
       "      <td>38.6384</td>\n",
       "      <td>50.3851</td>\n",
       "      <td>44.9748</td>\n",
       "      <td>65.9040</td>\n",
       "      <td>51.5537</td>\n",
       "      <td>38.4600</td>\n",
       "      <td>56.5084</td>\n",
       "      <td>160.1360</td>\n",
       "      <td>171.6000</td>\n",
       "      <td>41.9370</td>\n",
       "      <td>48.4930</td>\n",
       "      <td>148.5460</td>\n",
       "      <td>86.0262</td>\n",
       "      <td>35.6273</td>\n",
       "      <td>5.5200</td>\n",
       "      <td>42.0330</td>\n",
       "      <td>169.5560</td>\n",
       "      <td>47.0685</td>\n",
       "      <td>49.0576</td>\n",
       "      <td>46.7522</td>\n",
       "      <td>51.6193</td>\n",
       "      <td>47.3000</td>\n",
       "      <td>51.6674</td>\n",
       "      <td>46.1044</td>\n",
       "      <td>20.3700</td>\n",
       "      <td>30.0176</td>\n",
       "      <td>7.6300</td>\n",
       "      <td>84.0100</td>\n",
       "      <td>13.1656</td>\n",
       "      <td>154.1500</td>\n",
       "      <td>5.3020</td>\n",
       "      <td>34.5381</td>\n",
       "      <td>18.4267</td>\n",
       "      <td>87.6514</td>\n",
       "      <td>606.6280</td>\n",
       "      <td>114.6020</td>\n",
       "      <td>15.6693</td>\n",
       "      <td>70.9900</td>\n",
       "      <td>45.2418</td>\n",
       "      <td>393.5900</td>\n",
       "      <td>29.1264</td>\n",
       "      <td>58.2253</td>\n",
       "      <td>57.4255</td>\n",
       "      <td>44.5017</td>\n",
       "      <td>31.8903</td>\n",
       "      <td>85.3356</td>\n",
       "      <td>14.0900</td>\n",
       "      <td>17.4400</td>\n",
       "      <td>19.3315</td>\n",
       "      <td>27.8400</td>\n",
       "      <td>22.6039</td>\n",
       "      <td>72.4505</td>\n",
       "      <td>288.7830</td>\n",
       "      <td>95.2186</td>\n",
       "      <td>65.0700</td>\n",
       "      <td>65.4900</td>\n",
       "      <td>3.2200</td>\n",
       "      <td>108.9290</td>\n",
       "      <td>218.5980</td>\n",
       "      <td>58.4600</td>\n",
       "      <td>145.0110</td>\n",
       "      <td>15.7179</td>\n",
       "      <td>215.5400</td>\n",
       "      <td>200.8880</td>\n",
       "      <td>28.0000</td>\n",
       "      <td>418.3580</td>\n",
       "      <td>393.2320</td>\n",
       "      <td>55.6000</td>\n",
       "      <td>44.4125</td>\n",
       "      <td>698.9810</td>\n",
       "      <td>35.3400</td>\n",
       "      <td>35.6700</td>\n",
       "      <td>45.5107</td>\n",
       "      <td>405.1400</td>\n",
       "      <td>157.9330</td>\n",
       "      <td>45.5930</td>\n",
       "      <td>80.8300</td>\n",
       "      <td>82.8562</td>\n",
       "      <td>212.9540</td>\n",
       "      <td>246.6300</td>\n",
       "      <td>64.1445</td>\n",
       "      <td>102.3400</td>\n",
       "      <td>83.9930</td>\n",
       "      <td>59.3400</td>\n",
       "      <td>62.8400</td>\n",
       "      <td>12.9500</td>\n",
       "      <td>456.7300</td>\n",
       "      <td>28.7388</td>\n",
       "      <td>49.8055</td>\n",
       "      <td>101.2280</td>\n",
       "      <td>84.4508</td>\n",
       "      <td>12.5900</td>\n",
       "      <td>1.9106</td>\n",
       "      <td>87.4100</td>\n",
       "      <td>453.4600</td>\n",
       "      <td>118.6330</td>\n",
       "      <td>249.1500</td>\n",
       "      <td>240.6620</td>\n",
       "      <td>66.3386</td>\n",
       "      <td>133.1400</td>\n",
       "      <td>18.4700</td>\n",
       "      <td>87.7487</td>\n",
       "      <td>26.9500</td>\n",
       "      <td>276.0360</td>\n",
       "      <td>35.3299</td>\n",
       "      <td>82.3021</td>\n",
       "      <td>504.5090</td>\n",
       "      <td>392.3530</td>\n",
       "      <td>436.8900</td>\n",
       "      <td>227.0500</td>\n",
       "      <td>72.8315</td>\n",
       "      <td>83.2255</td>\n",
       "      <td>490.4200</td>\n",
       "      <td>295.2900</td>\n",
       "      <td>1774.7500</td>\n",
       "      <td>63.4492</td>\n",
       "      <td>456.9030</td>\n",
       "      <td>21.3732</td>\n",
       "      <td>3.8100</td>\n",
       "      <td>53.7267</td>\n",
       "      <td>174.3940</td>\n",
       "      <td>274.2940</td>\n",
       "      <td>44.5100</td>\n",
       "      <td>108.2960</td>\n",
       "      <td>106.3500</td>\n",
       "      <td>139.8300</td>\n",
       "      <td>93.4572</td>\n",
       "      <td>64.0037</td>\n",
       "      <td>1418.4600</td>\n",
       "      <td>108.2840</td>\n",
       "      <td>216.9040</td>\n",
       "      <td>47.3322</td>\n",
       "      <td>504.2490</td>\n",
       "      <td>188.8090</td>\n",
       "      <td>74.2047</td>\n",
       "      <td>57.6000</td>\n",
       "      <td>211.9400</td>\n",
       "      <td>55.1200</td>\n",
       "      <td>36.0295</td>\n",
       "      <td>82.8081</td>\n",
       "      <td>351.1000</td>\n",
       "      <td>274.1930</td>\n",
       "      <td>28.6209</td>\n",
       "      <td>16.2500</td>\n",
       "      <td>165.8040</td>\n",
       "      <td>33.9726</td>\n",
       "      <td>640.0750</td>\n",
       "      <td>120.5680</td>\n",
       "      <td>95.4900</td>\n",
       "      <td>66.7429</td>\n",
       "      <td>82.4684</td>\n",
       "      <td>163.9270</td>\n",
       "      <td>573.0750</td>\n",
       "      <td>401.0970</td>\n",
       "      <td>320.3640</td>\n",
       "      <td>49.0600</td>\n",
       "      <td>26.4783</td>\n",
       "      <td>126.8990</td>\n",
       "      <td>35.0410</td>\n",
       "      <td>1186.9700</td>\n",
       "      <td>51.4373</td>\n",
       "      <td>18.6240</td>\n",
       "      <td>81.2700</td>\n",
       "      <td>171.6660</td>\n",
       "      <td>68.0100</td>\n",
       "      <td>86.4974</td>\n",
       "      <td>103.1320</td>\n",
       "      <td>9.5900</td>\n",
       "      <td>359.8140</td>\n",
       "      <td>141.6600</td>\n",
       "      <td>17.1400</td>\n",
       "      <td>54.8460</td>\n",
       "      <td>247.8070</td>\n",
       "      <td>53.5089</td>\n",
       "      <td>32.2054</td>\n",
       "      <td>80.8200</td>\n",
       "      <td>567.0800</td>\n",
       "      <td>43.7771</td>\n",
       "      <td>562.0600</td>\n",
       "      <td>61.1889</td>\n",
       "      <td>24.2555</td>\n",
       "      <td>211.3600</td>\n",
       "      <td>5.3800</td>\n",
       "      <td>96.8617</td>\n",
       "      <td>15.9631</td>\n",
       "      <td>5.4900</td>\n",
       "      <td>37.0192</td>\n",
       "      <td>91.3599</td>\n",
       "      <td>430.9600</td>\n",
       "      <td>3.4079</td>\n",
       "      <td>784.8400</td>\n",
       "      <td>52.4161</td>\n",
       "      <td>241.5570</td>\n",
       "      <td>85.1456</td>\n",
       "      <td>96.4166</td>\n",
       "      <td>57.3700</td>\n",
       "      <td>47.4345</td>\n",
       "      <td>68.8200</td>\n",
       "      <td>75.0104</td>\n",
       "      <td>9.2700</td>\n",
       "      <td>178.8510</td>\n",
       "      <td>69.3012</td>\n",
       "      <td>26.1700</td>\n",
       "      <td>148.8300</td>\n",
       "      <td>115.1200</td>\n",
       "      <td>7166.9000</td>\n",
       "      <td>96.1236</td>\n",
       "      <td>62.1272</td>\n",
       "      <td>5.0481</td>\n",
       "      <td>24.9155</td>\n",
       "      <td>23.8786</td>\n",
       "      <td>215.2630</td>\n",
       "      <td>56.1600</td>\n",
       "      <td>46.9962</td>\n",
       "      <td>48.8428</td>\n",
       "      <td>12.7043</td>\n",
       "      <td>150.0500</td>\n",
       "      <td>205.4610</td>\n",
       "      <td>231.0250</td>\n",
       "      <td>30.9116</td>\n",
       "      <td>25.4766</td>\n",
       "      <td>64.2767</td>\n",
       "      <td>10.6400</td>\n",
       "      <td>82.1400</td>\n",
       "      <td>167.5650</td>\n",
       "      <td>73.1500</td>\n",
       "      <td>84.6299</td>\n",
       "      <td>41.8066</td>\n",
       "      <td>48.8605</td>\n",
       "      <td>77.5900</td>\n",
       "      <td>15.2720</td>\n",
       "      <td>141.8100</td>\n",
       "      <td>60.9438</td>\n",
       "      <td>27.1700</td>\n",
       "      <td>114.7340</td>\n",
       "      <td>24.7752</td>\n",
       "      <td>70.3747</td>\n",
       "      <td>109.2140</td>\n",
       "      <td>39.7829</td>\n",
       "      <td>88.7198</td>\n",
       "      <td>39.4277</td>\n",
       "      <td>14.8876</td>\n",
       "      <td>55.4775</td>\n",
       "      <td>13.9207</td>\n",
       "      <td>47.0407</td>\n",
       "      <td>12.7736</td>\n",
       "      <td>160.6210</td>\n",
       "      <td>143.5870</td>\n",
       "      <td>14.7315</td>\n",
       "      <td>172.2400</td>\n",
       "      <td>13.6475</td>\n",
       "      <td>22.5100</td>\n",
       "      <td>34.7559</td>\n",
       "      <td>192.0370</td>\n",
       "      <td>114.7660</td>\n",
       "      <td>58.9499</td>\n",
       "      <td>32.2072</td>\n",
       "      <td>13.7837</td>\n",
       "      <td>13.4593</td>\n",
       "      <td>48.4293</td>\n",
       "      <td>99.4760</td>\n",
       "      <td>16.2980</td>\n",
       "      <td>71.7500</td>\n",
       "      <td>158.8600</td>\n",
       "      <td>12.6567</td>\n",
       "      <td>121.1400</td>\n",
       "      <td>15.9559</td>\n",
       "      <td>55.4918</td>\n",
       "      <td>24.4467</td>\n",
       "      <td>255.0300</td>\n",
       "      <td>162.3830</td>\n",
       "      <td>24.5348</td>\n",
       "      <td>29.0655</td>\n",
       "      <td>73.4755</td>\n",
       "      <td>73.2300</td>\n",
       "      <td>153.4440</td>\n",
       "      <td>178.4360</td>\n",
       "      <td>10.7927</td>\n",
       "      <td>500.7300</td>\n",
       "      <td>20.9000</td>\n",
       "      <td>103.2000</td>\n",
       "      <td>15.6500</td>\n",
       "      <td>39.6700</td>\n",
       "      <td>156.5070</td>\n",
       "      <td>82.0256</td>\n",
       "      <td>120.6710</td>\n",
       "      <td>67.6700</td>\n",
       "      <td>16.7200</td>\n",
       "      <td>86.4927</td>\n",
       "      <td>139.1960</td>\n",
       "      <td>80.4266</td>\n",
       "      <td>71.4111</td>\n",
       "      <td>64.3409</td>\n",
       "      <td>193.5400</td>\n",
       "      <td>359.3040</td>\n",
       "      <td>103.7300</td>\n",
       "      <td>91.3240</td>\n",
       "      <td>23.8797</td>\n",
       "      <td>133.1460</td>\n",
       "      <td>24.3534</td>\n",
       "      <td>12.0356</td>\n",
       "      <td>34.7091</td>\n",
       "      <td>228.6210</td>\n",
       "      <td>13.5837</td>\n",
       "      <td>95.8820</td>\n",
       "      <td>258.4300</td>\n",
       "      <td>7.5700</td>\n",
       "      <td>65.1600</td>\n",
       "      <td>11.6935</td>\n",
       "      <td>41.8900</td>\n",
       "      <td>139.9490</td>\n",
       "      <td>177.2100</td>\n",
       "      <td>19.9006</td>\n",
       "      <td>46.0814</td>\n",
       "      <td>201.8480</td>\n",
       "      <td>23.5640</td>\n",
       "      <td>61.5400</td>\n",
       "      <td>139.6480</td>\n",
       "      <td>42.1900</td>\n",
       "      <td>82.1009</td>\n",
       "      <td>424.8080</td>\n",
       "      <td>174.6980</td>\n",
       "      <td>107.3300</td>\n",
       "      <td>73.5452</td>\n",
       "      <td>151.9470</td>\n",
       "      <td>81.6433</td>\n",
       "      <td>14.9258</td>\n",
       "      <td>111.4680</td>\n",
       "      <td>369.2920</td>\n",
       "      <td>63.0146</td>\n",
       "      <td>272.5300</td>\n",
       "      <td>39.3500</td>\n",
       "      <td>45.3399</td>\n",
       "      <td>119.8900</td>\n",
       "      <td>49.7952</td>\n",
       "      <td>14.4849</td>\n",
       "      <td>21.7717</td>\n",
       "      <td>57.6763</td>\n",
       "      <td>933.7490</td>\n",
       "      <td>40.3810</td>\n",
       "      <td>49.8506</td>\n",
       "      <td>16.7833</td>\n",
       "      <td>163.4190</td>\n",
       "      <td>0.2108</td>\n",
       "      <td>196.1000</td>\n",
       "      <td>110.0860</td>\n",
       "      <td>107.5070</td>\n",
       "      <td>60.7699</td>\n",
       "      <td>9.4293</td>\n",
       "      <td>14.9400</td>\n",
       "      <td>110.4480</td>\n",
       "      <td>4.0700</td>\n",
       "      <td>10.9204</td>\n",
       "      <td>144.4790</td>\n",
       "      <td>68.0929</td>\n",
       "      <td>68.3700</td>\n",
       "      <td>187.5230</td>\n",
       "      <td>225.7540</td>\n",
       "      <td>47.2700</td>\n",
       "      <td>10.0200</td>\n",
       "      <td>259.1650</td>\n",
       "      <td>87.7500</td>\n",
       "      <td>42.6838</td>\n",
       "      <td>542.0070</td>\n",
       "      <td>140.4930</td>\n",
       "      <td>102.1510</td>\n",
       "      <td>26.5202</td>\n",
       "      <td>27.7698</td>\n",
       "      <td>134.4180</td>\n",
       "      <td>282.1490</td>\n",
       "      <td>170.8870</td>\n",
       "      <td>152.9920</td>\n",
       "      <td>32.9382</td>\n",
       "      <td>24.3793</td>\n",
       "      <td>89.2153</td>\n",
       "      <td>30.0900</td>\n",
       "      <td>103.5620</td>\n",
       "      <td>84.9388</td>\n",
       "      <td>93.7988</td>\n",
       "      <td>53.9418</td>\n",
       "      <td>41.9340</td>\n",
       "      <td>27.5600</td>\n",
       "      <td>531.7500</td>\n",
       "      <td>3.7720</td>\n",
       "      <td>174.8460</td>\n",
       "      <td>13.1100</td>\n",
       "      <td>211.5240</td>\n",
       "      <td>15.5692</td>\n",
       "      <td>89.0448</td>\n",
       "      <td>75.2594</td>\n",
       "      <td>22.2205</td>\n",
       "      <td>18.7875</td>\n",
       "      <td>32.2630</td>\n",
       "      <td>24.2790</td>\n",
       "      <td>23.1966</td>\n",
       "      <td>17.5824</td>\n",
       "      <td>21.9140</td>\n",
       "      <td>18.5572</td>\n",
       "      <td>21.1289</td>\n",
       "      <td>23.4147</td>\n",
       "      <td>24.4597</td>\n",
       "      <td>23.1166</td>\n",
       "      <td>25.0761</td>\n",
       "      <td>23.4878</td>\n",
       "      <td>22.6773</td>\n",
       "      <td>61.0602</td>\n",
       "      <td>19.0898</td>\n",
       "      <td>22.0196</td>\n",
       "      <td>65.6914</td>\n",
       "      <td>56.8297</td>\n",
       "      <td>31.0372</td>\n",
       "      <td>117.6630</td>\n",
       "      <td>41.8700</td>\n",
       "      <td>64.6349</td>\n",
       "      <td>72.2596</td>\n",
       "      <td>51.2200</td>\n",
       "      <td>49.8279</td>\n",
       "      <td>19.3700</td>\n",
       "      <td>94.1732</td>\n",
       "      <td>59.2138</td>\n",
       "      <td>32.0454</td>\n",
       "      <td>46.1578</td>\n",
       "      <td>81.4000</td>\n",
       "      <td>103.4010</td>\n",
       "      <td>300.6430</td>\n",
       "      <td>77.5879</td>\n",
       "      <td>38.3597</td>\n",
       "      <td>49.0109</td>\n",
       "      <td>122.0940</td>\n",
       "      <td>22.6357</td>\n",
       "      <td>21.2000</td>\n",
       "      <td>58.1700</td>\n",
       "      <td>91.6300</td>\n",
       "      <td>46.6366</td>\n",
       "      <td>49.9039</td>\n",
       "      <td>18.7168</td>\n",
       "      <td>20.4700</td>\n",
       "      <td>79.6037</td>\n",
       "      <td>75.0861</td>\n",
       "      <td>66.3350</td>\n",
       "      <td>10.4300</td>\n",
       "      <td>194.0900</td>\n",
       "      <td>3.8400</td>\n",
       "      <td>2.9500</td>\n",
       "      <td>47.6500</td>\n",
       "      <td>280.2830</td>\n",
       "      <td>16.7500</td>\n",
       "      <td>26.6886</td>\n",
       "      <td>215.6000</td>\n",
       "      <td>559.1400</td>\n",
       "      <td>33.6831</td>\n",
       "      <td>98.3550</td>\n",
       "      <td>43.1299</td>\n",
       "      <td>63.7144</td>\n",
       "      <td>7.5800</td>\n",
       "      <td>19.5180</td>\n",
       "      <td>34.5955</td>\n",
       "      <td>199.5810</td>\n",
       "      <td>23.9790</td>\n",
       "      <td>31.9739</td>\n",
       "      <td>32.7479</td>\n",
       "      <td>126.8560</td>\n",
       "      <td>446.4140</td>\n",
       "      <td>55.6603</td>\n",
       "      <td>20.9423</td>\n",
       "      <td>30.6885</td>\n",
       "      <td>56.9907</td>\n",
       "      <td>61.1983</td>\n",
       "      <td>20.5793</td>\n",
       "      <td>46.9412</td>\n",
       "      <td>72.2518</td>\n",
       "      <td>223.2500</td>\n",
       "      <td>27.8793</td>\n",
       "      <td>39.0315</td>\n",
       "      <td>26.8200</td>\n",
       "      <td>26.3827</td>\n",
       "      <td>59.0583</td>\n",
       "      <td>27.3561</td>\n",
       "      <td>103.4200</td>\n",
       "      <td>112.0920</td>\n",
       "      <td>483.4240</td>\n",
       "      <td>35.4849</td>\n",
       "      <td>68.8169</td>\n",
       "      <td>41.4616</td>\n",
       "      <td>45.2357</td>\n",
       "      <td>10.2100</td>\n",
       "      <td>67.2797</td>\n",
       "      <td>37.2988</td>\n",
       "      <td>76.9807</td>\n",
       "      <td>182.2880</td>\n",
       "      <td>59.2540</td>\n",
       "      <td>68.3770</td>\n",
       "      <td>34.9715</td>\n",
       "      <td>217.2500</td>\n",
       "      <td>32.0159</td>\n",
       "      <td>94.2691</td>\n",
       "      <td>19.4111</td>\n",
       "      <td>119.2490</td>\n",
       "      <td>44.1272</td>\n",
       "      <td>80.7878</td>\n",
       "      <td>76.1200</td>\n",
       "      <td>69.4941</td>\n",
       "      <td>34.1811</td>\n",
       "      <td>17.4992</td>\n",
       "      <td>81.9584</td>\n",
       "      <td>240.3730</td>\n",
       "      <td>30.8291</td>\n",
       "      <td>101.9870</td>\n",
       "      <td>115.0130</td>\n",
       "      <td>55.6419</td>\n",
       "      <td>100.9860</td>\n",
       "      <td>10.0322</td>\n",
       "      <td>83.2888</td>\n",
       "      <td>95.9893</td>\n",
       "      <td>37.8094</td>\n",
       "      <td>338.9930</td>\n",
       "      <td>49.6000</td>\n",
       "      <td>78.1496</td>\n",
       "      <td>16.5798</td>\n",
       "      <td>13.9200</td>\n",
       "      <td>58.4365</td>\n",
       "      <td>46.8188</td>\n",
       "      <td>28.2778</td>\n",
       "      <td>37.2291</td>\n",
       "      <td>56.2312</td>\n",
       "      <td>1075.0900</td>\n",
       "      <td>430.4100</td>\n",
       "      <td>215.0500</td>\n",
       "      <td>66.2955</td>\n",
       "      <td>37.7119</td>\n",
       "      <td>75.4905</td>\n",
       "      <td>3.6835</td>\n",
       "      <td>137.2270</td>\n",
       "      <td>95.6088</td>\n",
       "      <td>12.3800</td>\n",
       "      <td>33.5944</td>\n",
       "      <td>129.3360</td>\n",
       "      <td>47.3403</td>\n",
       "      <td>135.5110</td>\n",
       "      <td>90.0400</td>\n",
       "      <td>125.7590</td>\n",
       "      <td>27.1692</td>\n",
       "      <td>15.1750</td>\n",
       "      <td>16.0513</td>\n",
       "      <td>102.3380</td>\n",
       "      <td>94.7357</td>\n",
       "      <td>85.1214</td>\n",
       "      <td>98.9609</td>\n",
       "      <td>23.7158</td>\n",
       "      <td>67.2500</td>\n",
       "      <td>89.1174</td>\n",
       "      <td>197.8850</td>\n",
       "      <td>9.1764</td>\n",
       "      <td>52.2136</td>\n",
       "      <td>52.2000</td>\n",
       "      <td>549.0890</td>\n",
       "      <td>158.5380</td>\n",
       "      <td>98.0408</td>\n",
       "      <td>18.3000</td>\n",
       "      <td>37.0520</td>\n",
       "      <td>39.8625</td>\n",
       "      <td>465.5910</td>\n",
       "      <td>38.8528</td>\n",
       "      <td>55.8395</td>\n",
       "      <td>82.5400</td>\n",
       "      <td>83.3865</td>\n",
       "      <td>146.3880</td>\n",
       "      <td>51.6400</td>\n",
       "      <td>57.8170</td>\n",
       "      <td>100.8310</td>\n",
       "      <td>36.0536</td>\n",
       "      <td>67.3849</td>\n",
       "      <td>207.5640</td>\n",
       "      <td>30.2136</td>\n",
       "      <td>45.4397</td>\n",
       "      <td>181.0600</td>\n",
       "      <td>8.3062</td>\n",
       "      <td>116.6770</td>\n",
       "      <td>54.6774</td>\n",
       "      <td>268.3320</td>\n",
       "      <td>90.3493</td>\n",
       "      <td>67.5000</td>\n",
       "      <td>59.7718</td>\n",
       "      <td>32.7826</td>\n",
       "      <td>164.0100</td>\n",
       "      <td>16.4250</td>\n",
       "      <td>96.8684</td>\n",
       "      <td>69.1400</td>\n",
       "      <td>35.0938</td>\n",
       "      <td>153.2670</td>\n",
       "      <td>125.7490</td>\n",
       "      <td>85.1455</td>\n",
       "      <td>427.3900</td>\n",
       "      <td>31.4600</td>\n",
       "      <td>40.0100</td>\n",
       "      <td>68.9900</td>\n",
       "      <td>29.0287</td>\n",
       "      <td>33.6216</td>\n",
       "      <td>110.6510</td>\n",
       "      <td>21.9632</td>\n",
       "      <td>66.0400</td>\n",
       "      <td>63.5610</td>\n",
       "      <td>161.6450</td>\n",
       "      <td>124.2650</td>\n",
       "      <td>46.8504</td>\n",
       "      <td>502.3800</td>\n",
       "      <td>78.4244</td>\n",
       "      <td>7.2651</td>\n",
       "      <td>489.6240</td>\n",
       "      <td>45.9819</td>\n",
       "      <td>238.5340</td>\n",
       "      <td>59.0167</td>\n",
       "      <td>128.6910</td>\n",
       "      <td>31.9900</td>\n",
       "      <td>30.1663</td>\n",
       "      <td>40.4500</td>\n",
       "      <td>636.6520</td>\n",
       "      <td>132.8020</td>\n",
       "      <td>37.8737</td>\n",
       "      <td>46.8600</td>\n",
       "      <td>47.0016</td>\n",
       "      <td>32.9635</td>\n",
       "      <td>47.6111</td>\n",
       "      <td>77.9749</td>\n",
       "      <td>212.7600</td>\n",
       "      <td>6.1074</td>\n",
       "      <td>272.5770</td>\n",
       "      <td>11.5611</td>\n",
       "      <td>204.0430</td>\n",
       "      <td>234.7970</td>\n",
       "      <td>169.9850</td>\n",
       "      <td>75.4954</td>\n",
       "      <td>72.8120</td>\n",
       "      <td>295.8880</td>\n",
       "      <td>73.0119</td>\n",
       "      <td>189.2990</td>\n",
       "      <td>111.1940</td>\n",
       "      <td>45.1420</td>\n",
       "      <td>204.2400</td>\n",
       "      <td>25.2800</td>\n",
       "      <td>52.8831</td>\n",
       "      <td>91.5346</td>\n",
       "      <td>27.7726</td>\n",
       "      <td>5.2700</td>\n",
       "      <td>55.7556</td>\n",
       "      <td>60.0598</td>\n",
       "      <td>55.6959</td>\n",
       "      <td>54.9667</td>\n",
       "      <td>501.5060</td>\n",
       "      <td>255.4460</td>\n",
       "      <td>27.2637</td>\n",
       "      <td>169.3890</td>\n",
       "      <td>76.5404</td>\n",
       "      <td>15.6268</td>\n",
       "      <td>15.3810</td>\n",
       "      <td>219.3940</td>\n",
       "      <td>10.1101</td>\n",
       "      <td>135.2180</td>\n",
       "      <td>75.3947</td>\n",
       "      <td>95.9406</td>\n",
       "      <td>43.0190</td>\n",
       "      <td>227.1100</td>\n",
       "      <td>223.3140</td>\n",
       "      <td>25.1955</td>\n",
       "      <td>28.6068</td>\n",
       "      <td>78.6233</td>\n",
       "      <td>38.1780</td>\n",
       "      <td>225.3090</td>\n",
       "      <td>7.6239</td>\n",
       "      <td>138.4690</td>\n",
       "      <td>219.8110</td>\n",
       "      <td>81.9525</td>\n",
       "      <td>70.3937</td>\n",
       "      <td>445.2020</td>\n",
       "      <td>287.1770</td>\n",
       "      <td>163.8490</td>\n",
       "      <td>216.3960</td>\n",
       "      <td>125.2240</td>\n",
       "      <td>68.9059</td>\n",
       "      <td>68.8544</td>\n",
       "      <td>125.1260</td>\n",
       "      <td>17.5700</td>\n",
       "      <td>244.4030</td>\n",
       "      <td>197.8110</td>\n",
       "      <td>61.4590</td>\n",
       "      <td>428.8900</td>\n",
       "      <td>51.8854</td>\n",
       "      <td>105.9600</td>\n",
       "      <td>42.7887</td>\n",
       "      <td>101.1000</td>\n",
       "      <td>48.3654</td>\n",
       "      <td>214.8230</td>\n",
       "      <td>239.9420</td>\n",
       "      <td>46.0702</td>\n",
       "      <td>42.9928</td>\n",
       "      <td>10.8295</td>\n",
       "      <td>146.7490</td>\n",
       "      <td>76.1098</td>\n",
       "      <td>326.9630</td>\n",
       "      <td>46.3591</td>\n",
       "      <td>222.5560</td>\n",
       "      <td>38.3444</td>\n",
       "      <td>57.2723</td>\n",
       "      <td>158.1740</td>\n",
       "      <td>54.4500</td>\n",
       "      <td>107.6790</td>\n",
       "      <td>60.7434</td>\n",
       "      <td>38.1495</td>\n",
       "      <td>49.0300</td>\n",
       "      <td>132.9000</td>\n",
       "      <td>57.2919</td>\n",
       "      <td>324.8500</td>\n",
       "      <td>20.4844</td>\n",
       "      <td>10.0700</td>\n",
       "      <td>45.2355</td>\n",
       "      <td>178.2800</td>\n",
       "      <td>155.8500</td>\n",
       "      <td>291.7300</td>\n",
       "      <td>44.1128</td>\n",
       "      <td>18.6248</td>\n",
       "      <td>73.7948</td>\n",
       "      <td>83.7514</td>\n",
       "      <td>25.0431</td>\n",
       "      <td>30.5168</td>\n",
       "      <td>47.2851</td>\n",
       "      <td>76.2377</td>\n",
       "      <td>76.0337</td>\n",
       "      <td>284.5750</td>\n",
       "      <td>2.8306</td>\n",
       "      <td>127.9400</td>\n",
       "      <td>134.6880</td>\n",
       "      <td>184.2140</td>\n",
       "      <td>32.3876</td>\n",
       "      <td>35.1919</td>\n",
       "      <td>131.3240</td>\n",
       "      <td>55.2684</td>\n",
       "      <td>55.5799</td>\n",
       "      <td>45.8868</td>\n",
       "      <td>44.3239</td>\n",
       "      <td>52.4553</td>\n",
       "      <td>97.9133</td>\n",
       "      <td>381.6480</td>\n",
       "      <td>396.2460</td>\n",
       "      <td>90.1419</td>\n",
       "      <td>33.6457</td>\n",
       "      <td>196.9010</td>\n",
       "      <td>246.7050</td>\n",
       "      <td>134.8070</td>\n",
       "      <td>30.9563</td>\n",
       "      <td>95.9203</td>\n",
       "      <td>127.9690</td>\n",
       "      <td>88.2714</td>\n",
       "      <td>55.4259</td>\n",
       "      <td>78.7574</td>\n",
       "      <td>77.3451</td>\n",
       "      <td>79.3661</td>\n",
       "      <td>37.8828</td>\n",
       "      <td>39.5881</td>\n",
       "      <td>112.5750</td>\n",
       "      <td>200.6340</td>\n",
       "      <td>70.8314</td>\n",
       "      <td>35.7201</td>\n",
       "      <td>57.5460</td>\n",
       "      <td>139.0000</td>\n",
       "      <td>172.5360</td>\n",
       "      <td>88.0384</td>\n",
       "      <td>96.2348</td>\n",
       "      <td>96.4414</td>\n",
       "      <td>24.0660</td>\n",
       "      <td>7.8700</td>\n",
       "      <td>95.4800</td>\n",
       "      <td>56.4463</td>\n",
       "      <td>112.1280</td>\n",
       "      <td>65.8500</td>\n",
       "      <td>5.7866</td>\n",
       "      <td>16.4100</td>\n",
       "      <td>122.6810</td>\n",
       "      <td>35.1770</td>\n",
       "      <td>56.0900</td>\n",
       "      <td>124.0250</td>\n",
       "      <td>242.0700</td>\n",
       "      <td>54.2600</td>\n",
       "      <td>36.8831</td>\n",
       "      <td>63.6900</td>\n",
       "      <td>232.0500</td>\n",
       "      <td>15.8367</td>\n",
       "      <td>187.5300</td>\n",
       "      <td>30.7323</td>\n",
       "    </tr>\n",
       "  </tbody>\n",
       "</table>\n",
       "</div>"
      ],
      "text/plain": [
       "Ticker            A      AA     AAL    AAON     AAPL     ABBV   ABEV     ABNB      ABT    ACGL   ACHR     ACI     ACM      ACN     ACWI    ACWV    ACWX     ADBE     ADC      ADI     ADM      ADP     ADSK    ADT     AEE    AEG     AEM     AEP     AER     AES      AFG     AFL    AFRM     AGCO     AGG     AGI   AGNC     AIFU     AIG     AIQ    AIRR      AIT      AIZ      AJG     AKAM      AL      ALB     ALC    ALGM     ALGN     ALK      ALL     ALLE    ALLY     ALNY    ALSN      ALV      AM     AMAT   AMCR      AMD      AME     AMGN     AMH    AMLP      AMP      AMT     AMX     AMZN       AN    ANET     ANSS      AON     AOS     APA      APD     APG     APH      APO     APP     APPF    APTV      AR    ARCC      ARE     ARES     ARGX    ARKB    ARKK     ARM    ARMK      ARW      AS     ASML     ASND      ASR   ASTS    ASX     ATI      ATO      ATR      AU    AUR     AVAV      AVB    AVDE    AVDV    AVEM     AVGO    AVLV    AVTR    AVUS    AVUV      AVY      AWI      AWK     AXON  \\\n",
       "Date                                                                                                                                                                                                                                                                                                                                                                                                                                                                                                                                                                                                                                                                                                                                                                                                                                                                                                                                                                                                                             \n",
       "2024-02-01 131.8530 29.1503 14.3400 71.8380 185.5020 160.2190 2.4781 146.4900 111.6860 78.0593 4.9500 20.7291 88.6331 363.0240 100.7880 99.1290 48.5255 627.9100 57.7021 187.1370 53.6263 239.2950 255.0700 6.2793 67.3557 5.5006 49.2070 75.1907 76.4676 16.1034 106.9060 73.7697 39.6700 118.4310 94.7975 12.5912 7.9251 116.4000 66.7033 31.5729 57.2211 179.6970 165.3950 229.1810 124.0400 41.7207 113.6110 76.1408 29.1400 273.3800 36.2600 151.4960 124.8870 35.6442 174.9200 60.4189 107.4710 11.3845 164.8270 8.8877 170.4800 164.2520 309.7780 34.1692 39.6703 378.4970 188.8400 17.6085 159.2800 145.6300 65.7450 332.6600 298.1150 77.8196 29.2262 251.2950 33.1100 50.5604  98.4392 40.9600 226.6800 83.5000 22.1600 17.5253 115.3610 117.8300 385.5800 14.3533 46.0300 70.5200 29.2179 111.4600 13.4000 879.0860 141.6300 287.4620 2.9000 8.7928 38.5500 111.5240 128.6080 17.9638 3.1400 121.9200 170.9430 57.3627 58.1881 52.9319 117.7720 57.0022 23.5600 81.1711 85.3868 194.3310 100.9150 120.9670 252.7000   \n",
       "2024-02-02 131.7740 28.9539 14.5600 72.8918 184.4990 161.2510 2.4687 146.5500 109.3640 79.2098 4.9400 20.6613 89.1369 365.0210 101.1980 98.7131 48.1902 634.7600 55.9770 187.2250 52.6153 240.9700 256.4500 6.2889 66.1267 5.4817 47.2722 74.1905 77.3678 15.9720 107.7340 74.3699 41.0100 117.6240 93.9294 12.3430 7.8268 119.8000 67.4884 32.0622 57.5701 180.9430 163.7070 229.7930 124.4100 41.8668 111.1490 74.7354 28.6600 273.9000 36.1300 152.6410 125.2790 34.9811 173.0600 60.4878 107.3160 11.3659 166.0210 8.8220 177.6600 165.8070 308.4710 33.8727 39.3418 383.0760 184.1950 17.5309 171.8100 146.7000 68.2750 335.2500 290.5630 76.6068 28.6948 249.9490 33.6100 51.0738 100.9650 45.8600 227.7700 83.5000 21.8900 17.6038 114.4090 121.2130 378.8400 14.3167 46.6600 71.0000 29.1786 111.3100 14.9500 879.2050 139.7700 292.4080 2.8400 8.6082 39.1500 109.5780 128.2130 17.3394 3.1500 121.7100 167.9780 56.8583 57.5297 52.7784 120.1600 57.5292 23.4200 81.7988 84.9578 193.7470 100.9340 119.1520 256.9900   \n",
       "2024-02-05 131.6250 26.3521 14.2600 71.4105 186.3160 163.7280 2.4405 144.7800 108.9160 79.5522 4.6700 20.5452 87.6651 362.4660 100.8080 98.1908 47.9602 630.5000 54.4310 187.6730 50.0361 240.4570 252.8100 6.2602 64.7548 5.4534 46.1638 72.4639 77.1898 15.4934 107.9070 73.8955 41.5500 116.1830 93.1567 12.2238 7.6956 119.4000 66.8099 32.0622 56.7126 177.4620 165.2280 233.2690 124.6100 41.1755 105.7790 75.1540 29.5500 275.5800 35.2800 152.1170 123.4440 34.3661 170.7000 60.1731 105.6900 11.2266 168.8940 8.6622 174.2300 165.3610 307.3060 33.0312 39.2442 382.4680 180.3490 17.0844 170.3100 143.9600 68.2425 337.5000 294.7460 75.3941 28.2867 211.0770 33.3100 50.8418 100.8380 45.4800 223.3000 82.2300 21.1200 17.4293 111.1590 119.6370 403.3700 14.1267 45.2000 73.2700 28.9327 109.9400 14.6000 888.5360 143.0900 293.4110 2.7700 8.8414 38.6200 107.6620 128.7550 17.0320 3.0200 121.5000 163.1130 56.3538 56.8336 52.8071 122.0010 57.0998 23.7300 81.2496 83.6218 190.9020  99.3553 117.3740 257.4700   \n",
       "\n",
       "Ticker          AXP     AXS    AXTA      AYI    AZEK     AZN       AZO       B       BA    BABA     BAC      BAH    BALL     BAM      BAP     BAX    BBAX    BBCA    BBD    BBEU    BBIN    BBIO    BBJP    BBUS   BBVA    BBWI     BBY     BCE     BCH    BCS      BDX    BEKE     BEN     BEP    BF-A    BF-B     BFAM      BG     BHP     BIDU     BIIB     BIL   BILI    BILS    BINC      BIO     BIP    BIRK    BITB     BIV      BJ      BK    BKLC    BKLN      BKNG     BKR      BLD     BLDR      BLK     BLV      BMI     BMO    BMRN     BMY      BN     BND    BNDX     BNS     BNT    BNTX    BOKF    BOND     BOXX      BP    BPMC    BPOP       BR    BRBR   BRFS       BRK-A    BRK-B    BRKR     BRO    BROS     BRX    BSAC   BSBR    BSCP    BSCQ    BSCR     BSV     BSX     BSY     BTI     BUD    BUFR     BURL     BWA    BWXT       BX     BXP    BXSL     BYD      BZ       C     CACI     CAE     CAG      CAH    CALF      CAR    CARR    CART     CASY      CAT    CAVA       CB     CBOE    CBRE  \\\n",
       "Date                                                                                                                                                                                                                                                                                                                                                                                                                                                                                                                                                                                                                                                                                                                                                                                                                                                                                                                                                                                                                             \n",
       "2024-02-01 200.3270 55.5694 32.9400 239.2910 39.9900 64.5147 2798.1500 15.3537 209.8100 70.9187 32.3218 138.8190 58.2349 38.2999 147.1720 37.6960 44.9168 62.0161 2.7993 53.3672 54.4827 33.3100 53.3136 86.7754 8.8761 42.0732 70.2373 35.7091 19.6760 7.1924 235.8040 13.8814 25.1517 24.2899 56.7771 55.1713 100.4900 86.2583 57.6107 104.9800 247.8300 85.8524 9.3500 93.0935 48.4646 328.9600 29.8025 46.6700 23.4500 72.7926 65.3500 53.7189 91.5287 18.7726 3513.9000 27.5994 378.2100 179.0200 758.4450 69.7715 143.9980 90.6950 88.7400 45.8565 38.8115 70.1086 46.6953 45.2217 38.6269 94.5100 80.2870 86.6618 105.3270 32.2897 79.8800 81.7668 196.9430 56.4100 2.8503 581600.0000 386.4400 72.1935 77.2443 27.1500 21.5404 18.2803 5.4575 19.3509 18.2401 18.3276 73.6656 64.8200 50.9510 27.1556 61.7378 27.0500 197.3200 33.7923 82.3363 119.3310 60.7289 25.1649 63.4647 14.4700 53.2503 346.0400 20.0100 27.8400 102.7950 47.1468 162.7500 54.7463 25.2500 273.0530 301.6720 49.4100 240.9650 184.7300 86.1900   \n",
       "2024-02-02 203.4710 55.5500 32.6200 238.5530 40.6500 63.3469 2821.8900 14.8899 209.3800 70.3217 32.2447 139.0930 58.3035 38.2809 146.5850 37.4940 44.5772 61.6483 2.7850 52.8584 54.0074 33.9100 52.9732 87.6591 9.0162 42.0152 70.6574 34.5473 19.3079 7.2394 230.7840 13.4912 25.0216 23.6206 56.4482 54.9488 100.3800 86.3251 56.8018 102.7900 243.7200 85.8712 8.9400 93.0559 48.2342 320.4300 29.3813 46.0900 23.4100 72.0800 64.5100 53.8447 92.5424 18.7637 3516.8000 27.9465 381.4800 180.7500 761.4110 68.6555 142.3330 90.0782 88.1100 45.8942 38.7719 69.4804 46.4670 44.7446 38.6866 92.6500 80.5576 86.0072 105.3560 31.8393 79.5800 82.6101 197.0510 56.8200 2.7919 589498.0000 390.7500 71.7757 77.1450 26.7700 21.2564 18.0501 5.3740 19.3225 18.1977 18.2476 73.3602 64.3700 51.0899 26.9848 61.2057 27.1800 196.7300 33.4101 82.0405 120.2980 59.2407 25.3153 63.1006 14.0000 53.2599 348.1600 19.6800 27.6616 101.1910 46.8806 161.6300 55.9182 25.0800 273.3710 308.9270 49.9300 242.6770 182.7800 85.0000   \n",
       "2024-02-05 203.0080 56.8624 32.1200 236.2100 39.5500 62.8644 2803.9800 14.6580 206.6300 73.0425 31.7823 138.5260 57.3135 37.7390 147.0150 37.0611 44.2283 60.6706 2.8029 52.5663 53.7602 33.6300 52.7301 87.3547 9.0069 41.3770 69.2758 34.0756 19.2224 6.9761 228.7210 12.8279 24.4823 22.7375 55.7807 54.5909  98.0600 84.9224 55.3141 103.6100 241.8400 85.8712 9.0900 93.0653 48.0683 318.7200 29.1098 45.1500 23.1200 71.5099 65.3200 53.2446 92.1980 18.7548 3579.6200 27.7633 369.6700 178.1800 756.7440 67.5583 138.5980 88.8639 87.7200 45.2064 38.1582 68.9284 46.2578 44.1053 38.3783 93.3500 79.9003 85.3526 105.3560 31.4717 76.6600 81.7284 193.6220 57.5900 2.8114 589404.0000 390.7600 71.4276 77.0457 25.9500 20.8305 17.9254 5.4018 19.3084 18.1552 18.2005 73.1312 64.4600 50.2169 26.7062 61.0086 27.1400 193.6100 32.8123 81.6560 117.2900 58.2733 24.9083 62.4510 13.6900 52.2626 346.5600 19.5500 26.8166 101.3570 46.0425 155.8900 55.4061 23.9400 271.8410 315.1140 49.1000 245.1950 181.7500 83.3400   \n",
       "\n",
       "Ticker        CBSH    CCCS    CCEP      CCI     CCJ     CCK     CCL    CDE     CDNS     CDP      CDW       CE     CEF      CEG    CELH      CF     CFG    CFLT     CFR      CG    CGCP    CGDV    CGGO    CGGR    CGMU    CGUS    CGXU      CHD     CHDN      CHE     CHKP     CHRD    CHRW     CHT     CHTR    CHWY       CI    CIBR    CIEN     CIGI     CINF      CL      CLH     CLS      CLX      CM     CMA   CMCSA      CME     CMF     CMG      CMI     CMS     CNA     CNC     CNH      CNI     CNM     CNP     CNQ      COF    COHR     COIN    COKE     COO    COOP      COP      COR    CORT     COST    COWZ      CP     CPAY     CPB    CPNG    CPRT     CPT     CQP       CR    CRBG    CRDO     CRH    CRK      CRL      CRM     CRS     CRWD    CSCO    CSGP      CSL     CSX     CTAS    CTRA    CTSH    CTVA    CUBE     CVE    CVLT    CVNA     CVS      CVX       CW    CWAN     CWB    CWEN  CWEN-A    CWST     CX     CYBR     CZR       D     DAL     DAR     DASH     DAY      DB    DBEF     DBX     DCI  \\\n",
       "Date                                                                                                                                                                                                                                                                                                                                                                                                                                                                                                                                                                                                                                                                                                                                                                                                                                                                                                                                                                                                                                 \n",
       "2024-02-01 48.2440 11.0500 67.3818 101.8470 50.4617 88.1001 16.8000 2.8600 290.5200 22.1362 225.9520 144.8260 18.8300 126.3410 51.1000 74.0241 29.6056 22.7700 98.6988 38.7699 21.4032 29.6436 26.3330 29.0617 26.0587 28.7005 24.0249 100.0700 121.9450 595.2210 161.9900 140.0830 70.6182 38.1700 382.3400 17.9000 299.4310 56.3737 54.0900 118.6160 106.4990 83.8184 172.6200 36.1200 142.1170 43.9132 47.2779 44.8807 194.7650 55.8319 48.8404 234.9400 56.0762 37.7121 75.3000 11.5936 125.0240 42.0600 27.2386 30.1339 131.5630 48.7900 128.9500 85.8420 95.3800 66.9300 106.5670 233.8550 21.6300 699.7330 50.7112 82.7540 294.5500 43.2720 13.9100 49.2000 91.2643 48.0954 125.3400 22.2971 20.5600 72.0087 7.7600 219.5400 281.3350 60.3107 299.3700 48.3222 84.6000 314.4710 35.4970 152.8810 23.4324 76.0916 53.1682 41.5302 15.7170 94.6400 42.5300 69.9765 138.5390 223.4570 19.1900 69.6653 22.6298 20.8036 86.6700 8.3040 236.0700 44.0000 43.3665 39.1259 43.5200 107.3000 69.9400 13.2127 36.3470 32.2700 65.1167   \n",
       "2024-02-02 47.9832 11.0000 66.9294  99.3342 48.9147 87.5006 16.4400 2.7400 296.5500 21.8618 228.4860 143.9150 18.5500 128.4000 53.3500 73.7159 30.4412 24.1300 99.3568 39.1234 21.1417 29.7613 26.4715 29.7494 25.9244 28.9867 23.8862  97.7004 121.5060 598.1070 162.0000 138.3300 71.2235 38.1800 319.2100 17.8300 315.5270 56.3338 54.6200 116.2220 108.0880 82.3585 172.8700 36.0700 150.1040 43.7206 47.6668 43.3056 195.4840 55.5816 49.6456 236.5650 55.0565 37.5992 75.4100 11.5747 124.8070 42.1500 26.8259 28.9547 133.4410 49.1300 129.2200 86.8562 94.0725 67.5900 105.8490 231.9500 21.5800 704.7000 50.5259 82.8436 295.9500 42.9082 14.2000 50.0300 92.2385 47.0879 124.9340 22.5544 21.8500 72.0382 7.6400 218.1700 283.1790 60.5291 303.5700 48.3222 83.9400 316.3930 35.7416 153.3160 23.3657 76.1014 52.1650 41.0389 15.4247 95.2900 43.4500 69.1908 142.6140 224.9910 19.2600 69.5776 21.8727 20.2147 87.2400 8.4519 237.4100 43.4100 42.4004 39.3423 43.2600 109.5000 71.4200 13.4361 36.3757 32.4700 65.8592   \n",
       "2024-02-05 47.1917 10.8700 65.9092  96.8307 48.2161 86.8029 15.8300 2.6600 296.6500 21.3602 226.5910 141.4970 18.3900 125.7470 53.2100 73.3112 29.9569 23.7500 97.8500 38.5120 21.0015 29.5455 26.5408 29.5102 25.8285 28.8584 23.7476  98.4967 118.5250 585.5290 160.8000 138.0020 71.1370 38.6200 303.6500 16.9300 313.0220 55.7257 54.7700 113.0800 107.6550 81.8427 171.2200 36.9300 148.2420 43.2006 46.6297 43.0943 193.8470 55.3217 49.4170 233.1420 53.9224 40.2899 74.0700 11.4522 124.4620 41.3400 26.4228 28.6301 132.2280 49.4200 117.3000 85.8076 92.8400 66.4600 105.2180 231.1800 21.4700 706.3680 50.2042 82.5550 291.5800 41.8551 13.8400 49.9900 89.6692 46.6068 122.7420 22.3829 21.3100 71.4184 7.4500 217.5900 285.6070 58.6233 302.4900 47.6770 81.7600 310.0360 35.9372 152.4050 23.0231 75.8083 50.9455 40.6514 15.3370 93.4900 43.8000 68.5755 142.6980 225.0600 18.6400 69.1198 21.1157 19.5351 86.1600 8.3434 236.9500 42.7500 41.5178 38.6141 41.7700 108.1200 69.3600 13.0961 36.3661 32.4900 64.6771   \n",
       "\n",
       "Ticker          DD     DDOG      DDS       DE     DECK    DELL      DEO    DFAC    DFAE    DFAI    DFAS    DFAT    DFAU    DFAX    DFCF    DFEM    DFIC    DFIV    DFLV    DFSD    DFSV    DFUS    DFUV       DG    DGRO    DGRW      DGX      DHI      DHR      DIA    DIHP    DINO     DIS    DIVO    DKNG      DKS     DLB     DLN      DLR     DLTR     DOC    DOCS    DOCU     DON      DOV     DOW     DOX      DPZ      DRI     DRS    DSGX     DSI      DT      DTE     DTM    DUHP     DUK     DUOL      DVA     DVN      DVY     DXCM     DXJ       DY    DYNF       E       EA    EAGG     EAT    EBAY    EBR      EC      ECL      ED     EDU     EDV     EEM    EEMV     EFA    EFAV     EFG     EFV      EFX       EG      EGP     EHC     EIX       EL    ELAN      ELF     ELS      ELV     EMA     EMB      EME    EMLC     EMN     EMR    EMXC     ENB     ENPH     ENSG     ENTG      EOG     EPAM     EPD     EPI    EPRT     EQH     EQIX    EQNR     EQR     EQT   ERIC     ERIE     ERJ      ES    ESAB  \\\n",
       "Date                                                                                                                                                                                                                                                                                                                                                                                                                                                                                                                                                                                                                                                                                                                                                                                                                                                                                                                                                                                                                             \n",
       "2024-02-01 60.1154 126.9000 370.4690 386.4880 128.8080 83.9738 142.4770 29.1450 22.6461 27.5057 57.4944 49.8497 33.4243 23.1197 39.9602 23.4464 24.3381 32.1615 26.7502 44.3433 27.7033 52.3161 36.6088 132.0640 53.2262 70.3283 123.9330 145.2320 243.7060 377.0180 24.9525 53.6886 95.7796 35.0752 40.6500 147.6860 82.8228 65.8547 137.3560 135.6300 17.1426 27.5000 58.9300 43.4970 153.9520 48.6064 90.0956 424.4710 160.3470 19.7788 88.8000 92.9335 58.3000 102.0400 50.9958 29.0508 92.2530 181.4400 112.2300 39.8143 109.7820 122.6000 91.9460 113.7800 40.3662 29.3882 136.8300 45.3253 46.0300 40.5588 8.3456 10.6324 197.0980 88.0739 77.4678 76.8031 37.4919 52.1905 72.1995 66.0860 96.0636 48.4612 247.9720 368.8340 175.9490 72.3485 64.4887 130.4730 14.7900 162.5000 66.8929 484.6820 33.4779 82.1795 233.0010 23.0655 80.4758 91.2342 52.6729 34.1075 105.4400 115.0780 117.4280 108.5030 285.5800 24.5602 42.9568 24.0511 31.3257 820.7690 24.9707 57.4947 34.2378 5.1902 341.5430 18.3500 52.0985 87.0032   \n",
       "2024-02-02 60.5035 134.3100 368.8490 385.4280 147.0100 84.5024 142.5720 29.3123 22.5687 27.2757 57.2973 49.6637 33.7293 22.9474 39.6413 23.3402 24.1181 31.9165 26.7600 44.3151 27.5466 52.8575 36.7258 132.2000 53.2359 70.5140 121.8180 144.7980 244.8990 378.3110 24.7402 52.7185 95.8487 35.1783 41.5900 150.9580 78.3702 65.8838 137.9670 138.7100 16.6781 27.4900 58.1200 43.3325 156.1160 48.4974 89.8526 413.2410 159.6660 19.0625 88.8100 93.5261 60.7000  99.7704 50.5234 29.1098 90.7719 178.8900 111.2100 39.3380 109.0900 120.9600 92.6139 115.4100 41.0664 28.9102 135.5600 44.9551 45.2700 40.7922 8.1278 10.3600 196.4080 86.4791 80.5966 74.7025 37.3855 52.0377 71.6276 65.4587 95.3127 48.0589 247.5460 371.6900 176.1130 71.6349 63.1478 129.9120 14.7300 169.7600 66.1506 484.3790 33.5805 81.5191 234.4870 22.9090 78.3325 91.4483 52.7885 33.5749 101.7600 120.4950 118.8710 106.8170 290.3200 24.4319 43.2759 23.6130 31.7609 817.9960 24.4868 56.7496 34.2183 5.1242 341.9370 17.9900 51.3910 88.1093   \n",
       "2024-02-05 59.3877 131.1400 359.9750 378.9780 141.9020 83.9052 142.9360 29.1352 22.5880 27.0936 56.5284 48.8510 33.5817 22.8134 39.3880 23.3402 23.9173 31.6431 26.5065 44.2587 27.1451 52.6016 36.3455 130.3070 52.9166 70.2501 120.6290 143.4540 244.3920 375.5300 24.5279 53.9311 95.3750 34.9439 41.9500 151.4320 77.1106 65.5345 137.7860 137.1600 16.2226 27.2500 53.2100 42.7809 157.3350 48.2614 89.6874 409.3150 157.7390 19.0028 87.8700 93.1705 60.0300  98.6691 49.5126 29.0704 89.8568 178.2500 110.7400 38.7570 107.5470 121.2300 92.4613 113.3100 40.9284 28.3771 133.8730 44.5658 44.1600 40.1989 8.1278 10.2985 192.6830 85.1217 78.5173 72.5539 37.4339 52.0282 71.2463 65.1356 95.0787 47.6660 242.5340 372.1480 171.5150 71.1790 61.9107 145.5640 15.9000 169.7400 64.5793 479.6930 32.8247 80.8308 232.7620 22.7157 78.2661 90.8839 52.6825 32.8900  97.8000 117.6910 119.0410 105.6600 288.9900 24.1294 43.2360 23.1367 31.5868 811.1490 24.6251 55.1840 33.3785 5.0109 338.2160 18.1600 49.9851 87.6808   \n",
       "\n",
       "Ticker        ESGD    ESGE     ESGU    ESGV     ESLT    ESNT      ESS     ESTC      ET      ETN     ETR    ETSY    EUFN      EVR    EVRG      EW    EWBC     EWJ     EWT     EWY     EWZ    EXAS     EXC     EXE    EXEL    EXLS      EXP     EXPD     EXPE      EXR     EZU       F     FAF     FANG    FAST    FBCG    FBIN    FBND    FBTC     FCFS     FCNCA     FCX     FDL      FDN      FDS    FDVV      FDX      FE    FELC    FELG     FER     FERG     FEZ     FFIV     FHN       FI      FICO     FIS    FITB     FIVE      FIX    FIXD    FLEX    FLOT     FLR     FLS     FLUT     FMS      FMX       FN      FND    FNDA    FNDE    FNDF    FNDX     FNF      FNV    FOUR     FOX    FOXA     FPE      FR    FRHC     FRT    FSEC     FSK     FSLR     FSS      FSV    FTAI    FTCS     FTEC     FTI    FTNT     FTS    FTSM     FTV    FUTU      FV     FVD   FWONA   FWONK     FXI    FYBR       G     GAP    GBIL    GBTC       GD     GDDY     GDX    GDXJ       GE    GEHC     GEN     GFI     GFL     GFS    GGAL  \\\n",
       "Date                                                                                                                                                                                                                                                                                                                                                                                                                                                                                                                                                                                                                                                                                                                                                                                                                                                                                                                                                                                                                                    \n",
       "2024-02-01 72.3032 29.8290 105.7800 85.9229 206.5440 53.7669 227.1980 118.6600 12.7986 259.4830 50.2593 72.6200 19.0096 171.4040 48.4441 78.7100 67.0338 64.8819 44.9600 59.8684 30.2380 63.9300 33.0140 73.9306 21.7500 31.9400 232.3860 121.3710 150.8420 137.1660 45.4071 10.7932 57.8204 144.1820 33.5751 34.6679 77.1133 43.2589 37.6600 117.4410 1477.3700 39.4939 34.2674 193.7600 477.8510 41.0650 234.2820 35.0171 26.9877 27.1086 36.9263 186.8950 46.1087 185.8600 13.1778 143.9400 1243.1700 61.0749 32.2450 182.5400 223.7410 42.2003 25.0400 47.1462 38.2100 39.8919 209.5000 19.1130 133.0970 221.7900 104.4800 26.5038 25.2282 32.1938 20.6050 48.0538 109.1630 74.0300 29.4615 31.7552 15.8831 51.0117 81.7500 97.9782 41.1612 16.5389 147.8900 78.2865 169.6080 54.3448 80.3575 147.4350 19.1201 66.4500 38.8063 56.0827 81.7163 45.8196 52.5191 39.6094 61.1300 67.6000 21.1705 24.6900 35.6874 18.6583 93.7839 38.4100 260.1400 108.4400 28.6931 34.3260 107.1610 74.2026 23.2404 15.1199 34.9886 54.6600 20.1585   \n",
       "2024-02-02 71.6464 29.7033 106.8710 86.9265 203.7200 53.3573 225.6870 124.6000 12.7629 264.9070 49.5694 75.7000 18.9356 173.1560 47.4612 86.0900 67.8083 64.4844 44.7600 61.1478 29.6749 64.0500 32.3824 73.6039 21.4900 30.8300 234.7310 121.9990 150.3740 134.7810 45.0163 10.8288 57.4317 141.8220 33.9645 35.7067 75.7820 42.8923 37.5800 113.9190 1511.0600 39.4152 34.2392 200.0200 480.0210 41.0650 234.6790 34.5198 27.2532 27.6894 36.9263 187.1680 45.8136 185.2300 13.2062 144.9000 1255.3000 60.5115 32.3119 181.1100 229.9960 41.7419 25.0900 47.1648 38.3000 40.1368 216.5000 18.7729 133.3610 223.6500 104.6600 26.3857 25.0859 32.0023 20.6934 48.1107 105.6840 75.9600 28.9138 31.1575 15.8276 50.4819 83.4900 96.7729 40.6825 16.5308 141.8200 78.5938 169.4000 55.1394 80.3378 148.8930 18.6651 66.4400 38.3651 56.0545 82.5014 45.1357 53.0378 39.3469 59.8500 66.5400 20.7347 24.1100 34.3933 19.1117 93.7745 38.3400 258.5800 107.6700 27.6949 33.1464 108.0550 73.7634 20.6268 13.8958 35.5576 55.2700 20.2231   \n",
       "2024-02-05 71.2847 29.7226 106.5170 86.5920 205.9220 52.2259 220.2560 122.2600 12.7451 264.2400 49.0816 74.8200 18.8155 171.1980 46.4970 86.0600 67.5179 64.1741 44.8400 60.6790 29.6839 62.4400 31.6942 72.4122 21.4000 30.5900 232.0780 122.2340 151.0310 131.1660 44.7875 10.3382 55.6965 141.2550 33.3924 35.7566 74.6466 42.5633 37.0700 115.1260 1525.7600 38.0195 33.8619 197.7500 470.7800 40.8744 230.7580 33.9850 27.2434 27.7192 36.9263 184.9650 45.6422 184.5500 13.1020 144.1500 1256.1300 59.9481 31.7964 178.6900 222.8160 41.3828 24.5500 47.1834 37.7600 39.5002 212.0000 18.8507 130.0520 223.6000 103.2600 25.9824 25.2092 31.7343 20.5362 47.1618 103.7920 73.5400 28.5421 30.7754 15.7443 49.2105 78.7400 94.7135 40.3761 16.4014 139.8000 77.5629 166.8690 54.7323 79.8160 149.0320 18.5959 66.0900 37.8279 56.0545 81.7660 44.8915 52.8782 38.8512 58.9800 65.3000 21.1899 24.1400 33.9521 19.2661 93.7745 37.8400 258.8240 109.5000 27.0425 32.3080 108.9810 73.2644 20.4908 13.5610 35.7173 51.5650 19.1796   \n",
       "\n",
       "Ticker         GGG      GH      GIB     GIL    GILD     GIS       GL      GLD    GLDM    GLPI     GLW      GM    GMAB     GME    GMED     GNRC     GOOG    GOOGL    GOVT      GPC     GPK      GPN   GRAB     GRMN       GS    GSIE     GSK    GSLC    GTLB     GTLS    GUNR      GVI     GWRE      GWW        H     HAL    HALO     HAS    HBAN      HCA       HD     HDB     HDV    HEFA      HEI    HEI-A      HES    HESM     HIG      HII   HIMS      HLI    HLN     HLNE      HLT     HMC    HMY    HOLX      HON    HOOD     HPE     HPQ     HQY     HRB     HRL    HSBC    HSIC     HST      HSY    HTHT     HUBB     HUBS      HUM     HWM     HYD     HYG    HYLB    IAGG     IAU      IBB    IBDR    IBIT    IBKR      IBM     IBN      ICE    ICL     ICLR    ICSH     IDA     IDCC    IDEV     IDV     IDXX     IEF    IEFA      IEI    IEMG    IEUR      IEX     IFF     IGF    IGIB     IGM    IGSB     IGV     IHG     IHI     IJH      IJJ     IJK      IJR     IJS      IJT     ILMN     IMO    INCY    INDA  \\\n",
       "Date                                                                                                                                                                                                                                                                                                                                                                                                                                                                                                                                                                                                                                                                                                                                                                                                                                                                                                                                                                                                                             \n",
       "2024-02-01 85.2808 21.9300 115.1000 33.0263 74.0423 61.8709 118.6700 190.4100 40.7500 42.2217 30.8223 38.2506 28.1700 14.4200 52.4800 115.3300 141.8670 140.3180 22.0892 136.3480 25.1583 133.3080 3.1300 118.5160 371.0730 31.2975 38.2208 95.1734 72.3300 121.7400 37.2783 100.3570 113.5800 911.5520 129.4030 34.1642 34.2600 47.3180 11.6786 310.9130 347.0880 56.6600 99.3084 31.3750 183.3250 144.7440 138.6520 30.5365 84.8208 258.6140 8.9100 119.2210 8.1595 115.9350 192.9560 33.7700 6.6066 74.4100 191.1790 10.9100 14.7281 27.3990 75.6200 44.6234 29.4807 34.4443 75.7300 18.2288 189.5410 30.1321 337.1280 612.9700 370.4010 57.1246 49.1874 71.6187 32.7038 47.7935 38.8900 135.7540 22.6379 24.5400 22.5158 178.0010 24.8768 127.4440 4.5084 260.5000 47.1497 89.9527 103.0760 60.7717 25.4283 527.2800 92.2143 67.0471 112.5560 46.8420 52.2192 216.5330 79.9207 43.6886 49.0623 78.6589 48.6285 85.2480 93.8977 56.2573 54.1357 108.5740 79.2815 102.3450 95.9986 121.4870 141.7700 56.0778 59.1600 49.8692   \n",
       "2024-02-02 85.5958 22.1900 115.9200 32.8411 72.9055 61.8422 119.4710 188.6100 40.3700 41.3761 30.9760 38.2900 27.8000 14.7300 51.8300 116.1400 142.6920 141.5310 21.8786 136.0710 24.7871 134.4800 3.2200 117.9280 374.9490 31.0498 38.3055 96.1759 72.3500 120.9200 36.7917  99.7550 113.3100 960.8530 130.0790 33.5278 33.6800 47.4316 11.8005 305.7350 344.3510 54.8000 99.0613 31.4138 183.8240 144.7440 143.0220 30.5811 87.9869 259.2800 8.8700 124.1520 8.0721 117.1680 194.2410 33.5300 6.3009 72.4400 190.0170 10.9200 14.7760 27.1528 77.3300 44.8158 29.2323 34.3135 76.1400 18.2194 188.8060 29.5636 347.2510 612.3900 373.4070 57.4631 48.6962 71.2954 32.5476 47.5921 38.5100 134.1100 22.5528 24.5000 23.8191 176.9440 24.3909 126.4330 4.4503 260.5000 47.1309 88.5594 103.0170 60.2955 25.3095 527.1400 91.0143 66.5054 111.6370 46.6792 51.7352 217.0640 79.0357 43.2033 48.7042 80.8729 48.4582 85.8760 93.0990 56.0484 54.1455 108.0580 79.5683 101.8970 95.3266 121.1620 140.2820 55.3619 58.3500 50.0181   \n",
       "2024-02-05 84.7491 21.2900 111.8000 32.3634 72.6687 60.6302 118.8880 187.5700 40.1600 40.6215 30.7455 37.1878 27.5700 13.4600 51.9600 113.9900 144.0740 142.8230 21.7159 133.9300 24.6698 134.0760 3.2100 117.4090 370.2700 30.8020 39.1051 95.8024 71.9700 116.8900 36.2765  99.3059 112.1800 934.2760 128.1020 33.2963 33.6800 46.5506 11.6224 306.9210 342.3360 55.4700 98.2344 31.4235 184.8130 145.4340 142.5320 30.9564 87.7239 256.7990 8.5600 121.5790 8.1109 116.4730 192.9060 33.8600 6.0839 72.0400 187.0130 10.5600 14.6514 26.8215 76.9400 45.2103 28.4681 34.3048 74.9100 18.0317 187.5920 29.9805 344.2690 602.8500 355.8150 57.5328 48.2617 70.9629 32.4005 47.4290 38.3000 134.3590 22.5245 24.1900 23.5540 174.6870 24.3314 124.5170 4.3533 265.7900 47.1403 86.2439 101.2650 59.8860 24.9715 572.1200 90.1285 66.1157 111.0140 46.7559 51.4505 214.6050 77.9756 42.8512 48.3368 80.9875 48.3447 85.3320 92.9334 55.9888 53.5354 106.5290 78.9155 100.2910 93.6320 119.4080 138.3560 55.3030 58.0600 49.7501   \n",
       "\n",
       "Ticker        INFA    INFY     ING     INGR    INSM    INTC     INTU    INVH    IONQ    IONS     IOO     IOT      IP     IPG    IQLT      IQV      IR     IRM     ISRG    ISTB       IT      ITA     ITOT      ITT   ITUB      ITW    IUSB     IUSG    IUSV      IVE      IVV     IVW     IVZ      IWB      IWD      IWF      IWM      IWN      IWO      IWP     IWR      IWS      IWV      IWY      IX     IXJ     IXN    IXUS     IYF     IYR      IYW        J    JAAA    JAVA     JAZZ     JBHT      JBL     JBTM     JCI    JCPB      JD     JEF    JEPI    JEPQ    JGRO    JHMM     JHX    JIRE     JKHY      JLL    JMBS    JMST      JNJ     JNK    JNPR   JOBY    JPIE      JPM    JPST    JQUA     JXN       K      KB     KBR    KBWB      KD     KDP    KEP     KEX     KEY     KEYS    KGC     KHC     KIM     KKR     KLAC      KMB     KMI     KMX     KNG     KNSL    KNTK     KNX      KO      KR     KRC    KSPI      KT    KTOS    KVUE    KVYO    KWEB       L      LAD    LAMR   LBRDA   LBRDK   LCID     LDOS  \\\n",
       "Date                                                                                                                                                                                                                                                                                                                                                                                                                                                                                                                                                                                                                                                                                                                                                                                                                                                                                                                                                                                                                                  \n",
       "2024-02-01 30.9000 19.5649 12.4171 107.6830 28.5300 42.7870 627.9040 32.0898 10.2400 50.9700 81.7707 31.6300 32.3497 31.0150 36.3216 211.3000 81.8803 66.2343 383.8300 45.2337 467.0100 122.3100 105.7110 122.3400 5.3360 248.2680 43.6828 107.5600 82.6471 170.9640 482.0070 77.9039 14.9199 264.6280 162.3880 312.9340 192.2040 145.6850 246.2400 104.6980 76.1412 113.0810 275.4300 181.8210 19.3520 87.6191 70.3524 61.4569 84.9538 85.3365 127.4610 111.7940 46.5221 54.8176 123.6800 198.7220 130.8680 100.2290 52.6875 44.1042 20.9822 39.0909 50.6734 44.5680 64.2656 52.0882 37.8900 57.2752 163.5000 180.3200 42.7284 48.5601 150.9870 86.7766 35.5790 5.6800 42.1530 168.8080 47.0872 48.7926 46.9318 53.0499 46.3800 52.2282 46.3442 20.8300 30.9266 7.6800 82.4000 13.1193 154.5200 5.6457 35.0391 19.1548 87.3541 591.0590 116.9230 16.0076 72.8400 45.9455 393.4600 29.5582 56.7157 58.3246 45.1984 32.6130 86.2935 13.9500 17.2400 19.7185 26.3600 22.8747 71.9628 301.2610 98.8515 80.5900 81.2200 3.4200 109.0470   \n",
       "2024-02-02 31.0000 19.7200 12.2498 107.8190 28.1800 42.0370 634.5710 31.6772 10.2700 49.7500 82.5761 32.5100 31.5023 30.9029 36.0241 210.7500 83.6280 66.0813 383.7700 45.0629 469.8900 122.2400 106.6920 124.6370 5.2797 248.7630 43.3229 109.7300 82.4627 170.5170 486.9780 79.5525 14.6879 267.2230 162.2330 319.1300 191.1910 144.4670 245.4090 105.5730 76.2393 112.8270 277.9580 185.5460 19.2300 87.1500 71.0679 61.0469 85.4535 84.1769 129.8430 112.8960 46.5129 54.9547 122.9000 205.3400 130.7480  99.3833 53.0971 43.6929 20.5667 39.1102 50.6193 44.9575 65.9639 52.1178 38.6500 56.8384 162.4900 175.8500 42.3094 48.5313 149.3180 86.4380 35.6273 5.7200 42.1438 169.7790 47.0872 49.1656 46.4970 52.5158 49.5200 52.1397 46.7089 20.9000 30.6075 7.6200 83.7600 13.3045 155.7000 5.4002 34.9371 18.8375 88.7117 596.2090 115.8150 15.9418 72.7900 45.8030 394.9070 29.1894 58.1958 57.9038 44.6469 32.3165 86.4907 14.2300 17.0400 19.6619 27.6800 22.3622 72.6994 294.5520 98.1825 66.6400 66.8800 3.3100 109.1260   \n",
       "2024-02-05 30.2500 19.6715 12.0547 107.2080 28.2800 42.2048 635.5830 30.9098  9.8700 49.4300 82.7235 31.7700 31.0410 30.7441 35.8130 210.7100 82.7991 65.4408 383.9400 44.9206 469.7900 121.7950 106.2110 123.4350 5.3280 246.9660 43.0010 109.7400 81.6962 169.1180 485.3500 79.6419 14.5487 265.9450 160.7150 318.8420 188.7620 142.2940 242.5400 104.8070 75.4739 111.5560 276.6300 185.6750 19.2800 87.5311 71.2369 60.7513 84.9245 82.4665 129.9620 111.8350 46.5683 54.4163 121.9800 203.6070 129.6120  97.5933 52.0147 43.3610 21.1427 38.6384 50.3851 44.9748 65.9040 51.5537 38.4600 56.5084 160.1360 171.6000 41.9370 48.4930 148.5460 86.0262 35.6273 5.5200 42.0330 169.5560 47.0685 49.0576 46.7522 51.6193 47.3000 51.6674 46.1044 20.3700 30.0176 7.6300 84.0100 13.1656 154.1500 5.3020 34.5381 18.4267 87.6514 606.6280 114.6020 15.6693 70.9900 45.2418 393.5900 29.1264 58.2253 57.4255 44.5017 31.8903 85.3356 14.0900 17.4400 19.3315 27.8400 22.6039 72.4505 288.7830 95.2186 65.0700 65.4900 3.2200 108.9290   \n",
       "\n",
       "Ticker         LECO    LEGN      LEN    LEVI       LH      LHX      LI      LII      LIN    LITE     LKQ      LLY   LLYVA   LLYVK    LMBS      LMT      LNG     LNT     LNW    LOGI      LOW     LPLA     LPX      LQD    LRCX     LRN    LSCC     LTH     LULU     LUV     LVS       LW     LYB    LYFT    LYG     LYV       MA      MAA     MANH      MAR     MAS     MASI     MAT     MBB    MBLY      MCD    MCHI    MCHP      MCK      MCO      MDB     MDGL    MDLZ     MDT      MDY     MEDP      MELI     MET     META     MFC    MFG     MGA      MGC      MGK     MGM      MGV      MHK     MIDD    MINT     MKC       MKL     MKSI     MKTX     MLI      MLM      MMC     MMM    MMYT     MNDY    MNST      MO    MOAT      MOH     MORN     MOS      MP      MPC    MPLX     MPWR      MRK    MRNA    MRVL      MS      MSA     MSCI     MSFT      MSI    MSTR      MT      MTB    MTCH       MTD    MTDR     MTG    MTSI     MTUM     MTZ      MU      MUB   MUFG     MUSA     NBIX    NCLH    NDAQ     NDSN     NEE  \\\n",
       "Date                                                                                                                                                                                                                                                                                                                                                                                                                                                                                                                                                                                                                                                                                                                                                                                                                                                                                                                                                                                                                                \n",
       "2024-02-01 221.7210 56.2200 146.3710 16.0244 220.1030 203.1570 29.1500 420.2480 401.1040 56.1500 45.7642 653.6790 36.8800 37.2200 45.7753 412.8930 160.6120 47.7285 81.5100 83.8602 215.1230 238.9100 66.8172 104.2820 82.1075 61.2400 61.1300 13.7200 461.9400 29.1542 49.3558 102.5010 85.7744 12.8900 1.9749 89.3900 457.5900 121.5600 249.0700 240.1100 67.4412 133.3200 18.2700 89.3755 25.8000 287.7250 35.4944 82.4851 498.4600 397.8380 409.0700 222.2300 74.0014 84.5110 496.5000 295.1600 1748.2800 62.5089 392.6260 21.3928 3.6600 54.5033 172.6900 268.5560 44.7100 108.9460 110.0200 145.5200 93.4385 66.7640 1395.1300 106.9600 214.6200 48.5385 511.1700 190.2820 76.7494 57.0100 211.1200 55.9400 37.0965 83.3606 355.2100 278.3150 29.5198 16.1600 162.3260 34.3981 608.3000 120.7590 99.0200 66.5936 83.3613 164.6140 593.6150 399.2480 320.2160 50.3480 27.3020 125.7060 37.7980 1224.0000 52.5948 19.3307 84.0400 166.8720 70.1100 85.1350 104.4280 9.4300 352.7770 142.4500 17.7900 55.9335 252.4560 57.1226   \n",
       "2024-02-02 222.4080 55.7600 146.4470 15.5359 217.4040 200.7520 28.3400 415.6660 399.5730 56.4800 45.3424 660.8250 35.7200 36.1000 45.6336 409.2420 159.4400 46.7326 81.1600 83.0038 214.4000 249.5910 64.8519 103.3300 82.7479 60.2500 61.6800 13.2500 462.4000 29.3378 48.9967 103.1430 84.1879 12.7500 1.9381 88.2000 457.2530 121.6360 250.5600 241.5390 67.0021 134.4800 19.0200 88.4907 26.5700 286.7310 34.8656 81.1754 501.0420 394.9320 436.0100 220.2800 74.3204 84.0697 496.0680 295.6300 1772.9000 63.0829 472.3980 21.3830 3.7300 54.0014 174.8470 274.4230 44.8800 108.9660 108.9300 143.1200 93.4479 65.7823 1412.4100 108.0470 220.2560 48.3620 515.5330 189.9090 75.9172 58.2300 214.0600 55.3500 36.7764 83.3804 354.8800 276.0500 29.5102 17.1900 161.1630 33.8821 629.8230 120.7880 97.5000 67.2508 83.7934 165.7050 582.5740 406.6040 322.6480 50.0100 27.1255 127.3860 36.9778 1210.1100 51.7777 19.1758 80.2600 171.2400 70.7100 86.0002 103.6500 9.4700 355.8280 141.7400 17.7400 55.5025 251.8090 55.5930   \n",
       "2024-02-05 218.5980 58.4600 145.0110 15.7179 215.5400 200.8880 28.0000 418.3580 393.2320 55.6000 44.4125 698.9810 35.3400 35.6700 45.5107 405.1400 157.9330 45.5930 80.8300 82.8562 212.9540 246.6300 64.1445 102.3400 83.9930 59.3400 62.8400 12.9500 456.7300 28.7388 49.8055 101.2280 84.4508 12.5900 1.9106 87.4100 453.4600 118.6330 249.1500 240.6620 66.3386 133.1400 18.4700 87.7487 26.9500 276.0360 35.3299 82.3021 504.5090 392.3530 436.8900 227.0500 72.8315 83.2255 490.4200 295.2900 1774.7500 63.4492 456.9030 21.3732 3.8100 53.7267 174.3940 274.2940 44.5100 108.2960 106.3500 139.8300 93.4572 64.0037 1418.4600 108.2840 216.9040 47.3322 504.2490 188.8090 74.2047 57.6000 211.9400 55.1200 36.0295 82.8081 351.1000 274.1930 28.6209 16.2500 165.8040 33.9726 640.0750 120.5680 95.4900 66.7429 82.4684 163.9270 573.0750 401.0970 320.3640 49.0600 26.4783 126.8990 35.0410 1186.9700 51.4373 18.6240 81.2700 171.6660 68.0100 86.4974 103.1320 9.5900 359.8140 141.6600 17.1400 54.8460 247.8070 53.5089   \n",
       "\n",
       "Ticker         NEM     NET      NEU     NFG     NFLX     NGG      NI     NICE    NIO     NKE     NLY    NMR     NNN    NOBL      NOC    NOK      NOW     NRG      NSC    NTAP    NTES    NTNX     NTR    NTRA    NTRS     NU      NUE    NVDA    NVDL     NVMI      NVO       NVR     NVS     NVT    NWG     NWS    NWSA     NXPI     NXT     NYT       O    OBDC       OC     ODFL      OEF     OGE     OHI     OKE    OKLO    OKTA     OLED    OLLI     OMC     OMF    OMFL      ON     ONB      ONC    ONEQ    ONON     ORCL     ORI    ORLY      OSK    OTEX    OTIS     OVV     OWL     OXY     PAA    PAAA    PAAS      PAC      PAG    PAGP     PANW    PARA    PATH    PAVE     PAYC     PAYX      PB     PBA     PBR   PBR-A    PBUS    PCAR     PCG    PCOR     PCTY    PDBC      PDD     PDI     PEG    PEGA      PEN      PEP     PFE     PFF     PFG    PFGC       PG      PGR     PGX       PH     PHG      PHM    PHYS    PINS      PKG     PKX      PLD    PLNT    PLTR      PM      PNC    PNFP     PNR     PNW  \\\n",
       "Date                                                                                                                                                                                                                                                                                                                                                                                                                                                                                                                                                                                                                                                                                                                                                                                                                                                                                                                                                                                                                               \n",
       "2024-02-01 34.3775 79.5900 577.5880 45.5213 567.5100 62.7724 25.0577 211.7100 5.7100 98.8829 16.5290 5.5200 38.6072 92.8150 434.7990 3.4366 771.0000 52.9727 248.1190 85.3897 96.6369 57.0800 49.2043 68.1900 75.5439 9.0100 182.0980 62.9990 21.6917 144.9900 112.7160 7211.3100 97.8516 61.6244 5.2297 25.4301 24.4917 207.4610 56.5000 48.3274 51.2548 12.8344 152.6880 194.4310 227.9230 32.0765 26.3158 64.6448 11.1500 84.9000 168.5210 74.4000 85.5925 42.3462 49.4604 70.1900 15.5114 149.9300 59.9239 26.8000 113.8860 24.9192 69.4500 109.7690 41.8723 87.4411 40.3574 14.7455 55.8085 14.0936 46.9850 13.6985 153.7870 146.6670 14.8686 169.9850 14.2900 23.1100 35.0045 190.5440 115.9240 59.6535 33.1296 14.2481 13.7199 48.1055 97.4323 17.0447 72.0900 160.0000 12.7428 126.5900 15.8983 56.2832 24.7708 254.3600 163.1240 25.1997 29.5066 73.6745 73.7200 154.3850 175.0380 10.9953 492.1790 21.3400 105.5540 15.8800 37.5800 157.0460 80.5432 124.0280 69.3100 16.3300 88.0596 138.8230 81.6326 73.7983 66.5422   \n",
       "2024-02-02 33.2190 82.6500 571.8280 44.8504 564.6400 61.2164 24.5918 213.8200 5.5400 97.8626 16.2672 5.4300 38.1121 92.5822 435.1500 3.3983 781.3000 53.4414 244.0840 85.7705 94.6543 57.8600 48.2579 67.7300 76.5727 9.3700 179.9110 66.1306 23.8967 146.7500 110.6810 7319.9800 96.3559 62.5413 5.1298 25.4301 24.4225 209.3900 57.9900 47.9527 50.2715 12.8171 152.4330 202.6110 231.3210 31.5367 25.7229 64.4655 10.6300 82.7800 168.8160 75.0700 85.7354 42.0455 49.4211 70.8300 15.3773 144.4800 60.9834 27.7000 114.1430 24.9733 69.8207 110.4600 40.9036 88.7979 39.7919 15.0581 55.5359 13.8934 47.0221 13.2896 159.5370 146.0340 14.6492 172.5300 14.0466 23.4400 35.1636 192.7880 116.5650 59.6440 32.8029 13.8570 13.4186 48.6158 98.4828 16.5768 73.1900 163.3100 12.6089 124.5900 15.9394 55.4918 24.7458 252.0100 162.4310 24.8672 29.3871 73.9494 74.4700 153.3280 176.9770 10.9308 502.1960 20.9300 104.8020 15.7700 39.7500 155.3420 82.4110 122.8960 68.9700 17.0200 87.7764 141.3910 82.0082 72.8316 65.1854   \n",
       "2024-02-05 32.2054 80.8200 567.0800 43.7771 562.0600 61.1889 24.2555 211.3600 5.3800 96.8617 15.9631 5.4900 37.0192 91.3599 430.9600 3.4079 784.8400 52.4161 241.5570 85.1456 96.4166 57.3700 47.4345 68.8200 75.0104 9.2700 178.8510 69.3012 26.1700 148.8300 115.1200 7166.9000 96.1236 62.1272 5.0481 24.9155 23.8786 215.2630 56.1600 46.9962 48.8428 12.7043 150.0500 205.4610 231.0250 30.9116 25.4766 64.2767 10.6400 82.1400 167.5650 73.1500 84.6299 41.8066 48.8605 77.5900 15.2720 141.8100 60.9438 27.1700 114.7340 24.7752 70.3747 109.2140 39.7829 88.7198 39.4277 14.8876 55.4775 13.9207 47.0407 12.7736 160.6210 143.5870 14.7315 172.2400 13.6475 22.5100 34.7559 192.0370 114.7660 58.9499 32.2072 13.7837 13.4593 48.4293 99.4760 16.2980 71.7500 158.8600 12.6567 121.1400 15.9559 55.4918 24.4467 255.0300 162.3830 24.5348 29.0655 73.4755 73.2300 153.4440 178.4360 10.7927 500.7300 20.9000 103.2000 15.6500 39.6700 156.5070 82.0256 120.6710 67.6700 16.7200 86.4927 139.1960 80.4266 71.4111 64.3409   \n",
       "\n",
       "Ticker         PODD     POOL     POST     PPA     PPC      PPG     PPL      PR     PRF      PRI    PRMB     PRU      PSA   PSLV     PSN     PSO    PSTG      PSX      PTC     PUK    PULS      PWR    PYLD    PYPL     QCOM    QGEN     QLD      QQQ     QQQM     QRVO     QSR     QUAL     QXO    QYLD        R     RACE     RBA      RBC    RBLX     RCI      RCL    RDVY     RDY    REET     REG     REGN    RELX    REXR      RF      RGA    RGC     RGEN     RGLD      RHP     RIO   RITM    RIVN      RJF   RKLB     RKT       RL     RLI    RMBS      RMD      RNR    ROAD    ROIV      ROK    ROKU     ROL      ROP     ROST      RPM    RPRX     RRC      RRX       RS      RSG      RSP    RSPT     RTO     RTX    RVMD     RVTY     RWL      RY   RYAAY    RYAN       S     SAIA    SAN      SAP    SATS     SBAC     SBS    SBUX    SCCO    SCHA    SCHB    SCHC    SCHD    SCHE    SCHF    SCHG    SCHH    SCHI    SCHK    SCHM    SCHO    SCHP    SCHR    SCHV    SCHW    SCHX    SCHZ     SCI     SCZ    SDVY      SDY  \\\n",
       "Date                                                                                                                                                                                                                                                                                                                                                                                                                                                                                                                                                                                                                                                                                                                                                                                                                                                                                                                                                                                                                                    \n",
       "2024-02-01 195.4000 369.4950  93.8200 91.5125 24.3671 136.9500 25.2564 12.4751 34.8356 224.8390 14.0665 95.8447 270.0240 7.8000 65.5000 11.9444 40.6500 138.3430 179.4000 20.1124 46.0720 199.9210 23.7627 62.0200 136.8170 44.1300 79.7307 418.2930 172.0630 105.7500 75.4261 150.0650 88.3748 14.8504 112.1260 386.9680 63.7619 274.2600 39.3300 46.0020 125.5770 50.2064 14.3915 22.3629 59.9558 955.1400 41.0614 51.7851 17.0263 167.4330 0.2079 192.7100 115.2170 107.2600 63.1287 9.5276 15.5300 108.5520 4.0200 11.9992 143.4310 67.4332 68.1500 191.0250 221.3800 47.2400 10.0500 255.9440 88.6500 43.3900 541.9280 140.8470 105.6170 27.4486 28.5880 135.2290 283.0880 171.4590 154.4550 32.7992 25.5945 89.1476 28.2600 108.9050 85.0170 95.5106 54.3969 42.1803 27.4900 467.4500 3.8869 175.0240 13.4500 224.4720 15.7656 89.8726 79.1314 22.6333 18.6989 32.9658 24.4888 23.2840 17.8135 21.4767 19.1888 21.4677 23.2669 24.7104 23.2412 25.4497 23.8609 22.8934 60.9623 18.9622 22.4232 66.5705 57.9345 31.4191 120.0880   \n",
       "2024-02-02 194.0200 366.3300 101.0100 91.6613 23.9595 135.5850 24.7621 12.0637 34.9816 229.2780 13.9908 96.3300 264.4630 7.6400 65.6100 11.6935 42.2500 138.2670 178.7300 19.9680 46.0627 204.1540 23.6518 62.4200 137.3790 43.5100 82.3996 425.3630 174.9850 103.5900 75.3406 152.0360 88.1748 14.9174 113.9640 376.8330 63.2113 275.8700 40.6700 46.0604 122.0960 50.2847 14.3537 22.1531 58.9668 942.5740 40.7017 51.5469 17.1010 162.7180 0.2079 196.1700 112.2620 107.6580 61.6522 9.4293 15.6000 110.4580 3.9750 11.8383 144.8120 68.3261 68.8500 189.2490 224.4250 48.7600  9.8900 260.8100 91.0300 43.1742 545.7110 141.4080 104.2270 26.8935 28.3909 137.6600 283.6160 171.2920 154.3190 32.9382 25.0351 88.9638 28.4600 105.2770 85.5451 94.7715 54.4800 42.2985 27.5500 534.5100 4.0017 174.8660 13.4100 218.4350 15.5790 89.5069 77.1860 22.5350 18.8761 32.6288 24.4761 23.1190 17.6932 21.9239 18.9113 21.3102 23.5033 24.7335 23.1645 25.2071 23.6408 22.8611 61.6183 19.1683 22.2166 66.1701 57.3916 31.4289 119.4330   \n",
       "2024-02-05 193.5400 359.3040 103.7300 91.3240 23.8797 133.1460 24.3534 12.0356 34.7091 228.6210 13.5837 95.8820 258.4300 7.5700 65.1600 11.6935 41.8900 139.9490 177.2100 19.9006 46.0814 201.8480 23.5640 61.5400 139.6480 42.1900 82.1009 424.8080 174.6980 107.3300 73.5452 151.9470 81.6433 14.9258 111.4680 369.2920 63.0146 272.5300 39.3500 45.3399 119.8900 49.7952 14.4849 21.7717 57.6763 933.7490 40.3810 49.8506 16.7833 163.4190 0.2108 196.1000 110.0860 107.5070 60.7699 9.4293 14.9400 110.4480 4.0700 10.9204 144.4790 68.0929 68.3700 187.5230 225.7540 47.2700 10.0200 259.1650 87.7500 42.6838 542.0070 140.4930 102.1510 26.5202 27.7698 134.4180 282.1490 170.8870 152.9920 32.9382 24.3793 89.2153 30.0900 103.5620 84.9388 93.7988 53.9418 41.9340 27.5600 531.7500 3.7720 174.8460 13.1100 211.5240 15.5692 89.0448 75.2594 22.2205 18.7875 32.2630 24.2790 23.1966 17.5824 21.9140 18.5572 21.1289 23.4147 24.4597 23.1166 25.0761 23.4878 22.6773 61.0602 19.0898 22.0196 65.6914 56.8297 31.0372 117.6630   \n",
       "\n",
       "Ticker          SE    SEIC      SF     SFM     SGI    SGOL    SGOV    SHEL     SHG     SHM    SHOP      SHV      SHW     SHY    SHYG    SIRI      SJM    SJNK     SKM     SKX    SKYY     SLB     SLF     SLM     SLV    SLYG    SLYV    SMCI    SMFG      SMH   SMMT    SMR      SN      SNA    SNAP     SNN     SNOW     SNPS     SNV     SNX     SNY      SO   SOFI    SONY    SOXL     SOXX    SPAB    SPDW    SPEM      SPG     SPGI    SPHQ    SPHY    SPIB    SPLG    SPLV    SPMB    SPMD    SPMO     SPOT    SPSB    SPSM    SPTI    SPTL    SPTM    SPTS     SPXC     SPXL      SPY    SPYD    SPYG    SPYI    SPYV    SRAD     SRE    SRLN     SSB      SSD    SSNC     SSO    STAG      STE    STEP    STIP    STLA     STLD     STM     STN    STRL     STT    STVN    STWD     STX      STZ      SU      SUB      SUI     SUN     SUSA     SUZ     SWK    SWKS     SYF      SYK     SYM     SYY       T     TAK     TAP    TBIL    TCAF    TCOM      TD       TDG      TDY     TEAM    TECH    TECK    TECL    TEF  \\\n",
       "Date                                                                                                                                                                                                                                                                                                                                                                                                                                                                                                                                                                                                                                                                                                                                                                                                                                                                                                                                                                                                                               \n",
       "2024-02-01 40.4700 65.0962 70.8210 51.6000 49.7294 19.6500 94.1451 60.2480 32.0157 46.3811 76.7200 103.4200 305.1750 77.9865 38.5509 49.8690 126.3740 22.7806 21.4700 63.6000 91.0200 47.0689 50.7835 18.9305 21.2100 80.9889 76.9801 58.3500 10.4200 186.7420 4.0000 3.0800 47.8700 278.8890 15.8700 27.2243 199.9400 540.0000 34.1479 99.1998 44.4711 66.8632 7.7300 19.7780 31.9836 194.4080 24.3778 32.4121 32.9880 129.2770 452.0290 55.2770 21.1228 30.9806 56.6071 62.2011 20.9694 47.4597 69.8834 218.9600 27.9637 39.8683 27.2385 27.4270 58.7544 27.4979 103.6500 109.9150 480.1360 36.3556 67.3409 41.2511 45.7201 10.3200 69.4888 37.3436 78.2456 184.3210 60.1067 67.4889 35.7291 220.9150 32.4492 94.8342 19.6433 117.5810 43.6736 81.6231 78.3600 70.1453 33.1641 17.8796 83.2046 245.8410 31.7586 102.1710 120.6450 54.2042 100.8680 10.0225 86.6566 98.0559 37.4192 336.6700 46.8200 79.6190 16.8697 14.3800 60.1816 46.8188 28.1981 37.2191 57.5040 1054.8200 427.5800 254.9000 68.0529 39.5539 72.8726 3.7948   \n",
       "2024-02-02 42.0200 65.4201 72.6290 51.4600 49.5520 19.4600 94.1545 59.5147 33.4382 46.2549 82.9300 103.3920 306.0730 77.7398 38.4326 49.2969 125.3910 22.7082 21.1100 57.0400 92.6000 47.0689 50.4805 18.7556 20.7500 80.8121 76.4873 57.9630 10.4200 190.3760 3.8800 3.1500 48.6700 281.3510 17.0500 26.6312 218.7600 552.0500 34.4324 99.9169 43.3871 65.1086 7.8800 19.7120 33.1663 196.8910 24.1594 32.2025 32.7575 127.9230 448.8950 55.5915 21.0145 30.8393 57.1874 61.7825 20.7601 47.4499 71.8653 222.4700 27.9169 39.6543 26.9912 26.8764 59.2935 27.4223 105.5700 113.3620 485.1910 36.1029 68.7277 41.4616 45.6329 10.2700 68.5187 37.3346 78.0428 185.7000 59.8519 68.8803 35.6154 219.5120 32.7284 94.4128 19.8497 117.9440 43.0425 81.9413 78.5300 70.3177 32.9647 17.6142 83.8948 243.8070 31.0905 101.9280 118.5470 54.8230 101.2810  9.9935 85.4963 96.3417 37.9947 338.1430 50.4500 78.7683 16.6733 14.2800 59.1898 46.8282 28.4072 36.8211 57.2381 1064.3700 432.7400 217.3900 65.5111 38.9072 74.9451 3.7113   \n",
       "2024-02-05 41.8700 64.6349 72.2596 51.2200 49.8279 19.3700 94.1732 59.2138 32.0454 46.1578 81.4000 103.4010 300.6430 77.5879 38.3597 49.0109 122.0940 22.6357 21.2000 58.1700 91.6300 46.6366 49.9039 18.7168 20.4700 79.6037 75.0861 66.3350 10.4300 194.0900 3.8400 2.9500 47.6500 280.2830 16.7500 26.6886 215.6000 559.1400 33.6831 98.3550 43.1299 63.7144 7.5800 19.5180 34.5955 199.5810 23.9790 31.9739 32.7479 126.8560 446.4140 55.6603 20.9423 30.6885 56.9907 61.1983 20.5793 46.9412 72.2518 223.2500 27.8793 39.0315 26.8200 26.3827 59.0583 27.3561 103.4200 112.0920 483.4240 35.4849 68.8169 41.4616 45.2357 10.2100 67.2797 37.2988 76.9807 182.2880 59.2540 68.3770 34.9715 217.2500 32.0159 94.2691 19.4111 119.2490 44.1272 80.7878 76.1200 69.4941 34.1811 17.4992 81.9584 240.3730 30.8291 101.9870 115.0130 55.6419 100.9860 10.0322 83.2888 95.9893 37.8094 338.9930 49.6000 78.1496 16.5798 13.9200 58.4365 46.8188 28.2778 37.2291 56.2312 1075.0900 430.4100 215.0500 66.2955 37.7119 75.4905 3.6835   \n",
       "\n",
       "Ticker          TEL     TER    TEVA     TFC     TFII    TFLO      TGT     THC      THG    THRO    TIGO    TIMB      TIP     TJX     TKO      TLH     TLK     TLN     TLT       TM    TME     TMF    TMHC      TMO     TMUS      TOL    TOST    TOTL     TPG      TPL     TPR    TQQQ    TREX    TRGP      TRI    TRMB    TRNO     TROW     TRP     TRU      TRV      TS    TSCO     TSLA   TSLL      TSM     TSN       TT     TTC     TTD     TTE    TTEK     TTWO      TU      TW    TWLO      TX      TXN     TXRH     TXT      TYL       U     UAL    UBER     UBS     UDR     UFPI     UGI    UHAL  UHAL-B      UHS       UI      UL     ULTA    UMBF    UMC      UNH     UNM      UNP    UPRO      UPS    UPST     URA    URBN      URI     URTH     USB    USFD    USFR    USHY    USIG    USMV     UTHR   UWMC        V    VALE       VB      VBK      VBR    VCIT    VCLT      VCR    VCSH      VDC      VDE     VEA     VEEV    VERX     VEU     VFH    VFLO    VFS    VGIT     VGK    VGLT    VGSH      VGT      VHT  \\\n",
       "Date                                                                                                                                                                                                                                                                                                                                                                                                                                                                                                                                                                                                                                                                                                                                                                                                                                                                                                                                                                                                                             \n",
       "2024-02-01 138.6500 94.5062 12.4600 33.8261 128.3230 47.3028 137.5010 89.1100 126.7720 26.8100 15.9973 16.0870 103.9150 95.1376 85.1314 102.4760 24.3670 67.0000 93.0086 197.0560 9.1764 59.4188 52.8600 549.6960 159.0170 100.0310 18.5500 37.6397 39.8910 472.3160 38.5159 53.4372 86.8000 83.8445 148.6520 52.3900 59.1461 102.3490 37.8591 69.9556 206.5320 30.8204 46.2148 188.8600 8.8461 111.3730 53.8501 267.2860 91.1861 67.2100 61.2504 32.6474 166.3300 17.2334 94.7693 70.4400 35.8973 154.0290 125.8660 85.6847 429.6800 31.9700 41.5000 66.7300 28.7558 34.6464 114.2280 23.1143 66.8800 64.8846 162.1120 126.6050 47.0977 503.5200 81.4404 7.2840 493.6930 45.5850 241.0780 57.8937 131.7720 32.3000 31.3337 39.4600 636.4550 132.7140 38.6198 47.2600 46.9736 33.2464 48.3172 78.7168 215.9700 6.3879 274.0310 12.0714 206.7350 237.0010 172.5830 76.5693 74.7627 295.1560 73.4191 191.0290 111.8090 45.7632 203.9900 25.2700 53.4680 91.8668 27.9128 5.9300 56.6503 60.9987 57.9275 55.2315 496.4260 255.3870   \n",
       "2024-02-02 139.2050 95.7280 12.2800 34.0949 130.5640 47.3216 138.5200 89.3300 126.2990 27.2208 15.6142 15.8997 102.9150 95.5787 84.6637 100.7230 23.8668 67.2500 90.9541 197.4070 8.9782 55.5881 52.3900 549.2880 158.3130  99.1794 18.6700 37.3599 40.0240 468.5750 38.5063 56.1238 86.5700 83.7860 148.0350 52.5900 58.8282 102.2280 37.1274 68.4866 209.2590 30.9167 45.8292 187.9100 8.7893 113.6910 53.5933 273.2490 91.4099 70.0000 60.2397 33.0489 167.0000 16.8434 96.3312 70.8200 35.7773 153.5560 127.6560 85.8744 430.8600 32.8400 41.3700 68.0700 29.0774 34.4566 113.1570 22.5986 66.6600 63.9093 161.7050 126.5950 46.6982 505.3300 80.2496 7.2177 496.7010 45.8270 240.1690 59.6865 131.2540 32.7000 30.6625 40.6100 645.1630 133.3980 38.5726 47.2000 46.9736 33.1004 47.9689 78.4435 213.4100 6.3969 274.1600 11.6931 206.5190 237.4770 172.0770 76.0041 73.8293 300.1730 73.1918 190.6300 111.6070 45.4383 206.8000 25.9800 53.1036 92.2869 27.9717 5.7200 56.1363 60.4107 56.7739 55.0518 501.2680 254.8860   \n",
       "2024-02-05 137.2270 95.6088 12.3800 33.5944 129.3360 47.3403 135.5110 90.0400 125.7590 27.1692 15.1750 16.0513 102.3380 94.7357 85.1214  98.9609 23.7158 67.2500 89.1174 197.8850 9.1764 52.2136 52.2000 549.0890 158.5380  98.0408 18.3000 37.0520 39.8625 465.5910 38.8528 55.8395 82.5400 83.3865 146.3880 51.6400 57.8170 100.8310 36.0536 67.3849 207.5640 30.2136 45.4397 181.0600 8.3062 116.6770 54.6774 268.3320 90.3493 67.5000 59.7718 32.7826 164.0100 16.4250 96.8684 69.1400 35.0938 153.2670 125.7490 85.1455 427.3900 31.4600 40.0100 68.9900 29.0287 33.6216 110.6510 21.9632 66.0400 63.5610 161.6450 124.2650 46.8504 502.3800 78.4244 7.2651 489.6240 45.9819 238.5340 59.0167 128.6910 31.9900 30.1663 40.4500 636.6520 132.8020 37.8737 46.8600 47.0016 32.9635 47.6111 77.9749 212.7600 6.1074 272.5770 11.5611 204.0430 234.7970 169.9850 75.4954 72.8120 295.8880 73.0119 189.2990 111.1940 45.1420 204.2400 25.2800 52.8831 91.5346 27.7726 5.2700 55.7556 60.0598 55.6959 54.9667 501.5060 255.4460   \n",
       "\n",
       "Ticker        VICI      VIG    VIGI    VIPS    VIRT      VIS     VIV      VLO    VLTO    VLUE    VMBS      VMC      VMI     VNO    VNOM     VNQ    VNQI       VO    VOD      VOE     VONE    VONG    VONV      VOO     VOOG     VOOV      VOT      VOX    VOYA     VPL      VPU    VRNA     VRSK     VRSN     VRT     VRTX    VSGX      VSS     VST       VT    VTEB     VTHR      VTI    VTIP     VTR    VTRS      VTV    VTWO      VUG    VUSB       VV     VWO    VWOB      VXF    VXUS      VYM    VYMI      VZ       W      WAB     WAL      WAT     WBA     WBD     WBS      WCC      WCN     WDAY     WDC     WDS     WEC    WELL     WES      WF     WFC     WFG      WH     WING    WIT      WIX      WLK       WM     WMB     WMG      WMS     WMT     WPC     WPM     WPP     WRB     WSM      WSO      WST    WTFC    WTRG      WTS      WTW      WWD      WY    WYNN      XAR     XBI     XEL     XLB     XLC     XLE     XLF     XLG      XLI      XLK     XLP    XLRE     XLU      XLV      XLY    XMHQ    XMMO  \\\n",
       "Date                                                                                                                                                                                                                                                                                                                                                                                                                                                                                                                                                                                                                                                                                                                                                                                                                                                                                                                                                                                                                             \n",
       "2024-02-01 28.5703 170.3950 77.6359 16.0072 15.9035 219.8010 10.1484 133.1760 76.4097 97.2089 43.8430 227.8120 227.3580 26.2969 28.6527 81.3177 38.7670 227.5250 7.8765 140.4520 218.6240 80.4357 71.1510 442.2900 280.9990 165.7100 217.4760 121.8310 68.6745 69.4510 130.0810 18.5200 244.4230 199.7050 59.3432 433.8700 52.4772 108.0170 42.6999 101.2070 48.9405 213.4490 239.0380 46.3228 45.3349 11.1007 147.8850 77.5725 320.7220 46.4482 221.0900 38.5181 58.1378 160.0650 55.0726 108.6870 61.6673 39.1728 51.2400 132.4040 57.3695 324.4500 21.4920 10.4600 44.9567 173.5910 157.0700 294.0000 43.3056 18.8045 77.3412 85.4165 25.5685 29.8753 47.3142 79.2401 76.9961 286.2170 2.7963 127.1700 136.2670 184.4300 32.8015 35.8977 132.0100 55.1537 58.1193 47.4167 45.0921 51.7463 96.5845 383.6980 380.1820 91.3407 34.7958 199.8740 243.5720 137.1460 31.9891 95.7235 129.0790 88.8306 57.9074 81.2860 75.4168 79.4519 37.9513 38.8963 112.4370 198.1300 71.5041 36.9092 59.8493 138.7750 171.9340 88.0952 94.8567   \n",
       "2024-02-02 28.1102 170.4640 76.9379 15.6073 16.0080 221.0590 10.0527 132.7520 76.4594 96.7861 43.3884 231.8470 225.4600 25.8052 28.6895 80.3084 38.2825 227.5640 7.8855 140.0630 220.6260 81.9624 71.0248 446.8350 286.9290 165.3400 218.2790 126.9200 69.1180 69.2971 127.8580 18.3100 245.5730 199.0570 61.3493 424.6800 52.0190 106.9980 43.9732 101.5860 48.6050 215.6180 241.0830 46.1188 44.4998 11.0820 147.7980 77.1111 327.1710 46.3872 223.4020 38.2479 57.6498 160.1640 54.6894 108.5140 61.1260 38.8409 51.5500 133.2580 58.4273 320.7400 20.9281 10.2500 45.7737 181.3630 156.7330 294.7400 43.8789 18.6877 75.5254 85.1261 25.3013 30.2144 47.7317 77.3857 76.7725 286.3960 2.8306 127.7500 135.0100 184.2240 32.7356 35.4433 134.1050 55.5666 57.0998 46.5876 44.8909 52.1266 98.2320 384.2810 379.7030 91.1165 34.3776 199.5380 246.6950 135.0350 31.4631 95.4087 128.9100 87.8321 56.6572 80.8095 78.4469 79.5662 38.1077 39.6177 113.1910 200.1790 71.2735 36.4430 58.7693 138.5700 175.0030 88.4551 96.1455   \n",
       "2024-02-05 27.2637 169.3890 76.5404 15.6268 15.3810 219.3940 10.1101 135.2180 75.3947 95.9406 43.0190 227.1100 223.3140 25.1955 28.6068 78.6233 38.1780 225.3090 7.6239 138.4690 219.8110 81.9525 70.3937 445.2020 287.1770 163.8490 216.3960 125.2240 68.9059 68.8544 125.1260 17.5700 244.4030 197.8110 61.4590 428.8900 51.8854 105.9600 42.7887 101.1000 48.3654 214.8230 239.9420 46.0702 42.9928 10.8295 146.7490 76.1098 326.9630 46.3591 222.5560 38.3444 57.2723 158.1740 54.4500 107.6790 60.7434 38.1495 49.0300 132.9000 57.2919 324.8500 20.4844 10.0700 45.2355 178.2800 155.8500 291.7300 44.1128 18.6248 73.7948 83.7514 25.0431 30.5168 47.2851 76.2377 76.0337 284.5750 2.8306 127.9400 134.6880 184.2140 32.3876 35.1919 131.3240 55.2684 55.5799 45.8868 44.3239 52.4553 97.9133 381.6480 396.2460 90.1419 33.6457 196.9010 246.7050 134.8070 30.9563 95.9203 127.9690 88.2714 55.4259 78.7574 77.3451 79.3661 37.8828 39.5881 112.5750 200.6340 70.8314 35.7201 57.5460 139.0000 172.5360 88.0384 96.2348   \n",
       "\n",
       "Ticker         XOM      XP   XPEV     XPO      XT      XYL     XYZ    YMM     YPF      YUM    YUMC       Z      ZBH     ZBRA      ZG    ZION      ZM       ZS     ZTO      ZTS     ZWS  \n",
       "Date                                                                                                                                                                                    \n",
       "2024-02-01 97.2392 23.9803 8.4700 87.8800 57.1890 113.4060 66.6700 6.3162 17.4900 126.6820 34.7266 58.3600 125.8950 242.6000 56.6300 37.2437 64.8500 238.0600 15.7890 186.5150 29.8159  \n",
       "2024-02-02 96.8403 24.9890 8.1900 95.3400 56.9811 113.4450 67.8800 6.0122 17.1800 125.0310 34.5015 57.6500 124.9750 246.4800 55.9100 37.6232 64.2700 244.0000 15.3499 186.4160 30.4071  \n",
       "2024-02-05 96.4414 24.0660 7.8700 95.4800 56.4463 112.1280 65.8500 5.7866 16.4100 122.6810 35.1770 56.0900 124.0250 242.0700 54.2600 36.8831 63.6900 232.0500 15.8367 187.5300 30.7323  "
      ]
     },
     "metadata": {},
     "output_type": "display_data"
    },
    {
     "data": {
      "text/html": [
       "<div>\n",
       "<style scoped>\n",
       "    .dataframe tbody tr th:only-of-type {\n",
       "        vertical-align: middle;\n",
       "    }\n",
       "\n",
       "    .dataframe tbody tr th {\n",
       "        vertical-align: top;\n",
       "    }\n",
       "\n",
       "    .dataframe thead th {\n",
       "        text-align: right;\n",
       "    }\n",
       "</style>\n",
       "<table border=\"1\" class=\"dataframe\">\n",
       "  <thead>\n",
       "    <tr style=\"text-align: right;\">\n",
       "      <th>Ticker</th>\n",
       "      <th>A</th>\n",
       "      <th>AA</th>\n",
       "      <th>AAL</th>\n",
       "      <th>AAON</th>\n",
       "      <th>AAPL</th>\n",
       "      <th>ABBV</th>\n",
       "      <th>ABEV</th>\n",
       "      <th>ABNB</th>\n",
       "      <th>ABT</th>\n",
       "      <th>ACGL</th>\n",
       "      <th>ACHR</th>\n",
       "      <th>ACI</th>\n",
       "      <th>ACM</th>\n",
       "      <th>ACN</th>\n",
       "      <th>ACWI</th>\n",
       "      <th>ACWV</th>\n",
       "      <th>ACWX</th>\n",
       "      <th>ADBE</th>\n",
       "      <th>ADC</th>\n",
       "      <th>ADI</th>\n",
       "      <th>ADM</th>\n",
       "      <th>ADP</th>\n",
       "      <th>ADSK</th>\n",
       "      <th>ADT</th>\n",
       "      <th>AEE</th>\n",
       "      <th>AEG</th>\n",
       "      <th>AEM</th>\n",
       "      <th>AEP</th>\n",
       "      <th>AER</th>\n",
       "      <th>AES</th>\n",
       "      <th>AFG</th>\n",
       "      <th>AFL</th>\n",
       "      <th>AFRM</th>\n",
       "      <th>AGCO</th>\n",
       "      <th>AGG</th>\n",
       "      <th>AGI</th>\n",
       "      <th>AGNC</th>\n",
       "      <th>AIFU</th>\n",
       "      <th>AIG</th>\n",
       "      <th>AIQ</th>\n",
       "      <th>AIRR</th>\n",
       "      <th>AIT</th>\n",
       "      <th>AIZ</th>\n",
       "      <th>AJG</th>\n",
       "      <th>AKAM</th>\n",
       "      <th>AL</th>\n",
       "      <th>ALB</th>\n",
       "      <th>ALC</th>\n",
       "      <th>ALGM</th>\n",
       "      <th>ALGN</th>\n",
       "      <th>ALK</th>\n",
       "      <th>ALL</th>\n",
       "      <th>ALLE</th>\n",
       "      <th>ALLY</th>\n",
       "      <th>ALNY</th>\n",
       "      <th>ALSN</th>\n",
       "      <th>ALV</th>\n",
       "      <th>AM</th>\n",
       "      <th>AMAT</th>\n",
       "      <th>AMCR</th>\n",
       "      <th>AMD</th>\n",
       "      <th>AME</th>\n",
       "      <th>AMGN</th>\n",
       "      <th>AMH</th>\n",
       "      <th>AMLP</th>\n",
       "      <th>AMP</th>\n",
       "      <th>AMT</th>\n",
       "      <th>AMX</th>\n",
       "      <th>AMZN</th>\n",
       "      <th>AN</th>\n",
       "      <th>ANET</th>\n",
       "      <th>ANSS</th>\n",
       "      <th>AON</th>\n",
       "      <th>AOS</th>\n",
       "      <th>APA</th>\n",
       "      <th>APD</th>\n",
       "      <th>APG</th>\n",
       "      <th>APH</th>\n",
       "      <th>APO</th>\n",
       "      <th>APP</th>\n",
       "      <th>APPF</th>\n",
       "      <th>APTV</th>\n",
       "      <th>AR</th>\n",
       "      <th>ARCC</th>\n",
       "      <th>ARE</th>\n",
       "      <th>ARES</th>\n",
       "      <th>ARGX</th>\n",
       "      <th>ARKB</th>\n",
       "      <th>ARKK</th>\n",
       "      <th>ARM</th>\n",
       "      <th>ARMK</th>\n",
       "      <th>ARW</th>\n",
       "      <th>AS</th>\n",
       "      <th>ASML</th>\n",
       "      <th>ASND</th>\n",
       "      <th>ASR</th>\n",
       "      <th>ASTS</th>\n",
       "      <th>ASX</th>\n",
       "      <th>ATI</th>\n",
       "      <th>ATO</th>\n",
       "      <th>ATR</th>\n",
       "      <th>AU</th>\n",
       "      <th>AUR</th>\n",
       "      <th>AVAV</th>\n",
       "      <th>AVB</th>\n",
       "      <th>AVDE</th>\n",
       "      <th>AVDV</th>\n",
       "      <th>AVEM</th>\n",
       "      <th>AVGO</th>\n",
       "      <th>AVLV</th>\n",
       "      <th>AVTR</th>\n",
       "      <th>AVUS</th>\n",
       "      <th>AVUV</th>\n",
       "      <th>AVY</th>\n",
       "      <th>AWI</th>\n",
       "      <th>AWK</th>\n",
       "      <th>AXON</th>\n",
       "      <th>AXP</th>\n",
       "      <th>AXS</th>\n",
       "      <th>AXTA</th>\n",
       "      <th>AYI</th>\n",
       "      <th>AZEK</th>\n",
       "      <th>AZN</th>\n",
       "      <th>AZO</th>\n",
       "      <th>B</th>\n",
       "      <th>BA</th>\n",
       "      <th>BABA</th>\n",
       "      <th>BAC</th>\n",
       "      <th>BAH</th>\n",
       "      <th>BALL</th>\n",
       "      <th>BAM</th>\n",
       "      <th>BAP</th>\n",
       "      <th>BAX</th>\n",
       "      <th>BBAX</th>\n",
       "      <th>BBCA</th>\n",
       "      <th>BBD</th>\n",
       "      <th>BBEU</th>\n",
       "      <th>BBIN</th>\n",
       "      <th>BBIO</th>\n",
       "      <th>BBJP</th>\n",
       "      <th>BBUS</th>\n",
       "      <th>BBVA</th>\n",
       "      <th>BBWI</th>\n",
       "      <th>BBY</th>\n",
       "      <th>BCE</th>\n",
       "      <th>BCH</th>\n",
       "      <th>BCS</th>\n",
       "      <th>BDX</th>\n",
       "      <th>BEKE</th>\n",
       "      <th>BEN</th>\n",
       "      <th>BEP</th>\n",
       "      <th>BF-A</th>\n",
       "      <th>BF-B</th>\n",
       "      <th>BFAM</th>\n",
       "      <th>BG</th>\n",
       "      <th>BHP</th>\n",
       "      <th>BIDU</th>\n",
       "      <th>BIIB</th>\n",
       "      <th>BIL</th>\n",
       "      <th>BILI</th>\n",
       "      <th>BILS</th>\n",
       "      <th>BINC</th>\n",
       "      <th>BIO</th>\n",
       "      <th>BIP</th>\n",
       "      <th>BIRK</th>\n",
       "      <th>BITB</th>\n",
       "      <th>BIV</th>\n",
       "      <th>BJ</th>\n",
       "      <th>BK</th>\n",
       "      <th>BKLC</th>\n",
       "      <th>BKLN</th>\n",
       "      <th>BKNG</th>\n",
       "      <th>BKR</th>\n",
       "      <th>BLD</th>\n",
       "      <th>BLDR</th>\n",
       "      <th>BLK</th>\n",
       "      <th>BLV</th>\n",
       "      <th>BMI</th>\n",
       "      <th>BMO</th>\n",
       "      <th>BMRN</th>\n",
       "      <th>BMY</th>\n",
       "      <th>BN</th>\n",
       "      <th>BND</th>\n",
       "      <th>BNDX</th>\n",
       "      <th>BNS</th>\n",
       "      <th>BNT</th>\n",
       "      <th>BNTX</th>\n",
       "      <th>BOKF</th>\n",
       "      <th>BOND</th>\n",
       "      <th>BOXX</th>\n",
       "      <th>BP</th>\n",
       "      <th>BPMC</th>\n",
       "      <th>BPOP</th>\n",
       "      <th>BR</th>\n",
       "      <th>BRBR</th>\n",
       "      <th>BRFS</th>\n",
       "      <th>BRK-A</th>\n",
       "      <th>BRK-B</th>\n",
       "      <th>BRKR</th>\n",
       "      <th>BRO</th>\n",
       "      <th>BROS</th>\n",
       "      <th>BRX</th>\n",
       "      <th>BSAC</th>\n",
       "      <th>BSBR</th>\n",
       "      <th>BSCP</th>\n",
       "      <th>BSCQ</th>\n",
       "      <th>BSCR</th>\n",
       "      <th>BSV</th>\n",
       "      <th>BSX</th>\n",
       "      <th>BSY</th>\n",
       "      <th>BTI</th>\n",
       "      <th>BUD</th>\n",
       "      <th>BUFR</th>\n",
       "      <th>BURL</th>\n",
       "      <th>BWA</th>\n",
       "      <th>BWXT</th>\n",
       "      <th>BX</th>\n",
       "      <th>BXP</th>\n",
       "      <th>BXSL</th>\n",
       "      <th>BYD</th>\n",
       "      <th>BZ</th>\n",
       "      <th>C</th>\n",
       "      <th>CACI</th>\n",
       "      <th>CAE</th>\n",
       "      <th>CAG</th>\n",
       "      <th>CAH</th>\n",
       "      <th>CALF</th>\n",
       "      <th>CAR</th>\n",
       "      <th>CARR</th>\n",
       "      <th>CART</th>\n",
       "      <th>CASY</th>\n",
       "      <th>CAT</th>\n",
       "      <th>CAVA</th>\n",
       "      <th>CB</th>\n",
       "      <th>CBOE</th>\n",
       "      <th>CBRE</th>\n",
       "      <th>CBSH</th>\n",
       "      <th>CCCS</th>\n",
       "      <th>CCEP</th>\n",
       "      <th>CCI</th>\n",
       "      <th>CCJ</th>\n",
       "      <th>CCK</th>\n",
       "      <th>CCL</th>\n",
       "      <th>CDE</th>\n",
       "      <th>CDNS</th>\n",
       "      <th>CDP</th>\n",
       "      <th>CDW</th>\n",
       "      <th>CE</th>\n",
       "      <th>CEF</th>\n",
       "      <th>CEG</th>\n",
       "      <th>CELH</th>\n",
       "      <th>CF</th>\n",
       "      <th>CFG</th>\n",
       "      <th>CFLT</th>\n",
       "      <th>CFR</th>\n",
       "      <th>CG</th>\n",
       "      <th>CGCP</th>\n",
       "      <th>CGDV</th>\n",
       "      <th>CGGO</th>\n",
       "      <th>CGGR</th>\n",
       "      <th>CGMU</th>\n",
       "      <th>CGUS</th>\n",
       "      <th>CGXU</th>\n",
       "      <th>CHD</th>\n",
       "      <th>CHDN</th>\n",
       "      <th>CHE</th>\n",
       "      <th>CHKP</th>\n",
       "      <th>CHRD</th>\n",
       "      <th>CHRW</th>\n",
       "      <th>CHT</th>\n",
       "      <th>CHTR</th>\n",
       "      <th>CHWY</th>\n",
       "      <th>CI</th>\n",
       "      <th>CIBR</th>\n",
       "      <th>CIEN</th>\n",
       "      <th>CIGI</th>\n",
       "      <th>CINF</th>\n",
       "      <th>CL</th>\n",
       "      <th>CLH</th>\n",
       "      <th>CLS</th>\n",
       "      <th>CLX</th>\n",
       "      <th>CM</th>\n",
       "      <th>CMA</th>\n",
       "      <th>CMCSA</th>\n",
       "      <th>CME</th>\n",
       "      <th>CMF</th>\n",
       "      <th>CMG</th>\n",
       "      <th>CMI</th>\n",
       "      <th>CMS</th>\n",
       "      <th>CNA</th>\n",
       "      <th>CNC</th>\n",
       "      <th>CNH</th>\n",
       "      <th>CNI</th>\n",
       "      <th>CNM</th>\n",
       "      <th>CNP</th>\n",
       "      <th>CNQ</th>\n",
       "      <th>COF</th>\n",
       "      <th>COHR</th>\n",
       "      <th>COIN</th>\n",
       "      <th>COKE</th>\n",
       "      <th>COO</th>\n",
       "      <th>COOP</th>\n",
       "      <th>COP</th>\n",
       "      <th>COR</th>\n",
       "      <th>CORT</th>\n",
       "      <th>COST</th>\n",
       "      <th>COWZ</th>\n",
       "      <th>CP</th>\n",
       "      <th>CPAY</th>\n",
       "      <th>CPB</th>\n",
       "      <th>CPNG</th>\n",
       "      <th>CPRT</th>\n",
       "      <th>CPT</th>\n",
       "      <th>CQP</th>\n",
       "      <th>CR</th>\n",
       "      <th>CRBG</th>\n",
       "      <th>CRDO</th>\n",
       "      <th>CRH</th>\n",
       "      <th>CRK</th>\n",
       "      <th>CRL</th>\n",
       "      <th>CRM</th>\n",
       "      <th>CRS</th>\n",
       "      <th>CRWD</th>\n",
       "      <th>CSCO</th>\n",
       "      <th>CSGP</th>\n",
       "      <th>CSL</th>\n",
       "      <th>CSX</th>\n",
       "      <th>CTAS</th>\n",
       "      <th>CTRA</th>\n",
       "      <th>CTSH</th>\n",
       "      <th>CTVA</th>\n",
       "      <th>CUBE</th>\n",
       "      <th>CVE</th>\n",
       "      <th>CVLT</th>\n",
       "      <th>CVNA</th>\n",
       "      <th>CVS</th>\n",
       "      <th>CVX</th>\n",
       "      <th>CW</th>\n",
       "      <th>CWAN</th>\n",
       "      <th>CWB</th>\n",
       "      <th>CWEN</th>\n",
       "      <th>CWEN-A</th>\n",
       "      <th>CWST</th>\n",
       "      <th>CX</th>\n",
       "      <th>CYBR</th>\n",
       "      <th>CZR</th>\n",
       "      <th>D</th>\n",
       "      <th>DAL</th>\n",
       "      <th>DAR</th>\n",
       "      <th>DASH</th>\n",
       "      <th>DAY</th>\n",
       "      <th>DB</th>\n",
       "      <th>DBEF</th>\n",
       "      <th>DBX</th>\n",
       "      <th>DCI</th>\n",
       "      <th>DD</th>\n",
       "      <th>DDOG</th>\n",
       "      <th>DDS</th>\n",
       "      <th>DE</th>\n",
       "      <th>DECK</th>\n",
       "      <th>DELL</th>\n",
       "      <th>DEO</th>\n",
       "      <th>DFAC</th>\n",
       "      <th>DFAE</th>\n",
       "      <th>DFAI</th>\n",
       "      <th>DFAS</th>\n",
       "      <th>DFAT</th>\n",
       "      <th>DFAU</th>\n",
       "      <th>DFAX</th>\n",
       "      <th>DFCF</th>\n",
       "      <th>DFEM</th>\n",
       "      <th>DFIC</th>\n",
       "      <th>DFIV</th>\n",
       "      <th>DFLV</th>\n",
       "      <th>DFSD</th>\n",
       "      <th>DFSV</th>\n",
       "      <th>DFUS</th>\n",
       "      <th>DFUV</th>\n",
       "      <th>DG</th>\n",
       "      <th>DGRO</th>\n",
       "      <th>DGRW</th>\n",
       "      <th>DGX</th>\n",
       "      <th>DHI</th>\n",
       "      <th>DHR</th>\n",
       "      <th>DIA</th>\n",
       "      <th>DIHP</th>\n",
       "      <th>DINO</th>\n",
       "      <th>DIS</th>\n",
       "      <th>DIVO</th>\n",
       "      <th>DKNG</th>\n",
       "      <th>DKS</th>\n",
       "      <th>DLB</th>\n",
       "      <th>DLN</th>\n",
       "      <th>DLR</th>\n",
       "      <th>DLTR</th>\n",
       "      <th>DOC</th>\n",
       "      <th>DOCS</th>\n",
       "      <th>DOCU</th>\n",
       "      <th>DON</th>\n",
       "      <th>DOV</th>\n",
       "      <th>DOW</th>\n",
       "      <th>DOX</th>\n",
       "      <th>DPZ</th>\n",
       "      <th>DRI</th>\n",
       "      <th>DRS</th>\n",
       "      <th>DSGX</th>\n",
       "      <th>DSI</th>\n",
       "      <th>DT</th>\n",
       "      <th>DTE</th>\n",
       "      <th>DTM</th>\n",
       "      <th>DUHP</th>\n",
       "      <th>DUK</th>\n",
       "      <th>DUOL</th>\n",
       "      <th>DVA</th>\n",
       "      <th>DVN</th>\n",
       "      <th>DVY</th>\n",
       "      <th>DXCM</th>\n",
       "      <th>DXJ</th>\n",
       "      <th>DY</th>\n",
       "      <th>DYNF</th>\n",
       "      <th>E</th>\n",
       "      <th>EA</th>\n",
       "      <th>EAGG</th>\n",
       "      <th>EAT</th>\n",
       "      <th>EBAY</th>\n",
       "      <th>EBR</th>\n",
       "      <th>EC</th>\n",
       "      <th>ECL</th>\n",
       "      <th>ED</th>\n",
       "      <th>EDU</th>\n",
       "      <th>EDV</th>\n",
       "      <th>EEM</th>\n",
       "      <th>EEMV</th>\n",
       "      <th>EFA</th>\n",
       "      <th>EFAV</th>\n",
       "      <th>EFG</th>\n",
       "      <th>EFV</th>\n",
       "      <th>EFX</th>\n",
       "      <th>EG</th>\n",
       "      <th>EGP</th>\n",
       "      <th>EHC</th>\n",
       "      <th>EIX</th>\n",
       "      <th>EL</th>\n",
       "      <th>ELAN</th>\n",
       "      <th>ELF</th>\n",
       "      <th>ELS</th>\n",
       "      <th>ELV</th>\n",
       "      <th>EMA</th>\n",
       "      <th>EMB</th>\n",
       "      <th>EME</th>\n",
       "      <th>EMLC</th>\n",
       "      <th>EMN</th>\n",
       "      <th>EMR</th>\n",
       "      <th>EMXC</th>\n",
       "      <th>ENB</th>\n",
       "      <th>ENPH</th>\n",
       "      <th>ENSG</th>\n",
       "      <th>ENTG</th>\n",
       "      <th>EOG</th>\n",
       "      <th>EPAM</th>\n",
       "      <th>EPD</th>\n",
       "      <th>EPI</th>\n",
       "      <th>EPRT</th>\n",
       "      <th>EQH</th>\n",
       "      <th>EQIX</th>\n",
       "      <th>EQNR</th>\n",
       "      <th>EQR</th>\n",
       "      <th>EQT</th>\n",
       "      <th>ERIC</th>\n",
       "      <th>ERIE</th>\n",
       "      <th>ERJ</th>\n",
       "      <th>ES</th>\n",
       "      <th>ESAB</th>\n",
       "      <th>ESGD</th>\n",
       "      <th>ESGE</th>\n",
       "      <th>ESGU</th>\n",
       "      <th>ESGV</th>\n",
       "      <th>ESLT</th>\n",
       "      <th>ESNT</th>\n",
       "      <th>ESS</th>\n",
       "      <th>ESTC</th>\n",
       "      <th>ET</th>\n",
       "      <th>ETN</th>\n",
       "      <th>ETR</th>\n",
       "      <th>ETSY</th>\n",
       "      <th>EUFN</th>\n",
       "      <th>EVR</th>\n",
       "      <th>EVRG</th>\n",
       "      <th>EW</th>\n",
       "      <th>EWBC</th>\n",
       "      <th>EWJ</th>\n",
       "      <th>EWT</th>\n",
       "      <th>EWY</th>\n",
       "      <th>EWZ</th>\n",
       "      <th>EXAS</th>\n",
       "      <th>EXC</th>\n",
       "      <th>EXE</th>\n",
       "      <th>EXEL</th>\n",
       "      <th>EXLS</th>\n",
       "      <th>EXP</th>\n",
       "      <th>EXPD</th>\n",
       "      <th>EXPE</th>\n",
       "      <th>EXR</th>\n",
       "      <th>EZU</th>\n",
       "      <th>F</th>\n",
       "      <th>FAF</th>\n",
       "      <th>FANG</th>\n",
       "      <th>FAST</th>\n",
       "      <th>FBCG</th>\n",
       "      <th>FBIN</th>\n",
       "      <th>FBND</th>\n",
       "      <th>FBTC</th>\n",
       "      <th>FCFS</th>\n",
       "      <th>FCNCA</th>\n",
       "      <th>FCX</th>\n",
       "      <th>FDL</th>\n",
       "      <th>FDN</th>\n",
       "      <th>FDS</th>\n",
       "      <th>FDVV</th>\n",
       "      <th>FDX</th>\n",
       "      <th>FE</th>\n",
       "      <th>FELC</th>\n",
       "      <th>FELG</th>\n",
       "      <th>FER</th>\n",
       "      <th>FERG</th>\n",
       "      <th>FEZ</th>\n",
       "      <th>FFIV</th>\n",
       "      <th>FHN</th>\n",
       "      <th>FI</th>\n",
       "      <th>FICO</th>\n",
       "      <th>FIS</th>\n",
       "      <th>FITB</th>\n",
       "      <th>FIVE</th>\n",
       "      <th>FIX</th>\n",
       "      <th>FIXD</th>\n",
       "      <th>FLEX</th>\n",
       "      <th>FLOT</th>\n",
       "      <th>FLR</th>\n",
       "      <th>FLS</th>\n",
       "      <th>FLUT</th>\n",
       "      <th>FMS</th>\n",
       "      <th>FMX</th>\n",
       "      <th>FN</th>\n",
       "      <th>FND</th>\n",
       "      <th>FNDA</th>\n",
       "      <th>FNDE</th>\n",
       "      <th>FNDF</th>\n",
       "      <th>FNDX</th>\n",
       "      <th>FNF</th>\n",
       "      <th>FNV</th>\n",
       "      <th>FOUR</th>\n",
       "      <th>FOX</th>\n",
       "      <th>FOXA</th>\n",
       "      <th>FPE</th>\n",
       "      <th>FR</th>\n",
       "      <th>FRHC</th>\n",
       "      <th>FRT</th>\n",
       "      <th>FSEC</th>\n",
       "      <th>FSK</th>\n",
       "      <th>FSLR</th>\n",
       "      <th>FSS</th>\n",
       "      <th>FSV</th>\n",
       "      <th>FTAI</th>\n",
       "      <th>FTCS</th>\n",
       "      <th>FTEC</th>\n",
       "      <th>FTI</th>\n",
       "      <th>FTNT</th>\n",
       "      <th>FTS</th>\n",
       "      <th>FTSM</th>\n",
       "      <th>FTV</th>\n",
       "      <th>FUTU</th>\n",
       "      <th>FV</th>\n",
       "      <th>FVD</th>\n",
       "      <th>FWONA</th>\n",
       "      <th>FWONK</th>\n",
       "      <th>FXI</th>\n",
       "      <th>FYBR</th>\n",
       "      <th>G</th>\n",
       "      <th>GAP</th>\n",
       "      <th>GBIL</th>\n",
       "      <th>GBTC</th>\n",
       "      <th>GD</th>\n",
       "      <th>GDDY</th>\n",
       "      <th>GDX</th>\n",
       "      <th>GDXJ</th>\n",
       "      <th>GE</th>\n",
       "      <th>GEHC</th>\n",
       "      <th>GEN</th>\n",
       "      <th>GFI</th>\n",
       "      <th>GFL</th>\n",
       "      <th>GFS</th>\n",
       "      <th>GGAL</th>\n",
       "      <th>GGG</th>\n",
       "      <th>GH</th>\n",
       "      <th>GIB</th>\n",
       "      <th>GIL</th>\n",
       "      <th>GILD</th>\n",
       "      <th>GIS</th>\n",
       "      <th>GL</th>\n",
       "      <th>GLD</th>\n",
       "      <th>GLDM</th>\n",
       "      <th>GLPI</th>\n",
       "      <th>GLW</th>\n",
       "      <th>GM</th>\n",
       "      <th>GMAB</th>\n",
       "      <th>GME</th>\n",
       "      <th>GMED</th>\n",
       "      <th>GNRC</th>\n",
       "      <th>GOOG</th>\n",
       "      <th>GOOGL</th>\n",
       "      <th>GOVT</th>\n",
       "      <th>GPC</th>\n",
       "      <th>GPK</th>\n",
       "      <th>GPN</th>\n",
       "      <th>GRAB</th>\n",
       "      <th>GRMN</th>\n",
       "      <th>GS</th>\n",
       "      <th>GSIE</th>\n",
       "      <th>GSK</th>\n",
       "      <th>GSLC</th>\n",
       "      <th>GTLB</th>\n",
       "      <th>GTLS</th>\n",
       "      <th>GUNR</th>\n",
       "      <th>GVI</th>\n",
       "      <th>GWRE</th>\n",
       "      <th>GWW</th>\n",
       "      <th>H</th>\n",
       "      <th>HAL</th>\n",
       "      <th>HALO</th>\n",
       "      <th>HAS</th>\n",
       "      <th>HBAN</th>\n",
       "      <th>HCA</th>\n",
       "      <th>HD</th>\n",
       "      <th>HDB</th>\n",
       "      <th>HDV</th>\n",
       "      <th>HEFA</th>\n",
       "      <th>HEI</th>\n",
       "      <th>HEI-A</th>\n",
       "      <th>HES</th>\n",
       "      <th>HESM</th>\n",
       "      <th>HIG</th>\n",
       "      <th>HII</th>\n",
       "      <th>HIMS</th>\n",
       "      <th>HLI</th>\n",
       "      <th>HLN</th>\n",
       "      <th>HLNE</th>\n",
       "      <th>HLT</th>\n",
       "      <th>HMC</th>\n",
       "      <th>HMY</th>\n",
       "      <th>HOLX</th>\n",
       "      <th>HON</th>\n",
       "      <th>HOOD</th>\n",
       "      <th>HPE</th>\n",
       "      <th>HPQ</th>\n",
       "      <th>HQY</th>\n",
       "      <th>HRB</th>\n",
       "      <th>HRL</th>\n",
       "      <th>HSBC</th>\n",
       "      <th>HSIC</th>\n",
       "      <th>HST</th>\n",
       "      <th>HSY</th>\n",
       "      <th>HTHT</th>\n",
       "      <th>HUBB</th>\n",
       "      <th>HUBS</th>\n",
       "      <th>HUM</th>\n",
       "      <th>HWM</th>\n",
       "      <th>HYD</th>\n",
       "      <th>HYG</th>\n",
       "      <th>HYLB</th>\n",
       "      <th>IAGG</th>\n",
       "      <th>IAU</th>\n",
       "      <th>IBB</th>\n",
       "      <th>IBDR</th>\n",
       "      <th>IBIT</th>\n",
       "      <th>IBKR</th>\n",
       "      <th>IBM</th>\n",
       "      <th>IBN</th>\n",
       "      <th>ICE</th>\n",
       "      <th>ICL</th>\n",
       "      <th>ICLR</th>\n",
       "      <th>ICSH</th>\n",
       "      <th>IDA</th>\n",
       "      <th>IDCC</th>\n",
       "      <th>IDEV</th>\n",
       "      <th>IDV</th>\n",
       "      <th>IDXX</th>\n",
       "      <th>IEF</th>\n",
       "      <th>IEFA</th>\n",
       "      <th>IEI</th>\n",
       "      <th>IEMG</th>\n",
       "      <th>IEUR</th>\n",
       "      <th>IEX</th>\n",
       "      <th>IFF</th>\n",
       "      <th>IGF</th>\n",
       "      <th>IGIB</th>\n",
       "      <th>IGM</th>\n",
       "      <th>IGSB</th>\n",
       "      <th>IGV</th>\n",
       "      <th>IHG</th>\n",
       "      <th>IHI</th>\n",
       "      <th>IJH</th>\n",
       "      <th>IJJ</th>\n",
       "      <th>IJK</th>\n",
       "      <th>IJR</th>\n",
       "      <th>IJS</th>\n",
       "      <th>IJT</th>\n",
       "      <th>ILMN</th>\n",
       "      <th>IMO</th>\n",
       "      <th>INCY</th>\n",
       "      <th>INDA</th>\n",
       "      <th>INFA</th>\n",
       "      <th>INFY</th>\n",
       "      <th>ING</th>\n",
       "      <th>INGR</th>\n",
       "      <th>INSM</th>\n",
       "      <th>INTC</th>\n",
       "      <th>INTU</th>\n",
       "      <th>INVH</th>\n",
       "      <th>IONQ</th>\n",
       "      <th>IONS</th>\n",
       "      <th>IOO</th>\n",
       "      <th>IOT</th>\n",
       "      <th>IP</th>\n",
       "      <th>IPG</th>\n",
       "      <th>IQLT</th>\n",
       "      <th>IQV</th>\n",
       "      <th>IR</th>\n",
       "      <th>IRM</th>\n",
       "      <th>ISRG</th>\n",
       "      <th>ISTB</th>\n",
       "      <th>IT</th>\n",
       "      <th>ITA</th>\n",
       "      <th>ITOT</th>\n",
       "      <th>ITT</th>\n",
       "      <th>ITUB</th>\n",
       "      <th>ITW</th>\n",
       "      <th>IUSB</th>\n",
       "      <th>IUSG</th>\n",
       "      <th>IUSV</th>\n",
       "      <th>IVE</th>\n",
       "      <th>IVV</th>\n",
       "      <th>IVW</th>\n",
       "      <th>IVZ</th>\n",
       "      <th>IWB</th>\n",
       "      <th>IWD</th>\n",
       "      <th>IWF</th>\n",
       "      <th>IWM</th>\n",
       "      <th>IWN</th>\n",
       "      <th>IWO</th>\n",
       "      <th>IWP</th>\n",
       "      <th>IWR</th>\n",
       "      <th>IWS</th>\n",
       "      <th>IWV</th>\n",
       "      <th>IWY</th>\n",
       "      <th>IX</th>\n",
       "      <th>IXJ</th>\n",
       "      <th>IXN</th>\n",
       "      <th>IXUS</th>\n",
       "      <th>IYF</th>\n",
       "      <th>IYR</th>\n",
       "      <th>IYW</th>\n",
       "      <th>J</th>\n",
       "      <th>JAAA</th>\n",
       "      <th>JAVA</th>\n",
       "      <th>JAZZ</th>\n",
       "      <th>JBHT</th>\n",
       "      <th>JBL</th>\n",
       "      <th>JBTM</th>\n",
       "      <th>JCI</th>\n",
       "      <th>JCPB</th>\n",
       "      <th>JD</th>\n",
       "      <th>JEF</th>\n",
       "      <th>JEPI</th>\n",
       "      <th>JEPQ</th>\n",
       "      <th>JGRO</th>\n",
       "      <th>JHMM</th>\n",
       "      <th>JHX</th>\n",
       "      <th>JIRE</th>\n",
       "      <th>JKHY</th>\n",
       "      <th>JLL</th>\n",
       "      <th>JMBS</th>\n",
       "      <th>JMST</th>\n",
       "      <th>JNJ</th>\n",
       "      <th>JNK</th>\n",
       "      <th>JNPR</th>\n",
       "      <th>JOBY</th>\n",
       "      <th>JPIE</th>\n",
       "      <th>JPM</th>\n",
       "      <th>JPST</th>\n",
       "      <th>JQUA</th>\n",
       "      <th>JXN</th>\n",
       "      <th>K</th>\n",
       "      <th>KB</th>\n",
       "      <th>KBR</th>\n",
       "      <th>KBWB</th>\n",
       "      <th>KD</th>\n",
       "      <th>KDP</th>\n",
       "      <th>KEP</th>\n",
       "      <th>KEX</th>\n",
       "      <th>KEY</th>\n",
       "      <th>KEYS</th>\n",
       "      <th>KGC</th>\n",
       "      <th>KHC</th>\n",
       "      <th>KIM</th>\n",
       "      <th>KKR</th>\n",
       "      <th>KLAC</th>\n",
       "      <th>KMB</th>\n",
       "      <th>KMI</th>\n",
       "      <th>KMX</th>\n",
       "      <th>KNG</th>\n",
       "      <th>KNSL</th>\n",
       "      <th>KNTK</th>\n",
       "      <th>KNX</th>\n",
       "      <th>KO</th>\n",
       "      <th>KR</th>\n",
       "      <th>KRC</th>\n",
       "      <th>KSPI</th>\n",
       "      <th>KT</th>\n",
       "      <th>KTOS</th>\n",
       "      <th>KVUE</th>\n",
       "      <th>KVYO</th>\n",
       "      <th>KWEB</th>\n",
       "      <th>L</th>\n",
       "      <th>LAD</th>\n",
       "      <th>LAMR</th>\n",
       "      <th>LBRDA</th>\n",
       "      <th>LBRDK</th>\n",
       "      <th>LCID</th>\n",
       "      <th>LDOS</th>\n",
       "      <th>LECO</th>\n",
       "      <th>LEGN</th>\n",
       "      <th>LEN</th>\n",
       "      <th>LEVI</th>\n",
       "      <th>LH</th>\n",
       "      <th>LHX</th>\n",
       "      <th>LI</th>\n",
       "      <th>LII</th>\n",
       "      <th>LIN</th>\n",
       "      <th>LITE</th>\n",
       "      <th>LKQ</th>\n",
       "      <th>LLY</th>\n",
       "      <th>LLYVA</th>\n",
       "      <th>LLYVK</th>\n",
       "      <th>LMBS</th>\n",
       "      <th>LMT</th>\n",
       "      <th>LNG</th>\n",
       "      <th>LNT</th>\n",
       "      <th>LNW</th>\n",
       "      <th>LOGI</th>\n",
       "      <th>LOW</th>\n",
       "      <th>LPLA</th>\n",
       "      <th>LPX</th>\n",
       "      <th>LQD</th>\n",
       "      <th>LRCX</th>\n",
       "      <th>LRN</th>\n",
       "      <th>LSCC</th>\n",
       "      <th>LTH</th>\n",
       "      <th>LULU</th>\n",
       "      <th>LUV</th>\n",
       "      <th>LVS</th>\n",
       "      <th>LW</th>\n",
       "      <th>LYB</th>\n",
       "      <th>LYFT</th>\n",
       "      <th>LYG</th>\n",
       "      <th>LYV</th>\n",
       "      <th>MA</th>\n",
       "      <th>MAA</th>\n",
       "      <th>MANH</th>\n",
       "      <th>MAR</th>\n",
       "      <th>MAS</th>\n",
       "      <th>MASI</th>\n",
       "      <th>MAT</th>\n",
       "      <th>MBB</th>\n",
       "      <th>MBLY</th>\n",
       "      <th>MCD</th>\n",
       "      <th>MCHI</th>\n",
       "      <th>MCHP</th>\n",
       "      <th>MCK</th>\n",
       "      <th>MCO</th>\n",
       "      <th>MDB</th>\n",
       "      <th>MDGL</th>\n",
       "      <th>MDLZ</th>\n",
       "      <th>MDT</th>\n",
       "      <th>MDY</th>\n",
       "      <th>MEDP</th>\n",
       "      <th>MELI</th>\n",
       "      <th>MET</th>\n",
       "      <th>META</th>\n",
       "      <th>MFC</th>\n",
       "      <th>MFG</th>\n",
       "      <th>MGA</th>\n",
       "      <th>MGC</th>\n",
       "      <th>MGK</th>\n",
       "      <th>MGM</th>\n",
       "      <th>MGV</th>\n",
       "      <th>MHK</th>\n",
       "      <th>MIDD</th>\n",
       "      <th>MINT</th>\n",
       "      <th>MKC</th>\n",
       "      <th>MKL</th>\n",
       "      <th>MKSI</th>\n",
       "      <th>MKTX</th>\n",
       "      <th>MLI</th>\n",
       "      <th>MLM</th>\n",
       "      <th>MMC</th>\n",
       "      <th>MMM</th>\n",
       "      <th>MMYT</th>\n",
       "      <th>MNDY</th>\n",
       "      <th>MNST</th>\n",
       "      <th>MO</th>\n",
       "      <th>MOAT</th>\n",
       "      <th>MOH</th>\n",
       "      <th>MORN</th>\n",
       "      <th>MOS</th>\n",
       "      <th>MP</th>\n",
       "      <th>MPC</th>\n",
       "      <th>MPLX</th>\n",
       "      <th>MPWR</th>\n",
       "      <th>MRK</th>\n",
       "      <th>MRNA</th>\n",
       "      <th>MRVL</th>\n",
       "      <th>MS</th>\n",
       "      <th>MSA</th>\n",
       "      <th>MSCI</th>\n",
       "      <th>MSFT</th>\n",
       "      <th>MSI</th>\n",
       "      <th>MSTR</th>\n",
       "      <th>MT</th>\n",
       "      <th>MTB</th>\n",
       "      <th>MTCH</th>\n",
       "      <th>MTD</th>\n",
       "      <th>MTDR</th>\n",
       "      <th>MTG</th>\n",
       "      <th>MTSI</th>\n",
       "      <th>MTUM</th>\n",
       "      <th>MTZ</th>\n",
       "      <th>MU</th>\n",
       "      <th>MUB</th>\n",
       "      <th>MUFG</th>\n",
       "      <th>MUSA</th>\n",
       "      <th>NBIX</th>\n",
       "      <th>NCLH</th>\n",
       "      <th>NDAQ</th>\n",
       "      <th>NDSN</th>\n",
       "      <th>NEE</th>\n",
       "      <th>NEM</th>\n",
       "      <th>NET</th>\n",
       "      <th>NEU</th>\n",
       "      <th>NFG</th>\n",
       "      <th>NFLX</th>\n",
       "      <th>NGG</th>\n",
       "      <th>NI</th>\n",
       "      <th>NICE</th>\n",
       "      <th>NIO</th>\n",
       "      <th>NKE</th>\n",
       "      <th>NLY</th>\n",
       "      <th>NMR</th>\n",
       "      <th>NNN</th>\n",
       "      <th>NOBL</th>\n",
       "      <th>NOC</th>\n",
       "      <th>NOK</th>\n",
       "      <th>NOW</th>\n",
       "      <th>NRG</th>\n",
       "      <th>NSC</th>\n",
       "      <th>NTAP</th>\n",
       "      <th>NTES</th>\n",
       "      <th>NTNX</th>\n",
       "      <th>NTR</th>\n",
       "      <th>NTRA</th>\n",
       "      <th>NTRS</th>\n",
       "      <th>NU</th>\n",
       "      <th>NUE</th>\n",
       "      <th>NVDA</th>\n",
       "      <th>NVDL</th>\n",
       "      <th>NVMI</th>\n",
       "      <th>NVO</th>\n",
       "      <th>NVR</th>\n",
       "      <th>NVS</th>\n",
       "      <th>NVT</th>\n",
       "      <th>NWG</th>\n",
       "      <th>NWS</th>\n",
       "      <th>NWSA</th>\n",
       "      <th>NXPI</th>\n",
       "      <th>NXT</th>\n",
       "      <th>NYT</th>\n",
       "      <th>O</th>\n",
       "      <th>OBDC</th>\n",
       "      <th>OC</th>\n",
       "      <th>ODFL</th>\n",
       "      <th>OEF</th>\n",
       "      <th>OGE</th>\n",
       "      <th>OHI</th>\n",
       "      <th>OKE</th>\n",
       "      <th>OKLO</th>\n",
       "      <th>OKTA</th>\n",
       "      <th>OLED</th>\n",
       "      <th>OLLI</th>\n",
       "      <th>OMC</th>\n",
       "      <th>OMF</th>\n",
       "      <th>OMFL</th>\n",
       "      <th>ON</th>\n",
       "      <th>ONB</th>\n",
       "      <th>ONC</th>\n",
       "      <th>ONEQ</th>\n",
       "      <th>ONON</th>\n",
       "      <th>ORCL</th>\n",
       "      <th>ORI</th>\n",
       "      <th>ORLY</th>\n",
       "      <th>OSK</th>\n",
       "      <th>OTEX</th>\n",
       "      <th>OTIS</th>\n",
       "      <th>OVV</th>\n",
       "      <th>OWL</th>\n",
       "      <th>OXY</th>\n",
       "      <th>PAA</th>\n",
       "      <th>PAAA</th>\n",
       "      <th>PAAS</th>\n",
       "      <th>PAC</th>\n",
       "      <th>PAG</th>\n",
       "      <th>PAGP</th>\n",
       "      <th>PANW</th>\n",
       "      <th>PARA</th>\n",
       "      <th>PATH</th>\n",
       "      <th>PAVE</th>\n",
       "      <th>PAYC</th>\n",
       "      <th>PAYX</th>\n",
       "      <th>PB</th>\n",
       "      <th>PBA</th>\n",
       "      <th>PBR</th>\n",
       "      <th>PBR-A</th>\n",
       "      <th>PBUS</th>\n",
       "      <th>PCAR</th>\n",
       "      <th>PCG</th>\n",
       "      <th>PCOR</th>\n",
       "      <th>PCTY</th>\n",
       "      <th>PDBC</th>\n",
       "      <th>PDD</th>\n",
       "      <th>PDI</th>\n",
       "      <th>PEG</th>\n",
       "      <th>PEGA</th>\n",
       "      <th>PEN</th>\n",
       "      <th>PEP</th>\n",
       "      <th>PFE</th>\n",
       "      <th>PFF</th>\n",
       "      <th>PFG</th>\n",
       "      <th>PFGC</th>\n",
       "      <th>PG</th>\n",
       "      <th>PGR</th>\n",
       "      <th>PGX</th>\n",
       "      <th>PH</th>\n",
       "      <th>PHG</th>\n",
       "      <th>PHM</th>\n",
       "      <th>PHYS</th>\n",
       "      <th>PINS</th>\n",
       "      <th>PKG</th>\n",
       "      <th>PKX</th>\n",
       "      <th>PLD</th>\n",
       "      <th>PLNT</th>\n",
       "      <th>PLTR</th>\n",
       "      <th>PM</th>\n",
       "      <th>PNC</th>\n",
       "      <th>PNFP</th>\n",
       "      <th>PNR</th>\n",
       "      <th>PNW</th>\n",
       "      <th>PODD</th>\n",
       "      <th>POOL</th>\n",
       "      <th>POST</th>\n",
       "      <th>PPA</th>\n",
       "      <th>PPC</th>\n",
       "      <th>PPG</th>\n",
       "      <th>PPL</th>\n",
       "      <th>PR</th>\n",
       "      <th>PRF</th>\n",
       "      <th>PRI</th>\n",
       "      <th>PRMB</th>\n",
       "      <th>PRU</th>\n",
       "      <th>PSA</th>\n",
       "      <th>PSLV</th>\n",
       "      <th>PSN</th>\n",
       "      <th>PSO</th>\n",
       "      <th>PSTG</th>\n",
       "      <th>PSX</th>\n",
       "      <th>PTC</th>\n",
       "      <th>PUK</th>\n",
       "      <th>PULS</th>\n",
       "      <th>PWR</th>\n",
       "      <th>PYLD</th>\n",
       "      <th>PYPL</th>\n",
       "      <th>QCOM</th>\n",
       "      <th>QGEN</th>\n",
       "      <th>QLD</th>\n",
       "      <th>QQQ</th>\n",
       "      <th>QQQM</th>\n",
       "      <th>QRVO</th>\n",
       "      <th>QSR</th>\n",
       "      <th>QUAL</th>\n",
       "      <th>QXO</th>\n",
       "      <th>QYLD</th>\n",
       "      <th>R</th>\n",
       "      <th>RACE</th>\n",
       "      <th>RBA</th>\n",
       "      <th>RBC</th>\n",
       "      <th>RBLX</th>\n",
       "      <th>RCI</th>\n",
       "      <th>RCL</th>\n",
       "      <th>RDVY</th>\n",
       "      <th>RDY</th>\n",
       "      <th>REET</th>\n",
       "      <th>REG</th>\n",
       "      <th>REGN</th>\n",
       "      <th>RELX</th>\n",
       "      <th>REXR</th>\n",
       "      <th>RF</th>\n",
       "      <th>RGA</th>\n",
       "      <th>RGC</th>\n",
       "      <th>RGEN</th>\n",
       "      <th>RGLD</th>\n",
       "      <th>RHP</th>\n",
       "      <th>RIO</th>\n",
       "      <th>RITM</th>\n",
       "      <th>RIVN</th>\n",
       "      <th>RJF</th>\n",
       "      <th>RKLB</th>\n",
       "      <th>RKT</th>\n",
       "      <th>RL</th>\n",
       "      <th>RLI</th>\n",
       "      <th>RMBS</th>\n",
       "      <th>RMD</th>\n",
       "      <th>RNR</th>\n",
       "      <th>ROAD</th>\n",
       "      <th>ROIV</th>\n",
       "      <th>ROK</th>\n",
       "      <th>ROKU</th>\n",
       "      <th>ROL</th>\n",
       "      <th>ROP</th>\n",
       "      <th>ROST</th>\n",
       "      <th>RPM</th>\n",
       "      <th>RPRX</th>\n",
       "      <th>RRC</th>\n",
       "      <th>RRX</th>\n",
       "      <th>RS</th>\n",
       "      <th>RSG</th>\n",
       "      <th>RSP</th>\n",
       "      <th>RSPT</th>\n",
       "      <th>RTO</th>\n",
       "      <th>RTX</th>\n",
       "      <th>RVMD</th>\n",
       "      <th>RVTY</th>\n",
       "      <th>RWL</th>\n",
       "      <th>RY</th>\n",
       "      <th>RYAAY</th>\n",
       "      <th>RYAN</th>\n",
       "      <th>S</th>\n",
       "      <th>SAIA</th>\n",
       "      <th>SAN</th>\n",
       "      <th>SAP</th>\n",
       "      <th>SATS</th>\n",
       "      <th>SBAC</th>\n",
       "      <th>SBS</th>\n",
       "      <th>SBUX</th>\n",
       "      <th>SCCO</th>\n",
       "      <th>SCHA</th>\n",
       "      <th>SCHB</th>\n",
       "      <th>SCHC</th>\n",
       "      <th>SCHD</th>\n",
       "      <th>SCHE</th>\n",
       "      <th>SCHF</th>\n",
       "      <th>SCHG</th>\n",
       "      <th>SCHH</th>\n",
       "      <th>SCHI</th>\n",
       "      <th>SCHK</th>\n",
       "      <th>SCHM</th>\n",
       "      <th>SCHO</th>\n",
       "      <th>SCHP</th>\n",
       "      <th>SCHR</th>\n",
       "      <th>SCHV</th>\n",
       "      <th>SCHW</th>\n",
       "      <th>SCHX</th>\n",
       "      <th>SCHZ</th>\n",
       "      <th>SCI</th>\n",
       "      <th>SCZ</th>\n",
       "      <th>SDVY</th>\n",
       "      <th>SDY</th>\n",
       "      <th>SE</th>\n",
       "      <th>SEIC</th>\n",
       "      <th>SF</th>\n",
       "      <th>SFM</th>\n",
       "      <th>SGI</th>\n",
       "      <th>SGOL</th>\n",
       "      <th>SGOV</th>\n",
       "      <th>SHEL</th>\n",
       "      <th>SHG</th>\n",
       "      <th>SHM</th>\n",
       "      <th>SHOP</th>\n",
       "      <th>SHV</th>\n",
       "      <th>SHW</th>\n",
       "      <th>SHY</th>\n",
       "      <th>SHYG</th>\n",
       "      <th>SIRI</th>\n",
       "      <th>SJM</th>\n",
       "      <th>SJNK</th>\n",
       "      <th>SKM</th>\n",
       "      <th>SKX</th>\n",
       "      <th>SKYY</th>\n",
       "      <th>SLB</th>\n",
       "      <th>SLF</th>\n",
       "      <th>SLM</th>\n",
       "      <th>SLV</th>\n",
       "      <th>SLYG</th>\n",
       "      <th>SLYV</th>\n",
       "      <th>SMCI</th>\n",
       "      <th>SMFG</th>\n",
       "      <th>SMH</th>\n",
       "      <th>SMMT</th>\n",
       "      <th>SMR</th>\n",
       "      <th>SN</th>\n",
       "      <th>SNA</th>\n",
       "      <th>SNAP</th>\n",
       "      <th>SNN</th>\n",
       "      <th>SNOW</th>\n",
       "      <th>SNPS</th>\n",
       "      <th>SNV</th>\n",
       "      <th>SNX</th>\n",
       "      <th>SNY</th>\n",
       "      <th>SO</th>\n",
       "      <th>SOFI</th>\n",
       "      <th>SONY</th>\n",
       "      <th>SOXL</th>\n",
       "      <th>SOXX</th>\n",
       "      <th>SPAB</th>\n",
       "      <th>SPDW</th>\n",
       "      <th>SPEM</th>\n",
       "      <th>SPG</th>\n",
       "      <th>SPGI</th>\n",
       "      <th>SPHQ</th>\n",
       "      <th>SPHY</th>\n",
       "      <th>SPIB</th>\n",
       "      <th>SPLG</th>\n",
       "      <th>SPLV</th>\n",
       "      <th>SPMB</th>\n",
       "      <th>SPMD</th>\n",
       "      <th>SPMO</th>\n",
       "      <th>SPOT</th>\n",
       "      <th>SPSB</th>\n",
       "      <th>SPSM</th>\n",
       "      <th>SPTI</th>\n",
       "      <th>SPTL</th>\n",
       "      <th>SPTM</th>\n",
       "      <th>SPTS</th>\n",
       "      <th>SPXC</th>\n",
       "      <th>SPXL</th>\n",
       "      <th>SPY</th>\n",
       "      <th>SPYD</th>\n",
       "      <th>SPYG</th>\n",
       "      <th>SPYI</th>\n",
       "      <th>SPYV</th>\n",
       "      <th>SRAD</th>\n",
       "      <th>SRE</th>\n",
       "      <th>SRLN</th>\n",
       "      <th>SSB</th>\n",
       "      <th>SSD</th>\n",
       "      <th>SSNC</th>\n",
       "      <th>SSO</th>\n",
       "      <th>STAG</th>\n",
       "      <th>STE</th>\n",
       "      <th>STEP</th>\n",
       "      <th>STIP</th>\n",
       "      <th>STLA</th>\n",
       "      <th>STLD</th>\n",
       "      <th>STM</th>\n",
       "      <th>STN</th>\n",
       "      <th>STRL</th>\n",
       "      <th>STT</th>\n",
       "      <th>STVN</th>\n",
       "      <th>STWD</th>\n",
       "      <th>STX</th>\n",
       "      <th>STZ</th>\n",
       "      <th>SU</th>\n",
       "      <th>SUB</th>\n",
       "      <th>SUI</th>\n",
       "      <th>SUN</th>\n",
       "      <th>SUSA</th>\n",
       "      <th>SUZ</th>\n",
       "      <th>SWK</th>\n",
       "      <th>SWKS</th>\n",
       "      <th>SYF</th>\n",
       "      <th>SYK</th>\n",
       "      <th>SYM</th>\n",
       "      <th>SYY</th>\n",
       "      <th>T</th>\n",
       "      <th>TAK</th>\n",
       "      <th>TAP</th>\n",
       "      <th>TBIL</th>\n",
       "      <th>TCAF</th>\n",
       "      <th>TCOM</th>\n",
       "      <th>TD</th>\n",
       "      <th>TDG</th>\n",
       "      <th>TDY</th>\n",
       "      <th>TEAM</th>\n",
       "      <th>TECH</th>\n",
       "      <th>TECK</th>\n",
       "      <th>TECL</th>\n",
       "      <th>TEF</th>\n",
       "      <th>TEL</th>\n",
       "      <th>TER</th>\n",
       "      <th>TEVA</th>\n",
       "      <th>TFC</th>\n",
       "      <th>TFII</th>\n",
       "      <th>TFLO</th>\n",
       "      <th>TGT</th>\n",
       "      <th>THC</th>\n",
       "      <th>THG</th>\n",
       "      <th>THRO</th>\n",
       "      <th>TIGO</th>\n",
       "      <th>TIMB</th>\n",
       "      <th>TIP</th>\n",
       "      <th>TJX</th>\n",
       "      <th>TKO</th>\n",
       "      <th>TLH</th>\n",
       "      <th>TLK</th>\n",
       "      <th>TLN</th>\n",
       "      <th>TLT</th>\n",
       "      <th>TM</th>\n",
       "      <th>TME</th>\n",
       "      <th>TMF</th>\n",
       "      <th>TMHC</th>\n",
       "      <th>TMO</th>\n",
       "      <th>TMUS</th>\n",
       "      <th>TOL</th>\n",
       "      <th>TOST</th>\n",
       "      <th>TOTL</th>\n",
       "      <th>TPG</th>\n",
       "      <th>TPL</th>\n",
       "      <th>TPR</th>\n",
       "      <th>TQQQ</th>\n",
       "      <th>TREX</th>\n",
       "      <th>TRGP</th>\n",
       "      <th>TRI</th>\n",
       "      <th>TRMB</th>\n",
       "      <th>TRNO</th>\n",
       "      <th>TROW</th>\n",
       "      <th>TRP</th>\n",
       "      <th>TRU</th>\n",
       "      <th>TRV</th>\n",
       "      <th>TS</th>\n",
       "      <th>TSCO</th>\n",
       "      <th>TSLA</th>\n",
       "      <th>TSLL</th>\n",
       "      <th>TSM</th>\n",
       "      <th>TSN</th>\n",
       "      <th>TT</th>\n",
       "      <th>TTC</th>\n",
       "      <th>TTD</th>\n",
       "      <th>TTE</th>\n",
       "      <th>TTEK</th>\n",
       "      <th>TTWO</th>\n",
       "      <th>TU</th>\n",
       "      <th>TW</th>\n",
       "      <th>TWLO</th>\n",
       "      <th>TX</th>\n",
       "      <th>TXN</th>\n",
       "      <th>TXRH</th>\n",
       "      <th>TXT</th>\n",
       "      <th>TYL</th>\n",
       "      <th>U</th>\n",
       "      <th>UAL</th>\n",
       "      <th>UBER</th>\n",
       "      <th>UBS</th>\n",
       "      <th>UDR</th>\n",
       "      <th>UFPI</th>\n",
       "      <th>UGI</th>\n",
       "      <th>UHAL</th>\n",
       "      <th>UHAL-B</th>\n",
       "      <th>UHS</th>\n",
       "      <th>UI</th>\n",
       "      <th>UL</th>\n",
       "      <th>ULTA</th>\n",
       "      <th>UMBF</th>\n",
       "      <th>UMC</th>\n",
       "      <th>UNH</th>\n",
       "      <th>UNM</th>\n",
       "      <th>UNP</th>\n",
       "      <th>UPRO</th>\n",
       "      <th>UPS</th>\n",
       "      <th>UPST</th>\n",
       "      <th>URA</th>\n",
       "      <th>URBN</th>\n",
       "      <th>URI</th>\n",
       "      <th>URTH</th>\n",
       "      <th>USB</th>\n",
       "      <th>USFD</th>\n",
       "      <th>USFR</th>\n",
       "      <th>USHY</th>\n",
       "      <th>USIG</th>\n",
       "      <th>USMV</th>\n",
       "      <th>UTHR</th>\n",
       "      <th>UWMC</th>\n",
       "      <th>V</th>\n",
       "      <th>VALE</th>\n",
       "      <th>VB</th>\n",
       "      <th>VBK</th>\n",
       "      <th>VBR</th>\n",
       "      <th>VCIT</th>\n",
       "      <th>VCLT</th>\n",
       "      <th>VCR</th>\n",
       "      <th>VCSH</th>\n",
       "      <th>VDC</th>\n",
       "      <th>VDE</th>\n",
       "      <th>VEA</th>\n",
       "      <th>VEEV</th>\n",
       "      <th>VERX</th>\n",
       "      <th>VEU</th>\n",
       "      <th>VFH</th>\n",
       "      <th>VFLO</th>\n",
       "      <th>VFS</th>\n",
       "      <th>VGIT</th>\n",
       "      <th>VGK</th>\n",
       "      <th>VGLT</th>\n",
       "      <th>VGSH</th>\n",
       "      <th>VGT</th>\n",
       "      <th>VHT</th>\n",
       "      <th>VICI</th>\n",
       "      <th>VIG</th>\n",
       "      <th>VIGI</th>\n",
       "      <th>VIPS</th>\n",
       "      <th>VIRT</th>\n",
       "      <th>VIS</th>\n",
       "      <th>VIV</th>\n",
       "      <th>VLO</th>\n",
       "      <th>VLTO</th>\n",
       "      <th>VLUE</th>\n",
       "      <th>VMBS</th>\n",
       "      <th>VMC</th>\n",
       "      <th>VMI</th>\n",
       "      <th>VNO</th>\n",
       "      <th>VNOM</th>\n",
       "      <th>VNQ</th>\n",
       "      <th>VNQI</th>\n",
       "      <th>VO</th>\n",
       "      <th>VOD</th>\n",
       "      <th>VOE</th>\n",
       "      <th>VONE</th>\n",
       "      <th>VONG</th>\n",
       "      <th>VONV</th>\n",
       "      <th>VOO</th>\n",
       "      <th>VOOG</th>\n",
       "      <th>VOOV</th>\n",
       "      <th>VOT</th>\n",
       "      <th>VOX</th>\n",
       "      <th>VOYA</th>\n",
       "      <th>VPL</th>\n",
       "      <th>VPU</th>\n",
       "      <th>VRNA</th>\n",
       "      <th>VRSK</th>\n",
       "      <th>VRSN</th>\n",
       "      <th>VRT</th>\n",
       "      <th>VRTX</th>\n",
       "      <th>VSGX</th>\n",
       "      <th>VSS</th>\n",
       "      <th>VST</th>\n",
       "      <th>VT</th>\n",
       "      <th>VTEB</th>\n",
       "      <th>VTHR</th>\n",
       "      <th>VTI</th>\n",
       "      <th>VTIP</th>\n",
       "      <th>VTR</th>\n",
       "      <th>VTRS</th>\n",
       "      <th>VTV</th>\n",
       "      <th>VTWO</th>\n",
       "      <th>VUG</th>\n",
       "      <th>VUSB</th>\n",
       "      <th>VV</th>\n",
       "      <th>VWO</th>\n",
       "      <th>VWOB</th>\n",
       "      <th>VXF</th>\n",
       "      <th>VXUS</th>\n",
       "      <th>VYM</th>\n",
       "      <th>VYMI</th>\n",
       "      <th>VZ</th>\n",
       "      <th>W</th>\n",
       "      <th>WAB</th>\n",
       "      <th>WAL</th>\n",
       "      <th>WAT</th>\n",
       "      <th>WBA</th>\n",
       "      <th>WBD</th>\n",
       "      <th>WBS</th>\n",
       "      <th>WCC</th>\n",
       "      <th>WCN</th>\n",
       "      <th>WDAY</th>\n",
       "      <th>WDC</th>\n",
       "      <th>WDS</th>\n",
       "      <th>WEC</th>\n",
       "      <th>WELL</th>\n",
       "      <th>WES</th>\n",
       "      <th>WF</th>\n",
       "      <th>WFC</th>\n",
       "      <th>WFG</th>\n",
       "      <th>WH</th>\n",
       "      <th>WING</th>\n",
       "      <th>WIT</th>\n",
       "      <th>WIX</th>\n",
       "      <th>WLK</th>\n",
       "      <th>WM</th>\n",
       "      <th>WMB</th>\n",
       "      <th>WMG</th>\n",
       "      <th>WMS</th>\n",
       "      <th>WMT</th>\n",
       "      <th>WPC</th>\n",
       "      <th>WPM</th>\n",
       "      <th>WPP</th>\n",
       "      <th>WRB</th>\n",
       "      <th>WSM</th>\n",
       "      <th>WSO</th>\n",
       "      <th>WST</th>\n",
       "      <th>WTFC</th>\n",
       "      <th>WTRG</th>\n",
       "      <th>WTS</th>\n",
       "      <th>WTW</th>\n",
       "      <th>WWD</th>\n",
       "      <th>WY</th>\n",
       "      <th>WYNN</th>\n",
       "      <th>XAR</th>\n",
       "      <th>XBI</th>\n",
       "      <th>XEL</th>\n",
       "      <th>XLB</th>\n",
       "      <th>XLC</th>\n",
       "      <th>XLE</th>\n",
       "      <th>XLF</th>\n",
       "      <th>XLG</th>\n",
       "      <th>XLI</th>\n",
       "      <th>XLK</th>\n",
       "      <th>XLP</th>\n",
       "      <th>XLRE</th>\n",
       "      <th>XLU</th>\n",
       "      <th>XLV</th>\n",
       "      <th>XLY</th>\n",
       "      <th>XMHQ</th>\n",
       "      <th>XMMO</th>\n",
       "      <th>XOM</th>\n",
       "      <th>XP</th>\n",
       "      <th>XPEV</th>\n",
       "      <th>XPO</th>\n",
       "      <th>XT</th>\n",
       "      <th>XYL</th>\n",
       "      <th>XYZ</th>\n",
       "      <th>YMM</th>\n",
       "      <th>YPF</th>\n",
       "      <th>YUM</th>\n",
       "      <th>YUMC</th>\n",
       "      <th>Z</th>\n",
       "      <th>ZBH</th>\n",
       "      <th>ZBRA</th>\n",
       "      <th>ZG</th>\n",
       "      <th>ZION</th>\n",
       "      <th>ZM</th>\n",
       "      <th>ZS</th>\n",
       "      <th>ZTO</th>\n",
       "      <th>ZTS</th>\n",
       "      <th>ZWS</th>\n",
       "    </tr>\n",
       "    <tr>\n",
       "      <th>Date</th>\n",
       "      <th></th>\n",
       "      <th></th>\n",
       "      <th></th>\n",
       "      <th></th>\n",
       "      <th></th>\n",
       "      <th></th>\n",
       "      <th></th>\n",
       "      <th></th>\n",
       "      <th></th>\n",
       "      <th></th>\n",
       "      <th></th>\n",
       "      <th></th>\n",
       "      <th></th>\n",
       "      <th></th>\n",
       "      <th></th>\n",
       "      <th></th>\n",
       "      <th></th>\n",
       "      <th></th>\n",
       "      <th></th>\n",
       "      <th></th>\n",
       "      <th></th>\n",
       "      <th></th>\n",
       "      <th></th>\n",
       "      <th></th>\n",
       "      <th></th>\n",
       "      <th></th>\n",
       "      <th></th>\n",
       "      <th></th>\n",
       "      <th></th>\n",
       "      <th></th>\n",
       "      <th></th>\n",
       "      <th></th>\n",
       "      <th></th>\n",
       "      <th></th>\n",
       "      <th></th>\n",
       "      <th></th>\n",
       "      <th></th>\n",
       "      <th></th>\n",
       "      <th></th>\n",
       "      <th></th>\n",
       "      <th></th>\n",
       "      <th></th>\n",
       "      <th></th>\n",
       "      <th></th>\n",
       "      <th></th>\n",
       "      <th></th>\n",
       "      <th></th>\n",
       "      <th></th>\n",
       "      <th></th>\n",
       "      <th></th>\n",
       "      <th></th>\n",
       "      <th></th>\n",
       "      <th></th>\n",
       "      <th></th>\n",
       "      <th></th>\n",
       "      <th></th>\n",
       "      <th></th>\n",
       "      <th></th>\n",
       "      <th></th>\n",
       "      <th></th>\n",
       "      <th></th>\n",
       "      <th></th>\n",
       "      <th></th>\n",
       "      <th></th>\n",
       "      <th></th>\n",
       "      <th></th>\n",
       "      <th></th>\n",
       "      <th></th>\n",
       "      <th></th>\n",
       "      <th></th>\n",
       "      <th></th>\n",
       "      <th></th>\n",
       "      <th></th>\n",
       "      <th></th>\n",
       "      <th></th>\n",
       "      <th></th>\n",
       "      <th></th>\n",
       "      <th></th>\n",
       "      <th></th>\n",
       "      <th></th>\n",
       "      <th></th>\n",
       "      <th></th>\n",
       "      <th></th>\n",
       "      <th></th>\n",
       "      <th></th>\n",
       "      <th></th>\n",
       "      <th></th>\n",
       "      <th></th>\n",
       "      <th></th>\n",
       "      <th></th>\n",
       "      <th></th>\n",
       "      <th></th>\n",
       "      <th></th>\n",
       "      <th></th>\n",
       "      <th></th>\n",
       "      <th></th>\n",
       "      <th></th>\n",
       "      <th></th>\n",
       "      <th></th>\n",
       "      <th></th>\n",
       "      <th></th>\n",
       "      <th></th>\n",
       "      <th></th>\n",
       "      <th></th>\n",
       "      <th></th>\n",
       "      <th></th>\n",
       "      <th></th>\n",
       "      <th></th>\n",
       "      <th></th>\n",
       "      <th></th>\n",
       "      <th></th>\n",
       "      <th></th>\n",
       "      <th></th>\n",
       "      <th></th>\n",
       "      <th></th>\n",
       "      <th></th>\n",
       "      <th></th>\n",
       "      <th></th>\n",
       "      <th></th>\n",
       "      <th></th>\n",
       "      <th></th>\n",
       "      <th></th>\n",
       "      <th></th>\n",
       "      <th></th>\n",
       "      <th></th>\n",
       "      <th></th>\n",
       "      <th></th>\n",
       "      <th></th>\n",
       "      <th></th>\n",
       "      <th></th>\n",
       "      <th></th>\n",
       "      <th></th>\n",
       "      <th></th>\n",
       "      <th></th>\n",
       "      <th></th>\n",
       "      <th></th>\n",
       "      <th></th>\n",
       "      <th></th>\n",
       "      <th></th>\n",
       "      <th></th>\n",
       "      <th></th>\n",
       "      <th></th>\n",
       "      <th></th>\n",
       "      <th></th>\n",
       "      <th></th>\n",
       "      <th></th>\n",
       "      <th></th>\n",
       "      <th></th>\n",
       "      <th></th>\n",
       "      <th></th>\n",
       "      <th></th>\n",
       "      <th></th>\n",
       "      <th></th>\n",
       "      <th></th>\n",
       "      <th></th>\n",
       "      <th></th>\n",
       "      <th></th>\n",
       "      <th></th>\n",
       "      <th></th>\n",
       "      <th></th>\n",
       "      <th></th>\n",
       "      <th></th>\n",
       "      <th></th>\n",
       "      <th></th>\n",
       "      <th></th>\n",
       "      <th></th>\n",
       "      <th></th>\n",
       "      <th></th>\n",
       "      <th></th>\n",
       "      <th></th>\n",
       "      <th></th>\n",
       "      <th></th>\n",
       "      <th></th>\n",
       "      <th></th>\n",
       "      <th></th>\n",
       "      <th></th>\n",
       "      <th></th>\n",
       "      <th></th>\n",
       "      <th></th>\n",
       "      <th></th>\n",
       "      <th></th>\n",
       "      <th></th>\n",
       "      <th></th>\n",
       "      <th></th>\n",
       "      <th></th>\n",
       "      <th></th>\n",
       "      <th></th>\n",
       "      <th></th>\n",
       "      <th></th>\n",
       "      <th></th>\n",
       "      <th></th>\n",
       "      <th></th>\n",
       "      <th></th>\n",
       "      <th></th>\n",
       "      <th></th>\n",
       "      <th></th>\n",
       "      <th></th>\n",
       "      <th></th>\n",
       "      <th></th>\n",
       "      <th></th>\n",
       "      <th></th>\n",
       "      <th></th>\n",
       "      <th></th>\n",
       "      <th></th>\n",
       "      <th></th>\n",
       "      <th></th>\n",
       "      <th></th>\n",
       "      <th></th>\n",
       "      <th></th>\n",
       "      <th></th>\n",
       "      <th></th>\n",
       "      <th></th>\n",
       "      <th></th>\n",
       "      <th></th>\n",
       "      <th></th>\n",
       "      <th></th>\n",
       "      <th></th>\n",
       "      <th></th>\n",
       "      <th></th>\n",
       "      <th></th>\n",
       "      <th></th>\n",
       "      <th></th>\n",
       "      <th></th>\n",
       "      <th></th>\n",
       "      <th></th>\n",
       "      <th></th>\n",
       "      <th></th>\n",
       "      <th></th>\n",
       "      <th></th>\n",
       "      <th></th>\n",
       "      <th></th>\n",
       "      <th></th>\n",
       "      <th></th>\n",
       "      <th></th>\n",
       "      <th></th>\n",
       "      <th></th>\n",
       "      <th></th>\n",
       "      <th></th>\n",
       "      <th></th>\n",
       "      <th></th>\n",
       "      <th></th>\n",
       "      <th></th>\n",
       "      <th></th>\n",
       "      <th></th>\n",
       "      <th></th>\n",
       "      <th></th>\n",
       "      <th></th>\n",
       "      <th></th>\n",
       "      <th></th>\n",
       "      <th></th>\n",
       "      <th></th>\n",
       "      <th></th>\n",
       "      <th></th>\n",
       "      <th></th>\n",
       "      <th></th>\n",
       "      <th></th>\n",
       "      <th></th>\n",
       "      <th></th>\n",
       "      <th></th>\n",
       "      <th></th>\n",
       "      <th></th>\n",
       "      <th></th>\n",
       "      <th></th>\n",
       "      <th></th>\n",
       "      <th></th>\n",
       "      <th></th>\n",
       "      <th></th>\n",
       "      <th></th>\n",
       "      <th></th>\n",
       "      <th></th>\n",
       "      <th></th>\n",
       "      <th></th>\n",
       "      <th></th>\n",
       "      <th></th>\n",
       "      <th></th>\n",
       "      <th></th>\n",
       "      <th></th>\n",
       "      <th></th>\n",
       "      <th></th>\n",
       "      <th></th>\n",
       "      <th></th>\n",
       "      <th></th>\n",
       "      <th></th>\n",
       "      <th></th>\n",
       "      <th></th>\n",
       "      <th></th>\n",
       "      <th></th>\n",
       "      <th></th>\n",
       "      <th></th>\n",
       "      <th></th>\n",
       "      <th></th>\n",
       "      <th></th>\n",
       "      <th></th>\n",
       "      <th></th>\n",
       "      <th></th>\n",
       "      <th></th>\n",
       "      <th></th>\n",
       "      <th></th>\n",
       "      <th></th>\n",
       "      <th></th>\n",
       "      <th></th>\n",
       "      <th></th>\n",
       "      <th></th>\n",
       "      <th></th>\n",
       "      <th></th>\n",
       "      <th></th>\n",
       "      <th></th>\n",
       "      <th></th>\n",
       "      <th></th>\n",
       "      <th></th>\n",
       "      <th></th>\n",
       "      <th></th>\n",
       "      <th></th>\n",
       "      <th></th>\n",
       "      <th></th>\n",
       "      <th></th>\n",
       "      <th></th>\n",
       "      <th></th>\n",
       "      <th></th>\n",
       "      <th></th>\n",
       "      <th></th>\n",
       "      <th></th>\n",
       "      <th></th>\n",
       "      <th></th>\n",
       "      <th></th>\n",
       "      <th></th>\n",
       "      <th></th>\n",
       "      <th></th>\n",
       "      <th></th>\n",
       "      <th></th>\n",
       "      <th></th>\n",
       "      <th></th>\n",
       "      <th></th>\n",
       "      <th></th>\n",
       "      <th></th>\n",
       "      <th></th>\n",
       "      <th></th>\n",
       "      <th></th>\n",
       "      <th></th>\n",
       "      <th></th>\n",
       "      <th></th>\n",
       "      <th></th>\n",
       "      <th></th>\n",
       "      <th></th>\n",
       "      <th></th>\n",
       "      <th></th>\n",
       "      <th></th>\n",
       "      <th></th>\n",
       "      <th></th>\n",
       "      <th></th>\n",
       "      <th></th>\n",
       "      <th></th>\n",
       "      <th></th>\n",
       "      <th></th>\n",
       "      <th></th>\n",
       "      <th></th>\n",
       "      <th></th>\n",
       "      <th></th>\n",
       "      <th></th>\n",
       "      <th></th>\n",
       "      <th></th>\n",
       "      <th></th>\n",
       "      <th></th>\n",
       "      <th></th>\n",
       "      <th></th>\n",
       "      <th></th>\n",
       "      <th></th>\n",
       "      <th></th>\n",
       "      <th></th>\n",
       "      <th></th>\n",
       "      <th></th>\n",
       "      <th></th>\n",
       "      <th></th>\n",
       "      <th></th>\n",
       "      <th></th>\n",
       "      <th></th>\n",
       "      <th></th>\n",
       "      <th></th>\n",
       "      <th></th>\n",
       "      <th></th>\n",
       "      <th></th>\n",
       "      <th></th>\n",
       "      <th></th>\n",
       "      <th></th>\n",
       "      <th></th>\n",
       "      <th></th>\n",
       "      <th></th>\n",
       "      <th></th>\n",
       "      <th></th>\n",
       "      <th></th>\n",
       "      <th></th>\n",
       "      <th></th>\n",
       "      <th></th>\n",
       "      <th></th>\n",
       "      <th></th>\n",
       "      <th></th>\n",
       "      <th></th>\n",
       "      <th></th>\n",
       "      <th></th>\n",
       "      <th></th>\n",
       "      <th></th>\n",
       "      <th></th>\n",
       "      <th></th>\n",
       "      <th></th>\n",
       "      <th></th>\n",
       "      <th></th>\n",
       "      <th></th>\n",
       "      <th></th>\n",
       "      <th></th>\n",
       "      <th></th>\n",
       "      <th></th>\n",
       "      <th></th>\n",
       "      <th></th>\n",
       "      <th></th>\n",
       "      <th></th>\n",
       "      <th></th>\n",
       "      <th></th>\n",
       "      <th></th>\n",
       "      <th></th>\n",
       "      <th></th>\n",
       "      <th></th>\n",
       "      <th></th>\n",
       "      <th></th>\n",
       "      <th></th>\n",
       "      <th></th>\n",
       "      <th></th>\n",
       "      <th></th>\n",
       "      <th></th>\n",
       "      <th></th>\n",
       "      <th></th>\n",
       "      <th></th>\n",
       "      <th></th>\n",
       "      <th></th>\n",
       "      <th></th>\n",
       "      <th></th>\n",
       "      <th></th>\n",
       "      <th></th>\n",
       "      <th></th>\n",
       "      <th></th>\n",
       "      <th></th>\n",
       "      <th></th>\n",
       "      <th></th>\n",
       "      <th></th>\n",
       "      <th></th>\n",
       "      <th></th>\n",
       "      <th></th>\n",
       "      <th></th>\n",
       "      <th></th>\n",
       "      <th></th>\n",
       "      <th></th>\n",
       "      <th></th>\n",
       "      <th></th>\n",
       "      <th></th>\n",
       "      <th></th>\n",
       "      <th></th>\n",
       "      <th></th>\n",
       "      <th></th>\n",
       "      <th></th>\n",
       "      <th></th>\n",
       "      <th></th>\n",
       "      <th></th>\n",
       "      <th></th>\n",
       "      <th></th>\n",
       "      <th></th>\n",
       "      <th></th>\n",
       "      <th></th>\n",
       "      <th></th>\n",
       "      <th></th>\n",
       "      <th></th>\n",
       "      <th></th>\n",
       "      <th></th>\n",
       "      <th></th>\n",
       "      <th></th>\n",
       "      <th></th>\n",
       "      <th></th>\n",
       "      <th></th>\n",
       "      <th></th>\n",
       "      <th></th>\n",
       "      <th></th>\n",
       "      <th></th>\n",
       "      <th></th>\n",
       "      <th></th>\n",
       "      <th></th>\n",
       "      <th></th>\n",
       "      <th></th>\n",
       "      <th></th>\n",
       "      <th></th>\n",
       "      <th></th>\n",
       "      <th></th>\n",
       "      <th></th>\n",
       "      <th></th>\n",
       "      <th></th>\n",
       "      <th></th>\n",
       "      <th></th>\n",
       "      <th></th>\n",
       "      <th></th>\n",
       "      <th></th>\n",
       "      <th></th>\n",
       "      <th></th>\n",
       "      <th></th>\n",
       "      <th></th>\n",
       "      <th></th>\n",
       "      <th></th>\n",
       "      <th></th>\n",
       "      <th></th>\n",
       "      <th></th>\n",
       "      <th></th>\n",
       "      <th></th>\n",
       "      <th></th>\n",
       "      <th></th>\n",
       "      <th></th>\n",
       "      <th></th>\n",
       "      <th></th>\n",
       "      <th></th>\n",
       "      <th></th>\n",
       "      <th></th>\n",
       "      <th></th>\n",
       "      <th></th>\n",
       "      <th></th>\n",
       "      <th></th>\n",
       "      <th></th>\n",
       "      <th></th>\n",
       "      <th></th>\n",
       "      <th></th>\n",
       "      <th></th>\n",
       "      <th></th>\n",
       "      <th></th>\n",
       "      <th></th>\n",
       "      <th></th>\n",
       "      <th></th>\n",
       "      <th></th>\n",
       "      <th></th>\n",
       "      <th></th>\n",
       "      <th></th>\n",
       "      <th></th>\n",
       "      <th></th>\n",
       "      <th></th>\n",
       "      <th></th>\n",
       "      <th></th>\n",
       "      <th></th>\n",
       "      <th></th>\n",
       "      <th></th>\n",
       "      <th></th>\n",
       "      <th></th>\n",
       "      <th></th>\n",
       "      <th></th>\n",
       "      <th></th>\n",
       "      <th></th>\n",
       "      <th></th>\n",
       "      <th></th>\n",
       "      <th></th>\n",
       "      <th></th>\n",
       "      <th></th>\n",
       "      <th></th>\n",
       "      <th></th>\n",
       "      <th></th>\n",
       "      <th></th>\n",
       "      <th></th>\n",
       "      <th></th>\n",
       "      <th></th>\n",
       "      <th></th>\n",
       "      <th></th>\n",
       "      <th></th>\n",
       "      <th></th>\n",
       "      <th></th>\n",
       "      <th></th>\n",
       "      <th></th>\n",
       "      <th></th>\n",
       "      <th></th>\n",
       "      <th></th>\n",
       "      <th></th>\n",
       "      <th></th>\n",
       "      <th></th>\n",
       "      <th></th>\n",
       "      <th></th>\n",
       "      <th></th>\n",
       "      <th></th>\n",
       "      <th></th>\n",
       "      <th></th>\n",
       "      <th></th>\n",
       "      <th></th>\n",
       "      <th></th>\n",
       "      <th></th>\n",
       "      <th></th>\n",
       "      <th></th>\n",
       "      <th></th>\n",
       "      <th></th>\n",
       "      <th></th>\n",
       "      <th></th>\n",
       "      <th></th>\n",
       "      <th></th>\n",
       "      <th></th>\n",
       "      <th></th>\n",
       "      <th></th>\n",
       "      <th></th>\n",
       "      <th></th>\n",
       "      <th></th>\n",
       "      <th></th>\n",
       "      <th></th>\n",
       "      <th></th>\n",
       "      <th></th>\n",
       "      <th></th>\n",
       "      <th></th>\n",
       "      <th></th>\n",
       "      <th></th>\n",
       "      <th></th>\n",
       "      <th></th>\n",
       "      <th></th>\n",
       "      <th></th>\n",
       "      <th></th>\n",
       "      <th></th>\n",
       "      <th></th>\n",
       "      <th></th>\n",
       "      <th></th>\n",
       "      <th></th>\n",
       "      <th></th>\n",
       "      <th></th>\n",
       "      <th></th>\n",
       "      <th></th>\n",
       "      <th></th>\n",
       "      <th></th>\n",
       "      <th></th>\n",
       "      <th></th>\n",
       "      <th></th>\n",
       "      <th></th>\n",
       "      <th></th>\n",
       "      <th></th>\n",
       "      <th></th>\n",
       "      <th></th>\n",
       "      <th></th>\n",
       "      <th></th>\n",
       "      <th></th>\n",
       "      <th></th>\n",
       "      <th></th>\n",
       "      <th></th>\n",
       "      <th></th>\n",
       "      <th></th>\n",
       "      <th></th>\n",
       "      <th></th>\n",
       "      <th></th>\n",
       "      <th></th>\n",
       "      <th></th>\n",
       "      <th></th>\n",
       "      <th></th>\n",
       "      <th></th>\n",
       "      <th></th>\n",
       "      <th></th>\n",
       "      <th></th>\n",
       "      <th></th>\n",
       "      <th></th>\n",
       "      <th></th>\n",
       "      <th></th>\n",
       "      <th></th>\n",
       "      <th></th>\n",
       "      <th></th>\n",
       "      <th></th>\n",
       "      <th></th>\n",
       "      <th></th>\n",
       "      <th></th>\n",
       "      <th></th>\n",
       "      <th></th>\n",
       "      <th></th>\n",
       "      <th></th>\n",
       "      <th></th>\n",
       "      <th></th>\n",
       "      <th></th>\n",
       "      <th></th>\n",
       "      <th></th>\n",
       "      <th></th>\n",
       "      <th></th>\n",
       "      <th></th>\n",
       "      <th></th>\n",
       "      <th></th>\n",
       "      <th></th>\n",
       "      <th></th>\n",
       "      <th></th>\n",
       "      <th></th>\n",
       "      <th></th>\n",
       "      <th></th>\n",
       "      <th></th>\n",
       "      <th></th>\n",
       "      <th></th>\n",
       "      <th></th>\n",
       "      <th></th>\n",
       "      <th></th>\n",
       "      <th></th>\n",
       "      <th></th>\n",
       "      <th></th>\n",
       "      <th></th>\n",
       "      <th></th>\n",
       "      <th></th>\n",
       "      <th></th>\n",
       "      <th></th>\n",
       "      <th></th>\n",
       "      <th></th>\n",
       "      <th></th>\n",
       "      <th></th>\n",
       "      <th></th>\n",
       "      <th></th>\n",
       "      <th></th>\n",
       "      <th></th>\n",
       "      <th></th>\n",
       "      <th></th>\n",
       "      <th></th>\n",
       "      <th></th>\n",
       "      <th></th>\n",
       "      <th></th>\n",
       "      <th></th>\n",
       "      <th></th>\n",
       "      <th></th>\n",
       "      <th></th>\n",
       "      <th></th>\n",
       "      <th></th>\n",
       "      <th></th>\n",
       "      <th></th>\n",
       "      <th></th>\n",
       "      <th></th>\n",
       "      <th></th>\n",
       "      <th></th>\n",
       "      <th></th>\n",
       "      <th></th>\n",
       "      <th></th>\n",
       "      <th></th>\n",
       "      <th></th>\n",
       "      <th></th>\n",
       "      <th></th>\n",
       "      <th></th>\n",
       "      <th></th>\n",
       "      <th></th>\n",
       "      <th></th>\n",
       "      <th></th>\n",
       "      <th></th>\n",
       "      <th></th>\n",
       "      <th></th>\n",
       "      <th></th>\n",
       "      <th></th>\n",
       "      <th></th>\n",
       "      <th></th>\n",
       "      <th></th>\n",
       "      <th></th>\n",
       "      <th></th>\n",
       "      <th></th>\n",
       "      <th></th>\n",
       "      <th></th>\n",
       "      <th></th>\n",
       "      <th></th>\n",
       "      <th></th>\n",
       "      <th></th>\n",
       "      <th></th>\n",
       "      <th></th>\n",
       "      <th></th>\n",
       "      <th></th>\n",
       "      <th></th>\n",
       "      <th></th>\n",
       "      <th></th>\n",
       "      <th></th>\n",
       "      <th></th>\n",
       "      <th></th>\n",
       "      <th></th>\n",
       "      <th></th>\n",
       "      <th></th>\n",
       "      <th></th>\n",
       "      <th></th>\n",
       "      <th></th>\n",
       "      <th></th>\n",
       "      <th></th>\n",
       "      <th></th>\n",
       "      <th></th>\n",
       "      <th></th>\n",
       "      <th></th>\n",
       "      <th></th>\n",
       "      <th></th>\n",
       "      <th></th>\n",
       "      <th></th>\n",
       "      <th></th>\n",
       "      <th></th>\n",
       "      <th></th>\n",
       "      <th></th>\n",
       "      <th></th>\n",
       "      <th></th>\n",
       "      <th></th>\n",
       "      <th></th>\n",
       "      <th></th>\n",
       "      <th></th>\n",
       "      <th></th>\n",
       "      <th></th>\n",
       "      <th></th>\n",
       "      <th></th>\n",
       "      <th></th>\n",
       "      <th></th>\n",
       "      <th></th>\n",
       "      <th></th>\n",
       "      <th></th>\n",
       "      <th></th>\n",
       "      <th></th>\n",
       "      <th></th>\n",
       "      <th></th>\n",
       "      <th></th>\n",
       "      <th></th>\n",
       "      <th></th>\n",
       "      <th></th>\n",
       "      <th></th>\n",
       "      <th></th>\n",
       "      <th></th>\n",
       "      <th></th>\n",
       "      <th></th>\n",
       "      <th></th>\n",
       "      <th></th>\n",
       "      <th></th>\n",
       "      <th></th>\n",
       "      <th></th>\n",
       "      <th></th>\n",
       "      <th></th>\n",
       "      <th></th>\n",
       "      <th></th>\n",
       "      <th></th>\n",
       "      <th></th>\n",
       "      <th></th>\n",
       "      <th></th>\n",
       "      <th></th>\n",
       "      <th></th>\n",
       "      <th></th>\n",
       "      <th></th>\n",
       "      <th></th>\n",
       "      <th></th>\n",
       "      <th></th>\n",
       "      <th></th>\n",
       "      <th></th>\n",
       "      <th></th>\n",
       "      <th></th>\n",
       "      <th></th>\n",
       "      <th></th>\n",
       "      <th></th>\n",
       "      <th></th>\n",
       "      <th></th>\n",
       "      <th></th>\n",
       "      <th></th>\n",
       "      <th></th>\n",
       "      <th></th>\n",
       "      <th></th>\n",
       "      <th></th>\n",
       "      <th></th>\n",
       "      <th></th>\n",
       "      <th></th>\n",
       "      <th></th>\n",
       "      <th></th>\n",
       "      <th></th>\n",
       "      <th></th>\n",
       "      <th></th>\n",
       "      <th></th>\n",
       "      <th></th>\n",
       "      <th></th>\n",
       "      <th></th>\n",
       "      <th></th>\n",
       "      <th></th>\n",
       "      <th></th>\n",
       "      <th></th>\n",
       "      <th></th>\n",
       "      <th></th>\n",
       "      <th></th>\n",
       "      <th></th>\n",
       "      <th></th>\n",
       "      <th></th>\n",
       "      <th></th>\n",
       "      <th></th>\n",
       "      <th></th>\n",
       "      <th></th>\n",
       "      <th></th>\n",
       "      <th></th>\n",
       "      <th></th>\n",
       "      <th></th>\n",
       "      <th></th>\n",
       "      <th></th>\n",
       "      <th></th>\n",
       "      <th></th>\n",
       "      <th></th>\n",
       "      <th></th>\n",
       "      <th></th>\n",
       "      <th></th>\n",
       "      <th></th>\n",
       "      <th></th>\n",
       "      <th></th>\n",
       "      <th></th>\n",
       "      <th></th>\n",
       "      <th></th>\n",
       "      <th></th>\n",
       "      <th></th>\n",
       "      <th></th>\n",
       "      <th></th>\n",
       "      <th></th>\n",
       "      <th></th>\n",
       "      <th></th>\n",
       "      <th></th>\n",
       "      <th></th>\n",
       "      <th></th>\n",
       "      <th></th>\n",
       "      <th></th>\n",
       "      <th></th>\n",
       "      <th></th>\n",
       "      <th></th>\n",
       "      <th></th>\n",
       "      <th></th>\n",
       "      <th></th>\n",
       "      <th></th>\n",
       "      <th></th>\n",
       "      <th></th>\n",
       "      <th></th>\n",
       "      <th></th>\n",
       "      <th></th>\n",
       "      <th></th>\n",
       "      <th></th>\n",
       "      <th></th>\n",
       "      <th></th>\n",
       "      <th></th>\n",
       "      <th></th>\n",
       "      <th></th>\n",
       "      <th></th>\n",
       "      <th></th>\n",
       "      <th></th>\n",
       "      <th></th>\n",
       "      <th></th>\n",
       "      <th></th>\n",
       "      <th></th>\n",
       "      <th></th>\n",
       "      <th></th>\n",
       "      <th></th>\n",
       "      <th></th>\n",
       "      <th></th>\n",
       "      <th></th>\n",
       "      <th></th>\n",
       "      <th></th>\n",
       "      <th></th>\n",
       "      <th></th>\n",
       "      <th></th>\n",
       "      <th></th>\n",
       "      <th></th>\n",
       "      <th></th>\n",
       "      <th></th>\n",
       "      <th></th>\n",
       "      <th></th>\n",
       "      <th></th>\n",
       "      <th></th>\n",
       "      <th></th>\n",
       "      <th></th>\n",
       "      <th></th>\n",
       "      <th></th>\n",
       "      <th></th>\n",
       "      <th></th>\n",
       "      <th></th>\n",
       "      <th></th>\n",
       "      <th></th>\n",
       "      <th></th>\n",
       "      <th></th>\n",
       "      <th></th>\n",
       "      <th></th>\n",
       "      <th></th>\n",
       "      <th></th>\n",
       "      <th></th>\n",
       "      <th></th>\n",
       "      <th></th>\n",
       "      <th></th>\n",
       "      <th></th>\n",
       "      <th></th>\n",
       "      <th></th>\n",
       "      <th></th>\n",
       "      <th></th>\n",
       "      <th></th>\n",
       "      <th></th>\n",
       "      <th></th>\n",
       "      <th></th>\n",
       "      <th></th>\n",
       "      <th></th>\n",
       "      <th></th>\n",
       "      <th></th>\n",
       "      <th></th>\n",
       "      <th></th>\n",
       "      <th></th>\n",
       "      <th></th>\n",
       "      <th></th>\n",
       "      <th></th>\n",
       "      <th></th>\n",
       "      <th></th>\n",
       "      <th></th>\n",
       "      <th></th>\n",
       "      <th></th>\n",
       "      <th></th>\n",
       "      <th></th>\n",
       "      <th></th>\n",
       "      <th></th>\n",
       "      <th></th>\n",
       "      <th></th>\n",
       "      <th></th>\n",
       "      <th></th>\n",
       "      <th></th>\n",
       "      <th></th>\n",
       "      <th></th>\n",
       "      <th></th>\n",
       "      <th></th>\n",
       "      <th></th>\n",
       "      <th></th>\n",
       "      <th></th>\n",
       "      <th></th>\n",
       "      <th></th>\n",
       "      <th></th>\n",
       "      <th></th>\n",
       "      <th></th>\n",
       "      <th></th>\n",
       "      <th></th>\n",
       "      <th></th>\n",
       "      <th></th>\n",
       "      <th></th>\n",
       "      <th></th>\n",
       "      <th></th>\n",
       "      <th></th>\n",
       "      <th></th>\n",
       "      <th></th>\n",
       "      <th></th>\n",
       "      <th></th>\n",
       "      <th></th>\n",
       "      <th></th>\n",
       "      <th></th>\n",
       "      <th></th>\n",
       "      <th></th>\n",
       "      <th></th>\n",
       "      <th></th>\n",
       "      <th></th>\n",
       "      <th></th>\n",
       "      <th></th>\n",
       "      <th></th>\n",
       "      <th></th>\n",
       "      <th></th>\n",
       "      <th></th>\n",
       "      <th></th>\n",
       "      <th></th>\n",
       "      <th></th>\n",
       "      <th></th>\n",
       "      <th></th>\n",
       "      <th></th>\n",
       "      <th></th>\n",
       "      <th></th>\n",
       "      <th></th>\n",
       "      <th></th>\n",
       "      <th></th>\n",
       "      <th></th>\n",
       "      <th></th>\n",
       "      <th></th>\n",
       "      <th></th>\n",
       "      <th></th>\n",
       "      <th></th>\n",
       "      <th></th>\n",
       "      <th></th>\n",
       "      <th></th>\n",
       "      <th></th>\n",
       "      <th></th>\n",
       "      <th></th>\n",
       "      <th></th>\n",
       "      <th></th>\n",
       "      <th></th>\n",
       "      <th></th>\n",
       "      <th></th>\n",
       "      <th></th>\n",
       "      <th></th>\n",
       "      <th></th>\n",
       "      <th></th>\n",
       "      <th></th>\n",
       "      <th></th>\n",
       "      <th></th>\n",
       "      <th></th>\n",
       "      <th></th>\n",
       "      <th></th>\n",
       "      <th></th>\n",
       "      <th></th>\n",
       "      <th></th>\n",
       "      <th></th>\n",
       "      <th></th>\n",
       "      <th></th>\n",
       "      <th></th>\n",
       "      <th></th>\n",
       "      <th></th>\n",
       "      <th></th>\n",
       "      <th></th>\n",
       "      <th></th>\n",
       "      <th></th>\n",
       "      <th></th>\n",
       "      <th></th>\n",
       "      <th></th>\n",
       "      <th></th>\n",
       "      <th></th>\n",
       "      <th></th>\n",
       "      <th></th>\n",
       "      <th></th>\n",
       "      <th></th>\n",
       "      <th></th>\n",
       "      <th></th>\n",
       "      <th></th>\n",
       "      <th></th>\n",
       "      <th></th>\n",
       "      <th></th>\n",
       "      <th></th>\n",
       "      <th></th>\n",
       "      <th></th>\n",
       "      <th></th>\n",
       "      <th></th>\n",
       "      <th></th>\n",
       "      <th></th>\n",
       "      <th></th>\n",
       "      <th></th>\n",
       "      <th></th>\n",
       "      <th></th>\n",
       "      <th></th>\n",
       "      <th></th>\n",
       "      <th></th>\n",
       "      <th></th>\n",
       "      <th></th>\n",
       "      <th></th>\n",
       "      <th></th>\n",
       "      <th></th>\n",
       "      <th></th>\n",
       "      <th></th>\n",
       "      <th></th>\n",
       "      <th></th>\n",
       "      <th></th>\n",
       "      <th></th>\n",
       "      <th></th>\n",
       "      <th></th>\n",
       "      <th></th>\n",
       "      <th></th>\n",
       "      <th></th>\n",
       "      <th></th>\n",
       "      <th></th>\n",
       "      <th></th>\n",
       "      <th></th>\n",
       "      <th></th>\n",
       "      <th></th>\n",
       "      <th></th>\n",
       "      <th></th>\n",
       "      <th></th>\n",
       "      <th></th>\n",
       "      <th></th>\n",
       "      <th></th>\n",
       "      <th></th>\n",
       "      <th></th>\n",
       "      <th></th>\n",
       "      <th></th>\n",
       "      <th></th>\n",
       "      <th></th>\n",
       "      <th></th>\n",
       "      <th></th>\n",
       "      <th></th>\n",
       "      <th></th>\n",
       "      <th></th>\n",
       "      <th></th>\n",
       "      <th></th>\n",
       "      <th></th>\n",
       "      <th></th>\n",
       "      <th></th>\n",
       "      <th></th>\n",
       "      <th></th>\n",
       "      <th></th>\n",
       "      <th></th>\n",
       "      <th></th>\n",
       "      <th></th>\n",
       "      <th></th>\n",
       "      <th></th>\n",
       "      <th></th>\n",
       "      <th></th>\n",
       "      <th></th>\n",
       "      <th></th>\n",
       "      <th></th>\n",
       "      <th></th>\n",
       "      <th></th>\n",
       "      <th></th>\n",
       "      <th></th>\n",
       "      <th></th>\n",
       "      <th></th>\n",
       "      <th></th>\n",
       "      <th></th>\n",
       "      <th></th>\n",
       "      <th></th>\n",
       "      <th></th>\n",
       "      <th></th>\n",
       "      <th></th>\n",
       "      <th></th>\n",
       "      <th></th>\n",
       "      <th></th>\n",
       "      <th></th>\n",
       "      <th></th>\n",
       "      <th></th>\n",
       "      <th></th>\n",
       "      <th></th>\n",
       "      <th></th>\n",
       "      <th></th>\n",
       "      <th></th>\n",
       "      <th></th>\n",
       "      <th></th>\n",
       "      <th></th>\n",
       "      <th></th>\n",
       "      <th></th>\n",
       "      <th></th>\n",
       "      <th></th>\n",
       "      <th></th>\n",
       "      <th></th>\n",
       "      <th></th>\n",
       "      <th></th>\n",
       "      <th></th>\n",
       "      <th></th>\n",
       "      <th></th>\n",
       "      <th></th>\n",
       "      <th></th>\n",
       "      <th></th>\n",
       "      <th></th>\n",
       "      <th></th>\n",
       "      <th></th>\n",
       "      <th></th>\n",
       "      <th></th>\n",
       "      <th></th>\n",
       "      <th></th>\n",
       "      <th></th>\n",
       "      <th></th>\n",
       "      <th></th>\n",
       "      <th></th>\n",
       "      <th></th>\n",
       "      <th></th>\n",
       "      <th></th>\n",
       "      <th></th>\n",
       "      <th></th>\n",
       "      <th></th>\n",
       "      <th></th>\n",
       "      <th></th>\n",
       "      <th></th>\n",
       "      <th></th>\n",
       "      <th></th>\n",
       "      <th></th>\n",
       "      <th></th>\n",
       "      <th></th>\n",
       "      <th></th>\n",
       "      <th></th>\n",
       "      <th></th>\n",
       "      <th></th>\n",
       "      <th></th>\n",
       "      <th></th>\n",
       "      <th></th>\n",
       "      <th></th>\n",
       "      <th></th>\n",
       "      <th></th>\n",
       "      <th></th>\n",
       "      <th></th>\n",
       "      <th></th>\n",
       "      <th></th>\n",
       "      <th></th>\n",
       "      <th></th>\n",
       "      <th></th>\n",
       "      <th></th>\n",
       "      <th></th>\n",
       "      <th></th>\n",
       "      <th></th>\n",
       "      <th></th>\n",
       "      <th></th>\n",
       "      <th></th>\n",
       "      <th></th>\n",
       "      <th></th>\n",
       "      <th></th>\n",
       "      <th></th>\n",
       "      <th></th>\n",
       "      <th></th>\n",
       "      <th></th>\n",
       "      <th></th>\n",
       "      <th></th>\n",
       "      <th></th>\n",
       "      <th></th>\n",
       "      <th></th>\n",
       "      <th></th>\n",
       "      <th></th>\n",
       "      <th></th>\n",
       "      <th></th>\n",
       "      <th></th>\n",
       "      <th></th>\n",
       "      <th></th>\n",
       "      <th></th>\n",
       "      <th></th>\n",
       "      <th></th>\n",
       "      <th></th>\n",
       "      <th></th>\n",
       "      <th></th>\n",
       "      <th></th>\n",
       "      <th></th>\n",
       "      <th></th>\n",
       "      <th></th>\n",
       "      <th></th>\n",
       "      <th></th>\n",
       "      <th></th>\n",
       "      <th></th>\n",
       "      <th></th>\n",
       "      <th></th>\n",
       "      <th></th>\n",
       "      <th></th>\n",
       "      <th></th>\n",
       "      <th></th>\n",
       "      <th></th>\n",
       "      <th></th>\n",
       "      <th></th>\n",
       "      <th></th>\n",
       "      <th></th>\n",
       "      <th></th>\n",
       "      <th></th>\n",
       "      <th></th>\n",
       "      <th></th>\n",
       "      <th></th>\n",
       "      <th></th>\n",
       "      <th></th>\n",
       "      <th></th>\n",
       "      <th></th>\n",
       "      <th></th>\n",
       "      <th></th>\n",
       "      <th></th>\n",
       "      <th></th>\n",
       "      <th></th>\n",
       "      <th></th>\n",
       "      <th></th>\n",
       "      <th></th>\n",
       "      <th></th>\n",
       "      <th></th>\n",
       "      <th></th>\n",
       "      <th></th>\n",
       "      <th></th>\n",
       "      <th></th>\n",
       "      <th></th>\n",
       "      <th></th>\n",
       "      <th></th>\n",
       "      <th></th>\n",
       "      <th></th>\n",
       "      <th></th>\n",
       "      <th></th>\n",
       "      <th></th>\n",
       "      <th></th>\n",
       "      <th></th>\n",
       "      <th></th>\n",
       "      <th></th>\n",
       "      <th></th>\n",
       "      <th></th>\n",
       "      <th></th>\n",
       "      <th></th>\n",
       "      <th></th>\n",
       "      <th></th>\n",
       "      <th></th>\n",
       "      <th></th>\n",
       "      <th></th>\n",
       "      <th></th>\n",
       "      <th></th>\n",
       "      <th></th>\n",
       "      <th></th>\n",
       "      <th></th>\n",
       "      <th></th>\n",
       "      <th></th>\n",
       "      <th></th>\n",
       "      <th></th>\n",
       "      <th></th>\n",
       "      <th></th>\n",
       "      <th></th>\n",
       "      <th></th>\n",
       "      <th></th>\n",
       "      <th></th>\n",
       "      <th></th>\n",
       "      <th></th>\n",
       "      <th></th>\n",
       "      <th></th>\n",
       "      <th></th>\n",
       "      <th></th>\n",
       "      <th></th>\n",
       "      <th></th>\n",
       "      <th></th>\n",
       "      <th></th>\n",
       "      <th></th>\n",
       "      <th></th>\n",
       "      <th></th>\n",
       "      <th></th>\n",
       "      <th></th>\n",
       "      <th></th>\n",
       "      <th></th>\n",
       "      <th></th>\n",
       "      <th></th>\n",
       "      <th></th>\n",
       "      <th></th>\n",
       "      <th></th>\n",
       "      <th></th>\n",
       "      <th></th>\n",
       "      <th></th>\n",
       "      <th></th>\n",
       "      <th></th>\n",
       "      <th></th>\n",
       "      <th></th>\n",
       "      <th></th>\n",
       "      <th></th>\n",
       "      <th></th>\n",
       "      <th></th>\n",
       "      <th></th>\n",
       "      <th></th>\n",
       "      <th></th>\n",
       "      <th></th>\n",
       "      <th></th>\n",
       "      <th></th>\n",
       "      <th></th>\n",
       "      <th></th>\n",
       "      <th></th>\n",
       "      <th></th>\n",
       "      <th></th>\n",
       "      <th></th>\n",
       "      <th></th>\n",
       "      <th></th>\n",
       "      <th></th>\n",
       "      <th></th>\n",
       "      <th></th>\n",
       "      <th></th>\n",
       "      <th></th>\n",
       "      <th></th>\n",
       "      <th></th>\n",
       "      <th></th>\n",
       "      <th></th>\n",
       "      <th></th>\n",
       "      <th></th>\n",
       "      <th></th>\n",
       "      <th></th>\n",
       "      <th></th>\n",
       "      <th></th>\n",
       "      <th></th>\n",
       "      <th></th>\n",
       "      <th></th>\n",
       "      <th></th>\n",
       "      <th></th>\n",
       "      <th></th>\n",
       "      <th></th>\n",
       "      <th></th>\n",
       "      <th></th>\n",
       "      <th></th>\n",
       "      <th></th>\n",
       "      <th></th>\n",
       "      <th></th>\n",
       "      <th></th>\n",
       "      <th></th>\n",
       "      <th></th>\n",
       "      <th></th>\n",
       "      <th></th>\n",
       "      <th></th>\n",
       "      <th></th>\n",
       "      <th></th>\n",
       "      <th></th>\n",
       "      <th></th>\n",
       "      <th></th>\n",
       "      <th></th>\n",
       "      <th></th>\n",
       "      <th></th>\n",
       "      <th></th>\n",
       "      <th></th>\n",
       "      <th></th>\n",
       "      <th></th>\n",
       "      <th></th>\n",
       "      <th></th>\n",
       "      <th></th>\n",
       "      <th></th>\n",
       "      <th></th>\n",
       "      <th></th>\n",
       "      <th></th>\n",
       "      <th></th>\n",
       "      <th></th>\n",
       "      <th></th>\n",
       "      <th></th>\n",
       "      <th></th>\n",
       "      <th></th>\n",
       "      <th></th>\n",
       "      <th></th>\n",
       "      <th></th>\n",
       "      <th></th>\n",
       "      <th></th>\n",
       "      <th></th>\n",
       "      <th></th>\n",
       "      <th></th>\n",
       "      <th></th>\n",
       "      <th></th>\n",
       "      <th></th>\n",
       "      <th></th>\n",
       "      <th></th>\n",
       "      <th></th>\n",
       "      <th></th>\n",
       "      <th></th>\n",
       "      <th></th>\n",
       "      <th></th>\n",
       "      <th></th>\n",
       "      <th></th>\n",
       "      <th></th>\n",
       "      <th></th>\n",
       "      <th></th>\n",
       "      <th></th>\n",
       "      <th></th>\n",
       "      <th></th>\n",
       "      <th></th>\n",
       "      <th></th>\n",
       "      <th></th>\n",
       "      <th></th>\n",
       "      <th></th>\n",
       "      <th></th>\n",
       "      <th></th>\n",
       "      <th></th>\n",
       "      <th></th>\n",
       "      <th></th>\n",
       "      <th></th>\n",
       "      <th></th>\n",
       "      <th></th>\n",
       "      <th></th>\n",
       "      <th></th>\n",
       "      <th></th>\n",
       "      <th></th>\n",
       "      <th></th>\n",
       "      <th></th>\n",
       "      <th></th>\n",
       "      <th></th>\n",
       "      <th></th>\n",
       "      <th></th>\n",
       "      <th></th>\n",
       "      <th></th>\n",
       "      <th></th>\n",
       "      <th></th>\n",
       "      <th></th>\n",
       "      <th></th>\n",
       "      <th></th>\n",
       "      <th></th>\n",
       "      <th></th>\n",
       "      <th></th>\n",
       "      <th></th>\n",
       "      <th></th>\n",
       "      <th></th>\n",
       "      <th></th>\n",
       "      <th></th>\n",
       "      <th></th>\n",
       "      <th></th>\n",
       "      <th></th>\n",
       "      <th></th>\n",
       "      <th></th>\n",
       "      <th></th>\n",
       "      <th></th>\n",
       "      <th></th>\n",
       "      <th></th>\n",
       "      <th></th>\n",
       "      <th></th>\n",
       "      <th></th>\n",
       "      <th></th>\n",
       "      <th></th>\n",
       "      <th></th>\n",
       "      <th></th>\n",
       "      <th></th>\n",
       "      <th></th>\n",
       "      <th></th>\n",
       "      <th></th>\n",
       "      <th></th>\n",
       "      <th></th>\n",
       "      <th></th>\n",
       "      <th></th>\n",
       "      <th></th>\n",
       "      <th></th>\n",
       "      <th></th>\n",
       "    </tr>\n",
       "  </thead>\n",
       "  <tbody>\n",
       "    <tr>\n",
       "      <th>2025-06-24</th>\n",
       "      <td>117.6400</td>\n",
       "      <td>28.8000</td>\n",
       "      <td>11.3700</td>\n",
       "      <td>73.2500</td>\n",
       "      <td>200.3000</td>\n",
       "      <td>185.5500</td>\n",
       "      <td>2.4000</td>\n",
       "      <td>132.1500</td>\n",
       "      <td>138.0800</td>\n",
       "      <td>90.9700</td>\n",
       "      <td>10.7300</td>\n",
       "      <td>21.6900</td>\n",
       "      <td>112.3600</td>\n",
       "      <td>300.7200</td>\n",
       "      <td>126.5000</td>\n",
       "      <td>117.7000</td>\n",
       "      <td>60.1900</td>\n",
       "      <td>382.3400</td>\n",
       "      <td>74.9000</td>\n",
       "      <td>234.9800</td>\n",
       "      <td>52.9300</td>\n",
       "      <td>311.4000</td>\n",
       "      <td>304.1900</td>\n",
       "      <td>8.3900</td>\n",
       "      <td>96.3700</td>\n",
       "      <td>6.9000</td>\n",
       "      <td>120.4900</td>\n",
       "      <td>103.2800</td>\n",
       "      <td>116.0100</td>\n",
       "      <td>10.4700</td>\n",
       "      <td>126.1300</td>\n",
       "      <td>104.1600</td>\n",
       "      <td>65.6600</td>\n",
       "      <td>102.1400</td>\n",
       "      <td>98.8200</td>\n",
       "      <td>25.8500</td>\n",
       "      <td>9.3100</td>\n",
       "      <td>6.1700</td>\n",
       "      <td>85.4600</td>\n",
       "      <td>43.1000</td>\n",
       "      <td>80.2500</td>\n",
       "      <td>234.8900</td>\n",
       "      <td>198.0200</td>\n",
       "      <td>325.9800</td>\n",
       "      <td>80.0600</td>\n",
       "      <td>57.0900</td>\n",
       "      <td>60.1800</td>\n",
       "      <td>87.2100</td>\n",
       "      <td>32.5600</td>\n",
       "      <td>186.5800</td>\n",
       "      <td>49.5600</td>\n",
       "      <td>196.0500</td>\n",
       "      <td>143.6100</td>\n",
       "      <td>37.9500</td>\n",
       "      <td>325.0000</td>\n",
       "      <td>93.4300</td>\n",
       "      <td>111.9300</td>\n",
       "      <td>18.5000</td>\n",
       "      <td>180.1800</td>\n",
       "      <td>9.1800</td>\n",
       "      <td>138.4300</td>\n",
       "      <td>179.2400</td>\n",
       "      <td>277.4900</td>\n",
       "      <td>36.6700</td>\n",
       "      <td>48.6500</td>\n",
       "      <td>521.3400</td>\n",
       "      <td>223.9100</td>\n",
       "      <td>17.2500</td>\n",
       "      <td>212.7700</td>\n",
       "      <td>201.0300</td>\n",
       "      <td>94.9700</td>\n",
       "      <td>338.2700</td>\n",
       "      <td>360.6800</td>\n",
       "      <td>64.9400</td>\n",
       "      <td>18.1800</td>\n",
       "      <td>281.0000</td>\n",
       "      <td>50.7300</td>\n",
       "      <td>95.8000</td>\n",
       "      <td>139.9100</td>\n",
       "      <td>349.4800</td>\n",
       "      <td>232.5800</td>\n",
       "      <td>68.4500</td>\n",
       "      <td>42.3500</td>\n",
       "      <td>21.5200</td>\n",
       "      <td>75.3700</td>\n",
       "      <td>169.8200</td>\n",
       "      <td>568.0600</td>\n",
       "      <td>35.1300</td>\n",
       "      <td>70.3000</td>\n",
       "      <td>156.4100</td>\n",
       "      <td>40.8600</td>\n",
       "      <td>126.5500</td>\n",
       "      <td>37.6800</td>\n",
       "      <td>813.3600</td>\n",
       "      <td>179.1000</td>\n",
       "      <td>306.5900</td>\n",
       "      <td>53.2200</td>\n",
       "      <td>10.6000</td>\n",
       "      <td>84.1200</td>\n",
       "      <td>156.4400</td>\n",
       "      <td>153.8700</td>\n",
       "      <td>46.4000</td>\n",
       "      <td>5.4500</td>\n",
       "      <td>193.2800</td>\n",
       "      <td>206.1300</td>\n",
       "      <td>72.6400</td>\n",
       "      <td>77.2400</td>\n",
       "      <td>67.9400</td>\n",
       "      <td>263.7700</td>\n",
       "      <td>67.3000</td>\n",
       "      <td>13.4600</td>\n",
       "      <td>99.0400</td>\n",
       "      <td>90.2100</td>\n",
       "      <td>179.1300</td>\n",
       "      <td>158.3600</td>\n",
       "      <td>142.1800</td>\n",
       "      <td>794.2500</td>\n",
       "      <td>308.3800</td>\n",
       "      <td>102.9200</td>\n",
       "      <td>29.9900</td>\n",
       "      <td>284.4400</td>\n",
       "      <td>51.8200</td>\n",
       "      <td>70.5400</td>\n",
       "      <td>3577.5400</td>\n",
       "      <td>20.6800</td>\n",
       "      <td>200.9400</td>\n",
       "      <td>117.0100</td>\n",
       "      <td>46.6600</td>\n",
       "      <td>100.1600</td>\n",
       "      <td>56.9800</td>\n",
       "      <td>55.6800</td>\n",
       "      <td>217.7900</td>\n",
       "      <td>30.5900</td>\n",
       "      <td>53.9100</td>\n",
       "      <td>79.7000</td>\n",
       "      <td>3.0300</td>\n",
       "      <td>66.6200</td>\n",
       "      <td>66.5200</td>\n",
       "      <td>44.4500</td>\n",
       "      <td>59.9800</td>\n",
       "      <td>109.9000</td>\n",
       "      <td>15.3200</td>\n",
       "      <td>28.7100</td>\n",
       "      <td>68.8400</td>\n",
       "      <td>21.9800</td>\n",
       "      <td>29.5700</td>\n",
       "      <td>18.2600</td>\n",
       "      <td>171.5700</td>\n",
       "      <td>18.4500</td>\n",
       "      <td>23.2300</td>\n",
       "      <td>25.5600</td>\n",
       "      <td>26.8600</td>\n",
       "      <td>26.2900</td>\n",
       "      <td>123.5400</td>\n",
       "      <td>83.5900</td>\n",
       "      <td>47.2900</td>\n",
       "      <td>86.6800</td>\n",
       "      <td>126.3100</td>\n",
       "      <td>91.6600</td>\n",
       "      <td>20.7000</td>\n",
       "      <td>99.3600</td>\n",
       "      <td>52.6500</td>\n",
       "      <td>237.9100</td>\n",
       "      <td>33.1500</td>\n",
       "      <td>50.4200</td>\n",
       "      <td>57.4900</td>\n",
       "      <td>76.9500</td>\n",
       "      <td>114.0900</td>\n",
       "      <td>91.2000</td>\n",
       "      <td>116.7100</td>\n",
       "      <td>20.8400</td>\n",
       "      <td>5482.2300</td>\n",
       "      <td>37.9700</td>\n",
       "      <td>326.5900</td>\n",
       "      <td>118.8400</td>\n",
       "      <td>1004.9700</td>\n",
       "      <td>68.9900</td>\n",
       "      <td>247.2000</td>\n",
       "      <td>106.7300</td>\n",
       "      <td>54.6900</td>\n",
       "      <td>47.0300</td>\n",
       "      <td>61.3200</td>\n",
       "      <td>73.2800</td>\n",
       "      <td>49.4700</td>\n",
       "      <td>54.3500</td>\n",
       "      <td>61.4000</td>\n",
       "      <td>105.0900</td>\n",
       "      <td>95.5800</td>\n",
       "      <td>91.7400</td>\n",
       "      <td>112.6100</td>\n",
       "      <td>29.8300</td>\n",
       "      <td>128.2600</td>\n",
       "      <td>108.0600</td>\n",
       "      <td>241.8000</td>\n",
       "      <td>59.8000</td>\n",
       "      <td>3.7400</td>\n",
       "      <td>740085.0000</td>\n",
       "      <td>493.4800</td>\n",
       "      <td>39.6600</td>\n",
       "      <td>110.9500</td>\n",
       "      <td>70.3900</td>\n",
       "      <td>26.0700</td>\n",
       "      <td>24.4400</td>\n",
       "      <td>5.3900</td>\n",
       "      <td>20.6700</td>\n",
       "      <td>19.4900</td>\n",
       "      <td>19.6200</td>\n",
       "      <td>78.5400</td>\n",
       "      <td>104.1200</td>\n",
       "      <td>52.5500</td>\n",
       "      <td>48.5000</td>\n",
       "      <td>70.2100</td>\n",
       "      <td>31.4800</td>\n",
       "      <td>228.1000</td>\n",
       "      <td>33.4400</td>\n",
       "      <td>142.3100</td>\n",
       "      <td>144.0500</td>\n",
       "      <td>70.3400</td>\n",
       "      <td>31.3400</td>\n",
       "      <td>78.0000</td>\n",
       "      <td>18.0900</td>\n",
       "      <td>81.1400</td>\n",
       "      <td>452.1700</td>\n",
       "      <td>26.4400</td>\n",
       "      <td>21.4600</td>\n",
       "      <td>164.2100</td>\n",
       "      <td>39.8300</td>\n",
       "      <td>171.8600</td>\n",
       "      <td>72.4600</td>\n",
       "      <td>44.9700</td>\n",
       "      <td>510.9100</td>\n",
       "      <td>373.0200</td>\n",
       "      <td>74.2300</td>\n",
       "      <td>286.7800</td>\n",
       "      <td>229.2700</td>\n",
       "      <td>139.1300</td>\n",
       "      <td>61.4700</td>\n",
       "      <td>9.3300</td>\n",
       "      <td>92.6700</td>\n",
       "      <td>103.1900</td>\n",
       "      <td>72.3400</td>\n",
       "      <td>104.3900</td>\n",
       "      <td>25.7000</td>\n",
       "      <td>8.9200</td>\n",
       "      <td>296.8000</td>\n",
       "      <td>28.4800</td>\n",
       "      <td>179.8400</td>\n",
       "      <td>56.0200</td>\n",
       "      <td>30.1200</td>\n",
       "      <td>320.6600</td>\n",
       "      <td>45.4100</td>\n",
       "      <td>94.6800</td>\n",
       "      <td>42.9200</td>\n",
       "      <td>24.0000</td>\n",
       "      <td>126.5000</td>\n",
       "      <td>49.1300</td>\n",
       "      <td>22.4800</td>\n",
       "      <td>38.9000</td>\n",
       "      <td>31.5200</td>\n",
       "      <td>39.7900</td>\n",
       "      <td>26.6900</td>\n",
       "      <td>36.3100</td>\n",
       "      <td>26.9300</td>\n",
       "      <td>96.0200</td>\n",
       "      <td>100.0700</td>\n",
       "      <td>557.3200</td>\n",
       "      <td>219.5600</td>\n",
       "      <td>98.5000</td>\n",
       "      <td>94.2800</td>\n",
       "      <td>46.1500</td>\n",
       "      <td>403.5000</td>\n",
       "      <td>43.3900</td>\n",
       "      <td>316.8300</td>\n",
       "      <td>73.8700</td>\n",
       "      <td>79.3500</td>\n",
       "      <td>132.8500</td>\n",
       "      <td>146.6900</td>\n",
       "      <td>88.1800</td>\n",
       "      <td>232.6500</td>\n",
       "      <td>143.8400</td>\n",
       "      <td>122.0200</td>\n",
       "      <td>70.2500</td>\n",
       "      <td>58.2300</td>\n",
       "      <td>35.2100</td>\n",
       "      <td>271.3800</td>\n",
       "      <td>55.6400</td>\n",
       "      <td>54.6500</td>\n",
       "      <td>323.8500</td>\n",
       "      <td>69.7100</td>\n",
       "      <td>46.0900</td>\n",
       "      <td>54.0500</td>\n",
       "      <td>12.8800</td>\n",
       "      <td>102.1200</td>\n",
       "      <td>59.4000</td>\n",
       "      <td>36.4800</td>\n",
       "      <td>31.5200</td>\n",
       "      <td>206.3600</td>\n",
       "      <td>80.9600</td>\n",
       "      <td>344.8200</td>\n",
       "      <td>109.2500</td>\n",
       "      <td>70.9300</td>\n",
       "      <td>155.9600</td>\n",
       "      <td>89.3900</td>\n",
       "      <td>294.1200</td>\n",
       "      <td>76.7700</td>\n",
       "      <td>1001.9200</td>\n",
       "      <td>54.7200</td>\n",
       "      <td>79.2600</td>\n",
       "      <td>329.4700</td>\n",
       "      <td>32.1700</td>\n",
       "      <td>28.9500</td>\n",
       "      <td>48.6500</td>\n",
       "      <td>115.5300</td>\n",
       "      <td>56.4000</td>\n",
       "      <td>184.3500</td>\n",
       "      <td>33.2500</td>\n",
       "      <td>91.9200</td>\n",
       "      <td>91.5200</td>\n",
       "      <td>29.5700</td>\n",
       "      <td>148.4000</td>\n",
       "      <td>271.1700</td>\n",
       "      <td>265.5200</td>\n",
       "      <td>485.3800</td>\n",
       "      <td>67.8900</td>\n",
       "      <td>81.0000</td>\n",
       "      <td>371.9100</td>\n",
       "      <td>32.4800</td>\n",
       "      <td>223.2000</td>\n",
       "      <td>26.8100</td>\n",
       "      <td>77.5900</td>\n",
       "      <td>73.2900</td>\n",
       "      <td>43.1100</td>\n",
       "      <td>13.7100</td>\n",
       "      <td>170.5000</td>\n",
       "      <td>322.9700</td>\n",
       "      <td>67.5800</td>\n",
       "      <td>143.5500</td>\n",
       "      <td>476.0200</td>\n",
       "      <td>22.3500</td>\n",
       "      <td>81.6500</td>\n",
       "      <td>32.0400</td>\n",
       "      <td>30.2400</td>\n",
       "      <td>117.7400</td>\n",
       "      <td>6.9400</td>\n",
       "      <td>397.1300</td>\n",
       "      <td>29.6100</td>\n",
       "      <td>55.9800</td>\n",
       "      <td>49.5600</td>\n",
       "      <td>38.6200</td>\n",
       "      <td>236.1700</td>\n",
       "      <td>57.7500</td>\n",
       "      <td>29.3100</td>\n",
       "      <td>43.5200</td>\n",
       "      <td>28.8400</td>\n",
       "      <td>69.3600</td>\n",
       "      <td>68.2100</td>\n",
       "      <td>130.8300</td>\n",
       "      <td>407.5100</td>\n",
       "      <td>514.1000</td>\n",
       "      <td>102.2200</td>\n",
       "      <td>120.5900</td>\n",
       "      <td>101.2000</td>\n",
       "      <td>35.2500</td>\n",
       "      <td>28.6600</td>\n",
       "      <td>34.0000</td>\n",
       "      <td>63.1700</td>\n",
       "      <td>53.4800</td>\n",
       "      <td>41.6100</td>\n",
       "      <td>28.8300</td>\n",
       "      <td>42.0500</td>\n",
       "      <td>29.3000</td>\n",
       "      <td>30.4800</td>\n",
       "      <td>42.2300</td>\n",
       "      <td>30.7200</td>\n",
       "      <td>47.8800</td>\n",
       "      <td>29.1900</td>\n",
       "      <td>65.8500</td>\n",
       "      <td>41.8000</td>\n",
       "      <td>113.3100</td>\n",
       "      <td>63.2300</td>\n",
       "      <td>82.5650</td>\n",
       "      <td>179.9000</td>\n",
       "      <td>129.6300</td>\n",
       "      <td>197.4700</td>\n",
       "      <td>430.7900</td>\n",
       "      <td>29.0050</td>\n",
       "      <td>41.0700</td>\n",
       "      <td>118.6500</td>\n",
       "      <td>42.0400</td>\n",
       "      <td>42.8100</td>\n",
       "      <td>178.2700</td>\n",
       "      <td>74.1600</td>\n",
       "      <td>81.0900</td>\n",
       "      <td>177.6600</td>\n",
       "      <td>98.6800</td>\n",
       "      <td>17.4900</td>\n",
       "      <td>58.6400</td>\n",
       "      <td>75.6400</td>\n",
       "      <td>49.8750</td>\n",
       "      <td>179.9400</td>\n",
       "      <td>27.5300</td>\n",
       "      <td>92.6200</td>\n",
       "      <td>459.9700</td>\n",
       "      <td>220.8300</td>\n",
       "      <td>43.1200</td>\n",
       "      <td>103.4300</td>\n",
       "      <td>114.0000</td>\n",
       "      <td>55.7600</td>\n",
       "      <td>133.2200</td>\n",
       "      <td>107.3800</td>\n",
       "      <td>35.0600</td>\n",
       "      <td>116.9500</td>\n",
       "      <td>422.7900</td>\n",
       "      <td>140.9500</td>\n",
       "      <td>32.3500</td>\n",
       "      <td>132.2100</td>\n",
       "      <td>87.5700</td>\n",
       "      <td>111.5900</td>\n",
       "      <td>238.8100</td>\n",
       "      <td>53.2900</td>\n",
       "      <td>31.9700</td>\n",
       "      <td>157.9500</td>\n",
       "      <td>47.3100</td>\n",
       "      <td>180.0000</td>\n",
       "      <td>74.3500</td>\n",
       "      <td>7.3300</td>\n",
       "      <td>9.4000</td>\n",
       "      <td>266.8400</td>\n",
       "      <td>100.1900</td>\n",
       "      <td>55.5000</td>\n",
       "      <td>66.3700</td>\n",
       "      <td>47.9200</td>\n",
       "      <td>62.1000</td>\n",
       "      <td>88.0400</td>\n",
       "      <td>83.1100</td>\n",
       "      <td>109.6800</td>\n",
       "      <td>62.7500</td>\n",
       "      <td>261.8100</td>\n",
       "      <td>340.8300</td>\n",
       "      <td>173.7200</td>\n",
       "      <td>120.9200</td>\n",
       "      <td>51.3900</td>\n",
       "      <td>77.0500</td>\n",
       "      <td>13.5100</td>\n",
       "      <td>121.8700</td>\n",
       "      <td>63.5300</td>\n",
       "      <td>376.4200</td>\n",
       "      <td>44.8900</td>\n",
       "      <td>91.9500</td>\n",
       "      <td>500.6500</td>\n",
       "      <td>25.0700</td>\n",
       "      <td>76.4600</td>\n",
       "      <td>130.7300</td>\n",
       "      <td>62.3000</td>\n",
       "      <td>45.0400</td>\n",
       "      <td>38.3800</td>\n",
       "      <td>153.5700</td>\n",
       "      <td>81.7300</td>\n",
       "      <td>120.6800</td>\n",
       "      <td>172.7500</td>\n",
       "      <td>31.1200</td>\n",
       "      <td>46.6000</td>\n",
       "      <td>32.6800</td>\n",
       "      <td>53.9900</td>\n",
       "      <td>906.5000</td>\n",
       "      <td>25.1500</td>\n",
       "      <td>67.5400</td>\n",
       "      <td>60.3400</td>\n",
       "      <td>8.3800</td>\n",
       "      <td>353.6300</td>\n",
       "      <td>53.2300</td>\n",
       "      <td>63.8400</td>\n",
       "      <td>118.4400</td>\n",
       "      <td>87.8100</td>\n",
       "      <td>38.9100</td>\n",
       "      <td>132.8000</td>\n",
       "      <td>107.5100</td>\n",
       "      <td>422.5400</td>\n",
       "      <td>61.2400</td>\n",
       "      <td>286.0300</td>\n",
       "      <td>83.9100</td>\n",
       "      <td>17.6900</td>\n",
       "      <td>343.2600</td>\n",
       "      <td>82.9700</td>\n",
       "      <td>53.3700</td>\n",
       "      <td>31.1700</td>\n",
       "      <td>265.1300</td>\n",
       "      <td>68.7800</td>\n",
       "      <td>75.8500</td>\n",
       "      <td>98.9600</td>\n",
       "      <td>72.7400</td>\n",
       "      <td>56.8200</td>\n",
       "      <td>72.6500</td>\n",
       "      <td>27.9800</td>\n",
       "      <td>51.1700</td>\n",
       "      <td>43.1000</td>\n",
       "      <td>122.5300</td>\n",
       "      <td>45.7200</td>\n",
       "      <td>44.5200</td>\n",
       "      <td>205.9200</td>\n",
       "      <td>114.1600</td>\n",
       "      <td>169.2200</td>\n",
       "      <td>148.5300</td>\n",
       "      <td>58.5600</td>\n",
       "      <td>10.7300</td>\n",
       "      <td>60.6000</td>\n",
       "      <td>139.3500</td>\n",
       "      <td>41.5300</td>\n",
       "      <td>46.8700</td>\n",
       "      <td>52.4100</td>\n",
       "      <td>45.6900</td>\n",
       "      <td>92.2300</td>\n",
       "      <td>130.5000</td>\n",
       "      <td>1908.4200</td>\n",
       "      <td>42.0100</td>\n",
       "      <td>42.2200</td>\n",
       "      <td>261.0700</td>\n",
       "      <td>437.6000</td>\n",
       "      <td>51.4100</td>\n",
       "      <td>229.5100</td>\n",
       "      <td>40.5100</td>\n",
       "      <td>33.8300</td>\n",
       "      <td>36.1300</td>\n",
       "      <td>52.1000</td>\n",
       "      <td>219.1500</td>\n",
       "      <td>58.9400</td>\n",
       "      <td>295.9000</td>\n",
       "      <td>20.3800</td>\n",
       "      <td>172.6600</td>\n",
       "      <td>1926.5200</td>\n",
       "      <td>82.1300</td>\n",
       "      <td>40.5900</td>\n",
       "      <td>124.2800</td>\n",
       "      <td>513.3200</td>\n",
       "      <td>43.8800</td>\n",
       "      <td>47.9100</td>\n",
       "      <td>50.9600</td>\n",
       "      <td>51.2400</td>\n",
       "      <td>47.8200</td>\n",
       "      <td>275.8300</td>\n",
       "      <td>27.8000</td>\n",
       "      <td>101.2300</td>\n",
       "      <td>276.5000</td>\n",
       "      <td>76.6800</td>\n",
       "      <td>28.4660</td>\n",
       "      <td>32.7990</td>\n",
       "      <td>39.4160</td>\n",
       "      <td>24.2520</td>\n",
       "      <td>56.0200</td>\n",
       "      <td>165.2000</td>\n",
       "      <td>97.1400</td>\n",
       "      <td>51.3100</td>\n",
       "      <td>55.9000</td>\n",
       "      <td>17.8100</td>\n",
       "      <td>50.5100</td>\n",
       "      <td>145.1750</td>\n",
       "      <td>96.2700</td>\n",
       "      <td>43.4700</td>\n",
       "      <td>20.3900</td>\n",
       "      <td>151.1800</td>\n",
       "      <td>103.7400</td>\n",
       "      <td>177.3150</td>\n",
       "      <td>135.0500</td>\n",
       "      <td>90.4900</td>\n",
       "      <td>191.9600</td>\n",
       "      <td>34.0500</td>\n",
       "      <td>104.4200</td>\n",
       "      <td>47.3700</td>\n",
       "      <td>60.0200</td>\n",
       "      <td>70.6700</td>\n",
       "      <td>117.3000</td>\n",
       "      <td>58.4800</td>\n",
       "      <td>44.8600</td>\n",
       "      <td>94.8200</td>\n",
       "      <td>104.9900</td>\n",
       "      <td>37.1000</td>\n",
       "      <td>36.3600</td>\n",
       "      <td>42.2000</td>\n",
       "      <td>21.5700</td>\n",
       "      <td>100.1000</td>\n",
       "      <td>83.2400</td>\n",
       "      <td>281.0500</td>\n",
       "      <td>179.4900</td>\n",
       "      <td>51.8600</td>\n",
       "      <td>66.7900</td>\n",
       "      <td>248.7500</td>\n",
       "      <td>71.9800</td>\n",
       "      <td>29.3700</td>\n",
       "      <td>23.8400</td>\n",
       "      <td>50.0200</td>\n",
       "      <td>39.0900</td>\n",
       "      <td>52.6800</td>\n",
       "      <td>85.5400</td>\n",
       "      <td>49.9900</td>\n",
       "      <td>105.5300</td>\n",
       "      <td>47.7500</td>\n",
       "      <td>107.2000</td>\n",
       "      <td>53.4100</td>\n",
       "      <td>122.9100</td>\n",
       "      <td>306.1900</td>\n",
       "      <td>65.8200</td>\n",
       "      <td>47.3300</td>\n",
       "      <td>51.4200</td>\n",
       "      <td>49.0000</td>\n",
       "      <td>20.7400</td>\n",
       "      <td>23.2900</td>\n",
       "      <td>58.6600</td>\n",
       "      <td>135.9800</td>\n",
       "      <td>167.7400</td>\n",
       "      <td>166.7700</td>\n",
       "      <td>22.8700</td>\n",
       "      <td>121.2000</td>\n",
       "      <td>21.5700</td>\n",
       "      <td>78.9800</td>\n",
       "      <td>4.7400</td>\n",
       "      <td>205.0800</td>\n",
       "      <td>662.1100</td>\n",
       "      <td>39.0000</td>\n",
       "      <td>38.6800</td>\n",
       "      <td>119.1900</td>\n",
       "      <td>42.8300</td>\n",
       "      <td>148.6100</td>\n",
       "      <td>39.8700</td>\n",
       "      <td>106.4800</td>\n",
       "      <td>237.4500</td>\n",
       "      <td>1041.3800</td>\n",
       "      <td>136.0200</td>\n",
       "      <td>20.7800</td>\n",
       "      <td>53.9000</td>\n",
       "      <td>72.5800</td>\n",
       "      <td>16.2600</td>\n",
       "      <td>379.0200</td>\n",
       "      <td>360.4200</td>\n",
       "      <td>75.1000</td>\n",
       "      <td>116.6200</td>\n",
       "      <td>37.7500</td>\n",
       "      <td>317.6100</td>\n",
       "      <td>249.3600</td>\n",
       "      <td>138.6000</td>\n",
       "      <td>38.2200</td>\n",
       "      <td>126.5800</td>\n",
       "      <td>231.6300</td>\n",
       "      <td>42.9500</td>\n",
       "      <td>179.8500</td>\n",
       "      <td>10.4900</td>\n",
       "      <td>142.6700</td>\n",
       "      <td>255.9300</td>\n",
       "      <td>28.8800</td>\n",
       "      <td>14.0900</td>\n",
       "      <td>64.8300</td>\n",
       "      <td>224.6000</td>\n",
       "      <td>82.0100</td>\n",
       "      <td>18.1500</td>\n",
       "      <td>24.5400</td>\n",
       "      <td>104.1800</td>\n",
       "      <td>54.9200</td>\n",
       "      <td>30.4000</td>\n",
       "      <td>60.7200</td>\n",
       "      <td>72.6800</td>\n",
       "      <td>15.6700</td>\n",
       "      <td>172.0500</td>\n",
       "      <td>34.5500</td>\n",
       "      <td>402.9900</td>\n",
       "      <td>557.3200</td>\n",
       "      <td>238.7900</td>\n",
       "      <td>176.5700</td>\n",
       "      <td>49.9900</td>\n",
       "      <td>80.1700</td>\n",
       "      <td>36.7300</td>\n",
       "      <td>51.0700</td>\n",
       "      <td>62.6800</td>\n",
       "      <td>127.4100</td>\n",
       "      <td>24.2200</td>\n",
       "      <td>60.0600</td>\n",
       "      <td>51.6400</td>\n",
       "      <td>293.7900</td>\n",
       "      <td>32.9000</td>\n",
       "      <td>180.8500</td>\n",
       "      <td>6.6400</td>\n",
       "      <td>148.5400</td>\n",
       "      <td>50.6500</td>\n",
       "      <td>115.0400</td>\n",
       "      <td>234.7000</td>\n",
       "      <td>74.7900</td>\n",
       "      <td>34.0900</td>\n",
       "      <td>530.5000</td>\n",
       "      <td>95.2600</td>\n",
       "      <td>81.9500</td>\n",
       "      <td>118.6400</td>\n",
       "      <td>59.5100</td>\n",
       "      <td>65.3300</td>\n",
       "      <td>174.8800</td>\n",
       "      <td>74.7200</td>\n",
       "      <td>58.4100</td>\n",
       "      <td>52.9600</td>\n",
       "      <td>109.2400</td>\n",
       "      <td>52.6300</td>\n",
       "      <td>108.0500</td>\n",
       "      <td>115.0600</td>\n",
       "      <td>61.8900</td>\n",
       "      <td>61.5300</td>\n",
       "      <td>122.9500</td>\n",
       "      <td>89.9300</td>\n",
       "      <td>108.6400</td>\n",
       "      <td>99.0500</td>\n",
       "      <td>131.9900</td>\n",
       "      <td>91.5200</td>\n",
       "      <td>78.7500</td>\n",
       "      <td>69.0100</td>\n",
       "      <td>54.8000</td>\n",
       "      <td>24.2000</td>\n",
       "      <td>18.3000</td>\n",
       "      <td>21.3600</td>\n",
       "      <td>137.5000</td>\n",
       "      <td>105.9000</td>\n",
       "      <td>22.5500</td>\n",
       "      <td>759.0300</td>\n",
       "      <td>33.8300</td>\n",
       "      <td>40.8600</td>\n",
       "      <td>39.6400</td>\n",
       "      <td>105.3300</td>\n",
       "      <td>40.2800</td>\n",
       "      <td>46.5900</td>\n",
       "      <td>24.6900</td>\n",
       "      <td>42.5800</td>\n",
       "      <td>158.5800</td>\n",
       "      <td>83.6900</td>\n",
       "      <td>105.2500</td>\n",
       "      <td>523.0800</td>\n",
       "      <td>48.5300</td>\n",
       "      <td>400.3900</td>\n",
       "      <td>181.7500</td>\n",
       "      <td>132.7200</td>\n",
       "      <td>155.0200</td>\n",
       "      <td>6.7900</td>\n",
       "      <td>245.8000</td>\n",
       "      <td>46.0200</td>\n",
       "      <td>146.9400</td>\n",
       "      <td>93.5900</td>\n",
       "      <td>193.1300</td>\n",
       "      <td>609.5100</td>\n",
       "      <td>107.4800</td>\n",
       "      <td>15.2900</td>\n",
       "      <td>333.5000</td>\n",
       "      <td>192.5700</td>\n",
       "      <td>414.0000</td>\n",
       "      <td>214.4700</td>\n",
       "      <td>156.7800</td>\n",
       "      <td>283.6000</td>\n",
       "      <td>137.8300</td>\n",
       "      <td>91.3400</td>\n",
       "      <td>131.0600</td>\n",
       "      <td>344.7700</td>\n",
       "      <td>240.1500</td>\n",
       "      <td>21.6000</td>\n",
       "      <td>85.6900</td>\n",
       "      <td>89.8900</td>\n",
       "      <td>76.2400</td>\n",
       "      <td>118.7000</td>\n",
       "      <td>96.2500</td>\n",
       "      <td>168.6100</td>\n",
       "      <td>129.5400</td>\n",
       "      <td>50.7000</td>\n",
       "      <td>64.8300</td>\n",
       "      <td>108.1100</td>\n",
       "      <td>143.4300</td>\n",
       "      <td>211.9500</td>\n",
       "      <td>120.0600</td>\n",
       "      <td>103.6000</td>\n",
       "      <td>46.8400</td>\n",
       "      <td>32.5800</td>\n",
       "      <td>55.3400</td>\n",
       "      <td>56.5700</td>\n",
       "      <td>53.7600</td>\n",
       "      <td>84.0100</td>\n",
       "      <td>60.8100</td>\n",
       "      <td>24.6300</td>\n",
       "      <td>69.7600</td>\n",
       "      <td>181.0200</td>\n",
       "      <td>250.8800</td>\n",
       "      <td>44.8000</td>\n",
       "      <td>50.8750</td>\n",
       "      <td>152.1900</td>\n",
       "      <td>96.6800</td>\n",
       "      <td>36.5600</td>\n",
       "      <td>8.8300</td>\n",
       "      <td>46.1900</td>\n",
       "      <td>281.2600</td>\n",
       "      <td>50.6100</td>\n",
       "      <td>59.4700</td>\n",
       "      <td>86.6600</td>\n",
       "      <td>78.5200</td>\n",
       "      <td>82.4400</td>\n",
       "      <td>47.8200</td>\n",
       "      <td>69.3500</td>\n",
       "      <td>40.8800</td>\n",
       "      <td>33.5500</td>\n",
       "      <td>12.6100</td>\n",
       "      <td>113.5100</td>\n",
       "      <td>16.7500</td>\n",
       "      <td>164.7300</td>\n",
       "      <td>15.3100</td>\n",
       "      <td>26.0300</td>\n",
       "      <td>21.2400</td>\n",
       "      <td>127.7700</td>\n",
       "      <td>889.0300</td>\n",
       "      <td>129.9500</td>\n",
       "      <td>28.5400</td>\n",
       "      <td>69.2100</td>\n",
       "      <td>49.1800</td>\n",
       "      <td>478.3300</td>\n",
       "      <td>42.5800</td>\n",
       "      <td>44.3000</td>\n",
       "      <td>70.2100</td>\n",
       "      <td>73.4200</td>\n",
       "      <td>34.7800</td>\n",
       "      <td>81.5400</td>\n",
       "      <td>20.2700</td>\n",
       "      <td>40.7700</td>\n",
       "      <td>21.1900</td>\n",
       "      <td>32.9600</td>\n",
       "      <td>34.6700</td>\n",
       "      <td>89.9800</td>\n",
       "      <td>339.3500</td>\n",
       "      <td>121.6000</td>\n",
       "      <td>95.0300</td>\n",
       "      <td>95.9800</td>\n",
       "      <td>2.1700</td>\n",
       "      <td>152.2300</td>\n",
       "      <td>206.1200</td>\n",
       "      <td>34.3000</td>\n",
       "      <td>111.6900</td>\n",
       "      <td>18.6200</td>\n",
       "      <td>262.5300</td>\n",
       "      <td>246.6500</td>\n",
       "      <td>28.5300</td>\n",
       "      <td>569.1500</td>\n",
       "      <td>463.1600</td>\n",
       "      <td>91.8100</td>\n",
       "      <td>37.6500</td>\n",
       "      <td>778.0800</td>\n",
       "      <td>78.0600</td>\n",
       "      <td>79.5150</td>\n",
       "      <td>49.3000</td>\n",
       "      <td>460.2000</td>\n",
       "      <td>239.9500</td>\n",
       "      <td>61.1600</td>\n",
       "      <td>85.8200</td>\n",
       "      <td>87.9000</td>\n",
       "      <td>219.9800</td>\n",
       "      <td>354.1000</td>\n",
       "      <td>88.1900</td>\n",
       "      <td>108.9200</td>\n",
       "      <td>95.6300</td>\n",
       "      <td>144.5500</td>\n",
       "      <td>51.1500</td>\n",
       "      <td>29.7000</td>\n",
       "      <td>232.9300</td>\n",
       "      <td>31.8600</td>\n",
       "      <td>42.6300</td>\n",
       "      <td>53.7900</td>\n",
       "      <td>58.3300</td>\n",
       "      <td>15.8600</td>\n",
       "      <td>4.2100</td>\n",
       "      <td>147.7800</td>\n",
       "      <td>557.5300</td>\n",
       "      <td>149.1700</td>\n",
       "      <td>194.6400</td>\n",
       "      <td>268.7300</td>\n",
       "      <td>63.7800</td>\n",
       "      <td>170.2700</td>\n",
       "      <td>19.4600</td>\n",
       "      <td>93.5200</td>\n",
       "      <td>17.9500</td>\n",
       "      <td>291.4700</td>\n",
       "      <td>55.5700</td>\n",
       "      <td>70.4300</td>\n",
       "      <td>720.8200</td>\n",
       "      <td>489.0000</td>\n",
       "      <td>209.2500</td>\n",
       "      <td>284.9800</td>\n",
       "      <td>68.4300</td>\n",
       "      <td>86.0800</td>\n",
       "      <td>562.2200</td>\n",
       "      <td>315.2800</td>\n",
       "      <td>2528.9500</td>\n",
       "      <td>79.6600</td>\n",
       "      <td>712.2000</td>\n",
       "      <td>31.5200</td>\n",
       "      <td>5.6000</td>\n",
       "      <td>37.6100</td>\n",
       "      <td>220.8900</td>\n",
       "      <td>357.8500</td>\n",
       "      <td>34.2000</td>\n",
       "      <td>130.5000</td>\n",
       "      <td>103.9100</td>\n",
       "      <td>143.1800</td>\n",
       "      <td>100.4300</td>\n",
       "      <td>74.7100</td>\n",
       "      <td>1988.9800</td>\n",
       "      <td>97.8200</td>\n",
       "      <td>222.7300</td>\n",
       "      <td>77.5300</td>\n",
       "      <td>552.3700</td>\n",
       "      <td>219.6700</td>\n",
       "      <td>149.8700</td>\n",
       "      <td>95.9900</td>\n",
       "      <td>300.3300</td>\n",
       "      <td>63.5700</td>\n",
       "      <td>59.9100</td>\n",
       "      <td>92.4700</td>\n",
       "      <td>294.5100</td>\n",
       "      <td>309.8800</td>\n",
       "      <td>35.5400</td>\n",
       "      <td>34.9100</td>\n",
       "      <td>165.2900</td>\n",
       "      <td>51.8400</td>\n",
       "      <td>716.5800</td>\n",
       "      <td>80.3200</td>\n",
       "      <td>26.8000</td>\n",
       "      <td>75.2100</td>\n",
       "      <td>135.9000</td>\n",
       "      <td>168.6600</td>\n",
       "      <td>575.6900</td>\n",
       "      <td>490.1100</td>\n",
       "      <td>418.3500</td>\n",
       "      <td>377.0200</td>\n",
       "      <td>30.9800</td>\n",
       "      <td>190.1200</td>\n",
       "      <td>31.5700</td>\n",
       "      <td>1185.1800</td>\n",
       "      <td>48.5200</td>\n",
       "      <td>28.1000</td>\n",
       "      <td>139.8400</td>\n",
       "      <td>236.8900</td>\n",
       "      <td>169.5100</td>\n",
       "      <td>127.9100</td>\n",
       "      <td>104.2100</td>\n",
       "      <td>13.7700</td>\n",
       "      <td>415.4400</td>\n",
       "      <td>128.1800</td>\n",
       "      <td>19.4000</td>\n",
       "      <td>88.1200</td>\n",
       "      <td>213.3600</td>\n",
       "      <td>71.4000</td>\n",
       "      <td>58.0900</td>\n",
       "      <td>186.4300</td>\n",
       "      <td>685.9300</td>\n",
       "      <td>85.4500</td>\n",
       "      <td>1279.1100</td>\n",
       "      <td>73.2500</td>\n",
       "      <td>40.5200</td>\n",
       "      <td>165.2100</td>\n",
       "      <td>3.5000</td>\n",
       "      <td>61.4200</td>\n",
       "      <td>19.3600</td>\n",
       "      <td>6.2500</td>\n",
       "      <td>43.0000</td>\n",
       "      <td>100.1600</td>\n",
       "      <td>484.0000</td>\n",
       "      <td>5.2000</td>\n",
       "      <td>996.3200</td>\n",
       "      <td>153.6800</td>\n",
       "      <td>257.4600</td>\n",
       "      <td>106.1300</td>\n",
       "      <td>134.0500</td>\n",
       "      <td>74.2700</td>\n",
       "      <td>59.4200</td>\n",
       "      <td>171.8700</td>\n",
       "      <td>118.1800</td>\n",
       "      <td>13.4300</td>\n",
       "      <td>128.2000</td>\n",
       "      <td>147.9000</td>\n",
       "      <td>61.9800</td>\n",
       "      <td>248.5200</td>\n",
       "      <td>70.7300</td>\n",
       "      <td>7277.5900</td>\n",
       "      <td>118.8300</td>\n",
       "      <td>72.3400</td>\n",
       "      <td>14.0100</td>\n",
       "      <td>33.6000</td>\n",
       "      <td>29.2500</td>\n",
       "      <td>217.4960</td>\n",
       "      <td>57.2600</td>\n",
       "      <td>54.7600</td>\n",
       "      <td>57.9800</td>\n",
       "      <td>14.3600</td>\n",
       "      <td>137.9900</td>\n",
       "      <td>161.9700</td>\n",
       "      <td>297.5000</td>\n",
       "      <td>44.7200</td>\n",
       "      <td>37.1100</td>\n",
       "      <td>80.5600</td>\n",
       "      <td>60.7100</td>\n",
       "      <td>98.5300</td>\n",
       "      <td>155.6800</td>\n",
       "      <td>129.5500</td>\n",
       "      <td>72.4800</td>\n",
       "      <td>55.1900</td>\n",
       "      <td>56.7800</td>\n",
       "      <td>54.2100</td>\n",
       "      <td>21.1600</td>\n",
       "      <td>266.8000</td>\n",
       "      <td>78.2700</td>\n",
       "      <td>52.4600</td>\n",
       "      <td>215.2700</td>\n",
       "      <td>37.9600</td>\n",
       "      <td>89.1800</td>\n",
       "      <td>110.5400</td>\n",
       "      <td>28.6500</td>\n",
       "      <td>97.4100</td>\n",
       "      <td>38.6700</td>\n",
       "      <td>19.1100</td>\n",
       "      <td>42.4800</td>\n",
       "      <td>18.1200</td>\n",
       "      <td>51.4000</td>\n",
       "      <td>28.3900</td>\n",
       "      <td>221.0100</td>\n",
       "      <td>177.5600</td>\n",
       "      <td>19.3200</td>\n",
       "      <td>201.6900</td>\n",
       "      <td>12.2100</td>\n",
       "      <td>12.5100</td>\n",
       "      <td>43.1400</td>\n",
       "      <td>235.0500</td>\n",
       "      <td>152.2500</td>\n",
       "      <td>69.3000</td>\n",
       "      <td>36.9300</td>\n",
       "      <td>12.4100</td>\n",
       "      <td>11.3300</td>\n",
       "      <td>61.0400</td>\n",
       "      <td>94.0100</td>\n",
       "      <td>14.1600</td>\n",
       "      <td>68.3200</td>\n",
       "      <td>182.6200</td>\n",
       "      <td>13.0800</td>\n",
       "      <td>107.1600</td>\n",
       "      <td>18.7900</td>\n",
       "      <td>83.1300</td>\n",
       "      <td>51.6100</td>\n",
       "      <td>255.7200</td>\n",
       "      <td>131.0500</td>\n",
       "      <td>24.3100</td>\n",
       "      <td>30.5700</td>\n",
       "      <td>77.9300</td>\n",
       "      <td>86.7700</td>\n",
       "      <td>160.3600</td>\n",
       "      <td>266.0100</td>\n",
       "      <td>11.1100</td>\n",
       "      <td>675.2500</td>\n",
       "      <td>23.9000</td>\n",
       "      <td>105.4900</td>\n",
       "      <td>25.5000</td>\n",
       "      <td>35.7400</td>\n",
       "      <td>189.4100</td>\n",
       "      <td>49.1900</td>\n",
       "      <td>108.1300</td>\n",
       "      <td>108.0400</td>\n",
       "      <td>143.2300</td>\n",
       "      <td>184.4900</td>\n",
       "      <td>182.0200</td>\n",
       "      <td>108.5100</td>\n",
       "      <td>101.2300</td>\n",
       "      <td>90.1700</td>\n",
       "      <td>310.9000</td>\n",
       "      <td>300.7400</td>\n",
       "      <td>110.7300</td>\n",
       "      <td>136.4600</td>\n",
       "      <td>46.6200</td>\n",
       "      <td>113.8800</td>\n",
       "      <td>34.2100</td>\n",
       "      <td>14.0100</td>\n",
       "      <td>41.7100</td>\n",
       "      <td>268.5800</td>\n",
       "      <td>29.6300</td>\n",
       "      <td>106.3000</td>\n",
       "      <td>295.6000</td>\n",
       "      <td>12.1500</td>\n",
       "      <td>68.1900</td>\n",
       "      <td>14.5700</td>\n",
       "      <td>54.7100</td>\n",
       "      <td>119.4600</td>\n",
       "      <td>169.9300</td>\n",
       "      <td>24.8500</td>\n",
       "      <td>49.7200</td>\n",
       "      <td>372.2600</td>\n",
       "      <td>26.4100</td>\n",
       "      <td>73.5800</td>\n",
       "      <td>155.7100</td>\n",
       "      <td>47.2300</td>\n",
       "      <td>112.7860</td>\n",
       "      <td>539.7800</td>\n",
       "      <td>222.1500</td>\n",
       "      <td>81.5900</td>\n",
       "      <td>65.5100</td>\n",
       "      <td>179.6100</td>\n",
       "      <td>23.5100</td>\n",
       "      <td>16.6100</td>\n",
       "      <td>156.7100</td>\n",
       "      <td>472.4200</td>\n",
       "      <td>105.6100</td>\n",
       "      <td>388.1900</td>\n",
       "      <td>104.7800</td>\n",
       "      <td>29.1400</td>\n",
       "      <td>280.4700</td>\n",
       "      <td>61.9700</td>\n",
       "      <td>15.5900</td>\n",
       "      <td>25.0700</td>\n",
       "      <td>71.6600</td>\n",
       "      <td>522.2700</td>\n",
       "      <td>53.3100</td>\n",
       "      <td>37.1600</td>\n",
       "      <td>22.8800</td>\n",
       "      <td>197.5300</td>\n",
       "      <td>22.9500</td>\n",
       "      <td>123.3500</td>\n",
       "      <td>178.1400</td>\n",
       "      <td>100.4100</td>\n",
       "      <td>57.1900</td>\n",
       "      <td>11.3200</td>\n",
       "      <td>13.8100</td>\n",
       "      <td>150.8800</td>\n",
       "      <td>33.4600</td>\n",
       "      <td>14.9500</td>\n",
       "      <td>273.7900</td>\n",
       "      <td>73.1500</td>\n",
       "      <td>62.3000</td>\n",
       "      <td>255.9100</td>\n",
       "      <td>244.1900</td>\n",
       "      <td>110.1800</td>\n",
       "      <td>11.5400</td>\n",
       "      <td>325.9500</td>\n",
       "      <td>83.6900</td>\n",
       "      <td>57.5200</td>\n",
       "      <td>571.0200</td>\n",
       "      <td>128.3300</td>\n",
       "      <td>110.2200</td>\n",
       "      <td>36.1400</td>\n",
       "      <td>41.9300</td>\n",
       "      <td>145.1300</td>\n",
       "      <td>308.9000</td>\n",
       "      <td>250.7500</td>\n",
       "      <td>180.1800</td>\n",
       "      <td>39.9900</td>\n",
       "      <td>23.8400</td>\n",
       "      <td>141.8500</td>\n",
       "      <td>40.0300</td>\n",
       "      <td>96.3900</td>\n",
       "      <td>103.0300</td>\n",
       "      <td>128.3200</td>\n",
       "      <td>57.1200</td>\n",
       "      <td>69.1700</td>\n",
       "      <td>17.8000</td>\n",
       "      <td>275.1800</td>\n",
       "      <td>8.2700</td>\n",
       "      <td>297.0800</td>\n",
       "      <td>25.2400</td>\n",
       "      <td>236.6000</td>\n",
       "      <td>20.7900</td>\n",
       "      <td>91.5000</td>\n",
       "      <td>96.9100</td>\n",
       "      <td>25.1370</td>\n",
       "      <td>23.4100</td>\n",
       "      <td>41.5670</td>\n",
       "      <td>26.4800</td>\n",
       "      <td>29.8950</td>\n",
       "      <td>21.7760</td>\n",
       "      <td>28.5120</td>\n",
       "      <td>21.5110</td>\n",
       "      <td>22.6400</td>\n",
       "      <td>29.2840</td>\n",
       "      <td>27.7990</td>\n",
       "      <td>24.3300</td>\n",
       "      <td>26.5600</td>\n",
       "      <td>24.9300</td>\n",
       "      <td>27.4350</td>\n",
       "      <td>89.3200</td>\n",
       "      <td>24.0480</td>\n",
       "      <td>23.1400</td>\n",
       "      <td>79.6000</td>\n",
       "      <td>70.9500</td>\n",
       "      <td>35.1000</td>\n",
       "      <td>135.1100</td>\n",
       "      <td>158.2900</td>\n",
       "      <td>86.1500</td>\n",
       "      <td>100.6400</td>\n",
       "      <td>166.4700</td>\n",
       "      <td>67.2200</td>\n",
       "      <td>31.7000</td>\n",
       "      <td>100.6300</td>\n",
       "      <td>70.1400</td>\n",
       "      <td>44.4000</td>\n",
       "      <td>47.7600</td>\n",
       "      <td>114.4200</td>\n",
       "      <td>110.3500</td>\n",
       "      <td>345.6900</td>\n",
       "      <td>82.7200</td>\n",
       "      <td>42.9400</td>\n",
       "      <td>22.4100</td>\n",
       "      <td>97.1900</td>\n",
       "      <td>25.3800</td>\n",
       "      <td>23.0400</td>\n",
       "      <td>62.7700</td>\n",
       "      <td>118.8800</td>\n",
       "      <td>33.5000</td>\n",
       "      <td>65.1000</td>\n",
       "      <td>32.1200</td>\n",
       "      <td>32.6100</td>\n",
       "      <td>87.9600</td>\n",
       "      <td>79.3700</td>\n",
       "      <td>42.8400</td>\n",
       "      <td>15.1700</td>\n",
       "      <td>271.5400</td>\n",
       "      <td>20.9200</td>\n",
       "      <td>43.2400</td>\n",
       "      <td>94.4300</td>\n",
       "      <td>308.4600</td>\n",
       "      <td>8.3200</td>\n",
       "      <td>29.8500</td>\n",
       "      <td>223.1400</td>\n",
       "      <td>478.9800</td>\n",
       "      <td>50.3400</td>\n",
       "      <td>136.8800</td>\n",
       "      <td>48.4200</td>\n",
       "      <td>90.8900</td>\n",
       "      <td>15.8500</td>\n",
       "      <td>24.9900</td>\n",
       "      <td>23.9500</td>\n",
       "      <td>235.1000</td>\n",
       "      <td>25.4800</td>\n",
       "      <td>39.8900</td>\n",
       "      <td>42.2000</td>\n",
       "      <td>160.1200</td>\n",
       "      <td>522.9700</td>\n",
       "      <td>70.5300</td>\n",
       "      <td>23.6700</td>\n",
       "      <td>33.4500</td>\n",
       "      <td>71.5900</td>\n",
       "      <td>72.7500</td>\n",
       "      <td>21.9500</td>\n",
       "      <td>53.9500</td>\n",
       "      <td>109.9300</td>\n",
       "      <td>749.9100</td>\n",
       "      <td>30.1300</td>\n",
       "      <td>42.3200</td>\n",
       "      <td>28.6500</td>\n",
       "      <td>26.3400</td>\n",
       "      <td>73.5600</td>\n",
       "      <td>29.2400</td>\n",
       "      <td>162.3100</td>\n",
       "      <td>164.4700</td>\n",
       "      <td>606.7800</td>\n",
       "      <td>42.3700</td>\n",
       "      <td>93.0300</td>\n",
       "      <td>49.8350</td>\n",
       "      <td>51.7700</td>\n",
       "      <td>26.9700</td>\n",
       "      <td>76.0900</td>\n",
       "      <td>41.3900</td>\n",
       "      <td>89.6300</td>\n",
       "      <td>159.3700</td>\n",
       "      <td>81.4300</td>\n",
       "      <td>94.3350</td>\n",
       "      <td>36.7900</td>\n",
       "      <td>239.5900</td>\n",
       "      <td>55.3400</td>\n",
       "      <td>102.6100</td>\n",
       "      <td>9.5900</td>\n",
       "      <td>128.2200</td>\n",
       "      <td>30.1700</td>\n",
       "      <td>106.9200</td>\n",
       "      <td>229.3800</td>\n",
       "      <td>102.9000</td>\n",
       "      <td>24.5900</td>\n",
       "      <td>20.2700</td>\n",
       "      <td>135.5900</td>\n",
       "      <td>164.4900</td>\n",
       "      <td>38.2800</td>\n",
       "      <td>106.2200</td>\n",
       "      <td>128.1000</td>\n",
       "      <td>52.8000</td>\n",
       "      <td>124.7100</td>\n",
       "      <td>9.4100</td>\n",
       "      <td>66.3600</td>\n",
       "      <td>73.4200</td>\n",
       "      <td>64.7400</td>\n",
       "      <td>386.4600</td>\n",
       "      <td>32.2000</td>\n",
       "      <td>75.8700</td>\n",
       "      <td>28.2800</td>\n",
       "      <td>15.0800</td>\n",
       "      <td>48.2200</td>\n",
       "      <td>49.9800</td>\n",
       "      <td>34.6300</td>\n",
       "      <td>58.8900</td>\n",
       "      <td>71.8000</td>\n",
       "      <td>1472.9500</td>\n",
       "      <td>494.6300</td>\n",
       "      <td>200.6700</td>\n",
       "      <td>50.0000</td>\n",
       "      <td>38.5500</td>\n",
       "      <td>87.2900</td>\n",
       "      <td>5.2600</td>\n",
       "      <td>166.4800</td>\n",
       "      <td>90.3900</td>\n",
       "      <td>17.0900</td>\n",
       "      <td>41.4500</td>\n",
       "      <td>90.3300</td>\n",
       "      <td>50.6200</td>\n",
       "      <td>97.5300</td>\n",
       "      <td>171.5200</td>\n",
       "      <td>168.9100</td>\n",
       "      <td>34.8900</td>\n",
       "      <td>36.6900</td>\n",
       "      <td>19.2100</td>\n",
       "      <td>109.5200</td>\n",
       "      <td>124.6000</td>\n",
       "      <td>176.8900</td>\n",
       "      <td>100.8700</td>\n",
       "      <td>16.0600</td>\n",
       "      <td>294.1700</td>\n",
       "      <td>87.4000</td>\n",
       "      <td>171.5800</td>\n",
       "      <td>18.7600</td>\n",
       "      <td>38.2100</td>\n",
       "      <td>61.5000</td>\n",
       "      <td>404.3700</td>\n",
       "      <td>229.8200</td>\n",
       "      <td>113.3000</td>\n",
       "      <td>44.6700</td>\n",
       "      <td>39.9600</td>\n",
       "      <td>52.1200</td>\n",
       "      <td>1059.9400</td>\n",
       "      <td>87.2600</td>\n",
       "      <td>77.8820</td>\n",
       "      <td>55.8500</td>\n",
       "      <td>167.7300</td>\n",
       "      <td>197.1900</td>\n",
       "      <td>73.7100</td>\n",
       "      <td>58.6600</td>\n",
       "      <td>95.1000</td>\n",
       "      <td>47.1900</td>\n",
       "      <td>89.8100</td>\n",
       "      <td>266.1400</td>\n",
       "      <td>35.7000</td>\n",
       "      <td>53.5100</td>\n",
       "      <td>340.4700</td>\n",
       "      <td>13.6200</td>\n",
       "      <td>220.0900</td>\n",
       "      <td>55.5100</td>\n",
       "      <td>429.0200</td>\n",
       "      <td>70.6600</td>\n",
       "      <td>71.8400</td>\n",
       "      <td>60.4000</td>\n",
       "      <td>35.7300</td>\n",
       "      <td>243.0500</td>\n",
       "      <td>16.0300</td>\n",
       "      <td>141.4600</td>\n",
       "      <td>121.6200</td>\n",
       "      <td>30.1200</td>\n",
       "      <td>205.8100</td>\n",
       "      <td>188.7900</td>\n",
       "      <td>78.7600</td>\n",
       "      <td>588.6300</td>\n",
       "      <td>24.0400</td>\n",
       "      <td>79.0200</td>\n",
       "      <td>91.6500</td>\n",
       "      <td>32.0500</td>\n",
       "      <td>40.9800</td>\n",
       "      <td>100.7200</td>\n",
       "      <td>36.4900</td>\n",
       "      <td>61.3300</td>\n",
       "      <td>54.4500</td>\n",
       "      <td>175.2000</td>\n",
       "      <td>397.6400</td>\n",
       "      <td>62.3400</td>\n",
       "      <td>464.4900</td>\n",
       "      <td>103.7200</td>\n",
       "      <td>7.8900</td>\n",
       "      <td>305.6200</td>\n",
       "      <td>79.4300</td>\n",
       "      <td>227.9100</td>\n",
       "      <td>86.7810</td>\n",
       "      <td>100.6200</td>\n",
       "      <td>64.8500</td>\n",
       "      <td>38.6700</td>\n",
       "      <td>68.4200</td>\n",
       "      <td>740.7700</td>\n",
       "      <td>166.4100</td>\n",
       "      <td>44.5400</td>\n",
       "      <td>76.6900</td>\n",
       "      <td>50.2820</td>\n",
       "      <td>37.3100</td>\n",
       "      <td>51.1800</td>\n",
       "      <td>93.1500</td>\n",
       "      <td>289.9400</td>\n",
       "      <td>4.2700</td>\n",
       "      <td>351.6300</td>\n",
       "      <td>9.2100</td>\n",
       "      <td>236.1600</td>\n",
       "      <td>275.5600</td>\n",
       "      <td>194.4500</td>\n",
       "      <td>82.4500</td>\n",
       "      <td>75.2000</td>\n",
       "      <td>359.9900</td>\n",
       "      <td>79.3100</td>\n",
       "      <td>221.3700</td>\n",
       "      <td>120.3100</td>\n",
       "      <td>56.1500</td>\n",
       "      <td>281.6300</td>\n",
       "      <td>35.3600</td>\n",
       "      <td>66.3300</td>\n",
       "      <td>125.4700</td>\n",
       "      <td>35.1500</td>\n",
       "      <td>3.4650</td>\n",
       "      <td>59.5600</td>\n",
       "      <td>76.4300</td>\n",
       "      <td>55.6500</td>\n",
       "      <td>58.6800</td>\n",
       "      <td>646.5800</td>\n",
       "      <td>247.7900</td>\n",
       "      <td>32.8100</td>\n",
       "      <td>203.0300</td>\n",
       "      <td>88.8200</td>\n",
       "      <td>15.0300</td>\n",
       "      <td>42.9400</td>\n",
       "      <td>276.3700</td>\n",
       "      <td>11.0500</td>\n",
       "      <td>135.8500</td>\n",
       "      <td>100.3100</td>\n",
       "      <td>112.0600</td>\n",
       "      <td>46.1000</td>\n",
       "      <td>264.4800</td>\n",
       "      <td>325.1000</td>\n",
       "      <td>38.4600</td>\n",
       "      <td>38.5900</td>\n",
       "      <td>91.4200</td>\n",
       "      <td>45.6600</td>\n",
       "      <td>277.7900</td>\n",
       "      <td>10.4400</td>\n",
       "      <td>164.4700</td>\n",
       "      <td>276.0100</td>\n",
       "      <td>106.5200</td>\n",
       "      <td>84.5100</td>\n",
       "      <td>559.4400</td>\n",
       "      <td>388.5000</td>\n",
       "      <td>187.3900</td>\n",
       "      <td>279.1900</td>\n",
       "      <td>166.0400</td>\n",
       "      <td>69.0100</td>\n",
       "      <td>80.6700</td>\n",
       "      <td>177.6900</td>\n",
       "      <td>97.2200</td>\n",
       "      <td>309.9300</td>\n",
       "      <td>285.0300</td>\n",
       "      <td>122.3200</td>\n",
       "      <td>450.2700</td>\n",
       "      <td>64.7400</td>\n",
       "      <td>131.4000</td>\n",
       "      <td>186.1700</td>\n",
       "      <td>126.4900</td>\n",
       "      <td>48.9100</td>\n",
       "      <td>268.0900</td>\n",
       "      <td>299.7100</td>\n",
       "      <td>50.1600</td>\n",
       "      <td>63.3500</td>\n",
       "      <td>8.9500</td>\n",
       "      <td>175.9200</td>\n",
       "      <td>86.6500</td>\n",
       "      <td>428.3600</td>\n",
       "      <td>49.7900</td>\n",
       "      <td>280.8900</td>\n",
       "      <td>48.9900</td>\n",
       "      <td>64.9300</td>\n",
       "      <td>191.1800</td>\n",
       "      <td>68.1400</td>\n",
       "      <td>131.6200</td>\n",
       "      <td>79.3300</td>\n",
       "      <td>42.6300</td>\n",
       "      <td>50.6900</td>\n",
       "      <td>205.8700</td>\n",
       "      <td>75.9100</td>\n",
       "      <td>346.8000</td>\n",
       "      <td>11.3500</td>\n",
       "      <td>10.9000</td>\n",
       "      <td>53.6800</td>\n",
       "      <td>184.9900</td>\n",
       "      <td>188.1600</td>\n",
       "      <td>239.1900</td>\n",
       "      <td>62.0700</td>\n",
       "      <td>15.5800</td>\n",
       "      <td>105.3600</td>\n",
       "      <td>154.2500</td>\n",
       "      <td>38.1600</td>\n",
       "      <td>48.5900</td>\n",
       "      <td>78.1100</td>\n",
       "      <td>74.7600</td>\n",
       "      <td>79.6600</td>\n",
       "      <td>364.1100</td>\n",
       "      <td>3.0700</td>\n",
       "      <td>161.2100</td>\n",
       "      <td>75.7800</td>\n",
       "      <td>234.1400</td>\n",
       "      <td>61.1200</td>\n",
       "      <td>27.0200</td>\n",
       "      <td>118.0300</td>\n",
       "      <td>98.0000</td>\n",
       "      <td>64.3900</td>\n",
       "      <td>88.5700</td>\n",
       "      <td>35.4700</td>\n",
       "      <td>73.2700</td>\n",
       "      <td>157.8800</td>\n",
       "      <td>431.2100</td>\n",
       "      <td>222.6800</td>\n",
       "      <td>122.8900</td>\n",
       "      <td>37.8600</td>\n",
       "      <td>246.1400</td>\n",
       "      <td>302.3800</td>\n",
       "      <td>242.6800</td>\n",
       "      <td>26.6500</td>\n",
       "      <td>90.9700</td>\n",
       "      <td>200.8900</td>\n",
       "      <td>83.8200</td>\n",
       "      <td>68.2300</td>\n",
       "      <td>87.6600</td>\n",
       "      <td>105.2300</td>\n",
       "      <td>84.9100</td>\n",
       "      <td>51.5800</td>\n",
       "      <td>50.9700</td>\n",
       "      <td>145.0600</td>\n",
       "      <td>247.2400</td>\n",
       "      <td>81.3300</td>\n",
       "      <td>42.2600</td>\n",
       "      <td>81.5900</td>\n",
       "      <td>133.7800</td>\n",
       "      <td>215.5900</td>\n",
       "      <td>97.5500</td>\n",
       "      <td>126.7400</td>\n",
       "      <td>108.3400</td>\n",
       "      <td>19.4100</td>\n",
       "      <td>19.8500</td>\n",
       "      <td>125.9300</td>\n",
       "      <td>64.4200</td>\n",
       "      <td>127.1500</td>\n",
       "      <td>65.3400</td>\n",
       "      <td>12.5400</td>\n",
       "      <td>34.3500</td>\n",
       "      <td>142.7000</td>\n",
       "      <td>44.4000</td>\n",
       "      <td>70.2200</td>\n",
       "      <td>92.3400</td>\n",
       "      <td>298.9400</td>\n",
       "      <td>68.6700</td>\n",
       "      <td>50.0900</td>\n",
       "      <td>76.4500</td>\n",
       "      <td>308.4600</td>\n",
       "      <td>17.6100</td>\n",
       "      <td>157.7700</td>\n",
       "      <td>36.3200</td>\n",
       "    </tr>\n",
       "    <tr>\n",
       "      <th>2025-06-25</th>\n",
       "      <td>118.6200</td>\n",
       "      <td>28.1700</td>\n",
       "      <td>11.0600</td>\n",
       "      <td>72.7500</td>\n",
       "      <td>201.5600</td>\n",
       "      <td>185.3900</td>\n",
       "      <td>2.3200</td>\n",
       "      <td>129.6700</td>\n",
       "      <td>137.4000</td>\n",
       "      <td>89.2300</td>\n",
       "      <td>9.9300</td>\n",
       "      <td>21.2800</td>\n",
       "      <td>111.0600</td>\n",
       "      <td>294.6000</td>\n",
       "      <td>126.4100</td>\n",
       "      <td>116.9400</td>\n",
       "      <td>59.9900</td>\n",
       "      <td>387.5500</td>\n",
       "      <td>73.3000</td>\n",
       "      <td>234.6800</td>\n",
       "      <td>52.3000</td>\n",
       "      <td>298.1900</td>\n",
       "      <td>302.3700</td>\n",
       "      <td>8.3600</td>\n",
       "      <td>95.1000</td>\n",
       "      <td>6.8800</td>\n",
       "      <td>119.7800</td>\n",
       "      <td>101.4100</td>\n",
       "      <td>114.6500</td>\n",
       "      <td>10.5000</td>\n",
       "      <td>122.6800</td>\n",
       "      <td>102.4800</td>\n",
       "      <td>66.2500</td>\n",
       "      <td>100.4900</td>\n",
       "      <td>98.8100</td>\n",
       "      <td>26.1100</td>\n",
       "      <td>9.2300</td>\n",
       "      <td>5.9600</td>\n",
       "      <td>83.9000</td>\n",
       "      <td>43.0800</td>\n",
       "      <td>79.3400</td>\n",
       "      <td>224.6000</td>\n",
       "      <td>194.6000</td>\n",
       "      <td>317.4300</td>\n",
       "      <td>79.5300</td>\n",
       "      <td>56.8200</td>\n",
       "      <td>60.3800</td>\n",
       "      <td>87.5700</td>\n",
       "      <td>32.9350</td>\n",
       "      <td>187.1400</td>\n",
       "      <td>48.6600</td>\n",
       "      <td>190.9400</td>\n",
       "      <td>142.8200</td>\n",
       "      <td>38.1500</td>\n",
       "      <td>321.9400</td>\n",
       "      <td>92.8800</td>\n",
       "      <td>110.6500</td>\n",
       "      <td>18.4600</td>\n",
       "      <td>183.0700</td>\n",
       "      <td>9.0500</td>\n",
       "      <td>143.4000</td>\n",
       "      <td>178.0000</td>\n",
       "      <td>280.3500</td>\n",
       "      <td>35.8100</td>\n",
       "      <td>48.0300</td>\n",
       "      <td>524.0200</td>\n",
       "      <td>220.2200</td>\n",
       "      <td>17.3300</td>\n",
       "      <td>211.9900</td>\n",
       "      <td>199.9200</td>\n",
       "      <td>96.3100</td>\n",
       "      <td>341.6900</td>\n",
       "      <td>354.4600</td>\n",
       "      <td>65.0400</td>\n",
       "      <td>17.8000</td>\n",
       "      <td>282.0000</td>\n",
       "      <td>50.2300</td>\n",
       "      <td>97.0200</td>\n",
       "      <td>137.7300</td>\n",
       "      <td>338.8000</td>\n",
       "      <td>230.7900</td>\n",
       "      <td>67.4100</td>\n",
       "      <td>41.0600</td>\n",
       "      <td>21.5600</td>\n",
       "      <td>73.6800</td>\n",
       "      <td>168.8000</td>\n",
       "      <td>560.5300</td>\n",
       "      <td>35.8400</td>\n",
       "      <td>69.5000</td>\n",
       "      <td>157.3100</td>\n",
       "      <td>41.1400</td>\n",
       "      <td>127.0000</td>\n",
       "      <td>37.3100</td>\n",
       "      <td>815.2400</td>\n",
       "      <td>173.0000</td>\n",
       "      <td>309.9500</td>\n",
       "      <td>49.9700</td>\n",
       "      <td>10.6100</td>\n",
       "      <td>82.9900</td>\n",
       "      <td>152.7300</td>\n",
       "      <td>153.9300</td>\n",
       "      <td>46.4500</td>\n",
       "      <td>5.2900</td>\n",
       "      <td>234.9400</td>\n",
       "      <td>201.2200</td>\n",
       "      <td>72.3200</td>\n",
       "      <td>77.0600</td>\n",
       "      <td>67.9500</td>\n",
       "      <td>264.6500</td>\n",
       "      <td>66.9000</td>\n",
       "      <td>13.5800</td>\n",
       "      <td>98.8600</td>\n",
       "      <td>89.4700</td>\n",
       "      <td>176.6000</td>\n",
       "      <td>159.4100</td>\n",
       "      <td>140.0500</td>\n",
       "      <td>785.0700</td>\n",
       "      <td>308.5900</td>\n",
       "      <td>100.4900</td>\n",
       "      <td>29.6600</td>\n",
       "      <td>287.4900</td>\n",
       "      <td>52.7900</td>\n",
       "      <td>69.6800</td>\n",
       "      <td>3489.5400</td>\n",
       "      <td>20.8700</td>\n",
       "      <td>198.9000</td>\n",
       "      <td>114.5500</td>\n",
       "      <td>46.8500</td>\n",
       "      <td>101.3400</td>\n",
       "      <td>56.7500</td>\n",
       "      <td>54.3800</td>\n",
       "      <td>217.4300</td>\n",
       "      <td>30.6100</td>\n",
       "      <td>53.9900</td>\n",
       "      <td>79.1700</td>\n",
       "      <td>2.9900</td>\n",
       "      <td>66.1400</td>\n",
       "      <td>65.9000</td>\n",
       "      <td>44.3800</td>\n",
       "      <td>59.7100</td>\n",
       "      <td>109.9200</td>\n",
       "      <td>14.8800</td>\n",
       "      <td>28.8100</td>\n",
       "      <td>68.0000</td>\n",
       "      <td>21.9400</td>\n",
       "      <td>29.4600</td>\n",
       "      <td>18.1700</td>\n",
       "      <td>170.9000</td>\n",
       "      <td>18.3300</td>\n",
       "      <td>23.2100</td>\n",
       "      <td>25.3800</td>\n",
       "      <td>26.6900</td>\n",
       "      <td>26.0600</td>\n",
       "      <td>121.1800</td>\n",
       "      <td>82.2200</td>\n",
       "      <td>46.7400</td>\n",
       "      <td>86.6500</td>\n",
       "      <td>127.3100</td>\n",
       "      <td>91.6700</td>\n",
       "      <td>20.7800</td>\n",
       "      <td>99.3800</td>\n",
       "      <td>52.6400</td>\n",
       "      <td>240.9800</td>\n",
       "      <td>33.0800</td>\n",
       "      <td>49.5000</td>\n",
       "      <td>58.6600</td>\n",
       "      <td>76.9900</td>\n",
       "      <td>113.7500</td>\n",
       "      <td>90.0000</td>\n",
       "      <td>116.7600</td>\n",
       "      <td>20.8700</td>\n",
       "      <td>5485.3500</td>\n",
       "      <td>37.5800</td>\n",
       "      <td>319.4600</td>\n",
       "      <td>115.9600</td>\n",
       "      <td>1018.0800</td>\n",
       "      <td>68.8900</td>\n",
       "      <td>242.3900</td>\n",
       "      <td>106.6400</td>\n",
       "      <td>54.1400</td>\n",
       "      <td>46.6800</td>\n",
       "      <td>60.2000</td>\n",
       "      <td>73.3000</td>\n",
       "      <td>49.4300</td>\n",
       "      <td>54.2600</td>\n",
       "      <td>60.1500</td>\n",
       "      <td>104.8000</td>\n",
       "      <td>95.0600</td>\n",
       "      <td>91.8000</td>\n",
       "      <td>112.6200</td>\n",
       "      <td>30.3200</td>\n",
       "      <td>128.2500</td>\n",
       "      <td>108.0300</td>\n",
       "      <td>238.1600</td>\n",
       "      <td>58.7500</td>\n",
       "      <td>3.5600</td>\n",
       "      <td>730000.0000</td>\n",
       "      <td>486.2100</td>\n",
       "      <td>40.9300</td>\n",
       "      <td>108.3800</td>\n",
       "      <td>68.5500</td>\n",
       "      <td>25.4600</td>\n",
       "      <td>24.3900</td>\n",
       "      <td>5.2300</td>\n",
       "      <td>20.6700</td>\n",
       "      <td>19.5000</td>\n",
       "      <td>19.6100</td>\n",
       "      <td>78.5200</td>\n",
       "      <td>104.2900</td>\n",
       "      <td>52.4200</td>\n",
       "      <td>47.7600</td>\n",
       "      <td>68.5700</td>\n",
       "      <td>31.4700</td>\n",
       "      <td>226.0900</td>\n",
       "      <td>33.1500</td>\n",
       "      <td>140.8600</td>\n",
       "      <td>143.5700</td>\n",
       "      <td>66.6400</td>\n",
       "      <td>31.3900</td>\n",
       "      <td>78.1100</td>\n",
       "      <td>17.5500</td>\n",
       "      <td>82.6300</td>\n",
       "      <td>460.9100</td>\n",
       "      <td>26.3300</td>\n",
       "      <td>20.4500</td>\n",
       "      <td>163.7500</td>\n",
       "      <td>39.3400</td>\n",
       "      <td>175.7300</td>\n",
       "      <td>72.4300</td>\n",
       "      <td>43.3300</td>\n",
       "      <td>505.1300</td>\n",
       "      <td>371.5800</td>\n",
       "      <td>73.9900</td>\n",
       "      <td>282.8200</td>\n",
       "      <td>230.4000</td>\n",
       "      <td>135.2200</td>\n",
       "      <td>61.0500</td>\n",
       "      <td>9.1700</td>\n",
       "      <td>91.5600</td>\n",
       "      <td>101.8200</td>\n",
       "      <td>71.4300</td>\n",
       "      <td>103.9200</td>\n",
       "      <td>25.4800</td>\n",
       "      <td>8.8400</td>\n",
       "      <td>297.5300</td>\n",
       "      <td>27.8000</td>\n",
       "      <td>177.8300</td>\n",
       "      <td>55.6100</td>\n",
       "      <td>30.3300</td>\n",
       "      <td>315.1400</td>\n",
       "      <td>45.4700</td>\n",
       "      <td>91.4000</td>\n",
       "      <td>43.1200</td>\n",
       "      <td>23.8900</td>\n",
       "      <td>127.1000</td>\n",
       "      <td>49.1300</td>\n",
       "      <td>22.4900</td>\n",
       "      <td>38.9100</td>\n",
       "      <td>31.5800</td>\n",
       "      <td>39.7600</td>\n",
       "      <td>26.6800</td>\n",
       "      <td>36.3200</td>\n",
       "      <td>26.8100</td>\n",
       "      <td>95.2500</td>\n",
       "      <td>99.7100</td>\n",
       "      <td>552.5000</td>\n",
       "      <td>218.9300</td>\n",
       "      <td>97.6600</td>\n",
       "      <td>92.7100</td>\n",
       "      <td>46.2900</td>\n",
       "      <td>398.8500</td>\n",
       "      <td>42.6300</td>\n",
       "      <td>316.0000</td>\n",
       "      <td>74.4300</td>\n",
       "      <td>79.4300</td>\n",
       "      <td>128.1800</td>\n",
       "      <td>143.7200</td>\n",
       "      <td>87.8000</td>\n",
       "      <td>228.4500</td>\n",
       "      <td>149.0400</td>\n",
       "      <td>119.4800</td>\n",
       "      <td>70.1900</td>\n",
       "      <td>57.8700</td>\n",
       "      <td>34.8400</td>\n",
       "      <td>273.0300</td>\n",
       "      <td>55.6400</td>\n",
       "      <td>55.1400</td>\n",
       "      <td>318.7500</td>\n",
       "      <td>68.5700</td>\n",
       "      <td>45.4100</td>\n",
       "      <td>53.5100</td>\n",
       "      <td>12.6000</td>\n",
       "      <td>101.3800</td>\n",
       "      <td>58.9000</td>\n",
       "      <td>36.3000</td>\n",
       "      <td>31.3700</td>\n",
       "      <td>208.0300</td>\n",
       "      <td>85.6300</td>\n",
       "      <td>355.3700</td>\n",
       "      <td>107.6500</td>\n",
       "      <td>69.5400</td>\n",
       "      <td>150.0500</td>\n",
       "      <td>89.0000</td>\n",
       "      <td>292.3200</td>\n",
       "      <td>73.9900</td>\n",
       "      <td>986.5400</td>\n",
       "      <td>54.3400</td>\n",
       "      <td>77.9100</td>\n",
       "      <td>326.4700</td>\n",
       "      <td>31.1800</td>\n",
       "      <td>28.8400</td>\n",
       "      <td>48.1400</td>\n",
       "      <td>113.0600</td>\n",
       "      <td>54.6100</td>\n",
       "      <td>185.2700</td>\n",
       "      <td>33.0700</td>\n",
       "      <td>92.2000</td>\n",
       "      <td>88.6700</td>\n",
       "      <td>28.3300</td>\n",
       "      <td>150.2100</td>\n",
       "      <td>267.7600</td>\n",
       "      <td>264.0000</td>\n",
       "      <td>494.0900</td>\n",
       "      <td>68.1900</td>\n",
       "      <td>81.2600</td>\n",
       "      <td>371.7900</td>\n",
       "      <td>32.4900</td>\n",
       "      <td>219.2400</td>\n",
       "      <td>26.0700</td>\n",
       "      <td>76.9800</td>\n",
       "      <td>73.2400</td>\n",
       "      <td>42.1300</td>\n",
       "      <td>13.6400</td>\n",
       "      <td>173.4200</td>\n",
       "      <td>315.7600</td>\n",
       "      <td>66.3700</td>\n",
       "      <td>143.2300</td>\n",
       "      <td>476.5000</td>\n",
       "      <td>21.7700</td>\n",
       "      <td>81.5000</td>\n",
       "      <td>31.6400</td>\n",
       "      <td>29.9300</td>\n",
       "      <td>114.4200</td>\n",
       "      <td>6.7400</td>\n",
       "      <td>399.4400</td>\n",
       "      <td>28.6000</td>\n",
       "      <td>55.2000</td>\n",
       "      <td>48.3100</td>\n",
       "      <td>37.3200</td>\n",
       "      <td>232.6800</td>\n",
       "      <td>55.0000</td>\n",
       "      <td>29.2800</td>\n",
       "      <td>43.2400</td>\n",
       "      <td>28.5400</td>\n",
       "      <td>69.0300</td>\n",
       "      <td>67.9900</td>\n",
       "      <td>130.2400</td>\n",
       "      <td>409.8900</td>\n",
       "      <td>506.7400</td>\n",
       "      <td>101.0400</td>\n",
       "      <td>120.4600</td>\n",
       "      <td>99.8600</td>\n",
       "      <td>35.2000</td>\n",
       "      <td>28.7400</td>\n",
       "      <td>33.8200</td>\n",
       "      <td>62.6500</td>\n",
       "      <td>52.9900</td>\n",
       "      <td>41.5900</td>\n",
       "      <td>28.8200</td>\n",
       "      <td>42.0500</td>\n",
       "      <td>29.4200</td>\n",
       "      <td>30.3800</td>\n",
       "      <td>42.0200</td>\n",
       "      <td>30.6000</td>\n",
       "      <td>47.8900</td>\n",
       "      <td>28.9300</td>\n",
       "      <td>65.8500</td>\n",
       "      <td>41.6700</td>\n",
       "      <td>112.7700</td>\n",
       "      <td>63.0000</td>\n",
       "      <td>82.4200</td>\n",
       "      <td>178.6500</td>\n",
       "      <td>127.2900</td>\n",
       "      <td>201.0000</td>\n",
       "      <td>429.8600</td>\n",
       "      <td>28.8600</td>\n",
       "      <td>40.9500</td>\n",
       "      <td>119.4200</td>\n",
       "      <td>41.9200</td>\n",
       "      <td>42.7400</td>\n",
       "      <td>185.6600</td>\n",
       "      <td>74.1000</td>\n",
       "      <td>80.8300</td>\n",
       "      <td>172.2500</td>\n",
       "      <td>99.4500</td>\n",
       "      <td>17.3100</td>\n",
       "      <td>60.1700</td>\n",
       "      <td>75.0100</td>\n",
       "      <td>49.3100</td>\n",
       "      <td>180.0500</td>\n",
       "      <td>26.8200</td>\n",
       "      <td>90.6600</td>\n",
       "      <td>453.1300</td>\n",
       "      <td>217.4600</td>\n",
       "      <td>43.4700</td>\n",
       "      <td>100.6000</td>\n",
       "      <td>114.1900</td>\n",
       "      <td>54.6900</td>\n",
       "      <td>130.8700</td>\n",
       "      <td>106.8100</td>\n",
       "      <td>34.9800</td>\n",
       "      <td>115.9500</td>\n",
       "      <td>397.6800</td>\n",
       "      <td>140.3600</td>\n",
       "      <td>32.1300</td>\n",
       "      <td>130.6800</td>\n",
       "      <td>84.6800</td>\n",
       "      <td>111.6000</td>\n",
       "      <td>237.5600</td>\n",
       "      <td>53.3900</td>\n",
       "      <td>31.9500</td>\n",
       "      <td>157.8200</td>\n",
       "      <td>47.3400</td>\n",
       "      <td>176.6700</td>\n",
       "      <td>74.5200</td>\n",
       "      <td>7.1700</td>\n",
       "      <td>9.3300</td>\n",
       "      <td>266.4600</td>\n",
       "      <td>98.0500</td>\n",
       "      <td>54.6200</td>\n",
       "      <td>66.4200</td>\n",
       "      <td>47.9600</td>\n",
       "      <td>62.4100</td>\n",
       "      <td>87.5600</td>\n",
       "      <td>82.5600</td>\n",
       "      <td>109.2700</td>\n",
       "      <td>62.4200</td>\n",
       "      <td>258.0300</td>\n",
       "      <td>336.4400</td>\n",
       "      <td>167.9100</td>\n",
       "      <td>120.6700</td>\n",
       "      <td>50.4100</td>\n",
       "      <td>77.5600</td>\n",
       "      <td>13.7600</td>\n",
       "      <td>125.4100</td>\n",
       "      <td>62.4000</td>\n",
       "      <td>373.8600</td>\n",
       "      <td>44.8500</td>\n",
       "      <td>91.9000</td>\n",
       "      <td>502.5700</td>\n",
       "      <td>25.0800</td>\n",
       "      <td>75.8700</td>\n",
       "      <td>129.4400</td>\n",
       "      <td>62.4600</td>\n",
       "      <td>44.4800</td>\n",
       "      <td>38.1100</td>\n",
       "      <td>152.5200</td>\n",
       "      <td>82.1500</td>\n",
       "      <td>119.8200</td>\n",
       "      <td>173.1000</td>\n",
       "      <td>30.7500</td>\n",
       "      <td>46.7800</td>\n",
       "      <td>31.8500</td>\n",
       "      <td>54.4100</td>\n",
       "      <td>824.3100</td>\n",
       "      <td>25.1000</td>\n",
       "      <td>65.6400</td>\n",
       "      <td>58.2300</td>\n",
       "      <td>8.3300</td>\n",
       "      <td>341.3000</td>\n",
       "      <td>52.9000</td>\n",
       "      <td>62.4600</td>\n",
       "      <td>118.6600</td>\n",
       "      <td>87.2800</td>\n",
       "      <td>38.9700</td>\n",
       "      <td>132.7400</td>\n",
       "      <td>107.5400</td>\n",
       "      <td>431.6100</td>\n",
       "      <td>60.2700</td>\n",
       "      <td>281.9000</td>\n",
       "      <td>80.9800</td>\n",
       "      <td>17.6700</td>\n",
       "      <td>342.3500</td>\n",
       "      <td>81.3200</td>\n",
       "      <td>53.0500</td>\n",
       "      <td>31.0500</td>\n",
       "      <td>267.0600</td>\n",
       "      <td>68.1900</td>\n",
       "      <td>76.9700</td>\n",
       "      <td>98.8300</td>\n",
       "      <td>72.4400</td>\n",
       "      <td>57.3100</td>\n",
       "      <td>72.3700</td>\n",
       "      <td>27.5700</td>\n",
       "      <td>51.9200</td>\n",
       "      <td>42.2900</td>\n",
       "      <td>119.0800</td>\n",
       "      <td>43.5300</td>\n",
       "      <td>43.2100</td>\n",
       "      <td>200.9300</td>\n",
       "      <td>112.2800</td>\n",
       "      <td>165.7500</td>\n",
       "      <td>145.4400</td>\n",
       "      <td>58.2000</td>\n",
       "      <td>10.4800</td>\n",
       "      <td>59.8200</td>\n",
       "      <td>138.0400</td>\n",
       "      <td>41.1200</td>\n",
       "      <td>47.0200</td>\n",
       "      <td>51.4000</td>\n",
       "      <td>45.7200</td>\n",
       "      <td>94.1300</td>\n",
       "      <td>134.5100</td>\n",
       "      <td>1911.7500</td>\n",
       "      <td>41.6100</td>\n",
       "      <td>41.8600</td>\n",
       "      <td>260.3400</td>\n",
       "      <td>439.8700</td>\n",
       "      <td>51.2900</td>\n",
       "      <td>222.0000</td>\n",
       "      <td>39.9200</td>\n",
       "      <td>33.8300</td>\n",
       "      <td>36.2400</td>\n",
       "      <td>52.2500</td>\n",
       "      <td>219.4000</td>\n",
       "      <td>58.4800</td>\n",
       "      <td>294.4100</td>\n",
       "      <td>20.3400</td>\n",
       "      <td>170.3600</td>\n",
       "      <td>1893.4500</td>\n",
       "      <td>80.7300</td>\n",
       "      <td>40.6800</td>\n",
       "      <td>128.1300</td>\n",
       "      <td>507.6000</td>\n",
       "      <td>43.8700</td>\n",
       "      <td>49.0200</td>\n",
       "      <td>50.9700</td>\n",
       "      <td>49.7500</td>\n",
       "      <td>48.5900</td>\n",
       "      <td>267.9800</td>\n",
       "      <td>27.7300</td>\n",
       "      <td>100.7800</td>\n",
       "      <td>285.8900</td>\n",
       "      <td>76.0000</td>\n",
       "      <td>28.2200</td>\n",
       "      <td>32.7900</td>\n",
       "      <td>39.2400</td>\n",
       "      <td>24.1600</td>\n",
       "      <td>55.2400</td>\n",
       "      <td>163.4000</td>\n",
       "      <td>96.4500</td>\n",
       "      <td>51.3800</td>\n",
       "      <td>55.9900</td>\n",
       "      <td>17.8000</td>\n",
       "      <td>48.6300</td>\n",
       "      <td>143.1400</td>\n",
       "      <td>93.7100</td>\n",
       "      <td>43.0000</td>\n",
       "      <td>20.4000</td>\n",
       "      <td>152.7000</td>\n",
       "      <td>102.7800</td>\n",
       "      <td>171.3700</td>\n",
       "      <td>125.0000</td>\n",
       "      <td>89.7400</td>\n",
       "      <td>193.7000</td>\n",
       "      <td>34.0700</td>\n",
       "      <td>103.6900</td>\n",
       "      <td>46.6000</td>\n",
       "      <td>60.0100</td>\n",
       "      <td>70.0800</td>\n",
       "      <td>124.3300</td>\n",
       "      <td>58.0000</td>\n",
       "      <td>44.3700</td>\n",
       "      <td>93.5000</td>\n",
       "      <td>103.8000</td>\n",
       "      <td>37.0600</td>\n",
       "      <td>36.3300</td>\n",
       "      <td>41.7200</td>\n",
       "      <td>21.4600</td>\n",
       "      <td>100.0900</td>\n",
       "      <td>84.8900</td>\n",
       "      <td>285.9100</td>\n",
       "      <td>177.3700</td>\n",
       "      <td>51.9200</td>\n",
       "      <td>66.7800</td>\n",
       "      <td>249.9000</td>\n",
       "      <td>72.7500</td>\n",
       "      <td>29.0800</td>\n",
       "      <td>24.0100</td>\n",
       "      <td>49.6900</td>\n",
       "      <td>38.5700</td>\n",
       "      <td>51.6700</td>\n",
       "      <td>85.2900</td>\n",
       "      <td>49.9000</td>\n",
       "      <td>103.5000</td>\n",
       "      <td>46.8400</td>\n",
       "      <td>105.9300</td>\n",
       "      <td>50.6800</td>\n",
       "      <td>121.4200</td>\n",
       "      <td>307.1200</td>\n",
       "      <td>66.0300</td>\n",
       "      <td>46.3900</td>\n",
       "      <td>51.3900</td>\n",
       "      <td>48.1300</td>\n",
       "      <td>20.5200</td>\n",
       "      <td>23.5500</td>\n",
       "      <td>58.1900</td>\n",
       "      <td>139.4200</td>\n",
       "      <td>171.4900</td>\n",
       "      <td>170.6800</td>\n",
       "      <td>22.8900</td>\n",
       "      <td>119.1500</td>\n",
       "      <td>21.2000</td>\n",
       "      <td>77.7200</td>\n",
       "      <td>4.5900</td>\n",
       "      <td>203.5400</td>\n",
       "      <td>669.8700</td>\n",
       "      <td>38.8200</td>\n",
       "      <td>38.2800</td>\n",
       "      <td>119.2300</td>\n",
       "      <td>42.5900</td>\n",
       "      <td>151.2100</td>\n",
       "      <td>39.6200</td>\n",
       "      <td>106.5000</td>\n",
       "      <td>236.0100</td>\n",
       "      <td>1023.8700</td>\n",
       "      <td>137.1000</td>\n",
       "      <td>20.2600</td>\n",
       "      <td>52.3200</td>\n",
       "      <td>71.6800</td>\n",
       "      <td>16.2800</td>\n",
       "      <td>374.1900</td>\n",
       "      <td>361.8600</td>\n",
       "      <td>75.9600</td>\n",
       "      <td>115.8800</td>\n",
       "      <td>37.4700</td>\n",
       "      <td>316.7300</td>\n",
       "      <td>248.8600</td>\n",
       "      <td>138.1200</td>\n",
       "      <td>37.7800</td>\n",
       "      <td>124.0000</td>\n",
       "      <td>235.1200</td>\n",
       "      <td>41.4100</td>\n",
       "      <td>181.1900</td>\n",
       "      <td>10.5000</td>\n",
       "      <td>142.5200</td>\n",
       "      <td>253.7200</td>\n",
       "      <td>28.5900</td>\n",
       "      <td>14.0200</td>\n",
       "      <td>64.2700</td>\n",
       "      <td>221.7900</td>\n",
       "      <td>82.7500</td>\n",
       "      <td>18.4900</td>\n",
       "      <td>24.5300</td>\n",
       "      <td>103.9700</td>\n",
       "      <td>54.5300</td>\n",
       "      <td>29.8400</td>\n",
       "      <td>61.0900</td>\n",
       "      <td>72.7900</td>\n",
       "      <td>15.5000</td>\n",
       "      <td>167.5400</td>\n",
       "      <td>34.0500</td>\n",
       "      <td>399.0600</td>\n",
       "      <td>543.3600</td>\n",
       "      <td>238.5100</td>\n",
       "      <td>176.0800</td>\n",
       "      <td>49.9500</td>\n",
       "      <td>80.1500</td>\n",
       "      <td>36.7200</td>\n",
       "      <td>51.0400</td>\n",
       "      <td>62.8500</td>\n",
       "      <td>126.6900</td>\n",
       "      <td>24.2100</td>\n",
       "      <td>61.2750</td>\n",
       "      <td>52.2600</td>\n",
       "      <td>291.0600</td>\n",
       "      <td>32.8900</td>\n",
       "      <td>180.5300</td>\n",
       "      <td>6.7300</td>\n",
       "      <td>145.9100</td>\n",
       "      <td>50.6600</td>\n",
       "      <td>113.5100</td>\n",
       "      <td>230.5000</td>\n",
       "      <td>74.3900</td>\n",
       "      <td>34.0300</td>\n",
       "      <td>530.4000</td>\n",
       "      <td>95.3000</td>\n",
       "      <td>81.5600</td>\n",
       "      <td>118.7200</td>\n",
       "      <td>59.5500</td>\n",
       "      <td>64.8900</td>\n",
       "      <td>174.5000</td>\n",
       "      <td>74.2300</td>\n",
       "      <td>58.0500</td>\n",
       "      <td>52.9600</td>\n",
       "      <td>109.9600</td>\n",
       "      <td>52.6000</td>\n",
       "      <td>107.7700</td>\n",
       "      <td>113.7300</td>\n",
       "      <td>61.7700</td>\n",
       "      <td>61.0400</td>\n",
       "      <td>122.0400</td>\n",
       "      <td>89.3400</td>\n",
       "      <td>107.5600</td>\n",
       "      <td>98.1200</td>\n",
       "      <td>130.5800</td>\n",
       "      <td>93.2300</td>\n",
       "      <td>80.0800</td>\n",
       "      <td>67.5500</td>\n",
       "      <td>55.0000</td>\n",
       "      <td>24.2500</td>\n",
       "      <td>18.5100</td>\n",
       "      <td>21.3000</td>\n",
       "      <td>134.0400</td>\n",
       "      <td>104.8500</td>\n",
       "      <td>22.2000</td>\n",
       "      <td>757.8600</td>\n",
       "      <td>32.9600</td>\n",
       "      <td>38.1100</td>\n",
       "      <td>40.0000</td>\n",
       "      <td>105.8100</td>\n",
       "      <td>38.6500</td>\n",
       "      <td>46.4000</td>\n",
       "      <td>24.1100</td>\n",
       "      <td>42.4000</td>\n",
       "      <td>158.7100</td>\n",
       "      <td>83.2800</td>\n",
       "      <td>102.6800</td>\n",
       "      <td>521.6300</td>\n",
       "      <td>48.5500</td>\n",
       "      <td>402.6400</td>\n",
       "      <td>182.0400</td>\n",
       "      <td>132.5700</td>\n",
       "      <td>154.7800</td>\n",
       "      <td>6.5900</td>\n",
       "      <td>245.6900</td>\n",
       "      <td>46.0300</td>\n",
       "      <td>147.3500</td>\n",
       "      <td>93.2600</td>\n",
       "      <td>192.5100</td>\n",
       "      <td>609.9600</td>\n",
       "      <td>107.8300</td>\n",
       "      <td>15.2500</td>\n",
       "      <td>333.4600</td>\n",
       "      <td>191.4800</td>\n",
       "      <td>415.4400</td>\n",
       "      <td>211.9700</td>\n",
       "      <td>155.1300</td>\n",
       "      <td>280.1000</td>\n",
       "      <td>136.8600</td>\n",
       "      <td>90.5700</td>\n",
       "      <td>130.0100</td>\n",
       "      <td>344.9700</td>\n",
       "      <td>241.2800</td>\n",
       "      <td>21.3000</td>\n",
       "      <td>85.3700</td>\n",
       "      <td>90.7700</td>\n",
       "      <td>76.0300</td>\n",
       "      <td>118.4800</td>\n",
       "      <td>94.0700</td>\n",
       "      <td>170.1600</td>\n",
       "      <td>128.0600</td>\n",
       "      <td>50.6600</td>\n",
       "      <td>64.5500</td>\n",
       "      <td>107.1200</td>\n",
       "      <td>142.7400</td>\n",
       "      <td>214.6600</td>\n",
       "      <td>117.9700</td>\n",
       "      <td>103.3500</td>\n",
       "      <td>46.8650</td>\n",
       "      <td>32.9400</td>\n",
       "      <td>55.9200</td>\n",
       "      <td>56.3600</td>\n",
       "      <td>53.9000</td>\n",
       "      <td>84.1400</td>\n",
       "      <td>60.3000</td>\n",
       "      <td>25.6000</td>\n",
       "      <td>69.2000</td>\n",
       "      <td>178.0600</td>\n",
       "      <td>244.5000</td>\n",
       "      <td>44.9000</td>\n",
       "      <td>50.8850</td>\n",
       "      <td>152.2800</td>\n",
       "      <td>96.7100</td>\n",
       "      <td>36.5500</td>\n",
       "      <td>8.5200</td>\n",
       "      <td>46.2100</td>\n",
       "      <td>284.0600</td>\n",
       "      <td>50.6100</td>\n",
       "      <td>59.1400</td>\n",
       "      <td>86.5700</td>\n",
       "      <td>77.8500</td>\n",
       "      <td>81.3100</td>\n",
       "      <td>48.0600</td>\n",
       "      <td>69.8900</td>\n",
       "      <td>41.2700</td>\n",
       "      <td>32.9800</td>\n",
       "      <td>13.7000</td>\n",
       "      <td>112.3100</td>\n",
       "      <td>16.7700</td>\n",
       "      <td>164.1200</td>\n",
       "      <td>15.3100</td>\n",
       "      <td>25.7300</td>\n",
       "      <td>20.8300</td>\n",
       "      <td>128.8400</td>\n",
       "      <td>893.4600</td>\n",
       "      <td>128.1500</td>\n",
       "      <td>28.3100</td>\n",
       "      <td>67.5000</td>\n",
       "      <td>48.7900</td>\n",
       "      <td>465.8300</td>\n",
       "      <td>41.9000</td>\n",
       "      <td>44.0200</td>\n",
       "      <td>69.6300</td>\n",
       "      <td>72.2200</td>\n",
       "      <td>34.1200</td>\n",
       "      <td>82.1400</td>\n",
       "      <td>19.9200</td>\n",
       "      <td>42.3300</td>\n",
       "      <td>21.1700</td>\n",
       "      <td>32.7600</td>\n",
       "      <td>34.4300</td>\n",
       "      <td>88.9000</td>\n",
       "      <td>331.3700</td>\n",
       "      <td>119.2600</td>\n",
       "      <td>93.6500</td>\n",
       "      <td>94.6700</td>\n",
       "      <td>2.1400</td>\n",
       "      <td>153.9600</td>\n",
       "      <td>206.8100</td>\n",
       "      <td>33.4300</td>\n",
       "      <td>109.7700</td>\n",
       "      <td>18.0700</td>\n",
       "      <td>258.7000</td>\n",
       "      <td>247.8700</td>\n",
       "      <td>28.1100</td>\n",
       "      <td>564.9800</td>\n",
       "      <td>460.2000</td>\n",
       "      <td>91.7700</td>\n",
       "      <td>36.9400</td>\n",
       "      <td>792.3000</td>\n",
       "      <td>77.2500</td>\n",
       "      <td>78.4800</td>\n",
       "      <td>49.3300</td>\n",
       "      <td>458.3900</td>\n",
       "      <td>236.3200</td>\n",
       "      <td>60.0900</td>\n",
       "      <td>94.4800</td>\n",
       "      <td>88.4200</td>\n",
       "      <td>220.7000</td>\n",
       "      <td>360.9500</td>\n",
       "      <td>87.5100</td>\n",
       "      <td>108.7900</td>\n",
       "      <td>96.0200</td>\n",
       "      <td>141.4800</td>\n",
       "      <td>50.8100</td>\n",
       "      <td>29.1500</td>\n",
       "      <td>231.5200</td>\n",
       "      <td>31.3400</td>\n",
       "      <td>42.9000</td>\n",
       "      <td>53.0100</td>\n",
       "      <td>57.4800</td>\n",
       "      <td>15.5600</td>\n",
       "      <td>4.1800</td>\n",
       "      <td>146.1900</td>\n",
       "      <td>549.7000</td>\n",
       "      <td>145.9100</td>\n",
       "      <td>191.4800</td>\n",
       "      <td>265.9900</td>\n",
       "      <td>63.1900</td>\n",
       "      <td>169.3000</td>\n",
       "      <td>19.1600</td>\n",
       "      <td>93.5400</td>\n",
       "      <td>17.9200</td>\n",
       "      <td>285.5500</td>\n",
       "      <td>55.5300</td>\n",
       "      <td>71.6000</td>\n",
       "      <td>718.4100</td>\n",
       "      <td>481.6500</td>\n",
       "      <td>206.7600</td>\n",
       "      <td>277.6400</td>\n",
       "      <td>67.2800</td>\n",
       "      <td>85.9700</td>\n",
       "      <td>557.6700</td>\n",
       "      <td>311.1400</td>\n",
       "      <td>2540.5000</td>\n",
       "      <td>79.1100</td>\n",
       "      <td>708.6800</td>\n",
       "      <td>31.2800</td>\n",
       "      <td>5.5100</td>\n",
       "      <td>37.5200</td>\n",
       "      <td>221.3800</td>\n",
       "      <td>359.4700</td>\n",
       "      <td>33.8800</td>\n",
       "      <td>129.9200</td>\n",
       "      <td>102.6100</td>\n",
       "      <td>143.9400</td>\n",
       "      <td>100.4400</td>\n",
       "      <td>73.6400</td>\n",
       "      <td>1965.0000</td>\n",
       "      <td>98.6600</td>\n",
       "      <td>223.1600</td>\n",
       "      <td>77.1800</td>\n",
       "      <td>534.4200</td>\n",
       "      <td>216.3100</td>\n",
       "      <td>147.7500</td>\n",
       "      <td>95.0800</td>\n",
       "      <td>298.3600</td>\n",
       "      <td>62.2000</td>\n",
       "      <td>58.9400</td>\n",
       "      <td>92.3800</td>\n",
       "      <td>294.1400</td>\n",
       "      <td>310.0000</td>\n",
       "      <td>35.4700</td>\n",
       "      <td>35.4000</td>\n",
       "      <td>165.6900</td>\n",
       "      <td>51.9600</td>\n",
       "      <td>722.8200</td>\n",
       "      <td>79.6700</td>\n",
       "      <td>26.8600</td>\n",
       "      <td>75.9300</td>\n",
       "      <td>137.7200</td>\n",
       "      <td>168.0600</td>\n",
       "      <td>569.9900</td>\n",
       "      <td>492.2700</td>\n",
       "      <td>419.0000</td>\n",
       "      <td>388.6700</td>\n",
       "      <td>31.0100</td>\n",
       "      <td>191.2300</td>\n",
       "      <td>30.8600</td>\n",
       "      <td>1192.8500</td>\n",
       "      <td>47.7900</td>\n",
       "      <td>27.4700</td>\n",
       "      <td>139.1700</td>\n",
       "      <td>235.2000</td>\n",
       "      <td>168.5600</td>\n",
       "      <td>127.2500</td>\n",
       "      <td>104.1900</td>\n",
       "      <td>13.6200</td>\n",
       "      <td>406.2700</td>\n",
       "      <td>127.7800</td>\n",
       "      <td>19.0200</td>\n",
       "      <td>88.0500</td>\n",
       "      <td>212.7200</td>\n",
       "      <td>70.3400</td>\n",
       "      <td>58.0600</td>\n",
       "      <td>190.1200</td>\n",
       "      <td>673.8900</td>\n",
       "      <td>83.6400</td>\n",
       "      <td>1275.2500</td>\n",
       "      <td>73.2300</td>\n",
       "      <td>39.7300</td>\n",
       "      <td>165.5300</td>\n",
       "      <td>3.4700</td>\n",
       "      <td>60.8300</td>\n",
       "      <td>19.2400</td>\n",
       "      <td>6.2100</td>\n",
       "      <td>42.7900</td>\n",
       "      <td>99.1800</td>\n",
       "      <td>486.9200</td>\n",
       "      <td>5.1700</td>\n",
       "      <td>1005.1600</td>\n",
       "      <td>153.3200</td>\n",
       "      <td>255.2100</td>\n",
       "      <td>105.1800</td>\n",
       "      <td>133.1600</td>\n",
       "      <td>73.4200</td>\n",
       "      <td>58.6400</td>\n",
       "      <td>164.1600</td>\n",
       "      <td>123.8000</td>\n",
       "      <td>13.2300</td>\n",
       "      <td>128.2100</td>\n",
       "      <td>154.3100</td>\n",
       "      <td>67.4000</td>\n",
       "      <td>255.3500</td>\n",
       "      <td>67.3500</td>\n",
       "      <td>7193.1800</td>\n",
       "      <td>118.0000</td>\n",
       "      <td>72.0000</td>\n",
       "      <td>13.8400</td>\n",
       "      <td>33.7200</td>\n",
       "      <td>29.4000</td>\n",
       "      <td>216.2800</td>\n",
       "      <td>57.5600</td>\n",
       "      <td>55.2900</td>\n",
       "      <td>57.0800</td>\n",
       "      <td>14.4500</td>\n",
       "      <td>136.0400</td>\n",
       "      <td>160.3500</td>\n",
       "      <td>298.6900</td>\n",
       "      <td>43.7500</td>\n",
       "      <td>36.6400</td>\n",
       "      <td>80.1900</td>\n",
       "      <td>55.5700</td>\n",
       "      <td>98.2100</td>\n",
       "      <td>156.0500</td>\n",
       "      <td>131.4700</td>\n",
       "      <td>70.6900</td>\n",
       "      <td>55.5500</td>\n",
       "      <td>56.5900</td>\n",
       "      <td>53.7400</td>\n",
       "      <td>21.0500</td>\n",
       "      <td>267.1250</td>\n",
       "      <td>78.5700</td>\n",
       "      <td>51.4800</td>\n",
       "      <td>210.7200</td>\n",
       "      <td>37.3000</td>\n",
       "      <td>87.8400</td>\n",
       "      <td>109.8500</td>\n",
       "      <td>28.6200</td>\n",
       "      <td>96.6300</td>\n",
       "      <td>38.0000</td>\n",
       "      <td>19.0300</td>\n",
       "      <td>42.4200</td>\n",
       "      <td>17.9500</td>\n",
       "      <td>51.4100</td>\n",
       "      <td>28.6800</td>\n",
       "      <td>223.5700</td>\n",
       "      <td>174.3700</td>\n",
       "      <td>19.0700</td>\n",
       "      <td>204.3000</td>\n",
       "      <td>12.2200</td>\n",
       "      <td>12.4700</td>\n",
       "      <td>42.7700</td>\n",
       "      <td>222.7900</td>\n",
       "      <td>137.9400</td>\n",
       "      <td>69.1400</td>\n",
       "      <td>36.6900</td>\n",
       "      <td>12.2700</td>\n",
       "      <td>11.2500</td>\n",
       "      <td>61.0500</td>\n",
       "      <td>94.1400</td>\n",
       "      <td>13.7900</td>\n",
       "      <td>67.5100</td>\n",
       "      <td>175.5000</td>\n",
       "      <td>13.0500</td>\n",
       "      <td>107.1400</td>\n",
       "      <td>18.8000</td>\n",
       "      <td>82.7500</td>\n",
       "      <td>50.5700</td>\n",
       "      <td>253.2200</td>\n",
       "      <td>128.0200</td>\n",
       "      <td>24.2600</td>\n",
       "      <td>30.4800</td>\n",
       "      <td>77.0600</td>\n",
       "      <td>85.5300</td>\n",
       "      <td>158.9700</td>\n",
       "      <td>259.6700</td>\n",
       "      <td>11.0700</td>\n",
       "      <td>673.5100</td>\n",
       "      <td>23.9200</td>\n",
       "      <td>103.5600</td>\n",
       "      <td>25.4900</td>\n",
       "      <td>35.3400</td>\n",
       "      <td>186.8400</td>\n",
       "      <td>49.8500</td>\n",
       "      <td>104.7800</td>\n",
       "      <td>105.4800</td>\n",
       "      <td>142.9000</td>\n",
       "      <td>179.6000</td>\n",
       "      <td>182.5100</td>\n",
       "      <td>106.8700</td>\n",
       "      <td>101.0600</td>\n",
       "      <td>88.7400</td>\n",
       "      <td>306.2300</td>\n",
       "      <td>298.1700</td>\n",
       "      <td>107.4700</td>\n",
       "      <td>136.8000</td>\n",
       "      <td>44.9100</td>\n",
       "      <td>113.2600</td>\n",
       "      <td>33.5000</td>\n",
       "      <td>13.7100</td>\n",
       "      <td>41.5300</td>\n",
       "      <td>263.7200</td>\n",
       "      <td>29.1300</td>\n",
       "      <td>105.5200</td>\n",
       "      <td>289.4400</td>\n",
       "      <td>12.3000</td>\n",
       "      <td>68.5100</td>\n",
       "      <td>14.4700</td>\n",
       "      <td>54.9300</td>\n",
       "      <td>119.6300</td>\n",
       "      <td>168.6000</td>\n",
       "      <td>25.0800</td>\n",
       "      <td>49.7200</td>\n",
       "      <td>374.0700</td>\n",
       "      <td>26.4500</td>\n",
       "      <td>73.0700</td>\n",
       "      <td>155.9300</td>\n",
       "      <td>47.4500</td>\n",
       "      <td>113.3300</td>\n",
       "      <td>541.1600</td>\n",
       "      <td>222.7300</td>\n",
       "      <td>82.7400</td>\n",
       "      <td>64.8600</td>\n",
       "      <td>179.3700</td>\n",
       "      <td>21.8100</td>\n",
       "      <td>16.6400</td>\n",
       "      <td>155.8800</td>\n",
       "      <td>475.1200</td>\n",
       "      <td>104.6600</td>\n",
       "      <td>380.5700</td>\n",
       "      <td>102.8400</td>\n",
       "      <td>29.1000</td>\n",
       "      <td>284.3400</td>\n",
       "      <td>61.6900</td>\n",
       "      <td>15.5000</td>\n",
       "      <td>24.5500</td>\n",
       "      <td>70.0300</td>\n",
       "      <td>520.2900</td>\n",
       "      <td>53.0700</td>\n",
       "      <td>35.8100</td>\n",
       "      <td>22.8900</td>\n",
       "      <td>195.4200</td>\n",
       "      <td>21.7300</td>\n",
       "      <td>124.0200</td>\n",
       "      <td>176.6800</td>\n",
       "      <td>98.8200</td>\n",
       "      <td>56.7100</td>\n",
       "      <td>11.2500</td>\n",
       "      <td>13.7600</td>\n",
       "      <td>151.7300</td>\n",
       "      <td>32.3500</td>\n",
       "      <td>14.3300</td>\n",
       "      <td>274.8700</td>\n",
       "      <td>71.2700</td>\n",
       "      <td>61.9000</td>\n",
       "      <td>257.9100</td>\n",
       "      <td>240.8400</td>\n",
       "      <td>106.1000</td>\n",
       "      <td>11.4000</td>\n",
       "      <td>322.4700</td>\n",
       "      <td>83.6300</td>\n",
       "      <td>56.1400</td>\n",
       "      <td>566.9400</td>\n",
       "      <td>127.2800</td>\n",
       "      <td>109.0000</td>\n",
       "      <td>35.9100</td>\n",
       "      <td>41.0600</td>\n",
       "      <td>143.6300</td>\n",
       "      <td>309.0400</td>\n",
       "      <td>243.8800</td>\n",
       "      <td>178.8800</td>\n",
       "      <td>40.0800</td>\n",
       "      <td>23.4800</td>\n",
       "      <td>141.3800</td>\n",
       "      <td>38.4100</td>\n",
       "      <td>97.7000</td>\n",
       "      <td>102.5000</td>\n",
       "      <td>128.0700</td>\n",
       "      <td>56.2200</td>\n",
       "      <td>67.1100</td>\n",
       "      <td>17.7400</td>\n",
       "      <td>270.0900</td>\n",
       "      <td>8.0300</td>\n",
       "      <td>293.2900</td>\n",
       "      <td>24.6300</td>\n",
       "      <td>232.6800</td>\n",
       "      <td>20.4100</td>\n",
       "      <td>91.1000</td>\n",
       "      <td>97.0800</td>\n",
       "      <td>24.8700</td>\n",
       "      <td>23.3900</td>\n",
       "      <td>41.5100</td>\n",
       "      <td>26.2000</td>\n",
       "      <td>29.9400</td>\n",
       "      <td>21.6600</td>\n",
       "      <td>28.6300</td>\n",
       "      <td>21.0000</td>\n",
       "      <td>22.6300</td>\n",
       "      <td>29.2800</td>\n",
       "      <td>27.5400</td>\n",
       "      <td>24.3500</td>\n",
       "      <td>26.5600</td>\n",
       "      <td>24.9500</td>\n",
       "      <td>27.2400</td>\n",
       "      <td>89.8000</td>\n",
       "      <td>24.0300</td>\n",
       "      <td>23.1300</td>\n",
       "      <td>79.7600</td>\n",
       "      <td>70.7500</td>\n",
       "      <td>34.8400</td>\n",
       "      <td>133.9700</td>\n",
       "      <td>155.8100</td>\n",
       "      <td>86.8500</td>\n",
       "      <td>102.4000</td>\n",
       "      <td>164.6200</td>\n",
       "      <td>65.7800</td>\n",
       "      <td>31.8000</td>\n",
       "      <td>100.6400</td>\n",
       "      <td>69.4400</td>\n",
       "      <td>44.4000</td>\n",
       "      <td>47.7600</td>\n",
       "      <td>113.8900</td>\n",
       "      <td>110.3600</td>\n",
       "      <td>343.6200</td>\n",
       "      <td>82.7300</td>\n",
       "      <td>42.9300</td>\n",
       "      <td>22.4500</td>\n",
       "      <td>95.7200</td>\n",
       "      <td>25.3800</td>\n",
       "      <td>22.8800</td>\n",
       "      <td>62.8300</td>\n",
       "      <td>118.2600</td>\n",
       "      <td>33.1800</td>\n",
       "      <td>64.9000</td>\n",
       "      <td>32.3200</td>\n",
       "      <td>33.0100</td>\n",
       "      <td>87.0600</td>\n",
       "      <td>78.6700</td>\n",
       "      <td>46.6100</td>\n",
       "      <td>14.9100</td>\n",
       "      <td>275.2000</td>\n",
       "      <td>21.2700</td>\n",
       "      <td>38.6600</td>\n",
       "      <td>93.3700</td>\n",
       "      <td>307.1400</td>\n",
       "      <td>8.0300</td>\n",
       "      <td>29.9000</td>\n",
       "      <td>221.5200</td>\n",
       "      <td>487.2700</td>\n",
       "      <td>50.2300</td>\n",
       "      <td>137.7900</td>\n",
       "      <td>47.8000</td>\n",
       "      <td>90.4000</td>\n",
       "      <td>16.0800</td>\n",
       "      <td>24.9200</td>\n",
       "      <td>24.5800</td>\n",
       "      <td>237.2100</td>\n",
       "      <td>25.4800</td>\n",
       "      <td>39.6400</td>\n",
       "      <td>42.3200</td>\n",
       "      <td>157.4000</td>\n",
       "      <td>521.2900</td>\n",
       "      <td>69.9600</td>\n",
       "      <td>23.6600</td>\n",
       "      <td>33.4400</td>\n",
       "      <td>71.6300</td>\n",
       "      <td>71.7800</td>\n",
       "      <td>22.0100</td>\n",
       "      <td>53.5100</td>\n",
       "      <td>109.9500</td>\n",
       "      <td>736.3000</td>\n",
       "      <td>30.1300</td>\n",
       "      <td>41.9300</td>\n",
       "      <td>28.6700</td>\n",
       "      <td>26.3500</td>\n",
       "      <td>73.5700</td>\n",
       "      <td>29.2500</td>\n",
       "      <td>161.4600</td>\n",
       "      <td>164.7500</td>\n",
       "      <td>607.1200</td>\n",
       "      <td>41.8000</td>\n",
       "      <td>93.3700</td>\n",
       "      <td>49.8700</td>\n",
       "      <td>51.6400</td>\n",
       "      <td>26.8500</td>\n",
       "      <td>75.0200</td>\n",
       "      <td>41.4600</td>\n",
       "      <td>88.8300</td>\n",
       "      <td>156.9900</td>\n",
       "      <td>80.4800</td>\n",
       "      <td>94.4400</td>\n",
       "      <td>35.5500</td>\n",
       "      <td>240.3700</td>\n",
       "      <td>54.8800</td>\n",
       "      <td>102.6700</td>\n",
       "      <td>9.8600</td>\n",
       "      <td>128.4800</td>\n",
       "      <td>29.9400</td>\n",
       "      <td>106.9900</td>\n",
       "      <td>224.6400</td>\n",
       "      <td>104.3500</td>\n",
       "      <td>25.2500</td>\n",
       "      <td>20.2500</td>\n",
       "      <td>138.5400</td>\n",
       "      <td>161.5300</td>\n",
       "      <td>37.9700</td>\n",
       "      <td>106.2300</td>\n",
       "      <td>127.0000</td>\n",
       "      <td>51.4500</td>\n",
       "      <td>124.6700</td>\n",
       "      <td>9.2700</td>\n",
       "      <td>66.2500</td>\n",
       "      <td>74.2700</td>\n",
       "      <td>64.9300</td>\n",
       "      <td>392.2300</td>\n",
       "      <td>34.9100</td>\n",
       "      <td>75.0500</td>\n",
       "      <td>27.9200</td>\n",
       "      <td>14.9700</td>\n",
       "      <td>47.2400</td>\n",
       "      <td>49.9700</td>\n",
       "      <td>34.7300</td>\n",
       "      <td>59.3700</td>\n",
       "      <td>72.0000</td>\n",
       "      <td>1457.2400</td>\n",
       "      <td>497.2300</td>\n",
       "      <td>198.3600</td>\n",
       "      <td>51.8900</td>\n",
       "      <td>38.2500</td>\n",
       "      <td>89.5000</td>\n",
       "      <td>5.1600</td>\n",
       "      <td>167.8700</td>\n",
       "      <td>90.2000</td>\n",
       "      <td>17.0000</td>\n",
       "      <td>41.4000</td>\n",
       "      <td>87.1400</td>\n",
       "      <td>50.6200</td>\n",
       "      <td>96.7000</td>\n",
       "      <td>169.0100</td>\n",
       "      <td>165.6600</td>\n",
       "      <td>34.9500</td>\n",
       "      <td>36.4800</td>\n",
       "      <td>18.6300</td>\n",
       "      <td>109.5800</td>\n",
       "      <td>122.4800</td>\n",
       "      <td>174.9400</td>\n",
       "      <td>100.9400</td>\n",
       "      <td>15.9100</td>\n",
       "      <td>288.0000</td>\n",
       "      <td>87.5100</td>\n",
       "      <td>169.1500</td>\n",
       "      <td>18.7300</td>\n",
       "      <td>38.2900</td>\n",
       "      <td>60.0300</td>\n",
       "      <td>410.6500</td>\n",
       "      <td>230.9000</td>\n",
       "      <td>111.3100</td>\n",
       "      <td>41.5000</td>\n",
       "      <td>39.9600</td>\n",
       "      <td>52.0100</td>\n",
       "      <td>1036.2800</td>\n",
       "      <td>85.4200</td>\n",
       "      <td>78.4800</td>\n",
       "      <td>55.3100</td>\n",
       "      <td>170.4900</td>\n",
       "      <td>195.7300</td>\n",
       "      <td>74.1200</td>\n",
       "      <td>56.0300</td>\n",
       "      <td>94.9500</td>\n",
       "      <td>46.9800</td>\n",
       "      <td>88.5100</td>\n",
       "      <td>260.8100</td>\n",
       "      <td>35.5100</td>\n",
       "      <td>52.8000</td>\n",
       "      <td>327.5500</td>\n",
       "      <td>12.5800</td>\n",
       "      <td>222.7400</td>\n",
       "      <td>54.6400</td>\n",
       "      <td>427.5300</td>\n",
       "      <td>70.4100</td>\n",
       "      <td>69.8000</td>\n",
       "      <td>61.0400</td>\n",
       "      <td>35.9900</td>\n",
       "      <td>241.6400</td>\n",
       "      <td>15.9300</td>\n",
       "      <td>144.0500</td>\n",
       "      <td>119.8200</td>\n",
       "      <td>29.8100</td>\n",
       "      <td>205.3800</td>\n",
       "      <td>184.0100</td>\n",
       "      <td>79.2800</td>\n",
       "      <td>581.2400</td>\n",
       "      <td>24.1500</td>\n",
       "      <td>76.7300</td>\n",
       "      <td>90.9000</td>\n",
       "      <td>32.2500</td>\n",
       "      <td>40.1100</td>\n",
       "      <td>99.2400</td>\n",
       "      <td>35.7100</td>\n",
       "      <td>60.7900</td>\n",
       "      <td>54.1600</td>\n",
       "      <td>175.6900</td>\n",
       "      <td>395.2300</td>\n",
       "      <td>61.2900</td>\n",
       "      <td>459.0900</td>\n",
       "      <td>102.5900</td>\n",
       "      <td>7.6600</td>\n",
       "      <td>302.0200</td>\n",
       "      <td>78.0300</td>\n",
       "      <td>226.8100</td>\n",
       "      <td>86.9500</td>\n",
       "      <td>99.3700</td>\n",
       "      <td>62.4400</td>\n",
       "      <td>37.8400</td>\n",
       "      <td>68.9300</td>\n",
       "      <td>736.1800</td>\n",
       "      <td>166.1200</td>\n",
       "      <td>44.8200</td>\n",
       "      <td>76.1900</td>\n",
       "      <td>50.2900</td>\n",
       "      <td>37.3100</td>\n",
       "      <td>51.1500</td>\n",
       "      <td>92.3500</td>\n",
       "      <td>285.9700</td>\n",
       "      <td>4.1400</td>\n",
       "      <td>345.2600</td>\n",
       "      <td>9.0600</td>\n",
       "      <td>233.7800</td>\n",
       "      <td>272.1100</td>\n",
       "      <td>192.7300</td>\n",
       "      <td>82.4100</td>\n",
       "      <td>75.0900</td>\n",
       "      <td>355.8300</td>\n",
       "      <td>79.2700</td>\n",
       "      <td>218.5700</td>\n",
       "      <td>119.6400</td>\n",
       "      <td>55.8700</td>\n",
       "      <td>279.5000</td>\n",
       "      <td>33.4500</td>\n",
       "      <td>66.1200</td>\n",
       "      <td>125.1200</td>\n",
       "      <td>34.8700</td>\n",
       "      <td>3.5100</td>\n",
       "      <td>59.6000</td>\n",
       "      <td>75.9600</td>\n",
       "      <td>55.6800</td>\n",
       "      <td>58.7000</td>\n",
       "      <td>652.0200</td>\n",
       "      <td>247.7100</td>\n",
       "      <td>32.2600</td>\n",
       "      <td>202.3300</td>\n",
       "      <td>88.1950</td>\n",
       "      <td>14.8100</td>\n",
       "      <td>43.0900</td>\n",
       "      <td>273.7900</td>\n",
       "      <td>10.7500</td>\n",
       "      <td>135.7200</td>\n",
       "      <td>100.1700</td>\n",
       "      <td>111.4100</td>\n",
       "      <td>46.1400</td>\n",
       "      <td>254.6400</td>\n",
       "      <td>325.0100</td>\n",
       "      <td>35.8900</td>\n",
       "      <td>38.0700</td>\n",
       "      <td>89.2200</td>\n",
       "      <td>45.5800</td>\n",
       "      <td>275.7900</td>\n",
       "      <td>10.3700</td>\n",
       "      <td>162.9200</td>\n",
       "      <td>275.8700</td>\n",
       "      <td>106.9200</td>\n",
       "      <td>84.0500</td>\n",
       "      <td>559.7200</td>\n",
       "      <td>388.9000</td>\n",
       "      <td>186.8000</td>\n",
       "      <td>277.7800</td>\n",
       "      <td>165.8700</td>\n",
       "      <td>68.4700</td>\n",
       "      <td>80.4600</td>\n",
       "      <td>175.2900</td>\n",
       "      <td>95.1100</td>\n",
       "      <td>304.1700</td>\n",
       "      <td>282.4400</td>\n",
       "      <td>121.6400</td>\n",
       "      <td>445.8200</td>\n",
       "      <td>64.5500</td>\n",
       "      <td>131.4000</td>\n",
       "      <td>186.3200</td>\n",
       "      <td>126.2700</td>\n",
       "      <td>48.9000</td>\n",
       "      <td>267.7000</td>\n",
       "      <td>299.3600</td>\n",
       "      <td>50.1800</td>\n",
       "      <td>63.5100</td>\n",
       "      <td>8.8900</td>\n",
       "      <td>174.9700</td>\n",
       "      <td>85.6900</td>\n",
       "      <td>430.2700</td>\n",
       "      <td>49.7900</td>\n",
       "      <td>281.4100</td>\n",
       "      <td>49.1100</td>\n",
       "      <td>64.9000</td>\n",
       "      <td>189.2900</td>\n",
       "      <td>67.9600</td>\n",
       "      <td>130.9900</td>\n",
       "      <td>78.9400</td>\n",
       "      <td>42.1200</td>\n",
       "      <td>50.1100</td>\n",
       "      <td>203.7700</td>\n",
       "      <td>75.5000</td>\n",
       "      <td>350.0100</td>\n",
       "      <td>11.3100</td>\n",
       "      <td>10.8700</td>\n",
       "      <td>53.0800</td>\n",
       "      <td>182.1300</td>\n",
       "      <td>185.6800</td>\n",
       "      <td>233.4600</td>\n",
       "      <td>62.5500</td>\n",
       "      <td>15.5000</td>\n",
       "      <td>102.8700</td>\n",
       "      <td>153.4300</td>\n",
       "      <td>37.7000</td>\n",
       "      <td>49.1600</td>\n",
       "      <td>79.0700</td>\n",
       "      <td>73.8200</td>\n",
       "      <td>79.5000</td>\n",
       "      <td>356.0900</td>\n",
       "      <td>3.0800</td>\n",
       "      <td>159.7700</td>\n",
       "      <td>74.9100</td>\n",
       "      <td>228.5800</td>\n",
       "      <td>60.6900</td>\n",
       "      <td>26.1900</td>\n",
       "      <td>116.0800</td>\n",
       "      <td>97.2600</td>\n",
       "      <td>62.6500</td>\n",
       "      <td>89.3000</td>\n",
       "      <td>34.4100</td>\n",
       "      <td>71.8000</td>\n",
       "      <td>158.9000</td>\n",
       "      <td>423.6000</td>\n",
       "      <td>221.0200</td>\n",
       "      <td>121.3400</td>\n",
       "      <td>37.0900</td>\n",
       "      <td>244.0300</td>\n",
       "      <td>298.7800</td>\n",
       "      <td>243.4200</td>\n",
       "      <td>26.0700</td>\n",
       "      <td>91.9100</td>\n",
       "      <td>201.6100</td>\n",
       "      <td>83.2700</td>\n",
       "      <td>67.3200</td>\n",
       "      <td>86.8200</td>\n",
       "      <td>105.2100</td>\n",
       "      <td>84.5400</td>\n",
       "      <td>51.4100</td>\n",
       "      <td>51.2000</td>\n",
       "      <td>143.7800</td>\n",
       "      <td>249.3500</td>\n",
       "      <td>80.2400</td>\n",
       "      <td>41.2300</td>\n",
       "      <td>80.5000</td>\n",
       "      <td>133.9000</td>\n",
       "      <td>213.0500</td>\n",
       "      <td>96.5900</td>\n",
       "      <td>125.8800</td>\n",
       "      <td>108.3700</td>\n",
       "      <td>19.2700</td>\n",
       "      <td>19.2000</td>\n",
       "      <td>124.0300</td>\n",
       "      <td>64.4900</td>\n",
       "      <td>127.4900</td>\n",
       "      <td>64.8100</td>\n",
       "      <td>12.0700</td>\n",
       "      <td>33.0600</td>\n",
       "      <td>147.1800</td>\n",
       "      <td>44.4700</td>\n",
       "      <td>68.4500</td>\n",
       "      <td>92.7900</td>\n",
       "      <td>303.0500</td>\n",
       "      <td>67.0100</td>\n",
       "      <td>50.1300</td>\n",
       "      <td>76.6200</td>\n",
       "      <td>311.9800</td>\n",
       "      <td>17.8400</td>\n",
       "      <td>157.2300</td>\n",
       "      <td>36.1400</td>\n",
       "    </tr>\n",
       "    <tr>\n",
       "      <th>2025-06-26</th>\n",
       "      <td>119.4200</td>\n",
       "      <td>29.9300</td>\n",
       "      <td>11.1300</td>\n",
       "      <td>72.4600</td>\n",
       "      <td>201.0000</td>\n",
       "      <td>186.7900</td>\n",
       "      <td>2.3700</td>\n",
       "      <td>133.7200</td>\n",
       "      <td>133.6700</td>\n",
       "      <td>90.2900</td>\n",
       "      <td>10.5900</td>\n",
       "      <td>21.1200</td>\n",
       "      <td>112.2100</td>\n",
       "      <td>296.0800</td>\n",
       "      <td>127.4700</td>\n",
       "      <td>117.4200</td>\n",
       "      <td>60.5900</td>\n",
       "      <td>384.9500</td>\n",
       "      <td>73.0000</td>\n",
       "      <td>237.3000</td>\n",
       "      <td>53.1700</td>\n",
       "      <td>302.9800</td>\n",
       "      <td>304.9300</td>\n",
       "      <td>8.4000</td>\n",
       "      <td>95.3800</td>\n",
       "      <td>7.0200</td>\n",
       "      <td>123.0500</td>\n",
       "      <td>102.3500</td>\n",
       "      <td>115.7300</td>\n",
       "      <td>10.8100</td>\n",
       "      <td>124.3700</td>\n",
       "      <td>103.9100</td>\n",
       "      <td>66.9000</td>\n",
       "      <td>102.5700</td>\n",
       "      <td>99.0800</td>\n",
       "      <td>26.1400</td>\n",
       "      <td>9.3200</td>\n",
       "      <td>4.8800</td>\n",
       "      <td>84.9700</td>\n",
       "      <td>43.4800</td>\n",
       "      <td>80.5200</td>\n",
       "      <td>232.2100</td>\n",
       "      <td>196.2100</td>\n",
       "      <td>318.3900</td>\n",
       "      <td>79.6000</td>\n",
       "      <td>58.0400</td>\n",
       "      <td>63.7500</td>\n",
       "      <td>87.1100</td>\n",
       "      <td>33.6700</td>\n",
       "      <td>187.7400</td>\n",
       "      <td>49.0100</td>\n",
       "      <td>194.1500</td>\n",
       "      <td>143.3900</td>\n",
       "      <td>38.7800</td>\n",
       "      <td>318.2500</td>\n",
       "      <td>94.1100</td>\n",
       "      <td>111.1300</td>\n",
       "      <td>18.9200</td>\n",
       "      <td>183.5200</td>\n",
       "      <td>9.2100</td>\n",
       "      <td>143.6800</td>\n",
       "      <td>179.8200</td>\n",
       "      <td>279.1100</td>\n",
       "      <td>36.0300</td>\n",
       "      <td>48.8200</td>\n",
       "      <td>525.4800</td>\n",
       "      <td>217.5200</td>\n",
       "      <td>17.5600</td>\n",
       "      <td>217.1200</td>\n",
       "      <td>200.0300</td>\n",
       "      <td>101.5900</td>\n",
       "      <td>343.4000</td>\n",
       "      <td>353.5500</td>\n",
       "      <td>64.6700</td>\n",
       "      <td>18.4500</td>\n",
       "      <td>283.0000</td>\n",
       "      <td>50.3100</td>\n",
       "      <td>96.9800</td>\n",
       "      <td>139.3500</td>\n",
       "      <td>347.4500</td>\n",
       "      <td>229.2900</td>\n",
       "      <td>67.9400</td>\n",
       "      <td>40.8900</td>\n",
       "      <td>21.7500</td>\n",
       "      <td>74.2100</td>\n",
       "      <td>171.1100</td>\n",
       "      <td>560.0400</td>\n",
       "      <td>35.7900</td>\n",
       "      <td>71.0300</td>\n",
       "      <td>158.1500</td>\n",
       "      <td>41.9000</td>\n",
       "      <td>128.2800</td>\n",
       "      <td>37.8500</td>\n",
       "      <td>798.0900</td>\n",
       "      <td>172.9500</td>\n",
       "      <td>313.2700</td>\n",
       "      <td>50.6200</td>\n",
       "      <td>10.6500</td>\n",
       "      <td>85.6800</td>\n",
       "      <td>152.9200</td>\n",
       "      <td>154.4800</td>\n",
       "      <td>46.3600</td>\n",
       "      <td>5.4000</td>\n",
       "      <td>272.3700</td>\n",
       "      <td>204.1300</td>\n",
       "      <td>73.3500</td>\n",
       "      <td>78.4400</td>\n",
       "      <td>68.3600</td>\n",
       "      <td>270.1700</td>\n",
       "      <td>67.6400</td>\n",
       "      <td>13.7400</td>\n",
       "      <td>99.9100</td>\n",
       "      <td>90.9000</td>\n",
       "      <td>175.9500</td>\n",
       "      <td>160.5800</td>\n",
       "      <td>138.4200</td>\n",
       "      <td>803.9500</td>\n",
       "      <td>311.4200</td>\n",
       "      <td>102.8100</td>\n",
       "      <td>29.9000</td>\n",
       "      <td>304.1800</td>\n",
       "      <td>52.9500</td>\n",
       "      <td>70.0700</td>\n",
       "      <td>3522.2500</td>\n",
       "      <td>21.2000</td>\n",
       "      <td>202.5800</td>\n",
       "      <td>113.9300</td>\n",
       "      <td>47.4600</td>\n",
       "      <td>103.2700</td>\n",
       "      <td>56.9900</td>\n",
       "      <td>55.1200</td>\n",
       "      <td>223.0500</td>\n",
       "      <td>30.5000</td>\n",
       "      <td>54.5900</td>\n",
       "      <td>80.1800</td>\n",
       "      <td>3.0100</td>\n",
       "      <td>66.7100</td>\n",
       "      <td>66.8700</td>\n",
       "      <td>45.1200</td>\n",
       "      <td>60.9700</td>\n",
       "      <td>110.8000</td>\n",
       "      <td>14.9700</td>\n",
       "      <td>29.1400</td>\n",
       "      <td>68.4300</td>\n",
       "      <td>21.8500</td>\n",
       "      <td>29.7200</td>\n",
       "      <td>18.3300</td>\n",
       "      <td>169.9700</td>\n",
       "      <td>18.4400</td>\n",
       "      <td>23.4800</td>\n",
       "      <td>25.6200</td>\n",
       "      <td>26.7800</td>\n",
       "      <td>26.1900</td>\n",
       "      <td>120.5200</td>\n",
       "      <td>82.3000</td>\n",
       "      <td>48.3400</td>\n",
       "      <td>86.4600</td>\n",
       "      <td>126.9200</td>\n",
       "      <td>91.6800</td>\n",
       "      <td>20.8200</td>\n",
       "      <td>99.3900</td>\n",
       "      <td>52.7700</td>\n",
       "      <td>243.4700</td>\n",
       "      <td>33.8600</td>\n",
       "      <td>49.2700</td>\n",
       "      <td>58.5300</td>\n",
       "      <td>77.2400</td>\n",
       "      <td>113.4900</td>\n",
       "      <td>90.0400</td>\n",
       "      <td>117.7000</td>\n",
       "      <td>20.8700</td>\n",
       "      <td>5596.0000</td>\n",
       "      <td>38.3200</td>\n",
       "      <td>320.9300</td>\n",
       "      <td>115.9800</td>\n",
       "      <td>1030.7900</td>\n",
       "      <td>69.2000</td>\n",
       "      <td>246.9400</td>\n",
       "      <td>109.1000</td>\n",
       "      <td>54.1000</td>\n",
       "      <td>46.6500</td>\n",
       "      <td>61.1000</td>\n",
       "      <td>73.5100</td>\n",
       "      <td>49.4800</td>\n",
       "      <td>55.1000</td>\n",
       "      <td>61.0350</td>\n",
       "      <td>106.1400</td>\n",
       "      <td>97.0300</td>\n",
       "      <td>92.0400</td>\n",
       "      <td>112.6300</td>\n",
       "      <td>30.2900</td>\n",
       "      <td>128.1500</td>\n",
       "      <td>110.1200</td>\n",
       "      <td>239.1700</td>\n",
       "      <td>57.2600</td>\n",
       "      <td>3.6100</td>\n",
       "      <td>729808.0000</td>\n",
       "      <td>485.0500</td>\n",
       "      <td>42.1800</td>\n",
       "      <td>109.2700</td>\n",
       "      <td>67.4600</td>\n",
       "      <td>25.9400</td>\n",
       "      <td>24.5400</td>\n",
       "      <td>5.3200</td>\n",
       "      <td>20.6700</td>\n",
       "      <td>19.5100</td>\n",
       "      <td>19.6300</td>\n",
       "      <td>78.6600</td>\n",
       "      <td>104.5800</td>\n",
       "      <td>52.6300</td>\n",
       "      <td>48.0900</td>\n",
       "      <td>69.1300</td>\n",
       "      <td>31.6200</td>\n",
       "      <td>229.0900</td>\n",
       "      <td>33.6000</td>\n",
       "      <td>141.8700</td>\n",
       "      <td>148.1800</td>\n",
       "      <td>67.7600</td>\n",
       "      <td>31.5100</td>\n",
       "      <td>77.7700</td>\n",
       "      <td>17.6200</td>\n",
       "      <td>84.3700</td>\n",
       "      <td>465.3700</td>\n",
       "      <td>26.8000</td>\n",
       "      <td>20.5000</td>\n",
       "      <td>165.6100</td>\n",
       "      <td>39.7800</td>\n",
       "      <td>179.3000</td>\n",
       "      <td>72.5900</td>\n",
       "      <td>44.9400</td>\n",
       "      <td>504.0100</td>\n",
       "      <td>381.8800</td>\n",
       "      <td>77.6700</td>\n",
       "      <td>283.5700</td>\n",
       "      <td>226.1500</td>\n",
       "      <td>138.0900</td>\n",
       "      <td>62.2300</td>\n",
       "      <td>9.3100</td>\n",
       "      <td>91.2700</td>\n",
       "      <td>100.3500</td>\n",
       "      <td>74.4600</td>\n",
       "      <td>104.4500</td>\n",
       "      <td>26.1700</td>\n",
       "      <td>9.0500</td>\n",
       "      <td>303.6900</td>\n",
       "      <td>27.9300</td>\n",
       "      <td>177.2800</td>\n",
       "      <td>56.5500</td>\n",
       "      <td>30.4000</td>\n",
       "      <td>322.5100</td>\n",
       "      <td>45.4200</td>\n",
       "      <td>90.6900</td>\n",
       "      <td>44.1200</td>\n",
       "      <td>24.8500</td>\n",
       "      <td>128.7400</td>\n",
       "      <td>50.6700</td>\n",
       "      <td>22.5600</td>\n",
       "      <td>39.3000</td>\n",
       "      <td>31.8700</td>\n",
       "      <td>40.1600</td>\n",
       "      <td>26.7400</td>\n",
       "      <td>36.6900</td>\n",
       "      <td>27.1800</td>\n",
       "      <td>94.9700</td>\n",
       "      <td>100.6000</td>\n",
       "      <td>555.8800</td>\n",
       "      <td>218.8800</td>\n",
       "      <td>99.3500</td>\n",
       "      <td>93.1900</td>\n",
       "      <td>46.7400</td>\n",
       "      <td>394.0100</td>\n",
       "      <td>43.4300</td>\n",
       "      <td>330.0000</td>\n",
       "      <td>74.9700</td>\n",
       "      <td>81.5100</td>\n",
       "      <td>130.4200</td>\n",
       "      <td>145.7600</td>\n",
       "      <td>87.7900</td>\n",
       "      <td>230.2500</td>\n",
       "      <td>150.1500</td>\n",
       "      <td>118.0100</td>\n",
       "      <td>70.5600</td>\n",
       "      <td>59.0800</td>\n",
       "      <td>35.2100</td>\n",
       "      <td>272.8300</td>\n",
       "      <td>55.6400</td>\n",
       "      <td>54.2700</td>\n",
       "      <td>324.2000</td>\n",
       "      <td>69.1600</td>\n",
       "      <td>45.9700</td>\n",
       "      <td>53.5700</td>\n",
       "      <td>12.9000</td>\n",
       "      <td>103.8900</td>\n",
       "      <td>59.3000</td>\n",
       "      <td>36.5800</td>\n",
       "      <td>31.9100</td>\n",
       "      <td>210.5100</td>\n",
       "      <td>89.8800</td>\n",
       "      <td>375.0700</td>\n",
       "      <td>110.8800</td>\n",
       "      <td>69.6900</td>\n",
       "      <td>151.4900</td>\n",
       "      <td>90.8900</td>\n",
       "      <td>296.5800</td>\n",
       "      <td>74.3300</td>\n",
       "      <td>982.9100</td>\n",
       "      <td>54.7600</td>\n",
       "      <td>79.0000</td>\n",
       "      <td>326.0400</td>\n",
       "      <td>30.9600</td>\n",
       "      <td>29.8100</td>\n",
       "      <td>48.2400</td>\n",
       "      <td>114.3300</td>\n",
       "      <td>56.4200</td>\n",
       "      <td>187.8500</td>\n",
       "      <td>35.0000</td>\n",
       "      <td>95.0500</td>\n",
       "      <td>89.0700</td>\n",
       "      <td>28.4000</td>\n",
       "      <td>151.5900</td>\n",
       "      <td>270.7400</td>\n",
       "      <td>273.3500</td>\n",
       "      <td>505.2200</td>\n",
       "      <td>68.9500</td>\n",
       "      <td>81.5000</td>\n",
       "      <td>376.9800</td>\n",
       "      <td>32.5700</td>\n",
       "      <td>220.4400</td>\n",
       "      <td>25.9500</td>\n",
       "      <td>77.5900</td>\n",
       "      <td>74.3000</td>\n",
       "      <td>42.2800</td>\n",
       "      <td>13.8100</td>\n",
       "      <td>174.9700</td>\n",
       "      <td>306.4800</td>\n",
       "      <td>68.1400</td>\n",
       "      <td>144.4400</td>\n",
       "      <td>482.7800</td>\n",
       "      <td>22.3800</td>\n",
       "      <td>82.0800</td>\n",
       "      <td>32.1100</td>\n",
       "      <td>30.3600</td>\n",
       "      <td>116.5100</td>\n",
       "      <td>6.8300</td>\n",
       "      <td>403.5600</td>\n",
       "      <td>28.5100</td>\n",
       "      <td>55.1800</td>\n",
       "      <td>48.9700</td>\n",
       "      <td>38.3100</td>\n",
       "      <td>239.6400</td>\n",
       "      <td>55.1200</td>\n",
       "      <td>29.9500</td>\n",
       "      <td>43.5100</td>\n",
       "      <td>27.9900</td>\n",
       "      <td>69.9400</td>\n",
       "      <td>69.2800</td>\n",
       "      <td>131.1200</td>\n",
       "      <td>413.2300</td>\n",
       "      <td>508.5300</td>\n",
       "      <td>101.9300</td>\n",
       "      <td>125.9800</td>\n",
       "      <td>100.5400</td>\n",
       "      <td>35.5600</td>\n",
       "      <td>28.8900</td>\n",
       "      <td>34.2400</td>\n",
       "      <td>63.5600</td>\n",
       "      <td>53.8200</td>\n",
       "      <td>41.9600</td>\n",
       "      <td>29.1400</td>\n",
       "      <td>42.1800</td>\n",
       "      <td>29.5900</td>\n",
       "      <td>30.7700</td>\n",
       "      <td>42.4900</td>\n",
       "      <td>30.8800</td>\n",
       "      <td>47.9700</td>\n",
       "      <td>29.4100</td>\n",
       "      <td>66.4000</td>\n",
       "      <td>42.0700</td>\n",
       "      <td>112.6300</td>\n",
       "      <td>63.4200</td>\n",
       "      <td>82.9000</td>\n",
       "      <td>177.0600</td>\n",
       "      <td>127.1500</td>\n",
       "      <td>201.4600</td>\n",
       "      <td>433.9300</td>\n",
       "      <td>29.1800</td>\n",
       "      <td>41.5900</td>\n",
       "      <td>121.4600</td>\n",
       "      <td>42.2500</td>\n",
       "      <td>42.2300</td>\n",
       "      <td>195.8800</td>\n",
       "      <td>74.8200</td>\n",
       "      <td>81.3300</td>\n",
       "      <td>169.5900</td>\n",
       "      <td>99.4400</td>\n",
       "      <td>17.4800</td>\n",
       "      <td>60.4100</td>\n",
       "      <td>75.5500</td>\n",
       "      <td>49.9200</td>\n",
       "      <td>183.0400</td>\n",
       "      <td>27.1500</td>\n",
       "      <td>91.3700</td>\n",
       "      <td>454.7200</td>\n",
       "      <td>215.9700</td>\n",
       "      <td>44.6000</td>\n",
       "      <td>102.0800</td>\n",
       "      <td>114.9500</td>\n",
       "      <td>54.9300</td>\n",
       "      <td>131.5600</td>\n",
       "      <td>109.8700</td>\n",
       "      <td>35.1500</td>\n",
       "      <td>116.2500</td>\n",
       "      <td>398.6600</td>\n",
       "      <td>141.0900</td>\n",
       "      <td>32.4800</td>\n",
       "      <td>131.9800</td>\n",
       "      <td>85.0400</td>\n",
       "      <td>113.3100</td>\n",
       "      <td>239.3700</td>\n",
       "      <td>53.8900</td>\n",
       "      <td>32.1600</td>\n",
       "      <td>157.7300</td>\n",
       "      <td>47.4800</td>\n",
       "      <td>181.7800</td>\n",
       "      <td>73.6800</td>\n",
       "      <td>7.2700</td>\n",
       "      <td>9.2400</td>\n",
       "      <td>263.2500</td>\n",
       "      <td>98.4100</td>\n",
       "      <td>54.4800</td>\n",
       "      <td>66.8900</td>\n",
       "      <td>48.2800</td>\n",
       "      <td>62.7600</td>\n",
       "      <td>88.5400</td>\n",
       "      <td>83.2600</td>\n",
       "      <td>110.5300</td>\n",
       "      <td>63.0600</td>\n",
       "      <td>255.9500</td>\n",
       "      <td>339.4100</td>\n",
       "      <td>168.5000</td>\n",
       "      <td>121.5400</td>\n",
       "      <td>50.8100</td>\n",
       "      <td>79.0300</td>\n",
       "      <td>14.3000</td>\n",
       "      <td>124.8900</td>\n",
       "      <td>62.6100</td>\n",
       "      <td>373.1800</td>\n",
       "      <td>44.9300</td>\n",
       "      <td>92.1800</td>\n",
       "      <td>510.9900</td>\n",
       "      <td>25.1900</td>\n",
       "      <td>76.1500</td>\n",
       "      <td>132.7300</td>\n",
       "      <td>63.0600</td>\n",
       "      <td>45.0800</td>\n",
       "      <td>43.0000</td>\n",
       "      <td>153.7900</td>\n",
       "      <td>83.6500</td>\n",
       "      <td>121.1300</td>\n",
       "      <td>174.0000</td>\n",
       "      <td>31.0900</td>\n",
       "      <td>47.3200</td>\n",
       "      <td>32.1400</td>\n",
       "      <td>56.0200</td>\n",
       "      <td>745.5300</td>\n",
       "      <td>25.1900</td>\n",
       "      <td>67.4600</td>\n",
       "      <td>58.1500</td>\n",
       "      <td>8.3600</td>\n",
       "      <td>340.7300</td>\n",
       "      <td>53.7900</td>\n",
       "      <td>63.2500</td>\n",
       "      <td>121.2800</td>\n",
       "      <td>88.2700</td>\n",
       "      <td>39.1700</td>\n",
       "      <td>133.8000</td>\n",
       "      <td>108.4600</td>\n",
       "      <td>431.7300</td>\n",
       "      <td>60.5300</td>\n",
       "      <td>287.7200</td>\n",
       "      <td>82.6100</td>\n",
       "      <td>18.1800</td>\n",
       "      <td>348.1400</td>\n",
       "      <td>81.8600</td>\n",
       "      <td>50.6300</td>\n",
       "      <td>31.2600</td>\n",
       "      <td>271.5000</td>\n",
       "      <td>68.4600</td>\n",
       "      <td>77.1500</td>\n",
       "      <td>101.7500</td>\n",
       "      <td>73.9700</td>\n",
       "      <td>57.8500</td>\n",
       "      <td>71.9400</td>\n",
       "      <td>28.1300</td>\n",
       "      <td>51.8100</td>\n",
       "      <td>42.5100</td>\n",
       "      <td>118.6700</td>\n",
       "      <td>43.0900</td>\n",
       "      <td>43.8300</td>\n",
       "      <td>202.9900</td>\n",
       "      <td>113.6000</td>\n",
       "      <td>166.8000</td>\n",
       "      <td>145.6500</td>\n",
       "      <td>58.5400</td>\n",
       "      <td>10.6300</td>\n",
       "      <td>61.1300</td>\n",
       "      <td>140.8700</td>\n",
       "      <td>41.3000</td>\n",
       "      <td>47.6100</td>\n",
       "      <td>51.5100</td>\n",
       "      <td>45.8700</td>\n",
       "      <td>93.9500</td>\n",
       "      <td>137.6300</td>\n",
       "      <td>1959.9900</td>\n",
       "      <td>44.4600</td>\n",
       "      <td>41.7500</td>\n",
       "      <td>264.3700</td>\n",
       "      <td>437.0300</td>\n",
       "      <td>51.6700</td>\n",
       "      <td>221.0700</td>\n",
       "      <td>39.9300</td>\n",
       "      <td>34.1000</td>\n",
       "      <td>36.5600</td>\n",
       "      <td>52.7800</td>\n",
       "      <td>218.2400</td>\n",
       "      <td>58.8400</td>\n",
       "      <td>289.0900</td>\n",
       "      <td>20.9100</td>\n",
       "      <td>171.3600</td>\n",
       "      <td>1815.8400</td>\n",
       "      <td>80.0000</td>\n",
       "      <td>41.4500</td>\n",
       "      <td>129.9200</td>\n",
       "      <td>516.0800</td>\n",
       "      <td>43.8100</td>\n",
       "      <td>50.0900</td>\n",
       "      <td>50.9900</td>\n",
       "      <td>51.3800</td>\n",
       "      <td>51.8800</td>\n",
       "      <td>271.2600</td>\n",
       "      <td>28.1100</td>\n",
       "      <td>101.5800</td>\n",
       "      <td>298.9300</td>\n",
       "      <td>75.7800</td>\n",
       "      <td>28.6100</td>\n",
       "      <td>33.0900</td>\n",
       "      <td>39.7000</td>\n",
       "      <td>24.3700</td>\n",
       "      <td>56.3300</td>\n",
       "      <td>164.7200</td>\n",
       "      <td>98.0400</td>\n",
       "      <td>52.2100</td>\n",
       "      <td>56.6800</td>\n",
       "      <td>17.7700</td>\n",
       "      <td>49.0600</td>\n",
       "      <td>144.6000</td>\n",
       "      <td>94.8400</td>\n",
       "      <td>43.6700</td>\n",
       "      <td>20.6100</td>\n",
       "      <td>155.6300</td>\n",
       "      <td>104.8900</td>\n",
       "      <td>172.4800</td>\n",
       "      <td>122.0100</td>\n",
       "      <td>89.9400</td>\n",
       "      <td>195.3700</td>\n",
       "      <td>34.9400</td>\n",
       "      <td>103.8600</td>\n",
       "      <td>47.1300</td>\n",
       "      <td>60.0400</td>\n",
       "      <td>71.2200</td>\n",
       "      <td>123.2100</td>\n",
       "      <td>58.6100</td>\n",
       "      <td>44.3600</td>\n",
       "      <td>94.9300</td>\n",
       "      <td>104.7850</td>\n",
       "      <td>37.1600</td>\n",
       "      <td>36.3200</td>\n",
       "      <td>42.2450</td>\n",
       "      <td>21.9800</td>\n",
       "      <td>100.1100</td>\n",
       "      <td>84.7500</td>\n",
       "      <td>291.3900</td>\n",
       "      <td>177.1900</td>\n",
       "      <td>52.6200</td>\n",
       "      <td>67.7500</td>\n",
       "      <td>251.0000</td>\n",
       "      <td>74.8600</td>\n",
       "      <td>29.4500</td>\n",
       "      <td>23.8200</td>\n",
       "      <td>50.5800</td>\n",
       "      <td>38.7700</td>\n",
       "      <td>51.9500</td>\n",
       "      <td>86.2600</td>\n",
       "      <td>50.0300</td>\n",
       "      <td>104.0800</td>\n",
       "      <td>48.3700</td>\n",
       "      <td>107.6200</td>\n",
       "      <td>50.3700</td>\n",
       "      <td>123.0400</td>\n",
       "      <td>306.7800</td>\n",
       "      <td>65.9600</td>\n",
       "      <td>46.4500</td>\n",
       "      <td>51.7000</td>\n",
       "      <td>49.1600</td>\n",
       "      <td>20.7300</td>\n",
       "      <td>23.8800</td>\n",
       "      <td>58.8200</td>\n",
       "      <td>142.3100</td>\n",
       "      <td>174.4300</td>\n",
       "      <td>173.5400</td>\n",
       "      <td>22.9450</td>\n",
       "      <td>119.0600</td>\n",
       "      <td>21.1600</td>\n",
       "      <td>78.2400</td>\n",
       "      <td>4.6700</td>\n",
       "      <td>205.1500</td>\n",
       "      <td>687.1600</td>\n",
       "      <td>39.2600</td>\n",
       "      <td>38.5500</td>\n",
       "      <td>120.0100</td>\n",
       "      <td>44.2300</td>\n",
       "      <td>162.4200</td>\n",
       "      <td>40.2300</td>\n",
       "      <td>106.7500</td>\n",
       "      <td>234.8700</td>\n",
       "      <td>1015.4800</td>\n",
       "      <td>138.8600</td>\n",
       "      <td>20.6400</td>\n",
       "      <td>52.5300</td>\n",
       "      <td>72.3100</td>\n",
       "      <td>16.6400</td>\n",
       "      <td>377.6600</td>\n",
       "      <td>363.5000</td>\n",
       "      <td>76.9200</td>\n",
       "      <td>116.5500</td>\n",
       "      <td>37.7400</td>\n",
       "      <td>321.2800</td>\n",
       "      <td>253.7000</td>\n",
       "      <td>140.1200</td>\n",
       "      <td>38.8600</td>\n",
       "      <td>124.7400</td>\n",
       "      <td>239.8300</td>\n",
       "      <td>46.2800</td>\n",
       "      <td>182.7500</td>\n",
       "      <td>10.4200</td>\n",
       "      <td>144.2400</td>\n",
       "      <td>257.4900</td>\n",
       "      <td>28.8100</td>\n",
       "      <td>13.9100</td>\n",
       "      <td>65.1100</td>\n",
       "      <td>226.3800</td>\n",
       "      <td>84.5200</td>\n",
       "      <td>18.3700</td>\n",
       "      <td>24.7100</td>\n",
       "      <td>104.8600</td>\n",
       "      <td>54.3200</td>\n",
       "      <td>30.2500</td>\n",
       "      <td>60.4800</td>\n",
       "      <td>73.1500</td>\n",
       "      <td>15.7100</td>\n",
       "      <td>167.0000</td>\n",
       "      <td>34.2800</td>\n",
       "      <td>405.2600</td>\n",
       "      <td>547.7600</td>\n",
       "      <td>239.9000</td>\n",
       "      <td>176.8500</td>\n",
       "      <td>50.0100</td>\n",
       "      <td>80.3800</td>\n",
       "      <td>36.8200</td>\n",
       "      <td>51.0900</td>\n",
       "      <td>62.8000</td>\n",
       "      <td>127.0100</td>\n",
       "      <td>24.2200</td>\n",
       "      <td>61.1400</td>\n",
       "      <td>53.4100</td>\n",
       "      <td>291.9300</td>\n",
       "      <td>33.3900</td>\n",
       "      <td>180.8000</td>\n",
       "      <td>6.7900</td>\n",
       "      <td>146.7500</td>\n",
       "      <td>50.6800</td>\n",
       "      <td>114.4500</td>\n",
       "      <td>227.2700</td>\n",
       "      <td>75.2900</td>\n",
       "      <td>34.2600</td>\n",
       "      <td>527.7800</td>\n",
       "      <td>95.6400</td>\n",
       "      <td>82.5300</td>\n",
       "      <td>119.0100</td>\n",
       "      <td>59.9600</td>\n",
       "      <td>65.4900</td>\n",
       "      <td>176.3500</td>\n",
       "      <td>73.9200</td>\n",
       "      <td>58.6400</td>\n",
       "      <td>53.1400</td>\n",
       "      <td>111.1900</td>\n",
       "      <td>52.7000</td>\n",
       "      <td>108.7100</td>\n",
       "      <td>114.7300</td>\n",
       "      <td>61.7900</td>\n",
       "      <td>61.8500</td>\n",
       "      <td>123.6800</td>\n",
       "      <td>90.4000</td>\n",
       "      <td>109.1600</td>\n",
       "      <td>99.5500</td>\n",
       "      <td>132.4600</td>\n",
       "      <td>94.1600</td>\n",
       "      <td>81.3300</td>\n",
       "      <td>70.8100</td>\n",
       "      <td>55.7100</td>\n",
       "      <td>24.3500</td>\n",
       "      <td>18.6000</td>\n",
       "      <td>21.4800</td>\n",
       "      <td>135.3900</td>\n",
       "      <td>101.7400</td>\n",
       "      <td>22.5000</td>\n",
       "      <td>772.8600</td>\n",
       "      <td>32.9200</td>\n",
       "      <td>41.1200</td>\n",
       "      <td>39.7800</td>\n",
       "      <td>106.6900</td>\n",
       "      <td>39.7200</td>\n",
       "      <td>46.5100</td>\n",
       "      <td>24.2400</td>\n",
       "      <td>42.7900</td>\n",
       "      <td>158.1600</td>\n",
       "      <td>84.9400</td>\n",
       "      <td>100.9100</td>\n",
       "      <td>534.1900</td>\n",
       "      <td>48.6100</td>\n",
       "      <td>404.6000</td>\n",
       "      <td>184.5000</td>\n",
       "      <td>133.7100</td>\n",
       "      <td>157.5600</td>\n",
       "      <td>6.6000</td>\n",
       "      <td>246.7500</td>\n",
       "      <td>46.1600</td>\n",
       "      <td>148.7000</td>\n",
       "      <td>93.8800</td>\n",
       "      <td>193.5200</td>\n",
       "      <td>614.7600</td>\n",
       "      <td>108.9100</td>\n",
       "      <td>15.5800</td>\n",
       "      <td>336.2300</td>\n",
       "      <td>192.8400</td>\n",
       "      <td>419.3200</td>\n",
       "      <td>215.4100</td>\n",
       "      <td>157.6400</td>\n",
       "      <td>284.6000</td>\n",
       "      <td>138.1100</td>\n",
       "      <td>91.3900</td>\n",
       "      <td>131.1500</td>\n",
       "      <td>347.8200</td>\n",
       "      <td>243.2300</td>\n",
       "      <td>21.9300</td>\n",
       "      <td>85.7300</td>\n",
       "      <td>91.5500</td>\n",
       "      <td>76.8300</td>\n",
       "      <td>119.7500</td>\n",
       "      <td>93.9600</td>\n",
       "      <td>171.6100</td>\n",
       "      <td>129.5600</td>\n",
       "      <td>50.7200</td>\n",
       "      <td>65.1100</td>\n",
       "      <td>107.5100</td>\n",
       "      <td>143.2800</td>\n",
       "      <td>215.3100</td>\n",
       "      <td>119.7100</td>\n",
       "      <td>104.4400</td>\n",
       "      <td>47.0000</td>\n",
       "      <td>33.2600</td>\n",
       "      <td>56.0900</td>\n",
       "      <td>56.4000</td>\n",
       "      <td>54.1300</td>\n",
       "      <td>85.0000</td>\n",
       "      <td>60.6400</td>\n",
       "      <td>25.7700</td>\n",
       "      <td>70.0500</td>\n",
       "      <td>177.6000</td>\n",
       "      <td>253.5700</td>\n",
       "      <td>45.0700</td>\n",
       "      <td>50.8900</td>\n",
       "      <td>152.0100</td>\n",
       "      <td>97.0200</td>\n",
       "      <td>36.9000</td>\n",
       "      <td>9.4800</td>\n",
       "      <td>46.2600</td>\n",
       "      <td>288.7500</td>\n",
       "      <td>50.6400</td>\n",
       "      <td>59.5100</td>\n",
       "      <td>88.6500</td>\n",
       "      <td>78.8200</td>\n",
       "      <td>81.5900</td>\n",
       "      <td>49.0300</td>\n",
       "      <td>71.0300</td>\n",
       "      <td>41.7900</td>\n",
       "      <td>33.0400</td>\n",
       "      <td>14.6300</td>\n",
       "      <td>114.7100</td>\n",
       "      <td>17.1500</td>\n",
       "      <td>164.9400</td>\n",
       "      <td>15.8500</td>\n",
       "      <td>25.7900</td>\n",
       "      <td>21.0200</td>\n",
       "      <td>131.9400</td>\n",
       "      <td>902.9400</td>\n",
       "      <td>126.8400</td>\n",
       "      <td>28.8900</td>\n",
       "      <td>66.6700</td>\n",
       "      <td>48.7500</td>\n",
       "      <td>476.4000</td>\n",
       "      <td>43.9200</td>\n",
       "      <td>44.2200</td>\n",
       "      <td>69.4700</td>\n",
       "      <td>71.2800</td>\n",
       "      <td>34.6000</td>\n",
       "      <td>83.6100</td>\n",
       "      <td>20.1200</td>\n",
       "      <td>41.3300</td>\n",
       "      <td>21.1100</td>\n",
       "      <td>33.1300</td>\n",
       "      <td>34.3400</td>\n",
       "      <td>90.0400</td>\n",
       "      <td>329.7700</td>\n",
       "      <td>121.1700</td>\n",
       "      <td>92.6800</td>\n",
       "      <td>93.3900</td>\n",
       "      <td>2.2000</td>\n",
       "      <td>155.6800</td>\n",
       "      <td>211.3800</td>\n",
       "      <td>33.4800</td>\n",
       "      <td>109.8100</td>\n",
       "      <td>18.2300</td>\n",
       "      <td>256.9800</td>\n",
       "      <td>246.8000</td>\n",
       "      <td>28.0100</td>\n",
       "      <td>564.5100</td>\n",
       "      <td>464.4600</td>\n",
       "      <td>94.7100</td>\n",
       "      <td>37.0700</td>\n",
       "      <td>795.1200</td>\n",
       "      <td>77.7500</td>\n",
       "      <td>79.2200</td>\n",
       "      <td>49.2700</td>\n",
       "      <td>457.9000</td>\n",
       "      <td>242.0900</td>\n",
       "      <td>60.3200</td>\n",
       "      <td>95.6500</td>\n",
       "      <td>88.7400</td>\n",
       "      <td>221.2300</td>\n",
       "      <td>364.3700</td>\n",
       "      <td>87.8200</td>\n",
       "      <td>109.1900</td>\n",
       "      <td>96.8400</td>\n",
       "      <td>142.7700</td>\n",
       "      <td>50.5000</td>\n",
       "      <td>29.7700</td>\n",
       "      <td>231.5800</td>\n",
       "      <td>31.5200</td>\n",
       "      <td>43.6200</td>\n",
       "      <td>53.1900</td>\n",
       "      <td>58.4000</td>\n",
       "      <td>15.8500</td>\n",
       "      <td>4.2100</td>\n",
       "      <td>147.2000</td>\n",
       "      <td>545.8100</td>\n",
       "      <td>147.4600</td>\n",
       "      <td>194.2200</td>\n",
       "      <td>269.6200</td>\n",
       "      <td>63.7400</td>\n",
       "      <td>166.7100</td>\n",
       "      <td>19.4700</td>\n",
       "      <td>93.9000</td>\n",
       "      <td>18.4400</td>\n",
       "      <td>285.6300</td>\n",
       "      <td>55.5400</td>\n",
       "      <td>70.7800</td>\n",
       "      <td>722.0000</td>\n",
       "      <td>481.5400</td>\n",
       "      <td>209.2000</td>\n",
       "      <td>299.5100</td>\n",
       "      <td>67.7500</td>\n",
       "      <td>86.1800</td>\n",
       "      <td>565.2400</td>\n",
       "      <td>306.8000</td>\n",
       "      <td>2560.2000</td>\n",
       "      <td>79.9600</td>\n",
       "      <td>726.0900</td>\n",
       "      <td>32.0800</td>\n",
       "      <td>5.6000</td>\n",
       "      <td>38.2800</td>\n",
       "      <td>223.1600</td>\n",
       "      <td>362.5100</td>\n",
       "      <td>33.7900</td>\n",
       "      <td>130.8100</td>\n",
       "      <td>103.3500</td>\n",
       "      <td>144.7500</td>\n",
       "      <td>100.4800</td>\n",
       "      <td>77.5700</td>\n",
       "      <td>1995.2700</td>\n",
       "      <td>100.2700</td>\n",
       "      <td>220.5500</td>\n",
       "      <td>79.2800</td>\n",
       "      <td>540.6600</td>\n",
       "      <td>216.0200</td>\n",
       "      <td>150.7600</td>\n",
       "      <td>98.0000</td>\n",
       "      <td>305.5200</td>\n",
       "      <td>62.1900</td>\n",
       "      <td>58.7900</td>\n",
       "      <td>93.0700</td>\n",
       "      <td>291.0600</td>\n",
       "      <td>310.5400</td>\n",
       "      <td>35.1800</td>\n",
       "      <td>35.9900</td>\n",
       "      <td>167.5200</td>\n",
       "      <td>51.2200</td>\n",
       "      <td>735.1700</td>\n",
       "      <td>78.8300</td>\n",
       "      <td>27.5400</td>\n",
       "      <td>79.9700</td>\n",
       "      <td>139.7500</td>\n",
       "      <td>169.1600</td>\n",
       "      <td>565.6900</td>\n",
       "      <td>497.4500</td>\n",
       "      <td>415.2700</td>\n",
       "      <td>386.4400</td>\n",
       "      <td>31.6500</td>\n",
       "      <td>193.4900</td>\n",
       "      <td>30.4200</td>\n",
       "      <td>1193.3100</td>\n",
       "      <td>48.6000</td>\n",
       "      <td>27.6000</td>\n",
       "      <td>142.2300</td>\n",
       "      <td>237.1300</td>\n",
       "      <td>170.5500</td>\n",
       "      <td>126.0000</td>\n",
       "      <td>104.3500</td>\n",
       "      <td>13.8200</td>\n",
       "      <td>404.5100</td>\n",
       "      <td>126.7100</td>\n",
       "      <td>19.4600</td>\n",
       "      <td>88.3900</td>\n",
       "      <td>214.9100</td>\n",
       "      <td>70.9900</td>\n",
       "      <td>59.1900</td>\n",
       "      <td>190.9600</td>\n",
       "      <td>680.8600</td>\n",
       "      <td>84.3400</td>\n",
       "      <td>1306.6700</td>\n",
       "      <td>74.3300</td>\n",
       "      <td>39.6100</td>\n",
       "      <td>165.6850</td>\n",
       "      <td>3.4200</td>\n",
       "      <td>62.5400</td>\n",
       "      <td>19.4600</td>\n",
       "      <td>6.3200</td>\n",
       "      <td>43.1200</td>\n",
       "      <td>99.8500</td>\n",
       "      <td>493.6600</td>\n",
       "      <td>5.1600</td>\n",
       "      <td>1011.4400</td>\n",
       "      <td>161.5400</td>\n",
       "      <td>255.5100</td>\n",
       "      <td>104.7500</td>\n",
       "      <td>132.9200</td>\n",
       "      <td>75.2800</td>\n",
       "      <td>58.0500</td>\n",
       "      <td>168.1700</td>\n",
       "      <td>122.9700</td>\n",
       "      <td>13.3900</td>\n",
       "      <td>130.6100</td>\n",
       "      <td>155.0200</td>\n",
       "      <td>68.0200</td>\n",
       "      <td>268.8800</td>\n",
       "      <td>67.7000</td>\n",
       "      <td>7280.4400</td>\n",
       "      <td>120.3200</td>\n",
       "      <td>73.1300</td>\n",
       "      <td>13.8800</td>\n",
       "      <td>33.9600</td>\n",
       "      <td>29.5400</td>\n",
       "      <td>218.3000</td>\n",
       "      <td>58.5800</td>\n",
       "      <td>55.8700</td>\n",
       "      <td>57.2000</td>\n",
       "      <td>14.6300</td>\n",
       "      <td>137.2300</td>\n",
       "      <td>160.9900</td>\n",
       "      <td>301.3100</td>\n",
       "      <td>43.9900</td>\n",
       "      <td>36.7500</td>\n",
       "      <td>81.3200</td>\n",
       "      <td>55.8500</td>\n",
       "      <td>98.1300</td>\n",
       "      <td>156.4000</td>\n",
       "      <td>133.4400</td>\n",
       "      <td>71.2200</td>\n",
       "      <td>56.1800</td>\n",
       "      <td>56.9600</td>\n",
       "      <td>53.6500</td>\n",
       "      <td>21.4300</td>\n",
       "      <td>254.4900</td>\n",
       "      <td>79.3200</td>\n",
       "      <td>51.5900</td>\n",
       "      <td>212.8200</td>\n",
       "      <td>37.8200</td>\n",
       "      <td>88.2300</td>\n",
       "      <td>112.9900</td>\n",
       "      <td>28.8700</td>\n",
       "      <td>97.5200</td>\n",
       "      <td>38.7300</td>\n",
       "      <td>19.1900</td>\n",
       "      <td>43.1600</td>\n",
       "      <td>18.2600</td>\n",
       "      <td>51.4300</td>\n",
       "      <td>29.1300</td>\n",
       "      <td>224.8200</td>\n",
       "      <td>173.3100</td>\n",
       "      <td>19.3900</td>\n",
       "      <td>202.3400</td>\n",
       "      <td>12.3200</td>\n",
       "      <td>12.7700</td>\n",
       "      <td>43.3600</td>\n",
       "      <td>225.4600</td>\n",
       "      <td>141.0100</td>\n",
       "      <td>70.7800</td>\n",
       "      <td>37.8900</td>\n",
       "      <td>12.4600</td>\n",
       "      <td>11.4200</td>\n",
       "      <td>61.5500</td>\n",
       "      <td>94.8800</td>\n",
       "      <td>14.0800</td>\n",
       "      <td>67.8900</td>\n",
       "      <td>177.1600</td>\n",
       "      <td>13.1000</td>\n",
       "      <td>105.7500</td>\n",
       "      <td>18.8300</td>\n",
       "      <td>83.0300</td>\n",
       "      <td>52.2000</td>\n",
       "      <td>253.5800</td>\n",
       "      <td>128.2200</td>\n",
       "      <td>24.2400</td>\n",
       "      <td>30.6700</td>\n",
       "      <td>78.4000</td>\n",
       "      <td>86.2300</td>\n",
       "      <td>158.6300</td>\n",
       "      <td>261.6200</td>\n",
       "      <td>11.1500</td>\n",
       "      <td>691.7100</td>\n",
       "      <td>24.0800</td>\n",
       "      <td>104.4400</td>\n",
       "      <td>0.0000</td>\n",
       "      <td>35.1300</td>\n",
       "      <td>187.6500</td>\n",
       "      <td>49.8100</td>\n",
       "      <td>104.3900</td>\n",
       "      <td>107.9000</td>\n",
       "      <td>144.2500</td>\n",
       "      <td>180.6600</td>\n",
       "      <td>185.5100</td>\n",
       "      <td>109.2350</td>\n",
       "      <td>102.6400</td>\n",
       "      <td>88.9700</td>\n",
       "      <td>309.8300</td>\n",
       "      <td>294.2600</td>\n",
       "      <td>108.4000</td>\n",
       "      <td>138.8700</td>\n",
       "      <td>44.5500</td>\n",
       "      <td>113.7800</td>\n",
       "      <td>33.6200</td>\n",
       "      <td>13.9200</td>\n",
       "      <td>41.9200</td>\n",
       "      <td>265.5600</td>\n",
       "      <td>29.0800</td>\n",
       "      <td>106.7400</td>\n",
       "      <td>288.5700</td>\n",
       "      <td>12.4500</td>\n",
       "      <td>71.2500</td>\n",
       "      <td>14.6400</td>\n",
       "      <td>55.6200</td>\n",
       "      <td>120.1700</td>\n",
       "      <td>169.5400</td>\n",
       "      <td>25.4900</td>\n",
       "      <td>49.7400</td>\n",
       "      <td>379.4700</td>\n",
       "      <td>26.5000</td>\n",
       "      <td>73.1700</td>\n",
       "      <td>158.1900</td>\n",
       "      <td>48.0400</td>\n",
       "      <td>115.4700</td>\n",
       "      <td>546.2200</td>\n",
       "      <td>224.8100</td>\n",
       "      <td>82.9900</td>\n",
       "      <td>65.5500</td>\n",
       "      <td>180.3700</td>\n",
       "      <td>21.7200</td>\n",
       "      <td>16.6700</td>\n",
       "      <td>158.8100</td>\n",
       "      <td>477.5400</td>\n",
       "      <td>105.3900</td>\n",
       "      <td>387.6900</td>\n",
       "      <td>105.0000</td>\n",
       "      <td>29.3300</td>\n",
       "      <td>295.8900</td>\n",
       "      <td>62.0900</td>\n",
       "      <td>15.3300</td>\n",
       "      <td>24.6100</td>\n",
       "      <td>70.5400</td>\n",
       "      <td>521.0000</td>\n",
       "      <td>53.3100</td>\n",
       "      <td>36.1700</td>\n",
       "      <td>23.3500</td>\n",
       "      <td>198.7400</td>\n",
       "      <td>20.1900</td>\n",
       "      <td>124.2100</td>\n",
       "      <td>179.9600</td>\n",
       "      <td>100.1100</td>\n",
       "      <td>58.5800</td>\n",
       "      <td>11.4000</td>\n",
       "      <td>13.9100</td>\n",
       "      <td>152.6100</td>\n",
       "      <td>36.1400</td>\n",
       "      <td>14.4900</td>\n",
       "      <td>273.4900</td>\n",
       "      <td>71.7800</td>\n",
       "      <td>62.5200</td>\n",
       "      <td>256.2100</td>\n",
       "      <td>241.6100</td>\n",
       "      <td>108.0900</td>\n",
       "      <td>11.6000</td>\n",
       "      <td>326.2100</td>\n",
       "      <td>86.5000</td>\n",
       "      <td>55.6800</td>\n",
       "      <td>565.3100</td>\n",
       "      <td>126.6200</td>\n",
       "      <td>109.4300</td>\n",
       "      <td>35.2700</td>\n",
       "      <td>40.9100</td>\n",
       "      <td>147.0000</td>\n",
       "      <td>314.6500</td>\n",
       "      <td>244.7200</td>\n",
       "      <td>180.2300</td>\n",
       "      <td>40.4700</td>\n",
       "      <td>24.2200</td>\n",
       "      <td>142.6700</td>\n",
       "      <td>37.4800</td>\n",
       "      <td>98.7900</td>\n",
       "      <td>103.2400</td>\n",
       "      <td>130.1700</td>\n",
       "      <td>57.3100</td>\n",
       "      <td>67.2300</td>\n",
       "      <td>18.0100</td>\n",
       "      <td>270.7400</td>\n",
       "      <td>8.0800</td>\n",
       "      <td>295.5500</td>\n",
       "      <td>25.4600</td>\n",
       "      <td>230.7000</td>\n",
       "      <td>20.8600</td>\n",
       "      <td>91.8400</td>\n",
       "      <td>104.6400</td>\n",
       "      <td>25.2500</td>\n",
       "      <td>23.5900</td>\n",
       "      <td>42.1400</td>\n",
       "      <td>26.3900</td>\n",
       "      <td>30.1800</td>\n",
       "      <td>21.9000</td>\n",
       "      <td>28.8600</td>\n",
       "      <td>20.9700</td>\n",
       "      <td>22.7000</td>\n",
       "      <td>29.5200</td>\n",
       "      <td>27.8500</td>\n",
       "      <td>24.3600</td>\n",
       "      <td>26.6300</td>\n",
       "      <td>25.0100</td>\n",
       "      <td>27.4400</td>\n",
       "      <td>89.4400</td>\n",
       "      <td>24.2100</td>\n",
       "      <td>23.1900</td>\n",
       "      <td>81.2600</td>\n",
       "      <td>71.8800</td>\n",
       "      <td>35.2200</td>\n",
       "      <td>134.8900</td>\n",
       "      <td>158.5100</td>\n",
       "      <td>89.2600</td>\n",
       "      <td>103.1500</td>\n",
       "      <td>160.4400</td>\n",
       "      <td>66.6500</td>\n",
       "      <td>31.7700</td>\n",
       "      <td>100.6500</td>\n",
       "      <td>70.9900</td>\n",
       "      <td>44.1600</td>\n",
       "      <td>47.7900</td>\n",
       "      <td>113.0700</td>\n",
       "      <td>110.3800</td>\n",
       "      <td>341.8700</td>\n",
       "      <td>82.8300</td>\n",
       "      <td>43.0300</td>\n",
       "      <td>22.5100</td>\n",
       "      <td>96.1400</td>\n",
       "      <td>25.4400</td>\n",
       "      <td>23.1100</td>\n",
       "      <td>62.8300</td>\n",
       "      <td>119.9300</td>\n",
       "      <td>33.8300</td>\n",
       "      <td>65.4300</td>\n",
       "      <td>32.9500</td>\n",
       "      <td>33.3400</td>\n",
       "      <td>88.3400</td>\n",
       "      <td>79.8400</td>\n",
       "      <td>49.2700</td>\n",
       "      <td>15.2300</td>\n",
       "      <td>277.2000</td>\n",
       "      <td>21.3200</td>\n",
       "      <td>38.2400</td>\n",
       "      <td>94.1100</td>\n",
       "      <td>309.5500</td>\n",
       "      <td>8.1400</td>\n",
       "      <td>30.2100</td>\n",
       "      <td>221.9200</td>\n",
       "      <td>495.7000</td>\n",
       "      <td>51.5700</td>\n",
       "      <td>137.0000</td>\n",
       "      <td>48.3700</td>\n",
       "      <td>90.3500</td>\n",
       "      <td>16.7700</td>\n",
       "      <td>25.5400</td>\n",
       "      <td>25.2000</td>\n",
       "      <td>239.0700</td>\n",
       "      <td>25.5500</td>\n",
       "      <td>40.1300</td>\n",
       "      <td>42.6600</td>\n",
       "      <td>160.6000</td>\n",
       "      <td>515.0200</td>\n",
       "      <td>70.2700</td>\n",
       "      <td>23.7300</td>\n",
       "      <td>33.5200</td>\n",
       "      <td>72.1900</td>\n",
       "      <td>71.9900</td>\n",
       "      <td>22.1100</td>\n",
       "      <td>54.2400</td>\n",
       "      <td>111.2500</td>\n",
       "      <td>775.9000</td>\n",
       "      <td>30.1600</td>\n",
       "      <td>42.5400</td>\n",
       "      <td>28.7500</td>\n",
       "      <td>26.4800</td>\n",
       "      <td>74.2000</td>\n",
       "      <td>29.2900</td>\n",
       "      <td>166.5000</td>\n",
       "      <td>168.6800</td>\n",
       "      <td>611.8700</td>\n",
       "      <td>42.1900</td>\n",
       "      <td>94.2400</td>\n",
       "      <td>50.0900</td>\n",
       "      <td>51.9300</td>\n",
       "      <td>27.1400</td>\n",
       "      <td>74.9400</td>\n",
       "      <td>41.4800</td>\n",
       "      <td>91.9000</td>\n",
       "      <td>157.8600</td>\n",
       "      <td>81.2700</td>\n",
       "      <td>95.9200</td>\n",
       "      <td>36.0900</td>\n",
       "      <td>238.5300</td>\n",
       "      <td>56.0400</td>\n",
       "      <td>102.8200</td>\n",
       "      <td>9.9300</td>\n",
       "      <td>131.5000</td>\n",
       "      <td>30.1400</td>\n",
       "      <td>108.3000</td>\n",
       "      <td>228.6500</td>\n",
       "      <td>105.3700</td>\n",
       "      <td>25.0900</td>\n",
       "      <td>20.4100</td>\n",
       "      <td>140.6900</td>\n",
       "      <td>161.3200</td>\n",
       "      <td>37.9700</td>\n",
       "      <td>106.2500</td>\n",
       "      <td>128.1300</td>\n",
       "      <td>53.2200</td>\n",
       "      <td>125.3600</td>\n",
       "      <td>9.3800</td>\n",
       "      <td>67.5900</td>\n",
       "      <td>74.6500</td>\n",
       "      <td>65.8300</td>\n",
       "      <td>390.4000</td>\n",
       "      <td>37.1600</td>\n",
       "      <td>74.5300</td>\n",
       "      <td>28.0000</td>\n",
       "      <td>15.0600</td>\n",
       "      <td>47.2400</td>\n",
       "      <td>49.9750</td>\n",
       "      <td>34.9700</td>\n",
       "      <td>58.7000</td>\n",
       "      <td>72.8600</td>\n",
       "      <td>1471.8600</td>\n",
       "      <td>506.6700</td>\n",
       "      <td>198.5000</td>\n",
       "      <td>52.8000</td>\n",
       "      <td>41.4800</td>\n",
       "      <td>91.4100</td>\n",
       "      <td>5.1900</td>\n",
       "      <td>169.0500</td>\n",
       "      <td>91.0500</td>\n",
       "      <td>16.5600</td>\n",
       "      <td>42.5400</td>\n",
       "      <td>88.6500</td>\n",
       "      <td>50.6100</td>\n",
       "      <td>97.6000</td>\n",
       "      <td>172.5600</td>\n",
       "      <td>168.8900</td>\n",
       "      <td>35.2000</td>\n",
       "      <td>36.0200</td>\n",
       "      <td>19.5600</td>\n",
       "      <td>109.9000</td>\n",
       "      <td>122.1400</td>\n",
       "      <td>176.1600</td>\n",
       "      <td>101.3100</td>\n",
       "      <td>16.5200</td>\n",
       "      <td>291.3800</td>\n",
       "      <td>87.9500</td>\n",
       "      <td>170.6300</td>\n",
       "      <td>18.7000</td>\n",
       "      <td>38.8300</td>\n",
       "      <td>60.6100</td>\n",
       "      <td>412.1200</td>\n",
       "      <td>231.4200</td>\n",
       "      <td>113.8300</td>\n",
       "      <td>42.4900</td>\n",
       "      <td>40.0300</td>\n",
       "      <td>52.8200</td>\n",
       "      <td>1075.4500</td>\n",
       "      <td>86.2200</td>\n",
       "      <td>80.6300</td>\n",
       "      <td>53.5600</td>\n",
       "      <td>175.8400</td>\n",
       "      <td>197.2000</td>\n",
       "      <td>75.0300</td>\n",
       "      <td>56.5000</td>\n",
       "      <td>96.1800</td>\n",
       "      <td>47.9600</td>\n",
       "      <td>88.8600</td>\n",
       "      <td>262.9500</td>\n",
       "      <td>36.4900</td>\n",
       "      <td>51.8400</td>\n",
       "      <td>325.7800</td>\n",
       "      <td>12.4400</td>\n",
       "      <td>224.0100</td>\n",
       "      <td>55.0200</td>\n",
       "      <td>429.1900</td>\n",
       "      <td>70.9600</td>\n",
       "      <td>68.0200</td>\n",
       "      <td>61.5600</td>\n",
       "      <td>36.0500</td>\n",
       "      <td>239.3300</td>\n",
       "      <td>15.9400</td>\n",
       "      <td>142.6300</td>\n",
       "      <td>121.4300</td>\n",
       "      <td>30.9000</td>\n",
       "      <td>206.3100</td>\n",
       "      <td>185.0300</td>\n",
       "      <td>80.2600</td>\n",
       "      <td>577.2000</td>\n",
       "      <td>23.4000</td>\n",
       "      <td>77.5500</td>\n",
       "      <td>93.1200</td>\n",
       "      <td>33.0700</td>\n",
       "      <td>40.8200</td>\n",
       "      <td>99.8800</td>\n",
       "      <td>36.0500</td>\n",
       "      <td>61.0800</td>\n",
       "      <td>54.5500</td>\n",
       "      <td>177.4300</td>\n",
       "      <td>395.9000</td>\n",
       "      <td>60.6800</td>\n",
       "      <td>457.6600</td>\n",
       "      <td>106.1400</td>\n",
       "      <td>7.5700</td>\n",
       "      <td>302.6200</td>\n",
       "      <td>79.7000</td>\n",
       "      <td>229.3900</td>\n",
       "      <td>88.9200</td>\n",
       "      <td>100.6000</td>\n",
       "      <td>63.3500</td>\n",
       "      <td>38.7100</td>\n",
       "      <td>70.6600</td>\n",
       "      <td>742.0700</td>\n",
       "      <td>167.7000</td>\n",
       "      <td>45.6200</td>\n",
       "      <td>76.7100</td>\n",
       "      <td>50.2900</td>\n",
       "      <td>37.4000</td>\n",
       "      <td>51.3000</td>\n",
       "      <td>92.7000</td>\n",
       "      <td>284.0900</td>\n",
       "      <td>4.1900</td>\n",
       "      <td>346.0300</td>\n",
       "      <td>9.4700</td>\n",
       "      <td>236.9500</td>\n",
       "      <td>275.7800</td>\n",
       "      <td>195.2900</td>\n",
       "      <td>82.6700</td>\n",
       "      <td>75.4100</td>\n",
       "      <td>359.0000</td>\n",
       "      <td>79.4200</td>\n",
       "      <td>216.9400</td>\n",
       "      <td>120.3800</td>\n",
       "      <td>56.4800</td>\n",
       "      <td>281.1900</td>\n",
       "      <td>33.9900</td>\n",
       "      <td>66.7600</td>\n",
       "      <td>125.8000</td>\n",
       "      <td>35.1900</td>\n",
       "      <td>3.5200</td>\n",
       "      <td>59.7500</td>\n",
       "      <td>76.6100</td>\n",
       "      <td>55.9200</td>\n",
       "      <td>58.7500</td>\n",
       "      <td>656.9300</td>\n",
       "      <td>247.3000</td>\n",
       "      <td>32.1900</td>\n",
       "      <td>203.5500</td>\n",
       "      <td>89.3000</td>\n",
       "      <td>14.8100</td>\n",
       "      <td>43.7500</td>\n",
       "      <td>276.3200</td>\n",
       "      <td>11.0000</td>\n",
       "      <td>136.9700</td>\n",
       "      <td>101.1200</td>\n",
       "      <td>112.4200</td>\n",
       "      <td>46.3700</td>\n",
       "      <td>256.9600</td>\n",
       "      <td>333.3800</td>\n",
       "      <td>37.1400</td>\n",
       "      <td>38.5500</td>\n",
       "      <td>88.2700</td>\n",
       "      <td>46.0100</td>\n",
       "      <td>277.7800</td>\n",
       "      <td>10.6600</td>\n",
       "      <td>164.0500</td>\n",
       "      <td>278.4300</td>\n",
       "      <td>107.9500</td>\n",
       "      <td>84.6000</td>\n",
       "      <td>564.1500</td>\n",
       "      <td>392.4200</td>\n",
       "      <td>187.1100</td>\n",
       "      <td>279.9400</td>\n",
       "      <td>167.7900</td>\n",
       "      <td>70.2500</td>\n",
       "      <td>81.5800</td>\n",
       "      <td>175.4500</td>\n",
       "      <td>94.4000</td>\n",
       "      <td>305.1300</td>\n",
       "      <td>283.2100</td>\n",
       "      <td>123.8000</td>\n",
       "      <td>443.4000</td>\n",
       "      <td>65.0100</td>\n",
       "      <td>133.1100</td>\n",
       "      <td>190.4000</td>\n",
       "      <td>127.4500</td>\n",
       "      <td>48.9600</td>\n",
       "      <td>270.1300</td>\n",
       "      <td>301.9400</td>\n",
       "      <td>50.2600</td>\n",
       "      <td>63.3300</td>\n",
       "      <td>9.1200</td>\n",
       "      <td>176.1800</td>\n",
       "      <td>87.0500</td>\n",
       "      <td>433.6900</td>\n",
       "      <td>49.8350</td>\n",
       "      <td>283.3500</td>\n",
       "      <td>49.4400</td>\n",
       "      <td>65.1100</td>\n",
       "      <td>191.3700</td>\n",
       "      <td>68.6300</td>\n",
       "      <td>132.1800</td>\n",
       "      <td>79.7200</td>\n",
       "      <td>42.1000</td>\n",
       "      <td>50.6600</td>\n",
       "      <td>206.2900</td>\n",
       "      <td>77.6800</td>\n",
       "      <td>354.9100</td>\n",
       "      <td>11.3800</td>\n",
       "      <td>11.1500</td>\n",
       "      <td>54.6800</td>\n",
       "      <td>186.1000</td>\n",
       "      <td>187.4900</td>\n",
       "      <td>237.2100</td>\n",
       "      <td>63.5100</td>\n",
       "      <td>15.6500</td>\n",
       "      <td>103.3200</td>\n",
       "      <td>153.4800</td>\n",
       "      <td>38.3800</td>\n",
       "      <td>49.3800</td>\n",
       "      <td>79.9600</td>\n",
       "      <td>74.2100</td>\n",
       "      <td>80.7300</td>\n",
       "      <td>343.4200</td>\n",
       "      <td>3.0900</td>\n",
       "      <td>159.2600</td>\n",
       "      <td>76.1000</td>\n",
       "      <td>226.7200</td>\n",
       "      <td>62.8700</td>\n",
       "      <td>26.6000</td>\n",
       "      <td>115.8200</td>\n",
       "      <td>96.0200</td>\n",
       "      <td>62.9800</td>\n",
       "      <td>90.2500</td>\n",
       "      <td>34.7500</td>\n",
       "      <td>72.3400</td>\n",
       "      <td>161.9300</td>\n",
       "      <td>434.4300</td>\n",
       "      <td>219.0000</td>\n",
       "      <td>124.2100</td>\n",
       "      <td>36.9700</td>\n",
       "      <td>247.2200</td>\n",
       "      <td>301.8100</td>\n",
       "      <td>247.5500</td>\n",
       "      <td>26.3200</td>\n",
       "      <td>92.6400</td>\n",
       "      <td>206.9700</td>\n",
       "      <td>83.6800</td>\n",
       "      <td>67.7500</td>\n",
       "      <td>87.7800</td>\n",
       "      <td>106.4300</td>\n",
       "      <td>85.7500</td>\n",
       "      <td>51.7900</td>\n",
       "      <td>51.6000</td>\n",
       "      <td>145.3400</td>\n",
       "      <td>251.0700</td>\n",
       "      <td>80.1700</td>\n",
       "      <td>40.9700</td>\n",
       "      <td>81.1700</td>\n",
       "      <td>134.2200</td>\n",
       "      <td>215.0100</td>\n",
       "      <td>97.5900</td>\n",
       "      <td>127.6000</td>\n",
       "      <td>109.9900</td>\n",
       "      <td>19.3550</td>\n",
       "      <td>17.9500</td>\n",
       "      <td>124.1700</td>\n",
       "      <td>64.9300</td>\n",
       "      <td>129.5000</td>\n",
       "      <td>65.1100</td>\n",
       "      <td>11.7400</td>\n",
       "      <td>33.3800</td>\n",
       "      <td>147.0500</td>\n",
       "      <td>44.6100</td>\n",
       "      <td>69.2200</td>\n",
       "      <td>91.7400</td>\n",
       "      <td>308.3200</td>\n",
       "      <td>67.6800</td>\n",
       "      <td>51.4000</td>\n",
       "      <td>76.9600</td>\n",
       "      <td>313.8500</td>\n",
       "      <td>17.6500</td>\n",
       "      <td>155.7900</td>\n",
       "      <td>36.6300</td>\n",
       "    </tr>\n",
       "  </tbody>\n",
       "</table>\n",
       "</div>"
      ],
      "text/plain": [
       "Ticker            A      AA     AAL    AAON     AAPL     ABBV   ABEV     ABNB      ABT    ACGL    ACHR     ACI      ACM      ACN     ACWI     ACWV    ACWX     ADBE     ADC      ADI     ADM      ADP     ADSK    ADT     AEE    AEG      AEM      AEP      AER     AES      AFG      AFL    AFRM     AGCO     AGG     AGI   AGNC   AIFU     AIG     AIQ    AIRR      AIT      AIZ      AJG    AKAM      AL     ALB     ALC    ALGM     ALGN     ALK      ALL     ALLE    ALLY     ALNY    ALSN      ALV      AM     AMAT   AMCR      AMD      AME     AMGN     AMH    AMLP      AMP      AMT     AMX     AMZN       AN     ANET     ANSS      AON     AOS     APA      APD     APG     APH      APO      APP     APPF    APTV      AR    ARCC     ARE     ARES     ARGX    ARKB    ARKK      ARM    ARMK      ARW      AS     ASML     ASND      ASR    ASTS     ASX     ATI      ATO      ATR      AU    AUR     AVAV      AVB    AVDE    AVDV    AVEM     AVGO    AVLV    AVTR    AVUS    AVUV      AVY      AWI      AWK     AXON  \\\n",
       "Date                                                                                                                                                                                                                                                                                                                                                                                                                                                                                                                                                                                                                                                                                                                                                                                                                                                                                                                                                                                                                                    \n",
       "2025-06-24 117.6400 28.8000 11.3700 73.2500 200.3000 185.5500 2.4000 132.1500 138.0800 90.9700 10.7300 21.6900 112.3600 300.7200 126.5000 117.7000 60.1900 382.3400 74.9000 234.9800 52.9300 311.4000 304.1900 8.3900 96.3700 6.9000 120.4900 103.2800 116.0100 10.4700 126.1300 104.1600 65.6600 102.1400 98.8200 25.8500 9.3100 6.1700 85.4600 43.1000 80.2500 234.8900 198.0200 325.9800 80.0600 57.0900 60.1800 87.2100 32.5600 186.5800 49.5600 196.0500 143.6100 37.9500 325.0000 93.4300 111.9300 18.5000 180.1800 9.1800 138.4300 179.2400 277.4900 36.6700 48.6500 521.3400 223.9100 17.2500 212.7700 201.0300  94.9700 338.2700 360.6800 64.9400 18.1800 281.0000 50.7300 95.8000 139.9100 349.4800 232.5800 68.4500 42.3500 21.5200 75.3700 169.8200 568.0600 35.1300 70.3000 156.4100 40.8600 126.5500 37.6800 813.3600 179.1000 306.5900 53.2200 10.6000 84.1200 156.4400 153.8700 46.4000 5.4500 193.2800 206.1300 72.6400 77.2400 67.9400 263.7700 67.3000 13.4600 99.0400 90.2100 179.1300 158.3600 142.1800 794.2500   \n",
       "2025-06-25 118.6200 28.1700 11.0600 72.7500 201.5600 185.3900 2.3200 129.6700 137.4000 89.2300  9.9300 21.2800 111.0600 294.6000 126.4100 116.9400 59.9900 387.5500 73.3000 234.6800 52.3000 298.1900 302.3700 8.3600 95.1000 6.8800 119.7800 101.4100 114.6500 10.5000 122.6800 102.4800 66.2500 100.4900 98.8100 26.1100 9.2300 5.9600 83.9000 43.0800 79.3400 224.6000 194.6000 317.4300 79.5300 56.8200 60.3800 87.5700 32.9350 187.1400 48.6600 190.9400 142.8200 38.1500 321.9400 92.8800 110.6500 18.4600 183.0700 9.0500 143.4000 178.0000 280.3500 35.8100 48.0300 524.0200 220.2200 17.3300 211.9900 199.9200  96.3100 341.6900 354.4600 65.0400 17.8000 282.0000 50.2300 97.0200 137.7300 338.8000 230.7900 67.4100 41.0600 21.5600 73.6800 168.8000 560.5300 35.8400 69.5000 157.3100 41.1400 127.0000 37.3100 815.2400 173.0000 309.9500 49.9700 10.6100 82.9900 152.7300 153.9300 46.4500 5.2900 234.9400 201.2200 72.3200 77.0600 67.9500 264.6500 66.9000 13.5800 98.8600 89.4700 176.6000 159.4100 140.0500 785.0700   \n",
       "2025-06-26 119.4200 29.9300 11.1300 72.4600 201.0000 186.7900 2.3700 133.7200 133.6700 90.2900 10.5900 21.1200 112.2100 296.0800 127.4700 117.4200 60.5900 384.9500 73.0000 237.3000 53.1700 302.9800 304.9300 8.4000 95.3800 7.0200 123.0500 102.3500 115.7300 10.8100 124.3700 103.9100 66.9000 102.5700 99.0800 26.1400 9.3200 4.8800 84.9700 43.4800 80.5200 232.2100 196.2100 318.3900 79.6000 58.0400 63.7500 87.1100 33.6700 187.7400 49.0100 194.1500 143.3900 38.7800 318.2500 94.1100 111.1300 18.9200 183.5200 9.2100 143.6800 179.8200 279.1100 36.0300 48.8200 525.4800 217.5200 17.5600 217.1200 200.0300 101.5900 343.4000 353.5500 64.6700 18.4500 283.0000 50.3100 96.9800 139.3500 347.4500 229.2900 67.9400 40.8900 21.7500 74.2100 171.1100 560.0400 35.7900 71.0300 158.1500 41.9000 128.2800 37.8500 798.0900 172.9500 313.2700 50.6200 10.6500 85.6800 152.9200 154.4800 46.3600 5.4000 272.3700 204.1300 73.3500 78.4400 68.3600 270.1700 67.6400 13.7400 99.9100 90.9000 175.9500 160.5800 138.4200 803.9500   \n",
       "\n",
       "Ticker          AXP      AXS    AXTA      AYI    AZEK     AZN       AZO       B       BA     BABA     BAC      BAH    BALL     BAM      BAP     BAX    BBAX    BBCA    BBD    BBEU    BBIN    BBIO    BBJP     BBUS    BBVA    BBWI     BBY     BCE     BCH     BCS      BDX    BEKE     BEN     BEP    BF-A    BF-B     BFAM      BG     BHP    BIDU     BIIB     BIL    BILI    BILS    BINC      BIO     BIP    BIRK    BITB     BIV       BJ      BK     BKLC    BKLN      BKNG     BKR      BLD     BLDR       BLK     BLV      BMI      BMO    BMRN     BMY      BN     BND    BNDX     BNS     BNT     BNTX    BOKF    BOND     BOXX      BP     BPMC     BPOP       BR    BRBR   BRFS       BRK-A    BRK-B    BRKR      BRO    BROS     BRX    BSAC   BSBR    BSCP    BSCQ    BSCR     BSV      BSX     BSY     BTI     BUD    BUFR     BURL     BWA     BWXT       BX     BXP    BXSL     BYD      BZ       C     CACI     CAE     CAG      CAH    CALF      CAR    CARR    CART     CASY      CAT    CAVA       CB     CBOE  \\\n",
       "Date                                                                                                                                                                                                                                                                                                                                                                                                                                                                                                                                                                                                                                                                                                                                                                                                                                                                                                                                                                                                                                    \n",
       "2025-06-24 308.3800 102.9200 29.9900 284.4400 51.8200 70.5400 3577.5400 20.6800 200.9400 117.0100 46.6600 100.1600 56.9800 55.6800 217.7900 30.5900 53.9100 79.7000 3.0300 66.6200 66.5200 44.4500 59.9800 109.9000 15.3200 28.7100 68.8400 21.9800 29.5700 18.2600 171.5700 18.4500 23.2300 25.5600 26.8600 26.2900 123.5400 83.5900 47.2900 86.6800 126.3100 91.6600 20.7000 99.3600 52.6500 237.9100 33.1500 50.4200 57.4900 76.9500 114.0900 91.2000 116.7100 20.8400 5482.2300 37.9700 326.5900 118.8400 1004.9700 68.9900 247.2000 106.7300 54.6900 47.0300 61.3200 73.2800 49.4700 54.3500 61.4000 105.0900 95.5800 91.7400 112.6100 29.8300 128.2600 108.0600 241.8000 59.8000 3.7400 740085.0000 493.4800 39.6600 110.9500 70.3900 26.0700 24.4400 5.3900 20.6700 19.4900 19.6200 78.5400 104.1200 52.5500 48.5000 70.2100 31.4800 228.1000 33.4400 142.3100 144.0500 70.3400 31.3400 78.0000 18.0900 81.1400 452.1700 26.4400 21.4600 164.2100 39.8300 171.8600 72.4600 44.9700 510.9100 373.0200 74.2300 286.7800 229.2700   \n",
       "2025-06-25 308.5900 100.4900 29.6600 287.4900 52.7900 69.6800 3489.5400 20.8700 198.9000 114.5500 46.8500 101.3400 56.7500 54.3800 217.4300 30.6100 53.9900 79.1700 2.9900 66.1400 65.9000 44.3800 59.7100 109.9200 14.8800 28.8100 68.0000 21.9400 29.4600 18.1700 170.9000 18.3300 23.2100 25.3800 26.6900 26.0600 121.1800 82.2200 46.7400 86.6500 127.3100 91.6700 20.7800 99.3800 52.6400 240.9800 33.0800 49.5000 58.6600 76.9900 113.7500 90.0000 116.7600 20.8700 5485.3500 37.5800 319.4600 115.9600 1018.0800 68.8900 242.3900 106.6400 54.1400 46.6800 60.2000 73.3000 49.4300 54.2600 60.1500 104.8000 95.0600 91.8000 112.6200 30.3200 128.2500 108.0300 238.1600 58.7500 3.5600 730000.0000 486.2100 40.9300 108.3800 68.5500 25.4600 24.3900 5.2300 20.6700 19.5000 19.6100 78.5200 104.2900 52.4200 47.7600 68.5700 31.4700 226.0900 33.1500 140.8600 143.5700 66.6400 31.3900 78.1100 17.5500 82.6300 460.9100 26.3300 20.4500 163.7500 39.3400 175.7300 72.4300 43.3300 505.1300 371.5800 73.9900 282.8200 230.4000   \n",
       "2025-06-26 311.4200 102.8100 29.9000 304.1800 52.9500 70.0700 3522.2500 21.2000 202.5800 113.9300 47.4600 103.2700 56.9900 55.1200 223.0500 30.5000 54.5900 80.1800 3.0100 66.7100 66.8700 45.1200 60.9700 110.8000 14.9700 29.1400 68.4300 21.8500 29.7200 18.3300 169.9700 18.4400 23.4800 25.6200 26.7800 26.1900 120.5200 82.3000 48.3400 86.4600 126.9200 91.6800 20.8200 99.3900 52.7700 243.4700 33.8600 49.2700 58.5300 77.2400 113.4900 90.0400 117.7000 20.8700 5596.0000 38.3200 320.9300 115.9800 1030.7900 69.2000 246.9400 109.1000 54.1000 46.6500 61.1000 73.5100 49.4800 55.1000 61.0350 106.1400 97.0300 92.0400 112.6300 30.2900 128.1500 110.1200 239.1700 57.2600 3.6100 729808.0000 485.0500 42.1800 109.2700 67.4600 25.9400 24.5400 5.3200 20.6700 19.5100 19.6300 78.6600 104.5800 52.6300 48.0900 69.1300 31.6200 229.0900 33.6000 141.8700 148.1800 67.7600 31.5100 77.7700 17.6200 84.3700 465.3700 26.8000 20.5000 165.6100 39.7800 179.3000 72.5900 44.9400 504.0100 381.8800 77.6700 283.5700 226.1500   \n",
       "\n",
       "Ticker         CBRE    CBSH   CCCS    CCEP      CCI     CCJ      CCK     CCL    CDE     CDNS     CDP      CDW      CE     CEF      CEG    CELH      CF     CFG    CFLT      CFR      CG    CGCP    CGDV    CGGO    CGGR    CGMU    CGUS    CGXU     CHD     CHDN      CHE     CHKP    CHRD    CHRW     CHT     CHTR    CHWY       CI    CIBR    CIEN     CIGI     CINF      CL      CLH      CLS      CLX      CM     CMA   CMCSA      CME     CMF     CMG      CMI     CMS     CNA     CNC     CNH      CNI     CNM     CNP     CNQ      COF    COHR     COIN     COKE     COO     COOP     COP      COR    CORT      COST    COWZ      CP     CPAY     CPB    CPNG    CPRT      CPT     CQP       CR    CRBG    CRDO     CRH     CRK      CRL      CRM      CRS     CRWD    CSCO    CSGP      CSL     CSX     CTAS    CTRA    CTSH    CTVA    CUBE     CVE     CVLT     CVNA     CVS      CVX       CW    CWAN     CWB    CWEN  CWEN-A     CWST     CX     CYBR     CZR       D     DAL     DAR     DASH     DAY      DB    DBEF  \\\n",
       "Date                                                                                                                                                                                                                                                                                                                                                                                                                                                                                                                                                                                                                                                                                                                                                                                                                                                                                                                                                                                                                                 \n",
       "2025-06-24 139.1300 61.4700 9.3300 92.6700 103.1900 72.3400 104.3900 25.7000 8.9200 296.8000 28.4800 179.8400 56.0200 30.1200 320.6600 45.4100 94.6800 42.9200 24.0000 126.5000 49.1300 22.4800 38.9000 31.5200 39.7900 26.6900 36.3100 26.9300 96.0200 100.0700 557.3200 219.5600 98.5000 94.2800 46.1500 403.5000 43.3900 316.8300 73.8700 79.3500 132.8500 146.6900 88.1800 232.6500 143.8400 122.0200 70.2500 58.2300 35.2100 271.3800 55.6400 54.6500 323.8500 69.7100 46.0900 54.0500 12.8800 102.1200 59.4000 36.4800 31.5200 206.3600 80.9600 344.8200 109.2500 70.9300 155.9600 89.3900 294.1200 76.7700 1001.9200 54.7200 79.2600 329.4700 32.1700 28.9500 48.6500 115.5300 56.4000 184.3500 33.2500 91.9200 91.5200 29.5700 148.4000 271.1700 265.5200 485.3800 67.8900 81.0000 371.9100 32.4800 223.2000 26.8100 77.5900 73.2900 43.1100 13.7100 170.5000 322.9700 67.5800 143.5500 476.0200 22.3500 81.6500 32.0400 30.2400 117.7400 6.9400 397.1300 29.6100 55.9800 49.5600 38.6200 236.1700 57.7500 29.3100 43.5200   \n",
       "2025-06-25 135.2200 61.0500 9.1700 91.5600 101.8200 71.4300 103.9200 25.4800 8.8400 297.5300 27.8000 177.8300 55.6100 30.3300 315.1400 45.4700 91.4000 43.1200 23.8900 127.1000 49.1300 22.4900 38.9100 31.5800 39.7600 26.6800 36.3200 26.8100 95.2500  99.7100 552.5000 218.9300 97.6600 92.7100 46.2900 398.8500 42.6300 316.0000 74.4300 79.4300 128.1800 143.7200 87.8000 228.4500 149.0400 119.4800 70.1900 57.8700 34.8400 273.0300 55.6400 55.1400 318.7500 68.5700 45.4100 53.5100 12.6000 101.3800 58.9000 36.3000 31.3700 208.0300 85.6300 355.3700 107.6500 69.5400 150.0500 89.0000 292.3200 73.9900  986.5400 54.3400 77.9100 326.4700 31.1800 28.8400 48.1400 113.0600 54.6100 185.2700 33.0700 92.2000 88.6700 28.3300 150.2100 267.7600 264.0000 494.0900 68.1900 81.2600 371.7900 32.4900 219.2400 26.0700 76.9800 73.2400 42.1300 13.6400 173.4200 315.7600 66.3700 143.2300 476.5000 21.7700 81.5000 31.6400 29.9300 114.4200 6.7400 399.4400 28.6000 55.2000 48.3100 37.3200 232.6800 55.0000 29.2800 43.2400   \n",
       "2025-06-26 138.0900 62.2300 9.3100 91.2700 100.3500 74.4600 104.4500 26.1700 9.0500 303.6900 27.9300 177.2800 56.5500 30.4000 322.5100 45.4200 90.6900 44.1200 24.8500 128.7400 50.6700 22.5600 39.3000 31.8700 40.1600 26.7400 36.6900 27.1800 94.9700 100.6000 555.8800 218.8800 99.3500 93.1900 46.7400 394.0100 43.4300 330.0000 74.9700 81.5100 130.4200 145.7600 87.7900 230.2500 150.1500 118.0100 70.5600 59.0800 35.2100 272.8300 55.6400 54.2700 324.2000 69.1600 45.9700 53.5700 12.9000 103.8900 59.3000 36.5800 31.9100 210.5100 89.8800 375.0700 110.8800 69.6900 151.4900 90.8900 296.5800 74.3300  982.9100 54.7600 79.0000 326.0400 30.9600 29.8100 48.2400 114.3300 56.4200 187.8500 35.0000 95.0500 89.0700 28.4000 151.5900 270.7400 273.3500 505.2200 68.9500 81.5000 376.9800 32.5700 220.4400 25.9500 77.5900 74.3000 42.2800 13.8100 174.9700 306.4800 68.1400 144.4400 482.7800 22.3800 82.0800 32.1100 30.3600 116.5100 6.8300 403.5600 28.5100 55.1800 48.9700 38.3100 239.6400 55.1200 29.9500 43.5100   \n",
       "\n",
       "Ticker         DBX     DCI      DD     DDOG      DDS       DE     DECK     DELL      DEO    DFAC    DFAE    DFAI    DFAS    DFAT    DFAU    DFAX    DFCF    DFEM    DFIC    DFIV    DFLV    DFSD    DFSV    DFUS    DFUV       DG    DGRO    DGRW      DGX      DHI      DHR      DIA    DIHP    DINO      DIS    DIVO    DKNG      DKS     DLB     DLN      DLR    DLTR     DOC    DOCS    DOCU     DON      DOV     DOW     DOX      DPZ      DRI     DRS     DSGX      DSI      DT      DTE      DTM    DUHP      DUK     DUOL      DVA     DVN      DVY    DXCM      DXJ       DY    DYNF       E       EA    EAGG      EAT    EBAY    EBR     EC      ECL       ED     EDU     EDV     EEM    EEMV     EFA    EFAV      EFG     EFV      EFX       EG      EGP      EHC     EIX      EL    ELAN      ELF     ELS      ELV     EMA     EMB      EME    EMLC     EMN      EMR    EMXC     ENB    ENPH     ENSG    ENTG      EOG     EPAM     EPD     EPI    EPRT     EQH     EQIX    EQNR     EQR     EQT   ERIC     ERIE     ERJ  \\\n",
       "Date                                                                                                                                                                                                                                                                                                                                                                                                                                                                                                                                                                                                                                                                                                                                                                                                                                                                                                                                                                                                                                   \n",
       "2025-06-24 28.8400 69.3600 68.2100 130.8300 407.5100 514.1000 102.2200 120.5900 101.2000 35.2500 28.6600 34.0000 63.1700 53.4800 41.6100 28.8300 42.0500 29.3000 30.4800 42.2300 30.7200 47.8800 29.1900 65.8500 41.8000 113.3100 63.2300 82.5650 179.9000 129.6300 197.4700 430.7900 29.0050 41.0700 118.6500 42.0400 42.8100 178.2700 74.1600 81.0900 177.6600 98.6800 17.4900 58.6400 75.6400 49.8750 179.9400 27.5300 92.6200 459.9700 220.8300 43.1200 103.4300 114.0000 55.7600 133.2200 107.3800 35.0600 116.9500 422.7900 140.9500 32.3500 132.2100 87.5700 111.5900 238.8100 53.2900 31.9700 157.9500 47.3100 180.0000 74.3500 7.3300 9.4000 266.8400 100.1900 55.5000 66.3700 47.9200 62.1000 88.0400 83.1100 109.6800 62.7500 261.8100 340.8300 173.7200 120.9200 51.3900 77.0500 13.5100 121.8700 63.5300 376.4200 44.8900 91.9500 500.6500 25.0700 76.4600 130.7300 62.3000 45.0400 38.3800 153.5700 81.7300 120.6800 172.7500 31.1200 46.6000 32.6800 53.9900 906.5000 25.1500 67.5400 60.3400 8.3800 353.6300 53.2300   \n",
       "2025-06-25 28.5400 69.0300 67.9900 130.2400 409.8900 506.7400 101.0400 120.4600  99.8600 35.2000 28.7400 33.8200 62.6500 52.9900 41.5900 28.8200 42.0500 29.4200 30.3800 42.0200 30.6000 47.8900 28.9300 65.8500 41.6700 112.7700 63.0000 82.4200 178.6500 127.2900 201.0000 429.8600 28.8600 40.9500 119.4200 41.9200 42.7400 185.6600 74.1000 80.8300 172.2500 99.4500 17.3100 60.1700 75.0100 49.3100 180.0500 26.8200 90.6600 453.1300 217.4600 43.4700 100.6000 114.1900 54.6900 130.8700 106.8100 34.9800 115.9500 397.6800 140.3600 32.1300 130.6800 84.6800 111.6000 237.5600 53.3900 31.9500 157.8200 47.3400 176.6700 74.5200 7.1700 9.3300 266.4600  98.0500 54.6200 66.4200 47.9600 62.4100 87.5600 82.5600 109.2700 62.4200 258.0300 336.4400 167.9100 120.6700 50.4100 77.5600 13.7600 125.4100 62.4000 373.8600 44.8500 91.9000 502.5700 25.0800 75.8700 129.4400 62.4600 44.4800 38.1100 152.5200 82.1500 119.8200 173.1000 30.7500 46.7800 31.8500 54.4100 824.3100 25.1000 65.6400 58.2300 8.3300 341.3000 52.9000   \n",
       "2025-06-26 27.9900 69.9400 69.2800 131.1200 413.2300 508.5300 101.9300 125.9800 100.5400 35.5600 28.8900 34.2400 63.5600 53.8200 41.9600 29.1400 42.1800 29.5900 30.7700 42.4900 30.8800 47.9700 29.4100 66.4000 42.0700 112.6300 63.4200 82.9000 177.0600 127.1500 201.4600 433.9300 29.1800 41.5900 121.4600 42.2500 42.2300 195.8800 74.8200 81.3300 169.5900 99.4400 17.4800 60.4100 75.5500 49.9200 183.0400 27.1500 91.3700 454.7200 215.9700 44.6000 102.0800 114.9500 54.9300 131.5600 109.8700 35.1500 116.2500 398.6600 141.0900 32.4800 131.9800 85.0400 113.3100 239.3700 53.8900 32.1600 157.7300 47.4800 181.7800 73.6800 7.2700 9.2400 263.2500  98.4100 54.4800 66.8900 48.2800 62.7600 88.5400 83.2600 110.5300 63.0600 255.9500 339.4100 168.5000 121.5400 50.8100 79.0300 14.3000 124.8900 62.6100 373.1800 44.9300 92.1800 510.9900 25.1900 76.1500 132.7300 63.0600 45.0800 43.0000 153.7900 83.6500 121.1300 174.0000 31.0900 47.3200 32.1400 56.0200 745.5300 25.1900 67.4600 58.1500 8.3600 340.7300 53.7900   \n",
       "\n",
       "Ticker          ES     ESAB    ESGD    ESGE     ESGU     ESGV     ESLT    ESNT      ESS    ESTC      ET      ETN     ETR    ETSY    EUFN      EVR    EVRG      EW     EWBC     EWJ     EWT     EWY     EWZ    EXAS     EXC      EXE    EXEL    EXLS      EXP     EXPD     EXPE      EXR     EZU       F     FAF     FANG    FAST    FBCG    FBIN    FBND    FBTC     FCFS     FCNCA     FCX     FDL      FDN      FDS    FDVV      FDX      FE    FELC    FELG     FER     FERG     FEZ     FFIV     FHN       FI      FICO     FIS    FITB     FIVE      FIX    FIXD    FLEX    FLOT     FLR     FLS     FLUT     FMS      FMX       FN     FND    FNDA    FNDE    FNDF    FNDX     FNF      FNV    FOUR     FOX    FOXA     FPE      FR     FRHC     FRT    FSEC     FSK     FSLR      FSS      FSV     FTAI    FTCS     FTEC     FTI     FTNT     FTS    FTSM     FTV     FUTU      FV     FVD   FWONA    FWONK     FXI    FYBR       G     GAP     GBIL    GBTC       GD     GDDY     GDX    GDXJ       GE    GEHC     GEN  \\\n",
       "Date                                                                                                                                                                                                                                                                                                                                                                                                                                                                                                                                                                                                                                                                                                                                                                                                                                                                                                                                                                                                                             \n",
       "2025-06-24 63.8400 118.4400 87.8100 38.9100 132.8000 107.5100 422.5400 61.2400 286.0300 83.9100 17.6900 343.2600 82.9700 53.3700 31.1700 265.1300 68.7800 75.8500  98.9600 72.7400 56.8200 72.6500 27.9800 51.1700 43.1000 122.5300 45.7200 44.5200 205.9200 114.1600 169.2200 148.5300 58.5600 10.7300 60.6000 139.3500 41.5300 46.8700 52.4100 45.6900 92.2300 130.5000 1908.4200 42.0100 42.2200 261.0700 437.6000 51.4100 229.5100 40.5100 33.8300 36.1300 52.1000 219.1500 58.9400 295.9000 20.3800 172.6600 1926.5200 82.1300 40.5900 124.2800 513.3200 43.8800 47.9100 50.9600 51.2400 47.8200 275.8300 27.8000 101.2300 276.5000 76.6800 28.4660 32.7990 39.4160 24.2520 56.0200 165.2000 97.1400 51.3100 55.9000 17.8100 50.5100 145.1750 96.2700 43.4700 20.3900 151.1800 103.7400 177.3150 135.0500 90.4900 191.9600 34.0500 104.4200 47.3700 60.0200 70.6700 117.3000 58.4800 44.8600 94.8200 104.9900 37.1000 36.3600 42.2000 21.5700 100.1000 83.2400 281.0500 179.4900 51.8600 66.7900 248.7500 71.9800 29.3700   \n",
       "2025-06-25 62.4600 118.6600 87.2800 38.9700 132.7400 107.5400 431.6100 60.2700 281.9000 80.9800 17.6700 342.3500 81.3200 53.0500 31.0500 267.0600 68.1900 76.9700  98.8300 72.4400 57.3100 72.3700 27.5700 51.9200 42.2900 119.0800 43.5300 43.2100 200.9300 112.2800 165.7500 145.4400 58.2000 10.4800 59.8200 138.0400 41.1200 47.0200 51.4000 45.7200 94.1300 134.5100 1911.7500 41.6100 41.8600 260.3400 439.8700 51.2900 222.0000 39.9200 33.8300 36.2400 52.2500 219.4000 58.4800 294.4100 20.3400 170.3600 1893.4500 80.7300 40.6800 128.1300 507.6000 43.8700 49.0200 50.9700 49.7500 48.5900 267.9800 27.7300 100.7800 285.8900 76.0000 28.2200 32.7900 39.2400 24.1600 55.2400 163.4000 96.4500 51.3800 55.9900 17.8000 48.6300 143.1400 93.7100 43.0000 20.4000 152.7000 102.7800 171.3700 125.0000 89.7400 193.7000 34.0700 103.6900 46.6000 60.0100 70.0800 124.3300 58.0000 44.3700 93.5000 103.8000 37.0600 36.3300 41.7200 21.4600 100.0900 84.8900 285.9100 177.3700 51.9200 66.7800 249.9000 72.7500 29.0800   \n",
       "2025-06-26 63.2500 121.2800 88.2700 39.1700 133.8000 108.4600 431.7300 60.5300 287.7200 82.6100 18.1800 348.1400 81.8600 50.6300 31.2600 271.5000 68.4600 77.1500 101.7500 73.9700 57.8500 71.9400 28.1300 51.8100 42.5100 118.6700 43.0900 43.8300 202.9900 113.6000 166.8000 145.6500 58.5400 10.6300 61.1300 140.8700 41.3000 47.6100 51.5100 45.8700 93.9500 137.6300 1959.9900 44.4600 41.7500 264.3700 437.0300 51.6700 221.0700 39.9300 34.1000 36.5600 52.7800 218.2400 58.8400 289.0900 20.9100 171.3600 1815.8400 80.0000 41.4500 129.9200 516.0800 43.8100 50.0900 50.9900 51.3800 51.8800 271.2600 28.1100 101.5800 298.9300 75.7800 28.6100 33.0900 39.7000 24.3700 56.3300 164.7200 98.0400 52.2100 56.6800 17.7700 49.0600 144.6000 94.8400 43.6700 20.6100 155.6300 104.8900 172.4800 122.0100 89.9400 195.3700 34.9400 103.8600 47.1300 60.0400 71.2200 123.2100 58.6100 44.3600 94.9300 104.7850 37.1600 36.3200 42.2450 21.9800 100.1100 84.7500 291.3900 177.1900 52.6200 67.7500 251.0000 74.8600 29.4500   \n",
       "\n",
       "Ticker         GFI     GFL     GFS    GGAL     GGG      GH      GIB     GIL     GILD     GIS       GL      GLD    GLDM    GLPI     GLW      GM    GMAB     GME    GMED     GNRC     GOOG    GOOGL    GOVT      GPC     GPK     GPN   GRAB     GRMN       GS    GSIE     GSK     GSLC    GTLB     GTLS    GUNR      GVI     GWRE       GWW        H     HAL    HALO     HAS    HBAN      HCA       HD     HDB      HDV    HEFA      HEI    HEI-A      HES    HESM      HIG      HII    HIMS      HLI     HLN     HLNE      HLT     HMC     HMY    HOLX      HON    HOOD     HPE     HPQ      HQY     HRB     HRL    HSBC    HSIC     HST      HSY    HTHT     HUBB     HUBS      HUM      HWM     HYD     HYG    HYLB    IAGG     IAU      IBB    IBDR    IBIT    IBKR      IBM     IBN      ICE    ICL     ICLR    ICSH      IDA     IDCC    IDEV     IDV     IDXX     IEF    IEFA      IEI    IEMG    IEUR      IEX     IFF     IGF    IGIB      IGM    IGSB      IGV      IHG     IHI     IJH      IJJ     IJK      IJR     IJS  \\\n",
       "Date                                                                                                                                                                                                                                                                                                                                                                                                                                                                                                                                                                                                                                                                                                                                                                                                                                                                                                                                                                                                                                \n",
       "2025-06-24 23.8400 50.0200 39.0900 52.6800 85.5400 49.9900 105.5300 47.7500 107.2000 53.4100 122.9100 306.1900 65.8200 47.3300 51.4200 49.0000 20.7400 23.2900 58.6600 135.9800 167.7400 166.7700 22.8700 121.2000 21.5700 78.9800 4.7400 205.0800 662.1100 39.0000 38.6800 119.1900 42.8300 148.6100 39.8700 106.4800 237.4500 1041.3800 136.0200 20.7800 53.9000 72.5800 16.2600 379.0200 360.4200 75.1000 116.6200 37.7500 317.6100 249.3600 138.6000 38.2200 126.5800 231.6300 42.9500 179.8500 10.4900 142.6700 255.9300 28.8800 14.0900 64.8300 224.6000 82.0100 18.1500 24.5400 104.1800 54.9200 30.4000 60.7200 72.6800 15.6700 172.0500 34.5500 402.9900 557.3200 238.7900 176.5700 49.9900 80.1700 36.7300 51.0700 62.6800 127.4100 24.2200 60.0600 51.6400 293.7900 32.9000 180.8500 6.6400 148.5400 50.6500 115.0400 234.7000 74.7900 34.0900 530.5000 95.2600 81.9500 118.6400 59.5100 65.3300 174.8800 74.7200 58.4100 52.9600 109.2400 52.6300 108.0500 115.0600 61.8900 61.5300 122.9500 89.9300 108.6400 99.0500   \n",
       "2025-06-25 24.0100 49.6900 38.5700 51.6700 85.2900 49.9000 103.5000 46.8400 105.9300 50.6800 121.4200 307.1200 66.0300 46.3900 51.3900 48.1300 20.5200 23.5500 58.1900 139.4200 171.4900 170.6800 22.8900 119.1500 21.2000 77.7200 4.5900 203.5400 669.8700 38.8200 38.2800 119.2300 42.5900 151.2100 39.6200 106.5000 236.0100 1023.8700 137.1000 20.2600 52.3200 71.6800 16.2800 374.1900 361.8600 75.9600 115.8800 37.4700 316.7300 248.8600 138.1200 37.7800 124.0000 235.1200 41.4100 181.1900 10.5000 142.5200 253.7200 28.5900 14.0200 64.2700 221.7900 82.7500 18.4900 24.5300 103.9700 54.5300 29.8400 61.0900 72.7900 15.5000 167.5400 34.0500 399.0600 543.3600 238.5100 176.0800 49.9500 80.1500 36.7200 51.0400 62.8500 126.6900 24.2100 61.2750 52.2600 291.0600 32.8900 180.5300 6.7300 145.9100 50.6600 113.5100 230.5000 74.3900 34.0300 530.4000 95.3000 81.5600 118.7200 59.5500 64.8900 174.5000 74.2300 58.0500 52.9600 109.9600 52.6000 107.7700 113.7300 61.7700 61.0400 122.0400 89.3400 107.5600 98.1200   \n",
       "2025-06-26 23.8200 50.5800 38.7700 51.9500 86.2600 50.0300 104.0800 48.3700 107.6200 50.3700 123.0400 306.7800 65.9600 46.4500 51.7000 49.1600 20.7300 23.8800 58.8200 142.3100 174.4300 173.5400 22.9450 119.0600 21.1600 78.2400 4.6700 205.1500 687.1600 39.2600 38.5500 120.0100 44.2300 162.4200 40.2300 106.7500 234.8700 1015.4800 138.8600 20.6400 52.5300 72.3100 16.6400 377.6600 363.5000 76.9200 116.5500 37.7400 321.2800 253.7000 140.1200 38.8600 124.7400 239.8300 46.2800 182.7500 10.4200 144.2400 257.4900 28.8100 13.9100 65.1100 226.3800 84.5200 18.3700 24.7100 104.8600 54.3200 30.2500 60.4800 73.1500 15.7100 167.0000 34.2800 405.2600 547.7600 239.9000 176.8500 50.0100 80.3800 36.8200 51.0900 62.8000 127.0100 24.2200 61.1400 53.4100 291.9300 33.3900 180.8000 6.7900 146.7500 50.6800 114.4500 227.2700 75.2900 34.2600 527.7800 95.6400 82.5300 119.0100 59.9600 65.4900 176.3500 73.9200 58.6400 53.1400 111.1900 52.7000 108.7100 114.7300 61.7900 61.8500 123.6800 90.4000 109.1600 99.5500   \n",
       "\n",
       "Ticker          IJT    ILMN     IMO    INCY    INDA    INFA    INFY     ING     INGR     INSM    INTC     INTU    INVH    IONQ    IONS      IOO     IOT      IP     IPG    IQLT      IQV      IR      IRM     ISRG    ISTB       IT      ITA     ITOT      ITT   ITUB      ITW    IUSB     IUSG    IUSV      IVE      IVV      IVW     IVZ      IWB      IWD      IWF      IWM      IWN      IWO      IWP     IWR      IWS      IWV      IWY      IX     IXJ     IXN    IXUS      IYF     IYR      IYW        J    JAAA    JAVA     JAZZ     JBHT      JBL     JBTM      JCI    JCPB      JD     JEF    JEPI    JEPQ    JGRO    JHMM     JHX    JIRE     JKHY      JLL    JMBS    JMST      JNJ     JNK    JNPR   JOBY    JPIE      JPM    JPST    JQUA     JXN       K      KB     KBR    KBWB      KD     KDP     KEP      KEX     KEY     KEYS     KGC     KHC     KIM      KKR     KLAC      KMB     KMI     KMX     KNG     KNSL    KNTK     KNX      KO      KR     KRC    KSPI      KT    KTOS    KVUE    KVYO    KWEB       L  \\\n",
       "Date                                                                                                                                                                                                                                                                                                                                                                                                                                                                                                                                                                                                                                                                                                                                                                                                                                                                                                                                                                                                                                    \n",
       "2025-06-24 131.9900 91.5200 78.7500 69.0100 54.8000 24.2000 18.3000 21.3600 137.5000 105.9000 22.5500 759.0300 33.8300 40.8600 39.6400 105.3300 40.2800 46.5900 24.6900 42.5800 158.5800 83.6900 105.2500 523.0800 48.5300 400.3900 181.7500 132.7200 155.0200 6.7900 245.8000 46.0200 146.9400 93.5900 193.1300 609.5100 107.4800 15.2900 333.5000 192.5700 414.0000 214.4700 156.7800 283.6000 137.8300 91.3400 131.0600 344.7700 240.1500 21.6000 85.6900 89.8900 76.2400 118.7000 96.2500 168.6100 129.5400 50.7000 64.8300 108.1100 143.4300 211.9500 120.0600 103.6000 46.8400 32.5800 55.3400 56.5700 53.7600 84.0100 60.8100 24.6300 69.7600 181.0200 250.8800 44.8000 50.8750 152.1900 96.6800 36.5600 8.8300 46.1900 281.2600 50.6100 59.4700 86.6600 78.5200 82.4400 47.8200 69.3500 40.8800 33.5500 12.6100 113.5100 16.7500 164.7300 15.3100 26.0300 21.2400 127.7700 889.0300 129.9500 28.5400 69.2100 49.1800 478.3300 42.5800 44.3000 70.2100 73.4200 34.7800 81.5400 20.2700 40.7700 21.1900 32.9600 34.6700 89.9800   \n",
       "2025-06-25 130.5800 93.2300 80.0800 67.5500 55.0000 24.2500 18.5100 21.3000 134.0400 104.8500 22.2000 757.8600 32.9600 38.1100 40.0000 105.8100 38.6500 46.4000 24.1100 42.4000 158.7100 83.2800 102.6800 521.6300 48.5500 402.6400 182.0400 132.5700 154.7800 6.5900 245.6900 46.0300 147.3500 93.2600 192.5100 609.9600 107.8300 15.2500 333.4600 191.4800 415.4400 211.9700 155.1300 280.1000 136.8600 90.5700 130.0100 344.9700 241.2800 21.3000 85.3700 90.7700 76.0300 118.4800 94.0700 170.1600 128.0600 50.6600 64.5500 107.1200 142.7400 214.6600 117.9700 103.3500 46.8650 32.9400 55.9200 56.3600 53.9000 84.1400 60.3000 25.6000 69.2000 178.0600 244.5000 44.9000 50.8850 152.2800 96.7100 36.5500 8.5200 46.2100 284.0600 50.6100 59.1400 86.5700 77.8500 81.3100 48.0600 69.8900 41.2700 32.9800 13.7000 112.3100 16.7700 164.1200 15.3100 25.7300 20.8300 128.8400 893.4600 128.1500 28.3100 67.5000 48.7900 465.8300 41.9000 44.0200 69.6300 72.2200 34.1200 82.1400 19.9200 42.3300 21.1700 32.7600 34.4300 88.9000   \n",
       "2025-06-26 132.4600 94.1600 81.3300 70.8100 55.7100 24.3500 18.6000 21.4800 135.3900 101.7400 22.5000 772.8600 32.9200 41.1200 39.7800 106.6900 39.7200 46.5100 24.2400 42.7900 158.1600 84.9400 100.9100 534.1900 48.6100 404.6000 184.5000 133.7100 157.5600 6.6000 246.7500 46.1600 148.7000 93.8800 193.5200 614.7600 108.9100 15.5800 336.2300 192.8400 419.3200 215.4100 157.6400 284.6000 138.1100 91.3900 131.1500 347.8200 243.2300 21.9300 85.7300 91.5500 76.8300 119.7500 93.9600 171.6100 129.5600 50.7200 65.1100 107.5100 143.2800 215.3100 119.7100 104.4400 47.0000 33.2600 56.0900 56.4000 54.1300 85.0000 60.6400 25.7700 70.0500 177.6000 253.5700 45.0700 50.8900 152.0100 97.0200 36.9000 9.4800 46.2600 288.7500 50.6400 59.5100 88.6500 78.8200 81.5900 49.0300 71.0300 41.7900 33.0400 14.6300 114.7100 17.1500 164.9400 15.8500 25.7900 21.0200 131.9400 902.9400 126.8400 28.8900 66.6700 48.7500 476.4000 43.9200 44.2200 69.4700 71.2800 34.6000 83.6100 20.1200 41.3300 21.1100 33.1300 34.3400 90.0400   \n",
       "\n",
       "Ticker          LAD     LAMR   LBRDA   LBRDK   LCID     LDOS     LECO    LEGN      LEN    LEVI       LH      LHX      LI      LII      LIN    LITE     LKQ      LLY   LLYVA   LLYVK    LMBS      LMT      LNG     LNT     LNW    LOGI      LOW     LPLA     LPX      LQD    LRCX      LRN    LSCC     LTH     LULU     LUV     LVS      LW     LYB    LYFT    LYG      LYV       MA      MAA     MANH      MAR     MAS     MASI     MAT     MBB    MBLY      MCD    MCHI    MCHP      MCK      MCO      MDB     MDGL    MDLZ     MDT      MDY     MEDP      MELI     MET     META     MFC    MFG     MGA      MGC      MGK     MGM      MGV      MHK     MIDD     MINT     MKC       MKL     MKSI     MKTX     MLI      MLM      MMC      MMM    MMYT     MNDY    MNST      MO    MOAT      MOH     MORN     MOS      MP      MPC    MPLX     MPWR     MRK    MRNA    MRVL       MS      MSA     MSCI     MSFT      MSI     MSTR      MT      MTB    MTCH       MTD    MTDR     MTG     MTSI     MTUM      MTZ       MU      MUB  \\\n",
       "Date                                                                                                                                                                                                                                                                                                                                                                                                                                                                                                                                                                                                                                                                                                                                                                                                                                                                                                                                                                                                                               \n",
       "2025-06-24 339.3500 121.6000 95.0300 95.9800 2.1700 152.2300 206.1200 34.3000 111.6900 18.6200 262.5300 246.6500 28.5300 569.1500 463.1600 91.8100 37.6500 778.0800 78.0600 79.5150 49.3000 460.2000 239.9500 61.1600 85.8200 87.9000 219.9800 354.1000 88.1900 108.9200 95.6300 144.5500 51.1500 29.7000 232.9300 31.8600 42.6300 53.7900 58.3300 15.8600 4.2100 147.7800 557.5300 149.1700 194.6400 268.7300 63.7800 170.2700 19.4600 93.5200 17.9500 291.4700 55.5700 70.4300 720.8200 489.0000 209.2500 284.9800 68.4300 86.0800 562.2200 315.2800 2528.9500 79.6600 712.2000 31.5200 5.6000 37.6100 220.8900 357.8500 34.2000 130.5000 103.9100 143.1800 100.4300 74.7100 1988.9800  97.8200 222.7300 77.5300 552.3700 219.6700 149.8700 95.9900 300.3300 63.5700 59.9100 92.4700 294.5100 309.8800 35.5400 34.9100 165.2900 51.8400 716.5800 80.3200 26.8000 75.2100 135.9000 168.6600 575.6900 490.1100 418.3500 377.0200 30.9800 190.1200 31.5700 1185.1800 48.5200 28.1000 139.8400 236.8900 169.5100 127.9100 104.2100   \n",
       "2025-06-25 331.3700 119.2600 93.6500 94.6700 2.1400 153.9600 206.8100 33.4300 109.7700 18.0700 258.7000 247.8700 28.1100 564.9800 460.2000 91.7700 36.9400 792.3000 77.2500 78.4800 49.3300 458.3900 236.3200 60.0900 94.4800 88.4200 220.7000 360.9500 87.5100 108.7900 96.0200 141.4800 50.8100 29.1500 231.5200 31.3400 42.9000 53.0100 57.4800 15.5600 4.1800 146.1900 549.7000 145.9100 191.4800 265.9900 63.1900 169.3000 19.1600 93.5400 17.9200 285.5500 55.5300 71.6000 718.4100 481.6500 206.7600 277.6400 67.2800 85.9700 557.6700 311.1400 2540.5000 79.1100 708.6800 31.2800 5.5100 37.5200 221.3800 359.4700 33.8800 129.9200 102.6100 143.9400 100.4400 73.6400 1965.0000  98.6600 223.1600 77.1800 534.4200 216.3100 147.7500 95.0800 298.3600 62.2000 58.9400 92.3800 294.1400 310.0000 35.4700 35.4000 165.6900 51.9600 722.8200 79.6700 26.8600 75.9300 137.7200 168.0600 569.9900 492.2700 419.0000 388.6700 31.0100 191.2300 30.8600 1192.8500 47.7900 27.4700 139.1700 235.2000 168.5600 127.2500 104.1900   \n",
       "2025-06-26 329.7700 121.1700 92.6800 93.3900 2.2000 155.6800 211.3800 33.4800 109.8100 18.2300 256.9800 246.8000 28.0100 564.5100 464.4600 94.7100 37.0700 795.1200 77.7500 79.2200 49.2700 457.9000 242.0900 60.3200 95.6500 88.7400 221.2300 364.3700 87.8200 109.1900 96.8400 142.7700 50.5000 29.7700 231.5800 31.5200 43.6200 53.1900 58.4000 15.8500 4.2100 147.2000 545.8100 147.4600 194.2200 269.6200 63.7400 166.7100 19.4700 93.9000 18.4400 285.6300 55.5400 70.7800 722.0000 481.5400 209.2000 299.5100 67.7500 86.1800 565.2400 306.8000 2560.2000 79.9600 726.0900 32.0800 5.6000 38.2800 223.1600 362.5100 33.7900 130.8100 103.3500 144.7500 100.4800 77.5700 1995.2700 100.2700 220.5500 79.2800 540.6600 216.0200 150.7600 98.0000 305.5200 62.1900 58.7900 93.0700 291.0600 310.5400 35.1800 35.9900 167.5200 51.2200 735.1700 78.8300 27.5400 79.9700 139.7500 169.1600 565.6900 497.4500 415.2700 386.4400 31.6500 193.4900 30.4200 1193.3100 48.6000 27.6000 142.2300 237.1300 170.5500 126.0000 104.3500   \n",
       "\n",
       "Ticker        MUFG     MUSA     NBIX    NCLH    NDAQ     NDSN     NEE     NEM      NET      NEU     NFG      NFLX     NGG      NI     NICE    NIO     NKE     NLY    NMR     NNN     NOBL      NOC    NOK       NOW      NRG      NSC     NTAP     NTES    NTNX     NTR     NTRA     NTRS      NU      NUE     NVDA    NVDL     NVMI     NVO       NVR      NVS     NVT     NWG     NWS    NWSA     NXPI     NXT     NYT       O    OBDC       OC     ODFL      OEF     OGE     OHI     OKE    OKLO    OKTA     OLED     OLLI     OMC     OMF    OMFL      ON     ONB      ONC    ONEQ    ONON     ORCL     ORI    ORLY      OSK    OTEX    OTIS     OVV     OWL     OXY     PAA    PAAA    PAAS      PAC      PAG    PAGP     PANW    PARA    PATH    PAVE     PAYC     PAYX      PB     PBA     PBR   PBR-A    PBUS    PCAR     PCG    PCOR     PCTY    PDBC      PDD     PDI     PEG    PEGA      PEN      PEP     PFE     PFF     PFG    PFGC       PG      PGR     PGX       PH     PHG      PHM    PHYS    PINS      PKG  \\\n",
       "Date                                                                                                                                                                                                                                                                                                                                                                                                                                                                                                                                                                                                                                                                                                                                                                                                                                                                                                                                                                                                                             \n",
       "2025-06-24 13.7700 415.4400 128.1800 19.4000 88.1200 213.3600 71.4000 58.0900 186.4300 685.9300 85.4500 1279.1100 73.2500 40.5200 165.2100 3.5000 61.4200 19.3600 6.2500 43.0000 100.1600 484.0000 5.2000  996.3200 153.6800 257.4600 106.1300 134.0500 74.2700 59.4200 171.8700 118.1800 13.4300 128.2000 147.9000 61.9800 248.5200 70.7300 7277.5900 118.8300 72.3400 14.0100 33.6000 29.2500 217.4960 57.2600 54.7600 57.9800 14.3600 137.9900 161.9700 297.5000 44.7200 37.1100 80.5600 60.7100 98.5300 155.6800 129.5500 72.4800 55.1900 56.7800 54.2100 21.1600 266.8000 78.2700 52.4600 215.2700 37.9600 89.1800 110.5400 28.6500 97.4100 38.6700 19.1100 42.4800 18.1200 51.4000 28.3900 221.0100 177.5600 19.3200 201.6900 12.2100 12.5100 43.1400 235.0500 152.2500 69.3000 36.9300 12.4100 11.3300 61.0400 94.0100 14.1600 68.3200 182.6200 13.0800 107.1600 18.7900 83.1300 51.6100 255.7200 131.0500 24.3100 30.5700 77.9300 86.7700 160.3600 266.0100 11.1100 675.2500 23.9000 105.4900 25.5000 35.7400 189.4100   \n",
       "2025-06-25 13.6200 406.2700 127.7800 19.0200 88.0500 212.7200 70.3400 58.0600 190.1200 673.8900 83.6400 1275.2500 73.2300 39.7300 165.5300 3.4700 60.8300 19.2400 6.2100 42.7900  99.1800 486.9200 5.1700 1005.1600 153.3200 255.2100 105.1800 133.1600 73.4200 58.6400 164.1600 123.8000 13.2300 128.2100 154.3100 67.4000 255.3500 67.3500 7193.1800 118.0000 72.0000 13.8400 33.7200 29.4000 216.2800 57.5600 55.2900 57.0800 14.4500 136.0400 160.3500 298.6900 43.7500 36.6400 80.1900 55.5700 98.2100 156.0500 131.4700 70.6900 55.5500 56.5900 53.7400 21.0500 267.1250 78.5700 51.4800 210.7200 37.3000 87.8400 109.8500 28.6200 96.6300 38.0000 19.0300 42.4200 17.9500 51.4100 28.6800 223.5700 174.3700 19.0700 204.3000 12.2200 12.4700 42.7700 222.7900 137.9400 69.1400 36.6900 12.2700 11.2500 61.0500 94.1400 13.7900 67.5100 175.5000 13.0500 107.1400 18.8000 82.7500 50.5700 253.2200 128.0200 24.2600 30.4800 77.0600 85.5300 158.9700 259.6700 11.0700 673.5100 23.9200 103.5600 25.4900 35.3400 186.8400   \n",
       "2025-06-26 13.8200 404.5100 126.7100 19.4600 88.3900 214.9100 70.9900 59.1900 190.9600 680.8600 84.3400 1306.6700 74.3300 39.6100 165.6850 3.4200 62.5400 19.4600 6.3200 43.1200  99.8500 493.6600 5.1600 1011.4400 161.5400 255.5100 104.7500 132.9200 75.2800 58.0500 168.1700 122.9700 13.3900 130.6100 155.0200 68.0200 268.8800 67.7000 7280.4400 120.3200 73.1300 13.8800 33.9600 29.5400 218.3000 58.5800 55.8700 57.2000 14.6300 137.2300 160.9900 301.3100 43.9900 36.7500 81.3200 55.8500 98.1300 156.4000 133.4400 71.2200 56.1800 56.9600 53.6500 21.4300 254.4900 79.3200 51.5900 212.8200 37.8200 88.2300 112.9900 28.8700 97.5200 38.7300 19.1900 43.1600 18.2600 51.4300 29.1300 224.8200 173.3100 19.3900 202.3400 12.3200 12.7700 43.3600 225.4600 141.0100 70.7800 37.8900 12.4600 11.4200 61.5500 94.8800 14.0800 67.8900 177.1600 13.1000 105.7500 18.8300 83.0300 52.2000 253.5800 128.2200 24.2400 30.6700 78.4000 86.2300 158.6300 261.6200 11.1500 691.7100 24.0800 104.4400  0.0000 35.1300 187.6500   \n",
       "\n",
       "Ticker         PKX      PLD     PLNT     PLTR       PM      PNC     PNFP      PNR     PNW     PODD     POOL     POST      PPA     PPC      PPG     PPL      PR     PRF      PRI    PRMB      PRU      PSA    PSLV     PSN     PSO    PSTG      PSX      PTC     PUK    PULS      PWR    PYLD    PYPL     QCOM    QGEN      QLD      QQQ     QQQM    QRVO     QSR     QUAL     QXO    QYLD        R     RACE      RBA      RBC     RBLX     RCI      RCL    RDVY     RDY    REET     REG     REGN    RELX    REXR      RF      RGA     RGC     RGEN     RGLD      RHP     RIO    RITM    RIVN      RJF    RKLB     RKT       RL     RLI    RMBS      RMD      RNR     ROAD    ROIV      ROK    ROKU     ROL      ROP     ROST      RPM    RPRX     RRC      RRX       RS      RSG      RSP    RSPT     RTO      RTX    RVMD    RVTY      RWL       RY   RYAAY    RYAN       S     SAIA    SAN      SAP    SATS     SBAC     SBS    SBUX     SCCO    SCHA    SCHB    SCHC    SCHD    SCHE    SCHF    SCHG    SCHH    SCHI    SCHK  \\\n",
       "Date                                                                                                                                                                                                                                                                                                                                                                                                                                                                                                                                                                                                                                                                                                                                                                                                                                                                                                                                                                                                                              \n",
       "2025-06-24 49.1900 108.1300 108.0400 143.2300 184.4900 182.0200 108.5100 101.2300 90.1700 310.9000 300.7400 110.7300 136.4600 46.6200 113.8800 34.2100 14.0100 41.7100 268.5800 29.6300 106.3000 295.6000 12.1500 68.1900 14.5700 54.7100 119.4600 169.9300 24.8500 49.7200 372.2600 26.4100 73.5800 155.7100 47.2300 112.7860 539.7800 222.1500 81.5900 65.5100 179.6100 23.5100 16.6100 156.7100 472.4200 105.6100 388.1900 104.7800 29.1400 280.4700 61.9700 15.5900 25.0700 71.6600 522.2700 53.3100 37.1600 22.8800 197.5300 22.9500 123.3500 178.1400 100.4100 57.1900 11.3200 13.8100 150.8800 33.4600 14.9500 273.7900 73.1500 62.3000 255.9100 244.1900 110.1800 11.5400 325.9500 83.6900 57.5200 571.0200 128.3300 110.2200 36.1400 41.9300 145.1300 308.9000 250.7500 180.1800 39.9900 23.8400 141.8500 40.0300 96.3900 103.0300 128.3200 57.1200 69.1700 17.8000 275.1800 8.2700 297.0800 25.2400 236.6000 20.7900 91.5000  96.9100 25.1370 23.4100 41.5670 26.4800 29.8950 21.7760 28.5120 21.5110 22.6400 29.2840   \n",
       "2025-06-25 49.8500 104.7800 105.4800 142.9000 179.6000 182.5100 106.8700 101.0600 88.7400 306.2300 298.1700 107.4700 136.8000 44.9100 113.2600 33.5000 13.7100 41.5300 263.7200 29.1300 105.5200 289.4400 12.3000 68.5100 14.4700 54.9300 119.6300 168.6000 25.0800 49.7200 374.0700 26.4500 73.0700 155.9300 47.4500 113.3300 541.1600 222.7300 82.7400 64.8600 179.3700 21.8100 16.6400 155.8800 475.1200 104.6600 380.5700 102.8400 29.1000 284.3400 61.6900 15.5000 24.5500 70.0300 520.2900 53.0700 35.8100 22.8900 195.4200 21.7300 124.0200 176.6800  98.8200 56.7100 11.2500 13.7600 151.7300 32.3500 14.3300 274.8700 71.2700 61.9000 257.9100 240.8400 106.1000 11.4000 322.4700 83.6300 56.1400 566.9400 127.2800 109.0000 35.9100 41.0600 143.6300 309.0400 243.8800 178.8800 40.0800 23.4800 141.3800 38.4100 97.7000 102.5000 128.0700 56.2200 67.1100 17.7400 270.0900 8.0300 293.2900 24.6300 232.6800 20.4100 91.1000  97.0800 24.8700 23.3900 41.5100 26.2000 29.9400 21.6600 28.6300 21.0000 22.6300 29.2800   \n",
       "2025-06-26 49.8100 104.3900 107.9000 144.2500 180.6600 185.5100 109.2350 102.6400 88.9700 309.8300 294.2600 108.4000 138.8700 44.5500 113.7800 33.6200 13.9200 41.9200 265.5600 29.0800 106.7400 288.5700 12.4500 71.2500 14.6400 55.6200 120.1700 169.5400 25.4900 49.7400 379.4700 26.5000 73.1700 158.1900 48.0400 115.4700 546.2200 224.8100 82.9900 65.5500 180.3700 21.7200 16.6700 158.8100 477.5400 105.3900 387.6900 105.0000 29.3300 295.8900 62.0900 15.3300 24.6100 70.5400 521.0000 53.3100 36.1700 23.3500 198.7400 20.1900 124.2100 179.9600 100.1100 58.5800 11.4000 13.9100 152.6100 36.1400 14.4900 273.4900 71.7800 62.5200 256.2100 241.6100 108.0900 11.6000 326.2100 86.5000 55.6800 565.3100 126.6200 109.4300 35.2700 40.9100 147.0000 314.6500 244.7200 180.2300 40.4700 24.2200 142.6700 37.4800 98.7900 103.2400 130.1700 57.3100 67.2300 18.0100 270.7400 8.0800 295.5500 25.4600 230.7000 20.8600 91.8400 104.6400 25.2500 23.5900 42.1400 26.3900 30.1800 21.9000 28.8600 20.9700 22.7000 29.5200   \n",
       "\n",
       "Ticker        SCHM    SCHO    SCHP    SCHR    SCHV    SCHW    SCHX    SCHZ     SCI     SCZ    SDVY      SDY       SE    SEIC       SF      SFM     SGI    SGOL     SGOV    SHEL     SHG     SHM     SHOP      SHV      SHW     SHY    SHYG    SIRI     SJM    SJNK     SKM     SKX     SKYY     SLB     SLF     SLM     SLV    SLYG    SLYV    SMCI    SMFG      SMH    SMMT     SMR      SN      SNA   SNAP     SNN     SNOW     SNPS     SNV      SNX     SNY      SO    SOFI    SONY    SOXL     SOXX    SPAB    SPDW    SPEM      SPG     SPGI    SPHQ    SPHY    SPIB    SPLG    SPLV    SPMB    SPMD     SPMO     SPOT    SPSB    SPSM    SPTI    SPTL    SPTM    SPTS     SPXC     SPXL      SPY    SPYD    SPYG    SPYI    SPYV    SRAD     SRE    SRLN     SSB      SSD    SSNC     SSO    STAG      STE    STEP     STIP   STLA     STLD     STM      STN     STRL      STT    STVN    STWD      STX      STZ      SU      SUB      SUI     SUN     SUSA    SUZ     SWK    SWKS     SYF      SYK     SYM     SYY       T  \\\n",
       "Date                                                                                                                                                                                                                                                                                                                                                                                                                                                                                                                                                                                                                                                                                                                                                                                                                                                                                                                                                                                                                                 \n",
       "2025-06-24 27.7990 24.3300 26.5600 24.9300 27.4350 89.3200 24.0480 23.1400 79.6000 70.9500 35.1000 135.1100 158.2900 86.1500 100.6400 166.4700 67.2200 31.7000 100.6300 70.1400 44.4000 47.7600 114.4200 110.3500 345.6900 82.7200 42.9400 22.4100 97.1900 25.3800 23.0400 62.7700 118.8800 33.5000 65.1000 32.1200 32.6100 87.9600 79.3700 42.8400 15.1700 271.5400 20.9200 43.2400 94.4300 308.4600 8.3200 29.8500 223.1400 478.9800 50.3400 136.8800 48.4200 90.8900 15.8500 24.9900 23.9500 235.1000 25.4800 39.8900 42.2000 160.1200 522.9700 70.5300 23.6700 33.4500 71.5900 72.7500 21.9500 53.9500 109.9300 749.9100 30.1300 42.3200 28.6500 26.3400 73.5600 29.2400 162.3100 164.4700 606.7800 42.3700 93.0300 49.8350 51.7700 26.9700 76.0900 41.3900 89.6300 159.3700 81.4300 94.3350 36.7900 239.5900 55.3400 102.6100 9.5900 128.2200 30.1700 106.9200 229.3800 102.9000 24.5900 20.2700 135.5900 164.4900 38.2800 106.2200 128.1000 52.8000 124.7100 9.4100 66.3600 73.4200 64.7400 386.4600 32.2000 75.8700 28.2800   \n",
       "2025-06-25 27.5400 24.3500 26.5600 24.9500 27.2400 89.8000 24.0300 23.1300 79.7600 70.7500 34.8400 133.9700 155.8100 86.8500 102.4000 164.6200 65.7800 31.8000 100.6400 69.4400 44.4000 47.7600 113.8900 110.3600 343.6200 82.7300 42.9300 22.4500 95.7200 25.3800 22.8800 62.8300 118.2600 33.1800 64.9000 32.3200 33.0100 87.0600 78.6700 46.6100 14.9100 275.2000 21.2700 38.6600 93.3700 307.1400 8.0300 29.9000 221.5200 487.2700 50.2300 137.7900 47.8000 90.4000 16.0800 24.9200 24.5800 237.2100 25.4800 39.6400 42.3200 157.4000 521.2900 69.9600 23.6600 33.4400 71.6300 71.7800 22.0100 53.5100 109.9500 736.3000 30.1300 41.9300 28.6700 26.3500 73.5700 29.2500 161.4600 164.7500 607.1200 41.8000 93.3700 49.8700 51.6400 26.8500 75.0200 41.4600 88.8300 156.9900 80.4800 94.4400 35.5500 240.3700 54.8800 102.6700 9.8600 128.4800 29.9400 106.9900 224.6400 104.3500 25.2500 20.2500 138.5400 161.5300 37.9700 106.2300 127.0000 51.4500 124.6700 9.2700 66.2500 74.2700 64.9300 392.2300 34.9100 75.0500 27.9200   \n",
       "2025-06-26 27.8500 24.3600 26.6300 25.0100 27.4400 89.4400 24.2100 23.1900 81.2600 71.8800 35.2200 134.8900 158.5100 89.2600 103.1500 160.4400 66.6500 31.7700 100.6500 70.9900 44.1600 47.7900 113.0700 110.3800 341.8700 82.8300 43.0300 22.5100 96.1400 25.4400 23.1100 62.8300 119.9300 33.8300 65.4300 32.9500 33.3400 88.3400 79.8400 49.2700 15.2300 277.2000 21.3200 38.2400 94.1100 309.5500 8.1400 30.2100 221.9200 495.7000 51.5700 137.0000 48.3700 90.3500 16.7700 25.5400 25.2000 239.0700 25.5500 40.1300 42.6600 160.6000 515.0200 70.2700 23.7300 33.5200 72.1900 71.9900 22.1100 54.2400 111.2500 775.9000 30.1600 42.5400 28.7500 26.4800 74.2000 29.2900 166.5000 168.6800 611.8700 42.1900 94.2400 50.0900 51.9300 27.1400 74.9400 41.4800 91.9000 157.8600 81.2700 95.9200 36.0900 238.5300 56.0400 102.8200 9.9300 131.5000 30.1400 108.3000 228.6500 105.3700 25.0900 20.4100 140.6900 161.3200 37.9700 106.2500 128.1300 53.2200 125.3600 9.3800 67.5900 74.6500 65.8300 390.4000 37.1600 74.5300 28.0000   \n",
       "\n",
       "Ticker         TAK     TAP    TBIL    TCAF    TCOM      TD       TDG      TDY     TEAM    TECH    TECK    TECL    TEF      TEL     TER    TEVA     TFC    TFII    TFLO     TGT      THC      THG    THRO    TIGO    TIMB      TIP      TJX      TKO      TLH     TLK      TLN     TLT       TM     TME     TMF    TMHC      TMO     TMUS      TOL    TOST    TOTL     TPG       TPL     TPR    TQQQ    TREX     TRGP      TRI    TRMB    TRNO    TROW     TRP     TRU      TRV      TS    TSCO     TSLA    TSLL      TSM     TSN       TT     TTC     TTD     TTE    TTEK     TTWO      TU       TW     TWLO      TX      TXN     TXRH     TXT      TYL       U     UAL    UBER     UBS     UDR     UFPI     UGI    UHAL  UHAL-B      UHS       UI      UL     ULTA     UMBF    UMC      UNH     UNM      UNP    UPRO      UPS    UPST     URA    URBN      URI     URTH     USB    USFD    USFR    USHY    USIG    USMV     UTHR   UWMC        V   VALE       VB      VBK      VBR    VCIT    VCLT      VCR    VCSH      VDC  \\\n",
       "Date                                                                                                                                                                                                                                                                                                                                                                                                                                                                                                                                                                                                                                                                                                                                                                                                                                                                                                                                                                                                                            \n",
       "2025-06-24 15.0800 48.2200 49.9800 34.6300 58.8900 71.8000 1472.9500 494.6300 200.6700 50.0000 38.5500 87.2900 5.2600 166.4800 90.3900 17.0900 41.4500 90.3300 50.6200 97.5300 171.5200 168.9100 34.8900 36.6900 19.2100 109.5200 124.6000 176.8900 100.8700 16.0600 294.1700 87.4000 171.5800 18.7600 38.2100 61.5000 404.3700 229.8200 113.3000 44.6700 39.9600 52.1200 1059.9400 87.2600 77.8820 55.8500 167.7300 197.1900 73.7100 58.6600 95.1000 47.1900 89.8100 266.1400 35.7000 53.5100 340.4700 13.6200 220.0900 55.5100 429.0200 70.6600 71.8400 60.4000 35.7300 243.0500 16.0300 141.4600 121.6200 30.1200 205.8100 188.7900 78.7600 588.6300 24.0400 79.0200 91.6500 32.0500 40.9800 100.7200 36.4900 61.3300 54.4500 175.2000 397.6400 62.3400 464.4900 103.7200 7.8900 305.6200 79.4300 227.9100 86.7810 100.6200 64.8500 38.6700 68.4200 740.7700 166.4100 44.5400 76.6900 50.2820 37.3100 51.1800 93.1500 289.9400 4.2700 351.6300 9.2100 236.1600 275.5600 194.4500 82.4500 75.2000 359.9900 79.3100 221.3700   \n",
       "2025-06-25 14.9700 47.2400 49.9700 34.7300 59.3700 72.0000 1457.2400 497.2300 198.3600 51.8900 38.2500 89.5000 5.1600 167.8700 90.2000 17.0000 41.4000 87.1400 50.6200 96.7000 169.0100 165.6600 34.9500 36.4800 18.6300 109.5800 122.4800 174.9400 100.9400 15.9100 288.0000 87.5100 169.1500 18.7300 38.2900 60.0300 410.6500 230.9000 111.3100 41.5000 39.9600 52.0100 1036.2800 85.4200 78.4800 55.3100 170.4900 195.7300 74.1200 56.0300 94.9500 46.9800 88.5100 260.8100 35.5100 52.8000 327.5500 12.5800 222.7400 54.6400 427.5300 70.4100 69.8000 61.0400 35.9900 241.6400 15.9300 144.0500 119.8200 29.8100 205.3800 184.0100 79.2800 581.2400 24.1500 76.7300 90.9000 32.2500 40.1100  99.2400 35.7100 60.7900 54.1600 175.6900 395.2300 61.2900 459.0900 102.5900 7.6600 302.0200 78.0300 226.8100 86.9500  99.3700 62.4400 37.8400 68.9300 736.1800 166.1200 44.8200 76.1900 50.2900 37.3100 51.1500 92.3500 285.9700 4.1400 345.2600 9.0600 233.7800 272.1100 192.7300 82.4100 75.0900 355.8300 79.2700 218.5700   \n",
       "2025-06-26 15.0600 47.2400 49.9750 34.9700 58.7000 72.8600 1471.8600 506.6700 198.5000 52.8000 41.4800 91.4100 5.1900 169.0500 91.0500 16.5600 42.5400 88.6500 50.6100 97.6000 172.5600 168.8900 35.2000 36.0200 19.5600 109.9000 122.1400 176.1600 101.3100 16.5200 291.3800 87.9500 170.6300 18.7000 38.8300 60.6100 412.1200 231.4200 113.8300 42.4900 40.0300 52.8200 1075.4500 86.2200 80.6300 53.5600 175.8400 197.2000 75.0300 56.5000 96.1800 47.9600 88.8600 262.9500 36.4900 51.8400 325.7800 12.4400 224.0100 55.0200 429.1900 70.9600 68.0200 61.5600 36.0500 239.3300 15.9400 142.6300 121.4300 30.9000 206.3100 185.0300 80.2600 577.2000 23.4000 77.5500 93.1200 33.0700 40.8200  99.8800 36.0500 61.0800 54.5500 177.4300 395.9000 60.6800 457.6600 106.1400 7.5700 302.6200 79.7000 229.3900 88.9200 100.6000 63.3500 38.7100 70.6600 742.0700 167.7000 45.6200 76.7100 50.2900 37.4000 51.3000 92.7000 284.0900 4.1900 346.0300 9.4700 236.9500 275.7800 195.2900 82.6700 75.4100 359.0000 79.4200 216.9400   \n",
       "\n",
       "Ticker          VDE     VEA     VEEV    VERX     VEU      VFH    VFLO    VFS    VGIT     VGK    VGLT    VGSH      VGT      VHT    VICI      VIG    VIGI    VIPS    VIRT      VIS     VIV      VLO     VLTO     VLUE    VMBS      VMC      VMI     VNO    VNOM     VNQ    VNQI       VO     VOD      VOE     VONE     VONG    VONV      VOO     VOOG     VOOV      VOT      VOX    VOYA     VPL      VPU    VRNA     VRSK     VRSN      VRT     VRTX    VSGX      VSS      VST       VT    VTEB     VTHR      VTI    VTIP     VTR   VTRS      VTV    VTWO      VUG    VUSB       VV     VWO    VWOB      VXF    VXUS      VYM    VYMI      VZ       W      WAB     WAL      WAT     WBA     WBD     WBS      WCC      WCN     WDAY     WDC     WDS      WEC     WELL     WES      WF     WFC     WFG      WH     WING    WIT      WIX     WLK       WM     WMB     WMG      WMS     WMT     WPC     WPM     WPP     WRB      WSM      WSO      WST     WTFC    WTRG      WTS      WTW      WWD      WY    WYNN      XAR     XBI  \\\n",
       "Date                                                                                                                                                                                                                                                                                                                                                                                                                                                                                                                                                                                                                                                                                                                                                                                                                                                                                                                                                                                                                             \n",
       "2025-06-24 120.3100 56.1500 281.6300 35.3600 66.3300 125.4700 35.1500 3.4650 59.5600 76.4300 55.6500 58.6800 646.5800 247.7900 32.8100 203.0300 88.8200 15.0300 42.9400 276.3700 11.0500 135.8500 100.3100 112.0600 46.1000 264.4800 325.1000 38.4600 38.5900 91.4200 45.6600 277.7900 10.4400 164.4700 276.0100 106.5200 84.5100 559.4400 388.5000 187.3900 279.1900 166.0400 69.0100 80.6700 177.6900 97.2200 309.9300 285.0300 122.3200 450.2700 64.7400 131.4000 186.1700 126.4900 48.9100 268.0900 299.7100 50.1600 63.3500 8.9500 175.9200 86.6500 428.3600 49.7900 280.8900 48.9900 64.9300 191.1800 68.1400 131.6200 79.3300 42.6300 50.6900 205.8700 75.9100 346.8000 11.3500 10.9000 53.6800 184.9900 188.1600 239.1900 62.0700 15.5800 105.3600 154.2500 38.1600 48.5900 78.1100 74.7600 79.6600 364.1100 3.0700 161.2100 75.7800 234.1400 61.1200 27.0200 118.0300 98.0000 64.3900 88.5700 35.4700 73.2700 157.8800 431.2100 222.6800 122.8900 37.8600 246.1400 302.3800 242.6800 26.6500 90.9700 200.8900 83.8200   \n",
       "2025-06-25 119.6400 55.8700 279.5000 33.4500 66.1200 125.1200 34.8700 3.5100 59.6000 75.9600 55.6800 58.7000 652.0200 247.7100 32.2600 202.3300 88.1950 14.8100 43.0900 273.7900 10.7500 135.7200 100.1700 111.4100 46.1400 254.6400 325.0100 35.8900 38.0700 89.2200 45.5800 275.7900 10.3700 162.9200 275.8700 106.9200 84.0500 559.7200 388.9000 186.8000 277.7800 165.8700 68.4700 80.4600 175.2900 95.1100 304.1700 282.4400 121.6400 445.8200 64.5500 131.4000 186.3200 126.2700 48.9000 267.7000 299.3600 50.1800 63.5100 8.8900 174.9700 85.6900 430.2700 49.7900 281.4100 49.1100 64.9000 189.2900 67.9600 130.9900 78.9400 42.1200 50.1100 203.7700 75.5000 350.0100 11.3100 10.8700 53.0800 182.1300 185.6800 233.4600 62.5500 15.5000 102.8700 153.4300 37.7000 49.1600 79.0700 73.8200 79.5000 356.0900 3.0800 159.7700 74.9100 228.5800 60.6900 26.1900 116.0800 97.2600 62.6500 89.3000 34.4100 71.8000 158.9000 423.6000 221.0200 121.3400 37.0900 244.0300 298.7800 243.4200 26.0700 91.9100 201.6100 83.2700   \n",
       "2025-06-26 120.3800 56.4800 281.1900 33.9900 66.7600 125.8000 35.1900 3.5200 59.7500 76.6100 55.9200 58.7500 656.9300 247.3000 32.1900 203.5500 89.3000 14.8100 43.7500 276.3200 11.0000 136.9700 101.1200 112.4200 46.3700 256.9600 333.3800 37.1400 38.5500 88.2700 46.0100 277.7800 10.6600 164.0500 278.4300 107.9500 84.6000 564.1500 392.4200 187.1100 279.9400 167.7900 70.2500 81.5800 175.4500 94.4000 305.1300 283.2100 123.8000 443.4000 65.0100 133.1100 190.4000 127.4500 48.9600 270.1300 301.9400 50.2600 63.3300 9.1200 176.1800 87.0500 433.6900 49.8350 283.3500 49.4400 65.1100 191.3700 68.6300 132.1800 79.7200 42.1000 50.6600 206.2900 77.6800 354.9100 11.3800 11.1500 54.6800 186.1000 187.4900 237.2100 63.5100 15.6500 103.3200 153.4800 38.3800 49.3800 79.9600 74.2100 80.7300 343.4200 3.0900 159.2600 76.1000 226.7200 62.8700 26.6000 115.8200 96.0200 62.9800 90.2500 34.7500 72.3400 161.9300 434.4300 219.0000 124.2100 36.9700 247.2200 301.8100 247.5500 26.3200 92.6400 206.9700 83.6800   \n",
       "\n",
       "Ticker         XEL     XLB      XLC     XLE     XLF     XLG      XLI      XLK     XLP    XLRE     XLU      XLV      XLY    XMHQ     XMMO      XOM      XP    XPEV      XPO      XT      XYL     XYZ     YMM     YPF      YUM    YUMC       Z     ZBH     ZBRA      ZG    ZION      ZM       ZS     ZTO      ZTS     ZWS  \n",
       "Date                                                                                                                                                                                                                                                                                                                     \n",
       "2025-06-24 68.2300 87.6600 105.2300 84.9100 51.5800 50.9700 145.0600 247.2400 81.3300 42.2600 81.5900 133.7800 215.5900 97.5500 126.7400 108.3400 19.4100 19.8500 125.9300 64.4200 127.1500 65.3400 12.5400 34.3500 142.7000 44.4000 70.2200 92.3400 298.9400 68.6700 50.0900 76.4500 308.4600 17.6100 157.7700 36.3200  \n",
       "2025-06-25 67.3200 86.8200 105.2100 84.5400 51.4100 51.2000 143.7800 249.3500 80.2400 41.2300 80.5000 133.9000 213.0500 96.5900 125.8800 108.3700 19.2700 19.2000 124.0300 64.4900 127.4900 64.8100 12.0700 33.0600 147.1800 44.4700 68.4500 92.7900 303.0500 67.0100 50.1300 76.6200 311.9800 17.8400 157.2300 36.1400  \n",
       "2025-06-26 67.7500 87.7800 106.4300 85.7500 51.7900 51.6000 145.3400 251.0700 80.1700 40.9700 81.1700 134.2200 215.0100 97.5900 127.6000 109.9900 19.3550 17.9500 124.1700 64.9300 129.5000 65.1100 11.7400 33.3800 147.0500 44.6100 69.2200 91.7400 308.3200 67.6800 51.4000 76.9600 313.8500 17.6500 155.7900 36.6300  "
      ]
     },
     "metadata": {},
     "output_type": "display_data"
    }
   ],
   "source": [
    "print(f\"--- Step 1: Loading historical price data ---\")\n",
    "df_adj_close = utils.load_price_data(HISTORICAL_PRICES_PATH)\n",
    "\n",
    "if df_adj_close is not None:\n",
    "    print(\"Price data loaded successfully.\")\n",
    "    display(df_adj_close.head(3))\n",
    "    display(df_adj_close.tail(3))\n",
    "else:\n",
    "    print(\"ERROR: Halting execution as price data failed to load.\")"
   ]
  },
  {
   "cell_type": "markdown",
   "metadata": {},
   "source": [
    "### Step 2: Discover Selection Files to Backtest"
   ]
  },
  {
   "cell_type": "code",
   "execution_count": 3,
   "metadata": {
    "execution": {
     "iopub.execute_input": "2025-06-30T02:01:49.494666Z",
     "iopub.status.busy": "2025-06-30T02:01:49.493661Z",
     "iopub.status.idle": "2025-06-30T02:01:49.936746Z",
     "shell.execute_reply": "2025-06-30T02:01:49.934749Z"
    }
   },
   "outputs": [
    {
     "name": "stdout",
     "output_type": "stream",
     "text": [
      "\n",
      "--- Step 2: Discovering selection files in C:\\Users\\ping\\Files_win10\\python\\py311\\stocks_copy\\output\\selection_results ---\n",
      "2025-06-29 19:01:49,844 - INFO - Searching for selection files in: C:\\Users\\ping\\Files_win10\\python\\py311\\stocks_copy\\output\\selection_results\n"
     ]
    },
    {
     "name": "stdout",
     "output_type": "stream",
     "text": [
      "2025-06-29 19:01:49,926 - INFO - Found 43 paired data and parameter files.\n"
     ]
    },
    {
     "name": "stdout",
     "output_type": "stream",
     "text": [
      "Found 43 pairs to backtest.\n",
      "  Pair 1: 2025-04-25_short_term_mean_reversion.parquet | 2025-04-25_short_term_mean_reversion_params.json\n",
      "  Pair 2: 2025-04-28_short_term_mean_reversion.parquet | 2025-04-28_short_term_mean_reversion_params.json\n",
      "  Pair 3: 2025-04-29_short_term_mean_reversion.parquet | 2025-04-29_short_term_mean_reversion_params.json\n"
     ]
    }
   ],
   "source": [
    "if df_adj_close is not None:\n",
    "    print(f\"\\n--- Step 2: Discovering selection files in {SELECTION_RESULTS_DIR} ---\")\n",
    "    file_pairs = utils.find_and_pair_selection_files(SELECTION_RESULTS_DIR)\n",
    "    \n",
    "    if not file_pairs:\n",
    "        print(\"No file pairs found to process. Halting.\")\n",
    "    else:\n",
    "        print(f\"Found {len(file_pairs)} pairs to backtest.\")\n",
    "        # Print the first few for inspection\n",
    "        for i, (d, p) in enumerate(file_pairs[:3]):\n",
    "            print(f\"  Pair {i+1}: {d.name} | {p.name}\")\n",
    "else:\n",
    "    print(\"Skipping file discovery.\")\n",
    "    file_pairs = []"
   ]
  },
  {
   "cell_type": "code",
   "execution_count": 4,
   "metadata": {
    "execution": {
     "iopub.execute_input": "2025-06-30T02:01:49.945733Z",
     "iopub.status.busy": "2025-06-30T02:01:49.944733Z",
     "iopub.status.idle": "2025-06-30T02:01:50.296592Z",
     "shell.execute_reply": "2025-06-30T02:01:50.294560Z"
    }
   },
   "outputs": [
    {
     "data": {
      "text/plain": [
       "[(WindowsPath('C:/Users/ping/Files_win10/python/py311/stocks_copy/output/selection_results/2025-06-20_short_term_mean_reversion.parquet'),\n",
       "  WindowsPath('C:/Users/ping/Files_win10/python/py311/stocks_copy/output/selection_results/2025-06-20_short_term_mean_reversion_params.json')),\n",
       " (WindowsPath('C:/Users/ping/Files_win10/python/py311/stocks_copy/output/selection_results/2025-06-23_short_term_mean_reversion.parquet'),\n",
       "  WindowsPath('C:/Users/ping/Files_win10/python/py311/stocks_copy/output/selection_results/2025-06-23_short_term_mean_reversion_params.json')),\n",
       " (WindowsPath('C:/Users/ping/Files_win10/python/py311/stocks_copy/output/selection_results/2025-06-24_short_term_mean_reversion.parquet'),\n",
       "  WindowsPath('C:/Users/ping/Files_win10/python/py311/stocks_copy/output/selection_results/2025-06-24_short_term_mean_reversion_params.json')),\n",
       " (WindowsPath('C:/Users/ping/Files_win10/python/py311/stocks_copy/output/selection_results/2025-06-25_short_term_mean_reversion.parquet'),\n",
       "  WindowsPath('C:/Users/ping/Files_win10/python/py311/stocks_copy/output/selection_results/2025-06-25_short_term_mean_reversion_params.json')),\n",
       " (WindowsPath('C:/Users/ping/Files_win10/python/py311/stocks_copy/output/selection_results/2025-06-26_short_term_mean_reversion.parquet'),\n",
       "  WindowsPath('C:/Users/ping/Files_win10/python/py311/stocks_copy/output/selection_results/2025-06-26_short_term_mean_reversion_params.json'))]"
      ]
     },
     "execution_count": 4,
     "metadata": {},
     "output_type": "execute_result"
    }
   ],
   "source": [
    "file_pairs[-5::]"
   ]
  },
  {
   "cell_type": "markdown",
   "metadata": {},
   "source": [
    "### Step 3: Execute Backtests"
   ]
  },
  {
   "cell_type": "code",
   "execution_count": 5,
   "metadata": {
    "execution": {
     "iopub.execute_input": "2025-06-30T02:01:50.303593Z",
     "iopub.status.busy": "2025-06-30T02:01:50.302592Z",
     "iopub.status.idle": "2025-06-30T02:01:55.221855Z",
     "shell.execute_reply": "2025-06-30T02:01:55.220857Z"
    }
   },
   "outputs": [
    {
     "name": "stdout",
     "output_type": "stream",
     "text": [
      "\n",
      "--- Step 3: Executing backtests for 43 selection dates ---\n"
     ]
    },
    {
     "data": {
      "application/vnd.jupyter.widget-view+json": {
       "model_id": "39eb83da436846debbc0298370560524",
       "version_major": 2,
       "version_minor": 0
      },
      "text/plain": [
       "Backtesting Selections:   0%|          | 0/43 [00:00<?, ?it/s]"
      ]
     },
     "metadata": {},
     "output_type": "display_data"
    },
    {
     "name": "stdout",
     "output_type": "stream",
     "text": [
      "2025-06-29 19:01:50,698 - INFO - ------------------------------\n"
     ]
    },
    {
     "name": "stdout",
     "output_type": "stream",
     "text": [
      "2025-06-29 19:01:50,700 - INFO - Initiating Backtest Run...\n"
     ]
    },
    {
     "name": "stdout",
     "output_type": "stream",
     "text": [
      "2025-06-29 19:01:50,702 - INFO -   Date          : 2025-04-25\n"
     ]
    },
    {
     "name": "stdout",
     "output_type": "stream",
     "text": [
      "2025-06-29 19:01:50,705 - INFO -   Scheme        : EW\n"
     ]
    },
    {
     "name": "stdout",
     "output_type": "stream",
     "text": [
      "2025-06-29 19:01:50,711 - INFO -   Num Tickers   : 10\n"
     ]
    },
    {
     "name": "stdout",
     "output_type": "stream",
     "text": [
      "2025-06-29 19:01:50,713 - INFO -   Selection Date Used: 2025-04-25\n"
     ]
    },
    {
     "name": "stdout",
     "output_type": "stream",
     "text": [
      "2025-06-29 19:01:50,716 - INFO -   Buy Date           : 2025-04-28\n"
     ]
    },
    {
     "name": "stdout",
     "output_type": "stream",
     "text": [
      "2025-06-29 19:01:50,718 - INFO -   Sell Date          : 2025-04-29\n"
     ]
    },
    {
     "name": "stdout",
     "output_type": "stream",
     "text": [
      "2025-06-29 19:01:50,730 - INFO -   Trades Executed: 10/10\n"
     ]
    },
    {
     "name": "stdout",
     "output_type": "stream",
     "text": [
      "2025-06-29 19:01:50,732 - INFO -   Portfolio Return : 0.0085\n"
     ]
    },
    {
     "name": "stdout",
     "output_type": "stream",
     "text": [
      "2025-06-29 19:01:50,735 - INFO -   Win Rate         : 70.00%\n"
     ]
    },
    {
     "name": "stdout",
     "output_type": "stream",
     "text": [
      "2025-06-29 19:01:50,737 - INFO - Backtest simulation for 'EW' on 2025-04-25 completed.\n"
     ]
    },
    {
     "name": "stdout",
     "output_type": "stream",
     "text": [
      "2025-06-29 19:01:50,742 - INFO - ------------------------------\n"
     ]
    },
    {
     "name": "stdout",
     "output_type": "stream",
     "text": [
      "2025-06-29 19:01:50,744 - INFO - Initiating Backtest Run...\n"
     ]
    },
    {
     "name": "stdout",
     "output_type": "stream",
     "text": [
      "2025-06-29 19:01:50,747 - INFO -   Date          : 2025-04-25\n"
     ]
    },
    {
     "name": "stdout",
     "output_type": "stream",
     "text": [
      "2025-06-29 19:01:50,748 - INFO -   Scheme        : IV\n"
     ]
    },
    {
     "name": "stdout",
     "output_type": "stream",
     "text": [
      "2025-06-29 19:01:50,750 - INFO -   Num Tickers   : 10\n"
     ]
    },
    {
     "name": "stdout",
     "output_type": "stream",
     "text": [
      "2025-06-29 19:01:50,751 - INFO -   Selection Date Used: 2025-04-25\n"
     ]
    },
    {
     "name": "stdout",
     "output_type": "stream",
     "text": [
      "2025-06-29 19:01:50,753 - INFO -   Buy Date           : 2025-04-28\n"
     ]
    },
    {
     "name": "stdout",
     "output_type": "stream",
     "text": [
      "2025-06-29 19:01:50,759 - INFO -   Sell Date          : 2025-04-29\n"
     ]
    },
    {
     "name": "stdout",
     "output_type": "stream",
     "text": [
      "2025-06-29 19:01:50,767 - INFO -   Trades Executed: 10/10\n"
     ]
    },
    {
     "name": "stdout",
     "output_type": "stream",
     "text": [
      "2025-06-29 19:01:50,769 - INFO -   Portfolio Return : 0.0075\n"
     ]
    },
    {
     "name": "stdout",
     "output_type": "stream",
     "text": [
      "2025-06-29 19:01:50,772 - INFO -   Win Rate         : 70.00%\n"
     ]
    },
    {
     "name": "stdout",
     "output_type": "stream",
     "text": [
      "2025-06-29 19:01:50,777 - INFO - Backtest simulation for 'IV' on 2025-04-25 completed.\n"
     ]
    },
    {
     "name": "stdout",
     "output_type": "stream",
     "text": [
      "2025-06-29 19:01:50,779 - INFO - ------------------------------\n"
     ]
    },
    {
     "name": "stdout",
     "output_type": "stream",
     "text": [
      "2025-06-29 19:01:50,781 - INFO - Initiating Backtest Run...\n"
     ]
    },
    {
     "name": "stdout",
     "output_type": "stream",
     "text": [
      "2025-06-29 19:01:50,782 - INFO -   Date          : 2025-04-25\n"
     ]
    },
    {
     "name": "stdout",
     "output_type": "stream",
     "text": [
      "2025-06-29 19:01:50,785 - INFO -   Scheme        : SW\n"
     ]
    },
    {
     "name": "stdout",
     "output_type": "stream",
     "text": [
      "2025-06-29 19:01:50,787 - INFO -   Num Tickers   : 10\n"
     ]
    },
    {
     "name": "stdout",
     "output_type": "stream",
     "text": [
      "2025-06-29 19:01:50,789 - INFO -   Selection Date Used: 2025-04-25\n"
     ]
    },
    {
     "name": "stdout",
     "output_type": "stream",
     "text": [
      "2025-06-29 19:01:50,794 - INFO -   Buy Date           : 2025-04-28\n"
     ]
    },
    {
     "name": "stdout",
     "output_type": "stream",
     "text": [
      "2025-06-29 19:01:50,797 - INFO -   Sell Date          : 2025-04-29\n"
     ]
    },
    {
     "name": "stdout",
     "output_type": "stream",
     "text": [
      "2025-06-29 19:01:50,807 - INFO -   Trades Executed: 10/10\n"
     ]
    },
    {
     "name": "stdout",
     "output_type": "stream",
     "text": [
      "2025-06-29 19:01:50,810 - INFO -   Portfolio Return : 0.0096\n"
     ]
    },
    {
     "name": "stdout",
     "output_type": "stream",
     "text": [
      "2025-06-29 19:01:50,812 - INFO -   Win Rate         : 70.00%\n"
     ]
    },
    {
     "name": "stdout",
     "output_type": "stream",
     "text": [
      "2025-06-29 19:01:50,814 - INFO - Backtest simulation for 'SW' on 2025-04-25 completed.\n"
     ]
    },
    {
     "name": "stdout",
     "output_type": "stream",
     "text": [
      "2025-06-29 19:01:50,832 - INFO - ------------------------------\n"
     ]
    },
    {
     "name": "stdout",
     "output_type": "stream",
     "text": [
      "2025-06-29 19:01:50,834 - INFO - Initiating Backtest Run...\n"
     ]
    },
    {
     "name": "stdout",
     "output_type": "stream",
     "text": [
      "2025-06-29 19:01:50,835 - INFO -   Date          : 2025-04-28\n"
     ]
    },
    {
     "name": "stdout",
     "output_type": "stream",
     "text": [
      "2025-06-29 19:01:50,839 - INFO -   Scheme        : EW\n"
     ]
    },
    {
     "name": "stdout",
     "output_type": "stream",
     "text": [
      "2025-06-29 19:01:50,844 - INFO -   Num Tickers   : 10\n"
     ]
    },
    {
     "name": "stdout",
     "output_type": "stream",
     "text": [
      "2025-06-29 19:01:50,846 - INFO -   Selection Date Used: 2025-04-28\n"
     ]
    },
    {
     "name": "stdout",
     "output_type": "stream",
     "text": [
      "2025-06-29 19:01:50,847 - INFO -   Buy Date           : 2025-04-29\n"
     ]
    },
    {
     "name": "stdout",
     "output_type": "stream",
     "text": [
      "2025-06-29 19:01:50,851 - INFO -   Sell Date          : 2025-04-30\n"
     ]
    },
    {
     "name": "stdout",
     "output_type": "stream",
     "text": [
      "2025-06-29 19:01:50,862 - INFO -   Trades Executed: 10/10\n"
     ]
    },
    {
     "name": "stdout",
     "output_type": "stream",
     "text": [
      "2025-06-29 19:01:50,864 - INFO -   Portfolio Return : 0.0114\n"
     ]
    },
    {
     "name": "stdout",
     "output_type": "stream",
     "text": [
      "2025-06-29 19:01:50,867 - INFO -   Win Rate         : 80.00%\n"
     ]
    },
    {
     "name": "stdout",
     "output_type": "stream",
     "text": [
      "2025-06-29 19:01:50,869 - INFO - Backtest simulation for 'EW' on 2025-04-28 completed.\n"
     ]
    },
    {
     "name": "stdout",
     "output_type": "stream",
     "text": [
      "2025-06-29 19:01:50,873 - INFO - ------------------------------\n"
     ]
    },
    {
     "name": "stdout",
     "output_type": "stream",
     "text": [
      "2025-06-29 19:01:50,877 - INFO - Initiating Backtest Run...\n"
     ]
    },
    {
     "name": "stdout",
     "output_type": "stream",
     "text": [
      "2025-06-29 19:01:50,880 - INFO -   Date          : 2025-04-28\n"
     ]
    },
    {
     "name": "stdout",
     "output_type": "stream",
     "text": [
      "2025-06-29 19:01:50,882 - INFO -   Scheme        : IV\n"
     ]
    },
    {
     "name": "stdout",
     "output_type": "stream",
     "text": [
      "2025-06-29 19:01:50,883 - INFO -   Num Tickers   : 10\n"
     ]
    },
    {
     "name": "stdout",
     "output_type": "stream",
     "text": [
      "2025-06-29 19:01:50,885 - INFO -   Selection Date Used: 2025-04-28\n"
     ]
    },
    {
     "name": "stdout",
     "output_type": "stream",
     "text": [
      "2025-06-29 19:01:50,887 - INFO -   Buy Date           : 2025-04-29\n"
     ]
    },
    {
     "name": "stdout",
     "output_type": "stream",
     "text": [
      "2025-06-29 19:01:50,889 - INFO -   Sell Date          : 2025-04-30\n"
     ]
    },
    {
     "name": "stdout",
     "output_type": "stream",
     "text": [
      "2025-06-29 19:01:50,900 - INFO -   Trades Executed: 10/10\n"
     ]
    },
    {
     "name": "stdout",
     "output_type": "stream",
     "text": [
      "2025-06-29 19:01:50,902 - INFO -   Portfolio Return : 0.0105\n"
     ]
    },
    {
     "name": "stdout",
     "output_type": "stream",
     "text": [
      "2025-06-29 19:01:50,905 - INFO -   Win Rate         : 80.00%\n"
     ]
    },
    {
     "name": "stdout",
     "output_type": "stream",
     "text": [
      "2025-06-29 19:01:50,910 - INFO - Backtest simulation for 'IV' on 2025-04-28 completed.\n"
     ]
    },
    {
     "name": "stdout",
     "output_type": "stream",
     "text": [
      "2025-06-29 19:01:50,912 - INFO - ------------------------------\n"
     ]
    },
    {
     "name": "stdout",
     "output_type": "stream",
     "text": [
      "2025-06-29 19:01:50,914 - INFO - Initiating Backtest Run...\n"
     ]
    },
    {
     "name": "stdout",
     "output_type": "stream",
     "text": [
      "2025-06-29 19:01:50,916 - INFO -   Date          : 2025-04-28\n"
     ]
    },
    {
     "name": "stdout",
     "output_type": "stream",
     "text": [
      "2025-06-29 19:01:50,918 - INFO -   Scheme        : SW\n"
     ]
    },
    {
     "name": "stdout",
     "output_type": "stream",
     "text": [
      "2025-06-29 19:01:50,919 - INFO -   Num Tickers   : 10\n"
     ]
    },
    {
     "name": "stdout",
     "output_type": "stream",
     "text": [
      "2025-06-29 19:01:50,926 - INFO -   Selection Date Used: 2025-04-28\n"
     ]
    },
    {
     "name": "stdout",
     "output_type": "stream",
     "text": [
      "2025-06-29 19:01:50,928 - INFO -   Buy Date           : 2025-04-29\n"
     ]
    },
    {
     "name": "stdout",
     "output_type": "stream",
     "text": [
      "2025-06-29 19:01:50,930 - INFO -   Sell Date          : 2025-04-30\n"
     ]
    },
    {
     "name": "stdout",
     "output_type": "stream",
     "text": [
      "2025-06-29 19:01:50,936 - INFO -   Trades Executed: 10/10\n"
     ]
    },
    {
     "name": "stdout",
     "output_type": "stream",
     "text": [
      "2025-06-29 19:01:50,941 - INFO -   Portfolio Return : 0.0128\n"
     ]
    },
    {
     "name": "stdout",
     "output_type": "stream",
     "text": [
      "2025-06-29 19:01:50,943 - INFO -   Win Rate         : 80.00%\n"
     ]
    },
    {
     "name": "stdout",
     "output_type": "stream",
     "text": [
      "2025-06-29 19:01:50,944 - INFO - Backtest simulation for 'SW' on 2025-04-28 completed.\n"
     ]
    },
    {
     "name": "stdout",
     "output_type": "stream",
     "text": [
      "2025-06-29 19:01:50,963 - INFO - ------------------------------\n"
     ]
    },
    {
     "name": "stdout",
     "output_type": "stream",
     "text": [
      "2025-06-29 19:01:50,965 - INFO - Initiating Backtest Run...\n"
     ]
    },
    {
     "name": "stdout",
     "output_type": "stream",
     "text": [
      "2025-06-29 19:01:50,968 - INFO -   Date          : 2025-04-29\n"
     ]
    },
    {
     "name": "stdout",
     "output_type": "stream",
     "text": [
      "2025-06-29 19:01:50,969 - INFO -   Scheme        : EW\n"
     ]
    },
    {
     "name": "stdout",
     "output_type": "stream",
     "text": [
      "2025-06-29 19:01:50,972 - INFO -   Num Tickers   : 10\n"
     ]
    },
    {
     "name": "stdout",
     "output_type": "stream",
     "text": [
      "2025-06-29 19:01:50,977 - INFO -   Selection Date Used: 2025-04-29\n"
     ]
    },
    {
     "name": "stdout",
     "output_type": "stream",
     "text": [
      "2025-06-29 19:01:50,978 - INFO -   Buy Date           : 2025-04-30\n"
     ]
    },
    {
     "name": "stdout",
     "output_type": "stream",
     "text": [
      "2025-06-29 19:01:50,981 - INFO -   Sell Date          : 2025-05-01\n"
     ]
    },
    {
     "name": "stdout",
     "output_type": "stream",
     "text": [
      "2025-06-29 19:01:50,988 - INFO -   Trades Executed: 10/10\n"
     ]
    },
    {
     "name": "stdout",
     "output_type": "stream",
     "text": [
      "2025-06-29 19:01:50,993 - INFO -   Portfolio Return : -0.0023\n"
     ]
    },
    {
     "name": "stdout",
     "output_type": "stream",
     "text": [
      "2025-06-29 19:01:50,994 - INFO -   Win Rate         : 40.00%\n"
     ]
    },
    {
     "name": "stdout",
     "output_type": "stream",
     "text": [
      "2025-06-29 19:01:50,996 - INFO - Backtest simulation for 'EW' on 2025-04-29 completed.\n"
     ]
    },
    {
     "name": "stdout",
     "output_type": "stream",
     "text": [
      "2025-06-29 19:01:50,999 - INFO - ------------------------------\n"
     ]
    },
    {
     "name": "stdout",
     "output_type": "stream",
     "text": [
      "2025-06-29 19:01:51,001 - INFO - Initiating Backtest Run...\n"
     ]
    },
    {
     "name": "stdout",
     "output_type": "stream",
     "text": [
      "2025-06-29 19:01:51,002 - INFO -   Date          : 2025-04-29\n"
     ]
    },
    {
     "name": "stdout",
     "output_type": "stream",
     "text": [
      "2025-06-29 19:01:51,003 - INFO -   Scheme        : IV\n"
     ]
    },
    {
     "name": "stdout",
     "output_type": "stream",
     "text": [
      "2025-06-29 19:01:51,009 - INFO -   Num Tickers   : 10\n"
     ]
    },
    {
     "name": "stdout",
     "output_type": "stream",
     "text": [
      "2025-06-29 19:01:51,012 - INFO -   Selection Date Used: 2025-04-29\n"
     ]
    },
    {
     "name": "stdout",
     "output_type": "stream",
     "text": [
      "2025-06-29 19:01:51,014 - INFO -   Buy Date           : 2025-04-30\n"
     ]
    },
    {
     "name": "stdout",
     "output_type": "stream",
     "text": [
      "2025-06-29 19:01:51,017 - INFO -   Sell Date          : 2025-05-01\n"
     ]
    },
    {
     "name": "stdout",
     "output_type": "stream",
     "text": [
      "2025-06-29 19:01:51,027 - INFO -   Trades Executed: 10/10\n"
     ]
    },
    {
     "name": "stdout",
     "output_type": "stream",
     "text": [
      "2025-06-29 19:01:51,029 - INFO -   Portfolio Return : -0.0012\n"
     ]
    },
    {
     "name": "stdout",
     "output_type": "stream",
     "text": [
      "2025-06-29 19:01:51,031 - INFO -   Win Rate         : 40.00%\n"
     ]
    },
    {
     "name": "stdout",
     "output_type": "stream",
     "text": [
      "2025-06-29 19:01:51,033 - INFO - Backtest simulation for 'IV' on 2025-04-29 completed.\n"
     ]
    },
    {
     "name": "stdout",
     "output_type": "stream",
     "text": [
      "2025-06-29 19:01:51,036 - INFO - ------------------------------\n"
     ]
    },
    {
     "name": "stdout",
     "output_type": "stream",
     "text": [
      "2025-06-29 19:01:51,042 - INFO - Initiating Backtest Run...\n"
     ]
    },
    {
     "name": "stdout",
     "output_type": "stream",
     "text": [
      "2025-06-29 19:01:51,044 - INFO -   Date          : 2025-04-29\n"
     ]
    },
    {
     "name": "stdout",
     "output_type": "stream",
     "text": [
      "2025-06-29 19:01:51,046 - INFO -   Scheme        : SW\n"
     ]
    },
    {
     "name": "stdout",
     "output_type": "stream",
     "text": [
      "2025-06-29 19:01:51,048 - INFO -   Num Tickers   : 10\n"
     ]
    },
    {
     "name": "stdout",
     "output_type": "stream",
     "text": [
      "2025-06-29 19:01:51,051 - INFO -   Selection Date Used: 2025-04-29\n"
     ]
    },
    {
     "name": "stdout",
     "output_type": "stream",
     "text": [
      "2025-06-29 19:01:51,052 - INFO -   Buy Date           : 2025-04-30\n"
     ]
    },
    {
     "name": "stdout",
     "output_type": "stream",
     "text": [
      "2025-06-29 19:01:51,054 - INFO -   Sell Date          : 2025-05-01\n"
     ]
    },
    {
     "name": "stdout",
     "output_type": "stream",
     "text": [
      "2025-06-29 19:01:51,067 - INFO -   Trades Executed: 10/10\n"
     ]
    },
    {
     "name": "stdout",
     "output_type": "stream",
     "text": [
      "2025-06-29 19:01:51,069 - INFO -   Portfolio Return : -0.0064\n"
     ]
    },
    {
     "name": "stdout",
     "output_type": "stream",
     "text": [
      "2025-06-29 19:01:51,071 - INFO -   Win Rate         : 40.00%\n"
     ]
    },
    {
     "name": "stdout",
     "output_type": "stream",
     "text": [
      "2025-06-29 19:01:51,072 - INFO - Backtest simulation for 'SW' on 2025-04-29 completed.\n"
     ]
    },
    {
     "name": "stdout",
     "output_type": "stream",
     "text": [
      "2025-06-29 19:01:51,093 - INFO - ------------------------------\n"
     ]
    },
    {
     "name": "stdout",
     "output_type": "stream",
     "text": [
      "2025-06-29 19:01:51,095 - INFO - Initiating Backtest Run...\n"
     ]
    },
    {
     "name": "stdout",
     "output_type": "stream",
     "text": [
      "2025-06-29 19:01:51,096 - INFO -   Date          : 2025-04-30\n"
     ]
    },
    {
     "name": "stdout",
     "output_type": "stream",
     "text": [
      "2025-06-29 19:01:51,099 - INFO -   Scheme        : EW\n"
     ]
    },
    {
     "name": "stdout",
     "output_type": "stream",
     "text": [
      "2025-06-29 19:01:51,101 - INFO -   Num Tickers   : 10\n"
     ]
    },
    {
     "name": "stdout",
     "output_type": "stream",
     "text": [
      "2025-06-29 19:01:51,104 - INFO -   Selection Date Used: 2025-04-30\n"
     ]
    },
    {
     "name": "stdout",
     "output_type": "stream",
     "text": [
      "2025-06-29 19:01:51,108 - INFO -   Buy Date           : 2025-05-01\n"
     ]
    },
    {
     "name": "stdout",
     "output_type": "stream",
     "text": [
      "2025-06-29 19:01:51,110 - INFO -   Sell Date          : 2025-05-02\n"
     ]
    },
    {
     "name": "stdout",
     "output_type": "stream",
     "text": [
      "2025-06-29 19:01:51,119 - INFO -   Trades Executed: 10/10\n"
     ]
    },
    {
     "name": "stdout",
     "output_type": "stream",
     "text": [
      "2025-06-29 19:01:51,121 - INFO -   Portfolio Return : 0.0242\n"
     ]
    },
    {
     "name": "stdout",
     "output_type": "stream",
     "text": [
      "2025-06-29 19:01:51,127 - INFO -   Win Rate         : 90.00%\n"
     ]
    },
    {
     "name": "stdout",
     "output_type": "stream",
     "text": [
      "2025-06-29 19:01:51,128 - INFO - Backtest simulation for 'EW' on 2025-04-30 completed.\n"
     ]
    },
    {
     "name": "stdout",
     "output_type": "stream",
     "text": [
      "2025-06-29 19:01:51,131 - INFO - ------------------------------\n"
     ]
    },
    {
     "name": "stdout",
     "output_type": "stream",
     "text": [
      "2025-06-29 19:01:51,132 - INFO - Initiating Backtest Run...\n"
     ]
    },
    {
     "name": "stdout",
     "output_type": "stream",
     "text": [
      "2025-06-29 19:01:51,134 - INFO -   Date          : 2025-04-30\n"
     ]
    },
    {
     "name": "stdout",
     "output_type": "stream",
     "text": [
      "2025-06-29 19:01:51,135 - INFO -   Scheme        : IV\n"
     ]
    },
    {
     "name": "stdout",
     "output_type": "stream",
     "text": [
      "2025-06-29 19:01:51,137 - INFO -   Num Tickers   : 10\n"
     ]
    },
    {
     "name": "stdout",
     "output_type": "stream",
     "text": [
      "2025-06-29 19:01:51,140 - INFO -   Selection Date Used: 2025-04-30\n"
     ]
    },
    {
     "name": "stdout",
     "output_type": "stream",
     "text": [
      "2025-06-29 19:01:51,144 - INFO -   Buy Date           : 2025-05-01\n"
     ]
    },
    {
     "name": "stdout",
     "output_type": "stream",
     "text": [
      "2025-06-29 19:01:51,146 - INFO -   Sell Date          : 2025-05-02\n"
     ]
    },
    {
     "name": "stdout",
     "output_type": "stream",
     "text": [
      "2025-06-29 19:01:51,152 - INFO -   Trades Executed: 10/10\n"
     ]
    },
    {
     "name": "stdout",
     "output_type": "stream",
     "text": [
      "2025-06-29 19:01:51,155 - INFO -   Portfolio Return : 0.0230\n"
     ]
    },
    {
     "name": "stdout",
     "output_type": "stream",
     "text": [
      "2025-06-29 19:01:51,162 - INFO -   Win Rate         : 90.00%\n"
     ]
    },
    {
     "name": "stdout",
     "output_type": "stream",
     "text": [
      "2025-06-29 19:01:51,164 - INFO - Backtest simulation for 'IV' on 2025-04-30 completed.\n"
     ]
    },
    {
     "name": "stdout",
     "output_type": "stream",
     "text": [
      "2025-06-29 19:01:51,167 - INFO - ------------------------------\n"
     ]
    },
    {
     "name": "stdout",
     "output_type": "stream",
     "text": [
      "2025-06-29 19:01:51,170 - INFO - Initiating Backtest Run...\n"
     ]
    },
    {
     "name": "stdout",
     "output_type": "stream",
     "text": [
      "2025-06-29 19:01:51,177 - INFO -   Date          : 2025-04-30\n"
     ]
    },
    {
     "name": "stdout",
     "output_type": "stream",
     "text": [
      "2025-06-29 19:01:51,180 - INFO -   Scheme        : SW\n"
     ]
    },
    {
     "name": "stdout",
     "output_type": "stream",
     "text": [
      "2025-06-29 19:01:51,182 - INFO -   Num Tickers   : 10\n"
     ]
    },
    {
     "name": "stdout",
     "output_type": "stream",
     "text": [
      "2025-06-29 19:01:51,184 - INFO -   Selection Date Used: 2025-04-30\n"
     ]
    },
    {
     "name": "stdout",
     "output_type": "stream",
     "text": [
      "2025-06-29 19:01:51,187 - INFO -   Buy Date           : 2025-05-01\n"
     ]
    },
    {
     "name": "stdout",
     "output_type": "stream",
     "text": [
      "2025-06-29 19:01:51,192 - INFO -   Sell Date          : 2025-05-02\n"
     ]
    },
    {
     "name": "stdout",
     "output_type": "stream",
     "text": [
      "2025-06-29 19:01:51,200 - INFO -   Trades Executed: 10/10\n"
     ]
    },
    {
     "name": "stdout",
     "output_type": "stream",
     "text": [
      "2025-06-29 19:01:51,202 - INFO -   Portfolio Return : 0.0253\n"
     ]
    },
    {
     "name": "stdout",
     "output_type": "stream",
     "text": [
      "2025-06-29 19:01:51,204 - INFO -   Win Rate         : 90.00%\n"
     ]
    },
    {
     "name": "stdout",
     "output_type": "stream",
     "text": [
      "2025-06-29 19:01:51,210 - INFO - Backtest simulation for 'SW' on 2025-04-30 completed.\n"
     ]
    },
    {
     "name": "stdout",
     "output_type": "stream",
     "text": [
      "2025-06-29 19:01:51,235 - INFO - ------------------------------\n"
     ]
    },
    {
     "name": "stdout",
     "output_type": "stream",
     "text": [
      "2025-06-29 19:01:51,238 - INFO - Initiating Backtest Run...\n"
     ]
    },
    {
     "name": "stdout",
     "output_type": "stream",
     "text": [
      "2025-06-29 19:01:51,242 - INFO -   Date          : 2025-05-01\n"
     ]
    },
    {
     "name": "stdout",
     "output_type": "stream",
     "text": [
      "2025-06-29 19:01:51,244 - INFO -   Scheme        : EW\n"
     ]
    },
    {
     "name": "stdout",
     "output_type": "stream",
     "text": [
      "2025-06-29 19:01:51,247 - INFO -   Num Tickers   : 10\n"
     ]
    },
    {
     "name": "stdout",
     "output_type": "stream",
     "text": [
      "2025-06-29 19:01:51,249 - INFO -   Selection Date Used: 2025-05-01\n"
     ]
    },
    {
     "name": "stdout",
     "output_type": "stream",
     "text": [
      "2025-06-29 19:01:51,251 - INFO -   Buy Date           : 2025-05-02\n"
     ]
    },
    {
     "name": "stdout",
     "output_type": "stream",
     "text": [
      "2025-06-29 19:01:51,253 - INFO -   Sell Date          : 2025-05-05\n"
     ]
    },
    {
     "name": "stdout",
     "output_type": "stream",
     "text": [
      "2025-06-29 19:01:51,264 - INFO -   Trades Executed: 10/10\n"
     ]
    },
    {
     "name": "stdout",
     "output_type": "stream",
     "text": [
      "2025-06-29 19:01:51,267 - INFO -   Portfolio Return : -0.0038\n"
     ]
    },
    {
     "name": "stdout",
     "output_type": "stream",
     "text": [
      "2025-06-29 19:01:51,271 - INFO -   Win Rate         : 40.00%\n"
     ]
    },
    {
     "name": "stdout",
     "output_type": "stream",
     "text": [
      "2025-06-29 19:01:51,276 - INFO - Backtest simulation for 'EW' on 2025-05-01 completed.\n"
     ]
    },
    {
     "name": "stdout",
     "output_type": "stream",
     "text": [
      "2025-06-29 19:01:51,279 - INFO - ------------------------------\n"
     ]
    },
    {
     "name": "stdout",
     "output_type": "stream",
     "text": [
      "2025-06-29 19:01:51,281 - INFO - Initiating Backtest Run...\n"
     ]
    },
    {
     "name": "stdout",
     "output_type": "stream",
     "text": [
      "2025-06-29 19:01:51,283 - INFO -   Date          : 2025-05-01\n"
     ]
    },
    {
     "name": "stdout",
     "output_type": "stream",
     "text": [
      "2025-06-29 19:01:51,285 - INFO -   Scheme        : IV\n"
     ]
    },
    {
     "name": "stdout",
     "output_type": "stream",
     "text": [
      "2025-06-29 19:01:51,287 - INFO -   Num Tickers   : 10\n"
     ]
    },
    {
     "name": "stdout",
     "output_type": "stream",
     "text": [
      "2025-06-29 19:01:51,295 - INFO -   Selection Date Used: 2025-05-01\n"
     ]
    },
    {
     "name": "stdout",
     "output_type": "stream",
     "text": [
      "2025-06-29 19:01:51,297 - INFO -   Buy Date           : 2025-05-02\n"
     ]
    },
    {
     "name": "stdout",
     "output_type": "stream",
     "text": [
      "2025-06-29 19:01:51,299 - INFO -   Sell Date          : 2025-05-05\n"
     ]
    },
    {
     "name": "stdout",
     "output_type": "stream",
     "text": [
      "2025-06-29 19:01:51,310 - INFO -   Trades Executed: 10/10\n"
     ]
    },
    {
     "name": "stdout",
     "output_type": "stream",
     "text": [
      "2025-06-29 19:01:51,313 - INFO -   Portfolio Return : -0.0049\n"
     ]
    },
    {
     "name": "stdout",
     "output_type": "stream",
     "text": [
      "2025-06-29 19:01:51,316 - INFO -   Win Rate         : 40.00%\n"
     ]
    },
    {
     "name": "stdout",
     "output_type": "stream",
     "text": [
      "2025-06-29 19:01:51,318 - INFO - Backtest simulation for 'IV' on 2025-05-01 completed.\n"
     ]
    },
    {
     "name": "stdout",
     "output_type": "stream",
     "text": [
      "2025-06-29 19:01:51,320 - INFO - ------------------------------\n"
     ]
    },
    {
     "name": "stdout",
     "output_type": "stream",
     "text": [
      "2025-06-29 19:01:51,321 - INFO - Initiating Backtest Run...\n"
     ]
    },
    {
     "name": "stdout",
     "output_type": "stream",
     "text": [
      "2025-06-29 19:01:51,327 - INFO -   Date          : 2025-05-01\n"
     ]
    },
    {
     "name": "stdout",
     "output_type": "stream",
     "text": [
      "2025-06-29 19:01:51,329 - INFO -   Scheme        : SW\n"
     ]
    },
    {
     "name": "stdout",
     "output_type": "stream",
     "text": [
      "2025-06-29 19:01:51,331 - INFO -   Num Tickers   : 10\n"
     ]
    },
    {
     "name": "stdout",
     "output_type": "stream",
     "text": [
      "2025-06-29 19:01:51,332 - INFO -   Selection Date Used: 2025-05-01\n"
     ]
    },
    {
     "name": "stdout",
     "output_type": "stream",
     "text": [
      "2025-06-29 19:01:51,334 - INFO -   Buy Date           : 2025-05-02\n"
     ]
    },
    {
     "name": "stdout",
     "output_type": "stream",
     "text": [
      "2025-06-29 19:01:51,335 - INFO -   Sell Date          : 2025-05-05\n"
     ]
    },
    {
     "name": "stdout",
     "output_type": "stream",
     "text": [
      "2025-06-29 19:01:51,344 - INFO -   Trades Executed: 10/10\n"
     ]
    },
    {
     "name": "stdout",
     "output_type": "stream",
     "text": [
      "2025-06-29 19:01:51,346 - INFO -   Portfolio Return : -0.0016\n"
     ]
    },
    {
     "name": "stdout",
     "output_type": "stream",
     "text": [
      "2025-06-29 19:01:51,348 - INFO -   Win Rate         : 40.00%\n"
     ]
    },
    {
     "name": "stdout",
     "output_type": "stream",
     "text": [
      "2025-06-29 19:01:51,349 - INFO - Backtest simulation for 'SW' on 2025-05-01 completed.\n"
     ]
    },
    {
     "name": "stdout",
     "output_type": "stream",
     "text": [
      "2025-06-29 19:01:51,368 - INFO - ------------------------------\n"
     ]
    },
    {
     "name": "stdout",
     "output_type": "stream",
     "text": [
      "2025-06-29 19:01:51,372 - INFO - Initiating Backtest Run...\n"
     ]
    },
    {
     "name": "stdout",
     "output_type": "stream",
     "text": [
      "2025-06-29 19:01:51,376 - INFO -   Date          : 2025-05-02\n"
     ]
    },
    {
     "name": "stdout",
     "output_type": "stream",
     "text": [
      "2025-06-29 19:01:51,378 - INFO -   Scheme        : EW\n"
     ]
    },
    {
     "name": "stdout",
     "output_type": "stream",
     "text": [
      "2025-06-29 19:01:51,380 - INFO -   Num Tickers   : 10\n"
     ]
    },
    {
     "name": "stdout",
     "output_type": "stream",
     "text": [
      "2025-06-29 19:01:51,382 - INFO -   Selection Date Used: 2025-05-02\n"
     ]
    },
    {
     "name": "stdout",
     "output_type": "stream",
     "text": [
      "2025-06-29 19:01:51,384 - INFO -   Buy Date           : 2025-05-05\n"
     ]
    },
    {
     "name": "stdout",
     "output_type": "stream",
     "text": [
      "2025-06-29 19:01:51,386 - INFO -   Sell Date          : 2025-05-06\n"
     ]
    },
    {
     "name": "stdout",
     "output_type": "stream",
     "text": [
      "2025-06-29 19:01:51,394 - INFO -   Trades Executed: 10/10\n"
     ]
    },
    {
     "name": "stdout",
     "output_type": "stream",
     "text": [
      "2025-06-29 19:01:51,396 - INFO -   Portfolio Return : 0.0038\n"
     ]
    },
    {
     "name": "stdout",
     "output_type": "stream",
     "text": [
      "2025-06-29 19:01:51,398 - INFO -   Win Rate         : 50.00%\n"
     ]
    },
    {
     "name": "stdout",
     "output_type": "stream",
     "text": [
      "2025-06-29 19:01:51,400 - INFO - Backtest simulation for 'EW' on 2025-05-02 completed.\n"
     ]
    },
    {
     "name": "stdout",
     "output_type": "stream",
     "text": [
      "2025-06-29 19:01:51,402 - INFO - ------------------------------\n"
     ]
    },
    {
     "name": "stdout",
     "output_type": "stream",
     "text": [
      "2025-06-29 19:01:51,404 - INFO - Initiating Backtest Run...\n"
     ]
    },
    {
     "name": "stdout",
     "output_type": "stream",
     "text": [
      "2025-06-29 19:01:51,405 - INFO -   Date          : 2025-05-02\n"
     ]
    },
    {
     "name": "stdout",
     "output_type": "stream",
     "text": [
      "2025-06-29 19:01:51,410 - INFO -   Scheme        : IV\n"
     ]
    },
    {
     "name": "stdout",
     "output_type": "stream",
     "text": [
      "2025-06-29 19:01:51,412 - INFO -   Num Tickers   : 10\n"
     ]
    },
    {
     "name": "stdout",
     "output_type": "stream",
     "text": [
      "2025-06-29 19:01:51,414 - INFO -   Selection Date Used: 2025-05-02\n"
     ]
    },
    {
     "name": "stdout",
     "output_type": "stream",
     "text": [
      "2025-06-29 19:01:51,415 - INFO -   Buy Date           : 2025-05-05\n"
     ]
    },
    {
     "name": "stdout",
     "output_type": "stream",
     "text": [
      "2025-06-29 19:01:51,417 - INFO -   Sell Date          : 2025-05-06\n"
     ]
    },
    {
     "name": "stdout",
     "output_type": "stream",
     "text": [
      "2025-06-29 19:01:51,424 - INFO -   Trades Executed: 10/10\n"
     ]
    },
    {
     "name": "stdout",
     "output_type": "stream",
     "text": [
      "2025-06-29 19:01:51,426 - INFO -   Portfolio Return : 0.0017\n"
     ]
    },
    {
     "name": "stdout",
     "output_type": "stream",
     "text": [
      "2025-06-29 19:01:51,430 - INFO -   Win Rate         : 50.00%\n"
     ]
    },
    {
     "name": "stdout",
     "output_type": "stream",
     "text": [
      "2025-06-29 19:01:51,432 - INFO - Backtest simulation for 'IV' on 2025-05-02 completed.\n"
     ]
    },
    {
     "name": "stdout",
     "output_type": "stream",
     "text": [
      "2025-06-29 19:01:51,435 - INFO - ------------------------------\n"
     ]
    },
    {
     "name": "stdout",
     "output_type": "stream",
     "text": [
      "2025-06-29 19:01:51,437 - INFO - Initiating Backtest Run...\n"
     ]
    },
    {
     "name": "stdout",
     "output_type": "stream",
     "text": [
      "2025-06-29 19:01:51,440 - INFO -   Date          : 2025-05-02\n"
     ]
    },
    {
     "name": "stdout",
     "output_type": "stream",
     "text": [
      "2025-06-29 19:01:51,444 - INFO -   Scheme        : SW\n"
     ]
    },
    {
     "name": "stdout",
     "output_type": "stream",
     "text": [
      "2025-06-29 19:01:51,447 - INFO -   Num Tickers   : 10\n"
     ]
    },
    {
     "name": "stdout",
     "output_type": "stream",
     "text": [
      "2025-06-29 19:01:51,449 - INFO -   Selection Date Used: 2025-05-02\n"
     ]
    },
    {
     "name": "stdout",
     "output_type": "stream",
     "text": [
      "2025-06-29 19:01:51,450 - INFO -   Buy Date           : 2025-05-05\n"
     ]
    },
    {
     "name": "stdout",
     "output_type": "stream",
     "text": [
      "2025-06-29 19:01:51,452 - INFO -   Sell Date          : 2025-05-06\n"
     ]
    },
    {
     "name": "stdout",
     "output_type": "stream",
     "text": [
      "2025-06-29 19:01:51,461 - INFO -   Trades Executed: 10/10\n"
     ]
    },
    {
     "name": "stdout",
     "output_type": "stream",
     "text": [
      "2025-06-29 19:01:51,462 - INFO -   Portfolio Return : 0.0045\n"
     ]
    },
    {
     "name": "stdout",
     "output_type": "stream",
     "text": [
      "2025-06-29 19:01:51,464 - INFO -   Win Rate         : 50.00%\n"
     ]
    },
    {
     "name": "stdout",
     "output_type": "stream",
     "text": [
      "2025-06-29 19:01:51,466 - INFO - Backtest simulation for 'SW' on 2025-05-02 completed.\n"
     ]
    },
    {
     "name": "stdout",
     "output_type": "stream",
     "text": [
      "2025-06-29 19:01:51,480 - INFO - ------------------------------\n"
     ]
    },
    {
     "name": "stdout",
     "output_type": "stream",
     "text": [
      "2025-06-29 19:01:51,482 - INFO - Initiating Backtest Run...\n"
     ]
    },
    {
     "name": "stdout",
     "output_type": "stream",
     "text": [
      "2025-06-29 19:01:51,484 - INFO -   Date          : 2025-05-05\n"
     ]
    },
    {
     "name": "stdout",
     "output_type": "stream",
     "text": [
      "2025-06-29 19:01:51,486 - INFO -   Scheme        : EW\n"
     ]
    },
    {
     "name": "stdout",
     "output_type": "stream",
     "text": [
      "2025-06-29 19:01:51,487 - INFO -   Num Tickers   : 10\n"
     ]
    },
    {
     "name": "stdout",
     "output_type": "stream",
     "text": [
      "2025-06-29 19:01:51,492 - INFO -   Selection Date Used: 2025-05-05\n"
     ]
    },
    {
     "name": "stdout",
     "output_type": "stream",
     "text": [
      "2025-06-29 19:01:51,494 - INFO -   Buy Date           : 2025-05-06\n"
     ]
    },
    {
     "name": "stdout",
     "output_type": "stream",
     "text": [
      "2025-06-29 19:01:51,496 - INFO -   Sell Date          : 2025-05-07\n"
     ]
    },
    {
     "name": "stdout",
     "output_type": "stream",
     "text": [
      "2025-06-29 19:01:51,502 - INFO -   Trades Executed: 10/10\n"
     ]
    },
    {
     "name": "stdout",
     "output_type": "stream",
     "text": [
      "2025-06-29 19:01:51,504 - INFO -   Portfolio Return : 0.0105\n"
     ]
    },
    {
     "name": "stdout",
     "output_type": "stream",
     "text": [
      "2025-06-29 19:01:51,509 - INFO -   Win Rate         : 70.00%\n"
     ]
    },
    {
     "name": "stdout",
     "output_type": "stream",
     "text": [
      "2025-06-29 19:01:51,510 - INFO - Backtest simulation for 'EW' on 2025-05-05 completed.\n"
     ]
    },
    {
     "name": "stdout",
     "output_type": "stream",
     "text": [
      "2025-06-29 19:01:51,512 - INFO - ------------------------------\n"
     ]
    },
    {
     "name": "stdout",
     "output_type": "stream",
     "text": [
      "2025-06-29 19:01:51,514 - INFO - Initiating Backtest Run...\n"
     ]
    },
    {
     "name": "stdout",
     "output_type": "stream",
     "text": [
      "2025-06-29 19:01:51,515 - INFO -   Date          : 2025-05-05\n"
     ]
    },
    {
     "name": "stdout",
     "output_type": "stream",
     "text": [
      "2025-06-29 19:01:51,516 - INFO -   Scheme        : IV\n"
     ]
    },
    {
     "name": "stdout",
     "output_type": "stream",
     "text": [
      "2025-06-29 19:01:51,518 - INFO -   Num Tickers   : 10\n"
     ]
    },
    {
     "name": "stdout",
     "output_type": "stream",
     "text": [
      "2025-06-29 19:01:51,520 - INFO -   Selection Date Used: 2025-05-05\n"
     ]
    },
    {
     "name": "stdout",
     "output_type": "stream",
     "text": [
      "2025-06-29 19:01:51,521 - INFO -   Buy Date           : 2025-05-06\n"
     ]
    },
    {
     "name": "stdout",
     "output_type": "stream",
     "text": [
      "2025-06-29 19:01:51,525 - INFO -   Sell Date          : 2025-05-07\n"
     ]
    },
    {
     "name": "stdout",
     "output_type": "stream",
     "text": [
      "2025-06-29 19:01:51,532 - INFO -   Trades Executed: 10/10\n"
     ]
    },
    {
     "name": "stdout",
     "output_type": "stream",
     "text": [
      "2025-06-29 19:01:51,533 - INFO -   Portfolio Return : 0.0106\n"
     ]
    },
    {
     "name": "stdout",
     "output_type": "stream",
     "text": [
      "2025-06-29 19:01:51,538 - INFO -   Win Rate         : 70.00%\n"
     ]
    },
    {
     "name": "stdout",
     "output_type": "stream",
     "text": [
      "2025-06-29 19:01:51,543 - INFO - Backtest simulation for 'IV' on 2025-05-05 completed.\n"
     ]
    },
    {
     "name": "stdout",
     "output_type": "stream",
     "text": [
      "2025-06-29 19:01:51,547 - INFO - ------------------------------\n"
     ]
    },
    {
     "name": "stdout",
     "output_type": "stream",
     "text": [
      "2025-06-29 19:01:51,548 - INFO - Initiating Backtest Run...\n"
     ]
    },
    {
     "name": "stdout",
     "output_type": "stream",
     "text": [
      "2025-06-29 19:01:51,549 - INFO -   Date          : 2025-05-05\n"
     ]
    },
    {
     "name": "stdout",
     "output_type": "stream",
     "text": [
      "2025-06-29 19:01:51,551 - INFO -   Scheme        : SW\n"
     ]
    },
    {
     "name": "stdout",
     "output_type": "stream",
     "text": [
      "2025-06-29 19:01:51,553 - INFO -   Num Tickers   : 10\n"
     ]
    },
    {
     "name": "stdout",
     "output_type": "stream",
     "text": [
      "2025-06-29 19:01:51,555 - INFO -   Selection Date Used: 2025-05-05\n"
     ]
    },
    {
     "name": "stdout",
     "output_type": "stream",
     "text": [
      "2025-06-29 19:01:51,559 - INFO -   Buy Date           : 2025-05-06\n"
     ]
    },
    {
     "name": "stdout",
     "output_type": "stream",
     "text": [
      "2025-06-29 19:01:51,561 - INFO -   Sell Date          : 2025-05-07\n"
     ]
    },
    {
     "name": "stdout",
     "output_type": "stream",
     "text": [
      "2025-06-29 19:01:51,568 - INFO -   Trades Executed: 10/10\n"
     ]
    },
    {
     "name": "stdout",
     "output_type": "stream",
     "text": [
      "2025-06-29 19:01:51,570 - INFO -   Portfolio Return : 0.0105\n"
     ]
    },
    {
     "name": "stdout",
     "output_type": "stream",
     "text": [
      "2025-06-29 19:01:51,573 - INFO -   Win Rate         : 70.00%\n"
     ]
    },
    {
     "name": "stdout",
     "output_type": "stream",
     "text": [
      "2025-06-29 19:01:51,576 - INFO - Backtest simulation for 'SW' on 2025-05-05 completed.\n"
     ]
    },
    {
     "name": "stdout",
     "output_type": "stream",
     "text": [
      "2025-06-29 19:01:51,589 - INFO - ------------------------------\n"
     ]
    },
    {
     "name": "stdout",
     "output_type": "stream",
     "text": [
      "2025-06-29 19:01:51,593 - INFO - Initiating Backtest Run...\n"
     ]
    },
    {
     "name": "stdout",
     "output_type": "stream",
     "text": [
      "2025-06-29 19:01:51,595 - INFO -   Date          : 2025-05-06\n"
     ]
    },
    {
     "name": "stdout",
     "output_type": "stream",
     "text": [
      "2025-06-29 19:01:51,596 - INFO -   Scheme        : EW\n"
     ]
    },
    {
     "name": "stdout",
     "output_type": "stream",
     "text": [
      "2025-06-29 19:01:51,598 - INFO -   Num Tickers   : 10\n"
     ]
    },
    {
     "name": "stdout",
     "output_type": "stream",
     "text": [
      "2025-06-29 19:01:51,600 - INFO -   Selection Date Used: 2025-05-06\n"
     ]
    },
    {
     "name": "stdout",
     "output_type": "stream",
     "text": [
      "2025-06-29 19:01:51,602 - INFO -   Buy Date           : 2025-05-07\n"
     ]
    },
    {
     "name": "stdout",
     "output_type": "stream",
     "text": [
      "2025-06-29 19:01:51,604 - INFO -   Sell Date          : 2025-05-08\n"
     ]
    },
    {
     "name": "stdout",
     "output_type": "stream",
     "text": [
      "2025-06-29 19:01:51,613 - INFO -   Trades Executed: 10/10\n"
     ]
    },
    {
     "name": "stdout",
     "output_type": "stream",
     "text": [
      "2025-06-29 19:01:51,615 - INFO -   Portfolio Return : 0.0159\n"
     ]
    },
    {
     "name": "stdout",
     "output_type": "stream",
     "text": [
      "2025-06-29 19:01:51,616 - INFO -   Win Rate         : 70.00%\n"
     ]
    },
    {
     "name": "stdout",
     "output_type": "stream",
     "text": [
      "2025-06-29 19:01:51,618 - INFO - Backtest simulation for 'EW' on 2025-05-06 completed.\n"
     ]
    },
    {
     "name": "stdout",
     "output_type": "stream",
     "text": [
      "2025-06-29 19:01:51,620 - INFO - ------------------------------\n"
     ]
    },
    {
     "name": "stdout",
     "output_type": "stream",
     "text": [
      "2025-06-29 19:01:51,627 - INFO - Initiating Backtest Run...\n"
     ]
    },
    {
     "name": "stdout",
     "output_type": "stream",
     "text": [
      "2025-06-29 19:01:51,629 - INFO -   Date          : 2025-05-06\n"
     ]
    },
    {
     "name": "stdout",
     "output_type": "stream",
     "text": [
      "2025-06-29 19:01:51,631 - INFO -   Scheme        : IV\n"
     ]
    },
    {
     "name": "stdout",
     "output_type": "stream",
     "text": [
      "2025-06-29 19:01:51,633 - INFO -   Num Tickers   : 10\n"
     ]
    },
    {
     "name": "stdout",
     "output_type": "stream",
     "text": [
      "2025-06-29 19:01:51,636 - INFO -   Selection Date Used: 2025-05-06\n"
     ]
    },
    {
     "name": "stdout",
     "output_type": "stream",
     "text": [
      "2025-06-29 19:01:51,637 - INFO -   Buy Date           : 2025-05-07\n"
     ]
    },
    {
     "name": "stdout",
     "output_type": "stream",
     "text": [
      "2025-06-29 19:01:51,642 - INFO -   Sell Date          : 2025-05-08\n"
     ]
    },
    {
     "name": "stdout",
     "output_type": "stream",
     "text": [
      "2025-06-29 19:01:51,650 - INFO -   Trades Executed: 10/10\n"
     ]
    },
    {
     "name": "stdout",
     "output_type": "stream",
     "text": [
      "2025-06-29 19:01:51,652 - INFO -   Portfolio Return : 0.0128\n"
     ]
    },
    {
     "name": "stdout",
     "output_type": "stream",
     "text": [
      "2025-06-29 19:01:51,654 - INFO -   Win Rate         : 70.00%\n"
     ]
    },
    {
     "name": "stdout",
     "output_type": "stream",
     "text": [
      "2025-06-29 19:01:51,655 - INFO - Backtest simulation for 'IV' on 2025-05-06 completed.\n"
     ]
    },
    {
     "name": "stdout",
     "output_type": "stream",
     "text": [
      "2025-06-29 19:01:51,661 - INFO - ------------------------------\n"
     ]
    },
    {
     "name": "stdout",
     "output_type": "stream",
     "text": [
      "2025-06-29 19:01:51,663 - INFO - Initiating Backtest Run...\n"
     ]
    },
    {
     "name": "stdout",
     "output_type": "stream",
     "text": [
      "2025-06-29 19:01:51,665 - INFO -   Date          : 2025-05-06\n"
     ]
    },
    {
     "name": "stdout",
     "output_type": "stream",
     "text": [
      "2025-06-29 19:01:51,667 - INFO -   Scheme        : SW\n"
     ]
    },
    {
     "name": "stdout",
     "output_type": "stream",
     "text": [
      "2025-06-29 19:01:51,668 - INFO -   Num Tickers   : 10\n"
     ]
    },
    {
     "name": "stdout",
     "output_type": "stream",
     "text": [
      "2025-06-29 19:01:51,671 - INFO -   Selection Date Used: 2025-05-06\n"
     ]
    },
    {
     "name": "stdout",
     "output_type": "stream",
     "text": [
      "2025-06-29 19:01:51,675 - INFO -   Buy Date           : 2025-05-07\n"
     ]
    },
    {
     "name": "stdout",
     "output_type": "stream",
     "text": [
      "2025-06-29 19:01:51,678 - INFO -   Sell Date          : 2025-05-08\n"
     ]
    },
    {
     "name": "stdout",
     "output_type": "stream",
     "text": [
      "2025-06-29 19:01:51,684 - INFO -   Trades Executed: 10/10\n"
     ]
    },
    {
     "name": "stdout",
     "output_type": "stream",
     "text": [
      "2025-06-29 19:01:51,686 - INFO -   Portfolio Return : 0.0171\n"
     ]
    },
    {
     "name": "stdout",
     "output_type": "stream",
     "text": [
      "2025-06-29 19:01:51,688 - INFO -   Win Rate         : 70.00%\n"
     ]
    },
    {
     "name": "stdout",
     "output_type": "stream",
     "text": [
      "2025-06-29 19:01:51,692 - INFO - Backtest simulation for 'SW' on 2025-05-06 completed.\n"
     ]
    },
    {
     "name": "stdout",
     "output_type": "stream",
     "text": [
      "2025-06-29 19:01:51,705 - INFO - ------------------------------\n"
     ]
    },
    {
     "name": "stdout",
     "output_type": "stream",
     "text": [
      "2025-06-29 19:01:51,709 - INFO - Initiating Backtest Run...\n"
     ]
    },
    {
     "name": "stdout",
     "output_type": "stream",
     "text": [
      "2025-06-29 19:01:51,711 - INFO -   Date          : 2025-05-07\n"
     ]
    },
    {
     "name": "stdout",
     "output_type": "stream",
     "text": [
      "2025-06-29 19:01:51,712 - INFO -   Scheme        : EW\n"
     ]
    },
    {
     "name": "stdout",
     "output_type": "stream",
     "text": [
      "2025-06-29 19:01:51,715 - INFO -   Num Tickers   : 10\n"
     ]
    },
    {
     "name": "stdout",
     "output_type": "stream",
     "text": [
      "2025-06-29 19:01:51,717 - INFO -   Selection Date Used: 2025-05-07\n"
     ]
    },
    {
     "name": "stdout",
     "output_type": "stream",
     "text": [
      "2025-06-29 19:01:51,718 - INFO -   Buy Date           : 2025-05-08\n"
     ]
    },
    {
     "name": "stdout",
     "output_type": "stream",
     "text": [
      "2025-06-29 19:01:51,720 - INFO -   Sell Date          : 2025-05-09\n"
     ]
    },
    {
     "name": "stdout",
     "output_type": "stream",
     "text": [
      "2025-06-29 19:01:51,730 - INFO -   Trades Executed: 10/10\n"
     ]
    },
    {
     "name": "stdout",
     "output_type": "stream",
     "text": [
      "2025-06-29 19:01:51,731 - INFO -   Portfolio Return : -0.0044\n"
     ]
    },
    {
     "name": "stdout",
     "output_type": "stream",
     "text": [
      "2025-06-29 19:01:51,734 - INFO -   Win Rate         : 30.00%\n"
     ]
    },
    {
     "name": "stdout",
     "output_type": "stream",
     "text": [
      "2025-06-29 19:01:51,736 - INFO - Backtest simulation for 'EW' on 2025-05-07 completed.\n"
     ]
    },
    {
     "name": "stdout",
     "output_type": "stream",
     "text": [
      "2025-06-29 19:01:51,741 - INFO - ------------------------------\n"
     ]
    },
    {
     "name": "stdout",
     "output_type": "stream",
     "text": [
      "2025-06-29 19:01:51,743 - INFO - Initiating Backtest Run...\n"
     ]
    },
    {
     "name": "stdout",
     "output_type": "stream",
     "text": [
      "2025-06-29 19:01:51,746 - INFO -   Date          : 2025-05-07\n"
     ]
    },
    {
     "name": "stdout",
     "output_type": "stream",
     "text": [
      "2025-06-29 19:01:51,748 - INFO -   Scheme        : IV\n"
     ]
    },
    {
     "name": "stdout",
     "output_type": "stream",
     "text": [
      "2025-06-29 19:01:51,749 - INFO -   Num Tickers   : 10\n"
     ]
    },
    {
     "name": "stdout",
     "output_type": "stream",
     "text": [
      "2025-06-29 19:01:51,751 - INFO -   Selection Date Used: 2025-05-07\n"
     ]
    },
    {
     "name": "stdout",
     "output_type": "stream",
     "text": [
      "2025-06-29 19:01:51,753 - INFO -   Buy Date           : 2025-05-08\n"
     ]
    },
    {
     "name": "stdout",
     "output_type": "stream",
     "text": [
      "2025-06-29 19:01:51,754 - INFO -   Sell Date          : 2025-05-09\n"
     ]
    },
    {
     "name": "stdout",
     "output_type": "stream",
     "text": [
      "2025-06-29 19:01:51,764 - INFO -   Trades Executed: 10/10\n"
     ]
    },
    {
     "name": "stdout",
     "output_type": "stream",
     "text": [
      "2025-06-29 19:01:51,766 - INFO -   Portfolio Return : -0.0031\n"
     ]
    },
    {
     "name": "stdout",
     "output_type": "stream",
     "text": [
      "2025-06-29 19:01:51,767 - INFO -   Win Rate         : 30.00%\n"
     ]
    },
    {
     "name": "stdout",
     "output_type": "stream",
     "text": [
      "2025-06-29 19:01:51,770 - INFO - Backtest simulation for 'IV' on 2025-05-07 completed.\n"
     ]
    },
    {
     "name": "stdout",
     "output_type": "stream",
     "text": [
      "2025-06-29 19:01:51,774 - INFO - ------------------------------\n"
     ]
    },
    {
     "name": "stdout",
     "output_type": "stream",
     "text": [
      "2025-06-29 19:01:51,777 - INFO - Initiating Backtest Run...\n"
     ]
    },
    {
     "name": "stdout",
     "output_type": "stream",
     "text": [
      "2025-06-29 19:01:51,779 - INFO -   Date          : 2025-05-07\n"
     ]
    },
    {
     "name": "stdout",
     "output_type": "stream",
     "text": [
      "2025-06-29 19:01:51,781 - INFO -   Scheme        : SW\n"
     ]
    },
    {
     "name": "stdout",
     "output_type": "stream",
     "text": [
      "2025-06-29 19:01:51,782 - INFO -   Num Tickers   : 10\n"
     ]
    },
    {
     "name": "stdout",
     "output_type": "stream",
     "text": [
      "2025-06-29 19:01:51,784 - INFO -   Selection Date Used: 2025-05-07\n"
     ]
    },
    {
     "name": "stdout",
     "output_type": "stream",
     "text": [
      "2025-06-29 19:01:51,786 - INFO -   Buy Date           : 2025-05-08\n"
     ]
    },
    {
     "name": "stdout",
     "output_type": "stream",
     "text": [
      "2025-06-29 19:01:51,788 - INFO -   Sell Date          : 2025-05-09\n"
     ]
    },
    {
     "name": "stdout",
     "output_type": "stream",
     "text": [
      "2025-06-29 19:01:51,797 - INFO -   Trades Executed: 10/10\n"
     ]
    },
    {
     "name": "stdout",
     "output_type": "stream",
     "text": [
      "2025-06-29 19:01:51,799 - INFO -   Portfolio Return : -0.0047\n"
     ]
    },
    {
     "name": "stdout",
     "output_type": "stream",
     "text": [
      "2025-06-29 19:01:51,800 - INFO -   Win Rate         : 30.00%\n"
     ]
    },
    {
     "name": "stdout",
     "output_type": "stream",
     "text": [
      "2025-06-29 19:01:51,803 - INFO - Backtest simulation for 'SW' on 2025-05-07 completed.\n"
     ]
    },
    {
     "name": "stdout",
     "output_type": "stream",
     "text": [
      "2025-06-29 19:01:51,818 - INFO - ------------------------------\n"
     ]
    },
    {
     "name": "stdout",
     "output_type": "stream",
     "text": [
      "2025-06-29 19:01:51,819 - INFO - Initiating Backtest Run...\n"
     ]
    },
    {
     "name": "stdout",
     "output_type": "stream",
     "text": [
      "2025-06-29 19:01:51,821 - INFO -   Date          : 2025-05-08\n"
     ]
    },
    {
     "name": "stdout",
     "output_type": "stream",
     "text": [
      "2025-06-29 19:01:51,828 - INFO -   Scheme        : EW\n"
     ]
    },
    {
     "name": "stdout",
     "output_type": "stream",
     "text": [
      "2025-06-29 19:01:51,829 - INFO -   Num Tickers   : 10\n"
     ]
    },
    {
     "name": "stdout",
     "output_type": "stream",
     "text": [
      "2025-06-29 19:01:51,832 - INFO -   Selection Date Used: 2025-05-08\n"
     ]
    },
    {
     "name": "stdout",
     "output_type": "stream",
     "text": [
      "2025-06-29 19:01:51,834 - INFO -   Buy Date           : 2025-05-09\n"
     ]
    },
    {
     "name": "stdout",
     "output_type": "stream",
     "text": [
      "2025-06-29 19:01:51,835 - INFO -   Sell Date          : 2025-05-12\n"
     ]
    },
    {
     "name": "stdout",
     "output_type": "stream",
     "text": [
      "2025-06-29 19:01:51,847 - INFO -   Trades Executed: 10/10\n"
     ]
    },
    {
     "name": "stdout",
     "output_type": "stream",
     "text": [
      "2025-06-29 19:01:51,848 - INFO -   Portfolio Return : 0.0246\n"
     ]
    },
    {
     "name": "stdout",
     "output_type": "stream",
     "text": [
      "2025-06-29 19:01:51,851 - INFO -   Win Rate         : 80.00%\n"
     ]
    },
    {
     "name": "stdout",
     "output_type": "stream",
     "text": [
      "2025-06-29 19:01:51,853 - INFO - Backtest simulation for 'EW' on 2025-05-08 completed.\n"
     ]
    },
    {
     "name": "stdout",
     "output_type": "stream",
     "text": [
      "2025-06-29 19:01:51,855 - INFO - ------------------------------\n"
     ]
    },
    {
     "name": "stdout",
     "output_type": "stream",
     "text": [
      "2025-06-29 19:01:51,859 - INFO - Initiating Backtest Run...\n"
     ]
    },
    {
     "name": "stdout",
     "output_type": "stream",
     "text": [
      "2025-06-29 19:01:51,862 - INFO -   Date          : 2025-05-08\n"
     ]
    },
    {
     "name": "stdout",
     "output_type": "stream",
     "text": [
      "2025-06-29 19:01:51,864 - INFO -   Scheme        : IV\n"
     ]
    },
    {
     "name": "stdout",
     "output_type": "stream",
     "text": [
      "2025-06-29 19:01:51,865 - INFO -   Num Tickers   : 10\n"
     ]
    },
    {
     "name": "stdout",
     "output_type": "stream",
     "text": [
      "2025-06-29 19:01:51,869 - INFO -   Selection Date Used: 2025-05-08\n"
     ]
    },
    {
     "name": "stdout",
     "output_type": "stream",
     "text": [
      "2025-06-29 19:01:51,870 - INFO -   Buy Date           : 2025-05-09\n"
     ]
    },
    {
     "name": "stdout",
     "output_type": "stream",
     "text": [
      "2025-06-29 19:01:51,871 - INFO -   Sell Date          : 2025-05-12\n"
     ]
    },
    {
     "name": "stdout",
     "output_type": "stream",
     "text": [
      "2025-06-29 19:01:51,881 - INFO -   Trades Executed: 10/10\n"
     ]
    },
    {
     "name": "stdout",
     "output_type": "stream",
     "text": [
      "2025-06-29 19:01:51,883 - INFO -   Portfolio Return : 0.0204\n"
     ]
    },
    {
     "name": "stdout",
     "output_type": "stream",
     "text": [
      "2025-06-29 19:01:51,885 - INFO -   Win Rate         : 80.00%\n"
     ]
    },
    {
     "name": "stdout",
     "output_type": "stream",
     "text": [
      "2025-06-29 19:01:51,887 - INFO - Backtest simulation for 'IV' on 2025-05-08 completed.\n"
     ]
    },
    {
     "name": "stdout",
     "output_type": "stream",
     "text": [
      "2025-06-29 19:01:51,892 - INFO - ------------------------------\n"
     ]
    },
    {
     "name": "stdout",
     "output_type": "stream",
     "text": [
      "2025-06-29 19:01:51,894 - INFO - Initiating Backtest Run...\n"
     ]
    },
    {
     "name": "stdout",
     "output_type": "stream",
     "text": [
      "2025-06-29 19:01:51,896 - INFO -   Date          : 2025-05-08\n"
     ]
    },
    {
     "name": "stdout",
     "output_type": "stream",
     "text": [
      "2025-06-29 19:01:51,897 - INFO -   Scheme        : SW\n"
     ]
    },
    {
     "name": "stdout",
     "output_type": "stream",
     "text": [
      "2025-06-29 19:01:51,899 - INFO -   Num Tickers   : 10\n"
     ]
    },
    {
     "name": "stdout",
     "output_type": "stream",
     "text": [
      "2025-06-29 19:01:51,901 - INFO -   Selection Date Used: 2025-05-08\n"
     ]
    },
    {
     "name": "stdout",
     "output_type": "stream",
     "text": [
      "2025-06-29 19:01:51,902 - INFO -   Buy Date           : 2025-05-09\n"
     ]
    },
    {
     "name": "stdout",
     "output_type": "stream",
     "text": [
      "2025-06-29 19:01:51,909 - INFO -   Sell Date          : 2025-05-12\n"
     ]
    },
    {
     "name": "stdout",
     "output_type": "stream",
     "text": [
      "2025-06-29 19:01:51,915 - INFO -   Trades Executed: 10/10\n"
     ]
    },
    {
     "name": "stdout",
     "output_type": "stream",
     "text": [
      "2025-06-29 19:01:51,917 - INFO -   Portfolio Return : 0.0250\n"
     ]
    },
    {
     "name": "stdout",
     "output_type": "stream",
     "text": [
      "2025-06-29 19:01:51,919 - INFO -   Win Rate         : 80.00%\n"
     ]
    },
    {
     "name": "stdout",
     "output_type": "stream",
     "text": [
      "2025-06-29 19:01:51,921 - INFO - Backtest simulation for 'SW' on 2025-05-08 completed.\n"
     ]
    },
    {
     "name": "stdout",
     "output_type": "stream",
     "text": [
      "2025-06-29 19:01:51,935 - INFO - ------------------------------\n"
     ]
    },
    {
     "name": "stdout",
     "output_type": "stream",
     "text": [
      "2025-06-29 19:01:51,937 - INFO - Initiating Backtest Run...\n"
     ]
    },
    {
     "name": "stdout",
     "output_type": "stream",
     "text": [
      "2025-06-29 19:01:51,938 - INFO -   Date          : 2025-05-09\n"
     ]
    },
    {
     "name": "stdout",
     "output_type": "stream",
     "text": [
      "2025-06-29 19:01:51,944 - INFO -   Scheme        : EW\n"
     ]
    },
    {
     "name": "stdout",
     "output_type": "stream",
     "text": [
      "2025-06-29 19:01:51,945 - INFO -   Num Tickers   : 10\n"
     ]
    },
    {
     "name": "stdout",
     "output_type": "stream",
     "text": [
      "2025-06-29 19:01:51,947 - INFO -   Selection Date Used: 2025-05-09\n"
     ]
    },
    {
     "name": "stdout",
     "output_type": "stream",
     "text": [
      "2025-06-29 19:01:51,950 - INFO -   Buy Date           : 2025-05-12\n"
     ]
    },
    {
     "name": "stdout",
     "output_type": "stream",
     "text": [
      "2025-06-29 19:01:51,952 - INFO -   Sell Date          : 2025-05-13\n"
     ]
    },
    {
     "name": "stdout",
     "output_type": "stream",
     "text": [
      "2025-06-29 19:01:51,964 - INFO -   Trades Executed: 10/10\n"
     ]
    },
    {
     "name": "stdout",
     "output_type": "stream",
     "text": [
      "2025-06-29 19:01:51,966 - INFO -   Portfolio Return : -0.0248\n"
     ]
    },
    {
     "name": "stdout",
     "output_type": "stream",
     "text": [
      "2025-06-29 19:01:51,967 - INFO -   Win Rate         : 30.00%\n"
     ]
    },
    {
     "name": "stdout",
     "output_type": "stream",
     "text": [
      "2025-06-29 19:01:51,970 - INFO - Backtest simulation for 'EW' on 2025-05-09 completed.\n"
     ]
    },
    {
     "name": "stdout",
     "output_type": "stream",
     "text": [
      "2025-06-29 19:01:51,972 - INFO - ------------------------------\n"
     ]
    },
    {
     "name": "stdout",
     "output_type": "stream",
     "text": [
      "2025-06-29 19:01:51,975 - INFO - Initiating Backtest Run...\n"
     ]
    },
    {
     "name": "stdout",
     "output_type": "stream",
     "text": [
      "2025-06-29 19:01:51,977 - INFO -   Date          : 2025-05-09\n"
     ]
    },
    {
     "name": "stdout",
     "output_type": "stream",
     "text": [
      "2025-06-29 19:01:51,979 - INFO -   Scheme        : IV\n"
     ]
    },
    {
     "name": "stdout",
     "output_type": "stream",
     "text": [
      "2025-06-29 19:01:51,981 - INFO -   Num Tickers   : 10\n"
     ]
    },
    {
     "name": "stdout",
     "output_type": "stream",
     "text": [
      "2025-06-29 19:01:51,984 - INFO -   Selection Date Used: 2025-05-09\n"
     ]
    },
    {
     "name": "stdout",
     "output_type": "stream",
     "text": [
      "2025-06-29 19:01:51,985 - INFO -   Buy Date           : 2025-05-12\n"
     ]
    },
    {
     "name": "stdout",
     "output_type": "stream",
     "text": [
      "2025-06-29 19:01:51,988 - INFO -   Sell Date          : 2025-05-13\n"
     ]
    },
    {
     "name": "stdout",
     "output_type": "stream",
     "text": [
      "2025-06-29 19:01:51,996 - INFO -   Trades Executed: 10/10\n"
     ]
    },
    {
     "name": "stdout",
     "output_type": "stream",
     "text": [
      "2025-06-29 19:01:51,998 - INFO -   Portfolio Return : -0.0230\n"
     ]
    },
    {
     "name": "stdout",
     "output_type": "stream",
     "text": [
      "2025-06-29 19:01:51,999 - INFO -   Win Rate         : 30.00%\n"
     ]
    },
    {
     "name": "stdout",
     "output_type": "stream",
     "text": [
      "2025-06-29 19:01:52,001 - INFO - Backtest simulation for 'IV' on 2025-05-09 completed.\n"
     ]
    },
    {
     "name": "stdout",
     "output_type": "stream",
     "text": [
      "2025-06-29 19:01:52,004 - INFO - ------------------------------\n"
     ]
    },
    {
     "name": "stdout",
     "output_type": "stream",
     "text": [
      "2025-06-29 19:01:52,008 - INFO - Initiating Backtest Run...\n"
     ]
    },
    {
     "name": "stdout",
     "output_type": "stream",
     "text": [
      "2025-06-29 19:01:52,010 - INFO -   Date          : 2025-05-09\n"
     ]
    },
    {
     "name": "stdout",
     "output_type": "stream",
     "text": [
      "2025-06-29 19:01:52,012 - INFO -   Scheme        : SW\n"
     ]
    },
    {
     "name": "stdout",
     "output_type": "stream",
     "text": [
      "2025-06-29 19:01:52,013 - INFO -   Num Tickers   : 10\n"
     ]
    },
    {
     "name": "stdout",
     "output_type": "stream",
     "text": [
      "2025-06-29 19:01:52,016 - INFO -   Selection Date Used: 2025-05-09\n"
     ]
    },
    {
     "name": "stdout",
     "output_type": "stream",
     "text": [
      "2025-06-29 19:01:52,017 - INFO -   Buy Date           : 2025-05-12\n"
     ]
    },
    {
     "name": "stdout",
     "output_type": "stream",
     "text": [
      "2025-06-29 19:01:52,019 - INFO -   Sell Date          : 2025-05-13\n"
     ]
    },
    {
     "name": "stdout",
     "output_type": "stream",
     "text": [
      "2025-06-29 19:01:52,028 - INFO -   Trades Executed: 10/10\n"
     ]
    },
    {
     "name": "stdout",
     "output_type": "stream",
     "text": [
      "2025-06-29 19:01:52,030 - INFO -   Portfolio Return : -0.0236\n"
     ]
    },
    {
     "name": "stdout",
     "output_type": "stream",
     "text": [
      "2025-06-29 19:01:52,032 - INFO -   Win Rate         : 30.00%\n"
     ]
    },
    {
     "name": "stdout",
     "output_type": "stream",
     "text": [
      "2025-06-29 19:01:52,034 - INFO - Backtest simulation for 'SW' on 2025-05-09 completed.\n"
     ]
    },
    {
     "name": "stdout",
     "output_type": "stream",
     "text": [
      "2025-06-29 19:01:52,050 - INFO - ------------------------------\n"
     ]
    },
    {
     "name": "stdout",
     "output_type": "stream",
     "text": [
      "2025-06-29 19:01:52,052 - INFO - Initiating Backtest Run...\n"
     ]
    },
    {
     "name": "stdout",
     "output_type": "stream",
     "text": [
      "2025-06-29 19:01:52,054 - INFO -   Date          : 2025-05-12\n"
     ]
    },
    {
     "name": "stdout",
     "output_type": "stream",
     "text": [
      "2025-06-29 19:01:52,060 - INFO -   Scheme        : EW\n"
     ]
    },
    {
     "name": "stdout",
     "output_type": "stream",
     "text": [
      "2025-06-29 19:01:52,063 - INFO -   Num Tickers   : 10\n"
     ]
    },
    {
     "name": "stdout",
     "output_type": "stream",
     "text": [
      "2025-06-29 19:01:52,065 - INFO -   Selection Date Used: 2025-05-12\n"
     ]
    },
    {
     "name": "stdout",
     "output_type": "stream",
     "text": [
      "2025-06-29 19:01:52,068 - INFO -   Buy Date           : 2025-05-13\n"
     ]
    },
    {
     "name": "stdout",
     "output_type": "stream",
     "text": [
      "2025-06-29 19:01:52,069 - INFO -   Sell Date          : 2025-05-14\n"
     ]
    },
    {
     "name": "stdout",
     "output_type": "stream",
     "text": [
      "2025-06-29 19:01:52,080 - INFO -   Trades Executed: 10/10\n"
     ]
    },
    {
     "name": "stdout",
     "output_type": "stream",
     "text": [
      "2025-06-29 19:01:52,082 - INFO -   Portfolio Return : -0.0166\n"
     ]
    },
    {
     "name": "stdout",
     "output_type": "stream",
     "text": [
      "2025-06-29 19:01:52,084 - INFO -   Win Rate         : 10.00%\n"
     ]
    },
    {
     "name": "stdout",
     "output_type": "stream",
     "text": [
      "2025-06-29 19:01:52,085 - INFO - Backtest simulation for 'EW' on 2025-05-12 completed.\n"
     ]
    },
    {
     "name": "stdout",
     "output_type": "stream",
     "text": [
      "2025-06-29 19:01:52,087 - INFO - ------------------------------\n"
     ]
    },
    {
     "name": "stdout",
     "output_type": "stream",
     "text": [
      "2025-06-29 19:01:52,092 - INFO - Initiating Backtest Run...\n"
     ]
    },
    {
     "name": "stdout",
     "output_type": "stream",
     "text": [
      "2025-06-29 19:01:52,094 - INFO -   Date          : 2025-05-12\n"
     ]
    },
    {
     "name": "stdout",
     "output_type": "stream",
     "text": [
      "2025-06-29 19:01:52,095 - INFO -   Scheme        : IV\n"
     ]
    },
    {
     "name": "stdout",
     "output_type": "stream",
     "text": [
      "2025-06-29 19:01:52,097 - INFO -   Num Tickers   : 10\n"
     ]
    },
    {
     "name": "stdout",
     "output_type": "stream",
     "text": [
      "2025-06-29 19:01:52,099 - INFO -   Selection Date Used: 2025-05-12\n"
     ]
    },
    {
     "name": "stdout",
     "output_type": "stream",
     "text": [
      "2025-06-29 19:01:52,101 - INFO -   Buy Date           : 2025-05-13\n"
     ]
    },
    {
     "name": "stdout",
     "output_type": "stream",
     "text": [
      "2025-06-29 19:01:52,103 - INFO -   Sell Date          : 2025-05-14\n"
     ]
    },
    {
     "name": "stdout",
     "output_type": "stream",
     "text": [
      "2025-06-29 19:01:52,113 - INFO -   Trades Executed: 10/10\n"
     ]
    },
    {
     "name": "stdout",
     "output_type": "stream",
     "text": [
      "2025-06-29 19:01:52,115 - INFO -   Portfolio Return : -0.0136\n"
     ]
    },
    {
     "name": "stdout",
     "output_type": "stream",
     "text": [
      "2025-06-29 19:01:52,117 - INFO -   Win Rate         : 10.00%\n"
     ]
    },
    {
     "name": "stdout",
     "output_type": "stream",
     "text": [
      "2025-06-29 19:01:52,119 - INFO - Backtest simulation for 'IV' on 2025-05-12 completed.\n"
     ]
    },
    {
     "name": "stdout",
     "output_type": "stream",
     "text": [
      "2025-06-29 19:01:52,121 - INFO - ------------------------------\n"
     ]
    },
    {
     "name": "stdout",
     "output_type": "stream",
     "text": [
      "2025-06-29 19:01:52,125 - INFO - Initiating Backtest Run...\n"
     ]
    },
    {
     "name": "stdout",
     "output_type": "stream",
     "text": [
      "2025-06-29 19:01:52,127 - INFO -   Date          : 2025-05-12\n"
     ]
    },
    {
     "name": "stdout",
     "output_type": "stream",
     "text": [
      "2025-06-29 19:01:52,129 - INFO -   Scheme        : SW\n"
     ]
    },
    {
     "name": "stdout",
     "output_type": "stream",
     "text": [
      "2025-06-29 19:01:52,130 - INFO -   Num Tickers   : 10\n"
     ]
    },
    {
     "name": "stdout",
     "output_type": "stream",
     "text": [
      "2025-06-29 19:01:52,132 - INFO -   Selection Date Used: 2025-05-12\n"
     ]
    },
    {
     "name": "stdout",
     "output_type": "stream",
     "text": [
      "2025-06-29 19:01:52,134 - INFO -   Buy Date           : 2025-05-13\n"
     ]
    },
    {
     "name": "stdout",
     "output_type": "stream",
     "text": [
      "2025-06-29 19:01:52,136 - INFO -   Sell Date          : 2025-05-14\n"
     ]
    },
    {
     "name": "stdout",
     "output_type": "stream",
     "text": [
      "2025-06-29 19:01:52,146 - INFO -   Trades Executed: 10/10\n"
     ]
    },
    {
     "name": "stdout",
     "output_type": "stream",
     "text": [
      "2025-06-29 19:01:52,147 - INFO -   Portfolio Return : -0.0166\n"
     ]
    },
    {
     "name": "stdout",
     "output_type": "stream",
     "text": [
      "2025-06-29 19:01:52,149 - INFO -   Win Rate         : 10.00%\n"
     ]
    },
    {
     "name": "stdout",
     "output_type": "stream",
     "text": [
      "2025-06-29 19:01:52,151 - INFO - Backtest simulation for 'SW' on 2025-05-12 completed.\n"
     ]
    },
    {
     "name": "stdout",
     "output_type": "stream",
     "text": [
      "2025-06-29 19:01:52,167 - INFO - ------------------------------\n"
     ]
    },
    {
     "name": "stdout",
     "output_type": "stream",
     "text": [
      "2025-06-29 19:01:52,168 - INFO - Initiating Backtest Run...\n"
     ]
    },
    {
     "name": "stdout",
     "output_type": "stream",
     "text": [
      "2025-06-29 19:01:52,178 - INFO -   Date          : 2025-05-13\n"
     ]
    },
    {
     "name": "stdout",
     "output_type": "stream",
     "text": [
      "2025-06-29 19:01:52,179 - INFO -   Scheme        : EW\n"
     ]
    },
    {
     "name": "stdout",
     "output_type": "stream",
     "text": [
      "2025-06-29 19:01:52,182 - INFO -   Num Tickers   : 10\n"
     ]
    },
    {
     "name": "stdout",
     "output_type": "stream",
     "text": [
      "2025-06-29 19:01:52,184 - INFO -   Selection Date Used: 2025-05-13\n"
     ]
    },
    {
     "name": "stdout",
     "output_type": "stream",
     "text": [
      "2025-06-29 19:01:52,185 - INFO -   Buy Date           : 2025-05-14\n"
     ]
    },
    {
     "name": "stdout",
     "output_type": "stream",
     "text": [
      "2025-06-29 19:01:52,187 - INFO -   Sell Date          : 2025-05-15\n"
     ]
    },
    {
     "name": "stdout",
     "output_type": "stream",
     "text": [
      "2025-06-29 19:01:52,197 - INFO -   Trades Executed: 10/10\n"
     ]
    },
    {
     "name": "stdout",
     "output_type": "stream",
     "text": [
      "2025-06-29 19:01:52,198 - INFO -   Portfolio Return : 0.0060\n"
     ]
    },
    {
     "name": "stdout",
     "output_type": "stream",
     "text": [
      "2025-06-29 19:01:52,201 - INFO -   Win Rate         : 90.00%\n"
     ]
    },
    {
     "name": "stdout",
     "output_type": "stream",
     "text": [
      "2025-06-29 19:01:52,203 - INFO - Backtest simulation for 'EW' on 2025-05-13 completed.\n"
     ]
    },
    {
     "name": "stdout",
     "output_type": "stream",
     "text": [
      "2025-06-29 19:01:52,205 - INFO - ------------------------------\n"
     ]
    },
    {
     "name": "stdout",
     "output_type": "stream",
     "text": [
      "2025-06-29 19:01:52,210 - INFO - Initiating Backtest Run...\n"
     ]
    },
    {
     "name": "stdout",
     "output_type": "stream",
     "text": [
      "2025-06-29 19:01:52,212 - INFO -   Date          : 2025-05-13\n"
     ]
    },
    {
     "name": "stdout",
     "output_type": "stream",
     "text": [
      "2025-06-29 19:01:52,214 - INFO -   Scheme        : IV\n"
     ]
    },
    {
     "name": "stdout",
     "output_type": "stream",
     "text": [
      "2025-06-29 19:01:52,216 - INFO -   Num Tickers   : 10\n"
     ]
    },
    {
     "name": "stdout",
     "output_type": "stream",
     "text": [
      "2025-06-29 19:01:52,218 - INFO -   Selection Date Used: 2025-05-13\n"
     ]
    },
    {
     "name": "stdout",
     "output_type": "stream",
     "text": [
      "2025-06-29 19:01:52,220 - INFO -   Buy Date           : 2025-05-14\n"
     ]
    },
    {
     "name": "stdout",
     "output_type": "stream",
     "text": [
      "2025-06-29 19:01:52,222 - INFO -   Sell Date          : 2025-05-15\n"
     ]
    },
    {
     "name": "stdout",
     "output_type": "stream",
     "text": [
      "2025-06-29 19:01:52,231 - INFO -   Trades Executed: 10/10\n"
     ]
    },
    {
     "name": "stdout",
     "output_type": "stream",
     "text": [
      "2025-06-29 19:01:52,233 - INFO -   Portfolio Return : 0.0141\n"
     ]
    },
    {
     "name": "stdout",
     "output_type": "stream",
     "text": [
      "2025-06-29 19:01:52,235 - INFO -   Win Rate         : 90.00%\n"
     ]
    },
    {
     "name": "stdout",
     "output_type": "stream",
     "text": [
      "2025-06-29 19:01:52,237 - INFO - Backtest simulation for 'IV' on 2025-05-13 completed.\n"
     ]
    },
    {
     "name": "stdout",
     "output_type": "stream",
     "text": [
      "2025-06-29 19:01:52,242 - INFO - ------------------------------\n"
     ]
    },
    {
     "name": "stdout",
     "output_type": "stream",
     "text": [
      "2025-06-29 19:01:52,244 - INFO - Initiating Backtest Run...\n"
     ]
    },
    {
     "name": "stdout",
     "output_type": "stream",
     "text": [
      "2025-06-29 19:01:52,245 - INFO -   Date          : 2025-05-13\n"
     ]
    },
    {
     "name": "stdout",
     "output_type": "stream",
     "text": [
      "2025-06-29 19:01:52,248 - INFO -   Scheme        : SW\n"
     ]
    },
    {
     "name": "stdout",
     "output_type": "stream",
     "text": [
      "2025-06-29 19:01:52,250 - INFO -   Num Tickers   : 10\n"
     ]
    },
    {
     "name": "stdout",
     "output_type": "stream",
     "text": [
      "2025-06-29 19:01:52,252 - INFO -   Selection Date Used: 2025-05-13\n"
     ]
    },
    {
     "name": "stdout",
     "output_type": "stream",
     "text": [
      "2025-06-29 19:01:52,254 - INFO -   Buy Date           : 2025-05-14\n"
     ]
    },
    {
     "name": "stdout",
     "output_type": "stream",
     "text": [
      "2025-06-29 19:01:52,260 - INFO -   Sell Date          : 2025-05-15\n"
     ]
    },
    {
     "name": "stdout",
     "output_type": "stream",
     "text": [
      "2025-06-29 19:01:52,268 - INFO -   Trades Executed: 10/10\n"
     ]
    },
    {
     "name": "stdout",
     "output_type": "stream",
     "text": [
      "2025-06-29 19:01:52,270 - INFO -   Portfolio Return : -0.0208\n"
     ]
    },
    {
     "name": "stdout",
     "output_type": "stream",
     "text": [
      "2025-06-29 19:01:52,272 - INFO -   Win Rate         : 90.00%\n"
     ]
    },
    {
     "name": "stdout",
     "output_type": "stream",
     "text": [
      "2025-06-29 19:01:52,275 - INFO - Backtest simulation for 'SW' on 2025-05-13 completed.\n"
     ]
    },
    {
     "name": "stdout",
     "output_type": "stream",
     "text": [
      "2025-06-29 19:01:52,297 - INFO - ------------------------------\n"
     ]
    },
    {
     "name": "stdout",
     "output_type": "stream",
     "text": [
      "2025-06-29 19:01:52,300 - INFO - Initiating Backtest Run...\n"
     ]
    },
    {
     "name": "stdout",
     "output_type": "stream",
     "text": [
      "2025-06-29 19:01:52,301 - INFO -   Date          : 2025-05-14\n"
     ]
    },
    {
     "name": "stdout",
     "output_type": "stream",
     "text": [
      "2025-06-29 19:01:52,304 - INFO -   Scheme        : EW\n"
     ]
    },
    {
     "name": "stdout",
     "output_type": "stream",
     "text": [
      "2025-06-29 19:01:52,309 - INFO -   Num Tickers   : 10\n"
     ]
    },
    {
     "name": "stdout",
     "output_type": "stream",
     "text": [
      "2025-06-29 19:01:52,312 - INFO -   Selection Date Used: 2025-05-14\n"
     ]
    },
    {
     "name": "stdout",
     "output_type": "stream",
     "text": [
      "2025-06-29 19:01:52,314 - INFO -   Buy Date           : 2025-05-15\n"
     ]
    },
    {
     "name": "stdout",
     "output_type": "stream",
     "text": [
      "2025-06-29 19:01:52,315 - INFO -   Sell Date          : 2025-05-16\n"
     ]
    },
    {
     "name": "stdout",
     "output_type": "stream",
     "text": [
      "2025-06-29 19:01:52,322 - INFO -   Trades Executed: 10/10\n"
     ]
    },
    {
     "name": "stdout",
     "output_type": "stream",
     "text": [
      "2025-06-29 19:01:52,327 - INFO -   Portfolio Return : 0.0194\n"
     ]
    },
    {
     "name": "stdout",
     "output_type": "stream",
     "text": [
      "2025-06-29 19:01:52,328 - INFO -   Win Rate         : 90.00%\n"
     ]
    },
    {
     "name": "stdout",
     "output_type": "stream",
     "text": [
      "2025-06-29 19:01:52,330 - INFO - Backtest simulation for 'EW' on 2025-05-14 completed.\n"
     ]
    },
    {
     "name": "stdout",
     "output_type": "stream",
     "text": [
      "2025-06-29 19:01:52,333 - INFO - ------------------------------\n"
     ]
    },
    {
     "name": "stdout",
     "output_type": "stream",
     "text": [
      "2025-06-29 19:01:52,334 - INFO - Initiating Backtest Run...\n"
     ]
    },
    {
     "name": "stdout",
     "output_type": "stream",
     "text": [
      "2025-06-29 19:01:52,336 - INFO -   Date          : 2025-05-14\n"
     ]
    },
    {
     "name": "stdout",
     "output_type": "stream",
     "text": [
      "2025-06-29 19:01:52,337 - INFO -   Scheme        : IV\n"
     ]
    },
    {
     "name": "stdout",
     "output_type": "stream",
     "text": [
      "2025-06-29 19:01:52,342 - INFO -   Num Tickers   : 10\n"
     ]
    },
    {
     "name": "stdout",
     "output_type": "stream",
     "text": [
      "2025-06-29 19:01:52,345 - INFO -   Selection Date Used: 2025-05-14\n"
     ]
    },
    {
     "name": "stdout",
     "output_type": "stream",
     "text": [
      "2025-06-29 19:01:52,347 - INFO -   Buy Date           : 2025-05-15\n"
     ]
    },
    {
     "name": "stdout",
     "output_type": "stream",
     "text": [
      "2025-06-29 19:01:52,349 - INFO -   Sell Date          : 2025-05-16\n"
     ]
    },
    {
     "name": "stdout",
     "output_type": "stream",
     "text": [
      "2025-06-29 19:01:52,354 - INFO -   Trades Executed: 10/10\n"
     ]
    },
    {
     "name": "stdout",
     "output_type": "stream",
     "text": [
      "2025-06-29 19:01:52,360 - INFO -   Portfolio Return : 0.0177\n"
     ]
    },
    {
     "name": "stdout",
     "output_type": "stream",
     "text": [
      "2025-06-29 19:01:52,362 - INFO -   Win Rate         : 90.00%\n"
     ]
    },
    {
     "name": "stdout",
     "output_type": "stream",
     "text": [
      "2025-06-29 19:01:52,365 - INFO - Backtest simulation for 'IV' on 2025-05-14 completed.\n"
     ]
    },
    {
     "name": "stdout",
     "output_type": "stream",
     "text": [
      "2025-06-29 19:01:52,367 - INFO - ------------------------------\n"
     ]
    },
    {
     "name": "stdout",
     "output_type": "stream",
     "text": [
      "2025-06-29 19:01:52,369 - INFO - Initiating Backtest Run...\n"
     ]
    },
    {
     "name": "stdout",
     "output_type": "stream",
     "text": [
      "2025-06-29 19:01:52,370 - INFO -   Date          : 2025-05-14\n"
     ]
    },
    {
     "name": "stdout",
     "output_type": "stream",
     "text": [
      "2025-06-29 19:01:52,373 - INFO -   Scheme        : SW\n"
     ]
    },
    {
     "name": "stdout",
     "output_type": "stream",
     "text": [
      "2025-06-29 19:01:52,376 - INFO -   Num Tickers   : 10\n"
     ]
    },
    {
     "name": "stdout",
     "output_type": "stream",
     "text": [
      "2025-06-29 19:01:52,379 - INFO -   Selection Date Used: 2025-05-14\n"
     ]
    },
    {
     "name": "stdout",
     "output_type": "stream",
     "text": [
      "2025-06-29 19:01:52,380 - INFO -   Buy Date           : 2025-05-15\n"
     ]
    },
    {
     "name": "stdout",
     "output_type": "stream",
     "text": [
      "2025-06-29 19:01:52,382 - INFO -   Sell Date          : 2025-05-16\n"
     ]
    },
    {
     "name": "stdout",
     "output_type": "stream",
     "text": [
      "2025-06-29 19:01:52,389 - INFO -   Trades Executed: 10/10\n"
     ]
    },
    {
     "name": "stdout",
     "output_type": "stream",
     "text": [
      "2025-06-29 19:01:52,394 - INFO -   Portfolio Return : 0.0245\n"
     ]
    },
    {
     "name": "stdout",
     "output_type": "stream",
     "text": [
      "2025-06-29 19:01:52,397 - INFO -   Win Rate         : 90.00%\n"
     ]
    },
    {
     "name": "stdout",
     "output_type": "stream",
     "text": [
      "2025-06-29 19:01:52,399 - INFO - Backtest simulation for 'SW' on 2025-05-14 completed.\n"
     ]
    },
    {
     "name": "stdout",
     "output_type": "stream",
     "text": [
      "2025-06-29 19:01:52,416 - INFO - ------------------------------\n"
     ]
    },
    {
     "name": "stdout",
     "output_type": "stream",
     "text": [
      "2025-06-29 19:01:52,417 - INFO - Initiating Backtest Run...\n"
     ]
    },
    {
     "name": "stdout",
     "output_type": "stream",
     "text": [
      "2025-06-29 19:01:52,419 - INFO -   Date          : 2025-05-15\n"
     ]
    },
    {
     "name": "stdout",
     "output_type": "stream",
     "text": [
      "2025-06-29 19:01:52,420 - INFO -   Scheme        : EW\n"
     ]
    },
    {
     "name": "stdout",
     "output_type": "stream",
     "text": [
      "2025-06-29 19:01:52,426 - INFO -   Num Tickers   : 10\n"
     ]
    },
    {
     "name": "stdout",
     "output_type": "stream",
     "text": [
      "2025-06-29 19:01:52,428 - INFO -   Selection Date Used: 2025-05-15\n"
     ]
    },
    {
     "name": "stdout",
     "output_type": "stream",
     "text": [
      "2025-06-29 19:01:52,430 - INFO -   Buy Date           : 2025-05-16\n"
     ]
    },
    {
     "name": "stdout",
     "output_type": "stream",
     "text": [
      "2025-06-29 19:01:52,432 - INFO -   Sell Date          : 2025-05-19\n"
     ]
    },
    {
     "name": "stdout",
     "output_type": "stream",
     "text": [
      "2025-06-29 19:01:52,438 - INFO -   Trades Executed: 10/10\n"
     ]
    },
    {
     "name": "stdout",
     "output_type": "stream",
     "text": [
      "2025-06-29 19:01:52,443 - INFO -   Portfolio Return : 0.0110\n"
     ]
    },
    {
     "name": "stdout",
     "output_type": "stream",
     "text": [
      "2025-06-29 19:01:52,444 - INFO -   Win Rate         : 60.00%\n"
     ]
    },
    {
     "name": "stdout",
     "output_type": "stream",
     "text": [
      "2025-06-29 19:01:52,446 - INFO - Backtest simulation for 'EW' on 2025-05-15 completed.\n"
     ]
    },
    {
     "name": "stdout",
     "output_type": "stream",
     "text": [
      "2025-06-29 19:01:52,448 - INFO - ------------------------------\n"
     ]
    },
    {
     "name": "stdout",
     "output_type": "stream",
     "text": [
      "2025-06-29 19:01:52,450 - INFO - Initiating Backtest Run...\n"
     ]
    },
    {
     "name": "stdout",
     "output_type": "stream",
     "text": [
      "2025-06-29 19:01:52,452 - INFO -   Date          : 2025-05-15\n"
     ]
    },
    {
     "name": "stdout",
     "output_type": "stream",
     "text": [
      "2025-06-29 19:01:52,453 - INFO -   Scheme        : IV\n"
     ]
    },
    {
     "name": "stdout",
     "output_type": "stream",
     "text": [
      "2025-06-29 19:01:52,459 - INFO -   Num Tickers   : 10\n"
     ]
    },
    {
     "name": "stdout",
     "output_type": "stream",
     "text": [
      "2025-06-29 19:01:52,462 - INFO -   Selection Date Used: 2025-05-15\n"
     ]
    },
    {
     "name": "stdout",
     "output_type": "stream",
     "text": [
      "2025-06-29 19:01:52,463 - INFO -   Buy Date           : 2025-05-16\n"
     ]
    },
    {
     "name": "stdout",
     "output_type": "stream",
     "text": [
      "2025-06-29 19:01:52,465 - INFO -   Sell Date          : 2025-05-19\n"
     ]
    },
    {
     "name": "stdout",
     "output_type": "stream",
     "text": [
      "2025-06-29 19:01:52,472 - INFO -   Trades Executed: 10/10\n"
     ]
    },
    {
     "name": "stdout",
     "output_type": "stream",
     "text": [
      "2025-06-29 19:01:52,475 - INFO -   Portfolio Return : 0.0081\n"
     ]
    },
    {
     "name": "stdout",
     "output_type": "stream",
     "text": [
      "2025-06-29 19:01:52,477 - INFO -   Win Rate         : 60.00%\n"
     ]
    },
    {
     "name": "stdout",
     "output_type": "stream",
     "text": [
      "2025-06-29 19:01:52,479 - INFO - Backtest simulation for 'IV' on 2025-05-15 completed.\n"
     ]
    },
    {
     "name": "stdout",
     "output_type": "stream",
     "text": [
      "2025-06-29 19:01:52,482 - INFO - ------------------------------\n"
     ]
    },
    {
     "name": "stdout",
     "output_type": "stream",
     "text": [
      "2025-06-29 19:01:52,483 - INFO - Initiating Backtest Run...\n"
     ]
    },
    {
     "name": "stdout",
     "output_type": "stream",
     "text": [
      "2025-06-29 19:01:52,484 - INFO -   Date          : 2025-05-15\n"
     ]
    },
    {
     "name": "stdout",
     "output_type": "stream",
     "text": [
      "2025-06-29 19:01:52,486 - INFO -   Scheme        : SW\n"
     ]
    },
    {
     "name": "stdout",
     "output_type": "stream",
     "text": [
      "2025-06-29 19:01:52,488 - INFO -   Num Tickers   : 10\n"
     ]
    },
    {
     "name": "stdout",
     "output_type": "stream",
     "text": [
      "2025-06-29 19:01:52,494 - INFO -   Selection Date Used: 2025-05-15\n"
     ]
    },
    {
     "name": "stdout",
     "output_type": "stream",
     "text": [
      "2025-06-29 19:01:52,496 - INFO -   Buy Date           : 2025-05-16\n"
     ]
    },
    {
     "name": "stdout",
     "output_type": "stream",
     "text": [
      "2025-06-29 19:01:52,498 - INFO -   Sell Date          : 2025-05-19\n"
     ]
    },
    {
     "name": "stdout",
     "output_type": "stream",
     "text": [
      "2025-06-29 19:01:52,504 - INFO -   Trades Executed: 10/10\n"
     ]
    },
    {
     "name": "stdout",
     "output_type": "stream",
     "text": [
      "2025-06-29 19:01:52,509 - INFO -   Portfolio Return : 0.0270\n"
     ]
    },
    {
     "name": "stdout",
     "output_type": "stream",
     "text": [
      "2025-06-29 19:01:52,512 - INFO -   Win Rate         : 60.00%\n"
     ]
    },
    {
     "name": "stdout",
     "output_type": "stream",
     "text": [
      "2025-06-29 19:01:52,514 - INFO - Backtest simulation for 'SW' on 2025-05-15 completed.\n"
     ]
    },
    {
     "name": "stdout",
     "output_type": "stream",
     "text": [
      "2025-06-29 19:01:52,530 - INFO - ------------------------------\n"
     ]
    },
    {
     "name": "stdout",
     "output_type": "stream",
     "text": [
      "2025-06-29 19:01:52,532 - INFO - Initiating Backtest Run...\n"
     ]
    },
    {
     "name": "stdout",
     "output_type": "stream",
     "text": [
      "2025-06-29 19:01:52,534 - INFO -   Date          : 2025-05-16\n"
     ]
    },
    {
     "name": "stdout",
     "output_type": "stream",
     "text": [
      "2025-06-29 19:01:52,536 - INFO -   Scheme        : EW\n"
     ]
    },
    {
     "name": "stdout",
     "output_type": "stream",
     "text": [
      "2025-06-29 19:01:52,538 - INFO -   Num Tickers   : 10\n"
     ]
    },
    {
     "name": "stdout",
     "output_type": "stream",
     "text": [
      "2025-06-29 19:01:52,543 - INFO -   Selection Date Used: 2025-05-16\n"
     ]
    },
    {
     "name": "stdout",
     "output_type": "stream",
     "text": [
      "2025-06-29 19:01:52,545 - INFO -   Buy Date           : 2025-05-19\n"
     ]
    },
    {
     "name": "stdout",
     "output_type": "stream",
     "text": [
      "2025-06-29 19:01:52,546 - INFO -   Sell Date          : 2025-05-20\n"
     ]
    },
    {
     "name": "stdout",
     "output_type": "stream",
     "text": [
      "2025-06-29 19:01:52,551 - WARNING -     - Ticker DFS not in price data. Skipping.\n"
     ]
    },
    {
     "name": "stdout",
     "output_type": "stream",
     "text": [
      "2025-06-29 19:01:52,554 - INFO -   Trades Executed: 9/10\n"
     ]
    },
    {
     "name": "stdout",
     "output_type": "stream",
     "text": [
      "2025-06-29 19:01:52,559 - INFO -   Portfolio Return : 0.0003\n"
     ]
    },
    {
     "name": "stdout",
     "output_type": "stream",
     "text": [
      "2025-06-29 19:01:52,562 - INFO -   Win Rate         : 44.44%\n"
     ]
    },
    {
     "name": "stdout",
     "output_type": "stream",
     "text": [
      "2025-06-29 19:01:52,563 - INFO - Backtest simulation for 'EW' on 2025-05-16 completed.\n"
     ]
    },
    {
     "name": "stdout",
     "output_type": "stream",
     "text": [
      "2025-06-29 19:01:52,566 - INFO - ------------------------------\n"
     ]
    },
    {
     "name": "stdout",
     "output_type": "stream",
     "text": [
      "2025-06-29 19:01:52,567 - INFO - Initiating Backtest Run...\n"
     ]
    },
    {
     "name": "stdout",
     "output_type": "stream",
     "text": [
      "2025-06-29 19:01:52,570 - INFO -   Date          : 2025-05-16\n"
     ]
    },
    {
     "name": "stdout",
     "output_type": "stream",
     "text": [
      "2025-06-29 19:01:52,571 - INFO -   Scheme        : IV\n"
     ]
    },
    {
     "name": "stdout",
     "output_type": "stream",
     "text": [
      "2025-06-29 19:01:52,575 - INFO -   Num Tickers   : 10\n"
     ]
    },
    {
     "name": "stdout",
     "output_type": "stream",
     "text": [
      "2025-06-29 19:01:52,578 - INFO -   Selection Date Used: 2025-05-16\n"
     ]
    },
    {
     "name": "stdout",
     "output_type": "stream",
     "text": [
      "2025-06-29 19:01:52,579 - INFO -   Buy Date           : 2025-05-19\n"
     ]
    },
    {
     "name": "stdout",
     "output_type": "stream",
     "text": [
      "2025-06-29 19:01:52,581 - INFO -   Sell Date          : 2025-05-20\n"
     ]
    },
    {
     "name": "stdout",
     "output_type": "stream",
     "text": [
      "2025-06-29 19:01:52,586 - WARNING -     - Ticker DFS not in price data. Skipping.\n"
     ]
    },
    {
     "name": "stdout",
     "output_type": "stream",
     "text": [
      "2025-06-29 19:01:52,592 - INFO -   Trades Executed: 9/10\n"
     ]
    },
    {
     "name": "stdout",
     "output_type": "stream",
     "text": [
      "2025-06-29 19:01:52,594 - INFO -   Portfolio Return : 0.0009\n"
     ]
    },
    {
     "name": "stdout",
     "output_type": "stream",
     "text": [
      "2025-06-29 19:01:52,596 - INFO -   Win Rate         : 44.44%\n"
     ]
    },
    {
     "name": "stdout",
     "output_type": "stream",
     "text": [
      "2025-06-29 19:01:52,598 - INFO - Backtest simulation for 'IV' on 2025-05-16 completed.\n"
     ]
    },
    {
     "name": "stdout",
     "output_type": "stream",
     "text": [
      "2025-06-29 19:01:52,601 - INFO - ------------------------------\n"
     ]
    },
    {
     "name": "stdout",
     "output_type": "stream",
     "text": [
      "2025-06-29 19:01:52,604 - INFO - Initiating Backtest Run...\n"
     ]
    },
    {
     "name": "stdout",
     "output_type": "stream",
     "text": [
      "2025-06-29 19:01:52,605 - INFO -   Date          : 2025-05-16\n"
     ]
    },
    {
     "name": "stdout",
     "output_type": "stream",
     "text": [
      "2025-06-29 19:01:52,612 - INFO -   Scheme        : SW\n"
     ]
    },
    {
     "name": "stdout",
     "output_type": "stream",
     "text": [
      "2025-06-29 19:01:52,614 - INFO -   Num Tickers   : 10\n"
     ]
    },
    {
     "name": "stdout",
     "output_type": "stream",
     "text": [
      "2025-06-29 19:01:52,616 - INFO -   Selection Date Used: 2025-05-16\n"
     ]
    },
    {
     "name": "stdout",
     "output_type": "stream",
     "text": [
      "2025-06-29 19:01:52,617 - INFO -   Buy Date           : 2025-05-19\n"
     ]
    },
    {
     "name": "stdout",
     "output_type": "stream",
     "text": [
      "2025-06-29 19:01:52,620 - INFO -   Sell Date          : 2025-05-20\n"
     ]
    },
    {
     "name": "stdout",
     "output_type": "stream",
     "text": [
      "2025-06-29 19:01:52,627 - WARNING -     - Ticker DFS not in price data. Skipping.\n"
     ]
    },
    {
     "name": "stdout",
     "output_type": "stream",
     "text": [
      "2025-06-29 19:01:52,630 - INFO -   Trades Executed: 9/10\n"
     ]
    },
    {
     "name": "stdout",
     "output_type": "stream",
     "text": [
      "2025-06-29 19:01:52,632 - INFO -   Portfolio Return : -0.0023\n"
     ]
    },
    {
     "name": "stdout",
     "output_type": "stream",
     "text": [
      "2025-06-29 19:01:52,634 - INFO -   Win Rate         : 44.44%\n"
     ]
    },
    {
     "name": "stdout",
     "output_type": "stream",
     "text": [
      "2025-06-29 19:01:52,635 - INFO - Backtest simulation for 'SW' on 2025-05-16 completed.\n"
     ]
    },
    {
     "name": "stdout",
     "output_type": "stream",
     "text": [
      "2025-06-29 19:01:52,650 - INFO - ------------------------------\n"
     ]
    },
    {
     "name": "stdout",
     "output_type": "stream",
     "text": [
      "2025-06-29 19:01:52,652 - INFO - Initiating Backtest Run...\n"
     ]
    },
    {
     "name": "stdout",
     "output_type": "stream",
     "text": [
      "2025-06-29 19:01:52,653 - INFO -   Date          : 2025-05-19\n"
     ]
    },
    {
     "name": "stdout",
     "output_type": "stream",
     "text": [
      "2025-06-29 19:01:52,658 - INFO -   Scheme        : EW\n"
     ]
    },
    {
     "name": "stdout",
     "output_type": "stream",
     "text": [
      "2025-06-29 19:01:52,662 - INFO -   Num Tickers   : 10\n"
     ]
    },
    {
     "name": "stdout",
     "output_type": "stream",
     "text": [
      "2025-06-29 19:01:52,662 - INFO -   Selection Date Used: 2025-05-19\n"
     ]
    },
    {
     "name": "stdout",
     "output_type": "stream",
     "text": [
      "2025-06-29 19:01:52,664 - INFO -   Buy Date           : 2025-05-20\n"
     ]
    },
    {
     "name": "stdout",
     "output_type": "stream",
     "text": [
      "2025-06-29 19:01:52,665 - INFO -   Sell Date          : 2025-05-21\n"
     ]
    },
    {
     "name": "stdout",
     "output_type": "stream",
     "text": [
      "2025-06-29 19:01:52,674 - INFO -   Trades Executed: 10/10\n"
     ]
    },
    {
     "name": "stdout",
     "output_type": "stream",
     "text": [
      "2025-06-29 19:01:52,676 - INFO -   Portfolio Return : -0.0311\n"
     ]
    },
    {
     "name": "stdout",
     "output_type": "stream",
     "text": [
      "2025-06-29 19:01:52,678 - INFO -   Win Rate         : 0.00%\n"
     ]
    },
    {
     "name": "stdout",
     "output_type": "stream",
     "text": [
      "2025-06-29 19:01:52,681 - INFO - Backtest simulation for 'EW' on 2025-05-19 completed.\n"
     ]
    },
    {
     "name": "stdout",
     "output_type": "stream",
     "text": [
      "2025-06-29 19:01:52,683 - INFO - ------------------------------\n"
     ]
    },
    {
     "name": "stdout",
     "output_type": "stream",
     "text": [
      "2025-06-29 19:01:52,684 - INFO - Initiating Backtest Run...\n"
     ]
    },
    {
     "name": "stdout",
     "output_type": "stream",
     "text": [
      "2025-06-29 19:01:52,686 - INFO -   Date          : 2025-05-19\n"
     ]
    },
    {
     "name": "stdout",
     "output_type": "stream",
     "text": [
      "2025-06-29 19:01:52,688 - INFO -   Scheme        : IV\n"
     ]
    },
    {
     "name": "stdout",
     "output_type": "stream",
     "text": [
      "2025-06-29 19:01:52,693 - INFO -   Num Tickers   : 10\n"
     ]
    },
    {
     "name": "stdout",
     "output_type": "stream",
     "text": [
      "2025-06-29 19:01:52,695 - INFO -   Selection Date Used: 2025-05-19\n"
     ]
    },
    {
     "name": "stdout",
     "output_type": "stream",
     "text": [
      "2025-06-29 19:01:52,697 - INFO -   Buy Date           : 2025-05-20\n"
     ]
    },
    {
     "name": "stdout",
     "output_type": "stream",
     "text": [
      "2025-06-29 19:01:52,699 - INFO -   Sell Date          : 2025-05-21\n"
     ]
    },
    {
     "name": "stdout",
     "output_type": "stream",
     "text": [
      "2025-06-29 19:01:52,705 - INFO -   Trades Executed: 10/10\n"
     ]
    },
    {
     "name": "stdout",
     "output_type": "stream",
     "text": [
      "2025-06-29 19:01:52,711 - INFO -   Portfolio Return : -0.0248\n"
     ]
    },
    {
     "name": "stdout",
     "output_type": "stream",
     "text": [
      "2025-06-29 19:01:52,713 - INFO -   Win Rate         : 0.00%\n"
     ]
    },
    {
     "name": "stdout",
     "output_type": "stream",
     "text": [
      "2025-06-29 19:01:52,715 - INFO - Backtest simulation for 'IV' on 2025-05-19 completed.\n"
     ]
    },
    {
     "name": "stdout",
     "output_type": "stream",
     "text": [
      "2025-06-29 19:01:52,717 - INFO - ------------------------------\n"
     ]
    },
    {
     "name": "stdout",
     "output_type": "stream",
     "text": [
      "2025-06-29 19:01:52,720 - INFO - Initiating Backtest Run...\n"
     ]
    },
    {
     "name": "stdout",
     "output_type": "stream",
     "text": [
      "2025-06-29 19:01:52,721 - INFO -   Date          : 2025-05-19\n"
     ]
    },
    {
     "name": "stdout",
     "output_type": "stream",
     "text": [
      "2025-06-29 19:01:52,727 - INFO -   Scheme        : SW\n"
     ]
    },
    {
     "name": "stdout",
     "output_type": "stream",
     "text": [
      "2025-06-29 19:01:52,729 - INFO -   Num Tickers   : 10\n"
     ]
    },
    {
     "name": "stdout",
     "output_type": "stream",
     "text": [
      "2025-06-29 19:01:52,731 - INFO -   Selection Date Used: 2025-05-19\n"
     ]
    },
    {
     "name": "stdout",
     "output_type": "stream",
     "text": [
      "2025-06-29 19:01:52,733 - INFO -   Buy Date           : 2025-05-20\n"
     ]
    },
    {
     "name": "stdout",
     "output_type": "stream",
     "text": [
      "2025-06-29 19:01:52,735 - INFO -   Sell Date          : 2025-05-21\n"
     ]
    },
    {
     "name": "stdout",
     "output_type": "stream",
     "text": [
      "2025-06-29 19:01:52,745 - INFO -   Trades Executed: 10/10\n"
     ]
    },
    {
     "name": "stdout",
     "output_type": "stream",
     "text": [
      "2025-06-29 19:01:52,747 - INFO -   Portfolio Return : -0.0337\n"
     ]
    },
    {
     "name": "stdout",
     "output_type": "stream",
     "text": [
      "2025-06-29 19:01:52,748 - INFO -   Win Rate         : 0.00%\n"
     ]
    },
    {
     "name": "stdout",
     "output_type": "stream",
     "text": [
      "2025-06-29 19:01:52,750 - INFO - Backtest simulation for 'SW' on 2025-05-19 completed.\n"
     ]
    },
    {
     "name": "stdout",
     "output_type": "stream",
     "text": [
      "2025-06-29 19:01:52,766 - INFO - ------------------------------\n"
     ]
    },
    {
     "name": "stdout",
     "output_type": "stream",
     "text": [
      "2025-06-29 19:01:52,768 - INFO - Initiating Backtest Run...\n"
     ]
    },
    {
     "name": "stdout",
     "output_type": "stream",
     "text": [
      "2025-06-29 19:01:52,770 - INFO -   Date          : 2025-05-20\n"
     ]
    },
    {
     "name": "stdout",
     "output_type": "stream",
     "text": [
      "2025-06-29 19:01:52,771 - INFO -   Scheme        : EW\n"
     ]
    },
    {
     "name": "stdout",
     "output_type": "stream",
     "text": [
      "2025-06-29 19:01:52,775 - INFO -   Num Tickers   : 10\n"
     ]
    },
    {
     "name": "stdout",
     "output_type": "stream",
     "text": [
      "2025-06-29 19:01:52,777 - INFO -   Selection Date Used: 2025-05-20\n"
     ]
    },
    {
     "name": "stdout",
     "output_type": "stream",
     "text": [
      "2025-06-29 19:01:52,778 - INFO -   Buy Date           : 2025-05-21\n"
     ]
    },
    {
     "name": "stdout",
     "output_type": "stream",
     "text": [
      "2025-06-29 19:01:52,780 - INFO -   Sell Date          : 2025-05-22\n"
     ]
    },
    {
     "name": "stdout",
     "output_type": "stream",
     "text": [
      "2025-06-29 19:01:52,787 - INFO -   Trades Executed: 10/10\n"
     ]
    },
    {
     "name": "stdout",
     "output_type": "stream",
     "text": [
      "2025-06-29 19:01:52,791 - INFO -   Portfolio Return : -0.0054\n"
     ]
    },
    {
     "name": "stdout",
     "output_type": "stream",
     "text": [
      "2025-06-29 19:01:52,794 - INFO -   Win Rate         : 30.00%\n"
     ]
    },
    {
     "name": "stdout",
     "output_type": "stream",
     "text": [
      "2025-06-29 19:01:52,796 - INFO - Backtest simulation for 'EW' on 2025-05-20 completed.\n"
     ]
    },
    {
     "name": "stdout",
     "output_type": "stream",
     "text": [
      "2025-06-29 19:01:52,799 - INFO - ------------------------------\n"
     ]
    },
    {
     "name": "stdout",
     "output_type": "stream",
     "text": [
      "2025-06-29 19:01:52,800 - INFO - Initiating Backtest Run...\n"
     ]
    },
    {
     "name": "stdout",
     "output_type": "stream",
     "text": [
      "2025-06-29 19:01:52,802 - INFO -   Date          : 2025-05-20\n"
     ]
    },
    {
     "name": "stdout",
     "output_type": "stream",
     "text": [
      "2025-06-29 19:01:52,803 - INFO -   Scheme        : IV\n"
     ]
    },
    {
     "name": "stdout",
     "output_type": "stream",
     "text": [
      "2025-06-29 19:01:52,804 - INFO -   Num Tickers   : 10\n"
     ]
    },
    {
     "name": "stdout",
     "output_type": "stream",
     "text": [
      "2025-06-29 19:01:52,809 - INFO -   Selection Date Used: 2025-05-20\n"
     ]
    },
    {
     "name": "stdout",
     "output_type": "stream",
     "text": [
      "2025-06-29 19:01:52,811 - INFO -   Buy Date           : 2025-05-21\n"
     ]
    },
    {
     "name": "stdout",
     "output_type": "stream",
     "text": [
      "2025-06-29 19:01:52,813 - INFO -   Sell Date          : 2025-05-22\n"
     ]
    },
    {
     "name": "stdout",
     "output_type": "stream",
     "text": [
      "2025-06-29 19:01:52,819 - INFO -   Trades Executed: 10/10\n"
     ]
    },
    {
     "name": "stdout",
     "output_type": "stream",
     "text": [
      "2025-06-29 19:01:52,821 - INFO -   Portfolio Return : -0.0055\n"
     ]
    },
    {
     "name": "stdout",
     "output_type": "stream",
     "text": [
      "2025-06-29 19:01:52,826 - INFO -   Win Rate         : 30.00%\n"
     ]
    },
    {
     "name": "stdout",
     "output_type": "stream",
     "text": [
      "2025-06-29 19:01:52,827 - INFO - Backtest simulation for 'IV' on 2025-05-20 completed.\n"
     ]
    },
    {
     "name": "stdout",
     "output_type": "stream",
     "text": [
      "2025-06-29 19:01:52,832 - INFO - ------------------------------\n"
     ]
    },
    {
     "name": "stdout",
     "output_type": "stream",
     "text": [
      "2025-06-29 19:01:52,833 - INFO - Initiating Backtest Run...\n"
     ]
    },
    {
     "name": "stdout",
     "output_type": "stream",
     "text": [
      "2025-06-29 19:01:52,835 - INFO -   Date          : 2025-05-20\n"
     ]
    },
    {
     "name": "stdout",
     "output_type": "stream",
     "text": [
      "2025-06-29 19:01:52,837 - INFO -   Scheme        : SW\n"
     ]
    },
    {
     "name": "stdout",
     "output_type": "stream",
     "text": [
      "2025-06-29 19:01:52,841 - INFO -   Num Tickers   : 10\n"
     ]
    },
    {
     "name": "stdout",
     "output_type": "stream",
     "text": [
      "2025-06-29 19:01:52,844 - INFO -   Selection Date Used: 2025-05-20\n"
     ]
    },
    {
     "name": "stdout",
     "output_type": "stream",
     "text": [
      "2025-06-29 19:01:52,845 - INFO -   Buy Date           : 2025-05-21\n"
     ]
    },
    {
     "name": "stdout",
     "output_type": "stream",
     "text": [
      "2025-06-29 19:01:52,847 - INFO -   Sell Date          : 2025-05-22\n"
     ]
    },
    {
     "name": "stdout",
     "output_type": "stream",
     "text": [
      "2025-06-29 19:01:52,854 - INFO -   Trades Executed: 10/10\n"
     ]
    },
    {
     "name": "stdout",
     "output_type": "stream",
     "text": [
      "2025-06-29 19:01:52,858 - INFO -   Portfolio Return : -0.0054\n"
     ]
    },
    {
     "name": "stdout",
     "output_type": "stream",
     "text": [
      "2025-06-29 19:01:52,860 - INFO -   Win Rate         : 30.00%\n"
     ]
    },
    {
     "name": "stdout",
     "output_type": "stream",
     "text": [
      "2025-06-29 19:01:52,862 - INFO - Backtest simulation for 'SW' on 2025-05-20 completed.\n"
     ]
    },
    {
     "name": "stdout",
     "output_type": "stream",
     "text": [
      "2025-06-29 19:01:52,877 - INFO - ------------------------------\n"
     ]
    },
    {
     "name": "stdout",
     "output_type": "stream",
     "text": [
      "2025-06-29 19:01:52,878 - INFO - Initiating Backtest Run...\n"
     ]
    },
    {
     "name": "stdout",
     "output_type": "stream",
     "text": [
      "2025-06-29 19:01:52,880 - INFO -   Date          : 2025-05-21\n"
     ]
    },
    {
     "name": "stdout",
     "output_type": "stream",
     "text": [
      "2025-06-29 19:01:52,882 - INFO -   Scheme        : EW\n"
     ]
    },
    {
     "name": "stdout",
     "output_type": "stream",
     "text": [
      "2025-06-29 19:01:52,884 - INFO -   Num Tickers   : 10\n"
     ]
    },
    {
     "name": "stdout",
     "output_type": "stream",
     "text": [
      "2025-06-29 19:01:52,886 - INFO -   Selection Date Used: 2025-05-21\n"
     ]
    },
    {
     "name": "stdout",
     "output_type": "stream",
     "text": [
      "2025-06-29 19:01:52,888 - INFO -   Buy Date           : 2025-05-22\n"
     ]
    },
    {
     "name": "stdout",
     "output_type": "stream",
     "text": [
      "2025-06-29 19:01:52,892 - INFO -   Sell Date          : 2025-05-23\n"
     ]
    },
    {
     "name": "stdout",
     "output_type": "stream",
     "text": [
      "2025-06-29 19:01:52,898 - INFO -   Trades Executed: 10/10\n"
     ]
    },
    {
     "name": "stdout",
     "output_type": "stream",
     "text": [
      "2025-06-29 19:01:52,900 - INFO -   Portfolio Return : -0.0074\n"
     ]
    },
    {
     "name": "stdout",
     "output_type": "stream",
     "text": [
      "2025-06-29 19:01:52,902 - INFO -   Win Rate         : 20.00%\n"
     ]
    },
    {
     "name": "stdout",
     "output_type": "stream",
     "text": [
      "2025-06-29 19:01:52,904 - INFO - Backtest simulation for 'EW' on 2025-05-21 completed.\n"
     ]
    },
    {
     "name": "stdout",
     "output_type": "stream",
     "text": [
      "2025-06-29 19:01:52,909 - INFO - ------------------------------\n"
     ]
    },
    {
     "name": "stdout",
     "output_type": "stream",
     "text": [
      "2025-06-29 19:01:52,911 - INFO - Initiating Backtest Run...\n"
     ]
    },
    {
     "name": "stdout",
     "output_type": "stream",
     "text": [
      "2025-06-29 19:01:52,912 - INFO -   Date          : 2025-05-21\n"
     ]
    },
    {
     "name": "stdout",
     "output_type": "stream",
     "text": [
      "2025-06-29 19:01:52,914 - INFO -   Scheme        : IV\n"
     ]
    },
    {
     "name": "stdout",
     "output_type": "stream",
     "text": [
      "2025-06-29 19:01:52,916 - INFO -   Num Tickers   : 10\n"
     ]
    },
    {
     "name": "stdout",
     "output_type": "stream",
     "text": [
      "2025-06-29 19:01:52,918 - INFO -   Selection Date Used: 2025-05-21\n"
     ]
    },
    {
     "name": "stdout",
     "output_type": "stream",
     "text": [
      "2025-06-29 19:01:52,919 - INFO -   Buy Date           : 2025-05-22\n"
     ]
    },
    {
     "name": "stdout",
     "output_type": "stream",
     "text": [
      "2025-06-29 19:01:52,922 - INFO -   Sell Date          : 2025-05-23\n"
     ]
    },
    {
     "name": "stdout",
     "output_type": "stream",
     "text": [
      "2025-06-29 19:01:52,931 - INFO -   Trades Executed: 10/10\n"
     ]
    },
    {
     "name": "stdout",
     "output_type": "stream",
     "text": [
      "2025-06-29 19:01:52,933 - INFO -   Portfolio Return : -0.0068\n"
     ]
    },
    {
     "name": "stdout",
     "output_type": "stream",
     "text": [
      "2025-06-29 19:01:52,936 - INFO -   Win Rate         : 20.00%\n"
     ]
    },
    {
     "name": "stdout",
     "output_type": "stream",
     "text": [
      "2025-06-29 19:01:52,937 - INFO - Backtest simulation for 'IV' on 2025-05-21 completed.\n"
     ]
    },
    {
     "name": "stdout",
     "output_type": "stream",
     "text": [
      "2025-06-29 19:01:52,941 - INFO - ------------------------------\n"
     ]
    },
    {
     "name": "stdout",
     "output_type": "stream",
     "text": [
      "2025-06-29 19:01:52,944 - INFO - Initiating Backtest Run...\n"
     ]
    },
    {
     "name": "stdout",
     "output_type": "stream",
     "text": [
      "2025-06-29 19:01:52,947 - INFO -   Date          : 2025-05-21\n"
     ]
    },
    {
     "name": "stdout",
     "output_type": "stream",
     "text": [
      "2025-06-29 19:01:52,950 - INFO -   Scheme        : SW\n"
     ]
    },
    {
     "name": "stdout",
     "output_type": "stream",
     "text": [
      "2025-06-29 19:01:52,951 - INFO -   Num Tickers   : 10\n"
     ]
    },
    {
     "name": "stdout",
     "output_type": "stream",
     "text": [
      "2025-06-29 19:01:52,953 - INFO -   Selection Date Used: 2025-05-21\n"
     ]
    },
    {
     "name": "stdout",
     "output_type": "stream",
     "text": [
      "2025-06-29 19:01:52,955 - INFO -   Buy Date           : 2025-05-22\n"
     ]
    },
    {
     "name": "stdout",
     "output_type": "stream",
     "text": [
      "2025-06-29 19:01:52,960 - INFO -   Sell Date          : 2025-05-23\n"
     ]
    },
    {
     "name": "stdout",
     "output_type": "stream",
     "text": [
      "2025-06-29 19:01:52,966 - INFO -   Trades Executed: 10/10\n"
     ]
    },
    {
     "name": "stdout",
     "output_type": "stream",
     "text": [
      "2025-06-29 19:01:52,968 - INFO -   Portfolio Return : -0.0068\n"
     ]
    },
    {
     "name": "stdout",
     "output_type": "stream",
     "text": [
      "2025-06-29 19:01:52,970 - INFO -   Win Rate         : 20.00%\n"
     ]
    },
    {
     "name": "stdout",
     "output_type": "stream",
     "text": [
      "2025-06-29 19:01:52,973 - INFO - Backtest simulation for 'SW' on 2025-05-21 completed.\n"
     ]
    },
    {
     "name": "stdout",
     "output_type": "stream",
     "text": [
      "2025-06-29 19:01:52,986 - INFO - ------------------------------\n"
     ]
    },
    {
     "name": "stdout",
     "output_type": "stream",
     "text": [
      "2025-06-29 19:01:52,988 - INFO - Initiating Backtest Run...\n"
     ]
    },
    {
     "name": "stdout",
     "output_type": "stream",
     "text": [
      "2025-06-29 19:01:52,993 - INFO -   Date          : 2025-05-22\n"
     ]
    },
    {
     "name": "stdout",
     "output_type": "stream",
     "text": [
      "2025-06-29 19:01:52,994 - INFO -   Scheme        : EW\n"
     ]
    },
    {
     "name": "stdout",
     "output_type": "stream",
     "text": [
      "2025-06-29 19:01:52,996 - INFO -   Num Tickers   : 10\n"
     ]
    },
    {
     "name": "stdout",
     "output_type": "stream",
     "text": [
      "2025-06-29 19:01:52,998 - INFO -   Selection Date Used: 2025-05-22\n"
     ]
    },
    {
     "name": "stdout",
     "output_type": "stream",
     "text": [
      "2025-06-29 19:01:53,000 - INFO -   Buy Date           : 2025-05-23\n"
     ]
    },
    {
     "name": "stdout",
     "output_type": "stream",
     "text": [
      "2025-06-29 19:01:53,002 - INFO -   Sell Date          : 2025-05-27\n"
     ]
    },
    {
     "name": "stdout",
     "output_type": "stream",
     "text": [
      "2025-06-29 19:01:53,012 - INFO -   Trades Executed: 10/10\n"
     ]
    },
    {
     "name": "stdout",
     "output_type": "stream",
     "text": [
      "2025-06-29 19:01:53,014 - INFO -   Portfolio Return : 0.0222\n"
     ]
    },
    {
     "name": "stdout",
     "output_type": "stream",
     "text": [
      "2025-06-29 19:01:53,016 - INFO -   Win Rate         : 90.00%\n"
     ]
    },
    {
     "name": "stdout",
     "output_type": "stream",
     "text": [
      "2025-06-29 19:01:53,018 - INFO - Backtest simulation for 'EW' on 2025-05-22 completed.\n"
     ]
    },
    {
     "name": "stdout",
     "output_type": "stream",
     "text": [
      "2025-06-29 19:01:53,020 - INFO - ------------------------------\n"
     ]
    },
    {
     "name": "stdout",
     "output_type": "stream",
     "text": [
      "2025-06-29 19:01:53,024 - INFO - Initiating Backtest Run...\n"
     ]
    },
    {
     "name": "stdout",
     "output_type": "stream",
     "text": [
      "2025-06-29 19:01:53,027 - INFO -   Date          : 2025-05-22\n"
     ]
    },
    {
     "name": "stdout",
     "output_type": "stream",
     "text": [
      "2025-06-29 19:01:53,028 - INFO -   Scheme        : IV\n"
     ]
    },
    {
     "name": "stdout",
     "output_type": "stream",
     "text": [
      "2025-06-29 19:01:53,030 - INFO -   Num Tickers   : 10\n"
     ]
    },
    {
     "name": "stdout",
     "output_type": "stream",
     "text": [
      "2025-06-29 19:01:53,032 - INFO -   Selection Date Used: 2025-05-22\n"
     ]
    },
    {
     "name": "stdout",
     "output_type": "stream",
     "text": [
      "2025-06-29 19:01:53,033 - INFO -   Buy Date           : 2025-05-23\n"
     ]
    },
    {
     "name": "stdout",
     "output_type": "stream",
     "text": [
      "2025-06-29 19:01:53,035 - INFO -   Sell Date          : 2025-05-27\n"
     ]
    },
    {
     "name": "stdout",
     "output_type": "stream",
     "text": [
      "2025-06-29 19:01:53,045 - INFO -   Trades Executed: 10/10\n"
     ]
    },
    {
     "name": "stdout",
     "output_type": "stream",
     "text": [
      "2025-06-29 19:01:53,047 - INFO -   Portfolio Return : 0.0202\n"
     ]
    },
    {
     "name": "stdout",
     "output_type": "stream",
     "text": [
      "2025-06-29 19:01:53,049 - INFO -   Win Rate         : 90.00%\n"
     ]
    },
    {
     "name": "stdout",
     "output_type": "stream",
     "text": [
      "2025-06-29 19:01:53,050 - INFO - Backtest simulation for 'IV' on 2025-05-22 completed.\n"
     ]
    },
    {
     "name": "stdout",
     "output_type": "stream",
     "text": [
      "2025-06-29 19:01:53,052 - INFO - ------------------------------\n"
     ]
    },
    {
     "name": "stdout",
     "output_type": "stream",
     "text": [
      "2025-06-29 19:01:53,054 - INFO - Initiating Backtest Run...\n"
     ]
    },
    {
     "name": "stdout",
     "output_type": "stream",
     "text": [
      "2025-06-29 19:01:53,059 - INFO -   Date          : 2025-05-22\n"
     ]
    },
    {
     "name": "stdout",
     "output_type": "stream",
     "text": [
      "2025-06-29 19:01:53,062 - INFO -   Scheme        : SW\n"
     ]
    },
    {
     "name": "stdout",
     "output_type": "stream",
     "text": [
      "2025-06-29 19:01:53,063 - INFO -   Num Tickers   : 10\n"
     ]
    },
    {
     "name": "stdout",
     "output_type": "stream",
     "text": [
      "2025-06-29 19:01:53,065 - INFO -   Selection Date Used: 2025-05-22\n"
     ]
    },
    {
     "name": "stdout",
     "output_type": "stream",
     "text": [
      "2025-06-29 19:01:53,066 - INFO -   Buy Date           : 2025-05-23\n"
     ]
    },
    {
     "name": "stdout",
     "output_type": "stream",
     "text": [
      "2025-06-29 19:01:53,068 - INFO -   Sell Date          : 2025-05-27\n"
     ]
    },
    {
     "name": "stdout",
     "output_type": "stream",
     "text": [
      "2025-06-29 19:01:53,078 - INFO -   Trades Executed: 10/10\n"
     ]
    },
    {
     "name": "stdout",
     "output_type": "stream",
     "text": [
      "2025-06-29 19:01:53,079 - INFO -   Portfolio Return : 0.0239\n"
     ]
    },
    {
     "name": "stdout",
     "output_type": "stream",
     "text": [
      "2025-06-29 19:01:53,081 - INFO -   Win Rate         : 90.00%\n"
     ]
    },
    {
     "name": "stdout",
     "output_type": "stream",
     "text": [
      "2025-06-29 19:01:53,083 - INFO - Backtest simulation for 'SW' on 2025-05-22 completed.\n"
     ]
    },
    {
     "name": "stdout",
     "output_type": "stream",
     "text": [
      "2025-06-29 19:01:53,100 - INFO - ------------------------------\n"
     ]
    },
    {
     "name": "stdout",
     "output_type": "stream",
     "text": [
      "2025-06-29 19:01:53,102 - INFO - Initiating Backtest Run...\n"
     ]
    },
    {
     "name": "stdout",
     "output_type": "stream",
     "text": [
      "2025-06-29 19:01:53,105 - INFO -   Date          : 2025-05-23\n"
     ]
    },
    {
     "name": "stdout",
     "output_type": "stream",
     "text": [
      "2025-06-29 19:01:53,111 - INFO -   Scheme        : EW\n"
     ]
    },
    {
     "name": "stdout",
     "output_type": "stream",
     "text": [
      "2025-06-29 19:01:53,113 - INFO -   Num Tickers   : 10\n"
     ]
    },
    {
     "name": "stdout",
     "output_type": "stream",
     "text": [
      "2025-06-29 19:01:53,115 - INFO -   Selection Date Used: 2025-05-23\n"
     ]
    },
    {
     "name": "stdout",
     "output_type": "stream",
     "text": [
      "2025-06-29 19:01:53,118 - INFO -   Buy Date           : 2025-05-27\n"
     ]
    },
    {
     "name": "stdout",
     "output_type": "stream",
     "text": [
      "2025-06-29 19:01:53,120 - INFO -   Sell Date          : 2025-05-28\n"
     ]
    },
    {
     "name": "stdout",
     "output_type": "stream",
     "text": [
      "2025-06-29 19:01:53,131 - INFO -   Trades Executed: 10/10\n"
     ]
    },
    {
     "name": "stdout",
     "output_type": "stream",
     "text": [
      "2025-06-29 19:01:53,133 - INFO -   Portfolio Return : -0.0120\n"
     ]
    },
    {
     "name": "stdout",
     "output_type": "stream",
     "text": [
      "2025-06-29 19:01:53,135 - INFO -   Win Rate         : 30.00%\n"
     ]
    },
    {
     "name": "stdout",
     "output_type": "stream",
     "text": [
      "2025-06-29 19:01:53,138 - INFO - Backtest simulation for 'EW' on 2025-05-23 completed.\n"
     ]
    },
    {
     "name": "stdout",
     "output_type": "stream",
     "text": [
      "2025-06-29 19:01:53,143 - INFO - ------------------------------\n"
     ]
    },
    {
     "name": "stdout",
     "output_type": "stream",
     "text": [
      "2025-06-29 19:01:53,146 - INFO - Initiating Backtest Run...\n"
     ]
    },
    {
     "name": "stdout",
     "output_type": "stream",
     "text": [
      "2025-06-29 19:01:53,148 - INFO -   Date          : 2025-05-23\n"
     ]
    },
    {
     "name": "stdout",
     "output_type": "stream",
     "text": [
      "2025-06-29 19:01:53,149 - INFO -   Scheme        : IV\n"
     ]
    },
    {
     "name": "stdout",
     "output_type": "stream",
     "text": [
      "2025-06-29 19:01:53,151 - INFO -   Num Tickers   : 10\n"
     ]
    },
    {
     "name": "stdout",
     "output_type": "stream",
     "text": [
      "2025-06-29 19:01:53,153 - INFO -   Selection Date Used: 2025-05-23\n"
     ]
    },
    {
     "name": "stdout",
     "output_type": "stream",
     "text": [
      "2025-06-29 19:01:53,155 - INFO -   Buy Date           : 2025-05-27\n"
     ]
    },
    {
     "name": "stdout",
     "output_type": "stream",
     "text": [
      "2025-06-29 19:01:53,161 - INFO -   Sell Date          : 2025-05-28\n"
     ]
    },
    {
     "name": "stdout",
     "output_type": "stream",
     "text": [
      "2025-06-29 19:01:53,167 - INFO -   Trades Executed: 10/10\n"
     ]
    },
    {
     "name": "stdout",
     "output_type": "stream",
     "text": [
      "2025-06-29 19:01:53,170 - INFO -   Portfolio Return : -0.0105\n"
     ]
    },
    {
     "name": "stdout",
     "output_type": "stream",
     "text": [
      "2025-06-29 19:01:53,173 - INFO -   Win Rate         : 30.00%\n"
     ]
    },
    {
     "name": "stdout",
     "output_type": "stream",
     "text": [
      "2025-06-29 19:01:53,176 - INFO - Backtest simulation for 'IV' on 2025-05-23 completed.\n"
     ]
    },
    {
     "name": "stdout",
     "output_type": "stream",
     "text": [
      "2025-06-29 19:01:53,178 - INFO - ------------------------------\n"
     ]
    },
    {
     "name": "stdout",
     "output_type": "stream",
     "text": [
      "2025-06-29 19:01:53,180 - INFO - Initiating Backtest Run...\n"
     ]
    },
    {
     "name": "stdout",
     "output_type": "stream",
     "text": [
      "2025-06-29 19:01:53,182 - INFO -   Date          : 2025-05-23\n"
     ]
    },
    {
     "name": "stdout",
     "output_type": "stream",
     "text": [
      "2025-06-29 19:01:53,184 - INFO -   Scheme        : SW\n"
     ]
    },
    {
     "name": "stdout",
     "output_type": "stream",
     "text": [
      "2025-06-29 19:01:53,186 - INFO -   Num Tickers   : 10\n"
     ]
    },
    {
     "name": "stdout",
     "output_type": "stream",
     "text": [
      "2025-06-29 19:01:53,189 - INFO -   Selection Date Used: 2025-05-23\n"
     ]
    },
    {
     "name": "stdout",
     "output_type": "stream",
     "text": [
      "2025-06-29 19:01:53,193 - INFO -   Buy Date           : 2025-05-27\n"
     ]
    },
    {
     "name": "stdout",
     "output_type": "stream",
     "text": [
      "2025-06-29 19:01:53,194 - INFO -   Sell Date          : 2025-05-28\n"
     ]
    },
    {
     "name": "stdout",
     "output_type": "stream",
     "text": [
      "2025-06-29 19:01:53,201 - INFO -   Trades Executed: 10/10\n"
     ]
    },
    {
     "name": "stdout",
     "output_type": "stream",
     "text": [
      "2025-06-29 19:01:53,203 - INFO -   Portfolio Return : -0.0162\n"
     ]
    },
    {
     "name": "stdout",
     "output_type": "stream",
     "text": [
      "2025-06-29 19:01:53,204 - INFO -   Win Rate         : 30.00%\n"
     ]
    },
    {
     "name": "stdout",
     "output_type": "stream",
     "text": [
      "2025-06-29 19:01:53,210 - INFO - Backtest simulation for 'SW' on 2025-05-23 completed.\n"
     ]
    },
    {
     "name": "stdout",
     "output_type": "stream",
     "text": [
      "2025-06-29 19:01:53,225 - INFO - ------------------------------\n"
     ]
    },
    {
     "name": "stdout",
     "output_type": "stream",
     "text": [
      "2025-06-29 19:01:53,227 - INFO - Initiating Backtest Run...\n"
     ]
    },
    {
     "name": "stdout",
     "output_type": "stream",
     "text": [
      "2025-06-29 19:01:53,229 - INFO -   Date          : 2025-05-27\n"
     ]
    },
    {
     "name": "stdout",
     "output_type": "stream",
     "text": [
      "2025-06-29 19:01:53,231 - INFO -   Scheme        : EW\n"
     ]
    },
    {
     "name": "stdout",
     "output_type": "stream",
     "text": [
      "2025-06-29 19:01:53,233 - INFO -   Num Tickers   : 10\n"
     ]
    },
    {
     "name": "stdout",
     "output_type": "stream",
     "text": [
      "2025-06-29 19:01:53,234 - INFO -   Selection Date Used: 2025-05-27\n"
     ]
    },
    {
     "name": "stdout",
     "output_type": "stream",
     "text": [
      "2025-06-29 19:01:53,236 - INFO -   Buy Date           : 2025-05-28\n"
     ]
    },
    {
     "name": "stdout",
     "output_type": "stream",
     "text": [
      "2025-06-29 19:01:53,242 - INFO -   Sell Date          : 2025-05-29\n"
     ]
    },
    {
     "name": "stdout",
     "output_type": "stream",
     "text": [
      "2025-06-29 19:01:53,251 - INFO -   Trades Executed: 10/10\n"
     ]
    },
    {
     "name": "stdout",
     "output_type": "stream",
     "text": [
      "2025-06-29 19:01:53,252 - INFO -   Portfolio Return : 0.0092\n"
     ]
    },
    {
     "name": "stdout",
     "output_type": "stream",
     "text": [
      "2025-06-29 19:01:53,255 - INFO -   Win Rate         : 60.00%\n"
     ]
    },
    {
     "name": "stdout",
     "output_type": "stream",
     "text": [
      "2025-06-29 19:01:53,260 - INFO - Backtest simulation for 'EW' on 2025-05-27 completed.\n"
     ]
    },
    {
     "name": "stdout",
     "output_type": "stream",
     "text": [
      "2025-06-29 19:01:53,263 - INFO - ------------------------------\n"
     ]
    },
    {
     "name": "stdout",
     "output_type": "stream",
     "text": [
      "2025-06-29 19:01:53,264 - INFO - Initiating Backtest Run...\n"
     ]
    },
    {
     "name": "stdout",
     "output_type": "stream",
     "text": [
      "2025-06-29 19:01:53,267 - INFO -   Date          : 2025-05-27\n"
     ]
    },
    {
     "name": "stdout",
     "output_type": "stream",
     "text": [
      "2025-06-29 19:01:53,268 - INFO -   Scheme        : IV\n"
     ]
    },
    {
     "name": "stdout",
     "output_type": "stream",
     "text": [
      "2025-06-29 19:01:53,271 - INFO -   Num Tickers   : 10\n"
     ]
    },
    {
     "name": "stdout",
     "output_type": "stream",
     "text": [
      "2025-06-29 19:01:53,276 - INFO -   Selection Date Used: 2025-05-27\n"
     ]
    },
    {
     "name": "stdout",
     "output_type": "stream",
     "text": [
      "2025-06-29 19:01:53,278 - INFO -   Buy Date           : 2025-05-28\n"
     ]
    },
    {
     "name": "stdout",
     "output_type": "stream",
     "text": [
      "2025-06-29 19:01:53,280 - INFO -   Sell Date          : 2025-05-29\n"
     ]
    },
    {
     "name": "stdout",
     "output_type": "stream",
     "text": [
      "2025-06-29 19:01:53,287 - INFO -   Trades Executed: 10/10\n"
     ]
    },
    {
     "name": "stdout",
     "output_type": "stream",
     "text": [
      "2025-06-29 19:01:53,292 - INFO -   Portfolio Return : 0.0104\n"
     ]
    },
    {
     "name": "stdout",
     "output_type": "stream",
     "text": [
      "2025-06-29 19:01:53,295 - INFO -   Win Rate         : 60.00%\n"
     ]
    },
    {
     "name": "stdout",
     "output_type": "stream",
     "text": [
      "2025-06-29 19:01:53,297 - INFO - Backtest simulation for 'IV' on 2025-05-27 completed.\n"
     ]
    },
    {
     "name": "stdout",
     "output_type": "stream",
     "text": [
      "2025-06-29 19:01:53,300 - INFO - ------------------------------\n"
     ]
    },
    {
     "name": "stdout",
     "output_type": "stream",
     "text": [
      "2025-06-29 19:01:53,303 - INFO - Initiating Backtest Run...\n"
     ]
    },
    {
     "name": "stdout",
     "output_type": "stream",
     "text": [
      "2025-06-29 19:01:53,305 - INFO -   Date          : 2025-05-27\n"
     ]
    },
    {
     "name": "stdout",
     "output_type": "stream",
     "text": [
      "2025-06-29 19:01:53,310 - INFO -   Scheme        : SW\n"
     ]
    },
    {
     "name": "stdout",
     "output_type": "stream",
     "text": [
      "2025-06-29 19:01:53,313 - INFO -   Num Tickers   : 10\n"
     ]
    },
    {
     "name": "stdout",
     "output_type": "stream",
     "text": [
      "2025-06-29 19:01:53,315 - INFO -   Selection Date Used: 2025-05-27\n"
     ]
    },
    {
     "name": "stdout",
     "output_type": "stream",
     "text": [
      "2025-06-29 19:01:53,319 - INFO -   Buy Date           : 2025-05-28\n"
     ]
    },
    {
     "name": "stdout",
     "output_type": "stream",
     "text": [
      "2025-06-29 19:01:53,321 - INFO -   Sell Date          : 2025-05-29\n"
     ]
    },
    {
     "name": "stdout",
     "output_type": "stream",
     "text": [
      "2025-06-29 19:01:53,330 - INFO -   Trades Executed: 10/10\n"
     ]
    },
    {
     "name": "stdout",
     "output_type": "stream",
     "text": [
      "2025-06-29 19:01:53,332 - INFO -   Portfolio Return : 0.0059\n"
     ]
    },
    {
     "name": "stdout",
     "output_type": "stream",
     "text": [
      "2025-06-29 19:01:53,333 - INFO -   Win Rate         : 60.00%\n"
     ]
    },
    {
     "name": "stdout",
     "output_type": "stream",
     "text": [
      "2025-06-29 19:01:53,335 - INFO - Backtest simulation for 'SW' on 2025-05-27 completed.\n"
     ]
    },
    {
     "name": "stdout",
     "output_type": "stream",
     "text": [
      "2025-06-29 19:01:53,352 - INFO - ------------------------------\n"
     ]
    },
    {
     "name": "stdout",
     "output_type": "stream",
     "text": [
      "2025-06-29 19:01:53,353 - INFO - Initiating Backtest Run...\n"
     ]
    },
    {
     "name": "stdout",
     "output_type": "stream",
     "text": [
      "2025-06-29 19:01:53,359 - INFO -   Date          : 2025-05-28\n"
     ]
    },
    {
     "name": "stdout",
     "output_type": "stream",
     "text": [
      "2025-06-29 19:01:53,361 - INFO -   Scheme        : EW\n"
     ]
    },
    {
     "name": "stdout",
     "output_type": "stream",
     "text": [
      "2025-06-29 19:01:53,363 - INFO -   Num Tickers   : 10\n"
     ]
    },
    {
     "name": "stdout",
     "output_type": "stream",
     "text": [
      "2025-06-29 19:01:53,365 - INFO -   Selection Date Used: 2025-05-28\n"
     ]
    },
    {
     "name": "stdout",
     "output_type": "stream",
     "text": [
      "2025-06-29 19:01:53,366 - INFO -   Buy Date           : 2025-05-29\n"
     ]
    },
    {
     "name": "stdout",
     "output_type": "stream",
     "text": [
      "2025-06-29 19:01:53,367 - INFO -   Sell Date          : 2025-05-30\n"
     ]
    },
    {
     "name": "stdout",
     "output_type": "stream",
     "text": [
      "2025-06-29 19:01:53,376 - INFO -   Trades Executed: 10/10\n"
     ]
    },
    {
     "name": "stdout",
     "output_type": "stream",
     "text": [
      "2025-06-29 19:01:53,378 - INFO -   Portfolio Return : -0.0003\n"
     ]
    },
    {
     "name": "stdout",
     "output_type": "stream",
     "text": [
      "2025-06-29 19:01:53,379 - INFO -   Win Rate         : 40.00%\n"
     ]
    },
    {
     "name": "stdout",
     "output_type": "stream",
     "text": [
      "2025-06-29 19:01:53,380 - INFO - Backtest simulation for 'EW' on 2025-05-28 completed.\n"
     ]
    },
    {
     "name": "stdout",
     "output_type": "stream",
     "text": [
      "2025-06-29 19:01:53,383 - INFO - ------------------------------\n"
     ]
    },
    {
     "name": "stdout",
     "output_type": "stream",
     "text": [
      "2025-06-29 19:01:53,385 - INFO - Initiating Backtest Run...\n"
     ]
    },
    {
     "name": "stdout",
     "output_type": "stream",
     "text": [
      "2025-06-29 19:01:53,387 - INFO -   Date          : 2025-05-28\n"
     ]
    },
    {
     "name": "stdout",
     "output_type": "stream",
     "text": [
      "2025-06-29 19:01:53,391 - INFO -   Scheme        : IV\n"
     ]
    },
    {
     "name": "stdout",
     "output_type": "stream",
     "text": [
      "2025-06-29 19:01:53,393 - INFO -   Num Tickers   : 10\n"
     ]
    },
    {
     "name": "stdout",
     "output_type": "stream",
     "text": [
      "2025-06-29 19:01:53,394 - INFO -   Selection Date Used: 2025-05-28\n"
     ]
    },
    {
     "name": "stdout",
     "output_type": "stream",
     "text": [
      "2025-06-29 19:01:53,396 - INFO -   Buy Date           : 2025-05-29\n"
     ]
    },
    {
     "name": "stdout",
     "output_type": "stream",
     "text": [
      "2025-06-29 19:01:53,398 - INFO -   Sell Date          : 2025-05-30\n"
     ]
    },
    {
     "name": "stdout",
     "output_type": "stream",
     "text": [
      "2025-06-29 19:01:53,404 - INFO -   Trades Executed: 10/10\n"
     ]
    },
    {
     "name": "stdout",
     "output_type": "stream",
     "text": [
      "2025-06-29 19:01:53,408 - INFO -   Portfolio Return : -0.0003\n"
     ]
    },
    {
     "name": "stdout",
     "output_type": "stream",
     "text": [
      "2025-06-29 19:01:53,410 - INFO -   Win Rate         : 40.00%\n"
     ]
    },
    {
     "name": "stdout",
     "output_type": "stream",
     "text": [
      "2025-06-29 19:01:53,411 - INFO - Backtest simulation for 'IV' on 2025-05-28 completed.\n"
     ]
    },
    {
     "name": "stdout",
     "output_type": "stream",
     "text": [
      "2025-06-29 19:01:53,413 - INFO - ------------------------------\n"
     ]
    },
    {
     "name": "stdout",
     "output_type": "stream",
     "text": [
      "2025-06-29 19:01:53,414 - INFO - Initiating Backtest Run...\n"
     ]
    },
    {
     "name": "stdout",
     "output_type": "stream",
     "text": [
      "2025-06-29 19:01:53,416 - INFO -   Date          : 2025-05-28\n"
     ]
    },
    {
     "name": "stdout",
     "output_type": "stream",
     "text": [
      "2025-06-29 19:01:53,417 - INFO -   Scheme        : SW\n"
     ]
    },
    {
     "name": "stdout",
     "output_type": "stream",
     "text": [
      "2025-06-29 19:01:53,419 - INFO -   Num Tickers   : 10\n"
     ]
    },
    {
     "name": "stdout",
     "output_type": "stream",
     "text": [
      "2025-06-29 19:01:53,420 - INFO -   Selection Date Used: 2025-05-28\n"
     ]
    },
    {
     "name": "stdout",
     "output_type": "stream",
     "text": [
      "2025-06-29 19:01:53,424 - INFO -   Buy Date           : 2025-05-29\n"
     ]
    },
    {
     "name": "stdout",
     "output_type": "stream",
     "text": [
      "2025-06-29 19:01:53,427 - INFO -   Sell Date          : 2025-05-30\n"
     ]
    },
    {
     "name": "stdout",
     "output_type": "stream",
     "text": [
      "2025-06-29 19:01:53,432 - INFO -   Trades Executed: 10/10\n"
     ]
    },
    {
     "name": "stdout",
     "output_type": "stream",
     "text": [
      "2025-06-29 19:01:53,434 - INFO -   Portfolio Return : 0.0008\n"
     ]
    },
    {
     "name": "stdout",
     "output_type": "stream",
     "text": [
      "2025-06-29 19:01:53,436 - INFO -   Win Rate         : 40.00%\n"
     ]
    },
    {
     "name": "stdout",
     "output_type": "stream",
     "text": [
      "2025-06-29 19:01:53,438 - INFO - Backtest simulation for 'SW' on 2025-05-28 completed.\n"
     ]
    },
    {
     "name": "stdout",
     "output_type": "stream",
     "text": [
      "2025-06-29 19:01:53,452 - INFO - ------------------------------\n"
     ]
    },
    {
     "name": "stdout",
     "output_type": "stream",
     "text": [
      "2025-06-29 19:01:53,454 - INFO - Initiating Backtest Run...\n"
     ]
    },
    {
     "name": "stdout",
     "output_type": "stream",
     "text": [
      "2025-06-29 19:01:53,458 - INFO -   Date          : 2025-05-29\n"
     ]
    },
    {
     "name": "stdout",
     "output_type": "stream",
     "text": [
      "2025-06-29 19:01:53,460 - INFO -   Scheme        : EW\n"
     ]
    },
    {
     "name": "stdout",
     "output_type": "stream",
     "text": [
      "2025-06-29 19:01:53,462 - INFO -   Num Tickers   : 10\n"
     ]
    },
    {
     "name": "stdout",
     "output_type": "stream",
     "text": [
      "2025-06-29 19:01:53,464 - INFO -   Selection Date Used: 2025-05-29\n"
     ]
    },
    {
     "name": "stdout",
     "output_type": "stream",
     "text": [
      "2025-06-29 19:01:53,465 - INFO -   Buy Date           : 2025-05-30\n"
     ]
    },
    {
     "name": "stdout",
     "output_type": "stream",
     "text": [
      "2025-06-29 19:01:53,466 - INFO -   Sell Date          : 2025-06-02\n"
     ]
    },
    {
     "name": "stdout",
     "output_type": "stream",
     "text": [
      "2025-06-29 19:01:53,472 - INFO -   Trades Executed: 10/10\n"
     ]
    },
    {
     "name": "stdout",
     "output_type": "stream",
     "text": [
      "2025-06-29 19:01:53,476 - INFO -   Portfolio Return : 0.0073\n"
     ]
    },
    {
     "name": "stdout",
     "output_type": "stream",
     "text": [
      "2025-06-29 19:01:53,477 - INFO -   Win Rate         : 50.00%\n"
     ]
    },
    {
     "name": "stdout",
     "output_type": "stream",
     "text": [
      "2025-06-29 19:01:53,479 - INFO - Backtest simulation for 'EW' on 2025-05-29 completed.\n"
     ]
    },
    {
     "name": "stdout",
     "output_type": "stream",
     "text": [
      "2025-06-29 19:01:53,481 - INFO - ------------------------------\n"
     ]
    },
    {
     "name": "stdout",
     "output_type": "stream",
     "text": [
      "2025-06-29 19:01:53,482 - INFO - Initiating Backtest Run...\n"
     ]
    },
    {
     "name": "stdout",
     "output_type": "stream",
     "text": [
      "2025-06-29 19:01:53,484 - INFO -   Date          : 2025-05-29\n"
     ]
    },
    {
     "name": "stdout",
     "output_type": "stream",
     "text": [
      "2025-06-29 19:01:53,485 - INFO -   Scheme        : IV\n"
     ]
    },
    {
     "name": "stdout",
     "output_type": "stream",
     "text": [
      "2025-06-29 19:01:53,486 - INFO -   Num Tickers   : 10\n"
     ]
    },
    {
     "name": "stdout",
     "output_type": "stream",
     "text": [
      "2025-06-29 19:01:53,491 - INFO -   Selection Date Used: 2025-05-29\n"
     ]
    },
    {
     "name": "stdout",
     "output_type": "stream",
     "text": [
      "2025-06-29 19:01:53,493 - INFO -   Buy Date           : 2025-05-30\n"
     ]
    },
    {
     "name": "stdout",
     "output_type": "stream",
     "text": [
      "2025-06-29 19:01:53,494 - INFO -   Sell Date          : 2025-06-02\n"
     ]
    },
    {
     "name": "stdout",
     "output_type": "stream",
     "text": [
      "2025-06-29 19:01:53,501 - INFO -   Trades Executed: 10/10\n"
     ]
    },
    {
     "name": "stdout",
     "output_type": "stream",
     "text": [
      "2025-06-29 19:01:53,503 - INFO -   Portfolio Return : 0.0063\n"
     ]
    },
    {
     "name": "stdout",
     "output_type": "stream",
     "text": [
      "2025-06-29 19:01:53,504 - INFO -   Win Rate         : 50.00%\n"
     ]
    },
    {
     "name": "stdout",
     "output_type": "stream",
     "text": [
      "2025-06-29 19:01:53,509 - INFO - Backtest simulation for 'IV' on 2025-05-29 completed.\n"
     ]
    },
    {
     "name": "stdout",
     "output_type": "stream",
     "text": [
      "2025-06-29 19:01:53,512 - INFO - ------------------------------\n"
     ]
    },
    {
     "name": "stdout",
     "output_type": "stream",
     "text": [
      "2025-06-29 19:01:53,513 - INFO - Initiating Backtest Run...\n"
     ]
    },
    {
     "name": "stdout",
     "output_type": "stream",
     "text": [
      "2025-06-29 19:01:53,515 - INFO -   Date          : 2025-05-29\n"
     ]
    },
    {
     "name": "stdout",
     "output_type": "stream",
     "text": [
      "2025-06-29 19:01:53,516 - INFO -   Scheme        : SW\n"
     ]
    },
    {
     "name": "stdout",
     "output_type": "stream",
     "text": [
      "2025-06-29 19:01:53,518 - INFO -   Num Tickers   : 10\n"
     ]
    },
    {
     "name": "stdout",
     "output_type": "stream",
     "text": [
      "2025-06-29 19:01:53,520 - INFO -   Selection Date Used: 2025-05-29\n"
     ]
    },
    {
     "name": "stdout",
     "output_type": "stream",
     "text": [
      "2025-06-29 19:01:53,524 - INFO -   Buy Date           : 2025-05-30\n"
     ]
    },
    {
     "name": "stdout",
     "output_type": "stream",
     "text": [
      "2025-06-29 19:01:53,526 - INFO -   Sell Date          : 2025-06-02\n"
     ]
    },
    {
     "name": "stdout",
     "output_type": "stream",
     "text": [
      "2025-06-29 19:01:53,534 - INFO -   Trades Executed: 10/10\n"
     ]
    },
    {
     "name": "stdout",
     "output_type": "stream",
     "text": [
      "2025-06-29 19:01:53,535 - INFO -   Portfolio Return : 0.0082\n"
     ]
    },
    {
     "name": "stdout",
     "output_type": "stream",
     "text": [
      "2025-06-29 19:01:53,538 - INFO -   Win Rate         : 50.00%\n"
     ]
    },
    {
     "name": "stdout",
     "output_type": "stream",
     "text": [
      "2025-06-29 19:01:53,542 - INFO - Backtest simulation for 'SW' on 2025-05-29 completed.\n"
     ]
    },
    {
     "name": "stdout",
     "output_type": "stream",
     "text": [
      "2025-06-29 19:01:53,555 - INFO - ------------------------------\n"
     ]
    },
    {
     "name": "stdout",
     "output_type": "stream",
     "text": [
      "2025-06-29 19:01:53,559 - INFO - Initiating Backtest Run...\n"
     ]
    },
    {
     "name": "stdout",
     "output_type": "stream",
     "text": [
      "2025-06-29 19:01:53,562 - INFO -   Date          : 2025-05-30\n"
     ]
    },
    {
     "name": "stdout",
     "output_type": "stream",
     "text": [
      "2025-06-29 19:01:53,563 - INFO -   Scheme        : EW\n"
     ]
    },
    {
     "name": "stdout",
     "output_type": "stream",
     "text": [
      "2025-06-29 19:01:53,565 - INFO -   Num Tickers   : 10\n"
     ]
    },
    {
     "name": "stdout",
     "output_type": "stream",
     "text": [
      "2025-06-29 19:01:53,567 - INFO -   Selection Date Used: 2025-05-30\n"
     ]
    },
    {
     "name": "stdout",
     "output_type": "stream",
     "text": [
      "2025-06-29 19:01:53,568 - INFO -   Buy Date           : 2025-06-02\n"
     ]
    },
    {
     "name": "stdout",
     "output_type": "stream",
     "text": [
      "2025-06-29 19:01:53,570 - INFO -   Sell Date          : 2025-06-03\n"
     ]
    },
    {
     "name": "stdout",
     "output_type": "stream",
     "text": [
      "2025-06-29 19:01:53,577 - INFO -   Trades Executed: 10/10\n"
     ]
    },
    {
     "name": "stdout",
     "output_type": "stream",
     "text": [
      "2025-06-29 19:01:53,580 - INFO -   Portfolio Return : 0.0184\n"
     ]
    },
    {
     "name": "stdout",
     "output_type": "stream",
     "text": [
      "2025-06-29 19:01:53,581 - INFO -   Win Rate         : 80.00%\n"
     ]
    },
    {
     "name": "stdout",
     "output_type": "stream",
     "text": [
      "2025-06-29 19:01:53,582 - INFO - Backtest simulation for 'EW' on 2025-05-30 completed.\n"
     ]
    },
    {
     "name": "stdout",
     "output_type": "stream",
     "text": [
      "2025-06-29 19:01:53,584 - INFO - ------------------------------\n"
     ]
    },
    {
     "name": "stdout",
     "output_type": "stream",
     "text": [
      "2025-06-29 19:01:53,585 - INFO - Initiating Backtest Run...\n"
     ]
    },
    {
     "name": "stdout",
     "output_type": "stream",
     "text": [
      "2025-06-29 19:01:53,587 - INFO -   Date          : 2025-05-30\n"
     ]
    },
    {
     "name": "stdout",
     "output_type": "stream",
     "text": [
      "2025-06-29 19:01:53,592 - INFO -   Scheme        : IV\n"
     ]
    },
    {
     "name": "stdout",
     "output_type": "stream",
     "text": [
      "2025-06-29 19:01:53,593 - INFO -   Num Tickers   : 10\n"
     ]
    },
    {
     "name": "stdout",
     "output_type": "stream",
     "text": [
      "2025-06-29 19:01:53,596 - INFO -   Selection Date Used: 2025-05-30\n"
     ]
    },
    {
     "name": "stdout",
     "output_type": "stream",
     "text": [
      "2025-06-29 19:01:53,597 - INFO -   Buy Date           : 2025-06-02\n"
     ]
    },
    {
     "name": "stdout",
     "output_type": "stream",
     "text": [
      "2025-06-29 19:01:53,599 - INFO -   Sell Date          : 2025-06-03\n"
     ]
    },
    {
     "name": "stdout",
     "output_type": "stream",
     "text": [
      "2025-06-29 19:01:53,604 - INFO -   Trades Executed: 10/10\n"
     ]
    },
    {
     "name": "stdout",
     "output_type": "stream",
     "text": [
      "2025-06-29 19:01:53,608 - INFO -   Portfolio Return : 0.0162\n"
     ]
    },
    {
     "name": "stdout",
     "output_type": "stream",
     "text": [
      "2025-06-29 19:01:53,610 - INFO -   Win Rate         : 80.00%\n"
     ]
    },
    {
     "name": "stdout",
     "output_type": "stream",
     "text": [
      "2025-06-29 19:01:53,612 - INFO - Backtest simulation for 'IV' on 2025-05-30 completed.\n"
     ]
    },
    {
     "name": "stdout",
     "output_type": "stream",
     "text": [
      "2025-06-29 19:01:53,614 - INFO - ------------------------------\n"
     ]
    },
    {
     "name": "stdout",
     "output_type": "stream",
     "text": [
      "2025-06-29 19:01:53,615 - INFO - Initiating Backtest Run...\n"
     ]
    },
    {
     "name": "stdout",
     "output_type": "stream",
     "text": [
      "2025-06-29 19:01:53,616 - INFO -   Date          : 2025-05-30\n"
     ]
    },
    {
     "name": "stdout",
     "output_type": "stream",
     "text": [
      "2025-06-29 19:01:53,618 - INFO -   Scheme        : SW\n"
     ]
    },
    {
     "name": "stdout",
     "output_type": "stream",
     "text": [
      "2025-06-29 19:01:53,619 - INFO -   Num Tickers   : 10\n"
     ]
    },
    {
     "name": "stdout",
     "output_type": "stream",
     "text": [
      "2025-06-29 19:01:53,621 - INFO -   Selection Date Used: 2025-05-30\n"
     ]
    },
    {
     "name": "stdout",
     "output_type": "stream",
     "text": [
      "2025-06-29 19:01:53,624 - INFO -   Buy Date           : 2025-06-02\n"
     ]
    },
    {
     "name": "stdout",
     "output_type": "stream",
     "text": [
      "2025-06-29 19:01:53,627 - INFO -   Sell Date          : 2025-06-03\n"
     ]
    },
    {
     "name": "stdout",
     "output_type": "stream",
     "text": [
      "2025-06-29 19:01:53,632 - INFO -   Trades Executed: 10/10\n"
     ]
    },
    {
     "name": "stdout",
     "output_type": "stream",
     "text": [
      "2025-06-29 19:01:53,634 - INFO -   Portfolio Return : 0.0146\n"
     ]
    },
    {
     "name": "stdout",
     "output_type": "stream",
     "text": [
      "2025-06-29 19:01:53,635 - INFO -   Win Rate         : 80.00%\n"
     ]
    },
    {
     "name": "stdout",
     "output_type": "stream",
     "text": [
      "2025-06-29 19:01:53,637 - INFO - Backtest simulation for 'SW' on 2025-05-30 completed.\n"
     ]
    },
    {
     "name": "stdout",
     "output_type": "stream",
     "text": [
      "2025-06-29 19:01:53,648 - INFO - ------------------------------\n"
     ]
    },
    {
     "name": "stdout",
     "output_type": "stream",
     "text": [
      "2025-06-29 19:01:53,650 - INFO - Initiating Backtest Run...\n"
     ]
    },
    {
     "name": "stdout",
     "output_type": "stream",
     "text": [
      "2025-06-29 19:01:53,651 - INFO -   Date          : 2025-06-02\n"
     ]
    },
    {
     "name": "stdout",
     "output_type": "stream",
     "text": [
      "2025-06-29 19:01:53,652 - INFO -   Scheme        : EW\n"
     ]
    },
    {
     "name": "stdout",
     "output_type": "stream",
     "text": [
      "2025-06-29 19:01:53,655 - INFO -   Num Tickers   : 10\n"
     ]
    },
    {
     "name": "stdout",
     "output_type": "stream",
     "text": [
      "2025-06-29 19:01:53,659 - INFO -   Selection Date Used: 2025-06-02\n"
     ]
    },
    {
     "name": "stdout",
     "output_type": "stream",
     "text": [
      "2025-06-29 19:01:53,661 - INFO -   Buy Date           : 2025-06-03\n"
     ]
    },
    {
     "name": "stdout",
     "output_type": "stream",
     "text": [
      "2025-06-29 19:01:53,663 - INFO -   Sell Date          : 2025-06-04\n"
     ]
    },
    {
     "name": "stdout",
     "output_type": "stream",
     "text": [
      "2025-06-29 19:01:53,668 - INFO -   Trades Executed: 10/10\n"
     ]
    },
    {
     "name": "stdout",
     "output_type": "stream",
     "text": [
      "2025-06-29 19:01:53,669 - INFO -   Portfolio Return : 0.0035\n"
     ]
    },
    {
     "name": "stdout",
     "output_type": "stream",
     "text": [
      "2025-06-29 19:01:53,670 - INFO -   Win Rate         : 50.00%\n"
     ]
    },
    {
     "name": "stdout",
     "output_type": "stream",
     "text": [
      "2025-06-29 19:01:53,672 - INFO - Backtest simulation for 'EW' on 2025-06-02 completed.\n"
     ]
    },
    {
     "name": "stdout",
     "output_type": "stream",
     "text": [
      "2025-06-29 19:01:53,676 - INFO - ------------------------------\n"
     ]
    },
    {
     "name": "stdout",
     "output_type": "stream",
     "text": [
      "2025-06-29 19:01:53,678 - INFO - Initiating Backtest Run...\n"
     ]
    },
    {
     "name": "stdout",
     "output_type": "stream",
     "text": [
      "2025-06-29 19:01:53,680 - INFO -   Date          : 2025-06-02\n"
     ]
    },
    {
     "name": "stdout",
     "output_type": "stream",
     "text": [
      "2025-06-29 19:01:53,682 - INFO -   Scheme        : IV\n"
     ]
    },
    {
     "name": "stdout",
     "output_type": "stream",
     "text": [
      "2025-06-29 19:01:53,683 - INFO -   Num Tickers   : 10\n"
     ]
    },
    {
     "name": "stdout",
     "output_type": "stream",
     "text": [
      "2025-06-29 19:01:53,684 - INFO -   Selection Date Used: 2025-06-02\n"
     ]
    },
    {
     "name": "stdout",
     "output_type": "stream",
     "text": [
      "2025-06-29 19:01:53,685 - INFO -   Buy Date           : 2025-06-03\n"
     ]
    },
    {
     "name": "stdout",
     "output_type": "stream",
     "text": [
      "2025-06-29 19:01:53,686 - INFO -   Sell Date          : 2025-06-04\n"
     ]
    },
    {
     "name": "stdout",
     "output_type": "stream",
     "text": [
      "2025-06-29 19:01:53,695 - INFO -   Trades Executed: 10/10\n"
     ]
    },
    {
     "name": "stdout",
     "output_type": "stream",
     "text": [
      "2025-06-29 19:01:53,696 - INFO -   Portfolio Return : 0.0025\n"
     ]
    },
    {
     "name": "stdout",
     "output_type": "stream",
     "text": [
      "2025-06-29 19:01:53,697 - INFO -   Win Rate         : 50.00%\n"
     ]
    },
    {
     "name": "stdout",
     "output_type": "stream",
     "text": [
      "2025-06-29 19:01:53,699 - INFO - Backtest simulation for 'IV' on 2025-06-02 completed.\n"
     ]
    },
    {
     "name": "stdout",
     "output_type": "stream",
     "text": [
      "2025-06-29 19:01:53,700 - INFO - ------------------------------\n"
     ]
    },
    {
     "name": "stdout",
     "output_type": "stream",
     "text": [
      "2025-06-29 19:01:53,701 - INFO - Initiating Backtest Run...\n"
     ]
    },
    {
     "name": "stdout",
     "output_type": "stream",
     "text": [
      "2025-06-29 19:01:53,703 - INFO -   Date          : 2025-06-02\n"
     ]
    },
    {
     "name": "stdout",
     "output_type": "stream",
     "text": [
      "2025-06-29 19:01:53,704 - INFO -   Scheme        : SW\n"
     ]
    },
    {
     "name": "stdout",
     "output_type": "stream",
     "text": [
      "2025-06-29 19:01:53,708 - INFO -   Num Tickers   : 10\n"
     ]
    },
    {
     "name": "stdout",
     "output_type": "stream",
     "text": [
      "2025-06-29 19:01:53,710 - INFO -   Selection Date Used: 2025-06-02\n"
     ]
    },
    {
     "name": "stdout",
     "output_type": "stream",
     "text": [
      "2025-06-29 19:01:53,711 - INFO -   Buy Date           : 2025-06-03\n"
     ]
    },
    {
     "name": "stdout",
     "output_type": "stream",
     "text": [
      "2025-06-29 19:01:53,712 - INFO -   Sell Date          : 2025-06-04\n"
     ]
    },
    {
     "name": "stdout",
     "output_type": "stream",
     "text": [
      "2025-06-29 19:01:53,718 - INFO -   Trades Executed: 10/10\n"
     ]
    },
    {
     "name": "stdout",
     "output_type": "stream",
     "text": [
      "2025-06-29 19:01:53,719 - INFO -   Portfolio Return : 0.0031\n"
     ]
    },
    {
     "name": "stdout",
     "output_type": "stream",
     "text": [
      "2025-06-29 19:01:53,721 - INFO -   Win Rate         : 50.00%\n"
     ]
    },
    {
     "name": "stdout",
     "output_type": "stream",
     "text": [
      "2025-06-29 19:01:53,725 - INFO - Backtest simulation for 'SW' on 2025-06-02 completed.\n"
     ]
    },
    {
     "name": "stdout",
     "output_type": "stream",
     "text": [
      "2025-06-29 19:01:53,740 - INFO - ------------------------------\n"
     ]
    },
    {
     "name": "stdout",
     "output_type": "stream",
     "text": [
      "2025-06-29 19:01:53,743 - INFO - Initiating Backtest Run...\n"
     ]
    },
    {
     "name": "stdout",
     "output_type": "stream",
     "text": [
      "2025-06-29 19:01:53,744 - INFO -   Date          : 2025-06-03\n"
     ]
    },
    {
     "name": "stdout",
     "output_type": "stream",
     "text": [
      "2025-06-29 19:01:53,746 - INFO -   Scheme        : EW\n"
     ]
    },
    {
     "name": "stdout",
     "output_type": "stream",
     "text": [
      "2025-06-29 19:01:53,747 - INFO -   Num Tickers   : 10\n"
     ]
    },
    {
     "name": "stdout",
     "output_type": "stream",
     "text": [
      "2025-06-29 19:01:53,749 - INFO -   Selection Date Used: 2025-06-03\n"
     ]
    },
    {
     "name": "stdout",
     "output_type": "stream",
     "text": [
      "2025-06-29 19:01:53,750 - INFO -   Buy Date           : 2025-06-04\n"
     ]
    },
    {
     "name": "stdout",
     "output_type": "stream",
     "text": [
      "2025-06-29 19:01:53,751 - INFO -   Sell Date          : 2025-06-05\n"
     ]
    },
    {
     "name": "stdout",
     "output_type": "stream",
     "text": [
      "2025-06-29 19:01:53,759 - INFO -   Trades Executed: 10/10\n"
     ]
    },
    {
     "name": "stdout",
     "output_type": "stream",
     "text": [
      "2025-06-29 19:01:53,760 - INFO -   Portfolio Return : 0.0041\n"
     ]
    },
    {
     "name": "stdout",
     "output_type": "stream",
     "text": [
      "2025-06-29 19:01:53,763 - INFO -   Win Rate         : 40.00%\n"
     ]
    },
    {
     "name": "stdout",
     "output_type": "stream",
     "text": [
      "2025-06-29 19:01:53,764 - INFO - Backtest simulation for 'EW' on 2025-06-03 completed.\n"
     ]
    },
    {
     "name": "stdout",
     "output_type": "stream",
     "text": [
      "2025-06-29 19:01:53,765 - INFO - ------------------------------\n"
     ]
    },
    {
     "name": "stdout",
     "output_type": "stream",
     "text": [
      "2025-06-29 19:01:53,767 - INFO - Initiating Backtest Run...\n"
     ]
    },
    {
     "name": "stdout",
     "output_type": "stream",
     "text": [
      "2025-06-29 19:01:53,768 - INFO -   Date          : 2025-06-03\n"
     ]
    },
    {
     "name": "stdout",
     "output_type": "stream",
     "text": [
      "2025-06-29 19:01:53,769 - INFO -   Scheme        : IV\n"
     ]
    },
    {
     "name": "stdout",
     "output_type": "stream",
     "text": [
      "2025-06-29 19:01:53,771 - INFO -   Num Tickers   : 10\n"
     ]
    },
    {
     "name": "stdout",
     "output_type": "stream",
     "text": [
      "2025-06-29 19:01:53,775 - INFO -   Selection Date Used: 2025-06-03\n"
     ]
    },
    {
     "name": "stdout",
     "output_type": "stream",
     "text": [
      "2025-06-29 19:01:53,777 - INFO -   Buy Date           : 2025-06-04\n"
     ]
    },
    {
     "name": "stdout",
     "output_type": "stream",
     "text": [
      "2025-06-29 19:01:53,779 - INFO -   Sell Date          : 2025-06-05\n"
     ]
    },
    {
     "name": "stdout",
     "output_type": "stream",
     "text": [
      "2025-06-29 19:01:53,785 - INFO -   Trades Executed: 10/10\n"
     ]
    },
    {
     "name": "stdout",
     "output_type": "stream",
     "text": [
      "2025-06-29 19:01:53,786 - INFO -   Portfolio Return : 0.0035\n"
     ]
    },
    {
     "name": "stdout",
     "output_type": "stream",
     "text": [
      "2025-06-29 19:01:53,788 - INFO -   Win Rate         : 40.00%\n"
     ]
    },
    {
     "name": "stdout",
     "output_type": "stream",
     "text": [
      "2025-06-29 19:01:53,792 - INFO - Backtest simulation for 'IV' on 2025-06-03 completed.\n"
     ]
    },
    {
     "name": "stdout",
     "output_type": "stream",
     "text": [
      "2025-06-29 19:01:53,795 - INFO - ------------------------------\n"
     ]
    },
    {
     "name": "stdout",
     "output_type": "stream",
     "text": [
      "2025-06-29 19:01:53,797 - INFO - Initiating Backtest Run...\n"
     ]
    },
    {
     "name": "stdout",
     "output_type": "stream",
     "text": [
      "2025-06-29 19:01:53,798 - INFO -   Date          : 2025-06-03\n"
     ]
    },
    {
     "name": "stdout",
     "output_type": "stream",
     "text": [
      "2025-06-29 19:01:53,800 - INFO -   Scheme        : SW\n"
     ]
    },
    {
     "name": "stdout",
     "output_type": "stream",
     "text": [
      "2025-06-29 19:01:53,801 - INFO -   Num Tickers   : 10\n"
     ]
    },
    {
     "name": "stdout",
     "output_type": "stream",
     "text": [
      "2025-06-29 19:01:53,802 - INFO -   Selection Date Used: 2025-06-03\n"
     ]
    },
    {
     "name": "stdout",
     "output_type": "stream",
     "text": [
      "2025-06-29 19:01:53,803 - INFO -   Buy Date           : 2025-06-04\n"
     ]
    },
    {
     "name": "stdout",
     "output_type": "stream",
     "text": [
      "2025-06-29 19:01:53,804 - INFO -   Sell Date          : 2025-06-05\n"
     ]
    },
    {
     "name": "stdout",
     "output_type": "stream",
     "text": [
      "2025-06-29 19:01:53,813 - INFO -   Trades Executed: 10/10\n"
     ]
    },
    {
     "name": "stdout",
     "output_type": "stream",
     "text": [
      "2025-06-29 19:01:53,815 - INFO -   Portfolio Return : 0.0052\n"
     ]
    },
    {
     "name": "stdout",
     "output_type": "stream",
     "text": [
      "2025-06-29 19:01:53,817 - INFO -   Win Rate         : 40.00%\n"
     ]
    },
    {
     "name": "stdout",
     "output_type": "stream",
     "text": [
      "2025-06-29 19:01:53,818 - INFO - Backtest simulation for 'SW' on 2025-06-03 completed.\n"
     ]
    },
    {
     "name": "stdout",
     "output_type": "stream",
     "text": [
      "2025-06-29 19:01:53,829 - INFO - ------------------------------\n"
     ]
    },
    {
     "name": "stdout",
     "output_type": "stream",
     "text": [
      "2025-06-29 19:01:53,830 - INFO - Initiating Backtest Run...\n"
     ]
    },
    {
     "name": "stdout",
     "output_type": "stream",
     "text": [
      "2025-06-29 19:01:53,831 - INFO -   Date          : 2025-06-04\n"
     ]
    },
    {
     "name": "stdout",
     "output_type": "stream",
     "text": [
      "2025-06-29 19:01:53,833 - INFO -   Scheme        : EW\n"
     ]
    },
    {
     "name": "stdout",
     "output_type": "stream",
     "text": [
      "2025-06-29 19:01:53,834 - INFO -   Num Tickers   : 10\n"
     ]
    },
    {
     "name": "stdout",
     "output_type": "stream",
     "text": [
      "2025-06-29 19:01:53,836 - INFO -   Selection Date Used: 2025-06-04\n"
     ]
    },
    {
     "name": "stdout",
     "output_type": "stream",
     "text": [
      "2025-06-29 19:01:53,838 - INFO -   Buy Date           : 2025-06-05\n"
     ]
    },
    {
     "name": "stdout",
     "output_type": "stream",
     "text": [
      "2025-06-29 19:01:53,843 - INFO -   Sell Date          : 2025-06-06\n"
     ]
    },
    {
     "name": "stdout",
     "output_type": "stream",
     "text": [
      "2025-06-29 19:01:53,848 - INFO -   Trades Executed: 10/10\n"
     ]
    },
    {
     "name": "stdout",
     "output_type": "stream",
     "text": [
      "2025-06-29 19:01:53,849 - INFO -   Portfolio Return : 0.0143\n"
     ]
    },
    {
     "name": "stdout",
     "output_type": "stream",
     "text": [
      "2025-06-29 19:01:53,851 - INFO -   Win Rate         : 90.00%\n"
     ]
    },
    {
     "name": "stdout",
     "output_type": "stream",
     "text": [
      "2025-06-29 19:01:53,852 - INFO - Backtest simulation for 'EW' on 2025-06-04 completed.\n"
     ]
    },
    {
     "name": "stdout",
     "output_type": "stream",
     "text": [
      "2025-06-29 19:01:53,854 - INFO - ------------------------------\n"
     ]
    },
    {
     "name": "stdout",
     "output_type": "stream",
     "text": [
      "2025-06-29 19:01:53,855 - INFO - Initiating Backtest Run...\n"
     ]
    },
    {
     "name": "stdout",
     "output_type": "stream",
     "text": [
      "2025-06-29 19:01:53,859 - INFO -   Date          : 2025-06-04\n"
     ]
    },
    {
     "name": "stdout",
     "output_type": "stream",
     "text": [
      "2025-06-29 19:01:53,861 - INFO -   Scheme        : IV\n"
     ]
    },
    {
     "name": "stdout",
     "output_type": "stream",
     "text": [
      "2025-06-29 19:01:53,862 - INFO -   Num Tickers   : 10\n"
     ]
    },
    {
     "name": "stdout",
     "output_type": "stream",
     "text": [
      "2025-06-29 19:01:53,864 - INFO -   Selection Date Used: 2025-06-04\n"
     ]
    },
    {
     "name": "stdout",
     "output_type": "stream",
     "text": [
      "2025-06-29 19:01:53,866 - INFO -   Buy Date           : 2025-06-05\n"
     ]
    },
    {
     "name": "stdout",
     "output_type": "stream",
     "text": [
      "2025-06-29 19:01:53,867 - INFO -   Sell Date          : 2025-06-06\n"
     ]
    },
    {
     "name": "stdout",
     "output_type": "stream",
     "text": [
      "2025-06-29 19:01:53,874 - INFO -   Trades Executed: 10/10\n"
     ]
    },
    {
     "name": "stdout",
     "output_type": "stream",
     "text": [
      "2025-06-29 19:01:53,876 - INFO -   Portfolio Return : 0.0141\n"
     ]
    },
    {
     "name": "stdout",
     "output_type": "stream",
     "text": [
      "2025-06-29 19:01:53,877 - INFO -   Win Rate         : 90.00%\n"
     ]
    },
    {
     "name": "stdout",
     "output_type": "stream",
     "text": [
      "2025-06-29 19:01:53,879 - INFO - Backtest simulation for 'IV' on 2025-06-04 completed.\n"
     ]
    },
    {
     "name": "stdout",
     "output_type": "stream",
     "text": [
      "2025-06-29 19:01:53,881 - INFO - ------------------------------\n"
     ]
    },
    {
     "name": "stdout",
     "output_type": "stream",
     "text": [
      "2025-06-29 19:01:53,883 - INFO - Initiating Backtest Run...\n"
     ]
    },
    {
     "name": "stdout",
     "output_type": "stream",
     "text": [
      "2025-06-29 19:01:53,884 - INFO -   Date          : 2025-06-04\n"
     ]
    },
    {
     "name": "stdout",
     "output_type": "stream",
     "text": [
      "2025-06-29 19:01:53,885 - INFO -   Scheme        : SW\n"
     ]
    },
    {
     "name": "stdout",
     "output_type": "stream",
     "text": [
      "2025-06-29 19:01:53,886 - INFO -   Num Tickers   : 10\n"
     ]
    },
    {
     "name": "stdout",
     "output_type": "stream",
     "text": [
      "2025-06-29 19:01:53,888 - INFO -   Selection Date Used: 2025-06-04\n"
     ]
    },
    {
     "name": "stdout",
     "output_type": "stream",
     "text": [
      "2025-06-29 19:01:53,892 - INFO -   Buy Date           : 2025-06-05\n"
     ]
    },
    {
     "name": "stdout",
     "output_type": "stream",
     "text": [
      "2025-06-29 19:01:53,894 - INFO -   Sell Date          : 2025-06-06\n"
     ]
    },
    {
     "name": "stdout",
     "output_type": "stream",
     "text": [
      "2025-06-29 19:01:53,900 - INFO -   Trades Executed: 10/10\n"
     ]
    },
    {
     "name": "stdout",
     "output_type": "stream",
     "text": [
      "2025-06-29 19:01:53,902 - INFO -   Portfolio Return : 0.0144\n"
     ]
    },
    {
     "name": "stdout",
     "output_type": "stream",
     "text": [
      "2025-06-29 19:01:53,904 - INFO -   Win Rate         : 90.00%\n"
     ]
    },
    {
     "name": "stdout",
     "output_type": "stream",
     "text": [
      "2025-06-29 19:01:53,909 - INFO - Backtest simulation for 'SW' on 2025-06-04 completed.\n"
     ]
    },
    {
     "name": "stdout",
     "output_type": "stream",
     "text": [
      "2025-06-29 19:01:53,921 - INFO - ------------------------------\n"
     ]
    },
    {
     "name": "stdout",
     "output_type": "stream",
     "text": [
      "2025-06-29 19:01:53,922 - INFO - Initiating Backtest Run...\n"
     ]
    },
    {
     "name": "stdout",
     "output_type": "stream",
     "text": [
      "2025-06-29 19:01:53,926 - INFO -   Date          : 2025-06-05\n"
     ]
    },
    {
     "name": "stdout",
     "output_type": "stream",
     "text": [
      "2025-06-29 19:01:53,927 - INFO -   Scheme        : EW\n"
     ]
    },
    {
     "name": "stdout",
     "output_type": "stream",
     "text": [
      "2025-06-29 19:01:53,928 - INFO -   Num Tickers   : 10\n"
     ]
    },
    {
     "name": "stdout",
     "output_type": "stream",
     "text": [
      "2025-06-29 19:01:53,930 - INFO -   Selection Date Used: 2025-06-05\n"
     ]
    },
    {
     "name": "stdout",
     "output_type": "stream",
     "text": [
      "2025-06-29 19:01:53,931 - INFO -   Buy Date           : 2025-06-06\n"
     ]
    },
    {
     "name": "stdout",
     "output_type": "stream",
     "text": [
      "2025-06-29 19:01:53,932 - INFO -   Sell Date          : 2025-06-09\n"
     ]
    },
    {
     "name": "stdout",
     "output_type": "stream",
     "text": [
      "2025-06-29 19:01:53,939 - INFO -   Trades Executed: 10/10\n"
     ]
    },
    {
     "name": "stdout",
     "output_type": "stream",
     "text": [
      "2025-06-29 19:01:53,942 - INFO -   Portfolio Return : 0.0027\n"
     ]
    },
    {
     "name": "stdout",
     "output_type": "stream",
     "text": [
      "2025-06-29 19:01:53,943 - INFO -   Win Rate         : 60.00%\n"
     ]
    },
    {
     "name": "stdout",
     "output_type": "stream",
     "text": [
      "2025-06-29 19:01:53,945 - INFO - Backtest simulation for 'EW' on 2025-06-05 completed.\n"
     ]
    },
    {
     "name": "stdout",
     "output_type": "stream",
     "text": [
      "2025-06-29 19:01:53,948 - INFO - ------------------------------\n"
     ]
    },
    {
     "name": "stdout",
     "output_type": "stream",
     "text": [
      "2025-06-29 19:01:53,950 - INFO - Initiating Backtest Run...\n"
     ]
    },
    {
     "name": "stdout",
     "output_type": "stream",
     "text": [
      "2025-06-29 19:01:53,951 - INFO -   Date          : 2025-06-05\n"
     ]
    },
    {
     "name": "stdout",
     "output_type": "stream",
     "text": [
      "2025-06-29 19:01:53,952 - INFO -   Scheme        : IV\n"
     ]
    },
    {
     "name": "stdout",
     "output_type": "stream",
     "text": [
      "2025-06-29 19:01:53,954 - INFO -   Num Tickers   : 10\n"
     ]
    },
    {
     "name": "stdout",
     "output_type": "stream",
     "text": [
      "2025-06-29 19:01:53,958 - INFO -   Selection Date Used: 2025-06-05\n"
     ]
    },
    {
     "name": "stdout",
     "output_type": "stream",
     "text": [
      "2025-06-29 19:01:53,960 - INFO -   Buy Date           : 2025-06-06\n"
     ]
    },
    {
     "name": "stdout",
     "output_type": "stream",
     "text": [
      "2025-06-29 19:01:53,962 - INFO -   Sell Date          : 2025-06-09\n"
     ]
    },
    {
     "name": "stdout",
     "output_type": "stream",
     "text": [
      "2025-06-29 19:01:53,967 - INFO -   Trades Executed: 10/10\n"
     ]
    },
    {
     "name": "stdout",
     "output_type": "stream",
     "text": [
      "2025-06-29 19:01:53,968 - INFO -   Portfolio Return : -0.0001\n"
     ]
    },
    {
     "name": "stdout",
     "output_type": "stream",
     "text": [
      "2025-06-29 19:01:53,970 - INFO -   Win Rate         : 60.00%\n"
     ]
    },
    {
     "name": "stdout",
     "output_type": "stream",
     "text": [
      "2025-06-29 19:01:53,971 - INFO - Backtest simulation for 'IV' on 2025-06-05 completed.\n"
     ]
    },
    {
     "name": "stdout",
     "output_type": "stream",
     "text": [
      "2025-06-29 19:01:53,975 - INFO - ------------------------------\n"
     ]
    },
    {
     "name": "stdout",
     "output_type": "stream",
     "text": [
      "2025-06-29 19:01:53,976 - INFO - Initiating Backtest Run...\n"
     ]
    },
    {
     "name": "stdout",
     "output_type": "stream",
     "text": [
      "2025-06-29 19:01:53,977 - INFO -   Date          : 2025-06-05\n"
     ]
    },
    {
     "name": "stdout",
     "output_type": "stream",
     "text": [
      "2025-06-29 19:01:53,979 - INFO -   Scheme        : SW\n"
     ]
    },
    {
     "name": "stdout",
     "output_type": "stream",
     "text": [
      "2025-06-29 19:01:53,981 - INFO -   Num Tickers   : 10\n"
     ]
    },
    {
     "name": "stdout",
     "output_type": "stream",
     "text": [
      "2025-06-29 19:01:53,982 - INFO -   Selection Date Used: 2025-06-05\n"
     ]
    },
    {
     "name": "stdout",
     "output_type": "stream",
     "text": [
      "2025-06-29 19:01:53,984 - INFO -   Buy Date           : 2025-06-06\n"
     ]
    },
    {
     "name": "stdout",
     "output_type": "stream",
     "text": [
      "2025-06-29 19:01:53,985 - INFO -   Sell Date          : 2025-06-09\n"
     ]
    },
    {
     "name": "stdout",
     "output_type": "stream",
     "text": [
      "2025-06-29 19:01:53,994 - INFO -   Trades Executed: 10/10\n"
     ]
    },
    {
     "name": "stdout",
     "output_type": "stream",
     "text": [
      "2025-06-29 19:01:53,996 - INFO -   Portfolio Return : 0.0027\n"
     ]
    },
    {
     "name": "stdout",
     "output_type": "stream",
     "text": [
      "2025-06-29 19:01:54,000 - INFO -   Win Rate         : 60.00%\n"
     ]
    },
    {
     "name": "stdout",
     "output_type": "stream",
     "text": [
      "2025-06-29 19:01:54,002 - INFO - Backtest simulation for 'SW' on 2025-06-05 completed.\n"
     ]
    },
    {
     "name": "stdout",
     "output_type": "stream",
     "text": [
      "2025-06-29 19:01:54,014 - INFO - ------------------------------\n"
     ]
    },
    {
     "name": "stdout",
     "output_type": "stream",
     "text": [
      "2025-06-29 19:01:54,016 - INFO - Initiating Backtest Run...\n"
     ]
    },
    {
     "name": "stdout",
     "output_type": "stream",
     "text": [
      "2025-06-29 19:01:54,018 - INFO -   Date          : 2025-06-06\n"
     ]
    },
    {
     "name": "stdout",
     "output_type": "stream",
     "text": [
      "2025-06-29 19:01:54,019 - INFO -   Scheme        : EW\n"
     ]
    },
    {
     "name": "stdout",
     "output_type": "stream",
     "text": [
      "2025-06-29 19:01:54,020 - INFO -   Num Tickers   : 10\n"
     ]
    },
    {
     "name": "stdout",
     "output_type": "stream",
     "text": [
      "2025-06-29 19:01:54,023 - INFO -   Selection Date Used: 2025-06-06\n"
     ]
    },
    {
     "name": "stdout",
     "output_type": "stream",
     "text": [
      "2025-06-29 19:01:54,027 - INFO -   Buy Date           : 2025-06-09\n"
     ]
    },
    {
     "name": "stdout",
     "output_type": "stream",
     "text": [
      "2025-06-29 19:01:54,028 - INFO -   Sell Date          : 2025-06-10\n"
     ]
    },
    {
     "name": "stdout",
     "output_type": "stream",
     "text": [
      "2025-06-29 19:01:54,034 - INFO -   Trades Executed: 10/10\n"
     ]
    },
    {
     "name": "stdout",
     "output_type": "stream",
     "text": [
      "2025-06-29 19:01:54,035 - INFO -   Portfolio Return : -0.0036\n"
     ]
    },
    {
     "name": "stdout",
     "output_type": "stream",
     "text": [
      "2025-06-29 19:01:54,037 - INFO -   Win Rate         : 50.00%\n"
     ]
    },
    {
     "name": "stdout",
     "output_type": "stream",
     "text": [
      "2025-06-29 19:01:54,038 - INFO - Backtest simulation for 'EW' on 2025-06-06 completed.\n"
     ]
    },
    {
     "name": "stdout",
     "output_type": "stream",
     "text": [
      "2025-06-29 19:01:54,045 - INFO - ------------------------------\n"
     ]
    },
    {
     "name": "stdout",
     "output_type": "stream",
     "text": [
      "2025-06-29 19:01:54,047 - INFO - Initiating Backtest Run...\n"
     ]
    },
    {
     "name": "stdout",
     "output_type": "stream",
     "text": [
      "2025-06-29 19:01:54,048 - INFO -   Date          : 2025-06-06\n"
     ]
    },
    {
     "name": "stdout",
     "output_type": "stream",
     "text": [
      "2025-06-29 19:01:54,050 - INFO -   Scheme        : IV\n"
     ]
    },
    {
     "name": "stdout",
     "output_type": "stream",
     "text": [
      "2025-06-29 19:01:54,051 - INFO -   Num Tickers   : 10\n"
     ]
    },
    {
     "name": "stdout",
     "output_type": "stream",
     "text": [
      "2025-06-29 19:01:54,053 - INFO -   Selection Date Used: 2025-06-06\n"
     ]
    },
    {
     "name": "stdout",
     "output_type": "stream",
     "text": [
      "2025-06-29 19:01:54,054 - INFO -   Buy Date           : 2025-06-09\n"
     ]
    },
    {
     "name": "stdout",
     "output_type": "stream",
     "text": [
      "2025-06-29 19:01:54,059 - INFO -   Sell Date          : 2025-06-10\n"
     ]
    },
    {
     "name": "stdout",
     "output_type": "stream",
     "text": [
      "2025-06-29 19:01:54,064 - INFO -   Trades Executed: 10/10\n"
     ]
    },
    {
     "name": "stdout",
     "output_type": "stream",
     "text": [
      "2025-06-29 19:01:54,066 - INFO -   Portfolio Return : -0.0008\n"
     ]
    },
    {
     "name": "stdout",
     "output_type": "stream",
     "text": [
      "2025-06-29 19:01:54,068 - INFO -   Win Rate         : 50.00%\n"
     ]
    },
    {
     "name": "stdout",
     "output_type": "stream",
     "text": [
      "2025-06-29 19:01:54,069 - INFO - Backtest simulation for 'IV' on 2025-06-06 completed.\n"
     ]
    },
    {
     "name": "stdout",
     "output_type": "stream",
     "text": [
      "2025-06-29 19:01:54,072 - INFO - ------------------------------\n"
     ]
    },
    {
     "name": "stdout",
     "output_type": "stream",
     "text": [
      "2025-06-29 19:01:54,076 - INFO - Initiating Backtest Run...\n"
     ]
    },
    {
     "name": "stdout",
     "output_type": "stream",
     "text": [
      "2025-06-29 19:01:54,077 - INFO -   Date          : 2025-06-06\n"
     ]
    },
    {
     "name": "stdout",
     "output_type": "stream",
     "text": [
      "2025-06-29 19:01:54,078 - INFO -   Scheme        : SW\n"
     ]
    },
    {
     "name": "stdout",
     "output_type": "stream",
     "text": [
      "2025-06-29 19:01:54,079 - INFO -   Num Tickers   : 10\n"
     ]
    },
    {
     "name": "stdout",
     "output_type": "stream",
     "text": [
      "2025-06-29 19:01:54,080 - INFO -   Selection Date Used: 2025-06-06\n"
     ]
    },
    {
     "name": "stdout",
     "output_type": "stream",
     "text": [
      "2025-06-29 19:01:54,082 - INFO -   Buy Date           : 2025-06-09\n"
     ]
    },
    {
     "name": "stdout",
     "output_type": "stream",
     "text": [
      "2025-06-29 19:01:54,083 - INFO -   Sell Date          : 2025-06-10\n"
     ]
    },
    {
     "name": "stdout",
     "output_type": "stream",
     "text": [
      "2025-06-29 19:01:54,088 - INFO -   Trades Executed: 10/10\n"
     ]
    },
    {
     "name": "stdout",
     "output_type": "stream",
     "text": [
      "2025-06-29 19:01:54,092 - INFO -   Portfolio Return : -0.0073\n"
     ]
    },
    {
     "name": "stdout",
     "output_type": "stream",
     "text": [
      "2025-06-29 19:01:54,096 - INFO -   Win Rate         : 50.00%\n"
     ]
    },
    {
     "name": "stdout",
     "output_type": "stream",
     "text": [
      "2025-06-29 19:01:54,099 - INFO - Backtest simulation for 'SW' on 2025-06-06 completed.\n"
     ]
    },
    {
     "name": "stdout",
     "output_type": "stream",
     "text": [
      "2025-06-29 19:01:54,111 - INFO - ------------------------------\n"
     ]
    },
    {
     "name": "stdout",
     "output_type": "stream",
     "text": [
      "2025-06-29 19:01:54,113 - INFO - Initiating Backtest Run...\n"
     ]
    },
    {
     "name": "stdout",
     "output_type": "stream",
     "text": [
      "2025-06-29 19:01:54,114 - INFO -   Date          : 2025-06-09\n"
     ]
    },
    {
     "name": "stdout",
     "output_type": "stream",
     "text": [
      "2025-06-29 19:01:54,115 - INFO -   Scheme        : EW\n"
     ]
    },
    {
     "name": "stdout",
     "output_type": "stream",
     "text": [
      "2025-06-29 19:01:54,119 - INFO -   Num Tickers   : 10\n"
     ]
    },
    {
     "name": "stdout",
     "output_type": "stream",
     "text": [
      "2025-06-29 19:01:54,120 - INFO -   Selection Date Used: 2025-06-09\n"
     ]
    },
    {
     "name": "stdout",
     "output_type": "stream",
     "text": [
      "2025-06-29 19:01:54,124 - INFO -   Buy Date           : 2025-06-10\n"
     ]
    },
    {
     "name": "stdout",
     "output_type": "stream",
     "text": [
      "2025-06-29 19:01:54,126 - INFO -   Sell Date          : 2025-06-11\n"
     ]
    },
    {
     "name": "stdout",
     "output_type": "stream",
     "text": [
      "2025-06-29 19:01:54,132 - INFO -   Trades Executed: 10/10\n"
     ]
    },
    {
     "name": "stdout",
     "output_type": "stream",
     "text": [
      "2025-06-29 19:01:54,134 - INFO -   Portfolio Return : -0.0033\n"
     ]
    },
    {
     "name": "stdout",
     "output_type": "stream",
     "text": [
      "2025-06-29 19:01:54,136 - INFO -   Win Rate         : 50.00%\n"
     ]
    },
    {
     "name": "stdout",
     "output_type": "stream",
     "text": [
      "2025-06-29 19:01:54,138 - INFO - Backtest simulation for 'EW' on 2025-06-09 completed.\n"
     ]
    },
    {
     "name": "stdout",
     "output_type": "stream",
     "text": [
      "2025-06-29 19:01:54,142 - INFO - ------------------------------\n"
     ]
    },
    {
     "name": "stdout",
     "output_type": "stream",
     "text": [
      "2025-06-29 19:01:54,144 - INFO - Initiating Backtest Run...\n"
     ]
    },
    {
     "name": "stdout",
     "output_type": "stream",
     "text": [
      "2025-06-29 19:01:54,145 - INFO -   Date          : 2025-06-09\n"
     ]
    },
    {
     "name": "stdout",
     "output_type": "stream",
     "text": [
      "2025-06-29 19:01:54,146 - INFO -   Scheme        : IV\n"
     ]
    },
    {
     "name": "stdout",
     "output_type": "stream",
     "text": [
      "2025-06-29 19:01:54,148 - INFO -   Num Tickers   : 10\n"
     ]
    },
    {
     "name": "stdout",
     "output_type": "stream",
     "text": [
      "2025-06-29 19:01:54,150 - INFO -   Selection Date Used: 2025-06-09\n"
     ]
    },
    {
     "name": "stdout",
     "output_type": "stream",
     "text": [
      "2025-06-29 19:01:54,151 - INFO -   Buy Date           : 2025-06-10\n"
     ]
    },
    {
     "name": "stdout",
     "output_type": "stream",
     "text": [
      "2025-06-29 19:01:54,153 - INFO -   Sell Date          : 2025-06-11\n"
     ]
    },
    {
     "name": "stdout",
     "output_type": "stream",
     "text": [
      "2025-06-29 19:01:54,161 - INFO -   Trades Executed: 10/10\n"
     ]
    },
    {
     "name": "stdout",
     "output_type": "stream",
     "text": [
      "2025-06-29 19:01:54,163 - INFO -   Portfolio Return : -0.0011\n"
     ]
    },
    {
     "name": "stdout",
     "output_type": "stream",
     "text": [
      "2025-06-29 19:01:54,164 - INFO -   Win Rate         : 50.00%\n"
     ]
    },
    {
     "name": "stdout",
     "output_type": "stream",
     "text": [
      "2025-06-29 19:01:54,166 - INFO - Backtest simulation for 'IV' on 2025-06-09 completed.\n"
     ]
    },
    {
     "name": "stdout",
     "output_type": "stream",
     "text": [
      "2025-06-29 19:01:54,168 - INFO - ------------------------------\n"
     ]
    },
    {
     "name": "stdout",
     "output_type": "stream",
     "text": [
      "2025-06-29 19:01:54,169 - INFO - Initiating Backtest Run...\n"
     ]
    },
    {
     "name": "stdout",
     "output_type": "stream",
     "text": [
      "2025-06-29 19:01:54,171 - INFO -   Date          : 2025-06-09\n"
     ]
    },
    {
     "name": "stdout",
     "output_type": "stream",
     "text": [
      "2025-06-29 19:01:54,173 - INFO -   Scheme        : SW\n"
     ]
    },
    {
     "name": "stdout",
     "output_type": "stream",
     "text": [
      "2025-06-29 19:01:54,175 - INFO -   Num Tickers   : 10\n"
     ]
    },
    {
     "name": "stdout",
     "output_type": "stream",
     "text": [
      "2025-06-29 19:01:54,177 - INFO -   Selection Date Used: 2025-06-09\n"
     ]
    },
    {
     "name": "stdout",
     "output_type": "stream",
     "text": [
      "2025-06-29 19:01:54,179 - INFO -   Buy Date           : 2025-06-10\n"
     ]
    },
    {
     "name": "stdout",
     "output_type": "stream",
     "text": [
      "2025-06-29 19:01:54,180 - INFO -   Sell Date          : 2025-06-11\n"
     ]
    },
    {
     "name": "stdout",
     "output_type": "stream",
     "text": [
      "2025-06-29 19:01:54,185 - INFO -   Trades Executed: 10/10\n"
     ]
    },
    {
     "name": "stdout",
     "output_type": "stream",
     "text": [
      "2025-06-29 19:01:54,187 - INFO -   Portfolio Return : -0.0046\n"
     ]
    },
    {
     "name": "stdout",
     "output_type": "stream",
     "text": [
      "2025-06-29 19:01:54,191 - INFO -   Win Rate         : 50.00%\n"
     ]
    },
    {
     "name": "stdout",
     "output_type": "stream",
     "text": [
      "2025-06-29 19:01:54,192 - INFO - Backtest simulation for 'SW' on 2025-06-09 completed.\n"
     ]
    },
    {
     "name": "stdout",
     "output_type": "stream",
     "text": [
      "2025-06-29 19:01:54,204 - INFO - ------------------------------\n"
     ]
    },
    {
     "name": "stdout",
     "output_type": "stream",
     "text": [
      "2025-06-29 19:01:54,205 - INFO - Initiating Backtest Run...\n"
     ]
    },
    {
     "name": "stdout",
     "output_type": "stream",
     "text": [
      "2025-06-29 19:01:54,210 - INFO -   Date          : 2025-06-10\n"
     ]
    },
    {
     "name": "stdout",
     "output_type": "stream",
     "text": [
      "2025-06-29 19:01:54,211 - INFO -   Scheme        : EW\n"
     ]
    },
    {
     "name": "stdout",
     "output_type": "stream",
     "text": [
      "2025-06-29 19:01:54,213 - INFO -   Num Tickers   : 10\n"
     ]
    },
    {
     "name": "stdout",
     "output_type": "stream",
     "text": [
      "2025-06-29 19:01:54,215 - INFO -   Selection Date Used: 2025-06-10\n"
     ]
    },
    {
     "name": "stdout",
     "output_type": "stream",
     "text": [
      "2025-06-29 19:01:54,216 - INFO -   Buy Date           : 2025-06-11\n"
     ]
    },
    {
     "name": "stdout",
     "output_type": "stream",
     "text": [
      "2025-06-29 19:01:54,218 - INFO -   Sell Date          : 2025-06-12\n"
     ]
    },
    {
     "name": "stdout",
     "output_type": "stream",
     "text": [
      "2025-06-29 19:01:54,226 - INFO -   Trades Executed: 10/10\n"
     ]
    },
    {
     "name": "stdout",
     "output_type": "stream",
     "text": [
      "2025-06-29 19:01:54,228 - INFO -   Portfolio Return : -0.0016\n"
     ]
    },
    {
     "name": "stdout",
     "output_type": "stream",
     "text": [
      "2025-06-29 19:01:54,229 - INFO -   Win Rate         : 40.00%\n"
     ]
    },
    {
     "name": "stdout",
     "output_type": "stream",
     "text": [
      "2025-06-29 19:01:54,231 - INFO - Backtest simulation for 'EW' on 2025-06-10 completed.\n"
     ]
    },
    {
     "name": "stdout",
     "output_type": "stream",
     "text": [
      "2025-06-29 19:01:54,232 - INFO - ------------------------------\n"
     ]
    },
    {
     "name": "stdout",
     "output_type": "stream",
     "text": [
      "2025-06-29 19:01:54,234 - INFO - Initiating Backtest Run...\n"
     ]
    },
    {
     "name": "stdout",
     "output_type": "stream",
     "text": [
      "2025-06-29 19:01:54,236 - INFO -   Date          : 2025-06-10\n"
     ]
    },
    {
     "name": "stdout",
     "output_type": "stream",
     "text": [
      "2025-06-29 19:01:54,238 - INFO -   Scheme        : IV\n"
     ]
    },
    {
     "name": "stdout",
     "output_type": "stream",
     "text": [
      "2025-06-29 19:01:54,241 - INFO -   Num Tickers   : 10\n"
     ]
    },
    {
     "name": "stdout",
     "output_type": "stream",
     "text": [
      "2025-06-29 19:01:54,244 - INFO -   Selection Date Used: 2025-06-10\n"
     ]
    },
    {
     "name": "stdout",
     "output_type": "stream",
     "text": [
      "2025-06-29 19:01:54,245 - INFO -   Buy Date           : 2025-06-11\n"
     ]
    },
    {
     "name": "stdout",
     "output_type": "stream",
     "text": [
      "2025-06-29 19:01:54,247 - INFO -   Sell Date          : 2025-06-12\n"
     ]
    },
    {
     "name": "stdout",
     "output_type": "stream",
     "text": [
      "2025-06-29 19:01:54,253 - INFO -   Trades Executed: 10/10\n"
     ]
    },
    {
     "name": "stdout",
     "output_type": "stream",
     "text": [
      "2025-06-29 19:01:54,254 - INFO -   Portfolio Return : -0.0014\n"
     ]
    },
    {
     "name": "stdout",
     "output_type": "stream",
     "text": [
      "2025-06-29 19:01:54,255 - INFO -   Win Rate         : 40.00%\n"
     ]
    },
    {
     "name": "stdout",
     "output_type": "stream",
     "text": [
      "2025-06-29 19:01:54,259 - INFO - Backtest simulation for 'IV' on 2025-06-10 completed.\n"
     ]
    },
    {
     "name": "stdout",
     "output_type": "stream",
     "text": [
      "2025-06-29 19:01:54,261 - INFO - ------------------------------\n"
     ]
    },
    {
     "name": "stdout",
     "output_type": "stream",
     "text": [
      "2025-06-29 19:01:54,263 - INFO - Initiating Backtest Run...\n"
     ]
    },
    {
     "name": "stdout",
     "output_type": "stream",
     "text": [
      "2025-06-29 19:01:54,264 - INFO -   Date          : 2025-06-10\n"
     ]
    },
    {
     "name": "stdout",
     "output_type": "stream",
     "text": [
      "2025-06-29 19:01:54,266 - INFO -   Scheme        : SW\n"
     ]
    },
    {
     "name": "stdout",
     "output_type": "stream",
     "text": [
      "2025-06-29 19:01:54,268 - INFO -   Num Tickers   : 10\n"
     ]
    },
    {
     "name": "stdout",
     "output_type": "stream",
     "text": [
      "2025-06-29 19:01:54,270 - INFO -   Selection Date Used: 2025-06-10\n"
     ]
    },
    {
     "name": "stdout",
     "output_type": "stream",
     "text": [
      "2025-06-29 19:01:54,271 - INFO -   Buy Date           : 2025-06-11\n"
     ]
    },
    {
     "name": "stdout",
     "output_type": "stream",
     "text": [
      "2025-06-29 19:01:54,273 - INFO -   Sell Date          : 2025-06-12\n"
     ]
    },
    {
     "name": "stdout",
     "output_type": "stream",
     "text": [
      "2025-06-29 19:01:54,279 - INFO -   Trades Executed: 10/10\n"
     ]
    },
    {
     "name": "stdout",
     "output_type": "stream",
     "text": [
      "2025-06-29 19:01:54,281 - INFO -   Portfolio Return : -0.0021\n"
     ]
    },
    {
     "name": "stdout",
     "output_type": "stream",
     "text": [
      "2025-06-29 19:01:54,283 - INFO -   Win Rate         : 40.00%\n"
     ]
    },
    {
     "name": "stdout",
     "output_type": "stream",
     "text": [
      "2025-06-29 19:01:54,284 - INFO - Backtest simulation for 'SW' on 2025-06-10 completed.\n"
     ]
    },
    {
     "name": "stdout",
     "output_type": "stream",
     "text": [
      "2025-06-29 19:01:54,299 - INFO - ------------------------------\n"
     ]
    },
    {
     "name": "stdout",
     "output_type": "stream",
     "text": [
      "2025-06-29 19:01:54,300 - INFO - Initiating Backtest Run...\n"
     ]
    },
    {
     "name": "stdout",
     "output_type": "stream",
     "text": [
      "2025-06-29 19:01:54,302 - INFO -   Date          : 2025-06-11\n"
     ]
    },
    {
     "name": "stdout",
     "output_type": "stream",
     "text": [
      "2025-06-29 19:01:54,303 - INFO -   Scheme        : EW\n"
     ]
    },
    {
     "name": "stdout",
     "output_type": "stream",
     "text": [
      "2025-06-29 19:01:54,308 - INFO -   Num Tickers   : 10\n"
     ]
    },
    {
     "name": "stdout",
     "output_type": "stream",
     "text": [
      "2025-06-29 19:01:54,313 - INFO -   Selection Date Used: 2025-06-11\n"
     ]
    },
    {
     "name": "stdout",
     "output_type": "stream",
     "text": [
      "2025-06-29 19:01:54,316 - INFO -   Buy Date           : 2025-06-12\n"
     ]
    },
    {
     "name": "stdout",
     "output_type": "stream",
     "text": [
      "2025-06-29 19:01:54,317 - INFO -   Sell Date          : 2025-06-13\n"
     ]
    },
    {
     "name": "stdout",
     "output_type": "stream",
     "text": [
      "2025-06-29 19:01:54,325 - INFO -   Trades Executed: 10/10\n"
     ]
    },
    {
     "name": "stdout",
     "output_type": "stream",
     "text": [
      "2025-06-29 19:01:54,327 - INFO -   Portfolio Return : -0.0178\n"
     ]
    },
    {
     "name": "stdout",
     "output_type": "stream",
     "text": [
      "2025-06-29 19:01:54,328 - INFO -   Win Rate         : 20.00%\n"
     ]
    },
    {
     "name": "stdout",
     "output_type": "stream",
     "text": [
      "2025-06-29 19:01:54,330 - INFO - Backtest simulation for 'EW' on 2025-06-11 completed.\n"
     ]
    },
    {
     "name": "stdout",
     "output_type": "stream",
     "text": [
      "2025-06-29 19:01:54,332 - INFO - ------------------------------\n"
     ]
    },
    {
     "name": "stdout",
     "output_type": "stream",
     "text": [
      "2025-06-29 19:01:54,333 - INFO - Initiating Backtest Run...\n"
     ]
    },
    {
     "name": "stdout",
     "output_type": "stream",
     "text": [
      "2025-06-29 19:01:54,335 - INFO -   Date          : 2025-06-11\n"
     ]
    },
    {
     "name": "stdout",
     "output_type": "stream",
     "text": [
      "2025-06-29 19:01:54,336 - INFO -   Scheme        : IV\n"
     ]
    },
    {
     "name": "stdout",
     "output_type": "stream",
     "text": [
      "2025-06-29 19:01:54,338 - INFO -   Num Tickers   : 10\n"
     ]
    },
    {
     "name": "stdout",
     "output_type": "stream",
     "text": [
      "2025-06-29 19:01:54,342 - INFO -   Selection Date Used: 2025-06-11\n"
     ]
    },
    {
     "name": "stdout",
     "output_type": "stream",
     "text": [
      "2025-06-29 19:01:54,344 - INFO -   Buy Date           : 2025-06-12\n"
     ]
    },
    {
     "name": "stdout",
     "output_type": "stream",
     "text": [
      "2025-06-29 19:01:54,346 - INFO -   Sell Date          : 2025-06-13\n"
     ]
    },
    {
     "name": "stdout",
     "output_type": "stream",
     "text": [
      "2025-06-29 19:01:54,352 - INFO -   Trades Executed: 10/10\n"
     ]
    },
    {
     "name": "stdout",
     "output_type": "stream",
     "text": [
      "2025-06-29 19:01:54,354 - INFO -   Portfolio Return : -0.0172\n"
     ]
    },
    {
     "name": "stdout",
     "output_type": "stream",
     "text": [
      "2025-06-29 19:01:54,358 - INFO -   Win Rate         : 20.00%\n"
     ]
    },
    {
     "name": "stdout",
     "output_type": "stream",
     "text": [
      "2025-06-29 19:01:54,360 - INFO - Backtest simulation for 'IV' on 2025-06-11 completed.\n"
     ]
    },
    {
     "name": "stdout",
     "output_type": "stream",
     "text": [
      "2025-06-29 19:01:54,362 - INFO - ------------------------------\n"
     ]
    },
    {
     "name": "stdout",
     "output_type": "stream",
     "text": [
      "2025-06-29 19:01:54,363 - INFO - Initiating Backtest Run...\n"
     ]
    },
    {
     "name": "stdout",
     "output_type": "stream",
     "text": [
      "2025-06-29 19:01:54,364 - INFO -   Date          : 2025-06-11\n"
     ]
    },
    {
     "name": "stdout",
     "output_type": "stream",
     "text": [
      "2025-06-29 19:01:54,365 - INFO -   Scheme        : SW\n"
     ]
    },
    {
     "name": "stdout",
     "output_type": "stream",
     "text": [
      "2025-06-29 19:01:54,367 - INFO -   Num Tickers   : 10\n"
     ]
    },
    {
     "name": "stdout",
     "output_type": "stream",
     "text": [
      "2025-06-29 19:01:54,368 - INFO -   Selection Date Used: 2025-06-11\n"
     ]
    },
    {
     "name": "stdout",
     "output_type": "stream",
     "text": [
      "2025-06-29 19:01:54,370 - INFO -   Buy Date           : 2025-06-12\n"
     ]
    },
    {
     "name": "stdout",
     "output_type": "stream",
     "text": [
      "2025-06-29 19:01:54,372 - INFO -   Sell Date          : 2025-06-13\n"
     ]
    },
    {
     "name": "stdout",
     "output_type": "stream",
     "text": [
      "2025-06-29 19:01:54,379 - INFO -   Trades Executed: 10/10\n"
     ]
    },
    {
     "name": "stdout",
     "output_type": "stream",
     "text": [
      "2025-06-29 19:01:54,381 - INFO -   Portfolio Return : -0.0184\n"
     ]
    },
    {
     "name": "stdout",
     "output_type": "stream",
     "text": [
      "2025-06-29 19:01:54,383 - INFO -   Win Rate         : 20.00%\n"
     ]
    },
    {
     "name": "stdout",
     "output_type": "stream",
     "text": [
      "2025-06-29 19:01:54,384 - INFO - Backtest simulation for 'SW' on 2025-06-11 completed.\n"
     ]
    },
    {
     "name": "stdout",
     "output_type": "stream",
     "text": [
      "2025-06-29 19:01:54,395 - INFO - ------------------------------\n"
     ]
    },
    {
     "name": "stdout",
     "output_type": "stream",
     "text": [
      "2025-06-29 19:01:54,397 - INFO - Initiating Backtest Run...\n"
     ]
    },
    {
     "name": "stdout",
     "output_type": "stream",
     "text": [
      "2025-06-29 19:01:54,398 - INFO -   Date          : 2025-06-12\n"
     ]
    },
    {
     "name": "stdout",
     "output_type": "stream",
     "text": [
      "2025-06-29 19:01:54,401 - INFO -   Scheme        : EW\n"
     ]
    },
    {
     "name": "stdout",
     "output_type": "stream",
     "text": [
      "2025-06-29 19:01:54,402 - INFO -   Num Tickers   : 10\n"
     ]
    },
    {
     "name": "stdout",
     "output_type": "stream",
     "text": [
      "2025-06-29 19:01:54,404 - INFO -   Selection Date Used: 2025-06-12\n"
     ]
    },
    {
     "name": "stdout",
     "output_type": "stream",
     "text": [
      "2025-06-29 19:01:54,408 - INFO -   Buy Date           : 2025-06-13\n"
     ]
    },
    {
     "name": "stdout",
     "output_type": "stream",
     "text": [
      "2025-06-29 19:01:54,410 - INFO -   Sell Date          : 2025-06-16\n"
     ]
    },
    {
     "name": "stdout",
     "output_type": "stream",
     "text": [
      "2025-06-29 19:01:54,417 - INFO -   Trades Executed: 10/10\n"
     ]
    },
    {
     "name": "stdout",
     "output_type": "stream",
     "text": [
      "2025-06-29 19:01:54,419 - INFO -   Portfolio Return : 0.0071\n"
     ]
    },
    {
     "name": "stdout",
     "output_type": "stream",
     "text": [
      "2025-06-29 19:01:54,421 - INFO -   Win Rate         : 60.00%\n"
     ]
    },
    {
     "name": "stdout",
     "output_type": "stream",
     "text": [
      "2025-06-29 19:01:54,426 - INFO - Backtest simulation for 'EW' on 2025-06-12 completed.\n"
     ]
    },
    {
     "name": "stdout",
     "output_type": "stream",
     "text": [
      "2025-06-29 19:01:54,429 - INFO - ------------------------------\n"
     ]
    },
    {
     "name": "stdout",
     "output_type": "stream",
     "text": [
      "2025-06-29 19:01:54,431 - INFO - Initiating Backtest Run...\n"
     ]
    },
    {
     "name": "stdout",
     "output_type": "stream",
     "text": [
      "2025-06-29 19:01:54,432 - INFO -   Date          : 2025-06-12\n"
     ]
    },
    {
     "name": "stdout",
     "output_type": "stream",
     "text": [
      "2025-06-29 19:01:54,434 - INFO -   Scheme        : IV\n"
     ]
    },
    {
     "name": "stdout",
     "output_type": "stream",
     "text": [
      "2025-06-29 19:01:54,436 - INFO -   Num Tickers   : 10\n"
     ]
    },
    {
     "name": "stdout",
     "output_type": "stream",
     "text": [
      "2025-06-29 19:01:54,438 - INFO -   Selection Date Used: 2025-06-12\n"
     ]
    },
    {
     "name": "stdout",
     "output_type": "stream",
     "text": [
      "2025-06-29 19:01:54,442 - INFO -   Buy Date           : 2025-06-13\n"
     ]
    },
    {
     "name": "stdout",
     "output_type": "stream",
     "text": [
      "2025-06-29 19:01:54,444 - INFO -   Sell Date          : 2025-06-16\n"
     ]
    },
    {
     "name": "stdout",
     "output_type": "stream",
     "text": [
      "2025-06-29 19:01:54,450 - INFO -   Trades Executed: 10/10\n"
     ]
    },
    {
     "name": "stdout",
     "output_type": "stream",
     "text": [
      "2025-06-29 19:01:54,452 - INFO -   Portfolio Return : 0.0041\n"
     ]
    },
    {
     "name": "stdout",
     "output_type": "stream",
     "text": [
      "2025-06-29 19:01:54,453 - INFO -   Win Rate         : 60.00%\n"
     ]
    },
    {
     "name": "stdout",
     "output_type": "stream",
     "text": [
      "2025-06-29 19:01:54,459 - INFO - Backtest simulation for 'IV' on 2025-06-12 completed.\n"
     ]
    },
    {
     "name": "stdout",
     "output_type": "stream",
     "text": [
      "2025-06-29 19:01:54,461 - INFO - ------------------------------\n"
     ]
    },
    {
     "name": "stdout",
     "output_type": "stream",
     "text": [
      "2025-06-29 19:01:54,463 - INFO - Initiating Backtest Run...\n"
     ]
    },
    {
     "name": "stdout",
     "output_type": "stream",
     "text": [
      "2025-06-29 19:01:54,464 - INFO -   Date          : 2025-06-12\n"
     ]
    },
    {
     "name": "stdout",
     "output_type": "stream",
     "text": [
      "2025-06-29 19:01:54,466 - INFO -   Scheme        : SW\n"
     ]
    },
    {
     "name": "stdout",
     "output_type": "stream",
     "text": [
      "2025-06-29 19:01:54,467 - INFO -   Num Tickers   : 10\n"
     ]
    },
    {
     "name": "stdout",
     "output_type": "stream",
     "text": [
      "2025-06-29 19:01:54,469 - INFO -   Selection Date Used: 2025-06-12\n"
     ]
    },
    {
     "name": "stdout",
     "output_type": "stream",
     "text": [
      "2025-06-29 19:01:54,471 - INFO -   Buy Date           : 2025-06-13\n"
     ]
    },
    {
     "name": "stdout",
     "output_type": "stream",
     "text": [
      "2025-06-29 19:01:54,474 - INFO -   Sell Date          : 2025-06-16\n"
     ]
    },
    {
     "name": "stdout",
     "output_type": "stream",
     "text": [
      "2025-06-29 19:01:54,480 - INFO -   Trades Executed: 10/10\n"
     ]
    },
    {
     "name": "stdout",
     "output_type": "stream",
     "text": [
      "2025-06-29 19:01:54,481 - INFO -   Portfolio Return : 0.0220\n"
     ]
    },
    {
     "name": "stdout",
     "output_type": "stream",
     "text": [
      "2025-06-29 19:01:54,483 - INFO -   Win Rate         : 60.00%\n"
     ]
    },
    {
     "name": "stdout",
     "output_type": "stream",
     "text": [
      "2025-06-29 19:01:54,484 - INFO - Backtest simulation for 'SW' on 2025-06-12 completed.\n"
     ]
    },
    {
     "name": "stdout",
     "output_type": "stream",
     "text": [
      "2025-06-29 19:01:54,499 - INFO - ------------------------------\n"
     ]
    },
    {
     "name": "stdout",
     "output_type": "stream",
     "text": [
      "2025-06-29 19:01:54,500 - INFO - Initiating Backtest Run...\n"
     ]
    },
    {
     "name": "stdout",
     "output_type": "stream",
     "text": [
      "2025-06-29 19:01:54,502 - INFO -   Date          : 2025-06-13\n"
     ]
    },
    {
     "name": "stdout",
     "output_type": "stream",
     "text": [
      "2025-06-29 19:01:54,503 - INFO -   Scheme        : EW\n"
     ]
    },
    {
     "name": "stdout",
     "output_type": "stream",
     "text": [
      "2025-06-29 19:01:54,504 - INFO -   Num Tickers   : 10\n"
     ]
    },
    {
     "name": "stdout",
     "output_type": "stream",
     "text": [
      "2025-06-29 19:01:54,509 - INFO -   Selection Date Used: 2025-06-13\n"
     ]
    },
    {
     "name": "stdout",
     "output_type": "stream",
     "text": [
      "2025-06-29 19:01:54,510 - INFO -   Buy Date           : 2025-06-16\n"
     ]
    },
    {
     "name": "stdout",
     "output_type": "stream",
     "text": [
      "2025-06-29 19:01:54,512 - INFO -   Sell Date          : 2025-06-17\n"
     ]
    },
    {
     "name": "stdout",
     "output_type": "stream",
     "text": [
      "2025-06-29 19:01:54,518 - INFO -   Trades Executed: 10/10\n"
     ]
    },
    {
     "name": "stdout",
     "output_type": "stream",
     "text": [
      "2025-06-29 19:01:54,519 - INFO -   Portfolio Return : -0.0103\n"
     ]
    },
    {
     "name": "stdout",
     "output_type": "stream",
     "text": [
      "2025-06-29 19:01:54,521 - INFO -   Win Rate         : 30.00%\n"
     ]
    },
    {
     "name": "stdout",
     "output_type": "stream",
     "text": [
      "2025-06-29 19:01:54,525 - INFO - Backtest simulation for 'EW' on 2025-06-13 completed.\n"
     ]
    },
    {
     "name": "stdout",
     "output_type": "stream",
     "text": [
      "2025-06-29 19:01:54,527 - INFO - ------------------------------\n"
     ]
    },
    {
     "name": "stdout",
     "output_type": "stream",
     "text": [
      "2025-06-29 19:01:54,528 - INFO - Initiating Backtest Run...\n"
     ]
    },
    {
     "name": "stdout",
     "output_type": "stream",
     "text": [
      "2025-06-29 19:01:54,530 - INFO -   Date          : 2025-06-13\n"
     ]
    },
    {
     "name": "stdout",
     "output_type": "stream",
     "text": [
      "2025-06-29 19:01:54,531 - INFO -   Scheme        : IV\n"
     ]
    },
    {
     "name": "stdout",
     "output_type": "stream",
     "text": [
      "2025-06-29 19:01:54,532 - INFO -   Num Tickers   : 10\n"
     ]
    },
    {
     "name": "stdout",
     "output_type": "stream",
     "text": [
      "2025-06-29 19:01:54,533 - INFO -   Selection Date Used: 2025-06-13\n"
     ]
    },
    {
     "name": "stdout",
     "output_type": "stream",
     "text": [
      "2025-06-29 19:01:54,534 - INFO -   Buy Date           : 2025-06-16\n"
     ]
    },
    {
     "name": "stdout",
     "output_type": "stream",
     "text": [
      "2025-06-29 19:01:54,536 - INFO -   Sell Date          : 2025-06-17\n"
     ]
    },
    {
     "name": "stdout",
     "output_type": "stream",
     "text": [
      "2025-06-29 19:01:54,544 - INFO -   Trades Executed: 10/10\n"
     ]
    },
    {
     "name": "stdout",
     "output_type": "stream",
     "text": [
      "2025-06-29 19:01:54,545 - INFO -   Portfolio Return : -0.0104\n"
     ]
    },
    {
     "name": "stdout",
     "output_type": "stream",
     "text": [
      "2025-06-29 19:01:54,546 - INFO -   Win Rate         : 30.00%\n"
     ]
    },
    {
     "name": "stdout",
     "output_type": "stream",
     "text": [
      "2025-06-29 19:01:54,548 - INFO - Backtest simulation for 'IV' on 2025-06-13 completed.\n"
     ]
    },
    {
     "name": "stdout",
     "output_type": "stream",
     "text": [
      "2025-06-29 19:01:54,550 - INFO - ------------------------------\n"
     ]
    },
    {
     "name": "stdout",
     "output_type": "stream",
     "text": [
      "2025-06-29 19:01:54,552 - INFO - Initiating Backtest Run...\n"
     ]
    },
    {
     "name": "stdout",
     "output_type": "stream",
     "text": [
      "2025-06-29 19:01:54,553 - INFO -   Date          : 2025-06-13\n"
     ]
    },
    {
     "name": "stdout",
     "output_type": "stream",
     "text": [
      "2025-06-29 19:01:54,555 - INFO -   Scheme        : SW\n"
     ]
    },
    {
     "name": "stdout",
     "output_type": "stream",
     "text": [
      "2025-06-29 19:01:54,560 - INFO -   Num Tickers   : 10\n"
     ]
    },
    {
     "name": "stdout",
     "output_type": "stream",
     "text": [
      "2025-06-29 19:01:54,561 - INFO -   Selection Date Used: 2025-06-13\n"
     ]
    },
    {
     "name": "stdout",
     "output_type": "stream",
     "text": [
      "2025-06-29 19:01:54,563 - INFO -   Buy Date           : 2025-06-16\n"
     ]
    },
    {
     "name": "stdout",
     "output_type": "stream",
     "text": [
      "2025-06-29 19:01:54,564 - INFO -   Sell Date          : 2025-06-17\n"
     ]
    },
    {
     "name": "stdout",
     "output_type": "stream",
     "text": [
      "2025-06-29 19:01:54,570 - INFO -   Trades Executed: 10/10\n"
     ]
    },
    {
     "name": "stdout",
     "output_type": "stream",
     "text": [
      "2025-06-29 19:01:54,574 - INFO -   Portfolio Return : -0.0116\n"
     ]
    },
    {
     "name": "stdout",
     "output_type": "stream",
     "text": [
      "2025-06-29 19:01:54,575 - INFO -   Win Rate         : 30.00%\n"
     ]
    },
    {
     "name": "stdout",
     "output_type": "stream",
     "text": [
      "2025-06-29 19:01:54,577 - INFO - Backtest simulation for 'SW' on 2025-06-13 completed.\n"
     ]
    },
    {
     "name": "stdout",
     "output_type": "stream",
     "text": [
      "2025-06-29 19:01:54,587 - INFO - ------------------------------\n"
     ]
    },
    {
     "name": "stdout",
     "output_type": "stream",
     "text": [
      "2025-06-29 19:01:54,588 - INFO - Initiating Backtest Run...\n"
     ]
    },
    {
     "name": "stdout",
     "output_type": "stream",
     "text": [
      "2025-06-29 19:01:54,591 - INFO -   Date          : 2025-06-16\n"
     ]
    },
    {
     "name": "stdout",
     "output_type": "stream",
     "text": [
      "2025-06-29 19:01:54,593 - INFO -   Scheme        : EW\n"
     ]
    },
    {
     "name": "stdout",
     "output_type": "stream",
     "text": [
      "2025-06-29 19:01:54,594 - INFO -   Num Tickers   : 10\n"
     ]
    },
    {
     "name": "stdout",
     "output_type": "stream",
     "text": [
      "2025-06-29 19:01:54,596 - INFO -   Selection Date Used: 2025-06-16\n"
     ]
    },
    {
     "name": "stdout",
     "output_type": "stream",
     "text": [
      "2025-06-29 19:01:54,598 - INFO -   Buy Date           : 2025-06-17\n"
     ]
    },
    {
     "name": "stdout",
     "output_type": "stream",
     "text": [
      "2025-06-29 19:01:54,599 - INFO -   Sell Date          : 2025-06-18\n"
     ]
    },
    {
     "name": "stdout",
     "output_type": "stream",
     "text": [
      "2025-06-29 19:01:54,604 - INFO -   Trades Executed: 10/10\n"
     ]
    },
    {
     "name": "stdout",
     "output_type": "stream",
     "text": [
      "2025-06-29 19:01:54,608 - INFO -   Portfolio Return : -0.0017\n"
     ]
    },
    {
     "name": "stdout",
     "output_type": "stream",
     "text": [
      "2025-06-29 19:01:54,610 - INFO -   Win Rate         : 40.00%\n"
     ]
    },
    {
     "name": "stdout",
     "output_type": "stream",
     "text": [
      "2025-06-29 19:01:54,611 - INFO - Backtest simulation for 'EW' on 2025-06-16 completed.\n"
     ]
    },
    {
     "name": "stdout",
     "output_type": "stream",
     "text": [
      "2025-06-29 19:01:54,613 - INFO - ------------------------------\n"
     ]
    },
    {
     "name": "stdout",
     "output_type": "stream",
     "text": [
      "2025-06-29 19:01:54,614 - INFO - Initiating Backtest Run...\n"
     ]
    },
    {
     "name": "stdout",
     "output_type": "stream",
     "text": [
      "2025-06-29 19:01:54,616 - INFO -   Date          : 2025-06-16\n"
     ]
    },
    {
     "name": "stdout",
     "output_type": "stream",
     "text": [
      "2025-06-29 19:01:54,618 - INFO -   Scheme        : IV\n"
     ]
    },
    {
     "name": "stdout",
     "output_type": "stream",
     "text": [
      "2025-06-29 19:01:54,619 - INFO -   Num Tickers   : 10\n"
     ]
    },
    {
     "name": "stdout",
     "output_type": "stream",
     "text": [
      "2025-06-29 19:01:54,621 - INFO -   Selection Date Used: 2025-06-16\n"
     ]
    },
    {
     "name": "stdout",
     "output_type": "stream",
     "text": [
      "2025-06-29 19:01:54,626 - INFO -   Buy Date           : 2025-06-17\n"
     ]
    },
    {
     "name": "stdout",
     "output_type": "stream",
     "text": [
      "2025-06-29 19:01:54,628 - INFO -   Sell Date          : 2025-06-18\n"
     ]
    },
    {
     "name": "stdout",
     "output_type": "stream",
     "text": [
      "2025-06-29 19:01:54,635 - INFO -   Trades Executed: 10/10\n"
     ]
    },
    {
     "name": "stdout",
     "output_type": "stream",
     "text": [
      "2025-06-29 19:01:54,637 - INFO -   Portfolio Return : -0.0019\n"
     ]
    },
    {
     "name": "stdout",
     "output_type": "stream",
     "text": [
      "2025-06-29 19:01:54,638 - INFO -   Win Rate         : 40.00%\n"
     ]
    },
    {
     "name": "stdout",
     "output_type": "stream",
     "text": [
      "2025-06-29 19:01:54,642 - INFO - Backtest simulation for 'IV' on 2025-06-16 completed.\n"
     ]
    },
    {
     "name": "stdout",
     "output_type": "stream",
     "text": [
      "2025-06-29 19:01:54,645 - INFO - ------------------------------\n"
     ]
    },
    {
     "name": "stdout",
     "output_type": "stream",
     "text": [
      "2025-06-29 19:01:54,646 - INFO - Initiating Backtest Run...\n"
     ]
    },
    {
     "name": "stdout",
     "output_type": "stream",
     "text": [
      "2025-06-29 19:01:54,647 - INFO -   Date          : 2025-06-16\n"
     ]
    },
    {
     "name": "stdout",
     "output_type": "stream",
     "text": [
      "2025-06-29 19:01:54,649 - INFO -   Scheme        : SW\n"
     ]
    },
    {
     "name": "stdout",
     "output_type": "stream",
     "text": [
      "2025-06-29 19:01:54,650 - INFO -   Num Tickers   : 10\n"
     ]
    },
    {
     "name": "stdout",
     "output_type": "stream",
     "text": [
      "2025-06-29 19:01:54,652 - INFO -   Selection Date Used: 2025-06-16\n"
     ]
    },
    {
     "name": "stdout",
     "output_type": "stream",
     "text": [
      "2025-06-29 19:01:54,654 - INFO -   Buy Date           : 2025-06-17\n"
     ]
    },
    {
     "name": "stdout",
     "output_type": "stream",
     "text": [
      "2025-06-29 19:01:54,655 - INFO -   Sell Date          : 2025-06-18\n"
     ]
    },
    {
     "name": "stdout",
     "output_type": "stream",
     "text": [
      "2025-06-29 19:01:54,664 - INFO -   Trades Executed: 10/10\n"
     ]
    },
    {
     "name": "stdout",
     "output_type": "stream",
     "text": [
      "2025-06-29 19:01:54,665 - INFO -   Portfolio Return : -0.0026\n"
     ]
    },
    {
     "name": "stdout",
     "output_type": "stream",
     "text": [
      "2025-06-29 19:01:54,667 - INFO -   Win Rate         : 40.00%\n"
     ]
    },
    {
     "name": "stdout",
     "output_type": "stream",
     "text": [
      "2025-06-29 19:01:54,669 - INFO - Backtest simulation for 'SW' on 2025-06-16 completed.\n"
     ]
    },
    {
     "name": "stdout",
     "output_type": "stream",
     "text": [
      "2025-06-29 19:01:54,682 - INFO - ------------------------------\n"
     ]
    },
    {
     "name": "stdout",
     "output_type": "stream",
     "text": [
      "2025-06-29 19:01:54,683 - INFO - Initiating Backtest Run...\n"
     ]
    },
    {
     "name": "stdout",
     "output_type": "stream",
     "text": [
      "2025-06-29 19:01:54,685 - INFO -   Date          : 2025-06-17\n"
     ]
    },
    {
     "name": "stdout",
     "output_type": "stream",
     "text": [
      "2025-06-29 19:01:54,686 - INFO -   Scheme        : EW\n"
     ]
    },
    {
     "name": "stdout",
     "output_type": "stream",
     "text": [
      "2025-06-29 19:01:54,688 - INFO -   Num Tickers   : 10\n"
     ]
    },
    {
     "name": "stdout",
     "output_type": "stream",
     "text": [
      "2025-06-29 19:01:54,691 - INFO -   Selection Date Used: 2025-06-17\n"
     ]
    },
    {
     "name": "stdout",
     "output_type": "stream",
     "text": [
      "2025-06-29 19:01:54,693 - INFO -   Buy Date           : 2025-06-18\n"
     ]
    },
    {
     "name": "stdout",
     "output_type": "stream",
     "text": [
      "2025-06-29 19:01:54,695 - INFO -   Sell Date          : 2025-06-20\n"
     ]
    },
    {
     "name": "stdout",
     "output_type": "stream",
     "text": [
      "2025-06-29 19:01:54,699 - INFO -   Trades Executed: 10/10\n"
     ]
    },
    {
     "name": "stdout",
     "output_type": "stream",
     "text": [
      "2025-06-29 19:01:54,702 - INFO -   Portfolio Return : -0.0016\n"
     ]
    },
    {
     "name": "stdout",
     "output_type": "stream",
     "text": [
      "2025-06-29 19:01:54,703 - INFO -   Win Rate         : 50.00%\n"
     ]
    },
    {
     "name": "stdout",
     "output_type": "stream",
     "text": [
      "2025-06-29 19:01:54,704 - INFO - Backtest simulation for 'EW' on 2025-06-17 completed.\n"
     ]
    },
    {
     "name": "stdout",
     "output_type": "stream",
     "text": [
      "2025-06-29 19:01:54,708 - INFO - ------------------------------\n"
     ]
    },
    {
     "name": "stdout",
     "output_type": "stream",
     "text": [
      "2025-06-29 19:01:54,710 - INFO - Initiating Backtest Run...\n"
     ]
    },
    {
     "name": "stdout",
     "output_type": "stream",
     "text": [
      "2025-06-29 19:01:54,711 - INFO -   Date          : 2025-06-17\n"
     ]
    },
    {
     "name": "stdout",
     "output_type": "stream",
     "text": [
      "2025-06-29 19:01:54,713 - INFO -   Scheme        : IV\n"
     ]
    },
    {
     "name": "stdout",
     "output_type": "stream",
     "text": [
      "2025-06-29 19:01:54,714 - INFO -   Num Tickers   : 10\n"
     ]
    },
    {
     "name": "stdout",
     "output_type": "stream",
     "text": [
      "2025-06-29 19:01:54,716 - INFO -   Selection Date Used: 2025-06-17\n"
     ]
    },
    {
     "name": "stdout",
     "output_type": "stream",
     "text": [
      "2025-06-29 19:01:54,717 - INFO -   Buy Date           : 2025-06-18\n"
     ]
    },
    {
     "name": "stdout",
     "output_type": "stream",
     "text": [
      "2025-06-29 19:01:54,718 - INFO -   Sell Date          : 2025-06-20\n"
     ]
    },
    {
     "name": "stdout",
     "output_type": "stream",
     "text": [
      "2025-06-29 19:01:54,726 - INFO -   Trades Executed: 10/10\n"
     ]
    },
    {
     "name": "stdout",
     "output_type": "stream",
     "text": [
      "2025-06-29 19:01:54,728 - INFO -   Portfolio Return : -0.0020\n"
     ]
    },
    {
     "name": "stdout",
     "output_type": "stream",
     "text": [
      "2025-06-29 19:01:54,730 - INFO -   Win Rate         : 50.00%\n"
     ]
    },
    {
     "name": "stdout",
     "output_type": "stream",
     "text": [
      "2025-06-29 19:01:54,732 - INFO - Backtest simulation for 'IV' on 2025-06-17 completed.\n"
     ]
    },
    {
     "name": "stdout",
     "output_type": "stream",
     "text": [
      "2025-06-29 19:01:54,733 - INFO - ------------------------------\n"
     ]
    },
    {
     "name": "stdout",
     "output_type": "stream",
     "text": [
      "2025-06-29 19:01:54,735 - INFO - Initiating Backtest Run...\n"
     ]
    },
    {
     "name": "stdout",
     "output_type": "stream",
     "text": [
      "2025-06-29 19:01:54,736 - INFO -   Date          : 2025-06-17\n"
     ]
    },
    {
     "name": "stdout",
     "output_type": "stream",
     "text": [
      "2025-06-29 19:01:54,739 - INFO -   Scheme        : SW\n"
     ]
    },
    {
     "name": "stdout",
     "output_type": "stream",
     "text": [
      "2025-06-29 19:01:54,742 - INFO -   Num Tickers   : 10\n"
     ]
    },
    {
     "name": "stdout",
     "output_type": "stream",
     "text": [
      "2025-06-29 19:01:54,743 - INFO -   Selection Date Used: 2025-06-17\n"
     ]
    },
    {
     "name": "stdout",
     "output_type": "stream",
     "text": [
      "2025-06-29 19:01:54,745 - INFO -   Buy Date           : 2025-06-18\n"
     ]
    },
    {
     "name": "stdout",
     "output_type": "stream",
     "text": [
      "2025-06-29 19:01:54,746 - INFO -   Sell Date          : 2025-06-20\n"
     ]
    },
    {
     "name": "stdout",
     "output_type": "stream",
     "text": [
      "2025-06-29 19:01:54,751 - INFO -   Trades Executed: 10/10\n"
     ]
    },
    {
     "name": "stdout",
     "output_type": "stream",
     "text": [
      "2025-06-29 19:01:54,754 - INFO -   Portfolio Return : 0.0026\n"
     ]
    },
    {
     "name": "stdout",
     "output_type": "stream",
     "text": [
      "2025-06-29 19:01:54,758 - INFO -   Win Rate         : 50.00%\n"
     ]
    },
    {
     "name": "stdout",
     "output_type": "stream",
     "text": [
      "2025-06-29 19:01:54,759 - INFO - Backtest simulation for 'SW' on 2025-06-17 completed.\n"
     ]
    },
    {
     "name": "stdout",
     "output_type": "stream",
     "text": [
      "2025-06-29 19:01:54,770 - INFO - ------------------------------\n"
     ]
    },
    {
     "name": "stdout",
     "output_type": "stream",
     "text": [
      "2025-06-29 19:01:54,772 - INFO - Initiating Backtest Run...\n"
     ]
    },
    {
     "name": "stdout",
     "output_type": "stream",
     "text": [
      "2025-06-29 19:01:54,774 - INFO -   Date          : 2025-06-18\n"
     ]
    },
    {
     "name": "stdout",
     "output_type": "stream",
     "text": [
      "2025-06-29 19:01:54,776 - INFO -   Scheme        : EW\n"
     ]
    },
    {
     "name": "stdout",
     "output_type": "stream",
     "text": [
      "2025-06-29 19:01:54,777 - INFO -   Num Tickers   : 10\n"
     ]
    },
    {
     "name": "stdout",
     "output_type": "stream",
     "text": [
      "2025-06-29 19:01:54,779 - INFO -   Selection Date Used: 2025-06-18\n"
     ]
    },
    {
     "name": "stdout",
     "output_type": "stream",
     "text": [
      "2025-06-29 19:01:54,780 - INFO -   Buy Date           : 2025-06-20\n"
     ]
    },
    {
     "name": "stdout",
     "output_type": "stream",
     "text": [
      "2025-06-29 19:01:54,781 - INFO -   Sell Date          : 2025-06-23\n"
     ]
    },
    {
     "name": "stdout",
     "output_type": "stream",
     "text": [
      "2025-06-29 19:01:54,786 - INFO -   Trades Executed: 10/10\n"
     ]
    },
    {
     "name": "stdout",
     "output_type": "stream",
     "text": [
      "2025-06-29 19:01:54,787 - INFO -   Portfolio Return : 0.0115\n"
     ]
    },
    {
     "name": "stdout",
     "output_type": "stream",
     "text": [
      "2025-06-29 19:01:54,788 - INFO -   Win Rate         : 70.00%\n"
     ]
    },
    {
     "name": "stdout",
     "output_type": "stream",
     "text": [
      "2025-06-29 19:01:54,793 - INFO - Backtest simulation for 'EW' on 2025-06-18 completed.\n"
     ]
    },
    {
     "name": "stdout",
     "output_type": "stream",
     "text": [
      "2025-06-29 19:01:54,795 - INFO - ------------------------------\n"
     ]
    },
    {
     "name": "stdout",
     "output_type": "stream",
     "text": [
      "2025-06-29 19:01:54,797 - INFO - Initiating Backtest Run...\n"
     ]
    },
    {
     "name": "stdout",
     "output_type": "stream",
     "text": [
      "2025-06-29 19:01:54,798 - INFO -   Date          : 2025-06-18\n"
     ]
    },
    {
     "name": "stdout",
     "output_type": "stream",
     "text": [
      "2025-06-29 19:01:54,799 - INFO -   Scheme        : IV\n"
     ]
    },
    {
     "name": "stdout",
     "output_type": "stream",
     "text": [
      "2025-06-29 19:01:54,800 - INFO -   Num Tickers   : 10\n"
     ]
    },
    {
     "name": "stdout",
     "output_type": "stream",
     "text": [
      "2025-06-29 19:01:54,802 - INFO -   Selection Date Used: 2025-06-18\n"
     ]
    },
    {
     "name": "stdout",
     "output_type": "stream",
     "text": [
      "2025-06-29 19:01:54,804 - INFO -   Buy Date           : 2025-06-20\n"
     ]
    },
    {
     "name": "stdout",
     "output_type": "stream",
     "text": [
      "2025-06-29 19:01:54,808 - INFO -   Sell Date          : 2025-06-23\n"
     ]
    },
    {
     "name": "stdout",
     "output_type": "stream",
     "text": [
      "2025-06-29 19:01:54,814 - INFO -   Trades Executed: 10/10\n"
     ]
    },
    {
     "name": "stdout",
     "output_type": "stream",
     "text": [
      "2025-06-29 19:01:54,816 - INFO -   Portfolio Return : 0.0108\n"
     ]
    },
    {
     "name": "stdout",
     "output_type": "stream",
     "text": [
      "2025-06-29 19:01:54,818 - INFO -   Win Rate         : 70.00%\n"
     ]
    },
    {
     "name": "stdout",
     "output_type": "stream",
     "text": [
      "2025-06-29 19:01:54,819 - INFO - Backtest simulation for 'IV' on 2025-06-18 completed.\n"
     ]
    },
    {
     "name": "stdout",
     "output_type": "stream",
     "text": [
      "2025-06-29 19:01:54,823 - INFO - ------------------------------\n"
     ]
    },
    {
     "name": "stdout",
     "output_type": "stream",
     "text": [
      "2025-06-29 19:01:54,826 - INFO - Initiating Backtest Run...\n"
     ]
    },
    {
     "name": "stdout",
     "output_type": "stream",
     "text": [
      "2025-06-29 19:01:54,828 - INFO -   Date          : 2025-06-18\n"
     ]
    },
    {
     "name": "stdout",
     "output_type": "stream",
     "text": [
      "2025-06-29 19:01:54,831 - INFO -   Scheme        : SW\n"
     ]
    },
    {
     "name": "stdout",
     "output_type": "stream",
     "text": [
      "2025-06-29 19:01:54,832 - INFO -   Num Tickers   : 10\n"
     ]
    },
    {
     "name": "stdout",
     "output_type": "stream",
     "text": [
      "2025-06-29 19:01:54,833 - INFO -   Selection Date Used: 2025-06-18\n"
     ]
    },
    {
     "name": "stdout",
     "output_type": "stream",
     "text": [
      "2025-06-29 19:01:54,835 - INFO -   Buy Date           : 2025-06-20\n"
     ]
    },
    {
     "name": "stdout",
     "output_type": "stream",
     "text": [
      "2025-06-29 19:01:54,836 - INFO -   Sell Date          : 2025-06-23\n"
     ]
    },
    {
     "name": "stdout",
     "output_type": "stream",
     "text": [
      "2025-06-29 19:01:54,845 - INFO -   Trades Executed: 10/10\n"
     ]
    },
    {
     "name": "stdout",
     "output_type": "stream",
     "text": [
      "2025-06-29 19:01:54,848 - INFO -   Portfolio Return : 0.0130\n"
     ]
    },
    {
     "name": "stdout",
     "output_type": "stream",
     "text": [
      "2025-06-29 19:01:54,849 - INFO -   Win Rate         : 70.00%\n"
     ]
    },
    {
     "name": "stdout",
     "output_type": "stream",
     "text": [
      "2025-06-29 19:01:54,851 - INFO - Backtest simulation for 'SW' on 2025-06-18 completed.\n"
     ]
    },
    {
     "name": "stdout",
     "output_type": "stream",
     "text": [
      "2025-06-29 19:01:54,865 - INFO - ------------------------------\n"
     ]
    },
    {
     "name": "stdout",
     "output_type": "stream",
     "text": [
      "2025-06-29 19:01:54,866 - INFO - Initiating Backtest Run...\n"
     ]
    },
    {
     "name": "stdout",
     "output_type": "stream",
     "text": [
      "2025-06-29 19:01:54,868 - INFO -   Date          : 2025-06-20\n"
     ]
    },
    {
     "name": "stdout",
     "output_type": "stream",
     "text": [
      "2025-06-29 19:01:54,869 - INFO -   Scheme        : EW\n"
     ]
    },
    {
     "name": "stdout",
     "output_type": "stream",
     "text": [
      "2025-06-29 19:01:54,870 - INFO -   Num Tickers   : 10\n"
     ]
    },
    {
     "name": "stdout",
     "output_type": "stream",
     "text": [
      "2025-06-29 19:01:54,872 - INFO -   Selection Date Used: 2025-06-20\n"
     ]
    },
    {
     "name": "stdout",
     "output_type": "stream",
     "text": [
      "2025-06-29 19:01:54,875 - INFO -   Buy Date           : 2025-06-23\n"
     ]
    },
    {
     "name": "stdout",
     "output_type": "stream",
     "text": [
      "2025-06-29 19:01:54,876 - INFO -   Sell Date          : 2025-06-24\n"
     ]
    },
    {
     "name": "stdout",
     "output_type": "stream",
     "text": [
      "2025-06-29 19:01:54,881 - INFO -   Trades Executed: 10/10\n"
     ]
    },
    {
     "name": "stdout",
     "output_type": "stream",
     "text": [
      "2025-06-29 19:01:54,883 - INFO -   Portfolio Return : 0.0124\n"
     ]
    },
    {
     "name": "stdout",
     "output_type": "stream",
     "text": [
      "2025-06-29 19:01:54,884 - INFO -   Win Rate         : 90.00%\n"
     ]
    },
    {
     "name": "stdout",
     "output_type": "stream",
     "text": [
      "2025-06-29 19:01:54,887 - INFO - Backtest simulation for 'EW' on 2025-06-20 completed.\n"
     ]
    },
    {
     "name": "stdout",
     "output_type": "stream",
     "text": [
      "2025-06-29 19:01:54,891 - INFO - ------------------------------\n"
     ]
    },
    {
     "name": "stdout",
     "output_type": "stream",
     "text": [
      "2025-06-29 19:01:54,893 - INFO - Initiating Backtest Run...\n"
     ]
    },
    {
     "name": "stdout",
     "output_type": "stream",
     "text": [
      "2025-06-29 19:01:54,894 - INFO -   Date          : 2025-06-20\n"
     ]
    },
    {
     "name": "stdout",
     "output_type": "stream",
     "text": [
      "2025-06-29 19:01:54,897 - INFO -   Scheme        : IV\n"
     ]
    },
    {
     "name": "stdout",
     "output_type": "stream",
     "text": [
      "2025-06-29 19:01:54,898 - INFO -   Num Tickers   : 10\n"
     ]
    },
    {
     "name": "stdout",
     "output_type": "stream",
     "text": [
      "2025-06-29 19:01:54,901 - INFO -   Selection Date Used: 2025-06-20\n"
     ]
    },
    {
     "name": "stdout",
     "output_type": "stream",
     "text": [
      "2025-06-29 19:01:54,902 - INFO -   Buy Date           : 2025-06-23\n"
     ]
    },
    {
     "name": "stdout",
     "output_type": "stream",
     "text": [
      "2025-06-29 19:01:54,903 - INFO -   Sell Date          : 2025-06-24\n"
     ]
    },
    {
     "name": "stdout",
     "output_type": "stream",
     "text": [
      "2025-06-29 19:01:54,912 - INFO -   Trades Executed: 10/10\n"
     ]
    },
    {
     "name": "stdout",
     "output_type": "stream",
     "text": [
      "2025-06-29 19:01:54,913 - INFO -   Portfolio Return : 0.0123\n"
     ]
    },
    {
     "name": "stdout",
     "output_type": "stream",
     "text": [
      "2025-06-29 19:01:54,915 - INFO -   Win Rate         : 90.00%\n"
     ]
    },
    {
     "name": "stdout",
     "output_type": "stream",
     "text": [
      "2025-06-29 19:01:54,916 - INFO - Backtest simulation for 'IV' on 2025-06-20 completed.\n"
     ]
    },
    {
     "name": "stdout",
     "output_type": "stream",
     "text": [
      "2025-06-29 19:01:54,918 - INFO - ------------------------------\n"
     ]
    },
    {
     "name": "stdout",
     "output_type": "stream",
     "text": [
      "2025-06-29 19:01:54,920 - INFO - Initiating Backtest Run...\n"
     ]
    },
    {
     "name": "stdout",
     "output_type": "stream",
     "text": [
      "2025-06-29 19:01:54,921 - INFO -   Date          : 2025-06-20\n"
     ]
    },
    {
     "name": "stdout",
     "output_type": "stream",
     "text": [
      "2025-06-29 19:01:54,924 - INFO -   Scheme        : SW\n"
     ]
    },
    {
     "name": "stdout",
     "output_type": "stream",
     "text": [
      "2025-06-29 19:01:54,927 - INFO -   Num Tickers   : 10\n"
     ]
    },
    {
     "name": "stdout",
     "output_type": "stream",
     "text": [
      "2025-06-29 19:01:54,928 - INFO -   Selection Date Used: 2025-06-20\n"
     ]
    },
    {
     "name": "stdout",
     "output_type": "stream",
     "text": [
      "2025-06-29 19:01:54,929 - INFO -   Buy Date           : 2025-06-23\n"
     ]
    },
    {
     "name": "stdout",
     "output_type": "stream",
     "text": [
      "2025-06-29 19:01:54,931 - INFO -   Sell Date          : 2025-06-24\n"
     ]
    },
    {
     "name": "stdout",
     "output_type": "stream",
     "text": [
      "2025-06-29 19:01:54,937 - INFO -   Trades Executed: 10/10\n"
     ]
    },
    {
     "name": "stdout",
     "output_type": "stream",
     "text": [
      "2025-06-29 19:01:54,941 - INFO -   Portfolio Return : 0.0126\n"
     ]
    },
    {
     "name": "stdout",
     "output_type": "stream",
     "text": [
      "2025-06-29 19:01:54,944 - INFO -   Win Rate         : 90.00%\n"
     ]
    },
    {
     "name": "stdout",
     "output_type": "stream",
     "text": [
      "2025-06-29 19:01:54,946 - INFO - Backtest simulation for 'SW' on 2025-06-20 completed.\n"
     ]
    },
    {
     "name": "stdout",
     "output_type": "stream",
     "text": [
      "2025-06-29 19:01:54,955 - INFO - ------------------------------\n"
     ]
    },
    {
     "name": "stdout",
     "output_type": "stream",
     "text": [
      "2025-06-29 19:01:54,958 - INFO - Initiating Backtest Run...\n"
     ]
    },
    {
     "name": "stdout",
     "output_type": "stream",
     "text": [
      "2025-06-29 19:01:54,960 - INFO -   Date          : 2025-06-23\n"
     ]
    },
    {
     "name": "stdout",
     "output_type": "stream",
     "text": [
      "2025-06-29 19:01:54,962 - INFO -   Scheme        : EW\n"
     ]
    },
    {
     "name": "stdout",
     "output_type": "stream",
     "text": [
      "2025-06-29 19:01:54,963 - INFO -   Num Tickers   : 10\n"
     ]
    },
    {
     "name": "stdout",
     "output_type": "stream",
     "text": [
      "2025-06-29 19:01:54,965 - INFO -   Selection Date Used: 2025-06-23\n"
     ]
    },
    {
     "name": "stdout",
     "output_type": "stream",
     "text": [
      "2025-06-29 19:01:54,967 - INFO -   Buy Date           : 2025-06-24\n"
     ]
    },
    {
     "name": "stdout",
     "output_type": "stream",
     "text": [
      "2025-06-29 19:01:54,968 - INFO -   Sell Date          : 2025-06-25\n"
     ]
    },
    {
     "name": "stdout",
     "output_type": "stream",
     "text": [
      "2025-06-29 19:01:54,976 - INFO -   Trades Executed: 10/10\n"
     ]
    },
    {
     "name": "stdout",
     "output_type": "stream",
     "text": [
      "2025-06-29 19:01:54,977 - INFO -   Portfolio Return : -0.0097\n"
     ]
    },
    {
     "name": "stdout",
     "output_type": "stream",
     "text": [
      "2025-06-29 19:01:54,979 - INFO -   Win Rate         : 10.00%\n"
     ]
    },
    {
     "name": "stdout",
     "output_type": "stream",
     "text": [
      "2025-06-29 19:01:54,981 - INFO - Backtest simulation for 'EW' on 2025-06-23 completed.\n"
     ]
    },
    {
     "name": "stdout",
     "output_type": "stream",
     "text": [
      "2025-06-29 19:01:54,983 - INFO - ------------------------------\n"
     ]
    },
    {
     "name": "stdout",
     "output_type": "stream",
     "text": [
      "2025-06-29 19:01:54,984 - INFO - Initiating Backtest Run...\n"
     ]
    },
    {
     "name": "stdout",
     "output_type": "stream",
     "text": [
      "2025-06-29 19:01:54,985 - INFO -   Date          : 2025-06-23\n"
     ]
    },
    {
     "name": "stdout",
     "output_type": "stream",
     "text": [
      "2025-06-29 19:01:54,987 - INFO -   Scheme        : IV\n"
     ]
    },
    {
     "name": "stdout",
     "output_type": "stream",
     "text": [
      "2025-06-29 19:01:54,988 - INFO -   Num Tickers   : 10\n"
     ]
    },
    {
     "name": "stdout",
     "output_type": "stream",
     "text": [
      "2025-06-29 19:01:54,992 - INFO -   Selection Date Used: 2025-06-23\n"
     ]
    },
    {
     "name": "stdout",
     "output_type": "stream",
     "text": [
      "2025-06-29 19:01:54,994 - INFO -   Buy Date           : 2025-06-24\n"
     ]
    },
    {
     "name": "stdout",
     "output_type": "stream",
     "text": [
      "2025-06-29 19:01:54,995 - INFO -   Sell Date          : 2025-06-25\n"
     ]
    },
    {
     "name": "stdout",
     "output_type": "stream",
     "text": [
      "2025-06-29 19:01:55,001 - INFO -   Trades Executed: 10/10\n"
     ]
    },
    {
     "name": "stdout",
     "output_type": "stream",
     "text": [
      "2025-06-29 19:01:55,003 - INFO -   Portfolio Return : -0.0122\n"
     ]
    },
    {
     "name": "stdout",
     "output_type": "stream",
     "text": [
      "2025-06-29 19:01:55,005 - INFO -   Win Rate         : 10.00%\n"
     ]
    },
    {
     "name": "stdout",
     "output_type": "stream",
     "text": [
      "2025-06-29 19:01:55,009 - INFO - Backtest simulation for 'IV' on 2025-06-23 completed.\n"
     ]
    },
    {
     "name": "stdout",
     "output_type": "stream",
     "text": [
      "2025-06-29 19:01:55,011 - INFO - ------------------------------\n"
     ]
    },
    {
     "name": "stdout",
     "output_type": "stream",
     "text": [
      "2025-06-29 19:01:55,012 - INFO - Initiating Backtest Run...\n"
     ]
    },
    {
     "name": "stdout",
     "output_type": "stream",
     "text": [
      "2025-06-29 19:01:55,014 - INFO -   Date          : 2025-06-23\n"
     ]
    },
    {
     "name": "stdout",
     "output_type": "stream",
     "text": [
      "2025-06-29 19:01:55,015 - INFO -   Scheme        : SW\n"
     ]
    },
    {
     "name": "stdout",
     "output_type": "stream",
     "text": [
      "2025-06-29 19:01:55,017 - INFO -   Num Tickers   : 10\n"
     ]
    },
    {
     "name": "stdout",
     "output_type": "stream",
     "text": [
      "2025-06-29 19:01:55,019 - INFO -   Selection Date Used: 2025-06-23\n"
     ]
    },
    {
     "name": "stdout",
     "output_type": "stream",
     "text": [
      "2025-06-29 19:01:55,021 - INFO -   Buy Date           : 2025-06-24\n"
     ]
    },
    {
     "name": "stdout",
     "output_type": "stream",
     "text": [
      "2025-06-29 19:01:55,024 - INFO -   Sell Date          : 2025-06-25\n"
     ]
    },
    {
     "name": "stdout",
     "output_type": "stream",
     "text": [
      "2025-06-29 19:01:55,030 - INFO -   Trades Executed: 10/10\n"
     ]
    },
    {
     "name": "stdout",
     "output_type": "stream",
     "text": [
      "2025-06-29 19:01:55,031 - INFO -   Portfolio Return : -0.0159\n"
     ]
    },
    {
     "name": "stdout",
     "output_type": "stream",
     "text": [
      "2025-06-29 19:01:55,033 - INFO -   Win Rate         : 10.00%\n"
     ]
    },
    {
     "name": "stdout",
     "output_type": "stream",
     "text": [
      "2025-06-29 19:01:55,035 - INFO - Backtest simulation for 'SW' on 2025-06-23 completed.\n"
     ]
    },
    {
     "name": "stdout",
     "output_type": "stream",
     "text": [
      "2025-06-29 19:01:55,049 - INFO - ------------------------------\n"
     ]
    },
    {
     "name": "stdout",
     "output_type": "stream",
     "text": [
      "2025-06-29 19:01:55,050 - INFO - Initiating Backtest Run...\n"
     ]
    },
    {
     "name": "stdout",
     "output_type": "stream",
     "text": [
      "2025-06-29 19:01:55,051 - INFO -   Date          : 2025-06-24\n"
     ]
    },
    {
     "name": "stdout",
     "output_type": "stream",
     "text": [
      "2025-06-29 19:01:55,053 - INFO -   Scheme        : EW\n"
     ]
    },
    {
     "name": "stdout",
     "output_type": "stream",
     "text": [
      "2025-06-29 19:01:55,054 - INFO -   Num Tickers   : 10\n"
     ]
    },
    {
     "name": "stdout",
     "output_type": "stream",
     "text": [
      "2025-06-29 19:01:55,058 - INFO -   Selection Date Used: 2025-06-24\n"
     ]
    },
    {
     "name": "stdout",
     "output_type": "stream",
     "text": [
      "2025-06-29 19:01:55,060 - INFO -   Buy Date           : 2025-06-25\n"
     ]
    },
    {
     "name": "stdout",
     "output_type": "stream",
     "text": [
      "2025-06-29 19:01:55,062 - INFO -   Sell Date          : 2025-06-26\n"
     ]
    },
    {
     "name": "stdout",
     "output_type": "stream",
     "text": [
      "2025-06-29 19:01:55,068 - INFO -   Trades Executed: 10/10\n"
     ]
    },
    {
     "name": "stdout",
     "output_type": "stream",
     "text": [
      "2025-06-29 19:01:55,069 - INFO -   Portfolio Return : 0.0050\n"
     ]
    },
    {
     "name": "stdout",
     "output_type": "stream",
     "text": [
      "2025-06-29 19:01:55,071 - INFO -   Win Rate         : 60.00%\n"
     ]
    },
    {
     "name": "stdout",
     "output_type": "stream",
     "text": [
      "2025-06-29 19:01:55,074 - INFO - Backtest simulation for 'EW' on 2025-06-24 completed.\n"
     ]
    },
    {
     "name": "stdout",
     "output_type": "stream",
     "text": [
      "2025-06-29 19:01:55,076 - INFO - ------------------------------\n"
     ]
    },
    {
     "name": "stdout",
     "output_type": "stream",
     "text": [
      "2025-06-29 19:01:55,078 - INFO - Initiating Backtest Run...\n"
     ]
    },
    {
     "name": "stdout",
     "output_type": "stream",
     "text": [
      "2025-06-29 19:01:55,079 - INFO -   Date          : 2025-06-24\n"
     ]
    },
    {
     "name": "stdout",
     "output_type": "stream",
     "text": [
      "2025-06-29 19:01:55,082 - INFO -   Scheme        : IV\n"
     ]
    },
    {
     "name": "stdout",
     "output_type": "stream",
     "text": [
      "2025-06-29 19:01:55,083 - INFO -   Num Tickers   : 10\n"
     ]
    },
    {
     "name": "stdout",
     "output_type": "stream",
     "text": [
      "2025-06-29 19:01:55,084 - INFO -   Selection Date Used: 2025-06-24\n"
     ]
    },
    {
     "name": "stdout",
     "output_type": "stream",
     "text": [
      "2025-06-29 19:01:55,086 - INFO -   Buy Date           : 2025-06-25\n"
     ]
    },
    {
     "name": "stdout",
     "output_type": "stream",
     "text": [
      "2025-06-29 19:01:55,088 - INFO -   Sell Date          : 2025-06-26\n"
     ]
    },
    {
     "name": "stdout",
     "output_type": "stream",
     "text": [
      "2025-06-29 19:01:55,096 - INFO -   Trades Executed: 10/10\n"
     ]
    },
    {
     "name": "stdout",
     "output_type": "stream",
     "text": [
      "2025-06-29 19:01:55,097 - INFO -   Portfolio Return : 0.0051\n"
     ]
    },
    {
     "name": "stdout",
     "output_type": "stream",
     "text": [
      "2025-06-29 19:01:55,098 - INFO -   Win Rate         : 60.00%\n"
     ]
    },
    {
     "name": "stdout",
     "output_type": "stream",
     "text": [
      "2025-06-29 19:01:55,100 - INFO - Backtest simulation for 'IV' on 2025-06-24 completed.\n"
     ]
    },
    {
     "name": "stdout",
     "output_type": "stream",
     "text": [
      "2025-06-29 19:01:55,102 - INFO - ------------------------------\n"
     ]
    },
    {
     "name": "stdout",
     "output_type": "stream",
     "text": [
      "2025-06-29 19:01:55,103 - INFO - Initiating Backtest Run...\n"
     ]
    },
    {
     "name": "stdout",
     "output_type": "stream",
     "text": [
      "2025-06-29 19:01:55,105 - INFO -   Date          : 2025-06-24\n"
     ]
    },
    {
     "name": "stdout",
     "output_type": "stream",
     "text": [
      "2025-06-29 19:01:55,108 - INFO -   Scheme        : SW\n"
     ]
    },
    {
     "name": "stdout",
     "output_type": "stream",
     "text": [
      "2025-06-29 19:01:55,110 - INFO -   Num Tickers   : 10\n"
     ]
    },
    {
     "name": "stdout",
     "output_type": "stream",
     "text": [
      "2025-06-29 19:01:55,112 - INFO -   Selection Date Used: 2025-06-24\n"
     ]
    },
    {
     "name": "stdout",
     "output_type": "stream",
     "text": [
      "2025-06-29 19:01:55,113 - INFO -   Buy Date           : 2025-06-25\n"
     ]
    },
    {
     "name": "stdout",
     "output_type": "stream",
     "text": [
      "2025-06-29 19:01:55,115 - INFO -   Sell Date          : 2025-06-26\n"
     ]
    },
    {
     "name": "stdout",
     "output_type": "stream",
     "text": [
      "2025-06-29 19:01:55,121 - INFO -   Trades Executed: 10/10\n"
     ]
    },
    {
     "name": "stdout",
     "output_type": "stream",
     "text": [
      "2025-06-29 19:01:55,125 - INFO -   Portfolio Return : 0.0048\n"
     ]
    },
    {
     "name": "stdout",
     "output_type": "stream",
     "text": [
      "2025-06-29 19:01:55,127 - INFO -   Win Rate         : 60.00%\n"
     ]
    },
    {
     "name": "stdout",
     "output_type": "stream",
     "text": [
      "2025-06-29 19:01:55,128 - INFO - Backtest simulation for 'SW' on 2025-06-24 completed.\n"
     ]
    },
    {
     "name": "stdout",
     "output_type": "stream",
     "text": [
      "2025-06-29 19:01:55,138 - INFO - ------------------------------\n"
     ]
    },
    {
     "name": "stdout",
     "output_type": "stream",
     "text": [
      "2025-06-29 19:01:55,139 - INFO - Initiating Backtest Run...\n"
     ]
    },
    {
     "name": "stdout",
     "output_type": "stream",
     "text": [
      "2025-06-29 19:01:55,143 - INFO -   Date          : 2025-06-25\n"
     ]
    },
    {
     "name": "stdout",
     "output_type": "stream",
     "text": [
      "2025-06-29 19:01:55,144 - INFO -   Scheme        : EW\n"
     ]
    },
    {
     "name": "stdout",
     "output_type": "stream",
     "text": [
      "2025-06-29 19:01:55,146 - INFO -   Num Tickers   : 10\n"
     ]
    },
    {
     "name": "stdout",
     "output_type": "stream",
     "text": [
      "2025-06-29 19:01:55,147 - ERROR -   Error: No trading date found after buy date (2025-06-26). Cannot determine sell date.\n"
     ]
    },
    {
     "name": "stdout",
     "output_type": "stream",
     "text": [
      "2025-06-29 19:01:55,149 - INFO - ------------------------------\n"
     ]
    },
    {
     "name": "stdout",
     "output_type": "stream",
     "text": [
      "2025-06-29 19:01:55,151 - INFO - Initiating Backtest Run...\n"
     ]
    },
    {
     "name": "stdout",
     "output_type": "stream",
     "text": [
      "2025-06-29 19:01:55,152 - INFO -   Date          : 2025-06-25\n"
     ]
    },
    {
     "name": "stdout",
     "output_type": "stream",
     "text": [
      "2025-06-29 19:01:55,153 - INFO -   Scheme        : IV\n"
     ]
    },
    {
     "name": "stdout",
     "output_type": "stream",
     "text": [
      "2025-06-29 19:01:55,154 - INFO -   Num Tickers   : 10\n"
     ]
    },
    {
     "name": "stdout",
     "output_type": "stream",
     "text": [
      "2025-06-29 19:01:55,158 - ERROR -   Error: No trading date found after buy date (2025-06-26). Cannot determine sell date.\n"
     ]
    },
    {
     "name": "stdout",
     "output_type": "stream",
     "text": [
      "2025-06-29 19:01:55,161 - INFO - ------------------------------\n"
     ]
    },
    {
     "name": "stdout",
     "output_type": "stream",
     "text": [
      "2025-06-29 19:01:55,162 - INFO - Initiating Backtest Run...\n"
     ]
    },
    {
     "name": "stdout",
     "output_type": "stream",
     "text": [
      "2025-06-29 19:01:55,164 - INFO -   Date          : 2025-06-25\n"
     ]
    },
    {
     "name": "stdout",
     "output_type": "stream",
     "text": [
      "2025-06-29 19:01:55,166 - INFO -   Scheme        : SW\n"
     ]
    },
    {
     "name": "stdout",
     "output_type": "stream",
     "text": [
      "2025-06-29 19:01:55,167 - INFO -   Num Tickers   : 10\n"
     ]
    },
    {
     "name": "stdout",
     "output_type": "stream",
     "text": [
      "2025-06-29 19:01:55,169 - ERROR -   Error: No trading date found after buy date (2025-06-26). Cannot determine sell date.\n"
     ]
    },
    {
     "name": "stdout",
     "output_type": "stream",
     "text": [
      "2025-06-29 19:01:55,181 - INFO - ------------------------------\n"
     ]
    },
    {
     "name": "stdout",
     "output_type": "stream",
     "text": [
      "2025-06-29 19:01:55,182 - INFO - Initiating Backtest Run...\n"
     ]
    },
    {
     "name": "stdout",
     "output_type": "stream",
     "text": [
      "2025-06-29 19:01:55,184 - INFO -   Date          : 2025-06-26\n"
     ]
    },
    {
     "name": "stdout",
     "output_type": "stream",
     "text": [
      "2025-06-29 19:01:55,185 - INFO -   Scheme        : EW\n"
     ]
    },
    {
     "name": "stdout",
     "output_type": "stream",
     "text": [
      "2025-06-29 19:01:55,186 - INFO -   Num Tickers   : 10\n"
     ]
    },
    {
     "name": "stdout",
     "output_type": "stream",
     "text": [
      "2025-06-29 19:01:55,189 - ERROR -   Error: No trading date found after selection date (2025-06-26). Cannot determine buy date.\n"
     ]
    },
    {
     "name": "stdout",
     "output_type": "stream",
     "text": [
      "2025-06-29 19:01:55,194 - INFO - ------------------------------\n"
     ]
    },
    {
     "name": "stdout",
     "output_type": "stream",
     "text": [
      "2025-06-29 19:01:55,195 - INFO - Initiating Backtest Run...\n"
     ]
    },
    {
     "name": "stdout",
     "output_type": "stream",
     "text": [
      "2025-06-29 19:01:55,196 - INFO -   Date          : 2025-06-26\n"
     ]
    },
    {
     "name": "stdout",
     "output_type": "stream",
     "text": [
      "2025-06-29 19:01:55,198 - INFO -   Scheme        : IV\n"
     ]
    },
    {
     "name": "stdout",
     "output_type": "stream",
     "text": [
      "2025-06-29 19:01:55,200 - INFO -   Num Tickers   : 10\n"
     ]
    },
    {
     "name": "stdout",
     "output_type": "stream",
     "text": [
      "2025-06-29 19:01:55,201 - ERROR -   Error: No trading date found after selection date (2025-06-26). Cannot determine buy date.\n"
     ]
    },
    {
     "name": "stdout",
     "output_type": "stream",
     "text": [
      "2025-06-29 19:01:55,203 - INFO - ------------------------------\n"
     ]
    },
    {
     "name": "stdout",
     "output_type": "stream",
     "text": [
      "2025-06-29 19:01:55,204 - INFO - Initiating Backtest Run...\n"
     ]
    },
    {
     "name": "stdout",
     "output_type": "stream",
     "text": [
      "2025-06-29 19:01:55,209 - INFO -   Date          : 2025-06-26\n"
     ]
    },
    {
     "name": "stdout",
     "output_type": "stream",
     "text": [
      "2025-06-29 19:01:55,210 - INFO -   Scheme        : SW\n"
     ]
    },
    {
     "name": "stdout",
     "output_type": "stream",
     "text": [
      "2025-06-29 19:01:55,211 - INFO -   Num Tickers   : 10\n"
     ]
    },
    {
     "name": "stdout",
     "output_type": "stream",
     "text": [
      "2025-06-29 19:01:55,213 - ERROR -   Error: No trading date found after selection date (2025-06-26). Cannot determine buy date.\n"
     ]
    },
    {
     "name": "stdout",
     "output_type": "stream",
     "text": [
      "Backtesting complete. Generated 123 new performance records.\n"
     ]
    }
   ],
   "source": [
    "all_performance_records = []\n",
    "if file_pairs:\n",
    "    print(f\"\\n--- Step 3: Executing backtests for {len(file_pairs)} selection dates ---\")\n",
    "    \n",
    "    # Use tqdm for a progress bar\n",
    "    for data_file, param_file in tqdm(file_pairs, desc=\"Backtesting Selections\"):\n",
    "        records = utils.process_backtest_for_pair(\n",
    "            data_file=data_file,\n",
    "            param_file=param_file,\n",
    "            df_adj_close=df_adj_close,\n",
    "            risk_free_rate_daily=DAILY_RISK_FREE_RATE,\n",
    "            run_timestamp=run_timestamp,\n",
    "            log_filepath=log_filepath\n",
    "        )\n",
    "        all_performance_records.extend(records)\n",
    "        \n",
    "    print(f\"Backtesting complete. Generated {len(all_performance_records)} new performance records.\")\n",
    "else:\n",
    "    print(\"No backtests to execute.\")"
   ]
  },
  {
   "cell_type": "markdown",
   "metadata": {},
   "source": [
    "### Step 4: Consolidate and Save Results"
   ]
  },
  {
   "cell_type": "code",
   "execution_count": 6,
   "metadata": {
    "execution": {
     "iopub.execute_input": "2025-06-30T02:01:55.228502Z",
     "iopub.status.busy": "2025-06-30T02:01:55.227503Z",
     "iopub.status.idle": "2025-06-30T02:01:55.639747Z",
     "shell.execute_reply": "2025-06-30T02:01:55.637722Z"
    }
   },
   "outputs": [
    {
     "name": "stdout",
     "output_type": "stream",
     "text": [
      "\n",
      "--- Step 4: Consolidating and saving all results ---\n",
      "2025-06-29 19:01:55,528 - INFO - Updating results file at: C:\\Users\\ping\\Files_win10\\python\\py311\\stocks_copy\\output\\backtest_results\\backtest_master_results.parquet\n"
     ]
    },
    {
     "name": "stdout",
     "output_type": "stream",
     "text": [
      "2025-06-29 19:01:55,543 - INFO - Loading backtest_master_results.parquet to merge with new results.\n"
     ]
    },
    {
     "name": "stdout",
     "output_type": "stream",
     "text": [
      "2025-06-29 19:01:55,618 - INFO - --------------------------------------------------\n"
     ]
    },
    {
     "name": "stdout",
     "output_type": "stream",
     "text": [
      "2025-06-29 19:01:55,620 - INFO - Results successfully updated and saved to 'backtest_master_results.parquet'\n"
     ]
    },
    {
     "name": "stdout",
     "output_type": "stream",
     "text": [
      "2025-06-29 19:01:55,623 - INFO - Records before de-duplication: 246\n"
     ]
    },
    {
     "name": "stdout",
     "output_type": "stream",
     "text": [
      "2025-06-29 19:01:55,627 - INFO - Duplicate records removed:      123\n"
     ]
    },
    {
     "name": "stdout",
     "output_type": "stream",
     "text": [
      "2025-06-29 19:01:55,629 - INFO - Final records in file:          123\n"
     ]
    },
    {
     "name": "stdout",
     "output_type": "stream",
     "text": [
      "2025-06-29 19:01:55,631 - INFO - --------------------------------------------------\n"
     ]
    }
   ],
   "source": [
    "if all_performance_records:\n",
    "    print(\"\\n--- Step 4: Consolidating and saving all results ---\")\n",
    "    utils.update_and_save_results(\n",
    "        new_records=all_performance_records,\n",
    "        results_path=MASTER_RESULTS_PATH,\n",
    "        unique_key_cols=UNIQUE_RUN_KEYS\n",
    "    )\n",
    "else:\n",
    "    print(\"\\nNo new results to save.\")\n"
   ]
  },
  {
   "cell_type": "markdown",
   "metadata": {},
   "source": [
    "### Step 5: Verify Saved Results"
   ]
  },
  {
   "cell_type": "code",
   "execution_count": 7,
   "metadata": {
    "execution": {
     "iopub.execute_input": "2025-06-30T02:01:55.647746Z",
     "iopub.status.busy": "2025-06-30T02:01:55.646752Z",
     "iopub.status.idle": "2025-06-30T02:01:56.021952Z",
     "shell.execute_reply": "2025-06-30T02:01:56.019959Z"
    }
   },
   "outputs": [
    {
     "name": "stdout",
     "output_type": "stream",
     "text": [
      "\n",
      "--- Step 5: Verifying saved master results file ---\n",
      "Successfully loaded master results file with 123 records.\n",
      "Displaying head of results dataframe (latest runs):\n"
     ]
    },
    {
     "data": {
      "text/html": [
       "<div>\n",
       "<style scoped>\n",
       "    .dataframe tbody tr th:only-of-type {\n",
       "        vertical-align: middle;\n",
       "    }\n",
       "\n",
       "    .dataframe tbody tr th {\n",
       "        vertical-align: top;\n",
       "    }\n",
       "\n",
       "    .dataframe thead th {\n",
       "        text-align: right;\n",
       "    }\n",
       "</style>\n",
       "<table border=\"1\" class=\"dataframe\">\n",
       "  <thead>\n",
       "    <tr style=\"text-align: right;\">\n",
       "      <th></th>\n",
       "      <th>actual_selection_date_used</th>\n",
       "      <th>average_return</th>\n",
       "      <th>filter_max_debt_eq</th>\n",
       "      <th>filter_min_avg_volume_m</th>\n",
       "      <th>filter_min_price</th>\n",
       "      <th>filter_min_roe_pct</th>\n",
       "      <th>inv_vol_col_name</th>\n",
       "      <th>log_file</th>\n",
       "      <th>n_select_actual</th>\n",
       "      <th>n_select_requested</th>\n",
       "      <th>num_attempted_trades</th>\n",
       "      <th>num_failed_or_skipped_trades</th>\n",
       "      <th>num_selected_tickers</th>\n",
       "      <th>num_successful_trades</th>\n",
       "      <th>portfolio_return</th>\n",
       "      <th>portfolio_return_normalized</th>\n",
       "      <th>run_timestamp</th>\n",
       "      <th>scheme</th>\n",
       "      <th>score_weight_change</th>\n",
       "      <th>score_weight_rel_volume</th>\n",
       "      <th>score_weight_rsi</th>\n",
       "      <th>score_weight_volatility</th>\n",
       "      <th>selection_date</th>\n",
       "      <th>sharpe_ratio_period</th>\n",
       "      <th>std_dev_return</th>\n",
       "      <th>total_weight_traded</th>\n",
       "      <th>win_rate</th>\n",
       "    </tr>\n",
       "  </thead>\n",
       "  <tbody>\n",
       "    <tr>\n",
       "      <th>0</th>\n",
       "      <td>2025-06-24</td>\n",
       "      <td>0.0050</td>\n",
       "      <td>1.5000</td>\n",
       "      <td>2.0000</td>\n",
       "      <td>10.0000</td>\n",
       "      <td>5.0000</td>\n",
       "      <td>ATR/Price %</td>\n",
       "      <td>backtest_run_20250629_190144.log</td>\n",
       "      <td>10</td>\n",
       "      <td>10</td>\n",
       "      <td>10</td>\n",
       "      <td>0</td>\n",
       "      <td>10</td>\n",
       "      <td>10</td>\n",
       "      <td>0.0050</td>\n",
       "      <td>0.0050</td>\n",
       "      <td>2025-06-29 19:01:45</td>\n",
       "      <td>EW</td>\n",
       "      <td>0.3500</td>\n",
       "      <td>0.2000</td>\n",
       "      <td>0.3500</td>\n",
       "      <td>0.1000</td>\n",
       "      <td>2025-06-24</td>\n",
       "      <td>0.4352</td>\n",
       "      <td>0.0112</td>\n",
       "      <td>1.0000</td>\n",
       "      <td>0.6000</td>\n",
       "    </tr>\n",
       "    <tr>\n",
       "      <th>1</th>\n",
       "      <td>2025-06-24</td>\n",
       "      <td>0.0050</td>\n",
       "      <td>1.5000</td>\n",
       "      <td>2.0000</td>\n",
       "      <td>10.0000</td>\n",
       "      <td>5.0000</td>\n",
       "      <td>ATR/Price %</td>\n",
       "      <td>backtest_run_20250629_190144.log</td>\n",
       "      <td>10</td>\n",
       "      <td>10</td>\n",
       "      <td>10</td>\n",
       "      <td>0</td>\n",
       "      <td>10</td>\n",
       "      <td>10</td>\n",
       "      <td>0.0051</td>\n",
       "      <td>0.0051</td>\n",
       "      <td>2025-06-29 19:01:45</td>\n",
       "      <td>IV</td>\n",
       "      <td>0.3500</td>\n",
       "      <td>0.2000</td>\n",
       "      <td>0.3500</td>\n",
       "      <td>0.1000</td>\n",
       "      <td>2025-06-24</td>\n",
       "      <td>0.4352</td>\n",
       "      <td>0.0112</td>\n",
       "      <td>1.0000</td>\n",
       "      <td>0.6000</td>\n",
       "    </tr>\n",
       "    <tr>\n",
       "      <th>2</th>\n",
       "      <td>2025-06-24</td>\n",
       "      <td>0.0050</td>\n",
       "      <td>1.5000</td>\n",
       "      <td>2.0000</td>\n",
       "      <td>10.0000</td>\n",
       "      <td>5.0000</td>\n",
       "      <td>ATR/Price %</td>\n",
       "      <td>backtest_run_20250629_190144.log</td>\n",
       "      <td>10</td>\n",
       "      <td>10</td>\n",
       "      <td>10</td>\n",
       "      <td>0</td>\n",
       "      <td>10</td>\n",
       "      <td>10</td>\n",
       "      <td>0.0048</td>\n",
       "      <td>0.0048</td>\n",
       "      <td>2025-06-29 19:01:45</td>\n",
       "      <td>SW</td>\n",
       "      <td>0.3500</td>\n",
       "      <td>0.2000</td>\n",
       "      <td>0.3500</td>\n",
       "      <td>0.1000</td>\n",
       "      <td>2025-06-24</td>\n",
       "      <td>0.4352</td>\n",
       "      <td>0.0112</td>\n",
       "      <td>1.0000</td>\n",
       "      <td>0.6000</td>\n",
       "    </tr>\n",
       "    <tr>\n",
       "      <th>3</th>\n",
       "      <td>2025-06-23</td>\n",
       "      <td>-0.0097</td>\n",
       "      <td>1.5000</td>\n",
       "      <td>2.0000</td>\n",
       "      <td>10.0000</td>\n",
       "      <td>5.0000</td>\n",
       "      <td>ATR/Price %</td>\n",
       "      <td>backtest_run_20250629_190144.log</td>\n",
       "      <td>10</td>\n",
       "      <td>10</td>\n",
       "      <td>10</td>\n",
       "      <td>0</td>\n",
       "      <td>10</td>\n",
       "      <td>10</td>\n",
       "      <td>-0.0097</td>\n",
       "      <td>-0.0097</td>\n",
       "      <td>2025-06-29 19:01:45</td>\n",
       "      <td>EW</td>\n",
       "      <td>0.3500</td>\n",
       "      <td>0.2000</td>\n",
       "      <td>0.3500</td>\n",
       "      <td>0.1000</td>\n",
       "      <td>2025-06-23</td>\n",
       "      <td>-0.2692</td>\n",
       "      <td>0.0368</td>\n",
       "      <td>1.0000</td>\n",
       "      <td>0.1000</td>\n",
       "    </tr>\n",
       "    <tr>\n",
       "      <th>4</th>\n",
       "      <td>2025-06-23</td>\n",
       "      <td>-0.0097</td>\n",
       "      <td>1.5000</td>\n",
       "      <td>2.0000</td>\n",
       "      <td>10.0000</td>\n",
       "      <td>5.0000</td>\n",
       "      <td>ATR/Price %</td>\n",
       "      <td>backtest_run_20250629_190144.log</td>\n",
       "      <td>10</td>\n",
       "      <td>10</td>\n",
       "      <td>10</td>\n",
       "      <td>0</td>\n",
       "      <td>10</td>\n",
       "      <td>10</td>\n",
       "      <td>-0.0122</td>\n",
       "      <td>-0.0122</td>\n",
       "      <td>2025-06-29 19:01:45</td>\n",
       "      <td>IV</td>\n",
       "      <td>0.3500</td>\n",
       "      <td>0.2000</td>\n",
       "      <td>0.3500</td>\n",
       "      <td>0.1000</td>\n",
       "      <td>2025-06-23</td>\n",
       "      <td>-0.2692</td>\n",
       "      <td>0.0368</td>\n",
       "      <td>1.0000</td>\n",
       "      <td>0.1000</td>\n",
       "    </tr>\n",
       "  </tbody>\n",
       "</table>\n",
       "</div>"
      ],
      "text/plain": [
       "  actual_selection_date_used  average_return  filter_max_debt_eq  filter_min_avg_volume_m  filter_min_price  filter_min_roe_pct inv_vol_col_name                          log_file  n_select_actual  n_select_requested  num_attempted_trades  num_failed_or_skipped_trades  num_selected_tickers  num_successful_trades  portfolio_return  portfolio_return_normalized       run_timestamp scheme  score_weight_change  score_weight_rel_volume  score_weight_rsi  score_weight_volatility selection_date  sharpe_ratio_period  std_dev_return  total_weight_traded  win_rate\n",
       "0                 2025-06-24          0.0050              1.5000                   2.0000           10.0000              5.0000      ATR/Price %  backtest_run_20250629_190144.log               10                  10                    10                             0                    10                     10            0.0050                       0.0050 2025-06-29 19:01:45     EW               0.3500                   0.2000            0.3500                   0.1000     2025-06-24               0.4352          0.0112               1.0000    0.6000\n",
       "1                 2025-06-24          0.0050              1.5000                   2.0000           10.0000              5.0000      ATR/Price %  backtest_run_20250629_190144.log               10                  10                    10                             0                    10                     10            0.0051                       0.0051 2025-06-29 19:01:45     IV               0.3500                   0.2000            0.3500                   0.1000     2025-06-24               0.4352          0.0112               1.0000    0.6000\n",
       "2                 2025-06-24          0.0050              1.5000                   2.0000           10.0000              5.0000      ATR/Price %  backtest_run_20250629_190144.log               10                  10                    10                             0                    10                     10            0.0048                       0.0048 2025-06-29 19:01:45     SW               0.3500                   0.2000            0.3500                   0.1000     2025-06-24               0.4352          0.0112               1.0000    0.6000\n",
       "3                 2025-06-23         -0.0097              1.5000                   2.0000           10.0000              5.0000      ATR/Price %  backtest_run_20250629_190144.log               10                  10                    10                             0                    10                     10           -0.0097                      -0.0097 2025-06-29 19:01:45     EW               0.3500                   0.2000            0.3500                   0.1000     2025-06-23              -0.2692          0.0368               1.0000    0.1000\n",
       "4                 2025-06-23         -0.0097              1.5000                   2.0000           10.0000              5.0000      ATR/Price %  backtest_run_20250629_190144.log               10                  10                    10                             0                    10                     10           -0.0122                      -0.0122 2025-06-29 19:01:45     IV               0.3500                   0.2000            0.3500                   0.1000     2025-06-23              -0.2692          0.0368               1.0000    0.1000"
      ]
     },
     "metadata": {},
     "output_type": "display_data"
    }
   ],
   "source": [
    "print(\"\\n--- Step 5: Verifying saved master results file ---\")\n",
    "if MASTER_RESULTS_PATH.exists():\n",
    "    df_results = pd.read_parquet(MASTER_RESULTS_PATH)\n",
    "    print(f\"Successfully loaded master results file with {len(df_results)} records.\")\n",
    "    print(\"Displaying head of results dataframe (latest runs):\")\n",
    "    display(df_results.head())\n",
    "else:\n",
    "    print(f\"ERROR: Master results file was not found at {MASTER_RESULTS_PATH}\")"
   ]
  },
  {
   "cell_type": "code",
   "execution_count": null,
   "metadata": {},
   "outputs": [],
   "source": []
  }
 ],
 "metadata": {
  "kernelspec": {
   "display_name": ".venv",
   "language": "python",
   "name": "python3"
  },
  "language_info": {
   "codemirror_mode": {
    "name": "ipython",
    "version": 3
   },
   "file_extension": ".py",
   "mimetype": "text/x-python",
   "name": "python",
   "nbconvert_exporter": "python",
   "pygments_lexer": "ipython3",
   "version": "3.11.9"
  },
  "widgets": {
   "application/vnd.jupyter.widget-state+json": {
    "state": {
     "16084881d58147aa8cd49608a35bbbfb": {
      "model_module": "@jupyter-widgets/base",
      "model_module_version": "2.0.0",
      "model_name": "LayoutModel",
      "state": {
       "_model_module": "@jupyter-widgets/base",
       "_model_module_version": "2.0.0",
       "_model_name": "LayoutModel",
       "_view_count": null,
       "_view_module": "@jupyter-widgets/base",
       "_view_module_version": "2.0.0",
       "_view_name": "LayoutView",
       "align_content": null,
       "align_items": null,
       "align_self": null,
       "border_bottom": null,
       "border_left": null,
       "border_right": null,
       "border_top": null,
       "bottom": null,
       "display": null,
       "flex": null,
       "flex_flow": null,
       "grid_area": null,
       "grid_auto_columns": null,
       "grid_auto_flow": null,
       "grid_auto_rows": null,
       "grid_column": null,
       "grid_gap": null,
       "grid_row": null,
       "grid_template_areas": null,
       "grid_template_columns": null,
       "grid_template_rows": null,
       "height": null,
       "justify_content": null,
       "justify_items": null,
       "left": null,
       "margin": null,
       "max_height": null,
       "max_width": null,
       "min_height": null,
       "min_width": null,
       "object_fit": null,
       "object_position": null,
       "order": null,
       "overflow": null,
       "padding": null,
       "right": null,
       "top": null,
       "visibility": null,
       "width": null
      }
     },
     "39eb83da436846debbc0298370560524": {
      "model_module": "@jupyter-widgets/controls",
      "model_module_version": "2.0.0",
      "model_name": "HBoxModel",
      "state": {
       "_dom_classes": [],
       "_model_module": "@jupyter-widgets/controls",
       "_model_module_version": "2.0.0",
       "_model_name": "HBoxModel",
       "_view_count": null,
       "_view_module": "@jupyter-widgets/controls",
       "_view_module_version": "2.0.0",
       "_view_name": "HBoxView",
       "box_style": "",
       "children": [
        "IPY_MODEL_90a49be194934e7086cba62ba3b34af7",
        "IPY_MODEL_c6849970858143f2bc0c015ed984773e",
        "IPY_MODEL_6affdc1ed3ee46f9a7605fab59307260"
       ],
       "layout": "IPY_MODEL_cdbfc336d89b46839687c291c4fca8a5",
       "tabbable": null,
       "tooltip": null
      }
     },
     "63bc7cd93ed0424cbac342596aab8a2f": {
      "model_module": "@jupyter-widgets/controls",
      "model_module_version": "2.0.0",
      "model_name": "HTMLStyleModel",
      "state": {
       "_model_module": "@jupyter-widgets/controls",
       "_model_module_version": "2.0.0",
       "_model_name": "HTMLStyleModel",
       "_view_count": null,
       "_view_module": "@jupyter-widgets/base",
       "_view_module_version": "2.0.0",
       "_view_name": "StyleView",
       "background": null,
       "description_width": "",
       "font_size": null,
       "text_color": null
      }
     },
     "6affdc1ed3ee46f9a7605fab59307260": {
      "model_module": "@jupyter-widgets/controls",
      "model_module_version": "2.0.0",
      "model_name": "HTMLModel",
      "state": {
       "_dom_classes": [],
       "_model_module": "@jupyter-widgets/controls",
       "_model_module_version": "2.0.0",
       "_model_name": "HTMLModel",
       "_view_count": null,
       "_view_module": "@jupyter-widgets/controls",
       "_view_module_version": "2.0.0",
       "_view_name": "HTMLView",
       "description": "",
       "description_allow_html": false,
       "layout": "IPY_MODEL_b1e6d5e596f6463bb3f0f655f06b74bb",
       "placeholder": "​",
       "style": "IPY_MODEL_63bc7cd93ed0424cbac342596aab8a2f",
       "tabbable": null,
       "tooltip": null,
       "value": " 43/43 [00:04&lt;00:00, 11.72it/s]"
      }
     },
     "8747532c49824c059ff5bf69acc294f2": {
      "model_module": "@jupyter-widgets/base",
      "model_module_version": "2.0.0",
      "model_name": "LayoutModel",
      "state": {
       "_model_module": "@jupyter-widgets/base",
       "_model_module_version": "2.0.0",
       "_model_name": "LayoutModel",
       "_view_count": null,
       "_view_module": "@jupyter-widgets/base",
       "_view_module_version": "2.0.0",
       "_view_name": "LayoutView",
       "align_content": null,
       "align_items": null,
       "align_self": null,
       "border_bottom": null,
       "border_left": null,
       "border_right": null,
       "border_top": null,
       "bottom": null,
       "display": null,
       "flex": null,
       "flex_flow": null,
       "grid_area": null,
       "grid_auto_columns": null,
       "grid_auto_flow": null,
       "grid_auto_rows": null,
       "grid_column": null,
       "grid_gap": null,
       "grid_row": null,
       "grid_template_areas": null,
       "grid_template_columns": null,
       "grid_template_rows": null,
       "height": null,
       "justify_content": null,
       "justify_items": null,
       "left": null,
       "margin": null,
       "max_height": null,
       "max_width": null,
       "min_height": null,
       "min_width": null,
       "object_fit": null,
       "object_position": null,
       "order": null,
       "overflow": null,
       "padding": null,
       "right": null,
       "top": null,
       "visibility": null,
       "width": null
      }
     },
     "89e5d51979864f69b05bd0858b537612": {
      "model_module": "@jupyter-widgets/controls",
      "model_module_version": "2.0.0",
      "model_name": "ProgressStyleModel",
      "state": {
       "_model_module": "@jupyter-widgets/controls",
       "_model_module_version": "2.0.0",
       "_model_name": "ProgressStyleModel",
       "_view_count": null,
       "_view_module": "@jupyter-widgets/base",
       "_view_module_version": "2.0.0",
       "_view_name": "StyleView",
       "bar_color": null,
       "description_width": ""
      }
     },
     "90a49be194934e7086cba62ba3b34af7": {
      "model_module": "@jupyter-widgets/controls",
      "model_module_version": "2.0.0",
      "model_name": "HTMLModel",
      "state": {
       "_dom_classes": [],
       "_model_module": "@jupyter-widgets/controls",
       "_model_module_version": "2.0.0",
       "_model_name": "HTMLModel",
       "_view_count": null,
       "_view_module": "@jupyter-widgets/controls",
       "_view_module_version": "2.0.0",
       "_view_name": "HTMLView",
       "description": "",
       "description_allow_html": false,
       "layout": "IPY_MODEL_16084881d58147aa8cd49608a35bbbfb",
       "placeholder": "​",
       "style": "IPY_MODEL_b5bada38fd7e45cda438e40a1a67181d",
       "tabbable": null,
       "tooltip": null,
       "value": "Backtesting Selections: 100%"
      }
     },
     "b1e6d5e596f6463bb3f0f655f06b74bb": {
      "model_module": "@jupyter-widgets/base",
      "model_module_version": "2.0.0",
      "model_name": "LayoutModel",
      "state": {
       "_model_module": "@jupyter-widgets/base",
       "_model_module_version": "2.0.0",
       "_model_name": "LayoutModel",
       "_view_count": null,
       "_view_module": "@jupyter-widgets/base",
       "_view_module_version": "2.0.0",
       "_view_name": "LayoutView",
       "align_content": null,
       "align_items": null,
       "align_self": null,
       "border_bottom": null,
       "border_left": null,
       "border_right": null,
       "border_top": null,
       "bottom": null,
       "display": null,
       "flex": null,
       "flex_flow": null,
       "grid_area": null,
       "grid_auto_columns": null,
       "grid_auto_flow": null,
       "grid_auto_rows": null,
       "grid_column": null,
       "grid_gap": null,
       "grid_row": null,
       "grid_template_areas": null,
       "grid_template_columns": null,
       "grid_template_rows": null,
       "height": null,
       "justify_content": null,
       "justify_items": null,
       "left": null,
       "margin": null,
       "max_height": null,
       "max_width": null,
       "min_height": null,
       "min_width": null,
       "object_fit": null,
       "object_position": null,
       "order": null,
       "overflow": null,
       "padding": null,
       "right": null,
       "top": null,
       "visibility": null,
       "width": null
      }
     },
     "b5bada38fd7e45cda438e40a1a67181d": {
      "model_module": "@jupyter-widgets/controls",
      "model_module_version": "2.0.0",
      "model_name": "HTMLStyleModel",
      "state": {
       "_model_module": "@jupyter-widgets/controls",
       "_model_module_version": "2.0.0",
       "_model_name": "HTMLStyleModel",
       "_view_count": null,
       "_view_module": "@jupyter-widgets/base",
       "_view_module_version": "2.0.0",
       "_view_name": "StyleView",
       "background": null,
       "description_width": "",
       "font_size": null,
       "text_color": null
      }
     },
     "c6849970858143f2bc0c015ed984773e": {
      "model_module": "@jupyter-widgets/controls",
      "model_module_version": "2.0.0",
      "model_name": "FloatProgressModel",
      "state": {
       "_dom_classes": [],
       "_model_module": "@jupyter-widgets/controls",
       "_model_module_version": "2.0.0",
       "_model_name": "FloatProgressModel",
       "_view_count": null,
       "_view_module": "@jupyter-widgets/controls",
       "_view_module_version": "2.0.0",
       "_view_name": "ProgressView",
       "bar_style": "success",
       "description": "",
       "description_allow_html": false,
       "layout": "IPY_MODEL_8747532c49824c059ff5bf69acc294f2",
       "max": 43.0,
       "min": 0.0,
       "orientation": "horizontal",
       "style": "IPY_MODEL_89e5d51979864f69b05bd0858b537612",
       "tabbable": null,
       "tooltip": null,
       "value": 43.0
      }
     },
     "cdbfc336d89b46839687c291c4fca8a5": {
      "model_module": "@jupyter-widgets/base",
      "model_module_version": "2.0.0",
      "model_name": "LayoutModel",
      "state": {
       "_model_module": "@jupyter-widgets/base",
       "_model_module_version": "2.0.0",
       "_model_name": "LayoutModel",
       "_view_count": null,
       "_view_module": "@jupyter-widgets/base",
       "_view_module_version": "2.0.0",
       "_view_name": "LayoutView",
       "align_content": null,
       "align_items": null,
       "align_self": null,
       "border_bottom": null,
       "border_left": null,
       "border_right": null,
       "border_top": null,
       "bottom": null,
       "display": null,
       "flex": null,
       "flex_flow": null,
       "grid_area": null,
       "grid_auto_columns": null,
       "grid_auto_flow": null,
       "grid_auto_rows": null,
       "grid_column": null,
       "grid_gap": null,
       "grid_row": null,
       "grid_template_areas": null,
       "grid_template_columns": null,
       "grid_template_rows": null,
       "height": null,
       "justify_content": null,
       "justify_items": null,
       "left": null,
       "margin": null,
       "max_height": null,
       "max_width": null,
       "min_height": null,
       "min_width": null,
       "object_fit": null,
       "object_position": null,
       "order": null,
       "overflow": null,
       "padding": null,
       "right": null,
       "top": null,
       "visibility": null,
       "width": null
      }
     }
    },
    "version_major": 2,
    "version_minor": 0
   }
  }
 },
 "nbformat": 4,
 "nbformat_minor": 2
}
