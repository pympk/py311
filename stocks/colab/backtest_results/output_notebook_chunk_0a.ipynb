{
 "cells": [
  {
   "cell_type": "markdown",
   "id": "f9a1c8f7",
   "metadata": {
    "papermill": {
     "duration": 0.005171,
     "end_time": "2025-08-09T03:01:50.502343",
     "exception": false,
     "start_time": "2025-08-09T03:01:50.497172",
     "status": "completed"
    },
    "tags": []
   },
   "source": [
    "### Sharpe Strategy Worker Workflow\n",
    "\n",
    "This notebook executes a single backtest iteration for a given train/test data split. It is designed to be called by an orchestrator notebook (`py11_backtest_orchestrator.ipynb`) via `papermill`.\n",
    "\n",
    "**Workflow:**\n",
    "\n",
    "1.  **Receive Parameters:** Papermill injects paths for train/test data, Finviz data, the output location, and the benchmark ticker.\n",
    "2.  **Load Data:** Reads the data from the specified paths.\n",
    "3.  **Calculate Sharpe & Filter:** Calculates Sharpe ratios over multiple lookback periods within the training data and filters for tickers that consistently underperform the benchmark.\n",
    "4.  **Determine Weights:** Assigns equal weights to the selected underperforming tickers.\n",
    "5.  **Simulate & Compare:** Runs a simulation on the test data, comparing the portfolio's performance against the benchmark.\n",
    "6.  **Save Results:** Saves the daily portfolio and benchmark returns for the test period to the specified output path."
   ]
  },
  {
   "cell_type": "markdown",
   "id": "a3c58ec7",
   "metadata": {
    "papermill": {
     "duration": 0.006562,
     "end_time": "2025-08-09T03:01:50.518906",
     "exception": false,
     "start_time": "2025-08-09T03:01:50.512344",
     "status": "completed"
    },
    "tags": []
   },
   "source": [
    "### Step 1: Setup and Parameters\n",
    "\n",
    "This cell imports necessary libraries and defines the parameters that will be injected by `papermill`. **Do not modify the `Parameters` section manually when running via the orchestrator.**"
   ]
  },
  {
   "cell_type": "code",
   "execution_count": 9,
   "id": "86120229",
   "metadata": {
    "execution": {
     "iopub.execute_input": "2025-08-09T03:01:50.530905Z",
     "iopub.status.busy": "2025-08-09T03:01:50.529905Z",
     "iopub.status.idle": "2025-08-09T03:01:52.083231Z",
     "shell.execute_reply": "2025-08-09T03:01:52.081858Z"
    },
    "papermill": {
     "duration": 1.559899,
     "end_time": "2025-08-09T03:01:52.084801",
     "exception": false,
     "start_time": "2025-08-09T03:01:50.524902",
     "status": "completed"
    },
    "tags": [
     "parameters"
    ]
   },
   "outputs": [
    {
     "name": "stdout",
     "output_type": "stream",
     "text": [
      "--- Worker Notebook Execution Started ---\n",
      "Train data path: path/to/train_data.parquet\n",
      "Test data path:  path/to/test_data.parquet\n",
      "Output path:     path/to/output.parquet\n",
      "Benchmark:       VGT\n"
     ]
    }
   ],
   "source": [
    "# Papermill injects parameters here\n",
    "# Add parameter tag -> Open Command Palette (ctrl+ shift+ p) -> Add Cell Tag -> parameters \n",
    "\n",
    "import pandas as pd\n",
    "import numpy as np\n",
    "import matplotlib.pyplot as plt\n",
    "from pathlib import Path\n",
    "\n",
    "# --- Parameters ---\n",
    "# [REFACTOR] This cell is now tagged as the 'parameters' cell for papermill.\n",
    "# Default values are provided for interactive testing, but will be overwritten.\n",
    "returns_train_path = \"path/to/train_data.parquet\"\n",
    "returns_test_path = \"path/to/test_data.parquet\"\n",
    "finviz_data_path = \"path/to/finviz_data.parquet\"\n",
    "output_path = \"path/to/output.parquet\"\n",
    "benchmark_ticker = \"VGT\"\n",
    "\n",
    "# --- Verification (runs inside the notebook) ---\n",
    "print(\"--- Worker Notebook Execution Started ---\")\n",
    "print(f\"Train data path: {returns_train_path}\")\n",
    "print(f\"Test data path:  {returns_test_path}\")\n",
    "print(f\"Output path:     {output_path}\")\n",
    "print(f\"Benchmark:       {benchmark_ticker}\")"
   ]
  },
  {
   "cell_type": "code",
   "execution_count": 10,
   "id": "9a11006d",
   "metadata": {
    "execution": {
     "iopub.execute_input": "2025-08-09T03:01:52.097801Z",
     "iopub.status.busy": "2025-08-09T03:01:52.096801Z",
     "iopub.status.idle": "2025-08-09T03:01:52.104021Z",
     "shell.execute_reply": "2025-08-09T03:01:52.103015Z"
    },
    "papermill": {
     "duration": 0.015219,
     "end_time": "2025-08-09T03:01:52.106020",
     "exception": false,
     "start_time": "2025-08-09T03:01:52.090801",
     "status": "completed"
    },
    "tags": [
     "injected-parameters"
    ]
   },
   "outputs": [],
   "source": [
    "# Parameters\n",
    "returns_train_path = \"c:\\\\Users\\\\ping\\\\Files_win10\\\\python\\\\py311\\\\stocks\\\\colab\\\\temp_backtest_data\\\\returns_train_chunk_0.parquet\"\n",
    "returns_test_path = \"c:\\\\Users\\\\ping\\\\Files_win10\\\\python\\\\py311\\\\stocks\\\\colab\\\\temp_backtest_data\\\\returns_test_chunk_0.parquet\"\n",
    "finviz_data_path = \"c:\\\\Users\\\\ping\\\\Files_win10\\\\python\\\\py311\\\\stocks\\\\colab\\\\2025-08-01_df_finviz_merged_stocks_etfs.parquet\"\n",
    "output_path = \"c:\\\\Users\\\\ping\\\\Files_win10\\\\python\\\\py311\\\\stocks\\\\colab\\\\backtest_results\\\\result_chunk_0.parquet\"\n",
    "benchmark_ticker = \"VGT\"\n"
   ]
  },
  {
   "cell_type": "markdown",
   "id": "908bc2f1",
   "metadata": {
    "papermill": {
     "duration": 0.005,
     "end_time": "2025-08-09T03:01:52.115021",
     "exception": false,
     "start_time": "2025-08-09T03:01:52.110021",
     "status": "completed"
    },
    "tags": []
   },
   "source": [
    "### Step 2: Load Data\n",
    "\n",
    "Load the training and testing datasets using the paths provided by the orchestrator."
   ]
  },
  {
   "cell_type": "code",
   "execution_count": 11,
   "id": "1af92227",
   "metadata": {
    "execution": {
     "iopub.execute_input": "2025-08-09T03:01:52.127001Z",
     "iopub.status.busy": "2025-08-09T03:01:52.125999Z",
     "iopub.status.idle": "2025-08-09T03:01:52.473415Z",
     "shell.execute_reply": "2025-08-09T03:01:52.473415Z"
    },
    "papermill": {
     "duration": 0.355424,
     "end_time": "2025-08-09T03:01:52.475422",
     "exception": false,
     "start_time": "2025-08-09T03:01:52.119998",
     "status": "completed"
    },
    "tags": []
   },
   "outputs": [
    {
     "name": "stdout",
     "output_type": "stream",
     "text": [
      "Loaded training data with shape: (270, 1151)\n",
      "Loaded testing data with shape: (30, 1151)\n"
     ]
    }
   ],
   "source": [
    "# Convert string paths from papermill to Path objects\n",
    "returns_train_path = Path(returns_train_path)\n",
    "returns_test_path = Path(returns_test_path)\n",
    "finviz_data_path = Path(finviz_data_path)\n",
    "\n",
    "# Load data\n",
    "returns_train = pd.read_parquet(returns_train_path)\n",
    "returns_test = pd.read_parquet(returns_test_path)\n",
    "df_finviz = pd.read_parquet(finviz_data_path)\n",
    "\n",
    "print(f\"Loaded training data with shape: {returns_train.shape}\")\n",
    "print(f\"Loaded testing data with shape: {returns_test.shape}\")"
   ]
  },
  {
   "cell_type": "markdown",
   "id": "e7218ab0",
   "metadata": {
    "papermill": {
     "duration": 0.009088,
     "end_time": "2025-08-09T03:01:52.489512",
     "exception": false,
     "start_time": "2025-08-09T03:01:52.480424",
     "status": "completed"
    },
    "tags": []
   },
   "source": [
    "### Step 3: Calculate Sharpe Ratios and Filter Tickers\n",
    "\n",
    "Analyze the training data to select tickers for our portfolio. The strategy is to select assets that have consistently lower Sharpe ratios than the benchmark over multiple time horizons."
   ]
  },
  {
   "cell_type": "code",
   "execution_count": 12,
   "id": "a4ebde5c",
   "metadata": {},
   "outputs": [],
   "source": [
    "def calculate_sharpe(returns: pd.Series) -> float:\n",
    "    \"\"\"Calculates the Sharpe ratio for a returns series.\"\"\"\n",
    "    # Note: This is a simplified Sharpe ratio (risk-free rate = 0).\n",
    "    # For annualized Sharpe, adjustments would be needed.\n",
    "    if returns.std() == 0:\n",
    "        return 0.0\n",
    "    return returns.mean() / returns.std()"
   ]
  },
  {
   "cell_type": "code",
   "execution_count": 15,
   "id": "51854e74",
   "metadata": {},
   "outputs": [],
   "source": [
    "days = 30\n",
    "sharpe_ratios = {}\n",
    "sharpe_ratios[days] = returns_train.iloc[-days:].apply(calculate_sharpe)"
   ]
  },
  {
   "cell_type": "code",
   "execution_count": 18,
   "id": "fde785d7",
   "metadata": {},
   "outputs": [
    {
     "name": "stdout",
     "output_type": "stream",
     "text": [
      "<class 'pandas.core.frame.DataFrame'>\n",
      "DatetimeIndex: 270 entries, 2015-01-05 to 2016-01-29\n",
      "Columns: 1151 entries, A to CASH\n",
      "dtypes: float64(1151)\n",
      "memory usage: 2.4 MB\n"
     ]
    }
   ],
   "source": [
    "returns_train.info()"
   ]
  },
  {
   "cell_type": "code",
   "execution_count": null,
   "id": "d1802434",
   "metadata": {},
   "outputs": [],
   "source": [
    "returns_train.iloc[-days:]"
   ]
  },
  {
   "cell_type": "code",
   "execution_count": 22,
   "id": "ec425feb",
   "metadata": {},
   "outputs": [
    {
     "data": {
      "text/plain": [
       "-0.13444110002747853"
      ]
     },
     "execution_count": 22,
     "metadata": {},
     "output_type": "execute_result"
    }
   ],
   "source": [
    "sharpe_ratios[30][\"A\"]"
   ]
  },
  {
   "cell_type": "code",
   "execution_count": 23,
   "id": "f6564b99",
   "metadata": {
    "execution": {
     "iopub.execute_input": "2025-08-09T03:01:52.503228Z",
     "iopub.status.busy": "2025-08-09T03:01:52.502229Z",
     "iopub.status.idle": "2025-08-09T03:01:53.294305Z",
     "shell.execute_reply": "2025-08-09T03:01:53.293298Z"
    },
    "papermill": {
     "duration": 0.802797,
     "end_time": "2025-08-09T03:01:53.297305",
     "exception": false,
     "start_time": "2025-08-09T03:01:52.494508",
     "status": "completed"
    },
    "tags": []
   },
   "outputs": [
    {
     "name": "stdout",
     "output_type": "stream",
     "text": [
      "days: 30, len(candidate_tickers): 784\n",
      "days: 60, len(candidate_tickers): 590\n",
      "days: 120, len(candidate_tickers): 412\n",
      "days: 240, len(candidate_tickers): 326\n",
      "Found 326 tickers that consistently underperformed 'VGT'.\n",
      "Selected tickers: ['AAON', 'ACN', 'ADBE', 'ADC', 'ADP', 'AEE', 'AEM', 'AEP', 'AFG', 'AGG', 'AIZ', 'ALB', 'AMZN', 'ARMK', 'ATO', 'ATR', 'AVB', 'AVGO', 'AVY', 'AWK', 'AZN', 'AZO', 'B', 'BAH', 'BBWI', 'BDX', 'BFAM', 'BIV', 'BLV', 'BND', 'BNDX', 'BOND', 'BRKR', 'BRX', 'BSV', 'BSX', 'BUD', 'BURL', 'BWXT', 'BYD', 'CAH', 'CASY', 'CB', 'CBOE', 'CCI', 'CHDN', 'CHT', 'CINF', 'CL', 'CLX', 'CME', 'CMF', 'CMS', 'COHR', 'COOP', 'CPB', 'CPT', 'CRL', 'CTAS', 'CUBE', 'CW', 'CWST', 'D', 'DEO', 'DG', 'DLR', 'DLTR', 'DPZ', 'DRI', 'DSGX', 'DTE', 'DUK', 'EBR', 'ED', 'EDV', 'EFX', 'EG', 'EIX', 'ELS', 'EMA', 'EMB', 'EME', 'ENSG', 'EQIX', 'EQR', 'ERIE', 'ES', 'ESLT', 'EVRG', 'EW', 'EXR', 'FAST', 'FCNCA', 'FDL', 'FI', 'FICO', 'FIVE', 'FIX', 'FLUT', 'FMS', 'FMX', 'FN', 'FNV', 'FPE', 'FR', 'FRT', 'FSLR', 'FSS', 'FTEC', 'FTS', 'FTSM', 'FVD', 'G', 'GE', 'GFI', 'GGG', 'GIB', 'GIS', 'GMAB', 'GMED', 'GOOG', 'GOOGL', 'GOVT', 'GVI', 'GWRE', 'HAS', 'HD', 'HDB', 'HDV', 'HEI-A', 'HII', 'HMY', 'HON', 'HRB', 'HRL', 'HSIC', 'HTHT', 'ICE', 'IDA', 'IEF', 'IEI', 'IESC', 'IEX', 'IFF', 'IGIB', 'IGSB', 'INFY', 'INGR', 'IPG', 'ISRG', 'ISTB', 'IT', 'ITRI', 'IUSB', 'IX', 'JBTM', 'JKHY', 'JNJ', 'K', 'KDP', 'KEP', 'KIM', 'KLAC', 'KMB', 'KO', 'LAMR', 'LFUS', 'LHX', 'LMBS', 'LMT', 'LNT', 'LOGI', 'LOW', 'LULU', 'MAA', 'MAT', 'MBB', 'MCD', 'MDT', 'META', 'MINT', 'MKC', 'MKL', 'MKSI', 'MKTX', 'MO', 'MPWR', 'MSCI', 'MSFT', 'MSI', 'MTUM', 'MUB', 'NDAQ', 'NEAR', 'NEE', 'NGG', 'NI', 'NKE', 'NLY', 'NNN', 'NOBL', 'NOC', 'NOK', 'NVO', 'NVR', 'NYT', 'O', 'OC', 'OLED', 'OMC', 'ORI', 'ORLY', 'PDI', 'PEG', 'PEP', 'PFF', 'PG', 'PGR', 'PGX', 'PM', 'PNFP', 'PNW', 'POOL', 'PPL', 'PSA', 'PSX', 'REG', 'RELX', 'REXR', 'RLI', 'RMBS', 'RNR', 'ROP', 'ROST', 'RS', 'RSG', 'RTO', 'SAP', 'SBS', 'SBUX', 'SCHO', 'SCHP', 'SCHR', 'SCHZ', 'SHV', 'SHY', 'SJM', 'SNA', 'SNV', 'SO', 'SPAB', 'SPG', 'SPHQ', 'SPIB', 'SPLV', 'SPMB', 'SPSB', 'SPTI', 'SPTL', 'SPTS', 'STE', 'STIP', 'STRL', 'STZ', 'SUB', 'SUI', 'SYK', 'SYY', 'T', 'TAP', 'TDG', 'TER', 'TFLO', 'THG', 'TIP', 'TJX', 'TLH', 'TLK', 'TLT', 'TMF', 'TMO', 'TMUS', 'TPR', 'TSCO', 'TSN', 'TTC', 'TTEK', 'TTWO', 'TXN', 'TXRH', 'UDR', 'UFPI', 'UGI', 'UHAL', 'UI', 'UL', 'ULTA', 'UNH', 'USMV', 'V', 'VCIT', 'VCSH', 'VDC', 'VGIT', 'VGLT', 'VGSH', 'VLO', 'VMBS', 'VOX', 'VPU', 'VTIP', 'VTRS', 'VZ', 'W', 'WCN', 'WEC', 'WM', 'WPP', 'WTRG', 'WWD', 'XEL', 'XLG', 'XLK', 'XLP', 'XLU', 'XYL']\n"
     ]
    }
   ],
   "source": [
    "def calculate_sharpe(returns: pd.Series) -> float:\n",
    "    \"\"\"Calculates the Sharpe ratio for a returns series.\"\"\"\n",
    "    # Note: This is a simplified Sharpe ratio (risk-free rate = 0).\n",
    "    # For annualized Sharpe, adjustments would be needed.\n",
    "    if returns.std() == 0:\n",
    "        return 0.0\n",
    "    return returns.mean() / returns.std()\n",
    "\n",
    "# Define lookback periods\n",
    "lookbacks = [30, 60, 120, 240]\n",
    "sharpe_ratios = {}\n",
    "\n",
    "# Calculate Sharpe for each lookback period\n",
    "for days in lookbacks:\n",
    "    if len(returns_train) >= days:\n",
    "        sharpe_ratios[days] = returns_train.iloc[-days:].apply(calculate_sharpe)\n",
    "\n",
    "# Find tickers that consistently underperform the benchmark\n",
    "if sharpe_ratios:\n",
    "    # Start with all tickers\n",
    "    candidate_tickers = returns_train.columns.drop('CASH')\n",
    "    \n",
    "    # Iteratively filter the list\n",
    "    for days, sr_series in sharpe_ratios.items():\n",
    "        benchmark_sharpe = sr_series.get(benchmark_ticker, -np.inf)\n",
    "\n",
    "        # underperformers = sr_series[sr_series < benchmark_sharpe].index\n",
    "        #candidate_tickers = candidate_tickers.intersection(underperformers)        \n",
    "        \n",
    "        overperformers = sr_series[sr_series > benchmark_sharpe].index        \n",
    "        candidate_tickers = candidate_tickers.intersection(overperformers)\n",
    "        print(f'days: {days}, len(candidate_tickers): {len(candidate_tickers)}')\n",
    "\n",
    "    selected_tickers = candidate_tickers.tolist()\n",
    "else:\n",
    "    selected_tickers = []\n",
    "\n",
    "print(f\"Found {len(selected_tickers)} tickers that consistently underperformed '{benchmark_ticker}'.\")\n",
    "print(f\"Selected tickers: {selected_tickers}\")"
   ]
  },
  {
   "cell_type": "markdown",
   "id": "a5e2aa46",
   "metadata": {
    "papermill": {
     "duration": 0.005001,
     "end_time": "2025-08-09T03:01:53.309282",
     "exception": false,
     "start_time": "2025-08-09T03:01:53.304281",
     "status": "completed"
    },
    "tags": []
   },
   "source": [
    "### Step 4: Determine Portfolio Weights\n",
    "\n",
    "Allocate weights to the selected tickers. If no tickers are selected, the portfolio defaults to 100% cash."
   ]
  },
  {
   "cell_type": "code",
   "execution_count": 5,
   "id": "6e885abe",
   "metadata": {
    "execution": {
     "iopub.execute_input": "2025-08-09T03:01:53.322943Z",
     "iopub.status.busy": "2025-08-09T03:01:53.321944Z",
     "iopub.status.idle": "2025-08-09T03:01:53.328672Z",
     "shell.execute_reply": "2025-08-09T03:01:53.327666Z"
    },
    "papermill": {
     "duration": 0.016392,
     "end_time": "2025-08-09T03:01:53.330672",
     "exception": false,
     "start_time": "2025-08-09T03:01:53.314280",
     "status": "completed"
    },
    "tags": []
   },
   "outputs": [
    {
     "name": "stdout",
     "output_type": "stream",
     "text": [
      "Assigned uniform weight of 0.0031 to 326 tickers.\n"
     ]
    }
   ],
   "source": [
    "if selected_tickers:\n",
    "    num_tickers = len(selected_tickers)\n",
    "    uniform_weight = 1.0 / num_tickers\n",
    "    selected_weights = np.full(num_tickers, uniform_weight)\n",
    "    print(f\"Assigned uniform weight of {uniform_weight:.4f} to {num_tickers} tickers.\")\n",
    "else:\n",
    "    # Default to a cash position if no tickers meet the criteria\n",
    "    selected_tickers = ['CASH']\n",
    "    selected_weights = np.array([1.0])\n",
    "    print(\"No tickers selected. Defaulting to 100% CASH position.\")"
   ]
  },
  {
   "cell_type": "markdown",
   "id": "8687fdb7",
   "metadata": {
    "papermill": {
     "duration": 0.005001,
     "end_time": "2025-08-09T03:01:53.344524",
     "exception": false,
     "start_time": "2025-08-09T03:01:53.339523",
     "status": "completed"
    },
    "tags": []
   },
   "source": [
    "### Step 5: Simulate Portfolio on Test Data\n",
    "\n",
    "Apply the calculated weights to the test data returns to simulate the portfolio's performance."
   ]
  },
  {
   "cell_type": "code",
   "execution_count": 6,
   "id": "bfa5f42b",
   "metadata": {
    "execution": {
     "iopub.execute_input": "2025-08-09T03:01:53.360764Z",
     "iopub.status.busy": "2025-08-09T03:01:53.359762Z",
     "iopub.status.idle": "2025-08-09T03:01:53.381907Z",
     "shell.execute_reply": "2025-08-09T03:01:53.380899Z"
    },
    "papermill": {
     "duration": 0.033081,
     "end_time": "2025-08-09T03:01:53.383844",
     "exception": false,
     "start_time": "2025-08-09T03:01:53.350763",
     "status": "completed"
    },
    "tags": []
   },
   "outputs": [
    {
     "name": "stdout",
     "output_type": "stream",
     "text": [
      "Simulation on test data complete.\n"
     ]
    },
    {
     "data": {
      "text/html": [
       "<div>\n",
       "<style scoped>\n",
       "    .dataframe tbody tr th:only-of-type {\n",
       "        vertical-align: middle;\n",
       "    }\n",
       "\n",
       "    .dataframe tbody tr th {\n",
       "        vertical-align: top;\n",
       "    }\n",
       "\n",
       "    .dataframe thead th {\n",
       "        text-align: right;\n",
       "    }\n",
       "</style>\n",
       "<table border=\"1\" class=\"dataframe\">\n",
       "  <thead>\n",
       "    <tr style=\"text-align: right;\">\n",
       "      <th></th>\n",
       "      <th>Portfolio</th>\n",
       "      <th>Benchmark</th>\n",
       "    </tr>\n",
       "    <tr>\n",
       "      <th>Date</th>\n",
       "      <th></th>\n",
       "      <th></th>\n",
       "    </tr>\n",
       "  </thead>\n",
       "  <tbody>\n",
       "    <tr>\n",
       "      <th>2016-02-01</th>\n",
       "      <td>0.002070</td>\n",
       "      <td>0.002452</td>\n",
       "    </tr>\n",
       "    <tr>\n",
       "      <th>2016-02-02</th>\n",
       "      <td>-0.008647</td>\n",
       "      <td>-0.020258</td>\n",
       "    </tr>\n",
       "    <tr>\n",
       "      <th>2016-02-03</th>\n",
       "      <td>0.002134</td>\n",
       "      <td>-0.002297</td>\n",
       "    </tr>\n",
       "  </tbody>\n",
       "</table>\n",
       "</div>"
      ],
      "text/plain": [
       "            Portfolio  Benchmark\n",
       "Date                            \n",
       "2016-02-01   0.002070   0.002452\n",
       "2016-02-02  -0.008647  -0.020258\n",
       "2016-02-03   0.002134  -0.002297"
      ]
     },
     "metadata": {},
     "output_type": "display_data"
    }
   ],
   "source": [
    "# Filter test returns for selected tickers and calculate portfolio daily return\n",
    "portfolio_returns_test = returns_test[selected_tickers].dot(selected_weights)\n",
    "\n",
    "# Create a results DataFrame including the benchmark for comparison\n",
    "results_df = pd.DataFrame({\n",
    "    'Portfolio': portfolio_returns_test,\n",
    "    'Benchmark': returns_test[benchmark_ticker]\n",
    "})\n",
    "\n",
    "print(\"Simulation on test data complete.\")\n",
    "display(results_df.head(3))"
   ]
  },
  {
   "cell_type": "markdown",
   "id": "b4d10a1d",
   "metadata": {
    "papermill": {
     "duration": 0.013069,
     "end_time": "2025-08-09T03:01:53.419879",
     "exception": false,
     "start_time": "2025-08-09T03:01:53.406810",
     "status": "completed"
    },
    "tags": []
   },
   "source": [
    "### Step 6: Save Results\n",
    "\n",
    "Save the resulting portfolio and benchmark daily returns to the specified output file. This file will be collected by the orchestrator."
   ]
  },
  {
   "cell_type": "code",
   "execution_count": 7,
   "id": "31ad15a9",
   "metadata": {
    "execution": {
     "iopub.execute_input": "2025-08-09T03:01:53.435610Z",
     "iopub.status.busy": "2025-08-09T03:01:53.434611Z",
     "iopub.status.idle": "2025-08-09T03:01:53.445410Z",
     "shell.execute_reply": "2025-08-09T03:01:53.444399Z"
    },
    "papermill": {
     "duration": 0.020532,
     "end_time": "2025-08-09T03:01:53.446409",
     "exception": false,
     "start_time": "2025-08-09T03:01:53.425877",
     "status": "completed"
    },
    "tags": []
   },
   "outputs": [
    {
     "name": "stdout",
     "output_type": "stream",
     "text": [
      "Successfully saved test period results to: c:\\Users\\ping\\Files_win10\\python\\py311\\stocks\\colab\\backtest_results\\result_chunk_0.parquet\n"
     ]
    }
   ],
   "source": [
    "# [REFACTOR] Saving to a unique parquet file. The orchestrator will handle aggregation.\n",
    "output_path = Path(output_path)\n",
    "output_path.parent.mkdir(parents=True, exist_ok=True) # Ensure directory exists\n",
    "\n",
    "results_df.to_parquet(output_path)\n",
    "\n",
    "print(f\"Successfully saved test period results to: {output_path}\")"
   ]
  },
  {
   "cell_type": "markdown",
   "id": "134abe41",
   "metadata": {
    "papermill": {
     "duration": 0.006,
     "end_time": "2025-08-09T03:01:53.459238",
     "exception": false,
     "start_time": "2025-08-09T03:01:53.453238",
     "status": "completed"
    },
    "tags": []
   },
   "source": [
    "### Step 7: Verification and Analysis (Optional)\n",
    "\n",
    "This cell provides a quick visualization of the test period's performance. The final, aggregated analysis should be done in a separate notebook after the orchestrator finishes."
   ]
  },
  {
   "cell_type": "code",
   "execution_count": 8,
   "id": "5bebc34d",
   "metadata": {
    "execution": {
     "iopub.execute_input": "2025-08-09T03:01:53.474183Z",
     "iopub.status.busy": "2025-08-09T03:01:53.474183Z",
     "iopub.status.idle": "2025-08-09T03:01:54.020701Z",
     "shell.execute_reply": "2025-08-09T03:01:54.019692Z"
    },
    "papermill": {
     "duration": 0.555607,
     "end_time": "2025-08-09T03:01:54.022701",
     "exception": false,
     "start_time": "2025-08-09T03:01:53.467094",
     "status": "completed"
    },
    "tags": []
   },
   "outputs": [
    {
     "data": {
      "image/png": "[encoded data removed]",
      "text/plain": [
       "<Figure size 1200x600 with 1 Axes>"
      ]
     },
     "metadata": {},
     "output_type": "display_data"
    }
   ],
   "source": [
    "# Calculate cumulative returns for plotting\n",
    "cumulative_results = (1 + results_df).cumprod()\n",
    "\n",
    "# Plot the results\n",
    "plt.style.use('seaborn-v0_8-whitegrid')\n",
    "fig, ax = plt.subplots(figsize=(12, 6))\n",
    "cumulative_results.plot(ax=ax)\n",
    "\n",
    "ax.set_title(f'Portfolio vs. Benchmark ({benchmark_ticker}) Performance')\n",
    "ax.set_ylabel('Cumulative Return')\n",
    "ax.set_xlabel('Date')\n",
    "ax.legend(['Portfolio', 'Benchmark'])\n",
    "plt.show()"
   ]
  },
  {
   "cell_type": "code",
   "execution_count": null,
   "id": "92a46102",
   "metadata": {
    "papermill": {
     "duration": 0.013886,
     "end_time": "2025-08-09T03:01:54.050535",
     "exception": false,
     "start_time": "2025-08-09T03:01:54.036649",
     "status": "completed"
    },
    "tags": []
   },
   "outputs": [],
   "source": []
  }
 ],
 "metadata": {
  "kernelspec": {
   "display_name": "py311-py3.11",
   "language": "python",
   "name": "python3"
  },
  "language_info": {
   "codemirror_mode": {
    "name": "ipython",
    "version": 3
   },
   "file_extension": ".py",
   "mimetype": "text/x-python",
   "name": "python",
   "nbconvert_exporter": "python",
   "pygments_lexer": "ipython3",
   "version": "3.11.9"
  },
  "papermill": {
   "default_parameters": {},
   "duration": 6.635064,
   "end_time": "2025-08-09T03:01:54.703411",
   "environment_variables": {},
   "exception": null,
   "input_path": "c:\\Users\\ping\\Files_win10\\python\\py311\\stocks\\colab\\_pm_worker_sharpe_strategy.ipynb",
   "output_path": "c:\\Users\\ping\\Files_win10\\python\\py311\\stocks\\colab\\backtest_results\\output_notebook_chunk_0.ipynb",
   "parameters": {
    "benchmark_ticker": "VGT",
    "finviz_data_path": "c:\\Users\\ping\\Files_win10\\python\\py311\\stocks\\colab\\2025-08-01_df_finviz_merged_stocks_etfs.parquet",
    "output_path": "c:\\Users\\ping\\Files_win10\\python\\py311\\stocks\\colab\\backtest_results\\result_chunk_0.parquet",
    "returns_test_path": "c:\\Users\\ping\\Files_win10\\python\\py311\\stocks\\colab\\temp_backtest_data\\returns_test_chunk_0.parquet",
    "returns_train_path": "c:\\Users\\ping\\Files_win10\\python\\py311\\stocks\\colab\\temp_backtest_data\\returns_train_chunk_0.parquet"
   },
   "start_time": "2025-08-09T03:01:48.068347",
   "version": "2.6.0"
  }
 },
 "nbformat": 4,
 "nbformat_minor": 5
}
