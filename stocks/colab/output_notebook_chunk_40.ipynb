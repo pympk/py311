{
 "cells": [
  {
   "cell_type": "markdown",
   "id": "f9a1c8f7",
   "metadata": {
    "papermill": {
     "duration": 0.002393,
     "end_time": "2025-08-06T15:42:12.588886",
     "exception": false,
     "start_time": "2025-08-06T15:42:12.586493",
     "status": "completed"
    },
    "tags": []
   },
   "source": [
    "### Sharpe Strategy Worker Workflow\n",
    "\n",
    "This notebook executes a single backtest iteration for a given train/test data split. It is designed to be called by an orchestrator notebook (`py11_backtest_orchestrator.ipynb`) via `papermill`.\n",
    "\n",
    "**Workflow:**\n",
    "\n",
    "1.  **Receive Parameters:** Papermill injects paths for train/test data, Finviz data, the output location, and the benchmark ticker.\n",
    "2.  **Load Data:** Reads the data from the specified paths.\n",
    "3.  **Calculate Sharpe & Filter:** Calculates Sharpe ratios over multiple lookback periods within the training data and filters for tickers that consistently underperform the benchmark.\n",
    "4.  **Determine Weights:** Assigns equal weights to the selected underperforming tickers.\n",
    "5.  **Simulate & Compare:** Runs a simulation on the test data, comparing the portfolio's performance against the benchmark.\n",
    "6.  **Save Results:** Saves the daily portfolio and benchmark returns for the test period to the specified output path."
   ]
  },
  {
   "cell_type": "markdown",
   "id": "a3c58ec7",
   "metadata": {
    "papermill": {
     "duration": 0.002873,
     "end_time": "2025-08-06T15:42:12.594494",
     "exception": false,
     "start_time": "2025-08-06T15:42:12.591621",
     "status": "completed"
    },
    "tags": []
   },
   "source": [
    "### Step 1: Setup and Parameters\n",
    "\n",
    "This cell imports necessary libraries and defines the parameters that will be injected by `papermill`. **Do not modify the `Parameters` section manually when running via the orchestrator.**"
   ]
  },
  {
   "cell_type": "code",
   "execution_count": 1,
   "id": "86120229",
   "metadata": {
    "execution": {
     "iopub.execute_input": "2025-08-06T15:42:12.603173Z",
     "iopub.status.busy": "2025-08-06T15:42:12.602933Z",
     "iopub.status.idle": "2025-08-06T15:42:12.840430Z",
     "shell.execute_reply": "2025-08-06T15:42:12.839630Z"
    },
    "papermill": {
     "duration": 0.242697,
     "end_time": "2025-08-06T15:42:12.841999",
     "exception": false,
     "start_time": "2025-08-06T15:42:12.599302",
     "status": "completed"
    },
    "tags": [
     "parameters"
    ]
   },
   "outputs": [
    {
     "name": "stdout",
     "output_type": "stream",
     "text": [
      "--- Worker Notebook Execution Started ---\n",
      "Train data path: path/to/train_data.parquet\n",
      "Test data path:  path/to/test_data.parquet\n",
      "Output path:     path/to/output.parquet\n",
      "Benchmark:       VGT\n"
     ]
    }
   ],
   "source": [
    "# Papermill injects parameters here\n",
    "# Add parameter tag -> Open Command Palette (ctrl+ shift+ p) -> Add Cell Tag -> parameters \n",
    "\n",
    "import pandas as pd\n",
    "import numpy as np\n",
    "import matplotlib.pyplot as plt\n",
    "from pathlib import Path\n",
    "\n",
    "# --- Parameters ---\n",
    "# [REFACTOR] This cell is now tagged as the 'parameters' cell for papermill.\n",
    "# Default values are provided for interactive testing, but will be overwritten.\n",
    "returns_train_path = \"path/to/train_data.parquet\"\n",
    "returns_test_path = \"path/to/test_data.parquet\"\n",
    "finviz_data_path = \"path/to/finviz_data.parquet\"\n",
    "output_path = \"path/to/output.parquet\"\n",
    "benchmark_ticker = \"VGT\"\n",
    "\n",
    "# --- Verification (runs inside the notebook) ---\n",
    "print(\"--- Worker Notebook Execution Started ---\")\n",
    "print(f\"Train data path: {returns_train_path}\")\n",
    "print(f\"Test data path:  {returns_test_path}\")\n",
    "print(f\"Output path:     {output_path}\")\n",
    "print(f\"Benchmark:       {benchmark_ticker}\")"
   ]
  },
  {
   "cell_type": "code",
   "execution_count": 2,
   "id": "d0029793",
   "metadata": {
    "execution": {
     "iopub.execute_input": "2025-08-06T15:42:12.853562Z",
     "iopub.status.busy": "2025-08-06T15:42:12.852030Z",
     "iopub.status.idle": "2025-08-06T15:42:12.857146Z",
     "shell.execute_reply": "2025-08-06T15:42:12.856523Z"
    },
    "papermill": {
     "duration": 0.013604,
     "end_time": "2025-08-06T15:42:12.858556",
     "exception": false,
     "start_time": "2025-08-06T15:42:12.844952",
     "status": "completed"
    },
    "tags": [
     "injected-parameters"
    ]
   },
   "outputs": [],
   "source": [
    "# Parameters\n",
    "returns_train_path = \"/content/temp_backtest_data/returns_train_chunk_40.parquet\"\n",
    "returns_test_path = \"/content/temp_backtest_data/returns_test_chunk_40.parquet\"\n",
    "finviz_data_path = \"/content/2025-08-01_df_finviz_merged_stocks_etfs.parquet\"\n",
    "output_path = \"/content/backtest_results/result_chunk_40.parquet\"\n",
    "benchmark_ticker = \"VGT\"\n"
   ]
  },
  {
   "cell_type": "markdown",
   "id": "908bc2f1",
   "metadata": {
    "papermill": {
     "duration": 0.002193,
     "end_time": "2025-08-06T15:42:12.862940",
     "exception": false,
     "start_time": "2025-08-06T15:42:12.860747",
     "status": "completed"
    },
    "tags": []
   },
   "source": [
    "### Step 2: Load Data\n",
    "\n",
    "Load the training and testing datasets using the paths provided by the orchestrator."
   ]
  },
  {
   "cell_type": "code",
   "execution_count": 3,
   "id": "1af92227",
   "metadata": {
    "execution": {
     "iopub.execute_input": "2025-08-06T15:42:12.868015Z",
     "iopub.status.busy": "2025-08-06T15:42:12.867813Z",
     "iopub.status.idle": "2025-08-06T15:42:13.075584Z",
     "shell.execute_reply": "2025-08-06T15:42:13.074808Z"
    },
    "papermill": {
     "duration": 0.212269,
     "end_time": "2025-08-06T15:42:13.077251",
     "exception": false,
     "start_time": "2025-08-06T15:42:12.864982",
     "status": "completed"
    },
    "tags": []
   },
   "outputs": [
    {
     "ename": "FileNotFoundError",
     "evalue": "[Errno 2] No such file or directory: '\\\\content\\\\temp_backtest_data\\\\returns_train_chunk_40.parquet'",
     "output_type": "error",
     "traceback": [
      "\u001b[31m---------------------------------------------------------------------------\u001b[39m",
      "\u001b[31mFileNotFoundError\u001b[39m                         Traceback (most recent call last)",
      "\u001b[36mCell\u001b[39m\u001b[36m \u001b[39m\u001b[32mIn[3]\u001b[39m\u001b[32m, line 7\u001b[39m\n\u001b[32m      4\u001b[39m finviz_data_path = Path(finviz_data_path)\n\u001b[32m      6\u001b[39m \u001b[38;5;66;03m# Load data\u001b[39;00m\n\u001b[32m----> \u001b[39m\u001b[32m7\u001b[39m returns_train = \u001b[43mpd\u001b[49m\u001b[43m.\u001b[49m\u001b[43mread_parquet\u001b[49m\u001b[43m(\u001b[49m\u001b[43mreturns_train_path\u001b[49m\u001b[43m)\u001b[49m\n\u001b[32m      8\u001b[39m returns_test = pd.read_parquet(returns_test_path)\n\u001b[32m      9\u001b[39m df_finviz = pd.read_parquet(finviz_data_path)\n",
      "\u001b[36mFile \u001b[39m\u001b[32mc:\\Users\\ping\\Files_win10\\python\\py311\\.venv\\Lib\\site-packages\\pandas\\io\\parquet.py:667\u001b[39m, in \u001b[36mread_parquet\u001b[39m\u001b[34m(path, engine, columns, storage_options, use_nullable_dtypes, dtype_backend, filesystem, filters, **kwargs)\u001b[39m\n\u001b[32m    664\u001b[39m     use_nullable_dtypes = \u001b[38;5;28;01mFalse\u001b[39;00m\n\u001b[32m    665\u001b[39m check_dtype_backend(dtype_backend)\n\u001b[32m--> \u001b[39m\u001b[32m667\u001b[39m \u001b[38;5;28;01mreturn\u001b[39;00m \u001b[43mimpl\u001b[49m\u001b[43m.\u001b[49m\u001b[43mread\u001b[49m\u001b[43m(\u001b[49m\n\u001b[32m    668\u001b[39m \u001b[43m    \u001b[49m\u001b[43mpath\u001b[49m\u001b[43m,\u001b[49m\n\u001b[32m    669\u001b[39m \u001b[43m    \u001b[49m\u001b[43mcolumns\u001b[49m\u001b[43m=\u001b[49m\u001b[43mcolumns\u001b[49m\u001b[43m,\u001b[49m\n\u001b[32m    670\u001b[39m \u001b[43m    \u001b[49m\u001b[43mfilters\u001b[49m\u001b[43m=\u001b[49m\u001b[43mfilters\u001b[49m\u001b[43m,\u001b[49m\n\u001b[32m    671\u001b[39m \u001b[43m    \u001b[49m\u001b[43mstorage_options\u001b[49m\u001b[43m=\u001b[49m\u001b[43mstorage_options\u001b[49m\u001b[43m,\u001b[49m\n\u001b[32m    672\u001b[39m \u001b[43m    \u001b[49m\u001b[43muse_nullable_dtypes\u001b[49m\u001b[43m=\u001b[49m\u001b[43muse_nullable_dtypes\u001b[49m\u001b[43m,\u001b[49m\n\u001b[32m    673\u001b[39m \u001b[43m    \u001b[49m\u001b[43mdtype_backend\u001b[49m\u001b[43m=\u001b[49m\u001b[43mdtype_backend\u001b[49m\u001b[43m,\u001b[49m\n\u001b[32m    674\u001b[39m \u001b[43m    \u001b[49m\u001b[43mfilesystem\u001b[49m\u001b[43m=\u001b[49m\u001b[43mfilesystem\u001b[49m\u001b[43m,\u001b[49m\n\u001b[32m    675\u001b[39m \u001b[43m    \u001b[49m\u001b[43m*\u001b[49m\u001b[43m*\u001b[49m\u001b[43mkwargs\u001b[49m\u001b[43m,\u001b[49m\n\u001b[32m    676\u001b[39m \u001b[43m\u001b[49m\u001b[43m)\u001b[49m\n",
      "\u001b[36mFile \u001b[39m\u001b[32mc:\\Users\\ping\\Files_win10\\python\\py311\\.venv\\Lib\\site-packages\\pandas\\io\\parquet.py:267\u001b[39m, in \u001b[36mPyArrowImpl.read\u001b[39m\u001b[34m(self, path, columns, filters, use_nullable_dtypes, dtype_backend, storage_options, filesystem, **kwargs)\u001b[39m\n\u001b[32m    264\u001b[39m \u001b[38;5;28;01mif\u001b[39;00m manager == \u001b[33m\"\u001b[39m\u001b[33marray\u001b[39m\u001b[33m\"\u001b[39m:\n\u001b[32m    265\u001b[39m     to_pandas_kwargs[\u001b[33m\"\u001b[39m\u001b[33msplit_blocks\u001b[39m\u001b[33m\"\u001b[39m] = \u001b[38;5;28;01mTrue\u001b[39;00m  \u001b[38;5;66;03m# type: ignore[assignment]\u001b[39;00m\n\u001b[32m--> \u001b[39m\u001b[32m267\u001b[39m path_or_handle, handles, filesystem = \u001b[43m_get_path_or_handle\u001b[49m\u001b[43m(\u001b[49m\n\u001b[32m    268\u001b[39m \u001b[43m    \u001b[49m\u001b[43mpath\u001b[49m\u001b[43m,\u001b[49m\n\u001b[32m    269\u001b[39m \u001b[43m    \u001b[49m\u001b[43mfilesystem\u001b[49m\u001b[43m,\u001b[49m\n\u001b[32m    270\u001b[39m \u001b[43m    \u001b[49m\u001b[43mstorage_options\u001b[49m\u001b[43m=\u001b[49m\u001b[43mstorage_options\u001b[49m\u001b[43m,\u001b[49m\n\u001b[32m    271\u001b[39m \u001b[43m    \u001b[49m\u001b[43mmode\u001b[49m\u001b[43m=\u001b[49m\u001b[33;43m\"\u001b[39;49m\u001b[33;43mrb\u001b[39;49m\u001b[33;43m\"\u001b[39;49m\u001b[43m,\u001b[49m\n\u001b[32m    272\u001b[39m \u001b[43m\u001b[49m\u001b[43m)\u001b[49m\n\u001b[32m    273\u001b[39m \u001b[38;5;28;01mtry\u001b[39;00m:\n\u001b[32m    274\u001b[39m     pa_table = \u001b[38;5;28mself\u001b[39m.api.parquet.read_table(\n\u001b[32m    275\u001b[39m         path_or_handle,\n\u001b[32m    276\u001b[39m         columns=columns,\n\u001b[32m   (...)\u001b[39m\u001b[32m    279\u001b[39m         **kwargs,\n\u001b[32m    280\u001b[39m     )\n",
      "\u001b[36mFile \u001b[39m\u001b[32mc:\\Users\\ping\\Files_win10\\python\\py311\\.venv\\Lib\\site-packages\\pandas\\io\\parquet.py:140\u001b[39m, in \u001b[36m_get_path_or_handle\u001b[39m\u001b[34m(path, fs, storage_options, mode, is_dir)\u001b[39m\n\u001b[32m    130\u001b[39m handles = \u001b[38;5;28;01mNone\u001b[39;00m\n\u001b[32m    131\u001b[39m \u001b[38;5;28;01mif\u001b[39;00m (\n\u001b[32m    132\u001b[39m     \u001b[38;5;129;01mnot\u001b[39;00m fs\n\u001b[32m    133\u001b[39m     \u001b[38;5;129;01mand\u001b[39;00m \u001b[38;5;129;01mnot\u001b[39;00m is_dir\n\u001b[32m   (...)\u001b[39m\u001b[32m    138\u001b[39m     \u001b[38;5;66;03m# fsspec resources can also point to directories\u001b[39;00m\n\u001b[32m    139\u001b[39m     \u001b[38;5;66;03m# this branch is used for example when reading from non-fsspec URLs\u001b[39;00m\n\u001b[32m--> \u001b[39m\u001b[32m140\u001b[39m     handles = \u001b[43mget_handle\u001b[49m\u001b[43m(\u001b[49m\n\u001b[32m    141\u001b[39m \u001b[43m        \u001b[49m\u001b[43mpath_or_handle\u001b[49m\u001b[43m,\u001b[49m\u001b[43m \u001b[49m\u001b[43mmode\u001b[49m\u001b[43m,\u001b[49m\u001b[43m \u001b[49m\u001b[43mis_text\u001b[49m\u001b[43m=\u001b[49m\u001b[38;5;28;43;01mFalse\u001b[39;49;00m\u001b[43m,\u001b[49m\u001b[43m \u001b[49m\u001b[43mstorage_options\u001b[49m\u001b[43m=\u001b[49m\u001b[43mstorage_options\u001b[49m\n\u001b[32m    142\u001b[39m \u001b[43m    \u001b[49m\u001b[43m)\u001b[49m\n\u001b[32m    143\u001b[39m     fs = \u001b[38;5;28;01mNone\u001b[39;00m\n\u001b[32m    144\u001b[39m     path_or_handle = handles.handle\n",
      "\u001b[36mFile \u001b[39m\u001b[32mc:\\Users\\ping\\Files_win10\\python\\py311\\.venv\\Lib\\site-packages\\pandas\\io\\common.py:882\u001b[39m, in \u001b[36mget_handle\u001b[39m\u001b[34m(path_or_buf, mode, encoding, compression, memory_map, is_text, errors, storage_options)\u001b[39m\n\u001b[32m    873\u001b[39m         handle = \u001b[38;5;28mopen\u001b[39m(\n\u001b[32m    874\u001b[39m             handle,\n\u001b[32m    875\u001b[39m             ioargs.mode,\n\u001b[32m   (...)\u001b[39m\u001b[32m    878\u001b[39m             newline=\u001b[33m\"\u001b[39m\u001b[33m\"\u001b[39m,\n\u001b[32m    879\u001b[39m         )\n\u001b[32m    880\u001b[39m     \u001b[38;5;28;01melse\u001b[39;00m:\n\u001b[32m    881\u001b[39m         \u001b[38;5;66;03m# Binary mode\u001b[39;00m\n\u001b[32m--> \u001b[39m\u001b[32m882\u001b[39m         handle = \u001b[38;5;28;43mopen\u001b[39;49m\u001b[43m(\u001b[49m\u001b[43mhandle\u001b[49m\u001b[43m,\u001b[49m\u001b[43m \u001b[49m\u001b[43mioargs\u001b[49m\u001b[43m.\u001b[49m\u001b[43mmode\u001b[49m\u001b[43m)\u001b[49m\n\u001b[32m    883\u001b[39m     handles.append(handle)\n\u001b[32m    885\u001b[39m \u001b[38;5;66;03m# Convert BytesIO or file objects passed with an encoding\u001b[39;00m\n",
      "\u001b[31mFileNotFoundError\u001b[39m: [Errno 2] No such file or directory: '\\\\content\\\\temp_backtest_data\\\\returns_train_chunk_40.parquet'"
     ]
    }
   ],
   "source": [
    "# Convert string paths from papermill to Path objects\n",
    "returns_train_path = Path(returns_train_path)\n",
    "returns_test_path = Path(returns_test_path)\n",
    "finviz_data_path = Path(finviz_data_path)\n",
    "\n",
    "# Load data\n",
    "returns_train = pd.read_parquet(returns_train_path)\n",
    "returns_test = pd.read_parquet(returns_test_path)\n",
    "df_finviz = pd.read_parquet(finviz_data_path)\n",
    "\n",
    "print(f\"Loaded training data with shape: {returns_train.shape}\")\n",
    "print(f\"Loaded testing data with shape: {returns_test.shape}\")"
   ]
  },
  {
   "cell_type": "markdown",
   "id": "e7218ab0",
   "metadata": {
    "papermill": {
     "duration": 0.003007,
     "end_time": "2025-08-06T15:42:13.083390",
     "exception": false,
     "start_time": "2025-08-06T15:42:13.080383",
     "status": "completed"
    },
    "tags": []
   },
   "source": [
    "### Step 3: Calculate Sharpe Ratios and Filter Tickers\n",
    "\n",
    "Analyze the training data to select tickers for our portfolio. The strategy is to select assets that have consistently lower Sharpe ratios than the benchmark over multiple time horizons."
   ]
  },
  {
   "cell_type": "code",
   "execution_count": null,
   "id": "f6564b99",
   "metadata": {
    "execution": {
     "iopub.execute_input": "2025-08-06T15:42:13.091982Z",
     "iopub.status.busy": "2025-08-06T15:42:13.091775Z",
     "iopub.status.idle": "2025-08-06T15:42:13.405900Z",
     "shell.execute_reply": "2025-08-06T15:42:13.405207Z"
    },
    "papermill": {
     "duration": 0.319934,
     "end_time": "2025-08-06T15:42:13.407341",
     "exception": false,
     "start_time": "2025-08-06T15:42:13.087407",
     "status": "completed"
    },
    "tags": []
   },
   "outputs": [],
   "source": [
    "def calculate_sharpe(returns: pd.Series) -> float:\n",
    "    \"\"\"Calculates the Sharpe ratio for a returns series.\"\"\"\n",
    "    # Note: This is a simplified Sharpe ratio (risk-free rate = 0).\n",
    "    # For annualized Sharpe, adjustments would be needed.\n",
    "    if returns.std() == 0:\n",
    "        return 0.0\n",
    "    return returns.mean() / returns.std()\n",
    "\n",
    "# Define lookback periods\n",
    "lookbacks = [30, 60, 120, 240]\n",
    "sharpe_ratios = {}\n",
    "\n",
    "# Calculate Sharpe for each lookback period\n",
    "for days in lookbacks:\n",
    "    if len(returns_train) >= days:\n",
    "        sharpe_ratios[days] = returns_train.iloc[-days:].apply(calculate_sharpe)\n",
    "\n",
    "# Find tickers that consistently underperform the benchmark\n",
    "if sharpe_ratios:\n",
    "    # Start with all tickers\n",
    "    candidate_tickers = returns_train.columns.drop('CASH')\n",
    "    \n",
    "    # Iteratively filter the list\n",
    "    for days, sr_series in sharpe_ratios.items():\n",
    "        benchmark_sharpe = sr_series.get(benchmark_ticker, -np.inf)\n",
    "        underperformers = sr_series[sr_series < benchmark_sharpe].index\n",
    "        candidate_tickers = candidate_tickers.intersection(underperformers)\n",
    "    \n",
    "    selected_tickers = candidate_tickers.tolist()\n",
    "else:\n",
    "    selected_tickers = []\n",
    "\n",
    "print(f\"Found {len(selected_tickers)} tickers that consistently underperformed '{benchmark_ticker}'.\")\n",
    "print(f\"Selected tickers: {selected_tickers}\")"
   ]
  },
  {
   "cell_type": "markdown",
   "id": "a5e2aa46",
   "metadata": {
    "papermill": {
     "duration": 0.004575,
     "end_time": "2025-08-06T15:42:13.415765",
     "exception": false,
     "start_time": "2025-08-06T15:42:13.411190",
     "status": "completed"
    },
    "tags": []
   },
   "source": [
    "### Step 4: Determine Portfolio Weights\n",
    "\n",
    "Allocate weights to the selected tickers. If no tickers are selected, the portfolio defaults to 100% cash."
   ]
  },
  {
   "cell_type": "code",
   "execution_count": null,
   "id": "6e885abe",
   "metadata": {
    "execution": {
     "iopub.execute_input": "2025-08-06T15:42:13.422399Z",
     "iopub.status.busy": "2025-08-06T15:42:13.422044Z",
     "iopub.status.idle": "2025-08-06T15:42:13.426859Z",
     "shell.execute_reply": "2025-08-06T15:42:13.426115Z"
    },
    "papermill": {
     "duration": 0.009665,
     "end_time": "2025-08-06T15:42:13.428508",
     "exception": false,
     "start_time": "2025-08-06T15:42:13.418843",
     "status": "completed"
    },
    "tags": []
   },
   "outputs": [],
   "source": [
    "if selected_tickers:\n",
    "    num_tickers = len(selected_tickers)\n",
    "    uniform_weight = 1.0 / num_tickers\n",
    "    selected_weights = np.full(num_tickers, uniform_weight)\n",
    "    print(f\"Assigned uniform weight of {uniform_weight:.4f} to {num_tickers} tickers.\")\n",
    "else:\n",
    "    # Default to a cash position if no tickers meet the criteria\n",
    "    selected_tickers = ['CASH']\n",
    "    selected_weights = np.array([1.0])\n",
    "    print(\"No tickers selected. Defaulting to 100% CASH position.\")"
   ]
  },
  {
   "cell_type": "markdown",
   "id": "8687fdb7",
   "metadata": {
    "papermill": {
     "duration": 0.002638,
     "end_time": "2025-08-06T15:42:13.433816",
     "exception": false,
     "start_time": "2025-08-06T15:42:13.431178",
     "status": "completed"
    },
    "tags": []
   },
   "source": [
    "### Step 5: Simulate Portfolio on Test Data\n",
    "\n",
    "Apply the calculated weights to the test data returns to simulate the portfolio's performance."
   ]
  },
  {
   "cell_type": "code",
   "execution_count": null,
   "id": "bfa5f42b",
   "metadata": {
    "execution": {
     "iopub.execute_input": "2025-08-06T15:42:13.439398Z",
     "iopub.status.busy": "2025-08-06T15:42:13.439187Z",
     "iopub.status.idle": "2025-08-06T15:42:13.450562Z",
     "shell.execute_reply": "2025-08-06T15:42:13.449874Z"
    },
    "papermill": {
     "duration": 0.015701,
     "end_time": "2025-08-06T15:42:13.451858",
     "exception": false,
     "start_time": "2025-08-06T15:42:13.436157",
     "status": "completed"
    },
    "tags": []
   },
   "outputs": [],
   "source": [
    "# Filter test returns for selected tickers and calculate portfolio daily return\n",
    "portfolio_returns_test = returns_test[selected_tickers].dot(selected_weights)\n",
    "\n",
    "# Create a results DataFrame including the benchmark for comparison\n",
    "results_df = pd.DataFrame({\n",
    "    'Portfolio': portfolio_returns_test,\n",
    "    'Benchmark': returns_test[benchmark_ticker]\n",
    "})\n",
    "\n",
    "print(\"Simulation on test data complete.\")\n",
    "display(results_df.head(3))"
   ]
  },
  {
   "cell_type": "markdown",
   "id": "b4d10a1d",
   "metadata": {
    "papermill": {
     "duration": 0.002945,
     "end_time": "2025-08-06T15:42:13.457894",
     "exception": false,
     "start_time": "2025-08-06T15:42:13.454949",
     "status": "completed"
    },
    "tags": []
   },
   "source": [
    "### Step 6: Save Results\n",
    "\n",
    "Save the resulting portfolio and benchmark daily returns to the specified output file. This file will be collected by the orchestrator."
   ]
  },
  {
   "cell_type": "code",
   "execution_count": null,
   "id": "31ad15a9",
   "metadata": {
    "execution": {
     "iopub.execute_input": "2025-08-06T15:42:13.464611Z",
     "iopub.status.busy": "2025-08-06T15:42:13.464403Z",
     "iopub.status.idle": "2025-08-06T15:42:13.470659Z",
     "shell.execute_reply": "2025-08-06T15:42:13.470009Z"
    },
    "papermill": {
     "duration": 0.011354,
     "end_time": "2025-08-06T15:42:13.471967",
     "exception": false,
     "start_time": "2025-08-06T15:42:13.460613",
     "status": "completed"
    },
    "tags": []
   },
   "outputs": [],
   "source": [
    "# [REFACTOR] Saving to a unique parquet file. The orchestrator will handle aggregation.\n",
    "output_path = Path(output_path)\n",
    "output_path.parent.mkdir(parents=True, exist_ok=True) # Ensure directory exists\n",
    "\n",
    "results_df.to_parquet(output_path)\n",
    "\n",
    "print(f\"Successfully saved test period results to: {output_path}\")"
   ]
  },
  {
   "cell_type": "markdown",
   "id": "134abe41",
   "metadata": {
    "papermill": {
     "duration": 0.003549,
     "end_time": "2025-08-06T15:42:13.478215",
     "exception": false,
     "start_time": "2025-08-06T15:42:13.474666",
     "status": "completed"
    },
    "tags": []
   },
   "source": [
    "### Step 7: Verification and Analysis (Optional)\n",
    "\n",
    "This cell provides a quick visualization of the test period's performance. The final, aggregated analysis should be done in a separate notebook after the orchestrator finishes."
   ]
  },
  {
   "cell_type": "code",
   "execution_count": null,
   "id": "5bebc34d",
   "metadata": {
    "execution": {
     "iopub.execute_input": "2025-08-06T15:42:13.485861Z",
     "iopub.status.busy": "2025-08-06T15:42:13.485636Z",
     "iopub.status.idle": "2025-08-06T15:42:13.753647Z",
     "shell.execute_reply": "2025-08-06T15:42:13.753029Z"
    },
    "papermill": {
     "duration": 0.274129,
     "end_time": "2025-08-06T15:42:13.755557",
     "exception": false,
     "start_time": "2025-08-06T15:42:13.481428",
     "status": "completed"
    },
    "tags": []
   },
   "outputs": [],
   "source": [
    "# Calculate cumulative returns for plotting\n",
    "cumulative_results = (1 + results_df).cumprod()\n",
    "\n",
    "# Plot the results\n",
    "plt.style.use('seaborn-v0_8-whitegrid')\n",
    "fig, ax = plt.subplots(figsize=(12, 6))\n",
    "cumulative_results.plot(ax=ax)\n",
    "\n",
    "ax.set_title(f'Portfolio vs. Benchmark ({benchmark_ticker}) Performance')\n",
    "ax.set_ylabel('Cumulative Return')\n",
    "ax.set_xlabel('Date')\n",
    "ax.legend(['Portfolio', 'Benchmark'])\n",
    "plt.show()"
   ]
  },
  {
   "cell_type": "code",
   "execution_count": null,
   "id": "92a46102",
   "metadata": {
    "papermill": {
     "duration": 0.011682,
     "end_time": "2025-08-06T15:42:13.774649",
     "exception": false,
     "start_time": "2025-08-06T15:42:13.762967",
     "status": "completed"
    },
    "tags": []
   },
   "outputs": [],
   "source": []
  }
 ],
 "metadata": {
  "kernelspec": {
   "display_name": "py311-py3.11",
   "language": "python",
   "name": "python3"
  },
  "language_info": {
   "codemirror_mode": {
    "name": "ipython",
    "version": 3
   },
   "file_extension": ".py",
   "mimetype": "text/x-python",
   "name": "python",
   "nbconvert_exporter": "python",
   "pygments_lexer": "ipython3",
   "version": "3.11.9"
  },
  "papermill": {
   "default_parameters": {},
   "duration": 2.572628,
   "end_time": "2025-08-06T15:42:14.091006",
   "environment_variables": {},
   "exception": null,
   "input_path": "/content/_pm_worker_sharpe_strategy.ipynb",
   "output_path": "/content/backtest_results/output_notebook_chunk_40.ipynb",
   "parameters": {
    "benchmark_ticker": "VGT",
    "finviz_data_path": "/content/2025-08-01_df_finviz_merged_stocks_etfs.parquet",
    "output_path": "/content/backtest_results/result_chunk_40.parquet",
    "returns_test_path": "/content/temp_backtest_data/returns_test_chunk_40.parquet",
    "returns_train_path": "/content/temp_backtest_data/returns_train_chunk_40.parquet"
   },
   "start_time": "2025-08-06T15:42:11.518378",
   "version": "2.6.0"
  }
 },
 "nbformat": 4,
 "nbformat_minor": 5
}
