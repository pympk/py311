{
 "cells": [
  {
   "cell_type": "code",
   "execution_count": null,
   "metadata": {},
   "outputs": [],
   "source": [
    "\n",
    "\n"
   ]
  },
  {
   "cell_type": "code",
   "execution_count": 8,
   "metadata": {},
   "outputs": [
    {
     "name": "stdout",
     "output_type": "stream",
     "text": [
      "The autoreload extension is already loaded. To reload it, use:\n",
      "  %reload_ext autoreload\n",
      "Python will look in these locations:\n",
      "['C:\\\\Users\\\\ping\\\\.pyenv\\\\pyenv-win\\\\versions\\\\3.11.9\\\\python311.zip', 'C:\\\\Users\\\\ping\\\\.pyenv\\\\pyenv-win\\\\versions\\\\3.11.9\\\\DLLs', 'C:\\\\Users\\\\ping\\\\.pyenv\\\\pyenv-win\\\\versions\\\\3.11.9\\\\Lib', 'C:\\\\Users\\\\ping\\\\.pyenv\\\\pyenv-win\\\\versions\\\\3.11.9', 'c:\\\\Users\\\\ping\\\\Files_win10\\\\python\\\\py311\\\\.venv', '', 'c:\\\\Users\\\\ping\\\\Files_win10\\\\python\\\\py311\\\\.venv\\\\Lib\\\\site-packages', 'c:\\\\Users\\\\ping\\\\Files_win10\\\\python\\\\py311\\\\.venv\\\\Lib\\\\site-packages\\\\win32', 'c:\\\\Users\\\\ping\\\\Files_win10\\\\python\\\\py311\\\\.venv\\\\Lib\\\\site-packages\\\\win32\\\\lib', 'c:\\\\Users\\\\ping\\\\Files_win10\\\\python\\\\py311\\\\.venv\\\\Lib\\\\site-packages\\\\Pythonwin', 'c:\\\\Users\\\\ping\\\\Files_win10\\\\python\\\\py311\\\\stocks\\\\src', 'c:\\\\Users\\\\ping\\\\Files_win10\\\\python\\\\py311\\\\.venv\\\\Lib\\\\site-packages\\\\setuptools\\\\_vendor', 'c:\\\\Users\\\\ping\\\\Files_win10\\\\python\\\\py311\\\\stocks\\\\src']\n"
     ]
    }
   ],
   "source": [
    "import sys\n",
    "from pathlib import Path\n",
    "import pandas as pd\n",
    "import os\n",
    "from IPython.display import display, Markdown  # Assuming you use these for display\n",
    "\n",
    "\n",
    "# Set pandas display options to show more columns and rows\n",
    "pd.set_option('display.max_columns', None)  # Show all columns\n",
    "# pd.set_option('display.max_rows', 10)       # Limit to 10 rows for readability\n",
    "pd.set_option('display.width', None)        # Let the display adjust to the window\n",
    "\n",
    "# 2. Set the display width (optional but \n",
    "# often helpful)\n",
    "#    'None' tries to detect terminal width. \n",
    "#    A large number (e.g., 1000) ensures no wrapping unless absolutely necessary.\n",
    "pd.set_option('display.width', 1000) \n",
    "\n",
    "\n",
    "# Notebook cell\n",
    "%load_ext autoreload\n",
    "%autoreload 2\n",
    "\n",
    "# Get root directory (assuming notebook is in root/notebooks/)\n",
    "NOTEBOOK_DIR = Path.cwd()\n",
    "ROOT_DIR = NOTEBOOK_DIR.parent if NOTEBOOK_DIR.name == 'notebooks' else NOTEBOOK_DIR\n",
    "\n",
    "# Add src directory to Python path\n",
    "sys.path.append(str(ROOT_DIR / 'src'))\n",
    "\n",
    "# Verify path\n",
    "print(f\"Python will look in these locations:\\n{sys.path}\")\n",
    "\n",
    "\n",
    "# --- Execute the processor ---\n",
    "import utils\n",
    "\n"
   ]
  },
  {
   "cell_type": "code",
   "execution_count": 9,
   "metadata": {},
   "outputs": [
    {
     "name": "stdout",
     "output_type": "stream",
     "text": [
      "target_dir: C:\\Users\\ping\\Downloads\n",
      "\n",
      "Most recent files found in targetdirectory:\n",
      "1. df_finviz_2025-05-15_stocks_etfs.parquet\n",
      "2. df_finviz_2025-05-14_stocks_etfs.parquet\n",
      "3. df_finviz_2025-05-13_stocks_etfs.parquet\n",
      "4. df_finviz_2025-05-12_stocks_etfs.parquet\n",
      "5. df_finviz_2025-05-09_stocks_etfs.parquet\n",
      "6. df_finviz_2025-05-08_stocks_etfs.parquet\n",
      "7. df_finviz_2025-05-07_stocks_etfs.parquet\n",
      "8. df_finviz_2025-05-06_stocks_etfs.parquet\n",
      "9. df_finviz_2025-05-05_stocks_etfs.parquet\n",
      "10. df_finviz_2025-05-02_stocks_etfs.parquet\n",
      "11. df_finviz_2025-05-01_stocks_etfs.parquet\n",
      "12. df_finviz_2025-04-30_stocks_etfs.parquet\n",
      "13. df_finviz_2025-04-29_stocks_etfs.parquet\n",
      "14. df_finviz_2025-04-28_stocks_etfs.parquet\n",
      "15. df_finviz_2025-04-25_stocks_etfs.parquet\n"
     ]
    }
   ],
   "source": [
    "files_list = utils.get_recent_files_in_directory(\n",
    "    prefix='df_finviz_2025',\n",
    "    extension='parquet',\n",
    "    count=60,\n",
    "    directory_name='Downloads'\n",
    "\n",
    " )\n",
    "\n",
    "if files_list:\n",
    "    print(f\"\\nMost recent files found in targetdirectory:\")\n",
    "    for i, filename in enumerate(files_list):\n",
    "        print(f\"{i+1}. {filename}\")\n",
    "else:\n",
    "    print(\"No 'ticker' CSV files found in your Downloads directory, or an error occurred.\")"
   ]
  },
  {
   "cell_type": "code",
   "execution_count": 10,
   "metadata": {},
   "outputs": [],
   "source": [
    "import os\n",
    "\n",
    "def extract_and_sort_dates(files):\n",
    "    \"\"\"\n",
    "    Extracts date strings from a list of filenames, sorts them, and returns the sorted list.\n",
    "\n",
    "    Args:\n",
    "        files: A list of filenames with the format 'prefix_YYYY-MM-DD_suffix.extension'.\n",
    "\n",
    "    Returns:\n",
    "        A list of date strings in 'YYYY-MM-DD' format, sorted from oldest to newest.\n",
    "    \"\"\"\n",
    "    date_list = []\n",
    "    for file in files:\n",
    "        parts = file.split('_')\n",
    "        if len(parts) > 2:\n",
    "            # Assuming the date is always the third part (index 2) after splitting by '_'\n",
    "            date_str = parts[2]\n",
    "            date_list.append(date_str)\n",
    "\n",
    "    # Sorting the date strings directly works because the format YYYY-MM-DD is sortable alphabetically\n",
    "    date_list.sort()\n",
    "    return date_list\n",
    "\n"
   ]
  },
  {
   "cell_type": "code",
   "execution_count": 11,
   "metadata": {},
   "outputs": [
    {
     "name": "stdout",
     "output_type": "stream",
     "text": [
      "0    2025-04-25\n",
      "1    2025-04-28\n",
      "2    2025-04-29\n",
      "3    2025-04-30\n",
      "4    2025-05-01\n",
      "5    2025-05-02\n",
      "6    2025-05-05\n",
      "7    2025-05-06\n",
      "8    2025-05-07\n",
      "9    2025-05-08\n",
      "10   2025-05-09\n",
      "11   2025-05-12\n",
      "12   2025-05-13\n",
      "13   2025-05-14\n",
      "14   2025-05-15\n"
     ]
    }
   ],
   "source": [
    "sorted_dates = extract_and_sort_dates(files_list)\n",
    "\n",
    "for idx, _date in enumerate(sorted_dates):\n",
    "  print(f\"{idx:<3}  {_date}\")"
   ]
  },
  {
   "cell_type": "code",
   "execution_count": 12,
   "metadata": {},
   "outputs": [],
   "source": [
    "# create_config.py\n",
    "def create_config_file(date_str):\n",
    "    \"\"\"Create config.py with date configuration\"\"\"\n",
    "    config_content = f\"\"\"# config.py\n",
    "# File path configuration\n",
    "date_str = '{date_str}'  # Date in YYYY-MM-DD format\n",
    "DOWNLOAD_DIR = r'C:\\\\Users\\\\ping\\\\Downloads'  # Raw string for Windows paths\n",
    "DEST_DIR = r'..\\\\data'\n",
    "\"\"\"\n",
    "    \n",
    "    with open('config.py', 'w') as f:\n",
    "        f.write(config_content)\n",
    "    \n",
    "    print(f\"config.py created with date: {date_str}\")\n"
   ]
  },
  {
   "cell_type": "code",
   "execution_count": 13,
   "metadata": {},
   "outputs": [
    {
     "data": {
      "text/plain": [
       "['2025-05-15']"
      ]
     },
     "execution_count": 13,
     "metadata": {},
     "output_type": "execute_result"
    }
   ],
   "source": [
    "sorted_dates[-1::]"
   ]
  },
  {
   "cell_type": "markdown",
   "metadata": {},
   "source": [
    "#### ==== BEFORE RUNNING SEQUENCE ====\n",
    "#### Run colab finviz, Yloader\n",
    "#### Select sorted_dates slice\n"
   ]
  },
  {
   "cell_type": "code",
   "execution_count": 14,
   "metadata": {},
   "outputs": [
    {
     "name": "stdout",
     "output_type": "stream",
     "text": [
      "config.py created with date: 2025-05-15\n",
      "Updated config.py with date: 2025-05-15\n",
      "Running sequence for 2025-05-15\n",
      "Starting notebook execution sequence...\n",
      "\n",
      "--- Running py0_get_yloader_OHLCV_data_v0.ipynb ---\n",
      "\n",
      "Running command: c:\\Users\\ping\\Files_win10\\python\\py311\\.venv\\Scripts\\jupyter nbconvert --to notebook --execute --output executed\\executed_py0_get_yloader_OHLCV_data_v0.ipynb py0_get_yloader_OHLCV_data_v0.ipynb\n",
      "Successfully executed py0_get_yloader_OHLCV_data_v0.ipynb\n",
      "Output saved to: executed\\executed_py0_get_yloader_OHLCV_data_v0.ipynb\n",
      "\n",
      "--- Running py1_clean_df_finviz_v13.ipynb ---\n",
      "\n",
      "Running command: c:\\Users\\ping\\Files_win10\\python\\py311\\.venv\\Scripts\\jupyter nbconvert --to notebook --execute --output executed\\executed_py1_clean_df_finviz_v13.ipynb py1_clean_df_finviz_v13.ipynb\n",
      "Error executing py1_clean_df_finviz_v13.ipynb:\n",
      "--- STDOUT ---\n",
      "\n",
      "--- STDERR ---\n",
      "[NbConvertApp] Converting notebook py1_clean_df_finviz_v13.ipynb to notebook\n",
      "C:\\Users\\ping\\Files_win10\\python\\py311\\.venv\\Lib\\site-packages\\zmq\\_future.py:687: RuntimeWarning: Proactor event loop does not implement add_reader family of methods required for zmq. Registering an additional selector thread for add_reader support via tornado. Use `asyncio.set_event_loop_policy(WindowsSelectorEventLoopPolicy())` to avoid this warning.\n",
      "  self._get_loop()\n",
      "Traceback (most recent call last):\n",
      "  File \"<frozen runpy>\", line 198, in _run_module_as_main\n",
      "  File \"<frozen runpy>\", line 88, in _run_code\n",
      "  File \"c:\\Users\\ping\\Files_win10\\python\\py311\\.venv\\Scripts\\jupyter-nbconvert.EXE\\__main__.py\", line 7, in <module>\n",
      "  File \"C:\\Users\\ping\\Files_win10\\python\\py311\\.venv\\Lib\\site-packages\\jupyter_core\\application.py\", line 283, in launch_instance\n",
      "    super().launch_instance(argv=argv, **kwargs)\n",
      "  File \"C:\\Users\\ping\\Files_win10\\python\\py311\\.venv\\Lib\\site-packages\\traitlets\\config\\application.py\", line 1075, in launch_instance\n",
      "    app.start()\n",
      "  File \"C:\\Users\\ping\\Files_win10\\python\\py311\\.venv\\Lib\\site-packages\\nbconvert\\nbconvertapp.py\", line 420, in start\n",
      "    self.convert_notebooks()\n",
      "  File \"C:\\Users\\ping\\Files_win10\\python\\py311\\.venv\\Lib\\site-packages\\nbconvert\\nbconvertapp.py\", line 597, in convert_notebooks\n",
      "    self.convert_single_notebook(notebook_filename)\n",
      "  File \"C:\\Users\\ping\\Files_win10\\python\\py311\\.venv\\Lib\\site-packages\\nbconvert\\nbconvertapp.py\", line 563, in convert_single_notebook\n",
      "    output, resources = self.export_single_notebook(\n",
      "                        ^^^^^^^^^^^^^^^^^^^^^^^^^^^^\n",
      "  File \"C:\\Users\\ping\\Files_win10\\python\\py311\\.venv\\Lib\\site-packages\\nbconvert\\nbconvertapp.py\", line 487, in export_single_notebook\n",
      "    output, resources = self.exporter.from_filename(\n",
      "                        ^^^^^^^^^^^^^^^^^^^^^^^^^^^^\n",
      "  File \"C:\\Users\\ping\\Files_win10\\python\\py311\\.venv\\Lib\\site-packages\\nbconvert\\exporters\\exporter.py\", line 201, in from_filename\n",
      "    return self.from_file(f, resources=resources, **kw)\n",
      "           ^^^^^^^^^^^^^^^^^^^^^^^^^^^^^^^^^^^^^^^^^^^^\n",
      "  File \"C:\\Users\\ping\\Files_win10\\python\\py311\\.venv\\Lib\\site-packages\\nbconvert\\exporters\\exporter.py\", line 220, in from_file\n",
      "    return self.from_notebook_node(\n",
      "           ^^^^^^^^^^^^^^^^^^^^^^^^\n",
      "  File \"C:\\Users\\ping\\Files_win10\\python\\py311\\.venv\\Lib\\site-packages\\nbconvert\\exporters\\notebook.py\", line 36, in from_notebook_node\n",
      "    nb_copy, resources = super().from_notebook_node(nb, resources, **kw)\n",
      "                         ^^^^^^^^^^^^^^^^^^^^^^^^^^^^^^^^^^^^^^^^^^^^^^^\n",
      "  File \"C:\\Users\\ping\\Files_win10\\python\\py311\\.venv\\Lib\\site-packages\\nbconvert\\exporters\\exporter.py\", line 154, in from_notebook_node\n",
      "    nb_copy, resources = self._preprocess(nb_copy, resources)\n",
      "                         ^^^^^^^^^^^^^^^^^^^^^^^^^^^^^^^^^^^^\n",
      "  File \"C:\\Users\\ping\\Files_win10\\python\\py311\\.venv\\Lib\\site-packages\\nbconvert\\exporters\\exporter.py\", line 353, in _preprocess\n",
      "    nbc, resc = preprocessor(nbc, resc)\n",
      "                ^^^^^^^^^^^^^^^^^^^^^^^\n",
      "  File \"C:\\Users\\ping\\Files_win10\\python\\py311\\.venv\\Lib\\site-packages\\nbconvert\\preprocessors\\base.py\", line 48, in __call__\n",
      "    return self.preprocess(nb, resources)\n",
      "           ^^^^^^^^^^^^^^^^^^^^^^^^^^^^^^\n",
      "  File \"C:\\Users\\ping\\Files_win10\\python\\py311\\.venv\\Lib\\site-packages\\nbconvert\\preprocessors\\execute.py\", line 103, in preprocess\n",
      "    self.preprocess_cell(cell, resources, index)\n",
      "  File \"C:\\Users\\ping\\Files_win10\\python\\py311\\.venv\\Lib\\site-packages\\nbconvert\\preprocessors\\execute.py\", line 124, in preprocess_cell\n",
      "    cell = self.execute_cell(cell, index, store_history=True)\n",
      "           ^^^^^^^^^^^^^^^^^^^^^^^^^^^^^^^^^^^^^^^^^^^^^^^^^^\n",
      "  File \"C:\\Users\\ping\\Files_win10\\python\\py311\\.venv\\Lib\\site-packages\\jupyter_core\\utils\\__init__.py\", line 165, in wrapped\n",
      "    return loop.run_until_complete(inner)\n",
      "           ^^^^^^^^^^^^^^^^^^^^^^^^^^^^^^\n",
      "  File \"C:\\Users\\ping\\.pyenv\\pyenv-win\\versions\\3.11.9\\Lib\\asyncio\\base_events.py\", line 654, in run_until_complete\n",
      "    return future.result()\n",
      "           ^^^^^^^^^^^^^^^\n",
      "  File \"C:\\Users\\ping\\Files_win10\\python\\py311\\.venv\\Lib\\site-packages\\nbclient\\client.py\", line 1062, in async_execute_cell\n",
      "    await self._check_raise_for_error(cell, cell_index, exec_reply)\n",
      "  File \"C:\\Users\\ping\\Files_win10\\python\\py311\\.venv\\Lib\\site-packages\\nbclient\\client.py\", line 918, in _check_raise_for_error\n",
      "    raise CellExecutionError.from_cell_and_msg(cell, exec_reply_content)\n",
      "nbclient.exceptions.CellExecutionError: An error occurred while executing the following cell:\n",
      "------------------\n",
      "# process_files.py\n",
      "from config import DATE_STR, DOWNLOAD_DIR, DEST_DIR\n",
      "from pathlib import Path  # Better path handling\n",
      "\n",
      "\n",
      "# ###########################\n",
      "# DATE_STR = '2025-04-25'  # Example date string, replace with your actual date string\n",
      "# ###########################\n",
      "\n",
      "\n",
      "# Build paths\n",
      "source_path = Path(DOWNLOAD_DIR) / f'df_finviz_{DATE_STR}_stocks_etfs.parquet'\n",
      "dest_path = Path(DEST_DIR) / f'{DATE_STR}_df_finviz_stocks_etfs.parquet'\n",
      "\n",
      "print(f\"source_path: {source_path}\")\n",
      "print(f\"dest_path: {dest_path}\")\n",
      "\n",
      "------------------\n",
      "\n",
      "\n",
      "\u001b[31m---------------------------------------------------------------------------\u001b[39m\n",
      "\u001b[31mImportError\u001b[39m                               Traceback (most recent call last)\n",
      "\u001b[36mCell\u001b[39m\u001b[36m \u001b[39m\u001b[32mIn[2]\u001b[39m\u001b[32m, line 2\u001b[39m\n",
      "\u001b[32m      1\u001b[39m \u001b[38;5;66;03m# process_files.py\u001b[39;00m\n",
      "\u001b[32m----> \u001b[39m\u001b[32m2\u001b[39m \u001b[38;5;28;01mfrom\u001b[39;00m\u001b[38;5;250m \u001b[39m\u001b[34;01mconfig\u001b[39;00m\u001b[38;5;250m \u001b[39m\u001b[38;5;28;01mimport\u001b[39;00m DATE_STR, DOWNLOAD_DIR, DEST_DIR\n",
      "\u001b[32m      3\u001b[39m \u001b[38;5;28;01mfrom\u001b[39;00m\u001b[38;5;250m \u001b[39m\u001b[34;01mpathlib\u001b[39;00m\u001b[38;5;250m \u001b[39m\u001b[38;5;28;01mimport\u001b[39;00m Path  \u001b[38;5;66;03m# Better path handling\u001b[39;00m\n",
      "\u001b[32m      6\u001b[39m \u001b[38;5;66;03m# ###########################\u001b[39;00m\n",
      "\u001b[32m      7\u001b[39m \u001b[38;5;66;03m# DATE_STR = '2025-04-25'  # Example date string, replace with your actual date string\u001b[39;00m\n",
      "\u001b[32m      8\u001b[39m \u001b[38;5;66;03m# ###########################\u001b[39;00m\n",
      "\u001b[32m      9\u001b[39m \n",
      "\u001b[32m     10\u001b[39m \n",
      "\u001b[32m     11\u001b[39m \u001b[38;5;66;03m# Build paths\u001b[39;00m\n",
      "\n",
      "\u001b[31mImportError\u001b[39m: cannot import name 'DATE_STR' from 'config' (c:\\Users\\ping\\Files_win10\\python\\py311\\stocks\\notebooks\\config.py)\n",
      "\n",
      "\n",
      "Execution failed for py1_clean_df_finviz_v13.ipynb. Stopping sequence.\n"
     ]
    },
    {
     "ename": "SystemExit",
     "evalue": "1",
     "output_type": "error",
     "traceback": [
      "An exception has occurred, use %tb to see the full traceback.\n",
      "\u001b[31mSystemExit\u001b[39m\u001b[31m:\u001b[39m 1\n"
     ]
    }
   ],
   "source": [
    "# for date_str in sorted_dates:\n",
    "for date_str in sorted_dates[-1::]:  # Run the sequence for the most recent date\n",
    "# for date_str in sorted_dates[2::]:  # Run the sequence for the 3rd to the most recent date\n",
    "  create_config_file(date_str)  # Create config.py with the date_str\n",
    "  print(f'Updated config.py with date: {date_str}')\n",
    "  print(f'Running sequence for {date_str}')\n",
    "  %run run_sequence.py\n"
   ]
  }
 ],
 "metadata": {
  "kernelspec": {
   "display_name": ".venv",
   "language": "python",
   "name": "python3"
  },
  "language_info": {
   "codemirror_mode": {
    "name": "ipython",
    "version": 3
   },
   "file_extension": ".py",
   "mimetype": "text/x-python",
   "name": "python",
   "nbconvert_exporter": "python",
   "pygments_lexer": "ipython3",
   "version": "3.11.9"
  }
 },
 "nbformat": 4,
 "nbformat_minor": 2
}
