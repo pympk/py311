{
 "cells": [
  {
   "cell_type": "code",
   "execution_count": 1,
   "id": "4590d4a7",
   "metadata": {},
   "outputs": [
    {
     "name": "stdout",
     "output_type": "stream",
     "text": [
      "--- Path Configuration ---\n",
      "✅ Project Root: c:\\Users\\ping\\Files_win10\\python\\py311\\stocks\n",
      "✅ Parent Dir:   c:\\Users\\ping\\Files_win10\\python\\py311\\stocks\\notebooks_PyPortfOpt\n",
      "✅ Notebook Dir: c:\\Users\\ping\\Files_win10\\python\\py311\\stocks\\notebooks_PyPortfOpt\\_working\n",
      "✅ Data Dir:     c:\\Users\\ping\\Files_win10\\python\\py311\\stocks\\data\n",
      "✅ Source Dir:   c:\\Users\\ping\\Files_win10\\python\\py311\\stocks\\src\n",
      "\n",
      "--- Module Verification ---\n",
      "✅ Successfully imported 'utils' and 'plotting_utils'.\n"
     ]
    }
   ],
   "source": [
    "import sys\n",
    "from pathlib import Path\n",
    "import pandas as pd\n",
    "import numpy as np\n",
    "import pprint\n",
    "import inspect  # <--- ADD THIS LINE\n",
    "from IPython.display import display, Markdown\n",
    "\n",
    "# --- 1. PANDAS & IPYTHON OPTIONS ---\n",
    "pd.set_option('display.max_rows', 200)\n",
    "pd.set_option('display.max_columns', None)\n",
    "pd.set_option('display.width', 3000)\n",
    "pd.set_option('display.float_format', '{:.6f}'.format)\n",
    "%load_ext autoreload\n",
    "%autoreload 2\n",
    "\n",
    "# --- 2. PROJECT PATH CONFIGURATION ---\n",
    "NOTEBOOK_DIR = Path.cwd()\n",
    "PARENT_DIR = NOTEBOOK_DIR.parent\n",
    "ROOT_DIR = NOTEBOOK_DIR.parent.parent  # Adjust if your notebook is in a 'notebooks' subdirectory\n",
    "DATA_DIR = ROOT_DIR / 'data'\n",
    "SRC_DIR = ROOT_DIR / 'src'\n",
    "\n",
    "# Add 'src' to the Python path to import custom modules\n",
    "if str(SRC_DIR) not in sys.path:\n",
    "    sys.path.append(str(SRC_DIR))\n",
    "\n",
    "# --- 3. IMPORT CUSTOM MODULES ---\n",
    "import utils\n",
    "\n",
    "# --- 4. CONSTANTS ---\n",
    "INITIAL_CAPITAL = 100_000  # 100,000\n",
    "RISK_FREE_ANNUAL_RATE = 0.04\n",
    "BENCHMARK_TICKER = \"VGT\"\n",
    "\n",
    "# --- 5. VERIFICATION ---\n",
    "print(\"--- Path Configuration ---\")\n",
    "print(f\"✅ Project Root: {ROOT_DIR}\")\n",
    "print(f\"✅ Parent Dir:   {PARENT_DIR}\")\n",
    "print(f\"✅ Notebook Dir: {NOTEBOOK_DIR}\")\n",
    "print(f\"✅ Data Dir:     {DATA_DIR}\")\n",
    "print(f\"✅ Source Dir:   {SRC_DIR}\")\n",
    "assert all([ROOT_DIR.exists(), DATA_DIR.exists(), SRC_DIR.exists()]), \"A key directory was not found!\"\n",
    "\n",
    "print(\"\\n--- Module Verification ---\")\n",
    "print(f\"✅ Successfully imported 'utils' and 'plotting_utils'.\")"
   ]
  },
  {
   "cell_type": "code",
   "execution_count": 2,
   "id": "7a3d9b00",
   "metadata": {},
   "outputs": [],
   "source": [
    "df = pd.read_parquet(DATA_DIR / 'df_adj_close.parquet')\n",
    "# print(f'df:\\n{df}')"
   ]
  },
  {
   "cell_type": "code",
   "execution_count": 3,
   "id": "e9ee41e3",
   "metadata": {},
   "outputs": [
    {
     "name": "stdout",
     "output_type": "stream",
     "text": [
      "Train: 2023-01-03 to 2024-12-31 | Test: 2025-01-02 to 2025-01-31\n"
     ]
    },
    {
     "name": "stderr",
     "output_type": "stream",
     "text": [
      "Passed unknown parameter: df_train_path\n",
      "Passed unknown parameter: df_test_path\n",
      "Input notebook does not contain a cell with tag 'parameters'\n"
     ]
    },
    {
     "data": {
      "application/vnd.jupyter.widget-view+json": {
       "model_id": "66f92edba108487491587230cfca0d9e",
       "version_major": 2,
       "version_minor": 0
      },
      "text/plain": [
       "Executing:   0%|          | 0/19 [00:00<?, ?cell/s]"
      ]
     },
     "metadata": {},
     "output_type": "display_data"
    },
    {
     "name": "stdout",
     "output_type": "stream",
     "text": [
      "Train: 2023-02-01 to 2025-01-31 | Test: 2025-02-03 to 2025-02-28\n"
     ]
    },
    {
     "name": "stderr",
     "output_type": "stream",
     "text": [
      "Passed unknown parameter: df_train_path\n",
      "Passed unknown parameter: df_test_path\n",
      "Input notebook does not contain a cell with tag 'parameters'\n"
     ]
    },
    {
     "data": {
      "application/vnd.jupyter.widget-view+json": {
       "model_id": "810f9c8b6b434f1bbde9a9383309d761",
       "version_major": 2,
       "version_minor": 0
      },
      "text/plain": [
       "Executing:   0%|          | 0/19 [00:00<?, ?cell/s]"
      ]
     },
     "metadata": {},
     "output_type": "display_data"
    },
    {
     "name": "stdout",
     "output_type": "stream",
     "text": [
      "Train: 2023-03-01 to 2025-02-28 | Test: 2025-03-03 to 2025-04-01\n"
     ]
    },
    {
     "name": "stderr",
     "output_type": "stream",
     "text": [
      "Passed unknown parameter: df_train_path\n",
      "Passed unknown parameter: df_test_path\n",
      "Input notebook does not contain a cell with tag 'parameters'\n"
     ]
    },
    {
     "data": {
      "application/vnd.jupyter.widget-view+json": {
       "model_id": "55a1036a70a14d0989199543a151a33d",
       "version_major": 2,
       "version_minor": 0
      },
      "text/plain": [
       "Executing:   0%|          | 0/19 [00:00<?, ?cell/s]"
      ]
     },
     "metadata": {},
     "output_type": "display_data"
    },
    {
     "name": "stdout",
     "output_type": "stream",
     "text": [
      "Train: 2023-04-03 to 2025-04-01 | Test: 2025-04-01 to 2025-05-01\n"
     ]
    },
    {
     "name": "stderr",
     "output_type": "stream",
     "text": [
      "Passed unknown parameter: df_train_path\n",
      "Passed unknown parameter: df_test_path\n",
      "Input notebook does not contain a cell with tag 'parameters'\n"
     ]
    },
    {
     "data": {
      "application/vnd.jupyter.widget-view+json": {
       "model_id": "e876b5d335114867969ee6192e6596f4",
       "version_major": 2,
       "version_minor": 0
      },
      "text/plain": [
       "Executing:   0%|          | 0/19 [00:00<?, ?cell/s]"
      ]
     },
     "metadata": {},
     "output_type": "display_data"
    },
    {
     "name": "stdout",
     "output_type": "stream",
     "text": [
      "Train: 2023-05-01 to 2025-05-01 | Test: 2025-05-01 to 2025-05-30\n"
     ]
    },
    {
     "name": "stderr",
     "output_type": "stream",
     "text": [
      "Passed unknown parameter: df_train_path\n",
      "Passed unknown parameter: df_test_path\n",
      "Input notebook does not contain a cell with tag 'parameters'\n"
     ]
    },
    {
     "data": {
      "application/vnd.jupyter.widget-view+json": {
       "model_id": "d0de9a6cc6d041c7be832d1808048817",
       "version_major": 2,
       "version_minor": 0
      },
      "text/plain": [
       "Executing:   0%|          | 0/19 [00:00<?, ?cell/s]"
      ]
     },
     "metadata": {},
     "output_type": "display_data"
    },
    {
     "name": "stdout",
     "output_type": "stream",
     "text": [
      "Train: 2023-06-01 to 2025-05-30 | Test: 2025-06-02 to 2025-07-01\n"
     ]
    },
    {
     "name": "stderr",
     "output_type": "stream",
     "text": [
      "Passed unknown parameter: df_train_path\n",
      "Passed unknown parameter: df_test_path\n",
      "Input notebook does not contain a cell with tag 'parameters'\n"
     ]
    },
    {
     "data": {
      "application/vnd.jupyter.widget-view+json": {
       "model_id": "10d10e0935ff41b1984dd386848dfb60",
       "version_major": 2,
       "version_minor": 0
      },
      "text/plain": [
       "Executing:   0%|          | 0/19 [00:00<?, ?cell/s]"
      ]
     },
     "metadata": {},
     "output_type": "display_data"
    }
   ],
   "source": [
    "import pandas as pd\n",
    "import papermill as pm\n",
    "import os\n",
    "import uuid\n",
    "\n",
    "WINDOW_MONTHS = 25          # 24 train + 1 test\n",
    "roll_start = df.index[0]    # 2023-01-03\n",
    "i = 1                       # run index\n",
    "\n",
    "# iterate until we run out of data\n",
    "while True:\n",
    "    # right edge of 25-month window\n",
    "    window_end = roll_start + pd.offsets.MonthBegin(WINDOW_MONTHS)\n",
    "\n",
    "    # stop if window_end is beyond the last date\n",
    "    if window_end > df.index[-1]:\n",
    "        break\n",
    "\n",
    "    # slice\n",
    "    df_train = df.loc[roll_start : window_end - pd.offsets.MonthBegin(1)]\n",
    "    df_test  = df.loc[window_end - pd.offsets.MonthBegin(1) : window_end]\n",
    "\n",
    "    # ----- do whatever you need with df_train / df_test here -----\n",
    "    print(\"Train:\", df_train.index[0].date(), \"to\", df_train.index[-1].date(),\n",
    "          \"| Test:\", df_test.index[0].date(), \"to\", df_test.index[-1].date())\n",
    "\n",
    "#######################################\n",
    "\n",
    "    # Save DataFrames to disk\n",
    "    df_train.to_csv(f\"df_train_{i}.csv\", index=True)   # <-- Make sure index is saved!\n",
    "    df_test.to_csv(f\"df_test_{i}.csv\", index=True)    \n",
    "\n",
    "    out_notebook = f\"run_portfolio_{i}.ipynb\"     # optional unique name\n",
    "    pm.execute_notebook(\n",
    "        \"run_hrp_v1.ipynb\",          # the notebook to run\n",
    "        out_notebook,                   # output copy (can be /tmp/…)\n",
    "        parameters={\n",
    "            \"df_train_path\": f\"df_train_{i}.csv\",\n",
    "            \"df_test_path\": f\"df_test_{i}.csv\"\n",
    "        },\n",
    "        kernel_name=\"python3\"           # or whatever your kernel is called\n",
    "    )\n",
    "\n",
    "    i += 1\n",
    "#######################################\n",
    "\n",
    "\n",
    "\n",
    "    # slide one month forward\n",
    "    roll_start += pd.offsets.MonthBegin(1)"
   ]
  },
  {
   "cell_type": "code",
   "execution_count": null,
   "id": "16b78bd6",
   "metadata": {},
   "outputs": [],
   "source": []
  }
 ],
 "metadata": {
  "kernelspec": {
   "display_name": "py311-py3.11 (3.11.9)",
   "language": "python",
   "name": "python3"
  },
  "language_info": {
   "codemirror_mode": {
    "name": "ipython",
    "version": 3
   },
   "file_extension": ".py",
   "mimetype": "text/x-python",
   "name": "python",
   "nbconvert_exporter": "python",
   "pygments_lexer": "ipython3",
   "version": "3.11.9"
  }
 },
 "nbformat": 4,
 "nbformat_minor": 5
}
