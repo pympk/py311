{
 "cells": [
  {
   "cell_type": "code",
   "execution_count": 1,
   "id": "ff29b931",
   "metadata": {},
   "outputs": [
    {
     "name": "stdout",
     "output_type": "stream",
     "text": [
      "--- Path Configuration ---\n",
      "✅ Project Root: c:\\Users\\ping\\Files_win10\\python\\py311\\stocks\n",
      "✅ Parent Dir:   c:\\Users\\ping\\Files_win10\\python\\py311\\stocks\\notebooks_PyPortfOpt\n",
      "✅ Notebook Dir: c:\\Users\\ping\\Files_win10\\python\\py311\\stocks\\notebooks_PyPortfOpt\\_working\n",
      "✅ Data Dir:     c:\\Users\\ping\\Files_win10\\python\\py311\\stocks\\data\n",
      "✅ Source Dir:   c:\\Users\\ping\\Files_win10\\python\\py311\\stocks\\src\n",
      "\n",
      "--- Module Verification ---\n",
      "✅ Successfully imported 'utils' and 'plotting_utils'.\n"
     ]
    }
   ],
   "source": [
    "import sys\n",
    "from pathlib import Path\n",
    "import pandas as pd\n",
    "import numpy as np\n",
    "import pprint\n",
    "import inspect  # <--- ADD THIS LINE\n",
    "from IPython.display import display, Markdown\n",
    "\n",
    "# --- 1. PANDAS & IPYTHON OPTIONS ---\n",
    "pd.set_option('display.max_rows', 200)\n",
    "pd.set_option('display.max_columns', None)\n",
    "pd.set_option('display.width', 3000)\n",
    "pd.set_option('display.float_format', '{:.3f}'.format)\n",
    "%load_ext autoreload\n",
    "%autoreload 2\n",
    "\n",
    "# --- 2. PROJECT PATH CONFIGURATION ---\n",
    "NOTEBOOK_DIR = Path.cwd()\n",
    "PARENT_DIR = NOTEBOOK_DIR.parent\n",
    "ROOT_DIR = NOTEBOOK_DIR.parent.parent  # Adjust if your notebook is in a 'notebooks' subdirectory\n",
    "DATA_DIR = ROOT_DIR / 'data'\n",
    "SRC_DIR = ROOT_DIR / 'src'\n",
    "\n",
    "# Add 'src' to the Python path to import custom modules\n",
    "if str(SRC_DIR) not in sys.path:\n",
    "    sys.path.append(str(SRC_DIR))\n",
    "\n",
    "# --- 3. IMPORT CUSTOM MODULES ---\n",
    "import utils\n",
    "\n",
    "# --- 5. VERIFICATION ---\n",
    "print(\"--- Path Configuration ---\")\n",
    "print(f\"✅ Project Root: {ROOT_DIR}\")\n",
    "print(f\"✅ Parent Dir:   {PARENT_DIR}\")\n",
    "print(f\"✅ Notebook Dir: {NOTEBOOK_DIR}\")\n",
    "print(f\"✅ Data Dir:     {DATA_DIR}\")\n",
    "print(f\"✅ Source Dir:   {SRC_DIR}\")\n",
    "assert all([ROOT_DIR.exists(), DATA_DIR.exists(), SRC_DIR.exists()]), \"A key directory was not found!\"\n",
    "\n",
    "print(\"\\n--- Module Verification ---\")\n",
    "print(f\"✅ Successfully imported 'utils' and 'plotting_utils'.\")"
   ]
  },
  {
   "cell_type": "code",
   "execution_count": 2,
   "id": "c1f468b5",
   "metadata": {},
   "outputs": [
    {
     "name": "stdout",
     "output_type": "stream",
     "text": [
      "train:\n",
      "            date   tic   close    high     low    open        volume   day   macd  boll_ub  boll_lb  rsi_30  cci_30   dx_30  close_30_sma  close_60_sma    vix  turbulence\n",
      "                                                                                                                                                                          \n",
      "0     2009-01-02  AAPL   2.727   2.736   2.559   2.581 746015200.000 4.000  0.000    2.948    2.622 100.000  66.667 100.000         2.727         2.727 39.190       0.000\n",
      "0     2009-01-02  AMGN  40.791  40.854  39.934  40.515   6547900.000 4.000  0.000    2.948    2.622 100.000  66.667 100.000        40.791        40.791 39.190       0.000\n",
      "0     2009-01-02   AXP  14.892  15.038  14.175  14.306  10955700.000 4.000  0.000    2.948    2.622 100.000  66.667 100.000        14.892        14.892 39.190       0.000\n",
      "0     2009-01-02    BA  33.941  34.174  32.088  32.103   7010200.000 4.000  0.000    2.948    2.622 100.000  66.667 100.000        33.941        33.941 39.190       0.000\n",
      "0     2009-01-02   CAT  30.234  30.279  28.816  28.945   7117200.000 4.000  0.000    2.948    2.622 100.000  66.667 100.000        30.234        30.234 39.190       0.000\n",
      "...          ...   ...     ...     ...     ...     ...           ...   ...    ...      ...      ...     ...     ...     ...           ...           ...    ...         ...\n",
      "2892  2020-06-30   UNH 273.308 274.697 266.552 267.396   2932900.000 1.000 -0.018  288.645  257.613  52.413 -20.027   0.599       273.539       266.873 30.430      12.919\n",
      "2892  2020-06-30     V 186.425 186.985 183.520 184.804   9040100.000 1.000  1.025  194.257  180.858  53.021 -51.428   2.104       187.156       177.570 30.430      12.919\n",
      "2892  2020-06-30    VZ  40.666  40.784  40.098  40.511  17414800.000 1.000 -0.353   43.525   39.336  48.097 -50.671   8.321        41.179        41.544 30.430      12.919\n",
      "2892  2020-06-30   WBA  32.880  33.028  32.392  32.671   4782100.000 1.000 -0.071   35.890   30.733  48.830 -14.267   0.949        32.964        32.795 30.430      12.919\n",
      "2892  2020-06-30   WMT  37.178  37.286  36.793  37.004  20509200.000 1.000 -0.284   38.251   36.342  48.160 -69.838   3.557        37.711        38.331 30.430      12.919\n",
      "\n",
      "[83897 rows x 18 columns]\n",
      "\n",
      "trade:\n",
      "           date   tic   close    high     low    open        volume   day   macd  boll_ub  boll_lb  rsi_30   cci_30  dx_30  close_30_sma  close_60_sma    vix  turbulence\n",
      "                                                                                                                                                                         \n",
      "0    2020-07-01  AAPL  88.485  89.275  88.436  88.730 110737200.000 2.000  2.967   91.236   78.914  62.807  107.472 29.811        82.608        76.490 28.620      53.068\n",
      "0    2020-07-01  AMGN 218.336 219.286 199.046 201.562   6575800.000 2.000  3.306  211.285  182.024  61.280  272.795 47.010       195.339       196.315 28.620      53.068\n",
      "0    2020-07-01   AXP  88.271  91.002  87.886  89.397   3301000.000 2.000 -0.373  105.849   84.123  48.505  -62.638  1.752        93.216        86.938 28.620      53.068\n",
      "0    2020-07-01    BA 180.320 190.610 180.040 185.880  49036700.000 2.000  5.443  220.721  160.933  50.926   24.221 15.936       176.472       155.614 28.620      53.068\n",
      "0    2020-07-01   CAT 113.409 116.414 113.247 116.396   2807800.000 2.000  1.196  122.783  106.549  52.865   35.366 14.542       112.245       106.825 28.620      53.068\n",
      "..          ...   ...     ...     ...     ...     ...           ...   ...    ...      ...      ...     ...      ...    ...           ...           ...    ...         ...\n",
      "334  2021-10-27   UNH 428.013 434.582 428.013 429.107   3520400.000 2.000 11.007  438.092  351.371  65.086  174.236 51.936       391.836       392.112 16.980     145.285\n",
      "334  2021-10-27     V 209.788 218.509 209.672 218.509  22958100.000 2.000  0.014  230.456  212.482  41.737 -153.918 30.324       220.589       222.774 16.980     145.285\n",
      "334  2021-10-27    VZ  41.474  41.923  41.348  41.900  15007400.000 2.000 -0.193   43.000   40.321  44.605  -40.524  3.888        41.866        42.405 16.980     145.285\n",
      "334  2021-10-27   WBA  38.465  39.559  38.441  39.551   5652000.000 2.000 -0.013   40.872   37.426  46.168  -63.363  5.258        39.334        39.625 16.980     145.285\n",
      "334  2021-10-27   WMT  46.693  47.165  46.649  47.146  14565600.000 2.000  0.494   47.768   42.018  57.061  124.710 30.097        44.987        45.861 16.980     145.285\n",
      "\n",
      "[9715 rows x 18 columns]\n"
     ]
    }
   ],
   "source": [
    "train = pd.read_csv(PARENT_DIR / 'train_data.csv')\n",
    "trade = pd.read_csv(PARENT_DIR / 'trade_data.csv')\n",
    "\n",
    "# If you are not using the data generated from part 1 of this tutorial, make sure\n",
    "# it has the columns and index in the form that could be make into the environment.\n",
    "# Then you can comment and skip the following lines.\n",
    "train = train.set_index(train.columns[0])\n",
    "train.index.names = ['']\n",
    "trade = trade.set_index(trade.columns[0])\n",
    "trade.index.names = ['']\n",
    "\n",
    "print(f'train:\\n{train}')\n",
    "print(f'\\ntrade:\\n{trade}')"
   ]
  },
  {
   "cell_type": "code",
   "execution_count": 3,
   "id": "98d7dc3d",
   "metadata": {},
   "outputs": [],
   "source": [
    "def process_df_for_mvo(df):\n",
    "  return df.pivot(index=\"date\", columns=\"tic\", values=\"close\")"
   ]
  },
  {
   "cell_type": "code",
   "execution_count": 4,
   "id": "580d577f",
   "metadata": {},
   "outputs": [],
   "source": [
    "# Codes in this section partially refer to Dr G A Vijayalakshmi Pai\n",
    "# https://www.kaggle.com/code/vijipai/lesson-5-mean-variance-optimization-of-portfolios/notebook\n",
    "\n",
    "def StockReturnsComputing(StockPrice, Rows, Columns):\n",
    "  import numpy as np\n",
    "  StockReturn = np.zeros([Rows-1, Columns])\n",
    "  for j in range(Columns):        # j: Assets\n",
    "    for i in range(Rows-1):     # i: Daily Prices\n",
    "      StockReturn[i,j]=((StockPrice[i+1, j]-StockPrice[i,j])/StockPrice[i,j])* 100\n",
    "\n",
    "  return StockReturn"
   ]
  },
  {
   "cell_type": "code",
   "execution_count": 5,
   "id": "38b191a5",
   "metadata": {},
   "outputs": [
    {
     "data": {
      "text/plain": [
       "array([[ 88.48501587, 218.33639526,  88.27112579, ...,  40.32659149,\n",
       "         31.70895386,  37.14975357],\n",
       "       [ 88.48501587, 221.00656128,  88.53392029, ...,  40.41510391,\n",
       "         32.56217194,  37.00077438],\n",
       "       [ 90.85201263, 219.30348206,  90.64569855, ...,  40.74704361,\n",
       "         33.47745514,  36.90145111],\n",
       "       ...,\n",
       "       [145.67988586, 184.12481689, 173.82574463, ...,  41.43462753,\n",
       "         40.17977142,  47.49373245],\n",
       "       [146.34632874, 185.05596924, 172.52902222, ...,  41.82864761,\n",
       "         39.43690872,  47.07912064],\n",
       "       [145.88569641, 183.19369507, 169.74493408, ...,  41.47403717,\n",
       "         38.46547699,  46.69298553]])"
      ]
     },
     "execution_count": 5,
     "metadata": {},
     "output_type": "execute_result"
    }
   ],
   "source": [
    "StockData = process_df_for_mvo(train)\n",
    "TradeData = process_df_for_mvo(trade)\n",
    "\n",
    "TradeData.to_numpy()"
   ]
  },
  {
   "cell_type": "code",
   "execution_count": 7,
   "id": "13752220",
   "metadata": {},
   "outputs": [
    {
     "name": "stdout",
     "output_type": "stream",
     "text": [
      "Mean returns of assets in k-portfolio 1\n",
      " [0.136 0.068 0.086 0.083 0.066 0.134 0.06  0.035 0.072 0.056 0.103 0.073\n",
      " 0.033 0.076 0.047 0.073 0.042 0.056 0.054 0.056 0.103 0.089 0.041 0.053\n",
      " 0.104 0.11  0.044 0.042 0.042]\n",
      "Variance-Covariance matrix of returns\n",
      " [[3.156 1.066 1.768 1.669 1.722 1.814 1.569 1.302 1.302 1.811 1.303 1.432\n",
      "  1.218 1.674 0.74  1.839 0.719 0.884 1.241 0.823 1.561 1.324 0.752 1.027\n",
      "  1.298 1.466 0.657 1.078 0.631]\n",
      " [1.066 2.571 1.306 1.123 1.193 1.319 1.116 1.053 1.045 1.269 1.068 1.089\n",
      "  0.899 1.218 0.926 1.391 0.682 0.727 1.025 1.156 1.166 0.984 0.798 0.956\n",
      "  1.259 1.111 0.688 1.091 0.682]\n",
      " [1.768 1.306 4.847 2.73  2.6   2.128 1.944 2.141 2.17  3.142 1.932 2.283\n",
      "  1.56  2.012 0.993 3.707 1.094 1.319 1.845 1.236 1.899 1.894 1.041 1.921\n",
      "  1.823 2.314 0.986 1.421 0.707]\n",
      " [1.669 1.123 2.73  4.892 2.363 1.979 1.7   2.115 1.959 2.387 1.773 2.319\n",
      "  1.571 1.797 0.968 2.597 1.144 1.298 1.643 1.071 1.615 1.775 0.91  1.666\n",
      "  1.707 1.784 0.82  1.345 0.647]\n",
      " [1.722 1.193 2.6   2.363 4.019 2.127 1.917 2.059 1.817 2.46  1.577 2.238\n",
      "  1.513 1.929 0.925 2.64  0.947 0.971 1.894 1.089 1.711 1.642 0.865 1.456\n",
      "  1.478 1.687 0.92  1.326 0.697]\n",
      " [1.814 1.319 2.128 1.979 2.127 5.384 1.974 1.549 1.683 2.122 1.624 1.771\n",
      "  1.441 1.939 0.846 2.191 0.837 1.075 1.475 1.041 1.978 1.768 0.784 1.328\n",
      "  1.365 1.912 0.787 1.28  0.666]\n",
      " [1.569 1.116 1.944 1.7   1.917 1.974 3.081 1.483 1.534 1.937 1.367 1.62\n",
      "  1.399 1.843 0.894 2.057 0.794 0.905 1.438 1.014 1.72  1.382 0.865 1.206\n",
      "  1.273 1.488 0.811 1.173 0.753]\n",
      " [1.302 1.053 2.141 2.115 2.059 1.549 1.483 2.842 1.525 2.044 1.428 1.783\n",
      "  1.308 1.533 0.878 2.279 0.938 1.092 1.385 1.078 1.429 1.314 0.831 1.459\n",
      "  1.466 1.48  0.83  1.042 0.567]\n",
      " [1.302 1.045 2.17  1.959 1.817 1.683 1.534 1.525 2.661 1.987 1.454 1.748\n",
      "  1.217 1.475 0.791 2.216 0.896 0.973 1.396 0.949 1.379 1.407 0.859 1.268\n",
      "  1.281 1.454 0.81  1.143 0.667]\n",
      " [1.811 1.269 3.142 2.387 2.46  2.122 1.937 2.044 1.987 4.407 1.789 2.12\n",
      "  1.593 1.982 0.945 3.96  0.956 1.094 1.758 1.157 1.788 1.692 0.905 1.879\n",
      "  1.712 2.    0.945 1.421 0.713]\n",
      " [1.303 1.068 1.932 1.773 1.577 1.624 1.367 1.428 1.454 1.789 2.373 1.51\n",
      "  1.166 1.501 0.756 1.941 0.824 0.998 1.239 0.887 1.366 1.414 0.797 1.299\n",
      "  1.296 1.41  0.764 1.071 0.783]\n",
      " [1.432 1.089 2.283 2.319 2.238 1.771 1.62  1.783 1.748 2.12  1.51  2.516\n",
      "  1.326 1.575 0.889 2.345 0.958 1.022 1.623 1.02  1.489 1.532 0.848 1.377\n",
      "  1.444 1.547 0.81  1.211 0.63 ]\n",
      " [1.218 0.899 1.56  1.571 1.513 1.441 1.399 1.308 1.217 1.593 1.166 1.326\n",
      "  2.052 1.399 0.727 1.749 0.786 0.795 1.154 0.829 1.296 1.12  0.743 1.105\n",
      "  1.088 1.214 0.739 0.998 0.598]\n",
      " [1.674 1.218 2.012 1.797 1.929 1.939 1.843 1.533 1.475 1.982 1.501 1.575\n",
      "  1.399 3.289 0.853 2.112 0.85  0.89  1.412 1.002 1.9   1.352 0.842 1.317\n",
      "  1.334 1.487 0.847 1.165 0.766]\n",
      " [0.74  0.926 0.993 0.968 0.925 0.846 0.894 0.878 0.791 0.945 0.756 0.889\n",
      "  0.727 0.853 1.153 1.027 0.642 0.59  0.848 0.892 0.825 0.748 0.694 0.761\n",
      "  0.929 0.819 0.61  0.806 0.547]\n",
      " [1.839 1.391 3.707 2.597 2.64  2.191 2.057 2.279 2.216 3.96  1.941 2.345\n",
      "  1.749 2.112 1.027 5.271 1.08  1.235 1.892 1.297 1.91  1.85  1.068 2.164\n",
      "  1.85  2.169 1.112 1.555 0.779]\n",
      " [0.719 0.682 1.094 1.144 0.947 0.837 0.794 0.938 0.896 0.956 0.824 0.958\n",
      "  0.786 0.85  0.642 1.08  1.264 0.679 0.804 0.74  0.819 0.845 0.749 0.891\n",
      "  0.849 0.794 0.633 0.719 0.514]\n",
      " [0.884 0.727 1.319 1.298 0.971 1.075 0.905 1.092 0.973 1.094 0.998 1.022\n",
      "  0.795 0.89  0.59  1.235 0.679 1.518 0.816 0.719 0.943 1.027 0.615 1.\n",
      "  0.947 0.994 0.533 0.673 0.504]\n",
      " [1.241 1.025 1.845 1.643 1.894 1.475 1.438 1.385 1.396 1.758 1.239 1.623\n",
      "  1.154 1.412 0.848 1.892 0.804 0.816 2.028 0.9   1.265 1.243 0.787 1.194\n",
      "  1.193 1.282 0.752 1.099 0.622]\n",
      " [0.823 1.156 1.236 1.071 1.089 1.041 1.014 1.078 0.949 1.157 0.887 1.02\n",
      "  0.829 1.002 0.892 1.297 0.74  0.719 0.9   2.007 0.952 0.849 0.732 1.008\n",
      "  1.15  0.933 0.722 0.897 0.614]\n",
      " [1.561 1.166 1.899 1.615 1.711 1.978 1.72  1.429 1.379 1.788 1.366 1.489\n",
      "  1.296 1.9   0.825 1.91  0.819 0.943 1.265 0.952 2.759 1.308 0.832 1.214\n",
      "  1.285 1.493 0.793 1.113 0.705]\n",
      " [1.324 0.984 1.894 1.775 1.642 1.768 1.382 1.314 1.407 1.692 1.414 1.532\n",
      "  1.12  1.352 0.748 1.85  0.845 1.027 1.243 0.849 1.308 2.864 0.751 1.153\n",
      "  1.26  1.411 0.71  1.046 0.651]\n",
      " [0.752 0.798 1.041 0.91  0.865 0.784 0.865 0.831 0.859 0.905 0.797 0.848\n",
      "  0.743 0.842 0.694 1.068 0.749 0.615 0.787 0.732 0.832 0.751 1.289 0.806\n",
      "  0.766 0.763 0.663 0.797 0.645]\n",
      " [1.027 0.956 1.921 1.666 1.456 1.328 1.206 1.459 1.268 1.879 1.299 1.377\n",
      "  1.105 1.317 0.761 2.164 0.891 1.    1.194 1.008 1.214 1.153 0.806 2.27\n",
      "  1.259 1.294 0.812 0.986 0.676]\n",
      " [1.298 1.259 1.823 1.707 1.478 1.365 1.273 1.466 1.281 1.712 1.296 1.444\n",
      "  1.088 1.334 0.929 1.85  0.849 0.947 1.193 1.15  1.285 1.26  0.766 1.259\n",
      "  3.352 1.267 0.697 1.137 0.685]\n",
      " [1.466 1.111 2.314 1.784 1.687 1.912 1.488 1.48  1.454 2.    1.41  1.547\n",
      "  1.214 1.487 0.819 2.169 0.794 0.994 1.282 0.933 1.493 1.411 0.763 1.294\n",
      "  1.267 2.982 0.709 1.007 0.656]\n",
      " [0.657 0.688 0.986 0.82  0.92  0.787 0.811 0.83  0.81  0.945 0.764 0.81\n",
      "  0.739 0.847 0.61  1.112 0.633 0.533 0.752 0.722 0.793 0.71  0.663 0.812\n",
      "  0.697 0.709 1.371 0.697 0.561]\n",
      " [1.078 1.091 1.421 1.345 1.326 1.28  1.173 1.042 1.143 1.421 1.071 1.211\n",
      "  0.998 1.165 0.806 1.555 0.719 0.673 1.099 0.897 1.113 1.046 0.797 0.986\n",
      "  1.137 1.007 0.697 3.073 0.759]\n",
      " [0.631 0.682 0.707 0.647 0.697 0.666 0.753 0.567 0.667 0.713 0.783 0.63\n",
      "  0.598 0.766 0.547 0.779 0.514 0.504 0.622 0.614 0.705 0.651 0.645 0.676\n",
      "  0.685 0.656 0.561 0.759 1.452]]\n"
     ]
    }
   ],
   "source": [
    "#compute asset returns\n",
    "arStockPrices = np.asarray(StockData)\n",
    "[Rows, Cols]=arStockPrices.shape\n",
    "arReturns = StockReturnsComputing(arStockPrices, Rows, Cols)\n",
    "\n",
    "#compute mean returns and variance covariance matrix of returns\n",
    "meanReturns = np.mean(arReturns, axis = 0)\n",
    "covReturns = np.cov(arReturns, rowvar=False)\n",
    "\n",
    "#set precision for printing results\n",
    "np.set_printoptions(precision=3, suppress = True)\n",
    "\n",
    "#display mean returns and variance-covariance matrix of returns\n",
    "print('Mean returns of assets in k-portfolio 1\\n', meanReturns)\n",
    "print('Variance-Covariance matrix of returns\\n', covReturns)"
   ]
  },
  {
   "cell_type": "markdown",
   "id": "61313d60",
   "metadata": {},
   "source": [
    "### Summary of the Workflow\n",
    "1. Setup: Provide the model with historical asset returns (meanReturns) and their risk/correlation profile (covReturns), and set rules (like no short-selling and a 50% max allocation per asset).\n",
    "2. Optimize: Solve for the portfolio that gives the best risk-adjusted return (maximum Sharpe Ratio).\n",
    "3. Clean: Tidy up the resulting percentage allocations to make them practical.\n",
    "4. Execute: Convert these optimal percentages into actual dollar amounts based on a total portfolio size of $1,000,000."
   ]
  },
  {
   "cell_type": "code",
   "execution_count": null,
   "id": "e9cd939c",
   "metadata": {},
   "outputs": [
    {
     "data": {
      "text/plain": [
       "array([375410.,      0.,      0.,      0.,      0.,  85810.,      0.,\n",
       "            0.,      0.,      0., 205910.,      0.,      0.,      0.,\n",
       "            0.,      0.,      0.,      0.,      0.,      0.,  49370.,\n",
       "            0.,      0.,      0., 142510., 141010.,      0.,      0.,\n",
       "            0.])"
      ]
     },
     "execution_count": 32,
     "metadata": {},
     "output_type": "execute_result"
    }
   ],
   "source": [
    "from pypfopt.efficient_frontier import EfficientFrontier\n",
    "\n",
    "ef_mean = EfficientFrontier(meanReturns, covReturns, weight_bounds=(0, 0.5))\n",
    "raw_weights_mean = ef_mean.max_sharpe()\n",
    "cleaned_weights_mean = ef_mean.clean_weights()\n",
    "mvo_weights = np.array([1000000 * cleaned_weights_mean[i] for i in range(len(cleaned_weights_mean))])\n",
    "mvo_weights  # Dollar amount allocation"
   ]
  },
  {
   "cell_type": "code",
   "execution_count": null,
   "id": "3eb525d0",
   "metadata": {},
   "outputs": [],
   "source": [
    "cleaned_weights_mean"
   ]
  },
  {
   "cell_type": "code",
   "execution_count": null,
   "id": "6a116be6",
   "metadata": {},
   "outputs": [
    {
     "data": {
      "text/plain": [
       "array([4234.615,    0.   ,    0.   ,    0.   ,    0.   ,  462.082,\n",
       "          0.   ,    0.   ,    0.   ,    0.   ,  927.12 ,    0.   ,\n",
       "          0.   ,    0.   ,    0.   ,    0.   ,    0.   ,    0.   ,\n",
       "          0.   ,    0.   ,  253.205,    0.   ,    0.   ,    0.   ,\n",
       "        521.427,  756.39 ,    0.   ,    0.   ,    0.   ])"
      ]
     },
     "execution_count": 9,
     "metadata": {},
     "output_type": "execute_result"
    }
   ],
   "source": [
    "LastPrice = np.array([1/p for p in StockData.tail(1).to_numpy()[0]])\n",
    "Initial_Portfolio = np.multiply(mvo_weights, LastPrice)\n",
    "Initial_Portfolio  # number of shares"
   ]
  },
  {
   "cell_type": "code",
   "execution_count": 67,
   "id": "e377e27d",
   "metadata": {},
   "outputs": [
    {
     "name": "stdout",
     "output_type": "stream",
     "text": [
      "MVO_result:\n",
      "              Mean Var\n",
      "date                  \n",
      "2020-07-01 1001536.134\n",
      "2020-07-02 1004131.148\n",
      "2020-07-06 1022196.154\n",
      "2020-07-07 1012410.867\n",
      "2020-07-08 1027198.166\n",
      "...                ...\n",
      "2021-10-21 1524363.962\n",
      "2021-10-22 1527223.554\n",
      "2021-10-25 1533948.898\n",
      "2021-10-26 1537081.639\n",
      "2021-10-27 1528623.281\n",
      "\n",
      "[335 rows x 1 columns]\n"
     ]
    }
   ],
   "source": [
    "Portfolio_Assets = TradeData @ Initial_Portfolio\n",
    "MVO_result = pd.DataFrame(Portfolio_Assets, columns=[\"Mean Var\"])\n",
    "print(f'MVO_result:\\n{MVO_result}')"
   ]
  },
  {
   "cell_type": "markdown",
   "id": "16b78934",
   "metadata": {},
   "source": [
    "### Verify Calculation"
   ]
  },
  {
   "cell_type": "code",
   "execution_count": 6,
   "id": "257514d0",
   "metadata": {},
   "outputs": [
    {
     "name": "stdout",
     "output_type": "stream",
     "text": [
      "TradeData.index.names: ['date']\n",
      "TradeData.columns.names: ['tic']\n",
      "\n",
      "TradeData:\n",
      "tic           AAPL    AMGN     AXP      BA     CAT     CRM   CSCO    CVX     DIS      GS      HD     HON     IBM   INTC     JNJ     JPM     KO     MCD     MMM    MRK    MSFT     NKE      PG     TRV     UNH       V     VZ    WBA    WMT\n",
      "date                                                                                                                                                                                                                                      \n",
      "2020-07-01  88.485 218.336  88.271 180.320 113.409 190.223 39.309 70.369 111.157 175.234 220.004 130.248  90.751 52.426 121.802  80.762 38.513 164.716 107.145 63.806 196.120  91.369 105.358 101.159 275.884 187.014 40.327 31.709 37.150\n",
      "2020-07-02  88.485 221.007  88.534 180.810 114.903 190.858 39.248 70.924 110.341 175.083 220.314 131.070  91.639 52.711 122.314  81.025 38.565 163.700 108.255 64.345 197.615  92.335 106.148 101.123 276.375 188.838 40.415 32.562 37.001\n",
      "2020-07-06  90.852 219.303  90.646 187.910 116.441 196.003 39.928 71.132 112.554 183.917 221.245 133.059  92.015 53.077 124.058  83.071 38.866 168.142 108.986 64.999 201.869  93.761 106.807 103.020 280.591 190.855 40.747 33.477 36.901\n",
      "2020-07-07  90.570 216.650  87.295 178.880 114.435 194.674 39.248 69.317 111.767 176.822 219.295 131.025  90.016 51.980 123.945  80.727 38.848 165.751 106.725 64.296 199.521  91.059 107.325 101.141 274.883 187.419 40.600 32.748 39.403\n",
      "2020-07-08  92.680 215.315  87.192 180.080 115.271 198.540 39.403 69.349 114.747 179.385 220.908 131.585  90.116 52.247 124.310  81.584 38.728 165.778 106.559 63.643 203.909  92.719 107.914 101.770 276.467 188.259 40.850 32.803 38.624\n",
      "...            ...     ...     ...     ...     ...     ...    ...    ...     ...     ...     ...     ...     ...    ...     ...     ...    ...     ...     ...    ...     ...     ...     ...     ...     ...     ...    ...    ...    ...\n",
      "2021-10-21 146.503 185.331 169.211 214.340 187.152 287.293 49.761 96.105 168.530 370.148 332.192 207.633 104.660 51.579 146.374 153.348 48.569 221.635 130.774 72.412 301.193 153.654 126.920 148.493 417.442 223.847 42.073 40.114 46.465\n",
      "2021-10-22 145.729 185.553 178.374 212.970 186.799 290.019 49.243 97.017 166.642 376.259 333.441 201.049 104.293 45.556 146.661 155.410 48.658 218.918 129.826 72.394 299.642 154.885 128.286 150.514 423.935 224.809 41.710 40.000 46.949\n",
      "2021-10-25 145.680 184.125 173.826 212.870 188.251 291.367 49.269 97.920 169.189 376.650 338.242 201.178 104.097 45.510 146.983 154.651 48.461 217.908 130.975 72.849 298.644 155.586 128.304 149.782 424.247 227.386 41.435 40.180 47.494\n",
      "2021-10-26 146.346 185.056 172.529 209.810 185.858 292.547 49.868 98.135 169.219 379.247 336.365 201.900 103.681 44.469 148.479 155.067 48.676 217.063 130.803 73.376 300.563 155.179 130.126 148.716 429.107 225.383 41.829 39.437 47.079\n",
      "2021-10-27 145.886 183.194 169.745 206.610 182.591 292.586 50.199 96.389 166.770 373.235 339.208 199.495 102.083 44.110 146.679 151.837 49.614 222.856 127.988 72.742 313.221 153.815 129.197 148.113 428.013 209.788 41.474 38.465 46.693\n",
      "\n",
      "[335 rows x 29 columns]\n"
     ]
    }
   ],
   "source": [
    "# TradeData.index.names\n",
    "print(f'TradeData.index.names: {TradeData.index.names}')\n",
    "print(f'TradeData.columns.names: {TradeData.columns.names}')\n",
    "print(f'\\nTradeData:\\n{TradeData}')"
   ]
  },
  {
   "cell_type": "code",
   "execution_count": 20,
   "id": "ff51398b",
   "metadata": {},
   "outputs": [
    {
     "name": "stdout",
     "output_type": "stream",
     "text": [
      "StockData.index.names: ['date']\n",
      "StockData.columns.names: ['tic']\n",
      "\n",
      "StockData:\n",
      "tic          AAPL    AMGN    AXP      BA     CAT     CRM   CSCO    CVX     DIS      GS      HD     HON    IBM   INTC     JNJ    JPM     KO     MCD     MMM    MRK    MSFT    NKE      PG     TRV     UNH       V     VZ    WBA    WMT\n",
      "date                                                                                                                                                                                                                                 \n",
      "2009-01-02  2.727  40.791 14.892  33.941  30.234   8.431 11.099 39.717  20.260  65.355  16.049  22.747 47.715  9.517  37.173 20.873 13.758  40.240  29.900 16.682  14.897 10.691  38.530  30.502  21.773  11.877 13.711 15.306 13.433\n",
      "2009-01-05  2.843  41.248 15.369  34.631  29.699   8.265 11.197 39.789  19.904  66.876  16.435  22.629 47.415  9.335  36.805 19.474 13.620  40.120  29.552 16.429  15.037 10.768  38.254  30.050  21.418  11.961 12.856 16.079 13.278\n",
      "2009-01-06  2.796  40.342 16.232  34.736  29.519   8.575 11.643 40.148  20.590  66.823  16.800  23.652 48.731  9.623  36.584 19.894 13.401  39.224  29.900 16.128  15.213 10.550  38.143  29.132  20.913  12.804 12.650 16.001 13.161\n",
      "2009-01-07  2.735  40.245 15.548  33.574  28.146   7.931 11.335 38.388  19.633  63.652  16.342  22.609 47.945  9.041  36.241 18.702 13.467  38.656  29.334 15.870  14.297 10.167  37.475  27.978  20.755  12.526 12.811 16.192 13.048\n",
      "2009-01-08  2.786  40.978 15.572  33.596  28.371   8.156 11.479 38.533  19.396  64.338  16.222  22.707 47.612  9.110  36.174 18.123 13.560  38.201  29.592 15.800  14.744 10.355  37.064  28.498  21.079  12.392 13.008 16.079 12.071\n",
      "...           ...     ...    ...     ...     ...     ...    ...    ...     ...     ...     ...     ...    ...    ...     ...    ...    ...     ...     ...    ...     ...    ...     ...     ...     ...     ...    ...    ...    ...\n",
      "2020-06-24 87.501 198.986 89.209 176.690 109.811 183.938 38.191 70.385 110.232 175.633 218.213 125.042 89.128 52.675 121.316 81.975 38.367 164.386 104.932 61.968 189.548 93.883 102.232 101.483 267.961 184.726 39.781 31.934 37.339\n",
      "2020-06-25 88.662 201.211 91.423 174.880 112.195 186.704 38.592 71.646 109.534 183.686 217.548 128.757 91.127 52.158 121.186 84.832 38.608 163.022 106.621 62.540 191.943 95.121 103.523 103.065 274.484 187.207 40.039 32.609 37.156\n",
      "2020-06-26 85.938 199.269 87.284 170.010 110.107 181.579 39.522 69.438 107.311 167.801 213.674 124.915 89.718 51.258 119.572 80.182 37.439 160.328 105.139 61.413 188.101 87.870 101.187  99.810 265.830 182.661 39.213 31.934 36.725\n",
      "2020-06-29 87.919 198.173 88.312 194.490 112.680 181.738 39.385 70.410 109.691 171.597 218.204 129.462 91.678 51.944 120.640 80.537 38.118 163.057 107.242 62.173 190.123 89.933 103.321 101.519 268.498 184.698 40.341 32.826 36.954\n",
      "2020-06-30 88.653 201.853 88.947 183.300 113.805 185.703 39.804 71.662 109.682 175.278 222.096 130.682 92.459 53.335 122.019 81.455 38.393 164.547 107.531 63.161 194.980 91.978 104.998 102.553 273.308 186.425 40.666 32.880 37.178\n",
      "\n",
      "[2893 rows x 29 columns]\n"
     ]
    }
   ],
   "source": [
    "# StockData.index.names\n",
    "print(f'StockData.index.names: {StockData.index.names}')\n",
    "print(f'StockData.columns.names: {StockData.columns.names}')\n",
    "print(f'\\nStockData:\\n{StockData}')"
   ]
  },
  {
   "cell_type": "code",
   "execution_count": 18,
   "id": "ef09c198",
   "metadata": {},
   "outputs": [
    {
     "name": "stdout",
     "output_type": "stream",
     "text": [
      "tic          AAPL   AMGN    AXP     BA    CAT    CRM   CSCO    CVX    DIS     GS     HD    HON    IBM   INTC    JNJ    JPM     KO    MCD    MMM    MRK   MSFT    NKE     PG    TRV    UNH      V     VZ    WBA    WMT\n",
      "date                                                                                                                                                                                                                 \n",
      "2009-01-05  4.220  1.119  3.207  2.033 -1.769 -1.969  0.884  0.183 -1.756  2.328  2.404 -0.519 -0.630 -1.908 -0.989 -6.699 -1.002 -0.298 -1.166 -1.516  0.935  0.716 -0.717 -1.482 -1.631  0.711 -6.236  5.049 -1.154\n",
      "2009-01-06 -1.649 -2.196  5.614  0.303 -0.608  3.748  3.974  0.900  3.447 -0.079  2.226  4.524  2.776  3.085 -0.599  2.154 -1.607 -2.234  1.179 -1.834  1.170 -2.021 -0.289 -3.054 -2.358  7.042 -1.601 -0.484 -0.885\n",
      "2009-01-07 -2.161 -0.240 -4.213 -3.347 -4.651 -7.514 -2.642 -4.383 -4.648 -4.746 -2.732 -4.412 -1.614 -6.051 -0.938 -5.991  0.492 -1.448 -1.892 -1.602 -6.021 -3.629 -1.753 -3.961 -0.755 -2.170  1.270  1.198 -0.857\n",
      "2009-01-08  1.857  1.821  0.150  0.067  0.802  2.844  1.270  0.379 -1.208  1.077 -0.733  0.435 -0.695  0.762 -0.186 -3.097  0.690 -1.176  0.878 -0.441  3.127  1.843 -1.097  1.857  1.559 -1.065  1.536 -0.703 -7.490\n",
      "2009-01-09 -2.287 -2.497 -4.042 -0.759 -1.863 -4.193 -4.789 -1.913 -2.576 -1.745 -2.173 -1.329 -2.845 -2.749  0.051 -4.592 -1.415 -0.744 -1.434 -2.146 -2.982 -3.464 -0.910 -0.592 -0.973 -0.251 -0.710 -2.571  0.389\n",
      "...           ...    ...    ...    ...    ...    ...    ...    ...    ...    ...    ...    ...    ...    ...    ...    ...    ...    ...    ...    ...    ...    ...    ...    ...    ...    ...    ...    ...    ...\n",
      "2020-06-24 -1.765 -1.374 -3.963 -5.956 -3.319 -1.857 -1.583 -4.156 -3.877 -3.301 -1.670 -4.494 -2.504 -1.385 -2.128 -3.339 -2.169 -1.249 -3.561 -1.621 -2.016 -1.805 -1.113 -2.866 -2.829 -3.314 -1.838 -3.831 -0.636\n",
      "2020-06-25  1.328  1.118  2.482 -1.024  2.171  1.504  1.050  1.791 -0.634  4.585 -0.305  2.971  2.242 -0.982 -0.107  3.486  0.627 -0.830  1.610  0.923  1.264  1.319  1.263  1.559  2.434  1.343  0.649  2.113 -0.490\n",
      "2020-06-26 -3.073 -0.965 -4.527 -2.785 -1.860 -2.745  2.410 -3.083 -2.029 -8.648 -1.781 -2.983 -1.546 -1.726 -1.332 -5.482 -3.027 -1.652 -1.390 -1.802 -2.002 -7.623 -2.256 -3.158 -3.153 -2.428 -2.063 -2.069 -1.161\n",
      "2020-06-29  2.305 -0.550  1.177 14.399  2.337  0.087 -0.346  1.399  2.218  2.262  2.120  3.639  2.184  1.339  0.893  0.443  1.813  1.702  2.000  1.237  1.075  2.349  2.109  1.712  1.004  1.115  2.878  2.793  0.625\n",
      "2020-06-30  0.835  1.857  0.719 -5.754  0.998  2.182  1.062  1.779 -0.009  2.145  1.784  0.942  0.852  2.677  1.144  1.140  0.721  0.914  0.270  1.590  2.555  2.274  1.623  1.019  1.791  0.935  0.805  0.165  0.605\n",
      "\n",
      "[2892 rows x 29 columns]\n"
     ]
    }
   ],
   "source": [
    "import pandas as pd\n",
    "\n",
    "# Assume your DataFrame is named StockData\n",
    "# If 'date' is a column, set it as the index first. This is crucial for time-series operations.\n",
    "if 'date' in StockData.columns:\n",
    "    StockData = StockData.set_index('date')\n",
    "\n",
    "# Ensure the index is a datetime object (pandas usually infers this, but it's good practice)\n",
    "StockData.index = pd.to_datetime(StockData.index)\n",
    "\n",
    "# Calculate daily returns using the most efficient method\n",
    "# This computes (price_today / price_yesterday) - 1 for each column\n",
    "daily_returns_pct = StockData.pct_change() * 100\n",
    "\n",
    "# The first row will be all NaN since there's no prior day to compute a return from.\n",
    "# You can drop it or fill it if needed.\n",
    "daily_returns_pct = daily_returns_pct.dropna() \n",
    "\n",
    "print(daily_returns_pct)"
   ]
  },
  {
   "cell_type": "code",
   "execution_count": 19,
   "id": "fca419b4",
   "metadata": {},
   "outputs": [
    {
     "name": "stdout",
     "output_type": "stream",
     "text": [
      "mean_returns_pct.head():\n",
      "tic\n",
      "AAPL   0.136\n",
      "AMGN   0.068\n",
      "AXP    0.086\n",
      "BA     0.083\n",
      "CAT    0.066\n",
      "dtype: float64\n",
      "\n",
      "cov_matrix.head():\n",
      "tic   AAPL  AMGN   AXP    BA   CAT   CRM  CSCO   CVX   DIS    GS    HD   HON   IBM  INTC   JNJ   JPM    KO   MCD   MMM   MRK  MSFT   NKE    PG   TRV   UNH     V    VZ   WBA   WMT\n",
      "tic                                                                                                                                                                               \n",
      "AAPL 3.156 1.066 1.768 1.669 1.722 1.814 1.569 1.302 1.302 1.811 1.303 1.432 1.218 1.674 0.740 1.839 0.719 0.884 1.241 0.823 1.561 1.324 0.752 1.027 1.298 1.466 0.657 1.078 0.631\n",
      "AMGN 1.066 2.571 1.306 1.123 1.193 1.319 1.116 1.053 1.045 1.269 1.068 1.089 0.899 1.218 0.926 1.391 0.682 0.727 1.025 1.156 1.166 0.984 0.798 0.956 1.259 1.111 0.688 1.091 0.682\n",
      "AXP  1.768 1.306 4.847 2.730 2.600 2.128 1.944 2.141 2.170 3.142 1.932 2.283 1.560 2.012 0.993 3.707 1.094 1.319 1.845 1.236 1.899 1.894 1.041 1.921 1.823 2.314 0.986 1.421 0.707\n",
      "BA   1.669 1.123 2.730 4.892 2.363 1.979 1.700 2.115 1.959 2.387 1.773 2.319 1.571 1.797 0.968 2.597 1.144 1.298 1.643 1.071 1.615 1.775 0.910 1.666 1.707 1.784 0.820 1.345 0.647\n",
      "CAT  1.722 1.193 2.600 2.363 4.019 2.127 1.917 2.059 1.817 2.460 1.577 2.238 1.513 1.929 0.925 2.640 0.947 0.971 1.894 1.089 1.711 1.642 0.865 1.456 1.478 1.687 0.920 1.326 0.697\n"
     ]
    }
   ],
   "source": [
    "# Computes the average daily return for each ticker (column)\n",
    "mean_returns_pct = daily_returns_pct.mean()\n",
    "\n",
    "# Computes the covariance between all pairs of tickers.\n",
    "# The diagonal elements are the variance of each ticker's returns.\n",
    "cov_matrix = daily_returns_pct.cov()\n",
    "\n",
    "print(f'mean_returns_pct.head():\\n{mean_returns_pct.head()}')\n",
    "print(f'\\ncov_matrix.head():\\n{cov_matrix.head()}')"
   ]
  },
  {
   "cell_type": "code",
   "execution_count": 61,
   "id": "99ddbaa7",
   "metadata": {},
   "outputs": [],
   "source": [
    "from pypfopt.efficient_frontier import EfficientFrontier\n",
    "\n",
    "ef_mean = EfficientFrontier(mean_returns_pct, cov_matrix, weight_bounds=(0, 0.5))\n",
    "raw_weights_mean = ef_mean.max_sharpe()\n",
    "cleaned_weights_mean = ef_mean.clean_weights()\n",
    "# mvo_weights = np.array([1000000 * cleaned_weights_mean[i] for i in range(len(cleaned_weights_mean))])\n",
    "# mvo_weights"
   ]
  },
  {
   "cell_type": "code",
   "execution_count": 62,
   "id": "fd2ec036",
   "metadata": {},
   "outputs": [
    {
     "name": "stdout",
     "output_type": "stream",
     "text": [
      "df_allocation:\n",
      "   Ticker  Dollar_Amount\n",
      "0    AAPL     375410.000\n",
      "1    AMGN          0.000\n",
      "2     AXP          0.000\n",
      "3      BA          0.000\n",
      "4     CAT          0.000\n",
      "5     CRM      85810.000\n",
      "6    CSCO          0.000\n",
      "7     CVX          0.000\n",
      "8     DIS          0.000\n",
      "9      GS          0.000\n",
      "10     HD     205910.000\n",
      "11    HON          0.000\n",
      "12    IBM          0.000\n",
      "13   INTC          0.000\n",
      "14    JNJ          0.000\n",
      "15    JPM          0.000\n",
      "16     KO          0.000\n",
      "17    MCD          0.000\n",
      "18    MMM          0.000\n",
      "19    MRK          0.000\n",
      "20   MSFT      49370.000\n",
      "21    NKE          0.000\n",
      "22     PG          0.000\n",
      "23    TRV          0.000\n",
      "24    UNH     142510.000\n",
      "25      V     141010.000\n",
      "26     VZ          0.000\n",
      "27    WBA          0.000\n",
      "28    WMT          0.000\n"
     ]
    }
   ],
   "source": [
    "# Create a DataFrame from the tickers and dollar amounts\n",
    "df_allocation = pd.DataFrame({\n",
    "    'Ticker': list(cleaned_weights_mean.keys()),\n",
    "    'Dollar_Amount': mvo_weights\n",
    "})\n",
    "\n",
    "print(f'df_allocation:\\n{df_allocation}')"
   ]
  },
  {
   "cell_type": "code",
   "execution_count": 63,
   "id": "a68b5e23",
   "metadata": {},
   "outputs": [
    {
     "name": "stdout",
     "output_type": "stream",
     "text": [
      "df_invest:\n",
      "   Ticker  Dollar_Amount\n",
      "0    AAPL     375410.000\n",
      "10     HD     205910.000\n",
      "24    UNH     142510.000\n",
      "25      V     141010.000\n",
      "5     CRM      85810.000\n",
      "20   MSFT      49370.000\n"
     ]
    }
   ],
   "source": [
    "# 1. Filter out assets with zero allocation\n",
    "df_invest = df_allocation[df_allocation['Dollar_Amount'] > 0.01].copy()\n",
    "\n",
    "# 2. Sort by the amount to be invested (descending)\n",
    "df_invest = df_invest.sort_values(by='Dollar_Amount', ascending=False)\n",
    "\n",
    "# # 3. (Optional) Format the dollar amount for better readability\n",
    "# df_invest['Dollar_Amount'] = df_invest['Dollar_Amount'].map('${:,.2f}'.format)\n",
    "\n",
    "print(f'df_invest:\\n{df_invest}')"
   ]
  },
  {
   "cell_type": "code",
   "execution_count": null,
   "id": "773d1b4f",
   "metadata": {},
   "outputs": [
    {
     "name": "stdout",
     "output_type": "stream",
     "text": [
      "   Ticker  Dollar_Amount  last_price   shares\n",
      "0    AAPL     375410.000      88.653 4234.615\n",
      "10     HD     205910.000     222.096  927.120\n",
      "24    UNH     142510.000     273.308  521.427\n",
      "25      V     141010.000     186.425  756.390\n",
      "5     CRM      85810.000     185.703  462.082\n",
      "20   MSFT      49370.000     194.980  253.205\n"
     ]
    }
   ],
   "source": [
    "# StockData = pd.DataFrame(data_stock).set_index('tic')\n",
    "\n",
    "# Extract the last row of StockData as a Series\n",
    "last_prices = StockData.tail(1).iloc[0]\n",
    "\n",
    "# Map the 'Ticker' column in df_invest to the last_prices Series\n",
    "df_invest['last_price'] = df_invest['Ticker'].map(last_prices)\n",
    "\n",
    "df_invest['shares'] = df_invest['Dollar_Amount'] / df_invest['last_price']\n",
    "\n",
    "# Display the updated df_invest\n",
    "print(df_invest)"
   ]
  },
  {
   "cell_type": "code",
   "execution_count": null,
   "id": "bebc945a",
   "metadata": {},
   "outputs": [
    {
     "name": "stdout",
     "output_type": "stream",
     "text": [
      "Portfolio value time series:\n",
      "            Portfolio_Value\n",
      "date                       \n",
      "2020-07-01      1001536.134\n",
      "2020-07-02      1004131.148\n",
      "2020-07-06      1022196.154\n",
      "2020-07-07      1012410.867\n",
      "2020-07-08      1027198.166\n",
      "2020-07-09      1022896.935\n",
      "2020-07-10      1024625.852\n",
      "2020-07-13      1017492.878\n",
      "2020-07-14      1038984.450\n",
      "2020-07-15      1041192.177\n",
      "\n",
      "Portfolio stats:\n",
      "Start value: $1,001,536.13\n",
      "End value: $1,528,623.28\n",
      "Total return: 52.63%\n"
     ]
    }
   ],
   "source": [
    "# More concise version\n",
    "portfolio_tickers = df_invest['Ticker'].tolist()\n",
    "available_tickers = [ticker for ticker in portfolio_tickers if ticker in TradeData.columns]\n",
    "\n",
    "# Create a shares series with only available tickers\n",
    "shares_series = df_invest[df_invest['Ticker'].isin(available_tickers)].set_index('Ticker')['shares']\n",
    "\n",
    "# Calculate daily portfolio values\n",
    "daily_values = TradeData[available_tickers].multiply(shares_series, axis=1)\n",
    "portfolio_time_series = daily_values.sum(axis=1)\n",
    "\n",
    "# Create final result DataFrame\n",
    "portfolio_result = pd.DataFrame({\n",
    "    'Portfolio_Value': portfolio_time_series\n",
    "})\n",
    "\n",
    "print(\"Mean-variance Portfolio value time series:\")\n",
    "print(portfolio_result.head(10))\n",
    "print(f\"\\nPortfolio stats:\")\n",
    "print(f\"Start value: ${portfolio_result['Portfolio_Value'].iloc[0]:,.2f}\")\n",
    "print(f\"End value: ${portfolio_result['Portfolio_Value'].iloc[-1]:,.2f}\")\n",
    "print(f\"Total return: {((portfolio_result['Portfolio_Value'].iloc[-1] / portfolio_result['Portfolio_Value'].iloc[0]) - 1) * 100:.2f}%\")"
   ]
  },
  {
   "cell_type": "code",
   "execution_count": 84,
   "id": "6e9108fa",
   "metadata": {},
   "outputs": [
    {
     "name": "stdout",
     "output_type": "stream",
     "text": [
      "shares_series:\n",
      "Ticker\n",
      "AAPL   4234.615\n",
      "HD      927.120\n",
      "UNH     521.427\n",
      "V       756.390\n",
      "CRM     462.082\n",
      "MSFT    253.205\n",
      "Name: shares, dtype: float64\n",
      "\n",
      "TradeData[available_tickers]:\n",
      "tic           AAPL      HD     UNH       V     CRM    MSFT\n",
      "date                                                      \n",
      "2020-07-01  88.485 220.004 275.884 187.014 190.223 196.120\n",
      "2020-07-02  88.485 220.314 276.375 188.838 190.858 197.615\n",
      "2020-07-06  90.852 221.245 280.591 190.855 196.003 201.869\n",
      "2020-07-07  90.570 219.295 274.883 187.419 194.674 199.521\n",
      "2020-07-08  92.680 220.908 276.467 188.259 198.540 203.909\n",
      "...            ...     ...     ...     ...     ...     ...\n",
      "2021-10-21 146.503 332.192 417.442 223.847 287.293 301.193\n",
      "2021-10-22 145.729 333.441 423.935 224.809 290.019 299.642\n",
      "2021-10-25 145.680 338.242 424.247 227.386 291.367 298.644\n",
      "2021-10-26 146.346 336.365 429.107 225.383 292.547 300.563\n",
      "2021-10-27 145.886 339.208 428.013 209.788 292.586 313.221\n",
      "\n",
      "[335 rows x 6 columns]\n",
      "\n",
      "daily_values = TradeData[available_tickers].multiply(shares_series, axis=1)\n",
      "daily_values:\n",
      "tic              AAPL         HD        UNH          V        CRM      MSFT\n",
      "date                                                                       \n",
      "2020-07-01 374699.977 203970.145 143853.239 141455.286  87898.791 49658.697\n",
      "2020-07-02 374699.977 204257.861 144109.290 142834.933  88191.950 50037.137\n",
      "2020-07-06 384723.297 205120.924 146307.740 144360.616  90569.331 51114.246\n",
      "2020-07-07 383529.565 203312.605 143331.413 141761.877  89955.515 50519.891\n",
      "2020-07-08 392462.053 204808.579 144157.601 142396.976  91741.981 51630.976\n",
      "...               ...        ...        ...        ...        ...       ...\n",
      "2021-10-21 620384.282 307982.131 217665.449 169315.482 132752.870 76263.748\n",
      "2021-10-22 617105.711 309139.305 221051.416 170043.514 134012.541 75871.066\n",
      "2021-10-25 616898.232 313590.684 221213.805 171992.323 134635.537 75618.317\n",
      "2021-10-26 619720.361 311850.750 223748.316 170477.385 135180.622 76104.204\n",
      "2021-10-27 617769.761 314486.058 223177.464 158681.789 135198.940 79309.269\n",
      "\n",
      "[335 rows x 6 columns]\n",
      "\n",
      "portfolio_time_series = daily_values.sum(axis=1)\n",
      "portfolio_time_series;\n",
      "date\n",
      "2020-07-01   1001536.134\n",
      "2020-07-02   1004131.148\n",
      "2020-07-06   1022196.154\n",
      "2020-07-07   1012410.867\n",
      "2020-07-08   1027198.166\n",
      "                 ...    \n",
      "2021-10-21   1524363.962\n",
      "2021-10-22   1527223.554\n",
      "2021-10-25   1533948.898\n",
      "2021-10-26   1537081.639\n",
      "2021-10-27   1528623.281\n",
      "Length: 335, dtype: float64\n"
     ]
    }
   ],
   "source": [
    "print(f'shares_series:\\n{shares_series}')\n",
    "print(f'\\nTradeData[available_tickers]:\\n{TradeData[available_tickers]}')\n",
    "print(f'\\ndaily_values = TradeData[available_tickers].multiply(shares_series, axis=1)')\n",
    "print(f'daily_values:\\n{daily_values}')\n",
    "print(f'\\nportfolio_time_series = daily_values.sum(axis=1)')\n",
    "print(f'portfolio_time_series;\\n{portfolio_time_series}')"
   ]
  },
  {
   "cell_type": "code",
   "execution_count": null,
   "id": "18634cc0",
   "metadata": {},
   "outputs": [],
   "source": [
    "###########################"
   ]
  },
  {
   "cell_type": "code",
   "execution_count": 86,
   "id": "9e7849e6",
   "metadata": {},
   "outputs": [
    {
     "name": "stdout",
     "output_type": "stream",
     "text": [
      "df:\n",
      "tic          AAPL    AMGN    AXP      BA     CAT     CRM   CSCO    CVX     DIS      GS      HD     HON    IBM   INTC     JNJ    JPM     KO     MCD     MMM    MRK    MSFT    NKE      PG     TRV     UNH       V     VZ    WBA    WMT\n",
      "date                                                                                                                                                                                                                                 \n",
      "2009-01-02  2.727  40.791 14.892  33.941  30.234   8.431 11.099 39.717  20.260  65.355  16.049  22.747 47.715  9.517  37.173 20.873 13.758  40.240  29.900 16.682  14.897 10.691  38.530  30.502  21.773  11.877 13.711 15.306 13.433\n",
      "2009-01-05  2.843  41.248 15.369  34.631  29.699   8.265 11.197 39.789  19.904  66.876  16.435  22.629 47.415  9.335  36.805 19.474 13.620  40.120  29.552 16.429  15.037 10.768  38.254  30.050  21.418  11.961 12.856 16.079 13.278\n",
      "2009-01-06  2.796  40.342 16.232  34.736  29.519   8.575 11.643 40.148  20.590  66.823  16.800  23.652 48.731  9.623  36.584 19.894 13.401  39.224  29.900 16.128  15.213 10.550  38.143  29.132  20.913  12.804 12.650 16.001 13.161\n",
      "2009-01-07  2.735  40.245 15.548  33.574  28.146   7.931 11.335 38.388  19.633  63.652  16.342  22.609 47.945  9.041  36.241 18.702 13.467  38.656  29.334 15.870  14.297 10.167  37.475  27.978  20.755  12.526 12.811 16.192 13.048\n",
      "2009-01-08  2.786  40.978 15.572  33.596  28.371   8.156 11.479 38.533  19.396  64.338  16.222  22.707 47.612  9.110  36.174 18.123 13.560  38.201  29.592 15.800  14.744 10.355  37.064  28.498  21.079  12.392 13.008 16.079 12.071\n",
      "...           ...     ...    ...     ...     ...     ...    ...    ...     ...     ...     ...     ...    ...    ...     ...    ...    ...     ...     ...    ...     ...    ...     ...     ...     ...     ...    ...    ...    ...\n",
      "2020-06-24 87.501 198.986 89.209 176.690 109.811 183.938 38.191 70.385 110.232 175.633 218.213 125.042 89.128 52.675 121.316 81.975 38.367 164.386 104.932 61.968 189.548 93.883 102.232 101.483 267.961 184.726 39.781 31.934 37.339\n",
      "2020-06-25 88.662 201.211 91.423 174.880 112.195 186.704 38.592 71.646 109.534 183.686 217.548 128.757 91.127 52.158 121.186 84.832 38.608 163.022 106.621 62.540 191.943 95.121 103.523 103.065 274.484 187.207 40.039 32.609 37.156\n",
      "2020-06-26 85.938 199.269 87.284 170.010 110.107 181.579 39.522 69.438 107.311 167.801 213.674 124.915 89.718 51.258 119.572 80.182 37.439 160.328 105.139 61.413 188.101 87.870 101.187  99.810 265.830 182.661 39.213 31.934 36.725\n",
      "2020-06-29 87.919 198.173 88.312 194.490 112.680 181.738 39.385 70.410 109.691 171.597 218.204 129.462 91.678 51.944 120.640 80.537 38.118 163.057 107.242 62.173 190.123 89.933 103.321 101.519 268.498 184.698 40.341 32.826 36.954\n",
      "2020-06-30 88.653 201.853 88.947 183.300 113.805 185.703 39.804 71.662 109.682 175.278 222.096 130.682 92.459 53.335 122.019 81.455 38.393 164.547 107.531 63.161 194.980 91.978 104.998 102.553 273.308 186.425 40.666 32.880 37.178\n",
      "\n",
      "[2893 rows x 29 columns]\n"
     ]
    }
   ],
   "source": [
    "df = StockData.copy()\n",
    "print(f'df:\\n{df}')"
   ]
  },
  {
   "cell_type": "code",
   "execution_count": null,
   "id": "75585a6e",
   "metadata": {},
   "outputs": [
    {
     "name": "stdout",
     "output_type": "stream",
     "text": [
      "mu.head():\n",
      "tic\n",
      "AAPL   0.343321\n",
      "AMGN   0.171606\n",
      "AXP    0.216063\n",
      "BA     0.208823\n",
      "CAT    0.166210\n",
      "dtype: float64\n",
      "\n",
      "S:\n",
      "tic      AAPL     AMGN      AXP       BA      CAT      CRM     CSCO      CVX      DIS       GS       HD      HON      IBM     INTC      JNJ      JPM       KO      MCD      MMM      MRK     MSFT      NKE       PG      TRV      UNH        V       VZ      WBA      WMT\n",
      "tic                                                                                                                                                                                                                                                                      \n",
      "AAPL 0.079422 0.026585 0.044063 0.041597 0.042936 0.045229 0.039122 0.032467 0.032466 0.045153 0.032482 0.035691 0.030370 0.041728 0.018456 0.045835 0.017913 0.022027 0.030949 0.020507 0.038911 0.033019 0.018754 0.025602 0.032368 0.036539 0.016385 0.026881 0.015739\n",
      "AMGN 0.026585 0.064831 0.032552 0.027985 0.029750 0.032874 0.027833 0.026263 0.026044 0.031643 0.026628 0.027137 0.022421 0.030364 0.023076 0.034689 0.017002 0.018116 0.025549 0.028807 0.029077 0.024526 0.019903 0.023836 0.031393 0.027695 0.017160 0.027204 0.017003\n",
      "AXP  0.044063 0.032552 0.121574 0.068059 0.064824 0.053044 0.048475 0.053362 0.054094 0.078333 0.048159 0.056908 0.038896 0.050156 0.024751 0.092408 0.027261 0.032875 0.046006 0.030813 0.047333 0.047225 0.025952 0.047896 0.045441 0.057688 0.024579 0.035431 0.017613\n",
      "BA   0.041597 0.027985 0.068059 0.122707 0.058897 0.049339 0.042379 0.052716 0.048828 0.059496 0.044207 0.057803 0.039164 0.044808 0.024133 0.064744 0.028513 0.032364 0.040968 0.026691 0.040260 0.044238 0.022676 0.041540 0.042561 0.044471 0.020434 0.033540 0.016134\n",
      "CAT  0.042936 0.029750 0.064824 0.058897 0.100944 0.053032 0.047787 0.051325 0.045292 0.061338 0.039307 0.055781 0.037717 0.048094 0.023049 0.065818 0.023609 0.024205 0.047212 0.027150 0.042654 0.040939 0.021570 0.036299 0.036839 0.042067 0.022943 0.033058 0.017382\n",
      "CRM  0.045229 0.032874 0.053044 0.049339 0.053032 0.134966 0.049213 0.038612 0.041950 0.052895 0.040482 0.044146 0.035929 0.048332 0.021078 0.054622 0.020864 0.026804 0.036765 0.025945 0.049320 0.044086 0.019536 0.033096 0.034032 0.047667 0.019623 0.031908 0.016607\n",
      "CSCO 0.039122 0.027833 0.048475 0.042379 0.047787 0.049213 0.077545 0.036976 0.038247 0.048286 0.034080 0.040383 0.034868 0.045934 0.022295 0.051284 0.019799 0.022559 0.035852 0.025277 0.042881 0.034452 0.021559 0.030054 0.031736 0.037102 0.020222 0.029244 0.018770\n",
      "CVX  0.032467 0.026263 0.053362 0.052716 0.051325 0.038612 0.036976 0.071598 0.038011 0.050960 0.035600 0.044461 0.032617 0.038209 0.021898 0.056805 0.023372 0.027226 0.034521 0.026880 0.035612 0.032750 0.020705 0.036372 0.036552 0.036896 0.020690 0.025982 0.014129\n",
      "DIS  0.032466 0.026044 0.054094 0.048828 0.045292 0.041950 0.038247 0.038011 0.067084 0.049527 0.036242 0.043577 0.030343 0.036760 0.019710 0.055237 0.022335 0.024248 0.034791 0.023658 0.034367 0.035080 0.021427 0.031600 0.031940 0.036245 0.020181 0.028485 0.016638\n",
      "GS   0.045153 0.031643 0.078333 0.059496 0.061338 0.052895 0.048286 0.050960 0.049527 0.110602 0.044592 0.052854 0.039707 0.049418 0.023550 0.098723 0.023832 0.027262 0.043824 0.028833 0.044574 0.042174 0.022564 0.046844 0.042675 0.049852 0.023564 0.035426 0.017782\n",
      "HD   0.032482 0.026628 0.048159 0.044207 0.039307 0.040482 0.034080 0.035600 0.036242 0.044592 0.059896 0.037636 0.029057 0.037417 0.018856 0.048378 0.020535 0.024891 0.030900 0.022107 0.034062 0.035238 0.019870 0.032391 0.032310 0.035146 0.019046 0.026691 0.019512\n",
      "HON  0.035691 0.027137 0.056908 0.057803 0.055781 0.044146 0.040383 0.044461 0.043577 0.052854 0.037636 0.063482 0.033046 0.039263 0.022168 0.058459 0.023870 0.025488 0.040452 0.025434 0.037129 0.038183 0.021133 0.034340 0.036004 0.038572 0.020195 0.030199 0.015714\n",
      "IBM  0.030370 0.022421 0.038896 0.039164 0.037717 0.035929 0.034868 0.032617 0.030343 0.039707 0.029057 0.033046 0.051904 0.034884 0.018121 0.043599 0.019599 0.019819 0.028764 0.020673 0.032308 0.027922 0.018518 0.027540 0.027133 0.030272 0.018427 0.024883 0.014912\n",
      "INTC 0.041728 0.030364 0.050156 0.044808 0.048094 0.048332 0.045934 0.038209 0.036760 0.049418 0.037417 0.039263 0.034884 0.082746 0.021266 0.052645 0.021180 0.022179 0.035194 0.024989 0.047365 0.033693 0.020996 0.032833 0.033261 0.037074 0.021124 0.029035 0.019084\n",
      "JNJ  0.018456 0.023076 0.024751 0.024133 0.023049 0.021078 0.022295 0.021898 0.019710 0.023550 0.018856 0.022168 0.018121 0.021266 0.029501 0.025597 0.016008 0.014700 0.021133 0.022231 0.020573 0.018649 0.017304 0.018970 0.023168 0.020415 0.015197 0.020093 0.013644\n",
      "JPM  0.045835 0.034689 0.092408 0.064744 0.065818 0.054622 0.051284 0.056805 0.055237 0.098723 0.048378 0.058459 0.043599 0.052645 0.025597 0.132143 0.026933 0.030777 0.047169 0.032346 0.047605 0.046121 0.026629 0.053955 0.046121 0.054079 0.027713 0.038759 0.019413\n",
      "KO   0.017913 0.017002 0.027261 0.028513 0.023609 0.020864 0.019799 0.023372 0.022335 0.023832 0.020535 0.023870 0.019599 0.021180 0.016008 0.026933 0.032255 0.016937 0.020047 0.018439 0.020417 0.021060 0.018682 0.022219 0.021174 0.019801 0.015788 0.017914 0.012807\n",
      "MCD  0.022027 0.018116 0.032875 0.032364 0.024205 0.026804 0.022559 0.027226 0.024248 0.027262 0.024891 0.025488 0.019819 0.022179 0.014700 0.030777 0.016937 0.038583 0.020352 0.017928 0.023498 0.025612 0.015333 0.024919 0.023609 0.024771 0.013280 0.016782 0.012576\n",
      "MMM  0.030949 0.025549 0.046006 0.040968 0.047212 0.036765 0.035852 0.034521 0.034791 0.043824 0.030900 0.040452 0.028764 0.035194 0.021133 0.047169 0.020047 0.020352 0.051303 0.022443 0.031537 0.030976 0.019610 0.029764 0.029735 0.031972 0.018756 0.027401 0.015517\n",
      "MRK  0.020507 0.028807 0.030813 0.026691 0.027150 0.025945 0.025277 0.026880 0.023658 0.028833 0.022107 0.025434 0.020673 0.024989 0.022231 0.032346 0.018439 0.017928 0.022443 0.050782 0.023737 0.021174 0.018249 0.025123 0.028657 0.023261 0.017998 0.022361 0.015305\n",
      "MSFT 0.038911 0.029077 0.047333 0.040260 0.042654 0.049320 0.042881 0.035612 0.034367 0.044574 0.034062 0.037129 0.032308 0.047365 0.020573 0.047605 0.020417 0.023498 0.031537 0.023737 0.069538 0.032611 0.020740 0.030274 0.032042 0.037223 0.019780 0.027735 0.017566\n",
      "NKE  0.033019 0.024526 0.047225 0.044238 0.040939 0.044086 0.034452 0.032750 0.035080 0.042174 0.035238 0.038183 0.027922 0.033693 0.018649 0.046121 0.021060 0.025612 0.030976 0.021174 0.032611 0.072145 0.018719 0.028751 0.031401 0.035182 0.017698 0.026065 0.016225\n",
      "PG   0.018754 0.019903 0.025952 0.022676 0.021570 0.019536 0.021559 0.020705 0.021427 0.022564 0.019870 0.021133 0.018518 0.020996 0.017304 0.026629 0.018682 0.015333 0.019610 0.018249 0.020740 0.018719 0.032885 0.020106 0.019097 0.019017 0.016536 0.019876 0.016075\n",
      "TRV  0.025602 0.023836 0.047896 0.041540 0.036299 0.033096 0.030054 0.036372 0.031600 0.046844 0.032391 0.034340 0.027540 0.032833 0.018970 0.053955 0.022219 0.024919 0.029764 0.025123 0.030274 0.028751 0.020106 0.057338 0.031384 0.032259 0.020247 0.024578 0.016843\n",
      "UNH  0.032368 0.031393 0.045441 0.042561 0.036839 0.034032 0.031736 0.036552 0.031940 0.042675 0.032310 0.036004 0.027133 0.033261 0.023168 0.046121 0.021174 0.023609 0.029735 0.028657 0.032042 0.031401 0.019097 0.031384 0.084305 0.031596 0.017385 0.028355 0.017089\n",
      "V    0.036539 0.027695 0.057688 0.044471 0.042067 0.047667 0.037102 0.036896 0.036245 0.049852 0.035146 0.038572 0.030272 0.037074 0.020415 0.054079 0.019801 0.024771 0.031972 0.023261 0.037223 0.035182 0.019017 0.032259 0.031596 0.075090 0.017664 0.025107 0.016352\n",
      "VZ   0.016385 0.017160 0.024579 0.020434 0.022943 0.019623 0.020222 0.020690 0.020181 0.023564 0.019046 0.020195 0.018427 0.021124 0.015197 0.027713 0.015788 0.013280 0.018756 0.017998 0.019780 0.017698 0.016536 0.020247 0.017385 0.017664 0.034917 0.017373 0.013979\n",
      "WBA  0.026881 0.027204 0.035431 0.033540 0.033058 0.031908 0.029244 0.025982 0.028485 0.035426 0.026691 0.030199 0.024883 0.029035 0.020093 0.038759 0.017914 0.016782 0.027401 0.022361 0.027735 0.026065 0.019876 0.024578 0.028355 0.025107 0.017373 0.077349 0.018932\n",
      "WMT  0.015739 0.017003 0.017613 0.016134 0.017382 0.016607 0.018770 0.014129 0.016638 0.017782 0.019512 0.015714 0.014912 0.019084 0.013644 0.019413 0.012807 0.012576 0.015517 0.015305 0.017566 0.016225 0.016075 0.016843 0.017089 0.016352 0.013979 0.018932 0.036933\n"
     ]
    }
   ],
   "source": [
    "from pypfopt.expected_returns import mean_historical_return\n",
    "from pypfopt.risk_models import CovarianceShrinkage\n",
    "\n",
    "mu = mean_historical_return(df, returns_data=False, compounding=True, frequency=252, log_returns=False)  # default setting\n",
    "# mu = mean_historical_return(df, returns_data=False, compounding=False, frequency=252, log_returns=False)\n",
    "S = CovarianceShrinkage(df).ledoit_wolf()\n",
    "\n",
    "print(f'mu.head():\\n{mu.head()}')\n",
    "print(f'\\nS:\\n{S}')"
   ]
  },
  {
   "cell_type": "code",
   "execution_count": 96,
   "id": "c1daa126",
   "metadata": {},
   "outputs": [
    {
     "name": "stdout",
     "output_type": "stream",
     "text": [
      "--- Annualized Returns mu ---\n",
      "tic\n",
      "AAPL   0.343321\n",
      "AMGN   0.171606\n",
      "AXP    0.216063\n",
      "BA     0.208823\n",
      "CAT    0.166210\n",
      "dtype: float64\n",
      "\n",
      "--- Converted to Daily Returns ---\n",
      "tic\n",
      "AAPL   0.001172\n",
      "AMGN   0.000629\n",
      "AXP    0.000777\n",
      "BA     0.000753\n",
      "CAT    0.000610\n",
      "dtype: float64\n"
     ]
    }
   ],
   "source": [
    "pd.set_option('display.float_format', '{:.6f}'.format)\n",
    "\n",
    "trading_days = 252\n",
    "\n",
    "# The formula works on the entire series seamlessly\n",
    "daily_returns = (1 + mu)**(1 / trading_days) - 1\n",
    "\n",
    "print(\"--- Annualized Returns mu ---\")\n",
    "print(mu.head())\n",
    "print(\"\\n--- Converted to Daily Returns ---\")\n",
    "print(daily_returns.head())"
   ]
  },
  {
   "cell_type": "code",
   "execution_count": 101,
   "id": "acc2cad7",
   "metadata": {},
   "outputs": [],
   "source": [
    "from pypfopt.efficient_frontier import EfficientFrontier\n",
    "\n",
    "ef = EfficientFrontier(mu, S, weight_bounds=(0, 0.5))\n",
    "weights = ef.max_sharpe()"
   ]
  },
  {
   "cell_type": "code",
   "execution_count": 102,
   "id": "d7aeeefb",
   "metadata": {},
   "outputs": [
    {
     "name": "stdout",
     "output_type": "stream",
     "text": [
      "OrderedDict([('AAPL', 0.37239), ('AMGN', 0.0), ('AXP', 0.0), ('BA', 0.0), ('CAT', 0.0), ('CRM', 0.08679), ('CSCO', 0.0), ('CVX', 0.0), ('DIS', 0.0), ('GS', 0.0), ('HD', 0.20448), ('HON', 0.0), ('IBM', 0.0), ('INTC', 0.0), ('JNJ', 0.0), ('JPM', 0.0), ('KO', 0.0), ('MCD', 0.0), ('MMM', 0.0), ('MRK', 0.0), ('MSFT', 0.05189), ('NKE', 0.0), ('PG', 0.0), ('TRV', 0.0), ('UNH', 0.14294), ('V', 0.1415), ('VZ', 0.0), ('WBA', 0.0), ('WMT', 0.0)])\n"
     ]
    }
   ],
   "source": [
    "cleaned_weights = ef.clean_weights()\n",
    "ef.save_weights_to_file(\"weights.txt\")  # saves to file\n",
    "print(cleaned_weights)"
   ]
  },
  {
   "cell_type": "code",
   "execution_count": 104,
   "id": "7d2fad57",
   "metadata": {},
   "outputs": [
    {
     "name": "stdout",
     "output_type": "stream",
     "text": [
      "allocation:\n",
      "   Ticker   Weight\n",
      "0    AAPL 0.372390\n",
      "1    AMGN 0.000000\n",
      "2     AXP 0.000000\n",
      "3      BA 0.000000\n",
      "4     CAT 0.000000\n",
      "5     CRM 0.086790\n",
      "6    CSCO 0.000000\n",
      "7     CVX 0.000000\n",
      "8     DIS 0.000000\n",
      "9      GS 0.000000\n",
      "10     HD 0.204480\n",
      "11    HON 0.000000\n",
      "12    IBM 0.000000\n",
      "13   INTC 0.000000\n",
      "14    JNJ 0.000000\n",
      "15    JPM 0.000000\n",
      "16     KO 0.000000\n",
      "17    MCD 0.000000\n",
      "18    MMM 0.000000\n",
      "19    MRK 0.000000\n",
      "20   MSFT 0.051890\n",
      "21    NKE 0.000000\n",
      "22     PG 0.000000\n",
      "23    TRV 0.000000\n",
      "24    UNH 0.142940\n",
      "25      V 0.141500\n",
      "26     VZ 0.000000\n",
      "27    WBA 0.000000\n",
      "28    WMT 0.000000\n"
     ]
    }
   ],
   "source": [
    "# Create a DataFrame from the tickers and dollar amounts\n",
    "allocation = pd.DataFrame({\n",
    "    'Ticker': list(cleaned_weights.keys()),\n",
    "    'Weight': list(cleaned_weights.values())\n",
    "})\n",
    "\n",
    "print(f'allocation:\\n{allocation}')"
   ]
  },
  {
   "cell_type": "code",
   "execution_count": null,
   "id": "208b2e02",
   "metadata": {},
   "outputs": [
    {
     "name": "stdout",
     "output_type": "stream",
     "text": [
      "Filtered out rows (weights < 1%):\n",
      "   Ticker   Weight\n",
      "0    AAPL 0.372390\n",
      "5     CRM 0.086790\n",
      "10     HD 0.204480\n",
      "20   MSFT 0.051890\n",
      "24    UNH 0.142940\n",
      "25      V 0.141500\n"
     ]
    }
   ],
   "source": [
    "# Show filtered out rows\n",
    "filtered = allocation[allocation['Weight'] > 0.01]\n",
    "print(\"Filtered rows (weights > 1%):\")\n",
    "print(filtered)"
   ]
  }
 ],
 "metadata": {
  "kernelspec": {
   "display_name": "py311-py3.11 (3.11.9)",
   "language": "python",
   "name": "python3"
  },
  "language_info": {
   "codemirror_mode": {
    "name": "ipython",
    "version": 3
   },
   "file_extension": ".py",
   "mimetype": "text/x-python",
   "name": "python",
   "nbconvert_exporter": "python",
   "pygments_lexer": "ipython3",
   "version": "3.11.9"
  }
 },
 "nbformat": 4,
 "nbformat_minor": 5
}
