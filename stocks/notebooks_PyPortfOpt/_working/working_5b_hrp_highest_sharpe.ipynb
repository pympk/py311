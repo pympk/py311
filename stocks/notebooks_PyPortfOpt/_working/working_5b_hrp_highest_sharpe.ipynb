{
 "cells": [
  {
   "cell_type": "code",
   "execution_count": 19,
   "id": "a675977a",
   "metadata": {
    "tags": [
     "parameters"
    ]
   },
   "outputs": [],
   "source": [
    "# Papermill injects parameters here"
   ]
  },
  {
   "cell_type": "code",
   "execution_count": null,
   "id": "c772ab0a",
   "metadata": {},
   "outputs": [],
   "source": [
    "# # Parameters\n",
    "# returns_train_path = \"c:\\\\Users\\\\ping\\\\Files_win10\\\\python\\\\py311\\\\stocks\\\\notebooks_PyPortfOpt\\\\_working\\\\temp\\\\returns_train_chunk_0.parquet\"\n",
    "# returns_test_path = \"c:\\\\Users\\\\ping\\\\Files_win10\\\\python\\\\py311\\\\stocks\\\\notebooks_PyPortfOpt\\\\_working\\\\temp\\\\returns_test_chunk_0.parquet\"\n"
   ]
  },
  {
   "cell_type": "code",
   "execution_count": 21,
   "id": "a586c430",
   "metadata": {},
   "outputs": [
    {
     "name": "stdout",
     "output_type": "stream",
     "text": [
      "The autoreload extension is already loaded. To reload it, use:\n",
      "  %reload_ext autoreload\n",
      "--- Path Configuration ---\n",
      "✅ Project Root: c:\\Users\\ping\\Files_win10\\python\\py311\\stocks\n",
      "✅ Parent Dir:   c:\\Users\\ping\\Files_win10\\python\\py311\\stocks\\notebooks_PyPortfOpt\n",
      "✅ Notebook Dir: c:\\Users\\ping\\Files_win10\\python\\py311\\stocks\\notebooks_PyPortfOpt\\_working\n",
      "✅ Data Dir:     c:\\Users\\ping\\Files_win10\\python\\py311\\stocks\\data\n",
      "✅ Source Dir:   c:\\Users\\ping\\Files_win10\\python\\py311\\stocks\\src\n",
      "\n",
      "--- Module Verification ---\n",
      "✅ Successfully imported 'utils' and 'plotting_utils'.\n"
     ]
    }
   ],
   "source": [
    "import sys\n",
    "from pathlib import Path\n",
    "import pandas as pd\n",
    "import numpy as np\n",
    "from pprint import pprint\n",
    "from IPython.display import display, Markdown\n",
    "\n",
    "# --- 1. PANDAS & IPYTHON OPTIONS ---\n",
    "pd.set_option('display.max_rows', 200)\n",
    "pd.set_option('display.max_columns', None)\n",
    "pd.set_option('display.width', 3000*5)\n",
    "pd.set_option('display.float_format', '{:.6f}'.format)\n",
    "%load_ext autoreload\n",
    "%autoreload 2\n",
    "\n",
    "# --- 2. PROJECT PATH CONFIGURATION ---\n",
    "NOTEBOOK_DIR = Path.cwd()\n",
    "PARENT_DIR = NOTEBOOK_DIR.parent\n",
    "ROOT_DIR = NOTEBOOK_DIR.parent.parent  # Adjust if your notebook is in a 'notebooks' subdirectory\n",
    "DATA_DIR = ROOT_DIR / 'data'\n",
    "SRC_DIR = ROOT_DIR / 'src'\n",
    "\n",
    "# Add 'src' to the Python path to import custom modules\n",
    "if str(SRC_DIR) not in sys.path:\n",
    "    sys.path.append(str(SRC_DIR))\n",
    "\n",
    "# --- 3. IMPORT CUSTOM MODULES ---\n",
    "import utils\n",
    "import plotting_utils\n",
    "\n",
    "# --- 4. INITIAL_CAPITAL ---\n",
    "INITIAL_CAPITAL = 100000\n",
    "\n",
    "# --- 5. RISK FREE ANNUAL RATE ---\n",
    "RISK_FREE_ANNUAL_RATE = 0.04\n",
    "\n",
    "# --- 6. VERIFICATION ---\n",
    "print(\"--- Path Configuration ---\")\n",
    "print(f\"✅ Project Root: {ROOT_DIR}\")\n",
    "print(f\"✅ Parent Dir:   {PARENT_DIR}\")\n",
    "print(f\"✅ Notebook Dir: {NOTEBOOK_DIR}\")\n",
    "print(f\"✅ Data Dir:     {DATA_DIR}\")\n",
    "print(f\"✅ Source Dir:   {SRC_DIR}\")\n",
    "assert all([ROOT_DIR.exists(), DATA_DIR.exists(), SRC_DIR.exists()]), \"A key directory was not found!\"\n",
    "\n",
    "print(\"\\n--- Module Verification ---\")\n",
    "print(f\"✅ Successfully imported 'utils' and 'plotting_utils'.\")"
   ]
  },
  {
   "cell_type": "code",
   "execution_count": 22,
   "id": "b7955686",
   "metadata": {},
   "outputs": [],
   "source": [
    "# Use the papermill injected parameters to read the files\n",
    "returns_train = pd.read_parquet(returns_train_path)\n",
    "returns_test = pd.read_parquet(returns_test_path)"
   ]
  },
  {
   "cell_type": "code",
   "execution_count": 23,
   "id": "c0923044",
   "metadata": {},
   "outputs": [],
   "source": [
    "# import pandas as pd\n",
    "\n",
    "# # Read the Parquet file into a DataFrame\n",
    "# returns_train = pd.read_parquet('returns_train.parquet', engine='pyarrow')\n",
    "# returns_test = pd.read_parquet('returns_test.parquet', engine='pyarrow')\n",
    "\n",
    "# parameters injected by papermill\n",
    "# returns_train = pd.read_csv(returns_train_path, index_col=0, parse_dates=True)\n",
    "# returns_test = pd.read_csv(returns_test_path, index_col=0, parse_dates=True)\n",
    "\n",
    "# returns_train = pd.read_parquet(NOTEBOOK_DIR / '_returns_train')\n",
    "# returns_test = pd.read_parquet(NOTEBOOK_DIR / '_returns_test')\n",
    "\n",
    "# returns_train = pd.read_parquet(returns_train_path)\n",
    "# returns_test = pd.read_parquet(returns_test_path)     "
   ]
  },
  {
   "cell_type": "code",
   "execution_count": 24,
   "id": "96836dd6",
   "metadata": {},
   "outputs": [],
   "source": [
    "file_list = utils.get_recent_files(\n",
    "    directory_path = DATA_DIR,\n",
    "    extension = 'parquet', \n",
    "    prefix = None,\n",
    "    contains_pattern = 'df_finviz_merged_stocks_etfs',\n",
    "    count = None\n",
    ")\n",
    "\n",
    "df_finviz = pd.read_parquet(DATA_DIR / file_list[0])"
   ]
  },
  {
   "cell_type": "code",
   "execution_count": 25,
   "id": "ebfd9532",
   "metadata": {},
   "outputs": [
    {
     "name": "stdout",
     "output_type": "stream",
     "text": [
      "df_finviz:\n",
      "       No.                                          Company               Index                  Sector                        Industry Country Exchange                                               Info  MktCap AUM, M  Rank  Market Cap, M       P/E   Fwd P/E      PEG       P/S       P/B       P/C     P/FCF   Book/sh   Cash/sh  Dividend %  Dividend TTM Dividend Ex Date  Payout Ratio %       EPS  EPS next Q  EPS this Y %  EPS next Y %  EPS past 5Y %  EPS next 5Y %  Sales past 5Y %  Sales Q/Q %  EPS Q/Q %  EPS YoY TTM %  Sales YoY TTM %      Sales, M     Income, M  EPS Surprise %  Revenue Surprise %  Outstanding, M     Float, M   Float %  Insider Own %  Insider Trans %  Inst Own %  Inst Trans %  Short Float %  Short Ratio  Short Interest, M     ROA %      ROE %    ROIC %   Curr R  Quick R  LTDebt/Eq  Debt/Eq  Gross M %  Oper M %  Profit M %  Perf 3D %  Perf Week %  Perf Month %  Perf Quart %  Perf Half %  Perf Year %  Perf YTD %     Beta      ATR  ATR/Price %  Volatility W %  Volatility M %   SMA20 %   SMA50 %  SMA200 %  50D High %  50D Low %  52W High %  52W Low %        52W Range  All-Time High %  All-Time Low %       RSI  Earnings    IPO Date Optionable Shortable     Employees  Change from Open %     Gap %    Recom  Avg Volume, M  Rel Volume     Volume  Target Price  Prev Close       Open       High        Low      Price  Change %                  Single Category         Asset Type  Expense %    Holdings      AUM, M  Flows 1M, M  Flows% 1M  Flows 3M, M  Flows% 3M  Flows YTD, M  Flows% YTD  Return% 1Y  Return% 3Y  Return% 5Y                                               Tags  Sharpe 3d  Sortino 3d   Omega 3d  Sharpe 5d  Sortino 5d  Omega 5d  Sharpe 10d  Sortino 10d  Omega 10d  Sharpe 15d  Sortino 15d  Omega 15d  Sharpe 30d  Sortino 30d  Omega 30d  Sharpe 60d  Sortino 60d  Omega 60d  Sharpe 120d  Sortino 120d  Omega 120d  Sharpe 250d  Sortino 250d  Omega 250d\n",
      "NVDA     1                                      NVIDIA Corp  DJIA, NDX, S&P 500              Technology                  Semiconductors     USA     NASD                         Technology, Semiconductors 4238770.000000     1 4238770.000000 55.960000 29.630000 1.780000 28.540000 50.530000 78.950000 58.820000  3.440000  2.200000    0.020000      0.040000        6/11/2025        1.160000  3.100000    1.000000           NaN           NaN            NaN            NaN              NaN    69.180000  27.600000      81.360000        86.170000 148510.000000  76770.000000        9.890000            1.680000    24390.000000 23410.000000 95.980000       4.070000        -0.640000   66.360000      0.150000       0.860000     1.040000         201.660000 75.890000 115.460000 81.820000 3.390000 2.960000   0.120000 0.120000  70.110000 58.030000   51.690000  -1.019885     0.130000     10.470000     55.650000    39.370000    67.470000   29.360000 2.140000 4.310000     2.481004        2.780000        2.110000  2.150000 12.430000 28.910000   -5.230000  34.500000   -5.230000 100.550000   86.62 - 183.30        -5.230000   521059.980000 62.260000  May 28/a   1/22/1999        Yes       Yes  36000.000000           -0.160000 -2.180000 1.380000     193.300000    1.050000  203342144    184.440000  177.870000 174.000000 176.540000 170.890000 173.720000 -2.330000                                                            NaN         NaN         NaN          NaN        NaN          NaN        NaN           NaN         NaN         NaN         NaN         NaN                                                  - -22.749448  -14.235878   0.000000  -3.695781   -5.338788  0.550427    1.261154     1.978165   1.206802    3.509727     6.558762   1.759227    5.895470    11.514176   2.606417    5.549628    11.958507   2.524482     1.224388      1.878124    1.251974     1.101805      1.582690    1.212197\n",
      "MSFT     2                            Microsoft Corporation  DJIA, NDX, S&P 500              Technology       Software - Infrastructure     USA     NASD              Technology, Software - Infrastructure 3895800.000000     2 3895800.000000 38.420000 28.780000 2.240000 13.830000 11.340000 41.200000 54.400000 46.200000 12.720000    0.640000      3.240000        8/21/2025       24.340000 13.640000    3.650000           NaN           NaN            NaN            NaN              NaN    18.100000  23.770000      15.500000        14.930000 281720.000000 101830.000000        8.160000            3.400000     7430.000000  7320.000000 98.510000       1.470000        -0.120000   73.600000      0.490000       0.730000     2.660000          53.790000 18.000000  33.280000 22.930000 1.350000 1.350000   0.290000 0.330000  68.820000 45.620000   36.150000   2.251400     2.020000      6.720000     23.200000    26.290000    23.930000   24.340000 1.050000 9.430000     1.799241        2.140000        1.420000  2.960000  7.280000 21.090000   -5.640000  16.750000   -5.640000  52.010000  344.79 - 555.45        -5.640000   657679.780000 68.530000  Jul 30/a   3/13/1986        Yes       Yes 228000.000000           -2.070000  0.310000 1.270000      20.240000    1.430000   28935516    601.840000  533.500000 535.170000 535.800000 520.860000 524.110000 -1.760000                                                            NaN         NaN         NaN          NaN        NaN          NaN        NaN           NaN         NaN         NaN         NaN         NaN                                                  -   4.239495   13.624898   2.213802   3.744490   10.137612  2.275629    2.982729     6.971864   1.897062    3.522055     8.228856   2.178305    4.694076    10.989618   2.510280    5.308094    11.904148   2.640149     1.853520      3.523792    1.457949     1.001702      1.553572    1.212850\n",
      "AAPL     3                                        Apple Inc  DJIA, NDX, S&P 500              Technology            Consumer Electronics     USA     NASD                   Technology, Consumer Electronics 3022710.000000     3 3022710.000000 30.750000 25.760000 3.820000  7.400000 45.670000 54.590000 31.430000  4.430000  3.710000    0.510000      1.010000        5/12/2025       16.110000  6.580000    1.720000           NaN           NaN            NaN            NaN              NaN     9.630000  12.350000      -0.360000         5.970000 408620.000000  99280.000000        9.180000            4.990000    14940.000000 14920.000000 99.910000       0.090000        -1.420000   64.370000     -0.600000       0.630000     1.750000          93.950000 29.940000 149.810000 66.960000 0.870000 0.830000   1.250000 1.540000  48.800000 31.870000   24.300000  -4.207886    -5.380000     -4.740000     -5.130000   -14.820000    -7.500000  -19.180000 1.170000 4.080000     2.016009        2.450000        1.740000 -4.010000 -1.410000 -8.660000   -6.410000   4.610000  -22.190000  19.600000  169.21 - 260.10       -22.190000   318027.480000 35.450000  Jul 31/a  12/12/1980        Yes       Yes 164000.000000           -4.060000  1.620000 2.000000      53.590000    1.810000   97192279    231.560000  207.570000 210.940000 213.580000 201.500000 202.380000 -2.500000                                                            NaN         NaN         NaN          NaN        NaN          NaN        NaN           NaN         NaN         NaN         NaN         NaN                                                  - -20.291109  -13.890705   0.000000 -28.630755  -14.310267  0.000000   -8.838863    -8.393656   0.166607   -3.986455    -4.341900   0.469489    0.198860     0.279471   1.035079    0.543811     0.894828   1.106094    -0.527639     -0.767755    0.896321    -0.218156     -0.309369    0.957296\n",
      "GOOGL    4                                     Alphabet Inc        NDX, S&P 500  Communication Services  Internet Content & Information     USA     NASD  Communication Services, Internet Content & Inf... 2292850.000000     4 2292850.000000 20.140000 17.880000 1.400000  6.180000  6.310000 24.100000 34.360000 29.980000  7.850000    0.270000      0.810000         9/8/2025        7.460000  9.390000    2.330000           NaN           NaN            NaN            NaN              NaN    14.060000  22.280000      34.520000        13.190000 371210.000000 115570.000000        5.830000            2.540000     5820.000000  5800.000000 99.740000      52.050000        -0.010000   38.360000     -1.810000       1.000000     1.380000          58.230000 25.210000  34.830000 28.860000 1.900000 1.900000   0.100000 0.110000  58.920000 32.650000   31.130000  -3.381865    -2.100000      5.870000     17.250000    -5.840000    11.060000   -0.090000 1.010000 4.200000     2.220695        1.870000        2.130000  1.580000  6.190000  8.060000   -4.460000  16.750000   -8.650000  34.580000  140.53 - 207.05        -8.650000     7776.070000 57.640000  Jul 23/a   8/19/2004        Yes       Yes 183323.000000           -0.020000 -1.430000 1.450000      42.070000    0.830000   34756300    218.460000  191.900000 189.160000 190.830000 187.820000 189.130000 -1.440000                                                            NaN         NaN         NaN          NaN        NaN          NaN        NaN           NaN         NaN         NaN         NaN         NaN                                                  - -47.131850  -15.442591   0.000000  -4.006437   -5.182592  0.525385   -0.828389    -1.090402   0.875738    3.632836     5.873431   1.834806    5.261455     9.463061   2.232227    3.818227     6.751399   1.819029     0.150560      0.215816    1.025448     0.452615      0.637844    1.079467\n",
      "GOOG     5                                     Alphabet Inc        NDX, S&P 500  Communication Services  Internet Content & Information     USA     NASD  Communication Services, Internet Content & Inf... 2291330.000000     5 2291330.000000 20.230000 17.960000 1.410000  6.170000  6.340000 24.080000 34.340000 29.980000  7.890000    0.290000      0.810000         9/8/2025        7.460000  9.390000    2.330000           NaN           NaN            NaN            NaN              NaN    14.060000  22.280000      34.520000        13.190000 371210.000000 115570.000000        5.820000            2.540000     5440.000000  5040.000000 92.710000      58.310000        -0.010000   27.190000     -1.820000       0.670000     1.200000          33.790000 25.210000  34.830000 28.860000 1.900000 1.900000   0.100000 0.110000  58.920000 32.650000   31.130000  -3.298885    -2.130000      5.670000     16.680000    -6.260000    10.530000   -0.260000 1.020000 4.180000     2.200579        1.790000        2.110000  1.500000  6.020000  7.570000   -4.530000  16.300000   -8.980000  33.150000  142.66 - 208.70        -8.980000      681.330000 57.560000  Jul 23/a   3/27/2014        Yes       Yes 183323.000000            0.130000 -1.630000 1.450000      28.120000    0.750000   21192448    218.360000  192.860000 189.710000 191.620000 188.700000 189.950000 -1.510000                                                            NaN         NaN         NaN          NaN        NaN          NaN        NaN           NaN         NaN         NaN         NaN         NaN                                                  - -53.441598  -15.535512   0.000000  -4.047559   -5.183935  0.528101   -1.037667    -1.333204   0.843049    3.444241     5.562111   1.816677    5.413069     9.591589   2.297117    3.867181     6.794464   1.829963     0.118292      0.168793    1.020108     0.433979      0.609284    1.076332\n",
      "...    ...                                              ...                 ...                     ...                             ...     ...      ...                                                ...            ...   ...            ...       ...       ...      ...       ...       ...       ...       ...       ...       ...         ...           ...              ...             ...       ...         ...           ...           ...            ...            ...              ...          ...        ...            ...              ...           ...           ...             ...                 ...             ...          ...       ...            ...              ...         ...           ...            ...          ...                ...       ...        ...       ...      ...      ...        ...      ...        ...       ...         ...        ...          ...           ...           ...          ...          ...         ...      ...      ...          ...             ...             ...       ...       ...       ...         ...        ...         ...        ...              ...              ...             ...       ...       ...         ...        ...       ...           ...                 ...       ...      ...            ...         ...        ...           ...         ...        ...        ...        ...        ...       ...                              ...                ...        ...         ...         ...          ...        ...          ...        ...           ...         ...         ...         ...         ...                                                ...        ...         ...        ...        ...         ...       ...         ...          ...        ...         ...          ...        ...         ...          ...        ...         ...          ...        ...          ...           ...         ...          ...           ...         ...\n",
      "EMLC   393    VanEck J.P. Morgan EM Local Currency Bond ETF                   -               Financial            Exchange Traded Fund     USA     NYSE  Financial, Exchange Traded Fund, Bonds - Treas...    3600.000000  1553            NaN       NaN       NaN      NaN       NaN       NaN       NaN       NaN       NaN       NaN    5.530000      1.380000         7/1/2025             NaN       NaN         NaN           NaN           NaN            NaN            NaN              NaN          NaN        NaN            NaN              NaN           NaN           NaN             NaN                 NaN             NaN          NaN       NaN            NaN              NaN         NaN           NaN            NaN     0.960000           2.590000       NaN        NaN       NaN      NaN      NaN        NaN      NaN        NaN       NaN         NaN  -0.478278    -1.070000     -1.340000      2.590000     5.140000     4.240000    8.050000 0.370000 0.120000     0.480577        0.430000        0.350000 -0.670000 -0.060000  3.610000   -1.540000   2.000000   -1.720000   8.840000    22.94 - 25.41       -55.350000       12.200000 44.760000         -   7/23/2010        Yes       Yes           NaN           -0.120000  0.520000      NaN       2.690000    1.930000    5187539           NaN   24.870000  25.000000  25.010000  24.900000  24.970000  0.400000    Bonds - Treasury & Government              Bonds   0.300000  497.000000 3600.000000   299.910000   9.070000   818.320000  29.370000    825.650000   29.710000    9.450000    7.690000    0.560000      Emerging, fixed-income, currency-bonds, bonds   6.747190   33.827913   4.013630  -3.249466   -4.063963  0.538981   -5.054117    -5.516211   0.424700   -2.285223    -2.736166   0.690620    0.906556     1.297616   1.165411    1.750046     2.702688   1.324093     1.851479      2.790949    1.384169     0.633431      0.944682    1.113717\n",
      "SUSA   394               iShares ESG Optimized MSCI USA ETF                   -               Financial            Exchange Traded Fund     USA     NYSE  Financial, Exchange Traded Fund, US Equities -...    3540.000000  1554            NaN       NaN       NaN      NaN       NaN       NaN       NaN       NaN       NaN       NaN    1.080000      1.370000        6/16/2025             NaN       NaN         NaN           NaN           NaN            NaN            NaN              NaN          NaN        NaN            NaN              NaN           NaN           NaN             NaN                 NaN             NaN          NaN       NaN            NaN              NaN         NaN           NaN            NaN     0.090000           0.010000       NaN        NaN       NaN      NaN      NaN        NaN      NaN        NaN       NaN         NaN  -2.174919    -2.300000     -0.320000     10.250000     1.210000    12.210000    4.320000 1.060000 1.100000     0.867234        0.870000        0.690000 -0.970000  1.130000  4.380000   -2.590000   6.140000   -2.590000  27.500000   99.48 - 130.21        -2.590000      771.150000 46.840000         -   1/28/2005        Yes       Yes           NaN           -0.550000 -0.820000      NaN       0.061660    0.610000      37778           NaN  128.600000 127.540000 127.540000 126.120000 126.840000 -1.370000  US Equities - Factor & Thematic  Equities (Stocks)   0.250000  190.000000 3540.000000   -83.060000  -2.290000  -132.430000  -3.610000   -360.010000   -9.230000   14.160000   16.850000   14.450000                                  U.S., equity, ESG -37.700130  -15.214437   0.000000 -14.866508  -11.654949  0.000000   -2.260909    -2.785773   0.654910   -1.163468    -1.495246   0.811566    3.298118     5.145358   1.724559    2.842129     5.101469   1.674040     0.175864      0.259847    1.036470     0.641784      0.935170    1.132061\n",
      "SKYY   395                  First Trust Cloud Computing ETF                   -               Financial            Exchange Traded Fund     USA     NASD  Financial, Exchange Traded Fund, US Equities -...    3520.000000  1555            NaN       NaN       NaN      NaN       NaN       NaN       NaN       NaN       NaN       NaN         NaN           NaN        9/23/2022             NaN       NaN         NaN           NaN           NaN            NaN            NaN              NaN          NaN        NaN            NaN              NaN           NaN           NaN             NaN                 NaN             NaN          NaN       NaN            NaN              NaN         NaN           NaN            NaN     0.950000           0.180000       NaN        NaN       NaN      NaN      NaN        NaN      NaN        NaN       NaN         NaN  -5.189621    -4.740000     -1.680000     12.810000    -7.260000    27.670000   -0.310000 1.230000 2.050000     1.726316        1.680000        1.390000 -3.130000 -0.590000  2.460000   -6.420000   5.920000   -9.720000  42.300000   83.45 - 131.54        -9.720000      695.730000 40.690000         -    7/6/2011        Yes       Yes           NaN           -1.510000 -2.060000      NaN       0.184700    1.780000     328792           NaN  123.100000 120.570000 120.570000 117.880000 118.750000 -3.530000    US Equities - Industry Sector  Equities (Stocks)   0.600000   62.000000 3520.000000   -24.480000  -0.690000  -102.910000  -2.840000   -175.730000   -4.760000   31.360000   23.380000   10.680000          U.S., equity, technology, cloud-computing -28.817579  -14.791969   0.000000 -14.169806  -11.393378  0.000000   -4.906812    -5.243631   0.378669   -0.799191    -0.961090   0.859394    1.395187     1.910895   1.261297    2.054970     3.353655   1.420644    -0.532510     -0.748783    0.903786     0.975008      1.421235    1.193656\n",
      "EDV    397          Vanguard Extended Duration Treasury ETF                   -               Financial            Exchange Traded Fund     USA     NYSE  Financial, Exchange Traded Fund, Bonds - Treas...    3510.000000  1557            NaN       NaN       NaN      NaN       NaN       NaN       NaN       NaN       NaN       NaN    4.830000      3.210000         7/1/2025             NaN       NaN         NaN           NaN           NaN            NaN            NaN              NaN          NaN        NaN            NaN              NaN           NaN           NaN             NaN                 NaN             NaN          NaN       NaN            NaN              NaN         NaN           NaN            NaN     0.710000           0.590000       NaN        NaN       NaN      NaN      NaN        NaN      NaN        NaN       NaN         NaN   1.095390     2.750000      0.350000     -1.890000    -2.490000   -10.810000   -1.880000 0.640000 1.010000     1.519940        1.000000        1.150000  3.040000  2.460000 -3.100000   -1.540000   7.940000  -20.860000   7.940000    61.56 - 83.97       -63.770000        7.940000 59.950000         -  12/19/2007        Yes       Yes           NaN            0.320000  1.380000      NaN       0.827350    2.080000    1721870           NaN   65.340000  66.240000  66.640000  66.190000  66.450000  1.700000    Bonds - Treasury & Government              Bonds   0.050000   81.000000 3510.000000   105.220000   3.090000   218.890000   6.650000      8.390000    0.240000   -9.020000  -10.850000  -14.770000              U.S., fixed-income, treasuries, bonds  13.716550 7653.011199 682.784426   9.573317   36.593310  5.610324    4.978756    11.990501   2.276270    4.064522     8.918248   2.032533    1.304333     2.056956   1.236716    0.001297     0.001888   1.000207    -0.269879     -0.354936    0.957991    -0.787018     -1.041653    0.881254\n",
      "GVI    398  iShares Intermediate Government/Credit Bond ETF                   -               Financial            Exchange Traded Fund     USA     CBOE  Financial, Exchange Traded Fund, Bonds - Broad...    3500.000000  1558            NaN       NaN       NaN      NaN       NaN       NaN       NaN       NaN       NaN       NaN    3.410000      3.650000         7/1/2025             NaN       NaN         NaN           NaN           NaN            NaN            NaN              NaN          NaN        NaN            NaN              NaN           NaN           NaN             NaN                 NaN             NaN          NaN       NaN            NaN              NaN         NaN           NaN            NaN     0.080000           0.010000       NaN        NaN       NaN      NaN      NaN        NaN      NaN        NaN       NaN         NaN   0.262837     0.440000      0.420000      0.750000     1.960000     1.710000    2.480000 0.140000 0.230000     0.215336        0.180000        0.140000  0.560000  0.740000  1.420000   -0.030000   1.580000   -0.640000   3.250000  103.45 - 107.50        -9.930000       16.570000 63.240000         -   1/11/2007        Yes       Yes           NaN            0.210000  0.200000      NaN       0.117870    1.760000     207022           NaN  106.380000 106.590000 106.830000 106.550000 106.810000  0.400000             Bonds - Broad Market              Bonds   0.200000 5866.000000 3500.000000    95.440000   2.810000    85.070000   2.490000    153.990000    4.610000    4.660000    2.980000    0.260000  U.S., fixed-income, treasuries, corporate-bond...  11.961500 7653.011199 682.784426   7.047894   19.092631  3.405445    2.726822     5.516006   1.543007    3.440423     6.294643   1.694239    1.912939     3.186372   1.335824    0.783545     1.143132   1.126589     1.148988      1.706448    1.195766    -0.078719     -0.110119    0.987648\n",
      "\n",
      "[1186 rows x 139 columns]\n"
     ]
    }
   ],
   "source": [
    "print(f'df_finviz:\\n{df_finviz}')"
   ]
  },
  {
   "cell_type": "code",
   "execution_count": 26,
   "id": "fbd50c8a",
   "metadata": {},
   "outputs": [],
   "source": [
    "# returns_train = train_chunks[i].iloc[:n_test_rows]\n",
    "# returns_test = train_chunks[i].iloc[n_test_rows:]"
   ]
  },
  {
   "cell_type": "code",
   "execution_count": 27,
   "id": "07adabb9",
   "metadata": {},
   "outputs": [
    {
     "name": "stdout",
     "output_type": "stream",
     "text": [
      "returns_train.shape: (270, 1216)\n",
      "returns_test.shape: (30, 1216)\n"
     ]
    }
   ],
   "source": [
    "print(f'returns_train.shape: {returns_train.shape}')\n",
    "print(f'returns_test.shape: {returns_test.shape}')"
   ]
  },
  {
   "cell_type": "code",
   "execution_count": 28,
   "id": "03341863",
   "metadata": {},
   "outputs": [
    {
     "name": "stdout",
     "output_type": "stream",
     "text": [
      "Sharpe Ratios for the last 30 rows:\n",
      "Ticker\n",
      "A      -0.134441\n",
      "AA     -0.198395\n",
      "AAL    -0.123322\n",
      "AAON   -0.117520\n",
      "AAPL   -0.168205\n",
      "dtype: float64\n",
      "Sharpe Ratios for the last 60 rows:\n",
      "Ticker\n",
      "A      -0.013860\n",
      "AA     -0.100237\n",
      "AAL    -0.131502\n",
      "AAON    0.008648\n",
      "AAPL   -0.173196\n",
      "dtype: float64\n",
      "\n",
      "Sharpe Ratios for the last 120 rows:\n",
      "Ticker\n",
      "A      -0.017975\n",
      "AA     -0.049530\n",
      "AAL    -0.011628\n",
      "AAON   -0.007669\n",
      "AAPL   -0.056483\n",
      "dtype: float64\n",
      "\n",
      "Sharpe Ratios for the last 240 rows:\n",
      "Ticker\n",
      "A      -0.010897\n",
      "AA     -0.112071\n",
      "AAL    -0.025114\n",
      "AAON   -0.004574\n",
      "AAPL   -0.053473\n",
      "dtype: float64\n"
     ]
    }
   ],
   "source": [
    "import pandas as pd\n",
    "\n",
    "# Assuming returns_train is your DataFrame with daily returns\n",
    "\n",
    "# Extract the last 30, 60, 120, and 240 rows\n",
    "last_30 = returns_train.iloc[-30:]\n",
    "last_60 = returns_train.iloc[-60:]\n",
    "last_120 = returns_train.iloc[-120:]\n",
    "last_240 = returns_train.iloc[-240:]\n",
    "\n",
    "# Function to calculate Sharpe ratio\n",
    "def calculate_sharpe_ratio(returns):\n",
    "    mean_return = returns.mean()\n",
    "    std_dev = returns.std()\n",
    "    sharpe_ratio = mean_return / std_dev\n",
    "    return sharpe_ratio\n",
    "\n",
    "# Calculate Sharpe ratios for each subset\n",
    "sharpe_ratio_30 = calculate_sharpe_ratio(last_30)\n",
    "sharpe_ratio_60 = calculate_sharpe_ratio(last_60)\n",
    "sharpe_ratio_120 = calculate_sharpe_ratio(last_120)\n",
    "sharpe_ratio_240 = calculate_sharpe_ratio(last_240)\n",
    "\n",
    "# Print the results\n",
    "print(\"Sharpe Ratios for the last 30 rows:\")\n",
    "print(sharpe_ratio_30.head())  # Display the first few tickers for brevity\n",
    "\n",
    "print(\"Sharpe Ratios for the last 60 rows:\")\n",
    "print(sharpe_ratio_60.head())  # Display the first few tickers for brevity\n",
    "\n",
    "print(\"\\nSharpe Ratios for the last 120 rows:\")\n",
    "print(sharpe_ratio_120.head())  # Display the first few tickers for brevity\n",
    "\n",
    "print(\"\\nSharpe Ratios for the last 240 rows:\")\n",
    "print(sharpe_ratio_240.head())  # Display the first few tickers for brevity"
   ]
  },
  {
   "cell_type": "code",
   "execution_count": 29,
   "id": "baf8681d",
   "metadata": {},
   "outputs": [
    {
     "name": "stdout",
     "output_type": "stream",
     "text": [
      "Percentage of tickers with Sharpe Ratio > Benchmark's Sharpe Ratio: 27.55%\n"
     ]
    }
   ],
   "source": [
    "# Extract the Sharpe ratio of 'VGT' for each period\n",
    "vgt_sharpe_30 = sharpe_ratio_30['VGT']\n",
    "vgt_sharpe_60 = sharpe_ratio_60['VGT']\n",
    "vgt_sharpe_120 = sharpe_ratio_120['VGT']\n",
    "vgt_sharpe_240 = sharpe_ratio_240['VGT']\n",
    "\n",
    "# Find tickers with higher Sharpe ratio than 'VGT' for all four periods\n",
    "tickers_with_higher_sharpe = sharpe_ratio_30[\n",
    "    (sharpe_ratio_30 > vgt_sharpe_30) &    \n",
    "    (sharpe_ratio_60 > vgt_sharpe_60) &\n",
    "    (sharpe_ratio_120 > vgt_sharpe_120) &\n",
    "    (sharpe_ratio_240 > vgt_sharpe_240)\n",
    "].index\n",
    "\n",
    "n_higher_sharpe_tickers = len(tickers_with_higher_sharpe)\n",
    "total_ticker_columns = len(returns_train.columns)\n",
    "pct_higher_sharpe_tickers = n_higher_sharpe_tickers  / total_ticker_columns * 100\n",
    "\n",
    "print(f\"Percentage of tickers with Sharpe Ratio > Benchmark's Sharpe Ratio: {pct_higher_sharpe_tickers:.2f}%\")"
   ]
  },
  {
   "cell_type": "code",
   "execution_count": 30,
   "id": "145ae373",
   "metadata": {},
   "outputs": [
    {
     "name": "stdout",
     "output_type": "stream",
     "text": [
      "count sharpe_ratio_30 > vgt_sharpe_30: 824\n",
      "count sharpe_ratio_60 > vgt_sharpe_60: 695\n",
      "count sharpe_ratio_120 > vgt_sharpe_120: 495\n",
      "count sharpe_ratio_240 > vgt_sharpe_240: 539\n",
      "\n",
      "335 tickers, or 27.55%, have higher Sharpe Ratio than Benchmark for all four periods:\n",
      "Index(['AAON', 'ACN', 'ADBE', 'ADC', 'ADP', 'AEE', 'AEM', 'AEP', 'AFG', 'AGG',\n",
      "       ...\n",
      "       'WM', 'WPP', 'WTRG', 'WWD', 'XEL', 'XLG', 'XLK', 'XLP', 'XLU', 'XYL'], dtype='object', name='Ticker', length=335)\n"
     ]
    }
   ],
   "source": [
    "# Create a boolean array\n",
    "boolean_array_30 = sharpe_ratio_30 > vgt_sharpe_30\n",
    "boolean_array_60 = sharpe_ratio_60 > vgt_sharpe_60\n",
    "boolean_array_120 = sharpe_ratio_120 > vgt_sharpe_120\n",
    "boolean_array_240 = sharpe_ratio_240 > vgt_sharpe_240\n",
    "\n",
    "# Count the number of True values\n",
    "count_true_30 = np.sum(boolean_array_30)\n",
    "count_true_60 = np.sum(boolean_array_60)\n",
    "count_true_120 = np.sum(boolean_array_120)\n",
    "count_true_240 = np.sum(boolean_array_240)\n",
    "\n",
    "print(f'count sharpe_ratio_30 > vgt_sharpe_30: {count_true_30}')\n",
    "print(f'count sharpe_ratio_60 > vgt_sharpe_60: {count_true_60}')\n",
    "print(f'count sharpe_ratio_120 > vgt_sharpe_120: {count_true_120}')\n",
    "print(f'count sharpe_ratio_240 > vgt_sharpe_240: {count_true_240}')\n",
    "\n",
    "# Print the tickers\n",
    "print(f\"\\n{n_higher_sharpe_tickers} tickers, or {pct_higher_sharpe_tickers:.2f}%, have higher Sharpe Ratio than Benchmark for all four periods:\")\n",
    "print(tickers_with_higher_sharpe)"
   ]
  },
  {
   "cell_type": "code",
   "execution_count": 31,
   "id": "6fb02261",
   "metadata": {},
   "outputs": [
    {
     "name": "stdout",
     "output_type": "stream",
     "text": [
      "\n",
      "--- Average Sharpe Ratios (Sorted Descending) ---\n",
      "Ticker\n",
      "IESC   0.272674\n",
      "MUB    0.233194\n",
      "AWK    0.191569\n",
      "HMY    0.188927\n",
      "MBB    0.187537\n",
      "IEI    0.182374\n",
      "CMF    0.180189\n",
      "SCHR   0.170107\n",
      "ATO    0.168573\n",
      "VMBS   0.167525\n",
      "SBSW   0.166541\n",
      "VGIT   0.158551\n",
      "MCD    0.158357\n",
      "SPTS   0.157598\n",
      "HRL    0.156527\n",
      "O      0.154101\n",
      "ADC    0.152654\n",
      "IEF    0.151536\n",
      "DLR    0.146913\n",
      "NNN    0.145621\n",
      "dtype: float64\n"
     ]
    }
   ],
   "source": [
    "# --- Code to average the Sharpe Ratios ---\n",
    "\n",
    "# 1. Put all Sharpe ratio Series into a list\n",
    "all_sharpe_series = [\n",
    "    sharpe_ratio_30,\n",
    "    sharpe_ratio_60,\n",
    "    sharpe_ratio_120,\n",
    "    sharpe_ratio_240\n",
    "]\n",
    "\n",
    "# 2. Concatenate them into a single DataFrame.\n",
    "#    axis=1 means they become columns, aligned by their index.\n",
    "df_combined_sharpes = pd.concat(all_sharpe_series, axis=1)\n",
    "\n",
    "# print(\"\\n--- Combined DataFrame of Sharpe Ratios ---\")\n",
    "# print(df_combined_sharpes)\n",
    "\n",
    "# 3. Calculate the mean across the columns (axis=1) for each row (each asset).\n",
    "#    By default, .mean() will skip NaN values (e.g., 'C' in Sharpe_120, 'X' in Sharpe_30).\n",
    "average_sharpe_ratios = df_combined_sharpes.mean(axis=1)\n",
    "\n",
    "average_sharpe_ratios['CASH'] = 0\n",
    "average_sharpe_ratios\n",
    "\n",
    "# print(\"\\n--- Average Sharpe Ratios ---\")\n",
    "# print(average_sharpe_ratios)\n",
    "\n",
    "# print(\"\\n--- Info of the Resulting Series ---\")\n",
    "# print(average_sharpe_ratios.info())\n",
    "\n",
    "# --- Sort the Series in descending order ---\n",
    "sorted_sharpe_ratios = average_sharpe_ratios.sort_values(ascending=False)\n",
    "\n",
    "print(\"\\n--- Average Sharpe Ratios (Sorted Descending) ---\")\n",
    "print(sorted_sharpe_ratios.head(20))"
   ]
  },
  {
   "cell_type": "code",
   "execution_count": 32,
   "id": "6bea8029",
   "metadata": {},
   "outputs": [],
   "source": [
    "tickers_with_highest_sharpe = sorted_sharpe_ratios.head(20).index"
   ]
  },
  {
   "cell_type": "code",
   "execution_count": 33,
   "id": "888f34c9",
   "metadata": {},
   "outputs": [
    {
     "name": "stdout",
     "output_type": "stream",
     "text": [
      "Selected tickers for the diversified portfolio using HRP:\n",
      "Index(['CMF', 'VGIT', 'IESC', 'MCD', 'HRL', 'ADC', 'DLR', 'IEI', 'AWK', 'O'], dtype='object', name='Ticker')\n",
      "Normalized portfolio weights for the selected tickers:\n",
      "[0.47720222 0.2560525  0.09907688 0.02598149 0.02563403 0.02516892\n",
      " 0.02379844 0.0227355  0.02220058 0.02214944]\n",
      "Sum of weights: 1.0\n"
     ]
    }
   ],
   "source": [
    "import numpy as np\n",
    "import pandas as pd\n",
    "from scipy.cluster.hierarchy import linkage, to_tree\n",
    "from scipy.spatial.distance import pdist\n",
    "\n",
    "# Filter returns_train to only include tickers in tickers_with_highest_sharpe\n",
    "returns_train_filtered = returns_train[tickers_with_highest_sharpe]\n",
    "\n",
    "# Calculate the covariance matrix\n",
    "cov_matrix = returns_train_filtered.cov()\n",
    "\n",
    "# Calculate the distance matrix\n",
    "dist_matrix = pdist(cov_matrix, metric='correlation')\n",
    "\n",
    "# Perform hierarchical clustering\n",
    "linkage_matrix = linkage(dist_matrix, method='single')\n",
    "\n",
    "# Convert the linkage matrix to a tree structure\n",
    "tree = to_tree(linkage_matrix)\n",
    "\n",
    "# Function to get the order of leaves in the dendrogram\n",
    "def get_leaf_order(tree):\n",
    "    if tree.is_leaf():\n",
    "        return [tree.id]\n",
    "    return get_leaf_order(tree.left) + get_leaf_order(tree.right)\n",
    "\n",
    "# Get the order of leaves\n",
    "leaf_order = get_leaf_order(tree)\n",
    "\n",
    "# Function to allocate risk proportionally\n",
    "def allocate_risk(cov_matrix, leaf_order):\n",
    "    n = len(cov_matrix)\n",
    "    weights = np.zeros(n)\n",
    "    cluster_var = np.diag(cov_matrix)\n",
    "    total_var = np.sum(cluster_var)\n",
    "    for i, ticker in enumerate(leaf_order):\n",
    "        weights[ticker] = cluster_var[i] / total_var\n",
    "    return weights\n",
    "\n",
    "# Allocate risk proportionally\n",
    "weights = allocate_risk(cov_matrix, leaf_order)\n",
    "\n",
    "# Select the top 10 tickers with the highest weights\n",
    "selected_tickers = returns_train_filtered.columns[np.argsort(weights)[-10:][::-1]]\n",
    "\n",
    "# Get the weights for the selected tickers\n",
    "selected_weights = weights[np.argsort(weights)[-10:][::-1]]\n",
    "\n",
    "# Normalize the selected weights to ensure they sum to 1\n",
    "selected_weights /= np.sum(selected_weights)\n",
    "\n",
    "if len(selected_tickers) < 10:\n",
    "    print(f'===== There are only {len(selected_tickers)} selected_tickers. It is less than 10. Stay in CASH =====')\n",
    "    print(f'===== They are {selected_tickers.tolist()} =====\\n')\n",
    "    selected_tickers = ['CASH']\n",
    "    selected_weights = [1.0]    \n",
    "\n",
    "# Print the selected tickers and their normalized weights\n",
    "print(\"Selected tickers for the diversified portfolio using HRP:\")\n",
    "print(selected_tickers)\n",
    "print(\"Normalized portfolio weights for the selected tickers:\")\n",
    "print(selected_weights)\n",
    "\n",
    "# Verify that the weights sum to 1\n",
    "print(\"Sum of weights:\", np.sum(selected_weights))"
   ]
  },
  {
   "cell_type": "code",
   "execution_count": 34,
   "id": "ef8c36c9",
   "metadata": {},
   "outputs": [],
   "source": [
    "# selected_tickers = ['CASH']\n",
    "# selected_weights = [1.0]   "
   ]
  },
  {
   "cell_type": "code",
   "execution_count": 35,
   "id": "8f2e5c06",
   "metadata": {},
   "outputs": [
    {
     "name": "stdout",
     "output_type": "stream",
     "text": [
      "Daily values of the portfolio and 'VGT':\n",
      "            Portfolio_Cumulative  VGT_Cumulative\n",
      "Date                                            \n",
      "2016-02-01              1.003007        1.002453\n",
      "2016-02-02              1.004846        0.982144\n",
      "2016-02-03              0.992095        0.979888\n",
      "2016-02-04              0.991954        0.982243\n",
      "2016-02-05              0.986266        0.945453\n",
      "2016-02-08              0.988094        0.928382\n",
      "2016-02-09              0.991294        0.924066\n",
      "2016-02-10              0.992144        0.928284\n",
      "2016-02-11              0.994679        0.925046\n",
      "2016-02-12              0.994134        0.938585\n",
      "2016-02-16              0.998128        0.958109\n",
      "2016-02-17              0.999690        0.981654\n",
      "2016-02-18              1.006570        0.975474\n",
      "2016-02-19              1.009567        0.979398\n",
      "2016-02-22              1.008544        0.992838\n",
      "2016-02-23              1.008626        0.975964\n",
      "2016-02-24              1.008008        0.985382\n",
      "2016-02-25              1.011630        0.996959\n",
      "2016-02-26              1.006798        0.995978\n",
      "2016-02-29              1.009887        0.990287\n",
      "2016-03-01              1.015207        1.020308\n",
      "2016-03-02              1.017509        1.022957\n",
      "2016-03-03              1.018469        1.023350\n",
      "2016-03-04              1.005881        1.026489\n",
      "2016-03-07              1.008767        1.020897\n",
      "2016-03-08              1.016776        1.010694\n",
      "2016-03-09              1.021459        1.020211\n",
      "2016-03-10              1.021648        1.017953\n",
      "2016-03-11              1.019044        1.035711\n",
      "2016-03-14              1.021516        1.036104\n"
     ]
    },
    {
     "data": {
      "image/png": "[encoded data removed]",
      "text/plain": [
       "<Figure size 1200x600 with 1 Axes>"
      ]
     },
     "metadata": {},
     "output_type": "display_data"
    }
   ],
   "source": [
    "import numpy as np\n",
    "import pandas as pd\n",
    "\n",
    "# Ensure returns_test is a DataFrame with daily returns for all tickers\n",
    "# returns_test should have a DatetimeIndex and columns for each ticker\n",
    "\n",
    "# Extract the daily returns for the selected tickers\n",
    "selected_returns = returns_test[selected_tickers]\n",
    "\n",
    "# Extract the daily returns for 'VGT'\n",
    "vgt_returns = returns_test['VGT']\n",
    "\n",
    "# Calculate the daily portfolio value\n",
    "portfolio_value = selected_returns.dot(selected_weights)\n",
    "\n",
    "# Create a DataFrame to store the daily values\n",
    "daily_values = pd.DataFrame({\n",
    "    'Portfolio': portfolio_value,\n",
    "    'VGT': vgt_returns\n",
    "})\n",
    "\n",
    "# Calculate the cumulative returns for the portfolio and 'VGT'\n",
    "daily_values['Portfolio_Cumulative'] = (1 + daily_values['Portfolio']).cumprod()\n",
    "daily_values['VGT_Cumulative'] = (1 + daily_values['VGT']).cumprod()\n",
    "\n",
    "# Print the daily values\n",
    "print(\"Daily values of the portfolio and 'VGT':\")\n",
    "print(daily_values[['Portfolio_Cumulative', 'VGT_Cumulative']])\n",
    "\n",
    "# Plot the cumulative returns for comparison\n",
    "import matplotlib.pyplot as plt\n",
    "\n",
    "plt.figure(figsize=(12, 6))\n",
    "plt.plot(daily_values.index, daily_values['Portfolio_Cumulative'], label='Portfolio')\n",
    "plt.plot(daily_values.index, daily_values['VGT_Cumulative'], label='VGT')\n",
    "plt.title('Daily Cumulative Returns: Portfolio vs VGT')\n",
    "plt.xlabel('Date')\n",
    "plt.ylabel('Cumulative Returns')\n",
    "plt.legend()\n",
    "plt.show()"
   ]
  },
  {
   "cell_type": "code",
   "execution_count": 36,
   "id": "b1f0afaf",
   "metadata": {},
   "outputs": [
    {
     "name": "stdout",
     "output_type": "stream",
     "text": [
      "Data appended to c:\\Users\\ping\\Files_win10\\python\\py311\\stocks\\notebooks_PyPortfOpt\\_working\\temp\\portfolio_daily_return.csv\n"
     ]
    }
   ],
   "source": [
    "import pandas as pd\n",
    "import os\n",
    "\n",
    "# Portfolio and Benchmark daily Value to save to csv\n",
    "# portfolio_daily_return = daily_values[['Portfolio_Cumulative', 'VGT_Cumulative']]\n",
    "portfolio_daily_return = daily_values[['Portfolio', 'VGT']].copy()\n",
    "\n",
    "# Define the path for the temporary directory\n",
    "temp_data_dir = NOTEBOOK_DIR / \"temp\"\n",
    "\n",
    "# Define the CSV file name\n",
    "# csv_file_name = 'portfolio daily value.csv'\n",
    "csv_file_name = temp_data_dir / 'portfolio_daily_return.csv'\n",
    "\n",
    "# Check if the file exists\n",
    "if os.path.exists(csv_file_name):\n",
    "    # Read the existing CSV file into a DataFrame\n",
    "    existing_data = pd.read_csv(csv_file_name, index_col='Date', parse_dates=True)\n",
    "    \n",
    "    # Ensure the existing DataFrame has the same columns as portfolio_daily_return\n",
    "    existing_data = existing_data[portfolio_daily_return.columns]\n",
    "    \n",
    "    # Append the new data to the existing DataFrame\n",
    "    updated_data = pd.concat([existing_data, portfolio_daily_return], ignore_index=False)\n",
    "    \n",
    "    # Save the updated DataFrame back to the CSV file\n",
    "    updated_data.to_csv(csv_file_name, index=True)\n",
    "    print(f\"Data appended to {csv_file_name}\")\n",
    "else:\n",
    "    # Save the new DataFrame to the CSV file, including the date index\n",
    "    portfolio_daily_return.to_csv(csv_file_name, index=True)\n",
    "    print(f\"New file created and data saved to {csv_file_name}\")"
   ]
  },
  {
   "cell_type": "code",
   "execution_count": 37,
   "id": "5ab15e5a",
   "metadata": {},
   "outputs": [
    {
     "data": {
      "image/png": "[encoded data removed]",
      "text/plain": [
       "<Figure size 640x480 with 1 Axes>"
      ]
     },
     "metadata": {},
     "output_type": "display_data"
    }
   ],
   "source": [
    "import matplotlib.pyplot as plt\n",
    "import numpy as np\n",
    "\n",
    "# Create a list of counts\n",
    "# counts = [count_true_30, count_true_60, count_true_120, count_true_240]\n",
    "counts = [count_true_240, count_true_120, count_true_60, count_true_30]\n",
    "\n",
    "# Create a list of labels for the x-axis\n",
    "# labels = ['30', '60', '120', '240']\n",
    "labels = ['240', '120', '60', '30']\n",
    "\n",
    "# # Create a bar chart\n",
    "# plt.bar(labels, counts, color=['blue', 'green', 'red', 'purple'])\n",
    "\n",
    "# Create line chart\n",
    "plt.plot(labels, counts, marker='o', linestyle='-', color='blue')\n",
    "\n",
    "# Add titles and labels\n",
    "# plt.title('Count of True Values for Different Time Periods')\n",
    "plt.title('Tickers with Sharpe Ratio > Benchmark for Past 240, 120, 60, 30 Days')\n",
    "plt.xlabel('Past Period (days)')\n",
    "plt.ylabel('Count of Tickers')\n",
    "\n",
    "# # Show the plot\n",
    "plt.show()"
   ]
  },
  {
   "cell_type": "code",
   "execution_count": 38,
   "id": "c6fe3083",
   "metadata": {},
   "outputs": [
    {
     "name": "stdout",
     "output_type": "stream",
     "text": [
      "The following tickers are not in the df_finviz's index and will be excluded: ['CMF']\n",
      "\n",
      "DataFrame with selected tickers and specified columns:\n",
      "                                      Company          Index              Sector                     Industry                                               Info\n",
      "VGIT  Vanguard Intermediate-Term Treasury ETF              -           Financial         Exchange Traded Fund  Financial, Exchange Traded Fund, Bonds - Treas...\n",
      "IESC                         IES Holdings Inc            RUT         Industrials   Engineering & Construction            Industrials, Engineering & Construction\n",
      "MCD                           McDonald's Corp  DJIA, S&P 500   Consumer Cyclical                  Restaurants                     Consumer Cyclical, Restaurants\n",
      "HRL                         Hormel Foods Corp        S&P 500  Consumer Defensive               Packaged Foods                 Consumer Defensive, Packaged Foods\n",
      "ADC                         Agree Realty Corp              -         Real Estate                REIT - Retail                         Real Estate, REIT - Retail\n",
      "DLR                  Digital Realty Trust Inc        S&P 500         Real Estate             REIT - Specialty                      Real Estate, REIT - Specialty\n",
      "IEI        iShares 3-7 Year Treasury Bond ETF              -           Financial         Exchange Traded Fund  Financial, Exchange Traded Fund, Bonds - Treas...\n",
      "AWK              American Water Works Co. Inc        S&P 500           Utilities  Utilities - Regulated Water             Utilities, Utilities - Regulated Water\n",
      "O                          Realty Income Corp        S&P 500         Real Estate                REIT - Retail                         Real Estate, REIT - Retail\n"
     ]
    }
   ],
   "source": [
    "import pandas as pd\n",
    "\n",
    "if selected_tickers[0] != 'CASH':\n",
    "    # Define the columns you want to include in the new DataFrame\n",
    "    cols = [\n",
    "        'Company',\n",
    "        'Index',\n",
    "        'Sector',\n",
    "        'Industry',\n",
    "        'Info',\n",
    "    ]\n",
    "\n",
    "    missing_tickers = []\n",
    "    \n",
    "    # Filter out tickers that are not in the DataFrame's index\n",
    "    valid_tickers = [ticker for ticker in selected_tickers if ticker in df_finviz.index]\n",
    "    missing_tickers = [ticker for ticker in selected_tickers if ticker not in df_finviz.index]\n",
    "\n",
    "    # Print missing tickers\n",
    "    if missing_tickers:\n",
    "        print(f\"The following tickers are not in the df_finviz's index and will be excluded: {missing_tickers}\\n\")\n",
    "\n",
    "    # Check if there are any valid tickers left\n",
    "    if not valid_tickers:\n",
    "        print(\"None of the selected tickers are in the DataFrame's index.\")\n",
    "    else:\n",
    "        # Filter the DataFrame to include only the valid tickers\n",
    "        df_selected = df_finviz.loc[valid_tickers]\n",
    "\n",
    "        # Select the specified columns\n",
    "        df_selected = df_selected[cols]\n",
    "\n",
    "        # Print the resulting DataFrame\n",
    "        print(\"DataFrame with selected tickers and specified columns:\")\n",
    "        print(df_selected)\n",
    "else:\n",
    "    print(f'All CASH portfolio')"
   ]
  },
  {
   "cell_type": "code",
   "execution_count": 39,
   "id": "a544da9a",
   "metadata": {},
   "outputs": [
    {
     "name": "stdout",
     "output_type": "stream",
     "text": [
      "count sharpe_ratio_30 > vgt_sharpe_30: 824\n",
      "count sharpe_ratio_60 > vgt_sharpe_60: 695\n",
      "count sharpe_ratio_120 > vgt_sharpe_120: 495\n",
      "count sharpe_ratio_240 > vgt_sharpe_240: 539\n",
      "\n",
      "335 tickers, or 27.55%, have higher Sharpe Ratio than Benchmark for all four periods:\n",
      "Index(['IESC', 'MUB', 'AWK', 'HMY', 'MBB', 'IEI', 'CMF', 'SCHR', 'ATO', 'VMBS', 'SBSW', 'VGIT', 'MCD', 'SPTS', 'HRL', 'O', 'ADC', 'IEF', 'DLR', 'NNN'], dtype='object', name='Ticker')\n"
     ]
    }
   ],
   "source": [
    "print(f'count sharpe_ratio_30 > vgt_sharpe_30: {count_true_30}')\n",
    "print(f'count sharpe_ratio_60 > vgt_sharpe_60: {count_true_60}')\n",
    "print(f'count sharpe_ratio_120 > vgt_sharpe_120: {count_true_120}')\n",
    "print(f'count sharpe_ratio_240 > vgt_sharpe_240: {count_true_240}')\n",
    "\n",
    "# Print the tickers\n",
    "print(f\"\\n{n_higher_sharpe_tickers} tickers, or {pct_higher_sharpe_tickers:.2f}%, have higher Sharpe Ratio than Benchmark for all four periods:\")\n",
    "print(tickers_with_highest_sharpe)"
   ]
  },
  {
   "cell_type": "code",
   "execution_count": 40,
   "id": "cd66f243",
   "metadata": {},
   "outputs": [
    {
     "name": "stdout",
     "output_type": "stream",
     "text": [
      "returns[missing_tickers]:\n",
      "Ticker           CMF\n",
      "Date                \n",
      "2015-01-05  0.002465\n",
      "2015-01-06  0.003898\n",
      "2015-01-07  0.003039\n",
      "2015-01-08 -0.001598\n",
      "2015-01-09  0.001010\n",
      "...              ...\n",
      "2016-01-25  0.000335\n",
      "2016-01-26 -0.002266\n",
      "2016-01-27  0.001767\n",
      "2016-01-28 -0.000251\n",
      "2016-01-29  0.001847\n",
      "\n",
      "[270 rows x 1 columns]\n"
     ]
    }
   ],
   "source": [
    "if selected_tickers[0] != 'CASH':\n",
    "    print(f'returns[missing_tickers]:\\n{returns_train[missing_tickers]}')\n",
    "else:\n",
    "    print(f'returns[\"CASH\"]:\\n{returns_train[\"CASH\"]}')"
   ]
  }
 ],
 "metadata": {
  "kernelspec": {
   "display_name": "py311-py3.11",
   "language": "python",
   "name": "python3"
  },
  "language_info": {
   "codemirror_mode": {
    "name": "ipython",
    "version": 3
   },
   "file_extension": ".py",
   "mimetype": "text/x-python",
   "name": "python",
   "nbconvert_exporter": "python",
   "pygments_lexer": "ipython3",
   "version": "3.11.9"
  }
 },
 "nbformat": 4,
 "nbformat_minor": 5
}
