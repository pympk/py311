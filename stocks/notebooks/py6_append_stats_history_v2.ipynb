{
 "cells": [
  {
   "cell_type": "code",
   "execution_count": null,
   "metadata": {},
   "outputs": [],
   "source": []
  },
  {
   "cell_type": "code",
   "execution_count": 1,
   "metadata": {},
   "outputs": [
    {
     "name": "stdout",
     "output_type": "stream",
     "text": [
      "Python will look in these locations:\n",
      "['C:\\\\Users\\\\ping\\\\.pyenv\\\\pyenv-win\\\\versions\\\\3.11.9\\\\python311.zip', 'C:\\\\Users\\\\ping\\\\.pyenv\\\\pyenv-win\\\\versions\\\\3.11.9\\\\DLLs', 'C:\\\\Users\\\\ping\\\\.pyenv\\\\pyenv-win\\\\versions\\\\3.11.9\\\\Lib', 'C:\\\\Users\\\\ping\\\\.pyenv\\\\pyenv-win\\\\versions\\\\3.11.9', 'c:\\\\Users\\\\ping\\\\Files_win10\\\\python\\\\py311\\\\.venv', '', 'c:\\\\Users\\\\ping\\\\Files_win10\\\\python\\\\py311\\\\.venv\\\\Lib\\\\site-packages', 'c:\\\\Users\\\\ping\\\\Files_win10\\\\python\\\\py311\\\\.venv\\\\Lib\\\\site-packages\\\\win32', 'c:\\\\Users\\\\ping\\\\Files_win10\\\\python\\\\py311\\\\.venv\\\\Lib\\\\site-packages\\\\win32\\\\lib', 'c:\\\\Users\\\\ping\\\\Files_win10\\\\python\\\\py311\\\\.venv\\\\Lib\\\\site-packages\\\\Pythonwin', 'c:\\\\Users\\\\ping\\\\Files_win10\\\\python\\\\py311\\\\stocks\\\\src']\n",
      "c:\\Users\\ping\\Files_win10\\python\\py311\\stocks\\src\\utils.py\n",
      "path_date: ..\\data\\2025-04-25_df_finviz_merged_stocks_etfs.parquet\n"
     ]
    }
   ],
   "source": [
    "import sys\n",
    "from pathlib import Path\n",
    "import pandas as pd\n",
    "\n",
    "# Notebook cell\n",
    "%load_ext autoreload\n",
    "%autoreload 2\n",
    "\n",
    "# Get root directory (assuming notebook is in root/notebooks/)\n",
    "NOTEBOOK_DIR = Path.cwd()\n",
    "ROOT_DIR = NOTEBOOK_DIR.parent if NOTEBOOK_DIR.name == 'notebooks' else NOTEBOOK_DIR\n",
    "\n",
    "# Add src directory to Python path\n",
    "sys.path.append(str(ROOT_DIR / 'src'))\n",
    "\n",
    "# Verify path\n",
    "print(f\"Python will look in these locations:\\n{sys.path}\")\n",
    "\n",
    "\n",
    "# --- Execute the processor ---\n",
    "import utils\n",
    "from config import date_str, DOWNLOAD_DIR, DEST_DIR\n",
    "\n",
    "path_data = f'..\\data\\{date_str}_df_finviz_merged_stocks_etfs.parquet'\n",
    "# path_corr = '..\\data\\df_corr_emv_matrix.parquet'\n",
    "# path_cov = '..\\data\\df_cov_emv_matrix.parquet'\n",
    "# path_output = f'..\\picks\\{date_str}_portf.txt'\n",
    "\n",
    "\n",
    "print(utils.__file__)  # Should point to your src/utils.py\n",
    "print(f'path_date: {path_data}')\n",
    "# print(f'path_corr: {path_corr}')\n",
    "# print(f'path_cov: {path_cov}')  \n",
    "# print(f'path_output: {path_output}')\n",
    "# print((f'date_str: {date_str}'))\n",
    "\n"
   ]
  },
  {
   "cell_type": "code",
   "execution_count": 2,
   "metadata": {},
   "outputs": [],
   "source": [
    "import pandas as pd\n",
    "# Set pandas display options to show more columns and rows\n",
    "pd.set_option('display.max_columns', None)  # Show all columns\n",
    "# pd.set_option('display.max_rows', 10)       # Limit to 10 rows for readability\n",
    "# pd.set_option('display.width', None)        # Let the display adjust to the window\n",
    "# pd.set_option('display.max_colwidth', None) # Show full content of each cell\n",
    "pd.set_option('display.max_rows', 100)\n",
    "pd.set_option('display.width', 2000)        # Let the display adjust to the window0)\n",
    "pd.set_option('display.float_format', '{:.4f}'.format)"
   ]
  },
  {
   "cell_type": "code",
   "execution_count": 3,
   "metadata": {},
   "outputs": [],
   "source": [
    "import pandas as pd\n",
    "\n",
    "def get_column_values_above_threshold(df, column_name='Avg Volume, M', threshold=0.75):\n",
    "  \"\"\"\n",
    "  Analyzes the number and percentage of values in a DataFrame column that are above a specified threshold,\n",
    "  and returns the filtered DataFrame.\n",
    "\n",
    "  Args:\n",
    "    df (pd.DataFrame): The input DataFrame.\n",
    "    column_name (str): The name of the column to analyze. Defaults to 'Avg Volume, M'.\n",
    "    threshold (float): The threshold value to compare against. Defaults to 1.00.\n",
    "\n",
    "  Returns:\n",
    "    pd.DataFrame: A DataFrame containing only the rows where the specified column's value is above the threshold.\n",
    "  \"\"\"\n",
    "  \n",
    "  count_before = len(df)\n",
    "  above_threshold_df = df[df[column_name] > threshold]\n",
    "  count_after = len(above_threshold_df)\n",
    "  percentage = (count_after / len(df)) * 100\n",
    "\n",
    "  print(f\"count_before: {count_before}\")\n",
    "  print(f\"count_after above threshold ({threshold}): {count_after}\")\n",
    "  print(f\"Percentage above threshold ({threshold}): {percentage:.2f}%\")\n",
    "\n",
    "  return above_threshold_df\n"
   ]
  },
  {
   "cell_type": "code",
   "execution_count": 4,
   "metadata": {},
   "outputs": [
    {
     "name": "stdout",
     "output_type": "stream",
     "text": [
      "\n",
      "df_data.shape: (1537, 136)\n",
      "        No.                Company               Index                  Sector                        Industry Country Exchange  Market Cap, M     P/E  Fwd P/E    PEG     P/S     P/B     P/C   P/FCF  Book/sh  Cash/sh  Dividend %  Dividend TTM Dividend Ex Date  Payout Ratio %     EPS  EPS next Q  EPS this Y %  EPS next Y %  EPS past 5Y %  EPS next 5Y %  Sales past 5Y %  Sales Q/Q %  EPS Q/Q %  EPS YoY TTM %  Sales YoY TTM %    Sales, M   Income, M  EPS Surprise %  Revenue Surprise %  Outstanding, M   Float, M  Float %  Insider Own %  Insider Trans %  Inst Own %  Inst Trans %  Short Float %  Short Ratio  Short Interest, M   ROA %    ROE %   ROI %  Curr R  Quick R  LTDebt/Eq  Debt/Eq  Gross M %  Oper M %  Profit M %  Perf 3D %  Perf Week %  Perf Month %  Perf Quart %  Perf Half %  Perf Year %  Perf YTD %   Beta     ATR  ATR/Price %  Volatility W %  Volatility M %  SMA20 %  SMA50 %  SMA200 %  50D High %  50D Low %  52W High %  52W Low %        52W Range  All-Time High %  All-Time Low %     RSI  Earnings    IPO Date Optionable Shortable    Employees  Change from Open %   Gap %  Recom  Avg Volume, M  Rel Volume     Volume  Target Price  Prev Close     Open     High      Low    Price  Change % Single Category Asset Type  Expense %  Holdings  AUM, M  Flows 1M, M  Flows% 1M  Flows 3M, M  Flows% 3M  Flows YTD, M  Flows% YTD  Return% 1Y  Return% 3Y  Return% 5Y Tags  Sharpe 3d  Sortino 3d  Omega 3d  Sharpe 5d  Sortino 5d  Omega 5d  Sharpe 10d  Sortino 10d  Omega 10d  Sharpe 15d  Sortino 15d  Omega 15d  Sharpe 30d  Sortino 30d  Omega 30d  Sharpe 60d  Sortino 60d  Omega 60d  Sharpe 120d  Sortino 120d  Omega 120d  Sharpe 250d  Sortino 250d  Omega 250d\n",
      "Ticker                                                                                                                                                                                                                                                                                                                                                                                                                                                                                                                                                                                                                                                                                                                                                                                                                                                                                                                                                                                                                                                                                                                                                                                                                                                                                                                                                                                                                                                                                                                                                                                                                                                                                                                          \n",
      "AAPL      1              Apple Inc  DJIA, NDX, S&P 500              Technology            Consumer Electronics     USA     NASD   3143820.0000 33.2700  26.3100 3.7500  7.9400 47.1500 58.4600 31.9800   4.4400   3.5800      0.4900        1.0000        2/10/2025         16.1100  6.2900      1.6100        7.5800        9.5300        15.4100         8.8800           9.1800       3.9500    10.1300        -2.1400           2.6100 395760.0000  96150.0000          2.2300              0.0300      15040.0000 15010.0000  99.7800         0.0900          -3.5200     63.8600        1.4500         0.7500       1.8500           113.1300 27.5700 136.5200 63.8000  0.9200   0.8800     1.2600   1.4500    46.5200   31.7600     24.3000     4.7762       6.2400       -5.5300       -6.0600     -11.2700      25.3900    -16.4300 1.2800  9.2600       4.4247          2.4300          4.9300   3.8300  -4.4200   -8.0600    -16.2900    23.6800    -19.5400    24.4600  168.15 - 260.10         -19.5400     328873.8000 51.9500  May 01/a  12/12/1980        Yes       Yes  164000.0000              1.4900 -1.0400 2.0800        61.1600      0.6200   38132498      238.5900    208.3700 206.2000 209.7500 206.2000 209.2800    0.4400               -          -        NaN       NaN     NaN          NaN        NaN          NaN        NaN           NaN         NaN         NaN         NaN         NaN    -    17.9453   3802.2689  339.7330    25.7312  15666.4842 1974.7915      4.2142       6.7193     1.9157      2.6387       5.8318     1.6297      0.0084       0.0130     1.0016     -0.8624      -1.2468     0.8439      -0.3054       -0.4381      0.9399       0.7083        1.0540      1.1490\n",
      "MSFT      2  Microsoft Corporation  DJIA, NDX, S&P 500              Technology       Software - Infrastructure     USA     NASD   2913010.0000 31.5600  26.3700 2.2200 11.1300  9.6200 40.7100 41.6000  40.7100   9.6300      0.8300        3.1600        5/15/2025         25.4200 12.4200      3.2200       11.4500       12.9900        18.4500        14.2100          14.4000      12.2700    10.2300        12.3800          15.0400 261800.0000  92750.0000          3.5400              1.1100       7430.0000  7320.0000  98.5200         1.4700          -0.0400     73.3000        1.1600         0.7000       2.0200            51.2500 18.4700  34.2900 23.6000  1.3500   1.3400     0.3000   0.3400    69.4100   44.9600     35.4300     6.8235       6.5400        0.4800      -11.7600      -8.3400      -3.8600     -7.0300 0.9800 12.5700       3.2079          2.4300          3.5200   4.2600   1.1900   -5.6600     -6.5500    13.6500    -16.3300    13.6500  344.79 - 468.35         -16.3300     491688.0200 55.9600  Apr 30/a   3/13/1986        Yes       Yes  228000.0000              1.2500 -0.0800 1.3400        25.3500      0.7400   18803717      482.9800    387.3000 387.0000 392.1600 384.6000 391.8500    1.1700               -          -        NaN       NaN     NaN          NaN        NaN          NaN        NaN           NaN         NaN         NaN         NaN         NaN    -    22.6691   3802.2689  339.7330    37.1566  15666.4842 1974.7915      0.7217       1.0979     1.1202      3.0281       7.3408     1.7739      0.2752       0.5049     1.0538     -0.6847      -1.1273     0.8787      -0.2337       -0.3514      0.9575      -0.1539       -0.2152      0.9724\n",
      "NVDA      3            NVIDIA Corp  DJIA, NDX, S&P 500              Technology                  Semiconductors     USA     NASD   2708640.0000 37.7600  19.6800 1.2700 20.7600 34.2500 62.6900 44.5100   3.2400   1.7700      0.0400        0.0400        3/12/2025          1.1600  2.9400      0.8900       48.0600       27.3900        91.8300        29.6400          70.8800      77.9400    81.2300       146.2600         114.2000 130500.0000  72880.0000          4.9700              3.2300      24480.0000 23420.0000  95.7000         4.0000          -0.1300     66.4500        1.8000         1.1200       0.8300           262.9600 82.2000 119.1800 81.6000  4.4400   3.8800     0.1300   0.1300    74.9900   62.4200     55.8500    12.2560       9.3800       -2.4200      -22.1600     -22.6900      34.6800    -17.3400 2.1100  6.8200       6.1436          3.8300          6.4600   5.4100  -3.6700  -11.5900    -22.6100    28.1600    -27.5100    41.9100   78.22 - 153.13         -27.5100     332929.9900 52.4000  Feb 26/a   1/22/1999        Yes       Yes   36000.0000              3.8900  0.3900 1.4000       315.0400      0.7900  249869413      161.5900    106.4300 106.8500 111.9200 105.7300 111.0100    4.3000               -          -        NaN       NaN     NaN          NaN        NaN          NaN        NaN           NaN         NaN         NaN         NaN         NaN    -   130.0216   3802.2689  339.7330    55.5044  15666.4842 1974.7915      0.2555       0.3515     1.0400      3.3570       7.4076     1.8516     -0.6600      -1.0692     0.8867     -0.4081      -0.5982     0.9327      -0.3379       -0.4657      0.9425       0.6301        0.9104      1.1133\n",
      "AMZN      4         Amazon.com Inc  DJIA, NDX, S&P 500       Consumer Cyclical                 Internet Retail     USA     NASD   2005630.0000 34.2200  25.3500 1.8300  3.1400  7.0000 19.1500 61.0000  27.0000   9.8700         NaN           NaN                -          0.0000  5.5200      1.3700       12.6300       19.6900        36.8900        18.7100          18.3100      10.4900    85.4800        91.6100          10.9900 637960.0000  59250.0000         25.1400              0.2400      10590.0000  9490.0000  89.5900        10.5800          -1.4600     64.4700        2.7700         0.7500       1.4300            71.1900 10.2800  24.2900 14.2100  1.0600   0.8700     0.4600   0.5200    48.8500   10.8700      9.2900     9.1292       9.4900       -6.0400      -19.5300      -0.3700       5.2600    -13.8600 1.3000  9.1200       4.8257          3.4100          5.2200   4.1600  -3.8400   -5.1300    -18.2500    17.1100    -22.0700    24.6600  151.61 - 242.52         -22.0700     287884.7800 52.1400  May 01/a   5/15/1997        Yes       Yes 1556000.0000              0.8400  0.4700 1.2900        49.7200      0.7300   36313537      248.7100    186.5400 187.4200 189.9400 185.4900 188.9900    1.3100               -          -        NaN       NaN     NaN          NaN        NaN          NaN        NaN           NaN         NaN         NaN         NaN         NaN    -    25.9691   3802.2689  339.7330    38.7013  15666.4842 1974.7915      1.4725       2.6137     1.2405      2.8749       6.1657     1.6191     -0.4488      -0.6738     0.9256     -1.8235      -2.5154     0.7302       0.1666        0.2447      1.0289       0.2020        0.2853      1.0359\n",
      "GOOGL     6           Alphabet Inc        NDX, S&P 500  Communication Services  Internet Content & Information     USA     NASD   1984030.0000 18.0600  15.9300 1.3400  5.5200  5.7000 20.8100 26.5000  28.4100   7.7800      0.3100        0.8000        3/10/2025          7.4600  8.9700      2.1600       17.1700        7.9400        26.7600        13.4300          17.3000      11.8100    48.7700        37.7300          13.0200 359310.0000 111000.0000         40.0200              1.1500       5830.0000  5820.0000  99.8400        52.2800          -0.0100     38.3800        1.0800         1.1800       1.9400            68.6700 25.1500  34.7900 30.0200  1.7700   1.7700     0.0700   0.0800    58.5400   32.6000     30.8900     6.9255       7.1400       -1.8800      -19.1000      -1.9300       2.3400    -14.4400 1.0000  5.9300       3.6614          2.4800          3.8500   5.3400  -1.3600   -6.0000    -13.1100    15.2500    -21.7800    15.2500  140.53 - 207.05         -21.7800       6644.6100 54.3100  Apr 24/a   8/19/2004        Yes       Yes  183323.0000             -1.8400  3.5900 1.4600        35.4400      1.5800   55916858      202.9500    159.2800 165.0000 166.1000 161.0400 161.9600    1.6800               -          -        NaN       NaN     NaN          NaN        NaN          NaN        NaN           NaN         NaN         NaN         NaN         NaN    -    55.3908   3802.2689  339.7330    84.3988  15666.4842 1974.7915      2.5237       4.3046     1.4128      3.7731       8.6442     1.8894     -0.2660      -0.4179     0.9575     -2.1389      -2.8284     0.7019      -0.2333       -0.3347      0.9618      -0.1661       -0.2274      0.9722\n",
      "\n",
      "\n",
      "            No.  Market Cap, M        P/E   Fwd P/E      PEG       P/S       P/B        P/C     P/FCF     Book/sh     Cash/sh  Dividend %  Dividend TTM  Payout Ratio %        EPS  EPS next Q  EPS this Y %  EPS next Y %  EPS past 5Y %  EPS next 5Y %  Sales past 5Y %  Sales Q/Q %   EPS Q/Q %  EPS YoY TTM %  Sales YoY TTM %    Sales, M   Income, M  EPS Surprise %  Revenue Surprise %  Outstanding, M   Float, M   Float %  Insider Own %  Insider Trans %  Inst Own %  Inst Trans %  Short Float %  Short Ratio  Short Interest, M     ROA %      ROE %     ROI %    Curr R  Quick R  LTDebt/Eq   Debt/Eq  Gross M %   Oper M %  Profit M %  Perf 3D %  Perf Week %  Perf Month %  Perf Quart %  Perf Half %  Perf Year %  Perf YTD %      Beta        ATR  ATR/Price %  Volatility W %  Volatility M %   SMA20 %   SMA50 %  SMA200 %  50D High %  50D Low %  52W High %  52W Low %  All-Time High %  All-Time Low %       RSI    Employees  Change from Open %     Gap %     Recom  Avg Volume, M  Rel Volume         Volume  Target Price  Prev Close        Open        High         Low       Price  Change %  Expense %   Holdings      AUM, M  Flows 1M, M  Flows% 1M  Flows 3M, M  Flows% 3M  Flows YTD, M  Flows% YTD  Return% 1Y  Return% 3Y  Return% 5Y   Sharpe 3d  Sortino 3d  Omega 3d  Sharpe 5d  Sortino 5d  Omega 5d  Sharpe 10d  Sortino 10d  Omega 10d  Sharpe 15d  Sortino 15d  Omega 15d  Sharpe 30d  Sortino 30d  Omega 30d  Sharpe 60d  Sortino 60d  Omega 60d  Sharpe 120d  Sortino 120d  Omega 120d  Sharpe 250d  Sortino 250d  Omega 250d\n",
      "count 1537.0000      1141.0000  1018.0000 1100.0000 920.0000 1131.0000 1086.0000  1013.0000  978.0000   1137.0000   1015.0000   1208.0000     1180.0000       1006.0000  1134.0000   1114.0000     1127.0000     1126.0000       964.0000      1062.0000        1131.0000    1124.0000   1128.0000      1130.0000        1128.0000   1136.0000   1133.0000       1127.0000           1120.0000       1141.0000  1134.0000 1134.0000      1131.0000        1075.0000   1138.0000     1121.0000      1134.0000    1537.0000          1537.0000 1130.0000  1086.0000 1131.0000 1011.0000 898.0000  1083.0000 1083.0000  1002.0000  1128.0000   1128.0000  1537.0000    1537.0000     1537.0000     1537.0000    1537.0000    1535.0000   1537.0000 1536.0000  1537.0000    1537.0000       1537.0000       1537.0000 1537.0000 1537.0000 1537.0000   1537.0000  1537.0000   1537.0000  1537.0000        1536.0000       1535.0000 1537.0000    1091.0000           1537.0000 1537.0000 1130.0000      1537.0000   1537.0000      1537.0000     1133.0000   1537.0000   1537.0000   1537.0000   1537.0000   1537.0000 1537.0000   396.0000   395.0000    396.0000     387.0000   396.0000     393.0000   396.0000      393.0000    396.0000    396.0000    371.0000    340.0000   1537.0000   1537.0000 1537.0000  1537.0000   1537.0000 1537.0000   1537.0000    1537.0000  1537.0000   1537.0000    1537.0000  1537.0000   1537.0000    1537.0000  1537.0000   1537.0000    1537.0000  1537.0000    1537.0000     1537.0000   1537.0000    1537.0000     1537.0000   1537.0000\n",
      "mean   479.6884     60339.6319    62.9454   20.6323   4.8532    7.9729    7.7032    91.7964   37.0645    433.1585    238.4542      2.9675        2.1832         68.8091    60.6651      8.0007      113.7313       22.9209        10.4918        14.0963          22.2691      10.2341     91.0448       147.3555          11.1969  24335.2767   2615.4288          8.5729              2.9426        707.8225   651.6971   92.9055         9.2908          -3.5912     72.1160        2.9864         3.6385       2.5667            10.9826    5.5828    31.3628   10.3654    2.2970   1.8406     1.3333    1.5977    41.9589     5.2664     -6.8482     3.2238       3.6493       -2.9851       -6.0970      -2.5867      11.8560     -1.9159    0.9821    19.0390       3.7009          2.8458          4.0251    2.8651   -1.4147   -2.5510    -12.3582    16.3885    -18.4493    30.9785         -29.3996      10865.0095   52.7346   42444.1512              0.3968   -0.3720    2.0009         5.3615      0.8094   4468702.6701      867.7603    651.9059    650.7128    653.4888    645.7780    651.0158    0.0261     0.2555  1161.0987  23257.0455      56.5343     0.2483     553.1577     4.3435      697.4441      5.9370      8.4058      5.2059     10.7824     66.2618   1842.1096  165.1296    16.7535   6212.3971  783.5413      4.5102      23.1804     4.2460      2.6184       6.3687     1.8069     -0.0413       0.1214     1.0224     -0.4748      -0.5457     0.9413       0.0077        0.0906      1.0138       0.3723        0.6067      1.0809\n",
      "std    337.8642    205681.0466   438.6553   18.2333  18.1987   70.0745   25.1907   573.2224   94.2096  13389.2910   7289.6065      4.2765        2.2938        504.2548  1838.4861    212.0197     1904.0088       98.5118        30.3680        18.2167          94.3041      67.2521   1441.2882      2533.0521          77.9395  54608.0251   8738.9147        201.9343             28.6997       1622.1689  1517.2727   14.1700        17.4943          18.7542     28.9670       25.1380         3.7410       2.3134            21.8234   10.5474   340.6480   40.9165    7.5297   4.6132     4.2167    5.0002    49.4422   229.4912    388.8780     4.8795       5.0109        7.1120       14.1208      19.1506      47.8498     15.3227    0.5436   547.7316       1.7097          1.4795          1.9140    4.5201    6.1996   13.0162      9.5619    10.3111     13.6841    52.3894          22.3287      44771.4941    6.8249  105006.7311              1.6247    1.3693    0.5297        14.3211      0.5610  14995947.2998    23380.3192  20331.4703  20302.3952  20353.3961  20169.1916  20296.2607    2.2163     0.2353  2236.3756  59061.3436    1095.6674     5.8196    2501.1496    17.7065     3418.4753     22.0846     11.4011      5.6978      8.4272   1427.0000   1871.7307  166.7257    15.3187   7579.2290  955.0082      4.4501     157.8091    21.4052      2.4250       6.2825     0.8444      1.3919       2.1630     0.2802      1.3501       1.9328     0.2468       0.9303        1.3705      0.1769       0.7684        1.1938      0.1562\n",
      "min      1.0000      5490.0000     2.9100    1.6200   0.1200    0.0600    0.3200     0.5000    0.3900   -266.1800      0.0000      0.0200        0.0400          0.0000   -65.0400     -3.8000     -687.4800     -114.7100      -415.2800       -28.8200         -39.7700    -125.4100 -29750.0000     -3144.6300        -100.0000      0.0000 -19196.0000      -3215.1000           -100.0000          0.5500     0.5400    2.1700         0.0000         -95.1300      0.2100      -42.6800         0.0100       0.0100             0.0000 -100.5700 -4584.4700 -152.6500    0.0500   0.0900     0.0000    0.0000 -1333.6800 -5494.8600 -11077.2900   -25.8543     -26.5800      -34.8500      -62.2100     -64.4300     -85.8500    -62.0400   -1.1300     0.0200       0.0272          0.0100          0.0100  -26.7300  -33.9400  -58.9000    -62.1900   -14.5600    -95.5600   -14.5600         -99.9900          0.5400   26.5500      19.0000            -31.9900  -25.0000    1.0000         0.0015      0.2000       325.0000        2.8900      2.3800      2.3800      2.4000      2.3700      2.3800  -36.0600     0.0200     1.0000   3050.0000  -11430.0000   -27.8400   -5540.0000   -38.5300   -16650.0000    -37.2900    -63.5500    -34.0600    -37.5100 -13302.4408    -15.8745    0.0000   -23.6015    -13.7171    0.0000     -8.9960      -9.0310     0.0243     -7.3079      -7.1529     0.2624     -5.4167      -5.6065     0.3744     -4.4146      -5.3007     0.4535      -2.8916       -3.3990      0.5680      -2.0378       -2.5179      0.6927\n",
      "25%    193.0000      9220.0000    14.0050   10.7150   1.4275    1.3350    1.7350     9.0400   12.3425     10.1300      1.6500      1.2400        0.8500          4.0050     1.2125      0.4300        0.1000        8.1550         0.3975         6.5125           4.9150      -0.8850    -20.5275       -12.7350           0.1325   3255.0000    325.2600         -0.3650             -0.7100        109.2100    99.4400   94.0450         0.3200          -4.1950     60.9975       -0.8900         1.5500       1.3600             1.3900    1.7825     7.8200    3.7900    0.9200   0.7500     0.2800    0.3300    26.0525     9.3675      4.9250     0.4678       0.6200       -6.8700      -14.6400     -12.6400      -5.0700    -10.5500    0.6700     1.1100       2.7648          1.9900          3.0100    0.3600   -4.7800   -9.9500    -17.0300    10.1500    -26.3400    12.9500         -42.0325        206.3650   48.7100    5100.0000             -0.2200   -0.6700    1.6100         0.8593      0.5400    604108.0000       46.6700     39.2200     38.9600     39.3100     38.6100     39.0500   -0.5700     0.0700   101.0000   4930.0000    -145.8000    -1.3825    -239.3900    -2.0475     -200.7100     -2.3375      4.6250      2.0400      3.5575      2.8794      7.7456    1.6900     7.2088     23.1788    3.6528      1.8920       3.0666     1.3698      1.3301       2.1950     1.2471     -0.8406      -1.1718     0.8531     -1.3765      -1.8684     0.7740      -0.5688       -0.8060      0.8976      -0.0957       -0.1380      0.9828\n",
      "50%    387.0000     17380.0000    22.0700   16.2600   2.4150    2.7000    3.1200    19.2500   21.0000     22.4000      4.2500      2.3500        1.6550         29.1400     3.3850      0.9500        7.5600       12.0550         8.2550        10.0850           9.3900       4.8300      9.3100        11.3300           5.8050   8015.0000    767.0000          4.5800              0.9700        240.0000   217.5400   98.6350         1.1800          -0.7000     81.5300        0.6400         2.6500       2.2100             4.4700    4.9850    13.6650    7.9500    1.3600   1.1000     0.6300    0.7200    39.4500    16.7600     10.7350     2.5048       3.3100       -2.9600       -6.6600      -4.5100       5.7300     -2.5700    0.9700     2.5700       3.4808          2.6500          3.7900    2.3900   -1.4600   -3.1500    -10.7500    14.7500    -15.3100    19.1700         -22.7450        910.0400   52.5900   14400.0000              0.2900   -0.2000    1.9200         1.9800      0.6900   1400114.0000      100.0000     75.0000     74.6900     75.1700     74.1000     74.8200    0.0500     0.1800   358.0000   8595.0000      45.1800     0.4250     206.3500     1.9900      245.1400      2.3150      7.2750      4.5600     12.7350     10.5693    361.8615   33.2372    14.7607    148.8660   19.7449      4.2142       7.7661     1.9589      2.8493       5.8039     1.6925     -0.1558      -0.2244     0.9707     -0.6378      -0.9137     0.8906      -0.0766       -0.1057      0.9861       0.3745        0.5368      1.0718\n",
      "75%    765.0000     46260.0000    33.7250   23.7925   3.7200    5.4700    6.4000    45.8700   32.4400     44.8000      9.7600      3.8900        2.8400         56.1225     7.0375      2.0000       16.8200       19.4875        17.7425        15.6000          17.5950      14.2950     52.8675        46.9275          13.5625  20515.0000   2220.0000         14.0400              2.9900        598.3700   557.4175   99.6300         9.2000           0.0000     93.3700        2.6300         4.3775       3.2800            11.3400    9.5875    25.0975   14.3600    2.2000   1.6900     1.2500    1.4750    59.2000    24.9775     17.3800     5.3693       6.0800        0.4800        2.0000       4.4900      19.6450      5.5300    1.2000     5.6000       4.5772          3.6100          4.9400    5.0400    1.6400    3.9500     -4.9900    20.2700     -8.5600    33.0400         -12.1325       4481.4100   56.8300   41500.0000              0.9500    0.0600    2.3300         4.6500      0.9000   3466652.0000      192.5300    139.5900    139.9800    142.2000    138.5200    140.9900    0.7100     0.3800  1177.0000  19120.0000     236.5400     1.9425     771.8700     7.0825      985.8400      9.1925     10.4825      8.1300     16.2825     21.5255   3802.2689  339.7330    23.2962  15666.4842 1974.7915      6.8890      15.9843     3.1315      4.1238       9.3641     2.1449      0.6629       0.9772     1.1259      0.4407       0.6508     1.0842       0.6001        0.8717      1.1146       0.8027        1.1901      1.1575\n",
      "max   1160.0000   3143820.0000 10979.1000  252.2900 345.3800 1701.3200  484.8100 15049.3300 1387.7000 451507.0400 232247.4400    128.8500       35.8500      15000.0000 61913.6400   7076.9000    61103.0500     3079.2000       315.1000       186.5100        2514.6200    2110.3000  24561.9500     75461.5400        2285.2700 680990.0000 111000.0000       3400.0000            570.7600      24480.0000 23420.0000  100.0000        97.8600         441.7800    128.3900      660.0100        40.6900      33.7200           350.7000   82.2000  7616.6700 1288.1100  196.3500 112.8500    94.0000   99.6300   100.0000   123.2800    112.2400    41.4073      36.2500       45.5000       42.9100     162.6500    1005.1200     87.5800    5.1800 21474.4300      15.7212         21.3500         18.5000   28.4800   32.6500   81.3300      8.4400    82.6100      8.4400  1031.4300           5.4600     678703.5800   90.7000 2100000.0000             17.2800    9.5500    4.5000       315.0400      8.0200 271145157.0000   787061.4700 797140.0000 796000.0000 798000.0000 790777.8100 795760.0000   19.5700     1.5000 17725.0000 595010.0000    7350.0000    59.4400   35060.0000   199.8000    53130.0000    298.3800     99.9200     40.1800     50.0000  35264.1785   3802.2689  339.7330   144.7032  15666.4842 1974.7915     28.3725    2718.8641   364.3235     11.8193      46.0939     8.8756      5.4922      11.4575     2.5834      4.3487       9.1976     2.2441       3.5372        6.3683      1.9238       3.5084        6.9645      1.8428\n"
     ]
    }
   ],
   "source": [
    "df_data = pd.read_parquet(path_data)\n",
    "\n",
    "# # liquidity filter, Avg Volume, M > 0.75M\n",
    "# df_data = get_column_values_above_threshold(df_data, column_name='Avg Volume, M', threshold=0.75)\n",
    "\n",
    "# # Drop specified columns with NaNs in df_data\n",
    "# df_data = df_data.drop(['All-Time High %', 'All-Time Low %', 'Dividend %'], axis=1)\n",
    "\n",
    "# df_corr = pd.read_parquet(path_corr)\n",
    "# df_cov = pd.read_parquet(path_cov)\n",
    "\n",
    "# print(f'\\ndf_cov.shape: {df_cov.shape}')\n",
    "# print(df_cov.head())\n",
    "\n",
    "# print(f'\\ndf_corr.shape: {df_corr.shape}')\n",
    "# print(df_corr.head())\n",
    "\n",
    "print(f'\\ndf_data.shape: {df_data.shape}')\n",
    "print(df_data.head())\n",
    "print('\\n')\n",
    "print((df_data.describe()))"
   ]
  },
  {
   "cell_type": "code",
   "execution_count": 5,
   "metadata": {},
   "outputs": [],
   "source": [
    "import pandas as pd\n",
    "import os\n",
    "import datetime\n",
    "\n",
    "# --- Configuration ---\n",
    "STATS_HISTORY_FILE = 'market_daily_summary_stats_history.csv' # Where to store the history\n",
    "\n",
    "def append_daily_stats(df_daily_data, date_str, filename=STATS_HISTORY_FILE):\n",
    "    \"\"\"\n",
    "    Calculates descriptive stats for df_daily_data, flattens them,\n",
    "    and appends/updates them as a row in a historical CSV file.\n",
    "\n",
    "    Args:\n",
    "        df_daily_data (pd.DataFrame): DataFrame containing the raw data for ALL stocks for ONE specific day.\n",
    "        date_str (str): The date for this data in 'YYYY-MM-DD' format.\n",
    "        filename (str): The path to the CSV file storing the historical summary stats.\n",
    "    \"\"\"\n",
    "    print(f\"Processing stats for date: {date_str}\")\n",
    "\n",
    "    # 1. Calculate descriptive statistics for the input day's data\n",
    "    try:\n",
    "        daily_stats_raw = df_daily_data.describe()\n",
    "        print(\"Successfully calculated describe() stats.\")\n",
    "    except Exception as e:\n",
    "        print(f\"Error calculating describe() stats: {e}\")\n",
    "        return # Stop if calculation fails\n",
    "\n",
    "    # 2. Flatten the describe() output into a single row DataFrame\n",
    "    try:\n",
    "        # Unstack turns the stats (mean, std, etc.) into columns alongside the original metrics\n",
    "        stats_flat = daily_stats_raw.unstack().to_frame().T\n",
    "        # Create clearer column names like 'Metric_Statistic' (e.g., 'RSI_mean', 'SMA50 %_50%')\n",
    "        stats_flat.columns = ['_'.join(col).strip() for col in stats_flat.columns.values]\n",
    "        # Add the date to this row\n",
    "        stats_flat['Date'] = pd.to_datetime(date_str)\n",
    "        # Set the Date as the index for this single row\n",
    "        stats_flat = stats_flat.set_index('Date')\n",
    "        print(\"Successfully flattened stats into a single row.\")\n",
    "        # print(stats_flat) # Optional: print the flattened stats for verification\n",
    "\n",
    "    except Exception as e:\n",
    "        print(f\"Error flattening the stats DataFrame: {e}\")\n",
    "        return # Stop if flattening fails\n",
    "\n",
    "    # 3. Load existing history, append/update, and save\n",
    "    try:\n",
    "        df_summary_history = pd.DataFrame() # Initialize empty\n",
    "        if os.path.exists(filename):\n",
    "            print(f\"Loading existing history from: {filename}\")\n",
    "            df_summary_history = pd.read_csv(filename, index_col='Date', parse_dates=True)\n",
    "\n",
    "        # Check if the date already exists - update if it does, append if it doesn't\n",
    "        current_date = pd.to_datetime(date_str)\n",
    "        if current_date in df_summary_history.index:\n",
    "            print(f\"Updating existing entry for {date_str}\")\n",
    "            # Update existing row(s) - combines columns, replacing old values for this date\n",
    "            df_summary_history.update(stats_flat)\n",
    "            # Alternative: df_summary_history.loc[current_date] = stats_flat.iloc[0] # Direct overwrite\n",
    "        else:\n",
    "            print(f\"Appending new entry for {date_str}\")\n",
    "            df_summary_history = pd.concat([df_summary_history, stats_flat])\n",
    "\n",
    "        # Ensure the history is sorted by date\n",
    "        df_summary_history = df_summary_history.sort_index()\n",
    "\n",
    "        # Save the updated history back to CSV\n",
    "        df_summary_history.to_csv(filename, index=True) # index=True saves the Date index\n",
    "        print(f\"Successfully saved updated stats history to: {filename}\")\n",
    "\n",
    "    except Exception as e:\n",
    "        print(f\"Error loading/saving the stats history file '{filename}': {e}\")\n",
    "\n"
   ]
  },
  {
   "cell_type": "code",
   "execution_count": 6,
   "metadata": {},
   "outputs": [
    {
     "name": "stdout",
     "output_type": "stream",
     "text": [
      "-------------------- Day 1 --------------------\n",
      "Processing stats for date: 2025-04-25\n",
      "Successfully calculated describe() stats.\n",
      "Successfully flattened stats into a single row.\n",
      "Appending new entry for 2025-04-25\n",
      "Successfully saved updated stats history to: market_daily_summary_stats_history.csv\n"
     ]
    }
   ],
   "source": [
    "# Simulate processing for a couple of days\n",
    "print(\"-\" * 20, \"Day 1\", \"-\" * 20)\n",
    "append_daily_stats(df_data, date_str)"
   ]
  },
  {
   "cell_type": "code",
   "execution_count": 7,
   "metadata": {},
   "outputs": [
    {
     "name": "stdout",
     "output_type": "stream",
     "text": [
      "date_str: 2025-04-25\n",
      "            No.  Market Cap, M        P/E   Fwd P/E      PEG       P/S       P/B        P/C     P/FCF     Book/sh     Cash/sh  Dividend %  Dividend TTM  Payout Ratio %        EPS  EPS next Q  EPS this Y %  EPS next Y %  EPS past 5Y %  EPS next 5Y %  Sales past 5Y %  Sales Q/Q %   EPS Q/Q %  EPS YoY TTM %  Sales YoY TTM %    Sales, M   Income, M  EPS Surprise %  Revenue Surprise %  Outstanding, M   Float, M   Float %  Insider Own %  Insider Trans %  Inst Own %  Inst Trans %  Short Float %  Short Ratio  Short Interest, M     ROA %      ROE %     ROI %    Curr R  Quick R  LTDebt/Eq   Debt/Eq  Gross M %   Oper M %  Profit M %  Perf 3D %  Perf Week %  Perf Month %  Perf Quart %  Perf Half %  Perf Year %  Perf YTD %      Beta        ATR  ATR/Price %  Volatility W %  Volatility M %   SMA20 %   SMA50 %  SMA200 %  50D High %  50D Low %  52W High %  52W Low %  All-Time High %  All-Time Low %       RSI    Employees  Change from Open %     Gap %     Recom  Avg Volume, M  Rel Volume         Volume  Target Price  Prev Close        Open        High         Low       Price  Change %  Expense %   Holdings      AUM, M  Flows 1M, M  Flows% 1M  Flows 3M, M  Flows% 3M  Flows YTD, M  Flows% YTD  Return% 1Y  Return% 3Y  Return% 5Y   Sharpe 3d  Sortino 3d  Omega 3d  Sharpe 5d  Sortino 5d  Omega 5d  Sharpe 10d  Sortino 10d  Omega 10d  Sharpe 15d  Sortino 15d  Omega 15d  Sharpe 30d  Sortino 30d  Omega 30d  Sharpe 60d  Sortino 60d  Omega 60d  Sharpe 120d  Sortino 120d  Omega 120d  Sharpe 250d  Sortino 250d  Omega 250d\n",
      "count 1537.0000      1141.0000  1018.0000 1100.0000 920.0000 1131.0000 1086.0000  1013.0000  978.0000   1137.0000   1015.0000   1208.0000     1180.0000       1006.0000  1134.0000   1114.0000     1127.0000     1126.0000       964.0000      1062.0000        1131.0000    1124.0000   1128.0000      1130.0000        1128.0000   1136.0000   1133.0000       1127.0000           1120.0000       1141.0000  1134.0000 1134.0000      1131.0000        1075.0000   1138.0000     1121.0000      1134.0000    1537.0000          1537.0000 1130.0000  1086.0000 1131.0000 1011.0000 898.0000  1083.0000 1083.0000  1002.0000  1128.0000   1128.0000  1537.0000    1537.0000     1537.0000     1537.0000    1537.0000    1535.0000   1537.0000 1536.0000  1537.0000    1537.0000       1537.0000       1537.0000 1537.0000 1537.0000 1537.0000   1537.0000  1537.0000   1537.0000  1537.0000        1536.0000       1535.0000 1537.0000    1091.0000           1537.0000 1537.0000 1130.0000      1537.0000   1537.0000      1537.0000     1133.0000   1537.0000   1537.0000   1537.0000   1537.0000   1537.0000 1537.0000   396.0000   395.0000    396.0000     387.0000   396.0000     393.0000   396.0000      393.0000    396.0000    396.0000    371.0000    340.0000   1537.0000   1537.0000 1537.0000  1537.0000   1537.0000 1537.0000   1537.0000    1537.0000  1537.0000   1537.0000    1537.0000  1537.0000   1537.0000    1537.0000  1537.0000   1537.0000    1537.0000  1537.0000    1537.0000     1537.0000   1537.0000    1537.0000     1537.0000   1537.0000\n",
      "mean   479.6884     60339.6319    62.9454   20.6323   4.8532    7.9729    7.7032    91.7964   37.0645    433.1585    238.4542      2.9675        2.1832         68.8091    60.6651      8.0007      113.7313       22.9209        10.4918        14.0963          22.2691      10.2341     91.0448       147.3555          11.1969  24335.2767   2615.4288          8.5729              2.9426        707.8225   651.6971   92.9055         9.2908          -3.5912     72.1160        2.9864         3.6385       2.5667            10.9826    5.5828    31.3628   10.3654    2.2970   1.8406     1.3333    1.5977    41.9589     5.2664     -6.8482     3.2238       3.6493       -2.9851       -6.0970      -2.5867      11.8560     -1.9159    0.9821    19.0390       3.7009          2.8458          4.0251    2.8651   -1.4147   -2.5510    -12.3582    16.3885    -18.4493    30.9785         -29.3996      10865.0095   52.7346   42444.1512              0.3968   -0.3720    2.0009         5.3615      0.8094   4468702.6701      867.7603    651.9059    650.7128    653.4888    645.7780    651.0158    0.0261     0.2555  1161.0987  23257.0455      56.5343     0.2483     553.1577     4.3435      697.4441      5.9370      8.4058      5.2059     10.7824     66.2618   1842.1096  165.1296    16.7535   6212.3971  783.5413      4.5102      23.1804     4.2460      2.6184       6.3687     1.8069     -0.0413       0.1214     1.0224     -0.4748      -0.5457     0.9413       0.0077        0.0906      1.0138       0.3723        0.6067      1.0809\n",
      "std    337.8642    205681.0466   438.6553   18.2333  18.1987   70.0745   25.1907   573.2224   94.2096  13389.2910   7289.6065      4.2765        2.2938        504.2548  1838.4861    212.0197     1904.0088       98.5118        30.3680        18.2167          94.3041      67.2521   1441.2882      2533.0521          77.9395  54608.0251   8738.9147        201.9343             28.6997       1622.1689  1517.2727   14.1700        17.4943          18.7542     28.9670       25.1380         3.7410       2.3134            21.8234   10.5474   340.6480   40.9165    7.5297   4.6132     4.2167    5.0002    49.4422   229.4912    388.8780     4.8795       5.0109        7.1120       14.1208      19.1506      47.8498     15.3227    0.5436   547.7316       1.7097          1.4795          1.9140    4.5201    6.1996   13.0162      9.5619    10.3111     13.6841    52.3894          22.3287      44771.4941    6.8249  105006.7311              1.6247    1.3693    0.5297        14.3211      0.5610  14995947.2998    23380.3192  20331.4703  20302.3952  20353.3961  20169.1916  20296.2607    2.2163     0.2353  2236.3756  59061.3436    1095.6674     5.8196    2501.1496    17.7065     3418.4753     22.0846     11.4011      5.6978      8.4272   1427.0000   1871.7307  166.7257    15.3187   7579.2290  955.0082      4.4501     157.8091    21.4052      2.4250       6.2825     0.8444      1.3919       2.1630     0.2802      1.3501       1.9328     0.2468       0.9303        1.3705      0.1769       0.7684        1.1938      0.1562\n",
      "min      1.0000      5490.0000     2.9100    1.6200   0.1200    0.0600    0.3200     0.5000    0.3900   -266.1800      0.0000      0.0200        0.0400          0.0000   -65.0400     -3.8000     -687.4800     -114.7100      -415.2800       -28.8200         -39.7700    -125.4100 -29750.0000     -3144.6300        -100.0000      0.0000 -19196.0000      -3215.1000           -100.0000          0.5500     0.5400    2.1700         0.0000         -95.1300      0.2100      -42.6800         0.0100       0.0100             0.0000 -100.5700 -4584.4700 -152.6500    0.0500   0.0900     0.0000    0.0000 -1333.6800 -5494.8600 -11077.2900   -25.8543     -26.5800      -34.8500      -62.2100     -64.4300     -85.8500    -62.0400   -1.1300     0.0200       0.0272          0.0100          0.0100  -26.7300  -33.9400  -58.9000    -62.1900   -14.5600    -95.5600   -14.5600         -99.9900          0.5400   26.5500      19.0000            -31.9900  -25.0000    1.0000         0.0015      0.2000       325.0000        2.8900      2.3800      2.3800      2.4000      2.3700      2.3800  -36.0600     0.0200     1.0000   3050.0000  -11430.0000   -27.8400   -5540.0000   -38.5300   -16650.0000    -37.2900    -63.5500    -34.0600    -37.5100 -13302.4408    -15.8745    0.0000   -23.6015    -13.7171    0.0000     -8.9960      -9.0310     0.0243     -7.3079      -7.1529     0.2624     -5.4167      -5.6065     0.3744     -4.4146      -5.3007     0.4535      -2.8916       -3.3990      0.5680      -2.0378       -2.5179      0.6927\n",
      "25%    193.0000      9220.0000    14.0050   10.7150   1.4275    1.3350    1.7350     9.0400   12.3425     10.1300      1.6500      1.2400        0.8500          4.0050     1.2125      0.4300        0.1000        8.1550         0.3975         6.5125           4.9150      -0.8850    -20.5275       -12.7350           0.1325   3255.0000    325.2600         -0.3650             -0.7100        109.2100    99.4400   94.0450         0.3200          -4.1950     60.9975       -0.8900         1.5500       1.3600             1.3900    1.7825     7.8200    3.7900    0.9200   0.7500     0.2800    0.3300    26.0525     9.3675      4.9250     0.4678       0.6200       -6.8700      -14.6400     -12.6400      -5.0700    -10.5500    0.6700     1.1100       2.7648          1.9900          3.0100    0.3600   -4.7800   -9.9500    -17.0300    10.1500    -26.3400    12.9500         -42.0325        206.3650   48.7100    5100.0000             -0.2200   -0.6700    1.6100         0.8593      0.5400    604108.0000       46.6700     39.2200     38.9600     39.3100     38.6100     39.0500   -0.5700     0.0700   101.0000   4930.0000    -145.8000    -1.3825    -239.3900    -2.0475     -200.7100     -2.3375      4.6250      2.0400      3.5575      2.8794      7.7456    1.6900     7.2088     23.1788    3.6528      1.8920       3.0666     1.3698      1.3301       2.1950     1.2471     -0.8406      -1.1718     0.8531     -1.3765      -1.8684     0.7740      -0.5688       -0.8060      0.8976      -0.0957       -0.1380      0.9828\n",
      "50%    387.0000     17380.0000    22.0700   16.2600   2.4150    2.7000    3.1200    19.2500   21.0000     22.4000      4.2500      2.3500        1.6550         29.1400     3.3850      0.9500        7.5600       12.0550         8.2550        10.0850           9.3900       4.8300      9.3100        11.3300           5.8050   8015.0000    767.0000          4.5800              0.9700        240.0000   217.5400   98.6350         1.1800          -0.7000     81.5300        0.6400         2.6500       2.2100             4.4700    4.9850    13.6650    7.9500    1.3600   1.1000     0.6300    0.7200    39.4500    16.7600     10.7350     2.5048       3.3100       -2.9600       -6.6600      -4.5100       5.7300     -2.5700    0.9700     2.5700       3.4808          2.6500          3.7900    2.3900   -1.4600   -3.1500    -10.7500    14.7500    -15.3100    19.1700         -22.7450        910.0400   52.5900   14400.0000              0.2900   -0.2000    1.9200         1.9800      0.6900   1400114.0000      100.0000     75.0000     74.6900     75.1700     74.1000     74.8200    0.0500     0.1800   358.0000   8595.0000      45.1800     0.4250     206.3500     1.9900      245.1400      2.3150      7.2750      4.5600     12.7350     10.5693    361.8615   33.2372    14.7607    148.8660   19.7449      4.2142       7.7661     1.9589      2.8493       5.8039     1.6925     -0.1558      -0.2244     0.9707     -0.6378      -0.9137     0.8906      -0.0766       -0.1057      0.9861       0.3745        0.5368      1.0718\n",
      "75%    765.0000     46260.0000    33.7250   23.7925   3.7200    5.4700    6.4000    45.8700   32.4400     44.8000      9.7600      3.8900        2.8400         56.1225     7.0375      2.0000       16.8200       19.4875        17.7425        15.6000          17.5950      14.2950     52.8675        46.9275          13.5625  20515.0000   2220.0000         14.0400              2.9900        598.3700   557.4175   99.6300         9.2000           0.0000     93.3700        2.6300         4.3775       3.2800            11.3400    9.5875    25.0975   14.3600    2.2000   1.6900     1.2500    1.4750    59.2000    24.9775     17.3800     5.3693       6.0800        0.4800        2.0000       4.4900      19.6450      5.5300    1.2000     5.6000       4.5772          3.6100          4.9400    5.0400    1.6400    3.9500     -4.9900    20.2700     -8.5600    33.0400         -12.1325       4481.4100   56.8300   41500.0000              0.9500    0.0600    2.3300         4.6500      0.9000   3466652.0000      192.5300    139.5900    139.9800    142.2000    138.5200    140.9900    0.7100     0.3800  1177.0000  19120.0000     236.5400     1.9425     771.8700     7.0825      985.8400      9.1925     10.4825      8.1300     16.2825     21.5255   3802.2689  339.7330    23.2962  15666.4842 1974.7915      6.8890      15.9843     3.1315      4.1238       9.3641     2.1449      0.6629       0.9772     1.1259      0.4407       0.6508     1.0842       0.6001        0.8717      1.1146       0.8027        1.1901      1.1575\n",
      "max   1160.0000   3143820.0000 10979.1000  252.2900 345.3800 1701.3200  484.8100 15049.3300 1387.7000 451507.0400 232247.4400    128.8500       35.8500      15000.0000 61913.6400   7076.9000    61103.0500     3079.2000       315.1000       186.5100        2514.6200    2110.3000  24561.9500     75461.5400        2285.2700 680990.0000 111000.0000       3400.0000            570.7600      24480.0000 23420.0000  100.0000        97.8600         441.7800    128.3900      660.0100        40.6900      33.7200           350.7000   82.2000  7616.6700 1288.1100  196.3500 112.8500    94.0000   99.6300   100.0000   123.2800    112.2400    41.4073      36.2500       45.5000       42.9100     162.6500    1005.1200     87.5800    5.1800 21474.4300      15.7212         21.3500         18.5000   28.4800   32.6500   81.3300      8.4400    82.6100      8.4400  1031.4300           5.4600     678703.5800   90.7000 2100000.0000             17.2800    9.5500    4.5000       315.0400      8.0200 271145157.0000   787061.4700 797140.0000 796000.0000 798000.0000 790777.8100 795760.0000   19.5700     1.5000 17725.0000 595010.0000    7350.0000    59.4400   35060.0000   199.8000    53130.0000    298.3800     99.9200     40.1800     50.0000  35264.1785   3802.2689  339.7330   144.7032  15666.4842 1974.7915     28.3725    2718.8641   364.3235     11.8193      46.0939     8.8756      5.4922      11.4575     2.5834      4.3487       9.1976     2.2441       3.5372        6.3683      1.9238       3.5084        6.9645      1.8428\n"
     ]
    }
   ],
   "source": [
    "print(f'date_str: {date_str}')\n",
    "print(df_data.describe())"
   ]
  },
  {
   "cell_type": "code",
   "execution_count": 8,
   "metadata": {},
   "outputs": [
    {
     "name": "stdout",
     "output_type": "stream",
     "text": [
      "date_str: 2025-04-25\n",
      "        No.                Company               Index                  Sector                        Industry Country Exchange  Market Cap, M     P/E  Fwd P/E    PEG     P/S     P/B     P/C   P/FCF  Book/sh  Cash/sh  Dividend %  Dividend TTM Dividend Ex Date  Payout Ratio %     EPS  EPS next Q  EPS this Y %  EPS next Y %  EPS past 5Y %  EPS next 5Y %  Sales past 5Y %  Sales Q/Q %  EPS Q/Q %  EPS YoY TTM %  Sales YoY TTM %    Sales, M   Income, M  EPS Surprise %  Revenue Surprise %  Outstanding, M   Float, M  Float %  Insider Own %  Insider Trans %  Inst Own %  Inst Trans %  Short Float %  Short Ratio  Short Interest, M   ROA %    ROE %   ROI %  Curr R  Quick R  LTDebt/Eq  Debt/Eq  Gross M %  Oper M %  Profit M %  Perf 3D %  Perf Week %  Perf Month %  Perf Quart %  Perf Half %  Perf Year %  Perf YTD %   Beta     ATR  ATR/Price %  Volatility W %  Volatility M %  SMA20 %  SMA50 %  SMA200 %  50D High %  50D Low %  52W High %  52W Low %        52W Range  All-Time High %  All-Time Low %     RSI  Earnings    IPO Date Optionable Shortable    Employees  Change from Open %   Gap %  Recom  Avg Volume, M  Rel Volume     Volume  Target Price  Prev Close     Open     High      Low    Price  Change % Single Category Asset Type  Expense %  Holdings  AUM, M  Flows 1M, M  Flows% 1M  Flows 3M, M  Flows% 3M  Flows YTD, M  Flows% YTD  Return% 1Y  Return% 3Y  Return% 5Y Tags  Sharpe 3d  Sortino 3d  Omega 3d  Sharpe 5d  Sortino 5d  Omega 5d  Sharpe 10d  Sortino 10d  Omega 10d  Sharpe 15d  Sortino 15d  Omega 15d  Sharpe 30d  Sortino 30d  Omega 30d  Sharpe 60d  Sortino 60d  Omega 60d  Sharpe 120d  Sortino 120d  Omega 120d  Sharpe 250d  Sortino 250d  Omega 250d\n",
      "Ticker                                                                                                                                                                                                                                                                                                                                                                                                                                                                                                                                                                                                                                                                                                                                                                                                                                                                                                                                                                                                                                                                                                                                                                                                                                                                                                                                                                                                                                                                                                                                                                                                                                                                                                                          \n",
      "AAPL      1              Apple Inc  DJIA, NDX, S&P 500              Technology            Consumer Electronics     USA     NASD   3143820.0000 33.2700  26.3100 3.7500  7.9400 47.1500 58.4600 31.9800   4.4400   3.5800      0.4900        1.0000        2/10/2025         16.1100  6.2900      1.6100        7.5800        9.5300        15.4100         8.8800           9.1800       3.9500    10.1300        -2.1400           2.6100 395760.0000  96150.0000          2.2300              0.0300      15040.0000 15010.0000  99.7800         0.0900          -3.5200     63.8600        1.4500         0.7500       1.8500           113.1300 27.5700 136.5200 63.8000  0.9200   0.8800     1.2600   1.4500    46.5200   31.7600     24.3000     4.7762       6.2400       -5.5300       -6.0600     -11.2700      25.3900    -16.4300 1.2800  9.2600       4.4247          2.4300          4.9300   3.8300  -4.4200   -8.0600    -16.2900    23.6800    -19.5400    24.4600  168.15 - 260.10         -19.5400     328873.8000 51.9500  May 01/a  12/12/1980        Yes       Yes  164000.0000              1.4900 -1.0400 2.0800        61.1600      0.6200   38132498      238.5900    208.3700 206.2000 209.7500 206.2000 209.2800    0.4400               -          -        NaN       NaN     NaN          NaN        NaN          NaN        NaN           NaN         NaN         NaN         NaN         NaN    -    17.9453   3802.2689  339.7330    25.7312  15666.4842 1974.7915      4.2142       6.7193     1.9157      2.6387       5.8318     1.6297      0.0084       0.0130     1.0016     -0.8624      -1.2468     0.8439      -0.3054       -0.4381      0.9399       0.7083        1.0540      1.1490\n",
      "MSFT      2  Microsoft Corporation  DJIA, NDX, S&P 500              Technology       Software - Infrastructure     USA     NASD   2913010.0000 31.5600  26.3700 2.2200 11.1300  9.6200 40.7100 41.6000  40.7100   9.6300      0.8300        3.1600        5/15/2025         25.4200 12.4200      3.2200       11.4500       12.9900        18.4500        14.2100          14.4000      12.2700    10.2300        12.3800          15.0400 261800.0000  92750.0000          3.5400              1.1100       7430.0000  7320.0000  98.5200         1.4700          -0.0400     73.3000        1.1600         0.7000       2.0200            51.2500 18.4700  34.2900 23.6000  1.3500   1.3400     0.3000   0.3400    69.4100   44.9600     35.4300     6.8235       6.5400        0.4800      -11.7600      -8.3400      -3.8600     -7.0300 0.9800 12.5700       3.2079          2.4300          3.5200   4.2600   1.1900   -5.6600     -6.5500    13.6500    -16.3300    13.6500  344.79 - 468.35         -16.3300     491688.0200 55.9600  Apr 30/a   3/13/1986        Yes       Yes  228000.0000              1.2500 -0.0800 1.3400        25.3500      0.7400   18803717      482.9800    387.3000 387.0000 392.1600 384.6000 391.8500    1.1700               -          -        NaN       NaN     NaN          NaN        NaN          NaN        NaN           NaN         NaN         NaN         NaN         NaN    -    22.6691   3802.2689  339.7330    37.1566  15666.4842 1974.7915      0.7217       1.0979     1.1202      3.0281       7.3408     1.7739      0.2752       0.5049     1.0538     -0.6847      -1.1273     0.8787      -0.2337       -0.3514      0.9575      -0.1539       -0.2152      0.9724\n",
      "NVDA      3            NVIDIA Corp  DJIA, NDX, S&P 500              Technology                  Semiconductors     USA     NASD   2708640.0000 37.7600  19.6800 1.2700 20.7600 34.2500 62.6900 44.5100   3.2400   1.7700      0.0400        0.0400        3/12/2025          1.1600  2.9400      0.8900       48.0600       27.3900        91.8300        29.6400          70.8800      77.9400    81.2300       146.2600         114.2000 130500.0000  72880.0000          4.9700              3.2300      24480.0000 23420.0000  95.7000         4.0000          -0.1300     66.4500        1.8000         1.1200       0.8300           262.9600 82.2000 119.1800 81.6000  4.4400   3.8800     0.1300   0.1300    74.9900   62.4200     55.8500    12.2560       9.3800       -2.4200      -22.1600     -22.6900      34.6800    -17.3400 2.1100  6.8200       6.1436          3.8300          6.4600   5.4100  -3.6700  -11.5900    -22.6100    28.1600    -27.5100    41.9100   78.22 - 153.13         -27.5100     332929.9900 52.4000  Feb 26/a   1/22/1999        Yes       Yes   36000.0000              3.8900  0.3900 1.4000       315.0400      0.7900  249869413      161.5900    106.4300 106.8500 111.9200 105.7300 111.0100    4.3000               -          -        NaN       NaN     NaN          NaN        NaN          NaN        NaN           NaN         NaN         NaN         NaN         NaN    -   130.0216   3802.2689  339.7330    55.5044  15666.4842 1974.7915      0.2555       0.3515     1.0400      3.3570       7.4076     1.8516     -0.6600      -1.0692     0.8867     -0.4081      -0.5982     0.9327      -0.3379       -0.4657      0.9425       0.6301        0.9104      1.1133\n",
      "AMZN      4         Amazon.com Inc  DJIA, NDX, S&P 500       Consumer Cyclical                 Internet Retail     USA     NASD   2005630.0000 34.2200  25.3500 1.8300  3.1400  7.0000 19.1500 61.0000  27.0000   9.8700         NaN           NaN                -          0.0000  5.5200      1.3700       12.6300       19.6900        36.8900        18.7100          18.3100      10.4900    85.4800        91.6100          10.9900 637960.0000  59250.0000         25.1400              0.2400      10590.0000  9490.0000  89.5900        10.5800          -1.4600     64.4700        2.7700         0.7500       1.4300            71.1900 10.2800  24.2900 14.2100  1.0600   0.8700     0.4600   0.5200    48.8500   10.8700      9.2900     9.1292       9.4900       -6.0400      -19.5300      -0.3700       5.2600    -13.8600 1.3000  9.1200       4.8257          3.4100          5.2200   4.1600  -3.8400   -5.1300    -18.2500    17.1100    -22.0700    24.6600  151.61 - 242.52         -22.0700     287884.7800 52.1400  May 01/a   5/15/1997        Yes       Yes 1556000.0000              0.8400  0.4700 1.2900        49.7200      0.7300   36313537      248.7100    186.5400 187.4200 189.9400 185.4900 188.9900    1.3100               -          -        NaN       NaN     NaN          NaN        NaN          NaN        NaN           NaN         NaN         NaN         NaN         NaN    -    25.9691   3802.2689  339.7330    38.7013  15666.4842 1974.7915      1.4725       2.6137     1.2405      2.8749       6.1657     1.6191     -0.4488      -0.6738     0.9256     -1.8235      -2.5154     0.7302       0.1666        0.2447      1.0289       0.2020        0.2853      1.0359\n",
      "GOOGL     6           Alphabet Inc        NDX, S&P 500  Communication Services  Internet Content & Information     USA     NASD   1984030.0000 18.0600  15.9300 1.3400  5.5200  5.7000 20.8100 26.5000  28.4100   7.7800      0.3100        0.8000        3/10/2025          7.4600  8.9700      2.1600       17.1700        7.9400        26.7600        13.4300          17.3000      11.8100    48.7700        37.7300          13.0200 359310.0000 111000.0000         40.0200              1.1500       5830.0000  5820.0000  99.8400        52.2800          -0.0100     38.3800        1.0800         1.1800       1.9400            68.6700 25.1500  34.7900 30.0200  1.7700   1.7700     0.0700   0.0800    58.5400   32.6000     30.8900     6.9255       7.1400       -1.8800      -19.1000      -1.9300       2.3400    -14.4400 1.0000  5.9300       3.6614          2.4800          3.8500   5.3400  -1.3600   -6.0000    -13.1100    15.2500    -21.7800    15.2500  140.53 - 207.05         -21.7800       6644.6100 54.3100  Apr 24/a   8/19/2004        Yes       Yes  183323.0000             -1.8400  3.5900 1.4600        35.4400      1.5800   55916858      202.9500    159.2800 165.0000 166.1000 161.0400 161.9600    1.6800               -          -        NaN       NaN     NaN          NaN        NaN          NaN        NaN           NaN         NaN         NaN         NaN         NaN    -    55.3908   3802.2689  339.7330    84.3988  15666.4842 1974.7915      2.5237       4.3046     1.4128      3.7731       8.6442     1.8894     -0.2660      -0.4179     0.9575     -2.1389      -2.8284     0.7019      -0.2333       -0.3347      0.9618      -0.1661       -0.2274      0.9722\n"
     ]
    }
   ],
   "source": [
    "print(f'date_str: {date_str}')\n",
    "print(df_data.head())"
   ]
  }
 ],
 "metadata": {
  "kernelspec": {
   "display_name": ".venv",
   "language": "python",
   "name": "python3"
  },
  "language_info": {
   "codemirror_mode": {
    "name": "ipython",
    "version": 3
   },
   "file_extension": ".py",
   "mimetype": "text/x-python",
   "name": "python",
   "nbconvert_exporter": "python",
   "pygments_lexer": "ipython3",
   "version": "3.11.9"
  }
 },
 "nbformat": 4,
 "nbformat_minor": 2
}
