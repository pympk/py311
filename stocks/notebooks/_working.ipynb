{
 "cells": [
  {
   "cell_type": "code",
   "execution_count": null,
   "metadata": {},
   "outputs": [],
   "source": [
    "# Cluster statistics\n",
    "# print(\"\\n📈 Cluster Statistics:\")\n",
    "# cluster_stats = cluster_df.groupby('cluster').agg(\n",
    "#     Size=('ticker', 'count'),\n",
    "#     Avg_Correlation=('ticker', lambda x: corr_subset.loc[x,x].values.mean()),\n",
    "#     Avg_Score=('score', 'mean'),\n",
    "# ).reset_index().round(2)\n",
    "print(cluster_stats[['cluster', 'Size', 'Avg_Correlation', 'Avg_Score']].to_string(index=False))\n",
    "\n",
    "# deepseek\n",
    "# Cluster statistics\n",
    "# print(\"\\n📈 Cluster Statistics:\")\n",
    "# cluster_stats = cluster_df.groupby('cluster').agg(\n",
    "#     Size=('ticker', 'count'),\n",
    "#     Avg_Correlation=('ticker', lambda x: corr_subset.loc[x,x].values.mean()),\n",
    "#     Avg_Score=('score', 'mean'),\n",
    "# ).reset_index().round(2)\n",
    "\n",
    "# Create a dataframe to store the cluster statistics\n",
    "cluster_stats_df = cluster_stats[['cluster', 'Size', 'Avg_Correlation', 'Avg_Score']].copy()\n",
    "\n",
    "# Print the statistics\n",
    "print(cluster_stats_df.to_string(index=False))\n",
    "\n",
    "# google\n",
    "# Cluster statistics\n",
    "# print(\"\\n📈 Cluster Statistics:\")\n",
    "# cluster_stats = cluster_df.groupby('cluster').agg(\n",
    "#     Size=('ticker', 'count'),\n",
    "#     Avg_Correlation=('ticker', lambda x: corr_subset.loc[x,x].values.mean()),\n",
    "#     Avg_Score=('score', 'mean'),\n",
    "# ).reset_index().round(2)\n",
    "\n",
    "# Print the cluster statistics\n",
    "print(cluster_stats[['cluster', 'Size', 'Avg_Correlation', 'Avg_Score']].to_string(index=False))\n",
    "\n",
    "# Store the cluster statistics in a DataFrame (already done in the previous step)\n",
    "cluster_stats_df = cluster_stats[['cluster', 'Size', 'Avg_Correlation', 'Avg_Score']]"
   ]
  },
  {
   "cell_type": "code",
   "execution_count": null,
   "metadata": {},
   "outputs": [],
   "source": [
    "# Cluster statistics\n",
    "print(\"\\n📈 Cluster Statistics:\")\n",
    "cluster_stats = cluster_df.groupby('cluster').agg(\n",
    "    Size=('ticker', 'count'),\n",
    "    Avg_Correlation=('ticker', lambda x: corr_subset.loc[x,x].values.mean()),\n",
    "    Avg_Score=('score', 'mean'),\n",
    ").reset_index().round(2)\n",
    "print(cluster_stats[['cluster', 'Size', 'Avg_Correlation', 'Avg_Score']].to_string(index=False))\n",
    "\n",
    "# deepseek\n",
    "# Cluster statistics\n",
    "print(\"\\n📈 Cluster Statistics:\")\n",
    "cluster_stats = cluster_df.groupby('cluster').agg(\n",
    "    Size=('ticker', 'count'),\n",
    "    Avg_Correlation=('ticker', lambda x: corr_subset.loc[x,x].values.mean()),\n",
    "    Avg_Score=('score', 'mean'),\n",
    ").reset_index().round(2)\n",
    "\n",
    "# Create a dataframe to store the cluster statistics\n",
    "cluster_stats_df = cluster_stats[['cluster', 'Size', 'Avg_Correlation', 'Avg_Score']].copy()\n",
    "\n",
    "# Print the statistics\n",
    "print(cluster_stats_df.to_string(index=False))\n",
    "\n",
    "# google\n",
    "# Cluster statistics\n",
    "print(\"\\n📈 Cluster Statistics:\")\n",
    "cluster_stats = cluster_df.groupby('cluster').agg(\n",
    "    Size=('ticker', 'count'),\n",
    "    Avg_Correlation=('ticker', lambda x: corr_subset.loc[x,x].values.mean()),\n",
    "    Avg_Score=('score', 'mean'),\n",
    ").reset_index().round(2)\n",
    "\n",
    "# Print the cluster statistics\n",
    "print(cluster_stats[['cluster', 'Size', 'Avg_Correlation', 'Avg_Score']].to_string(index=False))\n",
    "\n",
    "# Store the cluster statistics in a DataFrame (already done in the previous step)\n",
    "cluster_stats_df = cluster_stats[['cluster', 'Size', 'Avg_Correlation', 'Avg_Score']]"
   ]
  },
  {
   "cell_type": "code",
   "execution_count": null,
   "metadata": {},
   "outputs": [],
   "source": []
  },
  {
   "cell_type": "code",
   "execution_count": 26,
   "metadata": {},
   "outputs": [
    {
     "name": "stdout",
     "output_type": "stream",
     "text": [
      "The autoreload extension is already loaded. To reload it, use:\n",
      "  %reload_ext autoreload\n",
      "Python will look in these locations:\n",
      "['C:\\\\Users\\\\ping\\\\.pyenv\\\\pyenv-win\\\\versions\\\\3.10.5\\\\python310.zip', 'C:\\\\Users\\\\ping\\\\.pyenv\\\\pyenv-win\\\\versions\\\\3.10.5\\\\DLLs', 'C:\\\\Users\\\\ping\\\\.pyenv\\\\pyenv-win\\\\versions\\\\3.10.5\\\\lib', 'C:\\\\Users\\\\ping\\\\.pyenv\\\\pyenv-win\\\\versions\\\\3.10.5', 'c:\\\\Users\\\\ping\\\\Files_win10\\\\python\\\\py310\\\\.venv', '', 'c:\\\\Users\\\\ping\\\\Files_win10\\\\python\\\\py310\\\\.venv\\\\lib\\\\site-packages', 'c:\\\\Users\\\\ping\\\\Files_win10\\\\python\\\\py310\\\\.venv\\\\lib\\\\site-packages\\\\win32', 'c:\\\\Users\\\\ping\\\\Files_win10\\\\python\\\\py310\\\\.venv\\\\lib\\\\site-packages\\\\win32\\\\lib', 'c:\\\\Users\\\\ping\\\\Files_win10\\\\python\\\\py310\\\\.venv\\\\lib\\\\site-packages\\\\Pythonwin', 'c:\\\\Users\\\\ping\\\\Files_win10\\\\python\\\\py310\\\\stocks\\\\src', 'c:\\\\Users\\\\ping\\\\Files_win10\\\\python\\\\py310\\\\stocks\\\\src', 'c:\\\\Users\\\\ping\\\\Files_win10\\\\python\\\\py310\\\\stocks\\\\src', 'c:\\\\Users\\\\ping\\\\Files_win10\\\\python\\\\py310\\\\stocks\\\\src']\n"
     ]
    },
    {
     "data": {
      "text/markdown": [
       "<span style='color:#00ffff;font-weight:500'>[Downloads] Scanned latest 60 files • Found 10 'df_finviz_2025' matches</span>"
      ],
      "text/plain": [
       "<IPython.core.display.Markdown object>"
      ]
     },
     "metadata": {},
     "output_type": "display_data"
    },
    {
     "data": {
      "text/markdown": [
       "**Available 'df_finviz_2025' files:**"
      ],
      "text/plain": [
       "<IPython.core.display.Markdown object>"
      ]
     },
     "metadata": {},
     "output_type": "display_data"
    },
    {
     "data": {
      "text/markdown": [
       "- (1) `[DOWNLOADS]` `df_finviz_2025-03-26.pkl` <span style='color:#00ffff'>(0.51 MB, 2025-03-26 15:12)</span>"
      ],
      "text/plain": [
       "<IPython.core.display.Markdown object>"
      ]
     },
     "metadata": {},
     "output_type": "display_data"
    },
    {
     "data": {
      "text/markdown": [
       "- (2) `[DOWNLOADS]` `df_finviz_2025-03-25.pkl` <span style='color:#00ffff'>(0.51 MB, 2025-03-25 15:23)</span>"
      ],
      "text/plain": [
       "<IPython.core.display.Markdown object>"
      ]
     },
     "metadata": {},
     "output_type": "display_data"
    },
    {
     "data": {
      "text/markdown": [
       "- (3) `[DOWNLOADS]` `df_finviz_2025-03-24 (1).pkl` <span style='color:#00ffff'>(0.51 MB, 2025-03-24 13:20)</span>"
      ],
      "text/plain": [
       "<IPython.core.display.Markdown object>"
      ]
     },
     "metadata": {},
     "output_type": "display_data"
    },
    {
     "data": {
      "text/markdown": [
       "- (4) `[DOWNLOADS]` `df_finviz_2025-03-24.pkl` <span style='color:#00ffff'>(0.51 MB, 2025-03-24 13:12)</span>"
      ],
      "text/plain": [
       "<IPython.core.display.Markdown object>"
      ]
     },
     "metadata": {},
     "output_type": "display_data"
    },
    {
     "data": {
      "text/markdown": [
       "- (5) `[DOWNLOADS]` `df_finviz_2025-03-21.pkl` <span style='color:#00ffff'>(0.51 MB, 2025-03-21 13:09)</span>"
      ],
      "text/plain": [
       "<IPython.core.display.Markdown object>"
      ]
     },
     "metadata": {},
     "output_type": "display_data"
    },
    {
     "data": {
      "text/markdown": [
       "- (6) `[DOWNLOADS]` `df_finviz_2025-03-20.pkl` <span style='color:#00ffff'>(0.51 MB, 2025-03-20 13:18)</span>"
      ],
      "text/plain": [
       "<IPython.core.display.Markdown object>"
      ]
     },
     "metadata": {},
     "output_type": "display_data"
    },
    {
     "data": {
      "text/markdown": [
       "- (7) `[DOWNLOADS]` `df_finviz_2025-03-19.pkl` <span style='color:#00ffff'>(0.51 MB, 2025-03-19 13:14)</span>"
      ],
      "text/plain": [
       "<IPython.core.display.Markdown object>"
      ]
     },
     "metadata": {},
     "output_type": "display_data"
    },
    {
     "data": {
      "text/markdown": [
       "- (8) `[DOWNLOADS]` `df_finviz_2025-03-18.pkl` <span style='color:#00ffff'>(0.51 MB, 2025-03-18 13:38)</span>"
      ],
      "text/plain": [
       "<IPython.core.display.Markdown object>"
      ]
     },
     "metadata": {},
     "output_type": "display_data"
    },
    {
     "data": {
      "text/markdown": [
       "- (9) `[DOWNLOADS]` `df_finviz_2025-03-17.pkl` <span style='color:#00ffff'>(0.46 MB, 2025-03-17 13:06)</span>"
      ],
      "text/plain": [
       "<IPython.core.display.Markdown object>"
      ]
     },
     "metadata": {},
     "output_type": "display_data"
    },
    {
     "data": {
      "text/markdown": [
       "- (10) `[DOWNLOADS]` `df_finviz_2025-03-14.pkl` <span style='color:#00ffff'>(0.46 MB, 2025-03-14 15:30)</span>"
      ],
      "text/plain": [
       "<IPython.core.display.Markdown object>"
      ]
     },
     "metadata": {},
     "output_type": "display_data"
    },
    {
     "name": "stdout",
     "output_type": "stream",
     "text": [
      "\n",
      "Input a number to select file (1-10)\n"
     ]
    },
    {
     "data": {
      "text/markdown": [
       "\n",
       "    **Selected paths:**\n",
       "    - Source: `C:\\Users\\ping\\Downloads\\df_finviz_2025-03-14.pkl`  \n",
       "    - Destination: `..\\data\\df_finviz.pkl`\n",
       "    "
      ],
      "text/plain": [
       "<IPython.core.display.Markdown object>"
      ]
     },
     "metadata": {},
     "output_type": "display_data"
    }
   ],
   "source": [
    "import sys\n",
    "from pathlib import Path\n",
    "import pandas as pd\n",
    "\n",
    "# Notebook cell\n",
    "%load_ext autoreload\n",
    "%autoreload 2\n",
    "\n",
    "# Get root directory (assuming notebook is in root/notebooks/)\n",
    "NOTEBOOK_DIR = Path.cwd()\n",
    "ROOT_DIR = NOTEBOOK_DIR.parent if NOTEBOOK_DIR.name == 'notebooks' else NOTEBOOK_DIR\n",
    "\n",
    "# Add src directory to Python path\n",
    "sys.path.append(str(ROOT_DIR / 'src'))\n",
    "\n",
    "# Verify path\n",
    "print(f\"Python will look in these locations:\\n{sys.path}\")\n",
    "\n",
    "\n",
    "# --- Execute the processor ---\n",
    "import utils\n",
    "\n",
    "# SOURCE_PATH_OHLCV = '..\\data\\df_OHLCV_2025-03-07_clean.pkl'\n",
    "# SOURCE_PATH_STOCK = '..\\data\\df_finviz_stocks_n_ratios.pkl'\n",
    "# SOURCE_PATH_ETF = '..\\data\\df_finviz_etfs_n_ratios.pkl'\n",
    "\n",
    "SOURCE_PATH, DEST_PATH = utils.main_processor(\n",
    "    data_dir='..\\data',  # search project ..\\data\n",
    "    downloads_dir=None,  # None searchs Downloads dir, '' omits search1\n",
    "    downloads_limit=60,  # search the first 10 files\n",
    "    clean_name_override='df_finviz.pkl',  # override filename\n",
    "    start_file_pattern='df_finviz_2025', # search for files starting with 'df_'\n",
    ")\n"
   ]
  },
  {
   "cell_type": "code",
   "execution_count": 27,
   "metadata": {},
   "outputs": [
    {
     "name": "stdout",
     "output_type": "stream",
     "text": [
      "Extracted date: 2025-03-14\n"
     ]
    }
   ],
   "source": [
    "import re\n",
    "\n",
    "# Extract date using regex pattern\n",
    "date_pattern = r'(\\d{4}-\\d{2}-\\d{2})'\n",
    "match = re.search(date_pattern, SOURCE_PATH)\n",
    "if match:\n",
    "  date_str = match.group(1)\n",
    "  print(f\"Extracted date: {date_str}\")\n",
    "else:\n",
    "  print(\"No date found in the path\")"
   ]
  },
  {
   "cell_type": "code",
   "execution_count": 28,
   "metadata": {},
   "outputs": [],
   "source": [
    "# create_config.py\n",
    "def create_config_file(date_str):\n",
    "    \"\"\"Create config.py with date_str as a string variable\"\"\"\n",
    "    config_content = f\"\"\"# config.py\n",
    "# Automatically generated date configuration\n",
    "date_str = '{date_str}'  # Date in YYYY-MM-DD format\n",
    "\"\"\"\n",
    "    \n",
    "    with open('config.py', 'w') as f:\n",
    "        f.write(config_content)\n",
    "    \n",
    "    print(f\"config.py created successfully with date: {date_str}\")\n"
   ]
  },
  {
   "cell_type": "code",
   "execution_count": 29,
   "metadata": {},
   "outputs": [
    {
     "name": "stdout",
     "output_type": "stream",
     "text": [
      "config.py created successfully with date: 2025-03-14\n"
     ]
    }
   ],
   "source": [
    "create_config_file(date_str)"
   ]
  },
  {
   "cell_type": "code",
   "execution_count": 30,
   "metadata": {},
   "outputs": [
    {
     "name": "stdout",
     "output_type": "stream",
     "text": [
      "Date string from config: 2025-03-14\n"
     ]
    }
   ],
   "source": [
    "# script_using_config.py\n",
    "from config import date_str\n",
    "\n",
    "print(f\"Date string from config: {date_str}\")  # Direct string access"
   ]
  },
  {
   "cell_type": "code",
   "execution_count": null,
   "metadata": {},
   "outputs": [],
   "source": []
  }
 ],
 "metadata": {
  "kernelspec": {
   "display_name": ".venv",
   "language": "python",
   "name": "python3"
  },
  "language_info": {
   "codemirror_mode": {
    "name": "ipython",
    "version": 3
   },
   "file_extension": ".py",
   "mimetype": "text/x-python",
   "name": "python",
   "nbconvert_exporter": "python",
   "pygments_lexer": "ipython3",
   "version": "3.10.5"
  }
 },
 "nbformat": 4,
 "nbformat_minor": 2
}
