{
 "cells": [
  {
   "cell_type": "code",
   "execution_count": null,
   "metadata": {},
   "outputs": [],
   "source": []
  },
  {
   "cell_type": "code",
   "execution_count": 5,
   "metadata": {},
   "outputs": [
    {
     "name": "stdout",
     "output_type": "stream",
     "text": [
      "The autoreload extension is already loaded. To reload it, use:\n",
      "  %reload_ext autoreload\n",
      "Python will look in these locations:\n",
      "['C:\\\\Users\\\\ping\\\\.pyenv\\\\pyenv-win\\\\versions\\\\3.11.9\\\\python311.zip', 'C:\\\\Users\\\\ping\\\\.pyenv\\\\pyenv-win\\\\versions\\\\3.11.9\\\\DLLs', 'C:\\\\Users\\\\ping\\\\.pyenv\\\\pyenv-win\\\\versions\\\\3.11.9\\\\Lib', 'C:\\\\Users\\\\ping\\\\.pyenv\\\\pyenv-win\\\\versions\\\\3.11.9', 'c:\\\\Users\\\\ping\\\\Files_win10\\\\python\\\\py311\\\\.venv', '', 'c:\\\\Users\\\\ping\\\\Files_win10\\\\python\\\\py311\\\\.venv\\\\Lib\\\\site-packages', 'c:\\\\Users\\\\ping\\\\Files_win10\\\\python\\\\py311\\\\.venv\\\\Lib\\\\site-packages\\\\win32', 'c:\\\\Users\\\\ping\\\\Files_win10\\\\python\\\\py311\\\\.venv\\\\Lib\\\\site-packages\\\\win32\\\\lib', 'c:\\\\Users\\\\ping\\\\Files_win10\\\\python\\\\py311\\\\.venv\\\\Lib\\\\site-packages\\\\Pythonwin', 'c:\\\\Users\\\\ping\\\\Files_win10\\\\python\\\\py311\\\\stocks\\\\src', 'c:\\\\Users\\\\ping\\\\Files_win10\\\\python\\\\py311\\\\.venv\\\\Lib\\\\site-packages\\\\setuptools\\\\_vendor', 'c:\\\\Users\\\\ping\\\\Files_win10\\\\python\\\\py311\\\\stocks\\\\src', 'c:\\\\Users\\\\ping\\\\Files_win10\\\\python\\\\py311\\\\stocks\\\\src']\n"
     ]
    },
    {
     "data": {
      "text/markdown": [
       "**Available 'starting with '' and containing '.parquet'' files:**"
      ],
      "text/plain": [
       "<IPython.core.display.Markdown object>"
      ]
     },
     "metadata": {},
     "output_type": "display_data"
    },
    {
     "data": {
      "text/markdown": [
       "- (1) `[BACKTEST_RESULTS]` `df_backtest_parameter_performance.parquet` <span style='color:#00ffff'>(0.02 MB, 2025-05-13 20:06)</span>"
      ],
      "text/plain": [
       "<IPython.core.display.Markdown object>"
      ]
     },
     "metadata": {},
     "output_type": "display_data"
    },
    {
     "name": "stdout",
     "output_type": "stream",
     "text": [
      "\n",
      "Input a number to select file (1-1)\n"
     ]
    },
    {
     "data": {
      "text/markdown": [
       "\n",
       "    **Selected paths:**\n",
       "    - Source: `c:\\Users\\ping\\Files_win10\\python\\py311\\stocks\\notebooks\\output\\backtest_results\\df_backtest_parameter_performance.parquet`\n",
       "    - Destination: `c:\\Users\\ping\\Files_win10\\python\\py311\\stocks\\notebooks\\output\\backtest_results\\df_backtest_parameter_performance_clean.parquet`\n",
       "    "
      ],
      "text/plain": [
       "<IPython.core.display.Markdown object>"
      ]
     },
     "metadata": {},
     "output_type": "display_data"
    }
   ],
   "source": [
    "import sys\n",
    "from pathlib import Path\n",
    "import pandas as pd\n",
    "import os\n",
    "from IPython.display import display, Markdown  # Assuming you use these for display\n",
    "\n",
    "\n",
    "# Set pandas display options to show more columns and rows\n",
    "pd.set_option('display.max_columns', None)  # Show all columns\n",
    "# pd.set_option('display.max_rows', 10)       # Limit to 10 rows for readability\n",
    "pd.set_option('display.width', 1000) \n",
    "\n",
    "\n",
    "# Notebook cell\n",
    "%load_ext autoreload\n",
    "%autoreload 2\n",
    "\n",
    "# Get root directory (assuming notebook is in root/notebooks/)\n",
    "NOTEBOOK_DIR = Path.cwd()\n",
    "ROOT_DIR = NOTEBOOK_DIR.parent if NOTEBOOK_DIR.name == 'notebooks' else NOTEBOOK_DIR\n",
    "\n",
    "# Add src directory to Python path\n",
    "sys.path.append(str(ROOT_DIR / 'src'))\n",
    "\n",
    "# Verify path\n",
    "print(f\"Python will look in these locations:\\n{sys.path}\")\n",
    "\n",
    "\n",
    "# --- Execute the processor ---\n",
    "import utils\n",
    "\n",
    "\n",
    "SOURCE_PATH, _, params_list = utils.main_processor(\n",
    "    # data_dir='.\\\\',  # search project ..\\data\n",
    "    # data_dir='C:/Users/ping/Desktop/yloader',  # search project ..\\data\n",
    "    data_dir=r'output\\backtest_results',  # search project ..\\data    \n",
    "    downloads_dir='',  # None searchs Downloads dir, '' omits search1\n",
    "    downloads_limit=10,  # search the first 10 files\n",
    "    clean_name_override=None,  # override filename\n",
    "    start_file_pattern='', # search for files starting with 'df_'\n",
    "    contains_pattern='.parquet',  # search for files containing 'df_'\n",
    ")\n"
   ]
  },
  {
   "cell_type": "code",
   "execution_count": 6,
   "metadata": {},
   "outputs": [
    {
     "name": "stdout",
     "output_type": "stream",
     "text": [
      "        run_timestamp                          log_file selection_date actual_selection_date_used scheme  n_select_requested inv_vol_col_name  filter_min_price  filter_min_avg_volume_m  filter_min_roe_pct  filter_max_debt_eq  score_weight_rsi  score_weight_change  score_weight_rel_volume  score_weight_volatility  n_select_actual  portfolio_return  portfolio_return_normalized  num_attempted_trades  num_successful_trades  num_failed_or_skipped_trades  total_weight_traded  win_rate  average_return  std_dev_return  sharpe_ratio_period\n",
      "0 2025-05-13 20:06:18  backtest_run_20250513_200618.log     2025-04-25                 2025-04-25     EW                  10      ATR/Price %              10.0                      2.0                 5.0                 1.5              0.35                 0.35                      0.2                      0.1               10          0.008532                          NaN                    10                     10                             0                  1.0       0.7        0.008532        0.020277             0.415377\n",
      "1 2025-05-13 20:06:18  backtest_run_20250513_200618.log     2025-04-25                 2025-04-25     IV                  10      ATR/Price %              10.0                      2.0                 5.0                 1.5              0.35                 0.35                      0.2                      0.1               10          0.007522                          NaN                    10                     10                             0                  1.0       0.7        0.008532        0.020277             0.415377\n",
      "2 2025-05-13 20:06:18  backtest_run_20250513_200618.log     2025-04-25                 2025-04-25     SW                  10      ATR/Price %              10.0                      2.0                 5.0                 1.5              0.35                 0.35                      0.2                      0.1               10          0.009558                          NaN                    10                     10                             0                  1.0       0.7        0.008532        0.020277             0.415377\n"
     ]
    }
   ],
   "source": [
    "import pandas as pd\n",
    "df = pd.read_parquet(SOURCE_PATH)\n",
    "print(df)"
   ]
  },
  {
   "cell_type": "code",
   "execution_count": null,
   "metadata": {},
   "outputs": [],
   "source": []
  },
  {
   "cell_type": "code",
   "execution_count": null,
   "metadata": {},
   "outputs": [],
   "source": [
    "import pandas as pd\n",
    "import os\n",
    "# import numpy as np # Only needed if you were to use np.nan explicitly somewhere\n",
    "\n",
    "# --- SCRIPT CONFIGURATION ---\n",
    "# Define the directory where YOUR CSV files are located\n",
    "data_dir = 'C:/Users/ping/Desktop/yloader' # <--- SET YOUR ACTUAL DATA DIRECTORY HERE\n",
    "# For testing with a different directory, you can modify the line above, or temporarily use a line like:\n",
    "# data_dir = 'C:/Users/ping/Desktop/test' \n",
    "\n",
    "# Define the canonical column names for the data columns in your CSV files.\n",
    "# It is assumed that:\n",
    "# 1. CSV files do NOT have a header row.\n",
    "# 2. The FIRST column in each CSV is 'Date'.\n",
    "# 3. The columns FOLLOWING 'Date' correspond, in order, to the names in this list.\n",
    "CANONICAL_COLUMN_NAMES = ['Adj Open', 'Adj High', 'Adj Low', 'Adj Close', 'Volume']\n",
    "\n",
    "# --- CORE LOGIC ---\n",
    "def process_csv_files(data_dir_path, canonical_data_column_names):\n",
    "    \"\"\"\n",
    "    Processes multiple CSV files from a specified directory, combining them into a single DataFrame.\n",
    "\n",
    "    Each CSV file is expected to:\n",
    "    - Not have a header row.\n",
    "    - Have its first column containing dates (named 'Date' internally).\n",
    "    - Have subsequent columns matching the `canonical_data_column_names` in order and count.\n",
    "\n",
    "    The function extracts a ticker symbol from each filename (e.g., \"TICKER.csv\" -> \"TICKER\").\n",
    "    It then concatenates all data into a pandas DataFrame with a MultiIndex ('Ticker', 'Date').\n",
    "    The final DataFrame is sorted primarily by 'Ticker' (alphabetically ascending, A-Z),\n",
    "    and then, for each ticker, by 'Date' (newest first).\n",
    "\n",
    "    Args:\n",
    "        data_dir_path (str): The path to the directory containing the CSV files.\n",
    "        canonical_data_column_names (list of str): A list of column names for the data\n",
    "                                                   fields, appearing after the 'Date' column.\n",
    "\n",
    "    Returns:\n",
    "        pandas.DataFrame or None: A MultiIndex DataFrame containing all processed data,\n",
    "                                  sorted as described. Returns None if no data is\n",
    "                                  processed or a critical error occurs (e.g., directory not found).\n",
    "    \"\"\"\n",
    "    all_dataframes = []\n",
    "    tickers_list = []\n",
    "\n",
    "    # Check if the directory exists\n",
    "    if not os.path.isdir(data_dir_path):\n",
    "        print(f\"Error: Directory not found: {data_dir_path}\")\n",
    "        return None\n",
    "\n",
    "    # Get all CSV files in the directory\n",
    "    csv_files = [f for f in os.listdir(data_dir_path) \n",
    "                 if f.endswith('.csv') and os.path.isfile(os.path.join(data_dir_path, f))]\n",
    "\n",
    "    if not csv_files:\n",
    "        print(f\"No CSV files found in directory: {data_dir_path}\")\n",
    "        return None\n",
    "    \n",
    "    print(f\"Found CSV files: {csv_files}\")\n",
    "\n",
    "    # Define the complete list of column names expected in the CSV files.\n",
    "    # The first column is 'Date', followed by the canonical data columns.\n",
    "    expected_csv_column_names = ['Date'] + canonical_data_column_names\n",
    "\n",
    "    for filename in csv_files:\n",
    "        ticker = filename.replace('.csv', '') # Extract ticker from filename\n",
    "        file_path = os.path.join(data_dir_path, filename)\n",
    "        \n",
    "        try:\n",
    "            # Read the CSV file:\n",
    "            df_temp = pd.read_csv(\n",
    "                file_path,\n",
    "                header=None,\n",
    "                names=expected_csv_column_names,\n",
    "                parse_dates=['Date'] \n",
    "            )\n",
    "            \n",
    "            df_temp.set_index('Date', inplace=True)\n",
    "            \n",
    "            if not isinstance(df_temp.index, pd.DatetimeIndex):\n",
    "                print(f\"Warning: 'Date' column in {filename} could not be parsed as dates. Skipping {ticker}.\")\n",
    "                continue\n",
    "\n",
    "            if list(df_temp.columns) != canonical_data_column_names:\n",
    "                print(f\"Warning: Columns in {filename} ({list(df_temp.columns)}) \"\n",
    "                      f\"do not perfectly match or align with CANONICAL_COLUMN_NAMES ({canonical_data_column_names}) \"\n",
    "                      f\"after initial load. Reindexing to conform.\")\n",
    "                df_temp = df_temp.reindex(columns=canonical_data_column_names)\n",
    "\n",
    "            all_dataframes.append(df_temp)\n",
    "            tickers_list.append(ticker)\n",
    "            print(f\"Successfully processed: {filename}\")\n",
    "            \n",
    "        except pd.errors.EmptyDataError:\n",
    "            print(f\"Warning: File {filename} is empty or contains no data. Skipping.\")\n",
    "        except pd.errors.ParserError as pe:\n",
    "            print(f\"Error parsing file {filename}: {pe}. \"\n",
    "                  f\"Ensure it has exactly {len(expected_csv_column_names)} columns and valid data. Skipping.\")\n",
    "        except Exception as e:\n",
    "            print(f\"An unexpected error occurred while processing file {filename}: {e}. Skipping.\")\n",
    "\n",
    "    if not all_dataframes:\n",
    "        print(\"No dataframes were successfully loaded or concatenated.\")\n",
    "        return None\n",
    "\n",
    "    multi_index_df = pd.concat(all_dataframes, keys=tickers_list, names=['Ticker', 'Date'])\n",
    "    \n",
    "    # Sort the final DataFrame.\n",
    "    # Primary sort key: 'Ticker' (alphabetical ascending, A-Z).\n",
    "    # Secondary sort key: 'Date' (descending, newest dates first for each ticker).\n",
    "    # This matches the indexing pattern shown in the example:\n",
    "    # ('MDT', Timestamp('YYYY-MM-DD')) to ('SNAP', Timestamp('YYYY-MM-DD'))\n",
    "    multi_index_df.sort_index(level=['Ticker', 'Date'], ascending=[True, False], inplace=True)\n",
    "    \n",
    "    if multi_index_df.columns.has_duplicates:\n",
    "        print(\"\\nWarning: Duplicate columns detected in the final DataFrame. Merging them using 'max' strategy...\")\n",
    "        multi_index_df = multi_index_df.groupby(level=0, axis=1).max()\n",
    "        print(\"Duplicate columns merged.\")\n",
    "        \n",
    "    return multi_index_df\n",
    "\n",
    "# --- Main execution block ---\n",
    "if __name__ == \"__main__\":\n",
    "    print(\"Starting CSV processing...\")\n",
    "    final_df = process_csv_files(data_dir, CANONICAL_COLUMN_NAMES)\n",
    "\n",
    "    if final_df is not None:\n",
    "        print(\"\\n--- MultiIndex DataFrame (First 5 Rows) ---\")\n",
    "        print(final_df.head()) \n",
    "        \n",
    "        print(\"\\n--- DataFrame Info ---\")\n",
    "        final_df.info() \n",
    "\n",
    "        if not final_df.empty:\n",
    "            example_ticker_to_show = 'MDT' \n",
    "            available_tickers = final_df.index.get_level_values('Ticker').unique()\n",
    "            \n",
    "            if example_ticker_to_show not in available_tickers:\n",
    "                if len(available_tickers) > 0:\n",
    "                    example_ticker_to_show = available_tickers[0]\n",
    "                else:\n",
    "                    example_ticker_to_show = None \n",
    "            \n",
    "            if example_ticker_to_show:\n",
    "                print(f\"\\n--- First 5 rows of '{example_ticker_to_show}' data (sorted by Date descending within Ticker) ---\")\n",
    "                print(final_df.loc[example_ticker_to_show].head())\n",
    "            else:\n",
    "                print(\"\\nNo ticker data available in the final DataFrame to display as an example.\")\n",
    "    else:\n",
    "        print(\"CSV processing finished, but no data was loaded into the final DataFrame.\")"
   ]
  },
  {
   "cell_type": "code",
   "execution_count": null,
   "metadata": {},
   "outputs": [],
   "source": [
    "final_df.loc[\"AAL\"]"
   ]
  },
  {
   "cell_type": "code",
   "execution_count": null,
   "metadata": {},
   "outputs": [],
   "source": []
  },
  {
   "cell_type": "code",
   "execution_count": null,
   "metadata": {},
   "outputs": [],
   "source": []
  },
  {
   "cell_type": "code",
   "execution_count": null,
   "metadata": {},
   "outputs": [],
   "source": []
  }
 ],
 "metadata": {
  "kernelspec": {
   "display_name": ".venv",
   "language": "python",
   "name": "python3"
  },
  "language_info": {
   "codemirror_mode": {
    "name": "ipython",
    "version": 3
   },
   "file_extension": ".py",
   "mimetype": "text/x-python",
   "name": "python",
   "nbconvert_exporter": "python",
   "pygments_lexer": "ipython3",
   "version": "3.11.9"
  }
 },
 "nbformat": 4,
 "nbformat_minor": 2
}
