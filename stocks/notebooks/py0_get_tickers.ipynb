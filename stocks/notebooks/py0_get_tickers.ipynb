{
 "cells": [
  {
   "cell_type": "code",
   "execution_count": null,
   "metadata": {},
   "outputs": [],
   "source": []
  },
  {
   "cell_type": "markdown",
   "metadata": {},
   "source": [
    "#### Combine tickers in download directory's ticker files into a set of unique tickers\n",
    "#### Save the unique tickers as a csv for Yloader to download the OHLCV data for these tickers"
   ]
  },
  {
   "cell_type": "code",
   "execution_count": 1,
   "metadata": {},
   "outputs": [
    {
     "name": "stdout",
     "output_type": "stream",
     "text": [
      "Python will look in these locations:\n",
      "['C:\\\\Users\\\\ping\\\\.pyenv\\\\pyenv-win\\\\versions\\\\3.11.9\\\\python311.zip', 'C:\\\\Users\\\\ping\\\\.pyenv\\\\pyenv-win\\\\versions\\\\3.11.9\\\\DLLs', 'C:\\\\Users\\\\ping\\\\.pyenv\\\\pyenv-win\\\\versions\\\\3.11.9\\\\Lib', 'C:\\\\Users\\\\ping\\\\.pyenv\\\\pyenv-win\\\\versions\\\\3.11.9', 'c:\\\\Users\\\\ping\\\\Files_win10\\\\python\\\\py311\\\\.venv', '', 'c:\\\\Users\\\\ping\\\\Files_win10\\\\python\\\\py311\\\\.venv\\\\Lib\\\\site-packages', 'c:\\\\Users\\\\ping\\\\Files_win10\\\\python\\\\py311\\\\.venv\\\\Lib\\\\site-packages\\\\win32', 'c:\\\\Users\\\\ping\\\\Files_win10\\\\python\\\\py311\\\\.venv\\\\Lib\\\\site-packages\\\\win32\\\\lib', 'c:\\\\Users\\\\ping\\\\Files_win10\\\\python\\\\py311\\\\.venv\\\\Lib\\\\site-packages\\\\Pythonwin', 'c:\\\\Users\\\\ping\\\\Files_win10\\\\python\\\\py311\\\\stocks\\\\src']\n"
     ]
    },
    {
     "data": {
      "text/markdown": [
       "<span style='color:#00ffff;font-weight:500'>[Downloads] Scanned latest 10 files • Found 3 'ticker_2025' matches</span>"
      ],
      "text/plain": [
       "<IPython.core.display.Markdown object>"
      ]
     },
     "metadata": {},
     "output_type": "display_data"
    },
    {
     "data": {
      "text/markdown": [
       "**Available 'starting with 'ticker_2025' and containing '.csv'' files:**"
      ],
      "text/plain": [
       "<IPython.core.display.Markdown object>"
      ]
     },
     "metadata": {},
     "output_type": "display_data"
    },
    {
     "data": {
      "text/markdown": [
       "- (1) `[DOWNLOADS]` `ticker_2025-05-09_stocks_etfs.csv` <span style='color:#00ffff'>(0.01 MB, 2025-05-09 20:12)</span>"
      ],
      "text/plain": [
       "<IPython.core.display.Markdown object>"
      ]
     },
     "metadata": {},
     "output_type": "display_data"
    },
    {
     "data": {
      "text/markdown": [
       "- (2) `[DOWNLOADS]` `ticker_2025-05-08_stocks_etfs.csv` <span style='color:#00ffff'>(0.01 MB, 2025-05-08 20:16)</span>"
      ],
      "text/plain": [
       "<IPython.core.display.Markdown object>"
      ]
     },
     "metadata": {},
     "output_type": "display_data"
    },
    {
     "data": {
      "text/markdown": [
       "- (3) `[DOWNLOADS]` `ticker_2025-05-07_stocks_etfs.csv` <span style='color:#00ffff'>(0.01 MB, 2025-05-07 20:30)</span>"
      ],
      "text/plain": [
       "<IPython.core.display.Markdown object>"
      ]
     },
     "metadata": {},
     "output_type": "display_data"
    },
    {
     "name": "stdout",
     "output_type": "stream",
     "text": [
      "\n",
      "Input a number to select file (1-3)\n"
     ]
    },
    {
     "data": {
      "text/markdown": [
       "\n",
       "    **Selected paths:**\n",
       "    - Source: `C:\\Users\\ping\\Downloads\\ticker_2025-05-09_stocks_etfs.csv`\n",
       "    - Destination: `c:\\Users\\ping\\Files_win10\\python\\py311\\stocks\\notebooks\\ticker_2025-05-09_stocks_etfs_clean.csv`\n",
       "    "
      ],
      "text/plain": [
       "<IPython.core.display.Markdown object>"
      ]
     },
     "metadata": {},
     "output_type": "display_data"
    }
   ],
   "source": [
    "import sys\n",
    "from pathlib import Path\n",
    "import pandas as pd\n",
    "import os\n",
    "from IPython.display import display, Markdown  # Assuming you use these for display\n",
    "\n",
    "\n",
    "# Set pandas display options to show more columns and rows\n",
    "pd.set_option('display.max_columns', None)  # Show all columns\n",
    "# pd.set_option('display.max_rows', 10)       # Limit to 10 rows for readability\n",
    "pd.set_option('display.width', 1000) \n",
    "\n",
    "\n",
    "# Notebook cell\n",
    "%load_ext autoreload\n",
    "%autoreload 2\n",
    "\n",
    "# Get root directory (assuming notebook is in root/notebooks/)\n",
    "NOTEBOOK_DIR = Path.cwd()\n",
    "ROOT_DIR = NOTEBOOK_DIR.parent if NOTEBOOK_DIR.name == 'notebooks' else NOTEBOOK_DIR\n",
    "\n",
    "# Add src directory to Python path\n",
    "sys.path.append(str(ROOT_DIR / 'src'))\n",
    "\n",
    "# Verify path\n",
    "print(f\"Python will look in these locations:\\n{sys.path}\")\n",
    "\n",
    "\n",
    "# --- Execute the processor ---\n",
    "import utils\n",
    "\n",
    "\n",
    "_, _, ticker_csv_files = utils.main_processor(\n",
    "    data_dir='.\\\\',  # search project ..\\data\n",
    "    # data_dir='C:/Users/ping/Desktop/yloader',  # search project ..\\data\n",
    "    downloads_dir=None,  # None searchs Downloads dir, '' omits search1\n",
    "    downloads_limit=10,  # search the first 10 files\n",
    "    clean_name_override=None,  # override filename\n",
    "    start_file_pattern='ticker_2025', # search for files starting with 'df_'\n",
    "    contains_pattern='.csv',  # search for files containing 'df_'\n",
    ")\n"
   ]
  },
  {
   "cell_type": "code",
   "execution_count": 2,
   "metadata": {},
   "outputs": [
    {
     "name": "stdout",
     "output_type": "stream",
     "text": [
      "Date directory: C:/Users/ping/Downloads/\n",
      "Ticker csv files: ['ticker_2025-05-09_stocks_etfs.csv', 'ticker_2025-05-08_stocks_etfs.csv', 'ticker_2025-05-07_stocks_etfs.csv']\n"
     ]
    }
   ],
   "source": [
    "data_dir = 'C:/Users/ping/Downloads/'\n",
    "yloader_ticker_dir = r'C:\\Users\\ping\\Desktop\\yloader\\tickers'\n",
    "\n",
    "print(f'Date directory: {data_dir}')\n",
    "print(f\"Ticker csv files: {ticker_csv_files}\")\n"
   ]
  },
  {
   "cell_type": "code",
   "execution_count": 3,
   "metadata": {},
   "outputs": [],
   "source": [
    "import os\n",
    "import pandas as pd\n",
    "\n",
    "def combine_tickers_from_files(ticker_csv_files, data_dir):\n",
    "    \"\"\"\n",
    "    Reads ticker symbols from multiple CSV files, combines them,\n",
    "    and returns a sorted unique list of tickers.\n",
    "\n",
    "    Args:\n",
    "        ticker_csv_files (list): A list of filenames (e.g., ['file1.csv', 'file2.csv'])\n",
    "                            located in data_dir. Each file should be a CSV\n",
    "                            without a header and contain a single column of tickers.\n",
    "        data_dir (str): The directory path where the ticker files are located.\n",
    "\n",
    "    Returns:\n",
    "        list: A sorted list of unique ticker symbols.\n",
    "    \"\"\"\n",
    "    all_tickers = set()\n",
    "\n",
    "    for file_name in ticker_csv_files:\n",
    "        file_path = os.path.join(data_dir, file_name)\n",
    "        if not file_path.endswith('.csv'):\n",
    "            print(f\"Warning: File '{file_name}' is not a CSV file and will be skipped.\")\n",
    "            continue\n",
    "        try:\n",
    "            # Read the CSV file, assuming no header and one column\n",
    "            # Use pandas for robust CSV parsing, though a simple file read would also work\n",
    "            df = pd.read_csv(file_path, header=None, names=['ticker'])\n",
    "            if not df.empty and 'ticker' in df.columns:\n",
    "                # Convert all tickers to string and strip whitespace\n",
    "                tickers_from_file = df['ticker'].astype(str).str.strip().tolist()\n",
    "                all_tickers.update(tickers_from_file)\n",
    "            else:\n",
    "                print(f\"Warning: File '{file_name}' is empty or not formatted as expected.\")\n",
    "        except FileNotFoundError:\n",
    "            print(f\"Error: File '{file_name}' not found in directory '{data_dir}'.\")\n",
    "        except pd.errors.EmptyDataError:\n",
    "            print(f\"Warning: File '{file_name}' is empty and will be skipped.\")\n",
    "        except Exception as e:\n",
    "            print(f\"An error occurred while processing file '{file_name}': {e}\")\n",
    "\n",
    "    sorted_unique_tickers = sorted(list(all_tickers))\n",
    "    return sorted_unique_tickers\n"
   ]
  },
  {
   "cell_type": "code",
   "execution_count": 4,
   "metadata": {},
   "outputs": [
    {
     "name": "stdout",
     "output_type": "stream",
     "text": [
      "\n",
      "1576 Combined and Sorted Unique Tickers:\n",
      "ticker_list:\n",
      "['A', 'AA', 'AAL', 'AAON', 'AAPL', 'ABBV', 'ABEV', 'ABNB', 'ABT', 'ACGL', 'ACI', 'ACIW', 'ACM', 'ACN', 'ACWI', 'ACWV', 'ACWX', 'ADBE', 'ADC', 'ADI', 'ADM', 'ADMA', 'ADP', 'ADSK', 'ADT', 'AEE', 'AEG', 'AEM', 'AEP', 'AER', 'AES', 'AFG', 'AFL', 'AFRM', 'AGCO', 'AGG', 'AGI', 'AGNC', 'AIG', 'AIRR', 'AIT', 'AIZ', 'AJG', 'AKAM', 'AL', 'ALAB', 'ALB', 'ALC', 'ALGN', 'ALK', 'ALL', 'ALLE', 'ALLY', 'ALNY', 'ALSN', 'ALV', 'AM', 'AMAT', 'AMCR', 'AMD', 'AME', 'AMGN', 'AMH', 'AMLP', 'AMP', 'AMT', 'AMX', 'AMZN', 'AN', 'ANET', 'ANSS', 'AON', 'AOS', 'APA', 'APD', 'APG', 'APH', 'APO', 'APP', 'APPF', 'APTV', 'AR', 'ARCC', 'ARE', 'ARES', 'ARGX', 'ARKB', 'ARKK', 'ARM', 'ARMK', 'ARW', 'AS', 'ASML', 'ASND', 'ASR', 'ASTS', 'ASX', 'ATI', 'ATO', 'ATR', 'AU', 'AUR', 'AVAV', 'AVB', 'AVDE', 'AVDV', 'AVEM', 'AVGO', 'AVLV', 'AVTR', 'AVUS', 'AVUV', 'AVY', 'AWI', 'AWK', 'AXON', 'AXP', 'AXS', 'AXTA', 'AYI', 'AZEK', 'AZN', 'AZO', 'B', 'BA', 'BABA', 'BAC', 'BAH', 'BALL', 'BAM', 'BAP', 'BAX', 'BBAX', 'BBCA', 'BBD', 'BBEU', 'BBIN', 'BBIO', 'BBJP', 'BBUS', 'BBVA', 'BBWI', 'BBY', 'BCE', 'BCH', 'BCS', 'BDX', 'BECN', 'BEKE', 'BEN', 'BEP', 'BERY', 'BF-A', 'BF-B', 'BFAM', 'BG', 'BHP', 'BIDU', 'BIIB', 'BIL', 'BILI', 'BILS', 'BINC', 'BIO', 'BIP', 'BIRK', 'BITB', 'BIV', 'BJ', 'BK', 'BKLN', 'BKNG', 'BKR', 'BLD', 'BLDR', 'BLK', 'BLV', 'BMI', 'BMO', 'BMRN', 'BMY', 'BN', 'BND', 'BNDX', 'BNS', 'BNT', 'BNTX', 'BOKF', 'BOND', 'BOXX', 'BP', 'BPMC', 'BPOP', 'BR', 'BRBR', 'BRFS', 'BRK-A', 'BRK-B', 'BRKR', 'BRO', 'BROS', 'BRX', 'BSAC', 'BSBR', 'BSCP', 'BSCQ', 'BSCR', 'BSV', 'BSX', 'BSY', 'BTC', 'BTI', 'BUD', 'BUFR', 'BULL', 'BURL', 'BWA', 'BWXT', 'BX', 'BXP', 'BXSL', 'BYD', 'BZ', 'C', 'CACC', 'CACI', 'CAE', 'CAG', 'CAH', 'CALF', 'CARR', 'CART', 'CASY', 'CAT', 'CAVA', 'CB', 'CBOE', 'CBRE', 'CBSH', 'CCCS', 'CCEP', 'CCI', 'CCJ', 'CCK', 'CCL', 'CDNS', 'CDP', 'CDW', 'CEF', 'CEG', 'CELH', 'CF', 'CFG', 'CFLT', 'CFR', 'CG', 'CGCP', 'CGDV', 'CGGO', 'CGGR', 'CGUS', 'CGXU', 'CHD', 'CHDN', 'CHE', 'CHH', 'CHKP', 'CHRW', 'CHT', 'CHTR', 'CHWY', 'CI', 'CIBR', 'CIEN', 'CIGI', 'CINF', 'CL', 'CLH', 'CLS', 'CLX', 'CM', 'CMA', 'CMCSA', 'CME', 'CMF', 'CMG', 'CMI', 'CMS', 'CNA', 'CNC', 'CNH', 'CNI', 'CNM', 'CNP', 'CNQ', 'COF', 'COHR', 'COIN', 'COKE', 'COO', 'COOP', 'COP', 'COR', 'CORT', 'COST', 'COWZ', 'CP', 'CPAY', 'CPB', 'CPNG', 'CPRT', 'CPT', 'CQP', 'CR', 'CRBG', 'CRDO', 'CRH', 'CRK', 'CRL', 'CRM', 'CROX', 'CRS', 'CRVL', 'CRWD', 'CRWV', 'CSCO', 'CSGP', 'CSL', 'CSX', 'CTAS', 'CTRA', 'CTRE', 'CTSH', 'CTVA', 'CUBE', 'CVE', 'CVLT', 'CVNA', 'CVS', 'CVX', 'CW', 'CWAN', 'CWB', 'CWEN', 'CWEN-A', 'CWST', 'CX', 'CYBR', 'CZR', 'D', 'DAL', 'DASH', 'DAY', 'DB', 'DBEF', 'DBX', 'DCI', 'DD', 'DDOG', 'DDS', 'DE', 'DECK', 'DELL', 'DEO', 'DFAC', 'DFAE', 'DFAI', 'DFAS', 'DFAT', 'DFAU', 'DFAX', 'DFCF', 'DFEM', 'DFIC', 'DFIV', 'DFLV', 'DFS', 'DFSD', 'DFSV', 'DFUS', 'DFUV', 'DG', 'DGRO', 'DGRW', 'DGX', 'DHI', 'DHR', 'DIA', 'DIHP', 'DINO', 'DIS', 'DIVO', 'DKNG', 'DKS', 'DLB', 'DLN', 'DLR', 'DLTR', 'DOC', 'DOCS', 'DOCU', 'DON', 'DOV', 'DOW', 'DOX', 'DPZ', 'DRI', 'DRS', 'DSGX', 'DSI', 'DT', 'DTE', 'DTM', 'DUHP', 'DUK', 'DUOL', 'DVA', 'DVN', 'DVY', 'DXCM', 'DXJ', 'DYNF', 'E', 'EA', 'EAGG', 'EAT', 'EBAY', 'EBR', 'EC', 'ECL', 'ED', 'EDU', 'EDV', 'EEM', 'EEMV', 'EFA', 'EFAV', 'EFG', 'EFV', 'EFX', 'EG', 'EGP', 'EHC', 'EIX', 'EL', 'ELAN', 'ELS', 'ELV', 'EMB', 'EME', 'EMLP', 'EMN', 'EMR', 'EMXC', 'ENB', 'ENPH', 'ENSG', 'ENTG', 'EOG', 'EPAM', 'EPD', 'EPRT', 'EQH', 'EQIX', 'EQNR', 'EQR', 'EQT', 'ERIC', 'ERIE', 'ERJ', 'ES', 'ESAB', 'ESGD', 'ESGE', 'ESGU', 'ESGV', 'ESLT', 'ESNT', 'ESS', 'ESTC', 'ET', 'ETN', 'ETR', 'EUFN', 'EVR', 'EVRG', 'EW', 'EWBC', 'EWJ', 'EWT', 'EWU', 'EWZ', 'EXAS', 'EXC', 'EXE', 'EXEL', 'EXLS', 'EXP', 'EXPD', 'EXPE', 'EXR', 'EZU', 'F', 'FAF', 'FANG', 'FAST', 'FBCG', 'FBIN', 'FBND', 'FBTC', 'FCFS', 'FCN', 'FCNCA', 'FCX', 'FDL', 'FDN', 'FDS', 'FDVV', 'FDX', 'FE', 'FELC', 'FELG', 'FER', 'FERG', 'FEZ', 'FFIV', 'FHN', 'FI', 'FICO', 'FIS', 'FITB', 'FIX', 'FIXD', 'FLEX', 'FLOT', 'FLR', 'FLS', 'FLUT', 'FMS', 'FMX', 'FN', 'FND', 'FNDA', 'FNDE', 'FNDF', 'FNDX', 'FNF', 'FNGA', 'FNV', 'FOUR', 'FOX', 'FOXA', 'FPE', 'FR', 'FRHC', 'FRT', 'FSEC', 'FSLR', 'FSV', 'FTAI', 'FTCS', 'FTEC', 'FTI', 'FTNT', 'FTS', 'FTSM', 'FTV', 'FUTU', 'FV', 'FVD', 'FWONA', 'FWONK', 'FXI', 'FYBR', 'G', 'GAP', 'GBIL', 'GBTC', 'GD', 'GDDY', 'GDX', 'GDXJ', 'GE', 'GEHC', 'GEN', 'GEV', 'GFI', 'GFL', 'GFS', 'GGAL', 'GGG', 'GIB', 'GIL', 'GILD', 'GIS', 'GL', 'GLBE', 'GLD', 'GLDM', 'GLOB', 'GLPI', 'GLW', 'GM', 'GMAB', 'GME', 'GMED', 'GNRC', 'GOLD', 'GOOG', 'GOOGL', 'GOVT', 'GPC', 'GPK', 'GPN', 'GRAB', 'GRMN', 'GS', 'GSIE', 'GSK', 'GSLC', 'GTLB', 'GTLS', 'GUNR', 'GVI', 'GWRE', 'GWW', 'H', 'HAL', 'HALO', 'HAS', 'HBAN', 'HCA', 'HD', 'HDB', 'HDV', 'HEFA', 'HEI', 'HEI-A', 'HES', 'HESM', 'HIG', 'HII', 'HIMS', 'HLI', 'HLN', 'HLNE', 'HLT', 'HMC', 'HMY', 'HOLX', 'HOMB', 'HON', 'HOOD', 'HPE', 'HPQ', 'HQY', 'HRB', 'HRL', 'HSBC', 'HSIC', 'HST', 'HSY', 'HTHT', 'HUBB', 'HUBS', 'HUM', 'HWM', 'HYD', 'HYG', 'HYLB', 'IAGG', 'IAU', 'IBB', 'IBDR', 'IBIT', 'IBKR', 'IBM', 'IBN', 'ICE', 'ICL', 'ICLR', 'ICSH', 'IDA', 'IDEV', 'IDV', 'IDXX', 'IEF', 'IEFA', 'IEI', 'IEMG', 'IEUR', 'IEX', 'IFF', 'IGF', 'IGIB', 'IGM', 'IGSB', 'IGV', 'IHG', 'IHI', 'IJH', 'IJJ', 'IJK', 'IJR', 'IJS', 'IJT', 'ILMN', 'IMO', 'INCY', 'INDA', 'INFA', 'INFY', 'ING', 'INGR', 'INSM', 'INTC', 'INTU', 'INVH', 'IONQ', 'IOO', 'IOT', 'IP', 'IPG', 'IQLT', 'IQV', 'IR', 'IRM', 'ISRG', 'ISTB', 'IT', 'ITA', 'ITOT', 'ITT', 'ITUB', 'ITW', 'IUSB', 'IUSG', 'IUSV', 'IVE', 'IVV', 'IVW', 'IVZ', 'IWB', 'IWD', 'IWF', 'IWM', 'IWN', 'IWO', 'IWP', 'IWR', 'IWS', 'IWV', 'IWY', 'IX', 'IXJ', 'IXN', 'IXUS', 'IYF', 'IYR', 'IYW', 'J', 'JAAA', 'JAVA', 'JAZZ', 'JBHT', 'JBL', 'JBTM', 'JCI', 'JCPB', 'JD', 'JEF', 'JEPI', 'JEPQ', 'JGLO', 'JGRO', 'JHG', 'JHMM', 'JHX', 'JIRE', 'JKHY', 'JLL', 'JMBS', 'JMST', 'JNJ', 'JNK', 'JNPR', 'JPIE', 'JPM', 'JPST', 'JQUA', 'JXN', 'K', 'KB', 'KBR', 'KBWB', 'KD', 'KDP', 'KEP', 'KEX', 'KEY', 'KEYS', 'KGC', 'KHC', 'KIM', 'KKR', 'KLAC', 'KMB', 'KMI', 'KMX', 'KNG', 'KNSL', 'KNTK', 'KNX', 'KO', 'KR', 'KRC', 'KRE', 'KSPI', 'KT', 'KVUE', 'KVYO', 'KWEB', 'L', 'LAD', 'LAMR', 'LB', 'LBRDA', 'LBRDK', 'LCID', 'LDOS', 'LECO', 'LEGN', 'LEN', 'LEVI', 'LH', 'LHX', 'LI', 'LII', 'LIN', 'LINE', 'LKQ', 'LLY', 'LLYVA', 'LLYVK', 'LMBS', 'LMT', 'LNC', 'LNG', 'LNT', 'LNTH', 'LNW', 'LOAR', 'LOGI', 'LOW', 'LPLA', 'LPX', 'LQD', 'LRCX', 'LRN', 'LSCC', 'LTH', 'LTM', 'LULU', 'LUV', 'LVS', 'LW', 'LYB', 'LYFT', 'LYG', 'LYV', 'MA', 'MAA', 'MANH', 'MAR', 'MAS', 'MASI', 'MAT', 'MBB', 'MBLY', 'MCD', 'MCHI', 'MCHP', 'MCK', 'MCO', 'MDB', 'MDGL', 'MDLZ', 'MDT', 'MDY', 'MEDP', 'MELI', 'MET', 'META', 'MFC', 'MFG', 'MGA', 'MGC', 'MGK', 'MGM', 'MGV', 'MHK', 'MIDD', 'MINT', 'MKC', 'MKL', 'MKTX', 'MLI', 'MLM', 'MMC', 'MMM', 'MMSI', 'MMYT', 'MNDY', 'MNSO', 'MNST', 'MO', 'MOAT', 'MOG-A', 'MOH', 'MORN', 'MOS', 'MPC', 'MPLX', 'MPWR', 'MRK', 'MRNA', 'MRVL', 'MS', 'MSA', 'MSCI', 'MSFT', 'MSI', 'MSTR', 'MSTY', 'MT', 'MTB', 'MTCH', 'MTD', 'MTG', 'MTSI', 'MTUM', 'MTZ', 'MU', 'MUB', 'MUFG', 'MUSA', 'NBIS', 'NBIX', 'NCLH', 'NDAQ', 'NDSN', 'NEAR', 'NEE', 'NEM', 'NET', 'NEU', 'NFG', 'NFLX', 'NGG', 'NI', 'NICE', 'NIO', 'NKE', 'NLY', 'NMR', 'NNN', 'NOBL', 'NOC', 'NOK', 'NOW', 'NRG', 'NSC', 'NTAP', 'NTES', 'NTNX', 'NTR', 'NTRA', 'NTRS', 'NU', 'NUE', 'NVDA', 'NVDL', 'NVMI', 'NVO', 'NVR', 'NVS', 'NVT', 'NWG', 'NWS', 'NWSA', 'NXPI', 'NXT', 'NYT', 'O', 'OBDC', 'OC', 'ODFL', 'OEF', 'OGE', 'OHI', 'OKE', 'OKTA', 'OLED', 'OLLI', 'OMC', 'OMF', 'OMFL', 'ON', 'ONB', 'ONC', 'ONEQ', 'ONON', 'ONTO', 'ORCL', 'ORI', 'ORLY', 'OS', 'OSK', 'OTEX', 'OTIS', 'OVV', 'OWL', 'OXY', 'PAA', 'PAAA', 'PAAS', 'PAC', 'PAG', 'PAGP', 'PANW', 'PARA', 'PATH', 'PAVE', 'PAYC', 'PAYX', 'PB', 'PBA', 'PBR', 'PBR-A', 'PBUS', 'PCAR', 'PCOR', 'PCTY', 'PDBC', 'PDD', 'PDI', 'PEG', 'PEGA', 'PEN', 'PEP', 'PFE', 'PFF', 'PFG', 'PFGC', 'PG', 'PGR', 'PGX', 'PH', 'PHG', 'PHM', 'PHYS', 'PINS', 'PKG', 'PKX', 'PLD', 'PLNT', 'PLTR', 'PM', 'PNC', 'PNFP', 'PNR', 'PNW', 'PODD', 'POOL', 'POST', 'PPA', 'PPC', 'PPG', 'PPL', 'PR', 'PRF', 'PRI', 'PRMB', 'PRU', 'PSA', 'PSLV', 'PSN', 'PSO', 'PSTG', 'PSX', 'PTC', 'PTLC', 'PUK', 'PULS', 'PWR', 'PYLD', 'PYPL', 'QCOM', 'QGEN', 'QLD', 'QQQ', 'QQQM', 'QRVO', 'QSR', 'QUAL', 'QXO', 'QYLD', 'R', 'RACE', 'RBA', 'RBC', 'RBLX', 'RBRK', 'RCI', 'RCL', 'RDDT', 'RDVY', 'RDY', 'REET', 'REG', 'REGN', 'RELX', 'REXR', 'RF', 'RGA', 'RGEN', 'RGLD', 'RHP', 'RIO', 'RITM', 'RIVN', 'RJF', 'RKLB', 'RKT', 'RL', 'RLI', 'RMD', 'RNR', 'ROIV', 'ROK', 'ROKU', 'ROL', 'ROP', 'ROST', 'RPM', 'RPRX', 'RRC', 'RRX', 'RS', 'RSG', 'RSP', 'RSPT', 'RTO', 'RTX', 'RVMD', 'RVTY', 'RWL', 'RY', 'RYAAY', 'RYAN', 'S', 'SAIA', 'SAIC', 'SAIL', 'SAN', 'SAP', 'SARO', 'SATS', 'SBAC', 'SBS', 'SBUX', 'SCCO', 'SCHA', 'SCHB', 'SCHC', 'SCHD', 'SCHE', 'SCHF', 'SCHG', 'SCHH', 'SCHI', 'SCHK', 'SCHM', 'SCHO', 'SCHP', 'SCHR', 'SCHV', 'SCHW', 'SCHX', 'SCHZ', 'SCI', 'SCZ', 'SDVY', 'SDY', 'SE', 'SEIC', 'SF', 'SFD', 'SFM', 'SGI', 'SGOL', 'SGOV', 'SHEL', 'SHG', 'SHM', 'SHOP', 'SHV', 'SHW', 'SHY', 'SHYG', 'SIRI', 'SJM', 'SJNK', 'SKM', 'SKX', 'SKYY', 'SLB', 'SLF', 'SLGN', 'SLM', 'SLV', 'SLYV', 'SMBS', 'SMCI', 'SMFG', 'SMH', 'SMMT', 'SN', 'SNA', 'SNAP', 'SNN', 'SNOW', 'SNPS', 'SNV', 'SNX', 'SNY', 'SO', 'SOFI', 'SOLV', 'SONY', 'SOXL', 'SOXX', 'SPAB', 'SPDW', 'SPEM', 'SPG', 'SPGI', 'SPHD', 'SPHQ', 'SPHY', 'SPIB', 'SPLG', 'SPLV', 'SPMB', 'SPMD', 'SPMO', 'SPOT', 'SPSB', 'SPSM', 'SPTI', 'SPTL', 'SPTM', 'SPTS', 'SPXC', 'SPXL', 'SPY', 'SPYD', 'SPYG', 'SPYI', 'SPYV', 'SQQQ', 'SRAD', 'SRE', 'SRLN', 'SSB', 'SSD', 'SSNC', 'SSO', 'STAG', 'STE', 'STEP', 'STIP', 'STLA', 'STLD', 'STM', 'STN', 'STT', 'STVN', 'STWD', 'STX', 'STZ', 'SU', 'SUB', 'SUI', 'SUN', 'SUSA', 'SUZ', 'SW', 'SWK', 'SWKS', 'SYF', 'SYK', 'SYM', 'SYY', 'T', 'TAK', 'TAP', 'TBIL', 'TCAF', 'TCOM', 'TD', 'TDG', 'TDY', 'TEAM', 'TECH', 'TECK', 'TEF', 'TEL', 'TEM', 'TER', 'TEVA', 'TFC', 'TFI', 'TFII', 'TFLO', 'TGT', 'THC', 'THG', 'TIGO', 'TIMB', 'TIP', 'TJX', 'TKO', 'TLH', 'TLK', 'TLN', 'TLT', 'TLX', 'TM', 'TME', 'TMF', 'TMHC', 'TMO', 'TMUS', 'TOL', 'TOST', 'TOTL', 'TPG', 'TPL', 'TPR', 'TQQQ', 'TREX', 'TRGP', 'TRI', 'TRMB', 'TRNO', 'TROW', 'TRP', 'TRU', 'TRV', 'TS', 'TSCO', 'TSLA', 'TSLL', 'TSM', 'TSN', 'TT', 'TTAN', 'TTC', 'TTD', 'TTE', 'TTEK', 'TTWO', 'TU', 'TW', 'TWLO', 'TX', 'TXN', 'TXRH', 'TXT', 'TYL', 'U', 'UAL', 'UBER', 'UBS', 'UCON', 'UDR', 'UFPI', 'UGI', 'UHAL', 'UHAL-B', 'UHS', 'UI', 'UL', 'ULS', 'ULTA', 'UMBF', 'UMC', 'UNH', 'UNM', 'UNP', 'UPRO', 'UPS', 'URI', 'URTH', 'USB', 'USFD', 'USFR', 'USHY', 'USIG', 'USMV', 'UTHR', 'UWMC', 'V', 'VALE', 'VB', 'VBK', 'VBR', 'VCIT', 'VCLT', 'VCR', 'VCSH', 'VDC', 'VDE', 'VEA', 'VEEV', 'VERX', 'VEU', 'VFH', 'VFLO', 'VFS', 'VG', 'VGIT', 'VGK', 'VGLT', 'VGSH', 'VGT', 'VHT', 'VICI', 'VIG', 'VIGI', 'VIK', 'VIPS', 'VIRT', 'VIS', 'VIV', 'VLO', 'VLTO', 'VLUE', 'VMBS', 'VMC', 'VMI', 'VNO', 'VNOM', 'VNQ', 'VNQI', 'VO', 'VOD', 'VOE', 'VONE', 'VONG', 'VONV', 'VOO', 'VOOG', 'VOOV', 'VOT', 'VOX', 'VOYA', 'VPL', 'VPU', 'VRNA', 'VRSK', 'VRSN', 'VRT', 'VRTX', 'VSGX', 'VSS', 'VST', 'VT', 'VTEB', 'VTI', 'VTIP', 'VTR', 'VTRS', 'VTV', 'VTWO', 'VUG', 'VUSB', 'VV', 'VWO', 'VWOB', 'VXF', 'VXUS', 'VYM', 'VYMI', 'VZ', 'WAB', 'WAL', 'WAT', 'WAY', 'WBA', 'WBD', 'WBS', 'WCC', 'WCN', 'WDAY', 'WDC', 'WDS', 'WEC', 'WELL', 'WES', 'WF', 'WFC', 'WFG', 'WH', 'WING', 'WIT', 'WIX', 'WLK', 'WM', 'WMB', 'WMG', 'WMS', 'WMT', 'WPC', 'WPM', 'WPP', 'WRB', 'WSM', 'WSO', 'WST', 'WTFC', 'WTRG', 'WTS', 'WTW', 'WWD', 'WY', 'WYNN', 'X', 'XBI', 'XEL', 'XLB', 'XLC', 'XLE', 'XLF', 'XLG', 'XLI', 'XLK', 'XLP', 'XLRE', 'XLU', 'XLV', 'XLY', 'XMHQ', 'XMMO', 'XOM', 'XP', 'XPEV', 'XPO', 'XYL', 'XYZ', 'YMM', 'YPF', 'YUM', 'YUMC', 'Z', 'ZBH', 'ZBRA', 'ZG', 'ZION', 'ZK', 'ZM', 'ZS', 'ZTO', 'ZTS', 'ZWS']\n"
     ]
    }
   ],
   "source": [
    "ticker_list = combine_tickers_from_files(ticker_csv_files=ticker_csv_files, data_dir=data_dir)\n",
    "\n",
    "print(f\"\\n{len(ticker_list)} Combined and Sorted Unique Tickers:\")\n",
    "print(f'ticker_list:\\n{ticker_list}')\n"
   ]
  },
  {
   "cell_type": "code",
   "execution_count": 5,
   "metadata": {},
   "outputs": [],
   "source": [
    "import os\n",
    "import csv\n",
    "\n",
    "def save_tickers_to_csv(ticker_list, directory_path):\n",
    "    \"\"\"\n",
    "    Saves a list of tickers to a CSV file named 'tickers.csv' in the specified directory.\n",
    "    Each ticker will be on a new row.\n",
    "\n",
    "    Args:\n",
    "        ticker_list (list): A list of ticker symbols (strings).\n",
    "        directory_path (str): The path to the directory where 'tickers.csv' will be saved.\n",
    "    \"\"\"\n",
    "    # Define the output filename\n",
    "    filename = \"tickers.csv\"\n",
    "    # Construct the full file path\n",
    "    file_path = os.path.join(directory_path, filename)\n",
    "\n",
    "    try:\n",
    "        # Create the directory if it doesn't exist\n",
    "        os.makedirs(directory_path, exist_ok=True)\n",
    "\n",
    "        # Write the tickers to the CSV file\n",
    "        with open(file_path, 'w', newline='') as csvfile:\n",
    "            writer = csv.writer(csvfile)\n",
    "            for ticker in ticker_list:\n",
    "                writer.writerow([ticker]) # writerow expects an iterable (e.g., a list)\n",
    "\n",
    "        print(f\"Successfully saved tickers to: {file_path}\")\n",
    "\n",
    "    except IOError as e:\n",
    "        print(f\"Error: Could not write to file {file_path}. IOError: {e}\")\n",
    "    except Exception as e:\n",
    "        print(f\"An unexpected error occurred: {e}\")\n"
   ]
  },
  {
   "cell_type": "code",
   "execution_count": 7,
   "metadata": {},
   "outputs": [
    {
     "name": "stdout",
     "output_type": "stream",
     "text": [
      "Attempting to save tickers to: C:\\Users\\ping\\Desktop\\yloader\\tickers\n",
      "Successfully saved tickers to: C:\\Users\\ping\\Desktop\\yloader\\tickers\\tickers.csv\n",
      "number of tickers saved: 1576\n"
     ]
    }
   ],
   "source": [
    "print(f\"Attempting to save tickers to: {yloader_ticker_dir}\")\n",
    "save_tickers_to_csv(ticker_list=ticker_list, directory_path=yloader_ticker_dir)\n",
    "\n",
    "print(f\"number of tickers saved: {len(ticker_list)}\")"
   ]
  },
  {
   "cell_type": "code",
   "execution_count": null,
   "metadata": {},
   "outputs": [],
   "source": []
  }
 ],
 "metadata": {
  "kernelspec": {
   "display_name": ".venv",
   "language": "python",
   "name": "python3"
  },
  "language_info": {
   "codemirror_mode": {
    "name": "ipython",
    "version": 3
   },
   "file_extension": ".py",
   "mimetype": "text/x-python",
   "name": "python",
   "nbconvert_exporter": "python",
   "pygments_lexer": "ipython3",
   "version": "3.11.9"
  }
 },
 "nbformat": 4,
 "nbformat_minor": 2
}
