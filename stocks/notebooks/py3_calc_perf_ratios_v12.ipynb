{
 "cells": [
  {
   "cell_type": "code",
   "execution_count": null,
   "metadata": {},
   "outputs": [],
   "source": []
  },
  {
   "cell_type": "code",
   "execution_count": 13,
   "metadata": {
    "execution": {
     "iopub.execute_input": "2025-04-10T23:20:31.839513Z",
     "iopub.status.busy": "2025-04-10T23:20:31.838515Z",
     "iopub.status.idle": "2025-04-10T23:20:31.858636Z",
     "shell.execute_reply": "2025-04-10T23:20:31.856620Z"
    }
   },
   "outputs": [],
   "source": [
    "# Configuration\n",
    "\n",
    "# days used in calculating ratios\n",
    "DAYS_RATIO = [3, 5, 10, 15, 30, 60, 120, 250]\n",
    "\n",
    "# risk free rate\n",
    "RISK_FREE_RATE = 0.04"
   ]
  },
  {
   "cell_type": "code",
   "execution_count": 14,
   "metadata": {
    "execution": {
     "iopub.execute_input": "2025-04-10T23:20:31.867411Z",
     "iopub.status.busy": "2025-04-10T23:20:31.865410Z",
     "iopub.status.idle": "2025-04-10T23:20:33.428364Z",
     "shell.execute_reply": "2025-04-10T23:20:33.425348Z"
    }
   },
   "outputs": [],
   "source": [
    "import pandas as pd\n",
    "\n",
    "# Set pandas display options to show more columns and rows\n",
    "pd.set_option('display.max_columns', None)  # Show all columns\n",
    "# pd.set_option('display.max_rows', 10)       # Limit to 10 rows for readability\n",
    "pd.set_option('display.width', 1500)        # Let the display adjust to the window\n"
   ]
  },
  {
   "cell_type": "code",
   "execution_count": 15,
   "metadata": {
    "execution": {
     "iopub.execute_input": "2025-04-10T23:20:33.435368Z",
     "iopub.status.busy": "2025-04-10T23:20:33.434365Z",
     "iopub.status.idle": "2025-04-10T23:20:33.450008Z",
     "shell.execute_reply": "2025-04-10T23:20:33.447993Z"
    }
   },
   "outputs": [
    {
     "name": "stdout",
     "output_type": "stream",
     "text": [
      "date_str: 2025-04-25\n",
      "DEST_DIR: ..\\data\n",
      "\n",
      "source_path: ..\\data\\2025-04-25_df_OHLCV_clean_stocks_etfs.parquet\n",
      "dest_path: ..\\data\\2025-04-25_df_perf_ratios_stocks_etfs.parquet\n"
     ]
    }
   ],
   "source": [
    "# process_files.py\n",
    "from config import date_str, DOWNLOAD_DIR, DEST_DIR\n",
    "from pathlib import Path  # Better path handling\n",
    "\n",
    "print(f\"date_str: {date_str}\")\n",
    "# print(f\"DOWNLOAD_DIR: {DOWNLOAD_DIR}\")\n",
    "print(f\"DEST_DIR: {DEST_DIR}\\n\")\n",
    "\n",
    "# Build paths\n",
    "source_path = Path(DEST_DIR) / f'{date_str}_df_OHLCV_clean_stocks_etfs.parquet'\n",
    "dest_path = Path(DEST_DIR) / f'{date_str}_df_perf_ratios_stocks_etfs.parquet'\n",
    "\n",
    "print(f\"source_path: {source_path}\")\n",
    "print(f\"dest_path: {dest_path}\")"
   ]
  },
  {
   "cell_type": "code",
   "execution_count": 16,
   "metadata": {
    "execution": {
     "iopub.execute_input": "2025-04-10T23:20:33.554794Z",
     "iopub.status.busy": "2025-04-10T23:20:33.553795Z",
     "iopub.status.idle": "2025-04-10T23:20:33.663314Z",
     "shell.execute_reply": "2025-04-10T23:20:33.662298Z"
    }
   },
   "outputs": [],
   "source": [
    "import pandas as pd\n",
    "\n",
    "# Get tickers from df_finviz_stocks_etfs.pkl file\n",
    "df_finviz = pd.read_parquet(f'..\\data\\{date_str}_df_finviz_stocks_etfs.parquet')\n",
    "tickers = df_finviz.index.to_list()"
   ]
  },
  {
   "cell_type": "code",
   "execution_count": 17,
   "metadata": {},
   "outputs": [
    {
     "name": "stdout",
     "output_type": "stream",
     "text": [
      "        No.                                     Company               Index                  Sector                        Industry Country Exchange  Market Cap, M    P/E  Fwd P/E   PEG    P/S    P/B    P/C  P/FCF  Book/sh  Cash/sh  Dividend %  Dividend TTM Dividend Ex Date  Payout Ratio %    EPS  EPS next Q  EPS this Y %  EPS next Y %  EPS past 5Y %  EPS next 5Y %  Sales past 5Y %  Sales Q/Q %  EPS Q/Q %  EPS YoY TTM %  Sales YoY TTM %  Sales, M  Income, M  EPS Surprise %  Revenue Surprise %  Outstanding, M  Float, M  Float %  Insider Own %  Insider Trans %  Inst Own %  Inst Trans %  Short Float %  Short Ratio  Short Interest, M  ROA %   ROE %  ROI %  Curr R  Quick R  LTDebt/Eq  Debt/Eq  Gross M %  Oper M %  Profit M %  Perf Week %  Perf Month %  Perf Quart %  Perf Half %  Perf Year %  Perf YTD %  Beta    ATR  Volatility W %  Volatility M %  SMA20 %  SMA50 %  SMA200 %  50D High %  50D Low %  52W High %  52W Low %        52W Range  All-Time High %  All-Time Low %    RSI  Earnings    IPO Date Optionable Shortable  Employees  Change from Open %  Gap %  Recom  Avg Volume, M  Rel Volume     Volume  Target Price  Prev Close    Open    High     Low   Price  Change %                                 Single Category         Asset Type  Expense %  Holdings  AUM, M  Flows 1M, M  Flows% 1M  Flows 3M, M  Flows% 3M  Flows YTD, M  Flows% YTD  Return% 1Y  Return% 3Y  Return% 5Y                                               Tags\n",
      "Ticker                                                                                                                                                                                                                                                                                                                                                                                                                                                                                                                                                                                                                                                                                                                                                                                                                                                                                                                                                                                                                                                                                                                                                                                                                                                                                                                                                                                                                                                                                     \n",
      "AAPL      1                                   Apple Inc  DJIA, NDX, S&P 500              Technology            Consumer Electronics     USA     NASD      3143820.0  33.27    26.31  3.75   7.94  47.15  58.46  31.98     4.44     3.58        0.49          1.00        2/10/2025           16.11   6.29        1.61          7.58          9.53          15.41           8.88             9.18         3.95      10.13          -2.14             2.61  395760.0    96150.0            2.23                0.03         15040.0   15010.0    99.78           0.09            -3.52       63.86          1.45           0.75         1.85             113.13  27.57  136.52  63.80    0.92     0.88       1.26     1.45      46.52     31.76       24.30         6.24         -5.53         -6.06       -11.27        25.39      -16.43  1.28   9.26            2.43            4.93     3.83    -4.42     -8.06      -16.29      23.68      -19.54      24.46  168.15 - 260.10           -19.54       328873.80  51.95  May 01/a  12/12/1980        Yes       Yes   164000.0                1.49  -1.04   2.08       61.16000        0.62   38132498        238.59      208.37  206.20  209.75  206.20  209.28      0.44                                               -                  -        NaN       NaN     NaN          NaN        NaN          NaN        NaN           NaN         NaN         NaN         NaN         NaN                                                  -\n",
      "MSFT      2                       Microsoft Corporation  DJIA, NDX, S&P 500              Technology       Software - Infrastructure     USA     NASD      2913010.0  31.56    26.37  2.22  11.13   9.62  40.71  41.60    40.71     9.63        0.83          3.16        5/15/2025           25.42  12.42        3.22         11.45         12.99          18.45          14.21            14.40        12.27      10.23          12.38            15.04  261800.0    92750.0            3.54                1.11          7430.0    7320.0    98.52           1.47            -0.04       73.30          1.16           0.70         2.02              51.25  18.47   34.29  23.60    1.35     1.34       0.30     0.34      69.41     44.96       35.43         6.54          0.48        -11.76        -8.34        -3.86       -7.03  0.98  12.57            2.43            3.52     4.26     1.19     -5.66       -6.55      13.65      -16.33      13.65  344.79 - 468.35           -16.33       491688.02  55.96  Apr 30/a   3/13/1986        Yes       Yes   228000.0                1.25  -0.08   1.34       25.35000        0.74   18803717        482.98      387.30  387.00  392.16  384.60  391.85      1.17                                               -                  -        NaN       NaN     NaN          NaN        NaN          NaN        NaN           NaN         NaN         NaN         NaN         NaN                                                  -\n",
      "NVDA      3                                 NVIDIA Corp  DJIA, NDX, S&P 500              Technology                  Semiconductors     USA     NASD      2708640.0  37.76    19.68  1.27  20.76  34.25  62.69  44.51     3.24     1.77        0.04          0.04        3/12/2025            1.16   2.94        0.89         48.06         27.39          91.83          29.64            70.88        77.94      81.23         146.26           114.20  130500.0    72880.0            4.97                3.23         24480.0   23420.0    95.70           4.00            -0.13       66.45          1.80           1.12         0.83             262.96  82.20  119.18  81.60    4.44     3.88       0.13     0.13      74.99     62.42       55.85         9.38         -2.42        -22.16       -22.69        34.68      -17.34  2.11   6.82            3.83            6.46     5.41    -3.67    -11.59      -22.61      28.16      -27.51      41.91   78.22 - 153.13           -27.51       332929.99  52.40  Feb 26/a   1/22/1999        Yes       Yes    36000.0                3.89   0.39   1.40      315.04000        0.79  249869413        161.59      106.43  106.85  111.92  105.73  111.01      4.30                                               -                  -        NaN       NaN     NaN          NaN        NaN          NaN        NaN           NaN         NaN         NaN         NaN         NaN                                                  -\n",
      "AMZN      4                              Amazon.com Inc  DJIA, NDX, S&P 500       Consumer Cyclical                 Internet Retail     USA     NASD      2005630.0  34.22    25.35  1.83   3.14   7.00  19.15  61.00    27.00     9.87         NaN           NaN                -            0.00   5.52        1.37         12.63         19.69          36.89          18.71            18.31        10.49      85.48          91.61            10.99  637960.0    59250.0           25.14                0.24         10590.0    9490.0    89.59          10.58            -1.46       64.47          2.77           0.75         1.43              71.19  10.28   24.29  14.21    1.06     0.87       0.46     0.52      48.85     10.87        9.29         9.49         -6.04        -19.53        -0.37         5.26      -13.86  1.30   9.12            3.41            5.22     4.16    -3.84     -5.13      -18.25      17.11      -22.07      24.66  151.61 - 242.52           -22.07       287884.78  52.14  May 01/a   5/15/1997        Yes       Yes  1556000.0                0.84   0.47   1.29       49.72000        0.73   36313537        248.71      186.54  187.42  189.94  185.49  188.99      1.31                                               -                  -        NaN       NaN     NaN          NaN        NaN          NaN        NaN           NaN         NaN         NaN         NaN         NaN                                                  -\n",
      "GOOGL     6                                Alphabet Inc        NDX, S&P 500  Communication Services  Internet Content & Information     USA     NASD      1984030.0  18.06    15.93  1.34   5.52   5.70  20.81  26.50    28.41     7.78        0.31          0.80        3/10/2025            7.46   8.97        2.16         17.17          7.94          26.76          13.43            17.30        11.81      48.77          37.73            13.02  359310.0   111000.0           40.02                1.15          5830.0    5820.0    99.84          52.28            -0.01       38.38          1.08           1.18         1.94              68.67  25.15   34.79  30.02    1.77     1.77       0.07     0.08      58.54     32.60       30.89         7.14         -1.88        -19.10        -1.93         2.34      -14.44  1.00   5.93            2.48            3.85     5.34    -1.36     -6.00      -13.11      15.25      -21.78      15.25  140.53 - 207.05           -21.78         6644.61  54.31  Apr 24/a   8/19/2004        Yes       Yes   183323.0               -1.84   3.59   1.46       35.44000        1.58   55916858        202.95      159.28  165.00  166.10  161.04  161.96      1.68                                               -                  -        NaN       NaN     NaN          NaN        NaN          NaN        NaN           NaN         NaN         NaN         NaN         NaN                                                  -\n",
      "...     ...                                         ...                 ...                     ...                             ...     ...      ...            ...    ...      ...   ...    ...    ...    ...    ...      ...      ...         ...           ...              ...             ...    ...         ...           ...           ...            ...            ...              ...          ...        ...            ...              ...       ...        ...             ...                 ...             ...       ...      ...            ...              ...         ...           ...            ...          ...                ...    ...     ...    ...     ...      ...        ...      ...        ...       ...         ...          ...           ...           ...          ...          ...         ...   ...    ...             ...             ...      ...      ...       ...         ...        ...         ...        ...              ...              ...             ...    ...       ...         ...        ...       ...        ...                 ...    ...    ...            ...         ...        ...           ...         ...     ...     ...     ...     ...       ...                                             ...                ...        ...       ...     ...          ...        ...          ...        ...           ...         ...         ...         ...         ...                                                ...\n",
      "IBDQ    396  iShares iBonds Dec 2025 Term Corporate ETF                   -               Financial            Exchange Traded Fund     USA     NYSE            NaN    NaN      NaN   NaN    NaN    NaN    NaN    NaN      NaN      NaN        3.87          0.97         4/1/2025             NaN    NaN         NaN           NaN           NaN            NaN            NaN              NaN          NaN        NaN            NaN              NaN       NaN        NaN             NaN                 NaN             NaN       NaN      NaN            NaN              NaN         NaN           NaN            NaN         0.17               0.09    NaN     NaN    NaN     NaN      NaN        NaN      NaN        NaN       NaN         NaN         0.16          0.04          0.08         0.40         1.62        0.44  0.10   0.02            0.06            0.09     0.23     0.19      0.44        0.00       0.52        0.00       1.94    24.68 - 25.16           -10.08           11.90  64.87         -   3/12/2015         No       Yes        NaN                0.04   0.00    NaN        0.50027        0.63     314911           NaN       25.15   25.15   25.16   25.15   25.16      0.04                               Bonds - Corporate              Bonds       0.10     394.0  3090.0      -104.24      -3.26       -91.67      -2.88        -45.32       -1.44        5.30        3.52        2.20  U.S., fixed-income, corporate-bonds, bonds, in...\n",
      "TFI     397    SPDR Nuveen Bloomberg Municipal Bond ETF                   -               Financial            Exchange Traded Fund     USA     NYSE            NaN    NaN      NaN   NaN    NaN    NaN    NaN    NaN      NaN      NaN        3.15          1.40         4/1/2025             NaN    NaN         NaN           NaN           NaN            NaN            NaN              NaN          NaN        NaN            NaN              NaN       NaN        NaN             NaN                 NaN             NaN       NaN      NaN            NaN              NaN         NaN           NaN            NaN         0.22               0.37    NaN     NaN    NaN     NaN      NaN        NaN      NaN        NaN       NaN         NaN         0.32         -1.27         -2.48        -3.63        -3.16       -2.74  0.30   0.36            0.60            0.81    -0.07    -1.71     -3.31       -4.04       3.57       -5.39       3.57    42.84 - 46.90           -15.62           34.84  45.68         -   9/13/2007        Yes       Yes        NaN               -0.25   0.43    NaN        1.67000        0.53     880168           NaN       44.29   44.48   44.48   44.33   44.37      0.18                               Bonds - Municipal              Bonds       0.23    1265.0  3080.0      -192.86      -5.89      -615.05     -16.63       -510.97      -14.22       -0.43        0.93       -0.38         U.S., fixed-income, municipal-bonds, bonds\n",
      "MSTY    398    YieldMax MSTR Option Income Strategy ETF                   -               Financial            Exchange Traded Fund     USA     NYSE            NaN    NaN      NaN   NaN    NaN    NaN    NaN    NaN      NaN      NaN      128.85         30.40        4/10/2025             NaN    NaN         NaN           NaN           NaN            NaN            NaN              NaN          NaN        NaN            NaN              NaN       NaN        NaN             NaN                 NaN             NaN       NaN      NaN            NaN              NaN         NaN           NaN            NaN         2.52              16.16    NaN     NaN    NaN     NaN      NaN        NaN      NaN        NaN       NaN         NaN        11.12          3.46        -15.57       -24.17       -29.01      -10.34  3.24   1.41            3.17            7.30    13.29    10.30    -11.24      -13.08      37.95      -49.27      37.95    17.10 - 46.50           -49.27           37.95  59.09         -   2/22/2024        Yes       Yes        NaN                1.99   1.05    NaN        6.40000        1.27    8129918           NaN       22.89   23.13   23.69   23.12   23.59      3.06                   US Equities - Industry Sector  Equities (Stocks)       0.99      19.0  3080.0       438.00      16.57      1400.00      83.43       1760.00      132.89       94.10         NaN         NaN    U.S., single-asset, options, MSTR, covered-call\n",
      "PAAA    399                            PGIM AAA CLO ETF                   -               Financial            Exchange Traded Fund     USA     NYSE            NaN    NaN      NaN   NaN    NaN    NaN    NaN    NaN      NaN      NaN        5.47          2.80         4/1/2025             NaN    NaN         NaN           NaN           NaN            NaN            NaN              NaN          NaN        NaN            NaN              NaN       NaN        NaN             NaN                 NaN             NaN       NaN      NaN            NaN              NaN         NaN           NaN            NaN         0.17               0.19    NaN     NaN    NaN     NaN      NaN        NaN      NaN        NaN       NaN         NaN         0.35         -0.17         -0.60        -0.09         0.46       -0.12  0.03   0.18            0.16            0.46     0.32    -0.06     -0.07       -1.77       1.39       -1.77       1.39    50.44 - 52.06            -1.77            2.34  54.89         -   7/26/2023         No       Yes        NaN                0.02   0.02    NaN        1.15000        0.50     578241           NaN       51.12   51.13   51.16   51.11   51.14      0.04  Bonds - Non Government Asset Backed Securities              Bonds       0.19     298.0  3080.0        32.04       1.05       910.70      42.02       1390.00       82.42        5.64         NaN         NaN                         U.S., debt-securities, CLO\n",
      "FELG    400      Fidelity Enhanced Large Cap Growth ETF                   -               Financial            Exchange Traded Fund     USA     NYSE            NaN    NaN      NaN   NaN    NaN    NaN    NaN    NaN      NaN      NaN        0.53          0.17        3/21/2025             NaN    NaN         NaN           NaN           NaN            NaN            NaN              NaN          NaN        NaN            NaN              NaN       NaN        NaN             NaN                 NaN             NaN       NaN      NaN            NaN              NaN         NaN           NaN            NaN         0.13               0.07    NaN     NaN    NaN     NaN      NaN        NaN      NaN        NaN       NaN         NaN         6.99         -1.85        -12.67        -6.16        11.83       -9.93  1.13   1.11            2.32            3.67     4.96    -1.45     -4.72      -13.24      18.36      -13.71      18.36    26.91 - 36.91           -13.71           27.96  54.82         -  11/20/2023         No       Yes        NaN                1.30   0.29    NaN        0.52240        1.18     616949           NaN       31.35   31.44   31.90   31.34   31.85      1.59                          US Equities - US Style  Equities (Stocks)       0.18     109.0  3050.0         4.28       0.14        41.00       1.36        221.13        7.81       12.27         NaN         NaN                    U.S., equity, large-cap, growth\n",
      "\n",
      "[1560 rows x 110 columns]\n"
     ]
    }
   ],
   "source": [
    "print(df_finviz) "
   ]
  },
  {
   "cell_type": "code",
   "execution_count": 18,
   "metadata": {
    "execution": {
     "iopub.execute_input": "2025-04-10T23:20:33.671313Z",
     "iopub.status.busy": "2025-04-10T23:20:33.670314Z",
     "iopub.status.idle": "2025-04-10T23:20:33.969929Z",
     "shell.execute_reply": "2025-04-10T23:20:33.967911Z"
    }
   },
   "outputs": [
    {
     "name": "stdout",
     "output_type": "stream",
     "text": [
      "                     Open    High     Low   Close  Adj Close   Volume    Adj Open    Adj High     Adj Low\n",
      "Symbol Date                                                                                              \n",
      "WTFC   2025-04-25  110.09  111.35  109.29  110.79     110.79   451000  110.090000  111.350000  109.290000\n",
      "       2025-04-24  107.33  111.67  106.86  111.38     111.38   485000  107.330000  111.670000  106.860000\n",
      "       2025-04-23  109.98  112.94  106.82  107.68     107.68   763800  109.980000  112.940000  106.820000\n",
      "       2025-04-22  100.64  106.94  100.64  106.66     106.66   843100  100.640000  106.940000  100.640000\n",
      "       2025-04-21  102.20  102.90  100.37  101.43     101.43   437700  102.200000  102.900000  100.370000\n",
      "...                   ...     ...     ...     ...        ...      ...         ...         ...         ...\n",
      "AEG    2024-05-02    6.28    6.30    6.21    6.26       5.91  3340100    5.928882    5.947764    5.862796\n",
      "       2024-05-01    6.16    6.32    6.15    6.24       5.89  1977300    5.814487    5.965513    5.805048\n",
      "       2024-04-30    6.23    6.27    6.16    6.17       5.82  2176500    5.876596    5.914327    5.810567\n",
      "       2024-04-29    6.24    6.27    6.22    6.25       5.90  1780500    5.890560    5.918880    5.871680\n",
      "       2024-04-26    6.24    6.26    6.16    6.20       5.85  2328800    5.887742    5.906613    5.812258\n",
      "\n",
      "[384250 rows x 9 columns]\n"
     ]
    }
   ],
   "source": [
    "import pandas as pd\n",
    "\n",
    "# Load the DataFrame df_OHLCV_2025-03-14_clean.pkl\n",
    "# df = pd.read_pickle(source_path)\n",
    "df = pd.read_parquet(source_path, engine='pyarrow')\n",
    "\n",
    "# # Display the first few rows of the DataFrame to verify\n",
    "# df = df[['Adj Close']].copy()\n",
    "print(df)"
   ]
  },
  {
   "cell_type": "code",
   "execution_count": 19,
   "metadata": {
    "execution": {
     "iopub.execute_input": "2025-04-10T23:20:33.976927Z",
     "iopub.status.busy": "2025-04-10T23:20:33.974932Z",
     "iopub.status.idle": "2025-04-10T23:20:34.223993Z",
     "shell.execute_reply": "2025-04-10T23:20:34.221971Z"
    }
   },
   "outputs": [
    {
     "data": {
      "text/html": [
       "<div>\n",
       "<style scoped>\n",
       "    .dataframe tbody tr th:only-of-type {\n",
       "        vertical-align: middle;\n",
       "    }\n",
       "\n",
       "    .dataframe tbody tr th {\n",
       "        vertical-align: top;\n",
       "    }\n",
       "\n",
       "    .dataframe thead th {\n",
       "        text-align: right;\n",
       "    }\n",
       "</style>\n",
       "<table border=\"1\" class=\"dataframe\">\n",
       "  <thead>\n",
       "    <tr style=\"text-align: right;\">\n",
       "      <th></th>\n",
       "      <th></th>\n",
       "      <th>Adj Close</th>\n",
       "    </tr>\n",
       "    <tr>\n",
       "      <th>Symbol</th>\n",
       "      <th>Date</th>\n",
       "      <th></th>\n",
       "    </tr>\n",
       "  </thead>\n",
       "  <tbody>\n",
       "    <tr>\n",
       "      <th rowspan=\"5\" valign=\"top\">WTFC</th>\n",
       "      <th>2025-04-25</th>\n",
       "      <td>110.79</td>\n",
       "    </tr>\n",
       "    <tr>\n",
       "      <th>2025-04-24</th>\n",
       "      <td>111.38</td>\n",
       "    </tr>\n",
       "    <tr>\n",
       "      <th>2025-04-23</th>\n",
       "      <td>107.68</td>\n",
       "    </tr>\n",
       "    <tr>\n",
       "      <th>2025-04-22</th>\n",
       "      <td>106.66</td>\n",
       "    </tr>\n",
       "    <tr>\n",
       "      <th>2025-04-21</th>\n",
       "      <td>101.43</td>\n",
       "    </tr>\n",
       "    <tr>\n",
       "      <th>...</th>\n",
       "      <th>...</th>\n",
       "      <td>...</td>\n",
       "    </tr>\n",
       "    <tr>\n",
       "      <th rowspan=\"5\" valign=\"top\">AEG</th>\n",
       "      <th>2024-05-02</th>\n",
       "      <td>5.91</td>\n",
       "    </tr>\n",
       "    <tr>\n",
       "      <th>2024-05-01</th>\n",
       "      <td>5.89</td>\n",
       "    </tr>\n",
       "    <tr>\n",
       "      <th>2024-04-30</th>\n",
       "      <td>5.82</td>\n",
       "    </tr>\n",
       "    <tr>\n",
       "      <th>2024-04-29</th>\n",
       "      <td>5.90</td>\n",
       "    </tr>\n",
       "    <tr>\n",
       "      <th>2024-04-26</th>\n",
       "      <td>5.85</td>\n",
       "    </tr>\n",
       "  </tbody>\n",
       "</table>\n",
       "<p>384250 rows × 1 columns</p>\n",
       "</div>"
      ],
      "text/plain": [
       "                   Adj Close\n",
       "Symbol Date                 \n",
       "WTFC   2025-04-25     110.79\n",
       "       2025-04-24     111.38\n",
       "       2025-04-23     107.68\n",
       "       2025-04-22     106.66\n",
       "       2025-04-21     101.43\n",
       "...                      ...\n",
       "AEG    2024-05-02       5.91\n",
       "       2024-05-01       5.89\n",
       "       2024-04-30       5.82\n",
       "       2024-04-29       5.90\n",
       "       2024-04-26       5.85\n",
       "\n",
       "[384250 rows x 1 columns]"
      ]
     },
     "metadata": {},
     "output_type": "display_data"
    }
   ],
   "source": [
    "import pandas as pd\n",
    "\n",
    "# Load the DataFrame df_OHLCV_2025-03-14_clean.pkl\n",
    "# df = pd.read_pickle(source_path)\n",
    "df = pd.read_parquet(source_path, engine='pyarrow')\n",
    "\n",
    "# Display the first few rows of the DataFrame to verify\n",
    "df = df[['Adj Close']].copy()\n",
    "display(df)"
   ]
  },
  {
   "cell_type": "code",
   "execution_count": 20,
   "metadata": {
    "execution": {
     "iopub.execute_input": "2025-04-10T23:20:34.230987Z",
     "iopub.status.busy": "2025-04-10T23:20:34.229986Z",
     "iopub.status.idle": "2025-04-10T23:20:34.274225Z",
     "shell.execute_reply": "2025-04-10T23:20:34.272208Z"
    }
   },
   "outputs": [
    {
     "name": "stdout",
     "output_type": "stream",
     "text": [
      "<class 'pandas.core.frame.DataFrame'>\n",
      "MultiIndex: 384250 entries, ('WTFC', Timestamp('2025-04-25 00:00:00')) to ('AEG', Timestamp('2024-04-26 00:00:00'))\n",
      "Data columns (total 1 columns):\n",
      " #   Column     Non-Null Count   Dtype  \n",
      "---  ------     --------------   -----  \n",
      " 0   Adj Close  384250 non-null  float64\n",
      "dtypes: float64(1)\n",
      "memory usage: 4.5+ MB\n"
     ]
    }
   ],
   "source": [
    "df.info()"
   ]
  },
  {
   "cell_type": "code",
   "execution_count": 21,
   "metadata": {
    "execution": {
     "iopub.execute_input": "2025-04-10T23:20:34.282225Z",
     "iopub.status.busy": "2025-04-10T23:20:34.281235Z",
     "iopub.status.idle": "2025-04-10T23:21:57.860391Z",
     "shell.execute_reply": "2025-04-10T23:21:57.858372Z"
    }
   },
   "outputs": [
    {
     "name": "stdout",
     "output_type": "stream",
     "text": [
      "                   Adj Close\n",
      "Symbol Date                 \n",
      "AAPL   2025-04-25     209.28\n",
      "       2025-04-24     208.37\n",
      "       2025-04-23     204.60\n",
      "       2025-04-22     199.74\n",
      "       2025-04-21     193.16\n",
      "...                      ...\n",
      "FELG   2024-05-02      28.50\n",
      "       2024-05-01      28.11\n",
      "       2024-04-30      28.19\n",
      "       2024-04-29      28.71\n",
      "       2024-04-26      28.68\n",
      "\n",
      "[384250 rows x 1 columns]\n"
     ]
    }
   ],
   "source": [
    "import pandas as pd\n",
    "\n",
    "def select_tickers_data(df, tickers):\n",
    "  \"\"\"\n",
    "  Selects data for a list of tickers from a DataFrame with a MultiIndex\n",
    "  where the first level is the ticker and the second level is the date.\n",
    "\n",
    "  Args:\n",
    "    df (pd.DataFrame): The input DataFrame with a MultiIndex.\n",
    "    tickers (list): A list of ticker symbols to select.\n",
    "\n",
    "  Returns:\n",
    "    pd.DataFrame: A DataFrame containing only the data for the specified tickers.\n",
    "                  Rows for tickers not found will not be included.\n",
    "  \"\"\"\n",
    "  valid_tickers = [t for t in tickers if t in df.index.get_level_values(0)]  # Filter out the tickers that do not exist\n",
    "\n",
    "  if not valid_tickers:\n",
    "    print(\"No valid tickers found in the DataFrame. Returning an empty DataFrame.\")\n",
    "    return pd.DataFrame()\n",
    "\n",
    "  try:\n",
    "    ticker_df = df.loc[valid_tickers]\n",
    "    return ticker_df\n",
    "  except KeyError as e:\n",
    "    print(f\"KeyError after filtering valid tickers: {e}\") #Added to help debugging.\n",
    "    return pd.DataFrame()\n",
    "\n",
    "\n",
    "# Example usage:\n",
    "# ticker_list = [\"UBS\", \"AAPL\", \"MSFT\", \"GEV\"]  # Include some valid and invalid tickers\n",
    "selected_data = select_tickers_data(df, tickers)\n",
    "print(selected_data)"
   ]
  },
  {
   "cell_type": "code",
   "execution_count": 22,
   "metadata": {
    "execution": {
     "iopub.execute_input": "2025-04-10T23:21:57.867396Z",
     "iopub.status.busy": "2025-04-10T23:21:57.866390Z",
     "iopub.status.idle": "2025-04-10T23:22:25.538470Z",
     "shell.execute_reply": "2025-04-10T23:22:25.536448Z"
    }
   },
   "outputs": [],
   "source": [
    "# Get root directory (assuming notebook is in root/notebooks/)\n",
    "NOTEBOOK_DIR = Path.cwd()\n",
    "ROOT_DIR = NOTEBOOK_DIR.parent if NOTEBOOK_DIR.name == 'notebooks' else NOTEBOOK_DIR\n",
    "\n",
    "import sys\n",
    "\n",
    "# Add src directory to Python path\n",
    "sys.path.append(str(ROOT_DIR / 'src'))\n",
    "\n",
    "import utils\n",
    "\n",
    "list_dfs = utils.get_latest_dfs(selected_data, DAYS_RATIO)"
   ]
  },
  {
   "cell_type": "code",
   "execution_count": 23,
   "metadata": {
    "execution": {
     "iopub.execute_input": "2025-04-10T23:22:25.545462Z",
     "iopub.status.busy": "2025-04-10T23:22:25.544462Z",
     "iopub.status.idle": "2025-04-10T23:23:32.896939Z",
     "shell.execute_reply": "2025-04-10T23:23:32.894918Z"
    }
   },
   "outputs": [
    {
     "name": "stdout",
     "output_type": "stream",
     "text": [
      "\n",
      "Combined performance metrics DataFrame:\n",
      "       Sharpe 3d  Sortino 3d  Omega 3d  Sharpe 5d  Sortino 5d  Omega 5d  Sharpe 10d  Sortino 10d  Omega 10d  Sharpe 15d  Sortino 15d  Omega 15d  Sharpe 30d  Sortino 30d  Omega 30d  Sharpe 60d  Sortino 60d  Omega 60d  Sharpe 120d  Sortino 120d  Omega 120d  Sharpe 250d  Sortino 250d  Omega 250d\n",
      "A       5.153101   19.052913  2.697368  15.793771   65.559711  9.259747    3.204522     5.896718   1.619189    1.202716     1.867554   1.226958   -2.257962    -2.893040   0.672414   -3.871887    -4.635301   0.500543    -1.240867     -1.661360    0.804215    -0.846424     -1.118219    0.859558\n",
      "AA      3.723058   11.141484  1.992562  10.880600   28.880362  4.638584    1.956660     2.954931   1.380855    1.063227     1.742029   1.200455   -2.404414    -3.160253   0.660904   -1.736624    -2.277000   0.738112    -1.411740     -1.848063    0.780096    -0.480904     -0.665725    0.922313\n",
      "AAL    30.773939         inf       NaN  21.440824         inf       NaN    0.627020     0.870148   1.105977    0.959973     1.686722   1.221849   -0.564022    -0.880908   0.893880   -2.831226    -3.910800   0.571980    -0.808785     -1.219591    0.848549    -0.487410     -0.718294    0.907541\n",
      "AAON   36.487069         inf       NaN  47.280299         inf       NaN    2.546433     3.924418   1.466622    4.647126    10.956734   2.263572    1.206088     2.089533   1.223265   -1.314690    -1.632439   0.775873    -0.564618     -0.742126    0.891838     0.141787      0.188521    1.029324\n",
      "AAPL   17.945283         inf       NaN  25.731176         inf       NaN    4.214191     6.719272   1.915683    2.638663     5.831754   1.629695    0.008446     0.013045   1.001637   -0.862372    -1.246825   0.843909    -0.305406     -0.438132    0.939938     0.708262      1.053964    1.149039\n",
      "...          ...         ...       ...        ...         ...       ...         ...          ...        ...         ...          ...        ...         ...          ...        ...         ...          ...        ...          ...           ...         ...          ...           ...         ...\n",
      "ZM     16.571453         inf       NaN  24.257649         inf       NaN    6.972687    15.332513   3.056068    4.982330    11.669409   2.441816    0.615265     0.902697   1.120040   -1.487021    -1.872403   0.753386     0.177888      0.253723    1.032343     0.657177      0.993895    1.128121\n",
      "ZS     37.815905         inf       NaN  29.846140         inf       NaN    6.101982    11.687786   2.575558    5.746574    17.352828   3.107236    1.397993     2.245794   1.291601    0.670599     0.997610   1.122920     0.944573      1.399510    1.175794     0.582763      0.795052    1.110288\n",
      "ZTO     7.573638   46.565924  5.148422   6.960423   33.589123  4.646616    5.653418    23.932647   3.716814    1.743830     2.697405   1.458630   -0.622126    -0.832692   0.885257    0.111921     0.152727   1.019922    -1.009299     -1.329085    0.842693    -0.202847     -0.297122    0.966185\n",
      "ZTS   121.720614         inf       NaN  24.933136         inf       NaN    4.116641     7.087523   1.800190    0.738773     1.191241   1.131418   -1.105580    -1.526050   0.827628   -1.454557    -1.855313   0.780976    -1.132006     -1.446657    0.827141    -0.120091     -0.168321    0.979419\n",
      "ZWS    14.063795         inf       NaN  25.101555         inf       NaN   11.289056    60.352729  11.711823    5.327053    10.974979   2.597136    0.528012     0.741408   1.103893   -1.629237    -2.112857   0.745349    -0.400211     -0.540089    0.930846     0.270413      0.387989    1.047561\n",
      "\n",
      "[1537 rows x 24 columns]\n"
     ]
    }
   ],
   "source": [
    "import numpy as np\n",
    "\n",
    "all_results = {}\n",
    "\n",
    "for _df in list_dfs:\n",
    "    tickers_in_df = _df.index.get_level_values(0).unique()\n",
    "    for ticker in tickers_in_df:\n",
    "        # Suppress division warnings just for this calculation\n",
    "        with np.errstate(divide='ignore', invalid='ignore'):\n",
    "            result_df = utils.analyze_stock(_df, ticker, risk_free_rate=RISK_FREE_RATE)\n",
    "        \n",
    "        if result_df is not None:\n",
    "            # Extract the ticker name from the result_df index\n",
    "            ticker_name = result_df.index[0]\n",
    "            # Convert the single-row DataFrame to a dictionary\n",
    "            metrics = result_df.iloc[0].to_dict()\n",
    "            \n",
    "            # Update the existing ticker entry or create a new one\n",
    "            if ticker_name in all_results:\n",
    "                all_results[ticker_name].update(metrics)\n",
    "            else:\n",
    "                all_results[ticker_name] = metrics\n",
    "\n",
    "if all_results:\n",
    "    combined_df = pd.DataFrame.from_dict(all_results, orient='index')\n",
    "    print(\"\\nCombined performance metrics DataFrame:\")\n",
    "    print(combined_df)\n",
    "else:\n",
    "    print(\"No performance metrics were calculated.\")"
   ]
  },
  {
   "cell_type": "code",
   "execution_count": 27,
   "metadata": {},
   "outputs": [
    {
     "name": "stdout",
     "output_type": "stream",
     "text": [
      "<class 'pandas.core.frame.DataFrame'>\n",
      "Index: 1537 entries, A to ZWS\n",
      "Data columns (total 24 columns):\n",
      " #   Column        Non-Null Count  Dtype  \n",
      "---  ------        --------------  -----  \n",
      " 0   Sharpe 3d     1537 non-null   float64\n",
      " 1   Sortino 3d    1537 non-null   float64\n",
      " 2   Omega 3d      809 non-null    float64\n",
      " 3   Sharpe 5d     1537 non-null   float64\n",
      " 4   Sortino 5d    1537 non-null   float64\n",
      " 5   Omega 5d      938 non-null    float64\n",
      " 6   Sharpe 10d    1537 non-null   float64\n",
      " 7   Sortino 10d   1537 non-null   float64\n",
      " 8   Omega 10d     1533 non-null   float64\n",
      " 9   Sharpe 15d    1537 non-null   float64\n",
      " 10  Sortino 15d   1537 non-null   float64\n",
      " 11  Omega 15d     1537 non-null   float64\n",
      " 12  Sharpe 30d    1537 non-null   float64\n",
      " 13  Sortino 30d   1537 non-null   float64\n",
      " 14  Omega 30d     1537 non-null   float64\n",
      " 15  Sharpe 60d    1537 non-null   float64\n",
      " 16  Sortino 60d   1537 non-null   float64\n",
      " 17  Omega 60d     1537 non-null   float64\n",
      " 18  Sharpe 120d   1537 non-null   float64\n",
      " 19  Sortino 120d  1537 non-null   float64\n",
      " 20  Omega 120d    1537 non-null   float64\n",
      " 21  Sharpe 250d   1537 non-null   float64\n",
      " 22  Sortino 250d  1537 non-null   float64\n",
      " 23  Omega 250d    1537 non-null   float64\n",
      "dtypes: float64(24)\n",
      "memory usage: 300.2+ KB\n"
     ]
    }
   ],
   "source": [
    "combined_df.info()"
   ]
  },
  {
   "cell_type": "code",
   "execution_count": 28,
   "metadata": {
    "execution": {
     "iopub.execute_input": "2025-04-10T23:23:32.903933Z",
     "iopub.status.busy": "2025-04-10T23:23:32.902939Z",
     "iopub.status.idle": "2025-04-10T23:23:33.077437Z",
     "shell.execute_reply": "2025-04-10T23:23:33.076061Z"
    }
   },
   "outputs": [
    {
     "name": "stdout",
     "output_type": "stream",
     "text": [
      "combined_df has_nan_inf: True\n",
      "Replacing NaN/Inf values with column-specific max/min values\n",
      "NaN/Inf Locations BEFORE Replacement:\n",
      "Column: Sharpe 3d\n",
      "  -Inf: ['PTLC']\n",
      "Column: Sortino 3d\n",
      "  Inf: ['AAL', 'AAON', 'AAPL', 'ABBV', 'ABEV', 'ABNB', 'ACIW', 'ACN', 'ACWI', 'ACWX', 'ADBE', 'AEG', 'AER', 'AFRM', 'AGG', 'AGNC', 'AKAM', 'ALAB', 'ALC', 'ALNY', 'AMAT', 'AMD', 'AMGN', 'AMZN', 'AN', 'ANET', 'ANSS', 'APA', 'APG', 'APO', 'APP', 'APTV', 'AR', 'ARCC', 'ARES', 'ARGX', 'ARKB', 'ARKK', 'ARM', 'AS', 'ASML', 'ASND', 'ASR', 'ASX', 'ATI', 'AUR', 'AVDE', 'AVDV', 'AVGO', 'AVUS', 'AWI', 'AXON', 'AZN', 'BA', 'BABA', 'BAC', 'BAH', 'BALL', 'BAM', 'BAP', 'BBEU', 'BBIN', 'BBIO', 'BBJP', 'BBUS', 'BBVA', 'BBY', 'BCH', 'BDX', 'BECN', 'BEP', 'BG', 'BIDU', 'BILS', 'BINC', 'BIRK', 'BITB', 'BIV', 'BKNG', 'BKR', 'BLDR', 'BLV', 'BMRN', 'BN', 'BND', 'BNS', 'BNT', 'BOKF', 'BOND', 'BP', 'BPMC', 'BRBR', 'BRFS', 'BRKR', 'BROS', 'BSAC', 'BSCQ', 'BSCR', 'BSV', 'BSX', 'BUFR', 'BURL', 'BWXT', 'BXSL', 'C', 'CAE', 'CAH', 'CALF', 'CBOE', 'CCJ', 'CDNS', 'CEG', 'CF', 'CFLT', 'CG', 'CGCP', 'CGDV', 'CGGO', 'CGGR', 'CGUS', 'CGXU', 'CHWY', 'CIBR', 'CIEN', 'CM', 'CME', 'CMF', 'CMG', 'CNM', 'CNP', 'CNQ', 'COHR', 'COIN', 'COOP', 'CPAY', 'CPNG', 'CQP', 'CRBG', 'CRDO', 'CRH', 'CRM', 'CRWD', 'CSCO', 'CTSH', 'CVLT', 'CVNA', 'CW', 'CWB', 'CWEN', 'CWEN-A', 'CWST', 'CX', 'CYBR', 'CZR', 'DASH', 'DAY', 'DB', 'DBEF', 'DBX', 'DDOG', 'DELL', 'DFAC', 'DFAI', 'DFAU', 'DFAX', 'DFIC', 'DFIV', 'DFSD', 'DFUS', 'DGRO', 'DGRW', 'DHR', 'DIS', 'DIVO', 'DLR', 'DOCS', 'DOCU', 'DOW', 'DOX', 'DRS', 'DSI', 'DT', 'DUHP', 'DUOL', 'DXCM', 'DXJ', 'DYNF', 'E', 'EA', 'EAGG', 'EBAY', 'EDU', 'EDV', 'EFA', 'EFG', 'EFV', 'EGP', 'EHC', 'EL', 'EMB', 'EME', 'EMR', 'ENPH', 'ENSG', 'ENTG', 'EPAM', 'EQIX', 'EQT', 'ERJ', 'ESGD', 'ESGU', 'ESGV', 'ESLT', 'ESTC', 'ETN', 'EUFN', 'EW', 'EWJ', 'EWT', 'EWU', 'EWZ', 'EXEL', 'EXPE', 'EZU', 'FANG', 'FBCG', 'FBND', 'FBTC', 'FCFS', 'FDN', 'FDVV', 'FELC', 'FELG', 'FEZ', 'FFIV', 'FHN', 'FICO', 'FIX', 'FIXD', 'FLEX', 'FLOT', 'FLS', 'FMS', 'FMX', 'FN', 'FNDF', 'FNGA', 'FOX', 'FOXA', 'FPE', 'FRHC', 'FSK', 'FSLR', 'FTAI', 'FTEC', 'FTI', 'FTNT', 'FTS', 'FTSM', 'FWONA', 'FWONK', 'FYBR', 'G', 'GAP', 'GBIL', 'GBTC', 'GD', 'GDDY', 'GE', 'GEHC', 'GEN', 'GEV', 'GFL', 'GFS', 'GGG', 'GH', 'GKOS', 'GLW', 'GM', 'GMAB', 'GOOG', 'GOOGL', 'GOVT', 'GPN', 'GRAB', 'GSIE', 'GSLC', 'GTLB', 'GTLS', 'GVI', 'HALO', 'HAS', 'HEFA', 'HII', 'HLNE', 'HLT', 'HMC', 'HOOD', 'HPE', 'HUBS', 'HWM', 'HYD', 'HYG', 'HYLB', 'IBDQ', 'IBDR', 'IBIT', 'IBKR', 'ICE', 'ICL', 'ICSH', 'IDEV', 'IDV', 'IEF', 'IEFA', 'IEI', 'IEUR', 'IGIB', 'IGM', 'IGSB', 'IGV', 'IHG', 'IHI', 'IJT', 'IMO', 'INCY', 'INFA', 'INFY', 'INTU', 'IONQ', 'IOO', 'IOT', 'IQLT', 'IRM', 'ISRG', 'ISTB', 'ITA', 'ITOT', 'IUSB', 'IUSG', 'IVV', 'IVW', 'IWB', 'IWF', 'IWM', 'IWO', 'IWP', 'IWV', 'IWY', 'IXJ', 'IXN', 'IXUS', 'IYW', 'JAAA', 'JAZZ', 'JBL', 'JCI', 'JCPB', 'JEF', 'JEPI', 'JEPQ', 'JGLO', 'JGRO', 'JIRE', 'JMBS', 'JMST', 'JNK', 'JNPR', 'JPIE', 'JPST', 'JQUA', 'JXN', 'KB', 'KD', 'KEYS', 'KKR', 'KLAC', 'KNTK', 'KVYO', 'LAD', 'LCID', 'LDOS', 'LEVI', 'LII', 'LLY', 'LLYVA', 'LLYVK', 'LMBS', 'LMT', 'LNG', 'LNW', 'LOAR', 'LOGI', 'LQD', 'LRCX', 'LTH', 'LUV', 'LYB', 'LYV', 'MANH', 'MAS', 'MASI', 'MBB', 'MBLY', 'MDB', 'MDGL', 'MELI', 'META', 'MFC', 'MGA', 'MGC', 'MGK', 'MGM', 'MINT', 'MKTX', 'MMYT', 'MNDY', 'MOAT', 'MORN', 'MOS', 'MPLX', 'MPWR', 'MRK', 'MRVL', 'MS', 'MSA', 'MSFT', 'MSI', 'MSTR', 'MSTY', 'MT', 'MTSI', 'MTUM', 'MTZ', 'MU', 'MUB', 'MUFG', 'NBIX', 'NCLH', 'NDAQ', 'NEAR', 'NET', 'NFLX', 'NICE', 'NLY', 'NMR', 'NOW', 'NRG', 'NTAP', 'NTNX', 'NTR', 'NU', 'NUE', 'NVDA', 'NVDL', 'NVS', 'NVT', 'NWS', 'NWSA', 'NXT', 'NYT', 'OBDC', 'OC', 'OEF', 'OKE', 'OKTA', 'OLED', 'OMF', 'OMFL', 'ONEQ', 'ONON', 'ORCL', 'OSK', 'OTEX', 'OTIS', 'OVV', 'OWL', 'PAA', 'PAAA', 'PAC', 'PAGP', 'PANW', 'PARA', 'PATH', 'PAYC', 'PBA', 'PBR-A', 'PBUS', 'PCOR', 'PCTY', 'PDBC', 'PDD', 'PDI', 'PEGA', 'PEN', 'PFE', 'PFF', 'PGX', 'PH', 'PHG', 'PINS', 'PLTR', 'PM', 'PODD', 'PPA', 'PR', 'PSN', 'PSTG', 'PTC', 'PULS', 'PWR', 'PYLD', 'PYPL', 'QCOM', 'QLD', 'QQQ', 'QQQM', 'QRVO', 'QUAL', 'QXO', 'QYLD', 'RACE', 'RBA', 'RBLX', 'RBRK', 'RCL', 'RDDT', 'REGN', 'RELX', 'RITM', 'RIVN', 'RJF', 'RKLB', 'ROIV', 'ROKU', 'RPRX', 'RRX', 'RTO', 'RTX', 'RVMD', 'S', 'SAN', 'SAP', 'SATS', 'SBS', 'SCHB', 'SCHF', 'SCHG', 'SCHI', 'SCHK', 'SCHO', 'SCHP', 'SCHR', 'SCHW', 'SCHX', 'SCHZ', 'SCZ', 'SE', 'SF', 'SFM', 'SHEL', 'SHM', 'SHOP', 'SHY', 'SHYG', 'SIRI', 'SJNK', 'SMCI', 'SMFG', 'SMH', 'SN', 'SNAP', 'SNPS', 'SNX', 'SOFI', 'SOXL', 'SOXX', 'SPAB', 'SPDW', 'SPG', 'SPHQ', 'SPHY', 'SPIB', 'SPLG', 'SPMB', 'SPMO', 'SPOT', 'SPSB', 'SPSM', 'SPTI', 'SPTL', 'SPTM', 'SPTS', 'SPXC', 'SPXL', 'SPY', 'SPYG', 'SPYI', 'SRE', 'SSO', 'STEP', 'STIP', 'STLA', 'STWD', 'SUB', 'SUI', 'SUSA', 'SWKS', 'SYK', 'TCAF', 'TDG', 'TEAM', 'TEF', 'TEL', 'TEVA', 'TFI', 'TFLO', 'TGT', 'TGTX', 'TIP', 'TJX', 'TKO', 'TLH', 'TLT', 'TM', 'TME', 'TMF', 'TOST', 'TOTL', 'TPR', 'TQQQ', 'TRGP', 'TRMB', 'TRP', 'TS', 'TSLA', 'TSLL', 'TSM', 'TT', 'TTD', 'TTE', 'TTWO', 'TW', 'TWLO', 'TXN', 'TXT', 'U', 'UBS', 'UCON', 'UI', 'UPRO', 'URTH', 'USFR', 'USHY', 'USIG', 'VBK', 'VCIT', 'VCLT', 'VCR', 'VCSH', 'VEA', 'VEU', 'VGIT', 'VGK', 'VGLT', 'VGSH', 'VGT', 'VHT', 'VIG', 'VIGI', 'VIPS', 'VLTO', 'VMBS', 'VNO', 'VNOM', 'VOD', 'VONE', 'VONG', 'VOO', 'VOOG', 'VOT', 'VOX', 'VPL', 'VRNA', 'VRSN', 'VRT', 'VST', 'VT', 'VTEB', 'VTI', 'VTIP', 'VTRS', 'VTWO', 'VUG', 'VUSB', 'VV', 'VWOB', 'VXF', 'VXUS', 'WBD', 'WCC', 'WDAY', 'WDC', 'WDS', 'WFC', 'WH', 'WING', 'WIX', 'WMG', 'WMS', 'WSO', 'WWD', 'WYNN', 'X', 'XLC', 'XLG', 'XLK', 'XLV', 'XLY', 'XMMO', 'XP', 'XYL', 'XYZ', 'ZBRA', 'ZM', 'ZS', 'ZTS', 'ZWS']\n",
      "Column: Omega 3d\n",
      "  NaN: ['AAL', 'AAON', 'AAPL', 'ABBV', 'ABEV', 'ABNB', 'ACIW', 'ACN', 'ACWI', 'ACWX', 'ADBE', 'AEG', 'AER', 'AFRM', 'AGG', 'AGNC', 'AKAM', 'ALAB', 'ALC', 'ALNY', 'AMAT', 'AMD', 'AMGN', 'AMZN', 'AN', 'ANET', 'ANSS', 'APA', 'APG', 'APO', 'APP', 'APTV', 'AR', 'ARCC', 'ARES', 'ARGX', 'ARKB', 'ARKK', 'ARM', 'AS', 'ASML', 'ASND', 'ASR', 'ASX', 'ATI', 'AUR', 'AVDE', 'AVDV', 'AVGO', 'AVUS', 'AWI', 'AXON', 'AZN', 'BA', 'BABA', 'BAC', 'BAH', 'BALL', 'BAM', 'BAP', 'BBEU', 'BBIN', 'BBIO', 'BBJP', 'BBUS', 'BBVA', 'BBY', 'BCH', 'BDX', 'BECN', 'BEP', 'BG', 'BIDU', 'BILS', 'BINC', 'BIRK', 'BITB', 'BIV', 'BKNG', 'BKR', 'BLDR', 'BLV', 'BMRN', 'BN', 'BND', 'BNS', 'BNT', 'BOKF', 'BOND', 'BP', 'BPMC', 'BRBR', 'BRFS', 'BRKR', 'BROS', 'BSAC', 'BSCQ', 'BSCR', 'BSV', 'BSX', 'BUFR', 'BURL', 'BWXT', 'BXSL', 'C', 'CAE', 'CAH', 'CALF', 'CBOE', 'CCJ', 'CDNS', 'CEG', 'CF', 'CFLT', 'CG', 'CGCP', 'CGDV', 'CGGO', 'CGGR', 'CGUS', 'CGXU', 'CHWY', 'CIBR', 'CIEN', 'CM', 'CME', 'CMF', 'CMG', 'CNM', 'CNP', 'CNQ', 'COHR', 'COIN', 'COOP', 'CPAY', 'CPNG', 'CQP', 'CRBG', 'CRDO', 'CRH', 'CRM', 'CRWD', 'CSCO', 'CTSH', 'CVLT', 'CVNA', 'CW', 'CWB', 'CWEN', 'CWEN-A', 'CWST', 'CX', 'CYBR', 'CZR', 'DASH', 'DAY', 'DB', 'DBEF', 'DBX', 'DDOG', 'DELL', 'DFAC', 'DFAI', 'DFAU', 'DFAX', 'DFIC', 'DFIV', 'DFSD', 'DFUS', 'DGRO', 'DGRW', 'DHR', 'DIS', 'DIVO', 'DLR', 'DOCS', 'DOCU', 'DOW', 'DOX', 'DRS', 'DSI', 'DT', 'DUHP', 'DUOL', 'DXCM', 'DXJ', 'DYNF', 'E', 'EA', 'EAGG', 'EBAY', 'EDU', 'EDV', 'EFA', 'EFG', 'EFV', 'EGP', 'EHC', 'EL', 'EMB', 'EME', 'EMR', 'ENPH', 'ENSG', 'ENTG', 'EPAM', 'EQIX', 'EQT', 'ERJ', 'ESGD', 'ESGU', 'ESGV', 'ESLT', 'ESTC', 'ETN', 'EUFN', 'EW', 'EWJ', 'EWT', 'EWU', 'EWZ', 'EXEL', 'EXPE', 'EZU', 'FANG', 'FBCG', 'FBND', 'FBTC', 'FCFS', 'FDN', 'FDVV', 'FELC', 'FELG', 'FEZ', 'FFIV', 'FHN', 'FICO', 'FIX', 'FIXD', 'FLEX', 'FLOT', 'FLS', 'FMS', 'FMX', 'FN', 'FNDF', 'FNGA', 'FOX', 'FOXA', 'FPE', 'FRHC', 'FSK', 'FSLR', 'FTAI', 'FTEC', 'FTI', 'FTNT', 'FTS', 'FTSM', 'FWONA', 'FWONK', 'FYBR', 'G', 'GAP', 'GBIL', 'GBTC', 'GD', 'GDDY', 'GE', 'GEHC', 'GEN', 'GEV', 'GFL', 'GFS', 'GGG', 'GH', 'GKOS', 'GLW', 'GM', 'GMAB', 'GOOG', 'GOOGL', 'GOVT', 'GPN', 'GRAB', 'GSIE', 'GSLC', 'GTLB', 'GTLS', 'GVI', 'HALO', 'HAS', 'HEFA', 'HII', 'HLNE', 'HLT', 'HMC', 'HOOD', 'HPE', 'HUBS', 'HWM', 'HYD', 'HYG', 'HYLB', 'IBDQ', 'IBDR', 'IBIT', 'IBKR', 'ICE', 'ICL', 'ICSH', 'IDEV', 'IDV', 'IEF', 'IEFA', 'IEI', 'IEUR', 'IGIB', 'IGM', 'IGSB', 'IGV', 'IHG', 'IHI', 'IJT', 'IMO', 'INCY', 'INFA', 'INFY', 'INTU', 'IONQ', 'IOO', 'IOT', 'IQLT', 'IRM', 'ISRG', 'ISTB', 'ITA', 'ITOT', 'IUSB', 'IUSG', 'IVV', 'IVW', 'IWB', 'IWF', 'IWM', 'IWO', 'IWP', 'IWV', 'IWY', 'IXJ', 'IXN', 'IXUS', 'IYW', 'JAAA', 'JAZZ', 'JBL', 'JCI', 'JCPB', 'JEF', 'JEPI', 'JEPQ', 'JGLO', 'JGRO', 'JIRE', 'JMBS', 'JMST', 'JNK', 'JNPR', 'JPIE', 'JPST', 'JQUA', 'JXN', 'KB', 'KD', 'KEYS', 'KKR', 'KLAC', 'KNTK', 'KVYO', 'LAD', 'LCID', 'LDOS', 'LEVI', 'LII', 'LLY', 'LLYVA', 'LLYVK', 'LMBS', 'LMT', 'LNG', 'LNW', 'LOAR', 'LOGI', 'LQD', 'LRCX', 'LTH', 'LUV', 'LYB', 'LYV', 'MANH', 'MAS', 'MASI', 'MBB', 'MBLY', 'MDB', 'MDGL', 'MELI', 'META', 'MFC', 'MGA', 'MGC', 'MGK', 'MGM', 'MINT', 'MKTX', 'MMYT', 'MNDY', 'MOAT', 'MORN', 'MOS', 'MPLX', 'MPWR', 'MRK', 'MRVL', 'MS', 'MSA', 'MSFT', 'MSI', 'MSTR', 'MSTY', 'MT', 'MTSI', 'MTUM', 'MTZ', 'MU', 'MUB', 'MUFG', 'NBIX', 'NCLH', 'NDAQ', 'NEAR', 'NET', 'NFLX', 'NICE', 'NLY', 'NMR', 'NOW', 'NRG', 'NTAP', 'NTNX', 'NTR', 'NU', 'NUE', 'NVDA', 'NVDL', 'NVS', 'NVT', 'NWS', 'NWSA', 'NXT', 'NYT', 'OBDC', 'OC', 'OEF', 'OKE', 'OKTA', 'OLED', 'OMF', 'OMFL', 'ONEQ', 'ONON', 'ORCL', 'OSK', 'OTEX', 'OTIS', 'OVV', 'OWL', 'PAA', 'PAAA', 'PAC', 'PAGP', 'PANW', 'PARA', 'PATH', 'PAYC', 'PBA', 'PBR-A', 'PBUS', 'PCOR', 'PCTY', 'PDBC', 'PDD', 'PDI', 'PEGA', 'PEN', 'PFE', 'PFF', 'PGX', 'PH', 'PHG', 'PINS', 'PLTR', 'PM', 'PODD', 'PPA', 'PR', 'PSN', 'PSTG', 'PTC', 'PULS', 'PWR', 'PYLD', 'PYPL', 'QCOM', 'QLD', 'QQQ', 'QQQM', 'QRVO', 'QUAL', 'QXO', 'QYLD', 'RACE', 'RBA', 'RBLX', 'RBRK', 'RCL', 'RDDT', 'REGN', 'RELX', 'RITM', 'RIVN', 'RJF', 'RKLB', 'ROIV', 'ROKU', 'RPRX', 'RRX', 'RTO', 'RTX', 'RVMD', 'S', 'SAN', 'SAP', 'SATS', 'SBS', 'SCHB', 'SCHF', 'SCHG', 'SCHI', 'SCHK', 'SCHO', 'SCHP', 'SCHR', 'SCHW', 'SCHX', 'SCHZ', 'SCZ', 'SE', 'SF', 'SFM', 'SHEL', 'SHM', 'SHOP', 'SHY', 'SHYG', 'SIRI', 'SJNK', 'SMCI', 'SMFG', 'SMH', 'SN', 'SNAP', 'SNPS', 'SNX', 'SOFI', 'SOXL', 'SOXX', 'SPAB', 'SPDW', 'SPG', 'SPHQ', 'SPHY', 'SPIB', 'SPLG', 'SPMB', 'SPMO', 'SPOT', 'SPSB', 'SPSM', 'SPTI', 'SPTL', 'SPTM', 'SPTS', 'SPXC', 'SPXL', 'SPY', 'SPYG', 'SPYI', 'SRE', 'SSO', 'STEP', 'STIP', 'STLA', 'STWD', 'SUB', 'SUI', 'SUSA', 'SWKS', 'SYK', 'TCAF', 'TDG', 'TEAM', 'TEF', 'TEL', 'TEVA', 'TFI', 'TFLO', 'TGT', 'TGTX', 'TIP', 'TJX', 'TKO', 'TLH', 'TLT', 'TM', 'TME', 'TMF', 'TOST', 'TOTL', 'TPR', 'TQQQ', 'TRGP', 'TRMB', 'TRP', 'TS', 'TSLA', 'TSLL', 'TSM', 'TT', 'TTD', 'TTE', 'TTWO', 'TW', 'TWLO', 'TXN', 'TXT', 'U', 'UBS', 'UCON', 'UI', 'UPRO', 'URTH', 'USFR', 'USHY', 'USIG', 'VBK', 'VCIT', 'VCLT', 'VCR', 'VCSH', 'VEA', 'VEU', 'VGIT', 'VGK', 'VGLT', 'VGSH', 'VGT', 'VHT', 'VIG', 'VIGI', 'VIPS', 'VLTO', 'VMBS', 'VNO', 'VNOM', 'VOD', 'VONE', 'VONG', 'VOO', 'VOOG', 'VOT', 'VOX', 'VPL', 'VRNA', 'VRSN', 'VRT', 'VST', 'VT', 'VTEB', 'VTI', 'VTIP', 'VTRS', 'VTWO', 'VUG', 'VUSB', 'VV', 'VWOB', 'VXF', 'VXUS', 'WBD', 'WCC', 'WDAY', 'WDC', 'WDS', 'WFC', 'WH', 'WING', 'WIX', 'WMG', 'WMS', 'WSO', 'WWD', 'WYNN', 'X', 'XLC', 'XLG', 'XLK', 'XLV', 'XLY', 'XMMO', 'XP', 'XYL', 'XYZ', 'ZBRA', 'ZM', 'ZS', 'ZTS', 'ZWS']\n",
      "Column: Sortino 5d\n",
      "  Inf: ['AAL', 'AAON', 'AAPL', 'ABBV', 'ABEV', 'ABNB', 'ACIW', 'ACN', 'ACWI', 'ACWX', 'ADBE', 'AEG', 'AER', 'AFRM', 'AGG', 'AGNC', 'AKAM', 'ALAB', 'ALC', 'ALNY', 'AMAT', 'AMD', 'AMZN', 'ANET', 'ANSS', 'APG', 'APO', 'APP', 'APTV', 'AR', 'ARCC', 'ARES', 'ARKB', 'ARKK', 'ARM', 'AS', 'ASML', 'ASX', 'ATI', 'AUR', 'AVGO', 'AVUS', 'AWI', 'AXON', 'AZN', 'BA', 'BABA', 'BAC', 'BAH', 'BALL', 'BAM', 'BAP', 'BBEU', 'BBIN', 'BBIO', 'BBJP', 'BBUS', 'BBVA', 'BBY', 'BCH', 'BDX', 'BECN', 'BEP', 'BIDU', 'BINC', 'BIRK', 'BITB', 'BIV', 'BKNG', 'BLDR', 'BLV', 'BMRN', 'BN', 'BND', 'BNS', 'BNT', 'BOND', 'BRKR', 'BROS', 'BSX', 'BUFR', 'BWXT', 'BXSL', 'C', 'CAE', 'CAH', 'CALF', 'CCJ', 'CDNS', 'CEG', 'CF', 'CFLT', 'CG', 'CGCP', 'CGDV', 'CGGO', 'CGGR', 'CGUS', 'CGXU', 'CIBR', 'CIEN', 'CM', 'CMF', 'CMG', 'CNM', 'CNP', 'COHR', 'COIN', 'CPAY', 'CPNG', 'CQP', 'CRBG', 'CRDO', 'CRH', 'CRM', 'CRWD', 'CSCO', 'CTSH', 'CVLT', 'CVNA', 'CW', 'CWB', 'CX', 'CYBR', 'DASH', 'DAY', 'DB', 'DBEF', 'DBX', 'DDOG', 'DELL', 'DFAC', 'DFAI', 'DFAU', 'DFAX', 'DFIV', 'DFUS', 'DGRO', 'DGRW', 'DHR', 'DIS', 'DIVO', 'DLR', 'DOCS', 'DOCU', 'DOX', 'DRS', 'DSI', 'DT', 'DUHP', 'DUOL', 'DXCM', 'DXJ', 'DYNF', 'EAGG', 'EDV', 'EFA', 'EFG', 'EFV', 'EGP', 'EHC', 'EL', 'EMB', 'EME', 'EMR', 'ENSG', 'ENTG', 'EPAM', 'EQIX', 'EQT', 'ERJ', 'ESGD', 'ESGU', 'ESGV', 'ESTC', 'ETN', 'EUFN', 'EWJ', 'EWT', 'EWZ', 'EXEL', 'EXPE', 'EZU', 'FBCG', 'FBND', 'FBTC', 'FDN', 'FDVV', 'FELC', 'FELG', 'FEZ', 'FFIV', 'FHN', 'FICO', 'FIX', 'FIXD', 'FLEX', 'FLOT', 'FLS', 'FMX', 'FN', 'FNDF', 'FNGA', 'FOX', 'FOXA', 'FPE', 'FRHC', 'FSK', 'FTAI', 'FTEC', 'FTNT', 'FWONA', 'FWONK', 'FYBR', 'G', 'GAP', 'GBTC', 'GDDY', 'GE', 'GEHC', 'GEN', 'GEV', 'GFL', 'GFS', 'GH', 'GKOS', 'GLW', 'GM', 'GOOG', 'GOOGL', 'GOVT', 'GPN', 'GRAB', 'GSIE', 'GSLC', 'GTLB', 'GTLS', 'HALO', 'HAS', 'HEFA', 'HLNE', 'HLT', 'HOOD', 'HPE', 'HUBS', 'HWM', 'HYG', 'HYLB', 'IBIT', 'IBKR', 'ICE', 'ICL', 'IDEV', 'IEF', 'IEFA', 'IEUR', 'IGIB', 'IGM', 'IGV', 'IHG', 'IHI', 'IJT', 'INCY', 'INFA', 'INFY', 'INTU', 'IONQ', 'IOO', 'IRM', 'ISRG', 'ITOT', 'IUSB', 'IUSG', 'IVV', 'IVW', 'IWB', 'IWF', 'IWM', 'IWO', 'IWP', 'IWV', 'IWY', 'IXJ', 'IXN', 'IXUS', 'IYW', 'JAAA', 'JAZZ', 'JBL', 'JCI', 'JCPB', 'JEF', 'JEPI', 'JEPQ', 'JGLO', 'JGRO', 'JIRE', 'JMBS', 'JNK', 'JNPR', 'JQUA', 'JXN', 'KB', 'KD', 'KEYS', 'KKR', 'KLAC', 'LCID', 'LDOS', 'LEVI', 'LLY', 'LLYVA', 'LLYVK', 'LMBS', 'LMT', 'LNW', 'LOAR', 'LOGI', 'LQD', 'LRCX', 'LTH', 'LUV', 'LYV', 'MANH', 'MASI', 'MBB', 'MBLY', 'MDB', 'MDGL', 'MELI', 'META', 'MFC', 'MGA', 'MGC', 'MGK', 'MGM', 'MNDY', 'MOAT', 'MORN', 'MOS', 'MPLX', 'MPWR', 'MRVL', 'MS', 'MSA', 'MSFT', 'MSI', 'MSTR', 'MSTY', 'MT', 'MTSI', 'MTUM', 'MTZ', 'MU', 'MUB', 'MUFG', 'NBIX', 'NCLH', 'NDAQ', 'NET', 'NFLX', 'NICE', 'NLY', 'NMR', 'NOW', 'NRG', 'NTAP', 'NTNX', 'NU', 'NUE', 'NVDA', 'NVDL', 'NVT', 'NWS', 'NWSA', 'NYT', 'OBDC', 'OC', 'OEF', 'OKE', 'OKTA', 'OLED', 'OMF', 'OMFL', 'ONEQ', 'ONON', 'ORCL', 'OSK', 'OTEX', 'OVV', 'OWL', 'PAAA', 'PAC', 'PANW', 'PARA', 'PATH', 'PAYC', 'PBUS', 'PCOR', 'PCTY', 'PDD', 'PDI', 'PEGA', 'PEN', 'PFF', 'PGX', 'PH', 'PHG', 'PINS', 'PLTR', 'PM', 'PODD', 'PPA', 'PR', 'PSN', 'PSTG', 'PTC', 'PWR', 'PYLD', 'PYPL', 'QCOM', 'QLD', 'QQQ', 'QQQM', 'QRVO', 'QUAL', 'QYLD', 'RBA', 'RBLX', 'RBRK', 'RCL', 'RDDT', 'REGN', 'RITM', 'RIVN', 'RJF', 'RKLB', 'ROIV', 'ROKU', 'RRX', 'RVMD', 'S', 'SAN', 'SAP', 'SATS', 'SBS', 'SCHB', 'SCHF', 'SCHG', 'SCHI', 'SCHK', 'SCHP', 'SCHW', 'SCHX', 'SCHZ', 'SE', 'SFM', 'SHOP', 'SHYG', 'SIRI', 'SJNK', 'SMCI', 'SMFG', 'SMH', 'SN', 'SNAP', 'SNPS', 'SNX', 'SOFI', 'SOXL', 'SOXX', 'SPAB', 'SPDW', 'SPG', 'SPHQ', 'SPHY', 'SPIB', 'SPLG', 'SPMB', 'SPMO', 'SPOT', 'SPSM', 'SPTL', 'SPTM', 'SPXC', 'SPXL', 'SPY', 'SPYG', 'SPYI', 'SRE', 'SSO', 'STEP', 'STWD', 'SUI', 'SUSA', 'SWKS', 'SYK', 'TCAF', 'TDG', 'TEAM', 'TEL', 'TEVA', 'TFLO', 'TGTX', 'TIP', 'TKO', 'TLH', 'TLT', 'TM', 'TME', 'TMF', 'TOST', 'TOTL', 'TPR', 'TQQQ', 'TRGP', 'TRMB', 'TSLA', 'TSLL', 'TSM', 'TT', 'TTD', 'TTWO', 'TW', 'TWLO', 'TXN', 'TXT', 'U', 'UBS', 'UCON', 'UI', 'UPRO', 'URTH', 'USHY', 'USIG', 'VBK', 'VCIT', 'VCLT', 'VCR', 'VEA', 'VEU', 'VGK', 'VGLT', 'VGT', 'VHT', 'VIG', 'VIGI', 'VIPS', 'VLTO', 'VMBS', 'VNO', 'VONE', 'VONG', 'VOO', 'VOOG', 'VOT', 'VOX', 'VPL', 'VRNA', 'VRSN', 'VRT', 'VST', 'VT', 'VTEB', 'VTI', 'VTRS', 'VTWO', 'VUG', 'VV', 'VWOB', 'VXF', 'VXUS', 'WBD', 'WCC', 'WDAY', 'WDC', 'WDS', 'WFC', 'WH', 'WIX', 'WMG', 'WMS', 'WWD', 'WYNN', 'X', 'XLC', 'XLG', 'XLK', 'XLV', 'XLY', 'XMMO', 'XP', 'XYL', 'XYZ', 'ZBRA', 'ZM', 'ZS', 'ZTS', 'ZWS']\n",
      "Column: Omega 5d\n",
      "  NaN: ['AAL', 'AAON', 'AAPL', 'ABBV', 'ABEV', 'ABNB', 'ACIW', 'ACN', 'ACWI', 'ACWX', 'ADBE', 'AEG', 'AER', 'AFRM', 'AGG', 'AGNC', 'AKAM', 'ALAB', 'ALC', 'ALNY', 'AMAT', 'AMD', 'AMZN', 'ANET', 'ANSS', 'APG', 'APO', 'APP', 'APTV', 'AR', 'ARCC', 'ARES', 'ARKB', 'ARKK', 'ARM', 'AS', 'ASML', 'ASX', 'ATI', 'AUR', 'AVGO', 'AVUS', 'AWI', 'AXON', 'AZN', 'BA', 'BABA', 'BAC', 'BAH', 'BALL', 'BAM', 'BAP', 'BBEU', 'BBIN', 'BBIO', 'BBJP', 'BBUS', 'BBVA', 'BBY', 'BCH', 'BDX', 'BECN', 'BEP', 'BIDU', 'BINC', 'BIRK', 'BITB', 'BIV', 'BKNG', 'BLDR', 'BLV', 'BMRN', 'BN', 'BND', 'BNS', 'BNT', 'BOND', 'BRKR', 'BROS', 'BSX', 'BUFR', 'BWXT', 'BXSL', 'C', 'CAE', 'CAH', 'CALF', 'CCJ', 'CDNS', 'CEG', 'CF', 'CFLT', 'CG', 'CGCP', 'CGDV', 'CGGO', 'CGGR', 'CGUS', 'CGXU', 'CIBR', 'CIEN', 'CM', 'CMF', 'CMG', 'CNM', 'CNP', 'COHR', 'COIN', 'CPAY', 'CPNG', 'CQP', 'CRBG', 'CRDO', 'CRH', 'CRM', 'CRWD', 'CSCO', 'CTSH', 'CVLT', 'CVNA', 'CW', 'CWB', 'CX', 'CYBR', 'DASH', 'DAY', 'DB', 'DBEF', 'DBX', 'DDOG', 'DELL', 'DFAC', 'DFAI', 'DFAU', 'DFAX', 'DFIV', 'DFUS', 'DGRO', 'DGRW', 'DHR', 'DIS', 'DIVO', 'DLR', 'DOCS', 'DOCU', 'DOX', 'DRS', 'DSI', 'DT', 'DUHP', 'DUOL', 'DXCM', 'DXJ', 'DYNF', 'EAGG', 'EDV', 'EFA', 'EFG', 'EFV', 'EGP', 'EHC', 'EL', 'EMB', 'EME', 'EMR', 'ENSG', 'ENTG', 'EPAM', 'EQIX', 'EQT', 'ERJ', 'ESGD', 'ESGU', 'ESGV', 'ESTC', 'ETN', 'EUFN', 'EWJ', 'EWT', 'EWZ', 'EXEL', 'EXPE', 'EZU', 'FBCG', 'FBND', 'FBTC', 'FDN', 'FDVV', 'FELC', 'FELG', 'FEZ', 'FFIV', 'FHN', 'FICO', 'FIX', 'FIXD', 'FLEX', 'FLOT', 'FLS', 'FMX', 'FN', 'FNDF', 'FNGA', 'FOX', 'FOXA', 'FPE', 'FRHC', 'FSK', 'FTAI', 'FTEC', 'FTNT', 'FWONA', 'FWONK', 'FYBR', 'G', 'GAP', 'GBTC', 'GDDY', 'GE', 'GEHC', 'GEN', 'GEV', 'GFL', 'GFS', 'GH', 'GKOS', 'GLW', 'GM', 'GOOG', 'GOOGL', 'GOVT', 'GPN', 'GRAB', 'GSIE', 'GSLC', 'GTLB', 'GTLS', 'HALO', 'HAS', 'HEFA', 'HLNE', 'HLT', 'HOOD', 'HPE', 'HUBS', 'HWM', 'HYG', 'HYLB', 'IBIT', 'IBKR', 'ICE', 'ICL', 'IDEV', 'IEF', 'IEFA', 'IEUR', 'IGIB', 'IGM', 'IGV', 'IHG', 'IHI', 'IJT', 'INCY', 'INFA', 'INFY', 'INTU', 'IONQ', 'IOO', 'IRM', 'ISRG', 'ITOT', 'IUSB', 'IUSG', 'IVV', 'IVW', 'IWB', 'IWF', 'IWM', 'IWO', 'IWP', 'IWV', 'IWY', 'IXJ', 'IXN', 'IXUS', 'IYW', 'JAAA', 'JAZZ', 'JBL', 'JCI', 'JCPB', 'JEF', 'JEPI', 'JEPQ', 'JGLO', 'JGRO', 'JIRE', 'JMBS', 'JNK', 'JNPR', 'JQUA', 'JXN', 'KB', 'KD', 'KEYS', 'KKR', 'KLAC', 'LCID', 'LDOS', 'LEVI', 'LLY', 'LLYVA', 'LLYVK', 'LMBS', 'LMT', 'LNW', 'LOAR', 'LOGI', 'LQD', 'LRCX', 'LTH', 'LUV', 'LYV', 'MANH', 'MASI', 'MBB', 'MBLY', 'MDB', 'MDGL', 'MELI', 'META', 'MFC', 'MGA', 'MGC', 'MGK', 'MGM', 'MNDY', 'MOAT', 'MORN', 'MOS', 'MPLX', 'MPWR', 'MRVL', 'MS', 'MSA', 'MSFT', 'MSI', 'MSTR', 'MSTY', 'MT', 'MTSI', 'MTUM', 'MTZ', 'MU', 'MUB', 'MUFG', 'NBIX', 'NCLH', 'NDAQ', 'NET', 'NFLX', 'NICE', 'NLY', 'NMR', 'NOW', 'NRG', 'NTAP', 'NTNX', 'NU', 'NUE', 'NVDA', 'NVDL', 'NVT', 'NWS', 'NWSA', 'NYT', 'OBDC', 'OC', 'OEF', 'OKE', 'OKTA', 'OLED', 'OMF', 'OMFL', 'ONEQ', 'ONON', 'ORCL', 'OSK', 'OTEX', 'OVV', 'OWL', 'PAAA', 'PAC', 'PANW', 'PARA', 'PATH', 'PAYC', 'PBUS', 'PCOR', 'PCTY', 'PDD', 'PDI', 'PEGA', 'PEN', 'PFF', 'PGX', 'PH', 'PHG', 'PINS', 'PLTR', 'PM', 'PODD', 'PPA', 'PR', 'PSN', 'PSTG', 'PTC', 'PWR', 'PYLD', 'PYPL', 'QCOM', 'QLD', 'QQQ', 'QQQM', 'QRVO', 'QUAL', 'QYLD', 'RBA', 'RBLX', 'RBRK', 'RCL', 'RDDT', 'REGN', 'RITM', 'RIVN', 'RJF', 'RKLB', 'ROIV', 'ROKU', 'RRX', 'RVMD', 'S', 'SAN', 'SAP', 'SATS', 'SBS', 'SCHB', 'SCHF', 'SCHG', 'SCHI', 'SCHK', 'SCHP', 'SCHW', 'SCHX', 'SCHZ', 'SE', 'SFM', 'SHOP', 'SHYG', 'SIRI', 'SJNK', 'SMCI', 'SMFG', 'SMH', 'SN', 'SNAP', 'SNPS', 'SNX', 'SOFI', 'SOXL', 'SOXX', 'SPAB', 'SPDW', 'SPG', 'SPHQ', 'SPHY', 'SPIB', 'SPLG', 'SPMB', 'SPMO', 'SPOT', 'SPSM', 'SPTL', 'SPTM', 'SPXC', 'SPXL', 'SPY', 'SPYG', 'SPYI', 'SRE', 'SSO', 'STEP', 'STWD', 'SUI', 'SUSA', 'SWKS', 'SYK', 'TCAF', 'TDG', 'TEAM', 'TEL', 'TEVA', 'TFLO', 'TGTX', 'TIP', 'TKO', 'TLH', 'TLT', 'TM', 'TME', 'TMF', 'TOST', 'TOTL', 'TPR', 'TQQQ', 'TRGP', 'TRMB', 'TSLA', 'TSLL', 'TSM', 'TT', 'TTD', 'TTWO', 'TW', 'TWLO', 'TXN', 'TXT', 'U', 'UBS', 'UCON', 'UI', 'UPRO', 'URTH', 'USHY', 'USIG', 'VBK', 'VCIT', 'VCLT', 'VCR', 'VEA', 'VEU', 'VGK', 'VGLT', 'VGT', 'VHT', 'VIG', 'VIGI', 'VIPS', 'VLTO', 'VMBS', 'VNO', 'VONE', 'VONG', 'VOO', 'VOOG', 'VOT', 'VOX', 'VPL', 'VRNA', 'VRSN', 'VRT', 'VST', 'VT', 'VTEB', 'VTI', 'VTRS', 'VTWO', 'VUG', 'VV', 'VWOB', 'VXF', 'VXUS', 'WBD', 'WCC', 'WDAY', 'WDC', 'WDS', 'WFC', 'WH', 'WIX', 'WMG', 'WMS', 'WWD', 'WYNN', 'X', 'XLC', 'XLG', 'XLK', 'XLV', 'XLY', 'XMMO', 'XP', 'XYL', 'XYZ', 'ZBRA', 'ZM', 'ZS', 'ZTS', 'ZWS']\n",
      "Column: Sortino 10d\n",
      "  Inf: ['BCH', 'CF', 'KB', 'MSTY']\n",
      "Column: Omega 10d\n",
      "  NaN: ['BCH', 'CF', 'KB', 'MSTY']\n",
      "df_to_save has_nan_inf: False\n",
      "NaN/Inf Locations AFTER Replacement:\n",
      "No NaN or Inf values found.\n",
      "       Sharpe 3d   Sortino 3d    Omega 3d  Sharpe 5d    Sortino 5d     Omega 5d  Sharpe 10d  Sortino 10d  Omega 10d  Sharpe 15d  Sortino 15d  Omega 15d  Sharpe 30d  Sortino 30d  Omega 30d  Sharpe 60d  Sortino 60d  Omega 60d  Sharpe 120d  Sortino 120d  Omega 120d  Sharpe 250d  Sortino 250d  Omega 250d\n",
      "A       5.153101    19.052913    2.697368  15.793771     65.559711     9.259747    3.204522     5.896718   1.619189    1.202716     1.867554   1.226958   -2.257962    -2.893040   0.672414   -3.871887    -4.635301   0.500543    -1.240867     -1.661360    0.804215    -0.846424     -1.118219    0.859558\n",
      "AA      3.723058    11.141484    1.992562  10.880600     28.880362     4.638584    1.956660     2.954931   1.380855    1.063227     1.742029   1.200455   -2.404414    -3.160253   0.660904   -1.736624    -2.277000   0.738112    -1.411740     -1.848063    0.780096    -0.480904     -0.665725    0.922313\n",
      "AAL    30.773939  3802.268850  339.733032  21.440824  15666.484213  1974.791483    0.627020     0.870148   1.105977    0.959973     1.686722   1.221849   -0.564022    -0.880908   0.893880   -2.831226    -3.910800   0.571980    -0.808785     -1.219591    0.848549    -0.487410     -0.718294    0.907541\n",
      "AAON   36.487069  3802.268850  339.733032  47.280299  15666.484213  1974.791483    2.546433     3.924418   1.466622    4.647126    10.956734   2.263572    1.206088     2.089533   1.223265   -1.314690    -1.632439   0.775873    -0.564618     -0.742126    0.891838     0.141787      0.188521    1.029324\n",
      "AAPL   17.945283  3802.268850  339.733032  25.731176  15666.484213  1974.791483    4.214191     6.719272   1.915683    2.638663     5.831754   1.629695    0.008446     0.013045   1.001637   -0.862372    -1.246825   0.843909    -0.305406     -0.438132    0.939938     0.708262      1.053964    1.149039\n",
      "...          ...          ...         ...        ...           ...          ...         ...          ...        ...         ...          ...        ...         ...          ...        ...         ...          ...        ...          ...           ...         ...          ...           ...         ...\n",
      "ZM     16.571453  3802.268850  339.733032  24.257649  15666.484213  1974.791483    6.972687    15.332513   3.056068    4.982330    11.669409   2.441816    0.615265     0.902697   1.120040   -1.487021    -1.872403   0.753386     0.177888      0.253723    1.032343     0.657177      0.993895    1.128121\n",
      "ZS     37.815905  3802.268850  339.733032  29.846140  15666.484213  1974.791483    6.101982    11.687786   2.575558    5.746574    17.352828   3.107236    1.397993     2.245794   1.291601    0.670599     0.997610   1.122920     0.944573      1.399510    1.175794     0.582763      0.795052    1.110288\n",
      "ZTO     7.573638    46.565924    5.148422   6.960423     33.589123     4.646616    5.653418    23.932647   3.716814    1.743830     2.697405   1.458630   -0.622126    -0.832692   0.885257    0.111921     0.152727   1.019922    -1.009299     -1.329085    0.842693    -0.202847     -0.297122    0.966185\n",
      "ZTS   121.720614  3802.268850  339.733032  24.933136  15666.484213  1974.791483    4.116641     7.087523   1.800190    0.738773     1.191241   1.131418   -1.105580    -1.526050   0.827628   -1.454557    -1.855313   0.780976    -1.132006     -1.446657    0.827141    -0.120091     -0.168321    0.979419\n",
      "ZWS    14.063795  3802.268850  339.733032  25.101555  15666.484213  1974.791483   11.289056    60.352729  11.711823    5.327053    10.974979   2.597136    0.528012     0.741408   1.103893   -1.629237    -2.112857   0.745349    -0.400211     -0.540089    0.930846     0.270413      0.387989    1.047561\n",
      "\n",
      "[1537 rows x 24 columns]\n"
     ]
    }
   ],
   "source": [
    "import numpy as np\n",
    "import pandas as pd\n",
    "\n",
    "def find_nan_inf(df):\n",
    "    \"\"\"\n",
    "    Finds locations of NaN, Inf, and -Inf values in a DataFrame.\n",
    "    \n",
    "    Args:\n",
    "        df (pd.DataFrame): DataFrame to check\n",
    "        \n",
    "    Returns:\n",
    "        dict: Dictionary with column names as keys and dicts of \n",
    "              {type: indices} as values\n",
    "    \"\"\"\n",
    "    nan_inf_locations = {}\n",
    "    for col in df.columns:\n",
    "        locations = {\n",
    "            'NaN': df[col].index[df[col].isnull()].tolist(),\n",
    "            'Inf': df[col].index[df[col] == np.inf].tolist(),\n",
    "            '-Inf': df[col].index[df[col] == -np.inf].tolist()\n",
    "        }\n",
    "        if any(locations.values()):\n",
    "            nan_inf_locations[col] = locations\n",
    "    return nan_inf_locations\n",
    "\n",
    "def print_nan_inf_locations(locations, message):\n",
    "    \"\"\"Prints NaN/Inf locations with a descriptive message.\"\"\"\n",
    "    print(message)\n",
    "    if locations:\n",
    "        for col, locs in locations.items():\n",
    "            print(f\"Column: {col}\")\n",
    "            for typ, indices in locs.items():\n",
    "                if indices:\n",
    "                    print(f\"  {typ}: {indices}\")\n",
    "    else:\n",
    "        print(\"No NaN or Inf values found.\")\n",
    "\n",
    "def get_column_replacement_values(df):\n",
    "    \"\"\"\n",
    "    Calculate replacement values for each column (max for Inf/NaN, min for -Inf).\n",
    "    \n",
    "    Args:\n",
    "        df (pd.DataFrame): Input DataFrame\n",
    "        \n",
    "    Returns:\n",
    "        tuple: (max_values, min_values) dictionaries with column replacement values\n",
    "    \"\"\"\n",
    "    numeric_cols = df.select_dtypes(include=[np.number]).columns\n",
    "    max_values = {}\n",
    "    min_values = {}\n",
    "    \n",
    "    for col in numeric_cols:\n",
    "        # Get finite values only\n",
    "        finite_vals = df[col][np.isfinite(df[col])]\n",
    "        if len(finite_vals) > 0:\n",
    "            max_values[col] = finite_vals.max()\n",
    "            min_values[col] = finite_vals.min()\n",
    "        else:\n",
    "            # If no finite values, use default\n",
    "            max_values[col] = 1e5\n",
    "            min_values[col] = -1e5\n",
    "    \n",
    "    return max_values, min_values\n",
    "\n",
    "# Check for NaN or Inf values\n",
    "has_nan_inf = combined_df.isnull().any().any() or not np.isfinite(combined_df).all().all()\n",
    "print(f'combined_df has_nan_inf: {has_nan_inf}')\n",
    "\n",
    "if has_nan_inf:\n",
    "    # Calculate replacement values for each column\n",
    "    max_values, min_values = get_column_replacement_values(combined_df)\n",
    "    print(\"Replacing NaN/Inf values with column-specific max/min values\")\n",
    "    \n",
    "    nan_inf_locations_before = find_nan_inf(combined_df)\n",
    "    print_nan_inf_locations(nan_inf_locations_before, \"NaN/Inf Locations BEFORE Replacement:\")\n",
    "    \n",
    "    # Create cleaned DataFrame\n",
    "    df_to_save = combined_df.copy()\n",
    "    \n",
    "    # Replace values column by column\n",
    "    for col in df_to_save.columns:\n",
    "        if col in max_values:  # Only numeric columns will be in max_values\n",
    "            # Replace NaN and +Inf with max value\n",
    "            # NaN is from Omega ratio where daily loss series are all zero\n",
    "            # +Inf is from Sharpe ratio where daily negative excess return series are all zero\n",
    "            df_to_save[col] = df_to_save[col].fillna(max_values[col])\n",
    "            df_to_save[col] = df_to_save[col].replace([np.inf], max_values[col])\n",
    "            # Replace -Inf with min value\n",
    "            # -Inf is from Sharpe ratio where daily excess return series are the same, therefore standard deviation is zero\n",
    "            df_to_save[col] = df_to_save[col].replace([-np.inf], min_values[col])\n",
    "else:\n",
    "    print(\"No NaN or Inf values found.\")\n",
    "    df_to_save = combined_df\n",
    "\n",
    "# Verification\n",
    "print(f'df_to_save has_nan_inf: {df_to_save.isnull().any().any() or not np.isfinite(df_to_save).all().all()}')\n",
    "print_nan_inf_locations(find_nan_inf(df_to_save), \"NaN/Inf Locations AFTER Replacement:\")\n",
    "\n",
    "# Output cleaned DataFrame\n",
    "print(df_to_save)"
   ]
  },
  {
   "cell_type": "code",
   "execution_count": 29,
   "metadata": {
    "execution": {
     "iopub.execute_input": "2025-04-10T23:23:33.085474Z",
     "iopub.status.busy": "2025-04-10T23:23:33.083467Z",
     "iopub.status.idle": "2025-04-10T23:23:33.097314Z",
     "shell.execute_reply": "2025-04-10T23:23:33.095295Z"
    }
   },
   "outputs": [
    {
     "data": {
      "text/plain": [
       "'AAL'"
      ]
     },
     "execution_count": 29,
     "metadata": {},
     "output_type": "execute_result"
    }
   ],
   "source": [
    "ticker_w_inf = nan_inf_locations_before['Sortino 3d']['Inf'][0]\n",
    "ticker_w_inf "
   ]
  },
  {
   "cell_type": "markdown",
   "metadata": {},
   "source": [
    "#### Use Cell below to check the inf, -inf and NaN replacement"
   ]
  },
  {
   "cell_type": "code",
   "execution_count": 30,
   "metadata": {
    "execution": {
     "iopub.execute_input": "2025-04-10T23:23:33.104314Z",
     "iopub.status.busy": "2025-04-10T23:23:33.103325Z",
     "iopub.status.idle": "2025-04-10T23:23:33.129040Z",
     "shell.execute_reply": "2025-04-10T23:23:33.127047Z"
    }
   },
   "outputs": [
    {
     "name": "stdout",
     "output_type": "stream",
     "text": [
      "combined_df.loc['ticker_w_inf']\n"
     ]
    },
    {
     "data": {
      "text/plain": [
       "Sharpe 3d       30.773939\n",
       "Sortino 3d            inf\n",
       "Omega 3d              NaN\n",
       "Sharpe 5d       21.440824\n",
       "Sortino 5d            inf\n",
       "Omega 5d              NaN\n",
       "Sharpe 10d       0.627020\n",
       "Sortino 10d      0.870148\n",
       "Omega 10d        1.105977\n",
       "Sharpe 15d       0.959973\n",
       "Sortino 15d      1.686722\n",
       "Omega 15d        1.221849\n",
       "Sharpe 30d      -0.564022\n",
       "Sortino 30d     -0.880908\n",
       "Omega 30d        0.893880\n",
       "Sharpe 60d      -2.831226\n",
       "Sortino 60d     -3.910800\n",
       "Omega 60d        0.571980\n",
       "Sharpe 120d     -0.808785\n",
       "Sortino 120d    -1.219591\n",
       "Omega 120d       0.848549\n",
       "Sharpe 250d     -0.487410\n",
       "Sortino 250d    -0.718294\n",
       "Omega 250d       0.907541\n",
       "Name: AAL, dtype: float64"
      ]
     },
     "metadata": {},
     "output_type": "display_data"
    },
    {
     "name": "stdout",
     "output_type": "stream",
     "text": [
      "\n",
      "df_to_save.loc['ticker_w_inf']\n"
     ]
    },
    {
     "data": {
      "text/plain": [
       "Sharpe 3d          30.773939\n",
       "Sortino 3d       3802.268850\n",
       "Omega 3d          339.733032\n",
       "Sharpe 5d          21.440824\n",
       "Sortino 5d      15666.484213\n",
       "Omega 5d         1974.791483\n",
       "Sharpe 10d          0.627020\n",
       "Sortino 10d         0.870148\n",
       "Omega 10d           1.105977\n",
       "Sharpe 15d          0.959973\n",
       "Sortino 15d         1.686722\n",
       "Omega 15d           1.221849\n",
       "Sharpe 30d         -0.564022\n",
       "Sortino 30d        -0.880908\n",
       "Omega 30d           0.893880\n",
       "Sharpe 60d         -2.831226\n",
       "Sortino 60d        -3.910800\n",
       "Omega 60d           0.571980\n",
       "Sharpe 120d        -0.808785\n",
       "Sortino 120d       -1.219591\n",
       "Omega 120d          0.848549\n",
       "Sharpe 250d        -0.487410\n",
       "Sortino 250d       -0.718294\n",
       "Omega 250d          0.907541\n",
       "Name: AAL, dtype: float64"
      ]
     },
     "metadata": {},
     "output_type": "display_data"
    }
   ],
   "source": [
    "print(f\"combined_df.loc['ticker_w_inf']\")\n",
    "display(combined_df.loc[ticker_w_inf])\n",
    "print(f\"\\ndf_to_save.loc['ticker_w_inf']\")\n",
    "display(df_to_save.loc[ticker_w_inf])"
   ]
  },
  {
   "cell_type": "code",
   "execution_count": 31,
   "metadata": {
    "execution": {
     "iopub.execute_input": "2025-04-10T23:23:33.136039Z",
     "iopub.status.busy": "2025-04-10T23:23:33.135045Z",
     "iopub.status.idle": "2025-04-10T23:23:33.180475Z",
     "shell.execute_reply": "2025-04-10T23:23:33.179041Z"
    }
   },
   "outputs": [
    {
     "name": "stdout",
     "output_type": "stream",
     "text": [
      "DataFrame successfully saved to ..\\data\\2025-04-25_df_perf_ratios_stocks_etfs.parquet\n"
     ]
    }
   ],
   "source": [
    "# Save the DataFrame to parquet file (always do this)\n",
    "df_to_save.to_parquet(dest_path, engine='pyarrow', compression='zstd')\n",
    "print(f\"DataFrame successfully saved to {dest_path}\")\n",
    "\n"
   ]
  },
  {
   "cell_type": "code",
   "execution_count": 32,
   "metadata": {
    "execution": {
     "iopub.execute_input": "2025-04-10T23:23:33.187511Z",
     "iopub.status.busy": "2025-04-10T23:23:33.186505Z",
     "iopub.status.idle": "2025-04-10T23:23:33.225918Z",
     "shell.execute_reply": "2025-04-10T23:23:33.223924Z"
    }
   },
   "outputs": [
    {
     "name": "stdout",
     "output_type": "stream",
     "text": [
      "+------+-------------+--------------+------------+-------------+--------------+------------+--------------+---------------+-------------+--------------+---------------+-------------+--------------+---------------+-------------+--------------+---------------+-------------+---------------+----------------+--------------+---------------+----------------+--------------+\n",
      "|      |   Sharpe 3d |   Sortino 3d |   Omega 3d |   Sharpe 5d |   Sortino 5d |   Omega 5d |   Sharpe 10d |   Sortino 10d |   Omega 10d |   Sharpe 15d |   Sortino 15d |   Omega 15d |   Sharpe 30d |   Sortino 30d |   Omega 30d |   Sharpe 60d |   Sortino 60d |   Omega 60d |   Sharpe 120d |   Sortino 120d |   Omega 120d |   Sharpe 250d |   Sortino 250d |   Omega 250d |\n",
      "+======+=============+==============+============+=============+==============+============+==============+===============+=============+==============+===============+=============+==============+===============+=============+==============+===============+=============+===============+================+==============+===============+================+==============+\n",
      "| AAPL |     17.9453 |    3802.2689 |   339.7330 |     25.7312 |   15666.4842 |  1974.7915 |       4.2142 |        6.7193 |      1.9157 |       2.6387 |        5.8318 |      1.6297 |       0.0084 |        0.0130 |      1.0016 |      -0.8624 |       -1.2468 |      0.8439 |       -0.3054 |        -0.4381 |       0.9399 |        0.7083 |         1.0540 |       1.1490 |\n",
      "+------+-------------+--------------+------------+-------------+--------------+------------+--------------+---------------+-------------+--------------+---------------+-------------+--------------+---------------+-------------+--------------+---------------+-------------+---------------+----------------+--------------+---------------+----------------+--------------+\n",
      "| MSFT |     22.6691 |    3802.2689 |   339.7330 |     37.1566 |   15666.4842 |  1974.7915 |       0.7217 |        1.0979 |      1.1202 |       3.0281 |        7.3408 |      1.7739 |       0.2752 |        0.5049 |      1.0538 |      -0.6847 |       -1.1273 |      0.8787 |       -0.2337 |        -0.3514 |       0.9575 |       -0.1539 |        -0.2152 |       0.9724 |\n",
      "+------+-------------+--------------+------------+-------------+--------------+------------+--------------+---------------+-------------+--------------+---------------+-------------+--------------+---------------+-------------+--------------+---------------+-------------+---------------+----------------+--------------+---------------+----------------+--------------+\n",
      "| GOOG |     47.4482 |    3802.2689 |   339.7330 |     66.0389 |   15666.4842 |  1974.7915 |       2.3212 |        3.9056 |      1.3750 |       3.6439 |        8.4105 |      1.8506 |      -0.2848 |       -0.4509 |      0.9545 |      -2.1198 |       -2.8308 |      0.7044 |       -0.2256 |        -0.3257 |       0.9631 |       -0.1645 |        -0.2252 |       0.9725 |\n",
      "+------+-------------+--------------+------------+-------------+--------------+------------+--------------+---------------+-------------+--------------+---------------+-------------+--------------+---------------+-------------+--------------+---------------+-------------+---------------+----------------+--------------+---------------+----------------+--------------+\n",
      "| NVDA |    130.0216 |    3802.2689 |   339.7330 |     55.5044 |   15666.4842 |  1974.7915 |       0.2555 |        0.3515 |      1.0400 |       3.3570 |        7.4076 |      1.8516 |      -0.6600 |       -1.0692 |      0.8867 |      -0.4081 |       -0.5982 |      0.9327 |       -0.3379 |        -0.4657 |       0.9425 |        0.6301 |         0.9104 |       1.1133 |\n",
      "+------+-------------+--------------+------------+-------------+--------------+------------+--------------+---------------+-------------+--------------+---------------+-------------+--------------+---------------+-------------+--------------+---------------+-------------+---------------+----------------+--------------+---------------+----------------+--------------+\n",
      "| AMZN |     25.9691 |    3802.2689 |   339.7330 |     38.7013 |   15666.4842 |  1974.7915 |       1.4725 |        2.6137 |      1.2405 |       2.8749 |        6.1657 |      1.6191 |      -0.4488 |       -0.6738 |      0.9256 |      -1.8235 |       -2.5154 |      0.7302 |        0.1666 |         0.2447 |       1.0289 |        0.2020 |         0.2853 |       1.0359 |\n",
      "+------+-------------+--------------+------------+-------------+--------------+------------+--------------+---------------+-------------+--------------+---------------+-------------+--------------+---------------+-------------+--------------+---------------+-------------+---------------+----------------+--------------+---------------+----------------+--------------+\n",
      "| TSLA |     23.6215 |    3802.2689 |   339.7330 |     33.2989 |   15666.4842 |  1974.7915 |       4.6497 |        9.1010 |      2.2095 |       3.0561 |        7.4519 |      1.8154 |       1.5173 |        2.8415 |      1.3001 |      -1.1598 |       -1.7203 |      0.8220 |        0.6891 |         1.1034 |       1.1223 |        1.0271 |         1.6860 |       1.1974 |\n",
      "+------+-------------+--------------+------------+-------------+--------------+------------+--------------+---------------+-------------+--------------+---------------+-------------+--------------+---------------+-------------+--------------+---------------+-------------+---------------+----------------+--------------+---------------+----------------+--------------+\n",
      "| META |    330.8447 |    3802.2689 |   339.7330 |     71.0714 |   15666.4842 |  1974.7915 |       0.5260 |        0.8198 |      1.0790 |       2.1182 |        4.4803 |      1.4799 |      -1.0810 |       -1.6431 |      0.8196 |      -1.6550 |       -2.3344 |      0.7399 |       -0.0636 |        -0.0935 |       0.9886 |        0.6695 |         0.9914 |       1.1279 |\n",
      "+------+-------------+--------------+------------+-------------+--------------+------------+--------------+---------------+-------------+--------------+---------------+-------------+--------------+---------------+-------------+--------------+---------------+-------------+---------------+----------------+--------------+---------------+----------------+--------------+\n",
      "| NFLX |     13.4754 |    3802.2689 |   339.7330 |     17.6872 |   15666.4842 |  1974.7915 |      14.1325 |       64.3567 |     13.1623 |       9.8135 |       36.2969 |      6.8228 |       3.4138 |        5.9438 |      1.8017 |       1.3283 |        1.9461 |      1.2514 |        2.1856 |         3.4448 |       1.4745 |        2.1336 |         3.5345 |       1.4693 |\n",
      "+------+-------------+--------------+------------+-------------+--------------+------------+--------------+---------------+-------------+--------------+---------------+-------------+--------------+---------------+-------------+--------------+---------------+-------------+---------------+----------------+--------------+---------------+----------------+--------------+\n",
      "| V    |      4.1604 |      13.2212 |     2.1778 |     11.1803 |     206.7222 |    27.0446 |       0.5150 |        0.8254 |      1.1021 |       2.9419 |        7.0720 |      1.7922 |       0.3148 |        0.4648 |      1.0637 |      -0.2652 |       -0.3746 |      0.9491 |        1.2184 |         1.8191 |       1.2726 |        0.8816 |         1.2481 |       1.1821 |\n",
      "+------+-------------+--------------+------------+-------------+--------------+------------+--------------+---------------+-------------+--------------+---------------+-------------+--------------+---------------+-------------+--------------+---------------+-------------+---------------+----------------+--------------+---------------+----------------+--------------+\n",
      "| JPM  |      6.0623 |      26.3615 |     3.3485 |     17.0041 |     106.2980 |    14.3923 |       3.3231 |        7.0881 |      1.6558 |       6.1219 |       16.6185 |      2.9474 |       1.1255 |        1.5866 |      1.2298 |      -0.9133 |       -1.2035 |      0.8471 |        0.6935 |         1.0526 |       1.1485 |        0.8956 |         1.3177 |       1.1881 |\n",
      "+------+-------------+--------------+------------+-------------+--------------+------------+--------------+---------------+-------------+--------------+---------------+-------------+--------------+---------------+-------------+--------------+---------------+-------------+---------------+----------------+--------------+---------------+----------------+--------------+\n",
      "| UNH  |    -54.7405 |     -15.5509 |     0.0000 |     -7.7470 |      -8.0958 |     0.2638 |      -7.9055 |       -7.4160 |      0.0243 |      -3.2882 |       -3.5092 |      0.4256 |      -1.4124 |       -1.5322 |      0.6774 |      -1.6969 |       -1.8377 |      0.6562 |       -1.1160 |        -1.2645 |       0.7854 |       -0.3198 |        -0.3791 |       0.9327 |\n",
      "+------+-------------+--------------+------------+-------------+--------------+------------+--------------+---------------+-------------+--------------+---------------+-------------+--------------+---------------+-------------+--------------+---------------+-------------+---------------+----------------+--------------+---------------+----------------+--------------+\n"
     ]
    }
   ],
   "source": [
    "import pandas as pd\n",
    "import numpy as np\n",
    "from tabulate import tabulate\n",
    "\n",
    "_symbols = ['AAPL', 'MSFT', 'GOOG', 'NVDA', 'AMZN', 'TSLA', 'META', 'NFLX', 'V', 'JPM', 'UNH']\n",
    "# Create and display the formatted table\n",
    "selected_df = df_to_save.loc[_symbols] #Use df_to_save here\n",
    "print(tabulate(selected_df, headers='keys', tablefmt='grid', floatfmt='.4f'))"
   ]
  },
  {
   "cell_type": "code",
   "execution_count": null,
   "metadata": {},
   "outputs": [],
   "source": []
  }
 ],
 "metadata": {
  "kernelspec": {
   "display_name": ".venv",
   "language": "python",
   "name": "python3"
  },
  "language_info": {
   "codemirror_mode": {
    "name": "ipython",
    "version": 3
   },
   "file_extension": ".py",
   "mimetype": "text/x-python",
   "name": "python",
   "nbconvert_exporter": "python",
   "pygments_lexer": "ipython3",
   "version": "3.11.9"
  }
 },
 "nbformat": 4,
 "nbformat_minor": 2
}
