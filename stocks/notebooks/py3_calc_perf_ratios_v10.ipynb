{
 "cells": [
  {
   "cell_type": "code",
   "execution_count": null,
   "metadata": {},
   "outputs": [],
   "source": []
  },
  {
   "cell_type": "code",
   "execution_count": 1,
   "metadata": {
    "execution": {
     "iopub.execute_input": "2025-04-10T23:20:31.839513Z",
     "iopub.status.busy": "2025-04-10T23:20:31.838515Z",
     "iopub.status.idle": "2025-04-10T23:20:31.858636Z",
     "shell.execute_reply": "2025-04-10T23:20:31.856620Z"
    }
   },
   "outputs": [],
   "source": [
    "# Configuration\n",
    "\n",
    "# days used in calculating ratios\n",
    "DAYS_RATIO = [3, 5, 10, 15, 30, 60, 120, 250]\n",
    "\n",
    "# risk free rate\n",
    "RISK_FREE_RATE = 0.04"
   ]
  },
  {
   "cell_type": "code",
   "execution_count": 2,
   "metadata": {
    "execution": {
     "iopub.execute_input": "2025-04-10T23:20:31.867411Z",
     "iopub.status.busy": "2025-04-10T23:20:31.865410Z",
     "iopub.status.idle": "2025-04-10T23:20:33.428364Z",
     "shell.execute_reply": "2025-04-10T23:20:33.425348Z"
    }
   },
   "outputs": [],
   "source": [
    "import pandas as pd\n",
    "\n",
    "# Set pandas display options to show more columns and rows\n",
    "pd.set_option('display.max_columns', None)  # Show all columns\n",
    "# pd.set_option('display.max_rows', 10)       # Limit to 10 rows for readability\n",
    "pd.set_option('display.width', None)        # Let the display adjust to the window\n",
    "\n",
    "# 2. Set the display width (optional but often helpful)\n",
    "#    'None' tries to detect terminal width. \n",
    "#    A large number (e.g., 1000) ensures no wrapping unless absolutely necessary.\n",
    "pd.set_option('display.width', 1000) "
   ]
  },
  {
   "cell_type": "code",
   "execution_count": 3,
   "metadata": {
    "execution": {
     "iopub.execute_input": "2025-04-10T23:20:33.435368Z",
     "iopub.status.busy": "2025-04-10T23:20:33.434365Z",
     "iopub.status.idle": "2025-04-10T23:20:33.450008Z",
     "shell.execute_reply": "2025-04-10T23:20:33.447993Z"
    }
   },
   "outputs": [
    {
     "name": "stdout",
     "output_type": "stream",
     "text": [
      "date_str: 2025-04-10\n",
      "DEST_DIR: ..\\data\n",
      "\n",
      "source_path: ..\\data\\2025-04-10_df_OHLCV_clean.parquet\n",
      "dest_path: ..\\data\\2025-04-10_df_perf_ratios.parquet\n"
     ]
    }
   ],
   "source": [
    "# process_files.py\n",
    "from config import date_str, DOWNLOAD_DIR, DEST_DIR\n",
    "from pathlib import Path  # Better path handling\n",
    "\n",
    "print(f\"date_str: {date_str}\")\n",
    "# print(f\"DOWNLOAD_DIR: {DOWNLOAD_DIR}\")\n",
    "print(f\"DEST_DIR: {DEST_DIR}\\n\")\n",
    "\n",
    "# Build paths\n",
    "source_path = Path(DEST_DIR) / f'{date_str}_df_OHLCV_clean.parquet'\n",
    "dest_path = Path(DEST_DIR) / f'{date_str}_df_perf_ratios.parquet'\n",
    "\n",
    "print(f\"source_path: {source_path}\")\n",
    "print(f\"dest_path: {dest_path}\")"
   ]
  },
  {
   "cell_type": "code",
   "execution_count": 4,
   "metadata": {
    "execution": {
     "iopub.execute_input": "2025-04-10T23:20:33.554794Z",
     "iopub.status.busy": "2025-04-10T23:20:33.553795Z",
     "iopub.status.idle": "2025-04-10T23:20:33.663314Z",
     "shell.execute_reply": "2025-04-10T23:20:33.662298Z"
    }
   },
   "outputs": [],
   "source": [
    "import pandas as pd\n",
    "\n",
    "# Get tickers from df_finviz.pkl file\n",
    "df_finviz = pd.read_parquet(f'..\\data\\{date_str}_df_finviz.parquet')\n",
    "tickers = df_finviz.index.to_list()"
   ]
  },
  {
   "cell_type": "code",
   "execution_count": 5,
   "metadata": {
    "execution": {
     "iopub.execute_input": "2025-04-10T23:20:33.671313Z",
     "iopub.status.busy": "2025-04-10T23:20:33.670314Z",
     "iopub.status.idle": "2025-04-10T23:20:33.969929Z",
     "shell.execute_reply": "2025-04-10T23:20:33.967911Z"
    }
   },
   "outputs": [
    {
     "data": {
      "text/html": [
       "<div>\n",
       "<style scoped>\n",
       "    .dataframe tbody tr th:only-of-type {\n",
       "        vertical-align: middle;\n",
       "    }\n",
       "\n",
       "    .dataframe tbody tr th {\n",
       "        vertical-align: top;\n",
       "    }\n",
       "\n",
       "    .dataframe thead th {\n",
       "        text-align: right;\n",
       "    }\n",
       "</style>\n",
       "<table border=\"1\" class=\"dataframe\">\n",
       "  <thead>\n",
       "    <tr style=\"text-align: right;\">\n",
       "      <th></th>\n",
       "      <th></th>\n",
       "      <th>Open</th>\n",
       "      <th>High</th>\n",
       "      <th>Low</th>\n",
       "      <th>Close</th>\n",
       "      <th>Adj Close</th>\n",
       "      <th>Volume</th>\n",
       "      <th>Adj Open</th>\n",
       "      <th>Adj High</th>\n",
       "      <th>Adj Low</th>\n",
       "    </tr>\n",
       "    <tr>\n",
       "      <th>Symbol</th>\n",
       "      <th>Date</th>\n",
       "      <th></th>\n",
       "      <th></th>\n",
       "      <th></th>\n",
       "      <th></th>\n",
       "      <th></th>\n",
       "      <th></th>\n",
       "      <th></th>\n",
       "      <th></th>\n",
       "      <th></th>\n",
       "    </tr>\n",
       "  </thead>\n",
       "  <tbody>\n",
       "    <tr>\n",
       "      <th rowspan=\"5\" valign=\"top\">FNV</th>\n",
       "      <th>2025-04-10</th>\n",
       "      <td>151.81</td>\n",
       "      <td>159.46</td>\n",
       "      <td>150.74</td>\n",
       "      <td>157.48</td>\n",
       "      <td>157.48</td>\n",
       "      <td>1689960</td>\n",
       "      <td>151.810000</td>\n",
       "      <td>159.460000</td>\n",
       "      <td>150.740000</td>\n",
       "    </tr>\n",
       "    <tr>\n",
       "      <th>2025-04-09</th>\n",
       "      <td>148.04</td>\n",
       "      <td>152.50</td>\n",
       "      <td>145.39</td>\n",
       "      <td>150.22</td>\n",
       "      <td>150.22</td>\n",
       "      <td>1885000</td>\n",
       "      <td>148.040000</td>\n",
       "      <td>152.500000</td>\n",
       "      <td>145.390000</td>\n",
       "    </tr>\n",
       "    <tr>\n",
       "      <th>2025-04-08</th>\n",
       "      <td>150.50</td>\n",
       "      <td>150.69</td>\n",
       "      <td>142.08</td>\n",
       "      <td>143.04</td>\n",
       "      <td>143.04</td>\n",
       "      <td>1237500</td>\n",
       "      <td>150.500000</td>\n",
       "      <td>150.690000</td>\n",
       "      <td>142.080000</td>\n",
       "    </tr>\n",
       "    <tr>\n",
       "      <th>2025-04-07</th>\n",
       "      <td>141.48</td>\n",
       "      <td>150.19</td>\n",
       "      <td>140.03</td>\n",
       "      <td>145.45</td>\n",
       "      <td>145.45</td>\n",
       "      <td>1431800</td>\n",
       "      <td>141.480000</td>\n",
       "      <td>150.190000</td>\n",
       "      <td>140.030000</td>\n",
       "    </tr>\n",
       "    <tr>\n",
       "      <th>2025-04-04</th>\n",
       "      <td>155.00</td>\n",
       "      <td>155.97</td>\n",
       "      <td>144.76</td>\n",
       "      <td>145.02</td>\n",
       "      <td>145.02</td>\n",
       "      <td>1962700</td>\n",
       "      <td>155.000000</td>\n",
       "      <td>155.970000</td>\n",
       "      <td>144.760000</td>\n",
       "    </tr>\n",
       "    <tr>\n",
       "      <th>...</th>\n",
       "      <th>...</th>\n",
       "      <td>...</td>\n",
       "      <td>...</td>\n",
       "      <td>...</td>\n",
       "      <td>...</td>\n",
       "      <td>...</td>\n",
       "      <td>...</td>\n",
       "      <td>...</td>\n",
       "      <td>...</td>\n",
       "      <td>...</td>\n",
       "    </tr>\n",
       "    <tr>\n",
       "      <th rowspan=\"5\" valign=\"top\">PNFP</th>\n",
       "      <th>2024-04-17</th>\n",
       "      <td>80.08</td>\n",
       "      <td>80.33</td>\n",
       "      <td>78.32</td>\n",
       "      <td>78.33</td>\n",
       "      <td>77.61</td>\n",
       "      <td>214200</td>\n",
       "      <td>79.343914</td>\n",
       "      <td>79.591616</td>\n",
       "      <td>77.600092</td>\n",
       "    </tr>\n",
       "    <tr>\n",
       "      <th>2024-04-16</th>\n",
       "      <td>79.00</td>\n",
       "      <td>79.68</td>\n",
       "      <td>78.18</td>\n",
       "      <td>78.95</td>\n",
       "      <td>78.23</td>\n",
       "      <td>289700</td>\n",
       "      <td>78.279544</td>\n",
       "      <td>78.953343</td>\n",
       "      <td>77.467022</td>\n",
       "    </tr>\n",
       "    <tr>\n",
       "      <th>2024-04-15</th>\n",
       "      <td>80.40</td>\n",
       "      <td>81.57</td>\n",
       "      <td>78.85</td>\n",
       "      <td>79.79</td>\n",
       "      <td>79.06</td>\n",
       "      <td>450300</td>\n",
       "      <td>79.664419</td>\n",
       "      <td>80.823715</td>\n",
       "      <td>78.128600</td>\n",
       "    </tr>\n",
       "    <tr>\n",
       "      <th>2024-04-12</th>\n",
       "      <td>79.39</td>\n",
       "      <td>80.06</td>\n",
       "      <td>78.89</td>\n",
       "      <td>79.95</td>\n",
       "      <td>79.22</td>\n",
       "      <td>390900</td>\n",
       "      <td>78.665113</td>\n",
       "      <td>79.328996</td>\n",
       "      <td>78.169679</td>\n",
       "    </tr>\n",
       "    <tr>\n",
       "      <th>2024-04-11</th>\n",
       "      <td>80.09</td>\n",
       "      <td>80.64</td>\n",
       "      <td>78.98</td>\n",
       "      <td>80.46</td>\n",
       "      <td>79.72</td>\n",
       "      <td>309500</td>\n",
       "      <td>79.353403</td>\n",
       "      <td>79.898345</td>\n",
       "      <td>78.253612</td>\n",
       "    </tr>\n",
       "  </tbody>\n",
       "</table>\n",
       "<p>386038 rows × 9 columns</p>\n",
       "</div>"
      ],
      "text/plain": [
       "                     Open    High     Low   Close  Adj Close   Volume    Adj Open    Adj High     Adj Low\n",
       "Symbol Date                                                                                              \n",
       "FNV    2025-04-10  151.81  159.46  150.74  157.48     157.48  1689960  151.810000  159.460000  150.740000\n",
       "       2025-04-09  148.04  152.50  145.39  150.22     150.22  1885000  148.040000  152.500000  145.390000\n",
       "       2025-04-08  150.50  150.69  142.08  143.04     143.04  1237500  150.500000  150.690000  142.080000\n",
       "       2025-04-07  141.48  150.19  140.03  145.45     145.45  1431800  141.480000  150.190000  140.030000\n",
       "       2025-04-04  155.00  155.97  144.76  145.02     145.02  1962700  155.000000  155.970000  144.760000\n",
       "...                   ...     ...     ...     ...        ...      ...         ...         ...         ...\n",
       "PNFP   2024-04-17   80.08   80.33   78.32   78.33      77.61   214200   79.343914   79.591616   77.600092\n",
       "       2024-04-16   79.00   79.68   78.18   78.95      78.23   289700   78.279544   78.953343   77.467022\n",
       "       2024-04-15   80.40   81.57   78.85   79.79      79.06   450300   79.664419   80.823715   78.128600\n",
       "       2024-04-12   79.39   80.06   78.89   79.95      79.22   390900   78.665113   79.328996   78.169679\n",
       "       2024-04-11   80.09   80.64   78.98   80.46      79.72   309500   79.353403   79.898345   78.253612\n",
       "\n",
       "[386038 rows x 9 columns]"
      ]
     },
     "metadata": {},
     "output_type": "display_data"
    }
   ],
   "source": [
    "import pandas as pd\n",
    "\n",
    "pd.set_option('display.width', 1000) \n",
    "\n",
    "# Load the DataFrame df_OHLCV_2025-03-14_clean.pkl\n",
    "# df = pd.read_pickle(source_path)\n",
    "df = pd.read_parquet(source_path, engine='pyarrow')\n",
    "\n",
    "# # Display the first few rows of the DataFrame to verify\n",
    "# df = df[['Adj Close']].copy()\n",
    "display(df)"
   ]
  },
  {
   "cell_type": "code",
   "execution_count": 6,
   "metadata": {
    "execution": {
     "iopub.execute_input": "2025-04-10T23:20:33.976927Z",
     "iopub.status.busy": "2025-04-10T23:20:33.974932Z",
     "iopub.status.idle": "2025-04-10T23:20:34.223993Z",
     "shell.execute_reply": "2025-04-10T23:20:34.221971Z"
    }
   },
   "outputs": [
    {
     "data": {
      "text/html": [
       "<div>\n",
       "<style scoped>\n",
       "    .dataframe tbody tr th:only-of-type {\n",
       "        vertical-align: middle;\n",
       "    }\n",
       "\n",
       "    .dataframe tbody tr th {\n",
       "        vertical-align: top;\n",
       "    }\n",
       "\n",
       "    .dataframe thead th {\n",
       "        text-align: right;\n",
       "    }\n",
       "</style>\n",
       "<table border=\"1\" class=\"dataframe\">\n",
       "  <thead>\n",
       "    <tr style=\"text-align: right;\">\n",
       "      <th></th>\n",
       "      <th></th>\n",
       "      <th>Adj Close</th>\n",
       "    </tr>\n",
       "    <tr>\n",
       "      <th>Symbol</th>\n",
       "      <th>Date</th>\n",
       "      <th></th>\n",
       "    </tr>\n",
       "  </thead>\n",
       "  <tbody>\n",
       "    <tr>\n",
       "      <th rowspan=\"5\" valign=\"top\">FNV</th>\n",
       "      <th>2025-04-10</th>\n",
       "      <td>157.48</td>\n",
       "    </tr>\n",
       "    <tr>\n",
       "      <th>2025-04-09</th>\n",
       "      <td>150.22</td>\n",
       "    </tr>\n",
       "    <tr>\n",
       "      <th>2025-04-08</th>\n",
       "      <td>143.04</td>\n",
       "    </tr>\n",
       "    <tr>\n",
       "      <th>2025-04-07</th>\n",
       "      <td>145.45</td>\n",
       "    </tr>\n",
       "    <tr>\n",
       "      <th>2025-04-04</th>\n",
       "      <td>145.02</td>\n",
       "    </tr>\n",
       "    <tr>\n",
       "      <th>...</th>\n",
       "      <th>...</th>\n",
       "      <td>...</td>\n",
       "    </tr>\n",
       "    <tr>\n",
       "      <th rowspan=\"5\" valign=\"top\">PNFP</th>\n",
       "      <th>2024-04-17</th>\n",
       "      <td>77.61</td>\n",
       "    </tr>\n",
       "    <tr>\n",
       "      <th>2024-04-16</th>\n",
       "      <td>78.23</td>\n",
       "    </tr>\n",
       "    <tr>\n",
       "      <th>2024-04-15</th>\n",
       "      <td>79.06</td>\n",
       "    </tr>\n",
       "    <tr>\n",
       "      <th>2024-04-12</th>\n",
       "      <td>79.22</td>\n",
       "    </tr>\n",
       "    <tr>\n",
       "      <th>2024-04-11</th>\n",
       "      <td>79.72</td>\n",
       "    </tr>\n",
       "  </tbody>\n",
       "</table>\n",
       "<p>386038 rows × 1 columns</p>\n",
       "</div>"
      ],
      "text/plain": [
       "                   Adj Close\n",
       "Symbol Date                 \n",
       "FNV    2025-04-10     157.48\n",
       "       2025-04-09     150.22\n",
       "       2025-04-08     143.04\n",
       "       2025-04-07     145.45\n",
       "       2025-04-04     145.02\n",
       "...                      ...\n",
       "PNFP   2024-04-17      77.61\n",
       "       2024-04-16      78.23\n",
       "       2024-04-15      79.06\n",
       "       2024-04-12      79.22\n",
       "       2024-04-11      79.72\n",
       "\n",
       "[386038 rows x 1 columns]"
      ]
     },
     "metadata": {},
     "output_type": "display_data"
    }
   ],
   "source": [
    "import pandas as pd\n",
    "\n",
    "# Load the DataFrame df_OHLCV_2025-03-14_clean.pkl\n",
    "# df = pd.read_pickle(source_path)\n",
    "df = pd.read_parquet(source_path, engine='pyarrow')\n",
    "\n",
    "# Display the first few rows of the DataFrame to verify\n",
    "df = df[['Adj Close']].copy()\n",
    "display(df)"
   ]
  },
  {
   "cell_type": "code",
   "execution_count": 7,
   "metadata": {
    "execution": {
     "iopub.execute_input": "2025-04-10T23:20:34.230987Z",
     "iopub.status.busy": "2025-04-10T23:20:34.229986Z",
     "iopub.status.idle": "2025-04-10T23:20:34.274225Z",
     "shell.execute_reply": "2025-04-10T23:20:34.272208Z"
    }
   },
   "outputs": [
    {
     "name": "stdout",
     "output_type": "stream",
     "text": [
      "<class 'pandas.core.frame.DataFrame'>\n",
      "MultiIndex: 386038 entries, ('FNV', Timestamp('2025-04-10 00:00:00')) to ('PNFP', Timestamp('2024-04-11 00:00:00'))\n",
      "Data columns (total 1 columns):\n",
      " #   Column     Non-Null Count   Dtype  \n",
      "---  ------     --------------   -----  \n",
      " 0   Adj Close  386038 non-null  float64\n",
      "dtypes: float64(1)\n",
      "memory usage: 4.5+ MB\n"
     ]
    }
   ],
   "source": [
    "df.info()"
   ]
  },
  {
   "cell_type": "code",
   "execution_count": 18,
   "metadata": {},
   "outputs": [
    {
     "data": {
      "text/html": [
       "<div>\n",
       "<style scoped>\n",
       "    .dataframe tbody tr th:only-of-type {\n",
       "        vertical-align: middle;\n",
       "    }\n",
       "\n",
       "    .dataframe tbody tr th {\n",
       "        vertical-align: top;\n",
       "    }\n",
       "\n",
       "    .dataframe thead th {\n",
       "        text-align: right;\n",
       "    }\n",
       "</style>\n",
       "<table border=\"1\" class=\"dataframe\">\n",
       "  <thead>\n",
       "    <tr style=\"text-align: right;\">\n",
       "      <th></th>\n",
       "      <th>Adj Close</th>\n",
       "    </tr>\n",
       "    <tr>\n",
       "      <th>Date</th>\n",
       "      <th></th>\n",
       "    </tr>\n",
       "  </thead>\n",
       "  <tbody>\n",
       "    <tr>\n",
       "      <th>2025-04-10</th>\n",
       "      <td>111.55</td>\n",
       "    </tr>\n",
       "    <tr>\n",
       "      <th>2025-04-09</th>\n",
       "      <td>105.80</td>\n",
       "    </tr>\n",
       "    <tr>\n",
       "      <th>2025-04-08</th>\n",
       "      <td>100.13</td>\n",
       "    </tr>\n",
       "    <tr>\n",
       "      <th>2025-04-07</th>\n",
       "      <td>99.63</td>\n",
       "    </tr>\n",
       "    <tr>\n",
       "      <th>2025-04-04</th>\n",
       "      <td>99.48</td>\n",
       "    </tr>\n",
       "    <tr>\n",
       "      <th>...</th>\n",
       "      <td>...</td>\n",
       "    </tr>\n",
       "    <tr>\n",
       "      <th>2024-04-17</th>\n",
       "      <td>61.82</td>\n",
       "    </tr>\n",
       "    <tr>\n",
       "      <th>2024-04-16</th>\n",
       "      <td>61.08</td>\n",
       "    </tr>\n",
       "    <tr>\n",
       "      <th>2024-04-15</th>\n",
       "      <td>60.77</td>\n",
       "    </tr>\n",
       "    <tr>\n",
       "      <th>2024-04-12</th>\n",
       "      <td>60.79</td>\n",
       "    </tr>\n",
       "    <tr>\n",
       "      <th>2024-04-11</th>\n",
       "      <td>61.01</td>\n",
       "    </tr>\n",
       "  </tbody>\n",
       "</table>\n",
       "<p>251 rows × 1 columns</p>\n",
       "</div>"
      ],
      "text/plain": [
       "            Adj Close\n",
       "Date                 \n",
       "2025-04-10     111.55\n",
       "2025-04-09     105.80\n",
       "2025-04-08     100.13\n",
       "2025-04-07      99.63\n",
       "2025-04-04      99.48\n",
       "...               ...\n",
       "2024-04-17      61.82\n",
       "2024-04-16      61.08\n",
       "2024-04-15      60.77\n",
       "2024-04-12      60.79\n",
       "2024-04-11      61.01\n",
       "\n",
       "[251 rows x 1 columns]"
      ]
     },
     "execution_count": 18,
     "metadata": {},
     "output_type": "execute_result"
    }
   ],
   "source": [
    "df.loc['AEM']"
   ]
  },
  {
   "cell_type": "code",
   "execution_count": 8,
   "metadata": {
    "execution": {
     "iopub.execute_input": "2025-04-10T23:20:34.282225Z",
     "iopub.status.busy": "2025-04-10T23:20:34.281235Z",
     "iopub.status.idle": "2025-04-10T23:21:57.860391Z",
     "shell.execute_reply": "2025-04-10T23:21:57.858372Z"
    }
   },
   "outputs": [
    {
     "name": "stdout",
     "output_type": "stream",
     "text": [
      "                   Adj Close\n",
      "Symbol Date                 \n",
      "AAPL   2025-04-10     190.42\n",
      "       2025-04-09     198.85\n",
      "       2025-04-08     172.42\n",
      "       2025-04-07     181.46\n",
      "       2025-04-04     188.38\n",
      "...                      ...\n",
      "SKYY   2024-04-17      90.76\n",
      "       2024-04-16      91.55\n",
      "       2024-04-15      91.44\n",
      "       2024-04-12      93.68\n",
      "       2024-04-11      96.05\n",
      "\n",
      "[386038 rows x 1 columns]\n"
     ]
    }
   ],
   "source": [
    "import pandas as pd\n",
    "\n",
    "def select_tickers_data(df, tickers):\n",
    "  \"\"\"\n",
    "  Selects data for a list of tickers from a DataFrame with a MultiIndex\n",
    "  where the first level is the ticker and the second level is the date.\n",
    "\n",
    "  Args:\n",
    "    df (pd.DataFrame): The input DataFrame with a MultiIndex.\n",
    "    tickers (list): A list of ticker symbols to select.\n",
    "\n",
    "  Returns:\n",
    "    pd.DataFrame: A DataFrame containing only the data for the specified tickers.\n",
    "                  Rows for tickers not found will not be included.\n",
    "  \"\"\"\n",
    "  valid_tickers = [t for t in tickers if t in df.index.get_level_values(0)]  # Filter out the tickers that do not exist\n",
    "\n",
    "  if not valid_tickers:\n",
    "    print(\"No valid tickers found in the DataFrame. Returning an empty DataFrame.\")\n",
    "    return pd.DataFrame()\n",
    "\n",
    "  try:\n",
    "    ticker_df = df.loc[valid_tickers]\n",
    "    return ticker_df\n",
    "  except KeyError as e:\n",
    "    print(f\"KeyError after filtering valid tickers: {e}\") #Added to help debugging.\n",
    "    return pd.DataFrame()\n",
    "\n",
    "\n",
    "# Example usage:\n",
    "# ticker_list = [\"UBS\", \"AAPL\", \"MSFT\", \"GEV\"]  # Include some valid and invalid tickers\n",
    "selected_data = select_tickers_data(df, tickers)\n",
    "print(selected_data)"
   ]
  },
  {
   "cell_type": "code",
   "execution_count": 9,
   "metadata": {
    "execution": {
     "iopub.execute_input": "2025-04-10T23:21:57.867396Z",
     "iopub.status.busy": "2025-04-10T23:21:57.866390Z",
     "iopub.status.idle": "2025-04-10T23:22:25.538470Z",
     "shell.execute_reply": "2025-04-10T23:22:25.536448Z"
    }
   },
   "outputs": [],
   "source": [
    "# Get root directory (assuming notebook is in root/notebooks/)\n",
    "NOTEBOOK_DIR = Path.cwd()\n",
    "ROOT_DIR = NOTEBOOK_DIR.parent if NOTEBOOK_DIR.name == 'notebooks' else NOTEBOOK_DIR\n",
    "\n",
    "import sys\n",
    "\n",
    "# Add src directory to Python path\n",
    "sys.path.append(str(ROOT_DIR / 'src'))\n",
    "\n",
    "import utils\n",
    "\n",
    "list_dfs = utils.get_latest_dfs(selected_data, DAYS_RATIO)"
   ]
  },
  {
   "cell_type": "code",
   "execution_count": 26,
   "metadata": {},
   "outputs": [
    {
     "name": "stdout",
     "output_type": "stream",
     "text": [
      "                   Adj Close\n",
      "Symbol Date                 \n",
      "A      2025-04-08      99.29\n",
      "       2025-04-09     107.05\n",
      "       2025-04-10      99.95\n",
      "AA     2025-04-08      22.57\n",
      "       2025-04-09      25.86\n",
      "...                      ...\n",
      "ZTO    2025-04-09      17.84\n",
      "       2025-04-10      17.66\n",
      "ZTS    2025-04-08     144.41\n",
      "       2025-04-09     153.55\n",
      "       2025-04-10     147.00\n",
      "\n",
      "[4614 rows x 1 columns]\n",
      "            Adj Close\n",
      "Date                 \n",
      "2025-04-08     100.13\n",
      "2025-04-09     105.80\n",
      "2025-04-10     111.55\n"
     ]
    }
   ],
   "source": [
    "print(list_dfs[0])\n",
    "print(list_dfs[0].loc['AEM'])"
   ]
  },
  {
   "cell_type": "code",
   "execution_count": 10,
   "metadata": {
    "execution": {
     "iopub.execute_input": "2025-04-10T23:22:25.545462Z",
     "iopub.status.busy": "2025-04-10T23:22:25.544462Z",
     "iopub.status.idle": "2025-04-10T23:23:32.896939Z",
     "shell.execute_reply": "2025-04-10T23:23:32.894918Z"
    }
   },
   "outputs": [
    {
     "name": "stdout",
     "output_type": "stream",
     "text": [
      "\n",
      "Combined performance metrics DataFrame:\n",
      "      Sharpe 3d  Sortino 3d  Omega 3d  Sharpe 5d  Sortino 5d  Omega 5d  Sharpe 10d  Sortino 10d  Omega 10d  Sharpe 15d  Sortino 15d  Omega 15d  Sharpe 30d  Sortino 30d  Omega 30d  Sharpe 60d  Sortino 60d  Omega 60d  Sharpe 120d  Sortino 120d  Omega 120d  Sharpe 250d  Sortino 250d  Omega 250d\n",
      "A      0.894499    1.943905  1.173177  -1.535120   -2.487122  0.772672   -5.437513    -6.590255   0.416167   -5.413622    -6.408665   0.386686   -4.439156    -5.311061   0.450321   -3.890923    -4.665131   0.488188    -2.040525     -2.642918    0.693381    -1.136186     -1.487523    0.815134\n",
      "AA     3.152705    8.768051  1.781120  -1.015973   -1.874118  0.841268   -5.029465    -6.429914   0.425134   -5.839947    -7.069826   0.348189   -3.152110    -4.024909   0.581710   -2.805136    -3.522187   0.605925    -1.815445     -2.345565    0.720420    -0.564898     -0.781285    0.908581\n",
      "AAL    2.449555    6.266638  1.558276   1.020816    2.048770  1.194852   -1.282940    -2.115138   0.785538   -1.850525    -2.929383   0.698539   -3.066142    -4.372440   0.573762   -3.337739    -4.477741   0.505050    -0.749843     -1.138079    0.857586    -0.431377     -0.641881    0.917563\n",
      "AAON   7.884425   52.986805  5.720440   4.934578   23.020132  3.051840    1.270649     2.576704   1.269035    0.513961     0.977092   1.096625    0.872650     1.587699   1.159759   -2.273953    -2.688866   0.630210    -0.758799     -1.008623    0.854748     0.031324      0.041412    1.006523\n",
      "AAPL   6.343072   29.169304  3.598608   0.957310    2.499090  1.183179   -2.803454    -4.352624   0.609911   -2.288191    -3.474872   0.647548   -2.857182    -4.039522   0.563171   -1.677023    -2.360027   0.711034    -1.007012     -1.409041    0.808894     0.286594      0.420262    1.058527\n",
      "...         ...         ...       ...        ...         ...       ...         ...          ...        ...         ...          ...        ...         ...          ...        ...         ...          ...        ...          ...           ...         ...          ...           ...         ...\n",
      "ZION   0.923813    2.013321  1.179361   1.910147    3.475925  1.382393   -3.792152    -4.494646   0.509700   -3.048373    -3.606467   0.555406   -3.168449    -3.665474   0.537620   -2.709439    -3.134370   0.586718    -0.648972     -0.934024    0.875665     0.288001      0.426405    1.055611\n",
      "ZM     4.756578   16.508721  2.470714   2.452767    6.436631  1.586736   -2.881104    -4.005221   0.593984   -2.720140    -3.733150   0.608251   -1.111782    -1.517483   0.810317   -1.409245    -1.891948   0.755747     0.030532      0.043254    1.005595     0.412736      0.620211    1.078965\n",
      "ZS     6.916711   36.042334  4.210906   6.119702   25.680663  3.410155   -1.043594    -1.680859   0.839565   -0.639756    -1.015749   0.893827    0.221338     0.331317   1.038795    0.409284     0.619377   1.076597     0.297853      0.431888    1.052803     0.305596      0.413498    1.056791\n",
      "ZTO    8.686812   76.834587  7.844969  -1.311327   -2.074870  0.783481   -4.340758    -5.636735   0.428553   -3.827588    -4.910830   0.455300   -1.382801    -1.824405   0.782661   -0.260934    -0.349351   0.956924    -1.854752     -2.366744    0.733973    -0.100114     -0.147118    0.983252\n",
      "ZTS    2.152568    5.326596  1.474531  -2.379352   -4.078728  0.686813   -5.125098    -6.598102   0.450476   -4.008798    -5.183598   0.512738   -3.015093    -3.842724   0.594090   -1.581824    -2.017728   0.763056    -1.948100     -2.413263    0.719147    -0.066744     -0.093683    0.988452\n",
      "\n",
      "[1538 rows x 24 columns]\n"
     ]
    }
   ],
   "source": [
    "import numpy as np\n",
    "\n",
    "all_results = {}\n",
    "\n",
    "for _df in list_dfs:\n",
    "    tickers_in_df = _df.index.get_level_values(0).unique()\n",
    "    for ticker in tickers_in_df:\n",
    "        # Suppress division warnings just for this calculation\n",
    "        with np.errstate(divide='ignore', invalid='ignore'):\n",
    "            result_df = utils.analyze_stock(_df, ticker, risk_free_rate=RISK_FREE_RATE)\n",
    "        \n",
    "        if result_df is not None:\n",
    "            # Extract the ticker name from the result_df index\n",
    "            ticker_name = result_df.index[0]\n",
    "            # Convert the single-row DataFrame to a dictionary\n",
    "            metrics = result_df.iloc[0].to_dict()\n",
    "            \n",
    "            # Update the existing ticker entry or create a new one\n",
    "            if ticker_name in all_results:\n",
    "                all_results[ticker_name].update(metrics)\n",
    "            else:\n",
    "                all_results[ticker_name] = metrics\n",
    "\n",
    "if all_results:\n",
    "    combined_df = pd.DataFrame.from_dict(all_results, orient='index')\n",
    "    print(\"\\nCombined performance metrics DataFrame:\")\n",
    "    print(combined_df)\n",
    "else:\n",
    "    print(\"No performance metrics were calculated.\")"
   ]
  },
  {
   "cell_type": "code",
   "execution_count": 29,
   "metadata": {},
   "outputs": [
    {
     "name": "stdout",
     "output_type": "stream",
     "text": [
      "<class 'pandas.core.frame.DataFrame'>\n",
      "Index: 1538 entries, A to ZTS\n",
      "Data columns (total 24 columns):\n",
      " #   Column        Non-Null Count  Dtype  \n",
      "---  ------        --------------  -----  \n",
      " 0   Sharpe 3d     1538 non-null   float64\n",
      " 1   Sortino 3d    1538 non-null   float64\n",
      " 2   Omega 3d      1399 non-null   float64\n",
      " 3   Sharpe 5d     1538 non-null   float64\n",
      " 4   Sortino 5d    1538 non-null   float64\n",
      " 5   Omega 5d      1535 non-null   float64\n",
      " 6   Sharpe 10d    1538 non-null   float64\n",
      " 7   Sortino 10d   1538 non-null   float64\n",
      " 8   Omega 10d     1538 non-null   float64\n",
      " 9   Sharpe 15d    1538 non-null   float64\n",
      " 10  Sortino 15d   1538 non-null   float64\n",
      " 11  Omega 15d     1538 non-null   float64\n",
      " 12  Sharpe 30d    1538 non-null   float64\n",
      " 13  Sortino 30d   1538 non-null   float64\n",
      " 14  Omega 30d     1538 non-null   float64\n",
      " 15  Sharpe 60d    1538 non-null   float64\n",
      " 16  Sortino 60d   1538 non-null   float64\n",
      " 17  Omega 60d     1538 non-null   float64\n",
      " 18  Sharpe 120d   1538 non-null   float64\n",
      " 19  Sortino 120d  1538 non-null   float64\n",
      " 20  Omega 120d    1538 non-null   float64\n",
      " 21  Sharpe 250d   1538 non-null   float64\n",
      " 22  Sortino 250d  1538 non-null   float64\n",
      " 23  Omega 250d    1538 non-null   float64\n",
      "dtypes: float64(24)\n",
      "memory usage: 332.7+ KB\n"
     ]
    }
   ],
   "source": [
    "combined_df.info()"
   ]
  },
  {
   "cell_type": "code",
   "execution_count": null,
   "metadata": {
    "execution": {
     "iopub.execute_input": "2025-04-10T23:23:32.903933Z",
     "iopub.status.busy": "2025-04-10T23:23:32.902939Z",
     "iopub.status.idle": "2025-04-10T23:23:33.077437Z",
     "shell.execute_reply": "2025-04-10T23:23:33.076061Z"
    }
   },
   "outputs": [
    {
     "name": "stdout",
     "output_type": "stream",
     "text": [
      "combined_df has_nan_inf: True\n",
      "Replacing NaN/Inf values with column-specific max/min values\n",
      "NaN/Inf Locations BEFORE Replacement:\n",
      "Column: Sharpe 3d\n",
      "  -Inf: ['BSCP', 'SHV']\n",
      "Column: Sortino 3d\n",
      "  Inf: ['ACI', 'ACT', 'ADC', 'ADM', 'AEE', 'AEM', 'AEP', 'AGI', 'AJG', 'AMT', 'AOS', 'ASND', 'ATO', 'AU', 'AZO', 'BAH', 'BILI', 'BJ', 'BRO', 'BTI', 'CEF', 'CHD', 'CHE', 'CI', 'CL', 'CLX', 'CMF', 'CMS', 'COKE', 'CPRT', 'CTRE', 'CWST', 'DUK', 'DVA', 'DXCM', 'EA', 'EBAY', 'EFAV', 'ELV', 'ENB', 'ERIE', 'ESLT', 'EVRG', 'FE', 'FICO', 'FMS', 'FNV', 'FYBR', 'GD', 'GDX', 'GDXJ', 'GFI', 'GLD', 'GLDM', 'GOLD', 'HII', 'HMY', 'HRB', 'HUM', 'HYD', 'IAU', 'IDA', 'JD', 'KDP', 'KGC', 'KMB', 'KNSL', 'KO', 'KVUE', 'LI', 'LMT', 'LRN', 'MCD', 'MCK', 'MO', 'MOH', 'MUSA', 'NEAR', 'NEM', 'NGG', 'NOC', 'NTES', 'O', 'OHI', 'OLLI', 'OPCH', 'ORLY', 'OTIS', 'PAAS', 'PG', 'PGR', 'PHYS', 'PPC', 'PPL', 'PSLV', 'PSN', 'PTLC', 'RELX', 'RGLD', 'RLI', 'ROL', 'ROST', 'RSG', 'RTO', 'RYAN', 'SAIC', 'SBAC', 'SBS', 'SCI', 'SFM', 'SGOL', 'SLV', 'SMMT', 'SO', 'STZ', 'SUB', 'TGTX', 'TJX', 'TMUS', 'TSN', 'TU', 'UL', 'UNH', 'USFR', 'VALE', 'VDC', 'VZ', 'WEC', 'WELL', 'WM', 'WMT', 'WPM', 'WRB', 'WST', 'WTRG', 'WTW', 'XLP', 'XPEV', 'YUM']\n",
      "Column: Omega 3d\n",
      "  NaN: ['ACI', 'ACT', 'ADC', 'ADM', 'AEE', 'AEM', 'AEP', 'AGI', 'AJG', 'AMT', 'AOS', 'ASND', 'ATO', 'AU', 'AZO', 'BAH', 'BILI', 'BJ', 'BRO', 'BTI', 'CEF', 'CHD', 'CHE', 'CI', 'CL', 'CLX', 'CMF', 'CMS', 'COKE', 'CPRT', 'CTRE', 'CWST', 'DUK', 'DVA', 'DXCM', 'EA', 'EBAY', 'EFAV', 'ELV', 'ENB', 'ERIE', 'ESLT', 'EVRG', 'FE', 'FICO', 'FMS', 'FNV', 'FYBR', 'GD', 'GDX', 'GDXJ', 'GFI', 'GLD', 'GLDM', 'GOLD', 'HII', 'HMY', 'HRB', 'HUM', 'HYD', 'IAU', 'IDA', 'JD', 'KDP', 'KGC', 'KMB', 'KNSL', 'KO', 'KVUE', 'LI', 'LMT', 'LRN', 'MCD', 'MCK', 'MO', 'MOH', 'MUSA', 'NEAR', 'NEM', 'NGG', 'NOC', 'NTES', 'O', 'OHI', 'OLLI', 'OPCH', 'ORLY', 'OTIS', 'PAAS', 'PG', 'PGR', 'PHYS', 'PPC', 'PPL', 'PSLV', 'PSN', 'PTLC', 'RELX', 'RGLD', 'RLI', 'ROL', 'ROST', 'RSG', 'RTO', 'RYAN', 'SAIC', 'SBAC', 'SBS', 'SCI', 'SFM', 'SGOL', 'SLV', 'SMMT', 'SO', 'STZ', 'SUB', 'TGTX', 'TJX', 'TMUS', 'TSN', 'TU', 'UL', 'UNH', 'USFR', 'VALE', 'VDC', 'VZ', 'WEC', 'WELL', 'WM', 'WMT', 'WPM', 'WRB', 'WST', 'WTRG', 'WTW', 'XLP', 'XPEV', 'YUM']\n",
      "Column: Sharpe 5d\n",
      "  -Inf: ['BSCP']\n",
      "Column: Sortino 5d\n",
      "  Inf: ['AEM', 'HUM', 'NEM']\n",
      "Column: Omega 5d\n",
      "  NaN: ['AEM', 'HUM', 'NEM']\n",
      "df_to_save has_nan_inf: False\n",
      "NaN/Inf Locations AFTER Replacement:\n",
      "No NaN or Inf values found.\n",
      "      Sharpe 3d  Sortino 3d  Omega 3d  Sharpe 5d  Sortino 5d  Omega 5d  Sharpe 10d  Sortino 10d  Omega 10d  Sharpe 15d  Sortino 15d  Omega 15d  Sharpe 30d  Sortino 30d  Omega 30d  Sharpe 60d  Sortino 60d  Omega 60d  Sharpe 120d  Sortino 120d  Omega 120d  Sharpe 250d  Sortino 250d  Omega 250d\n",
      "A      0.894499    1.943905  1.173177  -1.535120   -2.487122  0.772672   -5.437513    -6.590255   0.416167   -5.413622    -6.408665   0.386686   -4.439156    -5.311061   0.450321   -3.890923    -4.665131   0.488188    -2.040525     -2.642918    0.693381    -1.136186     -1.487523    0.815134\n",
      "AA     3.152705    8.768051  1.781120  -1.015973   -1.874118  0.841268   -5.029465    -6.429914   0.425134   -5.839947    -7.069826   0.348189   -3.152110    -4.024909   0.581710   -2.805136    -3.522187   0.605925    -1.815445     -2.345565    0.720420    -0.564898     -0.781285    0.908581\n",
      "AAL    2.449555    6.266638  1.558276   1.020816    2.048770  1.194852   -1.282940    -2.115138   0.785538   -1.850525    -2.929383   0.698539   -3.066142    -4.372440   0.573762   -3.337739    -4.477741   0.505050    -0.749843     -1.138079    0.857586    -0.431377     -0.641881    0.917563\n",
      "AAON   7.884425   52.986805  5.720440   4.934578   23.020132  3.051840    1.270649     2.576704   1.269035    0.513961     0.977092   1.096625    0.872650     1.587699   1.159759   -2.273953    -2.688866   0.630210    -0.758799     -1.008623    0.854748     0.031324      0.041412    1.006523\n",
      "AAPL   6.343072   29.169304  3.598608   0.957310    2.499090  1.183179   -2.803454    -4.352624   0.609911   -2.288191    -3.474872   0.647548   -2.857182    -4.039522   0.563171   -1.677023    -2.360027   0.711034    -1.007012     -1.409041    0.808894     0.286594      0.420262    1.058527\n",
      "...         ...         ...       ...        ...         ...       ...         ...          ...        ...         ...          ...        ...         ...          ...        ...         ...          ...        ...          ...           ...         ...          ...           ...         ...\n",
      "ZION   0.923813    2.013321  1.179361   1.910147    3.475925  1.382393   -3.792152    -4.494646   0.509700   -3.048373    -3.606467   0.555406   -3.168449    -3.665474   0.537620   -2.709439    -3.134370   0.586718    -0.648972     -0.934024    0.875665     0.288001      0.426405    1.055611\n",
      "ZM     4.756578   16.508721  2.470714   2.452767    6.436631  1.586736   -2.881104    -4.005221   0.593984   -2.720140    -3.733150   0.608251   -1.111782    -1.517483   0.810317   -1.409245    -1.891948   0.755747     0.030532      0.043254    1.005595     0.412736      0.620211    1.078965\n",
      "ZS     6.916711   36.042334  4.210906   6.119702   25.680663  3.410155   -1.043594    -1.680859   0.839565   -0.639756    -1.015749   0.893827    0.221338     0.331317   1.038795    0.409284     0.619377   1.076597     0.297853      0.431888    1.052803     0.305596      0.413498    1.056791\n",
      "ZTO    8.686812   76.834587  7.844969  -1.311327   -2.074870  0.783481   -4.340758    -5.636735   0.428553   -3.827588    -4.910830   0.455300   -1.382801    -1.824405   0.782661   -0.260934    -0.349351   0.956924    -1.854752     -2.366744    0.733973    -0.100114     -0.147118    0.983252\n",
      "ZTS    2.152568    5.326596  1.474531  -2.379352   -4.078728  0.686813   -5.125098    -6.598102   0.450476   -4.008798    -5.183598   0.512738   -3.015093    -3.842724   0.594090   -1.581824    -2.017728   0.763056    -1.948100     -2.413263    0.719147    -0.066744     -0.093683    0.988452\n",
      "\n",
      "[1538 rows x 24 columns]\n"
     ]
    }
   ],
   "source": [
    "import numpy as np\n",
    "import pandas as pd\n",
    "\n",
    "def find_nan_inf(df):\n",
    "    \"\"\"\n",
    "    Finds locations of NaN, Inf, and -Inf values in a DataFrame.\n",
    "    \n",
    "    Args:\n",
    "        df (pd.DataFrame): DataFrame to check\n",
    "        \n",
    "    Returns:\n",
    "        dict: Dictionary with column names as keys and dicts of \n",
    "              {type: indices} as values\n",
    "    \"\"\"\n",
    "    nan_inf_locations = {}\n",
    "    for col in df.columns:\n",
    "        locations = {\n",
    "            'NaN': df[col].index[df[col].isnull()].tolist(),\n",
    "            'Inf': df[col].index[df[col] == np.inf].tolist(),\n",
    "            '-Inf': df[col].index[df[col] == -np.inf].tolist()\n",
    "        }\n",
    "        if any(locations.values()):\n",
    "            nan_inf_locations[col] = locations\n",
    "    return nan_inf_locations\n",
    "\n",
    "def print_nan_inf_locations(locations, message):\n",
    "    \"\"\"Prints NaN/Inf locations with a descriptive message.\"\"\"\n",
    "    print(message)\n",
    "    if locations:\n",
    "        for col, locs in locations.items():\n",
    "            print(f\"Column: {col}\")\n",
    "            for typ, indices in locs.items():\n",
    "                if indices:\n",
    "                    print(f\"  {typ}: {indices}\")\n",
    "    else:\n",
    "        print(\"No NaN or Inf values found.\")\n",
    "\n",
    "def get_column_replacement_values(df):\n",
    "    \"\"\"\n",
    "    Calculate replacement values for each column (max for Inf/NaN, min for -Inf).\n",
    "    \n",
    "    Args:\n",
    "        df (pd.DataFrame): Input DataFrame\n",
    "        \n",
    "    Returns:\n",
    "        tuple: (max_values, min_values) dictionaries with column replacement values\n",
    "    \"\"\"\n",
    "    numeric_cols = df.select_dtypes(include=[np.number]).columns\n",
    "    max_values = {}\n",
    "    min_values = {}\n",
    "    \n",
    "    for col in numeric_cols:\n",
    "        # Get finite values only\n",
    "        finite_vals = df[col][np.isfinite(df[col])]\n",
    "        if len(finite_vals) > 0:\n",
    "            max_values[col] = finite_vals.max()\n",
    "            min_values[col] = finite_vals.min()\n",
    "        else:\n",
    "            # If no finite values, use default\n",
    "            max_values[col] = 1e5\n",
    "            min_values[col] = -1e5\n",
    "    \n",
    "    return max_values, min_values\n",
    "\n",
    "# Check for NaN or Inf values\n",
    "has_nan_inf = combined_df.isnull().any().any() or not np.isfinite(combined_df).all().all()\n",
    "print(f'combined_df has_nan_inf: {has_nan_inf}')\n",
    "\n",
    "if has_nan_inf:\n",
    "    # Calculate replacement values for each column\n",
    "    max_values, min_values = get_column_replacement_values(combined_df)\n",
    "    print(\"Replacing NaN/Inf values with column-specific max/min values\")\n",
    "    \n",
    "    nan_inf_locations_before = find_nan_inf(combined_df)\n",
    "    print_nan_inf_locations(nan_inf_locations_before, \"NaN/Inf Locations BEFORE Replacement:\")\n",
    "    \n",
    "    # Create cleaned DataFrame\n",
    "    df_to_save = combined_df.copy()\n",
    "    \n",
    "    # Replace values column by column\n",
    "    for col in df_to_save.columns:\n",
    "        if col in max_values:  # Only numeric columns will be in max_values\n",
    "            # Replace NaN and +Inf with max value\n",
    "            # NaN is from Omega ratio where daily loss series are all zero\n",
    "            # +Inf is from Sharpe ratio where daily negative excess return series are all zero\n",
    "            df_to_save[col] = df_to_save[col].fillna(max_values[col])\n",
    "            df_to_save[col] = df_to_save[col].replace([np.inf], max_values[col])\n",
    "            # Replace -Inf with min value\n",
    "            # -Inf is from Sharpe ratio where daily excess return series are the same, therefore standard deviation is zero\n",
    "            df_to_save[col] = df_to_save[col].replace([-np.inf], min_values[col])\n",
    "else:\n",
    "    print(\"No NaN or Inf values found.\")\n",
    "    df_to_save = combined_df\n",
    "\n",
    "# Verification\n",
    "print(f'df_to_save has_nan_inf: {df_to_save.isnull().any().any() or not np.isfinite(df_to_save).all().all()}')\n",
    "print_nan_inf_locations(find_nan_inf(df_to_save), \"NaN/Inf Locations AFTER Replacement:\")\n",
    "\n",
    "# Output cleaned DataFrame\n",
    "print(df_to_save)"
   ]
  },
  {
   "cell_type": "code",
   "execution_count": 12,
   "metadata": {
    "execution": {
     "iopub.execute_input": "2025-04-10T23:23:33.085474Z",
     "iopub.status.busy": "2025-04-10T23:23:33.083467Z",
     "iopub.status.idle": "2025-04-10T23:23:33.097314Z",
     "shell.execute_reply": "2025-04-10T23:23:33.095295Z"
    }
   },
   "outputs": [
    {
     "data": {
      "text/plain": [
       "'ACI'"
      ]
     },
     "execution_count": 12,
     "metadata": {},
     "output_type": "execute_result"
    }
   ],
   "source": [
    "ticker_w_inf = nan_inf_locations_before['Sortino 3d']['Inf'][0]\n",
    "ticker_w_inf "
   ]
  },
  {
   "cell_type": "markdown",
   "metadata": {},
   "source": [
    "#### Use Cell below to check the inf, -inf and NaN replacement"
   ]
  },
  {
   "cell_type": "code",
   "execution_count": 13,
   "metadata": {
    "execution": {
     "iopub.execute_input": "2025-04-10T23:23:33.104314Z",
     "iopub.status.busy": "2025-04-10T23:23:33.103325Z",
     "iopub.status.idle": "2025-04-10T23:23:33.129040Z",
     "shell.execute_reply": "2025-04-10T23:23:33.127047Z"
    }
   },
   "outputs": [
    {
     "name": "stdout",
     "output_type": "stream",
     "text": [
      "combined_df.loc['ticker_w_inf']\n"
     ]
    },
    {
     "data": {
      "text/plain": [
       "Sharpe 3d       15.376310\n",
       "Sortino 3d            inf\n",
       "Omega 3d              NaN\n",
       "Sharpe 5d       -5.348699\n",
       "Sortino 5d      -6.430298\n",
       "Omega 5d         0.412540\n",
       "Sharpe 10d      -0.871062\n",
       "Sortino 10d     -1.118699\n",
       "Omega 10d        0.872086\n",
       "Sharpe 15d       0.608892\n",
       "Sortino 15d      0.813630\n",
       "Omega 15d        1.102484\n",
       "Sharpe 30d       0.426259\n",
       "Sortino 30d      0.621065\n",
       "Omega 30d        1.069564\n",
       "Sharpe 60d       0.774130\n",
       "Sortino 60d      1.117853\n",
       "Omega 60d        1.137099\n",
       "Sharpe 120d      1.258667\n",
       "Sortino 120d     1.928283\n",
       "Omega 120d       1.229709\n",
       "Sharpe 250d      0.262093\n",
       "Sortino 250d     0.384200\n",
       "Omega 250d       1.045210\n",
       "Name: ACI, dtype: float64"
      ]
     },
     "metadata": {},
     "output_type": "display_data"
    },
    {
     "name": "stdout",
     "output_type": "stream",
     "text": [
      "\n",
      "df_to_save.loc['ticker_w_inf']\n"
     ]
    },
    {
     "data": {
      "text/plain": [
       "Sharpe 3d          15.376310\n",
       "Sortino 3d      63320.772323\n",
       "Omega 3d         5642.062750\n",
       "Sharpe 5d          -5.348699\n",
       "Sortino 5d         -6.430298\n",
       "Omega 5d            0.412540\n",
       "Sharpe 10d         -0.871062\n",
       "Sortino 10d        -1.118699\n",
       "Omega 10d           0.872086\n",
       "Sharpe 15d          0.608892\n",
       "Sortino 15d         0.813630\n",
       "Omega 15d           1.102484\n",
       "Sharpe 30d          0.426259\n",
       "Sortino 30d         0.621065\n",
       "Omega 30d           1.069564\n",
       "Sharpe 60d          0.774130\n",
       "Sortino 60d         1.117853\n",
       "Omega 60d           1.137099\n",
       "Sharpe 120d         1.258667\n",
       "Sortino 120d        1.928283\n",
       "Omega 120d          1.229709\n",
       "Sharpe 250d         0.262093\n",
       "Sortino 250d        0.384200\n",
       "Omega 250d          1.045210\n",
       "Name: ACI, dtype: float64"
      ]
     },
     "metadata": {},
     "output_type": "display_data"
    }
   ],
   "source": [
    "print(f\"combined_df.loc['ticker_w_inf']\")\n",
    "display(combined_df.loc[ticker_w_inf])\n",
    "print(f\"\\ndf_to_save.loc['ticker_w_inf']\")\n",
    "display(df_to_save.loc[ticker_w_inf])"
   ]
  },
  {
   "cell_type": "code",
   "execution_count": 14,
   "metadata": {
    "execution": {
     "iopub.execute_input": "2025-04-10T23:23:33.136039Z",
     "iopub.status.busy": "2025-04-10T23:23:33.135045Z",
     "iopub.status.idle": "2025-04-10T23:23:33.180475Z",
     "shell.execute_reply": "2025-04-10T23:23:33.179041Z"
    }
   },
   "outputs": [
    {
     "name": "stdout",
     "output_type": "stream",
     "text": [
      "DataFrame successfully saved to ..\\data\\2025-04-10_df_perf_ratios.parquet\n"
     ]
    }
   ],
   "source": [
    "# Save the DataFrame to parquet file (always do this)\n",
    "df_to_save.to_parquet(dest_path, engine='pyarrow', compression='zstd')\n",
    "print(f\"DataFrame successfully saved to {dest_path}\")\n",
    "\n"
   ]
  },
  {
   "cell_type": "code",
   "execution_count": 15,
   "metadata": {
    "execution": {
     "iopub.execute_input": "2025-04-10T23:23:33.187511Z",
     "iopub.status.busy": "2025-04-10T23:23:33.186505Z",
     "iopub.status.idle": "2025-04-10T23:23:33.225918Z",
     "shell.execute_reply": "2025-04-10T23:23:33.223924Z"
    }
   },
   "outputs": [
    {
     "name": "stdout",
     "output_type": "stream",
     "text": [
      "+------+-------------+--------------+------------+-------------+--------------+------------+--------------+---------------+-------------+--------------+---------------+-------------+--------------+---------------+-------------+--------------+---------------+-------------+---------------+----------------+--------------+---------------+----------------+--------------+\n",
      "|      |   Sharpe 3d |   Sortino 3d |   Omega 3d |   Sharpe 5d |   Sortino 5d |   Omega 5d |   Sharpe 10d |   Sortino 10d |   Omega 10d |   Sharpe 15d |   Sortino 15d |   Omega 15d |   Sharpe 30d |   Sortino 30d |   Omega 30d |   Sharpe 60d |   Sortino 60d |   Omega 60d |   Sharpe 120d |   Sortino 120d |   Omega 120d |   Sharpe 250d |   Sortino 250d |   Omega 250d |\n",
      "+======+=============+==============+============+=============+==============+============+==============+===============+=============+==============+===============+=============+==============+===============+=============+==============+===============+=============+===============+================+==============+===============+================+==============+\n",
      "| USFR |  22690.0874 |   63320.7723 |  5642.0627 |     -1.5623 |      -1.9548 |     0.7537 |      -5.3205 |       -5.4581 |      0.3549 |      -1.8435 |       -2.2082 |      0.7185 |      -2.6435 |       -3.4058 |      0.6424 |      -0.3147 |       -0.4337 |      0.9498 |        2.5101 |         4.0012 |       1.5120 |        2.5014 |         3.9240 |       1.5010 |\n",
      "+------+-------------+--------------+------------+-------------+--------------+------------+--------------+---------------+-------------+--------------+---------------+-------------+--------------+---------------+-------------+--------------+---------------+-------------+---------------+----------------+--------------+---------------+----------------+--------------+\n",
      "| AAPL |      6.3431 |      29.1693 |     3.5986 |      0.9573 |       2.4991 |     1.1832 |      -2.8035 |       -4.3526 |      0.6099 |      -2.2882 |       -3.4749 |      0.6475 |      -2.8572 |       -4.0395 |      0.5632 |      -1.6770 |       -2.3600 |      0.7110 |       -1.0070 |        -1.4090 |       0.8089 |        0.2866 |         0.4203 |       1.0585 |\n",
      "+------+-------------+--------------+------------+-------------+--------------+------------+--------------+---------------+-------------+--------------+---------------+-------------+--------------+---------------+-------------+--------------+---------------+-------------+---------------+----------------+--------------+---------------+----------------+--------------+\n",
      "| MSFT |      6.9840 |      36.9699 |     4.2935 |      4.3154 |      19.1109 |     2.6207 |       0.5031 |        1.1996 |      1.1075 |      -0.7192 |       -1.4664 |      0.8610 |      -0.7675 |       -1.3875 |      0.8587 |      -1.3095 |       -2.0109 |      0.7718 |       -0.6194 |        -0.8868 |       0.8867 |       -0.4311 |        -0.5953 |       0.9244 |\n",
      "+------+-------------+--------------+------------+-------------+--------------+------------+--------------+---------------+-------------+--------------+---------------+-------------+--------------+---------------+-------------+--------------+---------------+-------------+---------------+----------------+--------------+---------------+----------------+--------------+\n",
      "| GOOG |      5.2846 |      19.9718 |     2.7792 |      3.6736 |      11.0034 |     2.0315 |       0.0429 |        0.0843 |      1.0082 |      -1.8190 |       -2.8794 |      0.7311 |      -1.7493 |       -2.5547 |      0.7448 |      -2.4251 |       -3.1595 |      0.6579 |       -0.2644 |        -0.3798 |       0.9559 |       -0.0378 |        -0.0541 |       0.9933 |\n",
      "+------+-------------+--------------+------------+-------------+--------------+------------+--------------+---------------+-------------+--------------+---------------+-------------+--------------+---------------+-------------+--------------+---------------+-------------+---------------+----------------+--------------+---------------+----------------+--------------+\n",
      "| NVDA |      5.8223 |      24.1940 |     3.1554 |      5.5253 |      19.4295 |     3.0371 |       0.0796 |        0.1550 |      1.0153 |      -1.1214 |       -1.9860 |      0.8065 |      -1.1814 |       -1.8292 |      0.8059 |      -0.9241 |       -1.2618 |      0.8472 |       -0.5730 |        -0.7885 |       0.9021 |        0.5689 |         0.8180 |       1.1019 |\n",
      "+------+-------------+--------------+------------+-------------+--------------+------------+--------------+---------------+-------------+--------------+---------------+-------------+--------------+---------------+-------------+--------------+---------------+-------------+---------------+----------------+--------------+---------------+----------------+--------------+\n",
      "| IBIT |      3.9433 |      12.1575 |     2.0831 |     -3.1376 |      -4.7617 |     0.6011 |      -1.6483 |       -2.2917 |      0.7768 |      -1.2438 |       -1.7503 |      0.8220 |      -0.5744 |       -0.7947 |      0.9122 |      -1.6960 |       -2.2156 |      0.7609 |        0.8561 |         1.3411 |       1.1518 |        0.5119 |         0.7708 |       1.0876 |\n",
      "+------+-------------+--------------+------------+-------------+--------------+------------+--------------+---------------+-------------+--------------+---------------+-------------+--------------+---------------+-------------+--------------+---------------+-------------+---------------+----------------+--------------+---------------+----------------+--------------+\n",
      "| GLD  |     54.5698 |   63320.7723 |  5642.0627 |      6.9793 |      16.4058 |     3.0669 |       2.5727 |        4.6917 |      1.5408 |       3.3984 |        6.1854 |      1.8135 |       4.5733 |        8.4923 |      2.2354 |       3.9388 |        6.9432 |      1.9547 |        1.8817 |         2.7473 |       1.3645 |        1.7066 |         2.4878 |       1.3235 |\n",
      "+------+-------------+--------------+------------+-------------+--------------+------------+--------------+---------------+-------------+--------------+---------------+-------------+--------------+---------------+-------------+--------------+---------------+-------------+---------------+----------------+--------------+---------------+----------------+--------------+\n",
      "| VCIT |     -0.6773 |      -1.2775 |     0.8862 |     -9.1244 |      -9.6994 |     0.2777 |      -4.5733 |       -5.2042 |      0.4581 |      -3.5865 |       -4.1498 |      0.5353 |      -2.7411 |       -3.2028 |      0.6111 |       0.0190 |        0.0245 |      1.0033 |       -1.0087 |        -1.3218 |       0.8423 |        0.3588 |         0.5006 |       1.0596 |\n",
      "+------+-------------+--------------+------------+-------------+--------------+------------+--------------+---------------+-------------+--------------+---------------+-------------+--------------+---------------+-------------+--------------+---------------+-------------+---------------+----------------+--------------+---------------+----------------+--------------+\n"
     ]
    }
   ],
   "source": [
    "import pandas as pd\n",
    "import numpy as np\n",
    "from tabulate import tabulate\n",
    "\n",
    "_symbols = ['USFR','AAPL', 'MSFT', 'GOOG', 'NVDA', 'IBIT', 'GLD', 'VCIT']\n",
    "# Create and display the formatted table\n",
    "selected_df = df_to_save.loc[_symbols] #Use df_to_save here\n",
    "print(tabulate(selected_df, headers='keys', tablefmt='grid', floatfmt='.4f'))"
   ]
  },
  {
   "cell_type": "code",
   "execution_count": null,
   "metadata": {},
   "outputs": [],
   "source": []
  }
 ],
 "metadata": {
  "kernelspec": {
   "display_name": ".venv",
   "language": "python",
   "name": "python3"
  },
  "language_info": {
   "codemirror_mode": {
    "name": "ipython",
    "version": 3
   },
   "file_extension": ".py",
   "mimetype": "text/x-python",
   "name": "python",
   "nbconvert_exporter": "python",
   "pygments_lexer": "ipython3",
   "version": "3.11.9"
  }
 },
 "nbformat": 4,
 "nbformat_minor": 2
}
