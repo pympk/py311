{
 "cells": [
  {
   "cell_type": "code",
   "execution_count": null,
   "metadata": {},
   "outputs": [],
   "source": []
  },
  {
   "cell_type": "code",
   "execution_count": 9,
   "metadata": {
    "execution": {
     "iopub.execute_input": "2025-04-10T23:20:31.839513Z",
     "iopub.status.busy": "2025-04-10T23:20:31.838515Z",
     "iopub.status.idle": "2025-04-10T23:20:31.858636Z",
     "shell.execute_reply": "2025-04-10T23:20:31.856620Z"
    }
   },
   "outputs": [],
   "source": [
    "# Configuration\n",
    "\n",
    "# days used in calculating ratios\n",
    "DAYS_RATIO = [3, 5, 10, 15, 30, 60, 120, 250]\n",
    "\n",
    "# risk free rate\n",
    "RISK_FREE_RATE = 0.04"
   ]
  },
  {
   "cell_type": "code",
   "execution_count": 10,
   "metadata": {
    "execution": {
     "iopub.execute_input": "2025-04-10T23:20:31.867411Z",
     "iopub.status.busy": "2025-04-10T23:20:31.865410Z",
     "iopub.status.idle": "2025-04-10T23:20:33.428364Z",
     "shell.execute_reply": "2025-04-10T23:20:33.425348Z"
    }
   },
   "outputs": [],
   "source": [
    "import pandas as pd\n",
    "\n",
    "# Set pandas display options to show more columns and rows\n",
    "pd.set_option('display.max_columns', None)  # Show all columns\n",
    "# pd.set_option('display.max_rows', 10)       # Limit to 10 rows for readability\n",
    "pd.set_option('display.width', None)        # Let the display adjust to the window\n",
    "\n",
    "# 2. Set the display width (optional but often helpful)\n",
    "#    'None' tries to detect terminal width. \n",
    "#    A large number (e.g., 1000) ensures no wrapping unless absolutely necessary.\n",
    "pd.set_option('display.width', 1000) "
   ]
  },
  {
   "cell_type": "code",
   "execution_count": 11,
   "metadata": {
    "execution": {
     "iopub.execute_input": "2025-04-10T23:20:33.435368Z",
     "iopub.status.busy": "2025-04-10T23:20:33.434365Z",
     "iopub.status.idle": "2025-04-10T23:20:33.450008Z",
     "shell.execute_reply": "2025-04-10T23:20:33.447993Z"
    }
   },
   "outputs": [
    {
     "name": "stdout",
     "output_type": "stream",
     "text": [
      "date_str: 2025-04-21\n",
      "DEST_DIR: ..\\data\n",
      "\n",
      "source_path: ..\\data\\2025-04-21_df_OHLCV_clean.parquet\n",
      "dest_path: ..\\data\\2025-04-21_df_perf_ratios.parquet\n"
     ]
    }
   ],
   "source": [
    "# process_files.py\n",
    "from config import date_str, DOWNLOAD_DIR, DEST_DIR\n",
    "from pathlib import Path  # Better path handling\n",
    "\n",
    "print(f\"date_str: {date_str}\")\n",
    "# print(f\"DOWNLOAD_DIR: {DOWNLOAD_DIR}\")\n",
    "print(f\"DEST_DIR: {DEST_DIR}\\n\")\n",
    "\n",
    "# Build paths\n",
    "source_path = Path(DEST_DIR) / f'{date_str}_df_OHLCV_clean.parquet'\n",
    "dest_path = Path(DEST_DIR) / f'{date_str}_df_perf_ratios.parquet'\n",
    "\n",
    "print(f\"source_path: {source_path}\")\n",
    "print(f\"dest_path: {dest_path}\")"
   ]
  },
  {
   "cell_type": "code",
   "execution_count": 12,
   "metadata": {
    "execution": {
     "iopub.execute_input": "2025-04-10T23:20:33.554794Z",
     "iopub.status.busy": "2025-04-10T23:20:33.553795Z",
     "iopub.status.idle": "2025-04-10T23:20:33.663314Z",
     "shell.execute_reply": "2025-04-10T23:20:33.662298Z"
    }
   },
   "outputs": [],
   "source": [
    "import pandas as pd\n",
    "\n",
    "# Get tickers from df_finviz.pkl file\n",
    "df_finviz = pd.read_parquet(f'..\\data\\{date_str}_df_finviz.parquet')\n",
    "tickers = df_finviz.index.to_list()"
   ]
  },
  {
   "cell_type": "code",
   "execution_count": 13,
   "metadata": {
    "execution": {
     "iopub.execute_input": "2025-04-10T23:20:33.671313Z",
     "iopub.status.busy": "2025-04-10T23:20:33.670314Z",
     "iopub.status.idle": "2025-04-10T23:20:33.969929Z",
     "shell.execute_reply": "2025-04-10T23:20:33.967911Z"
    }
   },
   "outputs": [
    {
     "data": {
      "text/html": [
       "<div>\n",
       "<style scoped>\n",
       "    .dataframe tbody tr th:only-of-type {\n",
       "        vertical-align: middle;\n",
       "    }\n",
       "\n",
       "    .dataframe tbody tr th {\n",
       "        vertical-align: top;\n",
       "    }\n",
       "\n",
       "    .dataframe thead th {\n",
       "        text-align: right;\n",
       "    }\n",
       "</style>\n",
       "<table border=\"1\" class=\"dataframe\">\n",
       "  <thead>\n",
       "    <tr style=\"text-align: right;\">\n",
       "      <th></th>\n",
       "      <th></th>\n",
       "      <th>Open</th>\n",
       "      <th>High</th>\n",
       "      <th>Low</th>\n",
       "      <th>Close</th>\n",
       "      <th>Adj Close</th>\n",
       "      <th>Volume</th>\n",
       "      <th>Adj Open</th>\n",
       "      <th>Adj High</th>\n",
       "      <th>Adj Low</th>\n",
       "    </tr>\n",
       "    <tr>\n",
       "      <th>Symbol</th>\n",
       "      <th>Date</th>\n",
       "      <th></th>\n",
       "      <th></th>\n",
       "      <th></th>\n",
       "      <th></th>\n",
       "      <th></th>\n",
       "      <th></th>\n",
       "      <th></th>\n",
       "      <th></th>\n",
       "      <th></th>\n",
       "    </tr>\n",
       "  </thead>\n",
       "  <tbody>\n",
       "    <tr>\n",
       "      <th rowspan=\"5\" valign=\"top\">REXR</th>\n",
       "      <th>2025-04-21</th>\n",
       "      <td>32.11</td>\n",
       "      <td>32.22</td>\n",
       "      <td>31.08</td>\n",
       "      <td>31.69</td>\n",
       "      <td>31.69</td>\n",
       "      <td>2309512</td>\n",
       "      <td>32.110000</td>\n",
       "      <td>32.220000</td>\n",
       "      <td>31.080000</td>\n",
       "    </tr>\n",
       "    <tr>\n",
       "      <th>2025-04-17</th>\n",
       "      <td>33.38</td>\n",
       "      <td>33.57</td>\n",
       "      <td>32.46</td>\n",
       "      <td>32.57</td>\n",
       "      <td>32.57</td>\n",
       "      <td>4910000</td>\n",
       "      <td>33.380000</td>\n",
       "      <td>33.570000</td>\n",
       "      <td>32.460000</td>\n",
       "    </tr>\n",
       "    <tr>\n",
       "      <th>2025-04-16</th>\n",
       "      <td>32.60</td>\n",
       "      <td>33.19</td>\n",
       "      <td>32.35</td>\n",
       "      <td>32.70</td>\n",
       "      <td>32.70</td>\n",
       "      <td>3269900</td>\n",
       "      <td>32.600000</td>\n",
       "      <td>33.190000</td>\n",
       "      <td>32.350000</td>\n",
       "    </tr>\n",
       "    <tr>\n",
       "      <th>2025-04-15</th>\n",
       "      <td>32.90</td>\n",
       "      <td>33.00</td>\n",
       "      <td>32.41</td>\n",
       "      <td>32.56</td>\n",
       "      <td>32.56</td>\n",
       "      <td>2875100</td>\n",
       "      <td>32.900000</td>\n",
       "      <td>33.000000</td>\n",
       "      <td>32.410000</td>\n",
       "    </tr>\n",
       "    <tr>\n",
       "      <th>2025-04-14</th>\n",
       "      <td>33.01</td>\n",
       "      <td>33.23</td>\n",
       "      <td>32.35</td>\n",
       "      <td>32.82</td>\n",
       "      <td>32.82</td>\n",
       "      <td>2436100</td>\n",
       "      <td>33.010000</td>\n",
       "      <td>33.230000</td>\n",
       "      <td>32.350000</td>\n",
       "    </tr>\n",
       "    <tr>\n",
       "      <th>...</th>\n",
       "      <th>...</th>\n",
       "      <td>...</td>\n",
       "      <td>...</td>\n",
       "      <td>...</td>\n",
       "      <td>...</td>\n",
       "      <td>...</td>\n",
       "      <td>...</td>\n",
       "      <td>...</td>\n",
       "      <td>...</td>\n",
       "      <td>...</td>\n",
       "    </tr>\n",
       "    <tr>\n",
       "      <th rowspan=\"5\" valign=\"top\">KSPI</th>\n",
       "      <th>2024-04-26</th>\n",
       "      <td>117.00</td>\n",
       "      <td>121.72</td>\n",
       "      <td>116.14</td>\n",
       "      <td>120.12</td>\n",
       "      <td>116.51</td>\n",
       "      <td>233500</td>\n",
       "      <td>113.483766</td>\n",
       "      <td>118.061915</td>\n",
       "      <td>112.649612</td>\n",
       "    </tr>\n",
       "    <tr>\n",
       "      <th>2024-04-25</th>\n",
       "      <td>113.54</td>\n",
       "      <td>118.34</td>\n",
       "      <td>111.16</td>\n",
       "      <td>116.32</td>\n",
       "      <td>112.82</td>\n",
       "      <td>244400</td>\n",
       "      <td>110.123649</td>\n",
       "      <td>114.779219</td>\n",
       "      <td>107.815261</td>\n",
       "    </tr>\n",
       "    <tr>\n",
       "      <th>2024-04-24</th>\n",
       "      <td>122.19</td>\n",
       "      <td>124.08</td>\n",
       "      <td>115.88</td>\n",
       "      <td>116.20</td>\n",
       "      <td>112.70</td>\n",
       "      <td>280500</td>\n",
       "      <td>118.509578</td>\n",
       "      <td>120.342651</td>\n",
       "      <td>112.389639</td>\n",
       "    </tr>\n",
       "    <tr>\n",
       "      <th>2024-04-23</th>\n",
       "      <td>117.50</td>\n",
       "      <td>123.17</td>\n",
       "      <td>114.95</td>\n",
       "      <td>122.99</td>\n",
       "      <td>119.29</td>\n",
       "      <td>347900</td>\n",
       "      <td>113.965160</td>\n",
       "      <td>119.464585</td>\n",
       "      <td>111.491873</td>\n",
       "    </tr>\n",
       "    <tr>\n",
       "      <th>2024-04-22</th>\n",
       "      <td>119.10</td>\n",
       "      <td>122.56</td>\n",
       "      <td>114.28</td>\n",
       "      <td>115.18</td>\n",
       "      <td>111.71</td>\n",
       "      <td>496100</td>\n",
       "      <td>115.511903</td>\n",
       "      <td>118.867665</td>\n",
       "      <td>110.837114</td>\n",
       "    </tr>\n",
       "  </tbody>\n",
       "</table>\n",
       "<p>368500 rows × 9 columns</p>\n",
       "</div>"
      ],
      "text/plain": [
       "                     Open    High     Low   Close  Adj Close   Volume    Adj Open    Adj High     Adj Low\n",
       "Symbol Date                                                                                              \n",
       "REXR   2025-04-21   32.11   32.22   31.08   31.69      31.69  2309512   32.110000   32.220000   31.080000\n",
       "       2025-04-17   33.38   33.57   32.46   32.57      32.57  4910000   33.380000   33.570000   32.460000\n",
       "       2025-04-16   32.60   33.19   32.35   32.70      32.70  3269900   32.600000   33.190000   32.350000\n",
       "       2025-04-15   32.90   33.00   32.41   32.56      32.56  2875100   32.900000   33.000000   32.410000\n",
       "       2025-04-14   33.01   33.23   32.35   32.82      32.82  2436100   33.010000   33.230000   32.350000\n",
       "...                   ...     ...     ...     ...        ...      ...         ...         ...         ...\n",
       "KSPI   2024-04-26  117.00  121.72  116.14  120.12     116.51   233500  113.483766  118.061915  112.649612\n",
       "       2024-04-25  113.54  118.34  111.16  116.32     112.82   244400  110.123649  114.779219  107.815261\n",
       "       2024-04-24  122.19  124.08  115.88  116.20     112.70   280500  118.509578  120.342651  112.389639\n",
       "       2024-04-23  117.50  123.17  114.95  122.99     119.29   347900  113.965160  119.464585  111.491873\n",
       "       2024-04-22  119.10  122.56  114.28  115.18     111.71   496100  115.511903  118.867665  110.837114\n",
       "\n",
       "[368500 rows x 9 columns]"
      ]
     },
     "metadata": {},
     "output_type": "display_data"
    }
   ],
   "source": [
    "import pandas as pd\n",
    "\n",
    "pd.set_option('display.width', 1000) \n",
    "\n",
    "# Load the DataFrame df_OHLCV_2025-03-14_clean.pkl\n",
    "# df = pd.read_pickle(source_path)\n",
    "df = pd.read_parquet(source_path, engine='pyarrow')\n",
    "\n",
    "# # Display the first few rows of the DataFrame to verify\n",
    "# df = df[['Adj Close']].copy()\n",
    "display(df)"
   ]
  },
  {
   "cell_type": "code",
   "execution_count": 14,
   "metadata": {
    "execution": {
     "iopub.execute_input": "2025-04-10T23:20:33.976927Z",
     "iopub.status.busy": "2025-04-10T23:20:33.974932Z",
     "iopub.status.idle": "2025-04-10T23:20:34.223993Z",
     "shell.execute_reply": "2025-04-10T23:20:34.221971Z"
    }
   },
   "outputs": [
    {
     "data": {
      "text/html": [
       "<div>\n",
       "<style scoped>\n",
       "    .dataframe tbody tr th:only-of-type {\n",
       "        vertical-align: middle;\n",
       "    }\n",
       "\n",
       "    .dataframe tbody tr th {\n",
       "        vertical-align: top;\n",
       "    }\n",
       "\n",
       "    .dataframe thead th {\n",
       "        text-align: right;\n",
       "    }\n",
       "</style>\n",
       "<table border=\"1\" class=\"dataframe\">\n",
       "  <thead>\n",
       "    <tr style=\"text-align: right;\">\n",
       "      <th></th>\n",
       "      <th></th>\n",
       "      <th>Adj Close</th>\n",
       "    </tr>\n",
       "    <tr>\n",
       "      <th>Symbol</th>\n",
       "      <th>Date</th>\n",
       "      <th></th>\n",
       "    </tr>\n",
       "  </thead>\n",
       "  <tbody>\n",
       "    <tr>\n",
       "      <th rowspan=\"5\" valign=\"top\">REXR</th>\n",
       "      <th>2025-04-21</th>\n",
       "      <td>31.69</td>\n",
       "    </tr>\n",
       "    <tr>\n",
       "      <th>2025-04-17</th>\n",
       "      <td>32.57</td>\n",
       "    </tr>\n",
       "    <tr>\n",
       "      <th>2025-04-16</th>\n",
       "      <td>32.70</td>\n",
       "    </tr>\n",
       "    <tr>\n",
       "      <th>2025-04-15</th>\n",
       "      <td>32.56</td>\n",
       "    </tr>\n",
       "    <tr>\n",
       "      <th>2025-04-14</th>\n",
       "      <td>32.82</td>\n",
       "    </tr>\n",
       "    <tr>\n",
       "      <th>...</th>\n",
       "      <th>...</th>\n",
       "      <td>...</td>\n",
       "    </tr>\n",
       "    <tr>\n",
       "      <th rowspan=\"5\" valign=\"top\">KSPI</th>\n",
       "      <th>2024-04-26</th>\n",
       "      <td>116.51</td>\n",
       "    </tr>\n",
       "    <tr>\n",
       "      <th>2024-04-25</th>\n",
       "      <td>112.82</td>\n",
       "    </tr>\n",
       "    <tr>\n",
       "      <th>2024-04-24</th>\n",
       "      <td>112.70</td>\n",
       "    </tr>\n",
       "    <tr>\n",
       "      <th>2024-04-23</th>\n",
       "      <td>119.29</td>\n",
       "    </tr>\n",
       "    <tr>\n",
       "      <th>2024-04-22</th>\n",
       "      <td>111.71</td>\n",
       "    </tr>\n",
       "  </tbody>\n",
       "</table>\n",
       "<p>368500 rows × 1 columns</p>\n",
       "</div>"
      ],
      "text/plain": [
       "                   Adj Close\n",
       "Symbol Date                 \n",
       "REXR   2025-04-21      31.69\n",
       "       2025-04-17      32.57\n",
       "       2025-04-16      32.70\n",
       "       2025-04-15      32.56\n",
       "       2025-04-14      32.82\n",
       "...                      ...\n",
       "KSPI   2024-04-26     116.51\n",
       "       2024-04-25     112.82\n",
       "       2024-04-24     112.70\n",
       "       2024-04-23     119.29\n",
       "       2024-04-22     111.71\n",
       "\n",
       "[368500 rows x 1 columns]"
      ]
     },
     "metadata": {},
     "output_type": "display_data"
    }
   ],
   "source": [
    "import pandas as pd\n",
    "\n",
    "# Load the DataFrame df_OHLCV_2025-03-14_clean.pkl\n",
    "# df = pd.read_pickle(source_path)\n",
    "df = pd.read_parquet(source_path, engine='pyarrow')\n",
    "\n",
    "# Display the first few rows of the DataFrame to verify\n",
    "df = df[['Adj Close']].copy()\n",
    "display(df)"
   ]
  },
  {
   "cell_type": "code",
   "execution_count": 15,
   "metadata": {
    "execution": {
     "iopub.execute_input": "2025-04-10T23:20:34.230987Z",
     "iopub.status.busy": "2025-04-10T23:20:34.229986Z",
     "iopub.status.idle": "2025-04-10T23:20:34.274225Z",
     "shell.execute_reply": "2025-04-10T23:20:34.272208Z"
    }
   },
   "outputs": [
    {
     "name": "stdout",
     "output_type": "stream",
     "text": [
      "<class 'pandas.core.frame.DataFrame'>\n",
      "MultiIndex: 368500 entries, ('REXR', Timestamp('2025-04-21 00:00:00')) to ('KSPI', Timestamp('2024-04-22 00:00:00'))\n",
      "Data columns (total 1 columns):\n",
      " #   Column     Non-Null Count   Dtype  \n",
      "---  ------     --------------   -----  \n",
      " 0   Adj Close  368500 non-null  float64\n",
      "dtypes: float64(1)\n",
      "memory usage: 4.3+ MB\n"
     ]
    }
   ],
   "source": [
    "df.info()"
   ]
  },
  {
   "cell_type": "code",
   "execution_count": 16,
   "metadata": {
    "execution": {
     "iopub.execute_input": "2025-04-10T23:20:34.282225Z",
     "iopub.status.busy": "2025-04-10T23:20:34.281235Z",
     "iopub.status.idle": "2025-04-10T23:21:57.860391Z",
     "shell.execute_reply": "2025-04-10T23:21:57.858372Z"
    }
   },
   "outputs": [
    {
     "name": "stdout",
     "output_type": "stream",
     "text": [
      "                   Adj Close\n",
      "Symbol Date                 \n",
      "AAPL   2025-04-21     193.16\n",
      "       2025-04-17     196.98\n",
      "       2025-04-16     194.27\n",
      "       2025-04-15     202.14\n",
      "       2025-04-14     202.52\n",
      "...                      ...\n",
      "IBDS   2024-04-26      22.53\n",
      "       2024-04-25      22.52\n",
      "       2024-04-24      22.54\n",
      "       2024-04-23      22.56\n",
      "       2024-04-22      22.52\n",
      "\n",
      "[368750 rows x 1 columns]\n"
     ]
    }
   ],
   "source": [
    "import pandas as pd\n",
    "\n",
    "def select_tickers_data(df, tickers):\n",
    "  \"\"\"\n",
    "  Selects data for a list of tickers from a DataFrame with a MultiIndex\n",
    "  where the first level is the ticker and the second level is the date.\n",
    "\n",
    "  Args:\n",
    "    df (pd.DataFrame): The input DataFrame with a MultiIndex.\n",
    "    tickers (list): A list of ticker symbols to select.\n",
    "\n",
    "  Returns:\n",
    "    pd.DataFrame: A DataFrame containing only the data for the specified tickers.\n",
    "                  Rows for tickers not found will not be included.\n",
    "  \"\"\"\n",
    "  valid_tickers = [t for t in tickers if t in df.index.get_level_values(0)]  # Filter out the tickers that do not exist\n",
    "\n",
    "  if not valid_tickers:\n",
    "    print(\"No valid tickers found in the DataFrame. Returning an empty DataFrame.\")\n",
    "    return pd.DataFrame()\n",
    "\n",
    "  try:\n",
    "    ticker_df = df.loc[valid_tickers]\n",
    "    return ticker_df\n",
    "  except KeyError as e:\n",
    "    print(f\"KeyError after filtering valid tickers: {e}\") #Added to help debugging.\n",
    "    return pd.DataFrame()\n",
    "\n",
    "\n",
    "# Example usage:\n",
    "# ticker_list = [\"UBS\", \"AAPL\", \"MSFT\", \"GEV\"]  # Include some valid and invalid tickers\n",
    "selected_data = select_tickers_data(df, tickers)\n",
    "print(selected_data)"
   ]
  },
  {
   "cell_type": "code",
   "execution_count": 17,
   "metadata": {
    "execution": {
     "iopub.execute_input": "2025-04-10T23:21:57.867396Z",
     "iopub.status.busy": "2025-04-10T23:21:57.866390Z",
     "iopub.status.idle": "2025-04-10T23:22:25.538470Z",
     "shell.execute_reply": "2025-04-10T23:22:25.536448Z"
    }
   },
   "outputs": [],
   "source": [
    "# Get root directory (assuming notebook is in root/notebooks/)\n",
    "NOTEBOOK_DIR = Path.cwd()\n",
    "ROOT_DIR = NOTEBOOK_DIR.parent if NOTEBOOK_DIR.name == 'notebooks' else NOTEBOOK_DIR\n",
    "\n",
    "import sys\n",
    "\n",
    "# Add src directory to Python path\n",
    "sys.path.append(str(ROOT_DIR / 'src'))\n",
    "\n",
    "import utils\n",
    "\n",
    "list_dfs = utils.get_latest_dfs(selected_data, DAYS_RATIO)"
   ]
  },
  {
   "cell_type": "code",
   "execution_count": 19,
   "metadata": {
    "execution": {
     "iopub.execute_input": "2025-04-10T23:22:25.545462Z",
     "iopub.status.busy": "2025-04-10T23:22:25.544462Z",
     "iopub.status.idle": "2025-04-10T23:23:32.896939Z",
     "shell.execute_reply": "2025-04-10T23:23:32.894918Z"
    }
   },
   "outputs": [
    {
     "name": "stdout",
     "output_type": "stream",
     "text": [
      "\n",
      "Combined performance metrics DataFrame:\n",
      "      Sharpe 3d  Sortino 3d  Omega 3d  Sharpe 5d  Sortino 5d  Omega 5d  Sharpe 10d  Sortino 10d  Omega 10d  Sharpe 15d  Sortino 15d  Omega 15d  Sharpe 30d  Sortino 30d  Omega 30d  Sharpe 60d  Sortino 60d  Omega 60d  Sharpe 120d  Sortino 120d  Omega 120d  Sharpe 250d  Sortino 250d  Omega 250d\n",
      "A    -13.871145  -12.340142  0.000000 -18.745054  -12.800841  0.000000   -1.119263    -1.695660   0.827912   -4.084646    -5.083582   0.514629   -3.490347    -4.346662   0.538093   -4.597900    -5.377312   0.433395    -1.638485     -2.159203    0.746554    -0.947078     -1.251221    0.843790\n",
      "AA   -11.555912  -11.386837  0.000000  -7.338795   -7.653795  0.185497   -0.851168    -1.354425   0.859719   -3.989441    -5.054660   0.497382   -2.651998    -3.435725   0.631556   -2.718677    -3.410509   0.617469    -1.915549     -2.454478    0.709119    -0.654733     -0.898414    0.894898\n",
      "AAL   -9.206931  -10.116292  0.098769  -5.974903   -6.991279  0.376914   -0.543797    -0.962853   0.898461   -1.451470    -2.291351   0.752485   -2.363221    -3.434818   0.637325   -3.297656    -4.493243   0.517664    -0.981874     -1.471007    0.820050    -0.713624     -1.045326    0.867698\n",
      "AAON  -4.237262   -6.152170  0.451921  -8.853339   -9.241442  0.253364    1.775349     4.100025   1.379108    0.239242     0.425871   1.041760   -0.081025    -0.134911   0.986534   -2.517822    -2.967622   0.605737    -0.849366     -1.123999    0.841015     0.004306      0.005692    1.000885\n",
      "AAPL  -1.939356   -3.307304  0.705362  -8.172823   -8.505339  0.227278    2.143178     5.100835   1.496341   -2.260186    -3.441100   0.665733   -1.822660    -2.676082   0.705900   -0.989375    -1.432031   0.822553    -0.877135     -1.234371    0.835299     0.526254      0.776504    1.109560\n",
      "...         ...         ...       ...        ...         ...       ...         ...          ...        ...         ...          ...        ...         ...          ...        ...         ...          ...        ...          ...           ...         ...          ...           ...         ...\n",
      "ZION   1.862944    4.467300  1.397979   3.402986    7.293718  1.663040    1.181864     1.968142   1.235463   -2.566299    -3.075784   0.626632   -0.925227    -1.135096   0.833619   -2.505452    -2.926966   0.615984    -0.572797     -0.818970    0.889693     0.316435      0.468413    1.061024\n",
      "ZM    -6.359468   -8.119093  0.276694  -7.189113   -7.711782  0.310574    2.074401     4.669830   1.462614   -1.351538    -1.898334   0.777988   -0.782233    -1.098710   0.864891   -1.249935    -1.690030   0.782693    -0.088988     -0.125759    0.984114     0.552842      0.834178    1.107018\n",
      "ZS   -18.393404  -13.550488  0.000000  -4.433654   -5.850813  0.474192    2.716428     8.085273   1.787218   -0.145682    -0.233883   0.973656    0.183673     0.285097   1.034031    0.203640     0.305344   1.036436     0.352880      0.511650    1.062590     0.420438      0.570371    1.078699\n",
      "ZTO   -1.614253   -2.822592  0.748544  -7.309565   -7.758034  0.251763    1.837800     2.883825   1.438639   -1.451539    -2.038387   0.756034   -0.910935    -1.218006   0.845900    0.158938     0.217753   1.027731    -1.361380     -1.774676    0.796082    -0.054029     -0.079632    0.990920\n",
      "ZTS    0.202269    0.411961  1.036700  -8.061651   -9.160875  0.322376   -0.716353    -1.159090   0.888578   -4.377666    -5.622655   0.500869   -3.722904    -4.636594   0.532389   -1.739417    -2.217945   0.745536    -1.529734     -1.933120    0.774538     0.034523      0.048975    1.005982\n",
      "\n",
      "[1474 rows x 24 columns]\n"
     ]
    }
   ],
   "source": [
    "import numpy as np\n",
    "\n",
    "all_results = {}\n",
    "\n",
    "for _df in list_dfs:\n",
    "    tickers_in_df = _df.index.get_level_values(0).unique()\n",
    "    for ticker in tickers_in_df:\n",
    "        # Suppress division warnings just for this calculation\n",
    "        with np.errstate(divide='ignore', invalid='ignore'):\n",
    "            result_df = utils.analyze_stock(_df, ticker, risk_free_rate=RISK_FREE_RATE)\n",
    "        \n",
    "        if result_df is not None:\n",
    "            # Extract the ticker name from the result_df index\n",
    "            ticker_name = result_df.index[0]\n",
    "            # Convert the single-row DataFrame to a dictionary\n",
    "            metrics = result_df.iloc[0].to_dict()\n",
    "            \n",
    "            # Update the existing ticker entry or create a new one\n",
    "            if ticker_name in all_results:\n",
    "                all_results[ticker_name].update(metrics)\n",
    "            else:\n",
    "                all_results[ticker_name] = metrics\n",
    "\n",
    "if all_results:\n",
    "    combined_df = pd.DataFrame.from_dict(all_results, orient='index')\n",
    "    print(\"\\nCombined performance metrics DataFrame:\")\n",
    "    print(combined_df)\n",
    "else:\n",
    "    print(\"No performance metrics were calculated.\")"
   ]
  },
  {
   "cell_type": "code",
   "execution_count": 20,
   "metadata": {},
   "outputs": [
    {
     "name": "stdout",
     "output_type": "stream",
     "text": [
      "<class 'pandas.core.frame.DataFrame'>\n",
      "Index: 1474 entries, A to ZTS\n",
      "Data columns (total 24 columns):\n",
      " #   Column        Non-Null Count  Dtype  \n",
      "---  ------        --------------  -----  \n",
      " 0   Sharpe 3d     1474 non-null   float64\n",
      " 1   Sortino 3d    1474 non-null   float64\n",
      " 2   Omega 3d      1365 non-null   float64\n",
      " 3   Sharpe 5d     1474 non-null   float64\n",
      " 4   Sortino 5d    1474 non-null   float64\n",
      " 5   Omega 5d      1453 non-null   float64\n",
      " 6   Sharpe 10d    1474 non-null   float64\n",
      " 7   Sortino 10d   1474 non-null   float64\n",
      " 8   Omega 10d     1473 non-null   float64\n",
      " 9   Sharpe 15d    1474 non-null   float64\n",
      " 10  Sortino 15d   1474 non-null   float64\n",
      " 11  Omega 15d     1474 non-null   float64\n",
      " 12  Sharpe 30d    1474 non-null   float64\n",
      " 13  Sortino 30d   1474 non-null   float64\n",
      " 14  Omega 30d     1474 non-null   float64\n",
      " 15  Sharpe 60d    1474 non-null   float64\n",
      " 16  Sortino 60d   1474 non-null   float64\n",
      " 17  Omega 60d     1474 non-null   float64\n",
      " 18  Sharpe 120d   1474 non-null   float64\n",
      " 19  Sortino 120d  1474 non-null   float64\n",
      " 20  Omega 120d    1474 non-null   float64\n",
      " 21  Sharpe 250d   1474 non-null   float64\n",
      " 22  Sortino 250d  1474 non-null   float64\n",
      " 23  Omega 250d    1474 non-null   float64\n",
      "dtypes: float64(24)\n",
      "memory usage: 287.9+ KB\n"
     ]
    }
   ],
   "source": [
    "combined_df.info()"
   ]
  },
  {
   "cell_type": "code",
   "execution_count": 21,
   "metadata": {
    "execution": {
     "iopub.execute_input": "2025-04-10T23:23:32.903933Z",
     "iopub.status.busy": "2025-04-10T23:23:32.902939Z",
     "iopub.status.idle": "2025-04-10T23:23:33.077437Z",
     "shell.execute_reply": "2025-04-10T23:23:33.076061Z"
    }
   },
   "outputs": [
    {
     "name": "stdout",
     "output_type": "stream",
     "text": [
      "combined_df has_nan_inf: True\n",
      "Replacing NaN/Inf values with column-specific max/min values\n",
      "NaN/Inf Locations BEFORE Replacement:\n",
      "Column: Sortino 3d\n",
      "  Inf: ['ACI', 'ADM', 'ALB', 'ALGN', 'AMX', 'ARKB', 'ARW', 'ASR', 'AVDV', 'AVEM', 'BABA', 'BBD', 'BBY', 'BCE', 'BCH', 'BF-A', 'BF-B', 'BHP', 'BIDU', 'BITB', 'BNTX', 'BPOP', 'BSAC', 'BSBR', 'BTI', 'CAG', 'CF', 'COF', 'CPB', 'DEO', 'DFAE', 'DFS', 'DG', 'DINO', 'DLTR', 'DPZ', 'EBR', 'EEMV', 'EFAV', 'ESGE', 'FBTC', 'FIS', 'FNDC', 'FTSM', 'FWONK', 'GBTC', 'GIS', 'GMAB', 'GPK', 'GSK', 'HDB', 'IBDR', 'IBIT', 'IBN', 'IFF', 'IMO', 'INDA', 'ITUB', 'JMST', 'K', 'KB', 'KHC', 'KR', 'KWEB', 'LEVI', 'LI', 'LULU', 'MCHI', 'MCHP', 'MDLZ', 'MGM', 'MSTR', 'MTCH', 'NEAR', 'NFLX', 'NGG', 'NKE', 'NTES', 'NXPI', 'ON', 'PDD', 'PTLC', 'PULS', 'QRVO', 'RBLX', 'RIO', 'ROKU', 'SCHO', 'SCZ', 'SKM', 'SMMT', 'SNY', 'STZ', 'SU', 'SWKS', 'TAK', 'TD', 'TGT', 'TKC', 'TU', 'U', 'ULTA', 'USFR', 'VALE', 'VGSH', 'VTRS', 'VWO', 'WYNN', 'YMM']\n",
      "Column: Omega 3d\n",
      "  NaN: ['ACI', 'ADM', 'ALB', 'ALGN', 'AMX', 'ARKB', 'ARW', 'ASR', 'AVDV', 'AVEM', 'BABA', 'BBD', 'BBY', 'BCE', 'BCH', 'BF-A', 'BF-B', 'BHP', 'BIDU', 'BITB', 'BNTX', 'BPOP', 'BSAC', 'BSBR', 'BTI', 'CAG', 'CF', 'COF', 'CPB', 'DEO', 'DFAE', 'DFS', 'DG', 'DINO', 'DLTR', 'DPZ', 'EBR', 'EEMV', 'EFAV', 'ESGE', 'FBTC', 'FIS', 'FNDC', 'FTSM', 'FWONK', 'GBTC', 'GIS', 'GMAB', 'GPK', 'GSK', 'HDB', 'IBDR', 'IBIT', 'IBN', 'IFF', 'IMO', 'INDA', 'ITUB', 'JMST', 'K', 'KB', 'KHC', 'KR', 'KWEB', 'LEVI', 'LI', 'LULU', 'MCHI', 'MCHP', 'MDLZ', 'MGM', 'MSTR', 'MTCH', 'NEAR', 'NFLX', 'NGG', 'NKE', 'NTES', 'NXPI', 'ON', 'PDD', 'PTLC', 'PULS', 'QRVO', 'RBLX', 'RIO', 'ROKU', 'SCHO', 'SCZ', 'SKM', 'SMMT', 'SNY', 'STZ', 'SU', 'SWKS', 'TAK', 'TD', 'TGT', 'TKC', 'TU', 'U', 'ULTA', 'USFR', 'VALE', 'VGSH', 'VTRS', 'VWO', 'WYNN', 'YMM']\n",
      "Column: Sortino 5d\n",
      "  Inf: ['AMX', 'AVDV', 'BCH', 'BSAC', 'BSBR', 'CF', 'EFAV', 'FNDC', 'GMAB', 'IBDR', 'IBN', 'KB', 'NEAR', 'NGG', 'PULS', 'RBLX', 'SCHO', 'SKM', 'TAK', 'U', 'VGSH']\n",
      "Column: Omega 5d\n",
      "  NaN: ['AMX', 'AVDV', 'BCH', 'BSAC', 'BSBR', 'CF', 'EFAV', 'FNDC', 'GMAB', 'IBDR', 'IBN', 'KB', 'NEAR', 'NGG', 'PULS', 'RBLX', 'SCHO', 'SKM', 'TAK', 'U', 'VGSH']\n",
      "Column: Sortino 10d\n",
      "  Inf: ['EFAV']\n",
      "Column: Omega 10d\n",
      "  NaN: ['EFAV']\n",
      "df_to_save has_nan_inf: False\n",
      "NaN/Inf Locations AFTER Replacement:\n",
      "No NaN or Inf values found.\n",
      "      Sharpe 3d  Sortino 3d  Omega 3d  Sharpe 5d  Sortino 5d  Omega 5d  Sharpe 10d  Sortino 10d  Omega 10d  Sharpe 15d  Sortino 15d  Omega 15d  Sharpe 30d  Sortino 30d  Omega 30d  Sharpe 60d  Sortino 60d  Omega 60d  Sharpe 120d  Sortino 120d  Omega 120d  Sharpe 250d  Sortino 250d  Omega 250d\n",
      "A    -13.871145  -12.340142  0.000000 -18.745054  -12.800841  0.000000   -1.119263    -1.695660   0.827912   -4.084646    -5.083582   0.514629   -3.490347    -4.346662   0.538093   -4.597900    -5.377312   0.433395    -1.638485     -2.159203    0.746554    -0.947078     -1.251221    0.843790\n",
      "AA   -11.555912  -11.386837  0.000000  -7.338795   -7.653795  0.185497   -0.851168    -1.354425   0.859719   -3.989441    -5.054660   0.497382   -2.651998    -3.435725   0.631556   -2.718677    -3.410509   0.617469    -1.915549     -2.454478    0.709119    -0.654733     -0.898414    0.894898\n",
      "AAL   -9.206931  -10.116292  0.098769  -5.974903   -6.991279  0.376914   -0.543797    -0.962853   0.898461   -1.451470    -2.291351   0.752485   -2.363221    -3.434818   0.637325   -3.297656    -4.493243   0.517664    -0.981874     -1.471007    0.820050    -0.713624     -1.045326    0.867698\n",
      "AAON  -4.237262   -6.152170  0.451921  -8.853339   -9.241442  0.253364    1.775349     4.100025   1.379108    0.239242     0.425871   1.041760   -0.081025    -0.134911   0.986534   -2.517822    -2.967622   0.605737    -0.849366     -1.123999    0.841015     0.004306      0.005692    1.000885\n",
      "AAPL  -1.939356   -3.307304  0.705362  -8.172823   -8.505339  0.227278    2.143178     5.100835   1.496341   -2.260186    -3.441100   0.665733   -1.822660    -2.676082   0.705900   -0.989375    -1.432031   0.822553    -0.877135     -1.234371    0.835299     0.526254      0.776504    1.109560\n",
      "...         ...         ...       ...        ...         ...       ...         ...          ...        ...         ...          ...        ...         ...          ...        ...         ...          ...        ...          ...           ...         ...          ...           ...         ...\n",
      "ZION   1.862944    4.467300  1.397979   3.402986    7.293718  1.663040    1.181864     1.968142   1.235463   -2.566299    -3.075784   0.626632   -0.925227    -1.135096   0.833619   -2.505452    -2.926966   0.615984    -0.572797     -0.818970    0.889693     0.316435      0.468413    1.061024\n",
      "ZM    -6.359468   -8.119093  0.276694  -7.189113   -7.711782  0.310574    2.074401     4.669830   1.462614   -1.351538    -1.898334   0.777988   -0.782233    -1.098710   0.864891   -1.249935    -1.690030   0.782693    -0.088988     -0.125759    0.984114     0.552842      0.834178    1.107018\n",
      "ZS   -18.393404  -13.550488  0.000000  -4.433654   -5.850813  0.474192    2.716428     8.085273   1.787218   -0.145682    -0.233883   0.973656    0.183673     0.285097   1.034031    0.203640     0.305344   1.036436     0.352880      0.511650    1.062590     0.420438      0.570371    1.078699\n",
      "ZTO   -1.614253   -2.822592  0.748544  -7.309565   -7.758034  0.251763    1.837800     2.883825   1.438639   -1.451539    -2.038387   0.756034   -0.910935    -1.218006   0.845900    0.158938     0.217753   1.027731    -1.361380     -1.774676    0.796082    -0.054029     -0.079632    0.990920\n",
      "ZTS    0.202269    0.411961  1.036700  -8.061651   -9.160875  0.322376   -0.716353    -1.159090   0.888578   -4.377666    -5.622655   0.500869   -3.722904    -4.636594   0.532389   -1.739417    -2.217945   0.745536    -1.529734     -1.933120    0.774538     0.034523      0.048975    1.005982\n",
      "\n",
      "[1474 rows x 24 columns]\n"
     ]
    }
   ],
   "source": [
    "import numpy as np\n",
    "import pandas as pd\n",
    "\n",
    "def find_nan_inf(df):\n",
    "    \"\"\"\n",
    "    Finds locations of NaN, Inf, and -Inf values in a DataFrame.\n",
    "    \n",
    "    Args:\n",
    "        df (pd.DataFrame): DataFrame to check\n",
    "        \n",
    "    Returns:\n",
    "        dict: Dictionary with column names as keys and dicts of \n",
    "              {type: indices} as values\n",
    "    \"\"\"\n",
    "    nan_inf_locations = {}\n",
    "    for col in df.columns:\n",
    "        locations = {\n",
    "            'NaN': df[col].index[df[col].isnull()].tolist(),\n",
    "            'Inf': df[col].index[df[col] == np.inf].tolist(),\n",
    "            '-Inf': df[col].index[df[col] == -np.inf].tolist()\n",
    "        }\n",
    "        if any(locations.values()):\n",
    "            nan_inf_locations[col] = locations\n",
    "    return nan_inf_locations\n",
    "\n",
    "def print_nan_inf_locations(locations, message):\n",
    "    \"\"\"Prints NaN/Inf locations with a descriptive message.\"\"\"\n",
    "    print(message)\n",
    "    if locations:\n",
    "        for col, locs in locations.items():\n",
    "            print(f\"Column: {col}\")\n",
    "            for typ, indices in locs.items():\n",
    "                if indices:\n",
    "                    print(f\"  {typ}: {indices}\")\n",
    "    else:\n",
    "        print(\"No NaN or Inf values found.\")\n",
    "\n",
    "def get_column_replacement_values(df):\n",
    "    \"\"\"\n",
    "    Calculate replacement values for each column (max for Inf/NaN, min for -Inf).\n",
    "    \n",
    "    Args:\n",
    "        df (pd.DataFrame): Input DataFrame\n",
    "        \n",
    "    Returns:\n",
    "        tuple: (max_values, min_values) dictionaries with column replacement values\n",
    "    \"\"\"\n",
    "    numeric_cols = df.select_dtypes(include=[np.number]).columns\n",
    "    max_values = {}\n",
    "    min_values = {}\n",
    "    \n",
    "    for col in numeric_cols:\n",
    "        # Get finite values only\n",
    "        finite_vals = df[col][np.isfinite(df[col])]\n",
    "        if len(finite_vals) > 0:\n",
    "            max_values[col] = finite_vals.max()\n",
    "            min_values[col] = finite_vals.min()\n",
    "        else:\n",
    "            # If no finite values, use default\n",
    "            max_values[col] = 1e5\n",
    "            min_values[col] = -1e5\n",
    "    \n",
    "    return max_values, min_values\n",
    "\n",
    "# Check for NaN or Inf values\n",
    "has_nan_inf = combined_df.isnull().any().any() or not np.isfinite(combined_df).all().all()\n",
    "print(f'combined_df has_nan_inf: {has_nan_inf}')\n",
    "\n",
    "if has_nan_inf:\n",
    "    # Calculate replacement values for each column\n",
    "    max_values, min_values = get_column_replacement_values(combined_df)\n",
    "    print(\"Replacing NaN/Inf values with column-specific max/min values\")\n",
    "    \n",
    "    nan_inf_locations_before = find_nan_inf(combined_df)\n",
    "    print_nan_inf_locations(nan_inf_locations_before, \"NaN/Inf Locations BEFORE Replacement:\")\n",
    "    \n",
    "    # Create cleaned DataFrame\n",
    "    df_to_save = combined_df.copy()\n",
    "    \n",
    "    # Replace values column by column\n",
    "    for col in df_to_save.columns:\n",
    "        if col in max_values:  # Only numeric columns will be in max_values\n",
    "            # Replace NaN and +Inf with max value\n",
    "            # NaN is from Omega ratio where daily loss series are all zero\n",
    "            # +Inf is from Sharpe ratio where daily negative excess return series are all zero\n",
    "            df_to_save[col] = df_to_save[col].fillna(max_values[col])\n",
    "            df_to_save[col] = df_to_save[col].replace([np.inf], max_values[col])\n",
    "            # Replace -Inf with min value\n",
    "            # -Inf is from Sharpe ratio where daily excess return series are the same, therefore standard deviation is zero\n",
    "            df_to_save[col] = df_to_save[col].replace([-np.inf], min_values[col])\n",
    "else:\n",
    "    print(\"No NaN or Inf values found.\")\n",
    "    df_to_save = combined_df\n",
    "\n",
    "# Verification\n",
    "print(f'df_to_save has_nan_inf: {df_to_save.isnull().any().any() or not np.isfinite(df_to_save).all().all()}')\n",
    "print_nan_inf_locations(find_nan_inf(df_to_save), \"NaN/Inf Locations AFTER Replacement:\")\n",
    "\n",
    "# Output cleaned DataFrame\n",
    "print(df_to_save)"
   ]
  },
  {
   "cell_type": "code",
   "execution_count": 22,
   "metadata": {
    "execution": {
     "iopub.execute_input": "2025-04-10T23:23:33.085474Z",
     "iopub.status.busy": "2025-04-10T23:23:33.083467Z",
     "iopub.status.idle": "2025-04-10T23:23:33.097314Z",
     "shell.execute_reply": "2025-04-10T23:23:33.095295Z"
    }
   },
   "outputs": [
    {
     "data": {
      "text/plain": [
       "'ACI'"
      ]
     },
     "execution_count": 22,
     "metadata": {},
     "output_type": "execute_result"
    }
   ],
   "source": [
    "ticker_w_inf = nan_inf_locations_before['Sortino 3d']['Inf'][0]\n",
    "ticker_w_inf "
   ]
  },
  {
   "cell_type": "markdown",
   "metadata": {},
   "source": [
    "#### Use Cell below to check the inf, -inf and NaN replacement"
   ]
  },
  {
   "cell_type": "code",
   "execution_count": 23,
   "metadata": {
    "execution": {
     "iopub.execute_input": "2025-04-10T23:23:33.104314Z",
     "iopub.status.busy": "2025-04-10T23:23:33.103325Z",
     "iopub.status.idle": "2025-04-10T23:23:33.129040Z",
     "shell.execute_reply": "2025-04-10T23:23:33.127047Z"
    }
   },
   "outputs": [
    {
     "name": "stdout",
     "output_type": "stream",
     "text": [
      "combined_df.loc['ticker_w_inf']\n"
     ]
    },
    {
     "data": {
      "text/plain": [
       "Sharpe 3d       853.893685\n",
       "Sortino 3d             inf\n",
       "Omega 3d               NaN\n",
       "Sharpe 5d         2.476010\n",
       "Sortino 5d        3.852072\n",
       "Omega 5d          1.485315\n",
       "Sharpe 10d        2.215683\n",
       "Sortino 10d       3.218091\n",
       "Omega 10d         1.465911\n",
       "Sharpe 15d        0.601949\n",
       "Sortino 15d       0.822566\n",
       "Omega 15d         1.104643\n",
       "Sharpe 30d        1.173252\n",
       "Sortino 30d       1.645921\n",
       "Omega 30d         1.216251\n",
       "Sharpe 60d        1.406869\n",
       "Sortino 60d       2.023085\n",
       "Omega 60d         1.275999\n",
       "Sharpe 120d       1.453342\n",
       "Sortino 120d      2.154772\n",
       "Omega 120d        1.285105\n",
       "Sharpe 250d       0.462784\n",
       "Sortino 250d      0.671033\n",
       "Omega 250d        1.084121\n",
       "Name: ACI, dtype: float64"
      ]
     },
     "metadata": {},
     "output_type": "display_data"
    },
    {
     "name": "stdout",
     "output_type": "stream",
     "text": [
      "\n",
      "df_to_save.loc['ticker_w_inf']\n"
     ]
    },
    {
     "data": {
      "text/plain": [
       "Sharpe 3d        853.893685\n",
       "Sortino 3d      2102.104872\n",
       "Omega 3d         188.270386\n",
       "Sharpe 5d          2.476010\n",
       "Sortino 5d         3.852072\n",
       "Omega 5d           1.485315\n",
       "Sharpe 10d         2.215683\n",
       "Sortino 10d        3.218091\n",
       "Omega 10d          1.465911\n",
       "Sharpe 15d         0.601949\n",
       "Sortino 15d        0.822566\n",
       "Omega 15d          1.104643\n",
       "Sharpe 30d         1.173252\n",
       "Sortino 30d        1.645921\n",
       "Omega 30d          1.216251\n",
       "Sharpe 60d         1.406869\n",
       "Sortino 60d        2.023085\n",
       "Omega 60d          1.275999\n",
       "Sharpe 120d        1.453342\n",
       "Sortino 120d       2.154772\n",
       "Omega 120d         1.285105\n",
       "Sharpe 250d        0.462784\n",
       "Sortino 250d       0.671033\n",
       "Omega 250d         1.084121\n",
       "Name: ACI, dtype: float64"
      ]
     },
     "metadata": {},
     "output_type": "display_data"
    }
   ],
   "source": [
    "print(f\"combined_df.loc['ticker_w_inf']\")\n",
    "display(combined_df.loc[ticker_w_inf])\n",
    "print(f\"\\ndf_to_save.loc['ticker_w_inf']\")\n",
    "display(df_to_save.loc[ticker_w_inf])"
   ]
  },
  {
   "cell_type": "code",
   "execution_count": 24,
   "metadata": {
    "execution": {
     "iopub.execute_input": "2025-04-10T23:23:33.136039Z",
     "iopub.status.busy": "2025-04-10T23:23:33.135045Z",
     "iopub.status.idle": "2025-04-10T23:23:33.180475Z",
     "shell.execute_reply": "2025-04-10T23:23:33.179041Z"
    }
   },
   "outputs": [
    {
     "name": "stdout",
     "output_type": "stream",
     "text": [
      "DataFrame successfully saved to ..\\data\\2025-04-21_df_perf_ratios.parquet\n"
     ]
    }
   ],
   "source": [
    "# Save the DataFrame to parquet file (always do this)\n",
    "df_to_save.to_parquet(dest_path, engine='pyarrow', compression='zstd')\n",
    "print(f\"DataFrame successfully saved to {dest_path}\")\n",
    "\n"
   ]
  },
  {
   "cell_type": "code",
   "execution_count": 28,
   "metadata": {
    "execution": {
     "iopub.execute_input": "2025-04-10T23:23:33.187511Z",
     "iopub.status.busy": "2025-04-10T23:23:33.186505Z",
     "iopub.status.idle": "2025-04-10T23:23:33.225918Z",
     "shell.execute_reply": "2025-04-10T23:23:33.223924Z"
    }
   },
   "outputs": [
    {
     "name": "stdout",
     "output_type": "stream",
     "text": [
      "+------+-------------+--------------+------------+-------------+--------------+------------+--------------+---------------+-------------+--------------+---------------+-------------+--------------+---------------+-------------+--------------+---------------+-------------+---------------+----------------+--------------+---------------+----------------+--------------+\n",
      "|      |   Sharpe 3d |   Sortino 3d |   Omega 3d |   Sharpe 5d |   Sortino 5d |   Omega 5d |   Sharpe 10d |   Sortino 10d |   Omega 10d |   Sharpe 15d |   Sortino 15d |   Omega 15d |   Sharpe 30d |   Sortino 30d |   Omega 30d |   Sharpe 60d |   Sortino 60d |   Omega 60d |   Sharpe 120d |   Sortino 120d |   Omega 120d |   Sharpe 250d |   Sortino 250d |   Omega 250d |\n",
      "+======+=============+==============+============+=============+==============+============+==============+===============+=============+==============+===============+=============+==============+===============+=============+==============+===============+=============+===============+================+==============+===============+================+==============+\n",
      "| USFR |     13.4644 |    2102.1049 |   188.2704 |      5.6777 |      17.8647 |     3.2507 |       3.6738 |        8.4382 |      2.1276 |      -1.4811 |       -2.1032 |      0.7612 |      -1.9443 |       -2.8261 |      0.7221 |      -0.0001 |       -0.0001 |      1.0000 |        2.6035 |         4.2219 |       1.5403 |        2.4862 |         3.9362 |       1.4989 |\n",
      "+------+-------------+--------------+------------+-------------+--------------+------------+--------------+---------------+-------------+--------------+---------------+-------------+--------------+---------------+-------------+--------------+---------------+-------------+---------------+----------------+--------------+---------------+----------------+--------------+\n",
      "| AAPL |     -1.9394 |      -3.3073 |     0.7054 |     -8.1728 |      -8.5053 |     0.2273 |       2.1432 |        5.1008 |      1.4963 |      -2.2602 |       -3.4411 |      0.6657 |      -1.8227 |       -2.6761 |      0.7059 |      -0.9894 |       -1.4320 |      0.8226 |       -0.8771 |        -1.2344 |       0.8353 |        0.5263 |         0.7765 |       1.1096 |\n",
      "+------+-------------+--------------+------------+-------------+--------------+------------+--------------+---------------+-------------+--------------+---------------+-------------+--------------+---------------+-------------+--------------+---------------+-------------+---------------+----------------+--------------+---------------+----------------+--------------+\n",
      "| MSFT |    -28.9697 |     -14.8022 |     0.0000 |    -21.5973 |     -13.3916 |     0.0000 |       0.3650 |        0.8583 |      1.0758 |      -1.2889 |       -2.4514 |      0.7788 |      -1.1437 |       -1.9962 |      0.7949 |      -2.5586 |       -3.6322 |      0.6102 |       -1.2268 |        -1.7062 |       0.7908 |       -0.4606 |        -0.6324 |       0.9195 |\n",
      "+------+-------------+--------------+------------+-------------+--------------+------------+--------------+---------------+-------------+--------------+---------------+-------------+--------------+---------------+-------------+--------------+---------------+-------------+---------------+----------------+--------------+---------------+----------------+--------------+\n",
      "| GOOG |    -45.7193 |     -15.4167 |     0.0000 |    -76.3869 |     -15.6235 |     0.0000 |       0.3952 |        0.8888 |      1.0721 |      -1.1422 |       -2.0309 |      0.8207 |      -2.0119 |       -3.0021 |      0.7165 |      -3.0230 |       -3.8858 |      0.6027 |       -0.5552 |        -0.7925 |       0.9114 |       -0.1263 |        -0.1801 |       0.9781 |\n",
      "+------+-------------+--------------+------------+-------------+--------------+------------+--------------+---------------+-------------+--------------+---------------+-------------+--------------+---------------+-------------+--------------+---------------+-------------+---------------+----------------+--------------+---------------+----------------+--------------+\n",
      "| NVDA |    -50.7043 |     -15.4992 |     0.0000 |    -14.8679 |     -11.7898 |     0.0930 |       0.3001 |        0.6511 |      1.0600 |      -1.4225 |       -2.3900 |      0.7698 |      -0.7152 |       -1.1753 |      0.8759 |      -1.7029 |       -2.2598 |      0.7377 |       -1.0139 |        -1.3691 |       0.8352 |        0.5669 |         0.8194 |       1.1013 |\n",
      "+------+-------------+--------------+------------+-------------+--------------+------------+--------------+---------------+-------------+--------------+---------------+-------------+--------------+---------------+-------------+--------------+---------------+-------------+---------------+----------------+--------------+---------------+----------------+--------------+\n",
      "| IBIT |     16.9283 |    2102.1049 |   188.2704 |      6.8012 |      20.4994 |     3.5827 |       6.0863 |       15.7145 |      2.9236 |       1.9206 |        2.9048 |      1.3591 |       1.7614 |        2.8279 |      1.3286 |      -1.3119 |       -1.7448 |      0.8088 |        1.2245 |         1.9411 |       1.2249 |        0.6999 |         1.0638 |       1.1223 |\n",
      "+------+-------------+--------------+------------+-------------+--------------+------------+--------------+---------------+-------------+--------------+---------------+-------------+--------------+---------------+-------------+--------------+---------------+-------------+---------------+----------------+--------------+---------------+----------------+--------------+\n",
      "| GLD  |      8.3338 |      64.7123 |     6.7650 |     13.6506 |     111.1069 |    14.9981 |      15.4643 |      102.0374 |     14.7437 |       5.3545 |       11.5926 |      2.4308 |       6.5242 |       14.3476 |      3.1406 |       4.6390 |        9.1631 |      2.2409 |        2.4569 |         3.8538 |       1.5102 |        2.1792 |         3.3359 |       1.4339 |\n",
      "+------+-------------+--------------+------------+-------------+--------------+------------+--------------+---------------+-------------+--------------+---------------+-------------+--------------+---------------+-------------+--------------+---------------+-------------+---------------+----------------+--------------+---------------+----------------+--------------+\n",
      "| TBIL |      5.2953 |      20.0484 |     2.7861 |      2.3311 |       5.8837 |     1.5242 |       1.4584 |        2.9109 |      1.2751 |      -0.0996 |       -0.1735 |      0.9845 |       0.0427 |        0.0687 |      1.0067 |       0.1198 |        0.1767 |      1.0189 |        0.9793 |         1.4930 |       1.1600 |        2.2182 |         3.7720 |       1.4199 |\n",
      "+------+-------------+--------------+------------+-------------+--------------+------------+--------------+---------------+-------------+--------------+---------------+-------------+--------------+---------------+-------------+--------------+---------------+-------------+---------------+----------------+--------------+---------------+----------------+--------------+\n"
     ]
    }
   ],
   "source": [
    "import pandas as pd\n",
    "import numpy as np\n",
    "from tabulate import tabulate\n",
    "\n",
    "_symbols = ['USFR','AAPL', 'MSFT', 'GOOG', 'NVDA', 'IBIT', 'GLD', 'TBIL']\n",
    "# Create and display the formatted table\n",
    "selected_df = df_to_save.loc[_symbols] #Use df_to_save here\n",
    "print(tabulate(selected_df, headers='keys', tablefmt='grid', floatfmt='.4f'))"
   ]
  },
  {
   "cell_type": "code",
   "execution_count": null,
   "metadata": {},
   "outputs": [],
   "source": []
  }
 ],
 "metadata": {
  "kernelspec": {
   "display_name": ".venv",
   "language": "python",
   "name": "python3"
  },
  "language_info": {
   "codemirror_mode": {
    "name": "ipython",
    "version": 3
   },
   "file_extension": ".py",
   "mimetype": "text/x-python",
   "name": "python",
   "nbconvert_exporter": "python",
   "pygments_lexer": "ipython3",
   "version": "3.11.9"
  }
 },
 "nbformat": 4,
 "nbformat_minor": 2
}
