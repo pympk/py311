{
 "cells": [
  {
   "cell_type": "code",
   "execution_count": null,
   "metadata": {},
   "outputs": [],
   "source": []
  },
  {
   "cell_type": "markdown",
   "metadata": {},
   "source": [
    "#### Update (if data exist) or append (if data doesn't exist) df_finviz_merged_stocks_etfs.describe() to STATS_HISTORY_FILE"
   ]
  },
  {
   "cell_type": "code",
   "execution_count": null,
   "metadata": {},
   "outputs": [
    {
     "name": "stdout",
     "output_type": "stream",
     "text": [
      "Python will look in these locations:\n",
      "['C:\\\\Users\\\\ping\\\\.pyenv\\\\pyenv-win\\\\versions\\\\3.11.9\\\\python311.zip', 'C:\\\\Users\\\\ping\\\\.pyenv\\\\pyenv-win\\\\versions\\\\3.11.9\\\\DLLs', 'C:\\\\Users\\\\ping\\\\.pyenv\\\\pyenv-win\\\\versions\\\\3.11.9\\\\Lib', 'C:\\\\Users\\\\ping\\\\.pyenv\\\\pyenv-win\\\\versions\\\\3.11.9', 'c:\\\\Users\\\\ping\\\\Files_win10\\\\python\\\\py311\\\\.venv', '', 'c:\\\\Users\\\\ping\\\\Files_win10\\\\python\\\\py311\\\\.venv\\\\Lib\\\\site-packages', 'c:\\\\Users\\\\ping\\\\Files_win10\\\\python\\\\py311\\\\.venv\\\\Lib\\\\site-packages\\\\win32', 'c:\\\\Users\\\\ping\\\\Files_win10\\\\python\\\\py311\\\\.venv\\\\Lib\\\\site-packages\\\\win32\\\\lib', 'c:\\\\Users\\\\ping\\\\Files_win10\\\\python\\\\py311\\\\.venv\\\\Lib\\\\site-packages\\\\Pythonwin', 'c:\\\\Users\\\\ping\\\\Files_win10\\\\python\\\\py311\\\\stocks\\\\src']\n",
      "c:\\Users\\ping\\Files_win10\\python\\py311\\stocks\\src\\utils.py\n",
      "path_date: ..\\data\\2025-04-25_df_finviz_merged_stocks_etfs.parquet\n"
     ]
    }
   ],
   "source": [
    "import sys\n",
    "from pathlib import Path\n",
    "import pandas as pd\n",
    "\n",
    "# Notebook cell\n",
    "%load_ext autoreload\n",
    "%autoreload 2\n",
    "\n",
    "# Get root directory (assuming notebook is in root/notebooks/)\n",
    "NOTEBOOK_DIR = Path.cwd()\n",
    "ROOT_DIR = NOTEBOOK_DIR.parent if NOTEBOOK_DIR.name == 'notebooks' else NOTEBOOK_DIR\n",
    "\n",
    "# Add src directory to Python path\n",
    "sys.path.append(str(ROOT_DIR / 'src'))\n",
    "\n",
    "# Verify path\n",
    "print(f\"Python will look in these locations:\\n{sys.path}\")\n",
    "\n",
    "\n",
    "# --- Execute the processor ---\n",
    "import utils\n",
    "from config import date_str, DOWNLOAD_DIR, DEST_DIR\n",
    "\n",
    "path_data = f'..\\data\\{date_str}_df_finviz_merged_stocks_etfs.parquet'\n",
    "# path_corr = '..\\data\\df_corr_emv_matrix.parquet'\n",
    "# path_cov = '..\\data\\df_cov_emv_matrix.parquet'\n",
    "# path_output = f'..\\picks\\{date_str}_portf.txt'\n",
    "\n",
    "\n",
    "print(utils.__file__)  # Should point to your src/utils.py\n",
    "print(f'path_data: {path_data}')\n",
    "# print(f'path_corr: {path_corr}')\n",
    "# print(f'path_cov: {path_cov}')  \n",
    "# print(f'path_output: {path_output}')\n",
    "# print((f'date_str: {date_str}'))\n",
    "\n"
   ]
  },
  {
   "cell_type": "code",
   "execution_count": 2,
   "metadata": {},
   "outputs": [],
   "source": [
    "import pandas as pd\n",
    "# Set pandas display options to show more columns and rows\n",
    "pd.set_option('display.max_columns', None)  # Show all columns\n",
    "# pd.set_option('display.max_rows', 10)       # Limit to 10 rows for readability\n",
    "# pd.set_option('display.width', None)        # Let the display adjust to the window\n",
    "# pd.set_option('display.max_colwidth', None) # Show full content of each cell\n",
    "pd.set_option('display.max_rows', 100)\n",
    "pd.set_option('display.width', 2000)        # Let the display adjust to the window0)\n",
    "pd.set_option('display.float_format', '{:.4f}'.format)"
   ]
  },
  {
   "cell_type": "code",
   "execution_count": 3,
   "metadata": {},
   "outputs": [],
   "source": [
    "import pandas as pd\n",
    "\n",
    "def get_column_values_above_threshold(df, column_name='Avg Volume, M', threshold=0.75):\n",
    "  \"\"\"\n",
    "  Analyzes the number and percentage of values in a DataFrame column that are above a specified threshold,\n",
    "  and returns the filtered DataFrame.\n",
    "\n",
    "  Args:\n",
    "    df (pd.DataFrame): The input DataFrame.\n",
    "    column_name (str): The name of the column to analyze. Defaults to 'Avg Volume, M'.\n",
    "    threshold (float): The threshold value to compare against. Defaults to 1.00.\n",
    "\n",
    "  Returns:\n",
    "    pd.DataFrame: A DataFrame containing only the rows where the specified column's value is above the threshold.\n",
    "  \"\"\"\n",
    "  \n",
    "  count_before = len(df)\n",
    "  above_threshold_df = df[df[column_name] > threshold]\n",
    "  count_after = len(above_threshold_df)\n",
    "  percentage = (count_after / len(df)) * 100\n",
    "\n",
    "  print(f\"count_before: {count_before}\")\n",
    "  print(f\"count_after above threshold ({threshold}): {count_after}\")\n",
    "  print(f\"Percentage above threshold ({threshold}): {percentage:.2f}%\")\n",
    "\n",
    "  return above_threshold_df\n"
   ]
  },
  {
   "cell_type": "code",
   "execution_count": 4,
   "metadata": {},
   "outputs": [
    {
     "name": "stdout",
     "output_type": "stream",
     "text": [
      "\n",
      "df_data.shape: (1518, 139)\n",
      "        No.                Company               Index                  Sector                        Industry Country Exchange                                               Info  MktCap AUM, M  Rank  Market Cap, M     P/E  Fwd P/E    PEG     P/S     P/B     P/C   P/FCF  Book/sh  Cash/sh  Dividend %  Dividend TTM Dividend Ex Date  Payout Ratio %     EPS  EPS next Q  EPS this Y %  EPS next Y %  EPS past 5Y %  EPS next 5Y %  Sales past 5Y %  Sales Q/Q %  EPS Q/Q %  EPS YoY TTM %  Sales YoY TTM %    Sales, M   Income, M  EPS Surprise %  Revenue Surprise %  Outstanding, M   Float, M  Float %  Insider Own %  Insider Trans %  Inst Own %  Inst Trans %  Short Float %  Short Ratio  Short Interest, M   ROA %    ROE %   ROI %  Curr R  Quick R  LTDebt/Eq  Debt/Eq  Gross M %  Oper M %  Profit M %  Perf 3D %  Perf Week %  Perf Month %  Perf Quart %  Perf Half %  Perf Year %  Perf YTD %   Beta     ATR  ATR/Price %  Volatility W %  Volatility M %  SMA20 %  SMA50 %  SMA200 %  50D High %  50D Low %  52W High %  52W Low %        52W Range  All-Time High %  All-Time Low %     RSI  Earnings    IPO Date Optionable Shortable    Employees  Change from Open %   Gap %  Recom  Avg Volume, M  Rel Volume     Volume  Target Price  Prev Close     Open     High      Low    Price  Change % Single Category Asset Type  Expense %  Holdings  AUM, M  Flows 1M, M  Flows% 1M  Flows 3M, M  Flows% 3M  Flows YTD, M  Flows% YTD  Return% 1Y  Return% 3Y  Return% 5Y Tags  Sharpe 3d  Sortino 3d  Omega 3d  Sharpe 5d  Sortino 5d  Omega 5d  Sharpe 10d  Sortino 10d  Omega 10d  Sharpe 15d  Sortino 15d  Omega 15d  Sharpe 30d  Sortino 30d  Omega 30d  Sharpe 60d  Sortino 60d  Omega 60d  Sharpe 120d  Sortino 120d  Omega 120d  Sharpe 250d  Sortino 250d  Omega 250d\n",
      "Ticker                                                                                                                                                                                                                                                                                                                                                                                                                                                                                                                                                                                                                                                                                                                                                                                                                                                                                                                                                                                                                                                                                                                                                                                                                                                                                                                                                                                                                                                                                                                                                                                                                                                                                                                                                                                                  \n",
      "AAPL      1              Apple Inc  DJIA, NDX, S&P 500              Technology            Consumer Electronics     USA     NASD                   Technology, Consumer Electronics   3143820.0000     1   3143820.0000 33.2700  26.3100 3.7500  7.9400 47.1500 58.4600 31.9800   4.4400   3.5800      0.4900        1.0000        2/10/2025         16.1100  6.2900      1.6100        7.5800        9.5300        15.4100         8.8800           9.1800       3.9500    10.1300        -2.1400           2.6100 395760.0000  96150.0000          2.2300              0.0300      15040.0000 15010.0000  99.7800         0.0900          -3.5200     63.8600        1.4500         0.7500       1.8500           113.1300 27.5700 136.5200 63.8000  0.9200   0.8800     1.2600   1.4500    46.5200   31.7600     24.3000     0.0101       6.2400       -5.5300       -6.0600     -11.2700      25.3900    -16.4300 1.2800  9.2600       4.4247          2.4300          4.9300   3.8300  -4.4200   -8.0600    -16.2900    23.6800    -19.5400    24.4600  168.15 - 260.10         -19.5400     328873.8000 51.9500  May 01/a  12/12/1980        Yes       Yes  164000.0000              1.4900 -1.0400 2.0800        61.1600      0.6200   38132498      238.5900    208.3700 206.2000 209.7500 206.2000 209.2800    0.4400                                   NaN       NaN     NaN          NaN        NaN          NaN        NaN           NaN         NaN         NaN         NaN         NaN    -    17.9453   3802.2689  339.7330    25.7312  15666.4842 1974.7915      4.2142       6.7193     1.9157      2.6387       5.8318     1.6297      0.0084       0.0130     1.0016     -0.8623      -1.2467     0.8439      -0.3055       -0.4383      0.9399       0.7082        1.0538      1.1490\n",
      "MSFT      2  Microsoft Corporation  DJIA, NDX, S&P 500              Technology       Software - Infrastructure     USA     NASD              Technology, Software - Infrastructure   2913010.0000     2   2913010.0000 31.5600  26.3700 2.2200 11.1300  9.6200 40.7100 41.6000  40.7100   9.6300      0.8300        3.1600        5/15/2025         25.4200 12.4200      3.2200       11.4500       12.9900        18.4500        14.2100          14.4000      12.2700    10.2300        12.3800          15.0400 261800.0000  92750.0000          3.5400              1.1100       7430.0000  7320.0000  98.5200         1.4700          -0.0400     73.3000        1.1600         0.7000       2.0200            51.2500 18.4700  34.2900 23.6000  1.3500   1.3400     0.3000   0.3400    69.4100   44.9600     35.4300     1.2508       6.5400        0.4800      -11.7600      -8.3400      -3.8600     -7.0300 0.9800 12.5700       3.2079          2.4300          3.5200   4.2600   1.1900   -5.6600     -6.5500    13.6500    -16.3300    13.6500  344.79 - 468.35         -16.3300     491688.0200 55.9600  Apr 30/a   3/13/1986        Yes       Yes  228000.0000              1.2500 -0.0800 1.3400        25.3500      0.7400   18803717      482.9800    387.3000 387.0000 392.1600 384.6000 391.8500    1.1700                                   NaN       NaN     NaN          NaN        NaN          NaN        NaN           NaN         NaN         NaN         NaN         NaN    -    22.6691   3802.2689  339.7330    37.1566  15666.4842 1974.7915      0.7217       1.0979     1.1202      3.0281       7.3408     1.7739      0.2752       0.5049     1.0538     -0.6847      -1.1274     0.8787      -0.2336       -0.3513      0.9575      -0.1539       -0.2152      0.9724\n",
      "NVDA      3            NVIDIA Corp  DJIA, NDX, S&P 500              Technology                  Semiconductors     USA     NASD                         Technology, Semiconductors   2708640.0000     3   2708640.0000 37.7600  19.6800 1.2700 20.7600 34.2500 62.6900 44.5100   3.2400   1.7700      0.0400        0.0400        3/12/2025          1.1600  2.9400      0.8900       48.0600       27.3900        91.8300        29.6400          70.8800      77.9400    81.2300       146.2600         114.2000 130500.0000  72880.0000          4.9700              3.2300      24480.0000 23420.0000  95.7000         4.0000          -0.1300     66.4500        1.8000         1.1200       0.8300           262.9600 82.2000 119.1800 81.6000  4.4400   3.8800     0.1300   0.1300    74.9900   62.4200     55.8500     2.7391       9.3800       -2.4200      -22.1600     -22.6900      34.6800    -17.3400 2.1100  6.8200       6.1436          3.8300          6.4600   5.4100  -3.6700  -11.5900    -22.6100    28.1600    -27.5100    41.9100   78.22 - 153.13         -27.5100     332929.9900 52.4000  Feb 26/a   1/22/1999        Yes       Yes   36000.0000              3.8900  0.3900 1.4000       315.0400      0.7900  249869413      161.5900    106.4300 106.8500 111.9200 105.7300 111.0100    4.3000                                   NaN       NaN     NaN          NaN        NaN          NaN        NaN           NaN         NaN         NaN         NaN         NaN    -   130.0216   3802.2689  339.7330    55.5044  15666.4842 1974.7915      0.2555       0.3515     1.0400      3.3570       7.4076     1.8516     -0.6600      -1.0692     0.8867     -0.4080      -0.5982     0.9327      -0.3379       -0.4657      0.9425       0.6302        0.9105      1.1133\n",
      "AMZN      4         Amazon.com Inc  DJIA, NDX, S&P 500       Consumer Cyclical                 Internet Retail     USA     NASD                 Consumer Cyclical, Internet Retail   2005630.0000     4   2005630.0000 34.2200  25.3500 1.8300  3.1400  7.0000 19.1500 61.0000  27.0000   9.8700         NaN           NaN                -          0.0000  5.5200      1.3700       12.6300       19.6900        36.8900        18.7100          18.3100      10.4900    85.4800        91.6100          10.9900 637960.0000  59250.0000         25.1400              0.2400      10590.0000  9490.0000  89.5900        10.5800          -1.4600     64.4700        2.7700         0.7500       1.4300            71.1900 10.2800  24.2900 14.2100  1.0600   0.8700     0.4600   0.5200    48.8500   10.8700      9.2900     4.3511       9.4900       -6.0400      -19.5300      -0.3700       5.2600    -13.8600 1.3000  9.1200       4.8257          3.4100          5.2200   4.1600  -3.8400   -5.1300    -18.2500    17.1100    -22.0700    24.6600  151.61 - 242.52         -22.0700     287884.7800 52.1400  May 01/a   5/15/1997        Yes       Yes 1556000.0000              0.8400  0.4700 1.2900        49.7200      0.7300   36313537      248.7100    186.5400 187.4200 189.9400 185.4900 188.9900    1.3100                                   NaN       NaN     NaN          NaN        NaN          NaN        NaN           NaN         NaN         NaN         NaN         NaN    -    25.9691   3802.2689  339.7330    38.7013  15666.4842 1974.7915      1.4725       2.6137     1.2405      2.8749       6.1657     1.6191     -0.4488      -0.6738     0.9256     -1.8235      -2.5154     0.7302       0.1666        0.2447      1.0289       0.2020        0.2853      1.0359\n",
      "GOOGL     6           Alphabet Inc        NDX, S&P 500  Communication Services  Internet Content & Information     USA     NASD  Communication Services, Internet Content & Inf...   1984030.0000     5   1984030.0000 18.0600  15.9300 1.3400  5.5200  5.7000 20.8100 26.5000  28.4100   7.7800      0.3100        0.8000        3/10/2025          7.4600  8.9700      2.1600       17.1700        7.9400        26.7600        13.4300          17.3000      11.8100    48.7700        37.7300          13.0200 359310.0000 111000.0000         40.0200              1.1500       5830.0000  5820.0000  99.8400        52.2800          -0.0100     38.3800        1.0800         1.1800       1.9400            68.6700 25.1500  34.7900 30.0200  1.7700   1.7700     0.0700   0.0800    58.5400   32.6000     30.8900    -6.4204       7.1400       -1.8800      -19.1000      -1.9300       2.3400    -14.4400 1.0000  5.9300       3.6614          2.4800          3.8500   5.3400  -1.3600   -6.0000    -13.1100    15.2500    -21.7800    15.2500  140.53 - 207.05         -21.7800       6644.6100 54.3100  Apr 24/a   8/19/2004        Yes       Yes  183323.0000             -1.8400  3.5900 1.4600        35.4400      1.5800   55916858      202.9500    159.2800 165.0000 166.1000 161.0400 161.9600    1.6800                                   NaN       NaN     NaN          NaN        NaN          NaN        NaN           NaN         NaN         NaN         NaN         NaN    -    55.3908   3802.2689  339.7330    84.3988  15666.4842 1974.7915      2.5237       4.3046     1.4128      3.7731       8.6442     1.8894     -0.2660      -0.4179     0.9575     -2.1387      -2.8280     0.7019      -0.2333       -0.3346      0.9618      -0.1661       -0.2274      0.9722\n",
      "\n",
      "\n",
      "            No.  MktCap AUM, M      Rank  Market Cap, M        P/E   Fwd P/E      PEG       P/S       P/B        P/C      P/FCF     Book/sh     Cash/sh  Dividend %  Dividend TTM  Payout Ratio %        EPS  EPS next Q  EPS this Y %  EPS next Y %  EPS past 5Y %  EPS next 5Y %  Sales past 5Y %  Sales Q/Q %   EPS Q/Q %  EPS YoY TTM %  Sales YoY TTM %    Sales, M   Income, M  EPS Surprise %  Revenue Surprise %  Outstanding, M   Float, M   Float %  Insider Own %  Insider Trans %  Inst Own %  Inst Trans %  Short Float %  Short Ratio  Short Interest, M     ROA %     ROE %     ROI %   Curr R  Quick R  LTDebt/Eq   Debt/Eq  Gross M %   Oper M %  Profit M %  Perf 3D %  Perf Week %  Perf Month %  Perf Quart %  Perf Half %  Perf Year %  Perf YTD %      Beta        ATR  ATR/Price %  Volatility W %  Volatility M %   SMA20 %   SMA50 %  SMA200 %  50D High %  50D Low %  52W High %  52W Low %  All-Time High %  All-Time Low %       RSI    Employees  Change from Open %     Gap %     Recom  Avg Volume, M  Rel Volume         Volume  Target Price  Prev Close        Open        High         Low       Price  Change %  Expense %   Holdings      AUM, M  Flows 1M, M  Flows% 1M  Flows 3M, M  Flows% 3M  Flows YTD, M  Flows% YTD  Return% 1Y  Return% 3Y  Return% 5Y   Sharpe 3d  Sortino 3d  Omega 3d  Sharpe 5d  Sortino 5d  Omega 5d  Sharpe 10d  Sortino 10d  Omega 10d  Sharpe 15d  Sortino 15d  Omega 15d  Sharpe 30d  Sortino 30d  Omega 30d  Sharpe 60d  Sortino 60d  Omega 60d  Sharpe 120d  Sortino 120d  Omega 120d  Sharpe 250d  Sortino 250d  Omega 250d\n",
      "count 1518.0000      1518.0000 1518.0000      1123.0000  1007.0000 1084.0000 912.0000 1112.0000 1070.0000   997.0000   966.0000   1119.0000    999.0000   1198.0000     1170.0000        995.0000  1116.0000   1095.0000     1108.0000     1107.0000       958.0000      1050.0000        1114.0000    1106.0000   1110.0000      1113.0000        1111.0000   1118.0000   1116.0000       1108.0000           1102.0000       1123.0000  1116.0000 1116.0000      1113.0000        1057.0000   1120.0000     1104.0000      1116.0000    1518.0000          1518.0000 1113.0000 1070.0000 1115.0000 995.0000 883.0000  1068.0000 1068.0000   985.0000  1110.0000   1110.0000  1518.0000    1518.0000     1518.0000     1518.0000    1518.0000    1518.0000   1518.0000 1516.0000  1518.0000    1518.0000       1518.0000       1518.0000 1518.0000 1518.0000 1518.0000   1518.0000  1518.0000   1518.0000  1518.0000        1517.0000       1516.0000 1518.0000    1075.0000           1518.0000 1518.0000 1111.0000      1518.0000   1518.0000      1518.0000     1114.0000   1518.0000   1518.0000   1518.0000   1518.0000   1518.0000 1518.0000   395.0000   394.0000    395.0000     386.0000   395.0000     392.0000   395.0000      392.0000    395.0000    395.0000    372.0000    339.0000   1518.0000   1518.0000 1518.0000  1518.0000   1518.0000 1518.0000   1518.0000    1518.0000  1518.0000   1518.0000    1518.0000  1518.0000   1518.0000    1518.0000  1518.0000   1518.0000    1518.0000  1518.0000    1518.0000     1518.0000   1518.0000    1518.0000     1518.0000   1518.0000\n",
      "mean   474.1713     51265.2635  771.4018     61098.1656    62.7192   20.5310   4.8573    6.5516    7.7167   131.0674   111.4939    439.6541    242.1769      2.8557        2.1599         69.2204    61.6226      8.1310      113.2496       22.5642        10.8523        13.8750          19.9535       9.8884     92.4753       148.7611          10.9069  24639.3145   2654.4059          8.3928              2.9182        716.3384   659.2166   92.9285         9.2421          -3.5872     72.0967        2.9828         3.5864       2.5618            11.0123    5.8480   36.1451   10.5650   2.2250   1.7611     1.3407    1.6084    41.8354    10.0430      3.2236     1.1767       3.5801       -3.0171       -6.0008      -2.7225      11.5290     -1.8747    0.9771    19.2230       3.7054          2.8452          4.0161    2.7855   -1.4534   -2.5884    -12.3615    16.2232    -18.3824    30.2646         -29.2736      10988.0734   52.6925   42887.9191              0.3776   -0.3713    2.0026         5.3781      0.8107   4486897.3729      880.6862    658.9940    657.7885    660.5698    652.8014    658.0751    0.0076     0.2535  1169.2817  23309.9494      56.6578     0.2296     556.5838     4.3781      701.0457      5.9509      8.2026      5.1926     10.8077     63.6581   1840.1975  164.9595    16.6312   6177.3462  779.0987      4.5051      22.3973     4.1002      2.5973       6.3257     1.8013     -0.0478       0.1147     1.0217     -0.4739      -0.5395     0.9427       0.0040        0.0865      1.0142       0.3679        0.6009      1.0812\n",
      "std    334.8770    181498.6529  449.7092    207218.1417   440.8449   18.0664  18.2715   52.2466   25.3634  1345.1004  2337.2689  13496.5460   7347.7479      2.2487        2.1380        507.0021  1853.2508    213.8505     1919.9378       99.0451        30.2490        17.5275          58.5254      67.3492   1452.8049      2551.6310          78.1603  54983.2498   8799.5532        203.2902             28.9167       1633.1175  1527.5874   14.1560        17.4523          18.8924     29.0217       25.4466         3.7071       2.3228            21.9477    9.7907  312.7352   41.1236   7.4493   4.3846     4.2441    5.0328    49.7482   172.0214    207.4869     3.5984       5.0488        7.0631       14.0687      18.5179      47.2031     15.1350    0.5299   551.1482       1.9677          1.5991          2.0200    4.4307    6.0702   12.8172      9.6133    10.1435     13.5962    51.7543          22.2164      45037.5078    6.7969  105694.5565              1.6465    1.3731    0.5276        14.3961      0.5659  15081711.7339    23578.8232  20458.2961  20429.0397  20480.3589  20295.0053  20422.8672    2.2322     0.2324  2237.6878  59126.9139    1096.7816     5.7627    2504.0924    17.6953     3422.5907     21.9608     10.5625      5.6946      8.4266   1279.5821   1871.2512  166.6828    15.3151   7569.8949  953.8502      4.4494     147.0422    19.6644      2.4276       6.2586     0.8394      1.3828       2.1681     0.2811      1.3516       1.9573     0.2532       0.9253        1.3714      0.1832       0.7625        1.1902      0.1627\n",
      "min      1.0000      3050.0000    1.0000      5490.0000     2.9100    1.6200   0.1200    0.0600    0.3200     0.5000     0.3900   -266.1800      0.0000      0.0200        0.0400          0.0000   -65.0400     -3.8000     -687.4800     -114.7100      -415.2800       -28.8200         -39.7700    -125.4100 -29750.0000     -3144.6300        -100.0000      0.0000 -19196.0000      -3215.1000           -100.0000          0.5500     0.5400    2.1700         0.0000         -95.1300      0.2100      -42.6800         0.0100       0.0200             0.0000  -73.1100 -890.7500 -152.6500   0.0200   0.0200     0.0000    0.0000 -1333.6800 -5494.8600  -6792.2800   -27.7079     -34.4100      -34.8500      -62.2100     -64.4300     -85.8500    -62.0400   -1.1300     0.0200       0.0272          0.0100          0.0100  -26.7300  -33.9400  -58.9000    -78.2900   -14.5600    -95.5600   -14.5600         -99.9900          0.5400   26.5500      19.0000            -31.9900  -25.0000    1.0000         0.0015      0.2000       325.0000        2.8900      2.3800      2.3800      2.4000      2.3700      2.3800  -36.0600     0.0200     1.0000   3050.0000  -11430.0000   -27.8400   -5540.0000   -38.5300   -16650.0000    -37.2900    -63.5500    -34.0600    -37.5100 -13302.4408    -15.8745    0.0000   -46.6264    -15.2264    0.0000     -8.9960      -9.0310     0.0243     -7.3079      -7.1529     0.2624     -5.4170      -5.6062     0.3744     -4.4146      -5.3006     0.4535      -2.8916       -3.3990      0.5679      -2.0378       -2.5179      0.6927\n",
      "25%    191.0000      7860.0000  381.2500      9495.0000    13.9300   10.7650   1.4375    1.3300    1.7500     8.8700    12.3425     10.0800      1.6500      1.2400        0.8500          4.3200     1.2300      0.4400        0.0775        8.1100         0.6300         6.5225           4.8950      -0.8775    -19.9850       -11.9900           0.1250   3312.5000    337.5000         -0.3425             -0.7075        111.3250   100.8225   94.0825         0.3200          -4.1800     61.1525       -0.8900         1.5375       1.3600             1.3725    1.8100    7.9100    3.8300   0.9000   0.7450     0.2800    0.3375    26.0600     9.5050      5.0850    -0.2744       0.6225       -6.8800      -14.6100     -12.3275      -4.8975    -10.5175    0.6700     1.1100       2.7568          1.9800          3.0000    0.3525   -4.7750   -9.8875    -17.0275    10.1125    -26.2825    12.8850         -41.8500        209.8050   48.7025    5200.0000             -0.2200   -0.6600    1.6200         0.8572      0.5400    598724.5000       46.5875     39.2300     38.9825     39.3250     38.6400     39.0550   -0.5700     0.0700   102.0000   4935.0000    -144.5950    -1.3700    -239.4725    -2.0050     -206.6575     -2.3750      4.6350      2.0300      3.5950      2.8838      7.7615    1.6915     7.2230     23.2243    3.6569      1.8849       3.0541     1.3695      1.2988       2.1417     1.2429     -0.8402      -1.1707     0.8530     -1.3785      -1.8714     0.7735      -0.5692       -0.8062      0.8977      -0.0957       -0.1378      0.9828\n",
      "50%    382.5000     14925.0000  767.5000     17880.0000    22.0500   16.2700   2.4150    2.7000    3.1050    19.3500    21.0400     22.4300      4.2500      2.3650        1.6650         29.2500     3.4200      0.9600        7.5150       12.0200         8.3750        10.0850           9.3850       4.8200      9.2700        11.4100           5.7300   8215.0000    791.1850          4.5650              0.9350        246.4100   220.6450   98.6400         1.1700          -0.7400     81.6150        0.6400         2.6300       2.2100             4.4400    5.0300   13.7850    8.0200   1.3500   1.1000     0.6300    0.7200    39.4500    16.7950     10.8350     1.0133       3.3050       -2.9700       -6.5250      -4.5050       5.7750     -2.5500    0.9700     2.5650       3.4722          2.6450          3.7800    2.3800   -1.4650   -3.1050    -10.7650    14.7250    -15.3000    18.9850         -22.6100        927.2350   52.5850   14700.0000              0.2900   -0.2000    1.9200         1.9700      0.6900   1405927.5000      100.1250     75.0700     74.8150     75.2850     74.1400     74.9500    0.0500     0.1800   359.5000   8630.0000      45.6900     0.4700     207.0500     2.1000      251.0750      2.3600      7.2800      4.5550     12.7600     10.5706    362.6381   33.3064    14.7472    148.8244   19.7116      4.1750       7.7652     1.9577      2.8479       5.7908     1.6910     -0.1564      -0.2241     0.9701     -0.6370      -0.9049     0.8903      -0.0770       -0.1105      0.9851       0.3723        0.5362      1.0716\n",
      "75%    753.7500     38232.5000 1158.7500     46585.0000    33.7000   23.7700   3.7200    5.4300    6.3325    46.1700    32.4550     44.8050      9.7600      3.8800        2.8375         56.1450     7.1350      2.0100       16.5125       19.1350        17.8500        15.5050          17.4625      14.2375     52.1600        45.4200          13.3450  20690.0000   2252.5000         13.7675              2.9375        610.4800   566.9625   99.6300         9.0800           0.0000     93.3500        2.6300         4.3350       3.2675            11.3850    9.6900   25.3275   14.4450   2.1800   1.6900     1.2500    1.4950    59.1600    25.0425     17.6000     2.4537       6.0200        0.4400        2.0600       4.3675      19.5750      5.4650    1.2000     5.6200       4.5623          3.5900          4.9200    5.0200    1.5675    3.8775     -5.0100    20.1200     -8.5725    32.7850         -12.1500       4572.5650   56.7375   41900.0000              0.9400    0.0700    2.3300         4.6450      0.9000   3486557.0000      194.6900    142.2800    142.1425    143.6475    140.6225    142.9900    0.7100     0.3700  1197.0000  19160.0000     234.0975     1.9350     772.9550     7.1500      986.0400      9.1950     10.4000      8.1250     16.2850     21.3975   3802.2689  339.7330    23.2481  15666.4842 1974.7915      6.8867      15.9696     3.1360      4.1166       9.3738     2.1453      0.6513       0.9695     1.1253      0.4432       0.6631     1.0841       0.5903        0.8656      1.1137       0.7949        1.1780      1.1558\n",
      "max   1160.0000   3143820.0000 1560.0000   3143820.0000 10979.1000  252.2900 345.3800 1701.3200  484.8100 38447.4100 72622.8900 451507.0400 232247.4400     22.2200       35.8500      15000.0000 61913.6400   7076.9000    61103.0500     3079.2000       315.1000       186.5100         841.5400    2110.3000  24561.9500     75461.5400        2285.2700 680990.0000 111000.0000       3400.0000            570.7600      24480.0000 23420.0000  100.0000        97.8600         441.7800    128.3900      660.0100        40.6900      33.7200           350.7000   82.2000 7616.6700 1288.1100 196.3500 112.8500    94.0000   99.6300   100.0000   123.2800    112.2400    27.7009      36.2500       45.7400       48.6200     162.6500    1005.1200     87.5800    4.2800 21474.4300      42.4435         27.5600         31.1900   28.4800   23.5400   81.3300      8.4400    82.6100      8.4400  1031.4300           5.4600     678703.5800   90.7000 2100000.0000             17.2800    9.5500    4.5000       315.0400      8.0200 271145157.0000   787061.4700 797140.0000 796000.0000 798000.0000 790777.8100 795760.0000   19.5700     1.5000 17725.0000 595010.0000    7350.0000    59.4400   35060.0000   199.8000    53130.0000    298.3800     99.9200     40.1800     50.0000  35264.3867   3802.2689  339.7330   144.7032  15666.4842 1974.7915     28.3725    2718.8815   364.3258     11.8193      46.0939     8.8756      5.4922      16.1706     3.1468      4.3487      11.3376     3.1173       3.5372        7.9978      3.0735       3.5207        7.0687      2.9785\n"
     ]
    }
   ],
   "source": [
    "df_data = pd.read_parquet(path_data)\n",
    "\n",
    "# # liquidity filter, Avg Volume, M > 0.75M\n",
    "# df_data = get_column_values_above_threshold(df_data, column_name='Avg Volume, M', threshold=0.75)\n",
    "\n",
    "# # Drop specified columns with NaNs in df_data\n",
    "# df_data = df_data.drop(['All-Time High %', 'All-Time Low %', 'Dividend %'], axis=1)\n",
    "\n",
    "# df_corr = pd.read_parquet(path_corr)\n",
    "# df_cov = pd.read_parquet(path_cov)\n",
    "\n",
    "# print(f'\\ndf_cov.shape: {df_cov.shape}')\n",
    "# print(df_cov.head())\n",
    "\n",
    "# print(f'\\ndf_corr.shape: {df_corr.shape}')\n",
    "# print(df_corr.head())\n",
    "\n",
    "print(f'\\ndf_data.shape: {df_data.shape}')\n",
    "print(df_data.head())\n",
    "print('\\n')\n",
    "print((df_data.describe()))"
   ]
  },
  {
   "cell_type": "code",
   "execution_count": 5,
   "metadata": {},
   "outputs": [],
   "source": [
    "import pandas as pd\n",
    "import os\n",
    "import datetime\n",
    "\n",
    "# --- Configuration ---\n",
    "STATS_HISTORY_FILE = 'market_daily_summary_stats_history.csv' # Where to store the history\n",
    "\n",
    "def append_daily_stats(df_daily_data, date_str, filename=STATS_HISTORY_FILE):\n",
    "    \"\"\"\n",
    "    Calculates descriptive stats for df_daily_data, flattens them,\n",
    "    and appends/updates them as a row in a historical CSV file.\n",
    "\n",
    "    Args:\n",
    "        df_daily_data (pd.DataFrame): DataFrame containing the raw data for ALL stocks for ONE specific day.\n",
    "        date_str (str): The date for this data in 'YYYY-MM-DD' format.\n",
    "        filename (str): The path to the CSV file storing the historical summary stats.\n",
    "    \"\"\"\n",
    "    print(f\"Processing stats for date: {date_str}\")\n",
    "\n",
    "    # 1. Calculate descriptive statistics for the input day's data\n",
    "    try:\n",
    "        daily_stats_raw = df_daily_data.describe()\n",
    "        print(\"Successfully calculated describe() stats.\")\n",
    "    except Exception as e:\n",
    "        print(f\"Error calculating describe() stats: {e}\")\n",
    "        return # Stop if calculation fails\n",
    "\n",
    "    # 2. Flatten the describe() output into a single row DataFrame\n",
    "    try:\n",
    "        # Unstack turns the stats (mean, std, etc.) into columns alongside the original metrics\n",
    "        stats_flat = daily_stats_raw.unstack().to_frame().T\n",
    "        # Create clearer column names like 'Metric_Statistic' (e.g., 'RSI_mean', 'SMA50 %_50%')\n",
    "        stats_flat.columns = ['_'.join(col).strip() for col in stats_flat.columns.values]\n",
    "        # Add the date to this row\n",
    "        stats_flat['Date'] = pd.to_datetime(date_str)\n",
    "        # Set the Date as the index for this single row\n",
    "        stats_flat = stats_flat.set_index('Date')\n",
    "        print(\"Successfully flattened stats into a single row.\")\n",
    "        # print(stats_flat) # Optional: print the flattened stats for verification\n",
    "\n",
    "    except Exception as e:\n",
    "        print(f\"Error flattening the stats DataFrame: {e}\")\n",
    "        return # Stop if flattening fails\n",
    "\n",
    "    # 3. Load existing history, append/update, and save\n",
    "    try:\n",
    "        df_summary_history = pd.DataFrame() # Initialize empty\n",
    "        if os.path.exists(filename):\n",
    "            print(f\"Loading existing history from: {filename}\")\n",
    "            df_summary_history = pd.read_csv(filename, index_col='Date', parse_dates=True)\n",
    "\n",
    "        # Check if the date already exists - update if it does, append if it doesn't\n",
    "        current_date = pd.to_datetime(date_str)\n",
    "        if current_date in df_summary_history.index:\n",
    "            print(f\"Updating existing entry for {date_str}\")\n",
    "            # Update existing row(s) - combines columns, replacing old values for this date\n",
    "            df_summary_history.update(stats_flat)\n",
    "            # Alternative: df_summary_history.loc[current_date] = stats_flat.iloc[0] # Direct overwrite\n",
    "        else:\n",
    "            print(f\"Appending new entry for {date_str}\")\n",
    "            df_summary_history = pd.concat([df_summary_history, stats_flat])\n",
    "\n",
    "        # Ensure the history is sorted by date\n",
    "        df_summary_history = df_summary_history.sort_index()\n",
    "\n",
    "        # Save the updated history back to CSV\n",
    "        df_summary_history.to_csv(filename, index=True) # index=True saves the Date index\n",
    "        print(f\"Successfully saved updated stats history to: {filename}\")\n",
    "\n",
    "    except Exception as e:\n",
    "        print(f\"Error loading/saving the stats history file '{filename}': {e}\")\n",
    "\n"
   ]
  },
  {
   "cell_type": "code",
   "execution_count": null,
   "metadata": {},
   "outputs": [
    {
     "name": "stdout",
     "output_type": "stream",
     "text": [
      "-------------------- Day 1 --------------------\n",
      "Processing stats for date: 2025-04-25\n",
      "Successfully calculated describe() stats.\n",
      "Successfully flattened stats into a single row.\n",
      "Loading existing history from: market_daily_summary_stats_history.csv\n",
      "Updating existing entry for 2025-04-25\n",
      "Successfully saved updated stats history to: market_daily_summary_stats_history.csv\n"
     ]
    }
   ],
   "source": [
    "print(\"-\" * 20, \"Day 1\", \"-\" * 20)\n",
    "append_daily_stats(df_data, date_str)"
   ]
  },
  {
   "cell_type": "code",
   "execution_count": 7,
   "metadata": {},
   "outputs": [
    {
     "name": "stdout",
     "output_type": "stream",
     "text": [
      "date_str: 2025-04-25\n",
      "            No.  MktCap AUM, M      Rank  Market Cap, M        P/E   Fwd P/E      PEG       P/S       P/B        P/C      P/FCF     Book/sh     Cash/sh  Dividend %  Dividend TTM  Payout Ratio %        EPS  EPS next Q  EPS this Y %  EPS next Y %  EPS past 5Y %  EPS next 5Y %  Sales past 5Y %  Sales Q/Q %   EPS Q/Q %  EPS YoY TTM %  Sales YoY TTM %    Sales, M   Income, M  EPS Surprise %  Revenue Surprise %  Outstanding, M   Float, M   Float %  Insider Own %  Insider Trans %  Inst Own %  Inst Trans %  Short Float %  Short Ratio  Short Interest, M     ROA %     ROE %     ROI %   Curr R  Quick R  LTDebt/Eq   Debt/Eq  Gross M %   Oper M %  Profit M %  Perf 3D %  Perf Week %  Perf Month %  Perf Quart %  Perf Half %  Perf Year %  Perf YTD %      Beta        ATR  ATR/Price %  Volatility W %  Volatility M %   SMA20 %   SMA50 %  SMA200 %  50D High %  50D Low %  52W High %  52W Low %  All-Time High %  All-Time Low %       RSI    Employees  Change from Open %     Gap %     Recom  Avg Volume, M  Rel Volume         Volume  Target Price  Prev Close        Open        High         Low       Price  Change %  Expense %   Holdings      AUM, M  Flows 1M, M  Flows% 1M  Flows 3M, M  Flows% 3M  Flows YTD, M  Flows% YTD  Return% 1Y  Return% 3Y  Return% 5Y   Sharpe 3d  Sortino 3d  Omega 3d  Sharpe 5d  Sortino 5d  Omega 5d  Sharpe 10d  Sortino 10d  Omega 10d  Sharpe 15d  Sortino 15d  Omega 15d  Sharpe 30d  Sortino 30d  Omega 30d  Sharpe 60d  Sortino 60d  Omega 60d  Sharpe 120d  Sortino 120d  Omega 120d  Sharpe 250d  Sortino 250d  Omega 250d\n",
      "count 1518.0000      1518.0000 1518.0000      1123.0000  1007.0000 1084.0000 912.0000 1112.0000 1070.0000   997.0000   966.0000   1119.0000    999.0000   1198.0000     1170.0000        995.0000  1116.0000   1095.0000     1108.0000     1107.0000       958.0000      1050.0000        1114.0000    1106.0000   1110.0000      1113.0000        1111.0000   1118.0000   1116.0000       1108.0000           1102.0000       1123.0000  1116.0000 1116.0000      1113.0000        1057.0000   1120.0000     1104.0000      1116.0000    1518.0000          1518.0000 1113.0000 1070.0000 1115.0000 995.0000 883.0000  1068.0000 1068.0000   985.0000  1110.0000   1110.0000  1518.0000    1518.0000     1518.0000     1518.0000    1518.0000    1518.0000   1518.0000 1516.0000  1518.0000    1518.0000       1518.0000       1518.0000 1518.0000 1518.0000 1518.0000   1518.0000  1518.0000   1518.0000  1518.0000        1517.0000       1516.0000 1518.0000    1075.0000           1518.0000 1518.0000 1111.0000      1518.0000   1518.0000      1518.0000     1114.0000   1518.0000   1518.0000   1518.0000   1518.0000   1518.0000 1518.0000   395.0000   394.0000    395.0000     386.0000   395.0000     392.0000   395.0000      392.0000    395.0000    395.0000    372.0000    339.0000   1518.0000   1518.0000 1518.0000  1518.0000   1518.0000 1518.0000   1518.0000    1518.0000  1518.0000   1518.0000    1518.0000  1518.0000   1518.0000    1518.0000  1518.0000   1518.0000    1518.0000  1518.0000    1518.0000     1518.0000   1518.0000    1518.0000     1518.0000   1518.0000\n",
      "mean   474.1713     51265.2635  771.4018     61098.1656    62.7192   20.5310   4.8573    6.5516    7.7167   131.0674   111.4939    439.6541    242.1769      2.8557        2.1599         69.2204    61.6226      8.1310      113.2496       22.5642        10.8523        13.8750          19.9535       9.8884     92.4753       148.7611          10.9069  24639.3145   2654.4059          8.3928              2.9182        716.3384   659.2166   92.9285         9.2421          -3.5872     72.0967        2.9828         3.5864       2.5618            11.0123    5.8480   36.1451   10.5650   2.2250   1.7611     1.3407    1.6084    41.8354    10.0430      3.2236     1.1767       3.5801       -3.0171       -6.0008      -2.7225      11.5290     -1.8747    0.9771    19.2230       3.7054          2.8452          4.0161    2.7855   -1.4534   -2.5884    -12.3615    16.2232    -18.3824    30.2646         -29.2736      10988.0734   52.6925   42887.9191              0.3776   -0.3713    2.0026         5.3781      0.8107   4486897.3729      880.6862    658.9940    657.7885    660.5698    652.8014    658.0751    0.0076     0.2535  1169.2817  23309.9494      56.6578     0.2296     556.5838     4.3781      701.0457      5.9509      8.2026      5.1926     10.8077     63.6581   1840.1975  164.9595    16.6312   6177.3462  779.0987      4.5051      22.3973     4.1002      2.5973       6.3257     1.8013     -0.0478       0.1147     1.0217     -0.4739      -0.5395     0.9427       0.0040        0.0865      1.0142       0.3679        0.6009      1.0812\n",
      "std    334.8770    181498.6529  449.7092    207218.1417   440.8449   18.0664  18.2715   52.2466   25.3634  1345.1004  2337.2689  13496.5460   7347.7479      2.2487        2.1380        507.0021  1853.2508    213.8505     1919.9378       99.0451        30.2490        17.5275          58.5254      67.3492   1452.8049      2551.6310          78.1603  54983.2498   8799.5532        203.2902             28.9167       1633.1175  1527.5874   14.1560        17.4523          18.8924     29.0217       25.4466         3.7071       2.3228            21.9477    9.7907  312.7352   41.1236   7.4493   4.3846     4.2441    5.0328    49.7482   172.0214    207.4869     3.5984       5.0488        7.0631       14.0687      18.5179      47.2031     15.1350    0.5299   551.1482       1.9677          1.5991          2.0200    4.4307    6.0702   12.8172      9.6133    10.1435     13.5962    51.7543          22.2164      45037.5078    6.7969  105694.5565              1.6465    1.3731    0.5276        14.3961      0.5659  15081711.7339    23578.8232  20458.2961  20429.0397  20480.3589  20295.0053  20422.8672    2.2322     0.2324  2237.6878  59126.9139    1096.7816     5.7627    2504.0924    17.6953     3422.5907     21.9608     10.5625      5.6946      8.4266   1279.5821   1871.2512  166.6828    15.3151   7569.8949  953.8502      4.4494     147.0422    19.6644      2.4276       6.2586     0.8394      1.3828       2.1681     0.2811      1.3516       1.9573     0.2532       0.9253        1.3714      0.1832       0.7625        1.1902      0.1627\n",
      "min      1.0000      3050.0000    1.0000      5490.0000     2.9100    1.6200   0.1200    0.0600    0.3200     0.5000     0.3900   -266.1800      0.0000      0.0200        0.0400          0.0000   -65.0400     -3.8000     -687.4800     -114.7100      -415.2800       -28.8200         -39.7700    -125.4100 -29750.0000     -3144.6300        -100.0000      0.0000 -19196.0000      -3215.1000           -100.0000          0.5500     0.5400    2.1700         0.0000         -95.1300      0.2100      -42.6800         0.0100       0.0200             0.0000  -73.1100 -890.7500 -152.6500   0.0200   0.0200     0.0000    0.0000 -1333.6800 -5494.8600  -6792.2800   -27.7079     -34.4100      -34.8500      -62.2100     -64.4300     -85.8500    -62.0400   -1.1300     0.0200       0.0272          0.0100          0.0100  -26.7300  -33.9400  -58.9000    -78.2900   -14.5600    -95.5600   -14.5600         -99.9900          0.5400   26.5500      19.0000            -31.9900  -25.0000    1.0000         0.0015      0.2000       325.0000        2.8900      2.3800      2.3800      2.4000      2.3700      2.3800  -36.0600     0.0200     1.0000   3050.0000  -11430.0000   -27.8400   -5540.0000   -38.5300   -16650.0000    -37.2900    -63.5500    -34.0600    -37.5100 -13302.4408    -15.8745    0.0000   -46.6264    -15.2264    0.0000     -8.9960      -9.0310     0.0243     -7.3079      -7.1529     0.2624     -5.4170      -5.6062     0.3744     -4.4146      -5.3006     0.4535      -2.8916       -3.3990      0.5679      -2.0378       -2.5179      0.6927\n",
      "25%    191.0000      7860.0000  381.2500      9495.0000    13.9300   10.7650   1.4375    1.3300    1.7500     8.8700    12.3425     10.0800      1.6500      1.2400        0.8500          4.3200     1.2300      0.4400        0.0775        8.1100         0.6300         6.5225           4.8950      -0.8775    -19.9850       -11.9900           0.1250   3312.5000    337.5000         -0.3425             -0.7075        111.3250   100.8225   94.0825         0.3200          -4.1800     61.1525       -0.8900         1.5375       1.3600             1.3725    1.8100    7.9100    3.8300   0.9000   0.7450     0.2800    0.3375    26.0600     9.5050      5.0850    -0.2744       0.6225       -6.8800      -14.6100     -12.3275      -4.8975    -10.5175    0.6700     1.1100       2.7568          1.9800          3.0000    0.3525   -4.7750   -9.8875    -17.0275    10.1125    -26.2825    12.8850         -41.8500        209.8050   48.7025    5200.0000             -0.2200   -0.6600    1.6200         0.8572      0.5400    598724.5000       46.5875     39.2300     38.9825     39.3250     38.6400     39.0550   -0.5700     0.0700   102.0000   4935.0000    -144.5950    -1.3700    -239.4725    -2.0050     -206.6575     -2.3750      4.6350      2.0300      3.5950      2.8838      7.7615    1.6915     7.2230     23.2243    3.6569      1.8849       3.0541     1.3695      1.2988       2.1417     1.2429     -0.8402      -1.1707     0.8530     -1.3785      -1.8714     0.7735      -0.5692       -0.8062      0.8977      -0.0957       -0.1378      0.9828\n",
      "50%    382.5000     14925.0000  767.5000     17880.0000    22.0500   16.2700   2.4150    2.7000    3.1050    19.3500    21.0400     22.4300      4.2500      2.3650        1.6650         29.2500     3.4200      0.9600        7.5150       12.0200         8.3750        10.0850           9.3850       4.8200      9.2700        11.4100           5.7300   8215.0000    791.1850          4.5650              0.9350        246.4100   220.6450   98.6400         1.1700          -0.7400     81.6150        0.6400         2.6300       2.2100             4.4400    5.0300   13.7850    8.0200   1.3500   1.1000     0.6300    0.7200    39.4500    16.7950     10.8350     1.0133       3.3050       -2.9700       -6.5250      -4.5050       5.7750     -2.5500    0.9700     2.5650       3.4722          2.6450          3.7800    2.3800   -1.4650   -3.1050    -10.7650    14.7250    -15.3000    18.9850         -22.6100        927.2350   52.5850   14700.0000              0.2900   -0.2000    1.9200         1.9700      0.6900   1405927.5000      100.1250     75.0700     74.8150     75.2850     74.1400     74.9500    0.0500     0.1800   359.5000   8630.0000      45.6900     0.4700     207.0500     2.1000      251.0750      2.3600      7.2800      4.5550     12.7600     10.5706    362.6381   33.3064    14.7472    148.8244   19.7116      4.1750       7.7652     1.9577      2.8479       5.7908     1.6910     -0.1564      -0.2241     0.9701     -0.6370      -0.9049     0.8903      -0.0770       -0.1105      0.9851       0.3723        0.5362      1.0716\n",
      "75%    753.7500     38232.5000 1158.7500     46585.0000    33.7000   23.7700   3.7200    5.4300    6.3325    46.1700    32.4550     44.8050      9.7600      3.8800        2.8375         56.1450     7.1350      2.0100       16.5125       19.1350        17.8500        15.5050          17.4625      14.2375     52.1600        45.4200          13.3450  20690.0000   2252.5000         13.7675              2.9375        610.4800   566.9625   99.6300         9.0800           0.0000     93.3500        2.6300         4.3350       3.2675            11.3850    9.6900   25.3275   14.4450   2.1800   1.6900     1.2500    1.4950    59.1600    25.0425     17.6000     2.4537       6.0200        0.4400        2.0600       4.3675      19.5750      5.4650    1.2000     5.6200       4.5623          3.5900          4.9200    5.0200    1.5675    3.8775     -5.0100    20.1200     -8.5725    32.7850         -12.1500       4572.5650   56.7375   41900.0000              0.9400    0.0700    2.3300         4.6450      0.9000   3486557.0000      194.6900    142.2800    142.1425    143.6475    140.6225    142.9900    0.7100     0.3700  1197.0000  19160.0000     234.0975     1.9350     772.9550     7.1500      986.0400      9.1950     10.4000      8.1250     16.2850     21.3975   3802.2689  339.7330    23.2481  15666.4842 1974.7915      6.8867      15.9696     3.1360      4.1166       9.3738     2.1453      0.6513       0.9695     1.1253      0.4432       0.6631     1.0841       0.5903        0.8656      1.1137       0.7949        1.1780      1.1558\n",
      "max   1160.0000   3143820.0000 1560.0000   3143820.0000 10979.1000  252.2900 345.3800 1701.3200  484.8100 38447.4100 72622.8900 451507.0400 232247.4400     22.2200       35.8500      15000.0000 61913.6400   7076.9000    61103.0500     3079.2000       315.1000       186.5100         841.5400    2110.3000  24561.9500     75461.5400        2285.2700 680990.0000 111000.0000       3400.0000            570.7600      24480.0000 23420.0000  100.0000        97.8600         441.7800    128.3900      660.0100        40.6900      33.7200           350.7000   82.2000 7616.6700 1288.1100 196.3500 112.8500    94.0000   99.6300   100.0000   123.2800    112.2400    27.7009      36.2500       45.7400       48.6200     162.6500    1005.1200     87.5800    4.2800 21474.4300      42.4435         27.5600         31.1900   28.4800   23.5400   81.3300      8.4400    82.6100      8.4400  1031.4300           5.4600     678703.5800   90.7000 2100000.0000             17.2800    9.5500    4.5000       315.0400      8.0200 271145157.0000   787061.4700 797140.0000 796000.0000 798000.0000 790777.8100 795760.0000   19.5700     1.5000 17725.0000 595010.0000    7350.0000    59.4400   35060.0000   199.8000    53130.0000    298.3800     99.9200     40.1800     50.0000  35264.3867   3802.2689  339.7330   144.7032  15666.4842 1974.7915     28.3725    2718.8815   364.3258     11.8193      46.0939     8.8756      5.4922      16.1706     3.1468      4.3487      11.3376     3.1173       3.5372        7.9978      3.0735       3.5207        7.0687      2.9785\n"
     ]
    }
   ],
   "source": [
    "print(f'date_str: {date_str}')\n",
    "print(df_data.describe())"
   ]
  },
  {
   "cell_type": "code",
   "execution_count": 8,
   "metadata": {},
   "outputs": [
    {
     "name": "stdout",
     "output_type": "stream",
     "text": [
      "date_str: 2025-04-25\n",
      "        No.                Company               Index                  Sector                        Industry Country Exchange                                               Info  MktCap AUM, M  Rank  Market Cap, M     P/E  Fwd P/E    PEG     P/S     P/B     P/C   P/FCF  Book/sh  Cash/sh  Dividend %  Dividend TTM Dividend Ex Date  Payout Ratio %     EPS  EPS next Q  EPS this Y %  EPS next Y %  EPS past 5Y %  EPS next 5Y %  Sales past 5Y %  Sales Q/Q %  EPS Q/Q %  EPS YoY TTM %  Sales YoY TTM %    Sales, M   Income, M  EPS Surprise %  Revenue Surprise %  Outstanding, M   Float, M  Float %  Insider Own %  Insider Trans %  Inst Own %  Inst Trans %  Short Float %  Short Ratio  Short Interest, M   ROA %    ROE %   ROI %  Curr R  Quick R  LTDebt/Eq  Debt/Eq  Gross M %  Oper M %  Profit M %  Perf 3D %  Perf Week %  Perf Month %  Perf Quart %  Perf Half %  Perf Year %  Perf YTD %   Beta     ATR  ATR/Price %  Volatility W %  Volatility M %  SMA20 %  SMA50 %  SMA200 %  50D High %  50D Low %  52W High %  52W Low %        52W Range  All-Time High %  All-Time Low %     RSI  Earnings    IPO Date Optionable Shortable    Employees  Change from Open %   Gap %  Recom  Avg Volume, M  Rel Volume     Volume  Target Price  Prev Close     Open     High      Low    Price  Change % Single Category Asset Type  Expense %  Holdings  AUM, M  Flows 1M, M  Flows% 1M  Flows 3M, M  Flows% 3M  Flows YTD, M  Flows% YTD  Return% 1Y  Return% 3Y  Return% 5Y Tags  Sharpe 3d  Sortino 3d  Omega 3d  Sharpe 5d  Sortino 5d  Omega 5d  Sharpe 10d  Sortino 10d  Omega 10d  Sharpe 15d  Sortino 15d  Omega 15d  Sharpe 30d  Sortino 30d  Omega 30d  Sharpe 60d  Sortino 60d  Omega 60d  Sharpe 120d  Sortino 120d  Omega 120d  Sharpe 250d  Sortino 250d  Omega 250d\n",
      "Ticker                                                                                                                                                                                                                                                                                                                                                                                                                                                                                                                                                                                                                                                                                                                                                                                                                                                                                                                                                                                                                                                                                                                                                                                                                                                                                                                                                                                                                                                                                                                                                                                                                                                                                                                                                                                                  \n",
      "AAPL      1              Apple Inc  DJIA, NDX, S&P 500              Technology            Consumer Electronics     USA     NASD                   Technology, Consumer Electronics   3143820.0000     1   3143820.0000 33.2700  26.3100 3.7500  7.9400 47.1500 58.4600 31.9800   4.4400   3.5800      0.4900        1.0000        2/10/2025         16.1100  6.2900      1.6100        7.5800        9.5300        15.4100         8.8800           9.1800       3.9500    10.1300        -2.1400           2.6100 395760.0000  96150.0000          2.2300              0.0300      15040.0000 15010.0000  99.7800         0.0900          -3.5200     63.8600        1.4500         0.7500       1.8500           113.1300 27.5700 136.5200 63.8000  0.9200   0.8800     1.2600   1.4500    46.5200   31.7600     24.3000     0.0101       6.2400       -5.5300       -6.0600     -11.2700      25.3900    -16.4300 1.2800  9.2600       4.4247          2.4300          4.9300   3.8300  -4.4200   -8.0600    -16.2900    23.6800    -19.5400    24.4600  168.15 - 260.10         -19.5400     328873.8000 51.9500  May 01/a  12/12/1980        Yes       Yes  164000.0000              1.4900 -1.0400 2.0800        61.1600      0.6200   38132498      238.5900    208.3700 206.2000 209.7500 206.2000 209.2800    0.4400                                   NaN       NaN     NaN          NaN        NaN          NaN        NaN           NaN         NaN         NaN         NaN         NaN    -    17.9453   3802.2689  339.7330    25.7312  15666.4842 1974.7915      4.2142       6.7193     1.9157      2.6387       5.8318     1.6297      0.0084       0.0130     1.0016     -0.8623      -1.2467     0.8439      -0.3055       -0.4383      0.9399       0.7082        1.0538      1.1490\n",
      "MSFT      2  Microsoft Corporation  DJIA, NDX, S&P 500              Technology       Software - Infrastructure     USA     NASD              Technology, Software - Infrastructure   2913010.0000     2   2913010.0000 31.5600  26.3700 2.2200 11.1300  9.6200 40.7100 41.6000  40.7100   9.6300      0.8300        3.1600        5/15/2025         25.4200 12.4200      3.2200       11.4500       12.9900        18.4500        14.2100          14.4000      12.2700    10.2300        12.3800          15.0400 261800.0000  92750.0000          3.5400              1.1100       7430.0000  7320.0000  98.5200         1.4700          -0.0400     73.3000        1.1600         0.7000       2.0200            51.2500 18.4700  34.2900 23.6000  1.3500   1.3400     0.3000   0.3400    69.4100   44.9600     35.4300     1.2508       6.5400        0.4800      -11.7600      -8.3400      -3.8600     -7.0300 0.9800 12.5700       3.2079          2.4300          3.5200   4.2600   1.1900   -5.6600     -6.5500    13.6500    -16.3300    13.6500  344.79 - 468.35         -16.3300     491688.0200 55.9600  Apr 30/a   3/13/1986        Yes       Yes  228000.0000              1.2500 -0.0800 1.3400        25.3500      0.7400   18803717      482.9800    387.3000 387.0000 392.1600 384.6000 391.8500    1.1700                                   NaN       NaN     NaN          NaN        NaN          NaN        NaN           NaN         NaN         NaN         NaN         NaN    -    22.6691   3802.2689  339.7330    37.1566  15666.4842 1974.7915      0.7217       1.0979     1.1202      3.0281       7.3408     1.7739      0.2752       0.5049     1.0538     -0.6847      -1.1274     0.8787      -0.2336       -0.3513      0.9575      -0.1539       -0.2152      0.9724\n",
      "NVDA      3            NVIDIA Corp  DJIA, NDX, S&P 500              Technology                  Semiconductors     USA     NASD                         Technology, Semiconductors   2708640.0000     3   2708640.0000 37.7600  19.6800 1.2700 20.7600 34.2500 62.6900 44.5100   3.2400   1.7700      0.0400        0.0400        3/12/2025          1.1600  2.9400      0.8900       48.0600       27.3900        91.8300        29.6400          70.8800      77.9400    81.2300       146.2600         114.2000 130500.0000  72880.0000          4.9700              3.2300      24480.0000 23420.0000  95.7000         4.0000          -0.1300     66.4500        1.8000         1.1200       0.8300           262.9600 82.2000 119.1800 81.6000  4.4400   3.8800     0.1300   0.1300    74.9900   62.4200     55.8500     2.7391       9.3800       -2.4200      -22.1600     -22.6900      34.6800    -17.3400 2.1100  6.8200       6.1436          3.8300          6.4600   5.4100  -3.6700  -11.5900    -22.6100    28.1600    -27.5100    41.9100   78.22 - 153.13         -27.5100     332929.9900 52.4000  Feb 26/a   1/22/1999        Yes       Yes   36000.0000              3.8900  0.3900 1.4000       315.0400      0.7900  249869413      161.5900    106.4300 106.8500 111.9200 105.7300 111.0100    4.3000                                   NaN       NaN     NaN          NaN        NaN          NaN        NaN           NaN         NaN         NaN         NaN         NaN    -   130.0216   3802.2689  339.7330    55.5044  15666.4842 1974.7915      0.2555       0.3515     1.0400      3.3570       7.4076     1.8516     -0.6600      -1.0692     0.8867     -0.4080      -0.5982     0.9327      -0.3379       -0.4657      0.9425       0.6302        0.9105      1.1133\n",
      "AMZN      4         Amazon.com Inc  DJIA, NDX, S&P 500       Consumer Cyclical                 Internet Retail     USA     NASD                 Consumer Cyclical, Internet Retail   2005630.0000     4   2005630.0000 34.2200  25.3500 1.8300  3.1400  7.0000 19.1500 61.0000  27.0000   9.8700         NaN           NaN                -          0.0000  5.5200      1.3700       12.6300       19.6900        36.8900        18.7100          18.3100      10.4900    85.4800        91.6100          10.9900 637960.0000  59250.0000         25.1400              0.2400      10590.0000  9490.0000  89.5900        10.5800          -1.4600     64.4700        2.7700         0.7500       1.4300            71.1900 10.2800  24.2900 14.2100  1.0600   0.8700     0.4600   0.5200    48.8500   10.8700      9.2900     4.3511       9.4900       -6.0400      -19.5300      -0.3700       5.2600    -13.8600 1.3000  9.1200       4.8257          3.4100          5.2200   4.1600  -3.8400   -5.1300    -18.2500    17.1100    -22.0700    24.6600  151.61 - 242.52         -22.0700     287884.7800 52.1400  May 01/a   5/15/1997        Yes       Yes 1556000.0000              0.8400  0.4700 1.2900        49.7200      0.7300   36313537      248.7100    186.5400 187.4200 189.9400 185.4900 188.9900    1.3100                                   NaN       NaN     NaN          NaN        NaN          NaN        NaN           NaN         NaN         NaN         NaN         NaN    -    25.9691   3802.2689  339.7330    38.7013  15666.4842 1974.7915      1.4725       2.6137     1.2405      2.8749       6.1657     1.6191     -0.4488      -0.6738     0.9256     -1.8235      -2.5154     0.7302       0.1666        0.2447      1.0289       0.2020        0.2853      1.0359\n",
      "GOOGL     6           Alphabet Inc        NDX, S&P 500  Communication Services  Internet Content & Information     USA     NASD  Communication Services, Internet Content & Inf...   1984030.0000     5   1984030.0000 18.0600  15.9300 1.3400  5.5200  5.7000 20.8100 26.5000  28.4100   7.7800      0.3100        0.8000        3/10/2025          7.4600  8.9700      2.1600       17.1700        7.9400        26.7600        13.4300          17.3000      11.8100    48.7700        37.7300          13.0200 359310.0000 111000.0000         40.0200              1.1500       5830.0000  5820.0000  99.8400        52.2800          -0.0100     38.3800        1.0800         1.1800       1.9400            68.6700 25.1500  34.7900 30.0200  1.7700   1.7700     0.0700   0.0800    58.5400   32.6000     30.8900    -6.4204       7.1400       -1.8800      -19.1000      -1.9300       2.3400    -14.4400 1.0000  5.9300       3.6614          2.4800          3.8500   5.3400  -1.3600   -6.0000    -13.1100    15.2500    -21.7800    15.2500  140.53 - 207.05         -21.7800       6644.6100 54.3100  Apr 24/a   8/19/2004        Yes       Yes  183323.0000             -1.8400  3.5900 1.4600        35.4400      1.5800   55916858      202.9500    159.2800 165.0000 166.1000 161.0400 161.9600    1.6800                                   NaN       NaN     NaN          NaN        NaN          NaN        NaN           NaN         NaN         NaN         NaN         NaN    -    55.3908   3802.2689  339.7330    84.3988  15666.4842 1974.7915      2.5237       4.3046     1.4128      3.7731       8.6442     1.8894     -0.2660      -0.4179     0.9575     -2.1387      -2.8280     0.7019      -0.2333       -0.3346      0.9618      -0.1661       -0.2274      0.9722\n"
     ]
    }
   ],
   "source": [
    "print(f'date_str: {date_str}')\n",
    "print(df_data.head())"
   ]
  }
 ],
 "metadata": {
  "kernelspec": {
   "display_name": ".venv",
   "language": "python",
   "name": "python3"
  },
  "language_info": {
   "codemirror_mode": {
    "name": "ipython",
    "version": 3
   },
   "file_extension": ".py",
   "mimetype": "text/x-python",
   "name": "python",
   "nbconvert_exporter": "python",
   "pygments_lexer": "ipython3",
   "version": "3.11.9"
  }
 },
 "nbformat": 4,
 "nbformat_minor": 2
}
