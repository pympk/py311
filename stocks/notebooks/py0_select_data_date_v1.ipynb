{
 "cells": [
  {
   "cell_type": "code",
   "execution_count": null,
   "metadata": {},
   "outputs": [],
   "source": [
    "\n",
    "\n"
   ]
  },
  {
   "cell_type": "code",
   "execution_count": 57,
   "metadata": {},
   "outputs": [
    {
     "name": "stdout",
     "output_type": "stream",
     "text": [
      "The autoreload extension is already loaded. To reload it, use:\n",
      "  %reload_ext autoreload\n",
      "Python will look in these locations:\n",
      "['C:\\\\Users\\\\ping\\\\.pyenv\\\\pyenv-win\\\\versions\\\\3.11.9\\\\python311.zip', 'C:\\\\Users\\\\ping\\\\.pyenv\\\\pyenv-win\\\\versions\\\\3.11.9\\\\DLLs', 'C:\\\\Users\\\\ping\\\\.pyenv\\\\pyenv-win\\\\versions\\\\3.11.9\\\\Lib', 'C:\\\\Users\\\\ping\\\\.pyenv\\\\pyenv-win\\\\versions\\\\3.11.9', 'c:\\\\Users\\\\ping\\\\Files_win10\\\\python\\\\py311\\\\.venv', '', 'c:\\\\Users\\\\ping\\\\Files_win10\\\\python\\\\py311\\\\.venv\\\\Lib\\\\site-packages', 'c:\\\\Users\\\\ping\\\\Files_win10\\\\python\\\\py311\\\\.venv\\\\Lib\\\\site-packages\\\\win32', 'c:\\\\Users\\\\ping\\\\Files_win10\\\\python\\\\py311\\\\.venv\\\\Lib\\\\site-packages\\\\win32\\\\lib', 'c:\\\\Users\\\\ping\\\\Files_win10\\\\python\\\\py311\\\\.venv\\\\Lib\\\\site-packages\\\\Pythonwin', 'c:\\\\Users\\\\ping\\\\Files_win10\\\\python\\\\py311\\\\stocks\\\\src', 'c:\\\\Users\\\\ping\\\\Files_win10\\\\python\\\\py311\\\\.venv\\\\Lib\\\\site-packages\\\\setuptools\\\\_vendor', 'c:\\\\Users\\\\ping\\\\Files_win10\\\\python\\\\py311\\\\stocks\\\\src', 'c:\\\\Users\\\\ping\\\\Files_win10\\\\python\\\\py311\\\\stocks\\\\src', 'c:\\\\Users\\\\ping\\\\Files_win10\\\\python\\\\py311\\\\stocks\\\\src', 'c:\\\\Users\\\\ping\\\\Files_win10\\\\python\\\\py311\\\\stocks\\\\src', 'c:\\\\Users\\\\ping\\\\Files_win10\\\\python\\\\py311\\\\stocks\\\\src', 'c:\\\\Users\\\\ping\\\\Files_win10\\\\python\\\\py311\\\\stocks\\\\src', 'c:\\\\Users\\\\ping\\\\Files_win10\\\\python\\\\py311\\\\stocks\\\\src', 'c:\\\\Users\\\\ping\\\\Files_win10\\\\python\\\\py311\\\\stocks\\\\src', 'c:\\\\Users\\\\ping\\\\Files_win10\\\\python\\\\py311\\\\stocks\\\\src']\n"
     ]
    },
    {
     "data": {
      "text/markdown": [
       "<span style='color:#00ffff;font-weight:500'>[Downloads] Scanned latest 60 files • Found 9 'df_OHLCV_' matches</span>"
      ],
      "text/plain": [
       "<IPython.core.display.Markdown object>"
      ]
     },
     "metadata": {},
     "output_type": "display_data"
    },
    {
     "data": {
      "text/markdown": [
       "**Available ''df_OHLCV_' and containing '.parquet'' files:**"
      ],
      "text/plain": [
       "<IPython.core.display.Markdown object>"
      ]
     },
     "metadata": {},
     "output_type": "display_data"
    },
    {
     "data": {
      "text/markdown": [
       "- (1) `[DOWNLOADS]` `df_OHLCV_2025-04-11.parquet` <span style='color:#00ffff'>(13.13 MB, 2025-04-11 22:26)</span>"
      ],
      "text/plain": [
       "<IPython.core.display.Markdown object>"
      ]
     },
     "metadata": {},
     "output_type": "display_data"
    },
    {
     "data": {
      "text/markdown": [
       "- (2) `[DOWNLOADS]` `df_OHLCV_2025-04-10.parquet` <span style='color:#00ffff'>(13.16 MB, 2025-04-10 22:21)</span>"
      ],
      "text/plain": [
       "<IPython.core.display.Markdown object>"
      ]
     },
     "metadata": {},
     "output_type": "display_data"
    },
    {
     "data": {
      "text/markdown": [
       "- (3) `[DOWNLOADS]` `df_OHLCV_2025-04-09.parquet` <span style='color:#00ffff'>(13.16 MB, 2025-04-10 00:58)</span>"
      ],
      "text/plain": [
       "<IPython.core.display.Markdown object>"
      ]
     },
     "metadata": {},
     "output_type": "display_data"
    },
    {
     "data": {
      "text/markdown": [
       "- (4) `[DOWNLOADS]` `df_OHLCV_2025-04-08.parquet` <span style='color:#00ffff'>(13.15 MB, 2025-04-08 22:12)</span>"
      ],
      "text/plain": [
       "<IPython.core.display.Markdown object>"
      ]
     },
     "metadata": {},
     "output_type": "display_data"
    },
    {
     "data": {
      "text/markdown": [
       "- (5) `[DOWNLOADS]` `df_OHLCV_2025-04-07.parquet` <span style='color:#00ffff'>(13.13 MB, 2025-04-07 22:45)</span>"
      ],
      "text/plain": [
       "<IPython.core.display.Markdown object>"
      ]
     },
     "metadata": {},
     "output_type": "display_data"
    },
    {
     "data": {
      "text/markdown": [
       "- (6) `[DOWNLOADS]` `df_OHLCV_2025-04-04.parquet` <span style='color:#00ffff'>(14.63 MB, 2025-04-04 22:49)</span>"
      ],
      "text/plain": [
       "<IPython.core.display.Markdown object>"
      ]
     },
     "metadata": {},
     "output_type": "display_data"
    },
    {
     "data": {
      "text/markdown": [
       "- (7) `[DOWNLOADS]` `df_OHLCV_2025-04-03.parquet` <span style='color:#00ffff'>(14.61 MB, 2025-04-03 22:14)</span>"
      ],
      "text/plain": [
       "<IPython.core.display.Markdown object>"
      ]
     },
     "metadata": {},
     "output_type": "display_data"
    },
    {
     "data": {
      "text/markdown": [
       "- (8) `[DOWNLOADS]` `df_OHLCV_2025-04-02.parquet` <span style='color:#00ffff'>(14.71 MB, 2025-04-02 22:34)</span>"
      ],
      "text/plain": [
       "<IPython.core.display.Markdown object>"
      ]
     },
     "metadata": {},
     "output_type": "display_data"
    },
    {
     "data": {
      "text/markdown": [
       "- (9) `[DOWNLOADS]` `df_OHLCV_2025-04-01.parquet` <span style='color:#00ffff'>(14.69 MB, 2025-04-01 16:25)</span>"
      ],
      "text/plain": [
       "<IPython.core.display.Markdown object>"
      ]
     },
     "metadata": {},
     "output_type": "display_data"
    },
    {
     "name": "stdout",
     "output_type": "stream",
     "text": [
      "\n",
      "Input a number to select file (1-9)\n"
     ]
    },
    {
     "data": {
      "text/markdown": [
       "\n",
       "    **Selected paths:**\n",
       "    - Source: `C:\\Users\\ping\\Downloads\\df_OHLCV_2025-04-11.parquet`\n",
       "    - Destination: `c:\\Users\\ping\\Files_win10\\python\\py311\\stocks\\df_OHLCV_2025-04-11_clean.parquet`\n",
       "    "
      ],
      "text/plain": [
       "<IPython.core.display.Markdown object>"
      ]
     },
     "metadata": {},
     "output_type": "display_data"
    }
   ],
   "source": [
    "import sys\n",
    "from pathlib import Path\n",
    "import pandas as pd\n",
    "import os\n",
    "from IPython.display import display, Markdown  # Assuming you use these for display\n",
    "\n",
    "\n",
    "# Set pandas display options to show more columns and rows\n",
    "pd.set_option('display.max_columns', None)  # Show all columns\n",
    "# pd.set_option('display.max_rows', 10)       # Limit to 10 rows for readability\n",
    "pd.set_option('display.width', None)        # Let the display adjust to the window\n",
    "\n",
    "# 2. Set the display width (optional but \n",
    "# often helpful)\n",
    "#    'None' tries to detect terminal width. \n",
    "#    A large number (e.g., 1000) ensures no wrapping unless absolutely necessary.\n",
    "pd.set_option('display.width', 1000) \n",
    "\n",
    "\n",
    "# Notebook cell\n",
    "%load_ext autoreload\n",
    "%autoreload 2\n",
    "\n",
    "# Get root directory (assuming notebook is in root/notebooks/)\n",
    "NOTEBOOK_DIR = Path.cwd()\n",
    "ROOT_DIR = NOTEBOOK_DIR.parent if NOTEBOOK_DIR.name == 'notebooks' else NOTEBOOK_DIR\n",
    "\n",
    "# Add src directory to Python path\n",
    "sys.path.append(str(ROOT_DIR / 'src'))\n",
    "\n",
    "# Verify path\n",
    "print(f\"Python will look in these locations:\\n{sys.path}\")\n",
    "\n",
    "\n",
    "# --- Execute the processor ---\n",
    "import utils\n",
    "\n",
    "\n",
    "SOURCE_PATH, _ = utils.main_processor(\n",
    "    data_dir='..\\ ',  # search project ..\\data    \n",
    "    downloads_dir=None,  # None searchs Downloads dir, '' omits search1\n",
    "    downloads_limit=60,  # search the first 10 files\n",
    "    clean_name_override=None,  # override filename\n",
    "    start_file_pattern='df_OHLCV_', # search for files starting with 'df_'\n",
    "    contains_pattern='.parquet',  # search for files containing 'df_'\n",
    ")\n"
   ]
  },
  {
   "cell_type": "code",
   "execution_count": 58,
   "metadata": {},
   "outputs": [
    {
     "name": "stdout",
     "output_type": "stream",
     "text": [
      "Extracted date: 2025-04-11\n"
     ]
    }
   ],
   "source": [
    "import re\n",
    "\n",
    "# Extract date using regex pattern\n",
    "date_pattern = r'(\\d{4}-\\d{2}-\\d{2})'\n",
    "match = re.search(date_pattern, SOURCE_PATH)\n",
    "if match:\n",
    "  date_str = match.group(1)\n",
    "  print(f\"Extracted date: {date_str}\")\n",
    "else:\n",
    "  print(\"No date found in the path\")"
   ]
  },
  {
   "cell_type": "code",
   "execution_count": 59,
   "metadata": {},
   "outputs": [],
   "source": [
    "# create_config.py\n",
    "def create_config_file(date_str):\n",
    "    \"\"\"Create config.py with date configuration\"\"\"\n",
    "    config_content = f\"\"\"# config.py\n",
    "# File path configuration\n",
    "date_str = '{date_str}'  # Date in YYYY-MM-DD format\n",
    "DOWNLOAD_DIR = r'C:\\\\Users\\\\ping\\\\Downloads'  # Raw string for Windows paths\n",
    "DEST_DIR = r'..\\\\data'\n",
    "\"\"\"\n",
    "    \n",
    "    with open('config.py', 'w') as f:\n",
    "        f.write(config_content)\n",
    "    \n",
    "    print(f\"config.py created with date: {date_str}\")\n"
   ]
  },
  {
   "cell_type": "code",
   "execution_count": 60,
   "metadata": {},
   "outputs": [
    {
     "name": "stdout",
     "output_type": "stream",
     "text": [
      "config.py created with date: 2025-04-11\n"
     ]
    }
   ],
   "source": [
    "create_config_file(date_str)"
   ]
  },
  {
   "cell_type": "code",
   "execution_count": 61,
   "metadata": {},
   "outputs": [
    {
     "name": "stdout",
     "output_type": "stream",
     "text": [
      "Date string from config: 2025-04-11\n",
      "Source directory from config: C:\\Users\\ping\\Downloads\n",
      "Destination directory from config: ..\\data\n"
     ]
    }
   ],
   "source": [
    "# script_using_config.py\n",
    "from config import date_str, DOWNLOAD_DIR, DEST_DIR\n",
    "\n",
    "print(f\"Date string from config: {date_str}\")  # Direct string access\n",
    "print(f\"Source directory from config: {DOWNLOAD_DIR}\")\n",
    "print(f\"Destination directory from config: {DEST_DIR}\")"
   ]
  },
  {
   "cell_type": "code",
   "execution_count": 62,
   "metadata": {},
   "outputs": [
    {
     "name": "stdout",
     "output_type": "stream",
     "text": [
      "Running sequence for 2025-04-11\n",
      "Starting notebook execution sequence...\n",
      "\n",
      "--- Running py1_clean_df_finviz_v7.ipynb ---\n",
      "\n",
      "Running command: c:\\Users\\ping\\Files_win10\\python\\py311\\.venv\\Scripts\\jupyter nbconvert --to notebook --execute --output executed\\executed_py1_clean_df_finviz_v7.ipynb py1_clean_df_finviz_v7.ipynb\n",
      "Successfully executed py1_clean_df_finviz_v7.ipynb\n",
      "Output saved to: executed\\executed_py1_clean_df_finviz_v7.ipynb\n",
      "\n",
      "--- Running py2_clean_df_OHLCV_v5.ipynb ---\n",
      "\n",
      "Running command: c:\\Users\\ping\\Files_win10\\python\\py311\\.venv\\Scripts\\jupyter nbconvert --to notebook --execute --output executed\\executed_py2_clean_df_OHLCV_v5.ipynb py2_clean_df_OHLCV_v5.ipynb\n",
      "Successfully executed py2_clean_df_OHLCV_v5.ipynb\n",
      "Output saved to: executed\\executed_py2_clean_df_OHLCV_v5.ipynb\n",
      "\n",
      "--- Running py3_calc_perf_ratios_v10.ipynb ---\n",
      "\n",
      "Running command: c:\\Users\\ping\\Files_win10\\python\\py311\\.venv\\Scripts\\jupyter nbconvert --to notebook --execute --output executed\\executed_py3_calc_perf_ratios_v10.ipynb py3_calc_perf_ratios_v10.ipynb\n",
      "Successfully executed py3_calc_perf_ratios_v10.ipynb\n",
      "Output saved to: executed\\executed_py3_calc_perf_ratios_v10.ipynb\n",
      "\n",
      "--- Running py4_append_ratios_v7.ipynb ---\n",
      "\n",
      "Running command: c:\\Users\\ping\\Files_win10\\python\\py311\\.venv\\Scripts\\jupyter nbconvert --to notebook --execute --output executed\\executed_py4_append_ratios_v7.ipynb py4_append_ratios_v7.ipynb\n",
      "Successfully executed py4_append_ratios_v7.ipynb\n",
      "Output saved to: executed\\executed_py4_append_ratios_v7.ipynb\n",
      "\n",
      "--- Running py5_append_columns_v5.ipynb ---\n",
      "\n",
      "Running command: c:\\Users\\ping\\Files_win10\\python\\py311\\.venv\\Scripts\\jupyter nbconvert --to notebook --execute --output executed\\executed_py5_append_columns_v5.ipynb py5_append_columns_v5.ipynb\n",
      "Successfully executed py5_append_columns_v5.ipynb\n",
      "Output saved to: executed\\executed_py5_append_columns_v5.ipynb\n",
      "\n",
      "--- Running py6_stats_history_v1.ipynb ---\n",
      "\n",
      "Running command: c:\\Users\\ping\\Files_win10\\python\\py311\\.venv\\Scripts\\jupyter nbconvert --to notebook --execute --output executed\\executed_py6_stats_history_v1.ipynb py6_stats_history_v1.ipynb\n",
      "Successfully executed py6_stats_history_v1.ipynb\n",
      "Output saved to: executed\\executed_py6_stats_history_v1.ipynb\n",
      "\n",
      "--- Running py7_cov_corr_matrices_v4.ipynb ---\n",
      "\n",
      "Running command: c:\\Users\\ping\\Files_win10\\python\\py311\\.venv\\Scripts\\jupyter nbconvert --to notebook --execute --output executed\\executed_py7_cov_corr_matrices_v4.ipynb py7_cov_corr_matrices_v4.ipynb\n",
      "Successfully executed py7_cov_corr_matrices_v4.ipynb\n",
      "Output saved to: executed\\executed_py7_cov_corr_matrices_v4.ipynb\n",
      "\n",
      "--- Running py8_calc_scores_clusters_v1.ipynb ---\n",
      "\n",
      "Running command: c:\\Users\\ping\\Files_win10\\python\\py311\\.venv\\Scripts\\jupyter nbconvert --to notebook --execute --output executed\\executed_py8_calc_scores_clusters_v1.ipynb py8_calc_scores_clusters_v1.ipynb\n",
      "Successfully executed py8_calc_scores_clusters_v1.ipynb\n",
      "Output saved to: executed\\executed_py8_calc_scores_clusters_v1.ipynb\n",
      "\n",
      "--- All notebooks executed successfully! ---\n"
     ]
    }
   ],
   "source": [
    "print(f'Running sequence for {date_str}')\n",
    "%run run_sequence.py"
   ]
  }
 ],
 "metadata": {
  "kernelspec": {
   "display_name": ".venv",
   "language": "python",
   "name": "python3"
  },
  "language_info": {
   "codemirror_mode": {
    "name": "ipython",
    "version": 3
   },
   "file_extension": ".py",
   "mimetype": "text/x-python",
   "name": "python",
   "nbconvert_exporter": "python",
   "pygments_lexer": "ipython3",
   "version": "3.11.9"
  }
 },
 "nbformat": 4,
 "nbformat_minor": 2
}
