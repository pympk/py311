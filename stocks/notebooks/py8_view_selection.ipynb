{
 "cells": [
  {
   "cell_type": "code",
   "execution_count": null,
   "metadata": {},
   "outputs": [],
   "source": []
  },
  {
   "cell_type": "code",
   "execution_count": 46,
   "metadata": {},
   "outputs": [
    {
     "name": "stdout",
     "output_type": "stream",
     "text": [
      "The autoreload extension is already loaded. To reload it, use:\n",
      "  %reload_ext autoreload\n",
      "Python will look in these locations:\n",
      "['C:\\\\Users\\\\ping\\\\.pyenv\\\\pyenv-win\\\\versions\\\\3.11.9\\\\python311.zip', 'C:\\\\Users\\\\ping\\\\.pyenv\\\\pyenv-win\\\\versions\\\\3.11.9\\\\DLLs', 'C:\\\\Users\\\\ping\\\\.pyenv\\\\pyenv-win\\\\versions\\\\3.11.9\\\\Lib', 'C:\\\\Users\\\\ping\\\\.pyenv\\\\pyenv-win\\\\versions\\\\3.11.9', 'c:\\\\Users\\\\ping\\\\Files_win10\\\\python\\\\py311\\\\.venv', '', 'c:\\\\Users\\\\ping\\\\Files_win10\\\\python\\\\py311\\\\.venv\\\\Lib\\\\site-packages', 'c:\\\\Users\\\\ping\\\\Files_win10\\\\python\\\\py311\\\\.venv\\\\Lib\\\\site-packages\\\\win32', 'c:\\\\Users\\\\ping\\\\Files_win10\\\\python\\\\py311\\\\.venv\\\\Lib\\\\site-packages\\\\win32\\\\lib', 'c:\\\\Users\\\\ping\\\\Files_win10\\\\python\\\\py311\\\\.venv\\\\Lib\\\\site-packages\\\\Pythonwin', 'c:\\\\Users\\\\ping\\\\Files_win10\\\\python\\\\py311\\\\stocks\\\\src', 'c:\\\\Users\\\\ping\\\\Files_win10\\\\python\\\\py311\\\\.venv\\\\Lib\\\\site-packages\\\\setuptools\\\\_vendor', 'c:\\\\Users\\\\ping\\\\Files_win10\\\\python\\\\py311\\\\stocks\\\\src', 'c:\\\\Users\\\\ping\\\\Files_win10\\\\python\\\\py311\\\\stocks\\\\src', 'c:\\\\Users\\\\ping\\\\Files_win10\\\\python\\\\py311\\\\stocks\\\\src', 'c:\\\\Users\\\\ping\\\\Files_win10\\\\python\\\\py311\\\\stocks\\\\src', 'c:\\\\Users\\\\ping\\\\Files_win10\\\\python\\\\py311\\\\stocks\\\\src', 'c:\\\\Users\\\\ping\\\\Files_win10\\\\python\\\\py311\\\\stocks\\\\src', 'c:\\\\Users\\\\ping\\\\Files_win10\\\\python\\\\py311\\\\stocks\\\\src', 'c:\\\\Users\\\\ping\\\\Files_win10\\\\python\\\\py311\\\\stocks\\\\src', 'c:\\\\Users\\\\ping\\\\Files_win10\\\\python\\\\py311\\\\stocks\\\\src', 'c:\\\\Users\\\\ping\\\\Files_win10\\\\python\\\\py311\\\\stocks\\\\src', 'c:\\\\Users\\\\ping\\\\Files_win10\\\\python\\\\py311\\\\stocks\\\\src', 'c:\\\\Users\\\\ping\\\\Files_win10\\\\python\\\\py311\\\\stocks\\\\src', 'c:\\\\Users\\\\ping\\\\Files_win10\\\\python\\\\py311\\\\stocks\\\\src', 'c:\\\\Users\\\\ping\\\\Files_win10\\\\python\\\\py311\\\\stocks\\\\src', 'c:\\\\Users\\\\ping\\\\Files_win10\\\\python\\\\py311\\\\stocks\\\\src', 'c:\\\\Users\\\\ping\\\\Files_win10\\\\python\\\\py311\\\\stocks\\\\src', 'c:\\\\Users\\\\ping\\\\Files_win10\\\\python\\\\py311\\\\stocks\\\\src']\n"
     ]
    },
    {
     "data": {
      "text/markdown": [
       "**Available ''2025' and containing 'selected_stocks.parquet'' files:**"
      ],
      "text/plain": [
       "<IPython.core.display.Markdown object>"
      ]
     },
     "metadata": {},
     "output_type": "display_data"
    },
    {
     "data": {
      "text/markdown": [
       "- (1) `[PICKS]` `2025-04-01_selected_stocks.parquet` <span style='color:#00ffff'>(0.04 MB, 2025-04-06 16:19)</span>"
      ],
      "text/plain": [
       "<IPython.core.display.Markdown object>"
      ]
     },
     "metadata": {},
     "output_type": "display_data"
    },
    {
     "data": {
      "text/markdown": [
       "- (2) `[PICKS]` `2025-04-02_selected_stocks.parquet` <span style='color:#00ffff'>(0.04 MB, 2025-04-06 16:12)</span>"
      ],
      "text/plain": [
       "<IPython.core.display.Markdown object>"
      ]
     },
     "metadata": {},
     "output_type": "display_data"
    },
    {
     "data": {
      "text/markdown": [
       "- (3) `[PICKS]` `2025-04-03_selected_stocks.parquet` <span style='color:#00ffff'>(0.04 MB, 2025-04-06 16:25)</span>"
      ],
      "text/plain": [
       "<IPython.core.display.Markdown object>"
      ]
     },
     "metadata": {},
     "output_type": "display_data"
    },
    {
     "data": {
      "text/markdown": [
       "- (4) `[PICKS]` `2025-04-04_selected_stocks.parquet` <span style='color:#00ffff'>(0.04 MB, 2025-04-06 16:32)</span>"
      ],
      "text/plain": [
       "<IPython.core.display.Markdown object>"
      ]
     },
     "metadata": {},
     "output_type": "display_data"
    },
    {
     "name": "stdout",
     "output_type": "stream",
     "text": [
      "\n",
      "Input a number to select file (1-4)\n"
     ]
    },
    {
     "data": {
      "text/markdown": [
       "\n",
       "    **Selected paths:**\n",
       "    - Source: `c:\\Users\\ping\\Files_win10\\python\\py311\\stocks\\picks\\2025-04-01_selected_stocks.parquet`\n",
       "    - Destination: `c:\\Users\\ping\\Files_win10\\python\\py311\\stocks\\picks\\2025-04-01_selected_stocks_clean.parquet`\n",
       "    "
      ],
      "text/plain": [
       "<IPython.core.display.Markdown object>"
      ]
     },
     "metadata": {},
     "output_type": "display_data"
    }
   ],
   "source": [
    "import sys\n",
    "from pathlib import Path\n",
    "import pandas as pd\n",
    "import os\n",
    "from IPython.display import display, Markdown  # Assuming you use these for display\n",
    "\n",
    "\n",
    "# Set pandas display options to show more columns and rows\n",
    "pd.set_option('display.max_columns', None)  # Show all columns\n",
    "# pd.set_option('display.max_rows', 10)       # Limit to 10 rows for readability\n",
    "pd.set_option('display.width', None)        # Let the display adjust to the window\n",
    "\n",
    "# 2. Set the display width (optional but often helpful)\n",
    "#    'None' tries to detect terminal width. \n",
    "#    A large number (e.g., 1000) ensures no wrapping unless absolutely necessary.\n",
    "pd.set_option('display.width', 1000) \n",
    "\n",
    "\n",
    "# Notebook cell\n",
    "%load_ext autoreload\n",
    "%autoreload 2\n",
    "\n",
    "# Get root directory (assuming notebook is in root/notebooks/)\n",
    "NOTEBOOK_DIR = Path.cwd()\n",
    "ROOT_DIR = NOTEBOOK_DIR.parent if NOTEBOOK_DIR.name == 'notebooks' else NOTEBOOK_DIR\n",
    "\n",
    "# Add src directory to Python path\n",
    "sys.path.append(str(ROOT_DIR / 'src'))\n",
    "\n",
    "# Verify path\n",
    "print(f\"Python will look in these locations:\\n{sys.path}\")\n",
    "\n",
    "\n",
    "# --- Execute the processor ---\n",
    "import utils\n",
    "\n",
    "\n",
    "SOURCE_PATH, _ = utils.main_processor(\n",
    "    # data_dir='..\\data',  # search project ..\\data\n",
    "    data_dir='..\\picks',  # search project ..\\data    \n",
    "    downloads_dir='',  # None searchs Downloads dir, '' omits search1\n",
    "    downloads_limit=60,  # search the first 10 files\n",
    "    clean_name_override=None,  # override filename\n",
    "    start_file_pattern='2025', # search for files starting with 'df_'\n",
    "    contains_pattern='selected_stocks.parquet', \n",
    ")\n"
   ]
  },
  {
   "cell_type": "code",
   "execution_count": 40,
   "metadata": {},
   "outputs": [
    {
     "name": "stdout",
     "output_type": "stream",
     "text": [
      "        Cluster_ID  Raw_Score  Risk_Adj_Score    Weight  Volatility                     Company                                               Info  MktCap AUM, M  Beta    RSI  Perf YTD %  Perf 3D %  Perf Week %  Perf Month %  Perf Quart %  Perf Half %  Perf Year %  SMA20 %  SMA50 %  SMA200 %  50D High %  50D Low %  52W High %  52W Low %    ATR  ATR/Price %  Volatility W %  Volatility M %  Volume, M  Avg Volume, M  Rel Volume   Price  Change %  Sharpe 3d   Sortino 3d    Omega 3d  Sharpe 5d   Sortino 5d    Omega 5d  Sharpe 10d  Sortino 10d  Omega 10d  Sharpe 15d  Sortino 15d  Omega 15d  Sharpe 30d  Sortino 30d  Omega 30d  Sharpe 60d  Sortino 60d  Omega 60d  Sharpe 120d  Sortino 120d  Omega 120d  Sharpe 250d  Sortino 250d  Omega 250d\n",
      "Ticker                                                                                                                                                                                                                                                                                                                                                                                                                                                                                                                                                                                                                                                                                                                                                              \n",
      "PHYS            44   1.714735      260.964985  0.182657    0.006571  Sprott Physical Gold Trust                        Financial, Asset Management        10540.0  0.15  74.34       19.86   2.244812         3.25          7.82         19.92        17.41        39.54     3.85     6.99     17.76       -0.12      15.78       -0.12      39.08   0.25     1.035626            0.72            0.79   6.577051        3.89000        1.69   24.14      0.33  21.754942  6826.028698  609.110969  34.196712  3321.227596  419.435346    5.241257    11.007998   2.208074    9.931460    22.666986   4.102571    4.130416     6.488322   1.834454    5.797703     9.675733   2.348621     2.160377      2.928114    1.408093     1.790842      2.489450    1.331860\n",
      "COR             58   1.978431      238.076706  0.166637    0.008310                 Cencora Inc                   Healthcare, Medical Distribution        53790.0  0.54  76.11       23.47   1.255612         3.33          8.63         22.24        23.34        14.17     4.91     8.69     15.98       -1.17      16.70       -1.17      29.17   4.72     1.701453            1.41            1.94   1.322272        1.60000        0.83  277.41     -0.24   6.696754    33.201081    3.957787  14.382424    65.282303    9.224797   14.174542    70.735146  10.664415   20.431785   118.047094  21.115849    6.035913    11.233151   2.655243    4.460864     7.586102   2.055615     2.506414      4.383308    1.546379     0.588765      0.863872    1.108028\n",
      "MCK             58   1.608863      204.590677  0.143199    0.007864        Mckesson Corporation                   Healthcare, Medical Distribution        84430.0  0.49  70.92       18.21   1.204801         1.52          4.52         16.83        37.98        25.49     2.47     7.49     16.33       -0.73      18.09       -0.73      45.06  12.55     1.862875            1.52            2.12   0.630026        0.82789        0.76  673.69      0.10  14.346299  6826.028698  609.110969  23.423305  3321.227596  419.435346    5.420307     8.863231   2.401457   11.631239    25.482820   6.025484    5.268887    12.167650   2.672406    3.394211     5.865198   1.736040     2.614047      5.915889    1.687875     0.850704      1.159976    1.193989\n",
      "IAU             44   1.173023      159.211731  0.111437    0.007368          iShares Gold Trust  Financial, Exchange Traded Fund, Commodities &...        42540.0  0.17  74.37       18.89   2.045770         3.28          7.86         19.22        17.51        40.11     3.96     7.03     17.73       -0.24      15.51       -0.24      39.66   0.60     1.019368            0.79            0.77  13.256050        6.59000        2.01   58.86     -0.17   8.618299    74.225022    7.612490  17.911948   141.650017   18.846225    4.905062    11.622556   2.235082    8.922793    25.643423   4.398702    3.763025     6.517780   1.832880    5.370860     9.673775   2.316875     2.248789      3.187126    1.434891     1.809616      2.613393    1.339053\n",
      "GLDM            44   1.159570      158.943374  0.111249    0.007295  SPDR Gold MiniShares Trust  Financial, Exchange Traded Fund, Commodities &...        13230.0  0.17  74.53       18.85   2.031044         3.28          7.89         19.26        17.56        40.27     3.94     7.02     17.77       -0.26      15.52       -0.26      39.83   0.62     1.003399            0.79            0.77   8.662613        3.01000        2.88   61.79     -0.16   8.688720    76.909244    7.851620  18.044316   146.039563   19.399256    4.901488    11.651679   2.242845    8.957196    26.125495   4.475649    3.805028     6.595422   1.848896    5.091468     8.877271   2.233872     2.220796      3.147189    1.428973     1.808940      2.610239    1.339077\n",
      "BRO              6   1.130974      139.861838  0.097893    0.008086          Brown & Brown, Inc                       Financial, Insurance Brokers        35570.0  0.75  73.42       21.65   0.984540         2.24          3.54         20.62        20.91        41.78     3.26     8.90     18.01       -0.69      20.50       -0.69      54.50   1.98     1.595359            1.42            1.71   2.289614        1.70000        1.35  124.11     -0.23   7.313031    41.968207    4.738825  10.646433    59.023846    8.436306    6.511012    15.958757   3.376247    7.321922    17.296639   3.529489    5.782505    12.196907   2.559067    5.374942     9.659111   2.395639     1.898573      2.855981    1.359939     2.029241      3.123288    1.397914\n",
      "MMC              6   1.054636      138.868867  0.097198    0.007594  Marsh & McLennan Cos., Inc                       Financial, Insurance Brokers       119840.0  0.84  70.32       14.87   0.242389         3.12          1.89         14.30         8.96        18.46     3.44     5.84      9.43       -0.80      13.61       -0.80      24.38   3.39     1.389344            1.42            1.45   1.936569        2.08000        0.93  244.00     -0.01  10.307062   252.086747   23.457672   8.146071    38.467876    5.561250   10.848550    38.720296   6.026682   10.018463    34.017189   5.571053    3.254693     5.404852   1.645395    4.111175     6.925692   1.856271     1.089521      1.543831    1.184216     1.166782      1.650025    1.205936\n",
      "VRSN             6   1.289633      128.199408  0.089730    0.010060                Verisign Inc              Technology, Software - Infrastructure        24120.0  0.87  74.01       23.20   0.094214         3.73          6.17         25.02        33.75        34.55     4.81    10.01     29.25       -0.53      24.16       -0.53      52.64   4.39     1.721704            2.00            1.81   0.884492        0.81182        1.09  254.98      0.44  24.035023  6826.028698  609.110969   6.221388    14.213610    2.790747    8.068004    17.662805   4.337956    8.358287    18.818954   4.244231    4.748954     9.412060   2.093450    5.546631    10.577549   2.455656     3.288802      6.060836    1.754226     1.447587      2.244693    1.282953\n"
     ]
    }
   ],
   "source": [
    "import pandas as pd\n",
    "\n",
    "df = pd.read_parquet(SOURCE_PATH)\n",
    "print(df)"
   ]
  }
 ],
 "metadata": {
  "kernelspec": {
   "display_name": ".venv",
   "language": "python",
   "name": "python3"
  },
  "language_info": {
   "codemirror_mode": {
    "name": "ipython",
    "version": 3
   },
   "file_extension": ".py",
   "mimetype": "text/x-python",
   "name": "python",
   "nbconvert_exporter": "python",
   "pygments_lexer": "ipython3",
   "version": "3.11.9"
  }
 },
 "nbformat": 4,
 "nbformat_minor": 2
}
