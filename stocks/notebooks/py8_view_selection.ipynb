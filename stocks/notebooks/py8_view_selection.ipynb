{
 "cells": [
  {
   "cell_type": "code",
   "execution_count": null,
   "metadata": {},
   "outputs": [],
   "source": []
  },
  {
   "cell_type": "code",
   "execution_count": 6,
   "metadata": {},
   "outputs": [
    {
     "name": "stdout",
     "output_type": "stream",
     "text": [
      "The autoreload extension is already loaded. To reload it, use:\n",
      "  %reload_ext autoreload\n",
      "Python will look in these locations:\n",
      "['C:\\\\Users\\\\ping\\\\.pyenv\\\\pyenv-win\\\\versions\\\\3.11.9\\\\python311.zip', 'C:\\\\Users\\\\ping\\\\.pyenv\\\\pyenv-win\\\\versions\\\\3.11.9\\\\DLLs', 'C:\\\\Users\\\\ping\\\\.pyenv\\\\pyenv-win\\\\versions\\\\3.11.9\\\\Lib', 'C:\\\\Users\\\\ping\\\\.pyenv\\\\pyenv-win\\\\versions\\\\3.11.9', 'c:\\\\Users\\\\ping\\\\Files_win10\\\\python\\\\py311\\\\.venv', '', 'c:\\\\Users\\\\ping\\\\Files_win10\\\\python\\\\py311\\\\.venv\\\\Lib\\\\site-packages', 'c:\\\\Users\\\\ping\\\\Files_win10\\\\python\\\\py311\\\\.venv\\\\Lib\\\\site-packages\\\\win32', 'c:\\\\Users\\\\ping\\\\Files_win10\\\\python\\\\py311\\\\.venv\\\\Lib\\\\site-packages\\\\win32\\\\lib', 'c:\\\\Users\\\\ping\\\\Files_win10\\\\python\\\\py311\\\\.venv\\\\Lib\\\\site-packages\\\\Pythonwin', 'c:\\\\Users\\\\ping\\\\Files_win10\\\\python\\\\py311\\\\stocks\\\\src', 'c:\\\\Users\\\\ping\\\\Files_win10\\\\python\\\\py311\\\\.venv\\\\Lib\\\\site-packages\\\\setuptools\\\\_vendor', 'c:\\\\Users\\\\ping\\\\Files_win10\\\\python\\\\py311\\\\stocks\\\\src', 'c:\\\\Users\\\\ping\\\\Files_win10\\\\python\\\\py311\\\\stocks\\\\src', 'c:\\\\Users\\\\ping\\\\Files_win10\\\\python\\\\py311\\\\stocks\\\\src', 'c:\\\\Users\\\\ping\\\\Files_win10\\\\python\\\\py311\\\\stocks\\\\src', 'c:\\\\Users\\\\ping\\\\Files_win10\\\\python\\\\py311\\\\stocks\\\\src']\n"
     ]
    },
    {
     "data": {
      "text/markdown": [
       "<span style='color:#00ffff;font-weight:500'>[Downloads] Scanned latest 60 files • Found 1 '2025' matches</span>"
      ],
      "text/plain": [
       "<IPython.core.display.Markdown object>"
      ]
     },
     "metadata": {},
     "output_type": "display_data"
    },
    {
     "data": {
      "text/markdown": [
       "**Available '2025' files:**"
      ],
      "text/plain": [
       "<IPython.core.display.Markdown object>"
      ]
     },
     "metadata": {},
     "output_type": "display_data"
    },
    {
     "data": {
      "text/markdown": [
       "- (1) `[DATA]` `2025-04-02_cluster_stats_df.parquet` <span style='color:#00ffff'>(0.01 MB, 2025-04-05 15:44)</span>"
      ],
      "text/plain": [
       "<IPython.core.display.Markdown object>"
      ]
     },
     "metadata": {},
     "output_type": "display_data"
    },
    {
     "data": {
      "text/markdown": [
       "- (2) `[DATA]` `2025-04-02_detailed_clusters_df.parquet` <span style='color:#00ffff'>(0.05 MB, 2025-04-05 15:44)</span>"
      ],
      "text/plain": [
       "<IPython.core.display.Markdown object>"
      ]
     },
     "metadata": {},
     "output_type": "display_data"
    },
    {
     "data": {
      "text/markdown": [
       "- (3) `[DATA]` `2025-04-02_portfolio.txt` <span style='color:#00ffff'>(0.22 MB, 2025-04-05 15:44)</span>"
      ],
      "text/plain": [
       "<IPython.core.display.Markdown object>"
      ]
     },
     "metadata": {},
     "output_type": "display_data"
    },
    {
     "data": {
      "text/markdown": [
       "- (4) `[DATA]` `2025-04-02_selected_stocks.parquet` <span style='color:#00ffff'>(0.03 MB, 2025-04-05 15:44)</span>"
      ],
      "text/plain": [
       "<IPython.core.display.Markdown object>"
      ]
     },
     "metadata": {},
     "output_type": "display_data"
    },
    {
     "data": {
      "text/markdown": [
       "- (5) `[DATA]` `2025-04-02_selected_stocks.tsv` <span style='color:#00ffff'>(0.01 MB, 2025-04-05 15:44)</span>"
      ],
      "text/plain": [
       "<IPython.core.display.Markdown object>"
      ]
     },
     "metadata": {},
     "output_type": "display_data"
    },
    {
     "data": {
      "text/markdown": [
       "- (6) `[DOWNLOADS]` `2025-04-05_finviz_OHLCV.zip` <span style='color:#00ffff'>(0.07 MB, 2025-04-05 12:11)</span>"
      ],
      "text/plain": [
       "<IPython.core.display.Markdown object>"
      ]
     },
     "metadata": {},
     "output_type": "display_data"
    },
    {
     "name": "stdout",
     "output_type": "stream",
     "text": [
      "\n",
      "Input a number to select file (1-6)\n"
     ]
    },
    {
     "data": {
      "text/markdown": [
       "\n",
       "    **Selected paths:**\n",
       "    - Source: `..\\picks\\2025-04-02_selected_stocks.parquet`  \n",
       "    - Destination: `..\\picks\\2025-04-02_selected_stocks_clean.parquet`\n",
       "    "
      ],
      "text/plain": [
       "<IPython.core.display.Markdown object>"
      ]
     },
     "metadata": {},
     "output_type": "display_data"
    }
   ],
   "source": [
    "import sys\n",
    "from pathlib import Path\n",
    "import pandas as pd\n",
    "\n",
    "# Notebook cell\n",
    "%load_ext autoreload\n",
    "%autoreload 2\n",
    "\n",
    "# Get root directory (assuming notebook is in root/notebooks/)\n",
    "NOTEBOOK_DIR = Path.cwd()\n",
    "ROOT_DIR = NOTEBOOK_DIR.parent if NOTEBOOK_DIR.name == 'notebooks' else NOTEBOOK_DIR\n",
    "\n",
    "# Add src directory to Python path\n",
    "sys.path.append(str(ROOT_DIR / 'src'))\n",
    "\n",
    "# Verify path\n",
    "print(f\"Python will look in these locations:\\n{sys.path}\")\n",
    "\n",
    "\n",
    "# --- Execute the processor ---\n",
    "import utils\n",
    "\n",
    "\n",
    "SOURCE_PATH, _ = utils.main_processor(\n",
    "    # data_dir='..\\data',  # search project ..\\data\n",
    "    data_dir='..\\picks',  # search project ..\\data    \n",
    "    downloads_dir=None,  # None searchs Downloads dir, '' omits search1\n",
    "    downloads_limit=60,  # search the first 10 files\n",
    "    clean_name_override=None,  # override filename\n",
    "    start_file_pattern='2025', # search for files starting with 'df_'\n",
    ")\n"
   ]
  },
  {
   "cell_type": "code",
   "execution_count": 8,
   "metadata": {},
   "outputs": [
    {
     "data": {
      "text/html": [
       "<div>\n",
       "<style scoped>\n",
       "    .dataframe tbody tr th:only-of-type {\n",
       "        vertical-align: middle;\n",
       "    }\n",
       "\n",
       "    .dataframe tbody tr th {\n",
       "        vertical-align: top;\n",
       "    }\n",
       "\n",
       "    .dataframe thead th {\n",
       "        text-align: right;\n",
       "    }\n",
       "</style>\n",
       "<table border=\"1\" class=\"dataframe\">\n",
       "  <thead>\n",
       "    <tr style=\"text-align: right;\">\n",
       "      <th></th>\n",
       "      <th>Weight</th>\n",
       "      <th>Cluster_ID</th>\n",
       "      <th>Company</th>\n",
       "      <th>Info</th>\n",
       "      <th>MktCap AUM, M</th>\n",
       "      <th>Beta</th>\n",
       "      <th>RSI</th>\n",
       "      <th>Perf YTD %</th>\n",
       "      <th>Perf 3D %</th>\n",
       "      <th>Perf Week %</th>\n",
       "      <th>...</th>\n",
       "      <th>Omega 30d</th>\n",
       "      <th>Sharpe 60d</th>\n",
       "      <th>Sortino 60d</th>\n",
       "      <th>Omega 60d</th>\n",
       "      <th>Sharpe 120d</th>\n",
       "      <th>Sortino 120d</th>\n",
       "      <th>Omega 120d</th>\n",
       "      <th>Sharpe 250d</th>\n",
       "      <th>Sortino 250d</th>\n",
       "      <th>Omega 250d</th>\n",
       "    </tr>\n",
       "    <tr>\n",
       "      <th>Ticker</th>\n",
       "      <th></th>\n",
       "      <th></th>\n",
       "      <th></th>\n",
       "      <th></th>\n",
       "      <th></th>\n",
       "      <th></th>\n",
       "      <th></th>\n",
       "      <th></th>\n",
       "      <th></th>\n",
       "      <th></th>\n",
       "      <th></th>\n",
       "      <th></th>\n",
       "      <th></th>\n",
       "      <th></th>\n",
       "      <th></th>\n",
       "      <th></th>\n",
       "      <th></th>\n",
       "      <th></th>\n",
       "      <th></th>\n",
       "      <th></th>\n",
       "      <th></th>\n",
       "    </tr>\n",
       "  </thead>\n",
       "  <tbody>\n",
       "    <tr>\n",
       "      <th>PHYS</th>\n",
       "      <td>0.180349</td>\n",
       "      <td>56</td>\n",
       "      <td>Sprott Physical Gold Trust</td>\n",
       "      <td>Financial, Asset Management</td>\n",
       "      <td>10560.0</td>\n",
       "      <td>0.13</td>\n",
       "      <td>74.94</td>\n",
       "      <td>20.11</td>\n",
       "      <td>1.553317</td>\n",
       "      <td>3.78</td>\n",
       "      <td>...</td>\n",
       "      <td>1.826244</td>\n",
       "      <td>5.938367</td>\n",
       "      <td>9.893340</td>\n",
       "      <td>2.396057</td>\n",
       "      <td>2.276936</td>\n",
       "      <td>3.087875</td>\n",
       "      <td>1.435967</td>\n",
       "      <td>1.843227</td>\n",
       "      <td>2.563227</td>\n",
       "      <td>1.343641</td>\n",
       "    </tr>\n",
       "    <tr>\n",
       "      <th>AM</th>\n",
       "      <td>0.117444</td>\n",
       "      <td>19</td>\n",
       "      <td>Antero Midstream Corp</td>\n",
       "      <td>Energy, Oil &amp; Gas Midstream</td>\n",
       "      <td>8840.0</td>\n",
       "      <td>0.96</td>\n",
       "      <td>74.85</td>\n",
       "      <td>22.33</td>\n",
       "      <td>2.898551</td>\n",
       "      <td>2.56</td>\n",
       "      <td>...</td>\n",
       "      <td>1.987225</td>\n",
       "      <td>2.964043</td>\n",
       "      <td>5.058480</td>\n",
       "      <td>1.701297</td>\n",
       "      <td>1.584460</td>\n",
       "      <td>2.418634</td>\n",
       "      <td>1.320056</td>\n",
       "      <td>1.359050</td>\n",
       "      <td>2.055835</td>\n",
       "      <td>1.259490</td>\n",
       "    </tr>\n",
       "    <tr>\n",
       "      <th>IGF</th>\n",
       "      <td>0.113616</td>\n",
       "      <td>19</td>\n",
       "      <td>iShares Global Infrastructure ETF</td>\n",
       "      <td>Financial, Exchange Traded Fund, Global or ExU...</td>\n",
       "      <td>6100.0</td>\n",
       "      <td>0.73</td>\n",
       "      <td>66.99</td>\n",
       "      <td>5.97</td>\n",
       "      <td>1.689003</td>\n",
       "      <td>1.76</td>\n",
       "      <td>...</td>\n",
       "      <td>1.221039</td>\n",
       "      <td>1.122269</td>\n",
       "      <td>1.675589</td>\n",
       "      <td>1.205425</td>\n",
       "      <td>0.428553</td>\n",
       "      <td>0.604090</td>\n",
       "      <td>1.073815</td>\n",
       "      <td>1.300484</td>\n",
       "      <td>1.861277</td>\n",
       "      <td>1.235288</td>\n",
       "    </tr>\n",
       "    <tr>\n",
       "      <th>GLD</th>\n",
       "      <td>0.106635</td>\n",
       "      <td>56</td>\n",
       "      <td>SPDR Gold Shares ETF</td>\n",
       "      <td>Financial, Exchange Traded Fund, Commodities &amp;...</td>\n",
       "      <td>93810.0</td>\n",
       "      <td>0.13</td>\n",
       "      <td>74.92</td>\n",
       "      <td>19.01</td>\n",
       "      <td>1.443357</td>\n",
       "      <td>3.57</td>\n",
       "      <td>...</td>\n",
       "      <td>1.853400</td>\n",
       "      <td>5.427264</td>\n",
       "      <td>9.808296</td>\n",
       "      <td>2.340739</td>\n",
       "      <td>2.335254</td>\n",
       "      <td>3.316046</td>\n",
       "      <td>1.456444</td>\n",
       "      <td>1.842693</td>\n",
       "      <td>2.664167</td>\n",
       "      <td>1.346690</td>\n",
       "    </tr>\n",
       "    <tr>\n",
       "      <th>IAU</th>\n",
       "      <td>0.106491</td>\n",
       "      <td>56</td>\n",
       "      <td>iShares Gold Trust</td>\n",
       "      <td>Financial, Exchange Traded Fund, Commodities &amp;...</td>\n",
       "      <td>42800.0</td>\n",
       "      <td>0.13</td>\n",
       "      <td>74.82</td>\n",
       "      <td>19.07</td>\n",
       "      <td>1.410631</td>\n",
       "      <td>3.57</td>\n",
       "      <td>...</td>\n",
       "      <td>1.850061</td>\n",
       "      <td>5.465628</td>\n",
       "      <td>9.832547</td>\n",
       "      <td>2.350636</td>\n",
       "      <td>2.353039</td>\n",
       "      <td>3.337121</td>\n",
       "      <td>1.461073</td>\n",
       "      <td>1.857733</td>\n",
       "      <td>2.684079</td>\n",
       "      <td>1.350170</td>\n",
       "    </tr>\n",
       "    <tr>\n",
       "      <th>OGE</th>\n",
       "      <td>0.104957</td>\n",
       "      <td>51</td>\n",
       "      <td>Oge Energy Corp</td>\n",
       "      <td>Utilities, Utilities - Regulated Electric</td>\n",
       "      <td>9340.0</td>\n",
       "      <td>0.61</td>\n",
       "      <td>66.48</td>\n",
       "      <td>12.44</td>\n",
       "      <td>1.956474</td>\n",
       "      <td>3.46</td>\n",
       "      <td>...</td>\n",
       "      <td>1.447167</td>\n",
       "      <td>3.289358</td>\n",
       "      <td>5.142344</td>\n",
       "      <td>1.722345</td>\n",
       "      <td>1.702728</td>\n",
       "      <td>2.511007</td>\n",
       "      <td>1.335297</td>\n",
       "      <td>1.908859</td>\n",
       "      <td>2.824398</td>\n",
       "      <td>1.392690</td>\n",
       "    </tr>\n",
       "    <tr>\n",
       "      <th>ATO</th>\n",
       "      <td>0.093588</td>\n",
       "      <td>51</td>\n",
       "      <td>Atmos Energy Corp</td>\n",
       "      <td>Utilities, Utilities - Regulated Gas</td>\n",
       "      <td>24640.0</td>\n",
       "      <td>0.73</td>\n",
       "      <td>65.43</td>\n",
       "      <td>11.45</td>\n",
       "      <td>1.803752</td>\n",
       "      <td>3.36</td>\n",
       "      <td>...</td>\n",
       "      <td>1.512243</td>\n",
       "      <td>2.919392</td>\n",
       "      <td>4.725755</td>\n",
       "      <td>1.582996</td>\n",
       "      <td>1.419890</td>\n",
       "      <td>2.111082</td>\n",
       "      <td>1.258581</td>\n",
       "      <td>1.829312</td>\n",
       "      <td>2.817353</td>\n",
       "      <td>1.355777</td>\n",
       "    </tr>\n",
       "    <tr>\n",
       "      <th>NI</th>\n",
       "      <td>0.091604</td>\n",
       "      <td>51</td>\n",
       "      <td>NiSource Inc</td>\n",
       "      <td>Utilities, Utilities - Regulated Gas</td>\n",
       "      <td>19100.0</td>\n",
       "      <td>0.53</td>\n",
       "      <td>62.95</td>\n",
       "      <td>10.55</td>\n",
       "      <td>1.803607</td>\n",
       "      <td>1.65</td>\n",
       "      <td>...</td>\n",
       "      <td>1.116086</td>\n",
       "      <td>2.859949</td>\n",
       "      <td>4.191447</td>\n",
       "      <td>1.623509</td>\n",
       "      <td>2.084346</td>\n",
       "      <td>3.052429</td>\n",
       "      <td>1.409815</td>\n",
       "      <td>2.481172</td>\n",
       "      <td>3.725851</td>\n",
       "      <td>1.518753</td>\n",
       "    </tr>\n",
       "    <tr>\n",
       "      <th>EXE</th>\n",
       "      <td>0.085315</td>\n",
       "      <td>19</td>\n",
       "      <td>Expand Energy Corp</td>\n",
       "      <td>Energy, Oil &amp; Gas E&amp;P</td>\n",
       "      <td>26500.0</td>\n",
       "      <td>0.43</td>\n",
       "      <td>72.00</td>\n",
       "      <td>14.38</td>\n",
       "      <td>2.641067</td>\n",
       "      <td>3.57</td>\n",
       "      <td>...</td>\n",
       "      <td>1.468452</td>\n",
       "      <td>1.982665</td>\n",
       "      <td>2.632914</td>\n",
       "      <td>1.399546</td>\n",
       "      <td>2.229715</td>\n",
       "      <td>3.448242</td>\n",
       "      <td>1.472510</td>\n",
       "      <td>1.074397</td>\n",
       "      <td>1.593356</td>\n",
       "      <td>1.198777</td>\n",
       "    </tr>\n",
       "  </tbody>\n",
       "</table>\n",
       "<p>9 rows × 53 columns</p>\n",
       "</div>"
      ],
      "text/plain": [
       "          Weight  Cluster_ID                            Company  \\\n",
       "Ticker                                                            \n",
       "PHYS    0.180349          56         Sprott Physical Gold Trust   \n",
       "AM      0.117444          19              Antero Midstream Corp   \n",
       "IGF     0.113616          19  iShares Global Infrastructure ETF   \n",
       "GLD     0.106635          56               SPDR Gold Shares ETF   \n",
       "IAU     0.106491          56                 iShares Gold Trust   \n",
       "OGE     0.104957          51                    Oge Energy Corp   \n",
       "ATO     0.093588          51                  Atmos Energy Corp   \n",
       "NI      0.091604          51                       NiSource Inc   \n",
       "EXE     0.085315          19                 Expand Energy Corp   \n",
       "\n",
       "                                                     Info  MktCap AUM, M  \\\n",
       "Ticker                                                                     \n",
       "PHYS                          Financial, Asset Management        10560.0   \n",
       "AM                            Energy, Oil & Gas Midstream         8840.0   \n",
       "IGF     Financial, Exchange Traded Fund, Global or ExU...         6100.0   \n",
       "GLD     Financial, Exchange Traded Fund, Commodities &...        93810.0   \n",
       "IAU     Financial, Exchange Traded Fund, Commodities &...        42800.0   \n",
       "OGE             Utilities, Utilities - Regulated Electric         9340.0   \n",
       "ATO                  Utilities, Utilities - Regulated Gas        24640.0   \n",
       "NI                   Utilities, Utilities - Regulated Gas        19100.0   \n",
       "EXE                                 Energy, Oil & Gas E&P        26500.0   \n",
       "\n",
       "        Beta    RSI  Perf YTD %  Perf 3D %  Perf Week %  ...  Omega 30d  \\\n",
       "Ticker                                                   ...              \n",
       "PHYS    0.13  74.94       20.11   1.553317         3.78  ...   1.826244   \n",
       "AM      0.96  74.85       22.33   2.898551         2.56  ...   1.987225   \n",
       "IGF     0.73  66.99        5.97   1.689003         1.76  ...   1.221039   \n",
       "GLD     0.13  74.92       19.01   1.443357         3.57  ...   1.853400   \n",
       "IAU     0.13  74.82       19.07   1.410631         3.57  ...   1.850061   \n",
       "OGE     0.61  66.48       12.44   1.956474         3.46  ...   1.447167   \n",
       "ATO     0.73  65.43       11.45   1.803752         3.36  ...   1.512243   \n",
       "NI      0.53  62.95       10.55   1.803607         1.65  ...   1.116086   \n",
       "EXE     0.43  72.00       14.38   2.641067         3.57  ...   1.468452   \n",
       "\n",
       "        Sharpe 60d  Sortino 60d  Omega 60d  Sharpe 120d  Sortino 120d  \\\n",
       "Ticker                                                                  \n",
       "PHYS      5.938367     9.893340   2.396057     2.276936      3.087875   \n",
       "AM        2.964043     5.058480   1.701297     1.584460      2.418634   \n",
       "IGF       1.122269     1.675589   1.205425     0.428553      0.604090   \n",
       "GLD       5.427264     9.808296   2.340739     2.335254      3.316046   \n",
       "IAU       5.465628     9.832547   2.350636     2.353039      3.337121   \n",
       "OGE       3.289358     5.142344   1.722345     1.702728      2.511007   \n",
       "ATO       2.919392     4.725755   1.582996     1.419890      2.111082   \n",
       "NI        2.859949     4.191447   1.623509     2.084346      3.052429   \n",
       "EXE       1.982665     2.632914   1.399546     2.229715      3.448242   \n",
       "\n",
       "        Omega 120d  Sharpe 250d  Sortino 250d  Omega 250d  \n",
       "Ticker                                                     \n",
       "PHYS      1.435967     1.843227      2.563227    1.343641  \n",
       "AM        1.320056     1.359050      2.055835    1.259490  \n",
       "IGF       1.073815     1.300484      1.861277    1.235288  \n",
       "GLD       1.456444     1.842693      2.664167    1.346690  \n",
       "IAU       1.461073     1.857733      2.684079    1.350170  \n",
       "OGE       1.335297     1.908859      2.824398    1.392690  \n",
       "ATO       1.258581     1.829312      2.817353    1.355777  \n",
       "NI        1.409815     2.481172      3.725851    1.518753  \n",
       "EXE       1.472510     1.074397      1.593356    1.198777  \n",
       "\n",
       "[9 rows x 53 columns]"
      ]
     },
     "execution_count": 8,
     "metadata": {},
     "output_type": "execute_result"
    }
   ],
   "source": [
    "import pandas as pd\n",
    "\n",
    "df = pd.read_parquet(SOURCE_PATH)\n",
    "df"
   ]
  }
 ],
 "metadata": {
  "kernelspec": {
   "display_name": ".venv",
   "language": "python",
   "name": "python3"
  },
  "language_info": {
   "codemirror_mode": {
    "name": "ipython",
    "version": 3
   },
   "file_extension": ".py",
   "mimetype": "text/x-python",
   "name": "python",
   "nbconvert_exporter": "python",
   "pygments_lexer": "ipython3",
   "version": "3.11.9"
  }
 },
 "nbformat": 4,
 "nbformat_minor": 2
}
