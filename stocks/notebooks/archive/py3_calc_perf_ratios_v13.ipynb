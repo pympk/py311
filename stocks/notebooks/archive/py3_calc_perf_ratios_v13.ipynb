{
 "cells": [
  {
   "cell_type": "code",
   "execution_count": null,
   "metadata": {},
   "outputs": [],
   "source": []
  },
  {
   "cell_type": "code",
   "execution_count": 3,
   "metadata": {
    "execution": {
     "iopub.execute_input": "2025-04-10T23:20:31.839513Z",
     "iopub.status.busy": "2025-04-10T23:20:31.838515Z",
     "iopub.status.idle": "2025-04-10T23:20:31.858636Z",
     "shell.execute_reply": "2025-04-10T23:20:31.856620Z"
    }
   },
   "outputs": [],
   "source": [
    "# Configuration\n",
    "\n",
    "# days used in calculating ratios\n",
    "DAYS_RATIO = [3, 5, 10, 15, 30, 60, 120, 250]\n",
    "\n",
    "# risk free rate\n",
    "RISK_FREE_RATE = 0.04"
   ]
  },
  {
   "cell_type": "code",
   "execution_count": 8,
   "metadata": {
    "execution": {
     "iopub.execute_input": "2025-04-10T23:20:31.867411Z",
     "iopub.status.busy": "2025-04-10T23:20:31.865410Z",
     "iopub.status.idle": "2025-04-10T23:20:33.428364Z",
     "shell.execute_reply": "2025-04-10T23:20:33.425348Z"
    }
   },
   "outputs": [],
   "source": [
    "import pandas as pd\n",
    "\n",
    "# Set pandas display options to show more columns and rows\n",
    "pd.set_option('display.max_columns', None)  # Show all columns\n",
    "# pd.set_option('display.max_rows', 10)       # Limit to 10 rows for readability\n",
    "pd.set_option('display.width', 2500)        # Let the display adjust to the window\n"
   ]
  },
  {
   "cell_type": "code",
   "execution_count": 5,
   "metadata": {
    "execution": {
     "iopub.execute_input": "2025-04-10T23:20:33.435368Z",
     "iopub.status.busy": "2025-04-10T23:20:33.434365Z",
     "iopub.status.idle": "2025-04-10T23:20:33.450008Z",
     "shell.execute_reply": "2025-04-10T23:20:33.447993Z"
    }
   },
   "outputs": [
    {
     "name": "stdout",
     "output_type": "stream",
     "text": [
      "date_str: 2025-04-25\n",
      "DEST_DIR: ..\\data\n",
      "\n",
      "source_path: ..\\data\\df_OHLCV_clean_stocks_etfs.parquet\n",
      "dest_path: ..\\data\\2025-04-25_df_perf_ratios_stocks_etfs.parquet\n"
     ]
    }
   ],
   "source": [
    "# process_files.py\n",
    "from config import date_str, DOWNLOAD_DIR, DEST_DIR\n",
    "from pathlib import Path  # Better path handling\n",
    "\n",
    "print(f\"date_str: {date_str}\")\n",
    "# print(f\"DOWNLOAD_DIR: {DOWNLOAD_DIR}\")\n",
    "print(f\"DEST_DIR: {DEST_DIR}\\n\")\n",
    "\n",
    "# Build paths\n",
    "# source_path = Path(DEST_DIR) / f'{date_str}_df_OHLCV_clean_stocks_etfs.parquet'\n",
    "source_path = Path(DEST_DIR) / f'df_OHLCV_clean_stocks_etfs.parquet'\n",
    "dest_path = Path(DEST_DIR) / f'{date_str}_df_perf_ratios_stocks_etfs.parquet'\n",
    "\n",
    "print(f\"source_path: {source_path}\")\n",
    "print(f\"dest_path: {dest_path}\")"
   ]
  },
  {
   "cell_type": "code",
   "execution_count": 6,
   "metadata": {
    "execution": {
     "iopub.execute_input": "2025-04-10T23:20:33.554794Z",
     "iopub.status.busy": "2025-04-10T23:20:33.553795Z",
     "iopub.status.idle": "2025-04-10T23:20:33.663314Z",
     "shell.execute_reply": "2025-04-10T23:20:33.662298Z"
    }
   },
   "outputs": [],
   "source": [
    "import pandas as pd\n",
    "\n",
    "# Get tickers from df_finviz_stocks_etfs.pkl file\n",
    "df_finviz = pd.read_parquet(f'..\\data\\{date_str}_df_finviz_stocks_etfs.parquet')\n",
    "tickers = df_finviz.index.to_list()"
   ]
  },
  {
   "cell_type": "code",
   "execution_count": 9,
   "metadata": {},
   "outputs": [
    {
     "name": "stdout",
     "output_type": "stream",
     "text": [
      "        No.                                     Company               Index                  Sector                        Industry Country Exchange  Market Cap, M    P/E  Fwd P/E   PEG    P/S    P/B    P/C  P/FCF  Book/sh  Cash/sh  Dividend %  Dividend TTM Dividend Ex Date  Payout Ratio %    EPS  EPS next Q  EPS this Y %  EPS next Y %  EPS past 5Y %  EPS next 5Y %  Sales past 5Y %  Sales Q/Q %  EPS Q/Q %  EPS YoY TTM %  Sales YoY TTM %  Sales, M  Income, M  EPS Surprise %  Revenue Surprise %  Outstanding, M  Float, M  Float %  Insider Own %  Insider Trans %  Inst Own %  Inst Trans %  Short Float %  Short Ratio  Short Interest, M  ROA %   ROE %  ROI %  Curr R  Quick R  LTDebt/Eq  Debt/Eq  Gross M %  Oper M %  Profit M %  Perf Week %  Perf Month %  Perf Quart %  Perf Half %  Perf Year %  Perf YTD %  Beta    ATR  Volatility W %  Volatility M %  SMA20 %  SMA50 %  SMA200 %  50D High %  50D Low %  52W High %  52W Low %        52W Range  All-Time High %  All-Time Low %    RSI  Earnings    IPO Date Optionable Shortable  Employees  Change from Open %  Gap %  Recom  Avg Volume, M  Rel Volume     Volume  Target Price  Prev Close    Open    High     Low   Price  Change %                                 Single Category         Asset Type  Expense %  Holdings  AUM, M  Flows 1M, M  Flows% 1M  Flows 3M, M  Flows% 3M  Flows YTD, M  Flows% YTD  Return% 1Y  Return% 3Y  Return% 5Y                                               Tags                                               Info  MktCap AUM, M\n",
      "Ticker                                                                                                                                                                                                                                                                                                                                                                                                                                                                                                                                                                                                                                                                                                                                                                                                                                                                                                                                                                                                                                                                                                                                                                                                                                                                                                                                                                                                                                                                                                                                                       \n",
      "AAPL      1                                   Apple Inc  DJIA, NDX, S&P 500              Technology            Consumer Electronics     USA     NASD      3143820.0  33.27    26.31  3.75   7.94  47.15  58.46  31.98     4.44     3.58        0.49          1.00        2/10/2025           16.11   6.29        1.61          7.58          9.53          15.41           8.88             9.18         3.95      10.13          -2.14             2.61  395760.0    96150.0            2.23                0.03         15040.0   15010.0    99.78           0.09            -3.52       63.86          1.45           0.75         1.85             113.13  27.57  136.52  63.80    0.92     0.88       1.26     1.45      46.52     31.76       24.30         6.24         -5.53         -6.06       -11.27        25.39      -16.43  1.28   9.26            2.43            4.93     3.83    -4.42     -8.06      -16.29      23.68      -19.54      24.46  168.15 - 260.10           -19.54       328873.80  51.95  May 01/a  12/12/1980        Yes       Yes   164000.0                1.49  -1.04   2.08       61.16000        0.62   38132498        238.59      208.37  206.20  209.75  206.20  209.28      0.44                                                                           NaN       NaN     NaN          NaN        NaN          NaN        NaN           NaN         NaN         NaN         NaN         NaN                                                  -                   Technology, Consumer Electronics      3143820.0\n",
      "MSFT      2                       Microsoft Corporation  DJIA, NDX, S&P 500              Technology       Software - Infrastructure     USA     NASD      2913010.0  31.56    26.37  2.22  11.13   9.62  40.71  41.60    40.71     9.63        0.83          3.16        5/15/2025           25.42  12.42        3.22         11.45         12.99          18.45          14.21            14.40        12.27      10.23          12.38            15.04  261800.0    92750.0            3.54                1.11          7430.0    7320.0    98.52           1.47            -0.04       73.30          1.16           0.70         2.02              51.25  18.47   34.29  23.60    1.35     1.34       0.30     0.34      69.41     44.96       35.43         6.54          0.48        -11.76        -8.34        -3.86       -7.03  0.98  12.57            2.43            3.52     4.26     1.19     -5.66       -6.55      13.65      -16.33      13.65  344.79 - 468.35           -16.33       491688.02  55.96  Apr 30/a   3/13/1986        Yes       Yes   228000.0                1.25  -0.08   1.34       25.35000        0.74   18803717        482.98      387.30  387.00  392.16  384.60  391.85      1.17                                                                           NaN       NaN     NaN          NaN        NaN          NaN        NaN           NaN         NaN         NaN         NaN         NaN                                                  -              Technology, Software - Infrastructure      2913010.0\n",
      "NVDA      3                                 NVIDIA Corp  DJIA, NDX, S&P 500              Technology                  Semiconductors     USA     NASD      2708640.0  37.76    19.68  1.27  20.76  34.25  62.69  44.51     3.24     1.77        0.04          0.04        3/12/2025            1.16   2.94        0.89         48.06         27.39          91.83          29.64            70.88        77.94      81.23         146.26           114.20  130500.0    72880.0            4.97                3.23         24480.0   23420.0    95.70           4.00            -0.13       66.45          1.80           1.12         0.83             262.96  82.20  119.18  81.60    4.44     3.88       0.13     0.13      74.99     62.42       55.85         9.38         -2.42        -22.16       -22.69        34.68      -17.34  2.11   6.82            3.83            6.46     5.41    -3.67    -11.59      -22.61      28.16      -27.51      41.91   78.22 - 153.13           -27.51       332929.99  52.40  Feb 26/a   1/22/1999        Yes       Yes    36000.0                3.89   0.39   1.40      315.04000        0.79  249869413        161.59      106.43  106.85  111.92  105.73  111.01      4.30                                                                           NaN       NaN     NaN          NaN        NaN          NaN        NaN           NaN         NaN         NaN         NaN         NaN                                                  -                         Technology, Semiconductors      2708640.0\n",
      "AMZN      4                              Amazon.com Inc  DJIA, NDX, S&P 500       Consumer Cyclical                 Internet Retail     USA     NASD      2005630.0  34.22    25.35  1.83   3.14   7.00  19.15  61.00    27.00     9.87         NaN           NaN                -            0.00   5.52        1.37         12.63         19.69          36.89          18.71            18.31        10.49      85.48          91.61            10.99  637960.0    59250.0           25.14                0.24         10590.0    9490.0    89.59          10.58            -1.46       64.47          2.77           0.75         1.43              71.19  10.28   24.29  14.21    1.06     0.87       0.46     0.52      48.85     10.87        9.29         9.49         -6.04        -19.53        -0.37         5.26      -13.86  1.30   9.12            3.41            5.22     4.16    -3.84     -5.13      -18.25      17.11      -22.07      24.66  151.61 - 242.52           -22.07       287884.78  52.14  May 01/a   5/15/1997        Yes       Yes  1556000.0                0.84   0.47   1.29       49.72000        0.73   36313537        248.71      186.54  187.42  189.94  185.49  188.99      1.31                                                                           NaN       NaN     NaN          NaN        NaN          NaN        NaN           NaN         NaN         NaN         NaN         NaN                                                  -                 Consumer Cyclical, Internet Retail      2005630.0\n",
      "GOOGL     6                                Alphabet Inc        NDX, S&P 500  Communication Services  Internet Content & Information     USA     NASD      1984030.0  18.06    15.93  1.34   5.52   5.70  20.81  26.50    28.41     7.78        0.31          0.80        3/10/2025            7.46   8.97        2.16         17.17          7.94          26.76          13.43            17.30        11.81      48.77          37.73            13.02  359310.0   111000.0           40.02                1.15          5830.0    5820.0    99.84          52.28            -0.01       38.38          1.08           1.18         1.94              68.67  25.15   34.79  30.02    1.77     1.77       0.07     0.08      58.54     32.60       30.89         7.14         -1.88        -19.10        -1.93         2.34      -14.44  1.00   5.93            2.48            3.85     5.34    -1.36     -6.00      -13.11      15.25      -21.78      15.25  140.53 - 207.05           -21.78         6644.61  54.31  Apr 24/a   8/19/2004        Yes       Yes   183323.0               -1.84   3.59   1.46       35.44000        1.58   55916858        202.95      159.28  165.00  166.10  161.04  161.96      1.68                                                                           NaN       NaN     NaN          NaN        NaN          NaN        NaN           NaN         NaN         NaN         NaN         NaN                                                  -  Communication Services, Internet Content & Inf...      1984030.0\n",
      "...     ...                                         ...                 ...                     ...                             ...     ...      ...            ...    ...      ...   ...    ...    ...    ...    ...      ...      ...         ...           ...              ...             ...    ...         ...           ...           ...            ...            ...              ...          ...        ...            ...              ...       ...        ...             ...                 ...             ...       ...      ...            ...              ...         ...           ...            ...          ...                ...    ...     ...    ...     ...      ...        ...      ...        ...       ...         ...          ...           ...           ...          ...          ...         ...   ...    ...             ...             ...      ...      ...       ...         ...        ...         ...        ...              ...              ...             ...    ...       ...         ...        ...       ...        ...                 ...    ...    ...            ...         ...        ...           ...         ...     ...     ...     ...     ...       ...                                             ...                ...        ...       ...     ...          ...        ...          ...        ...           ...         ...         ...         ...         ...                                                ...                                                ...            ...\n",
      "IBDQ    396  iShares iBonds Dec 2025 Term Corporate ETF                   -               Financial            Exchange Traded Fund     USA     NYSE            NaN    NaN      NaN   NaN    NaN    NaN    NaN    NaN      NaN      NaN        3.87          0.97         4/1/2025             NaN    NaN         NaN           NaN           NaN            NaN            NaN              NaN          NaN        NaN            NaN              NaN       NaN        NaN             NaN                 NaN             NaN       NaN      NaN            NaN              NaN         NaN           NaN            NaN         0.17               0.09    NaN     NaN    NaN     NaN      NaN        NaN      NaN        NaN       NaN         NaN         0.16          0.04          0.08         0.40         1.62        0.44  0.10   0.02            0.06            0.09     0.23     0.19      0.44        0.00       0.52        0.00       1.94    24.68 - 25.16           -10.08           11.90  64.87         -   3/12/2015         No       Yes        NaN                0.04   0.00    NaN        0.50027        0.63     314911           NaN       25.15   25.15   25.16   25.15   25.16      0.04                               Bonds - Corporate              Bonds       0.10     394.0  3090.0      -104.24      -3.26       -91.67      -2.88        -45.32       -1.44        5.30        3.52        2.20  U.S., fixed-income, corporate-bonds, bonds, in...  Financial, Exchange Traded Fund, Bonds - Corpo...         3090.0\n",
      "TFI     397    SPDR Nuveen Bloomberg Municipal Bond ETF                   -               Financial            Exchange Traded Fund     USA     NYSE            NaN    NaN      NaN   NaN    NaN    NaN    NaN    NaN      NaN      NaN        3.15          1.40         4/1/2025             NaN    NaN         NaN           NaN           NaN            NaN            NaN              NaN          NaN        NaN            NaN              NaN       NaN        NaN             NaN                 NaN             NaN       NaN      NaN            NaN              NaN         NaN           NaN            NaN         0.22               0.37    NaN     NaN    NaN     NaN      NaN        NaN      NaN        NaN       NaN         NaN         0.32         -1.27         -2.48        -3.63        -3.16       -2.74  0.30   0.36            0.60            0.81    -0.07    -1.71     -3.31       -4.04       3.57       -5.39       3.57    42.84 - 46.90           -15.62           34.84  45.68         -   9/13/2007        Yes       Yes        NaN               -0.25   0.43    NaN        1.67000        0.53     880168           NaN       44.29   44.48   44.48   44.33   44.37      0.18                               Bonds - Municipal              Bonds       0.23    1265.0  3080.0      -192.86      -5.89      -615.05     -16.63       -510.97      -14.22       -0.43        0.93       -0.38         U.S., fixed-income, municipal-bonds, bonds  Financial, Exchange Traded Fund, Bonds - Munic...         3080.0\n",
      "MSTY    398    YieldMax MSTR Option Income Strategy ETF                   -               Financial            Exchange Traded Fund     USA     NYSE            NaN    NaN      NaN   NaN    NaN    NaN    NaN    NaN      NaN      NaN      128.85         30.40        4/10/2025             NaN    NaN         NaN           NaN           NaN            NaN            NaN              NaN          NaN        NaN            NaN              NaN       NaN        NaN             NaN                 NaN             NaN       NaN      NaN            NaN              NaN         NaN           NaN            NaN         2.52              16.16    NaN     NaN    NaN     NaN      NaN        NaN      NaN        NaN       NaN         NaN        11.12          3.46        -15.57       -24.17       -29.01      -10.34  3.24   1.41            3.17            7.30    13.29    10.30    -11.24      -13.08      37.95      -49.27      37.95    17.10 - 46.50           -49.27           37.95  59.09         -   2/22/2024        Yes       Yes        NaN                1.99   1.05    NaN        6.40000        1.27    8129918           NaN       22.89   23.13   23.69   23.12   23.59      3.06                   US Equities - Industry Sector  Equities (Stocks)       0.99      19.0  3080.0       438.00      16.57      1400.00      83.43       1760.00      132.89       94.10         NaN         NaN    U.S., single-asset, options, MSTR, covered-call  Financial, Exchange Traded Fund, US Equities -...         3080.0\n",
      "PAAA    399                            PGIM AAA CLO ETF                   -               Financial            Exchange Traded Fund     USA     NYSE            NaN    NaN      NaN   NaN    NaN    NaN    NaN    NaN      NaN      NaN        5.47          2.80         4/1/2025             NaN    NaN         NaN           NaN           NaN            NaN            NaN              NaN          NaN        NaN            NaN              NaN       NaN        NaN             NaN                 NaN             NaN       NaN      NaN            NaN              NaN         NaN           NaN            NaN         0.17               0.19    NaN     NaN    NaN     NaN      NaN        NaN      NaN        NaN       NaN         NaN         0.35         -0.17         -0.60        -0.09         0.46       -0.12  0.03   0.18            0.16            0.46     0.32    -0.06     -0.07       -1.77       1.39       -1.77       1.39    50.44 - 52.06            -1.77            2.34  54.89         -   7/26/2023         No       Yes        NaN                0.02   0.02    NaN        1.15000        0.50     578241           NaN       51.12   51.13   51.16   51.11   51.14      0.04  Bonds - Non Government Asset Backed Securities              Bonds       0.19     298.0  3080.0        32.04       1.05       910.70      42.02       1390.00       82.42        5.64         NaN         NaN                         U.S., debt-securities, CLO  Financial, Exchange Traded Fund, Bonds - Non G...         3080.0\n",
      "FELG    400      Fidelity Enhanced Large Cap Growth ETF                   -               Financial            Exchange Traded Fund     USA     NYSE            NaN    NaN      NaN   NaN    NaN    NaN    NaN    NaN      NaN      NaN        0.53          0.17        3/21/2025             NaN    NaN         NaN           NaN           NaN            NaN            NaN              NaN          NaN        NaN            NaN              NaN       NaN        NaN             NaN                 NaN             NaN       NaN      NaN            NaN              NaN         NaN           NaN            NaN         0.13               0.07    NaN     NaN    NaN     NaN      NaN        NaN      NaN        NaN       NaN         NaN         6.99         -1.85        -12.67        -6.16        11.83       -9.93  1.13   1.11            2.32            3.67     4.96    -1.45     -4.72      -13.24      18.36      -13.71      18.36    26.91 - 36.91           -13.71           27.96  54.82         -  11/20/2023         No       Yes        NaN                1.30   0.29    NaN        0.52240        1.18     616949           NaN       31.35   31.44   31.90   31.34   31.85      1.59                          US Equities - US Style  Equities (Stocks)       0.18     109.0  3050.0         4.28       0.14        41.00       1.36        221.13        7.81       12.27         NaN         NaN                    U.S., equity, large-cap, growth  Financial, Exchange Traded Fund, US Equities -...         3050.0\n",
      "\n",
      "[1560 rows x 112 columns]\n"
     ]
    }
   ],
   "source": [
    "print(df_finviz) "
   ]
  },
  {
   "cell_type": "code",
   "execution_count": 38,
   "metadata": {
    "execution": {
     "iopub.execute_input": "2025-04-10T23:20:33.976927Z",
     "iopub.status.busy": "2025-04-10T23:20:33.974932Z",
     "iopub.status.idle": "2025-04-10T23:20:34.223993Z",
     "shell.execute_reply": "2025-04-10T23:20:34.221971Z"
    }
   },
   "outputs": [
    {
     "data": {
      "text/html": [
       "<div>\n",
       "<style scoped>\n",
       "    .dataframe tbody tr th:only-of-type {\n",
       "        vertical-align: middle;\n",
       "    }\n",
       "\n",
       "    .dataframe tbody tr th {\n",
       "        vertical-align: top;\n",
       "    }\n",
       "\n",
       "    .dataframe thead th {\n",
       "        text-align: right;\n",
       "    }\n",
       "</style>\n",
       "<table border=\"1\" class=\"dataframe\">\n",
       "  <thead>\n",
       "    <tr style=\"text-align: right;\">\n",
       "      <th></th>\n",
       "      <th></th>\n",
       "      <th>Adj Close</th>\n",
       "    </tr>\n",
       "    <tr>\n",
       "      <th>Symbol</th>\n",
       "      <th>Date</th>\n",
       "      <th></th>\n",
       "    </tr>\n",
       "  </thead>\n",
       "  <tbody>\n",
       "    <tr>\n",
       "      <th rowspan=\"5\" valign=\"top\">A</th>\n",
       "      <th>2025-05-09</th>\n",
       "      <td>106.9300</td>\n",
       "    </tr>\n",
       "    <tr>\n",
       "      <th>2025-05-08</th>\n",
       "      <td>108.7000</td>\n",
       "    </tr>\n",
       "    <tr>\n",
       "      <th>2025-05-07</th>\n",
       "      <td>107.5200</td>\n",
       "    </tr>\n",
       "    <tr>\n",
       "      <th>2025-05-06</th>\n",
       "      <td>105.2400</td>\n",
       "    </tr>\n",
       "    <tr>\n",
       "      <th>2025-05-05</th>\n",
       "      <td>108.3700</td>\n",
       "    </tr>\n",
       "    <tr>\n",
       "      <th>...</th>\n",
       "      <th>...</th>\n",
       "      <td>...</td>\n",
       "    </tr>\n",
       "    <tr>\n",
       "      <th rowspan=\"5\" valign=\"top\">ZWS</th>\n",
       "      <th>2024-02-07</th>\n",
       "      <td>32.7917</td>\n",
       "    </tr>\n",
       "    <tr>\n",
       "      <th>2024-02-06</th>\n",
       "      <td>31.4780</td>\n",
       "    </tr>\n",
       "    <tr>\n",
       "      <th>2024-02-05</th>\n",
       "      <td>30.8064</td>\n",
       "    </tr>\n",
       "    <tr>\n",
       "      <th>2024-02-02</th>\n",
       "      <td>30.4805</td>\n",
       "    </tr>\n",
       "    <tr>\n",
       "      <th>2024-02-01</th>\n",
       "      <td>29.8878</td>\n",
       "    </tr>\n",
       "  </tbody>\n",
       "</table>\n",
       "<p>492536 rows × 1 columns</p>\n",
       "</div>"
      ],
      "text/plain": [
       "                   Adj Close\n",
       "Symbol Date                 \n",
       "A      2025-05-09   106.9300\n",
       "       2025-05-08   108.7000\n",
       "       2025-05-07   107.5200\n",
       "       2025-05-06   105.2400\n",
       "       2025-05-05   108.3700\n",
       "...                      ...\n",
       "ZWS    2024-02-07    32.7917\n",
       "       2024-02-06    31.4780\n",
       "       2024-02-05    30.8064\n",
       "       2024-02-02    30.4805\n",
       "       2024-02-01    29.8878\n",
       "\n",
       "[492536 rows x 1 columns]"
      ]
     },
     "metadata": {},
     "output_type": "display_data"
    }
   ],
   "source": [
    "import pandas as pd\n",
    "\n",
    "# Load the DataFrame df_OHLCV_2025-03-14_clean.pkl\n",
    "# df = pd.read_pickle(source_path)\n",
    "df = pd.read_parquet(source_path, engine='pyarrow')\n",
    "\n",
    "# Display the first few rows of the DataFrame to verify\n",
    "df = df[['Adj Close']].copy()\n",
    "display(df)"
   ]
  },
  {
   "cell_type": "code",
   "execution_count": 12,
   "metadata": {
    "execution": {
     "iopub.execute_input": "2025-04-10T23:20:34.230987Z",
     "iopub.status.busy": "2025-04-10T23:20:34.229986Z",
     "iopub.status.idle": "2025-04-10T23:20:34.274225Z",
     "shell.execute_reply": "2025-04-10T23:20:34.272208Z"
    }
   },
   "outputs": [
    {
     "name": "stdout",
     "output_type": "stream",
     "text": [
      "<class 'pandas.core.frame.DataFrame'>\n",
      "MultiIndex: 492536 entries, ('A', Timestamp('2025-05-09 00:00:00')) to ('ZWS', Timestamp('2024-02-01 00:00:00'))\n",
      "Data columns (total 1 columns):\n",
      " #   Column     Non-Null Count   Dtype  \n",
      "---  ------     --------------   -----  \n",
      " 0   Adj Close  492536 non-null  float64\n",
      "dtypes: float64(1)\n",
      "memory usage: 5.7+ MB\n"
     ]
    }
   ],
   "source": [
    "df.info()"
   ]
  },
  {
   "cell_type": "markdown",
   "metadata": {},
   "source": [
    "#### Add date_str arg to select_tickers_data"
   ]
  },
  {
   "cell_type": "code",
   "execution_count": null,
   "metadata": {
    "execution": {
     "iopub.execute_input": "2025-04-10T23:20:34.282225Z",
     "iopub.status.busy": "2025-04-10T23:20:34.281235Z",
     "iopub.status.idle": "2025-04-10T23:21:57.860391Z",
     "shell.execute_reply": "2025-04-10T23:21:57.858372Z"
    }
   },
   "outputs": [
    {
     "name": "stdout",
     "output_type": "stream",
     "text": [
      "                   Adj Close\n",
      "Symbol Date                 \n",
      "AAPL   2025-05-09   198.5300\n",
      "       2025-05-08   197.4900\n",
      "       2025-05-07   196.2500\n",
      "       2025-05-06   198.5100\n",
      "       2025-05-05   198.8900\n",
      "...                      ...\n",
      "FELG   2024-02-07    28.1413\n",
      "       2024-02-06    27.7735\n",
      "       2024-02-05    27.7537\n",
      "       2024-02-02    27.7238\n",
      "       2024-02-01    27.1423\n",
      "\n",
      "[484561 rows x 1 columns]\n"
     ]
    }
   ],
   "source": [
    "import pandas as pd\n",
    "\n",
    "# def select_tickers_data(df, tickers):\n",
    "#   \"\"\"\n",
    "#   Selects data for a list of tickers from a DataFrame with a MultiIndex\n",
    "#   where the first level is the ticker and the second level is the date.\n",
    "\n",
    "#   Args:\n",
    "#     df (pd.DataFrame): The input DataFrame with a MultiIndex.\n",
    "#     tickers (list): A list of ticker symbols to select.\n",
    "\n",
    "#   Returns:\n",
    "#     pd.DataFrame: A DataFrame containing only the data for the specified tickers.\n",
    "#                   Rows for tickers not found will not be included.\n",
    "#   \"\"\"\n",
    "#   valid_tickers = [t for t in tickers if t in df.index.get_level_values(0)]  # Filter out the tickers that do not exist\n",
    "\n",
    "#   if not valid_tickers:\n",
    "#     print(\"No valid tickers found in the DataFrame. Returning an empty DataFrame.\")\n",
    "#     return pd.DataFrame()\n",
    "\n",
    "#   try:\n",
    "#     ticker_df = df.loc[valid_tickers]\n",
    "#     return ticker_df\n",
    "#   except KeyError as e:\n",
    "#     print(f\"KeyError after filtering valid tickers: {e}\") #Added to help debugging.\n",
    "#     return pd.DataFrame()\n",
    "\n",
    "\n",
    "# # Example usage:\n",
    "# # ticker_list = [\"UBS\", \"AAPL\", \"MSFT\", \"GEV\"]  # Include some valid and invalid tickers\n",
    "# selected_data = select_tickers_data(df, tickers)\n",
    "# print(selected_data)"
   ]
  },
  {
   "cell_type": "code",
   "execution_count": null,
   "metadata": {},
   "outputs": [],
   "source": [
    "# import pandas as pd\n",
    "\n",
    "# def select_tickers_data(df, tickers, end_date=None):\n",
    "#   \"\"\"\n",
    "#   Selects data for a list of tickers from a DataFrame with a MultiIndex\n",
    "#   where the first level is the ticker and the second level is the date.\n",
    "#   Filters data to include only dates up to and including the specified end_date.\n",
    "\n",
    "#   Args:\n",
    "#     df (pd.DataFrame): The input DataFrame with a MultiIndex (ticker, date).\n",
    "#     tickers (list): A list of ticker symbols to select.\n",
    "#     end_date (str or pd.Timestamp, optional): The last date to include in the\n",
    "#                                              returned data. If None, the last date\n",
    "#                                              in the entire input DataFrame will be used.\n",
    "#                                              Dates more recent than end_date are excluded.\n",
    "\n",
    "#   Returns:\n",
    "#     pd.DataFrame: A DataFrame containing data for the specified tickers\n",
    "#                   up to the end_date. Rows for tickers not found or\n",
    "#                   dates outside the range will not be included.\n",
    "#   \"\"\"\n",
    "#   if not isinstance(df.index, pd.MultiIndex) or len(df.index.levels) < 2:\n",
    "#     print(\"DataFrame does not have the expected MultiIndex (ticker, date). Returning an empty DataFrame.\")\n",
    "#     return pd.DataFrame()\n",
    "\n",
    "#   # Ensure the date level of the index is datetime-like for proper comparison and slicing\n",
    "#   # This assumes the second level (index 1) is the date level.\n",
    "#   # We try to convert, but if it's already datetime, it's a no-op.\n",
    "#   # If it can't be converted, it might lead to errors later or unexpected behavior.\n",
    "#   try:\n",
    "#       # Create a new index with the date level converted, then assign back if levels are named\n",
    "#       # If levels are not named, we have to be careful.\n",
    "#       # A safer way if levels might not be datetime is to check first or handle errors during slicing.\n",
    "#       # For now, let's assume it's mostly okay or will be caught by Timestamp conversion later.\n",
    "#       # It's better if the df comes with date level already as datetime.\n",
    "#       pass # Let's assume for now the date level is appropriate or will be handled by Timestamp conversion.\n",
    "#   except Exception as e:\n",
    "#       print(f\"Warning: Could not ensure date level of index is datetime: {e}\")\n",
    "\n",
    "\n",
    "#   # Filter out tickers that do not exist in the DataFrame's first level index\n",
    "#   all_df_tickers = df.index.get_level_values(0).unique()\n",
    "#   valid_tickers = [t for t in tickers if t in all_df_tickers]\n",
    "\n",
    "#   if not valid_tickers:\n",
    "#     print(\"No valid tickers found in the DataFrame. Returning an empty DataFrame.\")\n",
    "#     return pd.DataFrame()\n",
    "\n",
    "#   # Determine the actual end_date to use for filtering\n",
    "#   if end_date is None:\n",
    "#     if df.empty or df.index.get_level_values(1).empty:\n",
    "#         print(\"DataFrame is empty or has no dates to determine a default end_date. Returning empty DataFrame.\")\n",
    "#         return pd.DataFrame()\n",
    "#     # Default to the last date in the entire DataFrame's second level index\n",
    "#     actual_end_date = df.index.get_level_values(1).max()\n",
    "#   else:\n",
    "#     try:\n",
    "#       # Convert provided end_date to Timestamp for consistent comparison and slicing\n",
    "#       actual_end_date = pd.Timestamp(end_date)\n",
    "#     except ValueError:\n",
    "#       print(f\"Warning: Invalid end_date format '{end_date}'. Using the latest date in the DataFrame instead.\")\n",
    "#       if df.empty or df.index.get_level_values(1).empty:\n",
    "#           print(\"DataFrame is empty or has no dates to determine a fallback end_date. Returning empty DataFrame.\")\n",
    "#           return pd.DataFrame()\n",
    "#       actual_end_date = df.index.get_level_values(1).max()\n",
    "\n",
    "#   try:\n",
    "#     # Using .loc with a tuple for MultiIndex: (level0_selection, level1_selection)\n",
    "#     # slice(None, actual_end_date) selects all dates up to and including actual_end_date\n",
    "#     # Need to ensure the index is sorted for efficient slicing, especially the date level\n",
    "#     if not df.index.is_monotonic_increasing:\n",
    "#         # print(\"Warning: DataFrame index is not sorted. Sorting for optimal performance.\") # Optional warning\n",
    "#         df_sorted = df.sort_index() # Sort by all levels\n",
    "#     else:\n",
    "#         df_sorted = df\n",
    "\n",
    "#     # Perform the selection\n",
    "#     # The .loc accessor can handle a list for the first level and a slice for the second level\n",
    "#     # within a tuple: df.loc[(list_of_tickers, date_slice), :]\n",
    "#     # The : at the end is for all columns, which is implicit if omitted.\n",
    "#     ticker_df = df_sorted.loc[(valid_tickers, slice(None, actual_end_date))]\n",
    "\n",
    "#     return ticker_df\n",
    "#   except KeyError:\n",
    "#     # This might happen if, after date slicing, some valid_tickers have no data left.\n",
    "#     # Or if there's an issue with how .loc interprets the tuple with an empty date slice.\n",
    "#     # A more robust way is to filter dates first on a broader selection, then tickers,\n",
    "#     # or handle the empty result from the slice gracefully.\n",
    "#     # print(f\"KeyError during data selection (possibly no data for specified tickers up to end_date): {e}\")\n",
    "#     # If the slice results in no valid dates for any of the tickers, an empty DataFrame is often returned.\n",
    "#     # If valid_tickers contains items not in df.index.levels[0] (should be caught by valid_tickers check),\n",
    "#     # or if the date slice is completely out of bounds for *all* selected tickers.\n",
    "#     # For robustness, return an empty DataFrame.\n",
    "#     return pd.DataFrame()\n",
    "#   except Exception as e:\n",
    "#     print(f\"An unexpected error occurred during data selection: {e}\")\n",
    "#     return pd.DataFrame()\n",
    "\n",
    "# # # --- Example Usage ---\n",
    "# # if __name__ == '__main__':\n",
    "# #   # Create a sample DataFrame\n",
    "# #   data = {\n",
    "# #       ('AAPL', '2023-01-01'): {'price': 150, 'volume': 1000},\n",
    "# #       ('AAPL', '2023-01-02'): {'price': 152, 'volume': 1200},\n",
    "# #       ('AAPL', '2023-01-03'): {'price': 151, 'volume': 1100},\n",
    "# #       ('AAPL', '2023-01-04'): {'price': 155, 'volume': 1300},\n",
    "# #       ('MSFT', '2023-01-01'): {'price': 250, 'volume': 800},\n",
    "# #       ('MSFT', '2023-01-02'): {'price': 255, 'volume': 900},\n",
    "# #       ('MSFT', '2023-01-03'): {'price': 253, 'volume': 850},\n",
    "# #       ('GOOG', '2023-01-05'): {'price': 100, 'volume': 2000} # Date later than others\n",
    "# #   }\n",
    "# #   df = pd.DataFrame.from_dict(data, orient='index')\n",
    "# #   df.index = pd.MultiIndex.from_tuples(df.index, names=['ticker', 'date'])\n",
    "# #   df.index = df.index.set_levels(pd.to_datetime(df.index.levels[1]), level='date') # Convert date level to datetime\n",
    "# #   df = df.sort_index() # Important for performance and correctness of slicing\n",
    "\n",
    "# #   print(\"Original DataFrame:\")\n",
    "# #   print(df)\n",
    "# #   print(\"\\n\" + \"=\"*30 + \"\\n\")\n",
    "\n",
    "# #   # Test case 1: Select specific tickers with an end_date\n",
    "# #   print(\"Test Case 1: AAPL, MSFT, end_date='2023-01-02'\")\n",
    "# #   selected_data_1 = select_tickers_data(df.copy(), ['AAPL', 'MSFT'], end_date='2023-01-02')\n",
    "# #   print(selected_data_1)\n",
    "# #   print(\"\\n\" + \"=\"*30 + \"\\n\")\n",
    "\n",
    "# #   # Test case 2: Select tickers, end_date is None (should use max date in df: 2023-01-05)\n",
    "# #   print(\"Test Case 2: AAPL, GOOG, end_date=None\")\n",
    "# #   selected_data_2 = select_tickers_data(df.copy(), ['AAPL', 'GOOG'])\n",
    "# #   print(selected_data_2) # AAPL up to 01-04, GOOG up to 01-05\n",
    "# #   print(\"\\n\" + \"=\"*30 + \"\\n\")\n",
    "\n",
    "# #   # Test case 3: Ticker not found\n",
    "# #   print(\"Test Case 3: XYZ, end_date='2023-01-03'\")\n",
    "# #   selected_data_3 = select_tickers_data(df.copy(), ['XYZ'], end_date='2023-01-03')\n",
    "# #   print(selected_data_3)\n",
    "# #   print(\"\\n\" + \"=\"*30 + \"\\n\")\n",
    "\n",
    "# #   # Test case 4: End_date before any data for a ticker\n",
    "# #   print(\"Test Case 4: AAPL, end_date='2022-12-31'\")\n",
    "# #   selected_data_4 = select_tickers_data(df.copy(), ['AAPL'], end_date='2022-12-31')\n",
    "# #   print(selected_data_4)\n",
    "# #   print(\"\\n\" + \"=\"*30 + \"\\n\")\n",
    "\n",
    "# #   # Test case 5: End_date with invalid format\n",
    "# #   print(\"Test Case 5: MSFT, end_date='INVALID-DATE'\")\n",
    "# #   selected_data_5 = select_tickers_data(df.copy(), ['MSFT'], end_date='INVALID-DATE')\n",
    "# #   print(selected_data_5) # Should use max date of MSFT (2023-01-03) due to fallback\n",
    "# #   print(\"\\n\" + \"=\"*30 + \"\\n\")\n",
    "\n",
    "# #   # Test case 6: Empty tickers list\n",
    "# #   print(\"Test Case 6: Empty tickers list\")\n",
    "# #   selected_data_6 = select_tickers_data(df.copy(), [], end_date='2023-01-03')\n",
    "# #   print(selected_data_6)\n",
    "# #   print(\"\\n\" + \"=\"*30 + \"\\n\")\n",
    "\n",
    "# #   # Test case 7: Empty input DataFrame\n",
    "# #   print(\"Test Case 7: Empty input DataFrame\")\n",
    "# #   empty_df = pd.DataFrame(columns=['price', 'volume'],\n",
    "# #                           index=pd.MultiIndex(levels=[[],[]], codes=[[],[]], names=['ticker', 'date']))\n",
    "# #   selected_data_7 = select_tickers_data(empty_df, ['AAPL'], end_date='2023-01-03')\n",
    "# #   print(selected_data_7)\n",
    "# #   print(\"\\n\" + \"=\"*30 + \"\\n\")\n",
    "\n",
    "# #   # Test case 8: end_date after all data for selected tickers but before max date in df\n",
    "# #   print(\"Test Case 8: MSFT, end_date='2023-01-04'\")\n",
    "# #   # MSFT data only up to 2023-01-03. Max date in df is 2023-01-05 (GOOG).\n",
    "# #   selected_data_8 = select_tickers_data(df.copy(), ['MSFT'], end_date='2023-01-04')\n",
    "# #   print(selected_data_8) # Should show all MSFT data\n",
    "\n"
   ]
  },
  {
   "cell_type": "code",
   "execution_count": null,
   "metadata": {},
   "outputs": [],
   "source": [
    "import pandas as pd\n",
    "\n",
    "def select_tickers_data(df, tickers, end_date=None):\n",
    "    \"\"\"\n",
    "    Selects data for a list of tickers from a DataFrame with a MultiIndex\n",
    "    where the first level is the ticker and the second level is the date.\n",
    "    Optionally filters the data to include only dates up to and including end_date.\n",
    "\n",
    "    Args:\n",
    "        df (pd.DataFrame): The input DataFrame with a MultiIndex\n",
    "                           where the first level is the ticker and the second\n",
    "                           level is the date.\n",
    "        tickers (list): A list of ticker symbols to select.\n",
    "        end_date (str or pd.Timestamp, optional): The last date to include\n",
    "                                                  in the returned DataFrame.\n",
    "                                                  If None (default), all dates are included.\n",
    "                                                  Can be a string that pandas can parse as a date\n",
    "                                                  or a pandas Timestamp object.\n",
    "\n",
    "    Returns:\n",
    "        pd.DataFrame: A DataFrame containing only the data for the specified tickers\n",
    "                      and dates up to the end_date (if provided).\n",
    "                      Rows for tickers not found will not be included.\n",
    "    \"\"\"\n",
    "    valid_tickers = [t for t in tickers if t in df.index.get_level_values(0)]  # Filter out the tickers that do not exist\n",
    "\n",
    "    if not valid_tickers:\n",
    "        print(\"No valid tickers found in the DataFrame. Returning an empty DataFrame.\")\n",
    "        return pd.DataFrame()\n",
    "\n",
    "    try:\n",
    "        ticker_df = df.loc[valid_tickers]\n",
    "        if end_date is not None:\n",
    "            if isinstance(end_date, str):\n",
    "                end_date = pd.to_datetime(end_date)\n",
    "            # Ensure the second level of the MultiIndex is datetime objects for comparison\n",
    "            if not isinstance(ticker_df.index.get_level_values(1)[0], pd.Timestamp):\n",
    "                ticker_df.index = ticker_df.index.set_levels(pd.to_datetime(ticker_df.index.get_level_values(1)), level=1)\n",
    "            ticker_df = ticker_df[ticker_df.index.get_level_values(1) <= end_date]\n",
    "        return ticker_df\n",
    "    except KeyError as e:\n",
    "        print(f\"KeyError after filtering valid tickers: {e}\") #Added to help debugging.\n",
    "        return pd.DataFrame()"
   ]
  },
  {
   "cell_type": "code",
   "execution_count": 43,
   "metadata": {},
   "outputs": [
    {
     "name": "stdout",
     "output_type": "stream",
     "text": [
      "                   Adj Close\n",
      "Symbol Date                 \n",
      "AAPL   2025-04-25   209.2800\n",
      "       2025-04-24   208.3700\n",
      "       2025-04-23   204.6000\n",
      "       2025-04-22   199.7400\n",
      "       2025-04-21   193.1600\n",
      "...                      ...\n",
      "FELG   2024-02-07    28.1413\n",
      "       2024-02-06    27.7735\n",
      "       2024-02-05    27.7537\n",
      "       2024-02-02    27.7238\n",
      "       2024-02-01    27.1423\n",
      "\n",
      "[469371 rows x 1 columns]\n"
     ]
    }
   ],
   "source": [
    "selected_data = select_tickers_data(df, tickers, end_date=date_str)\n",
    "print(selected_data)"
   ]
  },
  {
   "cell_type": "code",
   "execution_count": 45,
   "metadata": {},
   "outputs": [
    {
     "data": {
      "text/html": [
       "<div>\n",
       "<style scoped>\n",
       "    .dataframe tbody tr th:only-of-type {\n",
       "        vertical-align: middle;\n",
       "    }\n",
       "\n",
       "    .dataframe tbody tr th {\n",
       "        vertical-align: top;\n",
       "    }\n",
       "\n",
       "    .dataframe thead th {\n",
       "        text-align: right;\n",
       "    }\n",
       "</style>\n",
       "<table border=\"1\" class=\"dataframe\">\n",
       "  <thead>\n",
       "    <tr style=\"text-align: right;\">\n",
       "      <th></th>\n",
       "      <th>Adj Close</th>\n",
       "    </tr>\n",
       "    <tr>\n",
       "      <th>Date</th>\n",
       "      <th></th>\n",
       "    </tr>\n",
       "  </thead>\n",
       "  <tbody>\n",
       "    <tr>\n",
       "      <th>2025-04-25</th>\n",
       "      <td>106.280</td>\n",
       "    </tr>\n",
       "    <tr>\n",
       "      <th>2025-04-24</th>\n",
       "      <td>107.020</td>\n",
       "    </tr>\n",
       "    <tr>\n",
       "      <th>2025-04-23</th>\n",
       "      <td>105.000</td>\n",
       "    </tr>\n",
       "    <tr>\n",
       "      <th>2025-04-22</th>\n",
       "      <td>102.810</td>\n",
       "    </tr>\n",
       "    <tr>\n",
       "      <th>2025-04-21</th>\n",
       "      <td>100.260</td>\n",
       "    </tr>\n",
       "    <tr>\n",
       "      <th>...</th>\n",
       "      <td>...</td>\n",
       "    </tr>\n",
       "    <tr>\n",
       "      <th>2024-02-07</th>\n",
       "      <td>131.595</td>\n",
       "    </tr>\n",
       "    <tr>\n",
       "      <th>2024-02-06</th>\n",
       "      <td>134.638</td>\n",
       "    </tr>\n",
       "    <tr>\n",
       "      <th>2024-02-05</th>\n",
       "      <td>131.625</td>\n",
       "    </tr>\n",
       "    <tr>\n",
       "      <th>2024-02-02</th>\n",
       "      <td>131.774</td>\n",
       "    </tr>\n",
       "    <tr>\n",
       "      <th>2024-02-01</th>\n",
       "      <td>131.853</td>\n",
       "    </tr>\n",
       "  </tbody>\n",
       "</table>\n",
       "<p>309 rows × 1 columns</p>\n",
       "</div>"
      ],
      "text/plain": [
       "            Adj Close\n",
       "Date                 \n",
       "2025-04-25    106.280\n",
       "2025-04-24    107.020\n",
       "2025-04-23    105.000\n",
       "2025-04-22    102.810\n",
       "2025-04-21    100.260\n",
       "...               ...\n",
       "2024-02-07    131.595\n",
       "2024-02-06    134.638\n",
       "2024-02-05    131.625\n",
       "2024-02-02    131.774\n",
       "2024-02-01    131.853\n",
       "\n",
       "[309 rows x 1 columns]"
      ]
     },
     "execution_count": 45,
     "metadata": {},
     "output_type": "execute_result"
    }
   ],
   "source": [
    "selected_data.loc[\"A\"]"
   ]
  },
  {
   "cell_type": "code",
   "execution_count": 51,
   "metadata": {
    "execution": {
     "iopub.execute_input": "2025-04-10T23:21:57.867396Z",
     "iopub.status.busy": "2025-04-10T23:21:57.866390Z",
     "iopub.status.idle": "2025-04-10T23:22:25.538470Z",
     "shell.execute_reply": "2025-04-10T23:22:25.536448Z"
    }
   },
   "outputs": [],
   "source": [
    "# Get root directory (assuming notebook is in root/notebooks/)\n",
    "NOTEBOOK_DIR = Path.cwd()\n",
    "ROOT_DIR = NOTEBOOK_DIR.parent if NOTEBOOK_DIR.name == 'notebooks' else NOTEBOOK_DIR\n",
    "\n",
    "import sys\n",
    "\n",
    "# Add src directory to Python path\n",
    "sys.path.append(str(ROOT_DIR / 'src'))\n",
    "\n",
    "import utils\n",
    "\n",
    "list_dfs = utils.get_latest_dfs(selected_data, DAYS_RATIO)"
   ]
  },
  {
   "cell_type": "code",
   "execution_count": 52,
   "metadata": {},
   "outputs": [
    {
     "name": "stdout",
     "output_type": "stream",
     "text": [
      "[3, 5, 10, 15, 30, 60, 120, 250]\n",
      "2025-04-25\n"
     ]
    }
   ],
   "source": [
    "print(DAYS_RATIO)\n",
    "print(date_str)"
   ]
  },
  {
   "cell_type": "code",
   "execution_count": 53,
   "metadata": {},
   "outputs": [
    {
     "name": "stdout",
     "output_type": "stream",
     "text": [
      "3\n",
      "            Adj Close\n",
      "Date                 \n",
      "2025-04-23     105.00\n",
      "2025-04-24     107.02\n",
      "2025-04-25     106.28\n"
     ]
    }
   ],
   "source": [
    "print(len(list_dfs[0].loc[\"A\"]))\n",
    "print(list_dfs[0].loc[\"A\"])\n"
   ]
  },
  {
   "cell_type": "code",
   "execution_count": 54,
   "metadata": {
    "execution": {
     "iopub.execute_input": "2025-04-10T23:22:25.545462Z",
     "iopub.status.busy": "2025-04-10T23:22:25.544462Z",
     "iopub.status.idle": "2025-04-10T23:23:32.896939Z",
     "shell.execute_reply": "2025-04-10T23:23:32.894918Z"
    }
   },
   "outputs": [
    {
     "name": "stdout",
     "output_type": "stream",
     "text": [
      "\n",
      "Combined performance metrics DataFrame:\n",
      "       Sharpe 3d  Sortino 3d  Omega 3d  Sharpe 5d  Sortino 5d  Omega 5d  Sharpe 10d  Sortino 10d  Omega 10d  Sharpe 15d  Sortino 15d  Omega 15d  Sharpe 30d  Sortino 30d  Omega 30d  Sharpe 60d  Sortino 60d  Omega 60d  Sharpe 120d  Sortino 120d  Omega 120d  Sharpe 250d  Sortino 250d  Omega 250d\n",
      "A       5.153101   19.052913  2.697368  15.793771   65.559711  9.259747    3.204522     5.896718   1.619189    1.202716     1.867554   1.226958   -2.258456    -2.893618   0.672376   -3.871692    -4.635103   0.500579    -1.241176     -1.661680    0.804164    -0.846579     -1.118455    0.859515\n",
      "AA      3.723058   11.141484  1.992562  10.880600   28.880362  4.638584    1.956660     2.954931   1.380855    1.063227     1.742029   1.200455   -2.404414    -3.160253   0.660904   -1.736037    -2.276252   0.738186    -1.412166     -1.848542    0.780054    -0.481224     -0.666162    0.922277\n",
      "AAL    30.773939         inf       NaN  21.440824         inf       NaN    0.627020     0.870148   1.105977    0.959973     1.686722   1.221849   -0.564022    -0.880908   0.893880   -2.831226    -3.910800   0.571980    -0.808785     -1.219591    0.848549    -0.487410     -0.718294    0.907541\n",
      "AAON   36.487069         inf       NaN  47.280299         inf       NaN    2.546433     3.924418   1.466622    4.647126    10.956734   2.263572    1.205968     2.089323   1.223243   -1.314793    -1.632743   0.775881    -0.564799     -0.742476    0.891811     0.141717      0.188445    1.029306\n",
      "AAPL   17.945283         inf       NaN  25.731176         inf       NaN    4.214191     6.719272   1.915683    2.638663     5.831754   1.629695    0.008446     0.013045   1.001637   -0.862319    -1.246745   0.843918    -0.305491     -0.438251    0.939919     0.708200      1.053839    1.149028\n",
      "...          ...         ...       ...        ...         ...       ...         ...          ...        ...         ...          ...        ...         ...          ...        ...         ...          ...        ...          ...           ...         ...          ...           ...         ...\n",
      "ZM     16.571453         inf       NaN  24.266729         inf       NaN    6.973265    15.332471   3.056063    4.982416    11.669392   2.441814    0.615267     0.902691   1.120039   -1.487032    -1.872405   0.753385     0.177888      0.253722    1.032343     0.657177      0.993895    1.128121\n",
      "ZS     37.815905         inf       NaN  29.846140         inf       NaN    6.101982    11.687786   2.575558    5.746303    17.350204   3.106701    1.397971     2.245767   1.291582    0.670596     0.997611   1.122917     0.944566      1.399506    1.175791     0.582762      0.795053    1.110288\n",
      "ZTO     7.573638   46.565924  5.148422   6.960423   33.589123  4.646616    5.653418    23.932647   3.716814    1.743830     2.697405   1.458630   -0.622126    -0.832692   0.885257    0.111921     0.152727   1.019922    -1.009299     -1.329085    0.842693    -0.203295     -0.297884    0.966104\n",
      "ZTS   121.720614         inf       NaN  24.933136         inf       NaN    4.115593     7.084020   1.799754    0.738671     1.190823   1.131366   -1.104859    -1.525003   0.827744   -1.454111    -1.854758   0.781045    -1.131857     -1.446457    0.827155    -0.120018     -0.168213    0.979428\n",
      "ZWS    14.063795         inf       NaN  25.101555         inf       NaN   11.289056    60.352729  11.711823    5.327053    10.974979   2.597136    0.528012     0.741408   1.103893   -1.629498    -2.113156   0.745290    -0.399452     -0.539021    0.930958     0.270604      0.388162    1.047580\n",
      "\n",
      "[1518 rows x 24 columns]\n"
     ]
    }
   ],
   "source": [
    "import numpy as np\n",
    "\n",
    "all_results = {}\n",
    "\n",
    "for _df in list_dfs:\n",
    "    tickers_in_df = _df.index.get_level_values(0).unique()\n",
    "    for ticker in tickers_in_df:\n",
    "        # Suppress division warnings just for this calculation\n",
    "        with np.errstate(divide='ignore', invalid='ignore'):\n",
    "            result_df = utils.analyze_stock(_df, ticker, risk_free_rate=RISK_FREE_RATE)\n",
    "        \n",
    "        if result_df is not None:\n",
    "            # Extract the ticker name from the result_df index\n",
    "            ticker_name = result_df.index[0]\n",
    "            # Convert the single-row DataFrame to a dictionary\n",
    "            metrics = result_df.iloc[0].to_dict()\n",
    "            \n",
    "            # Update the existing ticker entry or create a new one\n",
    "            if ticker_name in all_results:\n",
    "                all_results[ticker_name].update(metrics)\n",
    "            else:\n",
    "                all_results[ticker_name] = metrics\n",
    "\n",
    "if all_results:\n",
    "    combined_df = pd.DataFrame.from_dict(all_results, orient='index')\n",
    "    print(\"\\nCombined performance metrics DataFrame:\")\n",
    "    print(combined_df)\n",
    "else:\n",
    "    print(\"No performance metrics were calculated.\")"
   ]
  },
  {
   "cell_type": "code",
   "execution_count": 55,
   "metadata": {},
   "outputs": [
    {
     "name": "stdout",
     "output_type": "stream",
     "text": [
      "<class 'pandas.core.frame.DataFrame'>\n",
      "Index: 1518 entries, A to ZWS\n",
      "Data columns (total 24 columns):\n",
      " #   Column        Non-Null Count  Dtype  \n",
      "---  ------        --------------  -----  \n",
      " 0   Sharpe 3d     1518 non-null   float64\n",
      " 1   Sortino 3d    1518 non-null   float64\n",
      " 2   Omega 3d      800 non-null    float64\n",
      " 3   Sharpe 5d     1518 non-null   float64\n",
      " 4   Sortino 5d    1518 non-null   float64\n",
      " 5   Omega 5d      930 non-null    float64\n",
      " 6   Sharpe 10d    1518 non-null   float64\n",
      " 7   Sortino 10d   1518 non-null   float64\n",
      " 8   Omega 10d     1515 non-null   float64\n",
      " 9   Sharpe 15d    1518 non-null   float64\n",
      " 10  Sortino 15d   1518 non-null   float64\n",
      " 11  Omega 15d     1518 non-null   float64\n",
      " 12  Sharpe 30d    1518 non-null   float64\n",
      " 13  Sortino 30d   1518 non-null   float64\n",
      " 14  Omega 30d     1518 non-null   float64\n",
      " 15  Sharpe 60d    1518 non-null   float64\n",
      " 16  Sortino 60d   1518 non-null   float64\n",
      " 17  Omega 60d     1518 non-null   float64\n",
      " 18  Sharpe 120d   1518 non-null   float64\n",
      " 19  Sortino 120d  1518 non-null   float64\n",
      " 20  Omega 120d    1518 non-null   float64\n",
      " 21  Sharpe 250d   1518 non-null   float64\n",
      " 22  Sortino 250d  1518 non-null   float64\n",
      " 23  Omega 250d    1518 non-null   float64\n",
      "dtypes: float64(24)\n",
      "memory usage: 296.5+ KB\n"
     ]
    }
   ],
   "source": [
    "combined_df.info()"
   ]
  },
  {
   "cell_type": "code",
   "execution_count": 56,
   "metadata": {
    "execution": {
     "iopub.execute_input": "2025-04-10T23:23:32.903933Z",
     "iopub.status.busy": "2025-04-10T23:23:32.902939Z",
     "iopub.status.idle": "2025-04-10T23:23:33.077437Z",
     "shell.execute_reply": "2025-04-10T23:23:33.076061Z"
    }
   },
   "outputs": [
    {
     "name": "stdout",
     "output_type": "stream",
     "text": [
      "combined_df has_nan_inf: True\n",
      "Replacing NaN/Inf values with column-specific max/min values\n",
      "NaN/Inf Locations BEFORE Replacement:\n",
      "Column: Sortino 3d\n",
      "  Inf: ['AAL', 'AAON', 'AAPL', 'ABBV', 'ABEV', 'ABNB', 'ACIW', 'ACN', 'ACWI', 'ACWX', 'ADBE', 'AEG', 'AER', 'AFRM', 'AGG', 'AGNC', 'AKAM', 'ALC', 'ALNY', 'AMAT', 'AMD', 'AMGN', 'AMZN', 'AN', 'ANET', 'ANSS', 'APA', 'APG', 'APO', 'APP', 'APTV', 'AR', 'ARCC', 'ARES', 'ARGX', 'ARKB', 'ARKK', 'ARM', 'AS', 'ASML', 'ASND', 'ASR', 'ASX', 'ATI', 'AUR', 'AVDE', 'AVDV', 'AVGO', 'AVUS', 'AWI', 'AXON', 'AZN', 'BA', 'BABA', 'BAC', 'BAH', 'BALL', 'BAM', 'BAP', 'BBEU', 'BBIN', 'BBIO', 'BBJP', 'BBUS', 'BBVA', 'BBY', 'BCH', 'BDX', 'BEP', 'BG', 'BIDU', 'BILS', 'BINC', 'BIRK', 'BITB', 'BIV', 'BKNG', 'BKR', 'BLDR', 'BLV', 'BMRN', 'BN', 'BND', 'BNS', 'BNT', 'BOKF', 'BOND', 'BP', 'BPMC', 'BRBR', 'BRFS', 'BRKR', 'BROS', 'BSAC', 'BSCQ', 'BSCR', 'BSV', 'BSX', 'BUFR', 'BURL', 'BWXT', 'BXSL', 'C', 'CAE', 'CAH', 'CALF', 'CBOE', 'CCJ', 'CDNS', 'CEG', 'CF', 'CFLT', 'CG', 'CGCP', 'CGDV', 'CGGO', 'CGGR', 'CGUS', 'CGXU', 'CHWY', 'CIBR', 'CIEN', 'CM', 'CME', 'CMF', 'CMG', 'CNM', 'CNP', 'CNQ', 'COHR', 'COIN', 'COOP', 'CPAY', 'CPNG', 'CQP', 'CRBG', 'CRDO', 'CRH', 'CRM', 'CRWD', 'CSCO', 'CTSH', 'CVLT', 'CVNA', 'CW', 'CWB', 'CWEN', 'CWEN-A', 'CWST', 'CX', 'CYBR', 'CZR', 'DASH', 'DAY', 'DB', 'DBEF', 'DBX', 'DDOG', 'DELL', 'DFAC', 'DFAI', 'DFAU', 'DFAX', 'DFCF', 'DFIC', 'DFIV', 'DFSD', 'DFUS', 'DGRO', 'DGRW', 'DHR', 'DIS', 'DIVO', 'DLR', 'DOCS', 'DOCU', 'DOW', 'DOX', 'DRS', 'DSI', 'DT', 'DUHP', 'DUOL', 'DXCM', 'DXJ', 'DYNF', 'E', 'EA', 'EAGG', 'EBAY', 'EDU', 'EDV', 'EFA', 'EFG', 'EFV', 'EGP', 'EHC', 'EL', 'EMB', 'EME', 'EMR', 'ENPH', 'ENSG', 'ENTG', 'EPAM', 'EQIX', 'EQT', 'ERJ', 'ESGD', 'ESGU', 'ESGV', 'ESLT', 'ESTC', 'ETN', 'EUFN', 'EW', 'EWJ', 'EWT', 'EWU', 'EWZ', 'EXEL', 'EXPE', 'EZU', 'FANG', 'FBCG', 'FBND', 'FBTC', 'FCFS', 'FDN', 'FDVV', 'FELC', 'FELG', 'FER', 'FEZ', 'FFIV', 'FHN', 'FICO', 'FIX', 'FIXD', 'FLEX', 'FLOT', 'FLS', 'FMS', 'FMX', 'FN', 'FNDF', 'FNGA', 'FOX', 'FOXA', 'FPE', 'FRHC', 'FSEC', 'FSLR', 'FTAI', 'FTEC', 'FTI', 'FTNT', 'FTS', 'FTSM', 'FWONA', 'FWONK', 'FYBR', 'G', 'GAP', 'GBIL', 'GBTC', 'GD', 'GDDY', 'GE', 'GEHC', 'GEN', 'GFL', 'GFS', 'GGG', 'GLW', 'GM', 'GMAB', 'GOOG', 'GOOGL', 'GOVT', 'GPN', 'GRAB', 'GSIE', 'GSLC', 'GTLB', 'GTLS', 'GVI', 'HALO', 'HAS', 'HEFA', 'HII', 'HLNE', 'HLT', 'HMC', 'HOOD', 'HPE', 'HUBS', 'HWM', 'HYD', 'HYG', 'HYLB', 'IBDR', 'IBIT', 'IBKR', 'ICE', 'ICL', 'ICSH', 'IDEV', 'IDV', 'IEF', 'IEFA', 'IEI', 'IEUR', 'IGIB', 'IGM', 'IGSB', 'IGV', 'IHG', 'IHI', 'IJT', 'IMO', 'INCY', 'INFA', 'INFY', 'INTU', 'IONQ', 'IOO', 'IOT', 'IQLT', 'IRM', 'ISRG', 'ISTB', 'ITA', 'ITOT', 'IUSB', 'IUSG', 'IVV', 'IVW', 'IWB', 'IWF', 'IWM', 'IWO', 'IWP', 'IWV', 'IWY', 'IXJ', 'IXN', 'IXUS', 'IYW', 'JAAA', 'JAZZ', 'JBL', 'JCI', 'JCPB', 'JEF', 'JEPI', 'JEPQ', 'JGRO', 'JIRE', 'JMBS', 'JMST', 'JNK', 'JNPR', 'JPIE', 'JPST', 'JQUA', 'JXN', 'KB', 'KD', 'KEYS', 'KKR', 'KLAC', 'KNTK', 'KVYO', 'LAD', 'LCID', 'LDOS', 'LEVI', 'LII', 'LLY', 'LLYVA', 'LLYVK', 'LMBS', 'LMT', 'LNG', 'LNW', 'LOGI', 'LQD', 'LRCX', 'LTH', 'LUV', 'LYB', 'LYV', 'MANH', 'MAS', 'MASI', 'MBB', 'MBLY', 'MDB', 'MDGL', 'MELI', 'META', 'MFC', 'MGA', 'MGC', 'MGK', 'MGM', 'MINT', 'MKTX', 'MMYT', 'MNDY', 'MOAT', 'MORN', 'MOS', 'MPLX', 'MPWR', 'MRK', 'MRVL', 'MS', 'MSA', 'MSFT', 'MSI', 'MSTR', 'MT', 'MTSI', 'MTUM', 'MTZ', 'MU', 'MUB', 'MUFG', 'NBIX', 'NCLH', 'NDAQ', 'NEAR', 'NET', 'NFLX', 'NICE', 'NLY', 'NMR', 'NOW', 'NRG', 'NTAP', 'NTNX', 'NTR', 'NU', 'NUE', 'NVDA', 'NVDL', 'NVS', 'NVT', 'NWS', 'NWSA', 'NXT', 'NYT', 'OBDC', 'OC', 'OEF', 'OKE', 'OKTA', 'OLED', 'OMF', 'OMFL', 'ONEQ', 'ONON', 'ORCL', 'OSK', 'OTEX', 'OTIS', 'OVV', 'OWL', 'PAA', 'PAAA', 'PAC', 'PAGP', 'PANW', 'PARA', 'PATH', 'PAYC', 'PBA', 'PBR-A', 'PBUS', 'PCOR', 'PCTY', 'PDBC', 'PDD', 'PDI', 'PEGA', 'PEN', 'PFE', 'PFF', 'PGX', 'PH', 'PHG', 'PINS', 'PLTR', 'PM', 'PODD', 'PPA', 'PR', 'PSN', 'PSTG', 'PTC', 'PULS', 'PWR', 'PYLD', 'PYPL', 'QCOM', 'QLD', 'QQQ', 'QQQM', 'QRVO', 'QUAL', 'QXO', 'QYLD', 'RACE', 'RBA', 'RBLX', 'RCL', 'REGN', 'RELX', 'RITM', 'RIVN', 'RJF', 'RKLB', 'ROIV', 'ROKU', 'RPRX', 'RRX', 'RTO', 'RTX', 'RVMD', 'S', 'SAN', 'SAP', 'SATS', 'SBS', 'SCHB', 'SCHF', 'SCHG', 'SCHI', 'SCHK', 'SCHO', 'SCHP', 'SCHR', 'SCHW', 'SCHX', 'SCHZ', 'SCZ', 'SE', 'SF', 'SFM', 'SHEL', 'SHM', 'SHOP', 'SHY', 'SHYG', 'SIRI', 'SJNK', 'SMCI', 'SMFG', 'SMH', 'SN', 'SNAP', 'SNPS', 'SNX', 'SOFI', 'SOXL', 'SOXX', 'SPAB', 'SPDW', 'SPG', 'SPHQ', 'SPHY', 'SPIB', 'SPLG', 'SPMB', 'SPMO', 'SPOT', 'SPSB', 'SPSM', 'SPTI', 'SPTL', 'SPTM', 'SPTS', 'SPXC', 'SPXL', 'SPY', 'SPYG', 'SPYI', 'SRE', 'SSO', 'STEP', 'STIP', 'STLA', 'STWD', 'SUB', 'SUI', 'SUSA', 'SWKS', 'SYK', 'TCAF', 'TDG', 'TEAM', 'TEF', 'TEL', 'TEVA', 'TFI', 'TFLO', 'TGT', 'TIP', 'TJX', 'TKO', 'TLH', 'TLT', 'TM', 'TME', 'TMF', 'TOST', 'TOTL', 'TPR', 'TQQQ', 'TRGP', 'TRMB', 'TRP', 'TS', 'TSLA', 'TSLL', 'TSM', 'TT', 'TTD', 'TTE', 'TTWO', 'TW', 'TWLO', 'TXN', 'TXT', 'U', 'UBS', 'UCON', 'UI', 'UPRO', 'URTH', 'USFR', 'USHY', 'USIG', 'VBK', 'VCIT', 'VCLT', 'VCR', 'VCSH', 'VEA', 'VEU', 'VGIT', 'VGK', 'VGLT', 'VGSH', 'VGT', 'VHT', 'VIG', 'VIGI', 'VIPS', 'VLTO', 'VMBS', 'VNO', 'VNOM', 'VOD', 'VONE', 'VONG', 'VOO', 'VOOG', 'VOT', 'VOX', 'VPL', 'VRNA', 'VRSN', 'VRT', 'VST', 'VT', 'VTEB', 'VTI', 'VTIP', 'VTRS', 'VTWO', 'VUG', 'VUSB', 'VV', 'VWOB', 'VXF', 'VXUS', 'WBD', 'WCC', 'WDAY', 'WDC', 'WDS', 'WFC', 'WH', 'WING', 'WIX', 'WMG', 'WMS', 'WSO', 'WWD', 'WYNN', 'X', 'XLC', 'XLG', 'XLK', 'XLV', 'XLY', 'XMMO', 'XP', 'XYL', 'XYZ', 'ZBRA', 'ZM', 'ZS', 'ZTS', 'ZWS']\n",
      "Column: Omega 3d\n",
      "  NaN: ['AAL', 'AAON', 'AAPL', 'ABBV', 'ABEV', 'ABNB', 'ACIW', 'ACN', 'ACWI', 'ACWX', 'ADBE', 'AEG', 'AER', 'AFRM', 'AGG', 'AGNC', 'AKAM', 'ALC', 'ALNY', 'AMAT', 'AMD', 'AMGN', 'AMZN', 'AN', 'ANET', 'ANSS', 'APA', 'APG', 'APO', 'APP', 'APTV', 'AR', 'ARCC', 'ARES', 'ARGX', 'ARKB', 'ARKK', 'ARM', 'AS', 'ASML', 'ASND', 'ASR', 'ASX', 'ATI', 'AUR', 'AVDE', 'AVDV', 'AVGO', 'AVUS', 'AWI', 'AXON', 'AZN', 'BA', 'BABA', 'BAC', 'BAH', 'BALL', 'BAM', 'BAP', 'BBEU', 'BBIN', 'BBIO', 'BBJP', 'BBUS', 'BBVA', 'BBY', 'BCH', 'BDX', 'BEP', 'BG', 'BIDU', 'BILS', 'BINC', 'BIRK', 'BITB', 'BIV', 'BKNG', 'BKR', 'BLDR', 'BLV', 'BMRN', 'BN', 'BND', 'BNS', 'BNT', 'BOKF', 'BOND', 'BP', 'BPMC', 'BRBR', 'BRFS', 'BRKR', 'BROS', 'BSAC', 'BSCQ', 'BSCR', 'BSV', 'BSX', 'BUFR', 'BURL', 'BWXT', 'BXSL', 'C', 'CAE', 'CAH', 'CALF', 'CBOE', 'CCJ', 'CDNS', 'CEG', 'CF', 'CFLT', 'CG', 'CGCP', 'CGDV', 'CGGO', 'CGGR', 'CGUS', 'CGXU', 'CHWY', 'CIBR', 'CIEN', 'CM', 'CME', 'CMF', 'CMG', 'CNM', 'CNP', 'CNQ', 'COHR', 'COIN', 'COOP', 'CPAY', 'CPNG', 'CQP', 'CRBG', 'CRDO', 'CRH', 'CRM', 'CRWD', 'CSCO', 'CTSH', 'CVLT', 'CVNA', 'CW', 'CWB', 'CWEN', 'CWEN-A', 'CWST', 'CX', 'CYBR', 'CZR', 'DASH', 'DAY', 'DB', 'DBEF', 'DBX', 'DDOG', 'DELL', 'DFAC', 'DFAI', 'DFAU', 'DFAX', 'DFCF', 'DFIC', 'DFIV', 'DFSD', 'DFUS', 'DGRO', 'DGRW', 'DHR', 'DIS', 'DIVO', 'DLR', 'DOCS', 'DOCU', 'DOW', 'DOX', 'DRS', 'DSI', 'DT', 'DUHP', 'DUOL', 'DXCM', 'DXJ', 'DYNF', 'E', 'EA', 'EAGG', 'EBAY', 'EDU', 'EDV', 'EFA', 'EFG', 'EFV', 'EGP', 'EHC', 'EL', 'EMB', 'EME', 'EMR', 'ENPH', 'ENSG', 'ENTG', 'EPAM', 'EQIX', 'EQT', 'ERJ', 'ESGD', 'ESGU', 'ESGV', 'ESLT', 'ESTC', 'ETN', 'EUFN', 'EW', 'EWJ', 'EWT', 'EWU', 'EWZ', 'EXEL', 'EXPE', 'EZU', 'FANG', 'FBCG', 'FBND', 'FBTC', 'FCFS', 'FDN', 'FDVV', 'FELC', 'FELG', 'FER', 'FEZ', 'FFIV', 'FHN', 'FICO', 'FIX', 'FIXD', 'FLEX', 'FLOT', 'FLS', 'FMS', 'FMX', 'FN', 'FNDF', 'FNGA', 'FOX', 'FOXA', 'FPE', 'FRHC', 'FSEC', 'FSLR', 'FTAI', 'FTEC', 'FTI', 'FTNT', 'FTS', 'FTSM', 'FWONA', 'FWONK', 'FYBR', 'G', 'GAP', 'GBIL', 'GBTC', 'GD', 'GDDY', 'GE', 'GEHC', 'GEN', 'GFL', 'GFS', 'GGG', 'GLW', 'GM', 'GMAB', 'GOOG', 'GOOGL', 'GOVT', 'GPN', 'GRAB', 'GSIE', 'GSLC', 'GTLB', 'GTLS', 'GVI', 'HALO', 'HAS', 'HEFA', 'HII', 'HLNE', 'HLT', 'HMC', 'HOOD', 'HPE', 'HUBS', 'HWM', 'HYD', 'HYG', 'HYLB', 'IBDR', 'IBIT', 'IBKR', 'ICE', 'ICL', 'ICSH', 'IDEV', 'IDV', 'IEF', 'IEFA', 'IEI', 'IEUR', 'IGIB', 'IGM', 'IGSB', 'IGV', 'IHG', 'IHI', 'IJT', 'IMO', 'INCY', 'INFA', 'INFY', 'INTU', 'IONQ', 'IOO', 'IOT', 'IQLT', 'IRM', 'ISRG', 'ISTB', 'ITA', 'ITOT', 'IUSB', 'IUSG', 'IVV', 'IVW', 'IWB', 'IWF', 'IWM', 'IWO', 'IWP', 'IWV', 'IWY', 'IXJ', 'IXN', 'IXUS', 'IYW', 'JAAA', 'JAZZ', 'JBL', 'JCI', 'JCPB', 'JEF', 'JEPI', 'JEPQ', 'JGRO', 'JIRE', 'JMBS', 'JMST', 'JNK', 'JNPR', 'JPIE', 'JPST', 'JQUA', 'JXN', 'KB', 'KD', 'KEYS', 'KKR', 'KLAC', 'KNTK', 'KVYO', 'LAD', 'LCID', 'LDOS', 'LEVI', 'LII', 'LLY', 'LLYVA', 'LLYVK', 'LMBS', 'LMT', 'LNG', 'LNW', 'LOGI', 'LQD', 'LRCX', 'LTH', 'LUV', 'LYB', 'LYV', 'MANH', 'MAS', 'MASI', 'MBB', 'MBLY', 'MDB', 'MDGL', 'MELI', 'META', 'MFC', 'MGA', 'MGC', 'MGK', 'MGM', 'MINT', 'MKTX', 'MMYT', 'MNDY', 'MOAT', 'MORN', 'MOS', 'MPLX', 'MPWR', 'MRK', 'MRVL', 'MS', 'MSA', 'MSFT', 'MSI', 'MSTR', 'MT', 'MTSI', 'MTUM', 'MTZ', 'MU', 'MUB', 'MUFG', 'NBIX', 'NCLH', 'NDAQ', 'NEAR', 'NET', 'NFLX', 'NICE', 'NLY', 'NMR', 'NOW', 'NRG', 'NTAP', 'NTNX', 'NTR', 'NU', 'NUE', 'NVDA', 'NVDL', 'NVS', 'NVT', 'NWS', 'NWSA', 'NXT', 'NYT', 'OBDC', 'OC', 'OEF', 'OKE', 'OKTA', 'OLED', 'OMF', 'OMFL', 'ONEQ', 'ONON', 'ORCL', 'OSK', 'OTEX', 'OTIS', 'OVV', 'OWL', 'PAA', 'PAAA', 'PAC', 'PAGP', 'PANW', 'PARA', 'PATH', 'PAYC', 'PBA', 'PBR-A', 'PBUS', 'PCOR', 'PCTY', 'PDBC', 'PDD', 'PDI', 'PEGA', 'PEN', 'PFE', 'PFF', 'PGX', 'PH', 'PHG', 'PINS', 'PLTR', 'PM', 'PODD', 'PPA', 'PR', 'PSN', 'PSTG', 'PTC', 'PULS', 'PWR', 'PYLD', 'PYPL', 'QCOM', 'QLD', 'QQQ', 'QQQM', 'QRVO', 'QUAL', 'QXO', 'QYLD', 'RACE', 'RBA', 'RBLX', 'RCL', 'REGN', 'RELX', 'RITM', 'RIVN', 'RJF', 'RKLB', 'ROIV', 'ROKU', 'RPRX', 'RRX', 'RTO', 'RTX', 'RVMD', 'S', 'SAN', 'SAP', 'SATS', 'SBS', 'SCHB', 'SCHF', 'SCHG', 'SCHI', 'SCHK', 'SCHO', 'SCHP', 'SCHR', 'SCHW', 'SCHX', 'SCHZ', 'SCZ', 'SE', 'SF', 'SFM', 'SHEL', 'SHM', 'SHOP', 'SHY', 'SHYG', 'SIRI', 'SJNK', 'SMCI', 'SMFG', 'SMH', 'SN', 'SNAP', 'SNPS', 'SNX', 'SOFI', 'SOXL', 'SOXX', 'SPAB', 'SPDW', 'SPG', 'SPHQ', 'SPHY', 'SPIB', 'SPLG', 'SPMB', 'SPMO', 'SPOT', 'SPSB', 'SPSM', 'SPTI', 'SPTL', 'SPTM', 'SPTS', 'SPXC', 'SPXL', 'SPY', 'SPYG', 'SPYI', 'SRE', 'SSO', 'STEP', 'STIP', 'STLA', 'STWD', 'SUB', 'SUI', 'SUSA', 'SWKS', 'SYK', 'TCAF', 'TDG', 'TEAM', 'TEF', 'TEL', 'TEVA', 'TFI', 'TFLO', 'TGT', 'TIP', 'TJX', 'TKO', 'TLH', 'TLT', 'TM', 'TME', 'TMF', 'TOST', 'TOTL', 'TPR', 'TQQQ', 'TRGP', 'TRMB', 'TRP', 'TS', 'TSLA', 'TSLL', 'TSM', 'TT', 'TTD', 'TTE', 'TTWO', 'TW', 'TWLO', 'TXN', 'TXT', 'U', 'UBS', 'UCON', 'UI', 'UPRO', 'URTH', 'USFR', 'USHY', 'USIG', 'VBK', 'VCIT', 'VCLT', 'VCR', 'VCSH', 'VEA', 'VEU', 'VGIT', 'VGK', 'VGLT', 'VGSH', 'VGT', 'VHT', 'VIG', 'VIGI', 'VIPS', 'VLTO', 'VMBS', 'VNO', 'VNOM', 'VOD', 'VONE', 'VONG', 'VOO', 'VOOG', 'VOT', 'VOX', 'VPL', 'VRNA', 'VRSN', 'VRT', 'VST', 'VT', 'VTEB', 'VTI', 'VTIP', 'VTRS', 'VTWO', 'VUG', 'VUSB', 'VV', 'VWOB', 'VXF', 'VXUS', 'WBD', 'WCC', 'WDAY', 'WDC', 'WDS', 'WFC', 'WH', 'WING', 'WIX', 'WMG', 'WMS', 'WSO', 'WWD', 'WYNN', 'X', 'XLC', 'XLG', 'XLK', 'XLV', 'XLY', 'XMMO', 'XP', 'XYL', 'XYZ', 'ZBRA', 'ZM', 'ZS', 'ZTS', 'ZWS']\n",
      "Column: Sortino 5d\n",
      "  Inf: ['AAL', 'AAON', 'AAPL', 'ABBV', 'ABEV', 'ABNB', 'ACIW', 'ACN', 'ACWI', 'ACWX', 'ADBE', 'AEG', 'AER', 'AFRM', 'AGG', 'AGNC', 'AKAM', 'ALC', 'ALNY', 'AMAT', 'AMD', 'AMZN', 'ANET', 'ANSS', 'APG', 'APO', 'APP', 'APTV', 'AR', 'ARCC', 'ARES', 'ARKB', 'ARKK', 'ARM', 'AS', 'ASML', 'ASX', 'ATI', 'AUR', 'AVGO', 'AVUS', 'AWI', 'AXON', 'AZN', 'BA', 'BABA', 'BAC', 'BAH', 'BALL', 'BAM', 'BAP', 'BBEU', 'BBIN', 'BBIO', 'BBJP', 'BBUS', 'BBVA', 'BBY', 'BCH', 'BDX', 'BEP', 'BIDU', 'BINC', 'BIRK', 'BITB', 'BIV', 'BKNG', 'BLDR', 'BLV', 'BMRN', 'BN', 'BND', 'BNS', 'BNT', 'BOND', 'BRKR', 'BROS', 'BSX', 'BUFR', 'BWXT', 'BXSL', 'C', 'CAE', 'CAH', 'CALF', 'CCJ', 'CDNS', 'CEG', 'CF', 'CFLT', 'CG', 'CGCP', 'CGDV', 'CGGO', 'CGGR', 'CGUS', 'CGXU', 'CIBR', 'CIEN', 'CM', 'CMF', 'CMG', 'CNM', 'CNP', 'COHR', 'COIN', 'CPAY', 'CPNG', 'CQP', 'CRBG', 'CRDO', 'CRH', 'CRM', 'CRWD', 'CSCO', 'CTSH', 'CVLT', 'CVNA', 'CW', 'CWB', 'CX', 'CYBR', 'DASH', 'DAY', 'DB', 'DBEF', 'DBX', 'DDOG', 'DELL', 'DFAC', 'DFAI', 'DFAU', 'DFAX', 'DFCF', 'DFIV', 'DFUS', 'DGRO', 'DGRW', 'DHR', 'DIS', 'DIVO', 'DLR', 'DOCS', 'DOCU', 'DOX', 'DRS', 'DSI', 'DT', 'DUHP', 'DUOL', 'DXCM', 'DXJ', 'DYNF', 'EAGG', 'EDV', 'EFA', 'EFG', 'EFV', 'EGP', 'EHC', 'EL', 'EMB', 'EME', 'EMR', 'ENSG', 'ENTG', 'EPAM', 'EQIX', 'EQT', 'ERJ', 'ESGD', 'ESGU', 'ESGV', 'ESTC', 'ETN', 'EUFN', 'EWJ', 'EWT', 'EWZ', 'EXEL', 'EXPE', 'EZU', 'FBCG', 'FBND', 'FBTC', 'FDN', 'FDVV', 'FELC', 'FELG', 'FEZ', 'FFIV', 'FHN', 'FICO', 'FIX', 'FIXD', 'FLEX', 'FLOT', 'FLS', 'FMX', 'FN', 'FNDF', 'FNGA', 'FOX', 'FOXA', 'FPE', 'FRHC', 'FTAI', 'FTEC', 'FTNT', 'FWONA', 'FWONK', 'FYBR', 'G', 'GAP', 'GBTC', 'GDDY', 'GE', 'GEHC', 'GEN', 'GFL', 'GFS', 'GLW', 'GM', 'GOOG', 'GOOGL', 'GOVT', 'GPN', 'GRAB', 'GSIE', 'GSLC', 'GTLB', 'GTLS', 'HALO', 'HAS', 'HEFA', 'HLNE', 'HLT', 'HOOD', 'HPE', 'HUBS', 'HWM', 'HYG', 'HYLB', 'IBIT', 'IBKR', 'ICE', 'ICL', 'IDEV', 'IEF', 'IEFA', 'IEUR', 'IGIB', 'IGM', 'IGV', 'IHG', 'IHI', 'IJT', 'INCY', 'INFA', 'INFY', 'INTU', 'IONQ', 'IOO', 'IRM', 'ISRG', 'ITOT', 'IUSB', 'IUSG', 'IVV', 'IVW', 'IWB', 'IWF', 'IWM', 'IWO', 'IWP', 'IWV', 'IWY', 'IXJ', 'IXN', 'IXUS', 'IYW', 'JAAA', 'JAZZ', 'JBL', 'JCI', 'JCPB', 'JEF', 'JEPI', 'JEPQ', 'JGRO', 'JIRE', 'JMBS', 'JNK', 'JNPR', 'JQUA', 'JXN', 'KB', 'KD', 'KEYS', 'KKR', 'KLAC', 'LCID', 'LDOS', 'LEVI', 'LLY', 'LLYVA', 'LLYVK', 'LMBS', 'LMT', 'LNW', 'LOGI', 'LQD', 'LRCX', 'LTH', 'LUV', 'LYV', 'MANH', 'MASI', 'MBB', 'MBLY', 'MDB', 'MDGL', 'MELI', 'META', 'MFC', 'MGA', 'MGC', 'MGK', 'MGM', 'MNDY', 'MOAT', 'MORN', 'MOS', 'MPLX', 'MPWR', 'MRVL', 'MS', 'MSA', 'MSFT', 'MSI', 'MSTR', 'MT', 'MTSI', 'MTUM', 'MTZ', 'MU', 'MUB', 'MUFG', 'NBIX', 'NCLH', 'NDAQ', 'NET', 'NFLX', 'NICE', 'NLY', 'NMR', 'NOW', 'NRG', 'NTAP', 'NTNX', 'NU', 'NUE', 'NVDA', 'NVDL', 'NVT', 'NWS', 'NWSA', 'NYT', 'OBDC', 'OC', 'OEF', 'OKE', 'OKTA', 'OLED', 'OMF', 'OMFL', 'ONEQ', 'ONON', 'ORCL', 'OSK', 'OTEX', 'OVV', 'OWL', 'PAAA', 'PAC', 'PANW', 'PARA', 'PATH', 'PAYC', 'PBUS', 'PCOR', 'PCTY', 'PDD', 'PDI', 'PEGA', 'PEN', 'PFF', 'PGX', 'PH', 'PHG', 'PINS', 'PLTR', 'PM', 'PODD', 'PPA', 'PR', 'PSN', 'PSTG', 'PTC', 'PWR', 'PYLD', 'PYPL', 'QCOM', 'QLD', 'QQQ', 'QQQM', 'QRVO', 'QUAL', 'QYLD', 'RBA', 'RBLX', 'RCL', 'REGN', 'RITM', 'RIVN', 'RJF', 'RKLB', 'ROIV', 'ROKU', 'RRX', 'RVMD', 'S', 'SAN', 'SAP', 'SATS', 'SBS', 'SCHB', 'SCHF', 'SCHG', 'SCHI', 'SCHK', 'SCHP', 'SCHW', 'SCHX', 'SCHZ', 'SE', 'SFM', 'SHOP', 'SHYG', 'SIRI', 'SJNK', 'SMCI', 'SMFG', 'SMH', 'SN', 'SNAP', 'SNPS', 'SNX', 'SOFI', 'SOXL', 'SOXX', 'SPAB', 'SPDW', 'SPG', 'SPHQ', 'SPHY', 'SPIB', 'SPLG', 'SPMB', 'SPMO', 'SPOT', 'SPSM', 'SPTL', 'SPTM', 'SPXC', 'SPXL', 'SPY', 'SPYG', 'SPYI', 'SRE', 'SSO', 'STEP', 'STWD', 'SUI', 'SUSA', 'SWKS', 'SYK', 'TCAF', 'TDG', 'TEAM', 'TEL', 'TEVA', 'TFLO', 'TIP', 'TKO', 'TLH', 'TLT', 'TM', 'TME', 'TMF', 'TOST', 'TOTL', 'TPR', 'TQQQ', 'TRGP', 'TRMB', 'TSLA', 'TSLL', 'TSM', 'TT', 'TTD', 'TTWO', 'TW', 'TWLO', 'TXN', 'TXT', 'U', 'UBS', 'UCON', 'UI', 'UPRO', 'URTH', 'USHY', 'USIG', 'VBK', 'VCIT', 'VCLT', 'VCR', 'VEA', 'VEU', 'VGK', 'VGLT', 'VGT', 'VHT', 'VIG', 'VIGI', 'VIPS', 'VLTO', 'VMBS', 'VNO', 'VONE', 'VONG', 'VOO', 'VOOG', 'VOT', 'VOX', 'VPL', 'VRNA', 'VRSN', 'VRT', 'VST', 'VT', 'VTEB', 'VTI', 'VTRS', 'VTWO', 'VUG', 'VV', 'VWOB', 'VXF', 'VXUS', 'WBD', 'WCC', 'WDAY', 'WDC', 'WDS', 'WFC', 'WH', 'WIX', 'WMG', 'WMS', 'WWD', 'WYNN', 'X', 'XLC', 'XLG', 'XLK', 'XLV', 'XLY', 'XMMO', 'XP', 'XYL', 'XYZ', 'ZBRA', 'ZM', 'ZS', 'ZTS', 'ZWS']\n",
      "Column: Omega 5d\n",
      "  NaN: ['AAL', 'AAON', 'AAPL', 'ABBV', 'ABEV', 'ABNB', 'ACIW', 'ACN', 'ACWI', 'ACWX', 'ADBE', 'AEG', 'AER', 'AFRM', 'AGG', 'AGNC', 'AKAM', 'ALC', 'ALNY', 'AMAT', 'AMD', 'AMZN', 'ANET', 'ANSS', 'APG', 'APO', 'APP', 'APTV', 'AR', 'ARCC', 'ARES', 'ARKB', 'ARKK', 'ARM', 'AS', 'ASML', 'ASX', 'ATI', 'AUR', 'AVGO', 'AVUS', 'AWI', 'AXON', 'AZN', 'BA', 'BABA', 'BAC', 'BAH', 'BALL', 'BAM', 'BAP', 'BBEU', 'BBIN', 'BBIO', 'BBJP', 'BBUS', 'BBVA', 'BBY', 'BCH', 'BDX', 'BEP', 'BIDU', 'BINC', 'BIRK', 'BITB', 'BIV', 'BKNG', 'BLDR', 'BLV', 'BMRN', 'BN', 'BND', 'BNS', 'BNT', 'BOND', 'BRKR', 'BROS', 'BSX', 'BUFR', 'BWXT', 'BXSL', 'C', 'CAE', 'CAH', 'CALF', 'CCJ', 'CDNS', 'CEG', 'CF', 'CFLT', 'CG', 'CGCP', 'CGDV', 'CGGO', 'CGGR', 'CGUS', 'CGXU', 'CIBR', 'CIEN', 'CM', 'CMF', 'CMG', 'CNM', 'CNP', 'COHR', 'COIN', 'CPAY', 'CPNG', 'CQP', 'CRBG', 'CRDO', 'CRH', 'CRM', 'CRWD', 'CSCO', 'CTSH', 'CVLT', 'CVNA', 'CW', 'CWB', 'CX', 'CYBR', 'DASH', 'DAY', 'DB', 'DBEF', 'DBX', 'DDOG', 'DELL', 'DFAC', 'DFAI', 'DFAU', 'DFAX', 'DFCF', 'DFIV', 'DFUS', 'DGRO', 'DGRW', 'DHR', 'DIS', 'DIVO', 'DLR', 'DOCS', 'DOCU', 'DOX', 'DRS', 'DSI', 'DT', 'DUHP', 'DUOL', 'DXCM', 'DXJ', 'DYNF', 'EAGG', 'EDV', 'EFA', 'EFG', 'EFV', 'EGP', 'EHC', 'EL', 'EMB', 'EME', 'EMR', 'ENSG', 'ENTG', 'EPAM', 'EQIX', 'EQT', 'ERJ', 'ESGD', 'ESGU', 'ESGV', 'ESTC', 'ETN', 'EUFN', 'EWJ', 'EWT', 'EWZ', 'EXEL', 'EXPE', 'EZU', 'FBCG', 'FBND', 'FBTC', 'FDN', 'FDVV', 'FELC', 'FELG', 'FEZ', 'FFIV', 'FHN', 'FICO', 'FIX', 'FIXD', 'FLEX', 'FLOT', 'FLS', 'FMX', 'FN', 'FNDF', 'FNGA', 'FOX', 'FOXA', 'FPE', 'FRHC', 'FTAI', 'FTEC', 'FTNT', 'FWONA', 'FWONK', 'FYBR', 'G', 'GAP', 'GBTC', 'GDDY', 'GE', 'GEHC', 'GEN', 'GFL', 'GFS', 'GLW', 'GM', 'GOOG', 'GOOGL', 'GOVT', 'GPN', 'GRAB', 'GSIE', 'GSLC', 'GTLB', 'GTLS', 'HALO', 'HAS', 'HEFA', 'HLNE', 'HLT', 'HOOD', 'HPE', 'HUBS', 'HWM', 'HYG', 'HYLB', 'IBIT', 'IBKR', 'ICE', 'ICL', 'IDEV', 'IEF', 'IEFA', 'IEUR', 'IGIB', 'IGM', 'IGV', 'IHG', 'IHI', 'IJT', 'INCY', 'INFA', 'INFY', 'INTU', 'IONQ', 'IOO', 'IRM', 'ISRG', 'ITOT', 'IUSB', 'IUSG', 'IVV', 'IVW', 'IWB', 'IWF', 'IWM', 'IWO', 'IWP', 'IWV', 'IWY', 'IXJ', 'IXN', 'IXUS', 'IYW', 'JAAA', 'JAZZ', 'JBL', 'JCI', 'JCPB', 'JEF', 'JEPI', 'JEPQ', 'JGRO', 'JIRE', 'JMBS', 'JNK', 'JNPR', 'JQUA', 'JXN', 'KB', 'KD', 'KEYS', 'KKR', 'KLAC', 'LCID', 'LDOS', 'LEVI', 'LLY', 'LLYVA', 'LLYVK', 'LMBS', 'LMT', 'LNW', 'LOGI', 'LQD', 'LRCX', 'LTH', 'LUV', 'LYV', 'MANH', 'MASI', 'MBB', 'MBLY', 'MDB', 'MDGL', 'MELI', 'META', 'MFC', 'MGA', 'MGC', 'MGK', 'MGM', 'MNDY', 'MOAT', 'MORN', 'MOS', 'MPLX', 'MPWR', 'MRVL', 'MS', 'MSA', 'MSFT', 'MSI', 'MSTR', 'MT', 'MTSI', 'MTUM', 'MTZ', 'MU', 'MUB', 'MUFG', 'NBIX', 'NCLH', 'NDAQ', 'NET', 'NFLX', 'NICE', 'NLY', 'NMR', 'NOW', 'NRG', 'NTAP', 'NTNX', 'NU', 'NUE', 'NVDA', 'NVDL', 'NVT', 'NWS', 'NWSA', 'NYT', 'OBDC', 'OC', 'OEF', 'OKE', 'OKTA', 'OLED', 'OMF', 'OMFL', 'ONEQ', 'ONON', 'ORCL', 'OSK', 'OTEX', 'OVV', 'OWL', 'PAAA', 'PAC', 'PANW', 'PARA', 'PATH', 'PAYC', 'PBUS', 'PCOR', 'PCTY', 'PDD', 'PDI', 'PEGA', 'PEN', 'PFF', 'PGX', 'PH', 'PHG', 'PINS', 'PLTR', 'PM', 'PODD', 'PPA', 'PR', 'PSN', 'PSTG', 'PTC', 'PWR', 'PYLD', 'PYPL', 'QCOM', 'QLD', 'QQQ', 'QQQM', 'QRVO', 'QUAL', 'QYLD', 'RBA', 'RBLX', 'RCL', 'REGN', 'RITM', 'RIVN', 'RJF', 'RKLB', 'ROIV', 'ROKU', 'RRX', 'RVMD', 'S', 'SAN', 'SAP', 'SATS', 'SBS', 'SCHB', 'SCHF', 'SCHG', 'SCHI', 'SCHK', 'SCHP', 'SCHW', 'SCHX', 'SCHZ', 'SE', 'SFM', 'SHOP', 'SHYG', 'SIRI', 'SJNK', 'SMCI', 'SMFG', 'SMH', 'SN', 'SNAP', 'SNPS', 'SNX', 'SOFI', 'SOXL', 'SOXX', 'SPAB', 'SPDW', 'SPG', 'SPHQ', 'SPHY', 'SPIB', 'SPLG', 'SPMB', 'SPMO', 'SPOT', 'SPSM', 'SPTL', 'SPTM', 'SPXC', 'SPXL', 'SPY', 'SPYG', 'SPYI', 'SRE', 'SSO', 'STEP', 'STWD', 'SUI', 'SUSA', 'SWKS', 'SYK', 'TCAF', 'TDG', 'TEAM', 'TEL', 'TEVA', 'TFLO', 'TIP', 'TKO', 'TLH', 'TLT', 'TM', 'TME', 'TMF', 'TOST', 'TOTL', 'TPR', 'TQQQ', 'TRGP', 'TRMB', 'TSLA', 'TSLL', 'TSM', 'TT', 'TTD', 'TTWO', 'TW', 'TWLO', 'TXN', 'TXT', 'U', 'UBS', 'UCON', 'UI', 'UPRO', 'URTH', 'USHY', 'USIG', 'VBK', 'VCIT', 'VCLT', 'VCR', 'VEA', 'VEU', 'VGK', 'VGLT', 'VGT', 'VHT', 'VIG', 'VIGI', 'VIPS', 'VLTO', 'VMBS', 'VNO', 'VONE', 'VONG', 'VOO', 'VOOG', 'VOT', 'VOX', 'VPL', 'VRNA', 'VRSN', 'VRT', 'VST', 'VT', 'VTEB', 'VTI', 'VTRS', 'VTWO', 'VUG', 'VV', 'VWOB', 'VXF', 'VXUS', 'WBD', 'WCC', 'WDAY', 'WDC', 'WDS', 'WFC', 'WH', 'WIX', 'WMG', 'WMS', 'WWD', 'WYNN', 'X', 'XLC', 'XLG', 'XLK', 'XLV', 'XLY', 'XMMO', 'XP', 'XYL', 'XYZ', 'ZBRA', 'ZM', 'ZS', 'ZTS', 'ZWS']\n",
      "Column: Sortino 10d\n",
      "  Inf: ['BCH', 'CF', 'KB']\n",
      "Column: Omega 10d\n",
      "  NaN: ['BCH', 'CF', 'KB']\n",
      "df_to_save has_nan_inf: False\n",
      "NaN/Inf Locations AFTER Replacement:\n",
      "No NaN or Inf values found.\n",
      "       Sharpe 3d   Sortino 3d    Omega 3d  Sharpe 5d    Sortino 5d     Omega 5d  Sharpe 10d  Sortino 10d  Omega 10d  Sharpe 15d  Sortino 15d  Omega 15d  Sharpe 30d  Sortino 30d  Omega 30d  Sharpe 60d  Sortino 60d  Omega 60d  Sharpe 120d  Sortino 120d  Omega 120d  Sharpe 250d  Sortino 250d  Omega 250d\n",
      "A       5.153101    19.052913    2.697368  15.793771     65.559711     9.259747    3.204522     5.896718   1.619189    1.202716     1.867554   1.226958   -2.258456    -2.893618   0.672376   -3.871692    -4.635103   0.500579    -1.241176     -1.661680    0.804164    -0.846579     -1.118455    0.859515\n",
      "AA      3.723058    11.141484    1.992562  10.880600     28.880362     4.638584    1.956660     2.954931   1.380855    1.063227     1.742029   1.200455   -2.404414    -3.160253   0.660904   -1.736037    -2.276252   0.738186    -1.412166     -1.848542    0.780054    -0.481224     -0.666162    0.922277\n",
      "AAL    30.773939  3802.268850  339.733032  21.440824  15666.484213  1974.791483    0.627020     0.870148   1.105977    0.959973     1.686722   1.221849   -0.564022    -0.880908   0.893880   -2.831226    -3.910800   0.571980    -0.808785     -1.219591    0.848549    -0.487410     -0.718294    0.907541\n",
      "AAON   36.487069  3802.268850  339.733032  47.280299  15666.484213  1974.791483    2.546433     3.924418   1.466622    4.647126    10.956734   2.263572    1.205968     2.089323   1.223243   -1.314793    -1.632743   0.775881    -0.564799     -0.742476    0.891811     0.141717      0.188445    1.029306\n",
      "AAPL   17.945283  3802.268850  339.733032  25.731176  15666.484213  1974.791483    4.214191     6.719272   1.915683    2.638663     5.831754   1.629695    0.008446     0.013045   1.001637   -0.862319    -1.246745   0.843918    -0.305491     -0.438251    0.939919     0.708200      1.053839    1.149028\n",
      "...          ...          ...         ...        ...           ...          ...         ...          ...        ...         ...          ...        ...         ...          ...        ...         ...          ...        ...          ...           ...         ...          ...           ...         ...\n",
      "ZM     16.571453  3802.268850  339.733032  24.266729  15666.484213  1974.791483    6.973265    15.332471   3.056063    4.982416    11.669392   2.441814    0.615267     0.902691   1.120039   -1.487032    -1.872405   0.753385     0.177888      0.253722    1.032343     0.657177      0.993895    1.128121\n",
      "ZS     37.815905  3802.268850  339.733032  29.846140  15666.484213  1974.791483    6.101982    11.687786   2.575558    5.746303    17.350204   3.106701    1.397971     2.245767   1.291582    0.670596     0.997611   1.122917     0.944566      1.399506    1.175791     0.582762      0.795053    1.110288\n",
      "ZTO     7.573638    46.565924    5.148422   6.960423     33.589123     4.646616    5.653418    23.932647   3.716814    1.743830     2.697405   1.458630   -0.622126    -0.832692   0.885257    0.111921     0.152727   1.019922    -1.009299     -1.329085    0.842693    -0.203295     -0.297884    0.966104\n",
      "ZTS   121.720614  3802.268850  339.733032  24.933136  15666.484213  1974.791483    4.115593     7.084020   1.799754    0.738671     1.190823   1.131366   -1.104859    -1.525003   0.827744   -1.454111    -1.854758   0.781045    -1.131857     -1.446457    0.827155    -0.120018     -0.168213    0.979428\n",
      "ZWS    14.063795  3802.268850  339.733032  25.101555  15666.484213  1974.791483   11.289056    60.352729  11.711823    5.327053    10.974979   2.597136    0.528012     0.741408   1.103893   -1.629498    -2.113156   0.745290    -0.399452     -0.539021    0.930958     0.270604      0.388162    1.047580\n",
      "\n",
      "[1518 rows x 24 columns]\n"
     ]
    }
   ],
   "source": [
    "import numpy as np\n",
    "import pandas as pd\n",
    "\n",
    "def find_nan_inf(df):\n",
    "    \"\"\"\n",
    "    Finds locations of NaN, Inf, and -Inf values in a DataFrame.\n",
    "    \n",
    "    Args:\n",
    "        df (pd.DataFrame): DataFrame to check\n",
    "        \n",
    "    Returns:\n",
    "        dict: Dictionary with column names as keys and dicts of \n",
    "              {type: indices} as values\n",
    "    \"\"\"\n",
    "    nan_inf_locations = {}\n",
    "    for col in df.columns:\n",
    "        locations = {\n",
    "            'NaN': df[col].index[df[col].isnull()].tolist(),\n",
    "            'Inf': df[col].index[df[col] == np.inf].tolist(),\n",
    "            '-Inf': df[col].index[df[col] == -np.inf].tolist()\n",
    "        }\n",
    "        if any(locations.values()):\n",
    "            nan_inf_locations[col] = locations\n",
    "    return nan_inf_locations\n",
    "\n",
    "def print_nan_inf_locations(locations, message):\n",
    "    \"\"\"Prints NaN/Inf locations with a descriptive message.\"\"\"\n",
    "    print(message)\n",
    "    if locations:\n",
    "        for col, locs in locations.items():\n",
    "            print(f\"Column: {col}\")\n",
    "            for typ, indices in locs.items():\n",
    "                if indices:\n",
    "                    print(f\"  {typ}: {indices}\")\n",
    "    else:\n",
    "        print(\"No NaN or Inf values found.\")\n",
    "\n",
    "def get_column_replacement_values(df):\n",
    "    \"\"\"\n",
    "    Calculate replacement values for each column (max for Inf/NaN, min for -Inf).\n",
    "    \n",
    "    Args:\n",
    "        df (pd.DataFrame): Input DataFrame\n",
    "        \n",
    "    Returns:\n",
    "        tuple: (max_values, min_values) dictionaries with column replacement values\n",
    "    \"\"\"\n",
    "    numeric_cols = df.select_dtypes(include=[np.number]).columns\n",
    "    max_values = {}\n",
    "    min_values = {}\n",
    "    \n",
    "    for col in numeric_cols:\n",
    "        # Get finite values only\n",
    "        finite_vals = df[col][np.isfinite(df[col])]\n",
    "        if len(finite_vals) > 0:\n",
    "            max_values[col] = finite_vals.max()\n",
    "            min_values[col] = finite_vals.min()\n",
    "        else:\n",
    "            # If no finite values, use default\n",
    "            max_values[col] = 1e5\n",
    "            min_values[col] = -1e5\n",
    "    \n",
    "    return max_values, min_values\n",
    "\n",
    "# Check for NaN or Inf values\n",
    "has_nan_inf = combined_df.isnull().any().any() or not np.isfinite(combined_df).all().all()\n",
    "print(f'combined_df has_nan_inf: {has_nan_inf}')\n",
    "\n",
    "if has_nan_inf:\n",
    "    # Calculate replacement values for each column\n",
    "    max_values, min_values = get_column_replacement_values(combined_df)\n",
    "    print(\"Replacing NaN/Inf values with column-specific max/min values\")\n",
    "    \n",
    "    nan_inf_locations_before = find_nan_inf(combined_df)\n",
    "    print_nan_inf_locations(nan_inf_locations_before, \"NaN/Inf Locations BEFORE Replacement:\")\n",
    "    \n",
    "    # Create cleaned DataFrame\n",
    "    df_to_save = combined_df.copy()\n",
    "    \n",
    "    # Replace values column by column\n",
    "    for col in df_to_save.columns:\n",
    "        if col in max_values:  # Only numeric columns will be in max_values\n",
    "            # Replace NaN and +Inf with max value\n",
    "            # NaN is from Omega ratio where daily loss series are all zero\n",
    "            # +Inf is from Sharpe ratio where daily negative excess return series are all zero\n",
    "            df_to_save[col] = df_to_save[col].fillna(max_values[col])\n",
    "            df_to_save[col] = df_to_save[col].replace([np.inf], max_values[col])\n",
    "            # Replace -Inf with min value\n",
    "            # -Inf is from Sharpe ratio where daily excess return series are the same, therefore standard deviation is zero\n",
    "            df_to_save[col] = df_to_save[col].replace([-np.inf], min_values[col])\n",
    "else:\n",
    "    print(\"No NaN or Inf values found.\")\n",
    "    df_to_save = combined_df\n",
    "\n",
    "# Verification\n",
    "print(f'df_to_save has_nan_inf: {df_to_save.isnull().any().any() or not np.isfinite(df_to_save).all().all()}')\n",
    "print_nan_inf_locations(find_nan_inf(df_to_save), \"NaN/Inf Locations AFTER Replacement:\")\n",
    "\n",
    "# Output cleaned DataFrame\n",
    "print(df_to_save)"
   ]
  },
  {
   "cell_type": "code",
   "execution_count": 57,
   "metadata": {
    "execution": {
     "iopub.execute_input": "2025-04-10T23:23:33.085474Z",
     "iopub.status.busy": "2025-04-10T23:23:33.083467Z",
     "iopub.status.idle": "2025-04-10T23:23:33.097314Z",
     "shell.execute_reply": "2025-04-10T23:23:33.095295Z"
    }
   },
   "outputs": [
    {
     "data": {
      "text/plain": [
       "'AAL'"
      ]
     },
     "execution_count": 57,
     "metadata": {},
     "output_type": "execute_result"
    }
   ],
   "source": [
    "ticker_w_inf = nan_inf_locations_before['Sortino 3d']['Inf'][0]\n",
    "ticker_w_inf "
   ]
  },
  {
   "cell_type": "markdown",
   "metadata": {},
   "source": [
    "#### Use Cell below to check the inf, -inf and NaN replacement"
   ]
  },
  {
   "cell_type": "code",
   "execution_count": 58,
   "metadata": {
    "execution": {
     "iopub.execute_input": "2025-04-10T23:23:33.104314Z",
     "iopub.status.busy": "2025-04-10T23:23:33.103325Z",
     "iopub.status.idle": "2025-04-10T23:23:33.129040Z",
     "shell.execute_reply": "2025-04-10T23:23:33.127047Z"
    }
   },
   "outputs": [
    {
     "name": "stdout",
     "output_type": "stream",
     "text": [
      "combined_df.loc['ticker_w_inf']\n"
     ]
    },
    {
     "data": {
      "text/plain": [
       "Sharpe 3d       30.773939\n",
       "Sortino 3d            inf\n",
       "Omega 3d              NaN\n",
       "Sharpe 5d       21.440824\n",
       "Sortino 5d            inf\n",
       "Omega 5d              NaN\n",
       "Sharpe 10d       0.627020\n",
       "Sortino 10d      0.870148\n",
       "Omega 10d        1.105977\n",
       "Sharpe 15d       0.959973\n",
       "Sortino 15d      1.686722\n",
       "Omega 15d        1.221849\n",
       "Sharpe 30d      -0.564022\n",
       "Sortino 30d     -0.880908\n",
       "Omega 30d        0.893880\n",
       "Sharpe 60d      -2.831226\n",
       "Sortino 60d     -3.910800\n",
       "Omega 60d        0.571980\n",
       "Sharpe 120d     -0.808785\n",
       "Sortino 120d    -1.219591\n",
       "Omega 120d       0.848549\n",
       "Sharpe 250d     -0.487410\n",
       "Sortino 250d    -0.718294\n",
       "Omega 250d       0.907541\n",
       "Name: AAL, dtype: float64"
      ]
     },
     "metadata": {},
     "output_type": "display_data"
    },
    {
     "name": "stdout",
     "output_type": "stream",
     "text": [
      "\n",
      "df_to_save.loc['ticker_w_inf']\n"
     ]
    },
    {
     "data": {
      "text/plain": [
       "Sharpe 3d          30.773939\n",
       "Sortino 3d       3802.268850\n",
       "Omega 3d          339.733032\n",
       "Sharpe 5d          21.440824\n",
       "Sortino 5d      15666.484213\n",
       "Omega 5d         1974.791483\n",
       "Sharpe 10d          0.627020\n",
       "Sortino 10d         0.870148\n",
       "Omega 10d           1.105977\n",
       "Sharpe 15d          0.959973\n",
       "Sortino 15d         1.686722\n",
       "Omega 15d           1.221849\n",
       "Sharpe 30d         -0.564022\n",
       "Sortino 30d        -0.880908\n",
       "Omega 30d           0.893880\n",
       "Sharpe 60d         -2.831226\n",
       "Sortino 60d        -3.910800\n",
       "Omega 60d           0.571980\n",
       "Sharpe 120d        -0.808785\n",
       "Sortino 120d       -1.219591\n",
       "Omega 120d          0.848549\n",
       "Sharpe 250d        -0.487410\n",
       "Sortino 250d       -0.718294\n",
       "Omega 250d          0.907541\n",
       "Name: AAL, dtype: float64"
      ]
     },
     "metadata": {},
     "output_type": "display_data"
    }
   ],
   "source": [
    "print(f\"combined_df.loc['ticker_w_inf']\")\n",
    "display(combined_df.loc[ticker_w_inf])\n",
    "print(f\"\\ndf_to_save.loc['ticker_w_inf']\")\n",
    "display(df_to_save.loc[ticker_w_inf])"
   ]
  },
  {
   "cell_type": "code",
   "execution_count": 59,
   "metadata": {
    "execution": {
     "iopub.execute_input": "2025-04-10T23:23:33.136039Z",
     "iopub.status.busy": "2025-04-10T23:23:33.135045Z",
     "iopub.status.idle": "2025-04-10T23:23:33.180475Z",
     "shell.execute_reply": "2025-04-10T23:23:33.179041Z"
    }
   },
   "outputs": [
    {
     "name": "stdout",
     "output_type": "stream",
     "text": [
      "DataFrame successfully saved to ..\\data\\2025-04-25_df_perf_ratios_stocks_etfs.parquet\n"
     ]
    }
   ],
   "source": [
    "# Save the DataFrame to parquet file (always do this)\n",
    "df_to_save.to_parquet(dest_path, engine='pyarrow', compression='zstd')\n",
    "print(f\"DataFrame successfully saved to {dest_path}\")\n",
    "\n"
   ]
  },
  {
   "cell_type": "code",
   "execution_count": 62,
   "metadata": {
    "execution": {
     "iopub.execute_input": "2025-04-10T23:23:33.187511Z",
     "iopub.status.busy": "2025-04-10T23:23:33.186505Z",
     "iopub.status.idle": "2025-04-10T23:23:33.225918Z",
     "shell.execute_reply": "2025-04-10T23:23:33.223924Z"
    }
   },
   "outputs": [
    {
     "name": "stdout",
     "output_type": "stream",
     "text": [
      "+------+-------------+--------------+------------+-------------+--------------+------------+--------------+---------------+-------------+--------------+---------------+-------------+--------------+---------------+-------------+--------------+---------------+-------------+---------------+----------------+--------------+---------------+----------------+--------------+\n",
      "|      |   Sharpe 3d |   Sortino 3d |   Omega 3d |   Sharpe 5d |   Sortino 5d |   Omega 5d |   Sharpe 10d |   Sortino 10d |   Omega 10d |   Sharpe 15d |   Sortino 15d |   Omega 15d |   Sharpe 30d |   Sortino 30d |   Omega 30d |   Sharpe 60d |   Sortino 60d |   Omega 60d |   Sharpe 120d |   Sortino 120d |   Omega 120d |   Sharpe 250d |   Sortino 250d |   Omega 250d |\n",
      "+======+=============+==============+============+=============+==============+============+==============+===============+=============+==============+===============+=============+==============+===============+=============+==============+===============+=============+===============+================+==============+===============+================+==============+\n",
      "| AAPL |     17.9453 |    3802.2689 |   339.7330 |     25.7312 |   15666.4842 |  1974.7915 |       4.2142 |        6.7193 |      1.9157 |       2.6387 |        5.8318 |      1.6297 |       0.0084 |        0.0130 |      1.0016 |      -0.8623 |       -1.2467 |      0.8439 |       -0.3055 |        -0.4383 |       0.9399 |        0.7082 |         1.0538 |       1.1490 |\n",
      "+------+-------------+--------------+------------+-------------+--------------+------------+--------------+---------------+-------------+--------------+---------------+-------------+--------------+---------------+-------------+--------------+---------------+-------------+---------------+----------------+--------------+---------------+----------------+--------------+\n",
      "| MSFT |     22.6691 |    3802.2689 |   339.7330 |     37.1566 |   15666.4842 |  1974.7915 |       0.7217 |        1.0979 |      1.1202 |       3.0281 |        7.3408 |      1.7739 |       0.2752 |        0.5049 |      1.0538 |      -0.6847 |       -1.1274 |      0.8787 |       -0.2336 |        -0.3513 |       0.9575 |       -0.1539 |        -0.2152 |       0.9724 |\n",
      "+------+-------------+--------------+------------+-------------+--------------+------------+--------------+---------------+-------------+--------------+---------------+-------------+--------------+---------------+-------------+--------------+---------------+-------------+---------------+----------------+--------------+---------------+----------------+--------------+\n",
      "| GOOG |     47.4482 |    3802.2689 |   339.7330 |     66.0389 |   15666.4842 |  1974.7915 |       2.3212 |        3.9056 |      1.3750 |       3.6439 |        8.4105 |      1.8506 |      -0.2848 |       -0.4509 |      0.9545 |      -2.1195 |       -2.8304 |      0.7044 |       -0.2255 |        -0.3256 |       0.9631 |       -0.1646 |        -0.2252 |       0.9725 |\n",
      "+------+-------------+--------------+------------+-------------+--------------+------------+--------------+---------------+-------------+--------------+---------------+-------------+--------------+---------------+-------------+--------------+---------------+-------------+---------------+----------------+--------------+---------------+----------------+--------------+\n",
      "| NVDA |    130.0216 |    3802.2689 |   339.7330 |     55.5044 |   15666.4842 |  1974.7915 |       0.2555 |        0.3515 |      1.0400 |       3.3570 |        7.4076 |      1.8516 |      -0.6600 |       -1.0692 |      0.8867 |      -0.4080 |       -0.5982 |      0.9327 |       -0.3379 |        -0.4657 |       0.9425 |        0.6302 |         0.9105 |       1.1133 |\n",
      "+------+-------------+--------------+------------+-------------+--------------+------------+--------------+---------------+-------------+--------------+---------------+-------------+--------------+---------------+-------------+--------------+---------------+-------------+---------------+----------------+--------------+---------------+----------------+--------------+\n",
      "| AMZN |     25.9691 |    3802.2689 |   339.7330 |     38.7013 |   15666.4842 |  1974.7915 |       1.4725 |        2.6137 |      1.2405 |       2.8749 |        6.1657 |      1.6191 |      -0.4488 |       -0.6738 |      0.9256 |      -1.8235 |       -2.5154 |      0.7302 |        0.1666 |         0.2447 |       1.0289 |        0.2020 |         0.2853 |       1.0359 |\n",
      "+------+-------------+--------------+------------+-------------+--------------+------------+--------------+---------------+-------------+--------------+---------------+-------------+--------------+---------------+-------------+--------------+---------------+-------------+---------------+----------------+--------------+---------------+----------------+--------------+\n",
      "| TSLA |     23.6215 |    3802.2689 |   339.7330 |     33.2989 |   15666.4842 |  1974.7915 |       4.6497 |        9.1010 |      2.2095 |       3.0561 |        7.4519 |      1.8154 |       1.5173 |        2.8415 |      1.3001 |      -1.1598 |       -1.7203 |      0.8220 |        0.6891 |         1.1034 |       1.1223 |        1.0271 |         1.6860 |       1.1974 |\n",
      "+------+-------------+--------------+------------+-------------+--------------+------------+--------------+---------------+-------------+--------------+---------------+-------------+--------------+---------------+-------------+--------------+---------------+-------------+---------------+----------------+--------------+---------------+----------------+--------------+\n",
      "| META |    330.8447 |    3802.2689 |   339.7330 |     71.0714 |   15666.4842 |  1974.7915 |       0.5260 |        0.8198 |      1.0790 |       2.1182 |        4.4803 |      1.4799 |      -1.0810 |       -1.6431 |      0.8196 |      -1.6550 |       -2.3344 |      0.7399 |       -0.0636 |        -0.0935 |       0.9886 |        0.6695 |         0.9915 |       1.1279 |\n",
      "+------+-------------+--------------+------------+-------------+--------------+------------+--------------+---------------+-------------+--------------+---------------+-------------+--------------+---------------+-------------+--------------+---------------+-------------+---------------+----------------+--------------+---------------+----------------+--------------+\n",
      "| NFLX |     13.4754 |    3802.2689 |   339.7330 |     17.6872 |   15666.4842 |  1974.7915 |      14.1325 |       64.3567 |     13.1623 |       9.8135 |       36.2969 |      6.8228 |       3.4138 |        5.9438 |      1.8017 |       1.3283 |        1.9461 |      1.2514 |        2.1856 |         3.4448 |       1.4745 |        2.1336 |         3.5345 |       1.4693 |\n",
      "+------+-------------+--------------+------------+-------------+--------------+------------+--------------+---------------+-------------+--------------+---------------+-------------+--------------+---------------+-------------+--------------+---------------+-------------+---------------+----------------+--------------+---------------+----------------+--------------+\n",
      "| V    |      4.1604 |      13.2212 |     2.1778 |     11.1803 |     206.7222 |    27.0446 |       0.5150 |        0.8254 |      1.1021 |       2.9419 |        7.0720 |      1.7922 |       0.3148 |        0.4648 |      1.0637 |      -0.2653 |       -0.3748 |      0.9491 |        1.2183 |         1.8190 |       1.2726 |        0.8817 |         1.2483 |       1.1821 |\n",
      "+------+-------------+--------------+------------+-------------+--------------+------------+--------------+---------------+-------------+--------------+---------------+-------------+--------------+---------------+-------------+--------------+---------------+-------------+---------------+----------------+--------------+---------------+----------------+--------------+\n",
      "| JPM  |      6.0623 |      26.3615 |     3.3485 |     17.0041 |     106.2980 |    14.3923 |       3.3231 |        7.0881 |      1.6558 |       6.1219 |       16.6185 |      2.9474 |       1.1257 |        1.5871 |      1.2298 |      -0.9133 |       -1.2035 |      0.8471 |        0.6936 |         1.0527 |       1.1485 |        0.8956 |         1.3177 |       1.1881 |\n",
      "+------+-------------+--------------+------------+-------------+--------------+------------+--------------+---------------+-------------+--------------+---------------+-------------+--------------+---------------+-------------+--------------+---------------+-------------+---------------+----------------+--------------+---------------+----------------+--------------+\n",
      "| GLD  |      1.5014 |       3.4664 |     1.3088 |     -8.4811 |      -9.2357 |     0.2909 |       2.0243 |        3.8712 |      1.3793 |       4.7795 |        9.6814 |      2.0593 |       3.5004 |        6.4507 |      1.7835 |       3.4502 |        6.1692 |      1.8057 |        1.9856 |         3.0413 |       1.3914 |        1.8970 |         2.8568 |       1.3658 |\n",
      "+------+-------------+--------------+------------+-------------+--------------+------------+--------------+---------------+-------------+--------------+---------------+-------------+--------------+---------------+-------------+--------------+---------------+-------------+---------------+----------------+--------------+---------------+----------------+--------------+\n",
      "| MSTR |     18.7897 |    3802.2689 |   339.7330 |     17.8542 |   15666.4842 |  1974.7915 |      13.3902 |      444.4363 |     84.9906 |       3.5027 |        7.1241 |      1.9706 |       2.1033 |        3.6989 |      1.4731 |       0.8120 |        1.2613 |      1.1526 |        1.2798 |         2.0859 |       1.2396 |        1.5025 |         2.4989 |       1.2882 |\n",
      "+------+-------------+--------------+------------+-------------+--------------+------------+--------------+---------------+-------------+--------------+---------------+-------------+--------------+---------------+-------------+--------------+---------------+-------------+---------------+----------------+--------------+---------------+----------------+--------------+\n",
      "| IBIT |     12.4448 |    3802.2689 |   339.7330 |     18.3828 |   15666.4842 |  1974.7915 |      13.2452 |       60.8111 |     12.4922 |       4.1260 |        6.9841 |      2.0119 |       2.1387 |        3.3674 |      1.4185 |      -0.5892 |       -0.8045 |      0.9094 |        1.3899 |         2.2068 |       1.2607 |        0.9424 |         1.4442 |       1.1679 |\n",
      "+------+-------------+--------------+------------+-------------+--------------+------------+--------------+---------------+-------------+--------------+---------------+-------------+--------------+---------------+-------------+--------------+---------------+-------------+---------------+----------------+--------------+---------------+----------------+--------------+\n"
     ]
    }
   ],
   "source": [
    "import pandas as pd\n",
    "import numpy as np\n",
    "from tabulate import tabulate\n",
    "\n",
    "_symbols = ['AAPL', 'MSFT', 'GOOG', 'NVDA', 'AMZN', 'TSLA', 'META', 'NFLX', 'V', 'JPM', 'GLD', 'MSTR', 'IBIT']\n",
    "# Create and display the formatted table\n",
    "selected_df = df_to_save.loc[_symbols] #Use df_to_save here\n",
    "print(tabulate(selected_df, headers='keys', tablefmt='grid', floatfmt='.4f'))"
   ]
  },
  {
   "cell_type": "code",
   "execution_count": null,
   "metadata": {},
   "outputs": [],
   "source": []
  }
 ],
 "metadata": {
  "kernelspec": {
   "display_name": ".venv",
   "language": "python",
   "name": "python3"
  },
  "language_info": {
   "codemirror_mode": {
    "name": "ipython",
    "version": 3
   },
   "file_extension": ".py",
   "mimetype": "text/x-python",
   "name": "python",
   "nbconvert_exporter": "python",
   "pygments_lexer": "ipython3",
   "version": "3.11.9"
  }
 },
 "nbformat": 4,
 "nbformat_minor": 2
}
