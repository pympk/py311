{
 "cells": [
  {
   "cell_type": "code",
   "execution_count": null,
   "metadata": {},
   "outputs": [],
   "source": []
  },
  {
   "cell_type": "markdown",
   "metadata": {},
   "source": [
    "#### Calculate Sharpe, Sortino, Omega ratios for number of days in DAYS_RATIO\n",
    "#### Save ratios to dest_path\n"
   ]
  },
  {
   "cell_type": "code",
   "execution_count": 25,
   "metadata": {
    "execution": {
     "iopub.execute_input": "2025-04-10T23:20:31.839513Z",
     "iopub.status.busy": "2025-04-10T23:20:31.838515Z",
     "iopub.status.idle": "2025-04-10T23:20:31.858636Z",
     "shell.execute_reply": "2025-04-10T23:20:31.856620Z"
    }
   },
   "outputs": [],
   "source": [
    "# Configuration\n",
    "\n",
    "# days used in calculating ratios\n",
    "DAYS_RATIO = [3, 5, 10, 15, 30, 60, 120, 250]\n",
    "\n",
    "# # risk free rate\n",
    "# ANNUAL_RISK_FREE_RATE = 0.04"
   ]
  },
  {
   "cell_type": "code",
   "execution_count": 26,
   "metadata": {
    "execution": {
     "iopub.execute_input": "2025-04-10T23:20:31.867411Z",
     "iopub.status.busy": "2025-04-10T23:20:31.865410Z",
     "iopub.status.idle": "2025-04-10T23:20:33.428364Z",
     "shell.execute_reply": "2025-04-10T23:20:33.425348Z"
    }
   },
   "outputs": [],
   "source": [
    "import pandas as pd\n",
    "\n",
    "# Set pandas display options to show more columns and rows\n",
    "pd.set_option('display.max_columns', None)  # Show all columns\n",
    "# pd.set_option('display.max_rows', 10)       # Limit to 10 rows for readability\n",
    "pd.set_option('display.width', 2500)        # Let the display adjust to the window\n"
   ]
  },
  {
   "cell_type": "code",
   "execution_count": 27,
   "metadata": {
    "execution": {
     "iopub.execute_input": "2025-04-10T23:20:33.435368Z",
     "iopub.status.busy": "2025-04-10T23:20:33.434365Z",
     "iopub.status.idle": "2025-04-10T23:20:33.450008Z",
     "shell.execute_reply": "2025-04-10T23:20:33.447993Z"
    }
   },
   "outputs": [
    {
     "name": "stdout",
     "output_type": "stream",
     "text": [
      "DATE_STR: 2025-05-14\n",
      "DEST_DIR: ..\\data\n",
      "ANNUAL_RISK_FREE_RATE: 0.04\n",
      "\n",
      "source_path: ..\\data\\df_OHLCV_clean_stocks_etfs.parquet\n",
      "dest_path: ..\\data\\2025-05-14_df_perf_ratios_stocks_etfs.parquet\n"
     ]
    }
   ],
   "source": [
    "# process_files.py\n",
    "from config import DATE_STR, DOWNLOAD_DIR, DEST_DIR, ANNUAL_RISK_FREE_RATE\n",
    "from pathlib import Path  # Better path handling\n",
    "\n",
    "print(f\"DATE_STR: {DATE_STR}\")\n",
    "print(f\"DEST_DIR: {DEST_DIR}\")\n",
    "print(f\"ANNUAL_RISK_FREE_RATE: {ANNUAL_RISK_FREE_RATE}\\n\")\n",
    "\n",
    "# Build paths\n",
    "# source_path = Path(DEST_DIR) / f'{DATE_STR}_df_OHLCV_clean_stocks_etfs.parquet'\n",
    "source_path = Path(DEST_DIR) / f'df_OHLCV_clean_stocks_etfs.parquet'\n",
    "dest_path = Path(DEST_DIR) / f'{DATE_STR}_df_perf_ratios_stocks_etfs.parquet'\n",
    "\n",
    "print(f\"source_path: {source_path}\")\n",
    "print(f\"dest_path: {dest_path}\")"
   ]
  },
  {
   "cell_type": "code",
   "execution_count": 28,
   "metadata": {
    "execution": {
     "iopub.execute_input": "2025-04-10T23:20:33.554794Z",
     "iopub.status.busy": "2025-04-10T23:20:33.553795Z",
     "iopub.status.idle": "2025-04-10T23:20:33.663314Z",
     "shell.execute_reply": "2025-04-10T23:20:33.662298Z"
    }
   },
   "outputs": [],
   "source": [
    "import pandas as pd\n",
    "\n",
    "# Get tickers from df_finviz_stocks_etfs.pkl file\n",
    "df_finviz = pd.read_parquet(f'..\\data\\{DATE_STR}_df_finviz_stocks_etfs.parquet')\n",
    "tickers = df_finviz.index.to_list()"
   ]
  },
  {
   "cell_type": "code",
   "execution_count": 29,
   "metadata": {},
   "outputs": [
    {
     "name": "stdout",
     "output_type": "stream",
     "text": [
      "        No.                                           Company               Index                  Sector                        Industry Country Exchange  Market Cap, M    P/E  Fwd P/E   PEG    P/S    P/B    P/C   P/FCF  Book/sh  Cash/sh  Dividend %  Dividend TTM Dividend Ex Date  Payout Ratio %    EPS  EPS next Q  EPS this Y %  EPS next Y %  EPS past 5Y %  EPS next 5Y %  Sales past 5Y %  Sales Q/Q %  EPS Q/Q %  EPS YoY TTM %  Sales YoY TTM %  Sales, M  Income, M  EPS Surprise %  Revenue Surprise %  Outstanding, M  Float, M  Float %  Insider Own %  Insider Trans %  Inst Own %  Inst Trans %  Short Float %  Short Ratio  Short Interest, M  ROA %   ROE %  ROI %  Curr R  Quick R  LTDebt/Eq  Debt/Eq  Gross M %  Oper M %  Profit M %  Perf Week %  Perf Month %  Perf Quart %  Perf Half %  Perf Year %  Perf YTD %  Beta    ATR  Volatility W %  Volatility M %  SMA20 %  SMA50 %  SMA200 %  50D High %  50D Low %  52W High %  52W Low %        52W Range  All-Time High %  All-Time Low %    RSI  Earnings    IPO Date Optionable Shortable  Employees  Change from Open %  Gap %  Recom  Avg Volume, M  Rel Volume     Volume  Target Price  Prev Close    Open    High     Low   Price  Change %                              Single Category         Asset Type  Expense %  Holdings  AUM, M  Flows 1M, M  Flows% 1M  Flows 3M, M  Flows% 3M  Flows YTD, M  Flows% YTD  Return% 1Y  Return% 3Y  Return% 5Y                                               Tags                                               Info  MktCap AUM, M  Rank\n",
      "Ticker                                                                                                                                                                                                                                                                                                                                                                                                                                                                                                                                                                                                                                                                                                                                                                                                                                                                                                                                                                                                                                                                                                                                                                                                                                                                                                                                                                                                                                                                                                                                                                 \n",
      "MSFT      1                             Microsoft Corporation  DJIA, NDX, S&P 500              Technology       Software - Infrastructure     USA     NASD      3367170.0  35.01    30.00  2.43  12.47  10.46  42.29   48.54    43.30    10.71        0.72          3.16        5/15/2025           25.42  12.94        3.38         13.31         12.95          18.45          14.40            14.40        13.27      17.88          12.10            14.13  270010.0    96640.0            7.38                2.38          7430.0    7320.0    98.51           1.47            -0.11       73.84          0.81           0.69         2.00              50.31  18.46   33.61  23.24    1.37     1.36       0.29     0.33      69.07     45.23       35.79         4.54         16.82         10.75         7.22         9.23        7.48  1.02  10.83            1.59            2.13    10.61    14.99      9.31        0.52      31.39       -3.27      31.39  344.79 - 468.35            -3.27       568471.45  76.32  Apr 30/a   3/13/1986        Yes       Yes   228000.0                1.06  -0.19   1.30       25.20000        0.53   13310158        505.81      449.14  448.27  453.90  448.14  453.03      0.87                                                                        NaN       NaN     NaN          NaN        NaN          NaN        NaN           NaN         NaN         NaN         NaN         NaN                                                  -              Technology, Software - Infrastructure      3367170.0     1\n",
      "NVDA      2                                       NVIDIA Corp  DJIA, NDX, S&P 500              Technology                  Semiconductors     USA     NASD      3293170.0  45.94    23.96  1.55  25.24  41.67  76.21   54.12     3.24     1.77        0.03          0.04        3/12/2025            1.16   2.94        0.88         47.54         27.76          91.83          29.72            70.88        77.94      81.23         146.26           114.20  130500.0    72880.0            4.97                3.23         24480.0   23410.0    95.65           4.00            -0.13       67.17          1.18           1.07         0.87             249.77  82.20  119.18  81.60    4.44     3.88       0.13     0.13      74.99     62.42       55.85        15.36         21.97          2.97        -8.53        50.24        0.55  2.10   5.56            3.51            3.65    20.51    20.77      7.84        2.91      55.89      -11.82      55.89   86.62 - 153.13           -11.82       405004.99  73.22  May 28/a   1/22/1999        Yes       Yes    36000.0                1.34   2.56   1.43      285.84000        0.85  238792232        160.56      129.93  133.25  135.43  131.68  135.04      3.93                                                                        NaN       NaN     NaN          NaN        NaN          NaN        NaN           NaN         NaN         NaN         NaN         NaN                                                  -                         Technology, Semiconductors      3293170.0     2\n",
      "AAPL      3                                         Apple Inc  DJIA, NDX, S&P 500              Technology            Consumer Electronics     USA     NASD      3173640.0  33.16    27.23  4.06   7.93  47.52  65.44   32.22     4.47     3.25        0.49          1.01        5/12/2025           16.11   6.41        1.42          6.41          8.63          15.41           8.16             9.18         5.08       7.68          -0.36             4.91  400370.0    97290.0            1.39                0.86         14940.0   14920.0    99.88           0.10            -3.19       64.55          0.87           0.73         1.78             108.60  29.10  138.02  66.93    0.82     0.78       1.18     1.47      46.63     31.81       24.30         8.27          4.92        -10.29        -6.38        16.08      -15.15  1.24   7.21            2.35            2.63     4.04     1.45     -6.11      -11.97      25.57      -18.31      25.57  169.21 - 260.10           -18.31       333911.85  56.08  May 01/a  12/12/1980        Yes       Yes   164000.0                0.11  -0.32   2.10       61.01000        0.57   34540470        230.13      212.93  212.25  213.94  210.58  212.49     -0.21                                                                        NaN       NaN     NaN          NaN        NaN          NaN        NaN           NaN         NaN         NaN         NaN         NaN                                                  -                   Technology, Consumer Electronics      3173640.0     3\n",
      "AMZN      4                                    Amazon.com Inc  DJIA, NDX, S&P 500       Consumer Cyclical                 Internet Retail     USA     NASD      2233520.0  34.31    28.83  1.98   3.43   7.30  22.73  107.33    28.82     9.25         NaN           NaN                -            0.00   6.13        1.32         12.17         17.63          36.89          17.37            18.31         8.62      62.33          71.88            10.08  650310.0    65940.0           16.38                0.33         10610.0    9490.0    89.44          10.58            -0.31       65.29          2.50           0.69         1.27              65.74  11.23   25.24  15.02    1.05     0.84       0.44     0.49      49.16     11.15       10.14        11.49         15.52         -8.10         1.06        12.22       -4.10  1.35   7.54            2.63            2.97    11.94    10.48      5.41       -2.07      30.37      -13.25      38.77  151.61 - 242.52           -13.25       320486.67  66.84  May 01/a   5/15/1997        Yes       Yes  1556000.0               -0.53   0.06   1.25       51.79000        0.58   29676194        238.97      211.37  211.50  211.93  208.85  210.38     -0.47                                                                        NaN       NaN     NaN          NaN        NaN          NaN        NaN           NaN         NaN         NaN         NaN         NaN                                                  -                 Consumer Cyclical, Internet Retail      2233520.0     4\n",
      "GOOG      5                                      Alphabet Inc        NDX, S&P 500  Communication Services  Internet Content & Information     USA     NASD      2013070.0  18.59    16.38  1.39   5.60   5.87  21.12   26.88    28.41     7.89        0.32          0.80         6/9/2025            7.46   8.97        2.16         18.59          6.73          26.76          13.39            17.30        11.81      48.77          37.73            13.02  359310.0   111000.0           38.84                1.15          5470.0    5070.0    92.62          58.22            -0.01       27.50          0.72           0.79         1.66              40.11  25.15   34.79  30.02    1.77     1.77       0.07     0.08      58.54     32.60       30.89         9.07          3.22        -10.12        -7.34        -2.13      -12.48  0.99   5.67            4.00            2.83     4.46     3.21     -3.45       -5.79      16.83      -20.14      16.83  142.66 - 208.70           -20.14          585.55  56.88  Apr 24/a   3/27/2014        Yes       Yes   183323.0                3.40   0.19   1.45       24.16000        1.09   25944628        200.04      160.89  161.19  168.34  160.93  166.66      3.59                                                                        NaN       NaN     NaN          NaN        NaN          NaN        NaN           NaN         NaN         NaN         NaN         NaN                                                  -  Communication Services, Internet Content & Inf...      2013070.0     5\n",
      "...     ...                                               ...                 ...                     ...                             ...     ...      ...            ...    ...      ...   ...    ...    ...    ...     ...      ...      ...         ...           ...              ...             ...    ...         ...           ...           ...            ...            ...              ...          ...        ...            ...              ...       ...        ...             ...                 ...             ...       ...      ...            ...              ...         ...           ...            ...          ...                ...    ...     ...    ...     ...      ...        ...      ...        ...       ...         ...          ...           ...           ...          ...          ...         ...   ...    ...             ...             ...      ...      ...       ...         ...        ...         ...        ...              ...              ...             ...    ...       ...         ...        ...       ...        ...                 ...    ...    ...            ...         ...        ...           ...         ...     ...     ...     ...     ...       ...                                          ...                ...        ...       ...     ...          ...        ...          ...        ...           ...         ...         ...         ...         ...                                                ...                                                ...            ...   ...\n",
      "NEAR    396            iShares Short Duration Bond Active ETF                   -               Financial            Exchange Traded Fund     USA     AMEX            NaN    NaN      NaN   NaN    NaN    NaN    NaN     NaN      NaN      NaN        4.91          2.49         5/1/2025             NaN    NaN         NaN           NaN           NaN            NaN            NaN              NaN          NaN        NaN            NaN              NaN       NaN        NaN             NaN                 NaN             NaN       NaN      NaN            NaN              NaN         NaN           NaN            NaN         0.17               0.08    NaN     NaN    NaN     NaN      NaN        NaN      NaN        NaN       NaN         NaN        -0.27          0.28          0.36        -0.08         1.04        0.32  0.02   0.14            0.13            0.23    -0.27    -0.18     -0.20       -1.00       0.67       -1.45       1.26    50.03 - 51.40            -1.45           15.21  44.82         -   9/26/2013        Yes       Yes        NaN               -0.22   0.11    NaN        0.49668        0.48     234541           NaN       50.72   50.77   50.77   50.66   50.66     -0.11                         Bonds - Broad Market              Bonds       0.25    1306.0  3260.0        48.30       1.50       172.55       5.58        296.34        9.98        5.75        5.07        3.45        U.S., fixed-income, bonds, investment-grade  Financial, Exchange Traded Fund, Bonds - Broad...         3260.0  1556\n",
      "PTLC    397                 Pacer Trendpilot US Large Cap ETF                   -               Financial            Exchange Traded Fund     USA     AMEX            NaN    NaN      NaN   NaN    NaN    NaN    NaN     NaN      NaN      NaN        0.74          0.36       12/27/2024             NaN    NaN         NaN           NaN           NaN            NaN            NaN              NaN          NaN        NaN            NaN              NaN       NaN        NaN             NaN                 NaN             NaN       NaN      NaN            NaN              NaN         NaN           NaN            NaN         0.37               0.20    NaN     NaN    NaN     NaN      NaN        NaN      NaN        NaN       NaN         NaN         0.10          0.37        -11.43       -11.00         2.59       -8.84  0.60   0.23            0.17            0.20     0.13    -2.43     -6.85       -8.66       2.31      -12.85       4.75    46.51 - 55.90           -12.85          131.44  33.69         -   6/12/2015        Yes       Yes        NaN                0.10  -0.06    NaN        0.53320        0.63     330855           NaN       48.70   48.67   48.78   48.67   48.72      0.04                    US Equities - Quant Strat  Equities (Stocks)       0.60       5.0  3260.0       167.82       5.43       136.06       4.36        236.82        7.84        2.70        9.96       13.48         U.S., equity, treasuries, large-cap, SP500  Financial, Exchange Traded Fund, US Equities -...         3260.0  1557\n",
      "IBDR    398        iShares iBonds Dec 2026 Term Corporate ETF                   -               Financial            Exchange Traded Fund     USA     NYSE            NaN    NaN      NaN   NaN    NaN    NaN    NaN     NaN      NaN      NaN        4.21          1.02         5/1/2025             NaN    NaN         NaN           NaN           NaN            NaN            NaN              NaN          NaN        NaN            NaN              NaN       NaN        NaN             NaN                 NaN             NaN       NaN      NaN            NaN              NaN         NaN           NaN            NaN         0.20               0.13    NaN     NaN    NaN     NaN      NaN        NaN      NaN        NaN       NaN         NaN        -0.04          0.17          0.25         0.21         1.77        0.29  0.15   0.04            0.10            0.13    -0.06    -0.02      0.05       -0.37       0.54       -2.18       1.90    23.69 - 24.68           -11.05            8.88  49.09         -   9/19/2016         No       Yes        NaN                0.00   0.00    NaN        0.62540        0.79     486859           NaN       24.14   24.14   24.15   24.13   24.14      0.00                            Bonds - Corporate              Bonds       0.10     658.0  3250.0        14.56       0.45        38.74       1.21        143.56        4.62        5.65        3.76        1.86  U.S., fixed-income, corporate-bonds, bonds, in...  Financial, Exchange Traded Fund, Bonds - Corpo...         3250.0  1558\n",
      "XT      399              iShares Exponential Technologies ETF                   -               Financial            Exchange Traded Fund     USA     NASD            NaN    NaN      NaN   NaN    NaN    NaN    NaN     NaN      NaN      NaN        0.62          0.38       12/30/2024             NaN    NaN         NaN           NaN           NaN            NaN            NaN              NaN          NaN        NaN            NaN              NaN       NaN        NaN             NaN                 NaN             NaN       NaN      NaN            NaN              NaN         NaN           NaN            NaN         0.97               0.17    NaN     NaN    NaN     NaN      NaN        NaN      NaN        NaN       NaN         NaN         4.88         11.97         -2.24        -0.01         6.11        2.94  1.08   1.13            1.06            1.34     6.21     6.37      2.92       -0.72      25.31       -4.43      25.31    49.01 - 64.26            -8.97          192.34  67.81         -   3/24/2015        Yes       Yes        NaN               -0.61   0.29    NaN        0.17717        1.32     230507           NaN       61.61   61.79   61.82   61.28   61.42     -0.32  Global or ExUS Equities - Factor & Thematic  Equities (Stocks)       0.46     228.0  3240.0        13.70       0.42        14.00       0.43        -85.22       -2.56        6.95        7.31        9.68                         Global, equity, technology  Financial, Exchange Traded Fund, Global or ExU...         3240.0  1559\n",
      "SPHD    400  Invesco S&P 500 High Dividend Low Volatility ETF                   -               Financial            Exchange Traded Fund     USA     NYSE            NaN    NaN      NaN   NaN    NaN    NaN    NaN     NaN      NaN      NaN        3.47          1.63        4/21/2025             NaN    NaN         NaN           NaN           NaN            NaN            NaN              NaN          NaN        NaN            NaN              NaN       NaN        NaN             NaN                 NaN             NaN       NaN      NaN            NaN              NaN         NaN           NaN            NaN         1.31               1.20    NaN     NaN    NaN     NaN      NaN        NaN      NaN        NaN       NaN         NaN        -0.80         -0.36         -4.09        -7.00         4.64       -2.92  0.71   0.77            0.97            1.35    -0.68    -2.59     -4.43       -9.12       8.09       -9.62       8.09    43.39 - 51.89            -9.62          136.51  44.50         -  10/18/2012        Yes       Yes        NaN               -0.70  -0.13    NaN        0.91827        1.09     990931           NaN       47.29   47.23   47.50   46.64   46.90     -0.82         US Equities - Dividend & Fundamental  Equities (Stocks)       0.30      52.0  3230.0      -105.05      -3.15         3.57       0.11        -60.99       -1.85        9.03        3.75       12.92          U.S., equity, dividend, volatility, SP500  Financial, Exchange Traded Fund, US Equities -...         3230.0  1560\n",
      "\n",
      "[1560 rows x 113 columns]\n"
     ]
    }
   ],
   "source": [
    "print(df_finviz) "
   ]
  },
  {
   "cell_type": "code",
   "execution_count": 30,
   "metadata": {
    "execution": {
     "iopub.execute_input": "2025-04-10T23:20:33.976927Z",
     "iopub.status.busy": "2025-04-10T23:20:33.974932Z",
     "iopub.status.idle": "2025-04-10T23:20:34.223993Z",
     "shell.execute_reply": "2025-04-10T23:20:34.221971Z"
    }
   },
   "outputs": [
    {
     "data": {
      "text/html": [
       "<div>\n",
       "<style scoped>\n",
       "    .dataframe tbody tr th:only-of-type {\n",
       "        vertical-align: middle;\n",
       "    }\n",
       "\n",
       "    .dataframe tbody tr th {\n",
       "        vertical-align: top;\n",
       "    }\n",
       "\n",
       "    .dataframe thead th {\n",
       "        text-align: right;\n",
       "    }\n",
       "</style>\n",
       "<table border=\"1\" class=\"dataframe\">\n",
       "  <thead>\n",
       "    <tr style=\"text-align: right;\">\n",
       "      <th></th>\n",
       "      <th></th>\n",
       "      <th>Adj Close</th>\n",
       "    </tr>\n",
       "    <tr>\n",
       "      <th>Symbol</th>\n",
       "      <th>Date</th>\n",
       "      <th></th>\n",
       "    </tr>\n",
       "  </thead>\n",
       "  <tbody>\n",
       "    <tr>\n",
       "      <th rowspan=\"5\" valign=\"top\">A</th>\n",
       "      <th>2025-05-14</th>\n",
       "      <td>111.5200</td>\n",
       "    </tr>\n",
       "    <tr>\n",
       "      <th>2025-05-13</th>\n",
       "      <td>115.4200</td>\n",
       "    </tr>\n",
       "    <tr>\n",
       "      <th>2025-05-12</th>\n",
       "      <td>115.5500</td>\n",
       "    </tr>\n",
       "    <tr>\n",
       "      <th>2025-05-09</th>\n",
       "      <td>106.9300</td>\n",
       "    </tr>\n",
       "    <tr>\n",
       "      <th>2025-05-08</th>\n",
       "      <td>108.7000</td>\n",
       "    </tr>\n",
       "    <tr>\n",
       "      <th>...</th>\n",
       "      <th>...</th>\n",
       "      <td>...</td>\n",
       "    </tr>\n",
       "    <tr>\n",
       "      <th rowspan=\"5\" valign=\"top\">ZWS</th>\n",
       "      <th>2024-02-07</th>\n",
       "      <td>32.7917</td>\n",
       "    </tr>\n",
       "    <tr>\n",
       "      <th>2024-02-06</th>\n",
       "      <td>31.4780</td>\n",
       "    </tr>\n",
       "    <tr>\n",
       "      <th>2024-02-05</th>\n",
       "      <td>30.8064</td>\n",
       "    </tr>\n",
       "    <tr>\n",
       "      <th>2024-02-02</th>\n",
       "      <td>30.4805</td>\n",
       "    </tr>\n",
       "    <tr>\n",
       "      <th>2024-02-01</th>\n",
       "      <td>29.8878</td>\n",
       "    </tr>\n",
       "  </tbody>\n",
       "</table>\n",
       "<p>503286 rows × 1 columns</p>\n",
       "</div>"
      ],
      "text/plain": [
       "                   Adj Close\n",
       "Symbol Date                 \n",
       "A      2025-05-14   111.5200\n",
       "       2025-05-13   115.4200\n",
       "       2025-05-12   115.5500\n",
       "       2025-05-09   106.9300\n",
       "       2025-05-08   108.7000\n",
       "...                      ...\n",
       "ZWS    2024-02-07    32.7917\n",
       "       2024-02-06    31.4780\n",
       "       2024-02-05    30.8064\n",
       "       2024-02-02    30.4805\n",
       "       2024-02-01    29.8878\n",
       "\n",
       "[503286 rows x 1 columns]"
      ]
     },
     "metadata": {},
     "output_type": "display_data"
    }
   ],
   "source": [
    "import pandas as pd\n",
    "\n",
    "# Load the DataFrame df_OHLCV_2025-03-14_clean.pkl\n",
    "# df = pd.read_pickle(source_path)\n",
    "df = pd.read_parquet(source_path, engine='pyarrow')\n",
    "\n",
    "# Display the first few rows of the DataFrame to verify\n",
    "df = df[['Adj Close']].copy()\n",
    "display(df)"
   ]
  },
  {
   "cell_type": "code",
   "execution_count": 31,
   "metadata": {
    "execution": {
     "iopub.execute_input": "2025-04-10T23:20:34.230987Z",
     "iopub.status.busy": "2025-04-10T23:20:34.229986Z",
     "iopub.status.idle": "2025-04-10T23:20:34.274225Z",
     "shell.execute_reply": "2025-04-10T23:20:34.272208Z"
    }
   },
   "outputs": [
    {
     "name": "stdout",
     "output_type": "stream",
     "text": [
      "<class 'pandas.core.frame.DataFrame'>\n",
      "MultiIndex: 503286 entries, ('A', Timestamp('2025-05-14 00:00:00')) to ('ZWS', Timestamp('2024-02-01 00:00:00'))\n",
      "Data columns (total 1 columns):\n",
      " #   Column     Non-Null Count   Dtype  \n",
      "---  ------     --------------   -----  \n",
      " 0   Adj Close  503286 non-null  float64\n",
      "dtypes: float64(1)\n",
      "memory usage: 5.8+ MB\n"
     ]
    }
   ],
   "source": [
    "df.info()"
   ]
  },
  {
   "cell_type": "code",
   "execution_count": 32,
   "metadata": {},
   "outputs": [],
   "source": [
    "import pandas as pd\n",
    "\n",
    "def select_tickers_data(df, tickers, end_date=None):\n",
    "    \"\"\"\n",
    "    Selects data for a list of tickers from a DataFrame with a MultiIndex\n",
    "    where the first level is the ticker and the second level is the date.\n",
    "    Optionally filters the data to include only dates up to and including end_date.\n",
    "\n",
    "    Args:\n",
    "        df (pd.DataFrame): The input DataFrame with a MultiIndex\n",
    "                           where the first level is the ticker and the second\n",
    "                           level is the date.\n",
    "        tickers (list): A list of ticker symbols to select.\n",
    "        end_date (str or pd.Timestamp, optional): The last date to include\n",
    "                                                  in the returned DataFrame.\n",
    "                                                  If None (default), all dates are included.\n",
    "                                                  Can be a string that pandas can parse as a date\n",
    "                                                  or a pandas Timestamp object.\n",
    "\n",
    "    Returns:\n",
    "        pd.DataFrame: A DataFrame containing only the data for the specified tickers\n",
    "                      and dates up to the end_date (if provided).\n",
    "                      Rows for tickers not found will not be included.\n",
    "    \"\"\"\n",
    "    valid_tickers = [t for t in tickers if t in df.index.get_level_values(0)]  # Filter out the tickers that do not exist\n",
    "\n",
    "    if not valid_tickers:\n",
    "        print(\"No valid tickers found in the DataFrame. Returning an empty DataFrame.\")\n",
    "        return pd.DataFrame()\n",
    "\n",
    "    try:\n",
    "        ticker_df = df.loc[valid_tickers]\n",
    "        if end_date is not None:\n",
    "            if isinstance(end_date, str):\n",
    "                end_date = pd.to_datetime(end_date)\n",
    "            # Ensure the second level of the MultiIndex is datetime objects for comparison\n",
    "            if not isinstance(ticker_df.index.get_level_values(1)[0], pd.Timestamp):\n",
    "                ticker_df.index = ticker_df.index.set_levels(pd.to_datetime(ticker_df.index.get_level_values(1)), level=1)\n",
    "            ticker_df = ticker_df[ticker_df.index.get_level_values(1) <= end_date]\n",
    "        return ticker_df\n",
    "    except KeyError as e:\n",
    "        print(f\"KeyError after filtering valid tickers: {e}\") #Added to help debugging.\n",
    "        return pd.DataFrame()"
   ]
  },
  {
   "cell_type": "code",
   "execution_count": 33,
   "metadata": {},
   "outputs": [
    {
     "name": "stdout",
     "output_type": "stream",
     "text": [
      "                   Adj Close\n",
      "Symbol Date                 \n",
      "MSFT   2025-05-14   452.9400\n",
      "       2025-05-13   449.1400\n",
      "       2025-05-12   449.2600\n",
      "       2025-05-09   438.7300\n",
      "       2025-05-08   438.1700\n",
      "...                      ...\n",
      "SPHD   2024-02-07    39.7676\n",
      "       2024-02-06    39.8921\n",
      "       2024-02-05    39.5666\n",
      "       2024-02-02    40.1888\n",
      "       2024-02-01    40.5813\n",
      "\n",
      "[492016 rows x 1 columns]\n"
     ]
    }
   ],
   "source": [
    "selected_data = select_tickers_data(df, tickers, end_date=DATE_STR)\n",
    "print(selected_data)"
   ]
  },
  {
   "cell_type": "code",
   "execution_count": 34,
   "metadata": {},
   "outputs": [
    {
     "data": {
      "text/html": [
       "<div>\n",
       "<style scoped>\n",
       "    .dataframe tbody tr th:only-of-type {\n",
       "        vertical-align: middle;\n",
       "    }\n",
       "\n",
       "    .dataframe tbody tr th {\n",
       "        vertical-align: top;\n",
       "    }\n",
       "\n",
       "    .dataframe thead th {\n",
       "        text-align: right;\n",
       "    }\n",
       "</style>\n",
       "<table border=\"1\" class=\"dataframe\">\n",
       "  <thead>\n",
       "    <tr style=\"text-align: right;\">\n",
       "      <th></th>\n",
       "      <th>Adj Close</th>\n",
       "    </tr>\n",
       "    <tr>\n",
       "      <th>Date</th>\n",
       "      <th></th>\n",
       "    </tr>\n",
       "  </thead>\n",
       "  <tbody>\n",
       "    <tr>\n",
       "      <th>2025-05-14</th>\n",
       "      <td>111.520</td>\n",
       "    </tr>\n",
       "    <tr>\n",
       "      <th>2025-05-13</th>\n",
       "      <td>115.420</td>\n",
       "    </tr>\n",
       "    <tr>\n",
       "      <th>2025-05-12</th>\n",
       "      <td>115.550</td>\n",
       "    </tr>\n",
       "    <tr>\n",
       "      <th>2025-05-09</th>\n",
       "      <td>106.930</td>\n",
       "    </tr>\n",
       "    <tr>\n",
       "      <th>2025-05-08</th>\n",
       "      <td>108.700</td>\n",
       "    </tr>\n",
       "    <tr>\n",
       "      <th>...</th>\n",
       "      <td>...</td>\n",
       "    </tr>\n",
       "    <tr>\n",
       "      <th>2024-02-07</th>\n",
       "      <td>131.595</td>\n",
       "    </tr>\n",
       "    <tr>\n",
       "      <th>2024-02-06</th>\n",
       "      <td>134.638</td>\n",
       "    </tr>\n",
       "    <tr>\n",
       "      <th>2024-02-05</th>\n",
       "      <td>131.625</td>\n",
       "    </tr>\n",
       "    <tr>\n",
       "      <th>2024-02-02</th>\n",
       "      <td>131.774</td>\n",
       "    </tr>\n",
       "    <tr>\n",
       "      <th>2024-02-01</th>\n",
       "      <td>131.853</td>\n",
       "    </tr>\n",
       "  </tbody>\n",
       "</table>\n",
       "<p>322 rows × 1 columns</p>\n",
       "</div>"
      ],
      "text/plain": [
       "            Adj Close\n",
       "Date                 \n",
       "2025-05-14    111.520\n",
       "2025-05-13    115.420\n",
       "2025-05-12    115.550\n",
       "2025-05-09    106.930\n",
       "2025-05-08    108.700\n",
       "...               ...\n",
       "2024-02-07    131.595\n",
       "2024-02-06    134.638\n",
       "2024-02-05    131.625\n",
       "2024-02-02    131.774\n",
       "2024-02-01    131.853\n",
       "\n",
       "[322 rows x 1 columns]"
      ]
     },
     "execution_count": 34,
     "metadata": {},
     "output_type": "execute_result"
    }
   ],
   "source": [
    "selected_data.loc[\"A\"]"
   ]
  },
  {
   "cell_type": "code",
   "execution_count": 35,
   "metadata": {
    "execution": {
     "iopub.execute_input": "2025-04-10T23:21:57.867396Z",
     "iopub.status.busy": "2025-04-10T23:21:57.866390Z",
     "iopub.status.idle": "2025-04-10T23:22:25.538470Z",
     "shell.execute_reply": "2025-04-10T23:22:25.536448Z"
    }
   },
   "outputs": [],
   "source": [
    "# Get root directory (assuming notebook is in root/notebooks/)\n",
    "NOTEBOOK_DIR = Path.cwd()\n",
    "ROOT_DIR = NOTEBOOK_DIR.parent if NOTEBOOK_DIR.name == 'notebooks' else NOTEBOOK_DIR\n",
    "\n",
    "import sys\n",
    "\n",
    "# Add src directory to Python path\n",
    "sys.path.append(str(ROOT_DIR / 'src'))\n",
    "\n",
    "import utils\n",
    "\n",
    "list_dfs = utils.get_latest_dfs(selected_data, DAYS_RATIO)"
   ]
  },
  {
   "cell_type": "code",
   "execution_count": 36,
   "metadata": {},
   "outputs": [
    {
     "name": "stdout",
     "output_type": "stream",
     "text": [
      "[3, 5, 10, 15, 30, 60, 120, 250]\n",
      "2025-05-14\n"
     ]
    }
   ],
   "source": [
    "print(DAYS_RATIO)\n",
    "print(DATE_STR)"
   ]
  },
  {
   "cell_type": "code",
   "execution_count": 37,
   "metadata": {},
   "outputs": [
    {
     "name": "stdout",
     "output_type": "stream",
     "text": [
      "3\n",
      "            Adj Close\n",
      "Date                 \n",
      "2025-05-12     115.55\n",
      "2025-05-13     115.42\n",
      "2025-05-14     111.52\n"
     ]
    }
   ],
   "source": [
    "print(len(list_dfs[0].loc[\"A\"]))\n",
    "print(list_dfs[0].loc[\"A\"])\n"
   ]
  },
  {
   "cell_type": "code",
   "execution_count": 38,
   "metadata": {
    "execution": {
     "iopub.execute_input": "2025-04-10T23:22:25.545462Z",
     "iopub.status.busy": "2025-04-10T23:22:25.544462Z",
     "iopub.status.idle": "2025-04-10T23:23:32.896939Z",
     "shell.execute_reply": "2025-04-10T23:23:32.894918Z"
    }
   },
   "outputs": [
    {
     "name": "stdout",
     "output_type": "stream",
     "text": [
      "\n",
      "Combined performance metrics DataFrame:\n",
      "      Sharpe 3d  Sortino 3d  Omega 3d  Sharpe 5d  Sortino 5d   Omega 5d  Sharpe 10d  Sortino 10d  Omega 10d  Sharpe 15d  Sortino 15d  Omega 15d  Sharpe 30d  Sortino 30d  Omega 30d  Sharpe 60d  Sortino 60d  Omega 60d  Sharpe 120d  Sortino 120d  Omega 120d  Sharpe 250d  Sortino 250d  Omega 250d\n",
      "A    -12.107300  -11.641133  0.000000   2.255932    6.052580   1.556961    2.550838     5.518188   1.597274    1.806909     3.762395   1.433312   -0.443804    -0.640653   0.925867   -1.928596    -2.585386   0.706392    -0.661716     -0.928766    0.887514    -1.018126     -1.368835    0.830139\n",
      "AA    39.844809         inf       NaN  16.809128         inf        NaN    9.721913    37.466395   5.255741    4.002854    10.146216   1.987329   -0.027722    -0.039850   0.995222   -0.901582    -1.235525   0.857737    -1.381585     -1.826163    0.783312    -0.371098     -0.519822    0.939489\n",
      "AAL    1.998362    4.862360  1.433173   6.805212   15.556456   2.959929    9.064665    20.775976   3.873460    9.055727    20.783639   4.585156    1.412297     2.293979   1.335255   -1.318031    -1.915782   0.782765    -0.376142     -0.576866    0.927219    -0.251413     -0.374038    0.951473\n",
      "AAON -11.581152  -11.398891  0.000000   0.846468    1.542993   1.188557    6.048187    27.643466   5.848681    3.762935     9.710281   2.319965    6.375037    22.755741   4.990460    2.500840     4.811455   1.824358    -0.138429     -0.176680    0.964162    -0.512551     -0.634781    0.867898\n",
      "AAPL   6.072854   26.461974  3.357420   9.951838  200.297281  26.235085   -0.090349    -0.155042   0.982728    1.057315     1.785100   1.248025   -0.353507    -0.549366   0.934535   -0.953355    -1.395407   0.827844    -0.259408     -0.375233    0.949118     0.400925      0.587509    1.082432\n",
      "...         ...         ...       ...        ...         ...        ...         ...          ...        ...         ...          ...        ...         ...          ...        ...         ...          ...        ...          ...           ...         ...          ...           ...         ...\n",
      "ZM     7.931522   54.065555  5.816542   8.904737  233.939144  21.840955    9.677095   533.089328  46.054271    9.430926   103.199804  17.997863    7.879644    59.590007  11.259979    1.588734     2.381824   1.538263    -0.206194     -0.266242    0.946683    -0.172437     -0.239709    0.956910\n",
      "ZS     8.017128   56.107478  5.998451  10.606942  152.778350  17.089867   10.327207   126.363094  16.341435   14.852641   208.310142  32.542704    2.549002     4.212105   1.671049    1.217287     1.821835   1.239263     0.966623      1.429031    1.183501     0.815901      1.120921    1.158777\n",
      "ZTO   -3.221321   -5.006023  0.554028  -1.945457   -2.709724   0.742369    1.569300     2.471710   1.268954   -0.954144    -1.333859   0.861944   -0.597822    -0.835990   0.890812   -0.547243    -0.737322   0.906337    -0.578508     -0.776001    0.906681    -0.224902     -0.327971    0.962582\n",
      "ZTS  -19.776350  -13.805669  0.000000  -8.041383   -8.709939   0.279347   -0.132176    -0.188466   0.979193    0.868005     1.226074   1.162078   -0.940339    -1.281861   0.857381   -0.044250    -0.060822   0.992684    -0.859199     -1.115353    0.864202    -0.430154     -0.583282    0.928216\n",
      "ZWS   -4.401289   -6.323246  0.436680   6.182304   24.632076   4.103350    5.389051    16.831688   2.891054    5.422677    16.359680   2.877861    1.906074     2.867546   1.417266    0.488986     0.704549   1.091789    -0.338336     -0.461986    0.940913     0.452288      0.665004    1.080823\n",
      "\n",
      "[1516 rows x 24 columns]\n"
     ]
    }
   ],
   "source": [
    "import numpy as np\n",
    "\n",
    "all_results = {}\n",
    "\n",
    "for _df in list_dfs:\n",
    "    tickers_in_df = _df.index.get_level_values(0).unique()\n",
    "    for ticker in tickers_in_df:\n",
    "        # Suppress division warnings just for this calculation\n",
    "        with np.errstate(divide='ignore', invalid='ignore'):\n",
    "            result_df = utils.analyze_stock(_df, ticker, risk_free_rate=ANNUAL_RISK_FREE_RATE)\n",
    "        \n",
    "        if result_df is not None:\n",
    "            # Extract the ticker name from the result_df index\n",
    "            ticker_name = result_df.index[0]\n",
    "            # Convert the single-row DataFrame to a dictionary\n",
    "            metrics = result_df.iloc[0].to_dict()\n",
    "            \n",
    "            # Update the existing ticker entry or create a new one\n",
    "            if ticker_name in all_results:\n",
    "                all_results[ticker_name].update(metrics)\n",
    "            else:\n",
    "                all_results[ticker_name] = metrics\n",
    "\n",
    "if all_results:\n",
    "    combined_df = pd.DataFrame.from_dict(all_results, orient='index')\n",
    "    print(\"\\nCombined performance metrics DataFrame:\")\n",
    "    print(combined_df)\n",
    "else:\n",
    "    print(\"No performance metrics were calculated.\")"
   ]
  },
  {
   "cell_type": "code",
   "execution_count": 39,
   "metadata": {},
   "outputs": [
    {
     "name": "stdout",
     "output_type": "stream",
     "text": [
      "<class 'pandas.core.frame.DataFrame'>\n",
      "Index: 1516 entries, A to ZWS\n",
      "Data columns (total 24 columns):\n",
      " #   Column        Non-Null Count  Dtype  \n",
      "---  ------        --------------  -----  \n",
      " 0   Sharpe 3d     1516 non-null   float64\n",
      " 1   Sortino 3d    1516 non-null   float64\n",
      " 2   Omega 3d      1141 non-null   float64\n",
      " 3   Sharpe 5d     1516 non-null   float64\n",
      " 4   Sortino 5d    1516 non-null   float64\n",
      " 5   Omega 5d      1367 non-null   float64\n",
      " 6   Sharpe 10d    1516 non-null   float64\n",
      " 7   Sortino 10d   1516 non-null   float64\n",
      " 8   Omega 10d     1506 non-null   float64\n",
      " 9   Sharpe 15d    1516 non-null   float64\n",
      " 10  Sortino 15d   1516 non-null   float64\n",
      " 11  Omega 15d     1516 non-null   float64\n",
      " 12  Sharpe 30d    1516 non-null   float64\n",
      " 13  Sortino 30d   1516 non-null   float64\n",
      " 14  Omega 30d     1516 non-null   float64\n",
      " 15  Sharpe 60d    1516 non-null   float64\n",
      " 16  Sortino 60d   1516 non-null   float64\n",
      " 17  Omega 60d     1516 non-null   float64\n",
      " 18  Sharpe 120d   1516 non-null   float64\n",
      " 19  Sortino 120d  1516 non-null   float64\n",
      " 20  Omega 120d    1516 non-null   float64\n",
      " 21  Sharpe 250d   1516 non-null   float64\n",
      " 22  Sortino 250d  1516 non-null   float64\n",
      " 23  Omega 250d    1516 non-null   float64\n",
      "dtypes: float64(24)\n",
      "memory usage: 296.1+ KB\n"
     ]
    }
   ],
   "source": [
    "combined_df.info()"
   ]
  },
  {
   "cell_type": "code",
   "execution_count": 40,
   "metadata": {
    "execution": {
     "iopub.execute_input": "2025-04-10T23:23:32.903933Z",
     "iopub.status.busy": "2025-04-10T23:23:32.902939Z",
     "iopub.status.idle": "2025-04-10T23:23:33.077437Z",
     "shell.execute_reply": "2025-04-10T23:23:33.076061Z"
    }
   },
   "outputs": [
    {
     "name": "stdout",
     "output_type": "stream",
     "text": [
      "combined_df has_nan_inf: True\n",
      "Replacing NaN/Inf values with column-specific max/min values\n",
      "NaN/Inf Locations BEFORE Replacement:\n",
      "Column: Sharpe 3d\n",
      "  -Inf: ['BSCQ', 'FTSM', 'RITM']\n",
      "Column: Sortino 3d\n",
      "  Inf: ['AA', 'ABEV', 'ACHR', 'ACM', 'ACWI', 'ADBE', 'ADI', 'AER', 'AL', 'ALSN', 'AM', 'AMAT', 'AMD', 'AMP', 'AMX', 'ANET', 'ANSS', 'APP', 'APTV', 'ARKK', 'ARM', 'AS', 'ASML', 'ASR', 'ASX', 'ATI', 'AVEM', 'AXON', 'BA', 'BAC', 'BAM', 'BAP', 'BBCA', 'BBUS', 'BBVA', 'BBWI', 'BCH', 'BCS', 'BEKE', 'BIRK', 'BLK', 'BMA', 'BMO', 'BN', 'BNS', 'BNT', 'BPOP', 'BR', 'BROS', 'BSAC', 'BSCP', 'BURL', 'BXSL', 'BYD', 'CART', 'CCJ', 'CCL', 'CDNS', 'CELH', 'CFLT', 'CG', 'CGGO', 'CGGR', 'CGXU', 'CHDN', 'CHRW', 'CHTR', 'CHWY', 'CLH', 'CLS', 'CM', 'CNI', 'COHR', 'COIN', 'COOP', 'COR', 'CP', 'CPNG', 'CPRT', 'CQP', 'CRDO', 'CRK', 'CRM', 'CRS', 'CSX', 'CTRA', 'CVNA', 'CW', 'CWB', 'CWEN', 'CWEN-A', 'CZR', 'DAR', 'DB', 'DDOG', 'DELL', 'DFAE', 'DFEM', 'DFUS', 'DINO', 'DIS', 'DRI', 'DSI', 'DT', 'DTM', 'DUOL', 'DYNF', 'EC', 'EEM', 'EEMV', 'EHC', 'EMXC', 'ENB', 'ENSG', 'EPD', 'EQT', 'ERIE', 'ERJ', 'ESGE', 'ESGU', 'ESGV', 'ET', 'EUFN', 'EVR', 'EW', 'EWT', 'EXAS', 'EXE', 'F', 'FBCG', 'FCNCA', 'FDN', 'FELC', 'FELG', 'FHN', 'FIX', 'FLEX', 'FLS', 'FMX', 'FNDE', 'FOUR', 'FRHC', 'FSK', 'FSLR', 'FTAI', 'FTEC', 'FTI', 'FWONK', 'GAP', 'GDDY', 'GE', 'GFS', 'GGAL', 'GME', 'GOOG', 'GOOGL', 'GRAB', 'GRMN', 'GS', 'GTLB', 'GTLS', 'GWRE', 'HLI', 'HLNE', 'HQY', 'HWM', 'IBKR', 'IEMG', 'IGF', 'IGM', 'IGV', 'IHG', 'ING', 'IONQ', 'IOO', 'IOT', 'IP', 'ISRG', 'ITA', 'ITOT', 'IUSG', 'IVV', 'IVW', 'IWB', 'IWF', 'IWP', 'IWV', 'IWY', 'IXN', 'IYW', 'JCI', 'JEPQ', 'JGRO', 'JMST', 'JPM', 'KB', 'KBWB', 'KD', 'KKR', 'KLAC', 'KNTK', 'LBRDA', 'LBRDK', 'LCID', 'LECO', 'LNG', 'LNT', 'LOGI', 'LPLA', 'LRN', 'LULU', 'LUV', 'LYG', 'MAT', 'MELI', 'META', 'MFG', 'MGC', 'MGK', 'MGM', 'MKSI', 'MLI', 'MNDY', 'MPC', 'MPLX', 'MRVL', 'MS', 'MSI', 'MTCH', 'MTSI', 'MTUM', 'MTZ', 'MUFG', 'NCLH', 'NEE', 'NET', 'NFLX', 'NICE', 'NMR', 'NSC', 'NTAP', 'NU', 'NVDA', 'NVDL', 'NVT', 'NWG', 'NXT', 'NYT', 'OBDC', 'OEF', 'OKE', 'ONB', 'ONEQ', 'ONON', 'ORCL', 'OSK', 'OWL', 'PBUS', 'PCTY', 'PLTR', 'PNC', 'PSO', 'PSTG', 'QLD', 'QQQ', 'QQQM', 'QRVO', 'QUAL', 'QXO', 'R', 'RACE', 'RBA', 'RBLX', 'RCL', 'RDY', 'RELX', 'RKLB', 'RMBS', 'ROKU', 'ROST', 'RSPT', 'RTX', 'RY', 'RYAAY', 'SAN', 'SCCO', 'SCHB', 'SCHE', 'SCHG', 'SCHK', 'SCHW', 'SCHX', 'SE', 'SHOP', 'SKYY', 'SMCI', 'SMFG', 'SMH', 'SMR', 'SNOW', 'SNPS', 'SOXL', 'SOXX', 'SPEM', 'SPLG', 'SPMO', 'SPTM', 'SPXL', 'SPY', 'SPYG', 'SPYI', 'SRAD', 'SRLN', 'SSO', 'STEP', 'STN', 'SYM', 'TAP', 'TCOM', 'TD', 'TFII', 'TFLO', 'THC', 'TIGO', 'TIMB', 'TME', 'TOST', 'TPG', 'TPL', 'TQQQ', 'TRMB', 'TROW', 'TRP', 'TSLA', 'TSLL', 'TSM', 'UBS', 'UPRO', 'USFD', 'V', 'VCR', 'VERX', 'VGT', 'VIPS', 'VONE', 'VONG', 'VOO', 'VOOG', 'VOX', 'VRT', 'VTI', 'VUG', 'VV', 'VWO', 'WAL', 'WDAY', 'WDC', 'WDS', 'WES', 'WFC', 'WIX', 'WMB', 'WTFC', 'WWD', 'WYNN', 'XEL', 'XLC', 'XLG', 'XLK', 'XLY', 'XMMO', 'XP', 'XYZ', 'YMM', 'YPF']\n",
      "Column: Omega 3d\n",
      "  NaN: ['AA', 'ABEV', 'ACHR', 'ACM', 'ACWI', 'ADBE', 'ADI', 'AER', 'AL', 'ALSN', 'AM', 'AMAT', 'AMD', 'AMP', 'AMX', 'ANET', 'ANSS', 'APP', 'APTV', 'ARKK', 'ARM', 'AS', 'ASML', 'ASR', 'ASX', 'ATI', 'AVEM', 'AXON', 'BA', 'BAC', 'BAM', 'BAP', 'BBCA', 'BBUS', 'BBVA', 'BBWI', 'BCH', 'BCS', 'BEKE', 'BIRK', 'BLK', 'BMA', 'BMO', 'BN', 'BNS', 'BNT', 'BPOP', 'BR', 'BROS', 'BSAC', 'BSCP', 'BURL', 'BXSL', 'BYD', 'CART', 'CCJ', 'CCL', 'CDNS', 'CELH', 'CFLT', 'CG', 'CGGO', 'CGGR', 'CGXU', 'CHDN', 'CHRW', 'CHTR', 'CHWY', 'CLH', 'CLS', 'CM', 'CNI', 'COHR', 'COIN', 'COOP', 'COR', 'CP', 'CPNG', 'CPRT', 'CQP', 'CRDO', 'CRK', 'CRM', 'CRS', 'CSX', 'CTRA', 'CVNA', 'CW', 'CWB', 'CWEN', 'CWEN-A', 'CZR', 'DAR', 'DB', 'DDOG', 'DELL', 'DFAE', 'DFEM', 'DFUS', 'DINO', 'DIS', 'DRI', 'DSI', 'DT', 'DTM', 'DUOL', 'DYNF', 'EC', 'EEM', 'EEMV', 'EHC', 'EMXC', 'ENB', 'ENSG', 'EPD', 'EQT', 'ERIE', 'ERJ', 'ESGE', 'ESGU', 'ESGV', 'ET', 'EUFN', 'EVR', 'EW', 'EWT', 'EXAS', 'EXE', 'F', 'FBCG', 'FCNCA', 'FDN', 'FELC', 'FELG', 'FHN', 'FIX', 'FLEX', 'FLS', 'FMX', 'FNDE', 'FOUR', 'FRHC', 'FSK', 'FSLR', 'FTAI', 'FTEC', 'FTI', 'FWONK', 'GAP', 'GDDY', 'GE', 'GFS', 'GGAL', 'GME', 'GOOG', 'GOOGL', 'GRAB', 'GRMN', 'GS', 'GTLB', 'GTLS', 'GWRE', 'HLI', 'HLNE', 'HQY', 'HWM', 'IBKR', 'IEMG', 'IGF', 'IGM', 'IGV', 'IHG', 'ING', 'IONQ', 'IOO', 'IOT', 'IP', 'ISRG', 'ITA', 'ITOT', 'IUSG', 'IVV', 'IVW', 'IWB', 'IWF', 'IWP', 'IWV', 'IWY', 'IXN', 'IYW', 'JCI', 'JEPQ', 'JGRO', 'JMST', 'JPM', 'KB', 'KBWB', 'KD', 'KKR', 'KLAC', 'KNTK', 'LBRDA', 'LBRDK', 'LCID', 'LECO', 'LNG', 'LNT', 'LOGI', 'LPLA', 'LRN', 'LULU', 'LUV', 'LYG', 'MAT', 'MELI', 'META', 'MFG', 'MGC', 'MGK', 'MGM', 'MKSI', 'MLI', 'MNDY', 'MPC', 'MPLX', 'MRVL', 'MS', 'MSI', 'MTCH', 'MTSI', 'MTUM', 'MTZ', 'MUFG', 'NCLH', 'NEE', 'NET', 'NFLX', 'NICE', 'NMR', 'NSC', 'NTAP', 'NU', 'NVDA', 'NVDL', 'NVT', 'NWG', 'NXT', 'NYT', 'OBDC', 'OEF', 'OKE', 'ONB', 'ONEQ', 'ONON', 'ORCL', 'OSK', 'OWL', 'PBUS', 'PCTY', 'PLTR', 'PNC', 'PSO', 'PSTG', 'QLD', 'QQQ', 'QQQM', 'QRVO', 'QUAL', 'QXO', 'R', 'RACE', 'RBA', 'RBLX', 'RCL', 'RDY', 'RELX', 'RKLB', 'RMBS', 'ROKU', 'ROST', 'RSPT', 'RTX', 'RY', 'RYAAY', 'SAN', 'SCCO', 'SCHB', 'SCHE', 'SCHG', 'SCHK', 'SCHW', 'SCHX', 'SE', 'SHOP', 'SKYY', 'SMCI', 'SMFG', 'SMH', 'SMR', 'SNOW', 'SNPS', 'SOXL', 'SOXX', 'SPEM', 'SPLG', 'SPMO', 'SPTM', 'SPXL', 'SPY', 'SPYG', 'SPYI', 'SRAD', 'SRLN', 'SSO', 'STEP', 'STN', 'SYM', 'TAP', 'TCOM', 'TD', 'TFII', 'TFLO', 'THC', 'TIGO', 'TIMB', 'TME', 'TOST', 'TPG', 'TPL', 'TQQQ', 'TRMB', 'TROW', 'TRP', 'TSLA', 'TSLL', 'TSM', 'UBS', 'UPRO', 'USFD', 'V', 'VCR', 'VERX', 'VGT', 'VIPS', 'VONE', 'VONG', 'VOO', 'VOOG', 'VOX', 'VRT', 'VTI', 'VUG', 'VV', 'VWO', 'WAL', 'WDAY', 'WDC', 'WDS', 'WES', 'WFC', 'WIX', 'WMB', 'WTFC', 'WWD', 'WYNN', 'XEL', 'XLC', 'XLG', 'XLK', 'XLY', 'XMMO', 'XP', 'XYZ', 'YMM', 'YPF']\n",
      "Column: Sortino 5d\n",
      "  Inf: ['AA', 'ACHR', 'ACM', 'ACWI', 'ADI', 'AER', 'AL', 'AM', 'AMD', 'AMP', 'APTV', 'ASX', 'ATI', 'AVEM', 'BA', 'BAC', 'BBCA', 'BBVA', 'BCS', 'BIRK', 'BMA', 'BMO', 'BNS', 'BR', 'BXSL', 'BYD', 'CCJ', 'CELH', 'CG', 'CGGO', 'CGGR', 'CGXU', 'CHDN', 'CPNG', 'CRS', 'CTRA', 'CW', 'CWB', 'CZR', 'DAR', 'DB', 'DFAE', 'DFEM', 'DIS', 'DT', 'DUOL', 'EC', 'EEM', 'EEMV', 'EHC', 'EMXC', 'ENSG', 'EPD', 'ESGE', 'ET', 'EVR', 'EWT', 'F', 'FCNCA', 'FHN', 'FNDE', 'FOUR', 'FRHC', 'FSLR', 'FTI', 'GE', 'GFS', 'GGAL', 'GME', 'GRMN', 'GS', 'GTLS', 'GWRE', 'IBKR', 'IEMG', 'ING', 'IXN', 'JCI', 'JEPQ', 'KD', 'LCID', 'LPLA', 'LUV', 'MELI', 'MFG', 'MGM', 'MKSI', 'MLI', 'MPC', 'MRVL', 'MTZ', 'MUFG', 'NET', 'NMR', 'NU', 'NVT', 'NXT', 'NYT', 'OBDC', 'OKE', 'ONEQ', 'ORCL', 'OSK', 'PCTY', 'QRVO', 'RBLX', 'RCL', 'RDY', 'RSPT', 'RY', 'SAN', 'SCCO', 'SCHE', 'SCHW', 'SMFG', 'SMH', 'SMR', 'SNOW', 'SOXL', 'SOXX', 'SPEM', 'SRAD', 'SRLN', 'SYM', 'TAP', 'TD', 'TFII', 'TOST', 'TPG', 'TPL', 'TRMB', 'TROW', 'TSLA', 'TSLL', 'TSM', 'UBS', 'V', 'VCR', 'VWO', 'WDAY', 'WDS', 'WES', 'WWD', 'WYNN', 'XLY', 'XMMO', 'XP', 'XYZ', 'YPF']\n",
      "Column: Omega 5d\n",
      "  NaN: ['AA', 'ACHR', 'ACM', 'ACWI', 'ADI', 'AER', 'AL', 'AM', 'AMD', 'AMP', 'APTV', 'ASX', 'ATI', 'AVEM', 'BA', 'BAC', 'BBCA', 'BBVA', 'BCS', 'BIRK', 'BMA', 'BMO', 'BNS', 'BR', 'BXSL', 'BYD', 'CCJ', 'CELH', 'CG', 'CGGO', 'CGGR', 'CGXU', 'CHDN', 'CPNG', 'CRS', 'CTRA', 'CW', 'CWB', 'CZR', 'DAR', 'DB', 'DFAE', 'DFEM', 'DIS', 'DT', 'DUOL', 'EC', 'EEM', 'EEMV', 'EHC', 'EMXC', 'ENSG', 'EPD', 'ESGE', 'ET', 'EVR', 'EWT', 'F', 'FCNCA', 'FHN', 'FNDE', 'FOUR', 'FRHC', 'FSLR', 'FTI', 'GE', 'GFS', 'GGAL', 'GME', 'GRMN', 'GS', 'GTLS', 'GWRE', 'IBKR', 'IEMG', 'ING', 'IXN', 'JCI', 'JEPQ', 'KD', 'LCID', 'LPLA', 'LUV', 'MELI', 'MFG', 'MGM', 'MKSI', 'MLI', 'MPC', 'MRVL', 'MTZ', 'MUFG', 'NET', 'NMR', 'NU', 'NVT', 'NXT', 'NYT', 'OBDC', 'OKE', 'ONEQ', 'ORCL', 'OSK', 'PCTY', 'QRVO', 'RBLX', 'RCL', 'RDY', 'RSPT', 'RY', 'SAN', 'SCCO', 'SCHE', 'SCHW', 'SMFG', 'SMH', 'SMR', 'SNOW', 'SOXL', 'SOXX', 'SPEM', 'SRAD', 'SRLN', 'SYM', 'TAP', 'TD', 'TFII', 'TOST', 'TPG', 'TPL', 'TRMB', 'TROW', 'TSLA', 'TSLL', 'TSM', 'UBS', 'V', 'VCR', 'VWO', 'WDAY', 'WDS', 'WES', 'WWD', 'WYNN', 'XLY', 'XMMO', 'XP', 'XYZ', 'YPF']\n",
      "Column: Sortino 10d\n",
      "  Inf: ['AER', 'ATI', 'BBVA', 'FOUR', 'FRHC', 'GWRE', 'MPC', 'MTZ', 'SNOW', 'WYNN']\n",
      "Column: Omega 10d\n",
      "  NaN: ['AER', 'ATI', 'BBVA', 'FOUR', 'FRHC', 'GWRE', 'MPC', 'MTZ', 'SNOW', 'WYNN']\n",
      "df_to_save has_nan_inf: False\n",
      "NaN/Inf Locations AFTER Replacement:\n",
      "No NaN or Inf values found.\n",
      "      Sharpe 3d   Sortino 3d    Omega 3d  Sharpe 5d   Sortino 5d    Omega 5d  Sharpe 10d  Sortino 10d  Omega 10d  Sharpe 15d  Sortino 15d  Omega 15d  Sharpe 30d  Sortino 30d  Omega 30d  Sharpe 60d  Sortino 60d  Omega 60d  Sharpe 120d  Sortino 120d  Omega 120d  Sharpe 250d  Sortino 250d  Omega 250d\n",
      "A    -12.107300   -11.641133    0.000000   2.255932     6.052580    1.556961    2.550838     5.518188   1.597274    1.806909     3.762395   1.433312   -0.443804    -0.640653   0.925867   -1.928596    -2.585386   0.706392    -0.661716     -0.928766    0.887514    -1.018126     -1.368835    0.830139\n",
      "AA    39.844809  8267.251809  737.505329  16.809128  4877.541867  615.512514    9.721913    37.466395   5.255741    4.002854    10.146216   1.987329   -0.027722    -0.039850   0.995222   -0.901582    -1.235525   0.857737    -1.381585     -1.826163    0.783312    -0.371098     -0.519822    0.939489\n",
      "AAL    1.998362     4.862360    1.433173   6.805212    15.556456    2.959929    9.064665    20.775976   3.873460    9.055727    20.783639   4.585156    1.412297     2.293979   1.335255   -1.318031    -1.915782   0.782765    -0.376142     -0.576866    0.927219    -0.251413     -0.374038    0.951473\n",
      "AAON -11.581152   -11.398891    0.000000   0.846468     1.542993    1.188557    6.048187    27.643466   5.848681    3.762935     9.710281   2.319965    6.375037    22.755741   4.990460    2.500840     4.811455   1.824358    -0.138429     -0.176680    0.964162    -0.512551     -0.634781    0.867898\n",
      "AAPL   6.072854    26.461974    3.357420   9.951838   200.297281   26.235085   -0.090349    -0.155042   0.982728    1.057315     1.785100   1.248025   -0.353507    -0.549366   0.934535   -0.953355    -1.395407   0.827844    -0.259408     -0.375233    0.949118     0.400925      0.587509    1.082432\n",
      "...         ...          ...         ...        ...          ...         ...         ...          ...        ...         ...          ...        ...         ...          ...        ...         ...          ...        ...          ...           ...         ...          ...           ...         ...\n",
      "ZM     7.931522    54.065555    5.816542   8.904737   233.939144   21.840955    9.677095   533.089328  46.054271    9.430926   103.199804  17.997863    7.879644    59.590007  11.259979    1.588734     2.381824   1.538263    -0.206194     -0.266242    0.946683    -0.172437     -0.239709    0.956910\n",
      "ZS     8.017128    56.107478    5.998451  10.606942   152.778350   17.089867   10.327207   126.363094  16.341435   14.852641   208.310142  32.542704    2.549002     4.212105   1.671049    1.217287     1.821835   1.239263     0.966623      1.429031    1.183501     0.815901      1.120921    1.158777\n",
      "ZTO   -3.221321    -5.006023    0.554028  -1.945457    -2.709724    0.742369    1.569300     2.471710   1.268954   -0.954144    -1.333859   0.861944   -0.597822    -0.835990   0.890812   -0.547243    -0.737322   0.906337    -0.578508     -0.776001    0.906681    -0.224902     -0.327971    0.962582\n",
      "ZTS  -19.776350   -13.805669    0.000000  -8.041383    -8.709939    0.279347   -0.132176    -0.188466   0.979193    0.868005     1.226074   1.162078   -0.940339    -1.281861   0.857381   -0.044250    -0.060822   0.992684    -0.859199     -1.115353    0.864202    -0.430154     -0.583282    0.928216\n",
      "ZWS   -4.401289    -6.323246    0.436680   6.182304    24.632076    4.103350    5.389051    16.831688   2.891054    5.422677    16.359680   2.877861    1.906074     2.867546   1.417266    0.488986     0.704549   1.091789    -0.338336     -0.461986    0.940913     0.452288      0.665004    1.080823\n",
      "\n",
      "[1516 rows x 24 columns]\n"
     ]
    }
   ],
   "source": [
    "import numpy as np\n",
    "import pandas as pd\n",
    "\n",
    "def find_nan_inf(df):\n",
    "    \"\"\"\n",
    "    Finds locations of NaN, Inf, and -Inf values in a DataFrame.\n",
    "    \n",
    "    Args:\n",
    "        df (pd.DataFrame): DataFrame to check\n",
    "        \n",
    "    Returns:\n",
    "        dict: Dictionary with column names as keys and dicts of \n",
    "              {type: indices} as values\n",
    "    \"\"\"\n",
    "    nan_inf_locations = {}\n",
    "    for col in df.columns:\n",
    "        locations = {\n",
    "            'NaN': df[col].index[df[col].isnull()].tolist(),\n",
    "            'Inf': df[col].index[df[col] == np.inf].tolist(),\n",
    "            '-Inf': df[col].index[df[col] == -np.inf].tolist()\n",
    "        }\n",
    "        if any(locations.values()):\n",
    "            nan_inf_locations[col] = locations\n",
    "    return nan_inf_locations\n",
    "\n",
    "def print_nan_inf_locations(locations, message):\n",
    "    \"\"\"Prints NaN/Inf locations with a descriptive message.\"\"\"\n",
    "    print(message)\n",
    "    if locations:\n",
    "        for col, locs in locations.items():\n",
    "            print(f\"Column: {col}\")\n",
    "            for typ, indices in locs.items():\n",
    "                if indices:\n",
    "                    print(f\"  {typ}: {indices}\")\n",
    "    else:\n",
    "        print(\"No NaN or Inf values found.\")\n",
    "\n",
    "def get_column_replacement_values(df):\n",
    "    \"\"\"\n",
    "    Calculate replacement values for each column (max for Inf/NaN, min for -Inf).\n",
    "    \n",
    "    Args:\n",
    "        df (pd.DataFrame): Input DataFrame\n",
    "        \n",
    "    Returns:\n",
    "        tuple: (max_values, min_values) dictionaries with column replacement values\n",
    "    \"\"\"\n",
    "    numeric_cols = df.select_dtypes(include=[np.number]).columns\n",
    "    max_values = {}\n",
    "    min_values = {}\n",
    "    \n",
    "    for col in numeric_cols:\n",
    "        # Get finite values only\n",
    "        finite_vals = df[col][np.isfinite(df[col])]\n",
    "        if len(finite_vals) > 0:\n",
    "            max_values[col] = finite_vals.max()\n",
    "            min_values[col] = finite_vals.min()\n",
    "        else:\n",
    "            # If no finite values, use default\n",
    "            max_values[col] = 1e5\n",
    "            min_values[col] = -1e5\n",
    "    \n",
    "    return max_values, min_values\n",
    "\n",
    "# Check for NaN or Inf values\n",
    "has_nan_inf = combined_df.isnull().any().any() or not np.isfinite(combined_df).all().all()\n",
    "print(f'combined_df has_nan_inf: {has_nan_inf}')\n",
    "\n",
    "if has_nan_inf:\n",
    "    # Calculate replacement values for each column\n",
    "    max_values, min_values = get_column_replacement_values(combined_df)\n",
    "    print(\"Replacing NaN/Inf values with column-specific max/min values\")\n",
    "    \n",
    "    nan_inf_locations_before = find_nan_inf(combined_df)\n",
    "    print_nan_inf_locations(nan_inf_locations_before, \"NaN/Inf Locations BEFORE Replacement:\")\n",
    "    \n",
    "    # Create cleaned DataFrame\n",
    "    df_to_save = combined_df.copy()\n",
    "    \n",
    "    # Replace values column by column\n",
    "    for col in df_to_save.columns:\n",
    "        if col in max_values:  # Only numeric columns will be in max_values\n",
    "            # Replace NaN and +Inf with max value\n",
    "            # NaN is from Omega ratio where daily loss series are all zero\n",
    "            # +Inf is from Sharpe ratio where daily negative excess return series are all zero\n",
    "            df_to_save[col] = df_to_save[col].fillna(max_values[col])\n",
    "            df_to_save[col] = df_to_save[col].replace([np.inf], max_values[col])\n",
    "            # Replace -Inf with min value\n",
    "            # -Inf is from Sharpe ratio where daily excess return series are the same, therefore standard deviation is zero\n",
    "            df_to_save[col] = df_to_save[col].replace([-np.inf], min_values[col])\n",
    "else:\n",
    "    print(\"No NaN or Inf values found.\")\n",
    "    df_to_save = combined_df\n",
    "\n",
    "# Verification\n",
    "print(f'df_to_save has_nan_inf: {df_to_save.isnull().any().any() or not np.isfinite(df_to_save).all().all()}')\n",
    "print_nan_inf_locations(find_nan_inf(df_to_save), \"NaN/Inf Locations AFTER Replacement:\")\n",
    "\n",
    "# Output cleaned DataFrame\n",
    "print(df_to_save)"
   ]
  },
  {
   "cell_type": "code",
   "execution_count": 41,
   "metadata": {
    "execution": {
     "iopub.execute_input": "2025-04-10T23:23:33.085474Z",
     "iopub.status.busy": "2025-04-10T23:23:33.083467Z",
     "iopub.status.idle": "2025-04-10T23:23:33.097314Z",
     "shell.execute_reply": "2025-04-10T23:23:33.095295Z"
    }
   },
   "outputs": [
    {
     "data": {
      "text/plain": [
       "'AA'"
      ]
     },
     "execution_count": 41,
     "metadata": {},
     "output_type": "execute_result"
    }
   ],
   "source": [
    "ticker_w_inf = nan_inf_locations_before['Sortino 3d']['Inf'][0]\n",
    "ticker_w_inf "
   ]
  },
  {
   "cell_type": "markdown",
   "metadata": {},
   "source": [
    "#### Use Cell below to check the inf, -inf and NaN replacement"
   ]
  },
  {
   "cell_type": "code",
   "execution_count": 42,
   "metadata": {
    "execution": {
     "iopub.execute_input": "2025-04-10T23:23:33.104314Z",
     "iopub.status.busy": "2025-04-10T23:23:33.103325Z",
     "iopub.status.idle": "2025-04-10T23:23:33.129040Z",
     "shell.execute_reply": "2025-04-10T23:23:33.127047Z"
    }
   },
   "outputs": [
    {
     "name": "stdout",
     "output_type": "stream",
     "text": [
      "combined_df.loc['ticker_w_inf']\n"
     ]
    },
    {
     "data": {
      "text/plain": [
       "Sharpe 3d       39.844809\n",
       "Sortino 3d            inf\n",
       "Omega 3d              NaN\n",
       "Sharpe 5d       16.809128\n",
       "Sortino 5d            inf\n",
       "Omega 5d              NaN\n",
       "Sharpe 10d       9.721913\n",
       "Sortino 10d     37.466395\n",
       "Omega 10d        5.255741\n",
       "Sharpe 15d       4.002854\n",
       "Sortino 15d     10.146216\n",
       "Omega 15d        1.987329\n",
       "Sharpe 30d      -0.027722\n",
       "Sortino 30d     -0.039850\n",
       "Omega 30d        0.995222\n",
       "Sharpe 60d      -0.901582\n",
       "Sortino 60d     -1.235525\n",
       "Omega 60d        0.857737\n",
       "Sharpe 120d     -1.381585\n",
       "Sortino 120d    -1.826163\n",
       "Omega 120d       0.783312\n",
       "Sharpe 250d     -0.371098\n",
       "Sortino 250d    -0.519822\n",
       "Omega 250d       0.939489\n",
       "Name: AA, dtype: float64"
      ]
     },
     "metadata": {},
     "output_type": "display_data"
    },
    {
     "name": "stdout",
     "output_type": "stream",
     "text": [
      "\n",
      "df_to_save.loc['ticker_w_inf']\n"
     ]
    },
    {
     "data": {
      "text/plain": [
       "Sharpe 3d         39.844809\n",
       "Sortino 3d      8267.251809\n",
       "Omega 3d         737.505329\n",
       "Sharpe 5d         16.809128\n",
       "Sortino 5d      4877.541867\n",
       "Omega 5d         615.512514\n",
       "Sharpe 10d         9.721913\n",
       "Sortino 10d       37.466395\n",
       "Omega 10d          5.255741\n",
       "Sharpe 15d         4.002854\n",
       "Sortino 15d       10.146216\n",
       "Omega 15d          1.987329\n",
       "Sharpe 30d        -0.027722\n",
       "Sortino 30d       -0.039850\n",
       "Omega 30d          0.995222\n",
       "Sharpe 60d        -0.901582\n",
       "Sortino 60d       -1.235525\n",
       "Omega 60d          0.857737\n",
       "Sharpe 120d       -1.381585\n",
       "Sortino 120d      -1.826163\n",
       "Omega 120d         0.783312\n",
       "Sharpe 250d       -0.371098\n",
       "Sortino 250d      -0.519822\n",
       "Omega 250d         0.939489\n",
       "Name: AA, dtype: float64"
      ]
     },
     "metadata": {},
     "output_type": "display_data"
    }
   ],
   "source": [
    "print(f\"combined_df.loc['ticker_w_inf']\")\n",
    "display(combined_df.loc[ticker_w_inf])\n",
    "print(f\"\\ndf_to_save.loc['ticker_w_inf']\")\n",
    "display(df_to_save.loc[ticker_w_inf])"
   ]
  },
  {
   "cell_type": "code",
   "execution_count": 43,
   "metadata": {
    "execution": {
     "iopub.execute_input": "2025-04-10T23:23:33.136039Z",
     "iopub.status.busy": "2025-04-10T23:23:33.135045Z",
     "iopub.status.idle": "2025-04-10T23:23:33.180475Z",
     "shell.execute_reply": "2025-04-10T23:23:33.179041Z"
    }
   },
   "outputs": [
    {
     "name": "stdout",
     "output_type": "stream",
     "text": [
      "DataFrame successfully saved to ..\\data\\2025-05-14_df_perf_ratios_stocks_etfs.parquet\n"
     ]
    }
   ],
   "source": [
    "# Save the DataFrame to parquet file (always do this)\n",
    "df_to_save.to_parquet(dest_path, engine='pyarrow', compression='zstd')\n",
    "print(f\"DataFrame successfully saved to {dest_path}\")\n",
    "\n"
   ]
  },
  {
   "cell_type": "code",
   "execution_count": 44,
   "metadata": {
    "execution": {
     "iopub.execute_input": "2025-04-10T23:23:33.187511Z",
     "iopub.status.busy": "2025-04-10T23:23:33.186505Z",
     "iopub.status.idle": "2025-04-10T23:23:33.225918Z",
     "shell.execute_reply": "2025-04-10T23:23:33.223924Z"
    }
   },
   "outputs": [
    {
     "name": "stdout",
     "output_type": "stream",
     "text": [
      "DATE_STR: 2025-05-14\n",
      "+------+-------------+--------------+------------+-------------+--------------+------------+--------------+---------------+-------------+--------------+---------------+-------------+--------------+---------------+-------------+--------------+---------------+-------------+---------------+----------------+--------------+---------------+----------------+--------------+\n",
      "|      |   Sharpe 3d |   Sortino 3d |   Omega 3d |   Sharpe 5d |   Sortino 5d |   Omega 5d |   Sharpe 10d |   Sortino 10d |   Omega 10d |   Sharpe 15d |   Sortino 15d |   Omega 15d |   Sharpe 30d |   Sortino 30d |   Omega 30d |   Sharpe 60d |   Sortino 60d |   Omega 60d |   Sharpe 120d |   Sortino 120d |   Omega 120d |   Sharpe 250d |   Sortino 250d |   Omega 250d |\n",
      "+======+=============+==============+============+=============+==============+============+==============+===============+=============+==============+===============+=============+==============+===============+=============+==============+===============+=============+===============+================+==============+===============+================+==============+\n",
      "| AAPL |      6.0729 |      26.4620 |     3.3574 |      9.9518 |     200.2973 |    26.2351 |      -0.0903 |       -0.1550 |      0.9827 |       1.0573 |        1.7851 |      1.2480 |      -0.3535 |       -0.5494 |      0.9345 |      -0.9534 |       -1.3954 |      0.8278 |       -0.2594 |        -0.3752 |       0.9491 |        0.4009 |         0.5875 |       1.0824 |\n",
      "+------+-------------+--------------+------------+-------------+--------------+------------+--------------+---------------+-------------+--------------+---------------+-------------+--------------+---------------+-------------+--------------+---------------+-------------+---------------+----------------+--------------+---------------+----------------+--------------+\n",
      "| MSFT |     10.1296 |     207.6114 |    19.4955 |     11.7469 |     612.0697 |    78.1135 |      10.2319 |       48.7285 |      9.5976 |       8.6653 |       95.7150 |     18.2966 |       3.3522 |        7.6829 |      1.9553 |       1.1126 |        2.0946 |      1.2372 |        0.6039 |         0.9935 |       1.1238 |        0.2628 |         0.3884 |       1.0506 |\n",
      "+------+-------------+--------------+------------+-------------+--------------+------------+--------------+---------------+-------------+--------------+---------------+-------------+--------------+---------------+-------------+--------------+---------------+-------------+---------------+----------------+--------------+---------------+----------------+--------------+\n",
      "| GOOG |     17.5472 |    8267.2518 |   737.5053 |     12.6690 |      61.3862 |     8.7339 |       1.4574 |        1.9225 |      1.3084 |       1.4833 |        1.9423 |      1.3255 |       1.0111 |        1.5912 |      1.1882 |      -1.0501 |       -1.4588 |      0.8408 |       -0.3203 |        -0.4478 |       0.9470 |       -0.0927 |        -0.1261 |       0.9842 |\n",
      "+------+-------------+--------------+------------+-------------+--------------+------------+--------------+---------------+-------------+--------------+---------------+-------------+--------------+---------------+-------------+--------------+---------------+-------------+---------------+----------------+--------------+---------------+----------------+--------------+\n",
      "| NVDA |     74.5563 |    8267.2518 |   737.5053 |     19.7891 |     183.6960 |    24.1435 |      13.4846 |      113.4010 |     14.0582 |      11.0598 |       45.7245 |      7.6375 |       2.5056 |        4.5324 |      1.5779 |       0.1214 |        0.1825 |      1.0212 |       -0.0142 |        -0.0199 |       0.9975 |        0.8365 |         1.2195 |       1.1535 |\n",
      "+------+-------------+--------------+------------+-------------+--------------+------------+--------------+---------------+-------------+--------------+---------------+-------------+--------------+---------------+-------------+--------------+---------------+-------------+---------------+----------------+--------------+---------------+----------------+--------------+\n",
      "| AMZN |      4.5603 |      15.3612 |     2.3685 |      9.4743 |     135.1892 |    18.0322 |       6.2635 |       25.3949 |      4.0718 |       5.4945 |       18.7009 |      3.0951 |       1.2050 |        2.0138 |      1.2375 |      -0.4849 |       -0.7343 |      0.9194 |        0.2383 |         0.3583 |       1.0426 |        0.4150 |         0.6039 |       1.0757 |\n",
      "+------+-------------+--------------+------------+-------------+--------------+------------+--------------+---------------+-------------+--------------+---------------+-------------+--------------+---------------+-------------+--------------+---------------+-------------+---------------+----------------+--------------+---------------+----------------+--------------+\n",
      "| TSLA |    117.8953 |    8267.2518 |   737.5053 |     70.7001 |    4877.5419 |   615.5125 |      12.3491 |       38.6210 |      6.2257 |       9.2170 |       28.0026 |      4.6854 |       2.2397 |        4.3113 |      1.5105 |       0.2367 |        0.3687 |      1.0407 |        0.3376 |         0.5213 |       1.0582 |        1.2646 |         2.0630 |       1.2457 |\n",
      "+------+-------------+--------------+------------+-------------+--------------+------------+--------------+---------------+-------------+--------------+---------------+-------------+--------------+---------------+-------------+--------------+---------------+-------------+---------------+----------------+--------------+---------------+----------------+--------------+\n",
      "| META |     16.5108 |    8267.2518 |   737.5053 |     10.2765 |      84.8695 |    11.6925 |       8.4999 |       34.5520 |      5.9129 |       9.3729 |       37.6874 |      6.4761 |       1.7717 |        3.0620 |      1.3820 |      -0.2788 |       -0.4278 |      0.9523 |        0.9099 |         1.4219 |       1.1771 |        0.9428 |         1.4424 |       1.1864 |\n",
      "+------+-------------+--------------+------------+-------------+--------------+------------+--------------+---------------+-------------+--------------+---------------+-------------+--------------+---------------+-------------+--------------+---------------+-------------+---------------+----------------+--------------+---------------+----------------+--------------+\n",
      "| NFLX |     27.9345 |    8267.2518 |   737.5053 |      1.0401 |       1.7173 |     1.1911 |       1.4908 |        2.3240 |      1.2549 |       3.6936 |        5.8024 |      1.7938 |       4.1439 |        7.5695 |      2.1243 |       1.0752 |        1.5720 |      1.1986 |        1.6380 |         2.5368 |       1.3387 |        1.9903 |         3.2643 |       1.4288 |\n",
      "+------+-------------+--------------+------------+-------------+--------------+------------+--------------+---------------+-------------+--------------+---------------+-------------+--------------+---------------+-------------+--------------+---------------+-------------+---------------+----------------+--------------+---------------+----------------+--------------+\n",
      "| V    |     21.7463 |    8267.2518 |   737.5053 |     16.8790 |    4877.5419 |   615.5125 |      13.9629 |       75.1525 |     15.2025 |      10.5565 |       26.4544 |      5.3959 |       0.7628 |        1.1160 |      1.1736 |       0.0976 |        0.1383 |      1.0193 |        1.1468 |         1.6574 |       1.2496 |        1.0602 |         1.5038 |       1.2239 |\n",
      "+------+-------------+--------------+------------+-------------+--------------+------------+--------------+---------------+-------------+--------------+---------------+-------------+--------------+---------------+-------------+--------------+---------------+-------------+---------------+----------------+--------------+---------------+----------------+--------------+\n",
      "| JPM  |    170.9924 |    8267.2518 |   737.5053 |     15.5131 |     218.6084 |    28.5421 |       9.9226 |       28.7799 |      5.8612 |       8.3148 |       24.2023 |      4.8197 |       1.7084 |        2.4404 |      1.3824 |      -0.3895 |       -0.5211 |      0.9324 |        0.7233 |         0.9933 |       1.1439 |        1.0433 |         1.5435 |       1.2209 |\n",
      "+------+-------------+--------------+------------+-------------+--------------+------------+--------------+---------------+-------------+--------------+---------------+-------------+--------------+---------------+-------------+--------------+---------------+-------------+---------------+----------------+--------------+---------------+----------------+--------------+\n",
      "| GLD  |     -7.5861 |      -9.0536 |     0.1934 |     -8.5415 |      -8.5992 |     0.2260 |      -1.1827 |       -1.7333 |      0.8322 |      -3.0754 |       -4.1313 |      0.6301 |       0.4995 |        0.7941 |      1.0771 |       1.3754 |        2.1948 |      1.2525 |        1.9136 |         2.9532 |       1.3710 |        1.4740 |         2.1835 |       1.2755 |\n",
      "+------+-------------+--------------+------------+-------------+--------------+------------+--------------+---------------+-------------+--------------+---------------+-------------+--------------+---------------+-------------+--------------+---------------+-------------+---------------+----------------+--------------+---------------+----------------+--------------+\n",
      "| MSTR |      6.2559 |      28.2640 |     3.5180 |      0.8616 |       1.7142 |     1.1642 |       5.5557 |       13.4230 |      2.4765 |       7.5825 |       20.9599 |      3.7271 |       2.8179 |        5.2178 |      1.7704 |       1.5403 |        2.4324 |      1.3163 |        0.4067 |         0.6083 |       1.0711 |        1.4832 |         2.4961 |       1.2870 |\n",
      "+------+-------------+--------------+------------+-------------+--------------+------------+--------------+---------------+-------------+--------------+---------------+-------------+--------------+---------------+-------------+--------------+---------------+-------------+---------------+----------------+--------------+---------------+----------------+--------------+\n",
      "| IBIT |      3.7526 |      11.2744 |     2.0044 |      3.4198 |       7.6721 |     1.6844 |       4.7917 |       10.3358 |      2.1970 |       5.1622 |       11.0751 |      2.2804 |       3.1267 |        5.0124 |      1.6795 |       0.7672 |        1.0974 |      1.1321 |        0.6285 |         0.9029 |       1.1056 |        1.0321 |         1.5848 |       1.1865 |\n",
      "+------+-------------+--------------+------------+-------------+--------------+------------+--------------+---------------+-------------+--------------+---------------+-------------+--------------+---------------+-------------+--------------+---------------+-------------+---------------+----------------+--------------+---------------+----------------+--------------+\n"
     ]
    }
   ],
   "source": [
    "import pandas as pd\n",
    "import numpy as np\n",
    "from tabulate import tabulate\n",
    "\n",
    "_symbols = ['AAPL', 'MSFT', 'GOOG', 'NVDA', 'AMZN', 'TSLA', 'META', 'NFLX', 'V', 'JPM', 'GLD', 'MSTR', 'IBIT']\n",
    "# Create and display the formatted table\n",
    "selected_df = df_to_save.loc[_symbols] #Use df_to_save here\n",
    "print(f\"DATE_STR: {DATE_STR}\")\n",
    "print(tabulate(selected_df, headers='keys', tablefmt='grid', floatfmt='.4f'))"
   ]
  },
  {
   "cell_type": "code",
   "execution_count": null,
   "metadata": {},
   "outputs": [],
   "source": []
  }
 ],
 "metadata": {
  "kernelspec": {
   "display_name": ".venv",
   "language": "python",
   "name": "python3"
  },
  "language_info": {
   "codemirror_mode": {
    "name": "ipython",
    "version": 3
   },
   "file_extension": ".py",
   "mimetype": "text/x-python",
   "name": "python",
   "nbconvert_exporter": "python",
   "pygments_lexer": "ipython3",
   "version": "3.11.9"
  }
 },
 "nbformat": 4,
 "nbformat_minor": 2
}
