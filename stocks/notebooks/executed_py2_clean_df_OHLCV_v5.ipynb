{
 "cells": [
  {
   "cell_type": "code",
   "execution_count": null,
   "metadata": {},
   "outputs": [],
   "source": []
  },
  {
   "cell_type": "code",
   "execution_count": 1,
   "metadata": {
    "execution": {
     "iopub.execute_input": "2025-04-07T23:56:14.304268Z",
     "iopub.status.busy": "2025-04-07T23:56:14.303269Z",
     "iopub.status.idle": "2025-04-07T23:56:15.122748Z",
     "shell.execute_reply": "2025-04-07T23:56:15.121744Z"
    }
   },
   "outputs": [],
   "source": [
    "import pandas as pd\n",
    "\n",
    "# Set pandas display options to show more columns and rows\n",
    "pd.set_option('display.max_columns', None)  # Show all columns\n",
    "# pd.set_option('display.max_rows', 10)       # Limit to 10 rows for readability\n",
    "pd.set_option('display.width', None)        # Let the display adjust to the window\n",
    "\n",
    "# 2. Set the display width (optional but often helpful)\n",
    "#    'None' tries to detect terminal width. \n",
    "#    A large number (e.g., 1000) ensures no wrapping unless absolutely necessary.\n",
    "pd.set_option('display.width', 1000) "
   ]
  },
  {
   "cell_type": "code",
   "execution_count": 2,
   "metadata": {
    "execution": {
     "iopub.execute_input": "2025-04-07T23:56:15.127742Z",
     "iopub.status.busy": "2025-04-07T23:56:15.127742Z",
     "iopub.status.idle": "2025-04-07T23:56:15.143333Z",
     "shell.execute_reply": "2025-04-07T23:56:15.142326Z"
    }
   },
   "outputs": [
    {
     "name": "stdout",
     "output_type": "stream",
     "text": [
      "date_str: 2025-04-07\n",
      "DOWNLOAD_DIR: C:\\Users\\ping\\Downloads\n",
      "DEST_DIR: ..\\data\n",
      "\n",
      "source_path: C:\\Users\\ping\\Downloads\\df_OHLCV_2025-04-07.parquet\n",
      "dest_path: ..\\data\\2025-04-07_df_OHLCV_clean.parquet\n"
     ]
    }
   ],
   "source": [
    "# process_files.py\n",
    "from config import date_str, DOWNLOAD_DIR, DEST_DIR\n",
    "from pathlib import Path  # Better path handling\n",
    "\n",
    "print(f\"date_str: {date_str}\")\n",
    "print(f\"DOWNLOAD_DIR: {DOWNLOAD_DIR}\")\n",
    "print(f\"DEST_DIR: {DEST_DIR}\\n\")\n",
    "\n",
    "# Build paths\n",
    "source_path = Path(DOWNLOAD_DIR) / f'df_OHLCV_{date_str}.parquet'\n",
    "dest_path = Path(DEST_DIR) / f'{date_str}_df_OHLCV_clean.parquet'\n",
    "\n",
    "print(f\"source_path: {source_path}\")\n",
    "print(f\"dest_path: {dest_path}\")"
   ]
  },
  {
   "cell_type": "code",
   "execution_count": 3,
   "metadata": {
    "execution": {
     "iopub.execute_input": "2025-04-07T23:56:15.200333Z",
     "iopub.status.busy": "2025-04-07T23:56:15.199333Z",
     "iopub.status.idle": "2025-04-07T23:56:15.438530Z",
     "shell.execute_reply": "2025-04-07T23:56:15.437518Z"
    }
   },
   "outputs": [
    {
     "name": "stdout",
     "output_type": "stream",
     "text": [
      "[Raw Data Overview]\n"
     ]
    },
    {
     "data": {
      "text/html": [
       "<div>\n",
       "<style scoped>\n",
       "    .dataframe tbody tr th:only-of-type {\n",
       "        vertical-align: middle;\n",
       "    }\n",
       "\n",
       "    .dataframe tbody tr th {\n",
       "        vertical-align: top;\n",
       "    }\n",
       "\n",
       "    .dataframe thead th {\n",
       "        text-align: right;\n",
       "    }\n",
       "</style>\n",
       "<table border=\"1\" class=\"dataframe\">\n",
       "  <thead>\n",
       "    <tr style=\"text-align: right;\">\n",
       "      <th></th>\n",
       "      <th></th>\n",
       "      <th>Open</th>\n",
       "      <th>High</th>\n",
       "      <th>Low</th>\n",
       "      <th>Close</th>\n",
       "      <th>Adj Close</th>\n",
       "      <th>Volume</th>\n",
       "      <th>Adj Open</th>\n",
       "      <th>Adj High</th>\n",
       "      <th>Adj Low</th>\n",
       "    </tr>\n",
       "    <tr>\n",
       "      <th>Symbol</th>\n",
       "      <th>Date</th>\n",
       "      <th></th>\n",
       "      <th></th>\n",
       "      <th></th>\n",
       "      <th></th>\n",
       "      <th></th>\n",
       "      <th></th>\n",
       "      <th></th>\n",
       "      <th></th>\n",
       "      <th></th>\n",
       "    </tr>\n",
       "  </thead>\n",
       "  <tbody>\n",
       "    <tr>\n",
       "      <th rowspan=\"5\" valign=\"top\">SCHC</th>\n",
       "      <th>2025-04-07</th>\n",
       "      <td>32.15</td>\n",
       "      <td>33.41</td>\n",
       "      <td>30.84</td>\n",
       "      <td>32.41</td>\n",
       "      <td>32.41</td>\n",
       "      <td>1831992</td>\n",
       "      <td>32.15</td>\n",
       "      <td>33.41</td>\n",
       "      <td>30.84</td>\n",
       "    </tr>\n",
       "    <tr>\n",
       "      <th>2025-04-04</th>\n",
       "      <td>34.10</td>\n",
       "      <td>34.15</td>\n",
       "      <td>33.04</td>\n",
       "      <td>33.15</td>\n",
       "      <td>33.15</td>\n",
       "      <td>820300</td>\n",
       "      <td>34.10</td>\n",
       "      <td>34.15</td>\n",
       "      <td>33.04</td>\n",
       "    </tr>\n",
       "    <tr>\n",
       "      <th>2025-04-03</th>\n",
       "      <td>35.81</td>\n",
       "      <td>36.03</td>\n",
       "      <td>35.39</td>\n",
       "      <td>35.42</td>\n",
       "      <td>35.42</td>\n",
       "      <td>288400</td>\n",
       "      <td>35.81</td>\n",
       "      <td>36.03</td>\n",
       "      <td>35.39</td>\n",
       "    </tr>\n",
       "    <tr>\n",
       "      <th>2025-04-02</th>\n",
       "      <td>35.64</td>\n",
       "      <td>36.20</td>\n",
       "      <td>35.64</td>\n",
       "      <td>36.08</td>\n",
       "      <td>36.08</td>\n",
       "      <td>586300</td>\n",
       "      <td>35.64</td>\n",
       "      <td>36.20</td>\n",
       "      <td>35.64</td>\n",
       "    </tr>\n",
       "    <tr>\n",
       "      <th>2025-04-01</th>\n",
       "      <td>35.92</td>\n",
       "      <td>36.10</td>\n",
       "      <td>35.74</td>\n",
       "      <td>35.96</td>\n",
       "      <td>35.96</td>\n",
       "      <td>701800</td>\n",
       "      <td>35.92</td>\n",
       "      <td>36.10</td>\n",
       "      <td>35.74</td>\n",
       "    </tr>\n",
       "  </tbody>\n",
       "</table>\n",
       "</div>"
      ],
      "text/plain": [
       "                    Open   High    Low  Close  Adj Close   Volume  Adj Open  Adj High  Adj Low\n",
       "Symbol Date                                                                                   \n",
       "SCHC   2025-04-07  32.15  33.41  30.84  32.41      32.41  1831992     32.15     33.41    30.84\n",
       "       2025-04-04  34.10  34.15  33.04  33.15      33.15   820300     34.10     34.15    33.04\n",
       "       2025-04-03  35.81  36.03  35.39  35.42      35.42   288400     35.81     36.03    35.39\n",
       "       2025-04-02  35.64  36.20  35.64  36.08      36.08   586300     35.64     36.20    35.64\n",
       "       2025-04-01  35.92  36.10  35.74  35.96      35.96   701800     35.92     36.10    35.74"
      ]
     },
     "metadata": {},
     "output_type": "display_data"
    },
    {
     "name": "stdout",
     "output_type": "stream",
     "text": [
      "<class 'pandas.core.frame.DataFrame'>\n",
      "MultiIndex: 388995 entries, ('SCHC', Timestamp('2025-04-07 00:00:00')) to ('WAB', Timestamp('2024-04-08 00:00:00'))\n",
      "Data columns (total 9 columns):\n",
      " #   Column     Non-Null Count   Dtype  \n",
      "---  ------     --------------   -----  \n",
      " 0   Open       388995 non-null  float64\n",
      " 1   High       388995 non-null  float64\n",
      " 2   Low        388995 non-null  float64\n",
      " 3   Close      388995 non-null  float64\n",
      " 4   Adj Close  388995 non-null  float64\n",
      " 5   Volume     388977 non-null  Int64  \n",
      " 6   Adj Open   388995 non-null  float64\n",
      " 7   Adj High   388995 non-null  float64\n",
      " 8   Adj Low    388995 non-null  float64\n",
      "dtypes: Int64(1), float64(8)\n",
      "memory usage: 28.6+ MB\n"
     ]
    }
   ],
   "source": [
    "# --- Data Loading & Initial Inspection ---\n",
    "import pandas as pd\n",
    "\n",
    "# # Load raw data from pickle file\n",
    "# df = pd.read_pickle(source_path)\n",
    "\n",
    "df = pd.read_parquet(source_path, engine='pyarrow')\n",
    "\n",
    "# Display initial data structure\n",
    "print(\"[Raw Data Overview]\")\n",
    "display(df.head())\n",
    "df.info()"
   ]
  },
  {
   "cell_type": "code",
   "execution_count": 4,
   "metadata": {
    "execution": {
     "iopub.execute_input": "2025-04-07T23:56:15.441527Z",
     "iopub.status.busy": "2025-04-07T23:56:15.440524Z",
     "iopub.status.idle": "2025-04-07T23:56:22.203884Z",
     "shell.execute_reply": "2025-04-07T23:56:22.202879Z"
    }
   },
   "outputs": [
    {
     "name": "stdout",
     "output_type": "stream",
     "text": [
      "Original number of symbols: 1558\n",
      "Number of symbols after filtering: 1538\n",
      "Number of symbols filtered out: 20\n",
      "\n",
      "First 10 symbols that were filtered out:\n",
      "['LINE', 'CRWV', 'VG', 'LOAR', 'NMAX', 'LTM', 'RBRK', 'TTAN', 'WAY', 'ULS']\n",
      "\n",
      "Example of dates for first filtered out symbol:\n",
      "\n",
      "Dates for LINE:\n",
      "DatetimeIndex(['2025-04-07', '2025-04-04', '2025-04-03', '2025-04-02', '2025-04-01', '2025-03-31', '2025-03-28', '2025-03-27', '2025-03-26', '2025-03-25',\n",
      "               ...\n",
      "               '2024-08-07', '2024-08-06', '2024-08-05', '2024-08-02', '2024-08-01', '2024-07-31', '2024-07-30', '2024-07-29', '2024-07-26', '2024-07-25'], dtype='datetime64[ns]', name='Date', length=176, freq=None)\n",
      "\n",
      "Filtered DataFrame info:\n",
      "<class 'pandas.core.frame.DataFrame'>\n",
      "MultiIndex: 386038 entries, ('SCHC', Timestamp('2025-04-07 00:00:00')) to ('WAB', Timestamp('2024-04-08 00:00:00'))\n",
      "Data columns (total 9 columns):\n",
      " #   Column     Non-Null Count   Dtype  \n",
      "---  ------     --------------   -----  \n",
      " 0   Open       386038 non-null  float64\n",
      " 1   High       386038 non-null  float64\n",
      " 2   Low        386038 non-null  float64\n",
      " 3   Close      386038 non-null  float64\n",
      " 4   Adj Close  386038 non-null  float64\n",
      " 5   Volume     386025 non-null  Int64  \n",
      " 6   Adj Open   386038 non-null  float64\n",
      " 7   Adj High   386038 non-null  float64\n",
      " 8   Adj Low    386038 non-null  float64\n",
      "dtypes: Int64(1), float64(8)\n",
      "memory usage: 28.4+ MB\n",
      "None\n"
     ]
    },
    {
     "name": "stdout",
     "output_type": "stream",
     "text": [
      "\n",
      "[Cleaning Report]\n",
      "Removed 2 symbols with missing data: ['FSEC', 'FER']\n",
      "\n",
      "[Cleaned Data Structure]\n",
      "<class 'pandas.core.frame.DataFrame'>\n",
      "MultiIndex: 385536 entries, ('SCHC', Timestamp('2025-04-07 00:00:00')) to ('WAB', Timestamp('2024-04-08 00:00:00'))\n",
      "Data columns (total 9 columns):\n",
      " #   Column     Non-Null Count   Dtype  \n",
      "---  ------     --------------   -----  \n",
      " 0   Open       385536 non-null  float64\n",
      " 1   High       385536 non-null  float64\n",
      " 2   Low        385536 non-null  float64\n",
      " 3   Close      385536 non-null  float64\n",
      " 4   Adj Close  385536 non-null  float64\n",
      " 5   Volume     385536 non-null  Int64  \n",
      " 6   Adj Open   385536 non-null  float64\n",
      " 7   Adj High   385536 non-null  float64\n",
      " 8   Adj Low    385536 non-null  float64\n",
      "dtypes: Int64(1), float64(8)\n",
      "memory usage: 28.4+ MB\n"
     ]
    }
   ],
   "source": [
    "import sys\n",
    "from pathlib import Path\n",
    "\n",
    "# Notebook cell\n",
    "%load_ext autoreload\n",
    "%autoreload 2\n",
    "\n",
    "# Get root directory (assuming notebook is in root/notebooks/)\n",
    "NOTEBOOK_DIR = Path.cwd()\n",
    "ROOT_DIR = NOTEBOOK_DIR.parent if NOTEBOOK_DIR.name == 'notebooks' else NOTEBOOK_DIR\n",
    "\n",
    "# Add src directory to Python path\n",
    "sys.path.append(str(ROOT_DIR / 'src'))\n",
    "\n",
    "\n",
    "# --- Data Filtering & Cleaning ---\n",
    "import utils  # Custom utility functions\n",
    "\n",
    "# 1. Align dates across all symbols using SPY as reference\n",
    "df = utils.filter_df_dates_to_reference_symbol(df=df, reference_symbol='SPY')\n",
    "\n",
    "# 2. Remove symbols with missing data points\n",
    "df_clean, missing_symbols = utils.filter_symbols_with_missing_values(df)\n",
    "\n",
    "# Display cleaning results\n",
    "print(\"\\n[Cleaning Report]\")\n",
    "print(f\"Removed {len(missing_symbols)} symbols with missing data: {missing_symbols}\")\n",
    "print(\"\\n[Cleaned Data Structure]\")\n",
    "df_clean.info()"
   ]
  },
  {
   "cell_type": "code",
   "execution_count": 5,
   "metadata": {
    "execution": {
     "iopub.execute_input": "2025-04-07T23:56:22.207886Z",
     "iopub.status.busy": "2025-04-07T23:56:22.206884Z",
     "iopub.status.idle": "2025-04-07T23:56:22.688030Z",
     "shell.execute_reply": "2025-04-07T23:56:22.687021Z"
    }
   },
   "outputs": [
    {
     "name": "stdout",
     "output_type": "stream",
     "text": [
      "\n",
      "[Save Successful] Cleaned data saved to:\n",
      "..\\data\\2025-04-07_df_OHLCV_clean.parquet\n"
     ]
    }
   ],
   "source": [
    "# --- Save Cleaned Data ---\n",
    "# # Save processed data to pickle file\n",
    "# df_clean.to_pickle(dest_path)\n",
    "\n",
    "# Using PyArrow (default, recommended for most cases)\n",
    "df_clean.to_parquet(dest_path, engine='pyarrow')\n",
    "print(f\"\\n[Save Successful] Cleaned data saved to:\\n{dest_path}\")\n",
    "\n"
   ]
  }
 ],
 "metadata": {
  "kernelspec": {
   "display_name": ".venv",
   "language": "python",
   "name": "python3"
  },
  "language_info": {
   "codemirror_mode": {
    "name": "ipython",
    "version": 3
   },
   "file_extension": ".py",
   "mimetype": "text/x-python",
   "name": "python",
   "nbconvert_exporter": "python",
   "pygments_lexer": "ipython3",
   "version": "3.11.9"
  }
 },
 "nbformat": 4,
 "nbformat_minor": 2
}
