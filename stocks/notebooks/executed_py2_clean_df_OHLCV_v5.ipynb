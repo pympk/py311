{
 "cells": [
  {
   "cell_type": "code",
   "execution_count": null,
   "metadata": {},
   "outputs": [],
   "source": []
  },
  {
   "cell_type": "code",
   "execution_count": 1,
   "metadata": {
    "execution": {
     "iopub.execute_input": "2025-04-10T02:26:51.956871Z",
     "iopub.status.busy": "2025-04-10T02:26:51.955870Z",
     "iopub.status.idle": "2025-04-10T02:26:53.534115Z",
     "shell.execute_reply": "2025-04-10T02:26:53.532096Z"
    }
   },
   "outputs": [],
   "source": [
    "import pandas as pd\n",
    "\n",
    "# Set pandas display options to show more columns and rows\n",
    "pd.set_option('display.max_columns', None)  # Show all columns\n",
    "# pd.set_option('display.max_rows', 10)       # Limit to 10 rows for readability\n",
    "pd.set_option('display.width', None)        # Let the display adjust to the window\n",
    "\n",
    "# 2. Set the display width (optional but often helpful)\n",
    "#    'None' tries to detect terminal width. \n",
    "#    A large number (e.g., 1000) ensures no wrapping unless absolutely necessary.\n",
    "pd.set_option('display.width', 1000) "
   ]
  },
  {
   "cell_type": "code",
   "execution_count": 2,
   "metadata": {
    "execution": {
     "iopub.execute_input": "2025-04-10T02:26:53.542116Z",
     "iopub.status.busy": "2025-04-10T02:26:53.540110Z",
     "iopub.status.idle": "2025-04-10T02:26:53.557176Z",
     "shell.execute_reply": "2025-04-10T02:26:53.555156Z"
    }
   },
   "outputs": [
    {
     "name": "stdout",
     "output_type": "stream",
     "text": [
      "date_str: 2025-04-09\n",
      "DOWNLOAD_DIR: C:\\Users\\ping\\Downloads\n",
      "DEST_DIR: ..\\data\n",
      "\n",
      "source_path: C:\\Users\\ping\\Downloads\\df_OHLCV_2025-04-09.parquet\n",
      "dest_path: ..\\data\\2025-04-09_df_OHLCV_clean.parquet\n"
     ]
    }
   ],
   "source": [
    "# process_files.py\n",
    "from config import date_str, DOWNLOAD_DIR, DEST_DIR\n",
    "from pathlib import Path  # Better path handling\n",
    "\n",
    "print(f\"date_str: {date_str}\")\n",
    "print(f\"DOWNLOAD_DIR: {DOWNLOAD_DIR}\")\n",
    "print(f\"DEST_DIR: {DEST_DIR}\\n\")\n",
    "\n",
    "# Build paths\n",
    "source_path = Path(DOWNLOAD_DIR) / f'df_OHLCV_{date_str}.parquet'\n",
    "dest_path = Path(DEST_DIR) / f'{date_str}_df_OHLCV_clean.parquet'\n",
    "\n",
    "print(f\"source_path: {source_path}\")\n",
    "print(f\"dest_path: {dest_path}\")"
   ]
  },
  {
   "cell_type": "code",
   "execution_count": 3,
   "metadata": {
    "execution": {
     "iopub.execute_input": "2025-04-10T02:26:53.657188Z",
     "iopub.status.busy": "2025-04-10T02:26:53.656196Z",
     "iopub.status.idle": "2025-04-10T02:26:54.090747Z",
     "shell.execute_reply": "2025-04-10T02:26:54.088715Z"
    }
   },
   "outputs": [
    {
     "name": "stdout",
     "output_type": "stream",
     "text": [
      "[Raw Data Overview]\n"
     ]
    },
    {
     "data": {
      "text/html": [
       "<div>\n",
       "<style scoped>\n",
       "    .dataframe tbody tr th:only-of-type {\n",
       "        vertical-align: middle;\n",
       "    }\n",
       "\n",
       "    .dataframe tbody tr th {\n",
       "        vertical-align: top;\n",
       "    }\n",
       "\n",
       "    .dataframe thead th {\n",
       "        text-align: right;\n",
       "    }\n",
       "</style>\n",
       "<table border=\"1\" class=\"dataframe\">\n",
       "  <thead>\n",
       "    <tr style=\"text-align: right;\">\n",
       "      <th></th>\n",
       "      <th></th>\n",
       "      <th>Open</th>\n",
       "      <th>High</th>\n",
       "      <th>Low</th>\n",
       "      <th>Close</th>\n",
       "      <th>Adj Close</th>\n",
       "      <th>Volume</th>\n",
       "      <th>Adj Open</th>\n",
       "      <th>Adj High</th>\n",
       "      <th>Adj Low</th>\n",
       "    </tr>\n",
       "    <tr>\n",
       "      <th>Symbol</th>\n",
       "      <th>Date</th>\n",
       "      <th></th>\n",
       "      <th></th>\n",
       "      <th></th>\n",
       "      <th></th>\n",
       "      <th></th>\n",
       "      <th></th>\n",
       "      <th></th>\n",
       "      <th></th>\n",
       "      <th></th>\n",
       "    </tr>\n",
       "  </thead>\n",
       "  <tbody>\n",
       "    <tr>\n",
       "      <th rowspan=\"5\" valign=\"top\">INVH</th>\n",
       "      <th>2025-04-09</th>\n",
       "      <td>29.91</td>\n",
       "      <td>32.36</td>\n",
       "      <td>29.37</td>\n",
       "      <td>32.27</td>\n",
       "      <td>32.27</td>\n",
       "      <td>4914785</td>\n",
       "      <td>29.91</td>\n",
       "      <td>32.36</td>\n",
       "      <td>29.37</td>\n",
       "    </tr>\n",
       "    <tr>\n",
       "      <th>2025-04-08</th>\n",
       "      <td>31.96</td>\n",
       "      <td>32.16</td>\n",
       "      <td>30.10</td>\n",
       "      <td>30.53</td>\n",
       "      <td>30.53</td>\n",
       "      <td>3600600</td>\n",
       "      <td>31.96</td>\n",
       "      <td>32.16</td>\n",
       "      <td>30.10</td>\n",
       "    </tr>\n",
       "    <tr>\n",
       "      <th>2025-04-07</th>\n",
       "      <td>32.67</td>\n",
       "      <td>32.94</td>\n",
       "      <td>30.96</td>\n",
       "      <td>31.44</td>\n",
       "      <td>31.44</td>\n",
       "      <td>5098400</td>\n",
       "      <td>32.67</td>\n",
       "      <td>32.94</td>\n",
       "      <td>30.96</td>\n",
       "    </tr>\n",
       "    <tr>\n",
       "      <th>2025-04-04</th>\n",
       "      <td>33.78</td>\n",
       "      <td>34.13</td>\n",
       "      <td>32.44</td>\n",
       "      <td>32.54</td>\n",
       "      <td>32.54</td>\n",
       "      <td>4671900</td>\n",
       "      <td>33.78</td>\n",
       "      <td>34.13</td>\n",
       "      <td>32.44</td>\n",
       "    </tr>\n",
       "    <tr>\n",
       "      <th>2025-04-03</th>\n",
       "      <td>34.35</td>\n",
       "      <td>34.72</td>\n",
       "      <td>33.88</td>\n",
       "      <td>33.99</td>\n",
       "      <td>33.99</td>\n",
       "      <td>2766900</td>\n",
       "      <td>34.35</td>\n",
       "      <td>34.72</td>\n",
       "      <td>33.88</td>\n",
       "    </tr>\n",
       "  </tbody>\n",
       "</table>\n",
       "</div>"
      ],
      "text/plain": [
       "                    Open   High    Low  Close  Adj Close   Volume  Adj Open  Adj High  Adj Low\n",
       "Symbol Date                                                                                   \n",
       "INVH   2025-04-09  29.91  32.36  29.37  32.27      32.27  4914785     29.91     32.36    29.37\n",
       "       2025-04-08  31.96  32.16  30.10  30.53      30.53  3600600     31.96     32.16    30.10\n",
       "       2025-04-07  32.67  32.94  30.96  31.44      31.44  5098400     32.67     32.94    30.96\n",
       "       2025-04-04  33.78  34.13  32.44  32.54      32.54  4671900     33.78     34.13    32.44\n",
       "       2025-04-03  34.35  34.72  33.88  33.99      33.99  2766900     34.35     34.72    33.88"
      ]
     },
     "metadata": {},
     "output_type": "display_data"
    },
    {
     "name": "stdout",
     "output_type": "stream",
     "text": [
      "<class 'pandas.core.frame.DataFrame'>\n",
      "MultiIndex: 389010 entries, ('INVH', Timestamp('2025-04-09 00:00:00')) to ('GD', Timestamp('2024-04-10 00:00:00'))\n",
      "Data columns (total 9 columns):\n",
      " #   Column     Non-Null Count   Dtype  \n",
      "---  ------     --------------   -----  \n",
      " 0   Open       389010 non-null  float64\n",
      " 1   High       389010 non-null  float64\n",
      " 2   Low        389010 non-null  float64\n",
      " 3   Close      389010 non-null  float64\n",
      " 4   Adj Close  389010 non-null  float64\n",
      " 5   Volume     388992 non-null  Int64  \n",
      " 6   Adj Open   389010 non-null  float64\n",
      " 7   Adj High   389010 non-null  float64\n",
      " 8   Adj Low    389010 non-null  float64\n",
      "dtypes: Int64(1), float64(8)\n",
      "memory usage: 28.6+ MB\n"
     ]
    }
   ],
   "source": [
    "# --- Data Loading & Initial Inspection ---\n",
    "import pandas as pd\n",
    "\n",
    "# # Load raw data from pickle file\n",
    "# df = pd.read_pickle(source_path)\n",
    "\n",
    "df = pd.read_parquet(source_path, engine='pyarrow')\n",
    "\n",
    "# Display initial data structure\n",
    "print(\"[Raw Data Overview]\")\n",
    "display(df.head())\n",
    "df.info()"
   ]
  },
  {
   "cell_type": "code",
   "execution_count": 4,
   "metadata": {
    "execution": {
     "iopub.execute_input": "2025-04-10T02:26:54.097749Z",
     "iopub.status.busy": "2025-04-10T02:26:54.096751Z",
     "iopub.status.idle": "2025-04-10T02:27:07.999948Z",
     "shell.execute_reply": "2025-04-10T02:27:07.997925Z"
    }
   },
   "outputs": [
    {
     "name": "stdout",
     "output_type": "stream",
     "text": [
      "Original number of symbols: 1558\n",
      "Number of symbols after filtering: 1538\n",
      "Number of symbols filtered out: 20\n",
      "\n",
      "First 10 symbols that were filtered out:\n",
      "['ITCI', 'LTM', 'ULS', 'VIK', 'SW', 'SFD', 'WAY', 'STRK', 'NBIS', 'LOAR']\n",
      "\n",
      "Example of dates for first filtered out symbol:\n",
      "\n",
      "Dates for ITCI:\n",
      "DatetimeIndex(['2025-04-02', '2025-04-01', '2025-03-31', '2025-03-28', '2025-03-27', '2025-03-26', '2025-03-25', '2025-03-24', '2025-03-21', '2025-03-20',\n",
      "               ...\n",
      "               '2024-04-23', '2024-04-22', '2024-04-19', '2024-04-18', '2024-04-17', '2024-04-16', '2024-04-15', '2024-04-12', '2024-04-11', '2024-04-10'], dtype='datetime64[ns]', name='Date', length=246, freq=None)\n",
      "\n",
      "Filtered DataFrame info:\n",
      "<class 'pandas.core.frame.DataFrame'>\n",
      "MultiIndex: 386038 entries, ('INVH', Timestamp('2025-04-09 00:00:00')) to ('GD', Timestamp('2024-04-10 00:00:00'))\n",
      "Data columns (total 9 columns):\n",
      " #   Column     Non-Null Count   Dtype  \n",
      "---  ------     --------------   -----  \n",
      " 0   Open       386038 non-null  float64\n",
      " 1   High       386038 non-null  float64\n",
      " 2   Low        386038 non-null  float64\n",
      " 3   Close      386038 non-null  float64\n",
      " 4   Adj Close  386038 non-null  float64\n",
      " 5   Volume     386025 non-null  Int64  \n",
      " 6   Adj Open   386038 non-null  float64\n",
      " 7   Adj High   386038 non-null  float64\n",
      " 8   Adj Low    386038 non-null  float64\n",
      "dtypes: Int64(1), float64(8)\n",
      "memory usage: 28.4+ MB\n",
      "None\n"
     ]
    },
    {
     "name": "stdout",
     "output_type": "stream",
     "text": [
      "\n",
      "[Cleaning Report]\n",
      "Removed 2 symbols with missing data: ['FSEC', 'FER']\n",
      "\n",
      "[Cleaned Data Structure]\n",
      "<class 'pandas.core.frame.DataFrame'>\n",
      "MultiIndex: 385536 entries, ('INVH', Timestamp('2025-04-09 00:00:00')) to ('GD', Timestamp('2024-04-10 00:00:00'))\n",
      "Data columns (total 9 columns):\n",
      " #   Column     Non-Null Count   Dtype  \n",
      "---  ------     --------------   -----  \n",
      " 0   Open       385536 non-null  float64\n",
      " 1   High       385536 non-null  float64\n",
      " 2   Low        385536 non-null  float64\n",
      " 3   Close      385536 non-null  float64\n",
      " 4   Adj Close  385536 non-null  float64\n",
      " 5   Volume     385536 non-null  Int64  \n",
      " 6   Adj Open   385536 non-null  float64\n",
      " 7   Adj High   385536 non-null  float64\n",
      " 8   Adj Low    385536 non-null  float64\n",
      "dtypes: Int64(1), float64(8)\n",
      "memory usage: 28.4+ MB\n"
     ]
    }
   ],
   "source": [
    "import sys\n",
    "from pathlib import Path\n",
    "\n",
    "# Notebook cell\n",
    "%load_ext autoreload\n",
    "%autoreload 2\n",
    "\n",
    "# Get root directory (assuming notebook is in root/notebooks/)\n",
    "NOTEBOOK_DIR = Path.cwd()\n",
    "ROOT_DIR = NOTEBOOK_DIR.parent if NOTEBOOK_DIR.name == 'notebooks' else NOTEBOOK_DIR\n",
    "\n",
    "# Add src directory to Python path\n",
    "sys.path.append(str(ROOT_DIR / 'src'))\n",
    "\n",
    "\n",
    "# --- Data Filtering & Cleaning ---\n",
    "import utils  # Custom utility functions\n",
    "\n",
    "# 1. Align dates across all symbols using SPY as reference\n",
    "df = utils.filter_df_dates_to_reference_symbol(df=df, reference_symbol='SPY')\n",
    "\n",
    "# 2. Remove symbols with missing data points\n",
    "df_clean, missing_symbols = utils.filter_symbols_with_missing_values(df)\n",
    "\n",
    "# Display cleaning results\n",
    "print(\"\\n[Cleaning Report]\")\n",
    "print(f\"Removed {len(missing_symbols)} symbols with missing data: {missing_symbols}\")\n",
    "print(\"\\n[Cleaned Data Structure]\")\n",
    "df_clean.info()"
   ]
  },
  {
   "cell_type": "code",
   "execution_count": 5,
   "metadata": {
    "execution": {
     "iopub.execute_input": "2025-04-10T02:27:08.006946Z",
     "iopub.status.busy": "2025-04-10T02:27:08.005947Z",
     "iopub.status.idle": "2025-04-10T02:27:09.005649Z",
     "shell.execute_reply": "2025-04-10T02:27:09.003629Z"
    }
   },
   "outputs": [
    {
     "name": "stdout",
     "output_type": "stream",
     "text": [
      "\n",
      "[Save Successful] Cleaned data saved to:\n",
      "..\\data\\2025-04-09_df_OHLCV_clean.parquet\n"
     ]
    }
   ],
   "source": [
    "# --- Save Cleaned Data ---\n",
    "# # Save processed data to pickle file\n",
    "# df_clean.to_pickle(dest_path)\n",
    "\n",
    "# Using PyArrow (default, recommended for most cases)\n",
    "df_clean.to_parquet(dest_path, engine='pyarrow', compression='zstd')\n",
    "print(f\"\\n[Save Successful] Cleaned data saved to:\\n{dest_path}\")\n",
    "\n"
   ]
  }
 ],
 "metadata": {
  "kernelspec": {
   "display_name": ".venv",
   "language": "python",
   "name": "python3"
  },
  "language_info": {
   "codemirror_mode": {
    "name": "ipython",
    "version": 3
   },
   "file_extension": ".py",
   "mimetype": "text/x-python",
   "name": "python",
   "nbconvert_exporter": "python",
   "pygments_lexer": "ipython3",
   "version": "3.11.9"
  }
 },
 "nbformat": 4,
 "nbformat_minor": 2
}
