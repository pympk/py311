{
 "cells": [
  {
   "cell_type": "code",
   "execution_count": null,
   "metadata": {},
   "outputs": [],
   "source": []
  },
  {
   "cell_type": "code",
   "execution_count": 1,
   "metadata": {
    "execution": {
     "iopub.execute_input": "2025-04-09T02:14:03.561008Z",
     "iopub.status.busy": "2025-04-09T02:14:03.561008Z",
     "iopub.status.idle": "2025-04-09T02:14:05.002270Z",
     "shell.execute_reply": "2025-04-09T02:14:05.000256Z"
    }
   },
   "outputs": [],
   "source": [
    "import pandas as pd\n",
    "\n",
    "# Set pandas display options to show more columns and rows\n",
    "pd.set_option('display.max_columns', None)  # Show all columns\n",
    "# pd.set_option('display.max_rows', 10)       # Limit to 10 rows for readability\n",
    "pd.set_option('display.width', None)        # Let the display adjust to the window\n",
    "\n",
    "# 2. Set the display width (optional but often helpful)\n",
    "#    'None' tries to detect terminal width. \n",
    "#    A large number (e.g., 1000) ensures no wrapping unless absolutely necessary.\n",
    "pd.set_option('display.width', 1000) "
   ]
  },
  {
   "cell_type": "code",
   "execution_count": 2,
   "metadata": {
    "execution": {
     "iopub.execute_input": "2025-04-09T02:14:05.009275Z",
     "iopub.status.busy": "2025-04-09T02:14:05.008269Z",
     "iopub.status.idle": "2025-04-09T02:14:05.024827Z",
     "shell.execute_reply": "2025-04-09T02:14:05.022811Z"
    }
   },
   "outputs": [
    {
     "name": "stdout",
     "output_type": "stream",
     "text": [
      "date_str: 2025-04-08\n",
      "DOWNLOAD_DIR: C:\\Users\\ping\\Downloads\n",
      "DEST_DIR: ..\\data\n",
      "\n",
      "source_path: C:\\Users\\ping\\Downloads\\df_OHLCV_2025-04-08.parquet\n",
      "dest_path: ..\\data\\2025-04-08_df_OHLCV_clean.parquet\n"
     ]
    }
   ],
   "source": [
    "# process_files.py\n",
    "from config import date_str, DOWNLOAD_DIR, DEST_DIR\n",
    "from pathlib import Path  # Better path handling\n",
    "\n",
    "print(f\"date_str: {date_str}\")\n",
    "print(f\"DOWNLOAD_DIR: {DOWNLOAD_DIR}\")\n",
    "print(f\"DEST_DIR: {DEST_DIR}\\n\")\n",
    "\n",
    "# Build paths\n",
    "source_path = Path(DOWNLOAD_DIR) / f'df_OHLCV_{date_str}.parquet'\n",
    "dest_path = Path(DEST_DIR) / f'{date_str}_df_OHLCV_clean.parquet'\n",
    "\n",
    "print(f\"source_path: {source_path}\")\n",
    "print(f\"dest_path: {dest_path}\")"
   ]
  },
  {
   "cell_type": "code",
   "execution_count": 3,
   "metadata": {
    "execution": {
     "iopub.execute_input": "2025-04-09T02:14:05.124472Z",
     "iopub.status.busy": "2025-04-09T02:14:05.123474Z",
     "iopub.status.idle": "2025-04-09T02:14:05.561102Z",
     "shell.execute_reply": "2025-04-09T02:14:05.559102Z"
    }
   },
   "outputs": [
    {
     "name": "stdout",
     "output_type": "stream",
     "text": [
      "[Raw Data Overview]\n"
     ]
    },
    {
     "data": {
      "text/html": [
       "<div>\n",
       "<style scoped>\n",
       "    .dataframe tbody tr th:only-of-type {\n",
       "        vertical-align: middle;\n",
       "    }\n",
       "\n",
       "    .dataframe tbody tr th {\n",
       "        vertical-align: top;\n",
       "    }\n",
       "\n",
       "    .dataframe thead th {\n",
       "        text-align: right;\n",
       "    }\n",
       "</style>\n",
       "<table border=\"1\" class=\"dataframe\">\n",
       "  <thead>\n",
       "    <tr style=\"text-align: right;\">\n",
       "      <th></th>\n",
       "      <th></th>\n",
       "      <th>Open</th>\n",
       "      <th>High</th>\n",
       "      <th>Low</th>\n",
       "      <th>Close</th>\n",
       "      <th>Adj Close</th>\n",
       "      <th>Volume</th>\n",
       "      <th>Adj Open</th>\n",
       "      <th>Adj High</th>\n",
       "      <th>Adj Low</th>\n",
       "    </tr>\n",
       "    <tr>\n",
       "      <th>Symbol</th>\n",
       "      <th>Date</th>\n",
       "      <th></th>\n",
       "      <th></th>\n",
       "      <th></th>\n",
       "      <th></th>\n",
       "      <th></th>\n",
       "      <th></th>\n",
       "      <th></th>\n",
       "      <th></th>\n",
       "      <th></th>\n",
       "    </tr>\n",
       "  </thead>\n",
       "  <tbody>\n",
       "    <tr>\n",
       "      <th rowspan=\"5\" valign=\"top\">ILMN</th>\n",
       "      <th>2025-04-08</th>\n",
       "      <td>75.76</td>\n",
       "      <td>75.54</td>\n",
       "      <td>69.38</td>\n",
       "      <td>70.30</td>\n",
       "      <td>70.30</td>\n",
       "      <td>3212285</td>\n",
       "      <td>75.76</td>\n",
       "      <td>75.54</td>\n",
       "      <td>69.38</td>\n",
       "    </tr>\n",
       "    <tr>\n",
       "      <th>2025-04-07</th>\n",
       "      <td>70.61</td>\n",
       "      <td>75.83</td>\n",
       "      <td>69.55</td>\n",
       "      <td>73.45</td>\n",
       "      <td>73.45</td>\n",
       "      <td>5170600</td>\n",
       "      <td>70.61</td>\n",
       "      <td>75.83</td>\n",
       "      <td>69.55</td>\n",
       "    </tr>\n",
       "    <tr>\n",
       "      <th>2025-04-04</th>\n",
       "      <td>75.40</td>\n",
       "      <td>75.43</td>\n",
       "      <td>70.64</td>\n",
       "      <td>74.16</td>\n",
       "      <td>74.16</td>\n",
       "      <td>3913400</td>\n",
       "      <td>75.40</td>\n",
       "      <td>75.43</td>\n",
       "      <td>70.64</td>\n",
       "    </tr>\n",
       "    <tr>\n",
       "      <th>2025-04-03</th>\n",
       "      <td>79.51</td>\n",
       "      <td>79.97</td>\n",
       "      <td>76.26</td>\n",
       "      <td>76.42</td>\n",
       "      <td>76.42</td>\n",
       "      <td>2117600</td>\n",
       "      <td>79.51</td>\n",
       "      <td>79.97</td>\n",
       "      <td>76.26</td>\n",
       "    </tr>\n",
       "    <tr>\n",
       "      <th>2025-04-02</th>\n",
       "      <td>78.27</td>\n",
       "      <td>82.76</td>\n",
       "      <td>77.99</td>\n",
       "      <td>81.88</td>\n",
       "      <td>81.88</td>\n",
       "      <td>1908300</td>\n",
       "      <td>78.27</td>\n",
       "      <td>82.76</td>\n",
       "      <td>77.99</td>\n",
       "    </tr>\n",
       "  </tbody>\n",
       "</table>\n",
       "</div>"
      ],
      "text/plain": [
       "                    Open   High    Low  Close  Adj Close   Volume  Adj Open  Adj High  Adj Low\n",
       "Symbol Date                                                                                   \n",
       "ILMN   2025-04-08  75.76  75.54  69.38  70.30      70.30  3212285     75.76     75.54    69.38\n",
       "       2025-04-07  70.61  75.83  69.55  73.45      73.45  5170600     70.61     75.83    69.55\n",
       "       2025-04-04  75.40  75.43  70.64  74.16      74.16  3913400     75.40     75.43    70.64\n",
       "       2025-04-03  79.51  79.97  76.26  76.42      76.42  2117600     79.51     79.97    76.26\n",
       "       2025-04-02  78.27  82.76  77.99  81.88      81.88  1908300     78.27     82.76    77.99"
      ]
     },
     "metadata": {},
     "output_type": "display_data"
    },
    {
     "name": "stdout",
     "output_type": "stream",
     "text": [
      "<class 'pandas.core.frame.DataFrame'>\n",
      "MultiIndex: 389125 entries, ('ILMN', Timestamp('2025-04-08 00:00:00')) to ('HAL', Timestamp('2024-04-09 00:00:00'))\n",
      "Data columns (total 9 columns):\n",
      " #   Column     Non-Null Count   Dtype  \n",
      "---  ------     --------------   -----  \n",
      " 0   Open       389125 non-null  float64\n",
      " 1   High       389125 non-null  float64\n",
      " 2   Low        389125 non-null  float64\n",
      " 3   Close      389125 non-null  float64\n",
      " 4   Adj Close  389125 non-null  float64\n",
      " 5   Volume     389107 non-null  Int64  \n",
      " 6   Adj Open   389125 non-null  float64\n",
      " 7   Adj High   389125 non-null  float64\n",
      " 8   Adj Low    389125 non-null  float64\n",
      "dtypes: Int64(1), float64(8)\n",
      "memory usage: 28.6+ MB\n"
     ]
    }
   ],
   "source": [
    "# --- Data Loading & Initial Inspection ---\n",
    "import pandas as pd\n",
    "\n",
    "# # Load raw data from pickle file\n",
    "# df = pd.read_pickle(source_path)\n",
    "\n",
    "df = pd.read_parquet(source_path, engine='pyarrow')\n",
    "\n",
    "# Display initial data structure\n",
    "print(\"[Raw Data Overview]\")\n",
    "display(df.head())\n",
    "df.info()"
   ]
  },
  {
   "cell_type": "code",
   "execution_count": 4,
   "metadata": {
    "execution": {
     "iopub.execute_input": "2025-04-09T02:14:05.568093Z",
     "iopub.status.busy": "2025-04-09T02:14:05.567095Z",
     "iopub.status.idle": "2025-04-09T02:14:19.121706Z",
     "shell.execute_reply": "2025-04-09T02:14:19.119690Z"
    }
   },
   "outputs": [
    {
     "name": "stdout",
     "output_type": "stream",
     "text": [
      "Original number of symbols: 1550\n",
      "Number of symbols after filtering: 1522\n",
      "Number of symbols filtered out: 28\n",
      "\n",
      "First 10 symbols that were filtered out:\n",
      "['DOCU', 'WAY', 'ULS', 'FLR', 'TTAN', 'DG', 'LINE', 'SARO', 'JHX', 'STRK']\n",
      "\n",
      "Example of dates for first filtered out symbol:\n",
      "\n",
      "Dates for DOCU:\n",
      "DatetimeIndex(['2025-04-08', '2025-04-07', '2025-04-04', '2025-04-03', '2025-04-02', '2025-04-01', '2025-03-31', '2025-03-28', '2025-03-27', '2025-03-26',\n",
      "               ...\n",
      "               '2024-04-22', '2024-04-19', '2024-04-18', '2024-04-17', '2024-04-16', '2024-04-15', '2024-04-12', '2024-04-11', '2024-04-10', '2024-04-09'], dtype='datetime64[ns]', name='Date', length=502, freq=None)\n",
      "\n",
      "Filtered DataFrame info:\n",
      "<class 'pandas.core.frame.DataFrame'>\n",
      "MultiIndex: 382022 entries, ('ILMN', Timestamp('2025-04-08 00:00:00')) to ('RF', Timestamp('2024-04-09 00:00:00'))\n",
      "Data columns (total 9 columns):\n",
      " #   Column     Non-Null Count   Dtype  \n",
      "---  ------     --------------   -----  \n",
      " 0   Open       382022 non-null  float64\n",
      " 1   High       382022 non-null  float64\n",
      " 2   Low        382022 non-null  float64\n",
      " 3   Close      382022 non-null  float64\n",
      " 4   Adj Close  382022 non-null  float64\n",
      " 5   Volume     382009 non-null  Int64  \n",
      " 6   Adj Open   382022 non-null  float64\n",
      " 7   Adj High   382022 non-null  float64\n",
      " 8   Adj Low    382022 non-null  float64\n",
      "dtypes: Int64(1), float64(8)\n",
      "memory usage: 28.1+ MB\n",
      "None\n"
     ]
    },
    {
     "name": "stdout",
     "output_type": "stream",
     "text": [
      "\n",
      "[Cleaning Report]\n",
      "Removed 2 symbols with missing data: ['FSEC', 'FER']\n",
      "\n",
      "[Cleaned Data Structure]\n",
      "<class 'pandas.core.frame.DataFrame'>\n",
      "MultiIndex: 381520 entries, ('ILMN', Timestamp('2025-04-08 00:00:00')) to ('RF', Timestamp('2024-04-09 00:00:00'))\n",
      "Data columns (total 9 columns):\n",
      " #   Column     Non-Null Count   Dtype  \n",
      "---  ------     --------------   -----  \n",
      " 0   Open       381520 non-null  float64\n",
      " 1   High       381520 non-null  float64\n",
      " 2   Low        381520 non-null  float64\n",
      " 3   Close      381520 non-null  float64\n",
      " 4   Adj Close  381520 non-null  float64\n",
      " 5   Volume     381520 non-null  Int64  \n",
      " 6   Adj Open   381520 non-null  float64\n",
      " 7   Adj High   381520 non-null  float64\n",
      " 8   Adj Low    381520 non-null  float64\n",
      "dtypes: Int64(1), float64(8)\n",
      "memory usage: 28.1+ MB\n"
     ]
    }
   ],
   "source": [
    "import sys\n",
    "from pathlib import Path\n",
    "\n",
    "# Notebook cell\n",
    "%load_ext autoreload\n",
    "%autoreload 2\n",
    "\n",
    "# Get root directory (assuming notebook is in root/notebooks/)\n",
    "NOTEBOOK_DIR = Path.cwd()\n",
    "ROOT_DIR = NOTEBOOK_DIR.parent if NOTEBOOK_DIR.name == 'notebooks' else NOTEBOOK_DIR\n",
    "\n",
    "# Add src directory to Python path\n",
    "sys.path.append(str(ROOT_DIR / 'src'))\n",
    "\n",
    "\n",
    "# --- Data Filtering & Cleaning ---\n",
    "import utils  # Custom utility functions\n",
    "\n",
    "# 1. Align dates across all symbols using SPY as reference\n",
    "df = utils.filter_df_dates_to_reference_symbol(df=df, reference_symbol='SPY')\n",
    "\n",
    "# 2. Remove symbols with missing data points\n",
    "df_clean, missing_symbols = utils.filter_symbols_with_missing_values(df)\n",
    "\n",
    "# Display cleaning results\n",
    "print(\"\\n[Cleaning Report]\")\n",
    "print(f\"Removed {len(missing_symbols)} symbols with missing data: {missing_symbols}\")\n",
    "print(\"\\n[Cleaned Data Structure]\")\n",
    "df_clean.info()"
   ]
  },
  {
   "cell_type": "code",
   "execution_count": 5,
   "metadata": {
    "execution": {
     "iopub.execute_input": "2025-04-09T02:14:19.129710Z",
     "iopub.status.busy": "2025-04-09T02:14:19.128709Z",
     "iopub.status.idle": "2025-04-09T02:14:20.159035Z",
     "shell.execute_reply": "2025-04-09T02:14:20.157017Z"
    }
   },
   "outputs": [
    {
     "name": "stdout",
     "output_type": "stream",
     "text": [
      "\n",
      "[Save Successful] Cleaned data saved to:\n",
      "..\\data\\2025-04-08_df_OHLCV_clean.parquet\n"
     ]
    }
   ],
   "source": [
    "# --- Save Cleaned Data ---\n",
    "# # Save processed data to pickle file\n",
    "# df_clean.to_pickle(dest_path)\n",
    "\n",
    "# Using PyArrow (default, recommended for most cases)\n",
    "df_clean.to_parquet(dest_path, engine='pyarrow', compression='zstd')\n",
    "print(f\"\\n[Save Successful] Cleaned data saved to:\\n{dest_path}\")\n",
    "\n"
   ]
  }
 ],
 "metadata": {
  "kernelspec": {
   "display_name": ".venv",
   "language": "python",
   "name": "python3"
  },
  "language_info": {
   "codemirror_mode": {
    "name": "ipython",
    "version": 3
   },
   "file_extension": ".py",
   "mimetype": "text/x-python",
   "name": "python",
   "nbconvert_exporter": "python",
   "pygments_lexer": "ipython3",
   "version": "3.11.9"
  }
 },
 "nbformat": 4,
 "nbformat_minor": 2
}
