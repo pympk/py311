{
 "cells": [
  {
   "cell_type": "code",
   "execution_count": null,
   "metadata": {},
   "outputs": [],
   "source": []
  },
  {
   "cell_type": "code",
   "execution_count": 14,
   "metadata": {},
   "outputs": [
    {
     "name": "stdout",
     "output_type": "stream",
     "text": [
      "The autoreload extension is already loaded. To reload it, use:\n",
      "  %reload_ext autoreload\n",
      "Python will look in these locations:\n",
      "['C:\\\\Users\\\\ping\\\\.pyenv\\\\pyenv-win\\\\versions\\\\3.11.9\\\\python311.zip', 'C:\\\\Users\\\\ping\\\\.pyenv\\\\pyenv-win\\\\versions\\\\3.11.9\\\\DLLs', 'C:\\\\Users\\\\ping\\\\.pyenv\\\\pyenv-win\\\\versions\\\\3.11.9\\\\Lib', 'C:\\\\Users\\\\ping\\\\.pyenv\\\\pyenv-win\\\\versions\\\\3.11.9', 'c:\\\\Users\\\\ping\\\\Files_win10\\\\python\\\\py311\\\\.venv', '', 'c:\\\\Users\\\\ping\\\\Files_win10\\\\python\\\\py311\\\\.venv\\\\Lib\\\\site-packages', 'c:\\\\Users\\\\ping\\\\Files_win10\\\\python\\\\py311\\\\.venv\\\\Lib\\\\site-packages\\\\win32', 'c:\\\\Users\\\\ping\\\\Files_win10\\\\python\\\\py311\\\\.venv\\\\Lib\\\\site-packages\\\\win32\\\\lib', 'c:\\\\Users\\\\ping\\\\Files_win10\\\\python\\\\py311\\\\.venv\\\\Lib\\\\site-packages\\\\Pythonwin', 'c:\\\\Users\\\\ping\\\\Files_win10\\\\python\\\\py311\\\\stocks\\\\src', 'c:\\\\Users\\\\ping\\\\Files_win10\\\\python\\\\py311\\\\.venv\\\\Lib\\\\site-packages\\\\setuptools\\\\_vendor', 'c:\\\\Users\\\\ping\\\\Files_win10\\\\python\\\\py311\\\\stocks\\\\src', 'c:\\\\Users\\\\ping\\\\Files_win10\\\\python\\\\py311\\\\stocks\\\\src', 'c:\\\\Users\\\\ping\\\\Files_win10\\\\python\\\\py311\\\\stocks\\\\src', 'c:\\\\Users\\\\ping\\\\Files_win10\\\\python\\\\py311\\\\stocks\\\\src']\n"
     ]
    },
    {
     "data": {
      "text/markdown": [
       "**Available '2025-' files:**"
      ],
      "text/plain": [
       "<IPython.core.display.Markdown object>"
      ]
     },
     "metadata": {},
     "output_type": "display_data"
    },
    {
     "data": {
      "text/markdown": [
       "- (1) `[DATA]` `2025-04-01_cluster_stats_df.parquet` <span style='color:#00ffff'>(0.01 MB, 2025-04-02 09:43)</span>"
      ],
      "text/plain": [
       "<IPython.core.display.Markdown object>"
      ]
     },
     "metadata": {},
     "output_type": "display_data"
    },
    {
     "data": {
      "text/markdown": [
       "- (2) `[DATA]` `2025-04-01_detailed_clusters_df.parquet` <span style='color:#00ffff'>(0.05 MB, 2025-04-02 09:43)</span>"
      ],
      "text/plain": [
       "<IPython.core.display.Markdown object>"
      ]
     },
     "metadata": {},
     "output_type": "display_data"
    },
    {
     "data": {
      "text/markdown": [
       "- (3) `[DATA]` `2025-04-01_portf.txt` <span style='color:#00ffff'>(0.10 MB, 2025-04-02 09:43)</span>"
      ],
      "text/plain": [
       "<IPython.core.display.Markdown object>"
      ]
     },
     "metadata": {},
     "output_type": "display_data"
    },
    {
     "data": {
      "text/markdown": [
       "- (4) `[DATA]` `2025-04-01_selected_stocks.parquet` <span style='color:#00ffff'>(0.03 MB, 2025-04-02 09:43)</span>"
      ],
      "text/plain": [
       "<IPython.core.display.Markdown object>"
      ]
     },
     "metadata": {},
     "output_type": "display_data"
    },
    {
     "data": {
      "text/markdown": [
       "- (5) `[DATA]` `2025-04-01_selected_stocks.tsv` <span style='color:#00ffff'>(0.01 MB, 2025-04-02 09:43)</span>"
      ],
      "text/plain": [
       "<IPython.core.display.Markdown object>"
      ]
     },
     "metadata": {},
     "output_type": "display_data"
    },
    {
     "name": "stdout",
     "output_type": "stream",
     "text": [
      "\n",
      "Input a number to select file (1-5)\n"
     ]
    },
    {
     "data": {
      "text/markdown": [
       "\n",
       "    **Selected paths:**\n",
       "    - Source: `..\\picks\\2025-04-01_selected_stocks.parquet`  \n",
       "    - Destination: `..\\picks\\2025-04-01_selected_stocks_clean.parquet`\n",
       "    "
      ],
      "text/plain": [
       "<IPython.core.display.Markdown object>"
      ]
     },
     "metadata": {},
     "output_type": "display_data"
    }
   ],
   "source": [
    "import sys\n",
    "from pathlib import Path\n",
    "import pandas as pd\n",
    "\n",
    "# Notebook cell\n",
    "%load_ext autoreload\n",
    "%autoreload 2\n",
    "\n",
    "# Get root directory (assuming notebook is in root/notebooks/)\n",
    "NOTEBOOK_DIR = Path.cwd()\n",
    "ROOT_DIR = NOTEBOOK_DIR.parent if NOTEBOOK_DIR.name == 'notebooks' else NOTEBOOK_DIR\n",
    "\n",
    "# Add src directory to Python path\n",
    "sys.path.append(str(ROOT_DIR / 'src'))\n",
    "\n",
    "# Verify path\n",
    "print(f\"Python will look in these locations:\\n{sys.path}\")\n",
    "\n",
    "\n",
    "# --- Execute the processor ---\n",
    "import utils\n",
    "\n",
    "\n",
    "SELECTED_STOCK_PATH, _ = utils.main_processor(\n",
    "    data_dir='..\\picks',  # search project ..\\data\n",
    "    downloads_dir='',  # None searchs Downloads dir, '' omits search1\n",
    "    downloads_limit=60,  # search the first 10 files\n",
    "    clean_name_override=None,  # override filename\n",
    "    start_file_pattern='2025-', # search for files starting with 'df_'\n",
    ")\n"
   ]
  },
  {
   "cell_type": "code",
   "execution_count": 9,
   "metadata": {},
   "outputs": [
    {
     "name": "stdout",
     "output_type": "stream",
     "text": [
      "SELECTED_STOCK_PATH: ..\\picks\\2025-04-01_selected_stocks.parquet\n"
     ]
    }
   ],
   "source": [
    "print(f'SELECTED_STOCK_PATH: {SELECTED_STOCK_PATH}')  # SOURCE_PATH"
   ]
  },
  {
   "cell_type": "code",
   "execution_count": 12,
   "metadata": {},
   "outputs": [
    {
     "name": "stdout",
     "output_type": "stream",
     "text": [
      "date_str: 2025-04-01\n"
     ]
    }
   ],
   "source": [
    "date_str = utils.extract_date_from_string(SELECTED_STOCK_PATH)\n",
    "print(f'date_str: {date_str}')"
   ]
  },
  {
   "cell_type": "code",
   "execution_count": 24,
   "metadata": {},
   "outputs": [
    {
     "data": {
      "text/plain": [
       "Ticker\n",
       "PHYS    0.179265\n",
       "COR     0.164450\n",
       "MCK     0.136936\n",
       "IAU     0.109283\n",
       "GLDM    0.109218\n",
       "EPD     0.107112\n",
       "OGE     0.099870\n",
       "ATO     0.093865\n",
       "Name: Weight, dtype: float64"
      ]
     },
     "execution_count": 24,
     "metadata": {},
     "output_type": "execute_result"
    }
   ],
   "source": [
    "selected_stocks = pd.read_parquet(SELECTED_STOCK_PATH)\n",
    "selected_stocks_n_weights = selected_stocks['Weight'].copy()\n",
    "selected_stocks_n_weights"
   ]
  },
  {
   "cell_type": "code",
   "execution_count": 16,
   "metadata": {},
   "outputs": [
    {
     "data": {
      "text/markdown": [
       "<span style='color:#00ffff;font-weight:500'>[Downloads] Scanned latest 60 files • Found 1 'df_OHLCV_2025-04-01' matches</span>"
      ],
      "text/plain": [
       "<IPython.core.display.Markdown object>"
      ]
     },
     "metadata": {},
     "output_type": "display_data"
    },
    {
     "data": {
      "text/markdown": [
       "**Available 'df_OHLCV_2025-04-01' files:**"
      ],
      "text/plain": [
       "<IPython.core.display.Markdown object>"
      ]
     },
     "metadata": {},
     "output_type": "display_data"
    },
    {
     "data": {
      "text/markdown": [
       "- (1) `[DATA]` `df_OHLCV_2025-04-01_clean.parquet` <span style='color:#00ffff'>(14.60 MB, 2025-04-01 17:10)</span>"
      ],
      "text/plain": [
       "<IPython.core.display.Markdown object>"
      ]
     },
     "metadata": {},
     "output_type": "display_data"
    },
    {
     "data": {
      "text/markdown": [
       "- (2) `[DOWNLOADS]` `df_OHLCV_2025-04-01.parquet` <span style='color:#00ffff'>(14.69 MB, 2025-04-01 16:25)</span>"
      ],
      "text/plain": [
       "<IPython.core.display.Markdown object>"
      ]
     },
     "metadata": {},
     "output_type": "display_data"
    },
    {
     "name": "stdout",
     "output_type": "stream",
     "text": [
      "\n",
      "Input a number to select file (1-2)\n"
     ]
    },
    {
     "data": {
      "text/markdown": [
       "\n",
       "    **Selected paths:**\n",
       "    - Source: `..\\data\\df_OHLCV_2025-04-01_clean.parquet`  \n",
       "    - Destination: `..\\data\\df_OHLCV_2025-04-01_clean_clean.parquet`\n",
       "    "
      ],
      "text/plain": [
       "<IPython.core.display.Markdown object>"
      ]
     },
     "metadata": {},
     "output_type": "display_data"
    }
   ],
   "source": [
    "OHLCV_PATH, _ = utils.main_processor(\n",
    "    data_dir='..\\data',  # search project ..\\data\n",
    "    downloads_dir=None,  # None searchs Downloads dir, '' omits search1\n",
    "    downloads_limit=60,  # search the first 10 files\n",
    "    clean_name_override=None,  # override filename\n",
    "    start_file_pattern=f'df_OHLCV_{date_str}', # search for files starting with 'df_'\n",
    ")\n"
   ]
  },
  {
   "cell_type": "code",
   "execution_count": 19,
   "metadata": {},
   "outputs": [
    {
     "name": "stdout",
     "output_type": "stream",
     "text": [
      "<class 'pandas.core.frame.DataFrame'>\n",
      "MultiIndex: 386038 entries, ('TBIL', Timestamp('2025-04-01 00:00:00')) to ('IEI', Timestamp('2024-04-02 00:00:00'))\n",
      "Data columns (total 9 columns):\n",
      " #   Column     Non-Null Count   Dtype  \n",
      "---  ------     --------------   -----  \n",
      " 0   Open       386038 non-null  float64\n",
      " 1   High       386038 non-null  float64\n",
      " 2   Low        386038 non-null  float64\n",
      " 3   Close      386038 non-null  float64\n",
      " 4   Adj Close  386038 non-null  float64\n",
      " 5   Volume     386038 non-null  Int64  \n",
      " 6   Adj Open   386038 non-null  float64\n",
      " 7   Adj High   386038 non-null  float64\n",
      " 8   Adj Low    386038 non-null  float64\n",
      "dtypes: Int64(1), float64(8)\n",
      "memory usage: 28.4+ MB\n"
     ]
    }
   ],
   "source": [
    "OHLCV = pd.read_parquet(OHLCV_PATH)\n",
    "OHLCV.info()"
   ]
  },
  {
   "cell_type": "code",
   "execution_count": 30,
   "metadata": {},
   "outputs": [
    {
     "data": {
      "text/plain": [
       "'Date'"
      ]
     },
     "execution_count": 30,
     "metadata": {},
     "output_type": "execute_result"
    }
   ],
   "source": [
    "OHLCV.loc['SPY'].index.name"
   ]
  },
  {
   "cell_type": "code",
   "execution_count": 42,
   "metadata": {},
   "outputs": [],
   "source": [
    "import pandas as pd\n",
    "\n",
    "def create_performance_df(date_str, selected_stocks_n_weights, OHLCV):\n",
    "    \"\"\"\n",
    "    Create a DataFrame tracking performance of stock selections.\n",
    "    \n",
    "    Parameters:\n",
    "    - date_str: str, the date when stocks were selected (format 'YYYY-MM-DD')\n",
    "    - selected_stocks_n_weights: pd.Series with tickers as index and weights as values\n",
    "    - OHLCV: pd.DataFrame with historical stock prices (must contain 'Adj Close' and be multi-indexed by date and ticker)\n",
    "    \n",
    "    Returns:\n",
    "    - pd.DataFrame with performance tracking information\n",
    "    \"\"\"\n",
    "    \n",
    "    # Convert date_str to datetime\n",
    "    selection_date = pd.to_datetime(date_str)\n",
    "    \n",
    "    # Get all unique dates from OHLCV\n",
    "    # all_dates = OHLCV.index.get_level_values('date').unique()\n",
    "    all_dates = OHLCV.index.get_level_values('Date').unique()    \n",
    "    all_dates = all_dates.sort_values()\n",
    "    \n",
    "    # Find the next trading date after selection_date (buy date)\n",
    "    buy_date = all_dates[all_dates > selection_date].min()\n",
    "    \n",
    "    # Initialize performance DataFrame\n",
    "    performance_data = []\n",
    "    \n",
    "    # Get the tickers and weights\n",
    "    selected_tickers = selected_stocks_n_weights.index.tolist()\n",
    "    weights = selected_stocks_n_weights.values.tolist()\n",
    "    \n",
    "    for ticker, weight in zip(selected_tickers, weights):\n",
    "        # Get buy price (Adj_close on buy_date)\n",
    "        try:\n",
    "            # buy_price = OHLCV.loc[(buy_date, ticker), 'Adj Close']\n",
    "            buy_price = OHLCV.loc[(ticker, buy_date), 'Adj Close']\n",
    "        except KeyError:\n",
    "            print(f\"Could not find buy price for {ticker} on {buy_date}\")\n",
    "            continue\n",
    "        \n",
    "        # Find when this ticker was removed from the portfolio\n",
    "        # This would depend on your logic - here I'm assuming you have a way to track\n",
    "        # when stocks are removed from selected_stocks_n_weights in subsequent periods\n",
    "        \n",
    "        # For demonstration, let's assume we sell after a fixed holding period (e.g., 1 month)\n",
    "        # In practice, you'd need to track when the stock is removed from selected_stocks_n_weights\n",
    "        sell_date = all_dates[all_dates > buy_date].min() + pd.DateOffset(months=1)\n",
    "        sell_date = min(sell_date, all_dates[-1])  # Don't exceed available data\n",
    "        \n",
    "        try:\n",
    "            sell_price = OHLCV.loc[(ticker, sell_date), 'Adj Close']\n",
    "        except KeyError:\n",
    "            print(f\"Could not find sell price for {ticker} on {sell_date}\")\n",
    "            continue\n",
    "        \n",
    "        # Calculate return\n",
    "        return_pct = (sell_price - buy_price) / buy_price * 100\n",
    "        dollar_return = sell_price - buy_price\n",
    "        \n",
    "        performance_data.append({\n",
    "            'Ticker': ticker,\n",
    "            'Weight': weight,\n",
    "            'Selection_Date': selection_date,\n",
    "            'Buy_Date': buy_date,\n",
    "            'Buy_Price': buy_price,\n",
    "            'Sell_Date': sell_date,\n",
    "            'Sell_Price': sell_price,\n",
    "            'Return_Pct': return_pct,\n",
    "            'Dollar_Return': dollar_return,\n",
    "            'Holding_Period': (sell_date - buy_date).days\n",
    "        })\n",
    "    \n",
    "    performance_df = pd.DataFrame(performance_data)\n",
    "    \n",
    "    return performance_df\n",
    "\n",
    "# Example usage:\n",
    "# OHLCV should be a DataFrame with MultiIndex (date, ticker) and 'Adj Close' column\n",
    "performance_df = create_performance_df('2025-01-31', selected_stocks_n_weights, OHLCV)"
   ]
  },
  {
   "cell_type": "code",
   "execution_count": 43,
   "metadata": {},
   "outputs": [
    {
     "data": {
      "text/html": [
       "<div>\n",
       "<style scoped>\n",
       "    .dataframe tbody tr th:only-of-type {\n",
       "        vertical-align: middle;\n",
       "    }\n",
       "\n",
       "    .dataframe tbody tr th {\n",
       "        vertical-align: top;\n",
       "    }\n",
       "\n",
       "    .dataframe thead th {\n",
       "        text-align: right;\n",
       "    }\n",
       "</style>\n",
       "<table border=\"1\" class=\"dataframe\">\n",
       "  <thead>\n",
       "    <tr style=\"text-align: right;\">\n",
       "      <th></th>\n",
       "      <th>Ticker</th>\n",
       "      <th>Weight</th>\n",
       "      <th>Selection_Date</th>\n",
       "      <th>Buy_Date</th>\n",
       "      <th>Buy_Price</th>\n",
       "      <th>Sell_Date</th>\n",
       "      <th>Sell_Price</th>\n",
       "      <th>Return_Pct</th>\n",
       "      <th>Dollar_Return</th>\n",
       "      <th>Holding_Period</th>\n",
       "    </tr>\n",
       "  </thead>\n",
       "  <tbody>\n",
       "    <tr>\n",
       "      <th>0</th>\n",
       "      <td>PHYS</td>\n",
       "      <td>0.179265</td>\n",
       "      <td>2025-01-31</td>\n",
       "      <td>2025-02-03</td>\n",
       "      <td>21.80</td>\n",
       "      <td>2025-03-04</td>\n",
       "      <td>22.62</td>\n",
       "      <td>3.761468</td>\n",
       "      <td>0.82</td>\n",
       "      <td>29</td>\n",
       "    </tr>\n",
       "    <tr>\n",
       "      <th>1</th>\n",
       "      <td>COR</td>\n",
       "      <td>0.164450</td>\n",
       "      <td>2025-01-31</td>\n",
       "      <td>2025-02-03</td>\n",
       "      <td>253.86</td>\n",
       "      <td>2025-03-04</td>\n",
       "      <td>253.28</td>\n",
       "      <td>-0.228472</td>\n",
       "      <td>-0.58</td>\n",
       "      <td>29</td>\n",
       "    </tr>\n",
       "    <tr>\n",
       "      <th>2</th>\n",
       "      <td>MCK</td>\n",
       "      <td>0.136936</td>\n",
       "      <td>2025-01-31</td>\n",
       "      <td>2025-02-03</td>\n",
       "      <td>599.15</td>\n",
       "      <td>2025-03-04</td>\n",
       "      <td>643.69</td>\n",
       "      <td>7.433865</td>\n",
       "      <td>44.54</td>\n",
       "      <td>29</td>\n",
       "    </tr>\n",
       "    <tr>\n",
       "      <th>3</th>\n",
       "      <td>IAU</td>\n",
       "      <td>0.109283</td>\n",
       "      <td>2025-01-31</td>\n",
       "      <td>2025-02-03</td>\n",
       "      <td>53.17</td>\n",
       "      <td>2025-03-04</td>\n",
       "      <td>55.04</td>\n",
       "      <td>3.517021</td>\n",
       "      <td>1.87</td>\n",
       "      <td>29</td>\n",
       "    </tr>\n",
       "    <tr>\n",
       "      <th>4</th>\n",
       "      <td>GLDM</td>\n",
       "      <td>0.109218</td>\n",
       "      <td>2025-01-31</td>\n",
       "      <td>2025-02-03</td>\n",
       "      <td>55.81</td>\n",
       "      <td>2025-03-04</td>\n",
       "      <td>57.79</td>\n",
       "      <td>3.547751</td>\n",
       "      <td>1.98</td>\n",
       "      <td>29</td>\n",
       "    </tr>\n",
       "    <tr>\n",
       "      <th>5</th>\n",
       "      <td>EPD</td>\n",
       "      <td>0.107112</td>\n",
       "      <td>2025-01-31</td>\n",
       "      <td>2025-02-03</td>\n",
       "      <td>33.13</td>\n",
       "      <td>2025-03-04</td>\n",
       "      <td>33.32</td>\n",
       "      <td>0.573498</td>\n",
       "      <td>0.19</td>\n",
       "      <td>29</td>\n",
       "    </tr>\n",
       "    <tr>\n",
       "      <th>6</th>\n",
       "      <td>OGE</td>\n",
       "      <td>0.099870</td>\n",
       "      <td>2025-01-31</td>\n",
       "      <td>2025-02-03</td>\n",
       "      <td>42.30</td>\n",
       "      <td>2025-03-04</td>\n",
       "      <td>45.12</td>\n",
       "      <td>6.666667</td>\n",
       "      <td>2.82</td>\n",
       "      <td>29</td>\n",
       "    </tr>\n",
       "    <tr>\n",
       "      <th>7</th>\n",
       "      <td>ATO</td>\n",
       "      <td>0.093865</td>\n",
       "      <td>2025-01-31</td>\n",
       "      <td>2025-02-03</td>\n",
       "      <td>142.57</td>\n",
       "      <td>2025-03-04</td>\n",
       "      <td>149.75</td>\n",
       "      <td>5.036123</td>\n",
       "      <td>7.18</td>\n",
       "      <td>29</td>\n",
       "    </tr>\n",
       "  </tbody>\n",
       "</table>\n",
       "</div>"
      ],
      "text/plain": [
       "  Ticker    Weight Selection_Date   Buy_Date  Buy_Price  Sell_Date  \\\n",
       "0   PHYS  0.179265     2025-01-31 2025-02-03      21.80 2025-03-04   \n",
       "1    COR  0.164450     2025-01-31 2025-02-03     253.86 2025-03-04   \n",
       "2    MCK  0.136936     2025-01-31 2025-02-03     599.15 2025-03-04   \n",
       "3    IAU  0.109283     2025-01-31 2025-02-03      53.17 2025-03-04   \n",
       "4   GLDM  0.109218     2025-01-31 2025-02-03      55.81 2025-03-04   \n",
       "5    EPD  0.107112     2025-01-31 2025-02-03      33.13 2025-03-04   \n",
       "6    OGE  0.099870     2025-01-31 2025-02-03      42.30 2025-03-04   \n",
       "7    ATO  0.093865     2025-01-31 2025-02-03     142.57 2025-03-04   \n",
       "\n",
       "   Sell_Price  Return_Pct  Dollar_Return  Holding_Period  \n",
       "0       22.62    3.761468           0.82              29  \n",
       "1      253.28   -0.228472          -0.58              29  \n",
       "2      643.69    7.433865          44.54              29  \n",
       "3       55.04    3.517021           1.87              29  \n",
       "4       57.79    3.547751           1.98              29  \n",
       "5       33.32    0.573498           0.19              29  \n",
       "6       45.12    6.666667           2.82              29  \n",
       "7      149.75    5.036123           7.18              29  "
      ]
     },
     "execution_count": 43,
     "metadata": {},
     "output_type": "execute_result"
    }
   ],
   "source": [
    "performance_df"
   ]
  },
  {
   "cell_type": "code",
   "execution_count": null,
   "metadata": {},
   "outputs": [],
   "source": []
  }
 ],
 "metadata": {
  "kernelspec": {
   "display_name": ".venv",
   "language": "python",
   "name": "python3"
  },
  "language_info": {
   "codemirror_mode": {
    "name": "ipython",
    "version": 3
   },
   "file_extension": ".py",
   "mimetype": "text/x-python",
   "name": "python",
   "nbconvert_exporter": "python",
   "pygments_lexer": "ipython3",
   "version": "3.11.9"
  }
 },
 "nbformat": 4,
 "nbformat_minor": 2
}
