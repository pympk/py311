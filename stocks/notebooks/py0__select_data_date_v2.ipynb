{
 "cells": [
  {
   "cell_type": "code",
   "execution_count": null,
   "metadata": {},
   "outputs": [],
   "source": [
    "\n",
    "\n"
   ]
  },
  {
   "cell_type": "code",
   "execution_count": 1,
   "metadata": {},
   "outputs": [
    {
     "name": "stdout",
     "output_type": "stream",
     "text": [
      "Python will look in these locations:\n",
      "['C:\\\\Users\\\\ping\\\\.pyenv\\\\pyenv-win\\\\versions\\\\3.11.9\\\\python311.zip', 'C:\\\\Users\\\\ping\\\\.pyenv\\\\pyenv-win\\\\versions\\\\3.11.9\\\\DLLs', 'C:\\\\Users\\\\ping\\\\.pyenv\\\\pyenv-win\\\\versions\\\\3.11.9\\\\Lib', 'C:\\\\Users\\\\ping\\\\.pyenv\\\\pyenv-win\\\\versions\\\\3.11.9', 'c:\\\\Users\\\\ping\\\\Files_win10\\\\python\\\\py311\\\\.venv', '', 'c:\\\\Users\\\\ping\\\\Files_win10\\\\python\\\\py311\\\\.venv\\\\Lib\\\\site-packages', 'c:\\\\Users\\\\ping\\\\Files_win10\\\\python\\\\py311\\\\.venv\\\\Lib\\\\site-packages\\\\win32', 'c:\\\\Users\\\\ping\\\\Files_win10\\\\python\\\\py311\\\\.venv\\\\Lib\\\\site-packages\\\\win32\\\\lib', 'c:\\\\Users\\\\ping\\\\Files_win10\\\\python\\\\py311\\\\.venv\\\\Lib\\\\site-packages\\\\Pythonwin', 'c:\\\\Users\\\\ping\\\\Files_win10\\\\python\\\\py311\\\\stocks\\\\src']\n"
     ]
    }
   ],
   "source": [
    "import sys\n",
    "from pathlib import Path\n",
    "import pandas as pd\n",
    "import os\n",
    "from IPython.display import display, Markdown  # Assuming you use these for display\n",
    "\n",
    "\n",
    "# Set pandas display options to show more columns and rows\n",
    "pd.set_option('display.max_columns', None)  # Show all columns\n",
    "# pd.set_option('display.max_rows', 10)       # Limit to 10 rows for readability\n",
    "pd.set_option('display.width', None)        # Let the display adjust to the window\n",
    "\n",
    "# 2. Set the display width (optional but \n",
    "# often helpful)\n",
    "#    'None' tries to detect terminal width. \n",
    "#    A large number (e.g., 1000) ensures no wrapping unless absolutely necessary.\n",
    "pd.set_option('display.width', 1000) \n",
    "\n",
    "\n",
    "# Notebook cell\n",
    "%load_ext autoreload\n",
    "%autoreload 2\n",
    "\n",
    "# Get root directory (assuming notebook is in root/notebooks/)\n",
    "NOTEBOOK_DIR = Path.cwd()\n",
    "ROOT_DIR = NOTEBOOK_DIR.parent if NOTEBOOK_DIR.name == 'notebooks' else NOTEBOOK_DIR\n",
    "\n",
    "# Add src directory to Python path\n",
    "sys.path.append(str(ROOT_DIR / 'src'))\n",
    "\n",
    "# Verify path\n",
    "print(f\"Python will look in these locations:\\n{sys.path}\")\n",
    "\n",
    "\n",
    "# --- Execute the processor ---\n",
    "import utils\n",
    "\n"
   ]
  },
  {
   "cell_type": "code",
   "execution_count": 2,
   "metadata": {},
   "outputs": [
    {
     "name": "stdout",
     "output_type": "stream",
     "text": [
      "target_dir: C:\\Users\\ping\\Downloads\n",
      "\n",
      "Most recent files found in targetdirectory:\n",
      "1. df_finviz_2025-05-14_stocks_etfs.parquet\n",
      "2. df_finviz_2025-05-13_stocks_etfs.parquet\n",
      "3. df_finviz_2025-05-12_stocks_etfs.parquet\n",
      "4. df_finviz_2025-05-09_stocks_etfs.parquet\n",
      "5. df_finviz_2025-05-08_stocks_etfs.parquet\n",
      "6. df_finviz_2025-05-07_stocks_etfs.parquet\n",
      "7. df_finviz_2025-05-06_stocks_etfs.parquet\n",
      "8. df_finviz_2025-05-05_stocks_etfs.parquet\n",
      "9. df_finviz_2025-05-02_stocks_etfs.parquet\n",
      "10. df_finviz_2025-05-01_stocks_etfs.parquet\n",
      "11. df_finviz_2025-04-30_stocks_etfs.parquet\n",
      "12. df_finviz_2025-04-29_stocks_etfs.parquet\n",
      "13. df_finviz_2025-04-28_stocks_etfs.parquet\n",
      "14. df_finviz_2025-04-25_stocks_etfs.parquet\n"
     ]
    }
   ],
   "source": [
    "files_list = utils.get_recent_files_in_directory(\n",
    "    prefix='df_finviz_2025',\n",
    "    extension='parquet',\n",
    "    count=60,\n",
    "    directory_name='Downloads'\n",
    "\n",
    " )\n",
    "\n",
    "if files_list:\n",
    "    print(f\"\\nMost recent files found in targetdirectory:\")\n",
    "    for i, filename in enumerate(files_list):\n",
    "        print(f\"{i+1}. {filename}\")\n",
    "else:\n",
    "    print(\"No 'ticker' CSV files found in your Downloads directory, or an error occurred.\")"
   ]
  },
  {
   "cell_type": "code",
   "execution_count": 3,
   "metadata": {},
   "outputs": [],
   "source": [
    "import os\n",
    "\n",
    "def extract_and_sort_dates(files):\n",
    "    \"\"\"\n",
    "    Extracts date strings from a list of filenames, sorts them, and returns the sorted list.\n",
    "\n",
    "    Args:\n",
    "        files: A list of filenames with the format 'prefix_YYYY-MM-DD_suffix.extension'.\n",
    "\n",
    "    Returns:\n",
    "        A list of date strings in 'YYYY-MM-DD' format, sorted from oldest to newest.\n",
    "    \"\"\"\n",
    "    date_list = []\n",
    "    for file in files:\n",
    "        parts = file.split('_')\n",
    "        if len(parts) > 2:\n",
    "            # Assuming the date is always the third part (index 2) after splitting by '_'\n",
    "            date_str = parts[2]\n",
    "            date_list.append(date_str)\n",
    "\n",
    "    # Sorting the date strings directly works because the format YYYY-MM-DD is sortable alphabetically\n",
    "    date_list.sort()\n",
    "    return date_list\n",
    "\n"
   ]
  },
  {
   "cell_type": "code",
   "execution_count": 9,
   "metadata": {},
   "outputs": [
    {
     "name": "stdout",
     "output_type": "stream",
     "text": [
      "0    2025-04-25\n",
      "1    2025-04-28\n",
      "2    2025-04-29\n",
      "3    2025-04-30\n",
      "4    2025-05-01\n",
      "5    2025-05-02\n",
      "6    2025-05-05\n",
      "7    2025-05-06\n",
      "8    2025-05-07\n",
      "9    2025-05-08\n",
      "10   2025-05-09\n",
      "11   2025-05-12\n",
      "12   2025-05-13\n",
      "13   2025-05-14\n"
     ]
    }
   ],
   "source": [
    "sorted_dates = extract_and_sort_dates(files_list)\n",
    "\n",
    "for idx, _date in enumerate(sorted_dates):\n",
    "  print(f\"{idx:<3}  {_date}\")"
   ]
  },
  {
   "cell_type": "code",
   "execution_count": 5,
   "metadata": {},
   "outputs": [],
   "source": [
    "# create_config.py\n",
    "def create_config_file(date_str):\n",
    "    \"\"\"Create config.py with date configuration\"\"\"\n",
    "    config_content = f\"\"\"# config.py\n",
    "# File path configuration\n",
    "date_str = '{date_str}'  # Date in YYYY-MM-DD format\n",
    "DOWNLOAD_DIR = r'C:\\\\Users\\\\ping\\\\Downloads'  # Raw string for Windows paths\n",
    "DEST_DIR = r'..\\\\data'\n",
    "\"\"\"\n",
    "    \n",
    "    with open('config.py', 'w') as f:\n",
    "        f.write(config_content)\n",
    "    \n",
    "    print(f\"config.py created with date: {date_str}\")\n"
   ]
  },
  {
   "cell_type": "code",
   "execution_count": 10,
   "metadata": {},
   "outputs": [
    {
     "data": {
      "text/plain": [
       "['2025-05-14']"
      ]
     },
     "execution_count": 10,
     "metadata": {},
     "output_type": "execute_result"
    }
   ],
   "source": [
    "sorted_dates[-1::]"
   ]
  },
  {
   "cell_type": "markdown",
   "metadata": {},
   "source": [
    "#### ==== BEFORE RUNNING SEQUENCE ====\n",
    "#### Run colab finviz, Yloader\n",
    "#### Select sorted_dates slice\n"
   ]
  },
  {
   "cell_type": "code",
   "execution_count": null,
   "metadata": {},
   "outputs": [
    {
     "name": "stdout",
     "output_type": "stream",
     "text": [
      "config.py created with date: 2025-05-14\n",
      "Updated config.py with date: 2025-05-14\n",
      "Running sequence for 2025-05-14\n",
      "Starting notebook execution sequence...\n",
      "\n",
      "--- Running py1_clean_df_finviz_v13.ipynb ---\n",
      "\n",
      "Running command: c:\\Users\\ping\\Files_win10\\python\\py311\\.venv\\Scripts\\jupyter nbconvert --to notebook --execute --output executed\\executed_py1_clean_df_finviz_v13.ipynb py1_clean_df_finviz_v13.ipynb\n",
      "Successfully executed py1_clean_df_finviz_v13.ipynb\n",
      "Output saved to: executed\\executed_py1_clean_df_finviz_v13.ipynb\n",
      "\n",
      "--- Running py2_clean_df_OHLCV_v9.ipynb ---\n",
      "\n",
      "Running command: c:\\Users\\ping\\Files_win10\\python\\py311\\.venv\\Scripts\\jupyter nbconvert --to notebook --execute --output executed\\executed_py2_clean_df_OHLCV_v9.ipynb py2_clean_df_OHLCV_v9.ipynb\n",
      "Successfully executed py2_clean_df_OHLCV_v9.ipynb\n",
      "Output saved to: executed\\executed_py2_clean_df_OHLCV_v9.ipynb\n",
      "\n",
      "--- Running py2_save_df_adj_close_v0.ipynb ---\n",
      "\n",
      "Running command: c:\\Users\\ping\\Files_win10\\python\\py311\\.venv\\Scripts\\jupyter nbconvert --to notebook --execute --output executed\\executed_py2_save_df_adj_close_v0.ipynb py2_save_df_adj_close_v0.ipynb\n",
      "Successfully executed py2_save_df_adj_close_v0.ipynb\n",
      "Output saved to: executed\\executed_py2_save_df_adj_close_v0.ipynb\n",
      "\n",
      "--- Running py3_calc_perf_ratios_v14.ipynb ---\n",
      "\n",
      "Running command: c:\\Users\\ping\\Files_win10\\python\\py311\\.venv\\Scripts\\jupyter nbconvert --to notebook --execute --output executed\\executed_py3_calc_perf_ratios_v14.ipynb py3_calc_perf_ratios_v14.ipynb\n",
      "Successfully executed py3_calc_perf_ratios_v14.ipynb\n",
      "Output saved to: executed\\executed_py3_calc_perf_ratios_v14.ipynb\n",
      "\n",
      "--- Running py4_append_ratios_v8.ipynb ---\n",
      "\n",
      "Running command: c:\\Users\\ping\\Files_win10\\python\\py311\\.venv\\Scripts\\jupyter nbconvert --to notebook --execute --output executed\\executed_py4_append_ratios_v8.ipynb py4_append_ratios_v8.ipynb\n",
      "Successfully executed py4_append_ratios_v8.ipynb\n",
      "Output saved to: executed\\executed_py4_append_ratios_v8.ipynb\n",
      "\n",
      "--- Running py5_append_columns_v7.ipynb ---\n",
      "\n",
      "Running command: c:\\Users\\ping\\Files_win10\\python\\py311\\.venv\\Scripts\\jupyter nbconvert --to notebook --execute --output executed\\executed_py5_append_columns_v7.ipynb py5_append_columns_v7.ipynb\n",
      "Successfully executed py5_append_columns_v7.ipynb\n",
      "Output saved to: executed\\executed_py5_append_columns_v7.ipynb\n",
      "\n",
      "--- Running py6_append_stats_history_v3.ipynb ---\n",
      "\n",
      "Running command: c:\\Users\\ping\\Files_win10\\python\\py311\\.venv\\Scripts\\jupyter nbconvert --to notebook --execute --output executed\\executed_py6_append_stats_history_v3.ipynb py6_append_stats_history_v3.ipynb\n",
      "Successfully executed py6_append_stats_history_v3.ipynb\n",
      "Output saved to: executed\\executed_py6_append_stats_history_v3.ipynb\n",
      "\n",
      "--- Running py6_view_market_sentiment_v4.ipynb ---\n",
      "\n",
      "Running command: c:\\Users\\ping\\Files_win10\\python\\py311\\.venv\\Scripts\\jupyter nbconvert --to notebook --execute --output executed\\executed_py6_view_market_sentiment_v4.ipynb py6_view_market_sentiment_v4.ipynb\n",
      "Successfully executed py6_view_market_sentiment_v4.ipynb\n",
      "Output saved to: executed\\executed_py6_view_market_sentiment_v4.ipynb\n",
      "\n",
      "--- Running py8_portf_picks_short_term_v5.ipynb ---\n",
      "\n",
      "Running command: c:\\Users\\ping\\Files_win10\\python\\py311\\.venv\\Scripts\\jupyter nbconvert --to notebook --execute --output executed\\executed_py8_portf_picks_short_term_v5.ipynb py8_portf_picks_short_term_v5.ipynb\n",
      "Successfully executed py8_portf_picks_short_term_v5.ipynb\n",
      "Output saved to: executed\\executed_py8_portf_picks_short_term_v5.ipynb\n",
      "\n",
      "--- All notebooks executed successfully! ---\n"
     ]
    }
   ],
   "source": [
    "# for date_str in sorted_dates:\n",
    "for date_str in sorted_dates[-1::]:  # Run the sequence for the most recent date\n",
    "# for date_str in sorted_dates[2::]:  # Run the sequence for the 3rd to the most recent date\n",
    "  create_config_file(date_str)  # Create config.py with the date_str\n",
    "  print(f'Updated config.py with date: {date_str}')\n",
    "  print(f'Running sequence for {date_str}')\n",
    "  %run run_sequence.py\n"
   ]
  }
 ],
 "metadata": {
  "kernelspec": {
   "display_name": ".venv",
   "language": "python",
   "name": "python3"
  },
  "language_info": {
   "codemirror_mode": {
    "name": "ipython",
    "version": 3
   },
   "file_extension": ".py",
   "mimetype": "text/x-python",
   "name": "python",
   "nbconvert_exporter": "python",
   "pygments_lexer": "ipython3",
   "version": "3.11.9"
  }
 },
 "nbformat": 4,
 "nbformat_minor": 2
}
