{
 "cells": [
  {
   "cell_type": "code",
   "execution_count": null,
   "metadata": {},
   "outputs": [],
   "source": []
  },
  {
   "cell_type": "markdown",
   "metadata": {},
   "source": [
    "#### Append Sharpe, Sortino, Omega ratios to df_finviz_stocks_etfs"
   ]
  },
  {
   "cell_type": "code",
   "execution_count": 1,
   "metadata": {},
   "outputs": [
    {
     "name": "stdout",
     "output_type": "stream",
     "text": [
      "date_str: 2025-04-25\n"
     ]
    }
   ],
   "source": [
    "# process_files.py\n",
    "from config import date_str, DOWNLOAD_DIR, DEST_DIR\n",
    "from pathlib import Path  # Better path handling\n",
    "\n",
    "print(f\"date_str: {date_str}\")"
   ]
  },
  {
   "cell_type": "code",
   "execution_count": 2,
   "metadata": {},
   "outputs": [],
   "source": [
    "SOURCE_PATH = f'..\\data\\{date_str}_df_finviz_stocks_etfs.parquet'\n",
    "DES_PATH = f'..\\data\\{date_str}_df_finviz_n_ratios_stocks_etfs.parquet'\n",
    "COMMON_TICKERS_PATH = f'..\\data\\{date_str}_df_common_tickers_stocks_etfs.parquet'"
   ]
  },
  {
   "cell_type": "code",
   "execution_count": 15,
   "metadata": {},
   "outputs": [],
   "source": [
    "import pandas as pd\n",
    "\n",
    "# Set pandas display options to show more columns and rows\n",
    "pd.set_option('display.max_columns', None)  # Show all columns\n",
    "pd.set_option('display.width', 2500) \n",
    "# pd.set_option('display.max_rows', 10)       # Limit to 10 rows for readability\n",
    "# pd.set_option('display.width', None)        # Let the display adjust to the window\n",
    "# pd.set_option('display.max_colwidth', None) # Show full content of each cell"
   ]
  },
  {
   "cell_type": "code",
   "execution_count": 4,
   "metadata": {},
   "outputs": [
    {
     "name": "stdout",
     "output_type": "stream",
     "text": [
      "df_finviz.shape: (1560, 113)\n",
      "\n",
      "First few rows:\n",
      "        No.                                 Company               Index                  Sector                        Industry Country Exchange  Market Cap, M     P/E  Fwd P/E    PEG    P/S    P/B     P/C   P/FCF    Book/sh    Cash/sh  Dividend %  Dividend TTM Dividend Ex Date  Payout Ratio %       EPS  EPS next Q  EPS this Y %  EPS next Y %  EPS past 5Y %  EPS next 5Y %  Sales past 5Y %  Sales Q/Q %  EPS Q/Q %  EPS YoY TTM %  Sales YoY TTM %  Sales, M  Income, M  EPS Surprise %  Revenue Surprise %  Outstanding, M  Float, M  Float %  Insider Own %  Insider Trans %  Inst Own %  Inst Trans %  Short Float %  Short Ratio  Short Interest, M  ROA %   ROE %  ROI %  Curr R  Quick R  LTDebt/Eq  Debt/Eq  Gross M %  Oper M %  Profit M %  Perf Week %  Perf Month %  Perf Quart %  Perf Half %  Perf Year %  Perf YTD %  Beta       ATR  Volatility W %  Volatility M %  SMA20 %  SMA50 %  SMA200 %  50D High %  50D Low %  52W High %  52W Low %              52W Range  All-Time High %  All-Time Low %    RSI  Earnings    IPO Date Optionable Shortable  Employees  Change from Open %  Gap %  Recom  Avg Volume, M  Rel Volume     Volume  Target Price  Prev Close       Open       High        Low      Price  Change %                    Single Category         Asset Type  Expense %  Holdings    AUM, M  Flows 1M, M  Flows% 1M  Flows 3M, M  Flows% 3M  Flows YTD, M  Flows% YTD  Return% 1Y  Return% 3Y  Return% 5Y                            Tags                                               Info  \\\n",
      "Ticker                                                                                                                                                                                                                                                                                                                                                                                                                                                                                                                                                                                                                                                                                                                                                                                                                                                                                                                                                                                                                                                                                                                                                                                                                                                                                                                                                                                                                                                                                                                                         \n",
      "AAPL      1                               Apple Inc  DJIA, NDX, S&P 500              Technology            Consumer Electronics     USA     NASD      3143820.0   33.27    26.31   3.75   7.94  47.15   58.46   31.98       4.44       3.58        0.49          1.00        2/10/2025           16.11      6.29        1.61          7.58          9.53          15.41           8.88             9.18         3.95      10.13          -2.14             2.61  395760.0    96150.0            2.23                0.03        15040.00  15010.00    99.78           0.09            -3.52       63.86          1.45           0.75         1.85             113.13  27.57  136.52  63.80    0.92     0.88       1.26     1.45      46.52     31.76       24.30         6.24         -5.53         -6.06       -11.27        25.39      -16.43  1.28      9.26            2.43            4.93     3.83    -4.42     -8.06      -16.29      23.68      -19.54      24.46        168.15 - 260.10           -19.54       328873.80  51.95  May 01/a  12/12/1980        Yes       Yes   164000.0                1.49  -1.04   2.08       61.16000        0.62   38132498        238.59      208.37     206.20     209.75     206.20     209.28      0.44                                                              NaN       NaN       NaN          NaN        NaN          NaN        NaN           NaN         NaN         NaN         NaN         NaN                               -                   Technology, Consumer Electronics   \n",
      "MSFT      2                   Microsoft Corporation  DJIA, NDX, S&P 500              Technology       Software - Infrastructure     USA     NASD      2913010.0   31.56    26.37   2.22  11.13   9.62   40.71   41.60      40.71       9.63        0.83          3.16        5/15/2025           25.42     12.42        3.22         11.45         12.99          18.45          14.21            14.40        12.27      10.23          12.38            15.04  261800.0    92750.0            3.54                1.11         7430.00   7320.00    98.52           1.47            -0.04       73.30          1.16           0.70         2.02              51.25  18.47   34.29  23.60    1.35     1.34       0.30     0.34      69.41     44.96       35.43         6.54          0.48        -11.76        -8.34        -3.86       -7.03  0.98     12.57            2.43            3.52     4.26     1.19     -5.66       -6.55      13.65      -16.33      13.65        344.79 - 468.35           -16.33       491688.02  55.96  Apr 30/a   3/13/1986        Yes       Yes   228000.0                1.25  -0.08   1.34       25.35000        0.74   18803717        482.98      387.30     387.00     392.16     384.60     391.85      1.17                                                              NaN       NaN       NaN          NaN        NaN          NaN        NaN           NaN         NaN         NaN         NaN         NaN                               -              Technology, Software - Infrastructure   \n",
      "NVDA      3                             NVIDIA Corp  DJIA, NDX, S&P 500              Technology                  Semiconductors     USA     NASD      2708640.0   37.76    19.68   1.27  20.76  34.25   62.69   44.51       3.24       1.77        0.04          0.04        3/12/2025            1.16      2.94        0.89         48.06         27.39          91.83          29.64            70.88        77.94      81.23         146.26           114.20  130500.0    72880.0            4.97                3.23        24480.00  23420.00    95.70           4.00            -0.13       66.45          1.80           1.12         0.83             262.96  82.20  119.18  81.60    4.44     3.88       0.13     0.13      74.99     62.42       55.85         9.38         -2.42        -22.16       -22.69        34.68      -17.34  2.11      6.82            3.83            6.46     5.41    -3.67    -11.59      -22.61      28.16      -27.51      41.91         78.22 - 153.13           -27.51       332929.99  52.40  Feb 26/a   1/22/1999        Yes       Yes    36000.0                3.89   0.39   1.40      315.04000        0.79  249869413        161.59      106.43     106.85     111.92     105.73     111.01      4.30                                                              NaN       NaN       NaN          NaN        NaN          NaN        NaN           NaN         NaN         NaN         NaN         NaN                               -                         Technology, Semiconductors   \n",
      "AMZN      4                          Amazon.com Inc  DJIA, NDX, S&P 500       Consumer Cyclical                 Internet Retail     USA     NASD      2005630.0   34.22    25.35   1.83   3.14   7.00   19.15   61.00      27.00       9.87         NaN           NaN                -            0.00      5.52        1.37         12.63         19.69          36.89          18.71            18.31        10.49      85.48          91.61            10.99  637960.0    59250.0           25.14                0.24        10590.00   9490.00    89.59          10.58            -1.46       64.47          2.77           0.75         1.43              71.19  10.28   24.29  14.21    1.06     0.87       0.46     0.52      48.85     10.87        9.29         9.49         -6.04        -19.53        -0.37         5.26      -13.86  1.30      9.12            3.41            5.22     4.16    -3.84     -5.13      -18.25      17.11      -22.07      24.66        151.61 - 242.52           -22.07       287884.78  52.14  May 01/a   5/15/1997        Yes       Yes  1556000.0                0.84   0.47   1.29       49.72000        0.73   36313537        248.71      186.54     187.42     189.94     185.49     188.99      1.31                                                              NaN       NaN       NaN          NaN        NaN          NaN        NaN           NaN         NaN         NaN         NaN         NaN                               -                 Consumer Cyclical, Internet Retail   \n",
      "GOOGL     6                            Alphabet Inc        NDX, S&P 500  Communication Services  Internet Content & Information     USA     NASD      1984030.0   18.06    15.93   1.34   5.52   5.70   20.81   26.50      28.41       7.78        0.31          0.80        3/10/2025            7.46      8.97        2.16         17.17          7.94          26.76          13.43            17.30        11.81      48.77          37.73            13.02  359310.0   111000.0           40.02                1.15         5830.00   5820.00    99.84          52.28            -0.01       38.38          1.08           1.18         1.94              68.67  25.15   34.79  30.02    1.77     1.77       0.07     0.08      58.54     32.60       30.89         7.14         -1.88        -19.10        -1.93         2.34      -14.44  1.00      5.93            2.48            3.85     5.34    -1.36     -6.00      -13.11      15.25      -21.78      15.25        140.53 - 207.05           -21.78         6644.61  54.31  Apr 24/a   8/19/2004        Yes       Yes   183323.0               -1.84   3.59   1.46       35.44000        1.58   55916858        202.95      159.28     165.00     166.10     161.04     161.96      1.68                                                              NaN       NaN       NaN          NaN        NaN          NaN        NaN           NaN         NaN         NaN         NaN         NaN                               -  Communication Services, Internet Content & Inf...   \n",
      "GOOG      5                            Alphabet Inc        NDX, S&P 500  Communication Services  Internet Content & Information     USA     NASD      1984030.0   18.27    16.11   1.36   5.52   5.77   20.81   26.50      28.41       7.87        0.33          0.80        3/10/2025            7.46      8.97        2.16         17.14          7.99          26.76          13.46            17.30        11.81      48.77          37.73            13.02  359310.0   111000.0           40.08                1.15         5470.00   5100.00    93.24          58.12            -0.01       27.31          1.09           0.78         1.77              40.05  25.15   34.79  30.02    1.77     1.77       0.07     0.08      58.54     32.60       30.89         6.84         -1.97        -18.85        -1.78         2.46      -13.96  1.01      5.94            2.42            3.81     5.10    -1.43     -5.81      -12.92      14.85      -21.49      14.85        142.66 - 208.70           -21.49          573.97  54.01  Apr 24/a   3/27/2014        Yes       Yes   183323.0               -1.76   3.29   1.47       22.63000        1.55   35059384        203.00      161.47     166.78     168.24     163.00     163.85      1.47                                                              NaN       NaN       NaN          NaN        NaN          NaN        NaN           NaN         NaN         NaN         NaN         NaN                               -  Communication Services, Internet Content & Inf...   \n",
      "META      7                      Meta Platforms Inc        NDX, S&P 500  Communication Services  Internet Content & Information     USA     NASD      1381870.0   22.88    19.58   2.18   8.40   7.59   17.68   25.56      72.07      30.96        0.32          2.02        3/14/2025            8.38     23.92        5.24          3.21         13.49          29.99          10.51            19.06        20.63      50.43          61.97            21.94  164500.0    62360.0           18.71                2.94         2190.00   2180.00    99.43          13.76            -0.53       68.03          1.29           1.45         1.69              31.51  24.66   37.14  27.07    2.98     2.98       0.26     0.27      81.68     42.41       37.91         9.13        -10.43        -15.48        -5.97        10.31       -6.53  1.24     27.70            3.28            5.20     2.25    -8.58     -5.35      -26.14      14.06      -26.14      32.03        414.50 - 740.91           -26.14         3018.35  49.19  Apr 30/a   5/18/2012        Yes       Yes    74067.0                0.16   2.49   1.43       18.70000        0.91   17049488        710.90      533.15     546.42     549.86     536.25     547.27      2.65                                                              NaN       NaN       NaN          NaN        NaN          NaN        NaN           NaN         NaN         NaN         NaN         NaN                               -  Communication Services, Internet Content & Inf...   \n",
      "BRK-A     8                  Berkshire Hathaway Inc                   -               Financial         Insurance - Diversified     USA     NYSE      1145090.0   12.85    24.23  11.68   3.08   1.76    3.43   98.58  451507.04  232247.44         NaN           NaN                -            0.00  61913.64     7076.90         -5.70          5.59           4.43           1.10             8.17         1.65     -47.41          -6.72             1.91  371430.0    89000.0           45.86                2.99            0.55      0.54    98.18          62.12            -0.00        7.96          4.19           0.05         0.17               0.00   8.00   14.70  11.57    5.94     5.61       0.18     0.22      23.31     15.60       23.96         2.17         -0.40         14.56        14.89        29.36       16.87  0.87  21474.43            2.01            3.19     1.98     3.80     12.95       -1.52      14.41       -1.52      33.42  596421.00 - 808029.50            -1.52        87829.28  56.81  Feb 22/a   3/17/1980         No       Yes   392400.0               -0.03  -0.14   2.43        0.00152        0.21        325     787061.47   797140.00  796000.00  798000.00  790777.81  795760.00     -0.17                                                              NaN       NaN       NaN          NaN        NaN          NaN        NaN           NaN         NaN         NaN         NaN         NaN                               -                 Financial, Insurance - Diversified   \n",
      "BRK-B     9                  Berkshire Hathaway Inc             S&P 500               Financial         Insurance - Diversified     USA     NYSE      1145090.0   12.86    24.24  11.69   3.08   1.76    3.43   98.58     301.00     154.96         NaN           NaN                -            0.00     41.28        4.72         -5.70          5.59           4.43           1.10             8.17         1.65     -47.41          -6.72             1.91  371430.0    89000.0           45.86                2.99         1340.00   1330.00    99.90          38.13            -0.00       40.78          0.00           1.15         3.03              15.39   8.00   14.70  11.57    5.94     5.61       0.18     0.22      23.31     15.60       23.96         2.46         -0.42         14.63        15.06        29.90       17.14  0.88     14.68            2.16            3.31     2.04     3.89     13.07       -1.49      14.90       -1.49      33.96        396.35 - 539.00            -1.49         2581.62  56.90  May 05/b    5/9/1996        Yes       Yes   392400.0               -0.07  -0.05   2.43        5.08000        0.54    2733582        524.97      531.64     531.35     532.44     526.79     530.96     -0.13                                                              NaN       NaN       NaN          NaN        NaN          NaN        NaN           NaN         NaN         NaN         NaN         NaN                               -                 Financial, Insurance - Diversified   \n",
      "TSLA     10                               Tesla Inc        NDX, S&P 500       Consumer Cyclical              Auto Manufacturers     USA     NASD       916550.0  156.70    91.02   7.30   9.57  12.29   24.50  135.18      23.18      11.63         NaN           NaN                -            0.00      1.82        0.49        -10.56         44.64            NaN          21.47            34.02        -9.23     -65.43         -53.71             1.03   95720.0     6370.0          -34.10               -9.10         3220.00   2800.00    87.00          12.90            -0.24       48.38          4.15           2.90         0.71              81.30   5.43    9.16   7.52    2.00     1.54       0.13     0.18      17.66      7.40        6.65        18.06          4.74        -29.92        30.73        96.95      -29.44  2.44     20.94            6.13            8.62    12.57     5.31     -2.19      -22.43      33.00      -41.67      79.94        158.36 - 488.54           -41.67        28433.07  58.13  Apr 22/a   6/29/2010        Yes       Yes   125665.0                8.97   0.77   2.54      113.90000        1.46  166496797        307.45      259.51     261.50     286.85     259.63     284.95      9.80                                                              NaN       NaN       NaN          NaN        NaN          NaN        NaN           NaN         NaN         NaN         NaN         NaN                               -              Consumer Cyclical, Auto Manufacturers   \n",
      "AVGO     11                            Broadcom Inc        NDX, S&P 500              Technology                  Semiconductors     USA     NASD       904230.0   92.76    24.69   4.00  16.58  12.96   97.16   43.61      14.84       1.98        1.24          6.96        3/20/2025          170.61      2.07        1.57         35.74         17.81          13.91          23.17            18.69        24.71     301.09         -22.79            40.30   54530.0    10070.0            6.12                2.05         4700.00   4610.00    98.01           1.99            -0.96       77.03          1.68           1.16         1.58              53.41   6.06   14.85   7.71    1.00     0.91       0.87     0.95      59.59     34.82       18.47        12.47          7.27        -21.41         7.21        53.95      -17.05  1.05     10.73            3.80            6.27    12.36     2.26      4.34      -18.84      39.25      -23.65      57.20        122.33 - 251.88           -23.65        13320.10  57.89  Mar 06/a    8/6/2009        Yes       Yes    37000.0                2.84  -0.61   1.43       33.88000        0.63   21205999        239.78      188.15     187.00     193.37     186.89     192.31      2.21                                                              NaN       NaN       NaN          NaN        NaN          NaN        NaN           NaN         NaN         NaN         NaN         NaN                               -                         Technology, Semiconductors   \n",
      "TSM      12  Taiwan Semiconductor Manufacturing ADR                   -              Technology                  Semiconductors  Taiwan     NYSE       856190.0   21.24    15.43   0.98   8.85   6.18   10.52   28.51      26.72      15.70        1.63          2.45        6/12/2025           29.11      7.77        2.27         33.55         16.59          26.75          21.76            22.25        35.36      53.22          35.76            35.45   96700.0    40300.0            3.48                1.35         5190.00   5180.00    99.96           0.03             0.00       16.59         -1.37           0.73         2.02              37.80  20.37   32.11  24.28    2.39     2.18       0.21     0.22      56.40     47.19       41.68         8.80         -4.84        -25.59       -16.82        23.74      -16.40  1.21      7.71            3.37            4.80     5.43    -4.15     -9.95      -20.27      22.98      -27.08      28.12        128.86 - 226.40           -27.08         6257.56  52.70  Apr 17/a   10/8/1997        Yes       Yes        NaN                0.67  -0.11   1.30       18.74000        0.77   14376039        224.99      164.18     164.00     165.91     161.16     165.10      0.56                                                              NaN       NaN       NaN          NaN        NaN          NaN        NaN           NaN         NaN         NaN         NaN         NaN                               -                         Technology, Semiconductors   \n",
      "LLY      13                         Lilly(Eli) & Co             S&P 500              Healthcare    Drug Manufacturers - General     USA     NYSE       838530.0   76.99    29.59   1.83  18.62  59.06  244.96  223.01      14.98       3.61        0.75          5.40        2/14/2025           44.39     11.49        3.45         72.62         33.32          18.77          42.17            15.54        44.68     101.79         102.18            32.00   45040.0    10590.0            5.45                0.44          947.54    849.99    89.70          10.34            -0.89       73.01         -5.62           0.76         1.76               6.43  14.84   84.84  24.79    1.15     0.89       2.01     2.37      81.31     37.83       23.51         5.31          6.99         12.62        -2.71        18.62       14.58  0.48     36.47            3.63            4.36    12.24     6.20      4.63       -5.46      30.64       -9.05      30.64        677.09 - 972.53            -9.05        26603.09  63.47  May 01/b    7/9/1970        Yes       Yes    47000.0                2.89  -0.01   1.34        3.66000        0.93    3391616       1024.93      859.73     859.66     885.58     851.07     884.54      2.89                                                              NaN       NaN       NaN          NaN        NaN          NaN        NaN           NaN         NaN         NaN         NaN         NaN                               -           Healthcare, Drug Manufacturers - General   \n",
      "WMT      14                             Walmart Inc       DJIA, S&P 500      Consumer Defensive                 Discount Stores     USA     NYSE       762320.0   39.50    32.44   4.18   1.12   8.38   84.36   60.22      11.34       1.13        0.97          0.86         5/9/2025           34.51      2.41        0.58          3.81         12.48           6.82           9.45             5.39         4.13      -4.07          25.86             5.07  680990.0    19440.0            2.18                0.27         8020.00   4360.00    54.37          45.59            -0.52       35.57          0.97           1.07         2.00              46.59   7.57   22.23  13.58    0.82     0.24       0.57     0.66      24.85      4.31        2.85         2.01         11.59          0.35        15.94        60.92        5.25  0.69      3.03            2.63            3.76     5.25     3.85     11.20       -9.70      19.15       -9.70      62.33         58.58 - 105.30            -9.70        30328.83  58.81  May 15/b  11/20/1972        Yes       Yes  2100000.0               -0.87   0.08   1.47       23.27000        0.66   15305516        107.44       95.84      95.92      96.47      94.36      95.09     -0.78                                                              NaN       NaN       NaN          NaN        NaN          NaN        NaN           NaN         NaN         NaN         NaN         NaN                               -                Consumer Defensive, Discount Stores   \n",
      "JPM      15                     JPMorgan Chase & Co       DJIA, S&P 500               Financial             Banks - Diversified     USA     NYSE       677800.0   11.95    12.42   2.26   2.38   2.04     NaN    8.54     119.24        NaN        2.32          5.05         4/4/2025           24.30     20.37        4.45          1.61          5.95          12.99           5.28            16.83         3.63      14.09          23.05            12.48  285110.0    58240.0            9.43                2.99         2780.00   2770.00    99.77           0.37            -9.79       74.57          1.30           0.97         2.35              26.98   1.41   17.25   7.68    1.49      NaN       1.16     2.86        NaN     28.47       20.43         5.00         -2.98         -8.04         8.67        26.76        1.60  1.06      8.81            2.43            3.90     4.33    -0.17      4.48      -13.10      20.47      -13.10      29.23        188.46 - 280.25           -13.10         7509.75  55.10  Apr 11/b    3/5/1969        Yes       Yes   317233.0               -0.45   0.00   2.15       11.48000        0.75    8585185        263.29      244.64     244.65     245.62     241.75     243.55     -0.45                                                              NaN       NaN       NaN          NaN        NaN          NaN        NaN           NaN         NaN         NaN         NaN         NaN                               -                     Financial, Banks - Diversified   \n",
      "V        16                                Visa Inc       DJIA, S&P 500               Financial                 Credit Services     USA     NYSE       654780.0   34.24    26.35   2.72  17.79  17.52   35.56   32.10      19.13       9.43        0.72          2.22        2/11/2025           21.69      9.79        2.68         12.30         12.70          13.34          12.59             9.69        10.15       8.33          16.40            10.35   36800.0    19700.0            3.33                1.73         1730.00   1720.00    99.59          12.01            -0.09       79.44          0.49           1.53         3.64              26.27  21.50   50.51  35.84    1.12     1.12       0.44     0.54      76.98     67.10       53.54         1.69         -2.62          1.51        17.69        22.28        6.05  0.96     10.43            2.49            3.80     0.98    -1.53      9.55       -8.56      12.10       -8.56      32.64        252.70 - 366.54            -8.56         3108.90  50.98  Apr 29/a   3/19/2008        Yes       Yes    31600.0                0.12  -0.28   1.70        7.23000        0.62    4450484        379.93      335.71     334.76     336.36     332.17     335.17     -0.16                                                              NaN       NaN       NaN          NaN        NaN          NaN        NaN           NaN         NaN         NaN         NaN         NaN                               -                         Financial, Credit Services   \n",
      "VOO       1                    Vanguard S&P 500 ETF                   -               Financial            Exchange Traded Fund     USA     NYSE            NaN     NaN      NaN    NaN    NaN    NaN     NaN     NaN        NaN        NaN        1.38          6.97        3/27/2025             NaN       NaN         NaN           NaN           NaN            NaN            NaN              NaN          NaN        NaN            NaN              NaN       NaN        NaN             NaN                 NaN             NaN       NaN      NaN            NaN              NaN         NaN           NaN            NaN         0.52               4.39    NaN     NaN    NaN     NaN      NaN        NaN      NaN        NaN       NaN         NaN         4.59         -3.50         -9.46        -5.60         8.88       -6.07  1.01     14.83            2.05            3.23     3.02    -2.08     -3.95      -10.25      14.30      -10.25      14.30        442.80 - 563.92           -10.25          415.18  52.96         -    9/9/2010        Yes       Yes        NaN                0.74  -0.00    NaN        8.43000        0.82    6919577           NaN      502.41     502.40     506.52     499.75     506.11      0.74  US Equities - Broad Market & Size  Equities (Stocks)       0.03     507.0  595010.0     -3280.00      -0.55      35060.0       6.26       53130.0        9.81        9.96        8.91       16.75  U.S., equity, SP500, large-cap  Financial, Exchange Traded Fund, US Equities -...   \n",
      "SPY       2                  SPDR S&P 500 ETF Trust                   -               Financial            Exchange Traded Fund     USA     NYSE            NaN     NaN      NaN    NaN    NaN    NaN     NaN     NaN        NaN        NaN        1.30          7.17        3/21/2025             NaN       NaN         NaN           NaN           NaN            NaN            NaN              NaN          NaN        NaN            NaN              NaN       NaN        NaN             NaN                 NaN             NaN       NaN      NaN            NaN              NaN         NaN           NaN            NaN         1.70             126.85    NaN     NaN    NaN     NaN      NaN        NaN      NaN        NaN       NaN         NaN         4.60         -3.16         -9.43        -5.60         8.90       -6.05  1.01     16.42            2.06            3.29     2.99    -2.04     -3.92      -10.21      14.29      -10.21      14.29        481.80 - 613.23           -10.21         1193.93  52.85         -   1/29/1993        Yes       Yes        NaN                0.72   0.00    NaN       74.42000        0.81   60051404           NaN      546.69     546.69     551.05     543.69     550.64      0.72  US Equities - Broad Market & Size  Equities (Stocks)       0.09     504.0  572220.0      -107.48      -0.02      -4900.0      -0.85      -16650.0       -2.83        9.95        8.85       16.68             U.S., equity, SP500  Financial, Exchange Traded Fund, US Equities -...   \n",
      "IVV       3                iShares Core S&P 500 ETF                   -               Financial            Exchange Traded Fund     USA     NYSE            NaN     NaN      NaN    NaN    NaN    NaN     NaN     NaN        NaN        NaN        1.40          7.74        3/18/2025             NaN       NaN         NaN           NaN           NaN            NaN            NaN              NaN          NaN        NaN            NaN              NaN       NaN        NaN             NaN                 NaN             NaN       NaN      NaN            NaN              NaN         NaN           NaN            NaN         0.76               5.86    NaN     NaN    NaN     NaN      NaN        NaN      NaN        NaN       NaN         NaN         4.64         -3.19         -9.45        -5.62         8.86       -6.03  1.01     16.22            2.05            3.23     3.03    -2.01     -3.95      -10.23      14.30      -10.23      14.30        484.00 - 616.22           -10.23          725.15  53.03         -   5/19/2000        Yes       Yes        NaN                0.72   0.01    NaN        7.68000        0.48    3717297           NaN      549.22     549.26     553.62     546.28     553.19      0.72  US Equities - Broad Market & Size  Equities (Stocks)       0.03     508.0  558430.0    -11430.00      -2.01       9170.0       1.67        9570.0        1.74       10.00        8.91       16.76  U.S., equity, SP500, large-cap  Financial, Exchange Traded Fund, US Equities -...   \n",
      "MA       17                 Mastercard Incorporated             S&P 500               Financial                 Credit Services     USA     NYSE       485100.0   38.41    28.63   2.69  17.23  75.19   52.36   33.98       7.10      10.19        0.55          2.84         4/9/2025           19.73     13.89        3.58          8.86         17.25          11.82          14.29            11.37        14.16      22.35          17.27            12.07   28160.0    12870.0            3.40                1.40          907.00    816.52    90.02          10.20            -0.12       80.14         -0.18           0.67         1.80               5.44  28.44  191.95  52.36    1.03     1.03       2.79     2.93      96.81     56.98       45.72         3.12         -2.84         -0.00         3.99        15.27        1.31  1.06     16.50            2.48            3.73     2.68    -0.81      4.41       -8.37      14.58       -8.37      24.39        428.86 - 582.23            -8.37        13170.65  53.77  May 01/b   5/25/2006        Yes       Yes    35300.0               -0.37   0.00   1.68        3.02000        0.66    2005907        618.65      535.46     535.46     536.92     529.88     533.48     -0.37                                                              NaN       NaN       NaN          NaN        NaN          NaN        NaN           NaN         NaN         NaN         NaN         NaN                               -                         Financial, Credit Services   \n",
      "\n",
      "        MktCap AUM, M  Rank  \n",
      "Ticker                       \n",
      "AAPL        3143820.0     1  \n",
      "MSFT        2913010.0     2  \n",
      "NVDA        2708640.0     3  \n",
      "AMZN        2005630.0     4  \n",
      "GOOGL       1984030.0     5  \n",
      "GOOG        1984030.0     6  \n",
      "META        1381870.0     7  \n",
      "BRK-A       1145090.0     8  \n",
      "BRK-B       1145090.0     9  \n",
      "TSLA         916550.0    10  \n",
      "AVGO         904230.0    11  \n",
      "TSM          856190.0    12  \n",
      "LLY          838530.0    13  \n",
      "WMT          762320.0    14  \n",
      "JPM          677800.0    15  \n",
      "V            654780.0    16  \n",
      "VOO          595010.0    17  \n",
      "SPY          572220.0    18  \n",
      "IVV          558430.0    19  \n",
      "MA           485100.0    20  \n"
     ]
    }
   ],
   "source": [
    "# Load the parquet file into a DataFrame\n",
    "df_finviz = pd.read_parquet(SOURCE_PATH)\n",
    "\n",
    "# Display basic information about the DataFrame\n",
    "print(f\"df_finviz.shape: {df_finviz.shape}\")\n",
    "print(\"\\nFirst few rows:\")\n",
    "print(df_finviz.head(20))"
   ]
  },
  {
   "cell_type": "code",
   "execution_count": 5,
   "metadata": {},
   "outputs": [
    {
     "name": "stdout",
     "output_type": "stream",
     "text": [
      "df_finviz.shape before removing duplicates: (1560, 113)\n",
      "df_finviz.shape after removing duplicates: (1559, 113)\n"
     ]
    }
   ],
   "source": [
    "print(f'df_finviz.shape before removing duplicates: {df_finviz.shape}')\n",
    "# Remove duplicates from df_finviz, keeping the first occurrence\n",
    "df_finviz = df_finviz[~df_finviz.index.duplicated(keep='first')]\n",
    "\n",
    "print(f'df_finviz.shape after removing duplicates: {df_finviz.shape}')"
   ]
  },
  {
   "cell_type": "code",
   "execution_count": 6,
   "metadata": {},
   "outputs": [
    {
     "name": "stdout",
     "output_type": "stream",
     "text": [
      "df_perf_ratios.shape: (1518, 24)\n",
      "\n",
      "First few rows:\n"
     ]
    },
    {
     "data": {
      "text/html": [
       "<div>\n",
       "<style scoped>\n",
       "    .dataframe tbody tr th:only-of-type {\n",
       "        vertical-align: middle;\n",
       "    }\n",
       "\n",
       "    .dataframe tbody tr th {\n",
       "        vertical-align: top;\n",
       "    }\n",
       "\n",
       "    .dataframe thead th {\n",
       "        text-align: right;\n",
       "    }\n",
       "</style>\n",
       "<table border=\"1\" class=\"dataframe\">\n",
       "  <thead>\n",
       "    <tr style=\"text-align: right;\">\n",
       "      <th></th>\n",
       "      <th>Sharpe 3d</th>\n",
       "      <th>Sortino 3d</th>\n",
       "      <th>Omega 3d</th>\n",
       "      <th>Sharpe 5d</th>\n",
       "      <th>Sortino 5d</th>\n",
       "      <th>Omega 5d</th>\n",
       "      <th>Sharpe 10d</th>\n",
       "      <th>Sortino 10d</th>\n",
       "      <th>Omega 10d</th>\n",
       "      <th>Sharpe 15d</th>\n",
       "      <th>Sortino 15d</th>\n",
       "      <th>Omega 15d</th>\n",
       "      <th>Sharpe 30d</th>\n",
       "      <th>Sortino 30d</th>\n",
       "      <th>Omega 30d</th>\n",
       "      <th>Sharpe 60d</th>\n",
       "      <th>Sortino 60d</th>\n",
       "      <th>Omega 60d</th>\n",
       "      <th>Sharpe 120d</th>\n",
       "      <th>Sortino 120d</th>\n",
       "      <th>Omega 120d</th>\n",
       "      <th>Sharpe 250d</th>\n",
       "      <th>Sortino 250d</th>\n",
       "      <th>Omega 250d</th>\n",
       "    </tr>\n",
       "  </thead>\n",
       "  <tbody>\n",
       "    <tr>\n",
       "      <th>A</th>\n",
       "      <td>5.153101</td>\n",
       "      <td>19.052913</td>\n",
       "      <td>2.697368</td>\n",
       "      <td>15.793771</td>\n",
       "      <td>65.559711</td>\n",
       "      <td>9.259747</td>\n",
       "      <td>3.204522</td>\n",
       "      <td>5.896718</td>\n",
       "      <td>1.619189</td>\n",
       "      <td>1.202716</td>\n",
       "      <td>1.867554</td>\n",
       "      <td>1.226958</td>\n",
       "      <td>-2.258456</td>\n",
       "      <td>-2.893618</td>\n",
       "      <td>0.672376</td>\n",
       "      <td>-3.871692</td>\n",
       "      <td>-4.635103</td>\n",
       "      <td>0.500579</td>\n",
       "      <td>-1.241176</td>\n",
       "      <td>-1.661680</td>\n",
       "      <td>0.804164</td>\n",
       "      <td>-0.846579</td>\n",
       "      <td>-1.118455</td>\n",
       "      <td>0.859515</td>\n",
       "    </tr>\n",
       "    <tr>\n",
       "      <th>AA</th>\n",
       "      <td>3.723058</td>\n",
       "      <td>11.141484</td>\n",
       "      <td>1.992562</td>\n",
       "      <td>10.880600</td>\n",
       "      <td>28.880362</td>\n",
       "      <td>4.638584</td>\n",
       "      <td>1.956660</td>\n",
       "      <td>2.954931</td>\n",
       "      <td>1.380855</td>\n",
       "      <td>1.063227</td>\n",
       "      <td>1.742029</td>\n",
       "      <td>1.200455</td>\n",
       "      <td>-2.404414</td>\n",
       "      <td>-3.160253</td>\n",
       "      <td>0.660904</td>\n",
       "      <td>-1.736037</td>\n",
       "      <td>-2.276252</td>\n",
       "      <td>0.738186</td>\n",
       "      <td>-1.412166</td>\n",
       "      <td>-1.848542</td>\n",
       "      <td>0.780054</td>\n",
       "      <td>-0.481224</td>\n",
       "      <td>-0.666162</td>\n",
       "      <td>0.922277</td>\n",
       "    </tr>\n",
       "    <tr>\n",
       "      <th>AAL</th>\n",
       "      <td>30.773939</td>\n",
       "      <td>3802.268850</td>\n",
       "      <td>339.733032</td>\n",
       "      <td>21.440824</td>\n",
       "      <td>15666.484213</td>\n",
       "      <td>1974.791483</td>\n",
       "      <td>0.627020</td>\n",
       "      <td>0.870148</td>\n",
       "      <td>1.105977</td>\n",
       "      <td>0.959973</td>\n",
       "      <td>1.686722</td>\n",
       "      <td>1.221849</td>\n",
       "      <td>-0.564022</td>\n",
       "      <td>-0.880908</td>\n",
       "      <td>0.893880</td>\n",
       "      <td>-2.831226</td>\n",
       "      <td>-3.910800</td>\n",
       "      <td>0.571980</td>\n",
       "      <td>-0.808785</td>\n",
       "      <td>-1.219591</td>\n",
       "      <td>0.848549</td>\n",
       "      <td>-0.487410</td>\n",
       "      <td>-0.718294</td>\n",
       "      <td>0.907541</td>\n",
       "    </tr>\n",
       "    <tr>\n",
       "      <th>AAON</th>\n",
       "      <td>36.487069</td>\n",
       "      <td>3802.268850</td>\n",
       "      <td>339.733032</td>\n",
       "      <td>47.280299</td>\n",
       "      <td>15666.484213</td>\n",
       "      <td>1974.791483</td>\n",
       "      <td>2.546433</td>\n",
       "      <td>3.924418</td>\n",
       "      <td>1.466622</td>\n",
       "      <td>4.647126</td>\n",
       "      <td>10.956734</td>\n",
       "      <td>2.263572</td>\n",
       "      <td>1.205968</td>\n",
       "      <td>2.089323</td>\n",
       "      <td>1.223243</td>\n",
       "      <td>-1.314793</td>\n",
       "      <td>-1.632743</td>\n",
       "      <td>0.775881</td>\n",
       "      <td>-0.564799</td>\n",
       "      <td>-0.742476</td>\n",
       "      <td>0.891811</td>\n",
       "      <td>0.141717</td>\n",
       "      <td>0.188445</td>\n",
       "      <td>1.029306</td>\n",
       "    </tr>\n",
       "    <tr>\n",
       "      <th>AAPL</th>\n",
       "      <td>17.945283</td>\n",
       "      <td>3802.268850</td>\n",
       "      <td>339.733032</td>\n",
       "      <td>25.731176</td>\n",
       "      <td>15666.484213</td>\n",
       "      <td>1974.791483</td>\n",
       "      <td>4.214191</td>\n",
       "      <td>6.719272</td>\n",
       "      <td>1.915683</td>\n",
       "      <td>2.638663</td>\n",
       "      <td>5.831754</td>\n",
       "      <td>1.629695</td>\n",
       "      <td>0.008446</td>\n",
       "      <td>0.013045</td>\n",
       "      <td>1.001637</td>\n",
       "      <td>-0.862319</td>\n",
       "      <td>-1.246745</td>\n",
       "      <td>0.843918</td>\n",
       "      <td>-0.305491</td>\n",
       "      <td>-0.438251</td>\n",
       "      <td>0.939919</td>\n",
       "      <td>0.708200</td>\n",
       "      <td>1.053839</td>\n",
       "      <td>1.149028</td>\n",
       "    </tr>\n",
       "  </tbody>\n",
       "</table>\n",
       "</div>"
      ],
      "text/plain": [
       "      Sharpe 3d   Sortino 3d    Omega 3d  Sharpe 5d    Sortino 5d     Omega 5d  Sharpe 10d  Sortino 10d  Omega 10d  Sharpe 15d  Sortino 15d  Omega 15d  Sharpe 30d  Sortino 30d  Omega 30d  Sharpe 60d  Sortino 60d  Omega 60d  Sharpe 120d  Sortino 120d  Omega 120d  Sharpe 250d  Sortino 250d  Omega 250d\n",
       "A      5.153101    19.052913    2.697368  15.793771     65.559711     9.259747    3.204522     5.896718   1.619189    1.202716     1.867554   1.226958   -2.258456    -2.893618   0.672376   -3.871692    -4.635103   0.500579    -1.241176     -1.661680    0.804164    -0.846579     -1.118455    0.859515\n",
       "AA     3.723058    11.141484    1.992562  10.880600     28.880362     4.638584    1.956660     2.954931   1.380855    1.063227     1.742029   1.200455   -2.404414    -3.160253   0.660904   -1.736037    -2.276252   0.738186    -1.412166     -1.848542    0.780054    -0.481224     -0.666162    0.922277\n",
       "AAL   30.773939  3802.268850  339.733032  21.440824  15666.484213  1974.791483    0.627020     0.870148   1.105977    0.959973     1.686722   1.221849   -0.564022    -0.880908   0.893880   -2.831226    -3.910800   0.571980    -0.808785     -1.219591    0.848549    -0.487410     -0.718294    0.907541\n",
       "AAON  36.487069  3802.268850  339.733032  47.280299  15666.484213  1974.791483    2.546433     3.924418   1.466622    4.647126    10.956734   2.263572    1.205968     2.089323   1.223243   -1.314793    -1.632743   0.775881    -0.564799     -0.742476    0.891811     0.141717      0.188445    1.029306\n",
       "AAPL  17.945283  3802.268850  339.733032  25.731176  15666.484213  1974.791483    4.214191     6.719272   1.915683    2.638663     5.831754   1.629695    0.008446     0.013045   1.001637   -0.862319    -1.246745   0.843918    -0.305491     -0.438251    0.939919     0.708200      1.053839    1.149028"
      ]
     },
     "execution_count": 6,
     "metadata": {},
     "output_type": "execute_result"
    }
   ],
   "source": [
    "# Load the parquet file into a DataFrame\n",
    "df_perf_ratios= pd.read_parquet(f'..\\data\\{date_str}_df_perf_ratios_stocks_etfs.parquet')\n",
    "\n",
    "# Display basic information about the DataFrame\n",
    "print(f\"df_perf_ratios.shape: {df_perf_ratios.shape}\")\n",
    "print(\"\\nFirst few rows:\")\n",
    "df_perf_ratios.head()"
   ]
  },
  {
   "cell_type": "code",
   "execution_count": 7,
   "metadata": {},
   "outputs": [
    {
     "name": "stdout",
     "output_type": "stream",
     "text": [
      "Tickers in df_finviz but not in df_perf_ratios:\n",
      "Index(['GEV', 'GOLD', 'SW', 'RDDT', 'VG', 'CRWV', 'VIK', 'RBRK', 'LINE', 'ULS', 'SOLV', 'TTAN', 'ALAB', 'SAIL', 'LTM', 'TEM', 'LOAR', 'SARO', 'BERY', 'SFD', 'BECN', 'TGTX', 'WAY', 'TLX', 'JGLO', 'TFX', 'GH', 'BMA', 'SRPT', 'DJT', 'NBIS', 'USM', 'COLD', 'FSK', 'CHRD', 'GKOS', 'LB', 'SMBS', 'BTC', 'IBDQ', 'MSTY'], dtype='object', name='Ticker')\n",
      "\n",
      "Total missing tickers: 41\n"
     ]
    }
   ],
   "source": [
    "# Find items in df_finviz.index that are not in df_perf_ratios.index\n",
    "missing_tickers = df_finviz.index[~df_finviz.index.isin(df_perf_ratios.index)]\n",
    "print(\"Tickers in df_finviz but not in df_perf_ratios:\")\n",
    "print(missing_tickers)\n",
    "print(f\"\\nTotal missing tickers: {len(missing_tickers)}\")"
   ]
  },
  {
   "cell_type": "code",
   "execution_count": 8,
   "metadata": {},
   "outputs": [
    {
     "name": "stdout",
     "output_type": "stream",
     "text": [
      "\n",
      "Tickers common to both df_finviz and df_perf_ratios:\n",
      "['AAPL', 'MSFT', 'NVDA', 'AMZN', 'GOOGL', 'GOOG', 'META', 'BRK-A', 'BRK-B', 'TSLA', 'AVGO', 'TSM', 'LLY', 'WMT', 'JPM', 'V', 'VOO', 'SPY', 'IVV', 'MA', 'XOM', 'NFLX', 'VTI', 'COST', 'ORCL', 'UNH', 'PG', 'JNJ', 'HD', 'ABBV', 'SAP', 'KO', 'BAC', 'QQQ', 'BABA', 'ASML', 'PM', 'PLTR', 'TMUS', 'CRM', 'TM', 'CVX', 'WFC', 'MCD', 'CSCO', 'ABT', 'IBM', 'AZN', 'NVS', 'LIN', 'GE', 'NVO', 'MRK', 'HSBC', 'SHEL', 'NOW', 'T', 'MS', 'AXP', 'ISRG', 'HDB', 'ACN', 'PEP', 'VZ', 'INTU', 'GS', 'RTX', 'RY', 'QCOM', 'DIS', 'UBER', 'BX', 'TMO', 'BKNG', 'AMD', 'ADBE', 'UL', 'PGR', 'AMGN', 'BSX', 'SPGI', 'SONY', 'SCHW', 'VEA', 'TXN', 'VUG', 'CAT', 'PDD', 'MUFG', 'TJX', 'DHR', 'BLK', 'SYK', 'NEE', 'BA', 'IEFA', 'PFE', 'GILD', 'VTV', 'CMCSA', 'HON', 'SNY', 'C', 'UNP', 'VRTX', 'TTE', 'SHOP', 'BND', 'DE', 'SPOT', 'LOW', 'AGG', 'AMAT', 'BHP', 'ARM', 'ADP', 'PANW', 'IBN', 'COP', 'BUD', 'ETN', 'MELI', 'LMT', 'CB', 'SAN', 'TD', 'MMC', 'MDT', 'CRWD', 'KKR', 'ENB', 'GLD', 'SO', 'FI', 'AMT', 'RELX', 'MO', 'MSTR', 'ANET', 'BMY', 'IWF', 'PLD', 'ADI', 'CME', 'WELL', 'ELV', 'SBUX', 'ICE', 'APP', 'DUK', 'KLAC', 'BTI', 'APH', 'WM', 'UBS', 'LRCX', 'CI', 'MU', 'SMFG', 'INTC', 'MCK', 'BAM', 'IJH', 'NKE', 'VXUS', 'MDLZ', 'VIG', 'CTAS', 'SHW', 'UPS', 'IEMG', 'RACE', 'CVS', 'AJG', 'EQIX', 'BBVA', 'TRI', 'VWO', 'HCA', 'BN', 'DASH', 'CDNS', 'MCO', 'FTNT', 'TT', 'TDG', 'ABNB', 'ORLY', 'PH', 'BP', 'CL', 'RSG', 'APO', 'RIO', 'GSK', 'VGT', 'SCCO', 'MMM', 'IJR', 'VO', 'GD', 'AON', 'INFY', 'WMB', 'MSI', 'IBKR', 'NGG', 'ITW', 'COF', 'CEG', 'CMG', 'RSP', 'SE', 'BMO', 'SNPS', 'ZTS', 'NOC', 'CP', 'EPD', 'ECL', 'NTES', 'SCHD', 'DELL', 'REGN', 'MAR', 'BNDX', 'XLK', 'PYPL', 'ITOT', 'WDAY', 'PNC', 'CRH', 'EOG', 'USB', 'EQNR', 'MFG', 'CNQ', 'DEO', 'SPLG', 'CNI', 'BNS', 'AZO', 'NEM', 'AEM', 'TEAM', 'ROP', 'ET', 'KMI', 'EFA', 'APD', 'IWD', 'AEP', 'ING', 'EMR', 'CHTR', 'LYG', 'SPG', 'AFL', 'BDX', 'CPRT', 'TRV', 'IWM', 'NU', 'RCL', 'ADSK', 'CM', 'VB', 'MNST', 'BCS', 'VYM', 'BK', 'IBIT', 'COR', 'HWM', 'OKE', 'DLR', 'MPLX', 'FCX', 'JCI', 'COIN', 'SNOW', 'HLT', 'CSX', 'MFC', 'AMX', 'LNG', 'CARR', 'NWG', 'PAYX', 'TRP', 'VCIT', 'IVW', 'MET', 'ALL', 'MRVL', 'PSA', 'O', 'FDX', 'CVNA', 'SCHX', 'ARES', 'WCN', 'NSC', 'TFC', 'NXPI', 'GWW', 'DB', 'SRE', 'BIL', 'XLF', 'TLT', 'PCAR', 'FICO', 'TAK', 'QUAL', 'AIG', 'ALC', 'SLB', 'KDP', 'HMC', 'EXC', 'DFS', 'FAST', 'KR', 'AXON', 'HLN', 'ROST', 'IAU', 'GM', 'RBLX', 'D', 'SGOV', 'AMP', 'EW', 'SCHF', 'KVUE', 'SU', 'TGT', 'HOOD', 'KMB', 'CCI', 'NDAQ', 'VST', 'TEL', 'MPC', 'E', 'PBR', 'JD', 'PWR', 'PSX', 'CPNG', 'VT', 'NET', 'FIS', 'CTVA', 'QQQM', 'MSCI', 'VEU', 'FLUT', 'URI', 'YUM', 'HES', 'IXUS', 'VALE', 'CCEP', 'PEG', 'LHX', 'CMI', 'FANG', 'VRSK', 'F', 'XEL', 'ED', 'TTWO', 'ABEV', 'TRGP', 'AME', 'GRMN', 'DHI', 'BSV', 'EA', 'JEPI', 'MUB', 'IWR', 'OXY', 'GLW', 'IWB', 'VV', 'ARGX', 'SCHG', 'TCOM', 'WPM', 'VEEV', 'OTIS', 'ETR', 'PRU', 'MBB', 'IVE', 'DIA', 'BKR', 'CBRE', 'XYZ', 'XLV', 'VLO', 'CTSH', 'IDXX', 'KHC', 'IMO', 'DDOG', 'CSGP', 'FER', 'VTEB', 'SYY', 'RMD', 'IEF', 'VCSH', 'WEC', 'ACGL', 'VICI', 'HIG', 'LULU', 'FERG', 'SLF', 'ZS', 'CAH', 'VRT', 'HSY', 'IUSB', 'STZ', 'VNQ', 'BRO', 'FNV', 'ALNY', 'VMC', 'ITUB', 'HUBS', 'IT', 'TW', 'HUM', 'EFX', 'VGIT', 'EBAY', 'WAB', 'GEHC', 'EXR', 'ODFL', 'SPYG', 'GIS', 'LYV', 'TPL', 'VTR', 'MLM', 'SCHB', 'DFAC', 'JPST', 'A', 'CHT', 'IR', 'HEI', 'HEI-A', 'DKNG', 'EQT', 'WTW', 'DGRO', 'WIT', 'AVB', 'CQP', 'CNC', 'OWL', 'K', 'PBR-A', 'XYL', 'LEN', 'RJF', 'ANSS', 'DXCM', 'ROK', 'AWK', 'LLYVK', 'FWONK', 'LLYVA', 'FWONA', 'TEF', 'DTE', 'MPWR', 'BR', 'PUK', 'LQD', 'DD', 'VBR', 'MTB', 'GOVT', 'DAL', 'STLA', 'TKO', 'EQR', 'ROL', 'TTD', 'WRB', 'NUE', 'XLE', 'PPL', 'AEE', 'TSCO', 'IQV', 'NTR', 'GDDY', 'NOK', 'IRM', 'RKT', 'VRSN', 'BIDU', 'LVS', 'STT', 'MCHP', 'LPLA', 'ERIC', 'ATO', 'IP', 'CNP', 'KEYS', 'RYAAY', 'BEKE', 'VONG', 'EXE', 'BNTX', 'SPYV', 'WDS', 'CHD', 'FE', 'SPDW', 'FTS', 'SHY', 'ONC', 'CCL', 'SBAC', 'FCNCA', 'HPQ', 'JEPQ', 'GIB', 'FITB', 'FTV', 'USMV', 'DRI', 'VOD', 'PPG', 'SHV', 'ZM', 'ADM', 'DOV', 'PHG', 'VGSH', 'BIV', 'MKL', 'VLTO', 'MT', 'TU', 'TYL', 'CPAY', 'KB', 'VGK', 'MGK', 'IOT', 'PBA', 'CHKP', 'CBOE', 'EIX', 'UAL', 'MTD', 'STE', 'NRG', 'CVE', 'FMX', 'IX', 'SMCI', 'CMS', 'FOX', 'FOXA', 'TDY', 'EL', 'HPE', 'MDY', 'WBD', 'ES', 'TSN', 'DOW', 'IGSB', 'TQQQ', 'HBAN', 'NVR', 'COWZ', 'CINF', 'CDW', 'NTRA', 'USHY', 'TOST', 'EFV', 'INVH', 'EXPE', 'STM', 'DG', 'QSR', 'PHM', 'DVN', 'WAT', 'IUSG', 'ACWI', 'ZBH', 'JAAA', 'MKC', 'XLC', 'BCE', 'AU', 'SMH', 'TROW', 'VXF', 'LI', 'SYF', 'GFS', 'GFI', 'IFF', 'GRAB', 'DGX', 'CTRA', 'IUSV', 'XLY', 'AER', 'HUBB', 'GFL', 'SDY', 'LYB', 'CCJ', 'MAA', 'LH', 'EC', 'STLD', 'XLI', 'ASX', 'FBTC', 'UI', 'DVY', 'BIP', 'LII', 'IDEV', 'LDOS', 'WSM', 'EME', 'USFR', 'NI', 'TS', 'PTC', 'BSBR', 'RPRX', 'WSO', 'RF', 'ESS', 'RBA', 'FBND', 'PODD', 'NTAP', 'GBTC', 'WY', 'HAL', 'OKTA', 'L', 'NTNX', 'SSNC', 'TECK', 'NTRS', 'IYW', 'KGC', 'XLU', 'GPN', 'PINS', 'STX', 'BIIB', 'ULTA', 'DLTR', 'SMMT', 'UMC', 'CYBR', 'DUOL', 'SHG', 'FNF', 'TPG', 'YUMC', 'NMR', 'MOH', 'TEVA', 'KSPI', 'CLX', 'RYAN', 'ESLT', 'EG', 'VBK', 'IWP', 'ERIE', 'VOE', 'DOCU', 'ON', 'IEI', 'DPZ', 'FNDX', 'PKG', 'CASY', 'OEF', 'DECK', 'GWRE', 'PFG', 'SFM', 'IHG', 'CRBG', 'EEM', 'HRL', 'CSL', 'CFG', 'GPC', 'COO', 'NWSA', 'NWS', 'SNA', 'CPT', 'KEY', 'FDS', 'BF-B', 'BF-A', 'TRU', 'ZG', 'JBL', 'BAP', 'AFRM', 'SCHA', 'SUI', 'EVRG', 'LNT', 'XPEV', 'GEN', 'FFIV', 'XLP', 'WMG', 'BAX', 'BCH', 'VIV', 'WST', 'VHT', 'DYNF', 'EQH', 'CHWY', 'TLK', 'FSLR', 'LUV', 'TRMB', 'BAH', 'GDX', 'RS', 'EBR', 'DKS', 'EXPD', 'SLV', 'J', 'PSTG', 'FNDF', 'USFD', 'PNR', 'WES', 'VOT', 'BJ', 'CGDV', 'PAGP', 'VTIP', 'IGIB', 'VOOG', 'OMC', 'ONON', 'TWLO', 'GLDM', 'CNH', 'EMXC', 'SNAP', 'ARCC', 'DGRW', 'IWV', 'FMS', 'BBY', 'VMBS', 'BALL', 'RIVN', 'TPR', 'MTUM', 'SOFI', 'EWJ', 'WDC', 'AVUV', 'HYG', 'CG', 'MDB', 'BURL', 'FIX', 'TIP', 'MNDY', 'DT', 'SBS', 'KIM', 'UNM', 'BLDR', 'AMCR', 'PFF', 'VNO', 'UDR', 'AMH', 'GGG', 'RL', 'RCI', 'PKX', 'FLEX', 'AVY', 'ALGN', 'RPM', 'AS', 'DFUS', 'WPC', 'RDVY', 'PAYC', 'BSY', 'ARE', 'GLPI', 'UTHR', 'VCLT', 'IEX', 'CF', 'MINT', 'REG', 'HOLX', 'SCHP', 'JBHT', 'ACM', 'SYM', 'PAA', 'APTV', 'USIG', 'CNA', 'MAS', 'CW', 'PPC', 'DOC', 'INSM', 'SGI', 'GMAB', 'ELS', 'ACI', 'EMB', 'BBD', 'ZBRA', 'YPF', 'IWS', 'MOAT', 'JKHY', 'ESGU', 'RGA', 'PFGC', 'EFG', 'TER', 'PRMB', 'TXT', 'GSLC', 'LBRDK', 'LBRDA', 'OC', 'MBLY', 'GME', 'SJM', 'ILMN', 'ENTG', 'SPHQ', 'AUR', 'BMRN', 'BBJP', 'MORN', 'WLK', 'IWY', 'COKE', 'FTI', 'JNPR', 'STIP', 'MMYT', 'RGLD', 'AGI', 'EWBC', 'SPMD', 'ALLE', 'ICLR', 'PHYS', 'CAG', 'SNN', 'AKAM', 'GMED', 'SCHV', 'LOGI', 'PEN', 'RTO', 'BSAC', 'THC', 'TAP', 'LAMR', 'RDY', 'CLH', 'NLY', 'BXP', 'INCY', 'RNR', 'EHC', 'FTEC', 'KEP', 'XPO', 'RVTY', 'VONV', 'VFH', 'SCI', 'NOBL', 'SPTL', 'SUZ', 'SN', 'ZTO', 'UHS', 'PNW', 'HLI', 'DVA', 'ITT', 'WTRG', 'SCHO', 'POOL', 'CART', 'AR', 'VTWO', 'HDV', 'DFUV', 'PULS', 'BG', 'OHI', 'CPB', 'WWD', 'UHAL', 'UHAL-B', 'IWO', 'H', 'FTAI', 'TXRH', 'IGV', 'NDSN', 'BNT', 'PCTY', 'IWN', 'JLL', 'SOXX', 'PSO', 'DOCS', 'CHRW', 'SCHR', 'MANH', 'AFG', 'CGGR', 'HTHT', 'SCHM', 'NBIX', 'MRNA', 'PAG', 'CAVA', 'APG', 'CCK', 'YMM', 'JHX', 'SPSM', 'LECO', 'SPEM', 'CNM', 'BROS', 'AMLP', 'CLS', 'EXEL', 'RBC', 'GL', 'AEG', 'RKLB', 'ALLY', 'DTM', 'COHR', 'TLH', 'BWXT', 'TOL', 'STN', 'KMX', 'PR', 'FUTU', 'CRS', 'DRS', 'MTZ', 'CACI', 'SEIC', 'BEN', 'ATR', 'ASND', 'NICE', 'KNSL', 'DFIV', 'DFAT', 'MUSA', 'AIZ', 'VGLT', 'VTRS', 'LKQ', 'X', 'JEF', 'DOX', 'BRBR', 'HST', 'MGA', 'ROKU', 'HMY', 'SOXL', 'PCOR', 'WBA', 'SWK', 'BIRK', 'CELH', 'SWKS', 'VYMI', 'EZU', 'CIEN', 'SCZ', 'ESGV', 'TME', 'AOS', 'SNX', 'SPTM', 'SCHE', 'DFAI', 'WIX', 'SUB', 'IQLT', 'MOS', 'PAAS', 'ORI', 'U', 'KT', 'CUBE', 'AIT', 'DAY', 'ESGD', 'VNOM', 'QGEN', 'IPG', 'DFAS', 'DSGX', 'FYBR', 'OVV', 'OGE', 'FHN', 'NVT', 'EPAM', 'SUN', 'MGM', 'CX', 'PAC', 'INDA', 'SF', 'HII', 'ASR', 'SSB', 'HESM', 'FVD', 'SPIB', 'MASI', 'WF', 'FLOT', 'AVTR', 'ESTC', 'EMN', 'ARMK', 'WYNN', 'FRHC', 'ICL', 'BLD', 'BINC', 'PRI', 'WMS', 'SPTI', 'XP', 'SKM', 'MEDP', 'MGV', 'SPAB', 'EGP', 'CR', 'HAS', 'SCHZ', 'DFIC', 'HLNE', 'EXAS', 'G', 'GGAL', 'NYT', 'SCHI', 'INGR', 'TTEK', 'ADC', 'PARA', 'RRC', 'VSS', 'IJK', 'MKTX', 'DBX', 'ERJ', 'QYLD', 'AVDV', 'FRT', 'RGEN', 'CBSH', 'CHE', 'FTCS', 'XLG', 'AGNC', 'MLI', 'AM', 'PLNT', 'KVYO', 'CIBR', 'CFLT', 'AVEM', 'WPP', 'WBS', 'HRB', 'HSIC', 'TECH', 'GAP', 'MTSI', 'BRX', 'WCC', 'TIMB', 'ROIV', 'ALSN', 'DCI', 'FNDA', 'REXR', 'NIO', 'SPSB', 'FND', 'CAE', 'PEGA', 'PNFP', 'FSV', 'GTLB', 'EVR', 'DFAX', 'BBCA', 'WAL', 'NNN', 'HEFA', 'EDU', 'VIGI', 'NCLH', 'LAD', 'SPLV', 'VFS', 'SPHY', 'LCID', 'CORT', 'SCHH', 'GPK', 'DBEF', 'SDVY', 'ASTS', 'AVUS', 'AYI', 'ATI', 'HALO', 'COOP', 'KD', 'AXS', 'DUHP', 'HQY', 'CRDO', 'MTCH', 'CFR', 'WTFC', 'PAVE', 'VDC', 'SIRI', 'CWST', 'PRF', 'LW', 'DLB', 'OBDC', 'EXP', 'CVLT', 'ESAB', 'IJJ', 'ENSG', 'PSN', 'DFAU', 'MDGL', 'RVMD', 'EXLS', 'SKX', 'FN', 'XLRE', 'AAON', 'FOUR', 'AES', 'OTEX', 'TFLO', 'LNW', 'UWMC', 'AZEK', 'RRX', 'EAT', 'NFG', 'ALV', 'MIDD', 'UGI', 'VPL', 'APPF', 'CMA', 'LNTH', 'AXTA', 'UMBF', 'IAGG', 'BFAM', 'WTS', 'BBIO', 'ONEQ', 'KBR', 'AN', 'BIO', 'KNTK', 'TTC', 'JIRE', 'ALB', 'VDE', 'BXSL', 'LSCC', 'TFII', 'GNRC', 'JAZZ', 'SRAD', 'RLI', 'FTSM', 'MHK', 'AA', 'AVLV', 'VPU', 'ONB', 'ADT', 'BPOP', 'ZION', 'WH', 'OLLI', 'SPYD', 'SAIA', 'DFCF', 'BULL', 'LTH', 'INFA', 'PDI', 'FBIN', 'UFPI', 'SRLN', 'FR', 'SATS', 'GIL', 'BRFS', 'SSD', 'IONQ', 'BEP', 'AAL', 'PB', 'PATH', 'CHDN', 'STWD', 'BMI', 'POST', 'LEVI', 'NXT', 'FNDE', 'IGF', 'WING', 'BBWI', 'GBIL', 'ITA', 'KNX', 'LEGN', 'BUFR', 'VERX', 'IDA', 'AVDE', 'FAF', 'EPRT', 'SPXC', 'AGCO', 'STAG', 'HIMS', 'IVZ', 'VLUE', 'BWA', 'TREX', 'JCPB', 'FDN', 'ENPH', 'LRN', 'GLBE', 'ONTO', 'MGC', 'GTLS', 'BLV', 'S', 'LPX', 'CZR', 'MSA', 'AWI', 'SPTS', 'OLED', 'ICSH', 'SNV', 'IOO', 'PSLV', 'FLR', 'QRVO', 'CDP', 'APA', 'ACWX', 'VIRT', 'BKLN', 'KWEB', 'JNK', 'BRKR', 'CCCS', 'FCFS', 'BOKF', 'QLD', 'FLS', 'STVN', 'VMI', 'MTG', 'SHYG', 'STEP', 'SPMB', 'SLM', 'CHH', 'WFG', 'CWAN', 'BOXX', 'CIGI', 'TRNO', 'THG', 'CACC', 'OMF', 'IJS', 'CWEN', 'CWEN-A', 'ARW', 'TMHC', 'PBUS', 'FXI', 'VIPS', 'QXO', 'NVMI', 'IEUR', 'DINO', 'OSK', 'ESNT', 'BILI', 'SAIC', 'ZWS', 'CEF', 'VOYA', 'TBIL', 'BYD', 'R', 'CRVL', 'NEU', 'SPMO', 'TIGO', 'JQUA', 'FPE', 'CRL', 'BPMC', 'TX', 'RITM', 'MMSI', 'IJT', 'FCN', 'VRNA', 'MCHI', 'JXN', 'ACIW', 'KEX', 'HOMB', 'SLGN', 'BOND', 'VONE', 'IGM', 'GDXJ', 'IBB', 'EFAV', 'JMBS', 'ARKK', 'VCR', 'CGGO', 'FDL', 'TSLL', 'SGOL', 'DFAE', 'RWL', 'VUSB', 'FNGA', 'BBIN', 'JGRO', 'VOOV', 'XLB', 'CGUS', 'VIS', 'LMBS', 'ARKB', 'XBI', 'SSO', 'TMF', 'VWOB', 'BBAX', 'DFEM', 'XMHQ', 'PYLD', 'CGCP', 'GUNR', 'FDVV', 'PPA', 'IDV', 'DLN', 'OMFL', 'PDBC', 'ISTB', 'IHI', 'ESGE', 'DFSD', 'IXN', 'FEZ', 'CALF', 'BBEU', 'URTH', 'BBUS', 'BSCQ', 'VSGX', 'DFSV', 'EEMV', 'DSI', 'EWT', 'VOX', 'DIVO', 'TCAF', 'SJNK', 'SCHC', 'PGX', 'FELC', 'SPXL', 'BILS', 'SCHK', 'EAGG', 'IXJ', 'REET', 'GSIE', 'JHMM', 'BITB', 'FBCG', 'FIXD', 'DIHP', 'BSCP', 'CWB', 'KNG', 'TOTL', 'EWZ', 'KBWB', 'VFLO', 'FSEC', 'SLYV', 'JMST', 'DON', 'GVI', 'IYF', 'CMF', 'XMMO', 'NVDL', 'FV', 'EDV', 'SHM', 'BSCR', 'HYLB', 'CGXU', 'ACWV', 'JPIE', 'UPRO', 'HYD', 'SPHD', 'IBDR', 'VNQI', 'SUSA', 'DXJ', 'UCON', 'SPYI', 'PTLC', 'NEAR', 'EWU', 'DFLV', 'IYR', 'EUFN', 'EMLP', 'JAVA', 'AIRR', 'TFI', 'PAAA', 'FELG']\n",
      "\n",
      "Total common tickers: 1518\n",
      "Saved df_common_tickers to ..\\data\\2025-04-25_df_common_tickers_stocks_etfs.parquet\n"
     ]
    }
   ],
   "source": [
    "# Find common tickers (tickers present in both DataFrames' indices)\n",
    "common_tickers = df_finviz.index[df_finviz.index.isin(df_perf_ratios.index)].tolist() #Convert pandas index to list\n",
    "\n",
    "print(\"\\nTickers common to both df_finviz and df_perf_ratios:\")\n",
    "print(common_tickers)\n",
    "print(f\"\\nTotal common tickers: {len(common_tickers)}\")\n",
    "\n",
    "# Create the empty DataFrame with the common tickers as the index\n",
    "df_common_tickers = pd.DataFrame(index=common_tickers)\n",
    "df_common_tickers.to_parquet(COMMON_TICKERS_PATH, engine='pyarrow', compression='zstd')\n",
    "print(f'Saved df_common_tickers to {COMMON_TICKERS_PATH}')"
   ]
  },
  {
   "cell_type": "code",
   "execution_count": 9,
   "metadata": {},
   "outputs": [
    {
     "name": "stdout",
     "output_type": "stream",
     "text": [
      "df_finviz.shape before removing missing tickers: (1559, 113)\n",
      "df_finviz.shape after removing missing tickers: (1518, 113)\n"
     ]
    }
   ],
   "source": [
    "print(f'df_finviz.shape before removing missing tickers: {df_finviz.shape}')\n",
    "# Remove rows where the index matches missing_tickers\n",
    "df_finviz = df_finviz.drop(missing_tickers)\n",
    "print(f'df_finviz.shape after removing missing tickers: {df_finviz.shape}')\n"
   ]
  },
  {
   "cell_type": "code",
   "execution_count": 10,
   "metadata": {
    "vscode": {
     "languageId": "ruby"
    }
   },
   "outputs": [
    {
     "name": "stdout",
     "output_type": "stream",
     "text": [
      "df_perf_ratios.shape before removing duplicate tickers: (1518, 24)\n",
      "df_perf_ratios.shape after removing duplicate tickers: (1518, 24)\n"
     ]
    }
   ],
   "source": [
    "print(f'df_perf_ratios.shape before removing duplicate tickers: {df_perf_ratios.shape}')\n",
    "# Remove duplicates from df_perf_ratios, keeping the first occurrence\n",
    "df_perf_ratios = df_perf_ratios[~df_perf_ratios.index.duplicated(keep='first')]\n",
    "print(f'df_perf_ratios.shape after removing duplicate tickers: {df_perf_ratios.shape}')\n"
   ]
  },
  {
   "cell_type": "code",
   "execution_count": 20,
   "metadata": {
    "vscode": {
     "languageId": "ruby"
    }
   },
   "outputs": [
    {
     "name": "stdout",
     "output_type": "stream",
     "text": [
      "Join successful!\n",
      "df.head():\n",
      "        No.                Company               Index                  Sector                        Industry Country Exchange  Market Cap, M    P/E  Fwd P/E   PEG    P/S    P/B    P/C  P/FCF  Book/sh  Cash/sh  Dividend %  Dividend TTM Dividend Ex Date  Payout Ratio %    EPS  EPS next Q  EPS this Y %  EPS next Y %  EPS past 5Y %  EPS next 5Y %  Sales past 5Y %  Sales Q/Q %  EPS Q/Q %  EPS YoY TTM %  Sales YoY TTM %  Sales, M  Income, M  EPS Surprise %  Revenue Surprise %  Outstanding, M  Float, M  Float %  Insider Own %  Insider Trans %  Inst Own %  Inst Trans %  Short Float %  Short Ratio  Short Interest, M  ROA %   ROE %  ROI %  Curr R  Quick R  LTDebt/Eq  Debt/Eq  Gross M %  Oper M %  Profit M %  Perf Week %  Perf Month %  Perf Quart %  Perf Half %  Perf Year %  Perf YTD %  Beta    ATR  Volatility W %  Volatility M %  SMA20 %  SMA50 %  SMA200 %  50D High %  50D Low %  52W High %  52W Low %        52W Range  All-Time High %  All-Time Low %    RSI  Earnings    IPO Date Optionable Shortable  Employees  Change from Open %  Gap %  Recom  Avg Volume, M  Rel Volume     Volume  Target Price  Prev Close    Open    High     Low   Price  Change % Single Category Asset Type  Expense %  Holdings  AUM, M  Flows 1M, M  Flows% 1M  Flows 3M, M  Flows% 3M  Flows YTD, M  Flows% YTD  Return% 1Y  Return% 3Y  Return% 5Y Tags                                               Info  MktCap AUM, M  Rank   Sharpe 3d  Sortino 3d    Omega 3d  Sharpe 5d    Sortino 5d     Omega 5d  Sharpe 10d  Sortino 10d  Omega 10d  Sharpe 15d  Sortino 15d  Omega 15d  Sharpe 30d  Sortino 30d  Omega 30d  Sharpe 60d  Sortino 60d  Omega 60d  Sharpe 120d  Sortino 120d  Omega 120d  Sharpe 250d  Sortino 250d  Omega 250d\n",
      "Ticker                                                                                                                                                                                                                                                                                                                                                                                                                                                                                                                                                                                                                                                                                                                                                                                                                                                                                                                                                                                                                                                                                                                                                                                                                                                                                                                                                                                                                                                                                                                                                                                                                                                                                                                                                          \n",
      "AAPL      1              Apple Inc  DJIA, NDX, S&P 500              Technology            Consumer Electronics     USA     NASD      3143820.0  33.27    26.31  3.75   7.94  47.15  58.46  31.98     4.44     3.58        0.49          1.00        2/10/2025           16.11   6.29        1.61          7.58          9.53          15.41           8.88             9.18         3.95      10.13          -2.14             2.61  395760.0    96150.0            2.23                0.03         15040.0   15010.0    99.78           0.09            -3.52       63.86          1.45           0.75         1.85             113.13  27.57  136.52  63.80    0.92     0.88       1.26     1.45      46.52     31.76       24.30         6.24         -5.53         -6.06       -11.27        25.39      -16.43  1.28   9.26            2.43            4.93     3.83    -4.42     -8.06      -16.29      23.68      -19.54      24.46  168.15 - 260.10           -19.54       328873.80  51.95  May 01/a  12/12/1980        Yes       Yes   164000.0                1.49  -1.04   2.08          61.16        0.62   38132498        238.59      208.37  206.20  209.75  206.20  209.28      0.44                                   NaN       NaN     NaN          NaN        NaN          NaN        NaN           NaN         NaN         NaN         NaN         NaN    -                   Technology, Consumer Electronics      3143820.0     1   17.945283  3802.26885  339.733032  25.731176  15666.484213  1974.791483    4.214191     6.719272   1.915683    2.638663     5.831754   1.629695    0.008446     0.013045   1.001637   -0.862319    -1.246745   0.843918    -0.305491     -0.438251    0.939919     0.708200      1.053839    1.149028\n",
      "MSFT      2  Microsoft Corporation  DJIA, NDX, S&P 500              Technology       Software - Infrastructure     USA     NASD      2913010.0  31.56    26.37  2.22  11.13   9.62  40.71  41.60    40.71     9.63        0.83          3.16        5/15/2025           25.42  12.42        3.22         11.45         12.99          18.45          14.21            14.40        12.27      10.23          12.38            15.04  261800.0    92750.0            3.54                1.11          7430.0    7320.0    98.52           1.47            -0.04       73.30          1.16           0.70         2.02              51.25  18.47   34.29  23.60    1.35     1.34       0.30     0.34      69.41     44.96       35.43         6.54          0.48        -11.76        -8.34        -3.86       -7.03  0.98  12.57            2.43            3.52     4.26     1.19     -5.66       -6.55      13.65      -16.33      13.65  344.79 - 468.35           -16.33       491688.02  55.96  Apr 30/a   3/13/1986        Yes       Yes   228000.0                1.25  -0.08   1.34          25.35        0.74   18803717        482.98      387.30  387.00  392.16  384.60  391.85      1.17                                   NaN       NaN     NaN          NaN        NaN          NaN        NaN           NaN         NaN         NaN         NaN         NaN    -              Technology, Software - Infrastructure      2913010.0     2   22.669054  3802.26885  339.733032  37.156640  15666.484213  1974.791483    0.721671     1.097929   1.120237    3.028055     7.340809   1.773858    0.275150     0.504866   1.053757   -0.684691    -1.127361   0.878675    -0.233640     -0.351337    0.957513    -0.153934     -0.215197    0.972379\n",
      "NVDA      3            NVIDIA Corp  DJIA, NDX, S&P 500              Technology                  Semiconductors     USA     NASD      2708640.0  37.76    19.68  1.27  20.76  34.25  62.69  44.51     3.24     1.77        0.04          0.04        3/12/2025            1.16   2.94        0.89         48.06         27.39          91.83          29.64            70.88        77.94      81.23         146.26           114.20  130500.0    72880.0            4.97                3.23         24480.0   23420.0    95.70           4.00            -0.13       66.45          1.80           1.12         0.83             262.96  82.20  119.18  81.60    4.44     3.88       0.13     0.13      74.99     62.42       55.85         9.38         -2.42        -22.16       -22.69        34.68      -17.34  2.11   6.82            3.83            6.46     5.41    -3.67    -11.59      -22.61      28.16      -27.51      41.91   78.22 - 153.13           -27.51       332929.99  52.40  Feb 26/a   1/22/1999        Yes       Yes    36000.0                3.89   0.39   1.40         315.04        0.79  249869413        161.59      106.43  106.85  111.92  105.73  111.01      4.30                                   NaN       NaN     NaN          NaN        NaN          NaN        NaN           NaN         NaN         NaN         NaN         NaN    -                         Technology, Semiconductors      2708640.0     3  130.021558  3802.26885  339.733032  55.504407  15666.484213  1974.791483    0.255549     0.351491   1.039975    3.356985     7.407577   1.851558   -0.659989    -1.069245   0.886743   -0.408031    -0.598178   0.932668    -0.337878     -0.465733    0.942479     0.630212      0.910523    1.113303\n",
      "AMZN      4         Amazon.com Inc  DJIA, NDX, S&P 500       Consumer Cyclical                 Internet Retail     USA     NASD      2005630.0  34.22    25.35  1.83   3.14   7.00  19.15  61.00    27.00     9.87         NaN           NaN                -            0.00   5.52        1.37         12.63         19.69          36.89          18.71            18.31        10.49      85.48          91.61            10.99  637960.0    59250.0           25.14                0.24         10590.0    9490.0    89.59          10.58            -1.46       64.47          2.77           0.75         1.43              71.19  10.28   24.29  14.21    1.06     0.87       0.46     0.52      48.85     10.87        9.29         9.49         -6.04        -19.53        -0.37         5.26      -13.86  1.30   9.12            3.41            5.22     4.16    -3.84     -5.13      -18.25      17.11      -22.07      24.66  151.61 - 242.52           -22.07       287884.78  52.14  May 01/a   5/15/1997        Yes       Yes  1556000.0                0.84   0.47   1.29          49.72        0.73   36313537        248.71      186.54  187.42  189.94  185.49  188.99      1.31                                   NaN       NaN     NaN          NaN        NaN          NaN        NaN           NaN         NaN         NaN         NaN         NaN    -                 Consumer Cyclical, Internet Retail      2005630.0     4   25.969123  3802.26885  339.733032  38.701306  15666.484213  1974.791483    1.472458     2.613701   1.240475    2.874918     6.165727   1.619142   -0.448764    -0.673848   0.925594   -1.823540    -2.515367   0.730218     0.166570      0.244679    1.028947     0.202042      0.285271    1.035918\n",
      "GOOGL     6           Alphabet Inc        NDX, S&P 500  Communication Services  Internet Content & Information     USA     NASD      1984030.0  18.06    15.93  1.34   5.52   5.70  20.81  26.50    28.41     7.78        0.31          0.80        3/10/2025            7.46   8.97        2.16         17.17          7.94          26.76          13.43            17.30        11.81      48.77          37.73            13.02  359310.0   111000.0           40.02                1.15          5830.0    5820.0    99.84          52.28            -0.01       38.38          1.08           1.18         1.94              68.67  25.15   34.79  30.02    1.77     1.77       0.07     0.08      58.54     32.60       30.89         7.14         -1.88        -19.10        -1.93         2.34      -14.44  1.00   5.93            2.48            3.85     5.34    -1.36     -6.00      -13.11      15.25      -21.78      15.25  140.53 - 207.05           -21.78         6644.61  54.31  Apr 24/a   8/19/2004        Yes       Yes   183323.0               -1.84   3.59   1.46          35.44        1.58   55916858        202.95      159.28  165.00  166.10  161.04  161.96      1.68                                   NaN       NaN     NaN          NaN        NaN          NaN        NaN           NaN         NaN         NaN         NaN         NaN    -  Communication Services, Internet Content & Inf...      1984030.0     5   55.390805  3802.26885  339.733032  84.398842  15666.484213  1974.791483    2.523716     4.304615   1.412828    3.773143     8.644196   1.889355   -0.266003    -0.417904   0.957453   -2.138695    -2.828031   0.701919    -0.233284     -0.334614    0.961796    -0.166145     -0.227420    0.972157\n",
      "\n",
      "\n",
      "<class 'pandas.core.frame.DataFrame'>\n",
      "Index: 1518 entries, AAPL to FELG\n",
      "Columns: 137 entries, No. to Omega 250d\n",
      "dtypes: float64(118), int64(3), object(16)\n",
      "memory usage: 1.6+ MB\n",
      "df.info():\n",
      "None\n"
     ]
    }
   ],
   "source": [
    "# Find duplicate columns *before* adding suffixes\n",
    "duplicate_cols = list(set(df_finviz.columns) & set(df_perf_ratios.columns))  # Intersection\n",
    "\n",
    "if duplicate_cols:\n",
    "    print(f\"Error: Duplicate columns found: {duplicate_cols}\")\n",
    "    raise ValueError(f\"Duplicate columns found: {duplicate_cols}\")\n",
    "\n",
    "# Now, perform the join (WITHOUT suffixes)\n",
    "try:\n",
    "    df = df_finviz.join(df_perf_ratios)  # Simplified join\n",
    "    print(\"Join successful!\")\n",
    "    print(f'df.head():\\n{df.head()}') # Print first few lines.\n",
    "    print('\\n')\n",
    "    print(f'df.info():\\n{df.info()}') # Print info about the DataFrame.\n",
    "except ValueError as e:\n",
    "    print(f\"Join failed: {e}\")\n",
    "except Exception as e:\n",
    "    print(f\"An unexpected error occurred: {e}\")"
   ]
  },
  {
   "cell_type": "code",
   "execution_count": 12,
   "metadata": {},
   "outputs": [
    {
     "name": "stdout",
     "output_type": "stream",
     "text": [
      "Merged dataframe saved to ..\\data\\2025-04-25_df_finviz_n_ratios_stocks_etfs.parquet\n"
     ]
    }
   ],
   "source": [
    "df.to_parquet(DES_PATH, engine='pyarrow', compression='zstd')\n",
    "\n",
    "print(f\"Merged dataframe saved to {DES_PATH}\")"
   ]
  }
 ],
 "metadata": {
  "kernelspec": {
   "display_name": ".venv",
   "language": "python",
   "name": "python3"
  },
  "language_info": {
   "codemirror_mode": {
    "name": "ipython",
    "version": 3
   },
   "file_extension": ".py",
   "mimetype": "text/x-python",
   "name": "python",
   "nbconvert_exporter": "python",
   "pygments_lexer": "ipython3",
   "version": "3.11.9"
  }
 },
 "nbformat": 4,
 "nbformat_minor": 2
}
