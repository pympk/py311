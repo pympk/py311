{
 "cells": [
  {
   "cell_type": "markdown",
   "metadata": {},
   "source": [
    "### Corrected and Improved Code (Cell 1: Setup)\n",
    "\n",
    "This first cell now not only sets up the path for your `src` modules but also defines key directory variables (`DATA_DIR`, `ROOT_DIR`) that you can use throughout your notebook.\n"
   ]
  },
  {
   "cell_type": "code",
   "execution_count": 22,
   "metadata": {},
   "outputs": [
    {
     "name": "stdout",
     "output_type": "stream",
     "text": [
      "The autoreload extension is already loaded. To reload it, use:\n",
      "  %reload_ext autoreload\n",
      "✅ Project Root Directory: c:\\Users\\ping\\Files_win10\\python\\py311\\stocks\n",
      "✅ Source Directory (for utils): c:\\Users\\ping\\Files_win10\\python\\py311\\stocks\\src\n",
      "✅ Data Directory (for input): c:\\Users\\ping\\Files_win10\\python\\py311\\stocks\\output\\selection_results\n",
      "\n",
      "✅ Successfully imported 'utils' module.\n"
     ]
    }
   ],
   "source": [
    "import sys\n",
    "from pathlib import Path\n",
    "import pandas as pd\n",
    "import os\n",
    "from IPython.display import display, Markdown  # Assuming you use these for display\n",
    "\n",
    "# --- 1. PANDAS OPTIONS (No change) ---\n",
    "pd.set_option('display.max_columns', None)\n",
    "pd.set_option('display.width', 1500)\n",
    "\n",
    "# --- 2. IPYTHON AUTORELOAD (No change) ---\n",
    "%load_ext autoreload\n",
    "%autoreload 2\n",
    "\n",
    "# --- 3. ROBUST PATH CONFIGURATION (MODIFIED) ---\n",
    "\n",
    "# Get the current working directory of the notebook\n",
    "NOTEBOOK_DIR = Path.cwd()\n",
    "\n",
    "# Find the project ROOT directory by going up from the notebook's location\n",
    "# This is robust and works even if you move the notebook deeper.\n",
    "ROOT_DIR = NOTEBOOK_DIR.parent.parent\n",
    "\n",
    "# Define key project directories relative to the ROOT\n",
    "DATA_DIR = ROOT_DIR / 'output' / 'selection_results'\n",
    "SRC_DIR = ROOT_DIR / 'src'\n",
    "# You could also define an output directory here if needed\n",
    "OUTPUT_DIR = ROOT_DIR / 'output' \n",
    "\n",
    "# Add the 'src' directory to the Python path so you can import 'utils'\n",
    "if str(SRC_DIR) not in sys.path:\n",
    "    sys.path.append(str(SRC_DIR))\n",
    "\n",
    "# --- 4. VERIFICATION (IMPROVED) ---\n",
    "print(f\"✅ Project Root Directory: {ROOT_DIR}\")\n",
    "print(f\"✅ Source Directory (for utils): {SRC_DIR}\")\n",
    "print(f\"✅ Data Directory (for input): {DATA_DIR}\")\n",
    "\n",
    "# Verify that the key directories exist. This helps catch path errors early.\n",
    "assert ROOT_DIR.exists(), f\"ROOT directory not found at: {ROOT_DIR}\"\n",
    "assert SRC_DIR.exists(), f\"Source directory not found at: {SRC_DIR}\"\n",
    "assert DATA_DIR.exists(), f\"Data directory not found at: {DATA_DIR}\"\n",
    "\n",
    "# --- 5. IMPORT YOUR CUSTOM MODULE ---\n",
    "# This will now work correctly\n",
    "import utils\n",
    "print(\"\\n✅ Successfully imported 'utils' module.\")"
   ]
  },
  {
   "cell_type": "markdown",
   "metadata": {},
   "source": [
    "### Corrected Code (Cell 2: Execution)\n",
    "\n",
    "Now, in your second cell, you simply use the `DATA_DIR` variable we defined in the setup cell. This removes the fragile relative path `..\\data`."
   ]
  },
  {
   "cell_type": "code",
   "execution_count": 8,
   "metadata": {},
   "outputs": [
    {
     "data": {
      "text/markdown": [
       "<span style='color:#00ffff;font-weight:500'>[Downloads] Scanned latest 60 files • Found 0 '2025-06-13' matches</span>"
      ],
      "text/plain": [
       "<IPython.core.display.Markdown object>"
      ]
     },
     "metadata": {},
     "output_type": "display_data"
    },
    {
     "data": {
      "text/markdown": [
       "**Available 'starting with '2025-06-13'' files:**"
      ],
      "text/plain": [
       "<IPython.core.display.Markdown object>"
      ]
     },
     "metadata": {},
     "output_type": "display_data"
    },
    {
     "data": {
      "text/markdown": [
       "- (1) `[SELECTION_RESULTS]` `2025-06-13_my_selection_run_1.csv` <span style='color:#00ffff'>(0.00 MB, 2025-06-13 20:10)</span>"
      ],
      "text/plain": [
       "<IPython.core.display.Markdown object>"
      ]
     },
     "metadata": {},
     "output_type": "display_data"
    },
    {
     "data": {
      "text/markdown": [
       "- (2) `[SELECTION_RESULTS]` `2025-06-13_my_selection_run_1.parquet` <span style='color:#00ffff'>(0.01 MB, 2025-06-13 20:10)</span>"
      ],
      "text/plain": [
       "<IPython.core.display.Markdown object>"
      ]
     },
     "metadata": {},
     "output_type": "display_data"
    },
    {
     "data": {
      "text/markdown": [
       "- (3) `[SELECTION_RESULTS]` `2025-06-13_my_selection_run_1_params.json` <span style='color:#00ffff'>(0.00 MB, 2025-06-13 20:11)</span>"
      ],
      "text/plain": [
       "<IPython.core.display.Markdown object>"
      ]
     },
     "metadata": {},
     "output_type": "display_data"
    },
    {
     "data": {
      "text/markdown": [
       "- (4) `[SELECTION_RESULTS]` `2025-06-13_short_term_mean_reversion.csv` <span style='color:#00ffff'>(0.00 MB, 2025-06-15 17:22)</span>"
      ],
      "text/plain": [
       "<IPython.core.display.Markdown object>"
      ]
     },
     "metadata": {},
     "output_type": "display_data"
    },
    {
     "data": {
      "text/markdown": [
       "- (5) `[SELECTION_RESULTS]` `2025-06-13_short_term_mean_reversion.parquet` <span style='color:#00ffff'>(0.01 MB, 2025-06-15 17:22)</span>"
      ],
      "text/plain": [
       "<IPython.core.display.Markdown object>"
      ]
     },
     "metadata": {},
     "output_type": "display_data"
    },
    {
     "data": {
      "text/markdown": [
       "- (6) `[SELECTION_RESULTS]` `2025-06-13_short_term_mean_reversion_params.json` <span style='color:#00ffff'>(0.00 MB, 2025-06-15 17:22)</span>"
      ],
      "text/plain": [
       "<IPython.core.display.Markdown object>"
      ]
     },
     "metadata": {},
     "output_type": "display_data"
    },
    {
     "name": "stdout",
     "output_type": "stream",
     "text": [
      "\n",
      "Input a number to select file (1-6)\n"
     ]
    },
    {
     "data": {
      "text/markdown": [
       "\n",
       "    **Selected paths:**\n",
       "    - Source: `c:\\Users\\ping\\Files_win10\\python\\py311\\stocks\\output\\selection_results\\2025-06-13_my_selection_run_1.parquet`\n",
       "    - Destination: `c:\\Users\\ping\\Files_win10\\python\\py311\\stocks\\output\\selection_results\\2025-06-13_my_selection_run_1_clean.parquet`\n",
       "    "
      ],
      "text/plain": [
       "<IPython.core.display.Markdown object>"
      ]
     },
     "metadata": {},
     "output_type": "display_data"
    },
    {
     "name": "stdout",
     "output_type": "stream",
     "text": [
      "selected_file_path: c:\\Users\\ping\\Files_win10\\python\\py311\\stocks\\output\\selection_results\\2025-06-13_my_selection_run_1.parquet\n",
      "file_list: ['2025-06-13_my_selection_run_1.csv', '2025-06-13_my_selection_run_1.parquet', '2025-06-13_my_selection_run_1_params.json', '2025-06-13_short_term_mean_reversion.csv', '2025-06-13_short_term_mean_reversion.parquet', '2025-06-13_short_term_mean_reversion_params.json']\n",
      "\n",
      "df:\n",
      "        ROE %  Rel Volume  ATR/Price %  Change %  Debt/Eq   Price    RSI  Avg Volume, M     z_RSI  z_Change%  z_RelVolume  z_ATR/Price%  final_score  Weight_EW  Weight_IV  Weight_SW\n",
      "Ticker                                                                                                                                                                               \n",
      "BEKE     6.53        5.08     3.140227     -2.74     0.32   18.47  42.52           9.33 -0.965888  -0.695387     8.271048      0.351228     2.200533        0.1   0.093222   0.142504\n",
      "ADBE    52.25        2.79     2.348856     -5.32     0.57  391.68  39.31           3.80 -1.252564  -1.908837     3.680317     -0.422064     1.884760        0.1   0.124630   0.122055\n",
      "BF-B    23.14        1.96     4.160363     -3.11     0.68   26.44  21.13           3.57 -2.876169  -0.869409     2.016428      1.348059     1.579432        0.1   0.070364   0.102282\n",
      "ONON    15.84        1.75     3.731343     -6.23     0.27   52.26  37.38           5.33 -1.424927  -2.336836     1.595444      0.928840     1.542822        0.1   0.078454   0.099911\n",
      "CPRT    18.54        1.47     2.531385     -2.80     0.01   48.59  19.89           5.87 -2.986910  -0.723607     1.034132     -0.243705     1.529878        0.1   0.115644   0.099073\n",
      "\n"
     ]
    }
   ],
   "source": [
    "# Use the DATA_DIR variable defined in the setup cell\n",
    "selected_file_path, _, file_list = utils.main_processor(\n",
    "    data_dir=DATA_DIR,  # <-- Use the absolute path variable\n",
    "    downloads_dir=None,\n",
    "    downloads_limit=60,\n",
    "    clean_name_override=None,\n",
    "    # start_file_pattern='2025-04-25',\n",
    "    start_file_pattern='2025-06-13',    \n",
    "    contains_pattern=''\n",
    ")\n",
    "\n",
    "print(f'selected_file_path: {selected_file_path}')\n",
    "# print(f'output_path: {output_path}')\n",
    "print(f'file_list: {file_list}\\n')\n",
    "\n",
    "df = pd.read_parquet(selected_file_path)\n",
    "print(f'df:\\n{df.head()}\\n')\n",
    "\n",
    "# # The .info() method prints to stdout directly, so no need for an f-string\n",
    "# print('df_OHLCV.info():')\n",
    "# df_OHLCV.info()"
   ]
  },
  {
   "cell_type": "code",
   "execution_count": 10,
   "metadata": {},
   "outputs": [
    {
     "data": {
      "text/plain": [
       "['2025-06-13_my_selection_run_1.csv',\n",
       " '2025-06-13_my_selection_run_1.parquet',\n",
       " '2025-06-13_my_selection_run_1_params.json',\n",
       " '2025-06-13_short_term_mean_reversion.csv',\n",
       " '2025-06-13_short_term_mean_reversion.parquet',\n",
       " '2025-06-13_short_term_mean_reversion_params.json']"
      ]
     },
     "execution_count": 10,
     "metadata": {},
     "output_type": "execute_result"
    }
   ],
   "source": [
    "file_list"
   ]
  },
  {
   "cell_type": "code",
   "execution_count": 14,
   "metadata": {},
   "outputs": [
    {
     "name": "stdout",
     "output_type": "stream",
     "text": [
      "df1:\n",
      "        ROE %  Rel Volume  ATR/Price %  Change %  Debt/Eq   Price    RSI  Avg Volume, M     z_RSI  z_Change%  z_RelVolume  z_ATR/Price%  final_score  Weight_EW  Weight_IV  Weight_SW\n",
      "Ticker                                                                                                                                                                               \n",
      "BEKE     6.53        5.08     3.140227     -2.74     0.32   18.47  42.52           9.33 -0.965888  -0.695387     8.271048      0.351228     2.200533        0.1   0.093222   0.142504\n",
      "ADBE    52.25        2.79     2.348856     -5.32     0.57  391.68  39.31           3.80 -1.252564  -1.908837     3.680317     -0.422064     1.884760        0.1   0.124630   0.122055\n",
      "BF-B    23.14        1.96     4.160363     -3.11     0.68   26.44  21.13           3.57 -2.876169  -0.869409     2.016428      1.348059     1.579432        0.1   0.070364   0.102282\n",
      "ONON    15.84        1.75     3.731343     -6.23     0.27   52.26  37.38           5.33 -1.424927  -2.336836     1.595444      0.928840     1.542822        0.1   0.078454   0.099911\n",
      "CPRT    18.54        1.47     2.531385     -2.80     0.01   48.59  19.89           5.87 -2.986910  -0.723607     1.034132     -0.243705     1.529878        0.1   0.115644   0.099073\n",
      "\n"
     ]
    }
   ],
   "source": [
    "df1 = pd.read_parquet(DATA_DIR / file_list[1])\n",
    "print(f'df1:\\n{df1.head()}\\n')"
   ]
  },
  {
   "cell_type": "code",
   "execution_count": 15,
   "metadata": {},
   "outputs": [
    {
     "name": "stdout",
     "output_type": "stream",
     "text": [
      "df2:\n",
      "        Avg Volume, M  Debt/Eq  ROE %   Price  Rel Volume    RSI  Change %  ATR/Price %     z_RSI  z_Change%  z_RelVolume  z_ATR/Price%  final_score  Weight_EW  Weight_IV  Weight_SW\n",
      "Ticker                                                                                                                                                                               \n",
      "BEKE             9.33     0.32   6.53   18.47        5.08  42.52     -2.74     3.140227 -0.965888  -0.695387     8.271048      0.351228     2.200533        0.1   0.093222   0.142504\n",
      "ADBE             3.80     0.57  52.25  391.68        2.79  39.31     -5.32     2.348856 -1.252564  -1.908837     3.680317     -0.422064     1.884760        0.1   0.124630   0.122055\n",
      "BF-B             3.57     0.68  23.14   26.44        1.96  21.13     -3.11     4.160363 -2.876169  -0.869409     2.016428      1.348059     1.579432        0.1   0.070364   0.102282\n",
      "ONON             5.33     0.27  15.84   52.26        1.75  37.38     -6.23     3.731343 -1.424927  -2.336836     1.595444      0.928840     1.542822        0.1   0.078454   0.099911\n",
      "CPRT             5.87     0.01  18.54   48.59        1.47  19.89     -2.80     2.531385 -2.986910  -0.723607     1.034132     -0.243705     1.529878        0.1   0.115644   0.099073\n",
      "\n"
     ]
    }
   ],
   "source": [
    "df2 = pd.read_parquet(DATA_DIR / file_list[4])\n",
    "print(f'df2:\\n{df2.head()}\\n')"
   ]
  },
  {
   "cell_type": "code",
   "execution_count": 16,
   "metadata": {},
   "outputs": [
    {
     "name": "stdout",
     "output_type": "stream",
     "text": [
      "\n",
      "Original df2 with an extra column:\n",
      "        Avg Volume, M  Debt/Eq  ROE %   Price  Rel Volume    RSI  Change %  ATR/Price %     z_RSI  z_Change%  z_RelVolume  z_ATR/Price%  final_score  Weight_EW  Weight_IV  Weight_SW\n",
      "Ticker                                                                                                                                                                               \n",
      "BEKE             9.33     0.32   6.53   18.47        5.08  42.52     -2.74     3.140227 -0.965888  -0.695387     8.271048      0.351228     2.200533        0.1   0.093222   0.142504\n",
      "ADBE             3.80     0.57  52.25  391.68        2.79  39.31     -5.32     2.348856 -1.252564  -1.908837     3.680317     -0.422064     1.884760        0.1   0.124630   0.122055\n",
      "BF-B             3.57     0.68  23.14   26.44        1.96  21.13     -3.11     4.160363 -2.876169  -0.869409     2.016428      1.348059     1.579432        0.1   0.070364   0.102282\n",
      "ONON             5.33     0.27  15.84   52.26        1.75  37.38     -6.23     3.731343 -1.424927  -2.336836     1.595444      0.928840     1.542822        0.1   0.078454   0.099911\n",
      "CPRT             5.87     0.01  18.54   48.59        1.47  19.89     -2.80     2.531385 -2.986910  -0.723607     1.034132     -0.243705     1.529878        0.1   0.115644   0.099073\n",
      "V                6.45     0.55  50.03  352.85        2.20  42.41     -4.99     2.066034 -0.975712  -1.753628     2.497553     -0.698425     1.524622        0.1   0.141691   0.098732\n",
      "BRO              2.20     0.59  16.18  106.62        3.56  38.97     -0.17     2.410430 -1.282928   0.513359     5.223925     -0.361897     1.350324        0.1   0.121447   0.087445\n",
      "SN               2.01     0.46  24.75   82.13        0.99  34.66     -6.60     4.346767 -1.667843  -2.510858     0.071883      1.530204     1.323901        0.1   0.067346   0.085734\n",
      "CAVA             3.65     0.57  21.73   74.57        1.36  29.55     -4.70     4.559474 -2.124202  -1.617233     0.813617      1.738052     1.298420        0.1   0.064205   0.084084\n",
      "PPG              2.11     1.13  18.47  106.30        1.18  39.13     -5.11     2.380056 -1.268639  -1.810068     0.452774     -0.391576     1.207260        0.1   0.122997   0.078181\n",
      "\n",
      "Robustly reordered df2:\n",
      "        ROE %  Rel Volume  ATR/Price %  Change %  Debt/Eq   Price    RSI  Avg Volume, M     z_RSI  z_Change%  z_RelVolume  z_ATR/Price%  final_score  Weight_EW  Weight_IV  Weight_SW\n",
      "Ticker                                                                                                                                                                               \n",
      "BEKE     6.53        5.08     3.140227     -2.74     0.32   18.47  42.52           9.33 -0.965888  -0.695387     8.271048      0.351228     2.200533        0.1   0.093222   0.142504\n",
      "ADBE    52.25        2.79     2.348856     -5.32     0.57  391.68  39.31           3.80 -1.252564  -1.908837     3.680317     -0.422064     1.884760        0.1   0.124630   0.122055\n",
      "BF-B    23.14        1.96     4.160363     -3.11     0.68   26.44  21.13           3.57 -2.876169  -0.869409     2.016428      1.348059     1.579432        0.1   0.070364   0.102282\n",
      "ONON    15.84        1.75     3.731343     -6.23     0.27   52.26  37.38           5.33 -1.424927  -2.336836     1.595444      0.928840     1.542822        0.1   0.078454   0.099911\n",
      "CPRT    18.54        1.47     2.531385     -2.80     0.01   48.59  19.89           5.87 -2.986910  -0.723607     1.034132     -0.243705     1.529878        0.1   0.115644   0.099073\n",
      "V       50.03        2.20     2.066034     -4.99     0.55  352.85  42.41           6.45 -0.975712  -1.753628     2.497553     -0.698425     1.524622        0.1   0.141691   0.098732\n",
      "BRO     16.18        3.56     2.410430     -0.17     0.59  106.62  38.97           2.20 -1.282928   0.513359     5.223925     -0.361897     1.350324        0.1   0.121447   0.087445\n",
      "SN      24.75        0.99     4.346767     -6.60     0.46   82.13  34.66           2.01 -1.667843  -2.510858     0.071883      1.530204     1.323901        0.1   0.067346   0.085734\n",
      "CAVA    21.73        1.36     4.559474     -4.70     0.57   74.57  29.55           3.65 -2.124202  -1.617233     0.813617      1.738052     1.298420        0.1   0.064205   0.084084\n",
      "PPG     18.47        1.18     2.380056     -5.11     1.13  106.30  39.13           2.11 -1.268639  -1.810068     0.452774     -0.391576     1.207260        0.1   0.122997   0.078181\n"
     ]
    }
   ],
   "source": [
    "# # Create a df2 with an extra column 'location'\n",
    "# data3 = {'age': [45, 50],\n",
    "#          'id': [4, 5],\n",
    "#          'location': ['NY', 'CA'],\n",
    "#          'name': ['David', 'Eve']}\n",
    "# df2 = pd.DataFrame(data3)\n",
    "\n",
    "print(\"\\nOriginal df2 with an extra column:\")\n",
    "print(df2)\n",
    "# Original df2 with an extra column:\n",
    "#    age  id location   name\n",
    "# 0   45   4       NY  David\n",
    "# 1   50   5       CA    Eve\n",
    "\n",
    "# Robust solution to reorder common columns and keep extra ones\n",
    "# Get columns from df1 that are present in df2\n",
    "ordered_common_cols = [col for col in df1.columns if col in df2.columns]\n",
    "\n",
    "# Get columns that are only in df2\n",
    "extra_cols = [col for col in df2.columns if col not in df1.columns]\n",
    "\n",
    "# Combine the lists: ordered common columns first, then the extras\n",
    "new_order = ordered_common_cols + extra_cols\n",
    "\n",
    "# Apply the new, robust order\n",
    "df2_reordered = df2[new_order]\n",
    "\n",
    "print(\"\\nRobustly reordered df2:\")\n",
    "print(df2_reordered)\n",
    "# Robustly reordered df2:\n",
    "#    id   name  age location\n",
    "# 0   4  David   45       NY\n",
    "# 1   5    Eve   50       CA"
   ]
  },
  {
   "cell_type": "code",
   "execution_count": 18,
   "metadata": {},
   "outputs": [
    {
     "name": "stdout",
     "output_type": "stream",
     "text": [
      "df1:\n",
      "        ROE %  Rel Volume  ATR/Price %  Change %  Debt/Eq   Price    RSI  Avg Volume, M     z_RSI  z_Change%  z_RelVolume  z_ATR/Price%  final_score  Weight_EW  Weight_IV  Weight_SW\n",
      "Ticker                                                                                                                                                                               \n",
      "BEKE     6.53        5.08     3.140227     -2.74     0.32   18.47  42.52           9.33 -0.965888  -0.695387     8.271048      0.351228     2.200533        0.1   0.093222   0.142504\n",
      "ADBE    52.25        2.79     2.348856     -5.32     0.57  391.68  39.31           3.80 -1.252564  -1.908837     3.680317     -0.422064     1.884760        0.1   0.124630   0.122055\n",
      "BF-B    23.14        1.96     4.160363     -3.11     0.68   26.44  21.13           3.57 -2.876169  -0.869409     2.016428      1.348059     1.579432        0.1   0.070364   0.102282\n",
      "ONON    15.84        1.75     3.731343     -6.23     0.27   52.26  37.38           5.33 -1.424927  -2.336836     1.595444      0.928840     1.542822        0.1   0.078454   0.099911\n",
      "CPRT    18.54        1.47     2.531385     -2.80     0.01   48.59  19.89           5.87 -2.986910  -0.723607     1.034132     -0.243705     1.529878        0.1   0.115644   0.099073\n",
      "V       50.03        2.20     2.066034     -4.99     0.55  352.85  42.41           6.45 -0.975712  -1.753628     2.497553     -0.698425     1.524622        0.1   0.141691   0.098732\n",
      "BRO     16.18        3.56     2.410430     -0.17     0.59  106.62  38.97           2.20 -1.282928   0.513359     5.223925     -0.361897     1.350324        0.1   0.121447   0.087445\n",
      "SN      24.75        0.99     4.346767     -6.60     0.46   82.13  34.66           2.01 -1.667843  -2.510858     0.071883      1.530204     1.323901        0.1   0.067346   0.085734\n",
      "CAVA    21.73        1.36     4.559474     -4.70     0.57   74.57  29.55           3.65 -2.124202  -1.617233     0.813617      1.738052     1.298420        0.1   0.064205   0.084084\n",
      "PPG     18.47        1.18     2.380056     -5.11     1.13  106.30  39.13           2.11 -1.268639  -1.810068     0.452774     -0.391576     1.207260        0.1   0.122997   0.078181\n",
      "\n"
     ]
    }
   ],
   "source": [
    "print(f'df1:\\n{df1}\\n')"
   ]
  },
  {
   "cell_type": "code",
   "execution_count": null,
   "metadata": {},
   "outputs": [],
   "source": []
  },
  {
   "cell_type": "code",
   "execution_count": 12,
   "metadata": {},
   "outputs": [
    {
     "name": "stdout",
     "output_type": "stream",
     "text": [
      "2025-04-28_df_finviz_merged_stocks_etfs.parquet colums:\n",
      "['No.', 'Company', 'Index', 'Sector', 'Industry', 'Country', 'Exchange', 'Info', 'MktCap AUM, M', 'Rank', 'Market Cap, M', 'P/E', 'Fwd P/E', 'PEG', 'P/S', 'P/B', 'P/C', 'P/FCF', 'Book/sh', 'Cash/sh', 'Dividend %', 'Dividend TTM', 'Dividend Ex Date', 'Payout Ratio %', 'EPS', 'EPS next Q', 'EPS this Y %', 'EPS next Y %', 'EPS past 5Y %', 'EPS next 5Y %', 'Sales past 5Y %', 'Sales Q/Q %', 'EPS Q/Q %', 'EPS YoY TTM %', 'Sales YoY TTM %', 'Sales, M', 'Income, M', 'EPS Surprise %', 'Revenue Surprise %', 'Outstanding, M', 'Float, M', 'Float %', 'Insider Own %', 'Insider Trans %', 'Inst Own %', 'Inst Trans %', 'Short Float %', 'Short Ratio', 'Short Interest, M', 'ROA %', 'ROE %', 'ROI %', 'Curr R', 'Quick R', 'LTDebt/Eq', 'Debt/Eq', 'Gross M %', 'Oper M %', 'Profit M %', 'Perf 3D %', 'Perf Week %', 'Perf Month %', 'Perf Quart %', 'Perf Half %', 'Perf Year %', 'Perf YTD %', 'Beta', 'ATR', 'ATR/Price %', 'Volatility W %', 'Volatility M %', 'SMA20 %', 'SMA50 %', 'SMA200 %', '50D High %', '50D Low %', '52W High %', '52W Low %', '52W Range', 'All-Time High %', 'All-Time Low %', 'RSI', 'Earnings', 'IPO Date', 'Optionable', 'Shortable', 'Employees', 'Change from Open %', 'Gap %', 'Recom', 'Avg Volume, M', 'Rel Volume', 'Volume', 'Target Price', 'Prev Close', 'Open', 'High', 'Low', 'Price', 'Change %', 'Single Category', 'Asset Type', 'Expense %', 'Holdings', 'AUM, M', 'Flows 1M, M', 'Flows% 1M', 'Flows 3M, M', 'Flows% 3M', 'Flows YTD, M', 'Flows% YTD', 'Return% 1Y', 'Return% 3Y', 'Return% 5Y', 'Tags', 'Sharpe 3d', 'Sortino 3d', 'Omega 3d', 'Sharpe 5d', 'Sortino 5d', 'Omega 5d', 'Sharpe 10d', 'Sortino 10d', 'Omega 10d', 'Sharpe 15d', 'Sortino 15d', 'Omega 15d', 'Sharpe 30d', 'Sortino 30d', 'Omega 30d', 'Sharpe 60d', 'Sortino 60d', 'Omega 60d', 'Sharpe 120d', 'Sortino 120d', 'Omega 120d', 'Sharpe 250d', 'Sortino 250d', 'Omega 250d']\n",
      "==========================\n",
      "2025-04-28_df_finviz_n_ratios_stocks_etfs.parquet colums:\n",
      "['No.', 'Company', 'Index', 'Sector', 'Industry', 'Country', 'Exchange', 'Market Cap, M', 'P/E', 'Fwd P/E', 'PEG', 'P/S', 'P/B', 'P/C', 'P/FCF', 'Book/sh', 'Cash/sh', 'Dividend %', 'Dividend TTM', 'Dividend Ex Date', 'Payout Ratio %', 'EPS', 'EPS next Q', 'EPS this Y %', 'EPS next Y %', 'EPS past 5Y %', 'EPS next 5Y %', 'Sales past 5Y %', 'Sales Q/Q %', 'EPS Q/Q %', 'EPS YoY TTM %', 'Sales YoY TTM %', 'Sales, M', 'Income, M', 'EPS Surprise %', 'Revenue Surprise %', 'Outstanding, M', 'Float, M', 'Float %', 'Insider Own %', 'Insider Trans %', 'Inst Own %', 'Inst Trans %', 'Short Float %', 'Short Ratio', 'Short Interest, M', 'ROA %', 'ROE %', 'ROI %', 'Curr R', 'Quick R', 'LTDebt/Eq', 'Debt/Eq', 'Gross M %', 'Oper M %', 'Profit M %', 'Perf Week %', 'Perf Month %', 'Perf Quart %', 'Perf Half %', 'Perf Year %', 'Perf YTD %', 'Beta', 'ATR', 'Volatility W %', 'Volatility M %', 'SMA20 %', 'SMA50 %', 'SMA200 %', '50D High %', '50D Low %', '52W High %', '52W Low %', '52W Range', 'All-Time High %', 'All-Time Low %', 'RSI', 'Earnings', 'IPO Date', 'Optionable', 'Shortable', 'Employees', 'Change from Open %', 'Gap %', 'Recom', 'Avg Volume, M', 'Rel Volume', 'Volume', 'Target Price', 'Prev Close', 'Open', 'High', 'Low', 'Price', 'Change %', 'Single Category', 'Asset Type', 'Expense %', 'Holdings', 'AUM, M', 'Flows 1M, M', 'Flows% 1M', 'Flows 3M, M', 'Flows% 3M', 'Flows YTD, M', 'Flows% YTD', 'Return% 1Y', 'Return% 3Y', 'Return% 5Y', 'Tags', 'Info', 'MktCap AUM, M', 'Rank', 'Sharpe 3d', 'Sortino 3d', 'Omega 3d', 'Sharpe 5d', 'Sortino 5d', 'Omega 5d', 'Sharpe 10d', 'Sortino 10d', 'Omega 10d', 'Sharpe 15d', 'Sortino 15d', 'Omega 15d', 'Sharpe 30d', 'Sortino 30d', 'Omega 30d', 'Sharpe 60d', 'Sortino 60d', 'Omega 60d', 'Sharpe 120d', 'Sortino 120d', 'Omega 120d', 'Sharpe 250d', 'Sortino 250d', 'Omega 250d']\n",
      "==========================\n",
      "2025-04-28_df_finviz_stocks_etfs.parquet colums:\n",
      "['No.', 'Company', 'Index', 'Sector', 'Industry', 'Country', 'Exchange', 'Market Cap, M', 'P/E', 'Fwd P/E', 'PEG', 'P/S', 'P/B', 'P/C', 'P/FCF', 'Book/sh', 'Cash/sh', 'Dividend %', 'Dividend TTM', 'Dividend Ex Date', 'Payout Ratio %', 'EPS', 'EPS next Q', 'EPS this Y %', 'EPS next Y %', 'EPS past 5Y %', 'EPS next 5Y %', 'Sales past 5Y %', 'Sales Q/Q %', 'EPS Q/Q %', 'EPS YoY TTM %', 'Sales YoY TTM %', 'Sales, M', 'Income, M', 'EPS Surprise %', 'Revenue Surprise %', 'Outstanding, M', 'Float, M', 'Float %', 'Insider Own %', 'Insider Trans %', 'Inst Own %', 'Inst Trans %', 'Short Float %', 'Short Ratio', 'Short Interest, M', 'ROA %', 'ROE %', 'ROI %', 'Curr R', 'Quick R', 'LTDebt/Eq', 'Debt/Eq', 'Gross M %', 'Oper M %', 'Profit M %', 'Perf Week %', 'Perf Month %', 'Perf Quart %', 'Perf Half %', 'Perf Year %', 'Perf YTD %', 'Beta', 'ATR', 'Volatility W %', 'Volatility M %', 'SMA20 %', 'SMA50 %', 'SMA200 %', '50D High %', '50D Low %', '52W High %', '52W Low %', '52W Range', 'All-Time High %', 'All-Time Low %', 'RSI', 'Earnings', 'IPO Date', 'Optionable', 'Shortable', 'Employees', 'Change from Open %', 'Gap %', 'Recom', 'Avg Volume, M', 'Rel Volume', 'Volume', 'Target Price', 'Prev Close', 'Open', 'High', 'Low', 'Price', 'Change %', 'Single Category', 'Asset Type', 'Expense %', 'Holdings', 'AUM, M', 'Flows 1M, M', 'Flows% 1M', 'Flows 3M, M', 'Flows% 3M', 'Flows YTD, M', 'Flows% YTD', 'Return% 1Y', 'Return% 3Y', 'Return% 5Y', 'Tags', 'Info', 'MktCap AUM, M', 'Rank']\n",
      "==========================\n"
     ]
    }
   ],
   "source": [
    "for file in file_list:\n",
    "    df = pd.read_parquet(DATA_DIR / file)\n",
    "    print(f'{file} colums:\\n{df.columns.tolist()}')\n",
    "    print('==========================')\n"
   ]
  },
  {
   "cell_type": "markdown",
   "metadata": {},
   "source": [
    "'ROI %' change to 'ROIC %'"
   ]
  },
  {
   "cell_type": "code",
   "execution_count": 26,
   "metadata": {},
   "outputs": [
    {
     "data": {
      "text/plain": [
       "['2025-04-25_my_selection_run_1.csv',\n",
       " '2025-04-28_my_selection_run_1.csv',\n",
       " '2025-04-29_my_selection_run_1.csv',\n",
       " '2025-04-30_my_selection_run_1.csv',\n",
       " '2025-05-01_my_selection_run_1.csv',\n",
       " '2025-05-02_my_selection_run_1.csv',\n",
       " '2025-05-05_my_selection_run_1.csv',\n",
       " '2025-05-06_my_selection_run_1.csv',\n",
       " '2025-05-07_my_selection_run_1.csv',\n",
       " '2025-05-08_my_selection_run_1.csv',\n",
       " '2025-05-09_my_selection_run_1.csv',\n",
       " '2025-05-12_my_selection_run_1.csv',\n",
       " '2025-05-13_my_selection_run_1.csv',\n",
       " '2025-05-14_my_selection_run_1.csv',\n",
       " '2025-05-15_my_selection_run_1.csv',\n",
       " '2025-05-16_my_selection_run_1.csv',\n",
       " '2025-05-19_my_selection_run_1.csv',\n",
       " '2025-05-20_my_selection_run_1.csv',\n",
       " '2025-05-21_my_selection_run_1.csv',\n",
       " '2025-05-22_my_selection_run_1.csv',\n",
       " '2025-05-23_my_selection_run_1.csv',\n",
       " '2025-05-27_my_selection_run_1.csv',\n",
       " '2025-05-28_my_selection_run_1.csv',\n",
       " '2025-05-29_my_selection_run_1.csv',\n",
       " '2025-05-30_my_selection_run_1.csv',\n",
       " '2025-06-02_my_selection_run_1.csv',\n",
       " '2025-06-03_my_selection_run_1.csv',\n",
       " '2025-06-04_my_selection_run_1.csv',\n",
       " '2025-06-05_my_selection_run_1.csv',\n",
       " '2025-06-06_my_selection_run_1.csv',\n",
       " '2025-06-09_my_selection_run_1.csv',\n",
       " '2025-06-10_my_selection_run_1.csv',\n",
       " '2025-06-11_my_selection_run_1.csv',\n",
       " '2025-06-12_my_selection_run_1.csv',\n",
       " '2025-06-13_my_selection_run_1.csv',\n",
       " '2025-06-13_short_term_mean_reversion.csv']"
      ]
     },
     "execution_count": 26,
     "metadata": {},
     "output_type": "execute_result"
    }
   ],
   "source": [
    "# Get a list of all .parquet files in the directory\n",
    "# Using .glob('*.parquet') is a safe way to get only the files you want\n",
    "# Gets all files ending with .parquet that also contain 'df_finviz'\n",
    "file_list = [f.name for f in DATA_DIR.glob('*.csv')]\n",
    "file_list"
   ]
  },
  {
   "cell_type": "code",
   "execution_count": 29,
   "metadata": {},
   "outputs": [
    {
     "name": "stdout",
     "output_type": "stream",
     "text": [
      "Scanning for files in: C:\\Users\\ping\\Files_win10\\python\\py311\\stocks\\output\\selection_results\n",
      "--------------------\n",
      "Renamed: '2025-04-25_my_selection_run_1_params.json' -> '2025-04-25_short_term_mean_reversion_params.json'\n",
      "Renamed: '2025-04-28_my_selection_run_1_params.json' -> '2025-04-28_short_term_mean_reversion_params.json'\n",
      "Renamed: '2025-04-29_my_selection_run_1_params.json' -> '2025-04-29_short_term_mean_reversion_params.json'\n",
      "Renamed: '2025-04-30_my_selection_run_1_params.json' -> '2025-04-30_short_term_mean_reversion_params.json'\n",
      "Renamed: '2025-05-01_my_selection_run_1_params.json' -> '2025-05-01_short_term_mean_reversion_params.json'\n",
      "Renamed: '2025-05-02_my_selection_run_1_params.json' -> '2025-05-02_short_term_mean_reversion_params.json'\n",
      "Renamed: '2025-05-05_my_selection_run_1_params.json' -> '2025-05-05_short_term_mean_reversion_params.json'\n",
      "Renamed: '2025-05-06_my_selection_run_1_params.json' -> '2025-05-06_short_term_mean_reversion_params.json'\n",
      "Renamed: '2025-05-07_my_selection_run_1_params.json' -> '2025-05-07_short_term_mean_reversion_params.json'\n",
      "Renamed: '2025-05-08_my_selection_run_1_params.json' -> '2025-05-08_short_term_mean_reversion_params.json'\n",
      "Renamed: '2025-05-09_my_selection_run_1_params.json' -> '2025-05-09_short_term_mean_reversion_params.json'\n",
      "Renamed: '2025-05-12_my_selection_run_1_params.json' -> '2025-05-12_short_term_mean_reversion_params.json'\n",
      "Renamed: '2025-05-13_my_selection_run_1_params.json' -> '2025-05-13_short_term_mean_reversion_params.json'\n",
      "Renamed: '2025-05-14_my_selection_run_1_params.json' -> '2025-05-14_short_term_mean_reversion_params.json'\n",
      "Renamed: '2025-05-15_my_selection_run_1_params.json' -> '2025-05-15_short_term_mean_reversion_params.json'\n",
      "Renamed: '2025-05-16_my_selection_run_1_params.json' -> '2025-05-16_short_term_mean_reversion_params.json'\n",
      "Renamed: '2025-05-19_my_selection_run_1_params.json' -> '2025-05-19_short_term_mean_reversion_params.json'\n",
      "Renamed: '2025-05-20_my_selection_run_1_params.json' -> '2025-05-20_short_term_mean_reversion_params.json'\n",
      "Renamed: '2025-05-21_my_selection_run_1_params.json' -> '2025-05-21_short_term_mean_reversion_params.json'\n",
      "Renamed: '2025-05-22_my_selection_run_1_params.json' -> '2025-05-22_short_term_mean_reversion_params.json'\n",
      "Renamed: '2025-05-23_my_selection_run_1_params.json' -> '2025-05-23_short_term_mean_reversion_params.json'\n",
      "Renamed: '2025-05-27_my_selection_run_1_params.json' -> '2025-05-27_short_term_mean_reversion_params.json'\n",
      "Renamed: '2025-05-28_my_selection_run_1_params.json' -> '2025-05-28_short_term_mean_reversion_params.json'\n",
      "Renamed: '2025-05-29_my_selection_run_1_params.json' -> '2025-05-29_short_term_mean_reversion_params.json'\n",
      "Renamed: '2025-05-30_my_selection_run_1_params.json' -> '2025-05-30_short_term_mean_reversion_params.json'\n",
      "Renamed: '2025-06-02_my_selection_run_1_params.json' -> '2025-06-02_short_term_mean_reversion_params.json'\n",
      "Renamed: '2025-06-03_my_selection_run_1_params.json' -> '2025-06-03_short_term_mean_reversion_params.json'\n",
      "Renamed: '2025-06-04_my_selection_run_1_params.json' -> '2025-06-04_short_term_mean_reversion_params.json'\n",
      "Renamed: '2025-06-05_my_selection_run_1_params.json' -> '2025-06-05_short_term_mean_reversion_params.json'\n",
      "Renamed: '2025-06-06_my_selection_run_1_params.json' -> '2025-06-06_short_term_mean_reversion_params.json'\n",
      "Renamed: '2025-06-09_my_selection_run_1_params.json' -> '2025-06-09_short_term_mean_reversion_params.json'\n",
      "Renamed: '2025-06-10_my_selection_run_1_params.json' -> '2025-06-10_short_term_mean_reversion_params.json'\n",
      "Renamed: '2025-06-11_my_selection_run_1_params.json' -> '2025-06-11_short_term_mean_reversion_params.json'\n",
      "Renamed: '2025-06-12_my_selection_run_1_params.json' -> '2025-06-12_short_term_mean_reversion_params.json'\n"
     ]
    },
    {
     "ename": "FileExistsError",
     "evalue": "[WinError 183] Cannot create a file when that file already exists: 'c:\\\\Users\\\\ping\\\\Files_win10\\\\python\\\\py311\\\\stocks\\\\output\\\\selection_results\\\\2025-06-13_my_selection_run_1_params.json' -> 'c:\\\\Users\\\\ping\\\\Files_win10\\\\python\\\\py311\\\\stocks\\\\output\\\\selection_results\\\\2025-06-13_short_term_mean_reversion_params.json'",
     "output_type": "error",
     "traceback": [
      "\u001b[31m---------------------------------------------------------------------------\u001b[39m",
      "\u001b[31mFileExistsError\u001b[39m                           Traceback (most recent call last)",
      "\u001b[36mCell\u001b[39m\u001b[36m \u001b[39m\u001b[32mIn[29]\u001b[39m\u001b[32m, line 41\u001b[39m\n\u001b[32m     38\u001b[39m     new_file_path = old_file_path.parent / new_filename\n\u001b[32m     40\u001b[39m     \u001b[38;5;66;03m# Rename the file on the file system\u001b[39;00m\n\u001b[32m---> \u001b[39m\u001b[32m41\u001b[39m     \u001b[43mold_file_path\u001b[49m\u001b[43m.\u001b[49m\u001b[43mrename\u001b[49m\u001b[43m(\u001b[49m\u001b[43mnew_file_path\u001b[49m\u001b[43m)\u001b[49m\n\u001b[32m     43\u001b[39m     \u001b[38;5;28mprint\u001b[39m(\u001b[33mf\u001b[39m\u001b[33m\"\u001b[39m\u001b[33mRenamed: \u001b[39m\u001b[33m'\u001b[39m\u001b[38;5;132;01m{\u001b[39;00mold_file_path.name\u001b[38;5;132;01m}\u001b[39;00m\u001b[33m'\u001b[39m\u001b[33m -> \u001b[39m\u001b[33m'\u001b[39m\u001b[38;5;132;01m{\u001b[39;00mnew_file_path.name\u001b[38;5;132;01m}\u001b[39;00m\u001b[33m'\u001b[39m\u001b[33m\"\u001b[39m)\n\u001b[32m     44\u001b[39m \u001b[38;5;28;01melse\u001b[39;00m:\n",
      "\u001b[36mFile \u001b[39m\u001b[32m~\\.pyenv\\pyenv-win\\versions\\3.11.9\\Lib\\pathlib.py:1175\u001b[39m, in \u001b[36mPath.rename\u001b[39m\u001b[34m(self, target)\u001b[39m\n\u001b[32m   1165\u001b[39m \u001b[38;5;28;01mdef\u001b[39;00m\u001b[38;5;250m \u001b[39m\u001b[34mrename\u001b[39m(\u001b[38;5;28mself\u001b[39m, target):\n\u001b[32m   1166\u001b[39m \u001b[38;5;250m    \u001b[39m\u001b[33;03m\"\"\"\u001b[39;00m\n\u001b[32m   1167\u001b[39m \u001b[33;03m    Rename this path to the target path.\u001b[39;00m\n\u001b[32m   1168\u001b[39m \n\u001b[32m   (...)\u001b[39m\u001b[32m   1173\u001b[39m \u001b[33;03m    Returns the new Path instance pointing to the target path.\u001b[39;00m\n\u001b[32m   1174\u001b[39m \u001b[33;03m    \"\"\"\u001b[39;00m\n\u001b[32m-> \u001b[39m\u001b[32m1175\u001b[39m     os.rename(\u001b[38;5;28mself\u001b[39m, target)\n\u001b[32m   1176\u001b[39m     \u001b[38;5;28;01mreturn\u001b[39;00m \u001b[38;5;28mself\u001b[39m.\u001b[34m__class__\u001b[39m(target)\n",
      "\u001b[31mFileExistsError\u001b[39m: [WinError 183] Cannot create a file when that file already exists: 'c:\\\\Users\\\\ping\\\\Files_win10\\\\python\\\\py311\\\\stocks\\\\output\\\\selection_results\\\\2025-06-13_my_selection_run_1_params.json' -> 'c:\\\\Users\\\\ping\\\\Files_win10\\\\python\\\\py311\\\\stocks\\\\output\\\\selection_results\\\\2025-06-13_short_term_mean_reversion_params.json'"
     ]
    }
   ],
   "source": [
    "import pathlib\n",
    "import os\n",
    "\n",
    "# # --- Setup: Create a dummy directory and files for a runnable example ---\n",
    "# # (You can replace this with your actual DATA_DIR)\n",
    "# DATA_DIR = pathlib.Path('./my_data_folder')\n",
    "# DATA_DIR.mkdir(exist_ok=True)\n",
    "# print(f'DATA_DIR: {DATA_DIR}') \n",
    "\n",
    "# # Create some example files to rename\n",
    "# dummy_files = [\n",
    "#     '2025-06-13_my_selection_run_1.parquet',\n",
    "#     '2025-06-14_my_selection_run_1.parquet',\n",
    "#     '2025-06-15_some_other_file.parquet', # This file should be ignored\n",
    "# ]\n",
    "# for fname in dummy_files:\n",
    "#     (DATA_DIR / fname).touch()\n",
    "\n",
    "# --- Core Renaming Logic ---\n",
    "\n",
    "# Define the strings for replacement\n",
    "string_to_find = 'my_selection_run_1'\n",
    "string_to_replace = 'short_term_mean_reversion'\n",
    "\n",
    "print(f\"Scanning for files in: {DATA_DIR.resolve()}\")\n",
    "print(\"-\" * 20)\n",
    "\n",
    "# It's better to iterate directly over the Path objects from glob()\n",
    "for old_file_path in DATA_DIR.glob('*.json'):\n",
    "    # Check if the string to find is actually in the filename\n",
    "    if string_to_find in old_file_path.name:\n",
    "        \n",
    "        # Create the new filename using string's .replace() method\n",
    "        new_filename = old_file_path.name.replace(string_to_find, string_to_replace)\n",
    "        \n",
    "        # Create the full path for the new file\n",
    "        # (It's in the same directory as the old file)\n",
    "        new_file_path = old_file_path.parent / new_filename\n",
    "        \n",
    "        # Rename the file on the file system\n",
    "        old_file_path.rename(new_file_path)\n",
    "        \n",
    "        print(f\"Renamed: '{old_file_path.name}' -> '{new_file_path.name}'\")\n",
    "    else:\n",
    "        print(f\"Skipped: '{old_file_path.name}' (did not contain '{string_to_find}')\")\n",
    "\n",
    "print(\"-\" * 20)\n",
    "print(\"Renaming complete. Current files:\")\n",
    "for f in DATA_DIR.glob('*.parquet'):\n",
    "    print(f\"- {f.name}\")"
   ]
  }
 ],
 "metadata": {
  "kernelspec": {
   "display_name": ".venv",
   "language": "python",
   "name": "python3"
  },
  "language_info": {
   "codemirror_mode": {
    "name": "ipython",
    "version": 3
   },
   "file_extension": ".py",
   "mimetype": "text/x-python",
   "name": "python",
   "nbconvert_exporter": "python",
   "pygments_lexer": "ipython3",
   "version": "3.11.9"
  }
 },
 "nbformat": 4,
 "nbformat_minor": 2
}
