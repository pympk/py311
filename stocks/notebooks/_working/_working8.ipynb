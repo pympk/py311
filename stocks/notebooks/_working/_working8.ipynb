{
 "cells": [
  {
   "cell_type": "markdown",
   "metadata": {},
   "source": [
    "### Corrected and Improved Code (Cell 1: Setup)\n",
    "\n",
    "This first cell now not only sets up the path for your `src` modules but also defines key directory variables (`DATA_DIR`, `ROOT_DIR`) that you can use throughout your notebook.\n"
   ]
  },
  {
   "cell_type": "code",
   "execution_count": 3,
   "metadata": {},
   "outputs": [
    {
     "name": "stdout",
     "output_type": "stream",
     "text": [
      "The autoreload extension is already loaded. To reload it, use:\n",
      "  %reload_ext autoreload\n",
      "✅ Project Root Directory: c:\\Users\\ping\\Files_win10\\python\\py311\\stocks\n",
      "✅ Source Directory (for utils): c:\\Users\\ping\\Files_win10\\python\\py311\\stocks\\src\n",
      "✅ Data Directory (for input): c:\\Users\\ping\\Files_win10\\python\\py311\\stocks\\data\n",
      "\n",
      "✅ Successfully imported 'utils' module.\n"
     ]
    }
   ],
   "source": [
    "import sys\n",
    "from pathlib import Path\n",
    "import pandas as pd\n",
    "import os\n",
    "from IPython.display import display, Markdown  # Assuming you use these for display\n",
    "\n",
    "# --- 1. PANDAS OPTIONS (No change) ---\n",
    "pd.set_option('display.max_columns', None)\n",
    "pd.set_option('display.width', 1500)\n",
    "\n",
    "# --- 2. IPYTHON AUTORELOAD (No change) ---\n",
    "%load_ext autoreload\n",
    "%autoreload 2\n",
    "\n",
    "# --- 3. ROBUST PATH CONFIGURATION (MODIFIED) ---\n",
    "\n",
    "# Get the current working directory of the notebook\n",
    "NOTEBOOK_DIR = Path.cwd()\n",
    "\n",
    "# Find the project ROOT directory by going up from the notebook's location\n",
    "# This is robust and works even if you move the notebook deeper.\n",
    "ROOT_DIR = NOTEBOOK_DIR.parent.parent\n",
    "\n",
    "# Define key project directories relative to the ROOT\n",
    "DATA_DIR = ROOT_DIR / 'data'\n",
    "SRC_DIR = ROOT_DIR / 'src'\n",
    "# You could also define an output directory here if needed\n",
    "OUTPUT_DIR = ROOT_DIR / 'output'\n",
    "\n",
    "# Add the 'src' directory to the Python path so you can import 'utils'\n",
    "if str(SRC_DIR) not in sys.path:\n",
    "    sys.path.append(str(SRC_DIR))\n",
    "\n",
    "# --- 4. VERIFICATION (IMPROVED) ---\n",
    "print(f\"✅ Project Root Directory: {ROOT_DIR}\")\n",
    "print(f\"✅ Source Directory (for utils): {SRC_DIR}\")\n",
    "print(f\"✅ Data Directory (for input): {DATA_DIR}\")\n",
    "\n",
    "# Verify that the key directories exist. This helps catch path errors early.\n",
    "assert ROOT_DIR.exists(), f\"ROOT directory not found at: {ROOT_DIR}\"\n",
    "assert SRC_DIR.exists(), f\"Source directory not found at: {SRC_DIR}\"\n",
    "assert DATA_DIR.exists(), f\"Data directory not found at: {DATA_DIR}\"\n",
    "\n",
    "# --- 5. IMPORT YOUR CUSTOM MODULE ---\n",
    "# This will now work correctly\n",
    "import utils\n",
    "print(\"\\n✅ Successfully imported 'utils' module.\")"
   ]
  },
  {
   "cell_type": "markdown",
   "metadata": {},
   "source": [
    "### Corrected Code (Cell 2: Execution)\n",
    "\n",
    "Now, in your second cell, you simply use the `DATA_DIR` variable we defined in the setup cell. This removes the fragile relative path `..\\data`."
   ]
  },
  {
   "cell_type": "code",
   "execution_count": 11,
   "metadata": {},
   "outputs": [
    {
     "data": {
      "text/markdown": [
       "<span style='color:#00ffff;font-weight:500'>[Downloads] Scanned latest 60 files • Found 0 '2025-04-28' matches</span>"
      ],
      "text/plain": [
       "<IPython.core.display.Markdown object>"
      ]
     },
     "metadata": {},
     "output_type": "display_data"
    },
    {
     "data": {
      "text/markdown": [
       "**Available 'starting with '2025-04-28'' files:**"
      ],
      "text/plain": [
       "<IPython.core.display.Markdown object>"
      ]
     },
     "metadata": {},
     "output_type": "display_data"
    },
    {
     "data": {
      "text/markdown": [
       "- (1) `[DATA]` `2025-04-28_df_common_tickers_stocks_etfs.parquet` <span style='color:#00ffff'>(0.01 MB, 2025-05-14 11:35)</span>"
      ],
      "text/plain": [
       "<IPython.core.display.Markdown object>"
      ]
     },
     "metadata": {},
     "output_type": "display_data"
    },
    {
     "data": {
      "text/markdown": [
       "- (2) `[DATA]` `2025-04-28_df_finviz_merged_stocks_etfs.parquet` <span style='color:#00ffff'>(0.85 MB, 2025-05-14 11:35)</span>"
      ],
      "text/plain": [
       "<IPython.core.display.Markdown object>"
      ]
     },
     "metadata": {},
     "output_type": "display_data"
    },
    {
     "data": {
      "text/markdown": [
       "- (3) `[DATA]` `2025-04-28_df_finviz_n_ratios_stocks_etfs.parquet` <span style='color:#00ffff'>(0.83 MB, 2025-05-14 11:35)</span>"
      ],
      "text/plain": [
       "<IPython.core.display.Markdown object>"
      ]
     },
     "metadata": {},
     "output_type": "display_data"
    },
    {
     "data": {
      "text/markdown": [
       "- (4) `[DATA]` `2025-04-28_df_finviz_stocks_etfs.parquet` <span style='color:#00ffff'>(0.53 MB, 2025-05-14 11:32)</span>"
      ],
      "text/plain": [
       "<IPython.core.display.Markdown object>"
      ]
     },
     "metadata": {},
     "output_type": "display_data"
    },
    {
     "data": {
      "text/markdown": [
       "- (5) `[DATA]` `2025-04-28_df_perf_ratios_stocks_etfs.parquet` <span style='color:#00ffff'>(0.32 MB, 2025-05-14 11:34)</span>"
      ],
      "text/plain": [
       "<IPython.core.display.Markdown object>"
      ]
     },
     "metadata": {},
     "output_type": "display_data"
    },
    {
     "name": "stdout",
     "output_type": "stream",
     "text": [
      "\n",
      "Input a number to select file (1-5)\n"
     ]
    },
    {
     "data": {
      "text/markdown": [
       "\n",
       "    **Selected paths:**\n",
       "    - Source: `c:\\Users\\ping\\Files_win10\\python\\py311\\stocks\\data\\2025-04-28_df_common_tickers_stocks_etfs.parquet`\n",
       "    - Destination: `c:\\Users\\ping\\Files_win10\\python\\py311\\stocks\\data\\2025-04-28_df_common_tickers_stocks_etfs_clean.parquet`\n",
       "    "
      ],
      "text/plain": [
       "<IPython.core.display.Markdown object>"
      ]
     },
     "metadata": {},
     "output_type": "display_data"
    },
    {
     "name": "stdout",
     "output_type": "stream",
     "text": [
      "path_OHLCV: c:\\Users\\ping\\Files_win10\\python\\py311\\stocks\\data\\2025-04-28_df_common_tickers_stocks_etfs.parquet\n",
      "df_OHLCV:\n",
      "Empty DataFrame\n",
      "Columns: []\n",
      "Index: [AAPL, MSFT, NVDA, AMZN, GOOGL]\n",
      "\n",
      "df_OHLCV.info():\n",
      "<class 'pandas.core.frame.DataFrame'>\n",
      "Index: 1522 entries, AAPL to FELG\n",
      "Empty DataFrame\n"
     ]
    }
   ],
   "source": [
    "# Use the DATA_DIR variable defined in the setup cell\n",
    "path_OHLCV, _, dir_list = utils.main_processor(\n",
    "    data_dir=DATA_DIR,  # <-- Use the absolute path variable\n",
    "    downloads_dir=None,\n",
    "    downloads_limit=60,\n",
    "    clean_name_override=None,\n",
    "    # start_file_pattern='2025-04-25',\n",
    "    start_file_pattern='2025-04-28',    \n",
    "    contains_pattern=''\n",
    ")\n",
    "\n",
    "print(f'path_OHLCV: {path_OHLCV}')\n",
    "df_OHLCV = pd.read_parquet(path_OHLCV)\n",
    "print(f'df_OHLCV:\\n{df_OHLCV.head()}\\n')\n",
    "\n",
    "# The .info() method prints to stdout directly, so no need for an f-string\n",
    "print('df_OHLCV.info():')\n",
    "df_OHLCV.info()"
   ]
  },
  {
   "cell_type": "code",
   "execution_count": 12,
   "metadata": {},
   "outputs": [
    {
     "data": {
      "text/plain": [
       "['2025-04-28_df_common_tickers_stocks_etfs.parquet',\n",
       " '2025-04-28_df_finviz_merged_stocks_etfs.parquet',\n",
       " '2025-04-28_df_finviz_n_ratios_stocks_etfs.parquet',\n",
       " '2025-04-28_df_finviz_stocks_etfs.parquet',\n",
       " '2025-04-28_df_perf_ratios_stocks_etfs.parquet']"
      ]
     },
     "execution_count": 12,
     "metadata": {},
     "output_type": "execute_result"
    }
   ],
   "source": [
    "dir_list"
   ]
  },
  {
   "cell_type": "code",
   "execution_count": 13,
   "metadata": {},
   "outputs": [
    {
     "name": "stdout",
     "output_type": "stream",
     "text": [
      "2025-04-28_df_common_tickers_stocks_etfs.parquet colums:\n",
      "[]\n",
      "==========================\n",
      "2025-04-28_df_finviz_merged_stocks_etfs.parquet colums:\n",
      "['No.', 'Company', 'Index', 'Sector', 'Industry', 'Country', 'Exchange', 'Info', 'MktCap AUM, M', 'Rank', 'Market Cap, M', 'P/E', 'Fwd P/E', 'PEG', 'P/S', 'P/B', 'P/C', 'P/FCF', 'Book/sh', 'Cash/sh', 'Dividend %', 'Dividend TTM', 'Dividend Ex Date', 'Payout Ratio %', 'EPS', 'EPS next Q', 'EPS this Y %', 'EPS next Y %', 'EPS past 5Y %', 'EPS next 5Y %', 'Sales past 5Y %', 'Sales Q/Q %', 'EPS Q/Q %', 'EPS YoY TTM %', 'Sales YoY TTM %', 'Sales, M', 'Income, M', 'EPS Surprise %', 'Revenue Surprise %', 'Outstanding, M', 'Float, M', 'Float %', 'Insider Own %', 'Insider Trans %', 'Inst Own %', 'Inst Trans %', 'Short Float %', 'Short Ratio', 'Short Interest, M', 'ROA %', 'ROE %', 'ROI %', 'Curr R', 'Quick R', 'LTDebt/Eq', 'Debt/Eq', 'Gross M %', 'Oper M %', 'Profit M %', 'Perf 3D %', 'Perf Week %', 'Perf Month %', 'Perf Quart %', 'Perf Half %', 'Perf Year %', 'Perf YTD %', 'Beta', 'ATR', 'ATR/Price %', 'Volatility W %', 'Volatility M %', 'SMA20 %', 'SMA50 %', 'SMA200 %', '50D High %', '50D Low %', '52W High %', '52W Low %', '52W Range', 'All-Time High %', 'All-Time Low %', 'RSI', 'Earnings', 'IPO Date', 'Optionable', 'Shortable', 'Employees', 'Change from Open %', 'Gap %', 'Recom', 'Avg Volume, M', 'Rel Volume', 'Volume', 'Target Price', 'Prev Close', 'Open', 'High', 'Low', 'Price', 'Change %', 'Single Category', 'Asset Type', 'Expense %', 'Holdings', 'AUM, M', 'Flows 1M, M', 'Flows% 1M', 'Flows 3M, M', 'Flows% 3M', 'Flows YTD, M', 'Flows% YTD', 'Return% 1Y', 'Return% 3Y', 'Return% 5Y', 'Tags', 'Sharpe 3d', 'Sortino 3d', 'Omega 3d', 'Sharpe 5d', 'Sortino 5d', 'Omega 5d', 'Sharpe 10d', 'Sortino 10d', 'Omega 10d', 'Sharpe 15d', 'Sortino 15d', 'Omega 15d', 'Sharpe 30d', 'Sortino 30d', 'Omega 30d', 'Sharpe 60d', 'Sortino 60d', 'Omega 60d', 'Sharpe 120d', 'Sortino 120d', 'Omega 120d', 'Sharpe 250d', 'Sortino 250d', 'Omega 250d']\n",
      "==========================\n",
      "2025-04-28_df_finviz_n_ratios_stocks_etfs.parquet colums:\n",
      "['No.', 'Company', 'Index', 'Sector', 'Industry', 'Country', 'Exchange', 'Market Cap, M', 'P/E', 'Fwd P/E', 'PEG', 'P/S', 'P/B', 'P/C', 'P/FCF', 'Book/sh', 'Cash/sh', 'Dividend %', 'Dividend TTM', 'Dividend Ex Date', 'Payout Ratio %', 'EPS', 'EPS next Q', 'EPS this Y %', 'EPS next Y %', 'EPS past 5Y %', 'EPS next 5Y %', 'Sales past 5Y %', 'Sales Q/Q %', 'EPS Q/Q %', 'EPS YoY TTM %', 'Sales YoY TTM %', 'Sales, M', 'Income, M', 'EPS Surprise %', 'Revenue Surprise %', 'Outstanding, M', 'Float, M', 'Float %', 'Insider Own %', 'Insider Trans %', 'Inst Own %', 'Inst Trans %', 'Short Float %', 'Short Ratio', 'Short Interest, M', 'ROA %', 'ROE %', 'ROI %', 'Curr R', 'Quick R', 'LTDebt/Eq', 'Debt/Eq', 'Gross M %', 'Oper M %', 'Profit M %', 'Perf Week %', 'Perf Month %', 'Perf Quart %', 'Perf Half %', 'Perf Year %', 'Perf YTD %', 'Beta', 'ATR', 'Volatility W %', 'Volatility M %', 'SMA20 %', 'SMA50 %', 'SMA200 %', '50D High %', '50D Low %', '52W High %', '52W Low %', '52W Range', 'All-Time High %', 'All-Time Low %', 'RSI', 'Earnings', 'IPO Date', 'Optionable', 'Shortable', 'Employees', 'Change from Open %', 'Gap %', 'Recom', 'Avg Volume, M', 'Rel Volume', 'Volume', 'Target Price', 'Prev Close', 'Open', 'High', 'Low', 'Price', 'Change %', 'Single Category', 'Asset Type', 'Expense %', 'Holdings', 'AUM, M', 'Flows 1M, M', 'Flows% 1M', 'Flows 3M, M', 'Flows% 3M', 'Flows YTD, M', 'Flows% YTD', 'Return% 1Y', 'Return% 3Y', 'Return% 5Y', 'Tags', 'Info', 'MktCap AUM, M', 'Rank', 'Sharpe 3d', 'Sortino 3d', 'Omega 3d', 'Sharpe 5d', 'Sortino 5d', 'Omega 5d', 'Sharpe 10d', 'Sortino 10d', 'Omega 10d', 'Sharpe 15d', 'Sortino 15d', 'Omega 15d', 'Sharpe 30d', 'Sortino 30d', 'Omega 30d', 'Sharpe 60d', 'Sortino 60d', 'Omega 60d', 'Sharpe 120d', 'Sortino 120d', 'Omega 120d', 'Sharpe 250d', 'Sortino 250d', 'Omega 250d']\n",
      "==========================\n",
      "2025-04-28_df_finviz_stocks_etfs.parquet colums:\n",
      "['No.', 'Company', 'Index', 'Sector', 'Industry', 'Country', 'Exchange', 'Market Cap, M', 'P/E', 'Fwd P/E', 'PEG', 'P/S', 'P/B', 'P/C', 'P/FCF', 'Book/sh', 'Cash/sh', 'Dividend %', 'Dividend TTM', 'Dividend Ex Date', 'Payout Ratio %', 'EPS', 'EPS next Q', 'EPS this Y %', 'EPS next Y %', 'EPS past 5Y %', 'EPS next 5Y %', 'Sales past 5Y %', 'Sales Q/Q %', 'EPS Q/Q %', 'EPS YoY TTM %', 'Sales YoY TTM %', 'Sales, M', 'Income, M', 'EPS Surprise %', 'Revenue Surprise %', 'Outstanding, M', 'Float, M', 'Float %', 'Insider Own %', 'Insider Trans %', 'Inst Own %', 'Inst Trans %', 'Short Float %', 'Short Ratio', 'Short Interest, M', 'ROA %', 'ROE %', 'ROI %', 'Curr R', 'Quick R', 'LTDebt/Eq', 'Debt/Eq', 'Gross M %', 'Oper M %', 'Profit M %', 'Perf Week %', 'Perf Month %', 'Perf Quart %', 'Perf Half %', 'Perf Year %', 'Perf YTD %', 'Beta', 'ATR', 'Volatility W %', 'Volatility M %', 'SMA20 %', 'SMA50 %', 'SMA200 %', '50D High %', '50D Low %', '52W High %', '52W Low %', '52W Range', 'All-Time High %', 'All-Time Low %', 'RSI', 'Earnings', 'IPO Date', 'Optionable', 'Shortable', 'Employees', 'Change from Open %', 'Gap %', 'Recom', 'Avg Volume, M', 'Rel Volume', 'Volume', 'Target Price', 'Prev Close', 'Open', 'High', 'Low', 'Price', 'Change %', 'Single Category', 'Asset Type', 'Expense %', 'Holdings', 'AUM, M', 'Flows 1M, M', 'Flows% 1M', 'Flows 3M, M', 'Flows% 3M', 'Flows YTD, M', 'Flows% YTD', 'Return% 1Y', 'Return% 3Y', 'Return% 5Y', 'Tags', 'Info', 'MktCap AUM, M', 'Rank']\n",
      "==========================\n",
      "2025-04-28_df_perf_ratios_stocks_etfs.parquet colums:\n",
      "['Sharpe 3d', 'Sortino 3d', 'Omega 3d', 'Sharpe 5d', 'Sortino 5d', 'Omega 5d', 'Sharpe 10d', 'Sortino 10d', 'Omega 10d', 'Sharpe 15d', 'Sortino 15d', 'Omega 15d', 'Sharpe 30d', 'Sortino 30d', 'Omega 30d', 'Sharpe 60d', 'Sortino 60d', 'Omega 60d', 'Sharpe 120d', 'Sortino 120d', 'Omega 120d', 'Sharpe 250d', 'Sortino 250d', 'Omega 250d']\n",
      "==========================\n"
     ]
    }
   ],
   "source": [
    "for file in dir_list:\n",
    "    df = pd.read_parquet(DATA_DIR / file)\n",
    "    print(f'{file} colums:\\n{df.columns.tolist()}')\n",
    "    print('==========================')\n"
   ]
  },
  {
   "cell_type": "markdown",
   "metadata": {},
   "source": [
    "'ROI %' change to 'ROIC %'"
   ]
  },
  {
   "cell_type": "code",
   "execution_count": null,
   "metadata": {},
   "outputs": [],
   "source": []
  },
  {
   "cell_type": "code",
   "execution_count": 15,
   "metadata": {},
   "outputs": [
    {
     "data": {
      "text/html": [
       "<div>\n",
       "<style scoped>\n",
       "    .dataframe tbody tr th:only-of-type {\n",
       "        vertical-align: middle;\n",
       "    }\n",
       "\n",
       "    .dataframe tbody tr th {\n",
       "        vertical-align: top;\n",
       "    }\n",
       "\n",
       "    .dataframe thead th {\n",
       "        text-align: right;\n",
       "    }\n",
       "</style>\n",
       "<table border=\"1\" class=\"dataframe\">\n",
       "  <thead>\n",
       "    <tr style=\"text-align: right;\">\n",
       "      <th></th>\n",
       "    </tr>\n",
       "  </thead>\n",
       "  <tbody>\n",
       "    <tr>\n",
       "      <th>AAPL</th>\n",
       "    </tr>\n",
       "    <tr>\n",
       "      <th>MSFT</th>\n",
       "    </tr>\n",
       "    <tr>\n",
       "      <th>NVDA</th>\n",
       "    </tr>\n",
       "    <tr>\n",
       "      <th>AMZN</th>\n",
       "    </tr>\n",
       "    <tr>\n",
       "      <th>GOOGL</th>\n",
       "    </tr>\n",
       "    <tr>\n",
       "      <th>...</th>\n",
       "    </tr>\n",
       "    <tr>\n",
       "      <th>JAVA</th>\n",
       "    </tr>\n",
       "    <tr>\n",
       "      <th>AIRR</th>\n",
       "    </tr>\n",
       "    <tr>\n",
       "      <th>TFI</th>\n",
       "    </tr>\n",
       "    <tr>\n",
       "      <th>PAAA</th>\n",
       "    </tr>\n",
       "    <tr>\n",
       "      <th>FELG</th>\n",
       "    </tr>\n",
       "  </tbody>\n",
       "</table>\n",
       "<p>1522 rows × 0 columns</p>\n",
       "</div>"
      ],
      "text/plain": [
       "Empty DataFrame\n",
       "Columns: []\n",
       "Index: [AAPL, MSFT, NVDA, AMZN, GOOGL, GOOG, META, BRK-A, BRK-B, TSLA, AVGO, TSM, LLY, WMT, JPM, V, VOO, SPY, IVV, MA, NFLX, XOM, VTI, COST, ORCL, UNH, PG, JNJ, HD, ABBV, SAP, KO, BAC, QQQ, BABA, PLTR, TMUS, ASML, PM, CRM, TM, CVX, MCD, WFC, CSCO, ABT, IBM, AZN, GE, NVS, LIN, NVO, MRK, HSBC, SHEL, T, NOW, MS, AXP, ISRG, ACN, PEP, HDB, VZ, INTU, GS, RY, RTX, UBER, QCOM, DIS, BX, BKNG, TMO, UL, PGR, ADBE, AMD, SONY, AMGN, BSX, SPGI, SCHW, VUG, VEA, TXN, CAT, MUFG, PDD, TJX, BLK, DHR, SYK, BA, NEE, GILD, IEFA, PFE, SNY, HON, ...]\n",
       "\n",
       "[1522 rows x 0 columns]"
      ]
     },
     "execution_count": 15,
     "metadata": {},
     "output_type": "execute_result"
    }
   ],
   "source": [
    "df = pd.read_parquet(DATA_DIR / dir_list[0])\n",
    "df"
   ]
  },
  {
   "cell_type": "code",
   "execution_count": null,
   "metadata": {},
   "outputs": [],
   "source": []
  },
  {
   "cell_type": "code",
   "execution_count": null,
   "metadata": {},
   "outputs": [],
   "source": []
  },
  {
   "cell_type": "code",
   "execution_count": null,
   "metadata": {},
   "outputs": [],
   "source": []
  },
  {
   "cell_type": "code",
   "execution_count": null,
   "metadata": {},
   "outputs": [],
   "source": []
  }
 ],
 "metadata": {
  "kernelspec": {
   "display_name": ".venv",
   "language": "python",
   "name": "python3"
  },
  "language_info": {
   "codemirror_mode": {
    "name": "ipython",
    "version": 3
   },
   "file_extension": ".py",
   "mimetype": "text/x-python",
   "name": "python",
   "nbconvert_exporter": "python",
   "pygments_lexer": "ipython3",
   "version": "3.11.9"
  }
 },
 "nbformat": 4,
 "nbformat_minor": 2
}
