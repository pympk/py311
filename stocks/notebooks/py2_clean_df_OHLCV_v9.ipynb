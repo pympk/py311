{
 "cells": [
  {
   "cell_type": "code",
   "execution_count": null,
   "metadata": {},
   "outputs": [],
   "source": []
  },
  {
   "cell_type": "markdown",
   "metadata": {},
   "source": [
    "#### Read OHLCV data from source_path\n",
    "#### Use VOO's date index as a reference for dates\n",
    "#### Filters out symbol's date index not matching VOO's date index\n",
    "#### Filters out symbols from a MultiIndex DataFrame that have:\n",
    "    1. Any missing values in any columns\n",
    "    2. Missing any dates present in the original DataFrame's date index\n",
    "#### Save dataframe to dest_path    "
   ]
  },
  {
   "cell_type": "code",
   "execution_count": 23,
   "metadata": {},
   "outputs": [],
   "source": [
    "import pandas as pd\n",
    "\n",
    "# Set pandas display options to show more columns and rows\n",
    "pd.set_option('display.max_columns', None)  # Show all columns\n",
    "# pd.set_option('display.max_rows', 10)       # Limit to 10 rows for readability\n",
    "pd.set_option('display.width', 2000)        # Let the display adjust to the window\n"
   ]
  },
  {
   "cell_type": "code",
   "execution_count": 24,
   "metadata": {},
   "outputs": [
    {
     "name": "stdout",
     "output_type": "stream",
     "text": [
      "source_path: ../data/df_OHLCV_stocks_etfs.parquet\n",
      "dest_path: ../data/df_OHLCV_clean_stocks_etfs.parquet\n"
     ]
    }
   ],
   "source": [
    "source_path = r'../data/df_OHLCV_stocks_etfs.parquet'\n",
    "dest_path = r'../data/df_OHLCV_clean_stocks_etfs.parquet'\n",
    "\n",
    "print(F'source_path: {source_path}')\n",
    "print(F'dest_path: {dest_path}')"
   ]
  },
  {
   "cell_type": "code",
   "execution_count": 25,
   "metadata": {},
   "outputs": [
    {
     "name": "stdout",
     "output_type": "stream",
     "text": [
      "df_raw.head(3):\n",
      "                   Adj Open  Adj High  Adj Low  Adj Close   Volume\n",
      "Ticker Date                                                       \n",
      "A      2025-05-09    108.96    109.86   106.80     106.93  1124390\n",
      "       2025-05-08    108.00    110.65   106.55     108.70  2093300\n",
      "       2025-05-07    106.69    107.60   104.79     107.52  2143700\n",
      "\n",
      "\n",
      "df_raw.tail(3):\n",
      "                   Adj Open  Adj High  Adj Low  Adj Close   Volume\n",
      "Ticker Date                                                       \n",
      "ZWS    2024-02-05   30.2039   31.2311  30.1348    30.8064  2476154\n",
      "       2024-02-02   29.5816   30.5397  29.5421    30.4805  1078362\n",
      "       2024-02-01   29.6113   30.1446  29.3347    29.8878   981876\n",
      "\n",
      "<class 'pandas.core.frame.DataFrame'>\n",
      "MultiIndex: 498420 entries, ('A', Timestamp('2025-05-09 00:00:00')) to ('ZWS', Timestamp('2024-02-01 00:00:00'))\n",
      "Data columns (total 5 columns):\n",
      " #   Column     Non-Null Count   Dtype  \n",
      "---  ------     --------------   -----  \n",
      " 0   Adj Open   498420 non-null  float64\n",
      " 1   Adj High   498420 non-null  float64\n",
      " 2   Adj Low    498420 non-null  float64\n",
      " 3   Adj Close  498420 non-null  float64\n",
      " 4   Volume     498420 non-null  int64  \n",
      "dtypes: float64(4), int64(1)\n",
      "memory usage: 21.0+ MB\n",
      "\n",
      "df_raw.info():\n",
      "None\n",
      "\n",
      "Number of tickers in df_raw data: 1573\n"
     ]
    }
   ],
   "source": [
    "# --- Data Loading & Initial Inspection ---\n",
    "import pandas as pd\n",
    "\n",
    "# # Load raw data from pickle file\n",
    "df_raw = pd.read_parquet(source_path, engine='pyarrow')\n",
    "raw_ticker_count = len(df_raw.index.get_level_values(0).unique().tolist())\n",
    "\n",
    "# Display initial data structure\n",
    "print(f'df_raw.head(3):\\n{df_raw.head(3)}\\n')\n",
    "print(f'\\ndf_raw.tail(3):\\n{df_raw.tail(3)}\\n')\n",
    "print(f'\\ndf_raw.info():\\n{df_raw.info()}')\n",
    "print(f\"\\nNumber of tickers in df_raw data: {raw_ticker_count}\")"
   ]
  },
  {
   "cell_type": "code",
   "execution_count": 26,
   "metadata": {},
   "outputs": [
    {
     "name": "stdout",
     "output_type": "stream",
     "text": [
      "unique_symbols: ['A', 'AA', 'AAL', 'AAON', 'AAPL', 'ABBV', 'ABEV', 'ABNB', 'ABT', 'ACGL', 'ACI', 'ACIW', 'ACM', 'ACN', 'ACWI', 'ACWV', 'ACWX', 'ADBE', 'ADC', 'ADI', 'ADM', 'ADMA', 'ADP', 'ADSK', 'ADT', 'AEE', 'AEG', 'AEM', 'AEP', 'AER', 'AES', 'AFG', 'AFL', 'AFRM', 'AGCO', 'AGG', 'AGI', 'AGNC', 'AIG', 'AIRR', 'AIT', 'AIZ', 'AJG', 'AKAM', 'AL', 'ALAB', 'ALB', 'ALC', 'ALGN', 'ALK', 'ALL', 'ALLE', 'ALLY', 'ALNY', 'ALSN', 'ALV', 'AM', 'AMAT', 'AMCR', 'AMD', 'AME', 'AMGN', 'AMH', 'AMLP', 'AMP', 'AMT', 'AMX', 'AMZN', 'AN', 'ANET', 'ANSS', 'AON', 'AOS', 'APA', 'APD', 'APG', 'APH', 'APO', 'APP', 'APPF', 'APTV', 'AR', 'ARCC', 'ARE', 'ARES', 'ARGX', 'ARKB', 'ARKK', 'ARM', 'ARMK', 'ARW', 'AS', 'ASML', 'ASND', 'ASR', 'ASTS', 'ASX', 'ATI', 'ATO', 'ATR', 'AU', 'AUR', 'AVAV', 'AVB', 'AVDE', 'AVDV', 'AVEM', 'AVGO', 'AVLV', 'AVTR', 'AVUS', 'AVUV', 'AVY', 'AWI', 'AWK', 'AXON', 'AXP', 'AXS', 'AXTA', 'AYI', 'AZEK', 'AZN', 'AZO', 'BA', 'BABA', 'BAC', 'BAH', 'BALL', 'BAM', 'BAP', 'BAX', 'BBAX', 'BBCA', 'BBD', 'BBEU', 'BBIN', 'BBIO', 'BBJP', 'BBUS', 'BBVA', 'BBWI', 'BBY', 'BCE', 'BCH', 'BCS', 'BDX', 'BEKE', 'BEN', 'BEP', 'BF-A', 'BF-B', 'BFAM', 'BG', 'BHP', 'BIDU', 'BIIB', 'BIL', 'BILI', 'BILS', 'BINC', 'BIO', 'BIP', 'BIRK', 'BITB', 'BIV', 'BJ', 'BK', 'BKLN', 'BKNG', 'BKR', 'BLD', 'BLDR', 'BLK', 'BLV', 'BMI', 'BMO', 'BMRN', 'BMY', 'BN', 'BND', 'BNDX', 'BNS', 'BNT', 'BNTX', 'BOKF', 'BOND', 'BOXX', 'BP', 'BPMC', 'BPOP', 'BR', 'BRBR', 'BRFS', 'BRK-A', 'BRK-B', 'BRKR', 'BRO', 'BROS', 'BRX', 'BSAC', 'BSBR', 'BSCP', 'BSCQ', 'BSCR', 'BSV', 'BSX', 'BSY', 'BTC', 'BTI', 'BUD', 'BUFR', 'BULL', 'BURL', 'BWA', 'BWXT', 'BX', 'BXP', 'BXSL', 'BYD', 'BZ', 'C', 'CACC', 'CACI', 'CAE', 'CAG', 'CAH', 'CALF', 'CARR', 'CART', 'CASY', 'CAT', 'CAVA', 'CB', 'CBOE', 'CBRE', 'CBSH', 'CCCS', 'CCEP', 'CCI', 'CCJ', 'CCK', 'CCL', 'CDNS', 'CDP', 'CDW', 'CEF', 'CEG', 'CELH', 'CF', 'CFG', 'CFLT', 'CFR', 'CG', 'CGCP', 'CGDV', 'CGGO', 'CGGR', 'CGUS', 'CGXU', 'CHD', 'CHDN', 'CHE', 'CHH', 'CHKP', 'CHRW', 'CHT', 'CHTR', 'CHWY', 'CI', 'CIBR', 'CIEN', 'CIGI', 'CINF', 'CL', 'CLH', 'CLS', 'CLX', 'CM', 'CMA', 'CMCSA', 'CME', 'CMF', 'CMG', 'CMI', 'CMS', 'CNA', 'CNC', 'CNH', 'CNI', 'CNM', 'CNP', 'CNQ', 'COF', 'COHR', 'COIN', 'COKE', 'COO', 'COOP', 'COP', 'COR', 'CORT', 'COST', 'COWZ', 'CP', 'CPAY', 'CPB', 'CPNG', 'CPRT', 'CPT', 'CQP', 'CR', 'CRBG', 'CRDO', 'CRH', 'CRK', 'CRL', 'CRM', 'CROX', 'CRS', 'CRVL', 'CRWD', 'CRWV', 'CSCO', 'CSGP', 'CSL', 'CSX', 'CTAS', 'CTRA', 'CTRE', 'CTSH', 'CTVA', 'CUBE', 'CVE', 'CVLT', 'CVNA', 'CVS', 'CVX', 'CW', 'CWAN', 'CWB', 'CWEN', 'CWEN-A', 'CWST', 'CX', 'CYBR', 'CZR', 'D', 'DAL', 'DASH', 'DAY', 'DB', 'DBEF', 'DBX', 'DCI', 'DD', 'DDOG', 'DDS', 'DE', 'DECK', 'DELL', 'DEO', 'DFAC', 'DFAE', 'DFAI', 'DFAS', 'DFAT', 'DFAU', 'DFAX', 'DFCF', 'DFEM', 'DFIC', 'DFIV', 'DFLV', 'DFS', 'DFSD', 'DFSV', 'DFUS', 'DFUV', 'DG', 'DGRO', 'DGRW', 'DGX', 'DHI', 'DHR', 'DIA', 'DIHP', 'DINO', 'DIS', 'DIVO', 'DKNG', 'DKS', 'DLB', 'DLN', 'DLR', 'DLTR', 'DOC', 'DOCS', 'DOCU', 'DON', 'DOV', 'DOW', 'DOX', 'DPZ', 'DRI', 'DRS', 'DSGX', 'DSI', 'DT', 'DTE', 'DTM', 'DUHP', 'DUK', 'DUOL', 'DVA', 'DVN', 'DVY', 'DXCM', 'DXJ', 'DYNF', 'E', 'EA', 'EAGG', 'EAT', 'EBAY', 'EBR', 'EC', 'ECL', 'ED', 'EDU', 'EDV', 'EEM', 'EEMV', 'EFA', 'EFAV', 'EFG', 'EFV', 'EFX', 'EG', 'EGP', 'EHC', 'EIX', 'EL', 'ELAN', 'ELS', 'ELV', 'EMB', 'EME', 'EMLP', 'EMN', 'EMR', 'EMXC', 'ENB', 'ENPH', 'ENSG', 'ENTG', 'EOG', 'EPAM', 'EPD', 'EPRT', 'EQH', 'EQIX', 'EQNR', 'EQR', 'EQT', 'ERIC', 'ERIE', 'ERJ', 'ES', 'ESAB', 'ESGD', 'ESGE', 'ESGU', 'ESGV', 'ESLT', 'ESNT', 'ESS', 'ESTC', 'ET', 'ETN', 'ETR', 'EUFN', 'EVR', 'EVRG', 'EW', 'EWBC', 'EWJ', 'EWT', 'EWU', 'EWZ', 'EXAS', 'EXC', 'EXE', 'EXEL', 'EXLS', 'EXP', 'EXPD', 'EXPE', 'EXR', 'EZU', 'F', 'FAF', 'FANG', 'FAST', 'FBCG', 'FBIN', 'FBND', 'FBTC', 'FCFS', 'FCN', 'FCNCA', 'FCX', 'FDL', 'FDN', 'FDS', 'FDVV', 'FDX', 'FE', 'FELC', 'FELG', 'FER', 'FERG', 'FEZ', 'FFIV', 'FHN', 'FI', 'FICO', 'FIS', 'FITB', 'FIX', 'FIXD', 'FLEX', 'FLOT', 'FLR', 'FLS', 'FLUT', 'FMS', 'FMX', 'FN', 'FND', 'FNDA', 'FNDE', 'FNDF', 'FNDX', 'FNF', 'FNGA', 'FNV', 'FOUR', 'FOX', 'FOXA', 'FPE', 'FR', 'FRHC', 'FRT', 'FSEC', 'FSLR', 'FSV', 'FTAI', 'FTCS', 'FTEC', 'FTI', 'FTNT', 'FTS', 'FTSM', 'FTV', 'FUTU', 'FV', 'FVD', 'FWONA', 'FWONK', 'FXI', 'FYBR', 'G', 'GAP', 'GBIL', 'GBTC', 'GD', 'GDDY', 'GDX', 'GDXJ', 'GE', 'GEHC', 'GEN', 'GEV', 'GFI', 'GFL', 'GFS', 'GGAL', 'GGG', 'GIB', 'GIL', 'GILD', 'GIS', 'GL', 'GLBE', 'GLD', 'GLDM', 'GLOB', 'GLPI', 'GLW', 'GM', 'GMAB', 'GME', 'GMED', 'GNRC', 'GOLD', 'GOOG', 'GOOGL', 'GOVT', 'GPC', 'GPK', 'GPN', 'GRAB', 'GRMN', 'GS', 'GSIE', 'GSK', 'GSLC', 'GTLB', 'GTLS', 'GUNR', 'GVI', 'GWRE', 'GWW', 'H', 'HAL', 'HALO', 'HAS', 'HBAN', 'HCA', 'HD', 'HDB', 'HDV', 'HEFA', 'HEI', 'HEI-A', 'HES', 'HESM', 'HIG', 'HII', 'HIMS', 'HLI', 'HLN', 'HLNE', 'HLT', 'HMC', 'HMY', 'HOLX', 'HOMB', 'HON', 'HOOD', 'HPE', 'HPQ', 'HQY', 'HRB', 'HRL', 'HSBC', 'HSIC', 'HST', 'HSY', 'HTHT', 'HUBB', 'HUBS', 'HUM', 'HWM', 'HYD', 'HYG', 'HYLB', 'IAGG', 'IAU', 'IBB', 'IBDR', 'IBIT', 'IBKR', 'IBM', 'IBN', 'ICE', 'ICL', 'ICLR', 'ICSH', 'IDA', 'IDEV', 'IDV', 'IDXX', 'IEF', 'IEFA', 'IEI', 'IEMG', 'IEUR', 'IEX', 'IFF', 'IGF', 'IGIB', 'IGM', 'IGSB', 'IGV', 'IHG', 'IHI', 'IJH', 'IJJ', 'IJK', 'IJR', 'IJS', 'IJT', 'ILMN', 'IMO', 'INCY', 'INDA', 'INFA', 'INFY', 'ING', 'INGR', 'INSM', 'INTC', 'INTU', 'INVH', 'IONQ', 'IOO', 'IOT', 'IP', 'IPG', 'IQLT', 'IQV', 'IR', 'IRM', 'ISRG', 'ISTB', 'IT', 'ITA', 'ITOT', 'ITT', 'ITUB', 'ITW', 'IUSB', 'IUSG', 'IUSV', 'IVE', 'IVV', 'IVW', 'IVZ', 'IWB', 'IWD', 'IWF', 'IWM', 'IWN', 'IWO', 'IWP', 'IWR', 'IWS', 'IWV', 'IWY', 'IX', 'IXJ', 'IXN', 'IXUS', 'IYF', 'IYR', 'IYW', 'J', 'JAAA', 'JAVA', 'JAZZ', 'JBHT', 'JBL', 'JBTM', 'JCI', 'JCPB', 'JD', 'JEF', 'JEPI', 'JEPQ', 'JGLO', 'JGRO', 'JHG', 'JHMM', 'JHX', 'JIRE', 'JKHY', 'JLL', 'JMBS', 'JMST', 'JNJ', 'JNK', 'JNPR', 'JPIE', 'JPM', 'JPST', 'JQUA', 'JXN', 'K', 'KB', 'KBR', 'KBWB', 'KD', 'KDP', 'KEP', 'KEX', 'KEY', 'KEYS', 'KGC', 'KHC', 'KIM', 'KKR', 'KLAC', 'KMB', 'KMI', 'KMX', 'KNG', 'KNSL', 'KNTK', 'KNX', 'KO', 'KR', 'KRC', 'KRE', 'KSPI', 'KT', 'KVUE', 'KVYO', 'KWEB', 'L', 'LAD', 'LAMR', 'LB', 'LBRDA', 'LBRDK', 'LCID', 'LDOS', 'LECO', 'LEGN', 'LEN', 'LEVI', 'LH', 'LHX', 'LI', 'LII', 'LIN', 'LINE', 'LKQ', 'LLY', 'LLYVA', 'LLYVK', 'LMBS', 'LMT', 'LNC', 'LNG', 'LNT', 'LNTH', 'LNW', 'LOAR', 'LOGI', 'LOW', 'LPLA', 'LPX', 'LQD', 'LRCX', 'LRN', 'LSCC', 'LTH', 'LTM', 'LULU', 'LUV', 'LVS', 'LW', 'LYB', 'LYFT', 'LYG', 'LYV', 'MA', 'MAA', 'MANH', 'MAR', 'MAS', 'MASI', 'MAT', 'MBB', 'MBLY', 'MCD', 'MCHI', 'MCHP', 'MCK', 'MCO', 'MDB', 'MDGL', 'MDLZ', 'MDT', 'MDY', 'MEDP', 'MELI', 'MET', 'META', 'MFC', 'MFG', 'MGA', 'MGC', 'MGK', 'MGM', 'MGV', 'MHK', 'MIDD', 'MINT', 'MKC', 'MKL', 'MKTX', 'MLI', 'MLM', 'MMC', 'MMM', 'MMSI', 'MMYT', 'MNDY', 'MNSO', 'MNST', 'MO', 'MOAT', 'MOG-A', 'MOH', 'MORN', 'MOS', 'MPC', 'MPLX', 'MPWR', 'MRK', 'MRNA', 'MRVL', 'MS', 'MSA', 'MSCI', 'MSFT', 'MSI', 'MSTR', 'MSTY', 'MT', 'MTB', 'MTCH', 'MTD', 'MTG', 'MTSI', 'MTUM', 'MTZ', 'MU', 'MUB', 'MUFG', 'MUSA', 'NBIS', 'NBIX', 'NCLH', 'NDAQ', 'NDSN', 'NEAR', 'NEE', 'NEM', 'NET', 'NEU', 'NFG', 'NFLX', 'NGG', 'NI', 'NICE', 'NIO', 'NKE', 'NLY', 'NMR', 'NNN', 'NOBL', 'NOC', 'NOK', 'NOW', 'NRG', 'NSC', 'NTAP', 'NTES', 'NTNX', 'NTR', 'NTRA', 'NTRS', 'NU', 'NUE', 'NVDA', 'NVDL', 'NVMI', 'NVO', 'NVR', 'NVS', 'NVT', 'NWG', 'NWS', 'NWSA', 'NXPI', 'NXT', 'NYT', 'O', 'OBDC', 'OC', 'ODFL', 'OEF', 'OGE', 'OHI', 'OKE', 'OKTA', 'OLED', 'OLLI', 'OMC', 'OMF', 'OMFL', 'ON', 'ONB', 'ONC', 'ONEQ', 'ONON', 'ONTO', 'ORCL', 'ORI', 'ORLY', 'OS', 'OSK', 'OTEX', 'OTIS', 'OVV', 'OWL', 'OXY', 'PAA', 'PAAA', 'PAAS', 'PAC', 'PAG', 'PAGP', 'PANW', 'PARA', 'PATH', 'PAVE', 'PAYC', 'PAYX', 'PB', 'PBA', 'PBR', 'PBR-A', 'PBUS', 'PCAR', 'PCOR', 'PCTY', 'PDBC', 'PDD', 'PDI', 'PEG', 'PEGA', 'PEN', 'PEP', 'PFE', 'PFF', 'PFG', 'PFGC', 'PG', 'PGR', 'PGX', 'PH', 'PHG', 'PHM', 'PHYS', 'PINS', 'PKG', 'PKX', 'PLD', 'PLNT', 'PLTR', 'PM', 'PNC', 'PNFP', 'PNR', 'PNW', 'PODD', 'POOL', 'POST', 'PPA', 'PPC', 'PPG', 'PPL', 'PR', 'PRF', 'PRI', 'PRMB', 'PRU', 'PSA', 'PSLV', 'PSN', 'PSO', 'PSTG', 'PSX', 'PTC', 'PTLC', 'PUK', 'PULS', 'PWR', 'PYLD', 'PYPL', 'QCOM', 'QGEN', 'QLD', 'QQQ', 'QQQM', 'QRVO', 'QSR', 'QUAL', 'QXO', 'QYLD', 'R', 'RACE', 'RBA', 'RBC', 'RBLX', 'RBRK', 'RCI', 'RCL', 'RDDT', 'RDVY', 'RDY', 'REET', 'REG', 'REGN', 'RELX', 'REXR', 'RF', 'RGA', 'RGEN', 'RGLD', 'RHP', 'RIO', 'RITM', 'RIVN', 'RJF', 'RKLB', 'RKT', 'RL', 'RLI', 'RMD', 'RNR', 'ROIV', 'ROK', 'ROKU', 'ROL', 'ROP', 'ROST', 'RPM', 'RPRX', 'RRC', 'RRX', 'RS', 'RSG', 'RSP', 'RSPT', 'RTO', 'RTX', 'RVMD', 'RVTY', 'RWL', 'RY', 'RYAAY', 'RYAN', 'S', 'SAIA', 'SAIC', 'SAIL', 'SAN', 'SAP', 'SARO', 'SATS', 'SBAC', 'SBS', 'SBUX', 'SCCO', 'SCHA', 'SCHB', 'SCHC', 'SCHD', 'SCHE', 'SCHF', 'SCHG', 'SCHH', 'SCHI', 'SCHK', 'SCHM', 'SCHO', 'SCHP', 'SCHR', 'SCHV', 'SCHW', 'SCHX', 'SCHZ', 'SCI', 'SCZ', 'SDVY', 'SDY', 'SE', 'SEIC', 'SF', 'SFD', 'SFM', 'SGI', 'SGOL', 'SGOV', 'SHEL', 'SHG', 'SHM', 'SHOP', 'SHV', 'SHW', 'SHY', 'SHYG', 'SIRI', 'SJM', 'SJNK', 'SKM', 'SKX', 'SKYY', 'SLB', 'SLF', 'SLGN', 'SLM', 'SLV', 'SLYV', 'SMBS', 'SMCI', 'SMFG', 'SMH', 'SMMT', 'SN', 'SNA', 'SNAP', 'SNN', 'SNOW', 'SNPS', 'SNV', 'SNX', 'SNY', 'SO', 'SOFI', 'SOLV', 'SONY', 'SOXL', 'SOXX', 'SPAB', 'SPDW', 'SPEM', 'SPG', 'SPGI', 'SPHD', 'SPHQ', 'SPHY', 'SPIB', 'SPLG', 'SPLV', 'SPMB', 'SPMD', 'SPMO', 'SPOT', 'SPSB', 'SPSM', 'SPTI', 'SPTL', 'SPTM', 'SPTS', 'SPXC', 'SPXL', 'SPY', 'SPYD', 'SPYG', 'SPYI', 'SPYV', 'SQQQ', 'SRAD', 'SRE', 'SRLN', 'SSB', 'SSD', 'SSNC', 'SSO', 'STAG', 'STE', 'STEP', 'STIP', 'STLA', 'STLD', 'STM', 'STN', 'STT', 'STVN', 'STWD', 'STX', 'STZ', 'SU', 'SUB', 'SUI', 'SUN', 'SUSA', 'SUZ', 'SW', 'SWK', 'SWKS', 'SYF', 'SYK', 'SYM', 'SYY', 'T', 'TAK', 'TAP', 'TBIL', 'TCAF', 'TCOM', 'TD', 'TDG', 'TDY', 'TEAM', 'TECH', 'TECK', 'TEF', 'TEL', 'TEM', 'TER', 'TEVA', 'TFC', 'TFI', 'TFII', 'TFLO', 'TGT', 'THC', 'THG', 'TIGO', 'TIMB', 'TIP', 'TJX', 'TKO', 'TLH', 'TLK', 'TLN', 'TLT', 'TLX', 'TM', 'TME', 'TMF', 'TMHC', 'TMO', 'TMUS', 'TOL', 'TOST', 'TOTL', 'TPG', 'TPL', 'TPR', 'TQQQ', 'TREX', 'TRGP', 'TRI', 'TRMB', 'TRNO', 'TROW', 'TRP', 'TRU', 'TRV', 'TS', 'TSCO', 'TSLA', 'TSLL', 'TSM', 'TSN', 'TT', 'TTAN', 'TTC', 'TTD', 'TTE', 'TTEK', 'TTWO', 'TU', 'TW', 'TWLO', 'TX', 'TXN', 'TXRH', 'TXT', 'TYL', 'U', 'UAL', 'UBER', 'UBS', 'UCON', 'UDR', 'UFPI', 'UGI', 'UHAL', 'UHAL-B', 'UHS', 'UI', 'UL', 'ULS', 'ULTA', 'UMBF', 'UMC', 'UNH', 'UNM', 'UNP', 'UPRO', 'UPS', 'URI', 'URTH', 'USB', 'USFD', 'USFR', 'USHY', 'USIG', 'USMV', 'UTHR', 'UWMC', 'V', 'VALE', 'VB', 'VBK', 'VBR', 'VCIT', 'VCLT', 'VCR', 'VCSH', 'VDC', 'VDE', 'VEA', 'VEEV', 'VERX', 'VEU', 'VFH', 'VFLO', 'VFS', 'VG', 'VGIT', 'VGK', 'VGLT', 'VGSH', 'VGT', 'VHT', 'VICI', 'VIG', 'VIGI', 'VIK', 'VIPS', 'VIRT', 'VIS', 'VIV', 'VLO', 'VLTO', 'VLUE', 'VMBS', 'VMC', 'VMI', 'VNO', 'VNOM', 'VNQ', 'VNQI', 'VO', 'VOD', 'VOE', 'VONE', 'VONG', 'VONV', 'VOO', 'VOOG', 'VOOV', 'VOT', 'VOX', 'VOYA', 'VPL', 'VPU', 'VRNA', 'VRSK', 'VRSN', 'VRT', 'VRTX', 'VSGX', 'VSS', 'VST', 'VT', 'VTEB', 'VTI', 'VTIP', 'VTR', 'VTRS', 'VTV', 'VTWO', 'VUG', 'VUSB', 'VV', 'VWO', 'VWOB', 'VXF', 'VXUS', 'VYM', 'VYMI', 'VZ', 'WAB', 'WAL', 'WAT', 'WAY', 'WBA', 'WBD', 'WBS', 'WCC', 'WCN', 'WDAY', 'WDC', 'WDS', 'WEC', 'WELL', 'WES', 'WF', 'WFC', 'WFG', 'WH', 'WING', 'WIT', 'WIX', 'WLK', 'WM', 'WMB', 'WMG', 'WMS', 'WMT', 'WPC', 'WPM', 'WPP', 'WRB', 'WSM', 'WSO', 'WST', 'WTFC', 'WTRG', 'WTS', 'WTW', 'WWD', 'WY', 'WYNN', 'X', 'XBI', 'XEL', 'XLB', 'XLC', 'XLE', 'XLF', 'XLG', 'XLI', 'XLK', 'XLP', 'XLRE', 'XLU', 'XLV', 'XLY', 'XMHQ', 'XMMO', 'XOM', 'XP', 'XPEV', 'XPO', 'XYL', 'XYZ', 'YMM', 'YPF', 'YUM', 'YUMC', 'Z', 'ZBH', 'ZBRA', 'ZG', 'ZION', 'ZK', 'ZM', 'ZS', 'ZTO', 'ZTS', 'ZWS']\n",
      "Number of unique symbols: 1573\n"
     ]
    }
   ],
   "source": [
    "# Assuming your DataFrame is named 'df'\n",
    "unique_symbols = df_raw.index.get_level_values(0).unique().tolist()\n",
    "\n",
    "# Print the list (optional)\n",
    "print(f\"unique_symbols: {unique_symbols}\")\n",
    "print(f\"Number of unique symbols: {len(unique_symbols)}\")\n"
   ]
  },
  {
   "cell_type": "code",
   "execution_count": 27,
   "metadata": {},
   "outputs": [
    {
     "name": "stdout",
     "output_type": "stream",
     "text": [
      "Is 'VOO' in the list? True\n"
     ]
    }
   ],
   "source": [
    "symbol_to_check = 'VOO'  # Example symbol to check\n",
    "is_present = symbol_to_check in unique_symbols\n",
    "print(f\"Is '{symbol_to_check}' in the list? {is_present}\")"
   ]
  },
  {
   "cell_type": "code",
   "execution_count": 28,
   "metadata": {},
   "outputs": [
    {
     "name": "stdout",
     "output_type": "stream",
     "text": [
      "The autoreload extension is already loaded. To reload it, use:\n",
      "  %reload_ext autoreload\n",
      "Using 'Ticker' as the symbol identifier.\n",
      "Original number of Tickers: 1573\n",
      "Number of Tickers after filtering: 1544\n",
      "Number of Tickers filtered out: 29\n",
      "\n",
      "First 10 Tickers that were filtered out:\n",
      "['ALAB', 'TLX', 'WAY', 'LINE', 'LOAR', 'ULS', 'TEM', 'RDDT', 'GEV', 'SMBS']\n",
      "\n",
      "Example of dates for first filtered out Ticker:\n",
      "\n",
      "Dates for ALAB:\n",
      "DatetimeIndex(['2025-05-09', '2025-05-08', '2025-05-07', '2025-05-06', '2025-05-05', '2025-05-02', '2025-05-01', '2025-04-30', '2025-04-29', '2025-04-28',\n",
      "               ...\n",
      "               '2024-04-03', '2024-04-02', '2024-04-01', '2024-03-28', '2024-03-27', '2024-03-26', '2024-03-25', '2024-03-22', '2024-03-21', '2024-03-20'], dtype='datetime64[ns]', name='Date', length=286, freq=None)\n",
      "\n",
      "Filtered DataFrame info:\n",
      "<class 'pandas.core.frame.DataFrame'>\n",
      "MultiIndex: 492536 entries, ('A', Timestamp('2025-05-09 00:00:00')) to ('ZWS', Timestamp('2024-02-01 00:00:00'))\n",
      "Data columns (total 5 columns):\n",
      " #   Column     Non-Null Count   Dtype  \n",
      "---  ------     --------------   -----  \n",
      " 0   Adj Open   492536 non-null  float64\n",
      " 1   Adj High   492536 non-null  float64\n",
      " 2   Adj Low    492536 non-null  float64\n",
      " 3   Adj Close  492536 non-null  float64\n",
      " 4   Volume     492536 non-null  int64  \n",
      "dtypes: float64(4), int64(1)\n",
      "memory usage: 20.7+ MB\n",
      "None\n"
     ]
    }
   ],
   "source": [
    "import sys\n",
    "from pathlib import Path\n",
    "\n",
    "# Notebook cell\n",
    "%load_ext autoreload\n",
    "%autoreload 2\n",
    "\n",
    "# Get root directory (assuming notebook is in root/notebooks/)\n",
    "NOTEBOOK_DIR = Path.cwd()\n",
    "ROOT_DIR = NOTEBOOK_DIR.parent if NOTEBOOK_DIR.name == 'notebooks' else NOTEBOOK_DIR\n",
    "\n",
    "# Add src directory to Python path\n",
    "sys.path.append(str(ROOT_DIR / 'src'))\n",
    "\n",
    "\n",
    "# --- Data Filtering & Cleaning ---\n",
    "import utils  # Custom utility functions\n",
    "\n",
    "# 1. Align dates across all symbols using AAPL as reference\n",
    "df_filter, filtered_out_symbols = utils.filter_df_dates_to_reference_symbol(df=df_raw, reference_symbol=symbol_to_check)\n",
    "\n",
    "# 2. Remove symbols with missing data points\n",
    "df_clean, missing_values_symbols = utils.filter_symbols_with_missing_values(df=df_filter)\n"
   ]
  },
  {
   "cell_type": "code",
   "execution_count": 29,
   "metadata": {},
   "outputs": [
    {
     "name": "stdout",
     "output_type": "stream",
     "text": [
      "\n",
      "saved df_clean to ../data/df_OHLCV_clean_stocks_etfs.parquet\n"
     ]
    }
   ],
   "source": [
    "df_clean.to_parquet(dest_path, engine='pyarrow', compression='zstd')\n",
    "print(f'\\nsaved df_clean to {dest_path}')"
   ]
  },
  {
   "cell_type": "code",
   "execution_count": 30,
   "metadata": {},
   "outputs": [
    {
     "name": "stdout",
     "output_type": "stream",
     "text": [
      "read df_raw from  ../data/df_OHLCV_stocks_etfs.parquet\n",
      "saved df_clean to ../data/df_OHLCV_clean_stocks_etfs.parquet\n",
      "\n",
      "29 filtered_out_symbols: ['ALAB', 'TLX', 'WAY', 'LINE', 'LOAR', 'ULS', 'TEM', 'RDDT', 'GEV', 'SMBS', 'SOLV', 'ZK', 'BTC', 'JGLO', 'SW', 'NBIS', 'VG', 'SAIL', 'LB', 'OS', 'SFD', 'SARO', 'LTM', 'GOLD', 'CRWV', 'TTAN', 'MSTY', 'RBRK', 'VIK']\n",
      "0 missing_values_symbols: []\n",
      "\n",
      "Number of tickers in raw data:      1573\n",
      "Number of tickers in filtered data: 1544\n",
      "Number of tickers in cleaned data:  1544\n"
     ]
    }
   ],
   "source": [
    "filter_ticker_count = len(df_filter.index.get_level_values(0).unique().tolist())\n",
    "cleaned_ticker_count = len(df_clean.index.get_level_values(0).unique().tolist())\n",
    "\n",
    "print(f'read df_raw from  {source_path}')\n",
    "print(f'saved df_clean to {dest_path}')\n",
    "print(f'\\n{len(filtered_out_symbols)} filtered_out_symbols: {filtered_out_symbols}')\n",
    "print(f'{len(missing_values_symbols)} missing_values_symbols: {missing_values_symbols}')\n",
    "print(f\"\\nNumber of tickers in raw data:      {raw_ticker_count}\")\n",
    "print(f\"Number of tickers in filtered data: {filter_ticker_count}\")\n",
    "print(f\"Number of tickers in cleaned data:  {cleaned_ticker_count}\")"
   ]
  }
 ],
 "metadata": {
  "kernelspec": {
   "display_name": ".venv",
   "language": "python",
   "name": "python3"
  },
  "language_info": {
   "codemirror_mode": {
    "name": "ipython",
    "version": 3
   },
   "file_extension": ".py",
   "mimetype": "text/x-python",
   "name": "python",
   "nbconvert_exporter": "python",
   "pygments_lexer": "ipython3",
   "version": "3.11.9"
  }
 },
 "nbformat": 4,
 "nbformat_minor": 2
}
