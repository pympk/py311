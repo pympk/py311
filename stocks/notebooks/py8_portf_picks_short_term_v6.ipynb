{
 "cells": [
  {
   "cell_type": "markdown",
   "metadata": {},
   "source": [
    "### Short-Term Portfolio Selection Strategy\n",
    "\n",
    "This notebook executes a quantitative stock selection strategy for short-term mean-reversion opportunities.\n",
    "\n",
    "**Workflow:**\n",
    "1.  **Prerequisites:** The final merged data file for the target date must exist. The core selection logic (`select_short_term_stocks_debug`) and save/load helpers are assumed to be in `src/utils.py`.\n",
    "2.  **Load Data:** Loads the universe of stocks and their features.\n",
    "3.  **Execute Strategy:** Applies a set of predefined filters and a weighted scoring model to the data universe to select a small portfolio of stocks.\n",
    "4.  **Analyze & Save Results:** Enriches the selected portfolio with descriptive data (Company, Industry) and saves the results (portfolio DataFrame and parameters used) to disk.\n",
    "5.  **Verify Calculation:** Performs a manual, step-by-step recalculation of the scores for a single ticker to validate the core logic."
   ]
  },
  {
   "cell_type": "markdown",
   "metadata": {},
   "source": [
    "### Setup and Configuration\n",
    "\n",
    "This cell defines all parameters for the strategy run, including filters, scoring weights, and file paths. **This is the main cell to modify for tuning the strategy.**"
   ]
  },
  {
   "cell_type": "code",
   "execution_count": 3,
   "metadata": {},
   "outputs": [
    {
     "name": "stdout",
     "output_type": "stream",
     "text": [
      "Executing strategy for Date: 2025-06-13\n",
      "Source file: ..\\data\\2025-06-13_df_finviz_merged_stocks_etfs.parquet\n",
      "Output will be saved with base path: c:\\Users\\ping\\Files_win10\\python\\py311\\stocks\\output\\selection_results\\2025-06-13_short_term_mean_reversion\n"
     ]
    }
   ],
   "source": [
    "# py8_portf_picks_short_term_v6.ipynb\n",
    "\n",
    "import sys\n",
    "from pathlib import Path\n",
    "import pandas as pd\n",
    "import json\n",
    "import numpy as np # Import numpy for the assertion\n",
    "\n",
    "# --- Project Path Setup ---\n",
    "NOTEBOOK_DIR = Path.cwd()\n",
    "ROOT_DIR = NOTEBOOK_DIR.parent if NOTEBOOK_DIR.name == 'notebooks' else NOTEBOOK_DIR\n",
    "SRC_DIR = ROOT_DIR / 'src'\n",
    "if str(SRC_DIR) not in sys.path:\n",
    "    sys.path.append(str(SRC_DIR))\n",
    "\n",
    "# --- Dynamic Configuration (from config.py) ---\n",
    "from config import DATE_STR, DEST_DIR\n",
    "import utils # Import your custom utility library\n",
    "\n",
    "# --- Strategy Parameters for THIS RUN ---\n",
    "# These parameters will be passed to the function, overriding its defaults.\n",
    "N_SELECT = 10\n",
    "\n",
    "STRATEGY_FILTERS = {\n",
    "    'min_price': 10.0,\n",
    "    'min_avg_volume_m': 2.0,\n",
    "    'min_roe_pct': 5.0,\n",
    "    'max_debt_eq': 1.5\n",
    "}\n",
    "\n",
    "STRATEGY_SCORING_WEIGHTS = {\n",
    "    'rsi': 0.35,\n",
    "    'change': 0.35,\n",
    "    'rel_volume': 0.20,\n",
    "    'volatility': 0.10\n",
    "}\n",
    "\n",
    "STRATEGY_INV_VOL_COL = 'ATR/Price %'\n",
    "\n",
    "# --- File Path Construction ---\n",
    "DATA_DIR = Path(DEST_DIR)\n",
    "SOURCE_PATH = DATA_DIR / f'{DATE_STR}_df_finviz_merged_stocks_etfs.parquet'\n",
    "OUTPUT_BASE_PATH = ROOT_DIR / 'output' / 'selection_results' / f'{DATE_STR}_short_term_mean_reversion'\n",
    "\n",
    "# --- Notebook Setup ---\n",
    "pd.set_option('display.max_columns', None)\n",
    "pd.set_option('display.width', 2000)\n",
    "pd.set_option('display.max_rows', 200)\n",
    "pd.set_option('display.float_format', '{:.4f}'.format)\n",
    "%load_ext autoreload\n",
    "%autoreload 2\n",
    "\n",
    "# --- Verification ---\n",
    "print(f\"Executing strategy for Date: {DATE_STR}\")\n",
    "print(f\"Source file: {SOURCE_PATH}\")\n",
    "print(f\"Output will be saved with base path: {OUTPUT_BASE_PATH}\")\n",
    "assert abs(sum(STRATEGY_SCORING_WEIGHTS.values()) - 1.0) < 1e-9, \"Scoring weights must sum to 1.0\""
   ]
  },
  {
   "cell_type": "markdown",
   "metadata": {},
   "source": [
    "### Step 1: Load Data Universe\n",
    "\n",
    "Load the complete dataset from which the selection will be made."
   ]
  },
  {
   "cell_type": "code",
   "execution_count": 31,
   "metadata": {},
   "outputs": [
    {
     "name": "stdout",
     "output_type": "stream",
     "text": [
      "--- Step 1: Loading data from 2025-06-13_df_finviz_merged_stocks_etfs.parquet ---\n",
      "Successfully loaded data for 1530 tickers.\n"
     ]
    }
   ],
   "source": [
    "print(f\"--- Step 1: Loading data from {SOURCE_PATH.name} ---\")\n",
    "\n",
    "try:\n",
    "    df_finviz = pd.read_parquet(SOURCE_PATH)\n",
    "    print(f\"Successfully loaded data for {len(df_finviz)} tickers.\")\n",
    "except FileNotFoundError:\n",
    "    print(f\"ERROR: Source file not found at {SOURCE_PATH}. Halting execution.\")\n",
    "    df_finviz = None"
   ]
  },
  {
   "cell_type": "markdown",
   "metadata": {},
   "source": [
    "### Step 2: Execute Selection Strategy\n",
    "\n",
    "Run the core selection logic using the parameters defined in the setup cell. This function is assumed to be in `utils.py`."
   ]
  },
  {
   "cell_type": "code",
   "execution_count": 32,
   "metadata": {},
   "outputs": [
    {
     "name": "stdout",
     "output_type": "stream",
     "text": [
      "\n",
      "--- Step 2: Executing stock selection strategy ---\n",
      "\n",
      "Strategy executed successfully. Selected 10 stocks.\n"
     ]
    }
   ],
   "source": [
    "if df_finviz is not None:\n",
    "    print(\"\\n--- Step 2: Executing stock selection strategy ---\")\n",
    "    \n",
    "    # Pass the strategy-specific parameters defined in the setup cell.\n",
    "    df_selected, df_filtered, params_used = utils.select_short_term_stocks_debug(\n",
    "        df_finviz=df_finviz,\n",
    "        n_select=N_SELECT,\n",
    "        filters=STRATEGY_FILTERS,\n",
    "        scoring_weights=STRATEGY_SCORING_WEIGHTS,\n",
    "        inv_vol_col_name=STRATEGY_INV_VOL_COL\n",
    "    )\n",
    "\n",
    "    if df_selected.empty:\n",
    "        print(\"\\nNo stocks were selected based on the current criteria.\")\n",
    "    else:\n",
    "        print(f\"\\nStrategy executed successfully. Selected {len(df_selected)} stocks.\")\n",
    "else:\n",
    "    print(\"\\nSkipping strategy execution because data failed to load.\")\n",
    "    df_selected, df_filtered, params_used = pd.DataFrame(), pd.DataFrame(), {}"
   ]
  },
  {
   "cell_type": "markdown",
   "metadata": {},
   "source": [
    "### Step 3: Analyze and Enrich Results\n",
    "\n",
    "Display the selected stocks and add key descriptive columns from the original Finviz data for better context."
   ]
  },
  {
   "cell_type": "code",
   "execution_count": 33,
   "metadata": {},
   "outputs": [
    {
     "name": "stdout",
     "output_type": "stream",
     "text": [
      "\n",
      "--- Step 3: Analyzing and enriching selected portfolio ---\n",
      "Top selected stocks with scores and weights:\n",
      "df_display:\n",
      "                  Company                             Industry  Market Cap, M  Rank  Avg Volume, M  Debt/Eq   ROE %    Price  Rel Volume     RSI  Change %  ATR/Price %   z_RSI  z_Change%  z_RelVolume  z_ATR/Price%  final_score  Weight_EW  Weight_IV  Weight_SW\n",
      "BEKE  KE Holdings Inc ADR                 Real Estate Services     21170.0000   623         9.3300   0.3200  6.5300  18.4700      5.0800 42.5200   -2.7400       3.1402 -0.9659    -0.6954       8.2710        0.3512       2.2005     0.1000     0.0932     0.1425\n",
      "ADBE            Adobe Inc               Software - Application    166930.0000    77         3.8000   0.5700 52.2500 391.6800      2.7900 39.3100   -5.3200       2.3489 -1.2526    -1.9088       3.6803       -0.4221       1.8848     0.1000     0.1246     0.1221\n",
      "BF-B    Brown-Forman Corp  Beverages - Wineries & Distilleries     12550.0000   901         3.5700   0.6800 23.1400  26.4400      1.9600 21.1300   -3.1100       4.1604 -2.8762    -0.8694       2.0164        1.3481       1.5794     0.1000     0.0704     0.1023\n",
      "ONON        On Holding AG               Footwear & Accessories     16920.0000   736         5.3300   0.2700 15.8400  52.2600      1.7500 37.3800   -6.2300       3.7313 -1.4249    -2.3368       1.5954        0.9288       1.5428     0.1000     0.0785     0.0999\n",
      "CPRT          Copart, Inc          Specialty Business Services     46980.0000   343         5.8700   0.0100 18.5400  48.5900      1.4700 19.8900   -2.8000       2.5314 -2.9869    -0.7236       1.0341       -0.2437       1.5299     0.1000     0.1156     0.0991\n",
      "V                Visa Inc                      Credit Services    684230.0000    16         6.4500   0.5500 50.0300 352.8500      2.2000 42.4100   -4.9900       2.0660 -0.9757    -1.7536       2.4976       -0.6984       1.5246     0.1000     0.1417     0.0987\n",
      "BRO    Brown & Brown, Inc                    Insurance Brokers     34750.0000   432         2.2000   0.5900 16.1800 106.6200      3.5600 38.9700   -0.1700       2.4104 -1.2829     0.5134       5.2239       -0.3619       1.3503     0.1000     0.1214     0.0874\n",
      "SN         SharkNinja Inc   Furnishings, Fixtures & Appliances     11530.0000   954         2.0100   0.4600 24.7500  82.1300      0.9900 34.6600   -6.6000       4.3468 -1.6678    -2.5109       0.0719        1.5302       1.3239     0.1000     0.0673     0.0857\n",
      "CAVA       Cava Group Inc                          Restaurants      8620.0000  1141         3.6500   0.5700 21.7300  74.5700      1.3600 29.5500   -4.7000       4.5595 -2.1242    -1.6172       0.8136        1.7381       1.2984     0.1000     0.0642     0.0841\n",
      "PPG   PPG Industries, Inc                  Specialty Chemicals     24130.0000   562         2.1100   1.1300 18.4700 106.3000      1.1800 39.1300   -5.1100       2.3801 -1.2686    -1.8101       0.4528       -0.3916       1.2073     0.1000     0.1230     0.0782\n"
     ]
    }
   ],
   "source": [
    "if not df_selected.empty:\n",
    "    print(\"\\n--- Step 3: Analyzing and enriching selected portfolio ---\")\n",
    "\n",
    "    # Add key descriptive columns for context\n",
    "    cols_to_add = ['Company', 'Industry', 'Market Cap, M', 'Rank']    \n",
    "    df_display = utils.add_columns_from_source(\n",
    "        base_df=df_selected,\n",
    "        source_df=df_finviz,\n",
    "        cols_to_add=cols_to_add,\n",
    "        match_on_base_index=True\n",
    "    )\n",
    "    \n",
    "    # # --- FIX: Use the variable defined in the setup cell ---\n",
    "    # # The variable `STRATEGY_INV_VOL_COL` was defined in our setup cell.\n",
    "    # display_cols = cols_to_add + [\n",
    "    #     'final_score', 'Weight_EW', 'Weight_IV', 'Weight_SW', \n",
    "    #     'RSI', 'Change %', 'Rel Volume', STRATEGY_INV_VOL_COL\n",
    "    # ]\n",
    "    \n",
    "    print(\"Top selected stocks with scores and weights:\")\n",
    "    # display(df_display[display_cols])\n",
    "    # display(df_display)   \n",
    "    print(f'df_display:\\n{df_display}')  \n",
    "else:\n",
    "    print(\"\\nNo results to analyze.\")"
   ]
  },
  {
   "cell_type": "markdown",
   "metadata": {},
   "source": [
    "### Step 4: Save Selection Results\n",
    "\n",
    "Save the portfolio DataFrame (Parquet and CSV) and the parameters used (JSON) for record-keeping and backtesting."
   ]
  },
  {
   "cell_type": "code",
   "execution_count": 34,
   "metadata": {},
   "outputs": [
    {
     "name": "stdout",
     "output_type": "stream",
     "text": [
      "\n",
      "--- Step 4: Saving selection results and parameters ---\n",
      "Results saved successfully with base path: c:\\Users\\ping\\Files_win10\\python\\py311\\stocks\\output\\selection_results\\2025-06-13_short_term_mean_reversion\n"
     ]
    }
   ],
   "source": [
    "# --- Explicitly name the index before saving or displaying. --\n",
    "df_selected.index.name = 'Ticker'\n",
    "\n",
    "if not df_selected.empty:\n",
    "    print(\"\\n--- Step 4: Saving selection results and parameters ---\")\n",
    "\n",
    "    save_successful = utils.save_selection_results(\n",
    "        df_selected=df_selected,       \n",
    "        parameters_used=params_used,\n",
    "        base_filepath=str(OUTPUT_BASE_PATH), # Convert Path to string for the function\n",
    "        save_csv=True\n",
    "    )\n",
    "\n",
    "    if save_successful:\n",
    "        print(f\"Results saved successfully with base path: {OUTPUT_BASE_PATH}\")\n",
    "else:\n",
    "    print(\"\\nNo results to save.\")"
   ]
  },
  {
   "cell_type": "markdown",
   "metadata": {},
   "source": [
    "### Step 5: Verify Calculation Logic\n",
    "\n",
    "This section performs a manual, step-by-step recalculation for a single ticker to validate the primary function's logic. This is excellent for debugging and ensuring correctness."
   ]
  },
  {
   "cell_type": "code",
   "execution_count": 35,
   "metadata": {},
   "outputs": [
    {
     "name": "stdout",
     "output_type": "stream",
     "text": [
      "\n",
      "--- Step 5: Verifying calculation for a sample ticker ---\n",
      "Verifying scores for ticker: BEKE\n",
      "\n",
      "Factor: rsi (RSI)\n",
      "  - Value: 42.5200, Mean: 53.3353, Std: 11.1973\n",
      "  - Manual Z-Score: -0.9659\n",
      "  - Function Z-Score: -0.9659\n",
      "\n",
      "Factor: change (Change %)\n",
      "  - Value: -2.7400, Mean: -1.2615, Std: 2.1262\n",
      "  - Manual Z-Score: -0.6954\n",
      "  - Function Z-Score: -0.6954\n",
      "\n",
      "Factor: rel_volume (Rel Volume)\n",
      "  - Value: 5.0800, Mean: 0.9541, Std: 0.4988\n",
      "  - Manual Z-Score: 8.2710\n",
      "  - Function Z-Score: 8.2710\n",
      "\n",
      "Factor: volatility (ATR/Price %)\n",
      "  - Value: 3.1402, Mean: 2.7808, Std: 1.0234\n",
      "  - Manual Z-Score: 0.3512\n",
      "  - Function Z-Score: 0.3512\n",
      "\n",
      "--- Final Score Comparison ---\n",
      "Manual Final Score Calculation: 2.2005\n",
      "Function Final Score from DataFrame: 2.2005\n",
      "\n",
      "Verification successful!\n"
     ]
    }
   ],
   "source": [
    "if not df_selected.empty and not df_filtered.empty:\n",
    "    print(\"\\n--- Step 5: Verifying calculation for a sample ticker ---\")\n",
    "    \n",
    "    # Pick a sample ticker from the results\n",
    "    sample_ticker = df_selected.index[0]\n",
    "    print(f\"Verifying scores for ticker: {sample_ticker}\")\n",
    "\n",
    "    # Manually calculate the Z-score for each component\n",
    "    z_score_calcs = {}\n",
    "    for factor, col_name in {'rsi': 'RSI', 'change': 'Change %', 'rel_volume': 'Rel Volume', 'volatility': 'ATR/Price %'}.items():\n",
    "        value = df_filtered.loc[sample_ticker, col_name]\n",
    "        mean = df_filtered[col_name].mean()\n",
    "        std = df_filtered[col_name].std(ddof=0) # Use population std dev to match zscore\n",
    "        z_score = (value - mean) / std\n",
    "        z_score_calcs[factor] = z_score\n",
    "        \n",
    "        # --- FIX: Construct the z-score column name outside the f-string ---\n",
    "        z_col_name = f'z_{col_name.replace(\" \", \"\")}'\n",
    "        \n",
    "        print(f\"\\nFactor: {factor} ({col_name})\")\n",
    "        print(f\"  - Value: {value:.4f}, Mean: {mean:.4f}, Std: {std:.4f}\")\n",
    "        print(f\"  - Manual Z-Score: {z_score:.4f}\")\n",
    "        # Now use the clean variable in the f-string\n",
    "        print(f\"  - Function Z-Score: {df_selected.loc[sample_ticker, z_col_name]:.4f}\")\n",
    "\n",
    "    # Manually calculate the final weighted score\n",
    "    manual_final_score = (\n",
    "        z_score_calcs['rsi'] * STRATEGY_SCORING_WEIGHTS['rsi'] * (-1) +\n",
    "        z_score_calcs['change'] * STRATEGY_SCORING_WEIGHTS['change'] * (-1) +\n",
    "        z_score_calcs['rel_volume'] * STRATEGY_SCORING_WEIGHTS['rel_volume'] * (1) +\n",
    "        z_score_calcs['volatility'] * STRATEGY_SCORING_WEIGHTS['volatility'] * (-1)\n",
    "    )\n",
    "\n",
    "    print(\"\\n--- Final Score Comparison ---\")\n",
    "    print(f\"Manual Final Score Calculation: {manual_final_score:.4f}\")\n",
    "    print(f\"Function Final Score from DataFrame: {df_selected.loc[sample_ticker, 'final_score']:.4f}\")\n",
    "\n",
    "    # Assert that the manual calculation is close to the function's result\n",
    "    assert np.isclose(manual_final_score, df_selected.loc[sample_ticker, 'final_score']), \"Verification failed: Manual score does not match function score!\"\n",
    "    print(\"\\nVerification successful!\")\n",
    "\n",
    "else:\n",
    "    print(\"\\nSkipping verification step.\")"
   ]
  }
 ],
 "metadata": {
  "kernelspec": {
   "display_name": ".venv",
   "language": "python",
   "name": "python3"
  },
  "language_info": {
   "codemirror_mode": {
    "name": "ipython",
    "version": 3
   },
   "file_extension": ".py",
   "mimetype": "text/x-python",
   "name": "python",
   "nbconvert_exporter": "python",
   "pygments_lexer": "ipython3",
   "version": "3.11.9"
  }
 },
 "nbformat": 4,
 "nbformat_minor": 2
}
