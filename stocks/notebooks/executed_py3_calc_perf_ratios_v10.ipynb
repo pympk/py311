{
 "cells": [
  {
   "cell_type": "code",
   "execution_count": null,
   "metadata": {},
   "outputs": [],
   "source": []
  },
  {
   "cell_type": "code",
   "execution_count": 1,
   "metadata": {
    "execution": {
     "iopub.execute_input": "2025-04-09T02:14:33.274309Z",
     "iopub.status.busy": "2025-04-09T02:14:33.273305Z",
     "iopub.status.idle": "2025-04-09T02:14:33.293776Z",
     "shell.execute_reply": "2025-04-09T02:14:33.291761Z"
    }
   },
   "outputs": [],
   "source": [
    "# Configuration\n",
    "\n",
    "# days used in calculating ratios\n",
    "DAYS_RATIO = [3, 5, 10, 15, 30, 60, 120, 250]\n",
    "\n",
    "# risk free rate\n",
    "RISK_FREE_RATE = 0.04"
   ]
  },
  {
   "cell_type": "code",
   "execution_count": 2,
   "metadata": {
    "execution": {
     "iopub.execute_input": "2025-04-09T02:14:33.300126Z",
     "iopub.status.busy": "2025-04-09T02:14:33.300126Z",
     "iopub.status.idle": "2025-04-09T02:14:34.781339Z",
     "shell.execute_reply": "2025-04-09T02:14:34.779324Z"
    }
   },
   "outputs": [],
   "source": [
    "import pandas as pd\n",
    "\n",
    "# Set pandas display options to show more columns and rows\n",
    "pd.set_option('display.max_columns', None)  # Show all columns\n",
    "# pd.set_option('display.max_rows', 10)       # Limit to 10 rows for readability\n",
    "pd.set_option('display.width', None)        # Let the display adjust to the window\n",
    "\n",
    "# 2. Set the display width (optional but often helpful)\n",
    "#    'None' tries to detect terminal width. \n",
    "#    A large number (e.g., 1000) ensures no wrapping unless absolutely necessary.\n",
    "pd.set_option('display.width', 1000) "
   ]
  },
  {
   "cell_type": "code",
   "execution_count": 3,
   "metadata": {
    "execution": {
     "iopub.execute_input": "2025-04-09T02:14:34.789346Z",
     "iopub.status.busy": "2025-04-09T02:14:34.788341Z",
     "iopub.status.idle": "2025-04-09T02:14:34.803693Z",
     "shell.execute_reply": "2025-04-09T02:14:34.801677Z"
    }
   },
   "outputs": [
    {
     "name": "stdout",
     "output_type": "stream",
     "text": [
      "date_str: 2025-04-08\n",
      "DEST_DIR: ..\\data\n",
      "\n",
      "source_path: ..\\data\\2025-04-08_df_OHLCV_clean.parquet\n",
      "dest_path: ..\\data\\2025-04-08_df_perf_ratios.parquet\n"
     ]
    }
   ],
   "source": [
    "# process_files.py\n",
    "from config import date_str, DOWNLOAD_DIR, DEST_DIR\n",
    "from pathlib import Path  # Better path handling\n",
    "\n",
    "print(f\"date_str: {date_str}\")\n",
    "# print(f\"DOWNLOAD_DIR: {DOWNLOAD_DIR}\")\n",
    "print(f\"DEST_DIR: {DEST_DIR}\\n\")\n",
    "\n",
    "# Build paths\n",
    "source_path = Path(DEST_DIR) / f'{date_str}_df_OHLCV_clean.parquet'\n",
    "dest_path = Path(DEST_DIR) / f'{date_str}_df_perf_ratios.parquet'\n",
    "\n",
    "print(f\"source_path: {source_path}\")\n",
    "print(f\"dest_path: {dest_path}\")"
   ]
  },
  {
   "cell_type": "code",
   "execution_count": 4,
   "metadata": {
    "execution": {
     "iopub.execute_input": "2025-04-09T02:14:34.911669Z",
     "iopub.status.busy": "2025-04-09T02:14:34.909669Z",
     "iopub.status.idle": "2025-04-09T02:14:35.014166Z",
     "shell.execute_reply": "2025-04-09T02:14:35.012490Z"
    }
   },
   "outputs": [],
   "source": [
    "import pandas as pd\n",
    "\n",
    "# Get tickers from df_finviz.pkl file\n",
    "df_finviz = pd.read_parquet(f'..\\data\\{date_str}_df_finviz.parquet')\n",
    "tickers = df_finviz.index.to_list()"
   ]
  },
  {
   "cell_type": "code",
   "execution_count": 5,
   "metadata": {
    "execution": {
     "iopub.execute_input": "2025-04-09T02:14:35.021196Z",
     "iopub.status.busy": "2025-04-09T02:14:35.020199Z",
     "iopub.status.idle": "2025-04-09T02:14:35.310234Z",
     "shell.execute_reply": "2025-04-09T02:14:35.308732Z"
    }
   },
   "outputs": [
    {
     "data": {
      "text/html": [
       "<div>\n",
       "<style scoped>\n",
       "    .dataframe tbody tr th:only-of-type {\n",
       "        vertical-align: middle;\n",
       "    }\n",
       "\n",
       "    .dataframe tbody tr th {\n",
       "        vertical-align: top;\n",
       "    }\n",
       "\n",
       "    .dataframe thead th {\n",
       "        text-align: right;\n",
       "    }\n",
       "</style>\n",
       "<table border=\"1\" class=\"dataframe\">\n",
       "  <thead>\n",
       "    <tr style=\"text-align: right;\">\n",
       "      <th></th>\n",
       "      <th></th>\n",
       "      <th>Open</th>\n",
       "      <th>High</th>\n",
       "      <th>Low</th>\n",
       "      <th>Close</th>\n",
       "      <th>Adj Close</th>\n",
       "      <th>Volume</th>\n",
       "      <th>Adj Open</th>\n",
       "      <th>Adj High</th>\n",
       "      <th>Adj Low</th>\n",
       "    </tr>\n",
       "    <tr>\n",
       "      <th>Symbol</th>\n",
       "      <th>Date</th>\n",
       "      <th></th>\n",
       "      <th></th>\n",
       "      <th></th>\n",
       "      <th></th>\n",
       "      <th></th>\n",
       "      <th></th>\n",
       "      <th></th>\n",
       "      <th></th>\n",
       "      <th></th>\n",
       "    </tr>\n",
       "  </thead>\n",
       "  <tbody>\n",
       "    <tr>\n",
       "      <th rowspan=\"5\" valign=\"top\">ILMN</th>\n",
       "      <th>2025-04-08</th>\n",
       "      <td>75.76</td>\n",
       "      <td>75.54</td>\n",
       "      <td>69.38</td>\n",
       "      <td>70.30</td>\n",
       "      <td>70.30</td>\n",
       "      <td>3212285</td>\n",
       "      <td>75.760000</td>\n",
       "      <td>75.540000</td>\n",
       "      <td>69.380000</td>\n",
       "    </tr>\n",
       "    <tr>\n",
       "      <th>2025-04-07</th>\n",
       "      <td>70.61</td>\n",
       "      <td>75.83</td>\n",
       "      <td>69.55</td>\n",
       "      <td>73.45</td>\n",
       "      <td>73.45</td>\n",
       "      <td>5170600</td>\n",
       "      <td>70.610000</td>\n",
       "      <td>75.830000</td>\n",
       "      <td>69.550000</td>\n",
       "    </tr>\n",
       "    <tr>\n",
       "      <th>2025-04-04</th>\n",
       "      <td>75.40</td>\n",
       "      <td>75.43</td>\n",
       "      <td>70.64</td>\n",
       "      <td>74.16</td>\n",
       "      <td>74.16</td>\n",
       "      <td>3913400</td>\n",
       "      <td>75.400000</td>\n",
       "      <td>75.430000</td>\n",
       "      <td>70.640000</td>\n",
       "    </tr>\n",
       "    <tr>\n",
       "      <th>2025-04-03</th>\n",
       "      <td>79.51</td>\n",
       "      <td>79.97</td>\n",
       "      <td>76.26</td>\n",
       "      <td>76.42</td>\n",
       "      <td>76.42</td>\n",
       "      <td>2117600</td>\n",
       "      <td>79.510000</td>\n",
       "      <td>79.970000</td>\n",
       "      <td>76.260000</td>\n",
       "    </tr>\n",
       "    <tr>\n",
       "      <th>2025-04-02</th>\n",
       "      <td>78.27</td>\n",
       "      <td>82.76</td>\n",
       "      <td>77.99</td>\n",
       "      <td>81.88</td>\n",
       "      <td>81.88</td>\n",
       "      <td>1908300</td>\n",
       "      <td>78.270000</td>\n",
       "      <td>82.760000</td>\n",
       "      <td>77.990000</td>\n",
       "    </tr>\n",
       "    <tr>\n",
       "      <th>...</th>\n",
       "      <th>...</th>\n",
       "      <td>...</td>\n",
       "      <td>...</td>\n",
       "      <td>...</td>\n",
       "      <td>...</td>\n",
       "      <td>...</td>\n",
       "      <td>...</td>\n",
       "      <td>...</td>\n",
       "      <td>...</td>\n",
       "      <td>...</td>\n",
       "    </tr>\n",
       "    <tr>\n",
       "      <th rowspan=\"5\" valign=\"top\">RF</th>\n",
       "      <th>2024-04-15</th>\n",
       "      <td>19.38</td>\n",
       "      <td>19.65</td>\n",
       "      <td>19.09</td>\n",
       "      <td>19.22</td>\n",
       "      <td>18.41</td>\n",
       "      <td>6936600</td>\n",
       "      <td>18.563257</td>\n",
       "      <td>18.821878</td>\n",
       "      <td>18.285479</td>\n",
       "    </tr>\n",
       "    <tr>\n",
       "      <th>2024-04-12</th>\n",
       "      <td>19.05</td>\n",
       "      <td>19.30</td>\n",
       "      <td>18.94</td>\n",
       "      <td>19.19</td>\n",
       "      <td>18.38</td>\n",
       "      <td>6276900</td>\n",
       "      <td>18.245909</td>\n",
       "      <td>18.485357</td>\n",
       "      <td>18.140552</td>\n",
       "    </tr>\n",
       "    <tr>\n",
       "      <th>2024-04-11</th>\n",
       "      <td>19.72</td>\n",
       "      <td>19.76</td>\n",
       "      <td>19.20</td>\n",
       "      <td>19.41</td>\n",
       "      <td>18.59</td>\n",
       "      <td>8061100</td>\n",
       "      <td>18.886904</td>\n",
       "      <td>18.925214</td>\n",
       "      <td>18.388872</td>\n",
       "    </tr>\n",
       "    <tr>\n",
       "      <th>2024-04-10</th>\n",
       "      <td>20.29</td>\n",
       "      <td>20.30</td>\n",
       "      <td>19.54</td>\n",
       "      <td>19.68</td>\n",
       "      <td>18.85</td>\n",
       "      <td>6684200</td>\n",
       "      <td>19.434273</td>\n",
       "      <td>19.443852</td>\n",
       "      <td>18.715904</td>\n",
       "    </tr>\n",
       "    <tr>\n",
       "      <th>2024-04-09</th>\n",
       "      <td>20.50</td>\n",
       "      <td>20.69</td>\n",
       "      <td>20.36</td>\n",
       "      <td>20.69</td>\n",
       "      <td>19.82</td>\n",
       "      <td>5321400</td>\n",
       "      <td>19.637989</td>\n",
       "      <td>19.820000</td>\n",
       "      <td>19.503876</td>\n",
       "    </tr>\n",
       "  </tbody>\n",
       "</table>\n",
       "<p>381520 rows × 9 columns</p>\n",
       "</div>"
      ],
      "text/plain": [
       "                    Open   High    Low  Close  Adj Close   Volume   Adj Open   Adj High    Adj Low\n",
       "Symbol Date                                                                                       \n",
       "ILMN   2025-04-08  75.76  75.54  69.38  70.30      70.30  3212285  75.760000  75.540000  69.380000\n",
       "       2025-04-07  70.61  75.83  69.55  73.45      73.45  5170600  70.610000  75.830000  69.550000\n",
       "       2025-04-04  75.40  75.43  70.64  74.16      74.16  3913400  75.400000  75.430000  70.640000\n",
       "       2025-04-03  79.51  79.97  76.26  76.42      76.42  2117600  79.510000  79.970000  76.260000\n",
       "       2025-04-02  78.27  82.76  77.99  81.88      81.88  1908300  78.270000  82.760000  77.990000\n",
       "...                  ...    ...    ...    ...        ...      ...        ...        ...        ...\n",
       "RF     2024-04-15  19.38  19.65  19.09  19.22      18.41  6936600  18.563257  18.821878  18.285479\n",
       "       2024-04-12  19.05  19.30  18.94  19.19      18.38  6276900  18.245909  18.485357  18.140552\n",
       "       2024-04-11  19.72  19.76  19.20  19.41      18.59  8061100  18.886904  18.925214  18.388872\n",
       "       2024-04-10  20.29  20.30  19.54  19.68      18.85  6684200  19.434273  19.443852  18.715904\n",
       "       2024-04-09  20.50  20.69  20.36  20.69      19.82  5321400  19.637989  19.820000  19.503876\n",
       "\n",
       "[381520 rows x 9 columns]"
      ]
     },
     "metadata": {},
     "output_type": "display_data"
    }
   ],
   "source": [
    "import pandas as pd\n",
    "\n",
    "pd.set_option('display.width', 1000) \n",
    "\n",
    "# Load the DataFrame df_OHLCV_2025-03-14_clean.pkl\n",
    "# df = pd.read_pickle(source_path)\n",
    "df = pd.read_parquet(source_path, engine='pyarrow')\n",
    "\n",
    "# # Display the first few rows of the DataFrame to verify\n",
    "# df = df[['Adj Close']].copy()\n",
    "display(df)"
   ]
  },
  {
   "cell_type": "code",
   "execution_count": 6,
   "metadata": {
    "execution": {
     "iopub.execute_input": "2025-04-09T02:14:35.317265Z",
     "iopub.status.busy": "2025-04-09T02:14:35.316267Z",
     "iopub.status.idle": "2025-04-09T02:14:35.553110Z",
     "shell.execute_reply": "2025-04-09T02:14:35.551108Z"
    }
   },
   "outputs": [
    {
     "data": {
      "text/html": [
       "<div>\n",
       "<style scoped>\n",
       "    .dataframe tbody tr th:only-of-type {\n",
       "        vertical-align: middle;\n",
       "    }\n",
       "\n",
       "    .dataframe tbody tr th {\n",
       "        vertical-align: top;\n",
       "    }\n",
       "\n",
       "    .dataframe thead th {\n",
       "        text-align: right;\n",
       "    }\n",
       "</style>\n",
       "<table border=\"1\" class=\"dataframe\">\n",
       "  <thead>\n",
       "    <tr style=\"text-align: right;\">\n",
       "      <th></th>\n",
       "      <th></th>\n",
       "      <th>Adj Close</th>\n",
       "    </tr>\n",
       "    <tr>\n",
       "      <th>Symbol</th>\n",
       "      <th>Date</th>\n",
       "      <th></th>\n",
       "    </tr>\n",
       "  </thead>\n",
       "  <tbody>\n",
       "    <tr>\n",
       "      <th rowspan=\"5\" valign=\"top\">ILMN</th>\n",
       "      <th>2025-04-08</th>\n",
       "      <td>70.30</td>\n",
       "    </tr>\n",
       "    <tr>\n",
       "      <th>2025-04-07</th>\n",
       "      <td>73.45</td>\n",
       "    </tr>\n",
       "    <tr>\n",
       "      <th>2025-04-04</th>\n",
       "      <td>74.16</td>\n",
       "    </tr>\n",
       "    <tr>\n",
       "      <th>2025-04-03</th>\n",
       "      <td>76.42</td>\n",
       "    </tr>\n",
       "    <tr>\n",
       "      <th>2025-04-02</th>\n",
       "      <td>81.88</td>\n",
       "    </tr>\n",
       "    <tr>\n",
       "      <th>...</th>\n",
       "      <th>...</th>\n",
       "      <td>...</td>\n",
       "    </tr>\n",
       "    <tr>\n",
       "      <th rowspan=\"5\" valign=\"top\">RF</th>\n",
       "      <th>2024-04-15</th>\n",
       "      <td>18.41</td>\n",
       "    </tr>\n",
       "    <tr>\n",
       "      <th>2024-04-12</th>\n",
       "      <td>18.38</td>\n",
       "    </tr>\n",
       "    <tr>\n",
       "      <th>2024-04-11</th>\n",
       "      <td>18.59</td>\n",
       "    </tr>\n",
       "    <tr>\n",
       "      <th>2024-04-10</th>\n",
       "      <td>18.85</td>\n",
       "    </tr>\n",
       "    <tr>\n",
       "      <th>2024-04-09</th>\n",
       "      <td>19.82</td>\n",
       "    </tr>\n",
       "  </tbody>\n",
       "</table>\n",
       "<p>381520 rows × 1 columns</p>\n",
       "</div>"
      ],
      "text/plain": [
       "                   Adj Close\n",
       "Symbol Date                 \n",
       "ILMN   2025-04-08      70.30\n",
       "       2025-04-07      73.45\n",
       "       2025-04-04      74.16\n",
       "       2025-04-03      76.42\n",
       "       2025-04-02      81.88\n",
       "...                      ...\n",
       "RF     2024-04-15      18.41\n",
       "       2024-04-12      18.38\n",
       "       2024-04-11      18.59\n",
       "       2024-04-10      18.85\n",
       "       2024-04-09      19.82\n",
       "\n",
       "[381520 rows x 1 columns]"
      ]
     },
     "metadata": {},
     "output_type": "display_data"
    }
   ],
   "source": [
    "import pandas as pd\n",
    "\n",
    "# Load the DataFrame df_OHLCV_2025-03-14_clean.pkl\n",
    "# df = pd.read_pickle(source_path)\n",
    "df = pd.read_parquet(source_path, engine='pyarrow')\n",
    "\n",
    "# Display the first few rows of the DataFrame to verify\n",
    "df = df[['Adj Close']].copy()\n",
    "display(df)"
   ]
  },
  {
   "cell_type": "code",
   "execution_count": 7,
   "metadata": {
    "execution": {
     "iopub.execute_input": "2025-04-09T02:14:35.560108Z",
     "iopub.status.busy": "2025-04-09T02:14:35.560108Z",
     "iopub.status.idle": "2025-04-09T02:14:35.600171Z",
     "shell.execute_reply": "2025-04-09T02:14:35.598636Z"
    }
   },
   "outputs": [
    {
     "name": "stdout",
     "output_type": "stream",
     "text": [
      "<class 'pandas.core.frame.DataFrame'>\n",
      "MultiIndex: 381520 entries, ('ILMN', Timestamp('2025-04-08 00:00:00')) to ('RF', Timestamp('2024-04-09 00:00:00'))\n",
      "Data columns (total 1 columns):\n",
      " #   Column     Non-Null Count   Dtype  \n",
      "---  ------     --------------   -----  \n",
      " 0   Adj Close  381520 non-null  float64\n",
      "dtypes: float64(1)\n",
      "memory usage: 4.4+ MB\n"
     ]
    }
   ],
   "source": [
    "df.info()"
   ]
  },
  {
   "cell_type": "code",
   "execution_count": 8,
   "metadata": {
    "execution": {
     "iopub.execute_input": "2025-04-09T02:14:35.608213Z",
     "iopub.status.busy": "2025-04-09T02:14:35.608213Z",
     "iopub.status.idle": "2025-04-09T02:15:57.233835Z",
     "shell.execute_reply": "2025-04-09T02:15:57.231841Z"
    }
   },
   "outputs": [
    {
     "name": "stdout",
     "output_type": "stream",
     "text": [
      "                   Adj Close\n",
      "Symbol Date                 \n",
      "MSFT   2025-04-08     354.56\n",
      "       2025-04-07     357.86\n",
      "       2025-04-04     359.84\n",
      "       2025-04-03     373.11\n",
      "       2025-04-02     382.14\n",
      "...                      ...\n",
      "IYH    2024-04-15      57.52\n",
      "       2024-04-12      57.72\n",
      "       2024-04-11      58.53\n",
      "       2024-04-10      58.78\n",
      "       2024-04-09      59.52\n",
      "\n",
      "[381520 rows x 1 columns]\n"
     ]
    }
   ],
   "source": [
    "import pandas as pd\n",
    "\n",
    "def select_tickers_data(df, tickers):\n",
    "  \"\"\"\n",
    "  Selects data for a list of tickers from a DataFrame with a MultiIndex\n",
    "  where the first level is the ticker and the second level is the date.\n",
    "\n",
    "  Args:\n",
    "    df (pd.DataFrame): The input DataFrame with a MultiIndex.\n",
    "    tickers (list): A list of ticker symbols to select.\n",
    "\n",
    "  Returns:\n",
    "    pd.DataFrame: A DataFrame containing only the data for the specified tickers.\n",
    "                  Rows for tickers not found will not be included.\n",
    "  \"\"\"\n",
    "  valid_tickers = [t for t in tickers if t in df.index.get_level_values(0)]  # Filter out the tickers that do not exist\n",
    "\n",
    "  if not valid_tickers:\n",
    "    print(\"No valid tickers found in the DataFrame. Returning an empty DataFrame.\")\n",
    "    return pd.DataFrame()\n",
    "\n",
    "  try:\n",
    "    ticker_df = df.loc[valid_tickers]\n",
    "    return ticker_df\n",
    "  except KeyError as e:\n",
    "    print(f\"KeyError after filtering valid tickers: {e}\") #Added to help debugging.\n",
    "    return pd.DataFrame()\n",
    "\n",
    "\n",
    "# Example usage:\n",
    "# ticker_list = [\"UBS\", \"AAPL\", \"MSFT\", \"GEV\"]  # Include some valid and invalid tickers\n",
    "selected_data = select_tickers_data(df, tickers)\n",
    "print(selected_data)"
   ]
  },
  {
   "cell_type": "code",
   "execution_count": 9,
   "metadata": {
    "execution": {
     "iopub.execute_input": "2025-04-09T02:15:57.241835Z",
     "iopub.status.busy": "2025-04-09T02:15:57.240836Z",
     "iopub.status.idle": "2025-04-09T02:16:24.775217Z",
     "shell.execute_reply": "2025-04-09T02:16:24.773188Z"
    }
   },
   "outputs": [],
   "source": [
    "# Get root directory (assuming notebook is in root/notebooks/)\n",
    "NOTEBOOK_DIR = Path.cwd()\n",
    "ROOT_DIR = NOTEBOOK_DIR.parent if NOTEBOOK_DIR.name == 'notebooks' else NOTEBOOK_DIR\n",
    "\n",
    "import sys\n",
    "\n",
    "# Add src directory to Python path\n",
    "sys.path.append(str(ROOT_DIR / 'src'))\n",
    "\n",
    "import utils\n",
    "\n",
    "list_dfs = utils.get_latest_dfs(selected_data, DAYS_RATIO)"
   ]
  },
  {
   "cell_type": "code",
   "execution_count": 10,
   "metadata": {
    "execution": {
     "iopub.execute_input": "2025-04-09T02:16:24.782218Z",
     "iopub.status.busy": "2025-04-09T02:16:24.781225Z",
     "iopub.status.idle": "2025-04-09T02:17:32.677949Z",
     "shell.execute_reply": "2025-04-09T02:17:32.675922Z"
    }
   },
   "outputs": [
    {
     "name": "stdout",
     "output_type": "stream",
     "text": [
      "\n",
      "Combined performance metrics DataFrame:\n",
      "      Sharpe 3d  Sortino 3d  Omega 3d  Sharpe 5d  Sortino 5d  Omega 5d  Sharpe 10d  Sortino 10d  Omega 10d  Sharpe 15d  Sortino 15d  Omega 15d  Sharpe 30d  Sortino 30d  Omega 30d  Sharpe 60d  Sortino 60d  Omega 60d  Sharpe 120d  Sortino 120d  Omega 120d  Sharpe 250d  Sortino 250d  Omega 250d\n",
      "A     -8.578090   -9.724640  0.133660 -20.008903  -13.107840  0.035408  -11.769157    -9.978208   0.119172   -9.661497    -8.661607   0.159365   -6.955251    -6.948443   0.291651   -4.855183    -5.326868   0.423723    -2.725345     -3.339190    0.626001    -1.336009     -1.708551    0.791007\n",
      "AA   -13.990207  -12.381732  0.000000 -25.933875  -14.025664  0.000000  -14.362839   -11.082723   0.058044  -12.372732   -10.070277   0.065104   -5.089000    -5.450813   0.417912   -3.418318    -3.872694   0.556891    -2.385336     -2.861628    0.660848    -0.785485     -1.051124    0.877581\n",
      "AAL   -4.838442   -6.762121  0.397582 -10.084630   -9.605393  0.151291   -9.491234    -8.845306   0.195409   -6.814061    -6.963388   0.315075   -7.128093    -7.356382   0.341200   -5.481943    -5.795941   0.388179    -0.999738     -1.410956    0.832801    -0.720277     -1.007867    0.876188\n",
      "AAON  -7.370033   -8.897918  0.207310 -16.694801  -12.272320  0.033853   -5.860173    -6.609281   0.370952   -3.813488    -4.741976   0.533854   -2.947506    -3.298919   0.547436   -2.717638    -3.034727   0.575254    -1.140881     -1.454712    0.788239    -0.170917     -0.219438    0.965224\n",
      "AAPL -74.527717  -15.697459  0.000000 -40.588218  -15.035442  0.000000  -10.811616    -9.422383   0.133056   -6.792416    -6.644427   0.275136   -6.241941    -6.171364   0.313889   -3.271829    -3.593190   0.548504    -2.108200     -2.387532    0.672707     0.114515      0.150251    1.021098\n",
      "...         ...         ...       ...        ...         ...       ...         ...          ...        ...         ...          ...        ...         ...          ...        ...         ...          ...        ...          ...           ...         ...          ...           ...         ...\n",
      "ZION   5.079999   18.559188  2.653384  -9.641366   -9.316294  0.152629   -6.269652    -6.328154   0.248785   -4.095123    -4.304717   0.387849   -3.765400    -3.997129   0.457097   -2.427741    -2.721363   0.629378    -0.707022     -1.008074    0.864776     0.236402      0.348356    1.045038\n",
      "ZM    -7.275236   -8.828476  0.213497 -13.653726  -11.201746  0.035800  -10.308225    -9.129417   0.122688   -6.204501    -6.366603   0.276512   -2.769958    -3.124213   0.602420   -1.884438    -2.342169   0.686740    -0.088083     -0.120221    0.984168     0.255255      0.375133    1.047857\n",
      "ZS     3.251824    9.156140  1.815694 -10.737940  -10.098735  0.170162   -7.035346    -7.164749   0.301189   -4.042659    -4.453573   0.496424   -1.382623    -1.657666   0.802757   -0.348375    -0.449555   0.943382    -0.396925     -0.515170    0.937379     0.031526      0.040501    1.005578\n",
      "ZTO  -13.725567  -12.288401  0.000000 -18.822205  -12.819195  0.000000  -10.650915    -9.320970   0.086980  -10.340526    -8.966121   0.069553   -3.055971    -3.523881   0.583542   -0.885876    -1.099617   0.864525    -2.360898     -2.856885    0.680672    -0.444059     -0.632585    0.928361\n",
      "ZTS  -39.032538  -15.256179  0.000000 -35.129617  -14.782827  0.000000   -9.961499    -9.120790   0.213721   -7.872649    -7.586196   0.252378   -4.071244    -4.524248   0.503398   -2.013299    -2.404466   0.716235    -2.342799     -2.762388    0.680109    -0.469051     -0.620116    0.920765\n",
      "\n",
      "[1520 rows x 24 columns]\n"
     ]
    }
   ],
   "source": [
    "import numpy as np\n",
    "\n",
    "all_results = {}\n",
    "\n",
    "for _df in list_dfs:\n",
    "    tickers_in_df = _df.index.get_level_values(0).unique()\n",
    "    for ticker in tickers_in_df:\n",
    "        # Suppress division warnings just for this calculation\n",
    "        with np.errstate(divide='ignore', invalid='ignore'):\n",
    "            result_df = utils.analyze_stock(_df, ticker, risk_free_rate=RISK_FREE_RATE)\n",
    "        \n",
    "        if result_df is not None:\n",
    "            # Extract the ticker name from the result_df index\n",
    "            ticker_name = result_df.index[0]\n",
    "            # Convert the single-row DataFrame to a dictionary\n",
    "            metrics = result_df.iloc[0].to_dict()\n",
    "            \n",
    "            # Update the existing ticker entry or create a new one\n",
    "            if ticker_name in all_results:\n",
    "                all_results[ticker_name].update(metrics)\n",
    "            else:\n",
    "                all_results[ticker_name] = metrics\n",
    "\n",
    "if all_results:\n",
    "    combined_df = pd.DataFrame.from_dict(all_results, orient='index')\n",
    "    print(\"\\nCombined performance metrics DataFrame:\")\n",
    "    print(combined_df)\n",
    "else:\n",
    "    print(\"No performance metrics were calculated.\")"
   ]
  },
  {
   "cell_type": "code",
   "execution_count": 11,
   "metadata": {
    "execution": {
     "iopub.execute_input": "2025-04-09T02:17:32.684943Z",
     "iopub.status.busy": "2025-04-09T02:17:32.683950Z",
     "iopub.status.idle": "2025-04-09T02:17:32.865066Z",
     "shell.execute_reply": "2025-04-09T02:17:32.863048Z"
    }
   },
   "outputs": [
    {
     "name": "stdout",
     "output_type": "stream",
     "text": [
      "combined_df has_nan_inf: True\n",
      "Replacing NaN/Inf values with column-specific max/min values\n",
      "NaN/Inf Locations BEFORE Replacement:\n",
      "Column: Sharpe 3d\n",
      "  -Inf: ['BSCP', 'TBIL']\n",
      "Column: Sortino 3d\n",
      "  Inf: ['AEM', 'ANET', 'APP', 'AVGO', 'AXON', 'BA', 'BWXT', 'CACC', 'CEG', 'CRWD', 'CVNA', 'CVS', 'CW', 'DRS', 'DTM', 'EME', 'EQT', 'FHN', 'FIX', 'FTNT', 'GE', 'GEV', 'HUBB', 'HUM', 'ICL', 'IOT', 'ITA', 'JPM', 'LNG', 'MFG', 'NEM', 'NFLX', 'NU', 'PAAA', 'PPA', 'PSTG', 'RCL', 'SNOW', 'SRAD', 'TKC', 'UI', 'WDC']\n",
      "Column: Omega 3d\n",
      "  NaN: ['AEM', 'ANET', 'APP', 'AVGO', 'AXON', 'BA', 'BWXT', 'CACC', 'CEG', 'CRWD', 'CVNA', 'CVS', 'CW', 'DRS', 'DTM', 'EME', 'EQT', 'FHN', 'FIX', 'FTNT', 'GE', 'GEV', 'HUBB', 'HUM', 'ICL', 'IOT', 'ITA', 'JPM', 'LNG', 'MFG', 'NEM', 'NFLX', 'NU', 'PAAA', 'PPA', 'PSTG', 'RCL', 'SNOW', 'SRAD', 'TKC', 'UI', 'WDC']\n",
      "df_to_save has_nan_inf: False\n",
      "NaN/Inf Locations AFTER Replacement:\n",
      "No NaN or Inf values found.\n",
      "      Sharpe 3d  Sortino 3d  Omega 3d  Sharpe 5d  Sortino 5d  Omega 5d  Sharpe 10d  Sortino 10d  Omega 10d  Sharpe 15d  Sortino 15d  Omega 15d  Sharpe 30d  Sortino 30d  Omega 30d  Sharpe 60d  Sortino 60d  Omega 60d  Sharpe 120d  Sortino 120d  Omega 120d  Sharpe 250d  Sortino 250d  Omega 250d\n",
      "A     -8.578090   -9.724640  0.133660 -20.008903  -13.107840  0.035408  -11.769157    -9.978208   0.119172   -9.661497    -8.661607   0.159365   -6.955251    -6.948443   0.291651   -4.855183    -5.326868   0.423723    -2.725345     -3.339190    0.626001    -1.336009     -1.708551    0.791007\n",
      "AA   -13.990207  -12.381732  0.000000 -25.933875  -14.025664  0.000000  -14.362839   -11.082723   0.058044  -12.372732   -10.070277   0.065104   -5.089000    -5.450813   0.417912   -3.418318    -3.872694   0.556891    -2.385336     -2.861628    0.660848    -0.785485     -1.051124    0.877581\n",
      "AAL   -4.838442   -6.762121  0.397582 -10.084630   -9.605393  0.151291   -9.491234    -8.845306   0.195409   -6.814061    -6.963388   0.315075   -7.128093    -7.356382   0.341200   -5.481943    -5.795941   0.388179    -0.999738     -1.410956    0.832801    -0.720277     -1.007867    0.876188\n",
      "AAON  -7.370033   -8.897918  0.207310 -16.694801  -12.272320  0.033853   -5.860173    -6.609281   0.370952   -3.813488    -4.741976   0.533854   -2.947506    -3.298919   0.547436   -2.717638    -3.034727   0.575254    -1.140881     -1.454712    0.788239    -0.170917     -0.219438    0.965224\n",
      "AAPL -74.527717  -15.697459  0.000000 -40.588218  -15.035442  0.000000  -10.811616    -9.422383   0.133056   -6.792416    -6.644427   0.275136   -6.241941    -6.171364   0.313889   -3.271829    -3.593190   0.548504    -2.108200     -2.387532    0.672707     0.114515      0.150251    1.021098\n",
      "...         ...         ...       ...        ...         ...       ...         ...          ...        ...         ...          ...        ...         ...          ...        ...         ...          ...        ...          ...           ...         ...          ...           ...         ...\n",
      "ZION   5.079999   18.559188  2.653384  -9.641366   -9.316294  0.152629   -6.269652    -6.328154   0.248785   -4.095123    -4.304717   0.387849   -3.765400    -3.997129   0.457097   -2.427741    -2.721363   0.629378    -0.707022     -1.008074    0.864776     0.236402      0.348356    1.045038\n",
      "ZM    -7.275236   -8.828476  0.213497 -13.653726  -11.201746  0.035800  -10.308225    -9.129417   0.122688   -6.204501    -6.366603   0.276512   -2.769958    -3.124213   0.602420   -1.884438    -2.342169   0.686740    -0.088083     -0.120221    0.984168     0.255255      0.375133    1.047857\n",
      "ZS     3.251824    9.156140  1.815694 -10.737940  -10.098735  0.170162   -7.035346    -7.164749   0.301189   -4.042659    -4.453573   0.496424   -1.382623    -1.657666   0.802757   -0.348375    -0.449555   0.943382    -0.396925     -0.515170    0.937379     0.031526      0.040501    1.005578\n",
      "ZTO  -13.725567  -12.288401  0.000000 -18.822205  -12.819195  0.000000  -10.650915    -9.320970   0.086980  -10.340526    -8.966121   0.069553   -3.055971    -3.523881   0.583542   -0.885876    -1.099617   0.864525    -2.360898     -2.856885    0.680672    -0.444059     -0.632585    0.928361\n",
      "ZTS  -39.032538  -15.256179  0.000000 -35.129617  -14.782827  0.000000   -9.961499    -9.120790   0.213721   -7.872649    -7.586196   0.252378   -4.071244    -4.524248   0.503398   -2.013299    -2.404466   0.716235    -2.342799     -2.762388    0.680109    -0.469051     -0.620116    0.920765\n",
      "\n",
      "[1520 rows x 24 columns]\n"
     ]
    }
   ],
   "source": [
    "import numpy as np\n",
    "import pandas as pd\n",
    "\n",
    "def find_nan_inf(df):\n",
    "    \"\"\"\n",
    "    Finds locations of NaN, Inf, and -Inf values in a DataFrame.\n",
    "    \n",
    "    Args:\n",
    "        df (pd.DataFrame): DataFrame to check\n",
    "        \n",
    "    Returns:\n",
    "        dict: Dictionary with column names as keys and dicts of \n",
    "              {type: indices} as values\n",
    "    \"\"\"\n",
    "    nan_inf_locations = {}\n",
    "    for col in df.columns:\n",
    "        locations = {\n",
    "            'NaN': df[col].index[df[col].isnull()].tolist(),\n",
    "            'Inf': df[col].index[df[col] == np.inf].tolist(),\n",
    "            '-Inf': df[col].index[df[col] == -np.inf].tolist()\n",
    "        }\n",
    "        if any(locations.values()):\n",
    "            nan_inf_locations[col] = locations\n",
    "    return nan_inf_locations\n",
    "\n",
    "def print_nan_inf_locations(locations, message):\n",
    "    \"\"\"Prints NaN/Inf locations with a descriptive message.\"\"\"\n",
    "    print(message)\n",
    "    if locations:\n",
    "        for col, locs in locations.items():\n",
    "            print(f\"Column: {col}\")\n",
    "            for typ, indices in locs.items():\n",
    "                if indices:\n",
    "                    print(f\"  {typ}: {indices}\")\n",
    "    else:\n",
    "        print(\"No NaN or Inf values found.\")\n",
    "\n",
    "def get_column_replacement_values(df):\n",
    "    \"\"\"\n",
    "    Calculate replacement values for each column (max for Inf/NaN, min for -Inf).\n",
    "    \n",
    "    Args:\n",
    "        df (pd.DataFrame): Input DataFrame\n",
    "        \n",
    "    Returns:\n",
    "        tuple: (max_values, min_values) dictionaries with column replacement values\n",
    "    \"\"\"\n",
    "    numeric_cols = df.select_dtypes(include=[np.number]).columns\n",
    "    max_values = {}\n",
    "    min_values = {}\n",
    "    \n",
    "    for col in numeric_cols:\n",
    "        # Get finite values only\n",
    "        finite_vals = df[col][np.isfinite(df[col])]\n",
    "        if len(finite_vals) > 0:\n",
    "            max_values[col] = finite_vals.max()\n",
    "            min_values[col] = finite_vals.min()\n",
    "        else:\n",
    "            # If no finite values, use default\n",
    "            max_values[col] = 1e5\n",
    "            min_values[col] = -1e5\n",
    "    \n",
    "    return max_values, min_values\n",
    "\n",
    "# Check for NaN or Inf values\n",
    "has_nan_inf = combined_df.isnull().any().any() or not np.isfinite(combined_df).all().all()\n",
    "print(f'combined_df has_nan_inf: {has_nan_inf}')\n",
    "\n",
    "if has_nan_inf:\n",
    "    # Calculate replacement values for each column\n",
    "    max_values, min_values = get_column_replacement_values(combined_df)\n",
    "    print(\"Replacing NaN/Inf values with column-specific max/min values\")\n",
    "    \n",
    "    nan_inf_locations_before = find_nan_inf(combined_df)\n",
    "    print_nan_inf_locations(nan_inf_locations_before, \"NaN/Inf Locations BEFORE Replacement:\")\n",
    "    \n",
    "    # Create cleaned DataFrame\n",
    "    df_to_save = combined_df.copy()\n",
    "    \n",
    "    # Replace values column by column\n",
    "    for col in df_to_save.columns:\n",
    "        if col in max_values:  # Only numeric columns will be in max_values\n",
    "            # Replace NaN and +Inf with max value\n",
    "            df_to_save[col] = df_to_save[col].fillna(max_values[col])\n",
    "            df_to_save[col] = df_to_save[col].replace([np.inf], max_values[col])\n",
    "            # Replace -Inf with min value\n",
    "            df_to_save[col] = df_to_save[col].replace([-np.inf], min_values[col])\n",
    "else:\n",
    "    print(\"No NaN or Inf values found.\")\n",
    "    df_to_save = combined_df\n",
    "\n",
    "# Verification\n",
    "print(f'df_to_save has_nan_inf: {df_to_save.isnull().any().any() or not np.isfinite(df_to_save).all().all()}')\n",
    "print_nan_inf_locations(find_nan_inf(df_to_save), \"NaN/Inf Locations AFTER Replacement:\")\n",
    "\n",
    "# Output cleaned DataFrame\n",
    "print(df_to_save)"
   ]
  },
  {
   "cell_type": "code",
   "execution_count": 12,
   "metadata": {
    "execution": {
     "iopub.execute_input": "2025-04-09T02:17:32.872068Z",
     "iopub.status.busy": "2025-04-09T02:17:32.871068Z",
     "iopub.status.idle": "2025-04-09T02:17:32.884253Z",
     "shell.execute_reply": "2025-04-09T02:17:32.882231Z"
    }
   },
   "outputs": [
    {
     "data": {
      "text/plain": [
       "'AEM'"
      ]
     },
     "execution_count": 12,
     "metadata": {},
     "output_type": "execute_result"
    }
   ],
   "source": [
    "ticker_w_inf = nan_inf_locations_before['Sortino 3d']['Inf'][0]\n",
    "ticker_w_inf "
   ]
  },
  {
   "cell_type": "markdown",
   "metadata": {},
   "source": [
    "#### Use Cell below to check the inf, -inf and NaN replacement"
   ]
  },
  {
   "cell_type": "code",
   "execution_count": 13,
   "metadata": {
    "execution": {
     "iopub.execute_input": "2025-04-09T02:17:32.891252Z",
     "iopub.status.busy": "2025-04-09T02:17:32.890250Z",
     "iopub.status.idle": "2025-04-09T02:17:32.916135Z",
     "shell.execute_reply": "2025-04-09T02:17:32.915141Z"
    }
   },
   "outputs": [
    {
     "name": "stdout",
     "output_type": "stream",
     "text": [
      "combined_df.loc['ticker_w_inf']\n"
     ]
    },
    {
     "data": {
      "text/plain": [
       "Sharpe 3d       19.852088\n",
       "Sortino 3d            inf\n",
       "Omega 3d              NaN\n",
       "Sharpe 5d       -6.125631\n",
       "Sortino 5d      -6.508496\n",
       "Omega 5d         0.180007\n",
       "Sharpe 10d      -2.384339\n",
       "Sortino 10d     -2.678471\n",
       "Omega 10d        0.559882\n",
       "Sharpe 15d      -2.258406\n",
       "Sortino 15d     -2.504830\n",
       "Omega 15d        0.568917\n",
       "Sharpe 30d       0.501304\n",
       "Sortino 30d      0.633759\n",
       "Omega 30d        1.105608\n",
       "Sharpe 60d       2.598280\n",
       "Sortino 60d      3.658088\n",
       "Omega 60d        1.609983\n",
       "Sharpe 120d      1.297042\n",
       "Sortino 120d     1.855690\n",
       "Omega 120d       1.252640\n",
       "Sharpe 250d      1.672172\n",
       "Sortino 250d     2.378832\n",
       "Omega 250d       1.326936\n",
       "Name: AEM, dtype: float64"
      ]
     },
     "metadata": {},
     "output_type": "display_data"
    },
    {
     "name": "stdout",
     "output_type": "stream",
     "text": [
      "\n",
      "df_to_save.loc['ticker_w_inf']\n"
     ]
    },
    {
     "data": {
      "text/plain": [
       "Sharpe 3d        19.852088\n",
       "Sortino 3d      722.242451\n",
       "Omega 3d         65.342471\n",
       "Sharpe 5d        -6.125631\n",
       "Sortino 5d       -6.508496\n",
       "Omega 5d          0.180007\n",
       "Sharpe 10d       -2.384339\n",
       "Sortino 10d      -2.678471\n",
       "Omega 10d         0.559882\n",
       "Sharpe 15d       -2.258406\n",
       "Sortino 15d      -2.504830\n",
       "Omega 15d         0.568917\n",
       "Sharpe 30d        0.501304\n",
       "Sortino 30d       0.633759\n",
       "Omega 30d         1.105608\n",
       "Sharpe 60d        2.598280\n",
       "Sortino 60d       3.658088\n",
       "Omega 60d         1.609983\n",
       "Sharpe 120d       1.297042\n",
       "Sortino 120d      1.855690\n",
       "Omega 120d        1.252640\n",
       "Sharpe 250d       1.672172\n",
       "Sortino 250d      2.378832\n",
       "Omega 250d        1.326936\n",
       "Name: AEM, dtype: float64"
      ]
     },
     "metadata": {},
     "output_type": "display_data"
    }
   ],
   "source": [
    "print(f\"combined_df.loc['ticker_w_inf']\")\n",
    "display(combined_df.loc[ticker_w_inf])\n",
    "print(f\"\\ndf_to_save.loc['ticker_w_inf']\")\n",
    "display(df_to_save.loc[ticker_w_inf])"
   ]
  },
  {
   "cell_type": "code",
   "execution_count": 14,
   "metadata": {
    "execution": {
     "iopub.execute_input": "2025-04-09T02:17:32.924135Z",
     "iopub.status.busy": "2025-04-09T02:17:32.923141Z",
     "iopub.status.idle": "2025-04-09T02:17:32.963775Z",
     "shell.execute_reply": "2025-04-09T02:17:32.960937Z"
    }
   },
   "outputs": [
    {
     "name": "stdout",
     "output_type": "stream",
     "text": [
      "DataFrame successfully saved to ..\\data\\2025-04-08_df_perf_ratios.parquet\n"
     ]
    }
   ],
   "source": [
    "# Save the DataFrame to parquet file (always do this)\n",
    "df_to_save.to_parquet(dest_path, engine='pyarrow', compression='zstd')\n",
    "print(f\"DataFrame successfully saved to {dest_path}\")\n",
    "\n"
   ]
  },
  {
   "cell_type": "code",
   "execution_count": 15,
   "metadata": {
    "execution": {
     "iopub.execute_input": "2025-04-09T02:17:32.970813Z",
     "iopub.status.busy": "2025-04-09T02:17:32.969803Z",
     "iopub.status.idle": "2025-04-09T02:17:33.007916Z",
     "shell.execute_reply": "2025-04-09T02:17:33.005912Z"
    }
   },
   "outputs": [
    {
     "name": "stdout",
     "output_type": "stream",
     "text": [
      "+------+-------------+--------------+------------+-------------+--------------+------------+--------------+---------------+-------------+--------------+---------------+-------------+--------------+---------------+-------------+--------------+---------------+-------------+---------------+----------------+--------------+---------------+----------------+--------------+\n",
      "|      |   Sharpe 3d |   Sortino 3d |   Omega 3d |   Sharpe 5d |   Sortino 5d |   Omega 5d |   Sharpe 10d |   Sortino 10d |   Omega 10d |   Sharpe 15d |   Sortino 15d |   Omega 15d |   Sharpe 30d |   Sortino 30d |   Omega 30d |   Sharpe 60d |   Sortino 60d |   Omega 60d |   Sharpe 120d |   Sortino 120d |   Omega 120d |   Sharpe 250d |   Sortino 250d |   Omega 250d |\n",
      "+======+=============+==============+============+=============+==============+============+==============+===============+=============+==============+===============+=============+==============+===============+=============+==============+===============+=============+===============+================+==============+===============+================+==============+\n",
      "| USFR |     -6.7136 |      -8.4020 |     0.2515 |     -9.1034 |      -8.8553 |     0.1547 |      -2.4186 |       -2.9593 |      0.6503 |      -4.7684 |       -5.3225 |      0.4510 |      -2.6383 |       -3.3996 |      0.6431 |      -0.3007 |       -0.4188 |      0.9528 |        2.4871 |         3.9754 |       1.5007 |        2.6157 |         4.1420 |       1.5289 |\n",
      "+------+-------------+--------------+------------+-------------+--------------+------------+--------------+---------------+-------------+--------------+---------------+-------------+--------------+---------------+-------------+--------------+---------------+-------------+---------------+----------------+--------------+---------------+----------------+--------------+\n",
      "| AAPL |    -74.5277 |     -15.6975 |     0.0000 |    -40.5882 |     -15.0354 |     0.0000 |     -10.8116 |       -9.4224 |      0.1331 |      -6.7924 |       -6.6444 |      0.2751 |      -6.2419 |       -6.1714 |      0.3139 |      -3.2718 |       -3.5932 |      0.5485 |       -2.1082 |        -2.3875 |       0.6727 |        0.1145 |         0.1503 |       1.0211 |\n",
      "+------+-------------+--------------+------------+-------------+--------------+------------+--------------+---------------+-------------+--------------+---------------+-------------+--------------+---------------+-------------+--------------+---------------+-------------+---------------+----------------+--------------+---------------+----------------+--------------+\n",
      "| MSFT |    -45.3986 |     -15.4104 |     0.0000 |    -21.4168 |     -13.3590 |     0.0000 |      -9.9048 |       -9.2276 |      0.1694 |      -6.6465 |       -6.8077 |      0.3089 |      -4.0139 |       -4.7498 |      0.5155 |      -2.5504 |       -3.1528 |      0.6349 |       -1.4476 |        -1.7814 |       0.7701 |       -0.8479 |        -1.0659 |       0.8646 |\n",
      "+------+-------------+--------------+------------+-------------+--------------+------------+--------------+---------------+-------------+--------------+---------------+-------------+--------------+---------------+-------------+--------------+---------------+-------------+---------------+----------------+--------------+---------------+----------------+--------------+\n",
      "| GOOG |     -3.2051 |      -4.9864 |     0.5558 |    -14.4730 |     -11.7055 |     0.1116 |     -10.0105 |       -9.1195 |      0.1762 |      -6.1231 |       -6.3969 |      0.3716 |      -4.2840 |       -4.7725 |      0.5229 |      -3.3493 |       -3.8072 |      0.5810 |       -0.8059 |        -1.0656 |       0.8761 |       -0.2246 |        -0.3067 |       0.9622 |\n",
      "+------+-------------+--------------+------------+-------------+--------------+------------+--------------+---------------+-------------+--------------+---------------+-------------+--------------+---------------+-------------+--------------+---------------+-------------+---------------+----------------+--------------+---------------+----------------+--------------+\n",
      "| NVDA |      4.8688 |      17.1963 |     2.5320 |     -9.6236 |      -9.5703 |     0.2120 |      -7.5765 |       -7.5861 |      0.2501 |      -6.2167 |       -6.4373 |      0.3276 |      -3.8264 |       -4.3511 |      0.5344 |      -1.7323 |       -2.0777 |      0.7429 |       -0.9794 |        -1.2219 |       0.8458 |        0.3993 |         0.5493 |       1.0685 |\n",
      "+------+-------------+--------------+------------+-------------+--------------+------------+--------------+---------------+-------------+--------------+---------------+-------------+--------------+---------------+-------------+--------------+---------------+-------------+---------------+----------------+--------------+---------------+----------------+--------------+\n",
      "| IBIT |    -17.3651 |     -13.3317 |     0.0000 |    -11.0158 |     -10.2552 |     0.1672 |      -5.4601 |       -5.9699 |      0.4207 |      -3.4190 |       -4.1462 |      0.5684 |      -1.2277 |       -1.6014 |      0.8184 |      -1.5538 |       -1.9863 |      0.7803 |        0.7117 |         1.1003 |       1.1252 |        0.3573 |         0.5317 |       1.0604 |\n",
      "+------+-------------+--------------+------------+-------------+--------------+------------+--------------+---------------+-------------+--------------+---------------+-------------+--------------+---------------+-------------+--------------+---------------+-------------+---------------+----------------+--------------+---------------+----------------+--------------+\n",
      "| GLD  |     -6.8191 |      -8.4841 |     0.2442 |    -13.4171 |     -11.2325 |     0.1028 |      -1.4941 |       -1.8875 |      0.7824 |      -2.3145 |       -2.8240 |      0.6707 |       1.0519 |        1.4657 |      1.1865 |       3.1279 |        4.7639 |      1.6550 |        1.3416 |         1.8230 |       1.2419 |        1.3957 |         1.9682 |       1.2538 |\n",
      "+------+-------------+--------------+------------+-------------+--------------+------------+--------------+---------------+-------------+--------------+---------------+-------------+--------------+---------------+-------------+--------------+---------------+-------------+---------------+----------------+--------------+---------------+----------------+--------------+\n",
      "| VCIT |    -43.9122 |     -15.3800 |     0.0000 |    -11.8232 |     -10.5332 |     0.1244 |      -3.9781 |       -4.3659 |      0.4684 |      -4.4990 |       -4.7886 |      0.4095 |      -2.9060 |       -3.2581 |      0.5947 |       0.8460 |        1.1398 |      1.1552 |       -1.1104 |        -1.4454 |       0.8301 |        0.4035 |         0.5649 |       1.0667 |\n",
      "+------+-------------+--------------+------------+-------------+--------------+------------+--------------+---------------+-------------+--------------+---------------+-------------+--------------+---------------+-------------+--------------+---------------+-------------+---------------+----------------+--------------+---------------+----------------+--------------+\n"
     ]
    }
   ],
   "source": [
    "import pandas as pd\n",
    "import numpy as np\n",
    "from tabulate import tabulate\n",
    "\n",
    "_symbols = ['USFR','AAPL', 'MSFT', 'GOOG', 'NVDA', 'IBIT', 'GLD', 'VCIT']\n",
    "# Create and display the formatted table\n",
    "selected_df = df_to_save.loc[_symbols] #Use df_to_save here\n",
    "print(tabulate(selected_df, headers='keys', tablefmt='grid', floatfmt='.4f'))"
   ]
  },
  {
   "cell_type": "code",
   "execution_count": null,
   "metadata": {},
   "outputs": [],
   "source": []
  }
 ],
 "metadata": {
  "kernelspec": {
   "display_name": ".venv",
   "language": "python",
   "name": "python3"
  },
  "language_info": {
   "codemirror_mode": {
    "name": "ipython",
    "version": 3
   },
   "file_extension": ".py",
   "mimetype": "text/x-python",
   "name": "python",
   "nbconvert_exporter": "python",
   "pygments_lexer": "ipython3",
   "version": "3.11.9"
  }
 },
 "nbformat": 4,
 "nbformat_minor": 2
}
