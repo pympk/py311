{
 "cells": [
  {
   "cell_type": "code",
   "execution_count": null,
   "metadata": {},
   "outputs": [],
   "source": []
  },
  {
   "cell_type": "code",
   "execution_count": 1,
   "metadata": {
    "execution": {
     "iopub.execute_input": "2025-04-10T02:27:22.273063Z",
     "iopub.status.busy": "2025-04-10T02:27:22.272069Z",
     "iopub.status.idle": "2025-04-10T02:27:22.291468Z",
     "shell.execute_reply": "2025-04-10T02:27:22.290450Z"
    }
   },
   "outputs": [],
   "source": [
    "# Configuration\n",
    "\n",
    "# days used in calculating ratios\n",
    "DAYS_RATIO = [3, 5, 10, 15, 30, 60, 120, 250]\n",
    "\n",
    "# risk free rate\n",
    "RISK_FREE_RATE = 0.04"
   ]
  },
  {
   "cell_type": "code",
   "execution_count": 2,
   "metadata": {
    "execution": {
     "iopub.execute_input": "2025-04-10T02:27:22.298465Z",
     "iopub.status.busy": "2025-04-10T02:27:22.297469Z",
     "iopub.status.idle": "2025-04-10T02:27:23.800691Z",
     "shell.execute_reply": "2025-04-10T02:27:23.798677Z"
    }
   },
   "outputs": [],
   "source": [
    "import pandas as pd\n",
    "\n",
    "# Set pandas display options to show more columns and rows\n",
    "pd.set_option('display.max_columns', None)  # Show all columns\n",
    "# pd.set_option('display.max_rows', 10)       # Limit to 10 rows for readability\n",
    "pd.set_option('display.width', None)        # Let the display adjust to the window\n",
    "\n",
    "# 2. Set the display width (optional but often helpful)\n",
    "#    'None' tries to detect terminal width. \n",
    "#    A large number (e.g., 1000) ensures no wrapping unless absolutely necessary.\n",
    "pd.set_option('display.width', 1000) "
   ]
  },
  {
   "cell_type": "code",
   "execution_count": 3,
   "metadata": {
    "execution": {
     "iopub.execute_input": "2025-04-10T02:27:23.808697Z",
     "iopub.status.busy": "2025-04-10T02:27:23.807697Z",
     "iopub.status.idle": "2025-04-10T02:27:23.824335Z",
     "shell.execute_reply": "2025-04-10T02:27:23.822312Z"
    }
   },
   "outputs": [
    {
     "name": "stdout",
     "output_type": "stream",
     "text": [
      "date_str: 2025-04-09\n",
      "DEST_DIR: ..\\data\n",
      "\n",
      "source_path: ..\\data\\2025-04-09_df_OHLCV_clean.parquet\n",
      "dest_path: ..\\data\\2025-04-09_df_perf_ratios.parquet\n"
     ]
    }
   ],
   "source": [
    "# process_files.py\n",
    "from config import date_str, DOWNLOAD_DIR, DEST_DIR\n",
    "from pathlib import Path  # Better path handling\n",
    "\n",
    "print(f\"date_str: {date_str}\")\n",
    "# print(f\"DOWNLOAD_DIR: {DOWNLOAD_DIR}\")\n",
    "print(f\"DEST_DIR: {DEST_DIR}\\n\")\n",
    "\n",
    "# Build paths\n",
    "source_path = Path(DEST_DIR) / f'{date_str}_df_OHLCV_clean.parquet'\n",
    "dest_path = Path(DEST_DIR) / f'{date_str}_df_perf_ratios.parquet'\n",
    "\n",
    "print(f\"source_path: {source_path}\")\n",
    "print(f\"dest_path: {dest_path}\")"
   ]
  },
  {
   "cell_type": "code",
   "execution_count": 4,
   "metadata": {
    "execution": {
     "iopub.execute_input": "2025-04-10T02:27:23.924697Z",
     "iopub.status.busy": "2025-04-10T02:27:23.923705Z",
     "iopub.status.idle": "2025-04-10T02:27:24.028549Z",
     "shell.execute_reply": "2025-04-10T02:27:24.027014Z"
    }
   },
   "outputs": [],
   "source": [
    "import pandas as pd\n",
    "\n",
    "# Get tickers from df_finviz.pkl file\n",
    "df_finviz = pd.read_parquet(f'..\\data\\{date_str}_df_finviz.parquet')\n",
    "tickers = df_finviz.index.to_list()"
   ]
  },
  {
   "cell_type": "code",
   "execution_count": 5,
   "metadata": {
    "execution": {
     "iopub.execute_input": "2025-04-10T02:27:24.037552Z",
     "iopub.status.busy": "2025-04-10T02:27:24.035551Z",
     "iopub.status.idle": "2025-04-10T02:27:24.335505Z",
     "shell.execute_reply": "2025-04-10T02:27:24.333483Z"
    }
   },
   "outputs": [
    {
     "data": {
      "text/html": [
       "<div>\n",
       "<style scoped>\n",
       "    .dataframe tbody tr th:only-of-type {\n",
       "        vertical-align: middle;\n",
       "    }\n",
       "\n",
       "    .dataframe tbody tr th {\n",
       "        vertical-align: top;\n",
       "    }\n",
       "\n",
       "    .dataframe thead th {\n",
       "        text-align: right;\n",
       "    }\n",
       "</style>\n",
       "<table border=\"1\" class=\"dataframe\">\n",
       "  <thead>\n",
       "    <tr style=\"text-align: right;\">\n",
       "      <th></th>\n",
       "      <th></th>\n",
       "      <th>Open</th>\n",
       "      <th>High</th>\n",
       "      <th>Low</th>\n",
       "      <th>Close</th>\n",
       "      <th>Adj Close</th>\n",
       "      <th>Volume</th>\n",
       "      <th>Adj Open</th>\n",
       "      <th>Adj High</th>\n",
       "      <th>Adj Low</th>\n",
       "    </tr>\n",
       "    <tr>\n",
       "      <th>Symbol</th>\n",
       "      <th>Date</th>\n",
       "      <th></th>\n",
       "      <th></th>\n",
       "      <th></th>\n",
       "      <th></th>\n",
       "      <th></th>\n",
       "      <th></th>\n",
       "      <th></th>\n",
       "      <th></th>\n",
       "      <th></th>\n",
       "    </tr>\n",
       "  </thead>\n",
       "  <tbody>\n",
       "    <tr>\n",
       "      <th rowspan=\"5\" valign=\"top\">INVH</th>\n",
       "      <th>2025-04-09</th>\n",
       "      <td>29.91</td>\n",
       "      <td>32.36</td>\n",
       "      <td>29.37</td>\n",
       "      <td>32.27</td>\n",
       "      <td>32.27</td>\n",
       "      <td>4914785</td>\n",
       "      <td>29.910000</td>\n",
       "      <td>32.360000</td>\n",
       "      <td>29.370000</td>\n",
       "    </tr>\n",
       "    <tr>\n",
       "      <th>2025-04-08</th>\n",
       "      <td>31.96</td>\n",
       "      <td>32.16</td>\n",
       "      <td>30.10</td>\n",
       "      <td>30.53</td>\n",
       "      <td>30.53</td>\n",
       "      <td>3600600</td>\n",
       "      <td>31.960000</td>\n",
       "      <td>32.160000</td>\n",
       "      <td>30.100000</td>\n",
       "    </tr>\n",
       "    <tr>\n",
       "      <th>2025-04-07</th>\n",
       "      <td>32.67</td>\n",
       "      <td>32.94</td>\n",
       "      <td>30.96</td>\n",
       "      <td>31.44</td>\n",
       "      <td>31.44</td>\n",
       "      <td>5098400</td>\n",
       "      <td>32.670000</td>\n",
       "      <td>32.940000</td>\n",
       "      <td>30.960000</td>\n",
       "    </tr>\n",
       "    <tr>\n",
       "      <th>2025-04-04</th>\n",
       "      <td>33.78</td>\n",
       "      <td>34.13</td>\n",
       "      <td>32.44</td>\n",
       "      <td>32.54</td>\n",
       "      <td>32.54</td>\n",
       "      <td>4671900</td>\n",
       "      <td>33.780000</td>\n",
       "      <td>34.130000</td>\n",
       "      <td>32.440000</td>\n",
       "    </tr>\n",
       "    <tr>\n",
       "      <th>2025-04-03</th>\n",
       "      <td>34.35</td>\n",
       "      <td>34.72</td>\n",
       "      <td>33.88</td>\n",
       "      <td>33.99</td>\n",
       "      <td>33.99</td>\n",
       "      <td>2766900</td>\n",
       "      <td>34.350000</td>\n",
       "      <td>34.720000</td>\n",
       "      <td>33.880000</td>\n",
       "    </tr>\n",
       "    <tr>\n",
       "      <th>...</th>\n",
       "      <th>...</th>\n",
       "      <td>...</td>\n",
       "      <td>...</td>\n",
       "      <td>...</td>\n",
       "      <td>...</td>\n",
       "      <td>...</td>\n",
       "      <td>...</td>\n",
       "      <td>...</td>\n",
       "      <td>...</td>\n",
       "      <td>...</td>\n",
       "    </tr>\n",
       "    <tr>\n",
       "      <th rowspan=\"5\" valign=\"top\">GD</th>\n",
       "      <th>2024-04-16</th>\n",
       "      <td>285.46</td>\n",
       "      <td>286.38</td>\n",
       "      <td>283.68</td>\n",
       "      <td>285.30</td>\n",
       "      <td>281.02</td>\n",
       "      <td>1388500</td>\n",
       "      <td>281.177600</td>\n",
       "      <td>282.083798</td>\n",
       "      <td>279.424303</td>\n",
       "    </tr>\n",
       "    <tr>\n",
       "      <th>2024-04-15</th>\n",
       "      <td>291.71</td>\n",
       "      <td>291.75</td>\n",
       "      <td>284.36</td>\n",
       "      <td>284.75</td>\n",
       "      <td>280.48</td>\n",
       "      <td>976600</td>\n",
       "      <td>287.335631</td>\n",
       "      <td>287.375031</td>\n",
       "      <td>280.095848</td>\n",
       "    </tr>\n",
       "    <tr>\n",
       "      <th>2024-04-12</th>\n",
       "      <td>288.41</td>\n",
       "      <td>290.75</td>\n",
       "      <td>286.79</td>\n",
       "      <td>287.87</td>\n",
       "      <td>283.56</td>\n",
       "      <td>1280300</td>\n",
       "      <td>284.091915</td>\n",
       "      <td>286.396881</td>\n",
       "      <td>282.496170</td>\n",
       "    </tr>\n",
       "    <tr>\n",
       "      <th>2024-04-11</th>\n",
       "      <td>287.83</td>\n",
       "      <td>288.64</td>\n",
       "      <td>286.16</td>\n",
       "      <td>287.50</td>\n",
       "      <td>283.19</td>\n",
       "      <td>710900</td>\n",
       "      <td>283.515053</td>\n",
       "      <td>284.312910</td>\n",
       "      <td>281.870088</td>\n",
       "    </tr>\n",
       "    <tr>\n",
       "      <th>2024-04-10</th>\n",
       "      <td>287.40</td>\n",
       "      <td>290.74</td>\n",
       "      <td>286.66</td>\n",
       "      <td>290.04</td>\n",
       "      <td>284.29</td>\n",
       "      <td>935600</td>\n",
       "      <td>281.702338</td>\n",
       "      <td>284.976123</td>\n",
       "      <td>280.977008</td>\n",
       "    </tr>\n",
       "  </tbody>\n",
       "</table>\n",
       "<p>385536 rows × 9 columns</p>\n",
       "</div>"
      ],
      "text/plain": [
       "                     Open    High     Low   Close  Adj Close   Volume    Adj Open    Adj High     Adj Low\n",
       "Symbol Date                                                                                              \n",
       "INVH   2025-04-09   29.91   32.36   29.37   32.27      32.27  4914785   29.910000   32.360000   29.370000\n",
       "       2025-04-08   31.96   32.16   30.10   30.53      30.53  3600600   31.960000   32.160000   30.100000\n",
       "       2025-04-07   32.67   32.94   30.96   31.44      31.44  5098400   32.670000   32.940000   30.960000\n",
       "       2025-04-04   33.78   34.13   32.44   32.54      32.54  4671900   33.780000   34.130000   32.440000\n",
       "       2025-04-03   34.35   34.72   33.88   33.99      33.99  2766900   34.350000   34.720000   33.880000\n",
       "...                   ...     ...     ...     ...        ...      ...         ...         ...         ...\n",
       "GD     2024-04-16  285.46  286.38  283.68  285.30     281.02  1388500  281.177600  282.083798  279.424303\n",
       "       2024-04-15  291.71  291.75  284.36  284.75     280.48   976600  287.335631  287.375031  280.095848\n",
       "       2024-04-12  288.41  290.75  286.79  287.87     283.56  1280300  284.091915  286.396881  282.496170\n",
       "       2024-04-11  287.83  288.64  286.16  287.50     283.19   710900  283.515053  284.312910  281.870088\n",
       "       2024-04-10  287.40  290.74  286.66  290.04     284.29   935600  281.702338  284.976123  280.977008\n",
       "\n",
       "[385536 rows x 9 columns]"
      ]
     },
     "metadata": {},
     "output_type": "display_data"
    }
   ],
   "source": [
    "import pandas as pd\n",
    "\n",
    "pd.set_option('display.width', 1000) \n",
    "\n",
    "# Load the DataFrame df_OHLCV_2025-03-14_clean.pkl\n",
    "# df = pd.read_pickle(source_path)\n",
    "df = pd.read_parquet(source_path, engine='pyarrow')\n",
    "\n",
    "# # Display the first few rows of the DataFrame to verify\n",
    "# df = df[['Adj Close']].copy()\n",
    "display(df)"
   ]
  },
  {
   "cell_type": "code",
   "execution_count": 6,
   "metadata": {
    "execution": {
     "iopub.execute_input": "2025-04-10T02:27:24.344505Z",
     "iopub.status.busy": "2025-04-10T02:27:24.343507Z",
     "iopub.status.idle": "2025-04-10T02:27:24.601448Z",
     "shell.execute_reply": "2025-04-10T02:27:24.599427Z"
    }
   },
   "outputs": [
    {
     "data": {
      "text/html": [
       "<div>\n",
       "<style scoped>\n",
       "    .dataframe tbody tr th:only-of-type {\n",
       "        vertical-align: middle;\n",
       "    }\n",
       "\n",
       "    .dataframe tbody tr th {\n",
       "        vertical-align: top;\n",
       "    }\n",
       "\n",
       "    .dataframe thead th {\n",
       "        text-align: right;\n",
       "    }\n",
       "</style>\n",
       "<table border=\"1\" class=\"dataframe\">\n",
       "  <thead>\n",
       "    <tr style=\"text-align: right;\">\n",
       "      <th></th>\n",
       "      <th></th>\n",
       "      <th>Adj Close</th>\n",
       "    </tr>\n",
       "    <tr>\n",
       "      <th>Symbol</th>\n",
       "      <th>Date</th>\n",
       "      <th></th>\n",
       "    </tr>\n",
       "  </thead>\n",
       "  <tbody>\n",
       "    <tr>\n",
       "      <th rowspan=\"5\" valign=\"top\">INVH</th>\n",
       "      <th>2025-04-09</th>\n",
       "      <td>32.27</td>\n",
       "    </tr>\n",
       "    <tr>\n",
       "      <th>2025-04-08</th>\n",
       "      <td>30.53</td>\n",
       "    </tr>\n",
       "    <tr>\n",
       "      <th>2025-04-07</th>\n",
       "      <td>31.44</td>\n",
       "    </tr>\n",
       "    <tr>\n",
       "      <th>2025-04-04</th>\n",
       "      <td>32.54</td>\n",
       "    </tr>\n",
       "    <tr>\n",
       "      <th>2025-04-03</th>\n",
       "      <td>33.99</td>\n",
       "    </tr>\n",
       "    <tr>\n",
       "      <th>...</th>\n",
       "      <th>...</th>\n",
       "      <td>...</td>\n",
       "    </tr>\n",
       "    <tr>\n",
       "      <th rowspan=\"5\" valign=\"top\">GD</th>\n",
       "      <th>2024-04-16</th>\n",
       "      <td>281.02</td>\n",
       "    </tr>\n",
       "    <tr>\n",
       "      <th>2024-04-15</th>\n",
       "      <td>280.48</td>\n",
       "    </tr>\n",
       "    <tr>\n",
       "      <th>2024-04-12</th>\n",
       "      <td>283.56</td>\n",
       "    </tr>\n",
       "    <tr>\n",
       "      <th>2024-04-11</th>\n",
       "      <td>283.19</td>\n",
       "    </tr>\n",
       "    <tr>\n",
       "      <th>2024-04-10</th>\n",
       "      <td>284.29</td>\n",
       "    </tr>\n",
       "  </tbody>\n",
       "</table>\n",
       "<p>385536 rows × 1 columns</p>\n",
       "</div>"
      ],
      "text/plain": [
       "                   Adj Close\n",
       "Symbol Date                 \n",
       "INVH   2025-04-09      32.27\n",
       "       2025-04-08      30.53\n",
       "       2025-04-07      31.44\n",
       "       2025-04-04      32.54\n",
       "       2025-04-03      33.99\n",
       "...                      ...\n",
       "GD     2024-04-16     281.02\n",
       "       2024-04-15     280.48\n",
       "       2024-04-12     283.56\n",
       "       2024-04-11     283.19\n",
       "       2024-04-10     284.29\n",
       "\n",
       "[385536 rows x 1 columns]"
      ]
     },
     "metadata": {},
     "output_type": "display_data"
    }
   ],
   "source": [
    "import pandas as pd\n",
    "\n",
    "# Load the DataFrame df_OHLCV_2025-03-14_clean.pkl\n",
    "# df = pd.read_pickle(source_path)\n",
    "df = pd.read_parquet(source_path, engine='pyarrow')\n",
    "\n",
    "# Display the first few rows of the DataFrame to verify\n",
    "df = df[['Adj Close']].copy()\n",
    "display(df)"
   ]
  },
  {
   "cell_type": "code",
   "execution_count": 7,
   "metadata": {
    "execution": {
     "iopub.execute_input": "2025-04-10T02:27:24.609447Z",
     "iopub.status.busy": "2025-04-10T02:27:24.608449Z",
     "iopub.status.idle": "2025-04-10T02:27:24.663490Z",
     "shell.execute_reply": "2025-04-10T02:27:24.661488Z"
    }
   },
   "outputs": [
    {
     "name": "stdout",
     "output_type": "stream",
     "text": [
      "<class 'pandas.core.frame.DataFrame'>\n",
      "MultiIndex: 385536 entries, ('INVH', Timestamp('2025-04-09 00:00:00')) to ('GD', Timestamp('2024-04-10 00:00:00'))\n",
      "Data columns (total 1 columns):\n",
      " #   Column     Non-Null Count   Dtype  \n",
      "---  ------     --------------   -----  \n",
      " 0   Adj Close  385536 non-null  float64\n",
      "dtypes: float64(1)\n",
      "memory usage: 4.5+ MB\n"
     ]
    }
   ],
   "source": [
    "df.info()"
   ]
  },
  {
   "cell_type": "code",
   "execution_count": 8,
   "metadata": {
    "execution": {
     "iopub.execute_input": "2025-04-10T02:27:24.670481Z",
     "iopub.status.busy": "2025-04-10T02:27:24.669491Z",
     "iopub.status.idle": "2025-04-10T02:28:49.803446Z",
     "shell.execute_reply": "2025-04-10T02:28:49.800428Z"
    }
   },
   "outputs": [
    {
     "name": "stdout",
     "output_type": "stream",
     "text": [
      "                   Adj Close\n",
      "Symbol Date                 \n",
      "AAPL   2025-04-09     198.85\n",
      "       2025-04-08     172.42\n",
      "       2025-04-07     181.46\n",
      "       2025-04-04     188.38\n",
      "       2025-04-03     203.19\n",
      "...                      ...\n",
      "IYR    2024-04-16      80.13\n",
      "       2024-04-15      81.34\n",
      "       2024-04-12      82.69\n",
      "       2024-04-11      83.57\n",
      "       2024-04-10      83.48\n",
      "\n",
      "[385536 rows x 1 columns]\n"
     ]
    }
   ],
   "source": [
    "import pandas as pd\n",
    "\n",
    "def select_tickers_data(df, tickers):\n",
    "  \"\"\"\n",
    "  Selects data for a list of tickers from a DataFrame with a MultiIndex\n",
    "  where the first level is the ticker and the second level is the date.\n",
    "\n",
    "  Args:\n",
    "    df (pd.DataFrame): The input DataFrame with a MultiIndex.\n",
    "    tickers (list): A list of ticker symbols to select.\n",
    "\n",
    "  Returns:\n",
    "    pd.DataFrame: A DataFrame containing only the data for the specified tickers.\n",
    "                  Rows for tickers not found will not be included.\n",
    "  \"\"\"\n",
    "  valid_tickers = [t for t in tickers if t in df.index.get_level_values(0)]  # Filter out the tickers that do not exist\n",
    "\n",
    "  if not valid_tickers:\n",
    "    print(\"No valid tickers found in the DataFrame. Returning an empty DataFrame.\")\n",
    "    return pd.DataFrame()\n",
    "\n",
    "  try:\n",
    "    ticker_df = df.loc[valid_tickers]\n",
    "    return ticker_df\n",
    "  except KeyError as e:\n",
    "    print(f\"KeyError after filtering valid tickers: {e}\") #Added to help debugging.\n",
    "    return pd.DataFrame()\n",
    "\n",
    "\n",
    "# Example usage:\n",
    "# ticker_list = [\"UBS\", \"AAPL\", \"MSFT\", \"GEV\"]  # Include some valid and invalid tickers\n",
    "selected_data = select_tickers_data(df, tickers)\n",
    "print(selected_data)"
   ]
  },
  {
   "cell_type": "code",
   "execution_count": 9,
   "metadata": {
    "execution": {
     "iopub.execute_input": "2025-04-10T02:28:49.810453Z",
     "iopub.status.busy": "2025-04-10T02:28:49.810453Z",
     "iopub.status.idle": "2025-04-10T02:29:18.979976Z",
     "shell.execute_reply": "2025-04-10T02:29:18.977942Z"
    }
   },
   "outputs": [],
   "source": [
    "# Get root directory (assuming notebook is in root/notebooks/)\n",
    "NOTEBOOK_DIR = Path.cwd()\n",
    "ROOT_DIR = NOTEBOOK_DIR.parent if NOTEBOOK_DIR.name == 'notebooks' else NOTEBOOK_DIR\n",
    "\n",
    "import sys\n",
    "\n",
    "# Add src directory to Python path\n",
    "sys.path.append(str(ROOT_DIR / 'src'))\n",
    "\n",
    "import utils\n",
    "\n",
    "list_dfs = utils.get_latest_dfs(selected_data, DAYS_RATIO)"
   ]
  },
  {
   "cell_type": "code",
   "execution_count": 10,
   "metadata": {
    "execution": {
     "iopub.execute_input": "2025-04-10T02:29:18.986977Z",
     "iopub.status.busy": "2025-04-10T02:29:18.985972Z",
     "iopub.status.idle": "2025-04-10T02:30:29.477926Z",
     "shell.execute_reply": "2025-04-10T02:30:29.475900Z"
    }
   },
   "outputs": [
    {
     "name": "stdout",
     "output_type": "stream",
     "text": [
      "\n",
      "Combined performance metrics DataFrame:\n",
      "      Sharpe 3d  Sortino 3d  Omega 3d  Sharpe 5d  Sortino 5d  Omega 5d  Sharpe 10d  Sortino 10d  Omega 10d  Sharpe 15d  Sortino 15d  Omega 15d  Sharpe 30d  Sortino 30d  Omega 30d  Sharpe 60d  Sortino 60d  Omega 60d  Sharpe 120d  Sortino 120d  Omega 120d  Sharpe 250d  Sortino 250d  Omega 250d\n",
      "A      3.407661    9.786205  1.871824  -1.224217   -2.050601  0.814114   -3.991252    -5.309496   0.514326   -3.594632    -4.706455   0.517267   -3.312679    -4.259225   0.550503   -3.435796    -4.303416   0.534444    -1.757284     -2.360271    0.732819    -1.030629     -1.371201    0.832273\n",
      "AA     3.117755    8.633473  1.769131  -1.375516   -2.437089  0.792663   -4.271969    -5.711153   0.473221   -5.018810    -6.378823   0.391698   -2.434243    -3.230505   0.651285   -2.082238    -2.707788   0.690178    -1.686742     -2.208435    0.738262    -0.466215     -0.651675    0.924103\n",
      "AAL    6.144080   27.147641  3.418504   5.671178   21.628750  3.526951    0.544922     1.163371   1.114632    0.285566     0.585234   1.060536   -2.107063    -3.438746   0.681116   -2.761822    -4.061065   0.571313    -0.304724     -0.505323    0.940119    -0.229724     -0.358906    0.955910\n",
      "AAON   8.061924   57.220035  6.097566   3.542061   11.294713  2.064453    1.104584     2.212912   1.227548    1.118071     2.164965   1.230922    0.853374     1.550455   1.155813   -2.072806    -2.458731   0.655872    -0.681553     -0.906982    0.867862     0.081926      0.108386    1.017197\n",
      "AAPL   5.700888   23.168481  3.064012  -0.258234   -0.561743  0.957563   -2.439311    -3.864338   0.644446   -1.086417    -1.714888   0.809542   -2.067423    -3.012463   0.656866   -1.168993    -1.680312   0.787353    -0.772199     -1.095662    0.848490     0.451514      0.669172    1.093965\n",
      "...         ...         ...       ...        ...         ...       ...         ...          ...        ...         ...          ...        ...         ...          ...        ...         ...          ...        ...          ...           ...         ...          ...           ...         ...\n",
      "ZION   8.546894   71.647386  7.382856   3.180012    6.698655  1.714477   -2.378206    -2.953436   0.637245   -1.623804    -2.008570   0.714372   -2.157647    -2.585239   0.648865   -1.825651    -2.195460   0.701000    -0.329238     -0.488721    0.934442     0.445559      0.673529    1.087079\n",
      "ZM     6.584828   31.858719  3.838200  -0.895216   -1.449599  0.850705   -2.661983    -3.744756   0.615034   -1.758916    -2.502944   0.710710   -0.220689    -0.309896   0.958437   -0.947362    -1.291110   0.827317     0.311854      0.446178    1.058758     0.463950      0.700047    1.089307\n",
      "ZS     8.832807   82.893974  8.384782   2.596253    5.452461  1.589688   -0.479214    -0.787247   0.920158    0.206546     0.334961   1.038175    0.915052     1.390793   1.171714    0.901202     1.385054   1.176793     0.386686      0.563484    1.069295     0.340687      0.461725    1.063589\n",
      "ZTO   -0.242868   -0.475449  0.957644  -3.432502   -4.979158  0.567320   -4.703247    -6.036507   0.408704   -3.647566    -4.699605   0.467190   -1.450196    -1.910350   0.774232   -0.267770    -0.358453   0.955838    -1.934261     -2.460330    0.724997    -0.191829     -0.279733    0.968188\n",
      "ZTS    3.734156   11.191251  1.996996  -2.831271   -4.596352  0.640068   -3.760890    -5.299655   0.543131   -2.501919    -3.537752   0.643856   -1.743745    -2.369046   0.739751   -0.834912    -1.101967   0.867392    -1.794020     -2.251210    0.739305    -0.201312     -0.274346    0.964878\n",
      "\n",
      "[1536 rows x 24 columns]\n"
     ]
    }
   ],
   "source": [
    "import numpy as np\n",
    "\n",
    "all_results = {}\n",
    "\n",
    "for _df in list_dfs:\n",
    "    tickers_in_df = _df.index.get_level_values(0).unique()\n",
    "    for ticker in tickers_in_df:\n",
    "        # Suppress division warnings just for this calculation\n",
    "        with np.errstate(divide='ignore', invalid='ignore'):\n",
    "            result_df = utils.analyze_stock(_df, ticker, risk_free_rate=RISK_FREE_RATE)\n",
    "        \n",
    "        if result_df is not None:\n",
    "            # Extract the ticker name from the result_df index\n",
    "            ticker_name = result_df.index[0]\n",
    "            # Convert the single-row DataFrame to a dictionary\n",
    "            metrics = result_df.iloc[0].to_dict()\n",
    "            \n",
    "            # Update the existing ticker entry or create a new one\n",
    "            if ticker_name in all_results:\n",
    "                all_results[ticker_name].update(metrics)\n",
    "            else:\n",
    "                all_results[ticker_name] = metrics\n",
    "\n",
    "if all_results:\n",
    "    combined_df = pd.DataFrame.from_dict(all_results, orient='index')\n",
    "    print(\"\\nCombined performance metrics DataFrame:\")\n",
    "    print(combined_df)\n",
    "else:\n",
    "    print(\"No performance metrics were calculated.\")"
   ]
  },
  {
   "cell_type": "code",
   "execution_count": 11,
   "metadata": {
    "execution": {
     "iopub.execute_input": "2025-04-10T02:30:29.484925Z",
     "iopub.status.busy": "2025-04-10T02:30:29.483923Z",
     "iopub.status.idle": "2025-04-10T02:30:29.665543Z",
     "shell.execute_reply": "2025-04-10T02:30:29.663518Z"
    }
   },
   "outputs": [
    {
     "name": "stdout",
     "output_type": "stream",
     "text": [
      "combined_df has_nan_inf: True\n",
      "Replacing NaN/Inf values with column-specific max/min values\n",
      "NaN/Inf Locations BEFORE Replacement:\n",
      "Column: Sharpe 3d\n",
      "  -Inf: ['BSCP']\n",
      "Column: Sortino 3d\n",
      "  Inf: ['ACGL', 'AEM', 'AFG', 'AIG', 'AJG', 'ALL', 'ANET', 'ANSS', 'APP', 'ATO', 'AVDV', 'AVGO', 'AXON', 'AXS', 'AZO', 'BA', 'BBJP', 'BINC', 'BKLN', 'BNS', 'BOKF', 'BOXX', 'BRK-A', 'BRK-B', 'BTI', 'BWXT', 'CACC', 'CB', 'CCL', 'CEG', 'CHT', 'CINF', 'CNA', 'CNC', 'CNP', 'COKE', 'COST', 'CPNG', 'CPRT', 'CRWD', 'CVNA', 'CVS', 'CW', 'CYBR', 'DB', 'DFIC', 'DRS', 'DTM', 'EEMV', 'EFAV', 'EG', 'EHC', 'ELV', 'EME', 'EQT', 'ESLT', 'ESNT', 'EVRG', 'EWJ', 'FHN', 'FIX', 'FMX', 'FNF', 'FPE', 'FTNT', 'FWONA', 'FWONK', 'FYBR', 'GD', 'GDX', 'GE', 'GEV', 'GFL', 'GGAL', 'GLD', 'GLDM', 'GRAB', 'GSIE', 'HCA', 'HDB', 'HEI', 'HEI-A', 'HIG', 'HII', 'HLN', 'HMY', 'HRB', 'HUBB', 'HUM', 'IAU', 'IBKR', 'ICL', 'INDA', 'IOT', 'ITA', 'JAAA', 'JPIE', 'JPM', 'K', 'KBR', 'KO', 'L', 'LDOS', 'LEGN', 'LHX', 'LLY', 'LMT', 'LNG', 'MELI', 'MFG', 'MINT', 'MKL', 'MSA', 'MSCI', 'MUSA', 'NCLH', 'NEM', 'NFLX', 'NOC', 'NU', 'NWS', 'OKTA', 'ORI', 'OTEX', 'PAAA', 'PANW', 'PATH', 'PDI', 'PEG', 'PFGC', 'PGR', 'PHYS', 'PPA', 'PPL', 'PSLV', 'PSN', 'PSTG', 'RCL', 'RGA', 'RLI', 'RNR', 'RTO', 'RTX', 'RYAAY', 'SAN', 'SCHC', 'SCZ', 'SGOL', 'SMFG', 'SNOW', 'SNPS', 'SONY', 'SPGI', 'SRAD', 'SRLN', 'TD', 'THG', 'TJX', 'TKC', 'TRV', 'UHS', 'UI', 'UNH', 'USFD', 'USFR', 'VMI', 'VRSN', 'VSGX', 'WDC', 'WFG', 'WING', 'WIX', 'WRB', 'WTW']\n",
      "Column: Omega 3d\n",
      "  NaN: ['ACGL', 'AEM', 'AFG', 'AIG', 'AJG', 'ALL', 'ANET', 'ANSS', 'APP', 'ATO', 'AVDV', 'AVGO', 'AXON', 'AXS', 'AZO', 'BA', 'BBJP', 'BINC', 'BKLN', 'BNS', 'BOKF', 'BOXX', 'BRK-A', 'BRK-B', 'BTI', 'BWXT', 'CACC', 'CB', 'CCL', 'CEG', 'CHT', 'CINF', 'CNA', 'CNC', 'CNP', 'COKE', 'COST', 'CPNG', 'CPRT', 'CRWD', 'CVNA', 'CVS', 'CW', 'CYBR', 'DB', 'DFIC', 'DRS', 'DTM', 'EEMV', 'EFAV', 'EG', 'EHC', 'ELV', 'EME', 'EQT', 'ESLT', 'ESNT', 'EVRG', 'EWJ', 'FHN', 'FIX', 'FMX', 'FNF', 'FPE', 'FTNT', 'FWONA', 'FWONK', 'FYBR', 'GD', 'GDX', 'GE', 'GEV', 'GFL', 'GGAL', 'GLD', 'GLDM', 'GRAB', 'GSIE', 'HCA', 'HDB', 'HEI', 'HEI-A', 'HIG', 'HII', 'HLN', 'HMY', 'HRB', 'HUBB', 'HUM', 'IAU', 'IBKR', 'ICL', 'INDA', 'IOT', 'ITA', 'JAAA', 'JPIE', 'JPM', 'K', 'KBR', 'KO', 'L', 'LDOS', 'LEGN', 'LHX', 'LLY', 'LMT', 'LNG', 'MELI', 'MFG', 'MINT', 'MKL', 'MSA', 'MSCI', 'MUSA', 'NCLH', 'NEM', 'NFLX', 'NOC', 'NU', 'NWS', 'OKTA', 'ORI', 'OTEX', 'PAAA', 'PANW', 'PATH', 'PDI', 'PEG', 'PFGC', 'PGR', 'PHYS', 'PPA', 'PPL', 'PSLV', 'PSN', 'PSTG', 'RCL', 'RGA', 'RLI', 'RNR', 'RTO', 'RTX', 'RYAAY', 'SAN', 'SCHC', 'SCZ', 'SGOL', 'SMFG', 'SNOW', 'SNPS', 'SONY', 'SPGI', 'SRAD', 'SRLN', 'TD', 'THG', 'TJX', 'TKC', 'TRV', 'UHS', 'UI', 'UNH', 'USFD', 'USFR', 'VMI', 'VRSN', 'VSGX', 'WDC', 'WFG', 'WING', 'WIX', 'WRB', 'WTW']\n",
      "df_to_save has_nan_inf: False\n",
      "NaN/Inf Locations AFTER Replacement:\n",
      "No NaN or Inf values found.\n",
      "      Sharpe 3d  Sortino 3d  Omega 3d  Sharpe 5d  Sortino 5d  Omega 5d  Sharpe 10d  Sortino 10d  Omega 10d  Sharpe 15d  Sortino 15d  Omega 15d  Sharpe 30d  Sortino 30d  Omega 30d  Sharpe 60d  Sortino 60d  Omega 60d  Sharpe 120d  Sortino 120d  Omega 120d  Sharpe 250d  Sortino 250d  Omega 250d\n",
      "A      3.407661    9.786205  1.871824  -1.224217   -2.050601  0.814114   -3.991252    -5.309496   0.514326   -3.594632    -4.706455   0.517267   -3.312679    -4.259225   0.550503   -3.435796    -4.303416   0.534444    -1.757284     -2.360271    0.732819    -1.030629     -1.371201    0.832273\n",
      "AA     3.117755    8.633473  1.769131  -1.375516   -2.437089  0.792663   -4.271969    -5.711153   0.473221   -5.018810    -6.378823   0.391698   -2.434243    -3.230505   0.651285   -2.082238    -2.707788   0.690178    -1.686742     -2.208435    0.738262    -0.466215     -0.651675    0.924103\n",
      "AAL    6.144080   27.147641  3.418504   5.671178   21.628750  3.526951    0.544922     1.163371   1.114632    0.285566     0.585234   1.060536   -2.107063    -3.438746   0.681116   -2.761822    -4.061065   0.571313    -0.304724     -0.505323    0.940119    -0.229724     -0.358906    0.955910\n",
      "AAON   8.061924   57.220035  6.097566   3.542061   11.294713  2.064453    1.104584     2.212912   1.227548    1.118071     2.164965   1.230922    0.853374     1.550455   1.155813   -2.072806    -2.458731   0.655872    -0.681553     -0.906982    0.867862     0.081926      0.108386    1.017197\n",
      "AAPL   5.700888   23.168481  3.064012  -0.258234   -0.561743  0.957563   -2.439311    -3.864338   0.644446   -1.086417    -1.714888   0.809542   -2.067423    -3.012463   0.656866   -1.168993    -1.680312   0.787353    -0.772199     -1.095662    0.848490     0.451514      0.669172    1.093965\n",
      "...         ...         ...       ...        ...         ...       ...         ...          ...        ...         ...          ...        ...         ...          ...        ...         ...          ...        ...          ...           ...         ...          ...           ...         ...\n",
      "ZION   8.546894   71.647386  7.382856   3.180012    6.698655  1.714477   -2.378206    -2.953436   0.637245   -1.623804    -2.008570   0.714372   -2.157647    -2.585239   0.648865   -1.825651    -2.195460   0.701000    -0.329238     -0.488721    0.934442     0.445559      0.673529    1.087079\n",
      "ZM     6.584828   31.858719  3.838200  -0.895216   -1.449599  0.850705   -2.661983    -3.744756   0.615034   -1.758916    -2.502944   0.710710   -0.220689    -0.309896   0.958437   -0.947362    -1.291110   0.827317     0.311854      0.446178    1.058758     0.463950      0.700047    1.089307\n",
      "ZS     8.832807   82.893974  8.384782   2.596253    5.452461  1.589688   -0.479214    -0.787247   0.920158    0.206546     0.334961   1.038175    0.915052     1.390793   1.171714    0.901202     1.385054   1.176793     0.386686      0.563484    1.069295     0.340687      0.461725    1.063589\n",
      "ZTO   -0.242868   -0.475449  0.957644  -3.432502   -4.979158  0.567320   -4.703247    -6.036507   0.408704   -3.647566    -4.699605   0.467190   -1.450196    -1.910350   0.774232   -0.267770    -0.358453   0.955838    -1.934261     -2.460330    0.724997    -0.191829     -0.279733    0.968188\n",
      "ZTS    3.734156   11.191251  1.996996  -2.831271   -4.596352  0.640068   -3.760890    -5.299655   0.543131   -2.501919    -3.537752   0.643856   -1.743745    -2.369046   0.739751   -0.834912    -1.101967   0.867392    -1.794020     -2.251210    0.739305    -0.201312     -0.274346    0.964878\n",
      "\n",
      "[1536 rows x 24 columns]\n"
     ]
    }
   ],
   "source": [
    "import numpy as np\n",
    "import pandas as pd\n",
    "\n",
    "def find_nan_inf(df):\n",
    "    \"\"\"\n",
    "    Finds locations of NaN, Inf, and -Inf values in a DataFrame.\n",
    "    \n",
    "    Args:\n",
    "        df (pd.DataFrame): DataFrame to check\n",
    "        \n",
    "    Returns:\n",
    "        dict: Dictionary with column names as keys and dicts of \n",
    "              {type: indices} as values\n",
    "    \"\"\"\n",
    "    nan_inf_locations = {}\n",
    "    for col in df.columns:\n",
    "        locations = {\n",
    "            'NaN': df[col].index[df[col].isnull()].tolist(),\n",
    "            'Inf': df[col].index[df[col] == np.inf].tolist(),\n",
    "            '-Inf': df[col].index[df[col] == -np.inf].tolist()\n",
    "        }\n",
    "        if any(locations.values()):\n",
    "            nan_inf_locations[col] = locations\n",
    "    return nan_inf_locations\n",
    "\n",
    "def print_nan_inf_locations(locations, message):\n",
    "    \"\"\"Prints NaN/Inf locations with a descriptive message.\"\"\"\n",
    "    print(message)\n",
    "    if locations:\n",
    "        for col, locs in locations.items():\n",
    "            print(f\"Column: {col}\")\n",
    "            for typ, indices in locs.items():\n",
    "                if indices:\n",
    "                    print(f\"  {typ}: {indices}\")\n",
    "    else:\n",
    "        print(\"No NaN or Inf values found.\")\n",
    "\n",
    "def get_column_replacement_values(df):\n",
    "    \"\"\"\n",
    "    Calculate replacement values for each column (max for Inf/NaN, min for -Inf).\n",
    "    \n",
    "    Args:\n",
    "        df (pd.DataFrame): Input DataFrame\n",
    "        \n",
    "    Returns:\n",
    "        tuple: (max_values, min_values) dictionaries with column replacement values\n",
    "    \"\"\"\n",
    "    numeric_cols = df.select_dtypes(include=[np.number]).columns\n",
    "    max_values = {}\n",
    "    min_values = {}\n",
    "    \n",
    "    for col in numeric_cols:\n",
    "        # Get finite values only\n",
    "        finite_vals = df[col][np.isfinite(df[col])]\n",
    "        if len(finite_vals) > 0:\n",
    "            max_values[col] = finite_vals.max()\n",
    "            min_values[col] = finite_vals.min()\n",
    "        else:\n",
    "            # If no finite values, use default\n",
    "            max_values[col] = 1e5\n",
    "            min_values[col] = -1e5\n",
    "    \n",
    "    return max_values, min_values\n",
    "\n",
    "# Check for NaN or Inf values\n",
    "has_nan_inf = combined_df.isnull().any().any() or not np.isfinite(combined_df).all().all()\n",
    "print(f'combined_df has_nan_inf: {has_nan_inf}')\n",
    "\n",
    "if has_nan_inf:\n",
    "    # Calculate replacement values for each column\n",
    "    max_values, min_values = get_column_replacement_values(combined_df)\n",
    "    print(\"Replacing NaN/Inf values with column-specific max/min values\")\n",
    "    \n",
    "    nan_inf_locations_before = find_nan_inf(combined_df)\n",
    "    print_nan_inf_locations(nan_inf_locations_before, \"NaN/Inf Locations BEFORE Replacement:\")\n",
    "    \n",
    "    # Create cleaned DataFrame\n",
    "    df_to_save = combined_df.copy()\n",
    "    \n",
    "    # Replace values column by column\n",
    "    for col in df_to_save.columns:\n",
    "        if col in max_values:  # Only numeric columns will be in max_values\n",
    "            # Replace NaN and +Inf with max value\n",
    "            df_to_save[col] = df_to_save[col].fillna(max_values[col])\n",
    "            df_to_save[col] = df_to_save[col].replace([np.inf], max_values[col])\n",
    "            # Replace -Inf with min value\n",
    "            df_to_save[col] = df_to_save[col].replace([-np.inf], min_values[col])\n",
    "else:\n",
    "    print(\"No NaN or Inf values found.\")\n",
    "    df_to_save = combined_df\n",
    "\n",
    "# Verification\n",
    "print(f'df_to_save has_nan_inf: {df_to_save.isnull().any().any() or not np.isfinite(df_to_save).all().all()}')\n",
    "print_nan_inf_locations(find_nan_inf(df_to_save), \"NaN/Inf Locations AFTER Replacement:\")\n",
    "\n",
    "# Output cleaned DataFrame\n",
    "print(df_to_save)"
   ]
  },
  {
   "cell_type": "code",
   "execution_count": 12,
   "metadata": {
    "execution": {
     "iopub.execute_input": "2025-04-10T02:30:29.672546Z",
     "iopub.status.busy": "2025-04-10T02:30:29.672546Z",
     "iopub.status.idle": "2025-04-10T02:30:29.686159Z",
     "shell.execute_reply": "2025-04-10T02:30:29.683138Z"
    }
   },
   "outputs": [
    {
     "data": {
      "text/plain": [
       "'ACGL'"
      ]
     },
     "execution_count": 12,
     "metadata": {},
     "output_type": "execute_result"
    }
   ],
   "source": [
    "ticker_w_inf = nan_inf_locations_before['Sortino 3d']['Inf'][0]\n",
    "ticker_w_inf "
   ]
  },
  {
   "cell_type": "markdown",
   "metadata": {},
   "source": [
    "#### Use Cell below to check the inf, -inf and NaN replacement"
   ]
  },
  {
   "cell_type": "code",
   "execution_count": 13,
   "metadata": {
    "execution": {
     "iopub.execute_input": "2025-04-10T02:30:29.694077Z",
     "iopub.status.busy": "2025-04-10T02:30:29.693083Z",
     "iopub.status.idle": "2025-04-10T02:30:29.718442Z",
     "shell.execute_reply": "2025-04-10T02:30:29.716444Z"
    }
   },
   "outputs": [
    {
     "name": "stdout",
     "output_type": "stream",
     "text": [
      "combined_df.loc['ticker_w_inf']\n"
     ]
    },
    {
     "data": {
      "text/plain": [
       "Sharpe 3d       20.192294\n",
       "Sortino 3d            inf\n",
       "Omega 3d              NaN\n",
       "Sharpe 5d       -2.851015\n",
       "Sortino 5d      -3.840788\n",
       "Omega 5d         0.623326\n",
       "Sharpe 10d      -2.326405\n",
       "Sortino 10d     -2.906123\n",
       "Omega 10d        0.639846\n",
       "Sharpe 15d      -0.194942\n",
       "Sortino 15d     -0.248439\n",
       "Omega 15d        0.962873\n",
       "Sharpe 30d      -0.066473\n",
       "Sortino 30d     -0.086379\n",
       "Omega 30d        0.986906\n",
       "Sharpe 60d      -0.038382\n",
       "Sortino 60d     -0.052320\n",
       "Omega 60d        0.992994\n",
       "Sharpe 120d     -0.799869\n",
       "Sortino 120d    -1.063844\n",
       "Omega 120d       0.863346\n",
       "Sharpe 250d      0.178735\n",
       "Sortino 250d     0.243226\n",
       "Omega 250d       1.032110\n",
       "Name: ACGL, dtype: float64"
      ]
     },
     "metadata": {},
     "output_type": "display_data"
    },
    {
     "name": "stdout",
     "output_type": "stream",
     "text": [
      "\n",
      "df_to_save.loc['ticker_w_inf']\n"
     ]
    },
    {
     "data": {
      "text/plain": [
       "Sharpe 3d         20.192294\n",
       "Sortino 3d      4653.430179\n",
       "Omega 3d         415.560510\n",
       "Sharpe 5d         -2.851015\n",
       "Sortino 5d        -3.840788\n",
       "Omega 5d           0.623326\n",
       "Sharpe 10d        -2.326405\n",
       "Sortino 10d       -2.906123\n",
       "Omega 10d          0.639846\n",
       "Sharpe 15d        -0.194942\n",
       "Sortino 15d       -0.248439\n",
       "Omega 15d          0.962873\n",
       "Sharpe 30d        -0.066473\n",
       "Sortino 30d       -0.086379\n",
       "Omega 30d          0.986906\n",
       "Sharpe 60d        -0.038382\n",
       "Sortino 60d       -0.052320\n",
       "Omega 60d          0.992994\n",
       "Sharpe 120d       -0.799869\n",
       "Sortino 120d      -1.063844\n",
       "Omega 120d         0.863346\n",
       "Sharpe 250d        0.178735\n",
       "Sortino 250d       0.243226\n",
       "Omega 250d         1.032110\n",
       "Name: ACGL, dtype: float64"
      ]
     },
     "metadata": {},
     "output_type": "display_data"
    }
   ],
   "source": [
    "print(f\"combined_df.loc['ticker_w_inf']\")\n",
    "display(combined_df.loc[ticker_w_inf])\n",
    "print(f\"\\ndf_to_save.loc['ticker_w_inf']\")\n",
    "display(df_to_save.loc[ticker_w_inf])"
   ]
  },
  {
   "cell_type": "code",
   "execution_count": 14,
   "metadata": {
    "execution": {
     "iopub.execute_input": "2025-04-10T02:30:29.725441Z",
     "iopub.status.busy": "2025-04-10T02:30:29.724441Z",
     "iopub.status.idle": "2025-04-10T02:30:29.764627Z",
     "shell.execute_reply": "2025-04-10T02:30:29.762608Z"
    }
   },
   "outputs": [
    {
     "name": "stdout",
     "output_type": "stream",
     "text": [
      "DataFrame successfully saved to ..\\data\\2025-04-09_df_perf_ratios.parquet\n"
     ]
    }
   ],
   "source": [
    "# Save the DataFrame to parquet file (always do this)\n",
    "df_to_save.to_parquet(dest_path, engine='pyarrow', compression='zstd')\n",
    "print(f\"DataFrame successfully saved to {dest_path}\")\n",
    "\n"
   ]
  },
  {
   "cell_type": "code",
   "execution_count": 15,
   "metadata": {
    "execution": {
     "iopub.execute_input": "2025-04-10T02:30:29.772629Z",
     "iopub.status.busy": "2025-04-10T02:30:29.770626Z",
     "iopub.status.idle": "2025-04-10T02:30:29.810546Z",
     "shell.execute_reply": "2025-04-10T02:30:29.808052Z"
    }
   },
   "outputs": [
    {
     "name": "stdout",
     "output_type": "stream",
     "text": [
      "+------+-------------+--------------+------------+-------------+--------------+------------+--------------+---------------+-------------+--------------+---------------+-------------+--------------+---------------+-------------+--------------+---------------+-------------+---------------+----------------+--------------+---------------+----------------+--------------+\n",
      "|      |   Sharpe 3d |   Sortino 3d |   Omega 3d |   Sharpe 5d |   Sortino 5d |   Omega 5d |   Sharpe 10d |   Sortino 10d |   Omega 10d |   Sharpe 15d |   Sortino 15d |   Omega 15d |   Sharpe 30d |   Sortino 30d |   Omega 30d |   Sharpe 60d |   Sortino 60d |   Omega 60d |   Sharpe 120d |   Sortino 120d |   Omega 120d |   Sharpe 250d |   Sortino 250d |   Omega 250d |\n",
      "+======+=============+==============+============+=============+==============+============+==============+===============+=============+==============+===============+=============+==============+===============+=============+==============+===============+=============+===============+================+==============+===============+================+==============+\n",
      "| USFR |  22703.5218 |    4653.4302 |   415.5605 |     -9.1047 |      -8.8561 |     0.1546 |      -5.3175 |       -5.4556 |      0.3552 |      -3.3179 |       -3.8454 |      0.5634 |      -2.6409 |       -3.4027 |      0.6428 |      -0.6405 |       -0.8754 |      0.9014 |        2.3425 |         3.7180 |       1.4683 |        2.5045 |         3.9288 |       1.5016 |\n",
      "+------+-------------+--------------+------------+-------------+--------------+------------+--------------+---------------+-------------+--------------+---------------+-------------+--------------+---------------+-------------+--------------+---------------+-------------+---------------+----------------+--------------+---------------+----------------+--------------+\n",
      "| AAPL |      5.7009 |      23.1685 |     3.0640 |     -0.2582 |      -0.5617 |     0.9576 |      -2.4393 |       -3.8643 |      0.6444 |      -1.0864 |       -1.7149 |      0.8095 |      -2.0674 |       -3.0125 |      0.6569 |      -1.1690 |       -1.6803 |      0.7874 |       -0.7722 |        -1.0957 |       0.8485 |        0.4515 |         0.6692 |       1.0940 |\n",
      "+------+-------------+--------------+------------+-------------+--------------+------------+--------------+---------------+-------------+--------------+---------------+-------------+--------------+---------------+-------------+--------------+---------------+-------------+---------------+----------------+--------------+---------------+----------------+--------------+\n",
      "| MSFT |      9.3202 |     109.8514 |    10.7863 |      3.3043 |      10.7082 |     1.9930 |       0.2063 |        0.4674 |      1.0421 |       0.4797 |        1.0457 |      1.1083 |      -0.0243 |       -0.0457 |      0.9951 |      -0.6976 |       -1.1021 |      0.8713 |       -0.4397 |        -0.6345 |       0.9175 |       -0.3937 |        -0.5451 |       0.9307 |\n",
      "+------+-------------+--------------+------------+-------------+--------------+------------+--------------+---------------+-------------+--------------+---------------+-------------+--------------+---------------+-------------+--------------+---------------+-------------+---------------+----------------+--------------+---------------+----------------+--------------+\n",
      "| GOOG |      7.7630 |      50.3400 |     5.4846 |      3.9519 |      12.5783 |     2.1647 |      -0.5033 |       -0.9088 |      0.9098 |      -0.5568 |       -0.9349 |      0.9049 |      -0.8919 |       -1.3524 |      0.8587 |      -1.7120 |       -2.3013 |      0.7444 |       -0.1346 |        -0.1953 |       0.9773 |        0.0450 |         0.0647 |       1.0080 |\n",
      "+------+-------------+--------------+------------+-------------+--------------+------------+--------------+---------------+-------------+--------------+---------------+-------------+--------------+---------------+-------------+--------------+---------------+-------------+---------------+----------------+--------------+---------------+----------------+--------------+\n",
      "| NVDA |      9.6740 |     140.0319 |    13.4750 |      4.7887 |      14.2393 |     2.5363 |       1.0651 |        2.2552 |      1.2425 |      -0.2324 |       -0.4410 |      0.9539 |      -0.1696 |       -0.2745 |      0.9693 |      -0.4267 |       -0.5920 |      0.9260 |       -0.3448 |        -0.4790 |       0.9395 |        0.6253 |         0.9027 |       1.1126 |\n",
      "+------+-------------+--------------+------------+-------------+--------------+------------+--------------+---------------+-------------+--------------+---------------+-------------+--------------+---------------+-------------+--------------+---------------+-------------+---------------+----------------+--------------+---------------+----------------+--------------+\n",
      "| IBIT |      7.3404 |      42.4227 |     4.7793 |      0.6858 |       1.1503 |     1.1220 |      -1.7369 |       -2.4040 |      0.7667 |      -0.3689 |       -0.5344 |      0.9411 |       0.0805 |        0.1131 |      1.0132 |      -1.1263 |       -1.5002 |      0.8340 |        0.9429 |         1.4848 |       1.1690 |        0.4830 |         0.7254 |       1.0825 |\n",
      "+------+-------------+--------------+------------+-------------+--------------+------------+--------------+---------------+-------------+--------------+---------------+-------------+--------------+---------------+-------------+--------------+---------------+-------------+---------------+----------------+--------------+---------------+----------------+--------------+\n",
      "| GLD  |     14.9859 |    4653.4302 |   415.5605 |     -0.4314 |      -0.7638 |     0.9319 |       1.1478 |        1.9348 |      1.2230 |       1.1712 |        1.9497 |      1.2320 |       3.3511 |        5.8537 |      1.8031 |       3.6369 |        6.1850 |      1.8505 |        1.6828 |         2.4093 |       1.3197 |        1.4800 |         2.1276 |       1.2744 |\n",
      "+------+-------------+--------------+------------+-------------+--------------+------------+--------------+---------------+-------------+--------------+---------------+-------------+--------------+---------------+-------------+--------------+---------------+-------------+---------------+----------------+--------------+---------------+----------------+--------------+\n",
      "| VCIT |      0.4673 |       0.9753 |     1.0869 |     -6.4549 |      -7.6895 |     0.3608 |      -1.0033 |       -1.2765 |      0.8408 |      -1.9768 |       -2.4260 |      0.6963 |      -1.2372 |       -1.5352 |      0.8026 |       1.3993 |        1.9828 |      1.2700 |       -0.8204 |        -1.0983 |       0.8709 |        0.5945 |         0.8454 |       1.1001 |\n",
      "+------+-------------+--------------+------------+-------------+--------------+------------+--------------+---------------+-------------+--------------+---------------+-------------+--------------+---------------+-------------+--------------+---------------+-------------+---------------+----------------+--------------+---------------+----------------+--------------+\n"
     ]
    }
   ],
   "source": [
    "import pandas as pd\n",
    "import numpy as np\n",
    "from tabulate import tabulate\n",
    "\n",
    "_symbols = ['USFR','AAPL', 'MSFT', 'GOOG', 'NVDA', 'IBIT', 'GLD', 'VCIT']\n",
    "# Create and display the formatted table\n",
    "selected_df = df_to_save.loc[_symbols] #Use df_to_save here\n",
    "print(tabulate(selected_df, headers='keys', tablefmt='grid', floatfmt='.4f'))"
   ]
  },
  {
   "cell_type": "code",
   "execution_count": null,
   "metadata": {},
   "outputs": [],
   "source": []
  }
 ],
 "metadata": {
  "kernelspec": {
   "display_name": ".venv",
   "language": "python",
   "name": "python3"
  },
  "language_info": {
   "codemirror_mode": {
    "name": "ipython",
    "version": 3
   },
   "file_extension": ".py",
   "mimetype": "text/x-python",
   "name": "python",
   "nbconvert_exporter": "python",
   "pygments_lexer": "ipython3",
   "version": "3.11.9"
  }
 },
 "nbformat": 4,
 "nbformat_minor": 2
}
