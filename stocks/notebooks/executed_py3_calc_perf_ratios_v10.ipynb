{
 "cells": [
  {
   "cell_type": "code",
   "execution_count": null,
   "metadata": {},
   "outputs": [],
   "source": []
  },
  {
   "cell_type": "code",
   "execution_count": 1,
   "metadata": {
    "execution": {
     "iopub.execute_input": "2025-04-07T23:56:30.035705Z",
     "iopub.status.busy": "2025-04-07T23:56:30.035705Z",
     "iopub.status.idle": "2025-04-07T23:56:30.051399Z",
     "shell.execute_reply": "2025-04-07T23:56:30.050387Z"
    }
   },
   "outputs": [],
   "source": [
    "# Configuration\n",
    "\n",
    "# days used in calculating ratios\n",
    "DAYS_RATIO = [3, 5, 10, 15, 30, 60, 120, 250]\n",
    "\n",
    "# risk free rate\n",
    "RISK_FREE_RATE = 0.04"
   ]
  },
  {
   "cell_type": "code",
   "execution_count": 2,
   "metadata": {
    "execution": {
     "iopub.execute_input": "2025-04-07T23:56:30.054394Z",
     "iopub.status.busy": "2025-04-07T23:56:30.054394Z",
     "iopub.status.idle": "2025-04-07T23:56:30.784002Z",
     "shell.execute_reply": "2025-04-07T23:56:30.782995Z"
    }
   },
   "outputs": [],
   "source": [
    "import pandas as pd\n",
    "\n",
    "# Set pandas display options to show more columns and rows\n",
    "pd.set_option('display.max_columns', None)  # Show all columns\n",
    "# pd.set_option('display.max_rows', 10)       # Limit to 10 rows for readability\n",
    "pd.set_option('display.width', None)        # Let the display adjust to the window\n",
    "\n",
    "# 2. Set the display width (optional but often helpful)\n",
    "#    'None' tries to detect terminal width. \n",
    "#    A large number (e.g., 1000) ensures no wrapping unless absolutely necessary.\n",
    "pd.set_option('display.width', 1000) "
   ]
  },
  {
   "cell_type": "code",
   "execution_count": 3,
   "metadata": {
    "execution": {
     "iopub.execute_input": "2025-04-07T23:56:30.788002Z",
     "iopub.status.busy": "2025-04-07T23:56:30.787001Z",
     "iopub.status.idle": "2025-04-07T23:56:30.807161Z",
     "shell.execute_reply": "2025-04-07T23:56:30.807161Z"
    }
   },
   "outputs": [
    {
     "name": "stdout",
     "output_type": "stream",
     "text": [
      "date_str: 2025-04-07\n",
      "DEST_DIR: ..\\data\n",
      "\n",
      "source_path: ..\\data\\2025-04-07_df_OHLCV_clean.parquet\n",
      "dest_path: ..\\data\\2025-04-07_df_perf_ratios.parquet\n"
     ]
    }
   ],
   "source": [
    "# process_files.py\n",
    "from config import date_str, DOWNLOAD_DIR, DEST_DIR\n",
    "from pathlib import Path  # Better path handling\n",
    "\n",
    "print(f\"date_str: {date_str}\")\n",
    "# print(f\"DOWNLOAD_DIR: {DOWNLOAD_DIR}\")\n",
    "print(f\"DEST_DIR: {DEST_DIR}\\n\")\n",
    "\n",
    "# Build paths\n",
    "source_path = Path(DEST_DIR) / f'{date_str}_df_OHLCV_clean.parquet'\n",
    "dest_path = Path(DEST_DIR) / f'{date_str}_df_perf_ratios.parquet'\n",
    "\n",
    "print(f\"source_path: {source_path}\")\n",
    "print(f\"dest_path: {dest_path}\")"
   ]
  },
  {
   "cell_type": "code",
   "execution_count": 4,
   "metadata": {
    "execution": {
     "iopub.execute_input": "2025-04-07T23:56:30.865167Z",
     "iopub.status.busy": "2025-04-07T23:56:30.865167Z",
     "iopub.status.idle": "2025-04-07T23:56:30.916532Z",
     "shell.execute_reply": "2025-04-07T23:56:30.915535Z"
    }
   },
   "outputs": [],
   "source": [
    "import pandas as pd\n",
    "\n",
    "# Get tickers from df_finviz.pkl file\n",
    "df_finviz = pd.read_parquet(f'..\\data\\{date_str}_df_finviz.parquet')\n",
    "tickers = df_finviz.index.to_list()"
   ]
  },
  {
   "cell_type": "code",
   "execution_count": 5,
   "metadata": {
    "execution": {
     "iopub.execute_input": "2025-04-07T23:56:30.920535Z",
     "iopub.status.busy": "2025-04-07T23:56:30.920535Z",
     "iopub.status.idle": "2025-04-07T23:56:31.082471Z",
     "shell.execute_reply": "2025-04-07T23:56:31.082471Z"
    }
   },
   "outputs": [
    {
     "data": {
      "text/html": [
       "<div>\n",
       "<style scoped>\n",
       "    .dataframe tbody tr th:only-of-type {\n",
       "        vertical-align: middle;\n",
       "    }\n",
       "\n",
       "    .dataframe tbody tr th {\n",
       "        vertical-align: top;\n",
       "    }\n",
       "\n",
       "    .dataframe thead th {\n",
       "        text-align: right;\n",
       "    }\n",
       "</style>\n",
       "<table border=\"1\" class=\"dataframe\">\n",
       "  <thead>\n",
       "    <tr style=\"text-align: right;\">\n",
       "      <th></th>\n",
       "      <th></th>\n",
       "      <th>Open</th>\n",
       "      <th>High</th>\n",
       "      <th>Low</th>\n",
       "      <th>Close</th>\n",
       "      <th>Adj Close</th>\n",
       "      <th>Volume</th>\n",
       "      <th>Adj Open</th>\n",
       "      <th>Adj High</th>\n",
       "      <th>Adj Low</th>\n",
       "    </tr>\n",
       "    <tr>\n",
       "      <th>Symbol</th>\n",
       "      <th>Date</th>\n",
       "      <th></th>\n",
       "      <th></th>\n",
       "      <th></th>\n",
       "      <th></th>\n",
       "      <th></th>\n",
       "      <th></th>\n",
       "      <th></th>\n",
       "      <th></th>\n",
       "      <th></th>\n",
       "    </tr>\n",
       "  </thead>\n",
       "  <tbody>\n",
       "    <tr>\n",
       "      <th rowspan=\"5\" valign=\"top\">SCHC</th>\n",
       "      <th>2025-04-07</th>\n",
       "      <td>32.15</td>\n",
       "      <td>33.41</td>\n",
       "      <td>30.84</td>\n",
       "      <td>32.41</td>\n",
       "      <td>32.41</td>\n",
       "      <td>1831992</td>\n",
       "      <td>32.150000</td>\n",
       "      <td>33.410000</td>\n",
       "      <td>30.840000</td>\n",
       "    </tr>\n",
       "    <tr>\n",
       "      <th>2025-04-04</th>\n",
       "      <td>34.10</td>\n",
       "      <td>34.15</td>\n",
       "      <td>33.04</td>\n",
       "      <td>33.15</td>\n",
       "      <td>33.15</td>\n",
       "      <td>820300</td>\n",
       "      <td>34.100000</td>\n",
       "      <td>34.150000</td>\n",
       "      <td>33.040000</td>\n",
       "    </tr>\n",
       "    <tr>\n",
       "      <th>2025-04-03</th>\n",
       "      <td>35.81</td>\n",
       "      <td>36.03</td>\n",
       "      <td>35.39</td>\n",
       "      <td>35.42</td>\n",
       "      <td>35.42</td>\n",
       "      <td>288400</td>\n",
       "      <td>35.810000</td>\n",
       "      <td>36.030000</td>\n",
       "      <td>35.390000</td>\n",
       "    </tr>\n",
       "    <tr>\n",
       "      <th>2025-04-02</th>\n",
       "      <td>35.64</td>\n",
       "      <td>36.20</td>\n",
       "      <td>35.64</td>\n",
       "      <td>36.08</td>\n",
       "      <td>36.08</td>\n",
       "      <td>586300</td>\n",
       "      <td>35.640000</td>\n",
       "      <td>36.200000</td>\n",
       "      <td>35.640000</td>\n",
       "    </tr>\n",
       "    <tr>\n",
       "      <th>2025-04-01</th>\n",
       "      <td>35.92</td>\n",
       "      <td>36.10</td>\n",
       "      <td>35.74</td>\n",
       "      <td>35.96</td>\n",
       "      <td>35.96</td>\n",
       "      <td>701800</td>\n",
       "      <td>35.920000</td>\n",
       "      <td>36.100000</td>\n",
       "      <td>35.740000</td>\n",
       "    </tr>\n",
       "    <tr>\n",
       "      <th>...</th>\n",
       "      <th>...</th>\n",
       "      <td>...</td>\n",
       "      <td>...</td>\n",
       "      <td>...</td>\n",
       "      <td>...</td>\n",
       "      <td>...</td>\n",
       "      <td>...</td>\n",
       "      <td>...</td>\n",
       "      <td>...</td>\n",
       "      <td>...</td>\n",
       "    </tr>\n",
       "    <tr>\n",
       "      <th rowspan=\"5\" valign=\"top\">WAB</th>\n",
       "      <th>2024-04-12</th>\n",
       "      <td>146.53</td>\n",
       "      <td>147.85</td>\n",
       "      <td>145.95</td>\n",
       "      <td>146.18</td>\n",
       "      <td>145.48</td>\n",
       "      <td>848000</td>\n",
       "      <td>145.828324</td>\n",
       "      <td>147.142003</td>\n",
       "      <td>145.251101</td>\n",
       "    </tr>\n",
       "    <tr>\n",
       "      <th>2024-04-11</th>\n",
       "      <td>147.47</td>\n",
       "      <td>148.53</td>\n",
       "      <td>146.65</td>\n",
       "      <td>147.71</td>\n",
       "      <td>147.01</td>\n",
       "      <td>1262500</td>\n",
       "      <td>146.771137</td>\n",
       "      <td>147.826114</td>\n",
       "      <td>145.955023</td>\n",
       "    </tr>\n",
       "    <tr>\n",
       "      <th>2024-04-10</th>\n",
       "      <td>146.10</td>\n",
       "      <td>148.34</td>\n",
       "      <td>145.16</td>\n",
       "      <td>147.54</td>\n",
       "      <td>146.84</td>\n",
       "      <td>1512500</td>\n",
       "      <td>145.406832</td>\n",
       "      <td>147.636204</td>\n",
       "      <td>144.471292</td>\n",
       "    </tr>\n",
       "    <tr>\n",
       "      <th>2024-04-09</th>\n",
       "      <td>149.45</td>\n",
       "      <td>149.93</td>\n",
       "      <td>146.96</td>\n",
       "      <td>147.86</td>\n",
       "      <td>147.16</td>\n",
       "      <td>816700</td>\n",
       "      <td>148.742473</td>\n",
       "      <td>149.220200</td>\n",
       "      <td>146.264261</td>\n",
       "    </tr>\n",
       "    <tr>\n",
       "      <th>2024-04-08</th>\n",
       "      <td>150.50</td>\n",
       "      <td>150.61</td>\n",
       "      <td>149.33</td>\n",
       "      <td>149.46</td>\n",
       "      <td>148.75</td>\n",
       "      <td>1002900</td>\n",
       "      <td>149.785060</td>\n",
       "      <td>149.894537</td>\n",
       "      <td>148.620618</td>\n",
       "    </tr>\n",
       "  </tbody>\n",
       "</table>\n",
       "<p>385536 rows × 9 columns</p>\n",
       "</div>"
      ],
      "text/plain": [
       "                     Open    High     Low   Close  Adj Close   Volume    Adj Open    Adj High     Adj Low\n",
       "Symbol Date                                                                                              \n",
       "SCHC   2025-04-07   32.15   33.41   30.84   32.41      32.41  1831992   32.150000   33.410000   30.840000\n",
       "       2025-04-04   34.10   34.15   33.04   33.15      33.15   820300   34.100000   34.150000   33.040000\n",
       "       2025-04-03   35.81   36.03   35.39   35.42      35.42   288400   35.810000   36.030000   35.390000\n",
       "       2025-04-02   35.64   36.20   35.64   36.08      36.08   586300   35.640000   36.200000   35.640000\n",
       "       2025-04-01   35.92   36.10   35.74   35.96      35.96   701800   35.920000   36.100000   35.740000\n",
       "...                   ...     ...     ...     ...        ...      ...         ...         ...         ...\n",
       "WAB    2024-04-12  146.53  147.85  145.95  146.18     145.48   848000  145.828324  147.142003  145.251101\n",
       "       2024-04-11  147.47  148.53  146.65  147.71     147.01  1262500  146.771137  147.826114  145.955023\n",
       "       2024-04-10  146.10  148.34  145.16  147.54     146.84  1512500  145.406832  147.636204  144.471292\n",
       "       2024-04-09  149.45  149.93  146.96  147.86     147.16   816700  148.742473  149.220200  146.264261\n",
       "       2024-04-08  150.50  150.61  149.33  149.46     148.75  1002900  149.785060  149.894537  148.620618\n",
       "\n",
       "[385536 rows x 9 columns]"
      ]
     },
     "metadata": {},
     "output_type": "display_data"
    }
   ],
   "source": [
    "import pandas as pd\n",
    "\n",
    "pd.set_option('display.width', 1000) \n",
    "\n",
    "# Load the DataFrame df_OHLCV_2025-03-14_clean.pkl\n",
    "# df = pd.read_pickle(source_path)\n",
    "df = pd.read_parquet(source_path, engine='pyarrow')\n",
    "\n",
    "# # Display the first few rows of the DataFrame to verify\n",
    "# df = df[['Adj Close']].copy()\n",
    "display(df)"
   ]
  },
  {
   "cell_type": "code",
   "execution_count": 6,
   "metadata": {
    "execution": {
     "iopub.execute_input": "2025-04-07T23:56:31.088480Z",
     "iopub.status.busy": "2025-04-07T23:56:31.087480Z",
     "iopub.status.idle": "2025-04-07T23:56:31.207135Z",
     "shell.execute_reply": "2025-04-07T23:56:31.206124Z"
    }
   },
   "outputs": [
    {
     "data": {
      "text/html": [
       "<div>\n",
       "<style scoped>\n",
       "    .dataframe tbody tr th:only-of-type {\n",
       "        vertical-align: middle;\n",
       "    }\n",
       "\n",
       "    .dataframe tbody tr th {\n",
       "        vertical-align: top;\n",
       "    }\n",
       "\n",
       "    .dataframe thead th {\n",
       "        text-align: right;\n",
       "    }\n",
       "</style>\n",
       "<table border=\"1\" class=\"dataframe\">\n",
       "  <thead>\n",
       "    <tr style=\"text-align: right;\">\n",
       "      <th></th>\n",
       "      <th></th>\n",
       "      <th>Adj Close</th>\n",
       "    </tr>\n",
       "    <tr>\n",
       "      <th>Symbol</th>\n",
       "      <th>Date</th>\n",
       "      <th></th>\n",
       "    </tr>\n",
       "  </thead>\n",
       "  <tbody>\n",
       "    <tr>\n",
       "      <th rowspan=\"5\" valign=\"top\">SCHC</th>\n",
       "      <th>2025-04-07</th>\n",
       "      <td>32.41</td>\n",
       "    </tr>\n",
       "    <tr>\n",
       "      <th>2025-04-04</th>\n",
       "      <td>33.15</td>\n",
       "    </tr>\n",
       "    <tr>\n",
       "      <th>2025-04-03</th>\n",
       "      <td>35.42</td>\n",
       "    </tr>\n",
       "    <tr>\n",
       "      <th>2025-04-02</th>\n",
       "      <td>36.08</td>\n",
       "    </tr>\n",
       "    <tr>\n",
       "      <th>2025-04-01</th>\n",
       "      <td>35.96</td>\n",
       "    </tr>\n",
       "    <tr>\n",
       "      <th>...</th>\n",
       "      <th>...</th>\n",
       "      <td>...</td>\n",
       "    </tr>\n",
       "    <tr>\n",
       "      <th rowspan=\"5\" valign=\"top\">WAB</th>\n",
       "      <th>2024-04-12</th>\n",
       "      <td>145.48</td>\n",
       "    </tr>\n",
       "    <tr>\n",
       "      <th>2024-04-11</th>\n",
       "      <td>147.01</td>\n",
       "    </tr>\n",
       "    <tr>\n",
       "      <th>2024-04-10</th>\n",
       "      <td>146.84</td>\n",
       "    </tr>\n",
       "    <tr>\n",
       "      <th>2024-04-09</th>\n",
       "      <td>147.16</td>\n",
       "    </tr>\n",
       "    <tr>\n",
       "      <th>2024-04-08</th>\n",
       "      <td>148.75</td>\n",
       "    </tr>\n",
       "  </tbody>\n",
       "</table>\n",
       "<p>385536 rows × 1 columns</p>\n",
       "</div>"
      ],
      "text/plain": [
       "                   Adj Close\n",
       "Symbol Date                 \n",
       "SCHC   2025-04-07      32.41\n",
       "       2025-04-04      33.15\n",
       "       2025-04-03      35.42\n",
       "       2025-04-02      36.08\n",
       "       2025-04-01      35.96\n",
       "...                      ...\n",
       "WAB    2024-04-12     145.48\n",
       "       2024-04-11     147.01\n",
       "       2024-04-10     146.84\n",
       "       2024-04-09     147.16\n",
       "       2024-04-08     148.75\n",
       "\n",
       "[385536 rows x 1 columns]"
      ]
     },
     "metadata": {},
     "output_type": "display_data"
    }
   ],
   "source": [
    "import pandas as pd\n",
    "\n",
    "# Load the DataFrame df_OHLCV_2025-03-14_clean.pkl\n",
    "# df = pd.read_pickle(source_path)\n",
    "df = pd.read_parquet(source_path, engine='pyarrow')\n",
    "\n",
    "# Display the first few rows of the DataFrame to verify\n",
    "df = df[['Adj Close']].copy()\n",
    "display(df)"
   ]
  },
  {
   "cell_type": "code",
   "execution_count": 7,
   "metadata": {
    "execution": {
     "iopub.execute_input": "2025-04-07T23:56:31.211821Z",
     "iopub.status.busy": "2025-04-07T23:56:31.211821Z",
     "iopub.status.idle": "2025-04-07T23:56:31.241223Z",
     "shell.execute_reply": "2025-04-07T23:56:31.240225Z"
    }
   },
   "outputs": [
    {
     "name": "stdout",
     "output_type": "stream",
     "text": [
      "<class 'pandas.core.frame.DataFrame'>\n",
      "MultiIndex: 385536 entries, ('SCHC', Timestamp('2025-04-07 00:00:00')) to ('WAB', Timestamp('2024-04-08 00:00:00'))\n",
      "Data columns (total 1 columns):\n",
      " #   Column     Non-Null Count   Dtype  \n",
      "---  ------     --------------   -----  \n",
      " 0   Adj Close  385536 non-null  float64\n",
      "dtypes: float64(1)\n",
      "memory usage: 4.5+ MB\n"
     ]
    }
   ],
   "source": [
    "df.info()"
   ]
  },
  {
   "cell_type": "code",
   "execution_count": 8,
   "metadata": {
    "execution": {
     "iopub.execute_input": "2025-04-07T23:56:31.244228Z",
     "iopub.status.busy": "2025-04-07T23:56:31.243224Z",
     "iopub.status.idle": "2025-04-07T23:57:15.331372Z",
     "shell.execute_reply": "2025-04-07T23:57:15.330364Z"
    }
   },
   "outputs": [
    {
     "name": "stdout",
     "output_type": "stream",
     "text": [
      "                   Adj Close\n",
      "Symbol Date                 \n",
      "AAPL   2025-04-07     181.46\n",
      "       2025-04-04     188.38\n",
      "       2025-04-03     203.19\n",
      "       2025-04-02     223.89\n",
      "       2025-04-01     223.19\n",
      "...                      ...\n",
      "IBDS   2024-04-12      22.55\n",
      "       2024-04-11      22.51\n",
      "       2024-04-10      22.49\n",
      "       2024-04-09      22.65\n",
      "       2024-04-08      22.62\n",
      "\n",
      "[385536 rows x 1 columns]\n"
     ]
    }
   ],
   "source": [
    "import pandas as pd\n",
    "\n",
    "def select_tickers_data(df, tickers):\n",
    "  \"\"\"\n",
    "  Selects data for a list of tickers from a DataFrame with a MultiIndex\n",
    "  where the first level is the ticker and the second level is the date.\n",
    "\n",
    "  Args:\n",
    "    df (pd.DataFrame): The input DataFrame with a MultiIndex.\n",
    "    tickers (list): A list of ticker symbols to select.\n",
    "\n",
    "  Returns:\n",
    "    pd.DataFrame: A DataFrame containing only the data for the specified tickers.\n",
    "                  Rows for tickers not found will not be included.\n",
    "  \"\"\"\n",
    "  valid_tickers = [t for t in tickers if t in df.index.get_level_values(0)]  # Filter out the tickers that do not exist\n",
    "\n",
    "  if not valid_tickers:\n",
    "    print(\"No valid tickers found in the DataFrame. Returning an empty DataFrame.\")\n",
    "    return pd.DataFrame()\n",
    "\n",
    "  try:\n",
    "    ticker_df = df.loc[valid_tickers]\n",
    "    return ticker_df\n",
    "  except KeyError as e:\n",
    "    print(f\"KeyError after filtering valid tickers: {e}\") #Added to help debugging.\n",
    "    return pd.DataFrame()\n",
    "\n",
    "\n",
    "# Example usage:\n",
    "# ticker_list = [\"UBS\", \"AAPL\", \"MSFT\", \"GEV\"]  # Include some valid and invalid tickers\n",
    "selected_data = select_tickers_data(df, tickers)\n",
    "print(selected_data)"
   ]
  },
  {
   "cell_type": "code",
   "execution_count": 9,
   "metadata": {
    "execution": {
     "iopub.execute_input": "2025-04-07T23:57:15.336374Z",
     "iopub.status.busy": "2025-04-07T23:57:15.335371Z",
     "iopub.status.idle": "2025-04-07T23:57:29.275720Z",
     "shell.execute_reply": "2025-04-07T23:57:29.274733Z"
    }
   },
   "outputs": [],
   "source": [
    "# Get root directory (assuming notebook is in root/notebooks/)\n",
    "NOTEBOOK_DIR = Path.cwd()\n",
    "ROOT_DIR = NOTEBOOK_DIR.parent if NOTEBOOK_DIR.name == 'notebooks' else NOTEBOOK_DIR\n",
    "\n",
    "import sys\n",
    "\n",
    "# Add src directory to Python path\n",
    "sys.path.append(str(ROOT_DIR / 'src'))\n",
    "\n",
    "import utils\n",
    "\n",
    "list_dfs = utils.get_latest_dfs(selected_data, DAYS_RATIO)"
   ]
  },
  {
   "cell_type": "code",
   "execution_count": 10,
   "metadata": {
    "execution": {
     "iopub.execute_input": "2025-04-07T23:57:29.279720Z",
     "iopub.status.busy": "2025-04-07T23:57:29.278722Z",
     "iopub.status.idle": "2025-04-07T23:58:02.127288Z",
     "shell.execute_reply": "2025-04-07T23:58:02.126277Z"
    }
   },
   "outputs": [
    {
     "name": "stdout",
     "output_type": "stream",
     "text": [
      "\n",
      "Combined performance metrics DataFrame:\n",
      "      Sharpe 3d  Sortino 3d  Omega 3d  Sharpe 5d  Sortino 5d  Omega 5d  Sharpe 10d  Sortino 10d  Omega 10d  Sharpe 15d  Sortino 15d  Omega 15d  Sharpe 30d  Sortino 30d  Omega 30d  Sharpe 60d  Sortino 60d  Omega 60d  Sharpe 120d  Sortino 120d  Omega 120d  Sharpe 250d  Sortino 250d  Omega 250d\n",
      "A     -9.346100  -10.199732  0.091336  -9.201534   -9.034785  0.193912   -9.726435    -8.828324   0.144596   -8.486498    -7.902944   0.185790   -6.116972    -6.281224   0.329032   -3.825081    -4.416985   0.511611    -2.450182     -3.047658    0.655733    -1.274717     -1.639429    0.799936\n",
      "AA   -13.656439  -12.263485  0.000000 -11.642557  -10.384648  0.107104  -12.104034   -10.086776   0.070707   -8.635567    -8.112576   0.182690   -4.499631    -4.952086   0.462180   -2.775692    -3.226108   0.622758    -2.142211     -2.611681    0.690291    -0.660505     -0.894123    0.896272\n",
      "AAL    7.387256   43.214103  4.849818  -3.457470   -4.135506  0.504518   -7.438600    -7.439901   0.249070   -3.759297    -4.324914   0.533286   -6.301204    -6.710703   0.378729   -5.378145    -5.725415   0.397100    -0.681121     -0.981053    0.882546    -0.664786     -0.936606    0.885314\n",
      "AAON  -9.166842  -10.092044  0.100929  -4.655865   -5.910101  0.463240   -6.349832    -7.018977   0.348291   -2.262667    -2.941169   0.689497   -2.555785    -2.879642   0.593119   -2.531839    -2.835238   0.596384    -1.103864     -1.408543    0.793814    -0.168232     -0.216006    0.965755\n",
      "AAPL -34.134312  -15.080053  0.000000 -18.798742  -12.817347  0.014700   -9.188341    -8.435321   0.155233   -4.940149    -5.075323   0.379621   -5.972836    -5.960451   0.329835   -2.923408    -3.251465   0.583532    -1.722928     -1.977745    0.724180     0.257588      0.341787    1.047955\n",
      "...         ...         ...       ...        ...         ...       ...         ...          ...        ...         ...          ...        ...         ...          ...        ...         ...          ...        ...          ...           ...         ...          ...           ...         ...\n",
      "ZION  -3.290151   -5.088741  0.546659  -7.258131   -7.641883  0.264848   -6.096548    -6.179329   0.253626   -3.067175    -3.310595   0.507243   -3.418491    -3.651814   0.491058   -2.103560    -2.376227   0.671112    -0.609694     -0.870549    0.882124     0.113430      0.165084    1.021356\n",
      "ZM   -10.019567  -10.588072  0.056740  -8.083801   -8.176763  0.180246   -9.165327    -8.411310   0.134706   -4.695380    -5.020200   0.375953   -2.294476    -2.612182   0.649219   -1.754002    -2.188541   0.702892     0.077312      0.105880    1.014160     0.237512      0.348578    1.044440\n",
      "ZS    -5.588872   -7.462295  0.335206  -6.292235   -7.035457  0.368716   -7.146332    -7.254461   0.297938   -3.153747    -3.537132   0.576646   -0.892014    -1.076914   0.867594   -0.363669    -0.469098   0.941010    -0.352404     -0.457845    0.944080     0.013775      0.017686    1.002432\n",
      "ZTO  -15.839672  -12.951979  0.000000 -21.160079  -13.311697  0.000000   -8.844795    -8.386443   0.175543   -7.487639    -7.252825   0.202033   -1.782488    -2.241984   0.738448    0.126609     0.168389   1.020239    -2.219650     -2.751241    0.702913    -0.233331     -0.341836    0.961973\n",
      "ZTS  -23.482637  -14.322326  0.000000 -13.272825  -11.179329  0.106203   -6.552832    -6.732669   0.347785   -6.595121    -6.631244   0.301580   -3.851464    -4.330835   0.523840   -1.299985    -1.591479   0.806393    -2.124632     -2.526814    0.703939    -0.439404     -0.582421    0.925629\n",
      "\n",
      "[1536 rows x 24 columns]\n"
     ]
    }
   ],
   "source": [
    "import numpy as np\n",
    "\n",
    "all_results = {}\n",
    "\n",
    "for _df in list_dfs:\n",
    "    tickers_in_df = _df.index.get_level_values(0).unique()\n",
    "    for ticker in tickers_in_df:\n",
    "        # Suppress division warnings just for this calculation\n",
    "        with np.errstate(divide='ignore', invalid='ignore'):\n",
    "            result_df = utils.analyze_stock(_df, ticker, risk_free_rate=RISK_FREE_RATE)\n",
    "        \n",
    "        if result_df is not None:\n",
    "            # Extract the ticker name from the result_df index\n",
    "            ticker_name = result_df.index[0]\n",
    "            # Convert the single-row DataFrame to a dictionary\n",
    "            metrics = result_df.iloc[0].to_dict()\n",
    "            \n",
    "            # Update the existing ticker entry or create a new one\n",
    "            if ticker_name in all_results:\n",
    "                all_results[ticker_name].update(metrics)\n",
    "            else:\n",
    "                all_results[ticker_name] = metrics\n",
    "\n",
    "if all_results:\n",
    "    combined_df = pd.DataFrame.from_dict(all_results, orient='index')\n",
    "    print(\"\\nCombined performance metrics DataFrame:\")\n",
    "    print(combined_df)\n",
    "else:\n",
    "    print(\"No performance metrics were calculated.\")"
   ]
  },
  {
   "cell_type": "code",
   "execution_count": 11,
   "metadata": {
    "execution": {
     "iopub.execute_input": "2025-04-07T23:58:02.131285Z",
     "iopub.status.busy": "2025-04-07T23:58:02.131285Z",
     "iopub.status.idle": "2025-04-07T23:58:02.210059Z",
     "shell.execute_reply": "2025-04-07T23:58:02.209051Z"
    }
   },
   "outputs": [
    {
     "name": "stdout",
     "output_type": "stream",
     "text": [
      "combined_df has_nan_inf: True\n",
      "Replacing NaN/Inf values with column-specific max/min values\n",
      "NaN/Inf Locations BEFORE Replacement:\n",
      "Column: Sortino 3d\n",
      "  Inf: ['BILS', 'DECK', 'DLTR', 'FND', 'GME', 'LULU', 'ONON', 'SAIA', 'SN', 'WSM']\n",
      "Column: Omega 3d\n",
      "  NaN: ['BILS', 'DECK', 'DLTR', 'FND', 'GME', 'LULU', 'ONON', 'SAIA', 'SN', 'WSM']\n",
      "df_to_save has_nan_inf: False\n",
      "NaN/Inf Locations AFTER Replacement:\n",
      "No NaN or Inf values found.\n",
      "      Sharpe 3d  Sortino 3d  Omega 3d  Sharpe 5d  Sortino 5d  Omega 5d  Sharpe 10d  Sortino 10d  Omega 10d  Sharpe 15d  Sortino 15d  Omega 15d  Sharpe 30d  Sortino 30d  Omega 30d  Sharpe 60d  Sortino 60d  Omega 60d  Sharpe 120d  Sortino 120d  Omega 120d  Sharpe 250d  Sortino 250d  Omega 250d\n",
      "A     -9.346100  -10.199732  0.091336  -9.201534   -9.034785  0.193912   -9.726435    -8.828324   0.144596   -8.486498    -7.902944   0.185790   -6.116972    -6.281224   0.329032   -3.825081    -4.416985   0.511611    -2.450182     -3.047658    0.655733    -1.274717     -1.639429    0.799936\n",
      "AA   -13.656439  -12.263485  0.000000 -11.642557  -10.384648  0.107104  -12.104034   -10.086776   0.070707   -8.635567    -8.112576   0.182690   -4.499631    -4.952086   0.462180   -2.775692    -3.226108   0.622758    -2.142211     -2.611681    0.690291    -0.660505     -0.894123    0.896272\n",
      "AAL    7.387256   43.214103  4.849818  -3.457470   -4.135506  0.504518   -7.438600    -7.439901   0.249070   -3.759297    -4.324914   0.533286   -6.301204    -6.710703   0.378729   -5.378145    -5.725415   0.397100    -0.681121     -0.981053    0.882546    -0.664786     -0.936606    0.885314\n",
      "AAON  -9.166842  -10.092044  0.100929  -4.655865   -5.910101  0.463240   -6.349832    -7.018977   0.348291   -2.262667    -2.941169   0.689497   -2.555785    -2.879642   0.593119   -2.531839    -2.835238   0.596384    -1.103864     -1.408543    0.793814    -0.168232     -0.216006    0.965755\n",
      "AAPL -34.134312  -15.080053  0.000000 -18.798742  -12.817347  0.014700   -9.188341    -8.435321   0.155233   -4.940149    -5.075323   0.379621   -5.972836    -5.960451   0.329835   -2.923408    -3.251465   0.583532    -1.722928     -1.977745    0.724180     0.257588      0.341787    1.047955\n",
      "...         ...         ...       ...        ...         ...       ...         ...          ...        ...         ...          ...        ...         ...          ...        ...         ...          ...        ...          ...           ...         ...          ...           ...         ...\n",
      "ZION  -3.290151   -5.088741  0.546659  -7.258131   -7.641883  0.264848   -6.096548    -6.179329   0.253626   -3.067175    -3.310595   0.507243   -3.418491    -3.651814   0.491058   -2.103560    -2.376227   0.671112    -0.609694     -0.870549    0.882124     0.113430      0.165084    1.021356\n",
      "ZM   -10.019567  -10.588072  0.056740  -8.083801   -8.176763  0.180246   -9.165327    -8.411310   0.134706   -4.695380    -5.020200   0.375953   -2.294476    -2.612182   0.649219   -1.754002    -2.188541   0.702892     0.077312      0.105880    1.014160     0.237512      0.348578    1.044440\n",
      "ZS    -5.588872   -7.462295  0.335206  -6.292235   -7.035457  0.368716   -7.146332    -7.254461   0.297938   -3.153747    -3.537132   0.576646   -0.892014    -1.076914   0.867594   -0.363669    -0.469098   0.941010    -0.352404     -0.457845    0.944080     0.013775      0.017686    1.002432\n",
      "ZTO  -15.839672  -12.951979  0.000000 -21.160079  -13.311697  0.000000   -8.844795    -8.386443   0.175543   -7.487639    -7.252825   0.202033   -1.782488    -2.241984   0.738448    0.126609     0.168389   1.020239    -2.219650     -2.751241    0.702913    -0.233331     -0.341836    0.961973\n",
      "ZTS  -23.482637  -14.322326  0.000000 -13.272825  -11.179329  0.106203   -6.552832    -6.732669   0.347785   -6.595121    -6.631244   0.301580   -3.851464    -4.330835   0.523840   -1.299985    -1.591479   0.806393    -2.124632     -2.526814    0.703939    -0.439404     -0.582421    0.925629\n",
      "\n",
      "[1536 rows x 24 columns]\n"
     ]
    }
   ],
   "source": [
    "import numpy as np\n",
    "import pandas as pd\n",
    "\n",
    "def find_nan_inf(df):\n",
    "    \"\"\"\n",
    "    Finds locations of NaN, Inf, and -Inf values in a DataFrame.\n",
    "    \n",
    "    Args:\n",
    "        df (pd.DataFrame): DataFrame to check\n",
    "        \n",
    "    Returns:\n",
    "        dict: Dictionary with column names as keys and dicts of \n",
    "              {type: indices} as values\n",
    "    \"\"\"\n",
    "    nan_inf_locations = {}\n",
    "    for col in df.columns:\n",
    "        locations = {\n",
    "            'NaN': df[col].index[df[col].isnull()].tolist(),\n",
    "            'Inf': df[col].index[df[col] == np.inf].tolist(),\n",
    "            '-Inf': df[col].index[df[col] == -np.inf].tolist()\n",
    "        }\n",
    "        if any(locations.values()):\n",
    "            nan_inf_locations[col] = locations\n",
    "    return nan_inf_locations\n",
    "\n",
    "def print_nan_inf_locations(locations, message):\n",
    "    \"\"\"Prints NaN/Inf locations with a descriptive message.\"\"\"\n",
    "    print(message)\n",
    "    if locations:\n",
    "        for col, locs in locations.items():\n",
    "            print(f\"Column: {col}\")\n",
    "            for typ, indices in locs.items():\n",
    "                if indices:\n",
    "                    print(f\"  {typ}: {indices}\")\n",
    "    else:\n",
    "        print(\"No NaN or Inf values found.\")\n",
    "\n",
    "def get_column_replacement_values(df):\n",
    "    \"\"\"\n",
    "    Calculate replacement values for each column (max for Inf/NaN, min for -Inf).\n",
    "    \n",
    "    Args:\n",
    "        df (pd.DataFrame): Input DataFrame\n",
    "        \n",
    "    Returns:\n",
    "        tuple: (max_values, min_values) dictionaries with column replacement values\n",
    "    \"\"\"\n",
    "    numeric_cols = df.select_dtypes(include=[np.number]).columns\n",
    "    max_values = {}\n",
    "    min_values = {}\n",
    "    \n",
    "    for col in numeric_cols:\n",
    "        # Get finite values only\n",
    "        finite_vals = df[col][np.isfinite(df[col])]\n",
    "        if len(finite_vals) > 0:\n",
    "            max_values[col] = finite_vals.max()\n",
    "            min_values[col] = finite_vals.min()\n",
    "        else:\n",
    "            # If no finite values, use default\n",
    "            max_values[col] = 1e5\n",
    "            min_values[col] = -1e5\n",
    "    \n",
    "    return max_values, min_values\n",
    "\n",
    "# Check for NaN or Inf values\n",
    "has_nan_inf = combined_df.isnull().any().any() or not np.isfinite(combined_df).all().all()\n",
    "print(f'combined_df has_nan_inf: {has_nan_inf}')\n",
    "\n",
    "if has_nan_inf:\n",
    "    # Calculate replacement values for each column\n",
    "    max_values, min_values = get_column_replacement_values(combined_df)\n",
    "    print(\"Replacing NaN/Inf values with column-specific max/min values\")\n",
    "    \n",
    "    nan_inf_locations_before = find_nan_inf(combined_df)\n",
    "    print_nan_inf_locations(nan_inf_locations_before, \"NaN/Inf Locations BEFORE Replacement:\")\n",
    "    \n",
    "    # Create cleaned DataFrame\n",
    "    df_to_save = combined_df.copy()\n",
    "    \n",
    "    # Replace values column by column\n",
    "    for col in df_to_save.columns:\n",
    "        if col in max_values:  # Only numeric columns will be in max_values\n",
    "            # Replace NaN and +Inf with max value\n",
    "            df_to_save[col] = df_to_save[col].fillna(max_values[col])\n",
    "            df_to_save[col] = df_to_save[col].replace([np.inf], max_values[col])\n",
    "            # Replace -Inf with min value\n",
    "            df_to_save[col] = df_to_save[col].replace([-np.inf], min_values[col])\n",
    "else:\n",
    "    print(\"No NaN or Inf values found.\")\n",
    "    df_to_save = combined_df\n",
    "\n",
    "# Verification\n",
    "print(f'df_to_save has_nan_inf: {df_to_save.isnull().any().any() or not np.isfinite(df_to_save).all().all()}')\n",
    "print_nan_inf_locations(find_nan_inf(df_to_save), \"NaN/Inf Locations AFTER Replacement:\")\n",
    "\n",
    "# Output cleaned DataFrame\n",
    "print(df_to_save)"
   ]
  },
  {
   "cell_type": "code",
   "execution_count": 12,
   "metadata": {
    "execution": {
     "iopub.execute_input": "2025-04-07T23:58:02.213058Z",
     "iopub.status.busy": "2025-04-07T23:58:02.213058Z",
     "iopub.status.idle": "2025-04-07T23:58:02.219603Z",
     "shell.execute_reply": "2025-04-07T23:58:02.218595Z"
    }
   },
   "outputs": [
    {
     "data": {
      "text/plain": [
       "'BILS'"
      ]
     },
     "execution_count": 12,
     "metadata": {},
     "output_type": "execute_result"
    }
   ],
   "source": [
    "ticker_w_inf = nan_inf_locations_before['Sortino 3d']['Inf'][0]\n",
    "ticker_w_inf "
   ]
  },
  {
   "cell_type": "markdown",
   "metadata": {},
   "source": [
    "#### Use Cell below to check the inf, -inf and NaN replacement"
   ]
  },
  {
   "cell_type": "code",
   "execution_count": 13,
   "metadata": {
    "execution": {
     "iopub.execute_input": "2025-04-07T23:58:02.222606Z",
     "iopub.status.busy": "2025-04-07T23:58:02.221603Z",
     "iopub.status.idle": "2025-04-07T23:58:02.236007Z",
     "shell.execute_reply": "2025-04-07T23:58:02.234999Z"
    }
   },
   "outputs": [
    {
     "name": "stdout",
     "output_type": "stream",
     "text": [
      "combined_df.loc['ticker_w_inf']\n"
     ]
    },
    {
     "data": {
      "text/plain": [
       "Sharpe 3d       14.402118\n",
       "Sortino 3d            inf\n",
       "Omega 3d              NaN\n",
       "Sharpe 5d        4.289810\n",
       "Sortino 5d       8.332093\n",
       "Omega 5d         2.049745\n",
       "Sharpe 10d       4.838264\n",
       "Sortino 10d      9.487835\n",
       "Omega 10d        2.300684\n",
       "Sharpe 15d       2.888126\n",
       "Sortino 15d      5.230933\n",
       "Omega 15d        1.617945\n",
       "Sharpe 30d       1.821633\n",
       "Sortino 30d      3.146058\n",
       "Omega 30d        1.341344\n",
       "Sharpe 60d       1.715071\n",
       "Sortino 60d      2.916696\n",
       "Omega 60d        1.306241\n",
       "Sharpe 120d      2.089566\n",
       "Sortino 120d     3.549372\n",
       "Omega 120d       1.393452\n",
       "Sharpe 250d      3.545578\n",
       "Sortino 250d     6.839078\n",
       "Omega 250d       1.786726\n",
       "Name: BILS, dtype: float64"
      ]
     },
     "metadata": {},
     "output_type": "display_data"
    },
    {
     "name": "stdout",
     "output_type": "stream",
     "text": [
      "\n",
      "df_to_save.loc['ticker_w_inf']\n"
     ]
    },
    {
     "data": {
      "text/plain": [
       "Sharpe 3d        14.402118\n",
       "Sortino 3d      513.959059\n",
       "Omega 3d         46.787112\n",
       "Sharpe 5d         4.289810\n",
       "Sortino 5d        8.332093\n",
       "Omega 5d          2.049745\n",
       "Sharpe 10d        4.838264\n",
       "Sortino 10d       9.487835\n",
       "Omega 10d         2.300684\n",
       "Sharpe 15d        2.888126\n",
       "Sortino 15d       5.230933\n",
       "Omega 15d         1.617945\n",
       "Sharpe 30d        1.821633\n",
       "Sortino 30d       3.146058\n",
       "Omega 30d         1.341344\n",
       "Sharpe 60d        1.715071\n",
       "Sortino 60d       2.916696\n",
       "Omega 60d         1.306241\n",
       "Sharpe 120d       2.089566\n",
       "Sortino 120d      3.549372\n",
       "Omega 120d        1.393452\n",
       "Sharpe 250d       3.545578\n",
       "Sortino 250d      6.839078\n",
       "Omega 250d        1.786726\n",
       "Name: BILS, dtype: float64"
      ]
     },
     "metadata": {},
     "output_type": "display_data"
    }
   ],
   "source": [
    "print(f\"combined_df.loc['ticker_w_inf']\")\n",
    "display(combined_df.loc[ticker_w_inf])\n",
    "print(f\"\\ndf_to_save.loc['ticker_w_inf']\")\n",
    "display(df_to_save.loc[ticker_w_inf])"
   ]
  },
  {
   "cell_type": "code",
   "execution_count": 14,
   "metadata": {
    "execution": {
     "iopub.execute_input": "2025-04-07T23:58:02.239008Z",
     "iopub.status.busy": "2025-04-07T23:58:02.239008Z",
     "iopub.status.idle": "2025-04-07T23:58:02.268023Z",
     "shell.execute_reply": "2025-04-07T23:58:02.267016Z"
    }
   },
   "outputs": [
    {
     "name": "stdout",
     "output_type": "stream",
     "text": [
      "DataFrame successfully saved to ..\\data\\2025-04-07_df_perf_ratios.parquet\n"
     ]
    }
   ],
   "source": [
    "# Save the DataFrame to parquet file (always do this)\n",
    "df_to_save.to_parquet(dest_path)\n",
    "print(f\"DataFrame successfully saved to {dest_path}\")\n",
    "\n"
   ]
  },
  {
   "cell_type": "code",
   "execution_count": 15,
   "metadata": {
    "execution": {
     "iopub.execute_input": "2025-04-07T23:58:02.271022Z",
     "iopub.status.busy": "2025-04-07T23:58:02.270022Z",
     "iopub.status.idle": "2025-04-07T23:58:02.290340Z",
     "shell.execute_reply": "2025-04-07T23:58:02.289332Z"
    }
   },
   "outputs": [
    {
     "name": "stdout",
     "output_type": "stream",
     "text": [
      "+------+-------------+--------------+------------+-------------+--------------+------------+--------------+---------------+-------------+--------------+---------------+-------------+--------------+---------------+-------------+--------------+---------------+-------------+---------------+----------------+--------------+---------------+----------------+--------------+\n",
      "|      |   Sharpe 3d |   Sortino 3d |   Omega 3d |   Sharpe 5d |   Sortino 5d |   Omega 5d |   Sharpe 10d |   Sortino 10d |   Omega 10d |   Sharpe 15d |   Sortino 15d |   Omega 15d |   Sharpe 30d |   Sortino 30d |   Omega 30d |   Sharpe 60d |   Sortino 60d |   Omega 60d |   Sharpe 120d |   Sortino 120d |   Omega 120d |   Sharpe 250d |   Sortino 250d |   Omega 250d |\n",
      "+======+=============+==============+============+=============+==============+============+==============+===============+=============+==============+===============+=============+==============+===============+=============+==============+===============+=============+===============+================+==============+===============+================+==============+\n",
      "| USFR |    -29.1671 |     -14.8152 |     0.0000 |     -9.1021 |      -8.8545 |     0.1548 |      -4.3739 |       -5.1013 |      0.4785 |      -4.7656 |       -5.3198 |      0.4513 |      -3.2542 |       -4.1204 |      0.5854 |      -0.2977 |       -0.4147 |      0.9533 |        2.4905 |         3.9809 |       1.5014 |        2.6188 |         4.1469 |       1.5295 |\n",
      "+------+-------------+--------------+------------+-------------+--------------+------------+--------------+---------------+-------------+--------------+---------------+-------------+--------------+---------------+-------------+--------------+---------------+-------------+---------------+----------------+--------------+---------------+----------------+--------------+\n",
      "| AAPL |    -34.1343 |     -15.0801 |     0.0000 |    -18.7987 |     -12.8173 |     0.0147 |      -9.1883 |       -8.4353 |      0.1552 |      -4.9401 |       -5.0753 |      0.3796 |      -5.9728 |       -5.9605 |      0.3298 |      -2.9234 |       -3.2515 |      0.5835 |       -1.7229 |        -1.9777 |       0.7242 |        0.2576 |         0.3418 |       1.0480 |\n",
      "+------+-------------+--------------+------------+-------------+--------------+------------+--------------+---------------+-------------+--------------+---------------+-------------+--------------+---------------+-------------+--------------+---------------+-------------+---------------+----------------+--------------+---------------+----------------+--------------+\n",
      "| MSFT |    -15.4525 |     -12.8435 |     0.0000 |    -15.8809 |     -12.0021 |     0.0000 |     -10.3029 |       -9.4672 |      0.1637 |      -4.9281 |       -5.3380 |      0.4243 |      -3.5441 |       -4.2384 |      0.5543 |      -2.4739 |       -3.0639 |      0.6422 |       -1.3776 |        -1.6973 |       0.7790 |       -0.8384 |        -1.0542 |       0.8659 |\n",
      "+------+-------------+--------------+------------+-------------+--------------+------------+--------------+---------------+-------------+--------------+---------------+-------------+--------------+---------------+-------------+--------------+---------------+-------------+---------------+----------------+--------------+---------------+----------------+--------------+\n",
      "| GOOG |     -5.9070 |      -7.7406 |     0.3104 |    -10.2228 |      -9.6536 |     0.1391 |     -10.7747 |       -9.5479 |      0.1610 |      -3.9401 |       -4.4441 |      0.5313 |      -4.2246 |       -4.7152 |      0.5269 |      -3.1932 |       -3.6436 |      0.5934 |       -0.6683 |        -0.8863 |       0.8956 |       -0.1738 |        -0.2377 |       0.9705 |\n",
      "+------+-------------+--------------+------------+-------------+--------------+------------+--------------+---------------+-------------+--------------+---------------+-------------+--------------+---------------+-------------+--------------+---------------+-------------+---------------+----------------+--------------+---------------+----------------+--------------+\n",
      "| NVDA |     -3.9776 |      -5.8738 |     0.4767 |     -8.0685 |      -8.4554 |     0.2464 |      -9.1033 |       -8.6352 |      0.2078 |      -5.0398 |       -5.4015 |      0.4105 |      -3.0910 |       -3.5991 |      0.6070 |      -1.7685 |       -2.1198 |      0.7388 |       -1.0989 |        -1.3652 |       0.8292 |        0.4580 |         0.6305 |       1.0789 |\n",
      "+------+-------------+--------------+------------+-------------+--------------+------------+--------------+---------------+-------------+--------------+---------------+-------------+--------------+---------------+-------------+--------------+---------------+-------------+---------------+----------------+--------------+---------------+----------------+--------------+\n",
      "| IBIT |     -5.5718 |      -7.4470 |     0.3366 |     -6.3823 |      -7.1063 |     0.3629 |      -5.6307 |       -6.1271 |      0.4129 |      -1.5450 |       -2.0039 |      0.7793 |      -1.5923 |       -2.0470 |      0.7735 |      -1.5218 |       -1.9468 |      0.7839 |        0.8346 |         1.2924 |       1.1484 |        0.4174 |         0.6218 |       1.0710 |\n",
      "+------+-------------+--------------+------------+-------------+--------------+------------+--------------+---------------+-------------+--------------+---------------+-------------+--------------+---------------+-------------+--------------+---------------+-------------+---------------+----------------+--------------+---------------+----------------+--------------+\n",
      "| GLD  |   -266.1060 |     -15.8604 |     0.0000 |    -15.9941 |     -12.0588 |     0.0368 |      -2.3354 |       -2.9022 |      0.6713 |      -2.4640 |       -2.9906 |      0.6512 |       0.8441 |        1.1717 |      1.1491 |       2.6414 |        3.9802 |      1.5274 |        1.3157 |         1.7868 |       1.2371 |        1.2974 |         1.8260 |       1.2337 |\n",
      "+------+-------------+--------------+------------+-------------+--------------+------------+--------------+---------------+-------------+--------------+---------------+-------------+--------------+---------------+-------------+--------------+---------------+-------------+---------------+----------------+--------------+---------------+----------------+--------------+\n",
      "| VCIT |    -16.6003 |     -13.1503 |     0.0000 |     -6.5468 |      -7.0025 |     0.2469 |      -2.4668 |       -2.8167 |      0.6091 |      -1.6946 |       -1.9632 |      0.7163 |      -1.6921 |       -1.9699 |      0.7378 |       1.3239 |        1.8485 |      1.2512 |       -0.7005 |        -0.9325 |       0.8897 |        0.3405 |         0.4718 |       1.0564 |\n",
      "+------+-------------+--------------+------------+-------------+--------------+------------+--------------+---------------+-------------+--------------+---------------+-------------+--------------+---------------+-------------+--------------+---------------+-------------+---------------+----------------+--------------+---------------+----------------+--------------+\n"
     ]
    }
   ],
   "source": [
    "import pandas as pd\n",
    "import numpy as np\n",
    "from tabulate import tabulate\n",
    "\n",
    "_symbols = ['USFR','AAPL', 'MSFT', 'GOOG', 'NVDA', 'IBIT', 'GLD', 'VCIT']\n",
    "# Create and display the formatted table\n",
    "selected_df = df_to_save.loc[_symbols] #Use df_to_save here\n",
    "print(tabulate(selected_df, headers='keys', tablefmt='grid', floatfmt='.4f'))"
   ]
  },
  {
   "cell_type": "code",
   "execution_count": null,
   "metadata": {},
   "outputs": [],
   "source": []
  }
 ],
 "metadata": {
  "kernelspec": {
   "display_name": ".venv",
   "language": "python",
   "name": "python3"
  },
  "language_info": {
   "codemirror_mode": {
    "name": "ipython",
    "version": 3
   },
   "file_extension": ".py",
   "mimetype": "text/x-python",
   "name": "python",
   "nbconvert_exporter": "python",
   "pygments_lexer": "ipython3",
   "version": "3.11.9"
  }
 },
 "nbformat": 4,
 "nbformat_minor": 2
}
