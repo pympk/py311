{
 "cells": [
  {
   "cell_type": "markdown",
   "metadata": {},
   "source": [
    "### Short-Term Portfolio Selection Strategy\n",
    "\n",
    "This notebook executes a quantitative stock selection strategy for short-term mean-reversion opportunities.\n",
    "\n",
    "**Workflow:**\n",
    "1.  **Prerequisites:** The final merged data file for the target date must exist. The core selection logic (`select_short_term_stocks_debug`) and save/load helpers are assumed to be in `src/utils.py`.\n",
    "2.  **Load Data:** Loads the universe of stocks and their features.\n",
    "3.  **Execute Strategy:** Applies a set of predefined filters and a weighted scoring model to the data universe to select a small portfolio of stocks.\n",
    "4.  **Analyze & Save Results:** Enriches the selected portfolio with descriptive data (Company, Industry) and saves the results (portfolio DataFrame and parameters used) to disk.\n",
    "5.  **Verify Calculation:** Performs a manual, step-by-step recalculation of the scores for a single ticker to validate the core logic."
   ]
  },
  {
   "cell_type": "markdown",
   "metadata": {},
   "source": [
    "### Setup and Configuration\n",
    "\n",
    "This cell defines all parameters for the strategy run, including filters, scoring weights, and file paths. **This is the main cell to modify for tuning the strategy.**"
   ]
  },
  {
   "cell_type": "code",
   "execution_count": 1,
   "metadata": {},
   "outputs": [
    {
     "name": "stdout",
     "output_type": "stream",
     "text": [
      "Executing strategy for Date: 2025-07-02\n",
      "Source file: c:\\Users\\ping\\Files_win10\\python\\py311\\stocks_v0_works\\data\\2025-07-02_df_finviz_merged_stocks_etfs.parquet\n",
      "Output will be saved with base path: c:\\Users\\ping\\Files_win10\\python\\py311\\stocks_v0_works\\output\\selection_results\\2025-07-02_short_term_mean_reversion\n"
     ]
    }
   ],
   "source": [
    "import sys\n",
    "from pathlib import Path\n",
    "import pandas as pd\n",
    "import json\n",
    "import numpy as np # Import numpy for the assertion\n",
    "\n",
    "# --- Project Path Setup ---\n",
    "NOTEBOOK_DIR = Path.cwd()\n",
    "ROOT_DIR = NOTEBOOK_DIR.parent\n",
    "if str(ROOT_DIR) not in sys.path:\n",
    "    sys.path.append(str(ROOT_DIR))\n",
    "SRC_DIR = ROOT_DIR / 'src'\n",
    "if str(SRC_DIR) not in sys.path:\n",
    "    sys.path.append(str(SRC_DIR))\n",
    "\n",
    "# --- Dynamic Configuration (from config.py) ---\n",
    "from config import DATE_STR, DEST_DIR\n",
    "import utils # Import your custom utility library\n",
    "\n",
    "# --- Strategy Parameters for THIS RUN ---\n",
    "# These parameters will be passed to the function, overriding its defaults.\n",
    "N_SELECT = 10\n",
    "\n",
    "STRATEGY_FILTERS = {\n",
    "    'min_price': 10.0,\n",
    "    'min_avg_volume_m': 2.0,\n",
    "    'min_roe_pct': 5.0,\n",
    "    'max_debt_eq': 1.5\n",
    "}\n",
    "\n",
    "STRATEGY_SCORING_WEIGHTS = {\n",
    "    'rsi': 0.35,\n",
    "    'change': 0.35,\n",
    "    'rel_volume': 0.20,\n",
    "    'volatility': 0.10\n",
    "}\n",
    "\n",
    "STRATEGY_INV_VOL_COL = 'ATR/Price %'\n",
    "\n",
    "# --- File Path Construction ---\n",
    "DATA_DIR = Path(DEST_DIR)\n",
    "SOURCE_PATH = DATA_DIR / f'{DATE_STR}_df_finviz_merged_stocks_etfs.parquet'\n",
    "OUTPUT_BASE_PATH = ROOT_DIR / 'output' / 'selection_results' / f'{DATE_STR}_short_term_mean_reversion'\n",
    "\n",
    "# --- Notebook Setup ---\n",
    "pd.set_option('display.max_columns', None)\n",
    "pd.set_option('display.width', 2000)\n",
    "pd.set_option('display.max_rows', 200)\n",
    "pd.set_option('display.float_format', '{:.4f}'.format)\n",
    "%load_ext autoreload\n",
    "%autoreload 2\n",
    "\n",
    "# --- Verification ---\n",
    "print(f\"Executing strategy for Date: {DATE_STR}\")\n",
    "print(f\"Source file: {SOURCE_PATH}\")\n",
    "print(f\"Output will be saved with base path: {OUTPUT_BASE_PATH}\")\n",
    "assert abs(sum(STRATEGY_SCORING_WEIGHTS.values()) - 1.0) < 1e-9, \"Scoring weights must sum to 1.0\""
   ]
  },
  {
   "cell_type": "markdown",
   "metadata": {},
   "source": [
    "### Step 1: Load Data Universe\n",
    "\n",
    "Load the complete dataset from which the selection will be made."
   ]
  },
  {
   "cell_type": "code",
   "execution_count": 2,
   "metadata": {},
   "outputs": [
    {
     "name": "stdout",
     "output_type": "stream",
     "text": [
      "--- Step 1: Loading data from 2025-07-02_df_finviz_merged_stocks_etfs.parquet ---\n",
      "Successfully loaded data for 1525 tickers.\n"
     ]
    }
   ],
   "source": [
    "print(f\"--- Step 1: Loading data from {SOURCE_PATH.name} ---\")\n",
    "\n",
    "try:\n",
    "    df_finviz = pd.read_parquet(SOURCE_PATH)\n",
    "    print(f\"Successfully loaded data for {len(df_finviz)} tickers.\")\n",
    "except FileNotFoundError:\n",
    "    print(f\"ERROR: Source file not found at {SOURCE_PATH}. Halting execution.\")\n",
    "    df_finviz = None"
   ]
  },
  {
   "cell_type": "markdown",
   "metadata": {},
   "source": [
    "### Step 2: Execute Selection Strategy\n",
    "\n",
    "Run the core selection logic using the parameters defined in the setup cell. This function is assumed to be in `utils.py`."
   ]
  },
  {
   "cell_type": "code",
   "execution_count": 3,
   "metadata": {},
   "outputs": [
    {
     "name": "stdout",
     "output_type": "stream",
     "text": [
      "\n",
      "--- Step 2: Executing stock selection strategy ---\n",
      "\n",
      "Strategy executed successfully. Selected 10 stocks.\n"
     ]
    }
   ],
   "source": [
    "if df_finviz is not None:\n",
    "    print(\"\\n--- Step 2: Executing stock selection strategy ---\")\n",
    "    \n",
    "    # Pass the strategy-specific parameters defined in the setup cell.\n",
    "    df_selected, df_filtered, params_used = utils.select_short_term_stocks_debug(\n",
    "        df_finviz=df_finviz,\n",
    "        n_select=N_SELECT,\n",
    "        filters=STRATEGY_FILTERS,\n",
    "        scoring_weights=STRATEGY_SCORING_WEIGHTS,\n",
    "        inv_vol_col_name=STRATEGY_INV_VOL_COL\n",
    "    )\n",
    "\n",
    "    if df_selected.empty:\n",
    "        print(\"\\nNo stocks were selected based on the current criteria.\")\n",
    "    else:\n",
    "        print(f\"\\nStrategy executed successfully. Selected {len(df_selected)} stocks.\")\n",
    "else:\n",
    "    print(\"\\nSkipping strategy execution because data failed to load.\")\n",
    "    df_selected, df_filtered, params_used = pd.DataFrame(), pd.DataFrame(), {}"
   ]
  },
  {
   "cell_type": "markdown",
   "metadata": {},
   "source": [
    "### Step 3: Analyze and Enrich Results\n",
    "\n",
    "Display the selected stocks and add key descriptive columns from the original Finviz data for better context."
   ]
  },
  {
   "cell_type": "code",
   "execution_count": 4,
   "metadata": {},
   "outputs": [
    {
     "name": "stdout",
     "output_type": "stream",
     "text": [
      "\n",
      "--- Step 3: Analyzing and enriching selected portfolio ---\n",
      "Top selected stocks with scores and weights:\n",
      "df_display:\n",
      "                                Company                                  Industry  Market Cap, M  Rank  Debt/Eq  ATR/Price %  Avg Volume, M    Price  Change %   ROE %  Rel Volume     RSI   z_RSI  z_Change%  z_RelVolume  z_ATR/Price%  final_score  Weight_EW  Weight_IV  Weight_SW\n",
      "CNC                        Centene Corp                          Healthcare Plans     16810.0000   760   0.6600       8.9106         5.1900  33.7800  -40.3700 12.5900     17.9100 15.9200 -4.0042   -13.9849      16.4047        6.0368       8.9734     0.1000     0.0256     0.4446\n",
      "NWG               NatWest Group Plc ADR                          Banks - Regional     52570.0000   308   1.4500       2.3828         5.1800  13.0100   -6.3400 13.7000      2.2200 35.9200 -2.1102    -2.3939       1.2276       -0.2614       1.8481     0.1000     0.0957     0.0916\n",
      "ADBE                          Adobe Inc                    Software - Application    160550.0000    85   0.5700       2.5339         3.8400 378.4700   -3.4800 52.2500      1.8000 39.2400 -1.7958    -1.4198       0.8213       -0.1156       1.3013     0.1000     0.0900     0.0645\n",
      "BRO                  Brown & Brown, Inc                         Insurance Brokers     35130.0000   435   0.5900       2.2261         2.8700 107.8100   -1.0300 16.1800      3.5600 44.1300 -1.3328    -0.5853       2.5238       -0.4125       1.2173     0.1000     0.1025     0.0603\n",
      "AIG    American International Group Inc                   Insurance - Diversified     47470.0000   342   0.2100       2.0277         4.2900  82.3600   -4.0900  6.1300      1.2100 42.1000 -1.5250    -1.6276       0.2506       -0.6040       1.2139     0.1000     0.1125     0.0601\n",
      "BRK-B            Berkshire Hathaway Inc                   Insurance - Diversified   1035880.0000    11   0.2100       1.4277         5.4200 480.4800   -1.8600 13.2000      1.2400 37.4300 -1.9672    -0.8680       0.2797       -1.1828       1.1665     0.1000     0.1598     0.0578\n",
      "UNH              Unitedhealth Group Inc                          Healthcare Plans    279000.0000    36   0.8600       3.4205        17.4100 307.5600   -5.7000 24.3300      1.0400 44.5700 -1.2911    -2.1760       0.0862        0.7398       1.1567     0.1000     0.0667     0.0573\n",
      "HLN                      Haleon plc ADR  Drug Manufacturers - Specialty & Generic     46130.0000   352   0.6300       1.4620        16.5600  10.2600   -0.8700  8.9000      0.9900 32.9100 -2.3953    -0.5308       0.0378       -1.1498       1.1467     0.1000     0.1560     0.0568\n",
      "PGR                    Progressive Corp           Insurance - Property & Casualty    151130.0000    93   0.2400       2.1800         3.4000 257.8000   -2.4600 34.3400      1.0100 37.3600 -1.9739    -1.0724       0.0572       -0.4570       1.1233     0.1000     0.1046     0.0557\n",
      "BABA      Alibaba Group Holding Ltd ADR                           Internet Retail    247590.0000    45   0.2500       2.6375        18.6600 110.7100   -2.8600 13.0400      0.7200 38.3600 -1.8792    -1.2086      -0.2233       -0.0156       1.0376     0.1000     0.0865     0.0514\n"
     ]
    }
   ],
   "source": [
    "if not df_selected.empty:\n",
    "    print(\"\\n--- Step 3: Analyzing and enriching selected portfolio ---\")\n",
    "\n",
    "    # Add key descriptive columns for context\n",
    "    cols_to_add = ['Company', 'Industry', 'Market Cap, M', 'Rank']    \n",
    "    df_display = utils.add_columns_from_source(\n",
    "        base_df=df_selected,\n",
    "        source_df=df_finviz,\n",
    "        cols_to_add=cols_to_add,\n",
    "        match_on_base_index=True\n",
    "    )\n",
    "    \n",
    "    # # --- FIX: Use the variable defined in the setup cell ---\n",
    "    # # The variable `STRATEGY_INV_VOL_COL` was defined in our setup cell.\n",
    "    # display_cols = cols_to_add + [\n",
    "    #     'final_score', 'Weight_EW', 'Weight_IV', 'Weight_SW', \n",
    "    #     'RSI', 'Change %', 'Rel Volume', STRATEGY_INV_VOL_COL\n",
    "    # ]\n",
    "    \n",
    "    print(\"Top selected stocks with scores and weights:\")\n",
    "    # display(df_display[display_cols])\n",
    "    # display(df_display)   \n",
    "    print(f'df_display:\\n{df_display}')  \n",
    "else:\n",
    "    print(\"\\nNo results to analyze.\")"
   ]
  },
  {
   "cell_type": "markdown",
   "metadata": {},
   "source": [
    "### Step 4: Save Selection Results\n",
    "\n",
    "Save the portfolio DataFrame (Parquet and CSV) and the parameters used (JSON) for record-keeping and backtesting."
   ]
  },
  {
   "cell_type": "code",
   "execution_count": 5,
   "metadata": {},
   "outputs": [
    {
     "name": "stdout",
     "output_type": "stream",
     "text": [
      "\n",
      "--- Step 4: Saving selection results and parameters ---\n",
      "Results saved successfully with base path: c:\\Users\\ping\\Files_win10\\python\\py311\\stocks_v0_works\\output\\selection_results\\2025-07-02_short_term_mean_reversion\n"
     ]
    }
   ],
   "source": [
    "# --- Explicitly name the index before saving or displaying. --\n",
    "df_selected.index.name = 'Ticker'\n",
    "\n",
    "if not df_selected.empty:\n",
    "    print(\"\\n--- Step 4: Saving selection results and parameters ---\")\n",
    "\n",
    "    save_successful = utils.save_selection_results(\n",
    "        df_selected=df_selected,       \n",
    "        parameters_used=params_used,\n",
    "        base_filepath=str(OUTPUT_BASE_PATH), # Convert Path to string for the function\n",
    "        save_csv=True\n",
    "    )\n",
    "\n",
    "    if save_successful:\n",
    "        print(f\"Results saved successfully with base path: {OUTPUT_BASE_PATH}\")\n",
    "else:\n",
    "    print(\"\\nNo results to save.\")"
   ]
  },
  {
   "cell_type": "markdown",
   "metadata": {},
   "source": [
    "### Step 5: Verify Calculation Logic\n",
    "\n",
    "This section performs a manual, step-by-step recalculation for a single ticker to validate the primary function's logic. This is excellent for debugging and ensuring correctness."
   ]
  },
  {
   "cell_type": "code",
   "execution_count": 6,
   "metadata": {},
   "outputs": [
    {
     "name": "stdout",
     "output_type": "stream",
     "text": [
      "\n",
      "--- Step 5: Verifying calculation for a sample ticker ---\n",
      "Verifying scores for ticker: CNC\n",
      "\n",
      "Factor: rsi (RSI)\n",
      "  - Value: 15.9200, Mean: 58.2041, Std: 10.5600\n",
      "  - Manual Z-Score: -4.0042\n",
      "  - Function Z-Score: -4.0042\n",
      "\n",
      "Factor: change (Change %)\n",
      "  - Value: -40.3700, Mean: 0.6884, Std: 2.9359\n",
      "  - Manual Z-Score: -13.9849\n",
      "  - Function Z-Score: -13.9849\n",
      "\n",
      "Factor: rel_volume (Rel Volume)\n",
      "  - Value: 17.9100, Mean: 0.9509, Std: 1.0338\n",
      "  - Manual Z-Score: 16.4047\n",
      "  - Function Z-Score: 16.4047\n",
      "\n",
      "Factor: volatility (ATR/Price %)\n",
      "  - Value: 8.9106, Mean: 2.6537, Std: 1.0365\n",
      "  - Manual Z-Score: 6.0368\n",
      "  - Function Z-Score: 6.0368\n",
      "\n",
      "--- Final Score Comparison ---\n",
      "Manual Final Score Calculation: 8.9734\n",
      "Function Final Score from DataFrame: 8.9734\n",
      "\n",
      "Verification successful!\n"
     ]
    }
   ],
   "source": [
    "if not df_selected.empty and not df_filtered.empty:\n",
    "    print(\"\\n--- Step 5: Verifying calculation for a sample ticker ---\")\n",
    "    \n",
    "    # Pick a sample ticker from the results\n",
    "    sample_ticker = df_selected.index[0]\n",
    "    print(f\"Verifying scores for ticker: {sample_ticker}\")\n",
    "\n",
    "    # Manually calculate the Z-score for each component\n",
    "    z_score_calcs = {}\n",
    "    for factor, col_name in {'rsi': 'RSI', 'change': 'Change %', 'rel_volume': 'Rel Volume', 'volatility': 'ATR/Price %'}.items():\n",
    "        value = df_filtered.loc[sample_ticker, col_name]\n",
    "        mean = df_filtered[col_name].mean()\n",
    "        std = df_filtered[col_name].std(ddof=0) # Use population std dev to match zscore\n",
    "        z_score = (value - mean) / std\n",
    "        z_score_calcs[factor] = z_score\n",
    "        \n",
    "        # --- FIX: Construct the z-score column name outside the f-string ---\n",
    "        z_col_name = f'z_{col_name.replace(\" \", \"\")}'\n",
    "        \n",
    "        print(f\"\\nFactor: {factor} ({col_name})\")\n",
    "        print(f\"  - Value: {value:.4f}, Mean: {mean:.4f}, Std: {std:.4f}\")\n",
    "        print(f\"  - Manual Z-Score: {z_score:.4f}\")\n",
    "        # Now use the clean variable in the f-string\n",
    "        print(f\"  - Function Z-Score: {df_selected.loc[sample_ticker, z_col_name]:.4f}\")\n",
    "\n",
    "    # Manually calculate the final weighted score\n",
    "    manual_final_score = (\n",
    "        z_score_calcs['rsi'] * STRATEGY_SCORING_WEIGHTS['rsi'] * (-1) +\n",
    "        z_score_calcs['change'] * STRATEGY_SCORING_WEIGHTS['change'] * (-1) +\n",
    "        z_score_calcs['rel_volume'] * STRATEGY_SCORING_WEIGHTS['rel_volume'] * (1) +\n",
    "        z_score_calcs['volatility'] * STRATEGY_SCORING_WEIGHTS['volatility'] * (-1)\n",
    "    )\n",
    "\n",
    "    print(\"\\n--- Final Score Comparison ---\")\n",
    "    print(f\"Manual Final Score Calculation: {manual_final_score:.4f}\")\n",
    "    print(f\"Function Final Score from DataFrame: {df_selected.loc[sample_ticker, 'final_score']:.4f}\")\n",
    "\n",
    "    # Assert that the manual calculation is close to the function's result\n",
    "    assert np.isclose(manual_final_score, df_selected.loc[sample_ticker, 'final_score']), \"Verification failed: Manual score does not match function score!\"\n",
    "    print(\"\\nVerification successful!\")\n",
    "\n",
    "else:\n",
    "    print(\"\\nSkipping verification step.\")"
   ]
  }
 ],
 "metadata": {
  "kernelspec": {
   "display_name": ".venv",
   "language": "python",
   "name": "python3"
  },
  "language_info": {
   "codemirror_mode": {
    "name": "ipython",
    "version": 3
   },
   "file_extension": ".py",
   "mimetype": "text/x-python",
   "name": "python",
   "nbconvert_exporter": "python",
   "pygments_lexer": "ipython3",
   "version": "3.11.9"
  }
 },
 "nbformat": 4,
 "nbformat_minor": 2
}
