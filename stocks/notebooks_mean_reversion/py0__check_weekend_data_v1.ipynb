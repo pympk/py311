{
 "cells": [
  {
   "cell_type": "markdown",
   "id": "6d77768d",
   "metadata": {},
   "source": [
    "### Data File Cleanup Workflow\n",
    "\n",
    "This notebook corrects the timestamps of raw data files. Sometimes, data is scraped on a weekend (Saturday or Sunday) but pertains to the market data from the preceding Friday.\n",
    "\n",
    "**Workflow:**\n",
    "\n",
    "1.  **Setup:** Configure the path to the directory containing the raw data files (e.g., the `Downloads` folder).\n",
    "2.  **Execute Cleanup:** A utility function (`utils.align_weekend_data_files_to_fridays`) scans the directory. It finds any files with weekend dates in their names and renames them to use the date of the preceding Friday.\n",
    "3.  **Verify:** The notebook re-scans the directory to display the final, cleaned list of file dates, confirming that no weekend dates remain."
   ]
  },
  {
   "cell_type": "markdown",
   "id": "9a7e9478",
   "metadata": {},
   "source": [
    "### Step 1: Setup and Configuration\n",
    "\n",
    "This cell contains all necessary imports and configuration variables. **Modify the `DOWNLOADS_DIR` and `DATA_FILE_PREFIX` to match your setup.**"
   ]
  },
  {
   "cell_type": "code",
   "execution_count": 3,
   "id": "fae1d01c",
   "metadata": {},
   "outputs": [
    {
     "name": "stdout",
     "output_type": "stream",
     "text": [
      "The autoreload extension is already loaded. To reload it, use:\n",
      "  %reload_ext autoreload\n",
      "--- Configuration ---\n",
      "Project Root: c:\\Users\\ping\\Files_win10\\python\\py311\\stocks\n",
      "Source Dir:   c:\\Users\\ping\\Files_win10\\python\\py311\\stocks\\src\n",
      "Scanning for data files in: C:\\Users\\ping\\Downloads\n"
     ]
    }
   ],
   "source": [
    "import sys\n",
    "from pathlib import Path\n",
    "import pandas as pd\n",
    "from datetime import datetime, timedelta\n",
    "\n",
    "# --- Project Path Setup ---\n",
    "# [REFACTOR] Standardized and simplified path setup.\n",
    "NOTEBOOK_DIR = Path.cwd()\n",
    "ROOT_DIR = NOTEBOOK_DIR.parent\n",
    "SRC_DIR = ROOT_DIR / 'src'\n",
    "\n",
    "# Add src to Python path to import our utility module\n",
    "if str(SRC_DIR) not in sys.path:\n",
    "    sys.path.append(str(SRC_DIR))\n",
    "\n",
    "import utils\n",
    "\n",
    "# --- File Cleanup Configuration ---\n",
    "# [REFACTOR] Grouped relevant parameters together.\n",
    "DOWNLOADS_DIR = Path.home() / 'Downloads'\n",
    "DATA_FILE_PREFIX = 'df_finviz_'\n",
    "DATA_FILE_EXTENSION = 'parquet'\n",
    "\n",
    "# --- Notebook Setup ---\n",
    "pd.set_option('display.max_columns', None); pd.set_option('display.width', 1000)\n",
    "%load_ext autoreload\n",
    "%autoreload 2\n",
    "\n",
    "# --- Verification ---\n",
    "print(\"--- Configuration ---\")\n",
    "print(f\"Project Root: {ROOT_DIR}\")\n",
    "print(f\"Source Dir:   {SRC_DIR}\")\n",
    "print(f\"Scanning for data files in: {DOWNLOADS_DIR}\")\n",
    "assert DOWNLOADS_DIR.is_dir(), f\"Downloads directory not found at: {DOWNLOADS_DIR}\"\n"
   ]
  },
  {
   "cell_type": "markdown",
   "id": "178144da",
   "metadata": {},
   "source": [
    "### Step 3: Execute and Verify File Cleanup\n",
    "\n",
    "This cell calls the utility function to perform the file renaming. It then immediately re-scans the directory to show the result."
   ]
  },
  {
   "cell_type": "code",
   "execution_count": 4,
   "id": "7376103e",
   "metadata": {},
   "outputs": [
    {
     "name": "stdout",
     "output_type": "stream",
     "text": [
      "Scanning 'C:\\Users\\ping\\Downloads' for files with prefix 'df_finviz_...parquet'\n",
      "\n",
      "Found weekend file: 'df_finviz_2025-08-16_stocks_etfs.parquet'\n",
      "  -> Aligning to Friday target: 'df_finviz_2025-08-15_stocks_etfs.parquet'\n",
      "  -> Target file already exists. It will be overwritten to ensure the latest data is used.\n",
      "  -> Success: Renamed to 'df_finviz_2025-08-15_stocks_etfs.parquet'\n",
      "\n",
      "Found weekend file: 'df_finviz_2025-08-30_stocks_etfs.parquet'\n",
      "  -> Aligning to Friday target: 'df_finviz_2025-08-29_stocks_etfs.parquet'\n",
      "  -> Target file already exists. It will be overwritten to ensure the latest data is used.\n",
      "  -> Success: Renamed to 'df_finviz_2025-08-29_stocks_etfs.parquet'\n",
      "\n",
      "File alignment check complete.\n",
      "\n",
      "--- Verification: Available File Dates After Cleanup ---\n",
      "  0    2025-04-25    1    2025-04-28    2    2025-04-29    3    2025-04-30    4    2025-05-01\n",
      "  5    2025-05-02    6    2025-05-05    7    2025-05-06    8    2025-05-07    9    2025-05-08\n",
      "  10   2025-05-09    11   2025-05-12    12   2025-05-13    13   2025-05-14    14   2025-05-15\n",
      "  15   2025-05-16    16   2025-05-19    17   2025-05-20    18   2025-05-21    19   2025-05-22\n",
      "  20   2025-05-23    21   2025-05-27    22   2025-05-28    23   2025-05-29    24   2025-05-30\n",
      "  25   2025-06-02    26   2025-06-03    27   2025-06-04    28   2025-06-05    29   2025-06-06\n",
      "  30   2025-06-09    31   2025-06-10    32   2025-06-11    33   2025-06-12    34   2025-06-13\n",
      "  35   2025-06-16    36   2025-06-17    37   2025-06-18    38   2025-06-19    39   2025-06-20\n",
      "  40   2025-06-23    41   2025-06-24    42   2025-06-25    43   2025-06-26    44   2025-06-27\n",
      "  45   2025-06-30    46   2025-07-01    47   2025-07-02    48   2025-07-03    49   2025-07-07\n",
      "  50   2025-07-08    51   2025-07-09    52   2025-07-10    53   2025-07-11    54   2025-07-14\n",
      "  55   2025-07-15    56   2025-07-16    57   2025-07-17    58   2025-07-18    59   2025-07-21\n",
      "  60   2025-07-22    61   2025-07-23    62   2025-07-24    63   2025-07-25    64   2025-07-28\n",
      "  65   2025-07-29    66   2025-07-30    67   2025-07-31    68   2025-08-01    69   2025-08-04\n",
      "  70   2025-08-05    71   2025-08-06    72   2025-08-07    73   2025-08-08    74   2025-08-11\n",
      "  75   2025-08-12    76   2025-08-13    77   2025-08-14    78   2025-08-15    79   2025-08-18\n",
      "  80   2025-08-19    81   2025-08-20    82   2025-08-21    83   2025-08-22    84   2025-08-25\n",
      "  85   2025-08-26    86   2025-08-28    87   2025-08-29\n"
     ]
    }
   ],
   "source": [
    "# [REFACTOR] The complex logic is now a single, clean function call.\n",
    "utils.align_weekend_data_files_to_fridays(\n",
    "    search_dir=DOWNLOADS_DIR,\n",
    "    prefix=DATA_FILE_PREFIX,\n",
    "    file_ext=DATA_FILE_EXTENSION,\n",
    ")\n",
    "\n",
    "print(\"\\n--- Verification: Available File Dates After Cleanup ---\")\n",
    "final_files = utils.get_recent_files(\n",
    "    directory_path=DOWNLOADS_DIR,\n",
    "    prefix=DATA_FILE_PREFIX,\n",
    "    extension=DATA_FILE_EXTENSION,\n",
    "    count=None # Scan all files\n",
    ")\n",
    "\n",
    "if not final_files:\n",
    "    print(\"No relevant data files found after cleanup.\")\n",
    "else:\n",
    "    final_dates = utils.extract_and_sort_dates_from_filenames(final_files)\n",
    "    utils.print_list_in_columns(final_dates, num_columns=5)"
   ]
  }
 ],
 "metadata": {
  "kernelspec": {
   "display_name": "py311-py3.11",
   "language": "python",
   "name": "python3"
  },
  "language_info": {
   "codemirror_mode": {
    "name": "ipython",
    "version": 3
   },
   "file_extension": ".py",
   "mimetype": "text/x-python",
   "name": "python",
   "nbconvert_exporter": "python",
   "pygments_lexer": "ipython3",
   "version": "3.11.9"
  }
 },
 "nbformat": 4,
 "nbformat_minor": 5
}
