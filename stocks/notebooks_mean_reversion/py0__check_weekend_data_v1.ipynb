{
 "cells": [
  {
   "cell_type": "markdown",
   "id": "6d77768d",
   "metadata": {},
   "source": [
    "### Data File Cleanup Workflow\n",
    "\n",
    "This notebook corrects the timestamps of raw data files. Sometimes, data is scraped on a weekend (Saturday or Sunday) but pertains to the market data from the preceding Friday.\n",
    "\n",
    "**Workflow:**\n",
    "\n",
    "1.  **Setup:** Configure the path to the directory containing the raw data files (e.g., the `Downloads` folder).\n",
    "2.  **Execute Cleanup:** A utility function (`utils.align_weekend_data_files_to_fridays`) scans the directory. It finds any files with weekend dates in their names and renames them to use the date of the preceding Friday.\n",
    "3.  **Verify:** The notebook re-scans the directory to display the final, cleaned list of file dates, confirming that no weekend dates remain."
   ]
  },
  {
   "cell_type": "markdown",
   "id": "9a7e9478",
   "metadata": {},
   "source": [
    "### Step 1: Setup and Configuration\n",
    "\n",
    "This cell contains all necessary imports and configuration variables. **Modify the `DOWNLOADS_DIR` and `DATA_FILE_PREFIX` to match your setup.**"
   ]
  },
  {
   "cell_type": "code",
   "execution_count": 1,
   "id": "fae1d01c",
   "metadata": {},
   "outputs": [
    {
     "name": "stdout",
     "output_type": "stream",
     "text": [
      "--- Configuration ---\n",
      "Project Root: c:\\Users\\ping\\Files_win10\\python\\py311\\stocks\n",
      "Source Dir:   c:\\Users\\ping\\Files_win10\\python\\py311\\stocks\\src\n",
      "Scanning for data files in: C:\\Users\\ping\n"
     ]
    }
   ],
   "source": [
    "import sys\n",
    "from pathlib import Path\n",
    "import pandas as pd\n",
    "from datetime import datetime, timedelta\n",
    "\n",
    "# --- Project Path Setup ---\n",
    "# [REFACTOR] Standardized and simplified path setup.\n",
    "NOTEBOOK_DIR = Path.cwd()\n",
    "ROOT_DIR = NOTEBOOK_DIR.parent\n",
    "SRC_DIR = ROOT_DIR / 'src'\n",
    "\n",
    "# Add src to Python path to import our utility module\n",
    "if str(SRC_DIR) not in sys.path:\n",
    "    sys.path.append(str(SRC_DIR))\n",
    "\n",
    "import utils\n",
    "\n",
    "# --- File Cleanup Configuration ---\n",
    "# [REFACTOR] Grouped relevant parameters together.\n",
    "DOWNLOADS_DIR = Path.home()\n",
    "DATA_FILE_PREFIX = 'df_finviz_'\n",
    "DATA_FILE_EXTENSION = 'parquet'\n",
    "\n",
    "# --- Notebook Setup ---\n",
    "pd.set_option('display.max_columns', None); pd.set_option('display.width', 1000)\n",
    "%load_ext autoreload\n",
    "%autoreload 2\n",
    "\n",
    "# --- Verification ---\n",
    "print(\"--- Configuration ---\")\n",
    "print(f\"Project Root: {ROOT_DIR}\")\n",
    "print(f\"Source Dir:   {SRC_DIR}\")\n",
    "print(f\"Scanning for data files in: {DOWNLOADS_DIR}\")\n",
    "assert DOWNLOADS_DIR.is_dir(), f\"Downloads directory not found at: {DOWNLOADS_DIR}\"\n"
   ]
  },
  {
   "cell_type": "markdown",
   "id": "178144da",
   "metadata": {},
   "source": [
    "### Step 3: Execute and Verify File Cleanup\n",
    "\n",
    "This cell calls the utility function to perform the file renaming. It then immediately re-scans the directory to show the result."
   ]
  },
  {
   "cell_type": "code",
   "execution_count": 2,
   "id": "7376103e",
   "metadata": {},
   "outputs": [
    {
     "name": "stdout",
     "output_type": "stream",
     "text": [
      "Scanning 'C:\\Users\\ping' for files with prefix 'df_finviz_...parquet'\n",
      "\n",
      "File alignment check complete.\n",
      "\n",
      "--- Verification: Available File Dates After Cleanup ---\n",
      "No relevant data files found after cleanup.\n"
     ]
    }
   ],
   "source": [
    "# [REFACTOR] The complex logic is now a single, clean function call.\n",
    "utils.align_weekend_data_files_to_fridays(\n",
    "    search_dir=DOWNLOADS_DIR,\n",
    "    prefix=DATA_FILE_PREFIX,\n",
    "    file_ext=DATA_FILE_EXTENSION,\n",
    ")\n",
    "\n",
    "print(\"\\n--- Verification: Available File Dates After Cleanup ---\")\n",
    "final_files = utils.get_recent_files(\n",
    "    directory_path=DOWNLOADS_DIR,\n",
    "    prefix=DATA_FILE_PREFIX,\n",
    "    extension=DATA_FILE_EXTENSION,\n",
    "    count=None # Scan all files\n",
    ")\n",
    "\n",
    "if not final_files:\n",
    "    print(\"No relevant data files found after cleanup.\")\n",
    "else:\n",
    "    final_dates = utils.extract_and_sort_dates_from_filenames(final_files)\n",
    "    utils.print_list_in_columns(final_dates, num_columns=5)"
   ]
  }
 ],
 "metadata": {
  "kernelspec": {
   "display_name": "py311-py3.11",
   "language": "python",
   "name": "python3"
  },
  "language_info": {
   "codemirror_mode": {
    "name": "ipython",
    "version": 3
   },
   "file_extension": ".py",
   "mimetype": "text/x-python",
   "name": "python",
   "nbconvert_exporter": "python",
   "pygments_lexer": "ipython3",
   "version": "3.11.9"
  }
 },
 "nbformat": 4,
 "nbformat_minor": 5
}
