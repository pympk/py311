{
 "cells": [
  {
   "cell_type": "markdown",
   "metadata": {},
   "source": [
    "### Ticker Generation Workflow\n",
    "\n",
    "This notebook automates the process of creating a master ticker list for the `Yloader` application.\n",
    "\n",
    "**Workflow:**\n",
    "\n",
    "1.  **Prerequisite:** Run an external process (e.g., a `finviz` scraper) to generate one or more ticker files (e.g., `ticker_2023-10-27_stocks_etfs.csv`) and save them to your `Downloads` directory.\n",
    "2.  **Find Files:** The notebook scans the `Downloads` directory for the most recent ticker files based on a specified prefix.\n",
    "3.  **Combine & Unify:** It reads all found files, combines the tickers into a single list, and removes duplicates.\n",
    "4.  **Save List:** The final, unique list of tickers is saved to a `tickers.csv` file in the `Yloader` project directory, ready for use.\n"
   ]
  },
  {
   "cell_type": "markdown",
   "metadata": {},
   "source": [
    "### Setup and Configuration\n",
    "\n",
    "This cell contains all the necessary imports and configuration variables. **Modify the parameters in the `Configuration` section below to match your setup before running the notebook.**"
   ]
  },
  {
   "cell_type": "code",
   "execution_count": 1,
   "metadata": {},
   "outputs": [
    {
     "name": "stdout",
     "output_type": "stream",
     "text": [
      "Searching for ticker files in: C:\\Users\\ping\\Downloads\n",
      "Output directory for Yloader: C:\\Users\\ping\\Desktop\\yloader\\tickers\n"
     ]
    }
   ],
   "source": [
    "import csv\n",
    "from pathlib import Path\n",
    "import pandas as pd\n",
    "from typing import List, Set\n",
    "\n",
    "# --- Configuration ---\n",
    "\n",
    "# Directory to search for incoming ticker files.\n",
    "# Uses pathlib to programmatically find the user's Downloads folder.\n",
    "DOWNLOADS_DIR = Path.home() / \"Downloads\"\n",
    "\n",
    "# The prefix of the ticker files to look for (e.g., 'ticker' for 'ticker_2023-10-27.csv').\n",
    "TICKER_FILE_PREFIX = 'ticker'\n",
    "\n",
    "# The number of most recent ticker files to process.\n",
    "# Set to a higher number if you need to combine many historical files.\n",
    "RECENT_FILE_COUNT = 10\n",
    "\n",
    "# The target directory where the final, combined ticker list will be saved.\n",
    "YLOADER_TICKERS_DIR = Path.home() / \"Desktop\" / \"yloader\" / \"tickers\"\n",
    "\n",
    "# The name of the final output file.\n",
    "OUTPUT_TICKER_FILENAME = \"tickers.csv\"\n",
    "\n",
    "# --- Verification ---\n",
    "print(f\"Searching for ticker files in: {DOWNLOADS_DIR}\")\n",
    "print(f\"Output directory for Yloader: {YLOADER_TICKERS_DIR}\")"
   ]
  },
  {
   "cell_type": "markdown",
   "metadata": {},
   "source": [
    "### Step 1: Find Recent Ticker Files\n",
    "\n",
    "This cell defines the function to find recent files and immediately executes it. This completes the first step of the workflow."
   ]
  },
  {
   "cell_type": "code",
   "execution_count": 2,
   "metadata": {},
   "outputs": [
    {
     "name": "stdout",
     "output_type": "stream",
     "text": [
      "--- Step 1: Finding recent ticker files ---\n",
      "Found 10 recent ticker file(s):\n",
      "  1. ticker_2025-08-25_stocks_etfs.csv\n",
      "  2. ticker_2025-08-22_stocks_etfs.csv\n",
      "  3. ticker_2025-08-21_stocks_etfs.csv\n",
      "  4. ticker_2025-08-20_stocks_etfs.csv\n",
      "  5. ticker_2025-08-19_stocks_etfs.csv\n",
      "  6. ticker_2025-08-18_stocks_etfs.csv\n",
      "  7. ticker_2025-08-16_stocks_etfs.csv\n",
      "  8. ticker_2025-08-15_stocks_etfs.csv\n",
      "  9. ticker_2025-08-14_stocks_etfs.csv\n",
      "  10. ticker_2025-08-13_stocks_etfs.csv\n"
     ]
    }
   ],
   "source": [
    "def find_recent_csv_files(\n",
    "    search_dir: Path,\n",
    "    prefix: str,\n",
    "    count: int\n",
    ") -> List[Path]:\n",
    "    \"\"\"\n",
    "    Finds the most recent CSV files in a directory that start with a given prefix.\n",
    "\n",
    "    Args:\n",
    "        search_dir (Path): The Path object for the directory to search.\n",
    "        prefix (str): The prefix the CSV filenames must start with.\n",
    "        count (int): The maximum number of recent file paths to return.\n",
    "\n",
    "    Returns:\n",
    "        List[Path]: A list of Path objects for the found files, sorted from\n",
    "                    most recent to oldest. Returns an empty list if the\n",
    "                    directory doesn't exist or no matching files are found.\n",
    "    \"\"\"\n",
    "    if not search_dir.is_dir():\n",
    "        print(f\"Error: Directory not found at '{search_dir}'\")\n",
    "        return []\n",
    "\n",
    "    candidate_files = [f for f in search_dir.glob(f\"{prefix}*.csv\") if f.is_file()]\n",
    "    if not candidate_files:\n",
    "        return []\n",
    "\n",
    "    sorted_files = sorted(\n",
    "        candidate_files,\n",
    "        key=lambda f: f.stat().st_mtime,\n",
    "        reverse=True\n",
    "    )\n",
    "    return sorted_files[:count]\n",
    "\n",
    "# --- Execute Step 1 ---\n",
    "print(\"--- Step 1: Finding recent ticker files ---\")\n",
    "recent_ticker_files = find_recent_csv_files(\n",
    "    search_dir=DOWNLOADS_DIR,\n",
    "    prefix=TICKER_FILE_PREFIX,\n",
    "    count=RECENT_FILE_COUNT\n",
    ")\n",
    "\n",
    "if recent_ticker_files:\n",
    "    print(f\"Found {len(recent_ticker_files)} recent ticker file(s):\")\n",
    "    for i, file_path in enumerate(recent_ticker_files):\n",
    "        print(f\"  {i+1}. {file_path.name}\")\n",
    "else:\n",
    "    print(f\"No recent CSV files starting with '{TICKER_FILE_PREFIX}' found in '{DOWNLOADS_DIR}'.\")\n",
    "    # We assign an empty list to prevent NameError in the next cell\n",
    "    recent_ticker_files = []"
   ]
  },
  {
   "cell_type": "markdown",
   "metadata": {},
   "source": [
    "### Step 2: Combine Tickers into a Unique Set\n",
    "\n",
    "This cell defines the function to combine tickers and immediately runs it on the files found in Step 1."
   ]
  },
  {
   "cell_type": "code",
   "execution_count": 3,
   "metadata": {},
   "outputs": [
    {
     "name": "stdout",
     "output_type": "stream",
     "text": [
      "\n",
      "--- Step 2: Combining tickers into a unique list ---\n",
      "Successfully combined tickers from 10 file(s).\n",
      "Total unique tickers found: 1587\n",
      "Sample tickers: ['A', 'AA', 'AAL', 'AAON', 'AAPL', 'ABBV', 'ABEV', 'ABNB', 'ABT', 'ACGL']...\n"
     ]
    }
   ],
   "source": [
    "def combine_tickers_from_files(file_paths: List[Path]) -> List[str]:\n",
    "    \"\"\"\n",
    "    Reads tickers from multiple CSV files, combines them, and returns a\n",
    "    sorted, unique list.\n",
    "\n",
    "    Args:\n",
    "        file_paths (List[Path]): A list of Path objects pointing to the CSV files.\n",
    "\n",
    "    Returns:\n",
    "        List[str]: A sorted list of unique ticker symbols.\n",
    "    \"\"\"\n",
    "    all_tickers: Set[str] = set()\n",
    "\n",
    "    for file_path in file_paths:\n",
    "        try:\n",
    "            df = pd.read_csv(file_path, header=None, names=['ticker'], skip_blank_lines=True)\n",
    "            if not df.empty:\n",
    "                tickers_from_file = df['ticker'].dropna().astype(str).str.strip()\n",
    "                valid_tickers = tickers_from_file[tickers_from_file != ''].tolist()\n",
    "                all_tickers.update(valid_tickers)\n",
    "        except pd.errors.EmptyDataError:\n",
    "            print(f\"Warning: File '{file_path.name}' is empty and will be skipped.\")\n",
    "        except Exception as e:\n",
    "            print(f\"An error occurred while processing file '{file_path.name}': {e}\")\n",
    "\n",
    "    return sorted(list(all_tickers))\n",
    "\n",
    "# --- Execute Step 2 ---\n",
    "print(\"\\n--- Step 2: Combining tickers into a unique list ---\")\n",
    "ticker_list = combine_tickers_from_files(file_paths=recent_ticker_files)\n",
    "\n",
    "if ticker_list:\n",
    "    print(f\"Successfully combined tickers from {len(recent_ticker_files)} file(s).\")\n",
    "    print(f\"Total unique tickers found: {len(ticker_list)}\")\n",
    "    # Display a sample of the tickers to avoid flooding the output\n",
    "    print(f\"Sample tickers: {ticker_list[:10]}...\")\n",
    "else:\n",
    "    print(\"No tickers were extracted. The final list is empty.\")\n",
    "    # We assign an empty list to prevent NameError in the next cell\n",
    "    ticker_list = []"
   ]
  },
  {
   "cell_type": "markdown",
   "metadata": {},
   "source": [
    "### Step 3: Save the Combined Ticker List\n",
    "\n",
    "Finally, this cell defines the save function and executes it to write the master `tickers.csv` file."
   ]
  },
  {
   "cell_type": "code",
   "execution_count": 4,
   "metadata": {},
   "outputs": [
    {
     "name": "stdout",
     "output_type": "stream",
     "text": [
      "\n",
      "--- Step 3: Saving the final ticker list ---\n",
      "Successfully saved 1587 tickers to: C:\\Users\\ping\\Desktop\\yloader\\tickers\\tickers.csv\n"
     ]
    }
   ],
   "source": [
    "def save_tickers_to_csv(ticker_list: List[str], output_path: Path):\n",
    "    \"\"\"\n",
    "    Saves a list of tickers to a single-column CSV file.\n",
    "\n",
    "    Args:\n",
    "        ticker_list (List[str]): The list of ticker symbols to save.\n",
    "        output_path (Path): The full Path object for the output CSV file.\n",
    "    \"\"\"\n",
    "    if not ticker_list:\n",
    "        print(\"Warning: Ticker list is empty. Nothing to save.\")\n",
    "        return\n",
    "\n",
    "    try:\n",
    "        # Create the parent directory if it doesn't exist\n",
    "        output_path.parent.mkdir(parents=True, exist_ok=True)\n",
    "\n",
    "        with open(output_path, 'w', newline='', encoding='utf-8') as csvfile:\n",
    "            writer = csv.writer(csvfile)\n",
    "            for ticker in ticker_list:\n",
    "                writer.writerow([ticker])\n",
    "\n",
    "        print(f\"Successfully saved {len(ticker_list)} tickers to: {output_path}\")\n",
    "\n",
    "    except IOError as e:\n",
    "        print(f\"Error: Could not write to file at {output_path}. Details: {e}\")\n",
    "    except Exception as e:\n",
    "        print(f\"An unexpected error occurred during file save: {e}\")\n",
    "\n",
    "# --- Execute Step 3 ---\n",
    "print(\"\\n--- Step 3: Saving the final ticker list ---\")\n",
    "output_file_path = YLOADER_TICKERS_DIR / OUTPUT_TICKER_FILENAME\n",
    "save_tickers_to_csv(ticker_list=ticker_list, output_path=output_file_path)"
   ]
  },
  {
   "cell_type": "code",
   "execution_count": null,
   "metadata": {},
   "outputs": [],
   "source": []
  }
 ],
 "metadata": {
  "kernelspec": {
   "display_name": "py311-py3.11",
   "language": "python",
   "name": "python3"
  },
  "language_info": {
   "codemirror_mode": {
    "name": "ipython",
    "version": 3
   },
   "file_extension": ".py",
   "mimetype": "text/x-python",
   "name": "python",
   "nbconvert_exporter": "python",
   "pygments_lexer": "ipython3",
   "version": "3.11.9"
  }
 },
 "nbformat": 4,
 "nbformat_minor": 2
}
