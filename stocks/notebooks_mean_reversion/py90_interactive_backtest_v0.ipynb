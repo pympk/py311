{
 "cells": [
  {
   "cell_type": "markdown",
   "metadata": {},
   "source": [
    "### Backtest Results: Interactive Analysis\n",
    "\n",
    "This notebook provides a powerful interactive tool for analyzing and visualizing the performance of all backtested strategies.\n",
    "\n",
    "**Workflow:**\n",
    "1.  **Setup:** Configure paths and define parameters for the analysis.\n",
    "2.  **Load Data:** Load the master backtest results and the historical price data.\n",
    "3.  **Prepare for Interaction:** Generate a summary of all unique strategy runs to populate the interactive widget.\n",
    "4.  **Interactive Visualization:** Use a widget to select and plot the equity curves of one or more strategies against the benchmark. The results are cached for efficiency.\n",
    "5.  **Analyze Underlying Data:** Display a detailed, day-by-day table of the returns for the currently selected strategies, pulling directly from the cached results."
   ]
  },
  {
   "cell_type": "markdown",
   "metadata": {},
   "source": [
    "### Setup and Configuration"
   ]
  },
  {
   "cell_type": "code",
   "execution_count": 2,
   "metadata": {},
   "outputs": [
    {
     "name": "stdout",
     "output_type": "stream",
     "text": [
      "✅ Setup complete. Benchmark: 'VGT'\n"
     ]
    }
   ],
   "source": [
    "import sys\n",
    "from pathlib import Path\n",
    "import pandas as pd\n",
    "import numpy as np\n",
    "import matplotlib.pyplot as plt\n",
    "import ipywidgets as widgets\n",
    "from IPython.display import display\n",
    "\n",
    "# --- Project Path Setup ---\n",
    "NOTEBOOK_DIR = Path.cwd()\n",
    "ROOT_DIR = NOTEBOOK_DIR.parent\n",
    "if str(ROOT_DIR) not in sys.path: sys.path.append(str(ROOT_DIR))\n",
    "SRC_DIR = ROOT_DIR / 'src'\n",
    "if str(SRC_DIR) not in sys.path: sys.path.append(str(SRC_DIR))\n",
    "\n",
    "# --- Local Imports ---\n",
    "import utils\n",
    "\n",
    "# --- Analysis Parameters ---\n",
    "MIN_PERIODS_FOR_SHARPE = 10\n",
    "BENCHMARK_TICKER = \"VGT\" \n",
    "\n",
    "# --- Columns that identify a unique strategy run ---\n",
    "STRATEGY_ID_COLS = [\n",
    "    'n_select_requested', 'filter_min_price', 'filter_min_avg_volume_m', 'score_weight_rsi',\n",
    "]\n",
    "\n",
    "# --- File Path Construction ---\n",
    "DATA_DIR = ROOT_DIR / 'data'\n",
    "BACKTEST_DIR = ROOT_DIR / 'output' / 'backtest_results'\n",
    "BACKTEST_RESULTS_PATH = BACKTEST_DIR / 'backtest_master_results.parquet'\n",
    "HISTORICAL_PRICES_PATH = DATA_DIR / 'df_adj_close.parquet'\n",
    "\n",
    "# --- Notebook Setup ---\n",
    "pd.set_option('display.max_columns', None); pd.set_option('display.width', 1500)\n",
    "pd.set_option('display.float_format', '{:.4f}'.format)\n",
    "%load_ext autoreload\n",
    "%autoreload 2\n",
    "\n",
    "print(f\"✅ Setup complete. Benchmark: '{BENCHMARK_TICKER}'\")"
   ]
  },
  {
   "cell_type": "markdown",
   "metadata": {},
   "source": [
    "### Step 1: Load All Required Data"
   ]
  },
  {
   "cell_type": "code",
   "execution_count": 3,
   "metadata": {},
   "outputs": [
    {
     "name": "stdout",
     "output_type": "stream",
     "text": [
      "--- Step 1: Loading all required data ---\n",
      "✅ Loaded 216 backtest runs.\n",
      "✅ Loaded price data for 1536 tickers.\n"
     ]
    }
   ],
   "source": [
    "print(\"--- Step 1: Loading all required data ---\")\n",
    "data_loaded_ok = False\n",
    "try:\n",
    "    # Load backtest results\n",
    "    df_results = pd.read_parquet(BACKTEST_RESULTS_PATH)\n",
    "    df_results['actual_selection_date_used'] = pd.to_datetime(df_results['actual_selection_date_used'])\n",
    "    print(f\"✅ Loaded {len(df_results)} backtest runs.\")\n",
    "    \n",
    "    # Load historical price data\n",
    "    df_prices = pd.read_parquet(HISTORICAL_PRICES_PATH)\n",
    "    df_prices.index = pd.to_datetime(df_prices.index)\n",
    "    df_prices.sort_index(inplace=True)\n",
    "    print(f\"✅ Loaded price data for {len(df_prices.columns)} tickers.\")\n",
    "    \n",
    "    data_loaded_ok = True\n",
    "except FileNotFoundError as e:\n",
    "    print(f\"❌ ERROR: A required file was not found. {e}\")"
   ]
  },
  {
   "cell_type": "markdown",
   "metadata": {},
   "source": [
    "### Step 2: Prepare for Interactive Analysis"
   ]
  },
  {
   "cell_type": "code",
   "execution_count": 4,
   "metadata": {},
   "outputs": [
    {
     "name": "stdout",
     "output_type": "stream",
     "text": [
      "\n",
      "--- Step 2: Preparing data for the interactive plot ---\n",
      "✅ Found 3 unique strategy runs. Ready for visualization.\n"
     ]
    }
   ],
   "source": [
    "if data_loaded_ok:\n",
    "    print(\"\\n--- Step 2: Preparing data for the interactive plot ---\")\n",
    "\n",
    "    # Group results by strategy to create a summary list for the widget.\n",
    "    summary_records = []\n",
    "    grouped = df_results.groupby(STRATEGY_ID_COLS + ['scheme'])\n",
    "    for group_name, group_df in grouped:\n",
    "        record = dict(zip(STRATEGY_ID_COLS + ['scheme'], group_name))\n",
    "        summary_records.append(record)\n",
    "\n",
    "    df_summary = pd.DataFrame(summary_records).set_index(STRATEGY_ID_COLS + ['scheme'])\n",
    "\n",
    "    # Create a mapping from a user-friendly label to the strategy's MultiIndex\n",
    "    strategy_map = {}\n",
    "    for i, strategy_params in enumerate(df_summary.index):\n",
    "        params_dict = dict(zip(df_summary.index.names, strategy_params))\n",
    "        params_list = [f\"{k.split('_')[-1]}={v}\" for k, v in params_dict.items() if k not in ['scheme', 'n_select_requested']]\n",
    "        label_params = f\"n={params_dict.get('n_select_requested', 'N/A')}, {', '.join(params_list)}\"\n",
    "        strategy_label = f\"#{i+1} - Scheme: {params_dict['scheme']} ({label_params})\"\n",
    "        strategy_map[strategy_label] = strategy_params\n",
    "\n",
    "    print(f\"✅ Found {len(strategy_map)} unique strategy runs. Ready for visualization.\")\n",
    "else:\n",
    "    print(\"Skipping step due to data loading failure.\")"
   ]
  },
  {
   "cell_type": "markdown",
   "metadata": {},
   "source": [
    "### Step 3: Interactive Visualization of Equity Curves"
   ]
  },
  {
   "cell_type": "code",
   "execution_count": null,
   "metadata": {},
   "outputs": [
    {
     "name": "stdout",
     "output_type": "stream",
     "text": [
      "✅ Interactive Plotting Cell Ready\n",
      "Use Ctrl+Click (or Cmd+Click on Mac) to select multiple strategies.\n"
     ]
    },
    {
     "data": {
      "application/vnd.jupyter.widget-view+json": {
       "model_id": "3910678964fd4af99f4b5b53eba50381",
       "version_major": 2,
       "version_minor": 0
      },
      "text/plain": [
       "SelectMultiple(description='Strategies', index=(0,), layout=Layout(height='250px', width='95%'), options=('#1 …"
      ]
     },
     "metadata": {},
     "output_type": "display_data"
    },
    {
     "data": {
      "application/vnd.jupyter.widget-view+json": {
       "model_id": "a0d7dc64de5d4b37a907658dc8c35bba",
       "version_major": 2,
       "version_minor": 0
      },
      "text/plain": [
       "Output()"
      ]
     },
     "metadata": {},
     "output_type": "display_data"
    }
   ],
   "source": [
    "if 'strategy_map' in locals():\n",
    "    \n",
    "    # --- Cache for efficiency: Stores calculated curves to avoid re-computation ---\n",
    "    equity_curves_cache = {}\n",
    "\n",
    "    # --- 1. Define the plotting function FIRST ---\n",
    "    # This function will be called by the widget whenever its value changes.\n",
    "    def plot_selected(selected_labels):\n",
    "        if not selected_labels:\n",
    "            print(\"Please select at least one strategy.\")\n",
    "            return\n",
    "\n",
    "        # Determine overall date range for all selected strategies\n",
    "        selected_indices = [strategy_map[label] for label in selected_labels]\n",
    "        relevant_runs = df_results[df_results.set_index(df_summary.index.names).index.isin(selected_indices)]\n",
    "        \n",
    "        if relevant_runs.empty: return\n",
    "        \n",
    "        start_loc = df_prices.index.get_indexer([relevant_runs['actual_selection_date_used'].min()], method='ffill')[0] + 1\n",
    "        end_loc = min(df_prices.index.get_indexer([relevant_runs['actual_selection_date_used'].max()], method='ffill')[0] + 2, len(df_prices) - 1)\n",
    "        correct_date_range = df_prices.index[start_loc:end_loc + 1]\n",
    "\n",
    "        fig, ax = plt.subplots(figsize=(15, 8))\n",
    "        \n",
    "        # Loop through selections, using the cache for efficiency\n",
    "        for label in selected_labels:\n",
    "            if label not in equity_curves_cache: # Calculate only if not in cache\n",
    "                params = strategy_map[label]\n",
    "                mask = (df_results[df_summary.index.names] == pd.Series(params, index=df_summary.index.names)).all(axis=1)\n",
    "                df_strat = df_results[mask]\n",
    "                \n",
    "                indices = df_prices.index.get_indexer(df_strat['actual_selection_date_used'], method='ffill') # Use ffill here too\n",
    "                valid_mask = (indices != -1) & (indices + 2 < len(df_prices))\n",
    "                \n",
    "                if not valid_mask.any():\n",
    "                    equity_curves_cache[label] = pd.Series(1.0, index=correct_date_range)\n",
    "                    continue\n",
    "\n",
    "                sell_dates = df_prices.index[indices[valid_mask] + 2]\n",
    "                returns = pd.Series(df_strat[valid_mask]['portfolio_return'].values, index=sell_dates)\n",
    "                daily_returns = returns.reindex(correct_date_range).fillna(0)\n",
    "                equity_curves_cache[label] = (1 + daily_returns).cumprod()\n",
    "            \n",
    "            # Plot from the cache\n",
    "            equity_curves_cache[label].plot(ax=ax, label=label, linewidth=2.0)\n",
    "\n",
    "        # Plot the benchmark curve\n",
    "        benchmark_prices = df_prices.loc[correct_date_range, BENCHMARK_TICKER]\n",
    "        (benchmark_prices / benchmark_prices.iloc[0]).plot(\n",
    "            ax=ax, label=f\"Buy & Hold '{BENCHMARK_TICKER}'\", color='black', linestyle='--', linewidth=1.5\n",
    "        )\n",
    "\n",
    "        # Set the main, larger title for the entire figure\n",
    "        fig.suptitle(\"Strategies Theoretical 100% Invested Result vs. Benchmark Buy-and-Hold: Growth of $1\", fontsize=16, y=.94)\n",
    "\n",
    "        # Set the smaller, secondary title (subtitle) for the axes\n",
    "        ax.set_title(\"Strategies are 50% Invested from t0:buy-at-close, t1:sell-at-close, t2:buy-at-close, t3:sell-at-close\", fontsize=12, color='brown')\n",
    "\n",
    "        ax.set_xlabel(\"Date\"); ax.set_ylabel(\"Equity Curve (1 = breakeven)\")\n",
    "        ax.legend(loc='upper left', fontsize=9); ax.grid(True, which='both', linestyle=':')\n",
    "        fig.autofmt_xdate(); plt.show()\n",
    "\n",
    "    # --- 2. Create the interactive UI elements NOW that the function is defined ---\n",
    "    strategy_selector = widgets.SelectMultiple(\n",
    "        options=list(strategy_map.keys()), value=[list(strategy_map.keys())[0]],\n",
    "        description='Strategies', disabled=False, layout={'height': '250px', 'width': '95%'}\n",
    "    )\n",
    "    plot_output = widgets.interactive_output(\n",
    "        plot_selected, # We can now refer to plot_selected directly\n",
    "        {'selected_labels': strategy_selector}\n",
    "    )\n",
    "\n",
    "    # --- 3. Display the final interactive UI ---\n",
    "    print(\"✅ Interactive Plotting Cell Ready\")\n",
    "    print(\"Use Ctrl+Click (or Cmd+Click on Mac) to select multiple strategies.\")\n",
    "    display(strategy_selector, plot_output)\n",
    "\n",
    "else:\n",
    "    print(\"Please run previous steps first.\")"
   ]
  },
  {
   "cell_type": "markdown",
   "metadata": {},
   "source": [
    "### Step 4: Analyze Underlying Daily Returns"
   ]
  },
  {
   "cell_type": "code",
   "execution_count": 6,
   "metadata": {},
   "outputs": [
    {
     "name": "stdout",
     "output_type": "stream",
     "text": [
      "--- Step 4: Underlying Daily Returns for Currently Selected Strategies ---\n",
      "This table shows the day-by-day returns, with benchmark data on the left for easy comparison.\n"
     ]
    },
    {
     "data": {
      "text/html": [
       "<div>\n",
       "<style scoped>\n",
       "    .dataframe tbody tr th:only-of-type {\n",
       "        vertical-align: middle;\n",
       "    }\n",
       "\n",
       "    .dataframe tbody tr th {\n",
       "        vertical-align: top;\n",
       "    }\n",
       "\n",
       "    .dataframe thead th {\n",
       "        text-align: right;\n",
       "    }\n",
       "</style>\n",
       "<table border=\"1\" class=\"dataframe\">\n",
       "  <thead>\n",
       "    <tr style=\"text-align: right;\">\n",
       "      <th></th>\n",
       "      <th>Benchmark Price (VGT)</th>\n",
       "      <th>Benchmark Return</th>\n",
       "      <th>#1 - Scheme: EW (n=10, price=10.0, m=2.0, rsi=0.35)</th>\n",
       "    </tr>\n",
       "    <tr>\n",
       "      <th>Date</th>\n",
       "      <th></th>\n",
       "      <th></th>\n",
       "      <th></th>\n",
       "    </tr>\n",
       "  </thead>\n",
       "  <tbody>\n",
       "    <tr>\n",
       "      <th>2025-04-28</th>\n",
       "      <td>544.9220</td>\n",
       "      <td>0.0000</td>\n",
       "      <td>0.0000</td>\n",
       "    </tr>\n",
       "    <tr>\n",
       "      <th>2025-04-29</th>\n",
       "      <td>547.5590</td>\n",
       "      <td>0.0048</td>\n",
       "      <td>0.0085</td>\n",
       "    </tr>\n",
       "    <tr>\n",
       "      <th>2025-04-30</th>\n",
       "      <td>548.8580</td>\n",
       "      <td>0.0024</td>\n",
       "      <td>0.0114</td>\n",
       "    </tr>\n",
       "    <tr>\n",
       "      <th>2025-05-01</th>\n",
       "      <td>558.5470</td>\n",
       "      <td>0.0177</td>\n",
       "      <td>-0.0023</td>\n",
       "    </tr>\n",
       "    <tr>\n",
       "      <th>2025-05-02</th>\n",
       "      <td>566.9280</td>\n",
       "      <td>0.0150</td>\n",
       "      <td>0.0242</td>\n",
       "    </tr>\n",
       "    <tr>\n",
       "      <th>...</th>\n",
       "      <td>...</td>\n",
       "      <td>...</td>\n",
       "      <td>...</td>\n",
       "    </tr>\n",
       "    <tr>\n",
       "      <th>2025-08-05</th>\n",
       "      <td>683.5500</td>\n",
       "      <td>-0.0090</td>\n",
       "      <td>0.0033</td>\n",
       "    </tr>\n",
       "    <tr>\n",
       "      <th>2025-08-06</th>\n",
       "      <td>691.8500</td>\n",
       "      <td>0.0121</td>\n",
       "      <td>0.0171</td>\n",
       "    </tr>\n",
       "    <tr>\n",
       "      <th>2025-08-07</th>\n",
       "      <td>693.2000</td>\n",
       "      <td>0.0020</td>\n",
       "      <td>0.0087</td>\n",
       "    </tr>\n",
       "    <tr>\n",
       "      <th>2025-08-08</th>\n",
       "      <td>699.3500</td>\n",
       "      <td>0.0089</td>\n",
       "      <td>0.0039</td>\n",
       "    </tr>\n",
       "    <tr>\n",
       "      <th>2025-08-11</th>\n",
       "      <td>695.2600</td>\n",
       "      <td>-0.0058</td>\n",
       "      <td>-0.0024</td>\n",
       "    </tr>\n",
       "  </tbody>\n",
       "</table>\n",
       "<p>73 rows × 3 columns</p>\n",
       "</div>"
      ],
      "text/plain": [
       "            Benchmark Price (VGT)  Benchmark Return  #1 - Scheme: EW (n=10, price=10.0, m=2.0, rsi=0.35)\n",
       "Date                                                                                                    \n",
       "2025-04-28               544.9220            0.0000                                             0.0000  \n",
       "2025-04-29               547.5590            0.0048                                             0.0085  \n",
       "2025-04-30               548.8580            0.0024                                             0.0114  \n",
       "2025-05-01               558.5470            0.0177                                            -0.0023  \n",
       "2025-05-02               566.9280            0.0150                                             0.0242  \n",
       "...                           ...               ...                                                ...  \n",
       "2025-08-05               683.5500           -0.0090                                             0.0033  \n",
       "2025-08-06               691.8500            0.0121                                             0.0171  \n",
       "2025-08-07               693.2000            0.0020                                             0.0087  \n",
       "2025-08-08               699.3500            0.0089                                             0.0039  \n",
       "2025-08-11               695.2600           -0.0058                                            -0.0024  \n",
       "\n",
       "[73 rows x 3 columns]"
      ]
     },
     "metadata": {},
     "output_type": "display_data"
    }
   ],
   "source": [
    "if 'equity_curves_cache' in locals():\n",
    "    print(\"--- Step 4: Underlying Daily Returns for Currently Selected Strategies ---\")\n",
    "    \n",
    "    # Get the strategy labels currently selected in the widget from Step 3\n",
    "    selected_labels = strategy_selector.value\n",
    "    \n",
    "    if not selected_labels:\n",
    "        print(\"Please select one or more strategies in the widget above to see the data.\")\n",
    "    else:\n",
    "        # --- Build the comparison table from the cache with controlled column order ---\n",
    "        \n",
    "        # 1. Get the common date range from the first cached equity curve.\n",
    "        #    This ensures all data aligns perfectly with what is plotted.\n",
    "        date_range = equity_curves_cache[selected_labels[0]].index\n",
    "        \n",
    "        # 2. Initialize the DataFrame with the correct index.\n",
    "        #    This is the foundation for our comparison table.\n",
    "        df_comparison = pd.DataFrame(index=date_range)\n",
    "        \n",
    "        # 3. Add the Benchmark Price and Return columns FIRST.\n",
    "        #    This ensures they always appear as the first two columns.\n",
    "        benchmark_price_col_name = f\"Benchmark Price ({BENCHMARK_TICKER})\"\n",
    "        df_comparison[benchmark_price_col_name] = df_prices.loc[date_range, BENCHMARK_TICKER]\n",
    "        df_comparison['Benchmark Return'] = df_comparison[benchmark_price_col_name].pct_change().fillna(0)\n",
    "\n",
    "        # 4. Loop through each selected strategy and add its daily returns as a new column.\n",
    "        for label in selected_labels:\n",
    "            # Retrieve the pre-calculated equity curve from the cache\n",
    "            equity_curve = equity_curves_cache.get(label)\n",
    "            if equity_curve is not None:\n",
    "                # Calculate daily returns and add it as a new column to the right\n",
    "                df_comparison[label] = equity_curve.pct_change().fillna(0)\n",
    "        \n",
    "        # 5. Display the final combined DataFrame.\n",
    "        print(\"This table shows the day-by-day returns, with benchmark data on the left for easy comparison.\")\n",
    "        display(df_comparison)\n",
    "else:\n",
    "    print(\"Please run the interactive plotting cell (Step 3) first to populate the cache.\")"
   ]
  }
 ],
 "metadata": {
  "kernelspec": {
   "display_name": "py311-py3.11",
   "language": "python",
   "name": "python3"
  },
  "language_info": {
   "codemirror_mode": {
    "name": "ipython",
    "version": 3
   },
   "file_extension": ".py",
   "mimetype": "text/x-python",
   "name": "python",
   "nbconvert_exporter": "python",
   "pygments_lexer": "ipython3",
   "version": "3.11.9"
  }
 },
 "nbformat": 4,
 "nbformat_minor": 2
}
