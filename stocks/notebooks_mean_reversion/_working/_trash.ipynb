{
 "cells": [
  {
   "cell_type": "markdown",
   "id": "86ab6952",
   "metadata": {},
   "source": [
    "| Neighbourhood            | Chinese Name | Typical 2-BR 4-night cost | Metro stops to People’s Square | Vibe                    |\n",
    "| ------------------------ | ------------ | ------------------------- | ------------------------------ | ----------------------- |\n",
    "| Central Huangpu          | 黄浦区中心        | CNY 2 800+                | 0-1                            | Tourist central         |\n",
    "| Jing’an                  | 静安区          | CNY 1 200                 | 2                              | Business & cafés        |\n",
    "| Changning                | 长宁区          | CNY 1 100                 | 4                              | Local & spacious        |\n",
    "| French Concession border | 法租界边缘        | CNY 900-1 200             | 2                              | Boutique & leafy        |\n",
    "| North Bund (Hongkou)     | 北外滩（虹口区）     | CNY 1 400                 | 1-2                            | River view, quiet       |\n",
    "| Xuhui Stadium            | 徐汇区体育馆       | CNY 800                   | 4                              | Young & budget-friendly |\n"
   ]
  }
 ],
 "metadata": {
  "kernelspec": {
   "display_name": "py311-py3.11",
   "language": "python",
   "name": "python3"
  },
  "language_info": {
   "name": "python",
   "version": "3.11.9"
  }
 },
 "nbformat": 4,
 "nbformat_minor": 5
}
