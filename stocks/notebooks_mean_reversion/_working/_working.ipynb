{
 "cells": [
  {
   "cell_type": "markdown",
   "metadata": {},
   "source": [
    "### Corrected and Improved Code (Cell 1: Setup)\n",
    "\n",
    "This first cell now not only sets up the path for your `src` modules but also defines key directory variables (`DATA_DIR`, `ROOT_DIR`) that you can use throughout your notebook.\n"
   ]
  },
  {
   "cell_type": "code",
   "execution_count": 8,
   "metadata": {},
   "outputs": [
    {
     "name": "stdout",
     "output_type": "stream",
     "text": [
      "The autoreload extension is already loaded. To reload it, use:\n",
      "  %reload_ext autoreload\n",
      "✅ Project Root Directory: c:\\Users\\ping\\Files_win10\\python\\py311\\stocks\n",
      "✅ Source Directory (for utils): c:\\Users\\ping\\Files_win10\\python\\py311\\stocks\\src\n",
      "✅ Data Directory (for input): c:\\Users\\ping\\Files_win10\\python\\py311\\stocks\\data\n",
      "\n",
      "✅ Successfully imported 'utils' module.\n"
     ]
    }
   ],
   "source": [
    "import sys\n",
    "from pathlib import Path\n",
    "import pandas as pd\n",
    "import os\n",
    "from IPython.display import display, Markdown  # Assuming you use these for display\n",
    "\n",
    "# --- 1. PANDAS OPTIONS (No change) ---\n",
    "pd.set_option('display.max_columns', None)\n",
    "pd.set_option('display.width', 3000)\n",
    "\n",
    "# --- 2. IPYTHON AUTORELOAD (No change) ---\n",
    "%load_ext autoreload\n",
    "%autoreload 2\n",
    "\n",
    "# --- 3. ROBUST PATH CONFIGURATION (MODIFIED) ---\n",
    "\n",
    "# Get the current working directory of the notebook\n",
    "NOTEBOOK_DIR = Path.cwd()\n",
    "\n",
    "# Find the project ROOT directory by going up from the notebook's location\n",
    "# This is robust and works even if you move the notebook deeper.\n",
    "ROOT_DIR = NOTEBOOK_DIR.parent.parent\n",
    "\n",
    "# Define key project directories relative to the ROOT\n",
    "DATA_DIR = ROOT_DIR / 'data'\n",
    "SRC_DIR = ROOT_DIR / 'src'\n",
    "# You could also define an output directory here if needed\n",
    "OUTPUT_DIR = ROOT_DIR / 'output'\n",
    "\n",
    "# Add the 'src' directory to the Python path so you can import 'utils'\n",
    "if str(SRC_DIR) not in sys.path:\n",
    "    sys.path.append(str(SRC_DIR))\n",
    "\n",
    "# --- 4. VERIFICATION (IMPROVED) ---\n",
    "print(f\"✅ Project Root Directory: {ROOT_DIR}\")\n",
    "print(f\"✅ Source Directory (for utils): {SRC_DIR}\")\n",
    "print(f\"✅ Data Directory (for input): {DATA_DIR}\")\n",
    "\n",
    "# Verify that the key directories exist. This helps catch path errors early.\n",
    "assert ROOT_DIR.exists(), f\"ROOT directory not found at: {ROOT_DIR}\"\n",
    "assert SRC_DIR.exists(), f\"Source directory not found at: {SRC_DIR}\"\n",
    "assert DATA_DIR.exists(), f\"Data directory not found at: {DATA_DIR}\"\n",
    "\n",
    "# --- 5. IMPORT YOUR CUSTOM MODULE ---\n",
    "# This will now work correctly\n",
    "import utils\n",
    "print(\"\\n✅ Successfully imported 'utils' module.\")"
   ]
  },
  {
   "cell_type": "markdown",
   "metadata": {},
   "source": [
    "### Corrected Code (Cell 2: Execution)\n",
    "\n",
    "Now, in your second cell, you simply use the `DATA_DIR` variable we defined in the setup cell. This removes the fragile relative path `..\\data`."
   ]
  },
  {
   "cell_type": "code",
   "execution_count": 3,
   "metadata": {},
   "outputs": [
    {
     "data": {
      "text/markdown": [
       "<span style='color:#00ffff;font-weight:500'>[Downloads] Scanned latest 60 files • Found 0 '2025-06-24' matches</span>"
      ],
      "text/plain": [
       "<IPython.core.display.Markdown object>"
      ]
     },
     "metadata": {},
     "output_type": "display_data"
    },
    {
     "data": {
      "text/markdown": [
       "**Available 'starting with '2025-06-24' and containing 'df_finviz'' files:**"
      ],
      "text/plain": [
       "<IPython.core.display.Markdown object>"
      ]
     },
     "metadata": {},
     "output_type": "display_data"
    },
    {
     "data": {
      "text/markdown": [
       "- (1) `[DATA]` `2025-06-24_df_finviz_merged_stocks_etfs.parquet` <span style='color:#00ffff'>(0.83 MB, 2025-06-24 18:05)</span>"
      ],
      "text/plain": [
       "<IPython.core.display.Markdown object>"
      ]
     },
     "metadata": {},
     "output_type": "display_data"
    },
    {
     "data": {
      "text/markdown": [
       "- (2) `[DATA]` `2025-06-24_df_finviz_n_ratios_stocks_etfs.parquet` <span style='color:#00ffff'>(0.82 MB, 2025-06-24 18:05)</span>"
      ],
      "text/plain": [
       "<IPython.core.display.Markdown object>"
      ]
     },
     "metadata": {},
     "output_type": "display_data"
    },
    {
     "data": {
      "text/markdown": [
       "- (3) `[DATA]` `2025-06-24_df_finviz_stocks_etfs.parquet` <span style='color:#00ffff'>(0.52 MB, 2025-06-24 18:02)</span>"
      ],
      "text/plain": [
       "<IPython.core.display.Markdown object>"
      ]
     },
     "metadata": {},
     "output_type": "display_data"
    },
    {
     "name": "stdout",
     "output_type": "stream",
     "text": [
      "\n",
      "Input a number to select file (1-3)\n"
     ]
    },
    {
     "data": {
      "text/markdown": [
       "\n",
       "    **Selected paths:**\n",
       "    - Source: `c:\\Users\\ping\\Files_win10\\python\\py311\\stocks\\data\\2025-06-24_df_finviz_merged_stocks_etfs.parquet`\n",
       "    - Destination: `c:\\Users\\ping\\Files_win10\\python\\py311\\stocks\\data\\2025-06-24_df_finviz_merged_stocks_etfs_clean.parquet`\n",
       "    "
      ],
      "text/plain": [
       "<IPython.core.display.Markdown object>"
      ]
     },
     "metadata": {},
     "output_type": "display_data"
    },
    {
     "name": "stdout",
     "output_type": "stream",
     "text": [
      "selected_file_path: c:\\Users\\ping\\Files_win10\\python\\py311\\stocks\\data\\2025-06-24_df_finviz_merged_stocks_etfs.parquet\n",
      "file_list: ['2025-06-24_df_finviz_merged_stocks_etfs.parquet', '2025-06-24_df_finviz_n_ratios_stocks_etfs.parquet', '2025-06-24_df_finviz_stocks_etfs.parquet']\n",
      "\n",
      "df:\n",
      "      No.                Company               Index                  Sector                        Industry Country Exchange                                               Info  MktCap AUM, M  Rank  Market Cap, M    P/E  Fwd P/E   PEG    P/S    P/B    P/C   P/FCF  Book/sh  Cash/sh  Dividend %  Dividend TTM Dividend Ex Date  Payout Ratio %    EPS  EPS next Q  EPS this Y %  EPS next Y %  EPS past 5Y %  EPS next 5Y %  Sales past 5Y %  Sales Q/Q %  EPS Q/Q %  EPS YoY TTM %  Sales YoY TTM %  Sales, M  Income, M  EPS Surprise %  Revenue Surprise %  Outstanding, M  Float, M  Float %  Insider Own %  Insider Trans %  Inst Own %  Inst Trans %  Short Float %  Short Ratio  Short Interest, M  ROA %   ROE %  ROIC %  Curr R  Quick R  LTDebt/Eq  Debt/Eq  Gross M %  Oper M %  Profit M %  Perf 3D %  Perf Week %  Perf Month %  Perf Quart %  Perf Half %  Perf Year %  Perf YTD %  Beta   ATR  ATR/Price %  Volatility W %  Volatility M %  SMA20 %  SMA50 %  SMA200 %  50D High %  50D Low %  52W High %  52W Low %        52W Range  All-Time High %  All-Time Low %    RSI  Earnings    IPO Date Optionable Shortable  Employees  Change from Open %  Gap %  Recom  Avg Volume, M  Rel Volume     Volume  Target Price  Prev Close    Open    High     Low   Price  Change % Single Category Asset Type  Expense %  Holdings  AUM, M  Flows 1M, M  Flows% 1M  Flows 3M, M  Flows% 3M  Flows YTD, M  Flows% YTD  Return% 1Y  Return% 3Y  Return% 5Y Tags  Sharpe 3d    Sortino 3d     Omega 3d  Sharpe 5d  Sortino 5d  Omega 5d  \\\n",
      "MSFT    1  Microsoft Corporation  DJIA, NDX, S&P 500              Technology       Software - Infrastructure     USA     NASD              Technology, Software - Infrastructure      3642760.0     1      3642760.0  37.87    32.35  2.61  13.49  11.32  45.75   52.52    43.30    10.71        0.67          2.41        8/21/2025           25.42  12.94        3.37           NaN           NaN            NaN            NaN              NaN        13.27      17.88          12.10            14.13  270010.0    96640.0            7.38                2.38          7430.0    7320.0    98.50           1.48            -0.12       73.61          0.68           0.79         2.54              58.18  18.46   33.61   23.24    1.37     1.36       0.29     0.33      69.07     45.23       35.79   2.055222         2.29          7.75         24.68        12.05         9.96       16.28  1.03  7.23     1.475179            0.98            0.79     4.00    11.59     16.23        0.48      37.80        0.48      42.15  344.79 - 487.75             0.48       615008.37  76.14  Apr 30/a   3/13/1986        Yes       Yes   228000.0                0.26   0.59   1.30          22.87        0.97   22288443        515.98      486.00  488.85  491.85  486.80  490.11      0.85                                   NaN       NaN     NaN          NaN        NaN          NaN        NaN           NaN         NaN         NaN         NaN         NaN    -  30.716668  44658.375928  3979.484337   9.832816   32.055881  5.038661   \n",
      "NVDA    2            NVIDIA Corp  DJIA, NDX, S&P 500              Technology                  Semiconductors     USA     NASD                         Technology, Semiconductors      3608760.0     2      3608760.0  47.64    25.81  1.59  24.30  43.02  67.21   50.08     3.44     2.20        0.03          0.04        6/11/2025            1.16   3.10        1.00           NaN           NaN            NaN            NaN              NaN        69.18      27.60          81.36            86.17  148510.0    76770.0            9.89                1.68         24390.0   23400.0    95.97           4.08            -0.34       66.37          0.57           0.98         0.92             229.34  75.89  115.46   81.82    3.39     2.96       0.12     0.12      70.11     58.03       51.69   1.663459         2.22         11.35         21.82        14.73        13.09       10.13  2.12  3.82     2.582826            1.53            1.73     4.40    16.55     15.14        1.16      55.62       -3.42      70.75   86.62 - 153.13            -3.42       443599.96  67.71  May 28/a   1/22/1999        Yes       Yes    36000.0                1.65   0.92   1.36         249.80        0.75  186667629        172.22      144.17  145.50  147.96  145.50  147.90      2.59                                   NaN       NaN     NaN          NaN        NaN          NaN        NaN           NaN         NaN         NaN         NaN         NaN    -  13.186149  44658.375928  3979.484337   6.602365   17.947778  3.261207   \n",
      "AAPL    3              Apple Inc  DJIA, NDX, S&P 500              Technology            Consumer Electronics     USA     NASD                   Technology, Consumer Electronics      2991650.0     3      2991650.0  31.26    25.73  4.03   7.47  44.80  61.69   30.38     4.47     3.25        0.51          1.01        5/12/2025           16.11   6.41        1.42           NaN           NaN            NaN            NaN              NaN         5.08       7.68          -0.36             4.91  400370.0    97290.0            1.39                0.86         14940.0   14920.0    99.88           0.10            -1.28       63.81         -0.18           0.64         1.55              94.83  29.10  138.02   66.93    0.82     0.78       1.18     1.47      46.63     31.81       24.30   1.892359         0.95         -0.53         -9.26       -19.25        -4.47      -20.01  1.21  4.42     2.206690            1.18            1.19     0.01    -1.14    -10.43       -6.65       9.45      -22.99      18.37  169.21 - 260.10           -22.99       314757.86  48.48  May 01/a  12/12/1980        Yes       Yes   164000.0               -1.09   0.50   2.04          61.10        0.88   53890969        228.26      201.50  202.50  203.44  200.20  200.30     -0.60                                   NaN       NaN     NaN          NaN        NaN          NaN        NaN           NaN         NaN         NaN         NaN         NaN    -  -5.032530     -6.949409     0.380897   7.700143   30.100663  4.792327   \n",
      "AMZN    4         Amazon.com Inc  DJIA, NDX, S&P 500       Consumer Cyclical                 Internet Retail     USA     NASD                 Consumer Cyclical, Internet Retail      2258840.0     4      2258840.0  34.70    29.27  2.02   3.47   7.38  22.99  108.55    28.82     9.25         NaN           NaN                -            0.00   6.13        1.32           NaN           NaN            NaN            NaN              NaN         8.62      62.33          71.88            10.08  650310.0    65940.0           16.38                0.33         10610.0    9490.0    89.45          10.58            -0.02       64.43          0.38           0.65         1.26              61.36  11.23   25.24   15.02    1.05     0.84       0.44     0.49      49.16     11.15       10.14   0.117636        -1.54          4.76          4.68        -3.51        14.33       -3.02  1.33  5.03     2.364055            1.55            1.30     1.08     7.01      4.15       -2.58      28.73      -12.27      40.34  151.61 - 242.52           -12.27       324120.97  57.14  May 01/a   5/15/1997        Yes       Yes  1556000.0                0.29   1.77   1.23          48.76        0.79   38287178        240.20      208.47  212.15  214.34  211.04  212.77      2.06                                   NaN       NaN     NaN          NaN        NaN          NaN        NaN           NaN         NaN         NaN         NaN         NaN    -   6.150973     27.215023     3.424507  -2.505810   -4.269082  0.675117   \n",
      "GOOG    5           Alphabet Inc        NDX, S&P 500  Communication Services  Internet Content & Information     USA     NASD  Communication Services, Internet Content & Inf...      2029990.0     5      2029990.0  18.71    16.50  1.45   5.65   5.91  21.29   27.11    28.41     7.88        0.33          0.81         6/9/2025            7.46   8.97        2.16           NaN           NaN            NaN            NaN              NaN        11.81      48.77          37.73            13.02  359310.0   111000.0           38.84                1.15          5470.0    5070.0    92.65          58.21            -0.01       27.09         -1.27           0.63         1.18              31.96  25.15   34.79   30.02    1.77     1.77       0.07     0.08      58.54     32.60       30.89  -3.586619        -5.73         -2.47         -1.29       -11.79        -5.61      -11.92  1.02  4.60     2.742339            1.95            1.58    -3.19     0.88     -3.31       -8.06      13.03      -19.63      17.58  142.66 - 208.70           -19.63          589.97  44.95  Apr 24/a   3/27/2014        Yes       Yes   183323.0                0.08   0.96   1.44          26.97        0.96   25938673        199.80      166.01  167.60  169.25  166.91  167.74      1.04                                   NaN       NaN     NaN          NaN        NaN          NaN        NaN           NaN         NaN         NaN         NaN         NaN    -  -0.081967     -0.162745     0.985502 -11.297045  -10.376862  0.157901   \n",
      "\n",
      "      Sharpe 10d  Sortino 10d  Omega 10d  Sharpe 15d  Sortino 15d  Omega 15d  Sharpe 30d  Sortino 30d  Omega 30d  Sharpe 60d  Sortino 60d  Omega 60d  Sharpe 120d  Sortino 120d  Omega 120d  Sharpe 250d  Sortino 250d  Omega 250d  \n",
      "MSFT    7.866741    19.436440   3.308795    8.538327    20.669403   3.644074    5.886378    11.869784   2.602635    3.362729     7.573300   2.062045     1.048081      1.780995    1.228391     0.329751      0.490880    1.063782  \n",
      "NVDA    3.038961     5.518645   1.599155    3.838303     6.625781   1.778244    5.167411    11.326983   2.358259    2.366651     4.237375   1.593574     0.497615      0.700997    1.093614     0.499156      0.710788    1.090443  \n",
      "AAPL   -1.653421    -2.322925   0.767240   -1.460434    -2.054022   0.798747   -2.309565    -2.959262   0.683668   -0.518368    -0.787214   0.897174    -1.060782     -1.510992    0.810622    -0.084015     -0.119268    0.983683  \n",
      "AMZN   -2.951243    -4.274915   0.628877    2.651713     4.865952   1.526867    0.731207     1.159614   1.122059    1.052083     1.735844   1.220333    -0.133144     -0.199474    0.976376     0.443724      0.647434    1.080581  \n",
      "GOOG   -8.724140    -8.466272   0.235256    0.066868     0.094602   1.010658    1.661238     2.732486   1.299726    0.897791     1.392506   1.170229    -0.743188     -1.007667    0.881989    -0.276584     -0.376953    0.954082  \n",
      "\n"
     ]
    }
   ],
   "source": [
    "# Use the DATA_DIR variable defined in the setup cell\n",
    "selected_file_path, _, file_list = utils.main_processor(\n",
    "    data_dir=DATA_DIR,  # <-- Use the absolute path variable\n",
    "    downloads_dir=None,\n",
    "    downloads_limit=60,\n",
    "    clean_name_override=None,\n",
    "    # start_file_pattern='2025-04-25',\n",
    "    start_file_pattern='2025-06-24',    \n",
    "    contains_pattern='df_finviz'\n",
    ")\n",
    "\n",
    "print(f'selected_file_path: {selected_file_path}')\n",
    "# print(f'output_path: {output_path}')\n",
    "print(f'file_list: {file_list}\\n')\n",
    "\n",
    "df = pd.read_parquet(selected_file_path)\n",
    "print(f'df:\\n{df.head()}\\n')\n",
    "\n",
    "# # The .info() method prints to stdout directly, so no need for an f-string\n",
    "# print('df_OHLCV.info():')\n",
    "# df_OHLCV.info()"
   ]
  },
  {
   "cell_type": "code",
   "execution_count": 6,
   "metadata": {},
   "outputs": [
    {
     "data": {
      "text/plain": [
       "Index(['No.', 'Company', 'Index', 'Sector', 'Industry', 'Country', 'Exchange', 'Info', 'MktCap AUM, M', 'Rank',\n",
       "       ...\n",
       "       'Omega 30d', 'Sharpe 60d', 'Sortino 60d', 'Omega 60d', 'Sharpe 120d', 'Sortino 120d', 'Omega 120d', 'Sharpe 250d', 'Sortino 250d', 'Omega 250d'], dtype='object', length=139)"
      ]
     },
     "execution_count": 6,
     "metadata": {},
     "output_type": "execute_result"
    }
   ],
   "source": [
    "df.columns"
   ]
  },
  {
   "cell_type": "code",
   "execution_count": 14,
   "metadata": {},
   "outputs": [
    {
     "name": "stdout",
     "output_type": "stream",
     "text": [
      "      No.                                       Company               Index                  Sector                        Industry Country Exchange                                               Info  MktCap AUM, M  Rank  Market Cap, M    P/E  Fwd P/E   PEG    P/S    P/B    P/C   P/FCF  Book/sh  Cash/sh  Dividend %  Dividend TTM Dividend Ex Date  Payout Ratio %    EPS  EPS next Q  EPS this Y %  EPS next Y %  EPS past 5Y %  EPS next 5Y %  Sales past 5Y %  Sales Q/Q %  EPS Q/Q %  EPS YoY TTM %  Sales YoY TTM %  Sales, M  Income, M  EPS Surprise %  Revenue Surprise %  Outstanding, M  Float, M  Float %  Insider Own %  Insider Trans %  Inst Own %  Inst Trans %  Short Float %  Short Ratio  Short Interest, M  ROA %   ROE %  ROIC %  Curr R  Quick R  LTDebt/Eq  Debt/Eq  Gross M %  Oper M %  Profit M %  Perf 3D %  Perf Week %  Perf Month %  Perf Quart %  Perf Half %  Perf Year %  Perf YTD %  Beta   ATR  ATR/Price %  Volatility W %  Volatility M %  SMA20 %  SMA50 %  SMA200 %  50D High %  50D Low %  52W High %  52W Low %        52W Range  All-Time High %  All-Time Low %    RSI  Earnings    IPO Date Optionable Shortable  Employees  Change from Open %  Gap %  Recom  Avg Volume, M  Rel Volume     Volume  Target Price  Prev Close    Open    High     Low   Price  Change %                            Single Category         Asset Type  Expense %  Holdings  AUM, M  Flows 1M, M  Flows% 1M  Flows 3M, M  Flows% 3M  Flows YTD, M  Flows% YTD  Return% 1Y  Return% 3Y  Return% 5Y                                               Tags     Sharpe 3d    Sortino 3d     Omega 3d     Sharpe 5d   Sortino 5d     Omega 5d  Sharpe 10d  Sortino 10d  Omega 10d  Sharpe 15d  Sortino 15d  Omega 15d  Sharpe 30d  Sortino 30d  Omega 30d  Sharpe 60d  Sortino 60d  Omega 60d  Sharpe 120d  Sortino 120d  Omega 120d  Sharpe 250d  Sortino 250d  Omega 250d\n",
      "MSFT    1                         Microsoft Corporation  DJIA, NDX, S&P 500              Technology       Software - Infrastructure     USA     NASD              Technology, Software - Infrastructure      3642760.0     1      3642760.0  37.87    32.35  2.61  13.49  11.32  45.75   52.52    43.30    10.71        0.67          2.41        8/21/2025           25.42  12.94        3.37           NaN           NaN            NaN            NaN              NaN        13.27      17.88          12.10            14.13  270010.0    96640.0            7.38                2.38          7430.0    7320.0    98.50           1.48            -0.12       73.61          0.68           0.79         2.54              58.18  18.46   33.61   23.24    1.37     1.36       0.29     0.33      69.07     45.23       35.79   2.055222         2.29          7.75         24.68        12.05         9.96       16.28  1.03  7.23     1.475179            0.98            0.79     4.00    11.59     16.23        0.48      37.80        0.48      42.15  344.79 - 487.75             0.48       615008.37  76.14  Apr 30/a   3/13/1986        Yes       Yes   228000.0                0.26   0.59   1.30       22.87000        0.97   22288443        515.98      486.00  488.85  491.85  486.80  490.11      0.85                                                                      NaN       NaN     NaN          NaN        NaN          NaN        NaN           NaN         NaN         NaN         NaN         NaN                                                  -     30.716668  44658.375928  3979.484337      9.832816    32.055881     5.038661    7.866741    19.436440   3.308795    8.538327    20.669403   3.644074    5.886378    11.869784   2.602635    3.362729     7.573300   2.062045     1.048081      1.780995    1.228391     0.329751      0.490880    1.063782\n",
      "NVDA    2                                   NVIDIA Corp  DJIA, NDX, S&P 500              Technology                  Semiconductors     USA     NASD                         Technology, Semiconductors      3608760.0     2      3608760.0  47.64    25.81  1.59  24.30  43.02  67.21   50.08     3.44     2.20        0.03          0.04        6/11/2025            1.16   3.10        1.00           NaN           NaN            NaN            NaN              NaN        69.18      27.60          81.36            86.17  148510.0    76770.0            9.89                1.68         24390.0   23400.0    95.97           4.08            -0.34       66.37          0.57           0.98         0.92             229.34  75.89  115.46   81.82    3.39     2.96       0.12     0.12      70.11     58.03       51.69   1.663459         2.22         11.35         21.82        14.73        13.09       10.13  2.12  3.82     2.582826            1.53            1.73     4.40    16.55     15.14        1.16      55.62       -3.42      70.75   86.62 - 153.13            -3.42       443599.96  67.71  May 28/a   1/22/1999        Yes       Yes    36000.0                1.65   0.92   1.36      249.80000        0.75  186667629        172.22      144.17  145.50  147.96  145.50  147.90      2.59                                                                      NaN       NaN     NaN          NaN        NaN          NaN        NaN           NaN         NaN         NaN         NaN         NaN                                                  -     13.186149  44658.375928  3979.484337      6.602365    17.947778     3.261207    3.038961     5.518645   1.599155    3.838303     6.625781   1.778244    5.167411    11.326983   2.358259    2.366651     4.237375   1.593574     0.497615      0.700997    1.093614     0.499156      0.710788    1.090443\n",
      "AAPL    3                                     Apple Inc  DJIA, NDX, S&P 500              Technology            Consumer Electronics     USA     NASD                   Technology, Consumer Electronics      2991650.0     3      2991650.0  31.26    25.73  4.03   7.47  44.80  61.69   30.38     4.47     3.25        0.51          1.01        5/12/2025           16.11   6.41        1.42           NaN           NaN            NaN            NaN              NaN         5.08       7.68          -0.36             4.91  400370.0    97290.0            1.39                0.86         14940.0   14920.0    99.88           0.10            -1.28       63.81         -0.18           0.64         1.55              94.83  29.10  138.02   66.93    0.82     0.78       1.18     1.47      46.63     31.81       24.30   1.892359         0.95         -0.53         -9.26       -19.25        -4.47      -20.01  1.21  4.42     2.206690            1.18            1.19     0.01    -1.14    -10.43       -6.65       9.45      -22.99      18.37  169.21 - 260.10           -22.99       314757.86  48.48  May 01/a  12/12/1980        Yes       Yes   164000.0               -1.09   0.50   2.04       61.10000        0.88   53890969        228.26      201.50  202.50  203.44  200.20  200.30     -0.60                                                                      NaN       NaN     NaN          NaN        NaN          NaN        NaN           NaN         NaN         NaN         NaN         NaN                                                  -     -5.032530     -6.949409     0.380897      7.700143    30.100663     4.792327   -1.653421    -2.322925   0.767240   -1.460434    -2.054022   0.798747   -2.309565    -2.959262   0.683668   -0.518368    -0.787214   0.897174    -1.060782     -1.510992    0.810622    -0.084015     -0.119268    0.983683\n",
      "AMZN    4                                Amazon.com Inc  DJIA, NDX, S&P 500       Consumer Cyclical                 Internet Retail     USA     NASD                 Consumer Cyclical, Internet Retail      2258840.0     4      2258840.0  34.70    29.27  2.02   3.47   7.38  22.99  108.55    28.82     9.25         NaN           NaN                -            0.00   6.13        1.32           NaN           NaN            NaN            NaN              NaN         8.62      62.33          71.88            10.08  650310.0    65940.0           16.38                0.33         10610.0    9490.0    89.45          10.58            -0.02       64.43          0.38           0.65         1.26              61.36  11.23   25.24   15.02    1.05     0.84       0.44     0.49      49.16     11.15       10.14   0.117636        -1.54          4.76          4.68        -3.51        14.33       -3.02  1.33  5.03     2.364055            1.55            1.30     1.08     7.01      4.15       -2.58      28.73      -12.27      40.34  151.61 - 242.52           -12.27       324120.97  57.14  May 01/a   5/15/1997        Yes       Yes  1556000.0                0.29   1.77   1.23       48.76000        0.79   38287178        240.20      208.47  212.15  214.34  211.04  212.77      2.06                                                                      NaN       NaN     NaN          NaN        NaN          NaN        NaN           NaN         NaN         NaN         NaN         NaN                                                  -      6.150973     27.215023     3.424507     -2.505810    -4.269082     0.675117   -2.951243    -4.274915   0.628877    2.651713     4.865952   1.526867    0.731207     1.159614   1.122059    1.052083     1.735844   1.220333    -0.133144     -0.199474    0.976376     0.443724      0.647434    1.080581\n",
      "GOOG    5                                  Alphabet Inc        NDX, S&P 500  Communication Services  Internet Content & Information     USA     NASD  Communication Services, Internet Content & Inf...      2029990.0     5      2029990.0  18.71    16.50  1.45   5.65   5.91  21.29   27.11    28.41     7.88        0.33          0.81         6/9/2025            7.46   8.97        2.16           NaN           NaN            NaN            NaN              NaN        11.81      48.77          37.73            13.02  359310.0   111000.0           38.84                1.15          5470.0    5070.0    92.65          58.21            -0.01       27.09         -1.27           0.63         1.18              31.96  25.15   34.79   30.02    1.77     1.77       0.07     0.08      58.54     32.60       30.89  -3.586619        -5.73         -2.47         -1.29       -11.79        -5.61      -11.92  1.02  4.60     2.742339            1.95            1.58    -3.19     0.88     -3.31       -8.06      13.03      -19.63      17.58  142.66 - 208.70           -19.63          589.97  44.95  Apr 24/a   3/27/2014        Yes       Yes   183323.0                0.08   0.96   1.44       26.97000        0.96   25938673        199.80      166.01  167.60  169.25  166.91  167.74      1.04                                                                      NaN       NaN     NaN          NaN        NaN          NaN        NaN           NaN         NaN         NaN         NaN         NaN                                                  -     -0.081967     -0.162745     0.985502    -11.297045   -10.376862     0.157901   -8.724140    -8.466272   0.235256    0.066868     0.094602   1.010658    1.661238     2.732486   1.299726    0.897791     1.392506   1.170229    -0.743188     -1.007667    0.881989    -0.276584     -0.376953    0.954082\n",
      "...   ...                                           ...                 ...                     ...                             ...     ...      ...                                                ...            ...   ...            ...    ...      ...   ...    ...    ...    ...     ...      ...      ...         ...           ...              ...             ...    ...         ...           ...           ...            ...            ...              ...          ...        ...            ...              ...       ...        ...             ...                 ...             ...       ...      ...            ...              ...         ...           ...            ...          ...                ...    ...     ...     ...     ...      ...        ...      ...        ...       ...         ...        ...          ...           ...           ...          ...          ...         ...   ...   ...          ...             ...             ...      ...      ...       ...         ...        ...         ...        ...              ...              ...             ...    ...       ...         ...        ...       ...        ...                 ...    ...    ...            ...         ...        ...           ...         ...     ...     ...     ...     ...       ...                                        ...                ...        ...       ...     ...          ...        ...          ...        ...           ...         ...         ...         ...         ...                                                ...           ...           ...          ...           ...          ...          ...         ...          ...        ...         ...          ...        ...         ...          ...        ...         ...          ...        ...          ...           ...         ...          ...           ...         ...\n",
      "VNQI  396       Vanguard Global ex-U.S. Real Estate ETF                   -               Financial            Exchange Traded Fund     USA     NASD  Financial, Exchange Traded Fund, Global or ExU...         3330.0  1556            NaN    NaN      NaN   NaN    NaN    NaN    NaN     NaN      NaN      NaN        4.47          2.04       12/20/2024             NaN    NaN         NaN           NaN           NaN            NaN            NaN              NaN          NaN        NaN            NaN              NaN       NaN        NaN             NaN                 NaN             NaN       NaN      NaN            NaN              NaN         NaN           NaN            NaN         0.66               0.22    NaN     NaN     NaN     NaN      NaN        NaN      NaN        NaN       NaN         NaN   1.579533         1.53          5.84         12.05        11.42        12.27       15.42  0.74  0.38     0.832238            0.66            0.57     2.13     4.86      7.43        0.62      17.47       -4.14      21.69    37.52 - 47.63           -29.97           28.59  69.15         -   11/1/2010        Yes       Yes        NaN                0.42   0.22    NaN        0.33687        1.61     541181           NaN       45.37   45.47   45.74   45.40   45.66      0.64  Global or ExUS Equities - Industry Sector  Equities (Stocks)       0.12     683.0  3330.0        53.96       1.65      -106.46      -3.09        -89.53       -2.61       10.85        2.39        1.13  Global-ex-U.S., equity, equity, REITs, real-es...     33.326832  44658.375928  3979.484337     10.995601    41.985179     6.289635    2.930755     4.872949   1.605254    5.326860     8.841581   2.369677    4.446581     7.589948   1.944427    2.469055     3.802405   1.629386     1.754331      2.648005    1.383740     0.937106      1.369234    1.174025\n",
      "BSCP  397  Invesco BulletShares 2025 Corporate Bond ETF                   -               Financial            Exchange Traded Fund     USA     NASD  Financial, Exchange Traded Fund, Bonds - Corpo...         3330.0  1557            NaN    NaN      NaN   NaN    NaN    NaN    NaN     NaN      NaN      NaN        4.11          0.85        6/23/2025             NaN    NaN         NaN           NaN           NaN            NaN            NaN              NaN          NaN        NaN            NaN              NaN       NaN        NaN             NaN                 NaN             NaN       NaN      NaN            NaN              NaN         NaN           NaN            NaN         0.02               0.02    NaN     NaN     NaN     NaN      NaN        NaN      NaN        NaN       NaN         NaN   0.116245        -0.24          0.00          0.02        -0.05         0.73        0.10  0.10  0.02     0.096759            0.18            0.09    -0.14    -0.11     -0.02       -0.34       0.19       -0.34       1.13    20.44 - 20.74            -8.48           11.34  41.93         -   10/9/2015         No       Yes        NaN                0.00   0.05    NaN        0.91965        0.76     695545           NaN       20.66   20.67   20.68   20.67   20.67      0.05                          Bonds - Corporate              Bonds       0.10     167.0  3330.0      -108.67      -3.16      -381.76     -10.27       -701.49      -17.38        4.94        4.15        1.29     U.S., corporate-bonds, bonds, investment-grade     13.924588  44658.375928  3979.484337      0.373526     0.530787     1.066873    2.547516     4.006264   1.483737   -0.223250    -0.306910   0.967317    1.505908     2.164635   1.246588    0.766464     1.135911   1.121983     0.740106      1.109467    1.117364     1.855949      2.937932    1.325002\n",
      "SLYG  398             SPDR S&P 600 Small Cap Growth ETF                   -               Financial            Exchange Traded Fund     USA     NYSE  Financial, Exchange Traded Fund, US Equities -...         3330.0  1558            NaN    NaN      NaN   NaN    NaN    NaN    NaN     NaN      NaN      NaN        1.27          1.11        6/23/2025             NaN    NaN         NaN           NaN           NaN            NaN            NaN              NaN          NaN        NaN            NaN              NaN       NaN        NaN             NaN                 NaN             NaN       NaN      NaN            NaN              NaN         NaN           NaN            NaN         0.77               0.19    NaN     NaN     NaN     NaN      NaN        NaN      NaN        NaN       NaN         NaN   2.243760         1.36          3.47          2.79        -3.85         3.54       -2.65  1.09  1.31     1.489313            0.58            0.95     1.35     4.55     -1.56       -1.17      18.34      -13.44      22.81   71.62 - 101.62           -13.44          969.95  59.78         -   9/29/2000        Yes       Yes        NaN                0.22   0.78    NaN        0.24745        0.35      87006           NaN       87.09   87.77   88.21   87.34   87.96      1.00                     US Equities - US Style  Equities (Stocks)       0.15     345.0  3330.0        13.08       0.39      -125.64      -3.64       -146.60       -4.22        3.18        8.28        9.80             U.S., equity, growth, small-cap, SP600     74.109074  44658.375928  3979.484337     13.770720   142.581194    18.963542   -0.671887    -0.948173   0.897710    1.931825     2.939287   1.370865    0.763931     1.115396   1.137441    0.965029     1.449876   1.214032    -0.194973     -0.280784    0.963923     0.159621      0.233693    1.029164\n",
      "IBDR  399    iShares iBonds Dec 2026 Term Corporate ETF                   -               Financial            Exchange Traded Fund     USA     NYSE  Financial, Exchange Traded Fund, Bonds - Corpo...         3320.0  1559            NaN    NaN      NaN   NaN    NaN    NaN    NaN     NaN      NaN      NaN        4.21          1.02         6/2/2025             NaN    NaN         NaN           NaN           NaN            NaN            NaN              NaN          NaN        NaN            NaN              NaN       NaN        NaN             NaN                 NaN             NaN       NaN      NaN            NaN              NaN         NaN           NaN            NaN         0.83               0.49    NaN     NaN     NaN     NaN      NaN        NaN      NaN        NaN       NaN         NaN   0.124018         0.25          0.21          0.21         0.96         1.76        0.62  0.15  0.03     0.123865            0.00            0.09     0.20     0.25      0.33       -0.04       0.87       -1.86       2.11    23.72 - 24.68           -10.76            9.24  65.66         -   9/19/2016         No       Yes        NaN                0.00   0.04    NaN        0.59632        0.71     422234           NaN       24.21   24.22   24.22   24.20   24.22      0.04                          Bonds - Corporate              Bonds       0.10     653.0  3320.0        47.08       1.44        93.06       2.88        214.78        6.91        5.70        4.49        0.99  U.S., fixed-income, corporate-bonds, bonds, in...  33462.283413  44658.375928  3979.484337  18325.196023  8164.968515  1029.689341   10.251123    36.202842   4.950054    4.080314     7.325449   1.843713    3.574270     5.716094   1.741596    0.735917     1.036840   1.138584     1.056352      1.524410    1.192035     1.566906      2.454864    1.298282\n",
      "CGMU  400            Capital Group Municipal Income ETF                   -               Financial            Exchange Traded Fund     USA     NYSE  Financial, Exchange Traded Fund, Bonds - Munic...         3320.0  1560            NaN    NaN      NaN   NaN    NaN    NaN    NaN     NaN      NaN      NaN        3.25          0.87        5/30/2025             NaN    NaN         NaN           NaN           NaN            NaN            NaN              NaN          NaN        NaN            NaN              NaN       NaN        NaN             NaN                 NaN             NaN       NaN      NaN            NaN              NaN         NaN           NaN            NaN         0.27               0.19    NaN     NaN     NaN     NaN      NaN        NaN      NaN        NaN       NaN         NaN   0.225310         0.23          0.72         -0.82        -1.37        -1.18       -0.85  0.31  0.08     0.299738            0.17            0.16     0.30     0.56     -1.08       -0.32       2.97       -3.09       3.35    25.83 - 27.54            -5.02            6.25  58.76         -  10/27/2022         No       Yes        NaN               -0.07   0.00    NaN        0.71429        0.82     585471           NaN       26.71   26.71   26.72   26.68   26.69     -0.07                          Bonds - Municipal              Bonds       0.27    1635.0  3320.0       159.25       5.04       377.75      12.83        682.35       25.85        1.76         NaN         NaN         U.S., fixed-income, municipal-bonds, bonds     -6.912081     -8.555736     0.237794      1.161129     2.494544     1.225487    4.701039     9.827361   2.131464    3.119765     4.962175   1.670148    1.143638     1.671178   1.211501   -0.459674    -0.559431   0.914376    -0.610375     -0.754992    0.890169    -0.551542     -0.694622    0.899608\n",
      "\n",
      "[1525 rows x 139 columns]\n"
     ]
    }
   ],
   "source": [
    "print(df)"
   ]
  },
  {
   "cell_type": "code",
   "execution_count": 20,
   "metadata": {},
   "outputs": [
    {
     "name": "stdout",
     "output_type": "stream",
     "text": [
      "      MktCap AUM, M  Rank   Price  ATR/Price %\n",
      "MSFT      3642760.0     1  490.11     1.475179\n",
      "NVDA      3608760.0     2  147.90     2.582826\n",
      "AAPL      2991650.0     3  200.30     2.206690\n",
      "AMZN      2258840.0     4  212.77     2.364055\n",
      "GOOG      2029990.0     5  167.74     2.742339\n",
      "...             ...   ...     ...          ...\n",
      "VNQI         3330.0  1556   45.66     0.832238\n",
      "BSCP         3330.0  1557   20.67     0.096759\n",
      "SLYG         3330.0  1558   87.96     1.489313\n",
      "IBDR         3320.0  1559   24.22     0.123865\n",
      "CGMU         3320.0  1560   26.69     0.299738\n",
      "\n",
      "[1525 rows x 4 columns]\n"
     ]
    }
   ],
   "source": [
    "# print(df)\n",
    "print(df.loc[:, ['MktCap AUM, M', 'Rank', 'Price', 'ATR/Price %']])\n",
    "_df = df.loc[:, ['MktCap AUM, M', 'Rank', 'Price', 'ATR/Price %']].copy()"
   ]
  },
  {
   "cell_type": "code",
   "execution_count": null,
   "metadata": {},
   "outputs": [],
   "source": [
    "my_tickers = [\n",
    "  'COIN',\n",
    "  'ORCL',\n",
    "  'META',\n",
    "  'MSTR',\n",
    "  'NVDA',\n",
    "  'SHOP',\n",
    "  'SNOW',\n",
    "  'VGT',\n",
    "]\n",
    "_df = _df.loc[my_tickers].copy()"
   ]
  },
  {
   "cell_type": "code",
   "execution_count": 27,
   "metadata": {},
   "outputs": [],
   "source": [
    "_df.to_csv(os.path.join(os.path.expanduser(\"~\"), \"Desktop\", \"ATR_Price.csv\"))"
   ]
  },
  {
   "cell_type": "code",
   "execution_count": null,
   "metadata": {},
   "outputs": [],
   "source": [
    "file_list"
   ]
  },
  {
   "cell_type": "code",
   "execution_count": null,
   "metadata": {},
   "outputs": [],
   "source": [
    "for file in file_list:\n",
    "    df = pd.read_parquet(DATA_DIR / file)\n",
    "    print(f'{file} colums:\\n{df.columns.tolist()}')\n",
    "    print('==========================')\n"
   ]
  },
  {
   "cell_type": "markdown",
   "metadata": {},
   "source": [
    "'ROI %' change to 'ROIC %'"
   ]
  },
  {
   "cell_type": "code",
   "execution_count": null,
   "metadata": {},
   "outputs": [],
   "source": [
    "# Get a list of all .parquet files in the directory\n",
    "# Using .glob('*.parquet') is a safe way to get only the files you want\n",
    "# Gets all files ending with .parquet that also contain 'df_finviz'\n",
    "file_list = [f.name for f in DATA_DIR.glob('*df_finviz*.parquet')]\n",
    "file_list"
   ]
  },
  {
   "cell_type": "code",
   "execution_count": null,
   "metadata": {},
   "outputs": [],
   "source": [
    "# --- 2. MAIN LOGIC: Process the files in the directory ---\n",
    "# This is the core part of the script you need.\n",
    "# --------------------------------------------------------------------------\n",
    "print(\"\\n--- 2. Starting file processing and renaming ---\")\n",
    "\n",
    "# Define the old and new column names\n",
    "old_col_name = 'ROI %'\n",
    "new_col_name = 'ROIC %'\n",
    "\n",
    "# Get a list of all .parquet files in the directory\n",
    "# Gets all files ending with .parquet that also contain 'df_finviz'\n",
    "file_list = [f.name for f in DATA_DIR.glob('*df_finviz*.parquet')]\n",
    "\n",
    "if not file_list:\n",
    "    print(f\"No .parquet files found in '{DATA_DIR}'. Exiting.\")\n",
    "else:\n",
    "    for file in file_list:\n",
    "        file_path = DATA_DIR / file\n",
    "        print(f\"\\nProcessing file: {file}\")\n",
    "\n",
    "        try:\n",
    "            # Read the parquet file into a DataFrame\n",
    "            df = pd.read_parquet(file_path)\n",
    "            \n",
    "            # Print the original columns for this file\n",
    "            print(f\"  Columns before: {df.columns.tolist()}\")\n",
    "\n",
    "            # Check if the column to be renamed exists\n",
    "            if old_col_name in df.columns:\n",
    "                # Rename the column\n",
    "                df.rename(columns={old_col_name: new_col_name}, inplace=True)\n",
    "                \n",
    "                # Save the modified DataFrame back to the same file path\n",
    "                # index=False is often recommended to avoid saving the pandas index\n",
    "                df.to_parquet(file_path, index=False)\n",
    "                \n",
    "                print(f\"  SUCCESS: Renamed column and saved changes to '{file}'.\")\n",
    "                print(f\"  Columns after:  {df.columns.tolist()}\")\n",
    "            else:\n",
    "                # If the column doesn't exist, inform the user and do nothing\n",
    "                print(f\"  INFO: Column '{old_col_name}' not found. File not modified.\")\n",
    "        \n",
    "        except Exception as e:\n",
    "            print(f\"  ERROR: Could not process file {file}. Reason: {e}\")\n",
    "\n",
    "        print('='*30)\n",
    "# --------------------------------------------------------------------------"
   ]
  },
  {
   "cell_type": "code",
   "execution_count": null,
   "metadata": {},
   "outputs": [],
   "source": []
  }
 ],
 "metadata": {
  "kernelspec": {
   "display_name": ".venv",
   "language": "python",
   "name": "python3"
  },
  "language_info": {
   "codemirror_mode": {
    "name": "ipython",
    "version": 3
   },
   "file_extension": ".py",
   "mimetype": "text/x-python",
   "name": "python",
   "nbconvert_exporter": "python",
   "pygments_lexer": "ipython3",
   "version": "3.11.9"
  }
 },
 "nbformat": 4,
 "nbformat_minor": 2
}
