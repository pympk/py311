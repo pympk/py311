{
 "cells": [
  {
   "cell_type": "code",
   "execution_count": 8,
   "id": "95fdb406",
   "metadata": {},
   "outputs": [],
   "source": [
    "# # --- COMPLETE CONTEXT AND TEST SCRIPT (v2 - ALL FUNCTIONS INCLUDED) ---\n",
    "# # This script contains the final refactored code and a self-contained test case.\n",
    "# # Running this single cell will execute the test.\n",
    "\n",
    "# import pandas as pd\n",
    "# import plotly.graph_objects as go\n",
    "# import pprint\n",
    "# import io\n",
    "# import numpy as np\n",
    "# import ipywidgets as widgets\n",
    "\n",
    "# from datetime import datetime, date\n",
    "# from IPython.display import display, Markdown\n",
    "# from pathlib import Path\n",
    "\n",
    "# pd.set_option('display.max_rows', 200)\n",
    "# pd.set_option('display.max_columns', None)\n",
    "# pd.set_option('display.width', 3000)\n",
    "\n",
    "# # --- A. HELPER FUNCTIONS (Shared across tools) ---\n",
    "\n",
    "# def calculate_gain(price_series: pd.Series):\n",
    "#     if price_series.dropna().shape[0] < 2: return np.nan\n",
    "#     return (price_series.ffill().iloc[-1] / price_series.bfill().iloc[0]) - 1\n",
    "\n",
    "# def calculate_sharpe(return_series: pd.Series):\n",
    "#     if return_series.dropna().shape[0] < 2: return np.nan\n",
    "#     std_dev = return_series.std()\n",
    "#     if std_dev > 0 and std_dev != np.inf:\n",
    "#         return (return_series.mean() / std_dev) * np.sqrt(252)\n",
    "#     return np.nan\n",
    "\n",
    "# # --- B. THE CORE CALCULATION ENGINE (Headless, No UI) ---\n",
    "\n",
    "# def run_walk_forward_step(df_close_full, df_high_full, df_low_full,\n",
    "#                           start_date, calc_period, fwd_period,\n",
    "#                           metric, rank_start, rank_end, benchmark_ticker):\n",
    "#     min_date_available = df_close_full.index.min()\n",
    "#     max_date_available = df_close_full.index.max()\n",
    "#     safe_start_date = max(start_date, min_date_available)\n",
    "#     safe_calc_end_date = min(start_date + calc_period, max_date_available)\n",
    "#     safe_viz_end_date = min(safe_calc_end_date + fwd_period, max_date_available)\n",
    "#     if safe_start_date >= safe_calc_end_date: return {'error': \"Invalid date range.\"}\n",
    "#     calc_close_raw = df_close_full.loc[safe_start_date:safe_calc_end_date]\n",
    "#     calc_close = calc_close_raw.dropna(axis=1, how='all')\n",
    "#     if calc_close.shape[1] == 0 or len(calc_close) < 2: return {'error': \"Not enough data in calc period.\"}\n",
    "\n",
    "#     metric_values = {}\n",
    "#     first_prices = calc_close.bfill().iloc[0]; last_prices = calc_close.ffill().iloc[-1]\n",
    "#     metric_values['Price'] = (last_prices / first_prices).dropna()\n",
    "#     daily_returns = calc_close.bfill().ffill().pct_change()\n",
    "#     mean_returns, std_returns = daily_returns.mean(), daily_returns.std()\n",
    "#     metric_values['Sharpe'] = (mean_returns / std_returns * np.sqrt(252)).fillna(0)\n",
    "#     valid_tickers = calc_close.columns\n",
    "#     calc_high = df_high_full[valid_tickers].loc[safe_start_date:safe_calc_end_date]\n",
    "#     calc_low = df_low_full[valid_tickers].loc[safe_start_date:safe_calc_end_date]\n",
    "#     tr = np.maximum(calc_high - calc_low, abs(calc_high - df_close_full[valid_tickers].shift(1)), abs(calc_low - df_close_full[valid_tickers].shift(1)))\n",
    "#     atr = tr.ewm(alpha=1/14, adjust=False).mean()\n",
    "#     atrp = (atr / calc_close).mean()\n",
    "#     metric_values['Sharpe (ATR)'] = (mean_returns / atrp).fillna(0)\n",
    "    \n",
    "#     sorted_tickers = metric_values[metric].sort_values(ascending=False)\n",
    "#     tickers_to_display = sorted_tickers.index[rank_start-1:rank_end].tolist()\n",
    "#     if not tickers_to_display: return {'error': \"No tickers found for the selected rank.\"}\n",
    "        \n",
    "#     normalized_plot_data = df_close_full[tickers_to_display].loc[safe_start_date:safe_viz_end_date]\n",
    "#     normalized_plot_data = normalized_plot_data.div(normalized_plot_data.bfill().iloc[0])\n",
    "#     actual_calc_end_ts = calc_close.index.max()\n",
    "#     portfolio_series = normalized_plot_data.mean(axis=1)\n",
    "#     portfolio_return_series = portfolio_series.pct_change()\n",
    "#     benchmark_price_series = df_close_full.get(benchmark_ticker)\n",
    "#     benchmark_return_series = benchmark_price_series.loc[safe_start_date:safe_viz_end_date].bfill().ffill().pct_change() if benchmark_price_series is not None else pd.Series(dtype='float64')\n",
    "\n",
    "#     perf_data = {}\n",
    "#     perf_data['calc_p_gain'] = calculate_gain(portfolio_series.loc[:actual_calc_end_ts])\n",
    "#     perf_data['fwd_p_gain'] = calculate_gain(portfolio_series.loc[actual_calc_end_ts:])\n",
    "#     perf_data['full_p_gain'] = calculate_gain(portfolio_series)\n",
    "#     perf_data['calc_p_sharpe'] = calculate_sharpe(portfolio_return_series.loc[:actual_calc_end_ts])\n",
    "#     perf_data['fwd_p_sharpe'] = calculate_sharpe(portfolio_return_series.loc[actual_calc_end_ts:])\n",
    "#     perf_data['full_p_sharpe'] = calculate_sharpe(portfolio_return_series)\n",
    "#     perf_data['calc_b_gain'] = calculate_gain(benchmark_price_series.loc[safe_start_date:actual_calc_end_ts]) if benchmark_price_series is not None else np.nan\n",
    "#     perf_data['fwd_b_gain'] = calculate_gain(benchmark_price_series.loc[actual_calc_end_ts:safe_viz_end_date]) if benchmark_price_series is not None else np.nan\n",
    "#     perf_data['full_b_gain'] = calculate_gain(benchmark_price_series.loc[safe_start_date:safe_viz_end_date]) if benchmark_price_series is not None else np.nan\n",
    "#     perf_data['calc_b_sharpe'] = calculate_sharpe(benchmark_return_series.loc[:actual_calc_end_ts])\n",
    "#     perf_data['fwd_b_sharpe'] = calculate_sharpe(benchmark_return_series.loc[actual_calc_end_ts:])\n",
    "#     perf_data['full_b_sharpe'] = calculate_sharpe(benchmark_return_series)\n",
    "\n",
    "#     calc_end_prices = calc_close.ffill().iloc[-1]\n",
    "#     fwd_close_slice = df_close_full.loc[actual_calc_end_ts:safe_viz_end_date]\n",
    "#     viz_end_prices = fwd_close_slice.ffill().iloc[-1] if not fwd_close_slice.empty and len(fwd_close_slice) >= 2 else calc_end_prices\n",
    "#     calc_gains = (calc_end_prices / calc_close.bfill().iloc[0]) - 1\n",
    "#     fwd_gains = (viz_end_prices / calc_end_prices) - 1\n",
    "#     results_df = pd.DataFrame({'Rank': range(rank_start, rank_start + len(tickers_to_display)), 'Metric': metric, 'MetricValue': sorted_tickers.loc[tickers_to_display].values, 'CalcPrice': calc_end_prices.loc[tickers_to_display], 'CalcGain': calc_gains.loc[tickers_to_display], 'FwdGain': fwd_gains.loc[tickers_to_display]}, index=pd.Index(tickers_to_display, name='Ticker'))\n",
    "#     if benchmark_price_series is not None and benchmark_ticker in calc_close.columns:\n",
    "#         benchmark_df_row = pd.DataFrame({'Rank': np.nan, 'Metric': metric, 'MetricValue': metric_values[metric].get(benchmark_ticker, np.nan), 'CalcPrice': calc_end_prices[benchmark_ticker], 'CalcGain': calc_gains[benchmark_ticker], 'FwdGain': fwd_gains[benchmark_ticker]}, index=pd.Index([f\"{benchmark_ticker} (BM)\"], name='Ticker'))\n",
    "#         results_df = pd.concat([results_df, benchmark_df_row])\n",
    "    \n",
    "#     return { 'tickers_to_display': tickers_to_display, 'normalized_plot_data': normalized_plot_data, 'portfolio_series': portfolio_series, 'benchmark_price_series': benchmark_price_series, 'performance_data': perf_data, 'results_df': results_df, 'actual_calc_end_ts': actual_calc_end_ts, 'safe_start_date': pd.to_datetime(df_close_full.loc[safe_start_date:safe_viz_end_date].index.min()), 'safe_viz_end_date': pd.to_datetime(df_close_full.loc[safe_start_date:safe_viz_end_date].index.max()), 'error': None }\n",
    "\n",
    "# # --- C. THE UI WRAPPER ---\n",
    "\n",
    "# def plot_walk_forward_analyzer(df_ohlcv, \n",
    "#                                default_start_date=None, default_calc_period='3M', default_fwd_period='1M',\n",
    "#                                default_metric='Sharpe (ATR)', default_rank_start=1, default_rank_end=10,\n",
    "#                                default_benchmark_ticker='VOO'):\n",
    "#     print(\"Initializing Walk-Forward Analyzer...\")\n",
    "#     if not isinstance(df_ohlcv.index, pd.MultiIndex): raise ValueError(\"Input DataFrame must have a (Ticker, Date) MultiIndex.\")\n",
    "#     df_ohlcv = df_ohlcv.sort_index()\n",
    "#     print(\"Pre-processing data (unstacking)...\")\n",
    "#     df_close_full = df_ohlcv['Adj Close'].unstack(level=0)\n",
    "#     df_high_full = df_ohlcv['Adj High'].unstack(level=0)\n",
    "#     df_low_full = df_ohlcv['Adj Low'].unstack(level=0)\n",
    "    \n",
    "#     start_date_picker = widgets.DatePicker(description='Start Date:', value=pd.to_datetime(default_start_date), disabled=False)\n",
    "#     calc_period_options = {'1M': pd.DateOffset(months=1), '3M': pd.DateOffset(months=3), '6M': pd.DateOffset(months=6), '1Y': pd.DateOffset(years=1)}\n",
    "#     fwd_period_options = {'0D': pd.DateOffset(days=0), '1W': pd.DateOffset(weeks=1), '2W': pd.DateOffset(weeks=2), '1M': pd.DateOffset(months=1), '3M': pd.DateOffset(months=3)}\n",
    "#     calc_period_dropdown = widgets.Dropdown(options=calc_period_options.keys(), value=default_calc_period, description='Calc Period:')\n",
    "#     fwd_period_dropdown = widgets.Dropdown(options=fwd_period_options.keys(), value=default_fwd_period, description='Fwd Period:')\n",
    "#     metrics = ['Price', 'Sharpe', 'Sharpe (ATR)']\n",
    "#     metric_dropdown = widgets.Dropdown(options=metrics, value=default_metric, description='Metric:')\n",
    "#     rank_options = [1, 5, 10, 20, 30, 40, 50, 75, 100]\n",
    "#     rank_start_dropdown = widgets.Dropdown(options=rank_options, value=default_rank_start, description='Rank Start:')\n",
    "#     rank_end_dropdown = widgets.Dropdown(options=rank_options, value=default_rank_end, description='Rank End:')\n",
    "#     benchmark_ticker_input = widgets.Text(value=default_benchmark_ticker, description='Benchmark:', placeholder='Enter Ticker')\n",
    "#     update_button = widgets.Button(description=\"Update Chart\", button_style='primary')\n",
    "#     ticker_list_output = widgets.Output()\n",
    "#     results_container = [None]\n",
    "    \n",
    "#     fig = go.FigureWidget()\n",
    "#     max_traces = 50\n",
    "#     for i in range(max_traces): fig.add_trace(go.Scatter(x=[None], y=[None], mode='lines', name=f'placeholder_{i}', visible=False, showlegend=False))\n",
    "#     fig.add_trace(go.Scatter(x=[None], y=[None], mode='lines', name='Benchmark', visible=True, showlegend=True, line=dict(color='black', width=3, dash='dash')))\n",
    "#     fig.add_trace(go.Scatter(x=[None], y=[None], mode='lines', name='Group Portfolio', visible=True, showlegend=True, line=dict(color='green', width=3)))\n",
    "\n",
    "#     def update_plot(button_click):\n",
    "#         ticker_list_output.clear_output()\n",
    "#         start_date = pd.to_datetime(start_date_picker.value)\n",
    "#         calc_period = calc_period_options[calc_period_dropdown.value]; fwd_period = fwd_period_options[fwd_period_dropdown.value]\n",
    "#         metric = metric_dropdown.value; rank_start, rank_end = rank_start_dropdown.value, rank_end_dropdown.value\n",
    "#         benchmark_ticker = benchmark_ticker_input.value.strip().upper()\n",
    "#         if rank_start > rank_end:\n",
    "#             with ticker_list_output: print(\"Error: 'Rank Start' must be <= 'Rank End'.\"); return\n",
    "\n",
    "#         results = run_walk_forward_step(df_close_full, df_high_full, df_low_full, start_date, calc_period, fwd_period, metric, rank_start, rank_end, benchmark_ticker)\n",
    "        \n",
    "#         if results['error']:\n",
    "#             with ticker_list_output: print(f\"Error: {results['error']}\")\n",
    "#             return\n",
    "            \n",
    "#         with fig.batch_update():\n",
    "#             for i in range(max_traces):\n",
    "#                 trace = fig.data[i]\n",
    "#                 if i < len(results['tickers_to_display']):\n",
    "#                     ticker = results['tickers_to_display'][i]\n",
    "#                     trace.x, trace.y, trace.name = results['normalized_plot_data'].index, results['normalized_plot_data'][ticker], ticker\n",
    "#                     trace.visible, trace.showlegend = True, True\n",
    "#                 else: trace.visible, trace.showlegend = False, False\n",
    "#             benchmark_trace = fig.data[max_traces]\n",
    "#             if results['benchmark_price_series'] is not None and not results['benchmark_price_series'].loc[results['safe_start_date']:results['safe_viz_end_date']].dropna().empty:\n",
    "#                 normalized_benchmark = results['benchmark_price_series'].loc[results['safe_start_date']:results['safe_viz_end_date']] / results['benchmark_price_series'].loc[results['safe_start_date']:].bfill().iloc[0]\n",
    "#                 benchmark_trace.x, benchmark_trace.y = normalized_benchmark.index, normalized_benchmark\n",
    "#                 benchmark_trace.name = f\"Benchmark ({benchmark_ticker})\"; benchmark_trace.visible = True\n",
    "#             else: benchmark_trace.visible = False\n",
    "#             portfolio_trace = fig.data[max_traces + 1]\n",
    "#             portfolio_trace.x, portfolio_trace.y = results['portfolio_series'].index, results['portfolio_series']\n",
    "#             portfolio_trace.name = 'Group Portfolio'; portfolio_trace.visible = True\n",
    "#             fig.layout.shapes = []; fig.add_shape(type=\"line\", x0=results['actual_calc_end_ts'], y0=0, x1=results['actual_calc_end_ts'], y1=1, xref='x', yref='paper', line=dict(color=\"grey\", width=2, dash=\"dash\"))\n",
    "            \n",
    "#         results_container[0] = results['results_df']\n",
    "        \n",
    "#         with ticker_list_output:\n",
    "#             print(f\"Analyzing from {results['safe_start_date'].date()} to {results['safe_viz_end_date'].date()}.\")\n",
    "#             print(f\"  - Ranking based on performance from {results['safe_start_date'].date()} to {results['actual_calc_end_ts'].date()}.\")\n",
    "#             pprint.pprint(results['tickers_to_display'], width=120, compact=True)\n",
    "            \n",
    "#             p = results['performance_data']\n",
    "#             rows = []\n",
    "#             rows.append({'Metric': 'Group Portfolio Gain', 'Full': p['full_p_gain'], 'Calc': p['calc_p_gain'], 'Fwd': p['fwd_p_gain']})\n",
    "#             if not np.isnan(p['full_b_gain']):\n",
    "#                 rows.append({'Metric': f'Benchmark ({benchmark_ticker}) Gain', 'Full': p['full_b_gain'], 'Calc': p['calc_b_gain'], 'Fwd': p['fwd_b_gain']})\n",
    "#                 rows.append({'Metric': 'Gain Delta (vs Bm)', 'Full': p['full_p_gain'] - p['full_b_gain'], 'Calc': p['calc_p_gain'] - p['calc_b_gain'], 'Fwd': p['fwd_p_gain'] - p['fwd_b_gain']})\n",
    "#             rows.append({'Metric': 'Group Portfolio Sharpe', 'Full': p['full_p_sharpe'], 'Calc': p['calc_p_sharpe'], 'Fwd': p['fwd_p_sharpe']})\n",
    "#             if not np.isnan(p['full_b_sharpe']):\n",
    "#                 rows.append({'Metric': f'Benchmark ({benchmark_ticker}) Sharpe', 'Full': p['full_b_sharpe'], 'Calc': p['calc_b_sharpe'], 'Fwd': p['fwd_b_sharpe']})\n",
    "#                 rows.append({'Metric': 'Sharpe Delta (vs Bm)', 'Full': p['full_p_sharpe'] - p['full_b_sharpe'], 'Calc': p['calc_p_sharpe'] - p['calc_b_sharpe'], 'Fwd': p['fwd_p_sharpe'] - p['fwd_b_sharpe']})\n",
    "#             report_df = pd.DataFrame(rows).set_index('Metric')\n",
    "#             gain_rows = [row for row in report_df.index if 'Gain' in row or 'Delta' in row]\n",
    "#             sharpe_rows = [row for row in report_df.index if 'Sharpe' in row]\n",
    "#             styled_df = report_df.style.format('{:+.2%}', na_rep='N/A', subset=(gain_rows, report_df.columns)).format('{:+.2f}', na_rep='N/A', subset=(sharpe_rows, report_df.columns)).set_properties(**{'text-align': 'right', 'width': '100px'}).set_table_styles([{'selector': 'th.col_heading', 'props': [('text-align', 'right')]}, {'selector': 'th.row_heading', 'props': [('text-align', 'left')]}])\n",
    "#             print(\"\\n--- Strategy Performance Summary ---\")\n",
    "#             display(styled_df)\n",
    "            \n",
    "#     fig.update_layout(title_text='Walk-Forward Performance Analysis', xaxis_title='Date', yaxis_title='Normalized Price (Start = 1)', hovermode='x unified', legend_title_text='Tickers (Ranked)', height=700, margin=dict(t=50))\n",
    "#     fig.add_hline(y=1, line_width=1, line_dash=\"dash\", line_color=\"grey\")\n",
    "#     update_button.on_click(update_plot)\n",
    "#     controls_row1 = widgets.HBox([start_date_picker, calc_period_dropdown, fwd_period_dropdown])\n",
    "#     controls_row2 = widgets.HBox([metric_dropdown, rank_start_dropdown, rank_end_dropdown, benchmark_ticker_input, update_button])\n",
    "#     ui_container = widgets.VBox([controls_row1, controls_row2, ticker_list_output], layout=widgets.Layout(margin='10px 0 20px 0'))\n",
    "#     display(ui_container, fig)\n",
    "#     update_plot(None)\n",
    "#     return results_container\n",
    "\n",
    "# # --- D. VERIFICATION TOOLS ---\n",
    "\n",
    "# def verify_group_tickers_walk_forward_calculation(df_ohlcv, tickers_to_verify, benchmark_ticker,\n",
    "#                                                   start_date, calc_period, fwd_period, export_csv=False):\n",
    "#     # This function is unchanged\n",
    "#     display(Markdown(f\"## Verification Report for Portfolio vs. Benchmark\"))\n",
    "#     display(Markdown(f\"**Portfolio Tickers:** `{tickers_to_verify}`\"))\n",
    "#     display(Markdown(f\"**Benchmark Ticker:** `{benchmark_ticker}`\"))\n",
    "#     period_options = { '1M': pd.DateOffset(months=1), '3M': pd.DateOffset(months=3), '6M': pd.DateOffset(months=6), '1Y': pd.DateOffset(years=1), '0D': pd.DateOffset(days=0), '1W': pd.DateOffset(weeks=1), '2W': pd.DateOffset(weeks=2) }\n",
    "#     df_close_full = df_ohlcv['Adj Close'].unstack(level=0)\n",
    "#     start_date_ts = pd.to_datetime(start_date)\n",
    "#     calc_offset = period_options[calc_period]; fwd_offset = period_options[fwd_period]\n",
    "#     calc_end_date_ts_theoretical = start_date_ts + calc_offset\n",
    "#     fwd_end_date_ts_theoretical = calc_end_date_ts_theoretical + fwd_offset\n",
    "#     actual_calc_end_ts = df_close_full.loc[start_date_ts:calc_end_date_ts_theoretical].index.max()\n",
    "#     display(Markdown(f\"**Analysis Start Date:** `{start_date_ts.date()}`\"))\n",
    "#     display(Markdown(f\"**Calculation Period End Date:** `{actual_calc_end_ts.date()}`\"))\n",
    "#     display(Markdown(f\"**Forward Period End Date:** `{fwd_end_date_ts_theoretical.date()}`\"))\n",
    "#     portfolio_prices_raw_slice = df_close_full[tickers_to_verify].loc[start_date_ts:fwd_end_date_ts_theoretical]\n",
    "#     normalized_portfolio_prices = portfolio_prices_raw_slice.div(portfolio_prices_raw_slice.bfill().iloc[0])\n",
    "#     portfolio_value_series = normalized_portfolio_prices.mean(axis=1)\n",
    "#     try: benchmark_price_series = df_close_full[benchmark_ticker]\n",
    "#     except KeyError as e: print(f\"---! ERROR: Ticker {e} not found !---\"); return\n",
    "\n",
    "#     def print_verification_steps(title, price_series):\n",
    "#         display(Markdown(f\"#### Verification for: `{title}`\"))\n",
    "#         if price_series.dropna().shape[0] < 2: print(\"  - Not enough data points.\"); return {'gain': np.nan, 'sharpe': np.nan}\n",
    "#         start_price = price_series.bfill().iloc[0]; end_price = price_series.ffill().iloc[-1]\n",
    "#         gain = (end_price / start_price) - 1\n",
    "#         print(f\"  - Start Value (on {price_series.first_valid_index().date()}): {start_price:,.4f}\\n  - End Value   (on {price_series.last_valid_index().date()}): {end_price:,.4f}\\n  - Gain = ({end_price:,.4f} / {start_price:,.4f}) - 1 = {gain:.2%}\")\n",
    "#         returns = price_series.pct_change()\n",
    "#         mean_return = returns.mean(); std_return = returns.std()\n",
    "#         sharpe = (mean_return / std_return * np.sqrt(252)) if std_return > 0 and std_return != np.inf else np.nan\n",
    "#         print(f\"\\n  - Mean Daily Return: {mean_return:.6f}\\n  - Std Dev of Daily Return: {std_return:.6f}\\n  - Sharpe = ({mean_return:.6f} / {std_return:.6f}) * sqrt(252) = {sharpe:.2f}\")\n",
    "#         return {'gain': gain, 'sharpe': sharpe}\n",
    "\n",
    "#     display(Markdown(\"### A. Calculation Period Analysis ('In-Sample')\"))\n",
    "#     perf_calc_p = print_verification_steps(\"Group Portfolio\", portfolio_value_series.loc[start_date_ts:actual_calc_end_ts])\n",
    "#     perf_calc_b = print_verification_steps(f\"Benchmark ({benchmark_ticker})\", benchmark_price_series.loc[start_date_ts:actual_calc_end_ts])\n",
    "#     display(Markdown(\"\\n### B. Forward Period Analysis ('Moment of Truth')\"))\n",
    "#     perf_fwd_p = print_verification_steps(\"Group Portfolio\", portfolio_value_series.loc[actual_calc_end_ts:fwd_end_date_ts_theoretical])\n",
    "#     perf_fwd_b = print_verification_steps(f\"Benchmark ({benchmark_ticker})\", benchmark_price_series.loc[actual_calc_end_ts:fwd_end_date_ts_theoretical])\n",
    "#     display(Markdown(\"\\n### C. Full Period Analysis (Total)\"))\n",
    "#     perf_full_p = print_verification_steps(\"Group Portfolio\", portfolio_value_series)\n",
    "#     perf_full_b = print_verification_steps(f\"Benchmark ({benchmark_ticker})\", benchmark_price_series.loc[start_date_ts:fwd_end_date_ts_theoretical])\n",
    "#     display(Markdown(\"\\n### D. Final Summary Table (matches analyzer output)\"))\n",
    "#     rows = []\n",
    "#     rows.append({'Metric': 'Group Portfolio Gain', 'Full': perf_full_p['gain'], 'Calc': perf_calc_p['gain'], 'Fwd': perf_fwd_p['gain']})\n",
    "#     rows.append({'Metric': f'Benchmark ({benchmark_ticker}) Gain', 'Full': perf_full_b['gain'], 'Calc': perf_calc_b['gain'], 'Fwd': perf_fwd_b['gain']})\n",
    "#     rows.append({'Metric': 'Gain Delta (vs Bm)', 'Full': perf_full_p['gain'] - perf_full_b['gain'], 'Calc': perf_calc_p['gain'] - perf_calc_b['gain'], 'Fwd': perf_fwd_p['gain'] - perf_fwd_b['gain']})\n",
    "#     rows.append({'Metric': 'Group Portfolio Sharpe', 'Full': perf_full_p['sharpe'], 'Calc': perf_calc_p['sharpe'], 'Fwd': perf_fwd_p['sharpe']})\n",
    "#     rows.append({'Metric': f'Benchmark ({benchmark_ticker}) Sharpe', 'Full': perf_full_b['sharpe'], 'Calc': perf_calc_b['sharpe'], 'Fwd': perf_fwd_b['sharpe']})\n",
    "#     rows.append({'Metric': 'Sharpe Delta (vs Bm)', 'Full': perf_full_p['sharpe'] - perf_full_b['sharpe'], 'Calc': perf_calc_p['sharpe'] - perf_calc_b['sharpe'], 'Fwd': perf_fwd_p['sharpe'] - perf_fwd_b['sharpe']})\n",
    "#     report_df = pd.DataFrame(rows).set_index('Metric')\n",
    "#     gain_rows = [row for row in report_df.index if 'Gain' in row or 'Delta' in row]\n",
    "#     sharpe_rows = [row for row in report_df.index if 'Sharpe' in row]\n",
    "#     styled_df = report_df.style.format('{:+.2%}', na_rep='N/A', subset=(gain_rows, report_df.columns)).format('{:+.2f}', na_rep='N/A', subset=(sharpe_rows, report_df.columns)).set_properties(**{'text-align': 'right', 'width': '100px'}).set_table_styles([{'selector': 'th.col_heading', 'props': [('text-align', 'right')]}, {'selector': 'th.row_heading', 'props': [('text-align', 'left')]}])\n",
    "#     display(styled_df)\n",
    "#     if export_csv:\n",
    "#         export_df = pd.DataFrame({'Portfolio_Value_Normalized': portfolio_value_series, 'Portfolio_Return': portfolio_value_series.pct_change(), f'Benchmark_Price_{benchmark_ticker}': benchmark_price_series})\n",
    "#         filename = f\"verification_group_tickers_{start_date_ts.strftime('%Y%m%d')}.csv\"\n",
    "#         export_df.to_csv(filename, float_format='%.6f')\n",
    "#         print(f\"\\n✅ Detailed group verification data exported to '{filename}'\")\n",
    "\n",
    "# def verify_ticker_ranking_metrics(df_ohlcv, \n",
    "#                                   ticker, \n",
    "#                                   start_date, \n",
    "#                                   calc_period, \n",
    "#                                   fwd_period, \n",
    "#                                   export_csv=False):\n",
    "#     display(Markdown(f\"## Verification Report for Ticker Ranking: `{ticker}`\"))\n",
    "#     period_options = { '1M': pd.DateOffset(months=1), '3M': pd.DateOffset(months=3), '6M': pd.DateOffset(months=6), '1Y': pd.DateOffset(years=1), '0D': pd.DateOffset(days=0), '1W': pd.DateOffset(weeks=1), '2W': pd.DateOffset(weeks=2) }\n",
    "#     try: df_ticker = df_ohlcv.loc[ticker].sort_index()\n",
    "#     except KeyError: print(f\"---! ERROR: Ticker '{ticker}' not found !---\"); return\n",
    "#     start_date_ts = pd.to_datetime(start_date)\n",
    "#     calc_offset = period_options[calc_period]; fwd_offset = period_options[fwd_period]\n",
    "#     calc_end_date_ts = start_date_ts + calc_offset; fwd_end_date_ts = calc_end_date_ts + fwd_offset\n",
    "#     display(Markdown(f\"**Analysis Start Date:** `{start_date_ts.date()}`\"))\n",
    "#     display(Markdown(f\"**Requested Calculation Period:** `{start_date_ts.date()}` to `{calc_end_date_ts.date()}`\"))\n",
    "#     display(Markdown(f\"**Requested Forward Period:**   `{calc_end_date_ts.date()}` to `{fwd_end_date_ts.date()}`\"))\n",
    "#     display(Markdown(\"### A. Calculation Period Analysis (for Ranking Metrics)\"))\n",
    "#     calc_df = df_ticker.loc[start_date_ts:calc_end_date_ts].copy()\n",
    "#     if calc_df['Adj Close'].notna().sum() < 2: print(\"\\n---! ERROR: Not enough data points !---\"); return\n",
    "#     actual_calc_end_date = calc_df.index.max().date()\n",
    "#     display(Markdown(f\"**Actual Dates Used:** `{calc_df.index.min().date()}` to `{actual_calc_end_date}`\"))\n",
    "#     calc_gain = calculate_gain(calc_df['Adj Close'])\n",
    "#     calc_start_price = calc_df['Adj Close'].bfill().iloc[0]\n",
    "#     calc_end_price = calc_df['Adj Close'].ffill().iloc[-1]\n",
    "#     display(Markdown(\"#### `CalcGain` Verification:\"))\n",
    "#     print(f\"  - Calc Start Price: ${calc_start_price:.2f}\\n  - Calc End Price:   ${calc_end_price:.2f}  <-- 'CalcPrice'\\n  - CalcGain = {calc_gain:.2%}\")\n",
    "#     display(Markdown(\"#### `MetricValue` Verification:\"))\n",
    "#     price_metric = (calc_end_price / calc_start_price)\n",
    "#     print(f\"\\n1. Price Metric:\\n   - Formula: Last Price / First Price = {price_metric:.4f}\")\n",
    "#     daily_returns = calc_df['Adj Close'].bfill().ffill().pct_change()\n",
    "#     sharpe_ratio = calculate_sharpe(daily_returns)\n",
    "#     print(f\"\\n2. Sharpe Metric:\\n   - Mean Daily Return: {daily_returns.mean():.6f}\\n   - Std Dev Daily Return: {daily_returns.std():.6f}\\n   - Annualized Sharpe = {sharpe_ratio:.4f}\")\n",
    "#     print(f\"\\n3. Sharpe (ATR) Metric:\")\n",
    "#     tr = np.maximum(calc_df['Adj High'] - calc_df['Adj Low'], abs(calc_df['Adj High'] - calc_df['Adj Close'].shift(1)), abs(calc_df['Adj Low'] - calc_df['Adj Close'].shift(1)))\n",
    "#     atr = tr.ewm(alpha=1/14, adjust=False).mean()\n",
    "#     atrp_series = atr / calc_df['Adj Close']\n",
    "#     atrp_mean = atrp_series.mean()\n",
    "#     sharpe_atr = (daily_returns.mean() / atrp_mean) if atrp_mean > 0 else 0\n",
    "#     print(f\"   - Mean Daily Return: {daily_returns.mean():.6f} (same as above)\\n   - Average ATR Percent (ATRP): {atrp_mean:.6f}\\n   - Sharpe (ATR) = {sharpe_atr:.4f}\")\n",
    "#     display(Markdown(\"\\n### B. Forward Period Analysis (`FwdGain`)\"))\n",
    "#     fwd_df = df_ticker.loc[actual_calc_end_date:fwd_end_date_ts].copy()\n",
    "#     fwd_gain = calculate_gain(fwd_df['Adj Close'])\n",
    "#     fwd_end_price = fwd_df['Adj Close'].ffill().iloc[-1] if fwd_gain is not np.nan else calc_end_price\n",
    "#     print(f\"  - Fwd Start Price (Calc End Price): ${calc_end_price:.2f}\\n  - Fwd End Price: ${fwd_end_price:.2f}\\n  - FwdGain = {fwd_gain:.2%}\")\n",
    "#     display(Markdown(\"\\n### C. Final Summary Table\"))\n",
    "#     summary_data = {'Metric': ['Price', 'Sharpe', 'Sharpe (ATR)'], 'Calculated Value': [f\"{price_metric:.4f}\", f\"{sharpe_ratio:.4f}\", f\"{sharpe_atr:.4f}\"], 'Corresponds To': ['`MetricValue`', '`MetricValue`', '`MetricValue`'], '---': ['---','---','---'], 'Gain Metric': ['Calc Period Gain', 'Forward Period Gain'], 'Gain Value': [f\"{calc_gain:.2%}\", f\"{fwd_gain:.2%}\"], 'Gain Corresponds To': ['`CalcGain`', '`FwdGain`']}\n",
    "#     summary_df = pd.DataFrame(summary_data)\n",
    "#     display(summary_df.style.hide(axis=\"index\"))\n",
    "    \n",
    "#     if export_csv:\n",
    "#         calc_df['Period'] = 'Calculation'; calc_df['Daily_Return'] = daily_returns; calc_df['True_Range'] = tr; calc_df['ATR_14'] = atr; calc_df['ATRP'] = atrp_series\n",
    "#         fwd_df['Period'] = 'Forward'\n",
    "#         combined_df = pd.concat([calc_df, fwd_df.iloc[1:]])\n",
    "#         filename = f\"verification_ticker_{ticker}_{start_date_ts.strftime('%Y%m%d')}.csv\"\n",
    "#         combined_df.to_csv(filename, float_format='%.6f')\n",
    "#         print(f\"\\n✅ Detailed ticker data exported to '{filename}'\")\n",
    "\n"
   ]
  },
  {
   "cell_type": "code",
   "execution_count": 24,
   "id": "86b5292e",
   "metadata": {},
   "outputs": [],
   "source": [
    "# --- COMPLETE CONTEXT AND TEST SCRIPT (v3 - Sharpe (ATR) Comparison Added) ---\n",
    "# This script contains the final refactored code and a self-contained test case.\n",
    "# Running this single cell will execute the test.\n",
    "\n",
    "import pandas as pd\n",
    "import plotly.graph_objects as go\n",
    "import pprint\n",
    "import io\n",
    "import numpy as np\n",
    "import ipywidgets as widgets\n",
    "\n",
    "from datetime import datetime, date\n",
    "from IPython.display import display, Markdown\n",
    "from pathlib import Path\n",
    "\n",
    "# --- A. HELPER FUNCTIONS (Shared across tools) ---\n",
    "\n",
    "def calculate_gain(price_series: pd.Series):\n",
    "    if price_series.dropna().shape[0] < 2: return np.nan\n",
    "    return (price_series.ffill().iloc[-1] / price_series.bfill().iloc[0]) - 1\n",
    "\n",
    "def calculate_sharpe(return_series: pd.Series):\n",
    "    if return_series.dropna().shape[0] < 2: return np.nan\n",
    "    std_dev = return_series.std()\n",
    "    if std_dev > 0 and std_dev != np.inf:\n",
    "        return (return_series.mean() / std_dev) * np.sqrt(252)\n",
    "    return np.nan\n",
    "\n",
    "# --- NEW HELPER FUNCTION ---\n",
    "def calculate_sharpe_atr(price_series: pd.Series, high_series: pd.Series, low_series: pd.Series):\n",
    "    \"\"\"Calculates Sharpe Ratio using Average True Range Percent (ATRP) as the denominator.\"\"\"\n",
    "    if price_series.dropna().shape[0] < 2: return np.nan\n",
    "    \n",
    "    daily_returns = price_series.pct_change()\n",
    "    mean_return = daily_returns.mean()\n",
    "    \n",
    "    # Calculate ATRP\n",
    "    tr = np.maximum(high_series - low_series, abs(high_series - price_series.shift(1)), abs(low_series - price_series.shift(1)))\n",
    "    atr = tr.ewm(alpha=1/14, adjust=False).mean()\n",
    "    atrp = (atr / price_series).mean()\n",
    "    \n",
    "    if atrp > 0 and atrp != np.inf:\n",
    "        return mean_return / atrp\n",
    "    return np.nan\n",
    "\n",
    "# --- B. THE CORE CALCULATION ENGINE (Headless, No UI) ---\n",
    "\n",
    "# --- MODIFIED ---\n",
    "def run_walk_forward_step(df_close_full, df_high_full, df_low_full,\n",
    "                          start_date, calc_period, fwd_period,\n",
    "                          metric, rank_start, rank_end, benchmark_ticker):\n",
    "    min_date_available = df_close_full.index.min()\n",
    "    max_date_available = df_close_full.index.max()\n",
    "    safe_start_date = max(start_date, min_date_available)\n",
    "    safe_calc_end_date = min(start_date + calc_period, max_date_available)\n",
    "    safe_viz_end_date = min(safe_calc_end_date + fwd_period, max_date_available)\n",
    "    if safe_start_date >= safe_calc_end_date: return {'error': \"Invalid date range.\"}\n",
    "    calc_close_raw = df_close_full.loc[safe_start_date:safe_calc_end_date]\n",
    "    calc_close = calc_close_raw.dropna(axis=1, how='all')\n",
    "    if calc_close.shape[1] == 0 or len(calc_close) < 2: return {'error': \"Not enough data in calc period.\"}\n",
    "\n",
    "    metric_values = {}\n",
    "    first_prices = calc_close.bfill().iloc[0]; last_prices = calc_close.ffill().iloc[-1]\n",
    "    metric_values['Price'] = (last_prices / first_prices).dropna()\n",
    "    daily_returns = calc_close.bfill().ffill().pct_change()\n",
    "    mean_returns, std_returns = daily_returns.mean(), daily_returns.std()\n",
    "    metric_values['Sharpe'] = (mean_returns / std_returns * np.sqrt(252)).fillna(0)\n",
    "    valid_tickers = calc_close.columns\n",
    "    calc_high = df_high_full[valid_tickers].loc[safe_start_date:safe_calc_end_date]\n",
    "    calc_low = df_low_full[valid_tickers].loc[safe_start_date:safe_calc_end_date]\n",
    "    tr = np.maximum(calc_high - calc_low, abs(calc_high - df_close_full[valid_tickers].shift(1)), abs(calc_low - df_close_full[valid_tickers].shift(1)))\n",
    "    atr = tr.ewm(alpha=1/14, adjust=False).mean()\n",
    "    atrp = (atr / calc_close).mean()\n",
    "    metric_values['Sharpe (ATR)'] = (mean_returns / atrp).fillna(0)\n",
    "    \n",
    "    sorted_tickers = metric_values[metric].sort_values(ascending=False)\n",
    "    tickers_to_display = sorted_tickers.index[rank_start-1:rank_end].tolist()\n",
    "    if not tickers_to_display: return {'error': \"No tickers found for the selected rank.\"}\n",
    "        \n",
    "    # --- Portfolio Series Calculation (including High and Low for ATR) ---\n",
    "    viz_slice_dates = df_close_full.loc[safe_start_date:safe_viz_end_date].index\n",
    "    \n",
    "    normalized_plot_data = df_close_full[tickers_to_display].loc[viz_slice_dates]\n",
    "    normalized_plot_data = normalized_plot_data.div(normalized_plot_data.bfill().iloc[0])\n",
    "    \n",
    "    normalized_high_data = df_high_full[tickers_to_display].loc[viz_slice_dates]\n",
    "    normalized_high_data = normalized_high_data.div(df_close_full[tickers_to_display].loc[viz_slice_dates].bfill().iloc[0])\n",
    "\n",
    "    normalized_low_data = df_low_full[tickers_to_display].loc[viz_slice_dates]\n",
    "    normalized_low_data = normalized_low_data.div(df_close_full[tickers_to_display].loc[viz_slice_dates].bfill().iloc[0])\n",
    "\n",
    "    portfolio_series = normalized_plot_data.mean(axis=1)\n",
    "    portfolio_high_series = normalized_high_data.mean(axis=1)\n",
    "    portfolio_low_series = normalized_low_data.mean(axis=1)\n",
    "    \n",
    "    portfolio_return_series = portfolio_series.pct_change()\n",
    "    actual_calc_end_ts = calc_close.index.max()\n",
    "\n",
    "    # --- Benchmark Series Calculation ---\n",
    "    benchmark_price_series = df_close_full.get(benchmark_ticker)\n",
    "    benchmark_high_series = df_high_full.get(benchmark_ticker)\n",
    "    benchmark_low_series = df_low_full.get(benchmark_ticker)\n",
    "    \n",
    "    benchmark_return_series = pd.Series(dtype='float64')\n",
    "    if benchmark_price_series is not None:\n",
    "        benchmark_price_series = benchmark_price_series.loc[safe_start_date:safe_viz_end_date].bfill().ffill()\n",
    "        benchmark_return_series = benchmark_price_series.pct_change()\n",
    "    \n",
    "    # --- Performance Data Calculation (Now includes Sharpe ATR) ---\n",
    "    perf_data = {}\n",
    "    \n",
    "    # Portfolio Gains & Sharpes\n",
    "    perf_data['calc_p_gain'] = calculate_gain(portfolio_series.loc[:actual_calc_end_ts])\n",
    "    perf_data['fwd_p_gain'] = calculate_gain(portfolio_series.loc[actual_calc_end_ts:])\n",
    "    perf_data['full_p_gain'] = calculate_gain(portfolio_series)\n",
    "    perf_data['calc_p_sharpe'] = calculate_sharpe(portfolio_return_series.loc[:actual_calc_end_ts])\n",
    "    perf_data['fwd_p_sharpe'] = calculate_sharpe(portfolio_return_series.loc[actual_calc_end_ts:])\n",
    "    perf_data['full_p_sharpe'] = calculate_sharpe(portfolio_return_series)\n",
    "    perf_data['calc_p_sharpe_atr'] = calculate_sharpe_atr(portfolio_series.loc[:actual_calc_end_ts], portfolio_high_series.loc[:actual_calc_end_ts], portfolio_low_series.loc[:actual_calc_end_ts])\n",
    "    perf_data['fwd_p_sharpe_atr'] = calculate_sharpe_atr(portfolio_series.loc[actual_calc_end_ts:], portfolio_high_series.loc[actual_calc_end_ts:], portfolio_low_series.loc[actual_calc_end_ts:])\n",
    "    perf_data['full_p_sharpe_atr'] = calculate_sharpe_atr(portfolio_series, portfolio_high_series, portfolio_low_series)\n",
    "\n",
    "    # Benchmark Gains & Sharpes\n",
    "    has_benchmark = benchmark_price_series is not None\n",
    "    perf_data['calc_b_gain'] = calculate_gain(benchmark_price_series.loc[:actual_calc_end_ts]) if has_benchmark else np.nan\n",
    "    perf_data['fwd_b_gain'] = calculate_gain(benchmark_price_series.loc[actual_calc_end_ts:]) if has_benchmark else np.nan\n",
    "    perf_data['full_b_gain'] = calculate_gain(benchmark_price_series) if has_benchmark else np.nan\n",
    "    perf_data['calc_b_sharpe'] = calculate_sharpe(benchmark_return_series.loc[:actual_calc_end_ts])\n",
    "    perf_data['fwd_b_sharpe'] = calculate_sharpe(benchmark_return_series.loc[actual_calc_end_ts:])\n",
    "    perf_data['full_b_sharpe'] = calculate_sharpe(benchmark_return_series)\n",
    "    perf_data['calc_b_sharpe_atr'] = calculate_sharpe_atr(benchmark_price_series.loc[:actual_calc_end_ts], benchmark_high_series.loc[:actual_calc_end_ts], benchmark_low_series.loc[:actual_calc_end_ts]) if has_benchmark else np.nan\n",
    "    perf_data['fwd_b_sharpe_atr'] = calculate_sharpe_atr(benchmark_price_series.loc[actual_calc_end_ts:], benchmark_high_series.loc[actual_calc_end_ts:], benchmark_low_series.loc[actual_calc_end_ts:]) if has_benchmark else np.nan\n",
    "    perf_data['full_b_sharpe_atr'] = calculate_sharpe_atr(benchmark_price_series, benchmark_high_series, benchmark_low_series) if has_benchmark else np.nan\n",
    "\n",
    "    calc_end_prices = calc_close.ffill().iloc[-1]\n",
    "    fwd_close_slice = df_close_full.loc[actual_calc_end_ts:safe_viz_end_date]\n",
    "    viz_end_prices = fwd_close_slice.ffill().iloc[-1] if not fwd_close_slice.empty and len(fwd_close_slice) >= 2 else calc_end_prices\n",
    "    calc_gains = (calc_end_prices / calc_close.bfill().iloc[0]) - 1\n",
    "    fwd_gains = (viz_end_prices / calc_end_prices) - 1\n",
    "    results_df = pd.DataFrame({'Rank': range(rank_start, rank_start + len(tickers_to_display)), 'Metric': metric, 'MetricValue': sorted_tickers.loc[tickers_to_display].values, 'CalcPrice': calc_end_prices.loc[tickers_to_display], 'CalcGain': calc_gains.loc[tickers_to_display], 'FwdGain': fwd_gains.loc[tickers_to_display]}, index=pd.Index(tickers_to_display, name='Ticker'))\n",
    "    if has_benchmark and benchmark_ticker in calc_close.columns:\n",
    "        benchmark_df_row = pd.DataFrame({'Rank': np.nan, 'Metric': metric, 'MetricValue': metric_values[metric].get(benchmark_ticker, np.nan), 'CalcPrice': calc_end_prices[benchmark_ticker], 'CalcGain': calc_gains[benchmark_ticker], 'FwdGain': fwd_gains[benchmark_ticker]}, index=pd.Index([f\"{benchmark_ticker} (BM)\"], name='Ticker'))\n",
    "        results_df = pd.concat([results_df, benchmark_df_row])\n",
    "    \n",
    "    return { 'tickers_to_display': tickers_to_display, 'normalized_plot_data': normalized_plot_data, 'portfolio_series': portfolio_series, 'benchmark_price_series': benchmark_price_series, 'performance_data': perf_data, 'results_df': results_df, 'actual_calc_end_ts': actual_calc_end_ts, 'safe_start_date': pd.to_datetime(df_close_full.loc[safe_start_date:safe_viz_end_date].index.min()), 'safe_viz_end_date': pd.to_datetime(df_close_full.loc[safe_start_date:safe_viz_end_date].index.max()), 'error': None }\n",
    "\n",
    "# --- C. THE UI WRAPPER ---\n",
    "\n",
    "# --- MODIFIED ---\n",
    "def plot_walk_forward_analyzer(df_ohlcv, \n",
    "                               default_start_date=None, default_calc_period='3M', default_fwd_period='1M',\n",
    "                               default_metric='Sharpe (ATR)', default_rank_start=1, default_rank_end=10,\n",
    "                               default_benchmark_ticker='VOO'):\n",
    "    print(\"Initializing Walk-Forward Analyzer...\")\n",
    "    if not isinstance(df_ohlcv.index, pd.MultiIndex): raise ValueError(\"Input DataFrame must have a (Ticker, Date) MultiIndex.\")\n",
    "    df_ohlcv = df_ohlcv.sort_index()\n",
    "    print(\"Pre-processing data (unstacking)...\")\n",
    "    df_close_full = df_ohlcv['Adj Close'].unstack(level=0)\n",
    "    df_high_full = df_ohlcv['Adj High'].unstack(level=0)\n",
    "    df_low_full = df_ohlcv['Adj Low'].unstack(level=0)\n",
    "    \n",
    "    start_date_picker = widgets.DatePicker(description='Start Date:', value=pd.to_datetime(default_start_date), disabled=False)\n",
    "    calc_period_options = {'1M': pd.DateOffset(months=1), '3M': pd.DateOffset(months=3), '6M': pd.DateOffset(months=6), '1Y': pd.DateOffset(years=1)}\n",
    "    fwd_period_options = {'0D': pd.DateOffset(days=0), '1W': pd.DateOffset(weeks=1), '2W': pd.DateOffset(weeks=2), '1M': pd.DateOffset(months=1), '3M': pd.DateOffset(months=3)}\n",
    "    calc_period_dropdown = widgets.Dropdown(options=calc_period_options.keys(), value=default_calc_period, description='Calc Period:')\n",
    "    fwd_period_dropdown = widgets.Dropdown(options=fwd_period_options.keys(), value=default_fwd_period, description='Fwd Period:')\n",
    "    metrics = ['Price', 'Sharpe', 'Sharpe (ATR)']\n",
    "    metric_dropdown = widgets.Dropdown(options=metrics, value=default_metric, description='Metric:')\n",
    "    rank_options = [1, 5, 10, 20, 30, 40, 50, 75, 100]\n",
    "    rank_start_dropdown = widgets.Dropdown(options=rank_options, value=default_rank_start, description='Rank Start:')\n",
    "    rank_end_dropdown = widgets.Dropdown(options=rank_options, value=default_rank_end, description='Rank End:')\n",
    "    benchmark_ticker_input = widgets.Text(value=default_benchmark_ticker, description='Benchmark:', placeholder='Enter Ticker')\n",
    "    update_button = widgets.Button(description=\"Update Chart\", button_style='primary')\n",
    "    ticker_list_output = widgets.Output()\n",
    "    results_container = [None]\n",
    "    \n",
    "    fig = go.FigureWidget()\n",
    "    max_traces = 50\n",
    "    for i in range(max_traces): fig.add_trace(go.Scatter(x=[None], y=[None], mode='lines', name=f'placeholder_{i}', visible=False, showlegend=False))\n",
    "    fig.add_trace(go.Scatter(x=[None], y=[None], mode='lines', name='Benchmark', visible=True, showlegend=True, line=dict(color='black', width=3, dash='dash')))\n",
    "    fig.add_trace(go.Scatter(x=[None], y=[None], mode='lines', name='Group Portfolio', visible=True, showlegend=True, line=dict(color='green', width=3)))\n",
    "\n",
    "    def update_plot(button_click):\n",
    "        ticker_list_output.clear_output()\n",
    "        start_date = pd.to_datetime(start_date_picker.value)\n",
    "        calc_period = calc_period_options[calc_period_dropdown.value]; fwd_period = fwd_period_options[fwd_period_dropdown.value]\n",
    "        metric = metric_dropdown.value; rank_start, rank_end = rank_start_dropdown.value, rank_end_dropdown.value\n",
    "        benchmark_ticker = benchmark_ticker_input.value.strip().upper()\n",
    "        if rank_start > rank_end:\n",
    "            with ticker_list_output: print(\"Error: 'Rank Start' must be <= 'Rank End'.\"); return\n",
    "\n",
    "        results = run_walk_forward_step(df_close_full, df_high_full, df_low_full, start_date, calc_period, fwd_period, metric, rank_start, rank_end, benchmark_ticker)\n",
    "        \n",
    "        if results['error']:\n",
    "            with ticker_list_output: print(f\"Error: {results['error']}\")\n",
    "            return\n",
    "            \n",
    "        with fig.batch_update():\n",
    "            for i in range(max_traces):\n",
    "                trace = fig.data[i]\n",
    "                if i < len(results['tickers_to_display']):\n",
    "                    ticker = results['tickers_to_display'][i]\n",
    "                    trace.x, trace.y, trace.name = results['normalized_plot_data'].index, results['normalized_plot_data'][ticker], ticker\n",
    "                    trace.visible, trace.showlegend = True, True\n",
    "                else: trace.visible, trace.showlegend = False, False\n",
    "            benchmark_trace = fig.data[max_traces]\n",
    "            if results['benchmark_price_series'] is not None and not results['benchmark_price_series'].dropna().empty:\n",
    "                normalized_benchmark = results['benchmark_price_series'] / results['benchmark_price_series'].bfill().iloc[0]\n",
    "                benchmark_trace.x, benchmark_trace.y = normalized_benchmark.index, normalized_benchmark\n",
    "                benchmark_trace.name = f\"Benchmark ({benchmark_ticker})\"; benchmark_trace.visible = True\n",
    "            else: benchmark_trace.visible = False\n",
    "            portfolio_trace = fig.data[max_traces + 1]\n",
    "            portfolio_trace.x, portfolio_trace.y = results['portfolio_series'].index, results['portfolio_series']\n",
    "            portfolio_trace.name = 'Group Portfolio'; portfolio_trace.visible = True\n",
    "            fig.layout.shapes = []; fig.add_shape(type=\"line\", x0=results['actual_calc_end_ts'], y0=0, x1=results['actual_calc_end_ts'], y1=1, xref='x', yref='paper', line=dict(color=\"grey\", width=2, dash=\"dash\"))\n",
    "            \n",
    "        results_container[0] = results['results_df']\n",
    "        \n",
    "        with ticker_list_output:\n",
    "            print(f\"Analyzing from {results['safe_start_date'].date()} to {results['safe_viz_end_date'].date()}.\")\n",
    "            print(f\"  - Ranking based on performance from {results['safe_start_date'].date()} to {results['actual_calc_end_ts'].date()}.\")\n",
    "            pprint.pprint(results['tickers_to_display'], width=120, compact=True)\n",
    "            \n",
    "            p = results['performance_data']\n",
    "            rows = []\n",
    "            has_benchmark = not np.isnan(p['full_b_gain'])\n",
    "            \n",
    "            rows.append({'Metric': 'Group Portfolio Gain', 'Full': p['full_p_gain'], 'Calc': p['calc_p_gain'], 'Fwd': p['fwd_p_gain']})\n",
    "            if has_benchmark:\n",
    "                rows.append({'Metric': f'Benchmark ({benchmark_ticker}) Gain', 'Full': p['full_b_gain'], 'Calc': p['calc_b_gain'], 'Fwd': p['fwd_b_gain']})\n",
    "                rows.append({'Metric': 'Gain Delta (vs Bm)', 'Full': p['full_p_gain'] - p['full_b_gain'], 'Calc': p['calc_p_gain'] - p['calc_b_gain'], 'Fwd': p['fwd_p_gain'] - p['fwd_b_gain']})\n",
    "            \n",
    "            rows.append({'Metric': 'Group Portfolio Sharpe', 'Full': p['full_p_sharpe'], 'Calc': p['calc_p_sharpe'], 'Fwd': p['fwd_p_sharpe']})\n",
    "            if has_benchmark:\n",
    "                rows.append({'Metric': f'Benchmark ({benchmark_ticker}) Sharpe', 'Full': p['full_b_sharpe'], 'Calc': p['calc_b_sharpe'], 'Fwd': p['fwd_b_sharpe']})\n",
    "                rows.append({'Metric': 'Sharpe Delta (vs Bm)', 'Full': p['full_p_sharpe'] - p['full_b_sharpe'], 'Calc': p['calc_p_sharpe'] - p['calc_b_sharpe'], 'Fwd': p['fwd_p_sharpe'] - p['fwd_b_sharpe']})\n",
    "\n",
    "            # --- Add Sharpe (ATR) rows ---\n",
    "            rows.append({'Metric': 'Group Portfolio Sharpe (ATR)', 'Full': p['full_p_sharpe_atr'], 'Calc': p['calc_p_sharpe_atr'], 'Fwd': p['fwd_p_sharpe_atr']})\n",
    "            if has_benchmark:\n",
    "                rows.append({'Metric': f'Benchmark ({benchmark_ticker}) Sharpe (ATR)', 'Full': p['full_b_sharpe_atr'], 'Calc': p['calc_b_sharpe_atr'], 'Fwd': p['fwd_b_sharpe_atr']})\n",
    "                rows.append({'Metric': 'Sharpe (ATR) Delta (vs Bm)', 'Full': p['full_p_sharpe_atr'] - p['full_b_sharpe_atr'], 'Calc': p['calc_p_sharpe_atr'] - p['calc_b_sharpe_atr'], 'Fwd': p['fwd_p_sharpe_atr'] - p['fwd_b_sharpe_atr']})\n",
    "\n",
    "            report_df = pd.DataFrame(rows).set_index('Metric')\n",
    "            gain_rows = [row for row in report_df.index if 'Gain' in row]\n",
    "            sharpe_rows = [row for row in report_df.index if 'Sharpe' in row] # This will catch both Sharpe types\n",
    "            \n",
    "            # Note: For Sharpe (ATR), the number is a raw ratio, not annualized, so a different format might be desired. We'll use {:+.4f} for it.\n",
    "            sharpe_std_rows = [r for r in sharpe_rows if '(ATR)' not in r]\n",
    "            sharpe_atr_rows = [r for r in sharpe_rows if '(ATR)' in r]\n",
    "\n",
    "            styled_df = report_df.style \\\n",
    "                .format('{:+.2%}', na_rep='N/A', subset=(gain_rows, report_df.columns)) \\\n",
    "                .format('{:+.2f}', na_rep='N/A', subset=(sharpe_std_rows, report_df.columns)) \\\n",
    "                .format('{:+.4f}', na_rep='N/A', subset=(sharpe_atr_rows, report_df.columns)) \\\n",
    "                .set_properties(**{'text-align': 'right', 'width': '100px'}) \\\n",
    "                .set_table_styles([{'selector': 'th.col_heading', 'props': [('text-align', 'right')]}, {'selector': 'th.row_heading', 'props': [('text-align', 'left')]}])\n",
    "\n",
    "            print(\"\\n--- Strategy Performance Summary ---\")\n",
    "            display(styled_df)\n",
    "            \n",
    "    fig.update_layout(title_text='Walk-Forward Performance Analysis', xaxis_title='Date', yaxis_title='Normalized Price (Start = 1)', hovermode='x unified', legend_title_text='Tickers (Ranked)', height=700, margin=dict(t=50))\n",
    "    fig.add_hline(y=1, line_width=1, line_dash=\"dash\", line_color=\"grey\")\n",
    "    update_button.on_click(update_plot)\n",
    "    controls_row1 = widgets.HBox([start_date_picker, calc_period_dropdown, fwd_period_dropdown])\n",
    "    controls_row2 = widgets.HBox([metric_dropdown, rank_start_dropdown, rank_end_dropdown, benchmark_ticker_input, update_button])\n",
    "    ui_container = widgets.VBox([controls_row1, controls_row2, ticker_list_output], layout=widgets.Layout(margin='10px 0 20px 0'))\n",
    "    display(ui_container, fig)\n",
    "    update_plot(None)\n",
    "    return results_container\n",
    "\n",
    "# --- D. VERIFICATION TOOLS ---\n",
    "# --- REVISED VERIFICATION FUNCTION (v2) ---\n",
    "# This function is the only one that needs to be updated.\n",
    "# It now calculates and displays the Sharpe (ATR) metric for verification.\n",
    "def verify_group_tickers_walk_forward_calculation(df_ohlcv, tickers_to_verify, benchmark_ticker,\n",
    "                                                  start_date, calc_period, fwd_period, export_csv=False):\n",
    "    display(Markdown(f\"## Verification Report for Portfolio vs. Benchmark\"))\n",
    "    display(Markdown(f\"**Portfolio Tickers:** `{tickers_to_verify}`\"))\n",
    "    display(Markdown(f\"**Benchmark Ticker:** `{benchmark_ticker}`\"))\n",
    "    period_options = { '1M': pd.DateOffset(months=1), '3M': pd.DateOffset(months=3), '6M': pd.DateOffset(months=6), '1Y': pd.DateOffset(years=1), '0D': pd.DateOffset(days=0), '1W': pd.DateOffset(weeks=1), '2W': pd.DateOffset(weeks=2) }\n",
    "\n",
    "    # --- MODIFICATION: Unstack High and Low data as well ---\n",
    "    df_close_full = df_ohlcv['Adj Close'].unstack(level=0)\n",
    "    df_high_full = df_ohlcv['Adj High'].unstack(level=0)\n",
    "    df_low_full = df_ohlcv['Adj Low'].unstack(level=0)\n",
    "\n",
    "    start_date_ts = pd.to_datetime(start_date)\n",
    "    calc_offset = period_options[calc_period]; fwd_offset = period_options[fwd_period]\n",
    "    calc_end_date_ts_theoretical = start_date_ts + calc_offset\n",
    "    fwd_end_date_ts_theoretical = calc_end_date_ts_theoretical + fwd_offset\n",
    "    actual_calc_end_ts = df_close_full.loc[start_date_ts:calc_end_date_ts_theoretical].index.max()\n",
    "    \n",
    "    display(Markdown(f\"**Analysis Start Date:** `{start_date_ts.date()}`\"))\n",
    "    display(Markdown(f\"**Calculation Period End Date:** `{actual_calc_end_ts.date()}`\"))\n",
    "    display(Markdown(f\"**Forward Period End Date:** `{fwd_end_date_ts_theoretical.date()}`\"))\n",
    "\n",
    "    # --- MODIFICATION: Create synthetic portfolio series for High and Low ---\n",
    "    analysis_slice = slice(start_date_ts, fwd_end_date_ts_theoretical)\n",
    "    portfolio_close_raw = df_close_full[tickers_to_verify].loc[analysis_slice]\n",
    "    portfolio_high_raw = df_high_full[tickers_to_verify].loc[analysis_slice]\n",
    "    portfolio_low_raw = df_low_full[tickers_to_verify].loc[analysis_slice]\n",
    "\n",
    "    # Normalize all series by the first 'Adj Close' price for consistency\n",
    "    first_close_prices = portfolio_close_raw.bfill().iloc[0]\n",
    "    normalized_portfolio_close = portfolio_close_raw.div(first_close_prices)\n",
    "    normalized_portfolio_high = portfolio_high_raw.div(first_close_prices)\n",
    "    normalized_portfolio_low = portfolio_low_raw.div(first_close_prices)\n",
    "\n",
    "    # Average the normalized series to create the final portfolio series\n",
    "    portfolio_value_series = normalized_portfolio_close.mean(axis=1)\n",
    "    portfolio_high_series = normalized_portfolio_high.mean(axis=1)\n",
    "    portfolio_low_series = normalized_portfolio_low.mean(axis=1)\n",
    "\n",
    "    try:\n",
    "        benchmark_price_series = df_close_full[benchmark_ticker]\n",
    "        benchmark_high_series = df_high_full[benchmark_ticker]\n",
    "        benchmark_low_series = df_low_full[benchmark_ticker]\n",
    "    except KeyError as e:\n",
    "        print(f\"---! ERROR: Ticker {e} not found !---\"); return\n",
    "\n",
    "    # --- MODIFICATION: Update inner helper to calculate Sharpe (ATR) ---\n",
    "    def print_verification_steps(title, price_series, high_series, low_series):\n",
    "        display(Markdown(f\"#### Verification for: `{title}`\"))\n",
    "        if price_series.dropna().shape[0] < 2:\n",
    "            print(\"  - Not enough data points.\")\n",
    "            return {'gain': np.nan, 'sharpe': np.nan, 'sharpe_atr': np.nan}\n",
    "        \n",
    "        # Gain calculation\n",
    "        start_price = price_series.bfill().iloc[0]; end_price = price_series.ffill().iloc[-1]\n",
    "        gain = (end_price / start_price) - 1\n",
    "        print(f\"  - Start Value (on {price_series.first_valid_index().date()}): {start_price:,.4f}\\n  - End Value   (on {price_series.last_valid_index().date()}): {end_price:,.4f}\\n  - Gain = ({end_price:,.4f} / {start_price:,.4f}) - 1 = {gain:.2%}\")\n",
    "        \n",
    "        returns = price_series.pct_change()\n",
    "        mean_return = returns.mean()\n",
    "        \n",
    "        # Standard Sharpe calculation\n",
    "        std_return = returns.std()\n",
    "        sharpe = (mean_return / std_return * np.sqrt(252)) if std_return > 0 and std_return != np.inf else np.nan\n",
    "        print(f\"\\n  - Mean Daily Return: {mean_return:.6f}\\n  - Std Dev of Daily Return: {std_return:.6f}\\n  - Sharpe = ({mean_return:.6f} / {std_return:.6f}) * sqrt(252) = {sharpe:.2f}\")\n",
    "\n",
    "        # Sharpe (ATR) calculation\n",
    "        sharpe_atr = calculate_sharpe_atr(price_series, high_series, low_series)\n",
    "        # We need to calculate ATRP here again to display it\n",
    "        tr = np.maximum(high_series - low_series, abs(high_series - price_series.shift(1)), abs(low_series - price_series.shift(1)))\n",
    "        atr = tr.ewm(alpha=1/14, adjust=False).mean()\n",
    "        atrp_mean = (atr / price_series).mean()\n",
    "        print(f\"\\n  - Average ATR Percent (ATRP): {atrp_mean:.6f}\\n  - Sharpe (ATR) = {mean_return:.6f} / {atrp_mean:.6f} = {sharpe_atr:.4f}\")\n",
    "\n",
    "        return {'gain': gain, 'sharpe': sharpe, 'sharpe_atr': sharpe_atr}\n",
    "\n",
    "    display(Markdown(\"### A. Calculation Period Analysis ('In-Sample')\"))\n",
    "    perf_calc_p = print_verification_steps(\"Group Portfolio\", portfolio_value_series.loc[:actual_calc_end_ts], portfolio_high_series.loc[:actual_calc_end_ts], portfolio_low_series.loc[:actual_calc_end_ts])\n",
    "    perf_calc_b = print_verification_steps(f\"Benchmark ({benchmark_ticker})\", benchmark_price_series.loc[:actual_calc_end_ts], benchmark_high_series.loc[:actual_calc_end_ts], benchmark_low_series.loc[:actual_calc_end_ts])\n",
    "    \n",
    "    display(Markdown(\"\\n### B. Forward Period Analysis ('Moment of Truth')\"))\n",
    "    perf_fwd_p = print_verification_steps(\"Group Portfolio\", portfolio_value_series.loc[actual_calc_end_ts:], portfolio_high_series.loc[actual_calc_end_ts:], portfolio_low_series.loc[actual_calc_end_ts:])\n",
    "    perf_fwd_b = print_verification_steps(f\"Benchmark ({benchmark_ticker})\", benchmark_price_series.loc[actual_calc_end_ts:fwd_end_date_ts_theoretical], benchmark_high_series.loc[actual_calc_end_ts:fwd_end_date_ts_theoretical], benchmark_low_series.loc[actual_calc_end_ts:fwd_end_date_ts_theoretical])\n",
    "    \n",
    "    display(Markdown(\"\\n### C. Full Period Analysis (Total)\"))\n",
    "    perf_full_p = print_verification_steps(\"Group Portfolio\", portfolio_value_series, portfolio_high_series, portfolio_low_series)\n",
    "    perf_full_b = print_verification_steps(f\"Benchmark ({benchmark_ticker})\", benchmark_price_series.loc[analysis_slice], benchmark_high_series.loc[analysis_slice], benchmark_low_series.loc[analysis_slice])\n",
    "    \n",
    "    display(Markdown(\"\\n### D. Final Summary Table (matches analyzer output)\"))\n",
    "    rows = []\n",
    "    # Gain Rows\n",
    "    rows.append({'Metric': 'Group Portfolio Gain', 'Full': perf_full_p['gain'], 'Calc': perf_calc_p['gain'], 'Fwd': perf_fwd_p['gain']})\n",
    "    rows.append({'Metric': f'Benchmark ({benchmark_ticker}) Gain', 'Full': perf_full_b['gain'], 'Calc': perf_calc_b['gain'], 'Fwd': perf_fwd_b['gain']})\n",
    "    rows.append({'Metric': 'Gain Delta (vs Bm)', 'Full': perf_full_p['gain'] - perf_full_b['gain'], 'Calc': perf_calc_p['gain'] - perf_calc_b['gain'], 'Fwd': perf_fwd_p['gain'] - perf_fwd_b['gain']})\n",
    "    # Standard Sharpe Rows\n",
    "    rows.append({'Metric': 'Group Portfolio Sharpe', 'Full': perf_full_p['sharpe'], 'Calc': perf_calc_p['sharpe'], 'Fwd': perf_fwd_p['sharpe']})\n",
    "    rows.append({'Metric': f'Benchmark ({benchmark_ticker}) Sharpe', 'Full': perf_full_b['sharpe'], 'Calc': perf_calc_b['sharpe'], 'Fwd': perf_fwd_b['sharpe']})\n",
    "    rows.append({'Metric': 'Sharpe Delta (vs Bm)', 'Full': perf_full_p['sharpe'] - perf_full_b['sharpe'], 'Calc': perf_calc_p['sharpe'] - perf_calc_b['sharpe'], 'Fwd': perf_fwd_p['sharpe'] - perf_fwd_b['sharpe']})\n",
    "    # --- MODIFICATION: Add Sharpe (ATR) rows ---\n",
    "    rows.append({'Metric': 'Group Portfolio Sharpe (ATR)', 'Full': perf_full_p['sharpe_atr'], 'Calc': perf_calc_p['sharpe_atr'], 'Fwd': perf_fwd_p['sharpe_atr']})\n",
    "    rows.append({'Metric': f'Benchmark ({benchmark_ticker}) Sharpe (ATR)', 'Full': perf_full_b['sharpe_atr'], 'Calc': perf_calc_b['sharpe_atr'], 'Fwd': perf_fwd_b['sharpe_atr']})\n",
    "    rows.append({'Metric': 'Sharpe (ATR) Delta (vs Bm)', 'Full': perf_full_p['sharpe_atr'] - perf_full_b['sharpe_atr'], 'Calc': perf_calc_p['sharpe_atr'] - perf_calc_b['sharpe_atr'], 'Fwd': perf_fwd_p['sharpe_atr'] - perf_fwd_b['sharpe_atr']})\n",
    "\n",
    "    report_df = pd.DataFrame(rows).set_index('Metric')\n",
    "    \n",
    "    # --- MODIFICATION: Update styling logic for new rows ---\n",
    "    gain_rows = [row for row in report_df.index if 'Gain' in row]\n",
    "    sharpe_std_rows = [row for row in report_df.index if 'Sharpe' in row and '(ATR)' not in row]\n",
    "    sharpe_atr_rows = [row for row in report_df.index if 'Sharpe (ATR)' in row]\n",
    "    \n",
    "    styled_df = report_df.style \\\n",
    "        .format('{:+.2%}', na_rep='N/A', subset=(gain_rows, report_df.columns)) \\\n",
    "        .format('{:+.2f}', na_rep='N/A', subset=(sharpe_std_rows, report_df.columns)) \\\n",
    "        .format('{:+.4f}', na_rep='N/A', subset=(sharpe_atr_rows, report_df.columns)) \\\n",
    "        .set_properties(**{'text-align': 'right', 'width': '100px'}) \\\n",
    "        .set_table_styles([{'selector': 'th.col_heading', 'props': [('text-align', 'right')]}, {'selector': 'th.row_heading', 'props': [('text-align', 'left')]}])\n",
    "        \n",
    "    display(styled_df)\n",
    "    \n",
    "    if export_csv:\n",
    "        export_df = pd.DataFrame({\n",
    "            'Portfolio_Value_Normalized': portfolio_value_series,\n",
    "            'Portfolio_Return': portfolio_value_series.pct_change(),\n",
    "            f'Benchmark_Price_{benchmark_ticker}': benchmark_price_series\n",
    "        })\n",
    "        filename = f\"verification_group_tickers_{start_date_ts.strftime('%Y%m%d')}.csv\"\n",
    "        export_df.to_csv(filename, float_format='%.6f')\n",
    "        print(f\"\\n✅ Detailed group verification data exported to '{filename}'\")\n",
    "        \n",
    "def verify_ticker_ranking_metrics_obsolete(df_ohlcv, \n",
    "                                  ticker, \n",
    "                                  start_date, \n",
    "                                  calc_period, \n",
    "                                  fwd_period, \n",
    "                                  export_csv=False):\n",
    "    display(Markdown(f\"## Verification Report for Ticker Ranking: `{ticker}`\"))\n",
    "    period_options = { '1M': pd.DateOffset(months=1), '3M': pd.DateOffset(months=3), '6M': pd.DateOffset(months=6), '1Y': pd.DateOffset(years=1), '0D': pd.DateOffset(days=0), '1W': pd.DateOffset(weeks=1), '2W': pd.DateOffset(weeks=2) }\n",
    "    try: df_ticker = df_ohlcv.loc[ticker].sort_index()\n",
    "    except KeyError: print(f\"---! ERROR: Ticker '{ticker}' not found !---\"); return\n",
    "    start_date_ts = pd.to_datetime(start_date)\n",
    "    calc_offset = period_options[calc_period]; fwd_offset = period_options[fwd_period]\n",
    "    calc_end_date_ts = start_date_ts + calc_offset; fwd_end_date_ts = calc_end_date_ts + fwd_offset\n",
    "    display(Markdown(f\"**Analysis Start Date:** `{start_date_ts.date()}`\"))\n",
    "    display(Markdown(f\"**Requested Calculation Period:** `{start_date_ts.date()}` to `{calc_end_date_ts.date()}`\"))\n",
    "    display(Markdown(f\"**Requested Forward Period:**   `{calc_end_date_ts.date()}` to `{fwd_end_date_ts.date()}`\"))\n",
    "    display(Markdown(\"### A. Calculation Period Analysis (for Ranking Metrics)\"))\n",
    "    calc_df = df_ticker.loc[start_date_ts:calc_end_date_ts].copy()\n",
    "    if calc_df['Adj Close'].notna().sum() < 2: print(\"\\n---! ERROR: Not enough data points !---\"); return\n",
    "    actual_calc_end_date = calc_df.index.max().date()\n",
    "    display(Markdown(f\"**Actual Dates Used:** `{calc_df.index.min().date()}` to `{actual_calc_end_date}`\"))\n",
    "    calc_gain = calculate_gain(calc_df['Adj Close'])\n",
    "    calc_start_price = calc_df['Adj Close'].bfill().iloc[0]\n",
    "    calc_end_price = calc_df['Adj Close'].ffill().iloc[-1]\n",
    "    display(Markdown(\"#### `CalcGain` Verification:\"))\n",
    "    print(f\"  - Calc Start Price: ${calc_start_price:.2f}\\n  - Calc End Price:   ${calc_end_price:.2f}  <-- 'CalcPrice'\\n  - CalcGain = {calc_gain:.2%}\")\n",
    "    display(Markdown(\"#### `MetricValue` Verification:\"))\n",
    "    price_metric = (calc_end_price / calc_start_price)\n",
    "    print(f\"\\n1. Price Metric:\\n   - Formula: Last Price / First Price = {price_metric:.4f}\")\n",
    "    daily_returns = calc_df['Adj Close'].bfill().ffill().pct_change()\n",
    "    sharpe_ratio = calculate_sharpe(daily_returns)\n",
    "    print(f\"\\n2. Sharpe Metric:\\n   - Mean Daily Return: {daily_returns.mean():.6f}\\n   - Std Dev Daily Return: {daily_returns.std():.6f}\\n   - Annualized Sharpe = {sharpe_ratio:.4f}\")\n",
    "    print(f\"\\n3. Sharpe (ATR) Metric:\")\n",
    "    tr = np.maximum(calc_df['Adj High'] - calc_df['Adj Low'], abs(calc_df['Adj High'] - calc_df['Adj Close'].shift(1)), abs(calc_df['Adj Low'] - calc_df['Adj Close'].shift(1)))\n",
    "    atr = tr.ewm(alpha=1/14, adjust=False).mean()\n",
    "    atrp_series = atr / calc_df['Adj Close']\n",
    "    atrp_mean = atrp_series.mean()\n",
    "    sharpe_atr = (daily_returns.mean() / atrp_mean) if atrp_mean > 0 else 0\n",
    "    print(f\"   - Mean Daily Return: {daily_returns.mean():.6f} (same as above)\\n   - Average ATR Percent (ATRP): {atrp_mean:.6f}\\n   - Sharpe (ATR) = {sharpe_atr:.4f}\")\n",
    "    display(Markdown(\"\\n### B. Forward Period Analysis (`FwdGain`)\"))\n",
    "    fwd_df = df_ticker.loc[actual_calc_end_date:fwd_end_date_ts].copy()\n",
    "    fwd_gain = calculate_gain(fwd_df['Adj Close'])\n",
    "    fwd_end_price = fwd_df['Adj Close'].ffill().iloc[-1] if fwd_gain is not np.nan else calc_end_price\n",
    "    print(f\"  - Fwd Start Price (Calc End Price): ${calc_end_price:.2f}\\n  - Fwd End Price: ${fwd_end_price:.2f}\\n  - FwdGain = {fwd_gain:.2%}\")\n",
    "    display(Markdown(\"\\n### C. Final Summary Table\"))\n",
    "    summary_data = {'Metric': ['Price', 'Sharpe', 'Sharpe (ATR)'], 'Calculated Value': [f\"{price_metric:.4f}\", f\"{sharpe_ratio:.4f}\", f\"{sharpe_atr:.4f}\"], 'Corresponds To': ['`MetricValue`', '`MetricValue`', '`MetricValue`'], '---': ['---','---','---'], 'Gain Metric': ['Calc Period Gain', 'Forward Period Gain'], 'Gain Value': [f\"{calc_gain:.2%}\", f\"{fwd_gain:.2%}\"], 'Gain Corresponds To': ['`CalcGain`', '`FwdGain`']}\n",
    "    summary_df = pd.DataFrame(summary_data)\n",
    "    display(summary_df.style.hide(axis=\"index\"))\n",
    "    \n",
    "    if export_csv:\n",
    "        calc_df['Period'] = 'Calculation'; calc_df['Daily_Return'] = daily_returns; calc_df['True_Range'] = tr; calc_df['ATR_14'] = atr; calc_df['ATRP'] = atrp_series\n",
    "        fwd_df['Period'] = 'Forward'\n",
    "        combined_df = pd.concat([calc_df, fwd_df.iloc[1:]])\n",
    "        filename = f\"verification_ticker_{ticker}_{start_date_ts.strftime('%Y%m%d')}.csv\"\n",
    "        combined_df.to_csv(filename, float_format='%.6f')\n",
    "        print(f\"\\n✅ Detailed ticker data exported to '{filename}'\")\n",
    "\n",
    "\n",
    "def verify_ticker_ranking_metrics(df_ohlcv, \n",
    "                                  ticker, \n",
    "                                  start_date, \n",
    "                                  calc_period, \n",
    "                                  fwd_period, \n",
    "                                  export_csv=False):\n",
    "    display(Markdown(f\"## Verification Report for Ticker Ranking: `{ticker}`\"))\n",
    "    period_options = { '1M': pd.DateOffset(months=1), '3M': pd.DateOffset(months=3), '6M': pd.DateOffset(months=6), '1Y': pd.DateOffset(years=1), '0D': pd.DateOffset(days=0), '1W': pd.DateOffset(weeks=1), '2W': pd.DateOffset(weeks=2) }\n",
    "    try: df_ticker = df_ohlcv.loc[ticker].sort_index()\n",
    "    except KeyError: print(f\"---! ERROR: Ticker '{ticker}' not found !---\"); return\n",
    "    start_date_ts = pd.to_datetime(start_date)\n",
    "    calc_offset = period_options[calc_period]; fwd_offset = period_options[fwd_period]\n",
    "    calc_end_date_ts = start_date_ts + calc_offset; fwd_end_date_ts = calc_end_date_ts + fwd_offset\n",
    "    display(Markdown(f\"**Analysis Start Date:** `{start_date_ts.date()}`\"))\n",
    "    display(Markdown(f\"**Requested Calculation Period:** `{start_date_ts.date()}` to `{calc_end_date_ts.date()}`\"))\n",
    "    display(Markdown(f\"**Requested Forward Period:**   `{calc_end_date_ts.date()}` to `{fwd_end_date_ts.date()}`\"))\n",
    "    display(Markdown(\"### A. Calculation Period Analysis (for Ranking Metrics)\"))\n",
    "    calc_df = df_ticker.loc[start_date_ts:calc_end_date_ts].copy()\n",
    "    if calc_df['Adj Close'].notna().sum() < 2: print(\"\\n---! ERROR: Not enough data points !---\"); return\n",
    "    actual_calc_end_date = calc_df.index.max().date()\n",
    "    display(Markdown(f\"**Actual Dates Used:** `{calc_df.index.min().date()}` to `{actual_calc_end_date}`\"))\n",
    "    calc_gain = calculate_gain(calc_df['Adj Close'])\n",
    "    calc_start_price = calc_df['Adj Close'].bfill().iloc[0]\n",
    "    calc_end_price = calc_df['Adj Close'].ffill().iloc[-1]\n",
    "    display(Markdown(\"#### `CalcGain` Verification:\"))\n",
    "    print(f\"  - Calc Start Price: ${calc_start_price:.2f}\\n  - Calc End Price:   ${calc_end_price:.2f}  <-- 'CalcPrice'\\n  - CalcGain = {calc_gain:.2%}\")\n",
    "    display(Markdown(\"#### `MetricValue` Verification:\"))\n",
    "    price_metric = (calc_end_price / calc_start_price)\n",
    "    print(f\"\\n1. Price Metric:\\n   - Formula: Last Price / First Price = {price_metric:.4f}\")\n",
    "    daily_returns = calc_df['Adj Close'].bfill().ffill().pct_change()\n",
    "    sharpe_ratio = calculate_sharpe(daily_returns)\n",
    "    print(f\"\\n2. Sharpe Metric:\\n   - Mean Daily Return: {daily_returns.mean():.6f}\\n   - Std Dev Daily Return: {daily_returns.std():.6f}\\n   - Annualized Sharpe = {sharpe_ratio:.4f}\")\n",
    "    print(f\"\\n3. Sharpe (ATR) Metric:\")\n",
    "    tr = np.maximum(calc_df['Adj High'] - calc_df['Adj Low'], abs(calc_df['Adj High'] - calc_df['Adj Close'].shift(1)), abs(calc_df['Adj Low'] - calc_df['Adj Close'].shift(1)))\n",
    "    atr = tr.ewm(alpha=1/14, adjust=False).mean()\n",
    "    atrp_series = atr / calc_df['Adj Close']\n",
    "    atrp_mean = atrp_series.mean()\n",
    "    sharpe_atr = (daily_returns.mean() / atrp_mean) if atrp_mean > 0 else 0\n",
    "    print(f\"   - Mean Daily Return: {daily_returns.mean():.6f} (same as above)\\n   - Average ATR Percent (ATRP): {atrp_mean:.6f}\\n   - Sharpe (ATR) = {sharpe_atr:.4f}\")\n",
    "    display(Markdown(\"\\n### B. Forward Period Analysis (`FwdGain`)\"))\n",
    "    fwd_df = df_ticker.loc[actual_calc_end_date:fwd_end_date_ts].copy()\n",
    "    fwd_gain = calculate_gain(fwd_df['Adj Close'])\n",
    "    fwd_end_price = fwd_df['Adj Close'].ffill().iloc[-1] if fwd_gain is not np.nan else calc_end_price\n",
    "    print(f\"  - Fwd Start Price (Calc End Price): ${calc_end_price:.2f}\\n  - Fwd End Price: ${fwd_end_price:.2f}\\n  - FwdGain = {fwd_gain:.2%}\")\n",
    "    \n",
    "    # --- FIXED SECTION ---\n",
    "    display(Markdown(\"\\n### C. Final Summary Tables\"))\n",
    "    \n",
    "    # Create the first DataFrame for Ranking Metrics\n",
    "    metrics_summary_data = {\n",
    "        'Metric': ['Price', 'Sharpe', 'Sharpe (ATR)'],\n",
    "        'Calculated Value': [f\"{price_metric:.4f}\", f\"{sharpe_ratio:.4f}\", f\"{sharpe_atr:.4f}\"],\n",
    "        'Corresponds To': ['`MetricValue`', '`MetricValue`', '`MetricValue`']\n",
    "    }\n",
    "    metrics_df = pd.DataFrame(metrics_summary_data)\n",
    "    \n",
    "    # Create the second DataFrame for Gain Metrics\n",
    "    gains_summary_data = {\n",
    "        'Gain Metric': ['Calc Period Gain', 'Forward Period Gain'],\n",
    "        'Gain Value': [f\"{calc_gain:.2%}\", f\"{fwd_gain:.2%}\"],\n",
    "        'Corresponds To': ['`CalcGain`', '`FwdGain`']\n",
    "    }\n",
    "    gains_df = pd.DataFrame(gains_summary_data)\n",
    "\n",
    "    # Display both DataFrames separately\n",
    "    display(Markdown(\"#### Ranking Metric Values\"))\n",
    "    display(metrics_df.style.hide(axis=\"index\"))\n",
    "    \n",
    "    display(Markdown(\"#### Gain Values\"))\n",
    "    display(gains_df.style.hide(axis=\"index\"))\n",
    "    # --- END OF FIXED SECTION ---\n",
    "    \n",
    "    if export_csv:\n",
    "        calc_df['Period'] = 'Calculation'; calc_df['Daily_Return'] = daily_returns; calc_df['True_Range'] = tr; calc_df['ATR_14'] = atr; calc_df['ATRP'] = atrp_series\n",
    "        fwd_df['Period'] = 'Forward'\n",
    "        combined_df = pd.concat([calc_df, fwd_df.iloc[1:]])\n",
    "        filename = f\"verification_ticker_{ticker}_{start_date_ts.strftime('%Y%m%d')}.csv\"\n",
    "        combined_df.to_csv(filename, float_format='%.6f')\n",
    "        print(f\"\\n✅ Detailed ticker data exported to '{filename}'\")\n"
   ]
  },
  {
   "cell_type": "code",
   "execution_count": 11,
   "id": "701bbc80",
   "metadata": {},
   "outputs": [],
   "source": [
    "# # --- 1. SAMPLE DATA (for reproducibility) ---\n",
    "# date_rng = pd.date_range(start='2023-01-01', end='2023-10-31', freq='B')\n",
    "# tickers = ['CVNA', 'VRT', 'APP', 'SMCI', 'IONQ', 'XPO', 'XP', 'AD', 'USM', 'MOD', 'VOO', 'QQQ']\n",
    "# data = []\n",
    "# np.random.seed(42) # for reproducibility\n",
    "# for ticker in tickers:\n",
    "#     price = 100 + (np.random.randn(len(date_rng)).cumsum() * (0.5 if ticker != 'SMCI' else 2.5))\n",
    "#     high = price + np.random.uniform(0, 2, size=len(date_rng))\n",
    "#     low = price - np.random.uniform(0, 2, size=len(date_rng))\n",
    "#     open_price = price + np.random.uniform(-1, 1, size=len(date_rng))\n",
    "#     volume = np.random.randint(100000, 5000000, size=len(date_rng))\n",
    "#     ticker_df = pd.DataFrame({'Date': date_rng,'Ticker': ticker,'Adj Open': open_price,'Adj High': high,'Adj Low': low,'Adj Close': price,'Volume': volume})\n",
    "#     data.append(ticker_df)\n",
    "# df_full = pd.concat(data)\n",
    "# df_OHLCV = df_full.set_index(['Ticker', 'Date'])\n",
    "\n",
    "# # --- 2. TEST EXECUTION ---\n",
    "# test_start_date = '2023-04-01'\n",
    "# test_calc_period = '6M'\n",
    "# test_fwd_period = '2W'\n",
    "# test_metric = 'Price'\n",
    "# test_rank_start = 1\n",
    "# test_rank_end = 10\n",
    "# test_benchmark = 'VOO'"
   ]
  },
  {
   "cell_type": "code",
   "execution_count": 12,
   "id": "8b471e61",
   "metadata": {},
   "outputs": [
    {
     "name": "stdout",
     "output_type": "stream",
     "text": [
      "<class 'pandas.core.frame.DataFrame'>\n",
      "MultiIndex: 1094338 entries, ('AA', Timestamp('2025-09-25 00:00:00')) to ('ZWS', Timestamp('2023-01-03 00:00:00'))\n",
      "Data columns (total 5 columns):\n",
      " #   Column     Non-Null Count    Dtype  \n",
      "---  ------     --------------    -----  \n",
      " 0   Adj Open   1094338 non-null  float64\n",
      " 1   Adj High   1094338 non-null  float64\n",
      " 2   Adj Low    1094338 non-null  float64\n",
      " 3   Adj Close  1094338 non-null  float64\n",
      " 4   Volume     1094338 non-null  int64  \n",
      "dtypes: float64(4), int64(1)\n",
      "memory usage: 46.0+ MB\n",
      "df_OHLCV.info() :\n",
      "None\n",
      "\n",
      "df_OHLCV:\n",
      "                   Adj Open  Adj High  Adj Low  Adj Close   Volume\n",
      "Ticker Date                                                       \n",
      "AA     2025-09-25   31.2100   31.8450  30.8100    31.4500  5318714\n",
      "       2025-09-24   31.7600   32.0300  31.1050    31.2300  7167700\n",
      "       2025-09-23   32.6700   32.9700  31.0300    31.5300  7983300\n",
      "       2025-09-22   32.0000   32.6400  31.7900    32.6300  4758300\n",
      "       2025-09-19   32.7700   32.9900  32.2800    32.4600  6383100\n",
      "...                     ...       ...      ...        ...      ...\n",
      "ZWS    2023-01-09   21.7220   22.0817  21.5469    21.5567   596708\n",
      "       2023-01-06   20.9733   21.6636  20.7496    21.6150   584675\n",
      "       2023-01-05   21.1483   21.5080  20.6232    20.8760  1247821\n",
      "       2023-01-04   20.9149   21.1969  20.6329    21.1094  1264790\n",
      "       2023-01-03   20.8566   21.0316  20.5260    20.7205   963351\n",
      "\n",
      "[1094338 rows x 5 columns]\n"
     ]
    }
   ],
   "source": [
    "download_path = Path.home() / \"Downloads\"  \n",
    "# OHLCV_file_path = r'c:\\Users\\ping\\Files_win10\\python\\py311\\stocks\\data\\df_OHLCV_clean_stocks_etfs.parquet'\n",
    "OHLCV_file_path = r'c:\\Users\\ping\\Files_win10\\python\\py311\\stocks\\data\\df_OHLCV_stocks_etfs.parquet'\n",
    "\n",
    "df_OHLCV = pd.read_parquet(OHLCV_file_path, engine='pyarrow')\n",
    "print(f'df_OHLCV.info() :\\n{df_OHLCV.info()}')\n",
    "print(f'\\ndf_OHLCV:\\n{df_OHLCV}')"
   ]
  },
  {
   "cell_type": "code",
   "execution_count": 13,
   "id": "93a5fcf6",
   "metadata": {},
   "outputs": [],
   "source": [
    "# --- 2. TEST EXECUTION ---\n",
    "test_start_date = '2023-04-01'\n",
    "test_calc_period = '3M'\n",
    "test_fwd_period = '1W'\n",
    "test_metric = 'Sharpe (ATR)'\n",
    "test_rank_start = 1\n",
    "test_rank_end = 10\n",
    "test_benchmark = 'VOO'"
   ]
  },
  {
   "cell_type": "code",
   "execution_count": 14,
   "id": "eb9543d8",
   "metadata": {},
   "outputs": [
    {
     "name": "stdout",
     "output_type": "stream",
     "text": [
      "--- RUNNING REFACTORED CODE TEST ---\n",
      "Initializing Walk-Forward Analyzer...\n",
      "Pre-processing data (unstacking)...\n"
     ]
    },
    {
     "data": {
      "application/vnd.jupyter.widget-view+json": {
       "model_id": "cf8c22ca60e245dcaa2dfa8c72f0954f",
       "version_major": 2,
       "version_minor": 0
      },
      "text/plain": [
       "VBox(children=(HBox(children=(DatePicker(value=Timestamp('2023-04-01 00:00:00'), description='Start Date:', st…"
      ]
     },
     "metadata": {},
     "output_type": "display_data"
    },
    {
     "data": {
      "application/vnd.jupyter.widget-view+json": {
       "model_id": "2dbed724f89c4326aed96141ca24fc08",
       "version_major": 2,
       "version_minor": 0
      },
      "text/plain": [
       "FigureWidget({\n",
       "    'data': [{'mode': 'lines',\n",
       "              'name': 'placeholder_0',\n",
       "              'showlegend': False,\n",
       "              'type': 'scatter',\n",
       "              'uid': '524e8898-9e2a-4fa5-8d49-628e3a73209e',\n",
       "              'visible': False,\n",
       "              'x': [None],\n",
       "              'y': [None]},\n",
       "             {'mode': 'lines',\n",
       "              'name': 'placeholder_1',\n",
       "              'showlegend': False,\n",
       "              'type': 'scatter',\n",
       "              'uid': '9904cfea-23bf-4a02-9456-dae926b2e77b',\n",
       "              'visible': False,\n",
       "              'x': [None],\n",
       "              'y': [None]},\n",
       "             {'mode': 'lines',\n",
       "              'name': 'placeholder_2',\n",
       "              'showlegend': False,\n",
       "              'type': 'scatter',\n",
       "              'uid': '10084d19-b5f0-4597-8fc6-e619116c1cf7',\n",
       "              'visible': False,\n",
       "              'x': [None],\n",
       "              'y': [None]},\n",
       "             {'mode': 'lines',\n",
       "              'name': 'placeholder_3',\n",
       "              'showlegend': False,\n",
       "              'type': 'scatter',\n",
       "              'uid': 'c2de5a13-acfd-4c5e-83e9-b78a767ec371',\n",
       "              'visible': False,\n",
       "              'x': [None],\n",
       "              'y': [None]},\n",
       "             {'mode': 'lines',\n",
       "              'name': 'placeholder_4',\n",
       "              'showlegend': False,\n",
       "              'type': 'scatter',\n",
       "              'uid': 'aab39881-71c3-4591-b23d-f0079b9c104f',\n",
       "              'visible': False,\n",
       "              'x': [None],\n",
       "              'y': [None]},\n",
       "             {'mode': 'lines',\n",
       "              'name': 'placeholder_5',\n",
       "              'showlegend': False,\n",
       "              'type': 'scatter',\n",
       "              'uid': 'e438246d-1167-4674-bbd4-c37fc00ffb4e',\n",
       "              'visible': False,\n",
       "              'x': [None],\n",
       "              'y': [None]},\n",
       "             {'mode': 'lines',\n",
       "              'name': 'placeholder_6',\n",
       "              'showlegend': False,\n",
       "              'type': 'scatter',\n",
       "              'uid': 'be8ca3f9-a15a-479e-ba85-857716913a9f',\n",
       "              'visible': False,\n",
       "              'x': [None],\n",
       "              'y': [None]},\n",
       "             {'mode': 'lines',\n",
       "              'name': 'placeholder_7',\n",
       "              'showlegend': False,\n",
       "              'type': 'scatter',\n",
       "              'uid': '8201949a-30ce-42f3-bb61-722f7160109c',\n",
       "              'visible': False,\n",
       "              'x': [None],\n",
       "              'y': [None]},\n",
       "             {'mode': 'lines',\n",
       "              'name': 'placeholder_8',\n",
       "              'showlegend': False,\n",
       "              'type': 'scatter',\n",
       "              'uid': 'e1032dd5-1921-4492-94be-0190ff80a5a3',\n",
       "              'visible': False,\n",
       "              'x': [None],\n",
       "              'y': [None]},\n",
       "             {'mode': 'lines',\n",
       "              'name': 'placeholder_9',\n",
       "              'showlegend': False,\n",
       "              'type': 'scatter',\n",
       "              'uid': 'ae0e35dd-2400-43fe-b210-63c0b253c7f5',\n",
       "              'visible': False,\n",
       "              'x': [None],\n",
       "              'y': [None]},\n",
       "             {'mode': 'lines',\n",
       "              'name': 'placeholder_10',\n",
       "              'showlegend': False,\n",
       "              'type': 'scatter',\n",
       "              'uid': '048ebf74-0c26-4d56-a6e7-2c32beb11a2d',\n",
       "              'visible': False,\n",
       "              'x': [None],\n",
       "              'y': [None]},\n",
       "             {'mode': 'lines',\n",
       "              'name': 'placeholder_11',\n",
       "              'showlegend': False,\n",
       "              'type': 'scatter',\n",
       "              'uid': '2593b021-d0e3-4354-8c91-22c385b5d83b',\n",
       "              'visible': False,\n",
       "              'x': [None],\n",
       "              'y': [None]},\n",
       "             {'mode': 'lines',\n",
       "              'name': 'placeholder_12',\n",
       "              'showlegend': False,\n",
       "              'type': 'scatter',\n",
       "              'uid': 'dc423a0d-1bc1-4d99-93d1-a1b7b6db6939',\n",
       "              'visible': False,\n",
       "              'x': [None],\n",
       "              'y': [None]},\n",
       "             {'mode': 'lines',\n",
       "              'name': 'placeholder_13',\n",
       "              'showlegend': False,\n",
       "              'type': 'scatter',\n",
       "              'uid': 'de166dfe-926a-460b-92b8-a26b027b3478',\n",
       "              'visible': False,\n",
       "              'x': [None],\n",
       "              'y': [None]},\n",
       "             {'mode': 'lines',\n",
       "              'name': 'placeholder_14',\n",
       "              'showlegend': False,\n",
       "              'type': 'scatter',\n",
       "              'uid': '33f585b1-028d-46e5-bae8-82d4d0089413',\n",
       "              'visible': False,\n",
       "              'x': [None],\n",
       "              'y': [None]},\n",
       "             {'mode': 'lines',\n",
       "              'name': 'placeholder_15',\n",
       "              'showlegend': False,\n",
       "              'type': 'scatter',\n",
       "              'uid': '06b9c57d-cd72-4969-b5a5-69ab52090465',\n",
       "              'visible': False,\n",
       "              'x': [None],\n",
       "              'y': [None]},\n",
       "             {'mode': 'lines',\n",
       "              'name': 'placeholder_16',\n",
       "              'showlegend': False,\n",
       "              'type': 'scatter',\n",
       "              'uid': 'ff3aab20-67ee-4fd1-8800-5b6c0084c30d',\n",
       "              'visible': False,\n",
       "              'x': [None],\n",
       "              'y': [None]},\n",
       "             {'mode': 'lines',\n",
       "              'name': 'placeholder_17',\n",
       "              'showlegend': False,\n",
       "              'type': 'scatter',\n",
       "              'uid': '8ec95333-023b-4a35-ba6f-dff44b659a4d',\n",
       "              'visible': False,\n",
       "              'x': [None],\n",
       "              'y': [None]},\n",
       "             {'mode': 'lines',\n",
       "              'name': 'placeholder_18',\n",
       "              'showlegend': False,\n",
       "              'type': 'scatter',\n",
       "              'uid': '26ff6d4c-58e3-4f6f-a632-57098a04cc89',\n",
       "              'visible': False,\n",
       "              'x': [None],\n",
       "              'y': [None]},\n",
       "             {'mode': 'lines',\n",
       "              'name': 'placeholder_19',\n",
       "              'showlegend': False,\n",
       "              'type': 'scatter',\n",
       "              'uid': '2f93df1e-86f1-4f7a-a506-a95a0c218e1e',\n",
       "              'visible': False,\n",
       "              'x': [None],\n",
       "              'y': [None]},\n",
       "             {'mode': 'lines',\n",
       "              'name': 'placeholder_20',\n",
       "              'showlegend': False,\n",
       "              'type': 'scatter',\n",
       "              'uid': '95ebb284-adbf-4c73-ab37-696e6acb0f8b',\n",
       "              'visible': False,\n",
       "              'x': [None],\n",
       "              'y': [None]},\n",
       "             {'mode': 'lines',\n",
       "              'name': 'placeholder_21',\n",
       "              'showlegend': False,\n",
       "              'type': 'scatter',\n",
       "              'uid': '7db278f1-0057-4f02-8a5b-9df332a10ecb',\n",
       "              'visible': False,\n",
       "              'x': [None],\n",
       "              'y': [None]},\n",
       "             {'mode': 'lines',\n",
       "              'name': 'placeholder_22',\n",
       "              'showlegend': False,\n",
       "              'type': 'scatter',\n",
       "              'uid': 'f925f17d-4149-4e78-b3b1-f604a1baef74',\n",
       "              'visible': False,\n",
       "              'x': [None],\n",
       "              'y': [None]},\n",
       "             {'mode': 'lines',\n",
       "              'name': 'placeholder_23',\n",
       "              'showlegend': False,\n",
       "              'type': 'scatter',\n",
       "              'uid': '6cf951e0-5638-4a7d-b02e-11db00e628c5',\n",
       "              'visible': False,\n",
       "              'x': [None],\n",
       "              'y': [None]},\n",
       "             {'mode': 'lines',\n",
       "              'name': 'placeholder_24',\n",
       "              'showlegend': False,\n",
       "              'type': 'scatter',\n",
       "              'uid': '4ea30d2e-050e-4270-b1d8-8a97d04f08b4',\n",
       "              'visible': False,\n",
       "              'x': [None],\n",
       "              'y': [None]},\n",
       "             {'mode': 'lines',\n",
       "              'name': 'placeholder_25',\n",
       "              'showlegend': False,\n",
       "              'type': 'scatter',\n",
       "              'uid': '6f025bb9-3f00-498a-b827-a5be3405ad86',\n",
       "              'visible': False,\n",
       "              'x': [None],\n",
       "              'y': [None]},\n",
       "             {'mode': 'lines',\n",
       "              'name': 'placeholder_26',\n",
       "              'showlegend': False,\n",
       "              'type': 'scatter',\n",
       "              'uid': '19f628ae-f431-4251-bbeb-aecea5b54f19',\n",
       "              'visible': False,\n",
       "              'x': [None],\n",
       "              'y': [None]},\n",
       "             {'mode': 'lines',\n",
       "              'name': 'placeholder_27',\n",
       "              'showlegend': False,\n",
       "              'type': 'scatter',\n",
       "              'uid': '0d69cb7a-eb68-401d-8b19-370eed5e60ac',\n",
       "              'visible': False,\n",
       "              'x': [None],\n",
       "              'y': [None]},\n",
       "             {'mode': 'lines',\n",
       "              'name': 'placeholder_28',\n",
       "              'showlegend': False,\n",
       "              'type': 'scatter',\n",
       "              'uid': '2bf6fdef-8962-44a9-8dfb-26afcf2edc74',\n",
       "              'visible': False,\n",
       "              'x': [None],\n",
       "              'y': [None]},\n",
       "             {'mode': 'lines',\n",
       "              'name': 'placeholder_29',\n",
       "              'showlegend': False,\n",
       "              'type': 'scatter',\n",
       "              'uid': '867fb7ac-81e0-4ace-b5b4-574458bb93f1',\n",
       "              'visible': False,\n",
       "              'x': [None],\n",
       "              'y': [None]},\n",
       "             {'mode': 'lines',\n",
       "              'name': 'placeholder_30',\n",
       "              'showlegend': False,\n",
       "              'type': 'scatter',\n",
       "              'uid': '7d2c4d41-341b-45f8-b3e1-4e005df612f7',\n",
       "              'visible': False,\n",
       "              'x': [None],\n",
       "              'y': [None]},\n",
       "             {'mode': 'lines',\n",
       "              'name': 'placeholder_31',\n",
       "              'showlegend': False,\n",
       "              'type': 'scatter',\n",
       "              'uid': 'f6886bbb-0486-4fa0-be5f-f664d7b247ae',\n",
       "              'visible': False,\n",
       "              'x': [None],\n",
       "              'y': [None]},\n",
       "             {'mode': 'lines',\n",
       "              'name': 'placeholder_32',\n",
       "              'showlegend': False,\n",
       "              'type': 'scatter',\n",
       "              'uid': 'f2a9cf99-4958-4d98-8db1-244c4eb59e86',\n",
       "              'visible': False,\n",
       "              'x': [None],\n",
       "              'y': [None]},\n",
       "             {'mode': 'lines',\n",
       "              'name': 'placeholder_33',\n",
       "              'showlegend': False,\n",
       "              'type': 'scatter',\n",
       "              'uid': '639e82e6-190e-433f-8621-f40f74fd667c',\n",
       "              'visible': False,\n",
       "              'x': [None],\n",
       "              'y': [None]},\n",
       "             {'mode': 'lines',\n",
       "              'name': 'placeholder_34',\n",
       "              'showlegend': False,\n",
       "              'type': 'scatter',\n",
       "              'uid': '49f7f495-d0b5-4a53-a22f-dd464fb5fc30',\n",
       "              'visible': False,\n",
       "              'x': [None],\n",
       "              'y': [None]},\n",
       "             {'mode': 'lines',\n",
       "              'name': 'placeholder_35',\n",
       "              'showlegend': False,\n",
       "              'type': 'scatter',\n",
       "              'uid': 'fd5e376f-acf7-4f71-a5a0-931f0a4774a6',\n",
       "              'visible': False,\n",
       "              'x': [None],\n",
       "              'y': [None]},\n",
       "             {'mode': 'lines',\n",
       "              'name': 'placeholder_36',\n",
       "              'showlegend': False,\n",
       "              'type': 'scatter',\n",
       "              'uid': '73a32105-612d-43b6-b6e1-70b19c431994',\n",
       "              'visible': False,\n",
       "              'x': [None],\n",
       "              'y': [None]},\n",
       "             {'mode': 'lines',\n",
       "              'name': 'placeholder_37',\n",
       "              'showlegend': False,\n",
       "              'type': 'scatter',\n",
       "              'uid': '9415ea80-460d-406b-a00f-b86b9b0653cd',\n",
       "              'visible': False,\n",
       "              'x': [None],\n",
       "              'y': [None]},\n",
       "             {'mode': 'lines',\n",
       "              'name': 'placeholder_38',\n",
       "              'showlegend': False,\n",
       "              'type': 'scatter',\n",
       "              'uid': 'a0a6f30b-7bf4-448a-b2ef-b536d98ea702',\n",
       "              'visible': False,\n",
       "              'x': [None],\n",
       "              'y': [None]},\n",
       "             {'mode': 'lines',\n",
       "              'name': 'placeholder_39',\n",
       "              'showlegend': False,\n",
       "              'type': 'scatter',\n",
       "              'uid': '6fe76ddd-2ba1-4d1d-9d4e-bc2933e08219',\n",
       "              'visible': False,\n",
       "              'x': [None],\n",
       "              'y': [None]},\n",
       "             {'mode': 'lines',\n",
       "              'name': 'placeholder_40',\n",
       "              'showlegend': False,\n",
       "              'type': 'scatter',\n",
       "              'uid': 'dd24639c-3063-4459-a729-b94d7e114cef',\n",
       "              'visible': False,\n",
       "              'x': [None],\n",
       "              'y': [None]},\n",
       "             {'mode': 'lines',\n",
       "              'name': 'placeholder_41',\n",
       "              'showlegend': False,\n",
       "              'type': 'scatter',\n",
       "              'uid': '3a4c08a2-7bfd-4e22-a3f4-fae2c9526eb7',\n",
       "              'visible': False,\n",
       "              'x': [None],\n",
       "              'y': [None]},\n",
       "             {'mode': 'lines',\n",
       "              'name': 'placeholder_42',\n",
       "              'showlegend': False,\n",
       "              'type': 'scatter',\n",
       "              'uid': '8b51ad2b-f927-45b5-8a60-90aa5ef466b5',\n",
       "              'visible': False,\n",
       "              'x': [None],\n",
       "              'y': [None]},\n",
       "             {'mode': 'lines',\n",
       "              'name': 'placeholder_43',\n",
       "              'showlegend': False,\n",
       "              'type': 'scatter',\n",
       "              'uid': '2b601a8f-2b44-4153-bff6-fe8c0db5381b',\n",
       "              'visible': False,\n",
       "              'x': [None],\n",
       "              'y': [None]},\n",
       "             {'mode': 'lines',\n",
       "              'name': 'placeholder_44',\n",
       "              'showlegend': False,\n",
       "              'type': 'scatter',\n",
       "              'uid': 'd6a70d8e-1be8-44d5-8bfd-9011df39532c',\n",
       "              'visible': False,\n",
       "              'x': [None],\n",
       "              'y': [None]},\n",
       "             {'mode': 'lines',\n",
       "              'name': 'placeholder_45',\n",
       "              'showlegend': False,\n",
       "              'type': 'scatter',\n",
       "              'uid': 'fd39768e-c5c1-4c56-a932-7e1643e82b8e',\n",
       "              'visible': False,\n",
       "              'x': [None],\n",
       "              'y': [None]},\n",
       "             {'mode': 'lines',\n",
       "              'name': 'placeholder_46',\n",
       "              'showlegend': False,\n",
       "              'type': 'scatter',\n",
       "              'uid': '7123330b-1d38-457b-9fc4-5a8c5b58f682',\n",
       "              'visible': False,\n",
       "              'x': [None],\n",
       "              'y': [None]},\n",
       "             {'mode': 'lines',\n",
       "              'name': 'placeholder_47',\n",
       "              'showlegend': False,\n",
       "              'type': 'scatter',\n",
       "              'uid': 'b48675ef-ab11-4af7-a1c1-2eca6f9a95f6',\n",
       "              'visible': False,\n",
       "              'x': [None],\n",
       "              'y': [None]},\n",
       "             {'mode': 'lines',\n",
       "              'name': 'placeholder_48',\n",
       "              'showlegend': False,\n",
       "              'type': 'scatter',\n",
       "              'uid': 'c8503db8-6d65-44e2-b867-72b498d51305',\n",
       "              'visible': False,\n",
       "              'x': [None],\n",
       "              'y': [None]},\n",
       "             {'mode': 'lines',\n",
       "              'name': 'placeholder_49',\n",
       "              'showlegend': False,\n",
       "              'type': 'scatter',\n",
       "              'uid': 'ebab1e3b-d06b-464f-a140-37a3cab4c11d',\n",
       "              'visible': False,\n",
       "              'x': [None],\n",
       "              'y': [None]},\n",
       "             {'line': {'color': 'black', 'dash': 'dash', 'width': 3},\n",
       "              'mode': 'lines',\n",
       "              'name': 'Benchmark',\n",
       "              'showlegend': True,\n",
       "              'type': 'scatter',\n",
       "              'uid': '44ef2fa4-eddb-4a43-b16a-16a557f613fe',\n",
       "              'visible': True,\n",
       "              'x': [None],\n",
       "              'y': [None]},\n",
       "             {'line': {'color': 'green', 'width': 3},\n",
       "              'mode': 'lines',\n",
       "              'name': 'Group Portfolio',\n",
       "              'showlegend': True,\n",
       "              'type': 'scatter',\n",
       "              'uid': 'c51c6ea4-b4d2-48cc-a6d9-fe5f5d6c03e6',\n",
       "              'visible': True,\n",
       "              'x': [None],\n",
       "              'y': [None]}],\n",
       "    'layout': {'height': 700,\n",
       "               'hovermode': 'x unified',\n",
       "               'legend': {'title': {'text': 'Tickers (Ranked)'}},\n",
       "               'margin': {'t': 50},\n",
       "               'shapes': [{'line': {'color': 'grey', 'dash': 'dash', 'width': 1},\n",
       "                           'type': 'line',\n",
       "                           'x0': 0,\n",
       "                           'x1': 1,\n",
       "                           'xref': 'x domain',\n",
       "                           'y0': 1,\n",
       "                           'y1': 1,\n",
       "                           'yref': 'y'}],\n",
       "               'template': '...',\n",
       "               'title': {'text': 'Walk-Forward Performance Analysis'},\n",
       "               'xaxis': {'title': {'text': 'Date'}},\n",
       "               'yaxis': {'title': {'text': 'Normalized Price (Start = 1)'}}}\n",
       "})"
      ]
     },
     "metadata": {},
     "output_type": "display_data"
    },
    {
     "name": "stdout",
     "output_type": "stream",
     "text": [
      "\n",
      "--- TEST COMPLETE ---\n"
     ]
    }
   ],
   "source": [
    "\n",
    "\n",
    "print(\"--- RUNNING REFACTORED CODE TEST ---\")\n",
    "walk_forward_results = plot_walk_forward_analyzer(\n",
    "    df_OHLCV,\n",
    "    default_start_date=test_start_date,\n",
    "    default_calc_period=test_calc_period,\n",
    "    default_fwd_period=test_fwd_period,\n",
    "    default_metric=test_metric,\n",
    "    default_rank_start=test_rank_start,\n",
    "    default_rank_end=test_rank_end,\n",
    "    default_benchmark_ticker=test_benchmark\n",
    ")\n",
    "print(\"\\n--- TEST COMPLETE ---\")"
   ]
  },
  {
   "cell_type": "code",
   "execution_count": 15,
   "id": "2c6661e9",
   "metadata": {},
   "outputs": [
    {
     "data": {
      "text/plain": [
       "[          Rank        Metric  MetricValue  CalcPrice  CalcGain   FwdGain\n",
       " Ticker                                                                  \n",
       " SGOV       1.0  Sharpe (ATR)     0.791422    90.2594  0.012267  0.001068\n",
       " FER        2.0  Sharpe (ATR)     0.637183    28.9740  0.106883  0.010320\n",
       " SHV        3.0  Sharpe (ATR)     0.614626    99.1763  0.011222  0.000654\n",
       " BIL        4.0  Sharpe (ATR)     0.601602    82.3930  0.011793  0.000799\n",
       " GBIL       5.0  Sharpe (ATR)     0.536967    89.9725  0.010415  0.000812\n",
       " TFLO       6.0  Sharpe (ATR)     0.532481    45.3818  0.013344  0.000912\n",
       " USFR       7.0  Sharpe (ATR)     0.519238    45.4135  0.013393  0.001392\n",
       " BILS       8.0  Sharpe (ATR)     0.497107    89.2755  0.010143  0.000656\n",
       " MINT       9.0  Sharpe (ATR)     0.467373    88.9671  0.016342  0.001410\n",
       " TBIL      10.0  Sharpe (ATR)     0.449017    44.9261  0.012015  0.000922\n",
       " VOO (BM)   NaN  Sharpe (ATR)     0.146264   396.2190  0.082956 -0.010779]"
      ]
     },
     "execution_count": 15,
     "metadata": {},
     "output_type": "execute_result"
    }
   ],
   "source": [
    "walk_forward_results"
   ]
  },
  {
   "cell_type": "code",
   "execution_count": 16,
   "id": "f9b7d439",
   "metadata": {},
   "outputs": [
    {
     "name": "stdout",
     "output_type": "stream",
     "text": [
      "--- Extracted and Cleaned Ticker List ---\n",
      "['SGOV', 'FER', 'SHV', 'BIL', 'GBIL', 'TFLO', 'USFR', 'BILS', 'MINT', 'TBIL', 'VOO']\n"
     ]
    }
   ],
   "source": [
    "# 1. Access the results DataFrame\n",
    "# The function returns a list, and the DataFrame is the first element.\n",
    "results_df = walk_forward_results[0]\n",
    "\n",
    "# 2. Extract the index (which contains the tickers) and clean it\n",
    "# We use a list comprehension to iterate through the index labels\n",
    "# and remove the \" (BM)\" suffix from the benchmark ticker.\n",
    "all_tickers_cleaned = [ticker.replace(' (BM)', '') for ticker in results_df.index.tolist()]\n",
    "\n",
    "# 3. Print the final list\n",
    "print(\"--- Extracted and Cleaned Ticker List ---\")\n",
    "print(all_tickers_cleaned)"
   ]
  },
  {
   "cell_type": "code",
   "execution_count": 17,
   "id": "89024820",
   "metadata": {},
   "outputs": [],
   "source": [
    "plotted_tickers = all_tickers_cleaned[:-1]\n",
    "benchmark_ticker = all_tickers_cleaned[-1]  "
   ]
  },
  {
   "cell_type": "code",
   "execution_count": 20,
   "id": "7258e193",
   "metadata": {},
   "outputs": [
    {
     "data": {
      "text/markdown": [
       "## Verification Report for Portfolio vs. Benchmark"
      ],
      "text/plain": [
       "<IPython.core.display.Markdown object>"
      ]
     },
     "metadata": {},
     "output_type": "display_data"
    },
    {
     "data": {
      "text/markdown": [
       "**Portfolio Tickers:** `['SGOV', 'FER', 'SHV', 'BIL', 'GBIL', 'TFLO', 'USFR', 'BILS', 'MINT', 'TBIL']`"
      ],
      "text/plain": [
       "<IPython.core.display.Markdown object>"
      ]
     },
     "metadata": {},
     "output_type": "display_data"
    },
    {
     "data": {
      "text/markdown": [
       "**Benchmark Ticker:** `VOO`"
      ],
      "text/plain": [
       "<IPython.core.display.Markdown object>"
      ]
     },
     "metadata": {},
     "output_type": "display_data"
    },
    {
     "data": {
      "text/markdown": [
       "**Analysis Start Date:** `2023-04-01`"
      ],
      "text/plain": [
       "<IPython.core.display.Markdown object>"
      ]
     },
     "metadata": {},
     "output_type": "display_data"
    },
    {
     "data": {
      "text/markdown": [
       "**Calculation Period End Date:** `2023-06-30`"
      ],
      "text/plain": [
       "<IPython.core.display.Markdown object>"
      ]
     },
     "metadata": {},
     "output_type": "display_data"
    },
    {
     "data": {
      "text/markdown": [
       "**Forward Period End Date:** `2023-07-08`"
      ],
      "text/plain": [
       "<IPython.core.display.Markdown object>"
      ]
     },
     "metadata": {},
     "output_type": "display_data"
    },
    {
     "data": {
      "text/markdown": [
       "### A. Calculation Period Analysis ('In-Sample')"
      ],
      "text/plain": [
       "<IPython.core.display.Markdown object>"
      ]
     },
     "metadata": {},
     "output_type": "display_data"
    },
    {
     "data": {
      "text/markdown": [
       "#### Verification for: `Group Portfolio`"
      ],
      "text/plain": [
       "<IPython.core.display.Markdown object>"
      ]
     },
     "metadata": {},
     "output_type": "display_data"
    },
    {
     "name": "stdout",
     "output_type": "stream",
     "text": [
      "  - Start Value (on 2023-04-03): 1.0000\n",
      "  - End Value   (on 2023-06-30): 1.0218\n",
      "  - Gain = (1.0218 / 1.0000) - 1 = 2.18%\n",
      "\n",
      "  - Mean Daily Return: 0.000355\n",
      "  - Std Dev of Daily Return: 0.001773\n",
      "  - Sharpe = (0.000355 / 0.001773) * sqrt(252) = 3.18\n",
      "\n",
      "  - Average ATR Percent (ATRP): 0.000618\n",
      "  - Sharpe (ATR) = 0.000355 / 0.000618 = 0.5739\n"
     ]
    },
    {
     "data": {
      "text/markdown": [
       "#### Verification for: `Benchmark (VOO)`"
      ],
      "text/plain": [
       "<IPython.core.display.Markdown object>"
      ]
     },
     "metadata": {},
     "output_type": "display_data"
    },
    {
     "name": "stdout",
     "output_type": "stream",
     "text": [
      "  - Start Value (on 2023-01-03): 337.7610\n",
      "  - End Value   (on 2023-06-30): 396.2190\n",
      "  - Gain = (396.2190 / 337.7610) - 1 = 17.31%\n",
      "\n",
      "  - Mean Daily Return: 0.001340\n",
      "  - Std Dev of Daily Return: 0.009089\n",
      "  - Sharpe = (0.001340 / 0.009089) * sqrt(252) = 2.34\n",
      "\n",
      "  - Average ATR Percent (ATRP): 0.012598\n",
      "  - Sharpe (ATR) = 0.001340 / 0.012598 = 0.1063\n"
     ]
    },
    {
     "data": {
      "text/markdown": [
       "\n",
       "### B. Forward Period Analysis ('Moment of Truth')"
      ],
      "text/plain": [
       "<IPython.core.display.Markdown object>"
      ]
     },
     "metadata": {},
     "output_type": "display_data"
    },
    {
     "data": {
      "text/markdown": [
       "#### Verification for: `Group Portfolio`"
      ],
      "text/plain": [
       "<IPython.core.display.Markdown object>"
      ]
     },
     "metadata": {},
     "output_type": "display_data"
    },
    {
     "name": "stdout",
     "output_type": "stream",
     "text": [
      "  - Start Value (on 2023-06-30): 1.0218\n",
      "  - End Value   (on 2023-07-07): 1.0238\n",
      "  - Gain = (1.0238 / 1.0218) - 1 = 0.20%\n",
      "\n",
      "  - Mean Daily Return: 0.000493\n",
      "  - Std Dev of Daily Return: 0.000501\n",
      "  - Sharpe = (0.000493 / 0.000501) * sqrt(252) = 15.63\n",
      "\n",
      "  - Average ATR Percent (ATRP): 0.000333\n",
      "  - Sharpe (ATR) = 0.000493 / 0.000333 = 1.4803\n"
     ]
    },
    {
     "data": {
      "text/markdown": [
       "#### Verification for: `Benchmark (VOO)`"
      ],
      "text/plain": [
       "<IPython.core.display.Markdown object>"
      ]
     },
     "metadata": {},
     "output_type": "display_data"
    },
    {
     "name": "stdout",
     "output_type": "stream",
     "text": [
      "  - Start Value (on 2023-06-30): 396.2190\n",
      "  - End Value   (on 2023-07-07): 391.9480\n",
      "  - Gain = (391.9480 / 396.2190) - 1 = -1.08%\n",
      "\n",
      "  - Mean Daily Return: -0.002699\n",
      "  - Std Dev of Daily Return: 0.004139\n",
      "  - Sharpe = (-0.002699 / 0.004139) * sqrt(252) = -10.35\n",
      "\n",
      "  - Average ATR Percent (ATRP): 0.003696\n",
      "  - Sharpe (ATR) = -0.002699 / 0.003696 = -0.7303\n"
     ]
    },
    {
     "data": {
      "text/markdown": [
       "\n",
       "### C. Full Period Analysis (Total)"
      ],
      "text/plain": [
       "<IPython.core.display.Markdown object>"
      ]
     },
     "metadata": {},
     "output_type": "display_data"
    },
    {
     "data": {
      "text/markdown": [
       "#### Verification for: `Group Portfolio`"
      ],
      "text/plain": [
       "<IPython.core.display.Markdown object>"
      ]
     },
     "metadata": {},
     "output_type": "display_data"
    },
    {
     "name": "stdout",
     "output_type": "stream",
     "text": [
      "  - Start Value (on 2023-04-03): 1.0000\n",
      "  - End Value   (on 2023-07-07): 1.0238\n",
      "  - Gain = (1.0238 / 1.0000) - 1 = 2.38%\n",
      "\n",
      "  - Mean Daily Return: 0.000363\n",
      "  - Std Dev of Daily Return: 0.001721\n",
      "  - Sharpe = (0.000363 / 0.001721) * sqrt(252) = 3.35\n",
      "\n",
      "  - Average ATR Percent (ATRP): 0.000640\n",
      "  - Sharpe (ATR) = 0.000363 / 0.000640 = 0.5673\n"
     ]
    },
    {
     "data": {
      "text/markdown": [
       "#### Verification for: `Benchmark (VOO)`"
      ],
      "text/plain": [
       "<IPython.core.display.Markdown object>"
      ]
     },
     "metadata": {},
     "output_type": "display_data"
    },
    {
     "name": "stdout",
     "output_type": "stream",
     "text": [
      "  - Start Value (on 2023-04-03): 365.8680\n",
      "  - End Value   (on 2023-07-07): 391.9480\n",
      "  - Gain = (391.9480 / 365.8680) - 1 = 7.13%\n",
      "\n",
      "  - Mean Daily Return: 0.001087\n",
      "  - Std Dev of Daily Return: 0.007368\n",
      "  - Sharpe = (0.001087 / 0.007368) * sqrt(252) = 2.34\n",
      "\n",
      "  - Average ATR Percent (ATRP): 0.009944\n",
      "  - Sharpe (ATR) = 0.001087 / 0.009944 = 0.1093\n"
     ]
    },
    {
     "data": {
      "text/markdown": [
       "\n",
       "### D. Final Summary Table (matches analyzer output)"
      ],
      "text/plain": [
       "<IPython.core.display.Markdown object>"
      ]
     },
     "metadata": {},
     "output_type": "display_data"
    },
    {
     "data": {
      "text/html": [
       "<style type=\"text/css\">\n",
       "#T_883e5 th.col_heading {\n",
       "  text-align: right;\n",
       "}\n",
       "#T_883e5 th.row_heading {\n",
       "  text-align: left;\n",
       "}\n",
       "#T_883e5_row0_col0, #T_883e5_row0_col1, #T_883e5_row0_col2, #T_883e5_row1_col0, #T_883e5_row1_col1, #T_883e5_row1_col2, #T_883e5_row2_col0, #T_883e5_row2_col1, #T_883e5_row2_col2, #T_883e5_row3_col0, #T_883e5_row3_col1, #T_883e5_row3_col2, #T_883e5_row4_col0, #T_883e5_row4_col1, #T_883e5_row4_col2, #T_883e5_row5_col0, #T_883e5_row5_col1, #T_883e5_row5_col2, #T_883e5_row6_col0, #T_883e5_row6_col1, #T_883e5_row6_col2, #T_883e5_row7_col0, #T_883e5_row7_col1, #T_883e5_row7_col2, #T_883e5_row8_col0, #T_883e5_row8_col1, #T_883e5_row8_col2 {\n",
       "  text-align: right;\n",
       "  width: 100px;\n",
       "}\n",
       "</style>\n",
       "<table id=\"T_883e5\">\n",
       "  <thead>\n",
       "    <tr>\n",
       "      <th class=\"blank level0\" >&nbsp;</th>\n",
       "      <th id=\"T_883e5_level0_col0\" class=\"col_heading level0 col0\" >Full</th>\n",
       "      <th id=\"T_883e5_level0_col1\" class=\"col_heading level0 col1\" >Calc</th>\n",
       "      <th id=\"T_883e5_level0_col2\" class=\"col_heading level0 col2\" >Fwd</th>\n",
       "    </tr>\n",
       "    <tr>\n",
       "      <th class=\"index_name level0\" >Metric</th>\n",
       "      <th class=\"blank col0\" >&nbsp;</th>\n",
       "      <th class=\"blank col1\" >&nbsp;</th>\n",
       "      <th class=\"blank col2\" >&nbsp;</th>\n",
       "    </tr>\n",
       "  </thead>\n",
       "  <tbody>\n",
       "    <tr>\n",
       "      <th id=\"T_883e5_level0_row0\" class=\"row_heading level0 row0\" >Group Portfolio Gain</th>\n",
       "      <td id=\"T_883e5_row0_col0\" class=\"data row0 col0\" >+2.38%</td>\n",
       "      <td id=\"T_883e5_row0_col1\" class=\"data row0 col1\" >+2.18%</td>\n",
       "      <td id=\"T_883e5_row0_col2\" class=\"data row0 col2\" >+0.20%</td>\n",
       "    </tr>\n",
       "    <tr>\n",
       "      <th id=\"T_883e5_level0_row1\" class=\"row_heading level0 row1\" >Benchmark (VOO) Gain</th>\n",
       "      <td id=\"T_883e5_row1_col0\" class=\"data row1 col0\" >+7.13%</td>\n",
       "      <td id=\"T_883e5_row1_col1\" class=\"data row1 col1\" >+17.31%</td>\n",
       "      <td id=\"T_883e5_row1_col2\" class=\"data row1 col2\" >-1.08%</td>\n",
       "    </tr>\n",
       "    <tr>\n",
       "      <th id=\"T_883e5_level0_row2\" class=\"row_heading level0 row2\" >Gain Delta (vs Bm)</th>\n",
       "      <td id=\"T_883e5_row2_col0\" class=\"data row2 col0\" >-4.75%</td>\n",
       "      <td id=\"T_883e5_row2_col1\" class=\"data row2 col1\" >-15.13%</td>\n",
       "      <td id=\"T_883e5_row2_col2\" class=\"data row2 col2\" >+1.28%</td>\n",
       "    </tr>\n",
       "    <tr>\n",
       "      <th id=\"T_883e5_level0_row3\" class=\"row_heading level0 row3\" >Group Portfolio Sharpe</th>\n",
       "      <td id=\"T_883e5_row3_col0\" class=\"data row3 col0\" >+3.35</td>\n",
       "      <td id=\"T_883e5_row3_col1\" class=\"data row3 col1\" >+3.18</td>\n",
       "      <td id=\"T_883e5_row3_col2\" class=\"data row3 col2\" >+15.63</td>\n",
       "    </tr>\n",
       "    <tr>\n",
       "      <th id=\"T_883e5_level0_row4\" class=\"row_heading level0 row4\" >Benchmark (VOO) Sharpe</th>\n",
       "      <td id=\"T_883e5_row4_col0\" class=\"data row4 col0\" >+2.34</td>\n",
       "      <td id=\"T_883e5_row4_col1\" class=\"data row4 col1\" >+2.34</td>\n",
       "      <td id=\"T_883e5_row4_col2\" class=\"data row4 col2\" >-10.35</td>\n",
       "    </tr>\n",
       "    <tr>\n",
       "      <th id=\"T_883e5_level0_row5\" class=\"row_heading level0 row5\" >Sharpe Delta (vs Bm)</th>\n",
       "      <td id=\"T_883e5_row5_col0\" class=\"data row5 col0\" >+1.01</td>\n",
       "      <td id=\"T_883e5_row5_col1\" class=\"data row5 col1\" >+0.84</td>\n",
       "      <td id=\"T_883e5_row5_col2\" class=\"data row5 col2\" >+25.98</td>\n",
       "    </tr>\n",
       "    <tr>\n",
       "      <th id=\"T_883e5_level0_row6\" class=\"row_heading level0 row6\" >Group Portfolio Sharpe (ATR)</th>\n",
       "      <td id=\"T_883e5_row6_col0\" class=\"data row6 col0\" >+0.5673</td>\n",
       "      <td id=\"T_883e5_row6_col1\" class=\"data row6 col1\" >+0.5739</td>\n",
       "      <td id=\"T_883e5_row6_col2\" class=\"data row6 col2\" >+1.4803</td>\n",
       "    </tr>\n",
       "    <tr>\n",
       "      <th id=\"T_883e5_level0_row7\" class=\"row_heading level0 row7\" >Benchmark (VOO) Sharpe (ATR)</th>\n",
       "      <td id=\"T_883e5_row7_col0\" class=\"data row7 col0\" >+0.1093</td>\n",
       "      <td id=\"T_883e5_row7_col1\" class=\"data row7 col1\" >+0.1063</td>\n",
       "      <td id=\"T_883e5_row7_col2\" class=\"data row7 col2\" >-0.7303</td>\n",
       "    </tr>\n",
       "    <tr>\n",
       "      <th id=\"T_883e5_level0_row8\" class=\"row_heading level0 row8\" >Sharpe (ATR) Delta (vs Bm)</th>\n",
       "      <td id=\"T_883e5_row8_col0\" class=\"data row8 col0\" >+0.4580</td>\n",
       "      <td id=\"T_883e5_row8_col1\" class=\"data row8 col1\" >+0.4676</td>\n",
       "      <td id=\"T_883e5_row8_col2\" class=\"data row8 col2\" >+2.2107</td>\n",
       "    </tr>\n",
       "  </tbody>\n",
       "</table>\n"
      ],
      "text/plain": [
       "<pandas.io.formats.style.Styler at 0x1609fada290>"
      ]
     },
     "metadata": {},
     "output_type": "display_data"
    },
    {
     "name": "stdout",
     "output_type": "stream",
     "text": [
      "\n",
      "✅ Detailed group verification data exported to 'verification_group_tickers_20230401.csv'\n"
     ]
    }
   ],
   "source": [
    "verify_group_tickers_walk_forward_calculation(df_OHLCV, \n",
    "                                              tickers_to_verify=plotted_tickers,\n",
    "                                              benchmark_ticker=benchmark_ticker,\n",
    "                                              start_date=test_start_date, \n",
    "                                              calc_period='3M', \n",
    "                                              fwd_period='1W', \n",
    "                                              export_csv=True)"
   ]
  },
  {
   "cell_type": "code",
   "execution_count": 25,
   "id": "52aec1fd",
   "metadata": {},
   "outputs": [
    {
     "name": "stdout",
     "output_type": "stream",
     "text": [
      "--- Starting Individual Ticker Verification ---\n",
      "\n",
      "================================================================================\n",
      "--- Verifying Ticker: SGOV ---\n",
      "================================================================================\n"
     ]
    },
    {
     "data": {
      "text/markdown": [
       "## Verification Report for Ticker Ranking: `SGOV`"
      ],
      "text/plain": [
       "<IPython.core.display.Markdown object>"
      ]
     },
     "metadata": {},
     "output_type": "display_data"
    },
    {
     "data": {
      "text/markdown": [
       "**Analysis Start Date:** `2023-04-01`"
      ],
      "text/plain": [
       "<IPython.core.display.Markdown object>"
      ]
     },
     "metadata": {},
     "output_type": "display_data"
    },
    {
     "data": {
      "text/markdown": [
       "**Requested Calculation Period:** `2023-04-01` to `2023-07-01`"
      ],
      "text/plain": [
       "<IPython.core.display.Markdown object>"
      ]
     },
     "metadata": {},
     "output_type": "display_data"
    },
    {
     "data": {
      "text/markdown": [
       "**Requested Forward Period:**   `2023-07-01` to `2023-07-08`"
      ],
      "text/plain": [
       "<IPython.core.display.Markdown object>"
      ]
     },
     "metadata": {},
     "output_type": "display_data"
    },
    {
     "data": {
      "text/markdown": [
       "### A. Calculation Period Analysis (for Ranking Metrics)"
      ],
      "text/plain": [
       "<IPython.core.display.Markdown object>"
      ]
     },
     "metadata": {},
     "output_type": "display_data"
    },
    {
     "data": {
      "text/markdown": [
       "**Actual Dates Used:** `2023-04-03` to `2023-06-30`"
      ],
      "text/plain": [
       "<IPython.core.display.Markdown object>"
      ]
     },
     "metadata": {},
     "output_type": "display_data"
    },
    {
     "data": {
      "text/markdown": [
       "#### `CalcGain` Verification:"
      ],
      "text/plain": [
       "<IPython.core.display.Markdown object>"
      ]
     },
     "metadata": {},
     "output_type": "display_data"
    },
    {
     "name": "stdout",
     "output_type": "stream",
     "text": [
      "  - Calc Start Price: $89.17\n",
      "  - Calc End Price:   $90.26  <-- 'CalcPrice'\n",
      "  - CalcGain = 1.23%\n"
     ]
    },
    {
     "data": {
      "text/markdown": [
       "#### `MetricValue` Verification:"
      ],
      "text/plain": [
       "<IPython.core.display.Markdown object>"
      ]
     },
     "metadata": {},
     "output_type": "display_data"
    },
    {
     "name": "stdout",
     "output_type": "stream",
     "text": [
      "\n",
      "1. Price Metric:\n",
      "   - Formula: Last Price / First Price = 1.0123\n",
      "\n",
      "2. Sharpe Metric:\n",
      "   - Mean Daily Return: 0.000200\n",
      "   - Std Dev Daily Return: 0.000178\n",
      "   - Annualized Sharpe = 17.8216\n",
      "\n",
      "3. Sharpe (ATR) Metric:\n",
      "   - Mean Daily Return: 0.000200 (same as above)\n",
      "   - Average ATR Percent (ATRP): 0.000272\n",
      "   - Sharpe (ATR) = 0.7363\n"
     ]
    },
    {
     "data": {
      "text/markdown": [
       "\n",
       "### B. Forward Period Analysis (`FwdGain`)"
      ],
      "text/plain": [
       "<IPython.core.display.Markdown object>"
      ]
     },
     "metadata": {},
     "output_type": "display_data"
    },
    {
     "name": "stdout",
     "output_type": "stream",
     "text": [
      "  - Fwd Start Price (Calc End Price): $90.26\n",
      "  - Fwd End Price: $90.36\n",
      "  - FwdGain = 0.11%\n"
     ]
    },
    {
     "data": {
      "text/markdown": [
       "\n",
       "### C. Final Summary Tables"
      ],
      "text/plain": [
       "<IPython.core.display.Markdown object>"
      ]
     },
     "metadata": {},
     "output_type": "display_data"
    },
    {
     "data": {
      "text/markdown": [
       "#### Ranking Metric Values"
      ],
      "text/plain": [
       "<IPython.core.display.Markdown object>"
      ]
     },
     "metadata": {},
     "output_type": "display_data"
    },
    {
     "data": {
      "text/html": [
       "<style type=\"text/css\">\n",
       "</style>\n",
       "<table id=\"T_ea56f\">\n",
       "  <thead>\n",
       "    <tr>\n",
       "      <th id=\"T_ea56f_level0_col0\" class=\"col_heading level0 col0\" >Metric</th>\n",
       "      <th id=\"T_ea56f_level0_col1\" class=\"col_heading level0 col1\" >Calculated Value</th>\n",
       "      <th id=\"T_ea56f_level0_col2\" class=\"col_heading level0 col2\" >Corresponds To</th>\n",
       "    </tr>\n",
       "  </thead>\n",
       "  <tbody>\n",
       "    <tr>\n",
       "      <td id=\"T_ea56f_row0_col0\" class=\"data row0 col0\" >Price</td>\n",
       "      <td id=\"T_ea56f_row0_col1\" class=\"data row0 col1\" >1.0123</td>\n",
       "      <td id=\"T_ea56f_row0_col2\" class=\"data row0 col2\" >`MetricValue`</td>\n",
       "    </tr>\n",
       "    <tr>\n",
       "      <td id=\"T_ea56f_row1_col0\" class=\"data row1 col0\" >Sharpe</td>\n",
       "      <td id=\"T_ea56f_row1_col1\" class=\"data row1 col1\" >17.8216</td>\n",
       "      <td id=\"T_ea56f_row1_col2\" class=\"data row1 col2\" >`MetricValue`</td>\n",
       "    </tr>\n",
       "    <tr>\n",
       "      <td id=\"T_ea56f_row2_col0\" class=\"data row2 col0\" >Sharpe (ATR)</td>\n",
       "      <td id=\"T_ea56f_row2_col1\" class=\"data row2 col1\" >0.7363</td>\n",
       "      <td id=\"T_ea56f_row2_col2\" class=\"data row2 col2\" >`MetricValue`</td>\n",
       "    </tr>\n",
       "  </tbody>\n",
       "</table>\n"
      ],
      "text/plain": [
       "<pandas.io.formats.style.Styler at 0x160a27d8a90>"
      ]
     },
     "metadata": {},
     "output_type": "display_data"
    },
    {
     "data": {
      "text/markdown": [
       "#### Gain Values"
      ],
      "text/plain": [
       "<IPython.core.display.Markdown object>"
      ]
     },
     "metadata": {},
     "output_type": "display_data"
    },
    {
     "data": {
      "text/html": [
       "<style type=\"text/css\">\n",
       "</style>\n",
       "<table id=\"T_bac13\">\n",
       "  <thead>\n",
       "    <tr>\n",
       "      <th id=\"T_bac13_level0_col0\" class=\"col_heading level0 col0\" >Gain Metric</th>\n",
       "      <th id=\"T_bac13_level0_col1\" class=\"col_heading level0 col1\" >Gain Value</th>\n",
       "      <th id=\"T_bac13_level0_col2\" class=\"col_heading level0 col2\" >Corresponds To</th>\n",
       "    </tr>\n",
       "  </thead>\n",
       "  <tbody>\n",
       "    <tr>\n",
       "      <td id=\"T_bac13_row0_col0\" class=\"data row0 col0\" >Calc Period Gain</td>\n",
       "      <td id=\"T_bac13_row0_col1\" class=\"data row0 col1\" >1.23%</td>\n",
       "      <td id=\"T_bac13_row0_col2\" class=\"data row0 col2\" >`CalcGain`</td>\n",
       "    </tr>\n",
       "    <tr>\n",
       "      <td id=\"T_bac13_row1_col0\" class=\"data row1 col0\" >Forward Period Gain</td>\n",
       "      <td id=\"T_bac13_row1_col1\" class=\"data row1 col1\" >0.11%</td>\n",
       "      <td id=\"T_bac13_row1_col2\" class=\"data row1 col2\" >`FwdGain`</td>\n",
       "    </tr>\n",
       "  </tbody>\n",
       "</table>\n"
      ],
      "text/plain": [
       "<pandas.io.formats.style.Styler at 0x160a5581610>"
      ]
     },
     "metadata": {},
     "output_type": "display_data"
    },
    {
     "name": "stdout",
     "output_type": "stream",
     "text": [
      "\n",
      "✅ Detailed ticker data exported to 'verification_ticker_SGOV_20230401.csv'\n",
      "\n",
      "================================================================================\n",
      "--- Verifying Ticker: FER ---\n",
      "================================================================================\n"
     ]
    },
    {
     "data": {
      "text/markdown": [
       "## Verification Report for Ticker Ranking: `FER`"
      ],
      "text/plain": [
       "<IPython.core.display.Markdown object>"
      ]
     },
     "metadata": {},
     "output_type": "display_data"
    },
    {
     "data": {
      "text/markdown": [
       "**Analysis Start Date:** `2023-04-01`"
      ],
      "text/plain": [
       "<IPython.core.display.Markdown object>"
      ]
     },
     "metadata": {},
     "output_type": "display_data"
    },
    {
     "data": {
      "text/markdown": [
       "**Requested Calculation Period:** `2023-04-01` to `2023-07-01`"
      ],
      "text/plain": [
       "<IPython.core.display.Markdown object>"
      ]
     },
     "metadata": {},
     "output_type": "display_data"
    },
    {
     "data": {
      "text/markdown": [
       "**Requested Forward Period:**   `2023-07-01` to `2023-07-08`"
      ],
      "text/plain": [
       "<IPython.core.display.Markdown object>"
      ]
     },
     "metadata": {},
     "output_type": "display_data"
    },
    {
     "data": {
      "text/markdown": [
       "### A. Calculation Period Analysis (for Ranking Metrics)"
      ],
      "text/plain": [
       "<IPython.core.display.Markdown object>"
      ]
     },
     "metadata": {},
     "output_type": "display_data"
    },
    {
     "data": {
      "text/markdown": [
       "**Actual Dates Used:** `2023-04-03` to `2023-06-30`"
      ],
      "text/plain": [
       "<IPython.core.display.Markdown object>"
      ]
     },
     "metadata": {},
     "output_type": "display_data"
    },
    {
     "data": {
      "text/markdown": [
       "#### `CalcGain` Verification:"
      ],
      "text/plain": [
       "<IPython.core.display.Markdown object>"
      ]
     },
     "metadata": {},
     "output_type": "display_data"
    },
    {
     "name": "stdout",
     "output_type": "stream",
     "text": [
      "  - Calc Start Price: $26.18\n",
      "  - Calc End Price:   $28.97  <-- 'CalcPrice'\n",
      "  - CalcGain = 10.69%\n"
     ]
    },
    {
     "data": {
      "text/markdown": [
       "#### `MetricValue` Verification:"
      ],
      "text/plain": [
       "<IPython.core.display.Markdown object>"
      ]
     },
     "metadata": {},
     "output_type": "display_data"
    },
    {
     "name": "stdout",
     "output_type": "stream",
     "text": [
      "\n",
      "1. Price Metric:\n",
      "   - Formula: Last Price / First Price = 1.1069\n",
      "\n",
      "2. Sharpe Metric:\n",
      "   - Mean Daily Return: 0.001798\n",
      "   - Std Dev Daily Return: 0.016568\n",
      "   - Annualized Sharpe = 1.7229\n",
      "\n",
      "3. Sharpe (ATR) Metric:\n",
      "   - Mean Daily Return: 0.001798 (same as above)\n",
      "   - Average ATR Percent (ATRP): 0.002868\n",
      "   - Sharpe (ATR) = 0.6269\n"
     ]
    },
    {
     "data": {
      "text/markdown": [
       "\n",
       "### B. Forward Period Analysis (`FwdGain`)"
      ],
      "text/plain": [
       "<IPython.core.display.Markdown object>"
      ]
     },
     "metadata": {},
     "output_type": "display_data"
    },
    {
     "name": "stdout",
     "output_type": "stream",
     "text": [
      "  - Fwd Start Price (Calc End Price): $28.97\n",
      "  - Fwd End Price: $29.27\n",
      "  - FwdGain = 1.03%\n"
     ]
    },
    {
     "data": {
      "text/markdown": [
       "\n",
       "### C. Final Summary Tables"
      ],
      "text/plain": [
       "<IPython.core.display.Markdown object>"
      ]
     },
     "metadata": {},
     "output_type": "display_data"
    },
    {
     "data": {
      "text/markdown": [
       "#### Ranking Metric Values"
      ],
      "text/plain": [
       "<IPython.core.display.Markdown object>"
      ]
     },
     "metadata": {},
     "output_type": "display_data"
    },
    {
     "data": {
      "text/html": [
       "<style type=\"text/css\">\n",
       "</style>\n",
       "<table id=\"T_163e6\">\n",
       "  <thead>\n",
       "    <tr>\n",
       "      <th id=\"T_163e6_level0_col0\" class=\"col_heading level0 col0\" >Metric</th>\n",
       "      <th id=\"T_163e6_level0_col1\" class=\"col_heading level0 col1\" >Calculated Value</th>\n",
       "      <th id=\"T_163e6_level0_col2\" class=\"col_heading level0 col2\" >Corresponds To</th>\n",
       "    </tr>\n",
       "  </thead>\n",
       "  <tbody>\n",
       "    <tr>\n",
       "      <td id=\"T_163e6_row0_col0\" class=\"data row0 col0\" >Price</td>\n",
       "      <td id=\"T_163e6_row0_col1\" class=\"data row0 col1\" >1.1069</td>\n",
       "      <td id=\"T_163e6_row0_col2\" class=\"data row0 col2\" >`MetricValue`</td>\n",
       "    </tr>\n",
       "    <tr>\n",
       "      <td id=\"T_163e6_row1_col0\" class=\"data row1 col0\" >Sharpe</td>\n",
       "      <td id=\"T_163e6_row1_col1\" class=\"data row1 col1\" >1.7229</td>\n",
       "      <td id=\"T_163e6_row1_col2\" class=\"data row1 col2\" >`MetricValue`</td>\n",
       "    </tr>\n",
       "    <tr>\n",
       "      <td id=\"T_163e6_row2_col0\" class=\"data row2 col0\" >Sharpe (ATR)</td>\n",
       "      <td id=\"T_163e6_row2_col1\" class=\"data row2 col1\" >0.6269</td>\n",
       "      <td id=\"T_163e6_row2_col2\" class=\"data row2 col2\" >`MetricValue`</td>\n",
       "    </tr>\n",
       "  </tbody>\n",
       "</table>\n"
      ],
      "text/plain": [
       "<pandas.io.formats.style.Styler at 0x160a7235110>"
      ]
     },
     "metadata": {},
     "output_type": "display_data"
    },
    {
     "data": {
      "text/markdown": [
       "#### Gain Values"
      ],
      "text/plain": [
       "<IPython.core.display.Markdown object>"
      ]
     },
     "metadata": {},
     "output_type": "display_data"
    },
    {
     "data": {
      "text/html": [
       "<style type=\"text/css\">\n",
       "</style>\n",
       "<table id=\"T_97df6\">\n",
       "  <thead>\n",
       "    <tr>\n",
       "      <th id=\"T_97df6_level0_col0\" class=\"col_heading level0 col0\" >Gain Metric</th>\n",
       "      <th id=\"T_97df6_level0_col1\" class=\"col_heading level0 col1\" >Gain Value</th>\n",
       "      <th id=\"T_97df6_level0_col2\" class=\"col_heading level0 col2\" >Corresponds To</th>\n",
       "    </tr>\n",
       "  </thead>\n",
       "  <tbody>\n",
       "    <tr>\n",
       "      <td id=\"T_97df6_row0_col0\" class=\"data row0 col0\" >Calc Period Gain</td>\n",
       "      <td id=\"T_97df6_row0_col1\" class=\"data row0 col1\" >10.69%</td>\n",
       "      <td id=\"T_97df6_row0_col2\" class=\"data row0 col2\" >`CalcGain`</td>\n",
       "    </tr>\n",
       "    <tr>\n",
       "      <td id=\"T_97df6_row1_col0\" class=\"data row1 col0\" >Forward Period Gain</td>\n",
       "      <td id=\"T_97df6_row1_col1\" class=\"data row1 col1\" >1.03%</td>\n",
       "      <td id=\"T_97df6_row1_col2\" class=\"data row1 col2\" >`FwdGain`</td>\n",
       "    </tr>\n",
       "  </tbody>\n",
       "</table>\n"
      ],
      "text/plain": [
       "<pandas.io.formats.style.Styler at 0x1609fae1110>"
      ]
     },
     "metadata": {},
     "output_type": "display_data"
    },
    {
     "name": "stdout",
     "output_type": "stream",
     "text": [
      "\n",
      "✅ Detailed ticker data exported to 'verification_ticker_FER_20230401.csv'\n",
      "\n",
      "================================================================================\n",
      "--- Verifying Ticker: SHV ---\n",
      "================================================================================\n"
     ]
    },
    {
     "data": {
      "text/markdown": [
       "## Verification Report for Ticker Ranking: `SHV`"
      ],
      "text/plain": [
       "<IPython.core.display.Markdown object>"
      ]
     },
     "metadata": {},
     "output_type": "display_data"
    },
    {
     "data": {
      "text/markdown": [
       "**Analysis Start Date:** `2023-04-01`"
      ],
      "text/plain": [
       "<IPython.core.display.Markdown object>"
      ]
     },
     "metadata": {},
     "output_type": "display_data"
    },
    {
     "data": {
      "text/markdown": [
       "**Requested Calculation Period:** `2023-04-01` to `2023-07-01`"
      ],
      "text/plain": [
       "<IPython.core.display.Markdown object>"
      ]
     },
     "metadata": {},
     "output_type": "display_data"
    },
    {
     "data": {
      "text/markdown": [
       "**Requested Forward Period:**   `2023-07-01` to `2023-07-08`"
      ],
      "text/plain": [
       "<IPython.core.display.Markdown object>"
      ]
     },
     "metadata": {},
     "output_type": "display_data"
    },
    {
     "data": {
      "text/markdown": [
       "### A. Calculation Period Analysis (for Ranking Metrics)"
      ],
      "text/plain": [
       "<IPython.core.display.Markdown object>"
      ]
     },
     "metadata": {},
     "output_type": "display_data"
    },
    {
     "data": {
      "text/markdown": [
       "**Actual Dates Used:** `2023-04-03` to `2023-06-30`"
      ],
      "text/plain": [
       "<IPython.core.display.Markdown object>"
      ]
     },
     "metadata": {},
     "output_type": "display_data"
    },
    {
     "data": {
      "text/markdown": [
       "#### `CalcGain` Verification:"
      ],
      "text/plain": [
       "<IPython.core.display.Markdown object>"
      ]
     },
     "metadata": {},
     "output_type": "display_data"
    },
    {
     "name": "stdout",
     "output_type": "stream",
     "text": [
      "  - Calc Start Price: $98.08\n",
      "  - Calc End Price:   $99.18  <-- 'CalcPrice'\n",
      "  - CalcGain = 1.12%\n"
     ]
    },
    {
     "data": {
      "text/markdown": [
       "#### `MetricValue` Verification:"
      ],
      "text/plain": [
       "<IPython.core.display.Markdown object>"
      ]
     },
     "metadata": {},
     "output_type": "display_data"
    },
    {
     "name": "stdout",
     "output_type": "stream",
     "text": [
      "\n",
      "1. Price Metric:\n",
      "   - Formula: Last Price / First Price = 1.0112\n",
      "\n",
      "2. Sharpe Metric:\n",
      "   - Mean Daily Return: 0.000183\n",
      "   - Std Dev Daily Return: 0.000202\n",
      "   - Annualized Sharpe = 14.3998\n",
      "\n",
      "3. Sharpe (ATR) Metric:\n",
      "   - Mean Daily Return: 0.000183 (same as above)\n",
      "   - Average ATR Percent (ATRP): 0.000374\n",
      "   - Sharpe (ATR) = 0.4887\n"
     ]
    },
    {
     "data": {
      "text/markdown": [
       "\n",
       "### B. Forward Period Analysis (`FwdGain`)"
      ],
      "text/plain": [
       "<IPython.core.display.Markdown object>"
      ]
     },
     "metadata": {},
     "output_type": "display_data"
    },
    {
     "name": "stdout",
     "output_type": "stream",
     "text": [
      "  - Fwd Start Price (Calc End Price): $99.18\n",
      "  - Fwd End Price: $99.24\n",
      "  - FwdGain = 0.07%\n"
     ]
    },
    {
     "data": {
      "text/markdown": [
       "\n",
       "### C. Final Summary Tables"
      ],
      "text/plain": [
       "<IPython.core.display.Markdown object>"
      ]
     },
     "metadata": {},
     "output_type": "display_data"
    },
    {
     "data": {
      "text/markdown": [
       "#### Ranking Metric Values"
      ],
      "text/plain": [
       "<IPython.core.display.Markdown object>"
      ]
     },
     "metadata": {},
     "output_type": "display_data"
    },
    {
     "data": {
      "text/html": [
       "<style type=\"text/css\">\n",
       "</style>\n",
       "<table id=\"T_c55ad\">\n",
       "  <thead>\n",
       "    <tr>\n",
       "      <th id=\"T_c55ad_level0_col0\" class=\"col_heading level0 col0\" >Metric</th>\n",
       "      <th id=\"T_c55ad_level0_col1\" class=\"col_heading level0 col1\" >Calculated Value</th>\n",
       "      <th id=\"T_c55ad_level0_col2\" class=\"col_heading level0 col2\" >Corresponds To</th>\n",
       "    </tr>\n",
       "  </thead>\n",
       "  <tbody>\n",
       "    <tr>\n",
       "      <td id=\"T_c55ad_row0_col0\" class=\"data row0 col0\" >Price</td>\n",
       "      <td id=\"T_c55ad_row0_col1\" class=\"data row0 col1\" >1.0112</td>\n",
       "      <td id=\"T_c55ad_row0_col2\" class=\"data row0 col2\" >`MetricValue`</td>\n",
       "    </tr>\n",
       "    <tr>\n",
       "      <td id=\"T_c55ad_row1_col0\" class=\"data row1 col0\" >Sharpe</td>\n",
       "      <td id=\"T_c55ad_row1_col1\" class=\"data row1 col1\" >14.3998</td>\n",
       "      <td id=\"T_c55ad_row1_col2\" class=\"data row1 col2\" >`MetricValue`</td>\n",
       "    </tr>\n",
       "    <tr>\n",
       "      <td id=\"T_c55ad_row2_col0\" class=\"data row2 col0\" >Sharpe (ATR)</td>\n",
       "      <td id=\"T_c55ad_row2_col1\" class=\"data row2 col1\" >0.4887</td>\n",
       "      <td id=\"T_c55ad_row2_col2\" class=\"data row2 col2\" >`MetricValue`</td>\n",
       "    </tr>\n",
       "  </tbody>\n",
       "</table>\n"
      ],
      "text/plain": [
       "<pandas.io.formats.style.Styler at 0x160a2442290>"
      ]
     },
     "metadata": {},
     "output_type": "display_data"
    },
    {
     "data": {
      "text/markdown": [
       "#### Gain Values"
      ],
      "text/plain": [
       "<IPython.core.display.Markdown object>"
      ]
     },
     "metadata": {},
     "output_type": "display_data"
    },
    {
     "data": {
      "text/html": [
       "<style type=\"text/css\">\n",
       "</style>\n",
       "<table id=\"T_e6d28\">\n",
       "  <thead>\n",
       "    <tr>\n",
       "      <th id=\"T_e6d28_level0_col0\" class=\"col_heading level0 col0\" >Gain Metric</th>\n",
       "      <th id=\"T_e6d28_level0_col1\" class=\"col_heading level0 col1\" >Gain Value</th>\n",
       "      <th id=\"T_e6d28_level0_col2\" class=\"col_heading level0 col2\" >Corresponds To</th>\n",
       "    </tr>\n",
       "  </thead>\n",
       "  <tbody>\n",
       "    <tr>\n",
       "      <td id=\"T_e6d28_row0_col0\" class=\"data row0 col0\" >Calc Period Gain</td>\n",
       "      <td id=\"T_e6d28_row0_col1\" class=\"data row0 col1\" >1.12%</td>\n",
       "      <td id=\"T_e6d28_row0_col2\" class=\"data row0 col2\" >`CalcGain`</td>\n",
       "    </tr>\n",
       "    <tr>\n",
       "      <td id=\"T_e6d28_row1_col0\" class=\"data row1 col0\" >Forward Period Gain</td>\n",
       "      <td id=\"T_e6d28_row1_col1\" class=\"data row1 col1\" >0.07%</td>\n",
       "      <td id=\"T_e6d28_row1_col2\" class=\"data row1 col2\" >`FwdGain`</td>\n",
       "    </tr>\n",
       "  </tbody>\n",
       "</table>\n"
      ],
      "text/plain": [
       "<pandas.io.formats.style.Styler at 0x160a2442290>"
      ]
     },
     "metadata": {},
     "output_type": "display_data"
    },
    {
     "name": "stdout",
     "output_type": "stream",
     "text": [
      "\n",
      "✅ Detailed ticker data exported to 'verification_ticker_SHV_20230401.csv'\n",
      "\n",
      "================================================================================\n",
      "--- Verifying Ticker: BIL ---\n",
      "================================================================================\n"
     ]
    },
    {
     "data": {
      "text/markdown": [
       "## Verification Report for Ticker Ranking: `BIL`"
      ],
      "text/plain": [
       "<IPython.core.display.Markdown object>"
      ]
     },
     "metadata": {},
     "output_type": "display_data"
    },
    {
     "data": {
      "text/markdown": [
       "**Analysis Start Date:** `2023-04-01`"
      ],
      "text/plain": [
       "<IPython.core.display.Markdown object>"
      ]
     },
     "metadata": {},
     "output_type": "display_data"
    },
    {
     "data": {
      "text/markdown": [
       "**Requested Calculation Period:** `2023-04-01` to `2023-07-01`"
      ],
      "text/plain": [
       "<IPython.core.display.Markdown object>"
      ]
     },
     "metadata": {},
     "output_type": "display_data"
    },
    {
     "data": {
      "text/markdown": [
       "**Requested Forward Period:**   `2023-07-01` to `2023-07-08`"
      ],
      "text/plain": [
       "<IPython.core.display.Markdown object>"
      ]
     },
     "metadata": {},
     "output_type": "display_data"
    },
    {
     "data": {
      "text/markdown": [
       "### A. Calculation Period Analysis (for Ranking Metrics)"
      ],
      "text/plain": [
       "<IPython.core.display.Markdown object>"
      ]
     },
     "metadata": {},
     "output_type": "display_data"
    },
    {
     "data": {
      "text/markdown": [
       "**Actual Dates Used:** `2023-04-03` to `2023-06-30`"
      ],
      "text/plain": [
       "<IPython.core.display.Markdown object>"
      ]
     },
     "metadata": {},
     "output_type": "display_data"
    },
    {
     "data": {
      "text/markdown": [
       "#### `CalcGain` Verification:"
      ],
      "text/plain": [
       "<IPython.core.display.Markdown object>"
      ]
     },
     "metadata": {},
     "output_type": "display_data"
    },
    {
     "name": "stdout",
     "output_type": "stream",
     "text": [
      "  - Calc Start Price: $81.43\n",
      "  - Calc End Price:   $82.39  <-- 'CalcPrice'\n",
      "  - CalcGain = 1.18%\n"
     ]
    },
    {
     "data": {
      "text/markdown": [
       "#### `MetricValue` Verification:"
      ],
      "text/plain": [
       "<IPython.core.display.Markdown object>"
      ]
     },
     "metadata": {},
     "output_type": "display_data"
    },
    {
     "name": "stdout",
     "output_type": "stream",
     "text": [
      "\n",
      "1. Price Metric:\n",
      "   - Formula: Last Price / First Price = 1.0118\n",
      "\n",
      "2. Sharpe Metric:\n",
      "   - Mean Daily Return: 0.000192\n",
      "   - Std Dev Daily Return: 0.000203\n",
      "   - Annualized Sharpe = 15.0479\n",
      "\n",
      "3. Sharpe (ATR) Metric:\n",
      "   - Mean Daily Return: 0.000192 (same as above)\n",
      "   - Average ATR Percent (ATRP): 0.000291\n",
      "   - Sharpe (ATR) = 0.6597\n"
     ]
    },
    {
     "data": {
      "text/markdown": [
       "\n",
       "### B. Forward Period Analysis (`FwdGain`)"
      ],
      "text/plain": [
       "<IPython.core.display.Markdown object>"
      ]
     },
     "metadata": {},
     "output_type": "display_data"
    },
    {
     "name": "stdout",
     "output_type": "stream",
     "text": [
      "  - Fwd Start Price (Calc End Price): $82.39\n",
      "  - Fwd End Price: $82.46\n",
      "  - FwdGain = 0.08%\n"
     ]
    },
    {
     "data": {
      "text/markdown": [
       "\n",
       "### C. Final Summary Tables"
      ],
      "text/plain": [
       "<IPython.core.display.Markdown object>"
      ]
     },
     "metadata": {},
     "output_type": "display_data"
    },
    {
     "data": {
      "text/markdown": [
       "#### Ranking Metric Values"
      ],
      "text/plain": [
       "<IPython.core.display.Markdown object>"
      ]
     },
     "metadata": {},
     "output_type": "display_data"
    },
    {
     "data": {
      "text/html": [
       "<style type=\"text/css\">\n",
       "</style>\n",
       "<table id=\"T_04428\">\n",
       "  <thead>\n",
       "    <tr>\n",
       "      <th id=\"T_04428_level0_col0\" class=\"col_heading level0 col0\" >Metric</th>\n",
       "      <th id=\"T_04428_level0_col1\" class=\"col_heading level0 col1\" >Calculated Value</th>\n",
       "      <th id=\"T_04428_level0_col2\" class=\"col_heading level0 col2\" >Corresponds To</th>\n",
       "    </tr>\n",
       "  </thead>\n",
       "  <tbody>\n",
       "    <tr>\n",
       "      <td id=\"T_04428_row0_col0\" class=\"data row0 col0\" >Price</td>\n",
       "      <td id=\"T_04428_row0_col1\" class=\"data row0 col1\" >1.0118</td>\n",
       "      <td id=\"T_04428_row0_col2\" class=\"data row0 col2\" >`MetricValue`</td>\n",
       "    </tr>\n",
       "    <tr>\n",
       "      <td id=\"T_04428_row1_col0\" class=\"data row1 col0\" >Sharpe</td>\n",
       "      <td id=\"T_04428_row1_col1\" class=\"data row1 col1\" >15.0479</td>\n",
       "      <td id=\"T_04428_row1_col2\" class=\"data row1 col2\" >`MetricValue`</td>\n",
       "    </tr>\n",
       "    <tr>\n",
       "      <td id=\"T_04428_row2_col0\" class=\"data row2 col0\" >Sharpe (ATR)</td>\n",
       "      <td id=\"T_04428_row2_col1\" class=\"data row2 col1\" >0.6597</td>\n",
       "      <td id=\"T_04428_row2_col2\" class=\"data row2 col2\" >`MetricValue`</td>\n",
       "    </tr>\n",
       "  </tbody>\n",
       "</table>\n"
      ],
      "text/plain": [
       "<pandas.io.formats.style.Styler at 0x160a2442b10>"
      ]
     },
     "metadata": {},
     "output_type": "display_data"
    },
    {
     "data": {
      "text/markdown": [
       "#### Gain Values"
      ],
      "text/plain": [
       "<IPython.core.display.Markdown object>"
      ]
     },
     "metadata": {},
     "output_type": "display_data"
    },
    {
     "data": {
      "text/html": [
       "<style type=\"text/css\">\n",
       "</style>\n",
       "<table id=\"T_7386b\">\n",
       "  <thead>\n",
       "    <tr>\n",
       "      <th id=\"T_7386b_level0_col0\" class=\"col_heading level0 col0\" >Gain Metric</th>\n",
       "      <th id=\"T_7386b_level0_col1\" class=\"col_heading level0 col1\" >Gain Value</th>\n",
       "      <th id=\"T_7386b_level0_col2\" class=\"col_heading level0 col2\" >Corresponds To</th>\n",
       "    </tr>\n",
       "  </thead>\n",
       "  <tbody>\n",
       "    <tr>\n",
       "      <td id=\"T_7386b_row0_col0\" class=\"data row0 col0\" >Calc Period Gain</td>\n",
       "      <td id=\"T_7386b_row0_col1\" class=\"data row0 col1\" >1.18%</td>\n",
       "      <td id=\"T_7386b_row0_col2\" class=\"data row0 col2\" >`CalcGain`</td>\n",
       "    </tr>\n",
       "    <tr>\n",
       "      <td id=\"T_7386b_row1_col0\" class=\"data row1 col0\" >Forward Period Gain</td>\n",
       "      <td id=\"T_7386b_row1_col1\" class=\"data row1 col1\" >0.08%</td>\n",
       "      <td id=\"T_7386b_row1_col2\" class=\"data row1 col2\" >`FwdGain`</td>\n",
       "    </tr>\n",
       "  </tbody>\n",
       "</table>\n"
      ],
      "text/plain": [
       "<pandas.io.formats.style.Styler at 0x160a2257e50>"
      ]
     },
     "metadata": {},
     "output_type": "display_data"
    },
    {
     "name": "stdout",
     "output_type": "stream",
     "text": [
      "\n",
      "✅ Detailed ticker data exported to 'verification_ticker_BIL_20230401.csv'\n",
      "\n",
      "================================================================================\n",
      "--- Verifying Ticker: GBIL ---\n",
      "================================================================================\n"
     ]
    },
    {
     "data": {
      "text/markdown": [
       "## Verification Report for Ticker Ranking: `GBIL`"
      ],
      "text/plain": [
       "<IPython.core.display.Markdown object>"
      ]
     },
     "metadata": {},
     "output_type": "display_data"
    },
    {
     "data": {
      "text/markdown": [
       "**Analysis Start Date:** `2023-04-01`"
      ],
      "text/plain": [
       "<IPython.core.display.Markdown object>"
      ]
     },
     "metadata": {},
     "output_type": "display_data"
    },
    {
     "data": {
      "text/markdown": [
       "**Requested Calculation Period:** `2023-04-01` to `2023-07-01`"
      ],
      "text/plain": [
       "<IPython.core.display.Markdown object>"
      ]
     },
     "metadata": {},
     "output_type": "display_data"
    },
    {
     "data": {
      "text/markdown": [
       "**Requested Forward Period:**   `2023-07-01` to `2023-07-08`"
      ],
      "text/plain": [
       "<IPython.core.display.Markdown object>"
      ]
     },
     "metadata": {},
     "output_type": "display_data"
    },
    {
     "data": {
      "text/markdown": [
       "### A. Calculation Period Analysis (for Ranking Metrics)"
      ],
      "text/plain": [
       "<IPython.core.display.Markdown object>"
      ]
     },
     "metadata": {},
     "output_type": "display_data"
    },
    {
     "data": {
      "text/markdown": [
       "**Actual Dates Used:** `2023-04-03` to `2023-06-30`"
      ],
      "text/plain": [
       "<IPython.core.display.Markdown object>"
      ]
     },
     "metadata": {},
     "output_type": "display_data"
    },
    {
     "data": {
      "text/markdown": [
       "#### `CalcGain` Verification:"
      ],
      "text/plain": [
       "<IPython.core.display.Markdown object>"
      ]
     },
     "metadata": {},
     "output_type": "display_data"
    },
    {
     "name": "stdout",
     "output_type": "stream",
     "text": [
      "  - Calc Start Price: $89.05\n",
      "  - Calc End Price:   $89.97  <-- 'CalcPrice'\n",
      "  - CalcGain = 1.04%\n"
     ]
    },
    {
     "data": {
      "text/markdown": [
       "#### `MetricValue` Verification:"
      ],
      "text/plain": [
       "<IPython.core.display.Markdown object>"
      ]
     },
     "metadata": {},
     "output_type": "display_data"
    },
    {
     "name": "stdout",
     "output_type": "stream",
     "text": [
      "\n",
      "1. Price Metric:\n",
      "   - Formula: Last Price / First Price = 1.0104\n",
      "\n",
      "2. Sharpe Metric:\n",
      "   - Mean Daily Return: 0.000170\n",
      "   - Std Dev Daily Return: 0.000236\n",
      "   - Annualized Sharpe = 11.4479\n",
      "\n",
      "3. Sharpe (ATR) Metric:\n",
      "   - Mean Daily Return: 0.000170 (same as above)\n",
      "   - Average ATR Percent (ATRP): 0.000368\n",
      "   - Sharpe (ATR) = 0.4619\n"
     ]
    },
    {
     "data": {
      "text/markdown": [
       "\n",
       "### B. Forward Period Analysis (`FwdGain`)"
      ],
      "text/plain": [
       "<IPython.core.display.Markdown object>"
      ]
     },
     "metadata": {},
     "output_type": "display_data"
    },
    {
     "name": "stdout",
     "output_type": "stream",
     "text": [
      "  - Fwd Start Price (Calc End Price): $89.97\n",
      "  - Fwd End Price: $90.05\n",
      "  - FwdGain = 0.08%\n"
     ]
    },
    {
     "data": {
      "text/markdown": [
       "\n",
       "### C. Final Summary Tables"
      ],
      "text/plain": [
       "<IPython.core.display.Markdown object>"
      ]
     },
     "metadata": {},
     "output_type": "display_data"
    },
    {
     "data": {
      "text/markdown": [
       "#### Ranking Metric Values"
      ],
      "text/plain": [
       "<IPython.core.display.Markdown object>"
      ]
     },
     "metadata": {},
     "output_type": "display_data"
    },
    {
     "data": {
      "text/html": [
       "<style type=\"text/css\">\n",
       "</style>\n",
       "<table id=\"T_683ff\">\n",
       "  <thead>\n",
       "    <tr>\n",
       "      <th id=\"T_683ff_level0_col0\" class=\"col_heading level0 col0\" >Metric</th>\n",
       "      <th id=\"T_683ff_level0_col1\" class=\"col_heading level0 col1\" >Calculated Value</th>\n",
       "      <th id=\"T_683ff_level0_col2\" class=\"col_heading level0 col2\" >Corresponds To</th>\n",
       "    </tr>\n",
       "  </thead>\n",
       "  <tbody>\n",
       "    <tr>\n",
       "      <td id=\"T_683ff_row0_col0\" class=\"data row0 col0\" >Price</td>\n",
       "      <td id=\"T_683ff_row0_col1\" class=\"data row0 col1\" >1.0104</td>\n",
       "      <td id=\"T_683ff_row0_col2\" class=\"data row0 col2\" >`MetricValue`</td>\n",
       "    </tr>\n",
       "    <tr>\n",
       "      <td id=\"T_683ff_row1_col0\" class=\"data row1 col0\" >Sharpe</td>\n",
       "      <td id=\"T_683ff_row1_col1\" class=\"data row1 col1\" >11.4479</td>\n",
       "      <td id=\"T_683ff_row1_col2\" class=\"data row1 col2\" >`MetricValue`</td>\n",
       "    </tr>\n",
       "    <tr>\n",
       "      <td id=\"T_683ff_row2_col0\" class=\"data row2 col0\" >Sharpe (ATR)</td>\n",
       "      <td id=\"T_683ff_row2_col1\" class=\"data row2 col1\" >0.4619</td>\n",
       "      <td id=\"T_683ff_row2_col2\" class=\"data row2 col2\" >`MetricValue`</td>\n",
       "    </tr>\n",
       "  </tbody>\n",
       "</table>\n"
      ],
      "text/plain": [
       "<pandas.io.formats.style.Styler at 0x160a283f490>"
      ]
     },
     "metadata": {},
     "output_type": "display_data"
    },
    {
     "data": {
      "text/markdown": [
       "#### Gain Values"
      ],
      "text/plain": [
       "<IPython.core.display.Markdown object>"
      ]
     },
     "metadata": {},
     "output_type": "display_data"
    },
    {
     "data": {
      "text/html": [
       "<style type=\"text/css\">\n",
       "</style>\n",
       "<table id=\"T_22f23\">\n",
       "  <thead>\n",
       "    <tr>\n",
       "      <th id=\"T_22f23_level0_col0\" class=\"col_heading level0 col0\" >Gain Metric</th>\n",
       "      <th id=\"T_22f23_level0_col1\" class=\"col_heading level0 col1\" >Gain Value</th>\n",
       "      <th id=\"T_22f23_level0_col2\" class=\"col_heading level0 col2\" >Corresponds To</th>\n",
       "    </tr>\n",
       "  </thead>\n",
       "  <tbody>\n",
       "    <tr>\n",
       "      <td id=\"T_22f23_row0_col0\" class=\"data row0 col0\" >Calc Period Gain</td>\n",
       "      <td id=\"T_22f23_row0_col1\" class=\"data row0 col1\" >1.04%</td>\n",
       "      <td id=\"T_22f23_row0_col2\" class=\"data row0 col2\" >`CalcGain`</td>\n",
       "    </tr>\n",
       "    <tr>\n",
       "      <td id=\"T_22f23_row1_col0\" class=\"data row1 col0\" >Forward Period Gain</td>\n",
       "      <td id=\"T_22f23_row1_col1\" class=\"data row1 col1\" >0.08%</td>\n",
       "      <td id=\"T_22f23_row1_col2\" class=\"data row1 col2\" >`FwdGain`</td>\n",
       "    </tr>\n",
       "  </tbody>\n",
       "</table>\n"
      ],
      "text/plain": [
       "<pandas.io.formats.style.Styler at 0x160a53a36d0>"
      ]
     },
     "metadata": {},
     "output_type": "display_data"
    },
    {
     "name": "stdout",
     "output_type": "stream",
     "text": [
      "\n",
      "✅ Detailed ticker data exported to 'verification_ticker_GBIL_20230401.csv'\n",
      "\n",
      "================================================================================\n",
      "--- Verifying Ticker: TFLO ---\n",
      "================================================================================\n"
     ]
    },
    {
     "data": {
      "text/markdown": [
       "## Verification Report for Ticker Ranking: `TFLO`"
      ],
      "text/plain": [
       "<IPython.core.display.Markdown object>"
      ]
     },
     "metadata": {},
     "output_type": "display_data"
    },
    {
     "data": {
      "text/markdown": [
       "**Analysis Start Date:** `2023-04-01`"
      ],
      "text/plain": [
       "<IPython.core.display.Markdown object>"
      ]
     },
     "metadata": {},
     "output_type": "display_data"
    },
    {
     "data": {
      "text/markdown": [
       "**Requested Calculation Period:** `2023-04-01` to `2023-07-01`"
      ],
      "text/plain": [
       "<IPython.core.display.Markdown object>"
      ]
     },
     "metadata": {},
     "output_type": "display_data"
    },
    {
     "data": {
      "text/markdown": [
       "**Requested Forward Period:**   `2023-07-01` to `2023-07-08`"
      ],
      "text/plain": [
       "<IPython.core.display.Markdown object>"
      ]
     },
     "metadata": {},
     "output_type": "display_data"
    },
    {
     "data": {
      "text/markdown": [
       "### A. Calculation Period Analysis (for Ranking Metrics)"
      ],
      "text/plain": [
       "<IPython.core.display.Markdown object>"
      ]
     },
     "metadata": {},
     "output_type": "display_data"
    },
    {
     "data": {
      "text/markdown": [
       "**Actual Dates Used:** `2023-04-03` to `2023-06-30`"
      ],
      "text/plain": [
       "<IPython.core.display.Markdown object>"
      ]
     },
     "metadata": {},
     "output_type": "display_data"
    },
    {
     "data": {
      "text/markdown": [
       "#### `CalcGain` Verification:"
      ],
      "text/plain": [
       "<IPython.core.display.Markdown object>"
      ]
     },
     "metadata": {},
     "output_type": "display_data"
    },
    {
     "name": "stdout",
     "output_type": "stream",
     "text": [
      "  - Calc Start Price: $44.78\n",
      "  - Calc End Price:   $45.38  <-- 'CalcPrice'\n",
      "  - CalcGain = 1.33%\n"
     ]
    },
    {
     "data": {
      "text/markdown": [
       "#### `MetricValue` Verification:"
      ],
      "text/plain": [
       "<IPython.core.display.Markdown object>"
      ]
     },
     "metadata": {},
     "output_type": "display_data"
    },
    {
     "name": "stdout",
     "output_type": "stream",
     "text": [
      "\n",
      "1. Price Metric:\n",
      "   - Formula: Last Price / First Price = 1.0133\n",
      "\n",
      "2. Sharpe Metric:\n",
      "   - Mean Daily Return: 0.000217\n",
      "   - Std Dev Daily Return: 0.000221\n",
      "   - Annualized Sharpe = 15.6030\n",
      "\n",
      "3. Sharpe (ATR) Metric:\n",
      "   - Mean Daily Return: 0.000217 (same as above)\n",
      "   - Average ATR Percent (ATRP): 0.000349\n",
      "   - Sharpe (ATR) = 0.6230\n"
     ]
    },
    {
     "data": {
      "text/markdown": [
       "\n",
       "### B. Forward Period Analysis (`FwdGain`)"
      ],
      "text/plain": [
       "<IPython.core.display.Markdown object>"
      ]
     },
     "metadata": {},
     "output_type": "display_data"
    },
    {
     "name": "stdout",
     "output_type": "stream",
     "text": [
      "  - Fwd Start Price (Calc End Price): $45.38\n",
      "  - Fwd End Price: $45.42\n",
      "  - FwdGain = 0.09%\n"
     ]
    },
    {
     "data": {
      "text/markdown": [
       "\n",
       "### C. Final Summary Tables"
      ],
      "text/plain": [
       "<IPython.core.display.Markdown object>"
      ]
     },
     "metadata": {},
     "output_type": "display_data"
    },
    {
     "data": {
      "text/markdown": [
       "#### Ranking Metric Values"
      ],
      "text/plain": [
       "<IPython.core.display.Markdown object>"
      ]
     },
     "metadata": {},
     "output_type": "display_data"
    },
    {
     "data": {
      "text/html": [
       "<style type=\"text/css\">\n",
       "</style>\n",
       "<table id=\"T_a9386\">\n",
       "  <thead>\n",
       "    <tr>\n",
       "      <th id=\"T_a9386_level0_col0\" class=\"col_heading level0 col0\" >Metric</th>\n",
       "      <th id=\"T_a9386_level0_col1\" class=\"col_heading level0 col1\" >Calculated Value</th>\n",
       "      <th id=\"T_a9386_level0_col2\" class=\"col_heading level0 col2\" >Corresponds To</th>\n",
       "    </tr>\n",
       "  </thead>\n",
       "  <tbody>\n",
       "    <tr>\n",
       "      <td id=\"T_a9386_row0_col0\" class=\"data row0 col0\" >Price</td>\n",
       "      <td id=\"T_a9386_row0_col1\" class=\"data row0 col1\" >1.0133</td>\n",
       "      <td id=\"T_a9386_row0_col2\" class=\"data row0 col2\" >`MetricValue`</td>\n",
       "    </tr>\n",
       "    <tr>\n",
       "      <td id=\"T_a9386_row1_col0\" class=\"data row1 col0\" >Sharpe</td>\n",
       "      <td id=\"T_a9386_row1_col1\" class=\"data row1 col1\" >15.6030</td>\n",
       "      <td id=\"T_a9386_row1_col2\" class=\"data row1 col2\" >`MetricValue`</td>\n",
       "    </tr>\n",
       "    <tr>\n",
       "      <td id=\"T_a9386_row2_col0\" class=\"data row2 col0\" >Sharpe (ATR)</td>\n",
       "      <td id=\"T_a9386_row2_col1\" class=\"data row2 col1\" >0.6230</td>\n",
       "      <td id=\"T_a9386_row2_col2\" class=\"data row2 col2\" >`MetricValue`</td>\n",
       "    </tr>\n",
       "  </tbody>\n",
       "</table>\n"
      ],
      "text/plain": [
       "<pandas.io.formats.style.Styler at 0x160a3446dd0>"
      ]
     },
     "metadata": {},
     "output_type": "display_data"
    },
    {
     "data": {
      "text/markdown": [
       "#### Gain Values"
      ],
      "text/plain": [
       "<IPython.core.display.Markdown object>"
      ]
     },
     "metadata": {},
     "output_type": "display_data"
    },
    {
     "data": {
      "text/html": [
       "<style type=\"text/css\">\n",
       "</style>\n",
       "<table id=\"T_6d344\">\n",
       "  <thead>\n",
       "    <tr>\n",
       "      <th id=\"T_6d344_level0_col0\" class=\"col_heading level0 col0\" >Gain Metric</th>\n",
       "      <th id=\"T_6d344_level0_col1\" class=\"col_heading level0 col1\" >Gain Value</th>\n",
       "      <th id=\"T_6d344_level0_col2\" class=\"col_heading level0 col2\" >Corresponds To</th>\n",
       "    </tr>\n",
       "  </thead>\n",
       "  <tbody>\n",
       "    <tr>\n",
       "      <td id=\"T_6d344_row0_col0\" class=\"data row0 col0\" >Calc Period Gain</td>\n",
       "      <td id=\"T_6d344_row0_col1\" class=\"data row0 col1\" >1.33%</td>\n",
       "      <td id=\"T_6d344_row0_col2\" class=\"data row0 col2\" >`CalcGain`</td>\n",
       "    </tr>\n",
       "    <tr>\n",
       "      <td id=\"T_6d344_row1_col0\" class=\"data row1 col0\" >Forward Period Gain</td>\n",
       "      <td id=\"T_6d344_row1_col1\" class=\"data row1 col1\" >0.09%</td>\n",
       "      <td id=\"T_6d344_row1_col2\" class=\"data row1 col2\" >`FwdGain`</td>\n",
       "    </tr>\n",
       "  </tbody>\n",
       "</table>\n"
      ],
      "text/plain": [
       "<pandas.io.formats.style.Styler at 0x160a2845f90>"
      ]
     },
     "metadata": {},
     "output_type": "display_data"
    },
    {
     "name": "stdout",
     "output_type": "stream",
     "text": [
      "\n",
      "✅ Detailed ticker data exported to 'verification_ticker_TFLO_20230401.csv'\n",
      "\n",
      "================================================================================\n",
      "--- Verifying Ticker: USFR ---\n",
      "================================================================================\n"
     ]
    },
    {
     "data": {
      "text/markdown": [
       "## Verification Report for Ticker Ranking: `USFR`"
      ],
      "text/plain": [
       "<IPython.core.display.Markdown object>"
      ]
     },
     "metadata": {},
     "output_type": "display_data"
    },
    {
     "data": {
      "text/markdown": [
       "**Analysis Start Date:** `2023-04-01`"
      ],
      "text/plain": [
       "<IPython.core.display.Markdown object>"
      ]
     },
     "metadata": {},
     "output_type": "display_data"
    },
    {
     "data": {
      "text/markdown": [
       "**Requested Calculation Period:** `2023-04-01` to `2023-07-01`"
      ],
      "text/plain": [
       "<IPython.core.display.Markdown object>"
      ]
     },
     "metadata": {},
     "output_type": "display_data"
    },
    {
     "data": {
      "text/markdown": [
       "**Requested Forward Period:**   `2023-07-01` to `2023-07-08`"
      ],
      "text/plain": [
       "<IPython.core.display.Markdown object>"
      ]
     },
     "metadata": {},
     "output_type": "display_data"
    },
    {
     "data": {
      "text/markdown": [
       "### A. Calculation Period Analysis (for Ranking Metrics)"
      ],
      "text/plain": [
       "<IPython.core.display.Markdown object>"
      ]
     },
     "metadata": {},
     "output_type": "display_data"
    },
    {
     "data": {
      "text/markdown": [
       "**Actual Dates Used:** `2023-04-03` to `2023-06-30`"
      ],
      "text/plain": [
       "<IPython.core.display.Markdown object>"
      ]
     },
     "metadata": {},
     "output_type": "display_data"
    },
    {
     "data": {
      "text/markdown": [
       "#### `CalcGain` Verification:"
      ],
      "text/plain": [
       "<IPython.core.display.Markdown object>"
      ]
     },
     "metadata": {},
     "output_type": "display_data"
    },
    {
     "name": "stdout",
     "output_type": "stream",
     "text": [
      "  - Calc Start Price: $44.81\n",
      "  - Calc End Price:   $45.41  <-- 'CalcPrice'\n",
      "  - CalcGain = 1.34%\n"
     ]
    },
    {
     "data": {
      "text/markdown": [
       "#### `MetricValue` Verification:"
      ],
      "text/plain": [
       "<IPython.core.display.Markdown object>"
      ]
     },
     "metadata": {},
     "output_type": "display_data"
    },
    {
     "name": "stdout",
     "output_type": "stream",
     "text": [
      "\n",
      "1. Price Metric:\n",
      "   - Formula: Last Price / First Price = 1.0134\n",
      "\n",
      "2. Sharpe Metric:\n",
      "   - Mean Daily Return: 0.000218\n",
      "   - Std Dev Daily Return: 0.000236\n",
      "   - Annualized Sharpe = 14.6549\n",
      "\n",
      "3. Sharpe (ATR) Metric:\n",
      "   - Mean Daily Return: 0.000218 (same as above)\n",
      "   - Average ATR Percent (ATRP): 0.000420\n",
      "   - Sharpe (ATR) = 0.5194\n"
     ]
    },
    {
     "data": {
      "text/markdown": [
       "\n",
       "### B. Forward Period Analysis (`FwdGain`)"
      ],
      "text/plain": [
       "<IPython.core.display.Markdown object>"
      ]
     },
     "metadata": {},
     "output_type": "display_data"
    },
    {
     "name": "stdout",
     "output_type": "stream",
     "text": [
      "  - Fwd Start Price (Calc End Price): $45.41\n",
      "  - Fwd End Price: $45.48\n",
      "  - FwdGain = 0.14%\n"
     ]
    },
    {
     "data": {
      "text/markdown": [
       "\n",
       "### C. Final Summary Tables"
      ],
      "text/plain": [
       "<IPython.core.display.Markdown object>"
      ]
     },
     "metadata": {},
     "output_type": "display_data"
    },
    {
     "data": {
      "text/markdown": [
       "#### Ranking Metric Values"
      ],
      "text/plain": [
       "<IPython.core.display.Markdown object>"
      ]
     },
     "metadata": {},
     "output_type": "display_data"
    },
    {
     "data": {
      "text/html": [
       "<style type=\"text/css\">\n",
       "</style>\n",
       "<table id=\"T_7ca80\">\n",
       "  <thead>\n",
       "    <tr>\n",
       "      <th id=\"T_7ca80_level0_col0\" class=\"col_heading level0 col0\" >Metric</th>\n",
       "      <th id=\"T_7ca80_level0_col1\" class=\"col_heading level0 col1\" >Calculated Value</th>\n",
       "      <th id=\"T_7ca80_level0_col2\" class=\"col_heading level0 col2\" >Corresponds To</th>\n",
       "    </tr>\n",
       "  </thead>\n",
       "  <tbody>\n",
       "    <tr>\n",
       "      <td id=\"T_7ca80_row0_col0\" class=\"data row0 col0\" >Price</td>\n",
       "      <td id=\"T_7ca80_row0_col1\" class=\"data row0 col1\" >1.0134</td>\n",
       "      <td id=\"T_7ca80_row0_col2\" class=\"data row0 col2\" >`MetricValue`</td>\n",
       "    </tr>\n",
       "    <tr>\n",
       "      <td id=\"T_7ca80_row1_col0\" class=\"data row1 col0\" >Sharpe</td>\n",
       "      <td id=\"T_7ca80_row1_col1\" class=\"data row1 col1\" >14.6549</td>\n",
       "      <td id=\"T_7ca80_row1_col2\" class=\"data row1 col2\" >`MetricValue`</td>\n",
       "    </tr>\n",
       "    <tr>\n",
       "      <td id=\"T_7ca80_row2_col0\" class=\"data row2 col0\" >Sharpe (ATR)</td>\n",
       "      <td id=\"T_7ca80_row2_col1\" class=\"data row2 col1\" >0.5194</td>\n",
       "      <td id=\"T_7ca80_row2_col2\" class=\"data row2 col2\" >`MetricValue`</td>\n",
       "    </tr>\n",
       "  </tbody>\n",
       "</table>\n"
      ],
      "text/plain": [
       "<pandas.io.formats.style.Styler at 0x160a284a290>"
      ]
     },
     "metadata": {},
     "output_type": "display_data"
    },
    {
     "data": {
      "text/markdown": [
       "#### Gain Values"
      ],
      "text/plain": [
       "<IPython.core.display.Markdown object>"
      ]
     },
     "metadata": {},
     "output_type": "display_data"
    },
    {
     "data": {
      "text/html": [
       "<style type=\"text/css\">\n",
       "</style>\n",
       "<table id=\"T_478bb\">\n",
       "  <thead>\n",
       "    <tr>\n",
       "      <th id=\"T_478bb_level0_col0\" class=\"col_heading level0 col0\" >Gain Metric</th>\n",
       "      <th id=\"T_478bb_level0_col1\" class=\"col_heading level0 col1\" >Gain Value</th>\n",
       "      <th id=\"T_478bb_level0_col2\" class=\"col_heading level0 col2\" >Corresponds To</th>\n",
       "    </tr>\n",
       "  </thead>\n",
       "  <tbody>\n",
       "    <tr>\n",
       "      <td id=\"T_478bb_row0_col0\" class=\"data row0 col0\" >Calc Period Gain</td>\n",
       "      <td id=\"T_478bb_row0_col1\" class=\"data row0 col1\" >1.34%</td>\n",
       "      <td id=\"T_478bb_row0_col2\" class=\"data row0 col2\" >`CalcGain`</td>\n",
       "    </tr>\n",
       "    <tr>\n",
       "      <td id=\"T_478bb_row1_col0\" class=\"data row1 col0\" >Forward Period Gain</td>\n",
       "      <td id=\"T_478bb_row1_col1\" class=\"data row1 col1\" >0.14%</td>\n",
       "      <td id=\"T_478bb_row1_col2\" class=\"data row1 col2\" >`FwdGain`</td>\n",
       "    </tr>\n",
       "  </tbody>\n",
       "</table>\n"
      ],
      "text/plain": [
       "<pandas.io.formats.style.Styler at 0x160a550e850>"
      ]
     },
     "metadata": {},
     "output_type": "display_data"
    },
    {
     "name": "stdout",
     "output_type": "stream",
     "text": [
      "\n",
      "✅ Detailed ticker data exported to 'verification_ticker_USFR_20230401.csv'\n",
      "\n",
      "================================================================================\n",
      "--- Verifying Ticker: BILS ---\n",
      "================================================================================\n"
     ]
    },
    {
     "data": {
      "text/markdown": [
       "## Verification Report for Ticker Ranking: `BILS`"
      ],
      "text/plain": [
       "<IPython.core.display.Markdown object>"
      ]
     },
     "metadata": {},
     "output_type": "display_data"
    },
    {
     "data": {
      "text/markdown": [
       "**Analysis Start Date:** `2023-04-01`"
      ],
      "text/plain": [
       "<IPython.core.display.Markdown object>"
      ]
     },
     "metadata": {},
     "output_type": "display_data"
    },
    {
     "data": {
      "text/markdown": [
       "**Requested Calculation Period:** `2023-04-01` to `2023-07-01`"
      ],
      "text/plain": [
       "<IPython.core.display.Markdown object>"
      ]
     },
     "metadata": {},
     "output_type": "display_data"
    },
    {
     "data": {
      "text/markdown": [
       "**Requested Forward Period:**   `2023-07-01` to `2023-07-08`"
      ],
      "text/plain": [
       "<IPython.core.display.Markdown object>"
      ]
     },
     "metadata": {},
     "output_type": "display_data"
    },
    {
     "data": {
      "text/markdown": [
       "### A. Calculation Period Analysis (for Ranking Metrics)"
      ],
      "text/plain": [
       "<IPython.core.display.Markdown object>"
      ]
     },
     "metadata": {},
     "output_type": "display_data"
    },
    {
     "data": {
      "text/markdown": [
       "**Actual Dates Used:** `2023-04-03` to `2023-06-30`"
      ],
      "text/plain": [
       "<IPython.core.display.Markdown object>"
      ]
     },
     "metadata": {},
     "output_type": "display_data"
    },
    {
     "data": {
      "text/markdown": [
       "#### `CalcGain` Verification:"
      ],
      "text/plain": [
       "<IPython.core.display.Markdown object>"
      ]
     },
     "metadata": {},
     "output_type": "display_data"
    },
    {
     "name": "stdout",
     "output_type": "stream",
     "text": [
      "  - Calc Start Price: $88.38\n",
      "  - Calc End Price:   $89.28  <-- 'CalcPrice'\n",
      "  - CalcGain = 1.01%\n"
     ]
    },
    {
     "data": {
      "text/markdown": [
       "#### `MetricValue` Verification:"
      ],
      "text/plain": [
       "<IPython.core.display.Markdown object>"
      ]
     },
     "metadata": {},
     "output_type": "display_data"
    },
    {
     "name": "stdout",
     "output_type": "stream",
     "text": [
      "\n",
      "1. Price Metric:\n",
      "   - Formula: Last Price / First Price = 1.0101\n",
      "\n",
      "2. Sharpe Metric:\n",
      "   - Mean Daily Return: 0.000165\n",
      "   - Std Dev Daily Return: 0.000213\n",
      "   - Annualized Sharpe = 12.3257\n",
      "\n",
      "3. Sharpe (ATR) Metric:\n",
      "   - Mean Daily Return: 0.000165 (same as above)\n",
      "   - Average ATR Percent (ATRP): 0.000376\n",
      "   - Sharpe (ATR) = 0.4404\n"
     ]
    },
    {
     "data": {
      "text/markdown": [
       "\n",
       "### B. Forward Period Analysis (`FwdGain`)"
      ],
      "text/plain": [
       "<IPython.core.display.Markdown object>"
      ]
     },
     "metadata": {},
     "output_type": "display_data"
    },
    {
     "name": "stdout",
     "output_type": "stream",
     "text": [
      "  - Fwd Start Price (Calc End Price): $89.28\n",
      "  - Fwd End Price: $89.33\n",
      "  - FwdGain = 0.07%\n"
     ]
    },
    {
     "data": {
      "text/markdown": [
       "\n",
       "### C. Final Summary Tables"
      ],
      "text/plain": [
       "<IPython.core.display.Markdown object>"
      ]
     },
     "metadata": {},
     "output_type": "display_data"
    },
    {
     "data": {
      "text/markdown": [
       "#### Ranking Metric Values"
      ],
      "text/plain": [
       "<IPython.core.display.Markdown object>"
      ]
     },
     "metadata": {},
     "output_type": "display_data"
    },
    {
     "data": {
      "text/html": [
       "<style type=\"text/css\">\n",
       "</style>\n",
       "<table id=\"T_b45e5\">\n",
       "  <thead>\n",
       "    <tr>\n",
       "      <th id=\"T_b45e5_level0_col0\" class=\"col_heading level0 col0\" >Metric</th>\n",
       "      <th id=\"T_b45e5_level0_col1\" class=\"col_heading level0 col1\" >Calculated Value</th>\n",
       "      <th id=\"T_b45e5_level0_col2\" class=\"col_heading level0 col2\" >Corresponds To</th>\n",
       "    </tr>\n",
       "  </thead>\n",
       "  <tbody>\n",
       "    <tr>\n",
       "      <td id=\"T_b45e5_row0_col0\" class=\"data row0 col0\" >Price</td>\n",
       "      <td id=\"T_b45e5_row0_col1\" class=\"data row0 col1\" >1.0101</td>\n",
       "      <td id=\"T_b45e5_row0_col2\" class=\"data row0 col2\" >`MetricValue`</td>\n",
       "    </tr>\n",
       "    <tr>\n",
       "      <td id=\"T_b45e5_row1_col0\" class=\"data row1 col0\" >Sharpe</td>\n",
       "      <td id=\"T_b45e5_row1_col1\" class=\"data row1 col1\" >12.3257</td>\n",
       "      <td id=\"T_b45e5_row1_col2\" class=\"data row1 col2\" >`MetricValue`</td>\n",
       "    </tr>\n",
       "    <tr>\n",
       "      <td id=\"T_b45e5_row2_col0\" class=\"data row2 col0\" >Sharpe (ATR)</td>\n",
       "      <td id=\"T_b45e5_row2_col1\" class=\"data row2 col1\" >0.4404</td>\n",
       "      <td id=\"T_b45e5_row2_col2\" class=\"data row2 col2\" >`MetricValue`</td>\n",
       "    </tr>\n",
       "  </tbody>\n",
       "</table>\n"
      ],
      "text/plain": [
       "<pandas.io.formats.style.Styler at 0x160a0c75310>"
      ]
     },
     "metadata": {},
     "output_type": "display_data"
    },
    {
     "data": {
      "text/markdown": [
       "#### Gain Values"
      ],
      "text/plain": [
       "<IPython.core.display.Markdown object>"
      ]
     },
     "metadata": {},
     "output_type": "display_data"
    },
    {
     "data": {
      "text/html": [
       "<style type=\"text/css\">\n",
       "</style>\n",
       "<table id=\"T_52b3e\">\n",
       "  <thead>\n",
       "    <tr>\n",
       "      <th id=\"T_52b3e_level0_col0\" class=\"col_heading level0 col0\" >Gain Metric</th>\n",
       "      <th id=\"T_52b3e_level0_col1\" class=\"col_heading level0 col1\" >Gain Value</th>\n",
       "      <th id=\"T_52b3e_level0_col2\" class=\"col_heading level0 col2\" >Corresponds To</th>\n",
       "    </tr>\n",
       "  </thead>\n",
       "  <tbody>\n",
       "    <tr>\n",
       "      <td id=\"T_52b3e_row0_col0\" class=\"data row0 col0\" >Calc Period Gain</td>\n",
       "      <td id=\"T_52b3e_row0_col1\" class=\"data row0 col1\" >1.01%</td>\n",
       "      <td id=\"T_52b3e_row0_col2\" class=\"data row0 col2\" >`CalcGain`</td>\n",
       "    </tr>\n",
       "    <tr>\n",
       "      <td id=\"T_52b3e_row1_col0\" class=\"data row1 col0\" >Forward Period Gain</td>\n",
       "      <td id=\"T_52b3e_row1_col1\" class=\"data row1 col1\" >0.07%</td>\n",
       "      <td id=\"T_52b3e_row1_col2\" class=\"data row1 col2\" >`FwdGain`</td>\n",
       "    </tr>\n",
       "  </tbody>\n",
       "</table>\n"
      ],
      "text/plain": [
       "<pandas.io.formats.style.Styler at 0x160a27d9f50>"
      ]
     },
     "metadata": {},
     "output_type": "display_data"
    },
    {
     "name": "stdout",
     "output_type": "stream",
     "text": [
      "\n",
      "✅ Detailed ticker data exported to 'verification_ticker_BILS_20230401.csv'\n",
      "\n",
      "================================================================================\n",
      "--- Verifying Ticker: MINT ---\n",
      "================================================================================\n"
     ]
    },
    {
     "data": {
      "text/markdown": [
       "## Verification Report for Ticker Ranking: `MINT`"
      ],
      "text/plain": [
       "<IPython.core.display.Markdown object>"
      ]
     },
     "metadata": {},
     "output_type": "display_data"
    },
    {
     "data": {
      "text/markdown": [
       "**Analysis Start Date:** `2023-04-01`"
      ],
      "text/plain": [
       "<IPython.core.display.Markdown object>"
      ]
     },
     "metadata": {},
     "output_type": "display_data"
    },
    {
     "data": {
      "text/markdown": [
       "**Requested Calculation Period:** `2023-04-01` to `2023-07-01`"
      ],
      "text/plain": [
       "<IPython.core.display.Markdown object>"
      ]
     },
     "metadata": {},
     "output_type": "display_data"
    },
    {
     "data": {
      "text/markdown": [
       "**Requested Forward Period:**   `2023-07-01` to `2023-07-08`"
      ],
      "text/plain": [
       "<IPython.core.display.Markdown object>"
      ]
     },
     "metadata": {},
     "output_type": "display_data"
    },
    {
     "data": {
      "text/markdown": [
       "### A. Calculation Period Analysis (for Ranking Metrics)"
      ],
      "text/plain": [
       "<IPython.core.display.Markdown object>"
      ]
     },
     "metadata": {},
     "output_type": "display_data"
    },
    {
     "data": {
      "text/markdown": [
       "**Actual Dates Used:** `2023-04-03` to `2023-06-30`"
      ],
      "text/plain": [
       "<IPython.core.display.Markdown object>"
      ]
     },
     "metadata": {},
     "output_type": "display_data"
    },
    {
     "data": {
      "text/markdown": [
       "#### `CalcGain` Verification:"
      ],
      "text/plain": [
       "<IPython.core.display.Markdown object>"
      ]
     },
     "metadata": {},
     "output_type": "display_data"
    },
    {
     "name": "stdout",
     "output_type": "stream",
     "text": [
      "  - Calc Start Price: $87.54\n",
      "  - Calc End Price:   $88.97  <-- 'CalcPrice'\n",
      "  - CalcGain = 1.63%\n"
     ]
    },
    {
     "data": {
      "text/markdown": [
       "#### `MetricValue` Verification:"
      ],
      "text/plain": [
       "<IPython.core.display.Markdown object>"
      ]
     },
     "metadata": {},
     "output_type": "display_data"
    },
    {
     "name": "stdout",
     "output_type": "stream",
     "text": [
      "\n",
      "1. Price Metric:\n",
      "   - Formula: Last Price / First Price = 1.0163\n",
      "\n",
      "2. Sharpe Metric:\n",
      "   - Mean Daily Return: 0.000266\n",
      "   - Std Dev Daily Return: 0.000288\n",
      "   - Annualized Sharpe = 14.6506\n",
      "\n",
      "3. Sharpe (ATR) Metric:\n",
      "   - Mean Daily Return: 0.000266 (same as above)\n",
      "   - Average ATR Percent (ATRP): 0.000565\n",
      "   - Sharpe (ATR) = 0.4706\n"
     ]
    },
    {
     "data": {
      "text/markdown": [
       "\n",
       "### B. Forward Period Analysis (`FwdGain`)"
      ],
      "text/plain": [
       "<IPython.core.display.Markdown object>"
      ]
     },
     "metadata": {},
     "output_type": "display_data"
    },
    {
     "name": "stdout",
     "output_type": "stream",
     "text": [
      "  - Fwd Start Price (Calc End Price): $88.97\n",
      "  - Fwd End Price: $89.09\n",
      "  - FwdGain = 0.14%\n"
     ]
    },
    {
     "data": {
      "text/markdown": [
       "\n",
       "### C. Final Summary Tables"
      ],
      "text/plain": [
       "<IPython.core.display.Markdown object>"
      ]
     },
     "metadata": {},
     "output_type": "display_data"
    },
    {
     "data": {
      "text/markdown": [
       "#### Ranking Metric Values"
      ],
      "text/plain": [
       "<IPython.core.display.Markdown object>"
      ]
     },
     "metadata": {},
     "output_type": "display_data"
    },
    {
     "data": {
      "text/html": [
       "<style type=\"text/css\">\n",
       "</style>\n",
       "<table id=\"T_94b2c\">\n",
       "  <thead>\n",
       "    <tr>\n",
       "      <th id=\"T_94b2c_level0_col0\" class=\"col_heading level0 col0\" >Metric</th>\n",
       "      <th id=\"T_94b2c_level0_col1\" class=\"col_heading level0 col1\" >Calculated Value</th>\n",
       "      <th id=\"T_94b2c_level0_col2\" class=\"col_heading level0 col2\" >Corresponds To</th>\n",
       "    </tr>\n",
       "  </thead>\n",
       "  <tbody>\n",
       "    <tr>\n",
       "      <td id=\"T_94b2c_row0_col0\" class=\"data row0 col0\" >Price</td>\n",
       "      <td id=\"T_94b2c_row0_col1\" class=\"data row0 col1\" >1.0163</td>\n",
       "      <td id=\"T_94b2c_row0_col2\" class=\"data row0 col2\" >`MetricValue`</td>\n",
       "    </tr>\n",
       "    <tr>\n",
       "      <td id=\"T_94b2c_row1_col0\" class=\"data row1 col0\" >Sharpe</td>\n",
       "      <td id=\"T_94b2c_row1_col1\" class=\"data row1 col1\" >14.6506</td>\n",
       "      <td id=\"T_94b2c_row1_col2\" class=\"data row1 col2\" >`MetricValue`</td>\n",
       "    </tr>\n",
       "    <tr>\n",
       "      <td id=\"T_94b2c_row2_col0\" class=\"data row2 col0\" >Sharpe (ATR)</td>\n",
       "      <td id=\"T_94b2c_row2_col1\" class=\"data row2 col1\" >0.4706</td>\n",
       "      <td id=\"T_94b2c_row2_col2\" class=\"data row2 col2\" >`MetricValue`</td>\n",
       "    </tr>\n",
       "  </tbody>\n",
       "</table>\n"
      ],
      "text/plain": [
       "<pandas.io.formats.style.Styler at 0x160a27dad90>"
      ]
     },
     "metadata": {},
     "output_type": "display_data"
    },
    {
     "data": {
      "text/markdown": [
       "#### Gain Values"
      ],
      "text/plain": [
       "<IPython.core.display.Markdown object>"
      ]
     },
     "metadata": {},
     "output_type": "display_data"
    },
    {
     "data": {
      "text/html": [
       "<style type=\"text/css\">\n",
       "</style>\n",
       "<table id=\"T_dfae5\">\n",
       "  <thead>\n",
       "    <tr>\n",
       "      <th id=\"T_dfae5_level0_col0\" class=\"col_heading level0 col0\" >Gain Metric</th>\n",
       "      <th id=\"T_dfae5_level0_col1\" class=\"col_heading level0 col1\" >Gain Value</th>\n",
       "      <th id=\"T_dfae5_level0_col2\" class=\"col_heading level0 col2\" >Corresponds To</th>\n",
       "    </tr>\n",
       "  </thead>\n",
       "  <tbody>\n",
       "    <tr>\n",
       "      <td id=\"T_dfae5_row0_col0\" class=\"data row0 col0\" >Calc Period Gain</td>\n",
       "      <td id=\"T_dfae5_row0_col1\" class=\"data row0 col1\" >1.63%</td>\n",
       "      <td id=\"T_dfae5_row0_col2\" class=\"data row0 col2\" >`CalcGain`</td>\n",
       "    </tr>\n",
       "    <tr>\n",
       "      <td id=\"T_dfae5_row1_col0\" class=\"data row1 col0\" >Forward Period Gain</td>\n",
       "      <td id=\"T_dfae5_row1_col1\" class=\"data row1 col1\" >0.14%</td>\n",
       "      <td id=\"T_dfae5_row1_col2\" class=\"data row1 col2\" >`FwdGain`</td>\n",
       "    </tr>\n",
       "  </tbody>\n",
       "</table>\n"
      ],
      "text/plain": [
       "<pandas.io.formats.style.Styler at 0x160a0c75810>"
      ]
     },
     "metadata": {},
     "output_type": "display_data"
    },
    {
     "name": "stdout",
     "output_type": "stream",
     "text": [
      "\n",
      "✅ Detailed ticker data exported to 'verification_ticker_MINT_20230401.csv'\n",
      "\n",
      "================================================================================\n",
      "--- Verifying Ticker: TBIL ---\n",
      "================================================================================\n"
     ]
    },
    {
     "data": {
      "text/markdown": [
       "## Verification Report for Ticker Ranking: `TBIL`"
      ],
      "text/plain": [
       "<IPython.core.display.Markdown object>"
      ]
     },
     "metadata": {},
     "output_type": "display_data"
    },
    {
     "data": {
      "text/markdown": [
       "**Analysis Start Date:** `2023-04-01`"
      ],
      "text/plain": [
       "<IPython.core.display.Markdown object>"
      ]
     },
     "metadata": {},
     "output_type": "display_data"
    },
    {
     "data": {
      "text/markdown": [
       "**Requested Calculation Period:** `2023-04-01` to `2023-07-01`"
      ],
      "text/plain": [
       "<IPython.core.display.Markdown object>"
      ]
     },
     "metadata": {},
     "output_type": "display_data"
    },
    {
     "data": {
      "text/markdown": [
       "**Requested Forward Period:**   `2023-07-01` to `2023-07-08`"
      ],
      "text/plain": [
       "<IPython.core.display.Markdown object>"
      ]
     },
     "metadata": {},
     "output_type": "display_data"
    },
    {
     "data": {
      "text/markdown": [
       "### A. Calculation Period Analysis (for Ranking Metrics)"
      ],
      "text/plain": [
       "<IPython.core.display.Markdown object>"
      ]
     },
     "metadata": {},
     "output_type": "display_data"
    },
    {
     "data": {
      "text/markdown": [
       "**Actual Dates Used:** `2023-04-03` to `2023-06-30`"
      ],
      "text/plain": [
       "<IPython.core.display.Markdown object>"
      ]
     },
     "metadata": {},
     "output_type": "display_data"
    },
    {
     "data": {
      "text/markdown": [
       "#### `CalcGain` Verification:"
      ],
      "text/plain": [
       "<IPython.core.display.Markdown object>"
      ]
     },
     "metadata": {},
     "output_type": "display_data"
    },
    {
     "name": "stdout",
     "output_type": "stream",
     "text": [
      "  - Calc Start Price: $44.39\n",
      "  - Calc End Price:   $44.93  <-- 'CalcPrice'\n",
      "  - CalcGain = 1.20%\n"
     ]
    },
    {
     "data": {
      "text/markdown": [
       "#### `MetricValue` Verification:"
      ],
      "text/plain": [
       "<IPython.core.display.Markdown object>"
      ]
     },
     "metadata": {},
     "output_type": "display_data"
    },
    {
     "name": "stdout",
     "output_type": "stream",
     "text": [
      "\n",
      "1. Price Metric:\n",
      "   - Formula: Last Price / First Price = 1.0120\n",
      "\n",
      "2. Sharpe Metric:\n",
      "   - Mean Daily Return: 0.000196\n",
      "   - Std Dev Daily Return: 0.000220\n",
      "   - Annualized Sharpe = 14.1094\n",
      "\n",
      "3. Sharpe (ATR) Metric:\n",
      "   - Mean Daily Return: 0.000196 (same as above)\n",
      "   - Average ATR Percent (ATRP): 0.000390\n",
      "   - Sharpe (ATR) = 0.5022\n"
     ]
    },
    {
     "data": {
      "text/markdown": [
       "\n",
       "### B. Forward Period Analysis (`FwdGain`)"
      ],
      "text/plain": [
       "<IPython.core.display.Markdown object>"
      ]
     },
     "metadata": {},
     "output_type": "display_data"
    },
    {
     "name": "stdout",
     "output_type": "stream",
     "text": [
      "  - Fwd Start Price (Calc End Price): $44.93\n",
      "  - Fwd End Price: $44.97\n",
      "  - FwdGain = 0.09%\n"
     ]
    },
    {
     "data": {
      "text/markdown": [
       "\n",
       "### C. Final Summary Tables"
      ],
      "text/plain": [
       "<IPython.core.display.Markdown object>"
      ]
     },
     "metadata": {},
     "output_type": "display_data"
    },
    {
     "data": {
      "text/markdown": [
       "#### Ranking Metric Values"
      ],
      "text/plain": [
       "<IPython.core.display.Markdown object>"
      ]
     },
     "metadata": {},
     "output_type": "display_data"
    },
    {
     "data": {
      "text/html": [
       "<style type=\"text/css\">\n",
       "</style>\n",
       "<table id=\"T_36f40\">\n",
       "  <thead>\n",
       "    <tr>\n",
       "      <th id=\"T_36f40_level0_col0\" class=\"col_heading level0 col0\" >Metric</th>\n",
       "      <th id=\"T_36f40_level0_col1\" class=\"col_heading level0 col1\" >Calculated Value</th>\n",
       "      <th id=\"T_36f40_level0_col2\" class=\"col_heading level0 col2\" >Corresponds To</th>\n",
       "    </tr>\n",
       "  </thead>\n",
       "  <tbody>\n",
       "    <tr>\n",
       "      <td id=\"T_36f40_row0_col0\" class=\"data row0 col0\" >Price</td>\n",
       "      <td id=\"T_36f40_row0_col1\" class=\"data row0 col1\" >1.0120</td>\n",
       "      <td id=\"T_36f40_row0_col2\" class=\"data row0 col2\" >`MetricValue`</td>\n",
       "    </tr>\n",
       "    <tr>\n",
       "      <td id=\"T_36f40_row1_col0\" class=\"data row1 col0\" >Sharpe</td>\n",
       "      <td id=\"T_36f40_row1_col1\" class=\"data row1 col1\" >14.1094</td>\n",
       "      <td id=\"T_36f40_row1_col2\" class=\"data row1 col2\" >`MetricValue`</td>\n",
       "    </tr>\n",
       "    <tr>\n",
       "      <td id=\"T_36f40_row2_col0\" class=\"data row2 col0\" >Sharpe (ATR)</td>\n",
       "      <td id=\"T_36f40_row2_col1\" class=\"data row2 col1\" >0.5022</td>\n",
       "      <td id=\"T_36f40_row2_col2\" class=\"data row2 col2\" >`MetricValue`</td>\n",
       "    </tr>\n",
       "  </tbody>\n",
       "</table>\n"
      ],
      "text/plain": [
       "<pandas.io.formats.style.Styler at 0x160a724a290>"
      ]
     },
     "metadata": {},
     "output_type": "display_data"
    },
    {
     "data": {
      "text/markdown": [
       "#### Gain Values"
      ],
      "text/plain": [
       "<IPython.core.display.Markdown object>"
      ]
     },
     "metadata": {},
     "output_type": "display_data"
    },
    {
     "data": {
      "text/html": [
       "<style type=\"text/css\">\n",
       "</style>\n",
       "<table id=\"T_a92fa\">\n",
       "  <thead>\n",
       "    <tr>\n",
       "      <th id=\"T_a92fa_level0_col0\" class=\"col_heading level0 col0\" >Gain Metric</th>\n",
       "      <th id=\"T_a92fa_level0_col1\" class=\"col_heading level0 col1\" >Gain Value</th>\n",
       "      <th id=\"T_a92fa_level0_col2\" class=\"col_heading level0 col2\" >Corresponds To</th>\n",
       "    </tr>\n",
       "  </thead>\n",
       "  <tbody>\n",
       "    <tr>\n",
       "      <td id=\"T_a92fa_row0_col0\" class=\"data row0 col0\" >Calc Period Gain</td>\n",
       "      <td id=\"T_a92fa_row0_col1\" class=\"data row0 col1\" >1.20%</td>\n",
       "      <td id=\"T_a92fa_row0_col2\" class=\"data row0 col2\" >`CalcGain`</td>\n",
       "    </tr>\n",
       "    <tr>\n",
       "      <td id=\"T_a92fa_row1_col0\" class=\"data row1 col0\" >Forward Period Gain</td>\n",
       "      <td id=\"T_a92fa_row1_col1\" class=\"data row1 col1\" >0.09%</td>\n",
       "      <td id=\"T_a92fa_row1_col2\" class=\"data row1 col2\" >`FwdGain`</td>\n",
       "    </tr>\n",
       "  </tbody>\n",
       "</table>\n"
      ],
      "text/plain": [
       "<pandas.io.formats.style.Styler at 0x160a283f390>"
      ]
     },
     "metadata": {},
     "output_type": "display_data"
    },
    {
     "name": "stdout",
     "output_type": "stream",
     "text": [
      "\n",
      "✅ Detailed ticker data exported to 'verification_ticker_TBIL_20230401.csv'\n",
      "\n",
      "================================================================================\n",
      "--- Verifying Ticker: VOO ---\n",
      "================================================================================\n"
     ]
    },
    {
     "data": {
      "text/markdown": [
       "## Verification Report for Ticker Ranking: `VOO`"
      ],
      "text/plain": [
       "<IPython.core.display.Markdown object>"
      ]
     },
     "metadata": {},
     "output_type": "display_data"
    },
    {
     "data": {
      "text/markdown": [
       "**Analysis Start Date:** `2023-04-01`"
      ],
      "text/plain": [
       "<IPython.core.display.Markdown object>"
      ]
     },
     "metadata": {},
     "output_type": "display_data"
    },
    {
     "data": {
      "text/markdown": [
       "**Requested Calculation Period:** `2023-04-01` to `2023-07-01`"
      ],
      "text/plain": [
       "<IPython.core.display.Markdown object>"
      ]
     },
     "metadata": {},
     "output_type": "display_data"
    },
    {
     "data": {
      "text/markdown": [
       "**Requested Forward Period:**   `2023-07-01` to `2023-07-08`"
      ],
      "text/plain": [
       "<IPython.core.display.Markdown object>"
      ]
     },
     "metadata": {},
     "output_type": "display_data"
    },
    {
     "data": {
      "text/markdown": [
       "### A. Calculation Period Analysis (for Ranking Metrics)"
      ],
      "text/plain": [
       "<IPython.core.display.Markdown object>"
      ]
     },
     "metadata": {},
     "output_type": "display_data"
    },
    {
     "data": {
      "text/markdown": [
       "**Actual Dates Used:** `2023-04-03` to `2023-06-30`"
      ],
      "text/plain": [
       "<IPython.core.display.Markdown object>"
      ]
     },
     "metadata": {},
     "output_type": "display_data"
    },
    {
     "data": {
      "text/markdown": [
       "#### `CalcGain` Verification:"
      ],
      "text/plain": [
       "<IPython.core.display.Markdown object>"
      ]
     },
     "metadata": {},
     "output_type": "display_data"
    },
    {
     "name": "stdout",
     "output_type": "stream",
     "text": [
      "  - Calc Start Price: $365.87\n",
      "  - Calc End Price:   $396.22  <-- 'CalcPrice'\n",
      "  - CalcGain = 8.30%\n"
     ]
    },
    {
     "data": {
      "text/markdown": [
       "#### `MetricValue` Verification:"
      ],
      "text/plain": [
       "<IPython.core.display.Markdown object>"
      ]
     },
     "metadata": {},
     "output_type": "display_data"
    },
    {
     "name": "stdout",
     "output_type": "stream",
     "text": [
      "\n",
      "1. Price Metric:\n",
      "   - Formula: Last Price / First Price = 1.0830\n",
      "\n",
      "2. Sharpe Metric:\n",
      "   - Mean Daily Return: 0.001335\n",
      "   - Std Dev Daily Return: 0.007485\n",
      "   - Annualized Sharpe = 2.8308\n",
      "\n",
      "3. Sharpe (ATR) Metric:\n",
      "   - Mean Daily Return: 0.001335 (same as above)\n",
      "   - Average ATR Percent (ATRP): 0.010039\n",
      "   - Sharpe (ATR) = 0.1330\n"
     ]
    },
    {
     "data": {
      "text/markdown": [
       "\n",
       "### B. Forward Period Analysis (`FwdGain`)"
      ],
      "text/plain": [
       "<IPython.core.display.Markdown object>"
      ]
     },
     "metadata": {},
     "output_type": "display_data"
    },
    {
     "name": "stdout",
     "output_type": "stream",
     "text": [
      "  - Fwd Start Price (Calc End Price): $396.22\n",
      "  - Fwd End Price: $391.95\n",
      "  - FwdGain = -1.08%\n"
     ]
    },
    {
     "data": {
      "text/markdown": [
       "\n",
       "### C. Final Summary Tables"
      ],
      "text/plain": [
       "<IPython.core.display.Markdown object>"
      ]
     },
     "metadata": {},
     "output_type": "display_data"
    },
    {
     "data": {
      "text/markdown": [
       "#### Ranking Metric Values"
      ],
      "text/plain": [
       "<IPython.core.display.Markdown object>"
      ]
     },
     "metadata": {},
     "output_type": "display_data"
    },
    {
     "data": {
      "text/html": [
       "<style type=\"text/css\">\n",
       "</style>\n",
       "<table id=\"T_189fe\">\n",
       "  <thead>\n",
       "    <tr>\n",
       "      <th id=\"T_189fe_level0_col0\" class=\"col_heading level0 col0\" >Metric</th>\n",
       "      <th id=\"T_189fe_level0_col1\" class=\"col_heading level0 col1\" >Calculated Value</th>\n",
       "      <th id=\"T_189fe_level0_col2\" class=\"col_heading level0 col2\" >Corresponds To</th>\n",
       "    </tr>\n",
       "  </thead>\n",
       "  <tbody>\n",
       "    <tr>\n",
       "      <td id=\"T_189fe_row0_col0\" class=\"data row0 col0\" >Price</td>\n",
       "      <td id=\"T_189fe_row0_col1\" class=\"data row0 col1\" >1.0830</td>\n",
       "      <td id=\"T_189fe_row0_col2\" class=\"data row0 col2\" >`MetricValue`</td>\n",
       "    </tr>\n",
       "    <tr>\n",
       "      <td id=\"T_189fe_row1_col0\" class=\"data row1 col0\" >Sharpe</td>\n",
       "      <td id=\"T_189fe_row1_col1\" class=\"data row1 col1\" >2.8308</td>\n",
       "      <td id=\"T_189fe_row1_col2\" class=\"data row1 col2\" >`MetricValue`</td>\n",
       "    </tr>\n",
       "    <tr>\n",
       "      <td id=\"T_189fe_row2_col0\" class=\"data row2 col0\" >Sharpe (ATR)</td>\n",
       "      <td id=\"T_189fe_row2_col1\" class=\"data row2 col1\" >0.1330</td>\n",
       "      <td id=\"T_189fe_row2_col2\" class=\"data row2 col2\" >`MetricValue`</td>\n",
       "    </tr>\n",
       "  </tbody>\n",
       "</table>\n"
      ],
      "text/plain": [
       "<pandas.io.formats.style.Styler at 0x160a0c5f810>"
      ]
     },
     "metadata": {},
     "output_type": "display_data"
    },
    {
     "data": {
      "text/markdown": [
       "#### Gain Values"
      ],
      "text/plain": [
       "<IPython.core.display.Markdown object>"
      ]
     },
     "metadata": {},
     "output_type": "display_data"
    },
    {
     "data": {
      "text/html": [
       "<style type=\"text/css\">\n",
       "</style>\n",
       "<table id=\"T_4cc1a\">\n",
       "  <thead>\n",
       "    <tr>\n",
       "      <th id=\"T_4cc1a_level0_col0\" class=\"col_heading level0 col0\" >Gain Metric</th>\n",
       "      <th id=\"T_4cc1a_level0_col1\" class=\"col_heading level0 col1\" >Gain Value</th>\n",
       "      <th id=\"T_4cc1a_level0_col2\" class=\"col_heading level0 col2\" >Corresponds To</th>\n",
       "    </tr>\n",
       "  </thead>\n",
       "  <tbody>\n",
       "    <tr>\n",
       "      <td id=\"T_4cc1a_row0_col0\" class=\"data row0 col0\" >Calc Period Gain</td>\n",
       "      <td id=\"T_4cc1a_row0_col1\" class=\"data row0 col1\" >8.30%</td>\n",
       "      <td id=\"T_4cc1a_row0_col2\" class=\"data row0 col2\" >`CalcGain`</td>\n",
       "    </tr>\n",
       "    <tr>\n",
       "      <td id=\"T_4cc1a_row1_col0\" class=\"data row1 col0\" >Forward Period Gain</td>\n",
       "      <td id=\"T_4cc1a_row1_col1\" class=\"data row1 col1\" >-1.08%</td>\n",
       "      <td id=\"T_4cc1a_row1_col2\" class=\"data row1 col2\" >`FwdGain`</td>\n",
       "    </tr>\n",
       "  </tbody>\n",
       "</table>\n"
      ],
      "text/plain": [
       "<pandas.io.formats.style.Styler at 0x160a27d8290>"
      ]
     },
     "metadata": {},
     "output_type": "display_data"
    },
    {
     "name": "stdout",
     "output_type": "stream",
     "text": [
      "\n",
      "✅ Detailed ticker data exported to 'verification_ticker_VOO_20230401.csv'\n",
      "\n",
      "--- All Ticker Verifications Complete ---\n"
     ]
    }
   ],
   "source": [
    "# --- CORRECTED VERIFICATION SNIPPET ---\n",
    "\n",
    "# First, get the cleaned list of tickers as you did before\n",
    "results_df = walk_forward_results[0]\n",
    "all_tickers_cleaned = [ticker.replace(' (BM)', '') for ticker in results_df.index.tolist()]\n",
    "\n",
    "print(\"--- Starting Individual Ticker Verification ---\")\n",
    "\n",
    "# Now, loop through the list and call the verification function for each one\n",
    "for single_ticker in all_tickers_cleaned:\n",
    "    print(f\"\\n\" + \"=\"*80)\n",
    "    print(f\"--- Verifying Ticker: {single_ticker} ---\")\n",
    "    print(\"=\"*80)\n",
    "    \n",
    "    # Call the function for ONE ticker at a time\n",
    "    verify_ticker_ranking_metrics(\n",
    "        df_ohlcv=df_OHLCV,\n",
    "        ticker=single_ticker, \n",
    "        start_date=test_start_date, \n",
    "        calc_period=test_calc_period, \n",
    "        fwd_period=test_fwd_period, \n",
    "        export_csv=True # Set to True if you want a file for each ticker\n",
    "    )\n",
    "\n",
    "print(\"\\n--- All Ticker Verifications Complete ---\")"
   ]
  },
  {
   "cell_type": "code",
   "execution_count": null,
   "id": "26115bc9",
   "metadata": {},
   "outputs": [],
   "source": []
  },
  {
   "cell_type": "code",
   "execution_count": null,
   "id": "7655fc98",
   "metadata": {},
   "outputs": [],
   "source": []
  }
 ],
 "metadata": {
  "kernelspec": {
   "display_name": "py311-py3.11",
   "language": "python",
   "name": "python3"
  },
  "language_info": {
   "codemirror_mode": {
    "name": "ipython",
    "version": 3
   },
   "file_extension": ".py",
   "mimetype": "text/x-python",
   "name": "python",
   "nbconvert_exporter": "python",
   "pygments_lexer": "ipython3",
   "version": "3.11.9"
  }
 },
 "nbformat": 4,
 "nbformat_minor": 5
}
