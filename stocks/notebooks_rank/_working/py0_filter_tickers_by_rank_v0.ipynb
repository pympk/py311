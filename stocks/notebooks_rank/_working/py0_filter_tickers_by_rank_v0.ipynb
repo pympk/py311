{
 "cells": [
  {
   "cell_type": "code",
   "execution_count": 1,
   "metadata": {},
   "outputs": [
    {
     "name": "stdout",
     "output_type": "stream",
     "text": [
      "✅ Project Root Directory: c:\\Users\\ping\\Files_win10\\python\\py311\\stocks\n",
      "✅ Notebook Directory: c:\\Users\\ping\\Files_win10\\python\\py311\\stocks\\notebooks_rank\\_working\n",
      "✅ Source Directory (for utils): c:\\Users\\ping\\Files_win10\\python\\py311\\stocks\\src\n",
      "✅ Data Directory (for input): c:\\Users\\ping\\Files_win10\\python\\py311\\stocks\\data\n",
      "\n",
      "✅ Successfully imported 'utils' module.\n"
     ]
    }
   ],
   "source": [
    "import sys\n",
    "from pathlib import Path\n",
    "import pandas as pd\n",
    "import os\n",
    "from IPython.display import display, Markdown  # Assuming you use these for display\n",
    "\n",
    "# --- 1. PANDAS OPTIONS (No change) ---\n",
    "# pd.set_option('display.max_rows', 200)  \n",
    "pd.set_option('display.max_columns', None)\n",
    "pd.set_option('display.width', 3000)\n",
    "\n",
    "# --- 2. IPYTHON AUTORELOAD (No change) ---\n",
    "%load_ext autoreload\n",
    "%autoreload 2\n",
    "\n",
    "# --- 3. ROBUST PATH CONFIGURATION (MODIFIED) ---\n",
    "\n",
    "# Get the current working directory of the notebook\n",
    "NOTEBOOK_DIR = Path.cwd()\n",
    "\n",
    "# Find the project ROOT directory by going up from the notebook's location\n",
    "# This is robust and works even if you move the notebook deeper.\n",
    "ROOT_DIR = NOTEBOOK_DIR.parent.parent\n",
    "\n",
    "# Define key project directories relative to the ROOT\n",
    "DATA_DIR = ROOT_DIR / 'data'\n",
    "SRC_DIR = ROOT_DIR / 'src'\n",
    "# You could also define an output directory here if needed\n",
    "OUTPUT_DIR = ROOT_DIR / 'output'\n",
    "\n",
    "# Add the 'src' directory to the Python path so you can import 'utils'\n",
    "if str(SRC_DIR) not in sys.path:\n",
    "    sys.path.append(str(SRC_DIR))\n",
    "\n",
    "# --- 4. VERIFICATION (IMPROVED) ---\n",
    "print(f\"✅ Project Root Directory: {ROOT_DIR}\")\n",
    "print(f\"✅ Notebook Directory: {NOTEBOOK_DIR}\")\n",
    "print(f\"✅ Source Directory (for utils): {SRC_DIR}\")\n",
    "print(f\"✅ Data Directory (for input): {DATA_DIR}\")\n",
    "\n",
    "# Verify that the key directories exist. This helps catch path errors early.\n",
    "assert ROOT_DIR.exists(), f\"ROOT directory not found at: {ROOT_DIR}\"\n",
    "assert SRC_DIR.exists(), f\"Source directory not found at: {SRC_DIR}\"\n",
    "assert DATA_DIR.exists(), f\"Data directory not found at: {DATA_DIR}\"\n",
    "\n",
    "# --- 5. IMPORT YOUR CUSTOM MODULE ---\n",
    "import utils\n",
    "print(\"\\n✅ Successfully imported 'utils' module.\")"
   ]
  },
  {
   "cell_type": "code",
   "execution_count": 2,
   "metadata": {},
   "outputs": [
    {
     "name": "stdout",
     "output_type": "stream",
     "text": [
      "\n",
      "file_list (len(file_list): 59:\n",
      "0: 2025-07-18_df_finviz_merged_stocks_etfs.parquet\n",
      "1: 2025-07-17_df_finviz_merged_stocks_etfs.parquet\n",
      "2: 2025-07-16_df_finviz_merged_stocks_etfs.parquet\n",
      "3: 2025-07-15_df_finviz_merged_stocks_etfs.parquet\n",
      "4: 2025-07-14_df_finviz_merged_stocks_etfs.parquet\n",
      "5: 2025-07-11_df_finviz_merged_stocks_etfs.parquet\n",
      "6: 2025-07-10_df_finviz_merged_stocks_etfs.parquet\n",
      "7: 2025-07-09_df_finviz_merged_stocks_etfs.parquet\n",
      "8: 2025-07-08_df_finviz_merged_stocks_etfs.parquet\n",
      "9: 2025-07-07_df_finviz_merged_stocks_etfs.parquet\n",
      "10: 2025-07-03_df_finviz_merged_stocks_etfs.parquet\n",
      "11: 2025-06-06_df_finviz_merged_stocks_etfs.parquet\n",
      "12: 2025-06-05_df_finviz_merged_stocks_etfs.parquet\n",
      "13: 2025-06-04_df_finviz_merged_stocks_etfs.parquet\n",
      "14: 2025-06-03_df_finviz_merged_stocks_etfs.parquet\n",
      "15: 2025-06-02_df_finviz_merged_stocks_etfs.parquet\n",
      "16: 2025-05-30_df_finviz_merged_stocks_etfs.parquet\n",
      "17: 2025-05-29_df_finviz_merged_stocks_etfs.parquet\n",
      "18: 2025-05-28_df_finviz_merged_stocks_etfs.parquet\n",
      "19: 2025-05-27_df_finviz_merged_stocks_etfs.parquet\n",
      "20: 2025-05-23_df_finviz_merged_stocks_etfs.parquet\n",
      "21: 2025-05-22_df_finviz_merged_stocks_etfs.parquet\n",
      "22: 2025-05-21_df_finviz_merged_stocks_etfs.parquet\n",
      "23: 2025-05-20_df_finviz_merged_stocks_etfs.parquet\n",
      "24: 2025-05-19_df_finviz_merged_stocks_etfs.parquet\n",
      "25: 2025-05-16_df_finviz_merged_stocks_etfs.parquet\n",
      "26: 2025-05-15_df_finviz_merged_stocks_etfs.parquet\n",
      "27: 2025-05-14_df_finviz_merged_stocks_etfs.parquet\n",
      "28: 2025-05-13_df_finviz_merged_stocks_etfs.parquet\n",
      "29: 2025-05-12_df_finviz_merged_stocks_etfs.parquet\n",
      "30: 2025-05-09_df_finviz_merged_stocks_etfs.parquet\n",
      "31: 2025-05-08_df_finviz_merged_stocks_etfs.parquet\n",
      "32: 2025-05-07_df_finviz_merged_stocks_etfs.parquet\n",
      "33: 2025-05-06_df_finviz_merged_stocks_etfs.parquet\n",
      "34: 2025-05-05_df_finviz_merged_stocks_etfs.parquet\n",
      "35: 2025-05-02_df_finviz_merged_stocks_etfs.parquet\n",
      "36: 2025-05-01_df_finviz_merged_stocks_etfs.parquet\n",
      "37: 2025-04-30_df_finviz_merged_stocks_etfs.parquet\n",
      "38: 2025-04-29_df_finviz_merged_stocks_etfs.parquet\n",
      "39: 2025-04-28_df_finviz_merged_stocks_etfs.parquet\n",
      "40: 2025-04-25_df_finviz_merged_stocks_etfs.parquet\n",
      "41: 2025-07-02_df_finviz_merged_stocks_etfs.parquet\n",
      "42: 2025-07-01_df_finviz_merged_stocks_etfs.parquet\n",
      "43: 2025-06-30_df_finviz_merged_stocks_etfs.parquet\n",
      "44: 2025-06-27_df_finviz_merged_stocks_etfs.parquet\n",
      "45: 2025-06-26_df_finviz_merged_stocks_etfs.parquet\n",
      "46: 2025-06-25_df_finviz_merged_stocks_etfs.parquet\n",
      "47: 2025-06-24_df_finviz_merged_stocks_etfs.parquet\n",
      "48: 2025-06-23_df_finviz_merged_stocks_etfs.parquet\n",
      "49: 2025-06-20_df_finviz_merged_stocks_etfs.parquet\n",
      "50: 2025-06-19_df_finviz_merged_stocks_etfs.parquet\n",
      "51: 2025-06-18_df_finviz_merged_stocks_etfs.parquet\n",
      "52: 2025-06-17_df_finviz_merged_stocks_etfs.parquet\n",
      "53: 2025-06-16_df_finviz_merged_stocks_etfs.parquet\n",
      "54: 2025-06-12_df_finviz_merged_stocks_etfs.parquet\n",
      "55: 2025-06-11_df_finviz_merged_stocks_etfs.parquet\n",
      "56: 2025-06-10_df_finviz_merged_stocks_etfs.parquet\n",
      "57: 2025-06-09_df_finviz_merged_stocks_etfs.parquet\n",
      "58: 2025-06-13_df_finviz_merged_stocks_etfs.parquet\n"
     ]
    }
   ],
   "source": [
    "# To get ALL matching files, sorted by recency\n",
    "file_list = utils.get_recent_files(\n",
    "    directory_path=DATA_DIR,\n",
    "    extension='parquet',\n",
    "    prefix='2025',\n",
    "    contains_pattern='df_finviz_merged_stocks_etfs',\n",
    "    # count=None\n",
    "    count=100    \n",
    ")\n",
    "\n",
    "# Print the file_list\n",
    "print(f'\\nfile_list (len(file_list): {len(file_list)}:')\n",
    "for i, f, in enumerate(file_list):\n",
    "    print(f'{i}: {f}')"
   ]
  },
  {
   "cell_type": "code",
   "execution_count": 3,
   "metadata": {},
   "outputs": [
    {
     "name": "stdout",
     "output_type": "stream",
     "text": [
      "Latest df_finviz_merged_stocks_etfs:\n",
      "2025-07-18_df_finviz_merged_stocks_etfs.parquet\n",
      "\n",
      "df_finviz_merged_stocks_etfs.head(20):\n",
      "       No.                                 Company               Index                  Sector                        Industry Country Exchange                                               Info  MktCap AUM, M  Rank  Market Cap, M     P/E  Fwd P/E    PEG    P/S    P/B     P/C   P/FCF    Book/sh    Cash/sh  Dividend %  Dividend TTM Dividend Ex Date  Payout Ratio %       EPS  EPS next Q  EPS this Y %  EPS next Y %  EPS past 5Y %  EPS next 5Y %  Sales past 5Y %  Sales Q/Q %  EPS Q/Q %  EPS YoY TTM %  Sales YoY TTM %  Sales, M  Income, M  EPS Surprise %  Revenue Surprise %  Outstanding, M  Float, M  Float %  Insider Own %  Insider Trans %  Inst Own %  Inst Trans %  Short Float %  Short Ratio  Short Interest, M  ROA %   ROE %  ROIC %  Curr R  Quick R  LTDebt/Eq  Debt/Eq  Gross M %  Oper M %  Profit M %  Perf 3D %  Perf Week %  Perf Month %  Perf Quart %  Perf Half %  Perf Year %  Perf YTD %  Beta      ATR  ATR/Price %  Volatility W %  Volatility M %  SMA20 %  SMA50 %  SMA200 %  50D High %  50D Low %  52W High %  52W Low %              52W Range  All-Time High %  All-Time Low %    RSI  Earnings    IPO Date Optionable Shortable  Employees  Change from Open %  Gap %  Recom  Avg Volume, M  Rel Volume     Volume  Target Price  Prev Close       Open       High        Low      Price  Change %                    Single Category         Asset Type  Expense %  Holdings    AUM, M  Flows 1M, M  Flows% 1M  Flows 3M, M  Flows% 3M  Flows YTD, M  Flows% YTD  Return% 1Y  Return% 3Y  Return% 5Y                            Tags  Sharpe 3d     Sortino 3d      Omega 3d  Sharpe 5d   Sortino 5d    Omega 5d  Sharpe 10d  Sortino 10d  Omega 10d  Sharpe 15d  Sortino 15d  Omega 15d  Sharpe 30d  Sortino 30d  Omega 30d  Sharpe 60d  Sortino 60d  Omega 60d  Sharpe 120d  Sortino 120d  Omega 120d  Sharpe 250d  Sortino 250d  Omega 250d\n",
      "NVDA     1                             NVIDIA Corp  DJIA, NDX, S&P 500              Technology                  Semiconductors     USA     NASD                         Technology, Semiconductors      4206800.0     1      4206800.0   55.54    29.59   1.80  28.33  50.15   78.35   58.38       3.44       2.20        0.02          0.04        6/11/2025            1.16      3.10        1.00           NaN           NaN            NaN            NaN              NaN        69.18      27.60          81.36            86.17  148510.0    76770.0            9.89                1.68        24390.00  23410.00    95.98           4.07            -0.55       66.31          1.06           1.04         1.19             243.03  75.89  115.46   81.82    3.39     2.96       0.12     0.12      70.11     58.03       51.69   1.001757         4.54         19.63         65.00        26.55        36.44       28.39  2.14     3.88     2.250450            1.88            2.11     8.01    18.65     30.21       -1.00      55.57       -1.00      99.04         86.62 - 174.16            -1.00       517129.98  78.28  May 28/a   1/22/1999        Yes       Yes    36000.0               -0.79   0.46   1.37      204.62000        0.71  145444590        179.49      173.00     173.79     174.25     171.26     172.41     -0.34                                                              NaN       NaN       NaN          NaN        NaN          NaN        NaN           NaN         NaN         NaN         NaN         NaN                               -   5.024155      18.189864      2.620482  10.254106   110.750097   14.953201   11.132203    70.656871  10.622138    6.137676    12.006345   2.936281    7.196407    15.169388   3.304866    7.134991    17.428693   3.380040     1.618721      2.544793    1.339166     0.890955      1.286111    1.169041\n",
      "MSFT     2                   Microsoft Corporation  DJIA, NDX, S&P 500              Technology       Software - Infrastructure     USA     NASD              Technology, Software - Infrastructure      3790970.0     2      3790970.0   39.41    33.57   2.65  14.04  11.78   47.61   54.65      43.30      10.71        0.64          2.41        8/21/2025           25.42     12.94        3.37           NaN           NaN            NaN            NaN              NaN        13.27      17.88          12.10            14.13  270010.0    96640.0            7.38                2.38         7430.00   7320.00    98.50           1.48            -0.12       73.59          1.04           0.78         2.81              56.86  18.46   33.61   23.24    1.37     1.36       0.29     0.33      69.07     45.23       35.79   0.836266         1.34          6.70         37.25        19.64        13.47       21.01  1.05     6.46     1.266542            1.12            1.27     2.45     7.28     19.17       -0.65      18.31       -0.65      47.93        344.79 - 513.37            -0.65       640033.90  73.51  Jul 30/a   3/13/1986        Yes       Yes   228000.0               -0.89   0.57   1.29       20.26000        1.04   21113351        545.98      511.70     514.64     514.64     507.43     510.05     -0.32                                                              NaN       NaN       NaN          NaN        NaN          NaN        NaN           NaN         NaN         NaN         NaN         NaN                               -   6.244158      28.144198      3.507284   7.822498    30.876052    4.387094    6.235906    20.648203   3.066213    3.945540     8.655061   1.982313    6.138991    14.037248   2.634980    6.368652    24.480986   4.346739     1.200836      2.029370    1.275092     0.615166      0.924881    1.123919\n",
      "AAPL     3                               Apple Inc  DJIA, NDX, S&P 500              Technology            Consumer Electronics     USA     NASD                   Technology, Consumer Electronics      3154150.0     3      3154150.0   32.96    27.17   4.32   7.88  47.23   65.04   32.03       4.47       3.25        0.49          1.01        5/12/2025           16.11      6.41        1.42           NaN           NaN            NaN            NaN              NaN         5.08       7.68          -0.36             4.91  400370.0    97290.0            1.39                0.86        14940.00  14920.00    99.88           0.10            -1.28       63.83          0.16           0.74         2.07             110.10  29.10  138.02   66.93    0.82     0.78       1.18     1.47      46.63     31.81       24.30   0.989910         0.01          7.94          8.70       -11.22       -10.07      -15.67  1.17     3.88     1.837295            1.38            1.82     1.79     3.34     -5.03       -2.34       9.28      -18.81      24.80        169.21 - 260.10           -18.81       331860.46  59.41  Jul 31/a  12/12/1980        Yes       Yes   164000.0                0.09   0.47   2.00       53.22000        0.91   48583865        229.48      210.02     211.00     211.79     209.70     211.18      0.55                                                              NaN       NaN       NaN          NaN        NaN          NaN        NaN           NaN         NaN         NaN         NaN         NaN                               -   8.232987      61.775082      6.503362  16.163141   111.543033   15.053101    1.310428     1.772964   1.239631    5.002593     9.268348   2.320308    2.363503     3.760899   1.461960    0.536797     0.816084   1.104023    -0.333668     -0.487970    0.934301    -0.145579     -0.206467    0.971326\n",
      "AMZN     4                          Amazon.com Inc  DJIA, NDX, S&P 500       Consumer Cyclical                 Internet Retail     USA     NASD                 Consumer Cyclical, Internet Retail      2400680.0     4      2400680.0   36.88    31.00   2.11   3.69   7.85   24.43  115.36      28.82       9.25         NaN           NaN                -            0.00      6.13        1.32           NaN           NaN            NaN            NaN              NaN         8.62      62.33          71.88            10.08  650310.0    65940.0           16.38                0.33        10610.00   9590.00    90.35           9.68            -1.39       64.47          0.65           0.74         1.64              70.66  11.23   25.24   15.02    1.05     0.84       0.44     0.49      49.16     11.15       10.14  -0.097195         0.49          5.26         29.71         1.24        17.15        3.07  1.31     4.03     1.782161            1.22            1.81     2.68     6.53      9.06       -0.50      23.00       -6.76      49.15        151.61 - 242.52            -6.76       344479.07  62.96  Jul 31/a   5/15/1997        Yes       Yes  1556000.0                0.36   0.64   1.20       43.11000        0.87   37665016        246.70      223.88     225.32     226.40     222.98     226.13      1.01                                                              NaN       NaN       NaN          NaN        NaN          NaN        NaN           NaN         NaN         NaN         NaN         NaN                               -  20.686986  498478.420374  44408.987232   0.571358     0.826547    1.104135    1.713919     2.473803   1.320325    1.141862     1.613373   1.205667    3.254492     5.877887   1.681957    3.518007     7.764488   1.885727    -0.140720     -0.210475    0.974897     0.674830      0.989679    1.125924\n",
      "GOOGL    5                            Alphabet Inc        NDX, S&P 500  Communication Services  Internet Content & Information     USA     NASD  Communication Services, Internet Content & Inf...      2251870.0     5      2251870.0   20.64    18.13   1.57   6.27   6.51   23.62   30.07      28.41       7.83        0.28          0.81         6/9/2025            7.46      8.97        2.18           NaN           NaN            NaN            NaN              NaN        11.81      48.77          37.73            13.02  359310.0   111000.0           38.81                1.15         5830.00   5800.00    99.63          52.17            -0.01       38.26         -0.43           1.32         1.89              76.52  25.15   34.79   30.02    1.77     1.77       0.07     0.08      58.54     32.60       30.89   1.681319         2.70          5.18         20.69        -5.36         0.62       -2.24  1.01     4.14     2.237112            1.68            2.49     4.78     7.78      6.57        0.40      25.18      -10.62      31.69        140.53 - 207.05           -10.62         7606.58  66.58  Jul 23/a   8/19/2004        Yes       Yes   183323.0               -0.38   1.19   1.44       40.44000        0.84   33814566        202.83      183.58     185.76     186.42     183.71     185.06      0.81                                                              NaN       NaN       NaN          NaN        NaN          NaN        NaN           NaN         NaN         NaN         NaN         NaN                               -  26.301522  498478.420374  44408.987232  29.415648  3017.547941  381.175306    9.676578    17.000777   4.212845    3.826489     5.928908   1.769474    3.440144     5.507215   1.707991    2.601775     3.795084   1.548632    -0.135671     -0.186495    0.977407     0.178408      0.247058    1.030677\n",
      "GOOG     6                            Alphabet Inc        NDX, S&P 500  Communication Services  Internet Content & Information     USA     NASD  Communication Services, Internet Content & Inf...      2248850.0     6      2248850.0   20.74    18.21   1.58   6.26   6.55   23.59   30.03      28.41       7.88        0.30          0.81         6/9/2025            7.46      8.97        2.18           NaN           NaN            NaN            NaN              NaN        11.81      48.77          37.73            13.02  359310.0   111000.0           38.84                1.15         5470.00   5070.00    92.61          58.22            -0.01       27.10         -0.44           0.79         1.47              40.02  25.15   34.79   30.02    1.77     1.77       0.07     0.08      58.54     32.60       30.89   1.551065         2.55          4.91         19.58        -5.60         0.24       -2.36  1.02     4.12     2.215769            1.71            2.49     4.73     7.57      6.12        0.29      24.38      -10.91      30.34        142.66 - 208.70           -10.91          664.83  66.74  Jul 23/a   3/27/2014        Yes       Yes   183323.0               -0.46   1.14   1.44       27.16000        0.77   20884839        202.83      184.70     186.80     187.36     184.73     185.94      0.67                                                              NaN       NaN       NaN          NaN        NaN          NaN        NaN           NaN         NaN         NaN         NaN         NaN                               -  77.803288  498478.420374  44408.987232  29.919375  3017.547941  381.175306    9.601103    17.443147   4.296445    4.706782     7.695566   2.058243    3.414387     5.369277   1.689906    2.496143     3.548562   1.528187    -0.173303     -0.237950    0.971096     0.161161      0.222389    1.027728\n",
      "META     7                      Meta Platforms Inc        NDX, S&P 500  Communication Services  Internet Content & Information     USA     NASD  Communication Services, Internet Content & Inf...      1770660.0     7      1770660.0   27.47    24.85   2.72  10.39   9.60   25.19   33.85      73.34      27.96        0.25          2.05        6/16/2025            8.38     25.64        5.85           NaN           NaN            NaN            NaN              NaN        16.07      36.38          47.56            19.37  170360.0    66640.0           22.83                2.36         2180.00   2170.00    99.44          13.78            -0.33       68.10          0.59           1.46         2.37              31.59  26.49   39.83   28.65    2.66     2.66       0.26     0.27      81.75     43.00       39.11  -0.860091        -1.84          1.01         40.21        14.12        43.79       20.28  1.27    14.46     2.053161            1.78            1.94    -1.55     3.39     13.17       -5.83      20.07       -5.83      59.11        442.65 - 747.90            -5.83         3912.99  50.63  Jul 30/a   5/18/2012        Yes       Yes    74067.0                0.22   0.18   1.44       13.32000        0.96   12729767        728.80      701.41     702.70     704.71     691.65     704.28      0.41                                                              NaN       NaN       NaN          NaN        NaN          NaN        NaN           NaN         NaN         NaN         NaN         NaN                               -   2.957471       8.030848      1.715445 -11.263175   -10.288347    0.141751   -3.540909    -4.559954   0.576349   -4.320021    -4.950254   0.496647    1.061714     1.722510   1.179692    4.354072    10.389120   2.197808     0.445904      0.689389    1.086863     1.172844      1.828784    1.236529\n",
      "AVGO     8                            Broadcom Inc        NDX, S&P 500              Technology                  Semiconductors     USA     NASD                         Technology, Semiconductors      1332680.0     8      1332680.0  106.51    34.53   4.00  23.36  19.15  140.70   58.72      14.80       2.01        0.84          2.30        6/20/2025          170.61      2.66        1.66           NaN           NaN            NaN            NaN              NaN        20.16     132.81          14.43            33.85   57050.0    12920.0            0.69                0.31         4700.00   4610.00    98.05           1.96            -1.71       77.39          0.99           1.22         2.60              56.10   7.79   18.98    9.84    1.08     0.98       0.89     0.97      61.72     37.90       22.64   0.854275         3.27         13.62         62.27        24.27        67.29       22.21  1.17     7.49     2.643467            2.53            2.63     4.21    12.53     35.69       -1.71      44.61       -1.71     120.50        128.50 - 288.28            -1.71        19672.51  66.79  Jun 05/a    8/6/2009        Yes       Yes    37000.0               -1.45   0.37   1.39       21.56000        0.69   14929080        295.89      286.45     287.52     287.53     281.00     283.34     -1.09                                                              NaN       NaN       NaN          NaN        NaN          NaN        NaN           NaN         NaN         NaN         NaN         NaN                               -   3.232434       9.079465      1.808863   7.151701    19.787556    3.363617    4.200453     9.867006   1.962020    3.165693     4.940994   1.657689    2.425929     3.572466   1.488454    6.135968    12.519784   2.922809     1.516514      2.447870    1.320596     1.227653      1.963776    1.268919\n",
      "TSM      9  Taiwan Semiconductor Manufacturing ADR                   -              Technology                  Semiconductors  Taiwan     NYSE                         Technology, Semiconductors      1246680.0     9      1246680.0   27.37    21.36   1.15  11.75   9.00   13.82   40.00      26.72      17.39        1.39          2.66        9/16/2025           30.18      8.78        2.58           NaN           NaN            NaN            NaN              NaN        45.37      68.50          47.97            38.65  106140.0    45550.0            9.72                5.10         5190.00   5180.00    99.89           0.11             0.00       16.13         -3.10           0.53         2.20              27.34  21.47   33.29   24.51    2.37     2.15       0.19     0.21      57.60     48.74       42.92   1.456003         4.34         12.39         58.50        16.25        29.22       21.73  1.20     5.75     2.391847            2.18            2.12     5.14    14.25     24.12       -3.17      40.92       -3.17      79.98        133.57 - 248.28            -3.17         9157.17  66.91  Jul 17/b   10/8/1997        Yes       Yes        NaN               -2.12   0.00   1.35       12.44000        1.30   16228016        263.52      245.60     245.60     245.97     238.69     240.40     -2.12                                                              NaN       NaN       NaN          NaN        NaN          NaN        NaN           NaN         NaN         NaN         NaN         NaN                               -   2.520563       6.500901      1.579146   7.365313    18.909877    3.382421    4.293470    10.123025   2.092676    2.810723     5.860036   1.596812    4.942939    10.548549   2.244348    5.909328    13.593989   2.690014     1.228330      1.864095    1.237467     0.995465      1.466072    1.187898\n",
      "TSLA    10                               Tesla Inc        NDX, S&P 500       Consumer Cyclical              Auto Manufacturers     USA     NASD              Consumer Cyclical, Auto Manufacturers      1060320.0    10      1060320.0  181.29   116.41   9.99  11.08  14.22   28.34  156.39      23.18      11.63         NaN           NaN                -            0.00      1.82        0.40           NaN           NaN            NaN            NaN              NaN        -9.23     -65.43         -53.71             1.03   95720.0     6370.0          -34.72               -9.10         3220.00   2800.00    87.00          12.91            -0.29       49.08          2.78           2.86         0.72              80.07   5.43    9.16    7.52    2.00     1.54       0.13     0.18      17.66      7.40        6.65   6.071819         5.15          4.20         36.47       -23.02        28.49      -18.37  2.34    13.84     4.198392            3.07            3.76     3.87     1.76      3.71      -10.35      21.64      -32.52      81.13        182.00 - 488.54           -32.52        32909.04  55.85  Jul 23/a   6/29/2010        Yes       Yes   125665.0                2.32   0.87   2.60      111.36000        0.84   93822128        312.73      319.41     322.19     330.90     321.42     329.65      3.21                                                              NaN       NaN       NaN          NaN        NaN          NaN        NaN           NaN         NaN         NaN         NaN         NaN                               -   7.098241      38.615333      4.440127   5.798784    15.346365    2.505405    9.309173    28.135650   4.479869    0.788877     1.121187   1.138052    2.529881     4.197724   1.511838    2.135171     3.232719   1.441769    -0.182977     -0.268137    0.968788     0.747337      1.172590    1.138548\n",
      "BRK-A   11                  Berkshire Hathaway Inc                   -               Financial         Insurance - Diversified     USA     NYSE                 Financial, Insurance - Diversified      1022800.0    11      1022800.0   12.63    22.00  21.78   2.75   1.56    2.94   84.77  455055.17  241684.04         NaN           NaN                -            0.00  56289.42     7482.78           NaN           NaN            NaN            NaN              NaN        -0.16     -63.73          10.77             0.63  371290.0    80900.0           -5.40               -1.22            0.54      0.54   100.00          62.25            -0.00        7.69         -4.44           0.03         0.44               0.00   7.24   13.20   10.39    6.35     6.02       0.19     0.21      23.58     15.29       21.79   0.848085        -0.26         -1.99         -8.17         3.26         7.66        4.41  0.80  8993.08     1.264888            1.07            1.21    -1.45    -3.86     -2.14       -9.08       1.28      -12.53      16.63  609578.56 - 812855.00           -12.53        77602.57  38.10  May 03/a   3/17/1980         No       Yes   392400.0                0.02   0.14   2.33        0.00042        0.57        240     782731.13   709820.00  710802.44  717500.00  709940.00  710978.50      0.16                                                              NaN       NaN       NaN          NaN        NaN          NaN        NaN           NaN         NaN         NaN         NaN         NaN                               -  35.037321  498478.420374  44408.987232  -0.519366    -0.685879    0.913587   -3.272812    -4.046825   0.607444   -4.248536    -4.779269   0.497210   -2.475530    -2.946644   0.671840   -2.948156    -3.348969   0.586299    -0.086487     -0.117122    0.983953     0.340653      0.480629    1.064465\n",
      "BRK-B   12                  Berkshire Hathaway Inc             S&P 500               Financial         Insurance - Diversified     USA     NYSE                 Financial, Insurance - Diversified      1021990.0    12      1021990.0   12.63    21.98  21.77   2.75   1.56    2.94   84.71     303.37     161.19         NaN           NaN                -            0.00     37.53        4.99           NaN           NaN            NaN            NaN              NaN        -0.16     -63.73          10.77             0.63  371290.0    80900.0           -5.40               -1.22         1340.00   1340.00    99.71          38.00            -0.00       41.18         -0.00           1.02         2.83              13.60   7.24   13.20   10.39    6.35     6.02       0.19     0.21      23.58     15.29       21.79   0.780635        -0.43         -2.00         -8.26         3.33         7.95        4.53  0.81     6.15     1.298016            1.11            1.24    -1.47    -3.91     -2.18       -9.10       1.32      -12.59      16.67        406.11 - 542.07           -12.59         2292.93  37.71  May 05/b    5/9/1996        Yes       Yes   392400.0               -0.06   0.15   2.33        4.81000        0.83    3996221        522.08      473.40     474.09     478.64     473.50     473.80      0.08                                                              NaN       NaN       NaN          NaN        NaN          NaN        NaN           NaN         NaN         NaN         NaN         NaN                               -  15.516835  498478.420374  44408.987232  -2.915564    -3.517528    0.556833   -3.392079    -3.783166   0.517914   -3.619910    -4.058316   0.513439   -2.411070    -2.856844   0.665514   -2.906900    -3.282837   0.579155    -0.083344     -0.113103    0.984110     0.340581      0.476886    1.065709\n",
      "JPM     13                     JPMorgan Chase & Co       DJIA, S&P 500               Financial             Banks - Diversified     USA     NYSE                     Financial, Banks - Diversified       809470.0    13       809470.0   14.94    14.27   2.45   2.90   2.38     NaN   30.01     122.51        NaN        1.99          5.30         7/3/2025           24.30     19.49        4.61           NaN           NaN            NaN            NaN              NaN        -7.90     -14.44           8.73             4.04  278940.0    55150.0           16.88                2.51         2780.00   2770.00    99.62           0.38           -10.44       73.87         -0.60           0.90         2.86              25.04   1.29   16.13    7.10    1.42      NaN       1.18     3.03        NaN     27.18       19.77   1.647182         1.54          8.07         26.85        15.42        36.35       21.51  1.11     5.40     1.853950            2.06            1.82     1.52     6.61     16.53       -1.73      17.06       -1.73      52.58        190.90 - 296.40            -1.73         9000.77  63.32  Jul 15/b    3/5/1969        Yes       Yes   317233.0                0.55  -0.08   2.21        8.75000        1.39   12204944        306.96      289.90     289.67     292.50     288.23     291.27      0.47                                                              NaN       NaN       NaN          NaN        NaN          NaN        NaN           NaN         NaN         NaN         NaN         NaN                               -  21.962250  498478.420374  44408.987232   3.516292     8.230058    1.811743   -0.366521    -0.479790   0.935964    1.550151     2.151943   1.299791    5.177219     8.300285   2.292129    4.702763     8.169079   2.184951     0.742304      1.015813    1.149712     1.257347      1.887355    1.277445\n",
      "WMT     14                             Walmart Inc       DJIA, S&P 500      Consumer Defensive                 Discount Stores     USA     NYSE                Consumer Defensive, Discount Stores       758540.0    14       758540.0   40.78    32.44   4.54   1.11   9.06   81.47   56.14      10.49       1.17        0.98          0.89        8/15/2025           34.51      2.33        0.73           NaN           NaN            NaN            NaN              NaN         2.54     -12.07          -0.17             4.22  685090.0    18820.0            5.99               -0.01         7990.00   4350.00    54.42          45.54            -0.87       35.93          1.01           0.84         2.18              36.61   7.29   22.80   13.54    0.78     0.22       0.66     0.80      24.88      4.33        2.75  -0.356431         0.69          0.85          4.23         4.06        35.81        5.20  0.66     1.49     1.567596            1.12            1.54    -1.68    -1.88      3.18       -5.79       3.44       -9.73      42.57         66.67 - 105.30            -9.73        30064.66  43.49  May 15/b  11/20/1972        Yes       Yes  2100000.0               -0.04   0.00   1.36       16.78000        0.87   14612921        111.06       95.09      95.09      95.48      94.43      95.05     -0.04                                                              NaN       NaN       NaN          NaN        NaN          NaN        NaN           NaN         NaN         NaN         NaN         NaN                               - -73.184654     -15.691015      0.000000 -19.068777   -12.876876    0.000000   -7.180867    -7.552657   0.242891   -2.678785    -3.233479   0.628120   -1.851452    -2.406381   0.735944   -0.094120    -0.134612   0.985202    -0.136488     -0.196608    0.975423     1.233124      1.885797    1.248620\n",
      "LLY     15                         Lilly(Eli) & Co             S&P 500              Healthcare    Drug Manufacturers - General     USA     NYSE           Healthcare, Drug Manufacturers - General       731380.0    15       731380.0   63.93    25.90   1.53  14.93  46.41  227.09  195.74      16.63       3.40        0.81          5.60        8/15/2025           44.39     12.07        5.56           NaN           NaN            NaN            NaN              NaN        45.17      23.46          80.73            36.38   49000.0    11110.0            2.51                0.48          948.10    849.66    89.62          10.35            -0.89       73.70          0.99           0.91         2.03               7.71  14.49   77.73   22.10    1.37     1.06       2.19     2.44      81.70     40.25       22.66  -0.005183        -2.69         -2.47          5.01         3.34       -18.04       -0.04  0.44    20.70     2.682355            3.23            2.58    -1.09     0.64     -4.81       -6.46       8.84      -20.65      13.97        677.09 - 972.53           -20.65        23196.91  47.31  Aug 07/b    7/9/1970        Yes       Yes    47000.0                1.06   0.28   1.53        3.80000        0.88    3348080        988.17      761.50     763.61     775.96     760.50     771.71      1.34                                                              NaN       NaN       NaN          NaN        NaN          NaN        NaN           NaN         NaN         NaN         NaN         NaN                               -  -5.184312      -7.092785      0.368125  -4.348290    -5.429499    0.516218   -0.098809    -0.123660   0.983472   -0.352537    -0.431377   0.939178    0.235489     0.317101   1.040733   -0.633647    -0.763381   0.889707    -0.091268     -0.126948    0.983148    -0.168746     -0.236323    0.969633\n",
      "VOO      1                    Vanguard S&P 500 ETF                   -               Financial            Exchange Traded Fund     USA     NYSE  Financial, Exchange Traded Fund, US Equities -...       700440.0    16            NaN     NaN      NaN    NaN    NaN    NaN     NaN     NaN        NaN        NaN        1.20          6.93        6/30/2025             NaN       NaN         NaN           NaN           NaN            NaN            NaN              NaN          NaN        NaN            NaN              NaN       NaN        NaN             NaN                 NaN             NaN       NaN      NaN            NaN              NaN         NaN           NaN            NaN         0.50               3.34    NaN     NaN     NaN     NaN      NaN        NaN      NaN        NaN       NaN         NaN   0.884832         0.65          5.02         19.39         5.85        11.15        7.07  1.01     4.84     0.838938            0.74            0.73     1.48     4.35      7.17       -0.13      12.88       -0.13      30.29        442.80 - 577.65            -0.13          487.26  68.24         -    9/9/2010        Yes       Yes        NaN               -0.26   0.21    NaN        6.61000        0.64    4247963           NaN      577.18     578.41     578.50     575.84     576.92     -0.05  US Equities - Broad Market & Size  Equities (Stocks)       0.03     507.0  700440.0     -13510.0      -1.89      17540.0       2.57       68730.0       10.88       12.93       19.80       16.26  U.S., equity, SP500, large-cap   9.103351      96.327163      9.581506   3.407901     6.760055    1.756877    4.517586     8.571170   1.994575    4.506645     7.729217   1.998570    5.222854     9.152913   2.249030    5.218349    11.074010   2.542756     0.410659      0.613161    1.087772     0.651191      0.947961    1.136456\n",
      "ORCL    16                             Oracle Corp             S&P 500              Technology       Software - Infrastructure     USA     NYSE              Technology, Software - Infrastructure       689430.0    17       689430.0   56.54    29.95   3.13  12.01  33.69   61.54     NaN       7.29       3.99        0.74          1.80        7/10/2025           39.16      4.34        1.48           NaN           NaN            NaN            NaN              NaN        11.31       7.64          16.96             8.38   57400.0    12440.0            3.50                2.06         2810.00   1650.00    58.75          41.28            -1.11       44.50          0.72           1.13         1.45              18.56   8.04   85.36   10.37    0.75     0.74       4.87     5.33      66.49     31.45       21.68   4.464590         6.46         17.90         89.16        55.04        72.11       47.29  1.42     7.29     2.970055            2.92            3.10     8.27    27.09     42.81       -2.44      68.44       -2.44     106.50        118.86 - 251.60            -2.44       611636.94  72.82  Jun 11/a   3/12/1986        Yes       Yes   162000.0               -1.18  -0.15   1.81       12.78000        0.76    9664574        236.18      248.75     248.37     249.68     245.00     245.45     -1.33                                                              NaN       NaN       NaN          NaN        NaN          NaN        NaN           NaN         NaN         NaN         NaN         NaN                               -   4.397000      14.457061      2.287937  13.266484    40.634827    6.119507    5.615997    12.633898   2.447207    7.921307    20.917790   3.599656    6.109857    20.237178   3.324204    6.453580    20.308768   3.555570     2.098927      3.648520    1.440853     1.465451      2.313905    1.312776\n",
      "V       17                                Visa Inc       DJIA, S&P 500               Financial                 Credit Services     USA     NYSE                         Financial, Credit Services       676860.0    18       676860.0   35.50    27.33   2.77  17.99  18.25   38.44   33.00      19.12       9.08        0.69          2.29        5/13/2025           21.69      9.83        2.85           NaN           NaN            NaN            NaN              NaN         9.33       1.87          12.45            10.19   37620.0    19640.0            2.99                0.45         1720.00   1710.00    99.51          11.99            -0.13       80.04          0.54           1.55         4.16              26.52  21.21   50.03   35.81    1.08     1.08       0.44     0.55      77.10     67.39       52.21   0.584981         0.32         -2.46          5.35        10.36        29.64       10.44  0.94     6.07     1.739006            1.18            1.80    -0.51    -2.18      5.74       -7.05       4.22       -7.05      38.13        252.70 - 375.51            -7.05         3241.79  45.57  Jul 29/a   3/19/2008        Yes       Yes    31600.0               -0.13  -0.09   1.57        6.38000        0.77    4916494        392.34      349.81     349.50     349.50     347.16     349.05     -0.22                                                              NaN       NaN       NaN          NaN        NaN          NaN        NaN           NaN         NaN         NaN         NaN         NaN                               - -16.100203     -13.022044      0.000000  -2.488558    -3.595849    0.634258   -3.919231    -4.569249   0.518835   -0.026188    -0.038022   0.995728   -1.632123    -1.885282   0.742808    0.818813     1.004036   1.160797     0.346542      0.467692    1.069018     1.173326      1.618052    1.252583\n",
      "SPY      2                  SPDR S&P 500 ETF Trust                   -               Financial            Exchange Traded Fund     USA     NYSE  Financial, Exchange Traded Fund, US Equities -...       645390.0    19            NaN     NaN      NaN    NaN    NaN    NaN     NaN     NaN        NaN        NaN        1.14          7.17        6/20/2025             NaN       NaN         NaN           NaN           NaN            NaN            NaN              NaN          NaN        NaN            NaN              NaN       NaN        NaN             NaN                 NaN             NaN       NaN      NaN            NaN              NaN         NaN           NaN            NaN         1.68             116.69    NaN     NaN     NaN     NaN      NaN        NaN      NaN        NaN       NaN         NaN   0.874401         0.64          5.03         19.39         5.87        11.10        7.08  1.01     5.28     0.841327            0.74            0.74     1.57     4.38      7.19       -0.13      12.87       -0.13      30.26        481.80 - 628.40            -0.13         1374.73  68.16         -   1/29/1993        Yes       Yes        NaN               -0.28   0.20    NaN       69.52000        0.91   63324691           NaN      628.04     629.32     629.47     626.46     627.58     -0.07  US Equities - Broad Market & Size  Equities (Stocks)       0.09     505.0  645390.0       6590.0       1.03      -8640.0      -1.32      -22200.0       -3.33       12.90       19.71       16.19             U.S., equity, SP500   8.305176      63.857446      6.688873   3.324509     6.710941    1.718042    4.529913     8.738326   1.998639    4.656196     8.076292   2.029233    5.277756     9.251043   2.270167    5.212136    11.051940   2.549803     0.399018      0.608102    1.088814     0.627818      0.928663    1.135897\n",
      "IVV      3                iShares Core S&P 500 ETF                   -               Financial            Exchange Traded Fund     USA     NYSE  Financial, Exchange Traded Fund, US Equities -...       635480.0    20            NaN     NaN      NaN    NaN    NaN    NaN     NaN     NaN        NaN        NaN        1.27          8.00        6/16/2025             NaN       NaN         NaN           NaN           NaN            NaN            NaN              NaN          NaN        NaN            NaN              NaN       NaN        NaN             NaN                 NaN             NaN       NaN      NaN            NaN              NaN         NaN           NaN            NaN         1.99              11.78    NaN     NaN     NaN     NaN      NaN        NaN      NaN        NaN       NaN         NaN   0.908815         0.68          5.33         19.41         5.88        11.04        7.13  1.01     5.25     0.832448            0.74            0.73     1.59     4.42      7.23       -0.12      12.88       -0.12      30.30        484.00 - 631.42            -0.12          840.72  68.79         -   5/19/2000        Yes       Yes        NaN               -0.27   0.23    NaN        5.93000        0.67    3969931           NaN      630.93     632.35     632.39     629.47     630.67     -0.04  US Equities - Broad Market & Size  Equities (Stocks)       0.03     510.0  635480.0      38080.0       6.37      -3590.0      -0.56        9440.0        1.51       12.92       19.79       16.25  U.S., equity, SP500, large-cap   9.184051     101.023699      9.999906   3.558522     7.034905    1.793514    4.404731     8.213506   1.948273    4.893937     8.632686   2.081027    5.289153     9.364673   2.259394    5.254981    11.247623   2.566951     0.408672      0.611733    1.088640     0.647219      0.944525    1.136652\n"
     ]
    }
   ],
   "source": [
    "latest_df_finviz_merged_stocks_etfs = file_list[0]\n",
    "print(f'Latest df_finviz_merged_stocks_etfs:\\n{latest_df_finviz_merged_stocks_etfs}')\n",
    "# Verify by loading it back\n",
    "df_finviz_merged_stocks_etfs = pd.read_parquet(DATA_DIR / latest_df_finviz_merged_stocks_etfs, engine='pyarrow')\n",
    "\n",
    "print(f'\\ndf_finviz_merged_stocks_etfs.head(20):\\n{df_finviz_merged_stocks_etfs.head(20)}')"
   ]
  },
  {
   "cell_type": "code",
   "execution_count": 4,
   "metadata": {},
   "outputs": [
    {
     "name": "stdout",
     "output_type": "stream",
     "text": [
      "Are these tickers in the df_finviz_merged_stocks_etfs index?\n",
      "AVAV: True\n",
      "RKLB: True\n",
      "JOBY: True\n",
      "SYM : True\n",
      "SOFI: True\n",
      "MRNA: True\n",
      "SN  : True\n",
      "U   : True\n",
      "EVR : True\n",
      "CG  : True\n"
     ]
    }
   ],
   "source": [
    "tickers_to_check = ['AVAV', 'RKLB', 'JOBY', 'SYM', 'SOFI', 'MRNA', 'SN', 'U', 'EVR', 'CG']\n",
    "# Check if items are in the DataFrame index\n",
    "is_in_index = [ticker in df_finviz_merged_stocks_etfs .index for ticker in tickers_to_check]\n",
    "# Print tickers next to their corresponding True or False values\n",
    "print((f'Are these tickers in the df_finviz_merged_stocks_etfs index?'))\n",
    "for ticker, is_in in zip(tickers_to_check, is_in_index):\n",
    "    print(f\"{ticker.ljust(4)}: {is_in}\")"
   ]
  },
  {
   "cell_type": "code",
   "execution_count": 5,
   "metadata": {},
   "outputs": [],
   "source": [
    "import pandas as pd\n",
    "from pathlib import Path\n",
    "import matplotlib.pyplot as plt\n",
    "import seaborn as sns\n",
    "\n",
    "def create_rank_history_df(file_list, data_dir):\n",
    "    \"\"\"\n",
    "    Reads daily files to compile a history of ranks for each ticker.\n",
    "\n",
    "    Args:\n",
    "        file_list (list): A list of sorted parquet filenames.\n",
    "        data_dir (Path): The directory where files are stored.\n",
    "\n",
    "    Returns:\n",
    "        pd.DataFrame: A DataFrame with tickers as the index, dates as columns,\n",
    "                      and ranks as the values. NaN indicates the ticker was not\n",
    "                      present on that day.\n",
    "    \"\"\"\n",
    "    daily_ranks_list = []\n",
    "    for filename in file_list:\n",
    "        # Extract the date string from the start of the filename\n",
    "        date_str = filename.split('_')[0]\n",
    "        \n",
    "        # Read the daily data file\n",
    "        df_daily = pd.read_parquet(data_dir / filename)\n",
    "        \n",
    "        # Extract the 'Rank' column (it's a Series with tickers as its index)\n",
    "        ranks_series = df_daily['Rank']\n",
    "        \n",
    "        # Rename the Series to the date, which will become the column name\n",
    "        ranks_series.name = pd.to_datetime(date_str)\n",
    "        \n",
    "        daily_ranks_list.append(ranks_series)\n",
    "\n",
    "    # Concatenate all Series into a single DataFrame, aligning on the ticker index\n",
    "    df_tickers_rank_history = pd.concat(daily_ranks_list, axis=1)\n",
    "    \n",
    "    # Sort columns by date just in case the file list wasn't perfectly sorted\n",
    "    df_tickers_rank_history = df_tickers_rank_history.sort_index(axis=1)\n",
    "    \n",
    "    return df_tickers_rank_history\n"
   ]
  },
  {
   "cell_type": "code",
   "execution_count": 6,
   "metadata": {},
   "outputs": [],
   "source": [
    "import plotly.express as px\n",
    "import pandas as pd\n",
    "import math\n",
    "\n",
    "def plot_rank_with_criteria(df_rank_history, ticker_list, title_suffix=\"\", filter_criteria=None,\n",
    "                            width=1100, height=700):\n",
    "    \"\"\"\n",
    "    Plots rank history with period markers, interactive buttons, and size controls.\n",
    "    - Adds vertical lines and shaded regions for lookback and recent periods.\n",
    "    - 'Clear All' sets traces to 'legendonly', hiding them and graying out the legend item.\n",
    "    - 'Reset View' makes all traces fully visible.\n",
    "    \n",
    "    Args:\n",
    "        df_rank_history (pd.DataFrame): The full rank history DataFrame.\n",
    "        ticker_list (list): A list of ticker symbols to plot.\n",
    "        title_suffix (str, optional): Text to append to the main plot title.\n",
    "        filter_criteria (dict, optional): A dictionary of filter parameters to display.\n",
    "        width (int, optional): The width of the figure in pixels.\n",
    "        height (int, optional): The height of the figure in pixels.\n",
    "    \"\"\"\n",
    "    \n",
    "    if not ticker_list:\n",
    "        print(\"Ticker list is empty. Nothing to plot.\")\n",
    "        return\n",
    "\n",
    "    # Prepare data for plotting\n",
    "    plot_df = df_rank_history.loc[ticker_list].T\n",
    "    plot_df.index = pd.to_datetime(plot_df.index)\n",
    "\n",
    "    custom = px.colors.qualitative.Plotly.copy()\n",
    "    # Replace the 7th color '#B6E880' with '#1F77B4' with a darker blue\n",
    "    custom[7] = '#1F77B4'        \n",
    "\n",
    "    fig = px.line(\n",
    "        plot_df, \n",
    "        x=plot_df.index, \n",
    "        y=plot_df.columns,\n",
    "        # Line color sequence \n",
    "        color_discrete_sequence=custom,\n",
    "        title=f\"Rank History: {title_suffix}\",\n",
    "        labels={'value': 'Rank', 'x': 'Date', 'variable': 'Ticker'}\n",
    "    )\n",
    "\n",
    "    # Force x-axis title as \"Date\"\n",
    "    fig.update_xaxes(title_text=\"Date\", title_standoff=25)\n",
    "\n",
    "    # Y-Axis configuration (unchanged and correct)\n",
    "    fig.update_yaxes(\n",
    "        autorange=\"reversed\", \n",
    "        dtick=100,\n",
    "        showgrid=True,\n",
    "        gridcolor='LightGrey'\n",
    "    )\n",
    "    \n",
    "    # --- CORRECTED X-Axis configuration ---\n",
    "    fig.update_xaxes(\n",
    "        type='date',  # Ensures the axis is treated as a continuous date axis\n",
    "        \n",
    "        # --- Major Ticks and Grid (for labels) ---\n",
    "        showgrid=True,\n",
    "        gridcolor='LightGrey',\n",
    "        dtick=\"D7\",  #<-- MAJOR CHANGE: Place labels and major grid lines only every 7 days\n",
    "        tickformat=\"%b %d\",  # Format as \"May 04\". Now readable with weekly spacing.\n",
    "\n",
    "        # --- Minor Ticks and Grid (for dense grid lines WITHOUT labels) ---\n",
    "        minor=dict(\n",
    "            showgrid=True, \n",
    "            gridcolor=\"rgba(235, 235, 235, 0.5)\", # A fainter color for minor lines\n",
    "            dtick=\"D1\" #<-- Place an unlabeled minor grid line every 1 day\n",
    "        )\n",
    "    )\n",
    "\n",
    "    # --- Vertical lines and shaded regions section (unchanged) ---\n",
    "    if filter_criteria_1 and 'recent_days' in filter_criteria_1 and 'lookback_days' in filter_criteria_1:\n",
    "        recent_days = filter_criteria_1.get('recent_days', 0)\n",
    "        lookback_days = filter_criteria_1.get('lookback_days', 0)\n",
    "        all_dates = pd.to_datetime(df_rank_history.columns)\n",
    "        if len(all_dates) >= (lookback_days + recent_days):\n",
    "            last_date = all_dates[-1]\n",
    "            recent_period_start_date = all_dates[-recent_days]\n",
    "            lookback_period_end_date = all_dates[-(recent_days + 1)]\n",
    "            lookback_period_start_date = all_dates[-(recent_days + lookback_days)]\n",
    "            fig.add_vrect(x0=recent_period_start_date, x1=last_date, fillcolor=\"LightSkyBlue\", opacity=0.2, layer=\"below\", line_width=0, annotation_text=\"Recent\", annotation_position=\"top left\")\n",
    "            fig.add_vrect(x0=lookback_period_start_date, x1=lookback_period_end_date, fillcolor=\"LightGreen\", opacity=0.2, layer=\"below\", line_width=0, annotation_text=\"Lookback\", annotation_position=\"top left\")\n",
    "            fig.add_vline(x=recent_period_start_date, line_width=2, line_dash=\"dash\", line_color=\"grey\")\n",
    "\n",
    "    # --- Interactive buttons section (unchanged) ---\n",
    "    num_traces = len(fig.data)\n",
    "    fig.update_layout(\n",
    "        updatemenus=[\n",
    "            dict(\n",
    "                type=\"buttons\", direction=\"left\", x=0.01, xanchor=\"left\",\n",
    "                y=1.1, yanchor=\"top\", showactive=False,\n",
    "                buttons=list([\n",
    "                    dict(label=\"Reset View\", method=\"restyle\", args=[{\"visible\": [True] * num_traces}]),\n",
    "                    dict(label=\"Clear All\", method=\"restyle\", args=[{\"visible\": ['legendonly'] * num_traces}]),\n",
    "                ]),\n",
    "            )\n",
    "        ]\n",
    "    )\n",
    "    \n",
    "    # --- Filter criteria annotation section (unchanged) ---\n",
    "    criteria_text = \"\"\n",
    "    num_rows = 0\n",
    "    if filter_criteria:\n",
    "        active_criteria = {k: v for k, v in filter_criteria.items() if v is not None}\n",
    "        col_width = 38\n",
    "        criteria_lines = []\n",
    "        items = list(active_criteria.items())\n",
    "        for i in range(0, len(items), 3):\n",
    "            chunk = items[i:i+3]\n",
    "            line_parts = [f\"{f'  • {k}: {v}':<{col_width}}\" for k, v in chunk]\n",
    "            criteria_lines.append(\"\".join(line_parts))\n",
    "        num_rows = len(criteria_lines)\n",
    "        criteria_text = \"<b>Filter Criteria:</b><br>\" + \"<br>\".join(criteria_lines)\n",
    "\n",
    "    if criteria_text:\n",
    "        FONT_SIZE = 14                       # whatever you want\n",
    "        LINE_HEIGHT = FONT_SIZE * 1.4        # ~40 % leading is comfortable\n",
    "\n",
    "        criteria_text = \"<b>Filter Criteria:</b><br>\" + \"<br>\".join(criteria_lines)\n",
    "\n",
    "        fig.add_annotation(\n",
    "            showarrow=False,\n",
    "            text=criteria_text,\n",
    "            xref=\"paper\", yref=\"paper\",\n",
    "            x=0, y=-0.25,            \n",
    "            xanchor=\"left\", yanchor=\"top\",\n",
    "            align=\"left\",\n",
    "            font=dict(family=\"Courier New, monospace\", size=FONT_SIZE)\n",
    "        )\n",
    "\n",
    "\n",
    "    # compute y-range manually\n",
    "    y_vals = plot_df.values.ravel()          # all y values\n",
    "    y_range = (y_vals.min(), y_vals.max())\n",
    "    \n",
    "    # ------------------------------------------------------------------\n",
    "    # horizontal red boundary lines – use the data range we just computed\n",
    "    # ------------------------------------------------------------------\n",
    "    y_min, y_max = y_range       # comes from the manual computation above\n",
    "\n",
    "    # xref and yref = \"paper\", uses plot area as a reference. \n",
    "    # x0, y0 = 0, 0 is lower left corner\n",
    "    # x1, y1 = 1, 1 is upper right corner\n",
    "    fig.add_shape(type=\"line\",\n",
    "                  xref=\"paper\", yref=\"paper\",\n",
    "                  x0=0, x1=1,\n",
    "                  y0=1, y1=1,  \n",
    "                  line=dict(color=\"red\", width=2))  # top of plot area\n",
    "\n",
    "    fig.add_shape(type=\"line\",\n",
    "                  xref=\"paper\", yref=\"paper\",\n",
    "                  x0=0, x1=1,\n",
    "                  y0=0, y1=0,  \n",
    "                  line=dict(color=\"blue\", width=2))  # bottom of plot area\n",
    "\n",
    "    # # optional thin line just below the filter-text annotation\n",
    "    # fig.add_shape(type=\"line\",\n",
    "    #               xref=\"paper\", yref=\"paper\",\n",
    "    #               x0=0, x1=1,\n",
    "    #               y0=-0.05, y1=-0.05,                 \n",
    "    #               line=dict(color=\"green\", width=2))  # line 5% below the plot area\n",
    "\n",
    "\n",
    "    # --- Layout update section (unchanged) ---\n",
    "    bottom_margin = 140 + num_rows * LINE_HEIGHT\n",
    "    fig.update_layout(width=width, height=height, margin=dict(b=bottom_margin))\n",
    "\n",
    "    # Set the x-axis range to a suitable range\n",
    "    fig.update_xaxes(range=[plot_df.index.min(), plot_df.index.max()])\n",
    "\n",
    "    fig.show()\n",
    "    return fig"
   ]
  },
  {
   "cell_type": "code",
   "execution_count": 7,
   "metadata": {},
   "outputs": [],
   "source": [
    "import pandas as pd\n",
    "import numpy as np\n",
    "\n",
    "def calculate_rank_metrics(df_rank_history, tickers_list, lookback_days=20, recent_days=4):\n",
    "    \"\"\"\n",
    "    Calculates a comprehensive set of rank metrics for a given list of tickers.\n",
    "\n",
    "    This function does NOT filter tickers based on performance criteria. It processes\n",
    "    every ticker provided in the tickers_list and returns its calculated metrics,\n",
    "    making it suitable for generating features for analysis or other models.\n",
    "\n",
    "    Args:\n",
    "        df_rank_history (pd.DataFrame): DataFrame with tickers as index and dates as columns.\n",
    "        tickers_list (list): A list of ticker symbols to calculate metrics for.\n",
    "        lookback_days (int): The number of days for the \"lookback\" period.\n",
    "        recent_days (int): The number of days for the \"recent\" period.\n",
    "\n",
    "    Returns:\n",
    "        list: A list of dictionaries, where each dictionary contains the calculated\n",
    "              rank metrics for one ticker. Tickers with insufficient data in the\n",
    "              specified period are skipped.\n",
    "    \"\"\"\n",
    "    # --- Guard Clause & Date Setup ---\n",
    "    total_days_needed = lookback_days + recent_days\n",
    "    if len(df_rank_history.columns) < total_days_needed:\n",
    "        print(f\"Error: Not enough data. Need {total_days_needed} days, have {len(df_rank_history.columns)}.\")\n",
    "        return []\n",
    "\n",
    "    all_dates = df_rank_history.columns\n",
    "    last_date = all_dates[-1]\n",
    "    recent_period_start_date = all_dates[-recent_days]\n",
    "    lookback_period_end_date = all_dates[-(recent_days + 1)]\n",
    "    lookback_period_start_date = all_dates[-(recent_days + lookback_days)]\n",
    "    \n",
    "    lookback_dates = df_rank_history.loc[:, lookback_period_start_date:lookback_period_end_date].columns\n",
    "    recent_dates = df_rank_history.loc[:, recent_period_start_date:last_date].columns\n",
    "    \n",
    "    all_ticker_metrics = []\n",
    "\n",
    "    print(f\"Calculating metrics for {len(tickers_list)} tickers...\")\n",
    "\n",
    "    # --- Calculation Loop ---\n",
    "    for ticker in tickers_list:\n",
    "        # Skip if ticker is not in the dataframe index\n",
    "        if ticker not in df_rank_history.index:\n",
    "            continue\n",
    "\n",
    "        lookback_ranks = df_rank_history.loc[ticker, lookback_dates].dropna()\n",
    "        recent_ranks = df_rank_history.loc[ticker, recent_dates].dropna()\n",
    "        \n",
    "        # Skip if there's not enough data for this specific ticker in the required periods\n",
    "        if len(lookback_ranks) < lookback_days or len(recent_ranks) < recent_days:\n",
    "            continue\n",
    "            \n",
    "        # --- Perform all calculations without any filtering 'if' statements ---\n",
    "        slope, _ = np.polyfit(np.arange(len(lookback_ranks)), lookback_ranks, 1)\n",
    "        all_ranks_in_period = pd.concat([lookback_ranks, recent_ranks])\n",
    "\n",
    "        # Key reference points\n",
    "        current_rank = int(recent_ranks.iloc[-1])\n",
    "        rank_at_start_of_recent = int(recent_ranks.iloc[0])\n",
    "        recent_bottom_rank = int(recent_ranks.max()) # Worst rank in recent period\n",
    "        total_peak_rank = int(all_ranks_in_period.min()) # Best rank over the whole period\n",
    "        \n",
    "        # This dictionary holds all calculated metrics for one ticker\n",
    "        metrics_dict = {\n",
    "            'ticker': ticker,\n",
    "            'lookback_slope': round(slope, 2),\n",
    "            \n",
    "            # Key Ranks\n",
    "            'current': current_rank,\n",
    "            'recent_start': rank_at_start_of_recent,\n",
    "            'lookback_start': int(lookback_ranks.iloc[0]),\n",
    "            'lookback_end': int(lookback_ranks.iloc[-1]),\n",
    "\n",
    "            # Best/Worst Ranks by Period\n",
    "            'best_lookback': int(lookback_ranks.min()),\n",
    "            'worst_lookback': int(lookback_ranks.max()),\n",
    "            'best_recent': int(recent_ranks.min()),\n",
    "            'worst_recent': recent_bottom_rank, # Same value, more descriptive name\n",
    "            'best_total': total_peak_rank,\n",
    "            'worst_total': int(all_ranks_in_period.max()),\n",
    "\n",
    "            # Derived Metrics (using clearer names)\n",
    "            'current_to_total_peak': current_rank - total_peak_rank,\n",
    "            'current_to_recent_start': current_rank - rank_at_start_of_recent,\n",
    "            'recent_bottom_to_recent_start': recent_bottom_rank - rank_at_start_of_recent,\n",
    "            'recent_bottom_to_current': recent_bottom_rank - current_rank,\n",
    "        }\n",
    "        all_ticker_metrics.append(metrics_dict)\n",
    "\n",
    "    return all_ticker_metrics"
   ]
  },
  {
   "cell_type": "code",
   "execution_count": 8,
   "metadata": {},
   "outputs": [],
   "source": [
    "import pandas as pd\n",
    "\n",
    "def filter_rank_metrics(\n",
    "    all_metrics_data,\n",
    "    min_lookback_improvement=15,\n",
    "    # --- Mode-specific parameters ---\n",
    "    min_current_to_recent_start=None,  # Only used in 'Dip' mode, positive number means recent_start is better than current \n",
    "    min_recent_bottom_to_recent_start=None, # Only used in 'Reversal' mode, positive number means recent_start is better than recent_bottom\n",
    "    min_recent_bottom_to_current=None,  # Only used in 'Reversal' mode, positive number means current is better than recent_bottom \n",
    "    # --- General filters ---\n",
    "    current_rank_bracket_start=1, \n",
    "    current_rank_bracket_end=None):\n",
    "    \"\"\"\n",
    "    Filters a DataFrame of pre-calculated rank metrics based on specified criteria.\n",
    "\n",
    "    This function acts as the second stage in a two-part pipeline, taking the output of\n",
    "    `calculate_rank_metrics` and applying filtering rules to find specific opportunities.\n",
    "\n",
    "    Args:\n",
    "        all_metrics_data (list or pd.DataFrame): The list of dictionaries or DataFrame\n",
    "                                                  from `calculate_rank_metrics`.\n",
    "        min_lookback_improvement (int): Min improvement from the start to the end of the lookback period.\n",
    "        min_current_to_recent_start (int, optional): For 'Dip' mode, positive number means recent_start is better than current.\n",
    "        min_recent_bottom_to_recent_start (int, optional): For 'Reversal' mode, positive number means recent_start is better than recent_bottom.\n",
    "        min_recent_bottom_to_current (int, optional): For 'Reversal' mode, positive number means current is better than recent_bottom.\n",
    "        current_rank_bracket_start (int): The minimum current rank to include.\n",
    "        current_rank_bracket_end (int, optional): The maximum current rank to include.\n",
    "\n",
    "    Returns:\n",
    "        pd.DataFrame: A filtered and sorted DataFrame containing the tickers that meet all criteria.\n",
    "    \"\"\"\n",
    "    # --- Parameter Validation (Mode Detection) ---\n",
    "    # This logic is identical to the original function to ensure correct mode is selected.\n",
    "    if min_current_to_recent_start is not None and (min_recent_bottom_to_recent_start is not None or min_recent_bottom_to_current is not None):\n",
    "        raise ValueError(\"Cannot specify parameters for both 'Dip' and 'Reversal' modes.\")\n",
    "    \n",
    "    # --- Data Preparation ---\n",
    "    if not isinstance(all_metrics_data, pd.DataFrame):\n",
    "        df = pd.DataFrame(all_metrics_data)\n",
    "    else:\n",
    "        df = all_metrics_data.copy() # Use a copy to avoid modifying the original DataFrame\n",
    "\n",
    "    if df.empty:\n",
    "        return df # Return an empty DataFrame if there's no data\n",
    "\n",
    "    # --- Apply Filters Sequentially ---\n",
    "    \n",
    "    # Filter 1: Lookback period must show a minimum rank improvement\n",
    "    # This is calculated from 'lookback_start' - 'lookback_end'\n",
    "    lookback_improvement = df['lookback_start'] - df['lookback_end']\n",
    "    df = df[lookback_improvement >= min_lookback_improvement]\n",
    "\n",
    "    # Filter 2: Lookback trend slope must be negative (improving rank)\n",
    "    df = df[df['lookback_slope'] < 0]\n",
    "\n",
    "    # Filter 3: Ticker's current rank must be within the specified bracket\n",
    "    df = df[df['current'] >= current_rank_bracket_start]\n",
    "    if current_rank_bracket_end is not None:\n",
    "        df = df[df['current'] <= current_rank_bracket_end]\n",
    "\n",
    "    # Filter 4: Mode-specific filtering\n",
    "    if min_current_to_recent_start is not None:\n",
    "        # --- Dip Mode ---\n",
    "        # The metric 'min_current_to_recent_start' corresponds to the required drop.\n",
    "        print(\"Filtering in 'Dip' mode...\")\n",
    "        df = df[df['current_to_recent_start'] >= min_current_to_recent_start]\n",
    "    elif min_recent_bottom_to_recent_start is not None and min_recent_bottom_to_current is not None:\n",
    "        # --- Reversal Mode ---\n",
    "        print(\"Filtering in 'Reversal' mode...\")\n",
    "        df = df[df['recent_bottom_to_recent_start'] >= min_recent_bottom_to_recent_start]\n",
    "        df = df[df['recent_bottom_to_current'] >= min_recent_bottom_to_current]\n",
    "    else:\n",
    "        print(\"Warning: No mode-specific filters applied. Returning candidates based on general filters only.\")\n",
    "\n",
    "    # --- Final Sorting ---\n",
    "    # Sort the final list of candidates by the strength of their past uptrend.\n",
    "    df_filtered = df.sort_values(by='lookback_slope', ascending=True)\n",
    "    \n",
    "    return df_filtered"
   ]
  },
  {
   "cell_type": "markdown",
   "metadata": {},
   "source": [
    "# WOW keep this one\n",
    "    df_tickers_rank_history,\n",
    "    lookback_days=20,\n",
    "    recent_days=4,\n",
    "    min_lookback_improvement=15,\n",
    "    min_recent_bottom_to_recent_start=0,       # The dip must be at least 15 ranks deep\n",
    "    min_recent_bottom_to_current=0, # It must have recovered at least 5 ranks from the bottom\n",
    "    # current_rank_bracket_start=601,\n",
    "    current_rank_bracket_end=800,"
   ]
  },
  {
   "cell_type": "code",
   "execution_count": 9,
   "metadata": {},
   "outputs": [
    {
     "name": "stdout",
     "output_type": "stream",
     "text": [
      "Shape of the resulting DataFrame: (1615, 59)\n",
      "\n",
      "Last date in df_tickers_rank_history: 2025-07-18\n",
      "\n",
      "df_tickers_rank_history:\n",
      "       2025-04-25  2025-04-28  2025-04-29  2025-04-30  2025-05-01  2025-05-02  2025-05-05  2025-05-06  2025-05-07  2025-05-08  2025-05-09  2025-05-12  2025-05-13  2025-05-14  2025-05-15  2025-05-16  2025-05-19  2025-05-20  2025-05-21  2025-05-22  2025-05-23  2025-05-27  2025-05-28  2025-05-29  2025-05-30  2025-06-02  2025-06-03  2025-06-04  2025-06-05  2025-06-06  2025-06-09  2025-06-10  2025-06-11  2025-06-12  2025-06-13  2025-06-16  2025-06-17  2025-06-18  2025-06-19  2025-06-20  2025-06-23  2025-06-24  2025-06-25  2025-06-26  2025-06-27  2025-06-30  2025-07-01  2025-07-02  2025-07-03  2025-07-07  2025-07-08  2025-07-09  2025-07-10  2025-07-11  2025-07-14  2025-07-15  2025-07-16  2025-07-17  2025-07-18\n",
      "NVDA          3.0         3.0         3.0         3.0         3.0         3.0         3.0         3.0         3.0         3.0         3.0         3.0         3.0         2.0         2.0         2.0         2.0         2.0         2.0         2.0         2.0         2.0         2.0         2.0         2.0         2.0         1.0         1.0         2.0         2.0         2.0         1.0         2.0         2.0         2.0         2.0         2.0         2.0         2.0         2.0         2.0         2.0         1.0         1.0         1.0         1.0         1.0         1.0         1.0         1.0         1.0         1.0         1.0         1.0         1.0         1.0         1.0         1.0         1.0\n",
      "MSFT          2.0         2.0         2.0         2.0         2.0         1.0         1.0         1.0         1.0         1.0         1.0         1.0         1.0         1.0         1.0         1.0         1.0         1.0         1.0         1.0         1.0         1.0         1.0         1.0         1.0         1.0         2.0         2.0         1.0         1.0         1.0         2.0         1.0         1.0         1.0         1.0         1.0         1.0         1.0         1.0         1.0         1.0         2.0         2.0         2.0         2.0         2.0         2.0         2.0         2.0         2.0         2.0         2.0         2.0         2.0         2.0         2.0         2.0         2.0\n",
      "AAPL          1.0         1.0         1.0         1.0         1.0         2.0         2.0         2.0         2.0         2.0         2.0         2.0         2.0         3.0         3.0         3.0         3.0         3.0         3.0         3.0         3.0         3.0         3.0         3.0         3.0         3.0         3.0         3.0         3.0         3.0         3.0         3.0         3.0         3.0         3.0         3.0         3.0         3.0         3.0         3.0         3.0         3.0         3.0         3.0         3.0         3.0         3.0         3.0         3.0         3.0         3.0         3.0         3.0         3.0         3.0         3.0         3.0         3.0         3.0\n",
      "AMZN          4.0         4.0         4.0         4.0         4.0         4.0         6.0         6.0         4.0         4.0         4.0         4.0         4.0         4.0         4.0         4.0         4.0         4.0         4.0         4.0         4.0         4.0         4.0         4.0         4.0         4.0         4.0         4.0         4.0         4.0         4.0         4.0         4.0         4.0         4.0         4.0         4.0         4.0         4.0         4.0         4.0         4.0         4.0         4.0         4.0         4.0         4.0         4.0         4.0         4.0         4.0         4.0         4.0         4.0         4.0         4.0         4.0         4.0         4.0\n",
      "GOOGL         5.0         5.0         6.0         6.0         5.0         6.0         5.0         5.0         5.0         6.0         6.0         6.0         6.0         6.0         6.0         5.0         6.0         5.0         6.0         5.0         6.0         5.0         5.0         6.0         6.0         6.0         6.0         5.0         6.0         5.0         6.0         5.0         5.0         5.0         5.0         5.0         6.0         5.0         6.0         6.0         5.0         6.0         5.0         6.0         5.0         6.0         5.0         6.0         5.0         5.0         6.0         6.0         6.0         6.0         6.0         5.0         5.0         6.0         5.0\n",
      "...           ...         ...         ...         ...         ...         ...         ...         ...         ...         ...         ...         ...         ...         ...         ...         ...         ...         ...         ...         ...         ...         ...         ...         ...         ...         ...         ...         ...         ...         ...         ...         ...         ...         ...         ...         ...         ...         ...         ...         ...         ...         ...         ...         ...         ...         ...         ...         ...         ...         ...         ...         ...         ...         ...         ...         ...         ...         ...         ...\n",
      "GOLD        433.0       427.0       434.0       434.0       445.0       452.0       447.0       436.0       434.0       448.0         NaN         NaN         NaN         NaN         NaN         NaN         NaN         NaN         NaN         NaN         NaN         NaN         NaN         NaN         NaN         NaN         NaN         NaN         NaN         NaN         NaN         NaN         NaN         NaN         NaN         NaN         NaN         NaN         NaN         NaN         NaN         NaN         NaN         NaN         NaN         NaN         NaN         NaN         NaN         NaN         NaN         NaN         NaN         NaN         NaN         NaN         NaN         NaN         NaN\n",
      "ONTO       1336.0      1337.0         NaN      1368.0      1377.0      1347.0      1354.0      1366.0      1358.0      1359.0         NaN         NaN         NaN         NaN         NaN         NaN         NaN         NaN         NaN         NaN         NaN         NaN         NaN         NaN         NaN         NaN         NaN         NaN         NaN         NaN         NaN         NaN         NaN         NaN         NaN         NaN         NaN         NaN         NaN         NaN         NaN         NaN         NaN         NaN         NaN         NaN         NaN         NaN         NaN         NaN         NaN         NaN         NaN         NaN         NaN         NaN         NaN         NaN         NaN\n",
      "UCON       1545.0      1545.0      1528.0      1550.0      1551.0      1554.0      1555.0      1557.0      1557.0      1558.0         NaN         NaN         NaN         NaN         NaN         NaN         NaN         NaN         NaN         NaN         NaN         NaN         NaN         NaN         NaN         NaN         NaN         NaN         NaN         NaN         NaN         NaN         NaN         NaN         NaN         NaN         NaN         NaN         NaN         NaN         NaN         NaN         NaN         NaN         NaN         NaN         NaN         NaN         NaN         NaN         NaN         NaN         NaN         NaN         NaN         NaN         NaN         NaN         NaN\n",
      "RECS          NaN         NaN         NaN         NaN         NaN         NaN         NaN         NaN         NaN         NaN         NaN         NaN         NaN         NaN         NaN         NaN         NaN         NaN         NaN         NaN         NaN         NaN         NaN         NaN         NaN         NaN         NaN         NaN         NaN         NaN         NaN         NaN         NaN         NaN         NaN         NaN         NaN         NaN         NaN         NaN         NaN         NaN         NaN         NaN         NaN         NaN         NaN      1544.0         NaN         NaN         NaN         NaN         NaN         NaN         NaN         NaN         NaN         NaN         NaN\n",
      "CGMU          NaN         NaN         NaN         NaN         NaN         NaN         NaN         NaN         NaN         NaN         NaN         NaN         NaN         NaN         NaN         NaN         NaN         NaN         NaN         NaN         NaN         NaN         NaN         NaN         NaN         NaN         NaN         NaN         NaN         NaN         NaN         NaN         NaN         NaN         NaN         NaN         NaN      1540.0      1559.0      1559.0      1558.0      1560.0      1560.0      1559.0         NaN         NaN         NaN         NaN         NaN         NaN         NaN         NaN         NaN         NaN         NaN         NaN         NaN         NaN         NaN\n",
      "\n",
      "[1615 rows x 59 columns]\n"
     ]
    }
   ],
   "source": [
    "df_tickers_rank_history = create_rank_history_df(file_list, DATA_DIR)\n",
    "\n",
    "print(\"Shape of the resulting DataFrame:\", df_tickers_rank_history.shape)\n",
    "print(f'\\nLast date in df_tickers_rank_history: {df_tickers_rank_history.columns[-1].strftime(\"%Y-%m-%d\")}')  \n",
    "print(f'\\ndf_tickers_rank_history:\\n{df_tickers_rank_history}')"
   ]
  },
  {
   "cell_type": "code",
   "execution_count": 10,
   "metadata": {},
   "outputs": [],
   "source": [
    "filter_criteria_1 = {\n",
    "    \"lookback_days\": 20,\n",
    "    \"recent_days\": 4,\n",
    "    \"min_lookback_improvement\": 0,\n",
    "    \"min_current_to_recent_start\": None,  # Only used in 'Dip' mode, positive number means recent_start is better than current\n",
    "    \"min_recent_bottom_to_recent_start\": 0,  # Only used in 'Reversal' mode, positive number means recent_start is better than recent_bottom\n",
    "    \"min_recent_bottom_to_current\": 2,  # Only used in 'Reversal' mode, positive number means current is better than recent_bottom \n",
    "    \"current_rank_bracket_start\": 1,\n",
    "    \"current_rank_bracket_end\": 1000,\n",
    "}"
   ]
  },
  {
   "cell_type": "code",
   "execution_count": 11,
   "metadata": {},
   "outputs": [
    {
     "name": "stdout",
     "output_type": "stream",
     "text": [
      "Calculating metrics for 1615 tickers...\n",
      "Filtering in 'Reversal' mode...\n",
      "\n",
      "len(df_candidates): 280\n",
      "\n",
      "df_candidates.head(20):\n",
      "    ticker  lookback_slope  current  recent_start  lookback_start  lookback_end  best_lookback  worst_lookback  best_recent  worst_recent  best_total  worst_total  current_to_total_peak  current_to_recent_start  recent_bottom_to_recent_start  recent_bottom_to_current\n",
      "872   AVAV          -13.25      888           894            1160           901            901            1160          876           894         876         1160                     12                       -6                              0                         6\n",
      "845   JOBY          -12.77      860          1005            1288          1072           1072            1333          860          1005         860         1333                      0                     -145                              0                       145\n",
      "565   RKLB          -11.48      575           638             923           667            667             923          575           638         575          923                      0                      -63                              0                        63\n",
      "465    SYM          -10.53      471           500             686           514            512             700          471           500         471          700                      0                      -29                              0                        29\n",
      "574   SOFI           -9.50      584           599             754           595            594             766          577           599         577          766                      7                      -15                              0                        15\n",
      "801      U           -7.20      814           930            1048           947            945            1084          814           930         814         1084                      0                     -116                              0                       116\n",
      "770     SN           -7.14      783           802             925           802            802             934          783           803         783          934                      0                      -19                              1                        20\n",
      "625     CG           -5.89      636           648             737           643            643             742          636           648         636          742                      0                      -12                              0                        12\n",
      "956    EVR           -5.70      976          1000            1086           997            983            1089          976          1000         976         1089                      0                      -24                              0                        24\n",
      "677   SMMT           -5.68      688           729             809           707            691             810          647           729         647          810                     41                      -41                              0                        41\n",
      "753    DKS           -5.05      766           764             828           761            759             840          764           775         759          840                      7                        2                             11                         9\n",
      "840   SOXL           -4.99      855           867             968           851            840             968          844           867         840          968                     15                      -12                              0                        12\n",
      "405    CCL           -4.25      410           416             475           411            410             482          410           416         410          482                      0                       -6                              0                         6\n",
      "824    QXO           -4.24      839           847             961           860            834             961          837           847         834          961                      5                       -8                              0                         8\n",
      "720   FUTU           -4.09      731           766             840           766            756             902          731           773         731          902                      0                      -35                              7                        42\n",
      "515    HPE           -4.09      522           534             571           530            515             585          522           536         515          585                      7                      -12                              2                        14\n",
      "143   COIN           -3.96      145           157             248           156            156             251          145           157         145          251                      0                      -12                              0                        12\n",
      "811   EWBC           -3.93      825           836             894           829            823             901          825           836         823          901                      2                      -11                              0                        11\n",
      "791   COHR           -3.91      804           821             907           833            833             913          804           821         804          913                      0                      -17                              0                        17\n",
      "858   ENTG           -3.87      874           886             948           903            891             965          874           892         874          965                      0                      -12                              6                        18\n"
     ]
    }
   ],
   "source": [
    "# Assume 'selected_df' is your historical rank data\n",
    "# And all filter parameters (lookback_days, min_current_to_recent_start, etc.) are defined.\n",
    "\n",
    "# === STAGE 1: Calculate metrics for ALL tickers ONCE ===\n",
    "all_tickers = df_tickers_rank_history.index.tolist() \n",
    "\n",
    "# Calculate metrics for every single ticker without any filtering\n",
    "all_metrics_data = calculate_rank_metrics(\n",
    "    df_tickers_rank_history,\n",
    "    tickers_list=all_tickers,\n",
    "    lookback_days=filter_criteria_1['lookback_days'],\n",
    "    recent_days=filter_criteria_1['recent_days'],\n",
    ")\n",
    "\n",
    "# Now 'all_metrics_data' is a list of dictionaries that you can:\n",
    "# 1. Convert to a DataFrame for further analysis:\n",
    "#    metrics_df = pd.DataFrame(all_metrics_data)\n",
    "#\n",
    "# 2. Use as a feature set for machine learning.\n",
    "#\n",
    "# 3. Manually filter later in your code.\n",
    "#    dip_candidates = [d for d in all_metrics_data if d['current_to_recent_start'] >= 2]\n",
    "\n",
    "# === STAGE 2: Filter the calculated data ===\n",
    "# This step is very fast because all the heavy calculation is done.\n",
    "# You can now experiment with different filtering parameters here without re-calculating.\n",
    "df_candidates = filter_rank_metrics(\n",
    "    all_metrics_data,\n",
    "    min_lookback_improvement=filter_criteria_1['min_lookback_improvement'],\n",
    "    # === Mode Parameters ===\n",
    "    min_current_to_recent_start=filter_criteria_1['min_current_to_recent_start'],\n",
    "    min_recent_bottom_to_recent_start=filter_criteria_1['min_recent_bottom_to_recent_start'],\n",
    "    min_recent_bottom_to_current=filter_criteria_1['min_recent_bottom_to_current'],\n",
    "    # === Bracket Filters ===\n",
    "    current_rank_bracket_start=filter_criteria_1['current_rank_bracket_start'],\n",
    "    current_rank_bracket_end=filter_criteria_1['current_rank_bracket_end'],\n",
    ")\n",
    "\n",
    "# The resulting 'df_candidates' is identical to the DataFrame you created before.\n",
    "print(f'\\nlen(df_candidates): {len(df_candidates)}')\n",
    "print(f'\\ndf_candidates.head(20):\\n{df_candidates.head(20)}')"
   ]
  },
  {
   "cell_type": "code",
   "execution_count": 12,
   "metadata": {},
   "outputs": [
    {
     "name": "stdout",
     "output_type": "stream",
     "text": [
      "\n",
      "df_candidates.head(50):\n",
      "    ticker  MktCap AUM, M    Price  Change %  ATR/Price %  lookback_slope  current  recent_start  lookback_start  lookback_end  best_lookback  worst_lookback  best_recent  worst_recent  best_total  worst_total  current_to_total_peak  current_to_recent_start  recent_bottom_to_recent_start  recent_bottom_to_current\n",
      "872   AVAV        13520.0   274.03     -1.63     4.838886          -13.25      888           894            1160           901            901            1160          876           894         876         1160                     12                       -6                              0                         6\n",
      "845   JOBY        14080.0    17.78      0.34     5.680540          -12.77      860          1005            1288          1072           1072            1333          860          1005         860         1333                      0                     -145                              0                       145\n",
      "565   RKLB        24630.0    51.39      0.12     5.506908          -11.48      575           638             923           667            667             923          575           638         575          923                      0                      -63                              0                        63\n",
      "465    SYM        32160.0    54.54      0.66     5.243858          -10.53      471           500             686           514            512             700          471           500         471          700                      0                      -29                              0                        29\n",
      "574   SOFI        24110.0    21.81     -1.27     4.080697           -9.50      584           599             754           595            594             766          577           599         577          766                      7                      -15                              0                        15\n",
      "801      U        15280.0    36.75      0.63     5.115646           -7.20      814           930            1048           947            945            1084          814           930         814         1084                      0                     -116                              0                       116\n",
      "770     SN        16150.0   115.06      0.09     3.007127           -7.14      783           802             925           802            802             934          783           803         783          934                      0                      -19                              1                        20\n",
      "625     CG        21730.0    60.17      0.10     2.559415           -5.89      636           648             737           643            643             742          636           648         636          742                      0                      -12                              0                        12\n",
      "956    EVR        11540.0   298.52     -0.14     2.509045           -5.70      976          1000            1086           997            983            1089          976          1000         976         1089                      0                      -24                              0                        24\n",
      "677   SMMT        19460.0    26.20     -5.18     6.984733           -5.68      688           729             809           707            691             810          647           729         647          810                     41                      -41                              0                        41\n",
      "753    DKS        16780.0   209.49      0.14     2.907060           -5.05      766           764             828           761            759             840          764           775         759          840                      7                        2                             11                         9\n",
      "840   SOXL        14190.0    27.33      0.04     5.488474           -4.99      855           867             968           851            840             968          844           867         840          968                     15                      -12                              0                        12\n",
      "405    CCL        38370.0    29.55      0.34     2.673435           -4.25      410           416             475           411            410             482          410           416         410          482                      0                       -6                              0                         6\n",
      "824    QXO        14500.0    21.63     -0.73     4.160888           -4.24      839           847             961           860            834             961          837           847         834          961                      5                       -8                              0                         8\n",
      "720   FUTU        18110.0   160.57      7.00     4.596126           -4.09      731           766             840           766            756             902          731           773         731          902                      0                      -35                              7                        42\n",
      "515    HPE        27700.0    21.11      1.34     2.842255           -4.09      522           534             571           530            515             585          522           536         515          585                      7                      -12                              2                        14\n",
      "143   COIN       106920.0   419.78      2.20     4.814427           -3.96      145           157             248           156            156             251          145           157         145          251                      0                      -12                              0                        12\n",
      "811   EWBC        15020.0   108.95      0.67     2.257916           -3.93      825           836             894           829            823             901          825           836         823          901                      2                      -11                              0                        11\n",
      "791   COHR        15480.0    99.60     -0.68     3.684739           -3.91      804           821             907           833            833             913          804           821         804          913                      0                      -17                              0                        17\n",
      "858   ENTG        13740.0    90.75      0.53     3.900826           -3.87      874           886             948           903            891             965          874           892         874          965                      0                      -12                              6                        18\n",
      "640    CFG        21070.0    48.58     -0.49     2.223137           -3.78      651           662             713           655            650             717          647           662         647          717                      4                      -11                              0                        11\n",
      "927   IONQ        12170.0    46.51      3.72     6.514728           -3.74      946          1017            1054          1011            956            1064          946          1017         946         1064                      0                      -71                              0                        71\n",
      "653    KEY        20270.0    18.50      0.71     2.054054           -3.71      664           675             724           671            661             727          664           678         661          727                      3                      -11                              3                        14\n",
      "967    FHN        11340.0    22.36      0.68     2.146691           -3.69      988          1025            1066          1006           1004            1071          988          1025         988         1071                      0                      -37                              0                        37\n",
      "164   HOOD        96840.0   109.74      4.07     4.574449           -3.57      166           183             245           182            182             248          166           183         166          248                      0                      -17                              0                        17\n",
      "663   FLEX        19830.0    53.06     -0.23     2.242744           -3.56      674           683             757           681            679             757          674           683         674          757                      0                       -9                              0                         9\n",
      "969     SF        11300.0   109.99      0.35     2.136558           -3.54      990          1007            1059           993            993            1062          990          1007         990         1062                      0                      -17                              0                        17\n",
      "757   SNAP        16730.0    10.01      1.01     3.796204           -3.51      770           791             844           790            790             873          770           791         770          873                      0                      -21                              0                        21\n",
      "962    TOL        11480.0   116.90     -0.49     2.994012           -3.45      983           994            1013           972            955            1036          979           994         955         1036                     28                      -11                              0                        11\n",
      "633    TPR        21480.0   103.42      1.23     2.446335           -3.44      644           644             723           647            647             729          644           648         644          729                      0                        0                              4                         4\n",
      "732    CSL        17720.0   409.59      0.64     2.526917           -3.33      743           751             788           733            731             791          743           756         731          791                     12                       -8                              5                        13\n",
      "167    RCL        95070.0   350.10      0.46     2.339332           -3.31      169           170             223           170            169             226          169           172         169          226                      0                       -1                              2                         3\n",
      "903   CART        12800.0    49.11      1.53     2.891468           -3.18      919           915             970           928            916             985          915           928         915          985                      4                        4                             13                         9\n",
      "512  FCNCA        27850.0  2123.59      0.46     2.151545           -3.17      519           523             572           511            511             572          519           525         511          572                      8                       -4                              2                         6\n",
      "529    SYF        26660.0    70.04     -0.21     2.127356           -3.17      538           543             587           534            533             590          538           543         533          590                      5                       -5                              0                         5\n",
      "579    PTC        23940.0   199.61      1.32     3.271379           -3.16      589           601             642           608            559             661          589           601         559          661                     30                      -12                              0                        12\n",
      "554    EME        25310.0   565.56      1.13     2.192517           -3.13      564           570             613           565            565             618          564           570         564          618                      0                       -6                              0                         6\n",
      "922   ALLY        12250.0    39.88     -0.89     2.432297           -3.05      941           948             982           930            922             986          940           948         922          986                     19                       -7                              0                         7\n",
      "954   SEIC        11550.0    92.82     -0.44     1.659125           -3.04      974           981            1026           982            976            1030          974           981         974         1030                      0                       -7                              0                         7\n",
      "559   NTRS        24890.0   127.93      0.68     2.180880           -3.03      569           578             621           573            550             621          569           578         550          621                     19                       -9                              0                         9\n",
      "765    WMG        16270.0    31.22     -0.16     2.274183           -3.02      778           792             841           792            792             852          777           792         777          852                      1                      -14                              0                        14\n",
      "595     RF        23380.0    26.01      6.12     2.229912           -2.98      605           634             673           623            616             675          605           634         605          675                      0                      -29                              0                        29\n",
      "863   BF-B        13680.0    28.92     -0.41     3.112033           -2.82      879           893             921           888            870             922          872           897         870          922                      9                      -14                              4                        18\n",
      "923    CNM        12220.0    62.00      0.24     2.016129           -2.76      942           954             995           952            941             995          942           954         941          995                      1                      -12                              0                        12\n",
      "750   ZBRA        16870.0   331.73      0.55     2.462846           -2.71      762           770             807           770            764             812          762           770         762          812                      0                       -8                              0                         8\n",
      "968    SJM        11330.0   106.16     -2.52     2.420874           -2.69      989           995            1047          1002           1002            1056          974           995         974         1056                     15                       -6                              0                         6\n",
      "946    SNX        11820.0   143.29      0.58     1.905227           -2.69      966           972            1022           973            965            1024          966           972         965         1024                      1                       -6                              0                         6\n",
      "483    UAL        30130.0    92.25      1.13     4.173442           -2.65      489           505             542           500            493             566          489           505         489          566                      0                      -16                              0                        16\n",
      "575    JBL        24040.0   223.98      0.79     2.201089           -2.64      585           595             678           592            575             678          585           595         575          678                     10                      -10                              0                        10\n",
      "865   BF-A        13660.0    28.94     -0.55     2.868003           -2.61      881           891             910           892            869             926          881           896         869          926                     12                      -10                              5                        15\n"
     ]
    }
   ],
   "source": [
    "import pprint\n",
    "\n",
    "# Map 'Price' and 'ATR/Price %' from df_finviz_merged_stocks_etfs to df_candidates\n",
    "df_candidates['Price'] = df_candidates['ticker'].map(df_finviz_merged_stocks_etfs['Price'])\n",
    "df_candidates['Change %'] = df_candidates['ticker'].map(df_finviz_merged_stocks_etfs['Change %'])\n",
    "df_candidates['MktCap AUM, M'] = df_candidates['ticker'].map(df_finviz_merged_stocks_etfs['MktCap AUM, M'])\n",
    "df_candidates['ATR/Price %'] = df_candidates['ticker'].map(df_finviz_merged_stocks_etfs['ATR/Price %'])\n",
    "\n",
    "# Reorder the columns to ensure 'Price' is the second column and 'ATR/Price %' is the third column\n",
    "columns = df_candidates.columns.tolist()\n",
    "\n",
    "# Remove 'Price' and 'ATR/Price %' from their current positions\n",
    "if 'Price' in columns:\n",
    "    columns.remove('Price')\n",
    "if 'Change %' in columns:\n",
    "    columns.remove('Change %')    \n",
    "if 'MktCap AUM, M' in columns:\n",
    "    columns.remove('MktCap AUM, M')\n",
    "if 'ATR/Price %' in columns:\n",
    "    columns.remove('ATR/Price %')    \n",
    "\n",
    "# Insert 'Price' as the second column and 'ATR/Price %' as the third column\n",
    "columns.insert(1, 'MktCap AUM, M')\n",
    "columns.insert(2, 'Price')\n",
    "columns.insert(3, 'Change %')\n",
    "columns.insert(4, 'ATR/Price %')\n",
    "\n",
    "\n",
    "# Reorder the DataFrame columns\n",
    "df_candidates = df_candidates[columns]\n",
    "\n",
    "\n",
    "# Display the updated DataFrame\n",
    "print(f'\\ndf_candidates.head(50):\\n{df_candidates.head(50)}')"
   ]
  },
  {
   "cell_type": "code",
   "execution_count": null,
   "metadata": {},
   "outputs": [
    {
     "name": "stdout",
     "output_type": "stream",
     "text": [
      "filter_criteria_1:\n",
      "{'lookback_days': 20,\n",
      " 'recent_days': 4,\n",
      " 'min_lookback_improvement': 0,\n",
      " 'min_current_to_recent_start': None,\n",
      " 'min_recent_bottom_to_recent_start': 0,\n",
      " 'min_recent_bottom_to_current': 2,\n",
      " 'current_rank_bracket_start': 1,\n",
      " 'current_rank_bracket_end': 1000}\n",
      "\n",
      "sort order:\n",
      "{'Change %': False,\n",
      " 'current_to_total_peak': True,\n",
      " 'recent_bottom_to_current': False,\n",
      " 'lookback_slope': True}\n",
      "\n",
      "df_sorted_candidates.head(100):\n",
      "    ticker  MktCap AUM, M    Price  Change %  ATR/Price %  current  current_to_total_peak  recent_bottom_to_current  lookback_slope  recent_start  lookback_start  lookback_end  best_lookback  worst_lookback  best_recent  worst_recent  best_total  worst_total  current_to_recent_start  recent_bottom_to_recent_start\n",
      "720   FUTU        18110.0   160.57      7.00     4.596126      731                      0                        42           -4.09           766             840           766            756             902          731           773         731          902                      -35                              7\n",
      "595     RF        23380.0    26.01      6.12     2.229912      605                      0                        29           -2.98           634             673           623            616             675          605           634         605          675                      -29                              0\n",
      "248    VST        65490.0   193.01      6.05     3.989431      250                      0                        20           -0.84           257             278           254            251             278          250           270         250          278                       -7                             13\n",
      "183   DELL        89090.0   131.24      5.94     2.887839      185                      0                        13           -0.70           191             206           190            187             206          185           198         185          206                       -6                              7\n",
      "164   HOOD        96840.0   109.74      4.07     4.574449      166                      0                        17           -3.57           183             245           182            182             248          166           183         166          248                      -17                              0\n",
      "927   IONQ        12170.0    46.51      3.72     6.514728      946                      0                        71           -3.74          1017            1054          1011            956            1064          946          1017         946         1064                      -71                              0\n",
      "973    ZTO        11270.0    18.98      3.55     2.687039      994                      3                        28           -1.07          1013            1020          1020            991            1048          994          1022         991         1048                      -19                              9\n",
      "240    NET        68400.0   197.35      3.19     3.253104      242                      0                        16           -0.04           258             265           265            246             265          242           258         242          265                      -16                              0\n",
      "511     UI        27850.0   460.40      3.01     2.988705      518                      0                        46           -1.52           564             593           564            554             597          518           564         518          597                      -46                              0\n",
      "356    XYZ        44790.0    72.82      2.95     3.364460      360                      0                        32           -0.93           392             394           380            377             399          360           392         360          399                      -32                              0\n",
      "266    NSC        62370.0   276.66      2.54     1.868720      268                      0                        14           -0.34           282             288           282            277             289          268           282         268          289                      -14                              0\n",
      "864   ROKU        13680.0    93.29      2.40     2.915639      880                      0                        14           -2.54           892             935           899            899             946          880           894         880          946                      -12                              2\n",
      "553     ON        25370.0    60.72      2.21     3.277339      563                      1                         6           -2.07           569             600           570            562             620          563           569         562          620                       -6                              0\n",
      "143   COIN       106920.0   419.78      2.20     4.814427      145                      0                        12           -3.96           157             248           156            156             251          145           157         145          251                      -12                              0\n",
      "445    MLM        34060.0   565.03      2.16     2.029981      450                      2                        10           -0.43           457             459           452            448             466          450           460         448          466                       -7                              3\n",
      "194   RBLX        84450.0   124.50      1.91     3.052209      196                      0                        17           -0.26           213             242           219            219             245          196           213         196          245                      -17                              0\n",
      "602   DLTR        22980.0   110.12      1.82     2.551762      613                      4                        12           -1.52           621             644           611            609             649          613           625         609          649                       -8                              4\n",
      "362   FERG        43930.0   222.79      1.80     1.772970      366                      2                         4           -0.51           369             380           369            364             380          366           370         364          380                       -3                              1\n",
      "268    AZO        62130.0  3713.93      1.77     2.023463      270                      7                         6           -0.37           271             276           266            263             283          270           276         263          283                       -1                              5\n",
      "151   DASH       101350.0   239.17      1.77     2.717732      153                      7                         3           -0.78           153             162           151            146             164          153           156         146          164                        0                              3\n",
      "624   GRAB        21760.0     5.34      1.71     3.558052      635                      0                        21           -1.39           656             684           661            651             703          635           656         635          703                      -21                              0\n",
      "735     RS        17680.0   336.21      1.69     1.864906      746                      0                        14           -0.68           760             770           753            746             770          746           760         746          770                      -14                              0\n",
      "662    XLU        19940.0    83.75      1.68     1.337313      673                      5                         2           -0.81           668             695           673            673             704          668           675         668          704                        5                              7\n",
      "469    STX        31640.0   149.07      1.61     2.535721      475                      9                         8           -2.14           474             513           476            466             513          474           483         466          513                        1                              9\n",
      "591   EXPE        23510.0   184.93      1.57     2.600984      601                      3                        12           -1.92           607             632           602            598             640          601           613         598          640                       -6                              6\n",
      "903   CART        12800.0    49.11      1.53     2.891468      919                      4                         9           -3.18           915             970           928            916             985          915           928         915          985                        4                             13\n",
      "688   PSTG        19000.0    58.12      1.52     3.097041      699                      1                        33           -1.04           732             740           735            698             740          699           732         698          740                      -33                              0\n",
      "491    RKT        29430.0    13.99      1.52     4.217298      498                     11                        11           -0.68           509             521           497            487             530          498           509         487          530                      -11                              0\n",
      "471     DD        31620.0    75.55      1.48     2.170748      477                      5                         5           -2.13           477             504           478            472             512          477           482         472          512                        0                              5\n",
      "582    WDC        23720.0    68.00      1.46     2.323529      592                      0                        11           -2.26           592             659           600            600             659          592           603         592          659                        0                             11\n",
      "498    STM        28840.0    32.55      1.37     2.549923      505                      3                         5           -2.09           510             533           512            502             542          505           510         502          542                       -5                              0\n",
      "443    CCJ        34380.0    78.97      1.36     3.406357      448                      0                        12           -0.63           460             483           463            462             483          448           460         448          483                      -12                              0\n",
      "278    PWR        59770.0   403.31      1.36     2.251370      281                      0                         8           -0.35           287             300           291            289             300          281           289         281          300                       -6                              2\n",
      "428    VMC        35220.0   266.60      1.36     1.969242      433                      4                        11           -0.51           441             437           432            429             451          433           444         429          451                       -8                              3\n",
      "121    APH       125000.0   103.34      1.35     1.780530      123                      0                         5           -0.16           128             135           128            128             136          123           128         123          136                       -5                              0\n",
      "515    HPE        27700.0    21.11      1.34     2.842255      522                      7                        14           -4.09           534             571           530            515             585          522           536         515          585                      -12                              2\n",
      "153   INTC       100760.0    23.10      1.32     3.549784      155                      7                         2           -0.75           154             168           155            148             168          154           157         148          168                        1                              3\n",
      "579    PTC        23940.0   199.61      1.32     3.271379      589                     30                        12           -3.16           601             642           608            559             661          589           601         559          661                      -12                              0\n",
      "322   DDOG        50080.0   145.02      1.31     3.240932      325                     19                        12           -1.99           333             378           338            306             378          325           337         306          378                       -8                              4\n",
      "633    TPR        21480.0   103.42      1.23     2.446335      644                      0                         4           -3.44           644             723           647            647             729          644           648         644          729                        0                              4\n",
      "260    CRH        63580.0    94.06      1.21     2.105039      262                      0                         4           -0.65           264             269           263            262             279          262           266         262          279                       -2                              2\n",
      "809    TER        15070.0    93.92      1.21     3.375213      823                     27                         6           -1.45           823             834           814            796             846          823           829         796          846                        0                              6\n",
      "756   BURL        16740.0   265.40      1.20     2.607385      769                      0                        19           -2.26           788             808           781            781             838          769           788         769          838                      -19                              0\n",
      "40     WFC       262420.0    80.64      1.17     2.207341       41                      2                         3           -0.36            44              46            39             39              46           41            44          39           46                       -3                              0\n",
      "483    UAL        30130.0    92.25      1.13     4.173442      489                      0                        16           -2.65           505             542           500            493             566          489           505         489          566                      -16                              0\n",
      "554    EME        25310.0   565.56      1.13     2.192517      564                      0                         6           -3.13           570             613           565            565             618          564           570         564          618                       -6                              0\n",
      "738     RL        17540.0   289.49      1.13     2.300598      749                      7                         6           -1.03           747             762           748            742             772          747           755         742          772                        2                              8\n",
      "404    FER        38570.0    53.12      1.12     1.675452      408                      4                         7           -0.37           415             413           413            404             419          408           415         404          419                       -7                              0\n",
      "363   GRMN        43880.0   227.89      1.10     1.720128      367                      0                        14           -1.04           381             398           383            383             404          367           381         367          404                      -14                              0\n",
      "289   CPNG        57170.0    31.49      1.09     2.032391      292                      0                         4           -0.78           293             313           297            293             313          292           296         292          313                       -1                              3\n",
      "231    USB        71190.0    45.69      1.06     2.035456      233                      7                         2           -1.22           233             246           230            226             247          232           235         226          247                        0                              2\n",
      "87     NEE       156350.0    75.95      1.02     2.343647       89                      0                         2           -0.09            90              90            89             89             100           89            91          89          100                       -1                              1\n",
      "350    VLO        45780.0   146.15      1.02     2.702703      354                     17                         4           -1.06           346             367           350            337             377          346           358         337          377                        8                             12\n",
      "757   SNAP        16730.0    10.01      1.01     3.796204      770                      0                        21           -3.51           791             844           790            790             873          770           791         770          873                      -21                              0\n",
      "478    STT        30950.0   108.51      0.96     2.156483      484                      9                        11           -2.01           495             514           477            475             514          484           495         475          514                      -11                              0\n",
      "237     BK        69710.0    98.84      0.94     1.770538      239                      0                         5           -0.08           244             252           244            244             260          239           244         239          260                       -5                              0\n",
      "670   ASTS        19580.0    57.98      0.92     6.036564      681                      0                        69           -0.25           750             849           776            734             870          681           750         681          870                      -69                              0\n",
      "799    SGI        15290.0    73.32      0.92     2.318603      812                      1                        17           -2.52           829             859           822            811             864          812           829         811          864                      -17                              0\n",
      "885    ATI        13180.0    93.41      0.91     2.269564      901                      0                        20           -1.26           917             939           916            916             963          901           921         901          963                      -16                              4\n",
      "309    AMP        51850.0   544.55      0.88     1.812506      312                      0                        15           -0.72           327             327           318            315             333          312           327         312          333                      -15                              0\n",
      "212    HWM        76900.0   190.49      0.88     2.336081      214                      0                        13           -0.31           224             237           225            220             240          214           227         214          240                      -10                              3\n",
      "349    CCI        45780.0   105.14      0.86     1.788092      353                      0                         8           -0.06           361             368           362            353             368          353           361         353          368                       -8                              0\n",
      "537    TDY        26410.0   563.66      0.83     1.607352      546                      0                        14           -1.62           560             595           561            561             596          546           560         546          596                      -14                              0\n",
      "327      D        49540.0    58.09      0.83     1.893613      331                      1                         7           -0.68           338             344           335            330             347          331           338         330          347                       -7                              0\n",
      "206   ORLY        78940.0    92.34      0.82     1.938488      208                      4                         2           -0.14           210             214           208            204             217          208           210         204          217                       -2                              0\n",
      "575    JBL        24040.0   223.98      0.79     2.201089      585                     10                        10           -2.64           595             678           592            575             678          585           595         575          678                      -10                              0\n",
      "256    FCX        64340.0    44.80      0.76     3.214286      258                     11                         7           -1.84           265             277           257            247             283          258           265         247          283                       -7                              0\n",
      "460    RJF        32410.0   160.66      0.74     1.767708      466                      0                        10           -0.95           476             487           472            468             487          466           476         466          487                      -10                              0\n",
      "359   CCEP        44620.0    96.84      0.74     1.600578      363                      0                         5           -0.35           368             371           367            364             379          363           368         363          379                       -5                              0\n",
      "301    TEL        53070.0   178.97      0.73     1.598033      304                      0                         4           -0.77           307             324           310            307             329          304           308         304          329                       -3                              1\n",
      "653    KEY        20270.0    18.50      0.71     2.054054      664                      3                        14           -3.71           675             724           671            661             727          664           678         661          727                      -11                              3\n",
      "713    TRU        18270.0    93.61      0.70     2.937720      724                      4                        14           -1.12           738             743           732            720             750          724           738         720          750                      -14                              0\n",
      "967    FHN        11340.0    22.36      0.68     2.146691      988                      0                        37           -3.69          1025            1066          1006           1004            1071          988          1025         988         1071                      -37                              0\n",
      "559   NTRS        24890.0   127.93      0.68     2.180880      569                     19                         9           -3.03           578             621           573            550             621          569           578         550          621                       -9                              0\n",
      "672    FIX        19550.0   554.18      0.67     2.713920      683                      0                         5           -1.25           688             719           693            693             721          683           688         683          721                       -5                              0\n",
      "811   EWBC        15020.0   108.95      0.67     2.257916      825                      2                        11           -3.93           836             894           829            823             901          825           836         823          901                      -11                              0\n",
      "465    SYM        32160.0    54.54      0.66     5.243858      471                      0                        29          -10.53           500             686           514            512             700          471           500         471          700                      -29                              0\n",
      "296   FLUT        54210.0   306.79      0.66     2.180645      299                      0                        10           -1.06           309             337           312            312             342          299           309         299          342                      -10                              0\n",
      "722    IHG        18000.0   117.08      0.66     1.597198      733                     20                         5           -0.67           727             721           719            713             734          727           738         713          738                        6                             11\n",
      "392   MCHP        40360.0    74.78      0.65     2.888473      396                      1                         4           -1.33           400             417           398            395             421          396           400         395          421                       -4                              0\n",
      "408    SYY        38010.0    78.41      0.64     1.581431      413                      0                         6           -0.19           418             423           417            417             425          413           419         413          425                       -5                              1\n",
      "335    CMI        48270.0   350.40      0.64     1.772260      339                      0                         5           -0.54           344             353           349            348             365          339           344         339          365                       -5                              0\n",
      "732    CSL        17720.0   409.59      0.64     2.526917      743                     12                        13           -3.33           751             788           733            731             791          743           756         731          791                       -8                              5\n",
      "801      U        15280.0    36.75      0.63     5.115646      814                      0                       116           -7.20           930            1048           947            945            1084          814           930         814         1084                     -116                              0\n",
      "290   NXPI        57070.0   225.90      0.62     2.903940      293                      9                         3           -0.73           295             293           292            284             303          293           296         284          303                       -2                              1\n",
      "246    APD        65720.0   295.31      0.59     1.771020      248                      0                        15           -0.51           263             261           259            258             275          248           263         248          275                      -15                              0\n",
      "384    YUM        41410.0   148.96      0.59     1.685016      388                      9                         6           -0.80           394             397           395            379             400          388           394         379          400                       -6                              0\n",
      "946    SNX        11820.0   143.29      0.58     1.905227      966                      1                         6           -2.69           972            1022           973            965            1024          966           972         965         1024                       -6                              0\n",
      "317    PSX        51300.0   125.90      0.58     2.557585      320                     19                         2           -0.75           305             318           307            301             333          305           322         301          333                       15                             17\n",
      "675    IWP        19480.0   140.64      0.58     1.258532      686                     69                         3           -0.48           679             701           688            617             701          679           689         617          701                        7                             10\n",
      "750   ZBRA        16870.0   331.73      0.55     2.462846      762                      0                         8           -2.71           770             807           770            764             812          762           770         762          812                       -8                              0\n",
      "935    JLL        12020.0   253.27      0.55     2.234769      954                     17                         5           -1.90           959             972           948            937             987          954           959         937          987                       -5                              0\n",
      "858   ENTG        13740.0    90.75      0.53     3.900826      874                      0                        18           -3.87           886             948           903            891             965          874           892         874          965                      -12                              6\n",
      "381   CBRE        41580.0   139.47      0.50     1.978920      385                      7                         4           -0.66           389             393           381            378             394          385           389         378          394                       -4                              0\n",
      "978    HST        11200.0    16.14      0.50     2.168525      999                     17                         5           -0.46           982            1004           989            983            1029          982          1004         982         1029                       17                             22\n",
      "167    RCL        95070.0   350.10      0.46     2.339332      169                      0                         3           -3.31           170             223           170            169             226          169           172         169          226                       -1                              2\n",
      "512  FCNCA        27850.0  2123.59      0.46     2.151545      519                      8                         6           -3.17           523             572           511            511             572          519           525         511          572                       -4                              2\n",
      "366    ALC        43200.0    87.35      0.45     1.659989      370                      8                         2           -0.27           372             372           370            362             379          368           372         362          379                       -2                              0\n",
      "869    BAH        13570.0   109.33      0.44     2.533614      885                     13                        16           -1.35           898             898           890            872             921          885           901         872          921                      -13                              3\n",
      "221   CVNA        74420.0   347.52      0.41     3.824240      223                      6                         2           -1.94           223             266           226            217             266          220           225         217          266                        0                              2\n",
      "\n",
      "tickers_to_plot: ['FUTU', 'RF', 'VST', 'DELL', 'HOOD', 'IONQ', 'ZTO', 'NET', 'UI', 'XYZ', 'NSC', 'ROKU', 'ON', 'COIN', 'MLM', 'RBLX', 'DLTR', 'FERG', 'AZO', 'DASH']\n"
     ]
    }
   ],
   "source": [
    "pd.set_option('display.max_rows', None)          # or 200, 500, …\n",
    "\n",
    "# sort_order = {'lookback_slope': True,  # negative slope (i.e. small) is better\n",
    "#                    'current_to_total_peak': True,  # sort small to large, small is better, best is 0              \n",
    "#                    'recent_bottom_to_current': False,}  # sort large to small, large means big dip before recovered to current level \n",
    "\n",
    "# sort_order = {'current_to_total_peak': True,  # sort small to large, small is better, best is 0  \n",
    "#               'recent_bottom_to_current': False,  # sort large to small, large means big dip before recovered to current level \n",
    "#               'lookback_slope': True,}  # negative slope (i.e. small) is better\n",
    "\n",
    "sort_order = {'Change %': False,  # sort large to small\n",
    "              'current_to_total_peak': True,  # sort small to large, small is better, best is 0  \n",
    "              'recent_bottom_to_current': False,  # sort large to small, large means big dip before recovered to current level \n",
    "              'lookback_slope': True,}  # negative slope (i.e. small) is better\n",
    "\n",
    "# keys in the exact order they appear in the dict\n",
    "sort_keys = list(sort_order.keys())\n",
    "sort_values = list(sort_order.values())\n",
    "df_sorted_candidates = df_candidates.sort_values(by=sort_keys, ascending=sort_values)\n",
    "\n",
    "leading_columns = ['ticker', 'MktCap AUM, M', 'Price', 'Change %', 'ATR/Price %', 'current',] \n",
    "\n",
    "# Use an ordered-dedupe pattern so the first occurrence of every name\n",
    "# is kept in its original position\n",
    "fixed_cols = []\n",
    "seen = set()\n",
    "\n",
    "# add leading_columns in order\n",
    "for col in leading_columns:\n",
    "    if col not in seen:\n",
    "        fixed_cols.append(col)\n",
    "        seen.add(col)\n",
    "\n",
    "# append any sort_keys that are not yet present, in order\n",
    "for col in sort_keys:\n",
    "    if col not in seen:\n",
    "        fixed_cols.append(col)\n",
    "        seen.add(col)\n",
    "\n",
    "remaining_columns = [c for c in df_candidates.columns if c not in fixed_cols]\n",
    "\n",
    "# final order\n",
    "new_order = fixed_cols + remaining_columns\n",
    "df_sorted_candidates = df_sorted_candidates.reindex(columns=new_order)\n",
    "\n",
    "tickers_to_plot = df_sorted_candidates.head(20)['ticker'].tolist()\n",
    "\n",
    "print(\"filter_criteria_1:\")\n",
    "pprint.pprint(filter_criteria_1, sort_dicts=False)\n",
    "print(f\"\\nsort order:\")\n",
    "# False to maintain the original insertion order of the dictionary.\n",
    "pprint.pprint(sort_order, sort_dicts=False)  \n",
    "print(f'\\ndf_sorted_candidates.head(100):\\n{df_sorted_candidates.head(100)}')\n",
    "print(f'\\ntickers_to_plot: {tickers_to_plot}')\n"
   ]
  },
  {
   "cell_type": "code",
   "execution_count": null,
   "metadata": {},
   "outputs": [
    {
     "data": {
      "application/vnd.plotly.v1+json": {
       "config": {
        "plotlyServerURL": "https://plot.ly"
       },
       "data": [
        {
         "hovertemplate": "Ticker=JOBY<br>index=%{x}<br>Rank=%{y}<extra></extra>",
         "legendgroup": "JOBY",
         "line": {
          "color": "#636EFA",
          "dash": "solid"
         },
         "marker": {
          "symbol": "circle"
         },
         "mode": "lines",
         "name": "JOBY",
         "orientation": "v",
         "showlegend": true,
         "type": "scatter",
         "x": [
          "2025-06-02T00:00:00",
          "2025-06-03T00:00:00",
          "2025-06-04T00:00:00",
          "2025-06-05T00:00:00",
          "2025-06-06T00:00:00",
          "2025-06-09T00:00:00",
          "2025-06-10T00:00:00",
          "2025-06-11T00:00:00",
          "2025-06-12T00:00:00",
          "2025-06-13T00:00:00",
          "2025-06-16T00:00:00",
          "2025-06-17T00:00:00",
          "2025-06-18T00:00:00",
          "2025-06-19T00:00:00",
          "2025-06-20T00:00:00",
          "2025-06-23T00:00:00",
          "2025-06-24T00:00:00",
          "2025-06-25T00:00:00",
          "2025-06-26T00:00:00",
          "2025-06-27T00:00:00",
          "2025-06-30T00:00:00",
          "2025-07-01T00:00:00",
          "2025-07-02T00:00:00",
          "2025-07-03T00:00:00",
          "2025-07-07T00:00:00",
          "2025-07-08T00:00:00",
          "2025-07-09T00:00:00",
          "2025-07-10T00:00:00",
          "2025-07-11T00:00:00",
          "2025-07-14T00:00:00",
          "2025-07-15T00:00:00",
          "2025-07-16T00:00:00",
          "2025-07-17T00:00:00",
          "2025-07-18T00:00:00"
         ],
         "xaxis": "x",
         "y": [
          1404,
          1358,
          1376,
          1415,
          1359,
          1268,
          1258,
          1244,
          1298,
          1308,
          1288,
          1309,
          1275,
          1295,
          1318,
          1323,
          1307,
          1333,
          1259,
          1270,
          1186,
          1243,
          1223,
          1202,
          1188,
          1140,
          1133,
          1095,
          1104,
          1072,
          1005,
          905,
          862,
          860
         ],
         "yaxis": "y"
        },
        {
         "hovertemplate": "Ticker=U<br>index=%{x}<br>Rank=%{y}<extra></extra>",
         "legendgroup": "U",
         "line": {
          "color": "#EF553B",
          "dash": "solid"
         },
         "marker": {
          "symbol": "circle"
         },
         "mode": "lines",
         "name": "U",
         "orientation": "v",
         "showlegend": true,
         "type": "scatter",
         "x": [
          "2025-06-02T00:00:00",
          "2025-06-03T00:00:00",
          "2025-06-04T00:00:00",
          "2025-06-05T00:00:00",
          "2025-06-06T00:00:00",
          "2025-06-09T00:00:00",
          "2025-06-10T00:00:00",
          "2025-06-11T00:00:00",
          "2025-06-12T00:00:00",
          "2025-06-13T00:00:00",
          "2025-06-16T00:00:00",
          "2025-06-17T00:00:00",
          "2025-06-18T00:00:00",
          "2025-06-19T00:00:00",
          "2025-06-20T00:00:00",
          "2025-06-23T00:00:00",
          "2025-06-24T00:00:00",
          "2025-06-25T00:00:00",
          "2025-06-26T00:00:00",
          "2025-06-27T00:00:00",
          "2025-06-30T00:00:00",
          "2025-07-01T00:00:00",
          "2025-07-02T00:00:00",
          "2025-07-03T00:00:00",
          "2025-07-07T00:00:00",
          "2025-07-08T00:00:00",
          "2025-07-09T00:00:00",
          "2025-07-10T00:00:00",
          "2025-07-11T00:00:00",
          "2025-07-14T00:00:00",
          "2025-07-15T00:00:00",
          "2025-07-16T00:00:00",
          "2025-07-17T00:00:00",
          "2025-07-18T00:00:00"
         ],
         "xaxis": "x",
         "y": [
          981,
          986,
          997,
          1025,
          1023,
          1044,
          1039,
          1061,
          1037,
          1068,
          1048,
          1069,
          1058,
          1059,
          1082,
          1079,
          1065,
          1060,
          1084,
          1062,
          1067,
          1081,
          1069,
          1028,
          976,
          945,
          947,
          953,
          953,
          947,
          930,
          853,
          820,
          814
         ],
         "yaxis": "y"
        },
        {
         "hovertemplate": "Ticker=IONQ<br>index=%{x}<br>Rank=%{y}<extra></extra>",
         "legendgroup": "IONQ",
         "line": {
          "color": "#00CC96",
          "dash": "solid"
         },
         "marker": {
          "symbol": "circle"
         },
         "mode": "lines",
         "name": "IONQ",
         "orientation": "v",
         "showlegend": true,
         "type": "scatter",
         "x": [
          "2025-06-02T00:00:00",
          "2025-06-03T00:00:00",
          "2025-06-04T00:00:00",
          "2025-06-05T00:00:00",
          "2025-06-06T00:00:00",
          "2025-06-09T00:00:00",
          "2025-06-10T00:00:00",
          "2025-06-11T00:00:00",
          "2025-06-12T00:00:00",
          "2025-06-13T00:00:00",
          "2025-06-16T00:00:00",
          "2025-06-17T00:00:00",
          "2025-06-18T00:00:00",
          "2025-06-19T00:00:00",
          "2025-06-20T00:00:00",
          "2025-06-23T00:00:00",
          "2025-06-24T00:00:00",
          "2025-06-25T00:00:00",
          "2025-06-26T00:00:00",
          "2025-06-27T00:00:00",
          "2025-06-30T00:00:00",
          "2025-07-01T00:00:00",
          "2025-07-02T00:00:00",
          "2025-07-03T00:00:00",
          "2025-07-07T00:00:00",
          "2025-07-08T00:00:00",
          "2025-07-09T00:00:00",
          "2025-07-10T00:00:00",
          "2025-07-11T00:00:00",
          "2025-07-14T00:00:00",
          "2025-07-15T00:00:00",
          "2025-07-16T00:00:00",
          "2025-07-17T00:00:00",
          "2025-07-18T00:00:00"
         ],
         "xaxis": "x",
         "y": [
          1042,
          1058,
          1064,
          1101,
          1076,
          1067,
          1070,
          1031,
          1052,
          1060,
          1054,
          1054,
          1028,
          1029,
          1016,
          1006,
          1015,
          1064,
          1015,
          1034,
          996,
          1045,
          974,
          982,
          963,
          964,
          959,
          956,
          1020,
          1011,
          1017,
          986,
          968,
          946
         ],
         "yaxis": "y"
        },
        {
         "hovertemplate": "Ticker=ASTS<br>index=%{x}<br>Rank=%{y}<extra></extra>",
         "legendgroup": "ASTS",
         "line": {
          "color": "#AB63FA",
          "dash": "solid"
         },
         "marker": {
          "symbol": "circle"
         },
         "mode": "lines",
         "name": "ASTS",
         "orientation": "v",
         "showlegend": true,
         "type": "scatter",
         "x": [
          "2025-06-02T00:00:00",
          "2025-06-03T00:00:00",
          "2025-06-04T00:00:00",
          "2025-06-05T00:00:00",
          "2025-06-06T00:00:00",
          "2025-06-09T00:00:00",
          "2025-06-10T00:00:00",
          "2025-06-11T00:00:00",
          "2025-06-12T00:00:00",
          "2025-06-13T00:00:00",
          "2025-06-16T00:00:00",
          "2025-06-17T00:00:00",
          "2025-06-18T00:00:00",
          "2025-06-19T00:00:00",
          "2025-06-20T00:00:00",
          "2025-06-23T00:00:00",
          "2025-06-24T00:00:00",
          "2025-06-25T00:00:00",
          "2025-06-26T00:00:00",
          "2025-06-27T00:00:00",
          "2025-06-30T00:00:00",
          "2025-07-01T00:00:00",
          "2025-07-02T00:00:00",
          "2025-07-03T00:00:00",
          "2025-07-07T00:00:00",
          "2025-07-08T00:00:00",
          "2025-07-09T00:00:00",
          "2025-07-10T00:00:00",
          "2025-07-11T00:00:00",
          "2025-07-14T00:00:00",
          "2025-07-15T00:00:00",
          "2025-07-16T00:00:00",
          "2025-07-17T00:00:00",
          "2025-07-18T00:00:00"
         ],
         "xaxis": "x",
         "y": [
          1199,
          1171,
          1081,
          1044,
          1043,
          970,
          948,
          937,
          930,
          897,
          849,
          870,
          816,
          818,
          803,
          756,
          734,
          759,
          757,
          759,
          786,
          816,
          808,
          811,
          806,
          811,
          843,
          832,
          809,
          776,
          750,
          739,
          686,
          681
         ],
         "yaxis": "y"
        },
        {
         "hovertemplate": "Ticker=RKLB<br>index=%{x}<br>Rank=%{y}<extra></extra>",
         "legendgroup": "RKLB",
         "line": {
          "color": "#FFA15A",
          "dash": "solid"
         },
         "marker": {
          "symbol": "circle"
         },
         "mode": "lines",
         "name": "RKLB",
         "orientation": "v",
         "showlegend": true,
         "type": "scatter",
         "x": [
          "2025-06-02T00:00:00",
          "2025-06-03T00:00:00",
          "2025-06-04T00:00:00",
          "2025-06-05T00:00:00",
          "2025-06-06T00:00:00",
          "2025-06-09T00:00:00",
          "2025-06-10T00:00:00",
          "2025-06-11T00:00:00",
          "2025-06-12T00:00:00",
          "2025-06-13T00:00:00",
          "2025-06-16T00:00:00",
          "2025-06-17T00:00:00",
          "2025-06-18T00:00:00",
          "2025-06-19T00:00:00",
          "2025-06-20T00:00:00",
          "2025-06-23T00:00:00",
          "2025-06-24T00:00:00",
          "2025-06-25T00:00:00",
          "2025-06-26T00:00:00",
          "2025-06-27T00:00:00",
          "2025-06-30T00:00:00",
          "2025-07-01T00:00:00",
          "2025-07-02T00:00:00",
          "2025-07-03T00:00:00",
          "2025-07-07T00:00:00",
          "2025-07-08T00:00:00",
          "2025-07-09T00:00:00",
          "2025-07-10T00:00:00",
          "2025-07-11T00:00:00",
          "2025-07-14T00:00:00",
          "2025-07-15T00:00:00",
          "2025-07-16T00:00:00",
          "2025-07-17T00:00:00",
          "2025-07-18T00:00:00"
         ],
         "xaxis": "x",
         "y": [
          904,
          901,
          901,
          911,
          862,
          848,
          902,
          null,
          927,
          945,
          923,
          920,
          888,
          892,
          843,
          802,
          795,
          810,
          752,
          764,
          765,
          790,
          768,
          767,
          719,
          722,
          721,
          723,
          724,
          667,
          638,
          606,
          575,
          575
         ],
         "yaxis": "y"
        },
        {
         "hovertemplate": "Ticker=UI<br>index=%{x}<br>Rank=%{y}<extra></extra>",
         "legendgroup": "UI",
         "line": {
          "color": "#19D3F3",
          "dash": "solid"
         },
         "marker": {
          "symbol": "circle"
         },
         "mode": "lines",
         "name": "UI",
         "orientation": "v",
         "showlegend": true,
         "type": "scatter",
         "x": [
          "2025-06-02T00:00:00",
          "2025-06-03T00:00:00",
          "2025-06-04T00:00:00",
          "2025-06-05T00:00:00",
          "2025-06-06T00:00:00",
          "2025-06-09T00:00:00",
          "2025-06-10T00:00:00",
          "2025-06-11T00:00:00",
          "2025-06-12T00:00:00",
          "2025-06-13T00:00:00",
          "2025-06-16T00:00:00",
          "2025-06-17T00:00:00",
          "2025-06-18T00:00:00",
          "2025-06-19T00:00:00",
          "2025-06-20T00:00:00",
          "2025-06-23T00:00:00",
          "2025-06-24T00:00:00",
          "2025-06-25T00:00:00",
          "2025-06-26T00:00:00",
          "2025-06-27T00:00:00",
          "2025-06-30T00:00:00",
          "2025-07-01T00:00:00",
          "2025-07-02T00:00:00",
          "2025-07-03T00:00:00",
          "2025-07-07T00:00:00",
          "2025-07-08T00:00:00",
          "2025-07-09T00:00:00",
          "2025-07-10T00:00:00",
          "2025-07-11T00:00:00",
          "2025-07-14T00:00:00",
          "2025-07-15T00:00:00",
          "2025-07-16T00:00:00",
          "2025-07-17T00:00:00",
          "2025-07-18T00:00:00"
         ],
         "xaxis": "x",
         "y": [
          567,
          565,
          560,
          559,
          555,
          549,
          561,
          565,
          573,
          584,
          593,
          591,
          595,
          595,
          597,
          579,
          570,
          574,
          575,
          566,
          563,
          569,
          563,
          554,
          560,
          568,
          574,
          581,
          573,
          564,
          564,
          553,
          530,
          518
         ],
         "yaxis": "y"
        },
        {
         "hovertemplate": "Ticker=FUTU<br>index=%{x}<br>Rank=%{y}<extra></extra>",
         "legendgroup": "FUTU",
         "line": {
          "color": "#FF6692",
          "dash": "solid"
         },
         "marker": {
          "symbol": "circle"
         },
         "mode": "lines",
         "name": "FUTU",
         "orientation": "v",
         "showlegend": true,
         "type": "scatter",
         "x": [
          "2025-06-02T00:00:00",
          "2025-06-03T00:00:00",
          "2025-06-04T00:00:00",
          "2025-06-05T00:00:00",
          "2025-06-06T00:00:00",
          "2025-06-09T00:00:00",
          "2025-06-10T00:00:00",
          "2025-06-11T00:00:00",
          "2025-06-12T00:00:00",
          "2025-06-13T00:00:00",
          "2025-06-16T00:00:00",
          "2025-06-17T00:00:00",
          "2025-06-18T00:00:00",
          "2025-06-19T00:00:00",
          "2025-06-20T00:00:00",
          "2025-06-23T00:00:00",
          "2025-06-24T00:00:00",
          "2025-06-25T00:00:00",
          "2025-06-26T00:00:00",
          "2025-06-27T00:00:00",
          "2025-06-30T00:00:00",
          "2025-07-01T00:00:00",
          "2025-07-02T00:00:00",
          "2025-07-03T00:00:00",
          "2025-07-07T00:00:00",
          "2025-07-08T00:00:00",
          "2025-07-09T00:00:00",
          "2025-07-10T00:00:00",
          "2025-07-11T00:00:00",
          "2025-07-14T00:00:00",
          "2025-07-15T00:00:00",
          "2025-07-16T00:00:00",
          "2025-07-17T00:00:00",
          "2025-07-18T00:00:00"
         ],
         "xaxis": "x",
         "y": [
          935,
          936,
          891,
          916,
          926,
          912,
          923,
          885,
          888,
          899,
          840,
          844,
          843,
          845,
          892,
          902,
          878,
          840,
          851,
          863,
          855,
          871,
          877,
          872,
          864,
          835,
          784,
          778,
          756,
          766,
          766,
          773,
          759,
          731
         ],
         "yaxis": "y"
        },
        {
         "hovertemplate": "Ticker=FHN<br>index=%{x}<br>Rank=%{y}<extra></extra>",
         "legendgroup": "FHN",
         "line": {
          "color": "#1F77B4",
          "dash": "solid"
         },
         "marker": {
          "symbol": "circle"
         },
         "mode": "lines",
         "name": "FHN",
         "orientation": "v",
         "showlegend": true,
         "type": "scatter",
         "x": [
          "2025-06-02T00:00:00",
          "2025-06-03T00:00:00",
          "2025-06-04T00:00:00",
          "2025-06-05T00:00:00",
          "2025-06-06T00:00:00",
          "2025-06-09T00:00:00",
          "2025-06-10T00:00:00",
          "2025-06-11T00:00:00",
          "2025-06-12T00:00:00",
          "2025-06-13T00:00:00",
          "2025-06-16T00:00:00",
          "2025-06-17T00:00:00",
          "2025-06-18T00:00:00",
          "2025-06-19T00:00:00",
          "2025-06-20T00:00:00",
          "2025-06-23T00:00:00",
          "2025-06-24T00:00:00",
          "2025-06-25T00:00:00",
          "2025-06-26T00:00:00",
          "2025-06-27T00:00:00",
          "2025-06-30T00:00:00",
          "2025-07-01T00:00:00",
          "2025-07-02T00:00:00",
          "2025-07-03T00:00:00",
          "2025-07-07T00:00:00",
          "2025-07-08T00:00:00",
          "2025-07-09T00:00:00",
          "2025-07-10T00:00:00",
          "2025-07-11T00:00:00",
          "2025-07-14T00:00:00",
          "2025-07-15T00:00:00",
          "2025-07-16T00:00:00",
          "2025-07-17T00:00:00",
          "2025-07-18T00:00:00"
         ],
         "xaxis": "x",
         "y": [
          1040,
          1035,
          1045,
          1046,
          1029,
          1040,
          1045,
          1056,
          1061,
          1076,
          1066,
          1071,
          1063,
          1063,
          1053,
          1037,
          1042,
          1041,
          1025,
          1020,
          1020,
          1015,
          1009,
          1009,
          1006,
          1004,
          1009,
          1009,
          1011,
          1006,
          1025,
          1010,
          993,
          988
         ],
         "yaxis": "y"
        },
        {
         "hovertemplate": "Ticker=XYZ<br>index=%{x}<br>Rank=%{y}<extra></extra>",
         "legendgroup": "XYZ",
         "line": {
          "color": "#FF97FF",
          "dash": "solid"
         },
         "marker": {
          "symbol": "circle"
         },
         "mode": "lines",
         "name": "XYZ",
         "orientation": "v",
         "showlegend": true,
         "type": "scatter",
         "x": [
          "2025-06-02T00:00:00",
          "2025-06-03T00:00:00",
          "2025-06-04T00:00:00",
          "2025-06-05T00:00:00",
          "2025-06-06T00:00:00",
          "2025-06-09T00:00:00",
          "2025-06-10T00:00:00",
          "2025-06-11T00:00:00",
          "2025-06-12T00:00:00",
          "2025-06-13T00:00:00",
          "2025-06-16T00:00:00",
          "2025-06-17T00:00:00",
          "2025-06-18T00:00:00",
          "2025-06-19T00:00:00",
          "2025-06-20T00:00:00",
          "2025-06-23T00:00:00",
          "2025-06-24T00:00:00",
          "2025-06-25T00:00:00",
          "2025-06-26T00:00:00",
          "2025-06-27T00:00:00",
          "2025-06-30T00:00:00",
          "2025-07-01T00:00:00",
          "2025-07-02T00:00:00",
          "2025-07-03T00:00:00",
          "2025-07-07T00:00:00",
          "2025-07-08T00:00:00",
          "2025-07-09T00:00:00",
          "2025-07-10T00:00:00",
          "2025-07-11T00:00:00",
          "2025-07-14T00:00:00",
          "2025-07-15T00:00:00",
          "2025-07-16T00:00:00",
          "2025-07-17T00:00:00",
          "2025-07-18T00:00:00"
         ],
         "xaxis": "x",
         "y": [
          401,
          397,
          397,
          396,
          389,
          386,
          395,
          396,
          399,
          408,
          394,
          398,
          397,
          398,
          393,
          398,
          392,
          393,
          395,
          388,
          380,
          384,
          377,
          380,
          377,
          385,
          379,
          380,
          399,
          380,
          392,
          373,
          367,
          360
         ],
         "yaxis": "y"
        },
        {
         "hovertemplate": "Ticker=SYM<br>index=%{x}<br>Rank=%{y}<extra></extra>",
         "legendgroup": "SYM",
         "line": {
          "color": "#FECB52",
          "dash": "solid"
         },
         "marker": {
          "symbol": "circle"
         },
         "mode": "lines",
         "name": "SYM",
         "orientation": "v",
         "showlegend": true,
         "type": "scatter",
         "x": [
          "2025-06-02T00:00:00",
          "2025-06-03T00:00:00",
          "2025-06-04T00:00:00",
          "2025-06-05T00:00:00",
          "2025-06-06T00:00:00",
          "2025-06-09T00:00:00",
          "2025-06-10T00:00:00",
          "2025-06-11T00:00:00",
          "2025-06-12T00:00:00",
          "2025-06-13T00:00:00",
          "2025-06-16T00:00:00",
          "2025-06-17T00:00:00",
          "2025-06-18T00:00:00",
          "2025-06-19T00:00:00",
          "2025-06-20T00:00:00",
          "2025-06-23T00:00:00",
          "2025-06-24T00:00:00",
          "2025-06-25T00:00:00",
          "2025-06-26T00:00:00",
          "2025-06-27T00:00:00",
          "2025-06-30T00:00:00",
          "2025-07-01T00:00:00",
          "2025-07-02T00:00:00",
          "2025-07-03T00:00:00",
          "2025-07-07T00:00:00",
          "2025-07-08T00:00:00",
          "2025-07-09T00:00:00",
          "2025-07-10T00:00:00",
          "2025-07-11T00:00:00",
          "2025-07-14T00:00:00",
          "2025-07-15T00:00:00",
          "2025-07-16T00:00:00",
          "2025-07-17T00:00:00",
          "2025-07-18T00:00:00"
         ],
         "xaxis": "x",
         "y": [
          722,
          722,
          718,
          725,
          722,
          714,
          749,
          741,
          753,
          748,
          686,
          700,
          627,
          627,
          654,
          673,
          690,
          646,
          615,
          618,
          604,
          599,
          564,
          514,
          516,
          528,
          517,
          512,
          519,
          514,
          500,
          478,
          474,
          471
         ],
         "yaxis": "y"
        }
       ],
       "layout": {
        "annotations": [
         {
          "showarrow": false,
          "text": "Recent",
          "x": "2025-07-15T00:00:00",
          "xanchor": "left",
          "xref": "x",
          "y": 1,
          "yanchor": "top",
          "yref": "y domain"
         },
         {
          "showarrow": false,
          "text": "Lookback",
          "x": "2025-06-16T00:00:00",
          "xanchor": "left",
          "xref": "x",
          "y": 1,
          "yanchor": "top",
          "yref": "y domain"
         },
         {
          "align": "left",
          "font": {
           "family": "Courier New, monospace",
           "size": 14
          },
          "showarrow": false,
          "text": "<b>Filter Criteria:</b><br>  • lookback_days: 20                   • recent_days: 4                      • min_lookback_improvement: 0       <br>  • min_recent_bottom_to_recent_start: 0  • min_recent_bottom_to_current: 2     • current_rank_bracket_start: 1     <br>  • current_rank_bracket_end: 1000    ",
          "x": 0,
          "xanchor": "left",
          "xref": "paper",
          "y": -0.25,
          "yanchor": "top",
          "yref": "paper"
         }
        ],
        "height": 700,
        "legend": {
         "title": {
          "text": "Ticker"
         },
         "tracegroupgap": 0
        },
        "margin": {
         "b": 198.8
        },
        "shapes": [
         {
          "fillcolor": "LightSkyBlue",
          "layer": "below",
          "line": {
           "width": 0
          },
          "opacity": 0.2,
          "type": "rect",
          "x0": "2025-07-15T00:00:00",
          "x1": "2025-07-18T00:00:00",
          "xref": "x",
          "y0": 0,
          "y1": 1,
          "yref": "y domain"
         },
         {
          "fillcolor": "LightGreen",
          "layer": "below",
          "line": {
           "width": 0
          },
          "opacity": 0.2,
          "type": "rect",
          "x0": "2025-06-16T00:00:00",
          "x1": "2025-07-14T00:00:00",
          "xref": "x",
          "y0": 0,
          "y1": 1,
          "yref": "y domain"
         },
         {
          "line": {
           "color": "grey",
           "dash": "dash",
           "width": 2
          },
          "type": "line",
          "x0": "2025-07-15T00:00:00",
          "x1": "2025-07-15T00:00:00",
          "xref": "x",
          "y0": 0,
          "y1": 1,
          "yref": "y domain"
         },
         {
          "line": {
           "color": "red",
           "width": 2
          },
          "type": "line",
          "x0": 0,
          "x1": 1,
          "xref": "paper",
          "y0": 1,
          "y1": 1,
          "yref": "paper"
         },
         {
          "line": {
           "color": "blue",
           "width": 2
          },
          "type": "line",
          "x0": 0,
          "x1": 1,
          "xref": "paper",
          "y0": 0,
          "y1": 0,
          "yref": "paper"
         }
        ],
        "template": {
         "data": {
          "bar": [
           {
            "error_x": {
             "color": "#2a3f5f"
            },
            "error_y": {
             "color": "#2a3f5f"
            },
            "marker": {
             "line": {
              "color": "#E5ECF6",
              "width": 0.5
             },
             "pattern": {
              "fillmode": "overlay",
              "size": 10,
              "solidity": 0.2
             }
            },
            "type": "bar"
           }
          ],
          "barpolar": [
           {
            "marker": {
             "line": {
              "color": "#E5ECF6",
              "width": 0.5
             },
             "pattern": {
              "fillmode": "overlay",
              "size": 10,
              "solidity": 0.2
             }
            },
            "type": "barpolar"
           }
          ],
          "carpet": [
           {
            "aaxis": {
             "endlinecolor": "#2a3f5f",
             "gridcolor": "white",
             "linecolor": "white",
             "minorgridcolor": "white",
             "startlinecolor": "#2a3f5f"
            },
            "baxis": {
             "endlinecolor": "#2a3f5f",
             "gridcolor": "white",
             "linecolor": "white",
             "minorgridcolor": "white",
             "startlinecolor": "#2a3f5f"
            },
            "type": "carpet"
           }
          ],
          "choropleth": [
           {
            "colorbar": {
             "outlinewidth": 0,
             "ticks": ""
            },
            "type": "choropleth"
           }
          ],
          "contour": [
           {
            "colorbar": {
             "outlinewidth": 0,
             "ticks": ""
            },
            "colorscale": [
             [
              0,
              "#0d0887"
             ],
             [
              0.1111111111111111,
              "#46039f"
             ],
             [
              0.2222222222222222,
              "#7201a8"
             ],
             [
              0.3333333333333333,
              "#9c179e"
             ],
             [
              0.4444444444444444,
              "#bd3786"
             ],
             [
              0.5555555555555556,
              "#d8576b"
             ],
             [
              0.6666666666666666,
              "#ed7953"
             ],
             [
              0.7777777777777778,
              "#fb9f3a"
             ],
             [
              0.8888888888888888,
              "#fdca26"
             ],
             [
              1,
              "#f0f921"
             ]
            ],
            "type": "contour"
           }
          ],
          "contourcarpet": [
           {
            "colorbar": {
             "outlinewidth": 0,
             "ticks": ""
            },
            "type": "contourcarpet"
           }
          ],
          "heatmap": [
           {
            "colorbar": {
             "outlinewidth": 0,
             "ticks": ""
            },
            "colorscale": [
             [
              0,
              "#0d0887"
             ],
             [
              0.1111111111111111,
              "#46039f"
             ],
             [
              0.2222222222222222,
              "#7201a8"
             ],
             [
              0.3333333333333333,
              "#9c179e"
             ],
             [
              0.4444444444444444,
              "#bd3786"
             ],
             [
              0.5555555555555556,
              "#d8576b"
             ],
             [
              0.6666666666666666,
              "#ed7953"
             ],
             [
              0.7777777777777778,
              "#fb9f3a"
             ],
             [
              0.8888888888888888,
              "#fdca26"
             ],
             [
              1,
              "#f0f921"
             ]
            ],
            "type": "heatmap"
           }
          ],
          "heatmapgl": [
           {
            "colorbar": {
             "outlinewidth": 0,
             "ticks": ""
            },
            "colorscale": [
             [
              0,
              "#0d0887"
             ],
             [
              0.1111111111111111,
              "#46039f"
             ],
             [
              0.2222222222222222,
              "#7201a8"
             ],
             [
              0.3333333333333333,
              "#9c179e"
             ],
             [
              0.4444444444444444,
              "#bd3786"
             ],
             [
              0.5555555555555556,
              "#d8576b"
             ],
             [
              0.6666666666666666,
              "#ed7953"
             ],
             [
              0.7777777777777778,
              "#fb9f3a"
             ],
             [
              0.8888888888888888,
              "#fdca26"
             ],
             [
              1,
              "#f0f921"
             ]
            ],
            "type": "heatmapgl"
           }
          ],
          "histogram": [
           {
            "marker": {
             "pattern": {
              "fillmode": "overlay",
              "size": 10,
              "solidity": 0.2
             }
            },
            "type": "histogram"
           }
          ],
          "histogram2d": [
           {
            "colorbar": {
             "outlinewidth": 0,
             "ticks": ""
            },
            "colorscale": [
             [
              0,
              "#0d0887"
             ],
             [
              0.1111111111111111,
              "#46039f"
             ],
             [
              0.2222222222222222,
              "#7201a8"
             ],
             [
              0.3333333333333333,
              "#9c179e"
             ],
             [
              0.4444444444444444,
              "#bd3786"
             ],
             [
              0.5555555555555556,
              "#d8576b"
             ],
             [
              0.6666666666666666,
              "#ed7953"
             ],
             [
              0.7777777777777778,
              "#fb9f3a"
             ],
             [
              0.8888888888888888,
              "#fdca26"
             ],
             [
              1,
              "#f0f921"
             ]
            ],
            "type": "histogram2d"
           }
          ],
          "histogram2dcontour": [
           {
            "colorbar": {
             "outlinewidth": 0,
             "ticks": ""
            },
            "colorscale": [
             [
              0,
              "#0d0887"
             ],
             [
              0.1111111111111111,
              "#46039f"
             ],
             [
              0.2222222222222222,
              "#7201a8"
             ],
             [
              0.3333333333333333,
              "#9c179e"
             ],
             [
              0.4444444444444444,
              "#bd3786"
             ],
             [
              0.5555555555555556,
              "#d8576b"
             ],
             [
              0.6666666666666666,
              "#ed7953"
             ],
             [
              0.7777777777777778,
              "#fb9f3a"
             ],
             [
              0.8888888888888888,
              "#fdca26"
             ],
             [
              1,
              "#f0f921"
             ]
            ],
            "type": "histogram2dcontour"
           }
          ],
          "mesh3d": [
           {
            "colorbar": {
             "outlinewidth": 0,
             "ticks": ""
            },
            "type": "mesh3d"
           }
          ],
          "parcoords": [
           {
            "line": {
             "colorbar": {
              "outlinewidth": 0,
              "ticks": ""
             }
            },
            "type": "parcoords"
           }
          ],
          "pie": [
           {
            "automargin": true,
            "type": "pie"
           }
          ],
          "scatter": [
           {
            "fillpattern": {
             "fillmode": "overlay",
             "size": 10,
             "solidity": 0.2
            },
            "type": "scatter"
           }
          ],
          "scatter3d": [
           {
            "line": {
             "colorbar": {
              "outlinewidth": 0,
              "ticks": ""
             }
            },
            "marker": {
             "colorbar": {
              "outlinewidth": 0,
              "ticks": ""
             }
            },
            "type": "scatter3d"
           }
          ],
          "scattercarpet": [
           {
            "marker": {
             "colorbar": {
              "outlinewidth": 0,
              "ticks": ""
             }
            },
            "type": "scattercarpet"
           }
          ],
          "scattergeo": [
           {
            "marker": {
             "colorbar": {
              "outlinewidth": 0,
              "ticks": ""
             }
            },
            "type": "scattergeo"
           }
          ],
          "scattergl": [
           {
            "marker": {
             "colorbar": {
              "outlinewidth": 0,
              "ticks": ""
             }
            },
            "type": "scattergl"
           }
          ],
          "scattermapbox": [
           {
            "marker": {
             "colorbar": {
              "outlinewidth": 0,
              "ticks": ""
             }
            },
            "type": "scattermapbox"
           }
          ],
          "scatterpolar": [
           {
            "marker": {
             "colorbar": {
              "outlinewidth": 0,
              "ticks": ""
             }
            },
            "type": "scatterpolar"
           }
          ],
          "scatterpolargl": [
           {
            "marker": {
             "colorbar": {
              "outlinewidth": 0,
              "ticks": ""
             }
            },
            "type": "scatterpolargl"
           }
          ],
          "scatterternary": [
           {
            "marker": {
             "colorbar": {
              "outlinewidth": 0,
              "ticks": ""
             }
            },
            "type": "scatterternary"
           }
          ],
          "surface": [
           {
            "colorbar": {
             "outlinewidth": 0,
             "ticks": ""
            },
            "colorscale": [
             [
              0,
              "#0d0887"
             ],
             [
              0.1111111111111111,
              "#46039f"
             ],
             [
              0.2222222222222222,
              "#7201a8"
             ],
             [
              0.3333333333333333,
              "#9c179e"
             ],
             [
              0.4444444444444444,
              "#bd3786"
             ],
             [
              0.5555555555555556,
              "#d8576b"
             ],
             [
              0.6666666666666666,
              "#ed7953"
             ],
             [
              0.7777777777777778,
              "#fb9f3a"
             ],
             [
              0.8888888888888888,
              "#fdca26"
             ],
             [
              1,
              "#f0f921"
             ]
            ],
            "type": "surface"
           }
          ],
          "table": [
           {
            "cells": {
             "fill": {
              "color": "#EBF0F8"
             },
             "line": {
              "color": "white"
             }
            },
            "header": {
             "fill": {
              "color": "#C8D4E3"
             },
             "line": {
              "color": "white"
             }
            },
            "type": "table"
           }
          ]
         },
         "layout": {
          "annotationdefaults": {
           "arrowcolor": "#2a3f5f",
           "arrowhead": 0,
           "arrowwidth": 1
          },
          "autotypenumbers": "strict",
          "coloraxis": {
           "colorbar": {
            "outlinewidth": 0,
            "ticks": ""
           }
          },
          "colorscale": {
           "diverging": [
            [
             0,
             "#8e0152"
            ],
            [
             0.1,
             "#c51b7d"
            ],
            [
             0.2,
             "#de77ae"
            ],
            [
             0.3,
             "#f1b6da"
            ],
            [
             0.4,
             "#fde0ef"
            ],
            [
             0.5,
             "#f7f7f7"
            ],
            [
             0.6,
             "#e6f5d0"
            ],
            [
             0.7,
             "#b8e186"
            ],
            [
             0.8,
             "#7fbc41"
            ],
            [
             0.9,
             "#4d9221"
            ],
            [
             1,
             "#276419"
            ]
           ],
           "sequential": [
            [
             0,
             "#0d0887"
            ],
            [
             0.1111111111111111,
             "#46039f"
            ],
            [
             0.2222222222222222,
             "#7201a8"
            ],
            [
             0.3333333333333333,
             "#9c179e"
            ],
            [
             0.4444444444444444,
             "#bd3786"
            ],
            [
             0.5555555555555556,
             "#d8576b"
            ],
            [
             0.6666666666666666,
             "#ed7953"
            ],
            [
             0.7777777777777778,
             "#fb9f3a"
            ],
            [
             0.8888888888888888,
             "#fdca26"
            ],
            [
             1,
             "#f0f921"
            ]
           ],
           "sequentialminus": [
            [
             0,
             "#0d0887"
            ],
            [
             0.1111111111111111,
             "#46039f"
            ],
            [
             0.2222222222222222,
             "#7201a8"
            ],
            [
             0.3333333333333333,
             "#9c179e"
            ],
            [
             0.4444444444444444,
             "#bd3786"
            ],
            [
             0.5555555555555556,
             "#d8576b"
            ],
            [
             0.6666666666666666,
             "#ed7953"
            ],
            [
             0.7777777777777778,
             "#fb9f3a"
            ],
            [
             0.8888888888888888,
             "#fdca26"
            ],
            [
             1,
             "#f0f921"
            ]
           ]
          },
          "colorway": [
           "#636efa",
           "#EF553B",
           "#00cc96",
           "#ab63fa",
           "#FFA15A",
           "#19d3f3",
           "#FF6692",
           "#B6E880",
           "#FF97FF",
           "#FECB52"
          ],
          "font": {
           "color": "#2a3f5f"
          },
          "geo": {
           "bgcolor": "white",
           "lakecolor": "white",
           "landcolor": "#E5ECF6",
           "showlakes": true,
           "showland": true,
           "subunitcolor": "white"
          },
          "hoverlabel": {
           "align": "left"
          },
          "hovermode": "closest",
          "mapbox": {
           "style": "light"
          },
          "paper_bgcolor": "white",
          "plot_bgcolor": "#E5ECF6",
          "polar": {
           "angularaxis": {
            "gridcolor": "white",
            "linecolor": "white",
            "ticks": ""
           },
           "bgcolor": "#E5ECF6",
           "radialaxis": {
            "gridcolor": "white",
            "linecolor": "white",
            "ticks": ""
           }
          },
          "scene": {
           "xaxis": {
            "backgroundcolor": "#E5ECF6",
            "gridcolor": "white",
            "gridwidth": 2,
            "linecolor": "white",
            "showbackground": true,
            "ticks": "",
            "zerolinecolor": "white"
           },
           "yaxis": {
            "backgroundcolor": "#E5ECF6",
            "gridcolor": "white",
            "gridwidth": 2,
            "linecolor": "white",
            "showbackground": true,
            "ticks": "",
            "zerolinecolor": "white"
           },
           "zaxis": {
            "backgroundcolor": "#E5ECF6",
            "gridcolor": "white",
            "gridwidth": 2,
            "linecolor": "white",
            "showbackground": true,
            "ticks": "",
            "zerolinecolor": "white"
           }
          },
          "shapedefaults": {
           "line": {
            "color": "#2a3f5f"
           }
          },
          "ternary": {
           "aaxis": {
            "gridcolor": "white",
            "linecolor": "white",
            "ticks": ""
           },
           "baxis": {
            "gridcolor": "white",
            "linecolor": "white",
            "ticks": ""
           },
           "bgcolor": "#E5ECF6",
           "caxis": {
            "gridcolor": "white",
            "linecolor": "white",
            "ticks": ""
           }
          },
          "title": {
           "x": 0.05
          },
          "xaxis": {
           "automargin": true,
           "gridcolor": "white",
           "linecolor": "white",
           "ticks": "",
           "title": {
            "standoff": 15
           },
           "zerolinecolor": "white",
           "zerolinewidth": 2
          },
          "yaxis": {
           "automargin": true,
           "gridcolor": "white",
           "linecolor": "white",
           "ticks": "",
           "title": {
            "standoff": 15
           },
           "zerolinecolor": "white",
           "zerolinewidth": 2
          }
         }
        },
        "title": {
         "text": "Rank History: 'Reversal' Candidates"
        },
        "updatemenus": [
         {
          "buttons": [
           {
            "args": [
             {
              "visible": [
               true,
               true,
               true,
               true,
               true,
               true,
               true,
               true,
               true,
               true
              ]
             }
            ],
            "label": "Reset View",
            "method": "restyle"
           },
           {
            "args": [
             {
              "visible": [
               "legendonly",
               "legendonly",
               "legendonly",
               "legendonly",
               "legendonly",
               "legendonly",
               "legendonly",
               "legendonly",
               "legendonly",
               "legendonly"
              ]
             }
            ],
            "label": "Clear All",
            "method": "restyle"
           }
          ],
          "direction": "left",
          "showactive": false,
          "type": "buttons",
          "x": 0.01,
          "xanchor": "left",
          "y": 1.1,
          "yanchor": "top"
         }
        ],
        "width": 1150,
        "xaxis": {
         "anchor": "y",
         "domain": [
          0,
          1
         ],
         "dtick": "D7",
         "gridcolor": "LightGrey",
         "minor": {
          "dtick": "D1",
          "gridcolor": "rgba(235, 235, 235, 0.5)",
          "showgrid": true
         },
         "range": [
          "2025-06-02T00:00:00",
          "2025-07-18T00:00:00"
         ],
         "showgrid": true,
         "tickformat": "%b %d",
         "title": {
          "standoff": 25,
          "text": "Date"
         },
         "type": "date"
        },
        "yaxis": {
         "anchor": "x",
         "autorange": "reversed",
         "domain": [
          0,
          1
         ],
         "dtick": 100,
         "gridcolor": "LightGrey",
         "showgrid": true,
         "title": {
          "text": "Rank"
         }
        }
       }
      }
     },
     "metadata": {},
     "output_type": "display_data"
    }
   ],
   "source": [
    "plot_days = filter_criteria_1['lookback_days'] + filter_criteria_1['recent_days'] + 10  # add 10 extra days for plotting \n",
    "\n",
    "# 4. Call the new plotting function\n",
    "if tickers_to_plot:\n",
    "    plot_rank_with_criteria(\n",
    "        # df_rank_history=selected_df.iloc[:, -plot_days::],\n",
    "        df_rank_history=df_tickers_rank_history.iloc[:, -plot_days::],        \n",
    "        # df_rank_history=selected_df,\n",
    "        ticker_list=tickers_to_plot,\n",
    "        title_suffix=\"'Reversal' Candidates\",\n",
    "        filter_criteria=filter_criteria_1, # Pass the dictionary here\n",
    "        width=1150,\n",
    "        height=700,\n",
    "    )\n",
    "else:\n",
    "    print(\"No candidates found to plot.\")"
   ]
  },
  {
   "cell_type": "code",
   "execution_count": 15,
   "metadata": {},
   "outputs": [],
   "source": [
    "# List of tickers\n",
    "portfolio_tickers = [\"JOBY\",\n",
    "                     \"SYM\",\n",
    "                     \"RKLB\",\n",
    "                     \"MSTR\",\n",
    "                     \"ORCL\",\n",
    "                     \"SHOP\",\n",
    "                     \"COIN\",\n",
    "                     \"VGT\",\n",
    "                     \"AVAV\",\n",
    "                     \"META\",\n",
    "                     \"NVDA\",]"
   ]
  },
  {
   "cell_type": "code",
   "execution_count": 16,
   "metadata": {},
   "outputs": [
    {
     "data": {
      "application/vnd.plotly.v1+json": {
       "config": {
        "plotlyServerURL": "https://plot.ly"
       },
       "data": [
        {
         "hovertemplate": "Ticker=JOBY<br>index=%{x}<br>Rank=%{y}<extra></extra>",
         "legendgroup": "JOBY",
         "line": {
          "color": "#636EFA",
          "dash": "solid"
         },
         "marker": {
          "symbol": "circle"
         },
         "mode": "lines",
         "name": "JOBY",
         "orientation": "v",
         "showlegend": true,
         "type": "scatter",
         "x": [
          "2025-06-02T00:00:00",
          "2025-06-03T00:00:00",
          "2025-06-04T00:00:00",
          "2025-06-05T00:00:00",
          "2025-06-06T00:00:00",
          "2025-06-09T00:00:00",
          "2025-06-10T00:00:00",
          "2025-06-11T00:00:00",
          "2025-06-12T00:00:00",
          "2025-06-13T00:00:00",
          "2025-06-16T00:00:00",
          "2025-06-17T00:00:00",
          "2025-06-18T00:00:00",
          "2025-06-19T00:00:00",
          "2025-06-20T00:00:00",
          "2025-06-23T00:00:00",
          "2025-06-24T00:00:00",
          "2025-06-25T00:00:00",
          "2025-06-26T00:00:00",
          "2025-06-27T00:00:00",
          "2025-06-30T00:00:00",
          "2025-07-01T00:00:00",
          "2025-07-02T00:00:00",
          "2025-07-03T00:00:00",
          "2025-07-07T00:00:00",
          "2025-07-08T00:00:00",
          "2025-07-09T00:00:00",
          "2025-07-10T00:00:00",
          "2025-07-11T00:00:00",
          "2025-07-14T00:00:00",
          "2025-07-15T00:00:00",
          "2025-07-16T00:00:00",
          "2025-07-17T00:00:00",
          "2025-07-18T00:00:00"
         ],
         "xaxis": "x",
         "y": [
          1404,
          1358,
          1376,
          1415,
          1359,
          1268,
          1258,
          1244,
          1298,
          1308,
          1288,
          1309,
          1275,
          1295,
          1318,
          1323,
          1307,
          1333,
          1259,
          1270,
          1186,
          1243,
          1223,
          1202,
          1188,
          1140,
          1133,
          1095,
          1104,
          1072,
          1005,
          905,
          862,
          860
         ],
         "yaxis": "y"
        },
        {
         "hovertemplate": "Ticker=SYM<br>index=%{x}<br>Rank=%{y}<extra></extra>",
         "legendgroup": "SYM",
         "line": {
          "color": "#EF553B",
          "dash": "solid"
         },
         "marker": {
          "symbol": "circle"
         },
         "mode": "lines",
         "name": "SYM",
         "orientation": "v",
         "showlegend": true,
         "type": "scatter",
         "x": [
          "2025-06-02T00:00:00",
          "2025-06-03T00:00:00",
          "2025-06-04T00:00:00",
          "2025-06-05T00:00:00",
          "2025-06-06T00:00:00",
          "2025-06-09T00:00:00",
          "2025-06-10T00:00:00",
          "2025-06-11T00:00:00",
          "2025-06-12T00:00:00",
          "2025-06-13T00:00:00",
          "2025-06-16T00:00:00",
          "2025-06-17T00:00:00",
          "2025-06-18T00:00:00",
          "2025-06-19T00:00:00",
          "2025-06-20T00:00:00",
          "2025-06-23T00:00:00",
          "2025-06-24T00:00:00",
          "2025-06-25T00:00:00",
          "2025-06-26T00:00:00",
          "2025-06-27T00:00:00",
          "2025-06-30T00:00:00",
          "2025-07-01T00:00:00",
          "2025-07-02T00:00:00",
          "2025-07-03T00:00:00",
          "2025-07-07T00:00:00",
          "2025-07-08T00:00:00",
          "2025-07-09T00:00:00",
          "2025-07-10T00:00:00",
          "2025-07-11T00:00:00",
          "2025-07-14T00:00:00",
          "2025-07-15T00:00:00",
          "2025-07-16T00:00:00",
          "2025-07-17T00:00:00",
          "2025-07-18T00:00:00"
         ],
         "xaxis": "x",
         "y": [
          722,
          722,
          718,
          725,
          722,
          714,
          749,
          741,
          753,
          748,
          686,
          700,
          627,
          627,
          654,
          673,
          690,
          646,
          615,
          618,
          604,
          599,
          564,
          514,
          516,
          528,
          517,
          512,
          519,
          514,
          500,
          478,
          474,
          471
         ],
         "yaxis": "y"
        },
        {
         "hovertemplate": "Ticker=RKLB<br>index=%{x}<br>Rank=%{y}<extra></extra>",
         "legendgroup": "RKLB",
         "line": {
          "color": "#00CC96",
          "dash": "solid"
         },
         "marker": {
          "symbol": "circle"
         },
         "mode": "lines",
         "name": "RKLB",
         "orientation": "v",
         "showlegend": true,
         "type": "scatter",
         "x": [
          "2025-06-02T00:00:00",
          "2025-06-03T00:00:00",
          "2025-06-04T00:00:00",
          "2025-06-05T00:00:00",
          "2025-06-06T00:00:00",
          "2025-06-09T00:00:00",
          "2025-06-10T00:00:00",
          "2025-06-11T00:00:00",
          "2025-06-12T00:00:00",
          "2025-06-13T00:00:00",
          "2025-06-16T00:00:00",
          "2025-06-17T00:00:00",
          "2025-06-18T00:00:00",
          "2025-06-19T00:00:00",
          "2025-06-20T00:00:00",
          "2025-06-23T00:00:00",
          "2025-06-24T00:00:00",
          "2025-06-25T00:00:00",
          "2025-06-26T00:00:00",
          "2025-06-27T00:00:00",
          "2025-06-30T00:00:00",
          "2025-07-01T00:00:00",
          "2025-07-02T00:00:00",
          "2025-07-03T00:00:00",
          "2025-07-07T00:00:00",
          "2025-07-08T00:00:00",
          "2025-07-09T00:00:00",
          "2025-07-10T00:00:00",
          "2025-07-11T00:00:00",
          "2025-07-14T00:00:00",
          "2025-07-15T00:00:00",
          "2025-07-16T00:00:00",
          "2025-07-17T00:00:00",
          "2025-07-18T00:00:00"
         ],
         "xaxis": "x",
         "y": [
          904,
          901,
          901,
          911,
          862,
          848,
          902,
          null,
          927,
          945,
          923,
          920,
          888,
          892,
          843,
          802,
          795,
          810,
          752,
          764,
          765,
          790,
          768,
          767,
          719,
          722,
          721,
          723,
          724,
          667,
          638,
          606,
          575,
          575
         ],
         "yaxis": "y"
        },
        {
         "hovertemplate": "Ticker=MSTR<br>index=%{x}<br>Rank=%{y}<extra></extra>",
         "legendgroup": "MSTR",
         "line": {
          "color": "#AB63FA",
          "dash": "solid"
         },
         "marker": {
          "symbol": "circle"
         },
         "mode": "lines",
         "name": "MSTR",
         "orientation": "v",
         "showlegend": true,
         "type": "scatter",
         "x": [
          "2025-06-02T00:00:00",
          "2025-06-03T00:00:00",
          "2025-06-04T00:00:00",
          "2025-06-05T00:00:00",
          "2025-06-06T00:00:00",
          "2025-06-09T00:00:00",
          "2025-06-10T00:00:00",
          "2025-06-11T00:00:00",
          "2025-06-12T00:00:00",
          "2025-06-13T00:00:00",
          "2025-06-16T00:00:00",
          "2025-06-17T00:00:00",
          "2025-06-18T00:00:00",
          "2025-06-19T00:00:00",
          "2025-06-20T00:00:00",
          "2025-06-23T00:00:00",
          "2025-06-24T00:00:00",
          "2025-06-25T00:00:00",
          "2025-06-26T00:00:00",
          "2025-06-27T00:00:00",
          "2025-06-30T00:00:00",
          "2025-07-01T00:00:00",
          "2025-07-02T00:00:00",
          "2025-07-03T00:00:00",
          "2025-07-07T00:00:00",
          "2025-07-08T00:00:00",
          "2025-07-09T00:00:00",
          "2025-07-10T00:00:00",
          "2025-07-11T00:00:00",
          "2025-07-14T00:00:00",
          "2025-07-15T00:00:00",
          "2025-07-16T00:00:00",
          "2025-07-17T00:00:00",
          "2025-07-18T00:00:00"
         ],
         "xaxis": "x",
         "y": [
          147,
          140,
          142,
          148,
          146,
          142,
          142,
          144,
          145,
          144,
          143,
          146,
          146,
          146,
          147,
          150,
          147,
          142,
          142,
          144,
          140,
          149,
          142,
          142,
          142,
          141,
          138,
          136,
          132,
          124,
          126,
          123,
          124,
          135
         ],
         "yaxis": "y"
        },
        {
         "hovertemplate": "Ticker=ORCL<br>index=%{x}<br>Rank=%{y}<extra></extra>",
         "legendgroup": "ORCL",
         "line": {
          "color": "#FFA15A",
          "dash": "solid"
         },
         "marker": {
          "symbol": "circle"
         },
         "mode": "lines",
         "name": "ORCL",
         "orientation": "v",
         "showlegend": true,
         "type": "scatter",
         "x": [
          "2025-06-02T00:00:00",
          "2025-06-03T00:00:00",
          "2025-06-04T00:00:00",
          "2025-06-05T00:00:00",
          "2025-06-06T00:00:00",
          "2025-06-09T00:00:00",
          "2025-06-10T00:00:00",
          "2025-06-11T00:00:00",
          "2025-06-12T00:00:00",
          "2025-06-13T00:00:00",
          "2025-06-16T00:00:00",
          "2025-06-17T00:00:00",
          "2025-06-18T00:00:00",
          "2025-06-19T00:00:00",
          "2025-06-20T00:00:00",
          "2025-06-23T00:00:00",
          "2025-06-24T00:00:00",
          "2025-06-25T00:00:00",
          "2025-06-26T00:00:00",
          "2025-06-27T00:00:00",
          "2025-06-30T00:00:00",
          "2025-07-01T00:00:00",
          "2025-07-02T00:00:00",
          "2025-07-03T00:00:00",
          "2025-07-07T00:00:00",
          "2025-07-08T00:00:00",
          "2025-07-09T00:00:00",
          "2025-07-10T00:00:00",
          "2025-07-11T00:00:00",
          "2025-07-14T00:00:00",
          "2025-07-15T00:00:00",
          "2025-07-16T00:00:00",
          "2025-07-17T00:00:00",
          "2025-07-18T00:00:00"
         ],
         "xaxis": "x",
         "y": [
          24,
          23,
          23,
          22,
          22,
          22,
          22,
          22,
          20,
          19,
          19,
          19,
          19,
          19,
          19,
          19,
          19,
          19,
          20,
          20,
          20,
          20,
          18,
          18,
          18,
          18,
          18,
          18,
          18,
          18,
          18,
          18,
          16,
          17
         ],
         "yaxis": "y"
        },
        {
         "hovertemplate": "Ticker=SHOP<br>index=%{x}<br>Rank=%{y}<extra></extra>",
         "legendgroup": "SHOP",
         "line": {
          "color": "#19D3F3",
          "dash": "solid"
         },
         "marker": {
          "symbol": "circle"
         },
         "mode": "lines",
         "name": "SHOP",
         "orientation": "v",
         "showlegend": true,
         "type": "scatter",
         "x": [
          "2025-06-02T00:00:00",
          "2025-06-03T00:00:00",
          "2025-06-04T00:00:00",
          "2025-06-05T00:00:00",
          "2025-06-06T00:00:00",
          "2025-06-09T00:00:00",
          "2025-06-10T00:00:00",
          "2025-06-11T00:00:00",
          "2025-06-12T00:00:00",
          "2025-06-13T00:00:00",
          "2025-06-16T00:00:00",
          "2025-06-17T00:00:00",
          "2025-06-18T00:00:00",
          "2025-06-19T00:00:00",
          "2025-06-20T00:00:00",
          "2025-06-23T00:00:00",
          "2025-06-24T00:00:00",
          "2025-06-25T00:00:00",
          "2025-06-26T00:00:00",
          "2025-06-27T00:00:00",
          "2025-06-30T00:00:00",
          "2025-07-01T00:00:00",
          "2025-07-02T00:00:00",
          "2025-07-03T00:00:00",
          "2025-07-07T00:00:00",
          "2025-07-08T00:00:00",
          "2025-07-09T00:00:00",
          "2025-07-10T00:00:00",
          "2025-07-11T00:00:00",
          "2025-07-14T00:00:00",
          "2025-07-15T00:00:00",
          "2025-07-16T00:00:00",
          "2025-07-17T00:00:00",
          "2025-07-18T00:00:00"
         ],
         "xaxis": "x",
         "y": [
          98,
          100,
          104,
          104,
          95,
          103,
          97,
          91,
          98,
          106,
          101,
          103,
          103,
          103,
          103,
          97,
          95,
          96,
          97,
          95,
          96,
          98,
          97,
          95,
          94,
          98,
          96,
          95,
          100,
          94,
          95,
          88,
          83,
          83
         ],
         "yaxis": "y"
        },
        {
         "hovertemplate": "Ticker=COIN<br>index=%{x}<br>Rank=%{y}<extra></extra>",
         "legendgroup": "COIN",
         "line": {
          "color": "#FF6692",
          "dash": "solid"
         },
         "marker": {
          "symbol": "circle"
         },
         "mode": "lines",
         "name": "COIN",
         "orientation": "v",
         "showlegend": true,
         "type": "scatter",
         "x": [
          "2025-06-02T00:00:00",
          "2025-06-03T00:00:00",
          "2025-06-04T00:00:00",
          "2025-06-05T00:00:00",
          "2025-06-06T00:00:00",
          "2025-06-09T00:00:00",
          "2025-06-10T00:00:00",
          "2025-06-11T00:00:00",
          "2025-06-12T00:00:00",
          "2025-06-13T00:00:00",
          "2025-06-16T00:00:00",
          "2025-06-17T00:00:00",
          "2025-06-18T00:00:00",
          "2025-06-19T00:00:00",
          "2025-06-20T00:00:00",
          "2025-06-23T00:00:00",
          "2025-06-24T00:00:00",
          "2025-06-25T00:00:00",
          "2025-06-26T00:00:00",
          "2025-06-27T00:00:00",
          "2025-06-30T00:00:00",
          "2025-07-01T00:00:00",
          "2025-07-02T00:00:00",
          "2025-07-03T00:00:00",
          "2025-07-07T00:00:00",
          "2025-07-08T00:00:00",
          "2025-07-09T00:00:00",
          "2025-07-10T00:00:00",
          "2025-07-11T00:00:00",
          "2025-07-14T00:00:00",
          "2025-07-15T00:00:00",
          "2025-07-16T00:00:00",
          "2025-07-17T00:00:00",
          "2025-07-18T00:00:00"
         ],
         "xaxis": "x",
         "y": [
          256,
          247,
          248,
          261,
          255,
          249,
          249,
          255,
          271,
          264,
          248,
          251,
          214,
          214,
          200,
          203,
          181,
          170,
          162,
          175,
          178,
          190,
          174,
          177,
          174,
          175,
          167,
          157,
          157,
          156,
          157,
          153,
          146,
          145
         ],
         "yaxis": "y"
        },
        {
         "hovertemplate": "Ticker=VGT<br>index=%{x}<br>Rank=%{y}<extra></extra>",
         "legendgroup": "VGT",
         "line": {
          "color": "#1F77B4",
          "dash": "solid"
         },
         "marker": {
          "symbol": "circle"
         },
         "mode": "lines",
         "name": "VGT",
         "orientation": "v",
         "showlegend": true,
         "type": "scatter",
         "x": [
          "2025-06-02T00:00:00",
          "2025-06-03T00:00:00",
          "2025-06-04T00:00:00",
          "2025-06-05T00:00:00",
          "2025-06-06T00:00:00",
          "2025-06-09T00:00:00",
          "2025-06-10T00:00:00",
          "2025-06-11T00:00:00",
          "2025-06-12T00:00:00",
          "2025-06-13T00:00:00",
          "2025-06-16T00:00:00",
          "2025-06-17T00:00:00",
          "2025-06-18T00:00:00",
          "2025-06-19T00:00:00",
          "2025-06-20T00:00:00",
          "2025-06-23T00:00:00",
          "2025-06-24T00:00:00",
          "2025-06-25T00:00:00",
          "2025-06-26T00:00:00",
          "2025-06-27T00:00:00",
          "2025-06-30T00:00:00",
          "2025-07-01T00:00:00",
          "2025-07-02T00:00:00",
          "2025-07-03T00:00:00",
          "2025-07-07T00:00:00",
          "2025-07-08T00:00:00",
          "2025-07-09T00:00:00",
          "2025-07-10T00:00:00",
          "2025-07-11T00:00:00",
          "2025-07-14T00:00:00",
          "2025-07-15T00:00:00",
          "2025-07-16T00:00:00",
          "2025-07-17T00:00:00",
          "2025-07-18T00:00:00"
         ],
         "xaxis": "x",
         "y": [
          184,
          181,
          178,
          178,
          182,
          178,
          175,
          175,
          178,
          171,
          178,
          171,
          174,
          174,
          172,
          174,
          175,
          169,
          169,
          168,
          168,
          168,
          168,
          168,
          166,
          166,
          166,
          166,
          166,
          168,
          165,
          163,
          164,
          162
         ],
         "yaxis": "y"
        },
        {
         "hovertemplate": "Ticker=AVAV<br>index=%{x}<br>Rank=%{y}<extra></extra>",
         "legendgroup": "AVAV",
         "line": {
          "color": "#FF97FF",
          "dash": "solid"
         },
         "marker": {
          "symbol": "circle"
         },
         "mode": "lines",
         "name": "AVAV",
         "orientation": "v",
         "showlegend": true,
         "type": "scatter",
         "x": [
          "2025-06-02T00:00:00",
          "2025-06-03T00:00:00",
          "2025-06-04T00:00:00",
          "2025-06-05T00:00:00",
          "2025-06-06T00:00:00",
          "2025-06-09T00:00:00",
          "2025-06-10T00:00:00",
          "2025-06-11T00:00:00",
          "2025-06-12T00:00:00",
          "2025-06-13T00:00:00",
          "2025-06-16T00:00:00",
          "2025-06-17T00:00:00",
          "2025-06-18T00:00:00",
          "2025-06-19T00:00:00",
          "2025-06-20T00:00:00",
          "2025-06-23T00:00:00",
          "2025-06-24T00:00:00",
          "2025-06-25T00:00:00",
          "2025-06-26T00:00:00",
          "2025-06-27T00:00:00",
          "2025-06-30T00:00:00",
          "2025-07-01T00:00:00",
          "2025-07-02T00:00:00",
          "2025-07-03T00:00:00",
          "2025-07-07T00:00:00",
          "2025-07-08T00:00:00",
          "2025-07-09T00:00:00",
          "2025-07-10T00:00:00",
          "2025-07-11T00:00:00",
          "2025-07-14T00:00:00",
          "2025-07-15T00:00:00",
          "2025-07-16T00:00:00",
          "2025-07-17T00:00:00",
          "2025-07-18T00:00:00"
         ],
         "xaxis": "x",
         "y": [
          1173,
          1144,
          1156,
          1147,
          1136,
          1121,
          1147,
          1150,
          1145,
          1118,
          1160,
          1144,
          1141,
          1143,
          1145,
          1143,
          1149,
          1013,
          922,
          910,
          902,
          982,
          998,
          1002,
          1015,
          975,
          976,
          973,
          905,
          901,
          894,
          891,
          876,
          888
         ],
         "yaxis": "y"
        },
        {
         "hovertemplate": "Ticker=META<br>index=%{x}<br>Rank=%{y}<extra></extra>",
         "legendgroup": "META",
         "line": {
          "color": "#FECB52",
          "dash": "solid"
         },
         "marker": {
          "symbol": "circle"
         },
         "mode": "lines",
         "name": "META",
         "orientation": "v",
         "showlegend": true,
         "type": "scatter",
         "x": [
          "2025-06-02T00:00:00",
          "2025-06-03T00:00:00",
          "2025-06-04T00:00:00",
          "2025-06-05T00:00:00",
          "2025-06-06T00:00:00",
          "2025-06-09T00:00:00",
          "2025-06-10T00:00:00",
          "2025-06-11T00:00:00",
          "2025-06-12T00:00:00",
          "2025-06-13T00:00:00",
          "2025-06-16T00:00:00",
          "2025-06-17T00:00:00",
          "2025-06-18T00:00:00",
          "2025-06-19T00:00:00",
          "2025-06-20T00:00:00",
          "2025-06-23T00:00:00",
          "2025-06-24T00:00:00",
          "2025-06-25T00:00:00",
          "2025-06-26T00:00:00",
          "2025-06-27T00:00:00",
          "2025-06-30T00:00:00",
          "2025-07-01T00:00:00",
          "2025-07-02T00:00:00",
          "2025-07-03T00:00:00",
          "2025-07-07T00:00:00",
          "2025-07-08T00:00:00",
          "2025-07-09T00:00:00",
          "2025-07-10T00:00:00",
          "2025-07-11T00:00:00",
          "2025-07-14T00:00:00",
          "2025-07-15T00:00:00",
          "2025-07-16T00:00:00",
          "2025-07-17T00:00:00",
          "2025-07-18T00:00:00"
         ],
         "xaxis": "x",
         "y": [
          7,
          7,
          7,
          7,
          7,
          7,
          7,
          7,
          7,
          7,
          7,
          7,
          7,
          7,
          7,
          7,
          7,
          7,
          7,
          7,
          7,
          7,
          7,
          7,
          7,
          7,
          7,
          7,
          7,
          7,
          7,
          7,
          7,
          7
         ],
         "yaxis": "y"
        },
        {
         "hovertemplate": "Ticker=NVDA<br>index=%{x}<br>Rank=%{y}<extra></extra>",
         "legendgroup": "NVDA",
         "line": {
          "color": "#636EFA",
          "dash": "solid"
         },
         "marker": {
          "symbol": "circle"
         },
         "mode": "lines",
         "name": "NVDA",
         "orientation": "v",
         "showlegend": true,
         "type": "scatter",
         "x": [
          "2025-06-02T00:00:00",
          "2025-06-03T00:00:00",
          "2025-06-04T00:00:00",
          "2025-06-05T00:00:00",
          "2025-06-06T00:00:00",
          "2025-06-09T00:00:00",
          "2025-06-10T00:00:00",
          "2025-06-11T00:00:00",
          "2025-06-12T00:00:00",
          "2025-06-13T00:00:00",
          "2025-06-16T00:00:00",
          "2025-06-17T00:00:00",
          "2025-06-18T00:00:00",
          "2025-06-19T00:00:00",
          "2025-06-20T00:00:00",
          "2025-06-23T00:00:00",
          "2025-06-24T00:00:00",
          "2025-06-25T00:00:00",
          "2025-06-26T00:00:00",
          "2025-06-27T00:00:00",
          "2025-06-30T00:00:00",
          "2025-07-01T00:00:00",
          "2025-07-02T00:00:00",
          "2025-07-03T00:00:00",
          "2025-07-07T00:00:00",
          "2025-07-08T00:00:00",
          "2025-07-09T00:00:00",
          "2025-07-10T00:00:00",
          "2025-07-11T00:00:00",
          "2025-07-14T00:00:00",
          "2025-07-15T00:00:00",
          "2025-07-16T00:00:00",
          "2025-07-17T00:00:00",
          "2025-07-18T00:00:00"
         ],
         "xaxis": "x",
         "y": [
          2,
          1,
          1,
          2,
          2,
          2,
          1,
          2,
          2,
          2,
          2,
          2,
          2,
          2,
          2,
          2,
          2,
          1,
          1,
          1,
          1,
          1,
          1,
          1,
          1,
          1,
          1,
          1,
          1,
          1,
          1,
          1,
          1,
          1
         ],
         "yaxis": "y"
        }
       ],
       "layout": {
        "annotations": [
         {
          "showarrow": false,
          "text": "Recent",
          "x": "2025-07-15T00:00:00",
          "xanchor": "left",
          "xref": "x",
          "y": 1,
          "yanchor": "top",
          "yref": "y domain"
         },
         {
          "showarrow": false,
          "text": "Lookback",
          "x": "2025-06-16T00:00:00",
          "xanchor": "left",
          "xref": "x",
          "y": 1,
          "yanchor": "top",
          "yref": "y domain"
         },
         {
          "align": "left",
          "font": {
           "family": "Courier New, monospace",
           "size": 14
          },
          "showarrow": false,
          "text": "<b>Filter Criteria:</b><br>  • lookback_days: 20                   • recent_days: 4                      • min_lookback_improvement: 0       <br>  • min_recent_bottom_to_recent_start: 0  • min_recent_bottom_to_current: 2     • current_rank_bracket_start: 1     <br>  • current_rank_bracket_end: 1000    ",
          "x": 0,
          "xanchor": "left",
          "xref": "paper",
          "y": -0.25,
          "yanchor": "top",
          "yref": "paper"
         }
        ],
        "height": 700,
        "legend": {
         "title": {
          "text": "Ticker"
         },
         "tracegroupgap": 0
        },
        "margin": {
         "b": 198.8
        },
        "shapes": [
         {
          "fillcolor": "LightSkyBlue",
          "layer": "below",
          "line": {
           "width": 0
          },
          "opacity": 0.2,
          "type": "rect",
          "x0": "2025-07-15T00:00:00",
          "x1": "2025-07-18T00:00:00",
          "xref": "x",
          "y0": 0,
          "y1": 1,
          "yref": "y domain"
         },
         {
          "fillcolor": "LightGreen",
          "layer": "below",
          "line": {
           "width": 0
          },
          "opacity": 0.2,
          "type": "rect",
          "x0": "2025-06-16T00:00:00",
          "x1": "2025-07-14T00:00:00",
          "xref": "x",
          "y0": 0,
          "y1": 1,
          "yref": "y domain"
         },
         {
          "line": {
           "color": "grey",
           "dash": "dash",
           "width": 2
          },
          "type": "line",
          "x0": "2025-07-15T00:00:00",
          "x1": "2025-07-15T00:00:00",
          "xref": "x",
          "y0": 0,
          "y1": 1,
          "yref": "y domain"
         },
         {
          "line": {
           "color": "red",
           "width": 2
          },
          "type": "line",
          "x0": 0,
          "x1": 1,
          "xref": "paper",
          "y0": 1,
          "y1": 1,
          "yref": "paper"
         },
         {
          "line": {
           "color": "blue",
           "width": 2
          },
          "type": "line",
          "x0": 0,
          "x1": 1,
          "xref": "paper",
          "y0": 0,
          "y1": 0,
          "yref": "paper"
         }
        ],
        "template": {
         "data": {
          "bar": [
           {
            "error_x": {
             "color": "#2a3f5f"
            },
            "error_y": {
             "color": "#2a3f5f"
            },
            "marker": {
             "line": {
              "color": "#E5ECF6",
              "width": 0.5
             },
             "pattern": {
              "fillmode": "overlay",
              "size": 10,
              "solidity": 0.2
             }
            },
            "type": "bar"
           }
          ],
          "barpolar": [
           {
            "marker": {
             "line": {
              "color": "#E5ECF6",
              "width": 0.5
             },
             "pattern": {
              "fillmode": "overlay",
              "size": 10,
              "solidity": 0.2
             }
            },
            "type": "barpolar"
           }
          ],
          "carpet": [
           {
            "aaxis": {
             "endlinecolor": "#2a3f5f",
             "gridcolor": "white",
             "linecolor": "white",
             "minorgridcolor": "white",
             "startlinecolor": "#2a3f5f"
            },
            "baxis": {
             "endlinecolor": "#2a3f5f",
             "gridcolor": "white",
             "linecolor": "white",
             "minorgridcolor": "white",
             "startlinecolor": "#2a3f5f"
            },
            "type": "carpet"
           }
          ],
          "choropleth": [
           {
            "colorbar": {
             "outlinewidth": 0,
             "ticks": ""
            },
            "type": "choropleth"
           }
          ],
          "contour": [
           {
            "colorbar": {
             "outlinewidth": 0,
             "ticks": ""
            },
            "colorscale": [
             [
              0,
              "#0d0887"
             ],
             [
              0.1111111111111111,
              "#46039f"
             ],
             [
              0.2222222222222222,
              "#7201a8"
             ],
             [
              0.3333333333333333,
              "#9c179e"
             ],
             [
              0.4444444444444444,
              "#bd3786"
             ],
             [
              0.5555555555555556,
              "#d8576b"
             ],
             [
              0.6666666666666666,
              "#ed7953"
             ],
             [
              0.7777777777777778,
              "#fb9f3a"
             ],
             [
              0.8888888888888888,
              "#fdca26"
             ],
             [
              1,
              "#f0f921"
             ]
            ],
            "type": "contour"
           }
          ],
          "contourcarpet": [
           {
            "colorbar": {
             "outlinewidth": 0,
             "ticks": ""
            },
            "type": "contourcarpet"
           }
          ],
          "heatmap": [
           {
            "colorbar": {
             "outlinewidth": 0,
             "ticks": ""
            },
            "colorscale": [
             [
              0,
              "#0d0887"
             ],
             [
              0.1111111111111111,
              "#46039f"
             ],
             [
              0.2222222222222222,
              "#7201a8"
             ],
             [
              0.3333333333333333,
              "#9c179e"
             ],
             [
              0.4444444444444444,
              "#bd3786"
             ],
             [
              0.5555555555555556,
              "#d8576b"
             ],
             [
              0.6666666666666666,
              "#ed7953"
             ],
             [
              0.7777777777777778,
              "#fb9f3a"
             ],
             [
              0.8888888888888888,
              "#fdca26"
             ],
             [
              1,
              "#f0f921"
             ]
            ],
            "type": "heatmap"
           }
          ],
          "heatmapgl": [
           {
            "colorbar": {
             "outlinewidth": 0,
             "ticks": ""
            },
            "colorscale": [
             [
              0,
              "#0d0887"
             ],
             [
              0.1111111111111111,
              "#46039f"
             ],
             [
              0.2222222222222222,
              "#7201a8"
             ],
             [
              0.3333333333333333,
              "#9c179e"
             ],
             [
              0.4444444444444444,
              "#bd3786"
             ],
             [
              0.5555555555555556,
              "#d8576b"
             ],
             [
              0.6666666666666666,
              "#ed7953"
             ],
             [
              0.7777777777777778,
              "#fb9f3a"
             ],
             [
              0.8888888888888888,
              "#fdca26"
             ],
             [
              1,
              "#f0f921"
             ]
            ],
            "type": "heatmapgl"
           }
          ],
          "histogram": [
           {
            "marker": {
             "pattern": {
              "fillmode": "overlay",
              "size": 10,
              "solidity": 0.2
             }
            },
            "type": "histogram"
           }
          ],
          "histogram2d": [
           {
            "colorbar": {
             "outlinewidth": 0,
             "ticks": ""
            },
            "colorscale": [
             [
              0,
              "#0d0887"
             ],
             [
              0.1111111111111111,
              "#46039f"
             ],
             [
              0.2222222222222222,
              "#7201a8"
             ],
             [
              0.3333333333333333,
              "#9c179e"
             ],
             [
              0.4444444444444444,
              "#bd3786"
             ],
             [
              0.5555555555555556,
              "#d8576b"
             ],
             [
              0.6666666666666666,
              "#ed7953"
             ],
             [
              0.7777777777777778,
              "#fb9f3a"
             ],
             [
              0.8888888888888888,
              "#fdca26"
             ],
             [
              1,
              "#f0f921"
             ]
            ],
            "type": "histogram2d"
           }
          ],
          "histogram2dcontour": [
           {
            "colorbar": {
             "outlinewidth": 0,
             "ticks": ""
            },
            "colorscale": [
             [
              0,
              "#0d0887"
             ],
             [
              0.1111111111111111,
              "#46039f"
             ],
             [
              0.2222222222222222,
              "#7201a8"
             ],
             [
              0.3333333333333333,
              "#9c179e"
             ],
             [
              0.4444444444444444,
              "#bd3786"
             ],
             [
              0.5555555555555556,
              "#d8576b"
             ],
             [
              0.6666666666666666,
              "#ed7953"
             ],
             [
              0.7777777777777778,
              "#fb9f3a"
             ],
             [
              0.8888888888888888,
              "#fdca26"
             ],
             [
              1,
              "#f0f921"
             ]
            ],
            "type": "histogram2dcontour"
           }
          ],
          "mesh3d": [
           {
            "colorbar": {
             "outlinewidth": 0,
             "ticks": ""
            },
            "type": "mesh3d"
           }
          ],
          "parcoords": [
           {
            "line": {
             "colorbar": {
              "outlinewidth": 0,
              "ticks": ""
             }
            },
            "type": "parcoords"
           }
          ],
          "pie": [
           {
            "automargin": true,
            "type": "pie"
           }
          ],
          "scatter": [
           {
            "fillpattern": {
             "fillmode": "overlay",
             "size": 10,
             "solidity": 0.2
            },
            "type": "scatter"
           }
          ],
          "scatter3d": [
           {
            "line": {
             "colorbar": {
              "outlinewidth": 0,
              "ticks": ""
             }
            },
            "marker": {
             "colorbar": {
              "outlinewidth": 0,
              "ticks": ""
             }
            },
            "type": "scatter3d"
           }
          ],
          "scattercarpet": [
           {
            "marker": {
             "colorbar": {
              "outlinewidth": 0,
              "ticks": ""
             }
            },
            "type": "scattercarpet"
           }
          ],
          "scattergeo": [
           {
            "marker": {
             "colorbar": {
              "outlinewidth": 0,
              "ticks": ""
             }
            },
            "type": "scattergeo"
           }
          ],
          "scattergl": [
           {
            "marker": {
             "colorbar": {
              "outlinewidth": 0,
              "ticks": ""
             }
            },
            "type": "scattergl"
           }
          ],
          "scattermapbox": [
           {
            "marker": {
             "colorbar": {
              "outlinewidth": 0,
              "ticks": ""
             }
            },
            "type": "scattermapbox"
           }
          ],
          "scatterpolar": [
           {
            "marker": {
             "colorbar": {
              "outlinewidth": 0,
              "ticks": ""
             }
            },
            "type": "scatterpolar"
           }
          ],
          "scatterpolargl": [
           {
            "marker": {
             "colorbar": {
              "outlinewidth": 0,
              "ticks": ""
             }
            },
            "type": "scatterpolargl"
           }
          ],
          "scatterternary": [
           {
            "marker": {
             "colorbar": {
              "outlinewidth": 0,
              "ticks": ""
             }
            },
            "type": "scatterternary"
           }
          ],
          "surface": [
           {
            "colorbar": {
             "outlinewidth": 0,
             "ticks": ""
            },
            "colorscale": [
             [
              0,
              "#0d0887"
             ],
             [
              0.1111111111111111,
              "#46039f"
             ],
             [
              0.2222222222222222,
              "#7201a8"
             ],
             [
              0.3333333333333333,
              "#9c179e"
             ],
             [
              0.4444444444444444,
              "#bd3786"
             ],
             [
              0.5555555555555556,
              "#d8576b"
             ],
             [
              0.6666666666666666,
              "#ed7953"
             ],
             [
              0.7777777777777778,
              "#fb9f3a"
             ],
             [
              0.8888888888888888,
              "#fdca26"
             ],
             [
              1,
              "#f0f921"
             ]
            ],
            "type": "surface"
           }
          ],
          "table": [
           {
            "cells": {
             "fill": {
              "color": "#EBF0F8"
             },
             "line": {
              "color": "white"
             }
            },
            "header": {
             "fill": {
              "color": "#C8D4E3"
             },
             "line": {
              "color": "white"
             }
            },
            "type": "table"
           }
          ]
         },
         "layout": {
          "annotationdefaults": {
           "arrowcolor": "#2a3f5f",
           "arrowhead": 0,
           "arrowwidth": 1
          },
          "autotypenumbers": "strict",
          "coloraxis": {
           "colorbar": {
            "outlinewidth": 0,
            "ticks": ""
           }
          },
          "colorscale": {
           "diverging": [
            [
             0,
             "#8e0152"
            ],
            [
             0.1,
             "#c51b7d"
            ],
            [
             0.2,
             "#de77ae"
            ],
            [
             0.3,
             "#f1b6da"
            ],
            [
             0.4,
             "#fde0ef"
            ],
            [
             0.5,
             "#f7f7f7"
            ],
            [
             0.6,
             "#e6f5d0"
            ],
            [
             0.7,
             "#b8e186"
            ],
            [
             0.8,
             "#7fbc41"
            ],
            [
             0.9,
             "#4d9221"
            ],
            [
             1,
             "#276419"
            ]
           ],
           "sequential": [
            [
             0,
             "#0d0887"
            ],
            [
             0.1111111111111111,
             "#46039f"
            ],
            [
             0.2222222222222222,
             "#7201a8"
            ],
            [
             0.3333333333333333,
             "#9c179e"
            ],
            [
             0.4444444444444444,
             "#bd3786"
            ],
            [
             0.5555555555555556,
             "#d8576b"
            ],
            [
             0.6666666666666666,
             "#ed7953"
            ],
            [
             0.7777777777777778,
             "#fb9f3a"
            ],
            [
             0.8888888888888888,
             "#fdca26"
            ],
            [
             1,
             "#f0f921"
            ]
           ],
           "sequentialminus": [
            [
             0,
             "#0d0887"
            ],
            [
             0.1111111111111111,
             "#46039f"
            ],
            [
             0.2222222222222222,
             "#7201a8"
            ],
            [
             0.3333333333333333,
             "#9c179e"
            ],
            [
             0.4444444444444444,
             "#bd3786"
            ],
            [
             0.5555555555555556,
             "#d8576b"
            ],
            [
             0.6666666666666666,
             "#ed7953"
            ],
            [
             0.7777777777777778,
             "#fb9f3a"
            ],
            [
             0.8888888888888888,
             "#fdca26"
            ],
            [
             1,
             "#f0f921"
            ]
           ]
          },
          "colorway": [
           "#636efa",
           "#EF553B",
           "#00cc96",
           "#ab63fa",
           "#FFA15A",
           "#19d3f3",
           "#FF6692",
           "#B6E880",
           "#FF97FF",
           "#FECB52"
          ],
          "font": {
           "color": "#2a3f5f"
          },
          "geo": {
           "bgcolor": "white",
           "lakecolor": "white",
           "landcolor": "#E5ECF6",
           "showlakes": true,
           "showland": true,
           "subunitcolor": "white"
          },
          "hoverlabel": {
           "align": "left"
          },
          "hovermode": "closest",
          "mapbox": {
           "style": "light"
          },
          "paper_bgcolor": "white",
          "plot_bgcolor": "#E5ECF6",
          "polar": {
           "angularaxis": {
            "gridcolor": "white",
            "linecolor": "white",
            "ticks": ""
           },
           "bgcolor": "#E5ECF6",
           "radialaxis": {
            "gridcolor": "white",
            "linecolor": "white",
            "ticks": ""
           }
          },
          "scene": {
           "xaxis": {
            "backgroundcolor": "#E5ECF6",
            "gridcolor": "white",
            "gridwidth": 2,
            "linecolor": "white",
            "showbackground": true,
            "ticks": "",
            "zerolinecolor": "white"
           },
           "yaxis": {
            "backgroundcolor": "#E5ECF6",
            "gridcolor": "white",
            "gridwidth": 2,
            "linecolor": "white",
            "showbackground": true,
            "ticks": "",
            "zerolinecolor": "white"
           },
           "zaxis": {
            "backgroundcolor": "#E5ECF6",
            "gridcolor": "white",
            "gridwidth": 2,
            "linecolor": "white",
            "showbackground": true,
            "ticks": "",
            "zerolinecolor": "white"
           }
          },
          "shapedefaults": {
           "line": {
            "color": "#2a3f5f"
           }
          },
          "ternary": {
           "aaxis": {
            "gridcolor": "white",
            "linecolor": "white",
            "ticks": ""
           },
           "baxis": {
            "gridcolor": "white",
            "linecolor": "white",
            "ticks": ""
           },
           "bgcolor": "#E5ECF6",
           "caxis": {
            "gridcolor": "white",
            "linecolor": "white",
            "ticks": ""
           }
          },
          "title": {
           "x": 0.05
          },
          "xaxis": {
           "automargin": true,
           "gridcolor": "white",
           "linecolor": "white",
           "ticks": "",
           "title": {
            "standoff": 15
           },
           "zerolinecolor": "white",
           "zerolinewidth": 2
          },
          "yaxis": {
           "automargin": true,
           "gridcolor": "white",
           "linecolor": "white",
           "ticks": "",
           "title": {
            "standoff": 15
           },
           "zerolinecolor": "white",
           "zerolinewidth": 2
          }
         }
        },
        "title": {
         "text": "Rank History: 'Reversal' Candidates"
        },
        "updatemenus": [
         {
          "buttons": [
           {
            "args": [
             {
              "visible": [
               true,
               true,
               true,
               true,
               true,
               true,
               true,
               true,
               true,
               true,
               true
              ]
             }
            ],
            "label": "Reset View",
            "method": "restyle"
           },
           {
            "args": [
             {
              "visible": [
               "legendonly",
               "legendonly",
               "legendonly",
               "legendonly",
               "legendonly",
               "legendonly",
               "legendonly",
               "legendonly",
               "legendonly",
               "legendonly",
               "legendonly"
              ]
             }
            ],
            "label": "Clear All",
            "method": "restyle"
           }
          ],
          "direction": "left",
          "showactive": false,
          "type": "buttons",
          "x": 0.01,
          "xanchor": "left",
          "y": 1.1,
          "yanchor": "top"
         }
        ],
        "width": 1150,
        "xaxis": {
         "anchor": "y",
         "domain": [
          0,
          1
         ],
         "dtick": "D7",
         "gridcolor": "LightGrey",
         "minor": {
          "dtick": "D1",
          "gridcolor": "rgba(235, 235, 235, 0.5)",
          "showgrid": true
         },
         "range": [
          "2025-06-02T00:00:00",
          "2025-07-18T00:00:00"
         ],
         "showgrid": true,
         "tickformat": "%b %d",
         "title": {
          "standoff": 25,
          "text": "Date"
         },
         "type": "date"
        },
        "yaxis": {
         "anchor": "x",
         "autorange": "reversed",
         "domain": [
          0,
          1
         ],
         "dtick": 100,
         "gridcolor": "LightGrey",
         "showgrid": true,
         "title": {
          "text": "Rank"
         }
        }
       }
      }
     },
     "metadata": {},
     "output_type": "display_data"
    }
   ],
   "source": [
    "# 4. Call the new plotting function\n",
    "if portfolio_tickers:\n",
    "    plot_rank_with_criteria(\n",
    "        df_rank_history=df_tickers_rank_history.iloc[:, -plot_days::],\n",
    "        # df_rank_history=selected_df,\n",
    "        ticker_list=portfolio_tickers,\n",
    "        title_suffix=\"'Reversal' Candidates\",\n",
    "        filter_criteria=filter_criteria_1, # Pass the dictionary here\n",
    "        width=1150,\n",
    "        height=700,\n",
    "    )\n",
    "else:\n",
    "    print(\"No candidates found to plot.\")"
   ]
  },
  {
   "cell_type": "code",
   "execution_count": 17,
   "metadata": {},
   "outputs": [],
   "source": [
    "metrics_column_order = ['ticker',\n",
    "                        'lookback_slope',\n",
    "                        'current_to_total_peak',                \n",
    "                        'current',\n",
    "                        'recent_start',\n",
    "                        'best_recent',\n",
    "                        'worst_recent',                \n",
    "                        'lookback_end',                \n",
    "                        'lookback_start',\n",
    "                        'best_lookback',\n",
    "                        'worst_lookback',\n",
    "                        'best_total',\n",
    "                        'worst_total',\n",
    "                        'current_to_recent_start',\n",
    "                        'recent_bottom_to_recent_start',\n",
    "                        'recent_bottom_to_current']"
   ]
  },
  {
   "cell_type": "code",
   "execution_count": 18,
   "metadata": {},
   "outputs": [
    {
     "name": "stdout",
     "output_type": "stream",
     "text": [
      "metrics_df.head(200):\n",
      "    ticker  lookback_slope  current_to_total_peak  current  recent_start  best_recent  worst_recent  lookback_end  lookback_start  best_lookback  worst_lookback  best_total  worst_total  current_to_recent_start  recent_bottom_to_recent_start  recent_bottom_to_current\n",
      "0     NVDA           -0.07                      0        1             1            1             1             1               2              1               2           1            2                        0                              0                         0\n",
      "1     MSFT            0.07                      1        2             2            2             2             2               1              1               2           1            2                        0                              0                         0\n",
      "2     AAPL           -0.00                      0        3             3            3             3             3               3              3               3           3            3                        0                              0                         0\n",
      "3     AMZN           -0.00                      0        4             4            4             4             4               4              4               4           4            4                        0                              0                         0\n",
      "4    GOOGL            0.02                      0        5             5            5             6             6               5              5               6           5            6                        0                              1                         1\n",
      "5     GOOG           -0.02                      1        6             6            5             6             5               6              5               6           5            6                        0                              0                         0\n",
      "6     META           -0.00                      0        7             7            7             7             7               7              7               7           7            7                        0                              0                         0\n",
      "7     AVGO           -0.00                      0        8             8            8             8             8               8              8               8           8            8                        0                              0                         0\n",
      "8      TSM           -0.01                      0        9             9            9             9             9               9              9              10           9           10                        0                              0                         0\n",
      "9     TSLA            0.07                      1       10            12           10            12            12              10              9              12           9           12                       -2                              0                         2\n",
      "10   BRK-A            0.00                      1       11            10           10            12            11              11             10              12          10           12                        1                              2                         1\n",
      "11   BRK-B           -0.06                      2       12            11           11            12            10              12             10              12          10           12                        1                              1                         0\n",
      "12     JPM           -0.07                      0       13            13           13            13            13              15             13              15          13           15                        0                              0                         0\n",
      "13     WMT            0.03                      1       14            14           14            14            14              14             13              14          13           14                        0                              0                         0\n",
      "14     LLY            0.04                      2       15            15           15            15            15              13             13              15          13           15                        0                              0                         0\n",
      "15     VOO           -0.01                      0       16            16           16            17            16              17             16              17          16           17                        0                              1                         1\n",
      "16    ORCL           -0.07                      1       17            18           16            18            18              19             18              20          16           20                       -1                              0                         1\n",
      "17       V            0.01                      2       18            17           17            18            17              16             16              17          16           18                        1                              1                         0\n",
      "18     SPY            0.07                      1       19            19           19            19            19              18             18              19          18           19                        0                              0                         0\n",
      "19     IVV           -0.00                      1       20            20           20            20            20              20             19              20          19           20                        0                              0                         0\n",
      "20    NFLX            0.00                      0       21            21           21            21            21              21             21              21          21           21                        0                              0                         0\n",
      "21     VTI           -0.08                      0       22            22           22            23            22              24             22              24          22           24                        0                              1                         1\n",
      "22      MA            0.01                      1       23            23           22            23            23              22             22              24          22           24                        0                              0                         0\n",
      "23     XOM            0.06                      2       24            24           24            24            24              23             22              24          22           24                        0                              0                         0\n",
      "24    COST           -0.00                      0       25            25           25            25            25              25             25              25          25           25                        0                              0                         0\n",
      "25     JNJ           -0.06                      0       26            26           26            26            26              27             26              28          26           28                        0                              0                         0\n",
      "26      PG            0.07                      1       27            27           27            27            28              26             26              28          26           28                        0                              0                         0\n",
      "27    PLTR            0.01                      0       28            31           28            31            31              33             31              35          28           35                       -3                              0                         3\n",
      "28     QQQ           -0.03                      0       29            29           29            32            30              30             29              31          29           32                        0                              3                         3\n",
      "29      HD           -0.01                      3       30            28           28            30            27              28             27              29          27           30                        2                              2                         0\n",
      "30     SAP            0.03                      3       31            30           28            31            32              29             29              32          28           32                        1                              1                         0\n",
      "31     BAC           -0.01                      4       32            32           31            32            29              32             28              32          28           32                        0                              0                         0\n",
      "32    ABBV           -0.00                      2       33            33           33            33            33              31             31              33          31           33                        0                              0                         0\n",
      "33      KO            0.01                      0       34            35           34            35            35              35             34              35          34           35                       -1                              0                         1\n",
      "34    ASML           -0.02                      2       35            34           34            35            34              34             33              35          33           35                        1                              1                         0\n",
      "35      GE           -0.20                      0       36            36           36            37            37              45             37              45          36           45                        0                              1                         1\n",
      "36      PM            0.02                      1       37            37           36            37            36              36             36              37          36           37                        0                              0                         0\n",
      "37    CSCO           -0.12                      1       38            38           38            38            40              41             37              41          37           41                        0                              0                         0\n",
      "38    BABA            0.56                      2       39            42           39            45            45              38             37              47          37           47                       -3                              3                         6\n",
      "39     IBM            0.10                      1       40            41           40            41            42              40             39              42          39           42                       -1                              0                         1\n",
      "40     WFC           -0.36                      2       41            44           41            44            39              46             39              46          39           46                       -3                              0                         3\n",
      "41     CVX           -0.06                      3       42            40           39            42            41              43             39              45          39           45                        2                              2                         0\n",
      "42    TMUS           -0.01                      5       43            43           43            45            43              39             38              43          38           45                        0                              2                         2\n",
      "43     UNH           -0.00                      8       44            39           39            44            38              37             36              38          36           44                        5                              5                         0\n",
      "44     AMD           -0.56                      2       45            45           43            45            46              60             46              60          43           60                        0                              0                         0\n",
      "45     CRM           -0.03                      3       46            46           46            46            44              44             43              45          43           46                        0                              0                         0\n",
      "46      MS           -0.34                      0       47            48           47            50            48              56             48              56          47           56                       -1                              2                         3\n",
      "47      TM            0.26                      0       48            51           48            51            52              48             48              53          48           53                       -3                              0                         3\n",
      "48    HSBC           -0.07                      0       49            55           49            55            56              57             55              60          49           60                       -6                              0                         6\n",
      "49     LIN            0.13                      0       50            54           50            56            54              51             51              54          50           56                       -4                              2                         6\n",
      "50     DIS            0.12                      0       51            58           51            58            58              52             51              58          51           58                       -7                              0                         7\n",
      "51      GS           -0.53                      0       52            56           52            56            55              65             55              65          52           65                       -4                              0                         4\n",
      "52     NVS           -0.07                      7       53            49           49            53            50              50             46              50          46           53                        4                              4                         0\n",
      "53     NVO            0.11                     12       54            50           48            54            47              42             42              49          42           54                        4                              4                         0\n",
      "54     AXP           -0.43                      6       55            53           49            55            51              59             50              59          49           59                        2                              2                         0\n",
      "55     ABT            0.08                     10       56            47           47            59            49              47             46              49          46           59                        9                             12                         3\n",
      "56     AZN            0.31                      8       57            52           52            57            53              49             49              58          49           58                        5                              5                         0\n",
      "57     MCD            0.16                      4       58            57           57            58            57              54             54              62          54           62                        1                              1                         0\n",
      "58    INTU            0.30                      6       59            59           58            59            60              53             53              61          53           61                        0                              0                         0\n",
      "59    SHEL            0.41                      8       60            60           60            61            61              55             52              62          52           62                        0                              1                         1\n",
      "60      BX           -0.69                      1       61            66           60            66            65              77             64              77          60           77                       -5                              0                         5\n",
      "61     RTX            0.16                      0       62            62           62            63            63              64             62              69          62           69                        0                              1                         1\n",
      "62     MRK           -0.08                      4       63            61           61            63            59              61             59              64          59           64                        2                              2                         0\n",
      "63     NOW            0.22                      7       64            64           64            65            64              58             57              66          57           66                        0                              1                         1\n",
      "64     TXN           -0.34                      3       65            63           63            66            62              69             62              69          62           69                        2                              3                         1\n",
      "65     PEP            0.15                      2       66            73           64            73            72              70             70              75          64           75                       -7                              0                         7\n",
      "66     CAT           -0.33                      1       67            69           66            69            69              76             69              76          66           76                       -2                              0                         2\n",
      "67       T            0.27                      7       68            65           65            69            67              62             61              68          61           69                        3                              4                         1\n",
      "68     HDB            0.10                      5       69            68           68            69            68              66             64              68          64           69                        1                              1                         0\n",
      "69    UBER           -0.48                      8       70            67           67            70            66              72             62              72          62           72                        3                              3                         0\n",
      "70      RY            0.22                      3       71            71           70            71            71              68             68              74          68           74                        0                              0                         0\n",
      "71    ISRG            0.25                      6       72            72           72            73            73              67             66              73          66           73                        0                              1                         1\n",
      "72    BKNG           -0.11                      3       73            70           70            73            70              73             70              73          70           73                        3                              3                         0\n",
      "73     VUG           -0.04                      0       74            74           74            74            74              78             74              78          74           78                        0                              0                         0\n",
      "74     ACN            0.46                     13       75            77           75            77            76              63             62              76          62           77                       -2                              0                         2\n",
      "75       C           -0.71                      0       76            78           76            79            82              93             80              94          76           94                       -2                              1                         3\n",
      "76    SCHW            0.05                      0       77            80           77            81            80              79             78              80          77           81                       -3                              1                         4\n",
      "77      BA           -0.74                      2       78            76           76            78            77              89             77              92          76           92                        2                              2                         0\n",
      "78      VZ            0.29                      9       79            75           75            79            75              71             70              76          70           79                        4                              4                         0\n",
      "79     BLK           -0.64                      2       80            82           79            82            78              88             78              90          78           90                       -2                              0                         2\n",
      "80    QCOM            0.14                      7       81            79           78            81            79              74             74              79          74           81                        2                              2                         0\n",
      "81     ARM            0.24                      6       82            87           82            87            92              92             76              92          76           92                       -5                              0                         5\n",
      "82    SHOP           -0.35                      0       83            95           83            95            94             101             94             103          83          103                      -12                              0                        12\n",
      "83     VEA            0.03                      4       84            81           81            84            81              80             80              83          80           84                        3                              3                         0\n",
      "84    SPGI           -0.05                      4       85            83           83            85            83              85             81              85          81           85                        2                              2                         0\n",
      "85    AMGN            0.13                      5       86            86           85            87            85              81             81              94          81           94                        0                              1                         1\n",
      "86     TMO           -0.41                      6       88            85           85            88            84              87             82              92          82           92                        3                              3                         0\n",
      "87     NEE           -0.09                      0       89            90           89            91            89              90             89             100          89          100                       -1                              1                         2\n",
      "88    ADBE            0.61                     15       90            89           89            91            88              75             75              89          75           91                        1                              2                         1\n",
      "89     BSX            0.14                      6       91            91           90            93            90              91             85              92          85           93                        0                              2                         2\n",
      "90    MUFG            0.32                     10       92            88           88            92            87              83             82              89          82           92                        4                              4                         0\n",
      "91    AMAT           -0.96                      9       93            84           84            93            86             100             85             106          84          106                        9                              9                         0\n",
      "92     HON           -0.40                      5       94            93           93            94            91              95             89             100          89          100                        1                              1                         0\n",
      "93     PDD            0.16                      1       95            97           95            97           102              98             94             102          94          102                       -2                              0                         2\n",
      "94     SYK            0.02                      4       96            94           94            97            96              94             92              96          92           97                        2                              3                         1\n",
      "95     ETN           -0.43                      1       97           102           96           102           105             111            103             112          96          112                       -5                              0                         5\n",
      "96      UL            0.55                     13       98            96           96            99            95              86             85              97          85           99                        2                              3                         1\n",
      "97     PGR            0.97                     17       99           101           98           101            98              84             82             101          82          101                       -2                              0                         2\n",
      "98    SONY            0.65                     19      100            98           98           100            97              82             81              97          81          100                        2                              2                         0\n",
      "99    IEFA            0.03                      1      101           100          100           102           101             102            100             105         100          105                        1                              2                         1\n",
      "100   ANET           -1.24                      0      102           112          102           112           112             129            112             138         102          138                      -10                              0                        10\n",
      "101    VTV           -0.03                      0      103           103          103           107           106             107            104             110         103          110                        0                              4                         4\n",
      "102    COF           -0.66                      0      104           108          104           108           104             115            104             118         104          118                       -4                              0                         4\n",
      "103   SPOT            0.47                     19      105            99           99           105           100              97             86             103          86          105                        6                              6                         0\n",
      "104    PFE           -0.42                      8      106           104          103           106            99             104             98             109          98          109                        2                              2                         0\n",
      "105    TTE            0.53                     12      107           105          105           108           109             103             95             111          95          111                        2                              3                         1\n",
      "106    TJX            0.34                      7      108           110          108           112           110             105            101             111         101          112                       -2                              2                         4\n",
      "107    DHR            0.11                     13      109           107          106           109           103              96             96             103          96          109                        2                              2                         0\n",
      "108     DE            0.79                     13      110           109          109           112           111              99             97             112          97          112                        1                              3                         2\n",
      "109   GILD           -0.05                      7      111           111          110           111           107             106            104             113         104          113                        0                              0                         0\n",
      "110    UNP           -0.31                      9      112           106          106           112           108             108            103             111         103          112                        6                              6                         0\n",
      "111    BHP           -0.35                      0      113           120          113           120           115             123            114             126         113          126                       -7                              0                         7\n",
      "112    BND            0.16                      1      114           114          114           116           116             114            113             117         113          117                        0                              2                         2\n",
      "113   PANW            0.53                      8      115           118          115           118           120             112            107             123         107          123                       -3                              0                         3\n",
      "114    KKR           -0.96                      3      116           123          113           123           123             137            120             139         113          139                       -7                              0                         7\n",
      "115  CMCSA            0.02                      5      117           115          115           118           113             113            112             116         112          118                        2                              3                         1\n",
      "116     TD           -0.10                      3      118           117          116           118           117             121            115             121         115          121                        1                              1                         0\n",
      "117   LRCX           -0.48                      3      119           116          116           119           119             128            117             128         116          128                        3                              3                         0\n",
      "118     MU            0.47                     20      120           113          113           121           114             109            100             114         100          121                        7                              8                         1\n",
      "119    AGG            0.20                      6      121           119          119           121           118             116            115             119         115          121                        2                              2                         0\n",
      "120    SAN           -0.12                      6      122           122          122           122           121             117            116             126         116          126                        0                              0                         0\n",
      "121    APH           -0.16                      0      123           128          123           128           128             135            128             136         123          136                       -5                              0                         5\n",
      "122    APP            0.57                      6      124           129          124           130           131             118            118             138         118          138                       -5                              1                         6\n",
      "123   KLAC           -0.28                      4      125           121          121           125           126             131            125             135         121          135                        4                              4                         0\n",
      "124    LOW           -0.17                      8      126           127          126           128           122             124            118             126         118          128                       -1                              1                         2\n",
      "125    ADP            0.47                     11      127           125          125           127           125             119            116             125         116          127                        2                              2                         0\n",
      "126   MELI            0.36                     13      128           124          124           130           130             122            115             130         115          130                        4                              6                         2\n",
      "127    ADI           -0.30                      3      129           130          129           131           129             133            126             133         126          133                       -1                              1                         2\n",
      "128    BUD            0.95                     13      130           134          130           134           132             120            117             135         117          135                       -4                              0                         4\n",
      "129   CRWD            0.31                     11      131           133          131           136           134             127            120             134         120          136                       -2                              3                         5\n",
      "130    IBN            0.25                      6      132           132          132           133           135             130            126             135         126          135                        0                              1                         1\n",
      "131   VRTX           -0.23                      8      133           131          129           133           127             132            125             135         125          135                        2                              2                         0\n",
      "132    SNY            0.43                      9      134           135          134           135           136             125            125             136         125          136                       -1                              0                         1\n",
      "133   MSTR           -0.76                     12      135           126          123           135           124             143            124             150         123          150                        9                              9                         0\n",
      "134    COP            0.36                     14      136           136          135           136           133             126            122             136         122          136                        0                              0                         0\n",
      "135    UBS           -0.86                      1      137           138          137           138           138             147            136             155         136          155                       -1                              0                         1\n",
      "136    MDT            0.05                      4      138           137          137           138           137             136            134             139         134          139                        1                              1                         0\n",
      "137    IWF           -0.04                      2      139           140          139           140           141             141            137             142         137          142                       -1                              0                         1\n",
      "138    BTI            0.19                      1      140           139          139           141           139             139            139             148         139          148                        1                              2                         1\n",
      "139     BN           -0.63                      1      141           145          140           145           145             158            145             159         140          159                       -4                              0                         4\n",
      "140     CB            0.48                     13      142           141          141           142           140             134            129             141         129          142                        1                              1                         0\n",
      "141    LMT            0.38                      8      143           142          142           143           142             138            135             143         135          143                        1                              1                         0\n",
      "142    NKE           -2.38                      8      144           143          143           144           143             166            136             178         136          178                        1                              1                         0\n",
      "143   COIN           -3.96                      0      145           157          145           157           156             248            156             251         145          251                      -12                              0                        12\n",
      "144   SBUX            0.07                      4      146           144          144           146           144             142            142             147         142          147                        2                              2                         0\n",
      "145    AMT            0.14                      4      147           150          147           150           149             149            143             149         143          150                       -3                              0                         3\n",
      "146    MMC            0.33                      9      148           146          146           149           146             140            139             146         139          149                        2                              3                         1\n",
      "147   WELL            0.21                      0      149           149          149           150           150             153            149             156         149          156                        0                              1                         1\n",
      "148    ICE            0.16                      7      150           148          148           150           147             146            143             148         143          150                        2                              2                         0\n",
      "149     SO           -0.09                      1      151           152          151           152           154             155            150             155         150          155                       -1                              0                         1\n",
      "150    PLD            0.03                      6      152           147          146           153           148             148            147             155         146          155                        5                              6                         1\n",
      "151   DASH           -0.78                      7      153           153          153           156           151             162            146             164         146          164                        0                              3                         3\n",
      "152    GLD            0.59                     10      154           151          151           154           153             144            144             154         144          154                        3                              3                         0\n",
      "153   INTC           -0.75                      7      155           154          154           157           155             168            148             168         148          168                        1                              3                         2\n",
      "154    CEG            0.02                      6      156           155          155           165           152             157            150             163         150          165                        1                             10                         9\n",
      "155     TT            0.04                      3      157           163          154           163           160             160            160             165         154          165                       -6                              0                         6\n",
      "156   IEMG           -0.45                      1      158           160          158           160           162             167            157             169         157          169                       -2                              0                         2\n",
      "157    CME            0.05                      9      159           156          154           159           157             159            150             159         150          159                        3                              3                         0\n",
      "158    ENB            0.68                     11      160           158          158           163           159             150            149             165         149          165                        2                              5                         3\n",
      "159    BAM           -0.04                      3      161           172          158           172           173             176            172             183         158          183                      -11                              0                        11\n",
      "160    VGT           -0.52                      0      162           165          162           165           168             178            166             178         162          178                       -3                              0                         3\n",
      "161     MO            0.62                     16      163           159          156           163           161             151            147             162         147          163                        4                              4                         0\n",
      "162    IJH           -0.22                      5      164           161          161           167           163             164            159             167         159          167                        3                              6                         3\n",
      "163   VXUS            0.03                      4      165           164          164           166           166             163            161             166         161          166                        1                              2                         1\n",
      "164   HOOD           -3.57                      0      166           183          166           183           182             245            182             248         166          248                      -17                              0                        17\n",
      "165   RELX            0.06                     13      167           162          160           167           158             154            154             162         154          167                        5                              5                         0\n",
      "166    BMY            0.40                     16      168           168          161           168           165             152            152             167         152          168                        0                              0                         0\n",
      "167    RCL           -3.31                      0      169           170          169           172           170             223            169             226         169          226                       -1                              2                         3\n",
      "168    TRI           -0.11                      6      170           167          167           170           164             177            164             179         164          179                        3                              3                         0\n",
      "169   SMFG            0.58                     16      171           166          166           171           167             156            155             167         155          171                        5                              5                         0\n",
      "170    VWO           -0.42                      3      172           171          170           172           176             179            169             182         169          182                        1                              1                         0\n",
      "171    VIG           -0.06                      5      173           169          169           174           169             169            168             171         168          174                        4                              5                         1\n",
      "172     PH           -0.99                      3      174           176          174           177           177             189            171             191         171          191                       -2                              1                         3\n",
      "173     SE            1.23                      0      175           186          175           186           198             182            180             204         175          204                      -11                              0                        11\n",
      "174    DUK            0.12                      8      176           174          174           178           174             172            168             174         168          178                        2                              4                         2\n",
      "175     FI            0.09                     16      177           173          173           177           171             165            161             171         161          177                        4                              4                         0\n",
      "176     WM            0.90                     18      178           175          175           179           172             161            160             178         160          179                        3                              4                         1\n",
      "177   SNPS           -2.02                      3      179           181          176           182           191             217            184             219         176          219                       -2                              1                         3\n",
      "178   MDLZ            0.31                      7      180           187          180           187           183             180            173             188         173          188                       -7                              0                         7\n",
      "179   RACE           -0.69                      3      181           185          178           185           186             193            181             195         178          195                       -4                              0                         4\n",
      "180    MCO           -0.50                      7      182           178          178           182           178             184            175             185         175          185                        4                              4                         0\n",
      "181    TDG           -0.82                      3      183           180          180           184           181             199            181             200         180          200                        3                              4                         1\n",
      "182   CTAS            0.84                     13      184           188          183           188           184             171            171             186         171          188                       -4                              0                         4\n",
      "183   DELL           -0.70                      0      185           191          185           198           190             206            187             206         185          206                       -6                              7                        13\n",
      "184    MCK            0.63                     20      186           179          179           186           179             170            166             184         166          186                        7                              7                         0\n",
      "185   IBIT           -1.03                      0      187           189          187           196           196             228            196             233         187          233                       -2                              7                         9\n",
      "186   ABNB           -0.05                      5      188           190          188           191           187             183            183             197         183          197                       -2                              1                         3\n",
      "187    HCA            0.33                     23      189           177          177           190           175             174            166             178         166          190                       12                             13                         1\n",
      "188    APO           -0.88                      5      190           198          185           198           193             208            193             213         185          213                       -8                              0                         8\n",
      "189   NTES            0.40                      4      191           195          191           196           199             192            187             205         187          205                       -4                              1                         5\n",
      "190   CDNS           -0.94                     11      192           184          184           192           188             194            181             199         181          199                        8                              8                         0\n",
      "191     VO            0.09                     11      193           193          193           197           195             198            182             198         182          198                        0                              4                         4\n",
      "192    SHW           -0.25                     14      194           192          192           194           189             190            180             191         180          194                        2                              2                         0\n",
      "193   BBVA            0.06                     25      195           194          190           195           185             173            170             189         170          195                        1                              1                         0\n",
      "194   RBLX           -0.26                      0      196           213          196           213           219             242            219             245         196          245                      -17                              0                        17\n",
      "195    UPS            0.08                     17      197           196          194           197           194             186            180             194         180          197                        1                              1                         0\n",
      "196     BP            0.18                      4      198           199          198           199           197             196            194             212         194          212                       -1                              0                         1\n",
      "197    XLK           -0.60                      0      199           204          199           204           205             216            202             216         199          216                       -5                              0                         5\n",
      "198    MMM           -0.55                      8      200           197          192           200           192             200            192             209         192          209                        3                              3                         0\n",
      "199    BMO           -0.46                      4      201           201          200           201           201             205            197             210         197          210                        0                              0                         0\n"
     ]
    }
   ],
   "source": [
    "# 1. Convert to a DataFrame for further analysis:\n",
    "metrics_df = pd.DataFrame(all_metrics_data)\n",
    "metrics_df = metrics_df[metrics_column_order]\n",
    "print(f'metrics_df.head(200):\\n{metrics_df.head(200)}')"
   ]
  },
  {
   "cell_type": "code",
   "execution_count": 19,
   "metadata": {},
   "outputs": [
    {
     "name": "stdout",
     "output_type": "stream",
     "text": [
      "sorted_metrics_df:\n",
      "      ticker  lookback_slope  current_to_total_peak  current  recent_start  best_recent  worst_recent  lookback_end  lookback_start  best_lookback  worst_lookback  best_total  worst_total  current_to_recent_start  recent_bottom_to_recent_start  recent_bottom_to_current\n",
      "1032    FTCS            1.00                      0     1055          1194         1055          1209          1201            1174           1174            1201        1055         1209                     -139                             15                       154\n",
      "845     JOBY          -12.77                      0      860          1005          860          1005          1072            1288           1072            1333         860         1333                     -145                              0                       145\n",
      "1123     IVZ           -4.99                      0     1158          1275         1158          1275          1256            1335           1250            1344        1158         1344                     -117                              0                       117\n",
      "801        U           -7.20                      0      814           930          814           930           947            1048            945            1084         814         1084                     -116                              0                       116\n",
      "832      SMR            4.49                      0      847           940          847           940           955             931            930            1075         847         1075                      -93                              0                        93\n",
      "1064    KTOS           -8.51                      0     1090          1181         1090          1181          1176            1383           1176            1407        1090         1407                      -91                              0                        91\n",
      "998     FRHC            1.40                      0     1019          1099         1019          1099          1113            1110           1104            1181        1019         1181                      -80                              0                        80\n",
      "1100     ALB           -6.51                      0     1132          1205         1132          1205          1189            1285           1174            1329        1132         1329                      -73                              0                        73\n",
      "927     IONQ           -3.74                      0      946          1017          946          1017          1011            1054            956            1064         946         1064                      -71                              0                        71\n",
      "670     ASTS           -0.25                      0      681           750          681           750           776             849            734             870         681          870                      -69                              0                        69\n",
      "565     RKLB          -11.48                      0      575           638          575           638           667             923            667             923         575          923                      -63                              0                        63\n",
      "1049    OKLO            5.84                      0     1075          1137         1075          1137          1128            1115           1107            1276        1075         1276                      -62                              0                        62\n",
      "511       UI           -1.52                      0      518           564          518           564           564             593            554             597         518          597                      -46                              0                        46\n",
      "1234    ARKK           -3.38                      0     1288          1315         1288          1332          1324            1419           1323            1419        1288         1419                      -27                             17                        44\n",
      "720     FUTU           -4.09                      0      731           766          731           773           766             840            756             902         731          902                      -35                              7                        42\n",
      "1146     CMA           -4.10                      0     1184          1224         1184          1225          1197            1272           1196            1272        1184         1272                      -40                              1                        41\n",
      "967      FHN           -3.69                      0      988          1025          988          1025          1006            1066           1004            1071         988         1071                      -37                              0                        37\n",
      "659     TWLO            1.17                      0      670           684          670           707           730             711            694             750         670          750                      -14                             23                        37\n",
      "1209     SNV           -4.03                      0     1260          1288         1260          1293          1267            1333           1262            1338        1260         1338                      -28                              5                        33\n",
      "534       LI            0.92                      0      543           576          543           576           586             583            575             632         543          632                      -33                              0                        33\n",
      "356      XYZ           -0.93                      0      360           392          360           392           380             394            377             399         360          399                      -32                              0                        32\n",
      "1103    GNRC           -6.42                      0     1136          1166         1136          1167          1161            1256           1145            1260        1136         1260                      -30                              1                        31\n",
      "465      SYM          -10.53                      0      471           500          471           500           514             686            512             700         471          700                      -29                              0                        29\n",
      "595       RF           -2.98                      0      605           634          605           634           623             673            616             675         605          675                      -29                              0                        29\n",
      "1110    WTFC           -3.53                      0     1145          1172         1145          1172          1148            1215           1148            1217        1145         1217                      -27                              0                        27\n",
      "913      RBC            0.46                      0      931           958          931           958           963             960            935             963         931          963                      -27                              0                        27\n",
      "1307    BOKF           -3.59                      0     1369          1395         1369          1395          1375            1432           1372            1435        1369         1435                      -26                              0                        26\n",
      "982       FN           -2.61                      0     1003          1022         1003          1029          1040            1105           1017            1105        1003         1105                      -19                              7                        26\n",
      "1214    FIVE           -0.23                      0     1265          1291         1265          1291          1284            1304           1284            1322        1265         1322                      -26                              0                        26\n",
      "1392    AIRR           -0.78                      0     1487          1511         1487          1512          1510            1529           1508            1529        1487         1529                      -24                              1                        25\n",
      "721      MDB            0.88                      0      732           757          732           757           769             753            738             769         732          769                      -25                              0                        25\n",
      "956      EVR           -5.70                      0      976          1000          976          1000           997            1086            983            1089         976         1089                      -24                              0                        24\n",
      "989     PCOR           -2.43                      0     1010          1033         1010          1033          1037            1077           1022            1077        1010         1077                      -23                              0                        23\n",
      "1173    BILI           -0.76                      0     1218          1241         1218          1241          1293            1301           1288            1359        1218         1359                      -23                              0                        23\n",
      "1199    ESAB           -0.81                      0     1249          1271         1249          1271          1263            1253           1253            1291        1249         1291                      -22                              0                        22\n",
      "757     SNAP           -3.51                      0      770           791          770           791           790             844            790             873         770          873                      -21                              0                        21\n",
      "1221    STRL           -1.46                      0     1273          1294         1273          1294          1288            1373           1288            1373        1273         1373                      -21                              0                        21\n",
      "624     GRAB           -1.39                      0      635           656          635           656           661             684            651             703         635          703                      -21                              0                        21\n",
      "770       SN           -7.14                      0      783           802          783           803           802             925            802             934         783          934                      -19                              1                        20\n",
      "885      ATI           -1.26                      0      901           917          901           921           916             939            916             963         901          963                      -16                              4                        20\n",
      "248      VST           -0.84                      0      250           257          250           270           254             278            251             278         250          278                       -7                             13                        20\n",
      "307      OKE            0.62                      0      310           324          310           330           321             314            311             326         310          330                      -14                              6                        20\n",
      "831      CRS           -2.46                      0      846           863          846           865           869             911            860             913         846          913                      -17                              2                        19\n",
      "756     BURL           -2.26                      0      769           788          769           788           781             808            781             838         769          838                      -19                              0                        19\n",
      "464      ONC            1.50                      0      470           489          470           489           523             496            493             541         470          541                      -19                              0                        19\n",
      "858     ENTG           -3.87                      0      874           886          874           892           903             948            891             965         874          965                      -12                              6                        18\n",
      "297      LNG            0.16                      0      300           306          300           318           303             308            302             313         300          318                       -6                             12                        18\n",
      "348       JD            1.14                      0      352           367          352           370           387             365            365             398         352          398                      -15                              3                        18\n",
      "791     COHR           -3.91                      0      804           821          804           821           833             907            833             913         804          913                      -17                              0                        17\n",
      "164     HOOD           -3.57                      0      166           183          166           183           182             245            182             248         166          248                      -17                              0                        17\n",
      "969       SF           -3.54                      0      990          1007          990          1007           993            1059            993            1062         990         1062                      -17                              0                        17\n",
      "194     RBLX           -0.26                      0      196           213          196           213           219             242            219             245         196          245                      -17                              0                        17\n",
      "1079    PLNT            0.80                      0     1105          1114         1105          1122          1111            1128           1109            1154        1105         1154                       -9                              8                        17\n",
      "1039     WBS           -4.38                      0     1064          1079         1064          1080          1067            1141           1067            1152        1064         1152                      -15                              1                        16\n",
      "483      UAL           -2.65                      0      489           505          489           505           500             542            493             566         489          566                      -16                              0                        16\n",
      "829     CGGR           -1.88                      0      844           857          844           860           872             901            865             907         844          907                      -13                              3                        16\n",
      "240      NET           -0.04                      0      242           258          242           258           265             265            246             265         242          265                      -16                              0                        16\n",
      "760      LNT            0.31                      0      773           789          773           789           785             787            774             800         773          800                      -16                              0                        16\n",
      "1106     QLD           -2.75                      0     1140          1141         1140          1155          1156            1214           1151            1215        1140         1215                       -1                             14                        15\n",
      "1285     IGM           -1.56                      0     1346          1358         1346          1361          1371            1401           1349            1405        1346         1405                      -12                              3                        15\n",
      "309      AMP           -0.72                      0      312           327          312           327           318             327            315             333         312          333                      -15                              0                        15\n",
      "246      APD           -0.51                      0      248           263          248           263           259             261            258             275         248          275                      -15                              0                        15\n",
      "864     ROKU           -2.54                      0      880           892          880           894           899             935            899             946         880          946                      -12                              2                        14\n",
      "537      TDY           -1.62                      0      546           560          546           560           561             595            561             596         546          596                      -14                              0                        14\n",
      "363     GRMN           -1.04                      0      367           381          367           381           383             398            383             404         367          404                      -14                              0                        14\n",
      "735       RS           -0.68                      0      746           760          746           760           753             770            746             770         746          770                      -14                              0                        14\n",
      "266      NSC           -0.34                      0      268           282          268           282           282             288            277             289         268          289                      -14                              0                        14\n",
      "846      MTZ            0.35                      0      862           876          862           876           881             885            870             896         862          896                      -14                              0                        14\n",
      "183     DELL           -0.70                      0      185           191          185           198           190             206            187             206         185          206                       -6                              7                        13\n",
      "212      HWM           -0.31                      0      214           224          214           227           225             237            220             240         214          240                      -10                              3                        13\n",
      "625       CG           -5.89                      0      636           648          636           648           643             737            643             742         636          742                      -12                              0                        12\n",
      "1078     AES           -4.92                      0     1104          1110         1104          1116          1142            1187           1112            1274        1104         1274                       -6                              6                        12\n",
      "143     COIN           -3.96                      0      145           157          145           157           156             248            156             251         145          251                      -12                              0                        12\n",
      "443      CCJ           -0.63                      0      448           460          448           460           463             483            462             483         448          483                      -12                              0                        12\n",
      "82      SHOP           -0.35                      0       83            95           83            95            94             101             94             103          83          103                      -12                              0                        12\n",
      "556     PINS           -0.09                      0      566           568          566           578           576             575            568             595         566          595                       -2                             10                        12\n",
      "1031    SPMO           -4.21                      0     1054          1062         1054          1065          1069            1159           1069            1159        1054         1159                       -8                              3                        11\n",
      "582      WDC           -2.26                      0      592           592          592           603           600             659            600             659         592          659                        0                             11                        11\n",
      "247     CARR           -1.00                      0      249           260          249           260           256             271            256             279         249          279                      -11                              0                        11\n",
      "253      CSX           -0.34                      0      255           266          255           266           264             270            263             276         255          276                      -11                              0                        11\n",
      "795      WWD           -0.08                      0      808           819          808           819           825             836            818             838         808          838                      -11                              0                        11\n",
      "173       SE            1.23                      0      175           186          175           186           198             182            180             204         175          204                      -11                              0                        11\n",
      "100     ANET           -1.24                      0      102           112          102           112           112             129            112             138         102          138                      -10                              0                        10\n",
      "296     FLUT           -1.06                      0      299           309          299           309           312             337            312             342         299          342                      -10                              0                        10\n",
      "460      RJF           -0.95                      0      466           476          466           476           472             487            468             487         466          487                      -10                              0                        10\n",
      "277     ARES           -0.45                      0      280           290          280           290           284             295            284             297         280          297                      -10                              0                        10\n",
      "650      RBA            0.17                      0      661           671          661           671           665             663            663             683         661          683                      -10                              0                        10\n",
      "1051    TTEK            0.25                      0     1077          1087         1077          1087          1080            1091           1080            1107        1077         1107                      -10                              0                        10\n",
      "373     KVUE            0.64                      0      377           387          377           387           382             384            382             398         377          398                      -10                              0                        10\n",
      "663     FLEX           -3.56                      0      674           683          674           683           681             757            679             757         674          757                       -9                              0                         9\n",
      "509     TQQQ           -1.70                      0      516           521          516           525           529             562            520             564         516          564                       -5                              4                         9\n",
      "1021    AVDV           -1.46                      0     1044          1047         1044          1053          1060            1097           1059            1110        1044         1110                       -3                              6                         9\n",
      "822     FTEC           -1.09                      0      837           846          837           846           853             874            849             874         837          874                       -9                              0                         9\n",
      "185     IBIT           -1.03                      0      187           189          187           196           196             228            196             233         187          233                       -2                              7                         9\n",
      "934      NLY            0.35                      0      953           962          953           962           960             959            954             986         953          986                       -9                              0                         9\n",
      "416      ETR            0.38                      0      421           430          421           430           433             429            427             438         421          438                       -9                              0                         9\n",
      "750     ZBRA           -2.71                      0      762           770          762           770           770             807            764             812         762          812                       -8                              0                         8\n",
      "983     AVEM           -0.90                      0     1004          1012         1004          1012          1019            1041           1018            1045        1004         1045                       -8                              0                         8\n",
      "828      IWY           -0.50                      0      843           851          843           851           862             869            851             872         843          872                       -8                              0                         8\n",
      "278      PWR           -0.35                      0      281           287          281           289           291             300            289             300         281          300                       -6                              2                         8\n",
      "349      CCI           -0.06                      0      353           361          353           361           362             368            353             368         353          368                       -8                              0                         8\n",
      "441      WEC            0.41                      0      446           454          446           454           457             452            447             463         446          463                       -8                              0                         8\n",
      "954     SEIC           -3.04                      0      974           981          974           981           982            1026            976            1030         974         1030                       -7                              0                         7\n",
      "706     VOOG           -0.57                      0      717           723          717           724           728             739            725             746         717          746                       -6                              1                         7\n",
      "452      KHC           -0.45                      0      457           464          457           464           462             479            462             485         457          485                       -7                              0                         7\n",
      "239       CM           -0.38                      0      241           248          241           248           247             254            245             257         241          257                       -7                              0                         7\n",
      "111      BHP           -0.35                      0      113           120          113           120           115             123            114             126         113          126                       -7                              0                         7\n",
      "234      MSI           -0.17                      0      236           243          236           243           241             243            236             245         236          245                       -7                              0                         7\n",
      "243      BCS           -0.12                      0      245           252          245           252           255             259            252             269         245          269                       -7                              0                         7\n",
      "390      XEL            0.04                      0      394           401          394           401           399             401            396             407         394          407                       -7                              0                         7\n",
      "50       DIS            0.12                      0       51            58           51            58            58              52             51              58          51           58                       -7                              0                         7\n",
      "502      DTE            0.27                      0      509           516          509           516           518             517            514             529         509          529                       -7                              0                         7\n",
      "405      CCL           -4.25                      0      410           416          410           416           411             475            410             482         410          482                       -6                              0                         6\n",
      "554      EME           -3.13                      0      564           570          564           570           565             613            565             618         564          618                       -6                              0                         6\n",
      "393      ROK           -1.02                      0      397           403          397           403           407             422            405             424         397          424                       -6                              0                         6\n",
      "201      EMR           -0.77                      0      203           208          203           209           210             221            208             222         203          222                       -5                              1                         6\n",
      "430     SCHB           -0.51                      0      435           439          435           441           443             455            441             455         435          455                       -4                              2                         6\n",
      "408      SYY           -0.19                      0      413           418          413           419           417             423            417             425         413          425                       -5                              1                         6\n",
      "48      HSBC           -0.07                      0       49            55           49            55            56              57             55              60          49           60                       -6                              0                         6\n",
      "238      BNS            0.12                      0      240           246          240           246           245             241            241             246         240          246                       -6                              0                         6\n",
      "49       LIN            0.13                      0       50            54           50            56            54              51             51              54          50           56                       -4                              2                         6\n",
      "287      AEP            0.13                      0      290           296          290           296           295             296            291             300         290          300                       -6                              0                         6\n",
      "276      DLR            0.72                      0      279           285          279           285           290             283            279             293         279          293                       -6                              0                         6\n",
      "208      PNC           -1.60                      0      210           215          210           215           211             236            210             238         210          238                       -5                              0                         5\n",
      "672      FIX           -1.25                      0      683           688          683           688           693             719            693             721         683          721                       -5                              0                         5\n",
      "403     SPYG           -0.85                      0      407           412          407           412           412             428            409             428         407          428                       -5                              0                         5\n",
      "425     DFAC           -0.83                      0      430           433          430           435           437             449            431             449         430          449                       -3                              2                         5\n",
      "303     FAST           -0.72                      0      306           311          306           311           316             329            316             339         306          339                       -5                              0                         5\n",
      "197      XLK           -0.60                      0      199           204          199           204           205             216            202             216         199          216                       -5                              0                         5\n",
      "335      CMI           -0.54                      0      339           344          339           344           349             353            348             365         339          365                       -5                              0                         5\n",
      "359     CCEP           -0.35                      0      363           368          363           368           367             371            364             379         363          379                       -5                              0                         5\n",
      "121      APH           -0.16                      0      123           128          123           128           128             135            128             136         123          136                       -5                              0                         5\n",
      "237       BK           -0.08                      0      239           244          239           244           244             252            244             260         239          260                       -5                              0                         5\n",
      "633      TPR           -3.44                      0      644           644          644           648           647             723            647             729         644          729                        0                              4                         4\n",
      "1352    ARKB           -1.34                      0     1444          1445         1444          1448          1444            1476           1444            1491        1444         1491                       -1                              3                         4\n",
      "293     QQQM           -0.99                      0      296           300          296           300           302             321            301             321         296          321                       -4                              0                         4\n",
      "289     CPNG           -0.78                      0      292           293          292           296           297             313            293             313         292          313                       -1                              3                         4\n",
      "301      TEL           -0.77                      0      304           307          304           308           310             324            307             329         304          329                       -3                              1                         4\n",
      "102      COF           -0.66                      0      104           108          104           108           104             115            104             118         104          118                       -4                              0                         4\n",
      "260      CRH           -0.65                      0      262           264          262           266           263             269            262             279         262          279                       -2                              2                         4\n",
      "506      MGK           -0.64                      0      513           517          513           517           524             539            521             539         513          539                       -4                              0                         4\n",
      "51        GS           -0.53                      0       52            56           52            56            55              65             55              65          52           65                       -4                              0                         4\n",
      "343      VEU           -0.15                      0      347           350          347           351           352             351            349             360         347          360                       -3                              1                         4\n",
      "222      RSP           -0.12                      0      224           227          224           228           228             226            224             235         224          235                       -3                              1                         4\n",
      "101      VTV           -0.03                      0      103           103          103           107           106             107            104             110         103          110                        0                              4                         4\n",
      "242     BNDX            0.03                      0      244           247          244           248           248             249            246             251         244          251                       -3                              1                         4\n",
      "76      SCHW            0.05                      0       77            80           77            81            80              79             78              80          77           81                       -3                              1                         4\n",
      "344     IXUS            0.14                      0      348           351          348           352           354             348            348             356         348          356                       -3                              1                         4\n",
      "793      WES            0.43                      0      806           810          806           810           813             815            812             831         806          831                       -4                              0                         4\n",
      "167      RCL           -3.31                      0      169           170          169           172           170             223            169             226         169          226                       -1                              2                         3\n",
      "251      HLT           -1.72                      0      253           255          253           256           253             284            253             284         253          284                       -2                              1                         3\n",
      "612      IYW           -1.26                      0      623           626          623           626           630             656            625             656         623          656                       -3                              0                         3\n",
      "1033    BINC           -0.85                      0     1056          1059         1056          1059          1061            1087           1060            1091        1056         1091                       -3                              0                         3\n",
      "75         C           -0.71                      0       76            78           76            79            82              93             80              94          76           94                       -2                              1                         3\n",
      "367       VV           -0.60                      0      371           371          371           374           375             387            375             387         371          387                        0                              3                         3\n",
      "160      VGT           -0.52                      0      162           165          162           165           168             178            166             178         162          178                       -3                              0                         3\n",
      "1068     XLG           -0.36                      0     1094          1097         1094          1097          1102            1116           1102            1120        1094         1120                       -3                              0                         3\n",
      "46        MS           -0.34                      0       47            48           47            50            48              56             48              56          47           56                       -1                              2                         3\n",
      "28       QQQ           -0.03                      0       29            29           29            32            30              30             29              31          29           32                        0                              3                         3\n",
      "27      PLTR            0.01                      0       28            31           28            31            31              33             31              35          28           35                       -3                              0                         3\n",
      "47        TM            0.26                      0       48            51           48            51            52              48             48              53          48           53                       -3                              0                         3\n",
      "87       NEE           -0.09                      0       89            90           89            91            89              90             89             100          89          100                       -1                              1                         2\n",
      "353     SCHG           -0.88                      0      357           358          357           358           363             381            360             381         357          381                       -1                              0                         1\n",
      "227     ITOT           -0.57                      0      229           230          229           230           234             244            232             244         229          244                       -1                              0                         1\n",
      "35        GE           -0.20                      0       36            36           36            37            37              45             37              45          36           45                        0                              1                         1\n",
      "21       VTI           -0.08                      0       22            22           22            23            22              24             22              24          22           24                        0                              1                         1\n",
      "15       VOO           -0.01                      0       16            16           16            17            16              17             16              17          16           17                        0                              1                         1\n",
      "33        KO            0.01                      0       34            35           34            35            35              35             34              35          34           35                       -1                              0                         1\n",
      "4      GOOGL            0.02                      0        5             5            5             6             6               5              5               6           5            6                        0                              1                         1\n",
      "61       RTX            0.16                      0       62            62           62            63            63              64             62              69          62           69                        0                              1                         1\n",
      "147     WELL            0.21                      0      149           149          149           150           150             153            149             156         149          156                        0                              1                         1\n",
      "0       NVDA           -0.07                      0        1             1            1             1             1               2              1               2           1            2                        0                              0                         0\n",
      "12       JPM           -0.07                      0       13            13           13            13            13              15             13              15          13           15                        0                              0                         0\n",
      "25       JNJ           -0.06                      0       26            26           26            26            26              27             26              28          26           28                        0                              0                         0\n",
      "73       VUG           -0.04                      0       74            74           74            74            74              78             74              78          74           78                        0                              0                         0\n",
      "8        TSM           -0.01                      0        9             9            9             9             9               9              9              10           9           10                        0                              0                         0\n",
      "2       AAPL           -0.00                      0        3             3            3             3             3               3              3               3           3            3                        0                              0                         0\n",
      "3       AMZN           -0.00                      0        4             4            4             4             4               4              4               4           4            4                        0                              0                         0\n",
      "6       META           -0.00                      0        7             7            7             7             7               7              7               7           7            7                        0                              0                         0\n",
      "7       AVGO           -0.00                      0        8             8            8             8             8               8              8               8           8            8                        0                              0                         0\n",
      "20      NFLX            0.00                      0       21            21           21            21            21              21             21              21          21           21                        0                              0                         0\n",
      "24      COST           -0.00                      0       25            25           25            25            25              25             25              25          25           25                        0                              0                         0\n",
      "688     PSTG           -1.04                      1      699           732          699           732           735             740            698             740         698          740                      -33                              0                        33\n",
      "1250    RMBS           -0.48                      1     1306          1334         1305          1334          1363            1354           1321            1369        1305         1369                      -28                              0                        28\n",
      "467      OWL           -0.26                      1      473           496          472           496           491             494            489             501         472          501                      -23                              0                        23\n",
      "799      SGI           -2.52                      1      812           829          812           829           822             859            811             864         811          864                      -17                              0                        17\n",
      "274      TRV            0.73                      1      276           291          276           292           288             279            275             291         275          292                      -15                              1                        16\n",
      "990      PNW            0.87                      1     1011          1026         1011          1026          1022            1015           1010            1032        1010         1032                      -15                              0                        15\n",
      "765      WMG           -3.02                      1      778           792          777           792           792             841            792             852         777          852                      -14                              0                        14\n",
      "936     CIEN           -1.17                      1      955           969          954           969           986            1030            972            1030         954         1030                      -14                              0                        14\n",
      "923      CNM           -2.76                      1      942           954          942           954           952             995            941             995         941          995                      -12                              0                        12\n",
      "698      EEM            0.33                      1      709           718          709           721           722             716            708             726         708          726                       -9                              3                        12\n",
      "433     GEHC           -0.62                      1      438           448          438           448           451             450            437             462         437          462                      -10                              0                        10\n",
      "1341    CGUS           -0.34                      1     1426          1428         1426          1436          1435            1446           1425            1446        1425         1446                       -2                              8                        10\n",
      "671     TRMB           -2.34                      1      682           690          681           690           694             726            690             734         681          734                       -8                              0                         8\n",
      "772     ARCC           -0.65                      1      785           793          784           793           793             810            790             812         784          812                       -8                              0                         8\n",
      "382     TCOM           -0.49                      1      386           385          385           394           397             396            393             417         385          417                        1                              9                         8\n",
      "345      GLW           -0.10                      1      349           357          348           357           358             362            355             366         348          366                       -8                              0                         8\n",
      "1082    SRAD           -5.03                      1     1109          1116         1108          1116          1130            1238           1130            1238        1108         1238                       -7                              0                         7\n",
      "327        D           -0.68                      1      331           338          331           338           335             344            330             347         330          347                       -7                              0                         7\n",
      "1010    SPTM           -0.57                      1     1031          1030         1030          1038          1038            1045           1033            1047        1030         1047                        1                              8                         7\n",
      "946      SNX           -2.69                      1      966           972          966           972           973            1022            965            1024         965         1024                       -6                              0                         6\n",
      "553       ON           -2.07                      1      563           569          563           569           570             600            562             620         562          620                       -6                              0                         6\n",
      "463      XYL           -0.43                      1      469           475          468           475           474             473            468             479         468          479                       -6                              0                         6\n",
      "521      AEE            0.33                      1      530           536          530           536           536             535            529             544         529          544                       -6                              0                         6\n",
      "60        BX           -0.69                      1       61            66           60            66            65              77             64              77          60           77                       -5                              0                         5\n",
      "210     SPLG           -0.60                      1      212           211          211           217           216             231            216             238         211          238                        1                              6                         5\n",
      "95       ETN           -0.43                      1       97           102           96           102           105             111            103             112          96          112                       -5                              0                         5\n",
      "230      JCI           -0.13                      1      232           237          231           237           237             239            237             248         231          248                       -5                              0                         5\n",
      "668     DYNF           -1.55                      1      679           678          678           683           680             708            680             708         678          708                        1                              5                         4\n",
      "796      TXT           -1.39                      1      809           811          809           813           808             839            808             843         808          843                       -2                              2                         4\n",
      "392     MCHP           -1.33                      1      396           400          396           400           398             417            395             421         395          421                       -4                              0                         4\n",
      "139       BN           -0.63                      1      141           145          140           145           145             158            145             159         140          159                       -4                              0                         4\n",
      "395      IVE           -0.25                      1      399           398          398           403           400             402            398             405         398          405                        1                              5                         4\n",
      "557     CBOE           -0.18                      1      567           571          566           571           569             584            567             584         566          584                       -4                              0                         4\n",
      "531      PPL            0.79                      1      540           540          540           544           555             552            539             567         539          567                        0                              4                         4\n",
      "1393    BITB           -0.23                      1     1488          1489         1487          1491          1493            1510           1490            1513        1487         1513                       -1                              2                         3\n",
      "418      EQT            1.07                      1      423           426          422           426           429             432            423             456         422          456                       -3                              0                         3\n",
      "1422     IYF           -2.00                      1     1517          1516         1516          1519          1520            1554           1519            1554        1516         1554                        1                              3                         2\n",
      "156     IEMG           -0.45                      1      158           160          158           160           162             167            157             169         157          169                       -2                              0                         2\n",
      "66       CAT           -0.33                      1       67            69           66            69            69              76             69              76          66           76                       -2                              0                         2\n",
      "9       TSLA            0.07                      1       10            12           10            12            12              10              9              12           9           12                       -2                              0                         2\n",
      "93       PDD            0.16                      1       95            97           95            97           102              98             94             102          94          102                       -2                              0                         2\n",
      "112      BND            0.16                      1      114           114          114           116           116             114            113             117         113          117                        0                              2                         2\n",
      "135      UBS           -0.86                      1      137           138          137           138           138             147            136             155         136          155                       -1                              0                         1\n",
      "149       SO           -0.09                      1      151           152          151           152           154             155            150             155         150          155                       -1                              0                         1\n",
      "16      ORCL           -0.07                      1       17            18           16            18            18              19             18              20          16           20                       -1                              0                         1\n",
      "10     BRK-A            0.00                      1       11            10           10            12            11              11             10              12          10           12                        1                              2                         1\n",
      "99      IEFA            0.03                      1      101           100          100           102           101             102            100             105         100          105                        1                              2                         1\n",
      "39       IBM            0.10                      1       40            41           40            41            42              40             39              42          39           42                       -1                              0                         1\n",
      "138      BTI            0.19                      1      140           139          139           141           139             139            139             148         139          148                        1                              2                         1\n",
      "328      LHX           -0.50                      1      332           331          331           332           331             347            331             349         331          349                        1                              1                         0\n",
      "37      CSCO           -0.12                      1       38            38           38            38            40              41             37              41          37           41                        0                              0                         0\n",
      "5       GOOG           -0.02                      1        6             6            5             6             5               6              5               6           5            6                        0                              0                         0\n",
      "19       IVV           -0.00                      1       20            20           20            20            20              20             19              20          19           20                        0                              0                         0\n",
      "22        MA            0.01                      1       23            23           22            23            23              22             22              24          22           24                        0                              0                         0\n",
      "36        PM            0.02                      1       37            37           36            37            36              36             36              37          36           37                        0                              0                         0\n",
      "13       WMT            0.03                      1       14            14           14            14            14              14             13              14          13           14                        0                              0                         0\n",
      "1       MSFT            0.07                      1        2             2            2             2             2               1              1               2           1            2                        0                              0                         0\n",
      "18       SPY            0.07                      1       19            19           19            19            19              18             18              19          18           19                        0                              0                         0\n",
      "26        PG            0.07                      1       27            27           27            27            28              26             26              28          26           28                        0                              0                         0\n",
      "475      QSR            0.62                      2      481           627          479           627           628             610            608             632         479          632                     -146                              0                       146\n",
      "1150     NIO           -1.07                      2     1188          1204         1186          1230          1226            1314           1226            1370        1186         1370                      -16                             26                        42\n",
      "1094    ESTC            0.07                      2     1125          1144         1125          1144          1139            1157           1123            1162        1123         1162                      -19                              0                        19\n",
      "951      JEF           -0.06                      2      971           984          971           988           985             989            969             998         969          998                      -13                              4                        17\n",
      "1013    DFAS           -1.67                      2     1034          1032         1032          1049          1043            1070           1034            1071        1032         1071                        2                             17                        15\n",
      "811     EWBC           -3.93                      2      825           836          825           836           829             894            823             901         823          901                      -11                              0                        11\n",
      "920     MANH           -0.74                      2      939           950          937           950           954             956            940             972         937          972                      -11                              0                        11\n",
      "215      RIO            0.00                      2      217           228          217           228           222             219            215             234         215          234                      -11                              0                        11\n",
      "376      PEG            0.44                      2      380           390          380           391           390             389            378             395         378          395                      -10                              1                        11\n",
      "312      XLF           -0.74                      2      315           313          313           325           322             331            316             334         313          334                        2                             12                        10\n",
      "445      MLM           -0.43                      2      450           457          450           460           452             459            448             466         448          466                       -7                              3                        10\n",
      "472      WBD           -1.83                      2      478           487          476           487           488             528            488             536         476          536                       -9                              0                         9\n",
      "1053     WCC           -3.48                      2     1079          1086         1077          1086          1094            1149           1091            1173        1077         1173                       -7                              0                         7\n",
      "65       PEP            0.15                      2       66            73           64            73            72              70             70              75          64           75                       -7                              0                         7\n",
      "213      ECL            0.16                      2      215           222          215           222           218             213            213             219         213          222                       -7                              0                         7\n",
      "651      SDY           -0.12                      2      662           660          660           668           663             661            660             673         660          673                        2                              8                         6\n",
      "38      BABA            0.56                      2       39            42           39            45            45              38             37              47          37           47                       -3                              3                         6\n",
      "219      NOC            0.29                      2      221           225          220           226           223             225            219             237         219          237                       -4                              1                         5\n",
      "1431     AIQ           -0.82                      2     1526          1530         1526          1530          1531            1549           1524            1549        1524         1549                       -4                              0                         4\n",
      "362     FERG           -0.51                      2      366           369          366           370           369             380            364             380         364          380                       -3                              1                         4\n",
      "232     SCHD            0.10                      2      234           234          234           238           235             232            232             245         232          245                        0                              4                         4\n",
      "966     ARMK           -1.69                      2      987           989          987           990           990            1017            985            1030         985         1030                       -2                              1                         3\n",
      "40       WFC           -0.36                      2       41            44           41            44            39              46             39              46          39           46                       -3                              0                         3\n",
      "1027    SCHE            0.12                      2     1050          1052         1048          1053          1056            1057           1048            1070        1048         1070                       -2                              1                         3\n",
      "638      OEF           -0.90                      2      649           647          647           651           653             666            648             669         647          669                        2                              4                         2\n",
      "79       BLK           -0.64                      2       80            82           79            82            78              88             78              90          78           90                       -2                              0                         2\n",
      "302     QUAL           -0.37                      2      305           303          303           307           305             310            305             312         303          312                        2                              4                         2\n",
      "314     SGOV            0.06                      2      317           316          315           319           320             325            318             330         315          330                        1                              3                         2\n",
      "273      SPG           -0.43                      2      275           276          273           276           275             282            273             282         273          282                       -1                              0                         1\n",
      "137      IWF           -0.04                      2      139           140          139           140           141             141            137             142         137          142                       -1                              0                         1\n",
      "291     SCHX           -0.01                      2      294           292          292           295           294             297            293             298         292          298                        2                              3                         1\n",
      "397      TTD           -1.45                      2      401           399          399           401           424             436            418             455         399          455                        2                              2                         0\n",
      "77        BA           -0.74                      2       78            76           76            78            77              89             77              92          76           92                        2                              2                         0\n",
      "272      IVW           -0.57                      2      274           274          272           274           277             287            274             287         272          287                        0                              0                         0\n",
      "44       AMD           -0.56                      2       45            45           43            45            46              60             46              60          43           60                        0                              0                         0\n",
      "11     BRK-B           -0.06                      2       12            11           11            12            10              12             10              12          10           12                        1                              1                         0\n",
      "34      ASML           -0.02                      2       35            34           34            35            34              34             33              35          33           35                        1                              1                         0\n",
      "32      ABBV           -0.00                      2       33            33           33            33            33              31             31              33          31           33                        0                              0                         0\n",
      "17         V            0.01                      2       18            17           17            18            17              16             16              17          16           18                        1                              1                         0\n",
      "14       LLY            0.04                      2       15            15           15            15            15              13             13              15          13           15                        0                              0                         0\n",
      "23       XOM            0.06                      2       24            24           24            24            24              23             22              24          22           24                        0                              0                         0\n",
      "1257     DDS           -2.00                      3     1314          1373         1314          1373          1352            1357           1311            1396        1311         1396                      -59                              0                        59\n",
      "973      ZTO           -1.07                      3      994          1013          994          1022          1020            1020            991            1048         991         1048                      -19                              9                        28\n",
      "887     ALLE           -2.33                      3      903           926          900           926           918             954            907             954         900          954                      -23                              0                        23\n",
      "736      SNA           -0.02                      3      747           769          744           769           762             760            760             770         744          770                      -22                              0                        22\n",
      "474     LPLA            0.20                      3      480           491          480           495           492             481            477             511         477          511                      -11                              4                        15\n",
      "653      KEY           -3.71                      3      664           675          664           678           671             724            661             727         661          727                      -11                              3                        14\n",
      "527     TOST            0.08                      3      536           550          533           550           553             556            538             572         533          572                      -14                              0                        14\n",
      "320      SRE            0.53                      3      323           337          323           337           337             335            320             337         320          337                      -14                              0                        14\n",
      "432      LYV            0.70                      3      437           451          437           451           447             457            434             457         434          457                      -14                              0                        14\n",
      "591     EXPE           -1.92                      3      601           607          601           613           602             632            598             640         598          640                       -6                              6                        12\n",
      "159      BAM           -0.04                      3      161           172          158           172           173             176            172             183         158          183                      -11                              0                        11\n",
      "674      VBK           -0.68                      3      685           682          682           695           691             703            682             703         682          703                        3                             13                        10\n",
      "114      KKR           -0.96                      3      116           123          113           123           123             137            120             139         113          139                       -7                              0                         7\n",
      "409      RMD            0.31                      3      414           419          414           421           422             415            411             422         411          422                       -5                              2                         7\n",
      "155       TT            0.04                      3      157           163          154           163           160             160            160             165         154          165                       -6                              0                         6\n",
      "498      STM           -2.09                      3      505           510          505           510           512             533            502             542         502          542                       -5                              0                         5\n",
      "179     RACE           -0.69                      3      181           185          178           185           186             193            181             195         178          195                       -4                              0                         4\n",
      "581     IUSG           -0.55                      3      591           588          588           595           594             604            588             609         588          609                        3                              7                         4\n",
      "177     SNPS           -2.02                      3      179           181          176           182           191             217            184             219         176          219                       -2                              1                         3\n",
      "1035    SPIB           -1.55                      3     1060          1057         1057          1063          1065            1095           1064            1099        1057         1099                        3                              6                         3\n",
      "172       PH           -0.99                      3      174           176          174           177           177             189            171             191         171          191                       -2                              1                         3\n",
      "528      VOD           -0.52                      3      537           539          534           540           539             548            535             551         534          551                       -2                              1                         3\n",
      "127      ADI           -0.30                      3      129           130          129           131           129             133            126             133         126          133                       -1                              1                         2\n",
      "241      EPD           -0.13                      3      243           242          242           245           240             240            240             248         240          248                        1                              3                         2\n",
      "305      URI           -2.58                      3      308           308          305           309           308             350            306             350         305          350                        0                              1                         1\n",
      "504     JEPQ           -1.02                      3      511           508          508           512           515             530            512             530         508          530                        3                              4                         1\n",
      "181      TDG           -0.82                      3      183           180          180           184           181             199            181             200         180          200                        3                              4                         1\n",
      "203       GD           -0.65                      3      205           205          205           206           202             215            202             215         202          215                        0                              1                         1\n",
      "426     CSGP           -0.63                      3      431           432          430           432           430             434            428             450         428          450                       -1                              0                         1\n",
      "64       TXN           -0.34                      3       65            63           63            66            62              69             62              69          62           69                        2                              3                         1\n",
      "117     LRCX           -0.48                      3      119           116          116           119           119             128            117             128         116          128                        3                              3                         0\n",
      "170      VWO           -0.42                      3      172           171          170           172           176             179            169             182         169          182                        1                              1                         0\n",
      "398     OTIS           -0.41                      3      402           402          401           402           402             405            399             414         399          414                        0                              0                         0\n",
      "72      BKNG           -0.11                      3       73            70           70            73            70              73             70              73          70           73                        3                              3                         0\n",
      "116       TD           -0.10                      3      118           117          116           118           117             121            115             121         115          121                        1                              1                         0\n",
      "41       CVX           -0.06                      3       42            40           39            42            41              43             39              45          39           45                        2                              2                         0\n",
      "45       CRM           -0.03                      3       46            46           46            46            44              44             43              45          43           46                        0                              0                         0\n",
      "29        HD           -0.01                      3       30            28           28            30            27              28             27              29          27           30                        2                              2                         0\n",
      "30       SAP            0.03                      3       31            30           28            31            32              29             29              32          28           32                        1                              1                         0\n",
      "70        RY            0.22                      3       71            71           70            71            71              68             68              74          68           74                        0                              0                         0\n",
      "1292    VIPS            2.49                      4     1353          1350         1350          1385          1388            1350           1349            1400        1349         1400                        3                             35                        32\n",
      "645      TPG           -2.24                      4      656           670          652           670           658             700            658             704         652          704                      -14                              0                        14\n",
      "713      TRU           -1.12                      4      724           738          724           738           732             743            720             750         720          750                      -14                              0                        14\n",
      "570      CNP            0.76                      4      580           593          580           593           593             585            576             597         576          597                      -13                              0                        13\n",
      "1196    BPOP           -2.24                      4     1246          1258         1246          1258          1242            1286           1242            1289        1242         1289                      -12                              0                        12\n",
      "602     DLTR           -1.52                      4      613           621          613           625           611             644            609             649         609          649                       -8                              4                        12\n",
      "640      CFG           -3.78                      4      651           662          647           662           655             713            650             717         647          717                      -11                              0                        11\n",
      "428      VMC           -0.51                      4      433           441          433           444           432             437            429             451         429          451                       -8                              3                        11\n",
      "396      BKR           -0.04                      4      400           406          400           411           401             400            396             417         396          417                       -6                              5                        11\n",
      "903     CART           -3.18                      4      919           915          915           928           928             970            916             985         915          985                        4                             13                         9\n",
      "250      IWM           -0.69                      4      252           249          249           259           251             264            248             268         248          268                        3                             10                         7\n",
      "404      FER           -0.37                      4      408           415          408           415           413             413            404             419         404          419                       -7                              0                         7\n",
      "862      HLI           -2.28                      4      878           884          874           884           883             933            883             937         874          937                       -6                              0                         6\n",
      "940      IWO           -1.11                      4      959           956          956           965           970             988            955             988         955          988                        3                              9                         6\n",
      "189     NTES            0.40                      4      191           195          191           196           199             192            187             205         187          205                       -4                              1                         5\n",
      "459      NUE           -2.41                      4      465           468          465           469           465             508            461             508         461          508                       -3                              1                         4\n",
      "424     EBAY            0.43                      4      429           431          429           433           431             425            425             450         425          450                       -2                              2                         4\n",
      "737      BSY           -2.22                      4      748           744          744           751           749             798            749             798         744          798                        4                              7                         3\n",
      "330       VT           -0.80                      4      334           330          330           337           332             346            330             347         330          347                        4                              7                         3\n",
      "357     MSCI           -0.69                      4      361           364          359           364           366             375            357             377         357          377                       -3                              0                         3\n",
      "145      AMT            0.14                      4      147           150          147           150           149             149            143             149         143          150                       -3                              0                         3\n",
      "236      MFG            0.29                      4      238           239          237           241           243             238            234             245         234          245                       -1                              2                         3\n",
      "461     DGRO           -0.30                      4      467           463          463           469           467             472            463             475         463          475                        4                              6                         2\n",
      "1084     VSS           -0.21                      4     1111          1107         1107          1113          1112            1119           1109            1131        1107         1131                        4                              6                         2\n",
      "206     ORLY           -0.14                      4      208           210          208           210           208             214            204             217         204          217                       -2                              0                         2\n",
      "607     JAAA            0.15                      4      618           614          614           620           620             629            614             629         614          629                        4                              6                         2\n",
      "284       DB           -0.42                      4      287           288          283           288           287             294            283             299         283          299                       -1                              0                         1\n",
      "94       SYK            0.02                      4       96            94           94            97            96              94             92              96          92           97                        2                              3                         1\n",
      "163     VXUS            0.03                      4      165           164          164           166           166             163            161             166         161          166                        1                              2                         1\n",
      "388     JEPI            0.10                      4      392           388          388           393           394             392            389             394         388          394                        4                              5                         1\n",
      "196       BP            0.18                      4      198           199          198           199           197             196            194             212         194          212                       -1                              0                         1\n",
      "1128     ITA           -1.44                      4     1163          1159         1159          1163          1187            1225           1187            1225        1159         1225                        4                              4                         0\n",
      "423      WAB           -0.66                      4      428           428          426           428           427             433            424             438         424          438                        0                              0                         0\n",
      "199      BMO           -0.46                      4      201           201          200           201           201             205            197             210         197          210                        0                              0                         0\n",
      "123     KLAC           -0.28                      4      125           121          121           125           126             131            125             135         121          135                        4                              4                         0\n",
      "62       MRK           -0.08                      4       63            61           61            63            59              61             59              64          59           64                        2                              2                         0\n",
      "84      SPGI           -0.05                      4       85            83           83            85            83              85             81              85          81           85                        2                              2                         0\n",
      "31       BAC           -0.01                      4       32            32           31            32            29              32             28              32          28           32                        0                              0                         0\n",
      "83       VEA            0.03                      4       84            81           81            84            81              80             80              83          80           84                        3                              3                         0\n",
      "136      MDT            0.05                      4      138           137          137           138           137             136            134             139         134          139                        1                              1                         0\n",
      "144     SBUX            0.07                      4      146           144          144           146           144             142            142             147         142          147                        2                              2                         0\n",
      "57       MCD            0.16                      4       58            57           57            58            57              54             54              62          54           62                        1                              1                         0\n",
      "1436    PAAA            0.27                      5     1533          1545         1533          1548          1545            1544           1528            1552        1528         1552                      -12                              3                        15\n",
      "1036    PCTY           -0.05                      5     1061          1073         1056          1073          1076            1065           1056            1087        1056         1087                      -12                              0                        12\n",
      "1108    DSGX            0.00                      5     1142          1153         1137          1153          1159            1168           1138            1173        1137         1173                      -11                              0                        11\n",
      "786      CLX           -0.01                      5      799           808          794           808           799             794            794             826         794          826                       -9                              0                         9\n",
      "824      QXO           -4.24                      5      839           847          837           847           860             961            834             961         834          961                       -8                              0                         8\n",
      "188      APO           -0.88                      5      190           198          185           198           193             208            193             213         185          213                       -8                              0                         8\n",
      "646     SSNC           -0.50                      5      657           665          657           665           659             660            652             671         652          671                       -8                              0                         8\n",
      "507     KEYS           -0.12                      5      514           512          512           522           513             510            509             517         509          522                        2                             10                         8\n",
      "588     CINF            0.56                      5      598           604          598           606           601             594            593             607         593          607                       -6                              2                         8\n",
      "1332    CGGO            0.01                      5     1408          1404         1403          1415          1416            1422           1405            1435        1403         1435                        4                             11                         7\n",
      "529      SYF           -3.17                      5      538           543          538           543           534             587            533             590         533          590                       -5                              0                         5\n",
      "471       DD           -2.13                      5      477           477          477           482           478             504            472             512         472          512                        0                              5                         5\n",
      "1093    PARA           -1.07                      5     1124          1119         1119          1129          1120            1161           1120            1161        1119         1161                        5                             10                         5\n",
      "341      TGT           -1.18                      5      345           348          345           349           342             355            340             366         340          366                       -3                              1                         4\n",
      "1367    SPXL           -1.08                      5     1460          1464         1460          1464          1462            1478           1455            1482        1455         1482                       -4                              0                         4\n",
      "371     ROST           -0.25                      5      375           379          375           379           371             370            370             384         370          384                       -4                              0                         4\n",
      "202     FTNT            0.46                      5      204           206          204           208           209             201            199             218         199          218                       -2                              2                         4\n",
      "1008    ESGV           -0.75                      5     1029          1024         1024          1032          1029            1043           1025            1044        1024         1044                        5                              8                         3\n",
      "200      IJR           -0.33                      5      202           200          200           205           200             207            197             208         197          208                        2                              5                         3\n",
      "162      IJH           -0.22                      5      164           161          161           167           163             164            159             167         159          167                        3                              6                         3\n",
      "434     VICI           -0.22                      5      439           436          436           442           434             441            434             445         434          445                        3                              6                         3\n",
      "383      IWB           -0.09                      5      387           382          382           390           391             391            386             392         382          392                        5                              8                         3\n",
      "186     ABNB           -0.05                      5      188           190          188           191           187             183            183             197         183          197                       -2                              1                         3\n",
      "288      DEO            0.02                      5      291           294          290           294           293             286            286             294         286          294                       -3                              0                         3\n",
      "377      IMO            0.11                      5      381           380          380           384           376             385            376             393         376          393                        1                              4                         3\n",
      "259      EFA            0.23                      5      261           261          261           264           262             257            256             267         256          267                        0                              3                         3\n",
      "1240      DY           -1.38                      5     1295          1295         1295          1297          1290            1324           1290            1326        1290         1326                        0                              2                         2\n",
      "662      XLU           -0.81                      5      673           668          668           675           673             695            673             704         668          704                        5                              7                         2\n",
      "42      TMUS           -0.01                      5       43            43           43            45            43              39             38              43          38           45                        0                              2                         2\n",
      "902      DRS           -1.49                      5      918           919          913           919           919             962            919             975         913          975                       -1                              0                         1\n",
      "787     DFUS           -0.83                      5      800           798          798           801           800             814            795             815         795          815                        2                              3                         1\n",
      "218      ITW           -0.56                      5      220           221          219           221           221             224            215             230         215          230                       -1                              0                         1\n",
      "171      VIG           -0.06                      5      173           169          169           174           169             169            168             171         168          174                        4                              5                         1\n",
      "115    CMCSA            0.02                      5      117           115          115           118           113             113            112             116         112          118                        2                              3                         1\n",
      "85      AMGN            0.13                      5       86            86           85            87            85              81             81              94          81           94                        0                              1                         1\n",
      "456     IUSB            0.20                      5      462           462          462           463           464             462            457             465         457          465                        0                              1                         1\n",
      "92       HON           -0.40                      5       94            93           93            94            91              95             89             100          89          100                        1                              1                         0\n",
      "561     USHY           -0.34                      5      571           566          566           571           572             589            572             592         566          592                        5                              5                         0\n",
      "68       HDB            0.10                      5       69            68           68            69            68              66             64              68          64           69                        1                              1                         0\n",
      "1239    STEP           -2.99                      6     1294          1341         1288          1341          1340            1393           1340            1407        1288         1407                      -47                              0                        47\n",
      "870      BNT           -1.87                      6      886           912          880           912           910             952            910             954         880          954                      -26                              0                        26\n",
      "947     SPSM           -1.26                      6      967           961          961           977           966             998            966             998         961          998                        6                             16                        10\n",
      "794     PFGC           -1.11                      6      807           816          801           816           817             855            817             870         801          870                       -9                              0                         9\n",
      "154      CEG            0.02                      6      156           155          155           165           152             157            150             163         150          165                        1                             10                         9\n",
      "505       BR            0.51                      6      512           520          512           521           519             509            506             522         506          522                       -8                              1                         9\n",
      "1133    DFAU           -1.00                      6     1168          1162         1162          1176          1171            1193           1171            1198        1162         1198                        6                             14                         8\n",
      "847     SOXX           -1.74                      6      863           870          857           870           866             913            859             913         857          913                       -7                              0                         7\n",
      "1023    QGEN            0.17                      6     1046          1053         1043          1053          1049            1040           1040            1054        1040         1054                       -7                              0                         7\n",
      "848     GSLC           -0.04                      6      864           860          860           870           867             868            858             868         858          870                        4                             10                         6\n",
      "122      APP            0.57                      6      124           129          124           130           131             118            118             138         118          138                       -5                              1                         6\n",
      "229     PYPL           -0.47                      6      231           236          229           236           233             230            225             249         225          249                       -5                              0                         5\n",
      "400      HEI            0.05                      6      404           409          404           409           406             418            398             422         398          422                       -5                              0                         5\n",
      "81       ARM            0.24                      6       82            87           82            87            92              92             76              92          76           92                       -5                              0                         5\n",
      "977      HDV            0.41                      6      998           992          992          1003           999             993            992            1008         992         1008                        6                             11                         5\n",
      "351      KDP            0.42                      6      355           360          353           360           360             349            349             360         349          360                       -5                              0                         5\n",
      "917     LECO           -2.53                      6      936           936          934           940           933             973            930             981         930          981                        0                              4                         4\n",
      "839      PFF            0.02                      6      854           848          848           858           852             858            849             870         848          870                        6                             10                         4\n",
      "610      XLI           -0.88                      6      621           615          615           624           621             634            615             643         615          643                        6                              9                         3\n",
      "221     CVNA           -1.94                      6      223           223          220           225           226             266            217             266         217          266                        0                              2                         2\n",
      "669     CGDV           -1.88                      6      680           674          674           682           676             720            676             722         674          722                        6                              8                         2\n",
      "401     DKNG           -1.38                      6      405           404          404           407           404             446            399             446         399          446                        1                              3                         2\n",
      "986     VYMI           -0.10                      6     1007          1001         1001          1009          1012            1014           1007            1033        1001         1033                        6                              8                         2\n",
      "906      STN           -0.04                      6      922           916          916           924           921             919            919             938         916          938                        6                              8                         2\n",
      "89       BSX            0.14                      6       91            91           90            93            90              91             85              92          85           93                        0                              2                         2\n",
      "439     VCSH            0.75                      6      444           444          442           446           449             439            438             451         438          451                        0                              2                         2\n",
      "480      WTW           -0.34                      6      486           485          485           487           480             491            480             491         480          491                        1                              2                         1\n",
      "315     NDAQ           -0.25                      6      318           319          314           319           317             320            312             321         312          321                       -1                              0                         1\n",
      "258       VB            0.02                      6      260           256          256           261           260             268            254             268         254          268                        4                              5                         1\n",
      "150      PLD            0.03                      6      152           147          146           153           148             148            147             155         146          155                        5                              6                         1\n",
      "364      EXC            0.04                      6      368           366          366           369           368             369            362             371         362          371                        2                              3                         1\n",
      "71      ISRG            0.25                      6       72            72           72            73            73              67             66              73          66           73                        0                              1                         1\n",
      "130      IBN            0.25                      6      132           132          132           133           135             130            126             135         126          135                        0                              1                         1\n",
      "1061     AIT           -3.10                      6     1087          1081         1081          1087          1083            1132           1083            1160        1081         1160                        6                              6                         0\n",
      "300      MPC           -0.80                      6      303           301          301           303           301             315            297             315         297          315                        2                              2                         0\n",
      "1410    UPRO           -0.70                      6     1505          1504         1504          1505          1504            1518           1499            1520        1499         1520                        1                              1                         0\n",
      "271      VYM           -0.50                      6      273           270          270           273           272             281            267             281         267          281                        3                              3                         0\n",
      "54       AXP           -0.43                      6       55            53           49            55            51              59             50              59          49           59                        2                              2                         0\n",
      "86       TMO           -0.41                      6       88            85           85            88            84              87             82              92          82           92                        3                              3                         0\n",
      "120      SAN           -0.12                      6      122           122          122           122           121             117            116             126         116          126                        0                              0                         0\n",
      "168      TRI           -0.11                      6      170           167          167           170           164             177            164             179         164          179                        3                              3                         0\n",
      "119      AGG            0.20                      6      121           119          119           121           118             116            115             119         115          121                        2                              2                         0\n",
      "58      INTU            0.30                      6       59            59           58            59            60              53             53              61          53           61                        0                              0                         0\n",
      "957       CX           -1.62                      7      977          1009          970          1009          1004            1031           1004            1050         970         1050                      -32                              0                        32\n",
      "1160    ZION           -5.30                      7     1203          1225         1203          1225          1196            1296           1196            1298        1196         1298                      -22                              0                        22\n",
      "1122     CFR           -3.04                      7     1157          1179         1150          1179          1155            1211           1155            1213        1150         1213                      -22                              0                        22\n",
      "574     SOFI           -9.50                      7      584           599          577           599           595             754            594             766         577          766                      -15                              0                        15\n",
      "1047     RRX           -1.49                      7     1073          1088         1072          1088          1089            1092           1066            1103        1066         1103                      -15                              0                        15\n",
      "515      HPE           -4.09                      7      522           534          522           536           530             571            515             585         515          585                      -12                              2                        14\n",
      "1381    TCAF            0.12                      7     1476          1488         1476          1488          1488            1489           1469            1490        1469         1490                      -12                              0                        12\n",
      "618     ULTA            0.80                      7      629           641          629           641           638             627            622             650         622          650                      -12                              0                        12\n",
      "753      DKS           -5.05                      7      766           764          764           775           761             828            759             840         759          840                        2                             11                         9\n",
      "728     SCHA           -0.28                      7      739           734          734           747           741             746            732             747         732          747                        5                             13                         8\n",
      "749     AVUV           -1.15                      7      761           762          761           768           760             782            754             782         754          782                       -1                              6                         7\n",
      "715      PFG           -0.54                      7      726           733          726           733           727             730            719             739         719          739                       -7                              0                         7\n",
      "684     USFD           -0.36                      7      695           702          688           702           701             717            701             729         688          729                       -7                              0                         7\n",
      "178     MDLZ            0.31                      7      180           187          180           187           183             180            173             188         173          188                       -7                              0                         7\n",
      "346     VEEV            0.49                      7      350           354          348           357           353             345            343             359         343          359                       -4                              3                         7\n",
      "738       RL           -1.03                      7      749           747          747           755           748             762            742             772         742          772                        2                              8                         6\n",
      "548     VLTO           -0.61                      7      558           561          558           564           559             565            551             567         551          567                       -3                              3                         6\n",
      "268      AZO           -0.37                      7      270           271          270           276           266             276            263             283         263          283                       -1                              5                         6\n",
      "484      STZ           -0.80                      7      490           492          489           494           501             498            483             506         483          506                       -2                              2                         4\n",
      "381     CBRE           -0.66                      7      385           389          385           389           381             393            378             394         378          394                       -4                              0                         4\n",
      "454      EXR           -0.02                      7      460           461          458           464           461             456            453             467         453          467                       -1                              3                         4\n",
      "399    HEI-A            0.04                      7      403           407          403           407           403             420            396             421         396          421                       -4                              0                         4\n",
      "510      AWK            0.22                      7      517           519          517           521           516             523            510             528         510          528                       -2                              2                         4\n",
      "106      TJX            0.34                      7      108           110          108           112           110             105            101             111         101          112                       -2                              2                         4\n",
      "369      IWR           -0.86                      7      373           370          370           376           374             388            366             390         366          390                        3                              6                         3\n",
      "151     DASH           -0.78                      7      153           153          153           156           151             162            146             164         146          164                        0                              3                         3\n",
      "516      SMH           -1.81                      7      523           525          516           525           525             563            523             566         516          566                       -2                              0                         2\n",
      "231      USB           -1.22                      7      233           233          232           235           230             246            226             247         226          247                        0                              2                         2\n",
      "153     INTC           -0.75                      7      155           154          154           157           155             168            148             168         148          168                        1                              3                         2\n",
      "337      IAU            0.52                      7      341           339          339           343           340             334            334             347         334          347                        2                              4                         2\n",
      "63       NOW            0.22                      7       64            64           64            65            64              58             57              66          57           66                        0                              1                         1\n",
      "67         T            0.27                      7       68            65           65            69            67              62             61              68          61           69                        3                              4                         1\n",
      "1040    INDA           -2.04                      7     1065          1063         1059          1065          1064            1102           1058            1102        1058         1102                        2                              2                         0\n",
      "285      TFC           -1.75                      7      288           283          283           288           281             311            281             313         281          313                        5                              5                         0\n",
      "319       GM           -1.67                      7      322           320          318           322           319             342            315             346         315          346                        2                              2                         0\n",
      "1386     EWY           -0.52                      7     1481          1477         1475          1481          1483            1502           1474            1502        1474         1502                        4                              4                         0\n",
      "180      MCO           -0.50                      7      182           178          178           182           178             184            175             185         175          185                        4                              4                         0\n",
      "295      FDX           -0.24                      7      298           297          297           298           296             298            291             304         291          304                        1                              1                         0\n",
      "269      IWD           -0.20                      7      271           267          267           271           270             275            264             276         264          276                        4                              4                         0\n",
      "52       NVS           -0.07                      7       53            49           49            53            50              50             46              50          46           53                        4                              4                         0\n",
      "109     GILD           -0.05                      7      111           111          110           111           107             106            104             113         104          113                        0                              0                         0\n",
      "80      QCOM            0.14                      7       81            79           78            81            79              74             74              79          74           81                        2                              2                         0\n",
      "148      ICE            0.16                      7      150           148          148           150           147             146            143             148         143          150                        2                              2                         0\n",
      "299     VCIT            0.23                      7      302           299          299           302           299             299            295             302         295          302                        3                              3                         0\n",
      "661      GPN           -1.02                      8      672           691          664           691           684             693            670             696         664          696                      -19                              0                        19\n",
      "598     TROW           -1.95                      8      609           623          601           623           615             647            614             654         601          654                      -14                              0                        14\n",
      "626     NTAP            0.38                      8      637           650          637           651           651             636            629             651         629          651                      -13                              1                        14\n",
      "838     LOGI           -2.51                      8      853           864          845           864           865             884            858             916         845          916                      -11                              0                        11\n",
      "252      NEM            0.15                      8      254           262          253           262           246             253            246             267         246          267                       -8                              0                         8\n",
      "1426     URA            0.75                      8     1521          1529         1521          1529          1537            1539           1513            1547        1513         1547                       -8                              0                         8\n",
      "264      LYG            0.72                      8      266           273          265           273           273             258            258             279         258          279                       -7                              0                         7\n",
      "512    FCNCA           -3.17                      8      519           523          519           525           511             572            511             572         511          572                       -4                              2                         6\n",
      "622     GBTC           -1.07                      8      633           625          625           639           633             674            633             684         625          684                        8                             14                         6\n",
      "482      VBR           -0.41                      8      488           482          482           493           485             500            480             503         480          503                        6                             11                         5\n",
      "830      RPM           -0.29                      8      845           850          842           850           841             837            837             853         837          853                       -5                              0                         5\n",
      "1344    PYLD           -0.16                      8     1436          1441         1436          1441          1443            1448           1428            1449        1428         1449                       -5                              0                         5\n",
      "681        L           -0.06                      8      692           697          690           697           690             698            684             701         684          701                       -5                              0                         5\n",
      "331      VRT           -0.60                      8      335           334          327           339           343             354            329             357         327          357                        1                              5                         4\n",
      "211      AON            0.35                      8      213           214          213           216           212             211            205             220         205          220                       -1                              2                         3\n",
      "113     PANW            0.53                      8      115           118          115           118           120             112            107             123         107          123                       -3                              0                         3\n",
      "366      ALC           -0.27                      8      370           372          368           372           370             372            362             379         362          379                       -2                              0                         2\n",
      "124      LOW           -0.17                      8      126           127          126           128           122             124            118             126         118          128                       -1                              1                         2\n",
      "333     SCHF           -0.04                      8      337           332          332           339           334             336            329             339         329          339                        5                              7                         2\n",
      "174      DUK            0.12                      8      176           174          174           178           174             172            168             174         168          178                        2                              4                         2\n",
      "915     SPEM            0.39                      8      934           931          929           936           943             938            926             958         926          958                        3                              5                         2\n",
      "59      SHEL            0.41                      8       60            60           60            61            61              55             52              62          52           62                        0                              1                         1\n",
      "499     FITB           -2.59                      8      506           502          501           506           498             544            498             544         498          544                        4                              4                         0\n",
      "142      NKE           -2.38                      8      144           143          143           144           143             166            136             178         136          178                        1                              1                         0\n",
      "244      ING           -1.17                      8      246           241          241           246           242             256            238             263         238          263                        5                              5                         0\n",
      "545      DOV           -0.98                      8      555           551          547           555           551             557            547             566         547          566                        4                              4                         0\n",
      "198      MMM           -0.55                      8      200           197          192           200           192             200            192             209         192          209                        3                              3                         0\n",
      "69      UBER           -0.48                      8       70            67           67            70            66              72             62              72          62           72                        3                              3                         0\n",
      "104      PFE           -0.42                      8      106           104          103           106            99             104             98             109          98          109                        2                              2                         0\n",
      "131     VRTX           -0.23                      8      133           131          129           133           127             132            125             135         125          135                        2                              2                         0\n",
      "318      BDX           -0.12                      8      321           317          313           321           324             322            318             331         313          331                        4                              4                         0\n",
      "43       UNH           -0.00                      8       44            39           39            44            38              37             36              38          36           44                        5                              5                         0\n",
      "56       AZN            0.31                      8       57            52           52            57            53              49             49              58          49           58                        5                              5                         0\n",
      "466     JPST            0.32                      8      472           465          465           472           473             467            464             474         464          474                        7                              7                         0\n",
      "141      LMT            0.38                      8      143           142          142           143           142             138            135             143         135          143                        1                              1                         0\n",
      "945     PULS            0.81                      8      965           963          962           965           969             967            957             983         957          983                        2                              2                         0\n",
      "1290    TIGO            1.75                      9     1351          1369         1350          1371          1378            1342           1342            1421        1342         1421                      -18                              2                        20\n",
      "1003     HAS           -3.42                      9     1024          1042         1024          1042          1039            1078           1015            1088        1015         1088                      -18                              0                        18\n",
      "863     BF-B           -2.82                      9      879           893          872           897           888             921            870             922         870          922                      -14                              4                        18\n",
      "1057     AOS           -2.14                      9     1083          1096         1074          1096          1087            1112           1077            1122        1074         1122                      -13                              0                        13\n",
      "1114    PAVE           -1.34                      9     1149          1140         1140          1161          1150            1181           1147            1181        1140         1181                        9                             21                        12\n",
      "478      STT           -2.01                      9      484           495          484           495           477             514            475             514         475          514                      -11                              0                        11\n",
      "742     FFIV            0.50                      9      753           763          753           763           759             749            744             764         744          764                      -10                              0                        10\n",
      "1183     PSN           -2.68                      9     1231          1240         1222          1240          1234            1264           1222            1289        1222         1289                       -9                              0                         9\n",
      "469      STX           -2.14                      9      475           474          474           483           476             513            466             513         466          513                        1                              9                         8\n",
      "384      YUM           -0.80                      9      388           394          388           394           395             397            379             400         379          400                       -6                              0                         6\n",
      "914      NVT           -1.10                      9      932           933          923           937           941             965            939             965         923          965                       -1                              4                         5\n",
      "911      ITT           -0.70                      9      929           934          929           934           934             943            920             947         920          947                       -5                              0                         5\n",
      "308     MPLX            0.69                      9      311           312          311           316           313             306            302             317         302          317                       -1                              4                         5\n",
      "773      IWV           -0.68                      9      786           778          778           790           788             796            777             799         777          799                        8                             12                         4\n",
      "564     FBTC           -2.06                      9      574           565          565           577           575             640            575             654         565          654                        9                             12                         3\n",
      "290     NXPI           -0.73                      9      293           295          293           296           292             293            284             303         284          303                       -2                              1                         3\n",
      "468     VGIT            0.44                      9      474           471          471           477           475             471            465             477         465          477                        3                              6                         3\n",
      "632      CMS            0.68                      9      643           646          643           646           646             638            634             652         634          652                       -3                              0                         3\n",
      "1355    FDVV           -0.52                      9     1447          1449         1447          1449          1448            1459           1438            1459        1438         1459                       -2                              0                         2\n",
      "347      HES           -0.51                      9      351           353          351           353           351             361            342             370         342          370                       -2                              0                         2\n",
      "355       EW           -0.27                      9      359           355          355           361           355             360            350             365         350          365                        4                              6                         2\n",
      "437      IEF            0.46                      9      442           438          438           444           442             438            433             447         433          447                        4                              6                         2\n",
      "422       ED            0.49                      9      427           429          427           429           428             419            418             431         418          431                       -2                              0                         2\n",
      "1090    FYBR            0.90                      9     1121          1115         1115          1123          1119            1118           1112            1137        1112         1137                        6                              8                         2\n",
      "146      MMC            0.33                      9      148           146          146           149           146             140            139             146         139          149                        2                              3                         1\n",
      "132      SNY            0.43                      9      134           135          134           135           136             125            125             136         125          136                       -1                              0                         1\n",
      "294      AFL            0.55                      9      297           298          297           298           298             291            288             298         288          298                       -1                              0                         1\n",
      "709      CLS           -4.54                      9      720           713          711           720           715             811            715             811         711          811                        7                              7                         0\n",
      "597      PHG           -1.16                      9      608           603          602           608           609             615            599             631         599          631                        5                              5                         0\n",
      "91      AMAT           -0.96                      9       93            84           84            93            86             100             85             106          84          106                        9                              9                         0\n",
      "110      UNP           -0.31                      9      112           106          106           112           108             108            103             111         103          112                        6                              6                         0\n",
      "823      GGG            0.04                      9      838           838          833           838           838             831            829             838         829          838                        0                              0                         0\n",
      "157      CME            0.05                      9      159           156          154           159           157             159            150             159         150          159                        3                              3                         0\n",
      "78        VZ            0.29                      9       79            75           75            79            75              71             70              76          70           79                        4                              4                         0\n",
      "1230      BZ           -1.27                     10     1284          1274         1274          1304          1305            1312           1281            1375        1274         1375                       10                             30                        20\n",
      "777     DOCU            0.38                     10      790           807          790           807           809             792            780             828         780          828                      -17                              0                        17\n",
      "575      JBL           -2.64                     10      585           595          585           595           592             678            575             678         575          678                      -10                              0                        10\n",
      "603     HUBB           -0.46                     10      614           624          604           624           627             633            615             635         604          635                      -10                              0                        10\n",
      "379     ALNY           -0.12                     10      383           393          379           393           393             390            373             393         373          393                      -10                              0                        10\n",
      "868     SPMD           -1.00                     10      884           874          874           890           884             899            876             901         874          901                       10                             16                         6\n",
      "438     ARGX            0.16                     10      443           449          433           449           448             447            437             459         433          459                       -6                              0                         6\n",
      "759        J           -0.79                     10      772           777          762           777           773             783            773             798         762          798                       -5                              0                         5\n",
      "457      EFX           -0.04                     10      463           467          463           467           468             453            453             471         453          471                       -4                              0                         4\n",
      "525     SPYV           -0.19                     10      534           529          524           537           535             537            531             540         524          540                        5                              8                         3\n",
      "55       ABT            0.08                     10       56            47           47            59            49              47             46              49          46           59                        9                             12                         3\n",
      "1162    PBUS           -4.24                     10     1206          1199         1196          1208          1206            1287           1206            1287        1196         1287                        7                              9                         2\n",
      "220      MAR           -0.86                     10      222           220          220           224           213             229            212             231         212          231                        2                              4                         2\n",
      "577       ES           -0.35                     10      587           584          584           589           585             581            577             599         577          599                        3                              5                         2\n",
      "611     ACWI            0.09                     10      622           616          616           624           618             614            612             622         612          624                        6                              8                         2\n",
      "630      LII           -2.75                     10      641           636          636           642           631             681            631             684         631          684                        5                              6                         1\n",
      "929     DFIV            0.13                     10      948           938          938           949           944             946            938             954         938          954                       10                             11                         1\n",
      "420      DAL           -2.31                     10      425           425          423           425           415             463            415             476         415          476                        0                              0                         0\n",
      "1127    DUHP           -0.80                     10     1162          1152         1152          1162          1160            1173           1156            1177        1152         1177                       10                             10                         0\n",
      "365      HMC           -0.24                     10      369           359          359           369           361             364            361             383         359          383                       10                             10                         0\n",
      "731      NWS           -0.21                     10      742           741          735           742           737             744            732             749         732          749                        1                              1                         0\n",
      "334        E           -0.15                     10      338           335          333           338           336             338            328             342         328          342                        3                              3                         0\n",
      "1074     MGV           -0.06                     10     1100          1090         1090          1100          1099            1106           1096            1108        1090         1108                       10                             10                         0\n",
      "292      COR            0.22                     10      295           289          288           295           289             289            285             293         285          295                        6                              6                         0\n",
      "414     VTEB            0.28                     10      419           414          414           419           416             414            409             420         409          420                        5                              5                         0\n",
      "90      MUFG            0.32                     10       92            88           88            92            87              83             82              89          82           92                        4                              4                         0\n",
      "152      GLD            0.59                     10      154           151          151           154           153             144            144             154         144          154                        3                              3                         0\n",
      "1296    JBTM           -1.65                     11     1358          1377         1354          1377          1379            1385           1347            1422        1347         1422                      -19                              0                        19\n",
      "1018    MTSI            0.12                     11     1039          1058         1039          1058          1062            1081           1028            1081        1028         1081                      -19                              0                        19\n",
      "491      RKT           -0.68                     11      498           509          498           509           497             521            487             530         487          530                      -11                              0                        11\n",
      "987     DFAT           -1.32                     11     1008           997          997          1018          1008            1035            998            1035         997         1035                       11                             21                        10\n",
      "852      IEX            0.07                     11      868           877          867           877           877             857            857             891         857          891                       -9                              0                         9\n",
      "704       ZG           -2.14                     11      715           721          715           723           704             733            704             762         704          762                       -6                              2                         8\n",
      "694     FNDX            0.07                     11      705           694          694           713           706             707            697             711         694          713                       11                             19                         8\n",
      "696      GEN            0.97                     11      707           712          707           715           718             696            696             734         696          734                       -5                              3                         8\n",
      "256      FCX           -1.84                     11      258           265          258           265           257             277            247             283         247          283                       -7                              0                         7\n",
      "226     SNOW            0.26                     11      228           235          228           235           236             234            217             236         217          236                       -7                              0                         7\n",
      "417     TRGP            0.28                     11      422           421          421           429           419             411            411             427         411          429                        1                              8                         7\n",
      "908      VFH           -1.01                     11      925           921          921           930           927             945            914             945         914          945                        4                              9                         5\n",
      "944     SCHM           -0.71                     11      964           953          953           969           965             980            960             984         953          984                       11                             16                         5\n",
      "1389    DFSV           -0.22                     11     1484          1487         1484          1489          1485            1491           1473            1494        1473         1494                       -3                              2                         5\n",
      "129     CRWD            0.31                     11      131           133          131           136           134             127            120             134         120          136                       -2                              3                         5\n",
      "792     IGIB            0.67                     11      805           804          804           810           806             799            794             809         794          810                        1                              6                         5\n",
      "705        Z           -2.16                     11      716           720          716           720           705             734            705             761         705          761                       -4                              0                         4\n",
      "406      DIA           -0.55                     11      411           411          411           415           410             410            400             420         400          420                        0                              4                         4\n",
      "191       VO            0.09                     11      193           193          193           197           195             198            182             198         182          198                        0                              4                         4\n",
      "851     ESGU            0.24                     11      867           866          866           871           871             864            856             871         856          871                        1                              5                         4\n",
      "692     USFR            1.50                     11      703           704          701           707           716             694            692             717         692          717                       -1                              3                         4\n",
      "655     IDEV            0.22                     11      666           661          661           669           668             657            655             668         655          669                        5                              8                         3\n",
      "304      MFC            0.47                     11      307           310          306           310           311             302            296             311         296          311                       -3                              0                         3\n",
      "158      ENB            0.68                     11      160           158          158           163           159             150            149             165         149          165                        2                              5                         3\n",
      "547      MKL            0.45                     11      557           559          556           559           556             553            546             565         546          565                       -2                              0                         2\n",
      "637     IUSV           -0.63                     11      648           642          642           649           644             654            637             654         637          654                        6                              7                         1\n",
      "387      AME           -0.01                     11      391           391          387           392           392             386            380             392         380          392                        0                              1                         1\n",
      "190     CDNS           -0.94                     11      192           184          184           192           188             194            181             199         181          199                        8                              8                         0\n",
      "281     REGN           -0.83                     11      284           279          279           284           274             290            273             292         273          292                        5                              5                         0\n",
      "948     DFUV           -0.47                     11      968           965          961           968           968             981            957             983         957          983                        3                              3                         0\n",
      "539      VGK           -0.23                     11      548           538          538           548           541             543            537             554         537          554                       10                             10                         0\n",
      "730     NWSA           -0.23                     11      741           737          736           741           738             745            730             751         730          751                        4                              4                         0\n",
      "402      MBB            0.45                     11      406           405          404           406           405             403            395             407         395          407                        1                              1                         0\n",
      "125      ADP            0.47                     11      127           125          125           127           125             119            116             125         116          127                        2                              2                         0\n",
      "411      BSV            0.57                     11      416           413          413           416           414             407            405             416         405          416                        3                              3                         0\n",
      "436      HSY            1.08                     12      441           459          441           459           460             435            429             461         429          461                      -18                              0                        18\n",
      "1278    CIGI            1.46                     12     1339          1355         1339          1355          1354            1355           1327            1381        1327         1381                      -16                              0                        16\n",
      "1213    GTLS           -5.42                     12     1264          1279         1264          1279          1280            1343           1252            1366        1252         1366                      -15                              0                        15\n",
      "865     BF-A           -2.61                     12      881           891          881           896           892             910            869             926         869          926                      -10                              5                        15\n",
      "431      HIG            0.99                     12      436           450          436           450           441             427            424             448         424          450                      -14                              0                        14\n",
      "732      CSL           -3.33                     12      743           751          743           756           733             788            731             791         731          791                       -8                              5                        13\n",
      "843      UNM            0.52                     12      858           869          854           869           855             850            846             868         846          869                      -11                              0                        11\n",
      "683       NI            1.24                     12      694           701          694           703           709             699            682             717         682          717                       -7                              2                         9\n",
      "652      LYB           -1.76                     12      663           669          662           670           669             667            651             706         651          706                       -6                              1                         7\n",
      "872     AVAV          -13.25                     12      888           894          876           894           901            1160            901            1160         876         1160                       -6                              0                         6\n",
      "710       CW            0.55                     12      721           726          721           727           721             718            709             734         709          734                       -5                              1                         6\n",
      "820      KIM            0.68                     12      835           840          834           840           834             832            823             847         823          847                       -5                              0                         5\n",
      "513      IQV           -0.84                     12      520           524          510           524           520             518            508             528         508          528                       -4                              0                         4\n",
      "1172    ONEQ           -0.23                     12     1217          1208         1208          1220          1220            1229           1205            1235        1205         1235                        9                             12                         3\n",
      "1412    SPYI           -0.08                     12     1507          1510         1507          1510          1511            1519           1495            1519        1495         1519                       -3                              0                         3\n",
      "1398    SJNK           -0.07                     12     1493          1496         1493          1496          1497            1500           1481            1502        1481         1502                       -3                              0                         3\n",
      "1333    VONE           -0.02                     12     1409          1400         1400          1412          1412            1416           1397            1430        1397         1430                        9                             12                         3\n",
      "485     TSCO           -2.03                     12      491           486          486           493           479             522            479             523         479          523                        5                              7                         2\n",
      "590       FE            0.65                     12      600           596          596           602           599             591            588             604         588          604                        4                              6                         2\n",
      "897      BEN           -2.82                     12      913           914          911           914           902             942            901             949         901          949                       -1                              0                         1\n",
      "105      TTE            0.53                     12      107           105          105           108           109             103             95             111          95          111                        2                              3                         1\n",
      "687      WSO           -2.18                     12      698           686          686           698           692             725            688             744         686          744                       12                             12                         0\n",
      "893      DOC           -1.70                     12      909           901          901           909           897             927            897             933         897          933                        8                              8                         0\n",
      "133     MSTR           -0.76                     12      135           126          123           135           124             143            124             150         123          150                        9                              9                         0\n",
      "306      AMX           -0.09                     12      309           304          302           309           304             301            297             307         297          309                        5                              5                         0\n",
      "682     FBND           -0.08                     12      693           681          681           693           687             692            681             695         681          695                       12                             12                         0\n",
      "53       NVO            0.11                     12       54            50           48            54            47              42             42              49          42           54                        4                              4                         0\n",
      "520     GOVT            0.35                     12      529           522          522           529           528             525            517             529         517          529                        7                              7                         0\n",
      "789      IEI            0.67                     12      802           797          797           802           801             793            790             807         790          807                        5                              5                         0\n",
      "1219    LEGN           -3.27                     13     1270          1289         1257          1295          1301            1341           1301            1428        1257         1428                      -19                              6                        25\n",
      "869      BAH           -1.35                     13      885           898          885           901           890             898            872             921         872          921                      -13                              3                        16\n",
      "654     NTNX            0.12                     13      665           672          665           677           682             677            652             684         652          684                       -7                              5                        12\n",
      "1212     BEP            1.98                     13     1263          1250         1250          1273          1299            1252           1252            1308        1250         1308                       13                             23                        10\n",
      "375      FIS            0.65                     13      379           384          378           386           386             373            366             389         366          389                       -5                              2                         7\n",
      "901     SCHV           -0.47                     13      917           904          904           922           915             922            907             927         904          927                       13                             18                         5\n",
      "1379    URTH            0.04                     13     1474          1479         1474          1479          1476            1479           1461            1480        1461         1480                       -5                              0                         5\n",
      "313      ALL            0.66                     13      316           318          311           321           315             303            303             318         303          321                       -2                              3                         5\n",
      "182     CTAS            0.84                     13      184           188          183           188           184             171            171             186         171          188                       -4                              0                         4\n",
      "128      BUD            0.95                     13      130           134          130           134           132             120            117             135         117          135                       -4                              0                         4\n",
      "1135     KRC            0.44                     13     1170          1157         1157          1173          1162            1167           1162            1209        1157         1209                       13                             16                         3\n",
      "235      NGG            0.75                     13      237           238          237           240           238             233            224             244         224          244                       -1                              2                         3\n",
      "1080     SKX            0.84                     13     1107          1104         1104          1110          1108            1098           1094            1113        1094         1113                        3                              6                         3\n",
      "953     CHRW           -1.15                     13      973           975          971           975           977             987            960            1001         960         1001                       -2                              0                         2\n",
      "767      THC           -0.35                     13      780           776          776           782           768             797            767             797         767          797                        4                              6                         2\n",
      "1354     PPA           -0.21                     13     1446          1448         1446          1448          1450            1456           1433            1459        1433         1459                       -2                              0                         2\n",
      "470      PUK            0.00                     13      476           470          470           478           470             465            463             477         463          478                        6                              8                         2\n",
      "526     SPDW            0.28                     13      535           528          528           537           531             526            522             534         522          537                        7                              9                         2\n",
      "310      MET            0.34                     13      313           315          312           315           309             305            300             310         300          315                       -2                              0                         2\n",
      "530     VRSN            0.34                     13      539           537          537           541           540             531            526             543         526          543                        2                              4                         2\n",
      "126     MELI            0.36                     13      128           124          124           130           130             122            115             130         115          130                        4                              6                         2\n",
      "74       ACN            0.46                     13       75            77           75            77            76              63             62              76          62           77                       -2                              0                         2\n",
      "108       DE            0.79                     13      110           109          109           112           111              99             97             112          97          112                        1                              3                         2\n",
      "642     LDOS           -2.25                     13      653           654          653           654           648             688            640             688         640          688                       -1                              0                         1\n",
      "740      PNR           -1.81                     13      751           752          749           752           745             772            738             773         738          773                       -1                              0                         1\n",
      "1363     IXN           -0.17                     13     1456          1457         1456          1457          1458            1463           1443            1463        1443         1463                       -1                              0                         1\n",
      "372      KMB            0.18                     13      376           375          375           377           378             363            363             378         363          378                        1                              2                         1\n",
      "96        UL            0.55                     13       98            96           96            99            95              86             85              97          85           99                        2                              3                         1\n",
      "282      ROP            0.56                     13      285           281          281           286           283             272            272             283         272          286                        4                              5                         1\n",
      "644      SHV            0.71                     13      655           649          649           656           656             652            642             660         642          660                        6                              7                         1\n",
      "904     LAMR           -0.42                     13      920           920          910           920           907             924            907             931         907          931                        0                              0                         0\n",
      "979     KNSL            0.05                     13     1000           996          991          1000           992            1000            987            1013         987         1013                        4                              4                         0\n",
      "165     RELX            0.06                     13      167           162          160           167           158             154            154             162         154          167                        5                              5                         0\n",
      "107      DHR            0.11                     13      109           107          106           109           103              96             96             103          96          109                        2                              2                         0\n",
      "543      EFV            0.24                     13      552           542          542           552           545             541            539             549         539          552                       10                             10                         0\n",
      "514        K            0.40                     13      521           518          518           521           522             512            508             526         508          526                        3                              3                         0\n",
      "140       CB            0.48                     13      142           141          141           142           140             134            129             141         129          142                        1                              1                         0\n",
      "686      ESS            0.84                     14      697           705          693           705           700             689            683             704         683          705                       -8                              0                         8\n",
      "1014     AFG            0.19                     14     1035          1037         1035          1042          1031            1037           1021            1046        1021         1046                       -2                              5                         7\n",
      "1424    XMMO           -0.09                     14     1519          1520         1519          1521          1521            1526           1505            1526        1505         1526                       -1                              1                         2\n",
      "374     VRSK            0.67                     14      378           377          377           380           372             366            364             382         364          382                        1                              3                         2\n",
      "664      DVY           -0.63                     14      675           666          666           676           670             680            661             680         661          680                        9                             10                         1\n",
      "204      AJG            0.71                     14      206           207          206           207           206             197            192             207         192          207                       -1                              0                         1\n",
      "442      LVS           -3.39                     14      447           434          434           447           436             482            433             489         433          489                       13                             13                         0\n",
      "479     SMCI           -2.79                     14      485           472          471           485           490             536            490             560         471          560                       13                             13                         0\n",
      "1326    JGRO           -1.44                     14     1398          1393         1393          1398          1405            1426           1384            1434        1384         1434                        5                              5                         0\n",
      "192      SHW           -0.25                     14      194           192          192           194           189             190            180             191         180          194                        2                              2                         0\n",
      "134      COP            0.36                     14      136           136          135           136           133             126            122             136         122          136                        0                              0                         0\n",
      "410      MUB            0.39                     14      415           408          408           415           409             404            401             413         401          415                        7                              7                         0\n",
      "1054     SUB            0.57                     14     1080          1069         1069          1080          1073            1076           1066            1089        1066         1089                       11                             11                         0\n",
      "1019    IAGG            1.15                     14     1040          1038         1036          1040          1046            1036           1026            1053        1026         1053                        2                              2                         0\n",
      "996      OHI            1.41                     14     1017          1008         1008          1017          1010            1029           1003            1042        1003         1042                        9                              9                         0\n",
      "1165    SPXC           -2.66                     15     1210          1232         1195          1232          1222            1277           1221            1277        1195         1277                      -22                              0                        22\n",
      "323      SLB            0.03                     15      326           340          311           345           330             326            322             353         311          353                      -14                              5                        19\n",
      "1409    NVDL           -0.60                     15     1504          1518         1504          1518          1515            1532           1489            1538        1489         1538                      -14                              0                        14\n",
      "840     SOXL           -4.99                     15      855           867          844           867           851             968            840             968         840          968                      -12                              0                        12\n",
      "976      AEG           -0.29                     15      997          1006          997          1006           998             990            982            1013         982         1013                       -9                              0                         9\n",
      "724      BAP            0.50                     15      735           739          735           742           744             728            720             744         720          744                       -4                              3                         7\n",
      "968      SJM           -2.69                     15      989           995          974           995          1002            1047           1002            1056         974         1056                       -6                              0                         6\n",
      "798     VTIP            1.39                     15      811           813          811           817           818             800            796             824         796          824                       -2                              4                         6\n",
      "1151    FNDA           -0.27                     15     1189          1174         1174          1194          1182            1192           1175            1200        1174         1200                       15                             20                         5\n",
      "881      PAA            0.18                     15      897           889          889           901           898             906            882             911         882          911                        8                             12                         4\n",
      "224      CMG           -0.46                     15      226           229          226           229           229             227            211             235         211          235                       -3                              0                         3\n",
      "762     FNDF            0.25                     15      775           765          765           778           767             768            760             780         760          780                       10                             13                         3\n",
      "270      KMI            0.35                     15      272           269          268           275           269             267            257             275         257          275                        3                              6                         3\n",
      "1388    THRO           -0.03                     15     1483          1485         1482          1485          1486            1490           1468            1490        1468         1490                       -2                              0                         2\n",
      "326      TRP            0.80                     15      330           322          322           332           327             316            315             339         315          339                        8                             10                         2\n",
      "643      LUV           -3.58                     15      654           643          640           655           639             702            639             720         639          720                       11                             12                         1\n",
      "919      CCK           -0.95                     15      938           932          932           939           931             950            923             952         923          952                        6                              7                         1\n",
      "88      ADBE            0.61                     15       90            89           89            91            88              75             75              89          75           91                        1                              2                         1\n",
      "429      SLF            1.01                     15      434           435          434           435           435             421            419             441         419          441                       -1                              0                         1\n",
      "871      ARE           -2.06                     15      887           882          880           887           880             905            872             920         872          920                        5                              5                         0\n",
      "1403    KBWB           -1.67                     15     1498          1491         1491          1498          1492            1520           1483            1520        1483         1520                        7                              7                         0\n",
      "440       IR           -1.58                     15      445           437          434           445           438             458            430             461         430          461                        8                              8                         0\n",
      "1071    DFIC            0.30                     15     1097          1082         1082          1097          1091            1093           1084            1102        1082         1102                       15                             15                         0\n",
      "233       CL            0.33                     15      235           231          231           235           232             220            220             232         220          235                        4                              4                         0\n",
      "707      ZBH            0.43                     15      718           708          708           718           717             705            703             723         703          723                       10                             10                         0\n",
      "394      WPM            0.53                     15      398           386          386           398           389             383            383             402         383          402                       12                             12                         0\n",
      "275       ET            0.78                     15      278           275          275           278           279             263            263             281         263          281                        3                              3                         0\n",
      "1131    SPHY            0.94                     15     1166          1154         1154          1166          1167            1162           1151            1175        1151         1175                       12                             12                         0\n",
      "594      VXF           -0.80                     16      604           606          604           619           616             623            588             623         588          623                       -2                             13                        15\n",
      "1340     EWT           -0.59                     16     1424          1436         1424          1436          1436            1444           1408            1444        1408         1444                      -12                              0                        12\n",
      "435     MPWR           -0.99                     16      440           443          440           450           444             443            424             452         424          452                       -3                              7                        10\n",
      "592     CPAY            0.21                     16      602           612          596           612           607             586            586             608         586          612                      -10                              0                        10\n",
      "1020    DFAI            0.46                     16     1043          1039         1039          1052          1047            1039           1027            1050        1027         1052                        4                             13                         9\n",
      "261     ADSK            0.52                     16      263           272          263           272           267             255            247             279         247          279                       -9                              0                         9\n",
      "584      CDW           -0.40                     16      594           600          591           601           598             599            578             601         578          601                       -6                              1                         7\n",
      "501     HUBS            0.54                     16      508           511          504           515           509             495            492             521         492          521                       -3                              4                         7\n",
      "754      TLK            0.77                     16      767           774          762           774           772             752            751             779         751          779                       -7                              0                         7\n",
      "993   UHAL-B            0.76                     16     1014          1020         1013          1020          1018             999            998            1022         998         1022                       -6                              0                         6\n",
      "225      WMB            1.15                     16      227           232          227           232           231             222            211             239         211          239                       -5                              0                         5\n",
      "473      MTB           -1.78                     16      479           473          473           483           466             497            463             498         463          498                        6                             10                         4\n",
      "821      APG            0.18                     16      836           831          831           838           844             854            820             862         820          862                        5                              7                         2\n",
      "1428     CWB            0.18                     16     1523          1525         1522          1525          1527            1528           1507            1528        1507         1528                       -2                              0                         2\n",
      "451     ACGL            0.96                     16      456           458          454           458           454             440            440             460         440          460                       -2                              0                         2\n",
      "340      WCN            1.09                     16      344           342          342           346           341             332            328             354         328          354                        2                              4                         2\n",
      "779     DGRW           -0.35                     16      792           779          779           793           787             791            776             799         776          799                       13                             14                         1\n",
      "298      NWG            1.07                     16      301           302          301           302           300             285            285             308         285          308                       -1                              0                         1\n",
      "733      RCI           -4.50                     16      744           730          728           744           734             805            729             810         728          810                       14                             14                         0\n",
      "739     YUMC           -1.78                     16      750           742          741           750           739             758            734             772         734          772                        8                              8                         0\n",
      "621      BCE           -1.58                     16      632           622          616           632           629             645            622             663         616          663                       10                             10                         0\n",
      "1223    CHDN           -1.30                     16     1275          1269         1262          1275          1259            1297           1259            1297        1259         1297                        6                              6                         0\n",
      "535     BNTX           -0.90                     16      544           535          530           544           537             545            528             555         528          555                        9                              9                         0\n",
      "552       IX           -0.74                     16      562           555          555           562           552             558            546             563         546          563                        7                              7                         0\n",
      "175       FI            0.09                     16      177           173          173           177           171             165            161             171         161          177                        4                              4                         0\n",
      "563       TU            0.15                     16      573           562          562           573           562             559            557             574         557          574                       11                             11                         0\n",
      "166      BMY            0.40                     16      168           168          161           168           165             152            152             167         152          168                        0                              0                         0\n",
      "427        B            0.47                     16      432           427          424           432           426             416            416             434         416          434                        5                              5                         0\n",
      "169     SMFG            0.58                     16      171           166          166           171           167             156            155             167         155          171                        5                              5                         0\n",
      "216     INFY            0.59                     16      218           217          214           218           224             202            202             224         202          224                        1                              1                         0\n",
      "161       MO            0.62                     16      163           159          156           163           161             151            147             162         147          163                        4                              4                         0\n",
      "447      VNQ            0.89                     16      452           447          447           452           455             442            436             458         436          458                        5                              5                         0\n",
      "497      AVB            1.04                     16      504           504          502           504           503             492            488             509         488          509                        0                              0                         0\n",
      "255     MRVL            0.51                     17      257           268          257           274           271             274            240             277         240          277                      -11                              6                        17\n",
      "1263     FLS           -5.69                     17     1321          1337         1320          1337          1345            1398           1304            1429        1304         1429                      -16                              0                        16\n",
      "1111     IJK           -0.39                     17     1146          1129         1129          1158          1144            1154           1136            1157        1129         1158                       17                             29                        12\n",
      "805     PAGP            1.05                     17      818           825          818           825           826             824            801             837         801          837                       -7                              0                         7\n",
      "935      JLL           -1.90                     17      954           959          954           959           948             972            937             987         937          987                       -5                              0                         5\n",
      "978      HST           -0.46                     17      999           982          982          1004           989            1004            983            1029         982         1029                       17                             22                         5\n",
      "963     NOBL            0.58                     17      984           976          976           989           984             976            967             992         967          992                        8                             13                         5\n",
      "350      VLO           -1.06                     17      354           346          346           358           350             367            337             377         337          377                        8                             12                         4\n",
      "586      XLC           -0.24                     17      596           585          585           599           597             598            579             598         579          599                       11                             14                         3\n",
      "658     RPRX           -0.05                     17      669           657          657           672           662             664            652             672         652          672                       12                             15                         3\n",
      "889     GLPI           -0.00                     17      905           897          897           908           895             902            888             910         888          910                        8                             11                         3\n",
      "560      ATO            0.87                     17      570           572          570           573           571             567            553             581         553          581                       -2                              1                         3\n",
      "667      EIX           -0.39                     17      678           680          678           680           677             697            661             697         661          697                       -2                              0                         2\n",
      "421      PRU            0.11                     17      426           424          424           428           421             412            409             421         409          428                        2                              4                         2\n",
      "97       PGR            0.97                     17       99           101           98           101            98              84             82             101          82          101                       -2                              0                         2\n",
      "601      MDY           -0.28                     17      612           597          597           613           604             609            595             610         595          613                       15                             16                         1\n",
      "1069    ESGD            0.44                     17     1095          1085         1085          1096          1093            1083           1078            1097        1078         1097                       10                             11                         1\n",
      "523      ROL            0.86                     17      532           533          531           533           533             520            515             536         515          536                       -1                              0                         1\n",
      "1088     CAE           -3.66                     17     1116          1101         1099          1116          1106            1147           1103            1172        1099         1172                       15                             15                         0\n",
      "802      XPO           -1.65                     17      815           815          813           815           804             820            798             836         798          836                        0                              0                         0\n",
      "262       NU           -1.14                     17      264           253          247           264           268             280            253             284         247          284                       11                             11                         0\n",
      "488    RYAAY           -0.70                     17      494           479          479           494           484             488            477             495         477          495                       15                             15                         0\n",
      "776     BALL           -0.57                     17      789           780          774           789           777             786            772             797         772          797                        9                              9                         0\n",
      "195      UPS            0.08                     17      197           196          194           197           194             186            180             194         180          197                        1                              1                         0\n",
      "265      CNI            0.11                     17      267           259          258           267           258             250            250             260         250          267                        8                              8                         0\n",
      "571      FOX            0.68                     17      581           580          579           581           583             578            564             591         564          591                        1                              1                         0\n",
      "1089     DAY            1.86                     18     1118          1165         1118          1165          1165            1100           1100            1165        1100         1165                      -47                              0                        47\n",
      "641      WSM           -2.16                     18      652           667          652           667           650             676            634             677         634          677                      -15                              0                        15\n",
      "1197     GIL           -1.43                     18     1247          1257         1229          1259          1262            1276           1258            1298        1229         1298                      -10                              2                        12\n",
      "965      SCI           -0.24                     18      986           993          985           993           988             986            968             989         968          993                       -7                              0                         7\n",
      "1156     ONB           -3.80                     18     1195          1201         1190          1201          1177            1241           1177            1244        1177         1244                       -6                              0                         6\n",
      "1060     SSB           -3.69                     18     1086          1092         1083          1092          1068            1133           1068            1141        1068         1141                       -6                              0                         6\n",
      "853      MAS           -1.48                     18      869           875          868           875           863             872            851             891         851          891                       -6                              0                         6\n",
      "816       BG            0.11                     18      831           826          826           835           824             964            813            1069         813         1069                        5                              9                         4\n",
      "1005      CR           -0.58                     18     1026          1029         1021          1029          1027            1024           1008            1041        1008         1041                       -3                              0                         3\n",
      "217      RSG            1.33                     18      219           218          218           222           217             203            201             224         201          224                        1                              4                         3\n",
      "680     CRBG           -1.28                     18      691           693          687           693           689             714            673             716         673          716                       -2                              0                         2\n",
      "453     DXCM           -0.22                     18      459           456          456           461           458             461            441             470         441          470                        3                              5                         2\n",
      "1442    FELG            0.12                     18     1539          1541         1536          1541          1542            1542           1521            1544        1521         1544                       -2                              0                         2\n",
      "324     CTVA            0.23                     18      327           329          327           329           329             317            309             329         309          329                       -2                              0                         2\n",
      "380     VALE           -1.22                     18      384           383          382           385           379             382            366             403         366          403                        1                              2                         1\n",
      "1353     VIS            0.00                     18     1445          1444         1444          1446          1445            1447           1427            1448        1427         1448                        1                              2                         1\n",
      "943     IQLT            0.24                     18      963           951          951           964           958             951            945             967         945          967                       12                             13                         1\n",
      "1452    BKLC            0.32                     18     1551          1552         1550          1552          1551            1547           1533            1554        1533         1554                       -1                              0                         1\n",
      "407      CAH            0.63                     18      412           410          408           413           408             399            394             408         394          413                        2                              3                         1\n",
      "176       WM            0.90                     18      178           175          175           179           172             161            160             178         160          179                        3                              4                         1\n",
      "1288     NEU           -4.19                     18     1349          1344         1344          1349          1350            1420           1331            1422        1331         1422                        5                              5                         0\n",
      "949      MGA           -3.66                     18      969           957          951           969           956            1010            956            1023         951         1023                       12                             12                         0\n",
      "891     NBIX           -0.80                     18      907           899          894           907           889             916            889             927         889          927                        8                              8                         0\n",
      "734     MTUM           -0.01                     18      745           735          735           745           747             742            727             749         727          749                       10                             10                         0\n",
      "1429    EUFN           -0.00                     18     1524          1522         1522          1524          1522            1523           1506            1528        1506         1528                        2                              2                         0\n",
      "1358    JMBS            0.22                     18     1450          1450         1450          1450          1449            1454           1432            1461        1432         1461                        0                              0                         0\n",
      "573     FOXA            0.66                     18      583           579          579           583           582             577            565             591         565          591                        4                              4                         0\n",
      "1081    AGNC            0.74                     18     1108          1106         1101          1108          1104            1090           1090            1108        1090         1108                        2                              2                         0\n",
      "988      AUR            1.62                     19     1009          1056          990          1056          1070            1072           1070            1146         990         1146                      -47                              0                        47\n",
      "1283     MHK           -3.80                     19     1344          1360         1344          1360          1334            1365           1325            1412        1325         1412                      -16                              0                        16\n",
      "322     DDOG           -1.99                     19      325           333          325           337           338             378            306             378         306          378                       -8                              4                        12\n",
      "559     NTRS           -3.03                     19      569           578          569           578           573             621            550             621         550          621                       -9                              0                         9\n",
      "267     WDAY            1.23                     19      269           278          269           278           280             251            250             281         250          281                       -9                              0                         9\n",
      "1237     MGC            0.12                     19     1292          1283         1283          1300          1289            1302           1273            1302        1273         1302                        9                             17                         8\n",
      "992     UHAL            0.59                     19     1013          1011         1007          1021          1016             994            994            1018         994         1021                        2                             10                         8\n",
      "922     ALLY           -3.05                     19      941           948          940           948           930             982            922             986         922          986                       -7                              0                         7\n",
      "317      PSX           -0.75                     19      320           305          305           322           307             318            301             333         301          333                       15                             17                         2\n",
      "555     SBAC            0.66                     19      565           567          562           567           563             555            546             568         546          568                       -2                              0                         2\n",
      "338      TLT            1.11                     19      342           343          342           344           346             330            323             347         323          347                       -1                              1                         2\n",
      "1107    FLOT            1.68                     19     1141          1130         1130          1142          1140            1124           1122            1156        1122         1156                       11                             12                         1\n",
      "844        H           -3.27                     19      859           849          849           859           848             888            840             911         840          911                       10                             10                         0\n",
      "1175    QRVO           -2.37                     19     1220          1217         1212          1220          1224            1251           1201            1252        1201         1252                        3                              3                         0\n",
      "1120    VRNA           -1.53                     19     1155          1136         1136          1155          1147            1219           1145            1281        1136         1281                       19                             19                         0\n",
      "819     JBHT           -1.48                     19      834           827          820           834           821             833            815             845         815          845                        7                              7                         0\n",
      "444     ODFL           -1.03                     19      449           446          446           449           440             445            430             451         430          451                        3                              3                         0\n",
      "1370     XLB           -0.40                     19     1463          1462         1462          1463          1463            1467           1444            1467        1444         1467                        1                              1                         0\n",
      "1126    DFAX           -0.27                     19     1161          1142         1142          1161          1149            1165           1149            1167        1142         1167                       19                             19                         0\n",
      "339       KR           -0.06                     19      343           341          341           343           339             359            324             360         324          360                        2                              2                         0\n",
      "1444    DFLV           -0.02                     19     1541          1540         1534          1541          1538            1541           1522            1544        1522         1544                        1                              1                         0\n",
      "1400    VSGX            0.02                     19     1495          1494         1492          1495          1494            1495           1476            1501        1476         1501                        1                              1                         0\n",
      "1441    JAVA            0.03                     19     1538          1535         1535          1538          1535            1540           1519            1540        1519         1540                        3                              3                         0\n",
      "103     SPOT            0.47                     19      105            99           99           105           100              97             86             103          86          105                        6                              6                         0\n",
      "257      EOG            0.47                     19      259           251          251           259           249             247            240             259         240          259                        8                              8                         0\n",
      "98      SONY            0.65                     19      100            98           98           100            97              82             81              97          81          100                        2                              2                         0\n",
      "419     ABEV            0.81                     19      424           420          414           424           425             406            405             425         405          425                        4                              4                         0\n",
      "939      RTO            1.69                     20      958           978          958           978           978             941            938             982         938          982                      -20                              0                        20\n",
      "1327     SSO           -2.92                     20     1400          1386         1386          1406          1397            1445           1380            1445        1380         1445                       14                             20                         6\n",
      "540      ADM            0.32                     20      549           547          545           555           547             538            529             559         529          559                        2                              8                         6\n",
      "1037     SCZ            0.46                     20     1062          1055         1055          1068          1057            1042           1042            1058        1042         1068                        7                             13                         6\n",
      "722      IHG           -0.67                     20      733           727          727           738           719             721            713             734         713          738                        6                             11                         5\n",
      "1055    CIBR           -0.66                     20     1081          1075         1075          1085          1085            1089           1061            1089        1061         1089                        6                             10                         4\n",
      "1269    SRLN            0.69                     20     1330          1316         1316          1333          1333            1326           1310            1346        1310         1346                       14                             17                         3\n",
      "1440    SLYV           -0.04                     20     1537          1534         1534          1539          1533            1536           1517            1543        1517         1543                        3                              5                         2\n",
      "325      PSA            0.76                     20      328           326          325           330           325             309            308             325         308          330                        2                              4                         2\n",
      "118       MU            0.47                     20      120           113          113           121           114             109            100             114         100          121                        7                              8                         1\n",
      "476      WIT            0.54                     20      482           483          473           483           486             464            462             486         462          486                       -1                              0                         1\n",
      "1056     HII           -2.61                     20     1082          1072         1072          1082          1063            1122           1062            1122        1062         1122                       10                             10                         0\n",
      "1119    AVUS           -1.18                     20     1154          1134         1134          1154          1145            1170           1139            1171        1134         1171                       20                             20                         0\n",
      "1411    FBCG            0.14                     20     1506          1505         1503          1506          1505            1508           1486            1508        1486         1508                        1                              1                         0\n",
      "782      DPZ            0.23                     20      795           783          783           795           775             784            775             808         775          808                       12                             12                         0\n",
      "1419    JPIE            0.32                     20     1514          1514         1514          1514          1517            1516           1494            1521        1494         1521                        0                              0                         0\n",
      "1045     TAP            0.33                     20     1071          1070         1067          1071          1066            1051           1051            1093        1051         1093                        1                              1                         0\n",
      "228       CP            0.34                     20      230           219          219           230           220             210            210             229         210          230                       11                             11                         0\n",
      "321        O            0.37                     20      324           314          314           324           306             307            304             318         304          324                       10                             10                         0\n",
      "1311     IOO            0.49                     20     1376          1367         1367          1376          1381            1370           1356            1388        1356         1388                        9                              9                         0\n",
      "184      MCK            0.63                     20      186           179          179           186           179             170            166             184         166          186                        7                              7                         0\n",
      "631     IGSB            0.88                     20      642           635          635           642           640             631            622             643         622          643                        7                              7                         0\n",
      "1149    INFA            1.32                     20     1187          1187         1181          1187          1190            1169           1167            1194        1167         1194                        0                              0                         0\n",
      "974     POOL           -0.98                     21      995          1010          995          1010           995            1002            974            1009         974         1010                      -15                              0                        15\n",
      "673     STLD           -0.51                     21      684           687          684           698           675             670            663             693         663          698                       -3                             11                        14\n",
      "678      IFF            0.36                     21      689           696          689           697           697             668            668             701         668          701                       -7                              1                         8\n",
      "785     EVRG            0.27                     21      798           799          798           804           796             790            777             797         777          804                       -1                              5                         6\n",
      "280     AXON            0.71                     21      283           284          283           289           285             273            262             293         262          293                       -1                              5                         6\n",
      "719      MAA            1.10                     21      730           736          730           736           725             709            709             731         709          736                       -6                              0                         6\n",
      "503      LEN           -0.75                     21      510           514          508           514           499             499            489             524         489          524                       -4                              0                         4\n",
      "884      SNN           -0.66                     21      900           903          900           904           900             889            879             912         879          912                       -3                              1                         4\n",
      "764     KSPI            1.68                     21      777           781          774           781           810             756            756             810         756          810                       -4                              0                         4\n",
      "329      GWW            0.62                     21      333           325          325           336           323             312            312             328         312          336                        8                             11                         3\n",
      "856     EMXC            0.83                     21      872           873          872           875           876             851            851             889         851          889                       -1                              2                         3\n",
      "562      MTD           -0.41                     21      572           574          563           574           568             561            551             571         551          574                       -2                              0                         2\n",
      "1349     IJT            0.24                     21     1441          1438         1438          1443          1439            1437           1420            1440        1420         1443                        3                              5                         2\n",
      "1235     IGF            0.18                     21     1289          1270         1270          1290          1277            1281           1268            1287        1268         1290                       19                             20                         1\n",
      "361        F           -2.33                     21      365           352          352           365           345             377            344             382         344          382                       13                             13                         0\n",
      "725      PKG           -1.47                     21      736           731          725           736           724             735            715             751         715          751                        5                              5                         0\n",
      "825      COO           -1.01                     21      840           837          835           840           832             842            819             850         819          850                        3                              3                         0\n",
      "1362    DFEM            0.01                     21     1455          1455         1455          1455          1455            1461           1434            1461        1434         1461                        0                              0                         0\n",
      "1404    FELC            0.10                     21     1499          1498         1497          1499          1498            1499           1478            1500        1478         1500                        1                              1                         0\n",
      "1408    EEMV            0.18                     21     1503          1502         1501          1503          1502            1501           1482            1503        1482         1503                        1                              1                         0\n",
      "1405    DIVO            0.22                     21     1500          1499         1499          1500          1499            1497           1479            1502        1479         1502                        1                              1                         0\n",
      "1430    FSEC            0.33                     21     1525          1523         1523          1525          1524            1524           1504            1529        1504         1529                        2                              2                         0\n",
      "600      BIV            0.62                     21      611           598          598           611           605             596            590             605         590          611                       13                             13                         0\n",
      "1186     JNK            0.77                     21     1235          1233         1232          1235          1236            1235           1214            1257        1214         1257                        2                              2                         0\n",
      "1295    KWEB            3.99                     22     1356          1407         1356          1407          1421            1372           1334            1428        1334         1428                      -51                              0                        51\n",
      "921     NDSN           -0.04                     22      940           944          940           950           942             918            918             947         918          950                       -4                              6                        10\n",
      "1034     ATR           -1.06                     22     1059          1064         1059          1064          1052            1056           1037            1065        1037         1065                       -5                              0                         5\n",
      "1382     EWZ           -0.45                     22     1477          1482         1477          1482          1478            1487           1455            1487        1455         1487                       -5                              0                         5\n",
      "867      EMA            0.78                     22      883           878          876           888           878             862            861             879         861          888                        5                             10                         5\n",
      "580      CHD            0.29                     22      590           594          586           594           588             568            568             592         568          594                       -4                              0                         4\n",
      "583      FTS            1.21                     22      593           590          587           597           590             573            571             594         571          597                        3                              7                         4\n",
      "1050      GL            1.49                     22     1076          1080         1076          1080          1074            1062           1054            1095        1054         1095                       -4                              0                         4\n",
      "1345     IJS            0.02                     22     1437          1415         1415          1440          1428            1430           1417            1440        1415         1440                       22                             25                         3\n",
      "391      DHI           -1.70                     22      395           397          395           397           384             408            373             414         373          414                       -2                              0                         2\n",
      "1449    RSPT            0.31                     22     1547          1546         1546          1549          1546            1545           1525            1546        1525         1549                        1                              3                         2\n",
      "209     SCCO           -0.47                     22      211           209          209           212           207             204            189             212         189          212                        2                              3                         1\n",
      "1414    SCHK            0.36                     22     1509          1509         1509          1510          1509            1506           1487            1509        1487         1510                        0                              1                         1\n",
      "752      PKX           -5.24                     22      765           749          749           765           746             819            743             835         743          835                       16                             16                         0\n",
      "533       IP           -2.34                     22      542           530          529           542           526             560            520             564         520          564                       12                             12                         0\n",
      "1043      KT           -1.34                     22     1068          1046         1046          1068          1051            1068           1048            1081        1046         1081                       22                             22                         0\n",
      "1216     BWA           -1.32                     22     1267          1254         1248          1267          1248            1271           1245            1279        1245         1279                       13                             13                         0\n",
      "620     AMCR           -1.03                     22      631           629          629           631           625             628            609             636         609          636                        2                              2                         0\n",
      "613      XLY           -0.29                     22      624           605          605           624           612             624            602             624         602          624                       19                             19                         0\n",
      "1437     KNG            0.05                     22     1534          1531         1531          1534          1529            1530           1512            1534        1512         1534                        3                              3                         0\n",
      "1359     RWL            0.12                     22     1451          1451         1451          1451          1451            1449           1429            1451        1429         1451                        0                              0                         0\n",
      "1376     VOX            0.21                     22     1470          1470         1470          1470          1471            1470           1448            1471        1448         1471                        0                              0                         0\n",
      "1368    VOOV            0.30                     22     1461          1461         1459          1461          1461            1458           1439            1463        1439         1463                        0                              0                         0\n",
      "1351     VCR            0.36                     22     1443          1442         1442          1443          1442            1439           1421            1443        1421         1443                        1                              1                         0\n",
      "1059     WBA            0.55                     22     1085          1071         1071          1085          1075            1067           1063            1085        1063         1085                       14                             14                         0\n",
      "495      TEF            0.64                     22      502           494          494           502           496             480            480             503         480          503                        8                              8                         0\n",
      "815      EWJ            0.83                     22      829           818          818           829           827             812            807             827         807          829                       11                             11                         0\n",
      "336       SU            1.03                     22      340           336          336           340           333             319            318             351         318          351                        4                              4                         0\n",
      "279      AEM            1.09                     22      282           277          277           282           278             260            260             285         260          285                        5                              5                         0\n",
      "842     USIG            1.17                     22      857           853          853           857           861             843            835             861         835          861                        4                              4                         0\n",
      "1275    MKSI           -5.01                     23     1336          1330         1330          1351          1332            1392           1313            1418        1313         1418                        6                             21                        15\n",
      "1164    UMBF           -2.87                     23     1208          1215         1205          1215          1185            1239           1185            1249        1185         1249                       -7                              0                         7\n",
      "1195       G           -1.21                     23     1245          1252         1240          1252          1247            1231           1222            1284        1222         1284                       -7                              0                         7\n",
      "311     PAYX            1.15                     23      314           321          314           321           314             292            291             319         291          321                       -7                              0                         7\n",
      "494      NTR            0.60                     23      501           493          493           507           489             478            478             511         478          511                        8                             14                         6\n",
      "1277      PB           -2.28                     23     1338          1339         1337          1342          1320            1361           1315            1363        1315         1363                       -1                              3                         4\n",
      "1384    ESGE            0.51                     23     1479          1483         1479          1483          1482            1475           1456            1482        1456         1483                       -4                              0                         4\n",
      "1281    VOYA           -1.73                     23     1342          1340         1340          1345          1323            1348           1319            1369        1319         1369                        2                              5                         3\n",
      "477       EL           -3.77                     23      483           478          478           484           471             527            460             527         460          527                        5                              6                         1\n",
      "187      HCA            0.33                     23      189           177          177           190           175             174            166             178         166          190                       12                             13                         1\n",
      "412       EA            0.50                     23      417           417          417           418           420             409            394             420         394          420                        0                              1                         1\n",
      "542      PPG           -0.96                     23      551           545          541           551           542             554            528             557         528          557                        6                              6                         0\n",
      "385     IDXX           -0.42                     23      389           373          373           389           373             374            366             381         366          389                       16                             16                         0\n",
      "689     CASY           -0.36                     23      700           685          685           700           679             690            677             701         677          701                       15                             15                         0\n",
      "1298    SHYG            0.49                     23     1360          1348         1348          1360          1361            1367           1337            1378        1337         1378                       12                             12                         0\n",
      "744     ONON            0.92                     23      755           748          748           755           754             732            732             760         732          760                        7                              7                         0\n",
      "614      IOT            1.79                     24      625           637          625           637           641             605            601             641         601          641                      -12                              0                        12\n",
      "490      NRG            0.57                     24      496           497          496           506           494             486            472             500         472          506                       -1                              9                        10\n",
      "761     ERIE            1.75                     24      774           784          772           784           779             750            750             789         750          789                      -10                              0                        10\n",
      "458       TW            0.94                     24      464           469          464           469           469             460            440             473         440          473                       -5                              0                         5\n",
      "1348    DFAE            0.45                     24     1440          1443         1439          1443          1441            1440           1416            1441        1416         1443                       -3                              0                         3\n",
      "587     USMV            0.66                     24      597           591          591           600           596             579            573             596         573          600                        6                              9                         3\n",
      "1420    JHMM            0.45                     24     1515          1515         1515          1516          1516            1511           1491            1516        1491         1516                        0                              1                         1\n",
      "606      ASX            1.32                     24      617           618          611           618           626             602            593             626         593          626                       -1                              0                         1\n",
      "492      IRM            1.43                     24      499           498          498           500           502             485            475             506         475          506                        1                              2                         1\n",
      "378      BIL            1.83                     24      382           378          378           383           385             358            358             386         358          386                        4                              5                         1\n",
      "1194     OSK           -4.34                     24     1244          1239         1233          1244          1233            1283           1220            1299        1220         1299                        5                              5                         0\n",
      "635       AS           -0.70                     24      646           628          628           646           636             646            622             659         622          659                       18                             18                         0\n",
      "1065     PAC           -0.24                     24     1091          1076         1076          1091          1082            1071           1067            1101        1067         1101                       15                             15                         0\n",
      "352      TAK            0.28                     24      356           349          347           356           344             340            332             353         332          356                        7                              7                         0\n",
      "1375     IDV            0.28                     24     1469          1467         1466          1469          1467            1464           1445            1467        1445         1469                        2                              2                         0\n",
      "1380    CGCP            0.34                     24     1475          1474         1473          1475          1475            1471           1451            1475        1451         1475                        1                              1                         0\n",
      "1401     DSI            0.38                     24     1496          1495         1495          1496          1495            1493           1472            1495        1472         1496                        1                              1                         0\n",
      "1406    SCHC            0.38                     24     1501          1500         1500          1501          1500            1496           1477            1501        1477         1501                        1                              1                         0\n",
      "813      ACM            0.46                     24      827           820          820           827           819             806            803             821         803          827                        7                              7                         0\n",
      "608     VGSH            0.74                     24      619           609          609           619           610             603            595             615         595          619                       10                             10                         0\n",
      "691     FSLR           -2.33                     25      702           714          702           734           752             691            677             788         677          788                      -12                             20                        32\n",
      "1168    HLNE           -1.98                     25     1213          1243         1188          1243          1232            1268           1218            1268        1188         1268                      -30                              0                        30\n",
      "1171     AAL           -3.45                     25     1216          1230         1216          1230          1218            1282           1191            1299        1191         1299                      -14                              0                        14\n",
      "959     AKAM            1.54                     25      980           990          980           993           996             955            955             996         955          996                      -10                              3                        13\n",
      "1293     MSA            0.72                     25     1354          1366         1354          1366          1360            1351           1329            1369        1329         1369                      -12                              0                        12\n",
      "933      IGV            1.08                     25      952           952          952           964           974             944            927             974         927          974                        0                             12                        12\n",
      "1063    COKE           -1.57                     25     1089          1098         1086          1098          1084            1099           1064            1103        1064         1103                       -9                              0                         9\n",
      "1211    JIRE            0.07                     25     1262          1246         1246          1269          1257            1255           1237            1267        1237         1269                       16                             23                         7\n",
      "370      OXY            0.60                     25      374           376          373           381           365             352            349             386         349          386                       -2                              5                         7\n",
      "1112     OGE            1.63                     25     1147          1148         1145          1154          1143            1129           1122            1161        1122         1161                       -1                              6                         7\n",
      "500     LULU           -0.13                     25      507           513          498           513           506             484            482             509         482          513                       -6                              0                         6\n",
      "1372     IBB            0.53                     25     1466          1469         1466          1471          1465            1457           1441            1466        1441         1471                       -3                              2                         5\n",
      "415     CTSH            0.70                     25      420           423          420           423           423             395            395             423         395          423                       -3                              0                         3\n",
      "1227    AVDE            0.25                     25     1281          1263         1263          1283          1272            1274           1256            1286        1256         1286                       18                             20                         2\n",
      "1279    BOXX            0.99                     25     1340          1333         1333          1342          1342            1336           1315            1359        1315         1359                        7                              9                         2\n",
      "1423    JMST            0.53                     25     1518          1519         1518          1519          1518            1513           1493            1519        1493         1519                       -1                              0                         1\n",
      "1369    BBIN            0.56                     25     1462          1463         1461          1463          1464            1455           1437            1464        1437         1464                       -1                              0                         1\n",
      "1394    DFSD            0.70                     25     1489          1490         1485          1490          1490            1483           1464            1492        1464         1492                       -1                              0                         1\n",
      "1262     AWI           -2.70                     25     1319          1308         1308          1319          1294            1344           1294            1344        1294         1344                       11                             11                         0\n",
      "1249    ELAN           -2.41                     25     1305          1292         1292          1305          1283            1306           1280            1340        1280         1340                       13                             13                         0\n",
      "517      BBD           -1.84                     25      524           499          499           524           507             764            507             811         499          811                       25                             25                         0\n",
      "814      TME           -1.76                     25      828           824          803           828           843             871            843             891         803          891                        4                              4                         0\n",
      "332     PCAR           -1.01                     25      336           323          323           336           328             328            311             337         311          337                       13                             13                         0\n",
      "1309     ARW           -0.24                     25     1373          1356         1356          1373          1357            1356           1348            1368        1348         1373                       17                             17                         0\n",
      "193     BBVA            0.06                     25      195           194          190           195           185             173            170             189         170          195                        1                              1                         0\n",
      "849      AVY            0.06                     25      865           865          855           865           859             845            840             867         840          867                        0                              0                         0\n",
      "1387    BBUS            0.37                     25     1482          1481         1480          1482          1481            1477           1457            1481        1457         1482                        1                              1                         0\n",
      "1447      FV            0.40                     25     1545          1544         1544          1545          1544            1538           1520            1544        1520         1545                        1                              1                         0\n",
      "360     CPRT            0.48                     25      364           362          362           364           356             343            339             356         339          364                        2                              2                         0\n",
      "925      CLH            0.51                     25      944           935          935           944           937             929            919             940         919          944                        9                              9                         0\n",
      "207      CVS            0.75                     25      209           202          202           209           203             185            184             203         184          209                        7                              7                         0\n",
      "784     GLDM            1.05                     25      797           773          773           797           786             774            772             797         772          797                       24                             24                         0\n",
      "788     RIVN            3.42                     26      801           833          801           849           836             776            775             836         775          849                      -32                             16                        48\n",
      "616     AFRM           -1.90                     26      627           640          621           640           657             669            601             676         601          676                      -13                              0                        13\n",
      "729      VOT            1.09                     26      740           743          740           748           750             763            714             763         714          763                       -3                              5                         8\n",
      "1210    AVLV           -0.13                     26     1261          1244         1244          1267          1251            1269           1235            1269        1235         1269                       17                             23                         6\n",
      "1453    SKYY            0.57                     26     1553          1557         1553          1557          1558            1546           1527            1558        1527         1558                       -4                              0                         4\n",
      "486     VONG           -0.84                     26      492           488          488           495           493             511            466             514         466          514                        4                              7                         3\n",
      "1443    CGXU            0.40                     26     1540          1543         1540          1543          1541            1533           1514            1541        1514         1543                       -3                              0                         3\n",
      "994     BMRN           -0.95                     26     1015          1016          998          1016          1001            1006            989            1042         989         1042                       -1                              0                         1\n",
      "747      GPC           -0.23                     26      758           759          757           759           751             747            732             762         732          762                       -1                              0                         1\n",
      "1385     DLN            0.52                     26     1480          1480         1480          1481          1480            1473           1454            1480        1454         1481                        0                              1                         1\n",
      "449      TKO            0.53                     26      454           455          453           455           445             451            428             451         428          455                       -1                              0                         1\n",
      "342      AIG            1.35                     26      346           345          345           347           347             323            320             347         320          347                        1                              2                         1\n",
      "496       KB           -1.38                     26      503           480          480           503           482             502            477             513         477          513                       23                             23                         0\n",
      "1364    BOND            0.46                     26     1457          1456         1456          1457          1457            1451           1431            1458        1431         1458                        1                              1                         0\n",
      "1374    VUSB            0.56                     26     1468          1468         1466          1468          1468            1462           1442            1468        1442         1468                        0                              0                         0\n",
      "1378    BBAX            0.68                     26     1472          1472         1472          1472          1473            1465           1446            1475        1446         1475                        0                              0                         0\n",
      "1147    SCHZ            1.43                     26     1185          1178         1178          1185          1184            1163           1159            1187        1159         1187                        7                              7                         0\n",
      "960      MOS            0.60                     27      981           980          980          1000           991             971            954             996         954         1000                        1                             20                        19\n",
      "1308     GPK            0.76                     27     1370          1378         1363          1378          1373            1353           1343            1402        1343         1402                       -8                              0                         8\n",
      "809      TER           -1.45                     27      823           823          823           829           814             834            796             846         796          846                        0                              6                         6\n",
      "648     COWZ            0.82                     27      659           651          651           663           654             637            632             654         632          663                        8                             12                         4\n",
      "1451    SUSA            0.57                     27     1550          1550         1550          1552          1549            1543           1523            1551        1523         1552                        0                              2                         2\n",
      "205       CI            0.70                     27      207           203          201           209           204             191            180             205         180          209                        4                              6                         2\n",
      "286     MNST            1.39                     27      289           286          286           291           286             262            262             290         262          291                        3                              5                         2\n",
      "1390    OMFL            0.50                     27     1485          1486         1484          1486          1487            1480           1458            1487        1458         1487                       -1                              0                         1\n",
      "980     WYNN           -8.75                     27     1001           974          974          1001           980            1104            975            1112         974         1112                       27                             27                         0\n",
      "558       MT           -2.06                     27      568           554          554           568           549             576            541             589         541          589                       14                             14                         0\n",
      "1193    MTCH           -1.00                     27     1243          1242         1239          1243          1241            1246           1216            1269        1216         1269                        1                              1                         0\n",
      "763      FDS           -0.18                     27      776           767          764           776           764             773            749             773         749          776                        9                              9                         0\n",
      "1446     DON            0.25                     27     1543          1539         1539          1543          1539            1535           1516            1540        1516         1543                        4                              4                         0\n",
      "389     TTWO            0.45                     27      393           374          374           393           377             376            366             388         366          393                       19                             19                         0\n",
      "886     UTHR            0.52                     27      902           887          882           902           887             879            875             904         875          904                       15                             15                         0\n",
      "1445    BSCR            0.57                     27     1542          1542         1538          1542          1540            1534           1515            1544        1515         1544                        0                              0                         0\n",
      "1007    SCHR            1.27                     27     1028          1018         1018          1028          1023            1009           1001            1027        1001         1028                       10                             10                         0\n",
      "834     VMBS            1.53                     27      849           841          841           849           849             826            822             849         822          849                        8                              8                         0\n",
      "803     DECK            0.71                     28      816           843          816           843           831             789            788             831         788          843                      -27                              0                        27\n",
      "892     BWXT            2.29                     28      908           924          908           924           924             893            880             931         880          931                      -16                              0                        16\n",
      "536      CQP            1.32                     28      545           546          545           557           538             519            517             546         517          557                       -1                             11                        12\n",
      "962      TOL           -3.45                     28      983           994          979           994           972            1013            955            1036         955         1036                      -11                              0                        11\n",
      "589      HPQ           -0.79                     28      599           602          599           608           603             590            571             603         571          608                       -3                              6                         9\n",
      "717      VOE            1.34                     28      728           724          724           734           726             722            700             732         700          734                        4                             10                         6\n",
      "1273    BUFR            1.20                     28     1334          1326         1326          1339          1343            1332           1306            1348        1306         1348                        8                             13                         5\n",
      "1187     NFG            3.34                     28     1236          1228         1228          1239          1268            1245           1208            1289        1208         1289                        8                             11                         3\n",
      "1012     DVA           -0.47                     28     1033          1031         1029          1035          1024            1033           1005            1042        1005         1042                        2                              4                         2\n",
      "1365     BLV            0.62                     28     1458          1460         1458          1460          1460            1450           1430            1460        1430         1460                       -2                              0                         2\n",
      "1026    AMLP            1.56                     28     1049          1035         1035          1051          1048            1023           1021            1054        1021         1054                       14                             16                         2\n",
      "615      GFS           -1.75                     28      626           619          619           627           619             639            598             653         598          653                        7                              8                         1\n",
      "623      PHM           -2.73                     28      634           632          628           634           614             648            606             663         606          663                        2                              2                         0\n",
      "1253     TTC           -1.38                     28     1309          1301         1301          1309          1296            1318           1281            1321        1281         1321                        8                              8                         0\n",
      "448      BRO            0.64                     28      453           440          440           453           439             430            425             443         425          453                       13                             13                         0\n",
      "1383    LMBS            0.71                     28     1478          1478         1476          1478          1477            1469           1450            1479        1450         1479                        0                              0                         0\n",
      "1413    ISTB            0.71                     28     1508          1507         1506          1508          1507            1498           1480            1508        1480         1508                        1                              1                         0\n",
      "254      CNQ            1.14                     28      256           250          250           256           252             235            228             256         228          256                        6                              6                         0\n",
      "446      CHT            1.23                     28      451           445          445           451           446             426            423             447         423          451                        6                              6                         0\n",
      "550      EQR            1.52                     28      560           558          554           560           557             534            532             559         532          560                        2                              2                         0\n",
      "585      SHY            1.59                     28      595           586          586           595           591             574            567             596         567          596                        9                              9                         0\n",
      "997      IWN           -0.61                     29     1018           999          999          1024          1014            1012            989            1016         989         1024                       19                             25                         6\n",
      "1396     FEZ            0.71                     29     1491          1492         1490          1496          1491            1484           1462            1492        1462         1496                       -1                              4                         5\n",
      "697      NMR           -0.13                     29      708           700          700           710           698             704            679             710         679          710                        8                             10                         2\n",
      "245      ZTS            0.73                     29      247           245          245           249           239             218            218             243         218          249                        2                              4                         2\n",
      "1077    VGLT            1.43                     29     1103          1095         1095          1104          1100            1082           1074            1101        1074         1104                        8                              9                         1\n",
      "569     HBAN           -2.56                     29      579           577          571           579           567             597            550             598         550          598                        2                              2                         0\n",
      "928     EXEL           -2.02                     29      947           947          939           947           935             974            918             990         918          990                        0                              0                         0\n",
      "1338    FBIN           -1.32                     29     1419          1414         1400          1419          1396            1408           1390            1433        1390         1433                        5                              5                         0\n",
      "1109     EMN           -1.25                     29     1143          1138         1138          1143          1129            1125           1114            1167        1114         1167                        5                              5                         0\n",
      "462        A           -0.47                     29      468           466          459           468           450             444            439             458         439          468                        2                              2                         0\n",
      "1399     XBI           -0.09                     29     1494          1476         1476          1494          1479            1485           1465            1500        1465         1500                       18                             18                         0\n",
      "1433    HYLB            0.52                     29     1530          1526         1526          1530          1526            1521           1501            1526        1501         1530                        4                              4                         0\n",
      "981      TLH            0.89                     29     1002           987          987          1002           994             985            973             997         973         1002                       15                             15                         0\n",
      "487      WDS            1.36                     29      493           490          490           493           487             470            464             500         464          500                        3                              3                         0\n",
      "942     PHYS            1.97                     29      961           960          956           961           961             937            932             971         932          971                        1                              1                         0\n",
      "579      PTC           -3.16                     30      589           601          589           601           608             642            559             661         559          661                      -12                              0                        12\n",
      "316     TEAM           -0.06                     30      319           328          319           328           326             304            289             330         289          330                       -9                              0                         9\n",
      "1280    JCPB            1.30                     30     1341          1332         1332          1348          1347            1340           1311            1355        1311         1355                        9                             16                         7\n",
      "1427    GSIE            0.60                     30     1522          1521         1520          1523          1519            1512           1492            1520        1492         1523                        1                              2                         1\n",
      "223      GSK            0.79                     30      225           212          212           226           214             195            195             216         195          226                       13                             14                         1\n",
      "804     ILMN           -1.95                     30      817           805          805           817           803             829            787             829         787          829                       12                             12                         0\n",
      "972     DOCS           -1.28                     30      993           971          966           993           981            1021            963            1021         963         1021                       22                             22                         0\n",
      "952     ICLR           -0.25                     30      972           964          962           972           951             947            942             967         942          972                        8                              8                         0\n",
      "1435     PGX            0.30                     30     1532          1527         1527          1532          1523            1522           1502            1530        1502         1532                        5                              5                         0\n",
      "1357     FPE            0.43                     30     1449          1446         1444          1449          1446            1441           1419            1446        1419         1449                        3                              3                         0\n",
      "455      XLV            0.67                     30      461           452          452           461           453             431            431             453         431          461                        9                              9                         0\n",
      "1418    BSCQ            0.77                     30     1513          1512         1512          1513          1512            1503           1483            1513        1483         1513                        1                              1                         0\n",
      "676     INSM            2.45                     30      687           676          674           687           685             682            657             725         657          725                       11                             11                         0\n",
      "1184    OLLI           -0.24                     31     1232          1266         1226          1266          1246            1262           1201            1282        1201         1282                      -34                              0                        34\n",
      "1101    AVTR            0.76                     31     1133          1155         1133          1159          1137            1111           1102            1137        1102         1159                      -22                              4                        26\n",
      "808      FNF            1.77                     31      822           834          822           834           837             801            791             860         791          860                      -12                              0                        12\n",
      "878      EMB           -0.32                     31      894           880          880           897           882             881            863             883         863          897                       14                             17                         3\n",
      "518      XLE            1.06                     31      525           507          507           528           508             501            494             535         494          535                       18                             21                         3\n",
      "1204     IJJ           -0.05                     31     1254          1235         1235          1255          1243            1249           1223            1255        1223         1255                       19                             20                         1\n",
      "1373    EFAV            0.75                     31     1467          1465         1465          1468          1466            1452           1436            1466        1436         1468                        2                              3                         1\n",
      "771      CPT            1.79                     31      784           785          778           785           778             755            753             786         753          786                       -1                              0                         1\n",
      "1425    DIHP            0.55                     31     1520          1517         1517          1520          1514            1509           1489            1516        1489         1520                        3                              3                         0\n",
      "1432    EAGG            0.62                     31     1527          1524         1524          1527          1525            1517           1496            1525        1496         1527                        3                              3                         0\n",
      "1361    SPTS            0.67                     31     1454          1452         1452          1454          1452            1443           1423            1452        1423         1454                        2                              2                         0\n",
      "1377    SGOL            0.91                     31     1471          1471         1469          1471          1470            1460           1440            1474        1440         1474                        0                              0                         0\n",
      "693      KGC            0.96                     31      704           692          692           704           695             687            673             714         673          714                       12                             12                         0\n",
      "665      AER            0.99                     31      676           663          663           676           664             650            645             669         645          676                       13                             13                         0\n",
      "450     ITUB            1.09                     31      455           453          448           455           459             424            424             459         424          459                        2                              2                         0\n",
      "1072    COOP            0.47                     32     1098          1117         1098          1117          1096            1108           1066            1121        1066         1121                      -19                              0                        19\n",
      "1015    CACI           -1.88                     32     1036          1049         1036          1049          1032            1074           1004            1074        1004         1074                      -13                              0                        13\n",
      "1248     FDN            0.03                     32     1304          1285         1285          1317          1297            1300           1272            1308        1272         1317                       19                             32                        13\n",
      "1397     TMF            0.90                     32     1492          1497         1491          1497          1496            1481           1460            1496        1460         1497                       -5                              0                         5\n",
      "568      TYL            1.45                     32      578           583          578           583           577             546            546             585         546          585                       -5                              0                         5\n",
      "1022    WTRG            1.76                     32     1045          1040         1040          1049          1041            1028           1013            1062        1013         1062                        5                              9                         4\n",
      "628      GFI            1.63                     32      639           631          631           642           634             607            607             651         607          651                        8                             11                         3\n",
      "627      NVR           -1.20                     32      638           639          634           639           624             630            606             646         606          646                       -1                              0                         1\n",
      "1025     WLK           -4.54                     32     1048          1045         1033          1048          1034            1075           1016            1110        1016         1110                        3                              3                         0\n",
      "1046     MGM           -3.78                     32     1072          1054         1054          1072          1055            1101           1040            1119        1040         1119                       18                             18                         0\n",
      "1129    BBIO           -3.03                     32     1164          1135         1135          1164          1132            1221           1132            1235        1132         1235                       29                             29                         0\n",
      "1421    CALF            0.66                     32     1516          1513         1513          1516          1513            1504           1484            1513        1484         1516                        3                              3                         0\n",
      "1233    GTLB           -0.69                     33     1287          1314         1287          1328          1329            1303           1254            1350        1254         1350                      -27                             14                        41\n",
      "835     HOLX            1.12                     33      850           854          843           854           846             817            817             846         817          854                       -4                              0                         4\n",
      "898     VONV           -1.15                     33      914           902          902           917           908             932            881             932         881          932                       12                             15                         3\n",
      "354       ZS            0.73                     33      358           356          356           361           359             339            325             359         325          361                        2                              5                         3\n",
      "781      SUI            0.82                     33      794           787          786           796           789             779            761             789         761          796                        7                              9                         2\n",
      "1136    SCHI            1.28                     33     1171          1163         1163          1172          1172            1158           1138            1179        1138         1179                        8                              9                         1\n",
      "1174     LNW           -5.38                     33     1219          1209         1200          1219          1210            1291           1186            1298        1186         1298                       10                             10                         0\n",
      "1006     SWK           -3.30                     33     1027          1023         1015          1027          1013            1046            994            1058         994         1058                        4                              4                         0\n",
      "1439    TOTL            0.65                     33     1536          1533         1532          1536          1532            1531           1503            1533        1503         1536                        3                              3                         0\n",
      "1455     DXJ            0.67                     33     1559          1555         1553          1559          1554            1548           1526            1556        1526         1559                        4                              4                         0\n",
      "629      PBA            1.63                     33      640           633          633           640           635             612            607             644         607          644                        7                              7                         0\n",
      "1252    LSCC           -1.25                     34     1308          1303         1303          1322          1292            1345           1274            1345        1274         1345                        5                             19                        14\n",
      "1134    SPTI            1.98                     34     1169          1168         1168          1178          1174            1139           1135            1176        1135         1178                        1                             10                         9\n",
      "1169    DINO           -2.06                     34     1214          1197         1197          1222          1203            1234           1180            1244        1180         1244                       17                             25                         8\n",
      "748      HYG            0.65                     34      760           755          755           764           755             738            726             758         726          764                        5                              9                         4\n",
      "1391    XMHQ            0.83                     34     1486          1484         1484          1488          1484            1472           1452            1484        1452         1488                        2                              4                         2\n",
      "895      EFG            0.57                     34      911           900          900           912           906             880            877             911         877          912                       11                             12                         1\n",
      "636      BIP            1.13                     34      647           645          643           648           645             616            613             645         613          648                        2                              3                         1\n",
      "1264    PSLV            1.47                     34     1322          1317         1317          1323          1316            1321           1288            1353        1288         1353                        5                              6                         1\n",
      "1073     LKQ           -0.52                     34     1099          1084         1084          1099          1078            1073           1065            1098        1065         1099                       15                             15                         0\n",
      "890     SCHP            0.98                     34      906           895          895           906           904             896            872             910         872          910                       11                             11                         0\n",
      "1434    REET            1.07                     34     1531          1528         1528          1531          1528            1514           1497            1528        1497         1531                        3                              3                         0\n",
      "634     BEKE            1.27                     34      645           630          630           645           632             611            611             663         611          663                       15                             15                         0\n",
      "860      TIP            1.91                     35      876           872          872           879           875             852            841             876         841          879                        4                              7                         3\n",
      "566     BIDU            0.10                     35      576           541          541           578           584             564            558             584         541          584                       35                             37                         2\n",
      "1360    TBIL            1.10                     35     1452          1454         1452          1454          1453            1438           1417            1453        1417         1454                       -2                              0                         2\n",
      "1271    BKLN            1.19                     35     1332          1319         1319          1334          1327            1319           1297            1339        1297         1339                       13                             15                         2\n",
      "1407    PDBC            1.12                     35     1502          1503         1502          1503          1503            1492           1467            1505        1467         1505                       -1                              0                         1\n",
      "1166    VIGI            1.16                     35     1211          1200         1200          1212          1205            1176           1176            1207        1176         1212                       11                             12                         1\n",
      "1274       R           -5.63                     35     1335          1300         1300          1335          1304            1400           1300            1400        1300         1400                       35                             35                         0\n",
      "1318     BYD           -1.79                     35     1384          1375         1375          1384          1380            1415           1349            1415        1349         1415                        9                              9                         0\n",
      "964     CELH           -0.46                     35      985           966          966           985           971             983            950             991         950          991                       19                             19                         0\n",
      "1282    HALO           -0.32                     35     1343          1329         1308          1343          1318            1334           1318            1396        1308         1396                       14                             14                         0\n",
      "1448     IXJ            0.56                     35     1546          1538         1538          1546          1536            1525           1511            1538        1511         1546                        8                              8                         0\n",
      "551      CVE            0.88                     35      561           548          548           561           546             529            526             566         526          566                       13                             13                         0\n",
      "727      SLV            0.91                     35      738           703          703           738           736             736            718             751         703          751                       35                             35                         0\n",
      "918     STIP            1.13                     35      937           911          911           937           922             903            902             922         902          937                       26                             26                         0\n",
      "1070     PSO            1.49                     35     1096          1089         1086          1096          1088            1063           1061            1093        1061         1096                        7                              7                         0\n",
      "1238    BXSL            1.85                     35     1293          1286         1282          1293          1291            1289           1258            1321        1258         1321                        7                              7                         0\n",
      "1299    JAZZ            2.17                     35     1361          1349         1331          1361          1372            1337           1326            1392        1326         1392                       12                             12                         0\n",
      "1255       W           -6.07                     36     1312          1343         1312          1343          1308            1397           1276            1397        1276         1397                      -31                              0                        31\n",
      "1011     PPC            2.12                     36     1032          1048         1032          1048          1035            1003            996            1035         996         1048                      -16                              0                        16\n",
      "679     CYBR            1.29                     36      690           695          690           696           702             671            654             705         654          705                       -5                              1                         6\n",
      "1324    MCHI            2.85                     36     1396          1401         1386          1401          1418            1375           1360            1432        1360         1432                       -5                              0                         5\n",
      "723       TS           -0.66                     36      734           722          720           734           712             715            698             735         698          735                       12                             12                         0\n",
      "493    PBR-A            0.55                     36      500           481          481           500           483             474            464             488         464          500                       19                             19                         0\n",
      "1416     IHI            0.86                     36     1511          1508         1507          1511          1508            1494           1475            1508        1475         1511                        3                              3                         0\n",
      "1215    OBDC            2.00                     36     1266          1265         1260          1266          1273            1259           1230            1293        1230         1293                        1                              1                         0\n",
      "909     VTWO           -0.76                     37      926           922          922           935           925             930            889             930         889          935                        4                             13                         9\n",
      "1132     PRI            0.41                     37     1167          1176         1165          1176          1169            1156           1130            1177        1130         1177                       -9                              0                         9\n",
      "797     RDVY            0.52                     37      810           809          809           819           815             822            773             822         773          822                        1                             10                         9\n",
      "1067    VCLT            1.77                     37     1093          1093         1093          1101          1098            1058           1056            1098        1056         1101                        0                              8                         8\n",
      "656     ESLT            0.48                     37      667           652          652           673           649             641            630             671         630          673                       15                             21                         6\n",
      "1091     CPB            2.62                     37     1122          1123         1117          1123          1123            1085           1085            1136        1085         1136                       -1                              0                         1\n",
      "1179    NVMI           -7.42                     37     1226          1192         1192          1226          1207            1322           1189            1326        1189         1326                       34                             34                         0\n",
      "593      SHG           -3.15                     37      603           573          573           603           566             618            566             632         566          632                       30                             30                         0\n",
      "855     ALGN           -2.33                     37      871           856          856           871           845             870            834             893         834          893                       15                             15                         0\n",
      "1115    MEDP           -1.26                     37     1150          1127         1126          1150          1118            1142           1113            1149        1113         1150                       23                             23                         0\n",
      "358      PBR            0.50                     37      362           347          347           362           348             341            325             349         325          362                       15                             15                         0\n",
      "991     SPTL            0.59                     37     1012           998          998          1012          1009             996            975            1009         975         1012                       14                             14                         0\n",
      "1270     ADT            0.72                     37     1331          1322         1322          1331          1309            1308           1294            1337        1294         1337                        9                              9                         0\n",
      "1438    BILS            1.21                     37     1535          1532         1531          1535          1530            1515           1498            1533        1498         1535                        3                              3                         0\n",
      "1167    BBCA            1.25                     37     1212          1189         1189          1212          1200            1177           1175            1208        1175         1212                       23                             23                         0\n",
      "880     MINT            2.06                     37      896           883          883           896           893             860            859             893         859          896                       13                             13                         0\n",
      "1142    REXR            1.62                     38     1177          1173         1173          1197          1163            1148           1139            1178        1139         1197                        4                             24                        20\n",
      "1291     OMF           -3.21                     38     1352          1347         1347          1362          1337            1388           1314            1389        1314         1389                        5                             15                        10\n",
      "386     FANG            1.58                     38      390           395          390           398           388             357            352             395         352          398                       -5                              3                         8\n",
      "647      FMX            1.39                     38      658           664          656           664           666             620            620             666         620          666                       -6                              0                         6\n",
      "1312     VMI            0.73                     38     1377          1382         1369          1382          1382            1349           1339            1382        1339         1382                       -5                              0                         5\n",
      "578       AU            2.02                     38      588           582          582           592           580             550            550             612         550          612                        6                             10                         4\n",
      "1098     ORI            1.42                     38     1129          1128         1126          1132          1121            1109           1091            1140        1091         1140                        1                              4                         3\n",
      "1192    SIRI           -3.50                     38     1242          1222         1222          1244          1214            1265           1204            1275        1204         1275                       20                             22                         2\n",
      "1048    CAVA           -6.56                     38     1074          1061         1056          1075          1054            1144           1036            1163        1036         1163                       13                             14                         1\n",
      "769      CNH           -0.78                     38      782           768          768           782           763             766            744             780         744          782                       14                             14                         0\n",
      "726      VIV           -0.45                     38      737           728          726           737           731             710            699             734         699          737                        9                              9                         0\n",
      "1028    VTRS           -0.26                     38     1051          1044         1023          1051          1030            1019           1013            1038        1013         1051                        7                              7                         0\n",
      "817     APTV           -0.17                     38      832           817          810           832           812             802            794             821         794          832                       15                             15                         0\n",
      "800     EXPD            0.20                     38      813           803          803           813           797             777            775             797         775          813                       10                             10                         0\n",
      "1178     DCI            0.49                     38     1223          1210         1210          1223          1217            1204           1185            1217        1185         1223                       13                             13                         0\n",
      "1415    VFLO            1.01                     38     1510          1506         1506          1510          1506            1507           1472            1510        1472         1510                        4                              4                         0\n",
      "841       EG            1.22                     38      856           855          850           856           840             821            818             849         818          856                        1                              1                         0\n",
      "522      GIS            1.36                     38      531           527          527           531           521             493            493             521         493          531                        4                              4                         0\n",
      "1163    QYLD            1.60                     38     1207          1193         1192          1207          1195            1172           1169            1202        1169         1207                       14                             14                         0\n",
      "768      SFM            1.93                     38      781           772          768           781           784             781            743             808         743          808                        9                              9                         0\n",
      "1241    MDGL           -2.18                     39     1296          1336         1257          1336          1317            1381           1317            1417        1257         1417                      -40                              0                        40\n",
      "214     EQIX            3.06                     39      216           226          216           226           227             181            177             227         177          227                      -10                              0                        10\n",
      "1143     ASR            1.58                     39     1179          1185         1167          1185          1191            1140           1140            1196        1140         1196                       -6                              0                         6\n",
      "857      OMC           -0.30                     39      873           868          839           877           856             846            834             858         834          877                        5                              9                         4\n",
      "1266    FNDE            1.07                     39     1324          1312         1312          1326          1319            1311           1285            1334        1285         1334                       12                             14                         2\n",
      "1181    TECH           -0.67                     39     1228          1221         1201          1228          1212            1196           1189            1230        1189         1230                        7                              7                         0\n",
      "1315    VLUE            0.71                     39     1381          1351         1351          1381          1367            1364           1342            1376        1342         1381                       30                             30                         0\n",
      "1450     IYR            0.82                     39     1549          1536         1536          1549          1534            1527           1510            1544        1510         1549                       13                             13                         0\n",
      "1454     CMF            1.10                     39     1557          1553         1553          1557          1553            1537           1518            1554        1518         1557                        4                              4                         0\n",
      "1371    GDXJ            1.17                     39     1465          1459         1459          1465          1459            1442           1426            1465        1426         1465                        6                              6                         0\n",
      "368      HLN            1.54                     39      372           363          363           372           364             333            333             364         333          372                        9                              9                         0\n",
      "894     JKHY            2.01                     39      910           910          906           910           913             873            871             917         871          917                        0                              0                         0\n",
      "1203      AA           -1.43                     40     1253          1281         1253          1290          1260            1250           1213            1283        1213         1290                      -28                              9                        37\n",
      "1117    PEGA            0.30                     40     1152          1177         1152          1177          1178            1153           1112            1186        1112         1186                      -25                              0                        25\n",
      "1321     FSS           -1.92                     40     1392          1390         1390          1398          1389            1399           1352            1406        1352         1406                        2                              8                         6\n",
      "1102     FVD            1.15                     40     1134          1122         1122          1140          1133            1120           1094            1142        1094         1142                       12                             18                         6\n",
      "783      XLP            1.53                     40      796           771          771           799           780             765            756             793         756          799                       25                             28                         3\n",
      "1205    MIDD            0.39                     40     1256          1255         1248          1258          1249            1230           1216            1249        1216         1258                        1                              3                         2\n",
      "1254     DLB            1.18                     40     1311          1305         1304          1311          1303            1280           1271            1306        1271         1311                        6                              6                         0\n",
      "1002    SCHO            1.45                     40     1023          1015         1015          1023          1021            1001            983            1021         983         1023                        8                              8                         0\n",
      "899      RGA            1.76                     40      915           913          904           915           905             875            875             912         875          915                        2                              2                         0\n",
      "875      UDR            2.10                     40      891           885          881           891           891             856            851             891         851          891                        6                              6                         0\n",
      "879      AMH            2.56                     40      895           890          889           895           894             867            855             901         855          901                        5                              5                         0\n",
      "677     SMMT           -5.68                     41      688           729          647           729           707             809            691             810         647          810                      -41                              0                        41\n",
      "938      CNA            2.37                     41      957           967          957           967           957             920            916             963         916          967                      -10                              0                        10\n",
      "774      EQH            0.44                     41      787           795          787           795           774             769            746             778         746          795                       -8                              0                         8\n",
      "1294    IEUR            1.01                     41     1355          1335         1335          1359          1344            1323           1314            1351        1314         1359                       20                             24                         4\n",
      "916      ELS            2.12                     41      935           939          934           939           938             915            894             943         894          943                       -4                              0                         4\n",
      "1342     FXI            2.06                     41     1428          1431         1413          1431          1438            1407           1387            1439        1387         1439                       -3                              0                         3\n",
      "489      FNV            1.39                     41      495           484          484           496           481             454            454             485         454          496                       11                             12                         1\n",
      "941       OC           -2.91                     41      960           949          949           960           945             963            919             987         919          987                       11                             11                         0\n",
      "1190     EZU            0.17                     41     1240          1219         1219          1240          1227            1216           1199            1227        1199         1240                       21                             21                         0\n",
      "1395    VWOB            0.34                     41     1490          1473         1473          1490          1472            1468           1449            1472        1449         1490                       17                             17                         0\n",
      "1417    BBEU            0.84                     41     1512          1501         1501          1512          1501            1486           1471            1501        1471         1512                       11                             11                         0\n",
      "1030     GME            1.62                     41     1053          1051         1034          1053          1042            1032           1012            1064        1012         1064                        2                              2                         0\n",
      "900     BBJP            1.70                     42      916           907          907           921           920             883            874             920         874          921                        9                             14                         5\n",
      "572       DG            0.86                     42      582           563          563           583           560             551            540             570         540          583                       19                             20                         1\n",
      "1118     IPG           -1.53                     42     1153          1131         1114          1153          1127            1138           1111            1162        1111         1162                       22                             22                         0\n",
      "1300    VIRT            1.29                     42     1362          1345         1345          1362          1348            1359           1320            1382        1320         1382                       17                             17                         0\n",
      "1276     EXP           -3.54                     43     1337          1331         1331          1340          1307            1363           1294            1377        1294         1377                        6                              9                         3\n",
      "666     INVH            2.38                     43      677           677          676           678           674             649            634             674         634          678                        0                              1                         1\n",
      "1170    LEVI           -4.80                     43     1215          1188         1188          1215          1188            1307           1172            1307        1172         1307                       27                             27                         0\n",
      "1225     CRL           -1.50                     43     1278          1260         1260          1278          1255            1257           1235            1285        1235         1285                       18                             18                         0\n",
      "596     CHKP            0.66                     43      606           587          587           606           587             570            563             597         563          606                       19                             19                         0\n",
      "810      VHT            1.25                     43      824           806          806           824           811             785            781             812         781          824                       18                             18                         0\n",
      "1350    SPMB            1.47                     43     1442          1440         1440          1442          1437            1417           1399            1440        1399         1442                        2                              2                         0\n",
      "576     GDDY            1.84                     43      586           581          580           586           579             547            543             581         543          586                        5                              5                         0\n",
      "1306    UWMC            1.40                     44     1368          1370         1368          1385          1368            1346           1324            1406        1324         1406                       -2                             15                        17\n",
      "1329     KEX            1.10                     44     1403          1396         1396          1410          1390            1376           1359            1403        1359         1410                        7                             14                         7\n",
      "1113     AYI           -2.61                     44     1148          1146         1146          1153          1135            1175           1104            1175        1104         1175                        2                              7                         5\n",
      "743     RYAN            2.35                     44      754           758          743           758           756             731            710             763         710          763                       -4                              0                         4\n",
      "701      TSN            0.49                     44      712           715          703           715           699             685            668             702         668          715                       -3                              0                         3\n",
      "1335    ACWX            1.62                     44     1413          1402         1402          1416          1413            1374           1369            1414        1369         1416                       11                             14                         3\n",
      "1217    SAIA           -3.93                     44     1268          1249         1249          1268          1250            1295           1224            1305        1224         1305                       19                             19                         0\n",
      "1402    GUNR            1.13                     44     1497          1493         1492          1497          1489            1474           1453            1491        1453         1497                        4                              4                         0\n",
      "609       ZM            1.75                     44      620           610          610           620           613             582            576             624         576          624                       10                             10                         0\n",
      "833      BBY           -0.29                     45      848           830          830           851           823             803            803             845         803          851                       18                             21                         3\n",
      "249     EQNR            1.62                     45      251           254          251           254           250             212            206             250         206          254                       -3                              0                         3\n",
      "541      WRB            2.02                     45      550           549          548           551           543             515            505             547         505          551                        1                              2                         1\n",
      "1141     ALV           -1.42                     45     1176          1132         1132          1176          1131            1145           1131            1166        1131         1176                       44                             44                         0\n",
      "711       WY            1.17                     45      722           717          702           722           711             679            677             711         677          722                        5                              5                         0\n",
      "1161    SDVY           -0.10                     46     1205          1184         1184          1215          1192            1213           1159            1218        1159         1218                       21                             31                        10\n",
      "1125     ICL           -1.03                     46     1160          1151         1151          1169          1146            1152           1114            1165        1114         1169                        9                             18                         9\n",
      "639      DVN            1.48                     46      650           653          650           659           642             606            604             656         604          659                       -3                              6                         9\n",
      "1083    CUBE            1.56                     46     1110          1103         1102          1114          1095            1069           1064            1098        1064         1114                        7                             11                         4\n",
      "882       WF           -6.11                     46      898           852          852           898           858             978            858             983         852          983                       46                             46                         0\n",
      "524      LQD           -0.46                     46      533           503          503           533           505             503            487             516         487          533                       30                             30                         0\n",
      "549      NOK            0.46                     46      559           552          552           559           544             516            513             544         513          559                        7                              7                         0\n",
      "1016     DTM            2.56                     47     1037          1043         1037          1055          1036            1011            990            1052         990         1055                       -6                             12                        18\n",
      "1284    SPYD            1.64                     47     1345          1325         1325          1355          1339            1315           1298            1346        1298         1355                       20                             30                        10\n",
      "775       DT            2.21                     47      788           796          788           796           794             759            741             807         741          807                       -8                              0                         8\n",
      "567      DRI            2.03                     47      577           575          574           581           574             532            530             574         530          581                        2                              6                         4\n",
      "984     BSAC            1.09                     47     1005          1003         1003          1006          1000             958            958            1000         958         1006                        2                              3                         1\n",
      "1041     BLD           -7.28                     47     1066          1060         1057          1066          1033            1150           1019            1166        1019         1166                        6                              6                         0\n",
      "1320     SSD           -0.78                     47     1387          1372         1372          1387          1349            1352           1340            1381        1340         1387                       15                             15                         0\n",
      "827      BCH            2.13                     47      842           842          841           842           850             795            795             850         795          850                        0                              0                         0\n",
      "758     OKTA            2.75                     48      771           782          771           791           783             727            723             783         723          791                      -11                              9                        20\n",
      "1261     PDI            1.23                     48     1318          1307         1307          1321          1311            1293           1270            1311        1270         1321                       11                             14                         3\n",
      "1191    AGCO           -1.55                     48     1241          1234         1229          1241          1231            1233           1193            1254        1193         1254                        7                              7                         0\n",
      "877      IWS            0.41                     48      893           879          879           893           886             882            845             886         845          893                       14                             14                         0\n",
      "617      STE            1.92                     48      628           613          613           628           622             580            580             622         580          628                       15                             15                         0\n",
      "1176     FRT            2.29                     48     1221          1218         1208          1221          1211            1182           1173            1217        1173         1221                        3                              3                         0\n",
      "961      RNR            2.59                     48      982           977          970           982           975             934            934             987         934          987                        5                              5                         0\n",
      "1258     BMI            3.33                     49     1315          1324         1315          1324          1325            1284           1266            1335        1266         1335                       -9                              0                         9\n",
      "907      REG            2.37                     49      923           925          918           925           917             887            874             922         874          925                       -2                              0                         2\n",
      "1268    DFCF            1.45                     49     1326          1309         1309          1327          1314            1305           1277            1322        1277         1327                       17                             18                         1\n",
      "1319      WH           -2.88                     49     1385          1359         1359          1385          1341            1405           1336            1426        1336         1426                       26                             26                         0\n",
      "532      HUM            1.06                     49      541           531          526           541           527             505            492             527         492          541                       10                             10                         0\n",
      "1086    BIRK            4.82                     50     1114          1156         1114          1156          1138            1064           1064            1146        1064         1156                      -42                              0                        42\n",
      "1317     BIO           -1.99                     50     1383          1363         1363          1383          1358            1386           1333            1386        1333         1386                       20                             20                         0\n",
      "712     BIIB           -1.10                     50      723           707          700           723           678             683            673             715         673          723                       16                             16                         0\n",
      "1302    STVN            0.49                     50     1364          1327         1327          1364          1336            1338           1314            1376        1314         1376                       37                             37                         0\n",
      "1185    SCHH            1.89                     50     1234          1211         1211          1234          1229            1209           1184            1240        1184         1240                       23                             23                         0\n",
      "1323  CWEN-A            2.98                     51     1395          1398         1395          1409          1411            1366           1344            1423        1344         1423                       -3                             11                        14\n",
      "1322    CWEN            2.92                     51     1393          1399         1393          1404          1407            1362           1342            1420        1342         1420                       -6                              5                        11\n",
      "657      DOW            0.50                     51      668           673          668           673           672             617            617             702         617          702                       -5                              0                         5\n",
      "958      YMM           -0.84                     51      978           927          927           980           959             969            954            1005         927         1005                       51                             53                         2\n",
      "930     MRNA           -9.51                     51      949           941          932           949           923            1052            898            1072         898         1072                        8                              8                         0\n",
      "778     CRDO           -4.11                     51      791           740          740           791           758             861            757             861         740          861                       51                             51                         0\n",
      "538     STLA           -0.96                     51      547           526          526           547           510             506            496             524         496          547                       21                             21                         0\n",
      "780      HRL            0.97                     51      793           775          765           793           771             751            742             771         742          793                       18                             18                         0\n",
      "685      MKC            1.01                     51      696           689          689           696           686             662            645             686         645          696                        7                              7                         0\n",
      "1182    SPSB            2.74                     51     1230          1212         1212          1230          1225            1186           1179            1231        1179         1231                       18                             18                         0\n",
      "741      GFL            2.88                     51      752           745          745           752           743             706            701             751         701          752                        7                              7                         0\n",
      "1144     WIX            2.78                     52     1180          1207         1180          1207          1204            1135           1128            1204        1128         1207                      -27                              0                        27\n",
      "1075     AIZ            3.08                     52     1101          1105         1099          1105          1092            1049           1049            1105        1049         1105                       -4                              0                         4\n",
      "1272     VPU            2.17                     52     1333          1313         1313          1336          1322            1299           1281            1338        1281         1338                       20                             23                         3\n",
      "1336      AL            0.58                     52     1416          1392         1391          1416          1386            1378           1364            1401        1364         1416                       24                             24                         0\n",
      "1201     PRF            1.95                     52     1251          1236         1236          1251          1244            1226           1199            1245        1199         1251                       15                             15                         0\n",
      "649       LH            2.24                     52      660           655          655           660           652             608            608             652         608          660                        5                              5                         0\n",
      "1029     OVV            1.47                     53     1052          1036         1036          1062          1026            1007            999            1076         999         1076                       16                             26                        10\n",
      "1000    SWKS           -1.25                     53     1021          1014         1013          1027          1003            1005            968            1005         968         1027                        7                             13                         6\n",
      "1289     SLM           -0.50                     53     1350          1342         1342          1351          1328            1331           1297            1341        1297         1351                        8                              9                         1\n",
      "866     BLDR           -5.69                     53      882           861          861           882           842             917            829             947         829          947                       21                             21                         0\n",
      "1076    EXAS            0.38                     53     1102          1068         1068          1102          1058            1053           1049            1085        1049         1102                       34                             34                         0\n",
      "1058     DOX            2.32                     53     1084          1077         1076          1084          1079            1034           1031            1085        1031         1085                        7                              7                         0\n",
      "1339    GBIL            2.66                     53     1422          1409         1409          1422          1420            1402           1369            1429        1369         1429                       13                             13                         0\n",
      "818     MNDY            0.29                     54      833           835          831           835           830             813            779             843         779          843                       -2                              0                         2\n",
      "807      WST            0.06                     54      821           790          781           821           782             767            767             792         767          821                       31                             31                         0\n",
      "1145      AM            3.94                     55     1181          1191         1181          1193          1181            1136           1126            1206        1126         1206                      -10                              2                        12\n",
      "1001    PRMB            1.97                     55     1022          1028         1022          1031          1025             984            967            1027         967         1031                       -6                              3                         9\n",
      "873      WPC            2.26                     55      889           881          879           891           864             848            834             880         834          891                        8                             10                         2\n",
      "790      FMS            1.01                     55      803           794          789           803           791             748            748             791         748          803                        9                              9                         0\n",
      "1038    ASND            1.70                     55     1063          1034         1033          1063          1044            1008           1008            1065        1008         1065                       29                             29                         0\n",
      "837     XPEV            3.82                     56      852           858          851           861           873             818            796             884         796          884                       -6                              3                         9\n",
      "1346     RHP            0.25                     56     1438          1412         1412          1438          1398            1411           1382            1429        1382         1438                       26                             26                         0\n",
      "660     PODD            2.32                     56      671           659          659           671           660             622            615             665         615          671                       12                             12                         0\n",
      "1356    ICSH            2.49                     56     1448          1447         1445          1448          1447            1404           1392            1447        1392         1448                        1                              1                         0\n",
      "937      BXP            2.59                     56      956           943          943           956           939             900            900             965         900          965                       13                             13                         0\n",
      "876     GMAB            2.31                     57      892           896          883           896           896             835            835             932         835          932                       -4                              0                         4\n",
      "1152     SKM            1.47                     57     1190          1175         1175          1190          1173            1155           1133            1197        1133         1197                       15                             15                         0\n",
      "888     INCY            1.58                     57      904           888          884           904           885             847            847             898         847          904                       16                             16                         0\n",
      "1097      KD           -0.39                     58     1128          1121         1121          1135          1124            1103           1070            1124        1070         1135                        7                             14                         7\n",
      "1301      FR            3.81                     58     1363          1368         1363          1370          1364            1328           1305            1389        1305         1389                       -5                              2                         7\n",
      "1207     UGI            3.02                     58     1258          1253         1251          1263          1252            1232           1200            1275        1200         1275                        5                             10                         5\n",
      "1330    JQUA            0.94                     58     1405          1397         1397          1408          1410            1396           1347            1413        1347         1413                        8                             11                         3\n",
      "1246    OTEX            0.90                     58     1301          1297         1291          1301          1295            1266           1243            1304        1243         1304                        4                              4                         0\n",
      "1243     HRB            1.20                     58     1298          1284         1283          1298          1278            1270           1240            1288        1240         1298                       14                             14                         0\n",
      "519       IT            1.29                     58      527           515          513           527           504             469            469             504         469          527                       12                             12                         0\n",
      "1153    SPAB            2.24                     58     1191          1182         1182          1191          1186            1137           1133            1186        1133         1191                        9                              9                         0\n",
      "1208    ROIV            2.52                     58     1259          1251         1243          1259          1240            1247           1201            1290        1201         1290                        8                              8                         0\n",
      "1137     NYT            0.27                     59     1172          1143         1143          1172          1125            1113           1113            1140        1113         1172                       29                             29                         0\n",
      "1044    PAAS            0.94                     59     1069          1027         1027          1069          1028            1027           1010            1067        1010         1069                       42                             42                         0\n",
      "1138     EGP            2.94                     60     1173          1170         1165          1187          1157            1123           1113            1170        1113         1187                        3                             17                        14\n",
      "1224     VDC            2.14                     60     1277          1259         1259          1282          1269            1244           1217            1272        1217         1282                       18                             23                         5\n",
      "1231     VPL            2.27                     60     1285          1273         1273          1289          1279            1242           1225            1279        1225         1289                       12                             16                         4\n",
      "702      DGX            2.74                     60      713           711          708           713           710             653            653             710         653          713                        2                              2                         0\n",
      "1140     HMY            1.55                     61     1175          1150         1150          1175          1141            1114           1114            1183        1114         1183                       25                             25                         0\n",
      "926     MORN            1.96                     61      945           945          938           945           936             895            884             937         884          945                        0                              0                         0\n",
      "708     TEVA            2.08                     61      719           716          714           719           708             658            658             708         658          719                        3                              3                         0\n",
      "1052    HTHT            2.46                     61     1078          1074         1067          1078          1077            1025           1017            1077        1017         1078                        4                              4                         0\n",
      "1148    INGR            2.47                     61     1186          1169         1164          1186          1166            1127           1125            1169        1125         1186                       17                             17                         0\n",
      "544      EXE            3.95                     61      554           553          547           554           548             507            493             564         493          564                        1                              1                         0\n",
      "699     TECK            0.21                     62      710           706          701           714           696             675            648             696         648          714                        4                              8                         4\n",
      "1155     FND           -3.86                     62     1194          1183         1179          1194          1154            1202           1132            1216        1132         1216                       11                             11                         0\n",
      "1256     KNX           -2.36                     62     1313          1282         1282          1313          1270            1298           1251            1306        1251         1313                       31                             31                         0\n",
      "995     RVTY           -1.22                     62     1016           985          985          1016           979             975            954             986         954         1016                       31                             31                         0\n",
      "714      HAL            1.18                     62      725           719          719           725           703             665            663             740         663          740                        6                              6                         0\n",
      "1116     NXT           -1.89                     63     1151          1111         1111          1151          1153            1126           1088            1219        1088         1219                       40                             40                         0\n",
      "1206     BRX            1.94                     63     1257          1247         1244          1257          1238            1223           1194            1248        1194         1257                       10                             10                         0\n",
      "1236    XLRE            2.50                     63     1290          1272         1272          1290          1282            1254           1227            1291        1227         1291                       18                             18                         0\n",
      "619      GIB            2.53                     64      630           620          618           630           617             566            566             621         566          630                       10                             10                         0\n",
      "1313    PATH            1.18                     65     1378          1379         1378          1389          1383            1329           1313            1388        1313         1389                       -1                             10                        11\n",
      "924     TXRH            2.62                     65      943           937          937           948           929             890            878             938         878          948                        6                             11                         5\n",
      "1198    DBEF            2.61                     65     1248          1238         1238          1252          1245            1206           1183            1250        1183         1252                       10                             14                         4\n",
      "1158    HSIC            0.47                     65     1199          1171         1171          1199          1179            1146           1134            1179        1134         1199                       28                             28                         0\n",
      "1303    STAG            2.28                     66     1365          1352         1352          1374          1351            1325           1299            1363        1299         1374                       13                             22                         9\n",
      "1139     WMS           -0.13                     66     1174          1149         1149          1177          1134            1121           1108            1146        1108         1177                       25                             28                         3\n",
      "1226    SPLV            2.30                     66     1279          1256         1256          1280          1265            1228           1213            1267        1213         1280                       23                             24                         1\n",
      "766     CHWY            3.92                     67      779           786          779           798           798             729            712             798         712          798                       -7                             12                        19\n",
      "1260    OLED            1.17                     67     1317          1299         1299          1319          1298            1261           1250            1298        1250         1319                       18                             20                         2\n",
      "1331    AXTA            0.68                     67     1407          1389         1389          1407          1377            1358           1340            1383        1340         1407                       18                             18                         0\n",
      "604      TPL            2.04                     67      615           611          611           615           589             549            548             589         548          615                        4                              4                         0\n",
      "1092    WING            4.52                     68     1123          1145         1122          1145          1151            1080           1055            1151        1055         1151                      -22                              0                        22\n",
      "1087    EPAM           -0.88                     68     1115          1113         1103          1119          1103            1079           1047            1105        1047         1119                        2                              6                         4\n",
      "1220    GMED            2.58                     68     1272          1264         1253          1272          1254            1210           1204            1268        1204         1272                        8                              8                         0\n",
      "883     PAYC            3.28                     69      899           905          899           911           911             830            830             919         830          919                       -6                              6                        12\n",
      "675      IWP           -0.48                     69      686           679          679           689           688             701            617             701         617          701                        7                             10                         3\n",
      "859      FTI            1.49                     69      875           839          839           878           847             816            806             847         806          878                       36                             39                         3\n",
      "1242      AN           -2.35                     69     1297          1245         1245          1297          1230            1273           1228            1277        1228         1297                       52                             52                         0\n",
      "1244    TFII            0.70                     70     1299          1278         1274          1299          1271            1240           1229            1272        1229         1299                       21                             21                         0\n",
      "975      SUZ            3.81                     70      996           991          991           996          1015             926            926            1015         926         1015                        5                              5                         0\n",
      "1310    KNTK            4.29                     72     1375          1394         1375          1411          1391            1309           1303            1398        1303         1411                      -19                             17                        36\n",
      "999      PAG           -1.39                     72     1020           968          968          1025           950             977            948             989         948         1025                       52                             57                         5\n",
      "854       BJ            2.55                     72      870           859          859           872           854             823            798             859         798          872                       11                             13                         2\n",
      "695      UMC            4.03                     72      706           699          699           706           714             635            634             714         634          714                        7                              7                         0\n",
      "1343    HEFA            3.71                     73     1431          1418         1418          1437          1431            1379           1358            1434        1358         1437                       13                             19                         6\n",
      "413     FICO            2.84                     73      418           422          418           422           418             356            345             418         345          422                       -4                              0                         4\n",
      "1157     HQY            3.81                     73     1196          1198         1175          1198          1194            1134           1123            1222        1123         1222                       -2                              0                         2\n",
      "755      KEP           -6.78                     73      768           756          736           768           742             866            695             866         695          866                       12                             12                         0\n",
      "703     CTRA            3.10                     74      714           698          698           716           683             655            640             703         640          716                       16                             18                         2\n",
      "1124    KVYO            2.99                     74     1159          1158         1156          1159          1170            1088           1085            1174        1085         1174                        1                              1                         0\n",
      "932      RDY            3.46                     74      951           946          944           951           949             877            877             951         877          951                        5                              5                         0\n",
      "955      ACI            0.63                     75      975           955          955           984           932             914            900             954         900          984                       20                             29                         9\n",
      "861      EBR            2.62                     75      877           862          862           877           874             804            802             874         802          877                       15                             15                         0\n",
      "716       EC            3.67                     75      727           725          724           727           723             672            652             723         652          727                        2                              2                         0\n",
      "905     MOAT            2.32                     76      921           906          906           925           909             904            845             917         845          925                       15                             19                         4\n",
      "1066    NICE            2.26                     76     1092          1094         1092          1094          1097            1016           1016            1097        1016         1097                       -2                              0                         2\n",
      "1024     AGI            1.56                     76     1047          1004         1004          1047          1005             979            971            1021         971         1047                       43                             43                         0\n",
      "836      BAX            2.22                     76      851           832          832           851           835             775            775             835         775          851                       19                             19                         0\n",
      "1189     VNO            4.20                     76     1239          1227         1209          1239          1228            1164           1163            1257        1163         1257                       12                             12                         0\n",
      "874      SBS            2.41                     77      890           871          868           890           879             825            813             879         813          890                       19                             19                         0\n",
      "985      EHC            1.82                     78     1006          1021         1002          1021           953             928            928             965         928         1021                      -15                              0                        15\n",
      "605     ERIC            1.07                     78      616           617          608           617           578             540            538             578         538          617                       -1                              0                         1\n",
      "806      GDX            3.90                     79      820           800          800           820           805             741            741             823         741          823                       20                             20                         0\n",
      "1200     ADC            4.27                     79     1250          1237         1234          1250          1237            1190           1171            1252        1171         1252                       13                             13                         0\n",
      "1009      PR            2.79                     80     1030          1019         1019          1039          1007             953            950            1014         950         1039                       11                             20                         9\n",
      "1154    VNOM            5.78                     81     1192          1214         1192          1228          1213            1117           1111            1226        1111         1228                      -22                             14                        36\n",
      "1017    BROS            4.90                     81     1038          1041         1038          1054          1050             957            957            1052         957         1054                       -3                             13                        16\n",
      "1004     UHS           -1.82                     81     1025           979          979          1025           964             997            944             997         944         1025                       46                             46                         0\n",
      "718     BSBR            2.50                     81      729           709          700           729           720             651            648             720         648          729                       20                             20                         0\n",
      "812       CF            2.41                     83      826           801          801           830           795             761            743             821         743          830                       25                             29                         4\n",
      "910    LBRDK           -1.29                     84      928           923          923           928           870             892            844             892         844          928                        5                              5                         0\n",
      "700     GWRE            4.20                     85      711           710          710           718           713             626            626             719         626          719                        1                              8                         7\n",
      "1232    CORT            3.22                     85     1286          1262         1249          1286          1258            1248           1201            1306        1201         1306                       24                             24                         0\n",
      "1130    TIMB            0.69                     86     1165          1126         1126          1165          1136            1107           1079            1136        1079         1165                       39                             39                         0\n",
      "263      ELV            1.82                     86      265           216          211           265           215             187            179             215         179          265                       49                             49                         0\n",
      "1222     DBX            4.56                     88     1274          1276         1272          1279          1266            1200           1186            1276        1186         1279                       -2                              3                         5\n",
      "912    LBRDA           -1.34                     88      930           928          926           930           868             891            842             891         842          930                        2                              2                         0\n",
      "1085     KMX            1.16                     89     1112          1102         1102          1116          1086            1055           1023            1097        1023         1116                       10                             14                         4\n",
      "1316    STWD            0.79                     89     1382          1323         1322          1382          1321            1317           1293            1337        1293         1382                       59                             59                         0\n",
      "1159    MASI            1.91                     89     1201          1161         1161          1201          1164            1130           1112            1164        1112         1201                       40                             40                         0\n",
      "1265     VDE            2.69                     91     1323          1290         1290          1331          1286            1275           1232            1308        1232         1331                       33                             41                         8\n",
      "1334     RLI            4.69                     91     1412          1403         1397          1412          1399            1330           1321            1414        1321         1414                        9                              9                         0\n",
      "1218    CVLT            4.41                     92     1269          1277         1269          1277          1274            1180           1177            1289        1177         1289                       -8                              0                         8\n",
      "1347    FTSM            3.97                     92     1439          1416         1416          1439          1422            1368           1347            1431        1347         1439                       23                             23                         0\n",
      "1095     RRC            5.64                     93     1126          1120         1120          1130          1110            1061           1033            1146        1033         1146                        6                             10                         4\n",
      "1314    TFLO            4.91                     93     1379          1365         1365          1379          1374            1310           1286            1379        1286         1379                       14                             14                         0\n",
      "1267    RVMD            4.93                     94     1325          1320         1309          1325          1310            1260           1231            1356        1231         1356                        5                              5                         0\n",
      "1245    BRBR            4.73                     95     1300          1302         1299          1311          1281            1207           1205            1297        1205         1311                       -2                              9                        11\n",
      "1337    TSLL            3.51                     95     1418          1384         1384          1419          1400            1389           1323            1450        1323         1450                       34                             35                         1\n",
      "1228     GAP           -1.33                     97     1282          1248         1248          1282          1235            1218           1185            1235        1185         1282                       34                             34                         0\n",
      "1099     CAG            4.51                     98     1130          1124         1124          1136          1116            1038           1032            1121        1032         1136                        6                             12                         6\n",
      "546    FWONK            6.30                    102      556           557          553           559           554             477            454             556         454          559                       -1                              2                         3\n",
      "1180     EDU           -1.48                    104     1227          1196         1196          1227          1202            1222           1123            1233        1123         1233                       31                             31                         0\n",
      "1251    ALSN            1.65                    104     1307          1267         1267          1307          1264            1203           1203            1264        1203         1307                       40                             40                         0\n",
      "896     MBLY           -3.78                    106      912           828          828           912           820             908            806             938         806          938                       84                             84                         0\n",
      "1121     PEN            3.79                    106     1156          1118         1118          1156          1115            1050           1050            1120        1050         1156                       38                             38                         0\n",
      "1177    SATS           -9.71                    110     1222          1180         1180          1222          1180            1278           1112            1297        1112         1297                       42                             42                         0\n",
      "826     SPHQ            3.22                    112      841           845          841           854           857             853            729             857         729          857                       -4                              9                        13\n",
      "1188     LAD           -1.55                    116     1238          1167         1167          1238          1122            1143           1122            1164        1122         1238                       71                             71                         0\n",
      "931      YPF            6.31                    116      950           929          929           950           946             838            834             948         834          950                       21                             21                         0\n",
      "950     FTAI            7.71                    119      970           970          959           970           967             897            851             996         851          996                        0                              0                         0\n",
      "1104      XP            3.77                    120     1137          1091         1091          1137          1107            1018           1017            1107        1017         1137                       46                             46                         0\n",
      "1304     APA            2.09                    121     1366          1364         1364          1389          1331            1263           1245            1375        1245         1389                        2                             25                        23\n",
      "746      WAT            1.33                    121      757           753          743           757           729             643            636             729         636          757                        4                              4                         0\n",
      "1325    BFAM            5.88                    121     1397          1388         1384          1397          1387            1294           1276            1389        1276         1397                        9                              9                         0\n",
      "1328    RGEN           -0.29                    122     1401          1374         1345          1401          1359            1292           1279            1359        1279         1401                       27                             27                         0\n",
      "690     NTRA            2.99                    123      701           658          658           701           637             592            578             637         578          701                       43                             43                         0\n",
      "1259     EAT            4.69                    124     1316          1287         1287          1316          1287            1199           1192            1291        1192         1316                       29                             29                         0\n",
      "1286    EXLS            4.35                    127     1347          1361         1346          1361          1335            1220           1220            1355        1220         1361                      -14                              0                        14\n",
      "1287      LW            4.81                    127     1348          1321         1321          1348          1306            1224           1221            1311        1221         1348                       27                             27                         0\n",
      "1297    CWST            4.65                    131     1359          1328         1328          1359          1315            1267           1228            1337        1228         1359                       31                             31                         0\n",
      "1105     ERJ           -2.19                    132     1138          1078         1078          1138          1090            1096           1006            1096        1006         1138                       60                             60                         0\n",
      "1042    RGLD            5.93                    133     1067          1050         1050          1069          1045             949            934            1045         934         1069                       17                             19                         2\n",
      "971       AR            9.29                    134      992           988          988           995           983             876            858            1015         858         1015                        4                              7                         3\n",
      "1202    ENSG            4.93                    134     1252          1213         1213          1252          1198            1131           1118            1210        1118         1252                       39                             39                         0\n",
      "1366     FDL            2.73                    139     1459          1458         1458          1460          1456            1453           1320            1461        1320         1461                        1                              2                         1\n",
      "751     DUOL            8.44                    151      763           754          754           775           757             619            612             759         612          775                        9                             21                        12\n",
      "283     CHTR            8.27                    151      286           280          280           287           276             145            135             278         135          287                        6                              7                         1\n",
      "599    FWONA           10.04                    154      610           608          607           610           606             476            456             608         456          610                        2                              2                         0\n",
      "970     HIMS            7.21                    170      991           986          974          1002           976             865            821            1105         821         1105                        5                             16                        11\n",
      "745      FTV           12.00                    189      756           746          746           756           740             569            567             740         567          756                       10                             10                         0\n",
      "1096    MMYT            6.83                    229     1127          1147         1127          1147          1175             992            898            1176         898         1176                      -20                              0                        20\n",
      "1305     CRK           15.14                    250     1367          1357         1353          1367          1338            1227           1117            1412        1117         1412                       10                             10                         0\n",
      "481      VTR            0.17                    307      487           182          181           487           180             188            180             192         180          487                      305                            305                         0\n",
      "1062     MOH           11.66                    323     1088           973          967          1088           962             778            765             962         765         1088                      115                            115                         0\n",
      "508     IBKR           17.14                    342      515           544          515           549           550             175            173             612         173          612                      -29                              5                        34\n",
      "850      CNC           19.01                    352      866           822          816           866           816             524            514             816         514          866                       44                             44                         0\n",
      "1229   LLYVK           60.19                    829     1283          1280         1280          1283          1275             466            454            1312         454         1312                        3                              3                         0\n",
      "1247   LLYVA           61.37                    850     1302          1293         1293          1302          1285             468            452            1331         452         1331                        9                              9                         0\n"
     ]
    }
   ],
   "source": [
    "sort_order = {'current_to_total_peak': True,  # sort small to large, small is better, best is 0  \n",
    "              'recent_bottom_to_current': False,  # sort large to small, large means big dip before recovered to current level \n",
    "              'lookback_slope': True,}  # negative slope (i.e. small) is better\n",
    "\n",
    "# keys in the exact order they appear in the dict\n",
    "sort_keys = list(sort_order.keys())\n",
    "sort_values = list(sort_order.values())\n",
    "sorted_metrics_df = metrics_df.sort_values(by=sort_keys, ascending=sort_values)\n",
    "\n",
    "print(f'sorted_metrics_df:\\n{sorted_metrics_df}')"
   ]
  },
  {
   "cell_type": "code",
   "execution_count": 20,
   "metadata": {},
   "outputs": [
    {
     "name": "stdout",
     "output_type": "stream",
     "text": [
      "portfolio_metrics: \n",
      "    ticker  lookback_slope  current_to_total_peak  current  recent_start  best_recent  worst_recent  lookback_end  lookback_start  best_lookback  worst_lookback  best_total  worst_total  current_to_recent_start  recent_bottom_to_recent_start  recent_bottom_to_current\n",
      "0     NVDA           -0.07                      0        1             1            1             1             1               2              1               2           1            2                        0                              0                         0\n",
      "6     META           -0.00                      0        7             7            7             7             7               7              7               7           7            7                        0                              0                         0\n",
      "16    ORCL           -0.07                      1       17            18           16            18            18              19             18              20          16           20                       -1                              0                         1\n",
      "82    SHOP           -0.35                      0       83            95           83            95            94             101             94             103          83          103                      -12                              0                        12\n",
      "133   MSTR           -0.76                     12      135           126          123           135           124             143            124             150         123          150                        9                              9                         0\n",
      "143   COIN           -3.96                      0      145           157          145           157           156             248            156             251         145          251                      -12                              0                        12\n",
      "160    VGT           -0.52                      0      162           165          162           165           168             178            166             178         162          178                       -3                              0                         3\n",
      "465    SYM          -10.53                      0      471           500          471           500           514             686            512             700         471          700                      -29                              0                        29\n",
      "565   RKLB          -11.48                      0      575           638          575           638           667             923            667             923         575          923                      -63                              0                        63\n",
      "845   JOBY          -12.77                      0      860          1005          860          1005          1072            1288           1072            1333         860         1333                     -145                              0                       145\n",
      "872   AVAV          -13.25                     12      888           894          876           894           901            1160            901            1160         876         1160                       -6                              0                         6\n"
     ]
    }
   ],
   "source": [
    "# Filter metrics_df to keep only rows whose 'ticker' is in portfolio_tickers\n",
    "portfolio_metrics = metrics_df[metrics_df['ticker'].isin(portfolio_tickers)]\n",
    "# portfolio_metrics = portfolio_metrics[metrics_column_order]\n",
    "print(f'portfolio_metrics: \\n{portfolio_metrics}')"
   ]
  },
  {
   "cell_type": "code",
   "execution_count": null,
   "metadata": {},
   "outputs": [],
   "source": []
  }
 ],
 "metadata": {
  "kernelspec": {
   "display_name": "py311-py3.11",
   "language": "python",
   "name": "python3"
  },
  "language_info": {
   "codemirror_mode": {
    "name": "ipython",
    "version": 3
   },
   "file_extension": ".py",
   "mimetype": "text/x-python",
   "name": "python",
   "nbconvert_exporter": "python",
   "pygments_lexer": "ipython3",
   "version": "3.11.9"
  }
 },
 "nbformat": 4,
 "nbformat_minor": 2
}
