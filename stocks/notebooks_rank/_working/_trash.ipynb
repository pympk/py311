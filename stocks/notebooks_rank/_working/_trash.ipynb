{
 "cells": [
  {
   "cell_type": "code",
   "execution_count": 5,
   "id": "3b2994aa",
   "metadata": {},
   "outputs": [
    {
     "name": "stdout",
     "output_type": "stream",
     "text": [
      "--- Test Data and Config ---\n",
      "\n",
      "OHLCV DataFrame:\n",
      "                   Adj High  Adj Low  Adj Close\n",
      "Ticker Date                                    \n",
      "TICKA  2023-01-02       100       98         99\n",
      "       2023-01-03       101       99        100\n",
      "       2023-01-04       102      100        101\n",
      "       2023-01-05        98       94         95\n",
      "       2023-01-06        95       93         94\n",
      "TICKB  2023-01-02        50       49         50\n",
      "       2023-01-03        51       50         50\n",
      "       2023-01-04        58       56         57\n",
      "       2023-01-05        59       57         58\n",
      "       2023-01-06        55       52         53\n",
      "TICKC  2023-01-02        50       48         49\n",
      "       2023-01-03        50       48         49\n",
      "       2023-01-04        50       48         49\n",
      "       2023-01-05        50       48         49\n",
      "       2023-01-06        50       48         49\n"
     ]
    }
   ],
   "source": [
    "import pandas as pd\n",
    "\n",
    "# --- Handcrafted OHLCV Data ---\n",
    "# We create a story for 'TICKA' and 'TICKB' over several days.\n",
    "data = {\n",
    "    'Ticker': ['TICKA', 'TICKA', 'TICKA', 'TICKA', 'TICKA', \n",
    "               'TICKB', 'TICKB', 'TICKB', 'TICKB', 'TICKB'],\n",
    "    'Date': pd.to_datetime(['2023-01-02', '2023-01-03', '2023-01-04', '2023-01-05', '2023-01-06',\n",
    "                           '2023-01-02', '2023-01-03', '2023-01-04', '2023-01-05', '2023-01-06']),\n",
    "    'Adj High':  [100, 101, 102, 98,  95,   50,  51,  58,  59,  55], # Day 2: Entry price for TICKA is 101.\n",
    "    'Adj Low':   [98,  99,  100, 94,  93,   49,  50,  56,  57,  52], # Day 5: Exit price for TICKA is 93.\n",
    "    'Adj Close': [99,  100, 101, 95,  94,   50,  50,  57,  58,  53]  # Day 4: Close of 95 triggers stop-loss for TICKA.\n",
    "}\n",
    "test_df_ohlcv = pd.DataFrame(data).set_index(['Ticker', 'Date'])\n",
    "\n",
    "# 1. make a clean copy of TICKB\n",
    "tickc = (\n",
    "    test_df_ohlcv.loc['TICKB']          # pull TICKB slice (drops 1st index level)\n",
    "    .copy()\n",
    "    .assign(Ticker='TICKC')             # re-label\n",
    "    .set_index('Ticker', append=True)   # put Ticker back\n",
    "    .swaplevel()                        # -> (Ticker, Date)\n",
    ")\n",
    "\n",
    "# 2. drop any stale TICKC rows\n",
    "test_df_ohlcv = test_df_ohlcv.drop('TICKC', level='Ticker', errors='ignore')\n",
    "\n",
    "# 3. append the single, clean TICKC block\n",
    "test_df_ohlcv = pd.concat([test_df_ohlcv, tickc]).sort_index()\n",
    "\n",
    "# # 4. now do your one-cell edit\n",
    "test_df_ohlcv.loc[('TICKC', ['2023-01-02', '2023-01-03', '2023-01-04', '2023-01-05', '2023-01-06']), \n",
    "                   ['Adj High', 'Adj Low', 'Adj Close']] = [50, 48, 49]\n",
    "\n",
    "print(\"--- Test Data and Config ---\")\n",
    "print(\"\\nOHLCV DataFrame:\")\n",
    "print(test_df_ohlcv)\n",
    "\n",
    "\n",
    "\n",
    "# print(\"--- Test Data and Config ---\")\n",
    "# print(\"Config:\", test_config)\n",
    "# print(\"\\nOHLCV DataFrame:\")\n",
    "# print(test_df_ohlcv)"
   ]
  },
  {
   "cell_type": "code",
   "execution_count": 6,
   "id": "86746321",
   "metadata": {},
   "outputs": [],
   "source": [
    "df = test_df_ohlcv.reset_index()   "
   ]
  },
  {
   "cell_type": "code",
   "execution_count": 22,
   "id": "e8f1b2e9",
   "metadata": {},
   "outputs": [
    {
     "data": {
      "text/plain": [
       "['2023-01-02',\n",
       " '2023-01-03',\n",
       " '2023-01-04',\n",
       " '2023-01-05',\n",
       " '2023-01-06',\n",
       " '2023-01-02',\n",
       " '2023-01-03',\n",
       " '2023-01-04',\n",
       " '2023-01-05',\n",
       " '2023-01-06',\n",
       " '2023-01-02',\n",
       " '2023-01-03',\n",
       " '2023-01-04',\n",
       " '2023-01-05',\n",
       " '2023-01-06']"
      ]
     },
     "execution_count": 22,
     "metadata": {},
     "output_type": "execute_result"
    }
   ],
   "source": [
    "list(pd.to_datetime(df['Date']).dt.strftime('%Y-%m-%d'))"
   ]
  },
  {
   "cell_type": "code",
   "execution_count": 25,
   "id": "bd83e2a5",
   "metadata": {},
   "outputs": [
    {
     "name": "stdout",
     "output_type": "stream",
     "text": [
      "[99, 100, 101, 95, 94, 50, 50, 57, 58, 53, 49, 49, 49, 49, 49]\n"
     ]
    }
   ],
   "source": [
    "_list =   df['Adj Close'].tolist()\n",
    "print(_list)"
   ]
  },
  {
   "cell_type": "code",
   "execution_count": 27,
   "id": "20b36340",
   "metadata": {},
   "outputs": [
    {
     "name": "stdout",
     "output_type": "stream",
     "text": [
      "--- Test Data and Config ---\n",
      "\n",
      "OHLCV DataFrame:\n",
      "                   Adj High  Adj Low  Adj Close\n",
      "Ticker Date                                    \n",
      "TICKA  2023-01-02       100       98         99\n",
      "       2023-01-03       101       99        100\n",
      "       2023-01-04       102      100        101\n",
      "       2023-01-05        98       94         95\n",
      "       2023-01-06        95       93         94\n",
      "TICKB  2023-01-02        50       49         50\n",
      "       2023-01-03        51       50         50\n",
      "       2023-01-04        58       56         57\n",
      "       2023-01-05        59       57         58\n",
      "       2023-01-06        55       52         53\n",
      "TICKC  2023-01-02        50       48         49\n",
      "       2023-01-03        50       48         49\n",
      "       2023-01-04        50       48         49\n",
      "       2023-01-05        50       48         49\n",
      "       2023-01-06        50       48         49\n"
     ]
    }
   ],
   "source": [
    "import pandas as pd\n",
    "\n",
    "# --- extract the current MultiIndex DataFrame back to a plain dict ---\n",
    "df = test_df_ohlcv.reset_index()          # flatten index -> columns\n",
    "\n",
    "data = {\n",
    "    'Ticker': ['TICKA', 'TICKA', 'TICKA', 'TICKA', 'TICKA', \n",
    "               'TICKB', 'TICKB', 'TICKB', 'TICKB', 'TICKB', \n",
    "               'TICKC', 'TICKC', 'TICKC', 'TICKC', 'TICKC'],\n",
    "    'Date': ['2023-01-02', '2023-01-03', '2023-01-04', '2023-01-05', '2023-01-06',\n",
    "             '2023-01-02', '2023-01-03', '2023-01-04', '2023-01-05', '2023-01-06',\n",
    "             '2023-01-02', '2023-01-03', '2023-01-04', '2023-01-05', '2023-01-06'],\n",
    "    'Adj High': [100, 101, 102, 98, 95, 50, 51, 58, 59, 55, 50, 50, 50, 50, 50],\n",
    "    'Adj Low': [98, 99, 100, 94, 93, 49, 50, 56, 57, 52, 48, 48, 48, 48, 48],\n",
    "    'Adj Close': [99, 100, 101, 95, 94, 50, 50, 57, 58, 53, 49, 49, 49, 49, 49],\n",
    "}\n",
    "\n",
    "# (optional) rebuild the same MultiIndex frame\n",
    "test_df_ohlcv = pd.DataFrame(data).set_index(['Ticker', 'Date'])\n",
    "\n",
    "print(\"--- Test Data and Config ---\")\n",
    "print(\"\\nOHLCV DataFrame:\")\n",
    "print(test_df_ohlcv)"
   ]
  }
 ],
 "metadata": {
  "kernelspec": {
   "display_name": "py311-py3.11",
   "language": "python",
   "name": "python3"
  },
  "language_info": {
   "codemirror_mode": {
    "name": "ipython",
    "version": 3
   },
   "file_extension": ".py",
   "mimetype": "text/x-python",
   "name": "python",
   "nbconvert_exporter": "python",
   "pygments_lexer": "ipython3",
   "version": "3.11.9"
  }
 },
 "nbformat": 4,
 "nbformat_minor": 5
}
