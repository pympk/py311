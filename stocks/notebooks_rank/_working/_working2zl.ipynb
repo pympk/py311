{
 "cells": [
  {
   "cell_type": "code",
   "execution_count": 1,
   "metadata": {},
   "outputs": [
    {
     "name": "stdout",
     "output_type": "stream",
     "text": [
      "✅ Project Root Directory: c:\\Users\\ping\\Files_win10\\python\\py311\\stocks\n",
      "✅ Notebook Directory: c:\\Users\\ping\\Files_win10\\python\\py311\\stocks\\notebooks_rank\\_working\n",
      "✅ Source Directory (for utils): c:\\Users\\ping\\Files_win10\\python\\py311\\stocks\\src\n",
      "✅ Data Directory (for input): c:\\Users\\ping\\Files_win10\\python\\py311\\stocks\\data\n",
      "\n",
      "✅ Successfully imported 'utils' module.\n"
     ]
    }
   ],
   "source": [
    "import sys\n",
    "from pathlib import Path\n",
    "import pandas as pd\n",
    "import os\n",
    "from IPython.display import display, Markdown  # Assuming you use these for display\n",
    "\n",
    "# --- 1. PANDAS OPTIONS (No change) ---\n",
    "# pd.set_option('display.max_rows', 200)  \n",
    "pd.set_option('display.max_columns', None)\n",
    "pd.set_option('display.width', 3000)\n",
    "\n",
    "# --- 2. IPYTHON AUTORELOAD (No change) ---\n",
    "%load_ext autoreload\n",
    "%autoreload 2\n",
    "\n",
    "# --- 3. ROBUST PATH CONFIGURATION (MODIFIED) ---\n",
    "\n",
    "# Get the current working directory of the notebook\n",
    "NOTEBOOK_DIR = Path.cwd()\n",
    "\n",
    "# Find the project ROOT directory by going up from the notebook's location\n",
    "# This is robust and works even if you move the notebook deeper.\n",
    "ROOT_DIR = NOTEBOOK_DIR.parent.parent\n",
    "\n",
    "# Define key project directories relative to the ROOT\n",
    "DATA_DIR = ROOT_DIR / 'data'\n",
    "SRC_DIR = ROOT_DIR / 'src'\n",
    "# You could also define an output directory here if needed\n",
    "OUTPUT_DIR = ROOT_DIR / 'output'\n",
    "\n",
    "# Add the 'src' directory to the Python path so you can import 'utils'\n",
    "if str(SRC_DIR) not in sys.path:\n",
    "    sys.path.append(str(SRC_DIR))\n",
    "\n",
    "# --- 4. VERIFICATION (IMPROVED) ---\n",
    "print(f\"✅ Project Root Directory: {ROOT_DIR}\")\n",
    "print(f\"✅ Notebook Directory: {NOTEBOOK_DIR}\")\n",
    "print(f\"✅ Source Directory (for utils): {SRC_DIR}\")\n",
    "print(f\"✅ Data Directory (for input): {DATA_DIR}\")\n",
    "\n",
    "# Verify that the key directories exist. This helps catch path errors early.\n",
    "assert ROOT_DIR.exists(), f\"ROOT directory not found at: {ROOT_DIR}\"\n",
    "assert SRC_DIR.exists(), f\"Source directory not found at: {SRC_DIR}\"\n",
    "assert DATA_DIR.exists(), f\"Data directory not found at: {DATA_DIR}\"\n",
    "\n",
    "# --- 5. IMPORT YOUR CUSTOM MODULE ---\n",
    "import utils\n",
    "print(\"\\n✅ Successfully imported 'utils' module.\")"
   ]
  },
  {
   "cell_type": "code",
   "execution_count": 2,
   "metadata": {},
   "outputs": [
    {
     "name": "stdout",
     "output_type": "stream",
     "text": [
      "\n",
      "file_list (len(file_list): 91:\n",
      "0: 2025-09-05_df_finviz_merged_stocks_etfs.parquet\n",
      "1: 2025-09-04_df_finviz_merged_stocks_etfs.parquet\n",
      "2: 2025-09-03_df_finviz_merged_stocks_etfs.parquet\n",
      "3: 2025-09-02_df_finviz_merged_stocks_etfs.parquet\n",
      "4: 2025-08-29_df_finviz_merged_stocks_etfs.parquet\n",
      "5: 2025-08-28_df_finviz_merged_stocks_etfs.parquet\n",
      "6: 2025-08-26_df_finviz_merged_stocks_etfs.parquet\n",
      "7: 2025-08-25_df_finviz_merged_stocks_etfs.parquet\n",
      "8: 2025-08-22_df_finviz_merged_stocks_etfs.parquet\n",
      "9: 2025-08-21_df_finviz_merged_stocks_etfs.parquet\n",
      "10: 2025-08-19_df_finviz_merged_stocks_etfs.parquet\n",
      "11: 2025-08-18_df_finviz_merged_stocks_etfs.parquet\n",
      "12: 2025-08-15_df_finviz_merged_stocks_etfs.parquet\n",
      "13: 2025-08-14_df_finviz_merged_stocks_etfs.parquet\n",
      "14: 2025-08-13_df_finviz_merged_stocks_etfs.parquet\n",
      "15: 2025-08-12_df_finviz_merged_stocks_etfs.parquet\n",
      "16: 2025-08-11_df_finviz_merged_stocks_etfs.parquet\n",
      "17: 2025-08-08_df_finviz_merged_stocks_etfs.parquet\n",
      "18: 2025-08-07_df_finviz_merged_stocks_etfs.parquet\n",
      "19: 2025-08-06_df_finviz_merged_stocks_etfs.parquet\n",
      "20: 2025-08-05_df_finviz_merged_stocks_etfs.parquet\n",
      "21: 2025-08-04_df_finviz_merged_stocks_etfs.parquet\n",
      "22: 2025-08-01_df_finviz_merged_stocks_etfs.parquet\n",
      "23: 2025-07-31_df_finviz_merged_stocks_etfs.parquet\n",
      "24: 2025-07-30_df_finviz_merged_stocks_etfs.parquet\n",
      "25: 2025-07-29_df_finviz_merged_stocks_etfs.parquet\n",
      "26: 2025-07-28_df_finviz_merged_stocks_etfs.parquet\n",
      "27: 2025-07-25_df_finviz_merged_stocks_etfs.parquet\n",
      "28: 2025-07-24_df_finviz_merged_stocks_etfs.parquet\n",
      "29: 2025-07-23_df_finviz_merged_stocks_etfs.parquet\n",
      "30: 2025-07-22_df_finviz_merged_stocks_etfs.parquet\n",
      "31: 2025-07-21_df_finviz_merged_stocks_etfs.parquet\n",
      "32: 2025-07-18_df_finviz_merged_stocks_etfs.parquet\n",
      "33: 2025-07-17_df_finviz_merged_stocks_etfs.parquet\n",
      "34: 2025-07-16_df_finviz_merged_stocks_etfs.parquet\n",
      "35: 2025-07-15_df_finviz_merged_stocks_etfs.parquet\n",
      "36: 2025-07-14_df_finviz_merged_stocks_etfs.parquet\n",
      "37: 2025-07-11_df_finviz_merged_stocks_etfs.parquet\n",
      "38: 2025-07-10_df_finviz_merged_stocks_etfs.parquet\n",
      "39: 2025-07-09_df_finviz_merged_stocks_etfs.parquet\n",
      "40: 2025-07-08_df_finviz_merged_stocks_etfs.parquet\n",
      "41: 2025-07-07_df_finviz_merged_stocks_etfs.parquet\n",
      "42: 2025-07-03_df_finviz_merged_stocks_etfs.parquet\n",
      "43: 2025-06-06_df_finviz_merged_stocks_etfs.parquet\n",
      "44: 2025-06-05_df_finviz_merged_stocks_etfs.parquet\n",
      "45: 2025-06-04_df_finviz_merged_stocks_etfs.parquet\n",
      "46: 2025-06-03_df_finviz_merged_stocks_etfs.parquet\n",
      "47: 2025-06-02_df_finviz_merged_stocks_etfs.parquet\n",
      "48: 2025-05-30_df_finviz_merged_stocks_etfs.parquet\n",
      "49: 2025-05-29_df_finviz_merged_stocks_etfs.parquet\n",
      "50: 2025-05-28_df_finviz_merged_stocks_etfs.parquet\n",
      "51: 2025-05-27_df_finviz_merged_stocks_etfs.parquet\n",
      "52: 2025-05-23_df_finviz_merged_stocks_etfs.parquet\n",
      "53: 2025-05-22_df_finviz_merged_stocks_etfs.parquet\n",
      "54: 2025-05-21_df_finviz_merged_stocks_etfs.parquet\n",
      "55: 2025-05-20_df_finviz_merged_stocks_etfs.parquet\n",
      "56: 2025-05-19_df_finviz_merged_stocks_etfs.parquet\n",
      "57: 2025-05-16_df_finviz_merged_stocks_etfs.parquet\n",
      "58: 2025-05-15_df_finviz_merged_stocks_etfs.parquet\n",
      "59: 2025-05-14_df_finviz_merged_stocks_etfs.parquet\n",
      "60: 2025-05-13_df_finviz_merged_stocks_etfs.parquet\n",
      "61: 2025-05-12_df_finviz_merged_stocks_etfs.parquet\n",
      "62: 2025-05-09_df_finviz_merged_stocks_etfs.parquet\n",
      "63: 2025-05-08_df_finviz_merged_stocks_etfs.parquet\n",
      "64: 2025-05-07_df_finviz_merged_stocks_etfs.parquet\n",
      "65: 2025-05-06_df_finviz_merged_stocks_etfs.parquet\n",
      "66: 2025-05-05_df_finviz_merged_stocks_etfs.parquet\n",
      "67: 2025-05-02_df_finviz_merged_stocks_etfs.parquet\n",
      "68: 2025-05-01_df_finviz_merged_stocks_etfs.parquet\n",
      "69: 2025-04-30_df_finviz_merged_stocks_etfs.parquet\n",
      "70: 2025-04-29_df_finviz_merged_stocks_etfs.parquet\n",
      "71: 2025-04-28_df_finviz_merged_stocks_etfs.parquet\n",
      "72: 2025-04-25_df_finviz_merged_stocks_etfs.parquet\n",
      "73: 2025-07-02_df_finviz_merged_stocks_etfs.parquet\n",
      "74: 2025-07-01_df_finviz_merged_stocks_etfs.parquet\n",
      "75: 2025-06-30_df_finviz_merged_stocks_etfs.parquet\n",
      "76: 2025-06-27_df_finviz_merged_stocks_etfs.parquet\n",
      "77: 2025-06-26_df_finviz_merged_stocks_etfs.parquet\n",
      "78: 2025-06-25_df_finviz_merged_stocks_etfs.parquet\n",
      "79: 2025-06-24_df_finviz_merged_stocks_etfs.parquet\n",
      "80: 2025-06-23_df_finviz_merged_stocks_etfs.parquet\n",
      "81: 2025-06-20_df_finviz_merged_stocks_etfs.parquet\n",
      "82: 2025-06-19_df_finviz_merged_stocks_etfs.parquet\n",
      "83: 2025-06-18_df_finviz_merged_stocks_etfs.parquet\n",
      "84: 2025-06-17_df_finviz_merged_stocks_etfs.parquet\n",
      "85: 2025-06-16_df_finviz_merged_stocks_etfs.parquet\n",
      "86: 2025-06-12_df_finviz_merged_stocks_etfs.parquet\n",
      "87: 2025-06-11_df_finviz_merged_stocks_etfs.parquet\n",
      "88: 2025-06-10_df_finviz_merged_stocks_etfs.parquet\n",
      "89: 2025-06-09_df_finviz_merged_stocks_etfs.parquet\n",
      "90: 2025-06-13_df_finviz_merged_stocks_etfs.parquet\n"
     ]
    }
   ],
   "source": [
    "# To get ALL matching files, sorted by recency\n",
    "file_list = utils.get_recent_files(\n",
    "    directory_path=DATA_DIR,\n",
    "    extension='parquet',\n",
    "    prefix='2025',\n",
    "    contains_pattern='df_finviz_merged_stocks_etfs',\n",
    "    # count=None\n",
    "    count=100    \n",
    ")\n",
    "\n",
    "# Print the file_list\n",
    "print(f'\\nfile_list (len(file_list): {len(file_list)}:')\n",
    "for i, f, in enumerate(file_list):\n",
    "    print(f'{i}: {f}')"
   ]
  },
  {
   "cell_type": "code",
   "execution_count": 3,
   "metadata": {},
   "outputs": [
    {
     "name": "stdout",
     "output_type": "stream",
     "text": [
      "Latest df_finviz_merged_stocks_etfs:\n",
      "2025-09-05_df_finviz_merged_stocks_etfs.parquet\n",
      "\n",
      "df_finviz_merged_stocks_etfs.head(20):\n",
      "       No.                                 Company               Index                  Sector                        Industry Country Exchange                                               Info  MktCap AUM, M  Rank  Market Cap, M     P/E  Fwd P/E    PEG    P/S    P/B     P/C   P/FCF    Book/sh    Cash/sh  Dividend %  Dividend TTM Dividend Ex Date  Payout Ratio %       EPS  EPS next Q  EPS this Y %  EPS next Y %  EPS past 5Y %  EPS next 5Y %  Sales past 5Y %  Sales Q/Q %  EPS Q/Q %  EPS YoY TTM %  Sales YoY TTM %  Sales, M  Income, M  EPS Surprise %  Revenue Surprise %  Outstanding, M  Float, M  Float %  Insider Own %  Insider Trans %  Inst Own %  Inst Trans %  Short Float %  Short Ratio  Short Interest, M  ROA %   ROE %  ROIC %  Curr R  Quick R  LTDebt/Eq  Debt/Eq  Gross M %  Oper M %  Profit M %  Perf 3D %  Perf Week %  Perf Month %  Perf Quart %  Perf Half %  Perf Year %  Perf YTD %  Beta       ATR  ATR/Price %  Volatility W %  Volatility M %  SMA20 %  SMA50 %  SMA200 %  50D High %  50D Low %  52W High %  52W Low %              52W Range  All-Time High %  All-Time Low %    RSI  Earnings    IPO Date Optionable Shortable  Employees  Change from Open %  Gap %  Recom  Avg Volume, M  Rel Volume     Volume  Target Price  Prev Close       Open       High        Low      Price  Change %                    Single Category         Asset Type  Expense %  Holdings    AUM, M  Flows 1M, M  Flows% 1M  Flows 3M, M  Flows% 3M  Flows YTD, M  Flows% YTD  Return% 1Y  Return% 3Y  Return% 5Y                            Tags  Sharpe 3d     Sortino 3d      Omega 3d  Sharpe 5d   Sortino 5d    Omega 5d  Sharpe 10d  Sortino 10d  Omega 10d  Sharpe 15d  Sortino 15d  Omega 15d  Sharpe 30d  Sortino 30d  Omega 30d  Sharpe 60d  Sortino 60d  Omega 60d  Sharpe 120d  Sortino 120d  Omega 120d  Sharpe 250d  Sortino 250d  Omega 250d\n",
      "NVDA     1                             NVIDIA Corp  DJIA, NDX, S&P 500              Technology                  Semiconductors     USA     NASD                         Technology, Semiconductors      4058590.0     1      4058590.0   47.54    26.28   1.37  24.57  40.61   71.47   56.35       4.11       2.34        0.02          0.04        9/11/2025            1.16      3.51        1.24           NaN           NaN            NaN            NaN              NaN        55.60      61.23          64.54            71.55  165220.0    86600.0            4.13                1.51        24350.00  23400.00    96.12           4.09            -0.75       67.71          1.73           0.88         1.18             205.24  76.65  109.42   78.42    4.21     3.60       0.10     0.11      69.85     58.09       52.41  -2.201663        -7.30         -6.91         19.31        51.05        54.65       24.37  2.13      5.00     2.993653            2.51            2.65    -6.05    -3.08     19.97       -9.46      11.90       -9.46      92.82         86.62 - 184.48            -9.46       500959.99  36.73  Aug 27/a   1/22/1999        Yes       Yes    36000.0               -0.52  -2.20   1.39      174.21000        1.28  223020715        215.14      171.66     167.89     169.03     164.07     167.02     -2.70                                                              NaN       NaN       NaN          NaN        NaN          NaN        NaN           NaN         NaN         NaN         NaN         NaN                               -  -7.201549      -8.774004      0.218350 -10.755835    -9.933435    0.123776   -6.924295    -7.019746   0.295538   -5.177974    -5.512189   0.402946   -1.312538    -1.714042   0.804694    2.469458     3.915487   1.494228     1.647352      2.763064    1.375804     1.147840      1.670802    1.229468\n",
      "MSFT     2                   Microsoft Corporation  DJIA, NDX, S&P 500              Technology       Software - Infrastructure     USA     NASD              Technology, Software - Infrastructure      3679420.0     2      3679420.0   36.29    27.05   2.17  13.06  10.71   38.91   51.38      46.20      12.72        0.71          3.32        8/21/2025           24.34     13.64        3.65           NaN           NaN            NaN            NaN              NaN        18.10      23.77          15.50            14.93  281720.0   101830.0            8.16                3.40         7430.00   7320.00    98.51           1.47            -0.26       73.31         -0.34           0.77         2.82              56.18  18.00   33.28   22.93    1.35     1.35       0.29     0.33      68.82     45.62       36.15  -2.003484        -2.87         -5.70          5.84        24.72        20.90       17.44  1.03      8.36     1.688889            1.79            1.51    -3.16    -2.89     11.49      -10.88       1.29      -10.88      43.57        344.79 - 555.45           -10.88       621145.55  37.05  Jul 30/a   3/13/1986        Yes       Yes   228000.0               -2.71   0.17   1.20       19.94000        1.60   31934173        625.17      507.97     508.81     511.97     492.37     495.00     -2.55                                                              NaN       NaN       NaN          NaN        NaN          NaN        NaN           NaN         NaN         NaN         NaN         NaN                               -  -7.551863      -9.029153      0.195619  -6.884657    -7.241283    0.183854   -4.388838    -4.862220   0.441807   -6.188100    -6.418412   0.342910   -1.659341    -2.493633   0.740300    1.076834     1.765128   1.206139     1.922528      3.787468    1.492806     0.841221      1.312931    1.176640\n",
      "AAPL     3                               Apple Inc  DJIA, NDX, S&P 500              Technology            Consumer Electronics     USA     NASD                   Technology, Consumer Electronics      3557090.0     3      3557090.0   36.44    30.07   4.18   8.71  54.09   64.24   36.98       4.43       3.73        0.43          1.02        8/11/2025           16.11      6.58        1.76           NaN           NaN            NaN            NaN              NaN         9.63      12.19           0.15             5.97  408620.0    99280.0            9.18                4.99        14860.00  14820.00    99.79           0.10            -2.09       64.55          1.15           0.86         2.33             127.08  29.94  149.81   66.96    0.87     0.83       1.25     1.54      46.68     31.87       24.30   4.340066         3.07         12.40         19.47         1.85         7.60       -4.28  1.08      4.45     1.856565            1.40            1.82     3.69     9.74      8.26       -0.09      20.29       -7.85      41.65        169.21 - 260.10            -7.85       376676.24  70.86  Jul 31/a  12/12/1980        Yes       Yes   164000.0               -0.13   0.09   2.04       54.46000        1.00   54259188        239.85      239.78     240.00     241.32     238.49     239.69     -0.04                                                              NaN       NaN       NaN          NaN        NaN          NaN        NaN           NaN         NaN         NaN         NaN         NaN                               -   9.181940     100.896144      9.988543   6.079698    24.079438    3.891662    6.512123    24.004027   4.181388    2.845758     5.986184   1.730817    3.561771     8.366411   1.955298    3.529196     7.546023   1.938868     0.710721      1.120735    1.162672     0.306562      0.454624    1.063255\n",
      "GOOG     4                            Alphabet Inc        NDX, S&P 500  Communication Services  Internet Content & Information     USA     NASD  Communication Services, Internet Content & Inf...      2843010.0     4      2843010.0   25.05    22.09   1.71   7.66   7.84   29.88   42.61      29.98       7.87        0.24          0.81         9/8/2025            7.46      9.39        2.33           NaN           NaN            NaN            NaN              NaN        14.06      22.28          34.52            13.19  371210.0   115570.0            5.82                2.54         5440.00   5040.00    92.68          58.32             0.01       26.82         -1.75           0.80         1.58              40.16  25.21   34.83   28.86    1.90     1.90       0.10     0.11      58.92     32.65       31.13  10.934478        10.74         19.42         38.49        34.99        48.27       23.49  0.98      5.49     2.334481            2.38            2.14    12.09    20.09     30.02        1.03      39.52        1.03      64.85        142.66 - 232.77             1.03          867.33  84.54  Jul 23/a   3/27/2014        Yes       Yes   183323.0                0.93   0.15   1.49       25.45000        1.02   26033866        232.12      232.66     233.00     236.13     232.38     235.17      1.08                                                              NaN       NaN       NaN          NaN        NaN          NaN        NaN           NaN         NaN         NaN         NaN         NaN                               -  47.872509  263711.193729  23494.260381   8.998309   107.509487   14.544922    7.871647    73.629246  10.895474    6.172669    33.654885   4.793832    5.204505    16.853889   3.160715    4.263327     9.464024   2.261461     2.186006      3.604426    1.480739     1.441588      2.201513    1.284739\n",
      "GOOGL    5                            Alphabet Inc        NDX, S&P 500  Communication Services  Internet Content & Information     USA     NASD  Communication Services, Internet Content & Inf...      2843010.0     5      2843010.0   25.03    22.08   1.71   7.66   7.84   29.88   42.61      29.98       7.86        0.22          0.81         9/8/2025            7.46      9.39        2.33           NaN           NaN            NaN            NaN              NaN        14.06      22.28          34.52            13.19  371210.0   115570.0            5.83                2.54         5820.00   5800.00    99.73          52.04             0.02       38.41         -1.75           1.02         1.54              59.17  25.21   34.83   28.86    1.90     1.90       0.10     0.11      58.92     32.65       31.13  11.189969        11.04         19.84         39.71        36.35        49.34       24.14  0.98      5.58     2.374468            2.42            2.18    12.39    20.51     30.98        1.13      40.26        1.13      67.22        140.53 - 232.37             1.13         9686.26  84.50  Jul 23/a   8/19/2004        Yes       Yes   183323.0                1.14   0.02   1.49       38.37000        1.21   46536898        232.00      232.30     232.35     235.76     231.90     235.00      1.16                                                              NaN       NaN       NaN          NaN        NaN          NaN        NaN           NaN         NaN         NaN         NaN         NaN                               -  45.805265  263711.193729  23494.260381   9.104404   108.296068   14.644022    7.911907    70.998639  10.504845    6.272933    34.017462   4.889373    5.235484    17.050520   3.197074    4.281200     9.486015   2.259152     2.251981      3.740144    1.493776     1.451219      2.219912    1.286580\n",
      "AMZN     6                          Amazon.com Inc  DJIA, NDX, S&P 500       Consumer Cyclical                 Internet Retail     USA     NASD                 Consumer Cyclical, Internet Retail      2477780.0     6      2477780.0   35.46    30.69   1.91   3.70   7.42   25.57  183.80      31.31       9.09         NaN           NaN                -            0.00      6.55        1.55           NaN           NaN            NaN            NaN              NaN        13.33      33.48          56.13            10.87  670040.0    70620.0           26.44                3.25        10660.00   9660.00    90.60           9.44            -2.44       65.46          1.71           0.78         1.81              75.68  11.42   24.77   15.10    1.02     0.81       0.40     0.46      49.61     11.51       10.54   3.101979         0.32          4.51         11.75        15.76        31.82        5.90  1.30      4.93     2.121982            1.75            1.77     2.08     3.02      8.97       -1.78      10.05       -4.20      43.96        161.38 - 242.52            -4.20       353926.69  56.53  Jul 31/a   5/15/1997        Yes       Yes  1556000.0               -1.17  -0.25   1.27       41.90000        0.87   36541419        263.20      235.68     235.09     236.00     231.93     232.33     -1.42                                                              NaN       NaN       NaN          NaN        NaN          NaN        NaN           NaN         NaN         NaN         NaN         NaN                               -   5.573215      22.137956      2.972206   2.166701     5.483290    1.489310    1.479900     3.198777   1.325563    0.344783     0.651026   1.061763    0.158722     0.210670   1.031951    1.281978     1.799267   1.271712     1.020032      1.569389    1.214587     0.962906      1.447092    1.186299\n",
      "META     7                      Meta Platforms Inc        NDX, S&P 500  Communication Services  Internet Content & Information     USA     NASD  Communication Services, Internet Content & Inf...      1890130.0     7      1890130.0   27.25    25.13   2.12  10.57   9.71   40.02   37.70      77.53      18.80        0.23          2.05        6/16/2025            8.38     27.61        6.66           NaN           NaN            NaN            NaN              NaN        21.61      38.30          40.62            19.38  178800.0    71510.0           21.36                6.01         2170.00   2160.00    99.58          13.86            -0.14       68.00         -0.51           1.28         2.36              27.73  27.24   40.65   29.47    1.97     1.97       0.24     0.25      81.95     44.08       39.99   2.358831         0.18         -2.53          9.91        19.83        47.03       28.51  1.21     16.32     2.168915            1.64            1.88    -0.67     1.89     15.61       -5.50       8.86       -5.50      56.83        479.80 - 796.25            -5.50         4187.46  52.48  Jul 30/a   5/18/2012        Yes       Yes    74067.0                0.04   0.47   1.44       11.74000        0.82    9637090        866.68      748.65     752.15     757.95     745.03     752.45      0.51                                                              NaN       NaN       NaN          NaN        NaN          NaN        NaN           NaN         NaN         NaN         NaN         NaN                               -  21.577782  263711.193729  23494.260381   8.368058    28.402423    4.578369   -0.798367    -1.122320   0.872654   -3.885561    -4.770024   0.532309    1.225879     2.845872   1.290771    1.094062     2.264312   1.238770     1.173403      2.046234    1.262158     1.208633      1.969258    1.252631\n",
      "AVGO     8                            Broadcom Inc        NDX, S&P 500              Technology                  Semiconductors     USA     NASD                         Technology, Semiconductors      1575150.0     8      1575150.0   85.60    36.95   2.59  26.28  22.63  146.96   63.18      14.80       2.28        0.71          2.30        6/20/2025          170.61      3.91        1.86           NaN           NaN            NaN            NaN              NaN        22.03     311.39         235.66            28.01   59930.0    18930.0            1.70                0.80         4700.00   4610.00    98.04           1.96            -1.71       78.16          0.83           0.94         2.13              43.26  11.28   27.08   13.91    1.50     1.37       0.86     0.88      63.13     39.35       31.59  12.288761         8.50         11.01         28.84        86.62       119.18       44.45  1.20     12.21     3.645973            4.19            3.26    10.45    14.91     45.82        5.53      27.50        5.53     148.25        134.90 - 317.35             5.53        23269.85  72.01  Sep 04/a    8/6/2009        Yes       Yes    37000.0               -5.92  16.29   1.35       20.33000        3.85   78238970        354.76      306.10     355.95     356.34     331.42     334.89      9.41                                                              NaN       NaN       NaN          NaN        NaN          NaN        NaN           NaN         NaN         NaN         NaN         NaN                               -  14.549202  263711.193729  23494.260381  11.444259  3031.514287  382.934900    6.879252    19.396628   4.665618    3.401036     7.459950   2.005699    3.214024     6.371719   1.787125    3.577739     6.391112   1.836220     2.476502      4.355055    1.603880     1.814908      3.055961    1.430188\n",
      "TSM      9  Taiwan Semiconductor Manufacturing ADR                   -              Technology                  Semiconductors  Taiwan     NYSE                         Technology, Semiconductors      1262290.0     9      1262290.0   27.71    21.43   1.11  11.89   8.05   14.00   40.50      30.24      17.39        1.37          2.66        9/16/2025           30.18      8.78        2.60           NaN           NaN            NaN            NaN              NaN        45.37      68.50          57.18            38.65  106140.0    45550.0            9.72                5.10         5190.00   5180.00    99.87           0.12             0.00       16.17         -0.17           0.49         2.31              25.50  21.47   33.29   24.21    2.37     2.15       0.20     0.22      57.27     48.74       42.92   6.576470         2.16          5.20         19.71        38.42        51.67       23.25  1.26      5.81     2.386919            2.13            2.08     2.84     3.19     20.75       -1.96      10.24       -1.96      81.31        134.25 - 248.28            -1.96         9273.07  58.35  Jul 17/b   10/8/1997        Yes       Yes        NaN                1.18   2.27   1.30       11.05000        1.27   14027171        276.81      235.21     240.56     244.55     237.90     243.41      3.49                                                              NaN       NaN       NaN          NaN        NaN          NaN        NaN           NaN         NaN         NaN         NaN         NaN                               -  31.224436  263711.193729  23494.260381  11.253417    38.686085    5.873989    4.106709     6.955544   1.942225    1.072459     1.553658   1.181520   -0.246117    -0.366711   0.960260    1.887606     3.224207   1.355506     1.852015      3.021584    1.388147     1.198774      1.793508    1.230907\n",
      "TSLA    10                               Tesla Inc        NDX, S&P 500       Consumer Cyclical              Auto Manufacturers     USA     NASD              Consumer Cyclical, Auto Manufacturers      1131620.0    10      1131620.0  203.17   140.92  14.70  12.20  14.63   30.30  202.58      23.98      11.58         NaN           NaN                -            0.00      1.73        0.49           NaN           NaN            NaN            NaN              NaN       -11.78     -21.57         -51.64            -2.73   92720.0     6060.0            0.70                0.97         3220.00   2710.00    84.19          15.84            -0.20       49.98          1.68           2.83         0.79              76.71   5.02    8.43    6.93    2.04     1.55       0.13     0.17      17.48      6.23        6.54   6.521739         1.40          9.67         23.23        33.17        66.59      -13.12  2.04     12.44     3.545776            3.50            3.49     4.04     8.26      6.25       -1.28      21.49      -28.19      66.66        210.51 - 488.54           -28.19        35030.88  60.02  Jul 23/a   6/29/2010        Yes       Yes   125665.0                0.81   2.81   2.56       97.18000        1.12  108518675        318.56      338.53     348.03     355.87     344.68     350.84      3.64                                                              NaN       NaN       NaN          NaN        NaN          NaN        NaN           NaN         NaN         NaN         NaN         NaN                               -  24.001338  263711.193729  23494.260381   9.696406    28.963114    4.649009    2.604271     4.252432   1.487015    2.758087     5.449464   1.552271    2.587319     4.758696   1.493168    0.804702     1.182415   1.143316     1.462074      2.388057    1.304270     1.018616      1.647587    1.199045\n",
      "BRK-B   12                  Berkshire Hathaway Inc             S&P 500               Financial         Insurance - Diversified     USA     NYSE                 Financial, Insurance - Diversified      1078410.0    11      1078410.0   17.13    23.22  24.82   2.91   1.61    3.13  131.11     309.64     159.46         NaN           NaN                -            0.00     29.18        5.51           NaN           NaN            NaN            NaN              NaN        -1.22     -59.28          -7.20             0.01  370150.0    62920.0            3.22                0.60         1360.00   1340.00    98.36          37.99            -0.00       41.30         -0.00           0.98         2.83              13.11   5.54    9.91    7.94    7.72     7.31       0.19     0.19      24.15     15.58       17.00  -0.273377        -0.02          6.58          2.26         0.39         4.81       10.26  0.79      6.90     1.380635            1.43            1.35     2.51     3.91      2.35       -1.50       9.79       -7.80      14.13        437.90 - 542.07            -7.80         2424.09  61.91  Aug 04/b    5/9/1996        Yes       Yes   392400.0               -1.23  -0.18   2.43        4.64000        0.91    4216705        523.19      506.91     506.00     507.66     497.75     499.77     -1.41                                                              NaN       NaN       NaN          NaN        NaN          NaN        NaN           NaN         NaN         NaN         NaN         NaN                               -  -1.621084      -2.833029      0.747614  -2.643427    -3.698942    0.619497    4.141809     6.890265   1.862747    6.515777    11.864917   2.827224    1.546825     2.118126   1.283535    0.491689     0.642023   1.083597    -0.533310     -0.679949    0.902323     0.330140      0.465449    1.063543\n",
      "BRK-A   11                  Berkshire Hathaway Inc                   -               Financial         Insurance - Diversified     USA     NYSE                 Financial, Insurance - Diversified      1078410.0    12      1078410.0   17.14    23.24  24.84   2.91   1.62    3.13  131.11  464454.26  239336.32         NaN           NaN                -            0.00  43768.23     8266.89           NaN           NaN            NaN            NaN              NaN        -1.22     -59.28          -7.20             0.01  370150.0    62920.0            3.22                0.60            1.44      0.54    37.50          62.25            -0.22        7.40         -1.37           0.04         0.62               0.00   5.54    9.91    7.94    7.72     7.31       0.19     0.19      24.15     15.58       17.00  -0.136328         0.08          6.68          2.34         0.40         4.78       10.16  0.78  10157.55     1.354153            1.39            1.33     2.56     3.90      2.40       -1.41       9.48       -7.72      14.08  657497.50 - 812855.00            -7.72        69033.96  62.65  Aug 02/a   3/17/1980         No       Yes   392400.0               -1.22  -0.05   2.43        0.00039        0.64        250     784397.80   759797.50  759400.00  759697.38  746630.00  750103.50     -1.28                                                              NaN       NaN       NaN          NaN        NaN          NaN        NaN           NaN         NaN         NaN         NaN         NaN                               -  -1.175182      -2.127616      0.810457  -2.942348    -4.141515    0.603850    4.069347     6.817379   1.797010    6.481121    11.724120   2.709501    1.701746     2.368296   1.318828    0.542116     0.713868   1.092414    -0.570935     -0.722990    0.897205     0.333952      0.474313    1.063481\n",
      "JPM     13                     JPMorgan Chase & Co       DJIA, S&P 500               Financial             Banks - Diversified     USA     NYSE                     Financial, Banks - Diversified       809470.0    13       809470.0   15.10    14.30   2.35   2.90   2.40     NaN   20.20     122.51        NaN        1.97          5.30         7/3/2025           24.30     19.49        4.66           NaN           NaN            NaN            NaN              NaN        -8.05     -14.44           8.73             4.00  278820.0    55150.0           16.88                2.51         2750.00   2740.00    99.63           0.37            -2.98       74.42         -0.27           0.88         2.92              24.22   1.29   16.13    6.78    1.16      NaN       1.28     3.13        NaN     27.19       19.78  -1.775108        -2.22          1.04         12.38        19.40        33.63       22.81  1.13      5.33     1.810585            2.05            1.74    -0.23     0.54     12.31       -3.30       5.02       -3.30      46.74        200.61 - 304.43            -3.30         9097.94  49.14  Jul 15/b    3/5/1969        Yes       Yes   317233.0               -3.05  -0.06   2.28        8.30000        1.18    9829778        310.55      303.82     303.65     305.15     294.31     294.38     -3.11                                                              NaN       NaN       NaN          NaN        NaN          NaN        NaN           NaN         NaN         NaN         NaN         NaN                               -  -4.197110      -6.109738      0.455701  -4.964236    -5.907208    0.375624   -0.927581    -1.153977   0.835407    1.174004     1.566248   1.246608   -0.815802    -1.047103   0.873808    2.161897     3.114793   1.422948     1.856775      2.660814    1.431723     1.266976      1.919552    1.283060\n",
      "WMT     14                             Walmart Inc       DJIA, S&P 500      Consumer Defensive                 Discount Stores     USA     NYSE                Consumer Defensive, Discount Stores       801350.0    14       801350.0   37.92    34.22   4.14   1.16   8.90   84.97   58.27      11.30       1.18        0.93          0.91       12/12/2025           34.51      2.65        0.60           NaN           NaN            NaN            NaN              NaN         4.76      57.36          38.05             4.23  693150.0    21340.0           -7.21                0.83         7970.00   4350.00    54.59          45.45            -0.83       35.79         -0.42           0.90         2.38              39.17   8.13   24.46   14.73    0.79     0.23       0.61     0.72      24.39      4.18        3.08   2.718447         4.58         -2.76          2.60         6.20        30.24       11.25  0.66      1.67     1.661526            1.66            1.48     0.89     2.28      5.77       -4.02       6.66       -4.55      31.73         76.30 - 105.30            -4.55        31797.42  56.94  Aug 21/b  11/20/1972        Yes       Yes  2100000.0               -0.43   0.01   1.24       16.47000        0.81   13340016        113.57      100.93     100.94     101.48      99.55     100.51     -0.42                                                              NaN       NaN       NaN          NaN        NaN          NaN        NaN           NaN         NaN         NaN         NaN         NaN                               -   6.159244      27.296109      3.431731  15.048707    65.055582    9.196233    7.554766    21.055788   3.854315    0.325994     0.398213   1.064124    1.195862     1.678905   1.263264    1.007116     1.404715   1.201355     1.187002      1.912328    1.255746     1.132659      1.661320    1.223421\n",
      "VOO      1                    Vanguard S&P 500 ETF                   -               Financial            Exchange Traded Fund     USA     NYSE  Financial, Exchange Traded Fund, US Equities -...       741230.0    15            NaN     NaN      NaN    NaN    NaN    NaN     NaN     NaN        NaN        NaN        1.17          6.93        6/30/2025             NaN       NaN         NaN           NaN           NaN            NaN            NaN              NaN          NaN        NaN            NaN              NaN       NaN        NaN             NaN                 NaN             NaN       NaN      NaN            NaN              NaN         NaN           NaN            NaN         0.56               3.66    NaN     NaN     NaN     NaN      NaN        NaN      NaN        NaN       NaN         NaN   1.061643        -0.26          2.29          9.15        12.97        17.22       10.42  1.01      5.18     0.870647            0.89            0.76     0.66     2.21      8.70       -0.35       6.56       -0.35      34.36        442.80 - 597.07            -0.35          505.62  59.02         -    9/9/2010        Yes       Yes        NaN               -0.64   0.37    NaN        6.49000        1.02    6625250           NaN      596.59     598.81     599.60     591.45     594.96     -0.27  US Equities - Broad Market & Size  Equities (Stocks)       0.03     506.0  741230.0      10020.0       1.37      17600.0       2.43       85220.0       12.99       18.37       19.22       14.68  U.S., equity, SP500, large-cap   5.304656      20.115351      2.792018   1.449110     2.566983    1.250307    0.527879     0.792908   1.078971    0.670206     1.201163   1.111210    0.954510     1.555334   1.172608    2.949355     4.907032   1.614499     1.219222      1.901361    1.309186     0.927006      1.380053    1.206497\n",
      "LLY     15                         Lilly(Eli) & Co             S&P 500              Healthcare    Drug Manufacturers - General     USA     NYSE           Healthcare, Drug Manufacturers - General       688270.0    16       688270.0   48.22    24.11   1.16  12.92  37.68  194.10  140.90      19.30       3.75        0.81          5.80        8/15/2025           44.39     15.08        6.36           NaN           NaN            NaN            NaN              NaN        37.64      91.71          88.21            36.83   53260.0    13800.0           12.70                5.80          946.83    848.58    89.62          10.34            -0.28       73.68         -0.29           1.02         1.99               8.70  15.97   86.70   26.31    1.28     1.00       1.87     2.18      82.64     42.13       25.91  -1.085434        -0.65         -2.57         -5.02       -20.33       -23.97       -5.80  0.46     19.91     2.737861            1.79            2.82     3.53    -2.42     -7.49      -11.34      16.58      -22.88      16.58        623.78 - 943.00           -25.22        21853.51  50.37  Aug 07/b    7/9/1970        Yes       Yes    47000.0               -2.11  -0.00   1.48        4.37000        0.90    3951809        913.17      742.91     742.88     744.70     722.57     727.21     -2.11                                                              NaN       NaN       NaN          NaN        NaN          NaN        NaN           NaN         NaN         NaN         NaN         NaN                               -  -5.835411      -7.678881      0.315911  -2.359558    -2.881365    0.636982    1.675556     3.728625   1.444446    2.215630     4.818569   1.662333   -1.504467    -1.738872   0.721220   -0.913985    -1.069137   0.830103    -0.373006     -0.489598    0.929360    -0.425666     -0.553672    0.922641\n",
      "IVV      2                iShares Core S&P 500 ETF                   -               Financial            Exchange Traded Fund     USA     NYSE  Financial, Exchange Traded Fund, US Equities -...       665570.0    17            NaN     NaN      NaN    NaN    NaN    NaN     NaN     NaN        NaN        NaN        1.23          8.00        6/16/2025             NaN       NaN         NaN           NaN           NaN            NaN            NaN              NaN          NaN        NaN            NaN              NaN       NaN        NaN             NaN                 NaN             NaN       NaN      NaN            NaN              NaN         NaN           NaN            NaN         1.53               8.12    NaN     NaN     NaN     NaN      NaN        NaN      NaN        NaN       NaN         NaN   1.095707        -0.26          2.31          9.14        13.02        17.15       10.50  1.01      5.66     0.870140            0.89            0.76     0.67     2.24      8.77       -0.34       6.91       -0.34      34.39        484.00 - 652.69            -0.34          870.25  59.08         -   5/19/2000        Yes       Yes        NaN               -0.66   0.39    NaN        5.29000        0.68    3573811           NaN      652.21     654.78     655.44     646.54     650.47     -0.27  US Equities - Broad Market & Size  Equities (Stocks)       0.03     509.0  665570.0       4210.0       0.64      24620.0       3.84       17940.0        2.77       18.38       19.23       14.68  U.S., equity, SP500, large-cap   5.407215      20.865715      2.858866   1.506467     2.662096    1.261426    0.547040     0.819839   1.081857    0.690935     1.235962   1.114350    0.974191     1.594305   1.175354    2.976149     4.989528   1.618296     1.208479      1.886920    1.310804     0.919370      1.371618    1.206613\n",
      "V       16                                Visa Inc       DJIA, S&P 500               Financial                 Credit Services     USA     NYSE                         Financial, Credit Services       661250.0    18       661250.0   33.88    26.71   2.61  17.00  17.53   28.86   29.94      19.58      11.89        0.70          2.36        8/12/2025           21.69     10.13        2.97           NaN           NaN            NaN            NaN              NaN        14.29      12.61           7.43            11.38   38890.0    20060.0            4.68                3.29         1700.00   1690.00    99.57          12.04            -0.12       80.04         -1.26           1.65         4.31              28.04  21.00   51.18   34.44    1.12     1.12       0.51     0.65      77.20     67.32       51.58  -1.956752        -1.90          1.02         -6.42        -0.27        23.22        8.60  0.91      5.51     1.605384            1.58            1.52    -0.69    -1.44      0.95       -4.57       4.42       -8.60      27.96        268.23 - 375.51            -8.60         3185.97  43.74  Jul 29/a   3/19/2008        Yes       Yes    31600.0               -2.33   0.12   1.59        6.50000        0.84    5445226        395.64      350.99     351.42     352.62     340.20     343.22     -2.21                                                              NaN       NaN       NaN          NaN        NaN          NaN        NaN           NaN         NaN         NaN         NaN         NaN                               - -11.041935     -11.132701      0.008220  -8.929465    -8.684586    0.084559   -4.333841    -4.715798   0.406569   -0.692253    -0.949237   0.872735   -2.124849    -2.667217   0.700022   -1.692199    -1.979655   0.734814     0.212525      0.286806    1.042301     0.887052      1.229418    1.183522\n",
      "SPY      3                  SPDR S&P 500 ETF Trust                   -               Financial            Exchange Traded Fund     USA     NYSE  Financial, Exchange Traded Fund, US Equities -...       655160.0    19            NaN     NaN      NaN    NaN    NaN    NaN     NaN     NaN        NaN        NaN        1.11          7.17        6/20/2025             NaN       NaN         NaN           NaN           NaN            NaN            NaN              NaN          NaN        NaN            NaN              NaN       NaN        NaN             NaN                 NaN             NaN       NaN      NaN            NaN              NaN         NaN           NaN            NaN         1.66             116.80    NaN     NaN     NaN     NaN      NaN        NaN      NaN        NaN       NaN         NaN   1.088603        -0.26          2.29          9.14        13.01        17.24       10.44  1.01      5.65     0.872937            0.89            0.76     0.66     2.23      8.73       -0.34       6.89       -0.34      34.34        481.80 - 649.48            -0.34         1420.93  58.90         -   1/29/1993        Yes       Yes        NaN               -0.64   0.35    NaN       70.40000        1.20   84435976           NaN      649.12     651.39     652.21     643.33     647.24     -0.29  US Equities - Broad Market & Size  Equities (Stocks)       0.09     504.0  655160.0      -7970.0      -1.20      -6520.0      -0.99      -32490.0       -4.72       18.35       19.13       14.60             U.S., equity, SP500   5.130619      18.899809      2.683729   1.543302     2.757402    1.266903    0.529635     0.797380   1.079042    0.693381     1.239248   1.114899    0.940206     1.533090   1.168764    2.956073     4.918423   1.615490     1.151018      1.828518    1.303523     0.888061      1.343433    1.204736\n",
      "ORCL    17                             Oracle Corp             S&P 500              Technology       Software - Infrastructure     USA     NYSE              Technology, Software - Infrastructure       653900.0    20       653900.0   53.63    28.72   2.78  11.39  31.95   58.37     NaN       7.29       3.99        0.78          1.80        7/10/2025           39.16      4.34        1.48           NaN           NaN            NaN            NaN              NaN        11.31       7.64          16.96             8.38   57400.0    12440.0            3.50                2.06         2810.00   1640.00    58.52          41.52            -0.78       45.15          1.20           1.36         1.64              22.36   8.04   85.36   10.37    0.75     0.74       4.87     5.33      66.49     31.45       21.68   3.328895        -3.13         -9.21         36.03        54.23        66.88       39.70  1.50      7.48     3.213058            3.48            3.19    -2.16    -2.40     27.11      -10.76      10.88      -10.76      95.86        118.86 - 260.87           -10.76       580109.26  47.39  Sep 09/a   3/12/1986        Yes       Yes   162000.0                1.22   3.14   1.88       13.60000        1.12   15268127        249.30      223.00     230.00     234.62     225.88     232.80      4.39                                                              NaN       NaN       NaN          NaN        NaN          NaN        NaN           NaN         NaN         NaN         NaN         NaN                               -  10.163728     215.007287     20.154371   4.778561    24.687861    3.046764   -0.881947    -1.195073   0.835935   -2.609930    -3.108030   0.587247   -1.144532    -1.382069   0.807924    2.695072     5.123528   1.674719     2.067806      3.612840    1.466182     1.273999      1.973120    1.267761\n"
     ]
    }
   ],
   "source": [
    "latest_df_finviz_merged_stocks_etfs = file_list[0]\n",
    "print(f'Latest df_finviz_merged_stocks_etfs:\\n{latest_df_finviz_merged_stocks_etfs}')\n",
    "# Verify by loading it back\n",
    "df_finviz_merged_stocks_etfs = pd.read_parquet(DATA_DIR / latest_df_finviz_merged_stocks_etfs, engine='pyarrow')\n",
    "\n",
    "print(f'\\ndf_finviz_merged_stocks_etfs.head(20):\\n{df_finviz_merged_stocks_etfs.head(20)}')"
   ]
  },
  {
   "cell_type": "code",
   "execution_count": 4,
   "metadata": {},
   "outputs": [
    {
     "name": "stdout",
     "output_type": "stream",
     "text": [
      "Are these tickers in the df_finviz_merged_stocks_etfs index?\n",
      "AVAV: True\n",
      "RKLB: True\n",
      "JOBY: True\n",
      "SYM : True\n",
      "SOFI: True\n",
      "MRNA: True\n",
      "SN  : True\n",
      "U   : True\n",
      "EVR : True\n",
      "CG  : True\n"
     ]
    }
   ],
   "source": [
    "tickers_to_check = ['AVAV', 'RKLB', 'JOBY', 'SYM', 'SOFI', 'MRNA', 'SN', 'U', 'EVR', 'CG']\n",
    "# Check if items are in the DataFrame index\n",
    "is_in_index = [ticker in df_finviz_merged_stocks_etfs .index for ticker in tickers_to_check]\n",
    "# Print tickers next to their corresponding True or False values\n",
    "print((f'Are these tickers in the df_finviz_merged_stocks_etfs index?'))\n",
    "for ticker, is_in in zip(tickers_to_check, is_in_index):\n",
    "    print(f\"{ticker.ljust(4)}: {is_in}\")"
   ]
  },
  {
   "cell_type": "code",
   "execution_count": 5,
   "metadata": {},
   "outputs": [],
   "source": [
    "import pandas as pd\n",
    "from pathlib import Path\n",
    "import matplotlib.pyplot as plt\n",
    "import seaborn as sns\n",
    "\n",
    "def create_rank_history_df(file_list, data_dir):\n",
    "    \"\"\"\n",
    "    Reads daily files to compile a history of ranks for each ticker.\n",
    "\n",
    "    Args:\n",
    "        file_list (list): A list of sorted parquet filenames.\n",
    "        data_dir (Path): The directory where files are stored.\n",
    "\n",
    "    Returns:\n",
    "        pd.DataFrame: A DataFrame with tickers as the index, dates as columns,\n",
    "                      and ranks as the values. NaN indicates the ticker was not\n",
    "                      present on that day.\n",
    "    \"\"\"\n",
    "    daily_ranks_list = []\n",
    "    for filename in file_list:\n",
    "        # Extract the date string from the start of the filename\n",
    "        date_str = filename.split('_')[0]\n",
    "        \n",
    "        # Read the daily data file\n",
    "        df_daily = pd.read_parquet(data_dir / filename)\n",
    "        \n",
    "        # Extract the 'Rank' column (it's a Series with tickers as its index)\n",
    "        ranks_series = df_daily['Rank']\n",
    "        \n",
    "        # Rename the Series to the date, which will become the column name\n",
    "        ranks_series.name = pd.to_datetime(date_str)\n",
    "        \n",
    "        daily_ranks_list.append(ranks_series)\n",
    "\n",
    "    # Concatenate all Series into a single DataFrame, aligning on the ticker index\n",
    "    df_tickers_rank_history = pd.concat(daily_ranks_list, axis=1)\n",
    "    \n",
    "    # Sort columns by date just in case the file list wasn't perfectly sorted\n",
    "    df_tickers_rank_history = df_tickers_rank_history.sort_index(axis=1)\n",
    "    \n",
    "    return df_tickers_rank_history\n"
   ]
  },
  {
   "cell_type": "code",
   "execution_count": 6,
   "metadata": {},
   "outputs": [],
   "source": [
    "import plotly.express as px\n",
    "import pandas as pd\n",
    "import math\n",
    "\n",
    "def plot_rank_with_criteria(df_rank_history, ticker_list, title_suffix=\"\", filter_criteria=None,\n",
    "                            width=1100, height=700):\n",
    "    \"\"\"\n",
    "    Plots rank history with period markers, interactive buttons, and size controls.\n",
    "    - Adds vertical lines and shaded regions for lookback and recent periods.\n",
    "    - 'Clear All' sets traces to 'legendonly', hiding them and graying out the legend item.\n",
    "    - 'Reset View' makes all traces fully visible.\n",
    "    \n",
    "    Args:\n",
    "        df_rank_history (pd.DataFrame): The full rank history DataFrame.\n",
    "        ticker_list (list): A list of ticker symbols to plot.\n",
    "        title_suffix (str, optional): Text to append to the main plot title.\n",
    "        filter_criteria (dict, optional): A dictionary of filter parameters to display.\n",
    "        width (int, optional): The width of the figure in pixels.\n",
    "        height (int, optional): The height of the figure in pixels.\n",
    "    \"\"\"\n",
    "    \n",
    "    if not ticker_list:\n",
    "        print(\"Ticker list is empty. Nothing to plot.\")\n",
    "        return\n",
    "\n",
    "    # Prepare data for plotting\n",
    "    plot_df = df_rank_history.loc[ticker_list].T\n",
    "    plot_df.index = pd.to_datetime(plot_df.index)\n",
    "\n",
    "    custom = px.colors.qualitative.Plotly.copy()\n",
    "    # Replace the 7th color '#B6E880' with '#1F77B4' with a darker blue\n",
    "    custom[7] = '#1F77B4'        \n",
    "\n",
    "    fig = px.line(\n",
    "        plot_df, \n",
    "        x=plot_df.index, \n",
    "        y=plot_df.columns,\n",
    "        # Line color sequence \n",
    "        color_discrete_sequence=custom,\n",
    "        title=f\"Rank History: {title_suffix}\",\n",
    "        labels={'value': 'Rank', 'x': 'Date', 'variable': 'Ticker'}\n",
    "    )\n",
    "\n",
    "    # Force x-axis title as \"Date\"\n",
    "    fig.update_xaxes(title_text=\"Date\", title_standoff=25)\n",
    "\n",
    "    # Y-Axis configuration (unchanged and correct)\n",
    "    fig.update_yaxes(\n",
    "        autorange=\"reversed\", \n",
    "        dtick=100,\n",
    "        showgrid=True,\n",
    "        gridcolor='LightGrey'\n",
    "    )\n",
    "    \n",
    "    # --- CORRECTED X-Axis configuration ---\n",
    "    fig.update_xaxes(\n",
    "        type='date',  # Ensures the axis is treated as a continuous date axis\n",
    "        \n",
    "        # --- Major Ticks and Grid (for labels) ---\n",
    "        showgrid=True,\n",
    "        gridcolor='LightGrey',\n",
    "        dtick=\"D7\",  #<-- MAJOR CHANGE: Place labels and major grid lines only every 7 days\n",
    "        tickformat=\"%b %d\",  # Format as \"May 04\". Now readable with weekly spacing.\n",
    "\n",
    "        # --- Minor Ticks and Grid (for dense grid lines WITHOUT labels) ---\n",
    "        minor=dict(\n",
    "            showgrid=True, \n",
    "            gridcolor=\"rgba(235, 235, 235, 0.5)\", # A fainter color for minor lines\n",
    "            dtick=\"D1\" #<-- Place an unlabeled minor grid line every 1 day\n",
    "        )\n",
    "    )\n",
    "\n",
    "    # --- Vertical lines and shaded regions section (unchanged) ---\n",
    "    if filter_criteria and 'recent_days' in filter_criteria and 'lookback_days' in filter_criteria:\n",
    "        recent_days = filter_criteria.get('recent_days', 0)\n",
    "        lookback_days = filter_criteria.get('lookback_days', 0)\n",
    "        all_dates = pd.to_datetime(df_rank_history.columns)\n",
    "        if len(all_dates) >= (lookback_days + recent_days):\n",
    "            last_date = all_dates[-1]\n",
    "            recent_period_start_date = all_dates[-recent_days]\n",
    "            lookback_period_end_date = all_dates[-(recent_days + 1)]\n",
    "            lookback_period_start_date = all_dates[-(recent_days + lookback_days)]\n",
    "            fig.add_vrect(x0=recent_period_start_date, x1=last_date, fillcolor=\"LightSkyBlue\", opacity=0.2, layer=\"below\", line_width=0, annotation_text=\"Recent\", annotation_position=\"top left\")\n",
    "            fig.add_vrect(x0=lookback_period_start_date, x1=lookback_period_end_date, fillcolor=\"LightGreen\", opacity=0.2, layer=\"below\", line_width=0, annotation_text=\"Lookback\", annotation_position=\"top left\")\n",
    "            fig.add_vline(x=recent_period_start_date, line_width=2, line_dash=\"dash\", line_color=\"grey\")\n",
    "\n",
    "    # --- Interactive buttons section (unchanged) ---\n",
    "    num_traces = len(fig.data)\n",
    "    fig.update_layout(\n",
    "        updatemenus=[\n",
    "            dict(\n",
    "                type=\"buttons\", direction=\"left\", x=0.01, xanchor=\"left\",\n",
    "                y=1.1, yanchor=\"top\", showactive=False,\n",
    "                buttons=list([\n",
    "                    dict(label=\"Reset View\", method=\"restyle\", args=[{\"visible\": [True] * num_traces}]),\n",
    "                    dict(label=\"Clear All\", method=\"restyle\", args=[{\"visible\": ['legendonly'] * num_traces}]),\n",
    "                ]),\n",
    "            )\n",
    "        ]\n",
    "    )\n",
    "    \n",
    "    # --- Filter criteria annotation section (unchanged) ---\n",
    "    criteria_text = \"\"\n",
    "    num_rows = 0\n",
    "    if filter_criteria:\n",
    "        active_criteria = {k: v for k, v in filter_criteria.items() if v is not None}\n",
    "        col_width = 38\n",
    "        criteria_lines = []\n",
    "        items = list(active_criteria.items())\n",
    "        for i in range(0, len(items), 3):\n",
    "            chunk = items[i:i+3]\n",
    "            line_parts = [f\"{f'  • {k}: {v}':<{col_width}}\" for k, v in chunk]\n",
    "            criteria_lines.append(\"\".join(line_parts))\n",
    "        num_rows = len(criteria_lines)\n",
    "        criteria_text = \"<b>Filter Criteria:</b><br>\" + \"<br>\".join(criteria_lines)\n",
    "\n",
    "    if criteria_text:\n",
    "        FONT_SIZE = 14                       # whatever you want\n",
    "        LINE_HEIGHT = FONT_SIZE * 1.4        # ~40 % leading is comfortable\n",
    "\n",
    "        criteria_text = \"<b>Filter Criteria:</b><br>\" + \"<br>\".join(criteria_lines)\n",
    "\n",
    "        fig.add_annotation(\n",
    "            showarrow=False,\n",
    "            text=criteria_text,\n",
    "            xref=\"paper\", yref=\"paper\",\n",
    "            x=0, y=-0.25,            \n",
    "            xanchor=\"left\", yanchor=\"top\",\n",
    "            align=\"left\",\n",
    "            font=dict(family=\"Courier New, monospace\", size=FONT_SIZE)\n",
    "        )\n",
    "\n",
    "\n",
    "    # compute y-range manually\n",
    "    y_vals = plot_df.values.ravel()          # all y values\n",
    "    y_range = (y_vals.min(), y_vals.max())\n",
    "    \n",
    "    # ------------------------------------------------------------------\n",
    "    # horizontal red boundary lines – use the data range we just computed\n",
    "    # ------------------------------------------------------------------\n",
    "    y_min, y_max = y_range       # comes from the manual computation above\n",
    "\n",
    "    # xref and yref = \"paper\", uses plot area as a reference. \n",
    "    # x0, y0 = 0, 0 is lower left corner\n",
    "    # x1, y1 = 1, 1 is upper right corner\n",
    "    fig.add_shape(type=\"line\",\n",
    "                  xref=\"paper\", yref=\"paper\",\n",
    "                  x0=0, x1=1,\n",
    "                  y0=1, y1=1,  \n",
    "                  line=dict(color=\"red\", width=2))  # top of plot area\n",
    "\n",
    "    fig.add_shape(type=\"line\",\n",
    "                  xref=\"paper\", yref=\"paper\",\n",
    "                  x0=0, x1=1,\n",
    "                  y0=0, y1=0,  \n",
    "                  line=dict(color=\"blue\", width=2))  # bottom of plot area\n",
    "\n",
    "    # # optional thin line just below the filter-text annotation\n",
    "    # fig.add_shape(type=\"line\",\n",
    "    #               xref=\"paper\", yref=\"paper\",\n",
    "    #               x0=0, x1=1,\n",
    "    #               y0=-0.05, y1=-0.05,                 \n",
    "    #               line=dict(color=\"green\", width=2))  # line 5% below the plot area\n",
    "\n",
    "\n",
    "    # --- Layout update section (unchanged) ---\n",
    "    bottom_margin = 140 + num_rows * LINE_HEIGHT\n",
    "    fig.update_layout(width=width, height=height, margin=dict(b=bottom_margin))\n",
    "\n",
    "    # Set the x-axis range to a suitable range\n",
    "    fig.update_xaxes(range=[plot_df.index.min(), plot_df.index.max()])\n",
    "\n",
    "    fig.show()\n",
    "    return fig"
   ]
  },
  {
   "cell_type": "code",
   "execution_count": 7,
   "metadata": {},
   "outputs": [],
   "source": [
    "import pandas as pd\n",
    "import numpy as np\n",
    "\n",
    "def calculate_rank_metrics(df_rank_history, tickers_list, lookback_days=20, recent_days=4):\n",
    "    \"\"\"\n",
    "    Calculates a comprehensive set of rank metrics for a given list of tickers.\n",
    "\n",
    "    This function does NOT filter tickers based on performance criteria. It processes\n",
    "    every ticker provided in the tickers_list and returns its calculated metrics,\n",
    "    making it suitable for generating features for analysis or other models.\n",
    "\n",
    "    Args:\n",
    "        df_rank_history (pd.DataFrame): DataFrame with tickers as index and dates as columns.\n",
    "        tickers_list (list): A list of ticker symbols to calculate metrics for.\n",
    "        lookback_days (int): The number of days for the \"lookback\" period.\n",
    "        recent_days (int): The number of days for the \"recent\" period.\n",
    "\n",
    "    Returns:\n",
    "        list: A list of dictionaries, where each dictionary contains the calculated\n",
    "              rank metrics for one ticker. Tickers with insufficient data in the\n",
    "              specified period are skipped.\n",
    "    \"\"\"\n",
    "    # --- Guard Clause & Date Setup ---\n",
    "    total_days_needed = lookback_days + recent_days\n",
    "    if len(df_rank_history.columns) < total_days_needed:\n",
    "        print(f\"Error: Not enough data. Need {total_days_needed} days, have {len(df_rank_history.columns)}.\")\n",
    "        return []\n",
    "\n",
    "    all_dates = df_rank_history.columns\n",
    "    last_date = all_dates[-1]\n",
    "    recent_period_start_date = all_dates[-recent_days]\n",
    "    lookback_period_end_date = all_dates[-(recent_days + 1)]\n",
    "    lookback_period_start_date = all_dates[-(recent_days + lookback_days)]\n",
    "    \n",
    "    lookback_dates = df_rank_history.loc[:, lookback_period_start_date:lookback_period_end_date].columns\n",
    "    recent_dates = df_rank_history.loc[:, recent_period_start_date:last_date].columns\n",
    "    \n",
    "    all_ticker_metrics = []\n",
    "\n",
    "    print(f\"Calculating metrics for {len(tickers_list)} tickers...\")\n",
    "\n",
    "    # --- Calculation Loop ---\n",
    "    for ticker in tickers_list:\n",
    "        # Skip if ticker is not in the dataframe index\n",
    "        if ticker not in df_rank_history.index:\n",
    "            continue\n",
    "\n",
    "        lookback_ranks = df_rank_history.loc[ticker, lookback_dates].dropna()\n",
    "        recent_ranks = df_rank_history.loc[ticker, recent_dates].dropna()\n",
    "        \n",
    "        # Skip if there's not enough data for this specific ticker in the required periods\n",
    "        if len(lookback_ranks) < lookback_days or len(recent_ranks) < recent_days:\n",
    "            continue\n",
    "            \n",
    "        # --- Perform all calculations without any filtering 'if' statements ---\n",
    "        slope, _ = np.polyfit(np.arange(len(lookback_ranks)), lookback_ranks, 1)\n",
    "        all_ranks_in_period = pd.concat([lookback_ranks, recent_ranks])\n",
    "\n",
    "        # Key reference points\n",
    "        current_rank = int(recent_ranks.iloc[-1])\n",
    "        rank_at_start_of_recent = int(recent_ranks.iloc[0])\n",
    "        recent_bottom_rank = int(recent_ranks.max()) # Worst rank in recent period\n",
    "        total_peak_rank = int(all_ranks_in_period.min()) # Best rank over the whole period\n",
    "        \n",
    "        # This dictionary holds all calculated metrics for one ticker\n",
    "        metrics_dict = {\n",
    "            'ticker': ticker,\n",
    "            'lookback_slope': round(slope, 2),\n",
    "            \n",
    "            # Key Ranks\n",
    "            'current': current_rank,\n",
    "            'recent_start': rank_at_start_of_recent,\n",
    "            'lookback_start': int(lookback_ranks.iloc[0]),\n",
    "            'lookback_end': int(lookback_ranks.iloc[-1]),\n",
    "\n",
    "            # Best/Worst Ranks by Period\n",
    "            'best_lookback': int(lookback_ranks.min()),\n",
    "            'worst_lookback': int(lookback_ranks.max()),\n",
    "            'best_recent': int(recent_ranks.min()),\n",
    "            'worst_recent': recent_bottom_rank, # Same value, more descriptive name\n",
    "            'best_total': total_peak_rank,\n",
    "            'worst_total': int(all_ranks_in_period.max()),\n",
    "\n",
    "            # Derived Metrics (using clearer names)\n",
    "            'current_to_total_peak': current_rank - total_peak_rank,\n",
    "            'current_to_recent_start': current_rank - rank_at_start_of_recent,\n",
    "            'recent_bottom_to_recent_start': recent_bottom_rank - rank_at_start_of_recent,\n",
    "            'recent_bottom_to_current': recent_bottom_rank - current_rank,\n",
    "        }\n",
    "        all_ticker_metrics.append(metrics_dict)\n",
    "\n",
    "    return all_ticker_metrics"
   ]
  },
  {
   "cell_type": "code",
   "execution_count": 8,
   "metadata": {},
   "outputs": [],
   "source": [
    "import pandas as pd\n",
    "\n",
    "def filter_rank_metrics(\n",
    "    all_metrics_data,\n",
    "    min_lookback_improvement=15,\n",
    "    # --- Mode-specific parameters ---\n",
    "    min_current_to_recent_start=None,  # Only used in 'Dip' mode, positive number means recent_start is better than current \n",
    "    min_recent_bottom_to_recent_start=None, # Only used in 'Reversal' mode, positive number means recent_start is better than recent_bottom\n",
    "    min_recent_bottom_to_current=None,  # Only used in 'Reversal' mode, positive number means current is better than recent_bottom \n",
    "    # --- General filters ---\n",
    "    current_rank_bracket_start=1, \n",
    "    current_rank_bracket_end=None):\n",
    "    \"\"\"\n",
    "    Filters a DataFrame of pre-calculated rank metrics based on specified criteria.\n",
    "\n",
    "    This function acts as the second stage in a two-part pipeline, taking the output of\n",
    "    `calculate_rank_metrics` and applying filtering rules to find specific opportunities.\n",
    "\n",
    "    Args:\n",
    "        all_metrics_data (list or pd.DataFrame): The list of dictionaries or DataFrame\n",
    "                                                  from `calculate_rank_metrics`.\n",
    "        min_lookback_improvement (int): Min improvement from the start to the end of the lookback period.\n",
    "        min_current_to_recent_start (int, optional): For 'Dip' mode, positive number means recent_start is better than current.\n",
    "        min_recent_bottom_to_recent_start (int, optional): For 'Reversal' mode, positive number means recent_start is better than recent_bottom.\n",
    "        min_recent_bottom_to_current (int, optional): For 'Reversal' mode, positive number means current is better than recent_bottom.\n",
    "        current_rank_bracket_start (int): The minimum current rank to include.\n",
    "        current_rank_bracket_end (int, optional): The maximum current rank to include.\n",
    "\n",
    "    Returns:\n",
    "        pd.DataFrame: A filtered and sorted DataFrame containing the tickers that meet all criteria.\n",
    "    \"\"\"\n",
    "    # --- Parameter Validation (Mode Detection) ---\n",
    "    # This logic is identical to the original function to ensure correct mode is selected.\n",
    "    if min_current_to_recent_start is not None and (min_recent_bottom_to_recent_start is not None or min_recent_bottom_to_current is not None):\n",
    "        raise ValueError(\"Cannot specify parameters for both 'Dip' and 'Reversal' modes.\")\n",
    "    \n",
    "    # --- Data Preparation ---\n",
    "    if not isinstance(all_metrics_data, pd.DataFrame):\n",
    "        df = pd.DataFrame(all_metrics_data)\n",
    "    else:\n",
    "        df = all_metrics_data.copy() # Use a copy to avoid modifying the original DataFrame\n",
    "\n",
    "    if df.empty:\n",
    "        return df # Return an empty DataFrame if there's no data\n",
    "\n",
    "    # --- Apply Filters Sequentially ---\n",
    "    \n",
    "    # Filter 1: Lookback period must show a minimum rank improvement\n",
    "    # This is calculated from 'lookback_start' - 'lookback_end'\n",
    "    lookback_improvement = df['lookback_start'] - df['lookback_end']\n",
    "    df = df[lookback_improvement >= min_lookback_improvement]\n",
    "\n",
    "    # Filter 2: Lookback trend slope must be negative (improving rank)\n",
    "    df = df[df['lookback_slope'] < 0]\n",
    "\n",
    "    # Filter 3: Ticker's current rank must be within the specified bracket\n",
    "    df = df[df['current'] >= current_rank_bracket_start]\n",
    "    if current_rank_bracket_end is not None:\n",
    "        df = df[df['current'] <= current_rank_bracket_end]\n",
    "\n",
    "    # Filter 4: Mode-specific filtering\n",
    "    if min_current_to_recent_start is not None:\n",
    "        # --- Dip Mode ---\n",
    "        # The metric 'min_current_to_recent_start' corresponds to the required drop.\n",
    "        print(\"Filtering in 'Dip' mode...\")\n",
    "        df = df[df['current_to_recent_start'] >= min_current_to_recent_start]\n",
    "    elif min_recent_bottom_to_recent_start is not None and min_recent_bottom_to_current is not None:\n",
    "        # --- Reversal Mode ---\n",
    "        print(\"Filtering in 'Reversal' mode...\")\n",
    "        df = df[df['recent_bottom_to_recent_start'] >= min_recent_bottom_to_recent_start]\n",
    "        df = df[df['recent_bottom_to_current'] >= min_recent_bottom_to_current]\n",
    "    else:\n",
    "        print(\"Warning: No mode-specific filters applied. Returning candidates based on general filters only.\")\n",
    "\n",
    "    # --- Final Sorting ---\n",
    "    # Sort the final list of candidates by the strength of their past uptrend.\n",
    "    df_filtered = df.sort_values(by='lookback_slope', ascending=True)\n",
    "    \n",
    "    return df_filtered"
   ]
  },
  {
   "cell_type": "markdown",
   "metadata": {},
   "source": [
    "# WOW keep this one\n",
    "    df_tickers_rank_history,\n",
    "    lookback_days=20,\n",
    "    recent_days=4,\n",
    "    min_lookback_improvement=15,\n",
    "    min_recent_bottom_to_recent_start=0,       # The dip must be at least 15 ranks deep\n",
    "    min_recent_bottom_to_current=0, # It must have recovered at least 5 ranks from the bottom\n",
    "    # current_rank_bracket_start=601,\n",
    "    current_rank_bracket_end=800,"
   ]
  },
  {
   "cell_type": "code",
   "execution_count": 9,
   "metadata": {},
   "outputs": [
    {
     "name": "stdout",
     "output_type": "stream",
     "text": [
      "Shape of the resulting DataFrame: (1663, 91)\n",
      "\n",
      "Last date in df_tickers_rank_history: 2025-09-05\n",
      "\n",
      "df_tickers_rank_history:\n",
      "       2025-04-25  2025-04-28  2025-04-29  2025-04-30  2025-05-01  2025-05-02  2025-05-05  2025-05-06  2025-05-07  2025-05-08  2025-05-09  2025-05-12  2025-05-13  2025-05-14  2025-05-15  2025-05-16  2025-05-19  2025-05-20  2025-05-21  2025-05-22  2025-05-23  2025-05-27  2025-05-28  2025-05-29  2025-05-30  2025-06-02  2025-06-03  2025-06-04  2025-06-05  2025-06-06  2025-06-09  2025-06-10  2025-06-11  2025-06-12  2025-06-13  2025-06-16  2025-06-17  2025-06-18  2025-06-19  2025-06-20  2025-06-23  2025-06-24  2025-06-25  2025-06-26  2025-06-27  2025-06-30  2025-07-01  2025-07-02  2025-07-03  2025-07-07  2025-07-08  2025-07-09  2025-07-10  2025-07-11  2025-07-14  2025-07-15  2025-07-16  2025-07-17  2025-07-18  2025-07-21  2025-07-22  2025-07-23  2025-07-24  2025-07-25  2025-07-28  2025-07-29  2025-07-30  2025-07-31  2025-08-01  2025-08-04  2025-08-05  2025-08-06  2025-08-07  2025-08-08  2025-08-11  2025-08-12  2025-08-13  2025-08-14  2025-08-15  2025-08-18  2025-08-19  2025-08-21  2025-08-22  2025-08-25  2025-08-26  2025-08-28  2025-08-29  2025-09-02  2025-09-03  2025-09-04  2025-09-05\n",
      "NVDA          3.0         3.0         3.0         3.0         3.0         3.0         3.0         3.0         3.0         3.0         3.0         3.0         3.0         2.0         2.0         2.0         2.0         2.0         2.0         2.0         2.0         2.0         2.0         2.0         2.0         2.0         1.0         1.0         2.0         2.0         2.0         1.0         2.0         2.0         2.0         2.0         2.0         2.0         2.0         2.0         2.0         2.0         1.0         1.0         1.0         1.0         1.0         1.0         1.0         1.0         1.0         1.0         1.0         1.0         1.0         1.0         1.0         1.0         1.0         1.0         1.0         1.0         1.0         1.0         1.0         1.0         1.0         1.0         1.0         1.0         1.0         1.0         1.0         1.0         1.0         1.0         1.0         1.0         1.0         1.0         1.0         1.0         1.0         1.0         1.0         1.0         1.0         1.0         1.0         1.0         1.0\n",
      "MSFT          2.0         2.0         2.0         2.0         2.0         1.0         1.0         1.0         1.0         1.0         1.0         1.0         1.0         1.0         1.0         1.0         1.0         1.0         1.0         1.0         1.0         1.0         1.0         1.0         1.0         1.0         2.0         2.0         1.0         1.0         1.0         2.0         1.0         1.0         1.0         1.0         1.0         1.0         1.0         1.0         1.0         1.0         2.0         2.0         2.0         2.0         2.0         2.0         2.0         2.0         2.0         2.0         2.0         2.0         2.0         2.0         2.0         2.0         2.0         2.0         2.0         2.0         2.0         2.0         2.0         2.0         2.0         2.0         2.0         2.0         2.0         2.0         2.0         2.0         2.0         2.0         2.0         2.0         2.0         2.0         2.0         2.0         2.0         2.0         2.0         2.0         2.0         2.0         2.0         2.0         2.0\n",
      "AAPL          1.0         1.0         1.0         1.0         1.0         2.0         2.0         2.0         2.0         2.0         2.0         2.0         2.0         3.0         3.0         3.0         3.0         3.0         3.0         3.0         3.0         3.0         3.0         3.0         3.0         3.0         3.0         3.0         3.0         3.0         3.0         3.0         3.0         3.0         3.0         3.0         3.0         3.0         3.0         3.0         3.0         3.0         3.0         3.0         3.0         3.0         3.0         3.0         3.0         3.0         3.0         3.0         3.0         3.0         3.0         3.0         3.0         3.0         3.0         3.0         3.0         3.0         3.0         3.0         3.0         3.0         3.0         3.0         3.0         3.0         3.0         3.0         3.0         3.0         3.0         3.0         3.0         3.0         3.0         3.0         3.0         3.0         3.0         3.0         3.0         3.0         3.0         3.0         3.0         3.0         3.0\n",
      "GOOG          6.0         6.0         5.0         5.0         6.0         5.0         4.0         4.0         6.0         5.0         5.0         5.0         5.0         5.0         5.0         6.0         5.0         6.0         5.0         6.0         5.0         6.0         6.0         5.0         5.0         5.0         5.0         6.0         5.0         6.0         5.0         6.0         6.0         6.0         6.0         6.0         5.0         6.0         5.0         5.0         6.0         5.0         6.0         5.0         6.0         5.0         6.0         5.0         6.0         6.0         5.0         5.0         5.0         5.0         5.0         6.0         6.0         5.0         6.0         5.0         6.0         5.0         6.0         6.0         6.0         6.0         5.0         5.0         5.0         5.0         5.0         4.0         5.0         5.0         5.0         4.0         4.0         6.0         4.0         6.0         4.0         5.0         5.0         4.0         4.0         5.0         5.0         4.0         5.0         5.0         4.0\n",
      "GOOGL         5.0         5.0         6.0         6.0         5.0         6.0         5.0         5.0         5.0         6.0         6.0         6.0         6.0         6.0         6.0         5.0         6.0         5.0         6.0         5.0         6.0         5.0         5.0         6.0         6.0         6.0         6.0         5.0         6.0         5.0         6.0         5.0         5.0         5.0         5.0         5.0         6.0         5.0         6.0         6.0         5.0         6.0         5.0         6.0         5.0         6.0         5.0         6.0         5.0         5.0         6.0         6.0         6.0         6.0         6.0         5.0         5.0         6.0         5.0         6.0         5.0         6.0         5.0         5.0         5.0         5.0         6.0         6.0         4.0         4.0         4.0         5.0         4.0         4.0         4.0         5.0         5.0         5.0         5.0         5.0         5.0         4.0         4.0         5.0         5.0         4.0         4.0         5.0         4.0         4.0         5.0\n",
      "...           ...         ...         ...         ...         ...         ...         ...         ...         ...         ...         ...         ...         ...         ...         ...         ...         ...         ...         ...         ...         ...         ...         ...         ...         ...         ...         ...         ...         ...         ...         ...         ...         ...         ...         ...         ...         ...         ...         ...         ...         ...         ...         ...         ...         ...         ...         ...         ...         ...         ...         ...         ...         ...         ...         ...         ...         ...         ...         ...         ...         ...         ...         ...         ...         ...         ...         ...         ...         ...         ...         ...         ...         ...         ...         ...         ...         ...         ...         ...         ...         ...         ...         ...         ...         ...         ...         ...         ...         ...         ...         ...\n",
      "EMLP       1553.0      1552.0      1534.0      1555.0      1558.0      1558.0      1559.0         NaN      1560.0      1557.0      1560.0         NaN         NaN         NaN         NaN         NaN         NaN         NaN         NaN         NaN         NaN         NaN         NaN         NaN         NaN         NaN         NaN         NaN         NaN         NaN         NaN         NaN         NaN         NaN         NaN         NaN         NaN         NaN         NaN         NaN         NaN         NaN         NaN         NaN         NaN         NaN         NaN         NaN         NaN         NaN         NaN         NaN         NaN         NaN         NaN         NaN         NaN         NaN         NaN         NaN         NaN         NaN         NaN         NaN         NaN         NaN         NaN         NaN         NaN         NaN         NaN         NaN         NaN         NaN         NaN         NaN         NaN         NaN         NaN         NaN         NaN         NaN         NaN         NaN         NaN         NaN         NaN         NaN         NaN         NaN         NaN\n",
      "GOLD        433.0       427.0       434.0       434.0       445.0       452.0       447.0       436.0       434.0       448.0         NaN         NaN         NaN         NaN         NaN         NaN         NaN         NaN         NaN         NaN         NaN         NaN         NaN         NaN         NaN         NaN         NaN         NaN         NaN         NaN         NaN         NaN         NaN         NaN         NaN         NaN         NaN         NaN         NaN         NaN         NaN         NaN         NaN         NaN         NaN         NaN         NaN         NaN         NaN         NaN         NaN         NaN         NaN         NaN         NaN         NaN         NaN         NaN         NaN         NaN         NaN         NaN         NaN         NaN         NaN         NaN         NaN         NaN         NaN         NaN         NaN         NaN         NaN         NaN         NaN         NaN         NaN         NaN         NaN         NaN         NaN         NaN         NaN         NaN         NaN         NaN         NaN         NaN         NaN         NaN         NaN\n",
      "ONTO       1336.0      1337.0         NaN      1368.0      1377.0      1347.0      1354.0      1366.0      1358.0      1359.0         NaN         NaN         NaN         NaN         NaN         NaN         NaN         NaN         NaN         NaN         NaN         NaN         NaN         NaN         NaN         NaN         NaN         NaN         NaN         NaN         NaN         NaN         NaN         NaN         NaN         NaN         NaN         NaN         NaN         NaN         NaN         NaN         NaN         NaN         NaN         NaN         NaN         NaN         NaN         NaN         NaN         NaN         NaN         NaN         NaN         NaN         NaN         NaN         NaN         NaN         NaN         NaN         NaN         NaN         NaN         NaN         NaN         NaN         NaN         NaN         NaN         NaN         NaN         NaN         NaN         NaN         NaN         NaN         NaN         NaN         NaN         NaN         NaN         NaN         NaN         NaN         NaN         NaN         NaN         NaN         NaN\n",
      "UCON       1545.0      1545.0      1528.0      1550.0      1551.0      1554.0      1555.0      1557.0      1557.0      1558.0         NaN         NaN         NaN         NaN         NaN         NaN         NaN         NaN         NaN         NaN         NaN         NaN         NaN         NaN         NaN         NaN         NaN         NaN         NaN         NaN         NaN         NaN         NaN         NaN         NaN         NaN         NaN         NaN         NaN         NaN         NaN         NaN         NaN         NaN         NaN         NaN         NaN         NaN         NaN         NaN         NaN         NaN         NaN         NaN         NaN         NaN         NaN         NaN         NaN         NaN         NaN         NaN         NaN         NaN         NaN         NaN         NaN         NaN         NaN         NaN         NaN         NaN         NaN         NaN         NaN         NaN         NaN         NaN         NaN         NaN         NaN         NaN         NaN         NaN         NaN         NaN         NaN         NaN         NaN         NaN         NaN\n",
      "RECS          NaN         NaN         NaN         NaN         NaN         NaN         NaN         NaN         NaN         NaN         NaN         NaN         NaN         NaN         NaN         NaN         NaN         NaN         NaN         NaN         NaN         NaN         NaN         NaN         NaN         NaN         NaN         NaN         NaN         NaN         NaN         NaN         NaN         NaN         NaN         NaN         NaN         NaN         NaN         NaN         NaN         NaN         NaN         NaN         NaN         NaN         NaN      1544.0         NaN         NaN         NaN         NaN         NaN         NaN         NaN         NaN         NaN         NaN         NaN         NaN         NaN         NaN         NaN         NaN         NaN         NaN         NaN         NaN         NaN         NaN         NaN         NaN         NaN         NaN         NaN         NaN         NaN         NaN         NaN         NaN         NaN         NaN         NaN         NaN         NaN         NaN         NaN         NaN         NaN         NaN         NaN\n",
      "\n",
      "[1663 rows x 91 columns]\n"
     ]
    }
   ],
   "source": [
    "df_tickers_rank_history = create_rank_history_df(file_list, DATA_DIR)\n",
    "\n",
    "print(\"Shape of the resulting DataFrame:\", df_tickers_rank_history.shape)\n",
    "print(f'\\nLast date in df_tickers_rank_history: {df_tickers_rank_history.columns[-1].strftime(\"%Y-%m-%d\")}')  \n",
    "print(f'\\ndf_tickers_rank_history:\\n{df_tickers_rank_history}')"
   ]
  },
  {
   "cell_type": "code",
   "execution_count": 10,
   "metadata": {},
   "outputs": [],
   "source": [
    "filter_criteria = {\n",
    "    \"lookback_days\": 20,\n",
    "    \"recent_days\": 4,\n",
    "    \"min_lookback_improvement\": 0,\n",
    "    \"min_current_to_recent_start\": None,  # Only used in 'Dip' mode, positive number means recent_start is better than current\n",
    "    \"min_recent_bottom_to_recent_start\": 0,  # Only used in 'Reversal' mode, positive number means recent_start is better than recent_bottom\n",
    "    \"min_recent_bottom_to_current\": 2,  # Only used in 'Reversal' mode, positive number means current is better than recent_bottom \n",
    "    \"current_rank_bracket_start\": 1,\n",
    "    \"current_rank_bracket_end\": 1000,\n",
    "}"
   ]
  },
  {
   "cell_type": "code",
   "execution_count": 11,
   "metadata": {},
   "outputs": [
    {
     "name": "stdout",
     "output_type": "stream",
     "text": [
      "Calculating metrics for 1663 tickers...\n",
      "Filtering in 'Reversal' mode...\n",
      "df_candidates.head(20):\n",
      "    ticker  lookback_slope  current  recent_start  lookback_start  lookback_end  best_lookback  worst_lookback  best_recent  worst_recent  best_total  worst_total  current_to_total_peak  current_to_recent_start  recent_bottom_to_recent_start  recent_bottom_to_current\n",
      "602   VTRS           -6.16      975           961            1058           964            934            1060          958           980         934         1060                     41                       14                             19                         5\n",
      "496   APTV           -5.85      760           766             825           762            753             858          754           766         753          858                      7                       -6                              0                         6\n",
      "384    REG           -5.36      549           556             899           557            532             909          548           556         532          909                     17                       -7                              0                         7\n",
      "571    AGI           -4.44      907           902            1061           932            932            1061          898           911         898         1061                      9                        5                              9                         4\n",
      "598   ENTG           -4.30      961           953             953           940            903            1018          953           979         903         1018                     58                        8                             26                        18\n",
      "484    SGI           -4.06      738           747             818           752            745             818          734           747         734          818                      4                       -9                              0                         9\n",
      "406   PODD           -3.94      596           598             666           608            608             689          596           603         596          689                      0                       -2                              5                         7\n",
      "383    KGC           -3.94      547           559             683           569            569             683          547           560         547          683                      0                      -12                              1                        13\n",
      "503   GMAB           -3.81      775           807             888           830            822             903          774           807         774          903                      1                      -32                              0                        32\n",
      "326    UAL           -3.77      452           455             508           456            455             521          449           455         449          521                      3                       -3                              0                         3\n",
      "603   RGLD           -3.75      982           974            1075           989            989            1075          974           986         974         1075                      8                        8                             12                         4\n",
      "604    SWK           -3.60      983          1029            1044          1008            969            1047          983          1029         969         1047                     14                      -46                              0                        46\n",
      "468    GDX           -3.60      700           714             815           718            718             815          700           714         700          815                      0                      -14                              0                        14\n",
      "388   EXPE           -3.57      556           558             611           556            543             613          549           558         543          613                     13                       -2                              0                         2\n",
      "354    GFI           -3.53      498           494             635           503            502             635          488           502         488          635                     10                        4                              8                         4\n",
      "511    SNN           -3.34      790           801             885           799            789             885          790           801         789          885                      1                      -11                              0                        11\n",
      "315    LEN           -3.28      436           448             504           449            436             504          436           448         436          504                      0                      -12                              0                        12\n",
      "259      B           -3.27      344           360             425           366            357             425          344           360         344          425                      0                      -16                              0                        16\n",
      "524    SBS           -3.22      820           835             898           825            813             898          820           835         813          898                      7                      -15                              0                        15\n",
      "378    PHM           -3.01      537           561             624           564            548             624          537           561         537          624                      0                      -24                              0                        24\n"
     ]
    }
   ],
   "source": [
    "# Assume 'selected_df' is your historical rank data\n",
    "# And all filter parameters (lookback_days, min_current_to_recent_start, etc.) are defined.\n",
    "\n",
    "# === STAGE 1: Calculate metrics for ALL tickers ONCE ===\n",
    "all_tickers = df_tickers_rank_history.index.tolist() \n",
    "\n",
    "# Calculate metrics for every single ticker without any filtering\n",
    "all_metrics_data = calculate_rank_metrics(\n",
    "    df_tickers_rank_history,\n",
    "    tickers_list=all_tickers,\n",
    "    lookback_days=filter_criteria['lookback_days'],\n",
    "    recent_days=filter_criteria['recent_days'],\n",
    ")\n",
    "\n",
    "# Now 'all_metrics_data' is a list of dictionaries that you can:\n",
    "# 1. Convert to a DataFrame for further analysis:\n",
    "#    metrics_df = pd.DataFrame(all_metrics_data)\n",
    "#\n",
    "# 2. Use as a feature set for machine learning.\n",
    "#\n",
    "# 3. Manually filter later in your code.\n",
    "#    dip_candidates = [d for d in all_metrics_data if d['current_to_recent_start'] >= 2]\n",
    "\n",
    "# === STAGE 2: Filter the calculated data ===\n",
    "# This step is very fast because all the heavy calculation is done.\n",
    "# You can now experiment with different filtering parameters here without re-calculating.\n",
    "df_candidates = filter_rank_metrics(\n",
    "    all_metrics_data,\n",
    "    min_lookback_improvement=filter_criteria['min_lookback_improvement'],\n",
    "    # === Mode Parameters ===\n",
    "    min_current_to_recent_start=filter_criteria['min_current_to_recent_start'],\n",
    "    min_recent_bottom_to_recent_start=filter_criteria['min_recent_bottom_to_recent_start'],\n",
    "    min_recent_bottom_to_current=filter_criteria['min_recent_bottom_to_current'],\n",
    "    # === Bracket Filters ===\n",
    "    current_rank_bracket_start=filter_criteria['current_rank_bracket_start'],\n",
    "    current_rank_bracket_end=filter_criteria['current_rank_bracket_end'],\n",
    ")\n",
    "\n",
    "# The resulting 'df_candidates' is identical to the DataFrame you created before.\n",
    "print(f'df_candidates.head(20):\\n{df_candidates.head(20)}')"
   ]
  },
  {
   "cell_type": "code",
   "execution_count": 12,
   "metadata": {},
   "outputs": [
    {
     "name": "stdout",
     "output_type": "stream",
     "text": [
      "\n",
      "df_candidates.head(50):\n",
      "    ticker  MktCap AUM, M   Price  Change %  ATR/Price %  lookback_slope  current  recent_start  lookback_start  lookback_end  best_lookback  worst_lookback  best_recent  worst_recent  best_total  worst_total  current_to_total_peak  current_to_recent_start  recent_bottom_to_recent_start  recent_bottom_to_current\n",
      "602   VTRS        12240.0   10.50      1.65     2.190476           -6.16      975           961            1058           964            934            1060          958           980         934         1060                     41                       14                             19                         5\n",
      "496   APTV        17520.0   80.44     -0.01     2.424167           -5.85      760           766             825           762            753             858          754           766         753          858                      7                       -6                              0                         6\n",
      "384    REG        26830.0   73.68      0.16     1.547231           -5.36      549           556             899           557            532             909          548           556         532          909                     17                       -7                              0                         7\n",
      "571    AGI        13530.0   32.19      2.03     2.764834           -4.44      907           902            1061           932            932            1061          898           911         898         1061                      9                        5                              9                         4\n",
      "598   ENTG        12430.0   81.98      2.93     4.147353           -4.30      961           953             953           940            903            1018          953           979         903         1018                     58                        8                             26                        18\n",
      "484    SGI        18290.0   87.15      0.31     2.030981           -4.06      738           747             818           752            745             818          734           747         734          818                      4                       -9                              0                         9\n",
      "406   PODD        24530.0  348.43      0.57     2.049192           -3.94      596           598             666           608            608             689          596           603         596          689                      0                       -2                              5                         7\n",
      "383    KGC        26950.0   22.11      2.89     2.487562           -3.94      547           559             683           569            569             683          547           560         547          683                      0                      -12                              1                        13\n",
      "503   GMAB        16940.0   27.54      0.58     2.106028           -3.81      775           807             888           830            822             903          774           807         774          903                      1                      -32                              0                        32\n",
      "326    UAL        34510.0  106.59      0.51     2.983394           -3.77      452           455             508           456            455             521          449           455         449          521                      3                       -3                              0                         3\n",
      "603   RGLD        12170.0  184.86      2.44     2.326085           -3.75      982           974            1075           989            989            1075          974           986         974         1075                      8                        8                             12                         4\n",
      "604    SWK        12140.0   78.42      4.92     3.034940           -3.60      983          1029            1044          1008            969            1047          983          1029         969         1047                     14                      -46                              0                        46\n",
      "468    GDX        19840.0   66.34      2.74     2.155562           -3.60      700           714             815           718            718             815          700           714         700          815                      0                      -14                              0                        14\n",
      "388   EXPE        26590.0  214.95     -0.73     2.516864           -3.57      556           558             611           556            543             613          549           558         543          613                     13                       -2                              0                         2\n",
      "354    GFI        30750.0   34.36      2.87     3.259604           -3.53      498           494             635           503            502             635          488           502         488          635                     10                        4                              8                         4\n",
      "511    SNN        16600.0   38.09      1.20     1.522709           -3.34      790           801             885           799            789             885          790           801         789          885                      1                      -11                              0                        11\n",
      "315    LEN        36570.0  141.88      2.76     2.678320           -3.28      436           448             504           449            436             504          436           448         436          504                      0                      -12                              0                        12\n",
      "259      B        48470.0   28.41      4.33     2.287927           -3.27      344           360             425           366            357             425          344           360         344          425                      0                      -16                              0                        16\n",
      "524    SBS        15830.0   23.16      3.30     2.461140           -3.22      820           835             898           825            813             898          820           835         813          898                      7                      -15                              0                        15\n",
      "378    PHM        27730.0  140.57      2.15     2.539660           -3.01      537           561             624           564            548             624          537           561         537          624                      0                      -24                              0                        24\n",
      "506   INCY        16920.0   86.64      1.40     2.227608           -2.91      778           776             837           783            761             837          767           781         761          837                     17                        2                              5                         3\n",
      "501    THC        17330.0  196.18      1.90     2.207157           -2.89      768           792             823           800            794             859          768           792         768          859                      0                      -24                              0                        24\n",
      "379    HPQ        27420.0   29.34      1.45     2.385821           -2.79      540           540             595           554            551             602          540           546         540          602                      0                        0                              6                         6\n",
      "356    ADM        30240.0   62.94      1.61     2.017795           -2.78      502           501             546           502            486             550          501           506         486          550                     16                        1                              5                         4\n",
      "469    PKG        19820.0  220.25      1.63     1.938706           -2.60      701           699             743           698            698             749          699           706         698          749                      3                        2                              7                         5\n",
      "531    XPO        15420.0  130.91      0.06     3.506226           -2.58      833           842             848           833            798             865          832           843         798          865                     35                       -9                              1                        10\n",
      "444    GPN        21300.0   87.78      0.57     2.551834           -2.52      662           665             687           654            642             698          661           665         642          698                     20                       -3                              0                         3\n",
      "526   LOGI        15820.0  107.25      0.69     1.734266           -2.45      822           831             870           832            826             886          819           831         819          886                      3                       -9                              0                         9\n",
      "595    BAX        12540.0   24.42      3.56     3.153153           -2.44      954           955            1000           942            924            1000          954           974         924         1000                     30                       -1                             19                        20\n",
      "605    UHS        12100.0  190.12      2.39     2.025037           -2.43      986          1004            1026          1005            982            1043          986          1004         982         1043                      4                      -18                              0                        18\n",
      "437   FSLR        22000.0  205.14      1.62     4.465243           -2.27      650           670             707           673            602             707          650           670         602          707                     48                      -20                              0                        20\n",
      "261   TCOM        47550.0   72.79     -0.27     2.871274           -2.19      347           355             398           345            342             410          347           355         342          410                      5                       -8                              0                         8\n",
      "566   COOP        13640.0  213.11      5.18     4.401483           -2.16      902           998            1076           977            921            1076          902           998         902         1076                      0                      -96                              0                        96\n",
      "599    PAG        12390.0  187.63      0.56     1.971966           -2.15      965           967            1006           972            938            1006          962           969         938         1006                     27                       -2                              2                         4\n",
      "466    VIV        19900.0   12.47      1.14     1.764234           -2.03      698           700             732           693            667             732          698           701         667          732                     31                       -2                              1                         3\n",
      "504    CSL        16940.0  396.20      1.08     2.746088           -2.02      776           795             807           787            762             816          776           802         762          816                     14                      -19                              7                        26\n",
      "235    DHI        54200.0  181.80      2.89     2.568757           -1.97      312           330             378           332            330             378          312           330         312          378                      0                      -18                              0                        18\n",
      "533    OMC        15390.0   79.43      1.13     2.089890           -1.96      836           843             858           838            815             864          836           843         815          864                     21                       -7                              0                         7\n",
      "509    ACM        16770.0  126.62      0.54     1.729585           -1.94      783           782             827           781            780             831          782           786         780          831                      3                        1                              4                         3\n",
      "412    STE        24160.0  245.30      0.78     1.614350           -1.92      606           608             623           604            578             638          606           610         578          638                     28                       -2                              2                         4\n",
      "310    LYV        37910.0  163.42      0.27     1.976502           -1.90      422           419             443           415            414             449          419           425         414          449                      8                        3                              6                         3\n",
      "419   NTAP        23700.0  118.75     -0.07     2.543158           -1.88      618           628             655           637            618             667          615           628         615          667                      3                      -10                              0                        10\n",
      "256    VLO        48700.0  156.77      0.89     2.251706           -1.85      340           344             377           354            354             394          340           344         340          394                      0                       -4                              0                         4\n",
      "421   CYBR        23330.0  462.77      1.02     2.534736           -1.84      622           631             657           630            630             671          622           631         622          671                      0                       -9                              0                         9\n",
      "553   NBIX        14290.0  144.10      2.64     2.553782           -1.82      870           877             920           887            887             939          870           897         870          939                      0                       -7                             20                        27\n",
      "481    HYG        18550.0   80.87      0.05     0.284407           -1.76      730           739             762           742            707             767          730           745         707          767                     23                       -9                              6                        15\n",
      "179    ELV        70620.0  313.64      1.81     2.901416           -1.72      239           232             258           237            234             269          232           245         232          269                      7                        7                             13                         6\n",
      "404   ERIC        24600.0    8.01      0.88     1.373283           -1.60      594           610             626           603            582             626          594           610         582          626                     12                      -16                              0                        16\n",
      "589   SPSM        12810.0   46.41      0.26     1.422107           -1.59      938           938             960           939            931             986          938           949         931          986                      7                        0                             11                        11\n",
      "225     GM        55480.0   58.27      0.21     1.990733           -1.55      301           300             324           301            301             332          300           303         300          332                      1                        1                              3                         2\n"
     ]
    }
   ],
   "source": [
    "import pprint\n",
    "\n",
    "# Map 'Price' and 'ATR/Price %' from df_finviz_merged_stocks_etfs to df_candidates\n",
    "df_candidates['Price'] = df_candidates['ticker'].map(df_finviz_merged_stocks_etfs['Price'])\n",
    "df_candidates['Change %'] = df_candidates['ticker'].map(df_finviz_merged_stocks_etfs['Change %'])\n",
    "df_candidates['MktCap AUM, M'] = df_candidates['ticker'].map(df_finviz_merged_stocks_etfs['MktCap AUM, M'])\n",
    "df_candidates['ATR/Price %'] = df_candidates['ticker'].map(df_finviz_merged_stocks_etfs['ATR/Price %'])\n",
    "\n",
    "# Reorder the columns to ensure 'Price' is the second column and 'ATR/Price %' is the third column\n",
    "columns = df_candidates.columns.tolist()\n",
    "\n",
    "# Remove 'Price' and 'ATR/Price %' from their current positions\n",
    "if 'Price' in columns:\n",
    "    columns.remove('Price')\n",
    "if 'Change %' in columns:\n",
    "    columns.remove('Change %')    \n",
    "if 'MktCap AUM, M' in columns:\n",
    "    columns.remove('MktCap AUM, M')\n",
    "if 'ATR/Price %' in columns:\n",
    "    columns.remove('ATR/Price %')    \n",
    "\n",
    "# Insert 'Price' as the second column and 'ATR/Price %' as the third column\n",
    "columns.insert(1, 'MktCap AUM, M')\n",
    "columns.insert(2, 'Price')\n",
    "columns.insert(3, 'Change %')\n",
    "columns.insert(4, 'ATR/Price %')\n",
    "\n",
    "\n",
    "# Reorder the DataFrame columns\n",
    "df_candidates = df_candidates[columns]\n",
    "\n",
    "\n",
    "# Display the updated DataFrame\n",
    "print(f'\\ndf_candidates.head(50):\\n{df_candidates.head(50)}')"
   ]
  },
  {
   "cell_type": "code",
   "execution_count": 13,
   "metadata": {},
   "outputs": [
    {
     "name": "stdout",
     "output_type": "stream",
     "text": [
      "filter_criteria:\n",
      "{'lookback_days': 20,\n",
      " 'recent_days': 4,\n",
      " 'min_lookback_improvement': 0,\n",
      " 'min_current_to_recent_start': None,\n",
      " 'min_recent_bottom_to_recent_start': 0,\n",
      " 'min_recent_bottom_to_current': 2,\n",
      " 'current_rank_bracket_start': 1,\n",
      " 'current_rank_bracket_end': 1000}\n",
      "\n",
      "sort order:\n",
      "{'current_to_total_peak': True,\n",
      " 'recent_bottom_to_current': False,\n",
      " 'lookback_slope': True}\n",
      "\n",
      "df_sorted_candidates.head(20):\n",
      "    ticker  MktCap AUM, M   Price  Change %  ATR/Price %  current  best_total  current_to_total_peak  recent_bottom_to_current  lookback_slope  recent_start  lookback_start  lookback_end  best_lookback  worst_lookback  best_recent  worst_recent  worst_total  current_to_recent_start  recent_bottom_to_recent_start\n",
      "566   COOP        13640.0  213.11      5.18     4.401483      902         902                      0                        96           -2.16           998            1076           977            921            1076          902           998         1076                      -96                              0\n",
      "574    BXP        13370.0   76.83      2.05     2.186646      910         910                      0                        33           -1.30           943             986           948            948            1028          910           943         1028                      -33                              0\n",
      "299    STX        40020.0  188.16      2.27     2.976190      405         405                      0                        29           -1.54           434             454           441            431             487          405           434          487                      -29                              0\n",
      "553   NBIX        14290.0  144.10      2.64     2.553782      870         870                      0                        27           -1.82           877             920           887            887             939          870           897          939                       -7                             20\n",
      "378    PHM        27730.0  140.57      2.15     2.539660      537         537                      0                        24           -3.01           561             624           564            548             624          537           561          624                      -24                              0\n",
      "501    THC        17330.0  196.18      1.90     2.207157      768         768                      0                        24           -2.89           792             823           800            794             859          768           792          859                      -24                              0\n",
      "368   BIDU        28540.0  101.96      3.82     2.667713      520         520                      0                        23           -1.03           543             573           553            553             588          520           543          588                      -23                              0\n",
      "556    NLY        14180.0   22.09      1.33     1.403350      878         878                      0                        21           -0.09           899             940           897            884             940          878           899          940                      -21                              0\n",
      "547    ARE        14650.0   84.70      2.18     2.361275      860         860                      0                        20           -1.16           880             894           869            869             928          860           880          928                      -20                              0\n",
      "580    DOC        13060.0   18.39      2.17     1.848831      920         920                      0                        19           -0.26           935             946           936            936             964          920           939          964                      -15                              4\n",
      "235    DHI        54200.0  181.80      2.89     2.568757      312         312                      0                        18           -1.97           330             378           332            330             378          312           330          378                      -18                              0\n",
      "337    EXR        32640.0  147.28      2.39     1.873982      473         473                      0                        17           -0.31           490             497           486            484             501          473           490          501                      -17                              0\n",
      "259      B        48470.0   28.41      4.33     2.287927      344         344                      0                        16           -3.27           360             425           366            357             425          344           360          425                      -16                              0\n",
      "413    XLY        24140.0  235.11     -0.02     1.263238      607         607                      0                        15           -0.84           622             620           618            609             641          607           622          641                      -15                              0\n",
      "81      MU       147020.0  131.37      5.76     3.394991      101         101                      0                        15           -0.55           116             124           115            104             129          101           116          129                      -15                              0\n",
      "468    GDX        19840.0   66.34      2.74     2.155562      700         700                      0                        14           -3.60           714             815           718            718             815          700           714          815                      -14                              0\n",
      "289   MPWR        41470.0  865.86      2.09     3.283441      392         392                      0                        14           -1.22           406             447           404            394             447          392           406          447                      -14                              0\n",
      "383    KGC        26950.0   22.11      2.89     2.487562      547         547                      0                        13           -3.94           559             683           569            569             683          547           560          683                      -12                              1\n",
      "315    LEN        36570.0  141.88      2.76     2.678320      436         436                      0                        12           -3.28           448             504           449            436             504          436           448          504                      -12                              0\n",
      "298    FER        40110.0   55.75      1.42     1.632287      404         404                      0                        11           -0.87           415             421           410            404             425          404           415          425                      -11                              0\n",
      "\n",
      "tickers_to_plot: ['COOP', 'BXP', 'STX', 'NBIX', 'PHM', 'THC', 'BIDU', 'NLY', 'ARE', 'DOC']\n"
     ]
    }
   ],
   "source": [
    "# sort_order = {'lookback_slope': True,  # negative slope (i.e. small) is better\n",
    "#                    'current_to_total_peak': True,  # sort small to large, small is better, best is 0              \n",
    "#                    'recent_bottom_to_current': False,}  # sort large to small, large means big dip before recovered to current level \n",
    "\n",
    "sort_order = {'current_to_total_peak': True,  # sort small to large, small is better, best is 0  \n",
    "                   'recent_bottom_to_current': False,  # sort large to small, large means big dip before recovered to current level \n",
    "                   'lookback_slope': True,}  # negative slope (i.e. small) is better\n",
    "\n",
    "# keys in the exact order they appear in the dict\n",
    "sort_keys = list(sort_order.keys())\n",
    "sort_values = list(sort_order.values())\n",
    "df_sorted_candidates = df_candidates.sort_values(by=sort_keys, ascending=sort_values)\n",
    "\n",
    "leading_columns = ['ticker', 'MktCap AUM, M', 'Price', 'Change %', 'ATR/Price %', 'current', 'best_total'] \n",
    "fixed_cols = set(leading_columns) | set(sort_keys)\n",
    "remaining_columns = [c for c in df_candidates.columns if c not in fixed_cols]\n",
    "\n",
    "# final order\n",
    "new_order = leading_columns+ sort_keys + remaining_columns\n",
    "df_sorted_candidates = df_sorted_candidates.reindex(columns=new_order)\n",
    "\n",
    "tickers_to_plot = df_sorted_candidates.head(10)['ticker'].tolist()\n",
    "\n",
    "print(\"filter_criteria:\")\n",
    "pprint.pprint(filter_criteria, sort_dicts=False)\n",
    "print(f\"\\nsort order:\")\n",
    "# False to maintain the original insertion order of the dictionary.\n",
    "pprint.pprint(sort_order, sort_dicts=False)  \n",
    "print(f'\\ndf_sorted_candidates.head(20):\\n{df_sorted_candidates.head(20)}')\n",
    "print(f'\\ntickers_to_plot: {tickers_to_plot}')\n"
   ]
  },
  {
   "cell_type": "code",
   "execution_count": 14,
   "metadata": {},
   "outputs": [
    {
     "data": {
      "application/vnd.plotly.v1+json": {
       "config": {
        "plotlyServerURL": "https://plot.ly"
       },
       "data": [
        {
         "hovertemplate": "Ticker=COOP<br>index=%{x}<br>Rank=%{y}<extra></extra>",
         "legendgroup": "COOP",
         "line": {
          "color": "#636EFA",
          "dash": "solid"
         },
         "marker": {
          "symbol": "circle"
         },
         "mode": "lines",
         "name": "COOP",
         "orientation": "v",
         "showlegend": true,
         "type": "scatter",
         "x": [
          "2025-07-17T00:00:00",
          "2025-07-18T00:00:00",
          "2025-07-21T00:00:00",
          "2025-07-22T00:00:00",
          "2025-07-23T00:00:00",
          "2025-07-24T00:00:00",
          "2025-07-25T00:00:00",
          "2025-07-28T00:00:00",
          "2025-07-29T00:00:00",
          "2025-07-30T00:00:00",
          "2025-07-31T00:00:00",
          "2025-08-01T00:00:00",
          "2025-08-04T00:00:00",
          "2025-08-05T00:00:00",
          "2025-08-06T00:00:00",
          "2025-08-07T00:00:00",
          "2025-08-08T00:00:00",
          "2025-08-11T00:00:00",
          "2025-08-12T00:00:00",
          "2025-08-13T00:00:00",
          "2025-08-14T00:00:00",
          "2025-08-15T00:00:00",
          "2025-08-18T00:00:00",
          "2025-08-19T00:00:00",
          "2025-08-21T00:00:00",
          "2025-08-22T00:00:00",
          "2025-08-25T00:00:00",
          "2025-08-26T00:00:00",
          "2025-08-28T00:00:00",
          "2025-08-29T00:00:00",
          "2025-09-02T00:00:00",
          "2025-09-03T00:00:00",
          "2025-09-04T00:00:00",
          "2025-09-05T00:00:00"
         ],
         "xaxis": "x",
         "y": [
          1105,
          1098,
          1055,
          1030,
          1035,
          1085,
          1085,
          1072,
          1069,
          1085,
          1076,
          996,
          982,
          946,
          940,
          959,
          994,
          979,
          949,
          921,
          946,
          948,
          973,
          947,
          977,
          935,
          939,
          954,
          981,
          977,
          998,
          971,
          922,
          902
         ],
         "yaxis": "y"
        },
        {
         "hovertemplate": "Ticker=BXP<br>index=%{x}<br>Rank=%{y}<extra></extra>",
         "legendgroup": "BXP",
         "line": {
          "color": "#EF553B",
          "dash": "solid"
         },
         "marker": {
          "symbol": "circle"
         },
         "mode": "lines",
         "name": "BXP",
         "orientation": "v",
         "showlegend": true,
         "type": "scatter",
         "x": [
          "2025-07-17T00:00:00",
          "2025-07-18T00:00:00",
          "2025-07-21T00:00:00",
          "2025-07-22T00:00:00",
          "2025-07-23T00:00:00",
          "2025-07-24T00:00:00",
          "2025-07-25T00:00:00",
          "2025-07-28T00:00:00",
          "2025-07-29T00:00:00",
          "2025-07-30T00:00:00",
          "2025-07-31T00:00:00",
          "2025-08-01T00:00:00",
          "2025-08-04T00:00:00",
          "2025-08-05T00:00:00",
          "2025-08-06T00:00:00",
          "2025-08-07T00:00:00",
          "2025-08-08T00:00:00",
          "2025-08-11T00:00:00",
          "2025-08-12T00:00:00",
          "2025-08-13T00:00:00",
          "2025-08-14T00:00:00",
          "2025-08-15T00:00:00",
          "2025-08-18T00:00:00",
          "2025-08-19T00:00:00",
          "2025-08-21T00:00:00",
          "2025-08-22T00:00:00",
          "2025-08-25T00:00:00",
          "2025-08-26T00:00:00",
          "2025-08-28T00:00:00",
          "2025-08-29T00:00:00",
          "2025-09-02T00:00:00",
          "2025-09-03T00:00:00",
          "2025-09-04T00:00:00",
          "2025-09-05T00:00:00"
         ],
         "xaxis": "x",
         "y": [
          952,
          956,
          953,
          941,
          944,
          951,
          945,
          956,
          947,
          978,
          986,
          993,
          985,
          983,
          986,
          991,
          1018,
          1028,
          1013,
          1003,
          1005,
          998,
          1000,
          986,
          987,
          968,
          1023,
          968,
          956,
          948,
          943,
          926,
          915,
          910
         ],
         "yaxis": "y"
        },
        {
         "hovertemplate": "Ticker=STX<br>index=%{x}<br>Rank=%{y}<extra></extra>",
         "legendgroup": "STX",
         "line": {
          "color": "#00CC96",
          "dash": "solid"
         },
         "marker": {
          "symbol": "circle"
         },
         "mode": "lines",
         "name": "STX",
         "orientation": "v",
         "showlegend": true,
         "type": "scatter",
         "x": [
          "2025-07-17T00:00:00",
          "2025-07-18T00:00:00",
          "2025-07-21T00:00:00",
          "2025-07-22T00:00:00",
          "2025-07-23T00:00:00",
          "2025-07-24T00:00:00",
          "2025-07-25T00:00:00",
          "2025-07-28T00:00:00",
          "2025-07-29T00:00:00",
          "2025-07-30T00:00:00",
          "2025-07-31T00:00:00",
          "2025-08-01T00:00:00",
          "2025-08-04T00:00:00",
          "2025-08-05T00:00:00",
          "2025-08-06T00:00:00",
          "2025-08-07T00:00:00",
          "2025-08-08T00:00:00",
          "2025-08-11T00:00:00",
          "2025-08-12T00:00:00",
          "2025-08-13T00:00:00",
          "2025-08-14T00:00:00",
          "2025-08-15T00:00:00",
          "2025-08-18T00:00:00",
          "2025-08-19T00:00:00",
          "2025-08-21T00:00:00",
          "2025-08-22T00:00:00",
          "2025-08-25T00:00:00",
          "2025-08-26T00:00:00",
          "2025-08-28T00:00:00",
          "2025-08-29T00:00:00",
          "2025-09-02T00:00:00",
          "2025-09-03T00:00:00",
          "2025-09-04T00:00:00",
          "2025-09-05T00:00:00"
         ],
         "xaxis": "x",
         "y": [
          483,
          475,
          476,
          486,
          469,
          471,
          478,
          480,
          472,
          481,
          454,
          456,
          464,
          473,
          487,
          482,
          471,
          464,
          458,
          461,
          463,
          465,
          452,
          457,
          468,
          459,
          437,
          441,
          431,
          441,
          434,
          426,
          413,
          405
         ],
         "yaxis": "y"
        },
        {
         "hovertemplate": "Ticker=NBIX<br>index=%{x}<br>Rank=%{y}<extra></extra>",
         "legendgroup": "NBIX",
         "line": {
          "color": "#AB63FA",
          "dash": "solid"
         },
         "marker": {
          "symbol": "circle"
         },
         "mode": "lines",
         "name": "NBIX",
         "orientation": "v",
         "showlegend": true,
         "type": "scatter",
         "x": [
          "2025-07-17T00:00:00",
          "2025-07-18T00:00:00",
          "2025-07-21T00:00:00",
          "2025-07-22T00:00:00",
          "2025-07-23T00:00:00",
          "2025-07-24T00:00:00",
          "2025-07-25T00:00:00",
          "2025-07-28T00:00:00",
          "2025-07-29T00:00:00",
          "2025-07-30T00:00:00",
          "2025-07-31T00:00:00",
          "2025-08-01T00:00:00",
          "2025-08-04T00:00:00",
          "2025-08-05T00:00:00",
          "2025-08-06T00:00:00",
          "2025-08-07T00:00:00",
          "2025-08-08T00:00:00",
          "2025-08-11T00:00:00",
          "2025-08-12T00:00:00",
          "2025-08-13T00:00:00",
          "2025-08-14T00:00:00",
          "2025-08-15T00:00:00",
          "2025-08-18T00:00:00",
          "2025-08-19T00:00:00",
          "2025-08-21T00:00:00",
          "2025-08-22T00:00:00",
          "2025-08-25T00:00:00",
          "2025-08-26T00:00:00",
          "2025-08-28T00:00:00",
          "2025-08-29T00:00:00",
          "2025-09-02T00:00:00",
          "2025-09-03T00:00:00",
          "2025-09-04T00:00:00",
          "2025-09-05T00:00:00"
         ],
         "xaxis": "x",
         "y": [
          899,
          907,
          903,
          903,
          907,
          917,
          912,
          905,
          903,
          887,
          920,
          908,
          916,
          920,
          918,
          934,
          936,
          939,
          921,
          916,
          912,
          903,
          904,
          907,
          896,
          904,
          895,
          897,
          893,
          887,
          877,
          897,
          887,
          870
         ],
         "yaxis": "y"
        },
        {
         "hovertemplate": "Ticker=PHM<br>index=%{x}<br>Rank=%{y}<extra></extra>",
         "legendgroup": "PHM",
         "line": {
          "color": "#FFA15A",
          "dash": "solid"
         },
         "marker": {
          "symbol": "circle"
         },
         "mode": "lines",
         "name": "PHM",
         "orientation": "v",
         "showlegend": true,
         "type": "scatter",
         "x": [
          "2025-07-17T00:00:00",
          "2025-07-18T00:00:00",
          "2025-07-21T00:00:00",
          "2025-07-22T00:00:00",
          "2025-07-23T00:00:00",
          "2025-07-24T00:00:00",
          "2025-07-25T00:00:00",
          "2025-07-28T00:00:00",
          "2025-07-29T00:00:00",
          "2025-07-30T00:00:00",
          "2025-07-31T00:00:00",
          "2025-08-01T00:00:00",
          "2025-08-04T00:00:00",
          "2025-08-05T00:00:00",
          "2025-08-06T00:00:00",
          "2025-08-07T00:00:00",
          "2025-08-08T00:00:00",
          "2025-08-11T00:00:00",
          "2025-08-12T00:00:00",
          "2025-08-13T00:00:00",
          "2025-08-14T00:00:00",
          "2025-08-15T00:00:00",
          "2025-08-18T00:00:00",
          "2025-08-19T00:00:00",
          "2025-08-21T00:00:00",
          "2025-08-22T00:00:00",
          "2025-08-25T00:00:00",
          "2025-08-26T00:00:00",
          "2025-08-28T00:00:00",
          "2025-08-29T00:00:00",
          "2025-09-02T00:00:00",
          "2025-09-03T00:00:00",
          "2025-09-04T00:00:00",
          "2025-09-05T00:00:00"
         ],
         "xaxis": "x",
         "y": [
          632,
          634,
          633,
          583,
          596,
          622,
          620,
          614,
          613,
          626,
          624,
          601,
          598,
          592,
          595,
          596,
          590,
          592,
          589,
          567,
          565,
          560,
          560,
          557,
          581,
          555,
          548,
          556,
          565,
          564,
          561,
          553,
          543,
          537
         ],
         "yaxis": "y"
        },
        {
         "hovertemplate": "Ticker=THC<br>index=%{x}<br>Rank=%{y}<extra></extra>",
         "legendgroup": "THC",
         "line": {
          "color": "#19D3F3",
          "dash": "solid"
         },
         "marker": {
          "symbol": "circle"
         },
         "mode": "lines",
         "name": "THC",
         "orientation": "v",
         "showlegend": true,
         "type": "scatter",
         "x": [
          "2025-07-17T00:00:00",
          "2025-07-18T00:00:00",
          "2025-07-21T00:00:00",
          "2025-07-22T00:00:00",
          "2025-07-23T00:00:00",
          "2025-07-24T00:00:00",
          "2025-07-25T00:00:00",
          "2025-07-28T00:00:00",
          "2025-07-29T00:00:00",
          "2025-07-30T00:00:00",
          "2025-07-31T00:00:00",
          "2025-08-01T00:00:00",
          "2025-08-04T00:00:00",
          "2025-08-05T00:00:00",
          "2025-08-06T00:00:00",
          "2025-08-07T00:00:00",
          "2025-08-08T00:00:00",
          "2025-08-11T00:00:00",
          "2025-08-12T00:00:00",
          "2025-08-13T00:00:00",
          "2025-08-14T00:00:00",
          "2025-08-15T00:00:00",
          "2025-08-18T00:00:00",
          "2025-08-19T00:00:00",
          "2025-08-21T00:00:00",
          "2025-08-22T00:00:00",
          "2025-08-25T00:00:00",
          "2025-08-26T00:00:00",
          "2025-08-28T00:00:00",
          "2025-08-29T00:00:00",
          "2025-09-02T00:00:00",
          "2025-09-03T00:00:00",
          "2025-09-04T00:00:00",
          "2025-09-05T00:00:00"
         ],
         "xaxis": "x",
         "y": [
          779,
          780,
          778,
          843,
          838,
          883,
          864,
          843,
          842,
          827,
          823,
          855,
          849,
          855,
          859,
          846,
          831,
          827,
          822,
          829,
          822,
          819,
          821,
          804,
          808,
          814,
          794,
          807,
          801,
          800,
          792,
          782,
          770,
          768
         ],
         "yaxis": "y"
        },
        {
         "hovertemplate": "Ticker=BIDU<br>index=%{x}<br>Rank=%{y}<extra></extra>",
         "legendgroup": "BIDU",
         "line": {
          "color": "#FF6692",
          "dash": "solid"
         },
         "marker": {
          "symbol": "circle"
         },
         "mode": "lines",
         "name": "BIDU",
         "orientation": "v",
         "showlegend": true,
         "type": "scatter",
         "x": [
          "2025-07-17T00:00:00",
          "2025-07-18T00:00:00",
          "2025-07-21T00:00:00",
          "2025-07-22T00:00:00",
          "2025-07-23T00:00:00",
          "2025-07-24T00:00:00",
          "2025-07-25T00:00:00",
          "2025-07-28T00:00:00",
          "2025-07-29T00:00:00",
          "2025-07-30T00:00:00",
          "2025-07-31T00:00:00",
          "2025-08-01T00:00:00",
          "2025-08-04T00:00:00",
          "2025-08-05T00:00:00",
          "2025-08-06T00:00:00",
          "2025-08-07T00:00:00",
          "2025-08-08T00:00:00",
          "2025-08-11T00:00:00",
          "2025-08-12T00:00:00",
          "2025-08-13T00:00:00",
          "2025-08-14T00:00:00",
          "2025-08-15T00:00:00",
          "2025-08-18T00:00:00",
          "2025-08-19T00:00:00",
          "2025-08-21T00:00:00",
          "2025-08-22T00:00:00",
          "2025-08-25T00:00:00",
          "2025-08-26T00:00:00",
          "2025-08-28T00:00:00",
          "2025-08-29T00:00:00",
          "2025-09-02T00:00:00",
          "2025-09-03T00:00:00",
          "2025-09-04T00:00:00",
          "2025-09-05T00:00:00"
         ],
         "xaxis": "x",
         "y": [
          576,
          576,
          570,
          556,
          555,
          563,
          565,
          567,
          581,
          584,
          573,
          574,
          578,
          588,
          580,
          579,
          578,
          581,
          578,
          568,
          579,
          565,
          562,
          573,
          584,
          576,
          553,
          555,
          572,
          553,
          543,
          543,
          537,
          520
         ],
         "yaxis": "y"
        },
        {
         "hovertemplate": "Ticker=NLY<br>index=%{x}<br>Rank=%{y}<extra></extra>",
         "legendgroup": "NLY",
         "line": {
          "color": "#1F77B4",
          "dash": "solid"
         },
         "marker": {
          "symbol": "circle"
         },
         "mode": "lines",
         "name": "NLY",
         "orientation": "v",
         "showlegend": true,
         "type": "scatter",
         "x": [
          "2025-07-17T00:00:00",
          "2025-07-18T00:00:00",
          "2025-07-21T00:00:00",
          "2025-07-22T00:00:00",
          "2025-07-23T00:00:00",
          "2025-07-24T00:00:00",
          "2025-07-25T00:00:00",
          "2025-07-28T00:00:00",
          "2025-07-29T00:00:00",
          "2025-07-30T00:00:00",
          "2025-07-31T00:00:00",
          "2025-08-01T00:00:00",
          "2025-08-04T00:00:00",
          "2025-08-05T00:00:00",
          "2025-08-06T00:00:00",
          "2025-08-07T00:00:00",
          "2025-08-08T00:00:00",
          "2025-08-11T00:00:00",
          "2025-08-12T00:00:00",
          "2025-08-13T00:00:00",
          "2025-08-14T00:00:00",
          "2025-08-15T00:00:00",
          "2025-08-18T00:00:00",
          "2025-08-19T00:00:00",
          "2025-08-21T00:00:00",
          "2025-08-22T00:00:00",
          "2025-08-25T00:00:00",
          "2025-08-26T00:00:00",
          "2025-08-28T00:00:00",
          "2025-08-29T00:00:00",
          "2025-09-02T00:00:00",
          "2025-09-03T00:00:00",
          "2025-09-04T00:00:00",
          "2025-09-05T00:00:00"
         ],
         "xaxis": "x",
         "y": [
          956,
          953,
          948,
          945,
          950,
          942,
          935,
          939,
          934,
          932,
          940,
          887,
          884,
          889,
          892,
          896,
          895,
          898,
          905,
          902,
          900,
          898,
          902,
          900,
          905,
          899,
          888,
          899,
          904,
          897,
          899,
          885,
          881,
          878
         ],
         "yaxis": "y"
        },
        {
         "hovertemplate": "Ticker=ARE<br>index=%{x}<br>Rank=%{y}<extra></extra>",
         "legendgroup": "ARE",
         "line": {
          "color": "#FF97FF",
          "dash": "solid"
         },
         "marker": {
          "symbol": "circle"
         },
         "mode": "lines",
         "name": "ARE",
         "orientation": "v",
         "showlegend": true,
         "type": "scatter",
         "x": [
          "2025-07-17T00:00:00",
          "2025-07-18T00:00:00",
          "2025-07-21T00:00:00",
          "2025-07-22T00:00:00",
          "2025-07-23T00:00:00",
          "2025-07-24T00:00:00",
          "2025-07-25T00:00:00",
          "2025-07-28T00:00:00",
          "2025-07-29T00:00:00",
          "2025-07-30T00:00:00",
          "2025-07-31T00:00:00",
          "2025-08-01T00:00:00",
          "2025-08-04T00:00:00",
          "2025-08-05T00:00:00",
          "2025-08-06T00:00:00",
          "2025-08-07T00:00:00",
          "2025-08-08T00:00:00",
          "2025-08-11T00:00:00",
          "2025-08-12T00:00:00",
          "2025-08-13T00:00:00",
          "2025-08-14T00:00:00",
          "2025-08-15T00:00:00",
          "2025-08-18T00:00:00",
          "2025-08-19T00:00:00",
          "2025-08-21T00:00:00",
          "2025-08-22T00:00:00",
          "2025-08-25T00:00:00",
          "2025-08-26T00:00:00",
          "2025-08-28T00:00:00",
          "2025-08-29T00:00:00",
          "2025-09-02T00:00:00",
          "2025-09-03T00:00:00",
          "2025-09-04T00:00:00",
          "2025-09-05T00:00:00"
         ],
         "xaxis": "x",
         "y": [
          882,
          887,
          881,
          864,
          857,
          862,
          863,
          884,
          879,
          889,
          894,
          888,
          888,
          883,
          914,
          908,
          912,
          928,
          923,
          923,
          923,
          904,
          900,
          894,
          898,
          881,
          873,
          887,
          879,
          869,
          880,
          871,
          867,
          860
         ],
         "yaxis": "y"
        },
        {
         "hovertemplate": "Ticker=DOC<br>index=%{x}<br>Rank=%{y}<extra></extra>",
         "legendgroup": "DOC",
         "line": {
          "color": "#FECB52",
          "dash": "solid"
         },
         "marker": {
          "symbol": "circle"
         },
         "mode": "lines",
         "name": "DOC",
         "orientation": "v",
         "showlegend": true,
         "type": "scatter",
         "x": [
          "2025-07-17T00:00:00",
          "2025-07-18T00:00:00",
          "2025-07-21T00:00:00",
          "2025-07-22T00:00:00",
          "2025-07-23T00:00:00",
          "2025-07-24T00:00:00",
          "2025-07-25T00:00:00",
          "2025-07-28T00:00:00",
          "2025-07-29T00:00:00",
          "2025-07-30T00:00:00",
          "2025-07-31T00:00:00",
          "2025-08-01T00:00:00",
          "2025-08-04T00:00:00",
          "2025-08-05T00:00:00",
          "2025-08-06T00:00:00",
          "2025-08-07T00:00:00",
          "2025-08-08T00:00:00",
          "2025-08-11T00:00:00",
          "2025-08-12T00:00:00",
          "2025-08-13T00:00:00",
          "2025-08-14T00:00:00",
          "2025-08-15T00:00:00",
          "2025-08-18T00:00:00",
          "2025-08-19T00:00:00",
          "2025-08-21T00:00:00",
          "2025-08-22T00:00:00",
          "2025-08-25T00:00:00",
          "2025-08-26T00:00:00",
          "2025-08-28T00:00:00",
          "2025-08-29T00:00:00",
          "2025-09-02T00:00:00",
          "2025-09-03T00:00:00",
          "2025-09-04T00:00:00",
          "2025-09-05T00:00:00"
         ],
         "xaxis": "x",
         "y": [
          907,
          909,
          902,
          893,
          898,
          902,
          944,
          947,
          943,
          943,
          946,
          942,
          949,
          944,
          953,
          952,
          955,
          955,
          955,
          957,
          964,
          946,
          950,
          949,
          947,
          945,
          947,
          948,
          944,
          936,
          935,
          939,
          935,
          920
         ],
         "yaxis": "y"
        }
       ],
       "layout": {
        "annotations": [
         {
          "showarrow": false,
          "text": "Recent",
          "x": "2025-09-02T00:00:00",
          "xanchor": "left",
          "xref": "x",
          "y": 1,
          "yanchor": "top",
          "yref": "y domain"
         },
         {
          "showarrow": false,
          "text": "Lookback",
          "x": "2025-07-31T00:00:00",
          "xanchor": "left",
          "xref": "x",
          "y": 1,
          "yanchor": "top",
          "yref": "y domain"
         },
         {
          "align": "left",
          "font": {
           "family": "Courier New, monospace",
           "size": 14
          },
          "showarrow": false,
          "text": "<b>Filter Criteria:</b><br>  • lookback_days: 20                   • recent_days: 4                      • min_lookback_improvement: 0       <br>  • min_recent_bottom_to_recent_start: 0  • min_recent_bottom_to_current: 2     • current_rank_bracket_start: 1     <br>  • current_rank_bracket_end: 1000    ",
          "x": 0,
          "xanchor": "left",
          "xref": "paper",
          "y": -0.25,
          "yanchor": "top",
          "yref": "paper"
         }
        ],
        "height": 700,
        "legend": {
         "title": {
          "text": "Ticker"
         },
         "tracegroupgap": 0
        },
        "margin": {
         "b": 198.8
        },
        "shapes": [
         {
          "fillcolor": "LightSkyBlue",
          "layer": "below",
          "line": {
           "width": 0
          },
          "opacity": 0.2,
          "type": "rect",
          "x0": "2025-09-02T00:00:00",
          "x1": "2025-09-05T00:00:00",
          "xref": "x",
          "y0": 0,
          "y1": 1,
          "yref": "y domain"
         },
         {
          "fillcolor": "LightGreen",
          "layer": "below",
          "line": {
           "width": 0
          },
          "opacity": 0.2,
          "type": "rect",
          "x0": "2025-07-31T00:00:00",
          "x1": "2025-08-29T00:00:00",
          "xref": "x",
          "y0": 0,
          "y1": 1,
          "yref": "y domain"
         },
         {
          "line": {
           "color": "grey",
           "dash": "dash",
           "width": 2
          },
          "type": "line",
          "x0": "2025-09-02T00:00:00",
          "x1": "2025-09-02T00:00:00",
          "xref": "x",
          "y0": 0,
          "y1": 1,
          "yref": "y domain"
         },
         {
          "line": {
           "color": "red",
           "width": 2
          },
          "type": "line",
          "x0": 0,
          "x1": 1,
          "xref": "paper",
          "y0": 1,
          "y1": 1,
          "yref": "paper"
         },
         {
          "line": {
           "color": "blue",
           "width": 2
          },
          "type": "line",
          "x0": 0,
          "x1": 1,
          "xref": "paper",
          "y0": 0,
          "y1": 0,
          "yref": "paper"
         }
        ],
        "template": {
         "data": {
          "bar": [
           {
            "error_x": {
             "color": "#2a3f5f"
            },
            "error_y": {
             "color": "#2a3f5f"
            },
            "marker": {
             "line": {
              "color": "#E5ECF6",
              "width": 0.5
             },
             "pattern": {
              "fillmode": "overlay",
              "size": 10,
              "solidity": 0.2
             }
            },
            "type": "bar"
           }
          ],
          "barpolar": [
           {
            "marker": {
             "line": {
              "color": "#E5ECF6",
              "width": 0.5
             },
             "pattern": {
              "fillmode": "overlay",
              "size": 10,
              "solidity": 0.2
             }
            },
            "type": "barpolar"
           }
          ],
          "carpet": [
           {
            "aaxis": {
             "endlinecolor": "#2a3f5f",
             "gridcolor": "white",
             "linecolor": "white",
             "minorgridcolor": "white",
             "startlinecolor": "#2a3f5f"
            },
            "baxis": {
             "endlinecolor": "#2a3f5f",
             "gridcolor": "white",
             "linecolor": "white",
             "minorgridcolor": "white",
             "startlinecolor": "#2a3f5f"
            },
            "type": "carpet"
           }
          ],
          "choropleth": [
           {
            "colorbar": {
             "outlinewidth": 0,
             "ticks": ""
            },
            "type": "choropleth"
           }
          ],
          "contour": [
           {
            "colorbar": {
             "outlinewidth": 0,
             "ticks": ""
            },
            "colorscale": [
             [
              0,
              "#0d0887"
             ],
             [
              0.1111111111111111,
              "#46039f"
             ],
             [
              0.2222222222222222,
              "#7201a8"
             ],
             [
              0.3333333333333333,
              "#9c179e"
             ],
             [
              0.4444444444444444,
              "#bd3786"
             ],
             [
              0.5555555555555556,
              "#d8576b"
             ],
             [
              0.6666666666666666,
              "#ed7953"
             ],
             [
              0.7777777777777778,
              "#fb9f3a"
             ],
             [
              0.8888888888888888,
              "#fdca26"
             ],
             [
              1,
              "#f0f921"
             ]
            ],
            "type": "contour"
           }
          ],
          "contourcarpet": [
           {
            "colorbar": {
             "outlinewidth": 0,
             "ticks": ""
            },
            "type": "contourcarpet"
           }
          ],
          "heatmap": [
           {
            "colorbar": {
             "outlinewidth": 0,
             "ticks": ""
            },
            "colorscale": [
             [
              0,
              "#0d0887"
             ],
             [
              0.1111111111111111,
              "#46039f"
             ],
             [
              0.2222222222222222,
              "#7201a8"
             ],
             [
              0.3333333333333333,
              "#9c179e"
             ],
             [
              0.4444444444444444,
              "#bd3786"
             ],
             [
              0.5555555555555556,
              "#d8576b"
             ],
             [
              0.6666666666666666,
              "#ed7953"
             ],
             [
              0.7777777777777778,
              "#fb9f3a"
             ],
             [
              0.8888888888888888,
              "#fdca26"
             ],
             [
              1,
              "#f0f921"
             ]
            ],
            "type": "heatmap"
           }
          ],
          "heatmapgl": [
           {
            "colorbar": {
             "outlinewidth": 0,
             "ticks": ""
            },
            "colorscale": [
             [
              0,
              "#0d0887"
             ],
             [
              0.1111111111111111,
              "#46039f"
             ],
             [
              0.2222222222222222,
              "#7201a8"
             ],
             [
              0.3333333333333333,
              "#9c179e"
             ],
             [
              0.4444444444444444,
              "#bd3786"
             ],
             [
              0.5555555555555556,
              "#d8576b"
             ],
             [
              0.6666666666666666,
              "#ed7953"
             ],
             [
              0.7777777777777778,
              "#fb9f3a"
             ],
             [
              0.8888888888888888,
              "#fdca26"
             ],
             [
              1,
              "#f0f921"
             ]
            ],
            "type": "heatmapgl"
           }
          ],
          "histogram": [
           {
            "marker": {
             "pattern": {
              "fillmode": "overlay",
              "size": 10,
              "solidity": 0.2
             }
            },
            "type": "histogram"
           }
          ],
          "histogram2d": [
           {
            "colorbar": {
             "outlinewidth": 0,
             "ticks": ""
            },
            "colorscale": [
             [
              0,
              "#0d0887"
             ],
             [
              0.1111111111111111,
              "#46039f"
             ],
             [
              0.2222222222222222,
              "#7201a8"
             ],
             [
              0.3333333333333333,
              "#9c179e"
             ],
             [
              0.4444444444444444,
              "#bd3786"
             ],
             [
              0.5555555555555556,
              "#d8576b"
             ],
             [
              0.6666666666666666,
              "#ed7953"
             ],
             [
              0.7777777777777778,
              "#fb9f3a"
             ],
             [
              0.8888888888888888,
              "#fdca26"
             ],
             [
              1,
              "#f0f921"
             ]
            ],
            "type": "histogram2d"
           }
          ],
          "histogram2dcontour": [
           {
            "colorbar": {
             "outlinewidth": 0,
             "ticks": ""
            },
            "colorscale": [
             [
              0,
              "#0d0887"
             ],
             [
              0.1111111111111111,
              "#46039f"
             ],
             [
              0.2222222222222222,
              "#7201a8"
             ],
             [
              0.3333333333333333,
              "#9c179e"
             ],
             [
              0.4444444444444444,
              "#bd3786"
             ],
             [
              0.5555555555555556,
              "#d8576b"
             ],
             [
              0.6666666666666666,
              "#ed7953"
             ],
             [
              0.7777777777777778,
              "#fb9f3a"
             ],
             [
              0.8888888888888888,
              "#fdca26"
             ],
             [
              1,
              "#f0f921"
             ]
            ],
            "type": "histogram2dcontour"
           }
          ],
          "mesh3d": [
           {
            "colorbar": {
             "outlinewidth": 0,
             "ticks": ""
            },
            "type": "mesh3d"
           }
          ],
          "parcoords": [
           {
            "line": {
             "colorbar": {
              "outlinewidth": 0,
              "ticks": ""
             }
            },
            "type": "parcoords"
           }
          ],
          "pie": [
           {
            "automargin": true,
            "type": "pie"
           }
          ],
          "scatter": [
           {
            "fillpattern": {
             "fillmode": "overlay",
             "size": 10,
             "solidity": 0.2
            },
            "type": "scatter"
           }
          ],
          "scatter3d": [
           {
            "line": {
             "colorbar": {
              "outlinewidth": 0,
              "ticks": ""
             }
            },
            "marker": {
             "colorbar": {
              "outlinewidth": 0,
              "ticks": ""
             }
            },
            "type": "scatter3d"
           }
          ],
          "scattercarpet": [
           {
            "marker": {
             "colorbar": {
              "outlinewidth": 0,
              "ticks": ""
             }
            },
            "type": "scattercarpet"
           }
          ],
          "scattergeo": [
           {
            "marker": {
             "colorbar": {
              "outlinewidth": 0,
              "ticks": ""
             }
            },
            "type": "scattergeo"
           }
          ],
          "scattergl": [
           {
            "marker": {
             "colorbar": {
              "outlinewidth": 0,
              "ticks": ""
             }
            },
            "type": "scattergl"
           }
          ],
          "scattermapbox": [
           {
            "marker": {
             "colorbar": {
              "outlinewidth": 0,
              "ticks": ""
             }
            },
            "type": "scattermapbox"
           }
          ],
          "scatterpolar": [
           {
            "marker": {
             "colorbar": {
              "outlinewidth": 0,
              "ticks": ""
             }
            },
            "type": "scatterpolar"
           }
          ],
          "scatterpolargl": [
           {
            "marker": {
             "colorbar": {
              "outlinewidth": 0,
              "ticks": ""
             }
            },
            "type": "scatterpolargl"
           }
          ],
          "scatterternary": [
           {
            "marker": {
             "colorbar": {
              "outlinewidth": 0,
              "ticks": ""
             }
            },
            "type": "scatterternary"
           }
          ],
          "surface": [
           {
            "colorbar": {
             "outlinewidth": 0,
             "ticks": ""
            },
            "colorscale": [
             [
              0,
              "#0d0887"
             ],
             [
              0.1111111111111111,
              "#46039f"
             ],
             [
              0.2222222222222222,
              "#7201a8"
             ],
             [
              0.3333333333333333,
              "#9c179e"
             ],
             [
              0.4444444444444444,
              "#bd3786"
             ],
             [
              0.5555555555555556,
              "#d8576b"
             ],
             [
              0.6666666666666666,
              "#ed7953"
             ],
             [
              0.7777777777777778,
              "#fb9f3a"
             ],
             [
              0.8888888888888888,
              "#fdca26"
             ],
             [
              1,
              "#f0f921"
             ]
            ],
            "type": "surface"
           }
          ],
          "table": [
           {
            "cells": {
             "fill": {
              "color": "#EBF0F8"
             },
             "line": {
              "color": "white"
             }
            },
            "header": {
             "fill": {
              "color": "#C8D4E3"
             },
             "line": {
              "color": "white"
             }
            },
            "type": "table"
           }
          ]
         },
         "layout": {
          "annotationdefaults": {
           "arrowcolor": "#2a3f5f",
           "arrowhead": 0,
           "arrowwidth": 1
          },
          "autotypenumbers": "strict",
          "coloraxis": {
           "colorbar": {
            "outlinewidth": 0,
            "ticks": ""
           }
          },
          "colorscale": {
           "diverging": [
            [
             0,
             "#8e0152"
            ],
            [
             0.1,
             "#c51b7d"
            ],
            [
             0.2,
             "#de77ae"
            ],
            [
             0.3,
             "#f1b6da"
            ],
            [
             0.4,
             "#fde0ef"
            ],
            [
             0.5,
             "#f7f7f7"
            ],
            [
             0.6,
             "#e6f5d0"
            ],
            [
             0.7,
             "#b8e186"
            ],
            [
             0.8,
             "#7fbc41"
            ],
            [
             0.9,
             "#4d9221"
            ],
            [
             1,
             "#276419"
            ]
           ],
           "sequential": [
            [
             0,
             "#0d0887"
            ],
            [
             0.1111111111111111,
             "#46039f"
            ],
            [
             0.2222222222222222,
             "#7201a8"
            ],
            [
             0.3333333333333333,
             "#9c179e"
            ],
            [
             0.4444444444444444,
             "#bd3786"
            ],
            [
             0.5555555555555556,
             "#d8576b"
            ],
            [
             0.6666666666666666,
             "#ed7953"
            ],
            [
             0.7777777777777778,
             "#fb9f3a"
            ],
            [
             0.8888888888888888,
             "#fdca26"
            ],
            [
             1,
             "#f0f921"
            ]
           ],
           "sequentialminus": [
            [
             0,
             "#0d0887"
            ],
            [
             0.1111111111111111,
             "#46039f"
            ],
            [
             0.2222222222222222,
             "#7201a8"
            ],
            [
             0.3333333333333333,
             "#9c179e"
            ],
            [
             0.4444444444444444,
             "#bd3786"
            ],
            [
             0.5555555555555556,
             "#d8576b"
            ],
            [
             0.6666666666666666,
             "#ed7953"
            ],
            [
             0.7777777777777778,
             "#fb9f3a"
            ],
            [
             0.8888888888888888,
             "#fdca26"
            ],
            [
             1,
             "#f0f921"
            ]
           ]
          },
          "colorway": [
           "#636efa",
           "#EF553B",
           "#00cc96",
           "#ab63fa",
           "#FFA15A",
           "#19d3f3",
           "#FF6692",
           "#B6E880",
           "#FF97FF",
           "#FECB52"
          ],
          "font": {
           "color": "#2a3f5f"
          },
          "geo": {
           "bgcolor": "white",
           "lakecolor": "white",
           "landcolor": "#E5ECF6",
           "showlakes": true,
           "showland": true,
           "subunitcolor": "white"
          },
          "hoverlabel": {
           "align": "left"
          },
          "hovermode": "closest",
          "mapbox": {
           "style": "light"
          },
          "paper_bgcolor": "white",
          "plot_bgcolor": "#E5ECF6",
          "polar": {
           "angularaxis": {
            "gridcolor": "white",
            "linecolor": "white",
            "ticks": ""
           },
           "bgcolor": "#E5ECF6",
           "radialaxis": {
            "gridcolor": "white",
            "linecolor": "white",
            "ticks": ""
           }
          },
          "scene": {
           "xaxis": {
            "backgroundcolor": "#E5ECF6",
            "gridcolor": "white",
            "gridwidth": 2,
            "linecolor": "white",
            "showbackground": true,
            "ticks": "",
            "zerolinecolor": "white"
           },
           "yaxis": {
            "backgroundcolor": "#E5ECF6",
            "gridcolor": "white",
            "gridwidth": 2,
            "linecolor": "white",
            "showbackground": true,
            "ticks": "",
            "zerolinecolor": "white"
           },
           "zaxis": {
            "backgroundcolor": "#E5ECF6",
            "gridcolor": "white",
            "gridwidth": 2,
            "linecolor": "white",
            "showbackground": true,
            "ticks": "",
            "zerolinecolor": "white"
           }
          },
          "shapedefaults": {
           "line": {
            "color": "#2a3f5f"
           }
          },
          "ternary": {
           "aaxis": {
            "gridcolor": "white",
            "linecolor": "white",
            "ticks": ""
           },
           "baxis": {
            "gridcolor": "white",
            "linecolor": "white",
            "ticks": ""
           },
           "bgcolor": "#E5ECF6",
           "caxis": {
            "gridcolor": "white",
            "linecolor": "white",
            "ticks": ""
           }
          },
          "title": {
           "x": 0.05
          },
          "xaxis": {
           "automargin": true,
           "gridcolor": "white",
           "linecolor": "white",
           "ticks": "",
           "title": {
            "standoff": 15
           },
           "zerolinecolor": "white",
           "zerolinewidth": 2
          },
          "yaxis": {
           "automargin": true,
           "gridcolor": "white",
           "linecolor": "white",
           "ticks": "",
           "title": {
            "standoff": 15
           },
           "zerolinecolor": "white",
           "zerolinewidth": 2
          }
         }
        },
        "title": {
         "text": "Rank History: 'Reversal' Candidates"
        },
        "updatemenus": [
         {
          "buttons": [
           {
            "args": [
             {
              "visible": [
               true,
               true,
               true,
               true,
               true,
               true,
               true,
               true,
               true,
               true
              ]
             }
            ],
            "label": "Reset View",
            "method": "restyle"
           },
           {
            "args": [
             {
              "visible": [
               "legendonly",
               "legendonly",
               "legendonly",
               "legendonly",
               "legendonly",
               "legendonly",
               "legendonly",
               "legendonly",
               "legendonly",
               "legendonly"
              ]
             }
            ],
            "label": "Clear All",
            "method": "restyle"
           }
          ],
          "direction": "left",
          "showactive": false,
          "type": "buttons",
          "x": 0.01,
          "xanchor": "left",
          "y": 1.1,
          "yanchor": "top"
         }
        ],
        "width": 1150,
        "xaxis": {
         "anchor": "y",
         "domain": [
          0,
          1
         ],
         "dtick": "D7",
         "gridcolor": "LightGrey",
         "minor": {
          "dtick": "D1",
          "gridcolor": "rgba(235, 235, 235, 0.5)",
          "showgrid": true
         },
         "range": [
          "2025-07-17T00:00:00",
          "2025-09-05T00:00:00"
         ],
         "showgrid": true,
         "tickformat": "%b %d",
         "title": {
          "standoff": 25,
          "text": "Date"
         },
         "type": "date"
        },
        "yaxis": {
         "anchor": "x",
         "autorange": "reversed",
         "domain": [
          0,
          1
         ],
         "dtick": 100,
         "gridcolor": "LightGrey",
         "showgrid": true,
         "title": {
          "text": "Rank"
         }
        }
       }
      }
     },
     "metadata": {},
     "output_type": "display_data"
    }
   ],
   "source": [
    "plot_days = filter_criteria['lookback_days'] + filter_criteria['recent_days'] + 10  # add 10 extra days for plotting \n",
    "\n",
    "# 4. Call the new plotting function\n",
    "if tickers_to_plot:\n",
    "    plot_rank_with_criteria(\n",
    "        # df_rank_history=selected_df.iloc[:, -plot_days::],\n",
    "        df_rank_history=df_tickers_rank_history.iloc[:, -plot_days::],        \n",
    "        # df_rank_history=selected_df,\n",
    "        ticker_list=tickers_to_plot,\n",
    "        title_suffix=\"'Reversal' Candidates\",\n",
    "        filter_criteria=filter_criteria, # Pass the dictionary here\n",
    "        width=1150,\n",
    "        height=700,\n",
    "    )\n",
    "else:\n",
    "    print(\"No candidates found to plot.\")"
   ]
  },
  {
   "cell_type": "code",
   "execution_count": 15,
   "metadata": {},
   "outputs": [],
   "source": [
    "# List of tickers\n",
    "portfolio_tickers = [\"JOBY\",\n",
    "                     \"SYM\",\n",
    "                     \"RKLB\",\n",
    "                     \"MSTR\",\n",
    "                     \"ORCL\",\n",
    "                     \"SHOP\",\n",
    "                     \"COIN\",\n",
    "                     \"VGT\",\n",
    "                     \"AVAV\",\n",
    "                     \"META\",\n",
    "                     \"NVDA\",]"
   ]
  },
  {
   "cell_type": "code",
   "execution_count": 16,
   "metadata": {},
   "outputs": [
    {
     "data": {
      "application/vnd.plotly.v1+json": {
       "config": {
        "plotlyServerURL": "https://plot.ly"
       },
       "data": [
        {
         "hovertemplate": "Ticker=JOBY<br>index=%{x}<br>Rank=%{y}<extra></extra>",
         "legendgroup": "JOBY",
         "line": {
          "color": "#636EFA",
          "dash": "solid"
         },
         "marker": {
          "symbol": "circle"
         },
         "mode": "lines",
         "name": "JOBY",
         "orientation": "v",
         "showlegend": true,
         "type": "scatter",
         "x": [
          "2025-07-17T00:00:00",
          "2025-07-18T00:00:00",
          "2025-07-21T00:00:00",
          "2025-07-22T00:00:00",
          "2025-07-23T00:00:00",
          "2025-07-24T00:00:00",
          "2025-07-25T00:00:00",
          "2025-07-28T00:00:00",
          "2025-07-29T00:00:00",
          "2025-07-30T00:00:00",
          "2025-07-31T00:00:00",
          "2025-08-01T00:00:00",
          "2025-08-04T00:00:00",
          "2025-08-05T00:00:00",
          "2025-08-06T00:00:00",
          "2025-08-07T00:00:00",
          "2025-08-08T00:00:00",
          "2025-08-11T00:00:00",
          "2025-08-12T00:00:00",
          "2025-08-13T00:00:00",
          "2025-08-14T00:00:00",
          "2025-08-15T00:00:00",
          "2025-08-18T00:00:00",
          "2025-08-19T00:00:00",
          "2025-08-21T00:00:00",
          "2025-08-22T00:00:00",
          "2025-08-25T00:00:00",
          "2025-08-26T00:00:00",
          "2025-08-28T00:00:00",
          "2025-08-29T00:00:00",
          "2025-09-02T00:00:00",
          "2025-09-03T00:00:00",
          "2025-09-04T00:00:00",
          "2025-09-05T00:00:00"
         ],
         "xaxis": "x",
         "y": [
          862,
          860,
          895,
          906,
          873,
          877,
          854,
          889,
          900,
          null,
          null,
          null,
          null,
          null,
          null,
          null,
          null,
          830,
          814,
          828,
          null,
          867,
          884,
          926,
          943,
          931,
          949,
          940,
          970,
          974,
          1008,
          1020,
          1020,
          1010
         ],
         "yaxis": "y"
        },
        {
         "hovertemplate": "Ticker=SYM<br>index=%{x}<br>Rank=%{y}<extra></extra>",
         "legendgroup": "SYM",
         "line": {
          "color": "#EF553B",
          "dash": "solid"
         },
         "marker": {
          "symbol": "circle"
         },
         "mode": "lines",
         "name": "SYM",
         "orientation": "v",
         "showlegend": true,
         "type": "scatter",
         "x": [
          "2025-07-17T00:00:00",
          "2025-07-18T00:00:00",
          "2025-07-21T00:00:00",
          "2025-07-22T00:00:00",
          "2025-07-23T00:00:00",
          "2025-07-24T00:00:00",
          "2025-07-25T00:00:00",
          "2025-07-28T00:00:00",
          "2025-07-29T00:00:00",
          "2025-07-30T00:00:00",
          "2025-07-31T00:00:00",
          "2025-08-01T00:00:00",
          "2025-08-04T00:00:00",
          "2025-08-05T00:00:00",
          "2025-08-06T00:00:00",
          "2025-08-07T00:00:00",
          "2025-08-08T00:00:00",
          "2025-08-11T00:00:00",
          "2025-08-12T00:00:00",
          "2025-08-13T00:00:00",
          "2025-08-14T00:00:00",
          "2025-08-15T00:00:00",
          "2025-08-18T00:00:00",
          "2025-08-19T00:00:00",
          "2025-08-21T00:00:00",
          "2025-08-22T00:00:00",
          "2025-08-25T00:00:00",
          "2025-08-26T00:00:00",
          "2025-08-28T00:00:00",
          "2025-08-29T00:00:00",
          "2025-09-02T00:00:00",
          "2025-09-03T00:00:00",
          "2025-09-04T00:00:00",
          "2025-09-05T00:00:00"
         ],
         "xaxis": "x",
         "y": [
          474,
          471,
          501,
          509,
          481,
          481,
          486,
          484,
          498,
          null,
          null,
          null,
          null,
          null,
          null,
          null,
          null,
          491,
          494,
          485,
          491,
          486,
          493,
          526,
          554,
          537,
          null,
          520,
          514,
          533,
          546,
          545,
          550,
          521
         ],
         "yaxis": "y"
        },
        {
         "hovertemplate": "Ticker=RKLB<br>index=%{x}<br>Rank=%{y}<extra></extra>",
         "legendgroup": "RKLB",
         "line": {
          "color": "#00CC96",
          "dash": "solid"
         },
         "marker": {
          "symbol": "circle"
         },
         "mode": "lines",
         "name": "RKLB",
         "orientation": "v",
         "showlegend": true,
         "type": "scatter",
         "x": [
          "2025-07-17T00:00:00",
          "2025-07-18T00:00:00",
          "2025-07-21T00:00:00",
          "2025-07-22T00:00:00",
          "2025-07-23T00:00:00",
          "2025-07-24T00:00:00",
          "2025-07-25T00:00:00",
          "2025-07-28T00:00:00",
          "2025-07-29T00:00:00",
          "2025-07-30T00:00:00",
          "2025-07-31T00:00:00",
          "2025-08-01T00:00:00",
          "2025-08-04T00:00:00",
          "2025-08-05T00:00:00",
          "2025-08-06T00:00:00",
          "2025-08-07T00:00:00",
          "2025-08-08T00:00:00",
          "2025-08-11T00:00:00",
          "2025-08-12T00:00:00",
          "2025-08-13T00:00:00",
          "2025-08-14T00:00:00",
          "2025-08-15T00:00:00",
          "2025-08-18T00:00:00",
          "2025-08-19T00:00:00",
          "2025-08-21T00:00:00",
          "2025-08-22T00:00:00",
          "2025-08-25T00:00:00",
          "2025-08-26T00:00:00",
          "2025-08-28T00:00:00",
          "2025-08-29T00:00:00",
          "2025-09-02T00:00:00",
          "2025-09-03T00:00:00",
          "2025-09-04T00:00:00",
          "2025-09-05T00:00:00"
         ],
         "xaxis": "x",
         "y": [
          575,
          575,
          619,
          629,
          609,
          617,
          626,
          644,
          659,
          null,
          null,
          null,
          null,
          null,
          null,
          null,
          null,
          641,
          657,
          670,
          668,
          649,
          643,
          688,
          680,
          654,
          619,
          619,
          626,
          614,
          611,
          667,
          672,
          646
         ],
         "yaxis": "y"
        },
        {
         "hovertemplate": "Ticker=MSTR<br>index=%{x}<br>Rank=%{y}<extra></extra>",
         "legendgroup": "MSTR",
         "line": {
          "color": "#AB63FA",
          "dash": "solid"
         },
         "marker": {
          "symbol": "circle"
         },
         "mode": "lines",
         "name": "MSTR",
         "orientation": "v",
         "showlegend": true,
         "type": "scatter",
         "x": [
          "2025-07-17T00:00:00",
          "2025-07-18T00:00:00",
          "2025-07-21T00:00:00",
          "2025-07-22T00:00:00",
          "2025-07-23T00:00:00",
          "2025-07-24T00:00:00",
          "2025-07-25T00:00:00",
          "2025-07-28T00:00:00",
          "2025-07-29T00:00:00",
          "2025-07-30T00:00:00",
          "2025-07-31T00:00:00",
          "2025-08-01T00:00:00",
          "2025-08-04T00:00:00",
          "2025-08-05T00:00:00",
          "2025-08-06T00:00:00",
          "2025-08-07T00:00:00",
          "2025-08-08T00:00:00",
          "2025-08-11T00:00:00",
          "2025-08-12T00:00:00",
          "2025-08-13T00:00:00",
          "2025-08-14T00:00:00",
          "2025-08-15T00:00:00",
          "2025-08-18T00:00:00",
          "2025-08-19T00:00:00",
          "2025-08-21T00:00:00",
          "2025-08-22T00:00:00",
          "2025-08-25T00:00:00",
          "2025-08-26T00:00:00",
          "2025-08-28T00:00:00",
          "2025-08-29T00:00:00",
          "2025-09-02T00:00:00",
          "2025-09-03T00:00:00",
          "2025-09-04T00:00:00",
          "2025-09-05T00:00:00"
         ],
         "xaxis": "x",
         "y": [
          124,
          135,
          135,
          138,
          136,
          136,
          137,
          140,
          142,
          142,
          137,
          148,
          143,
          147,
          143,
          137,
          137,
          136,
          140,
          140,
          148,
          150,
          152,
          172,
          170,
          156,
          164,
          160,
          171,
          174,
          163,
          175,
          176,
          170
         ],
         "yaxis": "y"
        },
        {
         "hovertemplate": "Ticker=ORCL<br>index=%{x}<br>Rank=%{y}<extra></extra>",
         "legendgroup": "ORCL",
         "line": {
          "color": "#FFA15A",
          "dash": "solid"
         },
         "marker": {
          "symbol": "circle"
         },
         "mode": "lines",
         "name": "ORCL",
         "orientation": "v",
         "showlegend": true,
         "type": "scatter",
         "x": [
          "2025-07-17T00:00:00",
          "2025-07-18T00:00:00",
          "2025-07-21T00:00:00",
          "2025-07-22T00:00:00",
          "2025-07-23T00:00:00",
          "2025-07-24T00:00:00",
          "2025-07-25T00:00:00",
          "2025-07-28T00:00:00",
          "2025-07-29T00:00:00",
          "2025-07-30T00:00:00",
          "2025-07-31T00:00:00",
          "2025-08-01T00:00:00",
          "2025-08-04T00:00:00",
          "2025-08-05T00:00:00",
          "2025-08-06T00:00:00",
          "2025-08-07T00:00:00",
          "2025-08-08T00:00:00",
          "2025-08-11T00:00:00",
          "2025-08-12T00:00:00",
          "2025-08-13T00:00:00",
          "2025-08-14T00:00:00",
          "2025-08-15T00:00:00",
          "2025-08-18T00:00:00",
          "2025-08-19T00:00:00",
          "2025-08-21T00:00:00",
          "2025-08-22T00:00:00",
          "2025-08-25T00:00:00",
          "2025-08-26T00:00:00",
          "2025-08-28T00:00:00",
          "2025-08-29T00:00:00",
          "2025-09-02T00:00:00",
          "2025-09-03T00:00:00",
          "2025-09-04T00:00:00",
          "2025-09-05T00:00:00"
         ],
         "xaxis": "x",
         "y": [
          16,
          17,
          17,
          18,
          18,
          18,
          18,
          17,
          17,
          17,
          15,
          17,
          16,
          16,
          15,
          16,
          16,
          16,
          16,
          16,
          16,
          16,
          16,
          19,
          18,
          18,
          18,
          19,
          17,
          20,
          20,
          20,
          20,
          20
         ],
         "yaxis": "y"
        },
        {
         "hovertemplate": "Ticker=SHOP<br>index=%{x}<br>Rank=%{y}<extra></extra>",
         "legendgroup": "SHOP",
         "line": {
          "color": "#19D3F3",
          "dash": "solid"
         },
         "marker": {
          "symbol": "circle"
         },
         "mode": "lines",
         "name": "SHOP",
         "orientation": "v",
         "showlegend": true,
         "type": "scatter",
         "x": [
          "2025-07-17T00:00:00",
          "2025-07-18T00:00:00",
          "2025-07-21T00:00:00",
          "2025-07-22T00:00:00",
          "2025-07-23T00:00:00",
          "2025-07-24T00:00:00",
          "2025-07-25T00:00:00",
          "2025-07-28T00:00:00",
          "2025-07-29T00:00:00",
          "2025-07-30T00:00:00",
          "2025-07-31T00:00:00",
          "2025-08-01T00:00:00",
          "2025-08-04T00:00:00",
          "2025-08-05T00:00:00",
          "2025-08-06T00:00:00",
          "2025-08-07T00:00:00",
          "2025-08-08T00:00:00",
          "2025-08-11T00:00:00",
          "2025-08-12T00:00:00",
          "2025-08-13T00:00:00",
          "2025-08-14T00:00:00",
          "2025-08-15T00:00:00",
          "2025-08-18T00:00:00",
          "2025-08-19T00:00:00",
          "2025-08-21T00:00:00",
          "2025-08-22T00:00:00",
          "2025-08-25T00:00:00",
          "2025-08-26T00:00:00",
          "2025-08-28T00:00:00",
          "2025-08-29T00:00:00",
          "2025-09-02T00:00:00",
          "2025-09-03T00:00:00",
          "2025-09-04T00:00:00",
          "2025-09-05T00:00:00"
         ],
         "xaxis": "x",
         "y": [
          83,
          83,
          83,
          85,
          91,
          90,
          90,
          86,
          88,
          null,
          null,
          null,
          null,
          null,
          null,
          null,
          null,
          66,
          65,
          65,
          69,
          72,
          71,
          75,
          77,
          75,
          77,
          76,
          76,
          76,
          76,
          74,
          69,
          67
         ],
         "yaxis": "y"
        },
        {
         "hovertemplate": "Ticker=COIN<br>index=%{x}<br>Rank=%{y}<extra></extra>",
         "legendgroup": "COIN",
         "line": {
          "color": "#FF6692",
          "dash": "solid"
         },
         "marker": {
          "symbol": "circle"
         },
         "mode": "lines",
         "name": "COIN",
         "orientation": "v",
         "showlegend": true,
         "type": "scatter",
         "x": [
          "2025-07-17T00:00:00",
          "2025-07-18T00:00:00",
          "2025-07-21T00:00:00",
          "2025-07-22T00:00:00",
          "2025-07-23T00:00:00",
          "2025-07-24T00:00:00",
          "2025-07-25T00:00:00",
          "2025-07-28T00:00:00",
          "2025-07-29T00:00:00",
          "2025-07-30T00:00:00",
          "2025-07-31T00:00:00",
          "2025-08-01T00:00:00",
          "2025-08-04T00:00:00",
          "2025-08-05T00:00:00",
          "2025-08-06T00:00:00",
          "2025-08-07T00:00:00",
          "2025-08-08T00:00:00",
          "2025-08-11T00:00:00",
          "2025-08-12T00:00:00",
          "2025-08-13T00:00:00",
          "2025-08-14T00:00:00",
          "2025-08-15T00:00:00",
          "2025-08-18T00:00:00",
          "2025-08-19T00:00:00",
          "2025-08-21T00:00:00",
          "2025-08-22T00:00:00",
          "2025-08-25T00:00:00",
          "2025-08-26T00:00:00",
          "2025-08-28T00:00:00",
          "2025-08-29T00:00:00",
          "2025-09-02T00:00:00",
          "2025-09-03T00:00:00",
          "2025-09-04T00:00:00",
          "2025-09-05T00:00:00"
         ],
         "xaxis": "x",
         "y": [
          146,
          145,
          147,
          150,
          158,
          158,
          161,
          167,
          170,
          null,
          null,
          null,
          null,
          null,
          null,
          null,
          null,
          195,
          196,
          194,
          196,
          200,
          199,
          211,
          211,
          200,
          209,
          211,
          211,
          216,
          213,
          215,
          212,
          217
         ],
         "yaxis": "y"
        },
        {
         "hovertemplate": "Ticker=VGT<br>index=%{x}<br>Rank=%{y}<extra></extra>",
         "legendgroup": "VGT",
         "line": {
          "color": "#1F77B4",
          "dash": "solid"
         },
         "marker": {
          "symbol": "circle"
         },
         "mode": "lines",
         "name": "VGT",
         "orientation": "v",
         "showlegend": true,
         "type": "scatter",
         "x": [
          "2025-07-17T00:00:00",
          "2025-07-18T00:00:00",
          "2025-07-21T00:00:00",
          "2025-07-22T00:00:00",
          "2025-07-23T00:00:00",
          "2025-07-24T00:00:00",
          "2025-07-25T00:00:00",
          "2025-07-28T00:00:00",
          "2025-07-29T00:00:00",
          "2025-07-30T00:00:00",
          "2025-07-31T00:00:00",
          "2025-08-01T00:00:00",
          "2025-08-04T00:00:00",
          "2025-08-05T00:00:00",
          "2025-08-06T00:00:00",
          "2025-08-07T00:00:00",
          "2025-08-08T00:00:00",
          "2025-08-11T00:00:00",
          "2025-08-12T00:00:00",
          "2025-08-13T00:00:00",
          "2025-08-14T00:00:00",
          "2025-08-15T00:00:00",
          "2025-08-18T00:00:00",
          "2025-08-19T00:00:00",
          "2025-08-21T00:00:00",
          "2025-08-22T00:00:00",
          "2025-08-25T00:00:00",
          "2025-08-26T00:00:00",
          "2025-08-28T00:00:00",
          "2025-08-29T00:00:00",
          "2025-09-02T00:00:00",
          "2025-09-03T00:00:00",
          "2025-09-04T00:00:00",
          "2025-09-05T00:00:00"
         ],
         "xaxis": "x",
         "y": [
          164,
          162,
          162,
          164,
          169,
          169,
          166,
          164,
          161,
          160,
          158,
          158,
          168,
          160,
          166,
          162,
          163,
          160,
          162,
          159,
          161,
          162,
          162,
          159,
          162,
          164,
          159,
          159,
          153,
          154,
          159,
          160,
          159,
          159
         ],
         "yaxis": "y"
        },
        {
         "hovertemplate": "Ticker=AVAV<br>index=%{x}<br>Rank=%{y}<extra></extra>",
         "legendgroup": "AVAV",
         "line": {
          "color": "#FF97FF",
          "dash": "solid"
         },
         "marker": {
          "symbol": "circle"
         },
         "mode": "lines",
         "name": "AVAV",
         "orientation": "v",
         "showlegend": true,
         "type": "scatter",
         "x": [
          "2025-07-17T00:00:00",
          "2025-07-18T00:00:00",
          "2025-07-21T00:00:00",
          "2025-07-22T00:00:00",
          "2025-07-23T00:00:00",
          "2025-07-24T00:00:00",
          "2025-07-25T00:00:00",
          "2025-07-28T00:00:00",
          "2025-07-29T00:00:00",
          "2025-07-30T00:00:00",
          "2025-07-31T00:00:00",
          "2025-08-01T00:00:00",
          "2025-08-04T00:00:00",
          "2025-08-05T00:00:00",
          "2025-08-06T00:00:00",
          "2025-08-07T00:00:00",
          "2025-08-08T00:00:00",
          "2025-08-11T00:00:00",
          "2025-08-12T00:00:00",
          "2025-08-13T00:00:00",
          "2025-08-14T00:00:00",
          "2025-08-15T00:00:00",
          "2025-08-18T00:00:00",
          "2025-08-19T00:00:00",
          "2025-08-21T00:00:00",
          "2025-08-22T00:00:00",
          "2025-08-25T00:00:00",
          "2025-08-26T00:00:00",
          "2025-08-28T00:00:00",
          "2025-08-29T00:00:00",
          "2025-09-02T00:00:00",
          "2025-09-03T00:00:00",
          "2025-09-04T00:00:00",
          "2025-09-05T00:00:00"
         ],
         "xaxis": "x",
         "y": [
          876,
          888,
          888,
          913,
          900,
          903,
          900,
          901,
          908,
          902,
          895,
          905,
          895,
          899,
          907,
          914,
          947,
          946,
          944,
          939,
          949,
          952,
          945,
          988,
          985,
          985,
          967,
          965,
          961,
          978,
          981,
          983,
          1013,
          1018
         ],
         "yaxis": "y"
        },
        {
         "hovertemplate": "Ticker=META<br>index=%{x}<br>Rank=%{y}<extra></extra>",
         "legendgroup": "META",
         "line": {
          "color": "#FECB52",
          "dash": "solid"
         },
         "marker": {
          "symbol": "circle"
         },
         "mode": "lines",
         "name": "META",
         "orientation": "v",
         "showlegend": true,
         "type": "scatter",
         "x": [
          "2025-07-17T00:00:00",
          "2025-07-18T00:00:00",
          "2025-07-21T00:00:00",
          "2025-07-22T00:00:00",
          "2025-07-23T00:00:00",
          "2025-07-24T00:00:00",
          "2025-07-25T00:00:00",
          "2025-07-28T00:00:00",
          "2025-07-29T00:00:00",
          "2025-07-30T00:00:00",
          "2025-07-31T00:00:00",
          "2025-08-01T00:00:00",
          "2025-08-04T00:00:00",
          "2025-08-05T00:00:00",
          "2025-08-06T00:00:00",
          "2025-08-07T00:00:00",
          "2025-08-08T00:00:00",
          "2025-08-11T00:00:00",
          "2025-08-12T00:00:00",
          "2025-08-13T00:00:00",
          "2025-08-14T00:00:00",
          "2025-08-15T00:00:00",
          "2025-08-18T00:00:00",
          "2025-08-19T00:00:00",
          "2025-08-21T00:00:00",
          "2025-08-22T00:00:00",
          "2025-08-25T00:00:00",
          "2025-08-26T00:00:00",
          "2025-08-28T00:00:00",
          "2025-08-29T00:00:00",
          "2025-09-02T00:00:00",
          "2025-09-03T00:00:00",
          "2025-09-04T00:00:00",
          "2025-09-05T00:00:00"
         ],
         "xaxis": "x",
         "y": [
          7,
          7,
          7,
          7,
          7,
          7,
          7,
          7,
          7,
          7,
          7,
          7,
          7,
          7,
          7,
          7,
          7,
          7,
          7,
          7,
          7,
          7,
          7,
          7,
          7,
          7,
          7,
          7,
          7,
          7,
          7,
          7,
          7,
          7
         ],
         "yaxis": "y"
        },
        {
         "hovertemplate": "Ticker=NVDA<br>index=%{x}<br>Rank=%{y}<extra></extra>",
         "legendgroup": "NVDA",
         "line": {
          "color": "#636EFA",
          "dash": "solid"
         },
         "marker": {
          "symbol": "circle"
         },
         "mode": "lines",
         "name": "NVDA",
         "orientation": "v",
         "showlegend": true,
         "type": "scatter",
         "x": [
          "2025-07-17T00:00:00",
          "2025-07-18T00:00:00",
          "2025-07-21T00:00:00",
          "2025-07-22T00:00:00",
          "2025-07-23T00:00:00",
          "2025-07-24T00:00:00",
          "2025-07-25T00:00:00",
          "2025-07-28T00:00:00",
          "2025-07-29T00:00:00",
          "2025-07-30T00:00:00",
          "2025-07-31T00:00:00",
          "2025-08-01T00:00:00",
          "2025-08-04T00:00:00",
          "2025-08-05T00:00:00",
          "2025-08-06T00:00:00",
          "2025-08-07T00:00:00",
          "2025-08-08T00:00:00",
          "2025-08-11T00:00:00",
          "2025-08-12T00:00:00",
          "2025-08-13T00:00:00",
          "2025-08-14T00:00:00",
          "2025-08-15T00:00:00",
          "2025-08-18T00:00:00",
          "2025-08-19T00:00:00",
          "2025-08-21T00:00:00",
          "2025-08-22T00:00:00",
          "2025-08-25T00:00:00",
          "2025-08-26T00:00:00",
          "2025-08-28T00:00:00",
          "2025-08-29T00:00:00",
          "2025-09-02T00:00:00",
          "2025-09-03T00:00:00",
          "2025-09-04T00:00:00",
          "2025-09-05T00:00:00"
         ],
         "xaxis": "x",
         "y": [
          1,
          1,
          1,
          1,
          1,
          1,
          1,
          1,
          1,
          1,
          1,
          1,
          1,
          1,
          1,
          1,
          1,
          1,
          1,
          1,
          1,
          1,
          1,
          1,
          1,
          1,
          1,
          1,
          1,
          1,
          1,
          1,
          1,
          1
         ],
         "yaxis": "y"
        }
       ],
       "layout": {
        "annotations": [
         {
          "showarrow": false,
          "text": "Recent",
          "x": "2025-09-02T00:00:00",
          "xanchor": "left",
          "xref": "x",
          "y": 1,
          "yanchor": "top",
          "yref": "y domain"
         },
         {
          "showarrow": false,
          "text": "Lookback",
          "x": "2025-07-31T00:00:00",
          "xanchor": "left",
          "xref": "x",
          "y": 1,
          "yanchor": "top",
          "yref": "y domain"
         },
         {
          "align": "left",
          "font": {
           "family": "Courier New, monospace",
           "size": 14
          },
          "showarrow": false,
          "text": "<b>Filter Criteria:</b><br>  • lookback_days: 20                   • recent_days: 4                      • min_lookback_improvement: 0       <br>  • min_recent_bottom_to_recent_start: 0  • min_recent_bottom_to_current: 2     • current_rank_bracket_start: 1     <br>  • current_rank_bracket_end: 1000    ",
          "x": 0,
          "xanchor": "left",
          "xref": "paper",
          "y": -0.25,
          "yanchor": "top",
          "yref": "paper"
         }
        ],
        "height": 700,
        "legend": {
         "title": {
          "text": "Ticker"
         },
         "tracegroupgap": 0
        },
        "margin": {
         "b": 198.8
        },
        "shapes": [
         {
          "fillcolor": "LightSkyBlue",
          "layer": "below",
          "line": {
           "width": 0
          },
          "opacity": 0.2,
          "type": "rect",
          "x0": "2025-09-02T00:00:00",
          "x1": "2025-09-05T00:00:00",
          "xref": "x",
          "y0": 0,
          "y1": 1,
          "yref": "y domain"
         },
         {
          "fillcolor": "LightGreen",
          "layer": "below",
          "line": {
           "width": 0
          },
          "opacity": 0.2,
          "type": "rect",
          "x0": "2025-07-31T00:00:00",
          "x1": "2025-08-29T00:00:00",
          "xref": "x",
          "y0": 0,
          "y1": 1,
          "yref": "y domain"
         },
         {
          "line": {
           "color": "grey",
           "dash": "dash",
           "width": 2
          },
          "type": "line",
          "x0": "2025-09-02T00:00:00",
          "x1": "2025-09-02T00:00:00",
          "xref": "x",
          "y0": 0,
          "y1": 1,
          "yref": "y domain"
         },
         {
          "line": {
           "color": "red",
           "width": 2
          },
          "type": "line",
          "x0": 0,
          "x1": 1,
          "xref": "paper",
          "y0": 1,
          "y1": 1,
          "yref": "paper"
         },
         {
          "line": {
           "color": "blue",
           "width": 2
          },
          "type": "line",
          "x0": 0,
          "x1": 1,
          "xref": "paper",
          "y0": 0,
          "y1": 0,
          "yref": "paper"
         }
        ],
        "template": {
         "data": {
          "bar": [
           {
            "error_x": {
             "color": "#2a3f5f"
            },
            "error_y": {
             "color": "#2a3f5f"
            },
            "marker": {
             "line": {
              "color": "#E5ECF6",
              "width": 0.5
             },
             "pattern": {
              "fillmode": "overlay",
              "size": 10,
              "solidity": 0.2
             }
            },
            "type": "bar"
           }
          ],
          "barpolar": [
           {
            "marker": {
             "line": {
              "color": "#E5ECF6",
              "width": 0.5
             },
             "pattern": {
              "fillmode": "overlay",
              "size": 10,
              "solidity": 0.2
             }
            },
            "type": "barpolar"
           }
          ],
          "carpet": [
           {
            "aaxis": {
             "endlinecolor": "#2a3f5f",
             "gridcolor": "white",
             "linecolor": "white",
             "minorgridcolor": "white",
             "startlinecolor": "#2a3f5f"
            },
            "baxis": {
             "endlinecolor": "#2a3f5f",
             "gridcolor": "white",
             "linecolor": "white",
             "minorgridcolor": "white",
             "startlinecolor": "#2a3f5f"
            },
            "type": "carpet"
           }
          ],
          "choropleth": [
           {
            "colorbar": {
             "outlinewidth": 0,
             "ticks": ""
            },
            "type": "choropleth"
           }
          ],
          "contour": [
           {
            "colorbar": {
             "outlinewidth": 0,
             "ticks": ""
            },
            "colorscale": [
             [
              0,
              "#0d0887"
             ],
             [
              0.1111111111111111,
              "#46039f"
             ],
             [
              0.2222222222222222,
              "#7201a8"
             ],
             [
              0.3333333333333333,
              "#9c179e"
             ],
             [
              0.4444444444444444,
              "#bd3786"
             ],
             [
              0.5555555555555556,
              "#d8576b"
             ],
             [
              0.6666666666666666,
              "#ed7953"
             ],
             [
              0.7777777777777778,
              "#fb9f3a"
             ],
             [
              0.8888888888888888,
              "#fdca26"
             ],
             [
              1,
              "#f0f921"
             ]
            ],
            "type": "contour"
           }
          ],
          "contourcarpet": [
           {
            "colorbar": {
             "outlinewidth": 0,
             "ticks": ""
            },
            "type": "contourcarpet"
           }
          ],
          "heatmap": [
           {
            "colorbar": {
             "outlinewidth": 0,
             "ticks": ""
            },
            "colorscale": [
             [
              0,
              "#0d0887"
             ],
             [
              0.1111111111111111,
              "#46039f"
             ],
             [
              0.2222222222222222,
              "#7201a8"
             ],
             [
              0.3333333333333333,
              "#9c179e"
             ],
             [
              0.4444444444444444,
              "#bd3786"
             ],
             [
              0.5555555555555556,
              "#d8576b"
             ],
             [
              0.6666666666666666,
              "#ed7953"
             ],
             [
              0.7777777777777778,
              "#fb9f3a"
             ],
             [
              0.8888888888888888,
              "#fdca26"
             ],
             [
              1,
              "#f0f921"
             ]
            ],
            "type": "heatmap"
           }
          ],
          "heatmapgl": [
           {
            "colorbar": {
             "outlinewidth": 0,
             "ticks": ""
            },
            "colorscale": [
             [
              0,
              "#0d0887"
             ],
             [
              0.1111111111111111,
              "#46039f"
             ],
             [
              0.2222222222222222,
              "#7201a8"
             ],
             [
              0.3333333333333333,
              "#9c179e"
             ],
             [
              0.4444444444444444,
              "#bd3786"
             ],
             [
              0.5555555555555556,
              "#d8576b"
             ],
             [
              0.6666666666666666,
              "#ed7953"
             ],
             [
              0.7777777777777778,
              "#fb9f3a"
             ],
             [
              0.8888888888888888,
              "#fdca26"
             ],
             [
              1,
              "#f0f921"
             ]
            ],
            "type": "heatmapgl"
           }
          ],
          "histogram": [
           {
            "marker": {
             "pattern": {
              "fillmode": "overlay",
              "size": 10,
              "solidity": 0.2
             }
            },
            "type": "histogram"
           }
          ],
          "histogram2d": [
           {
            "colorbar": {
             "outlinewidth": 0,
             "ticks": ""
            },
            "colorscale": [
             [
              0,
              "#0d0887"
             ],
             [
              0.1111111111111111,
              "#46039f"
             ],
             [
              0.2222222222222222,
              "#7201a8"
             ],
             [
              0.3333333333333333,
              "#9c179e"
             ],
             [
              0.4444444444444444,
              "#bd3786"
             ],
             [
              0.5555555555555556,
              "#d8576b"
             ],
             [
              0.6666666666666666,
              "#ed7953"
             ],
             [
              0.7777777777777778,
              "#fb9f3a"
             ],
             [
              0.8888888888888888,
              "#fdca26"
             ],
             [
              1,
              "#f0f921"
             ]
            ],
            "type": "histogram2d"
           }
          ],
          "histogram2dcontour": [
           {
            "colorbar": {
             "outlinewidth": 0,
             "ticks": ""
            },
            "colorscale": [
             [
              0,
              "#0d0887"
             ],
             [
              0.1111111111111111,
              "#46039f"
             ],
             [
              0.2222222222222222,
              "#7201a8"
             ],
             [
              0.3333333333333333,
              "#9c179e"
             ],
             [
              0.4444444444444444,
              "#bd3786"
             ],
             [
              0.5555555555555556,
              "#d8576b"
             ],
             [
              0.6666666666666666,
              "#ed7953"
             ],
             [
              0.7777777777777778,
              "#fb9f3a"
             ],
             [
              0.8888888888888888,
              "#fdca26"
             ],
             [
              1,
              "#f0f921"
             ]
            ],
            "type": "histogram2dcontour"
           }
          ],
          "mesh3d": [
           {
            "colorbar": {
             "outlinewidth": 0,
             "ticks": ""
            },
            "type": "mesh3d"
           }
          ],
          "parcoords": [
           {
            "line": {
             "colorbar": {
              "outlinewidth": 0,
              "ticks": ""
             }
            },
            "type": "parcoords"
           }
          ],
          "pie": [
           {
            "automargin": true,
            "type": "pie"
           }
          ],
          "scatter": [
           {
            "fillpattern": {
             "fillmode": "overlay",
             "size": 10,
             "solidity": 0.2
            },
            "type": "scatter"
           }
          ],
          "scatter3d": [
           {
            "line": {
             "colorbar": {
              "outlinewidth": 0,
              "ticks": ""
             }
            },
            "marker": {
             "colorbar": {
              "outlinewidth": 0,
              "ticks": ""
             }
            },
            "type": "scatter3d"
           }
          ],
          "scattercarpet": [
           {
            "marker": {
             "colorbar": {
              "outlinewidth": 0,
              "ticks": ""
             }
            },
            "type": "scattercarpet"
           }
          ],
          "scattergeo": [
           {
            "marker": {
             "colorbar": {
              "outlinewidth": 0,
              "ticks": ""
             }
            },
            "type": "scattergeo"
           }
          ],
          "scattergl": [
           {
            "marker": {
             "colorbar": {
              "outlinewidth": 0,
              "ticks": ""
             }
            },
            "type": "scattergl"
           }
          ],
          "scattermapbox": [
           {
            "marker": {
             "colorbar": {
              "outlinewidth": 0,
              "ticks": ""
             }
            },
            "type": "scattermapbox"
           }
          ],
          "scatterpolar": [
           {
            "marker": {
             "colorbar": {
              "outlinewidth": 0,
              "ticks": ""
             }
            },
            "type": "scatterpolar"
           }
          ],
          "scatterpolargl": [
           {
            "marker": {
             "colorbar": {
              "outlinewidth": 0,
              "ticks": ""
             }
            },
            "type": "scatterpolargl"
           }
          ],
          "scatterternary": [
           {
            "marker": {
             "colorbar": {
              "outlinewidth": 0,
              "ticks": ""
             }
            },
            "type": "scatterternary"
           }
          ],
          "surface": [
           {
            "colorbar": {
             "outlinewidth": 0,
             "ticks": ""
            },
            "colorscale": [
             [
              0,
              "#0d0887"
             ],
             [
              0.1111111111111111,
              "#46039f"
             ],
             [
              0.2222222222222222,
              "#7201a8"
             ],
             [
              0.3333333333333333,
              "#9c179e"
             ],
             [
              0.4444444444444444,
              "#bd3786"
             ],
             [
              0.5555555555555556,
              "#d8576b"
             ],
             [
              0.6666666666666666,
              "#ed7953"
             ],
             [
              0.7777777777777778,
              "#fb9f3a"
             ],
             [
              0.8888888888888888,
              "#fdca26"
             ],
             [
              1,
              "#f0f921"
             ]
            ],
            "type": "surface"
           }
          ],
          "table": [
           {
            "cells": {
             "fill": {
              "color": "#EBF0F8"
             },
             "line": {
              "color": "white"
             }
            },
            "header": {
             "fill": {
              "color": "#C8D4E3"
             },
             "line": {
              "color": "white"
             }
            },
            "type": "table"
           }
          ]
         },
         "layout": {
          "annotationdefaults": {
           "arrowcolor": "#2a3f5f",
           "arrowhead": 0,
           "arrowwidth": 1
          },
          "autotypenumbers": "strict",
          "coloraxis": {
           "colorbar": {
            "outlinewidth": 0,
            "ticks": ""
           }
          },
          "colorscale": {
           "diverging": [
            [
             0,
             "#8e0152"
            ],
            [
             0.1,
             "#c51b7d"
            ],
            [
             0.2,
             "#de77ae"
            ],
            [
             0.3,
             "#f1b6da"
            ],
            [
             0.4,
             "#fde0ef"
            ],
            [
             0.5,
             "#f7f7f7"
            ],
            [
             0.6,
             "#e6f5d0"
            ],
            [
             0.7,
             "#b8e186"
            ],
            [
             0.8,
             "#7fbc41"
            ],
            [
             0.9,
             "#4d9221"
            ],
            [
             1,
             "#276419"
            ]
           ],
           "sequential": [
            [
             0,
             "#0d0887"
            ],
            [
             0.1111111111111111,
             "#46039f"
            ],
            [
             0.2222222222222222,
             "#7201a8"
            ],
            [
             0.3333333333333333,
             "#9c179e"
            ],
            [
             0.4444444444444444,
             "#bd3786"
            ],
            [
             0.5555555555555556,
             "#d8576b"
            ],
            [
             0.6666666666666666,
             "#ed7953"
            ],
            [
             0.7777777777777778,
             "#fb9f3a"
            ],
            [
             0.8888888888888888,
             "#fdca26"
            ],
            [
             1,
             "#f0f921"
            ]
           ],
           "sequentialminus": [
            [
             0,
             "#0d0887"
            ],
            [
             0.1111111111111111,
             "#46039f"
            ],
            [
             0.2222222222222222,
             "#7201a8"
            ],
            [
             0.3333333333333333,
             "#9c179e"
            ],
            [
             0.4444444444444444,
             "#bd3786"
            ],
            [
             0.5555555555555556,
             "#d8576b"
            ],
            [
             0.6666666666666666,
             "#ed7953"
            ],
            [
             0.7777777777777778,
             "#fb9f3a"
            ],
            [
             0.8888888888888888,
             "#fdca26"
            ],
            [
             1,
             "#f0f921"
            ]
           ]
          },
          "colorway": [
           "#636efa",
           "#EF553B",
           "#00cc96",
           "#ab63fa",
           "#FFA15A",
           "#19d3f3",
           "#FF6692",
           "#B6E880",
           "#FF97FF",
           "#FECB52"
          ],
          "font": {
           "color": "#2a3f5f"
          },
          "geo": {
           "bgcolor": "white",
           "lakecolor": "white",
           "landcolor": "#E5ECF6",
           "showlakes": true,
           "showland": true,
           "subunitcolor": "white"
          },
          "hoverlabel": {
           "align": "left"
          },
          "hovermode": "closest",
          "mapbox": {
           "style": "light"
          },
          "paper_bgcolor": "white",
          "plot_bgcolor": "#E5ECF6",
          "polar": {
           "angularaxis": {
            "gridcolor": "white",
            "linecolor": "white",
            "ticks": ""
           },
           "bgcolor": "#E5ECF6",
           "radialaxis": {
            "gridcolor": "white",
            "linecolor": "white",
            "ticks": ""
           }
          },
          "scene": {
           "xaxis": {
            "backgroundcolor": "#E5ECF6",
            "gridcolor": "white",
            "gridwidth": 2,
            "linecolor": "white",
            "showbackground": true,
            "ticks": "",
            "zerolinecolor": "white"
           },
           "yaxis": {
            "backgroundcolor": "#E5ECF6",
            "gridcolor": "white",
            "gridwidth": 2,
            "linecolor": "white",
            "showbackground": true,
            "ticks": "",
            "zerolinecolor": "white"
           },
           "zaxis": {
            "backgroundcolor": "#E5ECF6",
            "gridcolor": "white",
            "gridwidth": 2,
            "linecolor": "white",
            "showbackground": true,
            "ticks": "",
            "zerolinecolor": "white"
           }
          },
          "shapedefaults": {
           "line": {
            "color": "#2a3f5f"
           }
          },
          "ternary": {
           "aaxis": {
            "gridcolor": "white",
            "linecolor": "white",
            "ticks": ""
           },
           "baxis": {
            "gridcolor": "white",
            "linecolor": "white",
            "ticks": ""
           },
           "bgcolor": "#E5ECF6",
           "caxis": {
            "gridcolor": "white",
            "linecolor": "white",
            "ticks": ""
           }
          },
          "title": {
           "x": 0.05
          },
          "xaxis": {
           "automargin": true,
           "gridcolor": "white",
           "linecolor": "white",
           "ticks": "",
           "title": {
            "standoff": 15
           },
           "zerolinecolor": "white",
           "zerolinewidth": 2
          },
          "yaxis": {
           "automargin": true,
           "gridcolor": "white",
           "linecolor": "white",
           "ticks": "",
           "title": {
            "standoff": 15
           },
           "zerolinecolor": "white",
           "zerolinewidth": 2
          }
         }
        },
        "title": {
         "text": "Rank History: 'Reversal' Candidates"
        },
        "updatemenus": [
         {
          "buttons": [
           {
            "args": [
             {
              "visible": [
               true,
               true,
               true,
               true,
               true,
               true,
               true,
               true,
               true,
               true,
               true
              ]
             }
            ],
            "label": "Reset View",
            "method": "restyle"
           },
           {
            "args": [
             {
              "visible": [
               "legendonly",
               "legendonly",
               "legendonly",
               "legendonly",
               "legendonly",
               "legendonly",
               "legendonly",
               "legendonly",
               "legendonly",
               "legendonly",
               "legendonly"
              ]
             }
            ],
            "label": "Clear All",
            "method": "restyle"
           }
          ],
          "direction": "left",
          "showactive": false,
          "type": "buttons",
          "x": 0.01,
          "xanchor": "left",
          "y": 1.1,
          "yanchor": "top"
         }
        ],
        "width": 1150,
        "xaxis": {
         "anchor": "y",
         "domain": [
          0,
          1
         ],
         "dtick": "D7",
         "gridcolor": "LightGrey",
         "minor": {
          "dtick": "D1",
          "gridcolor": "rgba(235, 235, 235, 0.5)",
          "showgrid": true
         },
         "range": [
          "2025-07-17T00:00:00",
          "2025-09-05T00:00:00"
         ],
         "showgrid": true,
         "tickformat": "%b %d",
         "title": {
          "standoff": 25,
          "text": "Date"
         },
         "type": "date"
        },
        "yaxis": {
         "anchor": "x",
         "autorange": "reversed",
         "domain": [
          0,
          1
         ],
         "dtick": 100,
         "gridcolor": "LightGrey",
         "showgrid": true,
         "title": {
          "text": "Rank"
         }
        }
       }
      }
     },
     "metadata": {},
     "output_type": "display_data"
    }
   ],
   "source": [
    "# 4. Call the new plotting function\n",
    "if portfolio_tickers:\n",
    "    plot_rank_with_criteria(\n",
    "        df_rank_history=df_tickers_rank_history.iloc[:, -plot_days::],\n",
    "        # df_rank_history=selected_df,\n",
    "        ticker_list=portfolio_tickers,\n",
    "        title_suffix=\"'Reversal' Candidates\",\n",
    "        filter_criteria=filter_criteria, # Pass the dictionary here\n",
    "        width=1150,\n",
    "        height=700,\n",
    "    )\n",
    "else:\n",
    "    print(\"No candidates found to plot.\")"
   ]
  },
  {
   "cell_type": "code",
   "execution_count": 17,
   "metadata": {},
   "outputs": [],
   "source": [
    "metrics_column_order = ['ticker',\n",
    "                        'lookback_slope',\n",
    "                        'current_to_total_peak',                \n",
    "                        'current',\n",
    "                        'recent_start',\n",
    "                        'best_recent',\n",
    "                        'worst_recent',                \n",
    "                        'lookback_end',                \n",
    "                        'lookback_start',\n",
    "                        'best_lookback',\n",
    "                        'worst_lookback',\n",
    "                        'best_total',\n",
    "                        'worst_total',\n",
    "                        'current_to_recent_start',\n",
    "                        'recent_bottom_to_recent_start',\n",
    "                        'recent_bottom_to_current']"
   ]
  },
  {
   "cell_type": "code",
   "execution_count": 18,
   "metadata": {},
   "outputs": [
    {
     "name": "stdout",
     "output_type": "stream",
     "text": [
      "metrics_df.head(200):\n",
      "    ticker  lookback_slope  current_to_total_peak  current  recent_start  best_recent  worst_recent  lookback_end  lookback_start  best_lookback  worst_lookback  best_total  worst_total  current_to_recent_start  recent_bottom_to_recent_start  recent_bottom_to_current\n",
      "0     NVDA           -0.00                      0        1             1            1             1             1               1              1               1           1            1                        0                              0                         0\n",
      "1     MSFT           -0.00                      0        2             2            2             2             2               2              2               2           2            2                        0                              0                         0\n",
      "2     AAPL           -0.00                      0        3             3            3             3             3               3              3               3           3            3                        0                              0                         0\n",
      "3     GOOG           -0.01                      0        4             4            4             5             5               5              4               6           4            6                        0                              1                         1\n",
      "4    GOOGL           -0.01                      1        5             5            4             5             4               6              4               6           4            6                        0                              0                         0\n",
      "..     ...             ...                    ...      ...           ...          ...           ...           ...             ...            ...             ...         ...          ...                      ...                            ...                       ...\n",
      "195    LYG           -0.17                     15      260           265          260           265           263             263            245             263         245          265                       -5                              0                         5\n",
      "196    VYM           -0.38                      0      261           264          261           266           264             269            261             273         261          273                       -3                              2                         5\n",
      "197    APD            0.07                      8      262           261          261           264           261             256            254             263         254          264                        1                              3                         2\n",
      "198    EOG           -0.25                     17      263           246          246           263           250             251            250             262         246          263                       17                             17                         0\n",
      "199    HLT           -0.44                      5      264           262          261           264           262             261            259             273         259          273                        2                              2                         0\n",
      "\n",
      "[200 rows x 16 columns]\n"
     ]
    }
   ],
   "source": [
    "# 1. Convert to a DataFrame for further analysis:\n",
    "metrics_df = pd.DataFrame(all_metrics_data)\n",
    "metrics_df = metrics_df[metrics_column_order]\n",
    "print(f'metrics_df.head(200):\\n{metrics_df.head(200)}')"
   ]
  },
  {
   "cell_type": "code",
   "execution_count": 19,
   "metadata": {},
   "outputs": [
    {
     "name": "stdout",
     "output_type": "stream",
     "text": [
      "sorted_metrics_df:\n",
      "    ticker  lookback_slope  current_to_total_peak  current  recent_start  best_recent  worst_recent  lookback_end  lookback_start  best_lookback  worst_lookback  best_total  worst_total  current_to_recent_start  recent_bottom_to_recent_start  recent_bottom_to_current\n",
      "694    IGM           -9.34                     18     1199          1202         1199          1211          1204            1328           1181            1346        1181         1346                       -3                              9                        12\n",
      "686   LSCC           -8.44                     21     1177          1160         1156          1177          1169            1359           1164            1371        1156         1371                       17                             17                         0\n",
      "615    WMS           -8.20                      7     1009          1032         1009          1032          1030            1147           1002            1159        1002         1159                      -23                              0                        23\n",
      "602   VTRS           -6.16                     41      975           961          958           980           964            1058            934            1060         934         1060                       14                             19                         5\n",
      "496   APTV           -5.85                      7      760           766          754           766           762             825            753             858         753          858                       -6                              0                         6\n",
      "..     ...             ...                    ...      ...           ...          ...           ...           ...             ...            ...             ...         ...          ...                      ...                            ...                       ...\n",
      "716    RRC            5.16                     81     1243          1242         1237          1243          1248            1162           1162            1272        1162         1272                        1                              1                         0\n",
      "692   NICE            6.19                    112     1192          1201         1192          1201          1181            1080           1080            1235        1080         1235                       -9                              0                         9\n",
      "763   MKTX            6.59                    140     1380          1396         1380          1408          1385            1261           1240            1393        1240         1408                      -16                             12                        28\n",
      "675    IGV            9.06                    183     1150          1092         1092          1150          1091             967            967            1126         967         1150                       58                             58                         0\n",
      "610    JHX           11.81                    239     1001          1014         1001          1018          1001             821            762            1001         762         1018                      -13                              4                        17\n",
      "\n",
      "[814 rows x 16 columns]\n"
     ]
    }
   ],
   "source": [
    "sort_order = {'lookback_slope': True,  # negative slope (i.e. small) is better\n",
    "                   'current_to_total_peak': True,  # small is better, best is 0                   \n",
    "                   'recent_bottom_to_current': False,}  # sort large to small, large means big dip before recovered to current level \n",
    "\n",
    "# keys in the exact order they appear in the dict\n",
    "sort_keys = list(sort_order.keys())\n",
    "sort_values = list(sort_order.values())\n",
    "sorted_metrics_df = metrics_df.sort_values(by=sort_keys, ascending=sort_values)\n",
    "\n",
    "print(f'sorted_metrics_df:\\n{sorted_metrics_df}')"
   ]
  },
  {
   "cell_type": "code",
   "execution_count": 20,
   "metadata": {},
   "outputs": [
    {
     "name": "stdout",
     "output_type": "stream",
     "text": [
      "portfolio_metrics: \n",
      "    ticker  lookback_slope  current_to_total_peak  current  recent_start  best_recent  worst_recent  lookback_end  lookback_start  best_lookback  worst_lookback  best_total  worst_total  current_to_recent_start  recent_bottom_to_recent_start  recent_bottom_to_current\n",
      "0     NVDA           -0.00                      0        1             1            1             1             1               1              1               1           1            1                        0                              0                         0\n",
      "6     META           -0.00                      0        7             7            7             7             7               7              7               7           7            7                        0                              0                         0\n",
      "17    ORCL            0.18                      5       20            20           20            20            20              15             15              20          15           20                        0                              0                         0\n",
      "128    VGT           -0.26                      6      159           159          159           160           154             158            153             168         153          168                        0                              1                         1\n",
      "138   MSTR            1.78                     34      170           163          163           176           174             137            136             174         136          176                        7                             13                         6\n",
      "620   AVAV            4.72                    123     1018           981          981          1018           978             895            895             988         895         1018                       37                             37                         0\n"
     ]
    }
   ],
   "source": [
    "# Filter metrics_df to keep only rows whose 'ticker' is in portfolio_tickers\n",
    "portfolio_metrics = metrics_df[metrics_df['ticker'].isin(portfolio_tickers)]\n",
    "# portfolio_metrics = portfolio_metrics[metrics_column_order]\n",
    "print(f'portfolio_metrics: \\n{portfolio_metrics}')"
   ]
  },
  {
   "cell_type": "code",
   "execution_count": null,
   "metadata": {},
   "outputs": [],
   "source": []
  }
 ],
 "metadata": {
  "kernelspec": {
   "display_name": "py311-py3.11",
   "language": "python",
   "name": "python3"
  },
  "language_info": {
   "codemirror_mode": {
    "name": "ipython",
    "version": 3
   },
   "file_extension": ".py",
   "mimetype": "text/x-python",
   "name": "python",
   "nbconvert_exporter": "python",
   "pygments_lexer": "ipython3",
   "version": "3.11.9"
  }
 },
 "nbformat": 4,
 "nbformat_minor": 2
}
