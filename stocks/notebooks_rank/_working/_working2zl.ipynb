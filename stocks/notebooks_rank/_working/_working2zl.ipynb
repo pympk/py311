{
 "cells": [
  {
   "cell_type": "code",
   "execution_count": 1,
   "metadata": {},
   "outputs": [
    {
     "name": "stdout",
     "output_type": "stream",
     "text": [
      "✅ Project Root Directory: c:\\Users\\ping\\Files_win10\\python\\py311\\stocks\n",
      "✅ Notebook Directory: c:\\Users\\ping\\Files_win10\\python\\py311\\stocks\\notebooks_rank\\_working\n",
      "✅ Source Directory (for utils): c:\\Users\\ping\\Files_win10\\python\\py311\\stocks\\src\n",
      "✅ Data Directory (for input): c:\\Users\\ping\\Files_win10\\python\\py311\\stocks\\data\n",
      "\n",
      "✅ Successfully imported 'utils' module.\n"
     ]
    }
   ],
   "source": [
    "import sys\n",
    "from pathlib import Path\n",
    "import pandas as pd\n",
    "import os\n",
    "from IPython.display import display, Markdown  # Assuming you use these for display\n",
    "\n",
    "# --- 1. PANDAS OPTIONS (No change) ---\n",
    "# pd.set_option('display.max_rows', 200)  \n",
    "pd.set_option('display.max_columns', None)\n",
    "pd.set_option('display.width', 3000)\n",
    "\n",
    "# --- 2. IPYTHON AUTORELOAD (No change) ---\n",
    "%load_ext autoreload\n",
    "%autoreload 2\n",
    "\n",
    "# --- 3. ROBUST PATH CONFIGURATION (MODIFIED) ---\n",
    "\n",
    "# Get the current working directory of the notebook\n",
    "NOTEBOOK_DIR = Path.cwd()\n",
    "\n",
    "# Find the project ROOT directory by going up from the notebook's location\n",
    "# This is robust and works even if you move the notebook deeper.\n",
    "ROOT_DIR = NOTEBOOK_DIR.parent.parent\n",
    "\n",
    "# Define key project directories relative to the ROOT\n",
    "DATA_DIR = ROOT_DIR / 'data'\n",
    "SRC_DIR = ROOT_DIR / 'src'\n",
    "# You could also define an output directory here if needed\n",
    "OUTPUT_DIR = ROOT_DIR / 'output'\n",
    "\n",
    "# Add the 'src' directory to the Python path so you can import 'utils'\n",
    "if str(SRC_DIR) not in sys.path:\n",
    "    sys.path.append(str(SRC_DIR))\n",
    "\n",
    "# --- 4. VERIFICATION (IMPROVED) ---\n",
    "print(f\"✅ Project Root Directory: {ROOT_DIR}\")\n",
    "print(f\"✅ Notebook Directory: {NOTEBOOK_DIR}\")\n",
    "print(f\"✅ Source Directory (for utils): {SRC_DIR}\")\n",
    "print(f\"✅ Data Directory (for input): {DATA_DIR}\")\n",
    "\n",
    "# Verify that the key directories exist. This helps catch path errors early.\n",
    "assert ROOT_DIR.exists(), f\"ROOT directory not found at: {ROOT_DIR}\"\n",
    "assert SRC_DIR.exists(), f\"Source directory not found at: {SRC_DIR}\"\n",
    "assert DATA_DIR.exists(), f\"Data directory not found at: {DATA_DIR}\"\n",
    "\n",
    "# --- 5. IMPORT YOUR CUSTOM MODULE ---\n",
    "import utils\n",
    "print(\"\\n✅ Successfully imported 'utils' module.\")"
   ]
  },
  {
   "cell_type": "code",
   "execution_count": 2,
   "metadata": {},
   "outputs": [
    {
     "name": "stdout",
     "output_type": "stream",
     "text": [
      "\n",
      "file_list (len(file_list): 76:\n",
      "0: 2025-08-12_df_finviz_merged_stocks_etfs.parquet\n",
      "1: 2025-08-11_df_finviz_merged_stocks_etfs.parquet\n",
      "2: 2025-08-08_df_finviz_merged_stocks_etfs.parquet\n",
      "3: 2025-08-07_df_finviz_merged_stocks_etfs.parquet\n",
      "4: 2025-08-06_df_finviz_merged_stocks_etfs.parquet\n",
      "5: 2025-08-05_df_finviz_merged_stocks_etfs.parquet\n",
      "6: 2025-08-04_df_finviz_merged_stocks_etfs.parquet\n",
      "7: 2025-08-01_df_finviz_merged_stocks_etfs.parquet\n",
      "8: 2025-07-31_df_finviz_merged_stocks_etfs.parquet\n",
      "9: 2025-07-30_df_finviz_merged_stocks_etfs.parquet\n",
      "10: 2025-07-29_df_finviz_merged_stocks_etfs.parquet\n",
      "11: 2025-07-28_df_finviz_merged_stocks_etfs.parquet\n",
      "12: 2025-07-25_df_finviz_merged_stocks_etfs.parquet\n",
      "13: 2025-07-24_df_finviz_merged_stocks_etfs.parquet\n",
      "14: 2025-07-23_df_finviz_merged_stocks_etfs.parquet\n",
      "15: 2025-07-22_df_finviz_merged_stocks_etfs.parquet\n",
      "16: 2025-07-21_df_finviz_merged_stocks_etfs.parquet\n",
      "17: 2025-07-18_df_finviz_merged_stocks_etfs.parquet\n",
      "18: 2025-07-17_df_finviz_merged_stocks_etfs.parquet\n",
      "19: 2025-07-16_df_finviz_merged_stocks_etfs.parquet\n",
      "20: 2025-07-15_df_finviz_merged_stocks_etfs.parquet\n",
      "21: 2025-07-14_df_finviz_merged_stocks_etfs.parquet\n",
      "22: 2025-07-11_df_finviz_merged_stocks_etfs.parquet\n",
      "23: 2025-07-10_df_finviz_merged_stocks_etfs.parquet\n",
      "24: 2025-07-09_df_finviz_merged_stocks_etfs.parquet\n",
      "25: 2025-07-08_df_finviz_merged_stocks_etfs.parquet\n",
      "26: 2025-07-07_df_finviz_merged_stocks_etfs.parquet\n",
      "27: 2025-07-03_df_finviz_merged_stocks_etfs.parquet\n",
      "28: 2025-06-06_df_finviz_merged_stocks_etfs.parquet\n",
      "29: 2025-06-05_df_finviz_merged_stocks_etfs.parquet\n",
      "30: 2025-06-04_df_finviz_merged_stocks_etfs.parquet\n",
      "31: 2025-06-03_df_finviz_merged_stocks_etfs.parquet\n",
      "32: 2025-06-02_df_finviz_merged_stocks_etfs.parquet\n",
      "33: 2025-05-30_df_finviz_merged_stocks_etfs.parquet\n",
      "34: 2025-05-29_df_finviz_merged_stocks_etfs.parquet\n",
      "35: 2025-05-28_df_finviz_merged_stocks_etfs.parquet\n",
      "36: 2025-05-27_df_finviz_merged_stocks_etfs.parquet\n",
      "37: 2025-05-23_df_finviz_merged_stocks_etfs.parquet\n",
      "38: 2025-05-22_df_finviz_merged_stocks_etfs.parquet\n",
      "39: 2025-05-21_df_finviz_merged_stocks_etfs.parquet\n",
      "40: 2025-05-20_df_finviz_merged_stocks_etfs.parquet\n",
      "41: 2025-05-19_df_finviz_merged_stocks_etfs.parquet\n",
      "42: 2025-05-16_df_finviz_merged_stocks_etfs.parquet\n",
      "43: 2025-05-15_df_finviz_merged_stocks_etfs.parquet\n",
      "44: 2025-05-14_df_finviz_merged_stocks_etfs.parquet\n",
      "45: 2025-05-13_df_finviz_merged_stocks_etfs.parquet\n",
      "46: 2025-05-12_df_finviz_merged_stocks_etfs.parquet\n",
      "47: 2025-05-09_df_finviz_merged_stocks_etfs.parquet\n",
      "48: 2025-05-08_df_finviz_merged_stocks_etfs.parquet\n",
      "49: 2025-05-07_df_finviz_merged_stocks_etfs.parquet\n",
      "50: 2025-05-06_df_finviz_merged_stocks_etfs.parquet\n",
      "51: 2025-05-05_df_finviz_merged_stocks_etfs.parquet\n",
      "52: 2025-05-02_df_finviz_merged_stocks_etfs.parquet\n",
      "53: 2025-05-01_df_finviz_merged_stocks_etfs.parquet\n",
      "54: 2025-04-30_df_finviz_merged_stocks_etfs.parquet\n",
      "55: 2025-04-29_df_finviz_merged_stocks_etfs.parquet\n",
      "56: 2025-04-28_df_finviz_merged_stocks_etfs.parquet\n",
      "57: 2025-04-25_df_finviz_merged_stocks_etfs.parquet\n",
      "58: 2025-07-02_df_finviz_merged_stocks_etfs.parquet\n",
      "59: 2025-07-01_df_finviz_merged_stocks_etfs.parquet\n",
      "60: 2025-06-30_df_finviz_merged_stocks_etfs.parquet\n",
      "61: 2025-06-27_df_finviz_merged_stocks_etfs.parquet\n",
      "62: 2025-06-26_df_finviz_merged_stocks_etfs.parquet\n",
      "63: 2025-06-25_df_finviz_merged_stocks_etfs.parquet\n",
      "64: 2025-06-24_df_finviz_merged_stocks_etfs.parquet\n",
      "65: 2025-06-23_df_finviz_merged_stocks_etfs.parquet\n",
      "66: 2025-06-20_df_finviz_merged_stocks_etfs.parquet\n",
      "67: 2025-06-19_df_finviz_merged_stocks_etfs.parquet\n",
      "68: 2025-06-18_df_finviz_merged_stocks_etfs.parquet\n",
      "69: 2025-06-17_df_finviz_merged_stocks_etfs.parquet\n",
      "70: 2025-06-16_df_finviz_merged_stocks_etfs.parquet\n",
      "71: 2025-06-12_df_finviz_merged_stocks_etfs.parquet\n",
      "72: 2025-06-11_df_finviz_merged_stocks_etfs.parquet\n",
      "73: 2025-06-10_df_finviz_merged_stocks_etfs.parquet\n",
      "74: 2025-06-09_df_finviz_merged_stocks_etfs.parquet\n",
      "75: 2025-06-13_df_finviz_merged_stocks_etfs.parquet\n"
     ]
    }
   ],
   "source": [
    "# To get ALL matching files, sorted by recency\n",
    "file_list = utils.get_recent_files(\n",
    "    directory_path=DATA_DIR,\n",
    "    extension='parquet',\n",
    "    prefix='2025',\n",
    "    contains_pattern='df_finviz_merged_stocks_etfs',\n",
    "    # count=None\n",
    "    count=100    \n",
    ")\n",
    "\n",
    "# Print the file_list\n",
    "print(f'\\nfile_list (len(file_list): {len(file_list)}:')\n",
    "for i, f, in enumerate(file_list):\n",
    "    print(f'{i}: {f}')"
   ]
  },
  {
   "cell_type": "code",
   "execution_count": 3,
   "metadata": {},
   "outputs": [
    {
     "name": "stdout",
     "output_type": "stream",
     "text": [
      "Latest df_finviz_merged_stocks_etfs:\n",
      "2025-08-12_df_finviz_merged_stocks_etfs.parquet\n",
      "\n",
      "df_finviz_merged_stocks_etfs.head(20):\n",
      "       No.                                 Company               Index                  Sector                        Industry Country Exchange                                               Info  MktCap AUM, M  Rank  Market Cap, M     P/E  Fwd P/E    PEG    P/S    P/B     P/C   P/FCF  Book/sh  Cash/sh  Dividend %  Dividend TTM Dividend Ex Date  Payout Ratio %    EPS  EPS next Q  EPS this Y %  EPS next Y %  EPS past 5Y %  EPS next 5Y %  Sales past 5Y %  Sales Q/Q %  EPS Q/Q %  EPS YoY TTM %  Sales YoY TTM %  Sales, M  Income, M  EPS Surprise %  Revenue Surprise %  Outstanding, M  Float, M  Float %  Insider Own %  Insider Trans %  Inst Own %  Inst Trans %  Short Float %  Short Ratio  Short Interest, M  ROA %   ROE %  ROIC %  Curr R  Quick R  LTDebt/Eq  Debt/Eq  Gross M %  Oper M %  Profit M %  Perf 3D %  Perf Week %  Perf Month %  Perf Quart %  Perf Half %  Perf Year %  Perf YTD %  Beta    ATR  ATR/Price %  Volatility W %  Volatility M %  SMA20 %  SMA50 %  SMA200 %  50D High %  50D Low %  52W High %  52W Low %         52W Range  All-Time High %  All-Time Low %    RSI  Earnings    IPO Date Optionable Shortable  Employees  Change from Open %  Gap %  Recom  Avg Volume, M  Rel Volume     Volume  Target Price  Prev Close     Open     High      Low    Price  Change %                    Single Category         Asset Type  Expense %  Holdings    AUM, M  Flows 1M, M  Flows% 1M  Flows 3M, M  Flows% 3M  Flows YTD, M  Flows% YTD  Return% 1Y  Return% 3Y  Return% 5Y                            Tags   Sharpe 3d   Sortino 3d    Omega 3d  Sharpe 5d   Sortino 5d    Omega 5d  Sharpe 10d  Sortino 10d  Omega 10d  Sharpe 15d  Sortino 15d  Omega 15d  Sharpe 30d  Sortino 30d  Omega 30d  Sharpe 60d  Sortino 60d  Omega 60d  Sharpe 120d  Sortino 120d  Omega 120d  Sharpe 250d  Sortino 250d  Omega 250d\n",
      "NVDA     1                             NVIDIA Corp  DJIA, NDX, S&P 500              Technology                  Semiconductors     USA     NASD                         Technology, Semiconductors      4469100.0     1      4469100.0   59.00    31.09   1.86  30.09  53.28   83.24   62.02     3.44     2.20        0.02          0.04        6/11/2025            1.16   3.10        1.00           NaN           NaN            NaN            NaN              NaN        69.18      27.60          81.36            86.17  148510.0    76770.0            9.89                1.68        24390.00  23410.00    95.98           4.07            -0.69       66.41          0.24           0.82         1.01             192.12  75.89  115.46   81.82    3.39     2.96       0.12     0.12      70.11     58.03       51.69   1.322122         2.75         11.64         48.91        37.13        74.49       36.39  2.11   4.33     2.364053            2.26            2.30     3.99    13.74     34.42       -0.39      37.80       -0.39     111.45    86.62 - 183.88            -0.39       549379.98  69.43  Aug 27/a   1/22/1999        Yes       Yes    36000.0                0.09   0.51   1.38         190.17        0.76  145225252        186.02      182.06   182.99   184.48   179.46   183.16      0.60                                                              NaN       NaN       NaN          NaN        NaN          NaN        NaN           NaN         NaN         NaN         NaN         NaN                               -    2.612495     6.809931    1.606677  13.067508    43.579583    6.490511    2.245309     4.157891   1.470810    5.131941    10.557636   2.294404    6.286776    13.227023   2.749806    4.826870     9.027692   2.143214     1.245365      1.909578    1.257350     1.067148      1.526174    1.207507\n",
      "MSFT     2                   Microsoft Corporation  DJIA, NDX, S&P 500              Technology       Software - Infrastructure     USA     NASD              Technology, Software - Infrastructure      3933930.0     2      3933930.0   38.80    28.98   2.31  13.96  11.45   41.60   54.93    46.20    12.72        0.67          3.24        8/21/2025           24.34  13.64        3.65           NaN           NaN            NaN            NaN              NaN        18.10      23.77          15.50            14.93  281720.0   101830.0            8.16                3.40         7430.00   7320.00    98.52           1.47            -0.12       73.62          0.48           0.72         2.69              52.64  18.00   33.28   22.93    1.35     1.35       0.29     0.33      68.82     45.62       36.15   1.612779         0.28          5.21         17.80        28.39        31.43       25.56  1.05   9.27     1.751568            1.52            1.60     2.26     6.21     21.23       -4.72      16.18       -4.72      53.50   344.79 - 555.45            -4.72       664118.15  64.33  Jul 30/a   3/13/1986        Yes       Yes   228000.0                1.05   0.38   1.24          19.60        0.95   18653706        621.49      521.77   523.76   530.98   522.70   529.24      1.43                                                              NaN       NaN       NaN          NaN        NaN          NaN        NaN           NaN         NaN         NaN         NaN         NaN                               -   10.201999   223.890855   20.945783   3.300684     7.600147    1.885832    2.916727     6.462894   1.655950    3.402088     7.464639   1.900798    3.397520     7.427681   1.937814    4.016149     8.224424   2.032973     1.824785      3.462050    1.442353     0.990932      1.551584    1.210629\n",
      "AAPL     3                               Apple Inc  DJIA, NDX, S&P 500              Technology            Consumer Electronics     USA     NASD                   Technology, Consumer Electronics      3408100.0     3      3408100.0   34.91    28.93   4.08   8.34  51.83   61.55   35.43     4.43     3.73        0.45          1.02        8/11/2025           16.11   6.58        1.75           NaN           NaN            NaN            NaN              NaN         9.63      12.19           0.15             5.97  408620.0    99280.0            9.18                4.99        14860.00  14830.00    99.79           0.10            -1.50       64.71         -0.44           0.71         1.86             104.63  29.94  149.81   66.96    0.87     0.83       1.25     1.54      46.68     31.87       24.30   4.490379        13.17         10.08          8.95         0.88         7.66       -8.29  1.10   5.28     2.299151            3.17            2.12     7.56    10.52      3.90       -0.58      17.73      -11.71      35.72   169.21 - 260.10           -11.71       360894.04  71.63  Jul 31/a  12/12/1980        Yes       Yes   164000.0                0.75   0.34   1.96          56.19        0.99   55568723        235.51      227.18   227.95   230.80   227.07   229.65      1.09                                                              NaN       NaN       NaN          NaN        NaN          NaN        NaN           NaN         NaN         NaN         NaN         NaN                               -    1.295849     2.929940    1.261020  13.397838    71.050687    9.951545    6.684178    18.537964   3.241606    3.745815     9.413187   2.044271    3.369994     7.553703   1.942554    1.482361     2.560982   1.302607    -0.239335     -0.357822    0.952132     0.165309      0.242838    1.033712\n",
      "GOOG     4                            Alphabet Inc        NDX, S&P 500  Communication Services  Internet Content & Information     USA     NASD  Communication Services, Internet Content & Inf...      2464860.0     4      2464860.0   21.75    19.23   1.50   6.64   6.81   25.91   36.94    29.98     7.88        0.27          0.81         9/8/2025            7.46   9.39        2.33           NaN           NaN            NaN            NaN              NaN        14.06      22.28          34.52            13.19  371210.0   115570.0            5.82                2.54         5440.00   5040.00    92.71          58.31             0.01       27.10         -1.77           0.68         1.26              34.15  25.21   34.83   28.86    1.90     1.90       0.10     0.11      58.92     32.65       31.13   3.487429         4.53         11.68         27.94         8.48        24.61        7.20  1.01   4.11     2.013127            1.79            1.94     5.24    11.60     14.87        0.36      25.00       -2.18      43.11   142.66 - 208.70            -2.18          739.78  73.16  Jul 23/a   3/27/2014        Yes       Yes   183323.0                1.03   0.22   1.46          27.01        0.73   19741753        219.01      201.63   202.08   205.13   201.40   204.16      1.25                                                              NaN       NaN       NaN          NaN        NaN          NaN        NaN           NaN         NaN         NaN         NaN         NaN                               -    7.537402    45.887742    5.088005  11.914367   116.849330   15.721632    3.393228     6.270697   1.767316    5.062514     9.465302   2.345722    6.208167    11.634633   2.750925    3.699840     6.270690   1.792059     0.626749      0.908202    1.110745     0.719458      1.027379    1.129538\n",
      "GOOGL    5                            Alphabet Inc        NDX, S&P 500  Communication Services  Internet Content & Information     USA     NASD  Communication Services, Internet Content & Inf...      2462650.0     5      2462650.0   21.66    19.15   1.49   6.63   6.78   25.88   36.91    29.98     7.86        0.25          0.81         9/8/2025            7.46   9.39        2.33           NaN           NaN            NaN            NaN              NaN        14.06      22.28          34.52            13.19  371210.0   115570.0            5.83                2.54         5820.00   5800.00    99.74          52.05             0.02       38.25         -1.77           0.99         1.42              57.38  25.21   34.83   28.86    1.90     1.90       0.10     0.11      58.92     32.65       31.13   3.470385         4.45         12.00         28.32         9.05        25.50        7.42  1.00   4.13     2.031081            1.82            1.94     5.29    11.76     15.39        0.36      25.52       -1.79      44.70   140.53 - 207.05            -1.79         8367.83  73.05  Jul 23/a   8/19/2004        Yes       Yes   183323.0                1.03   0.13   1.46          40.40        0.75   30375015        219.11      201.00   201.26   204.50   200.59   203.34      1.16                                                              NaN       NaN       NaN          NaN        NaN          NaN        NaN           NaN         NaN         NaN         NaN         NaN                               -    7.555121    46.217689    5.117399  11.950018   127.511048   17.064882    3.435589     6.404795   1.795745    5.224772     9.914552   2.436657    6.302156    11.884567   2.764731    3.648697     6.204278   1.780504     0.670555      0.976408    1.118234     0.737519      1.056411    1.132919\n",
      "AMZN     6                          Amazon.com Inc  DJIA, NDX, S&P 500       Consumer Cyclical                 Internet Retail     USA     NASD                 Consumer Cyclical, Internet Retail      2361960.0     6      2361960.0   33.80    29.31   1.83   3.53   7.07   24.38  175.21    31.31     9.09         NaN           NaN                -            0.00   6.55        1.55           NaN           NaN            NaN            NaN              NaN        13.33      33.48          56.13            10.87  670040.0    70620.0           26.44                3.25        10660.00   9650.00    90.54           9.51            -2.43       64.23         -0.05           0.66         1.46              63.65  11.42   24.77   15.10    1.02     0.81       0.40     0.46      49.61     11.51       10.54  -0.743961         3.61         -1.87          6.15        -5.01        33.58        0.95  1.31   5.00     2.257642            2.14            1.80    -1.59     0.76      5.13       -6.37       9.80       -8.68      37.24   161.38 - 242.52            -8.68       337378.11  48.84  Jul 31/a   5/15/1997        Yes       Yes  1556000.0               -0.35   0.42   1.27          43.56        0.85   37120353        262.78      221.30   222.24   223.50   219.05   221.47      0.08                                                              NaN       NaN       NaN          NaN        NaN          NaN        NaN           NaN         NaN         NaN         NaN         NaN                               -   -9.273161   -10.156142    0.095219  -4.126873    -5.167630    0.485188   -1.860575    -2.214331   0.666740   -1.160625    -1.379899   0.771849    0.156375     0.189194   1.034233    1.168319     1.561479   1.245370     0.061300      0.089460    1.011422     0.835318      1.247019    1.159185\n",
      "META     7                      Meta Platforms Inc        NDX, S&P 500  Communication Services  Internet Content & Information     USA     NASD  Communication Services, Internet Content & Inf...      1984450.0     7      1984450.0   28.61    26.47   2.23  11.10  10.19   42.01   39.58    77.53    18.80        0.22          2.05        6/16/2025            8.38  27.61        6.64           NaN           NaN            NaN            NaN              NaN        21.61      38.30          40.62            19.38  178800.0    71510.0           21.36                6.01         2170.00   2160.00    99.55          13.88            -0.18       68.10         -0.17           1.16         2.02              25.06  27.24   40.65   29.47    1.97     1.97       0.24     0.25      81.95     44.08       39.99   3.697675         3.48          9.58         23.55        10.12        55.01       34.93  1.25  19.17     2.426582            1.83            2.01     7.46    10.11     24.26        0.67      24.85        0.67      64.65   479.80 - 784.75             0.67         4401.42  65.59  Jul 30/a   5/18/2012        Yes       Yes    74067.0                2.20   0.93   1.45          12.41        1.17   14541794        860.86      765.87   773.00   793.67   772.43   790.00      3.15                                                              NaN       NaN       NaN          NaN        NaN          NaN        NaN           NaN         NaN         NaN         NaN         NaN                               -    8.342780    64.983495    6.789190   4.691009    12.982394    2.285492    5.568118    18.923985   3.058854    3.443082    10.021294   2.076440    2.101514     5.411555   1.578276    2.742721     6.446912   1.719682     0.732310      1.210419    1.146984     1.189975      1.934270    1.248096\n",
      "AVGO     8                            Broadcom Inc        NDX, S&P 500              Technology                  Semiconductors     USA     NASD                         Technology, Semiconductors      1471390.0     8      1471390.0  117.60    38.03   4.37  25.79  21.14  155.34   64.83    14.80     2.01        0.76          2.30        6/20/2025          170.61   2.66        1.66           NaN           NaN            NaN            NaN              NaN        20.16     132.81          14.43            33.85   57050.0    12920.0            0.69                0.31         4700.00   4610.00    98.05           1.97            -1.70       77.46          0.69           0.94         2.09              43.47   7.79   18.98    9.84    1.08     0.98       0.89     0.97      61.72     37.90       22.64   2.985910         6.79         13.51         41.18        33.10       114.65       34.93  1.17   8.67     2.771473            2.84            2.90     6.51    13.88     42.97        0.80      33.18        0.80     131.90   134.90 - 310.34             0.80        21730.43  69.18  Sep 04/a    8/6/2009        Yes       Yes    37000.0                2.02   0.90   1.36          20.81        0.84   17579014        300.28      303.90   306.65   313.44   304.67   312.83      2.94                                                              NaN       NaN       NaN          NaN        NaN          NaN        NaN           NaN         NaN         NaN         NaN         NaN                               -    8.722022    78.231255    7.969394  10.134339    78.247061   10.858203    2.636352     4.692389   1.505852    5.992103    10.904212   2.466109    5.308094     9.145124   2.211824    4.535993     7.233181   2.039622     1.463260      2.323385    1.305424     1.447805      2.336211    1.327053\n",
      "TSM      9  Taiwan Semiconductor Manufacturing ADR                   -              Technology                  Semiconductors  Taiwan     NYSE                         Technology, Semiconductors      1266860.0     9      1266860.0   27.81    21.55   1.13  11.94   9.14   14.05   40.65    26.72    17.39        1.38          2.66        9/16/2025           30.18   8.78        2.60           NaN           NaN            NaN            NaN              NaN        45.37      68.50          47.97            38.65  106140.0    45550.0            9.72                5.10         5190.00   5180.00    99.89           0.11             0.00       16.11          0.04           0.54         2.41              28.09  21.47   33.29   24.51    2.37     2.15       0.19     0.21      57.60     48.74       42.92   0.688319         5.08          6.83         30.65        17.48        48.46       23.70  1.24   5.89     2.411069            1.80            2.03     1.74     7.54     23.30       -1.61      28.20       -1.61      81.97   134.25 - 248.28            -1.61         9306.96  59.83  Jul 17/b   10/8/1997        Yes       Yes        NaN                0.40   0.51   1.34          11.64        0.61    7128779        276.73      242.09   243.32   244.77   241.70   244.29      0.91                                                              NaN       NaN       NaN          NaN        NaN          NaN        NaN           NaN         NaN         NaN         NaN         NaN                               -   13.792650  7252.400762  647.095212   9.185197   127.594410   17.075385    0.485857     0.854258   1.093030    0.980810     1.690147   1.192044    2.339057     4.351191   1.474370    3.489838     6.633555   1.758598     1.139805      1.734941    1.219559     0.976069      1.436348    1.184697\n",
      "TSLA    10                               Tesla Inc        NDX, S&P 500       Consumer Cyclical              Auto Manufacturers     USA     NASD              Consumer Cyclical, Auto Manufacturers      1099360.0    10      1099360.0  197.38   138.38  15.30  11.86  14.21   29.44  196.81    23.98    11.58         NaN           NaN                -            0.00   1.73        0.49           NaN           NaN            NaN            NaN              NaN       -11.78     -21.57         -51.64            -2.73   92720.0     6060.0            0.70                0.97         3220.00   2710.00    84.13          15.90            -0.20       48.92          1.19           2.65         0.68              71.99   5.02    8.43    6.93    2.04     1.55       0.13     0.17      17.48      6.23        6.54   5.762249        10.40          7.55          7.05        -2.82        71.41      -15.60  2.06  13.12     3.849313            3.64            3.53     5.99     6.65      4.79       -6.28      24.75      -30.23      75.09   194.67 - 488.54           -30.23        34029.54  60.99  Jul 23/a   6/29/2010        Yes       Yes   125665.0               -1.21   1.76   2.61         105.83        0.76   80317652        313.91      339.03   345.00   345.26   332.94   340.84      0.53                                                              NaN       NaN       NaN          NaN        NaN          NaN        NaN           NaN         NaN         NaN         NaN         NaN                               -   16.255821  7252.400762  647.095212  22.059169  5250.362055  662.483442    5.177256     9.170324   2.234385    1.027134     1.356061   1.187482    2.420615     3.388605   1.509483    0.028906     0.038106   1.005131     0.218412      0.321608    1.039097     0.992422      1.588657    1.190765\n",
      "BRK-B   11                  Berkshire Hathaway Inc             S&P 500               Financial         Insurance - Diversified     USA     NYSE                 Financial, Insurance - Diversified      1015530.0    11      1015530.0   16.12    21.78  23.36   2.74   1.52    2.95  123.47   309.64   159.38         NaN           NaN                -            0.00  29.18        5.50           NaN           NaN            NaN            NaN              NaN        -1.22     -59.28          -7.20             0.01  370150.0    62920.0            3.22                0.60         1360.00   1340.00    98.35          37.99            -0.00       41.21         -0.00           0.87         2.46              11.66   5.54    9.91    7.94    7.72     7.31       0.19     0.19      24.15     15.58       17.00   1.932953         1.34         -1.24         -8.54         0.05         9.00        3.77  0.79   7.07     1.503008            1.45            1.40    -0.46    -2.14     -3.11       -6.99       3.34      -13.22      10.45   425.90 - 542.07           -13.22         2275.71  46.38  Aug 04/b    5/9/1996        Yes       Yes   392400.0                1.05   0.16   2.33           4.74        0.79    3760199        525.19      464.73   465.49   472.47   465.06   470.39      1.22                                                              NaN       NaN       NaN          NaN        NaN          NaN        NaN           NaN         NaN         NaN         NaN         NaN                               -    8.590153    73.192280    7.520487   0.871610     1.357431    1.156281   -1.550164    -1.912416   0.775953   -2.609167    -3.112466   0.650517   -2.361673    -2.765391   0.671941   -2.979513    -3.489362   0.615978    -0.281726     -0.375653    0.947680     0.328568      0.460144    1.062924\n",
      "WMT     13                             Walmart Inc       DJIA, S&P 500      Consumer Defensive                 Discount Stores     USA     NYSE                Consumer Defensive, Discount Stores       826930.0    13       826930.0   44.45    35.31   4.76   1.21   9.88   88.81   61.20    10.49     1.17        0.90          0.89        8/15/2025           34.51   2.33        0.73           NaN           NaN            NaN            NaN              NaN         2.54     -12.07          -0.17             4.22  685090.0    18820.0            5.99               -0.01         7990.00   4350.00    54.43          45.53            -0.87       35.88          0.34           0.85         2.23              37.08   7.29   22.80   13.54    0.78     0.22       0.66     0.80      24.88      4.33        2.75   0.484872         4.34          8.19          7.10         0.68        53.15       14.69  0.65   1.56     1.505501            1.92            1.44     5.03     6.18     10.59       -1.05      10.91       -1.60      54.33    67.14 - 105.30            -1.60        32784.40  73.19  Aug 21/b  11/20/1972        Yes       Yes  2100000.0               -0.47   0.17   1.36          16.66        1.02   16992686        111.83      103.93   104.11   104.31   103.37   103.62     -0.30                                                              NaN       NaN       NaN          NaN        NaN          NaN        NaN           NaN         NaN         NaN         NaN         NaN                               -   -3.136396    -4.902869    0.563218   1.825596     3.775107    1.338628    7.709410    63.111544   7.918862    7.762131    36.391183   5.826787    2.466967     4.432945   1.599036    1.242795     2.041328   1.241082     0.521211      0.818307    1.100597     1.748877      2.731717    1.375683\n",
      "JPM     14                     JPMorgan Chase & Co       DJIA, S&P 500               Financial             Banks - Diversified     USA     NYSE                     Financial, Banks - Diversified       805270.0    14       805270.0   15.03    14.23   2.36   2.89   2.39     NaN   20.10   122.51      NaN        1.98          5.30         7/3/2025           24.30  19.49        4.66           NaN           NaN            NaN            NaN              NaN        -8.05     -14.44           8.73             4.00  278820.0    55150.0           16.88                2.51         2750.00   2740.00    99.63           0.37           -10.79       74.59         -0.69           0.83         2.64              22.70   1.29   16.13    6.78    1.16      NaN       1.28     3.13        NaN     27.19       19.78   2.059664         0.51          1.44         12.61         8.05        43.51       22.17  1.13   5.31     1.813215            1.65            1.72     0.00     3.11     14.17       -2.80      12.50       -2.80      45.98   200.61 - 301.29            -2.80         9050.14  54.63  Jul 15/b    3/5/1969        Yes       Yes   317233.0                0.46   0.67   2.25           8.58        1.00    8568840        311.29      289.56   291.50   294.75   290.34   292.85      1.14                                                              NaN       NaN       NaN          NaN        NaN          NaN        NaN           NaN         NaN         NaN         NaN         NaN                               -   18.049469  7252.400762  647.095212   1.618769     2.441072    1.307546   -3.145383    -3.926209   0.609025   -1.506973    -1.939620   0.780211    0.479220     0.653272   1.082921    2.210573     3.303142   1.432619     0.763923      1.057961    1.153189     1.329495      2.014720    1.298218\n",
      "VOO      1                    Vanguard S&P 500 ETF                   -               Financial            Exchange Traded Fund     USA     NYSE  Financial, Exchange Traded Fund, US Equities -...       718210.0    15            NaN     NaN      NaN    NaN    NaN    NaN     NaN     NaN      NaN      NaN        1.17          6.93        6/30/2025             NaN    NaN         NaN           NaN           NaN            NaN            NaN              NaN          NaN        NaN            NaN              NaN       NaN        NaN             NaN                 NaN             NaN       NaN      NaN            NaN              NaN         NaN           NaN            NaN         0.65               4.15    NaN     NaN     NaN     NaN      NaN        NaN      NaN        NaN       NaN         NaN   1.632576         2.33          2.86         10.24         6.23        21.13        9.65  1.01   5.37     0.908968            0.86            0.78     1.67     3.96      8.86        0.45      10.19        0.45      33.42   442.80 - 588.16             0.45          501.36  66.46         -    9/9/2010        Yes       Yes        NaN                0.68   0.38    NaN           6.38        0.91    5788105           NaN      584.54   586.79   590.96   585.43   590.78      1.07  US Equities - Broad Market & Size  Equities (Stocks)       0.03     507.0  718210.0      10110.0       1.43      17970.0       2.57       77590.0       12.11       23.85       16.97       15.66  U.S., equity, SP500, large-cap    7.330172    42.251702    4.764081   9.616404    51.147654    6.069275    2.155743     3.495438   1.416216    1.705526     2.719374   1.353638    3.116005     5.052885   1.699719    2.878857     4.663783   1.622776     0.459123      0.686350    1.098943     0.862874      1.275178    1.189052\n",
      "ORCL    15                             Oracle Corp             S&P 500              Technology       Software - Infrastructure     USA     NYSE              Technology, Software - Infrastructure       713050.0    16       713050.0   58.48    30.98   3.11  12.42  34.84   63.65     NaN     7.29     3.99        0.72          1.80        7/10/2025           39.16   4.34        1.48           NaN           NaN            NaN            NaN              NaN        11.31       7.64          16.96             8.38   57400.0    12440.0            3.50                2.06         2810.00   1640.00    58.52          41.52            -0.78       44.53          0.22           1.26         1.58              20.69   8.04   85.36   10.37    0.75     0.74       4.87     5.33      66.49     31.45       21.68   1.792373        -0.71         10.72         61.47        41.88        96.85       52.34  1.47   7.08     2.788939            2.85            2.56     2.28    13.45     42.37       -2.69      57.14       -2.69     113.58   118.86 - 260.87            -2.69       632597.26  63.45  Jun 11/a   3/12/1986        Yes       Yes   162000.0                0.51  -0.04   1.86          13.09        0.76    9916817        245.85      252.68   252.58   257.87   251.08   253.86      0.47                                                              NaN       NaN       NaN          NaN        NaN          NaN        NaN           NaN         NaN         NaN         NaN         NaN                               -   28.543217  7252.400762  647.095212  -2.389744    -2.947663    0.628629    1.101811     1.529386   1.206520    3.185758     4.414110   1.743413    4.187649     7.292152   1.968589    4.808405    12.345922   2.561490     1.800893      3.058654    1.373037     1.624347      2.576538    1.356506\n",
      "SPY      2                  SPDR S&P 500 ETF Trust                   -               Financial            Exchange Traded Fund     USA     NYSE  Financial, Exchange Traded Fund, US Equities -...       652120.0    17            NaN     NaN      NaN    NaN    NaN    NaN     NaN     NaN      NaN      NaN        1.12          7.17        6/20/2025             NaN    NaN         NaN           NaN           NaN            NaN            NaN              NaN          NaN        NaN            NaN              NaN       NaN        NaN             NaN                 NaN             NaN       NaN      NaN            NaN              NaN         NaN           NaN            NaN         1.55             112.12    NaN     NaN     NaN     NaN      NaN        NaN      NaN        NaN       NaN         NaN   1.651246         2.34          2.86         10.24         6.26        21.11        9.66  1.01   5.87     0.913349            0.87            0.78     1.66     3.99      8.88        0.44      10.19        0.44      33.39   481.80 - 639.85             0.44         1410.24  66.32         -   1/29/1993        Yes       Yes        NaN                0.70   0.36    NaN          72.24        0.89   64566574           NaN      635.92   638.23   642.85   636.79   642.69      1.06  US Equities - Broad Market & Size  Equities (Stocks)       0.09     504.0  652120.0        652.1       0.10       3440.0       0.53      -23590.0       -3.49       23.77       16.89       15.59             U.S., equity, SP500    7.425900    43.882041    4.909323   9.500353    50.489005    5.786463    2.147881     3.493432   1.411094    1.667082     2.668550   1.342703    3.134032     5.109627   1.703291    2.881811     4.669161   1.626277     0.444385      0.677806    1.099569     0.828199      1.243458    1.187803\n",
      "IVV      3                iShares Core S&P 500 ETF                   -               Financial            Exchange Traded Fund     USA     NYSE  Financial, Exchange Traded Fund, US Equities -...       650000.0    18            NaN     NaN      NaN    NaN    NaN    NaN     NaN     NaN      NaN      NaN        1.24          8.00        6/16/2025             NaN    NaN         NaN           NaN           NaN            NaN            NaN              NaN          NaN        NaN            NaN              NaN       NaN        NaN             NaN                 NaN             NaN       NaN      NaN            NaN              NaN         NaN           NaN            NaN         1.28               7.49    NaN     NaN     NaN     NaN      NaN        NaN      NaN        NaN       NaN         NaN   1.620924         2.32          2.87         10.25         6.25        21.02        9.69  1.01   5.86     0.907486            0.87            0.78     1.66     4.01      8.90        0.44      10.19        0.44      33.42   484.00 - 642.94             0.44          863.20  66.61         -   5/19/2000        Yes       Yes        NaN                0.67   0.38    NaN           5.86        0.76    4484566           NaN      638.98   641.43   645.99   639.91   645.74      1.06  US Equities - Broad Market & Size  Equities (Stocks)       0.03     509.0  650000.0       7350.0       1.14      14980.0       2.36       15940.0        2.51       23.82       16.98       15.66  U.S., equity, SP500, large-cap    7.396639    43.375053    4.864157   9.707951    52.687824    6.253237    2.157745     3.519242   1.415096    1.660742     2.664087   1.343447    3.155644     5.173603   1.709484    2.904584     4.736180   1.629328     0.454189      0.680691    1.099206     0.855387      1.266627    1.188986\n",
      "V       16                                Visa Inc       DJIA, S&P 500               Financial                 Credit Services     USA     NYSE                         Financial, Credit Services       648760.0    19       648760.0   33.24    26.22   2.56  16.68  17.20   28.31   29.38    19.58    11.89        0.71          2.36        8/12/2025           21.69  10.13        2.97           NaN           NaN            NaN            NaN              NaN        14.29      12.61           7.43            11.38   38890.0    20060.0            4.68                3.29         1700.00   1690.00    99.55          12.07            -0.11       80.40          0.41           1.66         4.27              28.08  21.00   51.18   34.44    1.12     1.12       0.51     0.65      77.20     67.32       51.58   1.400223        -0.20         -3.93         -5.37        -4.13        29.60        6.55  0.92   6.12     1.817426            1.89            1.59    -2.69    -4.41      0.33      -10.32       2.45      -10.32      30.15   258.74 - 375.51           -10.32         3123.93  39.32  Jul 29/a   3/19/2008        Yes       Yes    31600.0                0.07   0.18   1.60           6.58        0.86    5678471        397.03      335.90   336.51   338.65   334.81   336.74      0.25                                                              NaN       NaN       NaN          NaN        NaN          NaN        NaN           NaN         NaN         NaN         NaN         NaN                               -   -0.943216    -1.740205    0.844970  -2.372601    -3.176226    0.640765   -5.585324    -6.186629   0.426198   -5.564654    -6.097191   0.418935   -3.048007    -3.600114   0.621980   -1.652201    -1.917963   0.745663    -0.314322     -0.415310    0.942205     1.114913      1.555697    1.235715\n",
      "LLY     17                         Lilly(Eli) & Co             S&P 500              Healthcare    Drug Manufacturers - General     USA     NYSE           Healthcare, Drug Manufacturers - General       605190.0    20       605190.0   42.40    21.20   1.01  11.36  33.13  170.67  123.89    19.30     3.75        0.97          5.60        8/15/2025           44.39  15.08        6.26           NaN           NaN            NaN            NaN              NaN        37.64      91.71          88.21            36.83   53260.0    13800.0           12.70                5.80          946.83    848.74    89.64          10.32            -0.96       73.71          0.55           0.85         1.67               7.17  15.97   86.70   26.31    1.28     1.00       1.87     2.18      82.64     42.13       25.91  -0.223138       -16.52        -20.01        -15.37       -26.41       -24.36      -17.17  0.48  27.77     4.342930            4.52            3.15   -14.37   -16.79    -19.73      -22.49       2.51      -34.25       2.51   623.78 - 972.53           -34.25        19203.55  28.38  Aug 07/b    7/9/1970        Yes       Yes    47000.0               -0.09   0.75   1.57           4.29        1.60    6841710        933.42      635.22   640.00   646.18   629.40   639.43      0.66                                                              NaN       NaN       NaN          NaN        NaN          NaN        NaN           NaN         NaN         NaN         NaN         NaN                               -   27.978376  7252.400762  647.095212  -7.889206    -7.952936    0.130618   -5.657142    -5.768882   0.271104   -5.627539    -5.629401   0.267820   -3.012857    -3.196368   0.524188   -1.655793    -1.846612   0.712485    -1.197689     -1.512897    0.794475    -0.783235     -1.001355    0.861874\n",
      "NFLX    18                             Netflix Inc        NDX, S&P 500  Communication Services                   Entertainment     USA     NASD              Communication Services, Entertainment       520650.0    21       520650.0   52.21    37.96   2.05  12.56  20.87   62.03   61.25    58.72    19.75         NaN           NaN                -            0.00  23.47        6.93           NaN           NaN            NaN            NaN              NaN        16.70      47.18          46.86            14.28   41460.0    10250.0            1.75                0.20          424.93    422.15    99.35           0.66           -11.10       84.12          0.12           1.51         1.91               6.39  20.05   43.55   24.73    1.34     1.34       0.66     0.68      48.21     29.12       24.72   3.804739         6.74         -2.91         10.39        19.24        94.38       37.47  1.60  27.46     2.241120            2.25            2.25     2.65    -0.45     19.60       -8.64       7.04       -8.64      95.40  627.07 - 1341.15            -8.64       353589.44  54.99  Jul 17/a   5/23/2002        Yes       Yes    14000.0                0.02   0.55   1.94           3.35        0.68    2276556       1353.79     1218.31  1225.00  1231.99  1206.51  1225.28      0.57                                                              NaN       NaN       NaN          NaN        NaN          NaN        NaN           NaN         NaN         NaN         NaN         NaN                               -  566.614144  7252.400762  647.095212  13.626066  5250.362055  662.483442    3.536963     6.177396   1.809441    3.207072     5.599036   1.751611   -1.678584    -2.062409   0.750432    0.441290     0.588036   1.076882     1.126600      1.613584    1.216249     1.991268      3.188245    1.430601\n"
     ]
    }
   ],
   "source": [
    "latest_df_finviz_merged_stocks_etfs = file_list[0]\n",
    "print(f'Latest df_finviz_merged_stocks_etfs:\\n{latest_df_finviz_merged_stocks_etfs}')\n",
    "# Verify by loading it back\n",
    "df_finviz_merged_stocks_etfs = pd.read_parquet(DATA_DIR / latest_df_finviz_merged_stocks_etfs, engine='pyarrow')\n",
    "\n",
    "print(f'\\ndf_finviz_merged_stocks_etfs.head(20):\\n{df_finviz_merged_stocks_etfs.head(20)}')"
   ]
  },
  {
   "cell_type": "code",
   "execution_count": 4,
   "metadata": {},
   "outputs": [
    {
     "name": "stdout",
     "output_type": "stream",
     "text": [
      "Are these tickers in the df_finviz_merged_stocks_etfs index?\n",
      "AVAV: True\n",
      "RKLB: True\n",
      "JOBY: True\n",
      "SYM : True\n",
      "SOFI: True\n",
      "MRNA: True\n",
      "SN  : True\n",
      "U   : True\n",
      "EVR : False\n",
      "CG  : True\n"
     ]
    }
   ],
   "source": [
    "tickers_to_check = ['AVAV', 'RKLB', 'JOBY', 'SYM', 'SOFI', 'MRNA', 'SN', 'U', 'EVR', 'CG']\n",
    "# Check if items are in the DataFrame index\n",
    "is_in_index = [ticker in df_finviz_merged_stocks_etfs .index for ticker in tickers_to_check]\n",
    "# Print tickers next to their corresponding True or False values\n",
    "print((f'Are these tickers in the df_finviz_merged_stocks_etfs index?'))\n",
    "for ticker, is_in in zip(tickers_to_check, is_in_index):\n",
    "    print(f\"{ticker.ljust(4)}: {is_in}\")"
   ]
  },
  {
   "cell_type": "code",
   "execution_count": 5,
   "metadata": {},
   "outputs": [],
   "source": [
    "import pandas as pd\n",
    "from pathlib import Path\n",
    "import matplotlib.pyplot as plt\n",
    "import seaborn as sns\n",
    "\n",
    "def create_rank_history_df(file_list, data_dir):\n",
    "    \"\"\"\n",
    "    Reads daily files to compile a history of ranks for each ticker.\n",
    "\n",
    "    Args:\n",
    "        file_list (list): A list of sorted parquet filenames.\n",
    "        data_dir (Path): The directory where files are stored.\n",
    "\n",
    "    Returns:\n",
    "        pd.DataFrame: A DataFrame with tickers as the index, dates as columns,\n",
    "                      and ranks as the values. NaN indicates the ticker was not\n",
    "                      present on that day.\n",
    "    \"\"\"\n",
    "    daily_ranks_list = []\n",
    "    for filename in file_list:\n",
    "        # Extract the date string from the start of the filename\n",
    "        date_str = filename.split('_')[0]\n",
    "        \n",
    "        # Read the daily data file\n",
    "        df_daily = pd.read_parquet(data_dir / filename)\n",
    "        \n",
    "        # Extract the 'Rank' column (it's a Series with tickers as its index)\n",
    "        ranks_series = df_daily['Rank']\n",
    "        \n",
    "        # Rename the Series to the date, which will become the column name\n",
    "        ranks_series.name = pd.to_datetime(date_str)\n",
    "        \n",
    "        daily_ranks_list.append(ranks_series)\n",
    "\n",
    "    # Concatenate all Series into a single DataFrame, aligning on the ticker index\n",
    "    df_tickers_rank_history = pd.concat(daily_ranks_list, axis=1)\n",
    "    \n",
    "    # Sort columns by date just in case the file list wasn't perfectly sorted\n",
    "    df_tickers_rank_history = df_tickers_rank_history.sort_index(axis=1)\n",
    "    \n",
    "    return df_tickers_rank_history\n"
   ]
  },
  {
   "cell_type": "code",
   "execution_count": 6,
   "metadata": {},
   "outputs": [],
   "source": [
    "import plotly.express as px\n",
    "import pandas as pd\n",
    "import math\n",
    "\n",
    "def plot_rank_with_criteria(df_rank_history, ticker_list, title_suffix=\"\", filter_criteria=None,\n",
    "                            width=1100, height=700):\n",
    "    \"\"\"\n",
    "    Plots rank history with period markers, interactive buttons, and size controls.\n",
    "    - Adds vertical lines and shaded regions for lookback and recent periods.\n",
    "    - 'Clear All' sets traces to 'legendonly', hiding them and graying out the legend item.\n",
    "    - 'Reset View' makes all traces fully visible.\n",
    "    \n",
    "    Args:\n",
    "        df_rank_history (pd.DataFrame): The full rank history DataFrame.\n",
    "        ticker_list (list): A list of ticker symbols to plot.\n",
    "        title_suffix (str, optional): Text to append to the main plot title.\n",
    "        filter_criteria (dict, optional): A dictionary of filter parameters to display.\n",
    "        width (int, optional): The width of the figure in pixels.\n",
    "        height (int, optional): The height of the figure in pixels.\n",
    "    \"\"\"\n",
    "    \n",
    "    if not ticker_list:\n",
    "        print(\"Ticker list is empty. Nothing to plot.\")\n",
    "        return\n",
    "\n",
    "    # Prepare data for plotting\n",
    "    plot_df = df_rank_history.loc[ticker_list].T\n",
    "    plot_df.index = pd.to_datetime(plot_df.index)\n",
    "\n",
    "    custom = px.colors.qualitative.Plotly.copy()\n",
    "    # Replace the 7th color '#B6E880' with '#1F77B4' with a darker blue\n",
    "    custom[7] = '#1F77B4'        \n",
    "\n",
    "    fig = px.line(\n",
    "        plot_df, \n",
    "        x=plot_df.index, \n",
    "        y=plot_df.columns,\n",
    "        # Line color sequence \n",
    "        color_discrete_sequence=custom,\n",
    "        title=f\"Rank History: {title_suffix}\",\n",
    "        labels={'value': 'Rank', 'x': 'Date', 'variable': 'Ticker'}\n",
    "    )\n",
    "\n",
    "    # Force x-axis title as \"Date\"\n",
    "    fig.update_xaxes(title_text=\"Date\", title_standoff=25)\n",
    "\n",
    "    # Y-Axis configuration (unchanged and correct)\n",
    "    fig.update_yaxes(\n",
    "        autorange=\"reversed\", \n",
    "        dtick=100,\n",
    "        showgrid=True,\n",
    "        gridcolor='LightGrey'\n",
    "    )\n",
    "    \n",
    "    # --- CORRECTED X-Axis configuration ---\n",
    "    fig.update_xaxes(\n",
    "        type='date',  # Ensures the axis is treated as a continuous date axis\n",
    "        \n",
    "        # --- Major Ticks and Grid (for labels) ---\n",
    "        showgrid=True,\n",
    "        gridcolor='LightGrey',\n",
    "        dtick=\"D7\",  #<-- MAJOR CHANGE: Place labels and major grid lines only every 7 days\n",
    "        tickformat=\"%b %d\",  # Format as \"May 04\". Now readable with weekly spacing.\n",
    "\n",
    "        # --- Minor Ticks and Grid (for dense grid lines WITHOUT labels) ---\n",
    "        minor=dict(\n",
    "            showgrid=True, \n",
    "            gridcolor=\"rgba(235, 235, 235, 0.5)\", # A fainter color for minor lines\n",
    "            dtick=\"D1\" #<-- Place an unlabeled minor grid line every 1 day\n",
    "        )\n",
    "    )\n",
    "\n",
    "    # --- Vertical lines and shaded regions section (unchanged) ---\n",
    "    if filter_criteria and 'recent_days' in filter_criteria and 'lookback_days' in filter_criteria:\n",
    "        recent_days = filter_criteria.get('recent_days', 0)\n",
    "        lookback_days = filter_criteria.get('lookback_days', 0)\n",
    "        all_dates = pd.to_datetime(df_rank_history.columns)\n",
    "        if len(all_dates) >= (lookback_days + recent_days):\n",
    "            last_date = all_dates[-1]\n",
    "            recent_period_start_date = all_dates[-recent_days]\n",
    "            lookback_period_end_date = all_dates[-(recent_days + 1)]\n",
    "            lookback_period_start_date = all_dates[-(recent_days + lookback_days)]\n",
    "            fig.add_vrect(x0=recent_period_start_date, x1=last_date, fillcolor=\"LightSkyBlue\", opacity=0.2, layer=\"below\", line_width=0, annotation_text=\"Recent\", annotation_position=\"top left\")\n",
    "            fig.add_vrect(x0=lookback_period_start_date, x1=lookback_period_end_date, fillcolor=\"LightGreen\", opacity=0.2, layer=\"below\", line_width=0, annotation_text=\"Lookback\", annotation_position=\"top left\")\n",
    "            fig.add_vline(x=recent_period_start_date, line_width=2, line_dash=\"dash\", line_color=\"grey\")\n",
    "\n",
    "    # --- Interactive buttons section (unchanged) ---\n",
    "    num_traces = len(fig.data)\n",
    "    fig.update_layout(\n",
    "        updatemenus=[\n",
    "            dict(\n",
    "                type=\"buttons\", direction=\"left\", x=0.01, xanchor=\"left\",\n",
    "                y=1.1, yanchor=\"top\", showactive=False,\n",
    "                buttons=list([\n",
    "                    dict(label=\"Reset View\", method=\"restyle\", args=[{\"visible\": [True] * num_traces}]),\n",
    "                    dict(label=\"Clear All\", method=\"restyle\", args=[{\"visible\": ['legendonly'] * num_traces}]),\n",
    "                ]),\n",
    "            )\n",
    "        ]\n",
    "    )\n",
    "    \n",
    "    # --- Filter criteria annotation section (unchanged) ---\n",
    "    criteria_text = \"\"\n",
    "    num_rows = 0\n",
    "    if filter_criteria:\n",
    "        active_criteria = {k: v for k, v in filter_criteria.items() if v is not None}\n",
    "        col_width = 38\n",
    "        criteria_lines = []\n",
    "        items = list(active_criteria.items())\n",
    "        for i in range(0, len(items), 3):\n",
    "            chunk = items[i:i+3]\n",
    "            line_parts = [f\"{f'  • {k}: {v}':<{col_width}}\" for k, v in chunk]\n",
    "            criteria_lines.append(\"\".join(line_parts))\n",
    "        num_rows = len(criteria_lines)\n",
    "        criteria_text = \"<b>Filter Criteria:</b><br>\" + \"<br>\".join(criteria_lines)\n",
    "\n",
    "    if criteria_text:\n",
    "        FONT_SIZE = 14                       # whatever you want\n",
    "        LINE_HEIGHT = FONT_SIZE * 1.4        # ~40 % leading is comfortable\n",
    "\n",
    "        criteria_text = \"<b>Filter Criteria:</b><br>\" + \"<br>\".join(criteria_lines)\n",
    "\n",
    "        fig.add_annotation(\n",
    "            showarrow=False,\n",
    "            text=criteria_text,\n",
    "            xref=\"paper\", yref=\"paper\",\n",
    "            x=0, y=-0.25,            \n",
    "            xanchor=\"left\", yanchor=\"top\",\n",
    "            align=\"left\",\n",
    "            font=dict(family=\"Courier New, monospace\", size=FONT_SIZE)\n",
    "        )\n",
    "\n",
    "\n",
    "    # compute y-range manually\n",
    "    y_vals = plot_df.values.ravel()          # all y values\n",
    "    y_range = (y_vals.min(), y_vals.max())\n",
    "    \n",
    "    # ------------------------------------------------------------------\n",
    "    # horizontal red boundary lines – use the data range we just computed\n",
    "    # ------------------------------------------------------------------\n",
    "    y_min, y_max = y_range       # comes from the manual computation above\n",
    "\n",
    "    # xref and yref = \"paper\", uses plot area as a reference. \n",
    "    # x0, y0 = 0, 0 is lower left corner\n",
    "    # x1, y1 = 1, 1 is upper right corner\n",
    "    fig.add_shape(type=\"line\",\n",
    "                  xref=\"paper\", yref=\"paper\",\n",
    "                  x0=0, x1=1,\n",
    "                  y0=1, y1=1,  \n",
    "                  line=dict(color=\"red\", width=2))  # top of plot area\n",
    "\n",
    "    fig.add_shape(type=\"line\",\n",
    "                  xref=\"paper\", yref=\"paper\",\n",
    "                  x0=0, x1=1,\n",
    "                  y0=0, y1=0,  \n",
    "                  line=dict(color=\"blue\", width=2))  # bottom of plot area\n",
    "\n",
    "    # # optional thin line just below the filter-text annotation\n",
    "    # fig.add_shape(type=\"line\",\n",
    "    #               xref=\"paper\", yref=\"paper\",\n",
    "    #               x0=0, x1=1,\n",
    "    #               y0=-0.05, y1=-0.05,                 \n",
    "    #               line=dict(color=\"green\", width=2))  # line 5% below the plot area\n",
    "\n",
    "\n",
    "    # --- Layout update section (unchanged) ---\n",
    "    bottom_margin = 140 + num_rows * LINE_HEIGHT\n",
    "    fig.update_layout(width=width, height=height, margin=dict(b=bottom_margin))\n",
    "\n",
    "    # Set the x-axis range to a suitable range\n",
    "    fig.update_xaxes(range=[plot_df.index.min(), plot_df.index.max()])\n",
    "\n",
    "    fig.show()\n",
    "    return fig"
   ]
  },
  {
   "cell_type": "code",
   "execution_count": 7,
   "metadata": {},
   "outputs": [],
   "source": [
    "import pandas as pd\n",
    "import numpy as np\n",
    "\n",
    "def calculate_rank_metrics(df_rank_history, tickers_list, lookback_days=20, recent_days=4):\n",
    "    \"\"\"\n",
    "    Calculates a comprehensive set of rank metrics for a given list of tickers.\n",
    "\n",
    "    This function does NOT filter tickers based on performance criteria. It processes\n",
    "    every ticker provided in the tickers_list and returns its calculated metrics,\n",
    "    making it suitable for generating features for analysis or other models.\n",
    "\n",
    "    Args:\n",
    "        df_rank_history (pd.DataFrame): DataFrame with tickers as index and dates as columns.\n",
    "        tickers_list (list): A list of ticker symbols to calculate metrics for.\n",
    "        lookback_days (int): The number of days for the \"lookback\" period.\n",
    "        recent_days (int): The number of days for the \"recent\" period.\n",
    "\n",
    "    Returns:\n",
    "        list: A list of dictionaries, where each dictionary contains the calculated\n",
    "              rank metrics for one ticker. Tickers with insufficient data in the\n",
    "              specified period are skipped.\n",
    "    \"\"\"\n",
    "    # --- Guard Clause & Date Setup ---\n",
    "    total_days_needed = lookback_days + recent_days\n",
    "    if len(df_rank_history.columns) < total_days_needed:\n",
    "        print(f\"Error: Not enough data. Need {total_days_needed} days, have {len(df_rank_history.columns)}.\")\n",
    "        return []\n",
    "\n",
    "    all_dates = df_rank_history.columns\n",
    "    last_date = all_dates[-1]\n",
    "    recent_period_start_date = all_dates[-recent_days]\n",
    "    lookback_period_end_date = all_dates[-(recent_days + 1)]\n",
    "    lookback_period_start_date = all_dates[-(recent_days + lookback_days)]\n",
    "    \n",
    "    lookback_dates = df_rank_history.loc[:, lookback_period_start_date:lookback_period_end_date].columns\n",
    "    recent_dates = df_rank_history.loc[:, recent_period_start_date:last_date].columns\n",
    "    \n",
    "    all_ticker_metrics = []\n",
    "\n",
    "    print(f\"Calculating metrics for {len(tickers_list)} tickers...\")\n",
    "\n",
    "    # --- Calculation Loop ---\n",
    "    for ticker in tickers_list:\n",
    "        # Skip if ticker is not in the dataframe index\n",
    "        if ticker not in df_rank_history.index:\n",
    "            continue\n",
    "\n",
    "        lookback_ranks = df_rank_history.loc[ticker, lookback_dates].dropna()\n",
    "        recent_ranks = df_rank_history.loc[ticker, recent_dates].dropna()\n",
    "        \n",
    "        # Skip if there's not enough data for this specific ticker in the required periods\n",
    "        if len(lookback_ranks) < lookback_days or len(recent_ranks) < recent_days:\n",
    "            continue\n",
    "            \n",
    "        # --- Perform all calculations without any filtering 'if' statements ---\n",
    "        slope, _ = np.polyfit(np.arange(len(lookback_ranks)), lookback_ranks, 1)\n",
    "        all_ranks_in_period = pd.concat([lookback_ranks, recent_ranks])\n",
    "\n",
    "        # Key reference points\n",
    "        current_rank = int(recent_ranks.iloc[-1])\n",
    "        rank_at_start_of_recent = int(recent_ranks.iloc[0])\n",
    "        recent_bottom_rank = int(recent_ranks.max()) # Worst rank in recent period\n",
    "        total_peak_rank = int(all_ranks_in_period.min()) # Best rank over the whole period\n",
    "        \n",
    "        # This dictionary holds all calculated metrics for one ticker\n",
    "        metrics_dict = {\n",
    "            'ticker': ticker,\n",
    "            'lookback_slope': round(slope, 2),\n",
    "            \n",
    "            # Key Ranks\n",
    "            'current': current_rank,\n",
    "            'recent_start': rank_at_start_of_recent,\n",
    "            'lookback_start': int(lookback_ranks.iloc[0]),\n",
    "            'lookback_end': int(lookback_ranks.iloc[-1]),\n",
    "\n",
    "            # Best/Worst Ranks by Period\n",
    "            'best_lookback': int(lookback_ranks.min()),\n",
    "            'worst_lookback': int(lookback_ranks.max()),\n",
    "            'best_recent': int(recent_ranks.min()),\n",
    "            'worst_recent': recent_bottom_rank, # Same value, more descriptive name\n",
    "            'best_total': total_peak_rank,\n",
    "            'worst_total': int(all_ranks_in_period.max()),\n",
    "\n",
    "            # Derived Metrics (using clearer names)\n",
    "            'current_to_total_peak': current_rank - total_peak_rank,\n",
    "            'current_to_recent_start': current_rank - rank_at_start_of_recent,\n",
    "            'recent_bottom_to_recent_start': recent_bottom_rank - rank_at_start_of_recent,\n",
    "            'recent_bottom_to_current': recent_bottom_rank - current_rank,\n",
    "        }\n",
    "        all_ticker_metrics.append(metrics_dict)\n",
    "\n",
    "    return all_ticker_metrics"
   ]
  },
  {
   "cell_type": "code",
   "execution_count": 8,
   "metadata": {},
   "outputs": [],
   "source": [
    "import pandas as pd\n",
    "\n",
    "def filter_rank_metrics(\n",
    "    all_metrics_data,\n",
    "    min_lookback_improvement=15,\n",
    "    # --- Mode-specific parameters ---\n",
    "    min_current_to_recent_start=None,  # Only used in 'Dip' mode, positive number means recent_start is better than current \n",
    "    min_recent_bottom_to_recent_start=None, # Only used in 'Reversal' mode, positive number means recent_start is better than recent_bottom\n",
    "    min_recent_bottom_to_current=None,  # Only used in 'Reversal' mode, positive number means current is better than recent_bottom \n",
    "    # --- General filters ---\n",
    "    current_rank_bracket_start=1, \n",
    "    current_rank_bracket_end=None):\n",
    "    \"\"\"\n",
    "    Filters a DataFrame of pre-calculated rank metrics based on specified criteria.\n",
    "\n",
    "    This function acts as the second stage in a two-part pipeline, taking the output of\n",
    "    `calculate_rank_metrics` and applying filtering rules to find specific opportunities.\n",
    "\n",
    "    Args:\n",
    "        all_metrics_data (list or pd.DataFrame): The list of dictionaries or DataFrame\n",
    "                                                  from `calculate_rank_metrics`.\n",
    "        min_lookback_improvement (int): Min improvement from the start to the end of the lookback period.\n",
    "        min_current_to_recent_start (int, optional): For 'Dip' mode, positive number means recent_start is better than current.\n",
    "        min_recent_bottom_to_recent_start (int, optional): For 'Reversal' mode, positive number means recent_start is better than recent_bottom.\n",
    "        min_recent_bottom_to_current (int, optional): For 'Reversal' mode, positive number means current is better than recent_bottom.\n",
    "        current_rank_bracket_start (int): The minimum current rank to include.\n",
    "        current_rank_bracket_end (int, optional): The maximum current rank to include.\n",
    "\n",
    "    Returns:\n",
    "        pd.DataFrame: A filtered and sorted DataFrame containing the tickers that meet all criteria.\n",
    "    \"\"\"\n",
    "    # --- Parameter Validation (Mode Detection) ---\n",
    "    # This logic is identical to the original function to ensure correct mode is selected.\n",
    "    if min_current_to_recent_start is not None and (min_recent_bottom_to_recent_start is not None or min_recent_bottom_to_current is not None):\n",
    "        raise ValueError(\"Cannot specify parameters for both 'Dip' and 'Reversal' modes.\")\n",
    "    \n",
    "    # --- Data Preparation ---\n",
    "    if not isinstance(all_metrics_data, pd.DataFrame):\n",
    "        df = pd.DataFrame(all_metrics_data)\n",
    "    else:\n",
    "        df = all_metrics_data.copy() # Use a copy to avoid modifying the original DataFrame\n",
    "\n",
    "    if df.empty:\n",
    "        return df # Return an empty DataFrame if there's no data\n",
    "\n",
    "    # --- Apply Filters Sequentially ---\n",
    "    \n",
    "    # Filter 1: Lookback period must show a minimum rank improvement\n",
    "    # This is calculated from 'lookback_start' - 'lookback_end'\n",
    "    lookback_improvement = df['lookback_start'] - df['lookback_end']\n",
    "    df = df[lookback_improvement >= min_lookback_improvement]\n",
    "\n",
    "    # Filter 2: Lookback trend slope must be negative (improving rank)\n",
    "    df = df[df['lookback_slope'] < 0]\n",
    "\n",
    "    # Filter 3: Ticker's current rank must be within the specified bracket\n",
    "    df = df[df['current'] >= current_rank_bracket_start]\n",
    "    if current_rank_bracket_end is not None:\n",
    "        df = df[df['current'] <= current_rank_bracket_end]\n",
    "\n",
    "    # Filter 4: Mode-specific filtering\n",
    "    if min_current_to_recent_start is not None:\n",
    "        # --- Dip Mode ---\n",
    "        # The metric 'min_current_to_recent_start' corresponds to the required drop.\n",
    "        print(\"Filtering in 'Dip' mode...\")\n",
    "        df = df[df['current_to_recent_start'] >= min_current_to_recent_start]\n",
    "    elif min_recent_bottom_to_recent_start is not None and min_recent_bottom_to_current is not None:\n",
    "        # --- Reversal Mode ---\n",
    "        print(\"Filtering in 'Reversal' mode...\")\n",
    "        df = df[df['recent_bottom_to_recent_start'] >= min_recent_bottom_to_recent_start]\n",
    "        df = df[df['recent_bottom_to_current'] >= min_recent_bottom_to_current]\n",
    "    else:\n",
    "        print(\"Warning: No mode-specific filters applied. Returning candidates based on general filters only.\")\n",
    "\n",
    "    # --- Final Sorting ---\n",
    "    # Sort the final list of candidates by the strength of their past uptrend.\n",
    "    df_filtered = df.sort_values(by='lookback_slope', ascending=True)\n",
    "    \n",
    "    return df_filtered"
   ]
  },
  {
   "cell_type": "markdown",
   "metadata": {},
   "source": [
    "# WOW keep this one\n",
    "    df_tickers_rank_history,\n",
    "    lookback_days=20,\n",
    "    recent_days=4,\n",
    "    min_lookback_improvement=15,\n",
    "    min_recent_bottom_to_recent_start=0,       # The dip must be at least 15 ranks deep\n",
    "    min_recent_bottom_to_current=0, # It must have recovered at least 5 ranks from the bottom\n",
    "    # current_rank_bracket_start=601,\n",
    "    current_rank_bracket_end=800,"
   ]
  },
  {
   "cell_type": "code",
   "execution_count": 9,
   "metadata": {},
   "outputs": [
    {
     "name": "stdout",
     "output_type": "stream",
     "text": [
      "Shape of the resulting DataFrame: (1650, 76)\n",
      "\n",
      "Last date in df_tickers_rank_history: 2025-08-12\n",
      "\n",
      "df_tickers_rank_history:\n",
      "       2025-04-25  2025-04-28  2025-04-29  2025-04-30  2025-05-01  2025-05-02  2025-05-05  2025-05-06  2025-05-07  2025-05-08  2025-05-09  2025-05-12  2025-05-13  2025-05-14  2025-05-15  2025-05-16  2025-05-19  2025-05-20  2025-05-21  2025-05-22  2025-05-23  2025-05-27  2025-05-28  2025-05-29  2025-05-30  2025-06-02  2025-06-03  2025-06-04  2025-06-05  2025-06-06  2025-06-09  2025-06-10  2025-06-11  2025-06-12  2025-06-13  2025-06-16  2025-06-17  2025-06-18  2025-06-19  2025-06-20  2025-06-23  2025-06-24  2025-06-25  2025-06-26  2025-06-27  2025-06-30  2025-07-01  2025-07-02  2025-07-03  2025-07-07  2025-07-08  2025-07-09  2025-07-10  2025-07-11  2025-07-14  2025-07-15  2025-07-16  2025-07-17  2025-07-18  2025-07-21  2025-07-22  2025-07-23  2025-07-24  2025-07-25  2025-07-28  2025-07-29  2025-07-30  2025-07-31  2025-08-01  2025-08-04  2025-08-05  2025-08-06  2025-08-07  2025-08-08  2025-08-11  2025-08-12\n",
      "NVDA          3.0         3.0         3.0         3.0         3.0         3.0         3.0         3.0         3.0         3.0         3.0         3.0         3.0         2.0         2.0         2.0         2.0         2.0         2.0         2.0         2.0         2.0         2.0         2.0         2.0         2.0         1.0         1.0         2.0         2.0         2.0         1.0         2.0         2.0         2.0         2.0         2.0         2.0         2.0         2.0         2.0         2.0         1.0         1.0         1.0         1.0         1.0         1.0         1.0         1.0         1.0         1.0         1.0         1.0         1.0         1.0         1.0         1.0         1.0         1.0         1.0         1.0         1.0         1.0         1.0         1.0         1.0         1.0         1.0         1.0         1.0         1.0         1.0         1.0         1.0         1.0\n",
      "MSFT          2.0         2.0         2.0         2.0         2.0         1.0         1.0         1.0         1.0         1.0         1.0         1.0         1.0         1.0         1.0         1.0         1.0         1.0         1.0         1.0         1.0         1.0         1.0         1.0         1.0         1.0         2.0         2.0         1.0         1.0         1.0         2.0         1.0         1.0         1.0         1.0         1.0         1.0         1.0         1.0         1.0         1.0         2.0         2.0         2.0         2.0         2.0         2.0         2.0         2.0         2.0         2.0         2.0         2.0         2.0         2.0         2.0         2.0         2.0         2.0         2.0         2.0         2.0         2.0         2.0         2.0         2.0         2.0         2.0         2.0         2.0         2.0         2.0         2.0         2.0         2.0\n",
      "AAPL          1.0         1.0         1.0         1.0         1.0         2.0         2.0         2.0         2.0         2.0         2.0         2.0         2.0         3.0         3.0         3.0         3.0         3.0         3.0         3.0         3.0         3.0         3.0         3.0         3.0         3.0         3.0         3.0         3.0         3.0         3.0         3.0         3.0         3.0         3.0         3.0         3.0         3.0         3.0         3.0         3.0         3.0         3.0         3.0         3.0         3.0         3.0         3.0         3.0         3.0         3.0         3.0         3.0         3.0         3.0         3.0         3.0         3.0         3.0         3.0         3.0         3.0         3.0         3.0         3.0         3.0         3.0         3.0         3.0         3.0         3.0         3.0         3.0         3.0         3.0         3.0\n",
      "GOOG          6.0         6.0         5.0         5.0         6.0         5.0         4.0         4.0         6.0         5.0         5.0         5.0         5.0         5.0         5.0         6.0         5.0         6.0         5.0         6.0         5.0         6.0         6.0         5.0         5.0         5.0         5.0         6.0         5.0         6.0         5.0         6.0         6.0         6.0         6.0         6.0         5.0         6.0         5.0         5.0         6.0         5.0         6.0         5.0         6.0         5.0         6.0         5.0         6.0         6.0         5.0         5.0         5.0         5.0         5.0         6.0         6.0         5.0         6.0         5.0         6.0         5.0         6.0         6.0         6.0         6.0         5.0         5.0         5.0         5.0         5.0         4.0         5.0         5.0         5.0         4.0\n",
      "GOOGL         5.0         5.0         6.0         6.0         5.0         6.0         5.0         5.0         5.0         6.0         6.0         6.0         6.0         6.0         6.0         5.0         6.0         5.0         6.0         5.0         6.0         5.0         5.0         6.0         6.0         6.0         6.0         5.0         6.0         5.0         6.0         5.0         5.0         5.0         5.0         5.0         6.0         5.0         6.0         6.0         5.0         6.0         5.0         6.0         5.0         6.0         5.0         6.0         5.0         5.0         6.0         6.0         6.0         6.0         6.0         5.0         5.0         6.0         5.0         6.0         5.0         6.0         5.0         5.0         5.0         5.0         6.0         6.0         4.0         4.0         4.0         5.0         4.0         4.0         4.0         5.0\n",
      "...           ...         ...         ...         ...         ...         ...         ...         ...         ...         ...         ...         ...         ...         ...         ...         ...         ...         ...         ...         ...         ...         ...         ...         ...         ...         ...         ...         ...         ...         ...         ...         ...         ...         ...         ...         ...         ...         ...         ...         ...         ...         ...         ...         ...         ...         ...         ...         ...         ...         ...         ...         ...         ...         ...         ...         ...         ...         ...         ...         ...         ...         ...         ...         ...         ...         ...         ...         ...         ...         ...         ...         ...         ...         ...         ...         ...\n",
      "EMLP       1553.0      1552.0      1534.0      1555.0      1558.0      1558.0      1559.0         NaN      1560.0      1557.0      1560.0         NaN         NaN         NaN         NaN         NaN         NaN         NaN         NaN         NaN         NaN         NaN         NaN         NaN         NaN         NaN         NaN         NaN         NaN         NaN         NaN         NaN         NaN         NaN         NaN         NaN         NaN         NaN         NaN         NaN         NaN         NaN         NaN         NaN         NaN         NaN         NaN         NaN         NaN         NaN         NaN         NaN         NaN         NaN         NaN         NaN         NaN         NaN         NaN         NaN         NaN         NaN         NaN         NaN         NaN         NaN         NaN         NaN         NaN         NaN         NaN         NaN         NaN         NaN         NaN         NaN\n",
      "GOLD        433.0       427.0       434.0       434.0       445.0       452.0       447.0       436.0       434.0       448.0         NaN         NaN         NaN         NaN         NaN         NaN         NaN         NaN         NaN         NaN         NaN         NaN         NaN         NaN         NaN         NaN         NaN         NaN         NaN         NaN         NaN         NaN         NaN         NaN         NaN         NaN         NaN         NaN         NaN         NaN         NaN         NaN         NaN         NaN         NaN         NaN         NaN         NaN         NaN         NaN         NaN         NaN         NaN         NaN         NaN         NaN         NaN         NaN         NaN         NaN         NaN         NaN         NaN         NaN         NaN         NaN         NaN         NaN         NaN         NaN         NaN         NaN         NaN         NaN         NaN         NaN\n",
      "ONTO       1336.0      1337.0         NaN      1368.0      1377.0      1347.0      1354.0      1366.0      1358.0      1359.0         NaN         NaN         NaN         NaN         NaN         NaN         NaN         NaN         NaN         NaN         NaN         NaN         NaN         NaN         NaN         NaN         NaN         NaN         NaN         NaN         NaN         NaN         NaN         NaN         NaN         NaN         NaN         NaN         NaN         NaN         NaN         NaN         NaN         NaN         NaN         NaN         NaN         NaN         NaN         NaN         NaN         NaN         NaN         NaN         NaN         NaN         NaN         NaN         NaN         NaN         NaN         NaN         NaN         NaN         NaN         NaN         NaN         NaN         NaN         NaN         NaN         NaN         NaN         NaN         NaN         NaN\n",
      "UCON       1545.0      1545.0      1528.0      1550.0      1551.0      1554.0      1555.0      1557.0      1557.0      1558.0         NaN         NaN         NaN         NaN         NaN         NaN         NaN         NaN         NaN         NaN         NaN         NaN         NaN         NaN         NaN         NaN         NaN         NaN         NaN         NaN         NaN         NaN         NaN         NaN         NaN         NaN         NaN         NaN         NaN         NaN         NaN         NaN         NaN         NaN         NaN         NaN         NaN         NaN         NaN         NaN         NaN         NaN         NaN         NaN         NaN         NaN         NaN         NaN         NaN         NaN         NaN         NaN         NaN         NaN         NaN         NaN         NaN         NaN         NaN         NaN         NaN         NaN         NaN         NaN         NaN         NaN\n",
      "RECS          NaN         NaN         NaN         NaN         NaN         NaN         NaN         NaN         NaN         NaN         NaN         NaN         NaN         NaN         NaN         NaN         NaN         NaN         NaN         NaN         NaN         NaN         NaN         NaN         NaN         NaN         NaN         NaN         NaN         NaN         NaN         NaN         NaN         NaN         NaN         NaN         NaN         NaN         NaN         NaN         NaN         NaN         NaN         NaN         NaN         NaN         NaN      1544.0         NaN         NaN         NaN         NaN         NaN         NaN         NaN         NaN         NaN         NaN         NaN         NaN         NaN         NaN         NaN         NaN         NaN         NaN         NaN         NaN         NaN         NaN         NaN         NaN         NaN         NaN         NaN         NaN\n",
      "\n",
      "[1650 rows x 76 columns]\n"
     ]
    }
   ],
   "source": [
    "df_tickers_rank_history = create_rank_history_df(file_list, DATA_DIR)\n",
    "\n",
    "print(\"Shape of the resulting DataFrame:\", df_tickers_rank_history.shape)\n",
    "print(f'\\nLast date in df_tickers_rank_history: {df_tickers_rank_history.columns[-1].strftime(\"%Y-%m-%d\")}')  \n",
    "print(f'\\ndf_tickers_rank_history:\\n{df_tickers_rank_history}')"
   ]
  },
  {
   "cell_type": "code",
   "execution_count": 10,
   "metadata": {},
   "outputs": [],
   "source": [
    "filter_criteria = {\n",
    "    \"lookback_days\": 20,\n",
    "    \"recent_days\": 4,\n",
    "    \"min_lookback_improvement\": 0,\n",
    "    \"min_current_to_recent_start\": None,  # Only used in 'Dip' mode, positive number means recent_start is better than current\n",
    "    \"min_recent_bottom_to_recent_start\": 0,  # Only used in 'Reversal' mode, positive number means recent_start is better than recent_bottom\n",
    "    \"min_recent_bottom_to_current\": 2,  # Only used in 'Reversal' mode, positive number means current is better than recent_bottom \n",
    "    \"current_rank_bracket_start\": 1,\n",
    "    \"current_rank_bracket_end\": 1000,\n",
    "}"
   ]
  },
  {
   "cell_type": "code",
   "execution_count": 11,
   "metadata": {},
   "outputs": [
    {
     "name": "stdout",
     "output_type": "stream",
     "text": [
      "Calculating metrics for 1650 tickers...\n",
      "Filtering in 'Reversal' mode...\n",
      "df_candidates.head(20):\n",
      "    ticker  lookback_slope  current  recent_start  lookback_start  lookback_end  best_lookback  worst_lookback  best_recent  worst_recent  best_total  worst_total  current_to_total_peak  current_to_recent_start  recent_bottom_to_recent_start  recent_bottom_to_current\n",
      "737   GNRC          -11.15      982           997            1145           987            964            1167          980           997         964         1167                     18                      -15                              0                        15\n",
      "455    FIX           -8.94      568           578             709           578            568             709          568           579         568          709                      0                      -10                              1                        11\n",
      "465    CLS           -7.46      580           608             727           615            604             736          580           608         580          736                      0                      -28                              0                        28\n",
      "716   COOP           -7.27      949           959            1107           940            940            1117          949           994         940         1117                      9                      -10                             35                        45\n",
      "685     CX           -5.69      902           905            1010           922            901            1010          899           905         899         1010                      3                       -3                              0                         3\n",
      "670   CIEN           -5.69      880           885            1017           885            885            1017          880           894         880         1017                      0                       -5                              9                        14\n",
      "738   KTOS           -5.68      983          1092            1263          1092           1082            1263          983          1092         983         1263                      0                     -109                              0                       109\n",
      "664   CHRW           -5.66      870           870             960           865            865             977          870           874         865          977                      5                        0                              4                         4\n",
      "657   ALLE           -4.67      858           864             908           857            844             926          858           864         844          926                     14                       -6                              0                         6\n",
      "615   INCY           -4.64      795           813             880           814            814             905          795           813         795          905                      0                      -18                              0                        18\n",
      "706     FN           -4.60      934           954            1053           957            952            1053          934           954         934         1053                      0                      -20                              0                        20\n",
      "394  FWONA           -4.43      478           486             602           469            469             625          478           486         469          625                      9                       -8                              0                         8\n",
      "453    WSM           -4.33      565           576             635           575            569             667          565           576         565          667                      0                      -11                              0                        11\n",
      "691   MANH           -4.08      915           916             952           900            876             962          915           934         876          962                     39                       -1                             18                        19\n",
      "571   COHR           -3.92      729           736             839           770            766             841          729           736         729          841                      0                       -7                              0                         7\n",
      "423    GFI           -3.86      519           521             638           528            528             642          519           522         519          642                      0                       -2                              1                         3\n",
      "446    WDC           -3.85      552           556             612           561            526             612          552           557         526          612                     26                       -4                              1                         5\n",
      "421    EME           -3.82      517           529             573           520            511             573          517           529         511          573                      6                      -12                              0                        12\n",
      "609    FNF           -3.33      785           793             860           786            785             860          785           794         785          860                      0                       -8                              1                         9\n",
      "539   FSLR           -3.27      681           682             740           684            675             752          681           687         675          752                      6                       -1                              5                         6\n"
     ]
    }
   ],
   "source": [
    "# Assume 'selected_df' is your historical rank data\n",
    "# And all filter parameters (lookback_days, min_current_to_recent_start, etc.) are defined.\n",
    "\n",
    "# === STAGE 1: Calculate metrics for ALL tickers ONCE ===\n",
    "all_tickers = df_tickers_rank_history.index.tolist() \n",
    "\n",
    "# Calculate metrics for every single ticker without any filtering\n",
    "all_metrics_data = calculate_rank_metrics(\n",
    "    df_tickers_rank_history,\n",
    "    tickers_list=all_tickers,\n",
    "    lookback_days=filter_criteria['lookback_days'],\n",
    "    recent_days=filter_criteria['recent_days'],\n",
    ")\n",
    "\n",
    "# Now 'all_metrics_data' is a list of dictionaries that you can:\n",
    "# 1. Convert to a DataFrame for further analysis:\n",
    "#    metrics_df = pd.DataFrame(all_metrics_data)\n",
    "#\n",
    "# 2. Use as a feature set for machine learning.\n",
    "#\n",
    "# 3. Manually filter later in your code.\n",
    "#    dip_candidates = [d for d in all_metrics_data if d['current_to_recent_start'] >= 2]\n",
    "\n",
    "# === STAGE 2: Filter the calculated data ===\n",
    "# This step is very fast because all the heavy calculation is done.\n",
    "# You can now experiment with different filtering parameters here without re-calculating.\n",
    "df_candidates = filter_rank_metrics(\n",
    "    all_metrics_data,\n",
    "    min_lookback_improvement=filter_criteria['min_lookback_improvement'],\n",
    "    # === Mode Parameters ===\n",
    "    min_current_to_recent_start=filter_criteria['min_current_to_recent_start'],\n",
    "    min_recent_bottom_to_recent_start=filter_criteria['min_recent_bottom_to_recent_start'],\n",
    "    min_recent_bottom_to_current=filter_criteria['min_recent_bottom_to_current'],\n",
    "    # === Bracket Filters ===\n",
    "    current_rank_bracket_start=filter_criteria['current_rank_bracket_start'],\n",
    "    current_rank_bracket_end=filter_criteria['current_rank_bracket_end'],\n",
    ")\n",
    "\n",
    "# The resulting 'df_candidates' is identical to the DataFrame you created before.\n",
    "print(f'df_candidates.head(20):\\n{df_candidates.head(20)}')"
   ]
  },
  {
   "cell_type": "code",
   "execution_count": 12,
   "metadata": {},
   "outputs": [
    {
     "name": "stdout",
     "output_type": "stream",
     "text": [
      "\n",
      "df_candidates.head(50):\n",
      "    ticker  MktCap AUM, M   Price  Change %  ATR/Price %  lookback_slope  current  recent_start  lookback_start  lookback_end  best_lookback  worst_lookback  best_recent  worst_recent  best_total  worst_total  current_to_total_peak  current_to_recent_start  recent_bottom_to_recent_start  recent_bottom_to_current\n",
      "737   GNRC        11670.0  198.86      1.19     2.981997          -11.15      982           997            1145           987            964            1167          980           997         964         1167                     18                      -15                              0                        15\n",
      "455    FIX        25350.0  718.61      3.65     3.295251           -8.94      568           578             709           578            568             709          568           579         568          709                      0                      -10                              1                        11\n",
      "465    CLS        24550.0  213.45      4.33     4.520965           -7.46      580           608             727           615            604             736          580           608         580          736                      0                      -28                              0                        28\n",
      "716   COOP        12270.0  191.75      6.37     4.573664           -7.27      949           959            1107           940            940            1117          949           994         940         1117                      9                      -10                             35                        45\n",
      "685     CX        13260.0    8.77      1.39     2.736602           -5.69      902           905            1010           922            901            1010          899           905         899         1010                      3                       -3                              0                         3\n",
      "670   CIEN        13630.0   96.40      3.23     2.790456           -5.69      880           885            1017           885            885            1017          880           894         880         1017                      0                       -5                              9                        14\n",
      "738   KTOS        11670.0   69.14      5.70     5.091119           -5.68      983          1092            1263          1092           1082            1263          983          1092         983         1263                      0                     -109                              0                       109\n",
      "664   CHRW        14030.0  118.77      2.18     2.408015           -5.66      870           870             960           865            865             977          870           874         865          977                      5                        0                              4                         4\n",
      "657   ALLE        14290.0  166.43      1.20     1.736466           -4.67      858           864             908           857            844             926          858           864         844          926                     14                       -6                              0                         6\n",
      "615   INCY        15940.0   81.61      3.06     2.560961           -4.64      795           813             880           814            814             905          795           813         795          905                      0                      -18                              0                        18\n",
      "706     FN        12480.0  348.33      4.79     3.261275           -4.60      934           954            1053           957            952            1053          934           954         934         1053                      0                      -20                              0                        20\n",
      "394  FWONA        31810.0   86.40      1.77     2.314815           -4.43      478           486             602           469            469             625          478           486         469          625                      9                       -8                              0                         8\n",
      "453    WSM        25460.0  206.97      3.49     2.802339           -4.33      565           576             635           575            569             667          565           576         565          667                      0                      -11                              0                        11\n",
      "691   MANH        12860.0  212.75      3.65     3.210341           -4.08      915           916             952           900            876             962          915           934         876          962                     39                       -1                             18                        19\n",
      "571   COHR        18120.0  116.56      2.61     3.663349           -3.92      729           736             839           770            766             841          729           736         729          841                      0                       -7                              0                         7\n",
      "423    GFI        28080.0   31.37      0.80     3.155881           -3.86      519           521             638           528            528             642          519           522         519          642                      0                       -2                              1                         3\n",
      "446    WDC        26480.0   75.91      1.70     2.950863           -3.85      552           556             612           561            526             612          552           557         526          612                     26                       -4                              1                         5\n",
      "421    EME        28320.0  632.57      2.91     2.698516           -3.82      517           529             573           520            511             573          517           529         511          573                      6                      -12                              0                        12\n",
      "609    FNF        16300.0   59.97      2.55     1.917625           -3.33      785           793             860           786            785             860          785           794         785          860                      0                       -8                              1                         9\n",
      "539   FSLR        19810.0  184.73      1.43     3.886754           -3.27      681           682             740           684            675             752          681           687         675          752                      6                       -1                              5                         6\n",
      "723    OHI        11930.0   40.44      0.62     1.582591           -3.21      960           963            1037           958            958            1037          958           967         958         1037                      2                       -3                              4                         7\n",
      "577    TER        17760.0  111.63      6.64     3.905760           -3.10      739           760             796           769            751             849          739           765         739          849                      0                      -21                              5                        26\n",
      "580   BURL        17570.0  278.45      2.96     2.718621           -3.05      742           744             791           733            733             794          742           750         733          794                      9                       -2                              6                         8\n",
      "451    PHG        25660.0   26.99      1.16     2.000741           -3.00      563           569             599           573            545             611          562           569         545          611                     18                       -6                              0                         6\n",
      "486    KGC        23560.0   19.33      1.15     3.103983           -2.95      607           615             711           613            613             711          605           615         605          711                      2                       -8                              0                         8\n",
      "416     AU        28830.0   57.25      0.79     3.423581           -2.89      512           507             597           506            506             597          507           514         506          597                      6                        5                              7                         2\n",
      "520   CYBR        21090.0  418.38      4.11     3.570916           -2.88      654           667             705           661            636             718          654           671         636          718                     18                      -13                              4                        17\n",
      "535    BAP        19960.0  251.01      0.73     2.023824           -2.75      677           689             736           695            693             744          677           689         677          744                      0                      -12                              0                        12\n",
      "677    JLL        13450.0  283.88      2.93     2.511625           -2.75      890           902             939           897            897             959          890           902         890          959                      0                      -12                              0                        12\n",
      "493    TPR        23020.0  110.86      2.69     2.769259           -2.67      616           622             667           606            606             667          616           622         606          667                     10                       -6                              0                         6\n",
      "315   EBAY        44360.0   97.06      1.85     2.462394           -2.63      368           381             434           383            381             434          368           381         368          434                      0                      -13                              0                        13\n",
      "407   IBKR        30110.0   67.63      2.19     2.691113           -2.42      499           514             552           516            506             552          499           514         499          552                      0                      -15                              0                        15\n",
      "648    MTZ        14550.0  184.39      2.98     3.357015           -2.41      846           845             896           844            826             896          845           859         826          896                     20                        1                             14                        13\n",
      "397    IQV        31600.0  185.91      3.23     3.146684           -2.38      482           494             510           499            453             524          482           494         453          524                     29                      -12                              0                        12\n",
      "301   CBRE        46450.0  156.12      1.71     2.030489           -2.35      351           355             382           352            347             389          351           355         347          389                      4                       -4                              0                         4\n",
      "239    TEL        60320.0  204.14      2.14     2.028020           -2.35      276           282             314           280            274             314          276           282         274          314                      2                       -6                              0                         6\n",
      "551    TLK        19130.0   19.31      5.46     1.864319           -2.26      698           729             771           735            728             774          698           729         698          774                      0                      -31                              0                        31\n",
      "563    GPC        18740.0  134.76      1.02     1.884832           -2.22      711           715             747           716            716             759          710           715         710          759                      1                       -4                              0                         4\n",
      "627   DECK        15390.0  103.74      3.25     3.826875           -2.22      816           818             802           794            758             843          816           818         758          843                     58                       -2                              0                         2\n",
      "205     DB        69920.0   36.30      0.25     1.955923           -2.14      238           242             287           251            251             288          236           242         236          288                      2                       -4                              0                         4\n",
      "536     NI        19950.0   42.36      0.50     1.770538           -2.09      678           681             716           686            669             716          675           681         669          716                      9                       -3                              0                         3\n",
      "381    HUM        33070.0  274.94      3.10     3.451662           -2.06      459           487             516           489            480             541          459           487         459          541                      0                      -28                              0                        28\n",
      "562   FFIV        18750.0  326.47      2.63     2.468833           -2.04      710           723             756           721            716             766          710           723         710          766                      0                      -13                              0                        13\n",
      "725    SJM        11880.0  111.37      0.40     1.903565           -2.02      963           964            1011           973            954            1011          962           966         954         1011                      9                       -1                              2                         3\n",
      "700    JEF        12630.0   61.23      3.97     2.482443           -2.00      927           960             989           956            950             994          927           960         927          994                      0                      -33                              0                        33\n",
      "492   ULTA        23190.0  516.02      3.47     2.238285           -2.00      614           620             639           609            597             641          614           626         597          641                     17                       -6                              6                        12\n",
      "457     FE        25180.0   43.61      0.65     1.352901           -1.98      570           573             598           569            561             602          569           573         561          602                      9                       -3                              0                         3\n",
      "702    TOL        12600.0  128.29      3.31     2.813937           -1.88      929           942             955           938            934             994          929           942         929          994                      0                      -13                              0                        13\n",
      "150   CDNS        96360.0  353.61      1.29     2.689404           -1.79      168           167             183           164            154             192          167           171         154          192                     14                        1                              4                         3\n",
      "686    ITT        13260.0  169.99      2.60     2.070710           -1.78      903           912             934           911            884             939          903           912         884          939                     19                       -9                              0                         9\n"
     ]
    }
   ],
   "source": [
    "import pprint\n",
    "\n",
    "# Map 'Price' and 'ATR/Price %' from df_finviz_merged_stocks_etfs to df_candidates\n",
    "df_candidates['Price'] = df_candidates['ticker'].map(df_finviz_merged_stocks_etfs['Price'])\n",
    "df_candidates['Change %'] = df_candidates['ticker'].map(df_finviz_merged_stocks_etfs['Change %'])\n",
    "df_candidates['MktCap AUM, M'] = df_candidates['ticker'].map(df_finviz_merged_stocks_etfs['MktCap AUM, M'])\n",
    "df_candidates['ATR/Price %'] = df_candidates['ticker'].map(df_finviz_merged_stocks_etfs['ATR/Price %'])\n",
    "\n",
    "# Reorder the columns to ensure 'Price' is the second column and 'ATR/Price %' is the third column\n",
    "columns = df_candidates.columns.tolist()\n",
    "\n",
    "# Remove 'Price' and 'ATR/Price %' from their current positions\n",
    "if 'Price' in columns:\n",
    "    columns.remove('Price')\n",
    "if 'Change %' in columns:\n",
    "    columns.remove('Change %')    \n",
    "if 'MktCap AUM, M' in columns:\n",
    "    columns.remove('MktCap AUM, M')\n",
    "if 'ATR/Price %' in columns:\n",
    "    columns.remove('ATR/Price %')    \n",
    "\n",
    "# Insert 'Price' as the second column and 'ATR/Price %' as the third column\n",
    "columns.insert(1, 'MktCap AUM, M')\n",
    "columns.insert(2, 'Price')\n",
    "columns.insert(3, 'Change %')\n",
    "columns.insert(4, 'ATR/Price %')\n",
    "\n",
    "\n",
    "# Reorder the DataFrame columns\n",
    "df_candidates = df_candidates[columns]\n",
    "\n",
    "\n",
    "# Display the updated DataFrame\n",
    "print(f'\\ndf_candidates.head(50):\\n{df_candidates.head(50)}')"
   ]
  },
  {
   "cell_type": "code",
   "execution_count": 13,
   "metadata": {},
   "outputs": [
    {
     "name": "stdout",
     "output_type": "stream",
     "text": [
      "filter_criteria:\n",
      "{'lookback_days': 20,\n",
      " 'recent_days': 4,\n",
      " 'min_lookback_improvement': 0,\n",
      " 'min_current_to_recent_start': None,\n",
      " 'min_recent_bottom_to_recent_start': 0,\n",
      " 'min_recent_bottom_to_current': 2,\n",
      " 'current_rank_bracket_start': 1,\n",
      " 'current_rank_bracket_end': 1000}\n",
      "\n",
      "sort order:\n",
      "{'current_to_total_peak': True,\n",
      " 'recent_bottom_to_current': False,\n",
      " 'lookback_slope': True}\n",
      "\n",
      "df_sorted_candidates.head(20):\n",
      "    ticker  MktCap AUM, M   Price  Change %  ATR/Price %  current  best_total  current_to_total_peak  recent_bottom_to_current  lookback_slope  recent_start  lookback_start  lookback_end  best_lookback  worst_lookback  best_recent  worst_recent  worst_total  current_to_recent_start  recent_bottom_to_recent_start\n",
      "738   KTOS        11670.0   69.14      5.70     5.091119      983         983                      0                       109           -5.68          1092            1263          1092           1082            1263          983          1092         1263                     -109                              0\n",
      "700    JEF        12630.0   61.23      3.97     2.482443      927         927                      0                        33           -2.00           960             989           956            950             994          927           960          994                      -33                              0\n",
      "551    TLK        19130.0   19.31      5.46     1.864319      698         698                      0                        31           -2.26           729             771           735            728             774          698           729          774                      -31                              0\n",
      "313     EA        44510.0  177.91      1.02     2.332640      365         365                      0                        30           -0.77           395             411           397            397             420          365           395          420                      -30                              0\n",
      "465    CLS        24550.0  213.45      4.33     4.520965      580         580                      0                        28           -7.46           608             727           615            604             736          580           608          736                      -28                              0\n",
      "381    HUM        33070.0  274.94      3.10     3.451662      459         459                      0                        28           -2.06           487             516           489            480             541          459           487          541                      -28                              0\n",
      "607    SGI        16410.0   78.18      2.50     2.366334      782         782                      0                        27           -0.97           809             825           809            803             829          782           809          829                      -27                              0\n",
      "577    TER        17760.0  111.63      6.64     3.905760      739         739                      0                        26           -3.10           760             796           769            751             849          739           765          849                      -21                              5\n",
      "708    SNX        12410.0  150.48      3.34     1.900585      940         940                      0                        26           -0.87           966             970           968            946             973          940           966          973                      -26                              0\n",
      "706     FN        12480.0  348.33      4.79     3.261275      934         934                      0                        20           -4.60           954            1053           957            952            1053          934           954         1053                      -20                              0\n",
      "245    URI        59000.0  916.95      5.43     2.539942      284         284                      0                        19           -1.07           300             306           297            289             321          284           303          321                      -16                              3\n",
      "615   INCY        15940.0   81.61      3.06     2.560961      795         795                      0                        18           -4.64           813             880           814            814             905          795           813          905                      -18                              0\n",
      "360    LYV        36720.0  158.43      2.56     2.581582      429         429                      0                        17           -0.43           446             457           449            431             457          429           446          457                      -17                              0\n",
      "636    MAS        14910.0   71.21      3.35     2.499649      827         827                      0                        16           -1.63           842             851           837            833             875          827           843          875                      -15                              1\n",
      "516    EIX        21540.0   55.96      1.29     2.555397      645         645                      0                        16           -1.26           650             677           652            650             683          645           661          683                       -5                             11\n",
      "487     CG        23420.0   64.76      3.78     3.042001      609         609                      0                        16           -0.95           625             647           618            618             648          609           625          648                      -16                              0\n",
      "389    LEN        32080.0  124.47      3.27     2.924399      472         472                      0                        16           -0.51           488             491           491            491             514          472           488          514                      -16                              0\n",
      "407   IBKR        30110.0   67.63      2.19     2.691113      499         499                      0                        15           -2.42           514             552           516            506             552          499           514          552                      -15                              0\n",
      "670   CIEN        13630.0   96.40      3.23     2.790456      880         880                      0                        14           -5.69           885            1017           885            885            1017          880           894         1017                       -5                              9\n",
      "335   MPWR        40260.0  840.56      5.40     3.846245      398         398                      0                        14           -1.38           412             437           411            407             452          398           412          452                      -14                              0\n",
      "\n",
      "tickers_to_plot: ['KTOS', 'JEF', 'TLK', 'EA', 'CLS', 'HUM', 'SGI', 'TER', 'SNX', 'FN']\n"
     ]
    }
   ],
   "source": [
    "# sort_order = {'lookback_slope': True,  # negative slope (i.e. small) is better\n",
    "#                    'current_to_total_peak': True,  # sort small to large, small is better, best is 0              \n",
    "#                    'recent_bottom_to_current': False,}  # sort large to small, large means big dip before recovered to current level \n",
    "\n",
    "sort_order = {'current_to_total_peak': True,  # sort small to large, small is better, best is 0  \n",
    "                   'recent_bottom_to_current': False,  # sort large to small, large means big dip before recovered to current level \n",
    "                   'lookback_slope': True,}  # negative slope (i.e. small) is better\n",
    "\n",
    "# keys in the exact order they appear in the dict\n",
    "sort_keys = list(sort_order.keys())\n",
    "sort_values = list(sort_order.values())\n",
    "df_sorted_candidates = df_candidates.sort_values(by=sort_keys, ascending=sort_values)\n",
    "\n",
    "leading_columns = ['ticker', 'MktCap AUM, M', 'Price', 'Change %', 'ATR/Price %', 'current', 'best_total'] \n",
    "fixed_cols = set(leading_columns) | set(sort_keys)\n",
    "remaining_columns = [c for c in df_candidates.columns if c not in fixed_cols]\n",
    "\n",
    "# final order\n",
    "new_order = leading_columns+ sort_keys + remaining_columns\n",
    "df_sorted_candidates = df_sorted_candidates.reindex(columns=new_order)\n",
    "\n",
    "tickers_to_plot = df_sorted_candidates.head(10)['ticker'].tolist()\n",
    "\n",
    "print(\"filter_criteria:\")\n",
    "pprint.pprint(filter_criteria, sort_dicts=False)\n",
    "print(f\"\\nsort order:\")\n",
    "# False to maintain the original insertion order of the dictionary.\n",
    "pprint.pprint(sort_order, sort_dicts=False)  \n",
    "print(f'\\ndf_sorted_candidates.head(20):\\n{df_sorted_candidates.head(20)}')\n",
    "print(f'\\ntickers_to_plot: {tickers_to_plot}')\n"
   ]
  },
  {
   "cell_type": "code",
   "execution_count": 14,
   "metadata": {},
   "outputs": [
    {
     "data": {
      "application/vnd.plotly.v1+json": {
       "config": {
        "plotlyServerURL": "https://plot.ly"
       },
       "data": [
        {
         "hovertemplate": "Ticker=KTOS<br>index=%{x}<br>Rank=%{y}<extra></extra>",
         "legendgroup": "KTOS",
         "line": {
          "color": "#636EFA",
          "dash": "solid"
         },
         "marker": {
          "symbol": "circle"
         },
         "mode": "lines",
         "name": "KTOS",
         "orientation": "v",
         "showlegend": true,
         "type": "scatter",
         "x": [
          "2025-06-25T00:00:00",
          "2025-06-26T00:00:00",
          "2025-06-27T00:00:00",
          "2025-06-30T00:00:00",
          "2025-07-01T00:00:00",
          "2025-07-02T00:00:00",
          "2025-07-03T00:00:00",
          "2025-07-07T00:00:00",
          "2025-07-08T00:00:00",
          "2025-07-09T00:00:00",
          "2025-07-10T00:00:00",
          "2025-07-11T00:00:00",
          "2025-07-14T00:00:00",
          "2025-07-15T00:00:00",
          "2025-07-16T00:00:00",
          "2025-07-17T00:00:00",
          "2025-07-18T00:00:00",
          "2025-07-21T00:00:00",
          "2025-07-22T00:00:00",
          "2025-07-23T00:00:00",
          "2025-07-24T00:00:00",
          "2025-07-25T00:00:00",
          "2025-07-28T00:00:00",
          "2025-07-29T00:00:00",
          "2025-07-30T00:00:00",
          "2025-07-31T00:00:00",
          "2025-08-01T00:00:00",
          "2025-08-04T00:00:00",
          "2025-08-05T00:00:00",
          "2025-08-06T00:00:00",
          "2025-08-07T00:00:00",
          "2025-08-08T00:00:00",
          "2025-08-11T00:00:00",
          "2025-08-12T00:00:00"
         ],
         "xaxis": "x",
         "y": [
          1363,
          1398,
          1312,
          1299,
          1303,
          1302,
          1286,
          1280,
          1285,
          1262,
          1263,
          1178,
          1176,
          1181,
          1133,
          1091,
          1090,
          1088,
          1130,
          1100,
          1099,
          1093,
          1088,
          1110,
          1104,
          1089,
          1102,
          1082,
          1088,
          1092,
          1092,
          1038,
          1012,
          983
         ],
         "yaxis": "y"
        },
        {
         "hovertemplate": "Ticker=JEF<br>index=%{x}<br>Rank=%{y}<extra></extra>",
         "legendgroup": "JEF",
         "line": {
          "color": "#EF553B",
          "dash": "solid"
         },
         "marker": {
          "symbol": "circle"
         },
         "mode": "lines",
         "name": "JEF",
         "orientation": "v",
         "showlegend": true,
         "type": "scatter",
         "x": [
          "2025-06-25T00:00:00",
          "2025-06-26T00:00:00",
          "2025-06-27T00:00:00",
          "2025-06-30T00:00:00",
          "2025-07-01T00:00:00",
          "2025-07-02T00:00:00",
          "2025-07-03T00:00:00",
          "2025-07-07T00:00:00",
          "2025-07-08T00:00:00",
          "2025-07-09T00:00:00",
          "2025-07-10T00:00:00",
          "2025-07-11T00:00:00",
          "2025-07-14T00:00:00",
          "2025-07-15T00:00:00",
          "2025-07-16T00:00:00",
          "2025-07-17T00:00:00",
          "2025-07-18T00:00:00",
          "2025-07-21T00:00:00",
          "2025-07-22T00:00:00",
          "2025-07-23T00:00:00",
          "2025-07-24T00:00:00",
          "2025-07-25T00:00:00",
          "2025-07-28T00:00:00",
          "2025-07-29T00:00:00",
          "2025-07-30T00:00:00",
          "2025-07-31T00:00:00",
          "2025-08-01T00:00:00",
          "2025-08-04T00:00:00",
          "2025-08-05T00:00:00",
          "2025-08-06T00:00:00",
          "2025-08-07T00:00:00",
          "2025-08-08T00:00:00",
          "2025-08-11T00:00:00",
          "2025-08-12T00:00:00"
         ],
         "xaxis": "x",
         "y": [
          969,
          974,
          979,
          992,
          988,
          978,
          974,
          988,
          995,
          998,
          989,
          994,
          985,
          984,
          988,
          975,
          971,
          973,
          978,
          976,
          981,
          973,
          971,
          957,
          950,
          952,
          965,
          958,
          956,
          956,
          960,
          954,
          942,
          927
         ],
         "yaxis": "y"
        },
        {
         "hovertemplate": "Ticker=TLK<br>index=%{x}<br>Rank=%{y}<extra></extra>",
         "legendgroup": "TLK",
         "line": {
          "color": "#00CC96",
          "dash": "solid"
         },
         "marker": {
          "symbol": "circle"
         },
         "mode": "lines",
         "name": "TLK",
         "orientation": "v",
         "showlegend": true,
         "type": "scatter",
         "x": [
          "2025-06-25T00:00:00",
          "2025-06-26T00:00:00",
          "2025-06-27T00:00:00",
          "2025-06-30T00:00:00",
          "2025-07-01T00:00:00",
          "2025-07-02T00:00:00",
          "2025-07-03T00:00:00",
          "2025-07-07T00:00:00",
          "2025-07-08T00:00:00",
          "2025-07-09T00:00:00",
          "2025-07-10T00:00:00",
          "2025-07-11T00:00:00",
          "2025-07-14T00:00:00",
          "2025-07-15T00:00:00",
          "2025-07-16T00:00:00",
          "2025-07-17T00:00:00",
          "2025-07-18T00:00:00",
          "2025-07-21T00:00:00",
          "2025-07-22T00:00:00",
          "2025-07-23T00:00:00",
          "2025-07-24T00:00:00",
          "2025-07-25T00:00:00",
          "2025-07-28T00:00:00",
          "2025-07-29T00:00:00",
          "2025-07-30T00:00:00",
          "2025-07-31T00:00:00",
          "2025-08-01T00:00:00",
          "2025-08-04T00:00:00",
          "2025-08-05T00:00:00",
          "2025-08-06T00:00:00",
          "2025-08-07T00:00:00",
          "2025-08-08T00:00:00",
          "2025-08-11T00:00:00",
          "2025-08-12T00:00:00"
         ],
         "xaxis": "x",
         "y": [
          779,
          765,
          765,
          758,
          755,
          759,
          769,
          772,
          774,
          775,
          771,
          769,
          772,
          774,
          771,
          762,
          767,
          763,
          759,
          757,
          761,
          765,
          762,
          752,
          753,
          742,
          729,
          728,
          734,
          735,
          729,
          723,
          724,
          698
         ],
         "yaxis": "y"
        },
        {
         "hovertemplate": "Ticker=EA<br>index=%{x}<br>Rank=%{y}<extra></extra>",
         "legendgroup": "EA",
         "line": {
          "color": "#AB63FA",
          "dash": "solid"
         },
         "marker": {
          "symbol": "circle"
         },
         "mode": "lines",
         "name": "EA",
         "orientation": "v",
         "showlegend": true,
         "type": "scatter",
         "x": [
          "2025-06-25T00:00:00",
          "2025-06-26T00:00:00",
          "2025-06-27T00:00:00",
          "2025-06-30T00:00:00",
          "2025-07-01T00:00:00",
          "2025-07-02T00:00:00",
          "2025-07-03T00:00:00",
          "2025-07-07T00:00:00",
          "2025-07-08T00:00:00",
          "2025-07-09T00:00:00",
          "2025-07-10T00:00:00",
          "2025-07-11T00:00:00",
          "2025-07-14T00:00:00",
          "2025-07-15T00:00:00",
          "2025-07-16T00:00:00",
          "2025-07-17T00:00:00",
          "2025-07-18T00:00:00",
          "2025-07-21T00:00:00",
          "2025-07-22T00:00:00",
          "2025-07-23T00:00:00",
          "2025-07-24T00:00:00",
          "2025-07-25T00:00:00",
          "2025-07-28T00:00:00",
          "2025-07-29T00:00:00",
          "2025-07-30T00:00:00",
          "2025-07-31T00:00:00",
          "2025-08-01T00:00:00",
          "2025-08-04T00:00:00",
          "2025-08-05T00:00:00",
          "2025-08-06T00:00:00",
          "2025-08-07T00:00:00",
          "2025-08-08T00:00:00",
          "2025-08-11T00:00:00",
          "2025-08-12T00:00:00"
         ],
         "xaxis": "x",
         "y": [
          394,
          396,
          397,
          396,
          397,
          400,
          409,
          409,
          409,
          409,
          411,
          417,
          420,
          417,
          418,
          417,
          417,
          409,
          403,
          410,
          411,
          412,
          410,
          420,
          407,
          414,
          406,
          404,
          400,
          397,
          395,
          388,
          367,
          365
         ],
         "yaxis": "y"
        },
        {
         "hovertemplate": "Ticker=CLS<br>index=%{x}<br>Rank=%{y}<extra></extra>",
         "legendgroup": "CLS",
         "line": {
          "color": "#FFA15A",
          "dash": "solid"
         },
         "marker": {
          "symbol": "circle"
         },
         "mode": "lines",
         "name": "CLS",
         "orientation": "v",
         "showlegend": true,
         "type": "scatter",
         "x": [
          "2025-06-25T00:00:00",
          "2025-06-26T00:00:00",
          "2025-06-27T00:00:00",
          "2025-06-30T00:00:00",
          "2025-07-01T00:00:00",
          "2025-07-02T00:00:00",
          "2025-07-03T00:00:00",
          "2025-07-07T00:00:00",
          "2025-07-08T00:00:00",
          "2025-07-09T00:00:00",
          "2025-07-10T00:00:00",
          "2025-07-11T00:00:00",
          "2025-07-14T00:00:00",
          "2025-07-15T00:00:00",
          "2025-07-16T00:00:00",
          "2025-07-17T00:00:00",
          "2025-07-18T00:00:00",
          "2025-07-21T00:00:00",
          "2025-07-22T00:00:00",
          "2025-07-23T00:00:00",
          "2025-07-24T00:00:00",
          "2025-07-25T00:00:00",
          "2025-07-28T00:00:00",
          "2025-07-29T00:00:00",
          "2025-07-30T00:00:00",
          "2025-07-31T00:00:00",
          "2025-08-01T00:00:00",
          "2025-08-04T00:00:00",
          "2025-08-05T00:00:00",
          "2025-08-06T00:00:00",
          "2025-08-07T00:00:00",
          "2025-08-08T00:00:00",
          "2025-08-11T00:00:00",
          "2025-08-12T00:00:00"
         ],
         "xaxis": "x",
         "y": [
          745,
          741,
          736,
          724,
          750,
          729,
          722,
          736,
          730,
          717,
          727,
          721,
          715,
          713,
          718,
          711,
          720,
          710,
          736,
          700,
          716,
          693,
          680,
          609,
          604,
          609,
          615,
          608,
          620,
          615,
          608,
          592,
          597,
          580
         ],
         "yaxis": "y"
        },
        {
         "hovertemplate": "Ticker=HUM<br>index=%{x}<br>Rank=%{y}<extra></extra>",
         "legendgroup": "HUM",
         "line": {
          "color": "#19D3F3",
          "dash": "solid"
         },
         "marker": {
          "symbol": "circle"
         },
         "mode": "lines",
         "name": "HUM",
         "orientation": "v",
         "showlegend": true,
         "type": "scatter",
         "x": [
          "2025-06-25T00:00:00",
          "2025-06-26T00:00:00",
          "2025-06-27T00:00:00",
          "2025-06-30T00:00:00",
          "2025-07-01T00:00:00",
          "2025-07-02T00:00:00",
          "2025-07-03T00:00:00",
          "2025-07-07T00:00:00",
          "2025-07-08T00:00:00",
          "2025-07-09T00:00:00",
          "2025-07-10T00:00:00",
          "2025-07-11T00:00:00",
          "2025-07-14T00:00:00",
          "2025-07-15T00:00:00",
          "2025-07-16T00:00:00",
          "2025-07-17T00:00:00",
          "2025-07-18T00:00:00",
          "2025-07-21T00:00:00",
          "2025-07-22T00:00:00",
          "2025-07-23T00:00:00",
          "2025-07-24T00:00:00",
          "2025-07-25T00:00:00",
          "2025-07-28T00:00:00",
          "2025-07-29T00:00:00",
          "2025-07-30T00:00:00",
          "2025-07-31T00:00:00",
          "2025-08-01T00:00:00",
          "2025-08-04T00:00:00",
          "2025-08-05T00:00:00",
          "2025-08-06T00:00:00",
          "2025-08-07T00:00:00",
          "2025-08-08T00:00:00",
          "2025-08-11T00:00:00",
          "2025-08-12T00:00:00"
         ],
         "xaxis": "x",
         "y": [
          499,
          501,
          497,
          497,
          492,
          498,
          506,
          503,
          507,
          506,
          516,
          515,
          527,
          531,
          526,
          532,
          541,
          536,
          522,
          511,
          525,
          512,
          520,
          519,
          480,
          492,
          495,
          504,
          496,
          489,
          487,
          468,
          468,
          459
         ],
         "yaxis": "y"
        },
        {
         "hovertemplate": "Ticker=SGI<br>index=%{x}<br>Rank=%{y}<extra></extra>",
         "legendgroup": "SGI",
         "line": {
          "color": "#FF6692",
          "dash": "solid"
         },
         "marker": {
          "symbol": "circle"
         },
         "mode": "lines",
         "name": "SGI",
         "orientation": "v",
         "showlegend": true,
         "type": "scatter",
         "x": [
          "2025-06-25T00:00:00",
          "2025-06-26T00:00:00",
          "2025-06-27T00:00:00",
          "2025-06-30T00:00:00",
          "2025-07-01T00:00:00",
          "2025-07-02T00:00:00",
          "2025-07-03T00:00:00",
          "2025-07-07T00:00:00",
          "2025-07-08T00:00:00",
          "2025-07-09T00:00:00",
          "2025-07-10T00:00:00",
          "2025-07-11T00:00:00",
          "2025-07-14T00:00:00",
          "2025-07-15T00:00:00",
          "2025-07-16T00:00:00",
          "2025-07-17T00:00:00",
          "2025-07-18T00:00:00",
          "2025-07-21T00:00:00",
          "2025-07-22T00:00:00",
          "2025-07-23T00:00:00",
          "2025-07-24T00:00:00",
          "2025-07-25T00:00:00",
          "2025-07-28T00:00:00",
          "2025-07-29T00:00:00",
          "2025-07-30T00:00:00",
          "2025-07-31T00:00:00",
          "2025-08-01T00:00:00",
          "2025-08-04T00:00:00",
          "2025-08-05T00:00:00",
          "2025-08-06T00:00:00",
          "2025-08-07T00:00:00",
          "2025-08-08T00:00:00",
          "2025-08-11T00:00:00",
          "2025-08-12T00:00:00"
         ],
         "xaxis": "x",
         "y": [
          851,
          849,
          846,
          844,
          834,
          824,
          825,
          819,
          823,
          811,
          825,
          829,
          822,
          829,
          826,
          822,
          812,
          809,
          809,
          811,
          820,
          812,
          812,
          820,
          820,
          818,
          809,
          804,
          803,
          809,
          809,
          806,
          787,
          782
         ],
         "yaxis": "y"
        },
        {
         "hovertemplate": "Ticker=TER<br>index=%{x}<br>Rank=%{y}<extra></extra>",
         "legendgroup": "TER",
         "line": {
          "color": "#1F77B4",
          "dash": "solid"
         },
         "marker": {
          "symbol": "circle"
         },
         "mode": "lines",
         "name": "TER",
         "orientation": "v",
         "showlegend": true,
         "type": "scatter",
         "x": [
          "2025-06-25T00:00:00",
          "2025-06-26T00:00:00",
          "2025-06-27T00:00:00",
          "2025-06-30T00:00:00",
          "2025-07-01T00:00:00",
          "2025-07-02T00:00:00",
          "2025-07-03T00:00:00",
          "2025-07-07T00:00:00",
          "2025-07-08T00:00:00",
          "2025-07-09T00:00:00",
          "2025-07-10T00:00:00",
          "2025-07-11T00:00:00",
          "2025-07-14T00:00:00",
          "2025-07-15T00:00:00",
          "2025-07-16T00:00:00",
          "2025-07-17T00:00:00",
          "2025-07-18T00:00:00",
          "2025-07-21T00:00:00",
          "2025-07-22T00:00:00",
          "2025-07-23T00:00:00",
          "2025-07-24T00:00:00",
          "2025-07-25T00:00:00",
          "2025-07-28T00:00:00",
          "2025-07-29T00:00:00",
          "2025-07-30T00:00:00",
          "2025-07-31T00:00:00",
          "2025-08-01T00:00:00",
          "2025-08-04T00:00:00",
          "2025-08-05T00:00:00",
          "2025-08-06T00:00:00",
          "2025-08-07T00:00:00",
          "2025-08-08T00:00:00",
          "2025-08-11T00:00:00",
          "2025-08-12T00:00:00"
         ],
         "xaxis": "x",
         "y": [
          825,
          825,
          828,
          836,
          825,
          823,
          829,
          837,
          833,
          830,
          796,
          803,
          814,
          823,
          827,
          829,
          823,
          813,
          830,
          831,
          844,
          849,
          839,
          840,
          755,
          751,
          759,
          760,
          757,
          769,
          760,
          751,
          765,
          739
         ],
         "yaxis": "y"
        },
        {
         "hovertemplate": "Ticker=SNX<br>index=%{x}<br>Rank=%{y}<extra></extra>",
         "legendgroup": "SNX",
         "line": {
          "color": "#FF97FF",
          "dash": "solid"
         },
         "marker": {
          "symbol": "circle"
         },
         "mode": "lines",
         "name": "SNX",
         "orientation": "v",
         "showlegend": true,
         "type": "scatter",
         "x": [
          "2025-06-25T00:00:00",
          "2025-06-26T00:00:00",
          "2025-06-27T00:00:00",
          "2025-06-30T00:00:00",
          "2025-07-01T00:00:00",
          "2025-07-02T00:00:00",
          "2025-07-03T00:00:00",
          "2025-07-07T00:00:00",
          "2025-07-08T00:00:00",
          "2025-07-09T00:00:00",
          "2025-07-10T00:00:00",
          "2025-07-11T00:00:00",
          "2025-07-14T00:00:00",
          "2025-07-15T00:00:00",
          "2025-07-16T00:00:00",
          "2025-07-17T00:00:00",
          "2025-07-18T00:00:00",
          "2025-07-21T00:00:00",
          "2025-07-22T00:00:00",
          "2025-07-23T00:00:00",
          "2025-07-24T00:00:00",
          "2025-07-25T00:00:00",
          "2025-07-28T00:00:00",
          "2025-07-29T00:00:00",
          "2025-07-30T00:00:00",
          "2025-07-31T00:00:00",
          "2025-08-01T00:00:00",
          "2025-08-04T00:00:00",
          "2025-08-05T00:00:00",
          "2025-08-06T00:00:00",
          "2025-08-07T00:00:00",
          "2025-08-08T00:00:00",
          "2025-08-11T00:00:00",
          "2025-08-12T00:00:00"
         ],
         "xaxis": "x",
         "y": [
          965,
          978,
          990,
          988,
          990,
          977,
          973,
          985,
          980,
          977,
          970,
          973,
          973,
          972,
          969,
          966,
          966,
          964,
          966,
          965,
          965,
          957,
          949,
          946,
          946,
          950,
          958,
          955,
          971,
          968,
          966,
          951,
          949,
          940
         ],
         "yaxis": "y"
        },
        {
         "hovertemplate": "Ticker=FN<br>index=%{x}<br>Rank=%{y}<extra></extra>",
         "legendgroup": "FN",
         "line": {
          "color": "#FECB52",
          "dash": "solid"
         },
         "marker": {
          "symbol": "circle"
         },
         "mode": "lines",
         "name": "FN",
         "orientation": "v",
         "showlegend": true,
         "type": "scatter",
         "x": [
          "2025-06-25T00:00:00",
          "2025-06-26T00:00:00",
          "2025-06-27T00:00:00",
          "2025-06-30T00:00:00",
          "2025-07-01T00:00:00",
          "2025-07-02T00:00:00",
          "2025-07-03T00:00:00",
          "2025-07-07T00:00:00",
          "2025-07-08T00:00:00",
          "2025-07-09T00:00:00",
          "2025-07-10T00:00:00",
          "2025-07-11T00:00:00",
          "2025-07-14T00:00:00",
          "2025-07-15T00:00:00",
          "2025-07-16T00:00:00",
          "2025-07-17T00:00:00",
          "2025-07-18T00:00:00",
          "2025-07-21T00:00:00",
          "2025-07-22T00:00:00",
          "2025-07-23T00:00:00",
          "2025-07-24T00:00:00",
          "2025-07-25T00:00:00",
          "2025-07-28T00:00:00",
          "2025-07-29T00:00:00",
          "2025-07-30T00:00:00",
          "2025-07-31T00:00:00",
          "2025-08-01T00:00:00",
          "2025-08-04T00:00:00",
          "2025-08-05T00:00:00",
          "2025-08-06T00:00:00",
          "2025-08-07T00:00:00",
          "2025-08-08T00:00:00",
          "2025-08-11T00:00:00",
          "2025-08-12T00:00:00"
         ],
         "xaxis": "x",
         "y": [
          1047,
          1017,
          1023,
          1034,
          1054,
          1057,
          1043,
          1056,
          1054,
          1060,
          1053,
          1050,
          1040,
          1022,
          1029,
          1012,
          1003,
          1004,
          1034,
          1027,
          1026,
          1017,
          998,
          987,
          985,
          971,
          988,
          952,
          964,
          957,
          954,
          941,
          953,
          934
         ],
         "yaxis": "y"
        }
       ],
       "layout": {
        "annotations": [
         {
          "showarrow": false,
          "text": "Recent",
          "x": "2025-08-07T00:00:00",
          "xanchor": "left",
          "xref": "x",
          "y": 1,
          "yanchor": "top",
          "yref": "y domain"
         },
         {
          "showarrow": false,
          "text": "Lookback",
          "x": "2025-07-10T00:00:00",
          "xanchor": "left",
          "xref": "x",
          "y": 1,
          "yanchor": "top",
          "yref": "y domain"
         },
         {
          "align": "left",
          "font": {
           "family": "Courier New, monospace",
           "size": 14
          },
          "showarrow": false,
          "text": "<b>Filter Criteria:</b><br>  • lookback_days: 20                   • recent_days: 4                      • min_lookback_improvement: 0       <br>  • min_recent_bottom_to_recent_start: 0  • min_recent_bottom_to_current: 2     • current_rank_bracket_start: 1     <br>  • current_rank_bracket_end: 1000    ",
          "x": 0,
          "xanchor": "left",
          "xref": "paper",
          "y": -0.25,
          "yanchor": "top",
          "yref": "paper"
         }
        ],
        "height": 700,
        "legend": {
         "title": {
          "text": "Ticker"
         },
         "tracegroupgap": 0
        },
        "margin": {
         "b": 198.8
        },
        "shapes": [
         {
          "fillcolor": "LightSkyBlue",
          "layer": "below",
          "line": {
           "width": 0
          },
          "opacity": 0.2,
          "type": "rect",
          "x0": "2025-08-07T00:00:00",
          "x1": "2025-08-12T00:00:00",
          "xref": "x",
          "y0": 0,
          "y1": 1,
          "yref": "y domain"
         },
         {
          "fillcolor": "LightGreen",
          "layer": "below",
          "line": {
           "width": 0
          },
          "opacity": 0.2,
          "type": "rect",
          "x0": "2025-07-10T00:00:00",
          "x1": "2025-08-06T00:00:00",
          "xref": "x",
          "y0": 0,
          "y1": 1,
          "yref": "y domain"
         },
         {
          "line": {
           "color": "grey",
           "dash": "dash",
           "width": 2
          },
          "type": "line",
          "x0": "2025-08-07T00:00:00",
          "x1": "2025-08-07T00:00:00",
          "xref": "x",
          "y0": 0,
          "y1": 1,
          "yref": "y domain"
         },
         {
          "line": {
           "color": "red",
           "width": 2
          },
          "type": "line",
          "x0": 0,
          "x1": 1,
          "xref": "paper",
          "y0": 1,
          "y1": 1,
          "yref": "paper"
         },
         {
          "line": {
           "color": "blue",
           "width": 2
          },
          "type": "line",
          "x0": 0,
          "x1": 1,
          "xref": "paper",
          "y0": 0,
          "y1": 0,
          "yref": "paper"
         }
        ],
        "template": {
         "data": {
          "bar": [
           {
            "error_x": {
             "color": "#2a3f5f"
            },
            "error_y": {
             "color": "#2a3f5f"
            },
            "marker": {
             "line": {
              "color": "#E5ECF6",
              "width": 0.5
             },
             "pattern": {
              "fillmode": "overlay",
              "size": 10,
              "solidity": 0.2
             }
            },
            "type": "bar"
           }
          ],
          "barpolar": [
           {
            "marker": {
             "line": {
              "color": "#E5ECF6",
              "width": 0.5
             },
             "pattern": {
              "fillmode": "overlay",
              "size": 10,
              "solidity": 0.2
             }
            },
            "type": "barpolar"
           }
          ],
          "carpet": [
           {
            "aaxis": {
             "endlinecolor": "#2a3f5f",
             "gridcolor": "white",
             "linecolor": "white",
             "minorgridcolor": "white",
             "startlinecolor": "#2a3f5f"
            },
            "baxis": {
             "endlinecolor": "#2a3f5f",
             "gridcolor": "white",
             "linecolor": "white",
             "minorgridcolor": "white",
             "startlinecolor": "#2a3f5f"
            },
            "type": "carpet"
           }
          ],
          "choropleth": [
           {
            "colorbar": {
             "outlinewidth": 0,
             "ticks": ""
            },
            "type": "choropleth"
           }
          ],
          "contour": [
           {
            "colorbar": {
             "outlinewidth": 0,
             "ticks": ""
            },
            "colorscale": [
             [
              0,
              "#0d0887"
             ],
             [
              0.1111111111111111,
              "#46039f"
             ],
             [
              0.2222222222222222,
              "#7201a8"
             ],
             [
              0.3333333333333333,
              "#9c179e"
             ],
             [
              0.4444444444444444,
              "#bd3786"
             ],
             [
              0.5555555555555556,
              "#d8576b"
             ],
             [
              0.6666666666666666,
              "#ed7953"
             ],
             [
              0.7777777777777778,
              "#fb9f3a"
             ],
             [
              0.8888888888888888,
              "#fdca26"
             ],
             [
              1,
              "#f0f921"
             ]
            ],
            "type": "contour"
           }
          ],
          "contourcarpet": [
           {
            "colorbar": {
             "outlinewidth": 0,
             "ticks": ""
            },
            "type": "contourcarpet"
           }
          ],
          "heatmap": [
           {
            "colorbar": {
             "outlinewidth": 0,
             "ticks": ""
            },
            "colorscale": [
             [
              0,
              "#0d0887"
             ],
             [
              0.1111111111111111,
              "#46039f"
             ],
             [
              0.2222222222222222,
              "#7201a8"
             ],
             [
              0.3333333333333333,
              "#9c179e"
             ],
             [
              0.4444444444444444,
              "#bd3786"
             ],
             [
              0.5555555555555556,
              "#d8576b"
             ],
             [
              0.6666666666666666,
              "#ed7953"
             ],
             [
              0.7777777777777778,
              "#fb9f3a"
             ],
             [
              0.8888888888888888,
              "#fdca26"
             ],
             [
              1,
              "#f0f921"
             ]
            ],
            "type": "heatmap"
           }
          ],
          "heatmapgl": [
           {
            "colorbar": {
             "outlinewidth": 0,
             "ticks": ""
            },
            "colorscale": [
             [
              0,
              "#0d0887"
             ],
             [
              0.1111111111111111,
              "#46039f"
             ],
             [
              0.2222222222222222,
              "#7201a8"
             ],
             [
              0.3333333333333333,
              "#9c179e"
             ],
             [
              0.4444444444444444,
              "#bd3786"
             ],
             [
              0.5555555555555556,
              "#d8576b"
             ],
             [
              0.6666666666666666,
              "#ed7953"
             ],
             [
              0.7777777777777778,
              "#fb9f3a"
             ],
             [
              0.8888888888888888,
              "#fdca26"
             ],
             [
              1,
              "#f0f921"
             ]
            ],
            "type": "heatmapgl"
           }
          ],
          "histogram": [
           {
            "marker": {
             "pattern": {
              "fillmode": "overlay",
              "size": 10,
              "solidity": 0.2
             }
            },
            "type": "histogram"
           }
          ],
          "histogram2d": [
           {
            "colorbar": {
             "outlinewidth": 0,
             "ticks": ""
            },
            "colorscale": [
             [
              0,
              "#0d0887"
             ],
             [
              0.1111111111111111,
              "#46039f"
             ],
             [
              0.2222222222222222,
              "#7201a8"
             ],
             [
              0.3333333333333333,
              "#9c179e"
             ],
             [
              0.4444444444444444,
              "#bd3786"
             ],
             [
              0.5555555555555556,
              "#d8576b"
             ],
             [
              0.6666666666666666,
              "#ed7953"
             ],
             [
              0.7777777777777778,
              "#fb9f3a"
             ],
             [
              0.8888888888888888,
              "#fdca26"
             ],
             [
              1,
              "#f0f921"
             ]
            ],
            "type": "histogram2d"
           }
          ],
          "histogram2dcontour": [
           {
            "colorbar": {
             "outlinewidth": 0,
             "ticks": ""
            },
            "colorscale": [
             [
              0,
              "#0d0887"
             ],
             [
              0.1111111111111111,
              "#46039f"
             ],
             [
              0.2222222222222222,
              "#7201a8"
             ],
             [
              0.3333333333333333,
              "#9c179e"
             ],
             [
              0.4444444444444444,
              "#bd3786"
             ],
             [
              0.5555555555555556,
              "#d8576b"
             ],
             [
              0.6666666666666666,
              "#ed7953"
             ],
             [
              0.7777777777777778,
              "#fb9f3a"
             ],
             [
              0.8888888888888888,
              "#fdca26"
             ],
             [
              1,
              "#f0f921"
             ]
            ],
            "type": "histogram2dcontour"
           }
          ],
          "mesh3d": [
           {
            "colorbar": {
             "outlinewidth": 0,
             "ticks": ""
            },
            "type": "mesh3d"
           }
          ],
          "parcoords": [
           {
            "line": {
             "colorbar": {
              "outlinewidth": 0,
              "ticks": ""
             }
            },
            "type": "parcoords"
           }
          ],
          "pie": [
           {
            "automargin": true,
            "type": "pie"
           }
          ],
          "scatter": [
           {
            "fillpattern": {
             "fillmode": "overlay",
             "size": 10,
             "solidity": 0.2
            },
            "type": "scatter"
           }
          ],
          "scatter3d": [
           {
            "line": {
             "colorbar": {
              "outlinewidth": 0,
              "ticks": ""
             }
            },
            "marker": {
             "colorbar": {
              "outlinewidth": 0,
              "ticks": ""
             }
            },
            "type": "scatter3d"
           }
          ],
          "scattercarpet": [
           {
            "marker": {
             "colorbar": {
              "outlinewidth": 0,
              "ticks": ""
             }
            },
            "type": "scattercarpet"
           }
          ],
          "scattergeo": [
           {
            "marker": {
             "colorbar": {
              "outlinewidth": 0,
              "ticks": ""
             }
            },
            "type": "scattergeo"
           }
          ],
          "scattergl": [
           {
            "marker": {
             "colorbar": {
              "outlinewidth": 0,
              "ticks": ""
             }
            },
            "type": "scattergl"
           }
          ],
          "scattermapbox": [
           {
            "marker": {
             "colorbar": {
              "outlinewidth": 0,
              "ticks": ""
             }
            },
            "type": "scattermapbox"
           }
          ],
          "scatterpolar": [
           {
            "marker": {
             "colorbar": {
              "outlinewidth": 0,
              "ticks": ""
             }
            },
            "type": "scatterpolar"
           }
          ],
          "scatterpolargl": [
           {
            "marker": {
             "colorbar": {
              "outlinewidth": 0,
              "ticks": ""
             }
            },
            "type": "scatterpolargl"
           }
          ],
          "scatterternary": [
           {
            "marker": {
             "colorbar": {
              "outlinewidth": 0,
              "ticks": ""
             }
            },
            "type": "scatterternary"
           }
          ],
          "surface": [
           {
            "colorbar": {
             "outlinewidth": 0,
             "ticks": ""
            },
            "colorscale": [
             [
              0,
              "#0d0887"
             ],
             [
              0.1111111111111111,
              "#46039f"
             ],
             [
              0.2222222222222222,
              "#7201a8"
             ],
             [
              0.3333333333333333,
              "#9c179e"
             ],
             [
              0.4444444444444444,
              "#bd3786"
             ],
             [
              0.5555555555555556,
              "#d8576b"
             ],
             [
              0.6666666666666666,
              "#ed7953"
             ],
             [
              0.7777777777777778,
              "#fb9f3a"
             ],
             [
              0.8888888888888888,
              "#fdca26"
             ],
             [
              1,
              "#f0f921"
             ]
            ],
            "type": "surface"
           }
          ],
          "table": [
           {
            "cells": {
             "fill": {
              "color": "#EBF0F8"
             },
             "line": {
              "color": "white"
             }
            },
            "header": {
             "fill": {
              "color": "#C8D4E3"
             },
             "line": {
              "color": "white"
             }
            },
            "type": "table"
           }
          ]
         },
         "layout": {
          "annotationdefaults": {
           "arrowcolor": "#2a3f5f",
           "arrowhead": 0,
           "arrowwidth": 1
          },
          "autotypenumbers": "strict",
          "coloraxis": {
           "colorbar": {
            "outlinewidth": 0,
            "ticks": ""
           }
          },
          "colorscale": {
           "diverging": [
            [
             0,
             "#8e0152"
            ],
            [
             0.1,
             "#c51b7d"
            ],
            [
             0.2,
             "#de77ae"
            ],
            [
             0.3,
             "#f1b6da"
            ],
            [
             0.4,
             "#fde0ef"
            ],
            [
             0.5,
             "#f7f7f7"
            ],
            [
             0.6,
             "#e6f5d0"
            ],
            [
             0.7,
             "#b8e186"
            ],
            [
             0.8,
             "#7fbc41"
            ],
            [
             0.9,
             "#4d9221"
            ],
            [
             1,
             "#276419"
            ]
           ],
           "sequential": [
            [
             0,
             "#0d0887"
            ],
            [
             0.1111111111111111,
             "#46039f"
            ],
            [
             0.2222222222222222,
             "#7201a8"
            ],
            [
             0.3333333333333333,
             "#9c179e"
            ],
            [
             0.4444444444444444,
             "#bd3786"
            ],
            [
             0.5555555555555556,
             "#d8576b"
            ],
            [
             0.6666666666666666,
             "#ed7953"
            ],
            [
             0.7777777777777778,
             "#fb9f3a"
            ],
            [
             0.8888888888888888,
             "#fdca26"
            ],
            [
             1,
             "#f0f921"
            ]
           ],
           "sequentialminus": [
            [
             0,
             "#0d0887"
            ],
            [
             0.1111111111111111,
             "#46039f"
            ],
            [
             0.2222222222222222,
             "#7201a8"
            ],
            [
             0.3333333333333333,
             "#9c179e"
            ],
            [
             0.4444444444444444,
             "#bd3786"
            ],
            [
             0.5555555555555556,
             "#d8576b"
            ],
            [
             0.6666666666666666,
             "#ed7953"
            ],
            [
             0.7777777777777778,
             "#fb9f3a"
            ],
            [
             0.8888888888888888,
             "#fdca26"
            ],
            [
             1,
             "#f0f921"
            ]
           ]
          },
          "colorway": [
           "#636efa",
           "#EF553B",
           "#00cc96",
           "#ab63fa",
           "#FFA15A",
           "#19d3f3",
           "#FF6692",
           "#B6E880",
           "#FF97FF",
           "#FECB52"
          ],
          "font": {
           "color": "#2a3f5f"
          },
          "geo": {
           "bgcolor": "white",
           "lakecolor": "white",
           "landcolor": "#E5ECF6",
           "showlakes": true,
           "showland": true,
           "subunitcolor": "white"
          },
          "hoverlabel": {
           "align": "left"
          },
          "hovermode": "closest",
          "mapbox": {
           "style": "light"
          },
          "paper_bgcolor": "white",
          "plot_bgcolor": "#E5ECF6",
          "polar": {
           "angularaxis": {
            "gridcolor": "white",
            "linecolor": "white",
            "ticks": ""
           },
           "bgcolor": "#E5ECF6",
           "radialaxis": {
            "gridcolor": "white",
            "linecolor": "white",
            "ticks": ""
           }
          },
          "scene": {
           "xaxis": {
            "backgroundcolor": "#E5ECF6",
            "gridcolor": "white",
            "gridwidth": 2,
            "linecolor": "white",
            "showbackground": true,
            "ticks": "",
            "zerolinecolor": "white"
           },
           "yaxis": {
            "backgroundcolor": "#E5ECF6",
            "gridcolor": "white",
            "gridwidth": 2,
            "linecolor": "white",
            "showbackground": true,
            "ticks": "",
            "zerolinecolor": "white"
           },
           "zaxis": {
            "backgroundcolor": "#E5ECF6",
            "gridcolor": "white",
            "gridwidth": 2,
            "linecolor": "white",
            "showbackground": true,
            "ticks": "",
            "zerolinecolor": "white"
           }
          },
          "shapedefaults": {
           "line": {
            "color": "#2a3f5f"
           }
          },
          "ternary": {
           "aaxis": {
            "gridcolor": "white",
            "linecolor": "white",
            "ticks": ""
           },
           "baxis": {
            "gridcolor": "white",
            "linecolor": "white",
            "ticks": ""
           },
           "bgcolor": "#E5ECF6",
           "caxis": {
            "gridcolor": "white",
            "linecolor": "white",
            "ticks": ""
           }
          },
          "title": {
           "x": 0.05
          },
          "xaxis": {
           "automargin": true,
           "gridcolor": "white",
           "linecolor": "white",
           "ticks": "",
           "title": {
            "standoff": 15
           },
           "zerolinecolor": "white",
           "zerolinewidth": 2
          },
          "yaxis": {
           "automargin": true,
           "gridcolor": "white",
           "linecolor": "white",
           "ticks": "",
           "title": {
            "standoff": 15
           },
           "zerolinecolor": "white",
           "zerolinewidth": 2
          }
         }
        },
        "title": {
         "text": "Rank History: 'Reversal' Candidates"
        },
        "updatemenus": [
         {
          "buttons": [
           {
            "args": [
             {
              "visible": [
               true,
               true,
               true,
               true,
               true,
               true,
               true,
               true,
               true,
               true
              ]
             }
            ],
            "label": "Reset View",
            "method": "restyle"
           },
           {
            "args": [
             {
              "visible": [
               "legendonly",
               "legendonly",
               "legendonly",
               "legendonly",
               "legendonly",
               "legendonly",
               "legendonly",
               "legendonly",
               "legendonly",
               "legendonly"
              ]
             }
            ],
            "label": "Clear All",
            "method": "restyle"
           }
          ],
          "direction": "left",
          "showactive": false,
          "type": "buttons",
          "x": 0.01,
          "xanchor": "left",
          "y": 1.1,
          "yanchor": "top"
         }
        ],
        "width": 1150,
        "xaxis": {
         "anchor": "y",
         "domain": [
          0,
          1
         ],
         "dtick": "D7",
         "gridcolor": "LightGrey",
         "minor": {
          "dtick": "D1",
          "gridcolor": "rgba(235, 235, 235, 0.5)",
          "showgrid": true
         },
         "range": [
          "2025-06-25T00:00:00",
          "2025-08-12T00:00:00"
         ],
         "showgrid": true,
         "tickformat": "%b %d",
         "title": {
          "standoff": 25,
          "text": "Date"
         },
         "type": "date"
        },
        "yaxis": {
         "anchor": "x",
         "autorange": "reversed",
         "domain": [
          0,
          1
         ],
         "dtick": 100,
         "gridcolor": "LightGrey",
         "showgrid": true,
         "title": {
          "text": "Rank"
         }
        }
       }
      }
     },
     "metadata": {},
     "output_type": "display_data"
    }
   ],
   "source": [
    "plot_days = filter_criteria['lookback_days'] + filter_criteria['recent_days'] + 10  # add 10 extra days for plotting \n",
    "\n",
    "# 4. Call the new plotting function\n",
    "if tickers_to_plot:\n",
    "    plot_rank_with_criteria(\n",
    "        # df_rank_history=selected_df.iloc[:, -plot_days::],\n",
    "        df_rank_history=df_tickers_rank_history.iloc[:, -plot_days::],        \n",
    "        # df_rank_history=selected_df,\n",
    "        ticker_list=tickers_to_plot,\n",
    "        title_suffix=\"'Reversal' Candidates\",\n",
    "        filter_criteria=filter_criteria, # Pass the dictionary here\n",
    "        width=1150,\n",
    "        height=700,\n",
    "    )\n",
    "else:\n",
    "    print(\"No candidates found to plot.\")"
   ]
  },
  {
   "cell_type": "code",
   "execution_count": 15,
   "metadata": {},
   "outputs": [],
   "source": [
    "# List of tickers\n",
    "portfolio_tickers = [\"JOBY\",\n",
    "                     \"SYM\",\n",
    "                     \"RKLB\",\n",
    "                     \"MSTR\",\n",
    "                     \"ORCL\",\n",
    "                     \"SHOP\",\n",
    "                     \"COIN\",\n",
    "                     \"VGT\",\n",
    "                     \"AVAV\",\n",
    "                     \"META\",\n",
    "                     \"NVDA\",]"
   ]
  },
  {
   "cell_type": "code",
   "execution_count": 16,
   "metadata": {},
   "outputs": [
    {
     "data": {
      "application/vnd.plotly.v1+json": {
       "config": {
        "plotlyServerURL": "https://plot.ly"
       },
       "data": [
        {
         "hovertemplate": "Ticker=JOBY<br>index=%{x}<br>Rank=%{y}<extra></extra>",
         "legendgroup": "JOBY",
         "line": {
          "color": "#636EFA",
          "dash": "solid"
         },
         "marker": {
          "symbol": "circle"
         },
         "mode": "lines",
         "name": "JOBY",
         "orientation": "v",
         "showlegend": true,
         "type": "scatter",
         "x": [
          "2025-06-25T00:00:00",
          "2025-06-26T00:00:00",
          "2025-06-27T00:00:00",
          "2025-06-30T00:00:00",
          "2025-07-01T00:00:00",
          "2025-07-02T00:00:00",
          "2025-07-03T00:00:00",
          "2025-07-07T00:00:00",
          "2025-07-08T00:00:00",
          "2025-07-09T00:00:00",
          "2025-07-10T00:00:00",
          "2025-07-11T00:00:00",
          "2025-07-14T00:00:00",
          "2025-07-15T00:00:00",
          "2025-07-16T00:00:00",
          "2025-07-17T00:00:00",
          "2025-07-18T00:00:00",
          "2025-07-21T00:00:00",
          "2025-07-22T00:00:00",
          "2025-07-23T00:00:00",
          "2025-07-24T00:00:00",
          "2025-07-25T00:00:00",
          "2025-07-28T00:00:00",
          "2025-07-29T00:00:00",
          "2025-07-30T00:00:00",
          "2025-07-31T00:00:00",
          "2025-08-01T00:00:00",
          "2025-08-04T00:00:00",
          "2025-08-05T00:00:00",
          "2025-08-06T00:00:00",
          "2025-08-07T00:00:00",
          "2025-08-08T00:00:00",
          "2025-08-11T00:00:00",
          "2025-08-12T00:00:00"
         ],
         "xaxis": "x",
         "y": [
          1333,
          1259,
          1270,
          1186,
          1243,
          1223,
          1202,
          1188,
          1140,
          1133,
          1095,
          1104,
          1072,
          1005,
          905,
          862,
          860,
          895,
          906,
          873,
          877,
          854,
          889,
          900,
          null,
          null,
          null,
          null,
          null,
          null,
          null,
          null,
          830,
          814
         ],
         "yaxis": "y"
        },
        {
         "hovertemplate": "Ticker=SYM<br>index=%{x}<br>Rank=%{y}<extra></extra>",
         "legendgroup": "SYM",
         "line": {
          "color": "#EF553B",
          "dash": "solid"
         },
         "marker": {
          "symbol": "circle"
         },
         "mode": "lines",
         "name": "SYM",
         "orientation": "v",
         "showlegend": true,
         "type": "scatter",
         "x": [
          "2025-06-25T00:00:00",
          "2025-06-26T00:00:00",
          "2025-06-27T00:00:00",
          "2025-06-30T00:00:00",
          "2025-07-01T00:00:00",
          "2025-07-02T00:00:00",
          "2025-07-03T00:00:00",
          "2025-07-07T00:00:00",
          "2025-07-08T00:00:00",
          "2025-07-09T00:00:00",
          "2025-07-10T00:00:00",
          "2025-07-11T00:00:00",
          "2025-07-14T00:00:00",
          "2025-07-15T00:00:00",
          "2025-07-16T00:00:00",
          "2025-07-17T00:00:00",
          "2025-07-18T00:00:00",
          "2025-07-21T00:00:00",
          "2025-07-22T00:00:00",
          "2025-07-23T00:00:00",
          "2025-07-24T00:00:00",
          "2025-07-25T00:00:00",
          "2025-07-28T00:00:00",
          "2025-07-29T00:00:00",
          "2025-07-30T00:00:00",
          "2025-07-31T00:00:00",
          "2025-08-01T00:00:00",
          "2025-08-04T00:00:00",
          "2025-08-05T00:00:00",
          "2025-08-06T00:00:00",
          "2025-08-07T00:00:00",
          "2025-08-08T00:00:00",
          "2025-08-11T00:00:00",
          "2025-08-12T00:00:00"
         ],
         "xaxis": "x",
         "y": [
          646,
          615,
          618,
          604,
          599,
          564,
          514,
          516,
          528,
          517,
          512,
          519,
          514,
          500,
          478,
          474,
          471,
          501,
          509,
          481,
          481,
          486,
          484,
          498,
          null,
          null,
          null,
          null,
          null,
          null,
          null,
          null,
          491,
          494
         ],
         "yaxis": "y"
        },
        {
         "hovertemplate": "Ticker=RKLB<br>index=%{x}<br>Rank=%{y}<extra></extra>",
         "legendgroup": "RKLB",
         "line": {
          "color": "#00CC96",
          "dash": "solid"
         },
         "marker": {
          "symbol": "circle"
         },
         "mode": "lines",
         "name": "RKLB",
         "orientation": "v",
         "showlegend": true,
         "type": "scatter",
         "x": [
          "2025-06-25T00:00:00",
          "2025-06-26T00:00:00",
          "2025-06-27T00:00:00",
          "2025-06-30T00:00:00",
          "2025-07-01T00:00:00",
          "2025-07-02T00:00:00",
          "2025-07-03T00:00:00",
          "2025-07-07T00:00:00",
          "2025-07-08T00:00:00",
          "2025-07-09T00:00:00",
          "2025-07-10T00:00:00",
          "2025-07-11T00:00:00",
          "2025-07-14T00:00:00",
          "2025-07-15T00:00:00",
          "2025-07-16T00:00:00",
          "2025-07-17T00:00:00",
          "2025-07-18T00:00:00",
          "2025-07-21T00:00:00",
          "2025-07-22T00:00:00",
          "2025-07-23T00:00:00",
          "2025-07-24T00:00:00",
          "2025-07-25T00:00:00",
          "2025-07-28T00:00:00",
          "2025-07-29T00:00:00",
          "2025-07-30T00:00:00",
          "2025-07-31T00:00:00",
          "2025-08-01T00:00:00",
          "2025-08-04T00:00:00",
          "2025-08-05T00:00:00",
          "2025-08-06T00:00:00",
          "2025-08-07T00:00:00",
          "2025-08-08T00:00:00",
          "2025-08-11T00:00:00",
          "2025-08-12T00:00:00"
         ],
         "xaxis": "x",
         "y": [
          810,
          752,
          764,
          765,
          790,
          768,
          767,
          719,
          722,
          721,
          723,
          724,
          667,
          638,
          606,
          575,
          575,
          619,
          629,
          609,
          617,
          626,
          644,
          659,
          null,
          null,
          null,
          null,
          null,
          null,
          null,
          null,
          641,
          657
         ],
         "yaxis": "y"
        },
        {
         "hovertemplate": "Ticker=MSTR<br>index=%{x}<br>Rank=%{y}<extra></extra>",
         "legendgroup": "MSTR",
         "line": {
          "color": "#AB63FA",
          "dash": "solid"
         },
         "marker": {
          "symbol": "circle"
         },
         "mode": "lines",
         "name": "MSTR",
         "orientation": "v",
         "showlegend": true,
         "type": "scatter",
         "x": [
          "2025-06-25T00:00:00",
          "2025-06-26T00:00:00",
          "2025-06-27T00:00:00",
          "2025-06-30T00:00:00",
          "2025-07-01T00:00:00",
          "2025-07-02T00:00:00",
          "2025-07-03T00:00:00",
          "2025-07-07T00:00:00",
          "2025-07-08T00:00:00",
          "2025-07-09T00:00:00",
          "2025-07-10T00:00:00",
          "2025-07-11T00:00:00",
          "2025-07-14T00:00:00",
          "2025-07-15T00:00:00",
          "2025-07-16T00:00:00",
          "2025-07-17T00:00:00",
          "2025-07-18T00:00:00",
          "2025-07-21T00:00:00",
          "2025-07-22T00:00:00",
          "2025-07-23T00:00:00",
          "2025-07-24T00:00:00",
          "2025-07-25T00:00:00",
          "2025-07-28T00:00:00",
          "2025-07-29T00:00:00",
          "2025-07-30T00:00:00",
          "2025-07-31T00:00:00",
          "2025-08-01T00:00:00",
          "2025-08-04T00:00:00",
          "2025-08-05T00:00:00",
          "2025-08-06T00:00:00",
          "2025-08-07T00:00:00",
          "2025-08-08T00:00:00",
          "2025-08-11T00:00:00",
          "2025-08-12T00:00:00"
         ],
         "xaxis": "x",
         "y": [
          142,
          142,
          144,
          140,
          149,
          142,
          142,
          142,
          141,
          138,
          136,
          132,
          124,
          126,
          123,
          124,
          135,
          135,
          138,
          136,
          136,
          137,
          140,
          142,
          142,
          137,
          148,
          143,
          147,
          143,
          137,
          137,
          136,
          140
         ],
         "yaxis": "y"
        },
        {
         "hovertemplate": "Ticker=ORCL<br>index=%{x}<br>Rank=%{y}<extra></extra>",
         "legendgroup": "ORCL",
         "line": {
          "color": "#FFA15A",
          "dash": "solid"
         },
         "marker": {
          "symbol": "circle"
         },
         "mode": "lines",
         "name": "ORCL",
         "orientation": "v",
         "showlegend": true,
         "type": "scatter",
         "x": [
          "2025-06-25T00:00:00",
          "2025-06-26T00:00:00",
          "2025-06-27T00:00:00",
          "2025-06-30T00:00:00",
          "2025-07-01T00:00:00",
          "2025-07-02T00:00:00",
          "2025-07-03T00:00:00",
          "2025-07-07T00:00:00",
          "2025-07-08T00:00:00",
          "2025-07-09T00:00:00",
          "2025-07-10T00:00:00",
          "2025-07-11T00:00:00",
          "2025-07-14T00:00:00",
          "2025-07-15T00:00:00",
          "2025-07-16T00:00:00",
          "2025-07-17T00:00:00",
          "2025-07-18T00:00:00",
          "2025-07-21T00:00:00",
          "2025-07-22T00:00:00",
          "2025-07-23T00:00:00",
          "2025-07-24T00:00:00",
          "2025-07-25T00:00:00",
          "2025-07-28T00:00:00",
          "2025-07-29T00:00:00",
          "2025-07-30T00:00:00",
          "2025-07-31T00:00:00",
          "2025-08-01T00:00:00",
          "2025-08-04T00:00:00",
          "2025-08-05T00:00:00",
          "2025-08-06T00:00:00",
          "2025-08-07T00:00:00",
          "2025-08-08T00:00:00",
          "2025-08-11T00:00:00",
          "2025-08-12T00:00:00"
         ],
         "xaxis": "x",
         "y": [
          19,
          20,
          20,
          20,
          20,
          18,
          18,
          18,
          18,
          18,
          18,
          18,
          18,
          18,
          18,
          16,
          17,
          17,
          18,
          18,
          18,
          18,
          17,
          17,
          17,
          15,
          17,
          16,
          16,
          15,
          16,
          16,
          16,
          16
         ],
         "yaxis": "y"
        },
        {
         "hovertemplate": "Ticker=SHOP<br>index=%{x}<br>Rank=%{y}<extra></extra>",
         "legendgroup": "SHOP",
         "line": {
          "color": "#19D3F3",
          "dash": "solid"
         },
         "marker": {
          "symbol": "circle"
         },
         "mode": "lines",
         "name": "SHOP",
         "orientation": "v",
         "showlegend": true,
         "type": "scatter",
         "x": [
          "2025-06-25T00:00:00",
          "2025-06-26T00:00:00",
          "2025-06-27T00:00:00",
          "2025-06-30T00:00:00",
          "2025-07-01T00:00:00",
          "2025-07-02T00:00:00",
          "2025-07-03T00:00:00",
          "2025-07-07T00:00:00",
          "2025-07-08T00:00:00",
          "2025-07-09T00:00:00",
          "2025-07-10T00:00:00",
          "2025-07-11T00:00:00",
          "2025-07-14T00:00:00",
          "2025-07-15T00:00:00",
          "2025-07-16T00:00:00",
          "2025-07-17T00:00:00",
          "2025-07-18T00:00:00",
          "2025-07-21T00:00:00",
          "2025-07-22T00:00:00",
          "2025-07-23T00:00:00",
          "2025-07-24T00:00:00",
          "2025-07-25T00:00:00",
          "2025-07-28T00:00:00",
          "2025-07-29T00:00:00",
          "2025-07-30T00:00:00",
          "2025-07-31T00:00:00",
          "2025-08-01T00:00:00",
          "2025-08-04T00:00:00",
          "2025-08-05T00:00:00",
          "2025-08-06T00:00:00",
          "2025-08-07T00:00:00",
          "2025-08-08T00:00:00",
          "2025-08-11T00:00:00",
          "2025-08-12T00:00:00"
         ],
         "xaxis": "x",
         "y": [
          96,
          97,
          95,
          96,
          98,
          97,
          95,
          94,
          98,
          96,
          95,
          100,
          94,
          95,
          88,
          83,
          83,
          83,
          85,
          91,
          90,
          90,
          86,
          88,
          null,
          null,
          null,
          null,
          null,
          null,
          null,
          null,
          66,
          65
         ],
         "yaxis": "y"
        },
        {
         "hovertemplate": "Ticker=COIN<br>index=%{x}<br>Rank=%{y}<extra></extra>",
         "legendgroup": "COIN",
         "line": {
          "color": "#FF6692",
          "dash": "solid"
         },
         "marker": {
          "symbol": "circle"
         },
         "mode": "lines",
         "name": "COIN",
         "orientation": "v",
         "showlegend": true,
         "type": "scatter",
         "x": [
          "2025-06-25T00:00:00",
          "2025-06-26T00:00:00",
          "2025-06-27T00:00:00",
          "2025-06-30T00:00:00",
          "2025-07-01T00:00:00",
          "2025-07-02T00:00:00",
          "2025-07-03T00:00:00",
          "2025-07-07T00:00:00",
          "2025-07-08T00:00:00",
          "2025-07-09T00:00:00",
          "2025-07-10T00:00:00",
          "2025-07-11T00:00:00",
          "2025-07-14T00:00:00",
          "2025-07-15T00:00:00",
          "2025-07-16T00:00:00",
          "2025-07-17T00:00:00",
          "2025-07-18T00:00:00",
          "2025-07-21T00:00:00",
          "2025-07-22T00:00:00",
          "2025-07-23T00:00:00",
          "2025-07-24T00:00:00",
          "2025-07-25T00:00:00",
          "2025-07-28T00:00:00",
          "2025-07-29T00:00:00",
          "2025-07-30T00:00:00",
          "2025-07-31T00:00:00",
          "2025-08-01T00:00:00",
          "2025-08-04T00:00:00",
          "2025-08-05T00:00:00",
          "2025-08-06T00:00:00",
          "2025-08-07T00:00:00",
          "2025-08-08T00:00:00",
          "2025-08-11T00:00:00",
          "2025-08-12T00:00:00"
         ],
         "xaxis": "x",
         "y": [
          170,
          162,
          175,
          178,
          190,
          174,
          177,
          174,
          175,
          167,
          157,
          157,
          156,
          157,
          153,
          146,
          145,
          147,
          150,
          158,
          158,
          161,
          167,
          170,
          null,
          null,
          null,
          null,
          null,
          null,
          null,
          null,
          195,
          196
         ],
         "yaxis": "y"
        },
        {
         "hovertemplate": "Ticker=VGT<br>index=%{x}<br>Rank=%{y}<extra></extra>",
         "legendgroup": "VGT",
         "line": {
          "color": "#1F77B4",
          "dash": "solid"
         },
         "marker": {
          "symbol": "circle"
         },
         "mode": "lines",
         "name": "VGT",
         "orientation": "v",
         "showlegend": true,
         "type": "scatter",
         "x": [
          "2025-06-25T00:00:00",
          "2025-06-26T00:00:00",
          "2025-06-27T00:00:00",
          "2025-06-30T00:00:00",
          "2025-07-01T00:00:00",
          "2025-07-02T00:00:00",
          "2025-07-03T00:00:00",
          "2025-07-07T00:00:00",
          "2025-07-08T00:00:00",
          "2025-07-09T00:00:00",
          "2025-07-10T00:00:00",
          "2025-07-11T00:00:00",
          "2025-07-14T00:00:00",
          "2025-07-15T00:00:00",
          "2025-07-16T00:00:00",
          "2025-07-17T00:00:00",
          "2025-07-18T00:00:00",
          "2025-07-21T00:00:00",
          "2025-07-22T00:00:00",
          "2025-07-23T00:00:00",
          "2025-07-24T00:00:00",
          "2025-07-25T00:00:00",
          "2025-07-28T00:00:00",
          "2025-07-29T00:00:00",
          "2025-07-30T00:00:00",
          "2025-07-31T00:00:00",
          "2025-08-01T00:00:00",
          "2025-08-04T00:00:00",
          "2025-08-05T00:00:00",
          "2025-08-06T00:00:00",
          "2025-08-07T00:00:00",
          "2025-08-08T00:00:00",
          "2025-08-11T00:00:00",
          "2025-08-12T00:00:00"
         ],
         "xaxis": "x",
         "y": [
          169,
          169,
          168,
          168,
          168,
          168,
          168,
          166,
          166,
          166,
          166,
          166,
          168,
          165,
          163,
          164,
          162,
          162,
          164,
          169,
          169,
          166,
          164,
          161,
          160,
          158,
          158,
          168,
          160,
          166,
          162,
          163,
          160,
          162
         ],
         "yaxis": "y"
        },
        {
         "hovertemplate": "Ticker=AVAV<br>index=%{x}<br>Rank=%{y}<extra></extra>",
         "legendgroup": "AVAV",
         "line": {
          "color": "#FF97FF",
          "dash": "solid"
         },
         "marker": {
          "symbol": "circle"
         },
         "mode": "lines",
         "name": "AVAV",
         "orientation": "v",
         "showlegend": true,
         "type": "scatter",
         "x": [
          "2025-06-25T00:00:00",
          "2025-06-26T00:00:00",
          "2025-06-27T00:00:00",
          "2025-06-30T00:00:00",
          "2025-07-01T00:00:00",
          "2025-07-02T00:00:00",
          "2025-07-03T00:00:00",
          "2025-07-07T00:00:00",
          "2025-07-08T00:00:00",
          "2025-07-09T00:00:00",
          "2025-07-10T00:00:00",
          "2025-07-11T00:00:00",
          "2025-07-14T00:00:00",
          "2025-07-15T00:00:00",
          "2025-07-16T00:00:00",
          "2025-07-17T00:00:00",
          "2025-07-18T00:00:00",
          "2025-07-21T00:00:00",
          "2025-07-22T00:00:00",
          "2025-07-23T00:00:00",
          "2025-07-24T00:00:00",
          "2025-07-25T00:00:00",
          "2025-07-28T00:00:00",
          "2025-07-29T00:00:00",
          "2025-07-30T00:00:00",
          "2025-07-31T00:00:00",
          "2025-08-01T00:00:00",
          "2025-08-04T00:00:00",
          "2025-08-05T00:00:00",
          "2025-08-06T00:00:00",
          "2025-08-07T00:00:00",
          "2025-08-08T00:00:00",
          "2025-08-11T00:00:00",
          "2025-08-12T00:00:00"
         ],
         "xaxis": "x",
         "y": [
          1013,
          922,
          910,
          902,
          982,
          998,
          1002,
          1015,
          975,
          976,
          973,
          905,
          901,
          894,
          891,
          876,
          888,
          888,
          913,
          900,
          903,
          900,
          901,
          908,
          902,
          895,
          905,
          895,
          899,
          907,
          914,
          947,
          946,
          944
         ],
         "yaxis": "y"
        },
        {
         "hovertemplate": "Ticker=META<br>index=%{x}<br>Rank=%{y}<extra></extra>",
         "legendgroup": "META",
         "line": {
          "color": "#FECB52",
          "dash": "solid"
         },
         "marker": {
          "symbol": "circle"
         },
         "mode": "lines",
         "name": "META",
         "orientation": "v",
         "showlegend": true,
         "type": "scatter",
         "x": [
          "2025-06-25T00:00:00",
          "2025-06-26T00:00:00",
          "2025-06-27T00:00:00",
          "2025-06-30T00:00:00",
          "2025-07-01T00:00:00",
          "2025-07-02T00:00:00",
          "2025-07-03T00:00:00",
          "2025-07-07T00:00:00",
          "2025-07-08T00:00:00",
          "2025-07-09T00:00:00",
          "2025-07-10T00:00:00",
          "2025-07-11T00:00:00",
          "2025-07-14T00:00:00",
          "2025-07-15T00:00:00",
          "2025-07-16T00:00:00",
          "2025-07-17T00:00:00",
          "2025-07-18T00:00:00",
          "2025-07-21T00:00:00",
          "2025-07-22T00:00:00",
          "2025-07-23T00:00:00",
          "2025-07-24T00:00:00",
          "2025-07-25T00:00:00",
          "2025-07-28T00:00:00",
          "2025-07-29T00:00:00",
          "2025-07-30T00:00:00",
          "2025-07-31T00:00:00",
          "2025-08-01T00:00:00",
          "2025-08-04T00:00:00",
          "2025-08-05T00:00:00",
          "2025-08-06T00:00:00",
          "2025-08-07T00:00:00",
          "2025-08-08T00:00:00",
          "2025-08-11T00:00:00",
          "2025-08-12T00:00:00"
         ],
         "xaxis": "x",
         "y": [
          7,
          7,
          7,
          7,
          7,
          7,
          7,
          7,
          7,
          7,
          7,
          7,
          7,
          7,
          7,
          7,
          7,
          7,
          7,
          7,
          7,
          7,
          7,
          7,
          7,
          7,
          7,
          7,
          7,
          7,
          7,
          7,
          7,
          7
         ],
         "yaxis": "y"
        },
        {
         "hovertemplate": "Ticker=NVDA<br>index=%{x}<br>Rank=%{y}<extra></extra>",
         "legendgroup": "NVDA",
         "line": {
          "color": "#636EFA",
          "dash": "solid"
         },
         "marker": {
          "symbol": "circle"
         },
         "mode": "lines",
         "name": "NVDA",
         "orientation": "v",
         "showlegend": true,
         "type": "scatter",
         "x": [
          "2025-06-25T00:00:00",
          "2025-06-26T00:00:00",
          "2025-06-27T00:00:00",
          "2025-06-30T00:00:00",
          "2025-07-01T00:00:00",
          "2025-07-02T00:00:00",
          "2025-07-03T00:00:00",
          "2025-07-07T00:00:00",
          "2025-07-08T00:00:00",
          "2025-07-09T00:00:00",
          "2025-07-10T00:00:00",
          "2025-07-11T00:00:00",
          "2025-07-14T00:00:00",
          "2025-07-15T00:00:00",
          "2025-07-16T00:00:00",
          "2025-07-17T00:00:00",
          "2025-07-18T00:00:00",
          "2025-07-21T00:00:00",
          "2025-07-22T00:00:00",
          "2025-07-23T00:00:00",
          "2025-07-24T00:00:00",
          "2025-07-25T00:00:00",
          "2025-07-28T00:00:00",
          "2025-07-29T00:00:00",
          "2025-07-30T00:00:00",
          "2025-07-31T00:00:00",
          "2025-08-01T00:00:00",
          "2025-08-04T00:00:00",
          "2025-08-05T00:00:00",
          "2025-08-06T00:00:00",
          "2025-08-07T00:00:00",
          "2025-08-08T00:00:00",
          "2025-08-11T00:00:00",
          "2025-08-12T00:00:00"
         ],
         "xaxis": "x",
         "y": [
          1,
          1,
          1,
          1,
          1,
          1,
          1,
          1,
          1,
          1,
          1,
          1,
          1,
          1,
          1,
          1,
          1,
          1,
          1,
          1,
          1,
          1,
          1,
          1,
          1,
          1,
          1,
          1,
          1,
          1,
          1,
          1,
          1,
          1
         ],
         "yaxis": "y"
        }
       ],
       "layout": {
        "annotations": [
         {
          "showarrow": false,
          "text": "Recent",
          "x": "2025-08-07T00:00:00",
          "xanchor": "left",
          "xref": "x",
          "y": 1,
          "yanchor": "top",
          "yref": "y domain"
         },
         {
          "showarrow": false,
          "text": "Lookback",
          "x": "2025-07-10T00:00:00",
          "xanchor": "left",
          "xref": "x",
          "y": 1,
          "yanchor": "top",
          "yref": "y domain"
         },
         {
          "align": "left",
          "font": {
           "family": "Courier New, monospace",
           "size": 14
          },
          "showarrow": false,
          "text": "<b>Filter Criteria:</b><br>  • lookback_days: 20                   • recent_days: 4                      • min_lookback_improvement: 0       <br>  • min_recent_bottom_to_recent_start: 0  • min_recent_bottom_to_current: 2     • current_rank_bracket_start: 1     <br>  • current_rank_bracket_end: 1000    ",
          "x": 0,
          "xanchor": "left",
          "xref": "paper",
          "y": -0.25,
          "yanchor": "top",
          "yref": "paper"
         }
        ],
        "height": 700,
        "legend": {
         "title": {
          "text": "Ticker"
         },
         "tracegroupgap": 0
        },
        "margin": {
         "b": 198.8
        },
        "shapes": [
         {
          "fillcolor": "LightSkyBlue",
          "layer": "below",
          "line": {
           "width": 0
          },
          "opacity": 0.2,
          "type": "rect",
          "x0": "2025-08-07T00:00:00",
          "x1": "2025-08-12T00:00:00",
          "xref": "x",
          "y0": 0,
          "y1": 1,
          "yref": "y domain"
         },
         {
          "fillcolor": "LightGreen",
          "layer": "below",
          "line": {
           "width": 0
          },
          "opacity": 0.2,
          "type": "rect",
          "x0": "2025-07-10T00:00:00",
          "x1": "2025-08-06T00:00:00",
          "xref": "x",
          "y0": 0,
          "y1": 1,
          "yref": "y domain"
         },
         {
          "line": {
           "color": "grey",
           "dash": "dash",
           "width": 2
          },
          "type": "line",
          "x0": "2025-08-07T00:00:00",
          "x1": "2025-08-07T00:00:00",
          "xref": "x",
          "y0": 0,
          "y1": 1,
          "yref": "y domain"
         },
         {
          "line": {
           "color": "red",
           "width": 2
          },
          "type": "line",
          "x0": 0,
          "x1": 1,
          "xref": "paper",
          "y0": 1,
          "y1": 1,
          "yref": "paper"
         },
         {
          "line": {
           "color": "blue",
           "width": 2
          },
          "type": "line",
          "x0": 0,
          "x1": 1,
          "xref": "paper",
          "y0": 0,
          "y1": 0,
          "yref": "paper"
         }
        ],
        "template": {
         "data": {
          "bar": [
           {
            "error_x": {
             "color": "#2a3f5f"
            },
            "error_y": {
             "color": "#2a3f5f"
            },
            "marker": {
             "line": {
              "color": "#E5ECF6",
              "width": 0.5
             },
             "pattern": {
              "fillmode": "overlay",
              "size": 10,
              "solidity": 0.2
             }
            },
            "type": "bar"
           }
          ],
          "barpolar": [
           {
            "marker": {
             "line": {
              "color": "#E5ECF6",
              "width": 0.5
             },
             "pattern": {
              "fillmode": "overlay",
              "size": 10,
              "solidity": 0.2
             }
            },
            "type": "barpolar"
           }
          ],
          "carpet": [
           {
            "aaxis": {
             "endlinecolor": "#2a3f5f",
             "gridcolor": "white",
             "linecolor": "white",
             "minorgridcolor": "white",
             "startlinecolor": "#2a3f5f"
            },
            "baxis": {
             "endlinecolor": "#2a3f5f",
             "gridcolor": "white",
             "linecolor": "white",
             "minorgridcolor": "white",
             "startlinecolor": "#2a3f5f"
            },
            "type": "carpet"
           }
          ],
          "choropleth": [
           {
            "colorbar": {
             "outlinewidth": 0,
             "ticks": ""
            },
            "type": "choropleth"
           }
          ],
          "contour": [
           {
            "colorbar": {
             "outlinewidth": 0,
             "ticks": ""
            },
            "colorscale": [
             [
              0,
              "#0d0887"
             ],
             [
              0.1111111111111111,
              "#46039f"
             ],
             [
              0.2222222222222222,
              "#7201a8"
             ],
             [
              0.3333333333333333,
              "#9c179e"
             ],
             [
              0.4444444444444444,
              "#bd3786"
             ],
             [
              0.5555555555555556,
              "#d8576b"
             ],
             [
              0.6666666666666666,
              "#ed7953"
             ],
             [
              0.7777777777777778,
              "#fb9f3a"
             ],
             [
              0.8888888888888888,
              "#fdca26"
             ],
             [
              1,
              "#f0f921"
             ]
            ],
            "type": "contour"
           }
          ],
          "contourcarpet": [
           {
            "colorbar": {
             "outlinewidth": 0,
             "ticks": ""
            },
            "type": "contourcarpet"
           }
          ],
          "heatmap": [
           {
            "colorbar": {
             "outlinewidth": 0,
             "ticks": ""
            },
            "colorscale": [
             [
              0,
              "#0d0887"
             ],
             [
              0.1111111111111111,
              "#46039f"
             ],
             [
              0.2222222222222222,
              "#7201a8"
             ],
             [
              0.3333333333333333,
              "#9c179e"
             ],
             [
              0.4444444444444444,
              "#bd3786"
             ],
             [
              0.5555555555555556,
              "#d8576b"
             ],
             [
              0.6666666666666666,
              "#ed7953"
             ],
             [
              0.7777777777777778,
              "#fb9f3a"
             ],
             [
              0.8888888888888888,
              "#fdca26"
             ],
             [
              1,
              "#f0f921"
             ]
            ],
            "type": "heatmap"
           }
          ],
          "heatmapgl": [
           {
            "colorbar": {
             "outlinewidth": 0,
             "ticks": ""
            },
            "colorscale": [
             [
              0,
              "#0d0887"
             ],
             [
              0.1111111111111111,
              "#46039f"
             ],
             [
              0.2222222222222222,
              "#7201a8"
             ],
             [
              0.3333333333333333,
              "#9c179e"
             ],
             [
              0.4444444444444444,
              "#bd3786"
             ],
             [
              0.5555555555555556,
              "#d8576b"
             ],
             [
              0.6666666666666666,
              "#ed7953"
             ],
             [
              0.7777777777777778,
              "#fb9f3a"
             ],
             [
              0.8888888888888888,
              "#fdca26"
             ],
             [
              1,
              "#f0f921"
             ]
            ],
            "type": "heatmapgl"
           }
          ],
          "histogram": [
           {
            "marker": {
             "pattern": {
              "fillmode": "overlay",
              "size": 10,
              "solidity": 0.2
             }
            },
            "type": "histogram"
           }
          ],
          "histogram2d": [
           {
            "colorbar": {
             "outlinewidth": 0,
             "ticks": ""
            },
            "colorscale": [
             [
              0,
              "#0d0887"
             ],
             [
              0.1111111111111111,
              "#46039f"
             ],
             [
              0.2222222222222222,
              "#7201a8"
             ],
             [
              0.3333333333333333,
              "#9c179e"
             ],
             [
              0.4444444444444444,
              "#bd3786"
             ],
             [
              0.5555555555555556,
              "#d8576b"
             ],
             [
              0.6666666666666666,
              "#ed7953"
             ],
             [
              0.7777777777777778,
              "#fb9f3a"
             ],
             [
              0.8888888888888888,
              "#fdca26"
             ],
             [
              1,
              "#f0f921"
             ]
            ],
            "type": "histogram2d"
           }
          ],
          "histogram2dcontour": [
           {
            "colorbar": {
             "outlinewidth": 0,
             "ticks": ""
            },
            "colorscale": [
             [
              0,
              "#0d0887"
             ],
             [
              0.1111111111111111,
              "#46039f"
             ],
             [
              0.2222222222222222,
              "#7201a8"
             ],
             [
              0.3333333333333333,
              "#9c179e"
             ],
             [
              0.4444444444444444,
              "#bd3786"
             ],
             [
              0.5555555555555556,
              "#d8576b"
             ],
             [
              0.6666666666666666,
              "#ed7953"
             ],
             [
              0.7777777777777778,
              "#fb9f3a"
             ],
             [
              0.8888888888888888,
              "#fdca26"
             ],
             [
              1,
              "#f0f921"
             ]
            ],
            "type": "histogram2dcontour"
           }
          ],
          "mesh3d": [
           {
            "colorbar": {
             "outlinewidth": 0,
             "ticks": ""
            },
            "type": "mesh3d"
           }
          ],
          "parcoords": [
           {
            "line": {
             "colorbar": {
              "outlinewidth": 0,
              "ticks": ""
             }
            },
            "type": "parcoords"
           }
          ],
          "pie": [
           {
            "automargin": true,
            "type": "pie"
           }
          ],
          "scatter": [
           {
            "fillpattern": {
             "fillmode": "overlay",
             "size": 10,
             "solidity": 0.2
            },
            "type": "scatter"
           }
          ],
          "scatter3d": [
           {
            "line": {
             "colorbar": {
              "outlinewidth": 0,
              "ticks": ""
             }
            },
            "marker": {
             "colorbar": {
              "outlinewidth": 0,
              "ticks": ""
             }
            },
            "type": "scatter3d"
           }
          ],
          "scattercarpet": [
           {
            "marker": {
             "colorbar": {
              "outlinewidth": 0,
              "ticks": ""
             }
            },
            "type": "scattercarpet"
           }
          ],
          "scattergeo": [
           {
            "marker": {
             "colorbar": {
              "outlinewidth": 0,
              "ticks": ""
             }
            },
            "type": "scattergeo"
           }
          ],
          "scattergl": [
           {
            "marker": {
             "colorbar": {
              "outlinewidth": 0,
              "ticks": ""
             }
            },
            "type": "scattergl"
           }
          ],
          "scattermapbox": [
           {
            "marker": {
             "colorbar": {
              "outlinewidth": 0,
              "ticks": ""
             }
            },
            "type": "scattermapbox"
           }
          ],
          "scatterpolar": [
           {
            "marker": {
             "colorbar": {
              "outlinewidth": 0,
              "ticks": ""
             }
            },
            "type": "scatterpolar"
           }
          ],
          "scatterpolargl": [
           {
            "marker": {
             "colorbar": {
              "outlinewidth": 0,
              "ticks": ""
             }
            },
            "type": "scatterpolargl"
           }
          ],
          "scatterternary": [
           {
            "marker": {
             "colorbar": {
              "outlinewidth": 0,
              "ticks": ""
             }
            },
            "type": "scatterternary"
           }
          ],
          "surface": [
           {
            "colorbar": {
             "outlinewidth": 0,
             "ticks": ""
            },
            "colorscale": [
             [
              0,
              "#0d0887"
             ],
             [
              0.1111111111111111,
              "#46039f"
             ],
             [
              0.2222222222222222,
              "#7201a8"
             ],
             [
              0.3333333333333333,
              "#9c179e"
             ],
             [
              0.4444444444444444,
              "#bd3786"
             ],
             [
              0.5555555555555556,
              "#d8576b"
             ],
             [
              0.6666666666666666,
              "#ed7953"
             ],
             [
              0.7777777777777778,
              "#fb9f3a"
             ],
             [
              0.8888888888888888,
              "#fdca26"
             ],
             [
              1,
              "#f0f921"
             ]
            ],
            "type": "surface"
           }
          ],
          "table": [
           {
            "cells": {
             "fill": {
              "color": "#EBF0F8"
             },
             "line": {
              "color": "white"
             }
            },
            "header": {
             "fill": {
              "color": "#C8D4E3"
             },
             "line": {
              "color": "white"
             }
            },
            "type": "table"
           }
          ]
         },
         "layout": {
          "annotationdefaults": {
           "arrowcolor": "#2a3f5f",
           "arrowhead": 0,
           "arrowwidth": 1
          },
          "autotypenumbers": "strict",
          "coloraxis": {
           "colorbar": {
            "outlinewidth": 0,
            "ticks": ""
           }
          },
          "colorscale": {
           "diverging": [
            [
             0,
             "#8e0152"
            ],
            [
             0.1,
             "#c51b7d"
            ],
            [
             0.2,
             "#de77ae"
            ],
            [
             0.3,
             "#f1b6da"
            ],
            [
             0.4,
             "#fde0ef"
            ],
            [
             0.5,
             "#f7f7f7"
            ],
            [
             0.6,
             "#e6f5d0"
            ],
            [
             0.7,
             "#b8e186"
            ],
            [
             0.8,
             "#7fbc41"
            ],
            [
             0.9,
             "#4d9221"
            ],
            [
             1,
             "#276419"
            ]
           ],
           "sequential": [
            [
             0,
             "#0d0887"
            ],
            [
             0.1111111111111111,
             "#46039f"
            ],
            [
             0.2222222222222222,
             "#7201a8"
            ],
            [
             0.3333333333333333,
             "#9c179e"
            ],
            [
             0.4444444444444444,
             "#bd3786"
            ],
            [
             0.5555555555555556,
             "#d8576b"
            ],
            [
             0.6666666666666666,
             "#ed7953"
            ],
            [
             0.7777777777777778,
             "#fb9f3a"
            ],
            [
             0.8888888888888888,
             "#fdca26"
            ],
            [
             1,
             "#f0f921"
            ]
           ],
           "sequentialminus": [
            [
             0,
             "#0d0887"
            ],
            [
             0.1111111111111111,
             "#46039f"
            ],
            [
             0.2222222222222222,
             "#7201a8"
            ],
            [
             0.3333333333333333,
             "#9c179e"
            ],
            [
             0.4444444444444444,
             "#bd3786"
            ],
            [
             0.5555555555555556,
             "#d8576b"
            ],
            [
             0.6666666666666666,
             "#ed7953"
            ],
            [
             0.7777777777777778,
             "#fb9f3a"
            ],
            [
             0.8888888888888888,
             "#fdca26"
            ],
            [
             1,
             "#f0f921"
            ]
           ]
          },
          "colorway": [
           "#636efa",
           "#EF553B",
           "#00cc96",
           "#ab63fa",
           "#FFA15A",
           "#19d3f3",
           "#FF6692",
           "#B6E880",
           "#FF97FF",
           "#FECB52"
          ],
          "font": {
           "color": "#2a3f5f"
          },
          "geo": {
           "bgcolor": "white",
           "lakecolor": "white",
           "landcolor": "#E5ECF6",
           "showlakes": true,
           "showland": true,
           "subunitcolor": "white"
          },
          "hoverlabel": {
           "align": "left"
          },
          "hovermode": "closest",
          "mapbox": {
           "style": "light"
          },
          "paper_bgcolor": "white",
          "plot_bgcolor": "#E5ECF6",
          "polar": {
           "angularaxis": {
            "gridcolor": "white",
            "linecolor": "white",
            "ticks": ""
           },
           "bgcolor": "#E5ECF6",
           "radialaxis": {
            "gridcolor": "white",
            "linecolor": "white",
            "ticks": ""
           }
          },
          "scene": {
           "xaxis": {
            "backgroundcolor": "#E5ECF6",
            "gridcolor": "white",
            "gridwidth": 2,
            "linecolor": "white",
            "showbackground": true,
            "ticks": "",
            "zerolinecolor": "white"
           },
           "yaxis": {
            "backgroundcolor": "#E5ECF6",
            "gridcolor": "white",
            "gridwidth": 2,
            "linecolor": "white",
            "showbackground": true,
            "ticks": "",
            "zerolinecolor": "white"
           },
           "zaxis": {
            "backgroundcolor": "#E5ECF6",
            "gridcolor": "white",
            "gridwidth": 2,
            "linecolor": "white",
            "showbackground": true,
            "ticks": "",
            "zerolinecolor": "white"
           }
          },
          "shapedefaults": {
           "line": {
            "color": "#2a3f5f"
           }
          },
          "ternary": {
           "aaxis": {
            "gridcolor": "white",
            "linecolor": "white",
            "ticks": ""
           },
           "baxis": {
            "gridcolor": "white",
            "linecolor": "white",
            "ticks": ""
           },
           "bgcolor": "#E5ECF6",
           "caxis": {
            "gridcolor": "white",
            "linecolor": "white",
            "ticks": ""
           }
          },
          "title": {
           "x": 0.05
          },
          "xaxis": {
           "automargin": true,
           "gridcolor": "white",
           "linecolor": "white",
           "ticks": "",
           "title": {
            "standoff": 15
           },
           "zerolinecolor": "white",
           "zerolinewidth": 2
          },
          "yaxis": {
           "automargin": true,
           "gridcolor": "white",
           "linecolor": "white",
           "ticks": "",
           "title": {
            "standoff": 15
           },
           "zerolinecolor": "white",
           "zerolinewidth": 2
          }
         }
        },
        "title": {
         "text": "Rank History: 'Reversal' Candidates"
        },
        "updatemenus": [
         {
          "buttons": [
           {
            "args": [
             {
              "visible": [
               true,
               true,
               true,
               true,
               true,
               true,
               true,
               true,
               true,
               true,
               true
              ]
             }
            ],
            "label": "Reset View",
            "method": "restyle"
           },
           {
            "args": [
             {
              "visible": [
               "legendonly",
               "legendonly",
               "legendonly",
               "legendonly",
               "legendonly",
               "legendonly",
               "legendonly",
               "legendonly",
               "legendonly",
               "legendonly",
               "legendonly"
              ]
             }
            ],
            "label": "Clear All",
            "method": "restyle"
           }
          ],
          "direction": "left",
          "showactive": false,
          "type": "buttons",
          "x": 0.01,
          "xanchor": "left",
          "y": 1.1,
          "yanchor": "top"
         }
        ],
        "width": 1150,
        "xaxis": {
         "anchor": "y",
         "domain": [
          0,
          1
         ],
         "dtick": "D7",
         "gridcolor": "LightGrey",
         "minor": {
          "dtick": "D1",
          "gridcolor": "rgba(235, 235, 235, 0.5)",
          "showgrid": true
         },
         "range": [
          "2025-06-25T00:00:00",
          "2025-08-12T00:00:00"
         ],
         "showgrid": true,
         "tickformat": "%b %d",
         "title": {
          "standoff": 25,
          "text": "Date"
         },
         "type": "date"
        },
        "yaxis": {
         "anchor": "x",
         "autorange": "reversed",
         "domain": [
          0,
          1
         ],
         "dtick": 100,
         "gridcolor": "LightGrey",
         "showgrid": true,
         "title": {
          "text": "Rank"
         }
        }
       }
      }
     },
     "metadata": {},
     "output_type": "display_data"
    }
   ],
   "source": [
    "# 4. Call the new plotting function\n",
    "if portfolio_tickers:\n",
    "    plot_rank_with_criteria(\n",
    "        df_rank_history=df_tickers_rank_history.iloc[:, -plot_days::],\n",
    "        # df_rank_history=selected_df,\n",
    "        ticker_list=portfolio_tickers,\n",
    "        title_suffix=\"'Reversal' Candidates\",\n",
    "        filter_criteria=filter_criteria, # Pass the dictionary here\n",
    "        width=1150,\n",
    "        height=700,\n",
    "    )\n",
    "else:\n",
    "    print(\"No candidates found to plot.\")"
   ]
  },
  {
   "cell_type": "code",
   "execution_count": 17,
   "metadata": {},
   "outputs": [],
   "source": [
    "metrics_column_order = ['ticker',\n",
    "                        'lookback_slope',\n",
    "                        'current_to_total_peak',                \n",
    "                        'current',\n",
    "                        'recent_start',\n",
    "                        'best_recent',\n",
    "                        'worst_recent',                \n",
    "                        'lookback_end',                \n",
    "                        'lookback_start',\n",
    "                        'best_lookback',\n",
    "                        'worst_lookback',\n",
    "                        'best_total',\n",
    "                        'worst_total',\n",
    "                        'current_to_recent_start',\n",
    "                        'recent_bottom_to_recent_start',\n",
    "                        'recent_bottom_to_current']"
   ]
  },
  {
   "cell_type": "code",
   "execution_count": 18,
   "metadata": {},
   "outputs": [
    {
     "name": "stdout",
     "output_type": "stream",
     "text": [
      "metrics_df.head(200):\n",
      "    ticker  lookback_slope  current_to_total_peak  current  recent_start  best_recent  worst_recent  lookback_end  lookback_start  best_lookback  worst_lookback  best_total  worst_total  current_to_recent_start  recent_bottom_to_recent_start  recent_bottom_to_current\n",
      "0     NVDA           -0.00                      0        1             1            1             1             1               1              1               1           1            1                        0                              0                         0\n",
      "1     MSFT           -0.00                      0        2             2            2             2             2               2              2               2           2            2                        0                              0                         0\n",
      "2     AAPL           -0.00                      0        3             3            3             3             3               3              3               3           3            3                        0                              0                         0\n",
      "3     GOOG           -0.03                      0        4             5            4             5             4               5              4               6           4            6                       -1                              0                         1\n",
      "4    GOOGL           -0.07                      1        5             4            4             5             5               6              4               6           4            6                        1                              1                         0\n",
      "..     ...             ...                    ...      ...           ...          ...           ...           ...             ...            ...             ...         ...          ...                      ...                            ...                       ...\n",
      "195    UPS            2.08                     37      223           223          223           225           225             186            186             228         186          228                        0                              2                         2\n",
      "196   ITOT           -0.48                      3      224           225          221           225           227             233            221             234         221          234                       -1                              0                         1\n",
      "197     BK           -1.08                      0      225           229          225           229           228             250            228             251         225          251                       -4                              0                         4\n",
      "198    RSG            0.27                     14      227           221          220           227           222             223            213             228         213          228                        6                              6                         0\n",
      "199    BCS           -0.91                      0      229           235          229           235           239             255            235             259         229          259                       -6                              0                         6\n",
      "\n",
      "[200 rows x 16 columns]\n"
     ]
    }
   ],
   "source": [
    "# 1. Convert to a DataFrame for further analysis:\n",
    "metrics_df = pd.DataFrame(all_metrics_data)\n",
    "metrics_df = metrics_df[metrics_column_order]\n",
    "print(f'metrics_df.head(200):\\n{metrics_df.head(200)}')"
   ]
  },
  {
   "cell_type": "code",
   "execution_count": 19,
   "metadata": {},
   "outputs": [
    {
     "name": "stdout",
     "output_type": "stream",
     "text": [
      "sorted_metrics_df:\n",
      "    ticker  lookback_slope  current_to_total_peak  current  recent_start  best_recent  worst_recent  lookback_end  lookback_start  best_lookback  worst_lookback  best_total  worst_total  current_to_recent_start  recent_bottom_to_recent_start  recent_bottom_to_current\n",
      "449    REG          -15.31                     24      556           549          549           556           542             921            532             925         532          925                        7                              7                         0\n",
      "803      W          -11.93                      6     1094          1105         1094          1113          1088            1276           1088            1343        1088         1343                      -11                              8                        19\n",
      "737   GNRC          -11.15                     18      982           997          980           997           987            1145            964            1167         964         1167                      -15                              0                        15\n",
      "903   KWEB          -10.09                     15     1265          1252         1250          1265          1252            1428           1252            1428        1250         1428                       13                             13                         0\n",
      "819    IVZ           -9.68                     25     1120          1127         1120          1130          1116            1254           1095            1275        1095         1275                       -7                              3                        10\n",
      "..     ...             ...                    ...      ...           ...          ...           ...           ...             ...            ...             ...         ...          ...                      ...                            ...                       ...\n",
      "853    MOH           14.91                    253     1189          1183         1180          1195          1198             936            936            1198         936         1198                        6                             12                         6\n",
      "931   PNFP           16.38                    202     1319          1354         1319          1354          1331            1123           1117            1371        1117         1371                      -35                              0                        35\n",
      "392    VTR           18.79                    295      475           472          470           475           478             192            180             497         180          497                        3                              3                         0\n",
      "950   VCLT           18.90                    267     1353          1364         1353          1384          1360            1088           1086            1398        1086         1398                      -11                             20                        31\n",
      "850  LBRDK           19.32                    317     1182          1181         1179          1191          1181             865            865            1181         865         1191                        1                             10                         9\n",
      "\n",
      "[1029 rows x 16 columns]\n"
     ]
    }
   ],
   "source": [
    "sort_order = {'lookback_slope': True,  # negative slope (i.e. small) is better\n",
    "                   'current_to_total_peak': True,  # small is better, best is 0                   \n",
    "                   'recent_bottom_to_current': False,}  # sort large to small, large means big dip before recovered to current level \n",
    "\n",
    "# keys in the exact order they appear in the dict\n",
    "sort_keys = list(sort_order.keys())\n",
    "sort_values = list(sort_order.values())\n",
    "sorted_metrics_df = metrics_df.sort_values(by=sort_keys, ascending=sort_values)\n",
    "\n",
    "print(f'sorted_metrics_df:\\n{sorted_metrics_df}')"
   ]
  },
  {
   "cell_type": "code",
   "execution_count": 20,
   "metadata": {},
   "outputs": [
    {
     "name": "stdout",
     "output_type": "stream",
     "text": [
      "portfolio_metrics: \n",
      "    ticker  lookback_slope  current_to_total_peak  current  recent_start  best_recent  worst_recent  lookback_end  lookback_start  best_lookback  worst_lookback  best_total  worst_total  current_to_recent_start  recent_bottom_to_recent_start  recent_bottom_to_current\n",
      "0     NVDA           -0.00                      0        1             1            1             1             1               1              1               1           1            1                        0                              0                         0\n",
      "6     META           -0.00                      0        7             7            7             7             7               7              7               7           7            7                        0                              0                         0\n",
      "14    ORCL           -0.12                      1       16            16           16            16            15              18             15              18          15           18                        0                              0                         0\n",
      "127   MSTR            1.01                     17      140           137          136           140           143             136            123             148         123          148                        3                              3                         0\n",
      "144    VGT           -0.21                      4      162           162          160           163           166             166            158             169         158          169                        0                              1                         1\n",
      "712   AVAV           -0.64                     68      944           914          914           947           907             973            876             973         876          973                       30                             33                         3\n"
     ]
    }
   ],
   "source": [
    "# Filter metrics_df to keep only rows whose 'ticker' is in portfolio_tickers\n",
    "portfolio_metrics = metrics_df[metrics_df['ticker'].isin(portfolio_tickers)]\n",
    "# portfolio_metrics = portfolio_metrics[metrics_column_order]\n",
    "print(f'portfolio_metrics: \\n{portfolio_metrics}')"
   ]
  },
  {
   "cell_type": "code",
   "execution_count": null,
   "metadata": {},
   "outputs": [],
   "source": []
  }
 ],
 "metadata": {
  "kernelspec": {
   "display_name": "py311-py3.11",
   "language": "python",
   "name": "python3"
  },
  "language_info": {
   "codemirror_mode": {
    "name": "ipython",
    "version": 3
   },
   "file_extension": ".py",
   "mimetype": "text/x-python",
   "name": "python",
   "nbconvert_exporter": "python",
   "pygments_lexer": "ipython3",
   "version": "3.11.9"
  }
 },
 "nbformat": 4,
 "nbformat_minor": 2
}
