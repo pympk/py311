{
 "cells": [
  {
   "cell_type": "code",
   "execution_count": 11,
   "id": "86b5292e",
   "metadata": {},
   "outputs": [],
   "source": [
    "# --- COMPLETE CONTEXT AND TEST SCRIPT (v3 - Sharpe (ATR) Comparison Added) ---\n",
    "# This script contains the final refactored code and a self-contained test case.\n",
    "# Running this single cell will execute the test.\n",
    "\n",
    "import pandas as pd\n",
    "import plotly.graph_objects as go\n",
    "import pprint\n",
    "import io\n",
    "import numpy as np\n",
    "import ipywidgets as widgets\n",
    "import os\n",
    "\n",
    "from datetime import datetime, date\n",
    "from IPython.display import display, Markdown\n",
    "from pathlib import Path\n",
    "\n",
    "# --- A. HELPER FUNCTIONS (Shared across tools) ---\n",
    "\n",
    "def calculate_gain(price_series: pd.Series):\n",
    "    if price_series.dropna().shape[0] < 2: return np.nan\n",
    "    return (price_series.ffill().iloc[-1] / price_series.bfill().iloc[0]) - 1\n",
    "\n",
    "def calculate_sharpe(return_series: pd.Series):\n",
    "    if return_series.dropna().shape[0] < 2: return np.nan\n",
    "    std_dev = return_series.std()\n",
    "    if std_dev > 0 and std_dev != np.inf:\n",
    "        return (return_series.mean() / std_dev) * np.sqrt(252)\n",
    "    return np.nan\n",
    "\n",
    "# --- NEW HELPER FUNCTION ---\n",
    "def calculate_sharpe_atr(price_series: pd.Series, high_series: pd.Series, low_series: pd.Series):\n",
    "    \"\"\"Calculates Sharpe Ratio using Average True Range Percent (ATRP) as the denominator.\"\"\"\n",
    "    if price_series.dropna().shape[0] < 2: return np.nan\n",
    "    \n",
    "    daily_returns = price_series.pct_change()\n",
    "    mean_return = daily_returns.mean()\n",
    "    \n",
    "    # Calculate ATRP\n",
    "    tr = np.maximum(high_series - low_series, abs(high_series - price_series.shift(1)), abs(low_series - price_series.shift(1)))\n",
    "    atr = tr.ewm(alpha=1/14, adjust=False).mean()\n",
    "    atrp = (atr / price_series).mean()\n",
    "    \n",
    "    if atrp > 0 and atrp != np.inf:\n",
    "        return mean_return / atrp\n",
    "    return np.nan\n",
    "\n",
    "# --- B. THE CORE CALCULATION ENGINE (Headless, No UI) ---\n",
    "\n",
    "# --- MODIFIED ---\n",
    "def run_walk_forward_step(df_close_full, df_high_full, df_low_full,\n",
    "                          start_date, calc_period, fwd_period,\n",
    "                          metric, rank_start, rank_end, benchmark_ticker):\n",
    "    min_date_available = df_close_full.index.min()\n",
    "    max_date_available = df_close_full.index.max()\n",
    "    safe_start_date = max(start_date, min_date_available)\n",
    "    safe_calc_end_date = min(start_date + calc_period, max_date_available)\n",
    "    safe_viz_end_date = min(safe_calc_end_date + fwd_period, max_date_available)\n",
    "    if safe_start_date >= safe_calc_end_date: return {'error': \"Invalid date range.\"}\n",
    "    calc_close_raw = df_close_full.loc[safe_start_date:safe_calc_end_date]\n",
    "    calc_close = calc_close_raw.dropna(axis=1, how='all')\n",
    "    if calc_close.shape[1] == 0 or len(calc_close) < 2: return {'error': \"Not enough data in calc period.\"}\n",
    "\n",
    "    metric_values = {}\n",
    "    first_prices = calc_close.bfill().iloc[0]; last_prices = calc_close.ffill().iloc[-1]\n",
    "    metric_values['Price'] = (last_prices / first_prices).dropna()\n",
    "    daily_returns = calc_close.bfill().ffill().pct_change()\n",
    "    mean_returns, std_returns = daily_returns.mean(), daily_returns.std()\n",
    "    metric_values['Sharpe'] = (mean_returns / std_returns * np.sqrt(252)).fillna(0)\n",
    "    valid_tickers = calc_close.columns\n",
    "    calc_high = df_high_full[valid_tickers].loc[safe_start_date:safe_calc_end_date]\n",
    "    calc_low = df_low_full[valid_tickers].loc[safe_start_date:safe_calc_end_date]\n",
    "    tr = np.maximum(calc_high - calc_low, abs(calc_high - df_close_full[valid_tickers].shift(1)), abs(calc_low - df_close_full[valid_tickers].shift(1)))\n",
    "    atr = tr.ewm(alpha=1/14, adjust=False).mean()\n",
    "    atrp = (atr / calc_close).mean()\n",
    "    metric_values['Sharpe (ATR)'] = (mean_returns / atrp).fillna(0)\n",
    "    \n",
    "    sorted_tickers = metric_values[metric].sort_values(ascending=False)\n",
    "    tickers_to_display = sorted_tickers.index[rank_start-1:rank_end].tolist()\n",
    "    if not tickers_to_display: return {'error': \"No tickers found for the selected rank.\"}\n",
    "        \n",
    "    # --- Portfolio Series Calculation (including High and Low for ATR) ---\n",
    "    viz_slice_dates = df_close_full.loc[safe_start_date:safe_viz_end_date].index\n",
    "    \n",
    "    normalized_plot_data = df_close_full[tickers_to_display].loc[viz_slice_dates]\n",
    "    normalized_plot_data = normalized_plot_data.div(normalized_plot_data.bfill().iloc[0])\n",
    "    \n",
    "    normalized_high_data = df_high_full[tickers_to_display].loc[viz_slice_dates]\n",
    "    normalized_high_data = normalized_high_data.div(df_close_full[tickers_to_display].loc[viz_slice_dates].bfill().iloc[0])\n",
    "\n",
    "    normalized_low_data = df_low_full[tickers_to_display].loc[viz_slice_dates]\n",
    "    normalized_low_data = normalized_low_data.div(df_close_full[tickers_to_display].loc[viz_slice_dates].bfill().iloc[0])\n",
    "\n",
    "    portfolio_series = normalized_plot_data.mean(axis=1)\n",
    "    portfolio_high_series = normalized_high_data.mean(axis=1)\n",
    "    portfolio_low_series = normalized_low_data.mean(axis=1)\n",
    "    \n",
    "    portfolio_return_series = portfolio_series.pct_change()\n",
    "    actual_calc_end_ts = calc_close.index.max()\n",
    "\n",
    "    # --- Benchmark Series Calculation ---\n",
    "    benchmark_price_series = df_close_full.get(benchmark_ticker)\n",
    "    benchmark_high_series = df_high_full.get(benchmark_ticker)\n",
    "    benchmark_low_series = df_low_full.get(benchmark_ticker)\n",
    "    \n",
    "    benchmark_return_series = pd.Series(dtype='float64')\n",
    "    if benchmark_price_series is not None:\n",
    "        benchmark_price_series = benchmark_price_series.loc[safe_start_date:safe_viz_end_date].bfill().ffill()\n",
    "        benchmark_return_series = benchmark_price_series.pct_change()\n",
    "    \n",
    "    # --- Performance Data Calculation (Now includes Sharpe ATR) ---\n",
    "    perf_data = {}\n",
    "    \n",
    "    # Portfolio Gains & Sharpes\n",
    "    perf_data['calc_p_gain'] = calculate_gain(portfolio_series.loc[:actual_calc_end_ts])\n",
    "    perf_data['fwd_p_gain'] = calculate_gain(portfolio_series.loc[actual_calc_end_ts:])\n",
    "    perf_data['full_p_gain'] = calculate_gain(portfolio_series)\n",
    "    perf_data['calc_p_sharpe'] = calculate_sharpe(portfolio_return_series.loc[:actual_calc_end_ts])\n",
    "    perf_data['fwd_p_sharpe'] = calculate_sharpe(portfolio_return_series.loc[actual_calc_end_ts:])\n",
    "    perf_data['full_p_sharpe'] = calculate_sharpe(portfolio_return_series)\n",
    "    perf_data['calc_p_sharpe_atr'] = calculate_sharpe_atr(portfolio_series.loc[:actual_calc_end_ts], portfolio_high_series.loc[:actual_calc_end_ts], portfolio_low_series.loc[:actual_calc_end_ts])\n",
    "    perf_data['fwd_p_sharpe_atr'] = calculate_sharpe_atr(portfolio_series.loc[actual_calc_end_ts:], portfolio_high_series.loc[actual_calc_end_ts:], portfolio_low_series.loc[actual_calc_end_ts:])\n",
    "    perf_data['full_p_sharpe_atr'] = calculate_sharpe_atr(portfolio_series, portfolio_high_series, portfolio_low_series)\n",
    "\n",
    "    # Benchmark Gains & Sharpes\n",
    "    has_benchmark = benchmark_price_series is not None\n",
    "    perf_data['calc_b_gain'] = calculate_gain(benchmark_price_series.loc[:actual_calc_end_ts]) if has_benchmark else np.nan\n",
    "    perf_data['fwd_b_gain'] = calculate_gain(benchmark_price_series.loc[actual_calc_end_ts:]) if has_benchmark else np.nan\n",
    "    perf_data['full_b_gain'] = calculate_gain(benchmark_price_series) if has_benchmark else np.nan\n",
    "    perf_data['calc_b_sharpe'] = calculate_sharpe(benchmark_return_series.loc[:actual_calc_end_ts])\n",
    "    perf_data['fwd_b_sharpe'] = calculate_sharpe(benchmark_return_series.loc[actual_calc_end_ts:])\n",
    "    perf_data['full_b_sharpe'] = calculate_sharpe(benchmark_return_series)\n",
    "    perf_data['calc_b_sharpe_atr'] = calculate_sharpe_atr(benchmark_price_series.loc[:actual_calc_end_ts], benchmark_high_series.loc[:actual_calc_end_ts], benchmark_low_series.loc[:actual_calc_end_ts]) if has_benchmark else np.nan\n",
    "    perf_data['fwd_b_sharpe_atr'] = calculate_sharpe_atr(benchmark_price_series.loc[actual_calc_end_ts:], benchmark_high_series.loc[actual_calc_end_ts:], benchmark_low_series.loc[actual_calc_end_ts:]) if has_benchmark else np.nan\n",
    "    perf_data['full_b_sharpe_atr'] = calculate_sharpe_atr(benchmark_price_series, benchmark_high_series, benchmark_low_series) if has_benchmark else np.nan\n",
    "\n",
    "    calc_end_prices = calc_close.ffill().iloc[-1]\n",
    "    fwd_close_slice = df_close_full.loc[actual_calc_end_ts:safe_viz_end_date]\n",
    "    viz_end_prices = fwd_close_slice.ffill().iloc[-1] if not fwd_close_slice.empty and len(fwd_close_slice) >= 2 else calc_end_prices\n",
    "    calc_gains = (calc_end_prices / calc_close.bfill().iloc[0]) - 1\n",
    "    fwd_gains = (viz_end_prices / calc_end_prices) - 1\n",
    "    results_df = pd.DataFrame({'Rank': range(rank_start, rank_start + len(tickers_to_display)), 'Metric': metric, 'MetricValue': sorted_tickers.loc[tickers_to_display].values, 'CalcPrice': calc_end_prices.loc[tickers_to_display], 'CalcGain': calc_gains.loc[tickers_to_display], 'FwdGain': fwd_gains.loc[tickers_to_display]}, index=pd.Index(tickers_to_display, name='Ticker'))\n",
    "    if has_benchmark and benchmark_ticker in calc_close.columns:\n",
    "        benchmark_df_row = pd.DataFrame({'Rank': np.nan, 'Metric': metric, 'MetricValue': metric_values[metric].get(benchmark_ticker, np.nan), 'CalcPrice': calc_end_prices[benchmark_ticker], 'CalcGain': calc_gains[benchmark_ticker], 'FwdGain': fwd_gains[benchmark_ticker]}, index=pd.Index([f\"{benchmark_ticker} (BM)\"], name='Ticker'))\n",
    "        results_df = pd.concat([results_df, benchmark_df_row])\n",
    "    \n",
    "    return { 'tickers_to_display': tickers_to_display, 'normalized_plot_data': normalized_plot_data, 'portfolio_series': portfolio_series, 'benchmark_price_series': benchmark_price_series, 'performance_data': perf_data, 'results_df': results_df, 'actual_calc_end_ts': actual_calc_end_ts, 'safe_start_date': pd.to_datetime(df_close_full.loc[safe_start_date:safe_viz_end_date].index.min()), 'safe_viz_end_date': pd.to_datetime(df_close_full.loc[safe_start_date:safe_viz_end_date].index.max()), 'error': None }\n",
    "\n",
    "# --- C. THE UI WRAPPER ---\n",
    "\n",
    "# --- MODIFIED ---\n",
    "def plot_walk_forward_analyzer(df_ohlcv, \n",
    "                               default_start_date=None, default_calc_period='3M', default_fwd_period='1M',\n",
    "                               default_metric='Sharpe (ATR)', default_rank_start=1, default_rank_end=10,\n",
    "                               default_benchmark_ticker='VOO'):\n",
    "    print(\"Initializing Walk-Forward Analyzer...\")\n",
    "    if not isinstance(df_ohlcv.index, pd.MultiIndex): raise ValueError(\"Input DataFrame must have a (Ticker, Date) MultiIndex.\")\n",
    "    df_ohlcv = df_ohlcv.sort_index()\n",
    "    print(\"Pre-processing data (unstacking)...\")\n",
    "    df_close_full = df_ohlcv['Adj Close'].unstack(level=0)\n",
    "    df_high_full = df_ohlcv['Adj High'].unstack(level=0)\n",
    "    df_low_full = df_ohlcv['Adj Low'].unstack(level=0)\n",
    "    \n",
    "    start_date_picker = widgets.DatePicker(description='Start Date:', value=pd.to_datetime(default_start_date), disabled=False)\n",
    "    calc_period_options = {'1M': pd.DateOffset(months=1), '3M': pd.DateOffset(months=3), '6M': pd.DateOffset(months=6), '1Y': pd.DateOffset(years=1)}\n",
    "    fwd_period_options = {'0D': pd.DateOffset(days=0), '1W': pd.DateOffset(weeks=1), '2W': pd.DateOffset(weeks=2), '1M': pd.DateOffset(months=1), '3M': pd.DateOffset(months=3)}\n",
    "    calc_period_dropdown = widgets.Dropdown(options=calc_period_options.keys(), value=default_calc_period, description='Calc Period:')\n",
    "    fwd_period_dropdown = widgets.Dropdown(options=fwd_period_options.keys(), value=default_fwd_period, description='Fwd Period:')\n",
    "    metrics = ['Price', 'Sharpe', 'Sharpe (ATR)']\n",
    "    metric_dropdown = widgets.Dropdown(options=metrics, value=default_metric, description='Metric:')\n",
    "    rank_options = [1, 5, 10, 20, 30, 40, 50, 75, 100]\n",
    "    rank_start_dropdown = widgets.Dropdown(options=rank_options, value=default_rank_start, description='Rank Start:')\n",
    "    rank_end_dropdown = widgets.Dropdown(options=rank_options, value=default_rank_end, description='Rank End:')\n",
    "    benchmark_ticker_input = widgets.Text(value=default_benchmark_ticker, description='Benchmark:', placeholder='Enter Ticker')\n",
    "    update_button = widgets.Button(description=\"Update Chart\", button_style='primary')\n",
    "    ticker_list_output = widgets.Output()\n",
    "    results_container = [None]\n",
    "    \n",
    "    fig = go.FigureWidget()\n",
    "    max_traces = 50\n",
    "    for i in range(max_traces): fig.add_trace(go.Scatter(x=[None], y=[None], mode='lines', name=f'placeholder_{i}', visible=False, showlegend=False))\n",
    "    fig.add_trace(go.Scatter(x=[None], y=[None], mode='lines', name='Benchmark', visible=True, showlegend=True, line=dict(color='black', width=3, dash='dash')))\n",
    "    fig.add_trace(go.Scatter(x=[None], y=[None], mode='lines', name='Group Portfolio', visible=True, showlegend=True, line=dict(color='green', width=3)))\n",
    "\n",
    "    def update_plot(button_click):\n",
    "        ticker_list_output.clear_output()\n",
    "        start_date = pd.to_datetime(start_date_picker.value)\n",
    "        calc_period = calc_period_options[calc_period_dropdown.value]; fwd_period = fwd_period_options[fwd_period_dropdown.value]\n",
    "        metric = metric_dropdown.value; rank_start, rank_end = rank_start_dropdown.value, rank_end_dropdown.value\n",
    "        benchmark_ticker = benchmark_ticker_input.value.strip().upper()\n",
    "        if rank_start > rank_end:\n",
    "            with ticker_list_output: print(\"Error: 'Rank Start' must be <= 'Rank End'.\"); return\n",
    "\n",
    "        results = run_walk_forward_step(df_close_full, df_high_full, df_low_full, start_date, calc_period, fwd_period, metric, rank_start, rank_end, benchmark_ticker)\n",
    "        \n",
    "        if results['error']:\n",
    "            with ticker_list_output: print(f\"Error: {results['error']}\")\n",
    "            return\n",
    "            \n",
    "        with fig.batch_update():\n",
    "            for i in range(max_traces):\n",
    "                trace = fig.data[i]\n",
    "                if i < len(results['tickers_to_display']):\n",
    "                    ticker = results['tickers_to_display'][i]\n",
    "                    trace.x, trace.y, trace.name = results['normalized_plot_data'].index, results['normalized_plot_data'][ticker], ticker\n",
    "                    trace.visible, trace.showlegend = True, True\n",
    "                else: trace.visible, trace.showlegend = False, False\n",
    "            benchmark_trace = fig.data[max_traces]\n",
    "            if results['benchmark_price_series'] is not None and not results['benchmark_price_series'].dropna().empty:\n",
    "                normalized_benchmark = results['benchmark_price_series'] / results['benchmark_price_series'].bfill().iloc[0]\n",
    "                benchmark_trace.x, benchmark_trace.y = normalized_benchmark.index, normalized_benchmark\n",
    "                benchmark_trace.name = f\"Benchmark ({benchmark_ticker})\"; benchmark_trace.visible = True\n",
    "            else: benchmark_trace.visible = False\n",
    "            portfolio_trace = fig.data[max_traces + 1]\n",
    "            portfolio_trace.x, portfolio_trace.y = results['portfolio_series'].index, results['portfolio_series']\n",
    "            portfolio_trace.name = 'Group Portfolio'; portfolio_trace.visible = True\n",
    "            fig.layout.shapes = []; fig.add_shape(type=\"line\", x0=results['actual_calc_end_ts'], y0=0, x1=results['actual_calc_end_ts'], y1=1, xref='x', yref='paper', line=dict(color=\"grey\", width=2, dash=\"dash\"))\n",
    "            \n",
    "        results_container[0] = results['results_df']\n",
    "        \n",
    "        with ticker_list_output:\n",
    "            print(f\"Analyzing from {results['safe_start_date'].date()} to {results['safe_viz_end_date'].date()}.\")\n",
    "            print(f\"  - Ranking based on performance from {results['safe_start_date'].date()} to {results['actual_calc_end_ts'].date()}.\")\n",
    "            pprint.pprint(results['tickers_to_display'], width=120, compact=True)\n",
    "            \n",
    "            p = results['performance_data']\n",
    "            rows = []\n",
    "            has_benchmark = not np.isnan(p['full_b_gain'])\n",
    "            \n",
    "            rows.append({'Metric': 'Group Portfolio Gain', 'Full': p['full_p_gain'], 'Calc': p['calc_p_gain'], 'Fwd': p['fwd_p_gain']})\n",
    "            if has_benchmark:\n",
    "                rows.append({'Metric': f'Benchmark ({benchmark_ticker}) Gain', 'Full': p['full_b_gain'], 'Calc': p['calc_b_gain'], 'Fwd': p['fwd_b_gain']})\n",
    "                rows.append({'Metric': '-- Gain Delta (vs Bm)', 'Full': p['full_p_gain'] - p['full_b_gain'], 'Calc': p['calc_p_gain'] - p['calc_b_gain'], 'Fwd': p['fwd_p_gain'] - p['fwd_b_gain']})\n",
    "            \n",
    "            rows.append({'Metric': 'Group Portfolio Sharpe', 'Full': p['full_p_sharpe'], 'Calc': p['calc_p_sharpe'], 'Fwd': p['fwd_p_sharpe']})\n",
    "            if has_benchmark:\n",
    "                rows.append({'Metric': f'Benchmark ({benchmark_ticker}) Sharpe', 'Full': p['full_b_sharpe'], 'Calc': p['calc_b_sharpe'], 'Fwd': p['fwd_b_sharpe']})\n",
    "                rows.append({'Metric': '-- Sharpe Delta (vs Bm)', 'Full': p['full_p_sharpe'] - p['full_b_sharpe'], 'Calc': p['calc_p_sharpe'] - p['calc_b_sharpe'], 'Fwd': p['fwd_p_sharpe'] - p['fwd_b_sharpe']})\n",
    "\n",
    "            # --- Add Sharpe (ATR) rows ---\n",
    "            rows.append({'Metric': 'Group Portfolio Sharpe (ATR)', 'Full': p['full_p_sharpe_atr'], 'Calc': p['calc_p_sharpe_atr'], 'Fwd': p['fwd_p_sharpe_atr']})\n",
    "            if has_benchmark:\n",
    "                rows.append({'Metric': f'Benchmark ({benchmark_ticker}) Sharpe (ATR)', 'Full': p['full_b_sharpe_atr'], 'Calc': p['calc_b_sharpe_atr'], 'Fwd': p['fwd_b_sharpe_atr']})\n",
    "                rows.append({'Metric': '-- Sharpe (ATR) Delta (vs Bm)', 'Full': p['full_p_sharpe_atr'] - p['full_b_sharpe_atr'], 'Calc': p['calc_p_sharpe_atr'] - p['calc_b_sharpe_atr'], 'Fwd': p['fwd_p_sharpe_atr'] - p['fwd_b_sharpe_atr']})\n",
    "\n",
    "            report_df = pd.DataFrame(rows).set_index('Metric')\n",
    "            gain_rows = [row for row in report_df.index if 'Gain' in row]\n",
    "            sharpe_rows = [row for row in report_df.index if 'Sharpe' in row] # This will catch both Sharpe types\n",
    "            \n",
    "            # Note: For Sharpe (ATR), the number is a raw ratio, not annualized, so a different format might be desired. We'll use {:+.4f} for it.\n",
    "            sharpe_std_rows = [r for r in sharpe_rows if '(ATR)' not in r]\n",
    "            sharpe_atr_rows = [r for r in sharpe_rows if '(ATR)' in r]\n",
    "\n",
    "            styled_df = report_df.style \\\n",
    "                .format('{:+.2%}', na_rep='N/A', subset=(gain_rows, report_df.columns)) \\\n",
    "                .format('{:+.2f}', na_rep='N/A', subset=(sharpe_std_rows, report_df.columns)) \\\n",
    "                .format('{:+.4f}', na_rep='N/A', subset=(sharpe_atr_rows, report_df.columns)) \\\n",
    "                .set_properties(**{'text-align': 'right', 'width': '100px'}) \\\n",
    "                .set_table_styles([{'selector': 'th.col_heading', 'props': [('text-align', 'right')]}, {'selector': 'th.row_heading', 'props': [('text-align', 'left')]}])\n",
    "\n",
    "            print(\"\\n--- Strategy Performance Summary ---\")\n",
    "            display(styled_df)\n",
    "            \n",
    "    fig.update_layout(title_text='Walk-Forward Performance Analysis', xaxis_title='Date', yaxis_title='Normalized Price (Start = 1)', hovermode='x unified', legend_title_text='Tickers (Ranked)', height=700, margin=dict(t=50))\n",
    "    fig.add_hline(y=1, line_width=1, line_dash=\"dash\", line_color=\"grey\")\n",
    "    update_button.on_click(update_plot)\n",
    "    controls_row1 = widgets.HBox([start_date_picker, calc_period_dropdown, fwd_period_dropdown])\n",
    "    controls_row2 = widgets.HBox([metric_dropdown, rank_start_dropdown, rank_end_dropdown, benchmark_ticker_input, update_button])\n",
    "    ui_container = widgets.VBox([controls_row1, controls_row2, ticker_list_output], layout=widgets.Layout(margin='10px 0 20px 0'))\n",
    "    display(ui_container, fig)\n",
    "    update_plot(None)\n",
    "    return results_container\n",
    "\n",
    "# --- D. VERIFICATION TOOLS ---\n",
    "# --- REVISED VERIFICATION FUNCTION (v5) ---\n",
    "# Added a 'Period' column to the CSV export for clarity.\n",
    "# NOTE: Requires `import os` at the top of your script.\n",
    "\n",
    "def verify_group_tickers_walk_forward_calculation(df_ohlcv, tickers_to_verify, benchmark_ticker,\n",
    "                                                  start_date, calc_period, fwd_period, export_csv=False):\n",
    "    display(Markdown(f\"## Verification Report for Portfolio vs. Benchmark\"))\n",
    "    display(Markdown(f\"**Portfolio Tickers:** `{tickers_to_verify}`\"))\n",
    "    display(Markdown(f\"**Benchmark Ticker:** `{benchmark_ticker}`\"))\n",
    "    period_options = { '1M': pd.DateOffset(months=1), '3M': pd.DateOffset(months=3), '6M': pd.DateOffset(months=6), '1Y': pd.DateOffset(years=1), '0D': pd.DateOffset(days=0), '1W': pd.DateOffset(weeks=1), '2W': pd.DateOffset(weeks=2) }\n",
    "\n",
    "    df_close_full = df_ohlcv['Adj Close'].unstack(level=0)\n",
    "    df_high_full = df_ohlcv['Adj High'].unstack(level=0)\n",
    "    df_low_full = df_ohlcv['Adj Low'].unstack(level=0)\n",
    "\n",
    "    start_date_ts = pd.to_datetime(start_date)\n",
    "    calc_offset = period_options[calc_period]; fwd_offset = period_options[fwd_period]\n",
    "    calc_end_date_ts_theoretical = start_date_ts + calc_offset\n",
    "    fwd_end_date_ts_theoretical = calc_end_date_ts_theoretical + fwd_offset\n",
    "    # This is the key variable for separating the periods\n",
    "    actual_calc_end_ts = df_close_full.loc[start_date_ts:calc_end_date_ts_theoretical].index.max()\n",
    "    \n",
    "    display(Markdown(f\"**Analysis Start Date:** `{start_date_ts.date()}`\"))\n",
    "    display(Markdown(f\"**Calculation Period End Date:** `{actual_calc_end_ts.date()}`\"))\n",
    "    display(Markdown(f\"**Forward Period End Date:** `{fwd_end_date_ts_theoretical.date()}`\"))\n",
    "\n",
    "    analysis_slice = slice(start_date_ts, fwd_end_date_ts_theoretical)\n",
    "    portfolio_close_raw = df_close_full[tickers_to_verify].loc[analysis_slice]\n",
    "    portfolio_high_raw = df_high_full[tickers_to_verify].loc[analysis_slice]\n",
    "    portfolio_low_raw = df_low_full[tickers_to_verify].loc[analysis_slice]\n",
    "\n",
    "    first_close_prices = portfolio_close_raw.bfill().iloc[0]\n",
    "    normalized_portfolio_close = portfolio_close_raw.div(first_close_prices)\n",
    "    normalized_portfolio_high = portfolio_high_raw.div(first_close_prices)\n",
    "    normalized_portfolio_low = portfolio_low_raw.div(first_close_prices)\n",
    "\n",
    "    portfolio_value_series = normalized_portfolio_close.mean(axis=1)\n",
    "    portfolio_high_series = normalized_portfolio_high.mean(axis=1)\n",
    "    portfolio_low_series = normalized_portfolio_low.mean(axis=1)\n",
    "\n",
    "    try:\n",
    "        benchmark_price_series = df_close_full[benchmark_ticker]\n",
    "        benchmark_high_series = df_high_full[benchmark_ticker]\n",
    "        benchmark_low_series = df_low_full[benchmark_ticker]\n",
    "    except KeyError as e:\n",
    "        print(f\"---! ERROR: Ticker {e} not found !---\"); return\n",
    "\n",
    "    # ... (The print_verification_steps inner function and all the display logic remains unchanged) ...\n",
    "    def print_verification_steps(title, price_series, high_series, low_series):\n",
    "        display(Markdown(f\"#### Verification for: `{title}`\"))\n",
    "        if price_series.dropna().shape[0] < 2:\n",
    "            print(\"  - Not enough data points.\")\n",
    "            return {'gain': np.nan, 'sharpe': np.nan, 'sharpe_atr': np.nan}\n",
    "        start_price = price_series.bfill().iloc[0]; end_price = price_series.ffill().iloc[-1]\n",
    "        gain = (end_price / start_price) - 1\n",
    "        print(f\"  - Start Value (on {price_series.first_valid_index().date()}): {start_price:,.4f}\\n  - End Value   (on {price_series.last_valid_index().date()}): {end_price:,.4f}\\n  - Gain = ({end_price:,.4f} / {start_price:,.4f}) - 1 = {gain:.2%}\")\n",
    "        returns = price_series.pct_change()\n",
    "        mean_return = returns.mean()\n",
    "        std_return = returns.std()\n",
    "        sharpe = (mean_return / std_return * np.sqrt(252)) if std_return > 0 and std_return != np.inf else np.nan\n",
    "        print(f\"\\n  - Mean Daily Return: {mean_return:.6f}\\n  - Std Dev of Daily Return: {std_return:.6f}\\n  - Sharpe = ({mean_return:.6f} / {std_return:.6f}) * sqrt(252) = {sharpe:.2f}\")\n",
    "        sharpe_atr = calculate_sharpe_atr(price_series, high_series, low_series)\n",
    "        tr = np.maximum(high_series - low_series, abs(high_series - price_series.shift(1)), abs(low_series - price_series.shift(1)))\n",
    "        atr = tr.ewm(alpha=1/14, adjust=False).mean()\n",
    "        atrp_mean = (atr / price_series).mean()\n",
    "        print(f\"\\n  - Average ATR Percent (ATRP): {atrp_mean:.6f}\\n  - Sharpe (ATR) = {mean_return:.6f} / {atrp_mean:.6f} = {sharpe_atr:.4f}\")\n",
    "        return {'gain': gain, 'sharpe': sharpe, 'sharpe_atr': sharpe_atr}\n",
    "    display(Markdown(\"### A. Calculation Period Analysis ('In-Sample')\"))\n",
    "    perf_calc_p = print_verification_steps(\"Group Portfolio\", portfolio_value_series.loc[:actual_calc_end_ts], portfolio_high_series.loc[:actual_calc_end_ts], portfolio_low_series.loc[:actual_calc_end_ts])\n",
    "    perf_calc_b = print_verification_steps(f\"Benchmark ({benchmark_ticker})\", benchmark_price_series.loc[:actual_calc_end_ts], benchmark_high_series.loc[:actual_calc_end_ts], benchmark_low_series.loc[:actual_calc_end_ts])\n",
    "    display(Markdown(\"\\n### B. Forward Period Analysis ('Moment of Truth')\"))\n",
    "    perf_fwd_p = print_verification_steps(\"Group Portfolio\", portfolio_value_series.loc[actual_calc_end_ts:], portfolio_high_series.loc[actual_calc_end_ts:], portfolio_low_series.loc[actual_calc_end_ts:])\n",
    "    perf_fwd_b = print_verification_steps(f\"Benchmark ({benchmark_ticker})\", benchmark_price_series.loc[actual_calc_end_ts:fwd_end_date_ts_theoretical], benchmark_high_series.loc[actual_calc_end_ts:fwd_end_date_ts_theoretical], benchmark_low_series.loc[actual_calc_end_ts:fwd_end_date_ts_theoretical])\n",
    "    display(Markdown(\"\\n### C. Full Period Analysis (Total)\"))\n",
    "    perf_full_p = print_verification_steps(\"Group Portfolio\", portfolio_value_series, portfolio_high_series, portfolio_low_series)\n",
    "    perf_full_b = print_verification_steps(f\"Benchmark ({benchmark_ticker})\", benchmark_price_series.loc[analysis_slice], benchmark_high_series.loc[analysis_slice], benchmark_low_series.loc[analysis_slice])\n",
    "    display(Markdown(\"\\n### D. Final Summary Table (matches analyzer output)\"))\n",
    "    rows = []\n",
    "    rows.append({'Metric': 'Group Portfolio Gain', 'Full': perf_full_p['gain'], 'Calc': perf_calc_p['gain'], 'Fwd': perf_fwd_p['gain']})\n",
    "    rows.append({'Metric': f'Benchmark ({benchmark_ticker}) Gain', 'Full': perf_full_b['gain'], 'Calc': perf_calc_b['gain'], 'Fwd': perf_fwd_b['gain']})\n",
    "    rows.append({'Metric': 'Gain Delta (vs Bm)', 'Full': perf_full_p['gain'] - perf_full_b['gain'], 'Calc': perf_calc_p['gain'] - perf_calc_b['gain'], 'Fwd': perf_fwd_p['gain'] - perf_fwd_b['gain']})\n",
    "    rows.append({'Metric': 'Group Portfolio Sharpe', 'Full': perf_full_p['sharpe'], 'Calc': perf_calc_p['sharpe'], 'Fwd': perf_fwd_p['sharpe']})\n",
    "    rows.append({'Metric': f'Benchmark ({benchmark_ticker}) Sharpe', 'Full': perf_full_b['sharpe'], 'Calc': perf_calc_b['sharpe'], 'Fwd': perf_fwd_b['sharpe']})\n",
    "    rows.append({'Metric': 'Sharpe Delta (vs Bm)', 'Full': perf_full_p['sharpe'] - perf_full_b['sharpe'], 'Calc': perf_calc_p['sharpe'] - perf_calc_b['sharpe'], 'Fwd': perf_fwd_p['sharpe'] - perf_fwd_b['sharpe']})\n",
    "    rows.append({'Metric': 'Group Portfolio Sharpe (ATR)', 'Full': perf_full_p['sharpe_atr'], 'Calc': perf_calc_p['sharpe_atr'], 'Fwd': perf_fwd_p['sharpe_atr']})\n",
    "    rows.append({'Metric': f'Benchmark ({benchmark_ticker}) Sharpe (ATR)', 'Full': perf_full_b['sharpe_atr'], 'Calc': perf_calc_b['sharpe_atr'], 'Fwd': perf_fwd_b['sharpe_atr']})\n",
    "    rows.append({'Metric': 'Sharpe (ATR) Delta (vs Bm)', 'Full': perf_full_p['sharpe_atr'] - perf_full_b['sharpe_atr'], 'Calc': perf_calc_p['sharpe_atr'] - perf_calc_b['sharpe_atr'], 'Fwd': perf_fwd_p['sharpe_atr'] - perf_fwd_b['sharpe_atr']})\n",
    "    report_df = pd.DataFrame(rows).set_index('Metric')\n",
    "    gain_rows = [row for row in report_df.index if 'Gain' in row]\n",
    "    sharpe_std_rows = [row for row in report_df.index if 'Sharpe' in row and '(ATR)' not in row]\n",
    "    sharpe_atr_rows = [row for row in report_df.index if 'Sharpe (ATR)' in row]\n",
    "    styled_df = report_df.style .format('{:+.2%}', na_rep='N/A', subset=(gain_rows, report_df.columns)) .format('{:+.2f}', na_rep='N/A', subset=(sharpe_std_rows, report_df.columns)) .format('{:+.4f}', na_rep='N/A', subset=(sharpe_atr_rows, report_df.columns)) .set_properties(**{'text-align': 'right', 'width': '100px'}) .set_table_styles([{'selector': 'th.col_heading', 'props': [('text-align', 'right')]}, {'selector': 'th.row_heading', 'props': [('text-align', 'left')]}])\n",
    "    display(styled_df)\n",
    "    \n",
    "    if export_csv:\n",
    "        raw_prices_df = portfolio_close_raw.rename(columns=lambda c: f'{c}_raw_close')\n",
    "        norm_prices_df = normalized_portfolio_close.rename(columns=lambda c: f'{c}_norm_close')\n",
    "        export_df = pd.concat([raw_prices_df, norm_prices_df], axis=1)\n",
    "        export_df['Portfolio_Value_Normalized'] = portfolio_value_series\n",
    "        export_df['Portfolio_Return'] = portfolio_value_series.pct_change()\n",
    "        aligned_benchmark = benchmark_price_series.reindex(export_df.index)\n",
    "        export_df[f'Benchmark_Price_{benchmark_ticker}'] = aligned_benchmark\n",
    "        \n",
    "        # --- NEW LINE ---\n",
    "        # Create and insert the 'Period' column at the beginning of the DataFrame\n",
    "        export_df.insert(0, 'Period', np.where(export_df.index <= actual_calc_end_ts, 'Calculation', 'Forward'))\n",
    "        \n",
    "        folder_name = 'export_csv'\n",
    "        os.makedirs(folder_name, exist_ok=True)\n",
    "        filename = f\"verification_group_tickers_{start_date_ts.strftime('%Y%m%d')}.csv\"\n",
    "        filepath = os.path.join(folder_name, filename)\n",
    "        export_df.to_csv(filepath, float_format='%.6f')\n",
    "        print(f\"\\n✅ Detailed group verification data exported to '{filepath}'\")\n",
    "  \n",
    "def verify_ticker_ranking_metrics(df_ohlcv, \n",
    "                                  ticker, \n",
    "                                  start_date, \n",
    "                                  calc_period, \n",
    "                                  fwd_period, \n",
    "                                  export_csv=False):\n",
    "    # ... (All the calculation and display logic remains exactly the same as the corrected version from yesterday) ...\n",
    "    display(Markdown(f\"## Verification Report for Ticker Ranking: `{ticker}`\"))\n",
    "    period_options = { '1M': pd.DateOffset(months=1), '3M': pd.DateOffset(months=3), '6M': pd.DateOffset(months=6), '1Y': pd.DateOffset(years=1), '0D': pd.DateOffset(days=0), '1W': pd.DateOffset(weeks=1), '2W': pd.DateOffset(weeks=2) }\n",
    "    try: df_ticker = df_ohlcv.loc[ticker].sort_index()\n",
    "    except KeyError: print(f\"---! ERROR: Ticker '{ticker}' not found !---\"); return\n",
    "    start_date_ts = pd.to_datetime(start_date)\n",
    "    calc_offset = period_options[calc_period]; fwd_offset = period_options[fwd_period]\n",
    "    calc_end_date_ts = start_date_ts + calc_offset; fwd_end_date_ts = calc_end_date_ts + fwd_offset\n",
    "    display(Markdown(f\"**Analysis Start Date:** `{start_date_ts.date()}`\"))\n",
    "    display(Markdown(f\"**Requested Calculation Period:** `{start_date_ts.date()}` to `{calc_end_date_ts.date()}`\"))\n",
    "    display(Markdown(f\"**Requested Forward Period:**   `{calc_end_date_ts.date()}` to `{fwd_end_date_ts.date()}`\"))\n",
    "    display(Markdown(\"### A. Calculation Period Analysis (for Ranking Metrics)\"))\n",
    "    calc_df = df_ticker.loc[start_date_ts:calc_end_date_ts].copy()\n",
    "    if calc_df['Adj Close'].notna().sum() < 2: print(\"\\n---! ERROR: Not enough data points !---\"); return\n",
    "    actual_calc_end_date = calc_df.index.max().date()\n",
    "    display(Markdown(f\"**Actual Dates Used:** `{calc_df.index.min().date()}` to `{actual_calc_end_date}`\"))\n",
    "    calc_gain = calculate_gain(calc_df['Adj Close'])\n",
    "    calc_start_price = calc_df['Adj Close'].bfill().iloc[0]\n",
    "    calc_end_price = calc_df['Adj Close'].ffill().iloc[-1]\n",
    "    display(Markdown(\"#### `CalcGain` Verification:\"))\n",
    "    print(f\"  - Calc Start Price: ${calc_start_price:.2f}\\n  - Calc End Price:   ${calc_end_price:.2f}  <-- 'CalcPrice'\\n  - CalcGain = {calc_gain:.2%}\")\n",
    "    display(Markdown(\"#### `MetricValue` Verification:\"))\n",
    "    price_metric = (calc_end_price / calc_start_price)\n",
    "    print(f\"\\n1. Price Metric:\\n   - Formula: Last Price / First Price = {price_metric:.4f}\")\n",
    "    daily_returns = calc_df['Adj Close'].bfill().ffill().pct_change()\n",
    "    sharpe_ratio = calculate_sharpe(daily_returns)\n",
    "    print(f\"\\n2. Sharpe Metric:\\n   - Mean Daily Return: {daily_returns.mean():.6f}\\n   - Std Dev Daily Return: {daily_returns.std():.6f}\\n   - Annualized Sharpe = {sharpe_ratio:.4f}\")\n",
    "    print(f\"\\n3. Sharpe (ATR) Metric:\")\n",
    "    tr = np.maximum(calc_df['Adj High'] - calc_df['Adj Low'], abs(calc_df['Adj High'] - calc_df['Adj Close'].shift(1)), abs(calc_df['Adj Low'] - calc_df['Adj Close'].shift(1)))\n",
    "    atr = tr.ewm(alpha=1/14, adjust=False).mean()\n",
    "    atrp_series = atr / calc_df['Adj Close']\n",
    "    atrp_mean = atrp_series.mean()\n",
    "    sharpe_atr = (daily_returns.mean() / atrp_mean) if atrp_mean > 0 else 0\n",
    "    print(f\"   - Mean Daily Return: {daily_returns.mean():.6f} (same as above)\\n   - Average ATR Percent (ATRP): {atrp_mean:.6f}\\n   - Sharpe (ATR) = {sharpe_atr:.4f}\")\n",
    "    display(Markdown(\"\\n### B. Forward Period Analysis (`FwdGain`)\"))\n",
    "    fwd_df = df_ticker.loc[actual_calc_end_date:fwd_end_date_ts].copy()\n",
    "    fwd_gain = calculate_gain(fwd_df['Adj Close'])\n",
    "    fwd_end_price = fwd_df['Adj Close'].ffill().iloc[-1] if fwd_gain is not np.nan else calc_end_price\n",
    "    print(f\"  - Fwd Start Price (Calc End Price): ${calc_end_price:.2f}\\n  - Fwd End Price: ${fwd_end_price:.2f}\\n  - FwdGain = {fwd_gain:.2%}\")\n",
    "    display(Markdown(\"\\n### C. Final Summary Tables\"))\n",
    "    metrics_summary_data = {'Metric': ['Price', 'Sharpe', 'Sharpe (ATR)'],'Calculated Value': [f\"{price_metric:.4f}\", f\"{sharpe_ratio:.4f}\", f\"{sharpe_atr:.4f}\"],'Corresponds To': ['`MetricValue`', '`MetricValue`', '`MetricValue`']}\n",
    "    metrics_df = pd.DataFrame(metrics_summary_data)\n",
    "    gains_summary_data = {'Gain Metric': ['Calc Period Gain', 'Forward Period Gain'],'Gain Value': [f\"{calc_gain:.2%}\", f\"{fwd_gain:.2%}\"],'Corresponds To': ['`CalcGain`', '`FwdGain`']}\n",
    "    gains_df = pd.DataFrame(gains_summary_data)\n",
    "    display(Markdown(\"#### Ranking Metric Values\"))\n",
    "    display(metrics_df.style.hide(axis=\"index\"))\n",
    "    display(Markdown(\"#### Gain Values\"))\n",
    "    display(gains_df.style.hide(axis=\"index\"))\n",
    "    \n",
    "    # --- START OF MODIFIED SECTION ---\n",
    "    if export_csv:\n",
    "        calc_df['Period'] = 'Calculation'; calc_df['Daily_Return'] = daily_returns; calc_df['True_Range'] = tr; calc_df['ATR_14'] = atr; calc_df['ATRP'] = atrp_series\n",
    "        fwd_df['Period'] = 'Forward'\n",
    "        combined_df = pd.concat([calc_df, fwd_df.iloc[1:]])\n",
    "        \n",
    "        # Define the folder and file path\n",
    "        folder_name = 'export_csv'\n",
    "        os.makedirs(folder_name, exist_ok=True) # Creates folder if it doesn't exist\n",
    "        filename = f\"verification_ticker_{ticker}_{start_date_ts.strftime('%Y%m%d')}.csv\"\n",
    "        filepath = os.path.join(folder_name, filename)\n",
    "        \n",
    "        # Export to the specified path, overwriting if necessary\n",
    "        combined_df.to_csv(filepath, float_format='%.6f')\n",
    "        print(f\"\\n✅ Detailed ticker data exported to '{filepath}'\")\n",
    "    # --- END OF MODIFIED SECTION ---\n",
    "\n"
   ]
  },
  {
   "cell_type": "code",
   "execution_count": 2,
   "id": "8b471e61",
   "metadata": {},
   "outputs": [
    {
     "name": "stdout",
     "output_type": "stream",
     "text": [
      "<class 'pandas.core.frame.DataFrame'>\n",
      "MultiIndex: 2198109 entries, ('A', Timestamp('2025-09-30 00:00:00')) to ('ZWS', Timestamp('2020-01-02 00:00:00'))\n",
      "Data columns (total 5 columns):\n",
      " #   Column     Dtype  \n",
      "---  ------     -----  \n",
      " 0   Adj Open   float64\n",
      " 1   Adj High   float64\n",
      " 2   Adj Low    float64\n",
      " 3   Adj Close  float64\n",
      " 4   Volume     int64  \n",
      "dtypes: float64(4), int64(1)\n",
      "memory usage: 92.4+ MB\n",
      "df_OHLCV.info() :\n",
      "None\n",
      "\n",
      "df_OHLCV:\n",
      "                   Adj Open  Adj High   Adj Low  Adj Close   Volume\n",
      "Ticker Date                                                        \n",
      "A      2025-09-30  123.4200  128.3900  123.0140   128.3500  1773231\n",
      "       2025-09-29  123.7600  124.2300  122.5700   123.7500  1486100\n",
      "       2025-09-26  122.0500  124.0500  121.5500   123.3900  1167100\n",
      "       2025-09-25  123.6600  123.6600  120.7800   121.8900  1411800\n",
      "       2025-09-24  125.1700  125.9600  124.0800   124.3800  1239900\n",
      "...                     ...       ...       ...        ...      ...\n",
      "ZWS    2020-01-08   14.8940   15.0222   14.8895    14.9078  1641196\n",
      "       2020-01-07   14.9169   14.9627   14.8071    14.8940  1320255\n",
      "       2020-01-06   14.8620   14.9444   14.7613    14.9444  1520379\n",
      "       2020-01-03   14.7979   15.0405   14.7430    15.0176  1815322\n",
      "       2020-01-02   15.0634   15.0954   14.8895    15.0313  1769443\n",
      "\n",
      "[2198109 rows x 5 columns]\n"
     ]
    }
   ],
   "source": [
    "download_path = Path.home() / \"Downloads\"  \n",
    "# OHLCV_file_path = r'c:\\Users\\ping\\Files_win10\\python\\py311\\stocks\\data\\df_OHLCV_clean_stocks_etfs.parquet'\n",
    "OHLCV_file_path = r'c:\\Users\\ping\\Files_win10\\python\\py311\\stocks\\data\\df_OHLCV_stocks_etfs.parquet'\n",
    "\n",
    "df_OHLCV = pd.read_parquet(OHLCV_file_path, engine='pyarrow')\n",
    "print(f'df_OHLCV.info() :\\n{df_OHLCV.info()}')\n",
    "print(f'\\ndf_OHLCV:\\n{df_OHLCV}')"
   ]
  },
  {
   "cell_type": "code",
   "execution_count": 17,
   "id": "93a5fcf6",
   "metadata": {},
   "outputs": [],
   "source": [
    "# --- 2. TEST EXECUTION ---\n",
    "test_start_date = '2023-06-01'\n",
    "test_calc_period = '1M'\n",
    "test_fwd_period = '1W'\n",
    "test_metric = 'Sharpe (ATR)'\n",
    "test_rank_start = 10\n",
    "test_rank_end = 20\n",
    "test_benchmark = 'VGT'"
   ]
  },
  {
   "cell_type": "code",
   "execution_count": 18,
   "id": "eb9543d8",
   "metadata": {},
   "outputs": [
    {
     "name": "stdout",
     "output_type": "stream",
     "text": [
      "--- RUNNING REFACTORED CODE TEST ---\n",
      "Initializing Walk-Forward Analyzer...\n",
      "Pre-processing data (unstacking)...\n"
     ]
    },
    {
     "data": {
      "application/vnd.jupyter.widget-view+json": {
       "model_id": "f318a23ce8c04d0099fd07d461c0ff7a",
       "version_major": 2,
       "version_minor": 0
      },
      "text/plain": [
       "VBox(children=(HBox(children=(DatePicker(value=Timestamp('2023-06-01 00:00:00'), description='Start Date:', st…"
      ]
     },
     "metadata": {},
     "output_type": "display_data"
    },
    {
     "data": {
      "application/vnd.jupyter.widget-view+json": {
       "model_id": "b0c64cea040d4135affc36fe77791fe3",
       "version_major": 2,
       "version_minor": 0
      },
      "text/plain": [
       "FigureWidget({\n",
       "    'data': [{'mode': 'lines',\n",
       "              'name': 'placeholder_0',\n",
       "              'showlegend': False,\n",
       "              'type': 'scatter',\n",
       "              'uid': '8359e0ba-6d9a-4a45-8470-6a889b58a024',\n",
       "              'visible': False,\n",
       "              'x': [None],\n",
       "              'y': [None]},\n",
       "             {'mode': 'lines',\n",
       "              'name': 'placeholder_1',\n",
       "              'showlegend': False,\n",
       "              'type': 'scatter',\n",
       "              'uid': 'ecaa0559-a000-45b0-88aa-e581166fdc8d',\n",
       "              'visible': False,\n",
       "              'x': [None],\n",
       "              'y': [None]},\n",
       "             {'mode': 'lines',\n",
       "              'name': 'placeholder_2',\n",
       "              'showlegend': False,\n",
       "              'type': 'scatter',\n",
       "              'uid': '6487a386-593e-4113-8188-9f0fb5284c80',\n",
       "              'visible': False,\n",
       "              'x': [None],\n",
       "              'y': [None]},\n",
       "             {'mode': 'lines',\n",
       "              'name': 'placeholder_3',\n",
       "              'showlegend': False,\n",
       "              'type': 'scatter',\n",
       "              'uid': 'de76ecfc-096e-487a-a776-0e06b283cb49',\n",
       "              'visible': False,\n",
       "              'x': [None],\n",
       "              'y': [None]},\n",
       "             {'mode': 'lines',\n",
       "              'name': 'placeholder_4',\n",
       "              'showlegend': False,\n",
       "              'type': 'scatter',\n",
       "              'uid': 'da5d8bc2-33c9-4b30-93e7-b86566e244b9',\n",
       "              'visible': False,\n",
       "              'x': [None],\n",
       "              'y': [None]},\n",
       "             {'mode': 'lines',\n",
       "              'name': 'placeholder_5',\n",
       "              'showlegend': False,\n",
       "              'type': 'scatter',\n",
       "              'uid': '4f1d443d-de24-45c1-91ec-ba7efe6c157e',\n",
       "              'visible': False,\n",
       "              'x': [None],\n",
       "              'y': [None]},\n",
       "             {'mode': 'lines',\n",
       "              'name': 'placeholder_6',\n",
       "              'showlegend': False,\n",
       "              'type': 'scatter',\n",
       "              'uid': '186c5a8f-decf-4171-92e3-8242df6d3719',\n",
       "              'visible': False,\n",
       "              'x': [None],\n",
       "              'y': [None]},\n",
       "             {'mode': 'lines',\n",
       "              'name': 'placeholder_7',\n",
       "              'showlegend': False,\n",
       "              'type': 'scatter',\n",
       "              'uid': 'cf2a6d8e-b4c3-4b10-9f87-83b3acfa1377',\n",
       "              'visible': False,\n",
       "              'x': [None],\n",
       "              'y': [None]},\n",
       "             {'mode': 'lines',\n",
       "              'name': 'placeholder_8',\n",
       "              'showlegend': False,\n",
       "              'type': 'scatter',\n",
       "              'uid': '2e5b6f4d-f40b-4288-a4a5-74500f4580b3',\n",
       "              'visible': False,\n",
       "              'x': [None],\n",
       "              'y': [None]},\n",
       "             {'mode': 'lines',\n",
       "              'name': 'placeholder_9',\n",
       "              'showlegend': False,\n",
       "              'type': 'scatter',\n",
       "              'uid': '9fdea747-095e-4352-a05b-6438efb9d614',\n",
       "              'visible': False,\n",
       "              'x': [None],\n",
       "              'y': [None]},\n",
       "             {'mode': 'lines',\n",
       "              'name': 'placeholder_10',\n",
       "              'showlegend': False,\n",
       "              'type': 'scatter',\n",
       "              'uid': 'a1df0048-beaf-49b2-9e31-db7edcb4d5d8',\n",
       "              'visible': False,\n",
       "              'x': [None],\n",
       "              'y': [None]},\n",
       "             {'mode': 'lines',\n",
       "              'name': 'placeholder_11',\n",
       "              'showlegend': False,\n",
       "              'type': 'scatter',\n",
       "              'uid': '0dc0babe-91e6-45db-b3e4-81a11bbf9ccf',\n",
       "              'visible': False,\n",
       "              'x': [None],\n",
       "              'y': [None]},\n",
       "             {'mode': 'lines',\n",
       "              'name': 'placeholder_12',\n",
       "              'showlegend': False,\n",
       "              'type': 'scatter',\n",
       "              'uid': '3ff91823-d1de-4779-8bf0-0477fb3b7838',\n",
       "              'visible': False,\n",
       "              'x': [None],\n",
       "              'y': [None]},\n",
       "             {'mode': 'lines',\n",
       "              'name': 'placeholder_13',\n",
       "              'showlegend': False,\n",
       "              'type': 'scatter',\n",
       "              'uid': 'bd06783f-2ad1-412e-8564-fe2d11d71419',\n",
       "              'visible': False,\n",
       "              'x': [None],\n",
       "              'y': [None]},\n",
       "             {'mode': 'lines',\n",
       "              'name': 'placeholder_14',\n",
       "              'showlegend': False,\n",
       "              'type': 'scatter',\n",
       "              'uid': 'efd98b3c-107c-4a24-aeed-577da05170f3',\n",
       "              'visible': False,\n",
       "              'x': [None],\n",
       "              'y': [None]},\n",
       "             {'mode': 'lines',\n",
       "              'name': 'placeholder_15',\n",
       "              'showlegend': False,\n",
       "              'type': 'scatter',\n",
       "              'uid': '423e7499-0136-4d0d-88ce-a7eaa7918a72',\n",
       "              'visible': False,\n",
       "              'x': [None],\n",
       "              'y': [None]},\n",
       "             {'mode': 'lines',\n",
       "              'name': 'placeholder_16',\n",
       "              'showlegend': False,\n",
       "              'type': 'scatter',\n",
       "              'uid': '13102fbf-0dba-4a28-9c94-840696bfe052',\n",
       "              'visible': False,\n",
       "              'x': [None],\n",
       "              'y': [None]},\n",
       "             {'mode': 'lines',\n",
       "              'name': 'placeholder_17',\n",
       "              'showlegend': False,\n",
       "              'type': 'scatter',\n",
       "              'uid': '6ff2a53a-66ad-4f3b-af6c-c40692f763a7',\n",
       "              'visible': False,\n",
       "              'x': [None],\n",
       "              'y': [None]},\n",
       "             {'mode': 'lines',\n",
       "              'name': 'placeholder_18',\n",
       "              'showlegend': False,\n",
       "              'type': 'scatter',\n",
       "              'uid': 'ca14f50e-c073-41c8-855c-1f0bd99f6393',\n",
       "              'visible': False,\n",
       "              'x': [None],\n",
       "              'y': [None]},\n",
       "             {'mode': 'lines',\n",
       "              'name': 'placeholder_19',\n",
       "              'showlegend': False,\n",
       "              'type': 'scatter',\n",
       "              'uid': '9b5ba0c1-cc5f-4699-a344-cdd6821073d4',\n",
       "              'visible': False,\n",
       "              'x': [None],\n",
       "              'y': [None]},\n",
       "             {'mode': 'lines',\n",
       "              'name': 'placeholder_20',\n",
       "              'showlegend': False,\n",
       "              'type': 'scatter',\n",
       "              'uid': '499122ad-6f86-4a13-876c-c7fca6719690',\n",
       "              'visible': False,\n",
       "              'x': [None],\n",
       "              'y': [None]},\n",
       "             {'mode': 'lines',\n",
       "              'name': 'placeholder_21',\n",
       "              'showlegend': False,\n",
       "              'type': 'scatter',\n",
       "              'uid': 'a9d46241-770a-41bc-9c2b-05e2817ea15a',\n",
       "              'visible': False,\n",
       "              'x': [None],\n",
       "              'y': [None]},\n",
       "             {'mode': 'lines',\n",
       "              'name': 'placeholder_22',\n",
       "              'showlegend': False,\n",
       "              'type': 'scatter',\n",
       "              'uid': 'bef39777-82cd-4d0b-96cf-71942b45261d',\n",
       "              'visible': False,\n",
       "              'x': [None],\n",
       "              'y': [None]},\n",
       "             {'mode': 'lines',\n",
       "              'name': 'placeholder_23',\n",
       "              'showlegend': False,\n",
       "              'type': 'scatter',\n",
       "              'uid': '2db9b051-2cb3-42b7-b409-dd4f8d611ae8',\n",
       "              'visible': False,\n",
       "              'x': [None],\n",
       "              'y': [None]},\n",
       "             {'mode': 'lines',\n",
       "              'name': 'placeholder_24',\n",
       "              'showlegend': False,\n",
       "              'type': 'scatter',\n",
       "              'uid': '27eb9c5b-7c88-418d-8d1a-fe28c4e6af83',\n",
       "              'visible': False,\n",
       "              'x': [None],\n",
       "              'y': [None]},\n",
       "             {'mode': 'lines',\n",
       "              'name': 'placeholder_25',\n",
       "              'showlegend': False,\n",
       "              'type': 'scatter',\n",
       "              'uid': '7f2336e1-1c98-4faa-bc5f-c1e33bddce90',\n",
       "              'visible': False,\n",
       "              'x': [None],\n",
       "              'y': [None]},\n",
       "             {'mode': 'lines',\n",
       "              'name': 'placeholder_26',\n",
       "              'showlegend': False,\n",
       "              'type': 'scatter',\n",
       "              'uid': '6f3d0127-5dcc-4c40-ae90-c4f18cfd2c9e',\n",
       "              'visible': False,\n",
       "              'x': [None],\n",
       "              'y': [None]},\n",
       "             {'mode': 'lines',\n",
       "              'name': 'placeholder_27',\n",
       "              'showlegend': False,\n",
       "              'type': 'scatter',\n",
       "              'uid': '608448f4-65db-4a5b-acc2-0568c5207e95',\n",
       "              'visible': False,\n",
       "              'x': [None],\n",
       "              'y': [None]},\n",
       "             {'mode': 'lines',\n",
       "              'name': 'placeholder_28',\n",
       "              'showlegend': False,\n",
       "              'type': 'scatter',\n",
       "              'uid': 'a11d55a5-d312-493a-8e4b-f2367fc2d73f',\n",
       "              'visible': False,\n",
       "              'x': [None],\n",
       "              'y': [None]},\n",
       "             {'mode': 'lines',\n",
       "              'name': 'placeholder_29',\n",
       "              'showlegend': False,\n",
       "              'type': 'scatter',\n",
       "              'uid': '4f00de42-6acf-41e6-b620-9a088425c462',\n",
       "              'visible': False,\n",
       "              'x': [None],\n",
       "              'y': [None]},\n",
       "             {'mode': 'lines',\n",
       "              'name': 'placeholder_30',\n",
       "              'showlegend': False,\n",
       "              'type': 'scatter',\n",
       "              'uid': '36aa349d-1aa3-47c5-81c3-4aad6abc1df2',\n",
       "              'visible': False,\n",
       "              'x': [None],\n",
       "              'y': [None]},\n",
       "             {'mode': 'lines',\n",
       "              'name': 'placeholder_31',\n",
       "              'showlegend': False,\n",
       "              'type': 'scatter',\n",
       "              'uid': '42a454af-fed8-4e72-830c-082bcf624377',\n",
       "              'visible': False,\n",
       "              'x': [None],\n",
       "              'y': [None]},\n",
       "             {'mode': 'lines',\n",
       "              'name': 'placeholder_32',\n",
       "              'showlegend': False,\n",
       "              'type': 'scatter',\n",
       "              'uid': 'caa81f80-726a-45a7-8e0f-d0feb2bf1aec',\n",
       "              'visible': False,\n",
       "              'x': [None],\n",
       "              'y': [None]},\n",
       "             {'mode': 'lines',\n",
       "              'name': 'placeholder_33',\n",
       "              'showlegend': False,\n",
       "              'type': 'scatter',\n",
       "              'uid': '939a405c-629c-4c29-90f8-e1ff3ed400f1',\n",
       "              'visible': False,\n",
       "              'x': [None],\n",
       "              'y': [None]},\n",
       "             {'mode': 'lines',\n",
       "              'name': 'placeholder_34',\n",
       "              'showlegend': False,\n",
       "              'type': 'scatter',\n",
       "              'uid': '4e746574-944d-4544-a5fd-95bad8788b04',\n",
       "              'visible': False,\n",
       "              'x': [None],\n",
       "              'y': [None]},\n",
       "             {'mode': 'lines',\n",
       "              'name': 'placeholder_35',\n",
       "              'showlegend': False,\n",
       "              'type': 'scatter',\n",
       "              'uid': 'b7204672-e6d9-4cb3-9652-1966baee396d',\n",
       "              'visible': False,\n",
       "              'x': [None],\n",
       "              'y': [None]},\n",
       "             {'mode': 'lines',\n",
       "              'name': 'placeholder_36',\n",
       "              'showlegend': False,\n",
       "              'type': 'scatter',\n",
       "              'uid': 'cef06af3-c16d-4954-a394-6d34d7591d11',\n",
       "              'visible': False,\n",
       "              'x': [None],\n",
       "              'y': [None]},\n",
       "             {'mode': 'lines',\n",
       "              'name': 'placeholder_37',\n",
       "              'showlegend': False,\n",
       "              'type': 'scatter',\n",
       "              'uid': 'e3e0d624-8773-4bab-8461-b4bea53bf617',\n",
       "              'visible': False,\n",
       "              'x': [None],\n",
       "              'y': [None]},\n",
       "             {'mode': 'lines',\n",
       "              'name': 'placeholder_38',\n",
       "              'showlegend': False,\n",
       "              'type': 'scatter',\n",
       "              'uid': '3a7e8f77-4e5f-4bf5-a9d9-bfb8b7477c2b',\n",
       "              'visible': False,\n",
       "              'x': [None],\n",
       "              'y': [None]},\n",
       "             {'mode': 'lines',\n",
       "              'name': 'placeholder_39',\n",
       "              'showlegend': False,\n",
       "              'type': 'scatter',\n",
       "              'uid': 'aabc76f2-3e12-453b-98db-ce36d834fc0b',\n",
       "              'visible': False,\n",
       "              'x': [None],\n",
       "              'y': [None]},\n",
       "             {'mode': 'lines',\n",
       "              'name': 'placeholder_40',\n",
       "              'showlegend': False,\n",
       "              'type': 'scatter',\n",
       "              'uid': '1ad1a163-5532-4a8e-96d0-c5cad0f56ea5',\n",
       "              'visible': False,\n",
       "              'x': [None],\n",
       "              'y': [None]},\n",
       "             {'mode': 'lines',\n",
       "              'name': 'placeholder_41',\n",
       "              'showlegend': False,\n",
       "              'type': 'scatter',\n",
       "              'uid': '9a4ec60f-fbe6-473e-adf6-361f4b62f305',\n",
       "              'visible': False,\n",
       "              'x': [None],\n",
       "              'y': [None]},\n",
       "             {'mode': 'lines',\n",
       "              'name': 'placeholder_42',\n",
       "              'showlegend': False,\n",
       "              'type': 'scatter',\n",
       "              'uid': '1d53c3ad-709c-4362-9b13-eee4990fc503',\n",
       "              'visible': False,\n",
       "              'x': [None],\n",
       "              'y': [None]},\n",
       "             {'mode': 'lines',\n",
       "              'name': 'placeholder_43',\n",
       "              'showlegend': False,\n",
       "              'type': 'scatter',\n",
       "              'uid': 'd6c27cba-e911-4e5a-b8e3-25bc5b3342d6',\n",
       "              'visible': False,\n",
       "              'x': [None],\n",
       "              'y': [None]},\n",
       "             {'mode': 'lines',\n",
       "              'name': 'placeholder_44',\n",
       "              'showlegend': False,\n",
       "              'type': 'scatter',\n",
       "              'uid': '08c965fa-4c83-4b6d-8c9f-e7a266cb6c9b',\n",
       "              'visible': False,\n",
       "              'x': [None],\n",
       "              'y': [None]},\n",
       "             {'mode': 'lines',\n",
       "              'name': 'placeholder_45',\n",
       "              'showlegend': False,\n",
       "              'type': 'scatter',\n",
       "              'uid': '185f2592-9c64-4348-98a7-e0f9bdd680e0',\n",
       "              'visible': False,\n",
       "              'x': [None],\n",
       "              'y': [None]},\n",
       "             {'mode': 'lines',\n",
       "              'name': 'placeholder_46',\n",
       "              'showlegend': False,\n",
       "              'type': 'scatter',\n",
       "              'uid': '1a36ca17-c5ca-4a23-a4a3-aa2c4b1f962a',\n",
       "              'visible': False,\n",
       "              'x': [None],\n",
       "              'y': [None]},\n",
       "             {'mode': 'lines',\n",
       "              'name': 'placeholder_47',\n",
       "              'showlegend': False,\n",
       "              'type': 'scatter',\n",
       "              'uid': 'c7b38d4c-cfce-4eaf-ae3b-8945901f2722',\n",
       "              'visible': False,\n",
       "              'x': [None],\n",
       "              'y': [None]},\n",
       "             {'mode': 'lines',\n",
       "              'name': 'placeholder_48',\n",
       "              'showlegend': False,\n",
       "              'type': 'scatter',\n",
       "              'uid': 'd1ef43c8-00cb-4f33-9001-35d37df99886',\n",
       "              'visible': False,\n",
       "              'x': [None],\n",
       "              'y': [None]},\n",
       "             {'mode': 'lines',\n",
       "              'name': 'placeholder_49',\n",
       "              'showlegend': False,\n",
       "              'type': 'scatter',\n",
       "              'uid': 'ca265537-9b6a-4b46-8f1d-40ca4284011e',\n",
       "              'visible': False,\n",
       "              'x': [None],\n",
       "              'y': [None]},\n",
       "             {'line': {'color': 'black', 'dash': 'dash', 'width': 3},\n",
       "              'mode': 'lines',\n",
       "              'name': 'Benchmark',\n",
       "              'showlegend': True,\n",
       "              'type': 'scatter',\n",
       "              'uid': 'aed13391-259f-4a44-82ad-338265b37c12',\n",
       "              'visible': True,\n",
       "              'x': [None],\n",
       "              'y': [None]},\n",
       "             {'line': {'color': 'green', 'width': 3},\n",
       "              'mode': 'lines',\n",
       "              'name': 'Group Portfolio',\n",
       "              'showlegend': True,\n",
       "              'type': 'scatter',\n",
       "              'uid': '28266f34-288a-46da-b315-f2306f5603b4',\n",
       "              'visible': True,\n",
       "              'x': [None],\n",
       "              'y': [None]}],\n",
       "    'layout': {'height': 700,\n",
       "               'hovermode': 'x unified',\n",
       "               'legend': {'title': {'text': 'Tickers (Ranked)'}},\n",
       "               'margin': {'t': 50},\n",
       "               'shapes': [{'line': {'color': 'grey', 'dash': 'dash', 'width': 1},\n",
       "                           'type': 'line',\n",
       "                           'x0': 0,\n",
       "                           'x1': 1,\n",
       "                           'xref': 'x domain',\n",
       "                           'y0': 1,\n",
       "                           'y1': 1,\n",
       "                           'yref': 'y'}],\n",
       "               'template': '...',\n",
       "               'title': {'text': 'Walk-Forward Performance Analysis'},\n",
       "               'xaxis': {'title': {'text': 'Date'}},\n",
       "               'yaxis': {'title': {'text': 'Normalized Price (Start = 1)'}}}\n",
       "})"
      ]
     },
     "metadata": {},
     "output_type": "display_data"
    },
    {
     "name": "stdout",
     "output_type": "stream",
     "text": [
      "\n",
      "--- TEST COMPLETE ---\n"
     ]
    }
   ],
   "source": [
    "\n",
    "\n",
    "print(\"--- RUNNING REFACTORED CODE TEST ---\")\n",
    "walk_forward_results = plot_walk_forward_analyzer(\n",
    "    df_OHLCV,\n",
    "    default_start_date=test_start_date,\n",
    "    default_calc_period=test_calc_period,\n",
    "    default_fwd_period=test_fwd_period,\n",
    "    default_metric=test_metric,\n",
    "    default_rank_start=test_rank_start,\n",
    "    default_rank_end=test_rank_end,\n",
    "    default_benchmark_ticker=test_benchmark\n",
    ")\n",
    "print(\"\\n--- TEST COMPLETE ---\")"
   ]
  },
  {
   "cell_type": "code",
   "execution_count": 13,
   "id": "2c6661e9",
   "metadata": {},
   "outputs": [
    {
     "data": {
      "text/plain": [
       "[          Rank        Metric  MetricValue  CalcPrice  CalcGain   FwdGain\n",
       " Ticker                                                                  \n",
       " SGOV       1.0  Sharpe (ATR)     0.791494    90.2594  0.012267  0.001068\n",
       " FER        2.0  Sharpe (ATR)     0.637183    28.9740  0.106883  0.010320\n",
       " SHV        3.0  Sharpe (ATR)     0.614564    99.1763  0.011222  0.000654\n",
       " BIL        4.0  Sharpe (ATR)     0.601716    82.3930  0.011793  0.000799\n",
       " GBIL       5.0  Sharpe (ATR)     0.537086    89.9725  0.010415  0.000812\n",
       " TFLO       6.0  Sharpe (ATR)     0.532346    45.3818  0.013344  0.000912\n",
       " USFR       7.0  Sharpe (ATR)     0.519430    45.2612  0.013394  0.001392\n",
       " BILS       8.0  Sharpe (ATR)     0.497131    89.2756  0.010144  0.000655\n",
       " MINT       9.0  Sharpe (ATR)     0.467381    88.9671  0.016342  0.001410\n",
       " TBIL      10.0  Sharpe (ATR)     0.448982    44.9261  0.012015  0.000922\n",
       " VOO (BM)   NaN  Sharpe (ATR)     0.146257   395.0890  0.082955 -0.010780]"
      ]
     },
     "execution_count": 13,
     "metadata": {},
     "output_type": "execute_result"
    }
   ],
   "source": [
    "walk_forward_results"
   ]
  },
  {
   "cell_type": "code",
   "execution_count": 14,
   "id": "f9b7d439",
   "metadata": {},
   "outputs": [
    {
     "name": "stdout",
     "output_type": "stream",
     "text": [
      "--- Extracted and Cleaned Ticker List ---\n",
      "all_tickers_cleaned: ['SGOV', 'FER', 'SHV', 'BIL', 'GBIL', 'TFLO', 'USFR', 'BILS', 'MINT', 'TBIL', 'VOO']\n",
      "\n",
      "plotted_tickers: ['SGOV', 'FER', 'SHV', 'BIL', 'GBIL', 'TFLO', 'USFR', 'BILS', 'MINT', 'TBIL']\n",
      "\n",
      "benchmark_ticker: VOO\n"
     ]
    }
   ],
   "source": [
    "# 1. Access the results DataFrame\n",
    "# The function returns a list, and the DataFrame is the first element.\n",
    "results_df = walk_forward_results[0]\n",
    "\n",
    "# 2. Extract the index (which contains the tickers) and clean it\n",
    "# We use a list comprehension to iterate through the index labels\n",
    "# and remove the \" (BM)\" suffix from the benchmark ticker.\n",
    "all_tickers_cleaned = [ticker.replace(' (BM)', '') for ticker in results_df.index.tolist()]\n",
    "plotted_tickers = all_tickers_cleaned[:-1]\n",
    "benchmark_ticker = all_tickers_cleaned[-1]  \n",
    "\n",
    "# 3. Print the final list\n",
    "print(\"--- Extracted and Cleaned Ticker List ---\")\n",
    "print(f'all_tickers_cleaned: {all_tickers_cleaned}')\n",
    "print(f'\\nplotted_tickers: {plotted_tickers}')\n",
    "print(f'\\nbenchmark_ticker: {benchmark_ticker}')"
   ]
  },
  {
   "cell_type": "code",
   "execution_count": 15,
   "id": "7258e193",
   "metadata": {},
   "outputs": [
    {
     "data": {
      "text/markdown": [
       "## Verification Report for Portfolio vs. Benchmark"
      ],
      "text/plain": [
       "<IPython.core.display.Markdown object>"
      ]
     },
     "metadata": {},
     "output_type": "display_data"
    },
    {
     "data": {
      "text/markdown": [
       "**Portfolio Tickers:** `['SGOV', 'FER', 'SHV', 'BIL', 'GBIL', 'TFLO', 'USFR', 'BILS', 'MINT', 'TBIL']`"
      ],
      "text/plain": [
       "<IPython.core.display.Markdown object>"
      ]
     },
     "metadata": {},
     "output_type": "display_data"
    },
    {
     "data": {
      "text/markdown": [
       "**Benchmark Ticker:** `VOO`"
      ],
      "text/plain": [
       "<IPython.core.display.Markdown object>"
      ]
     },
     "metadata": {},
     "output_type": "display_data"
    },
    {
     "data": {
      "text/markdown": [
       "**Analysis Start Date:** `2023-04-01`"
      ],
      "text/plain": [
       "<IPython.core.display.Markdown object>"
      ]
     },
     "metadata": {},
     "output_type": "display_data"
    },
    {
     "data": {
      "text/markdown": [
       "**Calculation Period End Date:** `2023-06-30`"
      ],
      "text/plain": [
       "<IPython.core.display.Markdown object>"
      ]
     },
     "metadata": {},
     "output_type": "display_data"
    },
    {
     "data": {
      "text/markdown": [
       "**Forward Period End Date:** `2023-07-08`"
      ],
      "text/plain": [
       "<IPython.core.display.Markdown object>"
      ]
     },
     "metadata": {},
     "output_type": "display_data"
    },
    {
     "data": {
      "text/markdown": [
       "### A. Calculation Period Analysis ('In-Sample')"
      ],
      "text/plain": [
       "<IPython.core.display.Markdown object>"
      ]
     },
     "metadata": {},
     "output_type": "display_data"
    },
    {
     "data": {
      "text/markdown": [
       "#### Verification for: `Group Portfolio`"
      ],
      "text/plain": [
       "<IPython.core.display.Markdown object>"
      ]
     },
     "metadata": {},
     "output_type": "display_data"
    },
    {
     "name": "stdout",
     "output_type": "stream",
     "text": [
      "  - Start Value (on 2023-04-03): 1.0000\n",
      "  - End Value   (on 2023-06-30): 1.0218\n",
      "  - Gain = (1.0218 / 1.0000) - 1 = 2.18%\n",
      "\n",
      "  - Mean Daily Return: 0.000355\n",
      "  - Std Dev of Daily Return: 0.001773\n",
      "  - Sharpe = (0.000355 / 0.001773) * sqrt(252) = 3.18\n",
      "\n",
      "  - Average ATR Percent (ATRP): 0.000618\n",
      "  - Sharpe (ATR) = 0.000355 / 0.000618 = 0.5739\n"
     ]
    },
    {
     "data": {
      "text/markdown": [
       "#### Verification for: `Benchmark (VOO)`"
      ],
      "text/plain": [
       "<IPython.core.display.Markdown object>"
      ]
     },
     "metadata": {},
     "output_type": "display_data"
    },
    {
     "name": "stdout",
     "output_type": "stream",
     "text": [
      "  - Start Value (on 2020-01-02): 273.5320\n",
      "  - End Value   (on 2023-06-30): 395.0890\n",
      "  - Gain = (395.0890 / 273.5320) - 1 = 44.44%\n",
      "\n",
      "  - Mean Daily Return: 0.000535\n",
      "  - Std Dev of Daily Return: 0.015228\n",
      "  - Sharpe = (0.000535 / 0.015228) * sqrt(252) = 0.56\n",
      "\n",
      "  - Average ATR Percent (ATRP): 0.015489\n",
      "  - Sharpe (ATR) = 0.000535 / 0.015489 = 0.0345\n"
     ]
    },
    {
     "data": {
      "text/markdown": [
       "\n",
       "### B. Forward Period Analysis ('Moment of Truth')"
      ],
      "text/plain": [
       "<IPython.core.display.Markdown object>"
      ]
     },
     "metadata": {},
     "output_type": "display_data"
    },
    {
     "data": {
      "text/markdown": [
       "#### Verification for: `Group Portfolio`"
      ],
      "text/plain": [
       "<IPython.core.display.Markdown object>"
      ]
     },
     "metadata": {},
     "output_type": "display_data"
    },
    {
     "name": "stdout",
     "output_type": "stream",
     "text": [
      "  - Start Value (on 2023-06-30): 1.0218\n",
      "  - End Value   (on 2023-07-07): 1.0238\n",
      "  - Gain = (1.0238 / 1.0218) - 1 = 0.20%\n",
      "\n",
      "  - Mean Daily Return: 0.000493\n",
      "  - Std Dev of Daily Return: 0.000500\n",
      "  - Sharpe = (0.000493 / 0.000500) * sqrt(252) = 15.63\n",
      "\n",
      "  - Average ATR Percent (ATRP): 0.000333\n",
      "  - Sharpe (ATR) = 0.000493 / 0.000333 = 1.4801\n"
     ]
    },
    {
     "data": {
      "text/markdown": [
       "#### Verification for: `Benchmark (VOO)`"
      ],
      "text/plain": [
       "<IPython.core.display.Markdown object>"
      ]
     },
     "metadata": {},
     "output_type": "display_data"
    },
    {
     "name": "stdout",
     "output_type": "stream",
     "text": [
      "  - Start Value (on 2023-06-30): 395.0890\n",
      "  - End Value   (on 2023-07-07): 390.8300\n",
      "  - Gain = (390.8300 / 395.0890) - 1 = -1.08%\n",
      "\n",
      "  - Mean Daily Return: -0.002699\n",
      "  - Std Dev of Daily Return: 0.004140\n",
      "  - Sharpe = (-0.002699 / 0.004140) * sqrt(252) = -10.35\n",
      "\n",
      "  - Average ATR Percent (ATRP): 0.003696\n",
      "  - Sharpe (ATR) = -0.002699 / 0.003696 = -0.7305\n"
     ]
    },
    {
     "data": {
      "text/markdown": [
       "\n",
       "### C. Full Period Analysis (Total)"
      ],
      "text/plain": [
       "<IPython.core.display.Markdown object>"
      ]
     },
     "metadata": {},
     "output_type": "display_data"
    },
    {
     "data": {
      "text/markdown": [
       "#### Verification for: `Group Portfolio`"
      ],
      "text/plain": [
       "<IPython.core.display.Markdown object>"
      ]
     },
     "metadata": {},
     "output_type": "display_data"
    },
    {
     "name": "stdout",
     "output_type": "stream",
     "text": [
      "  - Start Value (on 2023-04-03): 1.0000\n",
      "  - End Value   (on 2023-07-07): 1.0238\n",
      "  - Gain = (1.0238 / 1.0000) - 1 = 2.38%\n",
      "\n",
      "  - Mean Daily Return: 0.000363\n",
      "  - Std Dev of Daily Return: 0.001721\n",
      "  - Sharpe = (0.000363 / 0.001721) * sqrt(252) = 3.35\n",
      "\n",
      "  - Average ATR Percent (ATRP): 0.000640\n",
      "  - Sharpe (ATR) = 0.000363 / 0.000640 = 0.5673\n"
     ]
    },
    {
     "data": {
      "text/markdown": [
       "#### Verification for: `Benchmark (VOO)`"
      ],
      "text/plain": [
       "<IPython.core.display.Markdown object>"
      ]
     },
     "metadata": {},
     "output_type": "display_data"
    },
    {
     "name": "stdout",
     "output_type": "stream",
     "text": [
      "  - Start Value (on 2023-04-03): 364.8250\n",
      "  - End Value   (on 2023-07-07): 390.8300\n",
      "  - Gain = (390.8300 / 364.8250) - 1 = 7.13%\n",
      "\n",
      "  - Mean Daily Return: 0.001087\n",
      "  - Std Dev of Daily Return: 0.007368\n",
      "  - Sharpe = (0.001087 / 0.007368) * sqrt(252) = 2.34\n",
      "\n",
      "  - Average ATR Percent (ATRP): 0.009944\n",
      "  - Sharpe (ATR) = 0.001087 / 0.009944 = 0.1093\n"
     ]
    },
    {
     "data": {
      "text/markdown": [
       "\n",
       "### D. Final Summary Table (matches analyzer output)"
      ],
      "text/plain": [
       "<IPython.core.display.Markdown object>"
      ]
     },
     "metadata": {},
     "output_type": "display_data"
    },
    {
     "data": {
      "text/html": [
       "<style type=\"text/css\">\n",
       "#T_f012d th.col_heading {\n",
       "  text-align: right;\n",
       "}\n",
       "#T_f012d th.row_heading {\n",
       "  text-align: left;\n",
       "}\n",
       "#T_f012d_row0_col0, #T_f012d_row0_col1, #T_f012d_row0_col2, #T_f012d_row1_col0, #T_f012d_row1_col1, #T_f012d_row1_col2, #T_f012d_row2_col0, #T_f012d_row2_col1, #T_f012d_row2_col2, #T_f012d_row3_col0, #T_f012d_row3_col1, #T_f012d_row3_col2, #T_f012d_row4_col0, #T_f012d_row4_col1, #T_f012d_row4_col2, #T_f012d_row5_col0, #T_f012d_row5_col1, #T_f012d_row5_col2, #T_f012d_row6_col0, #T_f012d_row6_col1, #T_f012d_row6_col2, #T_f012d_row7_col0, #T_f012d_row7_col1, #T_f012d_row7_col2, #T_f012d_row8_col0, #T_f012d_row8_col1, #T_f012d_row8_col2 {\n",
       "  text-align: right;\n",
       "  width: 100px;\n",
       "}\n",
       "</style>\n",
       "<table id=\"T_f012d\">\n",
       "  <thead>\n",
       "    <tr>\n",
       "      <th class=\"blank level0\" >&nbsp;</th>\n",
       "      <th id=\"T_f012d_level0_col0\" class=\"col_heading level0 col0\" >Full</th>\n",
       "      <th id=\"T_f012d_level0_col1\" class=\"col_heading level0 col1\" >Calc</th>\n",
       "      <th id=\"T_f012d_level0_col2\" class=\"col_heading level0 col2\" >Fwd</th>\n",
       "    </tr>\n",
       "    <tr>\n",
       "      <th class=\"index_name level0\" >Metric</th>\n",
       "      <th class=\"blank col0\" >&nbsp;</th>\n",
       "      <th class=\"blank col1\" >&nbsp;</th>\n",
       "      <th class=\"blank col2\" >&nbsp;</th>\n",
       "    </tr>\n",
       "  </thead>\n",
       "  <tbody>\n",
       "    <tr>\n",
       "      <th id=\"T_f012d_level0_row0\" class=\"row_heading level0 row0\" >Group Portfolio Gain</th>\n",
       "      <td id=\"T_f012d_row0_col0\" class=\"data row0 col0\" >+2.38%</td>\n",
       "      <td id=\"T_f012d_row0_col1\" class=\"data row0 col1\" >+2.18%</td>\n",
       "      <td id=\"T_f012d_row0_col2\" class=\"data row0 col2\" >+0.20%</td>\n",
       "    </tr>\n",
       "    <tr>\n",
       "      <th id=\"T_f012d_level0_row1\" class=\"row_heading level0 row1\" >Benchmark (VOO) Gain</th>\n",
       "      <td id=\"T_f012d_row1_col0\" class=\"data row1 col0\" >+7.13%</td>\n",
       "      <td id=\"T_f012d_row1_col1\" class=\"data row1 col1\" >+44.44%</td>\n",
       "      <td id=\"T_f012d_row1_col2\" class=\"data row1 col2\" >-1.08%</td>\n",
       "    </tr>\n",
       "    <tr>\n",
       "      <th id=\"T_f012d_level0_row2\" class=\"row_heading level0 row2\" >Gain Delta (vs Bm)</th>\n",
       "      <td id=\"T_f012d_row2_col0\" class=\"data row2 col0\" >-4.75%</td>\n",
       "      <td id=\"T_f012d_row2_col1\" class=\"data row2 col1\" >-42.26%</td>\n",
       "      <td id=\"T_f012d_row2_col2\" class=\"data row2 col2\" >+1.28%</td>\n",
       "    </tr>\n",
       "    <tr>\n",
       "      <th id=\"T_f012d_level0_row3\" class=\"row_heading level0 row3\" >Group Portfolio Sharpe</th>\n",
       "      <td id=\"T_f012d_row3_col0\" class=\"data row3 col0\" >+3.35</td>\n",
       "      <td id=\"T_f012d_row3_col1\" class=\"data row3 col1\" >+3.18</td>\n",
       "      <td id=\"T_f012d_row3_col2\" class=\"data row3 col2\" >+15.63</td>\n",
       "    </tr>\n",
       "    <tr>\n",
       "      <th id=\"T_f012d_level0_row4\" class=\"row_heading level0 row4\" >Benchmark (VOO) Sharpe</th>\n",
       "      <td id=\"T_f012d_row4_col0\" class=\"data row4 col0\" >+2.34</td>\n",
       "      <td id=\"T_f012d_row4_col1\" class=\"data row4 col1\" >+0.56</td>\n",
       "      <td id=\"T_f012d_row4_col2\" class=\"data row4 col2\" >-10.35</td>\n",
       "    </tr>\n",
       "    <tr>\n",
       "      <th id=\"T_f012d_level0_row5\" class=\"row_heading level0 row5\" >Sharpe Delta (vs Bm)</th>\n",
       "      <td id=\"T_f012d_row5_col0\" class=\"data row5 col0\" >+1.01</td>\n",
       "      <td id=\"T_f012d_row5_col1\" class=\"data row5 col1\" >+2.62</td>\n",
       "      <td id=\"T_f012d_row5_col2\" class=\"data row5 col2\" >+25.98</td>\n",
       "    </tr>\n",
       "    <tr>\n",
       "      <th id=\"T_f012d_level0_row6\" class=\"row_heading level0 row6\" >Group Portfolio Sharpe (ATR)</th>\n",
       "      <td id=\"T_f012d_row6_col0\" class=\"data row6 col0\" >+0.5673</td>\n",
       "      <td id=\"T_f012d_row6_col1\" class=\"data row6 col1\" >+0.5739</td>\n",
       "      <td id=\"T_f012d_row6_col2\" class=\"data row6 col2\" >+1.4801</td>\n",
       "    </tr>\n",
       "    <tr>\n",
       "      <th id=\"T_f012d_level0_row7\" class=\"row_heading level0 row7\" >Benchmark (VOO) Sharpe (ATR)</th>\n",
       "      <td id=\"T_f012d_row7_col0\" class=\"data row7 col0\" >+0.1093</td>\n",
       "      <td id=\"T_f012d_row7_col1\" class=\"data row7 col1\" >+0.0345</td>\n",
       "      <td id=\"T_f012d_row7_col2\" class=\"data row7 col2\" >-0.7305</td>\n",
       "    </tr>\n",
       "    <tr>\n",
       "      <th id=\"T_f012d_level0_row8\" class=\"row_heading level0 row8\" >Sharpe (ATR) Delta (vs Bm)</th>\n",
       "      <td id=\"T_f012d_row8_col0\" class=\"data row8 col0\" >+0.4580</td>\n",
       "      <td id=\"T_f012d_row8_col1\" class=\"data row8 col1\" >+0.5394</td>\n",
       "      <td id=\"T_f012d_row8_col2\" class=\"data row8 col2\" >+2.2106</td>\n",
       "    </tr>\n",
       "  </tbody>\n",
       "</table>\n"
      ],
      "text/plain": [
       "<pandas.io.formats.style.Styler at 0x2c0ba468f90>"
      ]
     },
     "metadata": {},
     "output_type": "display_data"
    },
    {
     "name": "stdout",
     "output_type": "stream",
     "text": [
      "\n",
      "✅ Detailed group verification data exported to 'export_csv\\verification_group_tickers_20230401.csv'\n"
     ]
    }
   ],
   "source": [
    "verify_group_tickers_walk_forward_calculation(df_OHLCV, \n",
    "                                              tickers_to_verify=plotted_tickers,\n",
    "                                              benchmark_ticker=benchmark_ticker,\n",
    "                                              start_date=test_start_date, \n",
    "                                              calc_period=test_calc_period, \n",
    "                                              fwd_period=test_fwd_period, \n",
    "                                              export_csv=True)"
   ]
  },
  {
   "cell_type": "code",
   "execution_count": 16,
   "id": "52aec1fd",
   "metadata": {},
   "outputs": [
    {
     "name": "stdout",
     "output_type": "stream",
     "text": [
      "--- Starting Individual Ticker Verification ---\n",
      "\n",
      "================================================================================\n",
      "--- Verifying Ticker: SGOV ---\n",
      "================================================================================\n"
     ]
    },
    {
     "data": {
      "text/markdown": [
       "## Verification Report for Ticker Ranking: `SGOV`"
      ],
      "text/plain": [
       "<IPython.core.display.Markdown object>"
      ]
     },
     "metadata": {},
     "output_type": "display_data"
    },
    {
     "data": {
      "text/markdown": [
       "**Analysis Start Date:** `2023-04-01`"
      ],
      "text/plain": [
       "<IPython.core.display.Markdown object>"
      ]
     },
     "metadata": {},
     "output_type": "display_data"
    },
    {
     "data": {
      "text/markdown": [
       "**Requested Calculation Period:** `2023-04-01` to `2023-07-01`"
      ],
      "text/plain": [
       "<IPython.core.display.Markdown object>"
      ]
     },
     "metadata": {},
     "output_type": "display_data"
    },
    {
     "data": {
      "text/markdown": [
       "**Requested Forward Period:**   `2023-07-01` to `2023-07-08`"
      ],
      "text/plain": [
       "<IPython.core.display.Markdown object>"
      ]
     },
     "metadata": {},
     "output_type": "display_data"
    },
    {
     "data": {
      "text/markdown": [
       "### A. Calculation Period Analysis (for Ranking Metrics)"
      ],
      "text/plain": [
       "<IPython.core.display.Markdown object>"
      ]
     },
     "metadata": {},
     "output_type": "display_data"
    },
    {
     "data": {
      "text/markdown": [
       "**Actual Dates Used:** `2023-04-03` to `2023-06-30`"
      ],
      "text/plain": [
       "<IPython.core.display.Markdown object>"
      ]
     },
     "metadata": {},
     "output_type": "display_data"
    },
    {
     "data": {
      "text/markdown": [
       "#### `CalcGain` Verification:"
      ],
      "text/plain": [
       "<IPython.core.display.Markdown object>"
      ]
     },
     "metadata": {},
     "output_type": "display_data"
    },
    {
     "name": "stdout",
     "output_type": "stream",
     "text": [
      "  - Calc Start Price: $89.17\n",
      "  - Calc End Price:   $90.26  <-- 'CalcPrice'\n",
      "  - CalcGain = 1.23%\n"
     ]
    },
    {
     "data": {
      "text/markdown": [
       "#### `MetricValue` Verification:"
      ],
      "text/plain": [
       "<IPython.core.display.Markdown object>"
      ]
     },
     "metadata": {},
     "output_type": "display_data"
    },
    {
     "name": "stdout",
     "output_type": "stream",
     "text": [
      "\n",
      "1. Price Metric:\n",
      "   - Formula: Last Price / First Price = 1.0123\n",
      "\n",
      "2. Sharpe Metric:\n",
      "   - Mean Daily Return: 0.000200\n",
      "   - Std Dev Daily Return: 0.000178\n",
      "   - Annualized Sharpe = 17.8206\n",
      "\n",
      "3. Sharpe (ATR) Metric:\n",
      "   - Mean Daily Return: 0.000200 (same as above)\n",
      "   - Average ATR Percent (ATRP): 0.000271\n",
      "   - Sharpe (ATR) = 0.7364\n"
     ]
    },
    {
     "data": {
      "text/markdown": [
       "\n",
       "### B. Forward Period Analysis (`FwdGain`)"
      ],
      "text/plain": [
       "<IPython.core.display.Markdown object>"
      ]
     },
     "metadata": {},
     "output_type": "display_data"
    },
    {
     "name": "stdout",
     "output_type": "stream",
     "text": [
      "  - Fwd Start Price (Calc End Price): $90.26\n",
      "  - Fwd End Price: $90.36\n",
      "  - FwdGain = 0.11%\n"
     ]
    },
    {
     "data": {
      "text/markdown": [
       "\n",
       "### C. Final Summary Tables"
      ],
      "text/plain": [
       "<IPython.core.display.Markdown object>"
      ]
     },
     "metadata": {},
     "output_type": "display_data"
    },
    {
     "data": {
      "text/markdown": [
       "#### Ranking Metric Values"
      ],
      "text/plain": [
       "<IPython.core.display.Markdown object>"
      ]
     },
     "metadata": {},
     "output_type": "display_data"
    },
    {
     "data": {
      "text/html": [
       "<style type=\"text/css\">\n",
       "</style>\n",
       "<table id=\"T_19937\">\n",
       "  <thead>\n",
       "    <tr>\n",
       "      <th id=\"T_19937_level0_col0\" class=\"col_heading level0 col0\" >Metric</th>\n",
       "      <th id=\"T_19937_level0_col1\" class=\"col_heading level0 col1\" >Calculated Value</th>\n",
       "      <th id=\"T_19937_level0_col2\" class=\"col_heading level0 col2\" >Corresponds To</th>\n",
       "    </tr>\n",
       "  </thead>\n",
       "  <tbody>\n",
       "    <tr>\n",
       "      <td id=\"T_19937_row0_col0\" class=\"data row0 col0\" >Price</td>\n",
       "      <td id=\"T_19937_row0_col1\" class=\"data row0 col1\" >1.0123</td>\n",
       "      <td id=\"T_19937_row0_col2\" class=\"data row0 col2\" >`MetricValue`</td>\n",
       "    </tr>\n",
       "    <tr>\n",
       "      <td id=\"T_19937_row1_col0\" class=\"data row1 col0\" >Sharpe</td>\n",
       "      <td id=\"T_19937_row1_col1\" class=\"data row1 col1\" >17.8206</td>\n",
       "      <td id=\"T_19937_row1_col2\" class=\"data row1 col2\" >`MetricValue`</td>\n",
       "    </tr>\n",
       "    <tr>\n",
       "      <td id=\"T_19937_row2_col0\" class=\"data row2 col0\" >Sharpe (ATR)</td>\n",
       "      <td id=\"T_19937_row2_col1\" class=\"data row2 col1\" >0.7364</td>\n",
       "      <td id=\"T_19937_row2_col2\" class=\"data row2 col2\" >`MetricValue`</td>\n",
       "    </tr>\n",
       "  </tbody>\n",
       "</table>\n"
      ],
      "text/plain": [
       "<pandas.io.formats.style.Styler at 0x2c0bc03e810>"
      ]
     },
     "metadata": {},
     "output_type": "display_data"
    },
    {
     "data": {
      "text/markdown": [
       "#### Gain Values"
      ],
      "text/plain": [
       "<IPython.core.display.Markdown object>"
      ]
     },
     "metadata": {},
     "output_type": "display_data"
    },
    {
     "data": {
      "text/html": [
       "<style type=\"text/css\">\n",
       "</style>\n",
       "<table id=\"T_8a97a\">\n",
       "  <thead>\n",
       "    <tr>\n",
       "      <th id=\"T_8a97a_level0_col0\" class=\"col_heading level0 col0\" >Gain Metric</th>\n",
       "      <th id=\"T_8a97a_level0_col1\" class=\"col_heading level0 col1\" >Gain Value</th>\n",
       "      <th id=\"T_8a97a_level0_col2\" class=\"col_heading level0 col2\" >Corresponds To</th>\n",
       "    </tr>\n",
       "  </thead>\n",
       "  <tbody>\n",
       "    <tr>\n",
       "      <td id=\"T_8a97a_row0_col0\" class=\"data row0 col0\" >Calc Period Gain</td>\n",
       "      <td id=\"T_8a97a_row0_col1\" class=\"data row0 col1\" >1.23%</td>\n",
       "      <td id=\"T_8a97a_row0_col2\" class=\"data row0 col2\" >`CalcGain`</td>\n",
       "    </tr>\n",
       "    <tr>\n",
       "      <td id=\"T_8a97a_row1_col0\" class=\"data row1 col0\" >Forward Period Gain</td>\n",
       "      <td id=\"T_8a97a_row1_col1\" class=\"data row1 col1\" >0.11%</td>\n",
       "      <td id=\"T_8a97a_row1_col2\" class=\"data row1 col2\" >`FwdGain`</td>\n",
       "    </tr>\n",
       "  </tbody>\n",
       "</table>\n"
      ],
      "text/plain": [
       "<pandas.io.formats.style.Styler at 0x2c0bc03e810>"
      ]
     },
     "metadata": {},
     "output_type": "display_data"
    },
    {
     "name": "stdout",
     "output_type": "stream",
     "text": [
      "\n",
      "✅ Detailed ticker data exported to 'export_csv\\verification_ticker_SGOV_20230401.csv'\n",
      "\n",
      "================================================================================\n",
      "--- Verifying Ticker: FER ---\n",
      "================================================================================\n"
     ]
    },
    {
     "data": {
      "text/markdown": [
       "## Verification Report for Ticker Ranking: `FER`"
      ],
      "text/plain": [
       "<IPython.core.display.Markdown object>"
      ]
     },
     "metadata": {},
     "output_type": "display_data"
    },
    {
     "data": {
      "text/markdown": [
       "**Analysis Start Date:** `2023-04-01`"
      ],
      "text/plain": [
       "<IPython.core.display.Markdown object>"
      ]
     },
     "metadata": {},
     "output_type": "display_data"
    },
    {
     "data": {
      "text/markdown": [
       "**Requested Calculation Period:** `2023-04-01` to `2023-07-01`"
      ],
      "text/plain": [
       "<IPython.core.display.Markdown object>"
      ]
     },
     "metadata": {},
     "output_type": "display_data"
    },
    {
     "data": {
      "text/markdown": [
       "**Requested Forward Period:**   `2023-07-01` to `2023-07-08`"
      ],
      "text/plain": [
       "<IPython.core.display.Markdown object>"
      ]
     },
     "metadata": {},
     "output_type": "display_data"
    },
    {
     "data": {
      "text/markdown": [
       "### A. Calculation Period Analysis (for Ranking Metrics)"
      ],
      "text/plain": [
       "<IPython.core.display.Markdown object>"
      ]
     },
     "metadata": {},
     "output_type": "display_data"
    },
    {
     "data": {
      "text/markdown": [
       "**Actual Dates Used:** `2023-04-03` to `2023-06-30`"
      ],
      "text/plain": [
       "<IPython.core.display.Markdown object>"
      ]
     },
     "metadata": {},
     "output_type": "display_data"
    },
    {
     "data": {
      "text/markdown": [
       "#### `CalcGain` Verification:"
      ],
      "text/plain": [
       "<IPython.core.display.Markdown object>"
      ]
     },
     "metadata": {},
     "output_type": "display_data"
    },
    {
     "name": "stdout",
     "output_type": "stream",
     "text": [
      "  - Calc Start Price: $26.18\n",
      "  - Calc End Price:   $28.97  <-- 'CalcPrice'\n",
      "  - CalcGain = 10.69%\n"
     ]
    },
    {
     "data": {
      "text/markdown": [
       "#### `MetricValue` Verification:"
      ],
      "text/plain": [
       "<IPython.core.display.Markdown object>"
      ]
     },
     "metadata": {},
     "output_type": "display_data"
    },
    {
     "name": "stdout",
     "output_type": "stream",
     "text": [
      "\n",
      "1. Price Metric:\n",
      "   - Formula: Last Price / First Price = 1.1069\n",
      "\n",
      "2. Sharpe Metric:\n",
      "   - Mean Daily Return: 0.001798\n",
      "   - Std Dev Daily Return: 0.016568\n",
      "   - Annualized Sharpe = 1.7229\n",
      "\n",
      "3. Sharpe (ATR) Metric:\n",
      "   - Mean Daily Return: 0.001798 (same as above)\n",
      "   - Average ATR Percent (ATRP): 0.002868\n",
      "   - Sharpe (ATR) = 0.6269\n"
     ]
    },
    {
     "data": {
      "text/markdown": [
       "\n",
       "### B. Forward Period Analysis (`FwdGain`)"
      ],
      "text/plain": [
       "<IPython.core.display.Markdown object>"
      ]
     },
     "metadata": {},
     "output_type": "display_data"
    },
    {
     "name": "stdout",
     "output_type": "stream",
     "text": [
      "  - Fwd Start Price (Calc End Price): $28.97\n",
      "  - Fwd End Price: $29.27\n",
      "  - FwdGain = 1.03%\n"
     ]
    },
    {
     "data": {
      "text/markdown": [
       "\n",
       "### C. Final Summary Tables"
      ],
      "text/plain": [
       "<IPython.core.display.Markdown object>"
      ]
     },
     "metadata": {},
     "output_type": "display_data"
    },
    {
     "data": {
      "text/markdown": [
       "#### Ranking Metric Values"
      ],
      "text/plain": [
       "<IPython.core.display.Markdown object>"
      ]
     },
     "metadata": {},
     "output_type": "display_data"
    },
    {
     "data": {
      "text/html": [
       "<style type=\"text/css\">\n",
       "</style>\n",
       "<table id=\"T_e3ef0\">\n",
       "  <thead>\n",
       "    <tr>\n",
       "      <th id=\"T_e3ef0_level0_col0\" class=\"col_heading level0 col0\" >Metric</th>\n",
       "      <th id=\"T_e3ef0_level0_col1\" class=\"col_heading level0 col1\" >Calculated Value</th>\n",
       "      <th id=\"T_e3ef0_level0_col2\" class=\"col_heading level0 col2\" >Corresponds To</th>\n",
       "    </tr>\n",
       "  </thead>\n",
       "  <tbody>\n",
       "    <tr>\n",
       "      <td id=\"T_e3ef0_row0_col0\" class=\"data row0 col0\" >Price</td>\n",
       "      <td id=\"T_e3ef0_row0_col1\" class=\"data row0 col1\" >1.1069</td>\n",
       "      <td id=\"T_e3ef0_row0_col2\" class=\"data row0 col2\" >`MetricValue`</td>\n",
       "    </tr>\n",
       "    <tr>\n",
       "      <td id=\"T_e3ef0_row1_col0\" class=\"data row1 col0\" >Sharpe</td>\n",
       "      <td id=\"T_e3ef0_row1_col1\" class=\"data row1 col1\" >1.7229</td>\n",
       "      <td id=\"T_e3ef0_row1_col2\" class=\"data row1 col2\" >`MetricValue`</td>\n",
       "    </tr>\n",
       "    <tr>\n",
       "      <td id=\"T_e3ef0_row2_col0\" class=\"data row2 col0\" >Sharpe (ATR)</td>\n",
       "      <td id=\"T_e3ef0_row2_col1\" class=\"data row2 col1\" >0.6269</td>\n",
       "      <td id=\"T_e3ef0_row2_col2\" class=\"data row2 col2\" >`MetricValue`</td>\n",
       "    </tr>\n",
       "  </tbody>\n",
       "</table>\n"
      ],
      "text/plain": [
       "<pandas.io.formats.style.Styler at 0x2c0ba367350>"
      ]
     },
     "metadata": {},
     "output_type": "display_data"
    },
    {
     "data": {
      "text/markdown": [
       "#### Gain Values"
      ],
      "text/plain": [
       "<IPython.core.display.Markdown object>"
      ]
     },
     "metadata": {},
     "output_type": "display_data"
    },
    {
     "data": {
      "text/html": [
       "<style type=\"text/css\">\n",
       "</style>\n",
       "<table id=\"T_46405\">\n",
       "  <thead>\n",
       "    <tr>\n",
       "      <th id=\"T_46405_level0_col0\" class=\"col_heading level0 col0\" >Gain Metric</th>\n",
       "      <th id=\"T_46405_level0_col1\" class=\"col_heading level0 col1\" >Gain Value</th>\n",
       "      <th id=\"T_46405_level0_col2\" class=\"col_heading level0 col2\" >Corresponds To</th>\n",
       "    </tr>\n",
       "  </thead>\n",
       "  <tbody>\n",
       "    <tr>\n",
       "      <td id=\"T_46405_row0_col0\" class=\"data row0 col0\" >Calc Period Gain</td>\n",
       "      <td id=\"T_46405_row0_col1\" class=\"data row0 col1\" >10.69%</td>\n",
       "      <td id=\"T_46405_row0_col2\" class=\"data row0 col2\" >`CalcGain`</td>\n",
       "    </tr>\n",
       "    <tr>\n",
       "      <td id=\"T_46405_row1_col0\" class=\"data row1 col0\" >Forward Period Gain</td>\n",
       "      <td id=\"T_46405_row1_col1\" class=\"data row1 col1\" >1.03%</td>\n",
       "      <td id=\"T_46405_row1_col2\" class=\"data row1 col2\" >`FwdGain`</td>\n",
       "    </tr>\n",
       "  </tbody>\n",
       "</table>\n"
      ],
      "text/plain": [
       "<pandas.io.formats.style.Styler at 0x2c0ba367350>"
      ]
     },
     "metadata": {},
     "output_type": "display_data"
    },
    {
     "name": "stdout",
     "output_type": "stream",
     "text": [
      "\n",
      "✅ Detailed ticker data exported to 'export_csv\\verification_ticker_FER_20230401.csv'\n",
      "\n",
      "================================================================================\n",
      "--- Verifying Ticker: SHV ---\n",
      "================================================================================\n"
     ]
    },
    {
     "data": {
      "text/markdown": [
       "## Verification Report for Ticker Ranking: `SHV`"
      ],
      "text/plain": [
       "<IPython.core.display.Markdown object>"
      ]
     },
     "metadata": {},
     "output_type": "display_data"
    },
    {
     "data": {
      "text/markdown": [
       "**Analysis Start Date:** `2023-04-01`"
      ],
      "text/plain": [
       "<IPython.core.display.Markdown object>"
      ]
     },
     "metadata": {},
     "output_type": "display_data"
    },
    {
     "data": {
      "text/markdown": [
       "**Requested Calculation Period:** `2023-04-01` to `2023-07-01`"
      ],
      "text/plain": [
       "<IPython.core.display.Markdown object>"
      ]
     },
     "metadata": {},
     "output_type": "display_data"
    },
    {
     "data": {
      "text/markdown": [
       "**Requested Forward Period:**   `2023-07-01` to `2023-07-08`"
      ],
      "text/plain": [
       "<IPython.core.display.Markdown object>"
      ]
     },
     "metadata": {},
     "output_type": "display_data"
    },
    {
     "data": {
      "text/markdown": [
       "### A. Calculation Period Analysis (for Ranking Metrics)"
      ],
      "text/plain": [
       "<IPython.core.display.Markdown object>"
      ]
     },
     "metadata": {},
     "output_type": "display_data"
    },
    {
     "data": {
      "text/markdown": [
       "**Actual Dates Used:** `2023-04-03` to `2023-06-30`"
      ],
      "text/plain": [
       "<IPython.core.display.Markdown object>"
      ]
     },
     "metadata": {},
     "output_type": "display_data"
    },
    {
     "data": {
      "text/markdown": [
       "#### `CalcGain` Verification:"
      ],
      "text/plain": [
       "<IPython.core.display.Markdown object>"
      ]
     },
     "metadata": {},
     "output_type": "display_data"
    },
    {
     "name": "stdout",
     "output_type": "stream",
     "text": [
      "  - Calc Start Price: $98.08\n",
      "  - Calc End Price:   $99.18  <-- 'CalcPrice'\n",
      "  - CalcGain = 1.12%\n"
     ]
    },
    {
     "data": {
      "text/markdown": [
       "#### `MetricValue` Verification:"
      ],
      "text/plain": [
       "<IPython.core.display.Markdown object>"
      ]
     },
     "metadata": {},
     "output_type": "display_data"
    },
    {
     "name": "stdout",
     "output_type": "stream",
     "text": [
      "\n",
      "1. Price Metric:\n",
      "   - Formula: Last Price / First Price = 1.0112\n",
      "\n",
      "2. Sharpe Metric:\n",
      "   - Mean Daily Return: 0.000183\n",
      "   - Std Dev Daily Return: 0.000202\n",
      "   - Annualized Sharpe = 14.4009\n",
      "\n",
      "3. Sharpe (ATR) Metric:\n",
      "   - Mean Daily Return: 0.000183 (same as above)\n",
      "   - Average ATR Percent (ATRP): 0.000374\n",
      "   - Sharpe (ATR) = 0.4886\n"
     ]
    },
    {
     "data": {
      "text/markdown": [
       "\n",
       "### B. Forward Period Analysis (`FwdGain`)"
      ],
      "text/plain": [
       "<IPython.core.display.Markdown object>"
      ]
     },
     "metadata": {},
     "output_type": "display_data"
    },
    {
     "name": "stdout",
     "output_type": "stream",
     "text": [
      "  - Fwd Start Price (Calc End Price): $99.18\n",
      "  - Fwd End Price: $99.24\n",
      "  - FwdGain = 0.07%\n"
     ]
    },
    {
     "data": {
      "text/markdown": [
       "\n",
       "### C. Final Summary Tables"
      ],
      "text/plain": [
       "<IPython.core.display.Markdown object>"
      ]
     },
     "metadata": {},
     "output_type": "display_data"
    },
    {
     "data": {
      "text/markdown": [
       "#### Ranking Metric Values"
      ],
      "text/plain": [
       "<IPython.core.display.Markdown object>"
      ]
     },
     "metadata": {},
     "output_type": "display_data"
    },
    {
     "data": {
      "text/html": [
       "<style type=\"text/css\">\n",
       "</style>\n",
       "<table id=\"T_459f5\">\n",
       "  <thead>\n",
       "    <tr>\n",
       "      <th id=\"T_459f5_level0_col0\" class=\"col_heading level0 col0\" >Metric</th>\n",
       "      <th id=\"T_459f5_level0_col1\" class=\"col_heading level0 col1\" >Calculated Value</th>\n",
       "      <th id=\"T_459f5_level0_col2\" class=\"col_heading level0 col2\" >Corresponds To</th>\n",
       "    </tr>\n",
       "  </thead>\n",
       "  <tbody>\n",
       "    <tr>\n",
       "      <td id=\"T_459f5_row0_col0\" class=\"data row0 col0\" >Price</td>\n",
       "      <td id=\"T_459f5_row0_col1\" class=\"data row0 col1\" >1.0112</td>\n",
       "      <td id=\"T_459f5_row0_col2\" class=\"data row0 col2\" >`MetricValue`</td>\n",
       "    </tr>\n",
       "    <tr>\n",
       "      <td id=\"T_459f5_row1_col0\" class=\"data row1 col0\" >Sharpe</td>\n",
       "      <td id=\"T_459f5_row1_col1\" class=\"data row1 col1\" >14.4009</td>\n",
       "      <td id=\"T_459f5_row1_col2\" class=\"data row1 col2\" >`MetricValue`</td>\n",
       "    </tr>\n",
       "    <tr>\n",
       "      <td id=\"T_459f5_row2_col0\" class=\"data row2 col0\" >Sharpe (ATR)</td>\n",
       "      <td id=\"T_459f5_row2_col1\" class=\"data row2 col1\" >0.4886</td>\n",
       "      <td id=\"T_459f5_row2_col2\" class=\"data row2 col2\" >`MetricValue`</td>\n",
       "    </tr>\n",
       "  </tbody>\n",
       "</table>\n"
      ],
      "text/plain": [
       "<pandas.io.formats.style.Styler at 0x2c0ba388f10>"
      ]
     },
     "metadata": {},
     "output_type": "display_data"
    },
    {
     "data": {
      "text/markdown": [
       "#### Gain Values"
      ],
      "text/plain": [
       "<IPython.core.display.Markdown object>"
      ]
     },
     "metadata": {},
     "output_type": "display_data"
    },
    {
     "data": {
      "text/html": [
       "<style type=\"text/css\">\n",
       "</style>\n",
       "<table id=\"T_1bfed\">\n",
       "  <thead>\n",
       "    <tr>\n",
       "      <th id=\"T_1bfed_level0_col0\" class=\"col_heading level0 col0\" >Gain Metric</th>\n",
       "      <th id=\"T_1bfed_level0_col1\" class=\"col_heading level0 col1\" >Gain Value</th>\n",
       "      <th id=\"T_1bfed_level0_col2\" class=\"col_heading level0 col2\" >Corresponds To</th>\n",
       "    </tr>\n",
       "  </thead>\n",
       "  <tbody>\n",
       "    <tr>\n",
       "      <td id=\"T_1bfed_row0_col0\" class=\"data row0 col0\" >Calc Period Gain</td>\n",
       "      <td id=\"T_1bfed_row0_col1\" class=\"data row0 col1\" >1.12%</td>\n",
       "      <td id=\"T_1bfed_row0_col2\" class=\"data row0 col2\" >`CalcGain`</td>\n",
       "    </tr>\n",
       "    <tr>\n",
       "      <td id=\"T_1bfed_row1_col0\" class=\"data row1 col0\" >Forward Period Gain</td>\n",
       "      <td id=\"T_1bfed_row1_col1\" class=\"data row1 col1\" >0.07%</td>\n",
       "      <td id=\"T_1bfed_row1_col2\" class=\"data row1 col2\" >`FwdGain`</td>\n",
       "    </tr>\n",
       "  </tbody>\n",
       "</table>\n"
      ],
      "text/plain": [
       "<pandas.io.formats.style.Styler at 0x2c0ba340590>"
      ]
     },
     "metadata": {},
     "output_type": "display_data"
    },
    {
     "name": "stdout",
     "output_type": "stream",
     "text": [
      "\n",
      "✅ Detailed ticker data exported to 'export_csv\\verification_ticker_SHV_20230401.csv'\n",
      "\n",
      "================================================================================\n",
      "--- Verifying Ticker: BIL ---\n",
      "================================================================================\n"
     ]
    },
    {
     "data": {
      "text/markdown": [
       "## Verification Report for Ticker Ranking: `BIL`"
      ],
      "text/plain": [
       "<IPython.core.display.Markdown object>"
      ]
     },
     "metadata": {},
     "output_type": "display_data"
    },
    {
     "data": {
      "text/markdown": [
       "**Analysis Start Date:** `2023-04-01`"
      ],
      "text/plain": [
       "<IPython.core.display.Markdown object>"
      ]
     },
     "metadata": {},
     "output_type": "display_data"
    },
    {
     "data": {
      "text/markdown": [
       "**Requested Calculation Period:** `2023-04-01` to `2023-07-01`"
      ],
      "text/plain": [
       "<IPython.core.display.Markdown object>"
      ]
     },
     "metadata": {},
     "output_type": "display_data"
    },
    {
     "data": {
      "text/markdown": [
       "**Requested Forward Period:**   `2023-07-01` to `2023-07-08`"
      ],
      "text/plain": [
       "<IPython.core.display.Markdown object>"
      ]
     },
     "metadata": {},
     "output_type": "display_data"
    },
    {
     "data": {
      "text/markdown": [
       "### A. Calculation Period Analysis (for Ranking Metrics)"
      ],
      "text/plain": [
       "<IPython.core.display.Markdown object>"
      ]
     },
     "metadata": {},
     "output_type": "display_data"
    },
    {
     "data": {
      "text/markdown": [
       "**Actual Dates Used:** `2023-04-03` to `2023-06-30`"
      ],
      "text/plain": [
       "<IPython.core.display.Markdown object>"
      ]
     },
     "metadata": {},
     "output_type": "display_data"
    },
    {
     "data": {
      "text/markdown": [
       "#### `CalcGain` Verification:"
      ],
      "text/plain": [
       "<IPython.core.display.Markdown object>"
      ]
     },
     "metadata": {},
     "output_type": "display_data"
    },
    {
     "name": "stdout",
     "output_type": "stream",
     "text": [
      "  - Calc Start Price: $81.43\n",
      "  - Calc End Price:   $82.39  <-- 'CalcPrice'\n",
      "  - CalcGain = 1.18%\n"
     ]
    },
    {
     "data": {
      "text/markdown": [
       "#### `MetricValue` Verification:"
      ],
      "text/plain": [
       "<IPython.core.display.Markdown object>"
      ]
     },
     "metadata": {},
     "output_type": "display_data"
    },
    {
     "name": "stdout",
     "output_type": "stream",
     "text": [
      "\n",
      "1. Price Metric:\n",
      "   - Formula: Last Price / First Price = 1.0118\n",
      "\n",
      "2. Sharpe Metric:\n",
      "   - Mean Daily Return: 0.000192\n",
      "   - Std Dev Daily Return: 0.000203\n",
      "   - Annualized Sharpe = 15.0495\n",
      "\n",
      "3. Sharpe (ATR) Metric:\n",
      "   - Mean Daily Return: 0.000192 (same as above)\n",
      "   - Average ATR Percent (ATRP): 0.000291\n",
      "   - Sharpe (ATR) = 0.6598\n"
     ]
    },
    {
     "data": {
      "text/markdown": [
       "\n",
       "### B. Forward Period Analysis (`FwdGain`)"
      ],
      "text/plain": [
       "<IPython.core.display.Markdown object>"
      ]
     },
     "metadata": {},
     "output_type": "display_data"
    },
    {
     "name": "stdout",
     "output_type": "stream",
     "text": [
      "  - Fwd Start Price (Calc End Price): $82.39\n",
      "  - Fwd End Price: $82.46\n",
      "  - FwdGain = 0.08%\n"
     ]
    },
    {
     "data": {
      "text/markdown": [
       "\n",
       "### C. Final Summary Tables"
      ],
      "text/plain": [
       "<IPython.core.display.Markdown object>"
      ]
     },
     "metadata": {},
     "output_type": "display_data"
    },
    {
     "data": {
      "text/markdown": [
       "#### Ranking Metric Values"
      ],
      "text/plain": [
       "<IPython.core.display.Markdown object>"
      ]
     },
     "metadata": {},
     "output_type": "display_data"
    },
    {
     "data": {
      "text/html": [
       "<style type=\"text/css\">\n",
       "</style>\n",
       "<table id=\"T_1835e\">\n",
       "  <thead>\n",
       "    <tr>\n",
       "      <th id=\"T_1835e_level0_col0\" class=\"col_heading level0 col0\" >Metric</th>\n",
       "      <th id=\"T_1835e_level0_col1\" class=\"col_heading level0 col1\" >Calculated Value</th>\n",
       "      <th id=\"T_1835e_level0_col2\" class=\"col_heading level0 col2\" >Corresponds To</th>\n",
       "    </tr>\n",
       "  </thead>\n",
       "  <tbody>\n",
       "    <tr>\n",
       "      <td id=\"T_1835e_row0_col0\" class=\"data row0 col0\" >Price</td>\n",
       "      <td id=\"T_1835e_row0_col1\" class=\"data row0 col1\" >1.0118</td>\n",
       "      <td id=\"T_1835e_row0_col2\" class=\"data row0 col2\" >`MetricValue`</td>\n",
       "    </tr>\n",
       "    <tr>\n",
       "      <td id=\"T_1835e_row1_col0\" class=\"data row1 col0\" >Sharpe</td>\n",
       "      <td id=\"T_1835e_row1_col1\" class=\"data row1 col1\" >15.0495</td>\n",
       "      <td id=\"T_1835e_row1_col2\" class=\"data row1 col2\" >`MetricValue`</td>\n",
       "    </tr>\n",
       "    <tr>\n",
       "      <td id=\"T_1835e_row2_col0\" class=\"data row2 col0\" >Sharpe (ATR)</td>\n",
       "      <td id=\"T_1835e_row2_col1\" class=\"data row2 col1\" >0.6598</td>\n",
       "      <td id=\"T_1835e_row2_col2\" class=\"data row2 col2\" >`MetricValue`</td>\n",
       "    </tr>\n",
       "  </tbody>\n",
       "</table>\n"
      ],
      "text/plain": [
       "<pandas.io.formats.style.Styler at 0x2c0bba77210>"
      ]
     },
     "metadata": {},
     "output_type": "display_data"
    },
    {
     "data": {
      "text/markdown": [
       "#### Gain Values"
      ],
      "text/plain": [
       "<IPython.core.display.Markdown object>"
      ]
     },
     "metadata": {},
     "output_type": "display_data"
    },
    {
     "data": {
      "text/html": [
       "<style type=\"text/css\">\n",
       "</style>\n",
       "<table id=\"T_5c715\">\n",
       "  <thead>\n",
       "    <tr>\n",
       "      <th id=\"T_5c715_level0_col0\" class=\"col_heading level0 col0\" >Gain Metric</th>\n",
       "      <th id=\"T_5c715_level0_col1\" class=\"col_heading level0 col1\" >Gain Value</th>\n",
       "      <th id=\"T_5c715_level0_col2\" class=\"col_heading level0 col2\" >Corresponds To</th>\n",
       "    </tr>\n",
       "  </thead>\n",
       "  <tbody>\n",
       "    <tr>\n",
       "      <td id=\"T_5c715_row0_col0\" class=\"data row0 col0\" >Calc Period Gain</td>\n",
       "      <td id=\"T_5c715_row0_col1\" class=\"data row0 col1\" >1.18%</td>\n",
       "      <td id=\"T_5c715_row0_col2\" class=\"data row0 col2\" >`CalcGain`</td>\n",
       "    </tr>\n",
       "    <tr>\n",
       "      <td id=\"T_5c715_row1_col0\" class=\"data row1 col0\" >Forward Period Gain</td>\n",
       "      <td id=\"T_5c715_row1_col1\" class=\"data row1 col1\" >0.08%</td>\n",
       "      <td id=\"T_5c715_row1_col2\" class=\"data row1 col2\" >`FwdGain`</td>\n",
       "    </tr>\n",
       "  </tbody>\n",
       "</table>\n"
      ],
      "text/plain": [
       "<pandas.io.formats.style.Styler at 0x2c0bba77210>"
      ]
     },
     "metadata": {},
     "output_type": "display_data"
    },
    {
     "name": "stdout",
     "output_type": "stream",
     "text": [
      "\n",
      "✅ Detailed ticker data exported to 'export_csv\\verification_ticker_BIL_20230401.csv'\n",
      "\n",
      "================================================================================\n",
      "--- Verifying Ticker: GBIL ---\n",
      "================================================================================\n"
     ]
    },
    {
     "data": {
      "text/markdown": [
       "## Verification Report for Ticker Ranking: `GBIL`"
      ],
      "text/plain": [
       "<IPython.core.display.Markdown object>"
      ]
     },
     "metadata": {},
     "output_type": "display_data"
    },
    {
     "data": {
      "text/markdown": [
       "**Analysis Start Date:** `2023-04-01`"
      ],
      "text/plain": [
       "<IPython.core.display.Markdown object>"
      ]
     },
     "metadata": {},
     "output_type": "display_data"
    },
    {
     "data": {
      "text/markdown": [
       "**Requested Calculation Period:** `2023-04-01` to `2023-07-01`"
      ],
      "text/plain": [
       "<IPython.core.display.Markdown object>"
      ]
     },
     "metadata": {},
     "output_type": "display_data"
    },
    {
     "data": {
      "text/markdown": [
       "**Requested Forward Period:**   `2023-07-01` to `2023-07-08`"
      ],
      "text/plain": [
       "<IPython.core.display.Markdown object>"
      ]
     },
     "metadata": {},
     "output_type": "display_data"
    },
    {
     "data": {
      "text/markdown": [
       "### A. Calculation Period Analysis (for Ranking Metrics)"
      ],
      "text/plain": [
       "<IPython.core.display.Markdown object>"
      ]
     },
     "metadata": {},
     "output_type": "display_data"
    },
    {
     "data": {
      "text/markdown": [
       "**Actual Dates Used:** `2023-04-03` to `2023-06-30`"
      ],
      "text/plain": [
       "<IPython.core.display.Markdown object>"
      ]
     },
     "metadata": {},
     "output_type": "display_data"
    },
    {
     "data": {
      "text/markdown": [
       "#### `CalcGain` Verification:"
      ],
      "text/plain": [
       "<IPython.core.display.Markdown object>"
      ]
     },
     "metadata": {},
     "output_type": "display_data"
    },
    {
     "name": "stdout",
     "output_type": "stream",
     "text": [
      "  - Calc Start Price: $89.05\n",
      "  - Calc End Price:   $89.97  <-- 'CalcPrice'\n",
      "  - CalcGain = 1.04%\n"
     ]
    },
    {
     "data": {
      "text/markdown": [
       "#### `MetricValue` Verification:"
      ],
      "text/plain": [
       "<IPython.core.display.Markdown object>"
      ]
     },
     "metadata": {},
     "output_type": "display_data"
    },
    {
     "name": "stdout",
     "output_type": "stream",
     "text": [
      "\n",
      "1. Price Metric:\n",
      "   - Formula: Last Price / First Price = 1.0104\n",
      "\n",
      "2. Sharpe Metric:\n",
      "   - Mean Daily Return: 0.000170\n",
      "   - Std Dev Daily Return: 0.000236\n",
      "   - Annualized Sharpe = 11.4454\n",
      "\n",
      "3. Sharpe (ATR) Metric:\n",
      "   - Mean Daily Return: 0.000170 (same as above)\n",
      "   - Average ATR Percent (ATRP): 0.000368\n",
      "   - Sharpe (ATR) = 0.4619\n"
     ]
    },
    {
     "data": {
      "text/markdown": [
       "\n",
       "### B. Forward Period Analysis (`FwdGain`)"
      ],
      "text/plain": [
       "<IPython.core.display.Markdown object>"
      ]
     },
     "metadata": {},
     "output_type": "display_data"
    },
    {
     "name": "stdout",
     "output_type": "stream",
     "text": [
      "  - Fwd Start Price (Calc End Price): $89.97\n",
      "  - Fwd End Price: $90.05\n",
      "  - FwdGain = 0.08%\n"
     ]
    },
    {
     "data": {
      "text/markdown": [
       "\n",
       "### C. Final Summary Tables"
      ],
      "text/plain": [
       "<IPython.core.display.Markdown object>"
      ]
     },
     "metadata": {},
     "output_type": "display_data"
    },
    {
     "data": {
      "text/markdown": [
       "#### Ranking Metric Values"
      ],
      "text/plain": [
       "<IPython.core.display.Markdown object>"
      ]
     },
     "metadata": {},
     "output_type": "display_data"
    },
    {
     "data": {
      "text/html": [
       "<style type=\"text/css\">\n",
       "</style>\n",
       "<table id=\"T_c2e7d\">\n",
       "  <thead>\n",
       "    <tr>\n",
       "      <th id=\"T_c2e7d_level0_col0\" class=\"col_heading level0 col0\" >Metric</th>\n",
       "      <th id=\"T_c2e7d_level0_col1\" class=\"col_heading level0 col1\" >Calculated Value</th>\n",
       "      <th id=\"T_c2e7d_level0_col2\" class=\"col_heading level0 col2\" >Corresponds To</th>\n",
       "    </tr>\n",
       "  </thead>\n",
       "  <tbody>\n",
       "    <tr>\n",
       "      <td id=\"T_c2e7d_row0_col0\" class=\"data row0 col0\" >Price</td>\n",
       "      <td id=\"T_c2e7d_row0_col1\" class=\"data row0 col1\" >1.0104</td>\n",
       "      <td id=\"T_c2e7d_row0_col2\" class=\"data row0 col2\" >`MetricValue`</td>\n",
       "    </tr>\n",
       "    <tr>\n",
       "      <td id=\"T_c2e7d_row1_col0\" class=\"data row1 col0\" >Sharpe</td>\n",
       "      <td id=\"T_c2e7d_row1_col1\" class=\"data row1 col1\" >11.4454</td>\n",
       "      <td id=\"T_c2e7d_row1_col2\" class=\"data row1 col2\" >`MetricValue`</td>\n",
       "    </tr>\n",
       "    <tr>\n",
       "      <td id=\"T_c2e7d_row2_col0\" class=\"data row2 col0\" >Sharpe (ATR)</td>\n",
       "      <td id=\"T_c2e7d_row2_col1\" class=\"data row2 col1\" >0.4619</td>\n",
       "      <td id=\"T_c2e7d_row2_col2\" class=\"data row2 col2\" >`MetricValue`</td>\n",
       "    </tr>\n",
       "  </tbody>\n",
       "</table>\n"
      ],
      "text/plain": [
       "<pandas.io.formats.style.Styler at 0x2c0ba46ba10>"
      ]
     },
     "metadata": {},
     "output_type": "display_data"
    },
    {
     "data": {
      "text/markdown": [
       "#### Gain Values"
      ],
      "text/plain": [
       "<IPython.core.display.Markdown object>"
      ]
     },
     "metadata": {},
     "output_type": "display_data"
    },
    {
     "data": {
      "text/html": [
       "<style type=\"text/css\">\n",
       "</style>\n",
       "<table id=\"T_88067\">\n",
       "  <thead>\n",
       "    <tr>\n",
       "      <th id=\"T_88067_level0_col0\" class=\"col_heading level0 col0\" >Gain Metric</th>\n",
       "      <th id=\"T_88067_level0_col1\" class=\"col_heading level0 col1\" >Gain Value</th>\n",
       "      <th id=\"T_88067_level0_col2\" class=\"col_heading level0 col2\" >Corresponds To</th>\n",
       "    </tr>\n",
       "  </thead>\n",
       "  <tbody>\n",
       "    <tr>\n",
       "      <td id=\"T_88067_row0_col0\" class=\"data row0 col0\" >Calc Period Gain</td>\n",
       "      <td id=\"T_88067_row0_col1\" class=\"data row0 col1\" >1.04%</td>\n",
       "      <td id=\"T_88067_row0_col2\" class=\"data row0 col2\" >`CalcGain`</td>\n",
       "    </tr>\n",
       "    <tr>\n",
       "      <td id=\"T_88067_row1_col0\" class=\"data row1 col0\" >Forward Period Gain</td>\n",
       "      <td id=\"T_88067_row1_col1\" class=\"data row1 col1\" >0.08%</td>\n",
       "      <td id=\"T_88067_row1_col2\" class=\"data row1 col2\" >`FwdGain`</td>\n",
       "    </tr>\n",
       "  </tbody>\n",
       "</table>\n"
      ],
      "text/plain": [
       "<pandas.io.formats.style.Styler at 0x2c0ba4e3f10>"
      ]
     },
     "metadata": {},
     "output_type": "display_data"
    },
    {
     "name": "stdout",
     "output_type": "stream",
     "text": [
      "\n",
      "✅ Detailed ticker data exported to 'export_csv\\verification_ticker_GBIL_20230401.csv'\n",
      "\n",
      "================================================================================\n",
      "--- Verifying Ticker: TFLO ---\n",
      "================================================================================\n"
     ]
    },
    {
     "data": {
      "text/markdown": [
       "## Verification Report for Ticker Ranking: `TFLO`"
      ],
      "text/plain": [
       "<IPython.core.display.Markdown object>"
      ]
     },
     "metadata": {},
     "output_type": "display_data"
    },
    {
     "data": {
      "text/markdown": [
       "**Analysis Start Date:** `2023-04-01`"
      ],
      "text/plain": [
       "<IPython.core.display.Markdown object>"
      ]
     },
     "metadata": {},
     "output_type": "display_data"
    },
    {
     "data": {
      "text/markdown": [
       "**Requested Calculation Period:** `2023-04-01` to `2023-07-01`"
      ],
      "text/plain": [
       "<IPython.core.display.Markdown object>"
      ]
     },
     "metadata": {},
     "output_type": "display_data"
    },
    {
     "data": {
      "text/markdown": [
       "**Requested Forward Period:**   `2023-07-01` to `2023-07-08`"
      ],
      "text/plain": [
       "<IPython.core.display.Markdown object>"
      ]
     },
     "metadata": {},
     "output_type": "display_data"
    },
    {
     "data": {
      "text/markdown": [
       "### A. Calculation Period Analysis (for Ranking Metrics)"
      ],
      "text/plain": [
       "<IPython.core.display.Markdown object>"
      ]
     },
     "metadata": {},
     "output_type": "display_data"
    },
    {
     "data": {
      "text/markdown": [
       "**Actual Dates Used:** `2023-04-03` to `2023-06-30`"
      ],
      "text/plain": [
       "<IPython.core.display.Markdown object>"
      ]
     },
     "metadata": {},
     "output_type": "display_data"
    },
    {
     "data": {
      "text/markdown": [
       "#### `CalcGain` Verification:"
      ],
      "text/plain": [
       "<IPython.core.display.Markdown object>"
      ]
     },
     "metadata": {},
     "output_type": "display_data"
    },
    {
     "name": "stdout",
     "output_type": "stream",
     "text": [
      "  - Calc Start Price: $44.78\n",
      "  - Calc End Price:   $45.38  <-- 'CalcPrice'\n",
      "  - CalcGain = 1.33%\n"
     ]
    },
    {
     "data": {
      "text/markdown": [
       "#### `MetricValue` Verification:"
      ],
      "text/plain": [
       "<IPython.core.display.Markdown object>"
      ]
     },
     "metadata": {},
     "output_type": "display_data"
    },
    {
     "name": "stdout",
     "output_type": "stream",
     "text": [
      "\n",
      "1. Price Metric:\n",
      "   - Formula: Last Price / First Price = 1.0133\n",
      "\n",
      "2. Sharpe Metric:\n",
      "   - Mean Daily Return: 0.000217\n",
      "   - Std Dev Daily Return: 0.000221\n",
      "   - Annualized Sharpe = 15.5844\n",
      "\n",
      "3. Sharpe (ATR) Metric:\n",
      "   - Mean Daily Return: 0.000217 (same as above)\n",
      "   - Average ATR Percent (ATRP): 0.000349\n",
      "   - Sharpe (ATR) = 0.6228\n"
     ]
    },
    {
     "data": {
      "text/markdown": [
       "\n",
       "### B. Forward Period Analysis (`FwdGain`)"
      ],
      "text/plain": [
       "<IPython.core.display.Markdown object>"
      ]
     },
     "metadata": {},
     "output_type": "display_data"
    },
    {
     "name": "stdout",
     "output_type": "stream",
     "text": [
      "  - Fwd Start Price (Calc End Price): $45.38\n",
      "  - Fwd End Price: $45.42\n",
      "  - FwdGain = 0.09%\n"
     ]
    },
    {
     "data": {
      "text/markdown": [
       "\n",
       "### C. Final Summary Tables"
      ],
      "text/plain": [
       "<IPython.core.display.Markdown object>"
      ]
     },
     "metadata": {},
     "output_type": "display_data"
    },
    {
     "data": {
      "text/markdown": [
       "#### Ranking Metric Values"
      ],
      "text/plain": [
       "<IPython.core.display.Markdown object>"
      ]
     },
     "metadata": {},
     "output_type": "display_data"
    },
    {
     "data": {
      "text/html": [
       "<style type=\"text/css\">\n",
       "</style>\n",
       "<table id=\"T_a6134\">\n",
       "  <thead>\n",
       "    <tr>\n",
       "      <th id=\"T_a6134_level0_col0\" class=\"col_heading level0 col0\" >Metric</th>\n",
       "      <th id=\"T_a6134_level0_col1\" class=\"col_heading level0 col1\" >Calculated Value</th>\n",
       "      <th id=\"T_a6134_level0_col2\" class=\"col_heading level0 col2\" >Corresponds To</th>\n",
       "    </tr>\n",
       "  </thead>\n",
       "  <tbody>\n",
       "    <tr>\n",
       "      <td id=\"T_a6134_row0_col0\" class=\"data row0 col0\" >Price</td>\n",
       "      <td id=\"T_a6134_row0_col1\" class=\"data row0 col1\" >1.0133</td>\n",
       "      <td id=\"T_a6134_row0_col2\" class=\"data row0 col2\" >`MetricValue`</td>\n",
       "    </tr>\n",
       "    <tr>\n",
       "      <td id=\"T_a6134_row1_col0\" class=\"data row1 col0\" >Sharpe</td>\n",
       "      <td id=\"T_a6134_row1_col1\" class=\"data row1 col1\" >15.5844</td>\n",
       "      <td id=\"T_a6134_row1_col2\" class=\"data row1 col2\" >`MetricValue`</td>\n",
       "    </tr>\n",
       "    <tr>\n",
       "      <td id=\"T_a6134_row2_col0\" class=\"data row2 col0\" >Sharpe (ATR)</td>\n",
       "      <td id=\"T_a6134_row2_col1\" class=\"data row2 col1\" >0.6228</td>\n",
       "      <td id=\"T_a6134_row2_col2\" class=\"data row2 col2\" >`MetricValue`</td>\n",
       "    </tr>\n",
       "  </tbody>\n",
       "</table>\n"
      ],
      "text/plain": [
       "<pandas.io.formats.style.Styler at 0x2c0ba436350>"
      ]
     },
     "metadata": {},
     "output_type": "display_data"
    },
    {
     "data": {
      "text/markdown": [
       "#### Gain Values"
      ],
      "text/plain": [
       "<IPython.core.display.Markdown object>"
      ]
     },
     "metadata": {},
     "output_type": "display_data"
    },
    {
     "data": {
      "text/html": [
       "<style type=\"text/css\">\n",
       "</style>\n",
       "<table id=\"T_5bec0\">\n",
       "  <thead>\n",
       "    <tr>\n",
       "      <th id=\"T_5bec0_level0_col0\" class=\"col_heading level0 col0\" >Gain Metric</th>\n",
       "      <th id=\"T_5bec0_level0_col1\" class=\"col_heading level0 col1\" >Gain Value</th>\n",
       "      <th id=\"T_5bec0_level0_col2\" class=\"col_heading level0 col2\" >Corresponds To</th>\n",
       "    </tr>\n",
       "  </thead>\n",
       "  <tbody>\n",
       "    <tr>\n",
       "      <td id=\"T_5bec0_row0_col0\" class=\"data row0 col0\" >Calc Period Gain</td>\n",
       "      <td id=\"T_5bec0_row0_col1\" class=\"data row0 col1\" >1.33%</td>\n",
       "      <td id=\"T_5bec0_row0_col2\" class=\"data row0 col2\" >`CalcGain`</td>\n",
       "    </tr>\n",
       "    <tr>\n",
       "      <td id=\"T_5bec0_row1_col0\" class=\"data row1 col0\" >Forward Period Gain</td>\n",
       "      <td id=\"T_5bec0_row1_col1\" class=\"data row1 col1\" >0.09%</td>\n",
       "      <td id=\"T_5bec0_row1_col2\" class=\"data row1 col2\" >`FwdGain`</td>\n",
       "    </tr>\n",
       "  </tbody>\n",
       "</table>\n"
      ],
      "text/plain": [
       "<pandas.io.formats.style.Styler at 0x2c0c41e9310>"
      ]
     },
     "metadata": {},
     "output_type": "display_data"
    },
    {
     "name": "stdout",
     "output_type": "stream",
     "text": [
      "\n",
      "✅ Detailed ticker data exported to 'export_csv\\verification_ticker_TFLO_20230401.csv'\n",
      "\n",
      "================================================================================\n",
      "--- Verifying Ticker: USFR ---\n",
      "================================================================================\n"
     ]
    },
    {
     "data": {
      "text/markdown": [
       "## Verification Report for Ticker Ranking: `USFR`"
      ],
      "text/plain": [
       "<IPython.core.display.Markdown object>"
      ]
     },
     "metadata": {},
     "output_type": "display_data"
    },
    {
     "data": {
      "text/markdown": [
       "**Analysis Start Date:** `2023-04-01`"
      ],
      "text/plain": [
       "<IPython.core.display.Markdown object>"
      ]
     },
     "metadata": {},
     "output_type": "display_data"
    },
    {
     "data": {
      "text/markdown": [
       "**Requested Calculation Period:** `2023-04-01` to `2023-07-01`"
      ],
      "text/plain": [
       "<IPython.core.display.Markdown object>"
      ]
     },
     "metadata": {},
     "output_type": "display_data"
    },
    {
     "data": {
      "text/markdown": [
       "**Requested Forward Period:**   `2023-07-01` to `2023-07-08`"
      ],
      "text/plain": [
       "<IPython.core.display.Markdown object>"
      ]
     },
     "metadata": {},
     "output_type": "display_data"
    },
    {
     "data": {
      "text/markdown": [
       "### A. Calculation Period Analysis (for Ranking Metrics)"
      ],
      "text/plain": [
       "<IPython.core.display.Markdown object>"
      ]
     },
     "metadata": {},
     "output_type": "display_data"
    },
    {
     "data": {
      "text/markdown": [
       "**Actual Dates Used:** `2023-04-03` to `2023-06-30`"
      ],
      "text/plain": [
       "<IPython.core.display.Markdown object>"
      ]
     },
     "metadata": {},
     "output_type": "display_data"
    },
    {
     "data": {
      "text/markdown": [
       "#### `CalcGain` Verification:"
      ],
      "text/plain": [
       "<IPython.core.display.Markdown object>"
      ]
     },
     "metadata": {},
     "output_type": "display_data"
    },
    {
     "name": "stdout",
     "output_type": "stream",
     "text": [
      "  - Calc Start Price: $44.66\n",
      "  - Calc End Price:   $45.26  <-- 'CalcPrice'\n",
      "  - CalcGain = 1.34%\n"
     ]
    },
    {
     "data": {
      "text/markdown": [
       "#### `MetricValue` Verification:"
      ],
      "text/plain": [
       "<IPython.core.display.Markdown object>"
      ]
     },
     "metadata": {},
     "output_type": "display_data"
    },
    {
     "name": "stdout",
     "output_type": "stream",
     "text": [
      "\n",
      "1. Price Metric:\n",
      "   - Formula: Last Price / First Price = 1.0134\n",
      "\n",
      "2. Sharpe Metric:\n",
      "   - Mean Daily Return: 0.000218\n",
      "   - Std Dev Daily Return: 0.000237\n",
      "   - Annualized Sharpe = 14.6382\n",
      "\n",
      "3. Sharpe (ATR) Metric:\n",
      "   - Mean Daily Return: 0.000218 (same as above)\n",
      "   - Average ATR Percent (ATRP): 0.000420\n",
      "   - Sharpe (ATR) = 0.5196\n"
     ]
    },
    {
     "data": {
      "text/markdown": [
       "\n",
       "### B. Forward Period Analysis (`FwdGain`)"
      ],
      "text/plain": [
       "<IPython.core.display.Markdown object>"
      ]
     },
     "metadata": {},
     "output_type": "display_data"
    },
    {
     "name": "stdout",
     "output_type": "stream",
     "text": [
      "  - Fwd Start Price (Calc End Price): $45.26\n",
      "  - Fwd End Price: $45.32\n",
      "  - FwdGain = 0.14%\n"
     ]
    },
    {
     "data": {
      "text/markdown": [
       "\n",
       "### C. Final Summary Tables"
      ],
      "text/plain": [
       "<IPython.core.display.Markdown object>"
      ]
     },
     "metadata": {},
     "output_type": "display_data"
    },
    {
     "data": {
      "text/markdown": [
       "#### Ranking Metric Values"
      ],
      "text/plain": [
       "<IPython.core.display.Markdown object>"
      ]
     },
     "metadata": {},
     "output_type": "display_data"
    },
    {
     "data": {
      "text/html": [
       "<style type=\"text/css\">\n",
       "</style>\n",
       "<table id=\"T_7e57a\">\n",
       "  <thead>\n",
       "    <tr>\n",
       "      <th id=\"T_7e57a_level0_col0\" class=\"col_heading level0 col0\" >Metric</th>\n",
       "      <th id=\"T_7e57a_level0_col1\" class=\"col_heading level0 col1\" >Calculated Value</th>\n",
       "      <th id=\"T_7e57a_level0_col2\" class=\"col_heading level0 col2\" >Corresponds To</th>\n",
       "    </tr>\n",
       "  </thead>\n",
       "  <tbody>\n",
       "    <tr>\n",
       "      <td id=\"T_7e57a_row0_col0\" class=\"data row0 col0\" >Price</td>\n",
       "      <td id=\"T_7e57a_row0_col1\" class=\"data row0 col1\" >1.0134</td>\n",
       "      <td id=\"T_7e57a_row0_col2\" class=\"data row0 col2\" >`MetricValue`</td>\n",
       "    </tr>\n",
       "    <tr>\n",
       "      <td id=\"T_7e57a_row1_col0\" class=\"data row1 col0\" >Sharpe</td>\n",
       "      <td id=\"T_7e57a_row1_col1\" class=\"data row1 col1\" >14.6382</td>\n",
       "      <td id=\"T_7e57a_row1_col2\" class=\"data row1 col2\" >`MetricValue`</td>\n",
       "    </tr>\n",
       "    <tr>\n",
       "      <td id=\"T_7e57a_row2_col0\" class=\"data row2 col0\" >Sharpe (ATR)</td>\n",
       "      <td id=\"T_7e57a_row2_col1\" class=\"data row2 col1\" >0.5196</td>\n",
       "      <td id=\"T_7e57a_row2_col2\" class=\"data row2 col2\" >`MetricValue`</td>\n",
       "    </tr>\n",
       "  </tbody>\n",
       "</table>\n"
      ],
      "text/plain": [
       "<pandas.io.formats.style.Styler at 0x2c0ba3a42d0>"
      ]
     },
     "metadata": {},
     "output_type": "display_data"
    },
    {
     "data": {
      "text/markdown": [
       "#### Gain Values"
      ],
      "text/plain": [
       "<IPython.core.display.Markdown object>"
      ]
     },
     "metadata": {},
     "output_type": "display_data"
    },
    {
     "data": {
      "text/html": [
       "<style type=\"text/css\">\n",
       "</style>\n",
       "<table id=\"T_ce0e6\">\n",
       "  <thead>\n",
       "    <tr>\n",
       "      <th id=\"T_ce0e6_level0_col0\" class=\"col_heading level0 col0\" >Gain Metric</th>\n",
       "      <th id=\"T_ce0e6_level0_col1\" class=\"col_heading level0 col1\" >Gain Value</th>\n",
       "      <th id=\"T_ce0e6_level0_col2\" class=\"col_heading level0 col2\" >Corresponds To</th>\n",
       "    </tr>\n",
       "  </thead>\n",
       "  <tbody>\n",
       "    <tr>\n",
       "      <td id=\"T_ce0e6_row0_col0\" class=\"data row0 col0\" >Calc Period Gain</td>\n",
       "      <td id=\"T_ce0e6_row0_col1\" class=\"data row0 col1\" >1.34%</td>\n",
       "      <td id=\"T_ce0e6_row0_col2\" class=\"data row0 col2\" >`CalcGain`</td>\n",
       "    </tr>\n",
       "    <tr>\n",
       "      <td id=\"T_ce0e6_row1_col0\" class=\"data row1 col0\" >Forward Period Gain</td>\n",
       "      <td id=\"T_ce0e6_row1_col1\" class=\"data row1 col1\" >0.14%</td>\n",
       "      <td id=\"T_ce0e6_row1_col2\" class=\"data row1 col2\" >`FwdGain`</td>\n",
       "    </tr>\n",
       "  </tbody>\n",
       "</table>\n"
      ],
      "text/plain": [
       "<pandas.io.formats.style.Styler at 0x2c0ba3f7b90>"
      ]
     },
     "metadata": {},
     "output_type": "display_data"
    },
    {
     "name": "stdout",
     "output_type": "stream",
     "text": [
      "\n",
      "✅ Detailed ticker data exported to 'export_csv\\verification_ticker_USFR_20230401.csv'\n",
      "\n",
      "================================================================================\n",
      "--- Verifying Ticker: BILS ---\n",
      "================================================================================\n"
     ]
    },
    {
     "data": {
      "text/markdown": [
       "## Verification Report for Ticker Ranking: `BILS`"
      ],
      "text/plain": [
       "<IPython.core.display.Markdown object>"
      ]
     },
     "metadata": {},
     "output_type": "display_data"
    },
    {
     "data": {
      "text/markdown": [
       "**Analysis Start Date:** `2023-04-01`"
      ],
      "text/plain": [
       "<IPython.core.display.Markdown object>"
      ]
     },
     "metadata": {},
     "output_type": "display_data"
    },
    {
     "data": {
      "text/markdown": [
       "**Requested Calculation Period:** `2023-04-01` to `2023-07-01`"
      ],
      "text/plain": [
       "<IPython.core.display.Markdown object>"
      ]
     },
     "metadata": {},
     "output_type": "display_data"
    },
    {
     "data": {
      "text/markdown": [
       "**Requested Forward Period:**   `2023-07-01` to `2023-07-08`"
      ],
      "text/plain": [
       "<IPython.core.display.Markdown object>"
      ]
     },
     "metadata": {},
     "output_type": "display_data"
    },
    {
     "data": {
      "text/markdown": [
       "### A. Calculation Period Analysis (for Ranking Metrics)"
      ],
      "text/plain": [
       "<IPython.core.display.Markdown object>"
      ]
     },
     "metadata": {},
     "output_type": "display_data"
    },
    {
     "data": {
      "text/markdown": [
       "**Actual Dates Used:** `2023-04-03` to `2023-06-30`"
      ],
      "text/plain": [
       "<IPython.core.display.Markdown object>"
      ]
     },
     "metadata": {},
     "output_type": "display_data"
    },
    {
     "data": {
      "text/markdown": [
       "#### `CalcGain` Verification:"
      ],
      "text/plain": [
       "<IPython.core.display.Markdown object>"
      ]
     },
     "metadata": {},
     "output_type": "display_data"
    },
    {
     "name": "stdout",
     "output_type": "stream",
     "text": [
      "  - Calc Start Price: $88.38\n",
      "  - Calc End Price:   $89.28  <-- 'CalcPrice'\n",
      "  - CalcGain = 1.01%\n"
     ]
    },
    {
     "data": {
      "text/markdown": [
       "#### `MetricValue` Verification:"
      ],
      "text/plain": [
       "<IPython.core.display.Markdown object>"
      ]
     },
     "metadata": {},
     "output_type": "display_data"
    },
    {
     "name": "stdout",
     "output_type": "stream",
     "text": [
      "\n",
      "1. Price Metric:\n",
      "   - Formula: Last Price / First Price = 1.0101\n",
      "\n",
      "2. Sharpe Metric:\n",
      "   - Mean Daily Return: 0.000165\n",
      "   - Std Dev Daily Return: 0.000213\n",
      "   - Annualized Sharpe = 12.3327\n",
      "\n",
      "3. Sharpe (ATR) Metric:\n",
      "   - Mean Daily Return: 0.000165 (same as above)\n",
      "   - Average ATR Percent (ATRP): 0.000376\n",
      "   - Sharpe (ATR) = 0.4404\n"
     ]
    },
    {
     "data": {
      "text/markdown": [
       "\n",
       "### B. Forward Period Analysis (`FwdGain`)"
      ],
      "text/plain": [
       "<IPython.core.display.Markdown object>"
      ]
     },
     "metadata": {},
     "output_type": "display_data"
    },
    {
     "name": "stdout",
     "output_type": "stream",
     "text": [
      "  - Fwd Start Price (Calc End Price): $89.28\n",
      "  - Fwd End Price: $89.33\n",
      "  - FwdGain = 0.07%\n"
     ]
    },
    {
     "data": {
      "text/markdown": [
       "\n",
       "### C. Final Summary Tables"
      ],
      "text/plain": [
       "<IPython.core.display.Markdown object>"
      ]
     },
     "metadata": {},
     "output_type": "display_data"
    },
    {
     "data": {
      "text/markdown": [
       "#### Ranking Metric Values"
      ],
      "text/plain": [
       "<IPython.core.display.Markdown object>"
      ]
     },
     "metadata": {},
     "output_type": "display_data"
    },
    {
     "data": {
      "text/html": [
       "<style type=\"text/css\">\n",
       "</style>\n",
       "<table id=\"T_e7ea6\">\n",
       "  <thead>\n",
       "    <tr>\n",
       "      <th id=\"T_e7ea6_level0_col0\" class=\"col_heading level0 col0\" >Metric</th>\n",
       "      <th id=\"T_e7ea6_level0_col1\" class=\"col_heading level0 col1\" >Calculated Value</th>\n",
       "      <th id=\"T_e7ea6_level0_col2\" class=\"col_heading level0 col2\" >Corresponds To</th>\n",
       "    </tr>\n",
       "  </thead>\n",
       "  <tbody>\n",
       "    <tr>\n",
       "      <td id=\"T_e7ea6_row0_col0\" class=\"data row0 col0\" >Price</td>\n",
       "      <td id=\"T_e7ea6_row0_col1\" class=\"data row0 col1\" >1.0101</td>\n",
       "      <td id=\"T_e7ea6_row0_col2\" class=\"data row0 col2\" >`MetricValue`</td>\n",
       "    </tr>\n",
       "    <tr>\n",
       "      <td id=\"T_e7ea6_row1_col0\" class=\"data row1 col0\" >Sharpe</td>\n",
       "      <td id=\"T_e7ea6_row1_col1\" class=\"data row1 col1\" >12.3327</td>\n",
       "      <td id=\"T_e7ea6_row1_col2\" class=\"data row1 col2\" >`MetricValue`</td>\n",
       "    </tr>\n",
       "    <tr>\n",
       "      <td id=\"T_e7ea6_row2_col0\" class=\"data row2 col0\" >Sharpe (ATR)</td>\n",
       "      <td id=\"T_e7ea6_row2_col1\" class=\"data row2 col1\" >0.4404</td>\n",
       "      <td id=\"T_e7ea6_row2_col2\" class=\"data row2 col2\" >`MetricValue`</td>\n",
       "    </tr>\n",
       "  </tbody>\n",
       "</table>\n"
      ],
      "text/plain": [
       "<pandas.io.formats.style.Styler at 0x2c0ba3a4510>"
      ]
     },
     "metadata": {},
     "output_type": "display_data"
    },
    {
     "data": {
      "text/markdown": [
       "#### Gain Values"
      ],
      "text/plain": [
       "<IPython.core.display.Markdown object>"
      ]
     },
     "metadata": {},
     "output_type": "display_data"
    },
    {
     "data": {
      "text/html": [
       "<style type=\"text/css\">\n",
       "</style>\n",
       "<table id=\"T_bc25b\">\n",
       "  <thead>\n",
       "    <tr>\n",
       "      <th id=\"T_bc25b_level0_col0\" class=\"col_heading level0 col0\" >Gain Metric</th>\n",
       "      <th id=\"T_bc25b_level0_col1\" class=\"col_heading level0 col1\" >Gain Value</th>\n",
       "      <th id=\"T_bc25b_level0_col2\" class=\"col_heading level0 col2\" >Corresponds To</th>\n",
       "    </tr>\n",
       "  </thead>\n",
       "  <tbody>\n",
       "    <tr>\n",
       "      <td id=\"T_bc25b_row0_col0\" class=\"data row0 col0\" >Calc Period Gain</td>\n",
       "      <td id=\"T_bc25b_row0_col1\" class=\"data row0 col1\" >1.01%</td>\n",
       "      <td id=\"T_bc25b_row0_col2\" class=\"data row0 col2\" >`CalcGain`</td>\n",
       "    </tr>\n",
       "    <tr>\n",
       "      <td id=\"T_bc25b_row1_col0\" class=\"data row1 col0\" >Forward Period Gain</td>\n",
       "      <td id=\"T_bc25b_row1_col1\" class=\"data row1 col1\" >0.07%</td>\n",
       "      <td id=\"T_bc25b_row1_col2\" class=\"data row1 col2\" >`FwdGain`</td>\n",
       "    </tr>\n",
       "  </tbody>\n",
       "</table>\n"
      ],
      "text/plain": [
       "<pandas.io.formats.style.Styler at 0x2c0b18fc810>"
      ]
     },
     "metadata": {},
     "output_type": "display_data"
    },
    {
     "name": "stdout",
     "output_type": "stream",
     "text": [
      "\n",
      "✅ Detailed ticker data exported to 'export_csv\\verification_ticker_BILS_20230401.csv'\n",
      "\n",
      "================================================================================\n",
      "--- Verifying Ticker: MINT ---\n",
      "================================================================================\n"
     ]
    },
    {
     "data": {
      "text/markdown": [
       "## Verification Report for Ticker Ranking: `MINT`"
      ],
      "text/plain": [
       "<IPython.core.display.Markdown object>"
      ]
     },
     "metadata": {},
     "output_type": "display_data"
    },
    {
     "data": {
      "text/markdown": [
       "**Analysis Start Date:** `2023-04-01`"
      ],
      "text/plain": [
       "<IPython.core.display.Markdown object>"
      ]
     },
     "metadata": {},
     "output_type": "display_data"
    },
    {
     "data": {
      "text/markdown": [
       "**Requested Calculation Period:** `2023-04-01` to `2023-07-01`"
      ],
      "text/plain": [
       "<IPython.core.display.Markdown object>"
      ]
     },
     "metadata": {},
     "output_type": "display_data"
    },
    {
     "data": {
      "text/markdown": [
       "**Requested Forward Period:**   `2023-07-01` to `2023-07-08`"
      ],
      "text/plain": [
       "<IPython.core.display.Markdown object>"
      ]
     },
     "metadata": {},
     "output_type": "display_data"
    },
    {
     "data": {
      "text/markdown": [
       "### A. Calculation Period Analysis (for Ranking Metrics)"
      ],
      "text/plain": [
       "<IPython.core.display.Markdown object>"
      ]
     },
     "metadata": {},
     "output_type": "display_data"
    },
    {
     "data": {
      "text/markdown": [
       "**Actual Dates Used:** `2023-04-03` to `2023-06-30`"
      ],
      "text/plain": [
       "<IPython.core.display.Markdown object>"
      ]
     },
     "metadata": {},
     "output_type": "display_data"
    },
    {
     "data": {
      "text/markdown": [
       "#### `CalcGain` Verification:"
      ],
      "text/plain": [
       "<IPython.core.display.Markdown object>"
      ]
     },
     "metadata": {},
     "output_type": "display_data"
    },
    {
     "name": "stdout",
     "output_type": "stream",
     "text": [
      "  - Calc Start Price: $87.54\n",
      "  - Calc End Price:   $88.97  <-- 'CalcPrice'\n",
      "  - CalcGain = 1.63%\n"
     ]
    },
    {
     "data": {
      "text/markdown": [
       "#### `MetricValue` Verification:"
      ],
      "text/plain": [
       "<IPython.core.display.Markdown object>"
      ]
     },
     "metadata": {},
     "output_type": "display_data"
    },
    {
     "name": "stdout",
     "output_type": "stream",
     "text": [
      "\n",
      "1. Price Metric:\n",
      "   - Formula: Last Price / First Price = 1.0163\n",
      "\n",
      "2. Sharpe Metric:\n",
      "   - Mean Daily Return: 0.000266\n",
      "   - Std Dev Daily Return: 0.000288\n",
      "   - Annualized Sharpe = 14.6503\n",
      "\n",
      "3. Sharpe (ATR) Metric:\n",
      "   - Mean Daily Return: 0.000266 (same as above)\n",
      "   - Average ATR Percent (ATRP): 0.000565\n",
      "   - Sharpe (ATR) = 0.4706\n"
     ]
    },
    {
     "data": {
      "text/markdown": [
       "\n",
       "### B. Forward Period Analysis (`FwdGain`)"
      ],
      "text/plain": [
       "<IPython.core.display.Markdown object>"
      ]
     },
     "metadata": {},
     "output_type": "display_data"
    },
    {
     "name": "stdout",
     "output_type": "stream",
     "text": [
      "  - Fwd Start Price (Calc End Price): $88.97\n",
      "  - Fwd End Price: $89.09\n",
      "  - FwdGain = 0.14%\n"
     ]
    },
    {
     "data": {
      "text/markdown": [
       "\n",
       "### C. Final Summary Tables"
      ],
      "text/plain": [
       "<IPython.core.display.Markdown object>"
      ]
     },
     "metadata": {},
     "output_type": "display_data"
    },
    {
     "data": {
      "text/markdown": [
       "#### Ranking Metric Values"
      ],
      "text/plain": [
       "<IPython.core.display.Markdown object>"
      ]
     },
     "metadata": {},
     "output_type": "display_data"
    },
    {
     "data": {
      "text/html": [
       "<style type=\"text/css\">\n",
       "</style>\n",
       "<table id=\"T_c8241\">\n",
       "  <thead>\n",
       "    <tr>\n",
       "      <th id=\"T_c8241_level0_col0\" class=\"col_heading level0 col0\" >Metric</th>\n",
       "      <th id=\"T_c8241_level0_col1\" class=\"col_heading level0 col1\" >Calculated Value</th>\n",
       "      <th id=\"T_c8241_level0_col2\" class=\"col_heading level0 col2\" >Corresponds To</th>\n",
       "    </tr>\n",
       "  </thead>\n",
       "  <tbody>\n",
       "    <tr>\n",
       "      <td id=\"T_c8241_row0_col0\" class=\"data row0 col0\" >Price</td>\n",
       "      <td id=\"T_c8241_row0_col1\" class=\"data row0 col1\" >1.0163</td>\n",
       "      <td id=\"T_c8241_row0_col2\" class=\"data row0 col2\" >`MetricValue`</td>\n",
       "    </tr>\n",
       "    <tr>\n",
       "      <td id=\"T_c8241_row1_col0\" class=\"data row1 col0\" >Sharpe</td>\n",
       "      <td id=\"T_c8241_row1_col1\" class=\"data row1 col1\" >14.6503</td>\n",
       "      <td id=\"T_c8241_row1_col2\" class=\"data row1 col2\" >`MetricValue`</td>\n",
       "    </tr>\n",
       "    <tr>\n",
       "      <td id=\"T_c8241_row2_col0\" class=\"data row2 col0\" >Sharpe (ATR)</td>\n",
       "      <td id=\"T_c8241_row2_col1\" class=\"data row2 col1\" >0.4706</td>\n",
       "      <td id=\"T_c8241_row2_col2\" class=\"data row2 col2\" >`MetricValue`</td>\n",
       "    </tr>\n",
       "  </tbody>\n",
       "</table>\n"
      ],
      "text/plain": [
       "<pandas.io.formats.style.Styler at 0x2c0ba354ad0>"
      ]
     },
     "metadata": {},
     "output_type": "display_data"
    },
    {
     "data": {
      "text/markdown": [
       "#### Gain Values"
      ],
      "text/plain": [
       "<IPython.core.display.Markdown object>"
      ]
     },
     "metadata": {},
     "output_type": "display_data"
    },
    {
     "data": {
      "text/html": [
       "<style type=\"text/css\">\n",
       "</style>\n",
       "<table id=\"T_57c91\">\n",
       "  <thead>\n",
       "    <tr>\n",
       "      <th id=\"T_57c91_level0_col0\" class=\"col_heading level0 col0\" >Gain Metric</th>\n",
       "      <th id=\"T_57c91_level0_col1\" class=\"col_heading level0 col1\" >Gain Value</th>\n",
       "      <th id=\"T_57c91_level0_col2\" class=\"col_heading level0 col2\" >Corresponds To</th>\n",
       "    </tr>\n",
       "  </thead>\n",
       "  <tbody>\n",
       "    <tr>\n",
       "      <td id=\"T_57c91_row0_col0\" class=\"data row0 col0\" >Calc Period Gain</td>\n",
       "      <td id=\"T_57c91_row0_col1\" class=\"data row0 col1\" >1.63%</td>\n",
       "      <td id=\"T_57c91_row0_col2\" class=\"data row0 col2\" >`CalcGain`</td>\n",
       "    </tr>\n",
       "    <tr>\n",
       "      <td id=\"T_57c91_row1_col0\" class=\"data row1 col0\" >Forward Period Gain</td>\n",
       "      <td id=\"T_57c91_row1_col1\" class=\"data row1 col1\" >0.14%</td>\n",
       "      <td id=\"T_57c91_row1_col2\" class=\"data row1 col2\" >`FwdGain`</td>\n",
       "    </tr>\n",
       "  </tbody>\n",
       "</table>\n"
      ],
      "text/plain": [
       "<pandas.io.formats.style.Styler at 0x2c0ba354ad0>"
      ]
     },
     "metadata": {},
     "output_type": "display_data"
    },
    {
     "name": "stdout",
     "output_type": "stream",
     "text": [
      "\n",
      "✅ Detailed ticker data exported to 'export_csv\\verification_ticker_MINT_20230401.csv'\n",
      "\n",
      "================================================================================\n",
      "--- Verifying Ticker: TBIL ---\n",
      "================================================================================\n"
     ]
    },
    {
     "data": {
      "text/markdown": [
       "## Verification Report for Ticker Ranking: `TBIL`"
      ],
      "text/plain": [
       "<IPython.core.display.Markdown object>"
      ]
     },
     "metadata": {},
     "output_type": "display_data"
    },
    {
     "data": {
      "text/markdown": [
       "**Analysis Start Date:** `2023-04-01`"
      ],
      "text/plain": [
       "<IPython.core.display.Markdown object>"
      ]
     },
     "metadata": {},
     "output_type": "display_data"
    },
    {
     "data": {
      "text/markdown": [
       "**Requested Calculation Period:** `2023-04-01` to `2023-07-01`"
      ],
      "text/plain": [
       "<IPython.core.display.Markdown object>"
      ]
     },
     "metadata": {},
     "output_type": "display_data"
    },
    {
     "data": {
      "text/markdown": [
       "**Requested Forward Period:**   `2023-07-01` to `2023-07-08`"
      ],
      "text/plain": [
       "<IPython.core.display.Markdown object>"
      ]
     },
     "metadata": {},
     "output_type": "display_data"
    },
    {
     "data": {
      "text/markdown": [
       "### A. Calculation Period Analysis (for Ranking Metrics)"
      ],
      "text/plain": [
       "<IPython.core.display.Markdown object>"
      ]
     },
     "metadata": {},
     "output_type": "display_data"
    },
    {
     "data": {
      "text/markdown": [
       "**Actual Dates Used:** `2023-04-03` to `2023-06-30`"
      ],
      "text/plain": [
       "<IPython.core.display.Markdown object>"
      ]
     },
     "metadata": {},
     "output_type": "display_data"
    },
    {
     "data": {
      "text/markdown": [
       "#### `CalcGain` Verification:"
      ],
      "text/plain": [
       "<IPython.core.display.Markdown object>"
      ]
     },
     "metadata": {},
     "output_type": "display_data"
    },
    {
     "name": "stdout",
     "output_type": "stream",
     "text": [
      "  - Calc Start Price: $44.39\n",
      "  - Calc End Price:   $44.93  <-- 'CalcPrice'\n",
      "  - CalcGain = 1.20%\n"
     ]
    },
    {
     "data": {
      "text/markdown": [
       "#### `MetricValue` Verification:"
      ],
      "text/plain": [
       "<IPython.core.display.Markdown object>"
      ]
     },
     "metadata": {},
     "output_type": "display_data"
    },
    {
     "name": "stdout",
     "output_type": "stream",
     "text": [
      "\n",
      "1. Price Metric:\n",
      "   - Formula: Last Price / First Price = 1.0120\n",
      "\n",
      "2. Sharpe Metric:\n",
      "   - Mean Daily Return: 0.000196\n",
      "   - Std Dev Daily Return: 0.000220\n",
      "   - Annualized Sharpe = 14.1073\n",
      "\n",
      "3. Sharpe (ATR) Metric:\n",
      "   - Mean Daily Return: 0.000196 (same as above)\n",
      "   - Average ATR Percent (ATRP): 0.000390\n",
      "   - Sharpe (ATR) = 0.5021\n"
     ]
    },
    {
     "data": {
      "text/markdown": [
       "\n",
       "### B. Forward Period Analysis (`FwdGain`)"
      ],
      "text/plain": [
       "<IPython.core.display.Markdown object>"
      ]
     },
     "metadata": {},
     "output_type": "display_data"
    },
    {
     "name": "stdout",
     "output_type": "stream",
     "text": [
      "  - Fwd Start Price (Calc End Price): $44.93\n",
      "  - Fwd End Price: $44.97\n",
      "  - FwdGain = 0.09%\n"
     ]
    },
    {
     "data": {
      "text/markdown": [
       "\n",
       "### C. Final Summary Tables"
      ],
      "text/plain": [
       "<IPython.core.display.Markdown object>"
      ]
     },
     "metadata": {},
     "output_type": "display_data"
    },
    {
     "data": {
      "text/markdown": [
       "#### Ranking Metric Values"
      ],
      "text/plain": [
       "<IPython.core.display.Markdown object>"
      ]
     },
     "metadata": {},
     "output_type": "display_data"
    },
    {
     "data": {
      "text/html": [
       "<style type=\"text/css\">\n",
       "</style>\n",
       "<table id=\"T_4b061\">\n",
       "  <thead>\n",
       "    <tr>\n",
       "      <th id=\"T_4b061_level0_col0\" class=\"col_heading level0 col0\" >Metric</th>\n",
       "      <th id=\"T_4b061_level0_col1\" class=\"col_heading level0 col1\" >Calculated Value</th>\n",
       "      <th id=\"T_4b061_level0_col2\" class=\"col_heading level0 col2\" >Corresponds To</th>\n",
       "    </tr>\n",
       "  </thead>\n",
       "  <tbody>\n",
       "    <tr>\n",
       "      <td id=\"T_4b061_row0_col0\" class=\"data row0 col0\" >Price</td>\n",
       "      <td id=\"T_4b061_row0_col1\" class=\"data row0 col1\" >1.0120</td>\n",
       "      <td id=\"T_4b061_row0_col2\" class=\"data row0 col2\" >`MetricValue`</td>\n",
       "    </tr>\n",
       "    <tr>\n",
       "      <td id=\"T_4b061_row1_col0\" class=\"data row1 col0\" >Sharpe</td>\n",
       "      <td id=\"T_4b061_row1_col1\" class=\"data row1 col1\" >14.1073</td>\n",
       "      <td id=\"T_4b061_row1_col2\" class=\"data row1 col2\" >`MetricValue`</td>\n",
       "    </tr>\n",
       "    <tr>\n",
       "      <td id=\"T_4b061_row2_col0\" class=\"data row2 col0\" >Sharpe (ATR)</td>\n",
       "      <td id=\"T_4b061_row2_col1\" class=\"data row2 col1\" >0.5021</td>\n",
       "      <td id=\"T_4b061_row2_col2\" class=\"data row2 col2\" >`MetricValue`</td>\n",
       "    </tr>\n",
       "  </tbody>\n",
       "</table>\n"
      ],
      "text/plain": [
       "<pandas.io.formats.style.Styler at 0x2c0ba2ca610>"
      ]
     },
     "metadata": {},
     "output_type": "display_data"
    },
    {
     "data": {
      "text/markdown": [
       "#### Gain Values"
      ],
      "text/plain": [
       "<IPython.core.display.Markdown object>"
      ]
     },
     "metadata": {},
     "output_type": "display_data"
    },
    {
     "data": {
      "text/html": [
       "<style type=\"text/css\">\n",
       "</style>\n",
       "<table id=\"T_a007b\">\n",
       "  <thead>\n",
       "    <tr>\n",
       "      <th id=\"T_a007b_level0_col0\" class=\"col_heading level0 col0\" >Gain Metric</th>\n",
       "      <th id=\"T_a007b_level0_col1\" class=\"col_heading level0 col1\" >Gain Value</th>\n",
       "      <th id=\"T_a007b_level0_col2\" class=\"col_heading level0 col2\" >Corresponds To</th>\n",
       "    </tr>\n",
       "  </thead>\n",
       "  <tbody>\n",
       "    <tr>\n",
       "      <td id=\"T_a007b_row0_col0\" class=\"data row0 col0\" >Calc Period Gain</td>\n",
       "      <td id=\"T_a007b_row0_col1\" class=\"data row0 col1\" >1.20%</td>\n",
       "      <td id=\"T_a007b_row0_col2\" class=\"data row0 col2\" >`CalcGain`</td>\n",
       "    </tr>\n",
       "    <tr>\n",
       "      <td id=\"T_a007b_row1_col0\" class=\"data row1 col0\" >Forward Period Gain</td>\n",
       "      <td id=\"T_a007b_row1_col1\" class=\"data row1 col1\" >0.09%</td>\n",
       "      <td id=\"T_a007b_row1_col2\" class=\"data row1 col2\" >`FwdGain`</td>\n",
       "    </tr>\n",
       "  </tbody>\n",
       "</table>\n"
      ],
      "text/plain": [
       "<pandas.io.formats.style.Styler at 0x2c0ba356650>"
      ]
     },
     "metadata": {},
     "output_type": "display_data"
    },
    {
     "name": "stdout",
     "output_type": "stream",
     "text": [
      "\n",
      "✅ Detailed ticker data exported to 'export_csv\\verification_ticker_TBIL_20230401.csv'\n",
      "\n",
      "================================================================================\n",
      "--- Verifying Ticker: VOO ---\n",
      "================================================================================\n"
     ]
    },
    {
     "data": {
      "text/markdown": [
       "## Verification Report for Ticker Ranking: `VOO`"
      ],
      "text/plain": [
       "<IPython.core.display.Markdown object>"
      ]
     },
     "metadata": {},
     "output_type": "display_data"
    },
    {
     "data": {
      "text/markdown": [
       "**Analysis Start Date:** `2023-04-01`"
      ],
      "text/plain": [
       "<IPython.core.display.Markdown object>"
      ]
     },
     "metadata": {},
     "output_type": "display_data"
    },
    {
     "data": {
      "text/markdown": [
       "**Requested Calculation Period:** `2023-04-01` to `2023-07-01`"
      ],
      "text/plain": [
       "<IPython.core.display.Markdown object>"
      ]
     },
     "metadata": {},
     "output_type": "display_data"
    },
    {
     "data": {
      "text/markdown": [
       "**Requested Forward Period:**   `2023-07-01` to `2023-07-08`"
      ],
      "text/plain": [
       "<IPython.core.display.Markdown object>"
      ]
     },
     "metadata": {},
     "output_type": "display_data"
    },
    {
     "data": {
      "text/markdown": [
       "### A. Calculation Period Analysis (for Ranking Metrics)"
      ],
      "text/plain": [
       "<IPython.core.display.Markdown object>"
      ]
     },
     "metadata": {},
     "output_type": "display_data"
    },
    {
     "data": {
      "text/markdown": [
       "**Actual Dates Used:** `2023-04-03` to `2023-06-30`"
      ],
      "text/plain": [
       "<IPython.core.display.Markdown object>"
      ]
     },
     "metadata": {},
     "output_type": "display_data"
    },
    {
     "data": {
      "text/markdown": [
       "#### `CalcGain` Verification:"
      ],
      "text/plain": [
       "<IPython.core.display.Markdown object>"
      ]
     },
     "metadata": {},
     "output_type": "display_data"
    },
    {
     "name": "stdout",
     "output_type": "stream",
     "text": [
      "  - Calc Start Price: $364.82\n",
      "  - Calc End Price:   $395.09  <-- 'CalcPrice'\n",
      "  - CalcGain = 8.30%\n"
     ]
    },
    {
     "data": {
      "text/markdown": [
       "#### `MetricValue` Verification:"
      ],
      "text/plain": [
       "<IPython.core.display.Markdown object>"
      ]
     },
     "metadata": {},
     "output_type": "display_data"
    },
    {
     "name": "stdout",
     "output_type": "stream",
     "text": [
      "\n",
      "1. Price Metric:\n",
      "   - Formula: Last Price / First Price = 1.0830\n",
      "\n",
      "2. Sharpe Metric:\n",
      "   - Mean Daily Return: 0.001335\n",
      "   - Std Dev Daily Return: 0.007485\n",
      "   - Annualized Sharpe = 2.8307\n",
      "\n",
      "3. Sharpe (ATR) Metric:\n",
      "   - Mean Daily Return: 0.001335 (same as above)\n",
      "   - Average ATR Percent (ATRP): 0.010039\n",
      "   - Sharpe (ATR) = 0.1330\n"
     ]
    },
    {
     "data": {
      "text/markdown": [
       "\n",
       "### B. Forward Period Analysis (`FwdGain`)"
      ],
      "text/plain": [
       "<IPython.core.display.Markdown object>"
      ]
     },
     "metadata": {},
     "output_type": "display_data"
    },
    {
     "name": "stdout",
     "output_type": "stream",
     "text": [
      "  - Fwd Start Price (Calc End Price): $395.09\n",
      "  - Fwd End Price: $390.83\n",
      "  - FwdGain = -1.08%\n"
     ]
    },
    {
     "data": {
      "text/markdown": [
       "\n",
       "### C. Final Summary Tables"
      ],
      "text/plain": [
       "<IPython.core.display.Markdown object>"
      ]
     },
     "metadata": {},
     "output_type": "display_data"
    },
    {
     "data": {
      "text/markdown": [
       "#### Ranking Metric Values"
      ],
      "text/plain": [
       "<IPython.core.display.Markdown object>"
      ]
     },
     "metadata": {},
     "output_type": "display_data"
    },
    {
     "data": {
      "text/html": [
       "<style type=\"text/css\">\n",
       "</style>\n",
       "<table id=\"T_c4d9f\">\n",
       "  <thead>\n",
       "    <tr>\n",
       "      <th id=\"T_c4d9f_level0_col0\" class=\"col_heading level0 col0\" >Metric</th>\n",
       "      <th id=\"T_c4d9f_level0_col1\" class=\"col_heading level0 col1\" >Calculated Value</th>\n",
       "      <th id=\"T_c4d9f_level0_col2\" class=\"col_heading level0 col2\" >Corresponds To</th>\n",
       "    </tr>\n",
       "  </thead>\n",
       "  <tbody>\n",
       "    <tr>\n",
       "      <td id=\"T_c4d9f_row0_col0\" class=\"data row0 col0\" >Price</td>\n",
       "      <td id=\"T_c4d9f_row0_col1\" class=\"data row0 col1\" >1.0830</td>\n",
       "      <td id=\"T_c4d9f_row0_col2\" class=\"data row0 col2\" >`MetricValue`</td>\n",
       "    </tr>\n",
       "    <tr>\n",
       "      <td id=\"T_c4d9f_row1_col0\" class=\"data row1 col0\" >Sharpe</td>\n",
       "      <td id=\"T_c4d9f_row1_col1\" class=\"data row1 col1\" >2.8307</td>\n",
       "      <td id=\"T_c4d9f_row1_col2\" class=\"data row1 col2\" >`MetricValue`</td>\n",
       "    </tr>\n",
       "    <tr>\n",
       "      <td id=\"T_c4d9f_row2_col0\" class=\"data row2 col0\" >Sharpe (ATR)</td>\n",
       "      <td id=\"T_c4d9f_row2_col1\" class=\"data row2 col1\" >0.1330</td>\n",
       "      <td id=\"T_c4d9f_row2_col2\" class=\"data row2 col2\" >`MetricValue`</td>\n",
       "    </tr>\n",
       "  </tbody>\n",
       "</table>\n"
      ],
      "text/plain": [
       "<pandas.io.formats.style.Styler at 0x2c0ba529a10>"
      ]
     },
     "metadata": {},
     "output_type": "display_data"
    },
    {
     "data": {
      "text/markdown": [
       "#### Gain Values"
      ],
      "text/plain": [
       "<IPython.core.display.Markdown object>"
      ]
     },
     "metadata": {},
     "output_type": "display_data"
    },
    {
     "data": {
      "text/html": [
       "<style type=\"text/css\">\n",
       "</style>\n",
       "<table id=\"T_1a01b\">\n",
       "  <thead>\n",
       "    <tr>\n",
       "      <th id=\"T_1a01b_level0_col0\" class=\"col_heading level0 col0\" >Gain Metric</th>\n",
       "      <th id=\"T_1a01b_level0_col1\" class=\"col_heading level0 col1\" >Gain Value</th>\n",
       "      <th id=\"T_1a01b_level0_col2\" class=\"col_heading level0 col2\" >Corresponds To</th>\n",
       "    </tr>\n",
       "  </thead>\n",
       "  <tbody>\n",
       "    <tr>\n",
       "      <td id=\"T_1a01b_row0_col0\" class=\"data row0 col0\" >Calc Period Gain</td>\n",
       "      <td id=\"T_1a01b_row0_col1\" class=\"data row0 col1\" >8.30%</td>\n",
       "      <td id=\"T_1a01b_row0_col2\" class=\"data row0 col2\" >`CalcGain`</td>\n",
       "    </tr>\n",
       "    <tr>\n",
       "      <td id=\"T_1a01b_row1_col0\" class=\"data row1 col0\" >Forward Period Gain</td>\n",
       "      <td id=\"T_1a01b_row1_col1\" class=\"data row1 col1\" >-1.08%</td>\n",
       "      <td id=\"T_1a01b_row1_col2\" class=\"data row1 col2\" >`FwdGain`</td>\n",
       "    </tr>\n",
       "  </tbody>\n",
       "</table>\n"
      ],
      "text/plain": [
       "<pandas.io.formats.style.Styler at 0x2c0bbbe3150>"
      ]
     },
     "metadata": {},
     "output_type": "display_data"
    },
    {
     "name": "stdout",
     "output_type": "stream",
     "text": [
      "\n",
      "✅ Detailed ticker data exported to 'export_csv\\verification_ticker_VOO_20230401.csv'\n",
      "\n",
      "--- All Ticker Verifications Complete ---\n"
     ]
    }
   ],
   "source": [
    "# --- CORRECTED VERIFICATION SNIPPET ---\n",
    "print(\"--- Starting Individual Ticker Verification ---\")\n",
    "\n",
    "# Now, loop through the list and call the verification function for each one\n",
    "for single_ticker in all_tickers_cleaned:\n",
    "    print(f\"\\n\" + \"=\"*80)\n",
    "    print(f\"--- Verifying Ticker: {single_ticker} ---\")\n",
    "    print(\"=\"*80)\n",
    "    \n",
    "    # Call the function for ONE ticker at a time\n",
    "    verify_ticker_ranking_metrics(\n",
    "        df_ohlcv=df_OHLCV,\n",
    "        ticker=single_ticker, \n",
    "        start_date=test_start_date, \n",
    "        calc_period=test_calc_period, \n",
    "        fwd_period=test_fwd_period, \n",
    "        export_csv=True # Set to True if you want a file for each ticker\n",
    "    )\n",
    "\n",
    "print(\"\\n--- All Ticker Verifications Complete ---\")"
   ]
  },
  {
   "cell_type": "code",
   "execution_count": null,
   "id": "26115bc9",
   "metadata": {},
   "outputs": [],
   "source": []
  },
  {
   "cell_type": "code",
   "execution_count": null,
   "id": "7655fc98",
   "metadata": {},
   "outputs": [],
   "source": []
  }
 ],
 "metadata": {
  "kernelspec": {
   "display_name": "py311-py3.11",
   "language": "python",
   "name": "python3"
  },
  "language_info": {
   "codemirror_mode": {
    "name": "ipython",
    "version": 3
   },
   "file_extension": ".py",
   "mimetype": "text/x-python",
   "name": "python",
   "nbconvert_exporter": "python",
   "pygments_lexer": "ipython3",
   "version": "3.11.9"
  }
 },
 "nbformat": 4,
 "nbformat_minor": 5
}
