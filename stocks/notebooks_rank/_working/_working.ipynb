{
 "cells": [
  {
   "cell_type": "markdown",
   "metadata": {},
   "source": [
    "### Corrected and Improved Code (Cell 1: Setup)\n",
    "\n",
    "This first cell now not only sets up the path for your `src` modules but also defines key directory variables (`DATA_DIR`, `ROOT_DIR`) that you can use throughout your notebook.\n"
   ]
  },
  {
   "cell_type": "code",
   "execution_count": 66,
   "metadata": {},
   "outputs": [
    {
     "name": "stdout",
     "output_type": "stream",
     "text": [
      "The autoreload extension is already loaded. To reload it, use:\n",
      "  %reload_ext autoreload\n",
      "✅ Project Root Directory: c:\\Users\\ping\\Files_win10\\python\\py311\\stocks\n",
      "✅ Source Directory (for utils): c:\\Users\\ping\\Files_win10\\python\\py311\\stocks\\src\n",
      "✅ Data Directory (for input): c:\\Users\\ping\\Files_win10\\python\\py311\\stocks\\data\n",
      "\n",
      "✅ Successfully imported 'utils' module.\n"
     ]
    }
   ],
   "source": [
    "import sys\n",
    "from pathlib import Path\n",
    "import pandas as pd\n",
    "import os\n",
    "from IPython.display import display, Markdown  # Assuming you use these for display\n",
    "\n",
    "# --- 1. PANDAS OPTIONS (No change) ---\n",
    "pd.set_option('display.max_columns', None)\n",
    "pd.set_option('display.width', 3000)\n",
    "\n",
    "# --- 2. IPYTHON AUTORELOAD (No change) ---\n",
    "%load_ext autoreload\n",
    "%autoreload 2\n",
    "\n",
    "# --- 3. ROBUST PATH CONFIGURATION (MODIFIED) ---\n",
    "\n",
    "# Get the current working directory of the notebook\n",
    "NOTEBOOK_DIR = Path.cwd()\n",
    "\n",
    "# Find the project ROOT directory by going up from the notebook's location\n",
    "# This is robust and works even if you move the notebook deeper.\n",
    "ROOT_DIR = NOTEBOOK_DIR.parent.parent\n",
    "\n",
    "# Define key project directories relative to the ROOT\n",
    "DATA_DIR = ROOT_DIR / 'data'\n",
    "SRC_DIR = ROOT_DIR / 'src'\n",
    "# You could also define an output directory here if needed\n",
    "OUTPUT_DIR = ROOT_DIR / 'output'\n",
    "\n",
    "# Add the 'src' directory to the Python path so you can import 'utils'\n",
    "if str(SRC_DIR) not in sys.path:\n",
    "    sys.path.append(str(SRC_DIR))\n",
    "\n",
    "# --- 4. VERIFICATION (IMPROVED) ---\n",
    "print(f\"✅ Project Root Directory: {ROOT_DIR}\")\n",
    "print(f\"✅ Source Directory (for utils): {SRC_DIR}\")\n",
    "print(f\"✅ Data Directory (for input): {DATA_DIR}\")\n",
    "\n",
    "# Verify that the key directories exist. This helps catch path errors early.\n",
    "assert ROOT_DIR.exists(), f\"ROOT directory not found at: {ROOT_DIR}\"\n",
    "assert SRC_DIR.exists(), f\"Source directory not found at: {SRC_DIR}\"\n",
    "assert DATA_DIR.exists(), f\"Data directory not found at: {DATA_DIR}\"\n",
    "\n",
    "# --- 5. IMPORT YOUR CUSTOM MODULE ---\n",
    "# This will now work correctly\n",
    "import utils\n",
    "print(\"\\n✅ Successfully imported 'utils' module.\")"
   ]
  },
  {
   "cell_type": "markdown",
   "metadata": {},
   "source": [
    "### Corrected Code (Cell 2: Execution)\n",
    "\n",
    "Now, in your second cell, you simply use the `DATA_DIR` variable we defined in the setup cell. This removes the fragile relative path `..\\data`."
   ]
  },
  {
   "cell_type": "code",
   "execution_count": 70,
   "metadata": {},
   "outputs": [
    {
     "data": {
      "text/markdown": [
       "**Available 'starting with '2025-'' files:**"
      ],
      "text/plain": [
       "<IPython.core.display.Markdown object>"
      ]
     },
     "metadata": {},
     "output_type": "display_data"
    },
    {
     "data": {
      "text/markdown": [
       "- (1) `[DATA]` `2025-04-25_df_common_tickers_stocks_etfs.parquet` <span style='color:#00ffff'>(0.01 MB, 2025-05-14 09:49)</span>"
      ],
      "text/plain": [
       "<IPython.core.display.Markdown object>"
      ]
     },
     "metadata": {},
     "output_type": "display_data"
    },
    {
     "data": {
      "text/markdown": [
       "- (2) `[DATA]` `2025-04-25_df_finviz_merged_stocks_etfs.parquet` <span style='color:#00ffff'>(1.00 MB, 2025-07-03 16:40)</span>"
      ],
      "text/plain": [
       "<IPython.core.display.Markdown object>"
      ]
     },
     "metadata": {},
     "output_type": "display_data"
    },
    {
     "data": {
      "text/markdown": [
       "- (3) `[DATA]` `2025-04-25_df_finviz_n_ratios_stocks_etfs.parquet` <span style='color:#00ffff'>(0.97 MB, 2025-07-03 16:40)</span>"
      ],
      "text/plain": [
       "<IPython.core.display.Markdown object>"
      ]
     },
     "metadata": {},
     "output_type": "display_data"
    },
    {
     "data": {
      "text/markdown": [
       "- (4) `[DATA]` `2025-04-25_df_finviz_stocks_etfs.parquet` <span style='color:#00ffff'>(0.65 MB, 2025-06-15 09:31)</span>"
      ],
      "text/plain": [
       "<IPython.core.display.Markdown object>"
      ]
     },
     "metadata": {},
     "output_type": "display_data"
    },
    {
     "data": {
      "text/markdown": [
       "- (5) `[DATA]` `2025-04-25_df_perf_ratios_stocks_etfs.parquet` <span style='color:#00ffff'>(0.31 MB, 2025-05-14 09:49)</span>"
      ],
      "text/plain": [
       "<IPython.core.display.Markdown object>"
      ]
     },
     "metadata": {},
     "output_type": "display_data"
    },
    {
     "data": {
      "text/markdown": [
       "- (6) `[DATA]` `2025-04-28_df_common_tickers_stocks_etfs.parquet` <span style='color:#00ffff'>(0.01 MB, 2025-05-14 11:35)</span>"
      ],
      "text/plain": [
       "<IPython.core.display.Markdown object>"
      ]
     },
     "metadata": {},
     "output_type": "display_data"
    },
    {
     "data": {
      "text/markdown": [
       "- (7) `[DATA]` `2025-04-28_df_finviz_merged_stocks_etfs.parquet` <span style='color:#00ffff'>(1.00 MB, 2025-07-03 16:40)</span>"
      ],
      "text/plain": [
       "<IPython.core.display.Markdown object>"
      ]
     },
     "metadata": {},
     "output_type": "display_data"
    },
    {
     "data": {
      "text/markdown": [
       "- (8) `[DATA]` `2025-04-28_df_finviz_n_ratios_stocks_etfs.parquet` <span style='color:#00ffff'>(0.97 MB, 2025-07-03 16:40)</span>"
      ],
      "text/plain": [
       "<IPython.core.display.Markdown object>"
      ]
     },
     "metadata": {},
     "output_type": "display_data"
    },
    {
     "data": {
      "text/markdown": [
       "- (9) `[DATA]` `2025-04-28_df_finviz_stocks_etfs.parquet` <span style='color:#00ffff'>(0.65 MB, 2025-06-15 09:31)</span>"
      ],
      "text/plain": [
       "<IPython.core.display.Markdown object>"
      ]
     },
     "metadata": {},
     "output_type": "display_data"
    },
    {
     "data": {
      "text/markdown": [
       "- (10) `[DATA]` `2025-04-28_df_perf_ratios_stocks_etfs.parquet` <span style='color:#00ffff'>(0.32 MB, 2025-05-14 11:34)</span>"
      ],
      "text/plain": [
       "<IPython.core.display.Markdown object>"
      ]
     },
     "metadata": {},
     "output_type": "display_data"
    },
    {
     "data": {
      "text/markdown": [
       "- (11) `[DATA]` `2025-04-29_df_common_tickers_stocks_etfs.parquet` <span style='color:#00ffff'>(0.01 MB, 2025-05-14 11:46)</span>"
      ],
      "text/plain": [
       "<IPython.core.display.Markdown object>"
      ]
     },
     "metadata": {},
     "output_type": "display_data"
    },
    {
     "data": {
      "text/markdown": [
       "- (12) `[DATA]` `2025-04-29_df_finviz_merged_stocks_etfs.parquet` <span style='color:#00ffff'>(0.98 MB, 2025-07-03 16:40)</span>"
      ],
      "text/plain": [
       "<IPython.core.display.Markdown object>"
      ]
     },
     "metadata": {},
     "output_type": "display_data"
    },
    {
     "data": {
      "text/markdown": [
       "- (13) `[DATA]` `2025-04-29_df_finviz_n_ratios_stocks_etfs.parquet` <span style='color:#00ffff'>(0.95 MB, 2025-07-03 16:40)</span>"
      ],
      "text/plain": [
       "<IPython.core.display.Markdown object>"
      ]
     },
     "metadata": {},
     "output_type": "display_data"
    },
    {
     "data": {
      "text/markdown": [
       "- (14) `[DATA]` `2025-04-29_df_finviz_stocks_etfs.parquet` <span style='color:#00ffff'>(0.64 MB, 2025-06-15 09:31)</span>"
      ],
      "text/plain": [
       "<IPython.core.display.Markdown object>"
      ]
     },
     "metadata": {},
     "output_type": "display_data"
    },
    {
     "data": {
      "text/markdown": [
       "- (15) `[DATA]` `2025-04-29_df_perf_ratios_stocks_etfs.parquet` <span style='color:#00ffff'>(0.31 MB, 2025-05-14 11:46)</span>"
      ],
      "text/plain": [
       "<IPython.core.display.Markdown object>"
      ]
     },
     "metadata": {},
     "output_type": "display_data"
    },
    {
     "data": {
      "text/markdown": [
       "- (16) `[DATA]` `2025-04-30_df_common_tickers_stocks_etfs.parquet` <span style='color:#00ffff'>(0.01 MB, 2025-05-14 11:50)</span>"
      ],
      "text/plain": [
       "<IPython.core.display.Markdown object>"
      ]
     },
     "metadata": {},
     "output_type": "display_data"
    },
    {
     "data": {
      "text/markdown": [
       "- (17) `[DATA]` `2025-04-30_df_finviz_merged_stocks_etfs.parquet` <span style='color:#00ffff'>(1.00 MB, 2025-07-03 16:40)</span>"
      ],
      "text/plain": [
       "<IPython.core.display.Markdown object>"
      ]
     },
     "metadata": {},
     "output_type": "display_data"
    },
    {
     "data": {
      "text/markdown": [
       "- (18) `[DATA]` `2025-04-30_df_finviz_n_ratios_stocks_etfs.parquet` <span style='color:#00ffff'>(0.97 MB, 2025-07-03 16:40)</span>"
      ],
      "text/plain": [
       "<IPython.core.display.Markdown object>"
      ]
     },
     "metadata": {},
     "output_type": "display_data"
    },
    {
     "data": {
      "text/markdown": [
       "- (19) `[DATA]` `2025-04-30_df_finviz_stocks_etfs.parquet` <span style='color:#00ffff'>(0.65 MB, 2025-06-15 09:31)</span>"
      ],
      "text/plain": [
       "<IPython.core.display.Markdown object>"
      ]
     },
     "metadata": {},
     "output_type": "display_data"
    },
    {
     "data": {
      "text/markdown": [
       "- (20) `[DATA]` `2025-04-30_df_perf_ratios_stocks_etfs.parquet` <span style='color:#00ffff'>(0.32 MB, 2025-05-14 11:50)</span>"
      ],
      "text/plain": [
       "<IPython.core.display.Markdown object>"
      ]
     },
     "metadata": {},
     "output_type": "display_data"
    },
    {
     "data": {
      "text/markdown": [
       "- (21) `[DATA]` `2025-05-01_df_common_tickers_stocks_etfs.parquet` <span style='color:#00ffff'>(0.01 MB, 2025-05-14 11:55)</span>"
      ],
      "text/plain": [
       "<IPython.core.display.Markdown object>"
      ]
     },
     "metadata": {},
     "output_type": "display_data"
    },
    {
     "data": {
      "text/markdown": [
       "- (22) `[DATA]` `2025-05-01_df_finviz_merged_stocks_etfs.parquet` <span style='color:#00ffff'>(1.01 MB, 2025-07-03 16:40)</span>"
      ],
      "text/plain": [
       "<IPython.core.display.Markdown object>"
      ]
     },
     "metadata": {},
     "output_type": "display_data"
    },
    {
     "data": {
      "text/markdown": [
       "- (23) `[DATA]` `2025-05-01_df_finviz_n_ratios_stocks_etfs.parquet` <span style='color:#00ffff'>(0.98 MB, 2025-07-03 16:40)</span>"
      ],
      "text/plain": [
       "<IPython.core.display.Markdown object>"
      ]
     },
     "metadata": {},
     "output_type": "display_data"
    },
    {
     "data": {
      "text/markdown": [
       "- (24) `[DATA]` `2025-05-01_df_finviz_stocks_etfs.parquet` <span style='color:#00ffff'>(0.65 MB, 2025-06-15 09:31)</span>"
      ],
      "text/plain": [
       "<IPython.core.display.Markdown object>"
      ]
     },
     "metadata": {},
     "output_type": "display_data"
    },
    {
     "data": {
      "text/markdown": [
       "- (25) `[DATA]` `2025-05-01_df_perf_ratios_stocks_etfs.parquet` <span style='color:#00ffff'>(0.33 MB, 2025-05-14 11:55)</span>"
      ],
      "text/plain": [
       "<IPython.core.display.Markdown object>"
      ]
     },
     "metadata": {},
     "output_type": "display_data"
    },
    {
     "data": {
      "text/markdown": [
       "- (26) `[DATA]` `2025-05-02_df_common_tickers_stocks_etfs.parquet` <span style='color:#00ffff'>(0.01 MB, 2025-05-14 11:59)</span>"
      ],
      "text/plain": [
       "<IPython.core.display.Markdown object>"
      ]
     },
     "metadata": {},
     "output_type": "display_data"
    },
    {
     "data": {
      "text/markdown": [
       "- (27) `[DATA]` `2025-05-02_df_finviz_merged_stocks_etfs.parquet` <span style='color:#00ffff'>(1.00 MB, 2025-07-03 16:40)</span>"
      ],
      "text/plain": [
       "<IPython.core.display.Markdown object>"
      ]
     },
     "metadata": {},
     "output_type": "display_data"
    },
    {
     "data": {
      "text/markdown": [
       "- (28) `[DATA]` `2025-05-02_df_finviz_n_ratios_stocks_etfs.parquet` <span style='color:#00ffff'>(0.98 MB, 2025-07-03 16:40)</span>"
      ],
      "text/plain": [
       "<IPython.core.display.Markdown object>"
      ]
     },
     "metadata": {},
     "output_type": "display_data"
    },
    {
     "data": {
      "text/markdown": [
       "- (29) `[DATA]` `2025-05-02_df_finviz_stocks_etfs.parquet` <span style='color:#00ffff'>(0.65 MB, 2025-06-15 09:31)</span>"
      ],
      "text/plain": [
       "<IPython.core.display.Markdown object>"
      ]
     },
     "metadata": {},
     "output_type": "display_data"
    },
    {
     "data": {
      "text/markdown": [
       "- (30) `[DATA]` `2025-05-02_df_perf_ratios_stocks_etfs.parquet` <span style='color:#00ffff'>(0.32 MB, 2025-05-14 11:59)</span>"
      ],
      "text/plain": [
       "<IPython.core.display.Markdown object>"
      ]
     },
     "metadata": {},
     "output_type": "display_data"
    },
    {
     "data": {
      "text/markdown": [
       "- (31) `[DATA]` `2025-05-05_df_common_tickers_stocks_etfs.parquet` <span style='color:#00ffff'>(0.01 MB, 2025-05-14 12:03)</span>"
      ],
      "text/plain": [
       "<IPython.core.display.Markdown object>"
      ]
     },
     "metadata": {},
     "output_type": "display_data"
    },
    {
     "data": {
      "text/markdown": [
       "- (32) `[DATA]` `2025-05-05_df_finviz_merged_stocks_etfs.parquet` <span style='color:#00ffff'>(1.01 MB, 2025-07-03 16:40)</span>"
      ],
      "text/plain": [
       "<IPython.core.display.Markdown object>"
      ]
     },
     "metadata": {},
     "output_type": "display_data"
    },
    {
     "data": {
      "text/markdown": [
       "- (33) `[DATA]` `2025-05-05_df_finviz_n_ratios_stocks_etfs.parquet` <span style='color:#00ffff'>(0.98 MB, 2025-07-03 16:40)</span>"
      ],
      "text/plain": [
       "<IPython.core.display.Markdown object>"
      ]
     },
     "metadata": {},
     "output_type": "display_data"
    },
    {
     "data": {
      "text/markdown": [
       "- (34) `[DATA]` `2025-05-05_df_finviz_stocks_etfs.parquet` <span style='color:#00ffff'>(0.65 MB, 2025-06-15 09:31)</span>"
      ],
      "text/plain": [
       "<IPython.core.display.Markdown object>"
      ]
     },
     "metadata": {},
     "output_type": "display_data"
    },
    {
     "data": {
      "text/markdown": [
       "- (35) `[DATA]` `2025-05-05_df_perf_ratios_stocks_etfs.parquet` <span style='color:#00ffff'>(0.33 MB, 2025-05-14 12:03)</span>"
      ],
      "text/plain": [
       "<IPython.core.display.Markdown object>"
      ]
     },
     "metadata": {},
     "output_type": "display_data"
    },
    {
     "data": {
      "text/markdown": [
       "- (36) `[DATA]` `2025-05-06_df_common_tickers_stocks_etfs.parquet` <span style='color:#00ffff'>(0.01 MB, 2025-05-14 12:07)</span>"
      ],
      "text/plain": [
       "<IPython.core.display.Markdown object>"
      ]
     },
     "metadata": {},
     "output_type": "display_data"
    },
    {
     "data": {
      "text/markdown": [
       "- (37) `[DATA]` `2025-05-06_df_finviz_merged_stocks_etfs.parquet` <span style='color:#00ffff'>(1.01 MB, 2025-07-03 16:40)</span>"
      ],
      "text/plain": [
       "<IPython.core.display.Markdown object>"
      ]
     },
     "metadata": {},
     "output_type": "display_data"
    },
    {
     "data": {
      "text/markdown": [
       "- (38) `[DATA]` `2025-05-06_df_finviz_n_ratios_stocks_etfs.parquet` <span style='color:#00ffff'>(0.98 MB, 2025-07-03 16:40)</span>"
      ],
      "text/plain": [
       "<IPython.core.display.Markdown object>"
      ]
     },
     "metadata": {},
     "output_type": "display_data"
    },
    {
     "data": {
      "text/markdown": [
       "- (39) `[DATA]` `2025-05-06_df_finviz_stocks_etfs.parquet` <span style='color:#00ffff'>(0.65 MB, 2025-06-15 09:31)</span>"
      ],
      "text/plain": [
       "<IPython.core.display.Markdown object>"
      ]
     },
     "metadata": {},
     "output_type": "display_data"
    },
    {
     "data": {
      "text/markdown": [
       "- (40) `[DATA]` `2025-05-06_df_perf_ratios_stocks_etfs.parquet` <span style='color:#00ffff'>(0.32 MB, 2025-05-14 12:07)</span>"
      ],
      "text/plain": [
       "<IPython.core.display.Markdown object>"
      ]
     },
     "metadata": {},
     "output_type": "display_data"
    },
    {
     "data": {
      "text/markdown": [
       "- (41) `[DATA]` `2025-05-07_df_common_tickers_stocks_etfs.parquet` <span style='color:#00ffff'>(0.01 MB, 2025-05-14 12:11)</span>"
      ],
      "text/plain": [
       "<IPython.core.display.Markdown object>"
      ]
     },
     "metadata": {},
     "output_type": "display_data"
    },
    {
     "data": {
      "text/markdown": [
       "- (42) `[DATA]` `2025-05-07_df_finviz_merged_stocks_etfs.parquet` <span style='color:#00ffff'>(1.01 MB, 2025-07-03 16:40)</span>"
      ],
      "text/plain": [
       "<IPython.core.display.Markdown object>"
      ]
     },
     "metadata": {},
     "output_type": "display_data"
    },
    {
     "data": {
      "text/markdown": [
       "- (43) `[DATA]` `2025-05-07_df_finviz_n_ratios_stocks_etfs.parquet` <span style='color:#00ffff'>(0.99 MB, 2025-07-03 16:40)</span>"
      ],
      "text/plain": [
       "<IPython.core.display.Markdown object>"
      ]
     },
     "metadata": {},
     "output_type": "display_data"
    },
    {
     "data": {
      "text/markdown": [
       "- (44) `[DATA]` `2025-05-07_df_finviz_stocks_etfs.parquet` <span style='color:#00ffff'>(0.65 MB, 2025-06-15 09:31)</span>"
      ],
      "text/plain": [
       "<IPython.core.display.Markdown object>"
      ]
     },
     "metadata": {},
     "output_type": "display_data"
    },
    {
     "data": {
      "text/markdown": [
       "- (45) `[DATA]` `2025-05-07_df_perf_ratios_stocks_etfs.parquet` <span style='color:#00ffff'>(0.33 MB, 2025-05-14 12:11)</span>"
      ],
      "text/plain": [
       "<IPython.core.display.Markdown object>"
      ]
     },
     "metadata": {},
     "output_type": "display_data"
    },
    {
     "data": {
      "text/markdown": [
       "- (46) `[DATA]` `2025-05-08_df_common_tickers_stocks_etfs.parquet` <span style='color:#00ffff'>(0.01 MB, 2025-05-14 12:15)</span>"
      ],
      "text/plain": [
       "<IPython.core.display.Markdown object>"
      ]
     },
     "metadata": {},
     "output_type": "display_data"
    },
    {
     "data": {
      "text/markdown": [
       "- (47) `[DATA]` `2025-05-08_df_finviz_merged_stocks_etfs.parquet` <span style='color:#00ffff'>(1.01 MB, 2025-07-03 16:40)</span>"
      ],
      "text/plain": [
       "<IPython.core.display.Markdown object>"
      ]
     },
     "metadata": {},
     "output_type": "display_data"
    },
    {
     "data": {
      "text/markdown": [
       "- (48) `[DATA]` `2025-05-08_df_finviz_n_ratios_stocks_etfs.parquet` <span style='color:#00ffff'>(0.98 MB, 2025-07-03 16:40)</span>"
      ],
      "text/plain": [
       "<IPython.core.display.Markdown object>"
      ]
     },
     "metadata": {},
     "output_type": "display_data"
    },
    {
     "data": {
      "text/markdown": [
       "- (49) `[DATA]` `2025-05-08_df_finviz_stocks_etfs.parquet` <span style='color:#00ffff'>(0.65 MB, 2025-06-15 09:31)</span>"
      ],
      "text/plain": [
       "<IPython.core.display.Markdown object>"
      ]
     },
     "metadata": {},
     "output_type": "display_data"
    },
    {
     "data": {
      "text/markdown": [
       "- (50) `[DATA]` `2025-05-08_df_perf_ratios_stocks_etfs.parquet` <span style='color:#00ffff'>(0.32 MB, 2025-05-14 12:14)</span>"
      ],
      "text/plain": [
       "<IPython.core.display.Markdown object>"
      ]
     },
     "metadata": {},
     "output_type": "display_data"
    },
    {
     "data": {
      "text/markdown": [
       "- (51) `[DATA]` `2025-05-09_df_common_tickers_stocks_etfs.parquet` <span style='color:#00ffff'>(0.01 MB, 2025-05-14 12:18)</span>"
      ],
      "text/plain": [
       "<IPython.core.display.Markdown object>"
      ]
     },
     "metadata": {},
     "output_type": "display_data"
    },
    {
     "data": {
      "text/markdown": [
       "- (52) `[DATA]` `2025-05-09_df_finviz_merged_stocks_etfs.parquet` <span style='color:#00ffff'>(1.01 MB, 2025-07-03 16:40)</span>"
      ],
      "text/plain": [
       "<IPython.core.display.Markdown object>"
      ]
     },
     "metadata": {},
     "output_type": "display_data"
    },
    {
     "data": {
      "text/markdown": [
       "- (53) `[DATA]` `2025-05-09_df_finviz_n_ratios_stocks_etfs.parquet` <span style='color:#00ffff'>(0.98 MB, 2025-07-03 16:40)</span>"
      ],
      "text/plain": [
       "<IPython.core.display.Markdown object>"
      ]
     },
     "metadata": {},
     "output_type": "display_data"
    },
    {
     "data": {
      "text/markdown": [
       "- (54) `[DATA]` `2025-05-09_df_finviz_stocks_etfs.parquet` <span style='color:#00ffff'>(0.65 MB, 2025-06-15 09:31)</span>"
      ],
      "text/plain": [
       "<IPython.core.display.Markdown object>"
      ]
     },
     "metadata": {},
     "output_type": "display_data"
    },
    {
     "data": {
      "text/markdown": [
       "- (55) `[DATA]` `2025-05-09_df_perf_ratios_stocks_etfs.parquet` <span style='color:#00ffff'>(0.33 MB, 2025-05-14 12:18)</span>"
      ],
      "text/plain": [
       "<IPython.core.display.Markdown object>"
      ]
     },
     "metadata": {},
     "output_type": "display_data"
    },
    {
     "data": {
      "text/markdown": [
       "- (56) `[DATA]` `2025-05-12_df_common_tickers_stocks_etfs.parquet` <span style='color:#00ffff'>(0.01 MB, 2025-05-14 12:23)</span>"
      ],
      "text/plain": [
       "<IPython.core.display.Markdown object>"
      ]
     },
     "metadata": {},
     "output_type": "display_data"
    },
    {
     "data": {
      "text/markdown": [
       "- (57) `[DATA]` `2025-05-12_df_finviz_merged_stocks_etfs.parquet` <span style='color:#00ffff'>(1.02 MB, 2025-07-03 16:40)</span>"
      ],
      "text/plain": [
       "<IPython.core.display.Markdown object>"
      ]
     },
     "metadata": {},
     "output_type": "display_data"
    },
    {
     "data": {
      "text/markdown": [
       "- (58) `[DATA]` `2025-05-12_df_finviz_n_ratios_stocks_etfs.parquet` <span style='color:#00ffff'>(0.99 MB, 2025-07-03 16:40)</span>"
      ],
      "text/plain": [
       "<IPython.core.display.Markdown object>"
      ]
     },
     "metadata": {},
     "output_type": "display_data"
    },
    {
     "data": {
      "text/markdown": [
       "- (59) `[DATA]` `2025-05-12_df_finviz_stocks_etfs.parquet` <span style='color:#00ffff'>(0.66 MB, 2025-06-15 09:31)</span>"
      ],
      "text/plain": [
       "<IPython.core.display.Markdown object>"
      ]
     },
     "metadata": {},
     "output_type": "display_data"
    },
    {
     "data": {
      "text/markdown": [
       "- (60) `[DATA]` `2025-05-12_df_perf_ratios_stocks_etfs.parquet` <span style='color:#00ffff'>(0.32 MB, 2025-05-14 12:23)</span>"
      ],
      "text/plain": [
       "<IPython.core.display.Markdown object>"
      ]
     },
     "metadata": {},
     "output_type": "display_data"
    },
    {
     "data": {
      "text/markdown": [
       "- (61) `[DATA]` `2025-05-13_df_common_tickers_stocks_etfs.parquet` <span style='color:#00ffff'>(0.01 MB, 2025-05-14 12:26)</span>"
      ],
      "text/plain": [
       "<IPython.core.display.Markdown object>"
      ]
     },
     "metadata": {},
     "output_type": "display_data"
    },
    {
     "data": {
      "text/markdown": [
       "- (62) `[DATA]` `2025-05-13_df_finviz_merged_stocks_etfs.parquet` <span style='color:#00ffff'>(1.00 MB, 2025-07-03 16:40)</span>"
      ],
      "text/plain": [
       "<IPython.core.display.Markdown object>"
      ]
     },
     "metadata": {},
     "output_type": "display_data"
    },
    {
     "data": {
      "text/markdown": [
       "- (63) `[DATA]` `2025-05-13_df_finviz_n_ratios_stocks_etfs.parquet` <span style='color:#00ffff'>(0.97 MB, 2025-07-03 16:40)</span>"
      ],
      "text/plain": [
       "<IPython.core.display.Markdown object>"
      ]
     },
     "metadata": {},
     "output_type": "display_data"
    },
    {
     "data": {
      "text/markdown": [
       "- (64) `[DATA]` `2025-05-13_df_finviz_stocks_etfs.parquet` <span style='color:#00ffff'>(0.66 MB, 2025-06-15 09:31)</span>"
      ],
      "text/plain": [
       "<IPython.core.display.Markdown object>"
      ]
     },
     "metadata": {},
     "output_type": "display_data"
    },
    {
     "data": {
      "text/markdown": [
       "- (65) `[DATA]` `2025-05-13_df_perf_ratios_stocks_etfs.parquet` <span style='color:#00ffff'>(0.32 MB, 2025-05-14 12:26)</span>"
      ],
      "text/plain": [
       "<IPython.core.display.Markdown object>"
      ]
     },
     "metadata": {},
     "output_type": "display_data"
    },
    {
     "data": {
      "text/markdown": [
       "- (66) `[DATA]` `2025-05-14_df_common_tickers_stocks_etfs.parquet` <span style='color:#00ffff'>(0.01 MB, 2025-05-14 14:04)</span>"
      ],
      "text/plain": [
       "<IPython.core.display.Markdown object>"
      ]
     },
     "metadata": {},
     "output_type": "display_data"
    },
    {
     "data": {
      "text/markdown": [
       "- (67) `[DATA]` `2025-05-14_df_finviz_merged_stocks_etfs.parquet` <span style='color:#00ffff'>(1.00 MB, 2025-07-03 16:40)</span>"
      ],
      "text/plain": [
       "<IPython.core.display.Markdown object>"
      ]
     },
     "metadata": {},
     "output_type": "display_data"
    },
    {
     "data": {
      "text/markdown": [
       "- (68) `[DATA]` `2025-05-14_df_finviz_n_ratios_stocks_etfs.parquet` <span style='color:#00ffff'>(0.98 MB, 2025-07-03 16:40)</span>"
      ],
      "text/plain": [
       "<IPython.core.display.Markdown object>"
      ]
     },
     "metadata": {},
     "output_type": "display_data"
    },
    {
     "data": {
      "text/markdown": [
       "- (69) `[DATA]` `2025-05-14_df_finviz_stocks_etfs.parquet` <span style='color:#00ffff'>(0.65 MB, 2025-06-15 09:31)</span>"
      ],
      "text/plain": [
       "<IPython.core.display.Markdown object>"
      ]
     },
     "metadata": {},
     "output_type": "display_data"
    },
    {
     "data": {
      "text/markdown": [
       "- (70) `[DATA]` `2025-05-14_df_perf_ratios_stocks_etfs.parquet` <span style='color:#00ffff'>(0.32 MB, 2025-05-15 13:23)</span>"
      ],
      "text/plain": [
       "<IPython.core.display.Markdown object>"
      ]
     },
     "metadata": {},
     "output_type": "display_data"
    },
    {
     "data": {
      "text/markdown": [
       "- (71) `[DATA]` `2025-05-15_df_common_tickers_stocks_etfs.parquet` <span style='color:#00ffff'>(0.01 MB, 2025-05-15 20:32)</span>"
      ],
      "text/plain": [
       "<IPython.core.display.Markdown object>"
      ]
     },
     "metadata": {},
     "output_type": "display_data"
    },
    {
     "data": {
      "text/markdown": [
       "- (72) `[DATA]` `2025-05-15_df_finviz_merged_stocks_etfs.parquet` <span style='color:#00ffff'>(1.01 MB, 2025-07-03 16:40)</span>"
      ],
      "text/plain": [
       "<IPython.core.display.Markdown object>"
      ]
     },
     "metadata": {},
     "output_type": "display_data"
    },
    {
     "data": {
      "text/markdown": [
       "- (73) `[DATA]` `2025-05-15_df_finviz_n_ratios_stocks_etfs.parquet` <span style='color:#00ffff'>(0.99 MB, 2025-07-03 16:40)</span>"
      ],
      "text/plain": [
       "<IPython.core.display.Markdown object>"
      ]
     },
     "metadata": {},
     "output_type": "display_data"
    },
    {
     "data": {
      "text/markdown": [
       "- (74) `[DATA]` `2025-05-15_df_finviz_stocks_etfs.parquet` <span style='color:#00ffff'>(0.65 MB, 2025-06-15 09:31)</span>"
      ],
      "text/plain": [
       "<IPython.core.display.Markdown object>"
      ]
     },
     "metadata": {},
     "output_type": "display_data"
    },
    {
     "data": {
      "text/markdown": [
       "- (75) `[DATA]` `2025-05-15_df_perf_ratios_stocks_etfs.parquet` <span style='color:#00ffff'>(0.33 MB, 2025-05-15 20:32)</span>"
      ],
      "text/plain": [
       "<IPython.core.display.Markdown object>"
      ]
     },
     "metadata": {},
     "output_type": "display_data"
    },
    {
     "data": {
      "text/markdown": [
       "- (76) `[DATA]` `2025-05-16_df_common_tickers_stocks_etfs.parquet` <span style='color:#00ffff'>(0.01 MB, 2025-05-18 09:08)</span>"
      ],
      "text/plain": [
       "<IPython.core.display.Markdown object>"
      ]
     },
     "metadata": {},
     "output_type": "display_data"
    },
    {
     "data": {
      "text/markdown": [
       "- (77) `[DATA]` `2025-05-16_df_finviz_merged_stocks_etfs.parquet` <span style='color:#00ffff'>(1.00 MB, 2025-07-03 16:40)</span>"
      ],
      "text/plain": [
       "<IPython.core.display.Markdown object>"
      ]
     },
     "metadata": {},
     "output_type": "display_data"
    },
    {
     "data": {
      "text/markdown": [
       "- (78) `[DATA]` `2025-05-16_df_finviz_n_ratios_stocks_etfs.parquet` <span style='color:#00ffff'>(0.98 MB, 2025-07-03 16:40)</span>"
      ],
      "text/plain": [
       "<IPython.core.display.Markdown object>"
      ]
     },
     "metadata": {},
     "output_type": "display_data"
    },
    {
     "data": {
      "text/markdown": [
       "- (79) `[DATA]` `2025-05-16_df_finviz_stocks_etfs.parquet` <span style='color:#00ffff'>(0.65 MB, 2025-06-15 09:31)</span>"
      ],
      "text/plain": [
       "<IPython.core.display.Markdown object>"
      ]
     },
     "metadata": {},
     "output_type": "display_data"
    },
    {
     "data": {
      "text/markdown": [
       "- (80) `[DATA]` `2025-05-16_df_perf_ratios_stocks_etfs.parquet` <span style='color:#00ffff'>(0.32 MB, 2025-05-18 09:07)</span>"
      ],
      "text/plain": [
       "<IPython.core.display.Markdown object>"
      ]
     },
     "metadata": {},
     "output_type": "display_data"
    },
    {
     "data": {
      "text/markdown": [
       "- (81) `[DATA]` `2025-05-19_df_common_tickers_stocks_etfs.parquet` <span style='color:#00ffff'>(0.01 MB, 2025-05-19 15:00)</span>"
      ],
      "text/plain": [
       "<IPython.core.display.Markdown object>"
      ]
     },
     "metadata": {},
     "output_type": "display_data"
    },
    {
     "data": {
      "text/markdown": [
       "- (82) `[DATA]` `2025-05-19_df_finviz_merged_stocks_etfs.parquet` <span style='color:#00ffff'>(1.00 MB, 2025-07-03 16:40)</span>"
      ],
      "text/plain": [
       "<IPython.core.display.Markdown object>"
      ]
     },
     "metadata": {},
     "output_type": "display_data"
    },
    {
     "data": {
      "text/markdown": [
       "- (83) `[DATA]` `2025-05-19_df_finviz_n_ratios_stocks_etfs.parquet` <span style='color:#00ffff'>(0.97 MB, 2025-07-03 16:40)</span>"
      ],
      "text/plain": [
       "<IPython.core.display.Markdown object>"
      ]
     },
     "metadata": {},
     "output_type": "display_data"
    },
    {
     "data": {
      "text/markdown": [
       "- (84) `[DATA]` `2025-05-19_df_finviz_stocks_etfs.parquet` <span style='color:#00ffff'>(0.65 MB, 2025-06-15 09:31)</span>"
      ],
      "text/plain": [
       "<IPython.core.display.Markdown object>"
      ]
     },
     "metadata": {},
     "output_type": "display_data"
    },
    {
     "data": {
      "text/markdown": [
       "- (85) `[DATA]` `2025-05-19_df_perf_ratios_stocks_etfs.parquet` <span style='color:#00ffff'>(0.32 MB, 2025-05-19 14:59)</span>"
      ],
      "text/plain": [
       "<IPython.core.display.Markdown object>"
      ]
     },
     "metadata": {},
     "output_type": "display_data"
    },
    {
     "data": {
      "text/markdown": [
       "- (86) `[DATA]` `2025-05-20_df_common_tickers_stocks_etfs.parquet` <span style='color:#00ffff'>(0.01 MB, 2025-05-20 15:08)</span>"
      ],
      "text/plain": [
       "<IPython.core.display.Markdown object>"
      ]
     },
     "metadata": {},
     "output_type": "display_data"
    },
    {
     "data": {
      "text/markdown": [
       "- (87) `[DATA]` `2025-05-20_df_finviz_merged_stocks_etfs.parquet` <span style='color:#00ffff'>(1.00 MB, 2025-07-03 16:40)</span>"
      ],
      "text/plain": [
       "<IPython.core.display.Markdown object>"
      ]
     },
     "metadata": {},
     "output_type": "display_data"
    },
    {
     "data": {
      "text/markdown": [
       "- (88) `[DATA]` `2025-05-20_df_finviz_n_ratios_stocks_etfs.parquet` <span style='color:#00ffff'>(0.97 MB, 2025-07-03 16:40)</span>"
      ],
      "text/plain": [
       "<IPython.core.display.Markdown object>"
      ]
     },
     "metadata": {},
     "output_type": "display_data"
    },
    {
     "data": {
      "text/markdown": [
       "- (89) `[DATA]` `2025-05-20_df_finviz_stocks_etfs.parquet` <span style='color:#00ffff'>(0.65 MB, 2025-06-15 09:31)</span>"
      ],
      "text/plain": [
       "<IPython.core.display.Markdown object>"
      ]
     },
     "metadata": {},
     "output_type": "display_data"
    },
    {
     "data": {
      "text/markdown": [
       "- (90) `[DATA]` `2025-05-20_df_perf_ratios_stocks_etfs.parquet` <span style='color:#00ffff'>(0.32 MB, 2025-05-20 15:08)</span>"
      ],
      "text/plain": [
       "<IPython.core.display.Markdown object>"
      ]
     },
     "metadata": {},
     "output_type": "display_data"
    },
    {
     "data": {
      "text/markdown": [
       "- (91) `[DATA]` `2025-05-21_df_common_tickers_stocks_etfs.parquet` <span style='color:#00ffff'>(0.01 MB, 2025-05-21 17:18)</span>"
      ],
      "text/plain": [
       "<IPython.core.display.Markdown object>"
      ]
     },
     "metadata": {},
     "output_type": "display_data"
    },
    {
     "data": {
      "text/markdown": [
       "- (92) `[DATA]` `2025-05-21_df_finviz_merged_stocks_etfs.parquet` <span style='color:#00ffff'>(1.00 MB, 2025-07-03 16:40)</span>"
      ],
      "text/plain": [
       "<IPython.core.display.Markdown object>"
      ]
     },
     "metadata": {},
     "output_type": "display_data"
    },
    {
     "data": {
      "text/markdown": [
       "- (93) `[DATA]` `2025-05-21_df_finviz_n_ratios_stocks_etfs.parquet` <span style='color:#00ffff'>(0.97 MB, 2025-07-03 16:40)</span>"
      ],
      "text/plain": [
       "<IPython.core.display.Markdown object>"
      ]
     },
     "metadata": {},
     "output_type": "display_data"
    },
    {
     "data": {
      "text/markdown": [
       "- (94) `[DATA]` `2025-05-21_df_finviz_stocks_etfs.parquet` <span style='color:#00ffff'>(0.65 MB, 2025-06-15 09:31)</span>"
      ],
      "text/plain": [
       "<IPython.core.display.Markdown object>"
      ]
     },
     "metadata": {},
     "output_type": "display_data"
    },
    {
     "data": {
      "text/markdown": [
       "- (95) `[DATA]` `2025-05-21_df_perf_ratios_stocks_etfs.parquet` <span style='color:#00ffff'>(0.32 MB, 2025-05-21 17:18)</span>"
      ],
      "text/plain": [
       "<IPython.core.display.Markdown object>"
      ]
     },
     "metadata": {},
     "output_type": "display_data"
    },
    {
     "data": {
      "text/markdown": [
       "- (96) `[DATA]` `2025-05-22_df_common_tickers_stocks_etfs.parquet` <span style='color:#00ffff'>(0.01 MB, 2025-05-22 14:05)</span>"
      ],
      "text/plain": [
       "<IPython.core.display.Markdown object>"
      ]
     },
     "metadata": {},
     "output_type": "display_data"
    },
    {
     "data": {
      "text/markdown": [
       "- (97) `[DATA]` `2025-05-22_df_finviz_merged_stocks_etfs.parquet` <span style='color:#00ffff'>(1.01 MB, 2025-07-03 16:40)</span>"
      ],
      "text/plain": [
       "<IPython.core.display.Markdown object>"
      ]
     },
     "metadata": {},
     "output_type": "display_data"
    },
    {
     "data": {
      "text/markdown": [
       "- (98) `[DATA]` `2025-05-22_df_finviz_n_ratios_stocks_etfs.parquet` <span style='color:#00ffff'>(0.98 MB, 2025-07-03 16:40)</span>"
      ],
      "text/plain": [
       "<IPython.core.display.Markdown object>"
      ]
     },
     "metadata": {},
     "output_type": "display_data"
    },
    {
     "data": {
      "text/markdown": [
       "- (99) `[DATA]` `2025-05-22_df_finviz_stocks_etfs.parquet` <span style='color:#00ffff'>(0.65 MB, 2025-06-15 09:31)</span>"
      ],
      "text/plain": [
       "<IPython.core.display.Markdown object>"
      ]
     },
     "metadata": {},
     "output_type": "display_data"
    },
    {
     "data": {
      "text/markdown": [
       "- (100) `[DATA]` `2025-05-22_df_perf_ratios_stocks_etfs.parquet` <span style='color:#00ffff'>(0.33 MB, 2025-05-22 14:05)</span>"
      ],
      "text/plain": [
       "<IPython.core.display.Markdown object>"
      ]
     },
     "metadata": {},
     "output_type": "display_data"
    },
    {
     "data": {
      "text/markdown": [
       "- (101) `[DATA]` `2025-05-23_df_common_tickers_stocks_etfs.parquet` <span style='color:#00ffff'>(0.01 MB, 2025-06-13 17:04)</span>"
      ],
      "text/plain": [
       "<IPython.core.display.Markdown object>"
      ]
     },
     "metadata": {},
     "output_type": "display_data"
    },
    {
     "data": {
      "text/markdown": [
       "- (102) `[DATA]` `2025-05-23_df_finviz_merged_stocks_etfs.parquet` <span style='color:#00ffff'>(1.01 MB, 2025-07-03 16:40)</span>"
      ],
      "text/plain": [
       "<IPython.core.display.Markdown object>"
      ]
     },
     "metadata": {},
     "output_type": "display_data"
    },
    {
     "data": {
      "text/markdown": [
       "- (103) `[DATA]` `2025-05-23_df_finviz_n_ratios_stocks_etfs.parquet` <span style='color:#00ffff'>(0.98 MB, 2025-07-03 16:40)</span>"
      ],
      "text/plain": [
       "<IPython.core.display.Markdown object>"
      ]
     },
     "metadata": {},
     "output_type": "display_data"
    },
    {
     "data": {
      "text/markdown": [
       "- (104) `[DATA]` `2025-05-23_df_finviz_stocks_etfs.parquet` <span style='color:#00ffff'>(0.65 MB, 2025-06-15 09:31)</span>"
      ],
      "text/plain": [
       "<IPython.core.display.Markdown object>"
      ]
     },
     "metadata": {},
     "output_type": "display_data"
    },
    {
     "data": {
      "text/markdown": [
       "- (105) `[DATA]` `2025-05-23_df_perf_ratios_stocks_etfs.parquet` <span style='color:#00ffff'>(0.33 MB, 2025-06-13 17:03)</span>"
      ],
      "text/plain": [
       "<IPython.core.display.Markdown object>"
      ]
     },
     "metadata": {},
     "output_type": "display_data"
    },
    {
     "data": {
      "text/markdown": [
       "- (106) `[DATA]` `2025-05-27_df_common_tickers_stocks_etfs.parquet` <span style='color:#00ffff'>(0.01 MB, 2025-06-13 17:12)</span>"
      ],
      "text/plain": [
       "<IPython.core.display.Markdown object>"
      ]
     },
     "metadata": {},
     "output_type": "display_data"
    },
    {
     "data": {
      "text/markdown": [
       "- (107) `[DATA]` `2025-05-27_df_finviz_merged_stocks_etfs.parquet` <span style='color:#00ffff'>(1.01 MB, 2025-07-03 16:40)</span>"
      ],
      "text/plain": [
       "<IPython.core.display.Markdown object>"
      ]
     },
     "metadata": {},
     "output_type": "display_data"
    },
    {
     "data": {
      "text/markdown": [
       "- (108) `[DATA]` `2025-05-27_df_finviz_n_ratios_stocks_etfs.parquet` <span style='color:#00ffff'>(0.98 MB, 2025-07-03 16:40)</span>"
      ],
      "text/plain": [
       "<IPython.core.display.Markdown object>"
      ]
     },
     "metadata": {},
     "output_type": "display_data"
    },
    {
     "data": {
      "text/markdown": [
       "- (109) `[DATA]` `2025-05-27_df_finviz_stocks_etfs.parquet` <span style='color:#00ffff'>(0.65 MB, 2025-06-15 09:31)</span>"
      ],
      "text/plain": [
       "<IPython.core.display.Markdown object>"
      ]
     },
     "metadata": {},
     "output_type": "display_data"
    },
    {
     "data": {
      "text/markdown": [
       "- (110) `[DATA]` `2025-05-27_df_perf_ratios_stocks_etfs.parquet` <span style='color:#00ffff'>(0.33 MB, 2025-06-13 17:12)</span>"
      ],
      "text/plain": [
       "<IPython.core.display.Markdown object>"
      ]
     },
     "metadata": {},
     "output_type": "display_data"
    },
    {
     "data": {
      "text/markdown": [
       "- (111) `[DATA]` `2025-05-28_df_common_tickers_stocks_etfs.parquet` <span style='color:#00ffff'>(0.01 MB, 2025-06-13 18:03)</span>"
      ],
      "text/plain": [
       "<IPython.core.display.Markdown object>"
      ]
     },
     "metadata": {},
     "output_type": "display_data"
    },
    {
     "data": {
      "text/markdown": [
       "- (112) `[DATA]` `2025-05-28_df_finviz_merged_stocks_etfs.parquet` <span style='color:#00ffff'>(1.01 MB, 2025-07-03 16:40)</span>"
      ],
      "text/plain": [
       "<IPython.core.display.Markdown object>"
      ]
     },
     "metadata": {},
     "output_type": "display_data"
    },
    {
     "data": {
      "text/markdown": [
       "- (113) `[DATA]` `2025-05-28_df_finviz_n_ratios_stocks_etfs.parquet` <span style='color:#00ffff'>(0.99 MB, 2025-07-03 16:40)</span>"
      ],
      "text/plain": [
       "<IPython.core.display.Markdown object>"
      ]
     },
     "metadata": {},
     "output_type": "display_data"
    },
    {
     "data": {
      "text/markdown": [
       "- (114) `[DATA]` `2025-05-28_df_finviz_stocks_etfs.parquet` <span style='color:#00ffff'>(0.65 MB, 2025-06-15 09:31)</span>"
      ],
      "text/plain": [
       "<IPython.core.display.Markdown object>"
      ]
     },
     "metadata": {},
     "output_type": "display_data"
    },
    {
     "data": {
      "text/markdown": [
       "- (115) `[DATA]` `2025-05-28_df_perf_ratios_stocks_etfs.parquet` <span style='color:#00ffff'>(0.33 MB, 2025-06-13 18:03)</span>"
      ],
      "text/plain": [
       "<IPython.core.display.Markdown object>"
      ]
     },
     "metadata": {},
     "output_type": "display_data"
    },
    {
     "data": {
      "text/markdown": [
       "- (116) `[DATA]` `2025-05-29_df_common_tickers_stocks_etfs.parquet` <span style='color:#00ffff'>(0.01 MB, 2025-06-13 18:11)</span>"
      ],
      "text/plain": [
       "<IPython.core.display.Markdown object>"
      ]
     },
     "metadata": {},
     "output_type": "display_data"
    },
    {
     "data": {
      "text/markdown": [
       "- (117) `[DATA]` `2025-05-29_df_finviz_merged_stocks_etfs.parquet` <span style='color:#00ffff'>(1.01 MB, 2025-07-03 16:40)</span>"
      ],
      "text/plain": [
       "<IPython.core.display.Markdown object>"
      ]
     },
     "metadata": {},
     "output_type": "display_data"
    },
    {
     "data": {
      "text/markdown": [
       "- (118) `[DATA]` `2025-05-29_df_finviz_n_ratios_stocks_etfs.parquet` <span style='color:#00ffff'>(0.99 MB, 2025-07-03 16:40)</span>"
      ],
      "text/plain": [
       "<IPython.core.display.Markdown object>"
      ]
     },
     "metadata": {},
     "output_type": "display_data"
    },
    {
     "data": {
      "text/markdown": [
       "- (119) `[DATA]` `2025-05-29_df_finviz_stocks_etfs.parquet` <span style='color:#00ffff'>(0.65 MB, 2025-06-15 09:31)</span>"
      ],
      "text/plain": [
       "<IPython.core.display.Markdown object>"
      ]
     },
     "metadata": {},
     "output_type": "display_data"
    },
    {
     "data": {
      "text/markdown": [
       "- (120) `[DATA]` `2025-05-29_df_perf_ratios_stocks_etfs.parquet` <span style='color:#00ffff'>(0.33 MB, 2025-06-13 18:11)</span>"
      ],
      "text/plain": [
       "<IPython.core.display.Markdown object>"
      ]
     },
     "metadata": {},
     "output_type": "display_data"
    },
    {
     "data": {
      "text/markdown": [
       "- (121) `[DATA]` `2025-05-30_df_common_tickers_stocks_etfs.parquet` <span style='color:#00ffff'>(0.01 MB, 2025-06-13 18:20)</span>"
      ],
      "text/plain": [
       "<IPython.core.display.Markdown object>"
      ]
     },
     "metadata": {},
     "output_type": "display_data"
    },
    {
     "data": {
      "text/markdown": [
       "- (122) `[DATA]` `2025-05-30_df_finviz_merged_stocks_etfs.parquet` <span style='color:#00ffff'>(1.01 MB, 2025-07-03 16:40)</span>"
      ],
      "text/plain": [
       "<IPython.core.display.Markdown object>"
      ]
     },
     "metadata": {},
     "output_type": "display_data"
    },
    {
     "data": {
      "text/markdown": [
       "- (123) `[DATA]` `2025-05-30_df_finviz_n_ratios_stocks_etfs.parquet` <span style='color:#00ffff'>(0.98 MB, 2025-07-03 16:40)</span>"
      ],
      "text/plain": [
       "<IPython.core.display.Markdown object>"
      ]
     },
     "metadata": {},
     "output_type": "display_data"
    },
    {
     "data": {
      "text/markdown": [
       "- (124) `[DATA]` `2025-05-30_df_finviz_stocks_etfs.parquet` <span style='color:#00ffff'>(0.65 MB, 2025-06-15 09:31)</span>"
      ],
      "text/plain": [
       "<IPython.core.display.Markdown object>"
      ]
     },
     "metadata": {},
     "output_type": "display_data"
    },
    {
     "data": {
      "text/markdown": [
       "- (125) `[DATA]` `2025-05-30_df_perf_ratios_stocks_etfs.parquet` <span style='color:#00ffff'>(0.33 MB, 2025-06-13 18:20)</span>"
      ],
      "text/plain": [
       "<IPython.core.display.Markdown object>"
      ]
     },
     "metadata": {},
     "output_type": "display_data"
    },
    {
     "data": {
      "text/markdown": [
       "- (126) `[DATA]` `2025-06-02_df_common_tickers_stocks_etfs.parquet` <span style='color:#00ffff'>(0.01 MB, 2025-06-13 18:46)</span>"
      ],
      "text/plain": [
       "<IPython.core.display.Markdown object>"
      ]
     },
     "metadata": {},
     "output_type": "display_data"
    },
    {
     "data": {
      "text/markdown": [
       "- (127) `[DATA]` `2025-06-02_df_finviz_merged_stocks_etfs.parquet` <span style='color:#00ffff'>(1.01 MB, 2025-07-03 16:40)</span>"
      ],
      "text/plain": [
       "<IPython.core.display.Markdown object>"
      ]
     },
     "metadata": {},
     "output_type": "display_data"
    },
    {
     "data": {
      "text/markdown": [
       "- (128) `[DATA]` `2025-06-02_df_finviz_n_ratios_stocks_etfs.parquet` <span style='color:#00ffff'>(0.99 MB, 2025-07-03 16:40)</span>"
      ],
      "text/plain": [
       "<IPython.core.display.Markdown object>"
      ]
     },
     "metadata": {},
     "output_type": "display_data"
    },
    {
     "data": {
      "text/markdown": [
       "- (129) `[DATA]` `2025-06-02_df_finviz_stocks_etfs.parquet` <span style='color:#00ffff'>(0.65 MB, 2025-06-15 09:31)</span>"
      ],
      "text/plain": [
       "<IPython.core.display.Markdown object>"
      ]
     },
     "metadata": {},
     "output_type": "display_data"
    },
    {
     "data": {
      "text/markdown": [
       "- (130) `[DATA]` `2025-06-02_df_perf_ratios_stocks_etfs.parquet` <span style='color:#00ffff'>(0.33 MB, 2025-06-13 18:46)</span>"
      ],
      "text/plain": [
       "<IPython.core.display.Markdown object>"
      ]
     },
     "metadata": {},
     "output_type": "display_data"
    },
    {
     "data": {
      "text/markdown": [
       "- (131) `[DATA]` `2025-06-03_df_common_tickers_stocks_etfs.parquet` <span style='color:#00ffff'>(0.01 MB, 2025-06-13 18:55)</span>"
      ],
      "text/plain": [
       "<IPython.core.display.Markdown object>"
      ]
     },
     "metadata": {},
     "output_type": "display_data"
    },
    {
     "data": {
      "text/markdown": [
       "- (132) `[DATA]` `2025-06-03_df_finviz_merged_stocks_etfs.parquet` <span style='color:#00ffff'>(1.01 MB, 2025-07-03 16:40)</span>"
      ],
      "text/plain": [
       "<IPython.core.display.Markdown object>"
      ]
     },
     "metadata": {},
     "output_type": "display_data"
    },
    {
     "data": {
      "text/markdown": [
       "- (133) `[DATA]` `2025-06-03_df_finviz_n_ratios_stocks_etfs.parquet` <span style='color:#00ffff'>(0.98 MB, 2025-07-03 16:40)</span>"
      ],
      "text/plain": [
       "<IPython.core.display.Markdown object>"
      ]
     },
     "metadata": {},
     "output_type": "display_data"
    },
    {
     "data": {
      "text/markdown": [
       "- (134) `[DATA]` `2025-06-03_df_finviz_stocks_etfs.parquet` <span style='color:#00ffff'>(0.65 MB, 2025-06-15 09:31)</span>"
      ],
      "text/plain": [
       "<IPython.core.display.Markdown object>"
      ]
     },
     "metadata": {},
     "output_type": "display_data"
    },
    {
     "data": {
      "text/markdown": [
       "- (135) `[DATA]` `2025-06-03_df_perf_ratios_stocks_etfs.parquet` <span style='color:#00ffff'>(0.33 MB, 2025-06-13 18:55)</span>"
      ],
      "text/plain": [
       "<IPython.core.display.Markdown object>"
      ]
     },
     "metadata": {},
     "output_type": "display_data"
    },
    {
     "data": {
      "text/markdown": [
       "- (136) `[DATA]` `2025-06-04_df_common_tickers_stocks_etfs.parquet` <span style='color:#00ffff'>(0.01 MB, 2025-06-13 19:08)</span>"
      ],
      "text/plain": [
       "<IPython.core.display.Markdown object>"
      ]
     },
     "metadata": {},
     "output_type": "display_data"
    },
    {
     "data": {
      "text/markdown": [
       "- (137) `[DATA]` `2025-06-04_df_finviz_merged_stocks_etfs.parquet` <span style='color:#00ffff'>(1.01 MB, 2025-07-03 16:40)</span>"
      ],
      "text/plain": [
       "<IPython.core.display.Markdown object>"
      ]
     },
     "metadata": {},
     "output_type": "display_data"
    },
    {
     "data": {
      "text/markdown": [
       "- (138) `[DATA]` `2025-06-04_df_finviz_n_ratios_stocks_etfs.parquet` <span style='color:#00ffff'>(0.98 MB, 2025-07-03 16:40)</span>"
      ],
      "text/plain": [
       "<IPython.core.display.Markdown object>"
      ]
     },
     "metadata": {},
     "output_type": "display_data"
    },
    {
     "data": {
      "text/markdown": [
       "- (139) `[DATA]` `2025-06-04_df_finviz_stocks_etfs.parquet` <span style='color:#00ffff'>(0.65 MB, 2025-06-15 09:31)</span>"
      ],
      "text/plain": [
       "<IPython.core.display.Markdown object>"
      ]
     },
     "metadata": {},
     "output_type": "display_data"
    },
    {
     "data": {
      "text/markdown": [
       "- (140) `[DATA]` `2025-06-04_df_perf_ratios_stocks_etfs.parquet` <span style='color:#00ffff'>(0.33 MB, 2025-06-13 19:08)</span>"
      ],
      "text/plain": [
       "<IPython.core.display.Markdown object>"
      ]
     },
     "metadata": {},
     "output_type": "display_data"
    },
    {
     "data": {
      "text/markdown": [
       "- (141) `[DATA]` `2025-06-05_df_common_tickers_stocks_etfs.parquet` <span style='color:#00ffff'>(0.01 MB, 2025-06-13 19:16)</span>"
      ],
      "text/plain": [
       "<IPython.core.display.Markdown object>"
      ]
     },
     "metadata": {},
     "output_type": "display_data"
    },
    {
     "data": {
      "text/markdown": [
       "- (142) `[DATA]` `2025-06-05_df_finviz_merged_stocks_etfs.parquet` <span style='color:#00ffff'>(1.01 MB, 2025-07-03 16:40)</span>"
      ],
      "text/plain": [
       "<IPython.core.display.Markdown object>"
      ]
     },
     "metadata": {},
     "output_type": "display_data"
    },
    {
     "data": {
      "text/markdown": [
       "- (143) `[DATA]` `2025-06-05_df_finviz_n_ratios_stocks_etfs.parquet` <span style='color:#00ffff'>(0.98 MB, 2025-07-03 16:40)</span>"
      ],
      "text/plain": [
       "<IPython.core.display.Markdown object>"
      ]
     },
     "metadata": {},
     "output_type": "display_data"
    },
    {
     "data": {
      "text/markdown": [
       "- (144) `[DATA]` `2025-06-05_df_finviz_stocks_etfs.parquet` <span style='color:#00ffff'>(0.65 MB, 2025-06-15 09:31)</span>"
      ],
      "text/plain": [
       "<IPython.core.display.Markdown object>"
      ]
     },
     "metadata": {},
     "output_type": "display_data"
    },
    {
     "data": {
      "text/markdown": [
       "- (145) `[DATA]` `2025-06-05_df_perf_ratios_stocks_etfs.parquet` <span style='color:#00ffff'>(0.33 MB, 2025-06-13 19:16)</span>"
      ],
      "text/plain": [
       "<IPython.core.display.Markdown object>"
      ]
     },
     "metadata": {},
     "output_type": "display_data"
    },
    {
     "data": {
      "text/markdown": [
       "- (146) `[DATA]` `2025-06-06_df_common_tickers_stocks_etfs.parquet` <span style='color:#00ffff'>(0.01 MB, 2025-06-13 19:25)</span>"
      ],
      "text/plain": [
       "<IPython.core.display.Markdown object>"
      ]
     },
     "metadata": {},
     "output_type": "display_data"
    },
    {
     "data": {
      "text/markdown": [
       "- (147) `[DATA]` `2025-06-06_df_finviz_merged_stocks_etfs.parquet` <span style='color:#00ffff'>(1.01 MB, 2025-07-03 16:40)</span>"
      ],
      "text/plain": [
       "<IPython.core.display.Markdown object>"
      ]
     },
     "metadata": {},
     "output_type": "display_data"
    },
    {
     "data": {
      "text/markdown": [
       "- (148) `[DATA]` `2025-06-06_df_finviz_n_ratios_stocks_etfs.parquet` <span style='color:#00ffff'>(0.98 MB, 2025-07-03 16:40)</span>"
      ],
      "text/plain": [
       "<IPython.core.display.Markdown object>"
      ]
     },
     "metadata": {},
     "output_type": "display_data"
    },
    {
     "data": {
      "text/markdown": [
       "- (149) `[DATA]` `2025-06-06_df_finviz_stocks_etfs.parquet` <span style='color:#00ffff'>(0.65 MB, 2025-06-15 09:31)</span>"
      ],
      "text/plain": [
       "<IPython.core.display.Markdown object>"
      ]
     },
     "metadata": {},
     "output_type": "display_data"
    },
    {
     "data": {
      "text/markdown": [
       "- (150) `[DATA]` `2025-06-06_df_perf_ratios_stocks_etfs.parquet` <span style='color:#00ffff'>(0.32 MB, 2025-06-13 19:25)</span>"
      ],
      "text/plain": [
       "<IPython.core.display.Markdown object>"
      ]
     },
     "metadata": {},
     "output_type": "display_data"
    },
    {
     "data": {
      "text/markdown": [
       "- (151) `[DATA]` `2025-06-09_df_common_tickers_stocks_etfs.parquet` <span style='color:#00ffff'>(0.01 MB, 2025-06-15 10:03)</span>"
      ],
      "text/plain": [
       "<IPython.core.display.Markdown object>"
      ]
     },
     "metadata": {},
     "output_type": "display_data"
    },
    {
     "data": {
      "text/markdown": [
       "- (152) `[DATA]` `2025-06-09_df_finviz_merged_stocks_etfs.parquet` <span style='color:#00ffff'>(0.86 MB, 2025-06-15 10:09)</span>"
      ],
      "text/plain": [
       "<IPython.core.display.Markdown object>"
      ]
     },
     "metadata": {},
     "output_type": "display_data"
    },
    {
     "data": {
      "text/markdown": [
       "- (153) `[DATA]` `2025-06-09_df_finviz_n_ratios_stocks_etfs.parquet` <span style='color:#00ffff'>(0.83 MB, 2025-06-15 10:03)</span>"
      ],
      "text/plain": [
       "<IPython.core.display.Markdown object>"
      ]
     },
     "metadata": {},
     "output_type": "display_data"
    },
    {
     "data": {
      "text/markdown": [
       "- (154) `[DATA]` `2025-06-09_df_finviz_stocks_etfs.parquet` <span style='color:#00ffff'>(0.53 MB, 2025-06-13 19:28)</span>"
      ],
      "text/plain": [
       "<IPython.core.display.Markdown object>"
      ]
     },
     "metadata": {},
     "output_type": "display_data"
    },
    {
     "data": {
      "text/markdown": [
       "- (155) `[DATA]` `2025-06-09_df_perf_ratios_stocks_etfs.parquet` <span style='color:#00ffff'>(0.32 MB, 2025-06-13 19:33)</span>"
      ],
      "text/plain": [
       "<IPython.core.display.Markdown object>"
      ]
     },
     "metadata": {},
     "output_type": "display_data"
    },
    {
     "data": {
      "text/markdown": [
       "- (156) `[DATA]` `2025-06-10_df_common_tickers_stocks_etfs.parquet` <span style='color:#00ffff'>(0.01 MB, 2025-06-13 19:44)</span>"
      ],
      "text/plain": [
       "<IPython.core.display.Markdown object>"
      ]
     },
     "metadata": {},
     "output_type": "display_data"
    },
    {
     "data": {
      "text/markdown": [
       "- (157) `[DATA]` `2025-06-10_df_finviz_merged_stocks_etfs.parquet` <span style='color:#00ffff'>(0.86 MB, 2025-06-15 10:09)</span>"
      ],
      "text/plain": [
       "<IPython.core.display.Markdown object>"
      ]
     },
     "metadata": {},
     "output_type": "display_data"
    },
    {
     "data": {
      "text/markdown": [
       "- (158) `[DATA]` `2025-06-10_df_finviz_n_ratios_stocks_etfs.parquet` <span style='color:#00ffff'>(0.83 MB, 2025-06-13 19:44)</span>"
      ],
      "text/plain": [
       "<IPython.core.display.Markdown object>"
      ]
     },
     "metadata": {},
     "output_type": "display_data"
    },
    {
     "data": {
      "text/markdown": [
       "- (159) `[DATA]` `2025-06-10_df_finviz_stocks_etfs.parquet` <span style='color:#00ffff'>(0.53 MB, 2025-06-13 19:37)</span>"
      ],
      "text/plain": [
       "<IPython.core.display.Markdown object>"
      ]
     },
     "metadata": {},
     "output_type": "display_data"
    },
    {
     "data": {
      "text/markdown": [
       "- (160) `[DATA]` `2025-06-10_df_perf_ratios_stocks_etfs.parquet` <span style='color:#00ffff'>(0.32 MB, 2025-06-13 19:43)</span>"
      ],
      "text/plain": [
       "<IPython.core.display.Markdown object>"
      ]
     },
     "metadata": {},
     "output_type": "display_data"
    },
    {
     "data": {
      "text/markdown": [
       "- (161) `[DATA]` `2025-06-11_df_common_tickers_stocks_etfs.parquet` <span style='color:#00ffff'>(0.01 MB, 2025-06-13 19:51)</span>"
      ],
      "text/plain": [
       "<IPython.core.display.Markdown object>"
      ]
     },
     "metadata": {},
     "output_type": "display_data"
    },
    {
     "data": {
      "text/markdown": [
       "- (162) `[DATA]` `2025-06-11_df_finviz_merged_stocks_etfs.parquet` <span style='color:#00ffff'>(0.86 MB, 2025-06-15 10:09)</span>"
      ],
      "text/plain": [
       "<IPython.core.display.Markdown object>"
      ]
     },
     "metadata": {},
     "output_type": "display_data"
    },
    {
     "data": {
      "text/markdown": [
       "- (163) `[DATA]` `2025-06-11_df_finviz_n_ratios_stocks_etfs.parquet` <span style='color:#00ffff'>(0.83 MB, 2025-06-13 19:51)</span>"
      ],
      "text/plain": [
       "<IPython.core.display.Markdown object>"
      ]
     },
     "metadata": {},
     "output_type": "display_data"
    },
    {
     "data": {
      "text/markdown": [
       "- (164) `[DATA]` `2025-06-11_df_finviz_stocks_etfs.parquet` <span style='color:#00ffff'>(0.52 MB, 2025-06-13 19:46)</span>"
      ],
      "text/plain": [
       "<IPython.core.display.Markdown object>"
      ]
     },
     "metadata": {},
     "output_type": "display_data"
    },
    {
     "data": {
      "text/markdown": [
       "- (165) `[DATA]` `2025-06-11_df_perf_ratios_stocks_etfs.parquet` <span style='color:#00ffff'>(0.33 MB, 2025-06-13 19:51)</span>"
      ],
      "text/plain": [
       "<IPython.core.display.Markdown object>"
      ]
     },
     "metadata": {},
     "output_type": "display_data"
    },
    {
     "data": {
      "text/markdown": [
       "- (166) `[DATA]` `2025-06-12_df_common_tickers_stocks_etfs.parquet` <span style='color:#00ffff'>(0.01 MB, 2025-06-15 10:11)</span>"
      ],
      "text/plain": [
       "<IPython.core.display.Markdown object>"
      ]
     },
     "metadata": {},
     "output_type": "display_data"
    },
    {
     "data": {
      "text/markdown": [
       "- (167) `[DATA]` `2025-06-12_df_finviz_merged_stocks_etfs.parquet` <span style='color:#00ffff'>(0.86 MB, 2025-06-15 10:10)</span>"
      ],
      "text/plain": [
       "<IPython.core.display.Markdown object>"
      ]
     },
     "metadata": {},
     "output_type": "display_data"
    },
    {
     "data": {
      "text/markdown": [
       "- (168) `[DATA]` `2025-06-12_df_finviz_n_ratios_stocks_etfs.parquet` <span style='color:#00ffff'>(0.83 MB, 2025-06-15 10:11)</span>"
      ],
      "text/plain": [
       "<IPython.core.display.Markdown object>"
      ]
     },
     "metadata": {},
     "output_type": "display_data"
    },
    {
     "data": {
      "text/markdown": [
       "- (169) `[DATA]` `2025-06-12_df_finviz_stocks_etfs.parquet` <span style='color:#00ffff'>(0.52 MB, 2025-06-13 19:54)</span>"
      ],
      "text/plain": [
       "<IPython.core.display.Markdown object>"
      ]
     },
     "metadata": {},
     "output_type": "display_data"
    },
    {
     "data": {
      "text/markdown": [
       "- (170) `[DATA]` `2025-06-12_df_perf_ratios_stocks_etfs.parquet` <span style='color:#00ffff'>(0.33 MB, 2025-06-13 19:59)</span>"
      ],
      "text/plain": [
       "<IPython.core.display.Markdown object>"
      ]
     },
     "metadata": {},
     "output_type": "display_data"
    },
    {
     "data": {
      "text/markdown": [
       "- (171) `[DATA]` `2025-06-13_df_common_tickers_stocks_etfs.parquet` <span style='color:#00ffff'>(0.01 MB, 2025-06-14 17:21)</span>"
      ],
      "text/plain": [
       "<IPython.core.display.Markdown object>"
      ]
     },
     "metadata": {},
     "output_type": "display_data"
    },
    {
     "data": {
      "text/markdown": [
       "- (172) `[DATA]` `2025-06-13_df_finviz_merged_stocks_etfs.parquet` <span style='color:#00ffff'>(0.87 MB, 2025-06-14 18:09)</span>"
      ],
      "text/plain": [
       "<IPython.core.display.Markdown object>"
      ]
     },
     "metadata": {},
     "output_type": "display_data"
    },
    {
     "data": {
      "text/markdown": [
       "- (173) `[DATA]` `2025-06-13_df_finviz_n_ratios_stocks_etfs.parquet` <span style='color:#00ffff'>(0.84 MB, 2025-06-14 17:21)</span>"
      ],
      "text/plain": [
       "<IPython.core.display.Markdown object>"
      ]
     },
     "metadata": {},
     "output_type": "display_data"
    },
    {
     "data": {
      "text/markdown": [
       "- (174) `[DATA]` `2025-06-13_df_finviz_stocks_etfs.parquet` <span style='color:#00ffff'>(0.53 MB, 2025-06-14 17:01)</span>"
      ],
      "text/plain": [
       "<IPython.core.display.Markdown object>"
      ]
     },
     "metadata": {},
     "output_type": "display_data"
    },
    {
     "data": {
      "text/markdown": [
       "- (175) `[DATA]` `2025-06-13_df_perf_ratios_stocks_etfs.parquet` <span style='color:#00ffff'>(0.34 MB, 2025-06-14 17:03)</span>"
      ],
      "text/plain": [
       "<IPython.core.display.Markdown object>"
      ]
     },
     "metadata": {},
     "output_type": "display_data"
    },
    {
     "data": {
      "text/markdown": [
       "- (176) `[DATA]` `2025-06-16_df_common_tickers_stocks_etfs.parquet` <span style='color:#00ffff'>(0.01 MB, 2025-06-21 17:26)</span>"
      ],
      "text/plain": [
       "<IPython.core.display.Markdown object>"
      ]
     },
     "metadata": {},
     "output_type": "display_data"
    },
    {
     "data": {
      "text/markdown": [
       "- (177) `[DATA]` `2025-06-16_df_finviz_merged_stocks_etfs.parquet` <span style='color:#00ffff'>(0.87 MB, 2025-06-21 17:27)</span>"
      ],
      "text/plain": [
       "<IPython.core.display.Markdown object>"
      ]
     },
     "metadata": {},
     "output_type": "display_data"
    },
    {
     "data": {
      "text/markdown": [
       "- (178) `[DATA]` `2025-06-16_df_finviz_n_ratios_stocks_etfs.parquet` <span style='color:#00ffff'>(0.84 MB, 2025-06-21 17:26)</span>"
      ],
      "text/plain": [
       "<IPython.core.display.Markdown object>"
      ]
     },
     "metadata": {},
     "output_type": "display_data"
    },
    {
     "data": {
      "text/markdown": [
       "- (179) `[DATA]` `2025-06-16_df_finviz_stocks_etfs.parquet` <span style='color:#00ffff'>(0.53 MB, 2025-06-21 17:05)</span>"
      ],
      "text/plain": [
       "<IPython.core.display.Markdown object>"
      ]
     },
     "metadata": {},
     "output_type": "display_data"
    },
    {
     "data": {
      "text/markdown": [
       "- (180) `[DATA]` `2025-06-16_df_perf_ratios_stocks_etfs.parquet` <span style='color:#00ffff'>(0.34 MB, 2025-06-21 17:26)</span>"
      ],
      "text/plain": [
       "<IPython.core.display.Markdown object>"
      ]
     },
     "metadata": {},
     "output_type": "display_data"
    },
    {
     "data": {
      "text/markdown": [
       "- (181) `[DATA]` `2025-06-17_df_common_tickers_stocks_etfs.parquet` <span style='color:#00ffff'>(0.01 MB, 2025-06-22 08:10)</span>"
      ],
      "text/plain": [
       "<IPython.core.display.Markdown object>"
      ]
     },
     "metadata": {},
     "output_type": "display_data"
    },
    {
     "data": {
      "text/markdown": [
       "- (182) `[DATA]` `2025-06-17_df_finviz_merged_stocks_etfs.parquet` <span style='color:#00ffff'>(0.87 MB, 2025-06-22 08:10)</span>"
      ],
      "text/plain": [
       "<IPython.core.display.Markdown object>"
      ]
     },
     "metadata": {},
     "output_type": "display_data"
    },
    {
     "data": {
      "text/markdown": [
       "- (183) `[DATA]` `2025-06-17_df_finviz_n_ratios_stocks_etfs.parquet` <span style='color:#00ffff'>(0.84 MB, 2025-06-22 08:10)</span>"
      ],
      "text/plain": [
       "<IPython.core.display.Markdown object>"
      ]
     },
     "metadata": {},
     "output_type": "display_data"
    },
    {
     "data": {
      "text/markdown": [
       "- (184) `[DATA]` `2025-06-17_df_finviz_stocks_etfs.parquet` <span style='color:#00ffff'>(0.53 MB, 2025-06-22 08:08)</span>"
      ],
      "text/plain": [
       "<IPython.core.display.Markdown object>"
      ]
     },
     "metadata": {},
     "output_type": "display_data"
    },
    {
     "data": {
      "text/markdown": [
       "- (185) `[DATA]` `2025-06-17_df_perf_ratios_stocks_etfs.parquet` <span style='color:#00ffff'>(0.34 MB, 2025-06-22 08:10)</span>"
      ],
      "text/plain": [
       "<IPython.core.display.Markdown object>"
      ]
     },
     "metadata": {},
     "output_type": "display_data"
    },
    {
     "data": {
      "text/markdown": [
       "- (186) `[DATA]` `2025-06-18_df_common_tickers_stocks_etfs.parquet` <span style='color:#00ffff'>(0.01 MB, 2025-06-22 08:14)</span>"
      ],
      "text/plain": [
       "<IPython.core.display.Markdown object>"
      ]
     },
     "metadata": {},
     "output_type": "display_data"
    },
    {
     "data": {
      "text/markdown": [
       "- (187) `[DATA]` `2025-06-18_df_finviz_merged_stocks_etfs.parquet` <span style='color:#00ffff'>(0.85 MB, 2025-06-22 08:14)</span>"
      ],
      "text/plain": [
       "<IPython.core.display.Markdown object>"
      ]
     },
     "metadata": {},
     "output_type": "display_data"
    },
    {
     "data": {
      "text/markdown": [
       "- (188) `[DATA]` `2025-06-18_df_finviz_n_ratios_stocks_etfs.parquet` <span style='color:#00ffff'>(0.83 MB, 2025-06-22 08:14)</span>"
      ],
      "text/plain": [
       "<IPython.core.display.Markdown object>"
      ]
     },
     "metadata": {},
     "output_type": "display_data"
    },
    {
     "data": {
      "text/markdown": [
       "- (189) `[DATA]` `2025-06-18_df_finviz_stocks_etfs.parquet` <span style='color:#00ffff'>(0.52 MB, 2025-06-22 08:12)</span>"
      ],
      "text/plain": [
       "<IPython.core.display.Markdown object>"
      ]
     },
     "metadata": {},
     "output_type": "display_data"
    },
    {
     "data": {
      "text/markdown": [
       "- (190) `[DATA]` `2025-06-18_df_perf_ratios_stocks_etfs.parquet` <span style='color:#00ffff'>(0.33 MB, 2025-06-22 08:14)</span>"
      ],
      "text/plain": [
       "<IPython.core.display.Markdown object>"
      ]
     },
     "metadata": {},
     "output_type": "display_data"
    },
    {
     "data": {
      "text/markdown": [
       "- (191) `[DATA]` `2025-06-19_df_common_tickers_stocks_etfs.parquet` <span style='color:#00ffff'>(0.01 MB, 2025-06-22 08:18)</span>"
      ],
      "text/plain": [
       "<IPython.core.display.Markdown object>"
      ]
     },
     "metadata": {},
     "output_type": "display_data"
    },
    {
     "data": {
      "text/markdown": [
       "- (192) `[DATA]` `2025-06-19_df_finviz_merged_stocks_etfs.parquet` <span style='color:#00ffff'>(0.86 MB, 2025-06-22 08:18)</span>"
      ],
      "text/plain": [
       "<IPython.core.display.Markdown object>"
      ]
     },
     "metadata": {},
     "output_type": "display_data"
    },
    {
     "data": {
      "text/markdown": [
       "- (193) `[DATA]` `2025-06-19_df_finviz_n_ratios_stocks_etfs.parquet` <span style='color:#00ffff'>(0.84 MB, 2025-06-22 08:18)</span>"
      ],
      "text/plain": [
       "<IPython.core.display.Markdown object>"
      ]
     },
     "metadata": {},
     "output_type": "display_data"
    },
    {
     "data": {
      "text/markdown": [
       "- (194) `[DATA]` `2025-06-19_df_finviz_stocks_etfs.parquet` <span style='color:#00ffff'>(0.52 MB, 2025-06-22 08:16)</span>"
      ],
      "text/plain": [
       "<IPython.core.display.Markdown object>"
      ]
     },
     "metadata": {},
     "output_type": "display_data"
    },
    {
     "data": {
      "text/markdown": [
       "- (195) `[DATA]` `2025-06-19_df_perf_ratios_stocks_etfs.parquet` <span style='color:#00ffff'>(0.33 MB, 2025-06-22 08:18)</span>"
      ],
      "text/plain": [
       "<IPython.core.display.Markdown object>"
      ]
     },
     "metadata": {},
     "output_type": "display_data"
    },
    {
     "data": {
      "text/markdown": [
       "- (196) `[DATA]` `2025-06-20_df_common_tickers_stocks_etfs.parquet` <span style='color:#00ffff'>(0.01 MB, 2025-06-22 09:23)</span>"
      ],
      "text/plain": [
       "<IPython.core.display.Markdown object>"
      ]
     },
     "metadata": {},
     "output_type": "display_data"
    },
    {
     "data": {
      "text/markdown": [
       "- (197) `[DATA]` `2025-06-20_df_finviz_merged_stocks_etfs.parquet` <span style='color:#00ffff'>(0.86 MB, 2025-06-22 09:23)</span>"
      ],
      "text/plain": [
       "<IPython.core.display.Markdown object>"
      ]
     },
     "metadata": {},
     "output_type": "display_data"
    },
    {
     "data": {
      "text/markdown": [
       "- (198) `[DATA]` `2025-06-20_df_finviz_n_ratios_stocks_etfs.parquet` <span style='color:#00ffff'>(0.83 MB, 2025-06-22 09:23)</span>"
      ],
      "text/plain": [
       "<IPython.core.display.Markdown object>"
      ]
     },
     "metadata": {},
     "output_type": "display_data"
    },
    {
     "data": {
      "text/markdown": [
       "- (199) `[DATA]` `2025-06-20_df_finviz_stocks_etfs.parquet` <span style='color:#00ffff'>(0.52 MB, 2025-06-22 09:21)</span>"
      ],
      "text/plain": [
       "<IPython.core.display.Markdown object>"
      ]
     },
     "metadata": {},
     "output_type": "display_data"
    },
    {
     "data": {
      "text/markdown": [
       "- (200) `[DATA]` `2025-06-20_df_perf_ratios_stocks_etfs.parquet` <span style='color:#00ffff'>(0.33 MB, 2025-06-22 09:22)</span>"
      ],
      "text/plain": [
       "<IPython.core.display.Markdown object>"
      ]
     },
     "metadata": {},
     "output_type": "display_data"
    },
    {
     "data": {
      "text/markdown": [
       "- (201) `[DATA]` `2025-06-23_df_common_tickers_stocks_etfs.parquet` <span style='color:#00ffff'>(0.01 MB, 2025-06-23 20:22)</span>"
      ],
      "text/plain": [
       "<IPython.core.display.Markdown object>"
      ]
     },
     "metadata": {},
     "output_type": "display_data"
    },
    {
     "data": {
      "text/markdown": [
       "- (202) `[DATA]` `2025-06-23_df_finviz_merged_stocks_etfs.parquet` <span style='color:#00ffff'>(0.84 MB, 2025-06-23 20:22)</span>"
      ],
      "text/plain": [
       "<IPython.core.display.Markdown object>"
      ]
     },
     "metadata": {},
     "output_type": "display_data"
    },
    {
     "data": {
      "text/markdown": [
       "- (203) `[DATA]` `2025-06-23_df_finviz_n_ratios_stocks_etfs.parquet` <span style='color:#00ffff'>(0.83 MB, 2025-06-23 20:22)</span>"
      ],
      "text/plain": [
       "<IPython.core.display.Markdown object>"
      ]
     },
     "metadata": {},
     "output_type": "display_data"
    },
    {
     "data": {
      "text/markdown": [
       "- (204) `[DATA]` `2025-06-23_df_finviz_stocks_etfs.parquet` <span style='color:#00ffff'>(0.53 MB, 2025-06-23 20:20)</span>"
      ],
      "text/plain": [
       "<IPython.core.display.Markdown object>"
      ]
     },
     "metadata": {},
     "output_type": "display_data"
    },
    {
     "data": {
      "text/markdown": [
       "- (205) `[DATA]` `2025-06-23_df_perf_ratios_stocks_etfs.parquet` <span style='color:#00ffff'>(0.33 MB, 2025-06-23 20:22)</span>"
      ],
      "text/plain": [
       "<IPython.core.display.Markdown object>"
      ]
     },
     "metadata": {},
     "output_type": "display_data"
    },
    {
     "data": {
      "text/markdown": [
       "- (206) `[DATA]` `2025-06-24_df_common_tickers_stocks_etfs.parquet` <span style='color:#00ffff'>(0.01 MB, 2025-06-24 18:05)</span>"
      ],
      "text/plain": [
       "<IPython.core.display.Markdown object>"
      ]
     },
     "metadata": {},
     "output_type": "display_data"
    },
    {
     "data": {
      "text/markdown": [
       "- (207) `[DATA]` `2025-06-24_df_finviz_merged_stocks_etfs.parquet` <span style='color:#00ffff'>(0.83 MB, 2025-06-24 18:05)</span>"
      ],
      "text/plain": [
       "<IPython.core.display.Markdown object>"
      ]
     },
     "metadata": {},
     "output_type": "display_data"
    },
    {
     "data": {
      "text/markdown": [
       "- (208) `[DATA]` `2025-06-24_df_finviz_n_ratios_stocks_etfs.parquet` <span style='color:#00ffff'>(0.82 MB, 2025-06-24 18:05)</span>"
      ],
      "text/plain": [
       "<IPython.core.display.Markdown object>"
      ]
     },
     "metadata": {},
     "output_type": "display_data"
    },
    {
     "data": {
      "text/markdown": [
       "- (209) `[DATA]` `2025-06-24_df_finviz_stocks_etfs.parquet` <span style='color:#00ffff'>(0.52 MB, 2025-06-24 18:02)</span>"
      ],
      "text/plain": [
       "<IPython.core.display.Markdown object>"
      ]
     },
     "metadata": {},
     "output_type": "display_data"
    },
    {
     "data": {
      "text/markdown": [
       "- (210) `[DATA]` `2025-06-24_df_perf_ratios_stocks_etfs.parquet` <span style='color:#00ffff'>(0.32 MB, 2025-06-24 19:41)</span>"
      ],
      "text/plain": [
       "<IPython.core.display.Markdown object>"
      ]
     },
     "metadata": {},
     "output_type": "display_data"
    },
    {
     "data": {
      "text/markdown": [
       "- (211) `[DATA]` `2025-06-25_df_common_tickers_stocks_etfs.parquet` <span style='color:#00ffff'>(0.01 MB, 2025-06-25 16:26)</span>"
      ],
      "text/plain": [
       "<IPython.core.display.Markdown object>"
      ]
     },
     "metadata": {},
     "output_type": "display_data"
    },
    {
     "data": {
      "text/markdown": [
       "- (212) `[DATA]` `2025-06-25_df_finviz_merged_stocks_etfs.parquet` <span style='color:#00ffff'>(0.84 MB, 2025-06-25 16:27)</span>"
      ],
      "text/plain": [
       "<IPython.core.display.Markdown object>"
      ]
     },
     "metadata": {},
     "output_type": "display_data"
    },
    {
     "data": {
      "text/markdown": [
       "- (213) `[DATA]` `2025-06-25_df_finviz_n_ratios_stocks_etfs.parquet` <span style='color:#00ffff'>(0.84 MB, 2025-06-25 16:26)</span>"
      ],
      "text/plain": [
       "<IPython.core.display.Markdown object>"
      ]
     },
     "metadata": {},
     "output_type": "display_data"
    },
    {
     "data": {
      "text/markdown": [
       "- (214) `[DATA]` `2025-06-25_df_finviz_stocks_etfs.parquet` <span style='color:#00ffff'>(0.53 MB, 2025-06-25 16:23)</span>"
      ],
      "text/plain": [
       "<IPython.core.display.Markdown object>"
      ]
     },
     "metadata": {},
     "output_type": "display_data"
    },
    {
     "data": {
      "text/markdown": [
       "- (215) `[DATA]` `2025-06-25_df_perf_ratios_stocks_etfs.parquet` <span style='color:#00ffff'>(0.33 MB, 2025-06-25 16:26)</span>"
      ],
      "text/plain": [
       "<IPython.core.display.Markdown object>"
      ]
     },
     "metadata": {},
     "output_type": "display_data"
    },
    {
     "data": {
      "text/markdown": [
       "- (216) `[DATA]` `2025-06-26_df_common_tickers_stocks_etfs.parquet` <span style='color:#00ffff'>(0.01 MB, 2025-06-29 19:30)</span>"
      ],
      "text/plain": [
       "<IPython.core.display.Markdown object>"
      ]
     },
     "metadata": {},
     "output_type": "display_data"
    },
    {
     "data": {
      "text/markdown": [
       "- (217) `[DATA]` `2025-06-26_df_finviz_merged_stocks_etfs.parquet` <span style='color:#00ffff'>(0.84 MB, 2025-06-29 19:30)</span>"
      ],
      "text/plain": [
       "<IPython.core.display.Markdown object>"
      ]
     },
     "metadata": {},
     "output_type": "display_data"
    },
    {
     "data": {
      "text/markdown": [
       "- (218) `[DATA]` `2025-06-26_df_finviz_n_ratios_stocks_etfs.parquet` <span style='color:#00ffff'>(0.83 MB, 2025-06-29 19:30)</span>"
      ],
      "text/plain": [
       "<IPython.core.display.Markdown object>"
      ]
     },
     "metadata": {},
     "output_type": "display_data"
    },
    {
     "data": {
      "text/markdown": [
       "- (219) `[DATA]` `2025-06-26_df_finviz_stocks_etfs.parquet` <span style='color:#00ffff'>(0.53 MB, 2025-06-29 19:27)</span>"
      ],
      "text/plain": [
       "<IPython.core.display.Markdown object>"
      ]
     },
     "metadata": {},
     "output_type": "display_data"
    },
    {
     "data": {
      "text/markdown": [
       "- (220) `[DATA]` `2025-06-26_df_perf_ratios_stocks_etfs.parquet` <span style='color:#00ffff'>(0.33 MB, 2025-06-29 19:30)</span>"
      ],
      "text/plain": [
       "<IPython.core.display.Markdown object>"
      ]
     },
     "metadata": {},
     "output_type": "display_data"
    },
    {
     "data": {
      "text/markdown": [
       "- (221) `[DATA]` `2025-06-27_df_common_tickers_stocks_etfs.parquet` <span style='color:#00ffff'>(0.01 MB, 2025-07-01 16:35)</span>"
      ],
      "text/plain": [
       "<IPython.core.display.Markdown object>"
      ]
     },
     "metadata": {},
     "output_type": "display_data"
    },
    {
     "data": {
      "text/markdown": [
       "- (222) `[DATA]` `2025-06-27_df_finviz_merged_stocks_etfs.parquet` <span style='color:#00ffff'>(0.83 MB, 2025-07-01 16:35)</span>"
      ],
      "text/plain": [
       "<IPython.core.display.Markdown object>"
      ]
     },
     "metadata": {},
     "output_type": "display_data"
    },
    {
     "data": {
      "text/markdown": [
       "- (223) `[DATA]` `2025-06-27_df_finviz_n_ratios_stocks_etfs.parquet` <span style='color:#00ffff'>(0.83 MB, 2025-07-01 16:35)</span>"
      ],
      "text/plain": [
       "<IPython.core.display.Markdown object>"
      ]
     },
     "metadata": {},
     "output_type": "display_data"
    },
    {
     "data": {
      "text/markdown": [
       "- (224) `[DATA]` `2025-06-27_df_finviz_stocks_etfs.parquet` <span style='color:#00ffff'>(0.53 MB, 2025-07-01 16:31)</span>"
      ],
      "text/plain": [
       "<IPython.core.display.Markdown object>"
      ]
     },
     "metadata": {},
     "output_type": "display_data"
    },
    {
     "data": {
      "text/markdown": [
       "- (225) `[DATA]` `2025-06-27_df_perf_ratios_stocks_etfs.parquet` <span style='color:#00ffff'>(0.33 MB, 2025-07-01 16:34)</span>"
      ],
      "text/plain": [
       "<IPython.core.display.Markdown object>"
      ]
     },
     "metadata": {},
     "output_type": "display_data"
    },
    {
     "data": {
      "text/markdown": [
       "- (226) `[DATA]` `2025-06-30_df_common_tickers_stocks_etfs.parquet` <span style='color:#00ffff'>(0.01 MB, 2025-07-01 16:42)</span>"
      ],
      "text/plain": [
       "<IPython.core.display.Markdown object>"
      ]
     },
     "metadata": {},
     "output_type": "display_data"
    },
    {
     "data": {
      "text/markdown": [
       "- (227) `[DATA]` `2025-06-30_df_finviz_merged_stocks_etfs.parquet` <span style='color:#00ffff'>(0.84 MB, 2025-07-01 16:43)</span>"
      ],
      "text/plain": [
       "<IPython.core.display.Markdown object>"
      ]
     },
     "metadata": {},
     "output_type": "display_data"
    },
    {
     "data": {
      "text/markdown": [
       "- (228) `[DATA]` `2025-06-30_df_finviz_n_ratios_stocks_etfs.parquet` <span style='color:#00ffff'>(0.83 MB, 2025-07-01 16:42)</span>"
      ],
      "text/plain": [
       "<IPython.core.display.Markdown object>"
      ]
     },
     "metadata": {},
     "output_type": "display_data"
    },
    {
     "data": {
      "text/markdown": [
       "- (229) `[DATA]` `2025-06-30_df_finviz_stocks_etfs.parquet` <span style='color:#00ffff'>(0.53 MB, 2025-07-01 16:39)</span>"
      ],
      "text/plain": [
       "<IPython.core.display.Markdown object>"
      ]
     },
     "metadata": {},
     "output_type": "display_data"
    },
    {
     "data": {
      "text/markdown": [
       "- (230) `[DATA]` `2025-06-30_df_perf_ratios_stocks_etfs.parquet` <span style='color:#00ffff'>(0.33 MB, 2025-07-01 16:42)</span>"
      ],
      "text/plain": [
       "<IPython.core.display.Markdown object>"
      ]
     },
     "metadata": {},
     "output_type": "display_data"
    },
    {
     "data": {
      "text/markdown": [
       "- (231) `[DATA]` `2025-07-01_df_common_tickers_stocks_etfs.parquet` <span style='color:#00ffff'>(0.01 MB, 2025-07-01 16:49)</span>"
      ],
      "text/plain": [
       "<IPython.core.display.Markdown object>"
      ]
     },
     "metadata": {},
     "output_type": "display_data"
    },
    {
     "data": {
      "text/markdown": [
       "- (232) `[DATA]` `2025-07-01_df_finviz_merged_stocks_etfs.parquet` <span style='color:#00ffff'>(0.84 MB, 2025-07-01 16:50)</span>"
      ],
      "text/plain": [
       "<IPython.core.display.Markdown object>"
      ]
     },
     "metadata": {},
     "output_type": "display_data"
    },
    {
     "data": {
      "text/markdown": [
       "- (233) `[DATA]` `2025-07-01_df_finviz_n_ratios_stocks_etfs.parquet` <span style='color:#00ffff'>(0.83 MB, 2025-07-01 16:50)</span>"
      ],
      "text/plain": [
       "<IPython.core.display.Markdown object>"
      ]
     },
     "metadata": {},
     "output_type": "display_data"
    },
    {
     "data": {
      "text/markdown": [
       "- (234) `[DATA]` `2025-07-01_df_finviz_stocks_etfs.parquet` <span style='color:#00ffff'>(0.53 MB, 2025-07-01 16:46)</span>"
      ],
      "text/plain": [
       "<IPython.core.display.Markdown object>"
      ]
     },
     "metadata": {},
     "output_type": "display_data"
    },
    {
     "data": {
      "text/markdown": [
       "- (235) `[DATA]` `2025-07-01_df_perf_ratios_stocks_etfs.parquet` <span style='color:#00ffff'>(0.33 MB, 2025-07-01 16:49)</span>"
      ],
      "text/plain": [
       "<IPython.core.display.Markdown object>"
      ]
     },
     "metadata": {},
     "output_type": "display_data"
    },
    {
     "data": {
      "text/markdown": [
       "- (236) `[DATA]` `2025-07-02_df_common_tickers_stocks_etfs.parquet` <span style='color:#00ffff'>(0.01 MB, 2025-07-02 20:03)</span>"
      ],
      "text/plain": [
       "<IPython.core.display.Markdown object>"
      ]
     },
     "metadata": {},
     "output_type": "display_data"
    },
    {
     "data": {
      "text/markdown": [
       "- (237) `[DATA]` `2025-07-02_df_finviz_merged_stocks_etfs.parquet` <span style='color:#00ffff'>(0.83 MB, 2025-07-02 20:04)</span>"
      ],
      "text/plain": [
       "<IPython.core.display.Markdown object>"
      ]
     },
     "metadata": {},
     "output_type": "display_data"
    },
    {
     "data": {
      "text/markdown": [
       "- (238) `[DATA]` `2025-07-02_df_finviz_n_ratios_stocks_etfs.parquet` <span style='color:#00ffff'>(0.83 MB, 2025-07-02 20:03)</span>"
      ],
      "text/plain": [
       "<IPython.core.display.Markdown object>"
      ]
     },
     "metadata": {},
     "output_type": "display_data"
    },
    {
     "data": {
      "text/markdown": [
       "- (239) `[DATA]` `2025-07-02_df_finviz_stocks_etfs.parquet` <span style='color:#00ffff'>(0.53 MB, 2025-07-02 20:01)</span>"
      ],
      "text/plain": [
       "<IPython.core.display.Markdown object>"
      ]
     },
     "metadata": {},
     "output_type": "display_data"
    },
    {
     "data": {
      "text/markdown": [
       "- (240) `[DATA]` `2025-07-02_df_perf_ratios_stocks_etfs.parquet` <span style='color:#00ffff'>(0.33 MB, 2025-07-02 20:03)</span>"
      ],
      "text/plain": [
       "<IPython.core.display.Markdown object>"
      ]
     },
     "metadata": {},
     "output_type": "display_data"
    },
    {
     "name": "stdout",
     "output_type": "stream",
     "text": [
      "\n",
      "Input a number to select file (1-240)\n"
     ]
    },
    {
     "data": {
      "text/markdown": [
       "\n",
       "    **Selected paths:**\n",
       "    - Source: `c:\\Users\\ping\\Files_win10\\python\\py311\\stocks\\data\\2025-06-06_df_finviz_merged_stocks_etfs.parquet`\n",
       "    - Destination: `c:\\Users\\ping\\Files_win10\\python\\py311\\stocks\\data\\2025-06-06_df_finviz_merged_stocks_etfs_clean.parquet`\n",
       "    "
      ],
      "text/plain": [
       "<IPython.core.display.Markdown object>"
      ]
     },
     "metadata": {},
     "output_type": "display_data"
    },
    {
     "name": "stdout",
     "output_type": "stream",
     "text": [
      "selected_file_path: c:\\Users\\ping\\Files_win10\\python\\py311\\stocks\\data\\2025-06-06_df_finviz_merged_stocks_etfs.parquet\n",
      "file_list: ['2025-04-25_df_common_tickers_stocks_etfs.parquet', '2025-04-25_df_finviz_merged_stocks_etfs.parquet', '2025-04-25_df_finviz_n_ratios_stocks_etfs.parquet', '2025-04-25_df_finviz_stocks_etfs.parquet', '2025-04-25_df_perf_ratios_stocks_etfs.parquet', '2025-04-28_df_common_tickers_stocks_etfs.parquet', '2025-04-28_df_finviz_merged_stocks_etfs.parquet', '2025-04-28_df_finviz_n_ratios_stocks_etfs.parquet', '2025-04-28_df_finviz_stocks_etfs.parquet', '2025-04-28_df_perf_ratios_stocks_etfs.parquet', '2025-04-29_df_common_tickers_stocks_etfs.parquet', '2025-04-29_df_finviz_merged_stocks_etfs.parquet', '2025-04-29_df_finviz_n_ratios_stocks_etfs.parquet', '2025-04-29_df_finviz_stocks_etfs.parquet', '2025-04-29_df_perf_ratios_stocks_etfs.parquet', '2025-04-30_df_common_tickers_stocks_etfs.parquet', '2025-04-30_df_finviz_merged_stocks_etfs.parquet', '2025-04-30_df_finviz_n_ratios_stocks_etfs.parquet', '2025-04-30_df_finviz_stocks_etfs.parquet', '2025-04-30_df_perf_ratios_stocks_etfs.parquet', '2025-05-01_df_common_tickers_stocks_etfs.parquet', '2025-05-01_df_finviz_merged_stocks_etfs.parquet', '2025-05-01_df_finviz_n_ratios_stocks_etfs.parquet', '2025-05-01_df_finviz_stocks_etfs.parquet', '2025-05-01_df_perf_ratios_stocks_etfs.parquet', '2025-05-02_df_common_tickers_stocks_etfs.parquet', '2025-05-02_df_finviz_merged_stocks_etfs.parquet', '2025-05-02_df_finviz_n_ratios_stocks_etfs.parquet', '2025-05-02_df_finviz_stocks_etfs.parquet', '2025-05-02_df_perf_ratios_stocks_etfs.parquet', '2025-05-05_df_common_tickers_stocks_etfs.parquet', '2025-05-05_df_finviz_merged_stocks_etfs.parquet', '2025-05-05_df_finviz_n_ratios_stocks_etfs.parquet', '2025-05-05_df_finviz_stocks_etfs.parquet', '2025-05-05_df_perf_ratios_stocks_etfs.parquet', '2025-05-06_df_common_tickers_stocks_etfs.parquet', '2025-05-06_df_finviz_merged_stocks_etfs.parquet', '2025-05-06_df_finviz_n_ratios_stocks_etfs.parquet', '2025-05-06_df_finviz_stocks_etfs.parquet', '2025-05-06_df_perf_ratios_stocks_etfs.parquet', '2025-05-07_df_common_tickers_stocks_etfs.parquet', '2025-05-07_df_finviz_merged_stocks_etfs.parquet', '2025-05-07_df_finviz_n_ratios_stocks_etfs.parquet', '2025-05-07_df_finviz_stocks_etfs.parquet', '2025-05-07_df_perf_ratios_stocks_etfs.parquet', '2025-05-08_df_common_tickers_stocks_etfs.parquet', '2025-05-08_df_finviz_merged_stocks_etfs.parquet', '2025-05-08_df_finviz_n_ratios_stocks_etfs.parquet', '2025-05-08_df_finviz_stocks_etfs.parquet', '2025-05-08_df_perf_ratios_stocks_etfs.parquet', '2025-05-09_df_common_tickers_stocks_etfs.parquet', '2025-05-09_df_finviz_merged_stocks_etfs.parquet', '2025-05-09_df_finviz_n_ratios_stocks_etfs.parquet', '2025-05-09_df_finviz_stocks_etfs.parquet', '2025-05-09_df_perf_ratios_stocks_etfs.parquet', '2025-05-12_df_common_tickers_stocks_etfs.parquet', '2025-05-12_df_finviz_merged_stocks_etfs.parquet', '2025-05-12_df_finviz_n_ratios_stocks_etfs.parquet', '2025-05-12_df_finviz_stocks_etfs.parquet', '2025-05-12_df_perf_ratios_stocks_etfs.parquet', '2025-05-13_df_common_tickers_stocks_etfs.parquet', '2025-05-13_df_finviz_merged_stocks_etfs.parquet', '2025-05-13_df_finviz_n_ratios_stocks_etfs.parquet', '2025-05-13_df_finviz_stocks_etfs.parquet', '2025-05-13_df_perf_ratios_stocks_etfs.parquet', '2025-05-14_df_common_tickers_stocks_etfs.parquet', '2025-05-14_df_finviz_merged_stocks_etfs.parquet', '2025-05-14_df_finviz_n_ratios_stocks_etfs.parquet', '2025-05-14_df_finviz_stocks_etfs.parquet', '2025-05-14_df_perf_ratios_stocks_etfs.parquet', '2025-05-15_df_common_tickers_stocks_etfs.parquet', '2025-05-15_df_finviz_merged_stocks_etfs.parquet', '2025-05-15_df_finviz_n_ratios_stocks_etfs.parquet', '2025-05-15_df_finviz_stocks_etfs.parquet', '2025-05-15_df_perf_ratios_stocks_etfs.parquet', '2025-05-16_df_common_tickers_stocks_etfs.parquet', '2025-05-16_df_finviz_merged_stocks_etfs.parquet', '2025-05-16_df_finviz_n_ratios_stocks_etfs.parquet', '2025-05-16_df_finviz_stocks_etfs.parquet', '2025-05-16_df_perf_ratios_stocks_etfs.parquet', '2025-05-19_df_common_tickers_stocks_etfs.parquet', '2025-05-19_df_finviz_merged_stocks_etfs.parquet', '2025-05-19_df_finviz_n_ratios_stocks_etfs.parquet', '2025-05-19_df_finviz_stocks_etfs.parquet', '2025-05-19_df_perf_ratios_stocks_etfs.parquet', '2025-05-20_df_common_tickers_stocks_etfs.parquet', '2025-05-20_df_finviz_merged_stocks_etfs.parquet', '2025-05-20_df_finviz_n_ratios_stocks_etfs.parquet', '2025-05-20_df_finviz_stocks_etfs.parquet', '2025-05-20_df_perf_ratios_stocks_etfs.parquet', '2025-05-21_df_common_tickers_stocks_etfs.parquet', '2025-05-21_df_finviz_merged_stocks_etfs.parquet', '2025-05-21_df_finviz_n_ratios_stocks_etfs.parquet', '2025-05-21_df_finviz_stocks_etfs.parquet', '2025-05-21_df_perf_ratios_stocks_etfs.parquet', '2025-05-22_df_common_tickers_stocks_etfs.parquet', '2025-05-22_df_finviz_merged_stocks_etfs.parquet', '2025-05-22_df_finviz_n_ratios_stocks_etfs.parquet', '2025-05-22_df_finviz_stocks_etfs.parquet', '2025-05-22_df_perf_ratios_stocks_etfs.parquet', '2025-05-23_df_common_tickers_stocks_etfs.parquet', '2025-05-23_df_finviz_merged_stocks_etfs.parquet', '2025-05-23_df_finviz_n_ratios_stocks_etfs.parquet', '2025-05-23_df_finviz_stocks_etfs.parquet', '2025-05-23_df_perf_ratios_stocks_etfs.parquet', '2025-05-27_df_common_tickers_stocks_etfs.parquet', '2025-05-27_df_finviz_merged_stocks_etfs.parquet', '2025-05-27_df_finviz_n_ratios_stocks_etfs.parquet', '2025-05-27_df_finviz_stocks_etfs.parquet', '2025-05-27_df_perf_ratios_stocks_etfs.parquet', '2025-05-28_df_common_tickers_stocks_etfs.parquet', '2025-05-28_df_finviz_merged_stocks_etfs.parquet', '2025-05-28_df_finviz_n_ratios_stocks_etfs.parquet', '2025-05-28_df_finviz_stocks_etfs.parquet', '2025-05-28_df_perf_ratios_stocks_etfs.parquet', '2025-05-29_df_common_tickers_stocks_etfs.parquet', '2025-05-29_df_finviz_merged_stocks_etfs.parquet', '2025-05-29_df_finviz_n_ratios_stocks_etfs.parquet', '2025-05-29_df_finviz_stocks_etfs.parquet', '2025-05-29_df_perf_ratios_stocks_etfs.parquet', '2025-05-30_df_common_tickers_stocks_etfs.parquet', '2025-05-30_df_finviz_merged_stocks_etfs.parquet', '2025-05-30_df_finviz_n_ratios_stocks_etfs.parquet', '2025-05-30_df_finviz_stocks_etfs.parquet', '2025-05-30_df_perf_ratios_stocks_etfs.parquet', '2025-06-02_df_common_tickers_stocks_etfs.parquet', '2025-06-02_df_finviz_merged_stocks_etfs.parquet', '2025-06-02_df_finviz_n_ratios_stocks_etfs.parquet', '2025-06-02_df_finviz_stocks_etfs.parquet', '2025-06-02_df_perf_ratios_stocks_etfs.parquet', '2025-06-03_df_common_tickers_stocks_etfs.parquet', '2025-06-03_df_finviz_merged_stocks_etfs.parquet', '2025-06-03_df_finviz_n_ratios_stocks_etfs.parquet', '2025-06-03_df_finviz_stocks_etfs.parquet', '2025-06-03_df_perf_ratios_stocks_etfs.parquet', '2025-06-04_df_common_tickers_stocks_etfs.parquet', '2025-06-04_df_finviz_merged_stocks_etfs.parquet', '2025-06-04_df_finviz_n_ratios_stocks_etfs.parquet', '2025-06-04_df_finviz_stocks_etfs.parquet', '2025-06-04_df_perf_ratios_stocks_etfs.parquet', '2025-06-05_df_common_tickers_stocks_etfs.parquet', '2025-06-05_df_finviz_merged_stocks_etfs.parquet', '2025-06-05_df_finviz_n_ratios_stocks_etfs.parquet', '2025-06-05_df_finviz_stocks_etfs.parquet', '2025-06-05_df_perf_ratios_stocks_etfs.parquet', '2025-06-06_df_common_tickers_stocks_etfs.parquet', '2025-06-06_df_finviz_merged_stocks_etfs.parquet', '2025-06-06_df_finviz_n_ratios_stocks_etfs.parquet', '2025-06-06_df_finviz_stocks_etfs.parquet', '2025-06-06_df_perf_ratios_stocks_etfs.parquet', '2025-06-09_df_common_tickers_stocks_etfs.parquet', '2025-06-09_df_finviz_merged_stocks_etfs.parquet', '2025-06-09_df_finviz_n_ratios_stocks_etfs.parquet', '2025-06-09_df_finviz_stocks_etfs.parquet', '2025-06-09_df_perf_ratios_stocks_etfs.parquet', '2025-06-10_df_common_tickers_stocks_etfs.parquet', '2025-06-10_df_finviz_merged_stocks_etfs.parquet', '2025-06-10_df_finviz_n_ratios_stocks_etfs.parquet', '2025-06-10_df_finviz_stocks_etfs.parquet', '2025-06-10_df_perf_ratios_stocks_etfs.parquet', '2025-06-11_df_common_tickers_stocks_etfs.parquet', '2025-06-11_df_finviz_merged_stocks_etfs.parquet', '2025-06-11_df_finviz_n_ratios_stocks_etfs.parquet', '2025-06-11_df_finviz_stocks_etfs.parquet', '2025-06-11_df_perf_ratios_stocks_etfs.parquet', '2025-06-12_df_common_tickers_stocks_etfs.parquet', '2025-06-12_df_finviz_merged_stocks_etfs.parquet', '2025-06-12_df_finviz_n_ratios_stocks_etfs.parquet', '2025-06-12_df_finviz_stocks_etfs.parquet', '2025-06-12_df_perf_ratios_stocks_etfs.parquet', '2025-06-13_df_common_tickers_stocks_etfs.parquet', '2025-06-13_df_finviz_merged_stocks_etfs.parquet', '2025-06-13_df_finviz_n_ratios_stocks_etfs.parquet', '2025-06-13_df_finviz_stocks_etfs.parquet', '2025-06-13_df_perf_ratios_stocks_etfs.parquet', '2025-06-16_df_common_tickers_stocks_etfs.parquet', '2025-06-16_df_finviz_merged_stocks_etfs.parquet', '2025-06-16_df_finviz_n_ratios_stocks_etfs.parquet', '2025-06-16_df_finviz_stocks_etfs.parquet', '2025-06-16_df_perf_ratios_stocks_etfs.parquet', '2025-06-17_df_common_tickers_stocks_etfs.parquet', '2025-06-17_df_finviz_merged_stocks_etfs.parquet', '2025-06-17_df_finviz_n_ratios_stocks_etfs.parquet', '2025-06-17_df_finviz_stocks_etfs.parquet', '2025-06-17_df_perf_ratios_stocks_etfs.parquet', '2025-06-18_df_common_tickers_stocks_etfs.parquet', '2025-06-18_df_finviz_merged_stocks_etfs.parquet', '2025-06-18_df_finviz_n_ratios_stocks_etfs.parquet', '2025-06-18_df_finviz_stocks_etfs.parquet', '2025-06-18_df_perf_ratios_stocks_etfs.parquet', '2025-06-19_df_common_tickers_stocks_etfs.parquet', '2025-06-19_df_finviz_merged_stocks_etfs.parquet', '2025-06-19_df_finviz_n_ratios_stocks_etfs.parquet', '2025-06-19_df_finviz_stocks_etfs.parquet', '2025-06-19_df_perf_ratios_stocks_etfs.parquet', '2025-06-20_df_common_tickers_stocks_etfs.parquet', '2025-06-20_df_finviz_merged_stocks_etfs.parquet', '2025-06-20_df_finviz_n_ratios_stocks_etfs.parquet', '2025-06-20_df_finviz_stocks_etfs.parquet', '2025-06-20_df_perf_ratios_stocks_etfs.parquet', '2025-06-23_df_common_tickers_stocks_etfs.parquet', '2025-06-23_df_finviz_merged_stocks_etfs.parquet', '2025-06-23_df_finviz_n_ratios_stocks_etfs.parquet', '2025-06-23_df_finviz_stocks_etfs.parquet', '2025-06-23_df_perf_ratios_stocks_etfs.parquet', '2025-06-24_df_common_tickers_stocks_etfs.parquet', '2025-06-24_df_finviz_merged_stocks_etfs.parquet', '2025-06-24_df_finviz_n_ratios_stocks_etfs.parquet', '2025-06-24_df_finviz_stocks_etfs.parquet', '2025-06-24_df_perf_ratios_stocks_etfs.parquet', '2025-06-25_df_common_tickers_stocks_etfs.parquet', '2025-06-25_df_finviz_merged_stocks_etfs.parquet', '2025-06-25_df_finviz_n_ratios_stocks_etfs.parquet', '2025-06-25_df_finviz_stocks_etfs.parquet', '2025-06-25_df_perf_ratios_stocks_etfs.parquet', '2025-06-26_df_common_tickers_stocks_etfs.parquet', '2025-06-26_df_finviz_merged_stocks_etfs.parquet', '2025-06-26_df_finviz_n_ratios_stocks_etfs.parquet', '2025-06-26_df_finviz_stocks_etfs.parquet', '2025-06-26_df_perf_ratios_stocks_etfs.parquet', '2025-06-27_df_common_tickers_stocks_etfs.parquet', '2025-06-27_df_finviz_merged_stocks_etfs.parquet', '2025-06-27_df_finviz_n_ratios_stocks_etfs.parquet', '2025-06-27_df_finviz_stocks_etfs.parquet', '2025-06-27_df_perf_ratios_stocks_etfs.parquet', '2025-06-30_df_common_tickers_stocks_etfs.parquet', '2025-06-30_df_finviz_merged_stocks_etfs.parquet', '2025-06-30_df_finviz_n_ratios_stocks_etfs.parquet', '2025-06-30_df_finviz_stocks_etfs.parquet', '2025-06-30_df_perf_ratios_stocks_etfs.parquet', '2025-07-01_df_common_tickers_stocks_etfs.parquet', '2025-07-01_df_finviz_merged_stocks_etfs.parquet', '2025-07-01_df_finviz_n_ratios_stocks_etfs.parquet', '2025-07-01_df_finviz_stocks_etfs.parquet', '2025-07-01_df_perf_ratios_stocks_etfs.parquet', '2025-07-02_df_common_tickers_stocks_etfs.parquet', '2025-07-02_df_finviz_merged_stocks_etfs.parquet', '2025-07-02_df_finviz_n_ratios_stocks_etfs.parquet', '2025-07-02_df_finviz_stocks_etfs.parquet', '2025-07-02_df_perf_ratios_stocks_etfs.parquet']\n",
      "\n",
      "df:\n",
      "       No.                Company               Index                  Sector                        Industry Country Exchange                                               Info  MktCap AUM, M  Rank  Market Cap, M    P/E  Fwd P/E   PEG    P/S    P/B    P/C   P/FCF  Book/sh  Cash/sh  Dividend %  Dividend TTM Dividend Ex Date  Payout Ratio %    EPS  EPS next Q  EPS this Y %  EPS next Y %  EPS past 5Y %  EPS next 5Y %  Sales past 5Y %  Sales Q/Q %  EPS Q/Q %  EPS YoY TTM %  Sales YoY TTM %  Sales, M  Income, M  EPS Surprise %  Revenue Surprise %  Outstanding, M  Float, M  Float %  Insider Own %  Insider Trans %  Inst Own %  Inst Trans %  Short Float %  Short Ratio  Short Interest, M  ROA %   ROE %  ROIC %  Curr R  Quick R  LTDebt/Eq  Debt/Eq  Gross M %  Oper M %  Profit M %  Perf 3D %  Perf Week %  Perf Month %  Perf Quart %  Perf Half %  Perf Year %  Perf YTD %  Beta   ATR  ATR/Price %  Volatility W %  Volatility M %  SMA20 %  SMA50 %  SMA200 %  50D High %  50D Low %  52W High %  52W Low %        52W Range  All-Time High %  All-Time Low %    RSI  Earnings    IPO Date Optionable Shortable  Employees  Change from Open %  Gap %  Recom  Avg Volume, M  Rel Volume     Volume  Target Price  Prev Close    Open    High     Low   Price  Change % Single Category Asset Type  Expense %  Holdings  AUM, M  Flows 1M, M  Flows% 1M  Flows 3M, M  Flows% 3M  Flows YTD, M  Flows% YTD  Return% 1Y  Return% 3Y  Return% 5Y Tags  Sharpe 3d   Sortino 3d    Omega 3d  Sharpe 5d   Sortino 5d    Omega 5d  Sharpe 10d  Sortino 10d  Omega 10d  Sharpe 15d  Sortino 15d  Omega 15d  Sharpe 30d  Sortino 30d  Omega 30d  Sharpe 60d  Sortino 60d  Omega 60d  Sharpe 120d  Sortino 120d  Omega 120d  Sharpe 250d  Sortino 250d  Omega 250d\n",
      "MSFT     1  Microsoft Corporation  DJIA, NDX, S&P 500              Technology       Software - Infrastructure     USA     NASD              Technology, Software - Infrastructure      3496710.0     1      3496710.0  36.36    31.06  2.50  12.95  10.87  43.92   50.41    43.30    10.71        0.70          2.41        5/15/2025           25.42  12.94        3.37         13.46         13.14          18.45          14.52            14.33        13.27      17.88          12.10            14.13  270010.0    96640.0            7.38                2.38          7430.0    7320.0    98.51           1.47            -0.13       75.52          0.39           0.78         2.40              57.07  18.46   33.61   23.24    1.37     1.36       0.29     0.33      69.07     45.23       35.79   0.857895         2.19          8.56         19.62         9.10        13.07       11.62  1.03  7.32     1.555924            0.29            0.90     2.99    12.95     12.50        0.17      36.45        0.17      36.45  344.79 - 469.65             0.17       590346.82  75.03  Apr 30/a   3/13/1986        Yes       Yes   228000.0                0.10   0.50   1.30          23.79        0.50   11850101        510.53      467.68  470.00  473.33  468.78  470.46      0.59                                   NaN       NaN     NaN          NaN        NaN          NaN        NaN           NaN         NaN         NaN         NaN         NaN    -  62.875386  6500.631637  580.122295  22.930351  4100.390290  517.600618    9.344598    30.680707   6.798109    4.213839     7.872632   2.040319    6.299267    28.231554   5.482866    2.755107     5.796177   1.777331     0.358479      0.584863    1.072671     0.412289      0.615070    1.080408\n",
      "NVDA     2            NVIDIA Corp  DJIA, NDX, S&P 500              Technology                  Semiconductors     USA     NASD                         Technology, Semiconductors      3461750.0     2      3461750.0  45.70    24.77  1.53  23.31  41.27  64.48   48.04     3.44     2.20        0.03          0.04        6/11/2025            1.16   3.10        1.00         45.92         31.27          91.83          29.90            64.24        69.18      27.60          81.36            86.17  148510.0    76770.0            9.89                1.68         24390.0   23400.0    95.96           4.09            -0.24       67.91          0.20           1.04         0.89             243.99  75.89  115.46   81.82    3.39     2.96       0.12     0.12      70.11     58.03       51.69  -1.375478         4.99         21.20         25.90         1.15        21.85        5.65  2.12  4.66     3.284466            1.76            2.38     5.56    19.82     11.52       -1.48      63.79       -7.35      63.79   86.62 - 153.13            -7.35       425524.98  67.46  May 28/a   1/22/1999        Yes       Yes    36000.0               -0.51   1.86   1.37         273.10        0.50  135914973        172.05      139.99  142.60  143.27  141.51  141.88      1.35                                   NaN       NaN     NaN          NaN        NaN          NaN        NaN           NaN         NaN         NaN         NaN         NaN    -  -0.674007    -1.271657    0.886712   7.138957    17.903329    3.255607    6.335220    12.446692   2.596906    2.691445     4.764651   1.519183    6.165942    15.549105   2.915686    1.628150     2.807164   1.355416     0.359752      0.507149    1.066279     0.499818      0.712517    1.089417\n",
      "AAPL     3              Apple Inc  DJIA, NDX, S&P 500              Technology            Consumer Electronics     USA     NASD                   Technology, Consumer Electronics      3051690.0     3      3051690.0  31.89    26.25  3.97   7.62  45.70  62.92   30.99     4.47     3.25        0.51          1.01        5/12/2025           16.11   6.41        1.42          6.27          8.51          15.41           8.03             8.51         5.08       7.68          -0.36             4.91  400370.0    97290.0            1.39                0.86         14940.0   14920.0    99.88           0.10            -1.92       64.77         -0.53           0.70         1.70             105.17  29.10  138.02   66.93    0.82     0.78       1.18     1.47      46.63     31.81       24.30  -3.069028         1.73          4.11        -14.54       -15.80         5.13      -18.41  1.21  5.27     2.579287            0.82            1.83     0.01     0.31     -9.24       -9.44      20.75      -21.45      20.75  169.21 - 260.10           -21.45       321077.04  50.95  May 01/a  12/12/1980        Yes       Yes   164000.0                0.65   1.18   2.08          61.73        0.60   36540000        228.26      200.63  203.00  205.70  202.05  204.32      1.84                                   NaN       NaN     NaN          NaN        NaN          NaN        NaN           NaN         NaN         NaN         NaN         NaN    -   2.180571     5.412597    1.482192   3.534665     7.459543    1.790434    6.980655    19.567884   3.682865   -2.827200    -3.578521   0.617185   -0.723462    -1.086155   0.868110   -0.047907    -0.073202   0.990171    -0.881874     -1.258905    0.839925     0.164386      0.239653    1.032745\n",
      "AMZN     4         Amazon.com Inc  DJIA, NDX, S&P 500       Consumer Cyclical                 Internet Retail     USA     NASD                 Consumer Cyclical, Internet Retail      2268980.0     4      2268980.0  34.86    29.46  2.03   3.49   7.42  23.09  109.03    28.82     9.25         NaN           NaN                -            0.00   6.13        1.32         11.89         17.23          36.89          17.18            17.86         8.62      62.33          71.88            10.08  650310.0    65940.0           16.38                0.33         10610.0    9490.0    89.45          10.58            -0.02       67.38          0.04           0.75         1.42              71.50  11.23   25.24   15.02    1.05     0.84       0.44     0.49      49.16     11.15       10.14  -2.532053         4.25         13.26          7.26         0.13        19.17       -2.58  1.33  5.52     2.582698            0.58            2.06     3.95    10.92      5.69       -0.52      32.44      -11.87      40.97  151.61 - 242.52           -11.87       325576.21  66.55  May 01/a   5/15/1997        Yes       Yes  1556000.0                0.61   2.17   1.23          50.30        0.66   33132670        238.77      207.91  212.42  213.87  210.50  213.73      2.80                                   NaN       NaN     NaN          NaN        NaN          NaN        NaN           NaN         NaN         NaN         NaN         NaN    -  14.153025  6500.631637  580.122295   9.594439    55.152196    7.948524    8.755670    36.374750   5.088980    3.368474     6.952487   1.735937    3.363449     8.427180   1.930318    1.014553     1.640875   1.205758    -0.291277     -0.429726    0.949263     0.486887      0.710189    1.089082\n",
      "GOOGL    5           Alphabet Inc        NDX, S&P 500  Communication Services  Internet Content & Information     USA     NASD  Communication Services, Internet Content & Inf...      2116870.0     5      2116870.0  19.37    17.09  1.50   5.89   6.12  22.21   28.27    28.41     7.82        0.30          0.80         6/9/2025            7.46   8.97        2.16         19.19          6.06          26.76          12.91            16.73        11.81      48.77          37.73            13.02  359310.0   111000.0           38.81                1.15          5830.0    5800.0    99.65          52.17            -0.01       41.35         -1.89           1.28         1.87              74.30  25.15   34.79   30.02    1.77     1.77       0.07     0.08      58.54     32.60       30.89  -2.200448         1.14         14.74         -0.09         1.38        -0.05       -8.24  1.02  4.86     2.797927            1.37            1.72     4.05     8.37      1.38       -1.74      23.60      -16.11      23.60  140.53 - 207.05           -16.11         7133.51  61.29  Apr 24/a   8/19/2004        Yes       Yes   183323.0                1.58   1.65   1.42          39.80        0.77   30350467        199.56      168.21  170.99  174.50  170.83  173.70      3.26                                   NaN       NaN     NaN          NaN        NaN          NaN        NaN           NaN         NaN         NaN         NaN         NaN    -  11.790088  6500.631637  580.122295   5.240691    12.695016    2.599422    3.133076     6.732351   1.752779    2.947748     5.848811   1.626071    1.820260     2.598734   1.383754    0.784943     1.184939   1.142096    -0.507865     -0.696038    0.917805     0.033079      0.045687    1.005652\n",
      "\n"
     ]
    }
   ],
   "source": [
    "# Use the DATA_DIR variable defined in the setup cell\n",
    "selected_file_path, _, file_list = utils.main_processor(\n",
    "    data_dir=DATA_DIR,  # <-- Use the absolute path variable\n",
    "    # downloads_dir=None,\n",
    "    downloads_dir='',    \n",
    "    downloads_limit=60,\n",
    "    clean_name_override=None,\n",
    "    start_file_pattern='2025-',\n",
    "    # start_file_pattern='',    \n",
    "    # contains_pattern='df_finviz_merged_stocks_etfs'\n",
    "    # contains_pattern='df_common_tickers_stocks_etfs'  \n",
    "    contains_pattern=''        \n",
    ")\n",
    "\n",
    "print(f'selected_file_path: {selected_file_path}')\n",
    "# print(f'output_path: {output_path}')\n",
    "print(f'file_list: {file_list}\\n')\n",
    "\n",
    "df = pd.read_parquet(selected_file_path)\n",
    "print(f'df:\\n{df.head()}\\n')\n",
    "\n",
    "# # The .info() method prints to stdout directly, so no need for an f-string\n",
    "# print('df_OHLCV.info():')\n",
    "# df_OHLCV.info()"
   ]
  },
  {
   "cell_type": "code",
   "execution_count": 71,
   "metadata": {},
   "outputs": [
    {
     "data": {
      "text/html": [
       "<div>\n",
       "<style scoped>\n",
       "    .dataframe tbody tr th:only-of-type {\n",
       "        vertical-align: middle;\n",
       "    }\n",
       "\n",
       "    .dataframe tbody tr th {\n",
       "        vertical-align: top;\n",
       "    }\n",
       "\n",
       "    .dataframe thead th {\n",
       "        text-align: right;\n",
       "    }\n",
       "</style>\n",
       "<table border=\"1\" class=\"dataframe\">\n",
       "  <thead>\n",
       "    <tr style=\"text-align: right;\">\n",
       "      <th></th>\n",
       "      <th>No.</th>\n",
       "      <th>Company</th>\n",
       "      <th>Index</th>\n",
       "      <th>Sector</th>\n",
       "      <th>Industry</th>\n",
       "      <th>Country</th>\n",
       "      <th>Exchange</th>\n",
       "      <th>Info</th>\n",
       "      <th>MktCap AUM, M</th>\n",
       "      <th>Rank</th>\n",
       "      <th>Market Cap, M</th>\n",
       "      <th>P/E</th>\n",
       "      <th>Fwd P/E</th>\n",
       "      <th>PEG</th>\n",
       "      <th>P/S</th>\n",
       "      <th>P/B</th>\n",
       "      <th>P/C</th>\n",
       "      <th>P/FCF</th>\n",
       "      <th>Book/sh</th>\n",
       "      <th>Cash/sh</th>\n",
       "      <th>Dividend %</th>\n",
       "      <th>Dividend TTM</th>\n",
       "      <th>Dividend Ex Date</th>\n",
       "      <th>Payout Ratio %</th>\n",
       "      <th>EPS</th>\n",
       "      <th>EPS next Q</th>\n",
       "      <th>EPS this Y %</th>\n",
       "      <th>EPS next Y %</th>\n",
       "      <th>EPS past 5Y %</th>\n",
       "      <th>EPS next 5Y %</th>\n",
       "      <th>Sales past 5Y %</th>\n",
       "      <th>Sales Q/Q %</th>\n",
       "      <th>EPS Q/Q %</th>\n",
       "      <th>EPS YoY TTM %</th>\n",
       "      <th>Sales YoY TTM %</th>\n",
       "      <th>Sales, M</th>\n",
       "      <th>Income, M</th>\n",
       "      <th>EPS Surprise %</th>\n",
       "      <th>Revenue Surprise %</th>\n",
       "      <th>Outstanding, M</th>\n",
       "      <th>Float, M</th>\n",
       "      <th>Float %</th>\n",
       "      <th>Insider Own %</th>\n",
       "      <th>Insider Trans %</th>\n",
       "      <th>Inst Own %</th>\n",
       "      <th>Inst Trans %</th>\n",
       "      <th>Short Float %</th>\n",
       "      <th>Short Ratio</th>\n",
       "      <th>Short Interest, M</th>\n",
       "      <th>ROA %</th>\n",
       "      <th>ROE %</th>\n",
       "      <th>ROIC %</th>\n",
       "      <th>Curr R</th>\n",
       "      <th>Quick R</th>\n",
       "      <th>LTDebt/Eq</th>\n",
       "      <th>Debt/Eq</th>\n",
       "      <th>Gross M %</th>\n",
       "      <th>Oper M %</th>\n",
       "      <th>Profit M %</th>\n",
       "      <th>Perf 3D %</th>\n",
       "      <th>Perf Week %</th>\n",
       "      <th>Perf Month %</th>\n",
       "      <th>Perf Quart %</th>\n",
       "      <th>Perf Half %</th>\n",
       "      <th>Perf Year %</th>\n",
       "      <th>Perf YTD %</th>\n",
       "      <th>Beta</th>\n",
       "      <th>ATR</th>\n",
       "      <th>ATR/Price %</th>\n",
       "      <th>Volatility W %</th>\n",
       "      <th>Volatility M %</th>\n",
       "      <th>SMA20 %</th>\n",
       "      <th>SMA50 %</th>\n",
       "      <th>SMA200 %</th>\n",
       "      <th>50D High %</th>\n",
       "      <th>50D Low %</th>\n",
       "      <th>52W High %</th>\n",
       "      <th>52W Low %</th>\n",
       "      <th>52W Range</th>\n",
       "      <th>All-Time High %</th>\n",
       "      <th>All-Time Low %</th>\n",
       "      <th>RSI</th>\n",
       "      <th>Earnings</th>\n",
       "      <th>IPO Date</th>\n",
       "      <th>Optionable</th>\n",
       "      <th>Shortable</th>\n",
       "      <th>Employees</th>\n",
       "      <th>Change from Open %</th>\n",
       "      <th>Gap %</th>\n",
       "      <th>Recom</th>\n",
       "      <th>Avg Volume, M</th>\n",
       "      <th>Rel Volume</th>\n",
       "      <th>Volume</th>\n",
       "      <th>Target Price</th>\n",
       "      <th>Prev Close</th>\n",
       "      <th>Open</th>\n",
       "      <th>High</th>\n",
       "      <th>Low</th>\n",
       "      <th>Price</th>\n",
       "      <th>Change %</th>\n",
       "      <th>Single Category</th>\n",
       "      <th>Asset Type</th>\n",
       "      <th>Expense %</th>\n",
       "      <th>Holdings</th>\n",
       "      <th>AUM, M</th>\n",
       "      <th>Flows 1M, M</th>\n",
       "      <th>Flows% 1M</th>\n",
       "      <th>Flows 3M, M</th>\n",
       "      <th>Flows% 3M</th>\n",
       "      <th>Flows YTD, M</th>\n",
       "      <th>Flows% YTD</th>\n",
       "      <th>Return% 1Y</th>\n",
       "      <th>Return% 3Y</th>\n",
       "      <th>Return% 5Y</th>\n",
       "      <th>Tags</th>\n",
       "      <th>Sharpe 3d</th>\n",
       "      <th>Sortino 3d</th>\n",
       "      <th>Omega 3d</th>\n",
       "      <th>Sharpe 5d</th>\n",
       "      <th>Sortino 5d</th>\n",
       "      <th>Omega 5d</th>\n",
       "      <th>Sharpe 10d</th>\n",
       "      <th>Sortino 10d</th>\n",
       "      <th>Omega 10d</th>\n",
       "      <th>Sharpe 15d</th>\n",
       "      <th>Sortino 15d</th>\n",
       "      <th>Omega 15d</th>\n",
       "      <th>Sharpe 30d</th>\n",
       "      <th>Sortino 30d</th>\n",
       "      <th>Omega 30d</th>\n",
       "      <th>Sharpe 60d</th>\n",
       "      <th>Sortino 60d</th>\n",
       "      <th>Omega 60d</th>\n",
       "      <th>Sharpe 120d</th>\n",
       "      <th>Sortino 120d</th>\n",
       "      <th>Omega 120d</th>\n",
       "      <th>Sharpe 250d</th>\n",
       "      <th>Sortino 250d</th>\n",
       "      <th>Omega 250d</th>\n",
       "    </tr>\n",
       "  </thead>\n",
       "  <tbody>\n",
       "    <tr>\n",
       "      <th>AIQ</th>\n",
       "      <td>396</td>\n",
       "      <td>Global X Artificial Intelligence &amp; Technology ETF</td>\n",
       "      <td>-</td>\n",
       "      <td>Financial</td>\n",
       "      <td>Exchange Traded Fund</td>\n",
       "      <td>USA</td>\n",
       "      <td>NASD</td>\n",
       "      <td>Financial, Exchange Traded Fund, Global or ExU...</td>\n",
       "      <td>3300.0</td>\n",
       "      <td>1556</td>\n",
       "      <td>NaN</td>\n",
       "      <td>NaN</td>\n",
       "      <td>NaN</td>\n",
       "      <td>NaN</td>\n",
       "      <td>NaN</td>\n",
       "      <td>NaN</td>\n",
       "      <td>NaN</td>\n",
       "      <td>NaN</td>\n",
       "      <td>NaN</td>\n",
       "      <td>NaN</td>\n",
       "      <td>0.13</td>\n",
       "      <td>0.05</td>\n",
       "      <td>12/30/2024</td>\n",
       "      <td>NaN</td>\n",
       "      <td>NaN</td>\n",
       "      <td>NaN</td>\n",
       "      <td>NaN</td>\n",
       "      <td>NaN</td>\n",
       "      <td>NaN</td>\n",
       "      <td>NaN</td>\n",
       "      <td>NaN</td>\n",
       "      <td>NaN</td>\n",
       "      <td>NaN</td>\n",
       "      <td>NaN</td>\n",
       "      <td>NaN</td>\n",
       "      <td>NaN</td>\n",
       "      <td>NaN</td>\n",
       "      <td>NaN</td>\n",
       "      <td>NaN</td>\n",
       "      <td>NaN</td>\n",
       "      <td>NaN</td>\n",
       "      <td>NaN</td>\n",
       "      <td>NaN</td>\n",
       "      <td>NaN</td>\n",
       "      <td>NaN</td>\n",
       "      <td>NaN</td>\n",
       "      <td>NaN</td>\n",
       "      <td>0.91</td>\n",
       "      <td>0.57</td>\n",
       "      <td>NaN</td>\n",
       "      <td>NaN</td>\n",
       "      <td>NaN</td>\n",
       "      <td>NaN</td>\n",
       "      <td>NaN</td>\n",
       "      <td>NaN</td>\n",
       "      <td>NaN</td>\n",
       "      <td>NaN</td>\n",
       "      <td>NaN</td>\n",
       "      <td>NaN</td>\n",
       "      <td>-1.140684</td>\n",
       "      <td>3.35</td>\n",
       "      <td>9.92</td>\n",
       "      <td>8.32</td>\n",
       "      <td>6.39</td>\n",
       "      <td>23.77</td>\n",
       "      <td>7.79</td>\n",
       "      <td>1.16</td>\n",
       "      <td>0.74</td>\n",
       "      <td>1.776711</td>\n",
       "      <td>0.65</td>\n",
       "      <td>1.23</td>\n",
       "      <td>2.62</td>\n",
       "      <td>10.70</td>\n",
       "      <td>9.33</td>\n",
       "      <td>-0.43</td>\n",
       "      <td>36.11</td>\n",
       "      <td>-2.64</td>\n",
       "      <td>36.11</td>\n",
       "      <td>30.60 - 42.78</td>\n",
       "      <td>-2.64</td>\n",
       "      <td>241.67</td>\n",
       "      <td>68.70</td>\n",
       "      <td>-</td>\n",
       "      <td>5/16/2018</td>\n",
       "      <td>Yes</td>\n",
       "      <td>Yes</td>\n",
       "      <td>NaN</td>\n",
       "      <td>0.41</td>\n",
       "      <td>0.68</td>\n",
       "      <td>NaN</td>\n",
       "      <td>0.62918</td>\n",
       "      <td>0.60</td>\n",
       "      <td>375658</td>\n",
       "      <td>NaN</td>\n",
       "      <td>41.20</td>\n",
       "      <td>41.48</td>\n",
       "      <td>41.72</td>\n",
       "      <td>41.42</td>\n",
       "      <td>41.65</td>\n",
       "      <td>1.09</td>\n",
       "      <td>Global or ExUS Equities - Factor &amp; Thematic</td>\n",
       "      <td>Equities (Stocks)</td>\n",
       "      <td>0.68</td>\n",
       "      <td>93.0</td>\n",
       "      <td>3300.0</td>\n",
       "      <td>91.88</td>\n",
       "      <td>2.86</td>\n",
       "      <td>32.82</td>\n",
       "      <td>1.00</td>\n",
       "      <td>530.22</td>\n",
       "      <td>19.11</td>\n",
       "      <td>22.95</td>\n",
       "      <td>22.29</td>\n",
       "      <td>16.32</td>\n",
       "      <td>Global, equity, technology, A.I., big-data</td>\n",
       "      <td>5.075081</td>\n",
       "      <td>18.526393</td>\n",
       "      <td>2.650462</td>\n",
       "      <td>13.156923</td>\n",
       "      <td>44.232354</td>\n",
       "      <td>6.572753</td>\n",
       "      <td>7.723002</td>\n",
       "      <td>23.814244</td>\n",
       "      <td>3.448134</td>\n",
       "      <td>1.869925</td>\n",
       "      <td>3.512460</td>\n",
       "      <td>1.349432</td>\n",
       "      <td>5.729581</td>\n",
       "      <td>17.209883</td>\n",
       "      <td>3.016411</td>\n",
       "      <td>1.451475</td>\n",
       "      <td>2.390104</td>\n",
       "      <td>1.345043</td>\n",
       "      <td>0.287880</td>\n",
       "      <td>0.427799</td>\n",
       "      <td>1.056351</td>\n",
       "      <td>0.714260</td>\n",
       "      <td>1.041811</td>\n",
       "      <td>1.143119</td>\n",
       "    </tr>\n",
       "    <tr>\n",
       "      <th>EPI</th>\n",
       "      <td>397</td>\n",
       "      <td>WisdomTree India Earnings Fund</td>\n",
       "      <td>-</td>\n",
       "      <td>Financial</td>\n",
       "      <td>Exchange Traded Fund</td>\n",
       "      <td>USA</td>\n",
       "      <td>NYSE</td>\n",
       "      <td>Financial, Exchange Traded Fund, Global or ExU...</td>\n",
       "      <td>3300.0</td>\n",
       "      <td>1557</td>\n",
       "      <td>NaN</td>\n",
       "      <td>NaN</td>\n",
       "      <td>NaN</td>\n",
       "      <td>NaN</td>\n",
       "      <td>NaN</td>\n",
       "      <td>NaN</td>\n",
       "      <td>NaN</td>\n",
       "      <td>NaN</td>\n",
       "      <td>NaN</td>\n",
       "      <td>NaN</td>\n",
       "      <td>0.26</td>\n",
       "      <td>0.12</td>\n",
       "      <td>12/26/2024</td>\n",
       "      <td>NaN</td>\n",
       "      <td>NaN</td>\n",
       "      <td>NaN</td>\n",
       "      <td>NaN</td>\n",
       "      <td>NaN</td>\n",
       "      <td>NaN</td>\n",
       "      <td>NaN</td>\n",
       "      <td>NaN</td>\n",
       "      <td>NaN</td>\n",
       "      <td>NaN</td>\n",
       "      <td>NaN</td>\n",
       "      <td>NaN</td>\n",
       "      <td>NaN</td>\n",
       "      <td>NaN</td>\n",
       "      <td>NaN</td>\n",
       "      <td>NaN</td>\n",
       "      <td>NaN</td>\n",
       "      <td>NaN</td>\n",
       "      <td>NaN</td>\n",
       "      <td>NaN</td>\n",
       "      <td>NaN</td>\n",
       "      <td>NaN</td>\n",
       "      <td>NaN</td>\n",
       "      <td>NaN</td>\n",
       "      <td>2.74</td>\n",
       "      <td>3.13</td>\n",
       "      <td>NaN</td>\n",
       "      <td>NaN</td>\n",
       "      <td>NaN</td>\n",
       "      <td>NaN</td>\n",
       "      <td>NaN</td>\n",
       "      <td>NaN</td>\n",
       "      <td>NaN</td>\n",
       "      <td>NaN</td>\n",
       "      <td>NaN</td>\n",
       "      <td>NaN</td>\n",
       "      <td>-1.949566</td>\n",
       "      <td>1.02</td>\n",
       "      <td>3.91</td>\n",
       "      <td>12.14</td>\n",
       "      <td>-1.79</td>\n",
       "      <td>5.87</td>\n",
       "      <td>3.23</td>\n",
       "      <td>0.56</td>\n",
       "      <td>0.50</td>\n",
       "      <td>1.069976</td>\n",
       "      <td>0.72</td>\n",
       "      <td>1.33</td>\n",
       "      <td>1.22</td>\n",
       "      <td>4.15</td>\n",
       "      <td>2.00</td>\n",
       "      <td>-0.04</td>\n",
       "      <td>14.38</td>\n",
       "      <td>-8.35</td>\n",
       "      <td>16.88</td>\n",
       "      <td>39.98 - 50.99</td>\n",
       "      <td>-8.35</td>\n",
       "      <td>434.67</td>\n",
       "      <td>59.91</td>\n",
       "      <td>-</td>\n",
       "      <td>2/22/2008</td>\n",
       "      <td>Yes</td>\n",
       "      <td>Yes</td>\n",
       "      <td>NaN</td>\n",
       "      <td>0.21</td>\n",
       "      <td>1.06</td>\n",
       "      <td>NaN</td>\n",
       "      <td>1.14000</td>\n",
       "      <td>0.40</td>\n",
       "      <td>452713</td>\n",
       "      <td>NaN</td>\n",
       "      <td>46.14</td>\n",
       "      <td>46.63</td>\n",
       "      <td>46.77</td>\n",
       "      <td>46.63</td>\n",
       "      <td>46.73</td>\n",
       "      <td>1.28</td>\n",
       "      <td>Global or ExUS Equities - Country Specific</td>\n",
       "      <td>Equities (Stocks)</td>\n",
       "      <td>0.85</td>\n",
       "      <td>411.0</td>\n",
       "      <td>3300.0</td>\n",
       "      <td>146.83</td>\n",
       "      <td>4.65</td>\n",
       "      <td>54.25</td>\n",
       "      <td>1.67</td>\n",
       "      <td>-97.57</td>\n",
       "      <td>-2.87</td>\n",
       "      <td>-3.27</td>\n",
       "      <td>13.65</td>\n",
       "      <td>21.33</td>\n",
       "      <td>India, equity, quality</td>\n",
       "      <td>17.807681</td>\n",
       "      <td>6500.631637</td>\n",
       "      <td>580.122295</td>\n",
       "      <td>1.159308</td>\n",
       "      <td>2.006087</td>\n",
       "      <td>1.231641</td>\n",
       "      <td>1.292103</td>\n",
       "      <td>2.052988</td>\n",
       "      <td>1.232133</td>\n",
       "      <td>0.300590</td>\n",
       "      <td>0.456211</td>\n",
       "      <td>1.047559</td>\n",
       "      <td>1.756063</td>\n",
       "      <td>2.827459</td>\n",
       "      <td>1.382066</td>\n",
       "      <td>2.430972</td>\n",
       "      <td>3.755977</td>\n",
       "      <td>1.546036</td>\n",
       "      <td>-0.296977</td>\n",
       "      <td>-0.417817</td>\n",
       "      <td>0.949650</td>\n",
       "      <td>-0.122566</td>\n",
       "      <td>-0.167631</td>\n",
       "      <td>0.979011</td>\n",
       "    </tr>\n",
       "    <tr>\n",
       "      <th>IBDR</th>\n",
       "      <td>399</td>\n",
       "      <td>iShares iBonds Dec 2026 Term Corporate ETF</td>\n",
       "      <td>-</td>\n",
       "      <td>Financial</td>\n",
       "      <td>Exchange Traded Fund</td>\n",
       "      <td>USA</td>\n",
       "      <td>NYSE</td>\n",
       "      <td>Financial, Exchange Traded Fund, Bonds - Corpo...</td>\n",
       "      <td>3290.0</td>\n",
       "      <td>1558</td>\n",
       "      <td>NaN</td>\n",
       "      <td>NaN</td>\n",
       "      <td>NaN</td>\n",
       "      <td>NaN</td>\n",
       "      <td>NaN</td>\n",
       "      <td>NaN</td>\n",
       "      <td>NaN</td>\n",
       "      <td>NaN</td>\n",
       "      <td>NaN</td>\n",
       "      <td>NaN</td>\n",
       "      <td>4.22</td>\n",
       "      <td>1.02</td>\n",
       "      <td>6/2/2025</td>\n",
       "      <td>NaN</td>\n",
       "      <td>NaN</td>\n",
       "      <td>NaN</td>\n",
       "      <td>NaN</td>\n",
       "      <td>NaN</td>\n",
       "      <td>NaN</td>\n",
       "      <td>NaN</td>\n",
       "      <td>NaN</td>\n",
       "      <td>NaN</td>\n",
       "      <td>NaN</td>\n",
       "      <td>NaN</td>\n",
       "      <td>NaN</td>\n",
       "      <td>NaN</td>\n",
       "      <td>NaN</td>\n",
       "      <td>NaN</td>\n",
       "      <td>NaN</td>\n",
       "      <td>NaN</td>\n",
       "      <td>NaN</td>\n",
       "      <td>NaN</td>\n",
       "      <td>NaN</td>\n",
       "      <td>NaN</td>\n",
       "      <td>NaN</td>\n",
       "      <td>NaN</td>\n",
       "      <td>NaN</td>\n",
       "      <td>0.41</td>\n",
       "      <td>0.24</td>\n",
       "      <td>NaN</td>\n",
       "      <td>NaN</td>\n",
       "      <td>NaN</td>\n",
       "      <td>NaN</td>\n",
       "      <td>NaN</td>\n",
       "      <td>NaN</td>\n",
       "      <td>NaN</td>\n",
       "      <td>NaN</td>\n",
       "      <td>NaN</td>\n",
       "      <td>NaN</td>\n",
       "      <td>0.082850</td>\n",
       "      <td>-0.29</td>\n",
       "      <td>-0.04</td>\n",
       "      <td>-0.04</td>\n",
       "      <td>0.25</td>\n",
       "      <td>1.60</td>\n",
       "      <td>0.29</td>\n",
       "      <td>0.15</td>\n",
       "      <td>0.03</td>\n",
       "      <td>0.124275</td>\n",
       "      <td>0.18</td>\n",
       "      <td>0.09</td>\n",
       "      <td>-0.10</td>\n",
       "      <td>-0.05</td>\n",
       "      <td>0.00</td>\n",
       "      <td>-0.37</td>\n",
       "      <td>0.54</td>\n",
       "      <td>-2.19</td>\n",
       "      <td>1.90</td>\n",
       "      <td>23.69 - 24.68</td>\n",
       "      <td>-11.05</td>\n",
       "      <td>8.88</td>\n",
       "      <td>44.85</td>\n",
       "      <td>-</td>\n",
       "      <td>9/19/2016</td>\n",
       "      <td>No</td>\n",
       "      <td>Yes</td>\n",
       "      <td>NaN</td>\n",
       "      <td>0.00</td>\n",
       "      <td>-0.04</td>\n",
       "      <td>NaN</td>\n",
       "      <td>0.59792</td>\n",
       "      <td>0.81</td>\n",
       "      <td>481871</td>\n",
       "      <td>NaN</td>\n",
       "      <td>24.15</td>\n",
       "      <td>24.14</td>\n",
       "      <td>24.14</td>\n",
       "      <td>24.13</td>\n",
       "      <td>24.14</td>\n",
       "      <td>-0.04</td>\n",
       "      <td>Bonds - Corporate</td>\n",
       "      <td>Bonds</td>\n",
       "      <td>0.10</td>\n",
       "      <td>656.0</td>\n",
       "      <td>3290.0</td>\n",
       "      <td>35.01</td>\n",
       "      <td>1.08</td>\n",
       "      <td>54.44</td>\n",
       "      <td>1.68</td>\n",
       "      <td>189.42</td>\n",
       "      <td>6.11</td>\n",
       "      <td>5.70</td>\n",
       "      <td>3.46</td>\n",
       "      <td>1.33</td>\n",
       "      <td>U.S., fixed-income, corporate-bonds, bonds, in...</td>\n",
       "      <td>-19.830784</td>\n",
       "      <td>-13.814899</td>\n",
       "      <td>0.000000</td>\n",
       "      <td>-1.675852</td>\n",
       "      <td>-2.840316</td>\n",
       "      <td>0.752709</td>\n",
       "      <td>0.093502</td>\n",
       "      <td>0.152134</td>\n",
       "      <td>1.015590</td>\n",
       "      <td>0.142614</td>\n",
       "      <td>0.199409</td>\n",
       "      <td>1.023852</td>\n",
       "      <td>-0.055379</td>\n",
       "      <td>-0.074726</td>\n",
       "      <td>0.991462</td>\n",
       "      <td>0.425126</td>\n",
       "      <td>0.595306</td>\n",
       "      <td>1.076134</td>\n",
       "      <td>0.513075</td>\n",
       "      <td>0.718558</td>\n",
       "      <td>1.088099</td>\n",
       "      <td>1.553311</td>\n",
       "      <td>2.439985</td>\n",
       "      <td>1.292709</td>\n",
       "    </tr>\n",
       "    <tr>\n",
       "      <th>SLYG</th>\n",
       "      <td>398</td>\n",
       "      <td>SPDR S&amp;P 600 Small Cap Growth ETF</td>\n",
       "      <td>-</td>\n",
       "      <td>Financial</td>\n",
       "      <td>Exchange Traded Fund</td>\n",
       "      <td>USA</td>\n",
       "      <td>NYSE</td>\n",
       "      <td>Financial, Exchange Traded Fund, US Equities -...</td>\n",
       "      <td>3290.0</td>\n",
       "      <td>1559</td>\n",
       "      <td>NaN</td>\n",
       "      <td>NaN</td>\n",
       "      <td>NaN</td>\n",
       "      <td>NaN</td>\n",
       "      <td>NaN</td>\n",
       "      <td>NaN</td>\n",
       "      <td>NaN</td>\n",
       "      <td>NaN</td>\n",
       "      <td>NaN</td>\n",
       "      <td>NaN</td>\n",
       "      <td>1.29</td>\n",
       "      <td>1.13</td>\n",
       "      <td>3/24/2025</td>\n",
       "      <td>NaN</td>\n",
       "      <td>NaN</td>\n",
       "      <td>NaN</td>\n",
       "      <td>NaN</td>\n",
       "      <td>NaN</td>\n",
       "      <td>NaN</td>\n",
       "      <td>NaN</td>\n",
       "      <td>NaN</td>\n",
       "      <td>NaN</td>\n",
       "      <td>NaN</td>\n",
       "      <td>NaN</td>\n",
       "      <td>NaN</td>\n",
       "      <td>NaN</td>\n",
       "      <td>NaN</td>\n",
       "      <td>NaN</td>\n",
       "      <td>NaN</td>\n",
       "      <td>NaN</td>\n",
       "      <td>NaN</td>\n",
       "      <td>NaN</td>\n",
       "      <td>NaN</td>\n",
       "      <td>NaN</td>\n",
       "      <td>NaN</td>\n",
       "      <td>NaN</td>\n",
       "      <td>NaN</td>\n",
       "      <td>1.23</td>\n",
       "      <td>0.32</td>\n",
       "      <td>NaN</td>\n",
       "      <td>NaN</td>\n",
       "      <td>NaN</td>\n",
       "      <td>NaN</td>\n",
       "      <td>NaN</td>\n",
       "      <td>NaN</td>\n",
       "      <td>NaN</td>\n",
       "      <td>NaN</td>\n",
       "      <td>NaN</td>\n",
       "      <td>NaN</td>\n",
       "      <td>-2.713397</td>\n",
       "      <td>2.37</td>\n",
       "      <td>5.93</td>\n",
       "      <td>3.45</td>\n",
       "      <td>-11.99</td>\n",
       "      <td>1.98</td>\n",
       "      <td>-2.96</td>\n",
       "      <td>1.08</td>\n",
       "      <td>1.43</td>\n",
       "      <td>1.630931</td>\n",
       "      <td>0.70</td>\n",
       "      <td>1.25</td>\n",
       "      <td>1.65</td>\n",
       "      <td>6.38</td>\n",
       "      <td>-2.12</td>\n",
       "      <td>-0.15</td>\n",
       "      <td>22.42</td>\n",
       "      <td>-13.72</td>\n",
       "      <td>22.42</td>\n",
       "      <td>71.62 - 101.62</td>\n",
       "      <td>-13.72</td>\n",
       "      <td>966.54</td>\n",
       "      <td>62.75</td>\n",
       "      <td>-</td>\n",
       "      <td>9/29/2000</td>\n",
       "      <td>Yes</td>\n",
       "      <td>Yes</td>\n",
       "      <td>NaN</td>\n",
       "      <td>-0.07</td>\n",
       "      <td>1.29</td>\n",
       "      <td>NaN</td>\n",
       "      <td>0.26055</td>\n",
       "      <td>0.30</td>\n",
       "      <td>78001</td>\n",
       "      <td>NaN</td>\n",
       "      <td>86.62</td>\n",
       "      <td>87.74</td>\n",
       "      <td>88.00</td>\n",
       "      <td>87.26</td>\n",
       "      <td>87.68</td>\n",
       "      <td>1.22</td>\n",
       "      <td>US Equities - US Style</td>\n",
       "      <td>Equities (Stocks)</td>\n",
       "      <td>0.15</td>\n",
       "      <td>345.0</td>\n",
       "      <td>3290.0</td>\n",
       "      <td>89.39</td>\n",
       "      <td>2.79</td>\n",
       "      <td>-122.34</td>\n",
       "      <td>-3.58</td>\n",
       "      <td>-159.68</td>\n",
       "      <td>-4.62</td>\n",
       "      <td>0.29</td>\n",
       "      <td>5.25</td>\n",
       "      <td>10.49</td>\n",
       "      <td>U.S., equity, growth, small-cap, SP600</td>\n",
       "      <td>12.992078</td>\n",
       "      <td>6500.631637</td>\n",
       "      <td>580.122295</td>\n",
       "      <td>11.552479</td>\n",
       "      <td>65.169761</td>\n",
       "      <td>9.210618</td>\n",
       "      <td>5.838795</td>\n",
       "      <td>15.015610</td>\n",
       "      <td>3.065190</td>\n",
       "      <td>-0.251086</td>\n",
       "      <td>-0.376177</td>\n",
       "      <td>0.953683</td>\n",
       "      <td>3.821879</td>\n",
       "      <td>7.622485</td>\n",
       "      <td>2.000055</td>\n",
       "      <td>1.124885</td>\n",
       "      <td>1.727356</td>\n",
       "      <td>1.240596</td>\n",
       "      <td>-0.745612</td>\n",
       "      <td>-1.042129</td>\n",
       "      <td>0.869171</td>\n",
       "      <td>0.109238</td>\n",
       "      <td>0.159999</td>\n",
       "      <td>1.019903</td>\n",
       "    </tr>\n",
       "    <tr>\n",
       "      <th>XT</th>\n",
       "      <td>400</td>\n",
       "      <td>iShares Exponential Technologies ETF</td>\n",
       "      <td>-</td>\n",
       "      <td>Financial</td>\n",
       "      <td>Exchange Traded Fund</td>\n",
       "      <td>USA</td>\n",
       "      <td>NASD</td>\n",
       "      <td>Financial, Exchange Traded Fund, Global or ExU...</td>\n",
       "      <td>3290.0</td>\n",
       "      <td>1560</td>\n",
       "      <td>NaN</td>\n",
       "      <td>NaN</td>\n",
       "      <td>NaN</td>\n",
       "      <td>NaN</td>\n",
       "      <td>NaN</td>\n",
       "      <td>NaN</td>\n",
       "      <td>NaN</td>\n",
       "      <td>NaN</td>\n",
       "      <td>NaN</td>\n",
       "      <td>NaN</td>\n",
       "      <td>0.61</td>\n",
       "      <td>0.38</td>\n",
       "      <td>12/30/2024</td>\n",
       "      <td>NaN</td>\n",
       "      <td>NaN</td>\n",
       "      <td>NaN</td>\n",
       "      <td>NaN</td>\n",
       "      <td>NaN</td>\n",
       "      <td>NaN</td>\n",
       "      <td>NaN</td>\n",
       "      <td>NaN</td>\n",
       "      <td>NaN</td>\n",
       "      <td>NaN</td>\n",
       "      <td>NaN</td>\n",
       "      <td>NaN</td>\n",
       "      <td>NaN</td>\n",
       "      <td>NaN</td>\n",
       "      <td>NaN</td>\n",
       "      <td>NaN</td>\n",
       "      <td>NaN</td>\n",
       "      <td>NaN</td>\n",
       "      <td>NaN</td>\n",
       "      <td>NaN</td>\n",
       "      <td>NaN</td>\n",
       "      <td>NaN</td>\n",
       "      <td>NaN</td>\n",
       "      <td>NaN</td>\n",
       "      <td>0.11</td>\n",
       "      <td>0.02</td>\n",
       "      <td>NaN</td>\n",
       "      <td>NaN</td>\n",
       "      <td>NaN</td>\n",
       "      <td>NaN</td>\n",
       "      <td>NaN</td>\n",
       "      <td>NaN</td>\n",
       "      <td>NaN</td>\n",
       "      <td>NaN</td>\n",
       "      <td>NaN</td>\n",
       "      <td>NaN</td>\n",
       "      <td>-1.579359</td>\n",
       "      <td>3.04</td>\n",
       "      <td>7.74</td>\n",
       "      <td>3.53</td>\n",
       "      <td>1.86</td>\n",
       "      <td>8.55</td>\n",
       "      <td>5.75</td>\n",
       "      <td>1.07</td>\n",
       "      <td>0.85</td>\n",
       "      <td>1.347282</td>\n",
       "      <td>0.33</td>\n",
       "      <td>0.97</td>\n",
       "      <td>2.42</td>\n",
       "      <td>8.21</td>\n",
       "      <td>5.08</td>\n",
       "      <td>-0.41</td>\n",
       "      <td>28.73</td>\n",
       "      <td>-1.82</td>\n",
       "      <td>28.73</td>\n",
       "      <td>49.01 - 64.26</td>\n",
       "      <td>-6.49</td>\n",
       "      <td>200.32</td>\n",
       "      <td>68.58</td>\n",
       "      <td>-</td>\n",
       "      <td>3/24/2015</td>\n",
       "      <td>Yes</td>\n",
       "      <td>Yes</td>\n",
       "      <td>NaN</td>\n",
       "      <td>0.03</td>\n",
       "      <td>0.41</td>\n",
       "      <td>NaN</td>\n",
       "      <td>0.15986</td>\n",
       "      <td>1.24</td>\n",
       "      <td>196503</td>\n",
       "      <td>NaN</td>\n",
       "      <td>62.81</td>\n",
       "      <td>63.07</td>\n",
       "      <td>63.25</td>\n",
       "      <td>62.97</td>\n",
       "      <td>63.09</td>\n",
       "      <td>0.45</td>\n",
       "      <td>Global or ExUS Equities - Factor &amp; Thematic</td>\n",
       "      <td>Equities (Stocks)</td>\n",
       "      <td>0.46</td>\n",
       "      <td>226.0</td>\n",
       "      <td>3290.0</td>\n",
       "      <td>-15.24</td>\n",
       "      <td>-0.46</td>\n",
       "      <td>48.33</td>\n",
       "      <td>1.49</td>\n",
       "      <td>-100.46</td>\n",
       "      <td>-2.97</td>\n",
       "      <td>8.62</td>\n",
       "      <td>7.11</td>\n",
       "      <td>8.44</td>\n",
       "      <td>Global, equity, technology</td>\n",
       "      <td>27.752466</td>\n",
       "      <td>6500.631637</td>\n",
       "      <td>580.122295</td>\n",
       "      <td>26.087034</td>\n",
       "      <td>4100.390290</td>\n",
       "      <td>517.600618</td>\n",
       "      <td>7.297280</td>\n",
       "      <td>14.965088</td>\n",
       "      <td>3.097951</td>\n",
       "      <td>2.642583</td>\n",
       "      <td>4.517478</td>\n",
       "      <td>1.520866</td>\n",
       "      <td>5.072909</td>\n",
       "      <td>13.076032</td>\n",
       "      <td>2.677476</td>\n",
       "      <td>1.030672</td>\n",
       "      <td>1.634883</td>\n",
       "      <td>1.236413</td>\n",
       "      <td>0.142559</td>\n",
       "      <td>0.208954</td>\n",
       "      <td>1.028544</td>\n",
       "      <td>0.292821</td>\n",
       "      <td>0.420867</td>\n",
       "      <td>1.055989</td>\n",
       "    </tr>\n",
       "  </tbody>\n",
       "</table>\n",
       "</div>"
      ],
      "text/plain": [
       "      No.                                            Company Index     Sector              Industry Country Exchange                                               Info  MktCap AUM, M  Rank  Market Cap, M  P/E  Fwd P/E  PEG  P/S  P/B  P/C  P/FCF  Book/sh  Cash/sh  Dividend %  Dividend TTM Dividend Ex Date  Payout Ratio %  EPS  EPS next Q  EPS this Y %  EPS next Y %  EPS past 5Y %  EPS next 5Y %  Sales past 5Y %  Sales Q/Q %  EPS Q/Q %  EPS YoY TTM %  Sales YoY TTM %  Sales, M  Income, M  EPS Surprise %  Revenue Surprise %  Outstanding, M  Float, M  Float %  Insider Own %  Insider Trans %  Inst Own %  Inst Trans %  Short Float %  Short Ratio  Short Interest, M  ROA %  ROE %  ROIC %  Curr R  Quick R  LTDebt/Eq  Debt/Eq  Gross M %  Oper M %  Profit M %  Perf 3D %  Perf Week %  Perf Month %  Perf Quart %  Perf Half %  Perf Year %  Perf YTD %  Beta   ATR  ATR/Price %  Volatility W %  Volatility M %  SMA20 %  SMA50 %  SMA200 %  50D High %  50D Low %  52W High %  52W Low %       52W Range  All-Time High %  All-Time Low %    RSI Earnings   IPO Date Optionable Shortable  Employees  Change from Open %  Gap %  Recom  Avg Volume, M  Rel Volume  Volume  Target Price  Prev Close   Open   High    Low  Price  Change %                              Single Category         Asset Type  Expense %  Holdings  AUM, M  Flows 1M, M  Flows% 1M  Flows 3M, M  Flows% 3M  Flows YTD, M  Flows% YTD  Return% 1Y  Return% 3Y  Return% 5Y                                               Tags  Sharpe 3d   Sortino 3d    Omega 3d  Sharpe 5d   Sortino 5d    Omega 5d  Sharpe 10d  Sortino 10d  Omega 10d  Sharpe 15d  Sortino 15d  Omega 15d  Sharpe 30d  Sortino 30d  Omega 30d  Sharpe 60d  Sortino 60d  Omega 60d  Sharpe 120d  Sortino 120d  Omega 120d  Sharpe 250d  Sortino 250d  Omega 250d\n",
       "AIQ   396  Global X Artificial Intelligence & Technology ETF     -  Financial  Exchange Traded Fund     USA     NASD  Financial, Exchange Traded Fund, Global or ExU...         3300.0  1556            NaN  NaN      NaN  NaN  NaN  NaN  NaN    NaN      NaN      NaN        0.13          0.05       12/30/2024             NaN  NaN         NaN           NaN           NaN            NaN            NaN              NaN          NaN        NaN            NaN              NaN       NaN        NaN             NaN                 NaN             NaN       NaN      NaN            NaN              NaN         NaN           NaN            NaN         0.91               0.57    NaN    NaN     NaN     NaN      NaN        NaN      NaN        NaN       NaN         NaN  -1.140684         3.35          9.92          8.32         6.39        23.77        7.79  1.16  0.74     1.776711            0.65            1.23     2.62    10.70      9.33       -0.43      36.11       -2.64      36.11   30.60 - 42.78            -2.64          241.67  68.70        -  5/16/2018        Yes       Yes        NaN                0.41   0.68    NaN        0.62918        0.60  375658           NaN       41.20  41.48  41.72  41.42  41.65      1.09  Global or ExUS Equities - Factor & Thematic  Equities (Stocks)       0.68      93.0  3300.0        91.88       2.86        32.82       1.00        530.22       19.11       22.95       22.29       16.32         Global, equity, technology, A.I., big-data   5.075081    18.526393    2.650462  13.156923    44.232354    6.572753    7.723002    23.814244   3.448134    1.869925     3.512460   1.349432    5.729581    17.209883   3.016411    1.451475     2.390104   1.345043     0.287880      0.427799    1.056351     0.714260      1.041811    1.143119\n",
       "EPI   397                     WisdomTree India Earnings Fund     -  Financial  Exchange Traded Fund     USA     NYSE  Financial, Exchange Traded Fund, Global or ExU...         3300.0  1557            NaN  NaN      NaN  NaN  NaN  NaN  NaN    NaN      NaN      NaN        0.26          0.12       12/26/2024             NaN  NaN         NaN           NaN           NaN            NaN            NaN              NaN          NaN        NaN            NaN              NaN       NaN        NaN             NaN                 NaN             NaN       NaN      NaN            NaN              NaN         NaN           NaN            NaN         2.74               3.13    NaN    NaN     NaN     NaN      NaN        NaN      NaN        NaN       NaN         NaN  -1.949566         1.02          3.91         12.14        -1.79         5.87        3.23  0.56  0.50     1.069976            0.72            1.33     1.22     4.15      2.00       -0.04      14.38       -8.35      16.88   39.98 - 50.99            -8.35          434.67  59.91        -  2/22/2008        Yes       Yes        NaN                0.21   1.06    NaN        1.14000        0.40  452713           NaN       46.14  46.63  46.77  46.63  46.73      1.28   Global or ExUS Equities - Country Specific  Equities (Stocks)       0.85     411.0  3300.0       146.83       4.65        54.25       1.67        -97.57       -2.87       -3.27       13.65       21.33                             India, equity, quality  17.807681  6500.631637  580.122295   1.159308     2.006087    1.231641    1.292103     2.052988   1.232133    0.300590     0.456211   1.047559    1.756063     2.827459   1.382066    2.430972     3.755977   1.546036    -0.296977     -0.417817    0.949650    -0.122566     -0.167631    0.979011\n",
       "IBDR  399         iShares iBonds Dec 2026 Term Corporate ETF     -  Financial  Exchange Traded Fund     USA     NYSE  Financial, Exchange Traded Fund, Bonds - Corpo...         3290.0  1558            NaN  NaN      NaN  NaN  NaN  NaN  NaN    NaN      NaN      NaN        4.22          1.02         6/2/2025             NaN  NaN         NaN           NaN           NaN            NaN            NaN              NaN          NaN        NaN            NaN              NaN       NaN        NaN             NaN                 NaN             NaN       NaN      NaN            NaN              NaN         NaN           NaN            NaN         0.41               0.24    NaN    NaN     NaN     NaN      NaN        NaN      NaN        NaN       NaN         NaN   0.082850        -0.29         -0.04         -0.04         0.25         1.60        0.29  0.15  0.03     0.124275            0.18            0.09    -0.10    -0.05      0.00       -0.37       0.54       -2.19       1.90   23.69 - 24.68           -11.05            8.88  44.85        -  9/19/2016         No       Yes        NaN                0.00  -0.04    NaN        0.59792        0.81  481871           NaN       24.15  24.14  24.14  24.13  24.14     -0.04                            Bonds - Corporate              Bonds       0.10     656.0  3290.0        35.01       1.08        54.44       1.68        189.42        6.11        5.70        3.46        1.33  U.S., fixed-income, corporate-bonds, bonds, in... -19.830784   -13.814899    0.000000  -1.675852    -2.840316    0.752709    0.093502     0.152134   1.015590    0.142614     0.199409   1.023852   -0.055379    -0.074726   0.991462    0.425126     0.595306   1.076134     0.513075      0.718558    1.088099     1.553311      2.439985    1.292709\n",
       "SLYG  398                  SPDR S&P 600 Small Cap Growth ETF     -  Financial  Exchange Traded Fund     USA     NYSE  Financial, Exchange Traded Fund, US Equities -...         3290.0  1559            NaN  NaN      NaN  NaN  NaN  NaN  NaN    NaN      NaN      NaN        1.29          1.13        3/24/2025             NaN  NaN         NaN           NaN           NaN            NaN            NaN              NaN          NaN        NaN            NaN              NaN       NaN        NaN             NaN                 NaN             NaN       NaN      NaN            NaN              NaN         NaN           NaN            NaN         1.23               0.32    NaN    NaN     NaN     NaN      NaN        NaN      NaN        NaN       NaN         NaN  -2.713397         2.37          5.93          3.45       -11.99         1.98       -2.96  1.08  1.43     1.630931            0.70            1.25     1.65     6.38     -2.12       -0.15      22.42      -13.72      22.42  71.62 - 101.62           -13.72          966.54  62.75        -  9/29/2000        Yes       Yes        NaN               -0.07   1.29    NaN        0.26055        0.30   78001           NaN       86.62  87.74  88.00  87.26  87.68      1.22                       US Equities - US Style  Equities (Stocks)       0.15     345.0  3290.0        89.39       2.79      -122.34      -3.58       -159.68       -4.62        0.29        5.25       10.49             U.S., equity, growth, small-cap, SP600  12.992078  6500.631637  580.122295  11.552479    65.169761    9.210618    5.838795    15.015610   3.065190   -0.251086    -0.376177   0.953683    3.821879     7.622485   2.000055    1.124885     1.727356   1.240596    -0.745612     -1.042129    0.869171     0.109238      0.159999    1.019903\n",
       "XT    400               iShares Exponential Technologies ETF     -  Financial  Exchange Traded Fund     USA     NASD  Financial, Exchange Traded Fund, Global or ExU...         3290.0  1560            NaN  NaN      NaN  NaN  NaN  NaN  NaN    NaN      NaN      NaN        0.61          0.38       12/30/2024             NaN  NaN         NaN           NaN           NaN            NaN            NaN              NaN          NaN        NaN            NaN              NaN       NaN        NaN             NaN                 NaN             NaN       NaN      NaN            NaN              NaN         NaN           NaN            NaN         0.11               0.02    NaN    NaN     NaN     NaN      NaN        NaN      NaN        NaN       NaN         NaN  -1.579359         3.04          7.74          3.53         1.86         8.55        5.75  1.07  0.85     1.347282            0.33            0.97     2.42     8.21      5.08       -0.41      28.73       -1.82      28.73   49.01 - 64.26            -6.49          200.32  68.58        -  3/24/2015        Yes       Yes        NaN                0.03   0.41    NaN        0.15986        1.24  196503           NaN       62.81  63.07  63.25  62.97  63.09      0.45  Global or ExUS Equities - Factor & Thematic  Equities (Stocks)       0.46     226.0  3290.0       -15.24      -0.46        48.33       1.49       -100.46       -2.97        8.62        7.11        8.44                         Global, equity, technology  27.752466  6500.631637  580.122295  26.087034  4100.390290  517.600618    7.297280    14.965088   3.097951    2.642583     4.517478   1.520866    5.072909    13.076032   2.677476    1.030672     1.634883   1.236413     0.142559      0.208954    1.028544     0.292821      0.420867    1.055989"
      ]
     },
     "execution_count": 71,
     "metadata": {},
     "output_type": "execute_result"
    }
   ],
   "source": [
    "df.tail()"
   ]
  },
  {
   "cell_type": "code",
   "execution_count": null,
   "metadata": {},
   "outputs": [],
   "source": [
    "for i, file in enumerate(file_list):\n",
    "    print(f'file_list[{i}]: {file}')"
   ]
  },
  {
   "cell_type": "code",
   "execution_count": null,
   "metadata": {},
   "outputs": [],
   "source": [
    "myfile_list = file_list[0:149]\n",
    "myfile_list[-4::]"
   ]
  },
  {
   "cell_type": "code",
   "execution_count": null,
   "metadata": {},
   "outputs": [],
   "source": [
    "# for file in myfile_list[-4::]:\n",
    "# for file in file_list[145:150]:\n",
    "for file in file_list[145:150]:\n",
    "    df_temp = pd.read_parquet(DATA_DIR / file)\n",
    "    print(f'{file}:\\n{df_temp.tail(5)}\\n')"
   ]
  },
  {
   "cell_type": "code",
   "execution_count": null,
   "metadata": {},
   "outputs": [],
   "source": [
    "file_list[0:150]"
   ]
  },
  {
   "cell_type": "code",
   "execution_count": null,
   "metadata": {},
   "outputs": [],
   "source": [
    "# file_list[0:150]\n",
    "file_list[0:5]"
   ]
  },
  {
   "cell_type": "code",
   "execution_count": null,
   "metadata": {},
   "outputs": [],
   "source": [
    "import pandas as pd\n",
    "from pathlib import Path\n",
    "\n",
    "# --- Setup: Define your data directory and file list ---\n",
    "# (Replace with your actual path)\n",
    "# DATA_DIR = Path('your_data_directory/') \n",
    "# file_list = [\n",
    "#     # ... your full list of 150 files goes here ...\n",
    "#     '2025-06-05_df_perf_ratios_stocks_etfs.parquet',\n",
    "#     '2025-06-06_df_common_tickers_stocks_etfs.parquet',\n",
    "#     '2025-06-06_df_finviz_merged_stocks_etfs.parquet',\n",
    "#     '2025-06-06_df_finviz_n_ratios_stocks_etfs.parquet',\n",
    "#     '2025-06-06_df_finviz_stocks_etfs.parquet',\n",
    "#     '2025-06-06_df_perf_ratios_stocks_etfs.parquet'\n",
    "# ]\n",
    "# For demonstration, I'll use a subset of your list.\n",
    "# The code works on the full list provided.\n",
    "\n",
    "# IMPORTANT: This script will modify and overwrite your original parquet files.\n",
    "# It's recommended to work on a copy of your data first.\n",
    "\n",
    "def reindex_data_files(file_list, data_dir):\n",
    "    \"\"\"\n",
    "    Iterates through a list of data files grouped by date, re-indexing \n",
    "    specific files using tickers from a 'common_tickers' file.\n",
    "\n",
    "    Args:\n",
    "        file_list (list): A list of parquet filenames, sorted by date and type.\n",
    "        data_dir (Path): A pathlib.Path object to the directory containing the files.\n",
    "    \"\"\"\n",
    "    # Iterate through the file list in chunks of 5\n",
    "    for i in range(0, len(file_list), 5):\n",
    "        # Isolate the 5 files for the current date\n",
    "        chunk = file_list[i:i+5]\n",
    "        \n",
    "        # Define the source and target files based on their consistent naming pattern\n",
    "        common_tickers_file = chunk[0]\n",
    "        files_to_reindex = [chunk[1], chunk[2], chunk[3]]\n",
    "        \n",
    "        # Extract the date for logging purposes\n",
    "        date_prefix = common_tickers_file.split('_')[0]\n",
    "        print(f\"--- Processing Date: {date_prefix} ---\")\n",
    "\n",
    "        try:\n",
    "            # 1. Read the file containing the tickers and extract them from the index\n",
    "            df_common = pd.read_parquet(data_dir / common_tickers_file)\n",
    "            tickers = df_common.index.to_list()\n",
    "            print(f\"  Found {len(tickers)} tickers in {common_tickers_file}\")\n",
    "\n",
    "            # 2. Loop through the target files to re-index them\n",
    "            for target_filename in files_to_reindex:\n",
    "                target_path = data_dir / target_filename\n",
    "                df_target = pd.read_parquet(target_path)\n",
    "                \n",
    "                # Sanity Check: Ensure the number of rows matches the number of tickers\n",
    "                if len(df_target) == len(tickers):\n",
    "                    # Replace the integer index with the list of tickers\n",
    "                    df_target.index = tickers\n",
    "                    \n",
    "                    # Overwrite the original file with the re-indexed DataFrame\n",
    "                    df_target.to_parquet(target_path)\n",
    "                    print(f\"    - Re-indexed and saved: {target_filename}\")\n",
    "                else:\n",
    "                    # Print a warning if lengths do not match\n",
    "                    print(f\"    - WARNING: Skipped {target_filename}. Row count ({len(df_target)})\"\n",
    "                          f\" does not match ticker count ({len(tickers)}).\")\n",
    "\n",
    "        except FileNotFoundError as e:\n",
    "            print(f\"  - ERROR: Could not find file {e.filename}. Skipping this date.\")\n",
    "        except Exception as e:\n",
    "            print(f\"  - An unexpected error occurred on {date_prefix}: {e}\")\n",
    "\n",
    "\n",
    "\n",
    "\n",
    "# --- Execute the function ---\n",
    "reindex_data_files(file_list[0:150], DATA_DIR)\n",
    "print(\"\\n--- Processing complete. ---\")"
   ]
  },
  {
   "cell_type": "code",
   "execution_count": null,
   "metadata": {},
   "outputs": [],
   "source": []
  },
  {
   "cell_type": "code",
   "execution_count": null,
   "metadata": {},
   "outputs": [],
   "source": []
  },
  {
   "cell_type": "code",
   "execution_count": null,
   "metadata": {},
   "outputs": [],
   "source": [
    "for file in file_list[0:5]:\n",
    "    df_temp = pd.read_parquet(DATA_DIR / file)\n",
    "    print(f'{file}:\\n{df_temp.tail(5)}\\n')"
   ]
  },
  {
   "cell_type": "code",
   "execution_count": null,
   "metadata": {},
   "outputs": [],
   "source": [
    "_file = '2025-04-25_df_finviz_merged_stocks_etfs.parquet'\n",
    "_file = '2025-04-25_df_finviz_n_ratios_stocks_etfs.parquet'\n",
    "df_2025_04_25 = pd.read_parquet(DATA_DIR / _file)\n",
    "print(df_2025_04_25)\n",
    "print(df_2025_04_25.index)"
   ]
  },
  {
   "cell_type": "code",
   "execution_count": null,
   "metadata": {},
   "outputs": [],
   "source": [
    "_file = '2025-06-09_df_finviz_merged_stocks_etfs.parquet'\n",
    "_file = '2025-06-09_df_finviz_n_ratios_stocks_etfs.parquet'\n",
    "df_2025_06_09 = pd.read_parquet(DATA_DIR / _file)\n",
    "print(df_2025_06_09)\n",
    "print(df_2025_06_09.index)"
   ]
  },
  {
   "cell_type": "code",
   "execution_count": null,
   "metadata": {},
   "outputs": [],
   "source": []
  },
  {
   "cell_type": "code",
   "execution_count": null,
   "metadata": {},
   "outputs": [],
   "source": []
  },
  {
   "cell_type": "code",
   "execution_count": null,
   "metadata": {},
   "outputs": [],
   "source": [
    "# df_ticker = df.copy()\n",
    "print(f'df_ticker:\\n{df_ticker.tail(10)}\\n')"
   ]
  },
  {
   "cell_type": "code",
   "execution_count": null,
   "metadata": {},
   "outputs": [],
   "source": []
  },
  {
   "cell_type": "code",
   "execution_count": null,
   "metadata": {},
   "outputs": [],
   "source": [
    "# df_30 = df.copy()\n",
    "print(df_30)"
   ]
  },
  {
   "cell_type": "markdown",
   "metadata": {},
   "source": [
    "### Re-index 1-30 with ticker 2025-06-06"
   ]
  },
  {
   "cell_type": "code",
   "execution_count": null,
   "metadata": {},
   "outputs": [],
   "source": []
  },
  {
   "cell_type": "code",
   "execution_count": null,
   "metadata": {},
   "outputs": [],
   "source": [
    "# df_31 = df.copy()\n",
    "print(df_31)"
   ]
  },
  {
   "cell_type": "code",
   "execution_count": null,
   "metadata": {},
   "outputs": [],
   "source": [
    "df_31.index.names "
   ]
  },
  {
   "cell_type": "code",
   "execution_count": null,
   "metadata": {},
   "outputs": [],
   "source": []
  },
  {
   "cell_type": "code",
   "execution_count": null,
   "metadata": {},
   "outputs": [],
   "source": []
  },
  {
   "cell_type": "code",
   "execution_count": null,
   "metadata": {},
   "outputs": [],
   "source": []
  },
  {
   "cell_type": "code",
   "execution_count": null,
   "metadata": {},
   "outputs": [],
   "source": [
    "print(df.columns)"
   ]
  },
  {
   "cell_type": "code",
   "execution_count": null,
   "metadata": {},
   "outputs": [],
   "source": []
  },
  {
   "cell_type": "code",
   "execution_count": null,
   "metadata": {},
   "outputs": [],
   "source": [
    "# print(df)\n",
    "print(df.loc[:, ['MktCap AUM, M', 'Rank', 'Price', 'ATR/Price %']])\n",
    "_df = df.loc[:, ['MktCap AUM, M', 'Rank', 'Price', 'ATR/Price %']].copy()"
   ]
  },
  {
   "cell_type": "code",
   "execution_count": null,
   "metadata": {},
   "outputs": [],
   "source": [
    "my_tickers = [\n",
    "  'COIN',\n",
    "  'ORCL',\n",
    "  'META',\n",
    "  'MSTR',\n",
    "  'NVDA',\n",
    "  'SHOP',\n",
    "  'SNOW',\n",
    "  'VGT',\n",
    "]\n",
    "_df = _df.loc[my_tickers].copy()"
   ]
  },
  {
   "cell_type": "code",
   "execution_count": null,
   "metadata": {},
   "outputs": [],
   "source": [
    "_df.to_csv(os.path.join(os.path.expanduser(\"~\"), \"Desktop\", \"ATR_Price.csv\"))"
   ]
  },
  {
   "cell_type": "code",
   "execution_count": null,
   "metadata": {},
   "outputs": [],
   "source": [
    "file_list"
   ]
  },
  {
   "cell_type": "code",
   "execution_count": null,
   "metadata": {},
   "outputs": [],
   "source": [
    "for file in file_list:\n",
    "    df = pd.read_parquet(DATA_DIR / file)\n",
    "    print(f'{file} colums:\\n{df.columns.tolist()}')\n",
    "    print('==========================')\n"
   ]
  },
  {
   "cell_type": "markdown",
   "metadata": {},
   "source": [
    "'ROI %' change to 'ROIC %'"
   ]
  },
  {
   "cell_type": "code",
   "execution_count": null,
   "metadata": {},
   "outputs": [],
   "source": [
    "# Get a list of all .parquet files in the directory\n",
    "# Using .glob('*.parquet') is a safe way to get only the files you want\n",
    "# Gets all files ending with .parquet that also contain 'df_finviz'\n",
    "file_list = [f.name for f in DATA_DIR.glob('*df_finviz*.parquet')]\n",
    "file_list"
   ]
  },
  {
   "cell_type": "code",
   "execution_count": null,
   "metadata": {},
   "outputs": [],
   "source": [
    "# --- 2. MAIN LOGIC: Process the files in the directory ---\n",
    "# This is the core part of the script you need.\n",
    "# --------------------------------------------------------------------------\n",
    "print(\"\\n--- 2. Starting file processing and renaming ---\")\n",
    "\n",
    "# Define the old and new column names\n",
    "old_col_name = 'ROI %'\n",
    "new_col_name = 'ROIC %'\n",
    "\n",
    "# Get a list of all .parquet files in the directory\n",
    "# Gets all files ending with .parquet that also contain 'df_finviz'\n",
    "file_list = [f.name for f in DATA_DIR.glob('*df_finviz*.parquet')]\n",
    "\n",
    "if not file_list:\n",
    "    print(f\"No .parquet files found in '{DATA_DIR}'. Exiting.\")\n",
    "else:\n",
    "    for file in file_list:\n",
    "        file_path = DATA_DIR / file\n",
    "        print(f\"\\nProcessing file: {file}\")\n",
    "\n",
    "        try:\n",
    "            # Read the parquet file into a DataFrame\n",
    "            df = pd.read_parquet(file_path)\n",
    "            \n",
    "            # Print the original columns for this file\n",
    "            print(f\"  Columns before: {df.columns.tolist()}\")\n",
    "\n",
    "            # Check if the column to be renamed exists\n",
    "            if old_col_name in df.columns:\n",
    "                # Rename the column\n",
    "                df.rename(columns={old_col_name: new_col_name}, inplace=True)\n",
    "                \n",
    "                # Save the modified DataFrame back to the same file path\n",
    "                # index=False is often recommended to avoid saving the pandas index\n",
    "                df.to_parquet(file_path, index=False)\n",
    "                \n",
    "                print(f\"  SUCCESS: Renamed column and saved changes to '{file}'.\")\n",
    "                print(f\"  Columns after:  {df.columns.tolist()}\")\n",
    "            else:\n",
    "                # If the column doesn't exist, inform the user and do nothing\n",
    "                print(f\"  INFO: Column '{old_col_name}' not found. File not modified.\")\n",
    "        \n",
    "        except Exception as e:\n",
    "            print(f\"  ERROR: Could not process file {file}. Reason: {e}\")\n",
    "\n",
    "        print('='*30)\n",
    "# --------------------------------------------------------------------------"
   ]
  },
  {
   "cell_type": "code",
   "execution_count": null,
   "metadata": {},
   "outputs": [],
   "source": []
  }
 ],
 "metadata": {
  "kernelspec": {
   "display_name": ".venv",
   "language": "python",
   "name": "python3"
  },
  "language_info": {
   "codemirror_mode": {
    "name": "ipython",
    "version": 3
   },
   "file_extension": ".py",
   "mimetype": "text/x-python",
   "name": "python",
   "nbconvert_exporter": "python",
   "pygments_lexer": "ipython3",
   "version": "3.11.9"
  }
 },
 "nbformat": 4,
 "nbformat_minor": 2
}
