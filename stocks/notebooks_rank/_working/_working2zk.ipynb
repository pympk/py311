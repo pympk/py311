{
 "cells": [
  {
   "cell_type": "code",
   "execution_count": 21,
   "metadata": {},
   "outputs": [
    {
     "name": "stdout",
     "output_type": "stream",
     "text": [
      "The autoreload extension is already loaded. To reload it, use:\n",
      "  %reload_ext autoreload\n",
      "✅ Project Root Directory: c:\\Users\\ping\\Files_win10\\python\\py311\\stocks\n",
      "✅ Notebook Directory: c:\\Users\\ping\\Files_win10\\python\\py311\\stocks\\notebooks_rank\\_working\n",
      "✅ Source Directory (for utils): c:\\Users\\ping\\Files_win10\\python\\py311\\stocks\\src\n",
      "✅ Data Directory (for input): c:\\Users\\ping\\Files_win10\\python\\py311\\stocks\\data\n",
      "\n",
      "✅ Successfully imported 'utils' module.\n"
     ]
    }
   ],
   "source": [
    "import sys\n",
    "from pathlib import Path\n",
    "import pandas as pd\n",
    "import os\n",
    "from IPython.display import display, Markdown  # Assuming you use these for display\n",
    "\n",
    "# --- 1. PANDAS OPTIONS (No change) ---\n",
    "# pd.set_option('display.max_rows', 200)  \n",
    "pd.set_option('display.max_columns', None)\n",
    "pd.set_option('display.width', 3000)\n",
    "\n",
    "# --- 2. IPYTHON AUTORELOAD (No change) ---\n",
    "%load_ext autoreload\n",
    "%autoreload 2\n",
    "\n",
    "# --- 3. ROBUST PATH CONFIGURATION (MODIFIED) ---\n",
    "\n",
    "# Get the current working directory of the notebook\n",
    "NOTEBOOK_DIR = Path.cwd()\n",
    "\n",
    "# Find the project ROOT directory by going up from the notebook's location\n",
    "# This is robust and works even if you move the notebook deeper.\n",
    "ROOT_DIR = NOTEBOOK_DIR.parent.parent\n",
    "\n",
    "# Define key project directories relative to the ROOT\n",
    "DATA_DIR = ROOT_DIR / 'data'\n",
    "SRC_DIR = ROOT_DIR / 'src'\n",
    "# You could also define an output directory here if needed\n",
    "OUTPUT_DIR = ROOT_DIR / 'output'\n",
    "\n",
    "# Add the 'src' directory to the Python path so you can import 'utils'\n",
    "if str(SRC_DIR) not in sys.path:\n",
    "    sys.path.append(str(SRC_DIR))\n",
    "\n",
    "# --- 4. VERIFICATION (IMPROVED) ---\n",
    "print(f\"✅ Project Root Directory: {ROOT_DIR}\")\n",
    "print(f\"✅ Notebook Directory: {NOTEBOOK_DIR}\")\n",
    "print(f\"✅ Source Directory (for utils): {SRC_DIR}\")\n",
    "print(f\"✅ Data Directory (for input): {DATA_DIR}\")\n",
    "\n",
    "# Verify that the key directories exist. This helps catch path errors early.\n",
    "assert ROOT_DIR.exists(), f\"ROOT directory not found at: {ROOT_DIR}\"\n",
    "assert SRC_DIR.exists(), f\"Source directory not found at: {SRC_DIR}\"\n",
    "assert DATA_DIR.exists(), f\"Data directory not found at: {DATA_DIR}\"\n",
    "\n",
    "# --- 5. IMPORT YOUR CUSTOM MODULE ---\n",
    "import utils\n",
    "print(\"\\n✅ Successfully imported 'utils' module.\")"
   ]
  },
  {
   "cell_type": "code",
   "execution_count": 22,
   "metadata": {},
   "outputs": [
    {
     "name": "stdout",
     "output_type": "stream",
     "text": [
      "\n",
      "file_list (len(file_list): 59:\n",
      "0: 2025-07-18_df_finviz_merged_stocks_etfs.parquet\n",
      "1: 2025-07-17_df_finviz_merged_stocks_etfs.parquet\n",
      "2: 2025-07-16_df_finviz_merged_stocks_etfs.parquet\n",
      "3: 2025-07-15_df_finviz_merged_stocks_etfs.parquet\n",
      "4: 2025-07-14_df_finviz_merged_stocks_etfs.parquet\n",
      "5: 2025-07-11_df_finviz_merged_stocks_etfs.parquet\n",
      "6: 2025-07-10_df_finviz_merged_stocks_etfs.parquet\n",
      "7: 2025-07-09_df_finviz_merged_stocks_etfs.parquet\n",
      "8: 2025-07-08_df_finviz_merged_stocks_etfs.parquet\n",
      "9: 2025-07-07_df_finviz_merged_stocks_etfs.parquet\n",
      "10: 2025-07-03_df_finviz_merged_stocks_etfs.parquet\n",
      "11: 2025-06-06_df_finviz_merged_stocks_etfs.parquet\n",
      "12: 2025-06-05_df_finviz_merged_stocks_etfs.parquet\n",
      "13: 2025-06-04_df_finviz_merged_stocks_etfs.parquet\n",
      "14: 2025-06-03_df_finviz_merged_stocks_etfs.parquet\n",
      "15: 2025-06-02_df_finviz_merged_stocks_etfs.parquet\n",
      "16: 2025-05-30_df_finviz_merged_stocks_etfs.parquet\n",
      "17: 2025-05-29_df_finviz_merged_stocks_etfs.parquet\n",
      "18: 2025-05-28_df_finviz_merged_stocks_etfs.parquet\n",
      "19: 2025-05-27_df_finviz_merged_stocks_etfs.parquet\n",
      "20: 2025-05-23_df_finviz_merged_stocks_etfs.parquet\n",
      "21: 2025-05-22_df_finviz_merged_stocks_etfs.parquet\n",
      "22: 2025-05-21_df_finviz_merged_stocks_etfs.parquet\n",
      "23: 2025-05-20_df_finviz_merged_stocks_etfs.parquet\n",
      "24: 2025-05-19_df_finviz_merged_stocks_etfs.parquet\n",
      "25: 2025-05-16_df_finviz_merged_stocks_etfs.parquet\n",
      "26: 2025-05-15_df_finviz_merged_stocks_etfs.parquet\n",
      "27: 2025-05-14_df_finviz_merged_stocks_etfs.parquet\n",
      "28: 2025-05-13_df_finviz_merged_stocks_etfs.parquet\n",
      "29: 2025-05-12_df_finviz_merged_stocks_etfs.parquet\n",
      "30: 2025-05-09_df_finviz_merged_stocks_etfs.parquet\n",
      "31: 2025-05-08_df_finviz_merged_stocks_etfs.parquet\n",
      "32: 2025-05-07_df_finviz_merged_stocks_etfs.parquet\n",
      "33: 2025-05-06_df_finviz_merged_stocks_etfs.parquet\n",
      "34: 2025-05-05_df_finviz_merged_stocks_etfs.parquet\n",
      "35: 2025-05-02_df_finviz_merged_stocks_etfs.parquet\n",
      "36: 2025-05-01_df_finviz_merged_stocks_etfs.parquet\n",
      "37: 2025-04-30_df_finviz_merged_stocks_etfs.parquet\n",
      "38: 2025-04-29_df_finviz_merged_stocks_etfs.parquet\n",
      "39: 2025-04-28_df_finviz_merged_stocks_etfs.parquet\n",
      "40: 2025-04-25_df_finviz_merged_stocks_etfs.parquet\n",
      "41: 2025-07-02_df_finviz_merged_stocks_etfs.parquet\n",
      "42: 2025-07-01_df_finviz_merged_stocks_etfs.parquet\n",
      "43: 2025-06-30_df_finviz_merged_stocks_etfs.parquet\n",
      "44: 2025-06-27_df_finviz_merged_stocks_etfs.parquet\n",
      "45: 2025-06-26_df_finviz_merged_stocks_etfs.parquet\n",
      "46: 2025-06-25_df_finviz_merged_stocks_etfs.parquet\n",
      "47: 2025-06-24_df_finviz_merged_stocks_etfs.parquet\n",
      "48: 2025-06-23_df_finviz_merged_stocks_etfs.parquet\n",
      "49: 2025-06-20_df_finviz_merged_stocks_etfs.parquet\n",
      "50: 2025-06-19_df_finviz_merged_stocks_etfs.parquet\n",
      "51: 2025-06-18_df_finviz_merged_stocks_etfs.parquet\n",
      "52: 2025-06-17_df_finviz_merged_stocks_etfs.parquet\n",
      "53: 2025-06-16_df_finviz_merged_stocks_etfs.parquet\n",
      "54: 2025-06-12_df_finviz_merged_stocks_etfs.parquet\n",
      "55: 2025-06-11_df_finviz_merged_stocks_etfs.parquet\n",
      "56: 2025-06-10_df_finviz_merged_stocks_etfs.parquet\n",
      "57: 2025-06-09_df_finviz_merged_stocks_etfs.parquet\n",
      "58: 2025-06-13_df_finviz_merged_stocks_etfs.parquet\n"
     ]
    }
   ],
   "source": [
    "# To get ALL matching files, sorted by recency\n",
    "file_list = utils.get_recent_files(\n",
    "    directory_path=DATA_DIR,\n",
    "    extension='parquet',\n",
    "    prefix=None,\n",
    "    contains_pattern='df_finviz_merged_stocks_etfs',\n",
    "    count=None\n",
    ")\n",
    "\n",
    "# Print the file_list\n",
    "print(f'\\nfile_list (len(file_list): {len(file_list)}:')\n",
    "for i, f, in enumerate(file_list):\n",
    "    print(f'{i}: {f}')\n"
   ]
  },
  {
   "cell_type": "code",
   "execution_count": 23,
   "metadata": {},
   "outputs": [
    {
     "name": "stdout",
     "output_type": "stream",
     "text": [
      "Latest df_finviz_merged_stocks_etfs:\n",
      "2025-07-18_df_finviz_merged_stocks_etfs.parquet\n",
      "\n",
      "df_finviz_merged_stocks_etfs.head(20):\n",
      "       No.                                 Company               Index                  Sector                        Industry Country Exchange                                               Info  MktCap AUM, M  Rank  Market Cap, M     P/E  Fwd P/E    PEG    P/S    P/B     P/C   P/FCF    Book/sh    Cash/sh  Dividend %  Dividend TTM Dividend Ex Date  Payout Ratio %       EPS  EPS next Q  EPS this Y %  EPS next Y %  EPS past 5Y %  EPS next 5Y %  Sales past 5Y %  Sales Q/Q %  EPS Q/Q %  EPS YoY TTM %  Sales YoY TTM %  Sales, M  Income, M  EPS Surprise %  Revenue Surprise %  Outstanding, M  Float, M  Float %  Insider Own %  Insider Trans %  Inst Own %  Inst Trans %  Short Float %  Short Ratio  Short Interest, M  ROA %   ROE %  ROIC %  Curr R  Quick R  LTDebt/Eq  Debt/Eq  Gross M %  Oper M %  Profit M %  Perf 3D %  Perf Week %  Perf Month %  Perf Quart %  Perf Half %  Perf Year %  Perf YTD %  Beta      ATR  ATR/Price %  Volatility W %  Volatility M %  SMA20 %  SMA50 %  SMA200 %  50D High %  50D Low %  52W High %  52W Low %              52W Range  All-Time High %  All-Time Low %    RSI  Earnings    IPO Date Optionable Shortable  Employees  Change from Open %  Gap %  Recom  Avg Volume, M  Rel Volume     Volume  Target Price  Prev Close       Open       High        Low      Price  Change %                    Single Category         Asset Type  Expense %  Holdings    AUM, M  Flows 1M, M  Flows% 1M  Flows 3M, M  Flows% 3M  Flows YTD, M  Flows% YTD  Return% 1Y  Return% 3Y  Return% 5Y                            Tags  Sharpe 3d     Sortino 3d      Omega 3d  Sharpe 5d   Sortino 5d    Omega 5d  Sharpe 10d  Sortino 10d  Omega 10d  Sharpe 15d  Sortino 15d  Omega 15d  Sharpe 30d  Sortino 30d  Omega 30d  Sharpe 60d  Sortino 60d  Omega 60d  Sharpe 120d  Sortino 120d  Omega 120d  Sharpe 250d  Sortino 250d  Omega 250d\n",
      "NVDA     1                             NVIDIA Corp  DJIA, NDX, S&P 500              Technology                  Semiconductors     USA     NASD                         Technology, Semiconductors      4206800.0     1      4206800.0   55.54    29.59   1.80  28.33  50.15   78.35   58.38       3.44       2.20        0.02          0.04        6/11/2025            1.16      3.10        1.00           NaN           NaN            NaN            NaN              NaN        69.18      27.60          81.36            86.17  148510.0    76770.0            9.89                1.68        24390.00  23410.00    95.98           4.07            -0.55       66.31          1.06           1.04         1.19             243.03  75.89  115.46   81.82    3.39     2.96       0.12     0.12      70.11     58.03       51.69   1.001757         4.54         19.63         65.00        26.55        36.44       28.39  2.14     3.88     2.250450            1.88            2.11     8.01    18.65     30.21       -1.00      55.57       -1.00      99.04         86.62 - 174.16            -1.00       517129.98  78.28  May 28/a   1/22/1999        Yes       Yes    36000.0               -0.79   0.46   1.37      204.62000        0.71  145444590        179.49      173.00     173.79     174.25     171.26     172.41     -0.34                                                              NaN       NaN       NaN          NaN        NaN          NaN        NaN           NaN         NaN         NaN         NaN         NaN                               -   5.024155      18.189864      2.620482  10.254106   110.750097   14.953201   11.132203    70.656871  10.622138    6.137676    12.006345   2.936281    7.196407    15.169388   3.304866    7.134991    17.428693   3.380040     1.618721      2.544793    1.339166     0.890955      1.286111    1.169041\n",
      "MSFT     2                   Microsoft Corporation  DJIA, NDX, S&P 500              Technology       Software - Infrastructure     USA     NASD              Technology, Software - Infrastructure      3790970.0     2      3790970.0   39.41    33.57   2.65  14.04  11.78   47.61   54.65      43.30      10.71        0.64          2.41        8/21/2025           25.42     12.94        3.37           NaN           NaN            NaN            NaN              NaN        13.27      17.88          12.10            14.13  270010.0    96640.0            7.38                2.38         7430.00   7320.00    98.50           1.48            -0.12       73.59          1.04           0.78         2.81              56.86  18.46   33.61   23.24    1.37     1.36       0.29     0.33      69.07     45.23       35.79   0.836266         1.34          6.70         37.25        19.64        13.47       21.01  1.05     6.46     1.266542            1.12            1.27     2.45     7.28     19.17       -0.65      18.31       -0.65      47.93        344.79 - 513.37            -0.65       640033.90  73.51  Jul 30/a   3/13/1986        Yes       Yes   228000.0               -0.89   0.57   1.29       20.26000        1.04   21113351        545.98      511.70     514.64     514.64     507.43     510.05     -0.32                                                              NaN       NaN       NaN          NaN        NaN          NaN        NaN           NaN         NaN         NaN         NaN         NaN                               -   6.244158      28.144198      3.507284   7.822498    30.876052    4.387094    6.235906    20.648203   3.066213    3.945540     8.655061   1.982313    6.138991    14.037248   2.634980    6.368652    24.480986   4.346739     1.200836      2.029370    1.275092     0.615166      0.924881    1.123919\n",
      "AAPL     3                               Apple Inc  DJIA, NDX, S&P 500              Technology            Consumer Electronics     USA     NASD                   Technology, Consumer Electronics      3154150.0     3      3154150.0   32.96    27.17   4.32   7.88  47.23   65.04   32.03       4.47       3.25        0.49          1.01        5/12/2025           16.11      6.41        1.42           NaN           NaN            NaN            NaN              NaN         5.08       7.68          -0.36             4.91  400370.0    97290.0            1.39                0.86        14940.00  14920.00    99.88           0.10            -1.28       63.83          0.16           0.74         2.07             110.10  29.10  138.02   66.93    0.82     0.78       1.18     1.47      46.63     31.81       24.30   0.989910         0.01          7.94          8.70       -11.22       -10.07      -15.67  1.17     3.88     1.837295            1.38            1.82     1.79     3.34     -5.03       -2.34       9.28      -18.81      24.80        169.21 - 260.10           -18.81       331860.46  59.41  Jul 31/a  12/12/1980        Yes       Yes   164000.0                0.09   0.47   2.00       53.22000        0.91   48583865        229.48      210.02     211.00     211.79     209.70     211.18      0.55                                                              NaN       NaN       NaN          NaN        NaN          NaN        NaN           NaN         NaN         NaN         NaN         NaN                               -   8.232987      61.775082      6.503362  16.163141   111.543033   15.053101    1.310428     1.772964   1.239631    5.002593     9.268348   2.320308    2.363503     3.760899   1.461960    0.536797     0.816084   1.104023    -0.333668     -0.487970    0.934301    -0.145579     -0.206467    0.971326\n",
      "AMZN     4                          Amazon.com Inc  DJIA, NDX, S&P 500       Consumer Cyclical                 Internet Retail     USA     NASD                 Consumer Cyclical, Internet Retail      2400680.0     4      2400680.0   36.88    31.00   2.11   3.69   7.85   24.43  115.36      28.82       9.25         NaN           NaN                -            0.00      6.13        1.32           NaN           NaN            NaN            NaN              NaN         8.62      62.33          71.88            10.08  650310.0    65940.0           16.38                0.33        10610.00   9590.00    90.35           9.68            -1.39       64.47          0.65           0.74         1.64              70.66  11.23   25.24   15.02    1.05     0.84       0.44     0.49      49.16     11.15       10.14  -0.097195         0.49          5.26         29.71         1.24        17.15        3.07  1.31     4.03     1.782161            1.22            1.81     2.68     6.53      9.06       -0.50      23.00       -6.76      49.15        151.61 - 242.52            -6.76       344479.07  62.96  Jul 31/a   5/15/1997        Yes       Yes  1556000.0                0.36   0.64   1.20       43.11000        0.87   37665016        246.70      223.88     225.32     226.40     222.98     226.13      1.01                                                              NaN       NaN       NaN          NaN        NaN          NaN        NaN           NaN         NaN         NaN         NaN         NaN                               -  20.686986  498478.420374  44408.987232   0.571358     0.826547    1.104135    1.713919     2.473803   1.320325    1.141862     1.613373   1.205667    3.254492     5.877887   1.681957    3.518007     7.764488   1.885727    -0.140720     -0.210475    0.974897     0.674830      0.989679    1.125924\n",
      "GOOGL    5                            Alphabet Inc        NDX, S&P 500  Communication Services  Internet Content & Information     USA     NASD  Communication Services, Internet Content & Inf...      2251870.0     5      2251870.0   20.64    18.13   1.57   6.27   6.51   23.62   30.07      28.41       7.83        0.28          0.81         6/9/2025            7.46      8.97        2.18           NaN           NaN            NaN            NaN              NaN        11.81      48.77          37.73            13.02  359310.0   111000.0           38.81                1.15         5830.00   5800.00    99.63          52.17            -0.01       38.26         -0.43           1.32         1.89              76.52  25.15   34.79   30.02    1.77     1.77       0.07     0.08      58.54     32.60       30.89   1.681319         2.70          5.18         20.69        -5.36         0.62       -2.24  1.01     4.14     2.237112            1.68            2.49     4.78     7.78      6.57        0.40      25.18      -10.62      31.69        140.53 - 207.05           -10.62         7606.58  66.58  Jul 23/a   8/19/2004        Yes       Yes   183323.0               -0.38   1.19   1.44       40.44000        0.84   33814566        202.83      183.58     185.76     186.42     183.71     185.06      0.81                                                              NaN       NaN       NaN          NaN        NaN          NaN        NaN           NaN         NaN         NaN         NaN         NaN                               -  26.301522  498478.420374  44408.987232  29.415648  3017.547941  381.175306    9.676578    17.000777   4.212845    3.826489     5.928908   1.769474    3.440144     5.507215   1.707991    2.601775     3.795084   1.548632    -0.135671     -0.186495    0.977407     0.178408      0.247058    1.030677\n",
      "GOOG     6                            Alphabet Inc        NDX, S&P 500  Communication Services  Internet Content & Information     USA     NASD  Communication Services, Internet Content & Inf...      2248850.0     6      2248850.0   20.74    18.21   1.58   6.26   6.55   23.59   30.03      28.41       7.88        0.30          0.81         6/9/2025            7.46      8.97        2.18           NaN           NaN            NaN            NaN              NaN        11.81      48.77          37.73            13.02  359310.0   111000.0           38.84                1.15         5470.00   5070.00    92.61          58.22            -0.01       27.10         -0.44           0.79         1.47              40.02  25.15   34.79   30.02    1.77     1.77       0.07     0.08      58.54     32.60       30.89   1.551065         2.55          4.91         19.58        -5.60         0.24       -2.36  1.02     4.12     2.215769            1.71            2.49     4.73     7.57      6.12        0.29      24.38      -10.91      30.34        142.66 - 208.70           -10.91          664.83  66.74  Jul 23/a   3/27/2014        Yes       Yes   183323.0               -0.46   1.14   1.44       27.16000        0.77   20884839        202.83      184.70     186.80     187.36     184.73     185.94      0.67                                                              NaN       NaN       NaN          NaN        NaN          NaN        NaN           NaN         NaN         NaN         NaN         NaN                               -  77.803288  498478.420374  44408.987232  29.919375  3017.547941  381.175306    9.601103    17.443147   4.296445    4.706782     7.695566   2.058243    3.414387     5.369277   1.689906    2.496143     3.548562   1.528187    -0.173303     -0.237950    0.971096     0.161161      0.222389    1.027728\n",
      "META     7                      Meta Platforms Inc        NDX, S&P 500  Communication Services  Internet Content & Information     USA     NASD  Communication Services, Internet Content & Inf...      1770660.0     7      1770660.0   27.47    24.85   2.72  10.39   9.60   25.19   33.85      73.34      27.96        0.25          2.05        6/16/2025            8.38     25.64        5.85           NaN           NaN            NaN            NaN              NaN        16.07      36.38          47.56            19.37  170360.0    66640.0           22.83                2.36         2180.00   2170.00    99.44          13.78            -0.33       68.10          0.59           1.46         2.37              31.59  26.49   39.83   28.65    2.66     2.66       0.26     0.27      81.75     43.00       39.11  -0.860091        -1.84          1.01         40.21        14.12        43.79       20.28  1.27    14.46     2.053161            1.78            1.94    -1.55     3.39     13.17       -5.83      20.07       -5.83      59.11        442.65 - 747.90            -5.83         3912.99  50.63  Jul 30/a   5/18/2012        Yes       Yes    74067.0                0.22   0.18   1.44       13.32000        0.96   12729767        728.80      701.41     702.70     704.71     691.65     704.28      0.41                                                              NaN       NaN       NaN          NaN        NaN          NaN        NaN           NaN         NaN         NaN         NaN         NaN                               -   2.957471       8.030848      1.715445 -11.263175   -10.288347    0.141751   -3.540909    -4.559954   0.576349   -4.320021    -4.950254   0.496647    1.061714     1.722510   1.179692    4.354072    10.389120   2.197808     0.445904      0.689389    1.086863     1.172844      1.828784    1.236529\n",
      "AVGO     8                            Broadcom Inc        NDX, S&P 500              Technology                  Semiconductors     USA     NASD                         Technology, Semiconductors      1332680.0     8      1332680.0  106.51    34.53   4.00  23.36  19.15  140.70   58.72      14.80       2.01        0.84          2.30        6/20/2025          170.61      2.66        1.66           NaN           NaN            NaN            NaN              NaN        20.16     132.81          14.43            33.85   57050.0    12920.0            0.69                0.31         4700.00   4610.00    98.05           1.96            -1.71       77.39          0.99           1.22         2.60              56.10   7.79   18.98    9.84    1.08     0.98       0.89     0.97      61.72     37.90       22.64   0.854275         3.27         13.62         62.27        24.27        67.29       22.21  1.17     7.49     2.643467            2.53            2.63     4.21    12.53     35.69       -1.71      44.61       -1.71     120.50        128.50 - 288.28            -1.71        19672.51  66.79  Jun 05/a    8/6/2009        Yes       Yes    37000.0               -1.45   0.37   1.39       21.56000        0.69   14929080        295.89      286.45     287.52     287.53     281.00     283.34     -1.09                                                              NaN       NaN       NaN          NaN        NaN          NaN        NaN           NaN         NaN         NaN         NaN         NaN                               -   3.232434       9.079465      1.808863   7.151701    19.787556    3.363617    4.200453     9.867006   1.962020    3.165693     4.940994   1.657689    2.425929     3.572466   1.488454    6.135968    12.519784   2.922809     1.516514      2.447870    1.320596     1.227653      1.963776    1.268919\n",
      "TSM      9  Taiwan Semiconductor Manufacturing ADR                   -              Technology                  Semiconductors  Taiwan     NYSE                         Technology, Semiconductors      1246680.0     9      1246680.0   27.37    21.36   1.15  11.75   9.00   13.82   40.00      26.72      17.39        1.39          2.66        9/16/2025           30.18      8.78        2.58           NaN           NaN            NaN            NaN              NaN        45.37      68.50          47.97            38.65  106140.0    45550.0            9.72                5.10         5190.00   5180.00    99.89           0.11             0.00       16.13         -3.10           0.53         2.20              27.34  21.47   33.29   24.51    2.37     2.15       0.19     0.21      57.60     48.74       42.92   1.456003         4.34         12.39         58.50        16.25        29.22       21.73  1.20     5.75     2.391847            2.18            2.12     5.14    14.25     24.12       -3.17      40.92       -3.17      79.98        133.57 - 248.28            -3.17         9157.17  66.91  Jul 17/b   10/8/1997        Yes       Yes        NaN               -2.12   0.00   1.35       12.44000        1.30   16228016        263.52      245.60     245.60     245.97     238.69     240.40     -2.12                                                              NaN       NaN       NaN          NaN        NaN          NaN        NaN           NaN         NaN         NaN         NaN         NaN                               -   2.520563       6.500901      1.579146   7.365313    18.909877    3.382421    4.293470    10.123025   2.092676    2.810723     5.860036   1.596812    4.942939    10.548549   2.244348    5.909328    13.593989   2.690014     1.228330      1.864095    1.237467     0.995465      1.466072    1.187898\n",
      "TSLA    10                               Tesla Inc        NDX, S&P 500       Consumer Cyclical              Auto Manufacturers     USA     NASD              Consumer Cyclical, Auto Manufacturers      1060320.0    10      1060320.0  181.29   116.41   9.99  11.08  14.22   28.34  156.39      23.18      11.63         NaN           NaN                -            0.00      1.82        0.40           NaN           NaN            NaN            NaN              NaN        -9.23     -65.43         -53.71             1.03   95720.0     6370.0          -34.72               -9.10         3220.00   2800.00    87.00          12.91            -0.29       49.08          2.78           2.86         0.72              80.07   5.43    9.16    7.52    2.00     1.54       0.13     0.18      17.66      7.40        6.65   6.071819         5.15          4.20         36.47       -23.02        28.49      -18.37  2.34    13.84     4.198392            3.07            3.76     3.87     1.76      3.71      -10.35      21.64      -32.52      81.13        182.00 - 488.54           -32.52        32909.04  55.85  Jul 23/a   6/29/2010        Yes       Yes   125665.0                2.32   0.87   2.60      111.36000        0.84   93822128        312.73      319.41     322.19     330.90     321.42     329.65      3.21                                                              NaN       NaN       NaN          NaN        NaN          NaN        NaN           NaN         NaN         NaN         NaN         NaN                               -   7.098241      38.615333      4.440127   5.798784    15.346365    2.505405    9.309173    28.135650   4.479869    0.788877     1.121187   1.138052    2.529881     4.197724   1.511838    2.135171     3.232719   1.441769    -0.182977     -0.268137    0.968788     0.747337      1.172590    1.138548\n",
      "BRK-A   11                  Berkshire Hathaway Inc                   -               Financial         Insurance - Diversified     USA     NYSE                 Financial, Insurance - Diversified      1022800.0    11      1022800.0   12.63    22.00  21.78   2.75   1.56    2.94   84.77  455055.17  241684.04         NaN           NaN                -            0.00  56289.42     7482.78           NaN           NaN            NaN            NaN              NaN        -0.16     -63.73          10.77             0.63  371290.0    80900.0           -5.40               -1.22            0.54      0.54   100.00          62.25            -0.00        7.69         -4.44           0.03         0.44               0.00   7.24   13.20   10.39    6.35     6.02       0.19     0.21      23.58     15.29       21.79   0.848085        -0.26         -1.99         -8.17         3.26         7.66        4.41  0.80  8993.08     1.264888            1.07            1.21    -1.45    -3.86     -2.14       -9.08       1.28      -12.53      16.63  609578.56 - 812855.00           -12.53        77602.57  38.10  May 03/a   3/17/1980         No       Yes   392400.0                0.02   0.14   2.33        0.00042        0.57        240     782731.13   709820.00  710802.44  717500.00  709940.00  710978.50      0.16                                                              NaN       NaN       NaN          NaN        NaN          NaN        NaN           NaN         NaN         NaN         NaN         NaN                               -  35.037321  498478.420374  44408.987232  -0.519366    -0.685879    0.913587   -3.272812    -4.046825   0.607444   -4.248536    -4.779269   0.497210   -2.475530    -2.946644   0.671840   -2.948156    -3.348969   0.586299    -0.086487     -0.117122    0.983953     0.340653      0.480629    1.064465\n",
      "BRK-B   12                  Berkshire Hathaway Inc             S&P 500               Financial         Insurance - Diversified     USA     NYSE                 Financial, Insurance - Diversified      1021990.0    12      1021990.0   12.63    21.98  21.77   2.75   1.56    2.94   84.71     303.37     161.19         NaN           NaN                -            0.00     37.53        4.99           NaN           NaN            NaN            NaN              NaN        -0.16     -63.73          10.77             0.63  371290.0    80900.0           -5.40               -1.22         1340.00   1340.00    99.71          38.00            -0.00       41.18         -0.00           1.02         2.83              13.60   7.24   13.20   10.39    6.35     6.02       0.19     0.21      23.58     15.29       21.79   0.780635        -0.43         -2.00         -8.26         3.33         7.95        4.53  0.81     6.15     1.298016            1.11            1.24    -1.47    -3.91     -2.18       -9.10       1.32      -12.59      16.67        406.11 - 542.07           -12.59         2292.93  37.71  May 05/b    5/9/1996        Yes       Yes   392400.0               -0.06   0.15   2.33        4.81000        0.83    3996221        522.08      473.40     474.09     478.64     473.50     473.80      0.08                                                              NaN       NaN       NaN          NaN        NaN          NaN        NaN           NaN         NaN         NaN         NaN         NaN                               -  15.516835  498478.420374  44408.987232  -2.915564    -3.517528    0.556833   -3.392079    -3.783166   0.517914   -3.619910    -4.058316   0.513439   -2.411070    -2.856844   0.665514   -2.906900    -3.282837   0.579155    -0.083344     -0.113103    0.984110     0.340581      0.476886    1.065709\n",
      "JPM     13                     JPMorgan Chase & Co       DJIA, S&P 500               Financial             Banks - Diversified     USA     NYSE                     Financial, Banks - Diversified       809470.0    13       809470.0   14.94    14.27   2.45   2.90   2.38     NaN   30.01     122.51        NaN        1.99          5.30         7/3/2025           24.30     19.49        4.61           NaN           NaN            NaN            NaN              NaN        -7.90     -14.44           8.73             4.04  278940.0    55150.0           16.88                2.51         2780.00   2770.00    99.62           0.38           -10.44       73.87         -0.60           0.90         2.86              25.04   1.29   16.13    7.10    1.42      NaN       1.18     3.03        NaN     27.18       19.77   1.647182         1.54          8.07         26.85        15.42        36.35       21.51  1.11     5.40     1.853950            2.06            1.82     1.52     6.61     16.53       -1.73      17.06       -1.73      52.58        190.90 - 296.40            -1.73         9000.77  63.32  Jul 15/b    3/5/1969        Yes       Yes   317233.0                0.55  -0.08   2.21        8.75000        1.39   12204944        306.96      289.90     289.67     292.50     288.23     291.27      0.47                                                              NaN       NaN       NaN          NaN        NaN          NaN        NaN           NaN         NaN         NaN         NaN         NaN                               -  21.962250  498478.420374  44408.987232   3.516292     8.230058    1.811743   -0.366521    -0.479790   0.935964    1.550151     2.151943   1.299791    5.177219     8.300285   2.292129    4.702763     8.169079   2.184951     0.742304      1.015813    1.149712     1.257347      1.887355    1.277445\n",
      "WMT     14                             Walmart Inc       DJIA, S&P 500      Consumer Defensive                 Discount Stores     USA     NYSE                Consumer Defensive, Discount Stores       758540.0    14       758540.0   40.78    32.44   4.54   1.11   9.06   81.47   56.14      10.49       1.17        0.98          0.89        8/15/2025           34.51      2.33        0.73           NaN           NaN            NaN            NaN              NaN         2.54     -12.07          -0.17             4.22  685090.0    18820.0            5.99               -0.01         7990.00   4350.00    54.42          45.54            -0.87       35.93          1.01           0.84         2.18              36.61   7.29   22.80   13.54    0.78     0.22       0.66     0.80      24.88      4.33        2.75  -0.356431         0.69          0.85          4.23         4.06        35.81        5.20  0.66     1.49     1.567596            1.12            1.54    -1.68    -1.88      3.18       -5.79       3.44       -9.73      42.57         66.67 - 105.30            -9.73        30064.66  43.49  May 15/b  11/20/1972        Yes       Yes  2100000.0               -0.04   0.00   1.36       16.78000        0.87   14612921        111.06       95.09      95.09      95.48      94.43      95.05     -0.04                                                              NaN       NaN       NaN          NaN        NaN          NaN        NaN           NaN         NaN         NaN         NaN         NaN                               - -73.184654     -15.691015      0.000000 -19.068777   -12.876876    0.000000   -7.180867    -7.552657   0.242891   -2.678785    -3.233479   0.628120   -1.851452    -2.406381   0.735944   -0.094120    -0.134612   0.985202    -0.136488     -0.196608    0.975423     1.233124      1.885797    1.248620\n",
      "LLY     15                         Lilly(Eli) & Co             S&P 500              Healthcare    Drug Manufacturers - General     USA     NYSE           Healthcare, Drug Manufacturers - General       731380.0    15       731380.0   63.93    25.90   1.53  14.93  46.41  227.09  195.74      16.63       3.40        0.81          5.60        8/15/2025           44.39     12.07        5.56           NaN           NaN            NaN            NaN              NaN        45.17      23.46          80.73            36.38   49000.0    11110.0            2.51                0.48          948.10    849.66    89.62          10.35            -0.89       73.70          0.99           0.91         2.03               7.71  14.49   77.73   22.10    1.37     1.06       2.19     2.44      81.70     40.25       22.66  -0.005183        -2.69         -2.47          5.01         3.34       -18.04       -0.04  0.44    20.70     2.682355            3.23            2.58    -1.09     0.64     -4.81       -6.46       8.84      -20.65      13.97        677.09 - 972.53           -20.65        23196.91  47.31  Aug 07/b    7/9/1970        Yes       Yes    47000.0                1.06   0.28   1.53        3.80000        0.88    3348080        988.17      761.50     763.61     775.96     760.50     771.71      1.34                                                              NaN       NaN       NaN          NaN        NaN          NaN        NaN           NaN         NaN         NaN         NaN         NaN                               -  -5.184312      -7.092785      0.368125  -4.348290    -5.429499    0.516218   -0.098809    -0.123660   0.983472   -0.352537    -0.431377   0.939178    0.235489     0.317101   1.040733   -0.633647    -0.763381   0.889707    -0.091268     -0.126948    0.983148    -0.168746     -0.236323    0.969633\n",
      "VOO      1                    Vanguard S&P 500 ETF                   -               Financial            Exchange Traded Fund     USA     NYSE  Financial, Exchange Traded Fund, US Equities -...       700440.0    16            NaN     NaN      NaN    NaN    NaN    NaN     NaN     NaN        NaN        NaN        1.20          6.93        6/30/2025             NaN       NaN         NaN           NaN           NaN            NaN            NaN              NaN          NaN        NaN            NaN              NaN       NaN        NaN             NaN                 NaN             NaN       NaN      NaN            NaN              NaN         NaN           NaN            NaN         0.50               3.34    NaN     NaN     NaN     NaN      NaN        NaN      NaN        NaN       NaN         NaN   0.884832         0.65          5.02         19.39         5.85        11.15        7.07  1.01     4.84     0.838938            0.74            0.73     1.48     4.35      7.17       -0.13      12.88       -0.13      30.29        442.80 - 577.65            -0.13          487.26  68.24         -    9/9/2010        Yes       Yes        NaN               -0.26   0.21    NaN        6.61000        0.64    4247963           NaN      577.18     578.41     578.50     575.84     576.92     -0.05  US Equities - Broad Market & Size  Equities (Stocks)       0.03     507.0  700440.0     -13510.0      -1.89      17540.0       2.57       68730.0       10.88       12.93       19.80       16.26  U.S., equity, SP500, large-cap   9.103351      96.327163      9.581506   3.407901     6.760055    1.756877    4.517586     8.571170   1.994575    4.506645     7.729217   1.998570    5.222854     9.152913   2.249030    5.218349    11.074010   2.542756     0.410659      0.613161    1.087772     0.651191      0.947961    1.136456\n",
      "ORCL    16                             Oracle Corp             S&P 500              Technology       Software - Infrastructure     USA     NYSE              Technology, Software - Infrastructure       689430.0    17       689430.0   56.54    29.95   3.13  12.01  33.69   61.54     NaN       7.29       3.99        0.74          1.80        7/10/2025           39.16      4.34        1.48           NaN           NaN            NaN            NaN              NaN        11.31       7.64          16.96             8.38   57400.0    12440.0            3.50                2.06         2810.00   1650.00    58.75          41.28            -1.11       44.50          0.72           1.13         1.45              18.56   8.04   85.36   10.37    0.75     0.74       4.87     5.33      66.49     31.45       21.68   4.464590         6.46         17.90         89.16        55.04        72.11       47.29  1.42     7.29     2.970055            2.92            3.10     8.27    27.09     42.81       -2.44      68.44       -2.44     106.50        118.86 - 251.60            -2.44       611636.94  72.82  Jun 11/a   3/12/1986        Yes       Yes   162000.0               -1.18  -0.15   1.81       12.78000        0.76    9664574        236.18      248.75     248.37     249.68     245.00     245.45     -1.33                                                              NaN       NaN       NaN          NaN        NaN          NaN        NaN           NaN         NaN         NaN         NaN         NaN                               -   4.397000      14.457061      2.287937  13.266484    40.634827    6.119507    5.615997    12.633898   2.447207    7.921307    20.917790   3.599656    6.109857    20.237178   3.324204    6.453580    20.308768   3.555570     2.098927      3.648520    1.440853     1.465451      2.313905    1.312776\n",
      "V       17                                Visa Inc       DJIA, S&P 500               Financial                 Credit Services     USA     NYSE                         Financial, Credit Services       676860.0    18       676860.0   35.50    27.33   2.77  17.99  18.25   38.44   33.00      19.12       9.08        0.69          2.29        5/13/2025           21.69      9.83        2.85           NaN           NaN            NaN            NaN              NaN         9.33       1.87          12.45            10.19   37620.0    19640.0            2.99                0.45         1720.00   1710.00    99.51          11.99            -0.13       80.04          0.54           1.55         4.16              26.52  21.21   50.03   35.81    1.08     1.08       0.44     0.55      77.10     67.39       52.21   0.584981         0.32         -2.46          5.35        10.36        29.64       10.44  0.94     6.07     1.739006            1.18            1.80    -0.51    -2.18      5.74       -7.05       4.22       -7.05      38.13        252.70 - 375.51            -7.05         3241.79  45.57  Jul 29/a   3/19/2008        Yes       Yes    31600.0               -0.13  -0.09   1.57        6.38000        0.77    4916494        392.34      349.81     349.50     349.50     347.16     349.05     -0.22                                                              NaN       NaN       NaN          NaN        NaN          NaN        NaN           NaN         NaN         NaN         NaN         NaN                               - -16.100203     -13.022044      0.000000  -2.488558    -3.595849    0.634258   -3.919231    -4.569249   0.518835   -0.026188    -0.038022   0.995728   -1.632123    -1.885282   0.742808    0.818813     1.004036   1.160797     0.346542      0.467692    1.069018     1.173326      1.618052    1.252583\n",
      "SPY      2                  SPDR S&P 500 ETF Trust                   -               Financial            Exchange Traded Fund     USA     NYSE  Financial, Exchange Traded Fund, US Equities -...       645390.0    19            NaN     NaN      NaN    NaN    NaN    NaN     NaN     NaN        NaN        NaN        1.14          7.17        6/20/2025             NaN       NaN         NaN           NaN           NaN            NaN            NaN              NaN          NaN        NaN            NaN              NaN       NaN        NaN             NaN                 NaN             NaN       NaN      NaN            NaN              NaN         NaN           NaN            NaN         1.68             116.69    NaN     NaN     NaN     NaN      NaN        NaN      NaN        NaN       NaN         NaN   0.874401         0.64          5.03         19.39         5.87        11.10        7.08  1.01     5.28     0.841327            0.74            0.74     1.57     4.38      7.19       -0.13      12.87       -0.13      30.26        481.80 - 628.40            -0.13         1374.73  68.16         -   1/29/1993        Yes       Yes        NaN               -0.28   0.20    NaN       69.52000        0.91   63324691           NaN      628.04     629.32     629.47     626.46     627.58     -0.07  US Equities - Broad Market & Size  Equities (Stocks)       0.09     505.0  645390.0       6590.0       1.03      -8640.0      -1.32      -22200.0       -3.33       12.90       19.71       16.19             U.S., equity, SP500   8.305176      63.857446      6.688873   3.324509     6.710941    1.718042    4.529913     8.738326   1.998639    4.656196     8.076292   2.029233    5.277756     9.251043   2.270167    5.212136    11.051940   2.549803     0.399018      0.608102    1.088814     0.627818      0.928663    1.135897\n",
      "IVV      3                iShares Core S&P 500 ETF                   -               Financial            Exchange Traded Fund     USA     NYSE  Financial, Exchange Traded Fund, US Equities -...       635480.0    20            NaN     NaN      NaN    NaN    NaN    NaN     NaN     NaN        NaN        NaN        1.27          8.00        6/16/2025             NaN       NaN         NaN           NaN           NaN            NaN            NaN              NaN          NaN        NaN            NaN              NaN       NaN        NaN             NaN                 NaN             NaN       NaN      NaN            NaN              NaN         NaN           NaN            NaN         1.99              11.78    NaN     NaN     NaN     NaN      NaN        NaN      NaN        NaN       NaN         NaN   0.908815         0.68          5.33         19.41         5.88        11.04        7.13  1.01     5.25     0.832448            0.74            0.73     1.59     4.42      7.23       -0.12      12.88       -0.12      30.30        484.00 - 631.42            -0.12          840.72  68.79         -   5/19/2000        Yes       Yes        NaN               -0.27   0.23    NaN        5.93000        0.67    3969931           NaN      630.93     632.35     632.39     629.47     630.67     -0.04  US Equities - Broad Market & Size  Equities (Stocks)       0.03     510.0  635480.0      38080.0       6.37      -3590.0      -0.56        9440.0        1.51       12.92       19.79       16.25  U.S., equity, SP500, large-cap   9.184051     101.023699      9.999906   3.558522     7.034905    1.793514    4.404731     8.213506   1.948273    4.893937     8.632686   2.081027    5.289153     9.364673   2.259394    5.254981    11.247623   2.566951     0.408672      0.611733    1.088640     0.647219      0.944525    1.136652\n"
     ]
    }
   ],
   "source": [
    "latest_df_finviz_merged_stocks_etfs = file_list[0]\n",
    "print(f'Latest df_finviz_merged_stocks_etfs:\\n{latest_df_finviz_merged_stocks_etfs}')\n",
    "# Verify by loading it back\n",
    "df_finviz_merged_stocks_etfs = pd.read_parquet(DATA_DIR / latest_df_finviz_merged_stocks_etfs, engine='pyarrow')\n",
    "\n",
    "print(f'\\ndf_finviz_merged_stocks_etfs.head(20):\\n{df_finviz_merged_stocks_etfs.head(20)}')\n"
   ]
  },
  {
   "cell_type": "code",
   "execution_count": 24,
   "metadata": {},
   "outputs": [
    {
     "name": "stdout",
     "output_type": "stream",
     "text": [
      "Are these tickers in the DataFrame index?\n",
      "AVAV: True\n",
      "RKLB: True\n",
      "JOBY: True\n",
      "SYM : True\n",
      "SOFI: True\n",
      "MRNA: True\n",
      "SN  : True\n",
      "U   : True\n",
      "EVR : True\n",
      "CG  : True\n"
     ]
    }
   ],
   "source": [
    "tickers_to_check = ['AVAV', 'RKLB', 'JOBY', 'SYM', 'SOFI', 'MRNA', 'SN', 'U', 'EVR', 'CG']\n",
    "# Check if items are in the DataFrame index\n",
    "is_in_index = [ticker in df_finviz_merged_stocks_etfs .index for ticker in tickers_to_check]\n",
    "# Print tickers next to their corresponding True or False values\n",
    "print((f'Are these tickers in the DataFrame index?'))\n",
    "for ticker, is_in in zip(tickers_to_check, is_in_index):\n",
    "    print(f\"{ticker.ljust(4)}: {is_in}\")"
   ]
  },
  {
   "cell_type": "code",
   "execution_count": 25,
   "metadata": {},
   "outputs": [],
   "source": [
    "import pandas as pd\n",
    "from pathlib import Path\n",
    "import matplotlib.pyplot as plt\n",
    "import seaborn as sns\n",
    "\n",
    "def create_rank_history_df(file_list, data_dir):\n",
    "    \"\"\"\n",
    "    Reads daily files to compile a history of ranks for each ticker.\n",
    "\n",
    "    Args:\n",
    "        file_list (list): A list of sorted parquet filenames.\n",
    "        data_dir (Path): The directory where files are stored.\n",
    "\n",
    "    Returns:\n",
    "        pd.DataFrame: A DataFrame with tickers as the index, dates as columns,\n",
    "                      and ranks as the values. NaN indicates the ticker was not\n",
    "                      present on that day.\n",
    "    \"\"\"\n",
    "    daily_ranks_list = []\n",
    "    for filename in file_list:\n",
    "        # Extract the date string from the start of the filename\n",
    "        date_str = filename.split('_')[0]\n",
    "        \n",
    "        # Read the daily data file\n",
    "        df_daily = pd.read_parquet(data_dir / filename)\n",
    "        \n",
    "        # Extract the 'Rank' column (it's a Series with tickers as its index)\n",
    "        ranks_series = df_daily['Rank']\n",
    "        \n",
    "        # Rename the Series to the date, which will become the column name\n",
    "        ranks_series.name = pd.to_datetime(date_str)\n",
    "        \n",
    "        daily_ranks_list.append(ranks_series)\n",
    "\n",
    "    # Concatenate all Series into a single DataFrame, aligning on the ticker index\n",
    "    df_tickers_rank_history = pd.concat(daily_ranks_list, axis=1)\n",
    "    \n",
    "    # Sort columns by date just in case the file list wasn't perfectly sorted\n",
    "    df_tickers_rank_history = df_tickers_rank_history.sort_index(axis=1)\n",
    "    \n",
    "    return df_tickers_rank_history\n"
   ]
  },
  {
   "cell_type": "code",
   "execution_count": 26,
   "metadata": {},
   "outputs": [],
   "source": [
    "import plotly.express as px\n",
    "import pandas as pd\n",
    "import math\n",
    "\n",
    "def plot_rank_with_criteria(df_rank_history, ticker_list, title_suffix=\"\", filter_criteria=None,\n",
    "                            width=1100, height=700):\n",
    "    \"\"\"\n",
    "    Plots rank history with period markers, interactive buttons, and size controls.\n",
    "    - Adds vertical lines and shaded regions for lookback and recent periods.\n",
    "    - 'Clear All' sets traces to 'legendonly', hiding them and graying out the legend item.\n",
    "    - 'Reset View' makes all traces fully visible.\n",
    "    \n",
    "    Args:\n",
    "        df_rank_history (pd.DataFrame): The full rank history DataFrame.\n",
    "        ticker_list (list): A list of ticker symbols to plot.\n",
    "        title_suffix (str, optional): Text to append to the main plot title.\n",
    "        filter_criteria (dict, optional): A dictionary of filter parameters to display.\n",
    "        width (int, optional): The width of the figure in pixels.\n",
    "        height (int, optional): The height of the figure in pixels.\n",
    "    \"\"\"\n",
    "    \n",
    "    if not ticker_list:\n",
    "        print(\"Ticker list is empty. Nothing to plot.\")\n",
    "        return\n",
    "\n",
    "    # Prepare data for plotting\n",
    "    plot_df = df_rank_history.loc[ticker_list].T\n",
    "    plot_df.index = pd.to_datetime(plot_df.index)\n",
    "\n",
    "    custom = px.colors.qualitative.Plotly.copy()\n",
    "    # Replace the 7th color '#B6E880' with '#1F77B4' with a darker blue\n",
    "    custom[7] = '#1F77B4'        \n",
    "\n",
    "    fig = px.line(\n",
    "        plot_df, \n",
    "        x=plot_df.index, \n",
    "        y=plot_df.columns,\n",
    "        # Line color sequence \n",
    "        color_discrete_sequence=custom,\n",
    "        title=f\"Rank History: {title_suffix}\",\n",
    "        labels={'value': 'Rank', 'x': 'Date', 'variable': 'Ticker'}\n",
    "    )\n",
    "\n",
    "    # Force x-axis title as \"Date\"\n",
    "    fig.update_xaxes(title_text=\"Date\", title_standoff=25)\n",
    "\n",
    "    # Y-Axis configuration (unchanged and correct)\n",
    "    fig.update_yaxes(\n",
    "        autorange=\"reversed\", \n",
    "        dtick=100,\n",
    "        showgrid=True,\n",
    "        gridcolor='LightGrey'\n",
    "    )\n",
    "    \n",
    "    # --- CORRECTED X-Axis configuration ---\n",
    "    fig.update_xaxes(\n",
    "        type='date',  # Ensures the axis is treated as a continuous date axis\n",
    "        \n",
    "        # --- Major Ticks and Grid (for labels) ---\n",
    "        showgrid=True,\n",
    "        gridcolor='LightGrey',\n",
    "        dtick=\"D7\",  #<-- MAJOR CHANGE: Place labels and major grid lines only every 7 days\n",
    "        tickformat=\"%b %d\",  # Format as \"May 04\". Now readable with weekly spacing.\n",
    "\n",
    "        # --- Minor Ticks and Grid (for dense grid lines WITHOUT labels) ---\n",
    "        minor=dict(\n",
    "            showgrid=True, \n",
    "            gridcolor=\"rgba(235, 235, 235, 0.5)\", # A fainter color for minor lines\n",
    "            dtick=\"D1\" #<-- Place an unlabeled minor grid line every 1 day\n",
    "        )\n",
    "    )\n",
    "\n",
    "    # --- Vertical lines and shaded regions section (unchanged) ---\n",
    "    if filter_criteria and 'recent_days' in filter_criteria and 'lookback_days' in filter_criteria:\n",
    "        recent_days = filter_criteria.get('recent_days', 0)\n",
    "        lookback_days = filter_criteria.get('lookback_days', 0)\n",
    "        all_dates = pd.to_datetime(df_rank_history.columns)\n",
    "        if len(all_dates) >= (lookback_days + recent_days):\n",
    "            last_date = all_dates[-1]\n",
    "            recent_period_start_date = all_dates[-recent_days]\n",
    "            lookback_period_end_date = all_dates[-(recent_days + 1)]\n",
    "            lookback_period_start_date = all_dates[-(recent_days + lookback_days)]\n",
    "            fig.add_vrect(x0=recent_period_start_date, x1=last_date, fillcolor=\"LightSkyBlue\", opacity=0.2, layer=\"below\", line_width=0, annotation_text=\"Recent\", annotation_position=\"top left\")\n",
    "            fig.add_vrect(x0=lookback_period_start_date, x1=lookback_period_end_date, fillcolor=\"LightGreen\", opacity=0.2, layer=\"below\", line_width=0, annotation_text=\"Lookback\", annotation_position=\"top left\")\n",
    "            fig.add_vline(x=recent_period_start_date, line_width=2, line_dash=\"dash\", line_color=\"grey\")\n",
    "\n",
    "    # --- Interactive buttons section (unchanged) ---\n",
    "    num_traces = len(fig.data)\n",
    "    fig.update_layout(\n",
    "        updatemenus=[\n",
    "            dict(\n",
    "                type=\"buttons\", direction=\"left\", x=0.01, xanchor=\"left\",\n",
    "                y=1.1, yanchor=\"top\", showactive=False,\n",
    "                buttons=list([\n",
    "                    dict(label=\"Reset View\", method=\"restyle\", args=[{\"visible\": [True] * num_traces}]),\n",
    "                    dict(label=\"Clear All\", method=\"restyle\", args=[{\"visible\": ['legendonly'] * num_traces}]),\n",
    "                ]),\n",
    "            )\n",
    "        ]\n",
    "    )\n",
    "    \n",
    "    # --- Filter criteria annotation section (unchanged) ---\n",
    "    criteria_text = \"\"\n",
    "    num_rows = 0\n",
    "    if filter_criteria:\n",
    "        active_criteria = {k: v for k, v in filter_criteria.items() if v is not None}\n",
    "        col_width = 38\n",
    "        criteria_lines = []\n",
    "        items = list(active_criteria.items())\n",
    "        for i in range(0, len(items), 3):\n",
    "            chunk = items[i:i+3]\n",
    "            line_parts = [f\"{f'  • {k}: {v}':<{col_width}}\" for k, v in chunk]\n",
    "            criteria_lines.append(\"\".join(line_parts))\n",
    "        num_rows = len(criteria_lines)\n",
    "        criteria_text = \"<b>Filter Criteria:</b><br>\" + \"<br>\".join(criteria_lines)\n",
    "\n",
    "    if criteria_text:\n",
    "        FONT_SIZE = 14                       # whatever you want\n",
    "        LINE_HEIGHT = FONT_SIZE * 1.4        # ~40 % leading is comfortable\n",
    "\n",
    "        criteria_text = \"<b>Filter Criteria:</b><br>\" + \"<br>\".join(criteria_lines)\n",
    "\n",
    "        fig.add_annotation(\n",
    "            showarrow=False,\n",
    "            text=criteria_text,\n",
    "            xref=\"paper\", yref=\"paper\",\n",
    "            x=0, y=-0.25,            \n",
    "            xanchor=\"left\", yanchor=\"top\",\n",
    "            align=\"left\",\n",
    "            font=dict(family=\"Courier New, monospace\", size=FONT_SIZE)\n",
    "        )\n",
    "\n",
    "\n",
    "    # compute y-range manually\n",
    "    y_vals = plot_df.values.ravel()          # all y values\n",
    "    y_range = (y_vals.min(), y_vals.max())\n",
    "    \n",
    "    # ------------------------------------------------------------------\n",
    "    # horizontal red boundary lines – use the data range we just computed\n",
    "    # ------------------------------------------------------------------\n",
    "    y_min, y_max = y_range       # comes from the manual computation above\n",
    "\n",
    "    # xref and yref = \"paper\", uses plot area as a reference. \n",
    "    # x0, y0 = 0, 0 is lower left corner\n",
    "    # x1, y1 = 1, 1 is upper right corner\n",
    "    fig.add_shape(type=\"line\",\n",
    "                  xref=\"paper\", yref=\"paper\",\n",
    "                  x0=0, x1=1,\n",
    "                  y0=1, y1=1,  \n",
    "                  line=dict(color=\"red\", width=2))  # top of plot area\n",
    "\n",
    "    fig.add_shape(type=\"line\",\n",
    "                  xref=\"paper\", yref=\"paper\",\n",
    "                  x0=0, x1=1,\n",
    "                  y0=0, y1=0,  \n",
    "                  line=dict(color=\"blue\", width=2))  # bottom of plot area\n",
    "\n",
    "    # # optional thin line just below the filter-text annotation\n",
    "    # fig.add_shape(type=\"line\",\n",
    "    #               xref=\"paper\", yref=\"paper\",\n",
    "    #               x0=0, x1=1,\n",
    "    #               y0=-0.05, y1=-0.05,                 \n",
    "    #               line=dict(color=\"green\", width=2))  # line 5% below the plot area\n",
    "\n",
    "\n",
    "    # --- Layout update section (unchanged) ---\n",
    "    bottom_margin = 140 + num_rows * LINE_HEIGHT\n",
    "    fig.update_layout(width=width, height=height, margin=dict(b=bottom_margin))\n",
    "\n",
    "    # Set the x-axis range to a suitable range\n",
    "    fig.update_xaxes(range=[plot_df.index.min(), plot_df.index.max()])\n",
    "\n",
    "    fig.show()\n",
    "    return fig"
   ]
  },
  {
   "cell_type": "code",
   "execution_count": 27,
   "metadata": {},
   "outputs": [],
   "source": [
    "import pandas as pd\n",
    "import numpy as np\n",
    "\n",
    "def calculate_rank_metrics(df_rank_history, tickers_list, lookback_days=20, recent_days=4):\n",
    "    \"\"\"\n",
    "    Calculates a comprehensive set of rank metrics for a given list of tickers.\n",
    "\n",
    "    This function does NOT filter tickers based on performance criteria. It processes\n",
    "    every ticker provided in the tickers_list and returns its calculated metrics,\n",
    "    making it suitable for generating features for analysis or other models.\n",
    "\n",
    "    Args:\n",
    "        df_rank_history (pd.DataFrame): DataFrame with tickers as index and dates as columns.\n",
    "        tickers_list (list): A list of ticker symbols to calculate metrics for.\n",
    "        lookback_days (int): The number of days for the \"lookback\" period.\n",
    "        recent_days (int): The number of days for the \"recent\" period.\n",
    "\n",
    "    Returns:\n",
    "        list: A list of dictionaries, where each dictionary contains the calculated\n",
    "              rank metrics for one ticker. Tickers with insufficient data in the\n",
    "              specified period are skipped.\n",
    "    \"\"\"\n",
    "    # --- Guard Clause & Date Setup ---\n",
    "    total_days_needed = lookback_days + recent_days\n",
    "    if len(df_rank_history.columns) < total_days_needed:\n",
    "        print(f\"Error: Not enough data. Need {total_days_needed} days, have {len(df_rank_history.columns)}.\")\n",
    "        return []\n",
    "\n",
    "    all_dates = df_rank_history.columns\n",
    "    last_date = all_dates[-1]\n",
    "    recent_period_start_date = all_dates[-recent_days]\n",
    "    lookback_period_end_date = all_dates[-(recent_days + 1)]\n",
    "    lookback_period_start_date = all_dates[-(recent_days + lookback_days)]\n",
    "    \n",
    "    lookback_dates = df_rank_history.loc[:, lookback_period_start_date:lookback_period_end_date].columns\n",
    "    recent_dates = df_rank_history.loc[:, recent_period_start_date:last_date].columns\n",
    "    \n",
    "    all_ticker_metrics = []\n",
    "\n",
    "    print(f\"Calculating metrics for {len(tickers_list)} tickers...\")\n",
    "\n",
    "    # --- Calculation Loop ---\n",
    "    for ticker in tickers_list:\n",
    "        # Skip if ticker is not in the dataframe index\n",
    "        if ticker not in df_rank_history.index:\n",
    "            continue\n",
    "\n",
    "        lookback_ranks = df_rank_history.loc[ticker, lookback_dates].dropna()\n",
    "        recent_ranks = df_rank_history.loc[ticker, recent_dates].dropna()\n",
    "        \n",
    "        # Skip if there's not enough data for this specific ticker in the required periods\n",
    "        if len(lookback_ranks) < lookback_days or len(recent_ranks) < recent_days:\n",
    "            continue\n",
    "            \n",
    "        # --- Perform all calculations without any filtering 'if' statements ---\n",
    "        slope, _ = np.polyfit(np.arange(len(lookback_ranks)), lookback_ranks, 1)\n",
    "        all_ranks_in_period = pd.concat([lookback_ranks, recent_ranks])\n",
    "\n",
    "        # Key reference points\n",
    "        current_rank = int(recent_ranks.iloc[-1])\n",
    "        rank_at_start_of_recent = int(recent_ranks.iloc[0])\n",
    "        recent_bottom_rank = int(recent_ranks.max()) # Worst rank in recent period\n",
    "        total_peak_rank = int(all_ranks_in_period.min()) # Best rank over the whole period\n",
    "        \n",
    "        # This dictionary holds all calculated metrics for one ticker\n",
    "        metrics_dict = {\n",
    "            'ticker': ticker,\n",
    "            'lookback_slope': round(slope, 2),\n",
    "            \n",
    "            # Key Ranks\n",
    "            'current': current_rank,\n",
    "            'recent_start': rank_at_start_of_recent,\n",
    "            'lookback_start': int(lookback_ranks.iloc[0]),\n",
    "            'lookback_end': int(lookback_ranks.iloc[-1]),\n",
    "\n",
    "            # Best/Worst Ranks by Period\n",
    "            'best_lookback': int(lookback_ranks.min()),\n",
    "            'worst_lookback': int(lookback_ranks.max()),\n",
    "            'best_recent': int(recent_ranks.min()),\n",
    "            'worst_recent': recent_bottom_rank, # Same value, more descriptive name\n",
    "            'best_total': total_peak_rank,\n",
    "            'worst_total': int(all_ranks_in_period.max()),\n",
    "\n",
    "            # Derived Metrics (using clearer names)\n",
    "            'current_to_total_peak': current_rank - total_peak_rank,\n",
    "            'current_to_recent_start': current_rank - rank_at_start_of_recent,\n",
    "            'recent_bottom_to_recent_start': recent_bottom_rank - rank_at_start_of_recent,\n",
    "            'recent_bottom_to_current': recent_bottom_rank - current_rank,\n",
    "        }\n",
    "        all_ticker_metrics.append(metrics_dict)\n",
    "\n",
    "    return all_ticker_metrics"
   ]
  },
  {
   "cell_type": "code",
   "execution_count": 28,
   "metadata": {},
   "outputs": [],
   "source": [
    "import pandas as pd\n",
    "\n",
    "def filter_rank_metrics(\n",
    "    all_metrics_data,\n",
    "    min_lookback_improvement=15,\n",
    "    # --- Mode-specific parameters ---\n",
    "    min_current_to_recent_start=None,  # Only used in 'Dip' mode, positive number means recent_start is better than current \n",
    "    min_recent_bottom_to_recent_start=None, # Only used in 'Reversal' mode, positive number means recent_start is better than recent_bottom\n",
    "    min_recent_bottom_to_current=None,  # Only used in 'Reversal' mode, positive number means current is better than recent_bottom \n",
    "    # --- General filters ---\n",
    "    current_rank_bracket_start=1, \n",
    "    current_rank_bracket_end=None):\n",
    "    \"\"\"\n",
    "    Filters a DataFrame of pre-calculated rank metrics based on specified criteria.\n",
    "\n",
    "    This function acts as the second stage in a two-part pipeline, taking the output of\n",
    "    `calculate_rank_metrics` and applying filtering rules to find specific opportunities.\n",
    "\n",
    "    Args:\n",
    "        all_metrics_data (list or pd.DataFrame): The list of dictionaries or DataFrame\n",
    "                                                  from `calculate_rank_metrics`.\n",
    "        min_lookback_improvement (int): Min improvement from the start to the end of the lookback period.\n",
    "        min_current_to_recent_start (int, optional): For 'Dip' mode, positive number means recent_start is better than current.\n",
    "        min_recent_bottom_to_recent_start (int, optional): For 'Reversal' mode, positive number means recent_start is better than recent_bottom.\n",
    "        min_recent_bottom_to_current (int, optional): For 'Reversal' mode, positive number means current is better than recent_bottom.\n",
    "        current_rank_bracket_start (int): The minimum current rank to include.\n",
    "        current_rank_bracket_end (int, optional): The maximum current rank to include.\n",
    "\n",
    "    Returns:\n",
    "        pd.DataFrame: A filtered and sorted DataFrame containing the tickers that meet all criteria.\n",
    "    \"\"\"\n",
    "    # --- Parameter Validation (Mode Detection) ---\n",
    "    # This logic is identical to the original function to ensure correct mode is selected.\n",
    "    if min_current_to_recent_start is not None and (min_recent_bottom_to_recent_start is not None or min_recent_bottom_to_current is not None):\n",
    "        raise ValueError(\"Cannot specify parameters for both 'Dip' and 'Reversal' modes.\")\n",
    "    \n",
    "    # --- Data Preparation ---\n",
    "    if not isinstance(all_metrics_data, pd.DataFrame):\n",
    "        df = pd.DataFrame(all_metrics_data)\n",
    "    else:\n",
    "        df = all_metrics_data.copy() # Use a copy to avoid modifying the original DataFrame\n",
    "\n",
    "    if df.empty:\n",
    "        return df # Return an empty DataFrame if there's no data\n",
    "\n",
    "    # --- Apply Filters Sequentially ---\n",
    "    \n",
    "    # Filter 1: Lookback period must show a minimum rank improvement\n",
    "    # This is calculated from 'lookback_start' - 'lookback_end'\n",
    "    lookback_improvement = df['lookback_start'] - df['lookback_end']\n",
    "    df = df[lookback_improvement >= min_lookback_improvement]\n",
    "\n",
    "    # Filter 2: Lookback trend slope must be negative (improving rank)\n",
    "    df = df[df['lookback_slope'] < 0]\n",
    "\n",
    "    # Filter 3: Ticker's current rank must be within the specified bracket\n",
    "    df = df[df['current'] >= current_rank_bracket_start]\n",
    "    if current_rank_bracket_end is not None:\n",
    "        df = df[df['current'] <= current_rank_bracket_end]\n",
    "\n",
    "    # Filter 4: Mode-specific filtering\n",
    "    if min_current_to_recent_start is not None:\n",
    "        # --- Dip Mode ---\n",
    "        # The metric 'min_current_to_recent_start' corresponds to the required drop.\n",
    "        print(\"Filtering in 'Dip' mode...\")\n",
    "        df = df[df['current_to_recent_start'] >= min_current_to_recent_start]\n",
    "    elif min_recent_bottom_to_recent_start is not None and min_recent_bottom_to_current is not None:\n",
    "        # --- Reversal Mode ---\n",
    "        print(\"Filtering in 'Reversal' mode...\")\n",
    "        df = df[df['recent_bottom_to_recent_start'] >= min_recent_bottom_to_recent_start]\n",
    "        df = df[df['recent_bottom_to_current'] >= min_recent_bottom_to_current]\n",
    "    else:\n",
    "        print(\"Warning: No mode-specific filters applied. Returning candidates based on general filters only.\")\n",
    "\n",
    "    # --- Final Sorting ---\n",
    "    # Sort the final list of candidates by the strength of their past uptrend.\n",
    "    df_filtered = df.sort_values(by='lookback_slope', ascending=True)\n",
    "    \n",
    "    return df_filtered"
   ]
  },
  {
   "cell_type": "markdown",
   "metadata": {},
   "source": [
    "# WOW keep this one\n",
    "    df_tickers_rank_history,\n",
    "    lookback_days=20,\n",
    "    recent_days=4,\n",
    "    min_lookback_improvement=15,\n",
    "    min_recent_bottom_to_recent_start=0,       # The dip must be at least 15 ranks deep\n",
    "    min_recent_bottom_to_current=0, # It must have recovered at least 5 ranks from the bottom\n",
    "    # current_rank_bracket_start=601,\n",
    "    current_rank_bracket_end=800,"
   ]
  },
  {
   "cell_type": "code",
   "execution_count": 29,
   "metadata": {},
   "outputs": [
    {
     "name": "stdout",
     "output_type": "stream",
     "text": [
      "Shape of the resulting DataFrame: (1615, 59)\n",
      "\n",
      "Last date in df_tickers_rank_history: 2025-07-18\n",
      "\n",
      "df_tickers_rank_history:\n",
      "       2025-04-25  2025-04-28  2025-04-29  2025-04-30  2025-05-01  2025-05-02  2025-05-05  2025-05-06  2025-05-07  2025-05-08  2025-05-09  2025-05-12  2025-05-13  2025-05-14  2025-05-15  2025-05-16  2025-05-19  2025-05-20  2025-05-21  2025-05-22  2025-05-23  2025-05-27  2025-05-28  2025-05-29  2025-05-30  2025-06-02  2025-06-03  2025-06-04  2025-06-05  2025-06-06  2025-06-09  2025-06-10  2025-06-11  2025-06-12  2025-06-13  2025-06-16  2025-06-17  2025-06-18  2025-06-19  2025-06-20  2025-06-23  2025-06-24  2025-06-25  2025-06-26  2025-06-27  2025-06-30  2025-07-01  2025-07-02  2025-07-03  2025-07-07  2025-07-08  2025-07-09  2025-07-10  2025-07-11  2025-07-14  2025-07-15  2025-07-16  2025-07-17  2025-07-18\n",
      "NVDA          3.0         3.0         3.0         3.0         3.0         3.0         3.0         3.0         3.0         3.0         3.0         3.0         3.0         2.0         2.0         2.0         2.0         2.0         2.0         2.0         2.0         2.0         2.0         2.0         2.0         2.0         1.0         1.0         2.0         2.0         2.0         1.0         2.0         2.0         2.0         2.0         2.0         2.0         2.0         2.0         2.0         2.0         1.0         1.0         1.0         1.0         1.0         1.0         1.0         1.0         1.0         1.0         1.0         1.0         1.0         1.0         1.0         1.0         1.0\n",
      "MSFT          2.0         2.0         2.0         2.0         2.0         1.0         1.0         1.0         1.0         1.0         1.0         1.0         1.0         1.0         1.0         1.0         1.0         1.0         1.0         1.0         1.0         1.0         1.0         1.0         1.0         1.0         2.0         2.0         1.0         1.0         1.0         2.0         1.0         1.0         1.0         1.0         1.0         1.0         1.0         1.0         1.0         1.0         2.0         2.0         2.0         2.0         2.0         2.0         2.0         2.0         2.0         2.0         2.0         2.0         2.0         2.0         2.0         2.0         2.0\n",
      "AAPL          1.0         1.0         1.0         1.0         1.0         2.0         2.0         2.0         2.0         2.0         2.0         2.0         2.0         3.0         3.0         3.0         3.0         3.0         3.0         3.0         3.0         3.0         3.0         3.0         3.0         3.0         3.0         3.0         3.0         3.0         3.0         3.0         3.0         3.0         3.0         3.0         3.0         3.0         3.0         3.0         3.0         3.0         3.0         3.0         3.0         3.0         3.0         3.0         3.0         3.0         3.0         3.0         3.0         3.0         3.0         3.0         3.0         3.0         3.0\n",
      "AMZN          4.0         4.0         4.0         4.0         4.0         4.0         6.0         6.0         4.0         4.0         4.0         4.0         4.0         4.0         4.0         4.0         4.0         4.0         4.0         4.0         4.0         4.0         4.0         4.0         4.0         4.0         4.0         4.0         4.0         4.0         4.0         4.0         4.0         4.0         4.0         4.0         4.0         4.0         4.0         4.0         4.0         4.0         4.0         4.0         4.0         4.0         4.0         4.0         4.0         4.0         4.0         4.0         4.0         4.0         4.0         4.0         4.0         4.0         4.0\n",
      "GOOGL         5.0         5.0         6.0         6.0         5.0         6.0         5.0         5.0         5.0         6.0         6.0         6.0         6.0         6.0         6.0         5.0         6.0         5.0         6.0         5.0         6.0         5.0         5.0         6.0         6.0         6.0         6.0         5.0         6.0         5.0         6.0         5.0         5.0         5.0         5.0         5.0         6.0         5.0         6.0         6.0         5.0         6.0         5.0         6.0         5.0         6.0         5.0         6.0         5.0         5.0         6.0         6.0         6.0         6.0         6.0         5.0         5.0         6.0         5.0\n",
      "...           ...         ...         ...         ...         ...         ...         ...         ...         ...         ...         ...         ...         ...         ...         ...         ...         ...         ...         ...         ...         ...         ...         ...         ...         ...         ...         ...         ...         ...         ...         ...         ...         ...         ...         ...         ...         ...         ...         ...         ...         ...         ...         ...         ...         ...         ...         ...         ...         ...         ...         ...         ...         ...         ...         ...         ...         ...         ...         ...\n",
      "GOLD        433.0       427.0       434.0       434.0       445.0       452.0       447.0       436.0       434.0       448.0         NaN         NaN         NaN         NaN         NaN         NaN         NaN         NaN         NaN         NaN         NaN         NaN         NaN         NaN         NaN         NaN         NaN         NaN         NaN         NaN         NaN         NaN         NaN         NaN         NaN         NaN         NaN         NaN         NaN         NaN         NaN         NaN         NaN         NaN         NaN         NaN         NaN         NaN         NaN         NaN         NaN         NaN         NaN         NaN         NaN         NaN         NaN         NaN         NaN\n",
      "ONTO       1336.0      1337.0         NaN      1368.0      1377.0      1347.0      1354.0      1366.0      1358.0      1359.0         NaN         NaN         NaN         NaN         NaN         NaN         NaN         NaN         NaN         NaN         NaN         NaN         NaN         NaN         NaN         NaN         NaN         NaN         NaN         NaN         NaN         NaN         NaN         NaN         NaN         NaN         NaN         NaN         NaN         NaN         NaN         NaN         NaN         NaN         NaN         NaN         NaN         NaN         NaN         NaN         NaN         NaN         NaN         NaN         NaN         NaN         NaN         NaN         NaN\n",
      "UCON       1545.0      1545.0      1528.0      1550.0      1551.0      1554.0      1555.0      1557.0      1557.0      1558.0         NaN         NaN         NaN         NaN         NaN         NaN         NaN         NaN         NaN         NaN         NaN         NaN         NaN         NaN         NaN         NaN         NaN         NaN         NaN         NaN         NaN         NaN         NaN         NaN         NaN         NaN         NaN         NaN         NaN         NaN         NaN         NaN         NaN         NaN         NaN         NaN         NaN         NaN         NaN         NaN         NaN         NaN         NaN         NaN         NaN         NaN         NaN         NaN         NaN\n",
      "RECS          NaN         NaN         NaN         NaN         NaN         NaN         NaN         NaN         NaN         NaN         NaN         NaN         NaN         NaN         NaN         NaN         NaN         NaN         NaN         NaN         NaN         NaN         NaN         NaN         NaN         NaN         NaN         NaN         NaN         NaN         NaN         NaN         NaN         NaN         NaN         NaN         NaN         NaN         NaN         NaN         NaN         NaN         NaN         NaN         NaN         NaN         NaN      1544.0         NaN         NaN         NaN         NaN         NaN         NaN         NaN         NaN         NaN         NaN         NaN\n",
      "CGMU          NaN         NaN         NaN         NaN         NaN         NaN         NaN         NaN         NaN         NaN         NaN         NaN         NaN         NaN         NaN         NaN         NaN         NaN         NaN         NaN         NaN         NaN         NaN         NaN         NaN         NaN         NaN         NaN         NaN         NaN         NaN         NaN         NaN         NaN         NaN         NaN         NaN      1540.0      1559.0      1559.0      1558.0      1560.0      1560.0      1559.0         NaN         NaN         NaN         NaN         NaN         NaN         NaN         NaN         NaN         NaN         NaN         NaN         NaN         NaN         NaN\n",
      "\n",
      "[1615 rows x 59 columns]\n"
     ]
    }
   ],
   "source": [
    "df_tickers_rank_history = create_rank_history_df(file_list, DATA_DIR)\n",
    "\n",
    "print(\"Shape of the resulting DataFrame:\", df_tickers_rank_history.shape)\n",
    "print(f'\\nLast date in df_tickers_rank_history: {df_tickers_rank_history.columns[-1].strftime(\"%Y-%m-%d\")}')  \n",
    "print(f'\\ndf_tickers_rank_history:\\n{df_tickers_rank_history}')"
   ]
  },
  {
   "cell_type": "code",
   "execution_count": 30,
   "metadata": {},
   "outputs": [],
   "source": [
    "filter_criteria = {\n",
    "    \"lookback_days\": 20,\n",
    "    \"recent_days\": 4,\n",
    "    \"min_lookback_improvement\": 0,\n",
    "    \"min_current_to_recent_start\": None,  # Only used in 'Dip' mode, positive number means recent_start is better than current\n",
    "    \"min_recent_bottom_to_recent_start\": 0,  # Only used in 'Reversal' mode, positive number means recent_start is better than recent_bottom\n",
    "    \"min_recent_bottom_to_current\": 2,  # Only used in 'Reversal' mode, positive number means current is better than recent_bottom \n",
    "    \"current_rank_bracket_start\": 1,\n",
    "    \"current_rank_bracket_end\": 1000,\n",
    "}"
   ]
  },
  {
   "cell_type": "code",
   "execution_count": 31,
   "metadata": {},
   "outputs": [
    {
     "name": "stdout",
     "output_type": "stream",
     "text": [
      "Calculating metrics for 1615 tickers...\n",
      "Filtering in 'Reversal' mode...\n",
      "df_candidates.head(20):\n",
      "    ticker  lookback_slope  current  recent_start  lookback_start  lookback_end  best_lookback  worst_lookback  best_recent  worst_recent  best_total  worst_total  current_to_total_peak  current_to_recent_start  recent_bottom_to_recent_start  recent_bottom_to_current\n",
      "872   AVAV          -13.25      888           894            1160           901            901            1160          876           894         876         1160                     12                       -6                              0                         6\n",
      "845   JOBY          -12.77      860          1005            1288          1072           1072            1333          860          1005         860         1333                      0                     -145                              0                       145\n",
      "565   RKLB          -11.48      575           638             923           667            667             923          575           638         575          923                      0                      -63                              0                        63\n",
      "465    SYM          -10.53      471           500             686           514            512             700          471           500         471          700                      0                      -29                              0                        29\n",
      "574   SOFI           -9.50      584           599             754           595            594             766          577           599         577          766                      7                      -15                              0                        15\n",
      "801      U           -7.20      814           930            1048           947            945            1084          814           930         814         1084                      0                     -116                              0                       116\n",
      "770     SN           -7.14      783           802             925           802            802             934          783           803         783          934                      0                      -19                              1                        20\n",
      "625     CG           -5.89      636           648             737           643            643             742          636           648         636          742                      0                      -12                              0                        12\n",
      "956    EVR           -5.70      976          1000            1086           997            983            1089          976          1000         976         1089                      0                      -24                              0                        24\n",
      "677   SMMT           -5.68      688           729             809           707            691             810          647           729         647          810                     41                      -41                              0                        41\n",
      "753    DKS           -5.05      766           764             828           761            759             840          764           775         759          840                      7                        2                             11                         9\n",
      "840   SOXL           -4.99      855           867             968           851            840             968          844           867         840          968                     15                      -12                              0                        12\n",
      "405    CCL           -4.25      410           416             475           411            410             482          410           416         410          482                      0                       -6                              0                         6\n",
      "824    QXO           -4.24      839           847             961           860            834             961          837           847         834          961                      5                       -8                              0                         8\n",
      "720   FUTU           -4.09      731           766             840           766            756             902          731           773         731          902                      0                      -35                              7                        42\n",
      "515    HPE           -4.09      522           534             571           530            515             585          522           536         515          585                      7                      -12                              2                        14\n",
      "143   COIN           -3.96      145           157             248           156            156             251          145           157         145          251                      0                      -12                              0                        12\n",
      "811   EWBC           -3.93      825           836             894           829            823             901          825           836         823          901                      2                      -11                              0                        11\n",
      "791   COHR           -3.91      804           821             907           833            833             913          804           821         804          913                      0                      -17                              0                        17\n",
      "858   ENTG           -3.87      874           886             948           903            891             965          874           892         874          965                      0                      -12                              6                        18\n"
     ]
    }
   ],
   "source": [
    "# Assume 'selected_df' is your historical rank data\n",
    "# And all filter parameters (lookback_days, min_current_to_recent_start, etc.) are defined.\n",
    "\n",
    "# === STAGE 1: Calculate metrics for ALL tickers ONCE ===\n",
    "all_tickers = df_tickers_rank_history.index.tolist() \n",
    "\n",
    "# Calculate metrics for every single ticker without any filtering\n",
    "all_metrics_data = calculate_rank_metrics(\n",
    "    df_tickers_rank_history,\n",
    "    tickers_list=all_tickers,\n",
    "    lookback_days=filter_criteria['lookback_days'],\n",
    "    recent_days=filter_criteria['recent_days'],\n",
    ")\n",
    "\n",
    "# Now 'all_metrics_data' is a list of dictionaries that you can:\n",
    "# 1. Convert to a DataFrame for further analysis:\n",
    "#    metrics_df = pd.DataFrame(all_metrics_data)\n",
    "#\n",
    "# 2. Use as a feature set for machine learning.\n",
    "#\n",
    "# 3. Manually filter later in your code.\n",
    "#    dip_candidates = [d for d in all_metrics_data if d['current_to_recent_start'] >= 2]\n",
    "\n",
    "# === STAGE 2: Filter the calculated data ===\n",
    "# This step is very fast because all the heavy calculation is done.\n",
    "# You can now experiment with different filtering parameters here without re-calculating.\n",
    "df_candidates = filter_rank_metrics(\n",
    "    all_metrics_data,\n",
    "    min_lookback_improvement=filter_criteria['min_lookback_improvement'],\n",
    "    # === Mode Parameters ===\n",
    "    min_current_to_recent_start=filter_criteria['min_current_to_recent_start'],\n",
    "    min_recent_bottom_to_recent_start=filter_criteria['min_recent_bottom_to_recent_start'],\n",
    "    min_recent_bottom_to_current=filter_criteria['min_recent_bottom_to_current'],\n",
    "    # === Bracket Filters ===\n",
    "    current_rank_bracket_start=filter_criteria['current_rank_bracket_start'],\n",
    "    current_rank_bracket_end=filter_criteria['current_rank_bracket_end'],\n",
    ")\n",
    "\n",
    "# The resulting 'df_candidates' is identical to the DataFrame you created before.\n",
    "print(f'df_candidates.head(20):\\n{df_candidates.head(20)}')"
   ]
  },
  {
   "cell_type": "code",
   "execution_count": 32,
   "metadata": {},
   "outputs": [
    {
     "name": "stdout",
     "output_type": "stream",
     "text": [
      "\n",
      "df_candidates.head(50):\n",
      "    ticker  MktCap AUM, M    Price  Change %  ATR/Price %  lookback_slope  current  recent_start  lookback_start  lookback_end  best_lookback  worst_lookback  best_recent  worst_recent  best_total  worst_total  current_to_total_peak  current_to_recent_start  recent_bottom_to_recent_start  recent_bottom_to_current\n",
      "872   AVAV        13520.0   274.03     -1.63     4.838886          -13.25      888           894            1160           901            901            1160          876           894         876         1160                     12                       -6                              0                         6\n",
      "845   JOBY        14080.0    17.78      0.34     5.680540          -12.77      860          1005            1288          1072           1072            1333          860          1005         860         1333                      0                     -145                              0                       145\n",
      "565   RKLB        24630.0    51.39      0.12     5.506908          -11.48      575           638             923           667            667             923          575           638         575          923                      0                      -63                              0                        63\n",
      "465    SYM        32160.0    54.54      0.66     5.243858          -10.53      471           500             686           514            512             700          471           500         471          700                      0                      -29                              0                        29\n",
      "574   SOFI        24110.0    21.81     -1.27     4.080697           -9.50      584           599             754           595            594             766          577           599         577          766                      7                      -15                              0                        15\n",
      "801      U        15280.0    36.75      0.63     5.115646           -7.20      814           930            1048           947            945            1084          814           930         814         1084                      0                     -116                              0                       116\n",
      "770     SN        16150.0   115.06      0.09     3.007127           -7.14      783           802             925           802            802             934          783           803         783          934                      0                      -19                              1                        20\n",
      "625     CG        21730.0    60.17      0.10     2.559415           -5.89      636           648             737           643            643             742          636           648         636          742                      0                      -12                              0                        12\n",
      "956    EVR        11540.0   298.52     -0.14     2.509045           -5.70      976          1000            1086           997            983            1089          976          1000         976         1089                      0                      -24                              0                        24\n",
      "677   SMMT        19460.0    26.20     -5.18     6.984733           -5.68      688           729             809           707            691             810          647           729         647          810                     41                      -41                              0                        41\n",
      "753    DKS        16780.0   209.49      0.14     2.907060           -5.05      766           764             828           761            759             840          764           775         759          840                      7                        2                             11                         9\n",
      "840   SOXL        14190.0    27.33      0.04     5.488474           -4.99      855           867             968           851            840             968          844           867         840          968                     15                      -12                              0                        12\n",
      "405    CCL        38370.0    29.55      0.34     2.673435           -4.25      410           416             475           411            410             482          410           416         410          482                      0                       -6                              0                         6\n",
      "824    QXO        14500.0    21.63     -0.73     4.160888           -4.24      839           847             961           860            834             961          837           847         834          961                      5                       -8                              0                         8\n",
      "720   FUTU        18110.0   160.57      7.00     4.596126           -4.09      731           766             840           766            756             902          731           773         731          902                      0                      -35                              7                        42\n",
      "515    HPE        27700.0    21.11      1.34     2.842255           -4.09      522           534             571           530            515             585          522           536         515          585                      7                      -12                              2                        14\n",
      "143   COIN       106920.0   419.78      2.20     4.814427           -3.96      145           157             248           156            156             251          145           157         145          251                      0                      -12                              0                        12\n",
      "811   EWBC        15020.0   108.95      0.67     2.257916           -3.93      825           836             894           829            823             901          825           836         823          901                      2                      -11                              0                        11\n",
      "791   COHR        15480.0    99.60     -0.68     3.684739           -3.91      804           821             907           833            833             913          804           821         804          913                      0                      -17                              0                        17\n",
      "858   ENTG        13740.0    90.75      0.53     3.900826           -3.87      874           886             948           903            891             965          874           892         874          965                      0                      -12                              6                        18\n",
      "640    CFG        21070.0    48.58     -0.49     2.223137           -3.78      651           662             713           655            650             717          647           662         647          717                      4                      -11                              0                        11\n",
      "927   IONQ        12170.0    46.51      3.72     6.514728           -3.74      946          1017            1054          1011            956            1064          946          1017         946         1064                      0                      -71                              0                        71\n",
      "653    KEY        20270.0    18.50      0.71     2.054054           -3.71      664           675             724           671            661             727          664           678         661          727                      3                      -11                              3                        14\n",
      "967    FHN        11340.0    22.36      0.68     2.146691           -3.69      988          1025            1066          1006           1004            1071          988          1025         988         1071                      0                      -37                              0                        37\n",
      "164   HOOD        96840.0   109.74      4.07     4.574449           -3.57      166           183             245           182            182             248          166           183         166          248                      0                      -17                              0                        17\n",
      "663   FLEX        19830.0    53.06     -0.23     2.242744           -3.56      674           683             757           681            679             757          674           683         674          757                      0                       -9                              0                         9\n",
      "969     SF        11300.0   109.99      0.35     2.136558           -3.54      990          1007            1059           993            993            1062          990          1007         990         1062                      0                      -17                              0                        17\n",
      "757   SNAP        16730.0    10.01      1.01     3.796204           -3.51      770           791             844           790            790             873          770           791         770          873                      0                      -21                              0                        21\n",
      "962    TOL        11480.0   116.90     -0.49     2.994012           -3.45      983           994            1013           972            955            1036          979           994         955         1036                     28                      -11                              0                        11\n",
      "633    TPR        21480.0   103.42      1.23     2.446335           -3.44      644           644             723           647            647             729          644           648         644          729                      0                        0                              4                         4\n",
      "732    CSL        17720.0   409.59      0.64     2.526917           -3.33      743           751             788           733            731             791          743           756         731          791                     12                       -8                              5                        13\n",
      "167    RCL        95070.0   350.10      0.46     2.339332           -3.31      169           170             223           170            169             226          169           172         169          226                      0                       -1                              2                         3\n",
      "903   CART        12800.0    49.11      1.53     2.891468           -3.18      919           915             970           928            916             985          915           928         915          985                      4                        4                             13                         9\n",
      "512  FCNCA        27850.0  2123.59      0.46     2.151545           -3.17      519           523             572           511            511             572          519           525         511          572                      8                       -4                              2                         6\n",
      "529    SYF        26660.0    70.04     -0.21     2.127356           -3.17      538           543             587           534            533             590          538           543         533          590                      5                       -5                              0                         5\n",
      "579    PTC        23940.0   199.61      1.32     3.271379           -3.16      589           601             642           608            559             661          589           601         559          661                     30                      -12                              0                        12\n",
      "554    EME        25310.0   565.56      1.13     2.192517           -3.13      564           570             613           565            565             618          564           570         564          618                      0                       -6                              0                         6\n",
      "922   ALLY        12250.0    39.88     -0.89     2.432297           -3.05      941           948             982           930            922             986          940           948         922          986                     19                       -7                              0                         7\n",
      "954   SEIC        11550.0    92.82     -0.44     1.659125           -3.04      974           981            1026           982            976            1030          974           981         974         1030                      0                       -7                              0                         7\n",
      "559   NTRS        24890.0   127.93      0.68     2.180880           -3.03      569           578             621           573            550             621          569           578         550          621                     19                       -9                              0                         9\n",
      "765    WMG        16270.0    31.22     -0.16     2.274183           -3.02      778           792             841           792            792             852          777           792         777          852                      1                      -14                              0                        14\n",
      "595     RF        23380.0    26.01      6.12     2.229912           -2.98      605           634             673           623            616             675          605           634         605          675                      0                      -29                              0                        29\n",
      "863   BF-B        13680.0    28.92     -0.41     3.112033           -2.82      879           893             921           888            870             922          872           897         870          922                      9                      -14                              4                        18\n",
      "923    CNM        12220.0    62.00      0.24     2.016129           -2.76      942           954             995           952            941             995          942           954         941          995                      1                      -12                              0                        12\n",
      "750   ZBRA        16870.0   331.73      0.55     2.462846           -2.71      762           770             807           770            764             812          762           770         762          812                      0                       -8                              0                         8\n",
      "968    SJM        11330.0   106.16     -2.52     2.420874           -2.69      989           995            1047          1002           1002            1056          974           995         974         1056                     15                       -6                              0                         6\n",
      "946    SNX        11820.0   143.29      0.58     1.905227           -2.69      966           972            1022           973            965            1024          966           972         965         1024                      1                       -6                              0                         6\n",
      "483    UAL        30130.0    92.25      1.13     4.173442           -2.65      489           505             542           500            493             566          489           505         489          566                      0                      -16                              0                        16\n",
      "575    JBL        24040.0   223.98      0.79     2.201089           -2.64      585           595             678           592            575             678          585           595         575          678                     10                      -10                              0                        10\n",
      "865   BF-A        13660.0    28.94     -0.55     2.868003           -2.61      881           891             910           892            869             926          881           896         869          926                     12                      -10                              5                        15\n"
     ]
    }
   ],
   "source": [
    "import pprint\n",
    "\n",
    "# Map 'Price' and 'ATR/Price %' from df_finviz_merged_stocks_etfs to df_candidates\n",
    "df_candidates['Price'] = df_candidates['ticker'].map(df_finviz_merged_stocks_etfs['Price'])\n",
    "df_candidates['Change %'] = df_candidates['ticker'].map(df_finviz_merged_stocks_etfs['Change %'])\n",
    "df_candidates['MktCap AUM, M'] = df_candidates['ticker'].map(df_finviz_merged_stocks_etfs['MktCap AUM, M'])\n",
    "df_candidates['ATR/Price %'] = df_candidates['ticker'].map(df_finviz_merged_stocks_etfs['ATR/Price %'])\n",
    "\n",
    "# Reorder the columns to ensure 'Price' is the second column and 'ATR/Price %' is the third column\n",
    "columns = df_candidates.columns.tolist()\n",
    "\n",
    "# Remove 'Price' and 'ATR/Price %' from their current positions\n",
    "if 'Price' in columns:\n",
    "    columns.remove('Price')\n",
    "if 'Change %' in columns:\n",
    "    columns.remove('Change %')    \n",
    "if 'MktCap AUM, M' in columns:\n",
    "    columns.remove('MktCap AUM, M')\n",
    "if 'ATR/Price %' in columns:\n",
    "    columns.remove('ATR/Price %')    \n",
    "\n",
    "# Insert 'Price' as the second column and 'ATR/Price %' as the third column\n",
    "columns.insert(1, 'MktCap AUM, M')\n",
    "columns.insert(2, 'Price')\n",
    "columns.insert(3, 'Change %')\n",
    "columns.insert(4, 'ATR/Price %')\n",
    "\n",
    "\n",
    "# Reorder the DataFrame columns\n",
    "df_candidates = df_candidates[columns]\n",
    "\n",
    "\n",
    "# Display the updated DataFrame\n",
    "print(f'\\ndf_candidates.head(50):\\n{df_candidates.head(50)}')"
   ]
  },
  {
   "cell_type": "code",
   "execution_count": 41,
   "metadata": {},
   "outputs": [
    {
     "name": "stdout",
     "output_type": "stream",
     "text": [
      "filter_criteria:\n",
      "{'lookback_days': 20,\n",
      " 'recent_days': 4,\n",
      " 'min_lookback_improvement': 0,\n",
      " 'min_current_to_recent_start': None,\n",
      " 'min_recent_bottom_to_recent_start': 0,\n",
      " 'min_recent_bottom_to_current': 2,\n",
      " 'current_rank_bracket_start': 1,\n",
      " 'current_rank_bracket_end': 1000}\n",
      "\n",
      "sort order:\n",
      "{'current_to_total_peak': True,\n",
      " 'recent_bottom_to_current': False,\n",
      " 'lookback_slope': True}\n",
      "\n",
      "df_sorted_candidates.head(20):\n",
      "    ticker  MktCap AUM, M   Price  Change %  ATR/Price %  current  best_total  current_to_total_peak  recent_bottom_to_current  lookback_slope  recent_start  lookback_start  lookback_end  best_lookback  worst_lookback  best_recent  worst_recent  worst_total  current_to_recent_start  recent_bottom_to_recent_start\n",
      "845   JOBY        14080.0   17.78      0.34     5.680540      860         860                      0                       145          -12.77          1005            1288          1072           1072            1333          860          1005         1333                     -145                              0\n",
      "801      U        15280.0   36.75      0.63     5.115646      814         814                      0                       116           -7.20           930            1048           947            945            1084          814           930         1084                     -116                              0\n",
      "927   IONQ        12170.0   46.51      3.72     6.514728      946         946                      0                        71           -3.74          1017            1054          1011            956            1064          946          1017         1064                      -71                              0\n",
      "670   ASTS        19580.0   57.98      0.92     6.036564      681         681                      0                        69           -0.25           750             849           776            734             870          681           750          870                      -69                              0\n",
      "565   RKLB        24630.0   51.39      0.12     5.506908      575         575                      0                        63          -11.48           638             923           667            667             923          575           638          923                      -63                              0\n",
      "511     UI        27850.0  460.40      3.01     2.988705      518         518                      0                        46           -1.52           564             593           564            554             597          518           564          597                      -46                              0\n",
      "720   FUTU        18110.0  160.57      7.00     4.596126      731         731                      0                        42           -4.09           766             840           766            756             902          731           773          902                      -35                              7\n",
      "967    FHN        11340.0   22.36      0.68     2.146691      988         988                      0                        37           -3.69          1025            1066          1006           1004            1071          988          1025         1071                      -37                              0\n",
      "356    XYZ        44790.0   72.82      2.95     3.364460      360         360                      0                        32           -0.93           392             394           380            377             399          360           392          399                      -32                              0\n",
      "465    SYM        32160.0   54.54      0.66     5.243858      471         471                      0                        29          -10.53           500             686           514            512             700          471           500          700                      -29                              0\n",
      "595     RF        23380.0   26.01      6.12     2.229912      605         605                      0                        29           -2.98           634             673           623            616             675          605           634          675                      -29                              0\n",
      "956    EVR        11540.0  298.52     -0.14     2.509045      976         976                      0                        24           -5.70          1000            1086           997            983            1089          976          1000         1089                      -24                              0\n",
      "757   SNAP        16730.0   10.01      1.01     3.796204      770         770                      0                        21           -3.51           791             844           790            790             873          770           791          873                      -21                              0\n",
      "624   GRAB        21760.0    5.34      1.71     3.558052      635         635                      0                        21           -1.39           656             684           661            651             703          635           656          703                      -21                              0\n",
      "770     SN        16150.0  115.06      0.09     3.007127      783         783                      0                        20           -7.14           802             925           802            802             934          783           803          934                      -19                              1\n",
      "885    ATI        13180.0   93.41      0.91     2.269564      901         901                      0                        20           -1.26           917             939           916            916             963          901           921          963                      -16                              4\n",
      "248    VST        65490.0  193.01      6.05     3.989431      250         250                      0                        20           -0.84           257             278           254            251             278          250           270          278                       -7                             13\n",
      "831    CRS        14310.0  287.42      0.24     2.651173      846         846                      0                        19           -2.46           863             911           869            860             913          846           865          913                      -17                              2\n",
      "756   BURL        16740.0  265.40      1.20     2.607385      769         769                      0                        19           -2.26           788             808           781            781             838          769           788          838                      -19                              0\n",
      "858   ENTG        13740.0   90.75      0.53     3.900826      874         874                      0                        18           -3.87           886             948           903            891             965          874           892          965                      -12                              6\n",
      "\n",
      "tickers_to_plot: ['JOBY', 'U', 'IONQ', 'ASTS', 'RKLB', 'UI', 'FUTU', 'FHN', 'XYZ', 'SYM']\n"
     ]
    }
   ],
   "source": [
    "sort_order_dict = {'lookback_slope': True,  # negative slope (i.e. small) is better\n",
    "                   'current_to_total_peak': True,  # small is better, best is 0                   \n",
    "                   'recent_bottom_to_current': False,}  # sort large to small, large means big dip before recovered to current level \n",
    "\n",
    "sort_order_dict = {'current_to_total_peak': True,  # small is better, best is 0  \n",
    "                   'recent_bottom_to_current': False,# sort large to small, large means big dip before recovered to current level \n",
    "                   'lookback_slope': True,}  # negative slope (i.e. small) is better\n",
    "\n",
    "# keys in the exact order they appear in the dict\n",
    "sort_keys = list(sort_order_dict.keys())\n",
    "sort_values = list(sort_order_dict.values())\n",
    "df_sorted_candidates = df_candidates.sort_values(by=sort_keys, ascending=sort_values)\n",
    "\n",
    "leading_columns = ['ticker', 'MktCap AUM, M', 'Price', 'Change %', 'ATR/Price %', 'current', 'best_total'] \n",
    "fixed_cols = set(leading_columns) | set(sort_keys)\n",
    "remaining_columns = [c for c in df_candidates.columns if c not in fixed_cols]\n",
    "\n",
    "# final order\n",
    "new_order = leading_columns+ sort_keys + remaining_columns\n",
    "df_sorted_candidates = df_sorted_candidates.reindex(columns=new_order)\n",
    "\n",
    "tickers_to_plot = df_sorted_candidates.head(10)['ticker'].tolist()\n",
    "\n",
    "print(\"filter_criteria:\")\n",
    "pprint.pprint(filter_criteria, sort_dicts=False)\n",
    "print(f\"\\nsort order:\")\n",
    "# False to maintain the original insertion order of the dictionary.\n",
    "pprint.pprint(sort_order_dict, sort_dicts=False)  \n",
    "print(f'\\ndf_sorted_candidates.head(20):\\n{df_sorted_candidates.head(20)}')\n",
    "print(f'\\ntickers_to_plot: {tickers_to_plot}')\n"
   ]
  },
  {
   "cell_type": "code",
   "execution_count": 42,
   "metadata": {},
   "outputs": [
    {
     "data": {
      "application/vnd.plotly.v1+json": {
       "config": {
        "plotlyServerURL": "https://plot.ly"
       },
       "data": [
        {
         "hovertemplate": "Ticker=JOBY<br>index=%{x}<br>Rank=%{y}<extra></extra>",
         "legendgroup": "JOBY",
         "line": {
          "color": "#636EFA",
          "dash": "solid"
         },
         "marker": {
          "symbol": "circle"
         },
         "mode": "lines",
         "name": "JOBY",
         "orientation": "v",
         "showlegend": true,
         "type": "scatter",
         "x": [
          "2025-06-02T00:00:00",
          "2025-06-03T00:00:00",
          "2025-06-04T00:00:00",
          "2025-06-05T00:00:00",
          "2025-06-06T00:00:00",
          "2025-06-09T00:00:00",
          "2025-06-10T00:00:00",
          "2025-06-11T00:00:00",
          "2025-06-12T00:00:00",
          "2025-06-13T00:00:00",
          "2025-06-16T00:00:00",
          "2025-06-17T00:00:00",
          "2025-06-18T00:00:00",
          "2025-06-19T00:00:00",
          "2025-06-20T00:00:00",
          "2025-06-23T00:00:00",
          "2025-06-24T00:00:00",
          "2025-06-25T00:00:00",
          "2025-06-26T00:00:00",
          "2025-06-27T00:00:00",
          "2025-06-30T00:00:00",
          "2025-07-01T00:00:00",
          "2025-07-02T00:00:00",
          "2025-07-03T00:00:00",
          "2025-07-07T00:00:00",
          "2025-07-08T00:00:00",
          "2025-07-09T00:00:00",
          "2025-07-10T00:00:00",
          "2025-07-11T00:00:00",
          "2025-07-14T00:00:00",
          "2025-07-15T00:00:00",
          "2025-07-16T00:00:00",
          "2025-07-17T00:00:00",
          "2025-07-18T00:00:00"
         ],
         "xaxis": "x",
         "y": [
          1404,
          1358,
          1376,
          1415,
          1359,
          1268,
          1258,
          1244,
          1298,
          1308,
          1288,
          1309,
          1275,
          1295,
          1318,
          1323,
          1307,
          1333,
          1259,
          1270,
          1186,
          1243,
          1223,
          1202,
          1188,
          1140,
          1133,
          1095,
          1104,
          1072,
          1005,
          905,
          862,
          860
         ],
         "yaxis": "y"
        },
        {
         "hovertemplate": "Ticker=U<br>index=%{x}<br>Rank=%{y}<extra></extra>",
         "legendgroup": "U",
         "line": {
          "color": "#EF553B",
          "dash": "solid"
         },
         "marker": {
          "symbol": "circle"
         },
         "mode": "lines",
         "name": "U",
         "orientation": "v",
         "showlegend": true,
         "type": "scatter",
         "x": [
          "2025-06-02T00:00:00",
          "2025-06-03T00:00:00",
          "2025-06-04T00:00:00",
          "2025-06-05T00:00:00",
          "2025-06-06T00:00:00",
          "2025-06-09T00:00:00",
          "2025-06-10T00:00:00",
          "2025-06-11T00:00:00",
          "2025-06-12T00:00:00",
          "2025-06-13T00:00:00",
          "2025-06-16T00:00:00",
          "2025-06-17T00:00:00",
          "2025-06-18T00:00:00",
          "2025-06-19T00:00:00",
          "2025-06-20T00:00:00",
          "2025-06-23T00:00:00",
          "2025-06-24T00:00:00",
          "2025-06-25T00:00:00",
          "2025-06-26T00:00:00",
          "2025-06-27T00:00:00",
          "2025-06-30T00:00:00",
          "2025-07-01T00:00:00",
          "2025-07-02T00:00:00",
          "2025-07-03T00:00:00",
          "2025-07-07T00:00:00",
          "2025-07-08T00:00:00",
          "2025-07-09T00:00:00",
          "2025-07-10T00:00:00",
          "2025-07-11T00:00:00",
          "2025-07-14T00:00:00",
          "2025-07-15T00:00:00",
          "2025-07-16T00:00:00",
          "2025-07-17T00:00:00",
          "2025-07-18T00:00:00"
         ],
         "xaxis": "x",
         "y": [
          981,
          986,
          997,
          1025,
          1023,
          1044,
          1039,
          1061,
          1037,
          1068,
          1048,
          1069,
          1058,
          1059,
          1082,
          1079,
          1065,
          1060,
          1084,
          1062,
          1067,
          1081,
          1069,
          1028,
          976,
          945,
          947,
          953,
          953,
          947,
          930,
          853,
          820,
          814
         ],
         "yaxis": "y"
        },
        {
         "hovertemplate": "Ticker=IONQ<br>index=%{x}<br>Rank=%{y}<extra></extra>",
         "legendgroup": "IONQ",
         "line": {
          "color": "#00CC96",
          "dash": "solid"
         },
         "marker": {
          "symbol": "circle"
         },
         "mode": "lines",
         "name": "IONQ",
         "orientation": "v",
         "showlegend": true,
         "type": "scatter",
         "x": [
          "2025-06-02T00:00:00",
          "2025-06-03T00:00:00",
          "2025-06-04T00:00:00",
          "2025-06-05T00:00:00",
          "2025-06-06T00:00:00",
          "2025-06-09T00:00:00",
          "2025-06-10T00:00:00",
          "2025-06-11T00:00:00",
          "2025-06-12T00:00:00",
          "2025-06-13T00:00:00",
          "2025-06-16T00:00:00",
          "2025-06-17T00:00:00",
          "2025-06-18T00:00:00",
          "2025-06-19T00:00:00",
          "2025-06-20T00:00:00",
          "2025-06-23T00:00:00",
          "2025-06-24T00:00:00",
          "2025-06-25T00:00:00",
          "2025-06-26T00:00:00",
          "2025-06-27T00:00:00",
          "2025-06-30T00:00:00",
          "2025-07-01T00:00:00",
          "2025-07-02T00:00:00",
          "2025-07-03T00:00:00",
          "2025-07-07T00:00:00",
          "2025-07-08T00:00:00",
          "2025-07-09T00:00:00",
          "2025-07-10T00:00:00",
          "2025-07-11T00:00:00",
          "2025-07-14T00:00:00",
          "2025-07-15T00:00:00",
          "2025-07-16T00:00:00",
          "2025-07-17T00:00:00",
          "2025-07-18T00:00:00"
         ],
         "xaxis": "x",
         "y": [
          1042,
          1058,
          1064,
          1101,
          1076,
          1067,
          1070,
          1031,
          1052,
          1060,
          1054,
          1054,
          1028,
          1029,
          1016,
          1006,
          1015,
          1064,
          1015,
          1034,
          996,
          1045,
          974,
          982,
          963,
          964,
          959,
          956,
          1020,
          1011,
          1017,
          986,
          968,
          946
         ],
         "yaxis": "y"
        },
        {
         "hovertemplate": "Ticker=ASTS<br>index=%{x}<br>Rank=%{y}<extra></extra>",
         "legendgroup": "ASTS",
         "line": {
          "color": "#AB63FA",
          "dash": "solid"
         },
         "marker": {
          "symbol": "circle"
         },
         "mode": "lines",
         "name": "ASTS",
         "orientation": "v",
         "showlegend": true,
         "type": "scatter",
         "x": [
          "2025-06-02T00:00:00",
          "2025-06-03T00:00:00",
          "2025-06-04T00:00:00",
          "2025-06-05T00:00:00",
          "2025-06-06T00:00:00",
          "2025-06-09T00:00:00",
          "2025-06-10T00:00:00",
          "2025-06-11T00:00:00",
          "2025-06-12T00:00:00",
          "2025-06-13T00:00:00",
          "2025-06-16T00:00:00",
          "2025-06-17T00:00:00",
          "2025-06-18T00:00:00",
          "2025-06-19T00:00:00",
          "2025-06-20T00:00:00",
          "2025-06-23T00:00:00",
          "2025-06-24T00:00:00",
          "2025-06-25T00:00:00",
          "2025-06-26T00:00:00",
          "2025-06-27T00:00:00",
          "2025-06-30T00:00:00",
          "2025-07-01T00:00:00",
          "2025-07-02T00:00:00",
          "2025-07-03T00:00:00",
          "2025-07-07T00:00:00",
          "2025-07-08T00:00:00",
          "2025-07-09T00:00:00",
          "2025-07-10T00:00:00",
          "2025-07-11T00:00:00",
          "2025-07-14T00:00:00",
          "2025-07-15T00:00:00",
          "2025-07-16T00:00:00",
          "2025-07-17T00:00:00",
          "2025-07-18T00:00:00"
         ],
         "xaxis": "x",
         "y": [
          1199,
          1171,
          1081,
          1044,
          1043,
          970,
          948,
          937,
          930,
          897,
          849,
          870,
          816,
          818,
          803,
          756,
          734,
          759,
          757,
          759,
          786,
          816,
          808,
          811,
          806,
          811,
          843,
          832,
          809,
          776,
          750,
          739,
          686,
          681
         ],
         "yaxis": "y"
        },
        {
         "hovertemplate": "Ticker=RKLB<br>index=%{x}<br>Rank=%{y}<extra></extra>",
         "legendgroup": "RKLB",
         "line": {
          "color": "#FFA15A",
          "dash": "solid"
         },
         "marker": {
          "symbol": "circle"
         },
         "mode": "lines",
         "name": "RKLB",
         "orientation": "v",
         "showlegend": true,
         "type": "scatter",
         "x": [
          "2025-06-02T00:00:00",
          "2025-06-03T00:00:00",
          "2025-06-04T00:00:00",
          "2025-06-05T00:00:00",
          "2025-06-06T00:00:00",
          "2025-06-09T00:00:00",
          "2025-06-10T00:00:00",
          "2025-06-11T00:00:00",
          "2025-06-12T00:00:00",
          "2025-06-13T00:00:00",
          "2025-06-16T00:00:00",
          "2025-06-17T00:00:00",
          "2025-06-18T00:00:00",
          "2025-06-19T00:00:00",
          "2025-06-20T00:00:00",
          "2025-06-23T00:00:00",
          "2025-06-24T00:00:00",
          "2025-06-25T00:00:00",
          "2025-06-26T00:00:00",
          "2025-06-27T00:00:00",
          "2025-06-30T00:00:00",
          "2025-07-01T00:00:00",
          "2025-07-02T00:00:00",
          "2025-07-03T00:00:00",
          "2025-07-07T00:00:00",
          "2025-07-08T00:00:00",
          "2025-07-09T00:00:00",
          "2025-07-10T00:00:00",
          "2025-07-11T00:00:00",
          "2025-07-14T00:00:00",
          "2025-07-15T00:00:00",
          "2025-07-16T00:00:00",
          "2025-07-17T00:00:00",
          "2025-07-18T00:00:00"
         ],
         "xaxis": "x",
         "y": [
          904,
          901,
          901,
          911,
          862,
          848,
          902,
          null,
          927,
          945,
          923,
          920,
          888,
          892,
          843,
          802,
          795,
          810,
          752,
          764,
          765,
          790,
          768,
          767,
          719,
          722,
          721,
          723,
          724,
          667,
          638,
          606,
          575,
          575
         ],
         "yaxis": "y"
        },
        {
         "hovertemplate": "Ticker=UI<br>index=%{x}<br>Rank=%{y}<extra></extra>",
         "legendgroup": "UI",
         "line": {
          "color": "#19D3F3",
          "dash": "solid"
         },
         "marker": {
          "symbol": "circle"
         },
         "mode": "lines",
         "name": "UI",
         "orientation": "v",
         "showlegend": true,
         "type": "scatter",
         "x": [
          "2025-06-02T00:00:00",
          "2025-06-03T00:00:00",
          "2025-06-04T00:00:00",
          "2025-06-05T00:00:00",
          "2025-06-06T00:00:00",
          "2025-06-09T00:00:00",
          "2025-06-10T00:00:00",
          "2025-06-11T00:00:00",
          "2025-06-12T00:00:00",
          "2025-06-13T00:00:00",
          "2025-06-16T00:00:00",
          "2025-06-17T00:00:00",
          "2025-06-18T00:00:00",
          "2025-06-19T00:00:00",
          "2025-06-20T00:00:00",
          "2025-06-23T00:00:00",
          "2025-06-24T00:00:00",
          "2025-06-25T00:00:00",
          "2025-06-26T00:00:00",
          "2025-06-27T00:00:00",
          "2025-06-30T00:00:00",
          "2025-07-01T00:00:00",
          "2025-07-02T00:00:00",
          "2025-07-03T00:00:00",
          "2025-07-07T00:00:00",
          "2025-07-08T00:00:00",
          "2025-07-09T00:00:00",
          "2025-07-10T00:00:00",
          "2025-07-11T00:00:00",
          "2025-07-14T00:00:00",
          "2025-07-15T00:00:00",
          "2025-07-16T00:00:00",
          "2025-07-17T00:00:00",
          "2025-07-18T00:00:00"
         ],
         "xaxis": "x",
         "y": [
          567,
          565,
          560,
          559,
          555,
          549,
          561,
          565,
          573,
          584,
          593,
          591,
          595,
          595,
          597,
          579,
          570,
          574,
          575,
          566,
          563,
          569,
          563,
          554,
          560,
          568,
          574,
          581,
          573,
          564,
          564,
          553,
          530,
          518
         ],
         "yaxis": "y"
        },
        {
         "hovertemplate": "Ticker=FUTU<br>index=%{x}<br>Rank=%{y}<extra></extra>",
         "legendgroup": "FUTU",
         "line": {
          "color": "#FF6692",
          "dash": "solid"
         },
         "marker": {
          "symbol": "circle"
         },
         "mode": "lines",
         "name": "FUTU",
         "orientation": "v",
         "showlegend": true,
         "type": "scatter",
         "x": [
          "2025-06-02T00:00:00",
          "2025-06-03T00:00:00",
          "2025-06-04T00:00:00",
          "2025-06-05T00:00:00",
          "2025-06-06T00:00:00",
          "2025-06-09T00:00:00",
          "2025-06-10T00:00:00",
          "2025-06-11T00:00:00",
          "2025-06-12T00:00:00",
          "2025-06-13T00:00:00",
          "2025-06-16T00:00:00",
          "2025-06-17T00:00:00",
          "2025-06-18T00:00:00",
          "2025-06-19T00:00:00",
          "2025-06-20T00:00:00",
          "2025-06-23T00:00:00",
          "2025-06-24T00:00:00",
          "2025-06-25T00:00:00",
          "2025-06-26T00:00:00",
          "2025-06-27T00:00:00",
          "2025-06-30T00:00:00",
          "2025-07-01T00:00:00",
          "2025-07-02T00:00:00",
          "2025-07-03T00:00:00",
          "2025-07-07T00:00:00",
          "2025-07-08T00:00:00",
          "2025-07-09T00:00:00",
          "2025-07-10T00:00:00",
          "2025-07-11T00:00:00",
          "2025-07-14T00:00:00",
          "2025-07-15T00:00:00",
          "2025-07-16T00:00:00",
          "2025-07-17T00:00:00",
          "2025-07-18T00:00:00"
         ],
         "xaxis": "x",
         "y": [
          935,
          936,
          891,
          916,
          926,
          912,
          923,
          885,
          888,
          899,
          840,
          844,
          843,
          845,
          892,
          902,
          878,
          840,
          851,
          863,
          855,
          871,
          877,
          872,
          864,
          835,
          784,
          778,
          756,
          766,
          766,
          773,
          759,
          731
         ],
         "yaxis": "y"
        },
        {
         "hovertemplate": "Ticker=FHN<br>index=%{x}<br>Rank=%{y}<extra></extra>",
         "legendgroup": "FHN",
         "line": {
          "color": "#1F77B4",
          "dash": "solid"
         },
         "marker": {
          "symbol": "circle"
         },
         "mode": "lines",
         "name": "FHN",
         "orientation": "v",
         "showlegend": true,
         "type": "scatter",
         "x": [
          "2025-06-02T00:00:00",
          "2025-06-03T00:00:00",
          "2025-06-04T00:00:00",
          "2025-06-05T00:00:00",
          "2025-06-06T00:00:00",
          "2025-06-09T00:00:00",
          "2025-06-10T00:00:00",
          "2025-06-11T00:00:00",
          "2025-06-12T00:00:00",
          "2025-06-13T00:00:00",
          "2025-06-16T00:00:00",
          "2025-06-17T00:00:00",
          "2025-06-18T00:00:00",
          "2025-06-19T00:00:00",
          "2025-06-20T00:00:00",
          "2025-06-23T00:00:00",
          "2025-06-24T00:00:00",
          "2025-06-25T00:00:00",
          "2025-06-26T00:00:00",
          "2025-06-27T00:00:00",
          "2025-06-30T00:00:00",
          "2025-07-01T00:00:00",
          "2025-07-02T00:00:00",
          "2025-07-03T00:00:00",
          "2025-07-07T00:00:00",
          "2025-07-08T00:00:00",
          "2025-07-09T00:00:00",
          "2025-07-10T00:00:00",
          "2025-07-11T00:00:00",
          "2025-07-14T00:00:00",
          "2025-07-15T00:00:00",
          "2025-07-16T00:00:00",
          "2025-07-17T00:00:00",
          "2025-07-18T00:00:00"
         ],
         "xaxis": "x",
         "y": [
          1040,
          1035,
          1045,
          1046,
          1029,
          1040,
          1045,
          1056,
          1061,
          1076,
          1066,
          1071,
          1063,
          1063,
          1053,
          1037,
          1042,
          1041,
          1025,
          1020,
          1020,
          1015,
          1009,
          1009,
          1006,
          1004,
          1009,
          1009,
          1011,
          1006,
          1025,
          1010,
          993,
          988
         ],
         "yaxis": "y"
        },
        {
         "hovertemplate": "Ticker=XYZ<br>index=%{x}<br>Rank=%{y}<extra></extra>",
         "legendgroup": "XYZ",
         "line": {
          "color": "#FF97FF",
          "dash": "solid"
         },
         "marker": {
          "symbol": "circle"
         },
         "mode": "lines",
         "name": "XYZ",
         "orientation": "v",
         "showlegend": true,
         "type": "scatter",
         "x": [
          "2025-06-02T00:00:00",
          "2025-06-03T00:00:00",
          "2025-06-04T00:00:00",
          "2025-06-05T00:00:00",
          "2025-06-06T00:00:00",
          "2025-06-09T00:00:00",
          "2025-06-10T00:00:00",
          "2025-06-11T00:00:00",
          "2025-06-12T00:00:00",
          "2025-06-13T00:00:00",
          "2025-06-16T00:00:00",
          "2025-06-17T00:00:00",
          "2025-06-18T00:00:00",
          "2025-06-19T00:00:00",
          "2025-06-20T00:00:00",
          "2025-06-23T00:00:00",
          "2025-06-24T00:00:00",
          "2025-06-25T00:00:00",
          "2025-06-26T00:00:00",
          "2025-06-27T00:00:00",
          "2025-06-30T00:00:00",
          "2025-07-01T00:00:00",
          "2025-07-02T00:00:00",
          "2025-07-03T00:00:00",
          "2025-07-07T00:00:00",
          "2025-07-08T00:00:00",
          "2025-07-09T00:00:00",
          "2025-07-10T00:00:00",
          "2025-07-11T00:00:00",
          "2025-07-14T00:00:00",
          "2025-07-15T00:00:00",
          "2025-07-16T00:00:00",
          "2025-07-17T00:00:00",
          "2025-07-18T00:00:00"
         ],
         "xaxis": "x",
         "y": [
          401,
          397,
          397,
          396,
          389,
          386,
          395,
          396,
          399,
          408,
          394,
          398,
          397,
          398,
          393,
          398,
          392,
          393,
          395,
          388,
          380,
          384,
          377,
          380,
          377,
          385,
          379,
          380,
          399,
          380,
          392,
          373,
          367,
          360
         ],
         "yaxis": "y"
        },
        {
         "hovertemplate": "Ticker=SYM<br>index=%{x}<br>Rank=%{y}<extra></extra>",
         "legendgroup": "SYM",
         "line": {
          "color": "#FECB52",
          "dash": "solid"
         },
         "marker": {
          "symbol": "circle"
         },
         "mode": "lines",
         "name": "SYM",
         "orientation": "v",
         "showlegend": true,
         "type": "scatter",
         "x": [
          "2025-06-02T00:00:00",
          "2025-06-03T00:00:00",
          "2025-06-04T00:00:00",
          "2025-06-05T00:00:00",
          "2025-06-06T00:00:00",
          "2025-06-09T00:00:00",
          "2025-06-10T00:00:00",
          "2025-06-11T00:00:00",
          "2025-06-12T00:00:00",
          "2025-06-13T00:00:00",
          "2025-06-16T00:00:00",
          "2025-06-17T00:00:00",
          "2025-06-18T00:00:00",
          "2025-06-19T00:00:00",
          "2025-06-20T00:00:00",
          "2025-06-23T00:00:00",
          "2025-06-24T00:00:00",
          "2025-06-25T00:00:00",
          "2025-06-26T00:00:00",
          "2025-06-27T00:00:00",
          "2025-06-30T00:00:00",
          "2025-07-01T00:00:00",
          "2025-07-02T00:00:00",
          "2025-07-03T00:00:00",
          "2025-07-07T00:00:00",
          "2025-07-08T00:00:00",
          "2025-07-09T00:00:00",
          "2025-07-10T00:00:00",
          "2025-07-11T00:00:00",
          "2025-07-14T00:00:00",
          "2025-07-15T00:00:00",
          "2025-07-16T00:00:00",
          "2025-07-17T00:00:00",
          "2025-07-18T00:00:00"
         ],
         "xaxis": "x",
         "y": [
          722,
          722,
          718,
          725,
          722,
          714,
          749,
          741,
          753,
          748,
          686,
          700,
          627,
          627,
          654,
          673,
          690,
          646,
          615,
          618,
          604,
          599,
          564,
          514,
          516,
          528,
          517,
          512,
          519,
          514,
          500,
          478,
          474,
          471
         ],
         "yaxis": "y"
        }
       ],
       "layout": {
        "annotations": [
         {
          "showarrow": false,
          "text": "Recent",
          "x": "2025-07-15T00:00:00",
          "xanchor": "left",
          "xref": "x",
          "y": 1,
          "yanchor": "top",
          "yref": "y domain"
         },
         {
          "showarrow": false,
          "text": "Lookback",
          "x": "2025-06-16T00:00:00",
          "xanchor": "left",
          "xref": "x",
          "y": 1,
          "yanchor": "top",
          "yref": "y domain"
         },
         {
          "align": "left",
          "font": {
           "family": "Courier New, monospace",
           "size": 14
          },
          "showarrow": false,
          "text": "<b>Filter Criteria:</b><br>  • lookback_days: 20                   • recent_days: 4                      • min_lookback_improvement: 0       <br>  • min_recent_bottom_to_recent_start: 0  • min_recent_bottom_to_current: 2     • current_rank_bracket_start: 1     <br>  • current_rank_bracket_end: 1000    ",
          "x": 0,
          "xanchor": "left",
          "xref": "paper",
          "y": -0.25,
          "yanchor": "top",
          "yref": "paper"
         }
        ],
        "height": 700,
        "legend": {
         "title": {
          "text": "Ticker"
         },
         "tracegroupgap": 0
        },
        "margin": {
         "b": 198.8
        },
        "shapes": [
         {
          "fillcolor": "LightSkyBlue",
          "layer": "below",
          "line": {
           "width": 0
          },
          "opacity": 0.2,
          "type": "rect",
          "x0": "2025-07-15T00:00:00",
          "x1": "2025-07-18T00:00:00",
          "xref": "x",
          "y0": 0,
          "y1": 1,
          "yref": "y domain"
         },
         {
          "fillcolor": "LightGreen",
          "layer": "below",
          "line": {
           "width": 0
          },
          "opacity": 0.2,
          "type": "rect",
          "x0": "2025-06-16T00:00:00",
          "x1": "2025-07-14T00:00:00",
          "xref": "x",
          "y0": 0,
          "y1": 1,
          "yref": "y domain"
         },
         {
          "line": {
           "color": "grey",
           "dash": "dash",
           "width": 2
          },
          "type": "line",
          "x0": "2025-07-15T00:00:00",
          "x1": "2025-07-15T00:00:00",
          "xref": "x",
          "y0": 0,
          "y1": 1,
          "yref": "y domain"
         },
         {
          "line": {
           "color": "red",
           "width": 2
          },
          "type": "line",
          "x0": 0,
          "x1": 1,
          "xref": "paper",
          "y0": 1,
          "y1": 1,
          "yref": "paper"
         },
         {
          "line": {
           "color": "blue",
           "width": 2
          },
          "type": "line",
          "x0": 0,
          "x1": 1,
          "xref": "paper",
          "y0": 0,
          "y1": 0,
          "yref": "paper"
         }
        ],
        "template": {
         "data": {
          "bar": [
           {
            "error_x": {
             "color": "#2a3f5f"
            },
            "error_y": {
             "color": "#2a3f5f"
            },
            "marker": {
             "line": {
              "color": "#E5ECF6",
              "width": 0.5
             },
             "pattern": {
              "fillmode": "overlay",
              "size": 10,
              "solidity": 0.2
             }
            },
            "type": "bar"
           }
          ],
          "barpolar": [
           {
            "marker": {
             "line": {
              "color": "#E5ECF6",
              "width": 0.5
             },
             "pattern": {
              "fillmode": "overlay",
              "size": 10,
              "solidity": 0.2
             }
            },
            "type": "barpolar"
           }
          ],
          "carpet": [
           {
            "aaxis": {
             "endlinecolor": "#2a3f5f",
             "gridcolor": "white",
             "linecolor": "white",
             "minorgridcolor": "white",
             "startlinecolor": "#2a3f5f"
            },
            "baxis": {
             "endlinecolor": "#2a3f5f",
             "gridcolor": "white",
             "linecolor": "white",
             "minorgridcolor": "white",
             "startlinecolor": "#2a3f5f"
            },
            "type": "carpet"
           }
          ],
          "choropleth": [
           {
            "colorbar": {
             "outlinewidth": 0,
             "ticks": ""
            },
            "type": "choropleth"
           }
          ],
          "contour": [
           {
            "colorbar": {
             "outlinewidth": 0,
             "ticks": ""
            },
            "colorscale": [
             [
              0,
              "#0d0887"
             ],
             [
              0.1111111111111111,
              "#46039f"
             ],
             [
              0.2222222222222222,
              "#7201a8"
             ],
             [
              0.3333333333333333,
              "#9c179e"
             ],
             [
              0.4444444444444444,
              "#bd3786"
             ],
             [
              0.5555555555555556,
              "#d8576b"
             ],
             [
              0.6666666666666666,
              "#ed7953"
             ],
             [
              0.7777777777777778,
              "#fb9f3a"
             ],
             [
              0.8888888888888888,
              "#fdca26"
             ],
             [
              1,
              "#f0f921"
             ]
            ],
            "type": "contour"
           }
          ],
          "contourcarpet": [
           {
            "colorbar": {
             "outlinewidth": 0,
             "ticks": ""
            },
            "type": "contourcarpet"
           }
          ],
          "heatmap": [
           {
            "colorbar": {
             "outlinewidth": 0,
             "ticks": ""
            },
            "colorscale": [
             [
              0,
              "#0d0887"
             ],
             [
              0.1111111111111111,
              "#46039f"
             ],
             [
              0.2222222222222222,
              "#7201a8"
             ],
             [
              0.3333333333333333,
              "#9c179e"
             ],
             [
              0.4444444444444444,
              "#bd3786"
             ],
             [
              0.5555555555555556,
              "#d8576b"
             ],
             [
              0.6666666666666666,
              "#ed7953"
             ],
             [
              0.7777777777777778,
              "#fb9f3a"
             ],
             [
              0.8888888888888888,
              "#fdca26"
             ],
             [
              1,
              "#f0f921"
             ]
            ],
            "type": "heatmap"
           }
          ],
          "heatmapgl": [
           {
            "colorbar": {
             "outlinewidth": 0,
             "ticks": ""
            },
            "colorscale": [
             [
              0,
              "#0d0887"
             ],
             [
              0.1111111111111111,
              "#46039f"
             ],
             [
              0.2222222222222222,
              "#7201a8"
             ],
             [
              0.3333333333333333,
              "#9c179e"
             ],
             [
              0.4444444444444444,
              "#bd3786"
             ],
             [
              0.5555555555555556,
              "#d8576b"
             ],
             [
              0.6666666666666666,
              "#ed7953"
             ],
             [
              0.7777777777777778,
              "#fb9f3a"
             ],
             [
              0.8888888888888888,
              "#fdca26"
             ],
             [
              1,
              "#f0f921"
             ]
            ],
            "type": "heatmapgl"
           }
          ],
          "histogram": [
           {
            "marker": {
             "pattern": {
              "fillmode": "overlay",
              "size": 10,
              "solidity": 0.2
             }
            },
            "type": "histogram"
           }
          ],
          "histogram2d": [
           {
            "colorbar": {
             "outlinewidth": 0,
             "ticks": ""
            },
            "colorscale": [
             [
              0,
              "#0d0887"
             ],
             [
              0.1111111111111111,
              "#46039f"
             ],
             [
              0.2222222222222222,
              "#7201a8"
             ],
             [
              0.3333333333333333,
              "#9c179e"
             ],
             [
              0.4444444444444444,
              "#bd3786"
             ],
             [
              0.5555555555555556,
              "#d8576b"
             ],
             [
              0.6666666666666666,
              "#ed7953"
             ],
             [
              0.7777777777777778,
              "#fb9f3a"
             ],
             [
              0.8888888888888888,
              "#fdca26"
             ],
             [
              1,
              "#f0f921"
             ]
            ],
            "type": "histogram2d"
           }
          ],
          "histogram2dcontour": [
           {
            "colorbar": {
             "outlinewidth": 0,
             "ticks": ""
            },
            "colorscale": [
             [
              0,
              "#0d0887"
             ],
             [
              0.1111111111111111,
              "#46039f"
             ],
             [
              0.2222222222222222,
              "#7201a8"
             ],
             [
              0.3333333333333333,
              "#9c179e"
             ],
             [
              0.4444444444444444,
              "#bd3786"
             ],
             [
              0.5555555555555556,
              "#d8576b"
             ],
             [
              0.6666666666666666,
              "#ed7953"
             ],
             [
              0.7777777777777778,
              "#fb9f3a"
             ],
             [
              0.8888888888888888,
              "#fdca26"
             ],
             [
              1,
              "#f0f921"
             ]
            ],
            "type": "histogram2dcontour"
           }
          ],
          "mesh3d": [
           {
            "colorbar": {
             "outlinewidth": 0,
             "ticks": ""
            },
            "type": "mesh3d"
           }
          ],
          "parcoords": [
           {
            "line": {
             "colorbar": {
              "outlinewidth": 0,
              "ticks": ""
             }
            },
            "type": "parcoords"
           }
          ],
          "pie": [
           {
            "automargin": true,
            "type": "pie"
           }
          ],
          "scatter": [
           {
            "fillpattern": {
             "fillmode": "overlay",
             "size": 10,
             "solidity": 0.2
            },
            "type": "scatter"
           }
          ],
          "scatter3d": [
           {
            "line": {
             "colorbar": {
              "outlinewidth": 0,
              "ticks": ""
             }
            },
            "marker": {
             "colorbar": {
              "outlinewidth": 0,
              "ticks": ""
             }
            },
            "type": "scatter3d"
           }
          ],
          "scattercarpet": [
           {
            "marker": {
             "colorbar": {
              "outlinewidth": 0,
              "ticks": ""
             }
            },
            "type": "scattercarpet"
           }
          ],
          "scattergeo": [
           {
            "marker": {
             "colorbar": {
              "outlinewidth": 0,
              "ticks": ""
             }
            },
            "type": "scattergeo"
           }
          ],
          "scattergl": [
           {
            "marker": {
             "colorbar": {
              "outlinewidth": 0,
              "ticks": ""
             }
            },
            "type": "scattergl"
           }
          ],
          "scattermapbox": [
           {
            "marker": {
             "colorbar": {
              "outlinewidth": 0,
              "ticks": ""
             }
            },
            "type": "scattermapbox"
           }
          ],
          "scatterpolar": [
           {
            "marker": {
             "colorbar": {
              "outlinewidth": 0,
              "ticks": ""
             }
            },
            "type": "scatterpolar"
           }
          ],
          "scatterpolargl": [
           {
            "marker": {
             "colorbar": {
              "outlinewidth": 0,
              "ticks": ""
             }
            },
            "type": "scatterpolargl"
           }
          ],
          "scatterternary": [
           {
            "marker": {
             "colorbar": {
              "outlinewidth": 0,
              "ticks": ""
             }
            },
            "type": "scatterternary"
           }
          ],
          "surface": [
           {
            "colorbar": {
             "outlinewidth": 0,
             "ticks": ""
            },
            "colorscale": [
             [
              0,
              "#0d0887"
             ],
             [
              0.1111111111111111,
              "#46039f"
             ],
             [
              0.2222222222222222,
              "#7201a8"
             ],
             [
              0.3333333333333333,
              "#9c179e"
             ],
             [
              0.4444444444444444,
              "#bd3786"
             ],
             [
              0.5555555555555556,
              "#d8576b"
             ],
             [
              0.6666666666666666,
              "#ed7953"
             ],
             [
              0.7777777777777778,
              "#fb9f3a"
             ],
             [
              0.8888888888888888,
              "#fdca26"
             ],
             [
              1,
              "#f0f921"
             ]
            ],
            "type": "surface"
           }
          ],
          "table": [
           {
            "cells": {
             "fill": {
              "color": "#EBF0F8"
             },
             "line": {
              "color": "white"
             }
            },
            "header": {
             "fill": {
              "color": "#C8D4E3"
             },
             "line": {
              "color": "white"
             }
            },
            "type": "table"
           }
          ]
         },
         "layout": {
          "annotationdefaults": {
           "arrowcolor": "#2a3f5f",
           "arrowhead": 0,
           "arrowwidth": 1
          },
          "autotypenumbers": "strict",
          "coloraxis": {
           "colorbar": {
            "outlinewidth": 0,
            "ticks": ""
           }
          },
          "colorscale": {
           "diverging": [
            [
             0,
             "#8e0152"
            ],
            [
             0.1,
             "#c51b7d"
            ],
            [
             0.2,
             "#de77ae"
            ],
            [
             0.3,
             "#f1b6da"
            ],
            [
             0.4,
             "#fde0ef"
            ],
            [
             0.5,
             "#f7f7f7"
            ],
            [
             0.6,
             "#e6f5d0"
            ],
            [
             0.7,
             "#b8e186"
            ],
            [
             0.8,
             "#7fbc41"
            ],
            [
             0.9,
             "#4d9221"
            ],
            [
             1,
             "#276419"
            ]
           ],
           "sequential": [
            [
             0,
             "#0d0887"
            ],
            [
             0.1111111111111111,
             "#46039f"
            ],
            [
             0.2222222222222222,
             "#7201a8"
            ],
            [
             0.3333333333333333,
             "#9c179e"
            ],
            [
             0.4444444444444444,
             "#bd3786"
            ],
            [
             0.5555555555555556,
             "#d8576b"
            ],
            [
             0.6666666666666666,
             "#ed7953"
            ],
            [
             0.7777777777777778,
             "#fb9f3a"
            ],
            [
             0.8888888888888888,
             "#fdca26"
            ],
            [
             1,
             "#f0f921"
            ]
           ],
           "sequentialminus": [
            [
             0,
             "#0d0887"
            ],
            [
             0.1111111111111111,
             "#46039f"
            ],
            [
             0.2222222222222222,
             "#7201a8"
            ],
            [
             0.3333333333333333,
             "#9c179e"
            ],
            [
             0.4444444444444444,
             "#bd3786"
            ],
            [
             0.5555555555555556,
             "#d8576b"
            ],
            [
             0.6666666666666666,
             "#ed7953"
            ],
            [
             0.7777777777777778,
             "#fb9f3a"
            ],
            [
             0.8888888888888888,
             "#fdca26"
            ],
            [
             1,
             "#f0f921"
            ]
           ]
          },
          "colorway": [
           "#636efa",
           "#EF553B",
           "#00cc96",
           "#ab63fa",
           "#FFA15A",
           "#19d3f3",
           "#FF6692",
           "#B6E880",
           "#FF97FF",
           "#FECB52"
          ],
          "font": {
           "color": "#2a3f5f"
          },
          "geo": {
           "bgcolor": "white",
           "lakecolor": "white",
           "landcolor": "#E5ECF6",
           "showlakes": true,
           "showland": true,
           "subunitcolor": "white"
          },
          "hoverlabel": {
           "align": "left"
          },
          "hovermode": "closest",
          "mapbox": {
           "style": "light"
          },
          "paper_bgcolor": "white",
          "plot_bgcolor": "#E5ECF6",
          "polar": {
           "angularaxis": {
            "gridcolor": "white",
            "linecolor": "white",
            "ticks": ""
           },
           "bgcolor": "#E5ECF6",
           "radialaxis": {
            "gridcolor": "white",
            "linecolor": "white",
            "ticks": ""
           }
          },
          "scene": {
           "xaxis": {
            "backgroundcolor": "#E5ECF6",
            "gridcolor": "white",
            "gridwidth": 2,
            "linecolor": "white",
            "showbackground": true,
            "ticks": "",
            "zerolinecolor": "white"
           },
           "yaxis": {
            "backgroundcolor": "#E5ECF6",
            "gridcolor": "white",
            "gridwidth": 2,
            "linecolor": "white",
            "showbackground": true,
            "ticks": "",
            "zerolinecolor": "white"
           },
           "zaxis": {
            "backgroundcolor": "#E5ECF6",
            "gridcolor": "white",
            "gridwidth": 2,
            "linecolor": "white",
            "showbackground": true,
            "ticks": "",
            "zerolinecolor": "white"
           }
          },
          "shapedefaults": {
           "line": {
            "color": "#2a3f5f"
           }
          },
          "ternary": {
           "aaxis": {
            "gridcolor": "white",
            "linecolor": "white",
            "ticks": ""
           },
           "baxis": {
            "gridcolor": "white",
            "linecolor": "white",
            "ticks": ""
           },
           "bgcolor": "#E5ECF6",
           "caxis": {
            "gridcolor": "white",
            "linecolor": "white",
            "ticks": ""
           }
          },
          "title": {
           "x": 0.05
          },
          "xaxis": {
           "automargin": true,
           "gridcolor": "white",
           "linecolor": "white",
           "ticks": "",
           "title": {
            "standoff": 15
           },
           "zerolinecolor": "white",
           "zerolinewidth": 2
          },
          "yaxis": {
           "automargin": true,
           "gridcolor": "white",
           "linecolor": "white",
           "ticks": "",
           "title": {
            "standoff": 15
           },
           "zerolinecolor": "white",
           "zerolinewidth": 2
          }
         }
        },
        "title": {
         "text": "Rank History: 'Reversal' Candidates"
        },
        "updatemenus": [
         {
          "buttons": [
           {
            "args": [
             {
              "visible": [
               true,
               true,
               true,
               true,
               true,
               true,
               true,
               true,
               true,
               true
              ]
             }
            ],
            "label": "Reset View",
            "method": "restyle"
           },
           {
            "args": [
             {
              "visible": [
               "legendonly",
               "legendonly",
               "legendonly",
               "legendonly",
               "legendonly",
               "legendonly",
               "legendonly",
               "legendonly",
               "legendonly",
               "legendonly"
              ]
             }
            ],
            "label": "Clear All",
            "method": "restyle"
           }
          ],
          "direction": "left",
          "showactive": false,
          "type": "buttons",
          "x": 0.01,
          "xanchor": "left",
          "y": 1.1,
          "yanchor": "top"
         }
        ],
        "width": 1150,
        "xaxis": {
         "anchor": "y",
         "domain": [
          0,
          1
         ],
         "dtick": "D7",
         "gridcolor": "LightGrey",
         "minor": {
          "dtick": "D1",
          "gridcolor": "rgba(235, 235, 235, 0.5)",
          "showgrid": true
         },
         "range": [
          "2025-06-02T00:00:00",
          "2025-07-18T00:00:00"
         ],
         "showgrid": true,
         "tickformat": "%b %d",
         "title": {
          "standoff": 25,
          "text": "Date"
         },
         "type": "date"
        },
        "yaxis": {
         "anchor": "x",
         "autorange": "reversed",
         "domain": [
          0,
          1
         ],
         "dtick": 100,
         "gridcolor": "LightGrey",
         "showgrid": true,
         "title": {
          "text": "Rank"
         }
        }
       }
      }
     },
     "metadata": {},
     "output_type": "display_data"
    }
   ],
   "source": [
    "plot_days = filter_criteria['lookback_days'] + filter_criteria['recent_days'] + 10  # add 10 extra days for plotting \n",
    "\n",
    "# 4. Call the new plotting function\n",
    "if tickers_to_plot:\n",
    "    plot_rank_with_criteria(\n",
    "        # df_rank_history=selected_df.iloc[:, -plot_days::],\n",
    "        df_rank_history=df_tickers_rank_history.iloc[:, -plot_days::],        \n",
    "        # df_rank_history=selected_df,\n",
    "        ticker_list=tickers_to_plot,\n",
    "        title_suffix=\"'Reversal' Candidates\",\n",
    "        filter_criteria=filter_criteria, # Pass the dictionary here\n",
    "        width=1150,\n",
    "        height=700,\n",
    "    )\n",
    "else:\n",
    "    print(\"No candidates found to plot.\")"
   ]
  },
  {
   "cell_type": "code",
   "execution_count": 35,
   "metadata": {},
   "outputs": [],
   "source": [
    "# List of tickers\n",
    "portfolio_tickers = [\"JOBY\",\n",
    "                     \"SYM\",\n",
    "                     \"RKLB\",\n",
    "                     \"MSTR\",\n",
    "                     \"ORCL\",\n",
    "                     \"SHOP\",\n",
    "                     \"COIN\",\n",
    "                     \"VGT\",\n",
    "                     \"AVAV\",\n",
    "                     \"META\",\n",
    "                     \"NVDA\",]"
   ]
  },
  {
   "cell_type": "code",
   "execution_count": 36,
   "metadata": {},
   "outputs": [
    {
     "data": {
      "application/vnd.plotly.v1+json": {
       "config": {
        "plotlyServerURL": "https://plot.ly"
       },
       "data": [
        {
         "hovertemplate": "Ticker=JOBY<br>index=%{x}<br>Rank=%{y}<extra></extra>",
         "legendgroup": "JOBY",
         "line": {
          "color": "#636EFA",
          "dash": "solid"
         },
         "marker": {
          "symbol": "circle"
         },
         "mode": "lines",
         "name": "JOBY",
         "orientation": "v",
         "showlegend": true,
         "type": "scatter",
         "x": [
          "2025-06-02T00:00:00",
          "2025-06-03T00:00:00",
          "2025-06-04T00:00:00",
          "2025-06-05T00:00:00",
          "2025-06-06T00:00:00",
          "2025-06-09T00:00:00",
          "2025-06-10T00:00:00",
          "2025-06-11T00:00:00",
          "2025-06-12T00:00:00",
          "2025-06-13T00:00:00",
          "2025-06-16T00:00:00",
          "2025-06-17T00:00:00",
          "2025-06-18T00:00:00",
          "2025-06-19T00:00:00",
          "2025-06-20T00:00:00",
          "2025-06-23T00:00:00",
          "2025-06-24T00:00:00",
          "2025-06-25T00:00:00",
          "2025-06-26T00:00:00",
          "2025-06-27T00:00:00",
          "2025-06-30T00:00:00",
          "2025-07-01T00:00:00",
          "2025-07-02T00:00:00",
          "2025-07-03T00:00:00",
          "2025-07-07T00:00:00",
          "2025-07-08T00:00:00",
          "2025-07-09T00:00:00",
          "2025-07-10T00:00:00",
          "2025-07-11T00:00:00",
          "2025-07-14T00:00:00",
          "2025-07-15T00:00:00",
          "2025-07-16T00:00:00",
          "2025-07-17T00:00:00",
          "2025-07-18T00:00:00"
         ],
         "xaxis": "x",
         "y": [
          1404,
          1358,
          1376,
          1415,
          1359,
          1268,
          1258,
          1244,
          1298,
          1308,
          1288,
          1309,
          1275,
          1295,
          1318,
          1323,
          1307,
          1333,
          1259,
          1270,
          1186,
          1243,
          1223,
          1202,
          1188,
          1140,
          1133,
          1095,
          1104,
          1072,
          1005,
          905,
          862,
          860
         ],
         "yaxis": "y"
        },
        {
         "hovertemplate": "Ticker=SYM<br>index=%{x}<br>Rank=%{y}<extra></extra>",
         "legendgroup": "SYM",
         "line": {
          "color": "#EF553B",
          "dash": "solid"
         },
         "marker": {
          "symbol": "circle"
         },
         "mode": "lines",
         "name": "SYM",
         "orientation": "v",
         "showlegend": true,
         "type": "scatter",
         "x": [
          "2025-06-02T00:00:00",
          "2025-06-03T00:00:00",
          "2025-06-04T00:00:00",
          "2025-06-05T00:00:00",
          "2025-06-06T00:00:00",
          "2025-06-09T00:00:00",
          "2025-06-10T00:00:00",
          "2025-06-11T00:00:00",
          "2025-06-12T00:00:00",
          "2025-06-13T00:00:00",
          "2025-06-16T00:00:00",
          "2025-06-17T00:00:00",
          "2025-06-18T00:00:00",
          "2025-06-19T00:00:00",
          "2025-06-20T00:00:00",
          "2025-06-23T00:00:00",
          "2025-06-24T00:00:00",
          "2025-06-25T00:00:00",
          "2025-06-26T00:00:00",
          "2025-06-27T00:00:00",
          "2025-06-30T00:00:00",
          "2025-07-01T00:00:00",
          "2025-07-02T00:00:00",
          "2025-07-03T00:00:00",
          "2025-07-07T00:00:00",
          "2025-07-08T00:00:00",
          "2025-07-09T00:00:00",
          "2025-07-10T00:00:00",
          "2025-07-11T00:00:00",
          "2025-07-14T00:00:00",
          "2025-07-15T00:00:00",
          "2025-07-16T00:00:00",
          "2025-07-17T00:00:00",
          "2025-07-18T00:00:00"
         ],
         "xaxis": "x",
         "y": [
          722,
          722,
          718,
          725,
          722,
          714,
          749,
          741,
          753,
          748,
          686,
          700,
          627,
          627,
          654,
          673,
          690,
          646,
          615,
          618,
          604,
          599,
          564,
          514,
          516,
          528,
          517,
          512,
          519,
          514,
          500,
          478,
          474,
          471
         ],
         "yaxis": "y"
        },
        {
         "hovertemplate": "Ticker=RKLB<br>index=%{x}<br>Rank=%{y}<extra></extra>",
         "legendgroup": "RKLB",
         "line": {
          "color": "#00CC96",
          "dash": "solid"
         },
         "marker": {
          "symbol": "circle"
         },
         "mode": "lines",
         "name": "RKLB",
         "orientation": "v",
         "showlegend": true,
         "type": "scatter",
         "x": [
          "2025-06-02T00:00:00",
          "2025-06-03T00:00:00",
          "2025-06-04T00:00:00",
          "2025-06-05T00:00:00",
          "2025-06-06T00:00:00",
          "2025-06-09T00:00:00",
          "2025-06-10T00:00:00",
          "2025-06-11T00:00:00",
          "2025-06-12T00:00:00",
          "2025-06-13T00:00:00",
          "2025-06-16T00:00:00",
          "2025-06-17T00:00:00",
          "2025-06-18T00:00:00",
          "2025-06-19T00:00:00",
          "2025-06-20T00:00:00",
          "2025-06-23T00:00:00",
          "2025-06-24T00:00:00",
          "2025-06-25T00:00:00",
          "2025-06-26T00:00:00",
          "2025-06-27T00:00:00",
          "2025-06-30T00:00:00",
          "2025-07-01T00:00:00",
          "2025-07-02T00:00:00",
          "2025-07-03T00:00:00",
          "2025-07-07T00:00:00",
          "2025-07-08T00:00:00",
          "2025-07-09T00:00:00",
          "2025-07-10T00:00:00",
          "2025-07-11T00:00:00",
          "2025-07-14T00:00:00",
          "2025-07-15T00:00:00",
          "2025-07-16T00:00:00",
          "2025-07-17T00:00:00",
          "2025-07-18T00:00:00"
         ],
         "xaxis": "x",
         "y": [
          904,
          901,
          901,
          911,
          862,
          848,
          902,
          null,
          927,
          945,
          923,
          920,
          888,
          892,
          843,
          802,
          795,
          810,
          752,
          764,
          765,
          790,
          768,
          767,
          719,
          722,
          721,
          723,
          724,
          667,
          638,
          606,
          575,
          575
         ],
         "yaxis": "y"
        },
        {
         "hovertemplate": "Ticker=MSTR<br>index=%{x}<br>Rank=%{y}<extra></extra>",
         "legendgroup": "MSTR",
         "line": {
          "color": "#AB63FA",
          "dash": "solid"
         },
         "marker": {
          "symbol": "circle"
         },
         "mode": "lines",
         "name": "MSTR",
         "orientation": "v",
         "showlegend": true,
         "type": "scatter",
         "x": [
          "2025-06-02T00:00:00",
          "2025-06-03T00:00:00",
          "2025-06-04T00:00:00",
          "2025-06-05T00:00:00",
          "2025-06-06T00:00:00",
          "2025-06-09T00:00:00",
          "2025-06-10T00:00:00",
          "2025-06-11T00:00:00",
          "2025-06-12T00:00:00",
          "2025-06-13T00:00:00",
          "2025-06-16T00:00:00",
          "2025-06-17T00:00:00",
          "2025-06-18T00:00:00",
          "2025-06-19T00:00:00",
          "2025-06-20T00:00:00",
          "2025-06-23T00:00:00",
          "2025-06-24T00:00:00",
          "2025-06-25T00:00:00",
          "2025-06-26T00:00:00",
          "2025-06-27T00:00:00",
          "2025-06-30T00:00:00",
          "2025-07-01T00:00:00",
          "2025-07-02T00:00:00",
          "2025-07-03T00:00:00",
          "2025-07-07T00:00:00",
          "2025-07-08T00:00:00",
          "2025-07-09T00:00:00",
          "2025-07-10T00:00:00",
          "2025-07-11T00:00:00",
          "2025-07-14T00:00:00",
          "2025-07-15T00:00:00",
          "2025-07-16T00:00:00",
          "2025-07-17T00:00:00",
          "2025-07-18T00:00:00"
         ],
         "xaxis": "x",
         "y": [
          147,
          140,
          142,
          148,
          146,
          142,
          142,
          144,
          145,
          144,
          143,
          146,
          146,
          146,
          147,
          150,
          147,
          142,
          142,
          144,
          140,
          149,
          142,
          142,
          142,
          141,
          138,
          136,
          132,
          124,
          126,
          123,
          124,
          135
         ],
         "yaxis": "y"
        },
        {
         "hovertemplate": "Ticker=ORCL<br>index=%{x}<br>Rank=%{y}<extra></extra>",
         "legendgroup": "ORCL",
         "line": {
          "color": "#FFA15A",
          "dash": "solid"
         },
         "marker": {
          "symbol": "circle"
         },
         "mode": "lines",
         "name": "ORCL",
         "orientation": "v",
         "showlegend": true,
         "type": "scatter",
         "x": [
          "2025-06-02T00:00:00",
          "2025-06-03T00:00:00",
          "2025-06-04T00:00:00",
          "2025-06-05T00:00:00",
          "2025-06-06T00:00:00",
          "2025-06-09T00:00:00",
          "2025-06-10T00:00:00",
          "2025-06-11T00:00:00",
          "2025-06-12T00:00:00",
          "2025-06-13T00:00:00",
          "2025-06-16T00:00:00",
          "2025-06-17T00:00:00",
          "2025-06-18T00:00:00",
          "2025-06-19T00:00:00",
          "2025-06-20T00:00:00",
          "2025-06-23T00:00:00",
          "2025-06-24T00:00:00",
          "2025-06-25T00:00:00",
          "2025-06-26T00:00:00",
          "2025-06-27T00:00:00",
          "2025-06-30T00:00:00",
          "2025-07-01T00:00:00",
          "2025-07-02T00:00:00",
          "2025-07-03T00:00:00",
          "2025-07-07T00:00:00",
          "2025-07-08T00:00:00",
          "2025-07-09T00:00:00",
          "2025-07-10T00:00:00",
          "2025-07-11T00:00:00",
          "2025-07-14T00:00:00",
          "2025-07-15T00:00:00",
          "2025-07-16T00:00:00",
          "2025-07-17T00:00:00",
          "2025-07-18T00:00:00"
         ],
         "xaxis": "x",
         "y": [
          24,
          23,
          23,
          22,
          22,
          22,
          22,
          22,
          20,
          19,
          19,
          19,
          19,
          19,
          19,
          19,
          19,
          19,
          20,
          20,
          20,
          20,
          18,
          18,
          18,
          18,
          18,
          18,
          18,
          18,
          18,
          18,
          16,
          17
         ],
         "yaxis": "y"
        },
        {
         "hovertemplate": "Ticker=SHOP<br>index=%{x}<br>Rank=%{y}<extra></extra>",
         "legendgroup": "SHOP",
         "line": {
          "color": "#19D3F3",
          "dash": "solid"
         },
         "marker": {
          "symbol": "circle"
         },
         "mode": "lines",
         "name": "SHOP",
         "orientation": "v",
         "showlegend": true,
         "type": "scatter",
         "x": [
          "2025-06-02T00:00:00",
          "2025-06-03T00:00:00",
          "2025-06-04T00:00:00",
          "2025-06-05T00:00:00",
          "2025-06-06T00:00:00",
          "2025-06-09T00:00:00",
          "2025-06-10T00:00:00",
          "2025-06-11T00:00:00",
          "2025-06-12T00:00:00",
          "2025-06-13T00:00:00",
          "2025-06-16T00:00:00",
          "2025-06-17T00:00:00",
          "2025-06-18T00:00:00",
          "2025-06-19T00:00:00",
          "2025-06-20T00:00:00",
          "2025-06-23T00:00:00",
          "2025-06-24T00:00:00",
          "2025-06-25T00:00:00",
          "2025-06-26T00:00:00",
          "2025-06-27T00:00:00",
          "2025-06-30T00:00:00",
          "2025-07-01T00:00:00",
          "2025-07-02T00:00:00",
          "2025-07-03T00:00:00",
          "2025-07-07T00:00:00",
          "2025-07-08T00:00:00",
          "2025-07-09T00:00:00",
          "2025-07-10T00:00:00",
          "2025-07-11T00:00:00",
          "2025-07-14T00:00:00",
          "2025-07-15T00:00:00",
          "2025-07-16T00:00:00",
          "2025-07-17T00:00:00",
          "2025-07-18T00:00:00"
         ],
         "xaxis": "x",
         "y": [
          98,
          100,
          104,
          104,
          95,
          103,
          97,
          91,
          98,
          106,
          101,
          103,
          103,
          103,
          103,
          97,
          95,
          96,
          97,
          95,
          96,
          98,
          97,
          95,
          94,
          98,
          96,
          95,
          100,
          94,
          95,
          88,
          83,
          83
         ],
         "yaxis": "y"
        },
        {
         "hovertemplate": "Ticker=COIN<br>index=%{x}<br>Rank=%{y}<extra></extra>",
         "legendgroup": "COIN",
         "line": {
          "color": "#FF6692",
          "dash": "solid"
         },
         "marker": {
          "symbol": "circle"
         },
         "mode": "lines",
         "name": "COIN",
         "orientation": "v",
         "showlegend": true,
         "type": "scatter",
         "x": [
          "2025-06-02T00:00:00",
          "2025-06-03T00:00:00",
          "2025-06-04T00:00:00",
          "2025-06-05T00:00:00",
          "2025-06-06T00:00:00",
          "2025-06-09T00:00:00",
          "2025-06-10T00:00:00",
          "2025-06-11T00:00:00",
          "2025-06-12T00:00:00",
          "2025-06-13T00:00:00",
          "2025-06-16T00:00:00",
          "2025-06-17T00:00:00",
          "2025-06-18T00:00:00",
          "2025-06-19T00:00:00",
          "2025-06-20T00:00:00",
          "2025-06-23T00:00:00",
          "2025-06-24T00:00:00",
          "2025-06-25T00:00:00",
          "2025-06-26T00:00:00",
          "2025-06-27T00:00:00",
          "2025-06-30T00:00:00",
          "2025-07-01T00:00:00",
          "2025-07-02T00:00:00",
          "2025-07-03T00:00:00",
          "2025-07-07T00:00:00",
          "2025-07-08T00:00:00",
          "2025-07-09T00:00:00",
          "2025-07-10T00:00:00",
          "2025-07-11T00:00:00",
          "2025-07-14T00:00:00",
          "2025-07-15T00:00:00",
          "2025-07-16T00:00:00",
          "2025-07-17T00:00:00",
          "2025-07-18T00:00:00"
         ],
         "xaxis": "x",
         "y": [
          256,
          247,
          248,
          261,
          255,
          249,
          249,
          255,
          271,
          264,
          248,
          251,
          214,
          214,
          200,
          203,
          181,
          170,
          162,
          175,
          178,
          190,
          174,
          177,
          174,
          175,
          167,
          157,
          157,
          156,
          157,
          153,
          146,
          145
         ],
         "yaxis": "y"
        },
        {
         "hovertemplate": "Ticker=VGT<br>index=%{x}<br>Rank=%{y}<extra></extra>",
         "legendgroup": "VGT",
         "line": {
          "color": "#1F77B4",
          "dash": "solid"
         },
         "marker": {
          "symbol": "circle"
         },
         "mode": "lines",
         "name": "VGT",
         "orientation": "v",
         "showlegend": true,
         "type": "scatter",
         "x": [
          "2025-06-02T00:00:00",
          "2025-06-03T00:00:00",
          "2025-06-04T00:00:00",
          "2025-06-05T00:00:00",
          "2025-06-06T00:00:00",
          "2025-06-09T00:00:00",
          "2025-06-10T00:00:00",
          "2025-06-11T00:00:00",
          "2025-06-12T00:00:00",
          "2025-06-13T00:00:00",
          "2025-06-16T00:00:00",
          "2025-06-17T00:00:00",
          "2025-06-18T00:00:00",
          "2025-06-19T00:00:00",
          "2025-06-20T00:00:00",
          "2025-06-23T00:00:00",
          "2025-06-24T00:00:00",
          "2025-06-25T00:00:00",
          "2025-06-26T00:00:00",
          "2025-06-27T00:00:00",
          "2025-06-30T00:00:00",
          "2025-07-01T00:00:00",
          "2025-07-02T00:00:00",
          "2025-07-03T00:00:00",
          "2025-07-07T00:00:00",
          "2025-07-08T00:00:00",
          "2025-07-09T00:00:00",
          "2025-07-10T00:00:00",
          "2025-07-11T00:00:00",
          "2025-07-14T00:00:00",
          "2025-07-15T00:00:00",
          "2025-07-16T00:00:00",
          "2025-07-17T00:00:00",
          "2025-07-18T00:00:00"
         ],
         "xaxis": "x",
         "y": [
          184,
          181,
          178,
          178,
          182,
          178,
          175,
          175,
          178,
          171,
          178,
          171,
          174,
          174,
          172,
          174,
          175,
          169,
          169,
          168,
          168,
          168,
          168,
          168,
          166,
          166,
          166,
          166,
          166,
          168,
          165,
          163,
          164,
          162
         ],
         "yaxis": "y"
        },
        {
         "hovertemplate": "Ticker=AVAV<br>index=%{x}<br>Rank=%{y}<extra></extra>",
         "legendgroup": "AVAV",
         "line": {
          "color": "#FF97FF",
          "dash": "solid"
         },
         "marker": {
          "symbol": "circle"
         },
         "mode": "lines",
         "name": "AVAV",
         "orientation": "v",
         "showlegend": true,
         "type": "scatter",
         "x": [
          "2025-06-02T00:00:00",
          "2025-06-03T00:00:00",
          "2025-06-04T00:00:00",
          "2025-06-05T00:00:00",
          "2025-06-06T00:00:00",
          "2025-06-09T00:00:00",
          "2025-06-10T00:00:00",
          "2025-06-11T00:00:00",
          "2025-06-12T00:00:00",
          "2025-06-13T00:00:00",
          "2025-06-16T00:00:00",
          "2025-06-17T00:00:00",
          "2025-06-18T00:00:00",
          "2025-06-19T00:00:00",
          "2025-06-20T00:00:00",
          "2025-06-23T00:00:00",
          "2025-06-24T00:00:00",
          "2025-06-25T00:00:00",
          "2025-06-26T00:00:00",
          "2025-06-27T00:00:00",
          "2025-06-30T00:00:00",
          "2025-07-01T00:00:00",
          "2025-07-02T00:00:00",
          "2025-07-03T00:00:00",
          "2025-07-07T00:00:00",
          "2025-07-08T00:00:00",
          "2025-07-09T00:00:00",
          "2025-07-10T00:00:00",
          "2025-07-11T00:00:00",
          "2025-07-14T00:00:00",
          "2025-07-15T00:00:00",
          "2025-07-16T00:00:00",
          "2025-07-17T00:00:00",
          "2025-07-18T00:00:00"
         ],
         "xaxis": "x",
         "y": [
          1173,
          1144,
          1156,
          1147,
          1136,
          1121,
          1147,
          1150,
          1145,
          1118,
          1160,
          1144,
          1141,
          1143,
          1145,
          1143,
          1149,
          1013,
          922,
          910,
          902,
          982,
          998,
          1002,
          1015,
          975,
          976,
          973,
          905,
          901,
          894,
          891,
          876,
          888
         ],
         "yaxis": "y"
        },
        {
         "hovertemplate": "Ticker=META<br>index=%{x}<br>Rank=%{y}<extra></extra>",
         "legendgroup": "META",
         "line": {
          "color": "#FECB52",
          "dash": "solid"
         },
         "marker": {
          "symbol": "circle"
         },
         "mode": "lines",
         "name": "META",
         "orientation": "v",
         "showlegend": true,
         "type": "scatter",
         "x": [
          "2025-06-02T00:00:00",
          "2025-06-03T00:00:00",
          "2025-06-04T00:00:00",
          "2025-06-05T00:00:00",
          "2025-06-06T00:00:00",
          "2025-06-09T00:00:00",
          "2025-06-10T00:00:00",
          "2025-06-11T00:00:00",
          "2025-06-12T00:00:00",
          "2025-06-13T00:00:00",
          "2025-06-16T00:00:00",
          "2025-06-17T00:00:00",
          "2025-06-18T00:00:00",
          "2025-06-19T00:00:00",
          "2025-06-20T00:00:00",
          "2025-06-23T00:00:00",
          "2025-06-24T00:00:00",
          "2025-06-25T00:00:00",
          "2025-06-26T00:00:00",
          "2025-06-27T00:00:00",
          "2025-06-30T00:00:00",
          "2025-07-01T00:00:00",
          "2025-07-02T00:00:00",
          "2025-07-03T00:00:00",
          "2025-07-07T00:00:00",
          "2025-07-08T00:00:00",
          "2025-07-09T00:00:00",
          "2025-07-10T00:00:00",
          "2025-07-11T00:00:00",
          "2025-07-14T00:00:00",
          "2025-07-15T00:00:00",
          "2025-07-16T00:00:00",
          "2025-07-17T00:00:00",
          "2025-07-18T00:00:00"
         ],
         "xaxis": "x",
         "y": [
          7,
          7,
          7,
          7,
          7,
          7,
          7,
          7,
          7,
          7,
          7,
          7,
          7,
          7,
          7,
          7,
          7,
          7,
          7,
          7,
          7,
          7,
          7,
          7,
          7,
          7,
          7,
          7,
          7,
          7,
          7,
          7,
          7,
          7
         ],
         "yaxis": "y"
        },
        {
         "hovertemplate": "Ticker=NVDA<br>index=%{x}<br>Rank=%{y}<extra></extra>",
         "legendgroup": "NVDA",
         "line": {
          "color": "#636EFA",
          "dash": "solid"
         },
         "marker": {
          "symbol": "circle"
         },
         "mode": "lines",
         "name": "NVDA",
         "orientation": "v",
         "showlegend": true,
         "type": "scatter",
         "x": [
          "2025-06-02T00:00:00",
          "2025-06-03T00:00:00",
          "2025-06-04T00:00:00",
          "2025-06-05T00:00:00",
          "2025-06-06T00:00:00",
          "2025-06-09T00:00:00",
          "2025-06-10T00:00:00",
          "2025-06-11T00:00:00",
          "2025-06-12T00:00:00",
          "2025-06-13T00:00:00",
          "2025-06-16T00:00:00",
          "2025-06-17T00:00:00",
          "2025-06-18T00:00:00",
          "2025-06-19T00:00:00",
          "2025-06-20T00:00:00",
          "2025-06-23T00:00:00",
          "2025-06-24T00:00:00",
          "2025-06-25T00:00:00",
          "2025-06-26T00:00:00",
          "2025-06-27T00:00:00",
          "2025-06-30T00:00:00",
          "2025-07-01T00:00:00",
          "2025-07-02T00:00:00",
          "2025-07-03T00:00:00",
          "2025-07-07T00:00:00",
          "2025-07-08T00:00:00",
          "2025-07-09T00:00:00",
          "2025-07-10T00:00:00",
          "2025-07-11T00:00:00",
          "2025-07-14T00:00:00",
          "2025-07-15T00:00:00",
          "2025-07-16T00:00:00",
          "2025-07-17T00:00:00",
          "2025-07-18T00:00:00"
         ],
         "xaxis": "x",
         "y": [
          2,
          1,
          1,
          2,
          2,
          2,
          1,
          2,
          2,
          2,
          2,
          2,
          2,
          2,
          2,
          2,
          2,
          1,
          1,
          1,
          1,
          1,
          1,
          1,
          1,
          1,
          1,
          1,
          1,
          1,
          1,
          1,
          1,
          1
         ],
         "yaxis": "y"
        }
       ],
       "layout": {
        "annotations": [
         {
          "showarrow": false,
          "text": "Recent",
          "x": "2025-07-15T00:00:00",
          "xanchor": "left",
          "xref": "x",
          "y": 1,
          "yanchor": "top",
          "yref": "y domain"
         },
         {
          "showarrow": false,
          "text": "Lookback",
          "x": "2025-06-16T00:00:00",
          "xanchor": "left",
          "xref": "x",
          "y": 1,
          "yanchor": "top",
          "yref": "y domain"
         },
         {
          "align": "left",
          "font": {
           "family": "Courier New, monospace",
           "size": 14
          },
          "showarrow": false,
          "text": "<b>Filter Criteria:</b><br>  • lookback_days: 20                   • recent_days: 4                      • min_lookback_improvement: 0       <br>  • min_recent_bottom_to_recent_start: 0  • min_recent_bottom_to_current: 2     • current_rank_bracket_start: 1     <br>  • current_rank_bracket_end: 1000    ",
          "x": 0,
          "xanchor": "left",
          "xref": "paper",
          "y": -0.25,
          "yanchor": "top",
          "yref": "paper"
         }
        ],
        "height": 700,
        "legend": {
         "title": {
          "text": "Ticker"
         },
         "tracegroupgap": 0
        },
        "margin": {
         "b": 198.8
        },
        "shapes": [
         {
          "fillcolor": "LightSkyBlue",
          "layer": "below",
          "line": {
           "width": 0
          },
          "opacity": 0.2,
          "type": "rect",
          "x0": "2025-07-15T00:00:00",
          "x1": "2025-07-18T00:00:00",
          "xref": "x",
          "y0": 0,
          "y1": 1,
          "yref": "y domain"
         },
         {
          "fillcolor": "LightGreen",
          "layer": "below",
          "line": {
           "width": 0
          },
          "opacity": 0.2,
          "type": "rect",
          "x0": "2025-06-16T00:00:00",
          "x1": "2025-07-14T00:00:00",
          "xref": "x",
          "y0": 0,
          "y1": 1,
          "yref": "y domain"
         },
         {
          "line": {
           "color": "grey",
           "dash": "dash",
           "width": 2
          },
          "type": "line",
          "x0": "2025-07-15T00:00:00",
          "x1": "2025-07-15T00:00:00",
          "xref": "x",
          "y0": 0,
          "y1": 1,
          "yref": "y domain"
         },
         {
          "line": {
           "color": "red",
           "width": 2
          },
          "type": "line",
          "x0": 0,
          "x1": 1,
          "xref": "paper",
          "y0": 1,
          "y1": 1,
          "yref": "paper"
         },
         {
          "line": {
           "color": "blue",
           "width": 2
          },
          "type": "line",
          "x0": 0,
          "x1": 1,
          "xref": "paper",
          "y0": 0,
          "y1": 0,
          "yref": "paper"
         }
        ],
        "template": {
         "data": {
          "bar": [
           {
            "error_x": {
             "color": "#2a3f5f"
            },
            "error_y": {
             "color": "#2a3f5f"
            },
            "marker": {
             "line": {
              "color": "#E5ECF6",
              "width": 0.5
             },
             "pattern": {
              "fillmode": "overlay",
              "size": 10,
              "solidity": 0.2
             }
            },
            "type": "bar"
           }
          ],
          "barpolar": [
           {
            "marker": {
             "line": {
              "color": "#E5ECF6",
              "width": 0.5
             },
             "pattern": {
              "fillmode": "overlay",
              "size": 10,
              "solidity": 0.2
             }
            },
            "type": "barpolar"
           }
          ],
          "carpet": [
           {
            "aaxis": {
             "endlinecolor": "#2a3f5f",
             "gridcolor": "white",
             "linecolor": "white",
             "minorgridcolor": "white",
             "startlinecolor": "#2a3f5f"
            },
            "baxis": {
             "endlinecolor": "#2a3f5f",
             "gridcolor": "white",
             "linecolor": "white",
             "minorgridcolor": "white",
             "startlinecolor": "#2a3f5f"
            },
            "type": "carpet"
           }
          ],
          "choropleth": [
           {
            "colorbar": {
             "outlinewidth": 0,
             "ticks": ""
            },
            "type": "choropleth"
           }
          ],
          "contour": [
           {
            "colorbar": {
             "outlinewidth": 0,
             "ticks": ""
            },
            "colorscale": [
             [
              0,
              "#0d0887"
             ],
             [
              0.1111111111111111,
              "#46039f"
             ],
             [
              0.2222222222222222,
              "#7201a8"
             ],
             [
              0.3333333333333333,
              "#9c179e"
             ],
             [
              0.4444444444444444,
              "#bd3786"
             ],
             [
              0.5555555555555556,
              "#d8576b"
             ],
             [
              0.6666666666666666,
              "#ed7953"
             ],
             [
              0.7777777777777778,
              "#fb9f3a"
             ],
             [
              0.8888888888888888,
              "#fdca26"
             ],
             [
              1,
              "#f0f921"
             ]
            ],
            "type": "contour"
           }
          ],
          "contourcarpet": [
           {
            "colorbar": {
             "outlinewidth": 0,
             "ticks": ""
            },
            "type": "contourcarpet"
           }
          ],
          "heatmap": [
           {
            "colorbar": {
             "outlinewidth": 0,
             "ticks": ""
            },
            "colorscale": [
             [
              0,
              "#0d0887"
             ],
             [
              0.1111111111111111,
              "#46039f"
             ],
             [
              0.2222222222222222,
              "#7201a8"
             ],
             [
              0.3333333333333333,
              "#9c179e"
             ],
             [
              0.4444444444444444,
              "#bd3786"
             ],
             [
              0.5555555555555556,
              "#d8576b"
             ],
             [
              0.6666666666666666,
              "#ed7953"
             ],
             [
              0.7777777777777778,
              "#fb9f3a"
             ],
             [
              0.8888888888888888,
              "#fdca26"
             ],
             [
              1,
              "#f0f921"
             ]
            ],
            "type": "heatmap"
           }
          ],
          "heatmapgl": [
           {
            "colorbar": {
             "outlinewidth": 0,
             "ticks": ""
            },
            "colorscale": [
             [
              0,
              "#0d0887"
             ],
             [
              0.1111111111111111,
              "#46039f"
             ],
             [
              0.2222222222222222,
              "#7201a8"
             ],
             [
              0.3333333333333333,
              "#9c179e"
             ],
             [
              0.4444444444444444,
              "#bd3786"
             ],
             [
              0.5555555555555556,
              "#d8576b"
             ],
             [
              0.6666666666666666,
              "#ed7953"
             ],
             [
              0.7777777777777778,
              "#fb9f3a"
             ],
             [
              0.8888888888888888,
              "#fdca26"
             ],
             [
              1,
              "#f0f921"
             ]
            ],
            "type": "heatmapgl"
           }
          ],
          "histogram": [
           {
            "marker": {
             "pattern": {
              "fillmode": "overlay",
              "size": 10,
              "solidity": 0.2
             }
            },
            "type": "histogram"
           }
          ],
          "histogram2d": [
           {
            "colorbar": {
             "outlinewidth": 0,
             "ticks": ""
            },
            "colorscale": [
             [
              0,
              "#0d0887"
             ],
             [
              0.1111111111111111,
              "#46039f"
             ],
             [
              0.2222222222222222,
              "#7201a8"
             ],
             [
              0.3333333333333333,
              "#9c179e"
             ],
             [
              0.4444444444444444,
              "#bd3786"
             ],
             [
              0.5555555555555556,
              "#d8576b"
             ],
             [
              0.6666666666666666,
              "#ed7953"
             ],
             [
              0.7777777777777778,
              "#fb9f3a"
             ],
             [
              0.8888888888888888,
              "#fdca26"
             ],
             [
              1,
              "#f0f921"
             ]
            ],
            "type": "histogram2d"
           }
          ],
          "histogram2dcontour": [
           {
            "colorbar": {
             "outlinewidth": 0,
             "ticks": ""
            },
            "colorscale": [
             [
              0,
              "#0d0887"
             ],
             [
              0.1111111111111111,
              "#46039f"
             ],
             [
              0.2222222222222222,
              "#7201a8"
             ],
             [
              0.3333333333333333,
              "#9c179e"
             ],
             [
              0.4444444444444444,
              "#bd3786"
             ],
             [
              0.5555555555555556,
              "#d8576b"
             ],
             [
              0.6666666666666666,
              "#ed7953"
             ],
             [
              0.7777777777777778,
              "#fb9f3a"
             ],
             [
              0.8888888888888888,
              "#fdca26"
             ],
             [
              1,
              "#f0f921"
             ]
            ],
            "type": "histogram2dcontour"
           }
          ],
          "mesh3d": [
           {
            "colorbar": {
             "outlinewidth": 0,
             "ticks": ""
            },
            "type": "mesh3d"
           }
          ],
          "parcoords": [
           {
            "line": {
             "colorbar": {
              "outlinewidth": 0,
              "ticks": ""
             }
            },
            "type": "parcoords"
           }
          ],
          "pie": [
           {
            "automargin": true,
            "type": "pie"
           }
          ],
          "scatter": [
           {
            "fillpattern": {
             "fillmode": "overlay",
             "size": 10,
             "solidity": 0.2
            },
            "type": "scatter"
           }
          ],
          "scatter3d": [
           {
            "line": {
             "colorbar": {
              "outlinewidth": 0,
              "ticks": ""
             }
            },
            "marker": {
             "colorbar": {
              "outlinewidth": 0,
              "ticks": ""
             }
            },
            "type": "scatter3d"
           }
          ],
          "scattercarpet": [
           {
            "marker": {
             "colorbar": {
              "outlinewidth": 0,
              "ticks": ""
             }
            },
            "type": "scattercarpet"
           }
          ],
          "scattergeo": [
           {
            "marker": {
             "colorbar": {
              "outlinewidth": 0,
              "ticks": ""
             }
            },
            "type": "scattergeo"
           }
          ],
          "scattergl": [
           {
            "marker": {
             "colorbar": {
              "outlinewidth": 0,
              "ticks": ""
             }
            },
            "type": "scattergl"
           }
          ],
          "scattermapbox": [
           {
            "marker": {
             "colorbar": {
              "outlinewidth": 0,
              "ticks": ""
             }
            },
            "type": "scattermapbox"
           }
          ],
          "scatterpolar": [
           {
            "marker": {
             "colorbar": {
              "outlinewidth": 0,
              "ticks": ""
             }
            },
            "type": "scatterpolar"
           }
          ],
          "scatterpolargl": [
           {
            "marker": {
             "colorbar": {
              "outlinewidth": 0,
              "ticks": ""
             }
            },
            "type": "scatterpolargl"
           }
          ],
          "scatterternary": [
           {
            "marker": {
             "colorbar": {
              "outlinewidth": 0,
              "ticks": ""
             }
            },
            "type": "scatterternary"
           }
          ],
          "surface": [
           {
            "colorbar": {
             "outlinewidth": 0,
             "ticks": ""
            },
            "colorscale": [
             [
              0,
              "#0d0887"
             ],
             [
              0.1111111111111111,
              "#46039f"
             ],
             [
              0.2222222222222222,
              "#7201a8"
             ],
             [
              0.3333333333333333,
              "#9c179e"
             ],
             [
              0.4444444444444444,
              "#bd3786"
             ],
             [
              0.5555555555555556,
              "#d8576b"
             ],
             [
              0.6666666666666666,
              "#ed7953"
             ],
             [
              0.7777777777777778,
              "#fb9f3a"
             ],
             [
              0.8888888888888888,
              "#fdca26"
             ],
             [
              1,
              "#f0f921"
             ]
            ],
            "type": "surface"
           }
          ],
          "table": [
           {
            "cells": {
             "fill": {
              "color": "#EBF0F8"
             },
             "line": {
              "color": "white"
             }
            },
            "header": {
             "fill": {
              "color": "#C8D4E3"
             },
             "line": {
              "color": "white"
             }
            },
            "type": "table"
           }
          ]
         },
         "layout": {
          "annotationdefaults": {
           "arrowcolor": "#2a3f5f",
           "arrowhead": 0,
           "arrowwidth": 1
          },
          "autotypenumbers": "strict",
          "coloraxis": {
           "colorbar": {
            "outlinewidth": 0,
            "ticks": ""
           }
          },
          "colorscale": {
           "diverging": [
            [
             0,
             "#8e0152"
            ],
            [
             0.1,
             "#c51b7d"
            ],
            [
             0.2,
             "#de77ae"
            ],
            [
             0.3,
             "#f1b6da"
            ],
            [
             0.4,
             "#fde0ef"
            ],
            [
             0.5,
             "#f7f7f7"
            ],
            [
             0.6,
             "#e6f5d0"
            ],
            [
             0.7,
             "#b8e186"
            ],
            [
             0.8,
             "#7fbc41"
            ],
            [
             0.9,
             "#4d9221"
            ],
            [
             1,
             "#276419"
            ]
           ],
           "sequential": [
            [
             0,
             "#0d0887"
            ],
            [
             0.1111111111111111,
             "#46039f"
            ],
            [
             0.2222222222222222,
             "#7201a8"
            ],
            [
             0.3333333333333333,
             "#9c179e"
            ],
            [
             0.4444444444444444,
             "#bd3786"
            ],
            [
             0.5555555555555556,
             "#d8576b"
            ],
            [
             0.6666666666666666,
             "#ed7953"
            ],
            [
             0.7777777777777778,
             "#fb9f3a"
            ],
            [
             0.8888888888888888,
             "#fdca26"
            ],
            [
             1,
             "#f0f921"
            ]
           ],
           "sequentialminus": [
            [
             0,
             "#0d0887"
            ],
            [
             0.1111111111111111,
             "#46039f"
            ],
            [
             0.2222222222222222,
             "#7201a8"
            ],
            [
             0.3333333333333333,
             "#9c179e"
            ],
            [
             0.4444444444444444,
             "#bd3786"
            ],
            [
             0.5555555555555556,
             "#d8576b"
            ],
            [
             0.6666666666666666,
             "#ed7953"
            ],
            [
             0.7777777777777778,
             "#fb9f3a"
            ],
            [
             0.8888888888888888,
             "#fdca26"
            ],
            [
             1,
             "#f0f921"
            ]
           ]
          },
          "colorway": [
           "#636efa",
           "#EF553B",
           "#00cc96",
           "#ab63fa",
           "#FFA15A",
           "#19d3f3",
           "#FF6692",
           "#B6E880",
           "#FF97FF",
           "#FECB52"
          ],
          "font": {
           "color": "#2a3f5f"
          },
          "geo": {
           "bgcolor": "white",
           "lakecolor": "white",
           "landcolor": "#E5ECF6",
           "showlakes": true,
           "showland": true,
           "subunitcolor": "white"
          },
          "hoverlabel": {
           "align": "left"
          },
          "hovermode": "closest",
          "mapbox": {
           "style": "light"
          },
          "paper_bgcolor": "white",
          "plot_bgcolor": "#E5ECF6",
          "polar": {
           "angularaxis": {
            "gridcolor": "white",
            "linecolor": "white",
            "ticks": ""
           },
           "bgcolor": "#E5ECF6",
           "radialaxis": {
            "gridcolor": "white",
            "linecolor": "white",
            "ticks": ""
           }
          },
          "scene": {
           "xaxis": {
            "backgroundcolor": "#E5ECF6",
            "gridcolor": "white",
            "gridwidth": 2,
            "linecolor": "white",
            "showbackground": true,
            "ticks": "",
            "zerolinecolor": "white"
           },
           "yaxis": {
            "backgroundcolor": "#E5ECF6",
            "gridcolor": "white",
            "gridwidth": 2,
            "linecolor": "white",
            "showbackground": true,
            "ticks": "",
            "zerolinecolor": "white"
           },
           "zaxis": {
            "backgroundcolor": "#E5ECF6",
            "gridcolor": "white",
            "gridwidth": 2,
            "linecolor": "white",
            "showbackground": true,
            "ticks": "",
            "zerolinecolor": "white"
           }
          },
          "shapedefaults": {
           "line": {
            "color": "#2a3f5f"
           }
          },
          "ternary": {
           "aaxis": {
            "gridcolor": "white",
            "linecolor": "white",
            "ticks": ""
           },
           "baxis": {
            "gridcolor": "white",
            "linecolor": "white",
            "ticks": ""
           },
           "bgcolor": "#E5ECF6",
           "caxis": {
            "gridcolor": "white",
            "linecolor": "white",
            "ticks": ""
           }
          },
          "title": {
           "x": 0.05
          },
          "xaxis": {
           "automargin": true,
           "gridcolor": "white",
           "linecolor": "white",
           "ticks": "",
           "title": {
            "standoff": 15
           },
           "zerolinecolor": "white",
           "zerolinewidth": 2
          },
          "yaxis": {
           "automargin": true,
           "gridcolor": "white",
           "linecolor": "white",
           "ticks": "",
           "title": {
            "standoff": 15
           },
           "zerolinecolor": "white",
           "zerolinewidth": 2
          }
         }
        },
        "title": {
         "text": "Rank History: 'Reversal' Candidates"
        },
        "updatemenus": [
         {
          "buttons": [
           {
            "args": [
             {
              "visible": [
               true,
               true,
               true,
               true,
               true,
               true,
               true,
               true,
               true,
               true,
               true
              ]
             }
            ],
            "label": "Reset View",
            "method": "restyle"
           },
           {
            "args": [
             {
              "visible": [
               "legendonly",
               "legendonly",
               "legendonly",
               "legendonly",
               "legendonly",
               "legendonly",
               "legendonly",
               "legendonly",
               "legendonly",
               "legendonly",
               "legendonly"
              ]
             }
            ],
            "label": "Clear All",
            "method": "restyle"
           }
          ],
          "direction": "left",
          "showactive": false,
          "type": "buttons",
          "x": 0.01,
          "xanchor": "left",
          "y": 1.1,
          "yanchor": "top"
         }
        ],
        "width": 1150,
        "xaxis": {
         "anchor": "y",
         "domain": [
          0,
          1
         ],
         "dtick": "D7",
         "gridcolor": "LightGrey",
         "minor": {
          "dtick": "D1",
          "gridcolor": "rgba(235, 235, 235, 0.5)",
          "showgrid": true
         },
         "range": [
          "2025-06-02T00:00:00",
          "2025-07-18T00:00:00"
         ],
         "showgrid": true,
         "tickformat": "%b %d",
         "title": {
          "standoff": 25,
          "text": "Date"
         },
         "type": "date"
        },
        "yaxis": {
         "anchor": "x",
         "autorange": "reversed",
         "domain": [
          0,
          1
         ],
         "dtick": 100,
         "gridcolor": "LightGrey",
         "showgrid": true,
         "title": {
          "text": "Rank"
         }
        }
       }
      }
     },
     "metadata": {},
     "output_type": "display_data"
    }
   ],
   "source": [
    "# 4. Call the new plotting function\n",
    "if portfolio_tickers:\n",
    "    plot_rank_with_criteria(\n",
    "        df_rank_history=df_tickers_rank_history.iloc[:, -plot_days::],\n",
    "        # df_rank_history=selected_df,\n",
    "        ticker_list=portfolio_tickers,\n",
    "        title_suffix=\"'Reversal' Candidates\",\n",
    "        filter_criteria=filter_criteria, # Pass the dictionary here\n",
    "        width=1150,\n",
    "        height=700,\n",
    "    )\n",
    "else:\n",
    "    print(\"No candidates found to plot.\")"
   ]
  },
  {
   "cell_type": "code",
   "execution_count": 37,
   "metadata": {},
   "outputs": [],
   "source": [
    "metrics_column_order = ['ticker',\n",
    "                        'lookback_slope',\n",
    "                        'current_to_total_peak',                \n",
    "                        'current',\n",
    "                        'recent_start',\n",
    "                        'best_recent',\n",
    "                        'worst_recent',                \n",
    "                        'lookback_end',                \n",
    "                        'lookback_start',\n",
    "                        'best_lookback',\n",
    "                        'worst_lookback',\n",
    "                        'best_total',\n",
    "                        'worst_total',\n",
    "                        'current_to_recent_start',\n",
    "                        'recent_bottom_to_recent_start',\n",
    "                        'recent_bottom_to_current']"
   ]
  },
  {
   "cell_type": "code",
   "execution_count": 38,
   "metadata": {},
   "outputs": [
    {
     "name": "stdout",
     "output_type": "stream",
     "text": [
      "metrics_df.head(200):\n",
      "    ticker  lookback_slope  current_to_total_peak  current  recent_start  best_recent  worst_recent  lookback_end  lookback_start  best_lookback  worst_lookback  best_total  worst_total  current_to_recent_start  recent_bottom_to_recent_start  recent_bottom_to_current\n",
      "0     NVDA           -0.07                      0        1             1            1             1             1               2              1               2           1            2                        0                              0                         0\n",
      "1     MSFT            0.07                      1        2             2            2             2             2               1              1               2           1            2                        0                              0                         0\n",
      "2     AAPL           -0.00                      0        3             3            3             3             3               3              3               3           3            3                        0                              0                         0\n",
      "3     AMZN           -0.00                      0        4             4            4             4             4               4              4               4           4            4                        0                              0                         0\n",
      "4    GOOGL            0.02                      0        5             5            5             6             6               5              5               6           5            6                        0                              1                         1\n",
      "..     ...             ...                    ...      ...           ...          ...           ...           ...             ...            ...             ...         ...          ...                      ...                            ...                       ...\n",
      "195    UPS            0.08                     17      197           196          194           197           194             186            180             194         180          197                        1                              1                         0\n",
      "196     BP            0.18                      4      198           199          198           199           197             196            194             212         194          212                       -1                              0                         1\n",
      "197    XLK           -0.60                      0      199           204          199           204           205             216            202             216         199          216                       -5                              0                         5\n",
      "198    MMM           -0.55                      8      200           197          192           200           192             200            192             209         192          209                        3                              3                         0\n",
      "199    BMO           -0.46                      4      201           201          200           201           201             205            197             210         197          210                        0                              0                         0\n",
      "\n",
      "[200 rows x 16 columns]\n"
     ]
    }
   ],
   "source": [
    "# 1. Convert to a DataFrame for further analysis:\n",
    "metrics_df = pd.DataFrame(all_metrics_data)\n",
    "metrics_df = metrics_df[metrics_column_order]\n",
    "print(f'metrics_df.head(200):\\n{metrics_df.head(200)}')"
   ]
  },
  {
   "cell_type": "code",
   "execution_count": 39,
   "metadata": {},
   "outputs": [
    {
     "name": "stdout",
     "output_type": "stream",
     "text": [
      "sorted_metrics_df:\n",
      "     ticker  lookback_slope  current_to_total_peak  current  recent_start  best_recent  worst_recent  lookback_end  lookback_start  best_lookback  worst_lookback  best_total  worst_total  current_to_recent_start  recent_bottom_to_recent_start  recent_bottom_to_current\n",
      "872    AVAV          -13.25                     12      888           894          876           894           901            1160            901            1160         876         1160                       -6                              0                         6\n",
      "845    JOBY          -12.77                      0      860          1005          860          1005          1072            1288           1072            1333         860         1333                     -145                              0                       145\n",
      "565    RKLB          -11.48                      0      575           638          575           638           667             923            667             923         575          923                      -63                              0                        63\n",
      "465     SYM          -10.53                      0      471           500          471           500           514             686            512             700         471          700                      -29                              0                        29\n",
      "1177   SATS           -9.71                    110     1222          1180         1180          1222          1180            1278           1112            1297        1112         1297                       42                             42                         0\n",
      "...     ...             ...                    ...      ...           ...          ...           ...           ...             ...            ...             ...         ...          ...                      ...                            ...                       ...\n",
      "1305    CRK           15.14                    250     1367          1357         1353          1367          1338            1227           1117            1412        1117         1412                       10                             10                         0\n",
      "508    IBKR           17.14                    342      515           544          515           549           550             175            173             612         173          612                      -29                              5                        34\n",
      "850     CNC           19.01                    352      866           822          816           866           816             524            514             816         514          866                       44                             44                         0\n",
      "1229  LLYVK           60.19                    829     1283          1280         1280          1283          1275             466            454            1312         454         1312                        3                              3                         0\n",
      "1247  LLYVA           61.37                    850     1302          1293         1293          1302          1285             468            452            1331         452         1331                        9                              9                         0\n",
      "\n",
      "[1456 rows x 16 columns]\n"
     ]
    }
   ],
   "source": [
    "sort_order_dict = {'lookback_slope': True,  # negative slope (i.e. small) is better\n",
    "                   'current_to_total_peak': True,  # small is better, best is 0                   \n",
    "                   'recent_bottom_to_current': False,}  # sort large to small, large means big dip before recovered to current level \n",
    "\n",
    "# keys in the exact order they appear in the dict\n",
    "sort_keys = list(sort_order_dict.keys())\n",
    "sort_values = list(sort_order_dict.values())\n",
    "sorted_metrics_df = metrics_df.sort_values(by=sort_keys, ascending=sort_values)\n",
    "\n",
    "print(f'sorted_metrics_df:\\n{sorted_metrics_df}')"
   ]
  },
  {
   "cell_type": "code",
   "execution_count": 40,
   "metadata": {},
   "outputs": [
    {
     "name": "stdout",
     "output_type": "stream",
     "text": [
      "portfolio_metrics: \n",
      "    ticker  lookback_slope  current_to_total_peak  current  recent_start  best_recent  worst_recent  lookback_end  lookback_start  best_lookback  worst_lookback  best_total  worst_total  current_to_recent_start  recent_bottom_to_recent_start  recent_bottom_to_current\n",
      "0     NVDA           -0.07                      0        1             1            1             1             1               2              1               2           1            2                        0                              0                         0\n",
      "6     META           -0.00                      0        7             7            7             7             7               7              7               7           7            7                        0                              0                         0\n",
      "16    ORCL           -0.07                      1       17            18           16            18            18              19             18              20          16           20                       -1                              0                         1\n",
      "82    SHOP           -0.35                      0       83            95           83            95            94             101             94             103          83          103                      -12                              0                        12\n",
      "133   MSTR           -0.76                     12      135           126          123           135           124             143            124             150         123          150                        9                              9                         0\n",
      "143   COIN           -3.96                      0      145           157          145           157           156             248            156             251         145          251                      -12                              0                        12\n",
      "160    VGT           -0.52                      0      162           165          162           165           168             178            166             178         162          178                       -3                              0                         3\n",
      "465    SYM          -10.53                      0      471           500          471           500           514             686            512             700         471          700                      -29                              0                        29\n",
      "565   RKLB          -11.48                      0      575           638          575           638           667             923            667             923         575          923                      -63                              0                        63\n",
      "845   JOBY          -12.77                      0      860          1005          860          1005          1072            1288           1072            1333         860         1333                     -145                              0                       145\n",
      "872   AVAV          -13.25                     12      888           894          876           894           901            1160            901            1160         876         1160                       -6                              0                         6\n"
     ]
    }
   ],
   "source": [
    "# Filter metrics_df to keep only rows whose 'ticker' is in portfolio_tickers\n",
    "portfolio_metrics = metrics_df[metrics_df['ticker'].isin(portfolio_tickers)]\n",
    "# portfolio_metrics = portfolio_metrics[metrics_column_order]\n",
    "print(f'portfolio_metrics: \\n{portfolio_metrics}')"
   ]
  },
  {
   "cell_type": "code",
   "execution_count": null,
   "metadata": {},
   "outputs": [],
   "source": []
  }
 ],
 "metadata": {
  "kernelspec": {
   "display_name": "py311-py3.11",
   "language": "python",
   "name": "python3"
  },
  "language_info": {
   "codemirror_mode": {
    "name": "ipython",
    "version": 3
   },
   "file_extension": ".py",
   "mimetype": "text/x-python",
   "name": "python",
   "nbconvert_exporter": "python",
   "pygments_lexer": "ipython3",
   "version": "3.11.9"
  }
 },
 "nbformat": 4,
 "nbformat_minor": 2
}
