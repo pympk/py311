{
 "cells": [
  {
   "cell_type": "code",
   "execution_count": null,
   "id": "86b5292e",
   "metadata": {},
   "outputs": [],
   "source": [
    "# --- COMPLETE CONTEXT AND TEST SCRIPT (v3 - Sharpe (ATR) Comparison Added) ---\n",
    "# This script contains the final refactored code and a self-contained test case.\n",
    "# Running this single cell will execute the test.\n",
    "\n",
    "import pandas as pd\n",
    "import plotly.graph_objects as go\n",
    "import pprint\n",
    "import io\n",
    "import numpy as np\n",
    "import ipywidgets as widgets\n",
    "import os\n",
    "\n",
    "from datetime import datetime, date\n",
    "from IPython.display import display, Markdown\n",
    "from pathlib import Path\n",
    "\n",
    "# --- A. HELPER FUNCTIONS (Shared across tools) ---\n",
    "\n",
    "def calculate_gain(price_series: pd.Series):\n",
    "    if price_series.dropna().shape[0] < 2: return np.nan\n",
    "    return (price_series.ffill().iloc[-1] / price_series.bfill().iloc[0]) - 1\n",
    "\n",
    "def calculate_sharpe(return_series: pd.Series):\n",
    "    if return_series.dropna().shape[0] < 2: return np.nan\n",
    "    std_dev = return_series.std()\n",
    "    if std_dev > 0 and std_dev != np.inf:\n",
    "        return (return_series.mean() / std_dev) * np.sqrt(252)\n",
    "    return np.nan\n",
    "\n",
    "# --- NEW HELPER FUNCTION ---\n",
    "def calculate_sharpe_atr(price_series: pd.Series, high_series: pd.Series, low_series: pd.Series):\n",
    "    \"\"\"Calculates Sharpe Ratio using Average True Range Percent (ATRP) as the denominator.\"\"\"\n",
    "    if price_series.dropna().shape[0] < 2: return np.nan\n",
    "    \n",
    "    daily_returns = price_series.pct_change()\n",
    "    mean_return = daily_returns.mean()\n",
    "    \n",
    "    # Calculate ATRP\n",
    "    tr = np.maximum(high_series - low_series, abs(high_series - price_series.shift(1)), abs(low_series - price_series.shift(1)))\n",
    "    atr = tr.ewm(alpha=1/14, adjust=False).mean()\n",
    "    atrp = (atr / price_series).mean()\n",
    "    \n",
    "    if atrp > 0 and atrp != np.inf:\n",
    "        return mean_return / atrp\n",
    "    return np.nan\n",
    "\n",
    "# --- B. THE CORE CALCULATION ENGINE (Headless, No UI) ---\n",
    "\n",
    "# --- MODIFIED ---\n",
    "def run_walk_forward_step(df_close_full, df_high_full, df_low_full,\n",
    "                          start_date, calc_period, fwd_period,\n",
    "                          metric, rank_start, rank_end, benchmark_ticker):\n",
    "    min_date_available = df_close_full.index.min()\n",
    "    max_date_available = df_close_full.index.max()\n",
    "    safe_start_date = max(start_date, min_date_available)\n",
    "    safe_calc_end_date = min(start_date + calc_period, max_date_available)\n",
    "    safe_viz_end_date = min(safe_calc_end_date + fwd_period, max_date_available)\n",
    "    if safe_start_date >= safe_calc_end_date: return {'error': \"Invalid date range.\"}\n",
    "    calc_close_raw = df_close_full.loc[safe_start_date:safe_calc_end_date]\n",
    "    calc_close = calc_close_raw.dropna(axis=1, how='all')\n",
    "    if calc_close.shape[1] == 0 or len(calc_close) < 2: return {'error': \"Not enough data in calc period.\"}\n",
    "\n",
    "    metric_values = {}\n",
    "    first_prices = calc_close.bfill().iloc[0]; last_prices = calc_close.ffill().iloc[-1]\n",
    "    metric_values['Price'] = (last_prices / first_prices).dropna()\n",
    "    daily_returns = calc_close.bfill().ffill().pct_change()\n",
    "    mean_returns, std_returns = daily_returns.mean(), daily_returns.std()\n",
    "    metric_values['Sharpe'] = (mean_returns / std_returns * np.sqrt(252)).fillna(0)\n",
    "    valid_tickers = calc_close.columns\n",
    "    calc_high = df_high_full[valid_tickers].loc[safe_start_date:safe_calc_end_date]\n",
    "    calc_low = df_low_full[valid_tickers].loc[safe_start_date:safe_calc_end_date]\n",
    "    tr = np.maximum(calc_high - calc_low, abs(calc_high - df_close_full[valid_tickers].shift(1)), abs(calc_low - df_close_full[valid_tickers].shift(1)))\n",
    "    atr = tr.ewm(alpha=1/14, adjust=False).mean()\n",
    "    atrp = (atr / calc_close).mean()\n",
    "    metric_values['Sharpe (ATR)'] = (mean_returns / atrp).fillna(0)\n",
    "    \n",
    "    sorted_tickers = metric_values[metric].sort_values(ascending=False)\n",
    "    tickers_to_display = sorted_tickers.index[rank_start-1:rank_end].tolist()\n",
    "    if not tickers_to_display: return {'error': \"No tickers found for the selected rank.\"}\n",
    "        \n",
    "    # --- Portfolio Series Calculation (including High and Low for ATR) ---\n",
    "    viz_slice_dates = df_close_full.loc[safe_start_date:safe_viz_end_date].index\n",
    "    \n",
    "    normalized_plot_data = df_close_full[tickers_to_display].loc[viz_slice_dates]\n",
    "    normalized_plot_data = normalized_plot_data.div(normalized_plot_data.bfill().iloc[0])\n",
    "    \n",
    "    normalized_high_data = df_high_full[tickers_to_display].loc[viz_slice_dates]\n",
    "    normalized_high_data = normalized_high_data.div(df_close_full[tickers_to_display].loc[viz_slice_dates].bfill().iloc[0])\n",
    "\n",
    "    normalized_low_data = df_low_full[tickers_to_display].loc[viz_slice_dates]\n",
    "    normalized_low_data = normalized_low_data.div(df_close_full[tickers_to_display].loc[viz_slice_dates].bfill().iloc[0])\n",
    "\n",
    "    portfolio_series = normalized_plot_data.mean(axis=1)\n",
    "    portfolio_high_series = normalized_high_data.mean(axis=1)\n",
    "    portfolio_low_series = normalized_low_data.mean(axis=1)\n",
    "    \n",
    "    portfolio_return_series = portfolio_series.pct_change()\n",
    "    actual_calc_end_ts = calc_close.index.max()\n",
    "\n",
    "    # --- Benchmark Series Calculation ---\n",
    "    benchmark_price_series = df_close_full.get(benchmark_ticker)\n",
    "    benchmark_high_series = df_high_full.get(benchmark_ticker)\n",
    "    benchmark_low_series = df_low_full.get(benchmark_ticker)\n",
    "    \n",
    "    benchmark_return_series = pd.Series(dtype='float64')\n",
    "    if benchmark_price_series is not None:\n",
    "        benchmark_price_series = benchmark_price_series.loc[safe_start_date:safe_viz_end_date].bfill().ffill()\n",
    "        benchmark_return_series = benchmark_price_series.pct_change()\n",
    "    \n",
    "    # --- Performance Data Calculation (Now includes Sharpe ATR) ---\n",
    "    perf_data = {}\n",
    "    \n",
    "    # Portfolio Gains & Sharpes\n",
    "    perf_data['calc_p_gain'] = calculate_gain(portfolio_series.loc[:actual_calc_end_ts])\n",
    "    perf_data['fwd_p_gain'] = calculate_gain(portfolio_series.loc[actual_calc_end_ts:])\n",
    "    perf_data['full_p_gain'] = calculate_gain(portfolio_series)\n",
    "    perf_data['calc_p_sharpe'] = calculate_sharpe(portfolio_return_series.loc[:actual_calc_end_ts])\n",
    "    perf_data['fwd_p_sharpe'] = calculate_sharpe(portfolio_return_series.loc[actual_calc_end_ts:])\n",
    "    perf_data['full_p_sharpe'] = calculate_sharpe(portfolio_return_series)\n",
    "    perf_data['calc_p_sharpe_atr'] = calculate_sharpe_atr(portfolio_series.loc[:actual_calc_end_ts], portfolio_high_series.loc[:actual_calc_end_ts], portfolio_low_series.loc[:actual_calc_end_ts])\n",
    "    perf_data['fwd_p_sharpe_atr'] = calculate_sharpe_atr(portfolio_series.loc[actual_calc_end_ts:], portfolio_high_series.loc[actual_calc_end_ts:], portfolio_low_series.loc[actual_calc_end_ts:])\n",
    "    perf_data['full_p_sharpe_atr'] = calculate_sharpe_atr(portfolio_series, portfolio_high_series, portfolio_low_series)\n",
    "\n",
    "    # Benchmark Gains & Sharpes\n",
    "    has_benchmark = benchmark_price_series is not None\n",
    "    perf_data['calc_b_gain'] = calculate_gain(benchmark_price_series.loc[:actual_calc_end_ts]) if has_benchmark else np.nan\n",
    "    perf_data['fwd_b_gain'] = calculate_gain(benchmark_price_series.loc[actual_calc_end_ts:]) if has_benchmark else np.nan\n",
    "    perf_data['full_b_gain'] = calculate_gain(benchmark_price_series) if has_benchmark else np.nan\n",
    "    perf_data['calc_b_sharpe'] = calculate_sharpe(benchmark_return_series.loc[:actual_calc_end_ts])\n",
    "    perf_data['fwd_b_sharpe'] = calculate_sharpe(benchmark_return_series.loc[actual_calc_end_ts:])\n",
    "    perf_data['full_b_sharpe'] = calculate_sharpe(benchmark_return_series)\n",
    "    perf_data['calc_b_sharpe_atr'] = calculate_sharpe_atr(benchmark_price_series.loc[:actual_calc_end_ts], benchmark_high_series.loc[:actual_calc_end_ts], benchmark_low_series.loc[:actual_calc_end_ts]) if has_benchmark else np.nan\n",
    "    perf_data['fwd_b_sharpe_atr'] = calculate_sharpe_atr(benchmark_price_series.loc[actual_calc_end_ts:], benchmark_high_series.loc[actual_calc_end_ts:], benchmark_low_series.loc[actual_calc_end_ts:]) if has_benchmark else np.nan\n",
    "    perf_data['full_b_sharpe_atr'] = calculate_sharpe_atr(benchmark_price_series, benchmark_high_series, benchmark_low_series) if has_benchmark else np.nan\n",
    "\n",
    "    calc_end_prices = calc_close.ffill().iloc[-1]\n",
    "    fwd_close_slice = df_close_full.loc[actual_calc_end_ts:safe_viz_end_date]\n",
    "    viz_end_prices = fwd_close_slice.ffill().iloc[-1] if not fwd_close_slice.empty and len(fwd_close_slice) >= 2 else calc_end_prices\n",
    "    calc_gains = (calc_end_prices / calc_close.bfill().iloc[0]) - 1\n",
    "    fwd_gains = (viz_end_prices / calc_end_prices) - 1\n",
    "    results_df = pd.DataFrame({'Rank': range(rank_start, rank_start + len(tickers_to_display)), 'Metric': metric, 'MetricValue': sorted_tickers.loc[tickers_to_display].values, 'CalcPrice': calc_end_prices.loc[tickers_to_display], 'CalcGain': calc_gains.loc[tickers_to_display], 'FwdGain': fwd_gains.loc[tickers_to_display]}, index=pd.Index(tickers_to_display, name='Ticker'))\n",
    "    if has_benchmark and benchmark_ticker in calc_close.columns:\n",
    "        benchmark_df_row = pd.DataFrame({'Rank': np.nan, 'Metric': metric, 'MetricValue': metric_values[metric].get(benchmark_ticker, np.nan), 'CalcPrice': calc_end_prices[benchmark_ticker], 'CalcGain': calc_gains[benchmark_ticker], 'FwdGain': fwd_gains[benchmark_ticker]}, index=pd.Index([f\"{benchmark_ticker} (BM)\"], name='Ticker'))\n",
    "        results_df = pd.concat([results_df, benchmark_df_row])\n",
    "    \n",
    "    return { 'tickers_to_display': tickers_to_display, 'normalized_plot_data': normalized_plot_data, 'portfolio_series': portfolio_series, 'benchmark_price_series': benchmark_price_series, 'performance_data': perf_data, 'results_df': results_df, 'actual_calc_end_ts': actual_calc_end_ts, 'safe_start_date': pd.to_datetime(df_close_full.loc[safe_start_date:safe_viz_end_date].index.min()), 'safe_viz_end_date': pd.to_datetime(df_close_full.loc[safe_start_date:safe_viz_end_date].index.max()), 'error': None }\n",
    "\n",
    "# --- C. THE UI WRAPPER ---\n",
    "\n",
    "# --- MODIFIED ---\n",
    "def plot_walk_forward_analyzer(df_ohlcv, \n",
    "                               default_start_date=None, default_calc_period='3M', default_fwd_period='1M',\n",
    "                               default_metric='Sharpe (ATR)', default_rank_start=1, default_rank_end=10,\n",
    "                               default_benchmark_ticker='VOO'):\n",
    "    print(\"Initializing Walk-Forward Analyzer...\")\n",
    "    if not isinstance(df_ohlcv.index, pd.MultiIndex): raise ValueError(\"Input DataFrame must have a (Ticker, Date) MultiIndex.\")\n",
    "    df_ohlcv = df_ohlcv.sort_index()\n",
    "    print(\"Pre-processing data (unstacking)...\")\n",
    "    df_close_full = df_ohlcv['Adj Close'].unstack(level=0)\n",
    "    df_high_full = df_ohlcv['Adj High'].unstack(level=0)\n",
    "    df_low_full = df_ohlcv['Adj Low'].unstack(level=0)\n",
    "    \n",
    "    start_date_picker = widgets.DatePicker(description='Start Date:', value=pd.to_datetime(default_start_date), disabled=False)\n",
    "    calc_period_options = {'1M': pd.DateOffset(months=1), '3M': pd.DateOffset(months=3), '6M': pd.DateOffset(months=6), '1Y': pd.DateOffset(years=1)}\n",
    "    fwd_period_options = {'0D': pd.DateOffset(days=0), '1W': pd.DateOffset(weeks=1), '2W': pd.DateOffset(weeks=2), '1M': pd.DateOffset(months=1), '3M': pd.DateOffset(months=3)}\n",
    "    calc_period_dropdown = widgets.Dropdown(options=calc_period_options.keys(), value=default_calc_period, description='Calc Period:')\n",
    "    fwd_period_dropdown = widgets.Dropdown(options=fwd_period_options.keys(), value=default_fwd_period, description='Fwd Period:')\n",
    "    metrics = ['Price', 'Sharpe', 'Sharpe (ATR)']\n",
    "    metric_dropdown = widgets.Dropdown(options=metrics, value=default_metric, description='Metric:')\n",
    "    rank_options = [1, 5, 10, 20, 30, 40, 50, 75, 100]\n",
    "    rank_start_dropdown = widgets.Dropdown(options=rank_options, value=default_rank_start, description='Rank Start:')\n",
    "    rank_end_dropdown = widgets.Dropdown(options=rank_options, value=default_rank_end, description='Rank End:')\n",
    "    benchmark_ticker_input = widgets.Text(value=default_benchmark_ticker, description='Benchmark:', placeholder='Enter Ticker')\n",
    "    update_button = widgets.Button(description=\"Update Chart\", button_style='primary')\n",
    "    ticker_list_output = widgets.Output()\n",
    "    results_container = [None]\n",
    "    \n",
    "    fig = go.FigureWidget()\n",
    "    max_traces = 50\n",
    "    for i in range(max_traces): fig.add_trace(go.Scatter(x=[None], y=[None], mode='lines', name=f'placeholder_{i}', visible=False, showlegend=False))\n",
    "    fig.add_trace(go.Scatter(x=[None], y=[None], mode='lines', name='Benchmark', visible=True, showlegend=True, line=dict(color='black', width=3, dash='dash')))\n",
    "    fig.add_trace(go.Scatter(x=[None], y=[None], mode='lines', name='Group Portfolio', visible=True, showlegend=True, line=dict(color='green', width=3)))\n",
    "\n",
    "    def update_plot(button_click):\n",
    "        ticker_list_output.clear_output()\n",
    "        start_date = pd.to_datetime(start_date_picker.value)\n",
    "        calc_period = calc_period_options[calc_period_dropdown.value]; fwd_period = fwd_period_options[fwd_period_dropdown.value]\n",
    "        metric = metric_dropdown.value; rank_start, rank_end = rank_start_dropdown.value, rank_end_dropdown.value\n",
    "        benchmark_ticker = benchmark_ticker_input.value.strip().upper()\n",
    "        if rank_start > rank_end:\n",
    "            with ticker_list_output: print(\"Error: 'Rank Start' must be <= 'Rank End'.\"); return\n",
    "\n",
    "        results = run_walk_forward_step(df_close_full, df_high_full, df_low_full, start_date, calc_period, fwd_period, metric, rank_start, rank_end, benchmark_ticker)\n",
    "        \n",
    "        if results['error']:\n",
    "            with ticker_list_output: print(f\"Error: {results['error']}\")\n",
    "            return\n",
    "            \n",
    "        with fig.batch_update():\n",
    "            for i in range(max_traces):\n",
    "                trace = fig.data[i]\n",
    "                if i < len(results['tickers_to_display']):\n",
    "                    ticker = results['tickers_to_display'][i]\n",
    "                    trace.x, trace.y, trace.name = results['normalized_plot_data'].index, results['normalized_plot_data'][ticker], ticker\n",
    "                    trace.visible, trace.showlegend = True, True\n",
    "                else: trace.visible, trace.showlegend = False, False\n",
    "            benchmark_trace = fig.data[max_traces]\n",
    "            if results['benchmark_price_series'] is not None and not results['benchmark_price_series'].dropna().empty:\n",
    "                normalized_benchmark = results['benchmark_price_series'] / results['benchmark_price_series'].bfill().iloc[0]\n",
    "                benchmark_trace.x, benchmark_trace.y = normalized_benchmark.index, normalized_benchmark\n",
    "                benchmark_trace.name = f\"Benchmark ({benchmark_ticker})\"; benchmark_trace.visible = True\n",
    "            else: benchmark_trace.visible = False\n",
    "            portfolio_trace = fig.data[max_traces + 1]\n",
    "            portfolio_trace.x, portfolio_trace.y = results['portfolio_series'].index, results['portfolio_series']\n",
    "            portfolio_trace.name = 'Group Portfolio'; portfolio_trace.visible = True\n",
    "            fig.layout.shapes = []; fig.add_shape(type=\"line\", x0=results['actual_calc_end_ts'], y0=0, x1=results['actual_calc_end_ts'], y1=1, xref='x', yref='paper', line=dict(color=\"grey\", width=2, dash=\"dash\"))\n",
    "            \n",
    "        results_container[0] = results['results_df']\n",
    "        \n",
    "        with ticker_list_output:\n",
    "            print(f\"Analyzing from {results['safe_start_date'].date()} to {results['safe_viz_end_date'].date()}.\")\n",
    "            print(f\"  - Ranking based on performance from {results['safe_start_date'].date()} to {results['actual_calc_end_ts'].date()}.\")\n",
    "            pprint.pprint(results['tickers_to_display'], width=120, compact=True)\n",
    "            \n",
    "            p = results['performance_data']\n",
    "            rows = []\n",
    "            has_benchmark = not np.isnan(p['full_b_gain'])\n",
    "            \n",
    "            rows.append({'Metric': 'Group Portfolio Gain', 'Full': p['full_p_gain'], 'Calc': p['calc_p_gain'], 'Fwd': p['fwd_p_gain']})\n",
    "            if has_benchmark:\n",
    "                rows.append({'Metric': f'Benchmark ({benchmark_ticker}) Gain', 'Full': p['full_b_gain'], 'Calc': p['calc_b_gain'], 'Fwd': p['fwd_b_gain']})\n",
    "                rows.append({'Metric': 'Gain Delta (vs Bm)', 'Full': p['full_p_gain'] - p['full_b_gain'], 'Calc': p['calc_p_gain'] - p['calc_b_gain'], 'Fwd': p['fwd_p_gain'] - p['fwd_b_gain']})\n",
    "            \n",
    "            rows.append({'Metric': 'Group Portfolio Sharpe', 'Full': p['full_p_sharpe'], 'Calc': p['calc_p_sharpe'], 'Fwd': p['fwd_p_sharpe']})\n",
    "            if has_benchmark:\n",
    "                rows.append({'Metric': f'Benchmark ({benchmark_ticker}) Sharpe', 'Full': p['full_b_sharpe'], 'Calc': p['calc_b_sharpe'], 'Fwd': p['fwd_b_sharpe']})\n",
    "                rows.append({'Metric': 'Sharpe Delta (vs Bm)', 'Full': p['full_p_sharpe'] - p['full_b_sharpe'], 'Calc': p['calc_p_sharpe'] - p['calc_b_sharpe'], 'Fwd': p['fwd_p_sharpe'] - p['fwd_b_sharpe']})\n",
    "\n",
    "            # --- Add Sharpe (ATR) rows ---\n",
    "            rows.append({'Metric': 'Group Portfolio Sharpe (ATR)', 'Full': p['full_p_sharpe_atr'], 'Calc': p['calc_p_sharpe_atr'], 'Fwd': p['fwd_p_sharpe_atr']})\n",
    "            if has_benchmark:\n",
    "                rows.append({'Metric': f'Benchmark ({benchmark_ticker}) Sharpe (ATR)', 'Full': p['full_b_sharpe_atr'], 'Calc': p['calc_b_sharpe_atr'], 'Fwd': p['fwd_b_sharpe_atr']})\n",
    "                rows.append({'Metric': 'Sharpe (ATR) Delta (vs Bm)', 'Full': p['full_p_sharpe_atr'] - p['full_b_sharpe_atr'], 'Calc': p['calc_p_sharpe_atr'] - p['calc_b_sharpe_atr'], 'Fwd': p['fwd_p_sharpe_atr'] - p['fwd_b_sharpe_atr']})\n",
    "\n",
    "            report_df = pd.DataFrame(rows).set_index('Metric')\n",
    "            gain_rows = [row for row in report_df.index if 'Gain' in row]\n",
    "            sharpe_rows = [row for row in report_df.index if 'Sharpe' in row] # This will catch both Sharpe types\n",
    "            \n",
    "            # Note: For Sharpe (ATR), the number is a raw ratio, not annualized, so a different format might be desired. We'll use {:+.4f} for it.\n",
    "            sharpe_std_rows = [r for r in sharpe_rows if '(ATR)' not in r]\n",
    "            sharpe_atr_rows = [r for r in sharpe_rows if '(ATR)' in r]\n",
    "\n",
    "            styled_df = report_df.style \\\n",
    "                .format('{:+.2%}', na_rep='N/A', subset=(gain_rows, report_df.columns)) \\\n",
    "                .format('{:+.2f}', na_rep='N/A', subset=(sharpe_std_rows, report_df.columns)) \\\n",
    "                .format('{:+.4f}', na_rep='N/A', subset=(sharpe_atr_rows, report_df.columns)) \\\n",
    "                .set_properties(**{'text-align': 'right', 'width': '100px'}) \\\n",
    "                .set_table_styles([{'selector': 'th.col_heading', 'props': [('text-align', 'right')]}, {'selector': 'th.row_heading', 'props': [('text-align', 'left')]}])\n",
    "\n",
    "            print(\"\\n--- Strategy Performance Summary ---\")\n",
    "            display(styled_df)\n",
    "            \n",
    "    fig.update_layout(title_text='Walk-Forward Performance Analysis', xaxis_title='Date', yaxis_title='Normalized Price (Start = 1)', hovermode='x unified', legend_title_text='Tickers (Ranked)', height=700, margin=dict(t=50))\n",
    "    fig.add_hline(y=1, line_width=1, line_dash=\"dash\", line_color=\"grey\")\n",
    "    update_button.on_click(update_plot)\n",
    "    controls_row1 = widgets.HBox([start_date_picker, calc_period_dropdown, fwd_period_dropdown])\n",
    "    controls_row2 = widgets.HBox([metric_dropdown, rank_start_dropdown, rank_end_dropdown, benchmark_ticker_input, update_button])\n",
    "    ui_container = widgets.VBox([controls_row1, controls_row2, ticker_list_output], layout=widgets.Layout(margin='10px 0 20px 0'))\n",
    "    display(ui_container, fig)\n",
    "    update_plot(None)\n",
    "    return results_container\n",
    "\n",
    "# --- D. VERIFICATION TOOLS ---\n",
    "# --- REVISED VERIFICATION FUNCTION (v2) ---\n",
    "# This function is the only one that needs to be updated.\n",
    "# It now calculates and displays the Sharpe (ATR) metric for verification.\n",
    "def verify_group_tickers_walk_forward_calculation(df_ohlcv, tickers_to_verify, benchmark_ticker,\n",
    "                                                  start_date, calc_period, fwd_period, export_csv=False):\n",
    "    display(Markdown(f\"## Verification Report for Portfolio vs. Benchmark\"))\n",
    "    display(Markdown(f\"**Portfolio Tickers:** `{tickers_to_verify}`\"))\n",
    "    display(Markdown(f\"**Benchmark Ticker:** `{benchmark_ticker}`\"))\n",
    "    period_options = { '1M': pd.DateOffset(months=1), '3M': pd.DateOffset(months=3), '6M': pd.DateOffset(months=6), '1Y': pd.DateOffset(years=1), '0D': pd.DateOffset(days=0), '1W': pd.DateOffset(weeks=1), '2W': pd.DateOffset(weeks=2) }\n",
    "\n",
    "    # --- MODIFICATION: Unstack High and Low data as well ---\n",
    "    df_close_full = df_ohlcv['Adj Close'].unstack(level=0)\n",
    "    df_high_full = df_ohlcv['Adj High'].unstack(level=0)\n",
    "    df_low_full = df_ohlcv['Adj Low'].unstack(level=0)\n",
    "\n",
    "    start_date_ts = pd.to_datetime(start_date)\n",
    "    calc_offset = period_options[calc_period]; fwd_offset = period_options[fwd_period]\n",
    "    calc_end_date_ts_theoretical = start_date_ts + calc_offset\n",
    "    fwd_end_date_ts_theoretical = calc_end_date_ts_theoretical + fwd_offset\n",
    "    actual_calc_end_ts = df_close_full.loc[start_date_ts:calc_end_date_ts_theoretical].index.max()\n",
    "    \n",
    "    display(Markdown(f\"**Analysis Start Date:** `{start_date_ts.date()}`\"))\n",
    "    display(Markdown(f\"**Calculation Period End Date:** `{actual_calc_end_ts.date()}`\"))\n",
    "    display(Markdown(f\"**Forward Period End Date:** `{fwd_end_date_ts_theoretical.date()}`\"))\n",
    "\n",
    "    # --- MODIFICATION: Create synthetic portfolio series for High and Low ---\n",
    "    analysis_slice = slice(start_date_ts, fwd_end_date_ts_theoretical)\n",
    "    portfolio_close_raw = df_close_full[tickers_to_verify].loc[analysis_slice]\n",
    "    portfolio_high_raw = df_high_full[tickers_to_verify].loc[analysis_slice]\n",
    "    portfolio_low_raw = df_low_full[tickers_to_verify].loc[analysis_slice]\n",
    "\n",
    "    # Normalize all series by the first 'Adj Close' price for consistency\n",
    "    first_close_prices = portfolio_close_raw.bfill().iloc[0]\n",
    "    normalized_portfolio_close = portfolio_close_raw.div(first_close_prices)\n",
    "    normalized_portfolio_high = portfolio_high_raw.div(first_close_prices)\n",
    "    normalized_portfolio_low = portfolio_low_raw.div(first_close_prices)\n",
    "\n",
    "    # Average the normalized series to create the final portfolio series\n",
    "    portfolio_value_series = normalized_portfolio_close.mean(axis=1)\n",
    "    portfolio_high_series = normalized_portfolio_high.mean(axis=1)\n",
    "    portfolio_low_series = normalized_portfolio_low.mean(axis=1)\n",
    "\n",
    "    try:\n",
    "        benchmark_price_series = df_close_full[benchmark_ticker]\n",
    "        benchmark_high_series = df_high_full[benchmark_ticker]\n",
    "        benchmark_low_series = df_low_full[benchmark_ticker]\n",
    "    except KeyError as e:\n",
    "        print(f\"---! ERROR: Ticker {e} not found !---\"); return\n",
    "\n",
    "    # --- MODIFICATION: Update inner helper to calculate Sharpe (ATR) ---\n",
    "    def print_verification_steps(title, price_series, high_series, low_series):\n",
    "        display(Markdown(f\"#### Verification for: `{title}`\"))\n",
    "        if price_series.dropna().shape[0] < 2:\n",
    "            print(\"  - Not enough data points.\")\n",
    "            return {'gain': np.nan, 'sharpe': np.nan, 'sharpe_atr': np.nan}\n",
    "        \n",
    "        # Gain calculation\n",
    "        start_price = price_series.bfill().iloc[0]; end_price = price_series.ffill().iloc[-1]\n",
    "        gain = (end_price / start_price) - 1\n",
    "        print(f\"  - Start Value (on {price_series.first_valid_index().date()}): {start_price:,.4f}\\n  - End Value   (on {price_series.last_valid_index().date()}): {end_price:,.4f}\\n  - Gain = ({end_price:,.4f} / {start_price:,.4f}) - 1 = {gain:.2%}\")\n",
    "        \n",
    "        returns = price_series.pct_change()\n",
    "        mean_return = returns.mean()\n",
    "        \n",
    "        # Standard Sharpe calculation\n",
    "        std_return = returns.std()\n",
    "        sharpe = (mean_return / std_return * np.sqrt(252)) if std_return > 0 and std_return != np.inf else np.nan\n",
    "        print(f\"\\n  - Mean Daily Return: {mean_return:.6f}\\n  - Std Dev of Daily Return: {std_return:.6f}\\n  - Sharpe = ({mean_return:.6f} / {std_return:.6f}) * sqrt(252) = {sharpe:.2f}\")\n",
    "\n",
    "        # Sharpe (ATR) calculation\n",
    "        sharpe_atr = calculate_sharpe_atr(price_series, high_series, low_series)\n",
    "        # We need to calculate ATRP here again to display it\n",
    "        tr = np.maximum(high_series - low_series, abs(high_series - price_series.shift(1)), abs(low_series - price_series.shift(1)))\n",
    "        atr = tr.ewm(alpha=1/14, adjust=False).mean()\n",
    "        atrp_mean = (atr / price_series).mean()\n",
    "        print(f\"\\n  - Average ATR Percent (ATRP): {atrp_mean:.6f}\\n  - Sharpe (ATR) = {mean_return:.6f} / {atrp_mean:.6f} = {sharpe_atr:.4f}\")\n",
    "\n",
    "        return {'gain': gain, 'sharpe': sharpe, 'sharpe_atr': sharpe_atr}\n",
    "\n",
    "    display(Markdown(\"### A. Calculation Period Analysis ('In-Sample')\"))\n",
    "    perf_calc_p = print_verification_steps(\"Group Portfolio\", portfolio_value_series.loc[:actual_calc_end_ts], portfolio_high_series.loc[:actual_calc_end_ts], portfolio_low_series.loc[:actual_calc_end_ts])\n",
    "    perf_calc_b = print_verification_steps(f\"Benchmark ({benchmark_ticker})\", benchmark_price_series.loc[:actual_calc_end_ts], benchmark_high_series.loc[:actual_calc_end_ts], benchmark_low_series.loc[:actual_calc_end_ts])\n",
    "    \n",
    "    display(Markdown(\"\\n### B. Forward Period Analysis ('Moment of Truth')\"))\n",
    "    perf_fwd_p = print_verification_steps(\"Group Portfolio\", portfolio_value_series.loc[actual_calc_end_ts:], portfolio_high_series.loc[actual_calc_end_ts:], portfolio_low_series.loc[actual_calc_end_ts:])\n",
    "    perf_fwd_b = print_verification_steps(f\"Benchmark ({benchmark_ticker})\", benchmark_price_series.loc[actual_calc_end_ts:fwd_end_date_ts_theoretical], benchmark_high_series.loc[actual_calc_end_ts:fwd_end_date_ts_theoretical], benchmark_low_series.loc[actual_calc_end_ts:fwd_end_date_ts_theoretical])\n",
    "    \n",
    "    display(Markdown(\"\\n### C. Full Period Analysis (Total)\"))\n",
    "    perf_full_p = print_verification_steps(\"Group Portfolio\", portfolio_value_series, portfolio_high_series, portfolio_low_series)\n",
    "    perf_full_b = print_verification_steps(f\"Benchmark ({benchmark_ticker})\", benchmark_price_series.loc[analysis_slice], benchmark_high_series.loc[analysis_slice], benchmark_low_series.loc[analysis_slice])\n",
    "    \n",
    "    display(Markdown(\"\\n### D. Final Summary Table (matches analyzer output)\"))\n",
    "    rows = []\n",
    "    # Gain Rows\n",
    "    rows.append({'Metric': 'Group Portfolio Gain', 'Full': perf_full_p['gain'], 'Calc': perf_calc_p['gain'], 'Fwd': perf_fwd_p['gain']})\n",
    "    rows.append({'Metric': f'Benchmark ({benchmark_ticker}) Gain', 'Full': perf_full_b['gain'], 'Calc': perf_calc_b['gain'], 'Fwd': perf_fwd_b['gain']})\n",
    "    rows.append({'Metric': 'Gain Delta (vs Bm)', 'Full': perf_full_p['gain'] - perf_full_b['gain'], 'Calc': perf_calc_p['gain'] - perf_calc_b['gain'], 'Fwd': perf_fwd_p['gain'] - perf_fwd_b['gain']})\n",
    "    # Standard Sharpe Rows\n",
    "    rows.append({'Metric': 'Group Portfolio Sharpe', 'Full': perf_full_p['sharpe'], 'Calc': perf_calc_p['sharpe'], 'Fwd': perf_fwd_p['sharpe']})\n",
    "    rows.append({'Metric': f'Benchmark ({benchmark_ticker}) Sharpe', 'Full': perf_full_b['sharpe'], 'Calc': perf_calc_b['sharpe'], 'Fwd': perf_fwd_b['sharpe']})\n",
    "    rows.append({'Metric': 'Sharpe Delta (vs Bm)', 'Full': perf_full_p['sharpe'] - perf_full_b['sharpe'], 'Calc': perf_calc_p['sharpe'] - perf_calc_b['sharpe'], 'Fwd': perf_fwd_p['sharpe'] - perf_fwd_b['sharpe']})\n",
    "    # --- MODIFICATION: Add Sharpe (ATR) rows ---\n",
    "    rows.append({'Metric': 'Group Portfolio Sharpe (ATR)', 'Full': perf_full_p['sharpe_atr'], 'Calc': perf_calc_p['sharpe_atr'], 'Fwd': perf_fwd_p['sharpe_atr']})\n",
    "    rows.append({'Metric': f'Benchmark ({benchmark_ticker}) Sharpe (ATR)', 'Full': perf_full_b['sharpe_atr'], 'Calc': perf_calc_b['sharpe_atr'], 'Fwd': perf_fwd_b['sharpe_atr']})\n",
    "    rows.append({'Metric': 'Sharpe (ATR) Delta (vs Bm)', 'Full': perf_full_p['sharpe_atr'] - perf_full_b['sharpe_atr'], 'Calc': perf_calc_p['sharpe_atr'] - perf_calc_b['sharpe_atr'], 'Fwd': perf_fwd_p['sharpe_atr'] - perf_fwd_b['sharpe_atr']})\n",
    "\n",
    "    report_df = pd.DataFrame(rows).set_index('Metric')\n",
    "    \n",
    "    # --- MODIFICATION: Update styling logic for new rows ---\n",
    "    gain_rows = [row for row in report_df.index if 'Gain' in row]\n",
    "    sharpe_std_rows = [row for row in report_df.index if 'Sharpe' in row and '(ATR)' not in row]\n",
    "    sharpe_atr_rows = [row for row in report_df.index if 'Sharpe (ATR)' in row]\n",
    "    \n",
    "    styled_df = report_df.style \\\n",
    "        .format('{:+.2%}', na_rep='N/A', subset=(gain_rows, report_df.columns)) \\\n",
    "        .format('{:+.2f}', na_rep='N/A', subset=(sharpe_std_rows, report_df.columns)) \\\n",
    "        .format('{:+.4f}', na_rep='N/A', subset=(sharpe_atr_rows, report_df.columns)) \\\n",
    "        .set_properties(**{'text-align': 'right', 'width': '100px'}) \\\n",
    "        .set_table_styles([{'selector': 'th.col_heading', 'props': [('text-align', 'right')]}, {'selector': 'th.row_heading', 'props': [('text-align', 'left')]}])\n",
    "        \n",
    "    display(styled_df)\n",
    "    \n",
    "    if export_csv:\n",
    "        export_df = pd.DataFrame({\n",
    "            'Portfolio_Value_Normalized': portfolio_value_series,\n",
    "            'Portfolio_Return': portfolio_value_series.pct_change(),\n",
    "            f'Benchmark_Price_{benchmark_ticker}': benchmark_price_series\n",
    "        })\n",
    "        filename = f\"verification_group_tickers_{start_date_ts.strftime('%Y%m%d')}.csv\"\n",
    "        export_df.to_csv(filename, float_format='%.6f')\n",
    "        print(f\"\\n✅ Detailed group verification data exported to '{filename}'\")\n",
    "\n",
    "def verify_ticker_ranking_metrics(df_ohlcv, \n",
    "                                  ticker, \n",
    "                                  start_date, \n",
    "                                  calc_period, \n",
    "                                  fwd_period, \n",
    "                                  export_csv=False):\n",
    "    display(Markdown(f\"## Verification Report for Ticker Ranking: `{ticker}`\"))\n",
    "    period_options = { '1M': pd.DateOffset(months=1), '3M': pd.DateOffset(months=3), '6M': pd.DateOffset(months=6), '1Y': pd.DateOffset(years=1), '0D': pd.DateOffset(days=0), '1W': pd.DateOffset(weeks=1), '2W': pd.DateOffset(weeks=2) }\n",
    "    try: df_ticker = df_ohlcv.loc[ticker].sort_index()\n",
    "    except KeyError: print(f\"---! ERROR: Ticker '{ticker}' not found !---\"); return\n",
    "    start_date_ts = pd.to_datetime(start_date)\n",
    "    calc_offset = period_options[calc_period]; fwd_offset = period_options[fwd_period]\n",
    "    calc_end_date_ts = start_date_ts + calc_offset; fwd_end_date_ts = calc_end_date_ts + fwd_offset\n",
    "    display(Markdown(f\"**Analysis Start Date:** `{start_date_ts.date()}`\"))\n",
    "    display(Markdown(f\"**Requested Calculation Period:** `{start_date_ts.date()}` to `{calc_end_date_ts.date()}`\"))\n",
    "    display(Markdown(f\"**Requested Forward Period:**   `{calc_end_date_ts.date()}` to `{fwd_end_date_ts.date()}`\"))\n",
    "    display(Markdown(\"### A. Calculation Period Analysis (for Ranking Metrics)\"))\n",
    "    calc_df = df_ticker.loc[start_date_ts:calc_end_date_ts].copy()\n",
    "    if calc_df['Adj Close'].notna().sum() < 2: print(\"\\n---! ERROR: Not enough data points !---\"); return\n",
    "    actual_calc_end_date = calc_df.index.max().date()\n",
    "    display(Markdown(f\"**Actual Dates Used:** `{calc_df.index.min().date()}` to `{actual_calc_end_date}`\"))\n",
    "    calc_gain = calculate_gain(calc_df['Adj Close'])\n",
    "    calc_start_price = calc_df['Adj Close'].bfill().iloc[0]\n",
    "    calc_end_price = calc_df['Adj Close'].ffill().iloc[-1]\n",
    "    display(Markdown(\"#### `CalcGain` Verification:\"))\n",
    "    print(f\"  - Calc Start Price: ${calc_start_price:.2f}\\n  - Calc End Price:   ${calc_end_price:.2f}  <-- 'CalcPrice'\\n  - CalcGain = {calc_gain:.2%}\")\n",
    "    display(Markdown(\"#### `MetricValue` Verification:\"))\n",
    "    price_metric = (calc_end_price / calc_start_price)\n",
    "    print(f\"\\n1. Price Metric:\\n   - Formula: Last Price / First Price = {price_metric:.4f}\")\n",
    "    daily_returns = calc_df['Adj Close'].bfill().ffill().pct_change()\n",
    "    sharpe_ratio = calculate_sharpe(daily_returns)\n",
    "    print(f\"\\n2. Sharpe Metric:\\n   - Mean Daily Return: {daily_returns.mean():.6f}\\n   - Std Dev Daily Return: {daily_returns.std():.6f}\\n   - Annualized Sharpe = {sharpe_ratio:.4f}\")\n",
    "    print(f\"\\n3. Sharpe (ATR) Metric:\")\n",
    "    tr = np.maximum(calc_df['Adj High'] - calc_df['Adj Low'], abs(calc_df['Adj High'] - calc_df['Adj Close'].shift(1)), abs(calc_df['Adj Low'] - calc_df['Adj Close'].shift(1)))\n",
    "    atr = tr.ewm(alpha=1/14, adjust=False).mean()\n",
    "    atrp_series = atr / calc_df['Adj Close']\n",
    "    atrp_mean = atrp_series.mean()\n",
    "    sharpe_atr = (daily_returns.mean() / atrp_mean) if atrp_mean > 0 else 0\n",
    "    print(f\"   - Mean Daily Return: {daily_returns.mean():.6f} (same as above)\\n   - Average ATR Percent (ATRP): {atrp_mean:.6f}\\n   - Sharpe (ATR) = {sharpe_atr:.4f}\")\n",
    "    display(Markdown(\"\\n### B. Forward Period Analysis (`FwdGain`)\"))\n",
    "    fwd_df = df_ticker.loc[actual_calc_end_date:fwd_end_date_ts].copy()\n",
    "    fwd_gain = calculate_gain(fwd_df['Adj Close'])\n",
    "    fwd_end_price = fwd_df['Adj Close'].ffill().iloc[-1] if fwd_gain is not np.nan else calc_end_price\n",
    "    print(f\"  - Fwd Start Price (Calc End Price): ${calc_end_price:.2f}\\n  - Fwd End Price: ${fwd_end_price:.2f}\\n  - FwdGain = {fwd_gain:.2%}\")\n",
    "    \n",
    "    # --- FIXED SECTION ---\n",
    "    display(Markdown(\"\\n### C. Final Summary Tables\"))\n",
    "    \n",
    "    # Create the first DataFrame for Ranking Metrics\n",
    "    metrics_summary_data = {\n",
    "        'Metric': ['Price', 'Sharpe', 'Sharpe (ATR)'],\n",
    "        'Calculated Value': [f\"{price_metric:.4f}\", f\"{sharpe_ratio:.4f}\", f\"{sharpe_atr:.4f}\"],\n",
    "        'Corresponds To': ['`MetricValue`', '`MetricValue`', '`MetricValue`']\n",
    "    }\n",
    "    metrics_df = pd.DataFrame(metrics_summary_data)\n",
    "    \n",
    "    # Create the second DataFrame for Gain Metrics\n",
    "    gains_summary_data = {\n",
    "        'Gain Metric': ['Calc Period Gain', 'Forward Period Gain'],\n",
    "        'Gain Value': [f\"{calc_gain:.2%}\", f\"{fwd_gain:.2%}\"],\n",
    "        'Corresponds To': ['`CalcGain`', '`FwdGain`']\n",
    "    }\n",
    "    gains_df = pd.DataFrame(gains_summary_data)\n",
    "\n",
    "    # Display both DataFrames separately\n",
    "    display(Markdown(\"#### Ranking Metric Values\"))\n",
    "    display(metrics_df.style.hide(axis=\"index\"))\n",
    "    \n",
    "    display(Markdown(\"#### Gain Values\"))\n",
    "    display(gains_df.style.hide(axis=\"index\"))\n",
    "    # --- END OF FIXED SECTION ---\n",
    "    \n",
    "    if export_csv:\n",
    "        calc_df['Period'] = 'Calculation'; calc_df['Daily_Return'] = daily_returns; calc_df['True_Range'] = tr; calc_df['ATR_14'] = atr; calc_df['ATRP'] = atrp_series\n",
    "        fwd_df['Period'] = 'Forward'\n",
    "        combined_df = pd.concat([calc_df, fwd_df.iloc[1:]])\n",
    "        filename = f\"verification_ticker_{ticker}_{start_date_ts.strftime('%Y%m%d')}.csv\"\n",
    "        combined_df.to_csv(filename, float_format='%.6f')\n",
    "        print(f\"\\n✅ Detailed ticker data exported to '{filename}'\")\n"
   ]
  },
  {
   "cell_type": "code",
   "execution_count": 2,
   "id": "8b471e61",
   "metadata": {},
   "outputs": [
    {
     "name": "stdout",
     "output_type": "stream",
     "text": [
      "<class 'pandas.core.frame.DataFrame'>\n",
      "MultiIndex: 1094338 entries, ('AA', Timestamp('2025-09-25 00:00:00')) to ('ZWS', Timestamp('2023-01-03 00:00:00'))\n",
      "Data columns (total 5 columns):\n",
      " #   Column     Non-Null Count    Dtype  \n",
      "---  ------     --------------    -----  \n",
      " 0   Adj Open   1094338 non-null  float64\n",
      " 1   Adj High   1094338 non-null  float64\n",
      " 2   Adj Low    1094338 non-null  float64\n",
      " 3   Adj Close  1094338 non-null  float64\n",
      " 4   Volume     1094338 non-null  int64  \n",
      "dtypes: float64(4), int64(1)\n",
      "memory usage: 46.0+ MB\n",
      "df_OHLCV.info() :\n",
      "None\n",
      "\n",
      "df_OHLCV:\n",
      "                   Adj Open  Adj High  Adj Low  Adj Close   Volume\n",
      "Ticker Date                                                       \n",
      "AA     2025-09-25   31.2100   31.8450  30.8100    31.4500  5318714\n",
      "       2025-09-24   31.7600   32.0300  31.1050    31.2300  7167700\n",
      "       2025-09-23   32.6700   32.9700  31.0300    31.5300  7983300\n",
      "       2025-09-22   32.0000   32.6400  31.7900    32.6300  4758300\n",
      "       2025-09-19   32.7700   32.9900  32.2800    32.4600  6383100\n",
      "...                     ...       ...      ...        ...      ...\n",
      "ZWS    2023-01-09   21.7220   22.0817  21.5469    21.5567   596708\n",
      "       2023-01-06   20.9733   21.6636  20.7496    21.6150   584675\n",
      "       2023-01-05   21.1483   21.5080  20.6232    20.8760  1247821\n",
      "       2023-01-04   20.9149   21.1969  20.6329    21.1094  1264790\n",
      "       2023-01-03   20.8566   21.0316  20.5260    20.7205   963351\n",
      "\n",
      "[1094338 rows x 5 columns]\n"
     ]
    }
   ],
   "source": [
    "download_path = Path.home() / \"Downloads\"  \n",
    "# OHLCV_file_path = r'c:\\Users\\ping\\Files_win10\\python\\py311\\stocks\\data\\df_OHLCV_clean_stocks_etfs.parquet'\n",
    "OHLCV_file_path = r'c:\\Users\\ping\\Files_win10\\python\\py311\\stocks\\data\\df_OHLCV_stocks_etfs.parquet'\n",
    "\n",
    "df_OHLCV = pd.read_parquet(OHLCV_file_path, engine='pyarrow')\n",
    "print(f'df_OHLCV.info() :\\n{df_OHLCV.info()}')\n",
    "print(f'\\ndf_OHLCV:\\n{df_OHLCV}')"
   ]
  },
  {
   "cell_type": "code",
   "execution_count": 3,
   "id": "93a5fcf6",
   "metadata": {},
   "outputs": [],
   "source": [
    "# --- 2. TEST EXECUTION ---\n",
    "test_start_date = '2023-04-01'\n",
    "test_calc_period = '3M'\n",
    "test_fwd_period = '1W'\n",
    "test_metric = 'Sharpe (ATR)'\n",
    "test_rank_start = 1\n",
    "test_rank_end = 10\n",
    "test_benchmark = 'VOO'"
   ]
  },
  {
   "cell_type": "code",
   "execution_count": 4,
   "id": "eb9543d8",
   "metadata": {},
   "outputs": [
    {
     "name": "stdout",
     "output_type": "stream",
     "text": [
      "--- RUNNING REFACTORED CODE TEST ---\n",
      "Initializing Walk-Forward Analyzer...\n",
      "Pre-processing data (unstacking)...\n"
     ]
    },
    {
     "data": {
      "application/vnd.jupyter.widget-view+json": {
       "model_id": "7f26641261b845b0bca8a39e0e4a6071",
       "version_major": 2,
       "version_minor": 0
      },
      "text/plain": [
       "VBox(children=(HBox(children=(DatePicker(value=Timestamp('2023-04-01 00:00:00'), description='Start Date:', st…"
      ]
     },
     "metadata": {},
     "output_type": "display_data"
    },
    {
     "data": {
      "application/vnd.jupyter.widget-view+json": {
       "model_id": "c8f7ad1f0d84435b899f50853e5f8197",
       "version_major": 2,
       "version_minor": 0
      },
      "text/plain": [
       "FigureWidget({\n",
       "    'data': [{'mode': 'lines',\n",
       "              'name': 'placeholder_0',\n",
       "              'showlegend': False,\n",
       "              'type': 'scatter',\n",
       "              'uid': '08784b17-9bca-4d53-92d6-89ae2572fd1d',\n",
       "              'visible': False,\n",
       "              'x': [None],\n",
       "              'y': [None]},\n",
       "             {'mode': 'lines',\n",
       "              'name': 'placeholder_1',\n",
       "              'showlegend': False,\n",
       "              'type': 'scatter',\n",
       "              'uid': 'eebd8c86-88a2-4e60-bfc1-f9cc99249789',\n",
       "              'visible': False,\n",
       "              'x': [None],\n",
       "              'y': [None]},\n",
       "             {'mode': 'lines',\n",
       "              'name': 'placeholder_2',\n",
       "              'showlegend': False,\n",
       "              'type': 'scatter',\n",
       "              'uid': '447aab6c-ffc8-4d7c-aa0c-dcbce54fa44e',\n",
       "              'visible': False,\n",
       "              'x': [None],\n",
       "              'y': [None]},\n",
       "             {'mode': 'lines',\n",
       "              'name': 'placeholder_3',\n",
       "              'showlegend': False,\n",
       "              'type': 'scatter',\n",
       "              'uid': 'bb4a1104-9b65-4e2e-bb4f-c567e9b78219',\n",
       "              'visible': False,\n",
       "              'x': [None],\n",
       "              'y': [None]},\n",
       "             {'mode': 'lines',\n",
       "              'name': 'placeholder_4',\n",
       "              'showlegend': False,\n",
       "              'type': 'scatter',\n",
       "              'uid': 'fa92d693-fe89-48d7-a4f9-df14143c7430',\n",
       "              'visible': False,\n",
       "              'x': [None],\n",
       "              'y': [None]},\n",
       "             {'mode': 'lines',\n",
       "              'name': 'placeholder_5',\n",
       "              'showlegend': False,\n",
       "              'type': 'scatter',\n",
       "              'uid': '641ec9e2-77c4-49a5-a6ea-39f9abf39e13',\n",
       "              'visible': False,\n",
       "              'x': [None],\n",
       "              'y': [None]},\n",
       "             {'mode': 'lines',\n",
       "              'name': 'placeholder_6',\n",
       "              'showlegend': False,\n",
       "              'type': 'scatter',\n",
       "              'uid': 'd32cdffb-89d1-4d89-8bf8-9df5d9412c98',\n",
       "              'visible': False,\n",
       "              'x': [None],\n",
       "              'y': [None]},\n",
       "             {'mode': 'lines',\n",
       "              'name': 'placeholder_7',\n",
       "              'showlegend': False,\n",
       "              'type': 'scatter',\n",
       "              'uid': '890558c7-b096-4217-82c1-699f3d17b516',\n",
       "              'visible': False,\n",
       "              'x': [None],\n",
       "              'y': [None]},\n",
       "             {'mode': 'lines',\n",
       "              'name': 'placeholder_8',\n",
       "              'showlegend': False,\n",
       "              'type': 'scatter',\n",
       "              'uid': '16e75cc0-6570-4599-99c0-03946a919583',\n",
       "              'visible': False,\n",
       "              'x': [None],\n",
       "              'y': [None]},\n",
       "             {'mode': 'lines',\n",
       "              'name': 'placeholder_9',\n",
       "              'showlegend': False,\n",
       "              'type': 'scatter',\n",
       "              'uid': 'b39fe98b-6e5e-485a-a5db-e47c35fea8f5',\n",
       "              'visible': False,\n",
       "              'x': [None],\n",
       "              'y': [None]},\n",
       "             {'mode': 'lines',\n",
       "              'name': 'placeholder_10',\n",
       "              'showlegend': False,\n",
       "              'type': 'scatter',\n",
       "              'uid': 'c35ce897-52d8-4d1b-b689-a0433686e448',\n",
       "              'visible': False,\n",
       "              'x': [None],\n",
       "              'y': [None]},\n",
       "             {'mode': 'lines',\n",
       "              'name': 'placeholder_11',\n",
       "              'showlegend': False,\n",
       "              'type': 'scatter',\n",
       "              'uid': '1cefacba-7719-46d8-b93a-5106953ba799',\n",
       "              'visible': False,\n",
       "              'x': [None],\n",
       "              'y': [None]},\n",
       "             {'mode': 'lines',\n",
       "              'name': 'placeholder_12',\n",
       "              'showlegend': False,\n",
       "              'type': 'scatter',\n",
       "              'uid': 'e01c6437-cd21-4c9a-a18d-40dffffbb116',\n",
       "              'visible': False,\n",
       "              'x': [None],\n",
       "              'y': [None]},\n",
       "             {'mode': 'lines',\n",
       "              'name': 'placeholder_13',\n",
       "              'showlegend': False,\n",
       "              'type': 'scatter',\n",
       "              'uid': 'b94d2b6b-c12b-4943-8bb0-8fa83d436126',\n",
       "              'visible': False,\n",
       "              'x': [None],\n",
       "              'y': [None]},\n",
       "             {'mode': 'lines',\n",
       "              'name': 'placeholder_14',\n",
       "              'showlegend': False,\n",
       "              'type': 'scatter',\n",
       "              'uid': 'd2a480a6-b49a-4302-a662-89c927fe31e5',\n",
       "              'visible': False,\n",
       "              'x': [None],\n",
       "              'y': [None]},\n",
       "             {'mode': 'lines',\n",
       "              'name': 'placeholder_15',\n",
       "              'showlegend': False,\n",
       "              'type': 'scatter',\n",
       "              'uid': 'd7d4a2d2-68bc-4d3d-bb52-404f043351de',\n",
       "              'visible': False,\n",
       "              'x': [None],\n",
       "              'y': [None]},\n",
       "             {'mode': 'lines',\n",
       "              'name': 'placeholder_16',\n",
       "              'showlegend': False,\n",
       "              'type': 'scatter',\n",
       "              'uid': '07c235cc-2dc8-41cc-ae86-5d2f8626b1da',\n",
       "              'visible': False,\n",
       "              'x': [None],\n",
       "              'y': [None]},\n",
       "             {'mode': 'lines',\n",
       "              'name': 'placeholder_17',\n",
       "              'showlegend': False,\n",
       "              'type': 'scatter',\n",
       "              'uid': 'a5ba02fb-5299-490f-96a7-e6efe157fadc',\n",
       "              'visible': False,\n",
       "              'x': [None],\n",
       "              'y': [None]},\n",
       "             {'mode': 'lines',\n",
       "              'name': 'placeholder_18',\n",
       "              'showlegend': False,\n",
       "              'type': 'scatter',\n",
       "              'uid': 'dd2d44bf-2cbc-484f-a9e8-cf28fea0aa87',\n",
       "              'visible': False,\n",
       "              'x': [None],\n",
       "              'y': [None]},\n",
       "             {'mode': 'lines',\n",
       "              'name': 'placeholder_19',\n",
       "              'showlegend': False,\n",
       "              'type': 'scatter',\n",
       "              'uid': '046ceff9-f725-4a46-b7a1-afe24006e882',\n",
       "              'visible': False,\n",
       "              'x': [None],\n",
       "              'y': [None]},\n",
       "             {'mode': 'lines',\n",
       "              'name': 'placeholder_20',\n",
       "              'showlegend': False,\n",
       "              'type': 'scatter',\n",
       "              'uid': '6e3ecf16-11c5-4226-b96f-5d98bc6bc36f',\n",
       "              'visible': False,\n",
       "              'x': [None],\n",
       "              'y': [None]},\n",
       "             {'mode': 'lines',\n",
       "              'name': 'placeholder_21',\n",
       "              'showlegend': False,\n",
       "              'type': 'scatter',\n",
       "              'uid': '509553ec-a4ad-4cc1-80ea-e57d33f1eba1',\n",
       "              'visible': False,\n",
       "              'x': [None],\n",
       "              'y': [None]},\n",
       "             {'mode': 'lines',\n",
       "              'name': 'placeholder_22',\n",
       "              'showlegend': False,\n",
       "              'type': 'scatter',\n",
       "              'uid': '38aa7f13-4fe7-4fea-825f-71c34eea02ff',\n",
       "              'visible': False,\n",
       "              'x': [None],\n",
       "              'y': [None]},\n",
       "             {'mode': 'lines',\n",
       "              'name': 'placeholder_23',\n",
       "              'showlegend': False,\n",
       "              'type': 'scatter',\n",
       "              'uid': '31eae413-b8b4-4b56-a500-0781fd788cf8',\n",
       "              'visible': False,\n",
       "              'x': [None],\n",
       "              'y': [None]},\n",
       "             {'mode': 'lines',\n",
       "              'name': 'placeholder_24',\n",
       "              'showlegend': False,\n",
       "              'type': 'scatter',\n",
       "              'uid': '77967dc1-5b67-4c8a-bda7-0dedb543519f',\n",
       "              'visible': False,\n",
       "              'x': [None],\n",
       "              'y': [None]},\n",
       "             {'mode': 'lines',\n",
       "              'name': 'placeholder_25',\n",
       "              'showlegend': False,\n",
       "              'type': 'scatter',\n",
       "              'uid': '528b14f4-78af-4275-9769-88a2e02bd1f7',\n",
       "              'visible': False,\n",
       "              'x': [None],\n",
       "              'y': [None]},\n",
       "             {'mode': 'lines',\n",
       "              'name': 'placeholder_26',\n",
       "              'showlegend': False,\n",
       "              'type': 'scatter',\n",
       "              'uid': 'e37ad3a2-50b0-47f3-99d1-d23f13a3b49c',\n",
       "              'visible': False,\n",
       "              'x': [None],\n",
       "              'y': [None]},\n",
       "             {'mode': 'lines',\n",
       "              'name': 'placeholder_27',\n",
       "              'showlegend': False,\n",
       "              'type': 'scatter',\n",
       "              'uid': '7765f35c-681b-455d-86fb-a0b3603e9dbf',\n",
       "              'visible': False,\n",
       "              'x': [None],\n",
       "              'y': [None]},\n",
       "             {'mode': 'lines',\n",
       "              'name': 'placeholder_28',\n",
       "              'showlegend': False,\n",
       "              'type': 'scatter',\n",
       "              'uid': '5332aa85-a4f8-4d84-b84e-e8728a36bbd5',\n",
       "              'visible': False,\n",
       "              'x': [None],\n",
       "              'y': [None]},\n",
       "             {'mode': 'lines',\n",
       "              'name': 'placeholder_29',\n",
       "              'showlegend': False,\n",
       "              'type': 'scatter',\n",
       "              'uid': '68e1fb36-6520-44ef-a9b8-929c00ff7dbd',\n",
       "              'visible': False,\n",
       "              'x': [None],\n",
       "              'y': [None]},\n",
       "             {'mode': 'lines',\n",
       "              'name': 'placeholder_30',\n",
       "              'showlegend': False,\n",
       "              'type': 'scatter',\n",
       "              'uid': '3171b7cd-fb52-435a-9853-9b995e909aea',\n",
       "              'visible': False,\n",
       "              'x': [None],\n",
       "              'y': [None]},\n",
       "             {'mode': 'lines',\n",
       "              'name': 'placeholder_31',\n",
       "              'showlegend': False,\n",
       "              'type': 'scatter',\n",
       "              'uid': '677a1162-e7b3-49ba-a2ec-98a2c57e364f',\n",
       "              'visible': False,\n",
       "              'x': [None],\n",
       "              'y': [None]},\n",
       "             {'mode': 'lines',\n",
       "              'name': 'placeholder_32',\n",
       "              'showlegend': False,\n",
       "              'type': 'scatter',\n",
       "              'uid': '40e364d9-4626-4b5d-b595-8c9319b739eb',\n",
       "              'visible': False,\n",
       "              'x': [None],\n",
       "              'y': [None]},\n",
       "             {'mode': 'lines',\n",
       "              'name': 'placeholder_33',\n",
       "              'showlegend': False,\n",
       "              'type': 'scatter',\n",
       "              'uid': 'c76cb9da-307e-479c-bce3-ea46ff7f74d9',\n",
       "              'visible': False,\n",
       "              'x': [None],\n",
       "              'y': [None]},\n",
       "             {'mode': 'lines',\n",
       "              'name': 'placeholder_34',\n",
       "              'showlegend': False,\n",
       "              'type': 'scatter',\n",
       "              'uid': '7b852fe5-e600-47eb-b812-82e81f2bfdfb',\n",
       "              'visible': False,\n",
       "              'x': [None],\n",
       "              'y': [None]},\n",
       "             {'mode': 'lines',\n",
       "              'name': 'placeholder_35',\n",
       "              'showlegend': False,\n",
       "              'type': 'scatter',\n",
       "              'uid': 'e1ecfe75-3ab0-437e-be2b-f50f98da1db8',\n",
       "              'visible': False,\n",
       "              'x': [None],\n",
       "              'y': [None]},\n",
       "             {'mode': 'lines',\n",
       "              'name': 'placeholder_36',\n",
       "              'showlegend': False,\n",
       "              'type': 'scatter',\n",
       "              'uid': '75790bc2-c0cb-4ace-b60b-edea783f8cf7',\n",
       "              'visible': False,\n",
       "              'x': [None],\n",
       "              'y': [None]},\n",
       "             {'mode': 'lines',\n",
       "              'name': 'placeholder_37',\n",
       "              'showlegend': False,\n",
       "              'type': 'scatter',\n",
       "              'uid': '1270d9a2-5625-42bb-b3f9-8871377256a0',\n",
       "              'visible': False,\n",
       "              'x': [None],\n",
       "              'y': [None]},\n",
       "             {'mode': 'lines',\n",
       "              'name': 'placeholder_38',\n",
       "              'showlegend': False,\n",
       "              'type': 'scatter',\n",
       "              'uid': 'ef60ed3f-a8ca-4b83-912b-e9f30bdc4c9e',\n",
       "              'visible': False,\n",
       "              'x': [None],\n",
       "              'y': [None]},\n",
       "             {'mode': 'lines',\n",
       "              'name': 'placeholder_39',\n",
       "              'showlegend': False,\n",
       "              'type': 'scatter',\n",
       "              'uid': 'c353c18e-a8e8-432e-8229-9f1eab728607',\n",
       "              'visible': False,\n",
       "              'x': [None],\n",
       "              'y': [None]},\n",
       "             {'mode': 'lines',\n",
       "              'name': 'placeholder_40',\n",
       "              'showlegend': False,\n",
       "              'type': 'scatter',\n",
       "              'uid': 'd6f1230b-93a8-4b7b-a6b6-79f5cb3adafe',\n",
       "              'visible': False,\n",
       "              'x': [None],\n",
       "              'y': [None]},\n",
       "             {'mode': 'lines',\n",
       "              'name': 'placeholder_41',\n",
       "              'showlegend': False,\n",
       "              'type': 'scatter',\n",
       "              'uid': '56e5ce5b-46d3-4cb3-bb6c-8738ab560dc3',\n",
       "              'visible': False,\n",
       "              'x': [None],\n",
       "              'y': [None]},\n",
       "             {'mode': 'lines',\n",
       "              'name': 'placeholder_42',\n",
       "              'showlegend': False,\n",
       "              'type': 'scatter',\n",
       "              'uid': '4559920f-9d89-447b-a044-b8722a0e913b',\n",
       "              'visible': False,\n",
       "              'x': [None],\n",
       "              'y': [None]},\n",
       "             {'mode': 'lines',\n",
       "              'name': 'placeholder_43',\n",
       "              'showlegend': False,\n",
       "              'type': 'scatter',\n",
       "              'uid': '85638048-adf2-4f14-bb16-9bd0bab35d20',\n",
       "              'visible': False,\n",
       "              'x': [None],\n",
       "              'y': [None]},\n",
       "             {'mode': 'lines',\n",
       "              'name': 'placeholder_44',\n",
       "              'showlegend': False,\n",
       "              'type': 'scatter',\n",
       "              'uid': '128d9fe7-34e3-4e33-a27c-9e8a85cde74a',\n",
       "              'visible': False,\n",
       "              'x': [None],\n",
       "              'y': [None]},\n",
       "             {'mode': 'lines',\n",
       "              'name': 'placeholder_45',\n",
       "              'showlegend': False,\n",
       "              'type': 'scatter',\n",
       "              'uid': '5c97215b-ea80-45f3-96d1-bbff18672812',\n",
       "              'visible': False,\n",
       "              'x': [None],\n",
       "              'y': [None]},\n",
       "             {'mode': 'lines',\n",
       "              'name': 'placeholder_46',\n",
       "              'showlegend': False,\n",
       "              'type': 'scatter',\n",
       "              'uid': '6463481e-dddc-45c4-9f8f-5f22ca104843',\n",
       "              'visible': False,\n",
       "              'x': [None],\n",
       "              'y': [None]},\n",
       "             {'mode': 'lines',\n",
       "              'name': 'placeholder_47',\n",
       "              'showlegend': False,\n",
       "              'type': 'scatter',\n",
       "              'uid': '683b19f9-2fd6-4c23-9abe-3df7d1b9fc1b',\n",
       "              'visible': False,\n",
       "              'x': [None],\n",
       "              'y': [None]},\n",
       "             {'mode': 'lines',\n",
       "              'name': 'placeholder_48',\n",
       "              'showlegend': False,\n",
       "              'type': 'scatter',\n",
       "              'uid': 'bd473f3f-e86c-4077-a2d8-ebb0ad87988b',\n",
       "              'visible': False,\n",
       "              'x': [None],\n",
       "              'y': [None]},\n",
       "             {'mode': 'lines',\n",
       "              'name': 'placeholder_49',\n",
       "              'showlegend': False,\n",
       "              'type': 'scatter',\n",
       "              'uid': 'c1d3aa9e-c0ef-4133-a851-33b13474d368',\n",
       "              'visible': False,\n",
       "              'x': [None],\n",
       "              'y': [None]},\n",
       "             {'line': {'color': 'black', 'dash': 'dash', 'width': 3},\n",
       "              'mode': 'lines',\n",
       "              'name': 'Benchmark',\n",
       "              'showlegend': True,\n",
       "              'type': 'scatter',\n",
       "              'uid': 'ad43da67-7868-4823-a72f-4ca8bf165301',\n",
       "              'visible': True,\n",
       "              'x': [None],\n",
       "              'y': [None]},\n",
       "             {'line': {'color': 'green', 'width': 3},\n",
       "              'mode': 'lines',\n",
       "              'name': 'Group Portfolio',\n",
       "              'showlegend': True,\n",
       "              'type': 'scatter',\n",
       "              'uid': 'e1c09590-8b4b-4b3a-90c4-593266c5a215',\n",
       "              'visible': True,\n",
       "              'x': [None],\n",
       "              'y': [None]}],\n",
       "    'layout': {'height': 700,\n",
       "               'hovermode': 'x unified',\n",
       "               'legend': {'title': {'text': 'Tickers (Ranked)'}},\n",
       "               'margin': {'t': 50},\n",
       "               'shapes': [{'line': {'color': 'grey', 'dash': 'dash', 'width': 1},\n",
       "                           'type': 'line',\n",
       "                           'x0': 0,\n",
       "                           'x1': 1,\n",
       "                           'xref': 'x domain',\n",
       "                           'y0': 1,\n",
       "                           'y1': 1,\n",
       "                           'yref': 'y'}],\n",
       "               'template': '...',\n",
       "               'title': {'text': 'Walk-Forward Performance Analysis'},\n",
       "               'xaxis': {'title': {'text': 'Date'}},\n",
       "               'yaxis': {'title': {'text': 'Normalized Price (Start = 1)'}}}\n",
       "})"
      ]
     },
     "metadata": {},
     "output_type": "display_data"
    },
    {
     "name": "stdout",
     "output_type": "stream",
     "text": [
      "\n",
      "--- TEST COMPLETE ---\n"
     ]
    }
   ],
   "source": [
    "\n",
    "\n",
    "print(\"--- RUNNING REFACTORED CODE TEST ---\")\n",
    "walk_forward_results = plot_walk_forward_analyzer(\n",
    "    df_OHLCV,\n",
    "    default_start_date=test_start_date,\n",
    "    default_calc_period=test_calc_period,\n",
    "    default_fwd_period=test_fwd_period,\n",
    "    default_metric=test_metric,\n",
    "    default_rank_start=test_rank_start,\n",
    "    default_rank_end=test_rank_end,\n",
    "    default_benchmark_ticker=test_benchmark\n",
    ")\n",
    "print(\"\\n--- TEST COMPLETE ---\")"
   ]
  },
  {
   "cell_type": "code",
   "execution_count": 5,
   "id": "2c6661e9",
   "metadata": {},
   "outputs": [
    {
     "data": {
      "text/plain": [
       "[          Rank        Metric  MetricValue  CalcPrice  CalcGain   FwdGain\n",
       " Ticker                                                                  \n",
       " SGOV       1.0  Sharpe (ATR)     0.791422    90.2594  0.012267  0.001068\n",
       " FER        2.0  Sharpe (ATR)     0.637183    28.9740  0.106883  0.010320\n",
       " SHV        3.0  Sharpe (ATR)     0.614626    99.1763  0.011222  0.000654\n",
       " BIL        4.0  Sharpe (ATR)     0.601602    82.3930  0.011793  0.000799\n",
       " GBIL       5.0  Sharpe (ATR)     0.536967    89.9725  0.010415  0.000812\n",
       " TFLO       6.0  Sharpe (ATR)     0.532481    45.3818  0.013344  0.000912\n",
       " USFR       7.0  Sharpe (ATR)     0.519238    45.4135  0.013393  0.001392\n",
       " BILS       8.0  Sharpe (ATR)     0.497107    89.2755  0.010143  0.000656\n",
       " MINT       9.0  Sharpe (ATR)     0.467373    88.9671  0.016342  0.001410\n",
       " TBIL      10.0  Sharpe (ATR)     0.449017    44.9261  0.012015  0.000922\n",
       " VOO (BM)   NaN  Sharpe (ATR)     0.146264   396.2190  0.082956 -0.010779]"
      ]
     },
     "execution_count": 5,
     "metadata": {},
     "output_type": "execute_result"
    }
   ],
   "source": [
    "walk_forward_results"
   ]
  },
  {
   "cell_type": "code",
   "execution_count": 6,
   "id": "f9b7d439",
   "metadata": {},
   "outputs": [
    {
     "name": "stdout",
     "output_type": "stream",
     "text": [
      "--- Extracted and Cleaned Ticker List ---\n",
      "all_tickers_cleaned: ['SGOV', 'FER', 'SHV', 'BIL', 'GBIL', 'TFLO', 'USFR', 'BILS', 'MINT', 'TBIL', 'VOO']\n",
      "\n",
      "plotted_tickers: ['SGOV', 'FER', 'SHV', 'BIL', 'GBIL', 'TFLO', 'USFR', 'BILS', 'MINT', 'TBIL']\n",
      "\n",
      "benchmark_ticker: VOO\n"
     ]
    }
   ],
   "source": [
    "# 1. Access the results DataFrame\n",
    "# The function returns a list, and the DataFrame is the first element.\n",
    "results_df = walk_forward_results[0]\n",
    "\n",
    "# 2. Extract the index (which contains the tickers) and clean it\n",
    "# We use a list comprehension to iterate through the index labels\n",
    "# and remove the \" (BM)\" suffix from the benchmark ticker.\n",
    "all_tickers_cleaned = [ticker.replace(' (BM)', '') for ticker in results_df.index.tolist()]\n",
    "plotted_tickers = all_tickers_cleaned[:-1]\n",
    "benchmark_ticker = all_tickers_cleaned[-1]  \n",
    "\n",
    "# 3. Print the final list\n",
    "print(\"--- Extracted and Cleaned Ticker List ---\")\n",
    "print(f'all_tickers_cleaned: {all_tickers_cleaned}')\n",
    "print(f'\\nplotted_tickers: {plotted_tickers}')\n",
    "print(f'\\nbenchmark_ticker: {benchmark_ticker}')"
   ]
  },
  {
   "cell_type": "code",
   "execution_count": 7,
   "id": "7258e193",
   "metadata": {},
   "outputs": [
    {
     "data": {
      "text/markdown": [
       "## Verification Report for Portfolio vs. Benchmark"
      ],
      "text/plain": [
       "<IPython.core.display.Markdown object>"
      ]
     },
     "metadata": {},
     "output_type": "display_data"
    },
    {
     "data": {
      "text/markdown": [
       "**Portfolio Tickers:** `['SGOV', 'FER', 'SHV', 'BIL', 'GBIL', 'TFLO', 'USFR', 'BILS', 'MINT', 'TBIL']`"
      ],
      "text/plain": [
       "<IPython.core.display.Markdown object>"
      ]
     },
     "metadata": {},
     "output_type": "display_data"
    },
    {
     "data": {
      "text/markdown": [
       "**Benchmark Ticker:** `VOO`"
      ],
      "text/plain": [
       "<IPython.core.display.Markdown object>"
      ]
     },
     "metadata": {},
     "output_type": "display_data"
    },
    {
     "data": {
      "text/markdown": [
       "**Analysis Start Date:** `2023-04-01`"
      ],
      "text/plain": [
       "<IPython.core.display.Markdown object>"
      ]
     },
     "metadata": {},
     "output_type": "display_data"
    },
    {
     "data": {
      "text/markdown": [
       "**Calculation Period End Date:** `2023-06-30`"
      ],
      "text/plain": [
       "<IPython.core.display.Markdown object>"
      ]
     },
     "metadata": {},
     "output_type": "display_data"
    },
    {
     "data": {
      "text/markdown": [
       "**Forward Period End Date:** `2023-07-08`"
      ],
      "text/plain": [
       "<IPython.core.display.Markdown object>"
      ]
     },
     "metadata": {},
     "output_type": "display_data"
    },
    {
     "data": {
      "text/markdown": [
       "### A. Calculation Period Analysis ('In-Sample')"
      ],
      "text/plain": [
       "<IPython.core.display.Markdown object>"
      ]
     },
     "metadata": {},
     "output_type": "display_data"
    },
    {
     "data": {
      "text/markdown": [
       "#### Verification for: `Group Portfolio`"
      ],
      "text/plain": [
       "<IPython.core.display.Markdown object>"
      ]
     },
     "metadata": {},
     "output_type": "display_data"
    },
    {
     "name": "stdout",
     "output_type": "stream",
     "text": [
      "  - Start Value (on 2023-04-03): 1.0000\n",
      "  - End Value   (on 2023-06-30): 1.0218\n",
      "  - Gain = (1.0218 / 1.0000) - 1 = 2.18%\n",
      "\n",
      "  - Mean Daily Return: 0.000355\n",
      "  - Std Dev of Daily Return: 0.001773\n",
      "  - Sharpe = (0.000355 / 0.001773) * sqrt(252) = 3.18\n",
      "\n",
      "  - Average ATR Percent (ATRP): 0.000618\n",
      "  - Sharpe (ATR) = 0.000355 / 0.000618 = 0.5739\n"
     ]
    },
    {
     "data": {
      "text/markdown": [
       "#### Verification for: `Benchmark (VOO)`"
      ],
      "text/plain": [
       "<IPython.core.display.Markdown object>"
      ]
     },
     "metadata": {},
     "output_type": "display_data"
    },
    {
     "name": "stdout",
     "output_type": "stream",
     "text": [
      "  - Start Value (on 2023-01-03): 337.7610\n",
      "  - End Value   (on 2023-06-30): 396.2190\n",
      "  - Gain = (396.2190 / 337.7610) - 1 = 17.31%\n",
      "\n",
      "  - Mean Daily Return: 0.001340\n",
      "  - Std Dev of Daily Return: 0.009089\n",
      "  - Sharpe = (0.001340 / 0.009089) * sqrt(252) = 2.34\n",
      "\n",
      "  - Average ATR Percent (ATRP): 0.012598\n",
      "  - Sharpe (ATR) = 0.001340 / 0.012598 = 0.1063\n"
     ]
    },
    {
     "data": {
      "text/markdown": [
       "\n",
       "### B. Forward Period Analysis ('Moment of Truth')"
      ],
      "text/plain": [
       "<IPython.core.display.Markdown object>"
      ]
     },
     "metadata": {},
     "output_type": "display_data"
    },
    {
     "data": {
      "text/markdown": [
       "#### Verification for: `Group Portfolio`"
      ],
      "text/plain": [
       "<IPython.core.display.Markdown object>"
      ]
     },
     "metadata": {},
     "output_type": "display_data"
    },
    {
     "name": "stdout",
     "output_type": "stream",
     "text": [
      "  - Start Value (on 2023-06-30): 1.0218\n",
      "  - End Value   (on 2023-07-07): 1.0238\n",
      "  - Gain = (1.0238 / 1.0218) - 1 = 0.20%\n",
      "\n",
      "  - Mean Daily Return: 0.000493\n",
      "  - Std Dev of Daily Return: 0.000501\n",
      "  - Sharpe = (0.000493 / 0.000501) * sqrt(252) = 15.63\n",
      "\n",
      "  - Average ATR Percent (ATRP): 0.000333\n",
      "  - Sharpe (ATR) = 0.000493 / 0.000333 = 1.4803\n"
     ]
    },
    {
     "data": {
      "text/markdown": [
       "#### Verification for: `Benchmark (VOO)`"
      ],
      "text/plain": [
       "<IPython.core.display.Markdown object>"
      ]
     },
     "metadata": {},
     "output_type": "display_data"
    },
    {
     "name": "stdout",
     "output_type": "stream",
     "text": [
      "  - Start Value (on 2023-06-30): 396.2190\n",
      "  - End Value   (on 2023-07-07): 391.9480\n",
      "  - Gain = (391.9480 / 396.2190) - 1 = -1.08%\n",
      "\n",
      "  - Mean Daily Return: -0.002699\n",
      "  - Std Dev of Daily Return: 0.004139\n",
      "  - Sharpe = (-0.002699 / 0.004139) * sqrt(252) = -10.35\n",
      "\n",
      "  - Average ATR Percent (ATRP): 0.003696\n",
      "  - Sharpe (ATR) = -0.002699 / 0.003696 = -0.7303\n"
     ]
    },
    {
     "data": {
      "text/markdown": [
       "\n",
       "### C. Full Period Analysis (Total)"
      ],
      "text/plain": [
       "<IPython.core.display.Markdown object>"
      ]
     },
     "metadata": {},
     "output_type": "display_data"
    },
    {
     "data": {
      "text/markdown": [
       "#### Verification for: `Group Portfolio`"
      ],
      "text/plain": [
       "<IPython.core.display.Markdown object>"
      ]
     },
     "metadata": {},
     "output_type": "display_data"
    },
    {
     "name": "stdout",
     "output_type": "stream",
     "text": [
      "  - Start Value (on 2023-04-03): 1.0000\n",
      "  - End Value   (on 2023-07-07): 1.0238\n",
      "  - Gain = (1.0238 / 1.0000) - 1 = 2.38%\n",
      "\n",
      "  - Mean Daily Return: 0.000363\n",
      "  - Std Dev of Daily Return: 0.001721\n",
      "  - Sharpe = (0.000363 / 0.001721) * sqrt(252) = 3.35\n",
      "\n",
      "  - Average ATR Percent (ATRP): 0.000640\n",
      "  - Sharpe (ATR) = 0.000363 / 0.000640 = 0.5673\n"
     ]
    },
    {
     "data": {
      "text/markdown": [
       "#### Verification for: `Benchmark (VOO)`"
      ],
      "text/plain": [
       "<IPython.core.display.Markdown object>"
      ]
     },
     "metadata": {},
     "output_type": "display_data"
    },
    {
     "name": "stdout",
     "output_type": "stream",
     "text": [
      "  - Start Value (on 2023-04-03): 365.8680\n",
      "  - End Value   (on 2023-07-07): 391.9480\n",
      "  - Gain = (391.9480 / 365.8680) - 1 = 7.13%\n",
      "\n",
      "  - Mean Daily Return: 0.001087\n",
      "  - Std Dev of Daily Return: 0.007368\n",
      "  - Sharpe = (0.001087 / 0.007368) * sqrt(252) = 2.34\n",
      "\n",
      "  - Average ATR Percent (ATRP): 0.009944\n",
      "  - Sharpe (ATR) = 0.001087 / 0.009944 = 0.1093\n"
     ]
    },
    {
     "data": {
      "text/markdown": [
       "\n",
       "### D. Final Summary Table (matches analyzer output)"
      ],
      "text/plain": [
       "<IPython.core.display.Markdown object>"
      ]
     },
     "metadata": {},
     "output_type": "display_data"
    },
    {
     "data": {
      "text/html": [
       "<style type=\"text/css\">\n",
       "#T_fa656 th.col_heading {\n",
       "  text-align: right;\n",
       "}\n",
       "#T_fa656 th.row_heading {\n",
       "  text-align: left;\n",
       "}\n",
       "#T_fa656_row0_col0, #T_fa656_row0_col1, #T_fa656_row0_col2, #T_fa656_row1_col0, #T_fa656_row1_col1, #T_fa656_row1_col2, #T_fa656_row2_col0, #T_fa656_row2_col1, #T_fa656_row2_col2, #T_fa656_row3_col0, #T_fa656_row3_col1, #T_fa656_row3_col2, #T_fa656_row4_col0, #T_fa656_row4_col1, #T_fa656_row4_col2, #T_fa656_row5_col0, #T_fa656_row5_col1, #T_fa656_row5_col2, #T_fa656_row6_col0, #T_fa656_row6_col1, #T_fa656_row6_col2, #T_fa656_row7_col0, #T_fa656_row7_col1, #T_fa656_row7_col2, #T_fa656_row8_col0, #T_fa656_row8_col1, #T_fa656_row8_col2 {\n",
       "  text-align: right;\n",
       "  width: 100px;\n",
       "}\n",
       "</style>\n",
       "<table id=\"T_fa656\">\n",
       "  <thead>\n",
       "    <tr>\n",
       "      <th class=\"blank level0\" >&nbsp;</th>\n",
       "      <th id=\"T_fa656_level0_col0\" class=\"col_heading level0 col0\" >Full</th>\n",
       "      <th id=\"T_fa656_level0_col1\" class=\"col_heading level0 col1\" >Calc</th>\n",
       "      <th id=\"T_fa656_level0_col2\" class=\"col_heading level0 col2\" >Fwd</th>\n",
       "    </tr>\n",
       "    <tr>\n",
       "      <th class=\"index_name level0\" >Metric</th>\n",
       "      <th class=\"blank col0\" >&nbsp;</th>\n",
       "      <th class=\"blank col1\" >&nbsp;</th>\n",
       "      <th class=\"blank col2\" >&nbsp;</th>\n",
       "    </tr>\n",
       "  </thead>\n",
       "  <tbody>\n",
       "    <tr>\n",
       "      <th id=\"T_fa656_level0_row0\" class=\"row_heading level0 row0\" >Group Portfolio Gain</th>\n",
       "      <td id=\"T_fa656_row0_col0\" class=\"data row0 col0\" >+2.38%</td>\n",
       "      <td id=\"T_fa656_row0_col1\" class=\"data row0 col1\" >+2.18%</td>\n",
       "      <td id=\"T_fa656_row0_col2\" class=\"data row0 col2\" >+0.20%</td>\n",
       "    </tr>\n",
       "    <tr>\n",
       "      <th id=\"T_fa656_level0_row1\" class=\"row_heading level0 row1\" >Benchmark (VOO) Gain</th>\n",
       "      <td id=\"T_fa656_row1_col0\" class=\"data row1 col0\" >+7.13%</td>\n",
       "      <td id=\"T_fa656_row1_col1\" class=\"data row1 col1\" >+17.31%</td>\n",
       "      <td id=\"T_fa656_row1_col2\" class=\"data row1 col2\" >-1.08%</td>\n",
       "    </tr>\n",
       "    <tr>\n",
       "      <th id=\"T_fa656_level0_row2\" class=\"row_heading level0 row2\" >Gain Delta (vs Bm)</th>\n",
       "      <td id=\"T_fa656_row2_col0\" class=\"data row2 col0\" >-4.75%</td>\n",
       "      <td id=\"T_fa656_row2_col1\" class=\"data row2 col1\" >-15.13%</td>\n",
       "      <td id=\"T_fa656_row2_col2\" class=\"data row2 col2\" >+1.28%</td>\n",
       "    </tr>\n",
       "    <tr>\n",
       "      <th id=\"T_fa656_level0_row3\" class=\"row_heading level0 row3\" >Group Portfolio Sharpe</th>\n",
       "      <td id=\"T_fa656_row3_col0\" class=\"data row3 col0\" >+3.35</td>\n",
       "      <td id=\"T_fa656_row3_col1\" class=\"data row3 col1\" >+3.18</td>\n",
       "      <td id=\"T_fa656_row3_col2\" class=\"data row3 col2\" >+15.63</td>\n",
       "    </tr>\n",
       "    <tr>\n",
       "      <th id=\"T_fa656_level0_row4\" class=\"row_heading level0 row4\" >Benchmark (VOO) Sharpe</th>\n",
       "      <td id=\"T_fa656_row4_col0\" class=\"data row4 col0\" >+2.34</td>\n",
       "      <td id=\"T_fa656_row4_col1\" class=\"data row4 col1\" >+2.34</td>\n",
       "      <td id=\"T_fa656_row4_col2\" class=\"data row4 col2\" >-10.35</td>\n",
       "    </tr>\n",
       "    <tr>\n",
       "      <th id=\"T_fa656_level0_row5\" class=\"row_heading level0 row5\" >Sharpe Delta (vs Bm)</th>\n",
       "      <td id=\"T_fa656_row5_col0\" class=\"data row5 col0\" >+1.01</td>\n",
       "      <td id=\"T_fa656_row5_col1\" class=\"data row5 col1\" >+0.84</td>\n",
       "      <td id=\"T_fa656_row5_col2\" class=\"data row5 col2\" >+25.98</td>\n",
       "    </tr>\n",
       "    <tr>\n",
       "      <th id=\"T_fa656_level0_row6\" class=\"row_heading level0 row6\" >Group Portfolio Sharpe (ATR)</th>\n",
       "      <td id=\"T_fa656_row6_col0\" class=\"data row6 col0\" >+0.5673</td>\n",
       "      <td id=\"T_fa656_row6_col1\" class=\"data row6 col1\" >+0.5739</td>\n",
       "      <td id=\"T_fa656_row6_col2\" class=\"data row6 col2\" >+1.4803</td>\n",
       "    </tr>\n",
       "    <tr>\n",
       "      <th id=\"T_fa656_level0_row7\" class=\"row_heading level0 row7\" >Benchmark (VOO) Sharpe (ATR)</th>\n",
       "      <td id=\"T_fa656_row7_col0\" class=\"data row7 col0\" >+0.1093</td>\n",
       "      <td id=\"T_fa656_row7_col1\" class=\"data row7 col1\" >+0.1063</td>\n",
       "      <td id=\"T_fa656_row7_col2\" class=\"data row7 col2\" >-0.7303</td>\n",
       "    </tr>\n",
       "    <tr>\n",
       "      <th id=\"T_fa656_level0_row8\" class=\"row_heading level0 row8\" >Sharpe (ATR) Delta (vs Bm)</th>\n",
       "      <td id=\"T_fa656_row8_col0\" class=\"data row8 col0\" >+0.4580</td>\n",
       "      <td id=\"T_fa656_row8_col1\" class=\"data row8 col1\" >+0.4676</td>\n",
       "      <td id=\"T_fa656_row8_col2\" class=\"data row8 col2\" >+2.2107</td>\n",
       "    </tr>\n",
       "  </tbody>\n",
       "</table>\n"
      ],
      "text/plain": [
       "<pandas.io.formats.style.Styler at 0x1de0fb0bed0>"
      ]
     },
     "metadata": {},
     "output_type": "display_data"
    },
    {
     "name": "stdout",
     "output_type": "stream",
     "text": [
      "\n",
      "✅ Detailed group verification data exported to 'verification_group_tickers_20230401.csv'\n"
     ]
    }
   ],
   "source": [
    "verify_group_tickers_walk_forward_calculation(df_OHLCV, \n",
    "                                              tickers_to_verify=plotted_tickers,\n",
    "                                              benchmark_ticker=benchmark_ticker,\n",
    "                                              start_date=test_start_date, \n",
    "                                              calc_period=test_calc_period, \n",
    "                                              fwd_period=test_fwd_period, \n",
    "                                              export_csv=True)"
   ]
  },
  {
   "cell_type": "code",
   "execution_count": 8,
   "id": "52aec1fd",
   "metadata": {},
   "outputs": [
    {
     "name": "stdout",
     "output_type": "stream",
     "text": [
      "--- Starting Individual Ticker Verification ---\n",
      "\n",
      "================================================================================\n",
      "--- Verifying Ticker: SGOV ---\n",
      "================================================================================\n"
     ]
    },
    {
     "data": {
      "text/markdown": [
       "## Verification Report for Ticker Ranking: `SGOV`"
      ],
      "text/plain": [
       "<IPython.core.display.Markdown object>"
      ]
     },
     "metadata": {},
     "output_type": "display_data"
    },
    {
     "data": {
      "text/markdown": [
       "**Analysis Start Date:** `2023-04-01`"
      ],
      "text/plain": [
       "<IPython.core.display.Markdown object>"
      ]
     },
     "metadata": {},
     "output_type": "display_data"
    },
    {
     "data": {
      "text/markdown": [
       "**Requested Calculation Period:** `2023-04-01` to `2023-07-01`"
      ],
      "text/plain": [
       "<IPython.core.display.Markdown object>"
      ]
     },
     "metadata": {},
     "output_type": "display_data"
    },
    {
     "data": {
      "text/markdown": [
       "**Requested Forward Period:**   `2023-07-01` to `2023-07-08`"
      ],
      "text/plain": [
       "<IPython.core.display.Markdown object>"
      ]
     },
     "metadata": {},
     "output_type": "display_data"
    },
    {
     "data": {
      "text/markdown": [
       "### A. Calculation Period Analysis (for Ranking Metrics)"
      ],
      "text/plain": [
       "<IPython.core.display.Markdown object>"
      ]
     },
     "metadata": {},
     "output_type": "display_data"
    },
    {
     "data": {
      "text/markdown": [
       "**Actual Dates Used:** `2023-04-03` to `2023-06-30`"
      ],
      "text/plain": [
       "<IPython.core.display.Markdown object>"
      ]
     },
     "metadata": {},
     "output_type": "display_data"
    },
    {
     "data": {
      "text/markdown": [
       "#### `CalcGain` Verification:"
      ],
      "text/plain": [
       "<IPython.core.display.Markdown object>"
      ]
     },
     "metadata": {},
     "output_type": "display_data"
    },
    {
     "name": "stdout",
     "output_type": "stream",
     "text": [
      "  - Calc Start Price: $89.17\n",
      "  - Calc End Price:   $90.26  <-- 'CalcPrice'\n",
      "  - CalcGain = 1.23%\n"
     ]
    },
    {
     "data": {
      "text/markdown": [
       "#### `MetricValue` Verification:"
      ],
      "text/plain": [
       "<IPython.core.display.Markdown object>"
      ]
     },
     "metadata": {},
     "output_type": "display_data"
    },
    {
     "name": "stdout",
     "output_type": "stream",
     "text": [
      "\n",
      "1. Price Metric:\n",
      "   - Formula: Last Price / First Price = 1.0123\n",
      "\n",
      "2. Sharpe Metric:\n",
      "   - Mean Daily Return: 0.000200\n",
      "   - Std Dev Daily Return: 0.000178\n",
      "   - Annualized Sharpe = 17.8216\n",
      "\n",
      "3. Sharpe (ATR) Metric:\n",
      "   - Mean Daily Return: 0.000200 (same as above)\n",
      "   - Average ATR Percent (ATRP): 0.000272\n",
      "   - Sharpe (ATR) = 0.7363\n"
     ]
    },
    {
     "data": {
      "text/markdown": [
       "\n",
       "### B. Forward Period Analysis (`FwdGain`)"
      ],
      "text/plain": [
       "<IPython.core.display.Markdown object>"
      ]
     },
     "metadata": {},
     "output_type": "display_data"
    },
    {
     "name": "stdout",
     "output_type": "stream",
     "text": [
      "  - Fwd Start Price (Calc End Price): $90.26\n",
      "  - Fwd End Price: $90.36\n",
      "  - FwdGain = 0.11%\n"
     ]
    },
    {
     "data": {
      "text/markdown": [
       "\n",
       "### C. Final Summary Tables"
      ],
      "text/plain": [
       "<IPython.core.display.Markdown object>"
      ]
     },
     "metadata": {},
     "output_type": "display_data"
    },
    {
     "data": {
      "text/markdown": [
       "#### Ranking Metric Values"
      ],
      "text/plain": [
       "<IPython.core.display.Markdown object>"
      ]
     },
     "metadata": {},
     "output_type": "display_data"
    },
    {
     "data": {
      "text/html": [
       "<style type=\"text/css\">\n",
       "</style>\n",
       "<table id=\"T_6c704\">\n",
       "  <thead>\n",
       "    <tr>\n",
       "      <th id=\"T_6c704_level0_col0\" class=\"col_heading level0 col0\" >Metric</th>\n",
       "      <th id=\"T_6c704_level0_col1\" class=\"col_heading level0 col1\" >Calculated Value</th>\n",
       "      <th id=\"T_6c704_level0_col2\" class=\"col_heading level0 col2\" >Corresponds To</th>\n",
       "    </tr>\n",
       "  </thead>\n",
       "  <tbody>\n",
       "    <tr>\n",
       "      <td id=\"T_6c704_row0_col0\" class=\"data row0 col0\" >Price</td>\n",
       "      <td id=\"T_6c704_row0_col1\" class=\"data row0 col1\" >1.0123</td>\n",
       "      <td id=\"T_6c704_row0_col2\" class=\"data row0 col2\" >`MetricValue`</td>\n",
       "    </tr>\n",
       "    <tr>\n",
       "      <td id=\"T_6c704_row1_col0\" class=\"data row1 col0\" >Sharpe</td>\n",
       "      <td id=\"T_6c704_row1_col1\" class=\"data row1 col1\" >17.8216</td>\n",
       "      <td id=\"T_6c704_row1_col2\" class=\"data row1 col2\" >`MetricValue`</td>\n",
       "    </tr>\n",
       "    <tr>\n",
       "      <td id=\"T_6c704_row2_col0\" class=\"data row2 col0\" >Sharpe (ATR)</td>\n",
       "      <td id=\"T_6c704_row2_col1\" class=\"data row2 col1\" >0.7363</td>\n",
       "      <td id=\"T_6c704_row2_col2\" class=\"data row2 col2\" >`MetricValue`</td>\n",
       "    </tr>\n",
       "  </tbody>\n",
       "</table>\n"
      ],
      "text/plain": [
       "<pandas.io.formats.style.Styler at 0x1de0fb0aad0>"
      ]
     },
     "metadata": {},
     "output_type": "display_data"
    },
    {
     "data": {
      "text/markdown": [
       "#### Gain Values"
      ],
      "text/plain": [
       "<IPython.core.display.Markdown object>"
      ]
     },
     "metadata": {},
     "output_type": "display_data"
    },
    {
     "data": {
      "text/html": [
       "<style type=\"text/css\">\n",
       "</style>\n",
       "<table id=\"T_40b86\">\n",
       "  <thead>\n",
       "    <tr>\n",
       "      <th id=\"T_40b86_level0_col0\" class=\"col_heading level0 col0\" >Gain Metric</th>\n",
       "      <th id=\"T_40b86_level0_col1\" class=\"col_heading level0 col1\" >Gain Value</th>\n",
       "      <th id=\"T_40b86_level0_col2\" class=\"col_heading level0 col2\" >Corresponds To</th>\n",
       "    </tr>\n",
       "  </thead>\n",
       "  <tbody>\n",
       "    <tr>\n",
       "      <td id=\"T_40b86_row0_col0\" class=\"data row0 col0\" >Calc Period Gain</td>\n",
       "      <td id=\"T_40b86_row0_col1\" class=\"data row0 col1\" >1.23%</td>\n",
       "      <td id=\"T_40b86_row0_col2\" class=\"data row0 col2\" >`CalcGain`</td>\n",
       "    </tr>\n",
       "    <tr>\n",
       "      <td id=\"T_40b86_row1_col0\" class=\"data row1 col0\" >Forward Period Gain</td>\n",
       "      <td id=\"T_40b86_row1_col1\" class=\"data row1 col1\" >0.11%</td>\n",
       "      <td id=\"T_40b86_row1_col2\" class=\"data row1 col2\" >`FwdGain`</td>\n",
       "    </tr>\n",
       "  </tbody>\n",
       "</table>\n"
      ],
      "text/plain": [
       "<pandas.io.formats.style.Styler at 0x1de156155d0>"
      ]
     },
     "metadata": {},
     "output_type": "display_data"
    },
    {
     "name": "stdout",
     "output_type": "stream",
     "text": [
      "\n",
      "✅ Detailed ticker data exported to 'verification_ticker_SGOV_20230401.csv'\n",
      "\n",
      "================================================================================\n",
      "--- Verifying Ticker: FER ---\n",
      "================================================================================\n"
     ]
    },
    {
     "data": {
      "text/markdown": [
       "## Verification Report for Ticker Ranking: `FER`"
      ],
      "text/plain": [
       "<IPython.core.display.Markdown object>"
      ]
     },
     "metadata": {},
     "output_type": "display_data"
    },
    {
     "data": {
      "text/markdown": [
       "**Analysis Start Date:** `2023-04-01`"
      ],
      "text/plain": [
       "<IPython.core.display.Markdown object>"
      ]
     },
     "metadata": {},
     "output_type": "display_data"
    },
    {
     "data": {
      "text/markdown": [
       "**Requested Calculation Period:** `2023-04-01` to `2023-07-01`"
      ],
      "text/plain": [
       "<IPython.core.display.Markdown object>"
      ]
     },
     "metadata": {},
     "output_type": "display_data"
    },
    {
     "data": {
      "text/markdown": [
       "**Requested Forward Period:**   `2023-07-01` to `2023-07-08`"
      ],
      "text/plain": [
       "<IPython.core.display.Markdown object>"
      ]
     },
     "metadata": {},
     "output_type": "display_data"
    },
    {
     "data": {
      "text/markdown": [
       "### A. Calculation Period Analysis (for Ranking Metrics)"
      ],
      "text/plain": [
       "<IPython.core.display.Markdown object>"
      ]
     },
     "metadata": {},
     "output_type": "display_data"
    },
    {
     "data": {
      "text/markdown": [
       "**Actual Dates Used:** `2023-04-03` to `2023-06-30`"
      ],
      "text/plain": [
       "<IPython.core.display.Markdown object>"
      ]
     },
     "metadata": {},
     "output_type": "display_data"
    },
    {
     "data": {
      "text/markdown": [
       "#### `CalcGain` Verification:"
      ],
      "text/plain": [
       "<IPython.core.display.Markdown object>"
      ]
     },
     "metadata": {},
     "output_type": "display_data"
    },
    {
     "name": "stdout",
     "output_type": "stream",
     "text": [
      "  - Calc Start Price: $26.18\n",
      "  - Calc End Price:   $28.97  <-- 'CalcPrice'\n",
      "  - CalcGain = 10.69%\n"
     ]
    },
    {
     "data": {
      "text/markdown": [
       "#### `MetricValue` Verification:"
      ],
      "text/plain": [
       "<IPython.core.display.Markdown object>"
      ]
     },
     "metadata": {},
     "output_type": "display_data"
    },
    {
     "name": "stdout",
     "output_type": "stream",
     "text": [
      "\n",
      "1. Price Metric:\n",
      "   - Formula: Last Price / First Price = 1.1069\n",
      "\n",
      "2. Sharpe Metric:\n",
      "   - Mean Daily Return: 0.001798\n",
      "   - Std Dev Daily Return: 0.016568\n",
      "   - Annualized Sharpe = 1.7229\n",
      "\n",
      "3. Sharpe (ATR) Metric:\n",
      "   - Mean Daily Return: 0.001798 (same as above)\n",
      "   - Average ATR Percent (ATRP): 0.002868\n",
      "   - Sharpe (ATR) = 0.6269\n"
     ]
    },
    {
     "data": {
      "text/markdown": [
       "\n",
       "### B. Forward Period Analysis (`FwdGain`)"
      ],
      "text/plain": [
       "<IPython.core.display.Markdown object>"
      ]
     },
     "metadata": {},
     "output_type": "display_data"
    },
    {
     "name": "stdout",
     "output_type": "stream",
     "text": [
      "  - Fwd Start Price (Calc End Price): $28.97\n",
      "  - Fwd End Price: $29.27\n",
      "  - FwdGain = 1.03%\n"
     ]
    },
    {
     "data": {
      "text/markdown": [
       "\n",
       "### C. Final Summary Tables"
      ],
      "text/plain": [
       "<IPython.core.display.Markdown object>"
      ]
     },
     "metadata": {},
     "output_type": "display_data"
    },
    {
     "data": {
      "text/markdown": [
       "#### Ranking Metric Values"
      ],
      "text/plain": [
       "<IPython.core.display.Markdown object>"
      ]
     },
     "metadata": {},
     "output_type": "display_data"
    },
    {
     "data": {
      "text/html": [
       "<style type=\"text/css\">\n",
       "</style>\n",
       "<table id=\"T_c0113\">\n",
       "  <thead>\n",
       "    <tr>\n",
       "      <th id=\"T_c0113_level0_col0\" class=\"col_heading level0 col0\" >Metric</th>\n",
       "      <th id=\"T_c0113_level0_col1\" class=\"col_heading level0 col1\" >Calculated Value</th>\n",
       "      <th id=\"T_c0113_level0_col2\" class=\"col_heading level0 col2\" >Corresponds To</th>\n",
       "    </tr>\n",
       "  </thead>\n",
       "  <tbody>\n",
       "    <tr>\n",
       "      <td id=\"T_c0113_row0_col0\" class=\"data row0 col0\" >Price</td>\n",
       "      <td id=\"T_c0113_row0_col1\" class=\"data row0 col1\" >1.1069</td>\n",
       "      <td id=\"T_c0113_row0_col2\" class=\"data row0 col2\" >`MetricValue`</td>\n",
       "    </tr>\n",
       "    <tr>\n",
       "      <td id=\"T_c0113_row1_col0\" class=\"data row1 col0\" >Sharpe</td>\n",
       "      <td id=\"T_c0113_row1_col1\" class=\"data row1 col1\" >1.7229</td>\n",
       "      <td id=\"T_c0113_row1_col2\" class=\"data row1 col2\" >`MetricValue`</td>\n",
       "    </tr>\n",
       "    <tr>\n",
       "      <td id=\"T_c0113_row2_col0\" class=\"data row2 col0\" >Sharpe (ATR)</td>\n",
       "      <td id=\"T_c0113_row2_col1\" class=\"data row2 col1\" >0.6269</td>\n",
       "      <td id=\"T_c0113_row2_col2\" class=\"data row2 col2\" >`MetricValue`</td>\n",
       "    </tr>\n",
       "  </tbody>\n",
       "</table>\n"
      ],
      "text/plain": [
       "<pandas.io.formats.style.Styler at 0x1de0eeff1d0>"
      ]
     },
     "metadata": {},
     "output_type": "display_data"
    },
    {
     "data": {
      "text/markdown": [
       "#### Gain Values"
      ],
      "text/plain": [
       "<IPython.core.display.Markdown object>"
      ]
     },
     "metadata": {},
     "output_type": "display_data"
    },
    {
     "data": {
      "text/html": [
       "<style type=\"text/css\">\n",
       "</style>\n",
       "<table id=\"T_d0a19\">\n",
       "  <thead>\n",
       "    <tr>\n",
       "      <th id=\"T_d0a19_level0_col0\" class=\"col_heading level0 col0\" >Gain Metric</th>\n",
       "      <th id=\"T_d0a19_level0_col1\" class=\"col_heading level0 col1\" >Gain Value</th>\n",
       "      <th id=\"T_d0a19_level0_col2\" class=\"col_heading level0 col2\" >Corresponds To</th>\n",
       "    </tr>\n",
       "  </thead>\n",
       "  <tbody>\n",
       "    <tr>\n",
       "      <td id=\"T_d0a19_row0_col0\" class=\"data row0 col0\" >Calc Period Gain</td>\n",
       "      <td id=\"T_d0a19_row0_col1\" class=\"data row0 col1\" >10.69%</td>\n",
       "      <td id=\"T_d0a19_row0_col2\" class=\"data row0 col2\" >`CalcGain`</td>\n",
       "    </tr>\n",
       "    <tr>\n",
       "      <td id=\"T_d0a19_row1_col0\" class=\"data row1 col0\" >Forward Period Gain</td>\n",
       "      <td id=\"T_d0a19_row1_col1\" class=\"data row1 col1\" >1.03%</td>\n",
       "      <td id=\"T_d0a19_row1_col2\" class=\"data row1 col2\" >`FwdGain`</td>\n",
       "    </tr>\n",
       "  </tbody>\n",
       "</table>\n"
      ],
      "text/plain": [
       "<pandas.io.formats.style.Styler at 0x1de155d6950>"
      ]
     },
     "metadata": {},
     "output_type": "display_data"
    },
    {
     "name": "stdout",
     "output_type": "stream",
     "text": [
      "\n",
      "✅ Detailed ticker data exported to 'verification_ticker_FER_20230401.csv'\n",
      "\n",
      "================================================================================\n",
      "--- Verifying Ticker: SHV ---\n",
      "================================================================================\n"
     ]
    },
    {
     "data": {
      "text/markdown": [
       "## Verification Report for Ticker Ranking: `SHV`"
      ],
      "text/plain": [
       "<IPython.core.display.Markdown object>"
      ]
     },
     "metadata": {},
     "output_type": "display_data"
    },
    {
     "data": {
      "text/markdown": [
       "**Analysis Start Date:** `2023-04-01`"
      ],
      "text/plain": [
       "<IPython.core.display.Markdown object>"
      ]
     },
     "metadata": {},
     "output_type": "display_data"
    },
    {
     "data": {
      "text/markdown": [
       "**Requested Calculation Period:** `2023-04-01` to `2023-07-01`"
      ],
      "text/plain": [
       "<IPython.core.display.Markdown object>"
      ]
     },
     "metadata": {},
     "output_type": "display_data"
    },
    {
     "data": {
      "text/markdown": [
       "**Requested Forward Period:**   `2023-07-01` to `2023-07-08`"
      ],
      "text/plain": [
       "<IPython.core.display.Markdown object>"
      ]
     },
     "metadata": {},
     "output_type": "display_data"
    },
    {
     "data": {
      "text/markdown": [
       "### A. Calculation Period Analysis (for Ranking Metrics)"
      ],
      "text/plain": [
       "<IPython.core.display.Markdown object>"
      ]
     },
     "metadata": {},
     "output_type": "display_data"
    },
    {
     "data": {
      "text/markdown": [
       "**Actual Dates Used:** `2023-04-03` to `2023-06-30`"
      ],
      "text/plain": [
       "<IPython.core.display.Markdown object>"
      ]
     },
     "metadata": {},
     "output_type": "display_data"
    },
    {
     "data": {
      "text/markdown": [
       "#### `CalcGain` Verification:"
      ],
      "text/plain": [
       "<IPython.core.display.Markdown object>"
      ]
     },
     "metadata": {},
     "output_type": "display_data"
    },
    {
     "name": "stdout",
     "output_type": "stream",
     "text": [
      "  - Calc Start Price: $98.08\n",
      "  - Calc End Price:   $99.18  <-- 'CalcPrice'\n",
      "  - CalcGain = 1.12%\n"
     ]
    },
    {
     "data": {
      "text/markdown": [
       "#### `MetricValue` Verification:"
      ],
      "text/plain": [
       "<IPython.core.display.Markdown object>"
      ]
     },
     "metadata": {},
     "output_type": "display_data"
    },
    {
     "name": "stdout",
     "output_type": "stream",
     "text": [
      "\n",
      "1. Price Metric:\n",
      "   - Formula: Last Price / First Price = 1.0112\n",
      "\n",
      "2. Sharpe Metric:\n",
      "   - Mean Daily Return: 0.000183\n",
      "   - Std Dev Daily Return: 0.000202\n",
      "   - Annualized Sharpe = 14.3998\n",
      "\n",
      "3. Sharpe (ATR) Metric:\n",
      "   - Mean Daily Return: 0.000183 (same as above)\n",
      "   - Average ATR Percent (ATRP): 0.000374\n",
      "   - Sharpe (ATR) = 0.4887\n"
     ]
    },
    {
     "data": {
      "text/markdown": [
       "\n",
       "### B. Forward Period Analysis (`FwdGain`)"
      ],
      "text/plain": [
       "<IPython.core.display.Markdown object>"
      ]
     },
     "metadata": {},
     "output_type": "display_data"
    },
    {
     "name": "stdout",
     "output_type": "stream",
     "text": [
      "  - Fwd Start Price (Calc End Price): $99.18\n",
      "  - Fwd End Price: $99.24\n",
      "  - FwdGain = 0.07%\n"
     ]
    },
    {
     "data": {
      "text/markdown": [
       "\n",
       "### C. Final Summary Tables"
      ],
      "text/plain": [
       "<IPython.core.display.Markdown object>"
      ]
     },
     "metadata": {},
     "output_type": "display_data"
    },
    {
     "data": {
      "text/markdown": [
       "#### Ranking Metric Values"
      ],
      "text/plain": [
       "<IPython.core.display.Markdown object>"
      ]
     },
     "metadata": {},
     "output_type": "display_data"
    },
    {
     "data": {
      "text/html": [
       "<style type=\"text/css\">\n",
       "</style>\n",
       "<table id=\"T_d7eac\">\n",
       "  <thead>\n",
       "    <tr>\n",
       "      <th id=\"T_d7eac_level0_col0\" class=\"col_heading level0 col0\" >Metric</th>\n",
       "      <th id=\"T_d7eac_level0_col1\" class=\"col_heading level0 col1\" >Calculated Value</th>\n",
       "      <th id=\"T_d7eac_level0_col2\" class=\"col_heading level0 col2\" >Corresponds To</th>\n",
       "    </tr>\n",
       "  </thead>\n",
       "  <tbody>\n",
       "    <tr>\n",
       "      <td id=\"T_d7eac_row0_col0\" class=\"data row0 col0\" >Price</td>\n",
       "      <td id=\"T_d7eac_row0_col1\" class=\"data row0 col1\" >1.0112</td>\n",
       "      <td id=\"T_d7eac_row0_col2\" class=\"data row0 col2\" >`MetricValue`</td>\n",
       "    </tr>\n",
       "    <tr>\n",
       "      <td id=\"T_d7eac_row1_col0\" class=\"data row1 col0\" >Sharpe</td>\n",
       "      <td id=\"T_d7eac_row1_col1\" class=\"data row1 col1\" >14.3998</td>\n",
       "      <td id=\"T_d7eac_row1_col2\" class=\"data row1 col2\" >`MetricValue`</td>\n",
       "    </tr>\n",
       "    <tr>\n",
       "      <td id=\"T_d7eac_row2_col0\" class=\"data row2 col0\" >Sharpe (ATR)</td>\n",
       "      <td id=\"T_d7eac_row2_col1\" class=\"data row2 col1\" >0.4887</td>\n",
       "      <td id=\"T_d7eac_row2_col2\" class=\"data row2 col2\" >`MetricValue`</td>\n",
       "    </tr>\n",
       "  </tbody>\n",
       "</table>\n"
      ],
      "text/plain": [
       "<pandas.io.formats.style.Styler at 0x1de1558b0d0>"
      ]
     },
     "metadata": {},
     "output_type": "display_data"
    },
    {
     "data": {
      "text/markdown": [
       "#### Gain Values"
      ],
      "text/plain": [
       "<IPython.core.display.Markdown object>"
      ]
     },
     "metadata": {},
     "output_type": "display_data"
    },
    {
     "data": {
      "text/html": [
       "<style type=\"text/css\">\n",
       "</style>\n",
       "<table id=\"T_67478\">\n",
       "  <thead>\n",
       "    <tr>\n",
       "      <th id=\"T_67478_level0_col0\" class=\"col_heading level0 col0\" >Gain Metric</th>\n",
       "      <th id=\"T_67478_level0_col1\" class=\"col_heading level0 col1\" >Gain Value</th>\n",
       "      <th id=\"T_67478_level0_col2\" class=\"col_heading level0 col2\" >Corresponds To</th>\n",
       "    </tr>\n",
       "  </thead>\n",
       "  <tbody>\n",
       "    <tr>\n",
       "      <td id=\"T_67478_row0_col0\" class=\"data row0 col0\" >Calc Period Gain</td>\n",
       "      <td id=\"T_67478_row0_col1\" class=\"data row0 col1\" >1.12%</td>\n",
       "      <td id=\"T_67478_row0_col2\" class=\"data row0 col2\" >`CalcGain`</td>\n",
       "    </tr>\n",
       "    <tr>\n",
       "      <td id=\"T_67478_row1_col0\" class=\"data row1 col0\" >Forward Period Gain</td>\n",
       "      <td id=\"T_67478_row1_col1\" class=\"data row1 col1\" >0.07%</td>\n",
       "      <td id=\"T_67478_row1_col2\" class=\"data row1 col2\" >`FwdGain`</td>\n",
       "    </tr>\n",
       "  </tbody>\n",
       "</table>\n"
      ],
      "text/plain": [
       "<pandas.io.formats.style.Styler at 0x1de1558b0d0>"
      ]
     },
     "metadata": {},
     "output_type": "display_data"
    },
    {
     "name": "stdout",
     "output_type": "stream",
     "text": [
      "\n",
      "✅ Detailed ticker data exported to 'verification_ticker_SHV_20230401.csv'\n",
      "\n",
      "================================================================================\n",
      "--- Verifying Ticker: BIL ---\n",
      "================================================================================\n"
     ]
    },
    {
     "data": {
      "text/markdown": [
       "## Verification Report for Ticker Ranking: `BIL`"
      ],
      "text/plain": [
       "<IPython.core.display.Markdown object>"
      ]
     },
     "metadata": {},
     "output_type": "display_data"
    },
    {
     "data": {
      "text/markdown": [
       "**Analysis Start Date:** `2023-04-01`"
      ],
      "text/plain": [
       "<IPython.core.display.Markdown object>"
      ]
     },
     "metadata": {},
     "output_type": "display_data"
    },
    {
     "data": {
      "text/markdown": [
       "**Requested Calculation Period:** `2023-04-01` to `2023-07-01`"
      ],
      "text/plain": [
       "<IPython.core.display.Markdown object>"
      ]
     },
     "metadata": {},
     "output_type": "display_data"
    },
    {
     "data": {
      "text/markdown": [
       "**Requested Forward Period:**   `2023-07-01` to `2023-07-08`"
      ],
      "text/plain": [
       "<IPython.core.display.Markdown object>"
      ]
     },
     "metadata": {},
     "output_type": "display_data"
    },
    {
     "data": {
      "text/markdown": [
       "### A. Calculation Period Analysis (for Ranking Metrics)"
      ],
      "text/plain": [
       "<IPython.core.display.Markdown object>"
      ]
     },
     "metadata": {},
     "output_type": "display_data"
    },
    {
     "data": {
      "text/markdown": [
       "**Actual Dates Used:** `2023-04-03` to `2023-06-30`"
      ],
      "text/plain": [
       "<IPython.core.display.Markdown object>"
      ]
     },
     "metadata": {},
     "output_type": "display_data"
    },
    {
     "data": {
      "text/markdown": [
       "#### `CalcGain` Verification:"
      ],
      "text/plain": [
       "<IPython.core.display.Markdown object>"
      ]
     },
     "metadata": {},
     "output_type": "display_data"
    },
    {
     "name": "stdout",
     "output_type": "stream",
     "text": [
      "  - Calc Start Price: $81.43\n",
      "  - Calc End Price:   $82.39  <-- 'CalcPrice'\n",
      "  - CalcGain = 1.18%\n"
     ]
    },
    {
     "data": {
      "text/markdown": [
       "#### `MetricValue` Verification:"
      ],
      "text/plain": [
       "<IPython.core.display.Markdown object>"
      ]
     },
     "metadata": {},
     "output_type": "display_data"
    },
    {
     "name": "stdout",
     "output_type": "stream",
     "text": [
      "\n",
      "1. Price Metric:\n",
      "   - Formula: Last Price / First Price = 1.0118\n",
      "\n",
      "2. Sharpe Metric:\n",
      "   - Mean Daily Return: 0.000192\n",
      "   - Std Dev Daily Return: 0.000203\n",
      "   - Annualized Sharpe = 15.0479\n",
      "\n",
      "3. Sharpe (ATR) Metric:\n",
      "   - Mean Daily Return: 0.000192 (same as above)\n",
      "   - Average ATR Percent (ATRP): 0.000291\n",
      "   - Sharpe (ATR) = 0.6597\n"
     ]
    },
    {
     "data": {
      "text/markdown": [
       "\n",
       "### B. Forward Period Analysis (`FwdGain`)"
      ],
      "text/plain": [
       "<IPython.core.display.Markdown object>"
      ]
     },
     "metadata": {},
     "output_type": "display_data"
    },
    {
     "name": "stdout",
     "output_type": "stream",
     "text": [
      "  - Fwd Start Price (Calc End Price): $82.39\n",
      "  - Fwd End Price: $82.46\n",
      "  - FwdGain = 0.08%\n"
     ]
    },
    {
     "data": {
      "text/markdown": [
       "\n",
       "### C. Final Summary Tables"
      ],
      "text/plain": [
       "<IPython.core.display.Markdown object>"
      ]
     },
     "metadata": {},
     "output_type": "display_data"
    },
    {
     "data": {
      "text/markdown": [
       "#### Ranking Metric Values"
      ],
      "text/plain": [
       "<IPython.core.display.Markdown object>"
      ]
     },
     "metadata": {},
     "output_type": "display_data"
    },
    {
     "data": {
      "text/html": [
       "<style type=\"text/css\">\n",
       "</style>\n",
       "<table id=\"T_bc2f5\">\n",
       "  <thead>\n",
       "    <tr>\n",
       "      <th id=\"T_bc2f5_level0_col0\" class=\"col_heading level0 col0\" >Metric</th>\n",
       "      <th id=\"T_bc2f5_level0_col1\" class=\"col_heading level0 col1\" >Calculated Value</th>\n",
       "      <th id=\"T_bc2f5_level0_col2\" class=\"col_heading level0 col2\" >Corresponds To</th>\n",
       "    </tr>\n",
       "  </thead>\n",
       "  <tbody>\n",
       "    <tr>\n",
       "      <td id=\"T_bc2f5_row0_col0\" class=\"data row0 col0\" >Price</td>\n",
       "      <td id=\"T_bc2f5_row0_col1\" class=\"data row0 col1\" >1.0118</td>\n",
       "      <td id=\"T_bc2f5_row0_col2\" class=\"data row0 col2\" >`MetricValue`</td>\n",
       "    </tr>\n",
       "    <tr>\n",
       "      <td id=\"T_bc2f5_row1_col0\" class=\"data row1 col0\" >Sharpe</td>\n",
       "      <td id=\"T_bc2f5_row1_col1\" class=\"data row1 col1\" >15.0479</td>\n",
       "      <td id=\"T_bc2f5_row1_col2\" class=\"data row1 col2\" >`MetricValue`</td>\n",
       "    </tr>\n",
       "    <tr>\n",
       "      <td id=\"T_bc2f5_row2_col0\" class=\"data row2 col0\" >Sharpe (ATR)</td>\n",
       "      <td id=\"T_bc2f5_row2_col1\" class=\"data row2 col1\" >0.6597</td>\n",
       "      <td id=\"T_bc2f5_row2_col2\" class=\"data row2 col2\" >`MetricValue`</td>\n",
       "    </tr>\n",
       "  </tbody>\n",
       "</table>\n"
      ],
      "text/plain": [
       "<pandas.io.formats.style.Styler at 0x1de155faf90>"
      ]
     },
     "metadata": {},
     "output_type": "display_data"
    },
    {
     "data": {
      "text/markdown": [
       "#### Gain Values"
      ],
      "text/plain": [
       "<IPython.core.display.Markdown object>"
      ]
     },
     "metadata": {},
     "output_type": "display_data"
    },
    {
     "data": {
      "text/html": [
       "<style type=\"text/css\">\n",
       "</style>\n",
       "<table id=\"T_0bcef\">\n",
       "  <thead>\n",
       "    <tr>\n",
       "      <th id=\"T_0bcef_level0_col0\" class=\"col_heading level0 col0\" >Gain Metric</th>\n",
       "      <th id=\"T_0bcef_level0_col1\" class=\"col_heading level0 col1\" >Gain Value</th>\n",
       "      <th id=\"T_0bcef_level0_col2\" class=\"col_heading level0 col2\" >Corresponds To</th>\n",
       "    </tr>\n",
       "  </thead>\n",
       "  <tbody>\n",
       "    <tr>\n",
       "      <td id=\"T_0bcef_row0_col0\" class=\"data row0 col0\" >Calc Period Gain</td>\n",
       "      <td id=\"T_0bcef_row0_col1\" class=\"data row0 col1\" >1.18%</td>\n",
       "      <td id=\"T_0bcef_row0_col2\" class=\"data row0 col2\" >`CalcGain`</td>\n",
       "    </tr>\n",
       "    <tr>\n",
       "      <td id=\"T_0bcef_row1_col0\" class=\"data row1 col0\" >Forward Period Gain</td>\n",
       "      <td id=\"T_0bcef_row1_col1\" class=\"data row1 col1\" >0.08%</td>\n",
       "      <td id=\"T_0bcef_row1_col2\" class=\"data row1 col2\" >`FwdGain`</td>\n",
       "    </tr>\n",
       "  </tbody>\n",
       "</table>\n"
      ],
      "text/plain": [
       "<pandas.io.formats.style.Styler at 0x1de0cfb5050>"
      ]
     },
     "metadata": {},
     "output_type": "display_data"
    },
    {
     "name": "stdout",
     "output_type": "stream",
     "text": [
      "\n",
      "✅ Detailed ticker data exported to 'verification_ticker_BIL_20230401.csv'\n",
      "\n",
      "================================================================================\n",
      "--- Verifying Ticker: GBIL ---\n",
      "================================================================================\n"
     ]
    },
    {
     "data": {
      "text/markdown": [
       "## Verification Report for Ticker Ranking: `GBIL`"
      ],
      "text/plain": [
       "<IPython.core.display.Markdown object>"
      ]
     },
     "metadata": {},
     "output_type": "display_data"
    },
    {
     "data": {
      "text/markdown": [
       "**Analysis Start Date:** `2023-04-01`"
      ],
      "text/plain": [
       "<IPython.core.display.Markdown object>"
      ]
     },
     "metadata": {},
     "output_type": "display_data"
    },
    {
     "data": {
      "text/markdown": [
       "**Requested Calculation Period:** `2023-04-01` to `2023-07-01`"
      ],
      "text/plain": [
       "<IPython.core.display.Markdown object>"
      ]
     },
     "metadata": {},
     "output_type": "display_data"
    },
    {
     "data": {
      "text/markdown": [
       "**Requested Forward Period:**   `2023-07-01` to `2023-07-08`"
      ],
      "text/plain": [
       "<IPython.core.display.Markdown object>"
      ]
     },
     "metadata": {},
     "output_type": "display_data"
    },
    {
     "data": {
      "text/markdown": [
       "### A. Calculation Period Analysis (for Ranking Metrics)"
      ],
      "text/plain": [
       "<IPython.core.display.Markdown object>"
      ]
     },
     "metadata": {},
     "output_type": "display_data"
    },
    {
     "data": {
      "text/markdown": [
       "**Actual Dates Used:** `2023-04-03` to `2023-06-30`"
      ],
      "text/plain": [
       "<IPython.core.display.Markdown object>"
      ]
     },
     "metadata": {},
     "output_type": "display_data"
    },
    {
     "data": {
      "text/markdown": [
       "#### `CalcGain` Verification:"
      ],
      "text/plain": [
       "<IPython.core.display.Markdown object>"
      ]
     },
     "metadata": {},
     "output_type": "display_data"
    },
    {
     "name": "stdout",
     "output_type": "stream",
     "text": [
      "  - Calc Start Price: $89.05\n",
      "  - Calc End Price:   $89.97  <-- 'CalcPrice'\n",
      "  - CalcGain = 1.04%\n"
     ]
    },
    {
     "data": {
      "text/markdown": [
       "#### `MetricValue` Verification:"
      ],
      "text/plain": [
       "<IPython.core.display.Markdown object>"
      ]
     },
     "metadata": {},
     "output_type": "display_data"
    },
    {
     "name": "stdout",
     "output_type": "stream",
     "text": [
      "\n",
      "1. Price Metric:\n",
      "   - Formula: Last Price / First Price = 1.0104\n",
      "\n",
      "2. Sharpe Metric:\n",
      "   - Mean Daily Return: 0.000170\n",
      "   - Std Dev Daily Return: 0.000236\n",
      "   - Annualized Sharpe = 11.4479\n",
      "\n",
      "3. Sharpe (ATR) Metric:\n",
      "   - Mean Daily Return: 0.000170 (same as above)\n",
      "   - Average ATR Percent (ATRP): 0.000368\n",
      "   - Sharpe (ATR) = 0.4619\n"
     ]
    },
    {
     "data": {
      "text/markdown": [
       "\n",
       "### B. Forward Period Analysis (`FwdGain`)"
      ],
      "text/plain": [
       "<IPython.core.display.Markdown object>"
      ]
     },
     "metadata": {},
     "output_type": "display_data"
    },
    {
     "name": "stdout",
     "output_type": "stream",
     "text": [
      "  - Fwd Start Price (Calc End Price): $89.97\n",
      "  - Fwd End Price: $90.05\n",
      "  - FwdGain = 0.08%\n"
     ]
    },
    {
     "data": {
      "text/markdown": [
       "\n",
       "### C. Final Summary Tables"
      ],
      "text/plain": [
       "<IPython.core.display.Markdown object>"
      ]
     },
     "metadata": {},
     "output_type": "display_data"
    },
    {
     "data": {
      "text/markdown": [
       "#### Ranking Metric Values"
      ],
      "text/plain": [
       "<IPython.core.display.Markdown object>"
      ]
     },
     "metadata": {},
     "output_type": "display_data"
    },
    {
     "data": {
      "text/html": [
       "<style type=\"text/css\">\n",
       "</style>\n",
       "<table id=\"T_5943f\">\n",
       "  <thead>\n",
       "    <tr>\n",
       "      <th id=\"T_5943f_level0_col0\" class=\"col_heading level0 col0\" >Metric</th>\n",
       "      <th id=\"T_5943f_level0_col1\" class=\"col_heading level0 col1\" >Calculated Value</th>\n",
       "      <th id=\"T_5943f_level0_col2\" class=\"col_heading level0 col2\" >Corresponds To</th>\n",
       "    </tr>\n",
       "  </thead>\n",
       "  <tbody>\n",
       "    <tr>\n",
       "      <td id=\"T_5943f_row0_col0\" class=\"data row0 col0\" >Price</td>\n",
       "      <td id=\"T_5943f_row0_col1\" class=\"data row0 col1\" >1.0104</td>\n",
       "      <td id=\"T_5943f_row0_col2\" class=\"data row0 col2\" >`MetricValue`</td>\n",
       "    </tr>\n",
       "    <tr>\n",
       "      <td id=\"T_5943f_row1_col0\" class=\"data row1 col0\" >Sharpe</td>\n",
       "      <td id=\"T_5943f_row1_col1\" class=\"data row1 col1\" >11.4479</td>\n",
       "      <td id=\"T_5943f_row1_col2\" class=\"data row1 col2\" >`MetricValue`</td>\n",
       "    </tr>\n",
       "    <tr>\n",
       "      <td id=\"T_5943f_row2_col0\" class=\"data row2 col0\" >Sharpe (ATR)</td>\n",
       "      <td id=\"T_5943f_row2_col1\" class=\"data row2 col1\" >0.4619</td>\n",
       "      <td id=\"T_5943f_row2_col2\" class=\"data row2 col2\" >`MetricValue`</td>\n",
       "    </tr>\n",
       "  </tbody>\n",
       "</table>\n"
      ],
      "text/plain": [
       "<pandas.io.formats.style.Styler at 0x1de0fb2d810>"
      ]
     },
     "metadata": {},
     "output_type": "display_data"
    },
    {
     "data": {
      "text/markdown": [
       "#### Gain Values"
      ],
      "text/plain": [
       "<IPython.core.display.Markdown object>"
      ]
     },
     "metadata": {},
     "output_type": "display_data"
    },
    {
     "data": {
      "text/html": [
       "<style type=\"text/css\">\n",
       "</style>\n",
       "<table id=\"T_65695\">\n",
       "  <thead>\n",
       "    <tr>\n",
       "      <th id=\"T_65695_level0_col0\" class=\"col_heading level0 col0\" >Gain Metric</th>\n",
       "      <th id=\"T_65695_level0_col1\" class=\"col_heading level0 col1\" >Gain Value</th>\n",
       "      <th id=\"T_65695_level0_col2\" class=\"col_heading level0 col2\" >Corresponds To</th>\n",
       "    </tr>\n",
       "  </thead>\n",
       "  <tbody>\n",
       "    <tr>\n",
       "      <td id=\"T_65695_row0_col0\" class=\"data row0 col0\" >Calc Period Gain</td>\n",
       "      <td id=\"T_65695_row0_col1\" class=\"data row0 col1\" >1.04%</td>\n",
       "      <td id=\"T_65695_row0_col2\" class=\"data row0 col2\" >`CalcGain`</td>\n",
       "    </tr>\n",
       "    <tr>\n",
       "      <td id=\"T_65695_row1_col0\" class=\"data row1 col0\" >Forward Period Gain</td>\n",
       "      <td id=\"T_65695_row1_col1\" class=\"data row1 col1\" >0.08%</td>\n",
       "      <td id=\"T_65695_row1_col2\" class=\"data row1 col2\" >`FwdGain`</td>\n",
       "    </tr>\n",
       "  </tbody>\n",
       "</table>\n"
      ],
      "text/plain": [
       "<pandas.io.formats.style.Styler at 0x1de15656790>"
      ]
     },
     "metadata": {},
     "output_type": "display_data"
    },
    {
     "name": "stdout",
     "output_type": "stream",
     "text": [
      "\n",
      "✅ Detailed ticker data exported to 'verification_ticker_GBIL_20230401.csv'\n",
      "\n",
      "================================================================================\n",
      "--- Verifying Ticker: TFLO ---\n",
      "================================================================================\n"
     ]
    },
    {
     "data": {
      "text/markdown": [
       "## Verification Report for Ticker Ranking: `TFLO`"
      ],
      "text/plain": [
       "<IPython.core.display.Markdown object>"
      ]
     },
     "metadata": {},
     "output_type": "display_data"
    },
    {
     "data": {
      "text/markdown": [
       "**Analysis Start Date:** `2023-04-01`"
      ],
      "text/plain": [
       "<IPython.core.display.Markdown object>"
      ]
     },
     "metadata": {},
     "output_type": "display_data"
    },
    {
     "data": {
      "text/markdown": [
       "**Requested Calculation Period:** `2023-04-01` to `2023-07-01`"
      ],
      "text/plain": [
       "<IPython.core.display.Markdown object>"
      ]
     },
     "metadata": {},
     "output_type": "display_data"
    },
    {
     "data": {
      "text/markdown": [
       "**Requested Forward Period:**   `2023-07-01` to `2023-07-08`"
      ],
      "text/plain": [
       "<IPython.core.display.Markdown object>"
      ]
     },
     "metadata": {},
     "output_type": "display_data"
    },
    {
     "data": {
      "text/markdown": [
       "### A. Calculation Period Analysis (for Ranking Metrics)"
      ],
      "text/plain": [
       "<IPython.core.display.Markdown object>"
      ]
     },
     "metadata": {},
     "output_type": "display_data"
    },
    {
     "data": {
      "text/markdown": [
       "**Actual Dates Used:** `2023-04-03` to `2023-06-30`"
      ],
      "text/plain": [
       "<IPython.core.display.Markdown object>"
      ]
     },
     "metadata": {},
     "output_type": "display_data"
    },
    {
     "data": {
      "text/markdown": [
       "#### `CalcGain` Verification:"
      ],
      "text/plain": [
       "<IPython.core.display.Markdown object>"
      ]
     },
     "metadata": {},
     "output_type": "display_data"
    },
    {
     "name": "stdout",
     "output_type": "stream",
     "text": [
      "  - Calc Start Price: $44.78\n",
      "  - Calc End Price:   $45.38  <-- 'CalcPrice'\n",
      "  - CalcGain = 1.33%\n"
     ]
    },
    {
     "data": {
      "text/markdown": [
       "#### `MetricValue` Verification:"
      ],
      "text/plain": [
       "<IPython.core.display.Markdown object>"
      ]
     },
     "metadata": {},
     "output_type": "display_data"
    },
    {
     "name": "stdout",
     "output_type": "stream",
     "text": [
      "\n",
      "1. Price Metric:\n",
      "   - Formula: Last Price / First Price = 1.0133\n",
      "\n",
      "2. Sharpe Metric:\n",
      "   - Mean Daily Return: 0.000217\n",
      "   - Std Dev Daily Return: 0.000221\n",
      "   - Annualized Sharpe = 15.6030\n",
      "\n",
      "3. Sharpe (ATR) Metric:\n",
      "   - Mean Daily Return: 0.000217 (same as above)\n",
      "   - Average ATR Percent (ATRP): 0.000349\n",
      "   - Sharpe (ATR) = 0.6230\n"
     ]
    },
    {
     "data": {
      "text/markdown": [
       "\n",
       "### B. Forward Period Analysis (`FwdGain`)"
      ],
      "text/plain": [
       "<IPython.core.display.Markdown object>"
      ]
     },
     "metadata": {},
     "output_type": "display_data"
    },
    {
     "name": "stdout",
     "output_type": "stream",
     "text": [
      "  - Fwd Start Price (Calc End Price): $45.38\n",
      "  - Fwd End Price: $45.42\n",
      "  - FwdGain = 0.09%\n"
     ]
    },
    {
     "data": {
      "text/markdown": [
       "\n",
       "### C. Final Summary Tables"
      ],
      "text/plain": [
       "<IPython.core.display.Markdown object>"
      ]
     },
     "metadata": {},
     "output_type": "display_data"
    },
    {
     "data": {
      "text/markdown": [
       "#### Ranking Metric Values"
      ],
      "text/plain": [
       "<IPython.core.display.Markdown object>"
      ]
     },
     "metadata": {},
     "output_type": "display_data"
    },
    {
     "data": {
      "text/html": [
       "<style type=\"text/css\">\n",
       "</style>\n",
       "<table id=\"T_ebf8d\">\n",
       "  <thead>\n",
       "    <tr>\n",
       "      <th id=\"T_ebf8d_level0_col0\" class=\"col_heading level0 col0\" >Metric</th>\n",
       "      <th id=\"T_ebf8d_level0_col1\" class=\"col_heading level0 col1\" >Calculated Value</th>\n",
       "      <th id=\"T_ebf8d_level0_col2\" class=\"col_heading level0 col2\" >Corresponds To</th>\n",
       "    </tr>\n",
       "  </thead>\n",
       "  <tbody>\n",
       "    <tr>\n",
       "      <td id=\"T_ebf8d_row0_col0\" class=\"data row0 col0\" >Price</td>\n",
       "      <td id=\"T_ebf8d_row0_col1\" class=\"data row0 col1\" >1.0133</td>\n",
       "      <td id=\"T_ebf8d_row0_col2\" class=\"data row0 col2\" >`MetricValue`</td>\n",
       "    </tr>\n",
       "    <tr>\n",
       "      <td id=\"T_ebf8d_row1_col0\" class=\"data row1 col0\" >Sharpe</td>\n",
       "      <td id=\"T_ebf8d_row1_col1\" class=\"data row1 col1\" >15.6030</td>\n",
       "      <td id=\"T_ebf8d_row1_col2\" class=\"data row1 col2\" >`MetricValue`</td>\n",
       "    </tr>\n",
       "    <tr>\n",
       "      <td id=\"T_ebf8d_row2_col0\" class=\"data row2 col0\" >Sharpe (ATR)</td>\n",
       "      <td id=\"T_ebf8d_row2_col1\" class=\"data row2 col1\" >0.6230</td>\n",
       "      <td id=\"T_ebf8d_row2_col2\" class=\"data row2 col2\" >`MetricValue`</td>\n",
       "    </tr>\n",
       "  </tbody>\n",
       "</table>\n"
      ],
      "text/plain": [
       "<pandas.io.formats.style.Styler at 0x1de156017d0>"
      ]
     },
     "metadata": {},
     "output_type": "display_data"
    },
    {
     "data": {
      "text/markdown": [
       "#### Gain Values"
      ],
      "text/plain": [
       "<IPython.core.display.Markdown object>"
      ]
     },
     "metadata": {},
     "output_type": "display_data"
    },
    {
     "data": {
      "text/html": [
       "<style type=\"text/css\">\n",
       "</style>\n",
       "<table id=\"T_ecc85\">\n",
       "  <thead>\n",
       "    <tr>\n",
       "      <th id=\"T_ecc85_level0_col0\" class=\"col_heading level0 col0\" >Gain Metric</th>\n",
       "      <th id=\"T_ecc85_level0_col1\" class=\"col_heading level0 col1\" >Gain Value</th>\n",
       "      <th id=\"T_ecc85_level0_col2\" class=\"col_heading level0 col2\" >Corresponds To</th>\n",
       "    </tr>\n",
       "  </thead>\n",
       "  <tbody>\n",
       "    <tr>\n",
       "      <td id=\"T_ecc85_row0_col0\" class=\"data row0 col0\" >Calc Period Gain</td>\n",
       "      <td id=\"T_ecc85_row0_col1\" class=\"data row0 col1\" >1.33%</td>\n",
       "      <td id=\"T_ecc85_row0_col2\" class=\"data row0 col2\" >`CalcGain`</td>\n",
       "    </tr>\n",
       "    <tr>\n",
       "      <td id=\"T_ecc85_row1_col0\" class=\"data row1 col0\" >Forward Period Gain</td>\n",
       "      <td id=\"T_ecc85_row1_col1\" class=\"data row1 col1\" >0.09%</td>\n",
       "      <td id=\"T_ecc85_row1_col2\" class=\"data row1 col2\" >`FwdGain`</td>\n",
       "    </tr>\n",
       "  </tbody>\n",
       "</table>\n"
      ],
      "text/plain": [
       "<pandas.io.formats.style.Styler at 0x1de156017d0>"
      ]
     },
     "metadata": {},
     "output_type": "display_data"
    },
    {
     "name": "stdout",
     "output_type": "stream",
     "text": [
      "\n",
      "✅ Detailed ticker data exported to 'verification_ticker_TFLO_20230401.csv'\n",
      "\n",
      "================================================================================\n",
      "--- Verifying Ticker: USFR ---\n",
      "================================================================================\n"
     ]
    },
    {
     "data": {
      "text/markdown": [
       "## Verification Report for Ticker Ranking: `USFR`"
      ],
      "text/plain": [
       "<IPython.core.display.Markdown object>"
      ]
     },
     "metadata": {},
     "output_type": "display_data"
    },
    {
     "data": {
      "text/markdown": [
       "**Analysis Start Date:** `2023-04-01`"
      ],
      "text/plain": [
       "<IPython.core.display.Markdown object>"
      ]
     },
     "metadata": {},
     "output_type": "display_data"
    },
    {
     "data": {
      "text/markdown": [
       "**Requested Calculation Period:** `2023-04-01` to `2023-07-01`"
      ],
      "text/plain": [
       "<IPython.core.display.Markdown object>"
      ]
     },
     "metadata": {},
     "output_type": "display_data"
    },
    {
     "data": {
      "text/markdown": [
       "**Requested Forward Period:**   `2023-07-01` to `2023-07-08`"
      ],
      "text/plain": [
       "<IPython.core.display.Markdown object>"
      ]
     },
     "metadata": {},
     "output_type": "display_data"
    },
    {
     "data": {
      "text/markdown": [
       "### A. Calculation Period Analysis (for Ranking Metrics)"
      ],
      "text/plain": [
       "<IPython.core.display.Markdown object>"
      ]
     },
     "metadata": {},
     "output_type": "display_data"
    },
    {
     "data": {
      "text/markdown": [
       "**Actual Dates Used:** `2023-04-03` to `2023-06-30`"
      ],
      "text/plain": [
       "<IPython.core.display.Markdown object>"
      ]
     },
     "metadata": {},
     "output_type": "display_data"
    },
    {
     "data": {
      "text/markdown": [
       "#### `CalcGain` Verification:"
      ],
      "text/plain": [
       "<IPython.core.display.Markdown object>"
      ]
     },
     "metadata": {},
     "output_type": "display_data"
    },
    {
     "name": "stdout",
     "output_type": "stream",
     "text": [
      "  - Calc Start Price: $44.81\n",
      "  - Calc End Price:   $45.41  <-- 'CalcPrice'\n",
      "  - CalcGain = 1.34%\n"
     ]
    },
    {
     "data": {
      "text/markdown": [
       "#### `MetricValue` Verification:"
      ],
      "text/plain": [
       "<IPython.core.display.Markdown object>"
      ]
     },
     "metadata": {},
     "output_type": "display_data"
    },
    {
     "name": "stdout",
     "output_type": "stream",
     "text": [
      "\n",
      "1. Price Metric:\n",
      "   - Formula: Last Price / First Price = 1.0134\n",
      "\n",
      "2. Sharpe Metric:\n",
      "   - Mean Daily Return: 0.000218\n",
      "   - Std Dev Daily Return: 0.000236\n",
      "   - Annualized Sharpe = 14.6549\n",
      "\n",
      "3. Sharpe (ATR) Metric:\n",
      "   - Mean Daily Return: 0.000218 (same as above)\n",
      "   - Average ATR Percent (ATRP): 0.000420\n",
      "   - Sharpe (ATR) = 0.5194\n"
     ]
    },
    {
     "data": {
      "text/markdown": [
       "\n",
       "### B. Forward Period Analysis (`FwdGain`)"
      ],
      "text/plain": [
       "<IPython.core.display.Markdown object>"
      ]
     },
     "metadata": {},
     "output_type": "display_data"
    },
    {
     "name": "stdout",
     "output_type": "stream",
     "text": [
      "  - Fwd Start Price (Calc End Price): $45.41\n",
      "  - Fwd End Price: $45.48\n",
      "  - FwdGain = 0.14%\n"
     ]
    },
    {
     "data": {
      "text/markdown": [
       "\n",
       "### C. Final Summary Tables"
      ],
      "text/plain": [
       "<IPython.core.display.Markdown object>"
      ]
     },
     "metadata": {},
     "output_type": "display_data"
    },
    {
     "data": {
      "text/markdown": [
       "#### Ranking Metric Values"
      ],
      "text/plain": [
       "<IPython.core.display.Markdown object>"
      ]
     },
     "metadata": {},
     "output_type": "display_data"
    },
    {
     "data": {
      "text/html": [
       "<style type=\"text/css\">\n",
       "</style>\n",
       "<table id=\"T_5543b\">\n",
       "  <thead>\n",
       "    <tr>\n",
       "      <th id=\"T_5543b_level0_col0\" class=\"col_heading level0 col0\" >Metric</th>\n",
       "      <th id=\"T_5543b_level0_col1\" class=\"col_heading level0 col1\" >Calculated Value</th>\n",
       "      <th id=\"T_5543b_level0_col2\" class=\"col_heading level0 col2\" >Corresponds To</th>\n",
       "    </tr>\n",
       "  </thead>\n",
       "  <tbody>\n",
       "    <tr>\n",
       "      <td id=\"T_5543b_row0_col0\" class=\"data row0 col0\" >Price</td>\n",
       "      <td id=\"T_5543b_row0_col1\" class=\"data row0 col1\" >1.0134</td>\n",
       "      <td id=\"T_5543b_row0_col2\" class=\"data row0 col2\" >`MetricValue`</td>\n",
       "    </tr>\n",
       "    <tr>\n",
       "      <td id=\"T_5543b_row1_col0\" class=\"data row1 col0\" >Sharpe</td>\n",
       "      <td id=\"T_5543b_row1_col1\" class=\"data row1 col1\" >14.6549</td>\n",
       "      <td id=\"T_5543b_row1_col2\" class=\"data row1 col2\" >`MetricValue`</td>\n",
       "    </tr>\n",
       "    <tr>\n",
       "      <td id=\"T_5543b_row2_col0\" class=\"data row2 col0\" >Sharpe (ATR)</td>\n",
       "      <td id=\"T_5543b_row2_col1\" class=\"data row2 col1\" >0.5194</td>\n",
       "      <td id=\"T_5543b_row2_col2\" class=\"data row2 col2\" >`MetricValue`</td>\n",
       "    </tr>\n",
       "  </tbody>\n",
       "</table>\n"
      ],
      "text/plain": [
       "<pandas.io.formats.style.Styler at 0x1de0fb2f790>"
      ]
     },
     "metadata": {},
     "output_type": "display_data"
    },
    {
     "data": {
      "text/markdown": [
       "#### Gain Values"
      ],
      "text/plain": [
       "<IPython.core.display.Markdown object>"
      ]
     },
     "metadata": {},
     "output_type": "display_data"
    },
    {
     "data": {
      "text/html": [
       "<style type=\"text/css\">\n",
       "</style>\n",
       "<table id=\"T_4a8dc\">\n",
       "  <thead>\n",
       "    <tr>\n",
       "      <th id=\"T_4a8dc_level0_col0\" class=\"col_heading level0 col0\" >Gain Metric</th>\n",
       "      <th id=\"T_4a8dc_level0_col1\" class=\"col_heading level0 col1\" >Gain Value</th>\n",
       "      <th id=\"T_4a8dc_level0_col2\" class=\"col_heading level0 col2\" >Corresponds To</th>\n",
       "    </tr>\n",
       "  </thead>\n",
       "  <tbody>\n",
       "    <tr>\n",
       "      <td id=\"T_4a8dc_row0_col0\" class=\"data row0 col0\" >Calc Period Gain</td>\n",
       "      <td id=\"T_4a8dc_row0_col1\" class=\"data row0 col1\" >1.34%</td>\n",
       "      <td id=\"T_4a8dc_row0_col2\" class=\"data row0 col2\" >`CalcGain`</td>\n",
       "    </tr>\n",
       "    <tr>\n",
       "      <td id=\"T_4a8dc_row1_col0\" class=\"data row1 col0\" >Forward Period Gain</td>\n",
       "      <td id=\"T_4a8dc_row1_col1\" class=\"data row1 col1\" >0.14%</td>\n",
       "      <td id=\"T_4a8dc_row1_col2\" class=\"data row1 col2\" >`FwdGain`</td>\n",
       "    </tr>\n",
       "  </tbody>\n",
       "</table>\n"
      ],
      "text/plain": [
       "<pandas.io.formats.style.Styler at 0x1de15608290>"
      ]
     },
     "metadata": {},
     "output_type": "display_data"
    },
    {
     "name": "stdout",
     "output_type": "stream",
     "text": [
      "\n",
      "✅ Detailed ticker data exported to 'verification_ticker_USFR_20230401.csv'\n",
      "\n",
      "================================================================================\n",
      "--- Verifying Ticker: BILS ---\n",
      "================================================================================\n"
     ]
    },
    {
     "data": {
      "text/markdown": [
       "## Verification Report for Ticker Ranking: `BILS`"
      ],
      "text/plain": [
       "<IPython.core.display.Markdown object>"
      ]
     },
     "metadata": {},
     "output_type": "display_data"
    },
    {
     "data": {
      "text/markdown": [
       "**Analysis Start Date:** `2023-04-01`"
      ],
      "text/plain": [
       "<IPython.core.display.Markdown object>"
      ]
     },
     "metadata": {},
     "output_type": "display_data"
    },
    {
     "data": {
      "text/markdown": [
       "**Requested Calculation Period:** `2023-04-01` to `2023-07-01`"
      ],
      "text/plain": [
       "<IPython.core.display.Markdown object>"
      ]
     },
     "metadata": {},
     "output_type": "display_data"
    },
    {
     "data": {
      "text/markdown": [
       "**Requested Forward Period:**   `2023-07-01` to `2023-07-08`"
      ],
      "text/plain": [
       "<IPython.core.display.Markdown object>"
      ]
     },
     "metadata": {},
     "output_type": "display_data"
    },
    {
     "data": {
      "text/markdown": [
       "### A. Calculation Period Analysis (for Ranking Metrics)"
      ],
      "text/plain": [
       "<IPython.core.display.Markdown object>"
      ]
     },
     "metadata": {},
     "output_type": "display_data"
    },
    {
     "data": {
      "text/markdown": [
       "**Actual Dates Used:** `2023-04-03` to `2023-06-30`"
      ],
      "text/plain": [
       "<IPython.core.display.Markdown object>"
      ]
     },
     "metadata": {},
     "output_type": "display_data"
    },
    {
     "data": {
      "text/markdown": [
       "#### `CalcGain` Verification:"
      ],
      "text/plain": [
       "<IPython.core.display.Markdown object>"
      ]
     },
     "metadata": {},
     "output_type": "display_data"
    },
    {
     "name": "stdout",
     "output_type": "stream",
     "text": [
      "  - Calc Start Price: $88.38\n",
      "  - Calc End Price:   $89.28  <-- 'CalcPrice'\n",
      "  - CalcGain = 1.01%\n"
     ]
    },
    {
     "data": {
      "text/markdown": [
       "#### `MetricValue` Verification:"
      ],
      "text/plain": [
       "<IPython.core.display.Markdown object>"
      ]
     },
     "metadata": {},
     "output_type": "display_data"
    },
    {
     "name": "stdout",
     "output_type": "stream",
     "text": [
      "\n",
      "1. Price Metric:\n",
      "   - Formula: Last Price / First Price = 1.0101\n",
      "\n",
      "2. Sharpe Metric:\n",
      "   - Mean Daily Return: 0.000165\n",
      "   - Std Dev Daily Return: 0.000213\n",
      "   - Annualized Sharpe = 12.3257\n",
      "\n",
      "3. Sharpe (ATR) Metric:\n",
      "   - Mean Daily Return: 0.000165 (same as above)\n",
      "   - Average ATR Percent (ATRP): 0.000376\n",
      "   - Sharpe (ATR) = 0.4404\n"
     ]
    },
    {
     "data": {
      "text/markdown": [
       "\n",
       "### B. Forward Period Analysis (`FwdGain`)"
      ],
      "text/plain": [
       "<IPython.core.display.Markdown object>"
      ]
     },
     "metadata": {},
     "output_type": "display_data"
    },
    {
     "name": "stdout",
     "output_type": "stream",
     "text": [
      "  - Fwd Start Price (Calc End Price): $89.28\n",
      "  - Fwd End Price: $89.33\n",
      "  - FwdGain = 0.07%\n"
     ]
    },
    {
     "data": {
      "text/markdown": [
       "\n",
       "### C. Final Summary Tables"
      ],
      "text/plain": [
       "<IPython.core.display.Markdown object>"
      ]
     },
     "metadata": {},
     "output_type": "display_data"
    },
    {
     "data": {
      "text/markdown": [
       "#### Ranking Metric Values"
      ],
      "text/plain": [
       "<IPython.core.display.Markdown object>"
      ]
     },
     "metadata": {},
     "output_type": "display_data"
    },
    {
     "data": {
      "text/html": [
       "<style type=\"text/css\">\n",
       "</style>\n",
       "<table id=\"T_962c6\">\n",
       "  <thead>\n",
       "    <tr>\n",
       "      <th id=\"T_962c6_level0_col0\" class=\"col_heading level0 col0\" >Metric</th>\n",
       "      <th id=\"T_962c6_level0_col1\" class=\"col_heading level0 col1\" >Calculated Value</th>\n",
       "      <th id=\"T_962c6_level0_col2\" class=\"col_heading level0 col2\" >Corresponds To</th>\n",
       "    </tr>\n",
       "  </thead>\n",
       "  <tbody>\n",
       "    <tr>\n",
       "      <td id=\"T_962c6_row0_col0\" class=\"data row0 col0\" >Price</td>\n",
       "      <td id=\"T_962c6_row0_col1\" class=\"data row0 col1\" >1.0101</td>\n",
       "      <td id=\"T_962c6_row0_col2\" class=\"data row0 col2\" >`MetricValue`</td>\n",
       "    </tr>\n",
       "    <tr>\n",
       "      <td id=\"T_962c6_row1_col0\" class=\"data row1 col0\" >Sharpe</td>\n",
       "      <td id=\"T_962c6_row1_col1\" class=\"data row1 col1\" >12.3257</td>\n",
       "      <td id=\"T_962c6_row1_col2\" class=\"data row1 col2\" >`MetricValue`</td>\n",
       "    </tr>\n",
       "    <tr>\n",
       "      <td id=\"T_962c6_row2_col0\" class=\"data row2 col0\" >Sharpe (ATR)</td>\n",
       "      <td id=\"T_962c6_row2_col1\" class=\"data row2 col1\" >0.4404</td>\n",
       "      <td id=\"T_962c6_row2_col2\" class=\"data row2 col2\" >`MetricValue`</td>\n",
       "    </tr>\n",
       "  </tbody>\n",
       "</table>\n"
      ],
      "text/plain": [
       "<pandas.io.formats.style.Styler at 0x1de155a7ad0>"
      ]
     },
     "metadata": {},
     "output_type": "display_data"
    },
    {
     "data": {
      "text/markdown": [
       "#### Gain Values"
      ],
      "text/plain": [
       "<IPython.core.display.Markdown object>"
      ]
     },
     "metadata": {},
     "output_type": "display_data"
    },
    {
     "data": {
      "text/html": [
       "<style type=\"text/css\">\n",
       "</style>\n",
       "<table id=\"T_bdd1c\">\n",
       "  <thead>\n",
       "    <tr>\n",
       "      <th id=\"T_bdd1c_level0_col0\" class=\"col_heading level0 col0\" >Gain Metric</th>\n",
       "      <th id=\"T_bdd1c_level0_col1\" class=\"col_heading level0 col1\" >Gain Value</th>\n",
       "      <th id=\"T_bdd1c_level0_col2\" class=\"col_heading level0 col2\" >Corresponds To</th>\n",
       "    </tr>\n",
       "  </thead>\n",
       "  <tbody>\n",
       "    <tr>\n",
       "      <td id=\"T_bdd1c_row0_col0\" class=\"data row0 col0\" >Calc Period Gain</td>\n",
       "      <td id=\"T_bdd1c_row0_col1\" class=\"data row0 col1\" >1.01%</td>\n",
       "      <td id=\"T_bdd1c_row0_col2\" class=\"data row0 col2\" >`CalcGain`</td>\n",
       "    </tr>\n",
       "    <tr>\n",
       "      <td id=\"T_bdd1c_row1_col0\" class=\"data row1 col0\" >Forward Period Gain</td>\n",
       "      <td id=\"T_bdd1c_row1_col1\" class=\"data row1 col1\" >0.07%</td>\n",
       "      <td id=\"T_bdd1c_row1_col2\" class=\"data row1 col2\" >`FwdGain`</td>\n",
       "    </tr>\n",
       "  </tbody>\n",
       "</table>\n"
      ],
      "text/plain": [
       "<pandas.io.formats.style.Styler at 0x1de155a7ad0>"
      ]
     },
     "metadata": {},
     "output_type": "display_data"
    },
    {
     "name": "stdout",
     "output_type": "stream",
     "text": [
      "\n",
      "✅ Detailed ticker data exported to 'verification_ticker_BILS_20230401.csv'\n",
      "\n",
      "================================================================================\n",
      "--- Verifying Ticker: MINT ---\n",
      "================================================================================\n"
     ]
    },
    {
     "data": {
      "text/markdown": [
       "## Verification Report for Ticker Ranking: `MINT`"
      ],
      "text/plain": [
       "<IPython.core.display.Markdown object>"
      ]
     },
     "metadata": {},
     "output_type": "display_data"
    },
    {
     "data": {
      "text/markdown": [
       "**Analysis Start Date:** `2023-04-01`"
      ],
      "text/plain": [
       "<IPython.core.display.Markdown object>"
      ]
     },
     "metadata": {},
     "output_type": "display_data"
    },
    {
     "data": {
      "text/markdown": [
       "**Requested Calculation Period:** `2023-04-01` to `2023-07-01`"
      ],
      "text/plain": [
       "<IPython.core.display.Markdown object>"
      ]
     },
     "metadata": {},
     "output_type": "display_data"
    },
    {
     "data": {
      "text/markdown": [
       "**Requested Forward Period:**   `2023-07-01` to `2023-07-08`"
      ],
      "text/plain": [
       "<IPython.core.display.Markdown object>"
      ]
     },
     "metadata": {},
     "output_type": "display_data"
    },
    {
     "data": {
      "text/markdown": [
       "### A. Calculation Period Analysis (for Ranking Metrics)"
      ],
      "text/plain": [
       "<IPython.core.display.Markdown object>"
      ]
     },
     "metadata": {},
     "output_type": "display_data"
    },
    {
     "data": {
      "text/markdown": [
       "**Actual Dates Used:** `2023-04-03` to `2023-06-30`"
      ],
      "text/plain": [
       "<IPython.core.display.Markdown object>"
      ]
     },
     "metadata": {},
     "output_type": "display_data"
    },
    {
     "data": {
      "text/markdown": [
       "#### `CalcGain` Verification:"
      ],
      "text/plain": [
       "<IPython.core.display.Markdown object>"
      ]
     },
     "metadata": {},
     "output_type": "display_data"
    },
    {
     "name": "stdout",
     "output_type": "stream",
     "text": [
      "  - Calc Start Price: $87.54\n",
      "  - Calc End Price:   $88.97  <-- 'CalcPrice'\n",
      "  - CalcGain = 1.63%\n"
     ]
    },
    {
     "data": {
      "text/markdown": [
       "#### `MetricValue` Verification:"
      ],
      "text/plain": [
       "<IPython.core.display.Markdown object>"
      ]
     },
     "metadata": {},
     "output_type": "display_data"
    },
    {
     "name": "stdout",
     "output_type": "stream",
     "text": [
      "\n",
      "1. Price Metric:\n",
      "   - Formula: Last Price / First Price = 1.0163\n",
      "\n",
      "2. Sharpe Metric:\n",
      "   - Mean Daily Return: 0.000266\n",
      "   - Std Dev Daily Return: 0.000288\n",
      "   - Annualized Sharpe = 14.6506\n",
      "\n",
      "3. Sharpe (ATR) Metric:\n",
      "   - Mean Daily Return: 0.000266 (same as above)\n",
      "   - Average ATR Percent (ATRP): 0.000565\n",
      "   - Sharpe (ATR) = 0.4706\n"
     ]
    },
    {
     "data": {
      "text/markdown": [
       "\n",
       "### B. Forward Period Analysis (`FwdGain`)"
      ],
      "text/plain": [
       "<IPython.core.display.Markdown object>"
      ]
     },
     "metadata": {},
     "output_type": "display_data"
    },
    {
     "name": "stdout",
     "output_type": "stream",
     "text": [
      "  - Fwd Start Price (Calc End Price): $88.97\n",
      "  - Fwd End Price: $89.09\n",
      "  - FwdGain = 0.14%\n"
     ]
    },
    {
     "data": {
      "text/markdown": [
       "\n",
       "### C. Final Summary Tables"
      ],
      "text/plain": [
       "<IPython.core.display.Markdown object>"
      ]
     },
     "metadata": {},
     "output_type": "display_data"
    },
    {
     "data": {
      "text/markdown": [
       "#### Ranking Metric Values"
      ],
      "text/plain": [
       "<IPython.core.display.Markdown object>"
      ]
     },
     "metadata": {},
     "output_type": "display_data"
    },
    {
     "data": {
      "text/html": [
       "<style type=\"text/css\">\n",
       "</style>\n",
       "<table id=\"T_3c3be\">\n",
       "  <thead>\n",
       "    <tr>\n",
       "      <th id=\"T_3c3be_level0_col0\" class=\"col_heading level0 col0\" >Metric</th>\n",
       "      <th id=\"T_3c3be_level0_col1\" class=\"col_heading level0 col1\" >Calculated Value</th>\n",
       "      <th id=\"T_3c3be_level0_col2\" class=\"col_heading level0 col2\" >Corresponds To</th>\n",
       "    </tr>\n",
       "  </thead>\n",
       "  <tbody>\n",
       "    <tr>\n",
       "      <td id=\"T_3c3be_row0_col0\" class=\"data row0 col0\" >Price</td>\n",
       "      <td id=\"T_3c3be_row0_col1\" class=\"data row0 col1\" >1.0163</td>\n",
       "      <td id=\"T_3c3be_row0_col2\" class=\"data row0 col2\" >`MetricValue`</td>\n",
       "    </tr>\n",
       "    <tr>\n",
       "      <td id=\"T_3c3be_row1_col0\" class=\"data row1 col0\" >Sharpe</td>\n",
       "      <td id=\"T_3c3be_row1_col1\" class=\"data row1 col1\" >14.6506</td>\n",
       "      <td id=\"T_3c3be_row1_col2\" class=\"data row1 col2\" >`MetricValue`</td>\n",
       "    </tr>\n",
       "    <tr>\n",
       "      <td id=\"T_3c3be_row2_col0\" class=\"data row2 col0\" >Sharpe (ATR)</td>\n",
       "      <td id=\"T_3c3be_row2_col1\" class=\"data row2 col1\" >0.4706</td>\n",
       "      <td id=\"T_3c3be_row2_col2\" class=\"data row2 col2\" >`MetricValue`</td>\n",
       "    </tr>\n",
       "  </tbody>\n",
       "</table>\n"
      ],
      "text/plain": [
       "<pandas.io.formats.style.Styler at 0x1de0fb0be50>"
      ]
     },
     "metadata": {},
     "output_type": "display_data"
    },
    {
     "data": {
      "text/markdown": [
       "#### Gain Values"
      ],
      "text/plain": [
       "<IPython.core.display.Markdown object>"
      ]
     },
     "metadata": {},
     "output_type": "display_data"
    },
    {
     "data": {
      "text/html": [
       "<style type=\"text/css\">\n",
       "</style>\n",
       "<table id=\"T_00e3e\">\n",
       "  <thead>\n",
       "    <tr>\n",
       "      <th id=\"T_00e3e_level0_col0\" class=\"col_heading level0 col0\" >Gain Metric</th>\n",
       "      <th id=\"T_00e3e_level0_col1\" class=\"col_heading level0 col1\" >Gain Value</th>\n",
       "      <th id=\"T_00e3e_level0_col2\" class=\"col_heading level0 col2\" >Corresponds To</th>\n",
       "    </tr>\n",
       "  </thead>\n",
       "  <tbody>\n",
       "    <tr>\n",
       "      <td id=\"T_00e3e_row0_col0\" class=\"data row0 col0\" >Calc Period Gain</td>\n",
       "      <td id=\"T_00e3e_row0_col1\" class=\"data row0 col1\" >1.63%</td>\n",
       "      <td id=\"T_00e3e_row0_col2\" class=\"data row0 col2\" >`CalcGain`</td>\n",
       "    </tr>\n",
       "    <tr>\n",
       "      <td id=\"T_00e3e_row1_col0\" class=\"data row1 col0\" >Forward Period Gain</td>\n",
       "      <td id=\"T_00e3e_row1_col1\" class=\"data row1 col1\" >0.14%</td>\n",
       "      <td id=\"T_00e3e_row1_col2\" class=\"data row1 col2\" >`FwdGain`</td>\n",
       "    </tr>\n",
       "  </tbody>\n",
       "</table>\n"
      ],
      "text/plain": [
       "<pandas.io.formats.style.Styler at 0x1de1560bc10>"
      ]
     },
     "metadata": {},
     "output_type": "display_data"
    },
    {
     "name": "stdout",
     "output_type": "stream",
     "text": [
      "\n",
      "✅ Detailed ticker data exported to 'verification_ticker_MINT_20230401.csv'\n",
      "\n",
      "================================================================================\n",
      "--- Verifying Ticker: TBIL ---\n",
      "================================================================================\n"
     ]
    },
    {
     "data": {
      "text/markdown": [
       "## Verification Report for Ticker Ranking: `TBIL`"
      ],
      "text/plain": [
       "<IPython.core.display.Markdown object>"
      ]
     },
     "metadata": {},
     "output_type": "display_data"
    },
    {
     "data": {
      "text/markdown": [
       "**Analysis Start Date:** `2023-04-01`"
      ],
      "text/plain": [
       "<IPython.core.display.Markdown object>"
      ]
     },
     "metadata": {},
     "output_type": "display_data"
    },
    {
     "data": {
      "text/markdown": [
       "**Requested Calculation Period:** `2023-04-01` to `2023-07-01`"
      ],
      "text/plain": [
       "<IPython.core.display.Markdown object>"
      ]
     },
     "metadata": {},
     "output_type": "display_data"
    },
    {
     "data": {
      "text/markdown": [
       "**Requested Forward Period:**   `2023-07-01` to `2023-07-08`"
      ],
      "text/plain": [
       "<IPython.core.display.Markdown object>"
      ]
     },
     "metadata": {},
     "output_type": "display_data"
    },
    {
     "data": {
      "text/markdown": [
       "### A. Calculation Period Analysis (for Ranking Metrics)"
      ],
      "text/plain": [
       "<IPython.core.display.Markdown object>"
      ]
     },
     "metadata": {},
     "output_type": "display_data"
    },
    {
     "data": {
      "text/markdown": [
       "**Actual Dates Used:** `2023-04-03` to `2023-06-30`"
      ],
      "text/plain": [
       "<IPython.core.display.Markdown object>"
      ]
     },
     "metadata": {},
     "output_type": "display_data"
    },
    {
     "data": {
      "text/markdown": [
       "#### `CalcGain` Verification:"
      ],
      "text/plain": [
       "<IPython.core.display.Markdown object>"
      ]
     },
     "metadata": {},
     "output_type": "display_data"
    },
    {
     "name": "stdout",
     "output_type": "stream",
     "text": [
      "  - Calc Start Price: $44.39\n",
      "  - Calc End Price:   $44.93  <-- 'CalcPrice'\n",
      "  - CalcGain = 1.20%\n"
     ]
    },
    {
     "data": {
      "text/markdown": [
       "#### `MetricValue` Verification:"
      ],
      "text/plain": [
       "<IPython.core.display.Markdown object>"
      ]
     },
     "metadata": {},
     "output_type": "display_data"
    },
    {
     "name": "stdout",
     "output_type": "stream",
     "text": [
      "\n",
      "1. Price Metric:\n",
      "   - Formula: Last Price / First Price = 1.0120\n",
      "\n",
      "2. Sharpe Metric:\n",
      "   - Mean Daily Return: 0.000196\n",
      "   - Std Dev Daily Return: 0.000220\n",
      "   - Annualized Sharpe = 14.1094\n",
      "\n",
      "3. Sharpe (ATR) Metric:\n",
      "   - Mean Daily Return: 0.000196 (same as above)\n",
      "   - Average ATR Percent (ATRP): 0.000390\n",
      "   - Sharpe (ATR) = 0.5022\n"
     ]
    },
    {
     "data": {
      "text/markdown": [
       "\n",
       "### B. Forward Period Analysis (`FwdGain`)"
      ],
      "text/plain": [
       "<IPython.core.display.Markdown object>"
      ]
     },
     "metadata": {},
     "output_type": "display_data"
    },
    {
     "name": "stdout",
     "output_type": "stream",
     "text": [
      "  - Fwd Start Price (Calc End Price): $44.93\n",
      "  - Fwd End Price: $44.97\n",
      "  - FwdGain = 0.09%\n"
     ]
    },
    {
     "data": {
      "text/markdown": [
       "\n",
       "### C. Final Summary Tables"
      ],
      "text/plain": [
       "<IPython.core.display.Markdown object>"
      ]
     },
     "metadata": {},
     "output_type": "display_data"
    },
    {
     "data": {
      "text/markdown": [
       "#### Ranking Metric Values"
      ],
      "text/plain": [
       "<IPython.core.display.Markdown object>"
      ]
     },
     "metadata": {},
     "output_type": "display_data"
    },
    {
     "data": {
      "text/html": [
       "<style type=\"text/css\">\n",
       "</style>\n",
       "<table id=\"T_b6d47\">\n",
       "  <thead>\n",
       "    <tr>\n",
       "      <th id=\"T_b6d47_level0_col0\" class=\"col_heading level0 col0\" >Metric</th>\n",
       "      <th id=\"T_b6d47_level0_col1\" class=\"col_heading level0 col1\" >Calculated Value</th>\n",
       "      <th id=\"T_b6d47_level0_col2\" class=\"col_heading level0 col2\" >Corresponds To</th>\n",
       "    </tr>\n",
       "  </thead>\n",
       "  <tbody>\n",
       "    <tr>\n",
       "      <td id=\"T_b6d47_row0_col0\" class=\"data row0 col0\" >Price</td>\n",
       "      <td id=\"T_b6d47_row0_col1\" class=\"data row0 col1\" >1.0120</td>\n",
       "      <td id=\"T_b6d47_row0_col2\" class=\"data row0 col2\" >`MetricValue`</td>\n",
       "    </tr>\n",
       "    <tr>\n",
       "      <td id=\"T_b6d47_row1_col0\" class=\"data row1 col0\" >Sharpe</td>\n",
       "      <td id=\"T_b6d47_row1_col1\" class=\"data row1 col1\" >14.1094</td>\n",
       "      <td id=\"T_b6d47_row1_col2\" class=\"data row1 col2\" >`MetricValue`</td>\n",
       "    </tr>\n",
       "    <tr>\n",
       "      <td id=\"T_b6d47_row2_col0\" class=\"data row2 col0\" >Sharpe (ATR)</td>\n",
       "      <td id=\"T_b6d47_row2_col1\" class=\"data row2 col1\" >0.5022</td>\n",
       "      <td id=\"T_b6d47_row2_col2\" class=\"data row2 col2\" >`MetricValue`</td>\n",
       "    </tr>\n",
       "  </tbody>\n",
       "</table>\n"
      ],
      "text/plain": [
       "<pandas.io.formats.style.Styler at 0x1de0fb0ab10>"
      ]
     },
     "metadata": {},
     "output_type": "display_data"
    },
    {
     "data": {
      "text/markdown": [
       "#### Gain Values"
      ],
      "text/plain": [
       "<IPython.core.display.Markdown object>"
      ]
     },
     "metadata": {},
     "output_type": "display_data"
    },
    {
     "data": {
      "text/html": [
       "<style type=\"text/css\">\n",
       "</style>\n",
       "<table id=\"T_cc958\">\n",
       "  <thead>\n",
       "    <tr>\n",
       "      <th id=\"T_cc958_level0_col0\" class=\"col_heading level0 col0\" >Gain Metric</th>\n",
       "      <th id=\"T_cc958_level0_col1\" class=\"col_heading level0 col1\" >Gain Value</th>\n",
       "      <th id=\"T_cc958_level0_col2\" class=\"col_heading level0 col2\" >Corresponds To</th>\n",
       "    </tr>\n",
       "  </thead>\n",
       "  <tbody>\n",
       "    <tr>\n",
       "      <td id=\"T_cc958_row0_col0\" class=\"data row0 col0\" >Calc Period Gain</td>\n",
       "      <td id=\"T_cc958_row0_col1\" class=\"data row0 col1\" >1.20%</td>\n",
       "      <td id=\"T_cc958_row0_col2\" class=\"data row0 col2\" >`CalcGain`</td>\n",
       "    </tr>\n",
       "    <tr>\n",
       "      <td id=\"T_cc958_row1_col0\" class=\"data row1 col0\" >Forward Period Gain</td>\n",
       "      <td id=\"T_cc958_row1_col1\" class=\"data row1 col1\" >0.09%</td>\n",
       "      <td id=\"T_cc958_row1_col2\" class=\"data row1 col2\" >`FwdGain`</td>\n",
       "    </tr>\n",
       "  </tbody>\n",
       "</table>\n"
      ],
      "text/plain": [
       "<pandas.io.formats.style.Styler at 0x1de152db150>"
      ]
     },
     "metadata": {},
     "output_type": "display_data"
    },
    {
     "name": "stdout",
     "output_type": "stream",
     "text": [
      "\n",
      "✅ Detailed ticker data exported to 'verification_ticker_TBIL_20230401.csv'\n",
      "\n",
      "================================================================================\n",
      "--- Verifying Ticker: VOO ---\n",
      "================================================================================\n"
     ]
    },
    {
     "data": {
      "text/markdown": [
       "## Verification Report for Ticker Ranking: `VOO`"
      ],
      "text/plain": [
       "<IPython.core.display.Markdown object>"
      ]
     },
     "metadata": {},
     "output_type": "display_data"
    },
    {
     "data": {
      "text/markdown": [
       "**Analysis Start Date:** `2023-04-01`"
      ],
      "text/plain": [
       "<IPython.core.display.Markdown object>"
      ]
     },
     "metadata": {},
     "output_type": "display_data"
    },
    {
     "data": {
      "text/markdown": [
       "**Requested Calculation Period:** `2023-04-01` to `2023-07-01`"
      ],
      "text/plain": [
       "<IPython.core.display.Markdown object>"
      ]
     },
     "metadata": {},
     "output_type": "display_data"
    },
    {
     "data": {
      "text/markdown": [
       "**Requested Forward Period:**   `2023-07-01` to `2023-07-08`"
      ],
      "text/plain": [
       "<IPython.core.display.Markdown object>"
      ]
     },
     "metadata": {},
     "output_type": "display_data"
    },
    {
     "data": {
      "text/markdown": [
       "### A. Calculation Period Analysis (for Ranking Metrics)"
      ],
      "text/plain": [
       "<IPython.core.display.Markdown object>"
      ]
     },
     "metadata": {},
     "output_type": "display_data"
    },
    {
     "data": {
      "text/markdown": [
       "**Actual Dates Used:** `2023-04-03` to `2023-06-30`"
      ],
      "text/plain": [
       "<IPython.core.display.Markdown object>"
      ]
     },
     "metadata": {},
     "output_type": "display_data"
    },
    {
     "data": {
      "text/markdown": [
       "#### `CalcGain` Verification:"
      ],
      "text/plain": [
       "<IPython.core.display.Markdown object>"
      ]
     },
     "metadata": {},
     "output_type": "display_data"
    },
    {
     "name": "stdout",
     "output_type": "stream",
     "text": [
      "  - Calc Start Price: $365.87\n",
      "  - Calc End Price:   $396.22  <-- 'CalcPrice'\n",
      "  - CalcGain = 8.30%\n"
     ]
    },
    {
     "data": {
      "text/markdown": [
       "#### `MetricValue` Verification:"
      ],
      "text/plain": [
       "<IPython.core.display.Markdown object>"
      ]
     },
     "metadata": {},
     "output_type": "display_data"
    },
    {
     "name": "stdout",
     "output_type": "stream",
     "text": [
      "\n",
      "1. Price Metric:\n",
      "   - Formula: Last Price / First Price = 1.0830\n",
      "\n",
      "2. Sharpe Metric:\n",
      "   - Mean Daily Return: 0.001335\n",
      "   - Std Dev Daily Return: 0.007485\n",
      "   - Annualized Sharpe = 2.8308\n",
      "\n",
      "3. Sharpe (ATR) Metric:\n",
      "   - Mean Daily Return: 0.001335 (same as above)\n",
      "   - Average ATR Percent (ATRP): 0.010039\n",
      "   - Sharpe (ATR) = 0.1330\n"
     ]
    },
    {
     "data": {
      "text/markdown": [
       "\n",
       "### B. Forward Period Analysis (`FwdGain`)"
      ],
      "text/plain": [
       "<IPython.core.display.Markdown object>"
      ]
     },
     "metadata": {},
     "output_type": "display_data"
    },
    {
     "name": "stdout",
     "output_type": "stream",
     "text": [
      "  - Fwd Start Price (Calc End Price): $396.22\n",
      "  - Fwd End Price: $391.95\n",
      "  - FwdGain = -1.08%\n"
     ]
    },
    {
     "data": {
      "text/markdown": [
       "\n",
       "### C. Final Summary Tables"
      ],
      "text/plain": [
       "<IPython.core.display.Markdown object>"
      ]
     },
     "metadata": {},
     "output_type": "display_data"
    },
    {
     "data": {
      "text/markdown": [
       "#### Ranking Metric Values"
      ],
      "text/plain": [
       "<IPython.core.display.Markdown object>"
      ]
     },
     "metadata": {},
     "output_type": "display_data"
    },
    {
     "data": {
      "text/html": [
       "<style type=\"text/css\">\n",
       "</style>\n",
       "<table id=\"T_65a19\">\n",
       "  <thead>\n",
       "    <tr>\n",
       "      <th id=\"T_65a19_level0_col0\" class=\"col_heading level0 col0\" >Metric</th>\n",
       "      <th id=\"T_65a19_level0_col1\" class=\"col_heading level0 col1\" >Calculated Value</th>\n",
       "      <th id=\"T_65a19_level0_col2\" class=\"col_heading level0 col2\" >Corresponds To</th>\n",
       "    </tr>\n",
       "  </thead>\n",
       "  <tbody>\n",
       "    <tr>\n",
       "      <td id=\"T_65a19_row0_col0\" class=\"data row0 col0\" >Price</td>\n",
       "      <td id=\"T_65a19_row0_col1\" class=\"data row0 col1\" >1.0830</td>\n",
       "      <td id=\"T_65a19_row0_col2\" class=\"data row0 col2\" >`MetricValue`</td>\n",
       "    </tr>\n",
       "    <tr>\n",
       "      <td id=\"T_65a19_row1_col0\" class=\"data row1 col0\" >Sharpe</td>\n",
       "      <td id=\"T_65a19_row1_col1\" class=\"data row1 col1\" >2.8308</td>\n",
       "      <td id=\"T_65a19_row1_col2\" class=\"data row1 col2\" >`MetricValue`</td>\n",
       "    </tr>\n",
       "    <tr>\n",
       "      <td id=\"T_65a19_row2_col0\" class=\"data row2 col0\" >Sharpe (ATR)</td>\n",
       "      <td id=\"T_65a19_row2_col1\" class=\"data row2 col1\" >0.1330</td>\n",
       "      <td id=\"T_65a19_row2_col2\" class=\"data row2 col2\" >`MetricValue`</td>\n",
       "    </tr>\n",
       "  </tbody>\n",
       "</table>\n"
      ],
      "text/plain": [
       "<pandas.io.formats.style.Styler at 0x1de1547e110>"
      ]
     },
     "metadata": {},
     "output_type": "display_data"
    },
    {
     "data": {
      "text/markdown": [
       "#### Gain Values"
      ],
      "text/plain": [
       "<IPython.core.display.Markdown object>"
      ]
     },
     "metadata": {},
     "output_type": "display_data"
    },
    {
     "data": {
      "text/html": [
       "<style type=\"text/css\">\n",
       "</style>\n",
       "<table id=\"T_c7ed7\">\n",
       "  <thead>\n",
       "    <tr>\n",
       "      <th id=\"T_c7ed7_level0_col0\" class=\"col_heading level0 col0\" >Gain Metric</th>\n",
       "      <th id=\"T_c7ed7_level0_col1\" class=\"col_heading level0 col1\" >Gain Value</th>\n",
       "      <th id=\"T_c7ed7_level0_col2\" class=\"col_heading level0 col2\" >Corresponds To</th>\n",
       "    </tr>\n",
       "  </thead>\n",
       "  <tbody>\n",
       "    <tr>\n",
       "      <td id=\"T_c7ed7_row0_col0\" class=\"data row0 col0\" >Calc Period Gain</td>\n",
       "      <td id=\"T_c7ed7_row0_col1\" class=\"data row0 col1\" >8.30%</td>\n",
       "      <td id=\"T_c7ed7_row0_col2\" class=\"data row0 col2\" >`CalcGain`</td>\n",
       "    </tr>\n",
       "    <tr>\n",
       "      <td id=\"T_c7ed7_row1_col0\" class=\"data row1 col0\" >Forward Period Gain</td>\n",
       "      <td id=\"T_c7ed7_row1_col1\" class=\"data row1 col1\" >-1.08%</td>\n",
       "      <td id=\"T_c7ed7_row1_col2\" class=\"data row1 col2\" >`FwdGain`</td>\n",
       "    </tr>\n",
       "  </tbody>\n",
       "</table>\n"
      ],
      "text/plain": [
       "<pandas.io.formats.style.Styler at 0x1de1547e110>"
      ]
     },
     "metadata": {},
     "output_type": "display_data"
    },
    {
     "name": "stdout",
     "output_type": "stream",
     "text": [
      "\n",
      "✅ Detailed ticker data exported to 'verification_ticker_VOO_20230401.csv'\n",
      "\n",
      "--- All Ticker Verifications Complete ---\n"
     ]
    }
   ],
   "source": [
    "# --- CORRECTED VERIFICATION SNIPPET ---\n",
    "print(\"--- Starting Individual Ticker Verification ---\")\n",
    "\n",
    "# Now, loop through the list and call the verification function for each one\n",
    "for single_ticker in all_tickers_cleaned:\n",
    "    print(f\"\\n\" + \"=\"*80)\n",
    "    print(f\"--- Verifying Ticker: {single_ticker} ---\")\n",
    "    print(\"=\"*80)\n",
    "    \n",
    "    # Call the function for ONE ticker at a time\n",
    "    verify_ticker_ranking_metrics(\n",
    "        df_ohlcv=df_OHLCV,\n",
    "        ticker=single_ticker, \n",
    "        start_date=test_start_date, \n",
    "        calc_period=test_calc_period, \n",
    "        fwd_period=test_fwd_period, \n",
    "        export_csv=True # Set to True if you want a file for each ticker\n",
    "    )\n",
    "\n",
    "print(\"\\n--- All Ticker Verifications Complete ---\")"
   ]
  },
  {
   "cell_type": "code",
   "execution_count": null,
   "id": "26115bc9",
   "metadata": {},
   "outputs": [],
   "source": []
  },
  {
   "cell_type": "code",
   "execution_count": null,
   "id": "7655fc98",
   "metadata": {},
   "outputs": [],
   "source": []
  }
 ],
 "metadata": {
  "kernelspec": {
   "display_name": "py311-py3.11",
   "language": "python",
   "name": "python3"
  },
  "language_info": {
   "codemirror_mode": {
    "name": "ipython",
    "version": 3
   },
   "file_extension": ".py",
   "mimetype": "text/x-python",
   "name": "python",
   "nbconvert_exporter": "python",
   "pygments_lexer": "ipython3",
   "version": "3.11.9"
  }
 },
 "nbformat": 4,
 "nbformat_minor": 5
}
