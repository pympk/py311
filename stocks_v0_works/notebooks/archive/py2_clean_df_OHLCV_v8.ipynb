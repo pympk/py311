{
 "cells": [
  {
   "cell_type": "code",
   "execution_count": null,
   "metadata": {},
   "outputs": [],
   "source": []
  },
  {
   "cell_type": "code",
   "execution_count": 70,
   "metadata": {},
   "outputs": [],
   "source": [
    "import pandas as pd\n",
    "\n",
    "# Set pandas display options to show more columns and rows\n",
    "pd.set_option('display.max_columns', None)  # Show all columns\n",
    "# pd.set_option('display.max_rows', 10)       # Limit to 10 rows for readability\n",
    "pd.set_option('display.width', None)        # Let the display adjust to the window\n",
    "\n",
    "# 2. Set the display width (optional but often helpful)\n",
    "#    'None' tries to detect terminal width. \n",
    "#    A large number (e.g., 1000) ensures no wrapping unless absolutely necessary.\n",
    "pd.set_option('display.width', 1000) "
   ]
  },
  {
   "cell_type": "code",
   "execution_count": 71,
   "metadata": {},
   "outputs": [],
   "source": [
    "# # process_files.py\n",
    "# from config import date_str, DOWNLOAD_DIR, DEST_DIR\n",
    "# from pathlib import Path  # Better path handling\n",
    "\n",
    "# print(f\"date_str: {date_str}\")\n",
    "# print(f\"DOWNLOAD_DIR: {DOWNLOAD_DIR}\")\n",
    "# print(f\"DEST_DIR: {DEST_DIR}\\n\")\n",
    "\n",
    "# # Build paths\n",
    "# source_path = Path(DOWNLOAD_DIR) / f'df_OHLCV_{date_str}_stocks_etfs.parquet'\n",
    "# dest_path = Path(DEST_DIR) / f'{date_str}_df_OHLCV_clean_stocks_etfs.parquet'\n",
    "\n",
    "# print(f\"source_path: {source_path}\")\n",
    "# print(f\"dest_path: {dest_path}\")"
   ]
  },
  {
   "cell_type": "code",
   "execution_count": 72,
   "metadata": {},
   "outputs": [],
   "source": [
    "source_path = r'../data/df_OHLCV_stocks_etfs.parquet'\n",
    "# source_path = r'C:/Users/ping\\Downloads/df_OHLCV_2025-04-25_stocks_etfs.parquet'\n",
    "dest_path = r'../data/df_OHLCV_cleanstocks_etfs.parquet'"
   ]
  },
  {
   "cell_type": "code",
   "execution_count": 73,
   "metadata": {},
   "outputs": [
    {
     "name": "stdout",
     "output_type": "stream",
     "text": [
      "df_raw.head(3):\n",
      "                   Adj Open  Adj High  Adj Low  Adj Close   Volume\n",
      "Ticker Date                                                       \n",
      "A      2025-05-08    108.00    110.65   106.55     108.70  2093340\n",
      "       2025-05-07    106.69    107.60   104.79     107.52  2143700\n",
      "       2025-05-06    107.25    108.21   104.36     105.24  1960600\n",
      "\n",
      "df_raw.tail(3):\n",
      "                   Adj Open  Adj High  Adj Low  Adj Close  Volume\n",
      "Ticker Date                                                      \n",
      "ZWS    2024-05-09   31.7548   32.1211  31.6162    32.0716  570103\n",
      "       2024-05-08   31.9132   32.0914  31.5964    31.8043  592523\n",
      "       2024-05-07   31.9330   32.1013  31.7647    31.9825  607975\n",
      "\n",
      "<class 'pandas.core.frame.DataFrame'>\n",
      "MultiIndex: 428529 entries, ('A', Timestamp('2025-05-08 00:00:00')) to ('ZWS', Timestamp('2024-05-07 00:00:00'))\n",
      "Data columns (total 5 columns):\n",
      " #   Column     Non-Null Count   Dtype  \n",
      "---  ------     --------------   -----  \n",
      " 0   Adj Open   428529 non-null  float64\n",
      " 1   Adj High   428529 non-null  float64\n",
      " 2   Adj Low    428529 non-null  float64\n",
      " 3   Adj Close  428529 non-null  float64\n",
      " 4   Volume     428529 non-null  int64  \n",
      "dtypes: float64(4), int64(1)\n",
      "memory usage: 18.0+ MB\n",
      "df_raw.info():\n",
      "None\n"
     ]
    }
   ],
   "source": [
    "# --- Data Loading & Initial Inspection ---\n",
    "import pandas as pd\n",
    "\n",
    "# # Load raw data from pickle file\n",
    "# df = pd.read_pickle(source_path)\n",
    "\n",
    "df_raw = pd.read_parquet(source_path, engine='pyarrow')\n",
    "\n",
    "# Display initial data structure\n",
    "\n",
    "print(f'df_raw.head(3):\\n{df_raw.head(3)}\\n')\n",
    "print(f'df_raw.tail(3):\\n{df_raw.tail(3)}\\n')\n",
    "print(f'df_raw.info():\\n{df_raw.info()}')"
   ]
  },
  {
   "cell_type": "code",
   "execution_count": 74,
   "metadata": {},
   "outputs": [
    {
     "name": "stdout",
     "output_type": "stream",
     "text": [
      "<class 'pandas.core.frame.DataFrame'>\n",
      "MultiIndex: 428529 entries, ('A', Timestamp('2025-05-08 00:00:00')) to ('ZWS', Timestamp('2024-05-07 00:00:00'))\n",
      "Data columns (total 5 columns):\n",
      " #   Column     Non-Null Count   Dtype  \n",
      "---  ------     --------------   -----  \n",
      " 0   Adj Open   428529 non-null  float64\n",
      " 1   Adj High   428529 non-null  float64\n",
      " 2   Adj Low    428529 non-null  float64\n",
      " 3   Adj Close  428529 non-null  float64\n",
      " 4   Volume     428529 non-null  int64  \n",
      "dtypes: float64(4), int64(1)\n",
      "memory usage: 18.0+ MB\n",
      "df_rae.info():\n",
      "None\n",
      "Number of tickers in raw data: 1571\n"
     ]
    }
   ],
   "source": [
    "print(f'df_rae.info():\\n{df_raw.info()}')\n",
    "raw_ticker_count = len(df_raw.index.get_level_values(0).unique().tolist())\n",
    "print(f\"Number of tickers in raw data: {raw_ticker_count}\")"
   ]
  },
  {
   "cell_type": "code",
   "execution_count": 75,
   "metadata": {},
   "outputs": [
    {
     "name": "stdout",
     "output_type": "stream",
     "text": [
      "['WTFC', 'CFR', 'SIRI', 'CWST', 'LW', 'DLB', 'OBDC', 'EXP', 'CVLT', 'ESAB', 'ENSG', 'PSN', 'MDGL', 'EXLS', 'RVMD', 'SKX', 'FN', 'AES', 'FOUR', 'AAON', 'HPE', 'WBD', 'ES', 'TSN', 'DOW', 'HBAN', 'NVR', 'CINF', 'CDW', 'NTRA', 'TOST', 'INVH', 'EXPE', 'STM', 'DG', 'QSR', 'PHM', 'DVN', 'WAT', 'COR', 'HWM', 'OKE', 'DLR', 'MPLX', 'FCX', 'JCI', 'COIN', 'SNOW', 'HLT', 'CSX', 'MFC', 'AMX', 'LNG', 'CARR', 'NWG', 'PAYX', 'TRP', 'MET', 'ALL', 'NTAP', 'WY', 'HAL', 'OKTA', 'L', 'SSNC', 'NTNX', 'TECK', 'NTRS', 'KGC', 'GPN', 'PINS', 'STX', 'BIIB', 'ULTA', 'DLTR', 'SMMT', 'SHG', 'UMC', 'HMC', 'EXC', 'DFS', 'FAST', 'AXON', 'KR', 'ROST', 'HLN', 'GM', 'RBLX', 'D', 'AMP', 'EW', 'KVUE', 'SU', 'TGT', 'HOOD', 'KMB', 'CCI', 'NDAQ', 'LNW', 'OTEX', 'UWMC', 'AZEK', 'RRX', 'EAT', 'NFG', 'ALV', 'MIDD', 'UGI', 'APPF', 'LNTH', 'CMA', 'AXTA', 'UMBF', 'BFAM', 'WTS', 'BBIO', 'KBR', 'AN', 'IBDR', 'SUSA', 'VNQI', 'DXJ', 'UCON', 'SPYI', 'PTLC', 'NEAR', 'EWU', 'DFLV', 'IYR', 'EMLP', 'EUFN', 'JAVA', 'AIRR', 'IBDQ', 'TFI', 'MSTY', 'PAAA', 'FELG', 'WAL', 'NNN', 'BECN', 'EDU', 'NCLH', 'LAD', 'LCID', 'VFS', 'CORT', 'GPK', 'ASTS', 'AYI', 'ATI', 'HALO', 'COOP', 'AXS', 'KD', 'HQY', 'MTCH', 'CRDO', 'ORCL', 'UNH', 'PG', 'JNJ', 'HD', 'ABBV', 'SAP', 'KO', 'BAC', 'BABA', 'ASML', 'PM', 'PLTR', 'TMUS', 'CRM', 'TM', 'CVX', 'WFC', 'MCD', 'CSCO', 'LH', 'EC', 'STLD', 'ASX', 'UI', 'BIP', 'LII', 'LDOS', 'WSM', 'EME', 'NI', 'TS', 'PTC', 'BSBR', 'RPRX', 'WSO', 'RF', 'ESS', 'RBA', 'PODD', 'EFAV', 'JMBS', 'ARKK', 'VCR', 'CGGO', 'FDL', 'TSLL', 'SGOL', 'VUSB', 'DFAE', 'RWL', 'FNGA', 'BBIN', 'JGRO', 'VOOV', 'XLB', 'CGUS', 'LMBS', 'VIS', 'PDD', 'MUFG', 'TJX', 'DHR', 'BLK', 'SYK', 'NEE', 'BA', 'PFE', 'GILD', 'CMCSA', 'HON', 'SNY', 'C', 'UNP', 'VRTX', 'TTE', 'SHOP', 'DE', 'SPOT', 'PGX', 'SPXL', 'BILS', 'SCHK', 'EAGG', 'GSIE', 'IXJ', 'REET', 'JHMM', 'BITB', 'FBCG', 'FIXD', 'DIHP', 'BSCP', 'CWB', 'KNG', 'TOTL', 'EWZ', 'KBWB', 'VFLO', 'ENB', 'SO', 'FI', 'AMT', 'RELX', 'MO', 'MSTR', 'ANET', 'BMY', 'PLD', 'ADI', 'CME', 'WELL', 'ELV', 'SBUX', 'ICE', 'APP', 'DUK', 'KLAC', 'BTI', 'ARW', 'CWEN', 'CWEN-A', 'TMHC', 'DJT', 'QXO', 'VIPS', 'NVMI', 'DINO', 'BILI', 'ESNT', 'OSK', 'USM', 'SAIC', 'ZWS', 'BYD', 'VOYA', 'CEF', 'R', 'RGA', 'PFGC', 'TER', 'PRMB', 'TXT', 'LBRDA', 'LBRDK', 'OC', 'MBLY', 'GME', 'SJM', 'ILMN', 'ENTG', 'AUR', 'BMRN', 'MORN', 'WLK', 'COKE', 'FTI', 'JNPR', 'LOW', 'AMAT', 'BHP', 'ARM', 'ADP', 'PANW', 'IBN', 'COP', 'BUD', 'ETN', 'MELI', 'LMT', 'CB', 'SAN', 'TD', 'MMC', 'MDT', 'CRWD', 'GEV', 'KKR', 'CNC', 'OWL', 'K', 'PBR-A', 'XYL', 'LEN', 'RJF', 'ANSS', 'DXCM', 'ROK', 'AWK', 'FWONA', 'LLYVK', 'FWONK', 'LLYVA', 'TEF', 'DTE', 'MPWR', 'BR', 'PUK', 'VOO', 'SPY', 'IVV', 'VTI', 'QQQ', 'VEA', 'VUG', 'IEFA', 'VTV', 'BND', 'AGG', 'GLD', 'IWF', 'IJH', 'VXUS', 'VIG', 'IEMG', 'VWO', 'VGT', 'IJR', 'APH', 'WM', 'UBS', 'LRCX', 'CI', 'MU', 'SMFG', 'INTC', 'MCK', 'BAM', 'NKE', 'MDLZ', 'CTAS', 'SHW', 'UPS', 'RACE', 'CVS', 'AJG', 'EQIX', 'BBVA', 'AAPL', 'MSFT', 'NVDA', 'AMZN', 'GOOG', 'GOOGL', 'META', 'BRK-A', 'BRK-B', 'TSLA', 'AVGO', 'TSM', 'LLY', 'WMT', 'JPM', 'V', 'MA', 'XOM', 'NFLX', 'COST', 'LULU', 'FERG', 'SLF', 'ZS', 'CAH', 'VRT', 'HSY', 'STZ', 'BRO', 'GOLD', 'FNV', 'ALNY', 'VMC', 'ITUB', 'HUBS', 'IT', 'TW', 'HUM', 'EFX', 'EBAY', 'VCSH', 'IUSB', 'VNQ', 'VGIT', 'SPYG', 'SCHB', 'DFAC', 'JPST', 'DGRO', 'LQD', 'VBR', 'GOVT', 'XLE', 'VONG', 'SPYV', 'SPDW', 'SHY', 'JEPQ', 'USMV', 'SHV', 'TRMB', 'BAH', 'RS', 'EBR', 'DKS', 'EXPD', 'PSTG', 'J', 'USFD', 'PNR', 'WES', 'BJ', 'PAGP', 'OMC', 'ONON', 'TWLO', 'CNH', 'SNAP', 'ARCC', 'FMS', 'SLV', 'FNDF', 'VOT', 'CGDV', 'VTIP', 'IGIB', 'VOOG', 'GLDM', 'EMXC', 'DGRW', 'IWV', 'VMBS', 'MTUM', 'EWJ', 'AVUV', 'HYG', 'TIP', 'PFF', 'DFUS', 'RDVY', 'JBL', 'BAP', 'AFRM', 'EVRG', 'SUI', 'LNT', 'XPEV', 'FFIV', 'GEN', 'WMG', 'BAX', 'BCH', 'VIV', 'WST', 'EQH', 'CHWY', 'TLK', 'FSLR', 'LUV', 'MMYT', 'RGLD', 'AGI', 'EWBC', 'ALLE', 'PHYS', 'ICLR', 'CAG', 'AKAM', 'SNN', 'GMED', 'LOGI', 'PEN', 'RTO', 'BSAC', 'ULS', 'THC', 'TAP', 'LAMR', 'RDY', 'ABT', 'IBM', 'AZN', 'NVS', 'LIN', 'GE', 'NVO', 'MRK', 'HSBC', 'SHEL', 'NOW', 'T', 'MS', 'AXP', 'ISRG', 'HDB', 'ACN', 'PEP', 'VZ', 'INTU', 'TME', 'AOS', 'SNX', 'WIX', 'MOS', 'PAAS', 'ORI', 'U', 'KT', 'CUBE', 'AIT', 'DAY', 'VNOM', 'QGEN', 'IPG', 'LOAR', 'DSGX', 'FYBR', 'SBAC', 'FCNCA', 'HPQ', 'GIB', 'FITB', 'FTV', 'DRI', 'VOD', 'PPG', 'ZM', 'DOV', 'ADM', 'PHG', 'MKL', 'VLTO', 'MT', 'TU', 'CPAY', 'TYL', 'KB', 'IAU', 'SGOV', 'SCHF', 'VT', 'QQQM', 'VEU', 'IXUS', 'BSV', 'JEPI', 'MUB', 'IWR', 'IWB', 'VV', 'SCHG', 'MBB', 'IVE', 'DIA', 'XLV', 'VTEB', 'IEF', 'CYBR', 'DUOL', 'FNF', 'TPG', 'YUMC', 'NMR', 'MOH', 'TEVA', 'KSPI', 'CLX', 'RYAN', 'ESLT', 'EG', 'ERIE', 'DOCU', 'ON', 'DPZ', 'PKG', 'CASY', 'DECK', 'SOXL', 'VYMI', 'EZU', 'ESGV', 'SCZ', 'SPTM', 'SCHE', 'DFAI', 'SUB', 'IQLT', 'ESGD', 'DFAS', 'INDA', 'SPIB', 'FVD', 'FLOT', 'BINC', 'SPTI', 'SPAB', 'MGV', 'SAIA', 'BULL', 'LTH', 'INFA', 'PDI', 'FBIN', 'UFPI', 'SATS', 'FR', 'GIL', 'BRFS', 'SSD', 'IONQ', 'BEP', 'AAL', 'PB', 'PATH', 'CHDN', 'STWD', 'NEU', 'COLD', 'CRVL', 'FSK', 'TIGO', 'CRL', 'CHRD', 'BPMC', 'TX', 'MMSI', 'RITM', 'FCN', 'VRNA', 'JXN', 'GKOS', 'ACIW', 'KEX', 'HOMB', 'SLGN', 'GGG', 'RL', 'RCI', 'PKX', 'FLEX', 'AVY', 'ALGN', 'RPM', 'AS', 'WPC', 'RBRK', 'PAYC', 'BSY', 'ARE', 'GLPI', 'UTHR', 'IEX', 'CF', 'REG', 'HOLX', 'CLH', 'NLY', 'BXP', 'RNR', 'INCY', 'EHC', 'SOLV', 'KEP', 'XPO', 'RVTY', 'SCI', 'SUZ', 'SN', 'UHS', 'ZTO', 'PNW', 'HLI', 'DVA', 'ITT', 'LHX', 'CMI', 'FANG', 'VRSK', 'F', 'XEL', 'ED', 'TTWO', 'ABEV', 'TRGP', 'AME', 'GRMN', 'DHI', 'EA', 'OXY', 'GLW', 'ARGX', 'TCOM', 'WPM', 'VEEV', 'WTRG', 'CART', 'POOL', 'AR', 'BG', 'OHI', 'CPB', 'WWD', 'UHAL', 'UHAL-B', 'H', 'FTAI', 'TXRH', 'ALAB', 'NDSN', 'BNT', 'PCTY', 'JLL', 'PSO', 'DOCS', 'SCHZ', 'DFIC', 'SCHI', 'VSS', 'IJK', 'QYLD', 'AVDV', 'FTCS', 'XLG', 'CIBR', 'AVEM', 'FNDA', 'SPSB', 'DFAX', 'BBCA', 'HEFA', 'VIGI', 'SPLV', 'SPHY', 'SCHH', 'PSA', 'MRVL', 'O', 'FDX', 'CVNA', 'ARES', 'WCN', 'NSC', 'TFC', 'NXPI', 'GWW', 'DB', 'SRE', 'PCAR', 'FICO', 'TAK', 'AIG', 'ALC', 'SLB', 'KDP', 'GWRE', 'PFG', 'SFM', 'IHG', 'CRBG', 'HRL', 'CSL', 'CFG', 'GPC', 'COO', 'NWS', 'NWSA', 'SNA', 'KEY', 'CPT', 'FDS', 'BF-A', 'BF-B', 'TRU', 'DD', 'MTB', 'DAL', 'STLA', 'TKO', 'EQR', 'ROL', 'TTD', 'WRB', 'NUE', 'PPL', 'AEE', 'TSCO', 'IQV', 'NTR', 'GDDY', 'NOK', 'IRM', 'RKT', 'VRSN', 'IOT', 'CHKP', 'PBA', 'CBOE', 'EIX', 'UAL', 'MTD', 'STE', 'NRG', 'CVE', 'FMX', 'IX', 'SMCI', 'CMS', 'FOX', 'FOXA', 'TDY', 'RDDT', 'EL', 'ZBH', 'MKC', 'BCE', 'AU', 'TROW', 'LI', 'SYF', 'GFS', 'GFI', 'IFF', 'GRAB', 'DGX', 'CTRA', 'AER', 'HUBB', 'GFL', 'LYB', 'CCJ', 'MAA', 'BBY', 'BALL', 'RIVN', 'TPR', 'SOFI', 'WDC', 'MDB', 'CG', 'BURL', 'FIX', 'MNDY', 'DT', 'SBS', 'UNM', 'KIM', 'BLDR', 'AMCR', 'VNO', 'UDR', 'AMH', 'TRI', 'HCA', 'BN', 'DASH', 'CDNS', 'MCO', 'FTNT', 'TT', 'TDG', 'ABNB', 'ORLY', 'PH', 'BP', 'CL', 'RSG', 'APO', 'RIO', 'GSK', 'SCCO', 'MMM', 'BRKR', 'BOKF', 'CCCS', 'FCFS', 'FLS', 'BMA', 'STVN', 'VMI', 'MTG', 'SRPT', 'STEP', 'WFG', 'CWAN', 'SLM', 'CHH', 'CIGI', 'TRNO', 'THG', 'OMF', 'CACC', 'VO', 'RSP', 'SCHD', 'BNDX', 'XLK', 'ITOT', 'SPLG', 'EFA', 'IWD', 'IWM', 'VB', 'VYM', 'IBIT', 'VCIT', 'IVW', 'SCHX', 'BIL', 'XLF', 'TLT', 'QUAL', 'BERY', 'TECH', 'GAP', 'MTSI', 'BRX', 'WCC', 'TIMB', 'ROIV', 'ALSN', 'DCI', 'NIO', 'REXR', 'FND', 'CAE', 'PEGA', 'PNFP', 'FSV', 'GTLB', 'EVR', 'DFSD', 'IXN', 'FEZ', 'CALF', 'BBEU', 'URTH', 'BSCQ', 'BBUS', 'VSGX', 'DFSV', 'DSI', 'EEMV', 'EWT', 'VOX', 'DIVO', 'TCAF', 'SJNK', 'SCHC', 'FELC', 'OTIS', 'ETR', 'PRU', 'BKR', 'CBRE', 'XYZ', 'VLO', 'CTSH', 'IDXX', 'KHC', 'IMO', 'DDOG', 'CSGP', 'FER', 'SYY', 'RMD', 'WEC', 'ACGL', 'VICI', 'HIG', 'VCLT', 'MINT', 'SCHP', 'USIG', 'EMB', 'IWS', 'MOAT', 'ESGU', 'EFG', 'GSLC', 'SPHQ', 'BBJP', 'IWY', 'STIP', 'SPMD', 'SCHV', 'FTEC', 'VONV', 'VFH', 'NOBL', 'GD', 'AON', 'INFY', 'WMB', 'MSI', 'IBKR', 'NGG', 'ITW', 'COF', 'CEG', 'CMG', 'SE', 'BMO', 'SNPS', 'ZTS', 'NOC', 'CP', 'EPD', 'ECL', 'NTES', 'VST', 'TEL', 'MPC', 'E', 'PBR', 'JD', 'PWR', 'PSX', 'CPNG', 'NET', 'CTVA', 'FIS', 'MSCI', 'FLUT', 'URI', 'YUM', 'HES', 'VALE', 'CCEP', 'PEG', 'SPTL', 'SCHO', 'VTWO', 'HDV', 'DFUV', 'PULS', 'IWO', 'IGV', 'IWN', 'SOXX', 'SCHR', 'CGGR', 'SCHM', 'SPSM', 'SPEM', 'AMLP', 'TLH', 'DFIV', 'DFAT', 'VGLT', 'GS', 'RTX', 'RY', 'QCOM', 'DIS', 'UBER', 'BX', 'TMO', 'BKNG', 'AMD', 'ADBE', 'UL', 'PGR', 'AMGN', 'BSX', 'SPGI', 'SONY', 'SCHW', 'TXN', 'CAT', 'BMI', 'POST', 'LEVI', 'NXT', 'WING', 'BBWI', 'KNX', 'LEGN', 'IDA', 'VERX', 'EPRT', 'FAF', 'SPXC', 'STAG', 'AGCO', 'HIMS', 'IVZ', 'BWA', 'TREX', 'ET', 'KMI', 'APD', 'AEP', 'ING', 'EMR', 'CHTR', 'LYG', 'SPG', 'AFL', 'BDX', 'CPRT', 'TRV', 'NU', 'RCL', 'ADSK', 'CM', 'MNST', 'BCS', 'BK', 'MUSA', 'AIZ', 'VTRS', 'X', 'LKQ', 'JEF', 'DOX', 'BRBR', 'HST', 'MGA', 'ROKU', 'HMY', 'PCOR', 'WBA', 'BIRK', 'SWK', 'CELH', 'SWKS', 'CIEN', 'BIDU', 'LVS', 'STT', 'MCHP', 'LPLA', 'ERIC', 'ATO', 'IP', 'CNP', 'KEYS', 'RYAAY', 'BEKE', 'EXE', 'BNTX', 'WDS', 'CHD', 'FE', 'FTS', 'ONC', 'CCL', 'FHN', 'OGE', 'OVV', 'NVT', 'EPAM', 'SUN', 'MGM', 'CX', 'PAC', 'SF', 'HII', 'ASR', 'SSB', 'MASI', 'HESM', 'WF', 'AVTR', 'ESTC', 'EMN', 'DBEF', 'SDVY', 'AVUS', 'DUHP', 'PAVE', 'VDC', 'PRF', 'IJJ', 'DFAU', 'XLRE', 'TFLO', 'VPL', 'IAGG', 'ONEQ', 'JIRE', 'VDE', 'FTSM', 'VPU', 'AVLV', 'SPYD', 'ARMK', 'FRHC', 'WYNN', 'ICL', 'BLD', 'PRI', 'WMS', 'XP', 'SKM', 'MEDP', 'EGP', 'CR', 'HAS', 'HLNE', 'EXAS', 'GGAL', 'G', 'NYT', 'INGR', 'TTEK', 'ENPH', 'LRN', 'GLBE', 'ONTO', 'GTLS', 'S', 'TFX', 'CZR', 'LPX', 'MSA', 'AWI', 'OLED', 'SNV', 'PSLV', 'FLR', 'GH', 'QRVO', 'APA', 'CDP', 'VIRT', 'DELL', 'REGN', 'MAR', 'PYPL', 'WDAY', 'PNC', 'CRH', 'EOG', 'USB', 'EQNR', 'MFG', 'CNQ', 'DEO', 'CNI', 'BNS', 'AZO', 'NEM', 'TEAM', 'AEM', 'ROP', 'ARKB', 'XBI', 'SSO', 'TMF', 'BBAX', 'VWOB', 'DFEM', 'XMHQ', 'PYLD', 'CGCP', 'GUNR', 'FDVV', 'PPA', 'IDV', 'DLN', 'OMFL', 'PDBC', 'ISTB', 'IHI', 'ESGE', 'FBTC', 'DVY', 'IDEV', 'USFR', 'FBND', 'GBTC', 'IYW', 'XLU', 'VBK', 'IWP', 'VOE', 'IEI', 'FNDX', 'OEF', 'EEM', 'SCHA', 'XLP', 'VHT', 'DYNF', 'GDX', 'JNK', 'QLD', 'SHYG', 'SPMB', 'BOXX', 'IJS', 'FXI', 'PBUS', 'IEUR', 'TBIL', 'SPMO', 'JQUA', 'FPE', 'IJT', 'MCHI', 'BOND', 'VONE', 'IGM', 'GDXJ', 'IBB', 'RKLB', 'ALLY', 'DTM', 'COHR', 'BWXT', 'TOL', 'STN', 'KMX', 'PR', 'DRS', 'CRS', 'FUTU', 'MTZ', 'CACI', 'SEIC', 'BEN', 'ATR', 'ASND', 'NICE', 'KNSL', 'BIO', 'ALB', 'TTC', 'KNTK', 'BXSL', 'LSCC', 'TFII', 'GNRC', 'JAZZ', 'SRAD', 'RLI', 'MHK', 'AA', 'ONB', 'BPOP', 'ADT', 'ZION', 'WH', 'OLLI', 'TGTX', 'ADC', 'RRC', 'PARA', 'MKTX', 'DBX', 'ERJ', 'FRT', 'RGEN', 'CHE', 'CBSH', 'AGNC', 'PLNT', 'AM', 'KVYO', 'MLI', 'CFLT', 'WPP', 'WBS', 'HRB', 'HSIC', 'FSEC', 'SLYV', 'JMST', 'DON', 'CMF', 'IYF', 'GVI', 'XMMO', 'EDV', 'FV', 'NVDL', 'BSCR', 'SHM', 'HYLB', 'CGXU', 'ACWV', 'JPIE', 'UPRO', 'HYD', 'SPHD', 'SRLN', 'FNDE', 'IGF', 'GBIL', 'ITA', 'AVDE', 'BUFR', 'VLUE', 'JGLO', 'JCPB', 'FDN', 'MGC', 'BLV', 'SPTS', 'ICSH', 'IOO', 'ACWX', 'BKLN', 'KWEB', 'VGSH', 'BIV', 'VGK', 'MGK', 'MDY', 'IGSB', 'TQQQ', 'COWZ', 'USHY', 'EFV', 'IUSG', 'ACWI', 'JAAA', 'XLC', 'SMH', 'VXF', 'IUSV', 'XLY', 'SDY', 'XLI', 'JBHT', 'ACM', 'SYM', 'PAA', 'APTV', 'CNA', 'CW', 'MAS', 'PPC', 'DOC', 'INSM', 'SGI', 'GMAB', 'ELS', 'ACI', 'ZBRA', 'BBD', 'YPF', 'JKHY', 'WAB', 'GEHC', 'EXR', 'ODFL', 'GIS', 'LYV', 'TPL', 'VTR', 'MLM', 'A', 'CHT', 'IR', 'HEI', 'HEI-A', 'DKNG', 'EQT', 'WTW', 'WIT', 'AVB', 'CQP', 'CHRW', 'MANH', 'AFG', 'HTHT', 'NBIX', 'MRNA', 'PAG', 'CAVA', 'APG', 'YMM', 'CCK', 'JHX', 'LECO', 'CNM', 'BROS', 'CLS', 'EXEL', 'RBC', 'GL', 'AEG']\n"
     ]
    },
    {
     "data": {
      "text/plain": [
       "1540"
      ]
     },
     "execution_count": 75,
     "metadata": {},
     "output_type": "execute_result"
    }
   ],
   "source": [
    "# Assuming your DataFrame is named 'df'\n",
    "unique_symbols = df.index.get_level_values(0).unique().tolist()\n",
    "\n",
    "# Print the list (optional)\n",
    "print(unique_symbols)\n",
    "len(unique_symbols)"
   ]
  },
  {
   "cell_type": "code",
   "execution_count": 76,
   "metadata": {},
   "outputs": [
    {
     "name": "stdout",
     "output_type": "stream",
     "text": [
      "Is 'AAPL' in the list? True\n"
     ]
    }
   ],
   "source": [
    "symbol_to_check = 'AAPL'  # Example symbol to check\n",
    "is_present = symbol_to_check in unique_symbols\n",
    "print(f\"Is '{symbol_to_check}' in the list? {is_present}\")"
   ]
  },
  {
   "cell_type": "code",
   "execution_count": 77,
   "metadata": {},
   "outputs": [
    {
     "name": "stdout",
     "output_type": "stream",
     "text": [
      "The autoreload extension is already loaded. To reload it, use:\n",
      "  %reload_ext autoreload\n",
      "Using 'Symbol' as the symbol identifier.\n",
      "Original number of Symbols: 1540\n",
      "Number of Symbols after filtering: 1540\n",
      "Number of Symbols filtered out: 0\n",
      "\n",
      "First 10 Symbols that were filtered out:\n",
      "[]\n",
      "\n",
      "Filtered DataFrame info:\n",
      "<class 'pandas.core.frame.DataFrame'>\n",
      "MultiIndex: 385000 entries, ('WTFC', Timestamp('2025-04-25 00:00:00')) to ('AEG', Timestamp('2024-04-26 00:00:00'))\n",
      "Data columns (total 9 columns):\n",
      " #   Column     Non-Null Count   Dtype  \n",
      "---  ------     --------------   -----  \n",
      " 0   Open       385000 non-null  float64\n",
      " 1   High       385000 non-null  float64\n",
      " 2   Low        385000 non-null  float64\n",
      " 3   Close      385000 non-null  float64\n",
      " 4   Adj Close  385000 non-null  float64\n",
      " 5   Volume     384991 non-null  Int64  \n",
      " 6   Adj Open   385000 non-null  float64\n",
      " 7   Adj High   385000 non-null  float64\n",
      " 8   Adj Low    385000 non-null  float64\n",
      "dtypes: Int64(1), float64(8)\n",
      "memory usage: 28.3+ MB\n",
      "None\n",
      "\n",
      "[Cleaning Report]\n",
      "Removed 3 symbols with missing data: ['BULL', 'FER', 'FSEC']\n",
      "\n",
      "[Cleaned Data Structure]\n",
      "<class 'pandas.core.frame.DataFrame'>\n",
      "MultiIndex: 384250 entries, ('WTFC', Timestamp('2025-04-25 00:00:00')) to ('AEG', Timestamp('2024-04-26 00:00:00'))\n",
      "Data columns (total 9 columns):\n",
      " #   Column     Non-Null Count   Dtype  \n",
      "---  ------     --------------   -----  \n",
      " 0   Open       384250 non-null  float64\n",
      " 1   High       384250 non-null  float64\n",
      " 2   Low        384250 non-null  float64\n",
      " 3   Close      384250 non-null  float64\n",
      " 4   Adj Close  384250 non-null  float64\n",
      " 5   Volume     384250 non-null  Int64  \n",
      " 6   Adj Open   384250 non-null  float64\n",
      " 7   Adj High   384250 non-null  float64\n",
      " 8   Adj Low    384250 non-null  float64\n",
      "dtypes: Int64(1), float64(8)\n",
      "memory usage: 28.3+ MB\n"
     ]
    }
   ],
   "source": [
    "import sys\n",
    "from pathlib import Path\n",
    "\n",
    "# Notebook cell\n",
    "%load_ext autoreload\n",
    "%autoreload 2\n",
    "\n",
    "# Get root directory (assuming notebook is in root/notebooks/)\n",
    "NOTEBOOK_DIR = Path.cwd()\n",
    "ROOT_DIR = NOTEBOOK_DIR.parent if NOTEBOOK_DIR.name == 'notebooks' else NOTEBOOK_DIR\n",
    "\n",
    "# Add src directory to Python path\n",
    "sys.path.append(str(ROOT_DIR / 'src'))\n",
    "\n",
    "\n",
    "# --- Data Filtering & Cleaning ---\n",
    "import utils  # Custom utility functions\n",
    "\n",
    "# 1. Align dates across all symbols using AAPL as reference\n",
    "df_filter = utils.filter_df_dates_to_reference_symbol(df=df, reference_symbol='AAPL')\n",
    "\n",
    "# 2. Remove symbols with missing data points\n",
    "df_clean, missing_symbols = utils.filter_symbols_with_missing_values(df)\n",
    "\n",
    "# Display cleaning results\n",
    "print(\"\\n[Cleaning Report]\")\n",
    "print(f\"Removed {len(missing_symbols)} symbols with missing data: {missing_symbols}\")\n",
    "print(\"\\n[Cleaned Data Structure]\")\n",
    "df_clean.info()"
   ]
  },
  {
   "cell_type": "code",
   "execution_count": 78,
   "metadata": {},
   "outputs": [
    {
     "name": "stdout",
     "output_type": "stream",
     "text": [
      "<class 'pandas.core.frame.DataFrame'>\n",
      "MultiIndex: 385000 entries, ('WTFC', Timestamp('2025-04-25 00:00:00')) to ('AEG', Timestamp('2024-04-26 00:00:00'))\n",
      "Data columns (total 9 columns):\n",
      " #   Column     Non-Null Count   Dtype  \n",
      "---  ------     --------------   -----  \n",
      " 0   Open       385000 non-null  float64\n",
      " 1   High       385000 non-null  float64\n",
      " 2   Low        385000 non-null  float64\n",
      " 3   Close      385000 non-null  float64\n",
      " 4   Adj Close  385000 non-null  float64\n",
      " 5   Volume     384991 non-null  Int64  \n",
      " 6   Adj Open   385000 non-null  float64\n",
      " 7   Adj High   385000 non-null  float64\n",
      " 8   Adj Low    385000 non-null  float64\n",
      "dtypes: Int64(1), float64(8)\n",
      "memory usage: 28.3+ MB\n",
      "df_filter.info():\n",
      "None\n",
      "Number of tickers in filtered data: 1540\n"
     ]
    }
   ],
   "source": [
    "print(f'df_filter.info():\\n{df_filter.info()}')\n",
    "filter_ticker_count = len(df_filter.index.get_level_values(0).unique().tolist())\n",
    "print(f\"Number of tickers in filtered data: {filter_ticker_count}\")"
   ]
  },
  {
   "cell_type": "code",
   "execution_count": 79,
   "metadata": {},
   "outputs": [
    {
     "name": "stdout",
     "output_type": "stream",
     "text": [
      "<class 'pandas.core.frame.DataFrame'>\n",
      "MultiIndex: 384250 entries, ('WTFC', Timestamp('2025-04-25 00:00:00')) to ('AEG', Timestamp('2024-04-26 00:00:00'))\n",
      "Data columns (total 9 columns):\n",
      " #   Column     Non-Null Count   Dtype  \n",
      "---  ------     --------------   -----  \n",
      " 0   Open       384250 non-null  float64\n",
      " 1   High       384250 non-null  float64\n",
      " 2   Low        384250 non-null  float64\n",
      " 3   Close      384250 non-null  float64\n",
      " 4   Adj Close  384250 non-null  float64\n",
      " 5   Volume     384250 non-null  Int64  \n",
      " 6   Adj Open   384250 non-null  float64\n",
      " 7   Adj High   384250 non-null  float64\n",
      " 8   Adj Low    384250 non-null  float64\n",
      "dtypes: Int64(1), float64(8)\n",
      "memory usage: 28.3+ MB\n",
      "df_clean.info():\n",
      "None\n",
      "Number of tickers in cleaned data: 1537\n"
     ]
    }
   ],
   "source": [
    "print(f'df_clean.info():\\n{df_clean.info()}')\n",
    "cleaned_ticker_count = len(df_clean.index.get_level_values(0).unique().tolist())\n",
    "print(f\"Number of tickers in cleaned data: {cleaned_ticker_count}\")"
   ]
  },
  {
   "cell_type": "code",
   "execution_count": 80,
   "metadata": {},
   "outputs": [
    {
     "name": "stdout",
     "output_type": "stream",
     "text": [
      "source_path: ../data/df_OHLCV_stocks_etfs.parquet\n",
      "Number of tickers in raw data:      1571\n",
      "Number of tickers in filtered data: 1540\n",
      "Number of tickers in cleaned data:  1537\n"
     ]
    }
   ],
   "source": [
    "print(f'source_path: {source_path}')\n",
    "print(f\"Number of tickers in raw data:      {raw_ticker_count}\")\n",
    "print(f\"Number of tickers in filtered data: {filter_ticker_count}\")\n",
    "print(f\"Number of tickers in cleaned data:  {cleaned_ticker_count}\")"
   ]
  },
  {
   "cell_type": "code",
   "execution_count": 69,
   "metadata": {},
   "outputs": [
    {
     "name": "stdout",
     "output_type": "stream",
     "text": [
      "source_path: C:/Users/ping\\Downloads/df_OHLCV_2025-04-25_stocks_etfs.parquet\n",
      "Number of tickers in raw data:      1558\n",
      "Number of tickers in filtered data: 1540\n",
      "Number of tickers in cleaned data:  1537\n"
     ]
    }
   ],
   "source": [
    "print(f'source_path: {source_path}')\n",
    "print(f\"Number of tickers in raw data:      {raw_ticker_count}\")\n",
    "print(f\"Number of tickers in filtered data: {filter_ticker_count}\")\n",
    "print(f\"Number of tickers in cleaned data:  {cleaned_ticker_count}\")"
   ]
  },
  {
   "cell_type": "code",
   "execution_count": 27,
   "metadata": {},
   "outputs": [
    {
     "data": {
      "text/html": [
       "<div>\n",
       "<style scoped>\n",
       "    .dataframe tbody tr th:only-of-type {\n",
       "        vertical-align: middle;\n",
       "    }\n",
       "\n",
       "    .dataframe tbody tr th {\n",
       "        vertical-align: top;\n",
       "    }\n",
       "\n",
       "    .dataframe thead th {\n",
       "        text-align: right;\n",
       "    }\n",
       "</style>\n",
       "<table border=\"1\" class=\"dataframe\">\n",
       "  <thead>\n",
       "    <tr style=\"text-align: right;\">\n",
       "      <th></th>\n",
       "      <th>Open</th>\n",
       "      <th>High</th>\n",
       "      <th>Low</th>\n",
       "      <th>Close</th>\n",
       "      <th>Adj Close</th>\n",
       "      <th>Volume</th>\n",
       "      <th>Adj Open</th>\n",
       "      <th>Adj High</th>\n",
       "      <th>Adj Low</th>\n",
       "    </tr>\n",
       "    <tr>\n",
       "      <th>Date</th>\n",
       "      <th></th>\n",
       "      <th></th>\n",
       "      <th></th>\n",
       "      <th></th>\n",
       "      <th></th>\n",
       "      <th></th>\n",
       "      <th></th>\n",
       "      <th></th>\n",
       "      <th></th>\n",
       "    </tr>\n",
       "  </thead>\n",
       "  <tbody>\n",
       "    <tr>\n",
       "      <th>2025-04-25</th>\n",
       "      <td>25.73</td>\n",
       "      <td>26.07</td>\n",
       "      <td>25.36</td>\n",
       "      <td>25.71</td>\n",
       "      <td>25.71</td>\n",
       "      <td>5293300</td>\n",
       "      <td>25.730000</td>\n",
       "      <td>26.070000</td>\n",
       "      <td>25.360000</td>\n",
       "    </tr>\n",
       "    <tr>\n",
       "      <th>2025-04-24</th>\n",
       "      <td>25.25</td>\n",
       "      <td>26.61</td>\n",
       "      <td>25.25</td>\n",
       "      <td>26.44</td>\n",
       "      <td>26.44</td>\n",
       "      <td>6323200</td>\n",
       "      <td>25.250000</td>\n",
       "      <td>26.610000</td>\n",
       "      <td>25.250000</td>\n",
       "    </tr>\n",
       "    <tr>\n",
       "      <th>2025-04-23</th>\n",
       "      <td>25.23</td>\n",
       "      <td>26.19</td>\n",
       "      <td>24.81</td>\n",
       "      <td>25.05</td>\n",
       "      <td>25.05</td>\n",
       "      <td>8478300</td>\n",
       "      <td>25.230000</td>\n",
       "      <td>26.190000</td>\n",
       "      <td>24.810000</td>\n",
       "    </tr>\n",
       "    <tr>\n",
       "      <th>2025-04-22</th>\n",
       "      <td>23.62</td>\n",
       "      <td>24.94</td>\n",
       "      <td>23.57</td>\n",
       "      <td>24.32</td>\n",
       "      <td>24.32</td>\n",
       "      <td>8992900</td>\n",
       "      <td>23.620000</td>\n",
       "      <td>24.940000</td>\n",
       "      <td>23.570000</td>\n",
       "    </tr>\n",
       "    <tr>\n",
       "      <th>2025-04-21</th>\n",
       "      <td>23.10</td>\n",
       "      <td>23.55</td>\n",
       "      <td>22.68</td>\n",
       "      <td>23.30</td>\n",
       "      <td>23.30</td>\n",
       "      <td>7072900</td>\n",
       "      <td>23.100000</td>\n",
       "      <td>23.550000</td>\n",
       "      <td>22.680000</td>\n",
       "    </tr>\n",
       "    <tr>\n",
       "      <th>...</th>\n",
       "      <td>...</td>\n",
       "      <td>...</td>\n",
       "      <td>...</td>\n",
       "      <td>...</td>\n",
       "      <td>...</td>\n",
       "      <td>...</td>\n",
       "      <td>...</td>\n",
       "      <td>...</td>\n",
       "      <td>...</td>\n",
       "    </tr>\n",
       "    <tr>\n",
       "      <th>2024-05-02</th>\n",
       "      <td>34.11</td>\n",
       "      <td>35.97</td>\n",
       "      <td>34.03</td>\n",
       "      <td>35.94</td>\n",
       "      <td>35.54</td>\n",
       "      <td>5784400</td>\n",
       "      <td>33.730367</td>\n",
       "      <td>35.569666</td>\n",
       "      <td>33.651258</td>\n",
       "    </tr>\n",
       "    <tr>\n",
       "      <th>2024-05-01</th>\n",
       "      <td>35.20</td>\n",
       "      <td>35.47</td>\n",
       "      <td>33.88</td>\n",
       "      <td>34.25</td>\n",
       "      <td>33.86</td>\n",
       "      <td>8382000</td>\n",
       "      <td>34.799182</td>\n",
       "      <td>35.066108</td>\n",
       "      <td>33.494213</td>\n",
       "    </tr>\n",
       "    <tr>\n",
       "      <th>2024-04-30</th>\n",
       "      <td>36.76</td>\n",
       "      <td>36.92</td>\n",
       "      <td>35.11</td>\n",
       "      <td>35.14</td>\n",
       "      <td>34.74</td>\n",
       "      <td>7993000</td>\n",
       "      <td>36.341559</td>\n",
       "      <td>36.499738</td>\n",
       "      <td>34.710341</td>\n",
       "    </tr>\n",
       "    <tr>\n",
       "      <th>2024-04-29</th>\n",
       "      <td>36.88</td>\n",
       "      <td>38.20</td>\n",
       "      <td>36.65</td>\n",
       "      <td>37.65</td>\n",
       "      <td>37.23</td>\n",
       "      <td>5667100</td>\n",
       "      <td>36.468590</td>\n",
       "      <td>37.773865</td>\n",
       "      <td>36.241155</td>\n",
       "    </tr>\n",
       "    <tr>\n",
       "      <th>2024-04-26</th>\n",
       "      <td>36.51</td>\n",
       "      <td>37.39</td>\n",
       "      <td>36.23</td>\n",
       "      <td>36.88</td>\n",
       "      <td>36.46</td>\n",
       "      <td>5653300</td>\n",
       "      <td>36.094214</td>\n",
       "      <td>36.964192</td>\n",
       "      <td>35.817402</td>\n",
       "    </tr>\n",
       "  </tbody>\n",
       "</table>\n",
       "<p>250 rows × 9 columns</p>\n",
       "</div>"
      ],
      "text/plain": [
       "             Open   High    Low  Close  Adj Close   Volume   Adj Open   Adj High    Adj Low\n",
       "Date                                                                                       \n",
       "2025-04-25  25.73  26.07  25.36  25.71      25.71  5293300  25.730000  26.070000  25.360000\n",
       "2025-04-24  25.25  26.61  25.25  26.44      26.44  6323200  25.250000  26.610000  25.250000\n",
       "2025-04-23  25.23  26.19  24.81  25.05      25.05  8478300  25.230000  26.190000  24.810000\n",
       "2025-04-22  23.62  24.94  23.57  24.32      24.32  8992900  23.620000  24.940000  23.570000\n",
       "2025-04-21  23.10  23.55  22.68  23.30      23.30  7072900  23.100000  23.550000  22.680000\n",
       "...           ...    ...    ...    ...        ...      ...        ...        ...        ...\n",
       "2024-05-02  34.11  35.97  34.03  35.94      35.54  5784400  33.730367  35.569666  33.651258\n",
       "2024-05-01  35.20  35.47  33.88  34.25      33.86  8382000  34.799182  35.066108  33.494213\n",
       "2024-04-30  36.76  36.92  35.11  35.14      34.74  7993000  36.341559  36.499738  34.710341\n",
       "2024-04-29  36.88  38.20  36.65  37.65      37.23  5667100  36.468590  37.773865  36.241155\n",
       "2024-04-26  36.51  37.39  36.23  36.88      36.46  5653300  36.094214  36.964192  35.817402\n",
       "\n",
       "[250 rows x 9 columns]"
      ]
     },
     "execution_count": 27,
     "metadata": {},
     "output_type": "execute_result"
    }
   ],
   "source": [
    "df_clean.loc['AA']"
   ]
  },
  {
   "cell_type": "code",
   "execution_count": 18,
   "metadata": {},
   "outputs": [
    {
     "data": {
      "text/plain": [
       "[]"
      ]
     },
     "execution_count": 18,
     "metadata": {},
     "output_type": "execute_result"
    }
   ],
   "source": [
    "missing_symbols"
   ]
  },
  {
   "cell_type": "code",
   "execution_count": 14,
   "metadata": {},
   "outputs": [
    {
     "name": "stdout",
     "output_type": "stream",
     "text": [
      "\n",
      "[Save Successful] Cleaned data saved to:\n",
      "..\\data\\2025-04-25_df_OHLCV_clean_stocks_etfs.parquet\n"
     ]
    }
   ],
   "source": [
    "# --- Save Cleaned Data ---\n",
    "# # Save processed data to pickle file\n",
    "# df_clean.to_pickle(dest_path)\n",
    "\n",
    "# Using PyArrow (default, recommended for most cases)\n",
    "df_clean.to_parquet(dest_path, engine='pyarrow', compression='zstd')\n",
    "print(f\"\\n[Save Successful] Cleaned data saved to:\\n{dest_path}\")\n",
    "\n"
   ]
  }
 ],
 "metadata": {
  "kernelspec": {
   "display_name": ".venv",
   "language": "python",
   "name": "python3"
  },
  "language_info": {
   "codemirror_mode": {
    "name": "ipython",
    "version": 3
   },
   "file_extension": ".py",
   "mimetype": "text/x-python",
   "name": "python",
   "nbconvert_exporter": "python",
   "pygments_lexer": "ipython3",
   "version": "3.11.9"
  }
 },
 "nbformat": 4,
 "nbformat_minor": 2
}
