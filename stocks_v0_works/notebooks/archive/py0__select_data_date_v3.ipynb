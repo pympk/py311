{
 "cells": [
  {
   "cell_type": "code",
   "execution_count": null,
   "metadata": {},
   "outputs": [],
   "source": [
    "\n",
    "\n"
   ]
  },
  {
   "cell_type": "markdown",
   "metadata": {},
   "source": [
    "# FIRST RUN \n",
    "- ### py0__get_tickers_v0.ipynb\n",
    "- ### YLOADER\n",
    "- ### sorted_dates[-1::] Default to run only the most recent date"
   ]
  },
  {
   "cell_type": "code",
   "execution_count": null,
   "metadata": {},
   "outputs": [],
   "source": [
    "import sys\n",
    "from pathlib import Path\n",
    "import pandas as pd\n",
    "import os\n",
    "from IPython.display import display, Markdown  # Assuming you use these for display\n",
    "\n",
    "\n",
    "# Set pandas display options to show more columns and rows\n",
    "pd.set_option('display.max_columns', None)  # Show all columns\n",
    "# pd.set_option('display.max_rows', 10)       # Limit to 10 rows for readability\n",
    "pd.set_option('display.width', None)        # Let the display adjust to the window\n",
    "\n",
    "# 2. Set the display width (optional but \n",
    "# often helpful)\n",
    "#    'None' tries to detect terminal width. \n",
    "#    A large number (e.g., 1000) ensures no wrapping unless absolutely necessary.\n",
    "pd.set_option('display.width', 1000) \n",
    "\n",
    "\n",
    "# Notebook cell\n",
    "%load_ext autoreload\n",
    "%autoreload 2\n",
    "\n",
    "# Get root directory (assuming notebook is in root/notebooks/)\n",
    "NOTEBOOK_DIR = Path.cwd()\n",
    "ROOT_DIR = NOTEBOOK_DIR.parent if NOTEBOOK_DIR.name == 'notebooks' else NOTEBOOK_DIR\n",
    "\n",
    "# Add src directory to Python path\n",
    "sys.path.append(str(ROOT_DIR / 'src'))\n",
    "\n",
    "# Verify path\n",
    "print(f\"Python will look in these locations:\\n{sys.path}\")\n",
    "\n",
    "\n",
    "# --- Execute the processor ---\n",
    "import utils\n",
    "\n"
   ]
  },
  {
   "cell_type": "code",
   "execution_count": null,
   "metadata": {},
   "outputs": [],
   "source": [
    "files_list = utils.get_recent_files_in_directory(\n",
    "    prefix='df_finviz_2025',\n",
    "    extension='parquet',\n",
    "    count=100,\n",
    "    directory_name='Downloads'\n",
    ")\n",
    "\n",
    "if files_list:\n",
    "    print(f\"\\nMost recent files found in targetdirectory:\")\n",
    "    for i, filename in enumerate(files_list):\n",
    "        print(f\"{i+1}. {filename}\")\n",
    "else:\n",
    "    print(\"No 'ticker' CSV files found in your Downloads directory, or an error occurred.\")"
   ]
  },
  {
   "cell_type": "code",
   "execution_count": null,
   "metadata": {},
   "outputs": [],
   "source": [
    "import os\n",
    "\n",
    "def extract_and_sort_dates(files):\n",
    "    \"\"\"\n",
    "    Extracts date strings from a list of filenames, sorts them, and returns the sorted list.\n",
    "\n",
    "    Args:\n",
    "        files: A list of filenames with the format 'prefix_YYYY-MM-DD_suffix.extension'.\n",
    "\n",
    "    Returns:\n",
    "        A list of date strings in 'YYYY-MM-DD' format, sorted from oldest to newest.\n",
    "    \"\"\"\n",
    "    date_list = []\n",
    "    for file in files:\n",
    "        parts = file.split('_')\n",
    "        if len(parts) > 2:\n",
    "            # Assuming the date is always the third part (index 2) after splitting by '_'\n",
    "            date_str = parts[2]\n",
    "            date_list.append(date_str)\n",
    "\n",
    "    # Sorting the date strings directly works because the format YYYY-MM-DD is sortable alphabetically\n",
    "    date_list.sort()\n",
    "    return date_list\n"
   ]
  },
  {
   "cell_type": "code",
   "execution_count": null,
   "metadata": {},
   "outputs": [],
   "source": [
    "sorted_dates = extract_and_sort_dates(files_list)\n",
    "\n",
    "for idx, _date in enumerate(sorted_dates):\n",
    "  print(f\"{idx:<3}  {_date}\")"
   ]
  },
  {
   "cell_type": "code",
   "execution_count": null,
   "metadata": {},
   "outputs": [],
   "source": [
    "# create_config.py\n",
    "def create_config_file(date_str):\n",
    "    \"\"\"Create config.py with date configuration\"\"\"\n",
    "    config_content = f\"\"\"# config.py\n",
    "# File path configuration\n",
    "DATE_STR = '{date_str}'  # Date in YYYY-MM-DD format\n",
    "DOWNLOAD_DIR = r'C:\\\\Users\\\\ping\\\\Downloads'  # Raw string for Windows paths\n",
    "DEST_DIR = r'..\\\\data'\n",
    "ANNUAL_RISK_FREE_RATE = 0.04  # Annual risk-free rate\n",
    "TRADING_DAYS_YEAR = 252  # Number of trading days in a year\n",
    "\"\"\"\n",
    "    \n",
    "    with open('config.py', 'w') as f:\n",
    "        f.write(config_content)\n",
    "    \n",
    "    print(f\"config.py created with date: {date_str}\")\n"
   ]
  },
  {
   "cell_type": "code",
   "execution_count": null,
   "metadata": {},
   "outputs": [],
   "source": []
  },
  {
   "cell_type": "code",
   "execution_count": null,
   "metadata": {},
   "outputs": [],
   "source": [
    "# sorted_dates[-1::]\n",
    "sorted_dates[20::]"
   ]
  },
  {
   "cell_type": "markdown",
   "metadata": {},
   "source": [
    "#### ==== BEFORE RUNNING SEQUENCE ====\n",
    "#### Run colab finviz, Yloader\n",
    "#### Select sorted_dates slice\n"
   ]
  },
  {
   "cell_type": "code",
   "execution_count": null,
   "metadata": {},
   "outputs": [],
   "source": [
    "# for date_str in sorted_dates:\n",
    "for date_str in sorted_dates[-1::]:  # Run the sequence for the most recent date\n",
    "# for date_str in sorted_dates[20::]:  # Run the sequence for the 3rd to the most recent date\n",
    "  create_config_file(date_str)  # Create config.py with the date_str\n",
    "  print(f'Updated config.py with date: {date_str}')\n",
    "  print(f'Running sequence for {date_str}')\n",
    "  %run run_sequence.py\n"
   ]
  }
 ],
 "metadata": {
  "kernelspec": {
   "display_name": ".venv",
   "language": "python",
   "name": "python3"
  },
  "language_info": {
   "codemirror_mode": {
    "name": "ipython",
    "version": 3
   },
   "file_extension": ".py",
   "mimetype": "text/x-python",
   "name": "python",
   "nbconvert_exporter": "python",
   "pygments_lexer": "ipython3",
   "version": "3.11.9"
  }
 },
 "nbformat": 4,
 "nbformat_minor": 2
}
