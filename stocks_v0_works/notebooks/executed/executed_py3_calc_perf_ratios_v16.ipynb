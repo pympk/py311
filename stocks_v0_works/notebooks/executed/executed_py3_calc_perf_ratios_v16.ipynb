{
 "cells": [
  {
   "cell_type": "code",
   "execution_count": null,
   "metadata": {},
   "outputs": [],
   "source": []
  },
  {
   "cell_type": "markdown",
   "metadata": {},
   "source": [
    "### Performance Ratio Calculation Pipeline\n",
    "\n",
    "This notebook calculates various performance metrics (Sharpe, Sortino, Omega) over multiple time horizons for a given set of tickers.\n",
    "\n",
    "**Workflow:**\n",
    "\n",
    "1.  **Prerequisites:** A cleaned OHLCV data file (`df_OHLCV_clean_stocks_etfs.parquet`) must exist. The `config.py` file must be up-to-date with the desired `DATE_STR` and `ANNUAL_RISK_FREE_RATE`.\n",
    "2.  **Load Data:** Loads the cleaned OHLCV data.\n",
    "3.  **Prepare Data Windows:** Slices the data up to the `DATE_STR` and creates a list of DataFrames, each corresponding to a different time window (e.g., 3 days, 5 days, 250 days).\n",
    "4.  **Calculate Ratios:** Iterates through each data window and ticker to calculate the performance ratios.\n",
    "5.  **Clean Results:** Handles any `NaN` or infinite values that result from the calculations (e.g., due to zero volatility).\n",
    "6.  **Save & Verify:** Saves the final DataFrame of ratios to a Parquet file and displays a sample for verification.\n"
   ]
  },
  {
   "cell_type": "markdown",
   "metadata": {},
   "source": [
    "### Setup and Configuration\n",
    "\n",
    "This cell loads all necessary libraries and configuration parameters. It pulls dynamic settings from `config.py` and defines static settings for this specific notebook.\n"
   ]
  },
  {
   "cell_type": "code",
   "execution_count": 1,
   "metadata": {
    "execution": {
     "iopub.execute_input": "2025-07-01T23:47:48.682765Z",
     "iopub.status.busy": "2025-07-01T23:47:48.682765Z",
     "iopub.status.idle": "2025-07-01T23:47:56.421075Z",
     "shell.execute_reply": "2025-07-01T23:47:56.420065Z"
    }
   },
   "outputs": [
    {
     "name": "stdout",
     "output_type": "stream",
     "text": [
      "Processing for Date: 2025-07-01\n",
      "Annual Risk-Free Rate: 0.04\n",
      "Source file: c:\\Users\\ping\\Files_win10\\python\\py311\\stocks_v0_works\\data\\df_OHLCV_clean_stocks_etfs.parquet\n",
      "Destination file: c:\\Users\\ping\\Files_win10\\python\\py311\\stocks_v0_works\\data\\2025-07-01_df_perf_ratios_stocks_etfs.parquet\n"
     ]
    }
   ],
   "source": [
    "import sys\n",
    "from pathlib import Path\n",
    "import pandas as pd\n",
    "import numpy as np\n",
    "from tabulate import tabulate\n",
    "\n",
    "# --- Project Path Setup ---\n",
    "NOTEBOOK_DIR = Path.cwd()\n",
    "ROOT_DIR = NOTEBOOK_DIR.parent if NOTEBOOK_DIR.name == 'notebooks' else NOTEBOOK_DIR\n",
    "if str(ROOT_DIR) not in sys.path:\n",
    "    sys.path.append(str(ROOT_DIR))\n",
    "SRC_DIR = ROOT_DIR / 'src'\n",
    "if str(SRC_DIR) not in sys.path:\n",
    "    sys.path.append(str(SRC_DIR))\n",
    "\n",
    "# --- Dynamic Configuration (from config.py) ---\n",
    "from config import DATE_STR, DEST_DIR, ANNUAL_RISK_FREE_RATE\n",
    "import utils\n",
    "\n",
    "# --- Static Configuration for this Notebook ---\n",
    "# Define the time windows (in days) for which to calculate ratios.\n",
    "DAYS_RATIO = [3, 5, 10, 15, 30, 60, 120, 250]\n",
    "\n",
    "# Define a list of key symbols to display in the final verification step.\n",
    "# SAMPLE_SYMBOLS = ['AAPL', 'MSFT', 'GOOG', 'NVDA', 'AMZN', 'TSLA', 'META', 'GLD', 'MSTR', 'IBIT']\n",
    "SAMPLE_SYMBOLS = [\n",
    "    'AAPL', 'MSFT', 'GOOG', 'NVDA', 'AMZN', 'TSLA', \n",
    "     'META', 'GLD', 'MSTR', 'IBIT', 'SHOP', 'VGT',\n",
    "     'ORCl', 'SNOW', 'COIN', \n",
    "    ]\n",
    "\n",
    "# --- File Path Construction ---\n",
    "# The source file is the cleaned OHLCV data.\n",
    "SOURCE_PATH = Path(DEST_DIR) / 'df_OHLCV_clean_stocks_etfs.parquet'\n",
    "# The destination file will store the calculated performance ratios for the given DATE_STR.\n",
    "DEST_PATH = Path(DEST_DIR) / f'{DATE_STR}_df_perf_ratios_stocks_etfs.parquet'\n",
    "\n",
    "# --- Notebook Setup ---\n",
    "pd.set_option('display.max_columns', None)\n",
    "pd.set_option('display.width', 2500)\n",
    "%load_ext autoreload\n",
    "%autoreload 2\n",
    "\n",
    "# --- Verification ---\n",
    "print(f\"Processing for Date: {DATE_STR}\")\n",
    "print(f\"Annual Risk-Free Rate: {ANNUAL_RISK_FREE_RATE}\")\n",
    "print(f\"Source file: {SOURCE_PATH}\")\n",
    "print(f\"Destination file: {DEST_PATH}\")"
   ]
  },
  {
   "cell_type": "markdown",
   "metadata": {},
   "source": [
    "### Step 1: Load Source Data\n",
    "\n",
    "Load the cleaned OHLCV data, which serves as the single source of truth for prices and the list of valid tickers."
   ]
  },
  {
   "cell_type": "code",
   "execution_count": 2,
   "metadata": {
    "execution": {
     "iopub.execute_input": "2025-07-01T23:47:56.485670Z",
     "iopub.status.busy": "2025-07-01T23:47:56.484672Z",
     "iopub.status.idle": "2025-07-01T23:47:57.193104Z",
     "shell.execute_reply": "2025-07-01T23:47:57.192063Z"
    }
   },
   "outputs": [
    {
     "name": "stdout",
     "output_type": "stream",
     "text": [
      "--- Step 1: Loading data from df_OHLCV_clean_stocks_etfs.parquet ---\n"
     ]
    },
    {
     "name": "stdout",
     "output_type": "stream",
     "text": [
      "Successfully loaded data for 1547 tickers.\n",
      "<class 'pandas.core.frame.DataFrame'>\n",
      "MultiIndex: 547638 entries, ('A', Timestamp('2025-07-01 00:00:00')) to ('ZWS', Timestamp('2024-02-01 00:00:00'))\n",
      "Data columns (total 1 columns):\n",
      " #   Column     Non-Null Count   Dtype  \n",
      "---  ------     --------------   -----  \n",
      " 0   Adj Close  547638 non-null  float64\n",
      "dtypes: float64(1)\n",
      "memory usage: 6.3+ MB\n"
     ]
    }
   ],
   "source": [
    "print(f\"--- Step 1: Loading data from {SOURCE_PATH.name} ---\")\n",
    "\n",
    "try:\n",
    "    df_ohlcv = pd.read_parquet(SOURCE_PATH, engine='pyarrow')\n",
    "    # Extract only the 'Adj Close' column needed for ratio calculations.\n",
    "    df_adj_close = df_ohlcv[['Adj Close']].copy()\n",
    "    \n",
    "    # The list of tickers is derived directly from the cleaned data.\n",
    "    tickers = df_adj_close.index.get_level_values('Ticker').unique().tolist()\n",
    "    \n",
    "    print(f\"Successfully loaded data for {len(tickers)} tickers.\")\n",
    "    df_adj_close.info()\n",
    "    \n",
    "except FileNotFoundError:\n",
    "    print(f\"ERROR: Source file not found at {SOURCE_PATH}. Halting execution.\")\n",
    "    df_adj_close = None\n",
    "except Exception as e:\n",
    "    print(f\"An error occurred during file loading: {e}\")\n",
    "    df_adj_close = None"
   ]
  },
  {
   "cell_type": "markdown",
   "metadata": {},
   "source": [
    "### Step 2: Prepare Data Windows for Analysis\n",
    "\n",
    "This step filters the data up to the target `DATE_STR` and then splits it into multiple DataFrames, one for each period defined in `DAYS_RATIO`.\n"
   ]
  },
  {
   "cell_type": "code",
   "execution_count": 3,
   "metadata": {
    "execution": {
     "iopub.execute_input": "2025-07-01T23:47:57.197105Z",
     "iopub.status.busy": "2025-07-01T23:47:57.197105Z",
     "iopub.status.idle": "2025-07-01T23:48:19.523546Z",
     "shell.execute_reply": "2025-07-01T23:48:19.521550Z"
    }
   },
   "outputs": [
    {
     "name": "stdout",
     "output_type": "stream",
     "text": [
      "\n",
      "--- Step 2: Preparing data windows for date 2025-07-01 ---\n"
     ]
    },
    {
     "name": "stdout",
     "output_type": "stream",
     "text": [
      "Created 8 data windows for the following periods: [3, 5, 10, 15, 30, 60, 120, 250]\n",
      "Sample: Window 1 ('3d') for ticker 'A' has 3 rows.\n"
     ]
    }
   ],
   "source": [
    "def prepare_data_windows(df, end_date, days_ratio_list):\n",
    "    \"\"\"\n",
    "    Filters data up to an end_date and creates data windows. It also handles\n",
    "    the inconsistency between this notebook's 'Ticker' index name and the\n",
    "    utility function's expected 'Symbol' index name.\n",
    "    \"\"\"\n",
    "    # Filter data to include only dates up to and including the end_date.\n",
    "    end_date_ts = pd.to_datetime(end_date)\n",
    "    filtered_df = df[df.index.get_level_values('Date') <= end_date_ts]\n",
    "    \n",
    "    # --- FIX: Adapt to the utility function's expectation ---\n",
    "    # Temporarily rename the 'Ticker' level to 'Symbol' before passing to the util.\n",
    "    df_for_utils = filtered_df.rename_axis(index={'Ticker': 'Symbol'})\n",
    "    \n",
    "    # Generate the list of DataFrames for each time window.\n",
    "    windows_with_symbol_index = utils.get_latest_dfs(df_for_utils, days_ratio_list)\n",
    "    \n",
    "    # --- FIX: Adapt the result back to our standard ---\n",
    "    # Rename the 'Symbol' level back to 'Ticker' in the results for consistency.\n",
    "    windows_with_ticker_index = [\n",
    "        win.rename_axis(index={'Symbol': 'Ticker'}) for win in windows_with_symbol_index\n",
    "    ]\n",
    "    \n",
    "    return windows_with_ticker_index\n",
    "\n",
    "if df_adj_close is not None:\n",
    "    print(f\"\\n--- Step 2: Preparing data windows for date {DATE_STR} ---\")\n",
    "    list_of_data_windows = prepare_data_windows(df_adj_close, DATE_STR, DAYS_RATIO)\n",
    "    print(f\"Created {len(list_of_data_windows)} data windows for the following periods: {DAYS_RATIO}\")\n",
    "    # Example: Check the length of the first window for the first ticker\n",
    "    sample_ticker = list_of_data_windows[0].index.get_level_values('Ticker')[0]\n",
    "    print(f\"Sample: Window 1 ('{DAYS_RATIO[0]}d') for ticker '{sample_ticker}' has {len(list_of_data_windows[0].loc[sample_ticker])} rows.\")\n",
    "else:\n",
    "    print(\"Skipping step because source data failed to load.\")\n",
    "    list_of_data_windows = []"
   ]
  },
  {
   "cell_type": "markdown",
   "metadata": {},
   "source": [
    "### Step 3: Calculate Performance Ratios\n",
    "\n",
    "Iterate through each data window and ticker, calculating the full suite of performance metrics using the `analyze_stock` utility function."
   ]
  },
  {
   "cell_type": "code",
   "execution_count": 4,
   "metadata": {
    "execution": {
     "iopub.execute_input": "2025-07-01T23:48:19.531012Z",
     "iopub.status.busy": "2025-07-01T23:48:19.530014Z",
     "iopub.status.idle": "2025-07-01T23:49:39.540347Z",
     "shell.execute_reply": "2025-07-01T23:49:39.538351Z"
    }
   },
   "outputs": [
    {
     "name": "stdout",
     "output_type": "stream",
     "text": [
      "\n",
      "--- Step 3: Calculating performance ratios ---\n"
     ]
    },
    {
     "name": "stdout",
     "output_type": "stream",
     "text": [
      "Successfully calculated ratios for 1547 tickers.\n"
     ]
    },
    {
     "data": {
      "text/html": [
       "<div>\n",
       "<style scoped>\n",
       "    .dataframe tbody tr th:only-of-type {\n",
       "        vertical-align: middle;\n",
       "    }\n",
       "\n",
       "    .dataframe tbody tr th {\n",
       "        vertical-align: top;\n",
       "    }\n",
       "\n",
       "    .dataframe thead th {\n",
       "        text-align: right;\n",
       "    }\n",
       "</style>\n",
       "<table border=\"1\" class=\"dataframe\">\n",
       "  <thead>\n",
       "    <tr style=\"text-align: right;\">\n",
       "      <th></th>\n",
       "      <th>Sharpe 3d</th>\n",
       "      <th>Sortino 3d</th>\n",
       "      <th>Omega 3d</th>\n",
       "      <th>Sharpe 5d</th>\n",
       "      <th>Sortino 5d</th>\n",
       "      <th>Omega 5d</th>\n",
       "      <th>Sharpe 10d</th>\n",
       "      <th>Sortino 10d</th>\n",
       "      <th>Omega 10d</th>\n",
       "      <th>Sharpe 15d</th>\n",
       "      <th>Sortino 15d</th>\n",
       "      <th>Omega 15d</th>\n",
       "      <th>Sharpe 30d</th>\n",
       "      <th>Sortino 30d</th>\n",
       "      <th>Omega 30d</th>\n",
       "      <th>Sharpe 60d</th>\n",
       "      <th>Sortino 60d</th>\n",
       "      <th>Omega 60d</th>\n",
       "      <th>Sharpe 120d</th>\n",
       "      <th>Sortino 120d</th>\n",
       "      <th>Omega 120d</th>\n",
       "      <th>Sharpe 250d</th>\n",
       "      <th>Sortino 250d</th>\n",
       "      <th>Omega 250d</th>\n",
       "    </tr>\n",
       "  </thead>\n",
       "  <tbody>\n",
       "    <tr>\n",
       "      <th>A</th>\n",
       "      <td>3.921796</td>\n",
       "      <td>12.055592</td>\n",
       "      <td>2.073997</td>\n",
       "      <td>4.546974</td>\n",
       "      <td>11.701928</td>\n",
       "      <td>2.231634</td>\n",
       "      <td>6.740907</td>\n",
       "      <td>16.733818</td>\n",
       "      <td>3.083604</td>\n",
       "      <td>-0.159062</td>\n",
       "      <td>-0.228495</td>\n",
       "      <td>0.975181</td>\n",
       "      <td>2.028182</td>\n",
       "      <td>3.108143</td>\n",
       "      <td>1.380816</td>\n",
       "      <td>1.849347</td>\n",
       "      <td>3.009719</td>\n",
       "      <td>1.393983</td>\n",
       "      <td>-0.730563</td>\n",
       "      <td>-1.015853</td>\n",
       "      <td>0.878493</td>\n",
       "      <td>-0.115575</td>\n",
       "      <td>-0.165543</td>\n",
       "      <td>0.979795</td>\n",
       "    </tr>\n",
       "    <tr>\n",
       "      <th>AA</th>\n",
       "      <td>50.878749</td>\n",
       "      <td>inf</td>\n",
       "      <td>NaN</td>\n",
       "      <td>6.078675</td>\n",
       "      <td>11.835356</td>\n",
       "      <td>2.491115</td>\n",
       "      <td>2.723027</td>\n",
       "      <td>4.913437</td>\n",
       "      <td>1.530103</td>\n",
       "      <td>2.047975</td>\n",
       "      <td>3.595563</td>\n",
       "      <td>1.399714</td>\n",
       "      <td>0.767774</td>\n",
       "      <td>1.264038</td>\n",
       "      <td>1.133345</td>\n",
       "      <td>1.669641</td>\n",
       "      <td>2.841421</td>\n",
       "      <td>1.350248</td>\n",
       "      <td>-0.449170</td>\n",
       "      <td>-0.623258</td>\n",
       "      <td>0.924422</td>\n",
       "      <td>-0.371851</td>\n",
       "      <td>-0.523371</td>\n",
       "      <td>0.938959</td>\n",
       "    </tr>\n",
       "    <tr>\n",
       "      <th>AAL</th>\n",
       "      <td>7.388754</td>\n",
       "      <td>43.239757</td>\n",
       "      <td>4.852104</td>\n",
       "      <td>12.006422</td>\n",
       "      <td>58.813627</td>\n",
       "      <td>8.409821</td>\n",
       "      <td>7.504838</td>\n",
       "      <td>16.592651</td>\n",
       "      <td>3.665271</td>\n",
       "      <td>-0.745779</td>\n",
       "      <td>-1.006618</td>\n",
       "      <td>0.885620</td>\n",
       "      <td>-0.458936</td>\n",
       "      <td>-0.642674</td>\n",
       "      <td>0.925379</td>\n",
       "      <td>1.467493</td>\n",
       "      <td>2.456476</td>\n",
       "      <td>1.358591</td>\n",
       "      <td>-1.229717</td>\n",
       "      <td>-1.725631</td>\n",
       "      <td>0.789776</td>\n",
       "      <td>0.263784</td>\n",
       "      <td>0.409977</td>\n",
       "      <td>1.051799</td>\n",
       "    </tr>\n",
       "    <tr>\n",
       "      <th>AAPL</th>\n",
       "      <td>49.802683</td>\n",
       "      <td>inf</td>\n",
       "      <td>NaN</td>\n",
       "      <td>11.109767</td>\n",
       "      <td>81.724886</td>\n",
       "      <td>11.296368</td>\n",
       "      <td>10.605139</td>\n",
       "      <td>46.463531</td>\n",
       "      <td>7.580333</td>\n",
       "      <td>2.179230</td>\n",
       "      <td>3.548596</td>\n",
       "      <td>1.422679</td>\n",
       "      <td>-0.278552</td>\n",
       "      <td>-0.385316</td>\n",
       "      <td>0.955436</td>\n",
       "      <td>1.064995</td>\n",
       "      <td>2.046757</td>\n",
       "      <td>1.253684</td>\n",
       "      <td>-0.666398</td>\n",
       "      <td>-0.959297</td>\n",
       "      <td>0.876074</td>\n",
       "      <td>-0.134579</td>\n",
       "      <td>-0.190450</td>\n",
       "      <td>0.973796</td>\n",
       "    </tr>\n",
       "    <tr>\n",
       "      <th>ABBV</th>\n",
       "      <td>86.229185</td>\n",
       "      <td>inf</td>\n",
       "      <td>NaN</td>\n",
       "      <td>4.596902</td>\n",
       "      <td>8.097788</td>\n",
       "      <td>2.020225</td>\n",
       "      <td>2.910845</td>\n",
       "      <td>4.837697</td>\n",
       "      <td>1.671078</td>\n",
       "      <td>0.134455</td>\n",
       "      <td>0.184993</td>\n",
       "      <td>1.023655</td>\n",
       "      <td>0.950144</td>\n",
       "      <td>1.312391</td>\n",
       "      <td>1.180553</td>\n",
       "      <td>0.373699</td>\n",
       "      <td>0.483102</td>\n",
       "      <td>1.066610</td>\n",
       "      <td>0.555038</td>\n",
       "      <td>0.733667</td>\n",
       "      <td>1.102820</td>\n",
       "      <td>0.615895</td>\n",
       "      <td>0.804577</td>\n",
       "      <td>1.125467</td>\n",
       "    </tr>\n",
       "  </tbody>\n",
       "</table>\n",
       "</div>"
      ],
      "text/plain": [
       "      Sharpe 3d  Sortino 3d  Omega 3d  Sharpe 5d  Sortino 5d   Omega 5d  Sharpe 10d  Sortino 10d  Omega 10d  Sharpe 15d  Sortino 15d  Omega 15d  Sharpe 30d  Sortino 30d  Omega 30d  Sharpe 60d  Sortino 60d  Omega 60d  Sharpe 120d  Sortino 120d  Omega 120d  Sharpe 250d  Sortino 250d  Omega 250d\n",
       "A      3.921796   12.055592  2.073997   4.546974   11.701928   2.231634    6.740907    16.733818   3.083604   -0.159062    -0.228495   0.975181    2.028182     3.108143   1.380816    1.849347     3.009719   1.393983    -0.730563     -1.015853    0.878493    -0.115575     -0.165543    0.979795\n",
       "AA    50.878749         inf       NaN   6.078675   11.835356   2.491115    2.723027     4.913437   1.530103    2.047975     3.595563   1.399714    0.767774     1.264038   1.133345    1.669641     2.841421   1.350248    -0.449170     -0.623258    0.924422    -0.371851     -0.523371    0.938959\n",
       "AAL    7.388754   43.239757  4.852104  12.006422   58.813627   8.409821    7.504838    16.592651   3.665271   -0.745779    -1.006618   0.885620   -0.458936    -0.642674   0.925379    1.467493     2.456476   1.358591    -1.229717     -1.725631    0.789776     0.263784      0.409977    1.051799\n",
       "AAPL  49.802683         inf       NaN  11.109767   81.724886  11.296368   10.605139    46.463531   7.580333    2.179230     3.548596   1.422679   -0.278552    -0.385316   0.955436    1.064995     2.046757   1.253684    -0.666398     -0.959297    0.876074    -0.134579     -0.190450    0.973796\n",
       "ABBV  86.229185         inf       NaN   4.596902    8.097788   2.020225    2.910845     4.837697   1.671078    0.134455     0.184993   1.023655    0.950144     1.312391   1.180553    0.373699     0.483102   1.066610     0.555038      0.733667    1.102820     0.615895      0.804577    1.125467"
      ]
     },
     "metadata": {},
     "output_type": "display_data"
    }
   ],
   "source": [
    "def calculate_all_ratios(data_windows, risk_free_rate):\n",
    "    \"\"\"Calculates performance ratios for all tickers across all data windows.\"\"\"\n",
    "    all_results = {}\n",
    "    for df_window in data_windows:\n",
    "        tickers_in_window = df_window.index.get_level_values('Ticker').unique()\n",
    "        for ticker in tickers_in_window:\n",
    "            # Suppress division-by-zero warnings during calculation.\n",
    "            with np.errstate(divide='ignore', invalid='ignore'):\n",
    "                result_df = utils.analyze_stock(df_window, ticker, risk_free_rate=risk_free_rate)\n",
    "            \n",
    "            if result_df is not None:\n",
    "                ticker_name = result_df.index[0]\n",
    "                metrics = result_df.iloc[0].to_dict()\n",
    "                all_results.setdefault(ticker_name, {}).update(metrics)\n",
    "                \n",
    "    if not all_results:\n",
    "        return pd.DataFrame()\n",
    "        \n",
    "    return pd.DataFrame.from_dict(all_results, orient='index')\n",
    "\n",
    "if list_of_data_windows:\n",
    "    print(\"\\n--- Step 3: Calculating performance ratios ---\")\n",
    "    df_ratios_raw = calculate_all_ratios(list_of_data_windows, ANNUAL_RISK_FREE_RATE)\n",
    "    print(f\"Successfully calculated ratios for {len(df_ratios_raw)} tickers.\")\n",
    "    display(df_ratios_raw.head())\n",
    "else:\n",
    "    print(\"Skipping calculation because no data windows were prepared.\")\n",
    "    df_ratios_raw = pd.DataFrame()"
   ]
  },
  {
   "cell_type": "markdown",
   "metadata": {},
   "source": [
    "### Step 4: Clean Results by Handling Infinite and NaN Values\n",
    "\n",
    "The ratio calculations can produce `Inf` or `NaN` values (e.g., if volatility is zero). This step replaces them with reasonable boundary values (the min/max of the finite values in each column).\n"
   ]
  },
  {
   "cell_type": "code",
   "execution_count": 5,
   "metadata": {
    "execution": {
     "iopub.execute_input": "2025-07-01T23:49:39.551880Z",
     "iopub.status.busy": "2025-07-01T23:49:39.547977Z",
     "iopub.status.idle": "2025-07-01T23:49:40.027776Z",
     "shell.execute_reply": "2025-07-01T23:49:40.026030Z"
    }
   },
   "outputs": [
    {
     "name": "stdout",
     "output_type": "stream",
     "text": [
      "\n",
      "--- Step 4: Cleaning NaN and Infinite values from results ---\n",
      "Does the raw data contain NaN/Inf values? True\n",
      "Does the final data contain NaN/Inf values? False\n",
      "Cleaning complete.\n"
     ]
    }
   ],
   "source": [
    "def clean_infinite_and_nan_values(df):\n",
    "    \"\"\"Replaces NaN, Inf, and -Inf values in a DataFrame.\"\"\"\n",
    "    if df.empty:\n",
    "        return df\n",
    "        \n",
    "    df_clean = df.copy()\n",
    "    numeric_cols = df_clean.select_dtypes(include=np.number).columns\n",
    "\n",
    "    for col in numeric_cols:\n",
    "        finite_vals = df_clean[col][np.isfinite(df_clean[col])]\n",
    "        if not finite_vals.empty:\n",
    "            max_val = finite_vals.max()\n",
    "            min_val = finite_vals.min()\n",
    "            # Replace NaN, Inf with max; -Inf with min\n",
    "            df_clean[col] = df_clean[col].fillna(max_val)\n",
    "            df_clean[col] = df_clean[col].replace([np.inf, -np.inf], [max_val, min_val])\n",
    "            \n",
    "    return df_clean\n",
    "\n",
    "if not df_ratios_raw.empty:\n",
    "    print(\"\\n--- Step 4: Cleaning NaN and Infinite values from results ---\")\n",
    "    has_nan_inf_before = df_ratios_raw.isnull().values.any() or np.isinf(df_ratios_raw.select_dtypes(include=np.number)).values.any()\n",
    "    print(f\"Does the raw data contain NaN/Inf values? {has_nan_inf_before}\")\n",
    "\n",
    "    df_final = clean_infinite_and_nan_values(df_ratios_raw)\n",
    "\n",
    "    has_nan_inf_after = df_final.isnull().values.any() or np.isinf(df_final.select_dtypes(include=np.number)).values.any()\n",
    "    print(f\"Does the final data contain NaN/Inf values? {has_nan_inf_after}\")\n",
    "    print(\"Cleaning complete.\")\n",
    "else:\n",
    "    print(\"Skipping cleaning step as no ratios were calculated.\")\n",
    "    df_final = pd.DataFrame()"
   ]
  },
  {
   "cell_type": "markdown",
   "metadata": {},
   "source": [
    "### Step 5: Save Final Results\n",
    "\n",
    "Save the cleaned DataFrame of performance ratios to a Parquet file."
   ]
  },
  {
   "cell_type": "code",
   "execution_count": 6,
   "metadata": {
    "execution": {
     "iopub.execute_input": "2025-07-01T23:49:40.035728Z",
     "iopub.status.busy": "2025-07-01T23:49:40.035728Z",
     "iopub.status.idle": "2025-07-01T23:49:40.387915Z",
     "shell.execute_reply": "2025-07-01T23:49:40.385919Z"
    }
   },
   "outputs": [
    {
     "name": "stdout",
     "output_type": "stream",
     "text": [
      "\n",
      "--- Step 5: Saving final results ---\n",
      "Successfully saved final ratios to: c:\\Users\\ping\\Files_win10\\python\\py311\\stocks_v0_works\\data\\2025-07-01_df_perf_ratios_stocks_etfs.parquet\n"
     ]
    }
   ],
   "source": [
    "if not df_final.empty:\n",
    "    print(\"\\n--- Step 5: Saving final results ---\")\n",
    "    try:\n",
    "        DEST_PATH.parent.mkdir(parents=True, exist_ok=True)\n",
    "        df_final.to_parquet(DEST_PATH, engine='pyarrow', compression='zstd')\n",
    "        print(f\"Successfully saved final ratios to: {DEST_PATH}\")\n",
    "    except Exception as e:\n",
    "        print(f\"An error occurred while saving the file: {e}\")\n",
    "else:\n",
    "    print(\"Skipping save step because the final DataFrame is empty.\")"
   ]
  },
  {
   "cell_type": "markdown",
   "metadata": {},
   "source": [
    "### Step 6: Verify and Display Sample Results\n",
    "\n",
    "Load the saved file and display a formatted table for a sample of key symbols to provide a final, human-readable check."
   ]
  },
  {
   "cell_type": "code",
   "execution_count": 7,
   "metadata": {
    "execution": {
     "iopub.execute_input": "2025-07-01T23:49:40.394736Z",
     "iopub.status.busy": "2025-07-01T23:49:40.393730Z",
     "iopub.status.idle": "2025-07-01T23:49:40.764688Z",
     "shell.execute_reply": "2025-07-01T23:49:40.762663Z"
    }
   },
   "outputs": [
    {
     "name": "stdout",
     "output_type": "stream",
     "text": [
      "\n",
      "--- Step 6: Verifying saved file and displaying sample ---\n",
      "Performance Ratios for 2025-07-01\n",
      "+------+-------------+--------------+------------+-------------+--------------+------------+--------------+---------------+-------------+--------------+---------------+-------------+--------------+---------------+-------------+--------------+---------------+-------------+---------------+----------------+--------------+---------------+----------------+--------------+\n",
      "|      |   Sharpe 3d |   Sortino 3d |   Omega 3d |   Sharpe 5d |   Sortino 5d |   Omega 5d |   Sharpe 10d |   Sortino 10d |   Omega 10d |   Sharpe 15d |   Sortino 15d |   Omega 15d |   Sharpe 30d |   Sortino 30d |   Omega 30d |   Sharpe 60d |   Sortino 60d |   Omega 60d |   Sharpe 120d |   Sortino 120d |   Omega 120d |   Sharpe 250d |   Sortino 250d |   Omega 250d |\n",
      "+======+=============+==============+============+=============+==============+============+==============+===============+=============+==============+===============+=============+==============+===============+=============+==============+===============+=============+===============+================+==============+===============+================+==============+\n",
      "| AAPL |     49.8027 |    2510.8854 |   224.6874 |     11.1098 |      81.7249 |    11.2964 |      10.6051 |       46.4635 |      7.5803 |       2.1792 |        3.5486 |      1.4227 |      -0.2786 |       -0.3853 |      0.9554 |       1.0650 |        2.0468 |      1.2537 |       -0.6664 |        -0.9593 |       0.8761 |       -0.1346 |        -0.1904 |       0.9738 |\n",
      "+------+-------------+--------------+------------+-------------+--------------+------------+--------------+---------------+-------------+--------------+---------------+-------------+--------------+---------------+-------------+--------------+---------------+-------------+---------------+----------------+--------------+---------------+----------------+--------------+\n",
      "| MSFT |     -6.6413 |      -8.3451 |     0.2566 |     -0.4215 |      -0.6685 |     0.9321 |       5.5662 |       11.4010 |      2.3768 |       5.7095 |       11.5086 |      2.3620 |       4.3524 |        8.1244 |      1.9903 |       4.2714 |       11.3183 |      2.6454 |        1.1197 |         1.9062 |       1.2485 |        0.2730 |         0.4054 |       1.0526 |\n",
      "+------+-------------+--------------+------------+-------------+--------------+------------+--------------+---------------+-------------+--------------+---------------+-------------+--------------+---------------+-------------+--------------+---------------+-------------+---------------+----------------+--------------+---------------+----------------+--------------+\n",
      "| GOOG |    -40.0583 |     -15.2857 |     0.0000 |      8.9548 |      41.9343 |     4.8797 |      -0.1468 |       -0.2067 |      0.9774 |      -1.2374 |       -1.6928 |      0.8228 |       1.7819 |        2.8834 |      1.3154 |       2.1517 |        3.5649 |      1.4568 |       -0.5472 |        -0.7460 |       0.9120 |       -0.1224 |        -0.1679 |       0.9795 |\n",
      "+------+-------------+--------------+------------+-------------+--------------+------------+--------------+---------------+-------------+--------------+---------------+-------------+--------------+---------------+-------------+--------------+---------------+-------------+---------------+----------------+--------------+---------------+----------------+--------------+\n",
      "| NVDA |    -10.2447 |     -10.7124 |     0.0457 |     -1.3039 |      -1.7519 |     0.7793 |       5.2295 |       10.3212 |      2.5116 |       3.7364 |        6.8294 |      1.8510 |       3.6349 |        6.4206 |      1.7588 |       3.9617 |        8.6148 |      2.2138 |        0.5525 |         0.7816 |       1.1062 |        0.6105 |         0.8716 |       1.1112 |\n",
      "+------+-------------+--------------+------------+-------------+--------------+------------+--------------+---------------+-------------+--------------+---------------+-------------+--------------+---------------+-------------+--------------+---------------+-------------+---------------+----------------+--------------+---------------+----------------+--------------+\n",
      "| AMZN |     -6.4933 |      -8.2274 |     0.2670 |      7.4377 |      17.6972 |     3.2296 |       2.6144 |        5.2890 |      1.4964 |       0.8845 |        1.5585 |      1.1484 |       2.5443 |        4.7322 |      1.4873 |       2.7247 |        5.8456 |      1.6708 |        0.0439 |         0.0664 |       1.0079 |        0.3412 |         0.4960 |       1.0617 |\n",
      "+------+-------------+--------------+------------+-------------+--------------+------------+--------------+---------------+-------------+--------------+---------------+-------------+--------------+---------------+-------------+--------------+---------------+-------------+---------------+----------------+--------------+---------------+----------------+--------------+\n",
      "| TSLA |    -23.1893 |     -14.2885 |     0.0000 |    -14.9663 |     -11.6908 |     0.0000 |      -2.0856 |       -3.3470 |      0.6851 |      -2.5769 |       -3.7602 |      0.6349 |      -1.3877 |       -1.7906 |      0.7761 |       1.5508 |        2.7269 |      1.3390 |       -0.4202 |        -0.6192 |       0.9293 |        0.6679 |         1.0419 |       1.1227 |\n",
      "+------+-------------+--------------+------------+-------------+--------------+------------+--------------+---------------+-------------+--------------+---------------+-------------+--------------+---------------+-------------+--------------+---------------+-------------+---------------+----------------+--------------+---------------+----------------+--------------+\n",
      "| META |     -7.0247 |      -8.6415 |     0.2302 |      2.7825 |       4.5756 |     1.5765 |       3.0143 |        5.0113 |      1.5901 |       1.5734 |        2.6521 |      1.2746 |       3.9385 |        7.9414 |      1.9076 |       3.3460 |        7.2801 |      1.9417 |        0.8684 |         1.3566 |       1.1718 |        1.0207 |         1.5697 |       1.2015 |\n",
      "+------+-------------+--------------+------------+-------------+--------------+------------+--------------+---------------+-------------+--------------+---------------+-------------+--------------+---------------+-------------+--------------+---------------+-------------+---------------+----------------+--------------+---------------+----------------+--------------+\n",
      "| GLD  |     75.4914 |    2510.8854 |   224.6874 |      0.3048 |       0.4512 |     1.0533 |      -2.6329 |       -3.2274 |      0.6348 |       0.1328 |        0.1797 |      1.0218 |       1.3584 |        2.1547 |      1.2413 |       1.5747 |        2.5637 |      1.2764 |        2.3071 |         3.7313 |       1.4520 |        1.8796 |         2.9002 |       1.3593 |\n",
      "+------+-------------+--------------+------------+-------------+--------------+------------+--------------+---------------+-------------+--------------+---------------+-------------+--------------+---------------+-------------+--------------+---------------+-------------+---------------+----------------+--------------+---------------+----------------+--------------+\n",
      "| MSTR |     -2.0644 |      -3.4875 |     0.6893 |     -2.7343 |      -3.7529 |     0.5915 |      -0.0476 |       -0.0660 |      0.9912 |      -1.6435 |       -2.1683 |      0.7356 |      -1.7419 |       -2.2143 |      0.7373 |       1.6164 |        2.8831 |      1.3976 |        0.5911 |         0.9063 |       1.1152 |        1.5187 |         2.5579 |       1.3022 |\n",
      "+------+-------------+--------------+------------+-------------+--------------+------------+--------------+---------------+-------------+--------------+---------------+-------------+--------------+---------------+-------------+--------------+---------------+-------------+---------------+----------------+--------------+---------------+----------------+--------------+\n",
      "| IBIT |     -5.3927 |      -7.2853 |     0.3510 |     -7.5251 |      -8.0346 |     0.2478 |       0.6207 |        1.0431 |      1.1102 |      -2.3517 |       -3.2419 |      0.6827 |      -0.0401 |       -0.0596 |      0.9939 |       2.5232 |        4.1806 |      1.5175 |        0.5531 |         0.7933 |       1.0934 |        1.2100 |         1.8766 |       1.2247 |\n",
      "+------+-------------+--------------+------------+-------------+--------------+------------+--------------+---------------+-------------+--------------+---------------+-------------+--------------+---------------+-------------+--------------+---------------+-------------+---------------+----------------+--------------+---------------+----------------+--------------+\n",
      "| SHOP |     -2.5255 |      -4.1234 |     0.6327 |     -2.6440 |      -3.5542 |     0.6429 |       4.9010 |       11.6758 |      2.3773 |       1.0278 |        1.5900 |      1.1749 |       0.7675 |        1.2378 |      1.1298 |       2.7862 |        6.1792 |      1.7135 |        0.4385 |         0.6596 |       1.0834 |        1.1149 |         1.8485 |       1.2393 |\n",
      "+------+-------------+--------------+------------+-------------+--------------+------------+--------------+---------------+-------------+--------------+---------------+-------------+--------------+---------------+-------------+--------------+---------------+-------------+---------------+----------------+--------------+---------------+----------------+--------------+\n",
      "| VGT  |     -0.1985 |      -0.3901 |     0.9652 |      3.0692 |       5.5517 |     1.6542 |       8.5886 |       19.7013 |      3.7084 |       4.1574 |        7.3177 |      1.8611 |       3.3299 |        5.6689 |      1.6791 |       3.7538 |        8.9194 |      2.3158 |        0.3442 |         0.5125 |       1.0696 |        0.4138 |         0.5929 |       1.0802 |\n",
      "+------+-------------+--------------+------------+-------------+--------------+------------+--------------+---------------+-------------+--------------+---------------+-------------+--------------+---------------+-------------+--------------+---------------+-------------+---------------+----------------+--------------+---------------+----------------+--------------+\n",
      "| SNOW |     -8.3943 |      -9.6054 |     0.1443 |     -5.2520 |      -5.7499 |     0.2756 |       2.6630 |        4.5751 |      1.7195 |       2.4046 |        3.9586 |      1.6250 |       3.3538 |       10.3723 |      2.3497 |       4.5641 |       12.9237 |      3.0176 |        1.4509 |         2.2391 |       1.3292 |        0.9474 |         1.6226 |       1.2286 |\n",
      "+------+-------------+--------------+------------+-------------+--------------+------------+--------------+---------------+-------------+--------------+---------------+-------------+--------------+---------------+-------------+--------------+---------------+-------------+---------------+----------------+--------------+---------------+----------------+--------------+\n",
      "| COIN |    -16.6726 |     -13.1682 |     0.0000 |     -4.2898 |      -5.9364 |     0.5037 |       7.3054 |       21.8832 |      3.6798 |       5.2530 |       14.2882 |      2.5211 |       2.9261 |        6.6791 |      1.6909 |       3.8879 |       10.4232 |      2.1386 |        0.9580 |         1.6109 |       1.1877 |        0.8237 |         1.3866 |       1.1578 |\n",
      "+------+-------------+--------------+------------+-------------+--------------+------------+--------------+---------------+-------------+--------------+---------------+-------------+--------------+---------------+-------------+--------------+---------------+-------------+---------------+----------------+--------------+---------------+----------------+--------------+\n"
     ]
    }
   ],
   "source": [
    "print(\"\\n--- Step 6: Verifying saved file and displaying sample ---\")\n",
    "if DEST_PATH.exists():\n",
    "    verified_df = pd.read_parquet(DEST_PATH)\n",
    "    \n",
    "    # Filter for symbols that exist in our results\n",
    "    symbols_to_show = [s for s in SAMPLE_SYMBOLS if s in verified_df.index]\n",
    "    \n",
    "    if symbols_to_show:\n",
    "        sample_df = verified_df.loc[symbols_to_show]\n",
    "        print(f\"Performance Ratios for {DATE_STR}\")\n",
    "        print(tabulate(sample_df, headers='keys', tablefmt='grid', floatfmt='.4f'))\n",
    "    else:\n",
    "        print(\"None of the sample symbols were found in the final results.\")\n",
    "else:\n",
    "    print(\"Could not verify file as it was not found at the destination path.\")"
   ]
  }
 ],
 "metadata": {
  "kernelspec": {
   "display_name": "py311-py3.11",
   "language": "python",
   "name": "python3"
  },
  "language_info": {
   "codemirror_mode": {
    "name": "ipython",
    "version": 3
   },
   "file_extension": ".py",
   "mimetype": "text/x-python",
   "name": "python",
   "nbconvert_exporter": "python",
   "pygments_lexer": "ipython3",
   "version": "3.11.9"
  }
 },
 "nbformat": 4,
 "nbformat_minor": 2
}
