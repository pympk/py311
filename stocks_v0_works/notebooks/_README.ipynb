{
 "cells": [
  {
   "cell_type": "markdown",
   "id": "a81e1612",
   "metadata": {},
   "source": [
    "### 1. Run these cells in sequence\n",
    "* py0__get_tickers_v1.ipynb  \n",
    "* py0__get_yloader_OHLCV_data_v1.ipynb\n",
    "### 2. Run py0__select_data_date_v9.ipynb\n",
    "* Enter DATE_SLICE when prompt to select a range of dates to run run_sequence_v2.py\n",
    "### 3 run_sequence_v2.py runs these notebooks in sequence\n",
    "* \"py2_clean_df_OHLCV_v10.ipynb\",\n",
    "* \"py2_save_df_adj_close_v1.ipynb\",    \n",
    "* \"py3_calc_perf_ratios_v16.ipynb\",\n",
    "* \"py4_append_ratios_v9.ipynb\",\n",
    "* \"py5_append_columns_v8.ipynb\",\n",
    "* \"py6_append_stats_history_v4.ipynb\",\n",
    "* \"py6_view_market_sentiment_history_v0.ipynb\",\n",
    "* \"py7_view_daily_market_snapshot_v0.ipynb\",\n",
    "* \"py8_portf_picks_short_term_v6.ipynb\",\n",
    "* \"py9_backtest_v3.ipynb\",\n",
    "* \"py10_backtest_verification_v1.ipynb\",\n",
    "* \"py90_interactive_backtest_v0.ipynb\",  # Executed notebook won't display chart, run manually\n",
    "\n",
    "### 3. Executed notebooks are in Executed directory\n"
   ]
  }
 ],
 "metadata": {
  "language_info": {
   "name": "python"
  }
 },
 "nbformat": 4,
 "nbformat_minor": 5
}
