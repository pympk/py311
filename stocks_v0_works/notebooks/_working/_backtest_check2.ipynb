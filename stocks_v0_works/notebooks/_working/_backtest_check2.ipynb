{
 "cells": [
  {
   "cell_type": "code",
   "execution_count": 66,
   "metadata": {},
   "outputs": [
    {
     "name": "stdout",
     "output_type": "stream",
     "text": [
      "✅ Current Script Directory: c:\\Users\\ping\\Files_win10\\python\\py311\\stocks\\notebooks\\_working\n",
      "✅ Directory containing config.py (added to path): c:\\Users\\ping\\Files_win10\\python\\py311\\stocks\\notebooks\n",
      "\n",
      "✅ Successfully imported DATE_STR from config.py.\n",
      "✅ The value of DATE_STR is: '2025-06-11'\n"
     ]
    }
   ],
   "source": [
    "import sys\n",
    "from pathlib import Path\n",
    "import pandas as pd\n",
    "from IPython.display import display, Markdown\n",
    "\n",
    "# --- 1. PANDAS OPTIONS (No change) ---\n",
    "pd.set_option('display.max_columns', None)\n",
    "pd.set_option('display.width', 1500)\n",
    "\n",
    "# --- 2. IPYTHON AUTORELOAD (No change, assuming you're in a notebook) ---\n",
    "# %load_ext autoreload\n",
    "# %autoreload 2\n",
    "\n",
    "# --- 3. ROBUST PATH CONFIGURATION (FIXED FOR YOUR STRUCTURE) ---\n",
    "\n",
    "# Get the directory where your script is currently running\n",
    "CURRENT_DIR = Path.cwd()  # This will be '.../notebooks/_working'\n",
    "\n",
    "# The directory containing 'config.py' is the parent of the current directory\n",
    "CONFIG_DIR = CURRENT_DIR.parent # This will be '.../notebooks'\n",
    "\n",
    "# Add the directory containing config.py to the Python path\n",
    "# so that the import statement `from config import ...` can find it.\n",
    "if str(CONFIG_DIR) not in sys.path:\n",
    "    sys.path.append(str(CONFIG_DIR))\n",
    "\n",
    "# --- 4. VERIFICATION ---\n",
    "print(f\"✅ Current Script Directory: {CURRENT_DIR}\")\n",
    "print(f\"✅ Directory containing config.py (added to path): {CONFIG_DIR}\")\n",
    "\n",
    "# Assert that the config file we want to import actually exists in that location.\n",
    "# This gives a much clearer error if the path is wrong.\n",
    "config_file_path = CONFIG_DIR / 'config.py'\n",
    "assert config_file_path.exists(), f\"Error: config.py not found at {config_file_path}\"\n",
    "\n",
    "\n",
    "# --- 5. IMPORT YOUR CUSTOM MODULE ---\n",
    "# This will now work correctly because its parent directory ('.../notebooks/') is on the path.\n",
    "from config import DATE_STR, RISK_FREE_RATE_DAILY\n",
    "# Note: The import for 'utils' is removed as its location is not specified\n",
    "# and the old SRC_DIR path is no longer valid for this structure.\n",
    "# import utils\n",
    "\n",
    "print(\"\\n✅ Successfully imported DATE_STR from config.py.\")\n",
    "print(f\"✅ The value of DATE_STR is: '{DATE_STR}'\")\n",
    "\n",
    "\n",
    "# --- The following paths are commented out as they are based on a\n",
    "# --- 'standard project structure' you plan to adopt later.\n",
    "\n",
    "ROOT_DIR = CURRENT_DIR.parent.parent # This would point to the folder containing 'notebooks'\n",
    "OUTPUT_DIR = ROOT_DIR / 'output'\n",
    "DATA_DIR = ROOT_DIR / 'data'\n",
    "SRC_DIR = ROOT_DIR / 'src'\n",
    "SELECTION_RESULTS = OUTPUT_DIR  / 'selection_results'\n",
    "BACKTEST_RESULTS = OUTPUT_DIR / 'backtest_results'\n",
    "# SRC_DIR = ROOT_DIR / 'src'\n",
    "# ... and so on"
   ]
  },
  {
   "cell_type": "code",
   "execution_count": 67,
   "metadata": {},
   "outputs": [
    {
     "name": "stdout",
     "output_type": "stream",
     "text": [
      "0. 2025-06-11_short_term_mean_reversion.csv\n",
      "1. 2025-06-11_short_term_mean_reversion.parquet\n",
      "2. 2025-06-11_short_term_mean_reversion_params.json\n"
     ]
    }
   ],
   "source": [
    "# Get a list of all .parquet files in the directory\n",
    "# Using .glob('*.parquet') is a safe way to get only the files you want\n",
    "# Gets all files ending with .parquet that also contain 'df_finviz'\n",
    "_file_list = [f.name for f in SELECTION_RESULTS.glob(f\"*{DATE_STR}*\")]\n",
    "for i, _file in enumerate(_file_list):\n",
    "    print(f\"{i}. {_file}\")"
   ]
  },
  {
   "cell_type": "code",
   "execution_count": 68,
   "metadata": {},
   "outputs": [
    {
     "name": "stdout",
     "output_type": "stream",
     "text": [
      "df_selections:\n",
      "        ROE %   Price    RSI  Change %  Rel Volume  Avg Volume, M  Debt/Eq  ATR/Price %     z_RSI  z_Change%  z_RelVolume  z_ATR/Price%  final_score  Weight_EW  Weight_IV  Weight_SW\n",
      "Ticker                                                                                                                                                                               \n",
      "CWAN    58.14   23.10  47.68     -6.69        2.91           3.06     0.06     3.376623 -0.906428  -3.692336     7.347584      0.634664     3.015618        0.1   0.094762   0.197792\n",
      "NUE      6.54  116.66  49.38     -6.43        1.03           2.60     0.39     3.900223 -0.738860  -3.547220     1.219603      1.167119     1.627337        0.1   0.082041   0.106736\n",
      "LULU    42.49  252.53  30.34     -2.31        1.42           2.77     0.40     5.084544 -2.615622  -1.247691     2.490833      2.371468     1.613179        0.1   0.062931   0.105807\n",
      "BF-B    23.14   27.66  24.18     -0.41        1.48           3.44     0.68     4.121475 -3.222809  -0.187228     2.686407      1.392112     1.591583        0.1   0.077636   0.104391\n",
      "GME      6.62   28.50  46.87     -5.48        1.06          12.34     0.35     5.087719 -0.986269  -3.016989     1.317390      2.374697     1.427149        0.1   0.062892   0.093606\n",
      "AMH      5.81   36.28  37.97     -1.79        0.98           2.04     0.69     2.039691 -1.863537  -0.957459     1.056625     -0.724876     1.271161        0.1   0.156875   0.083375\n",
      "ROST    39.57  136.63  39.04     -2.46        0.90           3.44     0.90     2.825148 -1.758068  -1.331412     0.795859      0.073863     1.233103        0.1   0.113260   0.080878\n",
      "CAVA    21.73   76.91  30.54     -1.80        0.87           3.62     0.57     4.368743 -2.595908  -0.963040     0.698072      1.643561     1.220890        0.1   0.073242   0.080077\n",
      "HBAN    10.30   16.08  58.90     -1.44        2.00          23.20     0.92     2.238806  0.199520  -0.762111     4.381380     -0.522394     1.125422        0.1   0.142923   0.073816\n",
      "CPRT    18.54   50.46  24.37      0.36        0.73           5.83     0.01     2.397939 -3.204081   0.242538     0.241733     -0.360570     1.120944        0.1   0.133438   0.073522\n"
     ]
    }
   ],
   "source": [
    "df_selections = pd.read_parquet(SELECTION_RESULTS / _file_list[1])\n",
    "print(f'df_selections:\\n{df_selections}')"
   ]
  },
  {
   "cell_type": "code",
   "execution_count": 69,
   "metadata": {},
   "outputs": [
    {
     "name": "stdout",
     "output_type": "stream",
     "text": [
      "<class 'pandas.core.frame.DataFrame'>\n",
      "Index: 10 entries, CWAN to CPRT\n",
      "Data columns (total 16 columns):\n",
      " #   Column         Non-Null Count  Dtype  \n",
      "---  ------         --------------  -----  \n",
      " 0   ROE %          10 non-null     float64\n",
      " 1   Price          10 non-null     float64\n",
      " 2   RSI            10 non-null     float64\n",
      " 3   Change %       10 non-null     float64\n",
      " 4   Rel Volume     10 non-null     float64\n",
      " 5   Avg Volume, M  10 non-null     float64\n",
      " 6   Debt/Eq        10 non-null     float64\n",
      " 7   ATR/Price %    10 non-null     float64\n",
      " 8   z_RSI          10 non-null     float64\n",
      " 9   z_Change%      10 non-null     float64\n",
      " 10  z_RelVolume    10 non-null     float64\n",
      " 11  z_ATR/Price%   10 non-null     float64\n",
      " 12  final_score    10 non-null     float64\n",
      " 13  Weight_EW      10 non-null     float64\n",
      " 14  Weight_IV      10 non-null     float64\n",
      " 15  Weight_SW      10 non-null     float64\n",
      "dtypes: float64(16)\n",
      "memory usage: 1.3+ KB\n"
     ]
    }
   ],
   "source": [
    "df_selections.info()"
   ]
  },
  {
   "cell_type": "code",
   "execution_count": 70,
   "metadata": {},
   "outputs": [
    {
     "data": {
      "text/plain": [
       "['CWAN', 'NUE', 'LULU', 'BF-B', 'GME', 'AMH', 'ROST', 'CAVA', 'HBAN', 'CPRT']"
      ]
     },
     "execution_count": 70,
     "metadata": {},
     "output_type": "execute_result"
    }
   ],
   "source": [
    "tickers = df_selections.index.to_list()\n",
    "tickers"
   ]
  },
  {
   "cell_type": "code",
   "execution_count": 71,
   "metadata": {},
   "outputs": [
    {
     "name": "stdout",
     "output_type": "stream",
     "text": [
      "0. df_adj_close.parquet\n"
     ]
    }
   ],
   "source": [
    "_file_list = [f.name for f in DATA_DIR.glob('*adj*.parquet')]\n",
    "for i, _file in enumerate(_file_list):\n",
    "    print(f\"{i}. {_file}\")"
   ]
  },
  {
   "cell_type": "code",
   "execution_count": 72,
   "metadata": {},
   "outputs": [
    {
     "name": "stdout",
     "output_type": "stream",
     "text": [
      "df_adj:\n",
      "Ticker       CWAN     NUE    LULU   BF-B    GME      AMH    ROST   CAVA   HBAN   CPRT\n",
      "Date                                                                                 \n",
      "2025-06-11  23.10  117.13  252.28  27.50  28.55  36.0423  136.39  76.83  16.09  50.50\n",
      "2025-06-12  22.82  118.45  247.03  27.29  22.14  36.3200  133.47  78.25  15.96  49.99\n",
      "2025-06-13  22.11  121.92  239.11  26.44  22.14  36.4000  131.85  74.57  15.51  48.59\n"
     ]
    }
   ],
   "source": [
    "df_adj = pd.read_parquet(DATA_DIR / _file_list[0])\n",
    "start_index_pos = df_adj.index.get_loc(DATE_STR)\n",
    "end_index_pos = start_index_pos + 6\n",
    "df_adj = df_adj.iloc[start_index_pos:end_index_pos]\n",
    "df_adj = df_adj.loc[:, tickers]\n",
    "print(f\"df_adj:\\n{df_adj}\")"
   ]
  },
  {
   "cell_type": "code",
   "execution_count": 73,
   "metadata": {},
   "outputs": [
    {
     "name": "stdout",
     "output_type": "stream",
     "text": [
      "<class 'pandas.core.frame.DataFrame'>\n",
      "DatetimeIndex: 3 entries, 2025-06-11 to 2025-06-13\n",
      "Data columns (total 10 columns):\n",
      " #   Column  Non-Null Count  Dtype  \n",
      "---  ------  --------------  -----  \n",
      " 0   CWAN    3 non-null      float64\n",
      " 1   NUE     3 non-null      float64\n",
      " 2   LULU    3 non-null      float64\n",
      " 3   BF-B    3 non-null      float64\n",
      " 4   GME     3 non-null      float64\n",
      " 5   AMH     3 non-null      float64\n",
      " 6   ROST    3 non-null      float64\n",
      " 7   CAVA    3 non-null      float64\n",
      " 8   HBAN    3 non-null      float64\n",
      " 9   CPRT    3 non-null      float64\n",
      "dtypes: float64(10)\n",
      "memory usage: 264.0 bytes\n"
     ]
    }
   ],
   "source": [
    "df_adj.info()"
   ]
  },
  {
   "cell_type": "markdown",
   "metadata": {},
   "source": [
    "--- Portfolio Performance --- is the sum and calculated using risk-free-rate=0,    \n",
    "--- Daily Sharpe Ratio (using cross-sectional std dev) --- ????"
   ]
  },
  {
   "cell_type": "code",
   "execution_count": 74,
   "metadata": {},
   "outputs": [
    {
     "name": "stdout",
     "output_type": "stream",
     "text": [
      "Buy Date: 2025-06-12\n",
      "Sell Date: 2025-06-13\n",
      "Daily Risk-Free Rate: 0.000159\n",
      "\n",
      "--- Individual Stock Returns ---\n",
      "Ticker\n",
      "CWAN    -0.031113\n",
      "NUE      0.029295\n",
      "LULU    -0.032061\n",
      "BF-B    -0.031147\n",
      "GME      0.000000\n",
      "AMH      0.002203\n",
      "ROST    -0.012138\n",
      "CAVA    -0.047029\n",
      "HBAN    -0.028195\n",
      "CPRT    -0.028006\n",
      "dtype: object\n",
      "\n",
      "--- Portfolio Performance ---\n",
      "Weight_EW    -0.0178\n",
      "Weight_IV    -0.0172\n",
      "Weight_SW    -0.0184\n",
      "Name: Portfolio Return, dtype: object\n",
      "\n",
      "--- Daily Risk Metrics ---\n",
      "Standard Deviation of Individual Stock Returns: 0.022589\n",
      "\n",
      "--- Daily Efficiency Ratio (using cross-sectional std dev) ---\n",
      "Weight_EW    -0.7959\n",
      "Weight_IV    -0.7694\n",
      "Weight_SW    -0.8205\n",
      "Name: Daily Efficiency Ratio, dtype: object\n"
     ]
    }
   ],
   "source": [
    "import pandas as pd\n",
    "import numpy as np\n",
    "\n",
    "\n",
    "# --- Main Calculation Logic ---\n",
    "\n",
    "buy_date = pd.to_datetime(DATE_STR) + pd.Timedelta(days=1)\n",
    "sell_date = buy_date + pd.Timedelta(days=1)\n",
    "\n",
    "print(f\"Buy Date: {buy_date.date()}\")\n",
    "print(f\"Sell Date: {sell_date.date()}\")\n",
    "print(f\"Daily Risk-Free Rate: {RISK_FREE_RATE_DAILY:.6f}\")\n",
    "\n",
    "\n",
    "# 2. Extract prices for buy and sell dates\n",
    "buy_prices = df_adj.loc[buy_date]\n",
    "sell_prices = df_adj.loc[sell_date]\n",
    "\n",
    "# 3. Calculate individual stock returns\n",
    "individual_returns = (sell_prices / buy_prices) - 1\n",
    "\n",
    "# --- START OF MODIFICATIONS ---\n",
    "\n",
    "# 3a. Calculate the standard deviation of the individual stock returns for the day\n",
    "std_dev_daily_returns = individual_returns.std()\n",
    "\n",
    "# --- END OF MODIFICATIONS ---\n",
    "\n",
    "# 4. Calculate portfolio performance\n",
    "weights_df = df_selections[['Weight_EW', 'Weight_IV', 'Weight_SW']]\n",
    "weighted_returns = weights_df.multiply(individual_returns, axis=0)\n",
    "portfolio_performance = weighted_returns.sum()\n",
    "\n",
    "# --- START OF MODIFICATIONS ---\n",
    "\n",
    "# 5. Calculate Daily Efficiency Ratio\n",
    "# This uses the standard deviation of individual stock returns as the denominator,\n",
    "# as we only have a single day of portfolio data.\n",
    "# It measures portfolio excess return against the cross-sectional volatility of its components.\n",
    "if std_dev_daily_returns > 0:\n",
    "    daily_efficiency_ratio = (portfolio_performance - RISK_FREE_RATE_DAILY) / std_dev_daily_returns\n",
    "else:\n",
    "    # Handle case with no volatility to avoid division by zero\n",
    "    daily_efficiency_ratio = pd.Series([np.nan] * len(portfolio_performance), index=portfolio_performance.index)\n",
    "    \n",
    "# --- END OF MODIFICATIONS ---\n",
    "\n",
    "\n",
    "# 6. Display the final results\n",
    "\n",
    "print(\"\\n--- Individual Stock Returns ---\")\n",
    "print((individual_returns).map('{:.6f}'.format))\n",
    "\n",
    "\n",
    "print(\"\\n--- Portfolio Performance ---\")\n",
    "portfolio_performance.name = \"Portfolio Return\"\n",
    "print((portfolio_performance).map('{:.4f}'.format))\n",
    "\n",
    "# --- START OF MODIFICATIONS ---\n",
    "\n",
    "print(\"\\n--- Daily Risk Metrics ---\")\n",
    "print(f\"Standard Deviation of Individual Stock Returns: {std_dev_daily_returns:.6f}\")\n",
    "\n",
    "print(\"\\n--- Daily Efficiency Ratio (using cross-sectional std dev) ---\")\n",
    "daily_efficiency_ratio.name = \"Daily Efficiency Ratio\"\n",
    "print(daily_efficiency_ratio.map('{:.4f}'.format))\n",
    "\n",
    "# --- END OF MODIFICATIONS ---"
   ]
  },
  {
   "cell_type": "code",
   "execution_count": 90,
   "metadata": {},
   "outputs": [
    {
     "name": "stdout",
     "output_type": "stream",
     "text": [
      "Weight_EW   -0.017819\n",
      "Weight_IV   -0.017221\n",
      "Weight_SW   -0.018375\n",
      "Name: Portfolio Return, dtype: float64\n",
      "---\n",
      "<class 'pandas.core.series.Series'>\n",
      "Index: 3 entries, Weight_EW to Weight_SW\n",
      "Series name: Portfolio Return\n",
      "Non-Null Count  Dtype  \n",
      "--------------  -----  \n",
      "3 non-null      float64\n",
      "dtypes: float64(1)\n",
      "memory usage: 156.0+ bytes\n",
      "None\n",
      "---\n",
      "Index(['Weight_EW', 'Weight_IV', 'Weight_SW'], dtype='object')\n"
     ]
    }
   ],
   "source": [
    "print(portfolio_performance)\n",
    "print('---')\n",
    "print(portfolio_performance.info())\n",
    "print('---')\n",
    "print(portfolio_performance.index)"
   ]
  },
  {
   "cell_type": "markdown",
   "metadata": {},
   "source": [
    "### Verification of Backtest Results"
   ]
  },
  {
   "cell_type": "code",
   "execution_count": 75,
   "metadata": {},
   "outputs": [
    {
     "name": "stdout",
     "output_type": "stream",
     "text": [
      "0. backtest_master_results.parquet\n"
     ]
    }
   ],
   "source": [
    "_file_list = [f.name for f in BACKTEST_RESULTS.glob('*.parquet')]\n",
    "for i, _file in enumerate(_file_list):\n",
    "    print(f\"{i}. {_file}\")"
   ]
  },
  {
   "cell_type": "code",
   "execution_count": 76,
   "metadata": {},
   "outputs": [
    {
     "name": "stdout",
     "output_type": "stream",
     "text": [
      "df_backtest:\n",
      "   actual_selection_date_used  average_return  filter_max_debt_eq  filter_min_avg_volume_m  filter_min_price  filter_min_roe_pct inv_vol_col_name                          log_file  n_select_actual  n_select_requested  num_attempted_trades  num_failed_or_skipped_trades  num_selected_tickers  num_successful_trades  portfolio_return  portfolio_return_normalized       run_timestamp scheme  score_weight_change  score_weight_rel_volume  score_weight_rsi  score_weight_volatility selection_date  sharpe_ratio_period  std_dev_return  total_weight_traded  win_rate\n",
      "0                  2025-06-11       -0.017819                 1.5                      2.0              10.0                 5.0      ATR/Price %  backtest_run_20250616_205128.log               10                  10                    10                             0                    10                     10         -0.017819                    -0.017819 2025-06-16 20:51:28     EW                 0.35                      0.2              0.35                      0.1     2025-06-11            -0.795876        0.022589                  1.0       0.2\n",
      "1                  2025-06-11       -0.017819                 1.5                      2.0              10.0                 5.0      ATR/Price %  backtest_run_20250616_205128.log               10                  10                    10                             0                    10                     10         -0.017221                    -0.017221 2025-06-16 20:51:28     IV                 0.35                      0.2              0.35                      0.1     2025-06-11            -0.795876        0.022589                  1.0       0.2\n",
      "2                  2025-06-11       -0.017819                 1.5                      2.0              10.0                 5.0      ATR/Price %  backtest_run_20250616_205128.log               10                  10                    10                             0                    10                     10         -0.018375                    -0.018375 2025-06-16 20:51:28     SW                 0.35                      0.2              0.35                      0.1     2025-06-11            -0.795876        0.022589                  1.0       0.2\n",
      "3                  2025-06-10       -0.001627                 1.5                      2.0              10.0                 5.0      ATR/Price %  backtest_run_20250616_205128.log               10                  10                    10                             0                    10                     10         -0.001627                    -0.001627 2025-06-16 20:51:28     EW                 0.35                      0.2              0.35                      0.1     2025-06-10            -0.117492        0.015200                  1.0       0.4\n",
      "4                  2025-06-10       -0.001627                 1.5                      2.0              10.0                 5.0      ATR/Price %  backtest_run_20250616_205128.log               10                  10                    10                             0                    10                     10         -0.001382                    -0.001382 2025-06-16 20:51:28     IV                 0.35                      0.2              0.35                      0.1     2025-06-10            -0.117492        0.015200                  1.0       0.4\n",
      "..                        ...             ...                 ...                      ...               ...                 ...              ...                               ...              ...                 ...                   ...                           ...                   ...                    ...               ...                          ...                 ...    ...                  ...                      ...               ...                      ...            ...                  ...             ...                  ...       ...\n",
      "94                 2025-04-28        0.011447                 1.5                      2.0              10.0                 5.0      ATR/Price %  backtest_run_20250616_205128.log               10                  10                    10                             0                    10                     10          0.010450                     0.010450 2025-06-16 20:51:28     IV                 0.35                      0.2              0.35                      0.1     2025-04-28             0.543437        0.020772                  1.0       0.8\n",
      "95                 2025-04-28        0.011447                 1.5                      2.0              10.0                 5.0      ATR/Price %  backtest_run_20250616_205128.log               10                  10                    10                             0                    10                     10          0.012758                     0.012758 2025-06-16 20:51:28     SW                 0.35                      0.2              0.35                      0.1     2025-04-28             0.543437        0.020772                  1.0       0.8\n",
      "96                 2025-04-25        0.008532                 1.5                      2.0              10.0                 5.0      ATR/Price %  backtest_run_20250616_205128.log               10                  10                    10                             0                    10                     10          0.008532                     0.008532 2025-06-16 20:51:28     EW                 0.35                      0.2              0.35                      0.1     2025-04-25             0.412947        0.020277                  1.0       0.7\n",
      "97                 2025-04-25        0.008532                 1.5                      2.0              10.0                 5.0      ATR/Price %  backtest_run_20250616_205128.log               10                  10                    10                             0                    10                     10          0.007521                     0.007521 2025-06-16 20:51:28     IV                 0.35                      0.2              0.35                      0.1     2025-04-25             0.412947        0.020277                  1.0       0.7\n",
      "98                 2025-04-25        0.008532                 1.5                      2.0              10.0                 5.0      ATR/Price %  backtest_run_20250616_205128.log               10                  10                    10                             0                    10                     10          0.009558                     0.009558 2025-06-16 20:51:28     SW                 0.35                      0.2              0.35                      0.1     2025-04-25             0.412947        0.020277                  1.0       0.7\n",
      "\n",
      "[99 rows x 27 columns]\n"
     ]
    }
   ],
   "source": [
    "df_backtest = pd.read_parquet(BACKTEST_RESULTS / _file_list[0])\n",
    "print(f'df_backtest:\\n{df_backtest}')"
   ]
  },
  {
   "cell_type": "code",
   "execution_count": 77,
   "metadata": {},
   "outputs": [
    {
     "name": "stdout",
     "output_type": "stream",
     "text": [
      "Selected Backtest Date:\n",
      "  actual_selection_date_used  average_return  filter_max_debt_eq  filter_min_avg_volume_m  filter_min_price  filter_min_roe_pct inv_vol_col_name                          log_file  n_select_actual  n_select_requested  num_attempted_trades  num_failed_or_skipped_trades  num_selected_tickers  num_successful_trades  portfolio_return  portfolio_return_normalized       run_timestamp scheme  score_weight_change  score_weight_rel_volume  score_weight_rsi  score_weight_volatility selection_date  sharpe_ratio_period  std_dev_return  total_weight_traded  win_rate\n",
      "0                 2025-06-11       -0.017819                 1.5                      2.0              10.0                 5.0      ATR/Price %  backtest_run_20250616_205128.log               10                  10                    10                             0                    10                     10         -0.017819                    -0.017819 2025-06-16 20:51:28     EW                 0.35                      0.2              0.35                      0.1     2025-06-11            -0.795876        0.022589                  1.0       0.2\n",
      "1                 2025-06-11       -0.017819                 1.5                      2.0              10.0                 5.0      ATR/Price %  backtest_run_20250616_205128.log               10                  10                    10                             0                    10                     10         -0.017221                    -0.017221 2025-06-16 20:51:28     IV                 0.35                      0.2              0.35                      0.1     2025-06-11            -0.795876        0.022589                  1.0       0.2\n",
      "2                 2025-06-11       -0.017819                 1.5                      2.0              10.0                 5.0      ATR/Price %  backtest_run_20250616_205128.log               10                  10                    10                             0                    10                     10         -0.018375                    -0.018375 2025-06-16 20:51:28     SW                 0.35                      0.2              0.35                      0.1     2025-06-11            -0.795876        0.022589                  1.0       0.2\n",
      "\n",
      "Selected Backtest Results:\n",
      "  actual_selection_date_used scheme  portfolio_return  portfolio_return_normalized  sharpe_ratio_period  std_dev_return\n",
      "0                 2025-06-11     EW         -0.017819                    -0.017819            -0.795876        0.022589\n",
      "1                 2025-06-11     IV         -0.017221                    -0.017221            -0.795876        0.022589\n",
      "2                 2025-06-11     SW         -0.018375                    -0.018375            -0.795876        0.022589\n"
     ]
    }
   ],
   "source": [
    "# The syntax is very similar to boolean indexing, but inside .loc\n",
    "selected_backtest_date = df_backtest.loc[df_backtest['actual_selection_date_used'] == DATE_STR]\n",
    "\n",
    "print(\"Selected Backtest Date:\")\n",
    "print(selected_backtest_date)\n",
    "\n",
    "select_columns = ['actual_selection_date_used', 'scheme','portfolio_return', 'portfolio_return_normalized', 'sharpe_ratio_period', 'std_dev_return']\n",
    "selected_backtest_results = selected_backtest_date.loc[:, select_columns]\n",
    "\n",
    "print(\"\\nSelected Backtest Results:\")\n",
    "print(selected_backtest_results)"
   ]
  }
 ],
 "metadata": {
  "kernelspec": {
   "display_name": ".venv",
   "language": "python",
   "name": "python3"
  },
  "language_info": {
   "codemirror_mode": {
    "name": "ipython",
    "version": 3
   },
   "file_extension": ".py",
   "mimetype": "text/x-python",
   "name": "python",
   "nbconvert_exporter": "python",
   "pygments_lexer": "ipython3",
   "version": "3.11.9"
  }
 },
 "nbformat": 4,
 "nbformat_minor": 2
}
