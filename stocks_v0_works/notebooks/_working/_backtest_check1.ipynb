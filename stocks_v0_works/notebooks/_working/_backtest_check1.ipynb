{
 "cells": [
  {
   "cell_type": "code",
   "execution_count": 33,
   "metadata": {},
   "outputs": [
    {
     "name": "stdout",
     "output_type": "stream",
     "text": [
      "✅ Current Script Directory: c:\\Users\\ping\\Files_win10\\python\\py311\\stocks\\notebooks\\_working\n",
      "✅ Directory containing config.py (added to path): c:\\Users\\ping\\Files_win10\\python\\py311\\stocks\\notebooks\n",
      "\n",
      "✅ Successfully imported DATE_STR from config.py.\n",
      "✅ The value of DATE_STR is: '2025-06-11'\n"
     ]
    }
   ],
   "source": [
    "import sys\n",
    "from pathlib import Path\n",
    "import pandas as pd\n",
    "from IPython.display import display, Markdown\n",
    "\n",
    "# --- 1. PANDAS OPTIONS (No change) ---\n",
    "pd.set_option('display.max_columns', None)\n",
    "pd.set_option('display.width', 1500)\n",
    "\n",
    "# --- 2. IPYTHON AUTORELOAD (No change, assuming you're in a notebook) ---\n",
    "# %load_ext autoreload\n",
    "# %autoreload 2\n",
    "\n",
    "# --- 3. ROBUST PATH CONFIGURATION (FIXED FOR YOUR STRUCTURE) ---\n",
    "\n",
    "# Get the directory where your script is currently running\n",
    "CURRENT_DIR = Path.cwd()  # This will be '.../notebooks/_working'\n",
    "\n",
    "# The directory containing 'config.py' is the parent of the current directory\n",
    "CONFIG_DIR = CURRENT_DIR.parent # This will be '.../notebooks'\n",
    "\n",
    "# Add the directory containing config.py to the Python path\n",
    "# so that the import statement `from config import ...` can find it.\n",
    "if str(CONFIG_DIR) not in sys.path:\n",
    "    sys.path.append(str(CONFIG_DIR))\n",
    "\n",
    "# --- 4. VERIFICATION ---\n",
    "print(f\"✅ Current Script Directory: {CURRENT_DIR}\")\n",
    "print(f\"✅ Directory containing config.py (added to path): {CONFIG_DIR}\")\n",
    "\n",
    "# Assert that the config file we want to import actually exists in that location.\n",
    "# This gives a much clearer error if the path is wrong.\n",
    "config_file_path = CONFIG_DIR / 'config.py'\n",
    "assert config_file_path.exists(), f\"Error: config.py not found at {config_file_path}\"\n",
    "\n",
    "\n",
    "# --- 5. IMPORT YOUR CUSTOM MODULE ---\n",
    "# This will now work correctly because its parent directory ('.../notebooks/') is on the path.\n",
    "from config import DATE_STR, RISK_FREE_RATE_DAILY\n",
    "# Note: The import for 'utils' is removed as its location is not specified\n",
    "# and the old SRC_DIR path is no longer valid for this structure.\n",
    "# import utils\n",
    "\n",
    "print(\"\\n✅ Successfully imported DATE_STR from config.py.\")\n",
    "print(f\"✅ The value of DATE_STR is: '{DATE_STR}'\")\n",
    "\n",
    "\n",
    "# --- The following paths are commented out as they are based on a\n",
    "# --- 'standard project structure' you plan to adopt later.\n",
    "\n",
    "ROOT_DIR = CURRENT_DIR.parent.parent # This would point to the folder containing 'notebooks'\n",
    "OUTPUT_DIR = ROOT_DIR / 'output'\n",
    "DATA_DIR = ROOT_DIR / 'data'\n",
    "SRC_DIR = ROOT_DIR / 'src'\n",
    "SELECTION_RESULTS = OUTPUT_DIR  / 'selection_results'\n",
    "BACKTEST_RESULTS = OUTPUT_DIR / 'backtest_results'\n",
    "# SRC_DIR = ROOT_DIR / 'src'\n",
    "# ... and so on"
   ]
  },
  {
   "cell_type": "code",
   "execution_count": 16,
   "metadata": {},
   "outputs": [
    {
     "name": "stdout",
     "output_type": "stream",
     "text": [
      "0. 2025-06-11_short_term_mean_reversion.csv\n",
      "1. 2025-06-11_short_term_mean_reversion.parquet\n",
      "2. 2025-06-11_short_term_mean_reversion_params.json\n"
     ]
    }
   ],
   "source": [
    "# Get a list of all .parquet files in the directory\n",
    "# Using .glob('*.parquet') is a safe way to get only the files you want\n",
    "# Gets all files ending with .parquet that also contain 'df_finviz'\n",
    "_file_list = [f.name for f in SELECTION_RESULTS.glob(f\"*{DATE_STR}*\")]\n",
    "for i, _file in enumerate(_file_list):\n",
    "    print(f\"{i}. {_file}\")"
   ]
  },
  {
   "cell_type": "code",
   "execution_count": 17,
   "metadata": {},
   "outputs": [
    {
     "name": "stdout",
     "output_type": "stream",
     "text": [
      "df_selections:\n",
      "        ROE %   Price    RSI  Change %  Rel Volume  Avg Volume, M  Debt/Eq  ATR/Price %     z_RSI  z_Change%  z_RelVolume  z_ATR/Price%  final_score  Weight_EW  Weight_IV  Weight_SW\n",
      "Ticker                                                                                                                                                                               \n",
      "CWAN    58.14   23.10  47.68     -6.69        2.91           3.06     0.06     3.376623 -0.906428  -3.692336     7.347584      0.634664     3.015618        0.1   0.094762   0.197792\n",
      "NUE      6.54  116.66  49.38     -6.43        1.03           2.60     0.39     3.900223 -0.738860  -3.547220     1.219603      1.167119     1.627337        0.1   0.082041   0.106736\n",
      "LULU    42.49  252.53  30.34     -2.31        1.42           2.77     0.40     5.084544 -2.615622  -1.247691     2.490833      2.371468     1.613179        0.1   0.062931   0.105807\n",
      "BF-B    23.14   27.66  24.18     -0.41        1.48           3.44     0.68     4.121475 -3.222809  -0.187228     2.686407      1.392112     1.591583        0.1   0.077636   0.104391\n",
      "GME      6.62   28.50  46.87     -5.48        1.06          12.34     0.35     5.087719 -0.986269  -3.016989     1.317390      2.374697     1.427149        0.1   0.062892   0.093606\n",
      "AMH      5.81   36.28  37.97     -1.79        0.98           2.04     0.69     2.039691 -1.863537  -0.957459     1.056625     -0.724876     1.271161        0.1   0.156875   0.083375\n",
      "ROST    39.57  136.63  39.04     -2.46        0.90           3.44     0.90     2.825148 -1.758068  -1.331412     0.795859      0.073863     1.233103        0.1   0.113260   0.080878\n",
      "CAVA    21.73   76.91  30.54     -1.80        0.87           3.62     0.57     4.368743 -2.595908  -0.963040     0.698072      1.643561     1.220890        0.1   0.073242   0.080077\n",
      "HBAN    10.30   16.08  58.90     -1.44        2.00          23.20     0.92     2.238806  0.199520  -0.762111     4.381380     -0.522394     1.125422        0.1   0.142923   0.073816\n",
      "CPRT    18.54   50.46  24.37      0.36        0.73           5.83     0.01     2.397939 -3.204081   0.242538     0.241733     -0.360570     1.120944        0.1   0.133438   0.073522\n"
     ]
    }
   ],
   "source": [
    "df_selections = pd.read_parquet(SELECTION_RESULTS / _file_list[1])\n",
    "print(f'df_selections:\\n{df_selections}')"
   ]
  },
  {
   "cell_type": "code",
   "execution_count": 18,
   "metadata": {},
   "outputs": [
    {
     "name": "stdout",
     "output_type": "stream",
     "text": [
      "<class 'pandas.core.frame.DataFrame'>\n",
      "Index: 10 entries, CWAN to CPRT\n",
      "Data columns (total 16 columns):\n",
      " #   Column         Non-Null Count  Dtype  \n",
      "---  ------         --------------  -----  \n",
      " 0   ROE %          10 non-null     float64\n",
      " 1   Price          10 non-null     float64\n",
      " 2   RSI            10 non-null     float64\n",
      " 3   Change %       10 non-null     float64\n",
      " 4   Rel Volume     10 non-null     float64\n",
      " 5   Avg Volume, M  10 non-null     float64\n",
      " 6   Debt/Eq        10 non-null     float64\n",
      " 7   ATR/Price %    10 non-null     float64\n",
      " 8   z_RSI          10 non-null     float64\n",
      " 9   z_Change%      10 non-null     float64\n",
      " 10  z_RelVolume    10 non-null     float64\n",
      " 11  z_ATR/Price%   10 non-null     float64\n",
      " 12  final_score    10 non-null     float64\n",
      " 13  Weight_EW      10 non-null     float64\n",
      " 14  Weight_IV      10 non-null     float64\n",
      " 15  Weight_SW      10 non-null     float64\n",
      "dtypes: float64(16)\n",
      "memory usage: 1.3+ KB\n"
     ]
    }
   ],
   "source": [
    "df_selections.info()"
   ]
  },
  {
   "cell_type": "code",
   "execution_count": 19,
   "metadata": {},
   "outputs": [
    {
     "data": {
      "text/plain": [
       "['CWAN', 'NUE', 'LULU', 'BF-B', 'GME', 'AMH', 'ROST', 'CAVA', 'HBAN', 'CPRT']"
      ]
     },
     "execution_count": 19,
     "metadata": {},
     "output_type": "execute_result"
    }
   ],
   "source": [
    "tickers = df_selections.index.to_list()\n",
    "tickers"
   ]
  },
  {
   "cell_type": "code",
   "execution_count": 20,
   "metadata": {},
   "outputs": [
    {
     "name": "stdout",
     "output_type": "stream",
     "text": [
      "0. df_adj_close.parquet\n"
     ]
    }
   ],
   "source": [
    "_file_list = [f.name for f in DATA_DIR.glob('*adj*.parquet')]\n",
    "for i, _file in enumerate(_file_list):\n",
    "    print(f\"{i}. {_file}\")"
   ]
  },
  {
   "cell_type": "code",
   "execution_count": 21,
   "metadata": {},
   "outputs": [
    {
     "name": "stdout",
     "output_type": "stream",
     "text": [
      "df_adj:\n",
      "Ticker       CWAN     NUE    LULU   BF-B    GME      AMH    ROST   CAVA   HBAN   CPRT\n",
      "Date                                                                                 \n",
      "2025-06-11  23.10  117.13  252.28  27.50  28.55  36.0423  136.39  76.83  16.09  50.50\n",
      "2025-06-12  22.82  118.45  247.03  27.29  22.14  36.3200  133.47  78.25  15.96  49.99\n",
      "2025-06-13  22.11  121.92  239.11  26.44  22.14  36.4000  131.85  74.57  15.51  48.59\n"
     ]
    }
   ],
   "source": [
    "df_adj = pd.read_parquet(DATA_DIR / _file_list[0])\n",
    "start_index_pos = df_adj.index.get_loc(DATE_STR)\n",
    "end_index_pos = start_index_pos + 6\n",
    "df_adj = df_adj.iloc[start_index_pos:end_index_pos]\n",
    "df_adj = df_adj.loc[:, tickers]\n",
    "print(f\"df_adj:\\n{df_adj}\")"
   ]
  },
  {
   "cell_type": "code",
   "execution_count": 22,
   "metadata": {},
   "outputs": [
    {
     "name": "stdout",
     "output_type": "stream",
     "text": [
      "<class 'pandas.core.frame.DataFrame'>\n",
      "DatetimeIndex: 3 entries, 2025-06-11 to 2025-06-13\n",
      "Data columns (total 10 columns):\n",
      " #   Column  Non-Null Count  Dtype  \n",
      "---  ------  --------------  -----  \n",
      " 0   CWAN    3 non-null      float64\n",
      " 1   NUE     3 non-null      float64\n",
      " 2   LULU    3 non-null      float64\n",
      " 3   BF-B    3 non-null      float64\n",
      " 4   GME     3 non-null      float64\n",
      " 5   AMH     3 non-null      float64\n",
      " 6   ROST    3 non-null      float64\n",
      " 7   CAVA    3 non-null      float64\n",
      " 8   HBAN    3 non-null      float64\n",
      " 9   CPRT    3 non-null      float64\n",
      "dtypes: float64(10)\n",
      "memory usage: 264.0 bytes\n"
     ]
    }
   ],
   "source": [
    "df_adj.info()"
   ]
  },
  {
   "cell_type": "markdown",
   "metadata": {},
   "source": [
    "--- Portfolio Performance --- is the sum and calculated using risk-free-rate=0,    \n",
    "--- Daily Sharpe Ratio (using cross-sectional std dev) --- ????"
   ]
  },
  {
   "cell_type": "code",
   "execution_count": 34,
   "metadata": {},
   "outputs": [
    {
     "name": "stdout",
     "output_type": "stream",
     "text": [
      "Buy Date: 2025-06-12\n",
      "Sell Date: 2025-06-13\n",
      "Daily Risk-Free Rate: 0.000159\n",
      "\n",
      "--- Individual Stock Returns ---\n",
      "Ticker\n",
      "CWAN    -0.031113\n",
      "NUE      0.029295\n",
      "LULU    -0.032061\n",
      "BF-B    -0.031147\n",
      "GME      0.000000\n",
      "AMH      0.002203\n",
      "ROST    -0.012138\n",
      "CAVA    -0.047029\n",
      "HBAN    -0.028195\n",
      "CPRT    -0.028006\n",
      "dtype: object\n",
      "\n",
      "--- Portfolio Performance ---\n",
      "Weight_EW    -0.0178\n",
      "Weight_IV    -0.0172\n",
      "Weight_SW    -0.0184\n",
      "Name: Portfolio Return, dtype: object\n",
      "\n",
      "--- Daily Risk Metrics ---\n",
      "Standard Deviation of Individual Stock Returns: 0.022589\n",
      "\n",
      "--- Daily Sharpe Ratio (using cross-sectional std dev) ---\n",
      "Weight_EW    -0.7959\n",
      "Weight_IV    -0.7694\n",
      "Weight_SW    -0.8205\n",
      "Name: Daily Sharpe Ratio, dtype: object\n"
     ]
    }
   ],
   "source": [
    "import pandas as pd\n",
    "import numpy as np\n",
    "\n",
    "\n",
    "# --- Main Calculation Logic ---\n",
    "\n",
    "buy_date = pd.to_datetime(DATE_STR) + pd.Timedelta(days=1)\n",
    "sell_date = buy_date + pd.Timedelta(days=1)\n",
    "\n",
    "print(f\"Buy Date: {buy_date.date()}\")\n",
    "print(f\"Sell Date: {sell_date.date()}\")\n",
    "print(f\"Daily Risk-Free Rate: {RISK_FREE_RATE_DAILY:.6f}\")\n",
    "\n",
    "\n",
    "# 2. Extract prices for buy and sell dates\n",
    "buy_prices = df_adj.loc[buy_date]\n",
    "sell_prices = df_adj.loc[sell_date]\n",
    "\n",
    "# 3. Calculate individual stock returns\n",
    "individual_returns = (sell_prices / buy_prices) - 1\n",
    "\n",
    "# --- START OF MODIFICATIONS ---\n",
    "\n",
    "# 3a. Calculate the standard deviation of the individual stock returns for the day\n",
    "std_dev_daily_returns = individual_returns.std()\n",
    "\n",
    "# --- END OF MODIFICATIONS ---\n",
    "\n",
    "# 4. Calculate portfolio performance\n",
    "weights_df = df_selections[['Weight_EW', 'Weight_IV', 'Weight_SW']]\n",
    "weighted_returns = weights_df.multiply(individual_returns, axis=0)\n",
    "portfolio_performance = weighted_returns.sum()\n",
    "\n",
    "# --- START OF MODIFICATIONS ---\n",
    "\n",
    "# 5. Calculate Daily Sharpe Ratio\n",
    "# This uses the standard deviation of individual stock returns as the denominator,\n",
    "# as we only have a single day of portfolio data.\n",
    "# It measures portfolio excess return against the cross-sectional volatility of its components.\n",
    "if std_dev_daily_returns > 0:\n",
    "    daily_sharpe_ratio = (portfolio_performance - RISK_FREE_RATE_DAILY) / std_dev_daily_returns\n",
    "else:\n",
    "    # Handle case with no volatility to avoid division by zero\n",
    "    daily_sharpe_ratio = pd.Series([np.nan] * len(portfolio_performance), index=portfolio_performance.index)\n",
    "    \n",
    "# --- END OF MODIFICATIONS ---\n",
    "\n",
    "\n",
    "# 6. Display the final results\n",
    "\n",
    "print(\"\\n--- Individual Stock Returns ---\")\n",
    "print((individual_returns).map('{:.6f}'.format))\n",
    "\n",
    "\n",
    "print(\"\\n--- Portfolio Performance ---\")\n",
    "portfolio_performance.name = \"Portfolio Return\"\n",
    "print((portfolio_performance).map('{:.4f}'.format))\n",
    "\n",
    "# --- START OF MODIFICATIONS ---\n",
    "\n",
    "print(\"\\n--- Daily Risk Metrics ---\")\n",
    "print(f\"Standard Deviation of Individual Stock Returns: {std_dev_daily_returns:.6f}\")\n",
    "\n",
    "print(\"\\n--- Daily Sharpe Ratio (using cross-sectional std dev) ---\")\n",
    "daily_sharpe_ratio.name = \"Daily Sharpe Ratio\"\n",
    "print(daily_sharpe_ratio.map('{:.4f}'.format))\n",
    "\n",
    "# --- END OF MODIFICATIONS ---"
   ]
  },
  {
   "cell_type": "code",
   "execution_count": 30,
   "metadata": {},
   "outputs": [
    {
     "name": "stdout",
     "output_type": "stream",
     "text": [
      "Buy Date: 2025-06-12\n",
      "Sell Date: 2025-06-13\n",
      "\n",
      "--- Individual Stock Returns ---\n",
      "Ticker\n",
      "CWAN    -0.031113\n",
      "NUE      0.029295\n",
      "LULU    -0.032061\n",
      "BF-B    -0.031147\n",
      "GME      0.000000\n",
      "AMH      0.002203\n",
      "ROST    -0.012138\n",
      "CAVA    -0.047029\n",
      "HBAN    -0.028195\n",
      "CPRT    -0.028006\n",
      "dtype: object\n",
      "\n",
      "--- Portfolio Performance ---\n",
      "Weight_EW    -0.0178\n",
      "Weight_IV    -0.0172\n",
      "Weight_SW    -0.0184\n",
      "Name: Portfolio Return, dtype: object\n"
     ]
    }
   ],
   "source": [
    "import pandas as pd\n",
    "import numpy as np\n",
    "\n",
    "# --- Main Calculation Logic ---\n",
    "\n",
    "# 1. Define Dates\n",
    "# DATE_STR = '2025-06-10'\n",
    "buy_date = pd.to_datetime(DATE_STR) + pd.Timedelta(days=1)\n",
    "sell_date = buy_date + pd.Timedelta(days=1)\n",
    "\n",
    "print(f\"Buy Date: {buy_date.date()}\")\n",
    "print(f\"Sell Date: {sell_date.date()}\")\n",
    "\n",
    "# 2. Extract prices for buy and sell dates\n",
    "buy_prices = df_adj.loc[buy_date]\n",
    "sell_prices = df_adj.loc[sell_date]\n",
    "\n",
    "# 3. Calculate individual stock returns\n",
    "individual_returns = (sell_prices / buy_prices) - 1\n",
    "\n",
    "# 4. Calculate portfolio performance\n",
    "weights_df = df_selections[['Weight_EW', 'Weight_IV', 'Weight_SW']]\n",
    "weighted_returns = weights_df.multiply(individual_returns, axis=0)\n",
    "portfolio_performance = weighted_returns.sum()\n",
    "\n",
    "# 5. Display the final results (CORRECTED aPPROACH)\n",
    "\n",
    "print(\"\\n--- Individual Stock Returns ---\")\n",
    "# Just print the Series directly. Pandas will format it nicely.\n",
    "# To show as percentages, we can map a formatting function.\n",
    "# print((individual_returns * 100).map('{:.2f}%'.format))\n",
    "print((individual_returns).map('{:.6f}'.format))\n",
    "\n",
    "\n",
    "print(\"\\n--- Portfolio Performance ---\")\n",
    "# Rename for clarity and print the final Series\n",
    "portfolio_performance.name = \"Portfolio Return\"\n",
    "# print((portfolio_performance * 100).map('{:.4f}%'.format))\n",
    "print((portfolio_performance).map('{:.4f}'.format))"
   ]
  },
  {
   "cell_type": "code",
   "execution_count": 24,
   "metadata": {},
   "outputs": [
    {
     "name": "stdout",
     "output_type": "stream",
     "text": [
      "0. backtest_master_results.csv\n",
      "1. backtest_master_results.parquet\n"
     ]
    }
   ],
   "source": [
    "_file_list = [f.name for f in BACKTEST_RESULTS.glob('*')]\n",
    "for i, _file in enumerate(_file_list):\n",
    "    print(f\"{i}. {_file}\")"
   ]
  },
  {
   "cell_type": "code",
   "execution_count": 25,
   "metadata": {},
   "outputs": [
    {
     "name": "stdout",
     "output_type": "stream",
     "text": [
      "df_backtest:\n",
      "   actual_selection_date_used  average_return  filter_max_debt_eq  filter_min_avg_volume_m  filter_min_price  filter_min_roe_pct inv_vol_col_name                          log_file  n_select_actual  n_select_requested  num_attempted_trades  num_failed_or_skipped_trades  num_selected_tickers  num_successful_trades  portfolio_return  portfolio_return_normalized       run_timestamp scheme  score_weight_change  score_weight_rel_volume  score_weight_rsi  score_weight_volatility selection_date  sharpe_ratio_period  std_dev_return  total_weight_traded  win_rate\n",
      "0                  2025-06-11       -0.017819                 1.5                      2.0              10.0                 5.0      ATR/Price %  backtest_run_20250616_205128.log               10                  10                    10                             0                    10                     10         -0.017819                    -0.017819 2025-06-16 20:51:28     EW                 0.35                      0.2              0.35                      0.1     2025-06-11            -0.795876        0.022589                  1.0       0.2\n",
      "1                  2025-06-11       -0.017819                 1.5                      2.0              10.0                 5.0      ATR/Price %  backtest_run_20250616_205128.log               10                  10                    10                             0                    10                     10         -0.017221                    -0.017221 2025-06-16 20:51:28     IV                 0.35                      0.2              0.35                      0.1     2025-06-11            -0.795876        0.022589                  1.0       0.2\n",
      "2                  2025-06-11       -0.017819                 1.5                      2.0              10.0                 5.0      ATR/Price %  backtest_run_20250616_205128.log               10                  10                    10                             0                    10                     10         -0.018375                    -0.018375 2025-06-16 20:51:28     SW                 0.35                      0.2              0.35                      0.1     2025-06-11            -0.795876        0.022589                  1.0       0.2\n",
      "3                  2025-06-10       -0.001627                 1.5                      2.0              10.0                 5.0      ATR/Price %  backtest_run_20250616_205128.log               10                  10                    10                             0                    10                     10         -0.001627                    -0.001627 2025-06-16 20:51:28     EW                 0.35                      0.2              0.35                      0.1     2025-06-10            -0.117492        0.015200                  1.0       0.4\n",
      "4                  2025-06-10       -0.001627                 1.5                      2.0              10.0                 5.0      ATR/Price %  backtest_run_20250616_205128.log               10                  10                    10                             0                    10                     10         -0.001382                    -0.001382 2025-06-16 20:51:28     IV                 0.35                      0.2              0.35                      0.1     2025-06-10            -0.117492        0.015200                  1.0       0.4\n",
      "..                        ...             ...                 ...                      ...               ...                 ...              ...                               ...              ...                 ...                   ...                           ...                   ...                    ...               ...                          ...                 ...    ...                  ...                      ...               ...                      ...            ...                  ...             ...                  ...       ...\n",
      "94                 2025-04-28        0.011447                 1.5                      2.0              10.0                 5.0      ATR/Price %  backtest_run_20250616_205128.log               10                  10                    10                             0                    10                     10          0.010450                     0.010450 2025-06-16 20:51:28     IV                 0.35                      0.2              0.35                      0.1     2025-04-28             0.543437        0.020772                  1.0       0.8\n",
      "95                 2025-04-28        0.011447                 1.5                      2.0              10.0                 5.0      ATR/Price %  backtest_run_20250616_205128.log               10                  10                    10                             0                    10                     10          0.012758                     0.012758 2025-06-16 20:51:28     SW                 0.35                      0.2              0.35                      0.1     2025-04-28             0.543437        0.020772                  1.0       0.8\n",
      "96                 2025-04-25        0.008532                 1.5                      2.0              10.0                 5.0      ATR/Price %  backtest_run_20250616_205128.log               10                  10                    10                             0                    10                     10          0.008532                     0.008532 2025-06-16 20:51:28     EW                 0.35                      0.2              0.35                      0.1     2025-04-25             0.412947        0.020277                  1.0       0.7\n",
      "97                 2025-04-25        0.008532                 1.5                      2.0              10.0                 5.0      ATR/Price %  backtest_run_20250616_205128.log               10                  10                    10                             0                    10                     10          0.007521                     0.007521 2025-06-16 20:51:28     IV                 0.35                      0.2              0.35                      0.1     2025-04-25             0.412947        0.020277                  1.0       0.7\n",
      "98                 2025-04-25        0.008532                 1.5                      2.0              10.0                 5.0      ATR/Price %  backtest_run_20250616_205128.log               10                  10                    10                             0                    10                     10          0.009558                     0.009558 2025-06-16 20:51:28     SW                 0.35                      0.2              0.35                      0.1     2025-04-25             0.412947        0.020277                  1.0       0.7\n",
      "\n",
      "[99 rows x 27 columns]\n"
     ]
    }
   ],
   "source": [
    "df_backtest = pd.read_parquet(BACKTEST_RESULTS / _file_list[1])\n",
    "print(f'df_backtest:\\n{df_backtest}')"
   ]
  },
  {
   "cell_type": "code",
   "execution_count": 26,
   "metadata": {},
   "outputs": [
    {
     "name": "stdout",
     "output_type": "stream",
     "text": [
      "Selected using .loc:\n",
      "  actual_selection_date_used  average_return  filter_max_debt_eq  filter_min_avg_volume_m  filter_min_price  filter_min_roe_pct inv_vol_col_name                          log_file  n_select_actual  n_select_requested  num_attempted_trades  num_failed_or_skipped_trades  num_selected_tickers  num_successful_trades  portfolio_return  portfolio_return_normalized       run_timestamp scheme  score_weight_change  score_weight_rel_volume  score_weight_rsi  score_weight_volatility selection_date  sharpe_ratio_period  std_dev_return  total_weight_traded  win_rate\n",
      "0                 2025-06-11       -0.017819                 1.5                      2.0              10.0                 5.0      ATR/Price %  backtest_run_20250616_205128.log               10                  10                    10                             0                    10                     10         -0.017819                    -0.017819 2025-06-16 20:51:28     EW                 0.35                      0.2              0.35                      0.1     2025-06-11            -0.795876        0.022589                  1.0       0.2\n",
      "1                 2025-06-11       -0.017819                 1.5                      2.0              10.0                 5.0      ATR/Price %  backtest_run_20250616_205128.log               10                  10                    10                             0                    10                     10         -0.017221                    -0.017221 2025-06-16 20:51:28     IV                 0.35                      0.2              0.35                      0.1     2025-06-11            -0.795876        0.022589                  1.0       0.2\n",
      "2                 2025-06-11       -0.017819                 1.5                      2.0              10.0                 5.0      ATR/Price %  backtest_run_20250616_205128.log               10                  10                    10                             0                    10                     10         -0.018375                    -0.018375 2025-06-16 20:51:28     SW                 0.35                      0.2              0.35                      0.1     2025-06-11            -0.795876        0.022589                  1.0       0.2\n"
     ]
    }
   ],
   "source": [
    "# The syntax is very similar to boolean indexing, but inside .loc\n",
    "selected_df_loc = df_backtest.loc[df_backtest['actual_selection_date_used'] == DATE_STR]\n",
    "\n",
    "print(\"Selected using .loc:\")\n",
    "print(selected_df_loc)"
   ]
  },
  {
   "cell_type": "code",
   "execution_count": null,
   "metadata": {},
   "outputs": [],
   "source": [
    "####################################"
   ]
  },
  {
   "cell_type": "code",
   "execution_count": 28,
   "metadata": {},
   "outputs": [],
   "source": [
    "# --- Parameters ---\n",
    "NUM_TRADING_DAYS = 252\n",
    "TRADING_DAYS_PER_YEAR = 252\n",
    "RISK_FREE_RATE = 0.04 # Annual risk-free rate for Sharpe Ratio"
   ]
  },
  {
   "cell_type": "code",
   "execution_count": 29,
   "metadata": {},
   "outputs": [
    {
     "name": "stdout",
     "output_type": "stream",
     "text": [
      "\n",
      "==================================================\n",
      "      Group 1: Core Signal Performance (Active Days Only)\n",
      "==================================================\n",
      "Average Return per Trade    -2.6722%\n",
      "Hit Rate (Win %)               0.00%\n",
      "Profit Factor                   0.00\n",
      "Active-Only Sharpe Ratio        0.00\n",
      "dtype: object\n",
      "\n",
      "==================================================\n",
      "      Group 2: Total Portfolio Performance (Incl. Cash Days)\n",
      "==================================================\n",
      "Total Annualized Return         -336.69%\n",
      "Total Annualized Volatility       30.00%\n",
      "Total Portfolio Sharpe Ratio      -11.36\n",
      "Maximum Drawdown (MDD)             0.00%\n",
      "dtype: object\n"
     ]
    }
   ],
   "source": [
    "# --- Simulate the Trading Strategy ---\n",
    "\n",
    "# We will store the results of each part of the strategy here\n",
    "trade_returns = []              # For Group 1: stores only the return of each active trade\n",
    "daily_portfolio_returns = []    # For Group 2: stores return for ALL days (trade days and cash days)\n",
    "\n",
    "# Loop through the trading days, taking steps of 2 for each cycle\n",
    "# (Day i = Buy, Day i+1 = Sell)\n",
    "for i in range(0, len(df_adj) - 1, 2):\n",
    "    # --- Define trade dates ---\n",
    "    buy_date = df_adj.index[i]\n",
    "    sell_date = df_adj.index[i+1]\n",
    "    \n",
    "    # --- Simulate the \"analyze and select\" step ---\n",
    "    # For each trade, we generate a new set of random weights.\n",
    "    # In a real scenario, this would come from your df_selections for that day.\n",
    "    # We'll use the 'EW' (Equal Weight) strategy for this simulation.\n",
    "    weights = pd.Series(1/len(tickers), index=tickers) # Equal weights\n",
    "    \n",
    "    # --- Execute the trade ---\n",
    "    buy_prices = df_adj.loc[buy_date]\n",
    "    sell_prices = df_adj.loc[sell_date]\n",
    "    \n",
    "    # Calculate the return for this specific 1-day holding period\n",
    "    individual_stock_returns = (sell_prices / buy_prices) - 1\n",
    "    portfolio_trade_return = individual_stock_returns.dot(weights)\n",
    "    \n",
    "    # --- Log the results ---\n",
    "    # For Group 1: Store the return of this active trade\n",
    "    trade_returns.append(portfolio_trade_return)\n",
    "    \n",
    "    # For Group 2: Store the return for the invested day and the cash day\n",
    "    daily_portfolio_returns.append(portfolio_trade_return) # Day 1: Invested\n",
    "    daily_portfolio_returns.append(0.0)                     # Day 2: In Cash (0% return)\n",
    "\n",
    "# Convert lists to Pandas Series for easier calculation\n",
    "active_trades = pd.Series(trade_returns, name=\"Active Trade Returns\")\n",
    "total_portfolio_returns = pd.Series(daily_portfolio_returns, name=\"Total Portfolio Daily Returns\")\n",
    "\n",
    "# --- Calculate Group 1 Metrics: Evaluating the Core Signal ---\n",
    "print(\"\\n\" + \"=\"*50)\n",
    "print(\"      Group 1: Core Signal Performance (Active Days Only)\")\n",
    "print(\"=\"*50)\n",
    "\n",
    "avg_return_per_trade = active_trades.mean()\n",
    "hit_rate = (active_trades > 0).sum() / len(active_trades) if len(active_trades) > 0 else 0\n",
    "\n",
    "gross_profits = active_trades[active_trades > 0].sum()\n",
    "gross_losses = abs(active_trades[active_trades < 0].sum())\n",
    "profit_factor = gross_profits / gross_losses if gross_losses > 0 else np.inf\n",
    "\n",
    "# Sharpe for active trades is annualized by sqrt of # of trades per year\n",
    "num_trades_per_year = TRADING_DAYS_PER_YEAR / 2 \n",
    "active_only_sharpe = (active_trades.mean() / active_trades.std()) * np.sqrt(num_trades_per_year) if active_trades.std() > 0 else 0\n",
    "\n",
    "group1_stats = {\n",
    "    'Average Return per Trade': f\"{avg_return_per_trade:.4%}\",\n",
    "    'Hit Rate (Win %)': f\"{hit_rate:.2%}\",\n",
    "    'Profit Factor': f\"{profit_factor:.2f}\",\n",
    "    'Active-Only Sharpe Ratio': f\"{active_only_sharpe:.2f}\"\n",
    "}\n",
    "print(pd.Series(group1_stats))\n",
    "\n",
    "# --- Calculate Group 2 Metrics: Evaluating the Total Portfolio ---\n",
    "print(\"\\n\" + \"=\"*50)\n",
    "print(\"      Group 2: Total Portfolio Performance (Incl. Cash Days)\")\n",
    "print(\"=\"*50)\n",
    "\n",
    "# Annualize the return and volatility from the total daily series\n",
    "total_annual_return = total_portfolio_returns.mean() * TRADING_DAYS_PER_YEAR\n",
    "total_annual_volatility = total_portfolio_returns.std() * np.sqrt(TRADING_DAYS_PER_YEAR)\n",
    "\n",
    "# Calculate Sharpe on the total portfolio's annualized metrics\n",
    "total_sharpe_ratio = (total_annual_return - RISK_FREE_RATE) / total_annual_volatility if total_annual_volatility > 0 else 0\n",
    "\n",
    "# Calculate Drawdown\n",
    "equity_curve = (1 + total_portfolio_returns).cumprod()\n",
    "running_max = equity_curve.cummax()\n",
    "drawdown = (equity_curve - running_max) / running_max\n",
    "max_drawdown = drawdown.min()\n",
    "\n",
    "group2_stats = {\n",
    "    'Total Annualized Return': f\"{total_annual_return:.2%}\",\n",
    "    'Total Annualized Volatility': f\"{total_annual_volatility:.2%}\",\n",
    "    'Total Portfolio Sharpe Ratio': f\"{total_sharpe_ratio:.2f}\",\n",
    "    'Maximum Drawdown (MDD)': f\"{max_drawdown:.2%}\"\n",
    "}\n",
    "print(pd.Series(group2_stats))"
   ]
  },
  {
   "cell_type": "code",
   "execution_count": null,
   "metadata": {},
   "outputs": [],
   "source": []
  },
  {
   "cell_type": "code",
   "execution_count": null,
   "metadata": {},
   "outputs": [],
   "source": [
    "import pandas as pd\n",
    "import numpy as np\n",
    "\n",
    "# # --- Recreate DataFrames (Setup remains the same) ---\n",
    "# tickers = ['DOCU', 'BF-B', 'CPRT', 'SE', 'GE', 'PGR', 'CART', 'LULU', 'LTH', 'CME']\n",
    "# data_selections = np.random.rand(10, 16)\n",
    "# df_selections = pd.DataFrame(data_selections, index=tickers, columns=[\n",
    "#     'RSI', 'Change %', 'ATR/Price %', 'Avg Volume, M', 'Rel Volume',\n",
    "#     'Debt/Eq', 'ROE %', 'Price', 'z_RSI', 'z_Change%', 'z_RelVolume',\n",
    "#     'z_ATR/Price%', 'final_score', 'Weight_EW', 'Weight_IV', 'Weight_SW'\n",
    "# ])\n",
    "# for col in ['Weight_EW', 'Weight_IV', 'Weight_SW']:\n",
    "#     df_selections[col] = df_selections[col] / df_selections[col].sum()\n",
    "\n",
    "# dates = pd.to_datetime(['2025-06-10', '2025-06-11', '2025-06-12', '2025-06-13'])\n",
    "# price_data = 100 + np.random.randn(4, 10).cumsum(axis=0)\n",
    "# df_adj = pd.DataFrame(price_data, index=dates, columns=tickers)\n",
    "\n",
    "# print(\"--- Sample df_adj (prices) ---\")\n",
    "# print(df_adj.round(2)) # Rounding for cleaner display\n",
    "\n",
    "# --- Main Calculation Logic (CORRECTED PRINTING) ---\n",
    "\n",
    "# 1. Calculate Daily Stock Returns\n",
    "daily_stock_returns = df_adj.pct_change().dropna()\n",
    "\n",
    "print(\"\\n--- Daily Stock Returns ---\")\n",
    "# Format each column to a percentage string for printing\n",
    "formatted_daily_returns = daily_stock_returns.applymap('{:.2%}'.format)\n",
    "print(formatted_daily_returns)\n",
    "\n",
    "\n",
    "# --- Parameters for Annualization ---\n",
    "trading_days = 252\n",
    "risk_free_rate = 0.04 # Annual risk-free rate (e.g., 2%)\n",
    "\n",
    "# --- Store results in a dictionary ---\n",
    "portfolio_stats = {}\n",
    "\n",
    "# 2. Iterate through each portfolio to calculate its metrics\n",
    "portfolio_types = ['Weight_EW', 'Weight_IV', 'Weight_SW']\n",
    "for p_type in portfolio_types:\n",
    "    weights = df_selections[p_type]\n",
    "    daily_portfolio_returns = daily_stock_returns.dot(weights)\n",
    "    \n",
    "    # Calculate metrics\n",
    "    volatility = daily_portfolio_returns.std()\n",
    "    annualized_volatility = volatility * np.sqrt(trading_days)\n",
    "    avg_daily_return = daily_portfolio_returns.mean()\n",
    "    annualized_return = avg_daily_return * trading_days\n",
    "    sharpe_ratio = (annualized_return - risk_free_rate) / annualized_volatility\n",
    "    \n",
    "    # Store the raw numeric results\n",
    "    portfolio_name = p_type.replace('Weight_', '')\n",
    "    portfolio_stats[portfolio_name] = {\n",
    "        'Annualized Return': annualized_return,\n",
    "        'Annualized Volatility': annualized_volatility,\n",
    "        'Sharpe Ratio': sharpe_ratio\n",
    "    }\n",
    "\n",
    "# 5. Convert results to a DataFrame\n",
    "results_df = pd.DataFrame.from_dict(portfolio_stats, orient='index')\n",
    "\n",
    "print(\"\\n--- Portfolio Performance & Risk Metrics ---\")\n",
    "\n",
    "# Create a copy to format for printing, keeping the original with numbers\n",
    "results_to_print = results_df.copy()\n",
    "results_to_print['Annualized Return'] = results_to_print['Annualized Return'].map('{:.2%}'.format)\n",
    "results_to_print['Annualized Volatility'] = results_to_print['Annualized Volatility'].map('{:.2%}'.format)\n",
    "results_to_print['Sharpe Ratio'] = results_to_print['Sharpe Ratio'].map('{:.2f}'.format)\n",
    "\n",
    "# Print the formatted DataFrame\n",
    "print(results_to_print)"
   ]
  }
 ],
 "metadata": {
  "kernelspec": {
   "display_name": ".venv",
   "language": "python",
   "name": "python3"
  },
  "language_info": {
   "codemirror_mode": {
    "name": "ipython",
    "version": 3
   },
   "file_extension": ".py",
   "mimetype": "text/x-python",
   "name": "python",
   "nbconvert_exporter": "python",
   "pygments_lexer": "ipython3",
   "version": "3.11.9"
  }
 },
 "nbformat": 4,
 "nbformat_minor": 2
}
