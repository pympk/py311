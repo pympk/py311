{
 "cells": [
  {
   "cell_type": "code",
   "execution_count": 45,
   "metadata": {},
   "outputs": [
    {
     "name": "stdout",
     "output_type": "stream",
     "text": [
      "The autoreload extension is already loaded. To reload it, use:\n",
      "  %reload_ext autoreload\n",
      "Python will look in these locations:\n",
      "['C:\\\\Users\\\\ping\\\\.pyenv\\\\pyenv-win\\\\versions\\\\3.11.9\\\\python311.zip', 'C:\\\\Users\\\\ping\\\\.pyenv\\\\pyenv-win\\\\versions\\\\3.11.9\\\\DLLs', 'C:\\\\Users\\\\ping\\\\.pyenv\\\\pyenv-win\\\\versions\\\\3.11.9\\\\Lib', 'C:\\\\Users\\\\ping\\\\.pyenv\\\\pyenv-win\\\\versions\\\\3.11.9', 'c:\\\\Users\\\\ping\\\\Files_win10\\\\python\\\\py311\\\\.venv', '', 'c:\\\\Users\\\\ping\\\\Files_win10\\\\python\\\\py311\\\\.venv\\\\Lib\\\\site-packages', 'c:\\\\Users\\\\ping\\\\Files_win10\\\\python\\\\py311\\\\.venv\\\\Lib\\\\site-packages\\\\win32', 'c:\\\\Users\\\\ping\\\\Files_win10\\\\python\\\\py311\\\\.venv\\\\Lib\\\\site-packages\\\\win32\\\\lib', 'c:\\\\Users\\\\ping\\\\Files_win10\\\\python\\\\py311\\\\.venv\\\\Lib\\\\site-packages\\\\Pythonwin', 'c:\\\\Users\\\\ping\\\\Files_win10\\\\python\\\\py311\\\\stocks\\\\src', 'c:\\\\Users\\\\ping\\\\Files_win10\\\\python\\\\py311\\\\.venv\\\\Lib\\\\site-packages\\\\setuptools\\\\_vendor', 'c:\\\\Users\\\\ping\\\\Files_win10\\\\python\\\\py311\\\\stocks\\\\src', 'c:\\\\Users\\\\ping\\\\Files_win10\\\\python\\\\py311\\\\stocks\\\\src', 'c:\\\\Users\\\\ping\\\\Files_win10\\\\python\\\\py311\\\\stocks\\\\src', 'c:\\\\Users\\\\ping\\\\Files_win10\\\\python\\\\py311\\\\stocks\\\\src', 'c:\\\\Users\\\\ping\\\\Files_win10\\\\python\\\\py311\\\\stocks\\\\src', 'c:\\\\Users\\\\ping\\\\Files_win10\\\\python\\\\py311\\\\stocks\\\\src', 'c:\\\\Users\\\\ping\\\\Files_win10\\\\python\\\\py311\\\\stocks\\\\src']\n"
     ]
    },
    {
     "data": {
      "text/markdown": [
       "<span style='color:#00ffff;font-weight:500'>[Downloads] Scanned latest 60 files • Found 0 '2025-' matches</span>"
      ],
      "text/plain": [
       "<IPython.core.display.Markdown object>"
      ]
     },
     "metadata": {},
     "output_type": "display_data"
    },
    {
     "data": {
      "text/markdown": [
       "**Available '2025-' files:**"
      ],
      "text/plain": [
       "<IPython.core.display.Markdown object>"
      ]
     },
     "metadata": {},
     "output_type": "display_data"
    },
    {
     "data": {
      "text/markdown": [
       "- (1) `[DATA]` `2025-04-01_cluster_stats_df.parquet` <span style='color:#00ffff'>(0.01 MB, 2025-04-02 09:43)</span>"
      ],
      "text/plain": [
       "<IPython.core.display.Markdown object>"
      ]
     },
     "metadata": {},
     "output_type": "display_data"
    },
    {
     "data": {
      "text/markdown": [
       "- (2) `[DATA]` `2025-04-01_detailed_clusters_df.parquet` <span style='color:#00ffff'>(0.05 MB, 2025-04-02 09:43)</span>"
      ],
      "text/plain": [
       "<IPython.core.display.Markdown object>"
      ]
     },
     "metadata": {},
     "output_type": "display_data"
    },
    {
     "data": {
      "text/markdown": [
       "- (3) `[DATA]` `2025-04-01_portf.txt` <span style='color:#00ffff'>(0.10 MB, 2025-04-02 09:43)</span>"
      ],
      "text/plain": [
       "<IPython.core.display.Markdown object>"
      ]
     },
     "metadata": {},
     "output_type": "display_data"
    },
    {
     "data": {
      "text/markdown": [
       "- (4) `[DATA]` `2025-04-01_selected_stocks.parquet` <span style='color:#00ffff'>(0.03 MB, 2025-04-02 09:43)</span>"
      ],
      "text/plain": [
       "<IPython.core.display.Markdown object>"
      ]
     },
     "metadata": {},
     "output_type": "display_data"
    },
    {
     "data": {
      "text/markdown": [
       "- (5) `[DATA]` `2025-04-01_selected_stocks.tsv` <span style='color:#00ffff'>(0.01 MB, 2025-04-02 09:43)</span>"
      ],
      "text/plain": [
       "<IPython.core.display.Markdown object>"
      ]
     },
     "metadata": {},
     "output_type": "display_data"
    },
    {
     "data": {
      "text/markdown": [
       "- (6) `[DATA]` `2025-04-02_cluster_stats_df.parquet` <span style='color:#00ffff'>(0.01 MB, 2025-04-02 16:36)</span>"
      ],
      "text/plain": [
       "<IPython.core.display.Markdown object>"
      ]
     },
     "metadata": {},
     "output_type": "display_data"
    },
    {
     "data": {
      "text/markdown": [
       "- (7) `[DATA]` `2025-04-02_detailed_clusters_df.parquet` <span style='color:#00ffff'>(0.05 MB, 2025-04-02 16:36)</span>"
      ],
      "text/plain": [
       "<IPython.core.display.Markdown object>"
      ]
     },
     "metadata": {},
     "output_type": "display_data"
    },
    {
     "data": {
      "text/markdown": [
       "- (8) `[DATA]` `2025-04-02_portf.txt` <span style='color:#00ffff'>(0.10 MB, 2025-04-02 16:36)</span>"
      ],
      "text/plain": [
       "<IPython.core.display.Markdown object>"
      ]
     },
     "metadata": {},
     "output_type": "display_data"
    },
    {
     "data": {
      "text/markdown": [
       "- (9) `[DATA]` `2025-04-02_selected_stocks.parquet` <span style='color:#00ffff'>(0.03 MB, 2025-04-02 16:36)</span>"
      ],
      "text/plain": [
       "<IPython.core.display.Markdown object>"
      ]
     },
     "metadata": {},
     "output_type": "display_data"
    },
    {
     "data": {
      "text/markdown": [
       "- (10) `[DATA]` `2025-04-02_selected_stocks.tsv` <span style='color:#00ffff'>(0.01 MB, 2025-04-02 16:36)</span>"
      ],
      "text/plain": [
       "<IPython.core.display.Markdown object>"
      ]
     },
     "metadata": {},
     "output_type": "display_data"
    },
    {
     "name": "stdout",
     "output_type": "stream",
     "text": [
      "\n",
      "Input a number to select file (1-10)\n"
     ]
    },
    {
     "data": {
      "text/markdown": [
       "\n",
       "    **Selected paths:**\n",
       "    - Source: `..\\picks\\2025-04-02_selected_stocks.parquet`  \n",
       "    - Destination: `..\\picks\\2025-04-02_selected_stocks_clean.parquet`\n",
       "    "
      ],
      "text/plain": [
       "<IPython.core.display.Markdown object>"
      ]
     },
     "metadata": {},
     "output_type": "display_data"
    }
   ],
   "source": [
    "import sys\n",
    "from pathlib import Path\n",
    "import pandas as pd\n",
    "\n",
    "# Notebook cell\n",
    "%load_ext autoreload\n",
    "%autoreload 2\n",
    "\n",
    "# Get root directory (assuming notebook is in root/notebooks/)\n",
    "NOTEBOOK_DIR = Path.cwd()\n",
    "ROOT_DIR = NOTEBOOK_DIR.parent if NOTEBOOK_DIR.name == 'notebooks' else NOTEBOOK_DIR\n",
    "\n",
    "# Add src directory to Python path\n",
    "sys.path.append(str(ROOT_DIR / 'src'))\n",
    "\n",
    "# Verify path\n",
    "print(f\"Python will look in these locations:\\n{sys.path}\")\n",
    "\n",
    "\n",
    "# --- Execute the processor ---\n",
    "import utils\n",
    "\n",
    "\n",
    "target_date_path, _ = utils.main_processor(\n",
    "    data_dir='..\\picks',  # search project ..\\data\n",
    "    downloads_dir=None,  # None searchs Downloads dir, '' omits search1\n",
    "    downloads_limit=60,  # search the first 10 files\n",
    "    clean_name_override=None,  # override filename\n",
    "    start_file_pattern='2025-', # search for files starting with 'df_'\n",
    ")\n"
   ]
  },
  {
   "cell_type": "code",
   "execution_count": 46,
   "metadata": {},
   "outputs": [
    {
     "name": "stdout",
     "output_type": "stream",
     "text": [
      "target_date: 2025-04-02\n"
     ]
    }
   ],
   "source": [
    "target_date = utils.extract_date_from_string(target_date_path)\n",
    "print(f'target_date: {target_date}')"
   ]
  },
  {
   "cell_type": "code",
   "execution_count": 47,
   "metadata": {},
   "outputs": [],
   "source": [
    "import pandas as pd\n",
    "from pandas.tseries.holiday import USFederalHolidayCalendar\n",
    "from datetime import datetime, timedelta\n",
    "\n",
    "def get_nyse_trading_date(date_str, delta_days=0):\n",
    "    \"\"\"\n",
    "    Get NYSE trading date relative to the input date.\n",
    "    \n",
    "    Args:\n",
    "        date_str (str): Date in 'YYYY-MM-DD' format\n",
    "        delta_days (int): Number of trading days to offset\n",
    "                          (positive for future, negative for past)\n",
    "    \n",
    "    Returns:\n",
    "        str: Trading date in 'YYYY-MM-DD' format\n",
    "    \"\"\"\n",
    "    # Convert input string to datetime\n",
    "    date = datetime.strptime(date_str, '%Y-%m-%d').date()\n",
    "    \n",
    "    # Create calendar for NYSE business days\n",
    "    cal = USFederalHolidayCalendar()\n",
    "    nyse_holidays = cal.holidays(start='2000-01-01', end='2030-12-31').date\n",
    "    \n",
    "    # Handle delta_days = 0 case\n",
    "    if delta_days == 0:\n",
    "        return date.strftime('%Y-%m-%d')\n",
    "    \n",
    "    # Determine direction (1 for forward, -1 for backward)\n",
    "    direction = 1 if delta_days > 0 else -1\n",
    "    remaining_days = abs(delta_days)\n",
    "    current_date = date\n",
    "    \n",
    "    while remaining_days > 0:\n",
    "        # Move one day in the specified direction\n",
    "        current_date += timedelta(days=direction)\n",
    "        \n",
    "        # Check if it's a trading day (weekday and not holiday)\n",
    "        if current_date.weekday() < 5 and current_date not in nyse_holidays:\n",
    "            remaining_days -= 1\n",
    "    \n",
    "    return current_date.strftime('%Y-%m-%d')\n"
   ]
  },
  {
   "cell_type": "code",
   "execution_count": 48,
   "metadata": {},
   "outputs": [],
   "source": [
    "import os\n",
    "from datetime import datetime\n",
    "\n",
    "def update_picks_filepath(target_date_path, delta_days=-1):\n",
    "    \"\"\"\n",
    "    Update the date in a file path to the specified trading day offset.\n",
    "    \n",
    "    Args:\n",
    "        target_date_path (str): Original file path containing a date (e.g., '..\\picks\\2025-04-02_selected_stocks.parquet')\n",
    "        delta_days (int): Number of trading days to offset (default -1 for previous trading day)\n",
    "    \n",
    "    Returns:\n",
    "        str: Updated file path with new trading date\n",
    "    \"\"\"\n",
    "    # Extract date from source path\n",
    "    filename = os.path.basename(target_date_path)\n",
    "    date_str = filename.split('_')[0]  # Gets '2025-04-02' from '2025-04-02_selected_stocks.parquet'\n",
    "    \n",
    "    try:\n",
    "        # Validate date format\n",
    "        datetime.strptime(date_str, '%Y-%m-%d')\n",
    "    except ValueError:\n",
    "        raise ValueError(f\"Source path '{target_date_path}' doesn't contain a valid YYYY-MM-DD date\")\n",
    "    \n",
    "    # Get adjusted trading date\n",
    "    new_date = get_nyse_trading_date(date_str, delta_days)\n",
    "    \n",
    "    # Replace date in path while preserving directory structure and filename parts\n",
    "    dir_path = os.path.dirname(target_date_path)\n",
    "    remaining_parts = '_'.join(filename.split('_')[1:])  # Gets 'selected_stocks.parquet'\n",
    "    new_filename = f\"{new_date}_{remaining_parts}\"\n",
    "    \n",
    "    return os.path.join(dir_path, new_filename)\n"
   ]
  },
  {
   "cell_type": "code",
   "execution_count": 49,
   "metadata": {},
   "outputs": [
    {
     "name": "stdout",
     "output_type": "stream",
     "text": [
      "target_date_path: ..\\picks\\2025-04-02_selected_stocks.parquet\n",
      "previous_trading_day_path: ..\\picks\\2025-04-01_selected_stocks.parquet\n",
      "next_trading_day_path: ..\\picks\\2025-04-03_selected_stocks.parquet\n"
     ]
    }
   ],
   "source": [
    "print(f'target_date_path: {target_date_path}')\n",
    "\n",
    "previous_trading_day_path = update_picks_filepath(target_date_path, -1)\n",
    "print(f\"previous_trading_day_path: {previous_trading_day_path}\")\n",
    "# Output: ..\\picks\\2025-04-01_selected_stocks.parquet (assuming 04-01 was the previous trading day)\n",
    "\n",
    "# You can also use positive deltas\n",
    "next_trading_day_path = update_picks_filepath(target_date_path, 1)\n",
    "print(f\"next_trading_day_path: {next_trading_day_path}\")"
   ]
  },
  {
   "cell_type": "code",
   "execution_count": 50,
   "metadata": {},
   "outputs": [
    {
     "name": "stdout",
     "output_type": "stream",
     "text": [
      "tickers_target_date: ['PHYS', 'AM', 'IGF', 'GLD', 'IAU', 'OGE', 'ATO', 'NI', 'EXE']\n",
      "tickers_previous_date: ['PHYS', 'COR', 'MCK', 'IAU', 'GLDM', 'EPD', 'OGE', 'ATO']\n"
     ]
    }
   ],
   "source": [
    "tickers_target_date = pd.read_parquet(target_date_path).index.to_list()\n",
    "tickers_previous_date = pd.read_parquet(previous_trading_day_path).index.to_list()\n",
    "\n",
    "print(f'tickers_target_date: {tickers_target_date}')\n",
    "print(f'tickers_previous_date: {tickers_previous_date}')\n"
   ]
  },
  {
   "cell_type": "code",
   "execution_count": null,
   "metadata": {},
   "outputs": [],
   "source": [
    "def compare_tickers(tickers_target_date, tickers_previous_date):\n",
    "    \"\"\"\n",
    "    Compare tickers between target date and previous date.\n",
    "    \n",
    "    Args:\n",
    "        tickers_target_date (list): Tickers on the target date\n",
    "        tickers_previous_date (list): Tickers on the previous date\n",
    "    \n",
    "    Returns:\n",
    "        dict: {\n",
    "            'dropped': list of tickers removed from previous date,\n",
    "            'common': list of tickers present in both dates,\n",
    "            'added': list of tickers added on target date\n",
    "        }\n",
    "    \"\"\"\n",
    "    # Convert to sets for efficient comparison\n",
    "    target_set = set(tickers_target_date)\n",
    "    previous_set = set(tickers_previous_date)\n",
    "    \n",
    "    return {\n",
    "        'dropped': sorted(list(previous_set - target_set)),  # In previous but not in target\n",
    "        'common': sorted(list(target_set & previous_set)),   # In both\n",
    "        'added': sorted(list(target_set - previous_set))     # In target but not in previous\n",
    "    }\n",
    "\n",
    "# # Example usage\n",
    "# tickers_target_date = ['PHYS', 'AM', 'IGF', 'GLD', 'IAU', 'OGE', 'ATO', 'NI', 'EXE']\n",
    "# tickers_previous_date = ['PHYS', 'COR', 'MCK', 'IAU', 'GLDM', 'EPD', 'OGE', 'ATO']\n",
    "\n",
    "# result = compare_tickers(tickers_target_date, tickers_previous_date)\n",
    "\n",
    "# print(\"Dropped tickers:\", result['dropped'])\n",
    "# print(\"Common tickers:\", result['common'])\n",
    "# print(\"Added tickers:\", result['added'])"
   ]
  },
  {
   "cell_type": "code",
   "execution_count": null,
   "metadata": {},
   "outputs": [],
   "source": [
    "def compare_tickers_ordered(tickers_target_date, tickers_previous_date):\n",
    "    \"\"\"\n",
    "    Compare tickers between target date and previous date.\n",
    "    \n",
    "    Args:\n",
    "        tickers_target_date (list): Tickers on the target date\n",
    "        tickers_previous_date (list): Tickers on the previous date\n",
    "    \n",
    "    Returns:\n",
    "        dict: {\n",
    "            'dropped': list of tickers removed from previous date,\n",
    "            'common': list of tickers present in both dates,\n",
    "            'added': list of tickers added on target date\n",
    "        }\n",
    "    \"\"\"    \n",
    "    target_set = set(tickers_target_date)\n",
    "    previous_set = set(tickers_previous_date)\n",
    "    \n",
    "    return {\n",
    "        'dropped': [t for t in tickers_previous_date if t not in target_set],  # In previous but not in target\n",
    "        'common': [t for t in tickers_target_date if t in previous_set],       # In both\n",
    "        'added': [t for t in tickers_target_date if t not in previous_set]     # In target but not in previous\n",
    "    }"
   ]
  },
  {
   "cell_type": "code",
   "execution_count": 55,
   "metadata": {},
   "outputs": [
    {
     "name": "stdout",
     "output_type": "stream",
     "text": [
      "target_date: 2025-04-02\n",
      "\n",
      "tickers_previous_date: ['PHYS', 'COR', 'MCK', 'IAU', 'GLDM', 'EPD', 'OGE', 'ATO']\n",
      "tickers_target_date: ['PHYS', 'AM', 'IGF', 'GLD', 'IAU', 'OGE', 'ATO', 'NI', 'EXE']\n",
      "\n",
      "Dropped tickers: ['COR', 'MCK', 'GLDM', 'EPD']\n",
      "Common tickers: ['PHYS', 'IAU', 'OGE', 'ATO']\n",
      "Added tickers: ['AM', 'IGF', 'GLD', 'NI', 'EXE']\n"
     ]
    }
   ],
   "source": [
    "result = compare_tickers_ordered(tickers_target_date, tickers_previous_date)\n",
    "\n",
    "print(f'target_date: {target_date}')\n",
    "\n",
    "print(f'\\ntickers_previous_date: {tickers_previous_date}')\n",
    "print(f'tickers_target_date: {tickers_target_date}')\n",
    "\n",
    "print(f\"\\nDropped tickers:\", result['dropped'])\n",
    "print(\"Common tickers:\", result['common'])\n",
    "print(\"Added tickers:\", result['added'])"
   ]
  },
  {
   "cell_type": "code",
   "execution_count": 57,
   "metadata": {},
   "outputs": [
    {
     "name": "stdout",
     "output_type": "stream",
     "text": [
      "target_date: 2025-04-02\n"
     ]
    }
   ],
   "source": [
    "target_date = utils.extract_date_from_string(target_date_path)\n",
    "print(f'target_date: {target_date}')"
   ]
  },
  {
   "cell_type": "code",
   "execution_count": null,
   "metadata": {},
   "outputs": [],
   "source": [
    "_df = pd.read_parquet(target_date_path)\n",
    "_df = _df[\"Weight\"]\n",
    "print((f'_df {type(_df)}: {_df}'))\n",
    "_df.info()"
   ]
  },
  {
   "cell_type": "code",
   "execution_count": 62,
   "metadata": {},
   "outputs": [
    {
     "name": "stdout",
     "output_type": "stream",
     "text": [
      "                           Tickers               Weights\n",
      "2025-01-01        [SPY, GLD, NVDA]       [0.5, 0.3, 0.2]\n",
      "2025-01-08  [SPY, GLD, NVDA, AAPL]  [0.4, 0.3, 0.2, 0.1]\n"
     ]
    }
   ],
   "source": [
    "import pandas as pd\n",
    "from datetime import datetime\n",
    "\n",
    "# Sample data\n",
    "data = {\n",
    "    '2025-01-01': {\n",
    "        'Tickers': ['SPY', 'GLD', 'NVDA'],\n",
    "        'Weights': [0.5, 0.3, 0.2]\n",
    "    },\n",
    "    # You can add more dates here\n",
    "    '2025-01-08': {\n",
    "        'Tickers': ['SPY', 'GLD', 'NVDA', 'AAPL'],\n",
    "        'Weights': [0.4, 0.3, 0.2, 0.1]\n",
    "    }\n",
    "}\n",
    "\n",
    "# Create DataFrame\n",
    "df = pd.DataFrame.from_dict(data, orient='index')\n",
    "\n",
    "# Convert index to datetime\n",
    "df.index = pd.to_datetime(df.index)\n",
    "\n",
    "# Display the DataFrame\n",
    "print(df)"
   ]
  },
  {
   "cell_type": "code",
   "execution_count": 67,
   "metadata": {},
   "outputs": [],
   "source": [
    "# Adding a new date entry\n",
    "new_date = '2025-01-15'\n",
    "df.loc[pd.to_datetime(new_date)] = {\n",
    "    'Tickers': ['SPY', 'MSFT', 'TSLA', 'APPL'],\n",
    "    'Weights': [0.6, 0.2, 0.1, 0.1]\n",
    "}"
   ]
  },
  {
   "cell_type": "code",
   "execution_count": 68,
   "metadata": {},
   "outputs": [
    {
     "data": {
      "text/html": [
       "<div>\n",
       "<style scoped>\n",
       "    .dataframe tbody tr th:only-of-type {\n",
       "        vertical-align: middle;\n",
       "    }\n",
       "\n",
       "    .dataframe tbody tr th {\n",
       "        vertical-align: top;\n",
       "    }\n",
       "\n",
       "    .dataframe thead th {\n",
       "        text-align: right;\n",
       "    }\n",
       "</style>\n",
       "<table border=\"1\" class=\"dataframe\">\n",
       "  <thead>\n",
       "    <tr style=\"text-align: right;\">\n",
       "      <th></th>\n",
       "      <th>Tickers</th>\n",
       "      <th>Weights</th>\n",
       "    </tr>\n",
       "  </thead>\n",
       "  <tbody>\n",
       "    <tr>\n",
       "      <th>2025-01-01</th>\n",
       "      <td>[SPY, GLD, NVDA]</td>\n",
       "      <td>[0.5, 0.3, 0.2]</td>\n",
       "    </tr>\n",
       "    <tr>\n",
       "      <th>2025-01-08</th>\n",
       "      <td>[SPY, GLD, NVDA, AAPL]</td>\n",
       "      <td>[0.4, 0.3, 0.2, 0.1]</td>\n",
       "    </tr>\n",
       "    <tr>\n",
       "      <th>2025-01-15</th>\n",
       "      <td>[SPY, MSFT, TSLA, APPL]</td>\n",
       "      <td>[0.6, 0.2, 0.1, 0.1]</td>\n",
       "    </tr>\n",
       "  </tbody>\n",
       "</table>\n",
       "</div>"
      ],
      "text/plain": [
       "                            Tickers               Weights\n",
       "2025-01-01         [SPY, GLD, NVDA]       [0.5, 0.3, 0.2]\n",
       "2025-01-08   [SPY, GLD, NVDA, AAPL]  [0.4, 0.3, 0.2, 0.1]\n",
       "2025-01-15  [SPY, MSFT, TSLA, APPL]  [0.6, 0.2, 0.1, 0.1]"
      ]
     },
     "execution_count": 68,
     "metadata": {},
     "output_type": "execute_result"
    }
   ],
   "source": [
    "df"
   ]
  },
  {
   "cell_type": "code",
   "execution_count": null,
   "metadata": {},
   "outputs": [],
   "source": [
    "def calculate_daily_return(row, daily_returns_data):\n",
    "    tickers = row['Tickers']\n",
    "    weights = row['Weights']\n",
    "    date = row.name  # index is the date\n",
    "    \n",
    "    # Get returns for each ticker on this date\n",
    "    ticker_returns = [daily_returns_data.loc[date, t] for t in tickers]\n",
    "    \n",
    "    # Calculate weighted return\n",
    "    return sum(r*w for r, w in zip(ticker_returns, weights))\n",
    "\n",
    "# Apply to each row\n",
    "df['Daily_Return'] = df.apply(calculate_daily_return, axis=1, args=(daily_returns_data,))"
   ]
  },
  {
   "cell_type": "code",
   "execution_count": 70,
   "metadata": {},
   "outputs": [
    {
     "name": "stdout",
     "output_type": "stream",
     "text": [
      "=== Sample Daily Returns Data (First 5 Days) ===\n",
      "               SPY     GLD    NVDA    AAPL    MSFT    TSLA\n",
      "2025-01-01 -0.0050  0.0180  0.0093  0.0039 -0.0138 -0.0138\n",
      "2025-01-02 -0.0177  0.0146  0.0040  0.0083 -0.0192  0.0188\n",
      "2025-01-03  0.0133 -0.0115 -0.0127 -0.0127 -0.0078  0.0010\n",
      "2025-01-04 -0.0027 -0.0084  0.0045 -0.0144 -0.0083 -0.0053\n",
      "2025-01-05 -0.0018  0.0114 -0.0120  0.0006  0.0037 -0.0181\n",
      "\n",
      "=== Portfolio Holdings and Performance ===\n",
      "                           Tickers               Weights  Daily_Return  \\\n",
      "2025-01-01        [SPY, GLD, NVDA]       [0.5, 0.3, 0.2]       0.00476   \n",
      "2025-01-08  [SPY, GLD, NVDA, AAPL]  [0.4, 0.3, 0.2, 0.1]      -0.00379   \n",
      "2025-01-15       [SPY, MSFT, TSLA]       [0.6, 0.2, 0.2]      -0.00168   \n",
      "\n",
      "            Cumulative_Return  \n",
      "2025-01-01           0.004760  \n",
      "2025-01-08           0.000952  \n",
      "2025-01-15          -0.000730  \n"
     ]
    },
    {
     "name": "stderr",
     "output_type": "stream",
     "text": [
      "C:\\Users\\ping\\AppData\\Local\\Temp\\ipykernel_648\\3791281266.py:36: FutureWarning: DataFrame.applymap has been deprecated. Use DataFrame.map instead.\n",
      "  daily_returns = daily_returns.applymap(lambda x: round(x, 4))\n"
     ]
    }
   ],
   "source": [
    "import pandas as pd\n",
    "import numpy as np\n",
    "from datetime import datetime, timedelta\n",
    "\n",
    "# Set random seed for reproducibility\n",
    "np.random.seed(42)\n",
    "\n",
    "## 1. Create the portfolio DataFrame with holdings\n",
    "portfolio_data = {\n",
    "    '2025-01-01': {\n",
    "        'Tickers': ['SPY', 'GLD', 'NVDA'],\n",
    "        'Weights': [0.5, 0.3, 0.2]\n",
    "    },\n",
    "    '2025-01-08': {\n",
    "        'Tickers': ['SPY', 'GLD', 'NVDA', 'AAPL'],\n",
    "        'Weights': [0.4, 0.3, 0.2, 0.1]\n",
    "    },\n",
    "    '2025-01-15': {\n",
    "        'Tickers': ['SPY', 'MSFT', 'TSLA'],\n",
    "        'Weights': [0.6, 0.2, 0.2]\n",
    "    }\n",
    "}\n",
    "\n",
    "portfolio_df = pd.DataFrame.from_dict(portfolio_data, orient='index')\n",
    "portfolio_df.index = pd.to_datetime(portfolio_df.index)\n",
    "\n",
    "## 2. Create sample daily returns data for all tickers\n",
    "tickers = ['SPY', 'GLD', 'NVDA', 'AAPL', 'MSFT', 'TSLA']\n",
    "dates = pd.date_range(start='2025-01-01', end='2025-01-20')\n",
    "\n",
    "# Generate random daily returns between -2% and +2%\n",
    "returns_data = np.random.uniform(-0.02, 0.02, size=(len(dates), len(tickers)))\n",
    "daily_returns = pd.DataFrame(returns_data, index=dates, columns=tickers)\n",
    "\n",
    "# Format as percentages for better display\n",
    "daily_returns = daily_returns.applymap(lambda x: round(x, 4))\n",
    "\n",
    "## 3. Calculate portfolio daily returns\n",
    "def calculate_portfolio_return(row):\n",
    "    date = row.name\n",
    "    tickers = row['Tickers']\n",
    "    weights = row['Weights']\n",
    "    \n",
    "    # Get returns for each ticker on this date\n",
    "    try:\n",
    "        daily_rets = [daily_returns.loc[date, t] for t in tickers]\n",
    "    except KeyError:\n",
    "        # If market was closed (no data), return NaN\n",
    "        return np.nan\n",
    "    \n",
    "    # Calculate weighted return\n",
    "    return sum(r*w for r, w in zip(daily_rets, weights))\n",
    "\n",
    "# Apply to each row to get daily returns\n",
    "portfolio_df['Daily_Return'] = portfolio_df.apply(calculate_portfolio_return, axis=1)\n",
    "\n",
    "## 4. Calculate cumulative performance\n",
    "portfolio_df['Cumulative_Return'] = (1 + portfolio_df['Daily_Return']).cumprod() - 1\n",
    "\n",
    "## Display results\n",
    "print(\"=== Sample Daily Returns Data (First 5 Days) ===\")\n",
    "print(daily_returns.head())\n",
    "print(\"\\n=== Portfolio Holdings and Performance ===\")\n",
    "print(portfolio_df)"
   ]
  },
  {
   "cell_type": "code",
   "execution_count": 73,
   "metadata": {},
   "outputs": [
    {
     "name": "stdout",
     "output_type": "stream",
     "text": [
      "=== Sample Daily Returns Data (First 5 Days) ===\n",
      "               SPY     GLD    NVDA    AAPL    MSFT    TSLA\n",
      "2025-01-01  0.0075  0.0039  0.0201  0.0054  0.0039  0.0302\n",
      "2025-01-02 -0.0025  0.0033  0.0162 -0.0028  0.0090  0.0229\n",
      "2025-01-03 -0.0043  0.0019  0.0076 -0.0007  0.0000  0.0175\n",
      "2025-01-06 -0.0076  0.0004  0.0074  0.0007  0.0026  0.0143\n",
      "2025-01-07 -0.0039 -0.0044  0.0142  0.0005  0.0117  0.0060\n",
      "\n",
      "=== Portfolio Performance ===\n",
      "            Portfolio_Return  Cumulative_Return\n",
      "2025-01-01           0.00894           0.008940\n",
      "2025-01-02           0.00298           0.011947\n",
      "2025-01-03          -0.00006           0.011886\n",
      "2025-01-06          -0.00220           0.009660\n",
      "2025-01-07          -0.00043           0.009226\n",
      "2025-01-08          -0.00244           0.006763\n",
      "2025-01-09          -0.00349           0.003250\n",
      "2025-01-10          -0.00208           0.001163\n",
      "2025-01-13          -0.00069           0.000472\n",
      "2025-01-14          -0.00231          -0.001839\n",
      "2025-01-15          -0.00532          -0.007149\n",
      "2025-01-16          -0.00536          -0.012471\n",
      "2025-01-17          -0.00418          -0.016599\n",
      "2025-01-20          -0.00596          -0.022460\n"
     ]
    },
    {
     "data": {
      "image/png": "[encoded data removed]",
      "text/plain": [
       "<Figure size 1200x600 with 1 Axes>"
      ]
     },
     "metadata": {},
     "output_type": "display_data"
    }
   ],
   "source": [
    "import pandas as pd\n",
    "import numpy as np\n",
    "from datetime import datetime, timedelta\n",
    "import matplotlib.pyplot as plt\n",
    "\n",
    "# Set random seed for reproducibility\n",
    "np.random.seed(42)\n",
    "\n",
    "# 1. Create the portfolio DataFrame with holdings\n",
    "portfolio_data = {\n",
    "    '2025-01-01': {\n",
    "        'Tickers': ['SPY', 'GLD', 'NVDA'],\n",
    "        'Weights': [0.5, 0.3, 0.2]\n",
    "    },\n",
    "    '2025-01-08': {\n",
    "        'Tickers': ['SPY', 'GLD', 'NVDA', 'AAPL'],\n",
    "        'Weights': [0.4, 0.3, 0.2, 0.1]\n",
    "    },\n",
    "    '2025-01-15': {\n",
    "        'Tickers': ['SPY', 'MSFT', 'TSLA'],\n",
    "        'Weights': [0.6, 0.2, 0.2]\n",
    "    }\n",
    "}\n",
    "\n",
    "portfolio_df = pd.DataFrame.from_dict(portfolio_data, orient='index')\n",
    "portfolio_df.index = pd.to_datetime(portfolio_df.index)\n",
    "\n",
    "# 2. Create more realistic daily returns data\n",
    "tickers = ['SPY', 'GLD', 'NVDA', 'AAPL', 'MSFT', 'TSLA']\n",
    "all_dates = pd.date_range(start='2025-01-01', end='2025-01-20')\n",
    "\n",
    "# Remove weekends (market closed)\n",
    "business_days = all_dates[all_dates.dayofweek < 5]\n",
    "\n",
    "def generate_returns(dates, assets):\n",
    "    base_vol = 0.015  # 1.5% daily volatility\n",
    "    returns = pd.DataFrame(index=dates, columns=assets)\n",
    "    \n",
    "    for asset in assets:\n",
    "        # Random walk with some serial correlation\n",
    "        shocks = np.random.normal(0, base_vol, len(dates))\n",
    "        for i in range(1, len(dates)):\n",
    "            shocks[i] = 0.7*shocks[i-1] + 0.3*np.random.normal(0, base_vol)\n",
    "        \n",
    "        # Add some asset-specific characteristics\n",
    "        if asset == 'GLD':\n",
    "            shocks *= 0.7  # Gold is less volatile\n",
    "        elif asset in ['NVDA', 'TSLA']:\n",
    "            shocks *= 1.3  # Tech stocks more volatile\n",
    "            \n",
    "        returns[asset] = shocks\n",
    "        \n",
    "    return returns.round(4)\n",
    "\n",
    "daily_returns = generate_returns(business_days, tickers)\n",
    "\n",
    "# 3. Calculate portfolio daily returns for ALL days\n",
    "performance_df = pd.DataFrame(index=business_days)\n",
    "performance_df['Portfolio_Return'] = np.nan\n",
    "\n",
    "# Forward fill the holdings between rebalance dates\n",
    "current_holdings = None\n",
    "current_weights = None\n",
    "\n",
    "for date in business_days:\n",
    "    try:\n",
    "        if date in portfolio_df.index:\n",
    "            # Update holdings on rebalance dates\n",
    "            current_holdings = portfolio_df.loc[date, 'Tickers']\n",
    "            current_weights = portfolio_df.loc[date, 'Weights']\n",
    "        \n",
    "        if current_holdings is not None:\n",
    "            # Get returns for current holdings\n",
    "            day_returns = [daily_returns.loc[date, t] for t in current_holdings]\n",
    "            # Calculate weighted return\n",
    "            performance_df.loc[date, 'Portfolio_Return'] = sum(r*w for r, w in zip(day_returns, current_weights))\n",
    "    except Exception as e:\n",
    "        print(f\"Error processing date {date}: {str(e)}\")\n",
    "        continue\n",
    "\n",
    "# 4. Calculate cumulative performance\n",
    "performance_df['Cumulative_Return'] = (1 + performance_df['Portfolio_Return']).cumprod() - 1\n",
    "\n",
    "# 5. Merge with original portfolio data\n",
    "full_df = pd.merge(portfolio_df, performance_df, left_index=True, right_index=True, how='outer')\n",
    "\n",
    "# Display results\n",
    "print(\"=== Sample Daily Returns Data (First 5 Days) ===\")\n",
    "print(daily_returns.head())\n",
    "print(\"\\n=== Portfolio Performance ===\")\n",
    "print(performance_df[['Portfolio_Return', 'Cumulative_Return']].dropna())\n",
    "\n",
    "# Visualization\n",
    "plt.figure(figsize=(12, 6))\n",
    "plt.plot(performance_df.index, performance_df['Cumulative_Return'], label='Portfolio')\n",
    "plt.title('Portfolio Cumulative Returns')\n",
    "plt.ylabel('Return')\n",
    "plt.xlabel('Date')\n",
    "plt.grid(True)\n",
    "plt.axhline(0, color='black', linestyle='--')\n",
    "plt.legend()\n",
    "plt.show()"
   ]
  }
 ],
 "metadata": {
  "kernelspec": {
   "display_name": ".venv",
   "language": "python",
   "name": "python3"
  },
  "language_info": {
   "codemirror_mode": {
    "name": "ipython",
    "version": 3
   },
   "file_extension": ".py",
   "mimetype": "text/x-python",
   "name": "python",
   "nbconvert_exporter": "python",
   "pygments_lexer": "ipython3",
   "version": "3.11.9"
  }
 },
 "nbformat": 4,
 "nbformat_minor": 2
}
