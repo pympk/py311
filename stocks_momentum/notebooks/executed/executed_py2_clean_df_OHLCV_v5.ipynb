{
 "cells": [
  {
   "cell_type": "code",
   "execution_count": null,
   "metadata": {},
   "outputs": [],
   "source": []
  },
  {
   "cell_type": "code",
   "execution_count": 1,
   "metadata": {
    "execution": {
     "iopub.execute_input": "2025-04-23T23:40:39.351559Z",
     "iopub.status.busy": "2025-04-23T23:40:39.350559Z",
     "iopub.status.idle": "2025-04-23T23:40:40.142039Z",
     "shell.execute_reply": "2025-04-23T23:40:40.141033Z"
    }
   },
   "outputs": [],
   "source": [
    "import pandas as pd\n",
    "\n",
    "# Set pandas display options to show more columns and rows\n",
    "pd.set_option('display.max_columns', None)  # Show all columns\n",
    "# pd.set_option('display.max_rows', 10)       # Limit to 10 rows for readability\n",
    "pd.set_option('display.width', None)        # Let the display adjust to the window\n",
    "\n",
    "# 2. Set the display width (optional but often helpful)\n",
    "#    'None' tries to detect terminal width. \n",
    "#    A large number (e.g., 1000) ensures no wrapping unless absolutely necessary.\n",
    "pd.set_option('display.width', 1000) "
   ]
  },
  {
   "cell_type": "code",
   "execution_count": 2,
   "metadata": {
    "execution": {
     "iopub.execute_input": "2025-04-23T23:40:40.145038Z",
     "iopub.status.busy": "2025-04-23T23:40:40.145038Z",
     "iopub.status.idle": "2025-04-23T23:40:40.154324Z",
     "shell.execute_reply": "2025-04-23T23:40:40.153315Z"
    }
   },
   "outputs": [
    {
     "name": "stdout",
     "output_type": "stream",
     "text": [
      "date_str: 2025-04-23\n",
      "DOWNLOAD_DIR: C:\\Users\\ping\\Downloads\n",
      "DEST_DIR: ..\\data\n",
      "\n",
      "source_path: C:\\Users\\ping\\Downloads\\df_OHLCV_2025-04-23.parquet\n",
      "dest_path: ..\\data\\2025-04-23_df_OHLCV_clean.parquet\n"
     ]
    }
   ],
   "source": [
    "# process_files.py\n",
    "from config import date_str, DOWNLOAD_DIR, DEST_DIR\n",
    "from pathlib import Path  # Better path handling\n",
    "\n",
    "print(f\"date_str: {date_str}\")\n",
    "print(f\"DOWNLOAD_DIR: {DOWNLOAD_DIR}\")\n",
    "print(f\"DEST_DIR: {DEST_DIR}\\n\")\n",
    "\n",
    "# Build paths\n",
    "source_path = Path(DOWNLOAD_DIR) / f'df_OHLCV_{date_str}.parquet'\n",
    "dest_path = Path(DEST_DIR) / f'{date_str}_df_OHLCV_clean.parquet'\n",
    "\n",
    "print(f\"source_path: {source_path}\")\n",
    "print(f\"dest_path: {dest_path}\")"
   ]
  },
  {
   "cell_type": "code",
   "execution_count": 3,
   "metadata": {
    "execution": {
     "iopub.execute_input": "2025-04-23T23:40:40.217326Z",
     "iopub.status.busy": "2025-04-23T23:40:40.217326Z",
     "iopub.status.idle": "2025-04-23T23:40:40.484474Z",
     "shell.execute_reply": "2025-04-23T23:40:40.483473Z"
    }
   },
   "outputs": [
    {
     "name": "stdout",
     "output_type": "stream",
     "text": [
      "[Raw Data Overview]\n"
     ]
    },
    {
     "data": {
      "text/html": [
       "<div>\n",
       "<style scoped>\n",
       "    .dataframe tbody tr th:only-of-type {\n",
       "        vertical-align: middle;\n",
       "    }\n",
       "\n",
       "    .dataframe tbody tr th {\n",
       "        vertical-align: top;\n",
       "    }\n",
       "\n",
       "    .dataframe thead th {\n",
       "        text-align: right;\n",
       "    }\n",
       "</style>\n",
       "<table border=\"1\" class=\"dataframe\">\n",
       "  <thead>\n",
       "    <tr style=\"text-align: right;\">\n",
       "      <th></th>\n",
       "      <th></th>\n",
       "      <th>Open</th>\n",
       "      <th>High</th>\n",
       "      <th>Low</th>\n",
       "      <th>Close</th>\n",
       "      <th>Adj Close</th>\n",
       "      <th>Volume</th>\n",
       "      <th>Adj Open</th>\n",
       "      <th>Adj High</th>\n",
       "      <th>Adj Low</th>\n",
       "    </tr>\n",
       "    <tr>\n",
       "      <th>Symbol</th>\n",
       "      <th>Date</th>\n",
       "      <th></th>\n",
       "      <th></th>\n",
       "      <th></th>\n",
       "      <th></th>\n",
       "      <th></th>\n",
       "      <th></th>\n",
       "      <th></th>\n",
       "      <th></th>\n",
       "      <th></th>\n",
       "    </tr>\n",
       "  </thead>\n",
       "  <tbody>\n",
       "    <tr>\n",
       "      <th rowspan=\"5\" valign=\"top\">RY</th>\n",
       "      <th>2025-04-23</th>\n",
       "      <td>119.27</td>\n",
       "      <td>119.86</td>\n",
       "      <td>117.42</td>\n",
       "      <td>117.79</td>\n",
       "      <td>117.79</td>\n",
       "      <td>976958</td>\n",
       "      <td>119.27</td>\n",
       "      <td>119.86</td>\n",
       "      <td>117.42</td>\n",
       "    </tr>\n",
       "    <tr>\n",
       "      <th>2025-04-22</th>\n",
       "      <td>115.82</td>\n",
       "      <td>117.97</td>\n",
       "      <td>115.41</td>\n",
       "      <td>117.97</td>\n",
       "      <td>117.97</td>\n",
       "      <td>5486100</td>\n",
       "      <td>115.82</td>\n",
       "      <td>117.97</td>\n",
       "      <td>115.41</td>\n",
       "    </tr>\n",
       "    <tr>\n",
       "      <th>2025-04-21</th>\n",
       "      <td>116.00</td>\n",
       "      <td>116.60</td>\n",
       "      <td>114.63</td>\n",
       "      <td>115.21</td>\n",
       "      <td>115.21</td>\n",
       "      <td>600100</td>\n",
       "      <td>116.00</td>\n",
       "      <td>116.60</td>\n",
       "      <td>114.63</td>\n",
       "    </tr>\n",
       "    <tr>\n",
       "      <th>2025-04-17</th>\n",
       "      <td>115.53</td>\n",
       "      <td>116.71</td>\n",
       "      <td>115.45</td>\n",
       "      <td>116.24</td>\n",
       "      <td>116.24</td>\n",
       "      <td>1090900</td>\n",
       "      <td>115.53</td>\n",
       "      <td>116.71</td>\n",
       "      <td>115.45</td>\n",
       "    </tr>\n",
       "    <tr>\n",
       "      <th>2025-04-16</th>\n",
       "      <td>115.21</td>\n",
       "      <td>116.24</td>\n",
       "      <td>114.25</td>\n",
       "      <td>115.62</td>\n",
       "      <td>115.62</td>\n",
       "      <td>935000</td>\n",
       "      <td>115.21</td>\n",
       "      <td>116.24</td>\n",
       "      <td>114.25</td>\n",
       "    </tr>\n",
       "  </tbody>\n",
       "</table>\n",
       "</div>"
      ],
      "text/plain": [
       "                     Open    High     Low   Close  Adj Close   Volume  Adj Open  Adj High  Adj Low\n",
       "Symbol Date                                                                                       \n",
       "RY     2025-04-23  119.27  119.86  117.42  117.79     117.79   976958    119.27    119.86   117.42\n",
       "       2025-04-22  115.82  117.97  115.41  117.97     117.97  5486100    115.82    117.97   115.41\n",
       "       2025-04-21  116.00  116.60  114.63  115.21     115.21   600100    116.00    116.60   114.63\n",
       "       2025-04-17  115.53  116.71  115.45  116.24     116.24  1090900    115.53    116.71   115.45\n",
       "       2025-04-16  115.21  116.24  114.25  115.62     115.62   935000    115.21    116.24   114.25"
      ]
     },
     "metadata": {},
     "output_type": "display_data"
    },
    {
     "name": "stdout",
     "output_type": "stream",
     "text": [
      "<class 'pandas.core.frame.DataFrame'>\n",
      "MultiIndex: 387583 entries, ('RY', Timestamp('2025-04-23 00:00:00')) to ('TPR', Timestamp('2024-04-24 00:00:00'))\n",
      "Data columns (total 9 columns):\n",
      " #   Column     Non-Null Count   Dtype  \n",
      "---  ------     --------------   -----  \n",
      " 0   Open       387583 non-null  float64\n",
      " 1   High       387583 non-null  float64\n",
      " 2   Low        387583 non-null  float64\n",
      " 3   Close      387583 non-null  float64\n",
      " 4   Adj Close  387583 non-null  float64\n",
      " 5   Volume     387569 non-null  Int64  \n",
      " 6   Adj Open   387583 non-null  float64\n",
      " 7   Adj High   387583 non-null  float64\n",
      " 8   Adj Low    387583 non-null  float64\n",
      "dtypes: Int64(1), float64(8)\n",
      "memory usage: 28.5+ MB\n"
     ]
    }
   ],
   "source": [
    "# --- Data Loading & Initial Inspection ---\n",
    "import pandas as pd\n",
    "\n",
    "# # Load raw data from pickle file\n",
    "# df = pd.read_pickle(source_path)\n",
    "\n",
    "df = pd.read_parquet(source_path, engine='pyarrow')\n",
    "\n",
    "# Display initial data structure\n",
    "print(\"[Raw Data Overview]\")\n",
    "display(df.head())\n",
    "df.info()"
   ]
  },
  {
   "cell_type": "code",
   "execution_count": 4,
   "metadata": {
    "execution": {
     "iopub.execute_input": "2025-04-23T23:40:40.490467Z",
     "iopub.status.busy": "2025-04-23T23:40:40.489468Z",
     "iopub.status.idle": "2025-04-23T23:40:47.593387Z",
     "shell.execute_reply": "2025-04-23T23:40:47.592394Z"
    }
   },
   "outputs": [
    {
     "name": "stdout",
     "output_type": "stream",
     "text": [
      "Original number of symbols: 1557\n",
      "Number of symbols after filtering: 1540\n",
      "Number of symbols filtered out: 17\n",
      "\n",
      "First 10 symbols that were filtered out:\n",
      "['LTM', 'SARO', 'VIK', 'TEM', 'VG', 'LOAR', 'RBRK', 'SAIL', 'WAY', 'TTAN']\n",
      "\n",
      "Example of dates for first filtered out symbol:\n",
      "\n",
      "Dates for LTM:\n",
      "DatetimeIndex(['2025-04-23', '2025-04-22', '2025-04-21', '2025-04-17', '2025-04-16', '2025-04-15', '2025-04-14', '2025-04-11', '2025-04-10', '2025-04-09',\n",
      "               ...\n",
      "               '2024-08-07', '2024-08-06', '2024-08-05', '2024-08-02', '2024-08-01', '2024-07-31', '2024-07-30', '2024-07-29', '2024-07-26', '2024-07-25'], dtype='datetime64[ns]', name='Date', length=187, freq=None)\n",
      "\n",
      "Filtered DataFrame info:\n",
      "<class 'pandas.core.frame.DataFrame'>\n",
      "MultiIndex: 385000 entries, ('RY', Timestamp('2025-04-23 00:00:00')) to ('TPR', Timestamp('2024-04-24 00:00:00'))\n",
      "Data columns (total 9 columns):\n",
      " #   Column     Non-Null Count   Dtype  \n",
      "---  ------     --------------   -----  \n",
      " 0   Open       385000 non-null  float64\n",
      " 1   High       385000 non-null  float64\n",
      " 2   Low        385000 non-null  float64\n",
      " 3   Close      385000 non-null  float64\n",
      " 4   Adj Close  385000 non-null  float64\n",
      " 5   Volume     384990 non-null  Int64  \n",
      " 6   Adj Open   385000 non-null  float64\n",
      " 7   Adj High   385000 non-null  float64\n",
      " 8   Adj Low    385000 non-null  float64\n",
      "dtypes: Int64(1), float64(8)\n",
      "memory usage: 28.3+ MB\n",
      "None\n"
     ]
    },
    {
     "name": "stdout",
     "output_type": "stream",
     "text": [
      "\n",
      "[Cleaning Report]\n",
      "Removed 3 symbols with missing data: ['FSEC', 'BULL', 'FER']\n",
      "\n",
      "[Cleaned Data Structure]\n",
      "<class 'pandas.core.frame.DataFrame'>\n",
      "MultiIndex: 384250 entries, ('RY', Timestamp('2025-04-23 00:00:00')) to ('TPR', Timestamp('2024-04-24 00:00:00'))\n",
      "Data columns (total 9 columns):\n",
      " #   Column     Non-Null Count   Dtype  \n",
      "---  ------     --------------   -----  \n",
      " 0   Open       384250 non-null  float64\n",
      " 1   High       384250 non-null  float64\n",
      " 2   Low        384250 non-null  float64\n",
      " 3   Close      384250 non-null  float64\n",
      " 4   Adj Close  384250 non-null  float64\n",
      " 5   Volume     384250 non-null  Int64  \n",
      " 6   Adj Open   384250 non-null  float64\n",
      " 7   Adj High   384250 non-null  float64\n",
      " 8   Adj Low    384250 non-null  float64\n",
      "dtypes: Int64(1), float64(8)\n",
      "memory usage: 28.3+ MB\n"
     ]
    }
   ],
   "source": [
    "import sys\n",
    "from pathlib import Path\n",
    "\n",
    "# Notebook cell\n",
    "%load_ext autoreload\n",
    "%autoreload 2\n",
    "\n",
    "# Get root directory (assuming notebook is in root/notebooks/)\n",
    "NOTEBOOK_DIR = Path.cwd()\n",
    "ROOT_DIR = NOTEBOOK_DIR.parent if NOTEBOOK_DIR.name == 'notebooks' else NOTEBOOK_DIR\n",
    "\n",
    "# Add src directory to Python path\n",
    "sys.path.append(str(ROOT_DIR / 'src'))\n",
    "\n",
    "\n",
    "# --- Data Filtering & Cleaning ---\n",
    "import utils  # Custom utility functions\n",
    "\n",
    "# 1. Align dates across all symbols using SPY as reference\n",
    "df = utils.filter_df_dates_to_reference_symbol(df=df, reference_symbol='SPY')\n",
    "\n",
    "# 2. Remove symbols with missing data points\n",
    "df_clean, missing_symbols = utils.filter_symbols_with_missing_values(df)\n",
    "\n",
    "# Display cleaning results\n",
    "print(\"\\n[Cleaning Report]\")\n",
    "print(f\"Removed {len(missing_symbols)} symbols with missing data: {missing_symbols}\")\n",
    "print(\"\\n[Cleaned Data Structure]\")\n",
    "df_clean.info()"
   ]
  },
  {
   "cell_type": "code",
   "execution_count": 5,
   "metadata": {
    "execution": {
     "iopub.execute_input": "2025-04-23T23:40:47.596382Z",
     "iopub.status.busy": "2025-04-23T23:40:47.596382Z",
     "iopub.status.idle": "2025-04-23T23:40:48.136034Z",
     "shell.execute_reply": "2025-04-23T23:40:48.135025Z"
    }
   },
   "outputs": [
    {
     "name": "stdout",
     "output_type": "stream",
     "text": [
      "\n",
      "[Save Successful] Cleaned data saved to:\n",
      "..\\data\\2025-04-23_df_OHLCV_clean.parquet\n"
     ]
    }
   ],
   "source": [
    "# --- Save Cleaned Data ---\n",
    "# # Save processed data to pickle file\n",
    "# df_clean.to_pickle(dest_path)\n",
    "\n",
    "# Using PyArrow (default, recommended for most cases)\n",
    "df_clean.to_parquet(dest_path, engine='pyarrow', compression='zstd')\n",
    "print(f\"\\n[Save Successful] Cleaned data saved to:\\n{dest_path}\")\n",
    "\n"
   ]
  }
 ],
 "metadata": {
  "kernelspec": {
   "display_name": ".venv",
   "language": "python",
   "name": "python3"
  },
  "language_info": {
   "codemirror_mode": {
    "name": "ipython",
    "version": 3
   },
   "file_extension": ".py",
   "mimetype": "text/x-python",
   "name": "python",
   "nbconvert_exporter": "python",
   "pygments_lexer": "ipython3",
   "version": "3.11.9"
  }
 },
 "nbformat": 4,
 "nbformat_minor": 2
}
