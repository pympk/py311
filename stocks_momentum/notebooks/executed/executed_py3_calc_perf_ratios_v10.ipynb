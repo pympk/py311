{
 "cells": [
  {
   "cell_type": "code",
   "execution_count": null,
   "metadata": {},
   "outputs": [],
   "source": []
  },
  {
   "cell_type": "code",
   "execution_count": 1,
   "metadata": {
    "execution": {
     "iopub.execute_input": "2025-04-23T23:40:55.817976Z",
     "iopub.status.busy": "2025-04-23T23:40:55.816977Z",
     "iopub.status.idle": "2025-04-23T23:40:55.827464Z",
     "shell.execute_reply": "2025-04-23T23:40:55.826476Z"
    }
   },
   "outputs": [],
   "source": [
    "# Configuration\n",
    "\n",
    "# days used in calculating ratios\n",
    "DAYS_RATIO = [3, 5, 10, 15, 30, 60, 120, 250]\n",
    "\n",
    "# risk free rate\n",
    "RISK_FREE_RATE = 0.04"
   ]
  },
  {
   "cell_type": "code",
   "execution_count": 2,
   "metadata": {
    "execution": {
     "iopub.execute_input": "2025-04-23T23:40:55.830981Z",
     "iopub.status.busy": "2025-04-23T23:40:55.830467Z",
     "iopub.status.idle": "2025-04-23T23:40:56.605109Z",
     "shell.execute_reply": "2025-04-23T23:40:56.604100Z"
    }
   },
   "outputs": [],
   "source": [
    "import pandas as pd\n",
    "\n",
    "# Set pandas display options to show more columns and rows\n",
    "pd.set_option('display.max_columns', None)  # Show all columns\n",
    "# pd.set_option('display.max_rows', 10)       # Limit to 10 rows for readability\n",
    "pd.set_option('display.width', None)        # Let the display adjust to the window\n",
    "\n",
    "# 2. Set the display width (optional but often helpful)\n",
    "#    'None' tries to detect terminal width. \n",
    "#    A large number (e.g., 1000) ensures no wrapping unless absolutely necessary.\n",
    "pd.set_option('display.width', 1000) "
   ]
  },
  {
   "cell_type": "code",
   "execution_count": 3,
   "metadata": {
    "execution": {
     "iopub.execute_input": "2025-04-23T23:40:56.609115Z",
     "iopub.status.busy": "2025-04-23T23:40:56.608115Z",
     "iopub.status.idle": "2025-04-23T23:40:56.618589Z",
     "shell.execute_reply": "2025-04-23T23:40:56.617579Z"
    }
   },
   "outputs": [
    {
     "name": "stdout",
     "output_type": "stream",
     "text": [
      "date_str: 2025-04-23\n",
      "DEST_DIR: ..\\data\n",
      "\n",
      "source_path: ..\\data\\2025-04-23_df_OHLCV_clean.parquet\n",
      "dest_path: ..\\data\\2025-04-23_df_perf_ratios.parquet\n"
     ]
    }
   ],
   "source": [
    "# process_files.py\n",
    "from config import date_str, DOWNLOAD_DIR, DEST_DIR\n",
    "from pathlib import Path  # Better path handling\n",
    "\n",
    "print(f\"date_str: {date_str}\")\n",
    "# print(f\"DOWNLOAD_DIR: {DOWNLOAD_DIR}\")\n",
    "print(f\"DEST_DIR: {DEST_DIR}\\n\")\n",
    "\n",
    "# Build paths\n",
    "source_path = Path(DEST_DIR) / f'{date_str}_df_OHLCV_clean.parquet'\n",
    "dest_path = Path(DEST_DIR) / f'{date_str}_df_perf_ratios.parquet'\n",
    "\n",
    "print(f\"source_path: {source_path}\")\n",
    "print(f\"dest_path: {dest_path}\")"
   ]
  },
  {
   "cell_type": "code",
   "execution_count": 4,
   "metadata": {
    "execution": {
     "iopub.execute_input": "2025-04-23T23:40:56.666589Z",
     "iopub.status.busy": "2025-04-23T23:40:56.665589Z",
     "iopub.status.idle": "2025-04-23T23:40:56.725596Z",
     "shell.execute_reply": "2025-04-23T23:40:56.724587Z"
    }
   },
   "outputs": [],
   "source": [
    "import pandas as pd\n",
    "\n",
    "# Get tickers from df_finviz.pkl file\n",
    "df_finviz = pd.read_parquet(f'..\\data\\{date_str}_df_finviz.parquet')\n",
    "tickers = df_finviz.index.to_list()"
   ]
  },
  {
   "cell_type": "code",
   "execution_count": 5,
   "metadata": {
    "execution": {
     "iopub.execute_input": "2025-04-23T23:40:56.729596Z",
     "iopub.status.busy": "2025-04-23T23:40:56.729596Z",
     "iopub.status.idle": "2025-04-23T23:40:56.882058Z",
     "shell.execute_reply": "2025-04-23T23:40:56.881050Z"
    }
   },
   "outputs": [
    {
     "data": {
      "text/html": [
       "<div>\n",
       "<style scoped>\n",
       "    .dataframe tbody tr th:only-of-type {\n",
       "        vertical-align: middle;\n",
       "    }\n",
       "\n",
       "    .dataframe tbody tr th {\n",
       "        vertical-align: top;\n",
       "    }\n",
       "\n",
       "    .dataframe thead th {\n",
       "        text-align: right;\n",
       "    }\n",
       "</style>\n",
       "<table border=\"1\" class=\"dataframe\">\n",
       "  <thead>\n",
       "    <tr style=\"text-align: right;\">\n",
       "      <th></th>\n",
       "      <th></th>\n",
       "      <th>Open</th>\n",
       "      <th>High</th>\n",
       "      <th>Low</th>\n",
       "      <th>Close</th>\n",
       "      <th>Adj Close</th>\n",
       "      <th>Volume</th>\n",
       "      <th>Adj Open</th>\n",
       "      <th>Adj High</th>\n",
       "      <th>Adj Low</th>\n",
       "    </tr>\n",
       "    <tr>\n",
       "      <th>Symbol</th>\n",
       "      <th>Date</th>\n",
       "      <th></th>\n",
       "      <th></th>\n",
       "      <th></th>\n",
       "      <th></th>\n",
       "      <th></th>\n",
       "      <th></th>\n",
       "      <th></th>\n",
       "      <th></th>\n",
       "      <th></th>\n",
       "    </tr>\n",
       "  </thead>\n",
       "  <tbody>\n",
       "    <tr>\n",
       "      <th rowspan=\"5\" valign=\"top\">RY</th>\n",
       "      <th>2025-04-23</th>\n",
       "      <td>119.27</td>\n",
       "      <td>119.86</td>\n",
       "      <td>117.42</td>\n",
       "      <td>117.79</td>\n",
       "      <td>117.79</td>\n",
       "      <td>976958</td>\n",
       "      <td>119.270000</td>\n",
       "      <td>119.860000</td>\n",
       "      <td>117.420000</td>\n",
       "    </tr>\n",
       "    <tr>\n",
       "      <th>2025-04-22</th>\n",
       "      <td>115.82</td>\n",
       "      <td>117.97</td>\n",
       "      <td>115.41</td>\n",
       "      <td>117.97</td>\n",
       "      <td>117.97</td>\n",
       "      <td>5486100</td>\n",
       "      <td>115.820000</td>\n",
       "      <td>117.970000</td>\n",
       "      <td>115.410000</td>\n",
       "    </tr>\n",
       "    <tr>\n",
       "      <th>2025-04-21</th>\n",
       "      <td>116.00</td>\n",
       "      <td>116.60</td>\n",
       "      <td>114.63</td>\n",
       "      <td>115.21</td>\n",
       "      <td>115.21</td>\n",
       "      <td>600100</td>\n",
       "      <td>116.000000</td>\n",
       "      <td>116.600000</td>\n",
       "      <td>114.630000</td>\n",
       "    </tr>\n",
       "    <tr>\n",
       "      <th>2025-04-17</th>\n",
       "      <td>115.53</td>\n",
       "      <td>116.71</td>\n",
       "      <td>115.45</td>\n",
       "      <td>116.24</td>\n",
       "      <td>116.24</td>\n",
       "      <td>1090900</td>\n",
       "      <td>115.530000</td>\n",
       "      <td>116.710000</td>\n",
       "      <td>115.450000</td>\n",
       "    </tr>\n",
       "    <tr>\n",
       "      <th>2025-04-16</th>\n",
       "      <td>115.21</td>\n",
       "      <td>116.24</td>\n",
       "      <td>114.25</td>\n",
       "      <td>115.62</td>\n",
       "      <td>115.62</td>\n",
       "      <td>935000</td>\n",
       "      <td>115.210000</td>\n",
       "      <td>116.240000</td>\n",
       "      <td>114.250000</td>\n",
       "    </tr>\n",
       "    <tr>\n",
       "      <th>...</th>\n",
       "      <th>...</th>\n",
       "      <td>...</td>\n",
       "      <td>...</td>\n",
       "      <td>...</td>\n",
       "      <td>...</td>\n",
       "      <td>...</td>\n",
       "      <td>...</td>\n",
       "      <td>...</td>\n",
       "      <td>...</td>\n",
       "      <td>...</td>\n",
       "    </tr>\n",
       "    <tr>\n",
       "      <th rowspan=\"5\" valign=\"top\">TPR</th>\n",
       "      <th>2024-04-30</th>\n",
       "      <td>40.55</td>\n",
       "      <td>40.74</td>\n",
       "      <td>39.90</td>\n",
       "      <td>39.92</td>\n",
       "      <td>38.88</td>\n",
       "      <td>5029500</td>\n",
       "      <td>39.493587</td>\n",
       "      <td>39.678637</td>\n",
       "      <td>38.860521</td>\n",
       "    </tr>\n",
       "    <tr>\n",
       "      <th>2024-04-29</th>\n",
       "      <td>40.31</td>\n",
       "      <td>41.01</td>\n",
       "      <td>40.18</td>\n",
       "      <td>40.98</td>\n",
       "      <td>39.91</td>\n",
       "      <td>4161300</td>\n",
       "      <td>39.257494</td>\n",
       "      <td>39.939217</td>\n",
       "      <td>39.130888</td>\n",
       "    </tr>\n",
       "    <tr>\n",
       "      <th>2024-04-26</th>\n",
       "      <td>39.54</td>\n",
       "      <td>40.38</td>\n",
       "      <td>39.40</td>\n",
       "      <td>40.05</td>\n",
       "      <td>39.01</td>\n",
       "      <td>3329600</td>\n",
       "      <td>38.513243</td>\n",
       "      <td>39.331431</td>\n",
       "      <td>38.376879</td>\n",
       "    </tr>\n",
       "    <tr>\n",
       "      <th>2024-04-25</th>\n",
       "      <td>39.85</td>\n",
       "      <td>39.91</td>\n",
       "      <td>38.95</td>\n",
       "      <td>39.39</td>\n",
       "      <td>38.36</td>\n",
       "      <td>4311000</td>\n",
       "      <td>38.807972</td>\n",
       "      <td>38.866403</td>\n",
       "      <td>37.931505</td>\n",
       "    </tr>\n",
       "    <tr>\n",
       "      <th>2024-04-24</th>\n",
       "      <td>39.39</td>\n",
       "      <td>40.07</td>\n",
       "      <td>39.03</td>\n",
       "      <td>40.03</td>\n",
       "      <td>38.99</td>\n",
       "      <td>4829300</td>\n",
       "      <td>38.366628</td>\n",
       "      <td>39.028961</td>\n",
       "      <td>38.015981</td>\n",
       "    </tr>\n",
       "  </tbody>\n",
       "</table>\n",
       "<p>384250 rows × 9 columns</p>\n",
       "</div>"
      ],
      "text/plain": [
       "                     Open    High     Low   Close  Adj Close   Volume    Adj Open    Adj High     Adj Low\n",
       "Symbol Date                                                                                              \n",
       "RY     2025-04-23  119.27  119.86  117.42  117.79     117.79   976958  119.270000  119.860000  117.420000\n",
       "       2025-04-22  115.82  117.97  115.41  117.97     117.97  5486100  115.820000  117.970000  115.410000\n",
       "       2025-04-21  116.00  116.60  114.63  115.21     115.21   600100  116.000000  116.600000  114.630000\n",
       "       2025-04-17  115.53  116.71  115.45  116.24     116.24  1090900  115.530000  116.710000  115.450000\n",
       "       2025-04-16  115.21  116.24  114.25  115.62     115.62   935000  115.210000  116.240000  114.250000\n",
       "...                   ...     ...     ...     ...        ...      ...         ...         ...         ...\n",
       "TPR    2024-04-30   40.55   40.74   39.90   39.92      38.88  5029500   39.493587   39.678637   38.860521\n",
       "       2024-04-29   40.31   41.01   40.18   40.98      39.91  4161300   39.257494   39.939217   39.130888\n",
       "       2024-04-26   39.54   40.38   39.40   40.05      39.01  3329600   38.513243   39.331431   38.376879\n",
       "       2024-04-25   39.85   39.91   38.95   39.39      38.36  4311000   38.807972   38.866403   37.931505\n",
       "       2024-04-24   39.39   40.07   39.03   40.03      38.99  4829300   38.366628   39.028961   38.015981\n",
       "\n",
       "[384250 rows x 9 columns]"
      ]
     },
     "metadata": {},
     "output_type": "display_data"
    }
   ],
   "source": [
    "import pandas as pd\n",
    "\n",
    "pd.set_option('display.width', 1000) \n",
    "\n",
    "# Load the DataFrame df_OHLCV_2025-03-14_clean.pkl\n",
    "# df = pd.read_pickle(source_path)\n",
    "df = pd.read_parquet(source_path, engine='pyarrow')\n",
    "\n",
    "# # Display the first few rows of the DataFrame to verify\n",
    "# df = df[['Adj Close']].copy()\n",
    "display(df)"
   ]
  },
  {
   "cell_type": "code",
   "execution_count": 6,
   "metadata": {
    "execution": {
     "iopub.execute_input": "2025-04-23T23:40:56.886058Z",
     "iopub.status.busy": "2025-04-23T23:40:56.885058Z",
     "iopub.status.idle": "2025-04-23T23:40:57.017453Z",
     "shell.execute_reply": "2025-04-23T23:40:57.016443Z"
    }
   },
   "outputs": [
    {
     "data": {
      "text/html": [
       "<div>\n",
       "<style scoped>\n",
       "    .dataframe tbody tr th:only-of-type {\n",
       "        vertical-align: middle;\n",
       "    }\n",
       "\n",
       "    .dataframe tbody tr th {\n",
       "        vertical-align: top;\n",
       "    }\n",
       "\n",
       "    .dataframe thead th {\n",
       "        text-align: right;\n",
       "    }\n",
       "</style>\n",
       "<table border=\"1\" class=\"dataframe\">\n",
       "  <thead>\n",
       "    <tr style=\"text-align: right;\">\n",
       "      <th></th>\n",
       "      <th></th>\n",
       "      <th>Adj Close</th>\n",
       "    </tr>\n",
       "    <tr>\n",
       "      <th>Symbol</th>\n",
       "      <th>Date</th>\n",
       "      <th></th>\n",
       "    </tr>\n",
       "  </thead>\n",
       "  <tbody>\n",
       "    <tr>\n",
       "      <th rowspan=\"5\" valign=\"top\">RY</th>\n",
       "      <th>2025-04-23</th>\n",
       "      <td>117.79</td>\n",
       "    </tr>\n",
       "    <tr>\n",
       "      <th>2025-04-22</th>\n",
       "      <td>117.97</td>\n",
       "    </tr>\n",
       "    <tr>\n",
       "      <th>2025-04-21</th>\n",
       "      <td>115.21</td>\n",
       "    </tr>\n",
       "    <tr>\n",
       "      <th>2025-04-17</th>\n",
       "      <td>116.24</td>\n",
       "    </tr>\n",
       "    <tr>\n",
       "      <th>2025-04-16</th>\n",
       "      <td>115.62</td>\n",
       "    </tr>\n",
       "    <tr>\n",
       "      <th>...</th>\n",
       "      <th>...</th>\n",
       "      <td>...</td>\n",
       "    </tr>\n",
       "    <tr>\n",
       "      <th rowspan=\"5\" valign=\"top\">TPR</th>\n",
       "      <th>2024-04-30</th>\n",
       "      <td>38.88</td>\n",
       "    </tr>\n",
       "    <tr>\n",
       "      <th>2024-04-29</th>\n",
       "      <td>39.91</td>\n",
       "    </tr>\n",
       "    <tr>\n",
       "      <th>2024-04-26</th>\n",
       "      <td>39.01</td>\n",
       "    </tr>\n",
       "    <tr>\n",
       "      <th>2024-04-25</th>\n",
       "      <td>38.36</td>\n",
       "    </tr>\n",
       "    <tr>\n",
       "      <th>2024-04-24</th>\n",
       "      <td>38.99</td>\n",
       "    </tr>\n",
       "  </tbody>\n",
       "</table>\n",
       "<p>384250 rows × 1 columns</p>\n",
       "</div>"
      ],
      "text/plain": [
       "                   Adj Close\n",
       "Symbol Date                 \n",
       "RY     2025-04-23     117.79\n",
       "       2025-04-22     117.97\n",
       "       2025-04-21     115.21\n",
       "       2025-04-17     116.24\n",
       "       2025-04-16     115.62\n",
       "...                      ...\n",
       "TPR    2024-04-30      38.88\n",
       "       2024-04-29      39.91\n",
       "       2024-04-26      39.01\n",
       "       2024-04-25      38.36\n",
       "       2024-04-24      38.99\n",
       "\n",
       "[384250 rows x 1 columns]"
      ]
     },
     "metadata": {},
     "output_type": "display_data"
    }
   ],
   "source": [
    "import pandas as pd\n",
    "\n",
    "# Load the DataFrame df_OHLCV_2025-03-14_clean.pkl\n",
    "# df = pd.read_pickle(source_path)\n",
    "df = pd.read_parquet(source_path, engine='pyarrow')\n",
    "\n",
    "# Display the first few rows of the DataFrame to verify\n",
    "df = df[['Adj Close']].copy()\n",
    "display(df)"
   ]
  },
  {
   "cell_type": "code",
   "execution_count": 7,
   "metadata": {
    "execution": {
     "iopub.execute_input": "2025-04-23T23:40:57.020453Z",
     "iopub.status.busy": "2025-04-23T23:40:57.020453Z",
     "iopub.status.idle": "2025-04-23T23:40:57.049450Z",
     "shell.execute_reply": "2025-04-23T23:40:57.048441Z"
    }
   },
   "outputs": [
    {
     "name": "stdout",
     "output_type": "stream",
     "text": [
      "<class 'pandas.core.frame.DataFrame'>\n",
      "MultiIndex: 384250 entries, ('RY', Timestamp('2025-04-23 00:00:00')) to ('TPR', Timestamp('2024-04-24 00:00:00'))\n",
      "Data columns (total 1 columns):\n",
      " #   Column     Non-Null Count   Dtype  \n",
      "---  ------     --------------   -----  \n",
      " 0   Adj Close  384250 non-null  float64\n",
      "dtypes: float64(1)\n",
      "memory usage: 4.5+ MB\n"
     ]
    }
   ],
   "source": [
    "df.info()"
   ]
  },
  {
   "cell_type": "code",
   "execution_count": 8,
   "metadata": {
    "execution": {
     "iopub.execute_input": "2025-04-23T23:40:57.053449Z",
     "iopub.status.busy": "2025-04-23T23:40:57.053449Z",
     "iopub.status.idle": "2025-04-23T23:41:41.172089Z",
     "shell.execute_reply": "2025-04-23T23:41:41.171080Z"
    }
   },
   "outputs": [
    {
     "name": "stdout",
     "output_type": "stream",
     "text": [
      "                   Adj Close\n",
      "Symbol Date                 \n",
      "AAPL   2025-04-23     204.60\n",
      "       2025-04-22     199.74\n",
      "       2025-04-21     193.16\n",
      "       2025-04-17     196.98\n",
      "       2025-04-16     194.27\n",
      "...                      ...\n",
      "TFI    2024-04-30      44.25\n",
      "       2024-04-29      44.32\n",
      "       2024-04-26      44.24\n",
      "       2024-04-25      44.23\n",
      "       2024-04-24      44.41\n",
      "\n",
      "[384250 rows x 1 columns]\n"
     ]
    }
   ],
   "source": [
    "import pandas as pd\n",
    "\n",
    "def select_tickers_data(df, tickers):\n",
    "  \"\"\"\n",
    "  Selects data for a list of tickers from a DataFrame with a MultiIndex\n",
    "  where the first level is the ticker and the second level is the date.\n",
    "\n",
    "  Args:\n",
    "    df (pd.DataFrame): The input DataFrame with a MultiIndex.\n",
    "    tickers (list): A list of ticker symbols to select.\n",
    "\n",
    "  Returns:\n",
    "    pd.DataFrame: A DataFrame containing only the data for the specified tickers.\n",
    "                  Rows for tickers not found will not be included.\n",
    "  \"\"\"\n",
    "  valid_tickers = [t for t in tickers if t in df.index.get_level_values(0)]  # Filter out the tickers that do not exist\n",
    "\n",
    "  if not valid_tickers:\n",
    "    print(\"No valid tickers found in the DataFrame. Returning an empty DataFrame.\")\n",
    "    return pd.DataFrame()\n",
    "\n",
    "  try:\n",
    "    ticker_df = df.loc[valid_tickers]\n",
    "    return ticker_df\n",
    "  except KeyError as e:\n",
    "    print(f\"KeyError after filtering valid tickers: {e}\") #Added to help debugging.\n",
    "    return pd.DataFrame()\n",
    "\n",
    "\n",
    "# Example usage:\n",
    "# ticker_list = [\"UBS\", \"AAPL\", \"MSFT\", \"GEV\"]  # Include some valid and invalid tickers\n",
    "selected_data = select_tickers_data(df, tickers)\n",
    "print(selected_data)"
   ]
  },
  {
   "cell_type": "code",
   "execution_count": 9,
   "metadata": {
    "execution": {
     "iopub.execute_input": "2025-04-23T23:41:41.177091Z",
     "iopub.status.busy": "2025-04-23T23:41:41.176090Z",
     "iopub.status.idle": "2025-04-23T23:41:56.057106Z",
     "shell.execute_reply": "2025-04-23T23:41:56.056091Z"
    }
   },
   "outputs": [],
   "source": [
    "# Get root directory (assuming notebook is in root/notebooks/)\n",
    "NOTEBOOK_DIR = Path.cwd()\n",
    "ROOT_DIR = NOTEBOOK_DIR.parent if NOTEBOOK_DIR.name == 'notebooks' else NOTEBOOK_DIR\n",
    "\n",
    "import sys\n",
    "\n",
    "# Add src directory to Python path\n",
    "sys.path.append(str(ROOT_DIR / 'src'))\n",
    "\n",
    "import utils\n",
    "\n",
    "list_dfs = utils.get_latest_dfs(selected_data, DAYS_RATIO)"
   ]
  },
  {
   "cell_type": "code",
   "execution_count": 10,
   "metadata": {
    "execution": {
     "iopub.execute_input": "2025-04-23T23:41:56.061103Z",
     "iopub.status.busy": "2025-04-23T23:41:56.060102Z",
     "iopub.status.idle": "2025-04-23T23:42:30.316401Z",
     "shell.execute_reply": "2025-04-23T23:42:30.315392Z"
    }
   },
   "outputs": [
    {
     "name": "stdout",
     "output_type": "stream",
     "text": [
      "\n",
      "Combined performance metrics DataFrame:\n",
      "        Sharpe 3d  Sortino 3d  Omega 3d  Sharpe 5d  Sortino 5d  Omega 5d  Sharpe 10d  Sortino 10d  Omega 10d  Sharpe 15d  Sortino 15d  Omega 15d  Sharpe 30d  Sortino 30d  Omega 30d  Sharpe 60d  Sortino 60d  Omega 60d  Sharpe 120d  Sortino 120d  Omega 120d  Sharpe 250d  Sortino 250d  Omega 250d\n",
      "A      126.085003         inf       NaN   4.034383    8.064942  1.924264   -0.956182    -1.220669   0.853372   -2.512958    -3.275473   0.667087   -2.219283    -2.869821   0.682933   -3.876319    -4.657703   0.504206    -1.370490     -1.826723    0.785056    -0.883366     -1.164987    0.853758\n",
      "AA      59.937599         inf       NaN   0.195685    0.283158  1.035167   -0.955498    -1.204034   0.851445   -2.855830    -3.742775   0.618910   -2.629163    -3.411091   0.634198   -1.681124    -2.188681   0.743048    -1.614813     -2.092855    0.750838    -0.494562     -0.682470    0.919975\n",
      "AAL     12.034462         inf       NaN  -1.415314   -1.933228  0.756436   -5.321314    -5.505256   0.317168   -1.143977    -1.815523   0.794039   -1.021932    -1.581608   0.815689   -3.193447    -4.365327   0.530210    -1.059868     -1.584362    0.806184    -0.580183     -0.852826    0.890792\n",
      "AAON   360.494707         inf       NaN   2.144453    3.143010  1.395982    0.050945     0.074917   1.007736    0.109347     0.192131   1.018840    0.335228     0.561179   1.057197   -1.468114    -1.824004   0.752387    -0.934346     -1.215771    0.826433     0.039910      0.052831    1.008218\n",
      "AAPL    66.979455         inf       NaN   8.929279   21.239515  3.675927    1.765641     2.684952   1.300004   -1.268400    -1.980152   0.807649   -0.474836    -0.722718   0.914168   -1.076367    -1.550009   0.807934    -0.606362     -0.863825    0.884740     0.643822      0.956688    1.134982\n",
      "...           ...         ...       ...        ...         ...       ...         ...          ...        ...         ...          ...        ...         ...          ...        ...         ...          ...        ...          ...           ...         ...          ...           ...         ...\n",
      "ZM     144.151862         inf       NaN   6.151763   12.554957  2.581776    1.322689     1.915472   1.222152   -0.810931    -1.154739   0.864952   -0.218536    -0.310917   0.961161   -2.205017    -2.697755   0.653119    -0.124276     -0.175314    0.977854     0.547034      0.822978    1.105581\n",
      "ZS      63.775128         inf       NaN  -1.656458   -2.276156  0.762446   -0.533737    -0.711089   0.921631   -0.307649    -0.491214   0.944670    0.436872     0.678936   1.082539    0.022011     0.032010   1.003874     0.393585      0.571444    1.069904     0.415203      0.562449    1.077606\n",
      "ZTO      7.184915   39.925417  4.556839   5.106540   19.933689  2.779785    6.438569    23.978727   3.488689   -0.499948    -0.715349   0.909008    0.015051     0.020490   1.002830    0.121904     0.166917   1.021168    -1.180905     -1.550441    0.819884    -0.143668     -0.210721    0.976011\n",
      "ZTS     20.021747         inf       NaN   9.582159   27.103052  4.414664   -1.192463    -1.510597   0.827117   -2.821252    -3.810795   0.637519   -1.595962    -2.182975   0.761197   -1.497770    -1.912604   0.774791    -1.344085     -1.708442    0.798709     0.011968      0.016939    1.002071\n",
      "ZWS   3337.069123         inf       NaN  13.467103   63.616454  9.014920    5.413114    12.208754   2.755119   -0.520369    -0.716729   0.912641    0.022988     0.031814   1.004270   -2.114442    -2.684295   0.681548    -0.632969     -0.842972    0.892158     0.090144      0.128350    1.015620\n",
      "\n",
      "[1537 rows x 24 columns]\n"
     ]
    }
   ],
   "source": [
    "import numpy as np\n",
    "\n",
    "all_results = {}\n",
    "\n",
    "for _df in list_dfs:\n",
    "    tickers_in_df = _df.index.get_level_values(0).unique()\n",
    "    for ticker in tickers_in_df:\n",
    "        # Suppress division warnings just for this calculation\n",
    "        with np.errstate(divide='ignore', invalid='ignore'):\n",
    "            result_df = utils.analyze_stock(_df, ticker, risk_free_rate=RISK_FREE_RATE)\n",
    "        \n",
    "        if result_df is not None:\n",
    "            # Extract the ticker name from the result_df index\n",
    "            ticker_name = result_df.index[0]\n",
    "            # Convert the single-row DataFrame to a dictionary\n",
    "            metrics = result_df.iloc[0].to_dict()\n",
    "            \n",
    "            # Update the existing ticker entry or create a new one\n",
    "            if ticker_name in all_results:\n",
    "                all_results[ticker_name].update(metrics)\n",
    "            else:\n",
    "                all_results[ticker_name] = metrics\n",
    "\n",
    "if all_results:\n",
    "    combined_df = pd.DataFrame.from_dict(all_results, orient='index')\n",
    "    print(\"\\nCombined performance metrics DataFrame:\")\n",
    "    print(combined_df)\n",
    "else:\n",
    "    print(\"No performance metrics were calculated.\")"
   ]
  },
  {
   "cell_type": "code",
   "execution_count": 11,
   "metadata": {
    "execution": {
     "iopub.execute_input": "2025-04-23T23:42:30.320640Z",
     "iopub.status.busy": "2025-04-23T23:42:30.320133Z",
     "iopub.status.idle": "2025-04-23T23:42:30.333175Z",
     "shell.execute_reply": "2025-04-23T23:42:30.332149Z"
    }
   },
   "outputs": [
    {
     "name": "stdout",
     "output_type": "stream",
     "text": [
      "<class 'pandas.core.frame.DataFrame'>\n",
      "Index: 1537 entries, A to ZWS\n",
      "Data columns (total 24 columns):\n",
      " #   Column        Non-Null Count  Dtype  \n",
      "---  ------        --------------  -----  \n",
      " 0   Sharpe 3d     1537 non-null   float64\n",
      " 1   Sortino 3d    1537 non-null   float64\n",
      " 2   Omega 3d      406 non-null    float64\n",
      " 3   Sharpe 5d     1537 non-null   float64\n",
      " 4   Sortino 5d    1537 non-null   float64\n",
      " 5   Omega 5d      1471 non-null   float64\n",
      " 6   Sharpe 10d    1537 non-null   float64\n",
      " 7   Sortino 10d   1537 non-null   float64\n",
      " 8   Omega 10d     1537 non-null   float64\n",
      " 9   Sharpe 15d    1537 non-null   float64\n",
      " 10  Sortino 15d   1537 non-null   float64\n",
      " 11  Omega 15d     1537 non-null   float64\n",
      " 12  Sharpe 30d    1537 non-null   float64\n",
      " 13  Sortino 30d   1537 non-null   float64\n",
      " 14  Omega 30d     1537 non-null   float64\n",
      " 15  Sharpe 60d    1537 non-null   float64\n",
      " 16  Sortino 60d   1537 non-null   float64\n",
      " 17  Omega 60d     1537 non-null   float64\n",
      " 18  Sharpe 120d   1537 non-null   float64\n",
      " 19  Sortino 120d  1537 non-null   float64\n",
      " 20  Omega 120d    1537 non-null   float64\n",
      " 21  Sharpe 250d   1537 non-null   float64\n",
      " 22  Sortino 250d  1537 non-null   float64\n",
      " 23  Omega 250d    1537 non-null   float64\n",
      "dtypes: float64(24)\n",
      "memory usage: 300.2+ KB\n"
     ]
    }
   ],
   "source": [
    "combined_df.info()"
   ]
  },
  {
   "cell_type": "code",
   "execution_count": 12,
   "metadata": {
    "execution": {
     "iopub.execute_input": "2025-04-23T23:42:30.337162Z",
     "iopub.status.busy": "2025-04-23T23:42:30.337162Z",
     "iopub.status.idle": "2025-04-23T23:42:30.423067Z",
     "shell.execute_reply": "2025-04-23T23:42:30.422058Z"
    }
   },
   "outputs": [
    {
     "name": "stdout",
     "output_type": "stream",
     "text": [
      "combined_df has_nan_inf: True\n",
      "Replacing NaN/Inf values with column-specific max/min values\n",
      "NaN/Inf Locations BEFORE Replacement:\n",
      "Column: Sharpe 3d\n",
      "  -Inf: ['BILS']\n",
      "Column: Sortino 3d\n",
      "  Inf: ['A', 'AA', 'AAL', 'AAON', 'AAPL', 'ABBV', 'ABEV', 'ABNB', 'ACIW', 'ACM', 'ACN', 'ACWI', 'ACWV', 'ACWX', 'ADBE', 'ADI', 'ADP', 'ADSK', 'ADT', 'AEG', 'AER', 'AES', 'AFL', 'AFRM', 'AGCO', 'AGG', 'AGNC', 'AIRR', 'AIT', 'AIZ', 'AJG', 'AKAM', 'ALAB', 'ALB', 'ALC', 'ALGN', 'ALK', 'ALL', 'ALLY', 'ALNY', 'ALSN', 'ALV', 'AMAT', 'AMD', 'AME', 'AMLP', 'AMP', 'AMX', 'AMZN', 'ANET', 'ANSS', 'AON', 'APG', 'APH', 'APO', 'APP', 'APPF', 'APTV', 'AR', 'ARCC', 'ARE', 'ARES', 'ARKB', 'ARKK', 'ARM', 'ARMK', 'ARW', 'AS', 'ASML', 'ASTS', 'ASX', 'ATI', 'ATR', 'AUR', 'AVEM', 'AVGO', 'AVLV', 'AVTR', 'AVUS', 'AVUV', 'AWI', 'AXON', 'AXP', 'AXTA', 'AYI', 'AZEK', 'AZN', 'BA', 'BABA', 'BAC', 'BAH', 'BALL', 'BAM', 'BAP', 'BAX', 'BBAX', 'BBCA', 'BBD', 'BBEU', 'BBIN', 'BBIO', 'BBJP', 'BBUS', 'BBVA', 'BBY', 'BCH', 'BCS', 'BDX', 'BECN', 'BEKE', 'BEN', 'BEP', 'BFAM', 'BHP', 'BIDU', 'BILI', 'BINC', 'BIO', 'BIRK', 'BITB', 'BIV', 'BK', 'BKLN', 'BKNG', 'BLD', 'BLDR', 'BLK', 'BLV', 'BMA', 'BMI', 'BMO', 'BMRN', 'BN', 'BND', 'BNS', 'BNT', 'BNTX', 'BOND', 'BPOP', 'BR', 'BRK-A', 'BRK-B', 'BRKR', 'BRO', 'BROS', 'BRX', 'BSX', 'BSY', 'BUFR', 'BWA', 'BWXT', 'BX', 'BXP', 'BXSL', 'BYD', 'BZ', 'C', 'CACC', 'CACI', 'CAE', 'CAH', 'CALF', 'CAT', 'CAVA', 'CBRE', 'CBSH', 'CCCS', 'CCJ', 'CCL', 'CDNS', 'CDP', 'CDW', 'CEG', 'CF', 'CFG', 'CFLT', 'CFR', 'CG', 'CGCP', 'CGDV', 'CGGO', 'CGGR', 'CGUS', 'CGXU', 'CHDN', 'CHE', 'CHH', 'CHRW', 'CHTR', 'CIBR', 'CIEN', 'CIGI', 'CINF', 'CLH', 'CLS', 'CM', 'CMA', 'CMCSA', 'CMF', 'CMG', 'CMI', 'CNA', 'CNC', 'CNH', 'CNM', 'CNP', 'COF', 'COHR', 'COIN', 'COKE', 'COLD', 'COO', 'COP', 'CORT', 'COWZ', 'CPAY', 'CPNG', 'CPRT', 'CPT', 'CQP', 'CR', 'CRBG', 'CRDO', 'CRH', 'CRM', 'CROX', 'CRS', 'CRVL', 'CRWD', 'CSCO', 'CSGP', 'CSL', 'CTAS', 'CTRA', 'CTSH', 'CTVA', 'CVLT', 'CVNA', 'CVS', 'CW', 'CWAN', 'CWB', 'CX', 'CYBR', 'DAL', 'DASH', 'DAY', 'DB', 'DBEF', 'DBX', 'DCI', 'DD', 'DDOG', 'DE', 'DECK', 'DELL', 'DFAC', 'DFAE', 'DFAI', 'DFAS', 'DFAT', 'DFAU', 'DFAX', 'DFCF', 'DFEM', 'DFIV', 'DFLV', 'DFS', 'DFSV', 'DFUS', 'DFUV', 'DGRO', 'DGRW', 'DGX', 'DHR', 'DIA', 'DINO', 'DIS', 'DIVO', 'DJT', 'DKNG', 'DKS', 'DLB', 'DLN', 'DLR', 'DLTR', 'DOC', 'DOCS', 'DOCU', 'DON', 'DOV', 'DOX', 'DRS', 'DSGX', 'DSI', 'DT', 'DTE', 'DTM', 'DUHP', 'DUOL', 'DVA', 'DVY', 'DXCM', 'DXJ', 'DYNF', 'EAGG', 'EAT', 'EBR', 'ECL', 'EDV', 'EEM', 'EEMV', 'EFA', 'EFG', 'EFV', 'EFX', 'EGP', 'EHC', 'EIX', 'EL', 'ELV', 'EMB', 'EME', 'EMLP', 'EMR', 'EMXC', 'ENSG', 'ENTG', 'EOG', 'EPAM', 'EQH', 'EQIX', 'EQR', 'EQT', 'ERIE', 'ERJ', 'ESAB', 'ESGD', 'ESGE', 'ESGU', 'ESGV', 'ESNT', 'ESS', 'ESTC', 'ET', 'ETN', 'ETR', 'EUFN', 'EVR', 'EWBC', 'EWJ', 'EWT', 'EWZ', 'EXE', 'EXEL', 'EXLS', 'EXP', 'EXPE', 'EZU', 'F', 'FAF', 'FBCG', 'FBIN', 'FBND', 'FBTC', 'FCN', 'FCNCA', 'FCX', 'FDL', 'FDN', 'FDS', 'FDVV', 'FDX', 'FELC', 'FEZ', 'FFIV', 'FHN', 'FI', 'FICO', 'FIS', 'FITB', 'FIX', 'FIXD', 'FLEX', 'FLOT', 'FLR', 'FLS', 'FLUT', 'FMX', 'FN', 'FND', 'FNDA', 'FNDE', 'FNDF', 'FNDX', 'FNF', 'FNGA', 'FOUR', 'FOX', 'FOXA', 'FPE', 'FR', 'FRHC', 'FRT', 'FSK', 'FSV', 'FTAI', 'FTCS', 'FTEC', 'FTNT', 'FTV', 'FUTU', 'FV', 'FVD', 'FWONA', 'FWONK', 'FXI', 'FYBR', 'G', 'GAP', 'GBTC', 'GDDY', 'GE', 'GEHC', 'GEN', 'GEV', 'GFL', 'GFS', 'GGAL', 'GH', 'GIL', 'GILD', 'GL', 'GLBE', 'GLPI', 'GLW', 'GM', 'GMED', 'GOOG', 'GOOGL', 'GOVT', 'GPC', 'GPN', 'GRAB', 'GRMN', 'GS', 'GSIE', 'GSK', 'GSLC', 'GTLB', 'GTLS', 'GWRE', 'H', 'HALO', 'HAS', 'HBAN', 'HCA', 'HD', 'HEFA', 'HEI', 'HEI-A', 'HESM', 'HIG', 'HLI', 'HLNE', 'HLT', 'HOMB', 'HOOD', 'HPE', 'HPQ', 'HQY', 'HRL', 'HSBC', 'HSIC', 'HTHT', 'HUBB', 'HUBS', 'HUM', 'HWM', 'HYG', 'HYLB', 'IBB', 'IBIT', 'IBKR', 'IBM', 'ICE', 'ICL', 'IDEV', 'IDXX', 'IEF', 'IEFA', 'IEMG', 'IEUR', 'IEX', 'IFF', 'IGF', 'IGIB', 'IGM', 'IGV', 'IHG', 'IHI', 'IJH', 'IJJ', 'IJK', 'IJR', 'IJS', 'IJT', 'ILMN', 'INCY', 'INFA', 'INFY', 'ING', 'INTC', 'INTU', 'IONQ', 'IOO', 'IP', 'IPG', 'IQV', 'IR', 'IRM', 'ISRG', 'IT', 'ITOT', 'ITT', 'ITUB', 'ITW', 'IUSB', 'IUSG', 'IUSV', 'IVE', 'IVV', 'IVW', 'IVZ', 'IWB', 'IWD', 'IWF', 'IWM', 'IWN', 'IWO', 'IWP', 'IWR', 'IWS', 'IWV', 'IWY', 'IX', 'IXJ', 'IXN', 'IXUS', 'IYF', 'IYR', 'IYW', 'J', 'JAAA', 'JAVA', 'JAZZ', 'JBHT', 'JBL', 'JCI', 'JCPB', 'JEF', 'JEPI', 'JEPQ', 'JGLO', 'JGRO', 'JHMM', 'JHX', 'JIRE', 'JKHY', 'JLL', 'JMBS', 'JNK', 'JNPR', 'JPM', 'JQUA', 'JXN', 'K', 'KB', 'KBR', 'KBWB', 'KD', 'KEX', 'KEY', 'KEYS', 'KIM', 'KKR', 'KLAC', 'KMX', 'KNSL', 'KNX', 'KRE', 'KSPI', 'KT', 'KWEB', 'L', 'LAMR', 'LBRDA', 'LBRDK', 'LCID', 'LDOS', 'LECO', 'LEVI', 'LH', 'LHX', 'LI', 'LLY', 'LLYVA', 'LLYVK', 'LMBS', 'LMT', 'LNT', 'LNW', 'LOGI', 'LPLA', 'LPX', 'LQD', 'LRCX', 'LRN', 'LSCC', 'LTH', 'LULU', 'LUV', 'LVS', 'LYG', 'LYV', 'MA', 'MAA', 'MANH', 'MAR', 'MASI', 'MBB', 'MBLY', 'MCHI', 'MCHP', 'MCO', 'MDB', 'MDGL', 'MDT', 'MDY', 'MELI', 'MET', 'META', 'MFC', 'MGA', 'MGC', 'MGK', 'MGM', 'MGV', 'MHK', 'MIDD', 'MKC', 'MKL', 'MLI', 'MLM', 'MMSI', 'MNDY', 'MOAT', 'MOH', 'MORN', 'MOS', 'MPC', 'MPLX', 'MPWR', 'MRNA', 'MRVL', 'MS', 'MSA', 'MSFT', 'MSI', 'MSTR', 'MT', 'MTB', 'MTD', 'MTSI', 'MTUM', 'MTZ', 'MU', 'MUB', 'MUFG', 'NBIX', 'NCLH', 'NDAQ', 'NDSN', 'NEE', 'NET', 'NEU', 'NFLX', 'NI', 'NICE', 'NIO', 'NKE', 'NLY', 'NMR', 'NOK', 'NOW', 'NRG', 'NSC', 'NTAP', 'NTES', 'NTNX', 'NTRA', 'NTRS', 'NU', 'NUE', 'NVDA', 'NVDL', 'NVO', 'NVT', 'NWG', 'NWS', 'NWSA', 'NXPI', 'NYT', 'OBDC', 'OC', 'ODFL', 'OEF', 'OKE', 'OKTA', 'OLED', 'OLLI', 'OMF', 'OMFL', 'ON', 'ONB', 'ONEQ', 'ONON', 'ONTO', 'ORCL', 'OSK', 'OTEX', 'OVV', 'OWL', 'PAAA', 'PAC', 'PAG', 'PANW', 'PARA', 'PATH', 'PAVE', 'PAYC', 'PB', 'PBUS', 'PCAR', 'PCOR', 'PCTY', 'PDD', 'PDI', 'PEGA', 'PEN', 'PFF', 'PFG', 'PFGC', 'PGX', 'PH', 'PHG', 'PHM', 'PINS', 'PKX', 'PLD', 'PLNT', 'PLTR', 'PM', 'PNC', 'PNFP', 'PNR', 'PODD', 'POOL', 'POST', 'PPA', 'PPC', 'PPG', 'PPL', 'PR', 'PRF', 'PRI', 'PRMB', 'PRU', 'PSN', 'PSTG', 'PSX', 'PTC', 'PUK', 'PWR', 'PYLD', 'PYPL', 'QCOM', 'QLD', 'QQQ', 'QQQM', 'QRVO', 'QUAL', 'QYLD', 'RBA', 'RBC', 'RBLX', 'RCL', 'RDDT', 'RDVY', 'REET', 'REGN', 'REXR', 'RF', 'RGA', 'RGEN', 'RIO', 'RITM', 'RIVN', 'RJF', 'RKLB', 'RL', 'RMD', 'ROIV', 'ROK', 'ROKU', 'ROST', 'RRC', 'RRX', 'RS', 'RSP', 'RVMD', 'RVTY', 'RWL', 'RYAAY', 'S', 'SAIA', 'SAIC', 'SAN', 'SAP', 'SATS', 'SBS', 'SBUX', 'SCCO', 'SCHA', 'SCHB', 'SCHC', 'SCHE', 'SCHF', 'SCHG', 'SCHI', 'SCHK', 'SCHM', 'SCHP', 'SCHV', 'SCHW', 'SCHX', 'SCHZ', 'SCI', 'SDVY', 'SE', 'SEIC', 'SFM', 'SGI', 'SHG', 'SHOP', 'SHYG', 'SIRI', 'SJNK', 'SKX', 'SLF', 'SLM', 'SLYV', 'SMCI', 'SMFG', 'SMH', 'SMMT', 'SN', 'SNA', 'SNAP', 'SNN', 'SNOW', 'SNPS', 'SNV', 'SNX', 'SNY', 'SOFI', 'SOLV', 'SONY', 'SOXL', 'SOXX', 'SPAB', 'SPDW', 'SPEM', 'SPG', 'SPGI', 'SPHQ', 'SPHY', 'SPIB', 'SPLG', 'SPMB', 'SPMD', 'SPMO', 'SPOT', 'SPSM', 'SPTL', 'SPTM', 'SPXC', 'SPXL', 'SPY', 'SPYD', 'SPYG', 'SPYI', 'SPYV', 'SRE', 'SRLN', 'SRPT', 'SSB', 'SSD', 'SSNC', 'SSO', 'STAG', 'STE', 'STEP', 'STLD', 'STM', 'STT', 'STWD', 'STX', 'SUI', 'SUN', 'SUSA', 'SUZ', 'SWK', 'SWKS', 'SYF', 'SYK', 'SYM', 'T', 'TBIL', 'TCAF', 'TCOM', 'TDG', 'TEAM', 'TECH', 'TECK', 'TEL', 'TER', 'TEVA', 'TFC', 'TFLO', 'TFX', 'TGTX', 'THC', 'TIGO', 'TIMB', 'TIP', 'TKO', 'TLH', 'TLK', 'TLT', 'TM', 'TME', 'TMF', 'TMUS', 'TOL', 'TOST', 'TOTL', 'TPG', 'TPL', 'TPR', 'TQQQ', 'TREX', 'TRGP', 'TRMB', 'TRNO', 'TROW', 'TRU', 'TSCO', 'TSLA', 'TSLL', 'TSM', 'TSN', 'TT', 'TTC', 'TTD', 'TTEK', 'TTWO', 'TW', 'TWLO', 'TX', 'TXN', 'TXRH', 'TXT', 'TYL', 'U', 'UAL', 'UBS', 'UCON', 'UDR', 'UFPI', 'UHAL', 'UHAL-B', 'UHS', 'UI', 'ULS', 'UMC', 'UNH', 'UNM', 'UNP', 'UPS', 'URI', 'URTH', 'USB', 'USFD', 'USHY', 'USIG', 'USMV', 'UTHR', 'V', 'VALE', 'VB', 'VBK', 'VBR', 'VCIT', 'VCLT', 'VCR', 'VEA', 'VEEV', 'VERX', 'VEU', 'VFH', 'VFLO', 'VGK', 'VGLT', 'VGT', 'VHT', 'VIG', 'VIGI', 'VIPS', 'VIRT', 'VIS', 'VIV', 'VLO', 'VLTO', 'VLUE', 'VMBS', 'VMI', 'VNO', 'VNQ', 'VO', 'VOE', 'VONE', 'VONG', 'VONV', 'VOO', 'VOOG', 'VOOV', 'VOT', 'VOX', 'VOYA', 'VPL', 'VPU', 'VRSN', 'VRT', 'VRTX', 'VSGX', 'VSS', 'VST', 'VT', 'VTEB', 'VTI', 'VTR', 'VTRS', 'VTV', 'VTWO', 'VUG', 'VV', 'VWO', 'VWOB', 'VXF', 'VXUS', 'VYM', 'VYMI', 'WAB', 'WAL', 'WAT', 'WBD', 'WBS', 'WCC', 'WDAY', 'WDC', 'WDS', 'WELL', 'WFC', 'WH', 'WIT', 'WIX', 'WMB', 'WMG', 'WMS', 'WMT', 'WPP', 'WRB', 'WSM', 'WST', 'WTFC', 'WTS', 'WTW', 'WWD', 'WY', 'WYNN', 'X', 'XBI', 'XEL', 'XLB', 'XLC', 'XLF', 'XLG', 'XLI', 'XLK', 'XLRE', 'XLU', 'XLY', 'XMHQ', 'XMMO', 'XP', 'XPEV', 'XPO', 'XYL', 'XYZ', 'YMM', 'YUM', 'YUMC', 'Z', 'ZBH', 'ZBRA', 'ZG', 'ZM', 'ZS', 'ZTS', 'ZWS']\n",
      "Column: Omega 3d\n",
      "  NaN: ['A', 'AA', 'AAL', 'AAON', 'AAPL', 'ABBV', 'ABEV', 'ABNB', 'ACIW', 'ACM', 'ACN', 'ACWI', 'ACWV', 'ACWX', 'ADBE', 'ADI', 'ADP', 'ADSK', 'ADT', 'AEG', 'AER', 'AES', 'AFL', 'AFRM', 'AGCO', 'AGG', 'AGNC', 'AIRR', 'AIT', 'AIZ', 'AJG', 'AKAM', 'ALAB', 'ALB', 'ALC', 'ALGN', 'ALK', 'ALL', 'ALLY', 'ALNY', 'ALSN', 'ALV', 'AMAT', 'AMD', 'AME', 'AMLP', 'AMP', 'AMX', 'AMZN', 'ANET', 'ANSS', 'AON', 'APG', 'APH', 'APO', 'APP', 'APPF', 'APTV', 'AR', 'ARCC', 'ARE', 'ARES', 'ARKB', 'ARKK', 'ARM', 'ARMK', 'ARW', 'AS', 'ASML', 'ASTS', 'ASX', 'ATI', 'ATR', 'AUR', 'AVEM', 'AVGO', 'AVLV', 'AVTR', 'AVUS', 'AVUV', 'AWI', 'AXON', 'AXP', 'AXTA', 'AYI', 'AZEK', 'AZN', 'BA', 'BABA', 'BAC', 'BAH', 'BALL', 'BAM', 'BAP', 'BAX', 'BBAX', 'BBCA', 'BBD', 'BBEU', 'BBIN', 'BBIO', 'BBJP', 'BBUS', 'BBVA', 'BBY', 'BCH', 'BCS', 'BDX', 'BECN', 'BEKE', 'BEN', 'BEP', 'BFAM', 'BHP', 'BIDU', 'BILI', 'BINC', 'BIO', 'BIRK', 'BITB', 'BIV', 'BK', 'BKLN', 'BKNG', 'BLD', 'BLDR', 'BLK', 'BLV', 'BMA', 'BMI', 'BMO', 'BMRN', 'BN', 'BND', 'BNS', 'BNT', 'BNTX', 'BOND', 'BPOP', 'BR', 'BRK-A', 'BRK-B', 'BRKR', 'BRO', 'BROS', 'BRX', 'BSX', 'BSY', 'BUFR', 'BWA', 'BWXT', 'BX', 'BXP', 'BXSL', 'BYD', 'BZ', 'C', 'CACC', 'CACI', 'CAE', 'CAH', 'CALF', 'CAT', 'CAVA', 'CBRE', 'CBSH', 'CCCS', 'CCJ', 'CCL', 'CDNS', 'CDP', 'CDW', 'CEG', 'CF', 'CFG', 'CFLT', 'CFR', 'CG', 'CGCP', 'CGDV', 'CGGO', 'CGGR', 'CGUS', 'CGXU', 'CHDN', 'CHE', 'CHH', 'CHRW', 'CHTR', 'CIBR', 'CIEN', 'CIGI', 'CINF', 'CLH', 'CLS', 'CM', 'CMA', 'CMCSA', 'CMF', 'CMG', 'CMI', 'CNA', 'CNC', 'CNH', 'CNM', 'CNP', 'COF', 'COHR', 'COIN', 'COKE', 'COLD', 'COO', 'COP', 'CORT', 'COWZ', 'CPAY', 'CPNG', 'CPRT', 'CPT', 'CQP', 'CR', 'CRBG', 'CRDO', 'CRH', 'CRM', 'CROX', 'CRS', 'CRVL', 'CRWD', 'CSCO', 'CSGP', 'CSL', 'CTAS', 'CTRA', 'CTSH', 'CTVA', 'CVLT', 'CVNA', 'CVS', 'CW', 'CWAN', 'CWB', 'CX', 'CYBR', 'DAL', 'DASH', 'DAY', 'DB', 'DBEF', 'DBX', 'DCI', 'DD', 'DDOG', 'DE', 'DECK', 'DELL', 'DFAC', 'DFAE', 'DFAI', 'DFAS', 'DFAT', 'DFAU', 'DFAX', 'DFCF', 'DFEM', 'DFIV', 'DFLV', 'DFS', 'DFSV', 'DFUS', 'DFUV', 'DGRO', 'DGRW', 'DGX', 'DHR', 'DIA', 'DINO', 'DIS', 'DIVO', 'DJT', 'DKNG', 'DKS', 'DLB', 'DLN', 'DLR', 'DLTR', 'DOC', 'DOCS', 'DOCU', 'DON', 'DOV', 'DOX', 'DRS', 'DSGX', 'DSI', 'DT', 'DTE', 'DTM', 'DUHP', 'DUOL', 'DVA', 'DVY', 'DXCM', 'DXJ', 'DYNF', 'EAGG', 'EAT', 'EBR', 'ECL', 'EDV', 'EEM', 'EEMV', 'EFA', 'EFG', 'EFV', 'EFX', 'EGP', 'EHC', 'EIX', 'EL', 'ELV', 'EMB', 'EME', 'EMLP', 'EMR', 'EMXC', 'ENSG', 'ENTG', 'EOG', 'EPAM', 'EQH', 'EQIX', 'EQR', 'EQT', 'ERIE', 'ERJ', 'ESAB', 'ESGD', 'ESGE', 'ESGU', 'ESGV', 'ESNT', 'ESS', 'ESTC', 'ET', 'ETN', 'ETR', 'EUFN', 'EVR', 'EWBC', 'EWJ', 'EWT', 'EWZ', 'EXE', 'EXEL', 'EXLS', 'EXP', 'EXPE', 'EZU', 'F', 'FAF', 'FBCG', 'FBIN', 'FBND', 'FBTC', 'FCN', 'FCNCA', 'FCX', 'FDL', 'FDN', 'FDS', 'FDVV', 'FDX', 'FELC', 'FEZ', 'FFIV', 'FHN', 'FI', 'FICO', 'FIS', 'FITB', 'FIX', 'FIXD', 'FLEX', 'FLOT', 'FLR', 'FLS', 'FLUT', 'FMX', 'FN', 'FND', 'FNDA', 'FNDE', 'FNDF', 'FNDX', 'FNF', 'FNGA', 'FOUR', 'FOX', 'FOXA', 'FPE', 'FR', 'FRHC', 'FRT', 'FSK', 'FSV', 'FTAI', 'FTCS', 'FTEC', 'FTNT', 'FTV', 'FUTU', 'FV', 'FVD', 'FWONA', 'FWONK', 'FXI', 'FYBR', 'G', 'GAP', 'GBTC', 'GDDY', 'GE', 'GEHC', 'GEN', 'GEV', 'GFL', 'GFS', 'GGAL', 'GH', 'GIL', 'GILD', 'GL', 'GLBE', 'GLPI', 'GLW', 'GM', 'GMED', 'GOOG', 'GOOGL', 'GOVT', 'GPC', 'GPN', 'GRAB', 'GRMN', 'GS', 'GSIE', 'GSK', 'GSLC', 'GTLB', 'GTLS', 'GWRE', 'H', 'HALO', 'HAS', 'HBAN', 'HCA', 'HD', 'HEFA', 'HEI', 'HEI-A', 'HESM', 'HIG', 'HLI', 'HLNE', 'HLT', 'HOMB', 'HOOD', 'HPE', 'HPQ', 'HQY', 'HRL', 'HSBC', 'HSIC', 'HTHT', 'HUBB', 'HUBS', 'HUM', 'HWM', 'HYG', 'HYLB', 'IBB', 'IBIT', 'IBKR', 'IBM', 'ICE', 'ICL', 'IDEV', 'IDXX', 'IEF', 'IEFA', 'IEMG', 'IEUR', 'IEX', 'IFF', 'IGF', 'IGIB', 'IGM', 'IGV', 'IHG', 'IHI', 'IJH', 'IJJ', 'IJK', 'IJR', 'IJS', 'IJT', 'ILMN', 'INCY', 'INFA', 'INFY', 'ING', 'INTC', 'INTU', 'IONQ', 'IOO', 'IP', 'IPG', 'IQV', 'IR', 'IRM', 'ISRG', 'IT', 'ITOT', 'ITT', 'ITUB', 'ITW', 'IUSB', 'IUSG', 'IUSV', 'IVE', 'IVV', 'IVW', 'IVZ', 'IWB', 'IWD', 'IWF', 'IWM', 'IWN', 'IWO', 'IWP', 'IWR', 'IWS', 'IWV', 'IWY', 'IX', 'IXJ', 'IXN', 'IXUS', 'IYF', 'IYR', 'IYW', 'J', 'JAAA', 'JAVA', 'JAZZ', 'JBHT', 'JBL', 'JCI', 'JCPB', 'JEF', 'JEPI', 'JEPQ', 'JGLO', 'JGRO', 'JHMM', 'JHX', 'JIRE', 'JKHY', 'JLL', 'JMBS', 'JNK', 'JNPR', 'JPM', 'JQUA', 'JXN', 'K', 'KB', 'KBR', 'KBWB', 'KD', 'KEX', 'KEY', 'KEYS', 'KIM', 'KKR', 'KLAC', 'KMX', 'KNSL', 'KNX', 'KRE', 'KSPI', 'KT', 'KWEB', 'L', 'LAMR', 'LBRDA', 'LBRDK', 'LCID', 'LDOS', 'LECO', 'LEVI', 'LH', 'LHX', 'LI', 'LLY', 'LLYVA', 'LLYVK', 'LMBS', 'LMT', 'LNT', 'LNW', 'LOGI', 'LPLA', 'LPX', 'LQD', 'LRCX', 'LRN', 'LSCC', 'LTH', 'LULU', 'LUV', 'LVS', 'LYG', 'LYV', 'MA', 'MAA', 'MANH', 'MAR', 'MASI', 'MBB', 'MBLY', 'MCHI', 'MCHP', 'MCO', 'MDB', 'MDGL', 'MDT', 'MDY', 'MELI', 'MET', 'META', 'MFC', 'MGA', 'MGC', 'MGK', 'MGM', 'MGV', 'MHK', 'MIDD', 'MKC', 'MKL', 'MLI', 'MLM', 'MMSI', 'MNDY', 'MOAT', 'MOH', 'MORN', 'MOS', 'MPC', 'MPLX', 'MPWR', 'MRNA', 'MRVL', 'MS', 'MSA', 'MSFT', 'MSI', 'MSTR', 'MT', 'MTB', 'MTD', 'MTSI', 'MTUM', 'MTZ', 'MU', 'MUB', 'MUFG', 'NBIX', 'NCLH', 'NDAQ', 'NDSN', 'NEE', 'NET', 'NEU', 'NFLX', 'NI', 'NICE', 'NIO', 'NKE', 'NLY', 'NMR', 'NOK', 'NOW', 'NRG', 'NSC', 'NTAP', 'NTES', 'NTNX', 'NTRA', 'NTRS', 'NU', 'NUE', 'NVDA', 'NVDL', 'NVO', 'NVT', 'NWG', 'NWS', 'NWSA', 'NXPI', 'NYT', 'OBDC', 'OC', 'ODFL', 'OEF', 'OKE', 'OKTA', 'OLED', 'OLLI', 'OMF', 'OMFL', 'ON', 'ONB', 'ONEQ', 'ONON', 'ONTO', 'ORCL', 'OSK', 'OTEX', 'OVV', 'OWL', 'PAAA', 'PAC', 'PAG', 'PANW', 'PARA', 'PATH', 'PAVE', 'PAYC', 'PB', 'PBUS', 'PCAR', 'PCOR', 'PCTY', 'PDD', 'PDI', 'PEGA', 'PEN', 'PFF', 'PFG', 'PFGC', 'PGX', 'PH', 'PHG', 'PHM', 'PINS', 'PKX', 'PLD', 'PLNT', 'PLTR', 'PM', 'PNC', 'PNFP', 'PNR', 'PODD', 'POOL', 'POST', 'PPA', 'PPC', 'PPG', 'PPL', 'PR', 'PRF', 'PRI', 'PRMB', 'PRU', 'PSN', 'PSTG', 'PSX', 'PTC', 'PUK', 'PWR', 'PYLD', 'PYPL', 'QCOM', 'QLD', 'QQQ', 'QQQM', 'QRVO', 'QUAL', 'QYLD', 'RBA', 'RBC', 'RBLX', 'RCL', 'RDDT', 'RDVY', 'REET', 'REGN', 'REXR', 'RF', 'RGA', 'RGEN', 'RIO', 'RITM', 'RIVN', 'RJF', 'RKLB', 'RL', 'RMD', 'ROIV', 'ROK', 'ROKU', 'ROST', 'RRC', 'RRX', 'RS', 'RSP', 'RVMD', 'RVTY', 'RWL', 'RYAAY', 'S', 'SAIA', 'SAIC', 'SAN', 'SAP', 'SATS', 'SBS', 'SBUX', 'SCCO', 'SCHA', 'SCHB', 'SCHC', 'SCHE', 'SCHF', 'SCHG', 'SCHI', 'SCHK', 'SCHM', 'SCHP', 'SCHV', 'SCHW', 'SCHX', 'SCHZ', 'SCI', 'SDVY', 'SE', 'SEIC', 'SFM', 'SGI', 'SHG', 'SHOP', 'SHYG', 'SIRI', 'SJNK', 'SKX', 'SLF', 'SLM', 'SLYV', 'SMCI', 'SMFG', 'SMH', 'SMMT', 'SN', 'SNA', 'SNAP', 'SNN', 'SNOW', 'SNPS', 'SNV', 'SNX', 'SNY', 'SOFI', 'SOLV', 'SONY', 'SOXL', 'SOXX', 'SPAB', 'SPDW', 'SPEM', 'SPG', 'SPGI', 'SPHQ', 'SPHY', 'SPIB', 'SPLG', 'SPMB', 'SPMD', 'SPMO', 'SPOT', 'SPSM', 'SPTL', 'SPTM', 'SPXC', 'SPXL', 'SPY', 'SPYD', 'SPYG', 'SPYI', 'SPYV', 'SRE', 'SRLN', 'SRPT', 'SSB', 'SSD', 'SSNC', 'SSO', 'STAG', 'STE', 'STEP', 'STLD', 'STM', 'STT', 'STWD', 'STX', 'SUI', 'SUN', 'SUSA', 'SUZ', 'SWK', 'SWKS', 'SYF', 'SYK', 'SYM', 'T', 'TBIL', 'TCAF', 'TCOM', 'TDG', 'TEAM', 'TECH', 'TECK', 'TEL', 'TER', 'TEVA', 'TFC', 'TFLO', 'TFX', 'TGTX', 'THC', 'TIGO', 'TIMB', 'TIP', 'TKO', 'TLH', 'TLK', 'TLT', 'TM', 'TME', 'TMF', 'TMUS', 'TOL', 'TOST', 'TOTL', 'TPG', 'TPL', 'TPR', 'TQQQ', 'TREX', 'TRGP', 'TRMB', 'TRNO', 'TROW', 'TRU', 'TSCO', 'TSLA', 'TSLL', 'TSM', 'TSN', 'TT', 'TTC', 'TTD', 'TTEK', 'TTWO', 'TW', 'TWLO', 'TX', 'TXN', 'TXRH', 'TXT', 'TYL', 'U', 'UAL', 'UBS', 'UCON', 'UDR', 'UFPI', 'UHAL', 'UHAL-B', 'UHS', 'UI', 'ULS', 'UMC', 'UNH', 'UNM', 'UNP', 'UPS', 'URI', 'URTH', 'USB', 'USFD', 'USHY', 'USIG', 'USMV', 'UTHR', 'V', 'VALE', 'VB', 'VBK', 'VBR', 'VCIT', 'VCLT', 'VCR', 'VEA', 'VEEV', 'VERX', 'VEU', 'VFH', 'VFLO', 'VGK', 'VGLT', 'VGT', 'VHT', 'VIG', 'VIGI', 'VIPS', 'VIRT', 'VIS', 'VIV', 'VLO', 'VLTO', 'VLUE', 'VMBS', 'VMI', 'VNO', 'VNQ', 'VO', 'VOE', 'VONE', 'VONG', 'VONV', 'VOO', 'VOOG', 'VOOV', 'VOT', 'VOX', 'VOYA', 'VPL', 'VPU', 'VRSN', 'VRT', 'VRTX', 'VSGX', 'VSS', 'VST', 'VT', 'VTEB', 'VTI', 'VTR', 'VTRS', 'VTV', 'VTWO', 'VUG', 'VV', 'VWO', 'VWOB', 'VXF', 'VXUS', 'VYM', 'VYMI', 'WAB', 'WAL', 'WAT', 'WBD', 'WBS', 'WCC', 'WDAY', 'WDC', 'WDS', 'WELL', 'WFC', 'WH', 'WIT', 'WIX', 'WMB', 'WMG', 'WMS', 'WMT', 'WPP', 'WRB', 'WSM', 'WST', 'WTFC', 'WTS', 'WTW', 'WWD', 'WY', 'WYNN', 'X', 'XBI', 'XEL', 'XLB', 'XLC', 'XLF', 'XLG', 'XLI', 'XLK', 'XLRE', 'XLU', 'XLY', 'XMHQ', 'XMMO', 'XP', 'XPEV', 'XPO', 'XYL', 'XYZ', 'YMM', 'YUM', 'YUMC', 'Z', 'ZBH', 'ZBRA', 'ZG', 'ZM', 'ZS', 'ZTS', 'ZWS']\n",
      "Column: Sortino 5d\n",
      "  Inf: ['ALB', 'ALGN', 'AMX', 'ARKB', 'ARW', 'AVEM', 'BABA', 'BBD', 'BBY', 'BCH', 'BHP', 'BIDU', 'BITB', 'BKLN', 'BNTX', 'BPOP', 'CF', 'COF', 'DFAE', 'DFEM', 'DFS', 'DINO', 'DJT', 'DLTR', 'EBR', 'EEMV', 'ESGE', 'FBTC', 'FIS', 'FWONK', 'GBTC', 'GSK', 'IBIT', 'IFF', 'ITUB', 'K', 'KB', 'KT', 'KWEB', 'LEVI', 'LI', 'LULU', 'MCHI', 'MCHP', 'MGM', 'MSTR', 'NFLX', 'NKE', 'NTES', 'NXPI', 'ON', 'PDD', 'QRVO', 'RBLX', 'RIO', 'ROKU', 'SCCO', 'SMMT', 'SNY', 'SWKS', 'U', 'VALE', 'VTRS', 'VWO', 'WYNN', 'YMM']\n",
      "Column: Omega 5d\n",
      "  NaN: ['ALB', 'ALGN', 'AMX', 'ARKB', 'ARW', 'AVEM', 'BABA', 'BBD', 'BBY', 'BCH', 'BHP', 'BIDU', 'BITB', 'BKLN', 'BNTX', 'BPOP', 'CF', 'COF', 'DFAE', 'DFEM', 'DFS', 'DINO', 'DJT', 'DLTR', 'EBR', 'EEMV', 'ESGE', 'FBTC', 'FIS', 'FWONK', 'GBTC', 'GSK', 'IBIT', 'IFF', 'ITUB', 'K', 'KB', 'KT', 'KWEB', 'LEVI', 'LI', 'LULU', 'MCHI', 'MCHP', 'MGM', 'MSTR', 'NFLX', 'NKE', 'NTES', 'NXPI', 'ON', 'PDD', 'QRVO', 'RBLX', 'RIO', 'ROKU', 'SCCO', 'SMMT', 'SNY', 'SWKS', 'U', 'VALE', 'VTRS', 'VWO', 'WYNN', 'YMM']\n",
      "df_to_save has_nan_inf: False\n",
      "NaN/Inf Locations AFTER Replacement:\n",
      "No NaN or Inf values found.\n",
      "        Sharpe 3d   Sortino 3d    Omega 3d  Sharpe 5d  Sortino 5d  Omega 5d  Sharpe 10d  Sortino 10d  Omega 10d  Sharpe 15d  Sortino 15d  Omega 15d  Sharpe 30d  Sortino 30d  Omega 30d  Sharpe 60d  Sortino 60d  Omega 60d  Sharpe 120d  Sortino 120d  Omega 120d  Sharpe 250d  Sortino 250d  Omega 250d\n",
      "A      126.085003  8757.817872  781.208427   4.034383    8.064942  1.924264   -0.956182    -1.220669   0.853372   -2.512958    -3.275473   0.667087   -2.219283    -2.869821   0.682933   -3.876319    -4.657703   0.504206    -1.370490     -1.826723    0.785056    -0.883366     -1.164987    0.853758\n",
      "AA      59.937599  8757.817872  781.208427   0.195685    0.283158  1.035167   -0.955498    -1.204034   0.851445   -2.855830    -3.742775   0.618910   -2.629163    -3.411091   0.634198   -1.681124    -2.188681   0.743048    -1.614813     -2.092855    0.750838    -0.494562     -0.682470    0.919975\n",
      "AAL     12.034462  8757.817872  781.208427  -1.415314   -1.933228  0.756436   -5.321314    -5.505256   0.317168   -1.143977    -1.815523   0.794039   -1.021932    -1.581608   0.815689   -3.193447    -4.365327   0.530210    -1.059868     -1.584362    0.806184    -0.580183     -0.852826    0.890792\n",
      "AAON   360.494707  8757.817872  781.208427   2.144453    3.143010  1.395982    0.050945     0.074917   1.007736    0.109347     0.192131   1.018840    0.335228     0.561179   1.057197   -1.468114    -1.824004   0.752387    -0.934346     -1.215771    0.826433     0.039910      0.052831    1.008218\n",
      "AAPL    66.979455  8757.817872  781.208427   8.929279   21.239515  3.675927    1.765641     2.684952   1.300004   -1.268400    -1.980152   0.807649   -0.474836    -0.722718   0.914168   -1.076367    -1.550009   0.807934    -0.606362     -0.863825    0.884740     0.643822      0.956688    1.134982\n",
      "...           ...          ...         ...        ...         ...       ...         ...          ...        ...         ...          ...        ...         ...          ...        ...         ...          ...        ...          ...           ...         ...          ...           ...         ...\n",
      "ZM     144.151862  8757.817872  781.208427   6.151763   12.554957  2.581776    1.322689     1.915472   1.222152   -0.810931    -1.154739   0.864952   -0.218536    -0.310917   0.961161   -2.205017    -2.697755   0.653119    -0.124276     -0.175314    0.977854     0.547034      0.822978    1.105581\n",
      "ZS      63.775128  8757.817872  781.208427  -1.656458   -2.276156  0.762446   -0.533737    -0.711089   0.921631   -0.307649    -0.491214   0.944670    0.436872     0.678936   1.082539    0.022011     0.032010   1.003874     0.393585      0.571444    1.069904     0.415203      0.562449    1.077606\n",
      "ZTO      7.184915    39.925417    4.556839   5.106540   19.933689  2.779785    6.438569    23.978727   3.488689   -0.499948    -0.715349   0.909008    0.015051     0.020490   1.002830    0.121904     0.166917   1.021168    -1.180905     -1.550441    0.819884    -0.143668     -0.210721    0.976011\n",
      "ZTS     20.021747  8757.817872  781.208427   9.582159   27.103052  4.414664   -1.192463    -1.510597   0.827117   -2.821252    -3.810795   0.637519   -1.595962    -2.182975   0.761197   -1.497770    -1.912604   0.774791    -1.344085     -1.708442    0.798709     0.011968      0.016939    1.002071\n",
      "ZWS   3337.069123  8757.817872  781.208427  13.467103   63.616454  9.014920    5.413114    12.208754   2.755119   -0.520369    -0.716729   0.912641    0.022988     0.031814   1.004270   -2.114442    -2.684295   0.681548    -0.632969     -0.842972    0.892158     0.090144      0.128350    1.015620\n",
      "\n",
      "[1537 rows x 24 columns]\n"
     ]
    }
   ],
   "source": [
    "import numpy as np\n",
    "import pandas as pd\n",
    "\n",
    "def find_nan_inf(df):\n",
    "    \"\"\"\n",
    "    Finds locations of NaN, Inf, and -Inf values in a DataFrame.\n",
    "    \n",
    "    Args:\n",
    "        df (pd.DataFrame): DataFrame to check\n",
    "        \n",
    "    Returns:\n",
    "        dict: Dictionary with column names as keys and dicts of \n",
    "              {type: indices} as values\n",
    "    \"\"\"\n",
    "    nan_inf_locations = {}\n",
    "    for col in df.columns:\n",
    "        locations = {\n",
    "            'NaN': df[col].index[df[col].isnull()].tolist(),\n",
    "            'Inf': df[col].index[df[col] == np.inf].tolist(),\n",
    "            '-Inf': df[col].index[df[col] == -np.inf].tolist()\n",
    "        }\n",
    "        if any(locations.values()):\n",
    "            nan_inf_locations[col] = locations\n",
    "    return nan_inf_locations\n",
    "\n",
    "def print_nan_inf_locations(locations, message):\n",
    "    \"\"\"Prints NaN/Inf locations with a descriptive message.\"\"\"\n",
    "    print(message)\n",
    "    if locations:\n",
    "        for col, locs in locations.items():\n",
    "            print(f\"Column: {col}\")\n",
    "            for typ, indices in locs.items():\n",
    "                if indices:\n",
    "                    print(f\"  {typ}: {indices}\")\n",
    "    else:\n",
    "        print(\"No NaN or Inf values found.\")\n",
    "\n",
    "def get_column_replacement_values(df):\n",
    "    \"\"\"\n",
    "    Calculate replacement values for each column (max for Inf/NaN, min for -Inf).\n",
    "    \n",
    "    Args:\n",
    "        df (pd.DataFrame): Input DataFrame\n",
    "        \n",
    "    Returns:\n",
    "        tuple: (max_values, min_values) dictionaries with column replacement values\n",
    "    \"\"\"\n",
    "    numeric_cols = df.select_dtypes(include=[np.number]).columns\n",
    "    max_values = {}\n",
    "    min_values = {}\n",
    "    \n",
    "    for col in numeric_cols:\n",
    "        # Get finite values only\n",
    "        finite_vals = df[col][np.isfinite(df[col])]\n",
    "        if len(finite_vals) > 0:\n",
    "            max_values[col] = finite_vals.max()\n",
    "            min_values[col] = finite_vals.min()\n",
    "        else:\n",
    "            # If no finite values, use default\n",
    "            max_values[col] = 1e5\n",
    "            min_values[col] = -1e5\n",
    "    \n",
    "    return max_values, min_values\n",
    "\n",
    "# Check for NaN or Inf values\n",
    "has_nan_inf = combined_df.isnull().any().any() or not np.isfinite(combined_df).all().all()\n",
    "print(f'combined_df has_nan_inf: {has_nan_inf}')\n",
    "\n",
    "if has_nan_inf:\n",
    "    # Calculate replacement values for each column\n",
    "    max_values, min_values = get_column_replacement_values(combined_df)\n",
    "    print(\"Replacing NaN/Inf values with column-specific max/min values\")\n",
    "    \n",
    "    nan_inf_locations_before = find_nan_inf(combined_df)\n",
    "    print_nan_inf_locations(nan_inf_locations_before, \"NaN/Inf Locations BEFORE Replacement:\")\n",
    "    \n",
    "    # Create cleaned DataFrame\n",
    "    df_to_save = combined_df.copy()\n",
    "    \n",
    "    # Replace values column by column\n",
    "    for col in df_to_save.columns:\n",
    "        if col in max_values:  # Only numeric columns will be in max_values\n",
    "            # Replace NaN and +Inf with max value\n",
    "            # NaN is from Omega ratio where daily loss series are all zero\n",
    "            # +Inf is from Sharpe ratio where daily negative excess return series are all zero\n",
    "            df_to_save[col] = df_to_save[col].fillna(max_values[col])\n",
    "            df_to_save[col] = df_to_save[col].replace([np.inf], max_values[col])\n",
    "            # Replace -Inf with min value\n",
    "            # -Inf is from Sharpe ratio where daily excess return series are the same, therefore standard deviation is zero\n",
    "            df_to_save[col] = df_to_save[col].replace([-np.inf], min_values[col])\n",
    "else:\n",
    "    print(\"No NaN or Inf values found.\")\n",
    "    df_to_save = combined_df\n",
    "\n",
    "# Verification\n",
    "print(f'df_to_save has_nan_inf: {df_to_save.isnull().any().any() or not np.isfinite(df_to_save).all().all()}')\n",
    "print_nan_inf_locations(find_nan_inf(df_to_save), \"NaN/Inf Locations AFTER Replacement:\")\n",
    "\n",
    "# Output cleaned DataFrame\n",
    "print(df_to_save)"
   ]
  },
  {
   "cell_type": "code",
   "execution_count": 13,
   "metadata": {
    "execution": {
     "iopub.execute_input": "2025-04-23T23:42:30.428067Z",
     "iopub.status.busy": "2025-04-23T23:42:30.427067Z",
     "iopub.status.idle": "2025-04-23T23:42:30.435105Z",
     "shell.execute_reply": "2025-04-23T23:42:30.434095Z"
    }
   },
   "outputs": [
    {
     "data": {
      "text/plain": [
       "'A'"
      ]
     },
     "execution_count": 13,
     "metadata": {},
     "output_type": "execute_result"
    }
   ],
   "source": [
    "ticker_w_inf = nan_inf_locations_before['Sortino 3d']['Inf'][0]\n",
    "ticker_w_inf "
   ]
  },
  {
   "cell_type": "markdown",
   "metadata": {},
   "source": [
    "#### Use Cell below to check the inf, -inf and NaN replacement"
   ]
  },
  {
   "cell_type": "code",
   "execution_count": 14,
   "metadata": {
    "execution": {
     "iopub.execute_input": "2025-04-23T23:42:30.439102Z",
     "iopub.status.busy": "2025-04-23T23:42:30.438104Z",
     "iopub.status.idle": "2025-04-23T23:42:30.454113Z",
     "shell.execute_reply": "2025-04-23T23:42:30.453102Z"
    }
   },
   "outputs": [
    {
     "name": "stdout",
     "output_type": "stream",
     "text": [
      "combined_df.loc['ticker_w_inf']\n"
     ]
    },
    {
     "data": {
      "text/plain": [
       "Sharpe 3d       126.085003\n",
       "Sortino 3d             inf\n",
       "Omega 3d               NaN\n",
       "Sharpe 5d         4.034383\n",
       "Sortino 5d        8.064942\n",
       "Omega 5d          1.924264\n",
       "Sharpe 10d       -0.956182\n",
       "Sortino 10d      -1.220669\n",
       "Omega 10d         0.853372\n",
       "Sharpe 15d       -2.512958\n",
       "Sortino 15d      -3.275473\n",
       "Omega 15d         0.667087\n",
       "Sharpe 30d       -2.219283\n",
       "Sortino 30d      -2.869821\n",
       "Omega 30d         0.682933\n",
       "Sharpe 60d       -3.876319\n",
       "Sortino 60d      -4.657703\n",
       "Omega 60d         0.504206\n",
       "Sharpe 120d      -1.370490\n",
       "Sortino 120d     -1.826723\n",
       "Omega 120d        0.785056\n",
       "Sharpe 250d      -0.883366\n",
       "Sortino 250d     -1.164987\n",
       "Omega 250d        0.853758\n",
       "Name: A, dtype: float64"
      ]
     },
     "metadata": {},
     "output_type": "display_data"
    },
    {
     "name": "stdout",
     "output_type": "stream",
     "text": [
      "\n",
      "df_to_save.loc['ticker_w_inf']\n"
     ]
    },
    {
     "data": {
      "text/plain": [
       "Sharpe 3d        126.085003\n",
       "Sortino 3d      8757.817872\n",
       "Omega 3d         781.208427\n",
       "Sharpe 5d          4.034383\n",
       "Sortino 5d         8.064942\n",
       "Omega 5d           1.924264\n",
       "Sharpe 10d        -0.956182\n",
       "Sortino 10d       -1.220669\n",
       "Omega 10d          0.853372\n",
       "Sharpe 15d        -2.512958\n",
       "Sortino 15d       -3.275473\n",
       "Omega 15d          0.667087\n",
       "Sharpe 30d        -2.219283\n",
       "Sortino 30d       -2.869821\n",
       "Omega 30d          0.682933\n",
       "Sharpe 60d        -3.876319\n",
       "Sortino 60d       -4.657703\n",
       "Omega 60d          0.504206\n",
       "Sharpe 120d       -1.370490\n",
       "Sortino 120d      -1.826723\n",
       "Omega 120d         0.785056\n",
       "Sharpe 250d       -0.883366\n",
       "Sortino 250d      -1.164987\n",
       "Omega 250d         0.853758\n",
       "Name: A, dtype: float64"
      ]
     },
     "metadata": {},
     "output_type": "display_data"
    }
   ],
   "source": [
    "print(f\"combined_df.loc['ticker_w_inf']\")\n",
    "display(combined_df.loc[ticker_w_inf])\n",
    "print(f\"\\ndf_to_save.loc['ticker_w_inf']\")\n",
    "display(df_to_save.loc[ticker_w_inf])"
   ]
  },
  {
   "cell_type": "code",
   "execution_count": 15,
   "metadata": {
    "execution": {
     "iopub.execute_input": "2025-04-23T23:42:30.457111Z",
     "iopub.status.busy": "2025-04-23T23:42:30.457111Z",
     "iopub.status.idle": "2025-04-23T23:42:30.483952Z",
     "shell.execute_reply": "2025-04-23T23:42:30.482955Z"
    }
   },
   "outputs": [
    {
     "name": "stdout",
     "output_type": "stream",
     "text": [
      "DataFrame successfully saved to ..\\data\\2025-04-23_df_perf_ratios.parquet\n"
     ]
    }
   ],
   "source": [
    "# Save the DataFrame to parquet file (always do this)\n",
    "df_to_save.to_parquet(dest_path, engine='pyarrow', compression='zstd')\n",
    "print(f\"DataFrame successfully saved to {dest_path}\")\n",
    "\n"
   ]
  },
  {
   "cell_type": "code",
   "execution_count": 16,
   "metadata": {
    "execution": {
     "iopub.execute_input": "2025-04-23T23:42:30.487952Z",
     "iopub.status.busy": "2025-04-23T23:42:30.486952Z",
     "iopub.status.idle": "2025-04-23T23:42:30.507798Z",
     "shell.execute_reply": "2025-04-23T23:42:30.506783Z"
    }
   },
   "outputs": [
    {
     "name": "stdout",
     "output_type": "stream",
     "text": [
      "+------+-------------+--------------+------------+-------------+--------------+------------+--------------+---------------+-------------+--------------+---------------+-------------+--------------+---------------+-------------+--------------+---------------+-------------+---------------+----------------+--------------+---------------+----------------+--------------+\n",
      "|      |   Sharpe 3d |   Sortino 3d |   Omega 3d |   Sharpe 5d |   Sortino 5d |   Omega 5d |   Sharpe 10d |   Sortino 10d |   Omega 10d |   Sharpe 15d |   Sortino 15d |   Omega 15d |   Sharpe 30d |   Sortino 30d |   Omega 30d |   Sharpe 60d |   Sortino 60d |   Omega 60d |   Sharpe 120d |   Sortino 120d |   Omega 120d |   Sharpe 250d |   Sortino 250d |   Omega 250d |\n",
      "+======+=============+==============+============+=============+==============+============+==============+===============+=============+==============+===============+=============+==============+===============+=============+==============+===============+=============+===============+================+==============+===============+================+==============+\n",
      "| USFR |     -8.9851 |      -9.9809 |     0.1108 |      1.9453 |       3.5310 |     1.4449 |      -0.3193 |       -0.4925 |      0.9418 |      -2.4685 |       -3.2136 |      0.6341 |      -1.8625 |       -2.6024 |      0.7269 |      -0.6459 |       -0.9043 |      0.8981 |        2.2697 |         3.5811 |       1.4607 |        2.4060 |         3.7827 |       1.4795 |\n",
      "+------+-------------+--------------+------------+-------------+--------------+------------+--------------+---------------+-------------+--------------+---------------+-------------+--------------+---------------+-------------+--------------+---------------+-------------+---------------+----------------+--------------+---------------+----------------+--------------+\n",
      "| AAPL |     66.9795 |    8757.8179 |   781.2084 |      8.9293 |      21.2395 |     3.6759 |       1.7656 |        2.6850 |      1.3000 |      -1.2684 |       -1.9802 |      0.8076 |      -0.4748 |       -0.7227 |      0.9142 |      -1.0764 |       -1.5500 |      0.8079 |       -0.6064 |        -0.8638 |       0.8847 |        0.6438 |         0.9567 |       1.1350 |\n",
      "+------+-------------+--------------+------------+-------------+--------------+------------+--------------+---------------+-------------+--------------+---------------+-------------+--------------+---------------+-------------+--------------+---------------+-------------+---------------+----------------+--------------+---------------+----------------+--------------+\n",
      "| MSFT |    582.6925 |    8757.8179 |   781.2084 |      1.3341 |       2.3249 |     1.2221 |      -3.4440 |       -4.3079 |      0.5914 |      -0.4842 |       -0.9400 |      0.9150 |      -0.3997 |       -0.7150 |      0.9265 |      -2.1398 |       -3.0785 |      0.6614 |       -0.9786 |        -1.3746 |       0.8308 |       -0.3687 |        -0.5088 |       0.9352 |\n",
      "+------+-------------+--------------+------------+-------------+--------------+------------+--------------+---------------+-------------+--------------+---------------+-------------+--------------+---------------+-------------+--------------+---------------+-------------+---------------+----------------+--------------+---------------+----------------+--------------+\n",
      "| GOOG |    270.2921 |    8757.8179 |   781.2084 |      2.2406 |       4.3014 |     1.3946 |      -1.4363 |       -2.0348 |      0.8186 |      -0.0274 |       -0.0504 |      0.9955 |      -1.1408 |       -1.7530 |      0.8304 |      -2.2312 |       -2.9761 |      0.6892 |       -0.3929 |        -0.5656 |       0.9368 |       -0.0231 |        -0.0332 |       0.9960 |\n",
      "+------+-------------+--------------+------------+-------------+--------------+------------+--------------+---------------+-------------+--------------+---------------+-------------+--------------+---------------+-------------+--------------+---------------+-------------+---------------+----------------+--------------+---------------+----------------+--------------+\n",
      "| NVDA |     36.2350 |    8757.8179 |   781.2084 |     -1.5428 |      -2.2780 |     0.7922 |      -4.4274 |       -5.0789 |      0.5044 |      -0.7381 |       -1.2607 |      0.8786 |      -0.9640 |       -1.5560 |      0.8356 |      -1.0929 |       -1.5654 |      0.8281 |       -0.8050 |        -1.0933 |       0.8679 |        0.6615 |         0.9583 |       1.1193 |\n",
      "+------+-------------+--------------+------------+-------------+--------------+------------+--------------+---------------+-------------+--------------+---------------+-------------+--------------+---------------+-------------+--------------+---------------+-------------+---------------+----------------+--------------+---------------+----------------+--------------+\n",
      "| IBIT |     29.6850 |    8757.8179 |   781.2084 |     24.1795 |    5588.4762 |   705.0818 |       8.1331 |       18.4320 |      3.7725 |       2.2618 |        3.5002 |      1.4327 |       2.0560 |        3.2946 |      1.3851 |      -0.4502 |       -0.6179 |      0.9304 |        1.1650 |         1.8413 |       1.2133 |        0.9008 |         1.3794 |       1.1597 |\n",
      "+------+-------------+--------------+------------+-------------+--------------+------------+--------------+---------------+-------------+--------------+---------------+-------------+--------------+---------------+-------------+--------------+---------------+-------------+---------------+----------------+--------------+---------------+----------------+--------------+\n",
      "| GLD  |    -44.1652 |     -15.3854 |     0.0000 |     -2.0333 |      -3.4217 |     0.7151 |       5.3664 |       11.3890 |      2.2784 |       2.7972 |        5.1752 |      1.5309 |       4.0386 |        7.5944 |      1.9794 |       3.6380 |        6.5774 |      1.8740 |        1.8295 |         2.7758 |       1.3567 |        1.9404 |         2.9207 |       1.3770 |\n",
      "+------+-------------+--------------+------------+-------------+--------------+------------+--------------+---------------+-------------+--------------+---------------+-------------+--------------+---------------+-------------+--------------+---------------+-------------+---------------+----------------+--------------+---------------+----------------+--------------+\n",
      "| TBIL |  23221.9017 |    8757.8179 |   781.2084 |      5.7684 |      18.3218 |     3.3083 |       1.6506 |        3.3480 |      1.3653 |       1.0880 |        1.9920 |      1.1917 |       1.4284 |        2.4264 |      1.2603 |       0.6661 |        1.0160 |      1.1102 |        1.1069 |         1.6921 |       1.1833 |        2.1548 |         3.6556 |       1.4070 |\n",
      "+------+-------------+--------------+------------+-------------+--------------+------------+--------------+---------------+-------------+--------------+---------------+-------------+--------------+---------------+-------------+--------------+---------------+-------------+---------------+----------------+--------------+---------------+----------------+--------------+\n"
     ]
    }
   ],
   "source": [
    "import pandas as pd\n",
    "import numpy as np\n",
    "from tabulate import tabulate\n",
    "\n",
    "_symbols = ['USFR','AAPL', 'MSFT', 'GOOG', 'NVDA', 'IBIT', 'GLD', 'TBIL']\n",
    "# Create and display the formatted table\n",
    "selected_df = df_to_save.loc[_symbols] #Use df_to_save here\n",
    "print(tabulate(selected_df, headers='keys', tablefmt='grid', floatfmt='.4f'))"
   ]
  },
  {
   "cell_type": "code",
   "execution_count": null,
   "metadata": {},
   "outputs": [],
   "source": []
  }
 ],
 "metadata": {
  "kernelspec": {
   "display_name": ".venv",
   "language": "python",
   "name": "python3"
  },
  "language_info": {
   "codemirror_mode": {
    "name": "ipython",
    "version": 3
   },
   "file_extension": ".py",
   "mimetype": "text/x-python",
   "name": "python",
   "nbconvert_exporter": "python",
   "pygments_lexer": "ipython3",
   "version": "3.11.9"
  }
 },
 "nbformat": 4,
 "nbformat_minor": 2
}
