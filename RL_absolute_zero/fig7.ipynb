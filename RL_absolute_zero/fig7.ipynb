{
 "cells": [
  {
   "cell_type": "code",
   "execution_count": 10,
   "id": "9a774c1e",
   "metadata": {},
   "outputs": [
    {
     "name": "stdout",
     "output_type": "stream",
     "text": [
      "Input (numbers): [2, -1, 1]\n",
      "Input (target):  1\n",
      "---\n",
      "Function Output: 1\n",
      "\n",
      "Input (numbers): [1, 2]\n",
      "Input (target):  1\n",
      "---\n",
      "Function Output: 0\n",
      "\n",
      "Input (numbers): [1, 2, 3, 4, 5]\n",
      "Input (target):  5\n",
      "---\n",
      "Function Output: 1\n",
      "\n"
     ]
    }
   ],
   "source": [
    "def f(numbers: list[int], target: int) -> int:\n",
    "    \"\"\"\n",
    "    This is the function shown in Figure 7 of the paper.\n",
    "    It calculates cumulative sums of the input numbers and then searches\n",
    "    for a pair of cumulative sums whose difference equals the target.\n",
    "    \"\"\"\n",
    "    accumulated_values = []\n",
    "    current_sum = 0\n",
    "    for number in numbers:\n",
    "        current_sum += number\n",
    "        accumulated_values.append(current_sum)\n",
    "\n",
    "    # Initialize a default result for the case where no match is found.\n",
    "    result = 0\n",
    "    for i in range(len(accumulated_values)):\n",
    "        for j in range(i + 1, len(accumulated_values)):\n",
    "            # The backslash in the paper's image represents subtraction.\n",
    "            if accumulated_values[j] - accumulated_values[i] == target:\n",
    "                # If a match is found, set the result to the first\n",
    "                # value in the pair and return immediately.\n",
    "                result = accumulated_values[i]\n",
    "                return result\n",
    "    \n",
    "    # If the loops complete without finding a match, return the default value.\n",
    "    return result\n",
    "\n",
    "# --- Runnable Example ---\n",
    "# This uses the input that the model in the paper found to produce the output '1'.\n",
    "numbers_input = [2, -1, 1]\n",
    "target_input = 1\n",
    "\n",
    "# Call the function with the example inputs\n",
    "output = f(numbers_input, target_input)\n",
    "\n",
    "\n",
    "# Print the inputs and the resulting output\n",
    "print(f\"Input (numbers): {numbers_input}\")\n",
    "print(f\"Input (target):  {target_input}\")\n",
    "print(f\"---\")\n",
    "print(f\"Function Output: {output}\\n\")\n",
    "\n",
    "\n",
    "# You can also test the first failed attempt from the paper:\n",
    "numbers_input_fail = [1, 2]\n",
    "target_input_fail = 1\n",
    "output_fail = f(numbers_input_fail, target_input_fail)\n",
    "\n",
    "\n",
    "# Print the inputs and the resulting output\n",
    "print(f\"Input (numbers): {numbers_input_fail}\")\n",
    "print(f\"Input (target):  {target_input_fail}\")\n",
    "print(f\"---\")\n",
    "print(f\"Function Output: {output_fail}\\n\") # This will be 0\n",
    "\n",
    "\n",
    "# fig. 7 input\n",
    "numbers_input_fig7 = [1, 2, 3, 4, 5]\n",
    "target_input_fig7 = 5\n",
    "output_fig7 = f(numbers_input_fig7, target_input_fig7)\n",
    "\n",
    "print(f\"Input (numbers): {numbers_input_fig7}\")\n",
    "print(f\"Input (target):  {target_input_fig7}\")\n",
    "print(f\"---\")\n",
    "print(f\"Function Output: {output_fig7}\\n\")"
   ]
  },
  {
   "cell_type": "code",
   "execution_count": 7,
   "id": "72d5337f",
   "metadata": {},
   "outputs": [
    {
     "name": "stdout",
     "output_type": "stream",
     "text": [
      "0\n",
      "1\n",
      "2\n",
      "3\n",
      "4\n"
     ]
    }
   ],
   "source": [
    "for i in range(5):\n",
    "    print(i)"
   ]
  }
 ],
 "metadata": {
  "kernelspec": {
   "display_name": "py311-py3.11",
   "language": "python",
   "name": "python3"
  },
  "language_info": {
   "codemirror_mode": {
    "name": "ipython",
    "version": 3
   },
   "file_extension": ".py",
   "mimetype": "text/x-python",
   "name": "python",
   "nbconvert_exporter": "python",
   "pygments_lexer": "ipython3",
   "version": "3.11.9"
  }
 },
 "nbformat": 4,
 "nbformat_minor": 5
}
